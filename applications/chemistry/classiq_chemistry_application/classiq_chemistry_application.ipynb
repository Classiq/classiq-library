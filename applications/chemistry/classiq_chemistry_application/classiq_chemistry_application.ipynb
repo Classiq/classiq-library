{
 "cells": [
  {
   "cell_type": "markdown",
   "id": "cbad17b4-2daa-4901-8a4b-1a4e22d53ed2",
   "metadata": {},
   "source": [
    "# Classiq Chemistry Application"
   ]
  },
  {
   "cell_type": "markdown",
   "id": "890b4f90-df8f-4bf3-9616-d58493b37f39",
   "metadata": {},
   "source": [
    "This tutorial presents the functionality of Classiq's Chemistry application module. The application is based on the OpenFermion package [[1](#OF)], which is a comprehensive library for defining and analyzing Fermionic systems, in particular quantum chemistry problems. It provides efficient tools for transforming Fermionic operators to Pauli operators, which are then can be used with Qmod to define quantum algorithms (for more details see their [OpenFermion intro tutorial](https://quantumai.google/openfermion/tutorials/intro_to_openfermion) [[2](#OFintro)]).\n",
    "\n",
    "The different classes and functions of Classiq's chemistry application is demonstrated below by implementing a Variational Quantum Eigensolver (VQE). A collection of concrete and concise VQE and QPE examples for chemistry can be found in the [chemistry application directory](https://github.com/Classiq/classiq-library/tree/main/applications/chemistry)."
   ]
  },
  {
   "cell_type": "markdown",
   "id": "e5cb14f1-004e-448b-9b06-ac42f03121fa",
   "metadata": {},
   "source": [
    "***\n",
    "## The `FermionHamiltonianProblem` class: Defining an Electronic structure problem.\n",
    "\n",
    "There are two ways of defining an electronic structure problem, either providing `MolecularData` of a molecule, or by directly defining a Fermionic Hamiltonian together with the number of spin up/down ($\\alpha/\\beta$) particles. Below we demonstrate the former, which is a more practical usecase. For the direct definition see [this](https://github.com/Classiq/classiq-library/blob/main/applications/chemistry/second_quantized_hamiltonian/second_quantized_hamiltonian.ipynb) example.\n",
    "***"
   ]
  },
  {
   "cell_type": "markdown",
   "id": "9c71d9a3-e01b-4b21-9130-06b475ee458d",
   "metadata": {},
   "source": [
    "### Defining a molecule\n",
    "\n",
    "We start with defining a molecule, specifying its geometry (elements and their 3D position), multiplicity ($2\\cdot(\\text{total spin})+1$), basis, and an optional string for its description. In this tutorial we focus on the LiH molecule. There are several ways to get geometry of molecules, typical way involves using the *SMILES* (Simplified Molecular Input Line Entry System) of a molecule and use a chemical package such as `RDkit` to extract the geometry as an `xyz` file (a code example is given in the Appendix A of this notebook). For simplicity, we store the geometry in advance in the `lih.xyz` file and load it.\n",
    "\n",
    "*Comment: For complex molecules it is possible to call directly `from openfermion.chem import geometry_from_pubchem`*"
   ]
  },
  {
   "cell_type": "code",
   "execution_count": 1,
   "id": "7a2d1626-0669-46a2-9c91-024487bbf38a",
   "metadata": {},
   "outputs": [],
   "source": [
    "!pip install -qq \"classiq[chemistry]\""
   ]
  },
  {
   "cell_type": "code",
   "execution_count": 2,
   "id": "fba9a0e8-06cd-4d63-ab07-d13bf3999c03",
   "metadata": {
    "ExecuteTime": {
     "end_time": "2025-04-10T09:34:03.903578Z",
     "start_time": "2025-04-10T09:34:02.388423Z"
    }
   },
   "outputs": [
    {
     "name": "stdout",
     "output_type": "stream",
     "text": [
      "[('Li', (0.833472, 0.0, 0.0)), ('H', (-0.833472, 0.0, 0.0))]\n"
     ]
    }
   ],
   "source": [
    "import pathlib\n",
    "\n",
    "from openfermion.chem import MolecularData\n",
    "\n",
    "path = (\n",
    "    pathlib.Path(__file__).parent.resolve()\n",
    "    if \"__file__\" in locals()\n",
    "    else pathlib.Path(\".\")\n",
    ")\n",
    "geometry_file = path / \"lih.xyz\"\n",
    "\n",
    "# Set up molecule parameters\n",
    "basis = \"sto-3g\"  # Basis set\n",
    "multiplicity = 1  # Singlet state S=0\n",
    "charge = 0  # Neutral molecule\n",
    "\n",
    "# geometry\n",
    "with open(geometry_file, \"r\") as f:\n",
    "    lines = f.readlines()\n",
    "    atom_lines = lines[2:]  # skip atom count and comment\n",
    "    geometry = []\n",
    "    for line in atom_lines:\n",
    "        parts = line.strip().split()\n",
    "        symbol = parts[0]\n",
    "        coords = tuple(float(x) for x in parts[1:4])\n",
    "        geometry.append((symbol, coords))\n",
    "\n",
    "print(geometry)\n",
    "description = \"LiH\"\n",
    "\n",
    "# Create MolecularData object\n",
    "molecule = MolecularData(geometry, basis, multiplicity, charge, description)"
   ]
  },
  {
   "cell_type": "markdown",
   "id": "f3ca6546-9450-46ef-95a3-b4e26f2637e6",
   "metadata": {},
   "source": [
    "Next, we run a pyscf plugin for calculating various objects for our molecule problem, such as the second quantized Hamiltonian that is at the core of the VQE algorithm. For small problems, we can also get the Full Configuration Interaction (FCI), which calculates classically the ground state energy, i.e., for validating our quantum approach.\n",
    "\n",
    "*Comment: For complex problems running pyscf can take time, it is possible to run it only once, and load the data later on, using the `save` and `load` methods*."
   ]
  },
  {
   "cell_type": "code",
   "execution_count": 3,
   "id": "db06a8be-7e78-4a20-84ec-e63d082ac0ac",
   "metadata": {
    "ExecuteTime": {
     "end_time": "2025-04-10T09:34:04.224339Z",
     "start_time": "2025-04-10T09:34:03.904872Z"
    }
   },
   "outputs": [],
   "source": [
    "from openfermionpyscf import run_pyscf\n",
    "\n",
    "RECALCULATE_MOLECULE = True  # can be set to False after initial run\n",
    "if RECALCULATE_MOLECULE:\n",
    "    molecule = run_pyscf(\n",
    "        molecule,\n",
    "        run_mp2=True,\n",
    "        run_cisd=True,\n",
    "        run_ccsd=True,\n",
    "        run_fci=True,  # relevant for small, classically solvable problems\n",
    "    )\n",
    "    molecule.save()\n",
    "\n",
    "molecule.load()"
   ]
  },
  {
   "cell_type": "markdown",
   "id": "23e67540-a623-4356-bbe2-8ae21c439ef9",
   "metadata": {},
   "source": [
    "Now we can get several properties of our molecular problem. The electronic structure problem is described as a second quantized Hamiltonian\n",
    "$$\n",
    "\\Large H = h_0 + \\sum_{p,q=0}^{2N-1} h_{pq}\\, a^\\dagger_p a_q + \\frac{1}{2} \\sum_{p,q,r,s=0}^{2N-1} h_{pqrs} \\, a^\\dagger_p a^\\dagger_q a_r a_s,\n",
    "\\tag{1}\n",
    "$$\n",
    "where $h_0$ is a constant nuclear repulsion energy, and $h_{pq}$ and $h_{pqrs}$ are the well-known one-body and two-body molecular integrals, respectively. The sum is over all spin orbitals, which is twice the number of spatial orbitals $N$, as for each spatial orbital we have a spin up and spin down space (also known, and refer hereafter, as $\\alpha$ and $\\beta$ particles). This, together with the number of free electrons that can occupy those orbitals, define the electronic structure problem."
   ]
  },
  {
   "cell_type": "code",
   "execution_count": 4,
   "id": "5d3506ad-f775-4caf-a78b-76122b82c646",
   "metadata": {
    "ExecuteTime": {
     "end_time": "2025-04-10T09:34:04.225648Z",
     "start_time": "2025-04-10T09:34:04.224142Z"
    }
   },
   "outputs": [
    {
     "name": "stdout",
     "output_type": "stream",
     "text": [
      "The electronic structure problems has 12 spin orbitals, and we need to occupy 4 electrons.\n",
      "The spatial orbitals energies are: [-2.35046066 -0.27949547  0.07757097  0.16391248  0.16391248  0.52864126]\n"
     ]
    }
   ],
   "source": [
    "print(\n",
    "    f\"The electronic structure problems has {2*molecule.n_orbitals} spin orbitals, and we need to occupy {molecule.n_electrons} electrons.\"\n",
    ")\n",
    "print(f\"The spatial orbitals energies are: {molecule.orbital_energies}\")"
   ]
  },
  {
   "cell_type": "markdown",
   "id": "c66fa058-957d-490a-8e9a-c937ca7e5155",
   "metadata": {},
   "source": [
    "### Defining a reduced problem (active space/freeze core)\n",
    "\n",
    "In some cases, we can \"freeze\" some of the orbitals, occupying them with both spin up and spin down electrons. This will be orbitals with very low energy, such as the core orbitals, which are expected to be \"classically\" (with both spin up and down) occupied.  In addition, we can exclude orbitals with very high energies, as they are unlikely to contribute significantly to the ground state. In other words, we can choose the active space for our molecular problem --- the spatial orbitals that are relevant to the quantum problem. This of-course reduces the problem we need to tackle.\n",
    "\n",
    "\n",
    "Below we define a `FermionHamiltonianProblem` for the LiH molecule, freezing its core ($0^{\\rm th}$) orbital. The updated number of spatial orbitals and electrons are a property of the class."
   ]
  },
  {
   "cell_type": "code",
   "execution_count": 5,
   "id": "a28a9671-ba18-4aec-b742-a6cfddd5365f",
   "metadata": {
    "ExecuteTime": {
     "end_time": "2025-04-10T09:34:04.233554Z",
     "start_time": "2025-04-10T09:34:04.227260Z"
    }
   },
   "outputs": [
    {
     "name": "stdout",
     "output_type": "stream",
     "text": [
      "Reduced number of spatial orbitals after freeze core: 5\n",
      "Reduced number of (alpha,beta) electrons after freeze core: (1, 1)\n",
      "Length of Hamiltonian in Fermionic representation: 811\n"
     ]
    }
   ],
   "source": [
    "from classiq.applications.chemistry.problems import FermionHamiltonianProblem\n",
    "\n",
    "# Define a FermionHamiltonianProblem in an active space\n",
    "first_active_index = 1\n",
    "problem = FermionHamiltonianProblem.from_molecule(\n",
    "    molecule=molecule,\n",
    "    first_active_index=first_active_index,  # freeze orbitals below the first index\n",
    "    remove_orbitlas=[],  # remove orbitals\n",
    ")\n",
    "\n",
    "print(f\"Reduced number of spatial orbitals after freeze core: {problem.n_orbitals}\")\n",
    "print(\n",
    "    f\"Reduced number of (alpha,beta) electrons after freeze core: {problem.n_particles}\"\n",
    ")\n",
    "\n",
    "print(\n",
    "    f\"Length of Hamiltonian in Fermionic representation: {len(problem.fermion_hamiltonian.terms)}\"\n",
    ")"
   ]
  },
  {
   "cell_type": "markdown",
   "id": "c4c30b3e-27f4-4f9b-bea0-68f664f3f3fb",
   "metadata": {},
   "source": [
    "Let us look at several terms of our Fermionic operator:"
   ]
  },
  {
   "cell_type": "code",
   "execution_count": 6,
   "id": "ef5c404b-d33f-4d1e-86c7-a64effe820cd",
   "metadata": {
    "ExecuteTime": {
     "end_time": "2025-04-10T09:34:04.240008Z",
     "start_time": "2025-04-10T09:34:04.235441Z"
    }
   },
   "outputs": [
    {
     "name": "stdout",
     "output_type": "stream",
     "text": [
      "((), -6.817329071667983)\n",
      "(((0, 1), (0, 0)), -0.7621826148518264)\n",
      "(((0, 1), (1, 0)), 0.049739077075891036)\n",
      "(((0, 1), (4, 0)), -0.12350856641975391)\n",
      "(((5, 1), (5, 0)), -0.7621826148518264)\n",
      "(((9, 1), (9, 1), (9, 0), (9, 0)), 0.22555659839798667)\n",
      "(((9, 1), (9, 1), (9, 0), (6, 0)), -0.022199146730809072)\n",
      "(((9, 1), (9, 1), (9, 0), (5, 0)), 0.06490533159641326)\n",
      "(((9, 1), (9, 1), (8, 0), (8, 0)), 0.00990347751080244)\n",
      "(((9, 1), (9, 1), (7, 0), (7, 0)), 0.00990347751080244)\n"
     ]
    }
   ],
   "source": [
    "print(*list(problem.fermion_hamiltonian.terms.items())[:5], sep=\"\\n\")\n",
    "print(*list(problem.fermion_hamiltonian.terms.items())[::-1][:5], sep=\"\\n\")"
   ]
  },
  {
   "cell_type": "markdown",
   "id": "2a49ea33-8cee-466d-a5f0-1a13bfe245f3",
   "metadata": {},
   "source": [
    "We can see one-body terms $((i,1),(j,0))$ that refer to $a_i^{\\dagger}a_j$, and two-body terms $((i,1),(j,1),(k,0),(l,0))$ that corresponds to $a_i^{\\dagger}a_j^{\\dagger}a_ka_l$."
   ]
  },
  {
   "cell_type": "markdown",
   "id": "cf7ada21-0ccb-48d7-9414-1529b23cee9c",
   "metadata": {},
   "source": [
    "<div style=\"background-color:#f0f8ff; border-left: 5px solid #0077cc; padding: 10px;\">\n",
    "<strong> Orbital labeling: </strong> For $N$ spatial orbitals we have $N_\\alpha (\\text{spin up})+N_\\beta (\\text{spin down})=2N$ electron orbitals. The Classiq object for the electronic structure problem is defined according to block spin labeling $(0_\\uparrow, 1_\\uparrow, \\dots, (N-1)_\\uparrow, 0_\\downarrow,1_\\downarrow\\dots, (N-1)_\\downarrow$). This is opposed to the OpenFermion conventions, that has alternating spin labeling $(0_\\uparrow, 0_\\downarrow, 1_\\uparrow, 1_\\downarrow,\\dots, (N-1)_\\uparrow, (N-1)_\\downarrow$). When transforming the problem to a Qubit Hamiltonian, described by Pauli strings, different labeling conventions can result in different Hamiltonians, which in turn, might  lead to different quantum circuits in terms of depth or cx-counts.\n",
    "</div>\n"
   ]
  },
  {
   "cell_type": "markdown",
   "id": "4acfdde7-d608-41ce-821e-f05c6a00d8ba",
   "metadata": {},
   "source": [
    "***\n",
    "## The `FermionToQubitMapper` class: From Fock space to Qubit space\n",
    "***\n",
    "\n",
    "<!-- In this part we define the following transformations:\n",
    "$$\n",
    "\\large \\text{Fermionic Fock space}\\xrightarrow{\\text{JW}} \\text{Hilbert space for qubits} \\xrightarrow{\\text{Clifford transformation}} \\text{eigenspace of } \\mathbb{Z}_2 \\text{ symmetries} \\xrightarrow{\\text{tapering}} \\text{Reduced space},\n",
    "$$\n",
    "where JW stands for the Jordan-Wigner transform. -->"
   ]
  },
  {
   "cell_type": "markdown",
   "id": "4fdebf94-ff6b-40cb-9baf-912cc7f1d685",
   "metadata": {},
   "source": [
    "### Transforming to Qubit Hamiltonian (Pauli strings)\n",
    "\n",
    "Typically, when dealing with Fock space operators we need to transform the creation/annihilation operators to Pauli operators, suitable for quantum algorithms. There are several known transforms, such as Jordan Wigner (JW) and Bravyi Kitaev (BK) transforms."
   ]
  },
  {
   "cell_type": "code",
   "execution_count": 7,
   "id": "ad5347f8-ef2c-45f0-9cd6-b2a5bafa3d7c",
   "metadata": {
    "ExecuteTime": {
     "end_time": "2025-04-10T09:34:04.300403Z",
     "start_time": "2025-04-10T09:34:04.278868Z"
    }
   },
   "outputs": [
    {
     "name": "stdout",
     "output_type": "stream",
     "text": [
      "Length of Hamiltonian in Pauli representation: 276\n",
      "Example of Pauli Hamiltonian terms:\n",
      "((), -5.750184614764152)\n",
      "(((0, 'Z'),), -0.29670485079927406)\n",
      "(((0, 'Y'), (1, 'Y')), -0.0025472629069889555)\n",
      "(((0, 'X'), (1, 'X')), -0.0025472629069889555)\n",
      "(((0, 'Y'), (1, 'Z'), (2, 'Z'), (3, 'Z'), (4, 'Y')), -0.01778020141438094)\n"
     ]
    }
   ],
   "source": [
    "from classiq.applications.chemistry.mapping import FermionToQubitMapper, MappingMethod\n",
    "\n",
    "mapper = FermionToQubitMapper(method=MappingMethod.JORDAN_WIGNER)\n",
    "\n",
    "qubit_hamiltonian = mapper.map(problem.fermion_hamiltonian)\n",
    "qubit_hamiltonian.compress(abs_tol=1e-13)  # trimming\n",
    "\n",
    "print(f\"Length of Hamiltonian in Pauli representation: {len(qubit_hamiltonian.terms)}\")\n",
    "print(\"Example of Pauli Hamiltonian terms:\")\n",
    "print(*list(qubit_hamiltonian.terms.items())[:5], sep=\"\\n\")"
   ]
  },
  {
   "cell_type": "markdown",
   "id": "bc952d5c-5189-40fc-b9ca-7cf888ee281f",
   "metadata": {},
   "source": [
    "### Hartree Fock state\n",
    "\n",
    "Once we have a problem and a mapper in hand, we can construct some quantum primitives. One example is the Hartree Fock state, typically used as an initial condition for ground state solvers. For the Jordan Wigner or the Bravyi Kitaev transforms, the Hartree Fock state, which is an elementary basis state in the Fock space, is mapped into a single computational basis state. This state can be determined using the  `get_hf_state` function.\n",
    "\n",
    "<!-- The Hartree Fock state refers to excitation of all the lower energy orbitals,  -->\n",
    "\n",
    "<!-- . We In OpenFermion notation, these refer to the lowest orbital indices. Thus, if we have $M$ free electrons, we just excite the first $M$ states. This is captured by operating on the zero state with the operator -->\n",
    "<!-- $$ -->\n",
    "<!-- H_{\\rm HF} = \\Pi^{M}_{i=0} a^{\\dagger}_{i}. -->\n",
    "<!-- $$ -->\n",
    "\n"
   ]
  },
  {
   "cell_type": "code",
   "execution_count": 8,
   "id": "aed823eb-5c53-493a-be60-296b51d5cbca",
   "metadata": {
    "ExecuteTime": {
     "end_time": "2025-04-10T09:34:04.300635Z",
     "start_time": "2025-04-10T09:34:04.280858Z"
    }
   },
   "outputs": [
    {
     "name": "stdout",
     "output_type": "stream",
     "text": [
      "The HF state: 1000010000\n"
     ]
    }
   ],
   "source": [
    "from classiq.applications.chemistry.hartree_fock import get_hf_state\n",
    "\n",
    "hf_state = get_hf_state(problem, mapper)\n",
    "print(f\"The HF state: {''.join(['1' if val else '0' for val in hf_state])}\")"
   ]
  },
  {
   "cell_type": "markdown",
   "id": "cfe1c7de-232f-4389-a61a-0a6bb44d5a09",
   "metadata": {},
   "source": [
    "<div style=\"background-color:#f0f8ff; border-left: 5px solid #0077cc; padding: 10px;\">\n",
    "<strong> HF state under the JW transform: :</strong> Working with the JW transform, there is a simple relation between the original Fock (occupation number) and transformed (computational) basis states: the state $|\\underbrace{0\\dots 0}_{k-1}10\\dots 0\\rangle$ corresponds to occupation of the $k$-th spin orbital in both spaces. Therefore, the Hartree Fock state under this transformation is the string $|\\underbrace{1\\dots 1}_{N_{\\alpha}}00\\dots 0\\underbrace{1\\dots 1}_{N_{\\beta}}0\\dots 0\\rangle$. (This is as opposed to the BK transform, that gives a different computational basis state).\n",
    "</div>\n"
   ]
  },
  {
   "cell_type": "markdown",
   "id": "5cc2d6cf-462c-4794-980b-e10c1ba11140",
   "metadata": {},
   "source": [
    "***\n",
    "## The `Z2SymTaperMapper` class: From Fock space to reduced Qubit space by using symmetries \n",
    "***\n",
    "\n",
    "Using symmetries of the second quantized Hamiltonian, one can reduce the number of qubits representing the problem by removing (tapering) qubits.\n",
    "The theory of qubit tapering is broad and complex, see for example Refs [[3](#sym1)] and [[4](#sym2)]. The `Z2SymTaperMapper` defines a mapper that includes qubit tapering. It can be initialized by providing $\\mathbb{Z}_2$ symmetries data (set of generators and Pauli $X$ operators) explicitly, or by providing a Fermionic Hamiltonian problem. In the latter case, that is introduced below, the $\\mathbb{Z}_2$ symmetries are deduced from the problem Hamiltonian. This is done via the `from_problem` method.\n",
    "\n",
    "**In the following section we provide some mathematical explanation of what is happening behind the secens when defining the `Z2SymTaperMapper`. All the logic presented below is incorporated as part of this class. The advanced reader is encouraged to follow this part, while less experienced readers may choose to skip ahead to the *Constructing a VQE* section without loss of continuity.**"
   ]
  },
  {
   "cell_type": "markdown",
   "id": "66e96e41-1317-459c-bc1e-7c133a594d01",
   "metadata": {},
   "source": [
    "### Reducing the problem size with $\\mathbb{Z}_2$ symmetries (qubit tapering)\n",
    "\n",
    "The main steps of qubit tapering is as follows (see some technical details in Appendix B at the end of this notebook):\n",
    "\n",
    "1. Find generators $\\left\\{g^{(i)}\\right\\}^k_{i=1}$ for a group of operators that commute with the Hamiltonian $H$: for all $g\\in \\langle g^{(1)},\\dots g^{(k)}\\rangle$, $\\left[H, g\\right] = 0$. That means that there is a basis in which both $H$ and such $g$ operators are diagonal. These operators are assumed to be a single Pauli string, typically containing only Pauli $Z$ operators.\n",
    "2. Find a unitary transformation $U$ that diagonalizes all $g^{(i)}$, such that each generator operates trivially on all qubits except one, e.g., they transform to operators of the form $X_{l}$ for some qubit number $l$. It can be shown that such unitary can be constructed as $\\Pi^k_{i=1}\\frac{1}{\\sqrt{2}}\\left(X_{m^{(i)}}+g^{(i)}\\right)$, where $X_{m^{(i)}}$ is operating on a some single qubit $m^{(i)}$.\n",
    "3. Apply the transformation $U^{\\dagger} H U$, whose eigenspace will be identical to those of $U^{\\dagger} g_i U$. That means that on some qubits the transformed Hamiltonian is acting trivially, returning $\\pm 1$ (thus is the name $\\mathbb{Z}_2$ symmetries), and we can taper them off.\n",
    "4. Taper off qubits from the transformed Hamiltonian."
   ]
  },
  {
   "cell_type": "markdown",
   "id": "09300b29-6ea9-471b-bc45-684c318f3a11",
   "metadata": {},
   "source": [
    "Let us define a qubit tapering mapper and inspect its properties:"
   ]
  },
  {
   "cell_type": "code",
   "execution_count": 9,
   "id": "280cfb35-f840-4969-a6f8-9afd0342a039",
   "metadata": {},
   "outputs": [],
   "source": [
    "from classiq.applications.chemistry.z2_symmetries import Z2SymTaperMapper\n",
    "\n",
    "z2taper_mapper = Z2SymTaperMapper.from_problem(\n",
    "    problem, method=MappingMethod.JORDAN_WIGNER\n",
    ")\n",
    "\n",
    "generators = z2taper_mapper.generators\n",
    "x_ops = z2taper_mapper.x_ops"
   ]
  },
  {
   "cell_type": "markdown",
   "id": "78f02229-49ff-4ef6-b638-8d44cdf5a0e4",
   "metadata": {},
   "source": [
    "We can verify that the generators are indeed commuting with the Hamiltonian"
   ]
  },
  {
   "cell_type": "code",
   "execution_count": 10,
   "id": "fe33b23f-03d6-4d6d-b9e7-527638c32fc0",
   "metadata": {},
   "outputs": [
    {
     "name": "stdout",
     "output_type": "stream",
     "text": [
      "Number of generators: 4\n",
      "For generator 1.0 [Z0 Z1 Z2 Z3 Z4]: the Norm of commutator with the Hamiltonian 0.0\n",
      "For generator 1.0 [Z2 Z7]: the Norm of commutator with the Hamiltonian 0.0\n",
      "For generator 1.0 [Z3 Z8]: the Norm of commutator with the Hamiltonian 0.0\n",
      "For generator 1.0 [Z2 Z3 Z5 Z6 Z9]: the Norm of commutator with the Hamiltonian 0.0\n"
     ]
    }
   ],
   "source": [
    "from openfermion.utils import commutator\n",
    "\n",
    "print(f\"Number of generators: {len(generators)}\")\n",
    "for gen in generators:\n",
    "    print(\n",
    "        f\"For generator {gen}: the Norm of commutator with the Hamiltonian {commutator(qubit_hamiltonian, gen).induced_norm(1)}\"\n",
    "    )"
   ]
  },
  {
   "cell_type": "markdown",
   "id": "b2b3d8e8-aab7-4c22-9df1-8537f0b98d9d",
   "metadata": {},
   "source": [
    "The generators for the symmetry group $\\left\\{g^{(i)}\\right\\}$ are accompained by $\\left\\{X_{m^{(i)}}\\right\\}$ operators, such that $g^{(i)} X_{m^{(j)}}= (-1)^{\\delta_{ij}} X_{m^{(j)}}g^{(i)} $. We can verify this as well:"
   ]
  },
  {
   "cell_type": "code",
   "execution_count": 11,
   "id": "521e4e45-634f-4562-9848-0bcf0c911397",
   "metadata": {},
   "outputs": [
    {
     "name": "stdout",
     "output_type": "stream",
     "text": [
      "The set of Pauli X operators: [[((0, 'X'),)], [((7, 'X'),)], [((8, 'X'),)], [((5, 'X'),)]]\n",
      "=================================================================\n",
      "For Pauli X_0 and generator 0: the commutator reads -2j [Y0 Z1 Z2 Z3 Z4]\n",
      "For Pauli X_0 and generator 1: the commutator reads 0\n",
      "For Pauli X_0 and generator 2: the commutator reads 0\n",
      "For Pauli X_0 and generator 3: the commutator reads 0\n",
      "For Pauli X_7 and generator 0: the commutator reads 0\n",
      "For Pauli X_7 and generator 1: the commutator reads -2j [Z2 Y7]\n",
      "For Pauli X_7 and generator 2: the commutator reads 0\n",
      "For Pauli X_7 and generator 3: the commutator reads 0\n",
      "For Pauli X_8 and generator 0: the commutator reads 0\n",
      "For Pauli X_8 and generator 1: the commutator reads 0\n",
      "For Pauli X_8 and generator 2: the commutator reads -2j [Z3 Y8]\n",
      "For Pauli X_8 and generator 3: the commutator reads 0\n",
      "For Pauli X_5 and generator 0: the commutator reads 0\n",
      "For Pauli X_5 and generator 1: the commutator reads 0\n",
      "For Pauli X_5 and generator 2: the commutator reads 0\n",
      "For Pauli X_5 and generator 3: the commutator reads -2j [Z2 Z3 Y5 Z6 Z9]\n"
     ]
    }
   ],
   "source": [
    "print(f\"The set of Pauli X operators: {[list(op.terms.keys()) for op in x_ops]}\")\n",
    "print(\"=\" * 65)\n",
    "for pauli_x in x_ops:\n",
    "    x_position = list(pauli_x.terms.keys())[0][0][0]\n",
    "    for j in range(len(generators)):\n",
    "        print(\n",
    "            f\"For Pauli X_{x_position} and generator {j}: the commutator reads {commutator(pauli_x, generators[j])}\"\n",
    "        )"
   ]
  },
  {
   "cell_type": "markdown",
   "id": "ea88b556-0905-4b5e-8237-78299ce3679e",
   "metadata": {},
   "source": [
    "<div style=\"background-color:#f0f8ff; border-left: 5px solid #0077cc; padding: 10px;\">\n",
    "<strong> Intuition for conserved quantities under the JW transform: </strong>  In electronic structure problems we have, for example, particle number conservation, spin conservation, and number of particles with fixed spin orientation. The latter corresponds to the two Fermionic operators:\n",
    "$$\n",
    "\\text{Total number of spin-up/down particles operator:} \\qquad N_{\\uparrow} = \\sum_i a^{\\dagger}_{i\\uparrow} a_{i\\uparrow}, \\qquad \n",
    "N_{\\downarrow} = \\sum_i a^{\\dagger}_{i\\downarrow} a_{i\\downarrow}.\n",
    "$$\n",
    "As explained in the previous info box, working with the JW transform gives that Fock basis state are trasformed to the computational basis states. In particular, there is a relation between the orbital number operator and the $Z$ operators: $n_i \\equiv a_i^{\\dagger}a_i = \\frac{1}{2}\\left(1-Z_i\\right)$. We cannot use the transformation of $N_{\\uparrow(\\downarrow)}$ as our symmetry generators, since they correspond to a sum of Pauli strings rather than a single string. However, we can use any function of those, for example $g_{\\uparrow(\\downarrow)} = e^{\\pi i \\hat{N}_{\\uparrow(\\downarrow)}}$, which, up to a global phase, gives the generators\n",
    "$$\n",
    "g_{\\uparrow} = \\Pi^{N/2-1}_{k=0}Z_{k}, \\qquad g_{\\downarrow} = \\Pi^{N-1}_{k=N/2}Z_{k}.\n",
    "$$\n",
    "We can see that $g_{\\uparrow}$ is indeed a generator in the example above.\n",
    "</div>\n"
   ]
  },
  {
   "cell_type": "markdown",
   "id": "6b0c4679-f12b-4c4d-8736-c0f7cc73d975",
   "metadata": {},
   "source": [
    "Next, we can define a transformation from the generators the the Pauli $X$ operators, which means that it block-diagonalizes the Hamiltonian according to symmetry subspaces. This unitary is given by $U = \\Pi^k_{i=1}\\frac{1}{\\sqrt{2}}\\left(X_{m^{(i)}}+g^{(i)}\\right)$."
   ]
  },
  {
   "cell_type": "code",
   "execution_count": 12,
   "id": "2f925e8a-d5ea-43dc-a63d-4553679b568b",
   "metadata": {},
   "outputs": [],
   "source": [
    "from openfermion import QubitOperator\n",
    "\n",
    "blk_diagonalizing_op = QubitOperator(())\n",
    "for gen, x_op in zip(generators, x_ops):\n",
    "    blk_diagonalizing_op *= (2 ** (-0.5)) * (x_op + gen)"
   ]
  },
  {
   "cell_type": "markdown",
   "id": "cb38bbeb-9824-44f0-a0a5-9a9a31818930",
   "metadata": {},
   "source": [
    "Let us verify, for example, that indeed this diagonalizing operator map each generator into a single computational basis subspace:"
   ]
  },
  {
   "cell_type": "code",
   "execution_count": 13,
   "id": "60e07b4c-08b8-4cda-bf58-ae28a2bb104c",
   "metadata": {
    "ExecuteTime": {
     "end_time": "2025-04-10T09:34:04.310884Z",
     "start_time": "2025-04-10T09:34:04.305930Z"
    }
   },
   "outputs": [
    {
     "name": "stdout",
     "output_type": "stream",
     "text": [
      "Generator in the new basis: (1.0000000000000002+0j) [X0] --- compared to: 1.0 [X0]\n",
      "Generator in the new basis: (1.0000000000000002+0j) [X7] --- compared to: 1.0 [X7]\n",
      "Generator in the new basis: (1.0000000000000002+0j) [X8] --- compared to: 1.0 [X8]\n",
      "Generator in the new basis: (1.0000000000000002+0j) [X5] --- compared to: 1.0 [X5]\n"
     ]
    }
   ],
   "source": [
    "for gen, x_op in zip(generators, x_ops):\n",
    "    print(\n",
    "        f\"Generator in the new basis: {blk_diagonalizing_op*gen*blk_diagonalizing_op} --- compared to: {x_op}\"\n",
    "    )"
   ]
  },
  {
   "cell_type": "markdown",
   "id": "27c1f9d6-04f3-416e-bb4d-70308cc0f378",
   "metadata": {},
   "source": [
    "Next, let us examine the block-diagonalized Hamiltonian--- We shall see that after transformation, the Hamiltonian acts trivially on some of the qubits, with the identity or with the $\\left\\{X_{m^{(i)}}\\right\\}$ operators found above. Thus, we can reduce it by going to one of the two eigenspaces of these operators, with eigenvalues $\\pm 1$."
   ]
  },
  {
   "cell_type": "code",
   "execution_count": 14,
   "id": "766c80a2-8da2-4de9-8546-46a1e41626f1",
   "metadata": {
    "ExecuteTime": {
     "end_time": "2025-04-10T09:34:04.408315Z",
     "start_time": "2025-04-10T09:34:04.335407Z"
    }
   },
   "outputs": [
    {
     "name": "stdout",
     "output_type": "stream",
     "text": [
      "Example of Pauli Hamiltonian terms:\n",
      "((), -5.750184614764152)\n",
      "(((0, 'X'), (1, 'Z'), (2, 'Z'), (3, 'Z'), (4, 'Z')), -0.2967048507992741)\n",
      "(((1, 'X'), (2, 'Z'), (3, 'Z'), (4, 'Z')), 0.002547262906988957)\n",
      "(((0, 'X'), (1, 'X')), -0.002547262906988957)\n",
      "(((4, 'X'),), 0.017780201414380945)\n",
      "(((0, 'X'), (1, 'Z'), (2, 'Z'), (3, 'Z'), (4, 'X')), -0.017780201414380945)\n",
      "(((2, 'Z'), (3, 'Z'), (5, 'X'), (6, 'Z'), (9, 'Z')), -0.2967048507992741)\n",
      "(((2, 'Z'), (3, 'Z'), (6, 'X'), (9, 'Z')), 0.002547262906988951)\n",
      "(((5, 'X'), (6, 'X')), -0.002547262906988951)\n",
      "(((7, 'X'), (8, 'X'), (9, 'X')), 0.017780201414380938)\n",
      "(((2, 'Z'), (3, 'Z'), (5, 'X'), (6, 'Z'), (7, 'X'), (8, 'X'), (9, 'X')), -0.017780201414380938)\n",
      "(((1, 'Z'),), -0.39063013875079544)\n",
      "(((1, 'Y'), (2, 'Z'), (3, 'Z'), (4, 'Y')), 0.024546035949578163)\n",
      "(((1, 'X'), (2, 'Z'), (3, 'Z'), (4, 'X')), 0.024546035949578163)\n",
      "(((6, 'Z'),), -0.39063013875079533)\n",
      "(((2, 'Z'), (3, 'Z'), (6, 'Y'), (7, 'X'), (8, 'X'), (9, 'Y')), 0.024546035949578177)\n"
     ]
    }
   ],
   "source": [
    "block_diagonal_hamiltonian = (\n",
    "    blk_diagonalizing_op * qubit_hamiltonian * blk_diagonalizing_op\n",
    ")\n",
    "block_diagonal_hamiltonian.compress(1e-12)\n",
    "print(\"Example of Pauli Hamiltonian terms:\")\n",
    "print(*list(block_diagonal_hamiltonian.terms.items())[:16], sep=\"\\n\")"
   ]
  },
  {
   "cell_type": "markdown",
   "id": "0d08cad3-4147-43be-be79-1f0dced4824e",
   "metadata": {},
   "source": [
    "We can see that on the 0$^{th}$ qubit we have only $X$ operations, therefore, we know that the eigenstates of our Hamiltonian will be of the form:\n",
    "$$\n",
    "|\\psi\\rangle_{10} = |\\pm 1\\rangle |\\bar{\\psi}\\rangle_{9}.\n",
    "$$\n",
    "That is, the first qubit is either at state $|+\\rangle$ or $|-\\rangle$ (the eigenvectors of the Puali $X$ matrix). The same is true for all the other Pauli $X$ operators in `x_ops`. We shall choose a sector, i.e., the $+1$ or $-1$ subspace, for each of the subspaces $X_{(m_i)}$ operations. \n",
    "\n",
    "Which eigenspace to choose?\n"
   ]
  },
  {
   "cell_type": "markdown",
   "id": "6b8c13f9-3c1c-4139-86f0-3cf80a877c5a",
   "metadata": {},
   "source": [
    "The answer to this question depends on the problem at hand. If we would like to find the minimal energy of the Hamiltonian, then we shall take the subspace containing the minimal energy. One possibility is to solve multiple ($2^4$) problems on all sectors. However, another approach is to fix the sector according to the HF state, which is assumed to be in the optimal sector with minimal energy. This is the default sector defined in `Z2SymTaperMapper` when initializing with the `.from_problem` method."
   ]
  },
  {
   "cell_type": "markdown",
   "id": "bdc28270-9944-472c-81c5-fb1d53f28d5c",
   "metadata": {},
   "source": [
    "To emphasize the effect of choosing different sectors, we construct $2^4$ tapered operators, each for the subspaces (sectors) $\\pm 1 \\otimes \\pm \\otimes \\pm 1 \\otimes \\pm 1$, and classically calculate the ground state for each tapered Hamiltonian. "
   ]
  },
  {
   "cell_type": "code",
   "execution_count": 15,
   "id": "42aef862-3f32-42f8-a107-d0e74974b4b9",
   "metadata": {},
   "outputs": [
    {
     "name": "stdout",
     "output_type": "stream",
     "text": [
      "For sector (1, 1, 1, 1): minimal eigenvalue: (-7.768908584655453+0j)\n",
      "For sector (1, 1, 1, -1): minimal eigenvalue: (-7.804992414357773+0j)\n",
      "For sector (1, 1, -1, 1): minimal eigenvalue: (-7.724554496308053+0j)\n",
      "For sector (1, 1, -1, -1): minimal eigenvalue: (-7.717412859272543+0j)\n",
      "For sector (1, -1, 1, 1): minimal eigenvalue: (-7.724554496308075+0j)\n",
      "For sector (1, -1, 1, -1): minimal eigenvalue: (-7.717412859272538+0j)\n",
      "For sector (1, -1, -1, 1): minimal eigenvalue: (-7.312750852207606+0j)\n",
      "For sector (1, -1, -1, -1): minimal eigenvalue: (-7.555931078744113+0j)\n",
      "For sector (-1, 1, 1, 1): minimal eigenvalue: (-7.8049924143578036+0j)\n",
      "For sector (-1, 1, 1, -1): minimal eigenvalue: (-7.880416053961544+0j)\n",
      "For sector (-1, 1, -1, 1): minimal eigenvalue: (-7.717412859272534+0j)\n",
      "For sector (-1, 1, -1, -1): minimal eigenvalue: (-7.724554496308089+0j)\n",
      "For sector (-1, -1, 1, 1): minimal eigenvalue: (-7.717412859272531+0j)\n",
      "For sector (-1, -1, 1, -1): minimal eigenvalue: (-7.724554496308072+0j)\n",
      "For sector (-1, -1, -1, 1): minimal eigenvalue: (-7.555931078744102+0j)\n",
      "For sector (-1, -1, -1, -1): minimal eigenvalue: (-7.3127508522075795+0j)\n"
     ]
    }
   ],
   "source": [
    "import itertools\n",
    "\n",
    "import numpy as np\n",
    "from openfermion.linalg import get_sparse_operator\n",
    "\n",
    "for sector in itertools.product([1, -1], repeat=len(x_ops)):\n",
    "    z2taper_mapper.set_sector(sector)\n",
    "    tapered_hamiltonian = z2taper_mapper.map(problem.fermion_hamiltonian)\n",
    "    tapered_hamiltonian_sparse = get_sparse_operator(tapered_hamiltonian)\n",
    "    w, v = np.linalg.eig(tapered_hamiltonian_sparse.toarray())\n",
    "    print(f\"For sector {sector}: minimal eigenvalue: {np.min(w)}\")"
   ]
  },
  {
   "cell_type": "markdown",
   "id": "a24bb9f9-a740-4b71-87a2-c98ccf7c651b",
   "metadata": {},
   "source": [
    "***\n",
    "## Constructing a VQE model with Classiq\n",
    "***"
   ]
  },
  {
   "cell_type": "markdown",
   "id": "dd8b2a82-6e33-4e34-a52e-09b7d381c069",
   "metadata": {},
   "source": [
    "Next, we use all the classical pre-processing and definitions from the previous sections to build, synthesize, and execute a VQE model.\n",
    "We will take the following steps:\n",
    "1. Defining the transformed and tapered-off Hartree Fock state, which serves as an initial condition for the problem.\n",
    "2. Constructing the transformed and tapered-off UCC ansatz.\n",
    "3. Defining, synthesizing, and executing the full model"
   ]
  },
  {
   "cell_type": "markdown",
   "id": "ce6ec31f-3104-4556-9657-09bb4d19bcf1",
   "metadata": {},
   "source": [
    "As a preliminary step, we define the Hamiltonian of the VQE problem. Since this is the final Hamiltonian (after a series of transformation, from second quantized Hamiltonian, tapering, etc.), let us trim small values according to some rough threshold."
   ]
  },
  {
   "cell_type": "code",
   "execution_count": 16,
   "id": "cc06fd7c-0a20-4aab-bb9c-5af616d78e2f",
   "metadata": {
    "ExecuteTime": {
     "end_time": "2025-04-10T09:34:07.457664Z",
     "start_time": "2025-04-10T09:34:06.407353Z"
    }
   },
   "outputs": [],
   "source": [
    "from classiq import *\n",
    "from classiq.applications.chemistry.op_utils import qubit_op_to_pauli_terms"
   ]
  },
  {
   "cell_type": "code",
   "execution_count": 17,
   "id": "b5fbeafb-a4c3-41ba-b911-a4c4cf86abdd",
   "metadata": {
    "ExecuteTime": {
     "end_time": "2025-04-10T09:34:07.466879Z",
     "start_time": "2025-04-10T09:34:07.464817Z"
    }
   },
   "outputs": [
    {
     "name": "stdout",
     "output_type": "stream",
     "text": [
      "Hamiltonian for VQE has: 231 terms, and is operating on 6 qubits\n"
     ]
    }
   ],
   "source": [
    "THRESHOLD = 1e-3\n",
    "\n",
    "z2taper_mapper = Z2SymTaperMapper.from_problem(problem)\n",
    "\n",
    "tapered_hamiltonian = z2taper_mapper.map(problem.fermion_hamiltonian, is_invariant=True)\n",
    "tapered_hamiltonian.compress(THRESHOLD)\n",
    "\n",
    "n_vqe_qubits = z2taper_mapper.get_num_qubits(problem)\n",
    "vqe_hamiltonian = qubit_op_to_pauli_terms(tapered_hamiltonian)\n",
    "\n",
    "print(\n",
    "    f\"Hamiltonian for VQE has: {len(vqe_hamiltonian.terms)} terms, and is operating on {n_vqe_qubits} qubits\"\n",
    ")"
   ]
  },
  {
   "cell_type": "markdown",
   "id": "9d7a6358-4dd6-4d7f-bc05-7e4a5d9982cd",
   "metadata": {},
   "source": [
    "Next, we use Classiq built-in functions to get the Hartree Fock state and the UCC ansatz Hamiltonians, given the problem and mapper."
   ]
  },
  {
   "cell_type": "markdown",
   "id": "7402641b-4b0b-4893-bdc5-a036f2729cfc",
   "metadata": {},
   "source": [
    "<div style=\"background-color:#f0f8ff; border-left: 5px solid #0077cc; padding: 10px;\">\n",
    "<strong> Moving to symmetry subspaces: </strong>  The Hartree Fock and the UCC operators that are defined below do not necessarily have the same symmetries of the molecular Hamiltonian. Thus, after the block-diagonalization, the resulting operators are not restricted to the symmetries' subspaces. We take the following approach: we remove terms which do not satisfy the symmetry relation, i.e., commute with symmetry generators. This is done automatically by calling the corresponding functions.\n",
    "</div>\n"
   ]
  },
  {
   "cell_type": "markdown",
   "id": "9a21a5ca-ba62-430d-a974-b329167bca66",
   "metadata": {},
   "source": [
    "### 1. Hartree Fock in the tapered-off space"
   ]
  },
  {
   "cell_type": "markdown",
   "id": "dc4c9f46-3df7-4bc7-aeb6-475137227388",
   "metadata": {},
   "source": [
    "We have already calculated the HF state under the JW transform, let us find the HF state after qubit tapering:"
   ]
  },
  {
   "cell_type": "code",
   "execution_count": 18,
   "id": "05127fdd-00c7-4d65-86fb-88d9486dc7d9",
   "metadata": {},
   "outputs": [
    {
     "name": "stdout",
     "output_type": "stream",
     "text": [
      "The HF state: 000000\n"
     ]
    }
   ],
   "source": [
    "hf_tapered_state = get_hf_state(problem, z2taper_mapper)\n",
    "print(f\"The HF state: {''.join(['1' if val else '0' for val in hf_tapered_state])}\")"
   ]
  },
  {
   "cell_type": "markdown",
   "id": "a18ee148-88c5-43f6-be6d-390e4c4542b0",
   "metadata": {},
   "source": [
    "### 2. UCC ansatz"
   ]
  },
  {
   "cell_type": "markdown",
   "id": "fdccea00-14a0-4419-8762-c58ad3d2863e",
   "metadata": {},
   "source": [
    "The Unitary Coupled Cluster ansatz assumes that the HF state is initially occupied. Then, it includes excitations from the occupied to un-occupied states, where the former is defined by the HF state. In this tutorial we focus on the UCCSD ansatz, in which only singlet and doublet excitation are taken. The corresponding Fermionic operator reads:\n",
    "\n",
    "$$\n",
    "\\large U_{\\text{UCCSD}} \\equiv e^{T - T^\\dagger}, \\qquad T = T_1 + T_2\n",
    "$$\n",
    "where:\n",
    "$$\n",
    "\\large  T_1 = \\sum_{i \\in \\text{occ}} \\sum_{a \\in \\text{virt}} t_i^a a_a^\\dagger a_i, \\qquad T_2 = \\sum_{i<j \\in \\text{occ}} \\sum_{a<b \\in \\text{virt}} t_{ij}^{ab} a_a^\\dagger a_b^\\dagger a_j a_i,\n",
    "$$\n",
    "and the $t$ terms are parametric angles. The function for obtaining the UCC Hamiltonians takes into account spin conservation."
   ]
  },
  {
   "cell_type": "code",
   "execution_count": 19,
   "id": "b853b598-5a07-45a9-a6d2-075fc29cc6fb",
   "metadata": {
    "ExecuteTime": {
     "end_time": "2025-04-10T09:34:07.517090Z",
     "start_time": "2025-04-10T09:34:07.477694Z"
    }
   },
   "outputs": [],
   "source": [
    "from classiq.applications.chemistry.ucc import get_ucc_hamiltonians\n",
    "\n",
    "uccsd_hamiltonians = get_ucc_hamiltonians(problem, z2taper_mapper, excitations=[1, 2])"
   ]
  },
  {
   "cell_type": "markdown",
   "id": "f83aed84-2574-4004-804e-7de20ff9814c",
   "metadata": {},
   "source": [
    "### 3. Running a VQE\n",
    "\n",
    "The VQE is constructed by preparing the HF state (with the `prepare_basis_state` function) and evolving a parametric UCCSD Hamiltonian with Suzuki Trotter."
   ]
  },
  {
   "cell_type": "code",
   "execution_count": 20,
   "id": "9a95d281-ace2-4f21-8e70-9415a4448817",
   "metadata": {
    "ExecuteTime": {
     "end_time": "2025-04-10T09:34:07.524870Z",
     "start_time": "2025-04-10T09:34:07.501550Z"
    }
   },
   "outputs": [],
   "source": [
    "import matplotlib.pyplot as plt"
   ]
  },
  {
   "cell_type": "code",
   "execution_count": 21,
   "id": "d9801cc5-c3dc-4b34-9921-7be6e764967a",
   "metadata": {
    "ExecuteTime": {
     "end_time": "2025-04-10T09:34:29.852451Z",
     "start_time": "2025-04-10T09:34:07.505504Z"
    }
   },
   "outputs": [
    {
     "name": "stdout",
     "output_type": "stream",
     "text": [
      "Number of parameters: 10\n",
      "Quantum program link: https://platform.classiq.io/circuit/30Y1tKZzww2Qd71NUQlyQnihVZA\n"
     ]
    }
   ],
   "source": [
    "TOL = 0.001\n",
    "num_params = len(uccsd_hamiltonians)\n",
    "print(f\"Number of parameters: {num_params}\")\n",
    "\n",
    "\n",
    "@qfunc\n",
    "def main(params: CArray[CReal, num_params], state: Output[QArray]) -> None:\n",
    "    prepare_basis_state(hf_tapered_state, state)\n",
    "    multi_suzuki_trotter(\n",
    "        hamiltonians=uccsd_hamiltonians,\n",
    "        evolution_coefficients=params,\n",
    "        order=1,\n",
    "        repetitions=1,\n",
    "        qbv=state,\n",
    "    )\n",
    "\n",
    "\n",
    "write_qmod(main, \"vqe_ucc\" + description, symbolic_only=False)\n",
    "qprog = synthesize(main)\n",
    "show(qprog)"
   ]
  },
  {
   "cell_type": "markdown",
   "id": "37eb1634-f1c3-48b9-86a6-ab906eabedfc",
   "metadata": {},
   "source": [
    "To get a quick execution, we run on a statevector simulator."
   ]
  },
  {
   "cell_type": "code",
   "execution_count": 22,
   "id": "d419f218-ecf2-410f-b0f2-458f886fb376",
   "metadata": {
    "ExecuteTime": {
     "end_time": "2025-04-10T09:35:45.515839Z",
     "start_time": "2025-04-10T09:34:29.913691Z"
    }
   },
   "outputs": [],
   "source": [
    "qprog = set_quantum_program_execution_preferences(\n",
    "    qprog,\n",
    "    preferences=ExecutionPreferences(\n",
    "        num_shots=1000,\n",
    "        backend_preferences=ClassiqBackendPreferences(\n",
    "            backend_name=\"simulator_statevector\"\n",
    "        ),\n",
    "    ),\n",
    ")"
   ]
  },
  {
   "cell_type": "markdown",
   "id": "f8ec528b-62aa-4bce-a05c-099bd18485e0",
   "metadata": {},
   "source": [
    "We run simple optimization using the `minimize` method of `ExecutionSession` "
   ]
  },
  {
   "cell_type": "code",
   "execution_count": 23,
   "id": "6907d29f-5487-49b9-aeee-bb245edcb369",
   "metadata": {},
   "outputs": [],
   "source": [
    "with ExecutionSession(qprog) as es:\n",
    "    result = es.minimize(\n",
    "        cost_function=vqe_hamiltonian,\n",
    "        initial_params={\"params\": [0] * num_params},\n",
    "        max_iteration=200,\n",
    "    )"
   ]
  },
  {
   "cell_type": "code",
   "execution_count": 24,
   "id": "483487d4-f48c-4457-b89e-a374fff282e3",
   "metadata": {
    "ExecuteTime": {
     "end_time": "2025-04-10T09:35:45.612248Z",
     "start_time": "2025-04-10T09:35:45.518189Z"
    },
    "scrolled": true
   },
   "outputs": [
    {
     "name": "stdout",
     "output_type": "stream",
     "text": [
      "optimizer result classiq: -7.880416049055186\n"
     ]
    },
    {
     "data": {
      "image/png": "[encoded data removed]",
      "text/plain": [
       "<Figure size 640x480 with 1 Axes>"
      ]
     },
     "metadata": {},
     "output_type": "display_data"
    }
   ],
   "source": [
    "expected_energy = float(molecule.fci_energy)\n",
    "\n",
    "optimizer_res = result[-1][0]\n",
    "print(f\"optimizer result classiq: {optimizer_res}\")\n",
    "\n",
    "vqe_results = {k: np.real(result[k][0]) for k in range(len(result))}\n",
    "\n",
    "\n",
    "plt.plot(vqe_results.keys(), vqe_results.values(), \"-\")\n",
    "plt.ylabel(\"Energy [Ha]\", fontsize=16)\n",
    "plt.xlabel(\"iteration\", fontsize=16)\n",
    "plt.tick_params(axis=\"both\", labelsize=16)\n",
    "plt.title(\"VQE result for \" + description)\n",
    "plt.text(\n",
    "    50,\n",
    "    -7.75,\n",
    "    f\"vqe energy: {optimizer_res} Ha,\\n fci_energy: {expected_energy} Ha\",\n",
    "    fontsize=12,\n",
    "    bbox=dict(facecolor=\"lightgray\", edgecolor=\"black\", boxstyle=\"round,pad=0.3\"),\n",
    ");"
   ]
  },
  {
   "cell_type": "markdown",
   "id": "60aca7a7-1cc0-40eb-bd18-5516256fac74",
   "metadata": {},
   "source": [
    "## Appendix A - Loading molecule geometry"
   ]
  },
  {
   "cell_type": "markdown",
   "id": "92afa863-b04a-4db9-9982-eb4adbd57541",
   "metadata": {},
   "source": [
    "```\n",
    "from rdkit import Chem\n",
    "from rdkit.Chem import AllChem\n",
    "\n",
    "# Generate 3D coordinates\n",
    "mol = Chem.MolFromSmiles('[LiH]')\n",
    "mol = Chem.AddHs(mol)\n",
    "AllChem.EmbedMolecule(mol)\n",
    "\n",
    "# Prepare XYZ string\n",
    "conf = mol.GetConformer()\n",
    "n_atoms = mol.GetNumAtoms()\n",
    "\n",
    "xyz_lines = [f\"{n_atoms}\", \"LiH generated by RDKit\"]\n",
    "\n",
    "for atom in mol.GetAtoms():\n",
    "    idx = atom.GetIdx()\n",
    "    pos = conf.GetAtomPosition(idx)\n",
    "    line = f\"{atom.GetSymbol()} {pos.x:.6f} {pos.y:.6f} {pos.z:.6f}\"\n",
    "    xyz_lines.append(line)\n",
    "\n",
    "xyz_string = \"\\n\".join(xyz_lines)\n",
    "\n",
    "# Save to file\n",
    "with open(\"lih.xyz\", \"w\") as f:\n",
    "    f.write(xyz_string)\n",
    "```"
   ]
  },
  {
   "cell_type": "markdown",
   "id": "4a76a3a4-980d-4197-81ef-231a926bbbad",
   "metadata": {},
   "source": [
    "## Appendix B - Techical details on qubit tapering\n",
    "\n",
    "Below we provide some technical details concerning qubit tapering and $\\mathbb{Z}_2$ symmetries.\n",
    "\n",
    "It is a well-known fact in linear algebra that if two operators commute, $[A,B]=0$, then they can be mutually diagonalized. In particular, if $|v\\rangle$ is an eigenvector of $B$ with an eigenvalue $\\lambda$, we have\n",
    "$$\n",
    "[A,B]=0\\implies AB = BA \\implies AB|v\\rangle = BA|v\\rangle \\implies \\lambda \\left(A|v\\rangle\\right) = B\\left(A|v\\rangle\\right).\n",
    "$$\n",
    "That is, $A|v\\rangle$ is also an eigenvector of $B$ with eigenvalue $\\lambda$. Thus, $A|v\\rangle$ must be in the eigenspace $V_{\\lambda} \\equiv \\left\\{|u\\rangle, B|u\\rangle = \\lambda|u\\rangle\\right\\}$.\n",
    "\n",
    "Now, Refs. [[3](#sym1)] and [[4](#sym2)] show, and this is implemented explicitly in Appendix B, that we can find a Clifford transformation $U$, such that the transformed Hamiltonian $H'=U^{\\dagger} H U$ commutes with the transformed symmetries $X_{m^{(i)}} = U^{\\dagger} g_i U$. We know how the eigenspaces of $X_{m^{(i)}}$ look like. For example, $X_{0}$ has two eigenspaces that correspond to the eigenvalues $\\pm 1$: $V_{\\pm} = \\left\\{|u\\rangle_N, X_{0}|u\\rangle_N = \\pm |u\\rangle_N\\right\\} = \\left\\{|\\pm\\rangle \\otimes |\\tilde{u}\\rangle_{N-1},\\, |\\tilde{u}\\rangle_{N-1} \\text{ some state on } N-1 \\text{ qubits}\\right\\} $. From the arguments above we get that \n",
    "$$\n",
    "H'\\cdot \\left(|\\pm\\rangle |u\\rangle\\right) \\in V_{\\pm},\n",
    "$$\n",
    "which means that $H'$ must acts with $X_0$ or the Identity on the first qubit."
   ]
  },
  {
   "cell_type": "markdown",
   "id": "31a03a50-0d15-4bd5-a9ef-e52718b26420",
   "metadata": {},
   "source": [
    "## References\n",
    "\n",
    "<a name='OF'>[1]</a>: [McClean et. al. Quantum Sci. Technol. 5 034014 (2020). OpenFermion: the electronic structure package for quantum computers.](https://arxiv.org/abs/1710.07629)\n",
    "\n",
    "<a name='OFintro'>[2]</a>: [Introduction to OpenFermion.](https://quantumai.google/openfermion/tutorials/intro_to_openfermion)\n",
    "\n",
    "<a name='sym1'>[3]</a>: [Bravyi et. al., arXiv preprint arXiv:1701.08213 (2017). Tapering off qubits to simulate fermionic Hamiltonians.\n",
    "](https://arxiv.org/abs/1701.08213)\n",
    "\n",
    "<a name='sym2'>[4]</a>: [Kanav et al. J. Chem. Theo. Comp. 16 10 (2020). Reducing qubit requirements for quantum simulations using molecular point group symmetries.](https://arxiv.org/abs/1910.14644)\n"
   ]
  }
 ],
 "metadata": {
  "kernelspec": {
   "display_name": "Python 3 (ipykernel)",
   "language": "python",
   "name": "python3"
  },
  "language_info": {
   "codemirror_mode": {
    "name": "ipython",
    "version": 3
   },
   "file_extension": ".py",
   "mimetype": "text/x-python",
   "name": "python",
   "nbconvert_exporter": "python",
   "pygments_lexer": "ipython3",
   "version": "3.11.9"
  }
 },
 "nbformat": 4,
 "nbformat_minor": 5
}
