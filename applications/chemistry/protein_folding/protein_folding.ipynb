{
 "cells": [
  {
   "cell_type": "markdown",
   "id": "0",
   "metadata": {},
   "source": [
    "# Protein Folding Algorithm\n",
    "\n",
    "Protein folding is the description of a three-dimensional structure of an amino acid chain, arranged in space to become a biologically functional protein.\n",
    "Understanding the structure of protein is extremely valuable for various applications in medicine.\n",
    "Discovering the structure of proteins is a highly intricate problem, as each protein is constructed of a chain of hundreds or thousands of amino acids, and the number of configurations is roughly evaluated to be $3^{2(N-1)}$ with N being the number of amino acids [1]. The exponential growth of conformations with the chain length N makes the problem very complex for classical computers. For a quantum computer, the algorithm grows linearly with the number of amino acids N that are conceived, as the one simulated below.\n",
    "\n",
    "This tutorial presents a method of achieving a folding geometry for a given amino acid sequence. Following paper [2], we create a Pyomo optimization model, and send it to Classiq's Quantum Approximated Optimization Algorithm (QAOA), which finds the configuration with minimal energy. The results are later visualized and compared to a classical solution."
   ]
  },
  {
   "cell_type": "markdown",
   "id": "1",
   "metadata": {},
   "source": [
    "## Prerequisites\n",
    "\n",
    "The model uses Classiq libraries in addition to basic Python tools:"
   ]
  },
  {
   "cell_type": "code",
   "execution_count": 1,
   "id": "2",
   "metadata": {},
   "outputs": [],
   "source": [
    "import numpy as np\n",
    "import pandas as pd\n",
    "import plotly.graph_objects as go\n",
    "import pyomo.core as pyo\n",
    "from sympy import *"
   ]
  },
  {
   "cell_type": "markdown",
   "id": "3",
   "metadata": {},
   "source": [
    "## Defining the Optimization Problem\n",
    "\n",
    "Following the paper [2], create a Python Pyomo model to describe an optimization problem where a paramatrized cost expression characterizes the geometrical configuration of a protein (amino acid sequence).\n",
    "\n",
    "Without going into too many details, the paper places the protein on the grid of a tetrahedral lattice. Each amino acid can be located in any vertex of the lattice, and an index is set to each amino acid. Since each vertex has four neighbors, after locating an index in space, the next location is set by pointing in one of the four directions indicated by an integer $[0,1,2,3]$. To ascribe a direction, assign each amino acid two qubits, thus mapping each index to a direction:\n",
    "\n",
    "- $[00] \\rightarrow 0$ \n",
    "- $[01] \\rightarrow 1$ \n",
    "- $[10] \\rightarrow 2$ \n",
    "- $[11] \\rightarrow 3$ \n",
    "\n",
    "For the convenience of the coding, each even and odd index of amino acid has an opposite meaning in space; i.e., \"0\" means \"left\" for an odd index and \"right\" for an even index.\n",
    "\n",
    "A protein of $N$ amino acids has $N-1$ directions (or edges). However, since the first two directions only set the orientation of the molecule in space but do not determine the relative location of the amino acids, there are $N-3$ directions. (In thethrader lattice, there is an equal angle between each three vertices, so the relations are the same for the first three, regardless of the chosen direction.) Thus, the required number of qubits to describe the directions in the lattice is $2(N-3)$, and the two first directions are set arbitrarily.\n",
    "\n",
    "Next, set the Hamiltonian; i.e., the cost function that is sent to minimization. The Hamiltonian consists of two terms: $H_{gc}$ describing geometrical constraints, and $H_{int}$ describing the interactions between the amino acids (the paper also discusses a third chirality constraint that is only relevant to side chains, which are not considered in the scope of this algorithm):\n",
    "\n",
    "* $H_{gc}$ - prevents two consecutive directions to fold back. Since this tutorial uses a convention where the odd and even indexes have an opposite meaning in space, it is sufficient to add a large penalty term if two consecutive directions are the same.\n",
    "\n",
    "* $H_{int}$ - For the interaction, define extra qubits, which determine if the interaction is \"turned on\". If so, they add a negative (beneficial) energy term $epsilon$, which indicates the interaction between amino acids. $epsilon$ is a nearest neighbor (NN) interaction term, relevant for distance 1 only; therefore, add a penalty for other distances. Note that this tutorial takes the interaction to be a constant value ($epsilon$) regardless of the type of amino acid interaction. You can modify this by inserting the Miyazawa & Jernigan table [3].\n",
    "\n",
    "Since it is trivial that the following amino acid in the sequence is the nearest neighbor, it is irrelevant to calculate the contributing energy from such an interaction (it adds a constant number regardless of the qubit’s value). In fact, due to the structure of the tetrahedral lattice, only amino acids further away than fifth in the sequence might have non-trivial interaction. Thus, the number of possible interactions (and thus the number of interaction qubits) is (N-5)*(N-4)/2 (calculated via arithmetic progression).\n",
    "\n",
    "In addition, to prevent folding back into the chain, while encouraging distance 1 interactions, make sure that the indices following the two interacting amino acids do not overlap with the interacting amino acid themselves. In other words, for NN $(i,j)$, {i-1,i+1} must be at distance 2 (or else they will be at distance 0; i.e., overlapping). To account for that, add a penalty to the interaction term."
   ]
  },
  {
   "cell_type": "code",
   "execution_count": 2,
   "id": "4",
   "metadata": {},
   "outputs": [],
   "source": [
    "def folding_hamiltonian(main_chain: str) -> pyo.ConcreteModel:\n",
    "    model = pyo.ConcreteModel(\"protein_folding\")\n",
    "    N = len(main_chain)  # number of amino acids\n",
    "\n",
    "    # Calc number of possible interactions:\n",
    "    Ninteraction = 0\n",
    "    if N > 5:\n",
    "        Ninteraction = int((N - 5) * (N - 4) / 2)\n",
    "\n",
    "    # Define the variables:\n",
    "    model.f = pyo.Var(range(2 * (N - 3)), domain=pyo.Binary)\n",
    "    model.interaction = pyo.Var(range(Ninteraction), domain=pyo.Binary)\n",
    "    f_array = np.array(list(model.f.values()))\n",
    "    interaction_array = np.array(list(model.interaction.values()))\n",
    "\n",
    "    # Setting the two locations:\n",
    "    a = np.array([1, 0, 0, 1])\n",
    "    full_f_array = np.append(a, f_array)\n",
    "\n",
    "    # Define Hgc:\n",
    "    T = lambda i, j: (1 - (full_f_array[2 * i] - full_f_array[2 * j]) ** 2) * (\n",
    "        1 - (full_f_array[2 * i + 1] - full_f_array[2 * j + 1]) ** 2\n",
    "    )\n",
    "    L = 500\n",
    "    model.Hgc = 0\n",
    "    for i in range(N - 2):\n",
    "        model.Hgc = model.Hgc + L * T(\n",
    "            i, i + 1\n",
    "        )  # adds panelty if two consecutive index has the opposite direction\n",
    "\n",
    "    # convert {0,1}^2 to 4 functions, each giving 1 for one vector and 0 for the others:\n",
    "    fun0 = lambda i, j: (1 - full_f_array[i]) * (1 - full_f_array[j])\n",
    "    fun1 = lambda i, j: full_f_array[i] * (1 - full_f_array[j])\n",
    "    fun2 = lambda i, j: full_f_array[j] * (1 - full_f_array[i])\n",
    "    fun3 = lambda i, j: full_f_array[i] * full_f_array[j]\n",
    "\n",
    "    # calculate distance between i,j amino acids:\n",
    "    d_units_0 = lambda i, j: sum(\n",
    "        [((-1) ** k) * fun0(2 * k, 2 * k + 1) for k in range(i, j, 1)]\n",
    "    )\n",
    "    d_units_1 = lambda i, j: sum(\n",
    "        [((-1) ** k) * fun1(2 * k, 2 * k + 1) for k in range(i, j, 1)]\n",
    "    )\n",
    "    d_units_2 = lambda i, j: sum(\n",
    "        [((-1) ** k) * fun2(2 * k, 2 * k + 1) for k in range(i, j, 1)]\n",
    "    )\n",
    "    d_units_3 = lambda i, j: sum(\n",
    "        [((-1) ** k) * fun3(2 * k, 2 * k + 1) for k in range(i, j, 1)]\n",
    "    )\n",
    "    d = lambda i, j: (\n",
    "        (d_units_0(i, j)) ** 2\n",
    "        + (d_units_1(i, j)) ** 2\n",
    "        + (d_units_2(i, j)) ** 2\n",
    "        + (d_units_3(i, j)) ** 2\n",
    "    )\n",
    "\n",
    "    # define Hint:\n",
    "    epsilon = -5000\n",
    "    L2 = 300\n",
    "    L1 = 500\n",
    "    h = lambda i, j: interaction_array[\n",
    "        sum([N - 5 - k for k in range(0, i + 1, 1)]) - (N - j)\n",
    "    ] * (\n",
    "        epsilon\n",
    "        + L1 * (d(i, j) - 1) ** 2\n",
    "        + L2\n",
    "        * (\n",
    "            (2 - d(j - 1, i)) ** 2\n",
    "            + (2 - d(j + 1, i)) ** 2\n",
    "            + (2 - d(i - 1, j)) ** 2\n",
    "            + (2 - d(i + 1, j)) ** 2\n",
    "        )\n",
    "    )\n",
    "    model.Hint = 0\n",
    "    for i in range(N - 5):\n",
    "        j = i + 5\n",
    "        while j < N:\n",
    "            model.Hint = model.Hint + h(i, j)\n",
    "            j = j + 1\n",
    "\n",
    "    # setting the objective:\n",
    "    model.cost = pyo.Objective(expr=model.Hint + model.Hgc, sense=pyo.minimize)\n",
    "\n",
    "    return model"
   ]
  },
  {
   "cell_type": "markdown",
   "id": "5",
   "metadata": {},
   "source": [
    "## Creating the Protein Sequence\n",
    "Define the amino acid sequence as a string that is sent to the `folding_hamiltonian()` function to create an optimization model for the sequence:"
   ]
  },
  {
   "cell_type": "code",
   "execution_count": 3,
   "id": "6",
   "metadata": {},
   "outputs": [],
   "source": [
    "my_protein = \"ABCDEF\"  # ABCDEFG\"\n",
    "protein_model = folding_hamiltonian(my_protein)"
   ]
  },
  {
   "cell_type": "markdown",
   "id": "7",
   "metadata": {},
   "source": [
    "## Solving with the Classiq platform\n",
    "\n",
    "We go through the steps of solving the problem with the Classiq platform, using QAOA algorithm [[4](#QAOA)]. The solution is based on defining a pyomo model for the optimization problem we would like to solve."
   ]
  },
  {
   "cell_type": "markdown",
   "id": "8",
   "metadata": {},
   "source": [
    "### Setting Up the Classiq Problem Instance\n",
    "\n",
    "In order to solve the Pyomo model defined above, we use the `CombinatorialProblem` quantum object. Under the hood it tranlastes the Pyomo model to a quantum model of the QAOA algorithm, with a cost function translated from the Pyomo model. We can choose the number of layers for the QAOA ansatz using the argument `num_layers`."
   ]
  },
  {
   "cell_type": "code",
   "execution_count": 4,
   "id": "9",
   "metadata": {},
   "outputs": [],
   "source": [
    "from classiq import *\n",
    "from classiq.applications.combinatorial_optimization import CombinatorialProblem\n",
    "\n",
    "combi = CombinatorialProblem(pyo_model=protein_model, num_layers=5)\n",
    "\n",
    "qmod = combi.get_model()"
   ]
  },
  {
   "cell_type": "code",
   "execution_count": 5,
   "id": "10",
   "metadata": {},
   "outputs": [],
   "source": [
    "write_qmod(qmod, \"protein_folding\")"
   ]
  },
  {
   "cell_type": "markdown",
   "id": "11",
   "metadata": {},
   "source": [
    "## Synthesizing the QAOA Circuit and Solving the Problem\n",
    "\n",
    "We can now synthesize and view the QAOA circuit (ansatz) used to solve the optimization problem:"
   ]
  },
  {
   "cell_type": "code",
   "execution_count": 6,
   "id": "12",
   "metadata": {
    "scrolled": true
   },
   "outputs": [
    {
     "name": "stdout",
     "output_type": "stream",
     "text": [
      "Quantum program link: https://nightly.platform.classiq.io/circuit/2zoRqmnbZ8WcQnxCcqIRgROpR37\n"
     ]
    }
   ],
   "source": [
    "qprog = combi.get_qprog()\n",
    "show(qprog)"
   ]
  },
  {
   "cell_type": "markdown",
   "id": "13",
   "metadata": {},
   "source": [
    "We now solve the problem by calling the `optimize` method of the `CombinatorialProblem` object. For the classical optimization part of the QAOA algorithm we define the maximum number of classical iterations (`maxiter`) and the $\\alpha$-parameter (`quantile`) for running CVaR-QAOA, an improved variation of the QAOA algorithm [[3](#cvar)]:"
   ]
  },
  {
   "cell_type": "code",
   "execution_count": 7,
   "id": "14",
   "metadata": {},
   "outputs": [],
   "source": [
    "optimized_params = combi.optimize(maxiter=70, quantile=0.7)"
   ]
  },
  {
   "cell_type": "markdown",
   "id": "15",
   "metadata": {},
   "source": [
    "We can check the convergence of the run:"
   ]
  },
  {
   "cell_type": "code",
   "execution_count": 8,
   "id": "16",
   "metadata": {
    "scrolled": true
   },
   "outputs": [
    {
     "data": {
      "text/plain": [
       "Text(0.5, 1.0, 'Cost convergence')"
      ]
     },
     "execution_count": 8,
     "metadata": {},
     "output_type": "execute_result"
    },
    {
     "data": {
      "image/png": "[encoded data removed]",
      "text/plain": [
       "<Figure size 640x480 with 1 Axes>"
      ]
     },
     "metadata": {},
     "output_type": "display_data"
    }
   ],
   "source": [
    "import matplotlib.pyplot as plt\n",
    "\n",
    "fig, axes = plt.subplots(nrows=1, ncols=1)\n",
    "axes.plot(combi.cost_trace)\n",
    "axes.set_xlabel(\"Iterations\")\n",
    "axes.set_ylabel(\"Cost\")\n",
    "axes.set_title(\"Cost convergence\")"
   ]
  },
  {
   "cell_type": "markdown",
   "id": "17",
   "metadata": {},
   "source": [
    "## Presenting the Quantum Results\n",
    "\n",
    "In order to get samples with the optimized parameters, we call the `sample` method. Since this is a quantum solution with probablistic results, there is a defined probability for each result (shown in a histogram), where the solution is chosen as the most probable one. Translate the solution in terms of qubits, to the location in space of the amino acids, thereby creating a sketch of the protein folding for the sequence:"
   ]
  },
  {
   "cell_type": "code",
   "execution_count": 9,
   "id": "18",
   "metadata": {},
   "outputs": [
    {
     "data": {
      "text/html": [
       "<div>\n",
       "<style scoped>\n",
       "    .dataframe tbody tr th:only-of-type {\n",
       "        vertical-align: middle;\n",
       "    }\n",
       "\n",
       "    .dataframe tbody tr th {\n",
       "        vertical-align: top;\n",
       "    }\n",
       "\n",
       "    .dataframe thead th {\n",
       "        text-align: right;\n",
       "    }\n",
       "</style>\n",
       "<table border=\"1\" class=\"dataframe\">\n",
       "  <thead>\n",
       "    <tr style=\"text-align: right;\">\n",
       "      <th></th>\n",
       "      <th>solution</th>\n",
       "      <th>probability</th>\n",
       "      <th>cost</th>\n",
       "    </tr>\n",
       "  </thead>\n",
       "  <tbody>\n",
       "    <tr>\n",
       "      <th>0</th>\n",
       "      <td>{'f': [0, 0, 1, 0, 0, 1], 'interaction': [1]}</td>\n",
       "      <td>0.057129</td>\n",
       "      <td>-2600</td>\n",
       "    </tr>\n",
       "    <tr>\n",
       "      <th>1</th>\n",
       "      <td>{'f': [1, 1, 1, 0, 0, 1], 'interaction': [1]}</td>\n",
       "      <td>0.054199</td>\n",
       "      <td>-2600</td>\n",
       "    </tr>\n",
       "    <tr>\n",
       "      <th>37</th>\n",
       "      <td>{'f': [0, 0, 0, 0, 0, 1], 'interaction': [1]}</td>\n",
       "      <td>0.008789</td>\n",
       "      <td>-900</td>\n",
       "    </tr>\n",
       "    <tr>\n",
       "      <th>24</th>\n",
       "      <td>{'f': [0, 1, 1, 0, 1, 1], 'interaction': [1]}</td>\n",
       "      <td>0.010254</td>\n",
       "      <td>-900</td>\n",
       "    </tr>\n",
       "    <tr>\n",
       "      <th>7</th>\n",
       "      <td>{'f': [0, 1, 1, 0, 0, 1], 'interaction': [1]}</td>\n",
       "      <td>0.026367</td>\n",
       "      <td>-900</td>\n",
       "    </tr>\n",
       "  </tbody>\n",
       "</table>\n",
       "</div>"
      ],
      "text/plain": [
       "                                         solution  probability  cost\n",
       "0   {'f': [0, 0, 1, 0, 0, 1], 'interaction': [1]}     0.057129 -2600\n",
       "1   {'f': [1, 1, 1, 0, 0, 1], 'interaction': [1]}     0.054199 -2600\n",
       "37  {'f': [0, 0, 0, 0, 0, 1], 'interaction': [1]}     0.008789  -900\n",
       "24  {'f': [0, 1, 1, 0, 1, 1], 'interaction': [1]}     0.010254  -900\n",
       "7   {'f': [0, 1, 1, 0, 0, 1], 'interaction': [1]}     0.026367  -900"
      ]
     },
     "execution_count": 9,
     "metadata": {},
     "output_type": "execute_result"
    }
   ],
   "source": [
    "optimization_result = combi.sample(optimized_params)\n",
    "optimization_result.sort_values(by=\"cost\").head(5)"
   ]
  },
  {
   "cell_type": "markdown",
   "id": "19",
   "metadata": {},
   "source": [
    "We will also want to compare the optimized results to uniformly sampled results:"
   ]
  },
  {
   "cell_type": "code",
   "execution_count": 10,
   "id": "20",
   "metadata": {},
   "outputs": [],
   "source": [
    "uniform_result = combi.sample_uniform()"
   ]
  },
  {
   "cell_type": "markdown",
   "id": "21",
   "metadata": {},
   "source": [
    "And compare the histograms:"
   ]
  },
  {
   "cell_type": "code",
   "execution_count": 11,
   "id": "22",
   "metadata": {},
   "outputs": [
    {
     "data": {
      "image/png": "[encoded data removed]",
      "text/plain": [
       "<Figure size 640x480 with 1 Axes>"
      ]
     },
     "metadata": {},
     "output_type": "display_data"
    }
   ],
   "source": [
    "optimization_result[\"cost\"].plot(\n",
    "    kind=\"hist\",\n",
    "    bins=50,\n",
    "    edgecolor=\"black\",\n",
    "    weights=optimization_result[\"probability\"],\n",
    "    alpha=0.6,\n",
    "    label=\"optimized\",\n",
    ")\n",
    "uniform_result[\"cost\"].plot(\n",
    "    kind=\"hist\",\n",
    "    bins=50,\n",
    "    edgecolor=\"black\",\n",
    "    weights=uniform_result[\"probability\"],\n",
    "    alpha=0.6,\n",
    "    label=\"uniform\",\n",
    ")\n",
    "plt.legend()\n",
    "plt.ylabel(\"Probability\", fontsize=16)\n",
    "plt.xlabel(\"cost\", fontsize=16)\n",
    "plt.tick_params(axis=\"both\", labelsize=14)"
   ]
  },
  {
   "cell_type": "markdown",
   "id": "23",
   "metadata": {},
   "source": [
    "Let us plot the solution:"
   ]
  },
  {
   "cell_type": "code",
   "execution_count": 12,
   "id": "24",
   "metadata": {},
   "outputs": [
    {
     "data": {
      "text/plain": [
       "{'f': [0, 0, 1, 0, 0, 1], 'interaction': [1]}"
      ]
     },
     "execution_count": 12,
     "metadata": {},
     "output_type": "execute_result"
    }
   ],
   "source": [
    "best_solution = optimization_result.solution[optimization_result.cost.idxmin()]\n",
    "best_solution"
   ]
  },
  {
   "cell_type": "code",
   "execution_count": null,
   "id": "25",
   "metadata": {},
   "outputs": [],
   "source": [
    "best_solution = optimization_result.solution[optimization_result.cost.idxmin()][\"f\"]\n",
    "\n",
    "a = np.array([1, 0, 0, 1])\n",
    "N = len(my_protein)\n",
    "R = np.append(a, list(best_solution[0 : 2 * (N - 3)]))\n",
    "\n",
    "x = [0]\n",
    "y = [0]\n",
    "z = [0]\n",
    "for i in range(N - 1):\n",
    "    if (1 - R[2 * i]) * (1 - R[2 * i + 1]) == 1:\n",
    "        x.append(x[i] + (-1) ** (i + 1))\n",
    "        y.append(y[i] + (-1) ** (i))\n",
    "        z.append(z[i] + (-1) ** (i + 1))\n",
    "    if R[2 * i] * (1 - R[2 * i + 1]) == 1:\n",
    "        x.append(x[i] + (-1) ** (i + 1))\n",
    "        y.append(y[i] + (-1) ** (i + 1))\n",
    "        z.append(z[i] + (-1) ** (i))\n",
    "    if R[2 * i + 1] * (1 - R[2 * i]) == 1:\n",
    "        x.append(x[i] + (-1) ** (i))\n",
    "        y.append(y[i] + (-1) ** (i + 1))\n",
    "        z.append(z[i] + (-1) ** (i + 1))\n",
    "    if R[2 * i] * R[2 * i + 1] == 1:\n",
    "        x.append(x[i] + (-1) ** (i))\n",
    "        y.append(y[i] + (-1) ** (i))\n",
    "        z.append(z[i] + (-1) ** (i))\n",
    "\n",
    "fig = go.Figure(data=[go.Scatter3d(x=x, y=y, z=z)])\n",
    "fig.update_scenes(xaxis_visible=False, yaxis_visible=False, zaxis_visible=False)\n",
    "fig.show()"
   ]
  },
  {
   "cell_type": "markdown",
   "id": "26",
   "metadata": {},
   "source": [
    "## Comparing to Classical Results\n",
    "Solve the optimization model for the defined amino sequence by classical optimization, and present the results, thereby comparing to the QAOA performance. A mismatch of the classical and quantum solution indicates a need to tune the QAOA parameters:"
   ]
  },
  {
   "cell_type": "code",
   "execution_count": 14,
   "id": "27",
   "metadata": {},
   "outputs": [
    {
     "name": "stdout",
     "output_type": "stream",
     "text": [
      "Model protein_folding\n",
      "\n",
      "  Variables:\n",
      "    f : Size=6, Index=f_index\n",
      "        Key : Lower : Value : Upper : Fixed : Stale : Domain\n",
      "          0 :     0 :   0.0 :     1 : False : False : Binary\n",
      "          1 :     0 :   0.0 :     1 : False : False : Binary\n",
      "          2 :     0 :   1.0 :     1 : False : False : Binary\n",
      "          3 :     0 :   0.0 :     1 : False : False : Binary\n",
      "          4 :     0 :   0.0 :     1 : False : False : Binary\n",
      "          5 :     0 :   1.0 :     1 : False : False : Binary\n",
      "    interaction : Size=1, Index=interaction_index\n",
      "        Key : Lower : Value : Upper : Fixed : Stale : Domain\n",
      "          0 :     0 :   1.0 :     1 : False : False : Binary\n",
      "\n",
      "  Objectives:\n",
      "    cost : Size=1, Index=None, Active=True\n",
      "        Key  : Active : Value\n",
      "        None :   True : -2600.0\n",
      "\n",
      "  Constraints:\n",
      "    None\n"
     ]
    }
   ],
   "source": [
    "from pyomo.opt import SolverFactory\n",
    "\n",
    "solver = SolverFactory(\"couenne\")\n",
    "solver.solve(protein_model)\n",
    "\n",
    "protein_model.display()"
   ]
  },
  {
   "cell_type": "code",
   "execution_count": null,
   "id": "28",
   "metadata": {},
   "outputs": [],
   "source": [
    "best_classical_solution = [pyo.value(protein_model.f[i]) for i in range(2 * (N - 3))]\n",
    "\n",
    "a = np.array([1, 0, 0, 1])\n",
    "N = len(my_protein)\n",
    "R_c = np.append(a, best_classical_solution)\n",
    "\n",
    "x = [0]\n",
    "y = [0]\n",
    "z = [0]\n",
    "for i in range(N - 1):\n",
    "    if (1 - R_c[2 * i]) * (1 - R_c[2 * i + 1]) == 1:\n",
    "        x.append(x[i] + (-1) ** (i + 1))\n",
    "        y.append(y[i] + (-1) ** (i))\n",
    "        z.append(z[i] + (-1) ** (i + 1))\n",
    "    if R_c[2 * i] * (1 - R_c[2 * i + 1]) == 1:\n",
    "        x.append(x[i] + (-1) ** (i + 1))\n",
    "        y.append(y[i] + (-1) ** (i + 1))\n",
    "        z.append(z[i] + (-1) ** (i))\n",
    "    if R_c[2 * i + 1] * (1 - R_c[2 * i]) == 1:\n",
    "        x.append(x[i] + (-1) ** (i))\n",
    "        y.append(y[i] + (-1) ** (i + 1))\n",
    "        z.append(z[i] + (-1) ** (i + 1))\n",
    "    if R_c[2 * i] * R_c[2 * i + 1] == 1:\n",
    "        x.append(x[i] + (-1) ** (i))\n",
    "        y.append(y[i] + (-1) ** (i))\n",
    "        z.append(z[i] + (-1) ** (i))\n",
    "\n",
    "fig = go.Figure(data=[go.Scatter3d(x=x, y=y, z=z)])\n",
    "fig.update_scenes(xaxis_visible=False, yaxis_visible=False, zaxis_visible=False)\n",
    "fig.show()"
   ]
  },
  {
   "cell_type": "markdown",
   "id": "29",
   "metadata": {},
   "source": [
    "## References\n",
    "[1] [Levinthal's paradox.](https://en.wikipedia.org/wiki/Levinthal%27s_paradox)\n",
    "\n",
    "[2] [Robert, Anton, Panagiotis Kl Barkoutsos, Stefan Woerner, and Ivano Tavernelli. \"Resource-efficient quantum algorithm for protein folding.\" npj Quantum Information 7, no. 1 (2021): 1-5.](https://www.nature.com/articles/s41534-021-00368-4)\n",
    "\n",
    "[3] [Miyazawa, S. & Jernigan, R. L. Residue-residue potentials with a favorable contact pair term and an unfavorable high packing density term, for simulation and threading. J. Mol. Biol. 256, 623–644 (1996).](https://pubmed.ncbi.nlm.nih.gov/8604144/)\n",
    "\n",
    "<a id='QAOA'>[4]</a>: [Farhi, Edward, Jeffrey Goldstone, and Sam Gutmann. \"A quantum approximate optimization algorithm.\" arXiv preprint arXiv:1411.4028 (2014).](https://arxiv.org/abs/1411.4028)"
   ]
  }
 ],
 "metadata": {
  "kernelspec": {
   "display_name": "Python 3 (ipykernel)",
   "language": "python",
   "name": "python3"
  },
  "language_info": {
   "codemirror_mode": {
    "name": "ipython",
    "version": 3
   },
   "file_extension": ".py",
   "mimetype": "text/x-python",
   "name": "python",
   "nbconvert_exporter": "python",
   "pygments_lexer": "ipython3",
   "version": "3.11.4"
  },
  "vscode": {
   "interpreter": {
    "hash": "a07aacdcc8a415e7643a2bc993226848ff70704ebef014f87460de9126b773d0"
   }
  }
 },
 "nbformat": 4,
 "nbformat_minor": 9
}
