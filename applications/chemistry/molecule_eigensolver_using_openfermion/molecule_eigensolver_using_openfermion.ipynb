{
 "cells": [
  {
   "cell_type": "markdown",
   "id": "cbad17b4-2daa-4901-8a4b-1a4e22d53ed2",
   "metadata": {},
   "source": [
    "# Variational Quantum Eigensolver using OpenFermion package"
   ]
  },
  {
   "cell_type": "markdown",
   "id": "890b4f90-df8f-4bf3-9616-d58493b37f39",
   "metadata": {},
   "source": [
    "In this tutorial we build a Variational Quantum Eigensolver (VQE), using Qmod and OpenFermion packages [[1](#OF)]. OpenFermion is a comprehensive library for defining and analyzing Fermionic systems, in particular quantum chemistry problems. It provides efficient tools for transforming Fermionic operators to Pauli operators, which are then can be used with Qmod to define quantum algorithms. Some basic usage of this quantum chemistry package is incorporated in the notebook, however, we encourage the reader to read its [intro tutorial](https://quantumai.google/openfermion/tutorials/intro_to_openfermion) [[2](#OFintro)].\n",
    "\n",
    "This notebook implements the following logic, starting from a Molecule definition down to designing and executing a quantum model:\n",
    "\n",
    "* **Part (A):** Define a molecule and get its second-quantized Hamiltonian for the electronic structure problem. This part is done with the `openfermionpyscf` package.\n",
    "\n",
    "\n",
    "* **Part (B):** Construct a transformation from Fermionic Fock space to Qubits space, including space reduction via symmetries. The latter depends on the Molecule Hamiltonian itself. This part is done with the `openfermion` package.\n",
    "\n",
    "\n",
    "* **Part (C):** Build and run a VQE in the reduced Qubit space. The quantum primitives, such as Unitary Coupled Cluster (UCC) ansatz or Hartree Fock state preparation, are defined in the Fermionic Fock space. The quantum algorithm is thus consructed with the mapping defined in part (B). This part (C) is done with the `classiq` and its Qmod language."
   ]
  },
  {
   "cell_type": "markdown",
   "id": "e5cb14f1-004e-448b-9b06-ac42f03121fa",
   "metadata": {},
   "source": [
    "***\n",
    "## Part A: From Molecule to Electronic structure Hamiltonian\n",
    "***\n",
    "\n",
    "This part addresses the transformation:\n",
    "$$\n",
    "\\large \\text{Molecule parameters}\\rightarrow \\text{Hamiltonian in Fermionic Fock space}\n",
    "$$"
   ]
  },
  {
   "cell_type": "markdown",
   "id": "9c71d9a3-e01b-4b21-9130-06b475ee458d",
   "metadata": {},
   "source": [
    "### Defining a molecule\n",
    "\n",
    "We start with defining a molecule, specifying its geometry (elements and their 3D position), multiplicity ($2\\cdot(\\text{total spin})+1$), basis, and an optional string for its description. In this tutorial we focus on the LiH molecule. There are several ways to get geometry of molecules, typical way involves using the *SMILES* (Simplified Molecular Input Line Entry System) of a molecule and use a chemical package such as `RDkit` to extract the geometry as an `xyz` file (a code example is given at the end of this notebook in Appendix C). For simplicity, we store the geometry in advance in the `lih.xyz` file and load it.\n",
    "\n",
    "*Comment: For complex molecules it is possible to call directly `from openfermion.chem import geometry_from_pubchem`*"
   ]
  },
  {
   "cell_type": "code",
   "execution_count": 69,
   "id": "fba9a0e8-06cd-4d63-ab07-d13bf3999c03",
   "metadata": {
    "ExecuteTime": {
     "end_time": "2025-04-10T09:34:03.903578Z",
     "start_time": "2025-04-10T09:34:02.388423Z"
    }
   },
   "outputs": [
    {
     "name": "stdout",
     "output_type": "stream",
     "text": [
      "[('Li', (0.833472, 0.0, 0.0)), ('H', (-0.833472, 0.0, 0.0))]\n"
     ]
    }
   ],
   "source": [
    "import pathlib\n",
    "\n",
    "from openfermion.chem import MolecularData\n",
    "\n",
    "path = (\n",
    "    pathlib.Path(__file__).parent.resolve()\n",
    "    if \"__file__\" in locals()\n",
    "    else pathlib.Path(\".\")\n",
    ")\n",
    "geometry_file = path / \"lih.xyz\"\n",
    "\n",
    "# Set up molecule parameters\n",
    "basis = \"sto-3g\"  # Basis set\n",
    "multiplicity = 1  # Singlet state S=0\n",
    "charge = 0  # Neutral molecule\n",
    "\n",
    "# geometry\n",
    "with open(geometry_file, \"r\") as f:\n",
    "    lines = f.readlines()\n",
    "    atom_lines = lines[2:]  # skip atom count and comment\n",
    "    geometry = []\n",
    "    for line in atom_lines:\n",
    "        parts = line.strip().split()\n",
    "        symbol = parts[0]\n",
    "        coords = tuple(float(x) for x in parts[1:4])\n",
    "        geometry.append((symbol, coords))\n",
    "\n",
    "print(geometry)\n",
    "description = \"LiH\"\n",
    "\n",
    "# Create MolecularData object\n",
    "molecule = MolecularData(geometry, basis, multiplicity, charge, description)"
   ]
  },
  {
   "cell_type": "markdown",
   "id": "f3ca6546-9450-46ef-95a3-b4e26f2637e6",
   "metadata": {},
   "source": [
    "Next, we run a pyscf plugin for calculating various objects for our molecule problem, such as the second quantized Hamiltonian that is at the core of the VQE algorithm. For small problems, we can also get the Full Configuration Interaction (FCI), which calculates classically the ground state energy, i.e., for validating our quantum approach.\n",
    "\n",
    "*Comment: For complex problems running pyscf can take time, it is possible to run it only once, and load the data later on, using the `save` and `load` methods*."
   ]
  },
  {
   "cell_type": "code",
   "execution_count": 70,
   "id": "db06a8be-7e78-4a20-84ec-e63d082ac0ac",
   "metadata": {
    "ExecuteTime": {
     "end_time": "2025-04-10T09:34:04.224339Z",
     "start_time": "2025-04-10T09:34:03.904872Z"
    }
   },
   "outputs": [],
   "source": [
    "from openfermionpyscf import run_pyscf\n",
    "\n",
    "RECALCULATE_MOLECULE = True  # can be set to False after initial run\n",
    "if RECALCULATE_MOLECULE:\n",
    "    molecule = run_pyscf(\n",
    "        molecule,\n",
    "        run_mp2=True,\n",
    "        run_cisd=True,\n",
    "        run_ccsd=True,\n",
    "        run_fci=True,  # relevant for small, classically solvable problems\n",
    "    )\n",
    "    molecule.save()\n",
    "\n",
    "molecule.load()"
   ]
  },
  {
   "cell_type": "markdown",
   "id": "23e67540-a623-4356-bbe2-8ae21c439ef9",
   "metadata": {},
   "source": [
    "Now we can get several properties of our molecular problem. The electronic structure problem is described as a second quantized Hamiltonian\n",
    "$$\n",
    "\\Large H = h_0 + \\sum_{p,q=0}^{2N-1} h_{pq}\\, a^\\dagger_p a_q + \\frac{1}{2} \\sum_{p,q,r,s=0}^{2N-1} h_{pqrs} \\, a^\\dagger_p a^\\dagger_q a_r a_s,\n",
    "\\tag{1}\n",
    "$$\n",
    "where $h_0$ is a constant nuclear repulsion energy, and $h_{pq}$ and $h_{pqrs}$ are the well-known one-body and two-body molecular integrals, respectively. We can access these objects calling `molecule.nuclear_repulsion`,  `molecule.one_body_integrals` and `molecule.two_body_integrals`. The sum is over all spin orbitals, which is twice the number of spatial orbitals $N$, as for each spatial orbital we have a spin up and spin down space (also known as alpha and beta particles). This, together with the number of free electrons that can occupy those orbitals, define the electronic structure problem."
   ]
  },
  {
   "cell_type": "code",
   "execution_count": 71,
   "id": "5d3506ad-f775-4caf-a78b-76122b82c646",
   "metadata": {
    "ExecuteTime": {
     "end_time": "2025-04-10T09:34:04.225648Z",
     "start_time": "2025-04-10T09:34:04.224142Z"
    }
   },
   "outputs": [
    {
     "name": "stdout",
     "output_type": "stream",
     "text": [
      "The electronic structure problems has 12 spin orbitals, and we need to occupy 4 electrons\n"
     ]
    }
   ],
   "source": [
    "n_spatial_orbitals = molecule.n_orbitals\n",
    "n_electrons = molecule.n_electrons\n",
    "print(\n",
    "    f\"The electronic structure problems has {2*n_spatial_orbitals} spin orbitals, and we need to occupy {n_electrons} electrons\"\n",
    ")"
   ]
  },
  {
   "cell_type": "markdown",
   "id": "c66fa058-957d-490a-8e9a-c937ca7e5155",
   "metadata": {},
   "source": [
    "### Defining a Fermionic operator for a reduced problem (active space/freeze core)\n",
    "\n",
    "In some cases, we can \"freeze\" some of the orbitals, occupying them with both spin up and spin down electrons. In other words, we can choose the active space for our molecular problem --- the spatial orbitals that are relevant to the quantum problem. This of-course reduces the problem we need to tackle. Below we freeze the core ($0^{\\rm th}$) orbital, and define the Fermionic operator object (as in Eq. (1)). Note that we have to update the number of spatial orbitals and electrons accordingly."
   ]
  },
  {
   "cell_type": "code",
   "execution_count": 72,
   "id": "a28a9671-ba18-4aec-b742-a6cfddd5365f",
   "metadata": {
    "ExecuteTime": {
     "end_time": "2025-04-10T09:34:04.233554Z",
     "start_time": "2025-04-10T09:34:04.227260Z"
    }
   },
   "outputs": [
    {
     "name": "stdout",
     "output_type": "stream",
     "text": [
      "Reduced number of spatial orbitals after freeze core: 5\n",
      "Reduced number of electrons after freeze core: 2\n",
      "Length of Hamiltonian in Fermionic representation: 811\n",
      "Number of qubits representing the problem: 10\n"
     ]
    }
   ],
   "source": [
    "from openfermion.transforms import get_fermion_operator\n",
    "\n",
    "# Get the Hamiltonian in an active space\n",
    "first_active_index = 1\n",
    "last_active_index = n_spatial_orbitals\n",
    "molecular_hamiltonian = molecule.get_molecular_hamiltonian(\n",
    "    occupied_indices=range(first_active_index),  # freezing the core\n",
    "    active_indices=range(\n",
    "        first_active_index, last_active_index\n",
    "    ),  # active space is all the rest of the orbitals\n",
    ")\n",
    "\n",
    "## Update the number of orbitals and electrons\n",
    "n_freezed_orbitals = first_active_index + n_spatial_orbitals - last_active_index\n",
    "n_spatial_orbitals -= n_freezed_orbitals\n",
    "n_electrons -= 2 * n_freezed_orbitals\n",
    "print(f\"Reduced number of spatial orbitals after freeze core: {n_spatial_orbitals}\")\n",
    "print(f\"Reduced number of electrons after freeze core: {n_electrons}\")\n",
    "\n",
    "\n",
    "# Map operator to fermions\n",
    "fermion_hamiltonian = get_fermion_operator(molecular_hamiltonian)\n",
    "fermion_hamiltonian.compress(abs_tol=1e-13)  # trimming\n",
    "n_qubits = molecular_hamiltonian.n_qubits\n",
    "print(\n",
    "    f\"Length of Hamiltonian in Fermionic representation: {len(fermion_hamiltonian.terms)}\"\n",
    ")\n",
    "print(f\"Number of qubits representing the problem: {n_qubits}\")"
   ]
  },
  {
   "cell_type": "markdown",
   "id": "c4c30b3e-27f4-4f9b-bea0-68f664f3f3fb",
   "metadata": {},
   "source": [
    "Let us look at several terms of our Fermionic operator:"
   ]
  },
  {
   "cell_type": "code",
   "execution_count": 73,
   "id": "ef5c404b-d33f-4d1e-86c7-a64effe820cd",
   "metadata": {
    "ExecuteTime": {
     "end_time": "2025-04-10T09:34:04.240008Z",
     "start_time": "2025-04-10T09:34:04.235441Z"
    }
   },
   "outputs": [
    {
     "name": "stdout",
     "output_type": "stream",
     "text": [
      "((), -6.817329071667988)\n",
      "(((0, 1), (0, 0)), -0.7621826148518233)\n",
      "(((0, 1), (2, 0)), 0.04973907707590488)\n",
      "(((0, 1), (8, 0)), -0.12350856641974847)\n",
      "(((1, 1), (1, 0)), -0.7621826148518233)\n",
      "(((9, 1), (9, 1), (9, 0), (9, 0)), 0.22555659839798442)\n",
      "(((9, 1), (9, 1), (9, 0), (3, 0)), -0.022199146730810936)\n",
      "(((9, 1), (9, 1), (9, 0), (1, 0)), 0.06490533159641153)\n",
      "(((9, 1), (9, 1), (7, 0), (7, 0)), 0.009903477510802505)\n",
      "(((9, 1), (9, 1), (5, 0), (5, 0)), 0.009903477510802507)\n"
     ]
    }
   ],
   "source": [
    "print(*list(fermion_hamiltonian.terms.items())[:5], sep=\"\\n\")\n",
    "print(*list(fermion_hamiltonian.terms.items())[::-1][:5], sep=\"\\n\")"
   ]
  },
  {
   "cell_type": "markdown",
   "id": "2a49ea33-8cee-466d-a5f0-1a13bfe245f3",
   "metadata": {},
   "source": [
    "We can see one-body terms $((i,1),(j,0))$ that refer to $a_i^{\\dagger}a_j$, and two-body terms $((i,1),(j,1),(k,0),(l,0))$ that corresponds to $a_i^{\\dagger}a_j^{\\dagger}a_ka_l$."
   ]
  },
  {
   "cell_type": "markdown",
   "id": "cf7ada21-0ccb-48d7-9414-1529b23cee9c",
   "metadata": {},
   "source": [
    "<div style=\"background-color:#f0f8ff; border-left: 5px solid #0077cc; padding: 10px;\">\n",
    "<strong> Orbital labeling: :</strong> For $N$ spatial orbitals we have $N_\\alpha (\\text{spin up})=N_\\beta (\\text{spin down})=N$. In OpenFermion, the order of spin orbitals is alternating spin labeling $(0_\\uparrow, 0_\\downarrow, 1_\\uparrow, 1_\\downarrow,\\dots, (N-1)_\\uparrow, (N-1)_\\downarrow$). When transforming the problem to a Qubit Hamiltonian, described by Pauli strings, then different ordering can result in different Hamiltonians, which in turn, might  lead to different quantum circuits in terms of depth or cx-counts. For example, Classiq's built-in `MoleculeProblem` object is defined according to block spin labeling $(0_\\uparrow, 1_\\uparrow, \\dots, (N-1)_\\uparrow, 0_\\downarrow,1_\\downarrow\\dots, (N-1)_\\downarrow$).\n",
    "</div>\n"
   ]
  },
  {
   "cell_type": "markdown",
   "id": "4acfdde7-d608-41ce-821e-f05c6a00d8ba",
   "metadata": {},
   "source": [
    "***\n",
    "## Part B: From Fock space to reduced Qubit space\n",
    "***\n",
    "\n",
    "In this part we define the following transformations:\n",
    "$$\n",
    "\\large \\text{Fermionic Fock space}\\xrightarrow{\\text{JW}} \\text{Hilbert space for qubits} \\xrightarrow{\\text{Clifford transformation}} \\text{eigenspace of } \\mathbb{Z}_2 \\text{ symmetries} \\xrightarrow{\\text{tapering}} \\text{Reduced space},\n",
    "$$\n",
    "where JW stands for the Jordan-Wigner transform."
   ]
  },
  {
   "cell_type": "markdown",
   "id": "4fdebf94-ff6b-40cb-9baf-912cc7f1d685",
   "metadata": {},
   "source": [
    "### Transforming to Qubit Hamiltonian (Pauli strings)\n",
    "\n",
    "Next, we need to transform the creation/annihilation operators to Pauli operators, suitable for quantum algorithms. There are several known transforms, such as Jordan Wigner (JW) and Bravyi Kitaev (BK) transforms. In this tutorial we will use the JW transform."
   ]
  },
  {
   "cell_type": "code",
   "execution_count": 74,
   "id": "ad5347f8-ef2c-45f0-9cd6-b2a5bafa3d7c",
   "metadata": {
    "ExecuteTime": {
     "end_time": "2025-04-10T09:34:04.300403Z",
     "start_time": "2025-04-10T09:34:04.278868Z"
    }
   },
   "outputs": [
    {
     "name": "stdout",
     "output_type": "stream",
     "text": [
      "Length of Hamiltonian in Pauli representation: 276\n",
      "Example of Pauli Hamiltonian terms:\n",
      "((), -5.7501846147641515)\n",
      "(((0, 'Z'),), -0.2967048507992733)\n",
      "(((0, 'Y'), (1, 'Z'), (2, 'Y')), -0.0025472629069861466)\n",
      "(((0, 'X'), (1, 'Z'), (2, 'X')), -0.0025472629069861466)\n",
      "(((0, 'Y'), (1, 'Z'), (2, 'Z'), (3, 'Z'), (4, 'Z'), (5, 'Z'), (6, 'Z'), (7, 'Z'), (8, 'Y')), -0.01778020141437882)\n"
     ]
    }
   ],
   "source": [
    "from openfermion.transforms import jordan_wigner\n",
    "\n",
    "qubit_hamiltonian = jordan_wigner(fermion_hamiltonian)\n",
    "qubit_hamiltonian.compress(abs_tol=1e-13)  # trimming\n",
    "\n",
    "print(f\"Length of Hamiltonian in Pauli representation: {len(qubit_hamiltonian.terms)}\")\n",
    "print(\"Example of Pauli Hamiltonian terms:\")\n",
    "print(*list(qubit_hamiltonian.terms.items())[:5], sep=\"\\n\")"
   ]
  },
  {
   "cell_type": "markdown",
   "id": "bc952d5c-5189-40fc-b9ca-7cf888ee281f",
   "metadata": {},
   "source": [
    "### Hartree Fock state\n",
    "\n",
    "The Hartree Fock state refers to excitation of all the lower energy orbitals. In OpenFermion notation, these refer to the lowest orbital indices. Thus, if we have $M$ free electrons, we just excite the first $M$ states. This is captured by operating on the zero state with the operator\n",
    "$$\n",
    "H_{\\rm HF} = \\sum^{M}_{i=0} a^{\\dagger}_{i}.\n",
    "$$"
   ]
  },
  {
   "cell_type": "code",
   "execution_count": 75,
   "id": "aed823eb-5c53-493a-be60-296b51d5cbca",
   "metadata": {
    "ExecuteTime": {
     "end_time": "2025-04-10T09:34:04.300635Z",
     "start_time": "2025-04-10T09:34:04.280858Z"
    }
   },
   "outputs": [],
   "source": [
    "from openfermion import FermionOperator\n",
    "\n",
    "hf_excitation = FermionOperator(\" \".join(f\"{o}^\" for o in range(n_electrons)), 1.0)\n",
    "hf_operator = jordan_wigner(hf_excitation)\n",
    "hf_operator.compress(1e-13)"
   ]
  },
  {
   "cell_type": "markdown",
   "id": "85b4f316-6305-46a4-b45d-3cab43df29e4",
   "metadata": {},
   "source": [
    "Next, we calculate the state generated by the Hartree Fock operator. We first define a general function that returns a qubit state from qubit operator application on the zero state."
   ]
  },
  {
   "cell_type": "code",
   "execution_count": 76,
   "id": "ed424647-20a2-4e64-959d-abb20beb863c",
   "metadata": {
    "ExecuteTime": {
     "end_time": "2025-04-10T09:34:04.300721Z",
     "start_time": "2025-04-10T09:34:04.291233Z"
    }
   },
   "outputs": [],
   "source": [
    "from openfermion import QubitOperator\n",
    "\n",
    "\n",
    "def qubit_operation_on_zero_state(qubit_operator: QubitOperator, n_qubits: int):\n",
    "    states = {}\n",
    "    for term, coefficient in qubit_operator.terms.items():\n",
    "        state = [0] * n_qubits\n",
    "        coe = coefficient\n",
    "        for op in term:\n",
    "            if op[1] == \"X\":\n",
    "                state[op[0]] ^= 1\n",
    "            if op[1] == \"Y\":\n",
    "                state[op[0]] ^= 1\n",
    "                coe *= 1j\n",
    "        state = \"\".join(map(str, state))\n",
    "        states[state] = states.get(state, 0) + coe\n",
    "\n",
    "    return states"
   ]
  },
  {
   "cell_type": "markdown",
   "id": "15f17669-bf72-407a-938e-78d745d1bf53",
   "metadata": {},
   "source": [
    "Typically, e.g., for the Jordan Wigner or the Bravyi Kitaev transforms, the Hartree Fock state, which is an elementary basis state in the Fock space, is mapped to a single computational basis state."
   ]
  },
  {
   "cell_type": "code",
   "execution_count": 77,
   "id": "7352ae4a-caee-48fb-8048-27f25d673c29",
   "metadata": {
    "ExecuteTime": {
     "end_time": "2025-04-10T09:34:04.300846Z",
     "start_time": "2025-04-10T09:34:04.291536Z"
    }
   },
   "outputs": [
    {
     "name": "stdout",
     "output_type": "stream",
     "text": [
      "The HF state: 1100000000\n"
     ]
    }
   ],
   "source": [
    "hf_state = qubit_operation_on_zero_state(hf_operator, n_qubits)\n",
    "assert (\n",
    "    len(hf_state) == 1\n",
    "), f\"The resulting HF state is not a single computationa state, got {hf_state}\"\n",
    "hf_str = list(hf_state.keys())[0]\n",
    "print(f\"The HF state: {hf_str}\")"
   ]
  },
  {
   "cell_type": "markdown",
   "id": "cfe1c7de-232f-4389-a61a-0a6bb44d5a09",
   "metadata": {},
   "source": [
    "<div style=\"background-color:#f0f8ff; border-left: 5px solid #0077cc; padding: 10px;\">\n",
    "<strong> HF state under the JW transform: :</strong> Working with the JW transform, there is a simple relation between the original Fock (occupation number) and transformed (computational) basis states: the state $|\\underbrace{0\\dots 0}_{k-1}10\\dots 0\\rangle$ corresponds to occupation of the $k$-th spin orbital in both spaces. Therefore, the Hartree Fock state under this transformation is a string that startes with `n_electrons` 1s, and the rest is 0.\n",
    "</div>\n"
   ]
  },
  {
   "cell_type": "markdown",
   "id": "66e96e41-1317-459c-bc1e-7c133a594d01",
   "metadata": {},
   "source": [
    "### Reducing the problem size with $\\mathbb{Z}_2$ symmetries (qubit tapering)\n",
    "\n",
    "Next, we will use symmetries to reduce the problem size. The theory of qubit tapering is broad and complex, see for example Refs [[3](#sym1)] and [[4](#sym2)]. The main steps of this procedure are as follows (see some technical details in Appendix A at the end of this notebook):\n",
    "\n",
    "1. Find generators $\\left\\{g^{(i)}\\right\\}^k_{i=1}$ for a group of operators that commute with the Hamiltonian $H$: for all $g\\in \\langle g^{(1)},\\dots g^{(k)}\\rangle$, $\\left[H, g\\right] = 0$. That means that there is a basis in which both $H$ and such $g$ operators are diagonal. These operators are assumed to be a single Pauli string, typically containing only Pauli $Z$ operators.\n",
    "2. Find a unitary transformation $U$ that diagonalizes all $g^{(i)}$, such that each generator operates trivially on all qubits except one, e.g., they transform to operators of the form $X_{l}$ for some qubit number $l$. It can be shown that such unitary can be constructed as $\\Pi^k_{i=1}\\frac{1}{\\sqrt{2}}\\left(X_{m^{(i)}}+g^{(i)}\\right)$, where $X_{m^{(i)}}$ is operating on a some single qubit $m^{(i)}$.\n",
    "3. Apply the transformation $U^{\\dagger} H U$, whose eigenspace will be identical to those of $U^{\\dagger} g_i U$. That means that on some qubits the transformed Hamiltonian is acting trivially, returning $\\pm 1$ (thus is the name $\\mathbb{Z}_2$ symmetries), and we can taper them off.\n",
    "4. Taper off qubits from the transformed Hamiltonian."
   ]
  },
  {
   "cell_type": "markdown",
   "id": "f5e0c390-c9c5-45d2-bfd3-3835331bce5e",
   "metadata": {},
   "source": [
    "#### Step 1: Finding generators for the symmetry group $\\left\\{g^{(i)}\\right\\}$ and their accompanying $\\left\\{X_{m^{(i)}}\\right\\}$ operators\n",
    "\n",
    "There are known techniques for finding a set of independent $\\mathbb{Z}_2$-symmetry generators, see Refs [[3](#sym1)] and [[4](#sym2)]. In  Appendix B of this tutorial we provide a code that implements a function, `find_z2sym`, for obtaining $\\left\\{\\left(g^{(i)}, X_{m^{(i)}}\\right)\\right\\}$ for a given Hamiltonian. Instead of working with the generic approach, in this tutorial we will use some educated guess, according to some physical properties--- conservation laws--- of our system, to define several symmetry operations. In electronic structure problems we have, for example, **particle number conservation**, **spin conservation**, and **number of particles with fixed spin orientation**. The latter corresponds to the two Fermionic operators:\n",
    "$$\n",
    "\\text{Total number of spin-up/down particles operator:} \\qquad N_{\\uparrow} = \\sum_i a^{\\dagger}_{i\\uparrow} a_{i\\uparrow}, \\qquad \n",
    "N_{\\downarrow} = \\sum_i a^{\\dagger}_{i\\downarrow} a_{i\\downarrow}.\n",
    "$$\n",
    "We can use this conserved quantities to construct some relevant symmetry generators, when working with the JW transform: \n",
    "$$\n",
    "g_{\\uparrow} = \\Pi^{N/2}_{k=0}Z_{2k}, \\qquad g_{\\downarrow} = \\Pi^{N/2}_{k=0}Z_{2k+1}.\n",
    "$$\n",
    "For more details see the info box below (note that using the generic approach given in the Appendix, one finds 4 symmetry generators. See last code block at the bottom of the notebook)."
   ]
  },
  {
   "cell_type": "markdown",
   "id": "ea88b556-0905-4b5e-8237-78299ce3679e",
   "metadata": {},
   "source": [
    "<div style=\"background-color:#f0f8ff; border-left: 5px solid #0077cc; padding: 10px;\">\n",
    "<strong> Conserved quantities under the JW transform: :</strong> As explained in the previous info box, working with the JW transform gives that Fock basis state are trasformed to the computational basis states. In particular, there is a relation between the orbital number operator and the $Z$ operators: $n_i = a_i^{\\dagger}a_i = \\frac{1}{2}\\left(1-Z_i\\right)$. We cannot use the transformation of $N_{\\uparrow(\\downarrow)}$ as our symmetry generators, as it corresponds to a sum of Pauli strings rather than a single string. However, we can use any function of those, for example $g_{\\uparrow(\\downarrow)} = e^{\\pi i \\hat{N}_{\\uparrow(\\downarrow)}}$, which, up to a global phase, gives the generators chosen above.\n",
    "</div>\n"
   ]
  },
  {
   "cell_type": "markdown",
   "id": "7c2a581d-951b-4f97-aa5a-238bf14ddc1e",
   "metadata": {},
   "source": [
    "Let us define and verify our generators, including their commutation relation with the Hamiltonian:"
   ]
  },
  {
   "cell_type": "code",
   "execution_count": 78,
   "id": "9a0d6f48-4bec-49ee-9f12-fc9ddb70ffab",
   "metadata": {
    "ExecuteTime": {
     "end_time": "2025-04-10T09:34:04.301199Z",
     "start_time": "2025-04-10T09:34:04.291617Z"
    }
   },
   "outputs": [
    {
     "name": "stdout",
     "output_type": "stream",
     "text": [
      "Up number generator:\n",
      "1.0 [Z0 Z2 Z4 Z6 Z8]\n",
      "Norm of commutator with the Hamiltonian 0.0\n",
      "========================================\n",
      "Down number  generator:\n",
      "1.0 [Z1 Z3 Z5 Z7 Z9]\n",
      "Norm of commutator with the Hamiltonian 0.0\n"
     ]
    }
   ],
   "source": [
    "from openfermion import QubitOperator\n",
    "from openfermion.utils import commutator\n",
    "\n",
    "## Total number operator\n",
    "up_number_generator = QubitOperator(\n",
    "    tuple([(2 * k, \"Z\") for k in range(n_qubits // 2)]), 1.0\n",
    ")\n",
    "up_number_generator.compress(1e-13)  # for removing small terms and zero imaginary ones\n",
    "print(\"Up number generator:\")\n",
    "print(*up_number_generator, sep=\"+\")\n",
    "print(\n",
    "    f\"Norm of commutator with the Hamiltonian {commutator(qubit_hamiltonian, up_number_generator).induced_norm(1)}\"\n",
    ")\n",
    "print(\"=\" * 40)\n",
    "\n",
    "## S_z operator\n",
    "down_number_generator = QubitOperator(\n",
    "    tuple([(2 * k + 1, \"Z\") for k in range(n_qubits // 2)]), 1.0\n",
    ")\n",
    "down_number_generator.compress(\n",
    "    1e-13\n",
    ")  # for removing small terms and zero imaginary ones\n",
    "print(\"Down number  generator:\")\n",
    "print(*down_number_generator, sep=\"+\")\n",
    "print(\n",
    "    f\"Norm of commutator with the Hamiltonian {commutator(qubit_hamiltonian, down_number_generator).induced_norm(1)}\"\n",
    ")"
   ]
  },
  {
   "cell_type": "markdown",
   "id": "dc71b705-5afb-4636-9267-63edafc7b25f",
   "metadata": {},
   "source": [
    "Now, for the given set of generators $\\left\\{g^{(i)}\\right\\}$, which are assumed to be single Pauli strings, we search for a set of single qubit Pauli $X$ operators, $\\left\\{ X_{m^{(i)}} \\right\\}$, such that $g^{(i)} X_{m^{(j)}}= (-1)^{\\delta_{ij}} X_{m^{(j)}}g^{(i)} $. Below we hard-code and verify those operators. A full algorithm is given in the Appendix of this notebook. "
   ]
  },
  {
   "cell_type": "code",
   "execution_count": 79,
   "id": "865f5834-8a68-49f0-a20b-c4650f5e1610",
   "metadata": {
    "ExecuteTime": {
     "end_time": "2025-04-10T09:34:04.310463Z",
     "start_time": "2025-04-10T09:34:04.299568Z"
    }
   },
   "outputs": [
    {
     "name": "stdout",
     "output_type": "stream",
     "text": [
      "The set of Pauli X operators: [[((0, 'X'),)], [((1, 'X'),)]]\n",
      "=================================================================\n",
      "Pauli X_0 and generator 0 commutator: -2j [Y0 Z2 Z4 Z6 Z8]\n",
      "Pauli X_0 and generator 1 commutator: 0\n",
      "Pauli X_1 and generator 0 commutator: 0\n",
      "Pauli X_1 and generator 1 commutator: -2j [Y1 Z3 Z5 Z7 Z9]\n"
     ]
    }
   ],
   "source": [
    "sym_generators = [\n",
    "    up_number_generator,\n",
    "    down_number_generator,\n",
    "]\n",
    "\n",
    "single_pauli_xops = [QubitOperator((0, \"X\"), 1), QubitOperator((1, \"X\"), 1)]\n",
    "print(\n",
    "    f\"The set of Pauli X operators: {[list(op.terms.keys()) for op in single_pauli_xops]}\"\n",
    ")\n",
    "print(\"=\" * 65)\n",
    "for pauli_x in single_pauli_xops:\n",
    "    x_position = list(pauli_x.terms.keys())[0][0][0]\n",
    "    for j in range(len(sym_generators)):\n",
    "        print(\n",
    "            f\"Pauli X_{x_position} and generator {j} commutator: {commutator(pauli_x, sym_generators[j])}\"\n",
    "        )"
   ]
  },
  {
   "cell_type": "markdown",
   "id": "debb3f40-ddc3-4369-8483-9e33385ca2b7",
   "metadata": {},
   "source": [
    "#### Step 2: Defining a block-diagonalizing unitary\n",
    "\n",
    "Given the generators and the corresponding single Pauli X operators, we define the Clifford operator:\n",
    "$$\n",
    "\\Pi^k_{i=1}\\frac{1}{\\sqrt{2}}\\left(X_{m^{(i)}}+g^{(i)}\\right).\n",
    "$$\n"
   ]
  },
  {
   "cell_type": "code",
   "execution_count": 80,
   "id": "2f07b959-99d1-44ef-9931-abbc9d74ba98",
   "metadata": {
    "ExecuteTime": {
     "end_time": "2025-04-10T09:34:04.310753Z",
     "start_time": "2025-04-10T09:34:04.302707Z"
    }
   },
   "outputs": [],
   "source": [
    "block_diagonalizing_clifford = QubitOperator((), 1)\n",
    "for gen, pauli_x in zip(sym_generators, single_pauli_xops):\n",
    "    block_diagonalizing_clifford *= (2 ** (-0.5)) * (pauli_x + gen)"
   ]
  },
  {
   "cell_type": "markdown",
   "id": "c1fec77e-40b9-4e4b-a6e8-bc0255380012",
   "metadata": {},
   "source": [
    "Let us verify, for example, that indeed this diagonalizing operator map each generator into a single computational basis subspace:"
   ]
  },
  {
   "cell_type": "code",
   "execution_count": 81,
   "id": "60e07b4c-08b8-4cda-bf58-ae28a2bb104c",
   "metadata": {
    "ExecuteTime": {
     "end_time": "2025-04-10T09:34:04.310884Z",
     "start_time": "2025-04-10T09:34:04.305930Z"
    }
   },
   "outputs": [
    {
     "name": "stdout",
     "output_type": "stream",
     "text": [
      "Generator in the new basis: 1.0000000000000004 [X0]\n",
      "Generator in the new basis: 1.0000000000000004 [X1]\n"
     ]
    }
   ],
   "source": [
    "def clifford_transform(clifford: QubitOperator, qubit_op: QubitOperator):\n",
    "    transformed_op = clifford * qubit_op * clifford\n",
    "    transformed_op.compress(1e-13)\n",
    "    return transformed_op\n",
    "\n",
    "\n",
    "for gen in sym_generators:\n",
    "    print(\n",
    "        \"Generator in the new basis:\",\n",
    "        clifford_transform(block_diagonalizing_clifford, gen),\n",
    "    )"
   ]
  },
  {
   "cell_type": "markdown",
   "id": "27c1f9d6-04f3-416e-bb4d-70308cc0f378",
   "metadata": {},
   "source": [
    "#### Step 3: Transforming the Hamiltonian\n",
    "\n",
    "Finally, we can now block-diagonalize the Hamiltonian. We shall see that after transformation, the Hamiltonian acts trivially on some of the qubits, with the identity or with the $\\left\\{X_{m^{(i)}}\\right\\}$ operators found above. Thus, we can reduce by going to one of the two eigenspaces of these operators, with eigenvalues $\\pm 1$.\n",
    "\n",
    "Which eigenspace to choose? We will answer this question in the next step."
   ]
  },
  {
   "cell_type": "markdown",
   "id": "e109eb96-2247-4010-93a9-c08479104b67",
   "metadata": {},
   "source": [
    "Let us block-diagonalize our Hamiltonian:"
   ]
  },
  {
   "cell_type": "code",
   "execution_count": 82,
   "id": "766c80a2-8da2-4de9-8546-46a1e41626f1",
   "metadata": {
    "ExecuteTime": {
     "end_time": "2025-04-10T09:34:04.408315Z",
     "start_time": "2025-04-10T09:34:04.335407Z"
    }
   },
   "outputs": [
    {
     "name": "stdout",
     "output_type": "stream",
     "text": [
      "Example of Pauli Hamiltonian terms:\n",
      "((), -5.750184614764153)\n",
      "(((0, 'X'), (2, 'Z'), (4, 'Z'), (6, 'Z'), (8, 'Z')), -0.2967048507992734)\n",
      "(((1, 'X'), (2, 'X'), (3, 'Z'), (4, 'Z'), (5, 'Z'), (6, 'Z'), (7, 'Z'), (8, 'Z'), (9, 'Z')), 0.0025472629069861474)\n",
      "(((0, 'X'), (1, 'X'), (2, 'X'), (3, 'Z'), (5, 'Z'), (7, 'Z'), (9, 'Z')), -0.0025472629069861474)\n",
      "(((1, 'X'), (8, 'X'), (9, 'Z')), 0.017780201414378825)\n",
      "(((0, 'X'), (1, 'X'), (2, 'Z'), (4, 'Z'), (6, 'Z'), (8, 'X'), (9, 'Z')), -0.017780201414378825)\n",
      "(((1, 'X'), (3, 'Z'), (5, 'Z'), (7, 'Z'), (9, 'Z')), -0.29670485079927345)\n",
      "(((2, 'Z'), (3, 'X'), (5, 'Z'), (7, 'Z'), (9, 'Z')), 0.0025472629069861544)\n"
     ]
    }
   ],
   "source": [
    "block_diagonal_hamiltonian = clifford_transform(\n",
    "    block_diagonalizing_clifford, qubit_hamiltonian\n",
    ")\n",
    "print(\"Example of Pauli Hamiltonian terms:\")\n",
    "print(*list(block_diagonal_hamiltonian.terms.items())[:8], sep=\"\\n\")"
   ]
  },
  {
   "cell_type": "markdown",
   "id": "6219a4d9-38ad-4077-af16-cd17c3ab3b01",
   "metadata": {},
   "source": [
    "We can see that on the first and second qubits we have only $X$ operations."
   ]
  },
  {
   "cell_type": "markdown",
   "id": "5d87e60f-05a2-43e0-ac1e-f7edee2b37f9",
   "metadata": {},
   "source": [
    "#### Step 4: Tapering-off qubits\n"
   ]
  },
  {
   "cell_type": "markdown",
   "id": "1b0aa0ec-dcc7-441b-8c93-4ae463c325c6",
   "metadata": {},
   "source": [
    "Next, we can taper-off the Hamiltonian by using `openfermion` built-in function `taper_off_qubits`. We shall choose a sector, i.e., the $+1$ or $-1$ subspace, by modifying the signs of the $X$ operations. To emphasize the effect of choosing different sectors, we construct 4 tapered operators, each for the subspaces (sectors) $\\pm 1 \\otimes \\pm 1$, and classically calculate the ground state for each tapered Hamiltonian."
   ]
  },
  {
   "cell_type": "code",
   "execution_count": 83,
   "id": "4a91ae80-5c68-41f4-9766-4dfae3c1355d",
   "metadata": {
    "ExecuteTime": {
     "end_time": "2025-04-10T09:34:06.321192Z",
     "start_time": "2025-04-10T09:34:04.353651Z"
    }
   },
   "outputs": [
    {
     "name": "stdout",
     "output_type": "stream",
     "text": [
      "For sector (1, 1): minimal eigenvalue: (-7.768908584655484+0j)\n",
      "For sector (1, -1): minimal eigenvalue: (-7.804992414357781+0j)\n",
      "For sector (-1, 1): minimal eigenvalue: (-7.80499241435776-5.7946461550133274e-40j)\n",
      "For sector (-1, -1): minimal eigenvalue: (-7.880416053961537+0j)\n"
     ]
    }
   ],
   "source": [
    "import itertools\n",
    "\n",
    "import numpy as np\n",
    "from openfermion.linalg import get_sparse_operator\n",
    "from openfermion.transforms import taper_off_qubits\n",
    "\n",
    "for sector in itertools.product([1, -1], repeat=len(single_pauli_xops)):\n",
    "    tapered_hamiltonian = taper_off_qubits(\n",
    "        block_diagonal_hamiltonian,\n",
    "        [sector[i] * single_pauli_xops[i] for i in range(len(sector))],\n",
    "    )\n",
    "    tapered_hamiltonian.compress(1e-13)\n",
    "    tapered_hamiltonian_sparse = get_sparse_operator(tapered_hamiltonian)\n",
    "    w, v = np.linalg.eig(tapered_hamiltonian_sparse.toarray())\n",
    "    print(f\"For sector {sector}: minimal eigenvalue: {np.min(w)}\")"
   ]
  },
  {
   "cell_type": "markdown",
   "id": "8ab8556e-c633-4e8e-a00f-3f5a29dbd9ab",
   "metadata": {},
   "source": [
    "##### Finding the optimal sector\n",
    "\n",
    "Qubit tapering should include a choice of eigenspace sector. In VQE we are looking for the minimal energy of the Hamiltonian, thus, we should find the sector containing the ground state. One possibility is to run multiple VQEs on all sectors. However, another approach is to fix the sector according to the HF state, which is assumed to be in the optimal sector.\n",
    "\n",
    "Let us define a function that determines which sector contains the HF state, by applying the symmetry generators on it. The function returns the signed $X$ operators for the optimal sector."
   ]
  },
  {
   "cell_type": "code",
   "execution_count": 84,
   "id": "bad58562-2475-4912-af61-df582ae47988",
   "metadata": {
    "ExecuteTime": {
     "end_time": "2025-04-10T09:34:06.387456Z",
     "start_time": "2025-04-10T09:34:06.346124Z"
    }
   },
   "outputs": [],
   "source": [
    "def get_optimal_sector_xops(hf_str, sym_generators, x_ops, n_qubits):\n",
    "    hf_arr = np.array(list(hf_str), dtype=int)\n",
    "    optimal_sector = []\n",
    "    for gen in sym_generators:\n",
    "        z_locations = np.zeros(n_qubits)\n",
    "        for term in gen.terms.keys():\n",
    "            z_locations[[t[0] for t in term if t[1] == \"Z\"]] = 1\n",
    "        n_overlaps = sum(\n",
    "            np.logical_and(z_locations, hf_arr)\n",
    "        )  # number of overlapping Z and excitation\n",
    "        eig = 1 - 2 * (n_overlaps % 2)\n",
    "        optimal_sector.append(eig)\n",
    "\n",
    "    print(f\"Optimal sector {optimal_sector}\")\n",
    "\n",
    "    return [optimal_sector[i] * x_ops[i] for i in range(len(optimal_sector))]"
   ]
  },
  {
   "cell_type": "code",
   "execution_count": 85,
   "id": "317039d3-5d1d-481b-b01a-e2ce375ffae9",
   "metadata": {
    "ExecuteTime": {
     "end_time": "2025-04-10T09:34:06.404597Z",
     "start_time": "2025-04-10T09:34:06.390263Z"
    }
   },
   "outputs": [
    {
     "name": "stdout",
     "output_type": "stream",
     "text": [
      "Optimal sector [-1, -1]\n",
      "The optimal sector X operators: [-1 [X0], -1 [X1]]\n"
     ]
    }
   ],
   "source": [
    "optimal_sector_xops = get_optimal_sector_xops(\n",
    "    hf_str, sym_generators, single_pauli_xops, n_qubits\n",
    ")\n",
    "print(f\"The optimal sector X operators: {optimal_sector_xops}\")"
   ]
  },
  {
   "cell_type": "markdown",
   "id": "a24bb9f9-a740-4b71-87a2-c98ccf7c651b",
   "metadata": {},
   "source": [
    "***\n",
    "## Part C: Constructing a VQE model with Classiq\n",
    "***"
   ]
  },
  {
   "cell_type": "markdown",
   "id": "dd8b2a82-6e33-4e34-a52e-09b7d381c069",
   "metadata": {},
   "source": [
    "Next, we use all the classical pre-processing from the previous sections to build, synthesize, and execute a VQE model.\n",
    "We will take the following steps:\n",
    "1. Defining the transformed and tapered-off Hartree Fock state, which serves as an initial condition for the problem.\n",
    "2. Constructing the transformed and tapered-off UCC ansatz.\n",
    "3. Defining, synthesizing, and executing the full model\n",
    "\n",
    "**For steps 1 and 2, we will have to perform all the transformation defined above (see diagram of at the top of Part B).**\n"
   ]
  },
  {
   "cell_type": "markdown",
   "id": "ce6ec31f-3104-4556-9657-09bb4d19bcf1",
   "metadata": {},
   "source": [
    "As a preliminary step, we define the Hamiltonian of the VQE problem. Since this is the final Hamiltonian (after a series of transformation, from second quantized Hamiltonian, tapering, etc.), let us trim small values according to some rough threshold."
   ]
  },
  {
   "cell_type": "code",
   "execution_count": 86,
   "id": "cc06fd7c-0a20-4aab-bb9c-5af616d78e2f",
   "metadata": {
    "ExecuteTime": {
     "end_time": "2025-04-10T09:34:07.457664Z",
     "start_time": "2025-04-10T09:34:06.407353Z"
    }
   },
   "outputs": [],
   "source": [
    "from classiq import *\n",
    "\n",
    "pauli_char_to_obj = {\"I\": Pauli.I, \"Z\": Pauli.Z, \"X\": Pauli.X, \"Y\": Pauli.Y}\n",
    "\n",
    "\n",
    "def qubit_op_to_hamiltonian(qbit_op, n_qubits):\n",
    "    \"\"\"Convert OpenFermion QubitOperator to list of PauliTerm\"\"\"\n",
    "    hamiltonian = []\n",
    "\n",
    "    for term, coeff in qbit_op.terms.items():\n",
    "\n",
    "        pauli_list = [Pauli.I] * n_qubits  # Default to identity\n",
    "\n",
    "        for qubit, pauli in term:\n",
    "            pauli_list[qubit] = pauli_char_to_obj[pauli]  # Replace with correct Pauli\n",
    "\n",
    "        # Append list-style Pauli term\n",
    "        hamiltonian.append(PauliTerm(pauli=pauli_list[::-1], coefficient=coeff))\n",
    "\n",
    "    return hamiltonian"
   ]
  },
  {
   "cell_type": "code",
   "execution_count": 87,
   "id": "b5fbeafb-a4c3-41ba-b911-a4c4cf86abdd",
   "metadata": {
    "ExecuteTime": {
     "end_time": "2025-04-10T09:34:07.466879Z",
     "start_time": "2025-04-10T09:34:07.464817Z"
    }
   },
   "outputs": [
    {
     "name": "stdout",
     "output_type": "stream",
     "text": [
      "Removed positions after tapering: [0, 1]\n",
      "Hamiltonian for VQE has: 260 terms, and is operating on 8 qubits\n"
     ]
    }
   ],
   "source": [
    "THRESHOLD = 1e-3\n",
    "\n",
    "tapered_hamiltonian, removed_positions = taper_off_qubits(\n",
    "    block_diagonal_hamiltonian, optimal_sector_xops, output_tapered_positions=True\n",
    ")\n",
    "tapered_hamiltonian.compress(THRESHOLD)\n",
    "print(f\"Removed positions after tapering: {removed_positions}\")\n",
    "\n",
    "n_vqe_qubits = n_qubits - len(sym_generators)\n",
    "vqe_hamiltonian = qubit_op_to_hamiltonian(tapered_hamiltonian, n_vqe_qubits)\n",
    "\n",
    "print(\n",
    "    f\"Hamiltonian for VQE has: {len(vqe_hamiltonian)} terms, and is operating on {n_vqe_qubits} qubits\"\n",
    ")"
   ]
  },
  {
   "cell_type": "markdown",
   "id": "9d7a6358-4dd6-4d7f-bc05-7e4a5d9982cd",
   "metadata": {},
   "source": [
    "The Hartree Fock and the UCC operators that are defined below do not necessarily have the same symmetries of the molecular Hamiltonian. Thus, after the Clifford transformation, the resulting operators are not restricted to the symmetries' subspaces. We will take the following approach: we remove terms which do not include $X_{m^{i}}$ or $I$ on the $m^{i}$ qubits, since such operations throw us away from the eigenspace of optimal sector."
   ]
  },
  {
   "cell_type": "code",
   "execution_count": 88,
   "id": "7301e98b-78cf-4fc4-ae0e-acca25e27b64",
   "metadata": {
    "ExecuteTime": {
     "end_time": "2025-04-10T09:34:07.469329Z",
     "start_time": "2025-04-10T09:34:07.468067Z"
    }
   },
   "outputs": [],
   "source": [
    "def get_projected_tapered_hamiltonian(operator, x_ops):\n",
    "    projected_op = QubitOperator()\n",
    "    for x_op in x_ops:\n",
    "        for op, coe in operator.terms.items():\n",
    "            if list(x_op.terms.keys())[0][0] not in op:\n",
    "                projected_op += QubitOperator(op, coe)\n",
    "\n",
    "    projected_tapered_op = taper_off_qubits(projected_op, x_ops)\n",
    "\n",
    "    return projected_tapered_op"
   ]
  },
  {
   "cell_type": "markdown",
   "id": "9a21a5ca-ba62-430d-a974-b329167bca66",
   "metadata": {},
   "source": [
    "### 1. Hartree Fock in the tapered-off space"
   ]
  },
  {
   "cell_type": "markdown",
   "id": "dc4c9f46-3df7-4bc7-aeb6-475137227388",
   "metadata": {},
   "source": [
    "We have already calculated the HF state under the JW transform, let us find the HF state after qubit tapering:"
   ]
  },
  {
   "cell_type": "code",
   "execution_count": 89,
   "id": "95d2c170-f3bc-41c5-8ce6-93b891547752",
   "metadata": {
    "ExecuteTime": {
     "end_time": "2025-04-10T09:34:07.472220Z",
     "start_time": "2025-04-10T09:34:07.470707Z"
    }
   },
   "outputs": [],
   "source": [
    "hf_mapped_operator = clifford_transform(block_diagonalizing_clifford, hf_operator)\n",
    "hf_projected_operator = get_projected_tapered_hamiltonian(\n",
    "    hf_mapped_operator, optimal_sector_xops\n",
    ")"
   ]
  },
  {
   "cell_type": "code",
   "execution_count": 90,
   "id": "83439fef-d0d4-464e-9694-26c89b81fd3e",
   "metadata": {
    "ExecuteTime": {
     "end_time": "2025-04-10T09:34:07.475027Z",
     "start_time": "2025-04-10T09:34:07.473300Z"
    }
   },
   "outputs": [
    {
     "name": "stdout",
     "output_type": "stream",
     "text": [
      "The HF state: 0000000000\n"
     ]
    }
   ],
   "source": [
    "hf_projected_state = qubit_operation_on_zero_state(hf_projected_operator, n_qubits)\n",
    "assert (\n",
    "    len(hf_projected_state) == 1\n",
    "), f\"The resulting HF state is not a single computationa state, got {hf_projected_state}\"\n",
    "hf_str_tapered = list(hf_projected_state.keys())[0]\n",
    "print(f\"The HF state: {hf_str_tapered}\")"
   ]
  },
  {
   "cell_type": "markdown",
   "id": "a18ee148-88c5-43f6-be6d-390e4c4542b0",
   "metadata": {},
   "source": [
    "### 2. UCC ansatz"
   ]
  },
  {
   "cell_type": "markdown",
   "id": "fdccea00-14a0-4419-8762-c58ad3d2863e",
   "metadata": {},
   "source": [
    "The Unitary Coupled Cluster ansatz assumes the initial state is the HF state. Then, it includes excitations from the occupied to un-occupied states, where the former is defined by the HF state. In this tutorial we focus on the UCCSD ansatz, in which only singlet and doublet excitation are taken. The corresponding Fermionic operator reads:\n",
    "\n",
    "$$\n",
    "\\large U_{\\text{UCCSD}} \\equiv e^{T - T^\\dagger}, \\qquad T = T_1 + T_2\n",
    "$$\n",
    "where:\n",
    "$$\n",
    "\\large  T_1 = \\sum_{i \\in \\text{occ}} \\sum_{a \\in \\text{virt}} t_i^a a_a^\\dagger a_i, \\qquad T_2 = \\sum_{i<j \\in \\text{occ}} \\sum_{a<b \\in \\text{virt}} t_{ij}^{ab} a_a^\\dagger a_b^\\dagger a_j a_i,\n",
    "$$\n",
    "and the $t$ terms are parametric angles. Below we define functions for obtaining the UCCSD $T_{1,2}$ operators, taking into account spin conservation."
   ]
  },
  {
   "cell_type": "code",
   "execution_count": 91,
   "id": "b853b598-5a07-45a9-a6d2-075fc29cc6fb",
   "metadata": {
    "ExecuteTime": {
     "end_time": "2025-04-10T09:34:07.517090Z",
     "start_time": "2025-04-10T09:34:07.477694Z"
    }
   },
   "outputs": [],
   "source": [
    "def get_singlet_operators(n_electrons, n_spatial_orbitals):\n",
    "    \"\"\"\n",
    "    Generate fermionic operators for singlet UCC excitations (T1 + T2).\n",
    "\n",
    "    Returns:\n",
    "    - singlet_terms (list): List of FermionOperators for singlet excitations.\n",
    "    \"\"\"\n",
    "    occupied = list(range(n_electrons))  # HF occupied orbitals\n",
    "    virtual = list(range(n_electrons, 2 * n_spatial_orbitals))  # Virtual orbitals\n",
    "\n",
    "    singlet_terms = []\n",
    "    theta_im = 1j\n",
    "\n",
    "    # --- SINGLE EXCITATIONS (T1) ---\n",
    "    for i in occupied:\n",
    "        for m in virtual:\n",
    "            if i % 2 == m % 2:  # Spin-conserving single excitation\n",
    "                singlet_terms.append(\n",
    "                    FermionOperator(f\"{m}^ {i}\", theta_im)\n",
    "                    - FermionOperator(f\"{i}^ {m}\", theta_im)\n",
    "                )\n",
    "\n",
    "    return singlet_terms\n",
    "\n",
    "\n",
    "def get_doublet_operators(n_electrons, n_spatial_orbitals):\n",
    "    \"\"\"\n",
    "    Generate fermionic operators for doublet UCC excitations (T2 only).\n",
    "\n",
    "    Returns:\n",
    "    - doublet_terms (list): List of FermionOperators for doublet excitations.\n",
    "    \"\"\"\n",
    "    occupied = list(range(n_electrons))  # HF occupied orbitals\n",
    "    virtual = list(range(n_electrons, 2 * n_spatial_orbitals))  # Virtual orbitals\n",
    "\n",
    "    doublet_terms = []\n",
    "    # --- DOUBLE EXCITATIONS (T2) ---\n",
    "    for i, j in itertools.combinations(occupied, 2):\n",
    "        for m, n in itertools.combinations(virtual, 2):\n",
    "\n",
    "            theta_ijmn = 1j  # Placeholder for parameter\n",
    "\n",
    "            # 1. Same-spin double excitation (↑↑ or ↓↓)\n",
    "            if (i % 2 == j % 2) and (m % 2 == n % 2) and (i % 2 == m % 2):\n",
    "                double_excitation_ss = 0.5 * FermionOperator(\n",
    "                    f\"{n}^ {m}^ {j} {i}\", theta_ijmn\n",
    "                ) - 0.5 * FermionOperator(f\"{i}^ {j}^ {m} {n}\", theta_ijmn)\n",
    "                doublet_terms.append(double_excitation_ss)\n",
    "\n",
    "            # 2. Opposite-spin double excitation (↑↓ or ↓↑)\n",
    "            if (i % 2 != j % 2) and (m % 2 != n % 2):\n",
    "                double_excitation_os = 0.5 * FermionOperator(\n",
    "                    f\"{n}^ {m}^ {j} {i}\", theta_ijmn\n",
    "                ) - 0.5 * FermionOperator(f\"{i}^ {j}^ {m} {n}\", theta_ijmn)\n",
    "\n",
    "                doublet_terms.append(double_excitation_os)\n",
    "\n",
    "    return doublet_terms"
   ]
  },
  {
   "cell_type": "markdown",
   "id": "14ea34a2-c43b-4025-b1ac-4b19ec06f7a3",
   "metadata": {},
   "source": [
    "Now we can define the UCCSD Hamiltonian for our VQE, by applying JW transformation and qubit tapeting."
   ]
  },
  {
   "cell_type": "code",
   "execution_count": 92,
   "id": "646420e3-a44f-4793-8c1e-81995c87975d",
   "metadata": {
    "ExecuteTime": {
     "end_time": "2025-04-10T09:34:07.524664Z",
     "start_time": "2025-04-10T09:34:07.499826Z"
    }
   },
   "outputs": [],
   "source": [
    "t1_ops = get_singlet_operators(n_electrons, n_spatial_orbitals)\n",
    "t2_ops = get_doublet_operators(n_electrons, n_spatial_orbitals)\n",
    "\n",
    "ucc_hamiltonians = [jordan_wigner(op) for op in t1_ops + t2_ops]\n",
    "block_diagonal_ucc_hamiltonians = [\n",
    "    clifford_transform(block_diagonalizing_clifford, ham) for ham in ucc_hamiltonians\n",
    "]\n",
    "ucc_tapered_hamiltonians = [\n",
    "    qubit_op_to_hamiltonian(\n",
    "        get_projected_tapered_hamiltonian(hamiltonian, optimal_sector_xops),\n",
    "        n_vqe_qubits,\n",
    "    )\n",
    "    for hamiltonian in block_diagonal_ucc_hamiltonians\n",
    "]"
   ]
  },
  {
   "cell_type": "markdown",
   "id": "f83aed84-2574-4004-804e-7de20ff9814c",
   "metadata": {},
   "source": [
    "### 3. Running a VQE\n",
    "\n",
    "The VQE is constructed by preparing the HF state (with the `^=` operation) and evolving a parametric UCCSD Hamiltonian with Suzuki Trotter."
   ]
  },
  {
   "cell_type": "code",
   "execution_count": 93,
   "id": "9a95d281-ace2-4f21-8e70-9415a4448817",
   "metadata": {
    "ExecuteTime": {
     "end_time": "2025-04-10T09:34:07.524870Z",
     "start_time": "2025-04-10T09:34:07.501550Z"
    }
   },
   "outputs": [],
   "source": [
    "import matplotlib.pyplot as plt\n",
    "\n",
    "from classiq.execution import *"
   ]
  },
  {
   "cell_type": "code",
   "execution_count": 94,
   "id": "d9801cc5-c3dc-4b34-9921-7be6e764967a",
   "metadata": {
    "ExecuteTime": {
     "end_time": "2025-04-10T09:34:29.852451Z",
     "start_time": "2025-04-10T09:34:07.505504Z"
    }
   },
   "outputs": [
    {
     "name": "stdout",
     "output_type": "stream",
     "text": [
      "The Hartree Fock bitstring 0000000000\n",
      "Number of parameters: 24\n"
     ]
    }
   ],
   "source": [
    "TOL = 0.001\n",
    "num_params = len(ucc_tapered_hamiltonians)\n",
    "print(f\"The Hartree Fock bitstring {hf_str_tapered[::-1]}\")\n",
    "print(f\"Number of parameters: {num_params}\")\n",
    "\n",
    "hamiltonian_qmod = QConstant(\"hamiltonian_qmod\", CArray[PauliTerm], vqe_hamiltonian)\n",
    "max_iter_qmod = QConstant(\"max_iter_qmod\", CInt, 500)\n",
    "initial_params_qmod = QConstant(\"initial_params_qmod\", CArray[CInt], [0] * num_params)\n",
    "tol_qmod = QConstant(\"tol_qmod\", CReal, TOL)\n",
    "\n",
    "\n",
    "@qfunc\n",
    "def main(params: CArray[CReal, num_params], state: Output[QNum]) -> None:\n",
    "    allocate(n_vqe_qubits, state)\n",
    "    state ^= int(\n",
    "        hf_str_tapered[::-1], 2\n",
    "    )  # to avoid binding to QArray and repeat over bitstring\n",
    "\n",
    "    hamiltonian_ansatz = []\n",
    "    for i in range(num_params):\n",
    "        hamiltonian_ansatz += [\n",
    "            PauliTerm(\n",
    "                pauli=ucc_tapered_hamiltonians[i][k].pauli,\n",
    "                coefficient=np.real(ucc_tapered_hamiltonians[i][k].coefficient)\n",
    "                * params[i],\n",
    "            )\n",
    "            for k in range(len(ucc_tapered_hamiltonians[i]))\n",
    "        ]\n",
    "\n",
    "    # It is common, but not necessary, to use first order Suzuki-Trotter\n",
    "    suzuki_trotter(\n",
    "        hamiltonian_ansatz,\n",
    "        evolution_coefficient=-1.0,\n",
    "        order=1,\n",
    "        repetitions=1,\n",
    "        qbv=state,\n",
    "    )\n",
    "\n",
    "\n",
    "# TODO: work with ExecutionSession instead of vqe primitive, after fix of statevector\n",
    "@cfunc\n",
    "def cmain() -> None:\n",
    "    res = vqe(\n",
    "        hamiltonian_qmod,\n",
    "        False,\n",
    "        initial_params_qmod,\n",
    "        optimizer=Optimizer.COBYLA,\n",
    "        max_iteration=max_iter_qmod,\n",
    "        tolerance=tol_qmod,\n",
    "        step_size=0,\n",
    "        skip_compute_variance=False,\n",
    "        alpha_cvar=1.0,\n",
    "    )\n",
    "    save({\"result\": res})\n",
    "\n",
    "\n",
    "qmod = create_model(\n",
    "    main, classical_execution_function=cmain, out_file=\"vqe_ucc\" + description\n",
    ")\n",
    "qprog = synthesize(qmod)"
   ]
  },
  {
   "cell_type": "markdown",
   "id": "37eb1634-f1c3-48b9-86a6-ab906eabedfc",
   "metadata": {},
   "source": [
    "To get a quick execution, we run on a statevector simulator."
   ]
  },
  {
   "cell_type": "code",
   "execution_count": 95,
   "id": "d419f218-ecf2-410f-b0f2-458f886fb376",
   "metadata": {
    "ExecuteTime": {
     "end_time": "2025-04-10T09:35:45.515839Z",
     "start_time": "2025-04-10T09:34:29.913691Z"
    }
   },
   "outputs": [],
   "source": [
    "qprog = set_quantum_program_execution_preferences(\n",
    "    qprog,\n",
    "    preferences=ExecutionPreferences(\n",
    "        num_shots=1000,\n",
    "        backend_preferences=ClassiqBackendPreferences(\n",
    "            backend_name=\"simulator_statevector\"\n",
    "        ),\n",
    "    ),\n",
    ")\n",
    "res = execute(qprog).result()"
   ]
  },
  {
   "cell_type": "code",
   "execution_count": 96,
   "id": "483487d4-f48c-4457-b89e-a374fff282e3",
   "metadata": {
    "ExecuteTime": {
     "end_time": "2025-04-10T09:35:45.612248Z",
     "start_time": "2025-04-10T09:35:45.518189Z"
    }
   },
   "outputs": [
    {
     "name": "stdout",
     "output_type": "stream",
     "text": [
      "optimizer result classiq: -7.880508734666879\n"
     ]
    },
    {
     "data": {
      "image/png": "[encoded data removed]",
      "text/plain": [
       "<Figure size 640x480 with 1 Axes>"
      ]
     },
     "metadata": {},
     "output_type": "display_data"
    }
   ],
   "source": [
    "expected_energy = float(molecule.fci_energy)\n",
    "\n",
    "optimizer_res = res[0].value.energy\n",
    "print(f\"optimizer result classiq: {optimizer_res}\")\n",
    "\n",
    "vqe_results = {\n",
    "    intermediate_result.iteration_number: intermediate_result.mean_all_solutions\n",
    "    for intermediate_result in res[0].value.intermediate_results\n",
    "}\n",
    "\n",
    "\n",
    "plt.plot(vqe_results.keys(), vqe_results.values(), \"o\")\n",
    "plt.ylabel(\"Energy [Ha]\", fontsize=16)\n",
    "plt.xlabel(\"iteration\", fontsize=16)\n",
    "plt.tick_params(axis=\"both\", labelsize=16)\n",
    "plt.title(\"VQE result for \" + description)\n",
    "plt.text(\n",
    "    100,\n",
    "    -7.5,\n",
    "    f\"vqe energy: {optimizer_res} Ha,\\n fci_energy: {expected_energy} Ha\",\n",
    "    fontsize=12,\n",
    "    bbox=dict(facecolor=\"lightgray\", edgecolor=\"black\", boxstyle=\"round,pad=0.3\"),\n",
    ");"
   ]
  },
  {
   "cell_type": "markdown",
   "id": "4a76a3a4-980d-4197-81ef-231a926bbbad",
   "metadata": {},
   "source": [
    "## Appendix A - Techical details on qubit tapering\n",
    "\n",
    "Below we provide some technical details concerning qubit tapering and $\\mathbb{Z}_2$ symmetries.\n",
    "\n",
    "It is a well-known fact in linear algebra that if two operators commute, $[A,B]=0$, then they can be mutually diagonalized. In particular, if $|v\\rangle$ is an eigenvector of $B$ with an eigenvalue $\\lambda$, we have\n",
    "$$\n",
    "[A,B]=0\\implies AB = BA \\implies AB|v\\rangle = BA|v\\rangle \\implies \\lambda \\left(A|v\\rangle\\right) = B\\left(A|v\\rangle\\right).\n",
    "$$\n",
    "That is, $A|v\\rangle$ is also an eigenvector of $B$ with eigenvalue $\\lambda$. Thus, $A|v\\rangle$ must be in the eigenspace $V_{\\lambda} \\equiv \\left\\{|u\\rangle, B|u\\rangle = \\lambda|u\\rangle\\right\\}$.\n",
    "\n",
    "Now, Refs. [[3](#sym1)] and [[4](#sym2)] show, and this is implemented explicitly in Appendix B, that we can find a Clifford transformation $U$, such that the transformed Hamiltonian $H'=U^{\\dagger} H U$ commutes with the transformed symmetries $X_{m^{(i)}} = U^{\\dagger} g_i U$. We know how the eigenspaces of $X_{m^{(i)}}$ look like. For example, $X_{0}$ has two eigenspaces that correspond to the eigenvalues $\\pm 1$: $V_{\\pm} = \\left\\{|u\\rangle_N, X_{0}|u\\rangle_N = \\pm |u\\rangle_N\\right\\} = \\left\\{|\\pm\\rangle \\otimes |\\tilde{u}\\rangle_{N-1},\\, |\\tilde{u}\\rangle_{N-1} \\text{ some state on } N-1 \\text{ qubits}\\right\\} $. From the arguments above we get that \n",
    "$$\n",
    "H'\\cdot \\left(|\\pm\\rangle |u\\rangle\\right) \\in V_{\\pm},\n",
    "$$\n",
    "which means that $H'$ must acts with $X_0$ or the Identity on the first qubit."
   ]
  },
  {
   "cell_type": "markdown",
   "id": "86be434c-f86f-4b8c-b8fc-0b0de99bcdc9",
   "metadata": {},
   "source": [
    "## Appendix B - generic approach for finding $\\mathbb{Z}_2$ symmetries "
   ]
  },
  {
   "cell_type": "markdown",
   "id": "aa63d239-6f87-4bb6-8451-0f65a72d3568",
   "metadata": {},
   "source": [
    "Below we provide some classical functions for finding symmetry generators for a given Hamiltonian, and the corresponding Pauli $X$ operators. The code is based on the algorithm provided in Ref. [[3](#sym1)] (see also Ref. [[4](#sym2)]). The theory behind the algorithm is described here in some detail. We provide a unified function `find_z2_symmetries`, that accepts a Hamiltonian and returns generators and $X$ operators."
   ]
  },
  {
   "cell_type": "markdown",
   "id": "b3d7ac46-1469-46d2-9767-ef85efa72bb6",
   "metadata": {},
   "source": [
    "### Moving to (x,z) representation"
   ]
  },
  {
   "cell_type": "markdown",
   "id": "b1161d49-c638-4963-bff2-1fc64b6a0880",
   "metadata": {},
   "source": [
    "The convenient framework for finding $\\mathbb{Z}_2$ symmetries is the $(x,z)$ representation of Pauli strings. In this representation we map a Pauli matrix to two binaries, $\\sigma \\rightarrow (a_x, a_z)$, according to \n",
    "$$\n",
    "I\\rightarrow (0,0),\\quad Z\\rightarrow (0,1),\\quad X\\rightarrow (1,0),\\quad Y\\rightarrow (1,1),\n",
    "$$\n",
    "and a Pauli string on $N$ qubits $\\vec{\\sigma}$ is mapped to $2N$ binary vector $(\\vec{a}_x, \\vec{a}_z)$. We have that two Pauli strings, $(\\vec{a}_x, \\vec{a}_z)$ and $(\\vec{b}_x, \\vec{b}_z)$, commutes, if $\\vec{a}_x \\vec{b}_z + \\vec{a}_z \\vec{b}_x = 0 \\,\\bmod{2}$. Thus, we can find the symmetry generators of an Hamiltonian by the following procedure:\n",
    "\n",
    "1. Construct a binary matrix for the  Hamiltonian. A Hamiltonian with $r$ terms on $N$ qubits corresponds to $r\\times 2N$ binary matrix.\n",
    "2. Find the kernel (null space) of this matrix (by a Guass elimination). Then, each kernel vector $(g_z,g_x)$ (note the switch in $x,z$ positions) correspond to a Pauli string that commutes with all the Hamiltonian elements.\n",
    "3. For the $X$ operators, a simple procedure can be carried on within the $(x,z)$ representation.\n"
   ]
  },
  {
   "cell_type": "markdown",
   "id": "ccd1ee07-21ad-47e2-9f05-b99ba84c6c4a",
   "metadata": {},
   "source": [
    "As a preliminary step, we start with two functions, transforming between operator and $(x,z)$ representations:"
   ]
  },
  {
   "cell_type": "code",
   "execution_count": 97,
   "id": "02e4630d-7c6e-443a-8bde-9a988a26e6bb",
   "metadata": {
    "ExecuteTime": {
     "end_time": "2025-04-10T09:35:45.616192Z",
     "start_time": "2025-04-10T09:35:45.614972Z"
    }
   },
   "outputs": [],
   "source": [
    "import numpy as np\n",
    "\n",
    "bin_to_op = {(0, 1): \"Z\", (1, 1): \"Y\", (1, 0): \"X\"}\n",
    "\n",
    "\n",
    "def pauli_to_xz(qubit_op: QubitOperator, n_qubits: int):\n",
    "    \"\"\"\n",
    "    Convert a single Pauli string of size n_qubits (QubitOperator of length 1) to its (x,z) bits.\n",
    "    \"\"\"\n",
    "\n",
    "    if len(qubit_op.terms) != 1:\n",
    "        raise ValueError(\n",
    "            \"Expected a single-term QubitOperator for a Z2 symmetry generator.\"\n",
    "        )\n",
    "\n",
    "    ((pauli_term, coeff),) = qubit_op.terms.items()\n",
    "\n",
    "    # Initialize bits\n",
    "    x_bits = [0] * n_qubits\n",
    "    z_bits = [0] * n_qubits\n",
    "    if abs(coeff) < 1e-14:\n",
    "        # Then it's effectively identity or zero operator\n",
    "        # Just return identity bits\n",
    "        return x_bits, z_bits\n",
    "\n",
    "    for qubit_idx, pauli_str in pauli_term:\n",
    "        if pauli_str == \"X\":\n",
    "            x_bits[qubit_idx] = 1\n",
    "            z_bits[qubit_idx] = 0\n",
    "        elif pauli_str == \"Y\":\n",
    "            x_bits[qubit_idx] = 1\n",
    "            z_bits[qubit_idx] = 1\n",
    "        elif pauli_str == \"Z\":\n",
    "            x_bits[qubit_idx] = 0\n",
    "            z_bits[qubit_idx] = 1\n",
    "\n",
    "    return x_bits, z_bits\n",
    "\n",
    "\n",
    "def qubit_op_to_xz(qubit_op: QubitOperator, n_qubits: int):\n",
    "    \"\"\"\n",
    "    Return an ndarray of shape (len(qubit_op), 2*n_qubits), each row is (x_bits|z_bits).\n",
    "    \"\"\"\n",
    "    op_size = len(qubit_op.terms)\n",
    "    binary_mat = np.zeros((op_size, 2 * n_qubits), dtype=int)\n",
    "\n",
    "    for row, term in enumerate(qubit_op):\n",
    "        x_bits, z_bits = pauli_to_xz(term, n_qubits)\n",
    "        # Fill the row\n",
    "        # We put x_bits in columns [0..n_qubits-1], z_bits in columns [n_qubits..2*n_qubits-1]\n",
    "        binary_mat[row, :n_qubits] = x_bits\n",
    "        binary_mat[row, n_qubits:] = z_bits\n",
    "\n",
    "    return binary_mat\n",
    "\n",
    "\n",
    "def xz_to_opt(binary_matrix: np.ndarray):\n",
    "    \"\"\"\n",
    "    Return an ndarray of shape (n_sym, 2*n_qubits), each row is (x_bits|z_bits).\n",
    "    \"\"\"\n",
    "    binary_matrix = binary_matrix[\n",
    "        ~np.all(binary_matrix == 0, axis=1)\n",
    "    ]  # remove all-zero rows (Identity)\n",
    "    qubit_op = QubitOperator()\n",
    "    n_rows, n_cols = binary_matrix.shape\n",
    "    n_qubits = n_cols // 2\n",
    "    for raw in binary_matrix:\n",
    "        op = [\n",
    "            (i, bin_to_op[(raw[i], raw[n_qubits + i])])\n",
    "            for i in range(n_qubits)\n",
    "            if (raw[i], raw[n_qubits + i]) != (0, 0)\n",
    "        ]\n",
    "        qubit_op += QubitOperator(tuple(op), 1)\n",
    "\n",
    "    return qubit_op"
   ]
  },
  {
   "cell_type": "markdown",
   "id": "f8208bb0-7d95-49eb-a684-adc6d8a52ce9",
   "metadata": {},
   "source": [
    "### Finding the null space for the Hamiltonian"
   ]
  },
  {
   "cell_type": "markdown",
   "id": "2e6c365b-a9c3-41a4-a5cf-fa4fec05cd26",
   "metadata": {},
   "source": [
    "The null space of the Hamiltonian in the $(x,z)$ representation can be found using two steps:\n",
    "\n",
    "1. First, get the Reduced Row Echelon Form (RREF) of the matrix. In this form we have:\n",
    "    * Every nonzero row has a leading 1.\n",
    "    * Each leading 1 is the only nonzero entry in its column.\n",
    "    * Rows of all zeros (if any) appear at the bottom of the matrix.\n",
    "2. Then, in RREF it is easy to check and apply the null space equations."
   ]
  },
  {
   "cell_type": "code",
   "execution_count": 98,
   "id": "589357f3-2aac-4ce1-9cfc-5d77e0405508",
   "metadata": {
    "ExecuteTime": {
     "end_time": "2025-04-10T09:35:45.621456Z",
     "start_time": "2025-04-10T09:35:45.620113Z"
    }
   },
   "outputs": [],
   "source": [
    "def get_rref(binary_matrix):\n",
    "    r\"\"\"Returns the reduced row echelon form (RREF) of a matrix over the binary finite field :math:`\\mathbb{Z}_2`.\n",
    "\n",
    "    Args:\n",
    "        binary_matrix (np.ndarray): Binary matrix (dtype=int) to be reduced. Each entry should be 0 or 1.\n",
    "\n",
    "    Returns:\n",
    "        np.ndarray: The RREF of the given `binary_matrix` over :math:`\\mathbb{Z}_2`.\n",
    "\n",
    "    \"\"\"\n",
    "    # Make a copy, so we don't modify the original matrix.\n",
    "    rref_binary_mat = binary_matrix.copy()\n",
    "    shape = rref_binary_mat.shape\n",
    "    n_rows, n_cols = shape\n",
    "    icol = 0\n",
    "\n",
    "    # Process each row.\n",
    "    for irow in range(n_rows):\n",
    "        # Find the pivot in the current row.\n",
    "        while icol < n_cols and rref_binary_mat[irow, icol] == 0:\n",
    "            # Look for a nonzero entry below in the same column.\n",
    "            non_zero_idx = np.nonzero(rref_binary_mat[irow:, icol])[0]\n",
    "            if len(non_zero_idx) == 0:\n",
    "                # Entire column below is zero, move to next column.\n",
    "                icol += 1\n",
    "            else:\n",
    "                # Swap the current row with the row containing the nonzero entry.\n",
    "                krow = irow + non_zero_idx[0]\n",
    "                rref_binary_mat[[irow, krow], icol:] = rref_binary_mat[\n",
    "                    [krow, irow], icol:\n",
    "                ].copy()\n",
    "        # If we have a pivot, eliminate other 1s in the column.\n",
    "        if icol < n_cols and rref_binary_mat[irow, icol] == 1:\n",
    "            # Copy the pivot row's right-hand part.\n",
    "            rpvt_cols = rref_binary_mat[irow, icol:].copy()\n",
    "            # For all other rows, if they have a 1 in column icol, eliminate it by XORing.\n",
    "            currcol = rref_binary_mat[:, icol].copy()\n",
    "            currcol[irow] = 0  # Skip pivot row.\n",
    "            # The XOR is implemented as addition mod 2.\n",
    "            rref_binary_mat[:, icol:] ^= np.outer(currcol, rpvt_cols)\n",
    "            icol += 1\n",
    "\n",
    "    return rref_binary_mat.astype(int)\n",
    "\n",
    "\n",
    "def kernel_from_rref(rref_mat):\n",
    "    \"\"\"\n",
    "    Given a binary matrix in reduced row echelon form (RREF) over Z2,\n",
    "    return a basis for its kernel (null space) as a NumPy array.\n",
    "\n",
    "    Each row of the returned array is a kernel vector (a basis vector for the nullspace),\n",
    "    with arithmetic done modulo 2.\n",
    "\n",
    "    Args:\n",
    "        rref_mat (np.ndarray): A binary matrix (dtype=int) in RREF over Z2 with shape (m, n).\n",
    "\n",
    "    Returns:\n",
    "        np.ndarray: A matrix of shape (n - rank, n) whose rows form a basis for the kernel.\n",
    "    \"\"\"\n",
    "\n",
    "    # Remove all-zero rows\n",
    "    rref_mat = rref_mat[~np.all(rref_mat == 0, axis=1)]\n",
    "    m, n = rref_mat.shape\n",
    "\n",
    "    # Identify pivot columns. For each row, the first nonzero entry (if any) is a pivot.\n",
    "    pivots = []\n",
    "    for i in range(m):\n",
    "        row = rref_mat[i]\n",
    "        nonzero = np.where(row == 1)[0]\n",
    "        if nonzero.size > 0:\n",
    "            pivots.append(nonzero[0])\n",
    "    pivots = np.array(pivots)\n",
    "\n",
    "    # The free (non-pivot) columns:\n",
    "    free_cols = np.setdiff1d(np.arange(n), pivots)\n",
    "    num_free = free_cols.size\n",
    "\n",
    "    # We'll build a basis for the kernel.\n",
    "    # For each free column, we set that free variable to 1 and the others to 0,\n",
    "    # then solve for the pivot variables using the RREF equations.\n",
    "    kernel_basis = np.zeros((num_free, n), dtype=int)\n",
    "\n",
    "    # For each free variable, assign it the value 1.\n",
    "    for i, free_col in enumerate(free_cols):\n",
    "        kernel_basis[i, free_col] = 1\n",
    "\n",
    "    # Now, for each pivot row in the RREF, the equation is:\n",
    "    #    x[pivot] + sum_{j in free columns} (rref_mat[i, j] * x[j]) = 0  (mod 2)\n",
    "    # So, for each pivot row, if rref_mat[i, free_col]==1, we must set x[pivot] = 1 in that basis vector.\n",
    "    for i in range(m):\n",
    "        # Find pivot column for this row (if any)\n",
    "        nonzero = np.where(rref_mat[i] == 1)[0]\n",
    "        if nonzero.size == 0:\n",
    "            continue\n",
    "        pivot_col = nonzero[0]\n",
    "        # For every free column, if there is a 1 in that free column for the current row,\n",
    "        # then the pivot variable must equal 1 (because 1+1 = 0 mod2).\n",
    "        for basis_idx, free_col in enumerate(free_cols):\n",
    "            if rref_mat[i, free_col] == 1:\n",
    "                kernel_basis[basis_idx, pivot_col] = 1\n",
    "\n",
    "    return kernel_basis"
   ]
  },
  {
   "cell_type": "markdown",
   "id": "47378019-cc78-406b-b22e-05407841e537",
   "metadata": {},
   "source": [
    "Now, we can define a function for obtaining the list of generators for a given Hamiltonian:"
   ]
  },
  {
   "cell_type": "code",
   "execution_count": 99,
   "id": "2b4162e4-4b70-49f1-a769-816d525d37fb",
   "metadata": {
    "ExecuteTime": {
     "end_time": "2025-04-10T09:35:45.623737Z",
     "start_time": "2025-04-10T09:35:45.622902Z"
    }
   },
   "outputs": [],
   "source": [
    "from typing import List\n",
    "\n",
    "\n",
    "def get_z2symmetry_generators(qubit_op: QubitOperator, n_qubits: int):\n",
    "\n",
    "    binary_mat = qubit_op_to_xz(qubit_op, n_qubits)\n",
    "    kernel = kernel_from_rref(get_rref(binary_mat))\n",
    "    kernel_zx = np.hstack(\n",
    "        (kernel[:, n_qubits:], kernel[:, :n_qubits])\n",
    "    )  # swaping x and z\n",
    "    generators = []\n",
    "    for raw in kernel_zx:\n",
    "        generators.append(xz_to_opt(np.array([raw])))\n",
    "\n",
    "    return generators"
   ]
  },
  {
   "cell_type": "markdown",
   "id": "3ca75151-95d1-4ce8-a746-9ba73eb73cfc",
   "metadata": {},
   "source": [
    "The $\\left\\{X_{m^{(i)}}\\right\\}$ operators can be found by a simple procedure, working in the $(x,z)$ representation. We construct the binary matrix for the list of generators, for $k$ generators we have a $k\\times 2N$ binary matrix. Now, we need to find a set of $k$ binary vectors such that each vector $i$:\n",
    "* Has a single 1 entry in the $m^{(i)}\\in [0,N-1]$ positions, and all other entries are zero.\n",
    "* It anticommutes with the $i$-th row of the binary matrix.\n",
    "* It commutes with all the other rows.\n",
    "\n",
    "Since we are working with a simple $\\bmod 2$ arithmetics, this can be achieved by simple steps."
   ]
  },
  {
   "cell_type": "code",
   "execution_count": 100,
   "id": "3ec8cce4-3c24-426d-ab19-3f24c8f9556b",
   "metadata": {
    "ExecuteTime": {
     "end_time": "2025-04-10T09:35:45.627183Z",
     "start_time": "2025-04-10T09:35:45.626076Z"
    }
   },
   "outputs": [],
   "source": [
    "def get_xops_for_generators(generators: List[QubitOperator], n_qubits):\n",
    "\n",
    "    kernel_xz = np.array([qubit_op_to_xz(gen, n_qubits)[0] for gen in generators])\n",
    "    n_sym = len(generators)\n",
    "    result_ops = [None] * n_sym\n",
    "    for row_idx in range(n_sym):\n",
    "        row_data = kernel_xz[row_idx]\n",
    "        # separate x/z for this row\n",
    "        x_row = row_data[:n_qubits]\n",
    "        z_row = row_data[n_qubits:]\n",
    "\n",
    "        # The rest\n",
    "        rest_binary_mat = np.delete(kernel_xz, row_idx, axis=0)\n",
    "\n",
    "        found_col = None\n",
    "        for col in range(n_qubits):\n",
    "            # We want this row to have z=1 => anticommute with X, i.e. z_row[col] should be 1\n",
    "            # Then for all other rows, we want them to commute with X => z=0 means they commute\n",
    "            if z_row[col] == 1:\n",
    "                # Now check rest, they must have z=0 at 'col' (col + n_qubits as we look at the z part)\n",
    "                z_part_rest = rest_binary_mat[:, n_qubits + col]\n",
    "                if np.all(z_part_rest == 0):\n",
    "                    found_col = col\n",
    "                    break\n",
    "\n",
    "        if found_col is not None:\n",
    "            # Build QubitOperator for X on 'found_col'\n",
    "            qop = QubitOperator(((found_col, \"X\"),), 1.0)\n",
    "            result_ops[row_idx] = qop\n",
    "\n",
    "    return result_ops"
   ]
  },
  {
   "cell_type": "markdown",
   "id": "278394fe-6cfc-4768-8610-4bc29233a9af",
   "metadata": {},
   "source": [
    "### Wrapping everything together\n",
    "\n",
    "Finally, we define a single function that accepts a Hamiltonian and returns the symmetry generators and Pauli $X$ operators."
   ]
  },
  {
   "cell_type": "code",
   "execution_count": 101,
   "id": "aec1b697-e89a-41ee-b826-41fab1b5232e",
   "metadata": {
    "ExecuteTime": {
     "end_time": "2025-04-10T09:35:45.629605Z",
     "start_time": "2025-04-10T09:35:45.628200Z"
    }
   },
   "outputs": [],
   "source": [
    "def find_z2sym(qubit_op: QubitOperator, n_qubits: int):\n",
    "    generators = get_z2symmetry_generators(qubit_op, n_qubits)\n",
    "    x_ops = get_xops_for_generators(generators, n_qubits)\n",
    "    return generators, x_ops"
   ]
  },
  {
   "cell_type": "code",
   "execution_count": 102,
   "id": "a798c77e-d573-4dda-b238-6fe51542ddaa",
   "metadata": {
    "ExecuteTime": {
     "end_time": "2025-04-10T09:35:45.715936Z",
     "start_time": "2025-04-10T09:35:45.629968Z"
    }
   },
   "outputs": [
    {
     "name": "stdout",
     "output_type": "stream",
     "text": [
      "Found 4 Z2 symmetries:\n",
      "Generators: [1.0 [Z4 Z5], 1.0 [Z6 Z7], 1.0 [Z0 Z2 Z4 Z6 Z8], 1.0 [Z1 Z3 Z4 Z6 Z9]]\n",
      "X operators: [1.0 [X5], 1.0 [X7], 1.0 [X0], 1.0 [X1]]\n"
     ]
    }
   ],
   "source": [
    "generators, x_ops = find_z2sym(qubit_hamiltonian, n_qubits)\n",
    "print(f\"Found {len(generators)} Z2 symmetries:\")\n",
    "print(f\"Generators: {generators}\")\n",
    "print(f\"X operators: {x_ops}\")"
   ]
  },
  {
   "cell_type": "markdown",
   "id": "ae8b67b0-cae1-4c12-b9c9-5a2fcea92ccf",
   "metadata": {},
   "source": [
    "## Appendix C - Loading molecule geometry"
   ]
  },
  {
   "cell_type": "markdown",
   "id": "5d6d0e77-d21d-49e1-a29b-57542c67d543",
   "metadata": {},
   "source": [
    "```\n",
    "from rdkit import Chem\n",
    "from rdkit.Chem import AllChem\n",
    "\n",
    "# Generate 3D coordinates\n",
    "mol = Chem.MolFromSmiles('[LiH]')\n",
    "mol = Chem.AddHs(mol)\n",
    "AllChem.EmbedMolecule(mol)\n",
    "\n",
    "# Prepare XYZ string\n",
    "conf = mol.GetConformer()\n",
    "n_atoms = mol.GetNumAtoms()\n",
    "\n",
    "xyz_lines = [f\"{n_atoms}\", \"LiH generated by RDKit\"]\n",
    "\n",
    "for atom in mol.GetAtoms():\n",
    "    idx = atom.GetIdx()\n",
    "    pos = conf.GetAtomPosition(idx)\n",
    "    line = f\"{atom.GetSymbol()} {pos.x:.6f} {pos.y:.6f} {pos.z:.6f}\"\n",
    "    xyz_lines.append(line)\n",
    "\n",
    "xyz_string = \"\\n\".join(xyz_lines)\n",
    "\n",
    "# Save to file\n",
    "with open(\"lih.xyz\", \"w\") as f:\n",
    "    f.write(xyz_string)\n",
    "```"
   ]
  },
  {
   "cell_type": "markdown",
   "id": "31a03a50-0d15-4bd5-a9ef-e52718b26420",
   "metadata": {},
   "source": [
    "## References\n",
    "\n",
    "<a name='OF'>[1]</a>: [McClean et. al. Quantum Sci. Technol. 5 034014 (2020). OpenFermion: the electronic structure package for quantum computers.](https://arxiv.org/abs/1710.07629)\n",
    "\n",
    "<a name='OFintro'>[2]</a>: [Introduction to OpenFermion.](https://quantumai.google/openfermion/tutorials/intro_to_openfermion)\n",
    "\n",
    "<a name='sym1'>[3]</a>: [Bravyi et. al., arXiv preprint arXiv:1701.08213 (2017). Tapering off qubits to simulate fermionic Hamiltonians.\n",
    "](https://arxiv.org/abs/1701.08213)\n",
    "\n",
    "<a name='sym2'>[4]</a>: [Kanav et al. J. Chem. Theo. Comp. 16 10 (2020). Reducing qubit requirements for quantum simulations using molecular point group symmetries.](https://arxiv.org/abs/1910.14644)\n"
   ]
  }
 ],
 "metadata": {
  "kernelspec": {
   "display_name": "base",
   "language": "python",
   "name": "python3"
  },
  "language_info": {
   "codemirror_mode": {
    "name": "ipython",
    "version": 3
   },
   "file_extension": ".py",
   "mimetype": "text/x-python",
   "name": "python",
   "nbconvert_exporter": "python",
   "pygments_lexer": "ipython3",
   "version": "3.12.9"
  }
 },
 "nbformat": 4,
 "nbformat_minor": 5
}
