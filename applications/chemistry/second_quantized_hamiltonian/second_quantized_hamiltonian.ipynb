{
 "cells": [
  {
   "cell_type": "markdown",
   "id": "f71b974b-b5ba-44a1-80e6-79cbe3aa6f84",
   "metadata": {
    "pycharm": {
     "name": "#%% md\n"
    }
   },
   "source": [
    "# Second Quantized Hamiltonian"
   ]
  },
  {
   "cell_type": "code",
   "execution_count": 4,
   "id": "151e1188",
   "metadata": {
    "pycharm": {
     "name": "#%%\n"
    }
   },
   "outputs": [],
   "source": [
    "import time\n",
    "\n",
    "import numpy as np\n",
    "from openfermion import FermionOperator\n",
    "\n",
    "from classiq import *\n",
    "from classiq.applications.chemistry.mapping import FermionToQubitMapper\n",
    "from classiq.applications.chemistry.op_utils import qubit_op_to_pauli_terms\n",
    "from classiq.applications.chemistry.problems import FermionHamiltonianProblem"
   ]
  },
  {
   "cell_type": "code",
   "execution_count": 5,
   "id": "a34b8008",
   "metadata": {
    "pycharm": {
     "name": "#%%\n"
    }
   },
   "outputs": [
    {
     "name": "stdout",
     "output_type": "stream",
     "text": [
      "0.2 [0^ 0] +\n",
      "-0.1 [0^ 1^ 1 0] +\n",
      "-0.3 [2^ 3^ 2 3]\n"
     ]
    }
   ],
   "source": [
    "op_list = [\n",
    "    FermionOperator(\"0^ 0\", 0.2),\n",
    "    FermionOperator(\"0^ 1^ 1 0\", -0.1),\n",
    "    FermionOperator(\"2^ 3^ 2 3\", -0.3),\n",
    "]\n",
    "hamiltonian = sum(op_list)\n",
    "\n",
    "ham_problem = FermionHamiltonianProblem(\n",
    "    fermion_hamiltonian=hamiltonian, n_particles=(1, 1)\n",
    ")\n",
    "\n",
    "print(ham_problem.fermion_hamiltonian)"
   ]
  },
  {
   "cell_type": "code",
   "execution_count": 6,
   "id": "b37a0870-c254-4459-a2cc-840a6f8d4a4f",
   "metadata": {
    "pycharm": {
     "name": "#%%\n"
    }
   },
   "outputs": [],
   "source": [
    "mapper = FermionToQubitMapper()\n",
    "vqe_hamiltonian = qubit_op_to_pauli_terms(mapper.map(ham_problem.fermion_hamiltonian))\n",
    "num_qubits = mapper.get_num_qubits(ham_problem)\n",
    "\n",
    "reps = 3\n",
    "num_params = reps * num_qubits\n",
    "\n",
    "\n",
    "@qfunc\n",
    "def main(params: CArray[CReal, num_params], state: Output[QArray[QBit, num_qubits]]):\n",
    "    allocate(state)\n",
    "    full_hea(\n",
    "        num_qubits=num_qubits,\n",
    "        operands_1qubit=[lambda _, q: X(q), lambda theta, q: RY(theta, q)],\n",
    "        operands_2qubit=[lambda _, q1, q2: CX(q1, q2)],\n",
    "        is_parametrized=[0, 1, 0],\n",
    "        angle_params=params,\n",
    "        connectivity_map=[(0, 1), (1, 2), (2, 3)],\n",
    "        reps=reps,\n",
    "        x=state,\n",
    "    )\n",
    "\n",
    "\n",
    "write_qmod(main, \"second_quantized_hamiltonian\")"
   ]
  },
  {
   "cell_type": "code",
   "execution_count": 7,
   "id": "7657b2e7-4b3d-4ac1-807c-665dfb05007f",
   "metadata": {
    "pycharm": {
     "name": "#%%\n"
    }
   },
   "outputs": [
    {
     "name": "stdout",
     "output_type": "stream",
     "text": [
      "Quantum program link: http://localhost:4200/circuit/2yvSeW2GwYZ7Iw3fUKaDiiR59uX\n"
     ]
    }
   ],
   "source": [
    "qprog = synthesize(main)\n",
    "show(qprog)"
   ]
  },
  {
   "cell_type": "code",
   "execution_count": 8,
   "id": "6f986d61-c6ab-48b3-a1b6-877e435d8092",
   "metadata": {},
   "outputs": [],
   "source": [
    "with ExecutionSession(qprog) as es:\n",
    "    result = es.minimize(\n",
    "        cost_function=vqe_hamiltonian,\n",
    "        initial_params={\"params\": [0.0] * num_params},\n",
    "        max_iteration=200,\n",
    "    )"
   ]
  },
  {
   "cell_type": "code",
   "execution_count": 9,
   "id": "70287cea-f706-4bf5-93e4-2fae16bfbafa",
   "metadata": {},
   "outputs": [
    {
     "name": "stdout",
     "output_type": "stream",
     "text": [
      "vqe result: 0.00039062500000001417\n"
     ]
    }
   ],
   "source": [
    "optimizer_res = result[-1][0]\n",
    "print(\"vqe result:\", optimizer_res)"
   ]
  }
 ],
 "metadata": {
  "kernelspec": {
   "display_name": "Python 3 (ipykernel)",
   "language": "python",
   "name": "python3"
  },
  "language_info": {
   "codemirror_mode": {
    "name": "ipython",
    "version": 3
   },
   "file_extension": ".py",
   "mimetype": "text/x-python",
   "name": "python",
   "nbconvert_exporter": "python",
   "pygments_lexer": "ipython3",
   "version": "3.11.9"
  },
  "vscode": {
   "interpreter": {
    "hash": "a07aacdcc8a415e7643a2bc993226848ff70704ebef014f87460de9126b773d0"
   }
  }
 },
 "nbformat": 4,
 "nbformat_minor": 5
}
