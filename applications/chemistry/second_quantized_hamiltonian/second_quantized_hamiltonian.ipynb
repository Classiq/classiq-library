{
 "cells": [
  {
   "cell_type": "markdown",
   "id": "f71b974b-b5ba-44a1-80e6-79cbe3aa6f84",
   "metadata": {
    "pycharm": {
     "name": "#%% md\n"
    }
   },
   "source": [
    "# Second Quantized Hamiltonian"
   ]
  },
  {
   "cell_type": "code",
   "execution_count": 1,
   "id": "151e1188",
   "metadata": {
    "execution": {
     "iopub.execute_input": "2023-12-06T02:43:30.458941Z",
     "iopub.status.busy": "2023-12-06T02:43:30.453466Z",
     "iopub.status.idle": "2023-12-06T02:43:33.279344Z",
     "shell.execute_reply": "2023-12-06T02:43:33.278560Z"
    },
    "pycharm": {
     "name": "#%%\n"
    }
   },
   "outputs": [],
   "source": [
    "import numpy as np\n",
    "\n",
    "from classiq import Model, construct_chemistry_model, execute, show, synthesize\n",
    "from classiq.applications.chemistry import (\n",
    "    ChemistryExecutionParameters,\n",
    "    FermionicOperator,\n",
    "    HamiltonianProblem,\n",
    "    HEAParameters,\n",
    "    SummedFermionicOperator,\n",
    ")\n",
    "from classiq.builtin_functions import HardwareEfficientAnsatz\n",
    "from classiq.execution import OptimizerType"
   ]
  },
  {
   "cell_type": "code",
   "execution_count": 2,
   "id": "a34b8008",
   "metadata": {
    "execution": {
     "iopub.execute_input": "2023-12-06T02:43:33.284902Z",
     "iopub.status.busy": "2023-12-06T02:43:33.283398Z",
     "iopub.status.idle": "2023-12-06T02:43:33.299162Z",
     "shell.execute_reply": "2023-12-06T02:43:33.298536Z"
    },
    "pycharm": {
     "name": "#%%\n"
    }
   },
   "outputs": [
    {
     "name": "stdout",
     "output_type": "stream",
     "text": [
      "0.2 * a⁺₀a₀ + \n",
      "0.3 * a₁a₁ + \n",
      "0.4 * a₂a₂ + \n",
      "0.5 * a₃a₃ + \n",
      "-0.1 * a⁺₀a⁺₁a₁a₀ + \n",
      "-0.3 * a⁺₂a⁺₃a₂a₃\n"
     ]
    }
   ],
   "source": [
    "hamiltonian = SummedFermionicOperator(\n",
    "    op_list=[\n",
    "        (FermionicOperator(op_list=[(\"+\", 0), (\"-\", 0)]), 0.2),\n",
    "        (FermionicOperator(op_list=[(\"-\", 1), (\"-\", 1)]), 0.3),\n",
    "        (FermionicOperator(op_list=[(\"-\", 2), (\"-\", 2)]), 0.4),\n",
    "        (FermionicOperator(op_list=[(\"-\", 3), (\"-\", 3)]), 0.5),\n",
    "        (FermionicOperator(op_list=[(\"+\", 0), (\"+\", 1), (\"-\", 1), (\"-\", 0)]), -0.1),\n",
    "        (FermionicOperator(op_list=[(\"+\", 2), (\"+\", 3), (\"-\", 2), (\"-\", 3)]), -0.3),\n",
    "    ]\n",
    ")\n",
    "ham_problem = HamiltonianProblem(hamiltonian=hamiltonian, num_particles=[1, 1])\n",
    "\n",
    "print(ham_problem.hamiltonian)"
   ]
  },
  {
   "cell_type": "code",
   "execution_count": 3,
   "id": "b37a0870-c254-4459-a2cc-840a6f8d4a4f",
   "metadata": {
    "execution": {
     "iopub.execute_input": "2023-12-06T02:43:33.303623Z",
     "iopub.status.busy": "2023-12-06T02:43:33.302436Z",
     "iopub.status.idle": "2023-12-06T02:43:33.311614Z",
     "shell.execute_reply": "2023-12-06T02:43:33.311012Z"
    },
    "pycharm": {
     "name": "#%%\n"
    }
   },
   "outputs": [],
   "source": [
    "hwea_params = HEAParameters(\n",
    "    num_qubits=4,\n",
    "    connectivity_map=[(0, 1), (1, 2), (2, 3)],\n",
    "    reps=3,\n",
    "    one_qubit_gates=[\"x\", \"ry\"],\n",
    "    two_qubit_gates=[\"cx\"],\n",
    ")\n",
    "\n",
    "qmod = construct_chemistry_model(\n",
    "    chemistry_problem=ham_problem,\n",
    "    use_hartree_fock=False,\n",
    "    ansatz_parameters=hwea_params,\n",
    "    execution_parameters=ChemistryExecutionParameters(\n",
    "        optimizer=OptimizerType.COBYLA,\n",
    "        max_iteration=100,\n",
    "        initial_point=None,\n",
    "    ),\n",
    ")"
   ]
  },
  {
   "cell_type": "code",
   "execution_count": 4,
   "id": "2f01b380-3fb9-42fe-946d-9a868a6aa02f",
   "metadata": {
    "execution": {
     "iopub.execute_input": "2023-12-06T02:43:33.316130Z",
     "iopub.status.busy": "2023-12-06T02:43:33.314811Z",
     "iopub.status.idle": "2023-12-06T02:43:33.319920Z",
     "shell.execute_reply": "2023-12-06T02:43:33.319375Z"
    }
   },
   "outputs": [],
   "source": [
    "with open(\"second_quantized_hamiltonian.qmod\", \"w\") as f:\n",
    "    f.write(qmod)"
   ]
  },
  {
   "cell_type": "code",
   "execution_count": 5,
   "id": "7657b2e7-4b3d-4ac1-807c-665dfb05007f",
   "metadata": {
    "execution": {
     "iopub.execute_input": "2023-12-06T02:43:33.324126Z",
     "iopub.status.busy": "2023-12-06T02:43:33.323008Z",
     "iopub.status.idle": "2023-12-06T02:43:40.135316Z",
     "shell.execute_reply": "2023-12-06T02:43:40.134589Z"
    },
    "pycharm": {
     "name": "#%%\n"
    }
   },
   "outputs": [
    {
     "name": "stdout",
     "output_type": "stream",
     "text": [
      "Opening: https://platform.classiq.io/circuit/476a5337-6155-4261-8cc7-e47ee5c7516c?version=0.34.0.dev0%2B124706fb0e\n"
     ]
    }
   ],
   "source": [
    "qprog = synthesize(qmod)\n",
    "show(qprog)"
   ]
  },
  {
   "cell_type": "code",
   "execution_count": 6,
   "id": "ccad338b",
   "metadata": {
    "execution": {
     "iopub.execute_input": "2023-12-06T02:43:40.139419Z",
     "iopub.status.busy": "2023-12-06T02:43:40.138947Z",
     "iopub.status.idle": "2023-12-06T02:43:44.723276Z",
     "shell.execute_reply": "2023-12-06T02:43:44.722563Z"
    }
   },
   "outputs": [
    {
     "data": {
      "text/plain": [
       "0.0008999999999999625"
      ]
     },
     "execution_count": 6,
     "metadata": {},
     "output_type": "execute_result"
    }
   ],
   "source": [
    "results = execute(qprog).result()\n",
    "chemistry_result = results[0].value\n",
    "chemistry_result.energy"
   ]
  }
 ],
 "metadata": {
  "kernelspec": {
   "display_name": "Python 3 (ipykernel)",
   "language": "python",
   "name": "python3"
  },
  "language_info": {
   "codemirror_mode": {
    "name": "ipython",
    "version": 3
   },
   "file_extension": ".py",
   "mimetype": "text/x-python",
   "name": "python",
   "nbconvert_exporter": "python",
   "pygments_lexer": "ipython3",
   "version": "3.11.6"
  },
  "vscode": {
   "interpreter": {
    "hash": "a07aacdcc8a415e7643a2bc993226848ff70704ebef014f87460de9126b773d0"
   }
  }
 },
 "nbformat": 4,
 "nbformat_minor": 5
}
