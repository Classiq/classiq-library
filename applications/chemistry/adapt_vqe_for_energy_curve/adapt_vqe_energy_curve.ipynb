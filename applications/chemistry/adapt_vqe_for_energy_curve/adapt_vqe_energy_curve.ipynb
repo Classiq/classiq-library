{
 "cells": [
  {
   "cell_type": "markdown",
   "id": "c63de343-cabb-4198-ae97-b23cdf2ae9e7",
   "metadata": {
    "pycharm": {
     "name": "#%% md\n"
    }
   },
   "source": [
    "# Creating a Molecule's Potential Energy Curve\n",
    "\n",
    "A potential energy curve gives the ground energy of an assemble of atoms as function of the distances between them. The global minima of the curve indicates the binding energy and internuclear distance for the stable molecule. Therefor, such curve can be powerful tool in computational chemistry, for predicting molecular structure and spectrum.\n",
    "\n",
    "In this tutorial, we will demonstrate how, using Classiq's VQE package, the user can create a Molecule's potential energy curve, and compare the result those of the Hartree-Fock approximative method and to the exact results. The exact solution is a result of diagonalizing the Hamiltonian."
   ]
  },
  {
   "cell_type": "markdown",
   "id": "099a3eaa-aec8-4088-89cc-b7fb9fcf161c",
   "metadata": {
    "pycharm": {
     "name": "#%% md\n"
    }
   },
   "source": [
    "## 0. Pre-requirments\n",
    "\n",
    "The model is using several Classiq's libraries in addition to IBM's simulating tool."
   ]
  },
  {
   "cell_type": "code",
   "execution_count": 6,
   "id": "02f49a11",
   "metadata": {
    "execution": {
     "iopub.execute_input": "2024-05-07T15:14:17.533288Z",
     "iopub.status.busy": "2024-05-07T15:14:17.532350Z",
     "iopub.status.idle": "2024-05-07T15:14:20.443573Z",
     "shell.execute_reply": "2024-05-07T15:14:20.442890Z"
    }
   },
   "outputs": [],
   "source": [
    "import time\n",
    "\n",
    "import matplotlib.pyplot as plt\n",
    "import numpy as np\n",
    "\n",
    "from classiq import *\n",
    "from classiq.applications.chemistry import (\n",
    "    ChemistryExecutionParameters,\n",
    "    HEAParameters,\n",
    "    Molecule,\n",
    "    MoleculeProblem,\n",
    "    UCCParameters,\n",
    ")\n",
    "from classiq.execution import OptimizerType"
   ]
  },
  {
   "cell_type": "markdown",
   "id": "b385d28a-efbf-41ae-b542-ed97ed6780b3",
   "metadata": {
    "pycharm": {
     "name": "#%% md\n"
    }
   },
   "source": [
    "## 1. Defintions and Initialization\n",
    "\n",
    "Here, we define the range of internuclear distances for the model to simulate, and chose the number of sampling point in this range, which determines the graph's resolution."
   ]
  },
  {
   "cell_type": "code",
   "execution_count": 7,
   "id": "238c6d3c-2ab7-4033-94c3-917debd90b17",
   "metadata": {
    "execution": {
     "iopub.execute_input": "2024-05-07T15:14:20.447086Z",
     "iopub.status.busy": "2024-05-07T15:14:20.446361Z",
     "iopub.status.idle": "2024-05-07T15:14:20.451781Z",
     "shell.execute_reply": "2024-05-07T15:14:20.451128Z"
    },
    "pycharm": {
     "name": "#%%\n"
    }
   },
   "outputs": [
    {
     "name": "stdout",
     "output_type": "stream",
     "text": [
      "[0.2  0.4  0.6  0.8  1.   1.4  1.75 2.1  2.45 2.8  3.15 3.5 ]\n"
     ]
    }
   ],
   "source": [
    "# define the sampling params\n",
    "num1 = 5  # how many sampling points - determines your resolution\n",
    "start1 = 0.20  # what is your sampling start distance\n",
    "stop1 = 1  # what is your sampling end distance\n",
    "num2 = 7  # how many sampling points - determines your resolution\n",
    "start2 = 1.4  # what is your sampling start distance\n",
    "stop2 = 3.5  # what is your sampling end distance\n",
    "\n",
    "\n",
    "# prepare x,y vectors\n",
    "distance = np.append(np.linspace(start1, stop1, num1), np.linspace(start2, stop2, num2))\n",
    "VQE_energy = []\n",
    "HF_energy = []\n",
    "exact_energy = []\n",
    "\n",
    "print(distance)"
   ]
  },
  {
   "cell_type": "markdown",
   "id": "e482b279-dfda-46b6-be32-0bce69fb52d6",
   "metadata": {
    "pycharm": {
     "name": "#%% md\n"
    }
   },
   "source": [
    "## 2. Energy Estimations\n",
    "\n",
    "Here we define a for-loop, which does the following steps:\n",
    "\n",
    "a. creating molecule at changing distances between the atoms.\n",
    "\n",
    "b. Constructing a chemistry model for the corresponding Hamiltonian, using Hartree-Fock initial state and UCC ansatz.\n",
    "\n",
    "c. Synthesizing the model to get a quantum program.\n",
    "\n",
    "d. Executing the quantum program to extract a solution for the ground energy.\n",
    "\n",
    "e. Obtain the exact solution and Hartree-Fock solution."
   ]
  },
  {
   "cell_type": "code",
   "execution_count": 8,
   "id": "b25f416a",
   "metadata": {
    "execution": {
     "iopub.execute_input": "2024-05-07T15:14:20.454446Z",
     "iopub.status.busy": "2024-05-07T15:14:20.454046Z",
     "iopub.status.idle": "2024-05-07T15:16:31.137135Z",
     "shell.execute_reply": "2024-05-07T15:16:31.135771Z"
    }
   },
   "outputs": [
    {
     "name": "stdout",
     "output_type": "stream",
     "text": [
      "11.206981897354126\n",
      "11.011789798736572\n",
      "9.279333591461182\n",
      "10.444861650466919\n",
      "10.7950279712677\n",
      "11.063537836074829\n",
      "9.81880521774292\n",
      "9.367217063903809\n"
     ]
    },
    {
     "ename": "ClassiqAPIError",
     "evalue": "Call to API failed with code 400: Apologies for the inconvenience. We're currently experiencing an overwhelming surge in user activity, causing our system to be temporarily overloaded. Our team is actively addressing this and working on resolving the issue to provide you with a smoother experience. Please bear with us as we work to accommodate the high interest and requests. Thank you for your patience.\n\nError identifier: E95E27CA4-B0B5-42C1-9891-25DB1F1285D7.\nIf you need further assistance, please reach out on our Community Slack channel at: https://short.classiq.io/join-slack or open a support ticket at: https://classiq-community.freshdesk.com/support/tickets/new",
     "output_type": "error",
     "traceback": [
      "\u001b[1;31m---------------------------------------------------------------------------\u001b[0m",
      "\u001b[1;31mClassiqAPIError\u001b[0m                           Traceback (most recent call last)",
      "Cell \u001b[1;32mIn[8], line 35\u001b[0m\n\u001b[0;32m     32\u001b[0m qprog \u001b[38;5;241m=\u001b[39m synthesize(qmod)\n\u001b[0;32m     33\u001b[0m qprogs\u001b[38;5;241m.\u001b[39mappend(qprog)\n\u001b[1;32m---> 35\u001b[0m result \u001b[38;5;241m=\u001b[39m \u001b[43mexecute\u001b[49m\u001b[43m(\u001b[49m\u001b[43mqprog\u001b[49m\u001b[43m)\u001b[49m\u001b[38;5;241m.\u001b[39mresult()\n\u001b[0;32m     36\u001b[0m results\u001b[38;5;241m.\u001b[39mappend(result)\n\u001b[0;32m     37\u001b[0m chemistry_result_dict \u001b[38;5;241m=\u001b[39m result[\u001b[38;5;241m1\u001b[39m]\u001b[38;5;241m.\u001b[39mvalue\n",
      "File \u001b[1;32mc:\\Users\\Lenovo\\AppData\\Local\\Programs\\Python\\Python311\\Lib\\site-packages\\classiq\\executor.py:57\u001b[0m, in \u001b[0;36mexecute\u001b[1;34m(quantum_program)\u001b[0m\n\u001b[0;32m     45\u001b[0m \u001b[38;5;28;01mdef\u001b[39;00m \u001b[38;5;21mexecute\u001b[39m(quantum_program: SerializedQuantumProgram) \u001b[38;5;241m-\u001b[39m\u001b[38;5;241m>\u001b[39m ExecutionJob:\n\u001b[0;32m     46\u001b[0m \u001b[38;5;250m    \u001b[39m\u001b[38;5;124;03m\"\"\"\u001b[39;00m\n\u001b[0;32m     47\u001b[0m \u001b[38;5;124;03m    Execute a quantum program. The preferences for execution are set on the quantum program using the method `set_execution_preferences`.\u001b[39;00m\n\u001b[0;32m     48\u001b[0m \n\u001b[1;32m   (...)\u001b[0m\n\u001b[0;32m     55\u001b[0m \u001b[38;5;124;03m    For examples please see [Execution Documentation](https://docs.classiq.io/latest/user-guide/execution/)\u001b[39;00m\n\u001b[0;32m     56\u001b[0m \u001b[38;5;124;03m    \"\"\"\u001b[39;00m\n\u001b[1;32m---> 57\u001b[0m     \u001b[38;5;28;01mreturn\u001b[39;00m \u001b[43masync_utils\u001b[49m\u001b[38;5;241;43m.\u001b[39;49m\u001b[43mrun\u001b[49m\u001b[43m(\u001b[49m\u001b[43mexecute_async\u001b[49m\u001b[43m(\u001b[49m\u001b[43mquantum_program\u001b[49m\u001b[43m)\u001b[49m\u001b[43m)\u001b[49m\n",
      "File \u001b[1;32mc:\\Users\\Lenovo\\AppData\\Local\\Programs\\Python\\Python311\\Lib\\site-packages\\classiq\\_internals\\async_utils.py:37\u001b[0m, in \u001b[0;36mrun\u001b[1;34m(coro)\u001b[0m\n\u001b[0;32m     32\u001b[0m \u001b[38;5;28;01mdef\u001b[39;00m \u001b[38;5;21mrun\u001b[39m(coro: Awaitable[T]) \u001b[38;5;241m-\u001b[39m\u001b[38;5;241m>\u001b[39m T:\n\u001b[0;32m     33\u001b[0m     \u001b[38;5;66;03m# Use this function instead of asyncio.run, since it ALWAYS\u001b[39;00m\n\u001b[0;32m     34\u001b[0m     \u001b[38;5;66;03m# creates a new event loop and clears the thread event loop.\u001b[39;00m\n\u001b[0;32m     35\u001b[0m     \u001b[38;5;66;03m# Never use asyncio.run in library code.\u001b[39;00m\n\u001b[0;32m     36\u001b[0m     loop \u001b[38;5;241m=\u001b[39m get_event_loop()\n\u001b[1;32m---> 37\u001b[0m     \u001b[38;5;28;01mreturn\u001b[39;00m \u001b[43mloop\u001b[49m\u001b[38;5;241;43m.\u001b[39;49m\u001b[43mrun_until_complete\u001b[49m\u001b[43m(\u001b[49m\u001b[43mcoro\u001b[49m\u001b[43m)\u001b[49m\n",
      "File \u001b[1;32mc:\\Users\\Lenovo\\AppData\\Local\\Programs\\Python\\Python311\\Lib\\site-packages\\nest_asyncio.py:98\u001b[0m, in \u001b[0;36m_patch_loop.<locals>.run_until_complete\u001b[1;34m(self, future)\u001b[0m\n\u001b[0;32m     95\u001b[0m \u001b[38;5;28;01mif\u001b[39;00m \u001b[38;5;129;01mnot\u001b[39;00m f\u001b[38;5;241m.\u001b[39mdone():\n\u001b[0;32m     96\u001b[0m     \u001b[38;5;28;01mraise\u001b[39;00m \u001b[38;5;167;01mRuntimeError\u001b[39;00m(\n\u001b[0;32m     97\u001b[0m         \u001b[38;5;124m'\u001b[39m\u001b[38;5;124mEvent loop stopped before Future completed.\u001b[39m\u001b[38;5;124m'\u001b[39m)\n\u001b[1;32m---> 98\u001b[0m \u001b[38;5;28;01mreturn\u001b[39;00m \u001b[43mf\u001b[49m\u001b[38;5;241;43m.\u001b[39;49m\u001b[43mresult\u001b[49m\u001b[43m(\u001b[49m\u001b[43m)\u001b[49m\n",
      "File \u001b[1;32mc:\\Users\\Lenovo\\AppData\\Local\\Programs\\Python\\Python311\\Lib\\asyncio\\futures.py:203\u001b[0m, in \u001b[0;36mFuture.result\u001b[1;34m(self)\u001b[0m\n\u001b[0;32m    201\u001b[0m \u001b[38;5;28mself\u001b[39m\u001b[38;5;241m.\u001b[39m__log_traceback \u001b[38;5;241m=\u001b[39m \u001b[38;5;28;01mFalse\u001b[39;00m\n\u001b[0;32m    202\u001b[0m \u001b[38;5;28;01mif\u001b[39;00m \u001b[38;5;28mself\u001b[39m\u001b[38;5;241m.\u001b[39m_exception \u001b[38;5;129;01mis\u001b[39;00m \u001b[38;5;129;01mnot\u001b[39;00m \u001b[38;5;28;01mNone\u001b[39;00m:\n\u001b[1;32m--> 203\u001b[0m     \u001b[38;5;28;01mraise\u001b[39;00m \u001b[38;5;28mself\u001b[39m\u001b[38;5;241m.\u001b[39m_exception\u001b[38;5;241m.\u001b[39mwith_traceback(\u001b[38;5;28mself\u001b[39m\u001b[38;5;241m.\u001b[39m_exception_tb)\n\u001b[0;32m    204\u001b[0m \u001b[38;5;28;01mreturn\u001b[39;00m \u001b[38;5;28mself\u001b[39m\u001b[38;5;241m.\u001b[39m_result\n",
      "File \u001b[1;32mc:\\Users\\Lenovo\\AppData\\Local\\Programs\\Python\\Python311\\Lib\\asyncio\\tasks.py:267\u001b[0m, in \u001b[0;36mTask.__step\u001b[1;34m(***failed resolving arguments***)\u001b[0m\n\u001b[0;32m    263\u001b[0m \u001b[38;5;28;01mtry\u001b[39;00m:\n\u001b[0;32m    264\u001b[0m     \u001b[38;5;28;01mif\u001b[39;00m exc \u001b[38;5;129;01mis\u001b[39;00m \u001b[38;5;28;01mNone\u001b[39;00m:\n\u001b[0;32m    265\u001b[0m         \u001b[38;5;66;03m# We use the `send` method directly, because coroutines\u001b[39;00m\n\u001b[0;32m    266\u001b[0m         \u001b[38;5;66;03m# don't have `__iter__` and `__next__` methods.\u001b[39;00m\n\u001b[1;32m--> 267\u001b[0m         result \u001b[38;5;241m=\u001b[39m coro\u001b[38;5;241m.\u001b[39msend(\u001b[38;5;28;01mNone\u001b[39;00m)\n\u001b[0;32m    268\u001b[0m     \u001b[38;5;28;01melse\u001b[39;00m:\n\u001b[0;32m    269\u001b[0m         result \u001b[38;5;241m=\u001b[39m coro\u001b[38;5;241m.\u001b[39mthrow(exc)\n",
      "File \u001b[1;32mc:\\Users\\Lenovo\\AppData\\Local\\Programs\\Python\\Python311\\Lib\\site-packages\\classiq\\executor.py:41\u001b[0m, in \u001b[0;36mexecute_async\u001b[1;34m(quantum_program)\u001b[0m\n\u001b[0;32m     39\u001b[0m circuit \u001b[38;5;241m=\u001b[39m _parse_serialized_qprog(quantum_program)\n\u001b[0;32m     40\u001b[0m execution_input \u001b[38;5;241m=\u001b[39m \u001b[38;5;28;01mawait\u001b[39;00m ApiWrapper\u001b[38;5;241m.\u001b[39mcall_convert_quantum_program(circuit)\n\u001b[1;32m---> 41\u001b[0m result \u001b[38;5;241m=\u001b[39m \u001b[38;5;28;01mawait\u001b[39;00m ApiWrapper\u001b[38;5;241m.\u001b[39mcall_execute_execution_input(execution_input)\n\u001b[0;32m     42\u001b[0m \u001b[38;5;28;01mreturn\u001b[39;00m ExecutionJob(details\u001b[38;5;241m=\u001b[39mresult)\n",
      "File \u001b[1;32mc:\\Users\\Lenovo\\AppData\\Local\\Programs\\Python\\Python311\\Lib\\site-packages\\classiq\\_internals\\api_wrapper.py:175\u001b[0m, in \u001b[0;36mApiWrapper.call_execute_execution_input\u001b[1;34m(cls, execution_input, http_client)\u001b[0m\n\u001b[0;32m    169\u001b[0m \u001b[38;5;129m@classmethod\u001b[39m\n\u001b[0;32m    170\u001b[0m \u001b[38;5;28;01masync\u001b[39;00m \u001b[38;5;28;01mdef\u001b[39;00m \u001b[38;5;21mcall_execute_execution_input\u001b[39m(\n\u001b[0;32m    171\u001b[0m     \u001b[38;5;28mcls\u001b[39m,\n\u001b[0;32m    172\u001b[0m     execution_input: \u001b[38;5;28mdict\u001b[39m,\n\u001b[0;32m    173\u001b[0m     http_client: Optional[httpx\u001b[38;5;241m.\u001b[39mAsyncClient] \u001b[38;5;241m=\u001b[39m \u001b[38;5;28;01mNone\u001b[39;00m,\n\u001b[0;32m    174\u001b[0m ) \u001b[38;5;241m-\u001b[39m\u001b[38;5;241m>\u001b[39m execution_request\u001b[38;5;241m.\u001b[39mExecutionJobDetails:\n\u001b[1;32m--> 175\u001b[0m     data \u001b[38;5;241m=\u001b[39m \u001b[38;5;28;01mawait\u001b[39;00m \u001b[38;5;28mcls\u001b[39m\u001b[38;5;241m.\u001b[39m_call_task(\n\u001b[0;32m    176\u001b[0m         http_method\u001b[38;5;241m=\u001b[39mHTTPMethod\u001b[38;5;241m.\u001b[39mPOST,\n\u001b[0;32m    177\u001b[0m         url\u001b[38;5;241m=\u001b[39mroutes\u001b[38;5;241m.\u001b[39mEXECUTION_JOBS_FULL_PATH,\n\u001b[0;32m    178\u001b[0m         body\u001b[38;5;241m=\u001b[39mexecution_input,\n\u001b[0;32m    179\u001b[0m         http_client\u001b[38;5;241m=\u001b[39mhttp_client,\n\u001b[0;32m    180\u001b[0m     )\n\u001b[0;32m    181\u001b[0m     \u001b[38;5;28;01mreturn\u001b[39;00m execution_request\u001b[38;5;241m.\u001b[39mExecutionJobDetails\u001b[38;5;241m.\u001b[39mmodel_validate(data)\n",
      "File \u001b[1;32mc:\\Users\\Lenovo\\AppData\\Local\\Programs\\Python\\Python311\\Lib\\site-packages\\classiq\\_internals\\api_wrapper.py:98\u001b[0m, in \u001b[0;36mApiWrapper._call_task\u001b[1;34m(cls, http_method, url, body, params, use_versioned_url, headers, allow_none, http_client)\u001b[0m\n\u001b[0;32m     86\u001b[0m \u001b[38;5;129m@classmethod\u001b[39m\n\u001b[0;32m     87\u001b[0m \u001b[38;5;28;01masync\u001b[39;00m \u001b[38;5;28;01mdef\u001b[39;00m \u001b[38;5;21m_call_task\u001b[39m(\n\u001b[0;32m     88\u001b[0m     \u001b[38;5;28mcls\u001b[39m,\n\u001b[1;32m   (...)\u001b[0m\n\u001b[0;32m     96\u001b[0m     http_client: Optional[httpx\u001b[38;5;241m.\u001b[39mAsyncClient] \u001b[38;5;241m=\u001b[39m \u001b[38;5;28;01mNone\u001b[39;00m,\n\u001b[0;32m     97\u001b[0m ) \u001b[38;5;241m-\u001b[39m\u001b[38;5;241m>\u001b[39m \u001b[38;5;28mdict\u001b[39m:\n\u001b[1;32m---> 98\u001b[0m     res: Any \u001b[38;5;241m=\u001b[39m \u001b[38;5;28;01mawait\u001b[39;00m client()\u001b[38;5;241m.\u001b[39mcall_api(\n\u001b[0;32m     99\u001b[0m         http_method\u001b[38;5;241m=\u001b[39mhttp_method,\n\u001b[0;32m    100\u001b[0m         url\u001b[38;5;241m=\u001b[39murl,\n\u001b[0;32m    101\u001b[0m         body\u001b[38;5;241m=\u001b[39mbody,\n\u001b[0;32m    102\u001b[0m         headers\u001b[38;5;241m=\u001b[39mheaders,\n\u001b[0;32m    103\u001b[0m         params\u001b[38;5;241m=\u001b[39mparams,\n\u001b[0;32m    104\u001b[0m         use_versioned_url\u001b[38;5;241m=\u001b[39muse_versioned_url,\n\u001b[0;32m    105\u001b[0m         http_client\u001b[38;5;241m=\u001b[39mhttp_client,\n\u001b[0;32m    106\u001b[0m     )\n\u001b[0;32m    107\u001b[0m     \u001b[38;5;28;01mif\u001b[39;00m allow_none \u001b[38;5;129;01mand\u001b[39;00m res \u001b[38;5;129;01mis\u001b[39;00m \u001b[38;5;28;01mNone\u001b[39;00m:\n\u001b[0;32m    108\u001b[0m         \u001b[38;5;28;01mreturn\u001b[39;00m {}\n",
      "File \u001b[1;32mc:\\Users\\Lenovo\\AppData\\Local\\Programs\\Python\\Python311\\Lib\\site-packages\\classiq\\_internals\\client.py:279\u001b[0m, in \u001b[0;36mClient.call_api\u001b[1;34m(self, http_method, url, body, params, use_versioned_url, headers, http_client)\u001b[0m\n\u001b[0;32m    277\u001b[0m     url \u001b[38;5;241m=\u001b[39m \u001b[38;5;28mself\u001b[39m\u001b[38;5;241m.\u001b[39mmake_versioned_url(url)\n\u001b[0;32m    278\u001b[0m \u001b[38;5;28;01masync\u001b[39;00m \u001b[38;5;28;01mwith\u001b[39;00m \u001b[38;5;28mself\u001b[39m\u001b[38;5;241m.\u001b[39muse_client_or_create(http_client) \u001b[38;5;28;01mas\u001b[39;00m async_client:\n\u001b[1;32m--> 279\u001b[0m     response \u001b[38;5;241m=\u001b[39m \u001b[38;5;28;01mawait\u001b[39;00m \u001b[38;5;28mself\u001b[39m\u001b[38;5;241m.\u001b[39mrequest(\n\u001b[0;32m    280\u001b[0m         http_client\u001b[38;5;241m=\u001b[39masync_client,\n\u001b[0;32m    281\u001b[0m         method\u001b[38;5;241m=\u001b[39mhttp_method,\n\u001b[0;32m    282\u001b[0m         url\u001b[38;5;241m=\u001b[39murl,\n\u001b[0;32m    283\u001b[0m         json\u001b[38;5;241m=\u001b[39mbody,\n\u001b[0;32m    284\u001b[0m         params\u001b[38;5;241m=\u001b[39mparams,\n\u001b[0;32m    285\u001b[0m         headers\u001b[38;5;241m=\u001b[39mheaders,\n\u001b[0;32m    286\u001b[0m     )\n\u001b[0;32m    287\u001b[0m     \u001b[38;5;28;01mreturn\u001b[39;00m response\u001b[38;5;241m.\u001b[39mjson()\n",
      "File \u001b[1;32mc:\\Users\\Lenovo\\AppData\\Local\\Programs\\Python\\Python311\\Lib\\site-packages\\classiq\\_internals\\client.py:117\u001b[0m, in \u001b[0;36mtry_again_on_failure.<locals>.wrapper\u001b[1;34m(*args, **kwargs)\u001b[0m\n\u001b[0;32m    115\u001b[0m \u001b[38;5;28;01mfor\u001b[39;00m i \u001b[38;5;129;01min\u001b[39;00m \u001b[38;5;28mrange\u001b[39m(_RETRY_COUNT):\n\u001b[0;32m    116\u001b[0m     \u001b[38;5;28;01mtry\u001b[39;00m:\n\u001b[1;32m--> 117\u001b[0m         \u001b[38;5;28;01mreturn\u001b[39;00m \u001b[38;5;28;01mawait\u001b[39;00m func(\u001b[38;5;241m*\u001b[39margs, \u001b[38;5;241m*\u001b[39m\u001b[38;5;241m*\u001b[39mkwargs)\n\u001b[0;32m    118\u001b[0m     \u001b[38;5;28;01mexcept\u001b[39;00m ClassiqExpiredTokenError:\n\u001b[0;32m    119\u001b[0m         _logger\u001b[38;5;241m.\u001b[39minfo(\n\u001b[0;32m    120\u001b[0m             \u001b[38;5;124m\"\u001b[39m\u001b[38;5;124mToken expired when trying to \u001b[39m\u001b[38;5;132;01m%s\u001b[39;00m\u001b[38;5;124m with args \u001b[39m\u001b[38;5;132;01m%s\u001b[39;00m\u001b[38;5;124m \u001b[39m\u001b[38;5;132;01m%s\u001b[39;00m\u001b[38;5;124m\"\u001b[39m,\n\u001b[0;32m    121\u001b[0m             func,\n\u001b[1;32m   (...)\u001b[0m\n\u001b[0;32m    124\u001b[0m             exc_info\u001b[38;5;241m=\u001b[39m\u001b[38;5;28;01mTrue\u001b[39;00m,\n\u001b[0;32m    125\u001b[0m         )\n",
      "File \u001b[1;32mc:\\Users\\Lenovo\\AppData\\Local\\Programs\\Python\\Python311\\Lib\\site-packages\\classiq\\_internals\\client.py:256\u001b[0m, in \u001b[0;36mClient.request\u001b[1;34m(self, http_client, method, url, json, params, headers)\u001b[0m\n\u001b[0;32m    242\u001b[0m response \u001b[38;5;241m=\u001b[39m \u001b[38;5;28;01mawait\u001b[39;00m http_client\u001b[38;5;241m.\u001b[39mrequest(\n\u001b[0;32m    243\u001b[0m     method\u001b[38;5;241m=\u001b[39mmethod,\n\u001b[0;32m    244\u001b[0m     url\u001b[38;5;241m=\u001b[39murl,\n\u001b[1;32m   (...)\u001b[0m\n\u001b[0;32m    247\u001b[0m     headers\u001b[38;5;241m=\u001b[39mheaders,\n\u001b[0;32m    248\u001b[0m )\n\u001b[0;32m    249\u001b[0m _logger\u001b[38;5;241m.\u001b[39mdebug(\n\u001b[0;32m    250\u001b[0m     \u001b[38;5;124m\"\u001b[39m\u001b[38;5;124mHTTP response: \u001b[39m\u001b[38;5;132;01m%s\u001b[39;00m\u001b[38;5;124m \u001b[39m\u001b[38;5;132;01m%s\u001b[39;00m\u001b[38;5;124m \u001b[39m\u001b[38;5;132;01m%d\u001b[39;00m\u001b[38;5;124m (\u001b[39m\u001b[38;5;132;01m%.0f\u001b[39;00m\u001b[38;5;124mms)\u001b[39m\u001b[38;5;124m\"\u001b[39m,\n\u001b[0;32m    251\u001b[0m     method\u001b[38;5;241m.\u001b[39mupper(),\n\u001b[1;32m   (...)\u001b[0m\n\u001b[0;32m    254\u001b[0m     (time\u001b[38;5;241m.\u001b[39mmonotonic() \u001b[38;5;241m-\u001b[39m start_time) \u001b[38;5;241m*\u001b[39m \u001b[38;5;241m1000\u001b[39m,\n\u001b[0;32m    255\u001b[0m )\n\u001b[1;32m--> 256\u001b[0m \u001b[38;5;28;43mself\u001b[39;49m\u001b[38;5;241;43m.\u001b[39;49m\u001b[43mhandle_response\u001b[49m\u001b[43m(\u001b[49m\u001b[43mresponse\u001b[49m\u001b[43m)\u001b[49m\n\u001b[0;32m    257\u001b[0m \u001b[38;5;28;01mreturn\u001b[39;00m response\n",
      "File \u001b[1;32mc:\\Users\\Lenovo\\AppData\\Local\\Programs\\Python\\Python311\\Lib\\site-packages\\classiq\\_internals\\client.py:207\u001b[0m, in \u001b[0;36mClient.handle_response\u001b[1;34m(self, response)\u001b[0m\n\u001b[0;32m    205\u001b[0m \u001b[38;5;28mself\u001b[39m\u001b[38;5;241m.\u001b[39m_handle_warnings(response)\n\u001b[0;32m    206\u001b[0m \u001b[38;5;28;01mif\u001b[39;00m response\u001b[38;5;241m.\u001b[39mis_error:\n\u001b[1;32m--> 207\u001b[0m     \u001b[38;5;28;43mself\u001b[39;49m\u001b[38;5;241;43m.\u001b[39;49m\u001b[43m_handle_error\u001b[49m\u001b[43m(\u001b[49m\u001b[43mresponse\u001b[49m\u001b[43m)\u001b[49m\n\u001b[0;32m    208\u001b[0m \u001b[38;5;28mself\u001b[39m\u001b[38;5;241m.\u001b[39m_handle_success(response)\n",
      "File \u001b[1;32mc:\\Users\\Lenovo\\AppData\\Local\\Programs\\Python\\Python311\\Lib\\site-packages\\classiq\\_internals\\client.py:226\u001b[0m, in \u001b[0;36mClient._handle_error\u001b[1;34m(response)\u001b[0m\n\u001b[0;32m    224\u001b[0m \u001b[38;5;28;01mexcept\u001b[39;00m \u001b[38;5;167;01mException\u001b[39;00m:  \u001b[38;5;66;03m# noqa: S110\u001b[39;00m\n\u001b[0;32m    225\u001b[0m     \u001b[38;5;28;01mpass\u001b[39;00m\n\u001b[1;32m--> 226\u001b[0m \u001b[38;5;28;01mraise\u001b[39;00m ClassiqAPIError(message, response\u001b[38;5;241m.\u001b[39mstatus_code)\n",
      "\u001b[1;31mClassiqAPIError\u001b[0m: Call to API failed with code 400: Apologies for the inconvenience. We're currently experiencing an overwhelming surge in user activity, causing our system to be temporarily overloaded. Our team is actively addressing this and working on resolving the issue to provide you with a smoother experience. Please bear with us as we work to accommodate the high interest and requests. Thank you for your patience.\n\nError identifier: E95E27CA4-B0B5-42C1-9891-25DB1F1285D7.\nIf you need further assistance, please reach out on our Community Slack channel at: https://short.classiq.io/join-slack or open a support ticket at: https://classiq-community.freshdesk.com/support/tickets/new"
     ]
    }
   ],
   "source": [
    "# create the molecule, insert the distance, prepare H, create UCC anzats and solve in energy\n",
    "\n",
    "qmods = []\n",
    "qprogs = []\n",
    "results = []\n",
    "durations = []\n",
    "\n",
    "for x in distance:\n",
    "    time1 = time.time()\n",
    "\n",
    "    molecule = Molecule(atoms=[(\"H\", (0.0, 0.0, 0)), (\"H\", (0.0, 0.0, float(x)))])\n",
    "\n",
    "    chemistry_problem = MoleculeProblem(\n",
    "        molecule=molecule,\n",
    "        mapping=\"jordan_wigner\",  # 'bravyi_kitaev'\n",
    "        z2_symmetries=True,\n",
    "        freeze_core=True,\n",
    "    )\n",
    "\n",
    "    qmod = construct_chemistry_model(\n",
    "        chemistry_problem=chemistry_problem,\n",
    "        use_hartree_fock=True,\n",
    "        ansatz_parameters=UCCParameters(excitations=[1, 2]),\n",
    "        execution_parameters=ChemistryExecutionParameters(\n",
    "            optimizer=OptimizerType.COBYLA,\n",
    "            max_iteration=30,\n",
    "            initial_point=None,\n",
    "        ),\n",
    "    )\n",
    "    qmods.append(qmod)\n",
    "\n",
    "    qprog = synthesize(qmod)\n",
    "    qprogs.append(qprog)\n",
    "\n",
    "    result = execute(qprog).result()\n",
    "    results.append(result)\n",
    "    chemistry_result_dict = result[1].value\n",
    "\n",
    "    operator = chemistry_problem.generate_hamiltonian()\n",
    "    mat = operator.to_matrix()\n",
    "    w, v = np.linalg.eig(mat)\n",
    "    result_exact = np.real(min(w)) + chemistry_result_dict[\"nuclear_repulsion_energy\"]\n",
    "\n",
    "    VQE_energy.append(chemistry_result_dict[\"total_energy\"])\n",
    "\n",
    "    HF_energy.append(chemistry_result_dict[\"hartree_fock_energy\"])\n",
    "\n",
    "    exact_energy.append(result_exact)\n",
    "\n",
    "    time2 = time.time()\n",
    "    duration = time2 - time1\n",
    "    durations.append(duration)\n",
    "    print(duration)"
   ]
  },
  {
   "cell_type": "code",
   "execution_count": null,
   "id": "814b6501-6437-4fb8-96a9-4318b0ff54ea",
   "metadata": {
    "execution": {
     "iopub.execute_input": "2024-05-07T15:16:31.141831Z",
     "iopub.status.busy": "2024-05-07T15:16:31.140596Z",
     "iopub.status.idle": "2024-05-07T15:16:31.165876Z",
     "shell.execute_reply": "2024-05-07T15:16:31.165172Z"
    }
   },
   "outputs": [],
   "source": [
    "# save the last model to a qmod file\n",
    "write_qmod(qmods[-1], \"molecular_energy_curve\")"
   ]
  },
  {
   "cell_type": "markdown",
   "id": "442ddc89",
   "metadata": {
    "pycharm": {
     "name": "#%% md\n"
    }
   },
   "source": [
    "## 3. Create Graph"
   ]
  },
  {
   "cell_type": "code",
   "execution_count": null,
   "id": "1f657c3d",
   "metadata": {
    "execution": {
     "iopub.execute_input": "2024-05-07T15:16:31.170903Z",
     "iopub.status.busy": "2024-05-07T15:16:31.169716Z",
     "iopub.status.idle": "2024-05-07T15:16:31.470370Z",
     "shell.execute_reply": "2024-05-07T15:16:31.469630Z"
    },
    "pycharm": {
     "name": "#%%\n"
    }
   },
   "outputs": [
    {
     "data": {
      "image/png": "[encoded data removed]",
      "text/plain": [
       "<Figure size 640x480 with 1 Axes>"
      ]
     },
     "metadata": {},
     "output_type": "display_data"
    }
   ],
   "source": [
    "plt.plot(\n",
    "    distance, VQE_energy, \"r--\", distance, HF_energy, \"bs\", distance, exact_energy, \"g^\"\n",
    ")\n",
    "\n",
    "plt.xlabel(\"distance [Å]\")\n",
    "plt.ylabel(\"energy [Ha]\")\n",
    "plt.legend([\"Classiq VQE\", \"Hartree-Fock\", \"Exact solution\"])\n",
    "plt.title(\"Binding Curve H_{2}\")\n",
    "\n",
    "plt.show()"
   ]
  },
  {
   "cell_type": "markdown",
   "id": "6886a471",
   "metadata": {
    "pycharm": {
     "name": "#%% md\n"
    }
   },
   "source": [
    "This graph presents the ground state for $H_{2}$ molecule as a function of the distance between the two hydrogen atoms. One can see that both the HF solution and Classiq VQE present decent results around the global minima. For further distances, Classiq VQE stays close to the exact solution while the HF solution gradually deviates. The source of this lack of correspondence is with the lack of flexible correlations within the HF model, which is enabled within VQE scope.\n",
    "One can similarly create graphs for different molecules (even n- dimensional or larger atom assemblies), to explore more curves.\n"
   ]
  },
  {
   "cell_type": "markdown",
   "id": "74050aad",
   "metadata": {},
   "source": [
    "# 4. Define Adapt_VQE using Flexible QPE"
   ]
  },
  {
   "cell_type": "code",
   "execution_count": 11,
   "id": "4e2a590b",
   "metadata": {},
   "outputs": [],
   "source": [
    "## Imports\n",
    "\n",
    "import matplotlib.pyplot as plt\n",
    "import numpy as np\n",
    "\n",
    "from classiq import *\n",
    "\n",
    "# for chemistry\n",
    "from classiq.applications.chemistry import Molecule, MoleculeProblem\n",
    "from classiq.applications.combinatorial_helpers.pauli_helpers.pauli_utils import (\n",
    "    pauli_operator_to_hamiltonian,\n",
    ")\n",
    "\n",
    "#Flexible QPE\n",
    "\n",
    "@qfunc\n",
    "def my_qpe_flexible(\n",
    "    unitary: QCallable[CInt, QArray[QBit]],\n",
    "    state: QArray[QBit],\n",
    "    phase: QArray[QBit],\n",
    ") -> None:\n",
    "    apply_to_all(H, phase)\n",
    "\n",
    "    repeat(\n",
    "        count=phase.len,\n",
    "        iteration=lambda index: control(\n",
    "            ctrl=phase[index],\n",
    "            stmt_block=lambda: unitary(2**index, state),\n",
    "        ),\n",
    "    )\n",
    "\n",
    "    invert(\n",
    "        lambda: qft(phase),\n",
    "    )"
   ]
  },
  {
   "cell_type": "markdown",
   "id": "ee7229d3",
   "metadata": {},
   "source": [
    "### Define a molecule with Classiq\n",
    "\n",
    "I choose to work on the LiH molecule:"
   ]
  },
  {
   "cell_type": "code",
   "execution_count": 20,
   "id": "dbf05334",
   "metadata": {},
   "outputs": [],
   "source": [
    "# build your molecule\n",
    "\n",
    "\n",
    "molecule_LiH = Molecule(atoms=[(\"H\", (0.0, 0.0, 0.0)), (\"Li\", (0.0, 0.0, 1.596))])\n",
    "\n",
    "# Example of some other molecules:\n",
    "molecule_H2 = Molecule(atoms=[(\"H\", (0.0, 0.0, 0)), (\"H\", (0.0, 0.0, 0.735))])\n",
    "molecule_O2 = Molecule(atoms=[(\"O\", (0.0, 0.0, 0)), (\"O\", (0.0, 0.0, 1.16))])\n",
    "molecule_H2O = Molecule(\n",
    "    atoms=[(\"O\", (0.0, 0.0, 0.0)), (\"H\", (0, 0.586, 0.757)), (\"H\", (0, 0.586, -0.757))]\n",
    ")\n",
    "molecule_BeH2 = Molecule(\n",
    "    atoms=[(\"Be\", (0.0, 0.0, 0.0)), (\"H\", (0, 0, 1.334)), (\"H\", (0, 0, -1.334))]\n",
    ")\n",
    "\n",
    "molecule = molecule_LiH"
   ]
  },
  {
   "cell_type": "code",
   "execution_count": 21,
   "id": "d3b0fcbe",
   "metadata": {},
   "outputs": [
    {
     "name": "stdout",
     "output_type": "stream",
     "text": [
      "The Hamiltonian is defined on 6 qubits, and contains 231 Pauli strings\n"
     ]
    }
   ],
   "source": [
    "# define your molecule problem\n",
    "\n",
    "gs_problem = MoleculeProblem(\n",
    "    molecule=molecule,\n",
    "    basis=\"sto3g\",\n",
    "    mapping=\"jordan_wigner\",  #'bravyi_kitaev'\n",
    "    z2_symmetries=True,\n",
    "    freeze_core=True,\n",
    ")\n",
    "\n",
    "operator = gs_problem.generate_hamiltonian()\n",
    "gs_problem = gs_problem.update_problem(operator.num_qubits)\n",
    "\n",
    "mol_hamiltonian = pauli_operator_to_hamiltonian(operator.pauli_list)\n",
    "problem_size = len(mol_hamiltonian[0].pauli)\n",
    "\n",
    "print(\n",
    "    f\"The Hamiltonian is defined on {problem_size} qubits, and contains {len(mol_hamiltonian)} Pauli strings\"\n",
    ")"
   ]
  },
  {
   "cell_type": "markdown",
   "id": "2ada6c5f",
   "metadata": {},
   "source": [
    "Finally, we calculate the ground state energy as a reference solution to our quantum solver (note that the Hamiltonian obtained from the Molecule object excludes the nuclear repulsion energy)."
   ]
  },
  {
   "cell_type": "code",
   "execution_count": 22,
   "id": "593014d1",
   "metadata": {},
   "outputs": [
    {
     "name": "stdout",
     "output_type": "stream",
     "text": [
      "Expected energy (without nuclear repulsion energy): -1.0789776863285285 Ha\n"
     ]
    }
   ],
   "source": [
    "mat = hamiltonian_to_matrix(mol_hamiltonian)\n",
    "w, v = np.linalg.eig(mat)\n",
    "classical_sol = np.real(min(w))\n",
    "print(f\"Expected energy (without nuclear repulsion energy): {classical_sol} Ha\")"
   ]
  },
  {
   "cell_type": "markdown",
   "id": "b1961af6",
   "metadata": {},
   "source": [
    "### Preparing the Molecule for QPE\n",
    "#### Trimming the Hamiltonian\n",
    "As we can see, the Hamiltonian may contain a large number of terms. In many cases we can compress the Hamiltonian by trimming small terms."
   ]
  },
  {
   "cell_type": "code",
   "execution_count": 23,
   "id": "5bd56aea",
   "metadata": {},
   "outputs": [
    {
     "data": {
      "image/png": "[encoded data removed]",
      "text/plain": [
       "<Figure size 640x480 with 1 Axes>"
      ]
     },
     "metadata": {},
     "output_type": "display_data"
    }
   ],
   "source": [
    "coeffs = [term.coefficient for term in mol_hamiltonian]\n",
    "plt.semilogy(np.sort(np.abs(coeffs))[::-1], \"o\")\n",
    "plt.ylabel(r\"$|\\alpha_i|$\", fontsize=16)\n",
    "plt.xlabel(r\"$i$\", fontsize=16)\n",
    "plt.tick_params(axis=\"both\", labelsize=16)\n",
    "plt.title(\n",
    "    r\"Sorted coefficients size for Hamiltonian $H = \\sum \\alpha_i P_i$   ($P_i$ Pauli string)\"\n",
    ");"
   ]
  },
  {
   "cell_type": "markdown",
   "id": "f3da1a3c",
   "metadata": {},
   "source": [
    "We define some threshold and trim the Hamiltonian accordingly:"
   ]
  },
  {
   "cell_type": "code",
   "execution_count": 24,
   "id": "0f2aee94",
   "metadata": {},
   "outputs": [],
   "source": [
    "def trim_hamiltonian(hamiltonian, threshold):\n",
    "    return [\n",
    "        PauliTerm(pauli=term.pauli, coefficient=term.coefficient)\n",
    "        for term in hamiltonian\n",
    "        if np.abs(term.coefficient) > threshold\n",
    "    ]"
   ]
  },
  {
   "cell_type": "code",
   "execution_count": 25,
   "id": "f2670cf1",
   "metadata": {},
   "outputs": [
    {
     "name": "stdout",
     "output_type": "stream",
     "text": [
      "Length of trimmed Hamiltonian: 49\n"
     ]
    }
   ],
   "source": [
    "THRESHOLD = 0.03\n",
    "\n",
    "trimmed_mol_hamiltonian = trim_hamiltonian(mol_hamiltonian, THRESHOLD)\n",
    "print(f\"Length of trimmed Hamiltonian: {len(trimmed_mol_hamiltonian)}\")"
   ]
  },
  {
   "cell_type": "markdown",
   "id": "2e5a7e93",
   "metadata": {},
   "source": [
    "### Normalizing the Hamiltonian for QPE\n",
    "\n",
    "Since we are working with QPE, the ground state energy is inferred as a phase, thus, we shall normalize the Hamiltonian such that its eigenvalues are in $\\left[-\\frac{1}{2},\\frac{1}{2}\\right)$. This is done by finding a bound on the maximal absolute value of eigenvalues $\\tilde{\\lambda}_{\\max}$, and normalizing the Hamiltonian by $2\\tilde{\\lambda}_{\\max}$. A simple bound is given by the sum of Pauli coefficients of the Hamiltonian."
   ]
  },
  {
   "cell_type": "code",
   "execution_count": 26,
   "id": "a7e65ac9",
   "metadata": {},
   "outputs": [
    {
     "name": "stdout",
     "output_type": "stream",
     "text": [
      "The normalization value of the Hamiltonian is 17.615462201544876\n"
     ]
    }
   ],
   "source": [
    "def normalize_hamiltonian(hamiltonian):\n",
    "    approx_lambda_max = sum(np.abs(term.coefficient) for term in hamiltonian)\n",
    "    normalization = 2 * approx_lambda_max\n",
    "    normalized_mol_hamiltonian = [\n",
    "        PauliTerm(pauli=term.pauli, coefficient=term.coefficient / (normalization))\n",
    "        for term in hamiltonian\n",
    "    ]\n",
    "\n",
    "    return normalization, normalized_mol_hamiltonian\n",
    "\n",
    "\n",
    "normalization, normalized_mol_hamiltonian = normalize_hamiltonian(\n",
    "    trimmed_mol_hamiltonian\n",
    ")\n",
    "print(f\"The normalization value of the Hamiltonian is {normalization}\")"
   ]
  },
  {
   "cell_type": "markdown",
   "id": "e3530661",
   "metadata": {},
   "source": [
    "### Designing the Quantum Qodel\n",
    "We need to approximate the Hamiltonian simulation $e^{2\\pi i H}$, for this we will use Classiq built-in implementation for [Suzuki Trotter formulas](https://github.com/Classiq/classiq-library/blob/main/functions/qmod_library_reference/qmod_core_library/hamiltonian_evolution/suzuki_trotter/suzuki_trotter.ipynb). For a given Suzuki Trotter order $o$, we can specify a repetitions parameter $r$, which controls the level of approximation. The literature provides some lower bounds for $r$ as a function of the operator error $\\epsilon$ (defined by the dimond norm [[3](#Dimond)]). For example, Eq. (14) in Ref. [[2](#Bounds)]  states that Suzuki Trotter formula of order 2 approximates $e^{i \\sum \\alpha_m P_m t}$ up to an error $\\epsilon$, given $r$ repetitions that satisfies:\n",
    "$$\n",
    "r \\leq \\left(\\frac{2^5\\gamma_2}{3\\epsilon}\\right)^{1/2}  t^{3/2} ,\n",
    "\\tag{1}\n",
    "$$\n",
    "where $\\gamma_2 \\equiv \\sum_{l,m,n} |\\alpha_m\\alpha_n\\alpha_l| \\left |\\left[P_l,\\left[P_m, P_n\\right]\\right]\\right|_\\infty$. **In particular, we can see that the number of repetitions grows as $t^{3/2}$**.\n",
    "\n",
    "\n",
    "In QPE, we apply powered Hamiltonian simulation:\n",
    "$$\n",
    "\\left(e^{2\\pi i H}\\right)^ p = e^{2p \\pi i H},\n",
    "\\tag{2}\n",
    "$$\n",
    "and each power should be approximated with Suzuki Trotter with an appropriate order and repetitions parameters, keeping the same error per QPE iteration. We can thus use the bound above to define a powered Suzuki Trotter `qfunc` for our specific molecule.\n",
    "\n",
    "First, we first define some classical auxiliary functions that helps us to evaluate the right-hand-side in Eq. (1):"
   ]
  },
  {
   "cell_type": "code",
   "execution_count": 27,
   "id": "64550141",
   "metadata": {},
   "outputs": [],
   "source": [
    "import itertools\n",
    "\n",
    "\n",
    "def multiply_single_qubit(pa, pb):\n",
    "    \"\"\"\n",
    "    Multiply two single-qubit Pauli operators pa*pb.\n",
    "    Returns (phase, pc) where:\n",
    "       - phase in {1, -1, 1j, -1j}\n",
    "       - pc is the resulting single-qubit Pauli.\n",
    "    \"\"\"\n",
    "    table = {\n",
    "        (Pauli.I, Pauli.I): (1, Pauli.I),\n",
    "        (Pauli.I, Pauli.X): (1, Pauli.X),\n",
    "        (Pauli.I, Pauli.Y): (1, Pauli.Y),\n",
    "        (Pauli.I, Pauli.Z): (1, Pauli.Z),\n",
    "        (Pauli.X, Pauli.I): (1, Pauli.X),\n",
    "        (Pauli.X, Pauli.X): (1, Pauli.I),\n",
    "        (Pauli.X, Pauli.Y): (1j, Pauli.Z),  # X*Y = iZ\n",
    "        (Pauli.X, Pauli.Z): (-1j, Pauli.Y),  # X*Z = -iY\n",
    "        (Pauli.Y, Pauli.I): (1, Pauli.Y),\n",
    "        (Pauli.Y, Pauli.X): (-1j, Pauli.Z),  # Y*X = -iZ\n",
    "        (Pauli.Y, Pauli.Y): (1, Pauli.I),\n",
    "        (Pauli.Y, Pauli.Z): (1j, Pauli.X),  # Y*Z = iX\n",
    "        (Pauli.Z, Pauli.I): (1, Pauli.Z),\n",
    "        (Pauli.Z, Pauli.X): (1j, Pauli.Y),  # Z*X = iY\n",
    "        (Pauli.Z, Pauli.Y): (-1j, Pauli.X),  # Z*Y = -iX\n",
    "        (Pauli.Z, Pauli.Z): (1, Pauli.I),\n",
    "    }\n",
    "\n",
    "    return table[(pa, pb)]\n",
    "\n",
    "\n",
    "def multiply_pauli_lists(pA_list, pB_list):\n",
    "    \"\"\"\n",
    "    Multiply two multi-qubit Pauli lists A and B.\n",
    "    Returns PauliTerm(pauli, coefficient), where:\n",
    "       - coefficient in {1, -1, 1j, -1j}\n",
    "       - pauli is a Pauli list representing AB.\n",
    "    \"\"\"\n",
    "    if len(pA_list) != len(pB_list):\n",
    "        raise ValueError(\"Pauli lists must have the same length.\")\n",
    "\n",
    "    phase_total = 1 + 0j  # start with complex 1\n",
    "    product = []\n",
    "\n",
    "    for pA, pB in zip(pA_list, pB_list):\n",
    "        phase_local, pC = multiply_single_qubit(pA, pB)\n",
    "        phase_total *= phase_local\n",
    "        product.append(pC)\n",
    "\n",
    "    return PauliTerm(pauli=product, coefficient=phase_total)\n",
    "\n",
    "\n",
    "def commutator_infinity_norm(pA_list, pB_list):\n",
    "    \"\"\"\n",
    "    Compute the 'infinity-norm of [A,B]' . The commutation relation between two Pauli lists\n",
    "    can be inferred by counting the number of qubit positions i where A[i] != B[i],\n",
    "    ignoring position with  A[i] or B[i] equal to Pauli.I.\n",
    "    Then:\n",
    "      - If the count is even, A and B commute => norm = 0\n",
    "      - If the count is odd, A and B anticommute => norm = 2\n",
    "\n",
    "    \"\"\"\n",
    "    if len(pA_list) != len(pB_list):\n",
    "        raise ValueError(\"Pauli strings must have the same length.\")\n",
    "\n",
    "    # Count positions where A and B are both in {X,Y,Z}, differ, and none is I\n",
    "    difference_count = 0\n",
    "    for pA, pB in zip(pA_list, pB_list):\n",
    "        if pA != Pauli.I and pB != Pauli.I and pA != pB:\n",
    "            difference_count += 1\n",
    "\n",
    "    return 2 * (difference_count % 2)\n",
    "\n",
    "\n",
    "def calculate_gamma_2(hamiltonian):\n",
    "    \"\"\"\n",
    "    Compute the $\\gamma_2$ value appearing in the bound for Suzuki Trotter of order 2\n",
    "    \"\"\"\n",
    "    gamma_2 = 0\n",
    "    for triplet in itertools.combinations(range(len(hamiltonian)), 3):\n",
    "        terms = [hamiltonian[index] for index in triplet]\n",
    "        factor = np.abs(\n",
    "            (terms[0].coefficient) * (terms[1].coefficient) * (terms[2].coefficient)\n",
    "        )\n",
    "        inner_commutator = commutator_infinity_norm(terms[1].pauli, terms[0].pauli)\n",
    "        if inner_commutator != 0:\n",
    "            outer_commutator = 2 * commutator_infinity_norm(\n",
    "                terms[2].pauli,\n",
    "                multiply_pauli_lists(terms[0].pauli, terms[1].pauli).pauli,\n",
    "            )\n",
    "            gamma_2 += factor * outer_commutator\n",
    "\n",
    "    return gamma_2"
   ]
  },
  {
   "cell_type": "markdown",
   "id": "ea2fc231",
   "metadata": {},
   "source": [
    "In QPE, the powers of the Hamiltonian simulation grows exponentially with the phase variable size. Let us examine the number of repetitions needed per QPE iteration, according to the bound above for QPE of size 7."
   ]
  },
  {
   "cell_type": "code",
   "execution_count": 28,
   "id": "c4823023",
   "metadata": {},
   "outputs": [
    {
     "name": "stdout",
     "output_type": "stream",
     "text": [
      "The powers of the Hamiltonian simulation along a QPE routine of size 7: \n",
      "[ 1  2  4  8 16 32 64]\n"
     ]
    }
   ],
   "source": [
    "QPE_SIZE = 7\n",
    "qpe_powers = 2 ** np.arange(QPE_SIZE)\n",
    "print(\n",
    "    f\"\"\"The powers of the Hamiltonian simulation along a QPE routine of size {QPE_SIZE}: \n",
    "{qpe_powers}\"\"\"\n",
    ")"
   ]
  },
  {
   "cell_type": "markdown",
   "id": "4b291fa4",
   "metadata": {},
   "source": [
    "These powers enter as an evolution coefficient for the Hamiltonian simulation (see Eq. (2) above). Using the theoretical bound we find"
   ]
  },
  {
   "cell_type": "code",
   "execution_count": 29,
   "id": "fcf67999",
   "metadata": {},
   "outputs": [
    {
     "name": "stdout",
     "output_type": "stream",
     "text": [
      "The theoretical bounds for the repetitions for QPE size 7, keeping an error 0.1 per QPE iteration are:\n",
      "[   4.   11.   30.   84.  237.  670. 1895.]\n"
     ]
    }
   ],
   "source": [
    "EPS = 0.1\n",
    "gamma_2_LiH = calculate_gamma_2(normalized_mol_hamiltonian)\n",
    "theoretical_r0 = np.sqrt(2**5 * gamma_2_LiH / (3 * EPS)) * (2 * np.pi) ** (3 / 2)\n",
    "\n",
    "print(\n",
    "    f\"\"\"The theoretical bounds for the repetitions for QPE size {QPE_SIZE}, keeping an error {EPS} per QPE iteration are:\n",
    "{np.ceil(theoretical_r0*qpe_powers**(3/2))}\"\"\"\n",
    ")"
   ]
  },
  {
   "cell_type": "markdown",
   "id": "9b4a6d6f",
   "metadata": {},
   "source": [
    "We note that applying a naive QPE, i.e., assuming a single unitary approximated with Suzuki Trotter, $e^{iHt} \\approx {\\rm ST}(H, o, r ,t)$, and simply taking its powers, gives $\\left(e^{iHt}\\right)^p \\approx \\left({\\rm ST}(H, o, r ,t)\\right)^{p} = {\\rm ST}(H, o, pr ,pt)$."
   ]
  },
  {
   "cell_type": "code",
   "execution_count": 30,
   "id": "5bce7ef0",
   "metadata": {},
   "outputs": [
    {
     "name": "stdout",
     "output_type": "stream",
     "text": [
      "The repetitions for QPE size 7, taking a naive QPE, per QPE iteration:\n",
      "[  4.   8.  15.  30.  60. 119. 237.]\n"
     ]
    }
   ],
   "source": [
    "print(\n",
    "    f\"\"\"The repetitions for QPE size {QPE_SIZE}, taking a naive QPE, per QPE iteration:\n",
    "{np.ceil(theoretical_r0*qpe_powers)}\"\"\"\n",
    ")"
   ]
  },
  {
   "cell_type": "markdown",
   "id": "deb6f7ee",
   "metadata": {},
   "source": [
    "While this naive QPE results in a shallower circuit, compared to taking repetitions according to the theoretical bounds (due to smaller values of repetitions), it is unclear whether it keeps the same operator error per phase bit.\n",
    "\n",
    "In practice, the bounds given in the literature are quite loose. In this tutorial we thus take a more experimental approach. We assume that the scaling of the bound with the evolution time $t$ is similar to Eq. (1), but take a smaller prefactor. "
   ]
  },
  {
   "cell_type": "code",
   "execution_count": 31,
   "id": "d09e8e02",
   "metadata": {},
   "outputs": [
    {
     "name": "stdout",
     "output_type": "stream",
     "text": [
      "The experimental repetitions for QPE size 7, per QPE iteration are:\n",
      "[ 1.  1.  1.  2.  4. 10. 26.]\n"
     ]
    }
   ],
   "source": [
    "experimental_r0 = 0.05\n",
    "print(\n",
    "    f\"\"\"The experimental repetitions for QPE size {QPE_SIZE}, per QPE iteration are:\n",
    "{np.ceil(experimental_r0*qpe_powers**(3/2))}\"\"\"\n",
    ")"
   ]
  },
  {
   "cell_type": "markdown",
   "id": "2f3ff1cf",
   "metadata": {},
   "source": [
    "Now, we use this approach to define our powered Suzuki Trotter function, for the specific Hamiltonian at hand."
   ]
  },
  {
   "cell_type": "code",
   "execution_count": 32,
   "id": "48f221ff",
   "metadata": {},
   "outputs": [],
   "source": [
    "from classiq.qmod.symbolic import ceiling as ceiling_qmod, pi\n",
    "\n",
    "\n",
    "@qfunc\n",
    "def powered_st2_for_LiH(p: CInt, state: QArray[QBit]):\n",
    "    suzuki_trotter(\n",
    "        pauli_operator=normalized_mol_hamiltonian,\n",
    "        evolution_coefficient=-2 * pi * p,\n",
    "        order=2,\n",
    "        repetitions=ceiling_qmod(experimental_r0 * p ** (3 / 2)),\n",
    "        qbv=state,\n",
    "    )"
   ]
  },
  {
   "cell_type": "markdown",
   "id": "4b1f65b9",
   "metadata": {},
   "source": [
    "### Defining and synthesizing the FLEXIBLE phase estimation model"
   ]
  },
  {
   "cell_type": "code",
   "execution_count": null,
   "id": "94e49e8b",
   "metadata": {},
   "outputs": [],
   "source": [
    "QPE_SIZE = 5\n",
    "p_0 = 2 ** (QPE_SIZE - 3)\n",
    "R0 = 4  # according to the naive bound this should be O(150)\n",
    "GAMMA = 1.5  # according to the naive bound this should be 4\n",
    "\n",
    "\n",
    "@qfunc\n",
    "def main(\n",
    "    state: Output[QArray[QBit]], phase: Output[QNum[QPE_SIZE, SIGNED, QPE_SIZE]]\n",
    ") -> None:\n",
    "\n",
    "    allocate(problem_size, state)\n",
    "    molecule_hartree_fock(molecule_problem_to_qmod(gs_problem), state)\n",
    "    allocate(QPE_SIZE, phase)\n",
    "    qpe_flexible(lambda p: powered_st2_for_LiH(p, state), phase)\n",
    "\"\"\"\"\"\"\"\"\"\n",
    "    my_qpe_flexible(\n",
    "        unitary=lambda pw, target: suzuki_trotter_with_power_logic(\n",
    "            hamiltonian=pauli_operator_to_hamiltonian(po),\n",
    "            pw=pw,\n",
    "            evolution_coefficient=-2 * np.pi,\n",
    "            order=1,\n",
    "            r0=R0,\n",
    "            p_0=p_0,\n",
    "            gamma=GAMMA,\n",
    "            target=target,\n",
    "        ),\n",
    "        state=state,\n",
    "        phase=phase,\n",
    "    )\n",
    "\"\"\"\"\"\"\"\"\"\n",
    "\n",
    "qmod = create_model(\n",
    "    main,\n",
    "    preferences=Preferences(timeout_seconds=600),\n",
    "    out_file=\"qpe_for_molecules\", # Make a file in qmod\n",
    ")\n",
    "qprog = synthesize(qmod)\n"
   ]
  },
  {
   "cell_type": "markdown",
   "id": "581875a3",
   "metadata": {},
   "source": [
    "### Main Idea\n",
    "The main idea is to use the __qpe_for_molecules.ipynb__ notebook, but replace __qpe_flexible__ with __my_qpe_flexible__. Then, create an iterator function that uses this approach to find eigenvalues as part of an adapt-VQE implementation."
   ]
  }
 ],
 "metadata": {
  "kernelspec": {
   "display_name": "Python 3",
   "language": "python",
   "name": "python3"
  },
  "language_info": {
   "codemirror_mode": {
    "name": "ipython",
    "version": 3
   },
   "file_extension": ".py",
   "mimetype": "text/x-python",
   "name": "python",
   "nbconvert_exporter": "python",
   "pygments_lexer": "ipython3",
   "version": "3.11.2"
  }
 },
 "nbformat": 4,
 "nbformat_minor": 5
}
