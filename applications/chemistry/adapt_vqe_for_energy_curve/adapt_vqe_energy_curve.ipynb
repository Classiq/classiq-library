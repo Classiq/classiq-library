{
 "cells": [
  {
   "cell_type": "markdown",
   "id": "c63de343-cabb-4198-ae97-b23cdf2ae9e7",
   "metadata": {
    "pycharm": {
     "name": "#%% md\n"
    }
   },
   "source": [
    "# Creating an optimal Molecule's Potential Energy Curve using Adapt-VQE\n",
    "\n",
    "A potential energy curve gives the ground energy of an assemble of atoms as function of the distances between them. The global minima of the curve indicates the binding energy and internuclear distance for the stable molecule. Therefor, such curve can be powerful tool in computational chemistry, for predicting molecular structure and spectrum.\n",
    "\n",
    "In this tutorial, we will demonstrate how, using Classiq's VQE package, the user can create a Molecule's potential energy curve, and compare the result those of the Hartree-Fock approximative method and to the exact results. The exact solution is a result of diagonalizing the Hamiltonian.\n",
    "\n",
    "## Main Idea\n",
    "The main idea is to use the __qpe_for_molecules.ipynb__ notebook, but replace __qpe_flexible__ with __my_qpe_flexible__. Then, create an iterator function that uses this approach to find eigenvalues as part of an adapt-VQE implementation."
   ]
  },
  {
   "cell_type": "code",
   "execution_count": 1,
   "id": "001a2340",
   "metadata": {},
   "outputs": [],
   "source": [
    "#import time\n",
    "import matplotlib.pyplot as plt\n",
    "import numpy as np\n",
    "import itertools, warnings\n",
    "from tqdm import tqdm\n",
    "from datetime import datetime\n",
    "from classiq import *\n",
    "from classiq.applications.chemistry import (\n",
    "    ChemistryExecutionParameters,\n",
    "    FermionicOperator,\n",
    "    HamiltonianProblem,\n",
    "    HEAParameters,\n",
    "    Molecule,\n",
    "    MoleculeProblem,\n",
    "    UCCParameters,\n",
    "    SummedFermionicOperator,\n",
    ")\n",
    "from classiq.execution import OptimizerType\n",
    "from classiq.applications.combinatorial_helpers.pauli_helpers.pauli_utils import pauli_operator_to_hamiltonian\n",
    "from classiq.qmod.symbolic import ceiling as ceiling_qmod, pi\n",
    "import numpy as np\n",
    "import math,cmath\n",
    "from scipy.constants import h, e\n",
    "from scipy.optimize import minimize\n",
    "import itertools\n",
    "\n",
    "#from classiq import construct_chemistry_model, execute, synthesize"
   ]
  },
  {
   "cell_type": "markdown",
   "id": "ce5b7367",
   "metadata": {},
   "source": [
    "\n",
    "## 0. Definitions\n",
    "### Molecules\n",
    "We start this defining some examples of molecular pairs and triplets."
   ]
  },
  {
   "cell_type": "code",
   "execution_count": null,
   "id": "3d00a81f",
   "metadata": {},
   "outputs": [],
   "source": [
    "num1, start1, stop1 = 3, 0.20, 1   #First Linear Space \n",
    "num2, start2, stop2 = 3, 1.4, 3.5  #Second Linear Space\n",
    "distance = np.append(np.linspace(start1, stop1, num1), np.linspace(start2, stop2, num2)) # prepare x,y vectors\n",
    "molecules_LiH = [Molecule(atoms=[(\"H\", (0.0, 0.0, 0.0)), (\"Li\", (0.0, 0.0, x))]) for x in distance]\n",
    "molecules_FH = [Molecule(atoms=[(\"H\", (0.0, 0.0, 0.0)), (\"F\", (0.0, 0.0, x))]) for x in distance]\n",
    "molecules_H2 = [Molecule(atoms=[(\"H\", (0.0, 0.0, 0)), (\"H\", (0.0, 0.0, x))]) for x in distance]\n",
    "molecules_O2 = [Molecule(atoms=[(\"O\", (0.0, 0.0, 0)), (\"O\", (0.0, 0.0, x))]) for x in distance]\n",
    "molecules_H2O = [Molecule(atoms=[(\"O\", (0.0, 0.0, 0.0)), (\"H\", (0, x, y)), (\"H\", (0, x, -y))]) for (x,y) in itertools.product(distance,distance)]\n",
    "molecules_H3 = [Molecule(atoms=[(\"H\", (0.0, 0.0, 0.0)), (\"H\", (0, x, y)), (\"H\", (0, x, -y))]) for (x,y)  in itertools.product(distance,distance)]\n",
    "molecules_O3 = [Molecule(atoms=[(\"O\", (0.0, 0.0, 0.0)), (\"O\", (0, x, y)), (\"O\", (0, x, -y))]) for (x,y)  in itertools.product(distance,distance)]\n",
    "molecules_BeH2 = [Molecule(atoms=[(\"Be\", (0.0, 0.0, 0.0)), (\"H\", (0, 0, x)), (\"H\", (0, 0, -x))]) for x in distance]"
   ]
  },
  {
   "cell_type": "markdown",
   "id": "fbdcf002",
   "metadata": {},
   "source": [
    "### Fermionic operators\n",
    "\n",
    "Generate simple and double excitations from a reference state of Hartree-Fock.\n",
    "\n",
    "The excitations are defined as:\n",
    "\n",
    "\\begin{equation}\n",
    "\\hat{T}_1 = \\sum_{\\substack{r \\in \\mathrm{occ} \\\\ p \\in \\mathrm{unocc}}} \\hat{c}_p^\\dagger \\hat{c}_r\n",
    "\\end{equation}\n",
    "\n",
    "where $\\hat{c}_p^\\dagger$ is the creation operator for an electron in orbital $p$ (unoccupied) and $\\hat{c}_r$ is the annihilation operator for an electron in orbital $r$ (occupied).\n",
    "\n",
    "\\begin{equation}\n",
    "\\hat{T}_2 = \\sum_{\\substack{r,s \\in \\mathrm{occ} \\\\ r > s}} \\sum_{\\substack{p,q \\in \\mathrm{unocc} \\\\ p > q}} \\hat{c}_p^\\dagger \\hat{c}_q^\\dagger \\hat{c}_r \\hat{c}_s\n",
    "\\end{equation}\n",
    "\n",
    "In this expression, the double summation runs over pairs of occupied orbitals $(r, s)$ and unoccupied ones $(p, q)$ with the ordering conditions $r > s$ and $p > q$ to avoid counting redundancies.\n",
    "\n",
    "These expressions form the basis for constructing the excitation operator in methods such as the Unitary Coupled Cluster (UCC) to approximate the electronic wavefunction."
   ]
  },
  {
   "cell_type": "code",
   "execution_count": 3,
   "id": "60bc02ba",
   "metadata": {},
   "outputs": [],
   "source": [
    "def excitations(electrons, orbitals, delta_sz=0, fermionic=False):\n",
    "    r\"\"\"\n",
    "    Args:\n",
    "        electrons (int): Number of electrons (occupied orbitals).\n",
    "        orbitals (int): Total number of spin‑orbitals (active space).\n",
    "        delta_sz (int): Rule for the difference in spin projection (allowed: 0, ±1, ±2).\n",
    "        fermionic (bool): If True, returns a fermionic representation (dictionaries) of each excitation; otherwise returns lists of indices.\n",
    "    Returns:\n",
    "        tuple(list, list): (singles, doubles) excitations.    \n",
    "    Example:    \n",
    "        >>> singles, doubles = excitations(2, 4)\n",
    "        >>> print(singles)\n",
    "        [[0, 2], [1, 3]]\n",
    "        >>> print(doubles)\n",
    "        [[0, 1, 2, 3]]\n",
    "    \"\"\"\n",
    "    if electrons <= 0:raise ValueError(f\"Number of electrons must be greater than 0, but got: {electrons}\")\n",
    "    if orbitals <= electrons: raise ValueError(f\"Number of active spin-orbitals ({orbitals}) must be greater than the number of electrons ({electrons}).\")\n",
    "    if delta_sz not in (0, 1, -1, 2, -2): raise ValueError(f\"Expected delta_sz values 0, ±1, or ±2 but got: {delta_sz}\")\n",
    "    sz = np.array([0.5 if (i % 2 == 0) else -0.5 for i in range(orbitals)])\n",
    "    singles = [[r, p]\n",
    "               for r in range(electrons)\n",
    "               for p in range(electrons, orbitals)\n",
    "               if np.isclose(sz[p] - sz[r], delta_sz)]\n",
    "    doubles = [[s, r, q, p]\n",
    "               for s in range(electrons - 1)\n",
    "               for r in range(s+1, electrons)\n",
    "               for q in range(electrons, orbitals - 1)\n",
    "               for p in range(q+1, orbitals)\n",
    "               if np.isclose(sz[p] + sz[q] - sz[r] - sz[s], delta_sz)]    \n",
    "    if fermionic:\n",
    "        fermionic_singles = [{\"occupied\": x[0], \"unoccupied\": x[1]} for x in singles]\n",
    "        fermionic_doubles = [{\"occupied\": [x[0], x[1]], \"unoccupied\": [x[2], x[3]]} for x in doubles]\n",
    "        return fermionic_singles, fermionic_doubles\n",
    "    else:\n",
    "        return singles, doubles\n",
    "    "
   ]
  },
  {
   "cell_type": "markdown",
   "id": "e56d95cf-4051-4a8d-811c-082403e8a599",
   "metadata": {},
   "source": [
    "## 1. Auxiliary Operators"
   ]
  },
  {
   "cell_type": "code",
   "execution_count": 4,
   "id": "539cd6ac-5246-4af8-8d14-34c5c2a185fd",
   "metadata": {},
   "outputs": [],
   "source": [
    "def create_problem(molecule, mapping=\"jordan_wigner\", basis=None):\n",
    "    def validate_molecule(mol):\n",
    "        if not isinstance(mol, Molecule):\n",
    "            raise TypeError(\"The object 'mol' must be of type Molecule\")\n",
    "        if not mol.atoms or len(mol.atoms) < 2:\n",
    "            raise ValueError(\"The molecule must have at least 2 atoms.\")\n",
    "    try:\n",
    "        validate_molecule(molecule)\n",
    "        if basis is None:\n",
    "            return MoleculeProblem(molecule=molecule, mapping=mapping, z2_symmetries=True, freeze_core=True)\n",
    "        else:\n",
    "            return MoleculeProblem(molecule=molecule, basis=basis, mapping=mapping, z2_symmetries=True, freeze_core=True)\n",
    "    except Exception as e:\n",
    "        raise RuntimeError(\"Error in create_problem: \" + str(e))\n",
    "\n",
    "def molecule_to_problem(molecule, mapp):\n",
    "    problem = MoleculeProblem(molecule=molecule,mapping=mapp)\n",
    "    operator= problem.generate_hamiltonian()\n",
    "    return problem, operator.to_matrix(), int(np.log2(operator.to_matrix().shape[0]))"
   ]
  },
  {
   "cell_type": "markdown",
   "id": "099a3eaa-aec8-4088-89cc-b7fb9fcf161c",
   "metadata": {
    "pycharm": {
     "name": "#%% md\n"
    }
   },
   "source": [
    "## 2. Vanilla VQE\n",
    "This part would imitate the model of VQE already implemented on Classiq"
   ]
  },
  {
   "cell_type": "code",
   "execution_count": 5,
   "id": "238c6d3c-2ab7-4033-94c3-917debd90b17",
   "metadata": {
    "pycharm": {
     "name": "#%%\n"
    }
   },
   "outputs": [],
   "source": [
    "def VanillaVQE(molecule,max_iter):\n",
    "    chem_problem, mat, N = molecule_to_problem(molecule,'bravyi_kitaev')\n",
    "    qmod = construct_chemistry_model(\n",
    "        chemistry_problem=chem_problem,use_hartree_fock=True,ansatz_parameters=UCCParameters(excitations=[1, 2]),\n",
    "        execution_parameters=ChemistryExecutionParameters(optimizer=OptimizerType.COBYLA,max_iteration=max_iter,initial_point=None))\n",
    "    qprog = synthesize(qmod)\n",
    "    result = execute(qprog).result()\n",
    "    chemistry_result_dict = result[1].value\n",
    "    w, v = np.linalg.eig(mat)\n",
    "    result_exact = np.real(min(w)) + chemistry_result_dict[\"nuclear_repulsion_energy\"]\n",
    "    return chemistry_result_dict[\"total_energy\"], chemistry_result_dict[\"hartree_fock_energy\"], result_exact  "
   ]
  },
  {
   "cell_type": "code",
   "execution_count": 6,
   "id": "ff49b29c-d7d4-4c3f-b519-c901f82de6da",
   "metadata": {},
   "outputs": [],
   "source": [
    "energies_results=np.array([VanillaVQE(molecules_H2[k],10) for k in range(len(distance))])\n",
    "VQE_energy=energies_results[:,0]\n",
    "HF_energy=energies_results[:,1]\n",
    "exact_energy=energies_results[:,2]    "
   ]
  },
  {
   "cell_type": "markdown",
   "id": "6886a471",
   "metadata": {
    "pycharm": {
     "name": "#%% md\n"
    }
   },
   "source": [
    "This graph presents the ground state for $H_{2}$ molecule as a function of the distance between the two hydrogen atoms. One can see that both the HF solution and Classiq VQE present decent results around the global minima. For further distances, Classiq VQE stays close to the exact solution while the HF solution gradually deviates. The source of this lack of correspondence is with the lack of flexible correlations within the HF model, which is enabled within VQE scope.\n",
    "One can similarly create graphs for different molecules (even n- dimensional or larger atom assemblies), to explore more curves.\n",
    "## 3. Define Adapt_VQE using Flexible QPE"
   ]
  },
  {
   "cell_type": "code",
   "execution_count": 7,
   "id": "4e2a590b",
   "metadata": {},
   "outputs": [],
   "source": [
    "def fl_VQE(molecule,max_iter):\n",
    "    chem_problem, mat, N = molecule_to_problem(molecule,'bravyi_kitaev')\n",
    "    qmod = construct_chemistry_model(\n",
    "        chemistry_problem=chem_problem,use_hartree_fock=True,ansatz_parameters=UCCParameters(excitations=[1, 2]),\n",
    "        execution_parameters=ChemistryExecutionParameters(optimizer=OptimizerType.COBYLA,max_iteration=max_iter,initial_point=None))\n",
    "    preferences = Preferences(optimization_level=3)\n",
    "    qprog = synthesize(qmod, preferences=preferences)\n",
    "    result = execute(qprog).result()\n",
    "    chemistry_result_dict = result[1].value\n",
    "    w, v = np.linalg.eig(mat)\n",
    "    result_exact = np.real(min(w)) + chemistry_result_dict[\"nuclear_repulsion_energy\"]\n",
    "    return chemistry_result_dict[\"total_energy\"]\n",
    "\n",
    "fVQE_energy=np.array([fl_VQE(molecules_H2[k],40) for k in range(len(distance))])\n"
   ]
  },
  {
   "cell_type": "markdown",
   "id": "427c78da",
   "metadata": {},
   "source": [
    "## 4. Implementation of Adapt VQE"
   ]
  },
  {
   "cell_type": "code",
   "execution_count": 8,
   "id": "f15b658e-1b6e-4f81-b809-d35a0de4d01f",
   "metadata": {},
   "outputs": [],
   "source": [
    "pool1q=[]\n",
    "ops1q= [\"rx\", \"ry\", \"rz\"]\n",
    "pool2q=[]\n",
    "ops2q= [\"rxx\", \"ryy\", \"rzz\"]\n",
    "\n",
    "epsilon = 0.1"
   ]
  },
  {
   "cell_type": "code",
   "execution_count": 9,
   "id": "36ec1741-03db-42fa-babd-7c411eaebeb5",
   "metadata": {},
   "outputs": [],
   "source": [
    "def ad_VQE(molecule,max_iter=10):\n",
    "    qmods=[]\n",
    "    chem_problem, mat, N = molecule_to_problem(molecule,'bravyi_kitaev')\n",
    "    chem_ham= chem_problem.generate_hamiltonian()\n",
    "    t2_list = [x for x in  itertools.combinations([x-1 for x in range(1,N+1)],2)]\n",
    "    ansatz_ops = []\n",
    "    params = []\n",
    "    energy_trace = []\n",
    "    grad_trace = []\n",
    "    ansatz_1q_labels, ansatz_2q_labels = [],[]\n",
    "    constraints = []\n",
    "    a=True \n",
    "    for k in range(3):\n",
    "    #while==True:                                                                 #Repite siempre, hasta que se diga lo contrario   \n",
    "        gradients = []                                                           #Inicialización de arreglo de cálculo de gradientes\n",
    "        for A in ['rx']:                                                           #Para cada operador en el pool\n",
    "            ansatz_1q_labels.append(A)                          #Guardar la etiqueta del operador que produce el máximo\n",
    "            ansatz_parameters = HEAParameters(reps=4,num_qubits=N,connectivity_map=t2_list,\n",
    "            one_qubit_gates=ansatz_1q_labels, two_qubit_gates=ansatz_2q_labels,)\n",
    "            execution_params = ChemistryExecutionParameters(optimizer=OptimizerType.COBYLA,max_iteration=max_iter,)\n",
    "            model = construct_chemistry_model(chemistry_problem=chem_problem,use_hartree_fock=True,\n",
    "            ansatz_parameters=ansatz_parameters,execution_parameters=execution_params,)\n",
    "            qprog = synthesize(model)\n",
    "        gradients=[]\n",
    "        for A in ['crx']:                                                        #Para cada operador en el pool\n",
    "            ansatz_2q_labels.append(A)                          #Guardar la etiqueta del operador que produce el máximo\n",
    "            ansatz_parameters = HEAParameters(reps=4,num_qubits=N,connectivity_map=t2_list,\n",
    "            one_qubit_gates=ansatz_1q_labels, two_qubit_gates=ansatz_2q_labels,)\n",
    "            execution_params = ChemistryExecutionParameters(optimizer=OptimizerType.COBYLA,max_iteration=max_iter,)\n",
    "            model = construct_chemistry_model(chemistry_problem=chem_problem,use_hartree_fock=False,\n",
    "            ansatz_parameters=ansatz_parameters,execution_parameters=execution_params,)\n",
    "            qprog = synthesize(model)\n",
    "    ansatz_parameters = HEAParameters(reps=1,num_qubits=N,connectivity_map=t2_list,\n",
    "                        one_qubit_gates=ansatz_1q_labels, two_qubit_gates=ansatz_2q_labels,)\n",
    "    execution_params = ChemistryExecutionParameters(optimizer=OptimizerType.COBYLA,max_iteration=max_iter,)\n",
    "    model = construct_chemistry_model(chemistry_problem=chem_problem,use_hartree_fock=True,\n",
    "            ansatz_parameters=ansatz_parameters,execution_parameters=execution_params,)\n",
    "    qprog = synthesize(model)\n",
    "    write_qmod(model, \"adapt_vqe_energy_curve\") # save the last model to a qmod file\n",
    "    result = execute(qprog).result()\n",
    "    chemistry_result_dict = result[1].value\n",
    "    w, v = np.linalg.eig(mat)\n",
    "    result_exact = np.real(min(w)) + chemistry_result_dict[\"nuclear_repulsion_energy\"]\n",
    "    current_energy=chemistry_result_dict[\"total_energy\"]\n",
    "    return current_energy\n",
    "\n",
    "aVQE_energy=np.array([ad_VQE(molecules_H2[k],10) for k in range(len(distance))])"
   ]
  },
  {
   "cell_type": "markdown",
   "id": "442502d5",
   "metadata": {},
   "source": [
    "## 5 Plot and comparing result"
   ]
  },
  {
   "cell_type": "code",
   "execution_count": 10,
   "id": "cb6f39de",
   "metadata": {},
   "outputs": [
    {
     "data": {
      "image/png": "[encoded data removed]",
      "text/plain": [
       "<Figure size 640x480 with 1 Axes>"
      ]
     },
     "metadata": {},
     "output_type": "display_data"
    }
   ],
   "source": [
    "plt.plot(distance, VQE_energy, \"r-s\")\n",
    "plt.plot(distance, fVQE_energy, \"k-o\")\n",
    "plt.plot(distance, aVQE_energy, \"g-o\")\n",
    "plt.plot(distance, HF_energy, \"bx\")\n",
    "plt.plot(distance, exact_energy, \"m+\")\n",
    "plt.xlabel(r\"distance [Å]\")\n",
    "plt.ylabel(\"energy [Ha]\")\n",
    "plt.legend([\"Classiq VQE\", \"Optimized VQE\", \"Adapt VQE\", \"Hartree-Fock\", \"Exact solution\"])\n",
    "plt.title(r\"Binding Curve $H_{2}$\")\n",
    "plt.show()"
   ]
  },
  {
   "cell_type": "markdown",
   "id": "d371480a-16b3-4f36-b489-3a776c43cda9",
   "metadata": {},
   "source": [
    "## "
   ]
  }
 ],
 "metadata": {
  "kernelspec": {
   "display_name": "base",
   "language": "python",
   "name": "python3"
  },
  "language_info": {
   "codemirror_mode": {
    "name": "ipython",
    "version": 3
   },
   "file_extension": ".py",
   "mimetype": "text/x-python",
   "name": "python",
   "nbconvert_exporter": "python",
   "pygments_lexer": "ipython3",
   "version": "3.12.9"
  }
 },
 "nbformat": 4,
 "nbformat_minor": 5
}
