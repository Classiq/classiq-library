{
 "cells": [
  {
   "cell_type": "markdown",
   "id": "c63de343-cabb-4198-ae97-b23cdf2ae9e7",
   "metadata": {
    "pycharm": {
     "name": "#%% md\n"
    }
   },
   "source": [
    "# Creating an optimal Molecule's Potential Energy Curve using Adapt-VQE\n",
    "\n",
    "A potential energy curve gives the ground energy of an assemble of atoms as function of the distances between them. The global minima of the curve indicates the binding energy and internuclear distance for the stable molecule. Therefor, such curve can be powerful tool in computational chemistry, for predicting molecular structure and spectrum.\n",
    "\n",
    "In this tutorial, we will demonstrate how, using Classiq's VQE package, the user can create a Molecule's potential energy curve, and compare the result those of the Hartree-Fock approximative method and to the exact results. The exact solution is a result of diagonalizing the Hamiltonian.\n",
    "\n",
    "## Main Idea\n",
    "The main idea is to use the __qpe_for_molecules.ipynb__ notebook, but replace __qpe_flexible__ with __my_qpe_flexible__. Then, create an iterator function that uses this approach to find eigenvalues as part of an adapt-VQE implementation."
   ]
  },
  {
   "cell_type": "code",
   "execution_count": 88,
   "id": "001a2340",
   "metadata": {},
   "outputs": [
    {
     "name": "stderr",
     "output_type": "stream",
     "text": [
      "/home/dacc/anaconda3/lib/python3.12/site-packages/classiq/_internals/authentication/token_manager.py:93: UserWarning: Overwriting an existing refresh token should only be done if it is compromised. Make sure this operation is necessary, and if not, remove the call to device registration.\n",
      "  warnings.warn(\n"
     ]
    },
    {
     "name": "stdout",
     "output_type": "stream",
     "text": [
      "Your user code: ZSKG-KFCL\n",
      "If a browser doesn't automatically open, please visit this URL from any trusted device: https://auth.classiq.io/activate?user_code=ZSKG-KFCL\n",
      "Abriendo en una sesión existente del navegador\n"
     ]
    },
    {
     "name": "stderr",
     "output_type": "stream",
     "text": [
      "[41380:41380:0100/000000.839540:ERROR:zygote_linux.cc(664)] write: Tubería rota (32)\n"
     ]
    }
   ],
   "source": [
    "#import time\n",
    "import matplotlib.pyplot as plt\n",
    "import numpy as np\n",
    "import itertools\n",
    "from classiq import *\n",
    "from classiq.applications.chemistry import ChemistryExecutionParameters,HEAParameters,Molecule,MoleculeProblem,UCCParameters\n",
    "from classiq.execution import OptimizerType\n",
    "from classiq.applications.combinatorial_helpers.pauli_helpers.pauli_utils import pauli_operator_to_hamiltonian\n",
    "from classiq.qmod.symbolic import ceiling as ceiling_qmod, pi\n",
    "authenticate(overwrite=True)"
   ]
  },
  {
   "cell_type": "markdown",
   "id": "ce5b7367",
   "metadata": {},
   "source": [
    "\n",
    "## 0. Define Molecules\n",
    "We start this defining some examples of molecular pairs and triplets."
   ]
  },
  {
   "cell_type": "code",
   "execution_count": null,
   "id": "3d00a81f",
   "metadata": {},
   "outputs": [],
   "source": [
    "num1, start1, stop1 = 7, 0.20, 1   #First Linear Space \n",
    "num2, start2, stop2 = 6, 1.4, 3  #Second Linear Space\n",
    "distance = np.append(np.linspace(start1, stop1, num1), np.linspace(start2, stop2, num2)) # prepare x,y vectors\n",
    "#molecules_LiH = [Molecule(atoms=[(\"H\", (0.0, 0.0, 0.0)), (\"Li\", (0.0, 0.0, x))]) for x in distance]\n",
    "#molecules_FH = [Molecule(atoms=[(\"H\", (0.0, 0.0, 0.0)), (\"F\", (0.0, 0.0, x))]) for x in distance]\n",
    "molecules_H2 = [Molecule(atoms=[(\"H\", (0.0, 0.0, 0)), (\"H\", (0.0, 0.0, x))]) for x in distance]\n",
    "#molecules_O2 = [Molecule(atoms=[(\"O\", (0.0, 0.0, 0)), (\"O\", (0.0, 0.0, x))]) for x in distance]\n",
    "#molecules_H2O = [Molecule(atoms=[(\"O\", (0.0, 0.0, 0.0)), (\"H\", (0, x, y)), (\"H\", (0, x, -y))]) for (x,y) in itertools.product(distance,distance)]\n",
    "#molecules_H3 = [Molecule(atoms=[(\"H\", (0.0, 0.0, 0.0)), (\"H\", (0, x, y)), (\"H\", (0, x, -y))]) for (x,y)  in itertools.product(distance,distance)]\n",
    "#molecules_O3 = [Molecule(atoms=[(\"O\", (0.0, 0.0, 0.0)), (\"O\", (0, x, y)), (\"O\", (0, x, -y))]) for (x,y)  in itertools.product(distance,distance)]\n",
    "#molecules_BeH2 = [Molecule(atoms=[(\"Be\", (0.0, 0.0, 0.0)), (\"H\", (0, 0, x)), (\"H\", (0, 0, -x))]) for x in distance]"
   ]
  },
  {
   "cell_type": "markdown",
   "id": "099a3eaa-aec8-4088-89cc-b7fb9fcf161c",
   "metadata": {
    "pycharm": {
     "name": "#%% md\n"
    }
   },
   "source": [
    "## 1. Vanilla VQE\n",
    "This part would imitate the model of VQE already implemented on Classiq"
   ]
  },
  {
   "cell_type": "code",
   "execution_count": 90,
   "id": "238c6d3c-2ab7-4033-94c3-917debd90b17",
   "metadata": {
    "execution": {
     "iopub.execute_input": "2024-05-07T15:14:20.447086Z",
     "iopub.status.busy": "2024-05-07T15:14:20.446361Z",
     "iopub.status.idle": "2024-05-07T15:14:20.451781Z",
     "shell.execute_reply": "2024-05-07T15:14:20.451128Z"
    },
    "pycharm": {
     "name": "#%%\n"
    }
   },
   "outputs": [],
   "source": [
    "VQE_energy, HF_energy, exact_energy = [],[],[]\n",
    "qmods, qprogs, results, durations = [],[],[],[]\n",
    "for k in range(len(distance)):\n",
    "    molecule = molecules_H2[k]\n",
    "    chemistry_problem = MoleculeProblem(molecule=molecule,mapping=\"bravyi_kitaev\",z2_symmetries=True,freeze_core=True)  # jordan_wigner or bravyi_kitaev\n",
    "    qmod = construct_chemistry_model(\n",
    "        chemistry_problem=chemistry_problem,use_hartree_fock=True,ansatz_parameters=UCCParameters(excitations=[1, 2]),\n",
    "        execution_parameters=ChemistryExecutionParameters(optimizer=OptimizerType.COBYLA,max_iteration=10,initial_point=None))\n",
    "    qmods.append(qmod)\n",
    "    qprog = synthesize(qmod);qprogs.append(qprog)\n",
    "    result = execute(qprog).result();results.append(result)\n",
    "    chemistry_result_dict = result[1].value\n",
    "    operator = chemistry_problem.generate_hamiltonian()\n",
    "    mat = operator.to_matrix()\n",
    "    w, v = np.linalg.eig(mat)\n",
    "    result_exact = np.real(min(w)) + chemistry_result_dict[\"nuclear_repulsion_energy\"]\n",
    "    VQE_energy.append(chemistry_result_dict[\"total_energy\"])\n",
    "    HF_energy.append(chemistry_result_dict[\"hartree_fock_energy\"])\n",
    "    exact_energy.append(result_exact)"
   ]
  },
  {
   "cell_type": "markdown",
   "id": "6886a471",
   "metadata": {
    "pycharm": {
     "name": "#%% md\n"
    }
   },
   "source": [
    "This graph presents the ground state for $H_{2}$ molecule as a function of the distance between the two hydrogen atoms. One can see that both the HF solution and Classiq VQE present decent results around the global minima. For further distances, Classiq VQE stays close to the exact solution while the HF solution gradually deviates. The source of this lack of correspondence is with the lack of flexible correlations within the HF model, which is enabled within VQE scope.\n",
    "One can similarly create graphs for different molecules (even n- dimensional or larger atom assemblies), to explore more curves.\n"
   ]
  },
  {
   "cell_type": "markdown",
   "id": "74050aad",
   "metadata": {},
   "source": [
    "# 2. Define Adapt_VQE using Flexible QPE"
   ]
  },
  {
   "cell_type": "code",
   "execution_count": 91,
   "id": "4e2a590b",
   "metadata": {},
   "outputs": [
    {
     "name": "stdout",
     "output_type": "stream",
     "text": [
      "kind='molecule' mapping=<FermionMapping.BRAVYI_KITAEV: 'bravyi_kitaev'> z2_symmetries=True num_qubits=None molecule=Molecule(atoms=[Atom(symbol='H', x=0.0, y=0.0, z=0.0), Atom(symbol='H', x=0.0, y=0.0, z=0.2)], spin=1, charge=0) basis='sto3g' freeze_core=True remove_orbitals=[]\n",
      "kind='molecule' mapping=<FermionMapping.BRAVYI_KITAEV: 'bravyi_kitaev'> z2_symmetries=True num_qubits=None molecule=Molecule(atoms=[Atom(symbol='H', x=0.0, y=0.0, z=0.0), Atom(symbol='H', x=0.0, y=0.0, z=0.33333333333333337)], spin=1, charge=0) basis='sto3g' freeze_core=True remove_orbitals=[]\n",
      "kind='molecule' mapping=<FermionMapping.BRAVYI_KITAEV: 'bravyi_kitaev'> z2_symmetries=True num_qubits=None molecule=Molecule(atoms=[Atom(symbol='H', x=0.0, y=0.0, z=0.0), Atom(symbol='H', x=0.0, y=0.0, z=0.4666666666666667)], spin=1, charge=0) basis='sto3g' freeze_core=True remove_orbitals=[]\n",
      "kind='molecule' mapping=<FermionMapping.BRAVYI_KITAEV: 'bravyi_kitaev'> z2_symmetries=True num_qubits=None molecule=Molecule(atoms=[Atom(symbol='H', x=0.0, y=0.0, z=0.0), Atom(symbol='H', x=0.0, y=0.0, z=0.6000000000000001)], spin=1, charge=0) basis='sto3g' freeze_core=True remove_orbitals=[]\n",
      "kind='molecule' mapping=<FermionMapping.BRAVYI_KITAEV: 'bravyi_kitaev'> z2_symmetries=True num_qubits=None molecule=Molecule(atoms=[Atom(symbol='H', x=0.0, y=0.0, z=0.0), Atom(symbol='H', x=0.0, y=0.0, z=0.7333333333333334)], spin=1, charge=0) basis='sto3g' freeze_core=True remove_orbitals=[]\n",
      "kind='molecule' mapping=<FermionMapping.BRAVYI_KITAEV: 'bravyi_kitaev'> z2_symmetries=True num_qubits=None molecule=Molecule(atoms=[Atom(symbol='H', x=0.0, y=0.0, z=0.0), Atom(symbol='H', x=0.0, y=0.0, z=0.8666666666666667)], spin=1, charge=0) basis='sto3g' freeze_core=True remove_orbitals=[]\n",
      "kind='molecule' mapping=<FermionMapping.BRAVYI_KITAEV: 'bravyi_kitaev'> z2_symmetries=True num_qubits=None molecule=Molecule(atoms=[Atom(symbol='H', x=0.0, y=0.0, z=0.0), Atom(symbol='H', x=0.0, y=0.0, z=1.0)], spin=1, charge=0) basis='sto3g' freeze_core=True remove_orbitals=[]\n",
      "kind='molecule' mapping=<FermionMapping.BRAVYI_KITAEV: 'bravyi_kitaev'> z2_symmetries=True num_qubits=None molecule=Molecule(atoms=[Atom(symbol='H', x=0.0, y=0.0, z=0.0), Atom(symbol='H', x=0.0, y=0.0, z=1.4)], spin=1, charge=0) basis='sto3g' freeze_core=True remove_orbitals=[]\n",
      "kind='molecule' mapping=<FermionMapping.BRAVYI_KITAEV: 'bravyi_kitaev'> z2_symmetries=True num_qubits=None molecule=Molecule(atoms=[Atom(symbol='H', x=0.0, y=0.0, z=0.0), Atom(symbol='H', x=0.0, y=0.0, z=1.72)], spin=1, charge=0) basis='sto3g' freeze_core=True remove_orbitals=[]\n",
      "kind='molecule' mapping=<FermionMapping.BRAVYI_KITAEV: 'bravyi_kitaev'> z2_symmetries=True num_qubits=None molecule=Molecule(atoms=[Atom(symbol='H', x=0.0, y=0.0, z=0.0), Atom(symbol='H', x=0.0, y=0.0, z=2.04)], spin=1, charge=0) basis='sto3g' freeze_core=True remove_orbitals=[]\n",
      "kind='molecule' mapping=<FermionMapping.BRAVYI_KITAEV: 'bravyi_kitaev'> z2_symmetries=True num_qubits=None molecule=Molecule(atoms=[Atom(symbol='H', x=0.0, y=0.0, z=0.0), Atom(symbol='H', x=0.0, y=0.0, z=2.36)], spin=1, charge=0) basis='sto3g' freeze_core=True remove_orbitals=[]\n",
      "kind='molecule' mapping=<FermionMapping.BRAVYI_KITAEV: 'bravyi_kitaev'> z2_symmetries=True num_qubits=None molecule=Molecule(atoms=[Atom(symbol='H', x=0.0, y=0.0, z=0.0), Atom(symbol='H', x=0.0, y=0.0, z=2.6799999999999997)], spin=1, charge=0) basis='sto3g' freeze_core=True remove_orbitals=[]\n",
      "kind='molecule' mapping=<FermionMapping.BRAVYI_KITAEV: 'bravyi_kitaev'> z2_symmetries=True num_qubits=None molecule=Molecule(atoms=[Atom(symbol='H', x=0.0, y=0.0, z=0.0), Atom(symbol='H', x=0.0, y=0.0, z=3.0)], spin=1, charge=0) basis='sto3g' freeze_core=True remove_orbitals=[]\n"
     ]
    }
   ],
   "source": [
    "#Flexible QPE\n",
    "@qfunc\n",
    "def my_qpe_flexible(unitary: QCallable[CInt, QArray[QBit]],state: QArray[QBit],phase: QArray[QBit]) -> None:\n",
    "    apply_to_all(H, phase)\n",
    "    repeat(count=phase.len,iteration=lambda index: control(ctrl=phase[index],stmt_block=lambda: unitary(2**index, state)))\n",
    "    invert(lambda: qft(phase),)\n",
    "\n",
    "aVQE_energy=[]\n",
    "for k in range(len(distance)):\n",
    "    molecule = molecules_H2[k]\n",
    "    gs_problem = MoleculeProblem(molecule=molecule,basis=\"sto3g\",mapping=\"bravyi_kitaev\",z2_symmetries=True,freeze_core=True) # jordan_wigner or bravyi_kitaev\n",
    "    print(gs_problem)\n",
    "    \n",
    "    #operator = gs_problem.generate_hamiltonian()\n",
    "    #gs_problem = gs_problem.update_problem(operator.num_qubits)\n",
    "    #mol_hamiltonian = pauli_operator_to_hamiltonian(operator.pauli_list)\n",
    "    #problem_size = len(mol_hamiltonian[0].pauli)\n",
    "    #print(f\"The Hamiltonian is defined on {problem_size} qubits, and contains {len(mol_hamiltonian)} Pauli strings\")\n",
    "    #mat = hamiltonian_to_matrix(mol_hamiltonian)\n",
    "    #w, v = np.linalg.eig(mat)\n",
    "    #classical_sol = np.real(min(w))\n",
    "    #coeiffs = [term.coefficient for term in mol_hamiltonian]\n",
    "    #def trim_hamiltonian(hamiltonian, threshold):\n",
    "    #    return [PauliTerm(pauli=term.pauli, coefficient=term.coefficient) for term in hamiltonian if np.abs(term.coefficient) > threshold]\n",
    "    #THRESHOLD = 0.03\n",
    "    #trimmed_mol_hamiltonian = trim_hamiltonian(mol_hamiltonian, THRESHOLD)\n",
    "    #def normalize_hamiltonian(hamiltonian):\n",
    "    #    approx_lambda_max = sum(np.abs(term.coefficient) for term in hamiltonian)\n",
    "    #    normalization = 2 * approx_lambda_max\n",
    "    #    normalized_mol_hamiltonian = [PauliTerm(pauli=term.pauli, coefficient=term.coefficient / (normalization)) for term in hamiltonian]\n",
    "    #    return normalization, normalized_mol_hamiltonian\n",
    "    #normalization, normalized_mol_hamiltonian = normalize_hamiltonian(trimmed_mol_hamiltonian)  #¿Cómo traspasar este hamiltoniano al comando que continúa el VQE?\n",
    " \n",
    "    qmod = construct_chemistry_model(\n",
    "        chemistry_problem=gs_problem,use_hartree_fock=True,ansatz_parameters=UCCParameters(excitations=[1, 2]),\n",
    "        execution_parameters=ChemistryExecutionParameters(optimizer=OptimizerType.COBYLA,max_iteration=10,initial_point=None))\n",
    "    preferences = Preferences(optimization_level=3)\n",
    "    qmods.append(qmod)\n",
    "    qprog = synthesize(qmod, preferences=preferences);qprogs.append(qprog)\n",
    "    result = execute(qprog).result();results.append(result)\n",
    "    chemistry_result_dict = result[1].value\n",
    "    operator = chemistry_problem.generate_hamiltonian()\n",
    "    mat = operator.to_matrix()\n",
    "    w, v = np.linalg.eig(mat)\n",
    "    result_exact = np.real(min(w)) + chemistry_result_dict[\"nuclear_repulsion_energy\"]\n",
    "    aVQE_energy.append(chemistry_result_dict[\"total_energy\"])\n"
   ]
  },
  {
   "cell_type": "markdown",
   "id": "427c78da",
   "metadata": {},
   "source": [
    "## 3. Plot and comparing results"
   ]
  },
  {
   "cell_type": "code",
   "execution_count": 92,
   "id": "cb6f39de",
   "metadata": {},
   "outputs": [
    {
     "data": {
      "image/png": "[encoded data removed]",
      "text/plain": [
       "<Figure size 640x480 with 1 Axes>"
      ]
     },
     "metadata": {},
     "output_type": "display_data"
    }
   ],
   "source": [
    "write_qmod(qmods[-1], \"adapt_vqe_energy_curve\") # save the last model to a qmod file\n",
    "plt.plot(distance, VQE_energy, \"r-s\", distance, aVQE_energy, \"k-o\", distance, HF_energy, \"bx\", distance, exact_energy, \"g+\")\n",
    "plt.xlabel(r\"distance [Å]\")\n",
    "plt.ylabel(\"energy [Ha]\")\n",
    "plt.legend([\"Classiq VQE\", \"Adapt VQE\", \"Hartree-Fock\", \"Exact solution\"])\n",
    "plt.title(r\"Binding Curve $H_{2}$\")\n",
    "plt.show()"
   ]
  },
  {
   "cell_type": "code",
   "execution_count": 102,
   "id": "6a8845fc",
   "metadata": {},
   "outputs": [
    {
     "name": "stdout",
     "output_type": "stream",
     "text": [
      "-1.1403757826329293\n",
      "-1.1327709429281412\n",
      "-1.117069053137786\n",
      "-1.137304045596478\n",
      "----\n",
      "0.27008934403642487\n",
      "0.3985831832647162\n",
      "1.7792069356510027\n"
     ]
    }
   ],
   "source": [
    "m1=min(VQE_energy); print(m1)\n",
    "m2=min(aVQE_energy); print(m2)\n",
    "m3=min(HF_energy); print(m3)\n",
    "m4=min(exact_energy); print(m4)\n",
    "print('----')\n",
    "print(-100*np.abs(m1-m4)/m4)\n",
    "print(-100*np.abs(m2-m4)/m4)\n",
    "print(-100*np.abs(m3-m4)/m4)"
   ]
  }
 ],
 "metadata": {
  "kernelspec": {
   "display_name": "base",
   "language": "python",
   "name": "python3"
  },
  "language_info": {
   "codemirror_mode": {
    "name": "ipython",
    "version": 3
   },
   "file_extension": ".py",
   "mimetype": "text/x-python",
   "name": "python",
   "nbconvert_exporter": "python",
   "pygments_lexer": "ipython3",
   "version": "3.12.9"
  }
 },
 "nbformat": 4,
 "nbformat_minor": 5
}
