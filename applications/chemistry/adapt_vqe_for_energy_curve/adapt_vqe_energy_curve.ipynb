{
 "cells": [
  {
   "cell_type": "markdown",
   "id": "c63de343-cabb-4198-ae97-b23cdf2ae9e7",
   "metadata": {
    "pycharm": {
     "name": "#%% md\n"
    }
   },
   "source": [
    "# Creating an optimal Molecule's Potential Energy Curve using Adapt-VQE\n",
    "\n",
    "The main idea is to create an iterator that manipulates the C-NOT quantity and circuit depth to implement a VQE on a more efficient way. We are using as an example of implementation the energy curve for a molecule pair.  "
   ]
  },
  {
   "cell_type": "markdown",
   "id": "39b1bede",
   "metadata": {},
   "source": [
    "## Libraries"
   ]
  },
  {
   "cell_type": "code",
   "execution_count": 103,
   "id": "3f986173",
   "metadata": {},
   "outputs": [],
   "source": [
    "import time\n",
    "import matplotlib.pyplot as plt\n",
    "import numpy as np\n",
    "import itertools\n",
    "\n",
    "from classiq import * \n",
    "from classiq.applications.chemistry import *\n",
    "from classiq.execution import *\n",
    "from classiq.interface.backend.backend_preferences import IBMBackendPreferences, ClassiqSimulatorBackendNames\n",
    "#from classiq.interface.executor.hamiltonian_minimization_problem import *\n",
    "from classiq.interface.executor.quantum_instruction_set import QuantumInstructionSet\n",
    "#from classiq.interface.executor import QuantumProgram\n",
    "from classiq.applications.combinatorial_helpers.pauli_helpers.pauli_utils import pauli_operator_to_hamiltonian\n",
    "from classiq.qmod.symbolic import ceiling as ceiling_qmod, pi"
   ]
  },
  {
   "cell_type": "markdown",
   "id": "4103f86b",
   "metadata": {},
   "source": [
    "## Anti-Bug: Molecule Validation"
   ]
  },
  {
   "cell_type": "code",
   "execution_count": 104,
   "id": "bf6dd162",
   "metadata": {},
   "outputs": [],
   "source": [
    "def validate_molecule(mol):\n",
    "    if not isinstance(mol, Molecule):\n",
    "        raise TypeError(\"The object 'mol' must be Molecule type\")\n",
    "    if not mol.atoms or len(mol.atoms) < 2:\n",
    "        raise ValueError(\"The molecule must have at least 2 atoms.\")"
   ]
  },
  {
   "cell_type": "markdown",
   "id": "ce5b7367",
   "metadata": {},
   "source": [
    "\n",
    "## 0. Distances and Define Molecules\n",
    "We start this defining some examples of molecular pairs and triplets."
   ]
  },
  {
   "cell_type": "code",
   "execution_count": 105,
   "id": "3d00a81f",
   "metadata": {},
   "outputs": [],
   "source": [
    "# Define 2 distance intervals and create the distance vector\n",
    "num1, start1, stop1 = 7, 0.20, 1   #First Linear Space \n",
    "num2, start2, stop2 = 6, 1.4, 3  #Second Linear Space\n",
    "distance = np.append(np.linspace(start1, stop1, num1), np.linspace(start2, stop2, num2)) # prepare x,y vectors\n",
    "\n",
    "#Create a list of molecules for each distance\n",
    "molecules_LiH = [Molecule(atoms=[(\"H\", (0.0, 0.0, 0.0)), (\"Li\", (0.0, 0.0, x))]) for x in distance]\n",
    "molecules_FH = [Molecule(atoms=[(\"H\", (0.0, 0.0, 0.0)), (\"F\", (0.0, 0.0, x))]) for x in distance]\n",
    "molecules_H2 = [Molecule(atoms=[(\"H\", (0.0, 0.0, 0)), (\"H\", (0.0, 0.0, x))]) for x in distance]\n",
    "molecules_O2 = [Molecule(atoms=[(\"O\", (0.0, 0.0, 0)), (\"O\", (0.0, 0.0, x))]) for x in distance]\n",
    "molecules_H2O = [Molecule(atoms=[(\"O\", (0.0, 0.0, 0.0)), (\"H\", (0, x, y)), (\"H\", (0, x, -y))]) for (x,y) in itertools.product(distance,distance)]\n",
    "molecules_H3 = [Molecule(atoms=[(\"H\", (0.0, 0.0, 0.0)), (\"H\", (0, x, y)), (\"H\", (0, x, -y))]) for (x,y)  in itertools.product(distance,distance)]\n",
    "molecules_O3 = [Molecule(atoms=[(\"O\", (0.0, 0.0, 0.0)), (\"O\", (0, x, y)), (\"O\", (0, x, -y))]) for (x,y)  in itertools.product(distance,distance)]\n",
    "molecules_BeH2 = [Molecule(atoms=[(\"Be\", (0.0, 0.0, 0.0)), (\"H\", (0, 0, x)), (\"H\", (0, 0, -x))]) for x in distance]"
   ]
  },
  {
   "cell_type": "markdown",
   "id": "099a3eaa-aec8-4088-89cc-b7fb9fcf161c",
   "metadata": {
    "pycharm": {
     "name": "#%% md\n"
    }
   },
   "source": [
    "## 1. Vanilla VQE\n",
    "This part would imitate the model of VQE already implemented on Classiq"
   ]
  },
  {
   "cell_type": "code",
   "execution_count": 106,
   "id": "b06b960c",
   "metadata": {},
   "outputs": [],
   "source": [
    "# Lists to store energies and durations\n",
    "fixed_vqe_energy = []\n",
    "adapt_vqe_energy = []\n",
    "hf_energy = []\n",
    "exact_energy = []\n",
    "durations_fixed = []\n",
    "durations_adapt = []\n",
    "\n",
    "# Lists to store objects for reference\n",
    "qmods = []\n",
    "qprogs = []\n",
    "results = []"
   ]
  },
  {
   "cell_type": "code",
   "execution_count": 107,
   "id": "238c6d3c-2ab7-4033-94c3-917debd90b17",
   "metadata": {
    "execution": {
     "iopub.execute_input": "2024-05-07T15:14:20.447086Z",
     "iopub.status.busy": "2024-05-07T15:14:20.446361Z",
     "iopub.status.idle": "2024-05-07T15:14:20.451781Z",
     "shell.execute_reply": "2024-05-07T15:14:20.451128Z"
    },
    "pycharm": {
     "name": "#%%\n"
    }
   },
   "outputs": [],
   "source": [
    "# Functions that will be used\n",
    "\n",
    "# Create and return MoleculeProblem, a basis can be specified or otherwise the predetermined one is used\n",
    "def create_problem(molecule, mapping=\"jordan_wigner\", basis=None):\n",
    "    if basis is None:\n",
    "        return MoleculeProblem(molecule=molecule, mapping=mapping, z2_symmetries=True, freeze_core=True)\n",
    "    else:\n",
    "        return MoleculeProblem(molecule=molecule, basis=basis, mapping=mapping, z2_symmetries=True, freeze_core=True)\n",
    "\n",
    "# Cut terms with coefficients lower than the threshold and normalize the hamiltonian\n",
    "def process_hamiltonian(operator, threshold=0.03):\n",
    "    ham_list = pauli_operator_to_hamiltonian(operator.pauli_list)\n",
    "    if not ham_list:\n",
    "        warnings.warn(\"The list of terms in the Hamiltonian is empty.\")\n",
    "        return 1.0, []\n",
    "    trimmed = [term for term in ham_list if np.abs(term.coefficient) > threshold]\n",
    "    if not trimmed:\n",
    "        warnings.warn(\"No term exceeds the threshold, so the original Hamiltonian will be used.\")\n",
    "        trimmed = ham_list\n",
    "    norm_factor = 2 * sum(np.abs(term.coefficient) for term in trimmed)\n",
    "    if norm_factor == 0:\n",
    "        raise ValueError(\"The normalization factor is 0. Please check the coefficients.\")\n",
    "    normalized = [PauliTerm(pauli=term.pauli, coefficient=term.coefficient / norm_factor)\n",
    "                  for term in trimmed]\n",
    "    return norm_factor, normalized\n",
    "\n",
    "# Define the Fixed VQE (Vanilla VQE) and return the dictionary of results\n",
    "def run_fixed_vqe(molecule, max_iter=10):\n",
    "    chem_problem = create_problem(molecule, mapping=\"jordan_wigner\")\n",
    "    qmod = construct_chemistry_model(\n",
    "        chemistry_problem=chem_problem,\n",
    "        use_hartree_fock=True,\n",
    "        ansatz_parameters=UCCParameters(excitations=[1, 2]),\n",
    "        execution_parameters=ChemistryExecutionParameters(\n",
    "            optimizer=OptimizerType.COBYLA,\n",
    "            max_iteration=max_iter,\n",
    "            initial_point=None\n",
    "        )\n",
    "    )\n",
    "    qprog = synthesize(qmod)\n",
    "    result = execute(qprog).result()\n",
    "    return result[1].value, chem_problem"
   ]
  },
  {
   "cell_type": "code",
   "execution_count": null,
   "id": "ec489b1d",
   "metadata": {},
   "outputs": [],
   "source": [
    "# Run the Fixed VQE (Vanilla VQE)\n",
    "for k in range(len(distance)):\n",
    "    molecule = molecules_H2[k]\n",
    "    t1 = time.time()\n",
    "    chem_result, problem_fixed = run_fixed_vqe(molecule)\n",
    "    durations_fixed.append(time.time() - t1)\n",
    "    fixed_vqe_energy.append(chem_result[\"total_energy\"])\n",
    "    hf_energy.append(chem_result[\"hartree_fock_energy\"])\n",
    "    \n",
    "    # Exact solution from the generated hamiltonian\n",
    "    operator_fixed = problem_fixed.generate_hamiltonian()\n",
    "    mat_fixed = operator_fixed.to_matrix()\n",
    "    w_fixed, _ = np.linalg.eig(mat_fixed)\n",
    "    exact_val = np.real(min(w_fixed)) + chem_result[\"nuclear_repulsion_energy\"]\n",
    "    exact_energy.append(exact_val)\n",
    "    \n",
    "    # Store objects for reference\n",
    "    qmods.append(problem_fixed)\n",
    "    results.append(chem_result)"
   ]
  },
  {
   "cell_type": "markdown",
   "id": "74050aad",
   "metadata": {},
   "source": [
    "# 2. Define AdaptVQE \n",
    "In this part of the notebook, we implement the aVQE function, that depends of the array of points we want to calculate, the molecule pair we are modelling, and a threshold number. While the distance between the VQE and the exact solution arrays is bigger than the threshold, it will be relaxed the limit used. This process will be done until the distance is lesser than the threshold. "
   ]
  },
  {
   "cell_type": "code",
   "execution_count": null,
   "id": "240d500f",
   "metadata": {},
   "outputs": [],
   "source": [
    "# Define Adapt-VQE using fixed UCCParameters but with constraints like depth adaptation and number of CNOTS.\n",
    "# Return a dictionary of results\n",
    "def run_adapt_vqe(molecule, max_iter=10, m_depth=10, m_cnot=10):\n",
    "    chem_problem = create_problem(molecule, mapping=\"bravyi_kitaev\", basis=\"sto3g\")\n",
    "    qmod = construct_chemistry_model(\n",
    "        chemistry_problem=chem_problem,\n",
    "        use_hartree_fock=True,\n",
    "        ansatz_parameters=UCCParameters(excitations=[1, 2]),\n",
    "        execution_parameters=ChemistryExecutionParameters(\n",
    "            optimizer=OptimizerType.COBYLA,\n",
    "            max_iteration=max_iter,\n",
    "            initial_point=None\n",
    "        )\n",
    "    )\n",
    "    preferences = Preferences(optimization_level=3)\n",
    "    constraints = Constraints(max_depth=m_depth, max_gate_count={TranspilerBasisGates.CX: m_cnot})\n",
    "    qprog = synthesize(qmod, constraints=constraints, preferences=preferences)\n",
    "    result = execute(qprog).result()\n",
    "    return result[1].value, chem_problem"
   ]
  },
  {
   "cell_type": "code",
   "execution_count": null,
   "id": "d08c5e9b",
   "metadata": {},
   "outputs": [
    {
     "ename": "NameError",
     "evalue": "name 'adapt_vqe_energy_curve' is not defined",
     "output_type": "error",
     "traceback": [
      "\u001b[0;31m---------------------------------------------------------------------------\u001b[0m",
      "\u001b[0;31mNameError\u001b[0m                                 Traceback (most recent call last)",
      "Cell \u001b[0;32mIn[102], line 14\u001b[0m\n\u001b[1;32m      9\u001b[0m     \u001b[38;5;66;03m#Optionally: Process the hamiltonian to use the truncated version of the hamiltonian\u001b[39;00m\n\u001b[1;32m     10\u001b[0m     \u001b[38;5;66;03m# operator_adapt = problem_adapt.generate_hamiltonian()\u001b[39;00m\n\u001b[1;32m     11\u001b[0m     \u001b[38;5;66;03m# norm, norm_ham = process_hamiltonian(operator_adapt, threshold=0.03)\u001b[39;00m\n\u001b[1;32m     13\u001b[0m     qmods\u001b[38;5;241m.\u001b[39mappend(problem_adapt)\n\u001b[0;32m---> 14\u001b[0m     results\u001b[38;5;241m.\u001b[39mappend(\u001b[43madapt_vqe_energy_curve\u001b[49m)\n\u001b[1;32m     16\u001b[0m write_qmod(qmods[\u001b[38;5;241m-\u001b[39m\u001b[38;5;241m1\u001b[39m], \u001b[38;5;124m\"\u001b[39m\u001b[38;5;124madapt_vqe_energy_curve\u001b[39m\u001b[38;5;124m\"\u001b[39m) \n",
      "\u001b[0;31mNameError\u001b[0m: name 'adapt_vqe_energy_curve' is not defined"
     ]
    }
   ],
   "source": [
    "# Run Adapt-VQE with adapted constraints\n",
    "for k in range(len(distance)):\n",
    "    mol = molecules_H2[k]\n",
    "    t2 = time.time()\n",
    "    chem_result_adapt, problem_adapt = run_adapt_vqe(mol, max_iter=10, m_depth=10, m_cnot=10)\n",
    "    durations_adapt.append(time.time() - t2)\n",
    "    adapt_vqe_energy.append(chem_result_adapt[\"total_energy\"])\n",
    "    \n",
    "    #Optionally: Process the hamiltonian to use the truncated version of the hamiltonian\n",
    "    # operator_adapt = problem_adapt.generate_hamiltonian()\n",
    "    # norm, norm_ham = process_hamiltonian(operator_adapt, threshold=0.03)\n",
    "    \n",
    "    qmods.append(problem_adapt)\n",
    "\n",
    "write_qmod(qmods[-1], \"adapt_vqe_energy_curve\") "
   ]
  },
  {
   "cell_type": "markdown",
   "id": "427c78da",
   "metadata": {},
   "source": [
    "## 3. Plot and comparing results"
   ]
  },
  {
   "cell_type": "code",
   "execution_count": null,
   "id": "921cbd92",
   "metadata": {},
   "outputs": [
    {
     "data": {
      "image/png": "[encoded data removed]",
      "text/plain": [
       "<Figure size 800x600 with 1 Axes>"
      ]
     },
     "metadata": {},
     "output_type": "display_data"
    },
    {
     "name": "stdout",
     "output_type": "stream",
     "text": [
      "Minimum Energy Fixed VQE: -1.148740012026149\n",
      "Minimum Energy Adapt-VQE: -1.1349850781179187\n",
      "Minimum Energy Hartree-Fock: -1.117069053137786\n",
      "Exact Minumum Energy: -1.1373040455964771\n",
      "Fixed VQE average time: 8.717577732526339\n",
      "Adapt-VQE average time: 10.207691210966845\n"
     ]
    }
   ],
   "source": [
    "# Plot and compare results\n",
    "plt.figure(figsize=(8,6))\n",
    "plt.plot(distance, fixed_vqe_energy, \"r-s\", label=\"Fixed VQE (UCC)\")\n",
    "plt.plot(distance, adapt_vqe_energy, \"k-o\", label=\"Adapt-VQE (with constraints)\")\n",
    "plt.plot(distance, hf_energy, \"bx\", label=\"Hartree-Fock\")\n",
    "plt.plot(distance, exact_energy, \"g+\", label=\"Exact solution\")\n",
    "plt.xlabel(r\"Distance [Å]\")\n",
    "plt.ylabel(\"Energy [Ha]\")\n",
    "plt.legend()\n",
    "plt.title(r\"Binding Curve $H_{2}$\")\n",
    "plt.show()\n",
    "\n",
    "print(\"Minimum Energy Fixed VQE:\", min(fixed_vqe_energy))\n",
    "print(\"Minimum Energy Adapt-VQE:\", min(adapt_vqe_energy))\n",
    "print(\"Minimum Energy Hartree-Fock:\", min(hf_energy))\n",
    "print(\"Exact Minumum Energy:\", min(exact_energy))\n",
    "print(\"Fixed VQE average time:\", np.mean(durations_fixed))\n",
    "print(\"Adapt-VQE average time:\", np.mean(durations_adapt))"
   ]
  }
 ],
 "metadata": {
  "kernelspec": {
   "display_name": "base",
   "language": "python",
   "name": "python3"
  },
  "language_info": {
   "codemirror_mode": {
    "name": "ipython",
    "version": 3
   },
   "file_extension": ".py",
   "mimetype": "text/x-python",
   "name": "python",
   "nbconvert_exporter": "python",
   "pygments_lexer": "ipython3",
   "version": "3.12.9"
  }
 },
 "nbformat": 4,
 "nbformat_minor": 5
}
