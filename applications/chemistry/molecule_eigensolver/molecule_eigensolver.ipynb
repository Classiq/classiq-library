{
 "cells": [
  {
   "cell_type": "markdown",
   "id": "4fbae0f9",
   "metadata": {
    "pycharm": {
     "name": "#%% md\n"
    }
   },
   "source": [
    "# Molecule Eigensolver (VQE Method)\n",
    "\n",
    "Evaluating the ground state of a molecular Hamiltonian allows you to understand the chemical properties of the molecule. This tutorial demonstrates the use of Variational Quantum Eigensolver (VQE) to find the ground states and energies of 𝐻2, 𝐻2𝑂, and 𝐿𝑖𝐻 molecules.\n",
    "\n",
    "VQE is a leading method for finding approximate values of ground state wave functions and energies for complicated quantum systems and can give solutions for complex molecular structures. The overview of the VQE method is as follows: a problem (i.e., a molecule) is defined by a Hamiltonian whose ground state is sought. Then, a choice of a parameterized ansatz is made. A hybrid quantum-classical algorithm finds a solution for the defined parameters that minimizes the expectation value for the energy. A clever ansatz leads to an estimated ground state solution.\n",
    "\n",
    "Within the scope of Classiq's VQE algorithm, define a molecule that is translated to a concise Hamiltonian. Then, choose among types of well studied ansatzes, which are carefully selected to fit your molecule type. In the last stage, the Hamiltonian and ansatz are sent to a classical optimizer. This tutorial demonstrates the steps and options in Classiq's VQE algorithm. It presents the optimization strength of Classiq's VQE algorithm and its state-of-the-art results in terms of efficient quantum circuit, with the ultimate combination of low depth and high accuracy while minimizing the number of CX gates."
   ]
  },
  {
   "cell_type": "markdown",
   "id": "faa3c10f",
   "metadata": {
    "pycharm": {
     "name": "#%% md\n"
    }
   },
   "source": [
    "## Generating a Qubit Hamiltonian\n",
    "\n",
    "Define the molecule to simulate, declaring the `MolecularData` class and inserting a list of atoms and their spatial positions (the distances are received in Å =$10^{-10} m$). In addition, provide basis, multiplicity, and charge.\n",
    "\n",
    "As mentioned above, this tutorial demonstrates how to define and find the ground state and energies for these molecules:"
   ]
  },
  {
   "cell_type": "code",
   "execution_count": 2,
   "id": "ef2ce57e",
   "metadata": {
    "pycharm": {
     "name": "#%%\n"
    }
   },
   "outputs": [],
   "source": [
    "molecule_H2_geometry = [(\"H\", (0.0, 0.0, 0)), (\"H\", (0.0, 0.0, 0.735))]\n",
    "molecule_O2_geometry = [(\"O\", (0.0, 0.0, 0)), (\"O\", (0.0, 0.0, 1.16))]\n",
    "molecule_LiH_geometry = [(\"H\", (0.0, 0.0, 0.0)), (\"Li\", (0.0, 0.0, 1.596))]\n",
    "molecule_H2O_geometry = [\n",
    "    (\"O\", (0.0, 0.0, 0.0)),\n",
    "    (\"H\", (0, 0.586, 0.757)),\n",
    "    (\"H\", (0, 0.586, -0.757)),\n",
    "]\n",
    "molecule_BeH2_geometry = [\n",
    "    (\"Be\", (0.0, 0.0, 0.0)),\n",
    "    (\"H\", (0, 0, 1.334)),\n",
    "    (\"H\", (0, 0, -1.334)),\n",
    "]"
   ]
  },
  {
   "cell_type": "markdown",
   "id": "ab162f48",
   "metadata": {
    "pycharm": {
     "name": "#%% md\n"
    }
   },
   "source": [
    "You can construct any valid assambly of atoms in a similar manner."
   ]
  },
  {
   "cell_type": "code",
   "execution_count": 3,
   "id": "2e77678f",
   "metadata": {
    "pycharm": {
     "name": "#%%\n"
    }
   },
   "outputs": [],
   "source": [
    "from openfermion.chem import MolecularData\n",
    "from openfermionpyscf import run_pyscf\n",
    "\n",
    "geometry = molecule_H2_geometry\n",
    "\n",
    "basis = \"sto-3g\"  # Basis set\n",
    "multiplicity = 1  # Singlet state S=0\n",
    "charge = 0  # Neutral molecule\n",
    "molecule = MolecularData(molecule_H2_geometry, basis, multiplicity, charge)\n",
    "\n",
    "molecule = run_pyscf(\n",
    "    molecule,\n",
    "    run_mp2=True,\n",
    "    run_cisd=True,\n",
    "    run_ccsd=True,\n",
    "    run_fci=True,  # relevant for small, classically solvable problems\n",
    ")"
   ]
  },
  {
   "cell_type": "markdown",
   "id": "c4a541a5",
   "metadata": {
    "pycharm": {
     "name": "#%% md\n"
    }
   },
   "source": [
    "Define the parameters of the Hamiltonian problem (`FermionHamiltonianProblem`) and the mapper (`FermionToQubitMapper`) between Fermionic Hamiltonian and qubit Hamiltonians (Jordan Wigner or Bravyi Kitaev). If you want to use Z2-symmteries for reducing the problem size you can use `Z2SymTaperMapper` (see below)."
   ]
  },
  {
   "cell_type": "code",
   "execution_count": 4,
   "id": "2e0426d5",
   "metadata": {},
   "outputs": [
    {
     "name": "stdout",
     "output_type": "stream",
     "text": [
      "Your Hamiltonian is\n",
      "(-0.09057898608834769+0j) [] +\n",
      "(0.04523279994605784+0j) [X0 X1 X2 X3] +\n",
      "(0.04523279994605784+0j) [X0 X1 Y2 Y3] +\n",
      "(0.04523279994605784+0j) [Y0 Y1 X2 X3] +\n",
      "(0.04523279994605784+0j) [Y0 Y1 Y2 Y3] +\n",
      "(0.17218393261915538+0j) [Z0] +\n",
      "(0.12091263261776627+0j) [Z0 Z1] +\n",
      "(0.16892753870087907+0j) [Z0 Z2] +\n",
      "(0.1661454325638241+0j) [Z0 Z3] +\n",
      "(-0.2257534922240238+0j) [Z1] +\n",
      "(0.1661454325638241+0j) [Z1 Z2] +\n",
      "(0.17464343068300453+0j) [Z1 Z3] +\n",
      "(0.1721839326191554+0j) [Z2] +\n",
      "(0.12091263261776627+0j) [Z2 Z3] +\n",
      "(-0.22575349222402386+0j) [Z3]\n",
      "number of qubits 4\n"
     ]
    }
   ],
   "source": [
    "from classiq.applications.chemistry.mapping import FermionToQubitMapper\n",
    "from classiq.applications.chemistry.problems import FermionHamiltonianProblem\n",
    "\n",
    "# Define a  Hamiltonian in an active space\n",
    "problem = FermionHamiltonianProblem.from_molecule(molecule=molecule)\n",
    "mapper = FermionToQubitMapper()\n",
    "\n",
    "\n",
    "qubit_hamiltonian = mapper.map(problem.fermion_hamiltonian)\n",
    "print(\"Your Hamiltonian is\", qubit_hamiltonian, sep=\"\\n\")\n",
    "num_qubits = mapper.get_num_qubits(problem)\n",
    "print(f\"number of qubits {num_qubits}\")"
   ]
  },
  {
   "cell_type": "markdown",
   "id": "688d1b20-b7bf-4aca-806d-3a068e59932d",
   "metadata": {
    "pycharm": {
     "name": "#%% md\n"
    }
   },
   "source": [
    "## Constructing and Synthesizing a Ground State Solver\n",
    "\n",
    "A ground state solver model consists of a parameterized eigenfunction (\"the ansatz\"), on which to run a VQE.\n",
    "\n",
    "Start with a Hardware (HW) efficient ansatz:"
   ]
  },
  {
   "cell_type": "markdown",
   "id": "3f9a1076-6791-4e40-8e94-b6b15f708333",
   "metadata": {
    "pycharm": {
     "name": "#%% md\n"
    }
   },
   "source": [
    "### HW Efficient Ansatz\n",
    "\n",
    "The suggested HW efficient ansatz solution is generated to fit a specific hardware [1]. The ansatz creates a state with a given number of parameters according to your choice of the number of qubits that fits the Hamiltonian, and creates entanglement between the qubits using the inputed connectivity map. This example uses a four qubit map, which is specifically made for $H_2$ without using qubit tapering.\n",
    "\n",
    "After constructing the model, synthesize it and view the output circuit."
   ]
  },
  {
   "cell_type": "markdown",
   "id": "4fe0a35a-4f2f-4888-abe6-9319f6aaee15",
   "metadata": {},
   "source": [
    "For groundstate solvers, it is typical to initialize the ansatz with the Hartree-Fock state. Use the `get_hf_state` and the `prepare_basis_state` qfunc."
   ]
  },
  {
   "cell_type": "code",
   "execution_count": 6,
   "id": "7b70ed52-c331-4a17-b628-51c2489ac4af",
   "metadata": {},
   "outputs": [
    {
     "name": "stdout",
     "output_type": "stream",
     "text": [
      "Quantum program link: http://localhost:4200/circuit/2yvUt5LNmbZMmaUhiJnJvqQYkbC\n"
     ]
    }
   ],
   "source": [
    "from classiq import *\n",
    "from classiq.applications.chemistry.hartree_fock import get_hf_state\n",
    "from classiq.applications.chemistry.op_utils import qubit_op_to_pauli_terms\n",
    "\n",
    "reps = 3\n",
    "num_params = reps * num_qubits\n",
    "hf_state = get_hf_state(problem, mapper)\n",
    "vqe_hamiltonian = qubit_op_to_pauli_terms(mapper.map(problem.fermion_hamiltonian))\n",
    "\n",
    "\n",
    "@qfunc\n",
    "def main(params: CArray[CReal, num_params], state: Output[QArray]):\n",
    "    prepare_basis_state(hf_state, state)\n",
    "    full_hea(\n",
    "        num_qubits=num_qubits,\n",
    "        operands_1qubit=[lambda _, q: X(q), lambda theta, q: RY(theta, q)],\n",
    "        operands_2qubit=[lambda _, q1, q2: CX(q1, q2)],\n",
    "        is_parametrized=[0, 1, 0],\n",
    "        angle_params=params,\n",
    "        connectivity_map=[(0, 1), (1, 2), (2, 3)],\n",
    "        reps=reps,\n",
    "        x=state,\n",
    "    )\n",
    "\n",
    "\n",
    "qmod_hwea = create_model(\n",
    "    main, execution_preferences=ExecutionPreferences(num_shots=1000)\n",
    ")\n",
    "write_qmod(qmod_hwea, \"molecule_eigensolver_hwea\", symbolic_only=False)\n",
    "qprog_hwea = synthesize(qmod_hwea)\n",
    "show(qprog_hwea)"
   ]
  },
  {
   "cell_type": "markdown",
   "id": "7fb92cdc",
   "metadata": {
    "pycharm": {
     "name": "#%% md\n"
    }
   },
   "source": [
    "### Unitary Coupled Cluster (UCC) Ansatz\n",
    "\n",
    "Create the commonly used chemistry-inspired UCC ansatz, which is a unitary version of the classical coupled cluster (CC) method [2].\n",
    "\n",
    "The parameter that defines the UCC ansatz:\n",
    "`excitations` (List[int] or List[str]): list of desired excitations, e.g.,\n",
    "- 1 for singles\n",
    "- 2 for doubles\n",
    "- 3 for triples\n",
    "- 4 for quadruples\n",
    "\n",
    "Once again, after running the code lines below, you can view the output circuit that creates the state with an interactive interface and print the depth of the circuit.\n"
   ]
  },
  {
   "cell_type": "markdown",
   "id": "1dba7601-a1c4-44f3-ad24-a6fe38c5ae9c",
   "metadata": {
    "pycharm": {
     "name": "#%% md\n"
    }
   },
   "source": [
    "For the current example, use the `Z2SymTaperMapper` that exploits Z2-symmetries of the molecule Hamiltonian to reduce the problem size.\n",
    "You can confirm that using `Z2SymTaperMapper.from_problem` compared to  `FermionToQubitMapper`, the number of qubits is reduced as: \n",
    "- for $H_2$ - from 4 to 1\n",
    "- for $LiH$ from 12 to 8 (together with freezing the core orbital `first_active_index=1`)\n",
    "- for $H_{2}O$ from 14 to 10 (together with freezing the core orbital `first_active_index=1`)"
   ]
  },
  {
   "cell_type": "code",
   "execution_count": 7,
   "id": "1f520673",
   "metadata": {},
   "outputs": [
    {
     "name": "stdout",
     "output_type": "stream",
     "text": [
      "Your Hamiltonian is\n",
      "-0.32112414706764497 [] +\n",
      "0.18093119978423144 [X0] +\n",
      "0.7958748496863588 [Z0]\n",
      "number of qubits 1\n",
      "Quantum program link: http://localhost:4200/circuit/2yvV9ZXrdIkxJham4Rgyc7wpb7P\n",
      "circuit depth: 3\n"
     ]
    }
   ],
   "source": [
    "from classiq.applications.chemistry.ucc import get_ucc_hamiltonians\n",
    "from classiq.applications.chemistry.z2_symmetries import Z2SymTaperMapper\n",
    "\n",
    "problem = FermionHamiltonianProblem.from_molecule(molecule=molecule)\n",
    "mapper = Z2SymTaperMapper.from_problem(problem)\n",
    "\n",
    "\n",
    "qubit_hamiltonian = mapper.map(problem.fermion_hamiltonian)\n",
    "print(\"Your Hamiltonian is\", qubit_hamiltonian, sep=\"\\n\")\n",
    "num_qubits = mapper.get_num_qubits(problem)\n",
    "print(f\"number of qubits {num_qubits}\")\n",
    "\n",
    "\n",
    "hf_state = get_hf_state(problem, mapper)\n",
    "uccsd_hamiltonians = get_ucc_hamiltonians(problem, mapper, excitations=[1, 2])\n",
    "num_params = len(uccsd_hamiltonians)\n",
    "vqe_hamiltonian = qubit_op_to_pauli_terms(mapper.map(problem.fermion_hamiltonian))\n",
    "\n",
    "\n",
    "@qfunc\n",
    "def main(params: CArray[CReal, num_params], state: Output[QArray]):\n",
    "    prepare_basis_state(hf_state, state)\n",
    "    multi_suzuki_trotter(uccsd_hamiltonians, params, 1, 1, state)\n",
    "\n",
    "\n",
    "qmod_ucc = create_model(\n",
    "    main, execution_preferences=ExecutionPreferences(num_shots=1000)\n",
    ")\n",
    "write_qmod(qmod_ucc, \"molecule_eigensolver_ucc\", symbolic_only=False)\n",
    "qprog_ucc = synthesize(qmod_ucc)\n",
    "\n",
    "show(qprog_ucc)\n",
    "\n",
    "print(f\"circuit depth: {qprog_ucc.transpiled_circuit.depth}\")"
   ]
  },
  {
   "cell_type": "markdown",
   "id": "f12c9a32-f271-4892-8515-bd9e6b9fcf8b",
   "metadata": {
    "pycharm": {
     "name": "#%% md\n"
    }
   },
   "source": [
    "The Classiq UCC algorithm provides a highly efficient solution in terms of circuit depth and number of CX gates. These ultimately reduce the gate's time and amount of resources needed for operation."
   ]
  },
  {
   "cell_type": "markdown",
   "id": "f0745289-84a6-4a44-868b-ca3efeb175b3",
   "metadata": {
    "pycharm": {
     "name": "#%% md\n"
    }
   },
   "source": [
    "## Executing to Find the Ground State\n",
    "\n",
    "After synthesizing the model you can execute it:"
   ]
  },
  {
   "cell_type": "markdown",
   "id": "1fc1bcf0-51f9-40f8-9f80-ff0ebca7252c",
   "metadata": {},
   "source": [
    "After you specified a Hamiltonian and an ansatz, send the resulting quantum program to the VQE algorithm to find the Hamiltonian's ground state. In the process, the algorithm sends requests to a classical server, whose task is to minimize the energy expectation value and return the optimized parameters. The simulator and optimizing parameters are defined as part of the VQE part of the model. You can control the `max_iteration` value so the solution reaches a stable convergence. In addition, the `num_shots` value sets the number of measurements performed after each iteration, thus influencing the accuracy of the solutions."
   ]
  },
  {
   "cell_type": "code",
   "execution_count": 8,
   "id": "1f332c01-0304-4941-99b7-ecc4b7492e96",
   "metadata": {},
   "outputs": [],
   "source": [
    "with ExecutionSession(qprog_ucc) as es:\n",
    "    result_ucc = es.minimize(\n",
    "        cost_function=vqe_hamiltonian,\n",
    "        initial_params={\"params\": [0.0] * num_params},\n",
    "        max_iteration=200,\n",
    "    )"
   ]
  },
  {
   "cell_type": "code",
   "execution_count": 9,
   "id": "1a66d377",
   "metadata": {},
   "outputs": [
    {
     "name": "stdout",
     "output_type": "stream",
     "text": [
      "optimizer result: -1.1327078286238317\n",
      "optimal parameter: {'params': [2.9374]}\n"
     ]
    }
   ],
   "source": [
    "optimizer_res = result_ucc[-1][0]\n",
    "optimal_params = result_ucc[-1][1]\n",
    "print(f\"optimizer result: {optimizer_res}\")\n",
    "print(f\"optimal parameter: {optimal_params}\")"
   ]
  },
  {
   "cell_type": "markdown",
   "id": "f72ceeb5-bc71-46d8-a390-31ec874700f3",
   "metadata": {
    "pycharm": {
     "name": "#%% md\n"
    }
   },
   "source": [
    "Note that energy is presented in units of Hartree."
   ]
  },
  {
   "cell_type": "markdown",
   "id": "2375f3c3",
   "metadata": {},
   "source": [
    "Finally, compare the VQE solution to the classical solution:"
   ]
  },
  {
   "cell_type": "code",
   "execution_count": 11,
   "id": "5c896576",
   "metadata": {},
   "outputs": [
    {
     "name": "stdout",
     "output_type": "stream",
     "text": [
      "exact result: -1.1373060357533995\n",
      "vqe result: -1.1327078286238317\n"
     ]
    }
   ],
   "source": [
    "expected_energy = molecule.fci_energy\n",
    "print(\"exact result:\", expected_energy)\n",
    "print(\"vqe result:\", optimizer_res)"
   ]
  },
  {
   "cell_type": "markdown",
   "id": "b998e321",
   "metadata": {
    "pycharm": {
     "name": "#%% md\n"
    }
   },
   "source": [
    "[1] [Abhinav Kandala, Antonio Mezzacapo, Kristan Temme, Maika Takita, Markus Brink, Jerry M. Chow, Jay M. Gambetta Hardware-efficient variational quantum eigensolver for small molecules and quantum magnets. Nature 549, 242 (2017).](https://arxiv.org/abs/1704.05018)\n",
    "\n",
    "[2] [Panagiotis Kl. Barkoutsos, Jerome F. Gonthier, Igor Sokolov, Nikolaj Moll, Gian Salis, Andreas Fuhrer, Marc Ganzhorn, Daniel J. Egger, Matthias Troyer, Antonio Mezzacapo, Stefan Filipp, and Ivano Tavernelli Quantum algorithms for electronic structure calculations: Particle-hole Hamiltonian and optimized wave-function expansions. Phys. Rev. A 98, 022322 (2018).](https://arxiv.org/abs/1805.04340)\n"
   ]
  }
 ],
 "metadata": {
  "kernelspec": {
   "display_name": "Python 3 (ipykernel)",
   "language": "python",
   "name": "python3"
  },
  "language_info": {
   "codemirror_mode": {
    "name": "ipython",
    "version": 3
   },
   "file_extension": ".py",
   "mimetype": "text/x-python",
   "name": "python",
   "nbconvert_exporter": "python",
   "pygments_lexer": "ipython3",
   "version": "3.11.9"
  },
  "vscode": {
   "interpreter": {
    "hash": "06273a122c42fd15929f0386098ca14cf9f8c71b9613ea759dc91b2f69170a12"
   }
  }
 },
 "nbformat": 4,
 "nbformat_minor": 5
}
