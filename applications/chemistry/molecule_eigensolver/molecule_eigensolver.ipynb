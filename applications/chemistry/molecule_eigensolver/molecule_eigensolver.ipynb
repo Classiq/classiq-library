{
 "cells": [
  {
   "cell_type": "markdown",
   "id": "4fbae0f9",
   "metadata": {
    "pycharm": {
     "name": "#%% md\n"
    }
   },
   "source": [
    "# Molecule Eigensolver (VQE Method)\n",
    "\n",
    "Evaluating the ground state of a molecular Hamiltonian allows you to understand the chemical properties of the molecule. This tutorial demonstrates the use of Variational Quantum Eigensolver (VQE) to find the ground states and energies of 𝐻2, 𝐻2𝑂, and 𝐿𝑖𝐻 molecules.\n",
    "\n",
    "VQE is a leading method for finding approximate values of ground state wave functions and energies for complicated quantum systems and can give solutions for complex molecular structures. The overview of the VQE method is as follows: a problem (i.e., a molecule) is defined by a Hamiltonian whose ground state is sought. Then, a choice of a parameterized ansatz is made. A hybrid quantum-classical algorithm finds a solution for the defined parameters that minimizes the expectation value for the energy. A clever ansatz leads to an estimated ground state solution.\n",
    "\n",
    "Within the scope of Classiq's VQE algorithm, define a molecule that is translated to a concise Hamiltonian. Then, choose among types of well studied ansatzes, which are carefully selected to fit your molecule type. In the last stage, the Hamiltonian and ansatz are sent to a classical optimizer. This tutorial demonstrates the steps and options in Classiq's VQE algorithm. It presents the optimization strength of Classiq's VQE algorithm and its state-of-the-art results in terms of efficient quantum circuit, with the ultimate combination of low depth and high accuracy while minimizing the number of CX gates."
   ]
  },
  {
   "cell_type": "markdown",
   "id": "54d09062-1b3b-4e4b-8351-5e05a633e269",
   "metadata": {
    "pycharm": {
     "name": "#%% md\n"
    }
   },
   "source": [
    "## Prerequisites\n",
    "\n",
    "The model uses Classiq libraries:"
   ]
  },
  {
   "cell_type": "code",
   "execution_count": 1,
   "id": "c6bbe65f-1e6a-475c-a43f-cb4cc04bbdfa",
   "metadata": {
    "execution": {
     "iopub.execute_input": "2024-05-07T15:21:54.983816Z",
     "iopub.status.busy": "2024-05-07T15:21:54.983159Z",
     "iopub.status.idle": "2024-05-07T15:21:58.305203Z",
     "shell.execute_reply": "2024-05-07T15:21:58.304507Z"
    },
    "pycharm": {
     "name": "#%%\n"
    }
   },
   "outputs": [],
   "source": [
    "import numpy as np\n",
    "\n",
    "from classiq import *\n",
    "from classiq.applications.chemistry import (\n",
    "    ChemistryExecutionParameters,\n",
    "    HEAParameters,\n",
    "    Molecule,\n",
    "    MoleculeProblem,\n",
    "    UCCParameters,\n",
    ")\n",
    "from classiq.execution import (\n",
    "    ClassiqBackendPreferences,\n",
    "    ClassiqSimulatorBackendNames,\n",
    "    ExecutionPreferences,\n",
    "    OptimizerType,\n",
    ")"
   ]
  },
  {
   "cell_type": "markdown",
   "id": "faa3c10f",
   "metadata": {
    "pycharm": {
     "name": "#%% md\n"
    }
   },
   "source": [
    "## Generating a Qubit Hamiltonian\n",
    "\n",
    "Define the molecule to simulate, declaring the `molecule` class and inserting a list of atoms and their spacial positions. The algorithm automatically notes relevant attributes such as the atom's mass, charge, and spin.\n",
    "\n",
    "As mentioned above, this tutorial demonstrates how to define and find the ground state and energies for these molecules:"
   ]
  },
  {
   "cell_type": "code",
   "execution_count": 2,
   "id": "ef2ce57e",
   "metadata": {
    "execution": {
     "iopub.execute_input": "2024-05-07T15:21:58.308346Z",
     "iopub.status.busy": "2024-05-07T15:21:58.307789Z",
     "iopub.status.idle": "2024-05-07T15:21:58.312947Z",
     "shell.execute_reply": "2024-05-07T15:21:58.312497Z"
    },
    "pycharm": {
     "name": "#%%\n"
    }
   },
   "outputs": [],
   "source": [
    "molecule_H2 = Molecule(atoms=[(\"H\", (0.0, 0.0, 0)), (\"H\", (0.0, 0.0, 0.735))])\n",
    "molecule_O2 = Molecule(atoms=[(\"O\", (0.0, 0.0, 0)), (\"O\", (0.0, 0.0, 1.16))])\n",
    "molecule_LiH = Molecule(atoms=[(\"H\", (0.0, 0.0, 0.0)), (\"Li\", (0.0, 0.0, 1.596))])\n",
    "molecule_H2O = Molecule(\n",
    "    atoms=[(\"O\", (0.0, 0.0, 0.0)), (\"H\", (0, 0.586, 0.757)), (\"H\", (0, 0.586, -0.757))]\n",
    ")\n",
    "molecule_BeH2 = Molecule(\n",
    "    atoms=[(\"Be\", (0.0, 0.0, 0.0)), (\"H\", (0, 0, 1.334)), (\"H\", (0, 0, -1.334))]\n",
    ")"
   ]
  },
  {
   "cell_type": "markdown",
   "id": "ab162f48",
   "metadata": {
    "pycharm": {
     "name": "#%% md\n"
    }
   },
   "source": [
    "You can construct any valid assambly of atoms in a similar manner. The distances are received in Å ($10^{-10} m$). While this demonstration continues with a specific molecule, you can change the `molecule` below to study other cases."
   ]
  },
  {
   "cell_type": "code",
   "execution_count": 3,
   "id": "2e77678f",
   "metadata": {
    "execution": {
     "iopub.execute_input": "2024-05-07T15:21:58.315498Z",
     "iopub.status.busy": "2024-05-07T15:21:58.314960Z",
     "iopub.status.idle": "2024-05-07T15:21:58.318124Z",
     "shell.execute_reply": "2024-05-07T15:21:58.317557Z"
    },
    "pycharm": {
     "name": "#%%\n"
    }
   },
   "outputs": [],
   "source": [
    "molecule = molecule_H2"
   ]
  },
  {
   "cell_type": "markdown",
   "id": "c4a541a5",
   "metadata": {
    "pycharm": {
     "name": "#%% md\n"
    }
   },
   "source": [
    "Define the parameters of the Hamiltonian generation program:\n",
    "- `mapping` (str): the mapping between the fermionic Hamiltonian and and qubits Hamiltonian. Supported types:\n",
    "- \n",
    "        - \"jordan_wigner\"\n",
    "        - \"parity\"\n",
    "        - \"bravyi_kitaev\"\n",
    "        - \"fast_bravyi_kitaev\"\n",
    "- `freeze_core` (bool): removes the \"core\" orbitals of the atoms defining the molecule.\n",
    "- `z2_symmetries` (bool): whether to perform z2 symmetries reduction. If symmetries in the molecules exist, this option decreases the number of qubits used, making the Hamiltonian and thus the calculations more efficient.\n",
    "\n",
    "Finally, the Hamiltonian is generated from `MoleculeProblem`."
   ]
  },
  {
   "cell_type": "code",
   "execution_count": 4,
   "id": "2e0426d5",
   "metadata": {
    "execution": {
     "iopub.execute_input": "2024-05-07T15:21:58.320678Z",
     "iopub.status.busy": "2024-05-07T15:21:58.320142Z",
     "iopub.status.idle": "2024-05-07T15:22:03.633083Z",
     "shell.execute_reply": "2024-05-07T15:22:03.632220Z"
    }
   },
   "outputs": [
    {
     "name": "stdout",
     "output_type": "stream",
     "text": [
      "Your Hamiltonian is\n",
      "-1.041 * I\n",
      "-0.796 * Z\n",
      "+0.181 * X\n"
     ]
    }
   ],
   "source": [
    "chemistry_problem = MoleculeProblem(\n",
    "    molecule=molecule,\n",
    "    mapping=\"jordan_wigner\",  #'bravyi_kitaev'\n",
    "    z2_symmetries=True,\n",
    "    freeze_core=True,\n",
    ")\n",
    "\n",
    "operator = chemistry_problem.generate_hamiltonian()\n",
    "gs_problem = chemistry_problem.update_problem(operator.num_qubits)\n",
    "print(\"Your Hamiltonian is\", operator.show(), sep=\"\\n\")"
   ]
  },
  {
   "cell_type": "markdown",
   "id": "67a124c2-33fc-420c-8cb3-0002f18f4e77",
   "metadata": {
    "pycharm": {
     "name": "#%% md\n"
    }
   },
   "source": [
    "The output of the above code lines is the Hamiltonian presented as a superposition of Pauli matrices multiplication.\n",
    "You can confirm that using z2*symmetries=True, the number of qubits is reduced (compared to z2_symmetries=False): \n",
    "- for $H_2$ - from 4 to 1\n",
    "- for $LiH$ from 12 to 8\n",
    "- for $H*{2}O$ from 14 to 10"
   ]
  },
  {
   "cell_type": "markdown",
   "id": "8abe3e3d-1b01-4fab-b86a-feaab3851950",
   "metadata": {
    "pycharm": {
     "name": "#%% md\n"
    }
   },
   "source": [
    "## Constructing and Synthesizing a Ground State Solver\n",
    "\n",
    "A ground state solver model consists of a parameterized eigenfunction (\"the ansatz\"), on which to run a VQE. In addition, a postprocess of the result returns the total energy (combining the ground state energy of the Hamiltonian, the nuclear repulsion, and the static nuclear energy).\n",
    "\n",
    "Specify a Hamiltonian and an ansatz, then send them to the VQE algorithm to find the Hamiltonian's ground state. In the process, the algorithm sends requests to a classical server, whose task is to minimize the energy expectation value and return the optimized parameters. The simulator and optimizing parameters are defined as part of the VQE part of the model. You can control the `max_iteration` value so the solution reaches a stable convergence. In addition, the `num_shots` value sets the number of measurements performed after each iteration, thus influencing the accuracy of the solutions.\n",
    "\n",
    "Below are two proposals for the wavefunction solution ansatz: \n",
    "- Hardware (HW) efficient\n",
    "- Unitary Coupled Cluster (UCC)\n",
    "\n",
    "For groundstate solvers, it is typical to initialize the ansatz with the Hartree-Fock state."
   ]
  },
  {
   "cell_type": "markdown",
   "id": "07ed8f8e-485b-4f0f-93b7-78e7fd6fbe39",
   "metadata": {
    "pycharm": {
     "name": "#%% md\n"
    }
   },
   "source": [
    "### HW Efficient Ansatz\n",
    "\n",
    "The suggested HW efficient ansatz solution is generated to fit a specific hardware [1]. The ansatz creates a state with a given number of parameters according to your choice of the number of qubits that fits the Hamiltonian, and creates entanglement between the qubits using the inputed connectivity map. This example uses a four qubit map, which is specifically made of $H_2$ with z2_symmetries=False.\n",
    "\n",
    "After constructing the model, synthesize it and view the output circuit, creating the state with an interactive interface."
   ]
  },
  {
   "cell_type": "code",
   "execution_count": 5,
   "id": "90b20061-8dbd-4136-adba-28ddacb1f583",
   "metadata": {
    "execution": {
     "iopub.execute_input": "2024-05-07T15:22:03.637345Z",
     "iopub.status.busy": "2024-05-07T15:22:03.637033Z",
     "iopub.status.idle": "2024-05-07T15:22:03.660043Z",
     "shell.execute_reply": "2024-05-07T15:22:03.659362Z"
    }
   },
   "outputs": [],
   "source": [
    "chemistry_problem = MoleculeProblem(\n",
    "    molecule=molecule,\n",
    "    mapping=\"jordan_wigner\",  #'bravyi_kitaev'\n",
    "    z2_symmetries=False,\n",
    "    freeze_core=True,\n",
    ")\n",
    "\n",
    "hwea_params = HEAParameters(\n",
    "    num_qubits=4,\n",
    "    connectivity_map=[(0, 1), (1, 2), (2, 3)],\n",
    "    reps=3,\n",
    "    one_qubit_gates=[\"x\", \"ry\"],\n",
    "    two_qubit_gates=[\"cx\"],\n",
    ")\n",
    "\n",
    "qmod_hwea = construct_chemistry_model(\n",
    "    chemistry_problem=chemistry_problem,\n",
    "    use_hartree_fock=True,\n",
    "    ansatz_parameters=hwea_params,\n",
    "    execution_parameters=ChemistryExecutionParameters(\n",
    "        optimizer=OptimizerType.COBYLA,\n",
    "        max_iteration=30,\n",
    "        initial_point=None,\n",
    "    ),\n",
    ")\n",
    "\n",
    "backend_preferences = ClassiqBackendPreferences(\n",
    "    backend_name=ClassiqSimulatorBackendNames.SIMULATOR\n",
    ")\n",
    "\n",
    "qmod_hwea = set_execution_preferences(\n",
    "    qmod_hwea,\n",
    "    execution_preferences=ExecutionPreferences(\n",
    "        num_shots=1000, backend_preferences=backend_preferences\n",
    "    ),\n",
    "    out_file=\"molecule_eigensolver\",\n",
    ")"
   ]
  },
  {
   "cell_type": "code",
   "execution_count": 7,
   "id": "22cd12d1-2c87-400a-a983-b2f24e40fa45",
   "metadata": {
    "execution": {
     "iopub.execute_input": "2024-05-07T15:22:03.690648Z",
     "iopub.status.busy": "2024-05-07T15:22:03.689438Z",
     "iopub.status.idle": "2024-05-07T15:22:17.207052Z",
     "shell.execute_reply": "2024-05-07T15:22:17.206288Z"
    }
   },
   "outputs": [
    {
     "name": "stdout",
     "output_type": "stream",
     "text": [
      "Opening: https://platform.classiq.io/circuit/dd765d79-bcdb-49e0-85be-74af8c1b3f86?version=0.41.0.dev39%2B79c8fd0855\n"
     ]
    }
   ],
   "source": [
    "qprog_hwea = synthesize(qmod_hwea)\n",
    "show(qprog_hwea)"
   ]
  },
  {
   "cell_type": "markdown",
   "id": "7fb92cdc",
   "metadata": {
    "pycharm": {
     "name": "#%% md\n"
    }
   },
   "source": [
    "### UCC Ansatz\n",
    "\n",
    "Create the commonly used chemistry-inspired UCC ansatz, which is a unitary version of the classical coupled cluster (CC) method [2].\n",
    "\n",
    "The parameter that defines the UCC ansatz:\n",
    "`excitations` (List[int] or List[str]): list of desired excitations. Allowed excitations:\n",
    "\n",
    "- 1 for singles\n",
    "- 2 for doubles\n",
    "- 3 for triples\n",
    "- 4 for quadruples\n",
    "\n",
    "Once again, after running the code lines below, you can view the output circuit that creates the state with an interactive interface and print the depth of the circuit.\n"
   ]
  },
  {
   "cell_type": "code",
   "execution_count": 8,
   "id": "1f520673",
   "metadata": {
    "execution": {
     "iopub.execute_input": "2024-05-07T15:22:17.210966Z",
     "iopub.status.busy": "2024-05-07T15:22:17.210537Z",
     "iopub.status.idle": "2024-05-07T15:22:42.664650Z",
     "shell.execute_reply": "2024-05-07T15:22:42.663927Z"
    }
   },
   "outputs": [
    {
     "name": "stdout",
     "output_type": "stream",
     "text": [
      "Opening: https://platform.classiq.io/circuit/39cf374d-1965-4081-85bf-75c71cd73296?version=0.41.0.dev39%2B79c8fd0855\n",
      "circuit depth: 3\n"
     ]
    }
   ],
   "source": [
    "chemistry_problem = MoleculeProblem(\n",
    "    molecule=molecule,\n",
    "    mapping=\"jordan_wigner\",  #'bravyi_kitaev'\n",
    "    z2_symmetries=True,\n",
    "    freeze_core=True,\n",
    ")\n",
    "\n",
    "serialized_chemistry_model = construct_chemistry_model(\n",
    "    chemistry_problem=chemistry_problem,\n",
    "    use_hartree_fock=True,\n",
    "    ansatz_parameters=UCCParameters(excitations=[1, 2]),\n",
    "    execution_parameters=ChemistryExecutionParameters(\n",
    "        optimizer=OptimizerType.COBYLA,\n",
    "        max_iteration=30,\n",
    "        initial_point=None,\n",
    "    ),\n",
    ")\n",
    "\n",
    "backend_preferences = ClassiqBackendPreferences(\n",
    "    backend_name=ClassiqSimulatorBackendNames.SIMULATOR\n",
    ")\n",
    "\n",
    "serialized_chemistry_model = set_execution_preferences(\n",
    "    serialized_chemistry_model,\n",
    "    execution_preferences=ExecutionPreferences(\n",
    "        num_shots=1000, backend_preferences=backend_preferences\n",
    "    ),\n",
    ")\n",
    "\n",
    "qprog_ucc = synthesize(serialized_chemistry_model)\n",
    "show(qprog_ucc)\n",
    "\n",
    "circuit = QuantumProgram.from_qprog(qprog_ucc)\n",
    "print(f\"circuit depth: {circuit.transpiled_circuit.depth}\")"
   ]
  },
  {
   "cell_type": "markdown",
   "id": "f12c9a32-f271-4892-8515-bd9e6b9fcf8b",
   "metadata": {
    "pycharm": {
     "name": "#%% md\n"
    }
   },
   "source": [
    "The Classiq UCC algorithm provides a highly efficient solution in terms of circuit depth and number of CX gates. These ultimately reduce the gate's time and amount of resources needed for operation."
   ]
  },
  {
   "cell_type": "markdown",
   "id": "ef36661f",
   "metadata": {
    "pycharm": {
     "name": "#%% md\n"
    }
   },
   "source": [
    "## Executing to Find the Ground State\n",
    "\n",
    "After synthesizing the model you can execute it:"
   ]
  },
  {
   "cell_type": "code",
   "execution_count": 9,
   "id": "1a66d377",
   "metadata": {
    "execution": {
     "iopub.execute_input": "2024-05-07T15:22:42.670417Z",
     "iopub.status.busy": "2024-05-07T15:22:42.669946Z",
     "iopub.status.idle": "2024-05-07T15:22:50.224366Z",
     "shell.execute_reply": "2024-05-07T15:22:50.223567Z"
    }
   },
   "outputs": [],
   "source": [
    "result = execute(qprog_ucc).result()\n",
    "chemistry_result_dict = result[1].value"
   ]
  },
  {
   "cell_type": "markdown",
   "id": "f72ceeb5-bc71-46d8-a390-31ec874700f3",
   "metadata": {
    "pycharm": {
     "name": "#%% md\n"
    }
   },
   "source": [
    "Execution of the quantum program returns several useful outputs:\n",
    "- `energy` : the output of the VQE algorithm - the electronic energy simulated.\n",
    "- `nuclear_repulsion` : the electrostatic energy generated by the atom's nuclei.\n",
    "- `hartree_fock_energy` : the Hartree-Fock energy.\n",
    "- `total_energy` : the ground state energy of the Hamiltonian (combining the energy, the nuclear repulsion, and the static nuclear energy).\n",
    "\n",
    "It also contains the full VQE result from which you can get, for example:\n",
    "- `optimal_parameters` : the results for the anzatz parameters minimizing that expectation value.\n",
    "- `eigenstate` : the ground state wave function.\n",
    "\n",
    "Note that energy is presented in units of Hartree."
   ]
  },
  {
   "cell_type": "code",
   "execution_count": 10,
   "id": "437b3211",
   "metadata": {
    "execution": {
     "iopub.execute_input": "2024-05-07T15:22:50.229659Z",
     "iopub.status.busy": "2024-05-07T15:22:50.228329Z",
     "iopub.status.idle": "2024-05-07T15:22:50.239525Z",
     "shell.execute_reply": "2024-05-07T15:22:50.238826Z"
    }
   },
   "outputs": [
    {
     "data": {
      "text/plain": [
       "-1.1382090268147285"
      ]
     },
     "execution_count": 10,
     "metadata": {},
     "output_type": "execute_result"
    }
   ],
   "source": [
    "chemistry_result_dict[\"total_energy\"]"
   ]
  },
  {
   "cell_type": "code",
   "execution_count": 11,
   "id": "9a537d3c",
   "metadata": {
    "execution": {
     "iopub.execute_input": "2024-05-07T15:22:50.244086Z",
     "iopub.status.busy": "2024-05-07T15:22:50.242988Z",
     "iopub.status.idle": "2024-05-07T15:22:50.250371Z",
     "shell.execute_reply": "2024-05-07T15:22:50.249692Z"
    }
   },
   "outputs": [
    {
     "data": {
      "text/plain": [
       "{'param_0': 3.2624618497328566}"
      ]
     },
     "execution_count": 11,
     "metadata": {},
     "output_type": "execute_result"
    }
   ],
   "source": [
    "chemistry_result_dict[\"vqe_result\"][\"optimal_parameters\"]"
   ]
  },
  {
   "cell_type": "markdown",
   "id": "2375f3c3",
   "metadata": {},
   "source": [
    "Finally, compare the VQE solution to the classical solution by employing exact diagonalization:"
   ]
  },
  {
   "cell_type": "code",
   "execution_count": 12,
   "id": "5c896576",
   "metadata": {
    "execution": {
     "iopub.execute_input": "2024-05-07T15:22:50.255196Z",
     "iopub.status.busy": "2024-05-07T15:22:50.253856Z",
     "iopub.status.idle": "2024-05-07T15:22:50.261974Z",
     "shell.execute_reply": "2024-05-07T15:22:50.261293Z"
    }
   },
   "outputs": [
    {
     "name": "stdout",
     "output_type": "stream",
     "text": [
      "exact result: -1.8572750302023786\n",
      "vqe result: -1.8581780212637082\n"
     ]
    }
   ],
   "source": [
    "mat = operator.to_matrix()\n",
    "w, v = np.linalg.eig(mat)\n",
    "print(\"exact result:\", np.real(min(w)))\n",
    "print(\"vqe result:\", chemistry_result_dict[\"energy\"])"
   ]
  },
  {
   "cell_type": "markdown",
   "id": "b998e321",
   "metadata": {
    "pycharm": {
     "name": "#%% md\n"
    }
   },
   "source": [
    "[1] [Abhinav Kandala, Antonio Mezzacapo, Kristan Temme, Maika Takita, Markus Brink, Jerry M. Chow, Jay M. Gambetta Hardware-efficient variational quantum eigensolver for small molecules and quantum magnets. Nature 549, 242 (2017).](https://arxiv.org/abs/1704.05018)\n",
    "\n",
    "[2] [Panagiotis Kl. Barkoutsos, Jerome F. Gonthier, Igor Sokolov, Nikolaj Moll, Gian Salis, Andreas Fuhrer, Marc Ganzhorn, Daniel J. Egger, Matthias Troyer, Antonio Mezzacapo, Stefan Filipp, and Ivano Tavernelli Quantum algorithms for electronic structure calculations: Particle-hole Hamiltonian and optimized wave-function expansions. Phys. Rev. A 98, 022322 (2018).](https://arxiv.org/abs/1805.04340)\n"
   ]
  }
 ],
 "metadata": {
  "kernelspec": {
   "display_name": "Python 3 (ipykernel)",
   "language": "python",
   "name": "python3"
  },
  "language_info": {
   "codemirror_mode": {
    "name": "ipython",
    "version": 3
   },
   "file_extension": ".py",
   "mimetype": "text/x-python",
   "name": "python",
   "nbconvert_exporter": "python",
   "pygments_lexer": "ipython3",
   "version": "3.11.9"
  }
 },
 "nbformat": 4,
 "nbformat_minor": 5
}
