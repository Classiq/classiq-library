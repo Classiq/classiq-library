{
 "cells": [
  {
   "cell_type": "markdown",
   "id": "75e2c1fe-8a06-4f0b-8fd6-d1b6d10ce82f",
   "metadata": {},
   "source": [
    "# Quantum Phase Estimation (QPE) for Solving Molecular Energies\n",
    "\n",
    "\n",
    "Quantum Phase Estimation (QPE) is a key algorithm in quantum computing, allowing one to estimate the phase (or eigenvalue) of an eigenvector of a unitary operation. For a given Hamiltonian $H$, and an eigenvalue ${|\\psi\\rangle}$, the output of the algorithm is $\\epsilon$ where\n",
    "\n",
    "$U{|\\psi\\rangle} = e^{2\\pi i\\epsilon}{|\\psi\\rangle} , U = e^{2\\pi iH}$ .\n",
    "\n",
    "\n",
    "Therefore, by measuring the phase accumulated, the QPE algorithm allows calculating the energies relating to the chosen initial state.\n",
    "When using QPE for chemistry problems, it is common to search for the lowest energy of a given molecule. As the molecule can be written in the form of a Hamiltonian (Hermitian matrix representing the energetic forces of the structure), one only needs to insert the ground eigenvector in order to obtain the minimal energy value using QPE. However, obtaining the ground state is not a trivial problem. In order to overcome it, it is sufficient to use a state with big overlap with the ground state.\n",
    "\n",
    "We define a state ${|v\\rangle}$ which will be chosen as the algorithm's initial state. Let us define {$\\psi_i$} to be the set of (unknown) eigenvalues of $H$. Generally, any vector can be rewritten as a superposition of any basis set, thus -\n",
    "\n",
    "${|v\\rangle} = \\sum_i a_i{|\\psi_i\\rangle}$\n",
    "\n",
    "and -\n",
    "\n",
    "$U{|v\\rangle} = \\sum_i a_i e^{2\\pi i\\epsilon_i}{|\\psi_i\\rangle}$.\n",
    "\n",
    "where ${\\epsilon_i}$ are the eigenvalues of $H$, i.e. the span of energies relating to the molecule. Using execution with enough shots, one will obtain this set of $\\epsilon_i$, i.e., a subset of the Hamiltonian's eigenvalues. As we are specifically interested in $\\epsilon_0$, the ground state of $H$, it is important that there is a large overlap between ${\\psi_0}$ and ${|v\\rangle}$ so the probability to measure ${\\epsilon_0}$ is high, i.e.\n",
    "\n",
    "$P(\\epsilon_0) = |\\langle v|\\psi_0\\rangle|^2 > \\zeta $.\n",
    "\n",
    "How large is $\\zeta$? After execution, we will obtain a set of ${E_i}$. If we have done 1000 shots of execution, and $P(\\epsilon_0)>1\\%$, we should sample $\\epsilon_0$ about 10 times.\n",
    "\n",
    "A common choice for ${|v\\rangle}$ (the initial state) is the Hartree-Fock (HF) state, which typically has a large overlap with the ground state. However, other guesses for the initial state are possibly good or even better fit, and choosing the right initial state is a sort of art and an active field of research.\n",
    "\n",
    "For further reading about QPE we recommend [[1](#NC)].\n",
    "\n",
    "\n",
    "**What are the benefits of using QPE algorithm for finding a molecule's ground state?**\n",
    "\n",
    "The two most prominent methods to solve ground energy for molecules are quantum variational algorithm (VQE) and QPE. Those promise better scalability compared to classical counterparts as the molecules becomes more complex, with larger number of electrons, referring to a physical problem with more degrees of freedom.\n",
    "\n",
    "The number of parameters in VQE is closely related to the number of electrons. This may create inherent difficulty achieving high-precision calculations through sampling statistical estimators, and perhaps even not converge for very large systems. On the other hand, the number of parameters in QPE is a flexible value which is directly related to the resolution of the problem, but is not bounded with the number of electrons.\n",
    "\n",
    "Furthermore, it is known that advanced quantum algorithms based on QPE can perform electronic structure calculations in sub-exponential time with accuracy that rivals exact diagonalization methods. This guarantee of simultaneously achieving high accuracy, efficiency, and generality is a feat that is believed to be impossible for classical algorithms. For those reasons, VQE is applicable in the near term (NISQ) era, while QPE is suited for fault-tolerant design.\n",
    "\n",
    "**In this tutorial, we follow the QPE algorithm steps as follows:**\n",
    "\n",
    "1. Define a molecule and convert it into a Hamiltonian.\n",
    "\n",
    "2. Prepare the Hamiltonian for QPE: including normalization and trimming of negligible terms.\n",
    "\n",
    "3. Construct a quantum model: initializing the state for the HF state and leveraging the `qpe_flexible` function.\n",
    "\n",
    "4. Executing the circuit to find the related phases and analyzing the results to find the ground state."
   ]
  },
  {
   "cell_type": "code",
   "execution_count": 2,
   "id": "11eaf8f8-c06e-443e-ac74-5aa364f5198c",
   "metadata": {
    "ExecuteTime": {
     "end_time": "2025-03-04T20:32:05.487269Z",
     "start_time": "2025-03-04T20:32:03.276286Z"
    },
    "tags": []
   },
   "outputs": [],
   "source": [
    "## Imports\n",
    "\n",
    "import matplotlib.pyplot as plt\n",
    "import numpy as np\n",
    "\n",
    "from classiq import *\n",
    "from classiq.applications.chemistry.op_utils import qubit_op_to_pauli_terms\n",
    "\n",
    "# for chemistry\n",
    "from classiq.applications.chemistry.problems import FermionHamiltonianProblem\n",
    "from classiq.applications.chemistry.z2_symmetries import Z2SymTaperMapper"
   ]
  },
  {
   "cell_type": "markdown",
   "id": "ac537458-568d-4718-9020-408cc7232641",
   "metadata": {},
   "source": [
    "## Defining a molecule with Classiq"
   ]
  },
  {
   "cell_type": "markdown",
   "id": "00cfd366-f819-440b-90b8-7d03eb27e2a6",
   "metadata": {},
   "source": [
    "In this tutorial we choose to work on the LiH molecule:"
   ]
  },
  {
   "cell_type": "code",
   "execution_count": 3,
   "id": "2b67b2e1-94c2-4c8f-8ee9-577c79a7234f",
   "metadata": {
    "ExecuteTime": {
     "end_time": "2025-03-04T20:32:07.229353Z",
     "start_time": "2025-03-04T20:32:07.224866Z"
    },
    "tags": []
   },
   "outputs": [],
   "source": [
    "molecule_H2_geometry = [(\"H\", (0.0, 0.0, 0)), (\"H\", (0.0, 0.0, 0.735))]\n",
    "molecule_O2_geometry = [(\"O\", (0.0, 0.0, 0)), (\"O\", (0.0, 0.0, 1.16))]\n",
    "molecule_LiH_geometry = [(\"H\", (0.0, 0.0, 0.0)), (\"Li\", (0.0, 0.0, 1.596))]\n",
    "molecule_H2O_geometry = [\n",
    "    (\"O\", (0.0, 0.0, 0.0)),\n",
    "    (\"H\", (0, 0.586, 0.757)),\n",
    "    (\"H\", (0, 0.586, -0.757)),\n",
    "]\n",
    "molecule_BeH2_geometry = [\n",
    "    (\"Be\", (0.0, 0.0, 0.0)),\n",
    "    (\"H\", (0, 0, 1.334)),\n",
    "    (\"H\", (0, 0, -1.334)),\n",
    "]\n",
    "\n",
    "molecule_geometry = molecule_LiH_geometry"
   ]
  },
  {
   "cell_type": "code",
   "execution_count": 4,
   "id": "b4d0230f-1434-49db-abf9-253d1f4b3ed8",
   "metadata": {},
   "outputs": [],
   "source": [
    "from openfermion.chem import MolecularData\n",
    "from openfermionpyscf import run_pyscf\n",
    "\n",
    "geometry = molecule_H2_geometry\n",
    "\n",
    "basis = \"sto-3g\"  # Basis set\n",
    "multiplicity = 1  # Singlet state S=0\n",
    "charge = 0  # Neutral molecule\n",
    "molecule = MolecularData(molecule_geometry, basis, multiplicity, charge)\n",
    "\n",
    "molecule = run_pyscf(\n",
    "    molecule,\n",
    "    run_mp2=True,\n",
    "    run_cisd=True,\n",
    "    run_ccsd=True,\n",
    "    run_fci=True,  # relevant for small, classically solvable problems\n",
    ")"
   ]
  },
  {
   "cell_type": "code",
   "execution_count": 5,
   "id": "5d27e5df-e16e-44b2-b78a-187905577908",
   "metadata": {
    "ExecuteTime": {
     "end_time": "2025-03-04T20:32:16.972965Z",
     "start_time": "2025-03-04T20:32:07.977442Z"
    },
    "tags": []
   },
   "outputs": [
    {
     "name": "stdout",
     "output_type": "stream",
     "text": [
      "The Hamiltonian is defined on 6 qubits, and contains 231 Pauli strings\n"
     ]
    }
   ],
   "source": [
    "# define your molecule problem and mapper\n",
    "\n",
    "problem = FermionHamiltonianProblem.from_molecule(\n",
    "    molecule=molecule, first_active_index=1\n",
    ")\n",
    "mapper = Z2SymTaperMapper.from_problem(problem)\n",
    "num_qubits = mapper.get_num_qubits(problem)\n",
    "\n",
    "constant_energy = problem.fermion_hamiltonian.constant\n",
    "mol_hamiltonian = mapper.map(problem.fermion_hamiltonian - constant_energy)\n",
    "\n",
    "print(\n",
    "    f\"The Hamiltonian is defined on {num_qubits} qubits, and contains {len(mol_hamiltonian.terms)} Pauli strings\"\n",
    ")"
   ]
  },
  {
   "cell_type": "markdown",
   "id": "7e1e299b-bd9d-40e8-a1a6-c610e61f7354",
   "metadata": {},
   "source": [
    "Finally, we calculate the ground state energy as a reference solution to our quantum solver"
   ]
  },
  {
   "cell_type": "code",
   "execution_count": 6,
   "id": "ca1d9c36-2d54-45c4-b3ce-f6ee8abbb28f",
   "metadata": {
    "ExecuteTime": {
     "end_time": "2025-03-04T20:32:17.052329Z",
     "start_time": "2025-03-04T20:32:16.972582Z"
    }
   },
   "outputs": [
    {
     "name": "stdout",
     "output_type": "stream",
     "text": [
      "Expected energy: -7.882386993638953 Ha\n"
     ]
    }
   ],
   "source": [
    "classical_sol = molecule.fci_energy\n",
    "print(f\"Expected energy: {classical_sol} Ha\")"
   ]
  },
  {
   "cell_type": "markdown",
   "id": "a4f40418-500a-4d86-88e4-ca64bdaf24ac",
   "metadata": {},
   "source": [
    "## Preparing the Molecule for QPE"
   ]
  },
  {
   "cell_type": "markdown",
   "id": "034e17f6-6008-4ea7-b5de-af7626461dbb",
   "metadata": {},
   "source": [
    "### Trimming the Hamiltonian\n",
    "\n",
    "As we can see, the Hamiltonian may contain a large number of terms. In many cases we can compress the Hamiltonian by trimming small terms."
   ]
  },
  {
   "cell_type": "code",
   "execution_count": 7,
   "id": "c7d00124-e791-43f7-b910-bc1031865e37",
   "metadata": {
    "ExecuteTime": {
     "end_time": "2025-03-04T20:44:26.990326Z",
     "start_time": "2025-03-04T20:44:26.711352Z"
    }
   },
   "outputs": [
    {
     "data": {
      "image/png": "[encoded data removed]",
      "text/plain": [
       "<Figure size 640x480 with 1 Axes>"
      ]
     },
     "metadata": {},
     "output_type": "display_data"
    }
   ],
   "source": [
    "coeffs = list(mol_hamiltonian.terms.values())\n",
    "plt.semilogy(np.sort(np.abs(coeffs))[::-1], \"o\")\n",
    "plt.ylabel(r\"$|\\alpha_i|$\", fontsize=16)\n",
    "plt.xlabel(r\"$i$\", fontsize=16)\n",
    "plt.tick_params(axis=\"both\", labelsize=16)\n",
    "plt.title(\n",
    "    r\"Sorted coefficients size for Hamiltonian $H = \\sum \\alpha_i P_i$   ($P_i$ Pauli string)\"\n",
    ");"
   ]
  },
  {
   "cell_type": "markdown",
   "id": "21828537-6d50-4807-bf98-73f0a7434418",
   "metadata": {},
   "source": [
    "We define some threshold and trim the Hamiltonian accordingly:"
   ]
  },
  {
   "cell_type": "code",
   "execution_count": 8,
   "id": "a3e74354-df3d-481e-a00d-e36b69279d5a",
   "metadata": {
    "ExecuteTime": {
     "end_time": "2025-03-04T20:44:27.856262Z",
     "start_time": "2025-03-04T20:44:27.848941Z"
    }
   },
   "outputs": [
    {
     "name": "stdout",
     "output_type": "stream",
     "text": [
      "Length of trimmed Hamiltonian: 49\n"
     ]
    }
   ],
   "source": [
    "THRESHOLD = 0.03\n",
    "\n",
    "mol_hamiltonian.compress(THRESHOLD)\n",
    "print(f\"Length of trimmed Hamiltonian: {len(mol_hamiltonian.terms)}\")"
   ]
  },
  {
   "cell_type": "markdown",
   "id": "c6ef93ba-a682-474d-befd-0b0b5a691de5",
   "metadata": {},
   "source": [
    "### Normalizing the Hamiltonian for QPE\n",
    "\n",
    "Since we are working with QPE, the ground state energy is inferred as a phase, thus, we shall normalize the Hamiltonian such that its eigenvalues are in $\\left[-\\frac{1}{2},\\frac{1}{2}\\right)$. This is done by finding a bound on the maximal absolute value of eigenvalues $\\tilde{\\lambda}_{\\max}$, and normalizing the Hamiltonian by $2\\tilde{\\lambda}_{\\max}$. A simple bound is given by the sum of Pauli coefficients of the Hamiltonian."
   ]
  },
  {
   "cell_type": "code",
   "execution_count": 9,
   "id": "0639c8de-a611-4fd3-bb8a-bcd4da64485e",
   "metadata": {
    "ExecuteTime": {
     "end_time": "2025-03-04T20:44:28.271155Z",
     "start_time": "2025-03-04T20:44:28.265440Z"
    }
   },
   "outputs": [
    {
     "name": "stdout",
     "output_type": "stream",
     "text": [
      "The normalization value of the Hamiltonian is 17.61546220154498\n"
     ]
    }
   ],
   "source": [
    "def normalize_hamiltonian(hamiltonian):\n",
    "    approx_lambda_max = sum(np.abs(value) for value in hamiltonian.terms.values())\n",
    "    normalization = 2 * approx_lambda_max\n",
    "\n",
    "    normalized_mol_hamiltonian = hamiltonian * (1 / normalization)\n",
    "    return normalization, normalized_mol_hamiltonian\n",
    "\n",
    "\n",
    "normalization, normalized_mol_hamiltonian = normalize_hamiltonian(mol_hamiltonian)\n",
    "print(f\"The normalization value of the Hamiltonian is {normalization}\")"
   ]
  },
  {
   "cell_type": "markdown",
   "id": "cf78c5bb-240f-429e-aa47-d7c9720d90c1",
   "metadata": {},
   "source": [
    "## Designing the Quantum Model"
   ]
  },
  {
   "cell_type": "markdown",
   "id": "00d22272-d61f-41e6-bcbd-a2801db7ee1f",
   "metadata": {},
   "source": [
    "### Defining a powered Hamiltonian simulation\n",
    "\n",
    "We will now create a quantum model of the QPE algorithm using the Classiq platform. In particular, we will use the open library  [qpe_flexible](https://github.com/Classiq/classiq-library/blob/main/functions/qmod_library_reference/classiq_open_library/qpe/qpe.ipynb) function (see [notebook](https://github.com/Classiq/classiq-library/blob/main/tutorials/advanced_tutorials/high_level_modeling_flexible_qpe/high_level_modeling_flexible_qpe.ipynb) as well).\n",
    "\n",
    "We need to approximate the Hamiltonian simulation $e^{2\\pi i H}$, for this we will use Classiq built-in implementation for [Suzuki Trotter formulas](https://github.com/Classiq/classiq-library/blob/main/functions/qmod_library_reference/qmod_core_library/hamiltonian_evolution/suzuki_trotter/suzuki_trotter.ipynb). For a given Suzuki Trotter order $o$, we can specify a repetitions parameter $r$, which controls the level of approximation. The literature provides some lower bounds for $r$ as a function of the operator error $\\epsilon$ (defined by the dimond norm [[3](#Dimond)]). For example, Eq. (14) in Ref. [[2](#Bounds)]  states that Suzuki Trotter formula of order 2 approximates $e^{i \\sum \\alpha_m P_m t}$ up to an error $\\epsilon$, given $r$ repetitions that satisfies:\n",
    "$$\n",
    "r \\leq \\left(\\frac{2^5\\gamma_2}{3\\epsilon}\\right)^{1/2}  t^{3/2} ,\n",
    "\\tag{1}\n",
    "$$\n",
    "where $\\gamma_2 \\equiv \\sum_{l,m,n} |\\alpha_m\\alpha_n\\alpha_l| \\left |\\left[P_l,\\left[P_m, P_n\\right]\\right]\\right|_\\infty$. **In particular, we can see that the number of repetitions grows as $t^{3/2}$**.\n",
    "\n",
    "\n",
    "In QPE, we apply powered Hamiltonian simulation:\n",
    "$$\n",
    "\\left(e^{2\\pi i H}\\right)^ p = e^{2p \\pi i H},\n",
    "\\tag{2}\n",
    "$$\n",
    "and each power should be approximated with Suzuki Trotter with an appropriate order and repetitions parameters, keeping the same error per QPE iteration. We can thus use the bound above to define a powered Suzuki Trotter `qfunc` for our specific molecule.\n",
    "\n",
    "First, we first define a classical auxiliary functions that helps us to evaluate the right-hand-side in Eq. (1):"
   ]
  },
  {
   "cell_type": "code",
   "execution_count": 14,
   "id": "265b0699-1f3a-4b3f-a65c-0aec1effebe3",
   "metadata": {},
   "outputs": [],
   "source": [
    "import itertools\n",
    "\n",
    "from openfermion import QubitOperator\n",
    "from openfermion.utils import commutator\n",
    "\n",
    "\n",
    "def calculate_gamma_2(hamiltonian):\n",
    "    \"\"\"\n",
    "    Compute the $\\gamma_2$ value appearing in the bound for Suzuki Trotter of order 2\n",
    "    \"\"\"\n",
    "    gamma_2 = 0\n",
    "    for triplet in itertools.combinations(range(len(hamiltonian.terms)), 3):\n",
    "        terms = [list(hamiltonian.terms.keys())[index] for index in triplet]\n",
    "        values = [list(hamiltonian.terms.values())[index] for index in triplet]\n",
    "        factor = np.abs(values[0] * values[1] * values[2])\n",
    "        inner_commutator = commutator(\n",
    "            QubitOperator(terms[1], 1), QubitOperator(terms[0], 1)\n",
    "        ).induced_norm()\n",
    "        if inner_commutator != 0:\n",
    "            outer_commutator = (\n",
    "                2\n",
    "                * commutator(\n",
    "                    QubitOperator(terms[2], 1),\n",
    "                    QubitOperator(terms[0], 1) * QubitOperator(terms[1], 1),\n",
    "                ).induced_norm()\n",
    "            )\n",
    "            gamma_2 += factor * outer_commutator\n",
    "\n",
    "    return gamma_2"
   ]
  },
  {
   "cell_type": "markdown",
   "id": "13fd6fa0-b39e-491b-bf84-7d4996f122a1",
   "metadata": {},
   "source": [
    "In QPE, the powers of the Hamiltonian simulation grows exponentially with the phase variable size. Let us examine the number of repetitions needed per QPE iteration, according to the bound above for QPE of size 7."
   ]
  },
  {
   "cell_type": "code",
   "execution_count": 15,
   "id": "204977f9-3242-41d7-a6e2-8862aed2b031",
   "metadata": {
    "ExecuteTime": {
     "end_time": "2025-03-04T20:44:29.664418Z",
     "start_time": "2025-03-04T20:44:29.662393Z"
    }
   },
   "outputs": [
    {
     "name": "stdout",
     "output_type": "stream",
     "text": [
      "The powers of the Hamiltonian simulation along a QPE routine of size 7: \n",
      "[ 1  2  4  8 16 32 64]\n"
     ]
    }
   ],
   "source": [
    "QPE_SIZE = 7\n",
    "qpe_powers = 2 ** np.arange(QPE_SIZE)\n",
    "print(\n",
    "    f\"\"\"The powers of the Hamiltonian simulation along a QPE routine of size {QPE_SIZE}: \n",
    "{qpe_powers}\"\"\"\n",
    ")"
   ]
  },
  {
   "cell_type": "markdown",
   "id": "96671a1c-286b-4e20-a3ed-8b42a84170c2",
   "metadata": {},
   "source": [
    "These powers enter as an evolution coefficient for the Hamiltonian simulation (see Eq. (2) above). Using the theoretical bound we find"
   ]
  },
  {
   "cell_type": "code",
   "execution_count": 16,
   "id": "210fa2d5-2e1d-450e-9c20-bc3781f07b9d",
   "metadata": {
    "ExecuteTime": {
     "end_time": "2025-03-04T20:44:30.203858Z",
     "start_time": "2025-03-04T20:44:30.104505Z"
    }
   },
   "outputs": [
    {
     "name": "stdout",
     "output_type": "stream",
     "text": [
      "The theoretical bounds for the repetitions for QPE size 7, keeping an error 0.1 per QPE iteration are:\n",
      "[   5.   12.   33.   93.  261.  737. 2084.]\n"
     ]
    }
   ],
   "source": [
    "EPS = 0.1\n",
    "gamma_2_LiH = calculate_gamma_2(normalized_mol_hamiltonian)\n",
    "theoretical_r0 = np.sqrt(2**5 * gamma_2_LiH / (3 * EPS)) * (2 * np.pi) ** (3 / 2)\n",
    "\n",
    "print(\n",
    "    f\"\"\"The theoretical bounds for the repetitions for QPE size {QPE_SIZE}, keeping an error {EPS} per QPE iteration are:\n",
    "{np.ceil(theoretical_r0*qpe_powers**(3/2))}\"\"\"\n",
    ")"
   ]
  },
  {
   "cell_type": "markdown",
   "id": "f27cd6b0-ac6f-4f87-8fcd-4ea8495da3f9",
   "metadata": {},
   "source": [
    "We note that applying a naive QPE, i.e., assuming a single unitary approximated with Suzuki Trotter, $e^{iHt} \\approx {\\rm ST}(H, o, r ,t)$, and simply taking its powers, gives $\\left(e^{iHt}\\right)^p \\approx \\left({\\rm ST}(H, o, r ,t)\\right)^{p} = {\\rm ST}(H, o, pr ,pt)$."
   ]
  },
  {
   "cell_type": "code",
   "execution_count": 17,
   "id": "bb103796-9d0a-4fac-b281-8983d7e9ebd3",
   "metadata": {
    "ExecuteTime": {
     "end_time": "2025-03-04T20:44:30.533308Z",
     "start_time": "2025-03-04T20:44:30.524656Z"
    }
   },
   "outputs": [
    {
     "name": "stdout",
     "output_type": "stream",
     "text": [
      "The repetitions for QPE size 7, taking a naive QPE, per QPE iteration:\n",
      "[  5.   9.  17.  33.  66. 131. 261.]\n"
     ]
    }
   ],
   "source": [
    "print(\n",
    "    f\"\"\"The repetitions for QPE size {QPE_SIZE}, taking a naive QPE, per QPE iteration:\n",
    "{np.ceil(theoretical_r0*qpe_powers)}\"\"\"\n",
    ")"
   ]
  },
  {
   "cell_type": "markdown",
   "id": "bd52c197-23cc-4786-b937-9f0420aa9361",
   "metadata": {},
   "source": [
    "While this naive QPE results in a shallower circuit, compared to taking repetitions according to the theoretical bounds (due to smaller values of repetitions), it is unclear whether it keeps the same operator error per phase bit.\n",
    "\n",
    "In practice, the bounds given in the literature are quite loose. In this tutorial we thus take a more experimental approach. We assume that the scaling of the bound with the evolution time $t$ is similar to Eq. (1), but take a smaller prefactor. "
   ]
  },
  {
   "cell_type": "code",
   "execution_count": 18,
   "id": "8a0424ec-2f10-4ccb-a84e-c5ccd255b727",
   "metadata": {
    "ExecuteTime": {
     "end_time": "2025-03-04T20:44:31.191893Z",
     "start_time": "2025-03-04T20:44:31.190067Z"
    }
   },
   "outputs": [
    {
     "name": "stdout",
     "output_type": "stream",
     "text": [
      "The experimental repetitions for QPE size 7, per QPE iteration are:\n",
      "[ 1.  1.  1.  2.  4. 10. 26.]\n"
     ]
    }
   ],
   "source": [
    "experimental_r0 = 0.05\n",
    "print(\n",
    "    f\"\"\"The experimental repetitions for QPE size {QPE_SIZE}, per QPE iteration are:\n",
    "{np.ceil(experimental_r0*qpe_powers**(3/2))}\"\"\"\n",
    ")"
   ]
  },
  {
   "cell_type": "markdown",
   "id": "6774add1-08df-4b43-b6b5-8b9d5d9d19e1",
   "metadata": {},
   "source": [
    "Now, we use this approach to define our powered Suzuki Trotter function, for the specific Hamiltonian at hand."
   ]
  },
  {
   "cell_type": "code",
   "execution_count": 19,
   "id": "31b0c72b-9fcb-4403-a19d-9181cc716d85",
   "metadata": {
    "ExecuteTime": {
     "end_time": "2025-03-04T20:44:31.827222Z",
     "start_time": "2025-03-04T20:44:31.815368Z"
    }
   },
   "outputs": [],
   "source": [
    "from classiq.qmod.symbolic import ceiling as ceiling_qmod, pi\n",
    "\n",
    "\n",
    "@qfunc\n",
    "def powered_st2_for_LiH(p: CInt, state: QArray[QBit]):\n",
    "    multi_suzuki_trotter(\n",
    "        hamiltonians=[qubit_op_to_pauli_terms(normalized_mol_hamiltonian)],\n",
    "        evolution_coefficients=[-2 * np.pi * p],\n",
    "        order=2,\n",
    "        repetitions=ceiling_qmod(experimental_r0 * p ** (3 / 2)),\n",
    "        qbv=state,\n",
    "    )"
   ]
  },
  {
   "cell_type": "markdown",
   "id": "a17ed790-e728-4787-bbda-5ba671d2c124",
   "metadata": {},
   "source": [
    "### Defining and synthesizing the phase estimation model"
   ]
  },
  {
   "cell_type": "code",
   "execution_count": 20,
   "id": "346b55fc-c89b-4dab-8f04-558d81bdce5f",
   "metadata": {
    "ExecuteTime": {
     "end_time": "2025-03-04T20:45:38.912360Z",
     "start_time": "2025-03-04T20:44:32.740923Z"
    }
   },
   "outputs": [],
   "source": [
    "from classiq.applications.chemistry.hartree_fock import get_hf_state\n",
    "\n",
    "hf_state = get_hf_state(problem, mapper)\n",
    "\n",
    "\n",
    "@qfunc\n",
    "def main(\n",
    "    state: Output[QArray[QBit, num_qubits]],\n",
    "    phase: Output[QNum[QPE_SIZE, SIGNED, QPE_SIZE]],\n",
    ") -> None:\n",
    "\n",
    "    prepare_basis_state(hf_state, state)\n",
    "    allocate(phase)\n",
    "    qpe_flexible(lambda p: powered_st2_for_LiH(p, state), phase)\n",
    "\n",
    "\n",
    "qmod = create_model(\n",
    "    main,\n",
    "    preferences=Preferences(timeout_seconds=600),\n",
    ")\n",
    "write_qmod(qmod, \"qpe_for_molecules\", symbolic_only=False)\n",
    "\n",
    "qprog = synthesize(qmod)"
   ]
  },
  {
   "cell_type": "markdown",
   "id": "c7e16994-cca8-4b2b-b65d-79868780f749",
   "metadata": {},
   "source": [
    "## Measurment and Analysis\n"
   ]
  },
  {
   "cell_type": "markdown",
   "id": "669c971b-82e1-4553-aa60-04c281248e5f",
   "metadata": {},
   "source": [
    "First we execute on the default simulator:"
   ]
  },
  {
   "cell_type": "code",
   "execution_count": 21,
   "id": "97391a32-334b-4c85-922a-767e65eee836",
   "metadata": {
    "ExecuteTime": {
     "end_time": "2025-03-04T20:45:51.048568Z",
     "start_time": "2025-03-04T20:45:38.913523Z"
    }
   },
   "outputs": [],
   "source": [
    "res = execute(qprog).result_value()"
   ]
  },
  {
   "cell_type": "markdown",
   "id": "eacde622-296a-4c80-8369-8af68648c973",
   "metadata": {},
   "source": [
    "Next, we draw a histogram for the energies, by taking the output of the `phase` variable and multypling back the normalization facor and the constant energy."
   ]
  },
  {
   "cell_type": "code",
   "execution_count": 22,
   "id": "7bffbb3e-f3ba-44f2-b8f8-4a0432cb90e7",
   "metadata": {
    "ExecuteTime": {
     "end_time": "2025-03-04T20:45:51.135994Z",
     "start_time": "2025-03-04T20:45:51.049352Z"
    }
   },
   "outputs": [
    {
     "name": "stdout",
     "output_type": "stream",
     "text": [
      "\n",
      "Energy with maximal probability: -7.904148198365434 Ha\n",
      "Precision: 0.13762079844957015 Ha\n",
      "Classical solution:, -7.882386993638953 Ha\n"
     ]
    },
    {
     "data": {
      "image/png": "[encoded data removed]",
      "text/plain": [
       "<Figure size 640x480 with 1 Axes>"
      ]
     },
     "metadata": {},
     "output_type": "display_data"
    }
   ],
   "source": [
    "phase_counts = res.parsed_counts_of_outputs(\"phase\")\n",
    "num_shots = res.num_shots\n",
    "\n",
    "energy_results = {\n",
    "    sample.state[\"phase\"] * normalization + constant_energy: sample.shots / num_shots\n",
    "    for sample in phase_counts\n",
    "}\n",
    "\n",
    "plt.plot(energy_results.keys(), energy_results.values(), \"o\")\n",
    "\n",
    "max_prob_energy = max(energy_results, key=energy_results.get)\n",
    "\n",
    "print(f\"\\nEnergy with maximal probability: {max_prob_energy} Ha\")\n",
    "print(f\"Precision: {(2**(-QPE_SIZE))* normalization} Ha\")\n",
    "print(f\"Classical solution:, {classical_sol} Ha\")\n",
    "plt.xlabel(\"Energy (Ha)\", fontsize=16)\n",
    "plt.ylabel(\"P(Energy)\", fontsize=16)\n",
    "plt.tick_params(axis=\"both\", labelsize=16)\n",
    "plt.title(\"Energy Histogram from QPE\");"
   ]
  },
  {
   "cell_type": "markdown",
   "id": "d295b803-a203-47e5-82e8-5820b0e31b26",
   "metadata": {},
   "source": [
    "Recall that we are looking for a signal from the smallest eigenvalue, under the assumption that the initial state has some overlap with the ground state. Below we estimate the energy as the first peak of the histogram, such that the corresponding probability is larger than `ASSUMED_OVERLAP`*0.4 (0.4 is the case for ASSUMED_OVERLAP=1).\n",
    "\n",
    "*Note that this is a very rough and simplistic analysis of the QPE algorithm result. One can utilize more complex tools of spectral analysis, such as Gaussian mixtures, etc. Additional assumptions, such as difference between adjacent eigenvalues or number of overlapping eigenstates, can facilitate the analysis further.*"
   ]
  },
  {
   "cell_type": "code",
   "execution_count": 23,
   "id": "342f2fdd-1f07-4005-aecd-10155222dab4",
   "metadata": {},
   "outputs": [
    {
     "name": "stdout",
     "output_type": "stream",
     "text": [
      "Number of maxima: 1\n",
      "maxima over the threshold at [-7.904148198365434] Ha\n",
      "\n",
      "Lowest eigenvalue: -7.904148198365434 Ha\n",
      "Precision: 0.13762079844957015 Ha\n",
      "Classical solution:, -7.882386993638953 Ha\n"
     ]
    }
   ],
   "source": [
    "from scipy.signal import find_peaks\n",
    "\n",
    "ASSUMED_OVERLAP = 0.05\n",
    "\n",
    "\n",
    "def estimate_energy(data_dict, assumed_overlap):\n",
    "    max_prob = assumed_overlap * 0.4\n",
    "    data = tuple(data_dict.items())\n",
    "    data_sorted = sorted(\n",
    "        data, key=lambda x: x[0]\n",
    "    )  # sort the data according to the energy value\n",
    "    probs_sorted = [data[1] for data in data_sorted]\n",
    "    maxima = find_peaks(probs_sorted, height=max_prob)[0]\n",
    "    print(f\"Number of maxima: {maxima.size}\")\n",
    "    if maxima.size == 0 and np.all(np.array(probs_sorted) <= max_prob):\n",
    "        print(\n",
    "            \"\"\"No probabilities above threshold were found, try to increase the assumed_overlap. \n",
    "Returning energy with max probability\"\"\"\n",
    "        )\n",
    "        return max(data_dict, key=data_dict.get)\n",
    "    elif maxima.size == 0:  # strictly increasing or decreasing function\n",
    "        return max(data_dict, key=data_dict.get)\n",
    "    else:\n",
    "        print(\n",
    "            f\"maxima over the threshold at {[data_sorted[maxima[k]][0] for k in range(maxima.size)]} Ha\"\n",
    "        )\n",
    "        return data_sorted[maxima[0]][0]\n",
    "\n",
    "\n",
    "measured_energy = estimate_energy(energy_results, ASSUMED_OVERLAP)\n",
    "print(f\"\\nLowest eigenvalue: {measured_energy} Ha\")\n",
    "print(f\"Precision: {(2**(-QPE_SIZE))* normalization} Ha\")\n",
    "print(f\"Classical solution:, {classical_sol} Ha\")"
   ]
  },
  {
   "cell_type": "markdown",
   "id": "9797b512-d41f-47c1-8c0f-4134f0500b80",
   "metadata": {},
   "source": [
    "## References\n",
    "\n",
    "<a name='NC'>[1]</a>: [Michael A. Nielsen and Isaac L. Chuang. 2011. Quantum Computation and Quantum Information: 10th Anniversary Edition, Cambridge University Press, New York, NY, USA.\n",
    "](https://archive.org/details/QuantumComputationAndQuantumInformation10thAnniversaryEdition)\n",
    "\n",
    "<a name='Bounds'>[2]</a>: [M. Hagan and N. Wiebe. Composite Quantum Simulations, Quantum 7, 1881 (2023).\n",
    "](https://quantum-journal.org/papers/q-2023-11-14-1181/)\n",
    "\n",
    "<a name='Diamond'>[3]</a>: [Diamond Norm (Wikipedia)\n",
    "](https://en.wikipedia.org/wiki/Diamond_norm)\n",
    "\n"
   ]
  }
 ],
 "metadata": {
  "kernelspec": {
   "display_name": "Python 3 (ipykernel)",
   "language": "python",
   "name": "python3"
  },
  "language_info": {
   "codemirror_mode": {
    "name": "ipython",
    "version": 3
   },
   "file_extension": ".py",
   "mimetype": "text/x-python",
   "name": "python",
   "nbconvert_exporter": "python",
   "pygments_lexer": "ipython3",
   "version": "3.11.9"
  }
 },
 "nbformat": 4,
 "nbformat_minor": 5
}
