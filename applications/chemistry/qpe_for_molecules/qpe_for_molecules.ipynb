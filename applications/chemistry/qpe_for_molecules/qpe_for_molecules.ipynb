{
 "cells": [
  {
   "cell_type": "markdown",
   "id": "75e2c1fe-8a06-4f0b-8fd6-d1b6d10ce82f",
   "metadata": {},
   "source": [
    "# Quantum Phase Estimation (QPE) for Solving Molecular Energies\n",
    "\n",
    "\n",
    "Quantum Phase Estimation (QPE) is a key algorithm in quantum computing, allowing one to estimate the phase (or eigenvalue) of an eigenvector of a unitary operation. The algorithm is designed so, that for a given Hamiltonian $H$, and an eigenvalue ${|\\psi\\rangle}$, the output that will be obtained is $\\epsilon$ where\n",
    "\n",
    "$U{|\\psi\\rangle} = e^{2\\pi i\\epsilon}{|\\psi\\rangle} , U = e^{2\\pi iH}$ .\n",
    "\n",
    "\n",
    "Therefore, by measuring the phase accumulated, the QPE algorithm allows calculating the energies relating to the chosen initial state.\n",
    "When using QPE for chemistry problems, it is common to search for the lowest energy of a given molecule. As the molecule can be written in the form of a Hamiltonian (Hermitian matrix which meaning is the energetic forces of the structure), usually symbolized by \"H\", one only need to insert the ground eigenvector in order to obtain the minimal energy value using QPE. However, obtaining the ground state is not a trivial problem. In order to overcome it, it is sufficient to use a state with big overlap with the ground state.\n",
    "\n",
    "We define a state ${|v\\rangle}$ which will be chosen as the algorithm's initial state. Let us define {$\\psi_i$} to be the set of (unknown) eigenvalues of $H$. Generally, any vector can be rewritten as a superposition of any basis set, thus -\n",
    "\n",
    "${|v\\rangle} = \\sum_i a_i{|\\psi_i\\rangle}$\n",
    "\n",
    "and -\n",
    "\n",
    "$U{|v\\rangle} = \\sum_i a_i e^{2\\pi i\\epsilon_i}{|\\psi_i\\rangle}$.\n",
    "\n",
    "where ${\\epsilon_i}$ are the eigenvalues of H, i.e. the span of energies relating to the molecule. Using execution with enough shots, one will obtain this set of $\\theta_i$, i.e., a subset of the Hamiltonian's eigenvalues. As we are specifically interested in $\\epsilon_0$, the ground state of H, it is important that there is a large overlap between ${\\psi_0}$ and ${|v\\rangle}$ so the probability to measure ${\\epsilon_0}$ is high, i.e.\n",
    "\n",
    "$P(\\epsilon_0) = |\\langle v|\\psi_0\\rangle|^2 > \\epsilon $.\n",
    "\n",
    "How large is $\\epsilon$? After execution, we will obtain a set of ${E_i}$.\n",
    "If we have done 1000 shots of execution, and $P(\\epsilon_0)>1$, it should be measured is about 10 times to get a good statistical variance.\n",
    "\n",
    "A common choice for ${|v\\rangle}$ (the initial state) is the Hartree-Fock (HF) state, which with good probability have a large overlap with the ground state. However, other guesses for the initial state are possibly good or even better fit, and choosing the right initial state is a sort of art and an active field of research.\n",
    "\n",
    "For further reading about QPE we recommend [[1](#NC)].\n",
    "\n",
    "\n",
    "#### What are the benefits of using QPE algorithm for finding a molecule's ground state?\n",
    "\n",
    "The two most prominent methods to solve ground energy for molecules are quantum variational algorithm (VQE) and QPE. Those promise better scalability compared to classical counterparts as the molecules becomes more complex, with larger number of electrons manifesting as more degrees of freedom for the problem.\n",
    "\n",
    "While so, the number of parameters in VQE is closely related to the number of electrons. This may create inherent difficulty achieving high-precision calculations through sampling statistical estimators, and paraphs even not converge for very large systems. While so, the number of parameters in QPE is a flexible value which is directly related to the resolution of the problem, but is not bonded with the number of electrons.\n",
    "\n",
    "Furthermore, it is known that advanced quantum algorithms based on QPE can perform electronic structure calculations in sub-exponential time with accuracy that rivals exact diagonalization methods. This guarantee of simultaneously achieving high accuracy, efficiency, and generality is a feat that is believed to be impossible for classical algorithms. For those reasons, VQE is applicable in the near term (NISQ) era, while QPE is suited for fault-tolerant design.\n",
    "\n",
    "#### During this tutorial, we will follow the QPE algorithms steps as following:\n",
    "\n",
    "a. Define a molecule and convert it into a Hamiltonian H, manifested as a pauli list.\n",
    "\n",
    "b. Prepare the Hamiltonian for QPE: including normalization and choosing the resolution.\n",
    "\n",
    "c. Initializing the state for the HF state.\n",
    "\n",
    "d. Preparing the quantum circuit.\n",
    "\n",
    "e. Executing the circuit to find the related phases and analyzing the results to find the ground state.\n",
    "\n",
    "f. Comparing the QPE results with exact solution for the molecule’s ground state."
   ]
  },
  {
   "cell_type": "markdown",
   "id": "7cd71faa-1ef3-4d67-8c9a-d66e0a895b9a",
   "metadata": {},
   "source": [
    "## 0. Pre-requirments\n",
    "\n",
    "The model is using several Classiq's libraries in addition to IBM's simulating tool."
   ]
  },
  {
   "cell_type": "code",
   "execution_count": 1,
   "id": "11eaf8f8-c06e-443e-ac74-5aa364f5198c",
   "metadata": {
    "execution": {
     "iopub.execute_input": "2023-12-06T02:44:24.082582Z",
     "iopub.status.busy": "2023-12-06T02:44:24.082077Z",
     "iopub.status.idle": "2023-12-06T02:44:26.955358Z",
     "shell.execute_reply": "2023-12-06T02:44:26.954577Z"
    },
    "tags": []
   },
   "outputs": [],
   "source": [
    "import matplotlib.pyplot as plt\n",
    "import numpy as np\n",
    "import scipy\n",
    "from numpy import linalg as LA\n",
    "\n",
    "# for chemistry\n",
    "from classiq import Model\n",
    "from classiq.applications.chemistry import Molecule, MoleculeProblem\n",
    "\n",
    "# for exponentiation\n",
    "from classiq.builtin_functions import (\n",
    "    UCC,\n",
    "    Exponentiation,\n",
    "    HardwareEfficientAnsatz,\n",
    "    HartreeFock,\n",
    "    PhaseEstimation,\n",
    "    StatePreparation,\n",
    "    UnitaryGate,\n",
    ")\n",
    "from classiq.builtin_functions.exponentiation import (\n",
    "    ExponentiationConstraints,\n",
    "    ExponentiationOptimization,\n",
    "    PauliOperator,\n",
    ")\n",
    "from classiq.execution import IBMBackendPreferences\n",
    "\n",
    "# for state preperation and phase estimation\n",
    "from classiq.model import Constraints, Preferences"
   ]
  },
  {
   "cell_type": "markdown",
   "id": "ac537458-568d-4718-9020-408cc7232641",
   "metadata": {},
   "source": [
    "## 1. Create Your Molecule"
   ]
  },
  {
   "cell_type": "code",
   "execution_count": 2,
   "id": "2b67b2e1-94c2-4c8f-8ee9-577c79a7234f",
   "metadata": {
    "execution": {
     "iopub.execute_input": "2023-12-06T02:44:26.959342Z",
     "iopub.status.busy": "2023-12-06T02:44:26.958676Z",
     "iopub.status.idle": "2023-12-06T02:44:26.967640Z",
     "shell.execute_reply": "2023-12-06T02:44:26.966551Z"
    },
    "tags": []
   },
   "outputs": [],
   "source": [
    "# build your molecule\n",
    "\n",
    "molecule_H2 = Molecule(atoms=[(\"H\", (0.0, 0.0, 0)), (\"H\", (0.0, 0.0, 0.735))])\n",
    "molecule_O2 = Molecule(atoms=[(\"O\", (0.0, 0.0, 0)), (\"O\", (0.0, 0.0, 1.16))])\n",
    "molecule_LiH = Molecule(atoms=[(\"H\", (0.0, 0.0, 0.0)), (\"Li\", (0.0, 0.0, 1.596))])\n",
    "molecule_H2O = Molecule(\n",
    "    atoms=[(\"O\", (0.0, 0.0, 0.0)), (\"H\", (0, 0.586, 0.757)), (\"H\", (0, 0.586, -0.757))]\n",
    ")\n",
    "molecule_BeH2 = Molecule(\n",
    "    atoms=[(\"Be\", (0.0, 0.0, 0.0)), (\"H\", (0, 0, 1.334)), (\"H\", (0, 0, -1.334))]\n",
    ")"
   ]
  },
  {
   "cell_type": "code",
   "execution_count": 3,
   "id": "9e37fada-9ecc-4a24-bf2c-0994e9c14149",
   "metadata": {
    "execution": {
     "iopub.execute_input": "2023-12-06T02:44:26.970670Z",
     "iopub.status.busy": "2023-12-06T02:44:26.970413Z",
     "iopub.status.idle": "2023-12-06T02:44:26.976374Z",
     "shell.execute_reply": "2023-12-06T02:44:26.975660Z"
    },
    "tags": []
   },
   "outputs": [],
   "source": [
    "# define your molecule\n",
    "\n",
    "molecule = molecule_H2"
   ]
  },
  {
   "cell_type": "code",
   "execution_count": 4,
   "id": "5d27e5df-e16e-44b2-b78a-187905577908",
   "metadata": {
    "execution": {
     "iopub.execute_input": "2023-12-06T02:44:26.979449Z",
     "iopub.status.busy": "2023-12-06T02:44:26.979223Z",
     "iopub.status.idle": "2023-12-06T02:44:29.686217Z",
     "shell.execute_reply": "2023-12-06T02:44:29.685523Z"
    },
    "tags": []
   },
   "outputs": [
    {
     "name": "stdout",
     "output_type": "stream",
     "text": [
      "Your Hamiltonian is\n",
      "-1.041 * I\n",
      "-0.796 * Z\n",
      "+0.181 * X\n"
     ]
    }
   ],
   "source": [
    "# define your molecule problem\n",
    "\n",
    "gs_problem = MoleculeProblem(\n",
    "    molecule=molecule,\n",
    "    basis=\"sto3g\",\n",
    "    mapping=\"jordan_wigner\",  #'bravyi_kitaev'\n",
    "    z2_symmetries=True,\n",
    "    freeze_core=True,\n",
    ")\n",
    "\n",
    "operator = gs_problem.generate_hamiltonian()\n",
    "gs_problem = gs_problem.update_problem(operator.num_qubits)\n",
    "print(\"Your Hamiltonian is\", operator.show(), sep=\"\\n\")"
   ]
  },
  {
   "cell_type": "code",
   "execution_count": 5,
   "id": "7a0b57c6-a057-41cb-8163-cc91d559bbdd",
   "metadata": {
    "execution": {
     "iopub.execute_input": "2023-12-06T02:44:29.689630Z",
     "iopub.status.busy": "2023-12-06T02:44:29.689131Z",
     "iopub.status.idle": "2023-12-06T02:44:29.695177Z",
     "shell.execute_reply": "2023-12-06T02:44:29.694573Z"
    },
    "tags": []
   },
   "outputs": [
    {
     "name": "stdout",
     "output_type": "stream",
     "text": [
      "Your Pauli list is\n",
      "[('I', (-1.041093141516624+0j)), ('Z', (-0.7958748496863586+0j)), ('X', (0.18093119978423122+0j))]\n"
     ]
    }
   ],
   "source": [
    "pauli_ops = operator.pauli_list\n",
    "pauli_operator = PauliOperator(pauli_list=pauli_ops)\n",
    "N = pauli_operator.num_qubits\n",
    "print(\"Your Pauli list is\", pauli_ops, sep=\"\\n\")"
   ]
  },
  {
   "cell_type": "markdown",
   "id": "685f4a01-caf3-4d0c-b9f3-4fc89bc5192a",
   "metadata": {},
   "source": [
    "## 2. Preparing the Molecule for QPE"
   ]
  },
  {
   "cell_type": "markdown",
   "id": "1b1bafad-d35c-4504-9665-02b0ae86d52f",
   "metadata": {},
   "source": [
    "### 2.1 Chose the Algorithm's Precision\n",
    "\n",
    "For QPE algorithms, the precision is set by the number of qubits chosen $n$, such that the resolution is $1/{2^n}$. In case the matrix needs to be normlized, the resolution will be distorted. In case of normalization, that the span of results in the QPE is strached between the lowest and highest possible phase, thus the reslution will be mapped to $normalization-coefficient/{2^n} ~\\sim 1/{((\\lambda_{max}-\\lambda_{min})*2^n)}$.\n",
    "\n",
    "Here you can chose the precision in the parameter `n_qpe`, or by setting your desired resolution. If you chose your desired resolution and set the parameter `get_recommended_n` to be True, the number of qubits will be calculated for you accordingly.\n"
   ]
  },
  {
   "cell_type": "code",
   "execution_count": 6,
   "id": "4e96164f-aa00-4723-9f59-b1c13ccb58d8",
   "metadata": {
    "execution": {
     "iopub.execute_input": "2023-12-06T02:44:29.698378Z",
     "iopub.status.busy": "2023-12-06T02:44:29.697933Z",
     "iopub.status.idle": "2023-12-06T02:44:29.700983Z",
     "shell.execute_reply": "2023-12-06T02:44:29.700382Z"
    },
    "tags": []
   },
   "outputs": [],
   "source": [
    "# `n_qpe`-  The precision of the QPE (the number of qubits to be used in the QPE. Creates resolution of 1/2^n_qpe\n",
    "n_qpe = 6"
   ]
  },
  {
   "cell_type": "code",
   "execution_count": 7,
   "id": "74aeea8b-1e16-408f-bc5f-c5888b552a6f",
   "metadata": {
    "execution": {
     "iopub.execute_input": "2023-12-06T02:44:29.704000Z",
     "iopub.status.busy": "2023-12-06T02:44:29.703562Z",
     "iopub.status.idle": "2023-12-06T02:44:29.711165Z",
     "shell.execute_reply": "2023-12-06T02:44:29.710567Z"
    },
    "tags": []
   },
   "outputs": [],
   "source": [
    "# recommanded n_qpe:\n",
    "get_recommanded_n = False\n",
    "\n",
    "import math\n",
    "\n",
    "desired_resolution = 0.02\n",
    "\n",
    "\n",
    "def get_nqpe(pauli_operator, desired_resolution):\n",
    "    N = pauli_operator.num_qubits\n",
    "    A = 0\n",
    "    for a, b in pauli_operator.pauli_list:\n",
    "        A = A + abs(b)\n",
    "    nqpe = math.log2(2 * N * A / desired_resolution)\n",
    "    return math.ceil(nqpe)\n",
    "\n",
    "\n",
    "if get_recommanded_n:\n",
    "    n_qpe = get_nqpe(pauli_operator, desired_resolution)\n",
    "    print(\"number of qubits for QPE is\", n_qpe)"
   ]
  },
  {
   "cell_type": "markdown",
   "id": "fa3d1079-c12b-48db-8935-1ea059fdbce9",
   "metadata": {},
   "source": [
    "### 2.3 Normalize the Matrix\n",
    "\n",
    "As QPE obtains a phase in the form $e^{2\\pi i\\theta}$, there is meaning only for $\\theta \\in [0,2\\pi)$. Generally, our matrix M can have any eigenvalue, thus \\theta can have any value. In order to fix this discrepancy, the values of the matrix are stretched to be rescaled. We assume\n",
    "$\\theta \\in [\\lambda_{min}, \\lambda_{max}]$\n",
    "and use a normalization function in order to map those values into $[0, 1-1/{2^n}]$, where n is the number of qubits chosen for the QPE process in section 2.2.\n",
    "\n",
    "We perform the normalization procedure as following:\n",
    "\n",
    "a. We evaluate $\\lambda_{min},\\lambda_{max}$ (in the function ` normalization_params()` below). In order to do so we use rough estimation of the absolute max value that can take place by adding together all the pauli coefficients and multiplying by the matrix's dimensions. That will yield us a value $\\lambda$ (which is referred in the code as `normalization_coeff`) and we now assume that the domain is $\\theta \\in [-\\lambda, \\lambda]$.\n",
    "In general, one can build a more accurate assessment, which will decrease the span of solutions and thus achieve a better resolution.\n",
    "\n",
    "b. We make sure only positive values are available by adding $\\lambda*I^n$ to the pauli list. Now our evaluated span is $[0, 2*\\lambda]$.\n",
    "\n",
    "c. We normlize our matrix by multiplying all of the pauli coefficients by $(1-1/2^n)/(2*\\lambda)$. Now the span of $\\theta$ is $[0, 1-1/2^n]$, as required for proper QPE process.\n",
    "\n",
    "The values of the matrix's eigenvalues should be now between $0$ to $1-(1/2^n)$. The QPE procedure will be performed on this new normalized matrix. After the phases are obtained, the original phases of the pre-normalized matrix will be gathered by performing opposite steps to this normalization procedure.\n",
    "\n",
    "* Note that in case your matrix's eigenvalues are naturally between the values $0$ to $1-(1/2^n)$, you may not want to normalize it, as the normalization procedure may enlarge the span, thus lowering the resolution of the agorithm. In that case, you may skip those lines or change the value `normalize` to False."
   ]
  },
  {
   "cell_type": "code",
   "execution_count": 8,
   "id": "5e986c5a-1aae-4d97-be9c-693d7d8c2ae0",
   "metadata": {
    "execution": {
     "iopub.execute_input": "2023-12-06T02:44:29.714123Z",
     "iopub.status.busy": "2023-12-06T02:44:29.713685Z",
     "iopub.status.idle": "2023-12-06T02:44:29.724557Z",
     "shell.execute_reply": "2023-12-06T02:44:29.723955Z"
    },
    "tags": []
   },
   "outputs": [
    {
     "name": "stdout",
     "output_type": "stream",
     "text": [
      "[('I', (0.23825359047723227+0j)), ('Z', (-0.1941225083639407+0j)), ('X', (0.04413108211329154+0j))]\n"
     ]
    }
   ],
   "source": [
    "# normalizing the operator\n",
    "## we need to create a matrix such that its normalized version will have eigenvalues of [0,1/2^k] when k is the resolution of the QPE\n",
    "normalize = True\n",
    "\n",
    "\n",
    "def normalization_params(pauli_operator, N):\n",
    "    A = 0\n",
    "    for a, b in pauli_operator.pauli_list:\n",
    "        A = A + abs(b)\n",
    "    return N * A\n",
    "\n",
    "\n",
    "def normalize_hamiltonian(pauli_operator, normalization_coeff, k):\n",
    "    new_pauli_operator = []\n",
    "    for a, b in pauli_operator.pauli_list:\n",
    "        if a == \"I\" * N:\n",
    "            new_pauli_operator.append(\n",
    "                (\n",
    "                    a,\n",
    "                    (b + normalization_coeff)\n",
    "                    * (1 - 1 / (2**k))\n",
    "                    / (2 * normalization_coeff),\n",
    "                )\n",
    "            )\n",
    "        else:\n",
    "            new_pauli_operator.append(\n",
    "                (a, b * (1 - 1 / (2**k)) / (2 * normalization_coeff))\n",
    "            )\n",
    "    return new_pauli_operator\n",
    "\n",
    "\n",
    "if normalize:\n",
    "    normalization_coeff = normalization_params(pauli_operator, N)\n",
    "    new_pauli_operator = normalize_hamiltonian(\n",
    "        pauli_operator, normalization_coeff, n_qpe\n",
    "    )\n",
    "    pauli_ops = new_pauli_operator\n",
    "    print(pauli_ops)"
   ]
  },
  {
   "cell_type": "markdown",
   "id": "62d2e51d-d532-4c26-86dd-a5b9b40d009e",
   "metadata": {},
   "source": [
    "## 3. Creating the Quantum Circuit\n",
    "\n",
    "We will now create a quantum circuit of the QPE algorithm using the Classiq platform. The user is able to fill in their constraints and perefences as desired."
   ]
  },
  {
   "cell_type": "code",
   "execution_count": 9,
   "id": "fd4ee616-2a11-46ba-adc0-ed5171d7dd7d",
   "metadata": {
    "execution": {
     "iopub.execute_input": "2023-12-06T02:44:29.727580Z",
     "iopub.status.busy": "2023-12-06T02:44:29.727161Z",
     "iopub.status.idle": "2023-12-06T02:44:29.731093Z",
     "shell.execute_reply": "2023-12-06T02:44:29.730469Z"
    },
    "tags": []
   },
   "outputs": [],
   "source": [
    "constraints = Constraints()\n",
    "preferences = Preferences(timeout_seconds=600)\n",
    "\n",
    "model = Model(preferences=preferences, constraints=constraints)"
   ]
  },
  {
   "cell_type": "markdown",
   "id": "f19e9147-4481-44f6-99a1-72ec103bee60",
   "metadata": {},
   "source": [
    "### 3.1. Initializing the State\n",
    "\n",
    "The state chosen for the initial state is HF, as it usually has good overlap with the initial state."
   ]
  },
  {
   "cell_type": "code",
   "execution_count": 10,
   "id": "62f6e4c8-cdb6-4896-88f9-90fae769b58c",
   "metadata": {
    "execution": {
     "iopub.execute_input": "2023-12-06T02:44:29.734355Z",
     "iopub.status.busy": "2023-12-06T02:44:29.733933Z",
     "iopub.status.idle": "2023-12-06T02:44:29.739160Z",
     "shell.execute_reply": "2023-12-06T02:44:29.738566Z"
    },
    "tags": []
   },
   "outputs": [],
   "source": [
    "hf_params = HartreeFock(gs_problem=gs_problem)\n",
    "output_dict = model.HartreeFock(params=hf_params)\n",
    "sp_out = output_dict[\"OUT\"]"
   ]
  },
  {
   "cell_type": "markdown",
   "id": "c4102e49-c8cf-4c9c-9e28-57f3b9167bab",
   "metadata": {},
   "source": [
    "### 3.1. Calling the Phase Estimation\n",
    "\n",
    "Hereby we send the pauli list created for the molecule for creating phase estimation circuit."
   ]
  },
  {
   "cell_type": "code",
   "execution_count": 11,
   "id": "b05c5ced-e02a-4b56-acc5-c62de3564239",
   "metadata": {
    "execution": {
     "iopub.execute_input": "2023-12-06T02:44:29.742062Z",
     "iopub.status.busy": "2023-12-06T02:44:29.741637Z",
     "iopub.status.idle": "2023-12-06T02:44:29.752203Z",
     "shell.execute_reply": "2023-12-06T02:44:29.751653Z"
    },
    "tags": []
   },
   "outputs": [],
   "source": [
    "from classiq.builtin_functions.qpe import (\n",
    "    ExponentiationScaling,\n",
    "    ExponentiationSpecification,\n",
    ")\n",
    "\n",
    "exp_max_depth = 2200\n",
    "\n",
    "po = pauli_ops\n",
    "exp_params = Exponentiation(\n",
    "    pauli_operator=PauliOperator(pauli_list=po), evolution_coefficient=-2 * np.pi\n",
    ")\n",
    "qpe_params = PhaseEstimation(\n",
    "    size=n_qpe,\n",
    "    unitary_params=exp_params,\n",
    "    exponentiation_specification=ExponentiationSpecification(\n",
    "        scaling=ExponentiationScaling(\n",
    "            max_depth=exp_max_depth, max_depth_scaling_factor=2**0.5\n",
    "        )\n",
    "    ),\n",
    ")\n",
    "Qreg_name = {\"IN\": \"IN\", \"OUT\": \"OUT\"}\n",
    "\n",
    "\n",
    "qpe_out = model.PhaseEstimation(params=qpe_params, in_wires={Qreg_name[\"IN\"]: sp_out})"
   ]
  },
  {
   "cell_type": "markdown",
   "id": "3b394901-5392-4dd6-bf00-933d66858d94",
   "metadata": {},
   "source": [
    "### 3.3. Defining the Registers\n",
    "\n",
    "The following step is made in order to have a map of the relevant outputted qubits for analysis."
   ]
  },
  {
   "cell_type": "code",
   "execution_count": 12,
   "id": "03a25ae8-981b-4fe5-883f-32557f47ff82",
   "metadata": {
    "execution": {
     "iopub.execute_input": "2023-12-06T02:44:29.755041Z",
     "iopub.status.busy": "2023-12-06T02:44:29.754629Z",
     "iopub.status.idle": "2023-12-06T02:44:29.762602Z",
     "shell.execute_reply": "2023-12-06T02:44:29.761981Z"
    },
    "tags": []
   },
   "outputs": [],
   "source": [
    "model.set_outputs(\n",
    "    {\"phase_result\": qpe_out[\"PHASE_ESTIMATION\"], \"out\": qpe_out[Qreg_name[\"OUT\"]]}\n",
    ")"
   ]
  },
  {
   "cell_type": "markdown",
   "id": "467eca03-8a66-43d8-b2af-6d86b21e36d5",
   "metadata": {
    "tags": []
   },
   "source": [
    "### 3.4. Synthesizing the Circuit\n",
    "\n",
    "Hereby we syntesize the circuit and show it using the analyzer."
   ]
  },
  {
   "cell_type": "code",
   "execution_count": 13,
   "id": "10eaa569-de42-41b4-b615-c04bdc850ecf",
   "metadata": {
    "execution": {
     "iopub.execute_input": "2023-12-06T02:44:29.765515Z",
     "iopub.status.busy": "2023-12-06T02:44:29.765097Z",
     "iopub.status.idle": "2023-12-06T02:44:29.771123Z",
     "shell.execute_reply": "2023-12-06T02:44:29.770547Z"
    },
    "tags": []
   },
   "outputs": [],
   "source": [
    "from classiq.execution import ExecutionPreferences\n",
    "\n",
    "num_shots = 200000\n",
    "model.execution_preferences = ExecutionPreferences(num_shots=num_shots)\n",
    "\n",
    "model.sample()\n",
    "qmod = model.get_model()"
   ]
  },
  {
   "cell_type": "code",
   "execution_count": 14,
   "id": "a7aae67f-1750-43be-9446-74fa0565058a",
   "metadata": {
    "execution": {
     "iopub.execute_input": "2023-12-06T02:44:29.775535Z",
     "iopub.status.busy": "2023-12-06T02:44:29.775123Z",
     "iopub.status.idle": "2023-12-06T02:44:29.778441Z",
     "shell.execute_reply": "2023-12-06T02:44:29.777878Z"
    }
   },
   "outputs": [],
   "source": [
    "with open(\"qpe_for_molecules.qmod\", \"w\") as f:\n",
    "    f.write(qmod)"
   ]
  },
  {
   "cell_type": "code",
   "execution_count": 15,
   "id": "8d434afe-5cbc-4a56-a48c-e657090c348a",
   "metadata": {
    "execution": {
     "iopub.execute_input": "2023-12-06T02:44:29.781350Z",
     "iopub.status.busy": "2023-12-06T02:44:29.780940Z",
     "iopub.status.idle": "2023-12-06T02:51:04.571646Z",
     "shell.execute_reply": "2023-12-06T02:51:04.569404Z"
    },
    "tags": []
   },
   "outputs": [
    {
     "name": "stdout",
     "output_type": "stream",
     "text": [
      "Opening: https://platform.classiq.io/circuit/837d7d36-74a8-4751-b570-48e7d7aa4f76?version=0.34.0.dev0%2B124706fb0e\n"
     ]
    }
   ],
   "source": [
    "from classiq import show, synthesize\n",
    "\n",
    "qprog = synthesize(qmod)\n",
    "show(qprog)"
   ]
  },
  {
   "cell_type": "markdown",
   "id": "7483f266-af0f-4d08-aa96-317b4044df58",
   "metadata": {},
   "source": [
    "# 4. Measurment and Analysis\n"
   ]
  },
  {
   "cell_type": "markdown",
   "id": "e5bf0b3c-839f-43de-9da1-cba55ceba995",
   "metadata": {},
   "source": [
    "### 4.1. Circuit Execution\n",
    "\n",
    "The circuit is now sent to execution on a default simulator"
   ]
  },
  {
   "cell_type": "code",
   "execution_count": 16,
   "id": "bc063bfc-de4b-4181-82b1-f805f86baa2e",
   "metadata": {
    "execution": {
     "iopub.execute_input": "2023-12-06T02:51:04.578552Z",
     "iopub.status.busy": "2023-12-06T02:51:04.578066Z",
     "iopub.status.idle": "2023-12-06T02:52:19.243431Z",
     "shell.execute_reply": "2023-12-06T02:52:19.242687Z"
    },
    "tags": []
   },
   "outputs": [],
   "source": [
    "from classiq import execute\n",
    "\n",
    "results = execute(qprog).result()"
   ]
  },
  {
   "cell_type": "code",
   "execution_count": 17,
   "id": "05e682bd-0f1a-4e10-ba0b-e0bf3378fecd",
   "metadata": {
    "execution": {
     "iopub.execute_input": "2023-12-06T02:52:19.250630Z",
     "iopub.status.busy": "2023-12-06T02:52:19.250090Z",
     "iopub.status.idle": "2023-12-06T02:52:19.255506Z",
     "shell.execute_reply": "2023-12-06T02:52:19.254751Z"
    },
    "tags": []
   },
   "outputs": [],
   "source": [
    "from classiq.execution import ExecutionDetails\n",
    "\n",
    "results = results[0].value"
   ]
  },
  {
   "cell_type": "markdown",
   "id": "8611351f-1b14-4969-878d-6f022cdfce2a",
   "metadata": {},
   "source": [
    "### 4.2. Presenting the Result's Count"
   ]
  },
  {
   "cell_type": "code",
   "execution_count": 18,
   "id": "9c0ee98c-3ffa-4f1d-9cb2-4fada19b08b4",
   "metadata": {
    "execution": {
     "iopub.execute_input": "2023-12-06T02:52:19.258815Z",
     "iopub.status.busy": "2023-12-06T02:52:19.258247Z",
     "iopub.status.idle": "2023-12-06T02:52:19.269405Z",
     "shell.execute_reply": "2023-12-06T02:52:19.268804Z"
    },
    "tags": []
   },
   "outputs": [
    {
     "data": {
      "text/plain": [
       "{'phase_result': (0, 1, 2, 3, 4, 5), 'out': (6,)}"
      ]
     },
     "execution_count": 18,
     "metadata": {},
     "output_type": "execute_result"
    }
   ],
   "source": [
    "results.output_qubits_map"
   ]
  },
  {
   "cell_type": "code",
   "execution_count": 19,
   "id": "ffef258d-641f-477c-a855-d2e4be20b60e",
   "metadata": {
    "execution": {
     "iopub.execute_input": "2023-12-06T02:52:19.273708Z",
     "iopub.status.busy": "2023-12-06T02:52:19.272567Z",
     "iopub.status.idle": "2023-12-06T02:52:19.280994Z",
     "shell.execute_reply": "2023-12-06T02:52:19.280402Z"
    },
    "tags": []
   },
   "outputs": [
    {
     "name": "stdout",
     "output_type": "stream",
     "text": [
      "{'011001': 35, '101001': 50, '011110': 55, '101010': 88, '111100': 143, '010001': 47, '101101': 63, '111110': 50, '010011': 100, '101100': 171, '110100': 332, '001001': 54, '100111': 234, '000010': 128, '000111': 193, '001010': 65, '111000': 1001, '010100': 334, '100100': 507, '010110': 72, '011111': 1026, '001101': 68, '000011': 76, '000110': 67, '000000': 3272, '110111': 371, '010101': 58, '101111': 697, '110011': 105, '011100': 161, '000100': 659, '111010': 72, '100001': 52, '001100': 237, '011101': 62, '010111': 277, '101000': 3224, '001111': 492, '111111': 1675, '010000': 77754, '001110': 2444, '110001': 45, '011011': 136, '100101': 52, '111101': 72, '110000': 82645, '000001': 59, '111001': 38, '001000': 8925, '100011': 85, '101011': 114, '011000': 1525, '100010': 97, '100000': 8767, '101110': 56, '111011': 165, '110101': 63, '110110': 54, '110010': 94, '011010': 80, '100110': 57, '000101': 60, '001011': 121, '010010': 119}\n"
     ]
    }
   ],
   "source": [
    "qpe_results = results.counts_of_output(\"phase_result\")\n",
    "\n",
    "print(qpe_results)"
   ]
  },
  {
   "cell_type": "markdown",
   "id": "41009d2c-4276-409b-b9f4-8dee8103f208",
   "metadata": {},
   "source": [
    "### 4.3. Chosing the Most Probable Solution\n",
    "\n",
    "Hereby the user will choose the number of eigenvalues they wish to extract from the poll of results. The value `number_of_solutions` will determine how many results out of `qpe_results` will be analyzed. The algorithm `solution_search` will save only the `number_of_solutions` highest count results from the execution."
   ]
  },
  {
   "cell_type": "code",
   "execution_count": 20,
   "id": "6ac801fd-5933-4b84-8a8b-6c520ba77842",
   "metadata": {
    "execution": {
     "iopub.execute_input": "2023-12-06T02:52:19.285463Z",
     "iopub.status.busy": "2023-12-06T02:52:19.284330Z",
     "iopub.status.idle": "2023-12-06T02:52:19.295195Z",
     "shell.execute_reply": "2023-12-06T02:52:19.294567Z"
    },
    "tags": []
   },
   "outputs": [],
   "source": [
    "number_of_solutions = 1  # number of phases sought"
   ]
  },
  {
   "cell_type": "code",
   "execution_count": 21,
   "id": "4a54cb17-8c0a-4b00-a3a3-6e276fa92b53",
   "metadata": {
    "execution": {
     "iopub.execute_input": "2023-12-06T02:52:19.299680Z",
     "iopub.status.busy": "2023-12-06T02:52:19.298494Z",
     "iopub.status.idle": "2023-12-06T02:52:19.308654Z",
     "shell.execute_reply": "2023-12-06T02:52:19.308051Z"
    },
    "tags": []
   },
   "outputs": [
    {
     "name": "stdout",
     "output_type": "stream",
     "text": [
      "Your qubit solution is\n",
      "['110000']\n"
     ]
    }
   ],
   "source": [
    "def solution_search(result_dict, num):\n",
    "    def maxval(d):\n",
    "        v = list(d.values())\n",
    "        k = list(d.keys())\n",
    "        return k[v.index(max(v))]\n",
    "\n",
    "    sol_vec = []\n",
    "    for i in range(num):\n",
    "        A = maxval(result_dict)\n",
    "        sol_vec.append(A)\n",
    "        result_dict.pop(A)\n",
    "\n",
    "    return sol_vec\n",
    "\n",
    "\n",
    "solution = solution_search(qpe_results, number_of_solutions)\n",
    "\n",
    "print(\"Your qubit solution is\", solution, sep=\"\\n\")"
   ]
  },
  {
   "cell_type": "markdown",
   "id": "2f784e6f-d7ed-4cc9-81dd-f6b952d0dc01",
   "metadata": {},
   "source": [
    "### 4.4. Translating into Energy value (Phase)\n",
    "\n",
    "Here, the value in the vector `results` are translated from a binary number into a full solution for the eigenvalues. ### 3.3. Translating into Eigenvalue (Phase)"
   ]
  },
  {
   "cell_type": "markdown",
   "id": "a6a5ec50-e02d-4d2a-98f0-2e886e3b65bd",
   "metadata": {},
   "source": [
    "At first - the binary number is translated into a decimal value."
   ]
  },
  {
   "cell_type": "code",
   "execution_count": 22,
   "id": "87718e4b-3ccb-470a-850b-0e3534396b28",
   "metadata": {
    "execution": {
     "iopub.execute_input": "2023-12-06T02:52:19.313235Z",
     "iopub.status.busy": "2023-12-06T02:52:19.312100Z",
     "iopub.status.idle": "2023-12-06T02:52:19.327168Z",
     "shell.execute_reply": "2023-12-06T02:52:19.326562Z"
    },
    "tags": []
   },
   "outputs": [
    {
     "name": "stdout",
     "output_type": "stream",
     "text": [
      "Your decimal solutions are\n",
      "[0.046875]\n"
     ]
    }
   ],
   "source": [
    "# translate binary into decimal\n",
    "\n",
    "\n",
    "def bin_to_dec(q_num, solution):\n",
    "    dec_sol = 0\n",
    "    for i in range(q_num):\n",
    "        dec_sol = dec_sol + int(solution[i]) * (2**i)\n",
    "    return dec_sol / (2**q_num)\n",
    "\n",
    "\n",
    "dec_sol_vec = []\n",
    "for i in range(number_of_solutions):\n",
    "    dec_solution = bin_to_dec(n_qpe, solution[i])\n",
    "    dec_sol_vec.append(dec_solution)\n",
    "\n",
    "print(\"Your decimal solutions are\", dec_sol_vec, sep=\"\\n\")"
   ]
  },
  {
   "cell_type": "markdown",
   "id": "d83d16de-2450-4c7a-8093-26bf13d4dce4",
   "metadata": {},
   "source": [
    "Secondy, the decimal value is mapped back into the original values, i.e. renormalized into it's original span."
   ]
  },
  {
   "cell_type": "code",
   "execution_count": 23,
   "id": "a5bdb723-b015-4e80-98ea-985901c6c8d7",
   "metadata": {
    "execution": {
     "iopub.execute_input": "2023-12-06T02:52:19.331563Z",
     "iopub.status.busy": "2023-12-06T02:52:19.330412Z",
     "iopub.status.idle": "2023-12-06T02:52:19.337352Z",
     "shell.execute_reply": "2023-12-06T02:52:19.336752Z"
    },
    "tags": []
   },
   "outputs": [],
   "source": [
    "# renormalize into the \"real\" solution -\n",
    "\n",
    "if normalize:\n",
    "    solution = [\n",
    "        (\n",
    "            (value * 2 * normalization_coeff / (1 - (1 / 2**n_qpe)))\n",
    "            - normalization_coeff\n",
    "        )\n",
    "        for value in dec_sol_vec\n",
    "    ]\n",
    "else:\n",
    "    solution = dec_sol_vec"
   ]
  },
  {
   "cell_type": "markdown",
   "id": "6c963b82-26a7-4251-bae0-32e66c57fa1d",
   "metadata": {},
   "source": [
    "The final results of the Energy (matrix's eigenvlues) is therefore:"
   ]
  },
  {
   "cell_type": "code",
   "execution_count": 24,
   "id": "43e8ec8f-2be9-403d-8ae9-9380fb2b08c9",
   "metadata": {
    "execution": {
     "iopub.execute_input": "2023-12-06T02:52:19.341657Z",
     "iopub.status.busy": "2023-12-06T02:52:19.340527Z",
     "iopub.status.idle": "2023-12-06T02:52:19.350332Z",
     "shell.execute_reply": "2023-12-06T02:52:19.349742Z"
    },
    "tags": []
   },
   "outputs": [
    {
     "name": "stdout",
     "output_type": "stream",
     "text": [
      "[-1.8257183156550982]\n"
     ]
    }
   ],
   "source": [
    "print(solution)"
   ]
  },
  {
   "cell_type": "markdown",
   "id": "7565aa1f-b8ba-4617-a2ef-79317261dfe7",
   "metadata": {},
   "source": [
    "And the results including the error contributed from the resolution (number of qubits participating in the QPE) are:"
   ]
  },
  {
   "cell_type": "code",
   "execution_count": 25,
   "id": "79f1c1ba-61fd-438e-a3d5-7606ea95e70f",
   "metadata": {
    "execution": {
     "iopub.execute_input": "2023-12-06T02:52:19.353795Z",
     "iopub.status.busy": "2023-12-06T02:52:19.353364Z",
     "iopub.status.idle": "2023-12-06T02:52:19.366931Z",
     "shell.execute_reply": "2023-12-06T02:52:19.366340Z"
    },
    "tags": []
   },
   "outputs": [
    {
     "name": "stdout",
     "output_type": "stream",
     "text": [
      "the resolution of result is 0.06406029177737187\n",
      "the eneregy solution is beteen -1.88977860743247 and -1.7616580238777264\n"
     ]
    }
   ],
   "source": [
    "if normalize:\n",
    "    energy_resolution = (\n",
    "        (1 / (2**n_qpe)) * 2 * normalization_coeff / (1 - (1 / 2**n_qpe))\n",
    "    )\n",
    "else:\n",
    "    energy_resolution = 1 / (2**n_qpe)\n",
    "\n",
    "print(\"the resolution of result is\", energy_resolution)\n",
    "\n",
    "for sol in solution:\n",
    "    print(\n",
    "        \"the eneregy solution is beteen\",\n",
    "        sol - energy_resolution,\n",
    "        \"and\",\n",
    "        sol + energy_resolution,\n",
    "    )\n",
    "\n",
    "    ###if zero or exceed the normalization range need to add conditions"
   ]
  },
  {
   "cell_type": "markdown",
   "id": "d570c6b0-bd32-40d1-9ebb-c1ee7c8663ad",
   "metadata": {},
   "source": [
    "### 4.4. Find Exact Solution for Comparison"
   ]
  },
  {
   "cell_type": "code",
   "execution_count": 26,
   "id": "bd9e84a5-d131-4835-bade-13ba01035b44",
   "metadata": {
    "execution": {
     "iopub.execute_input": "2023-12-06T02:52:19.370277Z",
     "iopub.status.busy": "2023-12-06T02:52:19.369849Z",
     "iopub.status.idle": "2023-12-06T02:52:19.400025Z",
     "shell.execute_reply": "2023-12-06T02:52:19.399442Z"
    },
    "tags": []
   },
   "outputs": [
    {
     "name": "stdout",
     "output_type": "stream",
     "text": [
      "exact result: -1.8572750302023786\n"
     ]
    }
   ],
   "source": [
    "mat = pauli_operator.to_matrix()\n",
    "w, v = np.linalg.eig(mat)\n",
    "print(\"exact result:\", np.real(min(w)))"
   ]
  },
  {
   "cell_type": "markdown",
   "id": "703c6ae7-5174-433f-ad9f-78f9864b1914",
   "metadata": {},
   "source": [
    "### 4.4. Find the Solution's Histogram"
   ]
  },
  {
   "cell_type": "code",
   "execution_count": 27,
   "id": "c1f30f9b-afdf-4aa5-aaaf-52d7d0a0b7bd",
   "metadata": {
    "execution": {
     "iopub.execute_input": "2023-12-06T02:52:19.404530Z",
     "iopub.status.busy": "2023-12-06T02:52:19.403391Z",
     "iopub.status.idle": "2023-12-06T02:52:19.408062Z",
     "shell.execute_reply": "2023-12-06T02:52:19.407521Z"
    },
    "tags": []
   },
   "outputs": [],
   "source": [
    "import matplotlib.pyplot as plt\n",
    "import numpy as np"
   ]
  },
  {
   "cell_type": "code",
   "execution_count": 28,
   "id": "dfc5f725-495b-45d1-9c67-a1daf80a1454",
   "metadata": {
    "execution": {
     "iopub.execute_input": "2023-12-06T02:52:19.412365Z",
     "iopub.status.busy": "2023-12-06T02:52:19.411237Z",
     "iopub.status.idle": "2023-12-06T02:52:19.417693Z",
     "shell.execute_reply": "2023-12-06T02:52:19.417156Z"
    },
    "tags": []
   },
   "outputs": [],
   "source": [
    "import matplotlib.pyplot as plt\n",
    "import numpy as np\n",
    "\n",
    "energy_vec = []\n",
    "energy_prob = []\n",
    "\n",
    "for string, counts in qpe_results.items():\n",
    "    temp = bin_to_dec(n_qpe, string)\n",
    "    if normalize:\n",
    "        temp2 = (\n",
    "            temp * 2 * normalization_coeff / (1 - (1 / 2**n_qpe))\n",
    "        ) - normalization_coeff\n",
    "    else:\n",
    "        temp2 = temp\n",
    "    energy_vec.append(temp2)\n",
    "    energy_prob.append(counts / num_shots)"
   ]
  },
  {
   "cell_type": "code",
   "execution_count": 29,
   "id": "993c5b3b-7a05-44f1-9c4e-6651cd50f4cb",
   "metadata": {
    "execution": {
     "iopub.execute_input": "2023-12-06T02:52:19.422357Z",
     "iopub.status.busy": "2023-12-06T02:52:19.421214Z",
     "iopub.status.idle": "2023-12-06T02:52:19.712700Z",
     "shell.execute_reply": "2023-12-06T02:52:19.712069Z"
    },
    "tags": []
   },
   "outputs": [
    {
     "data": {
      "image/png": "[encoded data removed]",
      "text/plain": [
       "<Figure size 640x480 with 1 Axes>"
      ]
     },
     "metadata": {},
     "output_type": "display_data"
    }
   ],
   "source": [
    "plt.plot(energy_vec, energy_prob, \".\")\n",
    "plt.show()"
   ]
  },
  {
   "cell_type": "markdown",
   "id": "9797b512-d41f-47c1-8c0f-4134f0500b80",
   "metadata": {},
   "source": [
    "## References\n",
    "\n",
    "<a name='NC'>[1]</a>: [Michael A. Nielsen and Isaac L. Chuang. 2011. Quantum Computation and Quantum Information: 10th Anniversary Edition, Cambridge University Press, New York, NY, USA.\n",
    "](http://mmrc.amss.cas.cn/tlb/201702/W020170224608149940643.pdf)\n"
   ]
  }
 ],
 "metadata": {
  "kernelspec": {
   "display_name": "Python 3 (ipykernel)",
   "language": "python",
   "name": "python3"
  },
  "language_info": {
   "codemirror_mode": {
    "name": "ipython",
    "version": 3
   },
   "file_extension": ".py",
   "mimetype": "text/x-python",
   "name": "python",
   "nbconvert_exporter": "python",
   "pygments_lexer": "ipython3",
   "version": "3.11.6"
  }
 },
 "nbformat": 4,
 "nbformat_minor": 5
}
