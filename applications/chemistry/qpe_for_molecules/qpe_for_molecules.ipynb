{
 "cells": [
  {
   "cell_type": "markdown",
   "id": "75e2c1fe-8a06-4f0b-8fd6-d1b6d10ce82f",
   "metadata": {},
   "source": [
    "# Quantum Phase Estimation (QPE) for Solving Molecular Energies\n",
    "\n",
    "\n",
    "Quantum Phase Estimation (QPE) is a key algorithm in quantum computing, allowing one to estimate the phase (or eigenvalue) of an eigenvector of a unitary operation. For a given Hamiltonian $H$, and an eigenvalue ${|\\psi\\rangle}$, the output of the algorithm is $\\epsilon$ where\n",
    "\n",
    "$U{|\\psi\\rangle} = e^{2\\pi i\\epsilon}{|\\psi\\rangle} , U = e^{2\\pi iH}$ .\n",
    "\n",
    "\n",
    "Therefore, by measuring the phase accumulated, the QPE algorithm allows calculating the energies relating to the chosen initial state.\n",
    "When using QPE for chemistry problems, it is common to search for the lowest energy of a given molecule. As the molecule can be written in the form of a Hamiltonian (Hermitian matrix representing the energetic forces of the structure), one only needs to insert the ground eigenvector in order to obtain the minimal energy value using QPE. However, obtaining the ground state is not a trivial problem. In order to overcome it, it is sufficient to use a state with big overlap with the ground state.\n",
    "\n",
    "We define a state ${|v\\rangle}$ which will be chosen as the algorithm's initial state. Let us define {$\\psi_i$} to be the set of (unknown) eigenvalues of $H$. Generally, any vector can be rewritten as a superposition of any basis set, thus -\n",
    "\n",
    "${|v\\rangle} = \\sum_i a_i{|\\psi_i\\rangle}$\n",
    "\n",
    "and -\n",
    "\n",
    "$U{|v\\rangle} = \\sum_i a_i e^{2\\pi i\\epsilon_i}{|\\psi_i\\rangle}$.\n",
    "\n",
    "where ${\\epsilon_i}$ are the eigenvalues of $H$, i.e. the span of energies relating to the molecule. Using execution with enough shots, one will obtain this set of $\\epsilon_i$, i.e., a subset of the Hamiltonian's eigenvalues. As we are specifically interested in $\\epsilon_0$, the ground state of $H$, it is important that there is a large overlap between ${\\psi_0}$ and ${|v\\rangle}$ so the probability to measure ${\\epsilon_0}$ is high, i.e.\n",
    "\n",
    "$P(\\epsilon_0) = |\\langle v|\\psi_0\\rangle|^2 > a $.\n",
    "\n",
    "How large is $a$? After execution, we will obtain a set of ${E_i}$. If we have done 1000 shots of execution, and $P(\\epsilon_0)>1\\%$, we should sample $\\epsilon_0$ about 10 times.\n",
    "\n",
    "A common choice for ${|v\\rangle}$ (the initial state) is the Hartree-Fock (HF) state, which typically has a large overlap with the ground state. However, other guesses for the initial state are possibly good or even better fit, and choosing the right initial state is a sort of art and an active field of research.\n",
    "\n",
    "For further reading about QPE we recommend [[1](#NC)].\n",
    "\n",
    "\n",
    "**What are the benefits of using QPE algorithm for finding a molecule's ground state?**\n",
    "\n",
    "The two most prominent methods to solve ground energy for molecules are quantum variational algorithm (VQE) and QPE. Those promise better scalability compared to classical counterparts as the molecules becomes more complex, with larger number of electrons, referring to a physical problem with more degrees of freedom.\n",
    "\n",
    "The number of parameters in VQE is closely related to the number of electrons. This may create inherent difficulty achieving high-precision calculations through sampling statistical estimators, and perhaps even not converge for very large systems. On the other hand, the number of parameters in QPE is a flexible value which is directly related to the resolution of the problem, but is not bounded with the number of electrons.\n",
    "\n",
    "Furthermore, it is known that advanced quantum algorithms based on QPE can perform electronic structure calculations in sub-exponential time with accuracy that rivals exact diagonalization methods. This guarantee of simultaneously achieving high accuracy, efficiency, and generality is a feat that is believed to be impossible for classical algorithms. For those reasons, VQE is applicable in the near term (NISQ) era, while QPE is suited for fault-tolerant design.\n",
    "\n",
    "**In this tutorial, we follow the QPE algorithm steps as follows:**\n",
    "\n",
    "1. Define a molecule and convert it into a Hamiltonian.\n",
    "\n",
    "2. Prepare the Hamiltonian for QPE: including normalization and trimming of negligible terms.\n",
    "\n",
    "3. Construct a quantum model: initializing the state for the HF state and leveraging the `qpe_flexible` function.\n",
    "\n",
    "4. Executing the circuit to find the related phases and analyzing the results to find the ground state."
   ]
  },
  {
   "cell_type": "code",
   "execution_count": 1,
   "id": "11eaf8f8-c06e-443e-ac74-5aa364f5198c",
   "metadata": {
    "tags": [],
    "ExecuteTime": {
     "end_time": "2025-03-04T20:32:05.487269Z",
     "start_time": "2025-03-04T20:32:03.276286Z"
    }
   },
   "outputs": [],
   "source": [
    "## Imports\n",
    "\n",
    "import matplotlib.pyplot as plt\n",
    "import numpy as np\n",
    "\n",
    "from classiq import *\n",
    "\n",
    "# for chemistry\n",
    "from classiq.applications.chemistry import Molecule, MoleculeProblem\n",
    "from classiq.applications.combinatorial_helpers.pauli_helpers.pauli_utils import (\n",
    "    pauli_operator_to_hamiltonian,\n",
    ")"
   ]
  },
  {
   "cell_type": "markdown",
   "id": "ac537458-568d-4718-9020-408cc7232641",
   "metadata": {},
   "source": [
    "## Defining a molecule with Classiq"
   ]
  },
  {
   "cell_type": "markdown",
   "id": "00cfd366-f819-440b-90b8-7d03eb27e2a6",
   "metadata": {},
   "source": [
    "In this tutorial we choose to work on the LiH molecule:"
   ]
  },
  {
   "cell_type": "code",
   "execution_count": 2,
   "id": "2b67b2e1-94c2-4c8f-8ee9-577c79a7234f",
   "metadata": {
    "tags": [],
    "ExecuteTime": {
     "end_time": "2025-03-04T20:32:07.229353Z",
     "start_time": "2025-03-04T20:32:07.224866Z"
    }
   },
   "outputs": [],
   "source": [
    "# build your molecule\n",
    "\n",
    "\n",
    "molecule_LiH = Molecule(atoms=[(\"H\", (0.0, 0.0, 0.0)), (\"Li\", (0.0, 0.0, 1.596))])\n",
    "\n",
    "# Example of some other molecules:\n",
    "# molecule_H2 = Molecule(atoms=[(\"H\", (0.0, 0.0, 0)), (\"H\", (0.0, 0.0, 0.735))])\n",
    "# molecule_O2 = Molecule(atoms=[(\"O\", (0.0, 0.0, 0)), (\"O\", (0.0, 0.0, 1.16))])\n",
    "# molecule_H2O = Molecule(\n",
    "#     atoms=[(\"O\", (0.0, 0.0, 0.0)), (\"H\", (0, 0.586, 0.757)), (\"H\", (0, 0.586, -0.757))]\n",
    "# )\n",
    "# molecule_BeH2 = Molecule(\n",
    "#     atoms=[(\"Be\", (0.0, 0.0, 0.0)), (\"H\", (0, 0, 1.334)), (\"H\", (0, 0, -1.334))]\n",
    "# )\n",
    "\n",
    "molecule = molecule_LiH"
   ]
  },
  {
   "cell_type": "code",
   "execution_count": 3,
   "id": "5d27e5df-e16e-44b2-b78a-187905577908",
   "metadata": {
    "tags": [],
    "ExecuteTime": {
     "end_time": "2025-03-04T20:32:16.972965Z",
     "start_time": "2025-03-04T20:32:07.977442Z"
    }
   },
   "outputs": [
    {
     "name": "stdout",
     "output_type": "stream",
     "text": [
      "The Hamiltonian is defined on 6 qubits, and contains 231 Pauli strings\n"
     ]
    }
   ],
   "source": [
    "# define your molecule problem\n",
    "\n",
    "gs_problem = MoleculeProblem(\n",
    "    molecule=molecule,\n",
    "    basis=\"sto3g\",\n",
    "    mapping=\"jordan_wigner\",  #'bravyi_kitaev'\n",
    "    z2_symmetries=True,\n",
    "    freeze_core=True,\n",
    ")\n",
    "\n",
    "operator = gs_problem.generate_hamiltonian()\n",
    "gs_problem = gs_problem.update_problem(operator.num_qubits)\n",
    "\n",
    "mol_hamiltonian = pauli_operator_to_hamiltonian(operator.pauli_list)\n",
    "problem_size = len(mol_hamiltonian[0].pauli)\n",
    "\n",
    "print(\n",
    "    f\"The Hamiltonian is defined on {problem_size} qubits, and contains {len(mol_hamiltonian)} Pauli strings\"\n",
    ")"
   ]
  },
  {
   "cell_type": "markdown",
   "id": "7e1e299b-bd9d-40e8-a1a6-c610e61f7354",
   "metadata": {},
   "source": [
    "Finally, we calculate the ground state energy as a reference solution to our quantum solver (note that the Hamiltonian obtained from the Molecule object excludes the nuclear repulsion energy)."
   ]
  },
  {
   "cell_type": "code",
   "execution_count": 4,
   "id": "ca1d9c36-2d54-45c4-b3ce-f6ee8abbb28f",
   "metadata": {
    "ExecuteTime": {
     "end_time": "2025-03-04T20:32:17.052329Z",
     "start_time": "2025-03-04T20:32:16.972582Z"
    }
   },
   "outputs": [
    {
     "name": "stdout",
     "output_type": "stream",
     "text": [
      "Expected energy (without nuclear repulsion energy): -1.0789776863285268 Ha\n"
     ]
    }
   ],
   "source": [
    "mat = hamiltonian_to_matrix(mol_hamiltonian)\n",
    "w, v = np.linalg.eig(mat)\n",
    "classical_sol = np.real(min(w))\n",
    "print(f\"Expected energy (without nuclear repulsion energy): {classical_sol} Ha\")"
   ]
  },
  {
   "cell_type": "markdown",
   "id": "a4f40418-500a-4d86-88e4-ca64bdaf24ac",
   "metadata": {},
   "source": [
    "## Preparing the Molecule for QPE"
   ]
  },
  {
   "cell_type": "markdown",
   "id": "034e17f6-6008-4ea7-b5de-af7626461dbb",
   "metadata": {},
   "source": [
    "### Trimming the Hamiltonian\n",
    "\n",
    "As we can see, the Hamiltonian may contain a large number of terms. In many cases we can compress the Hamiltonian by trimming small terms."
   ]
  },
  {
   "cell_type": "code",
   "execution_count": 5,
   "id": "c7d00124-e791-43f7-b910-bc1031865e37",
   "metadata": {
    "ExecuteTime": {
     "end_time": "2025-03-04T20:44:26.990326Z",
     "start_time": "2025-03-04T20:44:26.711352Z"
    }
   },
   "outputs": [
    {
     "data": {
      "text/plain": "<Figure size 640x480 with 1 Axes>",
      "image/png": "[encoded data removed]"
     },
     "metadata": {},
     "output_type": "display_data"
    }
   ],
   "source": [
    "coeffs = [term.coefficient for term in mol_hamiltonian]\n",
    "plt.semilogy(np.sort(np.abs(coeffs))[::-1], \"o\")\n",
    "plt.ylabel(r\"$|\\alpha_i|$\", fontsize=16)\n",
    "plt.xlabel(r\"$i$\", fontsize=16)\n",
    "plt.tick_params(axis=\"both\", labelsize=16)\n",
    "plt.title(\n",
    "    r\"Sorted coefficients size for Hamiltonian $H = \\sum \\alpha_i P_i$   ($P_i$ Pauli string)\"\n",
    ");"
   ]
  },
  {
   "cell_type": "markdown",
   "id": "21828537-6d50-4807-bf98-73f0a7434418",
   "metadata": {},
   "source": [
    "We define some threshold and trim the Hamiltonian accordingly:"
   ]
  },
  {
   "cell_type": "code",
   "execution_count": 6,
   "id": "e84941d6-18e3-430b-b3e0-570c2858df50",
   "metadata": {
    "ExecuteTime": {
     "end_time": "2025-03-04T20:44:27.521414Z",
     "start_time": "2025-03-04T20:44:27.515198Z"
    }
   },
   "outputs": [],
   "source": [
    "def trim_hamiltonian(hamiltonian, threshold):\n",
    "    return [\n",
    "        PauliTerm(pauli=term.pauli, coefficient=term.coefficient)\n",
    "        for term in hamiltonian\n",
    "        if np.abs(term.coefficient) > threshold\n",
    "    ]"
   ]
  },
  {
   "cell_type": "code",
   "execution_count": 7,
   "id": "a3e74354-df3d-481e-a00d-e36b69279d5a",
   "metadata": {
    "ExecuteTime": {
     "end_time": "2025-03-04T20:44:27.856262Z",
     "start_time": "2025-03-04T20:44:27.848941Z"
    }
   },
   "outputs": [
    {
     "name": "stdout",
     "output_type": "stream",
     "text": [
      "Length of trimmed Hamiltonian: 49\n"
     ]
    }
   ],
   "source": [
    "THRESHOLD = 0.03\n",
    "\n",
    "trimmed_mol_hamiltonian = trim_hamiltonian(mol_hamiltonian, THRESHOLD)\n",
    "print(f\"Length of trimmed Hamiltonian: {len(trimmed_mol_hamiltonian)}\")"
   ]
  },
  {
   "cell_type": "markdown",
   "id": "c6ef93ba-a682-474d-befd-0b0b5a691de5",
   "metadata": {},
   "source": [
    "### Normalizing the Hamiltonian for QPE\n",
    "\n",
    "Since we are working with QPE, the ground state energy is inferred as a phase, thus, we shall normalize the Hamiltonian such that its eigenvalues are in $\\left[-\\frac{1}{2},\\frac{1}{2}\\right)$. This is done by finding a bound on the maximal absolute value of eigenvalues $\\tilde{\\lambda}_{\\max}$, and normalizing the Hamiltonian by $2\\tilde{\\lambda}_{\\max}$. A simple bound is given by the sum of Pauli coefficients of the Hamiltonian."
   ]
  },
  {
   "cell_type": "code",
   "execution_count": 8,
   "id": "0639c8de-a611-4fd3-bb8a-bcd4da64485e",
   "metadata": {
    "ExecuteTime": {
     "end_time": "2025-03-04T20:44:28.271155Z",
     "start_time": "2025-03-04T20:44:28.265440Z"
    }
   },
   "outputs": [
    {
     "name": "stdout",
     "output_type": "stream",
     "text": [
      "The normalization value of the Hamiltonian is 17.61546220154494\n"
     ]
    }
   ],
   "source": [
    "def normalize_hamiltonian(hamiltonian):\n",
    "    approx_lambda_max = sum(np.abs(term.coefficient) for term in hamiltonian)\n",
    "    normalization = 2 * approx_lambda_max\n",
    "    normalized_mol_hamiltonian = [\n",
    "        PauliTerm(pauli=term.pauli, coefficient=term.coefficient / (normalization))\n",
    "        for term in hamiltonian\n",
    "    ]\n",
    "\n",
    "    return normalization, normalized_mol_hamiltonian\n",
    "\n",
    "\n",
    "normalization, normalized_mol_hamiltonian = normalize_hamiltonian(\n",
    "    trimmed_mol_hamiltonian\n",
    ")\n",
    "print(f\"The normalization value of the Hamiltonian is {normalization}\")"
   ]
  },
  {
   "cell_type": "markdown",
   "id": "817d2e3b-ec15-4998-847c-f7942b37dcc1",
   "metadata": {},
   "source": [
    "In our QPE models we will define the `phase` variable as a fixed point quantum number in $[0,1)$: `QNum[QPE_SIZE,False,QPE_SIZE]`. Thus, we need a postprocess function to map it to $\\left[-\\frac{1}{2},\\frac{1}{2}\\right)$. We define a full post-process classical function, from $\\lambda \\in [0,1)$ to the Hamiltonian energies \n",
    "$$\n",
    "e=2\\tilde{\\lambda}_{\\max}\\left\\{\\begin{array}{l l}\n",
    "\\lambda & \\lambda < 1/2, \\\\\n",
    "\\lambda-1 & \\lambda \\geq 1/2\n",
    "\\end{array}\n",
    "\\right. .\n",
    "$$ "
   ]
  },
  {
   "cell_type": "code",
   "execution_count": 9,
   "id": "9295f8a8-ed04-40cb-a5e6-f36849b43c77",
   "metadata": {
    "ExecuteTime": {
     "end_time": "2025-03-04T20:44:28.642052Z",
     "start_time": "2025-03-04T20:44:28.639820Z"
    }
   },
   "outputs": [],
   "source": [
    "def post_process_phase(value, norm_factor):\n",
    "    signed_value = value if value < 1 / 2 else value - 1\n",
    "    return signed_value * norm_factor"
   ]
  },
  {
   "cell_type": "markdown",
   "id": "cf78c5bb-240f-429e-aa47-d7c9720d90c1",
   "metadata": {},
   "source": [
    "## Designing the Quantum Model"
   ]
  },
  {
   "cell_type": "markdown",
   "id": "00d22272-d61f-41e6-bcbd-a2801db7ee1f",
   "metadata": {},
   "source": [
    "### Defining a powered Hamiltonian simulation\n",
    "\n",
    "We will now create a quantum model of the QPE algorithm using the Classiq platform. In particular, we will use the open library  [qpe_flexible](https://github.com/Classiq/classiq-library/blob/main/functions/qmod_library_reference/classiq_open_library/qpe/qpe.ipynb) function (see [notebook](https://github.com/Classiq/classiq-library/blob/main/tutorials/advanced_tutorials/high_level_modeling_flexible_qpe/high_level_modeling_flexible_qpe.ipynb) as well).\n",
    "\n",
    "We need to approximate the Hamiltonian simulation $e^{2\\pi i H}$, for this we will use Classiq built-in implementation for [Suzuki Trotter formulas](https://github.com/Classiq/classiq-library/blob/main/functions/qmod_library_reference/qmod_core_library/hamiltonian_evolution/suzuki_trotter/suzuki_trotter.ipynb). For a given Suzuki Trotter order $o$, we can specify a repetitions parameter $r$, which controls the level of approximation. The literature provides some lower bounds for $r$ as a function of the operator error $\\epsilon$ (defined by the dimond norm [[3](#Dimond)]). For example, Eq. (14) in Ref. [[2](#Bounds)]  states that Suzuki Trotter formula of order 2 approximates $e^{i \\sum \\alpha_m P_m t}$ up to an error $\\epsilon$, given $r$ repetitions that satisfies:\n",
    "$$\n",
    "r \\leq \\left(\\frac{2^5\\gamma_2}{3\\epsilon}\\right)^{1/2}  t^{3/2} ,\n",
    "\\tag{1}\n",
    "$$\n",
    "where $\\gamma_2 \\equiv \\sum_{l,m,n} |\\alpha_m\\alpha_n\\alpha_l| \\left |\\left[P_l,\\left[P_m, P_n\\right]\\right]\\right|_\\infty$. **In particular, we can see that the number of repetitions grows as $t^{3/2}$**.\n",
    "\n",
    "\n",
    "In QPE, we apply powered Hamiltonian simulation:\n",
    "$$\n",
    "\\left(e^{2\\pi i H}\\right)^ p = e^{2p \\pi i H},\n",
    "\\tag{2}\n",
    "$$\n",
    "and each power should be approximated with Suzuki Trotter with an appropriate order and repetitions parameters, keeping the same error per QPE iteration. We can thus use the bound above to define a powered Suzuki Trotter `qfunc` for our specific molecule.\n",
    "\n",
    "First, we first define some classical auxiliary functions that helps us to evaluate the right-hand-side in Eq. (1):"
   ]
  },
  {
   "cell_type": "code",
   "execution_count": 10,
   "id": "740ccdac-65a1-4b70-bbee-a340950683ab",
   "metadata": {
    "ExecuteTime": {
     "end_time": "2025-03-04T20:44:29.178026Z",
     "start_time": "2025-03-04T20:44:29.176709Z"
    }
   },
   "outputs": [],
   "source": [
    "import itertools\n",
    "\n",
    "\n",
    "def multiply_single_qubit(pa, pb):\n",
    "    \"\"\"\n",
    "    Multiply two single-qubit Pauli operators pa*pb.\n",
    "    Returns (phase, pc) where:\n",
    "       - phase in {1, -1, 1j, -1j}\n",
    "       - pc is the resulting single-qubit Pauli.\n",
    "    \"\"\"\n",
    "    table = {\n",
    "        (Pauli.I, Pauli.I): (1, Pauli.I),\n",
    "        (Pauli.I, Pauli.X): (1, Pauli.X),\n",
    "        (Pauli.I, Pauli.Y): (1, Pauli.Y),\n",
    "        (Pauli.I, Pauli.Z): (1, Pauli.Z),\n",
    "        (Pauli.X, Pauli.I): (1, Pauli.X),\n",
    "        (Pauli.X, Pauli.X): (1, Pauli.I),\n",
    "        (Pauli.X, Pauli.Y): (1j, Pauli.Z),  # X*Y = iZ\n",
    "        (Pauli.X, Pauli.Z): (-1j, Pauli.Y),  # X*Z = -iY\n",
    "        (Pauli.Y, Pauli.I): (1, Pauli.Y),\n",
    "        (Pauli.Y, Pauli.X): (-1j, Pauli.Z),  # Y*X = -iZ\n",
    "        (Pauli.Y, Pauli.Y): (1, Pauli.I),\n",
    "        (Pauli.Y, Pauli.Z): (1j, Pauli.X),  # Y*Z = iX\n",
    "        (Pauli.Z, Pauli.I): (1, Pauli.Z),\n",
    "        (Pauli.Z, Pauli.X): (1j, Pauli.Y),  # Z*X = iY\n",
    "        (Pauli.Z, Pauli.Y): (-1j, Pauli.X),  # Z*Y = -iX\n",
    "        (Pauli.Z, Pauli.Z): (1, Pauli.I),\n",
    "    }\n",
    "\n",
    "    return table[(pa, pb)]\n",
    "\n",
    "\n",
    "def multiply_pauli_lists(pA_list, pB_list):\n",
    "    \"\"\"\n",
    "    Multiply two multi-qubit Pauli lists A and B.\n",
    "    Returns PauliTerm(pauli, coefficient), where:\n",
    "       - coefficient in {1, -1, 1j, -1j}\n",
    "       - pauli is a Pauli list representing AB.\n",
    "    \"\"\"\n",
    "    if len(pA_list) != len(pB_list):\n",
    "        raise ValueError(\"Pauli lists must have the same length.\")\n",
    "\n",
    "    phase_total = 1 + 0j  # start with complex 1\n",
    "    product = []\n",
    "\n",
    "    for pA, pB in zip(pA_list, pB_list):\n",
    "        phase_local, pC = multiply_single_qubit(pA, pB)\n",
    "        phase_total *= phase_local\n",
    "        product.append(pC)\n",
    "\n",
    "    return PauliTerm(pauli=product, coefficient=phase_total)\n",
    "\n",
    "\n",
    "def commutator_infinity_norm(pA_list, pB_list):\n",
    "    \"\"\"\n",
    "    Compute the 'infinity-norm of [A,B]' by counting the number\n",
    "    of qubit positions where A and B differ in {X,Y,Z}, ignoring matches or I.\n",
    "\n",
    "    Then:\n",
    "      - If the count is even, A and B commute => norm = 0\n",
    "      - If the count is odd, A and B anticommute => norm = 2\n",
    "\n",
    "    \"\"\"\n",
    "    if len(pA_list) != len(pB_list):\n",
    "        raise ValueError(\"Pauli strings must have the same length.\")\n",
    "\n",
    "    # Count positions where A and B are both in {X,Y,Z}, differ, and none is I\n",
    "    difference_count = 0\n",
    "    for pA, pB in zip(pA_list, pB_list):\n",
    "        if pA != Pauli.I and pB != Pauli.I and pA != pB:\n",
    "            difference_count += 1\n",
    "\n",
    "    return 0.0 if (difference_count % 2 == 0) else 2.0\n",
    "\n",
    "\n",
    "def calculate_gamma_2(hamiltonian):\n",
    "    \"\"\"\n",
    "    Compute the $\\gamma_2$ value appearing in the bound for Suzuki Trotter of order 2\n",
    "    \"\"\"\n",
    "    gamma_2 = 0\n",
    "    for triplet in itertools.combinations(range(len(hamiltonian)), 3):\n",
    "        terms = [hamiltonian[index] for index in triplet]\n",
    "        factor = np.abs(\n",
    "            (terms[0].coefficient) * (terms[1].coefficient) * (terms[2].coefficient)\n",
    "        )\n",
    "        inner_commutator = commutator_infinity_norm(terms[1].pauli, terms[0].pauli)\n",
    "        if inner_commutator != 0:\n",
    "            outer_commutator = 2 * commutator_infinity_norm(\n",
    "                terms[2].pauli,\n",
    "                multiply_pauli_lists(terms[0].pauli, terms[1].pauli).pauli,\n",
    "            )\n",
    "            gamma_2 += factor * outer_commutator\n",
    "\n",
    "    return gamma_2"
   ]
  },
  {
   "cell_type": "markdown",
   "id": "13fd6fa0-b39e-491b-bf84-7d4996f122a1",
   "metadata": {},
   "source": [
    "In QPE, the powers of the Hamiltonian simulation grows exponentially with the phase variable size. Let us examine the number of repetitions needed per QPE iteration, according to the bound above for QPE of size 7."
   ]
  },
  {
   "cell_type": "code",
   "execution_count": 11,
   "id": "204977f9-3242-41d7-a6e2-8862aed2b031",
   "metadata": {
    "ExecuteTime": {
     "end_time": "2025-03-04T20:44:29.664418Z",
     "start_time": "2025-03-04T20:44:29.662393Z"
    }
   },
   "outputs": [
    {
     "name": "stdout",
     "output_type": "stream",
     "text": [
      "The powers of the Hamiltonian simulation along a QPE routine of size 7: \n",
      "[ 1  2  4  8 16 32 64]\n"
     ]
    }
   ],
   "source": [
    "QPE_SIZE = 7\n",
    "qpe_powers = 2 ** np.arange(QPE_SIZE)\n",
    "print(\n",
    "    f\"\"\"The powers of the Hamiltonian simulation along a QPE routine of size {QPE_SIZE}: \n",
    "{qpe_powers}\"\"\"\n",
    ")"
   ]
  },
  {
   "cell_type": "markdown",
   "id": "96671a1c-286b-4e20-a3ed-8b42a84170c2",
   "metadata": {},
   "source": [
    "These powers enter as an evolution coefficient for the Hamiltonian simulation (see Eq. (2) above). Using the theoretical bound we find"
   ]
  },
  {
   "cell_type": "code",
   "execution_count": 12,
   "id": "210fa2d5-2e1d-450e-9c20-bc3781f07b9d",
   "metadata": {
    "ExecuteTime": {
     "end_time": "2025-03-04T20:44:30.203858Z",
     "start_time": "2025-03-04T20:44:30.104505Z"
    }
   },
   "outputs": [
    {
     "name": "stdout",
     "output_type": "stream",
     "text": [
      "The theoretical bounds for the repetitions for QPE size 7, keeping an error 0.1 per QPE iteration are:\n",
      "[   4.   11.   30.   85.  240.  677. 1915.]\n"
     ]
    }
   ],
   "source": [
    "EPS = 0.1\n",
    "gamma_2_LiH = calculate_gamma_2(normalized_mol_hamiltonian)\n",
    "theoretical_r0 = np.sqrt(2**5 * gamma_2_LiH / (3 * EPS)) * (2 * np.pi) ** (3 / 2)\n",
    "\n",
    "print(\n",
    "    f\"\"\"The theoretical bounds for the repetitions for QPE size {QPE_SIZE}, keeping an error {EPS} per QPE iteration are:\n",
    "{np.ceil(theoretical_r0*qpe_powers**(3/2))}\"\"\"\n",
    ")"
   ]
  },
  {
   "cell_type": "markdown",
   "id": "f27cd6b0-ac6f-4f87-8fcd-4ea8495da3f9",
   "metadata": {},
   "source": [
    "We note that applying a naive QPE, i.e., assuming a single unitary approximated with Suzuki Trotter, $e^{iHt} \\approx {\\rm ST}(H, o, r ,t)$, and simply taking its powers, gives $\\left(e^{iHt}\\right)^p \\approx \\left({\\rm ST}(H, o, r ,t)\\right)^{p} = {\\rm ST}(H, o, pr ,pt)$."
   ]
  },
  {
   "cell_type": "code",
   "execution_count": 13,
   "id": "bb103796-9d0a-4fac-b281-8983d7e9ebd3",
   "metadata": {
    "ExecuteTime": {
     "end_time": "2025-03-04T20:44:30.533308Z",
     "start_time": "2025-03-04T20:44:30.524656Z"
    }
   },
   "outputs": [
    {
     "name": "stdout",
     "output_type": "stream",
     "text": [
      "The repetitions for QPE size 7, taking a naive QPE, per QPE iteration:\n",
      "[  4.   8.  15.  30.  60. 120. 240.]\n"
     ]
    }
   ],
   "source": [
    "print(\n",
    "    f\"\"\"The repetitions for QPE size {QPE_SIZE}, taking a naive QPE, per QPE iteration:\n",
    "{np.ceil(theoretical_r0*qpe_powers)}\"\"\"\n",
    ")"
   ]
  },
  {
   "cell_type": "markdown",
   "id": "bd52c197-23cc-4786-b937-9f0420aa9361",
   "metadata": {},
   "source": [
    "While this naive QPE results in a shallower circuit, compared to taking repetitions according to the theoretical bounds (due to smaller values of repetitions), it is unclear whether it keeps the same operator error per phase bit.\n",
    "\n",
    "In practice, the bounds given in the literature are quite loose. In this tutorial we thus take a more experimental approach. We assume that the scaling of the bound with the evolution time $t$ is similar to Eq. (1), but take a smaller prefactor. "
   ]
  },
  {
   "cell_type": "code",
   "execution_count": 14,
   "id": "8a0424ec-2f10-4ccb-a84e-c5ccd255b727",
   "metadata": {
    "ExecuteTime": {
     "end_time": "2025-03-04T20:44:31.191893Z",
     "start_time": "2025-03-04T20:44:31.190067Z"
    }
   },
   "outputs": [
    {
     "name": "stdout",
     "output_type": "stream",
     "text": [
      "The experimental repetitions for QPE size 7, per QPE iteration are:\n",
      "[ 1.  1.  1.  2.  4. 10. 26.]\n"
     ]
    }
   ],
   "source": [
    "experimental_r0 = 0.05\n",
    "print(\n",
    "    f\"\"\"The experimental repetitions for QPE size {QPE_SIZE}, per QPE iteration are:\n",
    "{np.ceil(experimental_r0*qpe_powers**(3/2))}\"\"\"\n",
    ")"
   ]
  },
  {
   "cell_type": "markdown",
   "id": "6774add1-08df-4b43-b6b5-8b9d5d9d19e1",
   "metadata": {},
   "source": [
    "Now, we use this approach to define our powered Suzuki Trotter function, for the specific Hamiltonian at hand."
   ]
  },
  {
   "cell_type": "code",
   "execution_count": 15,
   "id": "31b0c72b-9fcb-4403-a19d-9181cc716d85",
   "metadata": {
    "ExecuteTime": {
     "end_time": "2025-03-04T20:44:31.827222Z",
     "start_time": "2025-03-04T20:44:31.815368Z"
    }
   },
   "outputs": [],
   "source": [
    "from classiq.qmod.symbolic import ceiling as ceiling_qmod, pi\n",
    "\n",
    "\n",
    "@qfunc\n",
    "def powered_st2_for_LiH(p: CInt, state: QArray[QBit]):\n",
    "    suzuki_trotter(\n",
    "        pauli_operator=normalized_mol_hamiltonian,\n",
    "        evolution_coefficient=-2 * pi * p,\n",
    "        order=2,\n",
    "        repetitions=ceiling_qmod(experimental_r0 * p ** (3 / 2)),\n",
    "        qbv=state,\n",
    "    )"
   ]
  },
  {
   "cell_type": "markdown",
   "id": "a17ed790-e728-4787-bbda-5ba671d2c124",
   "metadata": {},
   "source": [
    "### Defining and synthesizing the phase estimation model"
   ]
  },
  {
   "cell_type": "code",
   "execution_count": 16,
   "id": "346b55fc-c89b-4dab-8f04-558d81bdce5f",
   "metadata": {
    "ExecuteTime": {
     "end_time": "2025-03-04T20:45:38.912360Z",
     "start_time": "2025-03-04T20:44:32.740923Z"
    }
   },
   "outputs": [],
   "source": [
    "@qfunc\n",
    "def main(\n",
    "    state: Output[QArray[QBit]], phase: Output[QNum[QPE_SIZE, False, QPE_SIZE]]\n",
    ") -> None:\n",
    "\n",
    "    allocate(problem_size, state)\n",
    "    molecule_hartree_fock(molecule_problem_to_qmod(gs_problem), state)\n",
    "    allocate(QPE_SIZE, phase)\n",
    "    qpe_flexible(lambda p: powered_st2_for_LiH(p, state), phase)\n",
    "\n",
    "\n",
    "qmod = create_model(\n",
    "    main,\n",
    "    preferences=Preferences(timeout_seconds=600),\n",
    "    out_file=\"qpe_for_molecules\",\n",
    ")\n",
    "qprog = synthesize(qmod)"
   ]
  },
  {
   "cell_type": "markdown",
   "id": "c7e16994-cca8-4b2b-b65d-79868780f749",
   "metadata": {},
   "source": [
    "## Measurment and Analysis\n"
   ]
  },
  {
   "cell_type": "markdown",
   "id": "669c971b-82e1-4553-aa60-04c281248e5f",
   "metadata": {},
   "source": [
    "First we execute on the default simulator:"
   ]
  },
  {
   "cell_type": "code",
   "execution_count": 17,
   "id": "97391a32-334b-4c85-922a-767e65eee836",
   "metadata": {
    "ExecuteTime": {
     "end_time": "2025-03-04T20:45:51.048568Z",
     "start_time": "2025-03-04T20:45:38.913523Z"
    }
   },
   "outputs": [],
   "source": [
    "res = execute(qprog).result_value()"
   ]
  },
  {
   "cell_type": "markdown",
   "id": "eacde622-296a-4c80-8369-8af68648c973",
   "metadata": {},
   "source": [
    "Next, we use our `post_process_phase` function to draw a histogram for the energies "
   ]
  },
  {
   "cell_type": "code",
   "execution_count": 18,
   "id": "7bffbb3e-f3ba-44f2-b8f8-4a0432cb90e7",
   "metadata": {
    "ExecuteTime": {
     "end_time": "2025-03-04T20:45:51.135994Z",
     "start_time": "2025-03-04T20:45:51.049352Z"
    }
   },
   "outputs": [
    {
     "name": "stdout",
     "output_type": "stream",
     "text": [
      "\n",
      "Highest probability: -1.1009663875965587 Ha\n",
      "Precision: 0.13762079844956984 Ha\n",
      "Classical solution:, -1.0789776863285268 Ha\n"
     ]
    },
    {
     "data": {
      "text/plain": "<Figure size 640x480 with 1 Axes>",
      "image/png": "[encoded data removed]"
     },
     "metadata": {},
     "output_type": "display_data"
    }
   ],
   "source": [
    "phase_counts = res.parsed_counts_of_outputs(\"phase\")\n",
    "num_shots = res.num_shots\n",
    "\n",
    "energy_results = {\n",
    "    post_process_phase(sample.state[\"phase\"], normalization): sample.shots / num_shots\n",
    "    for sample in phase_counts\n",
    "}\n",
    "plt.plot(energy_results.keys(), energy_results.values(), \"o\")\n",
    "\n",
    "measured_phase = max(energy_results, key=energy_results.get)\n",
    "print(f\"\\nHighest probability: {measured_phase} Ha\")\n",
    "print(f\"Precision: {post_process_phase(2**(-QPE_SIZE), normalization)} Ha\")\n",
    "plt.xlabel(\"Energy (Ha)\", fontsize=16)\n",
    "plt.ylabel(\"P(Energy)\", fontsize=16)\n",
    "plt.tick_params(axis=\"both\", labelsize=16)\n",
    "plt.title(\"Energy Histogram from QPE\")\n",
    "print(f\"Classical solution:, {classical_sol} Ha\")"
   ]
  },
  {
   "cell_type": "markdown",
   "id": "43c249a1-9db3-4164-bec1-f345670d4cd1",
   "metadata": {},
   "source": [
    "### Minimal energy analysis"
   ]
  },
  {
   "cell_type": "markdown",
   "id": "03646146-3c77-4fbe-9f2a-b1b3ca8eaf80",
   "metadata": {},
   "source": [
    "Recall that the QPE returns the eigenphase when applied on an eigenvector. In the QPE routine for finding the ground state of a molecule we assume that we start with an initial state that has some overlap with the minimal energy. The code below analyzes the QPE histogram and retrieves approximation of the minimal energy according to the following lines:\n",
    "\n",
    "* Assume the initial state has some `OVERLAP` with the ground state.\n",
    "* Filter the histogram with phases such that their probability is larger than OVERLAP*0.4 (0.4 is the case for OVERLAP=1).\n",
    "* Take a weighted average over the first peak of the filtered histogram (recall that we are looking for the smallest eigenvalue)."
   ]
  },
  {
   "cell_type": "code",
   "execution_count": 19,
   "id": "0b53e3ef-bb1d-4857-bfdc-1f3a32452cfe",
   "metadata": {
    "ExecuteTime": {
     "end_time": "2025-03-04T20:45:51.139922Z",
     "start_time": "2025-03-04T20:45:51.138592Z"
    }
   },
   "outputs": [],
   "source": [
    "ASSUMED_OVERLAP = 0.03\n",
    "max_prob = ASSUMED_OVERLAP * 0.4\n",
    "\n",
    "\n",
    "def get_indices_of_first_peak(overlap_probs):\n",
    "    if len(overlap_probs) == 1:\n",
    "        return 1\n",
    "    doverlaps_prob = np.sign(np.diff(overlap_probs))  # first derivative\n",
    "    if len(doverlaps_prob) == 1:\n",
    "        return 2\n",
    "    ddoverlaps_prob = np.diff(doverlaps_prob)  # second derivative\n",
    "    if doverlaps_prob[0] == 1:  # positive derivative\n",
    "        ind = np.where(ddoverlaps_prob == -2)[0]  # first minima\n",
    "        if len(ind) == 0:\n",
    "            return len(overlap_probs)\n",
    "        else:\n",
    "            return ind[0] + 3\n",
    "    else:  # negative derivative\n",
    "        ind = np.where(ddoverlaps_prob == 2)[0]  # first minima\n",
    "        if len(ind) == 0:\n",
    "            return len(overlap_probs)\n",
    "        else:\n",
    "            return ind[0] + 3\n",
    "\n",
    "\n",
    "def get_energy(data_dict):\n",
    "\n",
    "    probs = list(data_dict.values())\n",
    "    phases = [float(key) for key in data_dict.keys()]\n",
    "    data = list(zip(phases, probs))\n",
    "    data_sorted = sorted(data, key=lambda x: x[0])\n",
    "    overlaps = [\n",
    "        data_point for data_point in data_sorted if data_point[1] > max_prob\n",
    "    ]  # all points above the threshold\n",
    "    last_ind = get_indices_of_first_peak([overlap[1] for overlap in overlaps])\n",
    "\n",
    "    first_peak = overlaps[0:last_ind]\n",
    "    sum_prob = sum([overlap[1] for overlap in first_peak])\n",
    "    weighted_energy = sum(\n",
    "        [overlap[0] * overlap[1] / sum_prob for overlap in first_peak]\n",
    "    )\n",
    "\n",
    "    return first_peak, weighted_energy"
   ]
  },
  {
   "cell_type": "code",
   "execution_count": 20,
   "id": "b116560a-564c-4765-bdb5-ae6432a65ea9",
   "metadata": {
    "ExecuteTime": {
     "end_time": "2025-03-04T20:45:51.142108Z",
     "start_time": "2025-03-04T20:45:51.140799Z"
    }
   },
   "outputs": [],
   "source": [
    "first_peak, estimated_energy = get_energy(energy_results)"
   ]
  },
  {
   "cell_type": "code",
   "execution_count": 22,
   "id": "ebb0f040-fefc-45b8-ab4f-dd9c810eb43f",
   "metadata": {
    "ExecuteTime": {
     "end_time": "2025-03-04T20:46:09.462625Z",
     "start_time": "2025-03-04T20:46:09.386116Z"
    }
   },
   "outputs": [
    {
     "name": "stdout",
     "output_type": "stream",
     "text": [
      "Estimated energy: -1.092779103751533 Ha\n",
      "Classical solution:, -1.0789776863285268 Ha\n"
     ]
    },
    {
     "data": {
      "text/plain": "<Figure size 640x480 with 1 Axes>",
      "image/png": "[encoded data removed]"
     },
     "metadata": {},
     "output_type": "display_data"
    }
   ],
   "source": [
    "plt.plot(energy_results.keys(), energy_results.values(), \"o\")\n",
    "plt.plot([data[0] for data in first_peak], [data[1] for data in first_peak], \"o\")\n",
    "\n",
    "print(f\"Estimated energy: {estimated_energy} Ha\")\n",
    "print(f\"Classical solution:, {classical_sol} Ha\")\n",
    "plt.xlabel(\"Energy (Ha)\", fontsize=16)\n",
    "plt.ylabel(\"P(Energy)\", fontsize=16)\n",
    "plt.tick_params(axis=\"both\", labelsize=16)\n",
    "plt.title(\"Energy Histogram from QPE\")\n",
    "plt.legend([\"Energy Histogram\", \"Filtered first peak\"]);"
   ]
  },
  {
   "cell_type": "markdown",
   "id": "9797b512-d41f-47c1-8c0f-4134f0500b80",
   "metadata": {},
   "source": [
    "## References\n",
    "\n",
    "<a name='NC'>[1]</a>: [Michael A. Nielsen and Isaac L. Chuang. 2011. Quantum Computation and Quantum Information: 10th Anniversary Edition, Cambridge University Press, New York, NY, USA.\n",
    "](https://archive.org/details/QuantumComputationAndQuantumInformation10thAnniversaryEdition)\n",
    "\n",
    "<a name='Bounds'>[2]</a>: [M. Hagan and N. Wiebe. Composite Quantum Simulations, Quantum 7, 1881 (2023).\n",
    "](https://quantum-journal.org/papers/q-2023-11-14-1181/)\n",
    "\n",
    "<a name='Diamond'>[3]</a>: [Diamond Norm (Wikipedia)\n",
    "](https://en.wikipedia.org/wiki/Diamond_norm)\n",
    "\n"
   ]
  }
 ],
 "metadata": {
  "kernelspec": {
   "display_name": "Python 3 (ipykernel)",
   "language": "python",
   "name": "python3"
  },
  "language_info": {
   "codemirror_mode": {
    "name": "ipython",
    "version": 3
   },
   "file_extension": ".py",
   "mimetype": "text/x-python",
   "name": "python",
   "nbconvert_exporter": "python",
   "pygments_lexer": "ipython3",
   "version": "3.11.9"
  }
 },
 "nbformat": 4,
 "nbformat_minor": 5
}
