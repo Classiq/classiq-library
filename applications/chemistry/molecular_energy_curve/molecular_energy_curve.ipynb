{
 "cells": [
  {
   "cell_type": "markdown",
   "id": "c63de343-cabb-4198-ae97-b23cdf2ae9e7",
   "metadata": {
    "pycharm": {
     "name": "#%% md\n"
    }
   },
   "source": [
    "# Creating a Molecule's Potential Energy Curve\n",
    "\n",
    "A potential energy curve gives the ground energy of an assemble of atoms as function of the distances between them. The global minima of the curve indicates the binding energy and internuclear distance for the stable molecule. Therefor, such curve can be powerful tool in computational chemistry, for predicting molecular structure and spectrum.\n",
    "\n",
    "In this tutorial, we will demonstrate how, using Classiq's VQE package, the user can create a Molecule's potential energy curve, and compare the result those of the Hartree-Fock approximative method and to the exact results. The exact solution is a result of diagonalizing the Hamiltonian."
   ]
  },
  {
   "cell_type": "markdown",
   "id": "099a3eaa-aec8-4088-89cc-b7fb9fcf161c",
   "metadata": {
    "pycharm": {
     "name": "#%% md\n"
    }
   },
   "source": [
    "## 0. Pre-requirments\n",
    "\n",
    "The model is using several Classiq's libraries in addition to IBM's simulating tool."
   ]
  },
  {
   "cell_type": "code",
   "execution_count": 1,
   "id": "02f49a11",
   "metadata": {
    "execution": {
     "iopub.execute_input": "2024-07-31T10:01:15.043207Z",
     "iopub.status.busy": "2024-07-31T10:01:15.042734Z",
     "iopub.status.idle": "2024-07-31T10:01:18.074637Z",
     "shell.execute_reply": "2024-07-31T10:01:18.073961Z"
    }
   },
   "outputs": [],
   "source": [
    "import time\n",
    "\n",
    "import matplotlib.pyplot as plt\n",
    "import numpy as np\n",
    "\n",
    "from classiq import construct_chemistry_model, execute, show, synthesize\n",
    "from classiq.applications.chemistry import (\n",
    "    ChemistryExecutionParameters,\n",
    "    HEAParameters,\n",
    "    Molecule,\n",
    "    MoleculeProblem,\n",
    "    UCCParameters,\n",
    ")\n",
    "from classiq.execution import OptimizerType"
   ]
  },
  {
   "cell_type": "markdown",
   "id": "b385d28a-efbf-41ae-b542-ed97ed6780b3",
   "metadata": {
    "pycharm": {
     "name": "#%% md\n"
    }
   },
   "source": [
    "## 1. Defintions and Initialization\n",
    "\n",
    "Here, we define the range of internuclear distances for the model to simulate, and chose the number of sampling point in this range, which determines the graph's resolution."
   ]
  },
  {
   "cell_type": "code",
   "execution_count": 2,
   "id": "238c6d3c-2ab7-4033-94c3-917debd90b17",
   "metadata": {
    "execution": {
     "iopub.execute_input": "2024-07-31T10:01:18.077544Z",
     "iopub.status.busy": "2024-07-31T10:01:18.077180Z",
     "iopub.status.idle": "2024-07-31T10:01:18.082601Z",
     "shell.execute_reply": "2024-07-31T10:01:18.081917Z"
    },
    "pycharm": {
     "name": "#%%\n"
    }
   },
   "outputs": [
    {
     "name": "stdout",
     "output_type": "stream",
     "text": [
      "[0.2  0.4  0.6  0.8  1.   1.4  1.75 2.1  2.45 2.8  3.15 3.5 ]\n"
     ]
    }
   ],
   "source": [
    "# define the sampling params\n",
    "num1 = 5  # how many sampling points - determines your resolution\n",
    "start1 = 0.20  # what is your sampling start distance\n",
    "stop1 = 1  # what is your sampling end distance\n",
    "num2 = 7  # how many sampling points - determines your resolution\n",
    "start2 = 1.4  # what is your sampling start distance\n",
    "stop2 = 3.5  # what is your sampling end distance\n",
    "\n",
    "\n",
    "# prepare x,y vectors\n",
    "distance = np.append(np.linspace(start1, stop1, num1), np.linspace(start2, stop2, num2))\n",
    "VQE_energy = []\n",
    "HF_energy = []\n",
    "exact_energy = []\n",
    "\n",
    "print(distance)"
   ]
  },
  {
   "cell_type": "markdown",
   "id": "e482b279-dfda-46b6-be32-0bce69fb52d6",
   "metadata": {
    "pycharm": {
     "name": "#%% md\n"
    }
   },
   "source": [
    "## 2. Energy Estimations\n",
    "\n",
    "Here we define a for-loop, which does the following steps:\n",
    "\n",
    "a. creating molecule at changing distances between the atoms.\n",
    "\n",
    "b. Constructing a chemistry model for the corresponding Hamiltonian, using Hartree-Fock initial state and UCC ansatz.\n",
    "\n",
    "c. Synthesizing the model to get a quantum program.\n",
    "\n",
    "d. Executing the quantum program to extract a solution for the ground energy.\n",
    "\n",
    "e. Obtain the exact solution and Hartree-Fock solution."
   ]
  },
  {
   "cell_type": "code",
   "execution_count": 3,
   "id": "b25f416a",
   "metadata": {
    "execution": {
     "iopub.execute_input": "2024-07-31T10:01:18.084959Z",
     "iopub.status.busy": "2024-07-31T10:01:18.084604Z",
     "iopub.status.idle": "2024-07-31T10:03:38.736825Z",
     "shell.execute_reply": "2024-07-31T10:03:38.736105Z"
    }
   },
   "outputs": [
    {
     "name": "stdout",
     "output_type": "stream",
     "text": [
      "10.898590564727783\n"
     ]
    },
    {
     "name": "stdout",
     "output_type": "stream",
     "text": [
      "11.747302770614624\n"
     ]
    },
    {
     "name": "stdout",
     "output_type": "stream",
     "text": [
      "12.790097713470459\n"
     ]
    },
    {
     "name": "stdout",
     "output_type": "stream",
     "text": [
      "11.918429136276245\n"
     ]
    },
    {
     "name": "stdout",
     "output_type": "stream",
     "text": [
      "10.73127555847168\n"
     ]
    },
    {
     "name": "stdout",
     "output_type": "stream",
     "text": [
      "13.76307225227356\n"
     ]
    },
    {
     "name": "stdout",
     "output_type": "stream",
     "text": [
      "11.681713104248047\n"
     ]
    },
    {
     "name": "stdout",
     "output_type": "stream",
     "text": [
      "10.668424606323242\n"
     ]
    },
    {
     "name": "stdout",
     "output_type": "stream",
     "text": [
      "12.745018720626831\n"
     ]
    },
    {
     "name": "stdout",
     "output_type": "stream",
     "text": [
      "12.173685312271118\n"
     ]
    },
    {
     "name": "stdout",
     "output_type": "stream",
     "text": [
      "10.815608501434326\n"
     ]
    },
    {
     "name": "stdout",
     "output_type": "stream",
     "text": [
      "10.709745407104492\n"
     ]
    }
   ],
   "source": [
    "# create the molecule, insert the distance, prepare H, create UCC anzats and solve in energy\n",
    "for x in distance:\n",
    "    time1 = time.time()\n",
    "\n",
    "    molecule = Molecule(atoms=[(\"H\", (0.0, 0.0, 0)), (\"H\", (0.0, 0.0, float(x)))])\n",
    "\n",
    "    chemistry_problem = MoleculeProblem(\n",
    "        molecule=molecule,\n",
    "        mapping=\"jordan_wigner\",  # 'bravyi_kitaev'\n",
    "        z2_symmetries=True,\n",
    "        freeze_core=True,\n",
    "    )\n",
    "\n",
    "    qmod = construct_chemistry_model(\n",
    "        chemistry_problem=chemistry_problem,\n",
    "        use_hartree_fock=True,\n",
    "        ansatz_parameters=UCCParameters(excitations=[1, 2]),\n",
    "        execution_parameters=ChemistryExecutionParameters(\n",
    "            optimizer=OptimizerType.COBYLA,\n",
    "            max_iteration=30,\n",
    "            initial_point=None,\n",
    "        ),\n",
    "    )\n",
    "\n",
    "    qprog = synthesize(qmod)\n",
    "\n",
    "    result = execute(qprog).result()\n",
    "    chemistry_result_dict = result[1].value\n",
    "\n",
    "    operator = chemistry_problem.generate_hamiltonian()\n",
    "    mat = operator.to_matrix()\n",
    "    w, v = np.linalg.eig(mat)\n",
    "    result_exact = np.real(min(w)) + chemistry_result_dict[\"nuclear_repulsion_energy\"]\n",
    "\n",
    "    VQE_energy.append(chemistry_result_dict[\"total_energy\"])\n",
    "\n",
    "    HF_energy.append(chemistry_result_dict[\"hartree_fock_energy\"])\n",
    "\n",
    "    exact_energy.append(result_exact)\n",
    "\n",
    "    time2 = time.time()\n",
    "    print(time2 - time1)"
   ]
  },
  {
   "cell_type": "code",
   "execution_count": 4,
   "id": "814b6501-6437-4fb8-96a9-4318b0ff54ea",
   "metadata": {
    "execution": {
     "iopub.execute_input": "2024-07-31T10:03:38.747491Z",
     "iopub.status.busy": "2024-07-31T10:03:38.740152Z",
     "iopub.status.idle": "2024-07-31T10:03:38.789588Z",
     "shell.execute_reply": "2024-07-31T10:03:38.788723Z"
    }
   },
   "outputs": [],
   "source": [
    "# save the last model to a qmod file\n",
    "from classiq import write_qmod\n",
    "\n",
    "write_qmod(qmod, name=\"molecular_energy_curve\")"
   ]
  },
  {
   "cell_type": "markdown",
   "id": "442ddc89",
   "metadata": {
    "pycharm": {
     "name": "#%% md\n"
    }
   },
   "source": [
    "## 3. Create Graph"
   ]
  },
  {
   "cell_type": "code",
   "execution_count": 5,
   "id": "1f657c3d",
   "metadata": {
    "execution": {
     "iopub.execute_input": "2024-07-31T10:03:38.793453Z",
     "iopub.status.busy": "2024-07-31T10:03:38.793207Z",
     "iopub.status.idle": "2024-07-31T10:03:39.128536Z",
     "shell.execute_reply": "2024-07-31T10:03:39.127818Z"
    },
    "pycharm": {
     "name": "#%%\n"
    }
   },
   "outputs": [
    {
     "data": {
      "image/png": "[encoded data removed]",
      "text/plain": [
       "<Figure size 640x480 with 1 Axes>"
      ]
     },
     "metadata": {},
     "output_type": "display_data"
    }
   ],
   "source": [
    "plt.plot(\n",
    "    distance, VQE_energy, \"r--\", distance, HF_energy, \"bs\", distance, exact_energy, \"g^\"\n",
    ")\n",
    "\n",
    "plt.xlabel(\"distance [\u00c5]\")\n",
    "plt.ylabel(\"energy [Ha]\")\n",
    "plt.legend([\"Classiq VQE\", \"Hartree-Fock\", \"Exact solution\"])\n",
    "plt.title(\"Binding Curve H_{2}\")\n",
    "\n",
    "plt.show()"
   ]
  },
  {
   "cell_type": "markdown",
   "id": "6886a471",
   "metadata": {
    "pycharm": {
     "name": "#%% md\n"
    }
   },
   "source": [
    "This graph presents the ground state for $H_{2}$ molecule as a function of the distance between the two hydrogen atoms. One can see that both the HF solution and Classiq VQE present decent results around the global minima. For further distances, Classiq VQE stays close to the exact solution while the HF solution gradually deviates. The source of this lack of correspondence is with the lack of flexible correlations within the HF model, which is enabled within VQE scope.\n",
    "One can similarly create graphs for different molecules (even n- dimensional or larger atom assemblies), to explore more curves.\n"
   ]
  }
 ],
 "metadata": {
  "kernelspec": {
   "display_name": "Python 3 (ipykernel)",
   "language": "python",
   "name": "python3"
  },
  "language_info": {
   "codemirror_mode": {
    "name": "ipython",
    "version": 3
   },
   "file_extension": ".py",
   "mimetype": "text/x-python",
   "name": "python",
   "nbconvert_exporter": "python",
   "pygments_lexer": "ipython3",
   "version": "3.11.9"
  }
 },
 "nbformat": 4,
 "nbformat_minor": 5
}
