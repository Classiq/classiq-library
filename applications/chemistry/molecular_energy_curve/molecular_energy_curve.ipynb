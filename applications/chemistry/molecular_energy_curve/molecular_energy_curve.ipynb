{
 "cells": [
  {
   "cell_type": "markdown",
   "id": "c63de343-cabb-4198-ae97-b23cdf2ae9e7",
   "metadata": {
    "pycharm": {
     "name": "#%% md\n"
    }
   },
   "source": [
    "# Creating a Molecule's Potential Energy Curve\n",
    "\n",
    "A potential energy curve gives the ground energy of an assembly of atoms as a function of the distances between them. The global minima of the curve indicates the binding energy and internuclear distance for the stable molecule. Therefore, such a curve can be powerful tool in computational chemistry for predicting the molecular structure and spectrum.\n",
    "\n",
    "This tutorial demonstrates how to use the Classiq chemistry package to create a molecule's potential energy curve. It compares the result with the Hartree-Fock approximation method and the FCI (Full Configuration Interaction) energy."
   ]
  },
  {
   "cell_type": "markdown",
   "id": "b385d28a-efbf-41ae-b542-ed97ed6780b3",
   "metadata": {
    "pycharm": {
     "name": "#%% md\n"
    }
   },
   "source": [
    "## Definitions and Initialization\n",
    "\n",
    "Define the range of internuclear distances for the model to simulate, and choose the number of sampling points in this range, which determines the graph's resolution."
   ]
  },
  {
   "cell_type": "code",
   "execution_count": 1,
   "id": "238c6d3c-2ab7-4033-94c3-917debd90b17",
   "metadata": {
    "pycharm": {
     "name": "#%%\n"
    }
   },
   "outputs": [
    {
     "name": "stdout",
     "output_type": "stream",
     "text": [
      "[0.2  0.4  0.6  0.8  1.   1.4  1.75 2.1  2.45 2.8  3.15 3.5 ]\n"
     ]
    }
   ],
   "source": [
    "import numpy as np\n",
    "\n",
    "# define the sampling params\n",
    "num1 = 5  # how many sampling points - determines your resolution\n",
    "start1 = 0.20  # what is your sampling start distance\n",
    "stop1 = 1  # what is your sampling end distance\n",
    "num2 = 7  # how many sampling points - determines your resolution\n",
    "start2 = 1.4  # what is your sampling start distance\n",
    "stop2 = 3.5  # what is your sampling end distance\n",
    "\n",
    "\n",
    "# prepare x,y vectors\n",
    "distance = np.append(np.linspace(start1, stop1, num1), np.linspace(start2, stop2, num2))\n",
    "VQE_energy = []\n",
    "HF_energy = []\n",
    "exact_energy = []\n",
    "\n",
    "print(distance)"
   ]
  },
  {
   "cell_type": "markdown",
   "id": "e482b279-dfda-46b6-be32-0bce69fb52d6",
   "metadata": {
    "pycharm": {
     "name": "#%% md\n"
    }
   },
   "source": [
    "## Energy Estimations\n",
    "\n",
    "Define a for-loop, which takes these steps:\n",
    "\n",
    "1. Creating a molecule at changing distances between the atoms.\n",
    "2. Constructing a chemistry model for the corresponding Hamiltonian, using the Hartree-Fock initial state and UCC ansatz.\n",
    "3. Synthesizing the model to get a quantum program.\n",
    "4. Executing the quantum program to extract a solution for the ground energy.\n",
    "5. Obtaining the exact solution and Hartree-Fock solution."
   ]
  },
  {
   "cell_type": "code",
   "execution_count": 2,
   "id": "4979cda7-ff3c-4f1b-bd72-000aabc84a2b",
   "metadata": {},
   "outputs": [],
   "source": [
    "import time\n",
    "\n",
    "from classiq import *"
   ]
  },
  {
   "cell_type": "code",
   "execution_count": 3,
   "id": "b25f416a",
   "metadata": {},
   "outputs": [
    {
     "name": "stdout",
     "output_type": "stream",
     "text": [
      "5.403509855270386\n",
      "3.093651056289673\n",
      "3.4077019691467285\n",
      "3.023664712905884\n",
      "3.3719558715820312\n",
      "3.364731788635254\n",
      "3.5703423023223877\n",
      "3.436528205871582\n",
      "3.3499598503112793\n",
      "3.333562135696411\n",
      "3.357571840286255\n",
      "3.066948175430298\n"
     ]
    },
    {
     "name": "stdout",
     "output_type": "stream",
     "text": [
      "9.940804243087769\n"
     ]
    },
    {
     "name": "stdout",
     "output_type": "stream",
     "text": [
      "10.691434860229492\n"
     ]
    },
    {
     "name": "stdout",
     "output_type": "stream",
     "text": [
      "11.07170820236206\n"
     ]
    },
    {
     "name": "stdout",
     "output_type": "stream",
     "text": [
      "9.649993658065796\n"
     ]
    },
    {
     "name": "stdout",
     "output_type": "stream",
     "text": [
      "11.017099618911743\n"
     ]
    },
    {
     "name": "stdout",
     "output_type": "stream",
     "text": [
      "10.790261507034302\n"
     ]
    },
    {
     "name": "stdout",
     "output_type": "stream",
     "text": [
      "9.763712167739868\n"
     ]
    },
    {
     "name": "stdout",
     "output_type": "stream",
     "text": [
      "9.770148515701294\n"
     ]
    },
    {
     "name": "stdout",
     "output_type": "stream",
     "text": [
      "9.85509705543518\n"
     ]
    },
    {
     "name": "stdout",
     "output_type": "stream",
     "text": [
      "15.547704696655273\n"
     ]
    }
   ],
   "source": [
    "from openfermion.chem import MolecularData\n",
    "from openfermionpyscf import run_pyscf\n",
    "\n",
    "from classiq.applications.chemistry.hartree_fock import get_hf_state\n",
    "from classiq.applications.chemistry.op_utils import qubit_op_to_pauli_terms\n",
    "from classiq.applications.chemistry.problems import FermionHamiltonianProblem\n",
    "from classiq.applications.chemistry.ucc import get_ucc_hamiltonians\n",
    "from classiq.applications.chemistry.z2_symmetries import Z2SymTaperMapper\n",
    "\n",
    "# create the molecule, insert the distance, prepare H, create UCC anzats and solve in energy\n",
    "qmods = []\n",
    "qprogs = []\n",
    "results = []\n",
    "durations = []\n",
    "\n",
    "for x in distance:\n",
    "    time1 = time.time()\n",
    "\n",
    "    # Define a molecule\n",
    "    geometry = [(\"H\", (0.0, 0.0, 0)), (\"H\", (0.0, 0.0, float(x)))]\n",
    "    molecule = MolecularData(geometry, basis=\"sto-3g\", multiplicity=1, charge=0)\n",
    "    molecule = run_pyscf(\n",
    "        molecule,\n",
    "        run_mp2=True,\n",
    "        run_cisd=True,\n",
    "        run_ccsd=True,\n",
    "        run_fci=True,  # relevant for small, classically solvable problems\n",
    "    )\n",
    "\n",
    "    # Define a problem and a mapper\n",
    "    problem = FermionHamiltonianProblem.from_molecule(molecule)\n",
    "    mapper = Z2SymTaperMapper.from_problem(problem)\n",
    "\n",
    "    # Construct a model\n",
    "    hf_state = get_hf_state(problem, mapper)\n",
    "    uccsd_hamiltonians = get_ucc_hamiltonians(problem, mapper, excitations=[1, 2])\n",
    "    num_params = len(uccsd_hamiltonians)\n",
    "    vqe_hamiltonian = qubit_op_to_pauli_terms(mapper.map(problem.fermion_hamiltonian))\n",
    "\n",
    "    @qfunc\n",
    "    def main(params: CArray[CReal, num_params], state: Output[QArray]):\n",
    "        prepare_basis_state(hf_state, state)\n",
    "        multi_suzuki_trotter(uccsd_hamiltonians, params, 1, 1, state)\n",
    "\n",
    "    # Synthesize\n",
    "    qprog = synthesize(main)\n",
    "    qprog = set_quantum_program_execution_preferences(\n",
    "        qprog,\n",
    "        preferences=ExecutionPreferences(\n",
    "            num_shots=1000,\n",
    "            backend_preferences=ClassiqBackendPreferences(\n",
    "                backend_name=\"simulator_statevector\"\n",
    "            ),\n",
    "        ),\n",
    "    )\n",
    "    qprogs.append(qprog)\n",
    "\n",
    "    # Execute\n",
    "    with ExecutionSession(qprog) as es:\n",
    "        result = es.minimize(\n",
    "            cost_function=vqe_hamiltonian,\n",
    "            initial_params={\"params\": [0] * num_params},\n",
    "            max_iteration=500,\n",
    "        )\n",
    "\n",
    "    VQE_energy.append(result[-1][0])\n",
    "    HF_energy.append(molecule.hf_energy)\n",
    "    exact_energy.append(molecule.fci_energy)\n",
    "\n",
    "    time2 = time.time()\n",
    "    duration = time2 - time1\n",
    "    durations.append(duration)\n",
    "    print(duration)"
   ]
  },
  {
   "cell_type": "code",
   "execution_count": 4,
   "id": "814b6501-6437-4fb8-96a9-4318b0ff54ea",
   "metadata": {},
   "outputs": [],
   "source": [
    "# # save the last model to a qmod file\n",
    "write_qmod(main, \"molecular_energy_curve\", symbolic_only=False)"
   ]
  },
  {
   "cell_type": "markdown",
   "id": "442ddc89",
   "metadata": {
    "pycharm": {
     "name": "#%% md\n"
    }
   },
   "source": [
    "## Graph Creation"
   ]
  },
  {
   "cell_type": "code",
   "execution_count": 5,
   "id": "1f657c3d",
   "metadata": {
    "pycharm": {
     "name": "#%%\n"
    }
   },
   "outputs": [
    {
     "data": {
      "image/png": "[encoded data removed]",
      "text/plain": [
       "<Figure size 640x480 with 1 Axes>"
      ]
     },
     "metadata": {},
     "output_type": "display_data"
    }
   ],
   "source": [
    "import matplotlib.pyplot as plt\n",
    "\n",
    "plt.plot(\n",
    "    distance, VQE_energy, \"r--\", distance, HF_energy, \"bs\", distance, exact_energy, \"g^\"\n",
    ")\n",
    "\n",
    "plt.xlabel(\"distance [Å]\")\n",
    "plt.ylabel(\"energy [Ha]\")\n",
    "plt.legend([\"Classiq VQE\", \"Hartree-Fock\", \"Exact solution\"])\n",
    "plt.title(\"Binding Curve H_{2}\")\n",
    "\n",
    "plt.show()"
   ]
  },
  {
   "cell_type": "markdown",
   "id": "6886a471",
   "metadata": {
    "pycharm": {
     "name": "#%% md\n"
    }
   },
   "source": [
    "This graph presents the ground state for the $H_{2}$ molecule as a function of the distance between the two hydrogen atoms. Note that both the HF solution and Classiq VQE present decent results around the global minima. For further distances, Classiq VQE stays close to the exact solution while the HF solution gradually deviates. The source of this lack of correspondence is with the lack of flexible correlations within the HF model, which is enabled within the VQE scope.\n",
    "You can explore more curves, creating graphs for different molecules (even n-dimensional or larger atom assemblies) in a similar fashion.\n"
   ]
  }
 ],
 "metadata": {
  "kernelspec": {
   "display_name": "Python 3 (ipykernel)",
   "language": "python",
   "name": "python3"
  },
  "language_info": {
   "codemirror_mode": {
    "name": "ipython",
    "version": 3
   },
   "file_extension": ".py",
   "mimetype": "text/x-python",
   "name": "python",
   "nbconvert_exporter": "python",
   "pygments_lexer": "ipython3",
   "version": "3.11.9"
  }
 },
 "nbformat": 4,
 "nbformat_minor": 5
}
