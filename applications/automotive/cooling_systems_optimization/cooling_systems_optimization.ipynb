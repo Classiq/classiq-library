{
 "cells": [
  {
   "cell_type": "markdown",
   "id": "9ba3e3e2",
   "metadata": {},
   "source": [
    "# Quantum Simulation-Based Optimization (QuSO) of a Cooling System\n",
    "\n",
    "This notebook shows how to implement the QuSO algorithm for the cooling system problem presented in the paper: [Quantum Simulation-Based Optimization of a Cooling System](https://arxiv.org/abs/2504.15460)."
   ]
  },
  {
   "cell_type": "code",
   "execution_count": 1,
   "id": "45ca7eb1",
   "metadata": {
    "ExecuteTime": {
     "end_time": "2025-04-28T13:41:51.587673Z",
     "start_time": "2025-04-28T13:41:48.254300Z"
    }
   },
   "outputs": [],
   "source": [
    "import numpy as np\n",
    "from classiq import *\n",
    "import pyqsp\n",
    "from pyqsp.angle_sequence import QuantumSignalProcessingPhases\n",
    "from classiq.qmod.symbolic import log, logical_and\n",
    "from sympy import sin, symbols, solve, simplify\n",
    "from classiq.execution import *\n",
    "from functools import reduce\n",
    "from operator import mul\n",
    "from scipy.optimize import curve_fit\n",
    "import itertools"
   ]
  },
  {
   "cell_type": "markdown",
   "id": "c7d0b436",
   "metadata": {},
   "source": [
    "# Matrix Block Encoding\n",
    "As discussed in the paper, we simulate the cooling system \n",
    "\n",
    "<img src=\"cooling_system.png\" alt=\"Sketch\" title=\"Sketch\" width=\"1000\"/>\n",
    "\n",
    "by solving the linear system of equations\n",
    "$$\n",
    "A(x)\\tilde{T}=B,\n",
    "$$\n",
    "where $A(x)$ is the system matrix depending on the binary values $x_{ij}$, $\\tilde{T}$ is the temperature vector, and $B$ is the vector containing the external heat or cooling sources.\n",
    "In order to solve the system above, we need to block encode matrix $A(x)$, which will be shown in the following:"
   ]
  },
  {
   "cell_type": "code",
   "execution_count": 2,
   "id": "2070fb6b",
   "metadata": {
    "ExecuteTime": {
     "end_time": "2025-04-28T13:41:51.592125Z",
     "start_time": "2025-04-28T13:41:51.590976Z"
    }
   },
   "outputs": [],
   "source": [
    "# define system parameters\n",
    "# Environmental Parameters\n",
    "T_env = 293       # Ambient temperature (K)\n",
    "R_env = 0.001      # Convection resistance to ambient (K/W)\n",
    "\n",
    "# Heat Flows (in Watts)\n",
    "# Positive values indicate heat generation; negative values indicate cooling.\n",
    "Q_1 = 2000    \n",
    "Q_2 = 4000    \n",
    "Q_3 = -200    \n",
    "Q_4 = -2000   \n",
    "\n",
    "# Inter-node Thermal Resistances (in K/W)\n",
    "# These values lump together conduction and convection effects.\n",
    "R_12 = 0.005\n",
    "R_13 = 0.006\n",
    "R_14 = 0.006\n",
    "R_23 = 0.007\n",
    "R_24 = 0.007\n",
    "R_34 = 0.008\n",
    "\n",
    "R_dict = {\n",
    "    (0, 1): R_12,\n",
    "    (0, 2): R_13,\n",
    "    (0, 3): R_14,\n",
    "    (1, 2): R_23,\n",
    "    (1, 3): R_24,\n",
    "    (2, 3): R_34\n",
    "}\n",
    "\n",
    "connections = [(0, 1), (0, 2), (0, 3), (1, 2), (1, 3), (2, 3)]\n",
    "\n",
    "conductance_coeffs = [1/R_12, 1/R_13, 1/R_14, 1/R_23, 1/R_24, 1/R_34, 1/(2*R_env), 0]\n",
    "C_l = np.sum(conductance_coeffs)**(-1/2)\n",
    "conductance_coeffs_amps = np.sqrt(conductance_coeffs)*C_l\n",
    "\n",
    "B = np.array([Q_1, Q_2, Q_3, Q_4])\n",
    "C_B = np.sum([el**2 for el in B])**(-1/2)\n",
    "B_amps = C_B*B"
   ]
  },
  {
   "cell_type": "code",
   "execution_count": 3,
   "id": "974625fb",
   "metadata": {
    "ExecuteTime": {
     "end_time": "2025-04-28T13:41:51.595849Z",
     "start_time": "2025-04-28T13:41:51.594397Z"
    }
   },
   "outputs": [],
   "source": [
    "# Classical construction of A(x)\n",
    "def build_A(x):\n",
    "    cons = []\n",
    "    for i, x_ij in enumerate(x):\n",
    "        if x_ij == 1:\n",
    "            cons.append(connections[i])\n",
    "    A = np.zeros((4, 4))\n",
    "    for i in range(4):\n",
    "        for j in range(4):\n",
    "            if i == j:\n",
    "                A[i, j] = 1/R_env + np.sum([1/R_dict[con] if i in con else 0 for con in cons])\n",
    "            elif i < j:\n",
    "                if (i, j) in cons:\n",
    "                    A[i, j] = -1/R_dict[(i, j)]\n",
    "            elif i > j:\n",
    "                if (j, i) in cons:\n",
    "                    A[i, j] = -1/R_dict[(j, i)]\n",
    "    return A"
   ]
  },
  {
   "cell_type": "markdown",
   "id": "4ccfb81a",
   "metadata": {},
   "source": [
    "For exampe, if we consider the case where all connections are switched on, we want to encode this matrix:"
   ]
  },
  {
   "cell_type": "code",
   "execution_count": 4,
   "id": "40201b33",
   "metadata": {
    "ExecuteTime": {
     "end_time": "2025-04-28T13:41:51.600423Z",
     "start_time": "2025-04-28T13:41:51.597796Z"
    }
   },
   "outputs": [
    {
     "name": "stdout",
     "output_type": "stream",
     "text": [
      "[[1533.33333333 -200.         -166.66666667 -166.66666667]\n",
      " [-200.         1485.71428571 -142.85714286 -142.85714286]\n",
      " [-166.66666667 -142.85714286 1434.52380952 -125.        ]\n",
      " [-166.66666667 -142.85714286 -125.         1434.52380952]]\n"
     ]
    }
   ],
   "source": [
    "classical_matrix = build_A([1, 1, 1, 1, 1, 1])\n",
    "print(classical_matrix)"
   ]
  },
  {
   "cell_type": "markdown",
   "id": "55694519",
   "metadata": {},
   "source": [
    "Let's do that using our block encoding:"
   ]
  },
  {
   "cell_type": "code",
   "execution_count": 5,
   "id": "d2261486",
   "metadata": {
    "ExecuteTime": {
     "end_time": "2025-04-28T13:41:51.631610Z",
     "start_time": "2025-04-28T13:41:51.608348Z"
    }
   },
   "outputs": [],
   "source": [
    "@qfunc\n",
    "def block_encode_2x2(aux: QNum, data: QArray[QBit]):\n",
    "    \"\"\"\n",
    "    Returns the 2x2 block encoding: 1-X.\n",
    "    \"\"\"\n",
    "    within_apply(\n",
    "        lambda: H(aux),\n",
    "        lambda: control(aux == 1, lambda: (X(data), U(0, 0, 0, np.pi, data))),\n",
    "    )\n",
    "\n",
    "@qfunc\n",
    "def block_encode_2X2_first_qubit(flag: QBit, aux: QBit, data: QArray[QBit]):\n",
    "    \"\"\"\n",
    "    Returns the 2x2 block encoding in the upper left block of a larger matrix padded with zeros.\n",
    "    \"\"\"\n",
    "    lsb = QBit(\"lsb\")\n",
    "    msb = QNum(\"msb\", data.len - 1, False, 0)\n",
    "\n",
    "    bind(data, [lsb, msb])\n",
    "    flag ^= msb > 0\n",
    "\n",
    "    block_encode_2x2(aux, lsb)\n",
    "    bind([lsb, msb], data)\n",
    "\n",
    "@qfunc\n",
    "def block_encode_2X2_arbitrary(\n",
    "    i: CInt, j: CInt, flag: QBit, aux: QBit, data: QArray[QBit]\n",
    "):\n",
    "    \"\"\"\n",
    "    Returns the 2x2 block encoding at arbitrary positions i and j of a larger matrix padded with zeros.\n",
    "    \"\"\"\n",
    "    within_apply(\n",
    "        lambda: permute_block(i, j, data),\n",
    "        lambda: block_encode_2X2_first_qubit(flag, aux, data),\n",
    "    )\n",
    "\n",
    "\n",
    "@qfunc\n",
    "def permute_block(i: CInt, j: CInt, data: QArray[QBit]):\n",
    "    \"\"\"\n",
    "    Returns the permutation operation of i->0 and j->1 in the qubit register data.\n",
    "    \"\"\"\n",
    "    def get_bit(number, index):\n",
    "        return (number >> index) & 1\n",
    "\n",
    "    # move the i state to the 0 state\n",
    "    repeat(\n",
    "        data.len,\n",
    "        lambda k: if_(\n",
    "            get_bit(i, k) == 1, lambda: X(data[k]), lambda: IDENTITY(data[k])\n",
    "        ),\n",
    "    )\n",
    "\n",
    "    #  # get the 1st index for which j^i is not 0\n",
    "    j_updated = j ^ i\n",
    "    highest_nonzero_bit = log(j_updated & ((~j_updated) + 1), 2)\n",
    "\n",
    "    # # filp all 1 bits in updated j conditioned on the 1st bit\n",
    "    repeat(\n",
    "        data.len,\n",
    "        lambda k: if_(\n",
    "            logical_and(k != highest_nonzero_bit, get_bit(j_updated, k)),\n",
    "            lambda: CX(data[highest_nonzero_bit], data[k]),\n",
    "            lambda: IDENTITY(data),\n",
    "        ),\n",
    "    )\n",
    "\n",
    "    # swap the qbit and the 0 qbit\n",
    "    if_(highest_nonzero_bit != 0, lambda: SWAP(data[0], data[highest_nonzero_bit]), lambda: IDENTITY(data))\n",
    "\n",
    "@qfunc\n",
    "def combine_blocks(\n",
    "    pair_list: CArray[CArray[CInt]],\n",
    "    lcu_aux: QNum,\n",
    "    flag: QBit,\n",
    "    aux: QBit,\n",
    "    data: QArray[QBit],\n",
    "):\n",
    "    \"\"\"\n",
    "    Returns the block encoding of several 2x2 matrices placed in a larger matrix padded with zeros.\n",
    "    \"\"\"\n",
    "    within_apply(\n",
    "        lambda: hadamard_transform(lcu_aux),\n",
    "        lambda: repeat(\n",
    "            pair_list.len,\n",
    "            lambda index: control(\n",
    "                lcu_aux == index,\n",
    "                lambda: block_encode_2X2_arbitrary(\n",
    "                    pair_list[index][0], pair_list[index][1], flag, aux, data\n",
    "                ),\n",
    "            ),\n",
    "        ),\n",
    "    )\n",
    "\n",
    "@qfunc\n",
    "def combine_blocks_coeffs(\n",
    "    pair_list: CArray[CArray[CInt]],\n",
    "    amplitudes: CArray[CReal],\n",
    "    lcu_aux: QNum,\n",
    "    flag: QBit,\n",
    "    aux: QBit,\n",
    "    data: QArray[QBit],\n",
    "):\n",
    "    \"\"\"\n",
    "    Returns the block encoding of several 2x2 matrices placed in a larger matrix padded with zeros with particular coefficients .\n",
    "    \"\"\"\n",
    "    within_apply(\n",
    "        lambda: inplace_prepare_amplitudes(amplitudes, 0, lcu_aux),\n",
    "        lambda: repeat(\n",
    "            pair_list.len,\n",
    "            lambda index: control(\n",
    "                lcu_aux == index,\n",
    "                lambda: block_encode_2X2_arbitrary(\n",
    "                    pair_list[index][0], pair_list[index][1], flag, aux, data\n",
    "                ),\n",
    "            ),\n",
    "        ),\n",
    "    )\n",
    "\n",
    "@qfunc\n",
    "def conditional_single_block(\n",
    "    i: CInt, j: CInt, condition_var: QNum, flag: QBit, aux: QBit, data: QArray[QBit]\n",
    "):\n",
    "    \"\"\"\n",
    "    Returns the 2x2 block encoding at arbitrary positions i and j of a larger matrix padded with zeros \n",
    "    conditioned on condition_var.\n",
    "    \"\"\"\n",
    "    control(\n",
    "        ctrl = condition_var == 1,\n",
    "        stmt_block = lambda: block_encode_2X2_arbitrary(i, j, flag, aux, data),\n",
    "        else_block = lambda: X(flag) # else set flag to get 0 matrix in case condition_var == 0\n",
    "    )\n",
    "\n",
    "\n",
    "@qfunc\n",
    "def conditional_combine_blocks(\n",
    "    pair_list: CArray[CArray[CInt]],\n",
    "    u: QArray[QBit],\n",
    "    lcu_aux: QNum,\n",
    "    flag: QBit,\n",
    "    aux: QBit,\n",
    "    data: QArray[QBit],\n",
    "):\n",
    "    \"\"\"\n",
    "    Returns the list of operations for the LCU block encoding of several 2x2 matrices placed in a larger matrix padded with zeros conditioned on qubits in u.\n",
    "    \"\"\"\n",
    "    within_apply(\n",
    "        lambda: hadamard_transform(lcu_aux),\n",
    "        lambda: repeat(\n",
    "            pair_list.len,\n",
    "            lambda index: control(\n",
    "                lcu_aux == index,\n",
    "                lambda: conditional_single_block(\n",
    "                    pair_list[index][0], pair_list[index][1], u[index], flag, aux, data\n",
    "                ),\n",
    "            ),\n",
    "        ),\n",
    "    )\n",
    "\n",
    "\n",
    "@qfunc\n",
    "def conditional_combine_blocks_coeffs(\n",
    "    pair_list: CArray[CArray[CInt]],\n",
    "    amplitudes: CArray[CReal],\n",
    "    u: QArray[QBit],\n",
    "    lcu_aux: QNum,\n",
    "    flag: QBit,\n",
    "    aux: QBit,\n",
    "    data: QArray[QBit],\n",
    "):\n",
    "    \"\"\"\n",
    "    Returns the list of operations for the LCU block encoding of several 2x2 matrices placed in a larger matrix padded with zeros conditioned on qubits in u and with specific coefficients.\n",
    "    \"\"\"\n",
    "    within_apply(\n",
    "        lambda: inplace_prepare_amplitudes(amplitudes, 0, lcu_aux),\n",
    "        lambda: repeat(\n",
    "            pair_list.len,\n",
    "            lambda index: control(\n",
    "                lcu_aux == index,\n",
    "                lambda: conditional_single_block(\n",
    "                    pair_list[index][0], pair_list[index][1], u[index], flag, aux, data\n",
    "                ),\n",
    "            ),\n",
    "        ),\n",
    "    )"
   ]
  },
  {
   "cell_type": "code",
   "execution_count": 6,
   "id": "3b1d79f2",
   "metadata": {
    "ExecuteTime": {
     "end_time": "2025-04-28T13:41:51.638926Z",
     "start_time": "2025-04-28T13:41:51.614039Z"
    }
   },
   "outputs": [],
   "source": [
    "# Helper functions for matrix visualization\n",
    "@qfunc\n",
    "def prepare_ref(\n",
    "    num_qubits: CInt, data: Output[QNum], data_ref: Output[QNum]\n",
    "):\n",
    "    \"\"\"\n",
    "    create a refernce variable such that it will 'tag' the input states, and it\n",
    "    will be possible to measure the block encoded matrix\n",
    "    \"\"\"\n",
    "    allocate(num_qubits, data)\n",
    "    hadamard_transform(data)\n",
    "    # 'duplicate' data to the refernce, such that variables are entangled\n",
    "    data_ref |= data\n",
    "\n",
    "def get_qprog(main, optimization_level = 0):\n",
    "    execution_preferences = ExecutionPreferences(\n",
    "        num_shots=None,\n",
    "        backend_preferences=ClassiqBackendPreferences(\n",
    "            backend_name=ClassiqSimulatorBackendNames.SIMULATOR_STATEVECTOR\n",
    "        ),\n",
    "    )\n",
    "    synthesis_preferences = Preferences(\n",
    "        transpilation_option = \"none\", \n",
    "        timeout_seconds = 14400,\n",
    "        optimization_level=optimization_level\n",
    "    )\n",
    "\n",
    "    qmod = create_model(\n",
    "        entry_point = main, \n",
    "        execution_preferences=execution_preferences, \n",
    "        preferences=synthesis_preferences\n",
    "    )\n",
    "    qprog = synthesize(qmod)\n",
    "    return qprog\n",
    "\n",
    "def standardize_matrix(mat, threshold=1e-10):\n",
    "    # normalize by a global phase of the first index\n",
    "    mat = mat / np.exp(1j * np.angle(mat[0, 0]))\n",
    "\n",
    "    # as we use the reference trick, normalize back to get the matrix coefficients\n",
    "    mat *= np.sqrt(mat.shape[0])\n",
    "\n",
    "    # truncate small values\n",
    "    real_part = np.real(mat)\n",
    "    imag_part = np.imag(mat)\n",
    "\n",
    "    real_part[np.abs(real_part) < threshold] = 0\n",
    "    imag_part[np.abs(imag_part) < threshold] = 0\n",
    "\n",
    "    # Reconstruct the complex array with filtered real and imaginary parts\n",
    "    return real_part + 1j * imag_part\n",
    "\n",
    "def block_encoding_from_results(res, excluded_var_names=[]):\n",
    "    \"\"\"\n",
    "    assuming `data_ref` is tagging the entries, and `data`is the result\n",
    "    of the block encoding operation.\n",
    "    all other variables are expected to be 0 in the block\n",
    "\n",
    "    excluded_var_names - names of quantum variables that are not part of the \"block\" variables,\n",
    "                         see the example with 'u' in the conditional block encoding\n",
    "    \"\"\"\n",
    "    encoded_matrix_size = 2 ** len(res[0].value.output_qubits_map[\"data\"])\n",
    "    A = np.zeros((encoded_matrix_size, encoded_matrix_size), dtype=complex)\n",
    "    for s in res[0].value.parsed_state_vector:\n",
    "        \n",
    "        block = True\n",
    "        for var_name, var_val in s.state.items():\n",
    "            if var_name == \"data\":\n",
    "                row = var_val\n",
    "                continue\n",
    "            if var_name == \"data_ref\":\n",
    "                col = var_val\n",
    "                continue\n",
    "            if var_val != 0 and var_name not in excluded_var_names:  # not in the block\n",
    "                block = False\n",
    "                break\n",
    "        if block:\n",
    "            A[int(col), int(row)] += s.amplitude\n",
    "    return standardize_matrix(A)\n",
    "\n",
    "@qfunc\n",
    "def main(\n",
    "    lcu_aux: Output[QNum], \n",
    "    flag: Output[QBit], \n",
    "    aux: Output[QBit], \n",
    "    data: Output[QNum],\n",
    "    data_ref: Output[QNum]):\n",
    "\n",
    "    allocate(3, lcu_aux)\n",
    "    allocate(1, flag)\n",
    "    allocate(1, aux)\n",
    "\n",
    "    prepare_ref(2, data, data_ref)\n",
    "    combine_blocks_coeffs(pair_list = connections, amplitudes = conductance_coeffs_amps, lcu_aux = lcu_aux, flag = flag, aux = aux, data = data)"
   ]
  },
  {
   "cell_type": "code",
   "execution_count": 7,
   "id": "5b6f49c0-0d65-45b3-90f1-5f5eea48f27e",
   "metadata": {
    "ExecuteTime": {
     "end_time": "2025-04-28T13:42:40.044610Z",
     "start_time": "2025-04-28T13:41:51.617162Z"
    }
   },
   "outputs": [
    {
     "name": "stdout",
     "output_type": "stream",
     "text": [
      "Quantum program link: https://platform.classiq.io/circuit/2wOcPj26ir8EmjumIP1Df44OME4?login=True&version=0.76.0\n"
     ]
    }
   ],
   "source": [
    "qprog_block_encoding = get_qprog(main)\n",
    "show(qprog_block_encoding)"
   ]
  },
  {
   "cell_type": "code",
   "execution_count": 8,
   "id": "ac2639fc-b563-4e80-8de9-c8ae563d2182",
   "metadata": {
    "ExecuteTime": {
     "end_time": "2025-04-28T13:42:46.889391Z",
     "start_time": "2025-04-28T13:42:40.003384Z"
    }
   },
   "outputs": [
    {
     "name": "stdout",
     "output_type": "stream",
     "text": [
      "[[1533.33333333+0.j -200.        +0.j -166.66666667+0.j -166.66666667+0.j]\n",
      " [-200.        +0.j 1485.71428571+0.j -142.85714286+0.j -142.85714286+0.j]\n",
      " [-166.66666667+0.j -142.85714286+0.j 1434.52380952+0.j -125.        +0.j]\n",
      " [-166.66666667+0.j -142.85714286+0.j -125.        +0.j 1434.52380952+0.j]]\n"
     ]
    }
   ],
   "source": [
    "res_block_encoding = execute(qprog_block_encoding).result()\n",
    "A = block_encoding_from_results(res_block_encoding)\n",
    "block_encoded_matrix = A*2/(C_l**2)\n",
    "print(block_encoded_matrix)"
   ]
  },
  {
   "cell_type": "code",
   "execution_count": 9,
   "id": "d99dba34",
   "metadata": {
    "ExecuteTime": {
     "end_time": "2025-04-28T13:42:46.892202Z",
     "start_time": "2025-04-28T13:42:46.890683Z"
    },
    "collapsed": false,
    "jupyter": {
     "outputs_hidden": false
    }
   },
   "outputs": [],
   "source": [
    "assert np.allclose(np.real(block_encoded_matrix), np.real(classical_matrix), atol=1e-2)"
   ]
  },
  {
   "cell_type": "markdown",
   "id": "2cbc0f3f",
   "metadata": {},
   "source": [
    "We have successfully block-encoded the matrix from above!"
   ]
  },
  {
   "cell_type": "markdown",
   "id": "9e36fe7b",
   "metadata": {},
   "source": [
    "# QSVT for Matrix Inversion and Solving our Linear System\n",
    "Next, we use our block encoding to solve our linear system (cf. above)."
   ]
  },
  {
   "cell_type": "code",
   "execution_count": 10,
   "id": "3f3c9dbe",
   "metadata": {
    "ExecuteTime": {
     "end_time": "2025-04-28T13:42:46.987010Z",
     "start_time": "2025-04-28T13:42:46.895722Z"
    }
   },
   "outputs": [
    {
     "name": "stdout",
     "output_type": "stream",
     "text": [
      "b=30, j0=14\n",
      "[PolyOneOverX] minimum [-3.53259398] is at [-0.20533021]: normalizing\n",
      "[PolyOneOverX] bounding to 0.9\n"
     ]
    }
   ],
   "source": [
    "# compute phase angles for the 1/x polynomial\n",
    "def getOneOverXPhases(epsilon=0.05, kappa=5):\n",
    "    pcoefs, C_p = pyqsp.poly.PolyOneOverX().generate(kappa, return_coef=True, ensure_bounded=True, return_scale=True, epsilon=epsilon)\n",
    "    phi_pyqsp = QuantumSignalProcessingPhases(pcoefs, signal_operator=\"Wx\")\n",
    "    C_p = C_p[0]\n",
    "\n",
    "    # change the R(x) to W(x), as the phases are in the W(x) conventions\n",
    "    phases = np.array(phi_pyqsp)\n",
    "    phases[1:-1] = phases[1:-1] - np.pi / 2\n",
    "    phases[0] = phases[0] - np.pi / 4\n",
    "    phases[-1] = phases[-1] + (2 * (len(phases) - 1) - 1) * np.pi / 4\n",
    "    phases = -2 * phases\n",
    "\n",
    "    return phases, C_p\n",
    "\n",
    "phases, C_p = getOneOverXPhases(epsilon=0.1, kappa=3)"
   ]
  },
  {
   "cell_type": "code",
   "execution_count": 11,
   "id": "1addc867",
   "metadata": {
    "ExecuteTime": {
     "end_time": "2025-04-28T13:42:46.991028Z",
     "start_time": "2025-04-28T13:42:46.987838Z"
    }
   },
   "outputs": [],
   "source": [
    "# Implementation of the QSVT-based Linear System Solver\n",
    "lcu_aux_size = int(np.log2(len(conductance_coeffs_amps)))\n",
    "data_size = int(np.log2(len(B_amps)))\n",
    "\n",
    "class Block(QStruct):\n",
    "    lcu_aux: QNum[lcu_aux_size, False, 0]\n",
    "    flag: QBit\n",
    "    aux: QBit \n",
    "    \n",
    "class BlockEncodedState(QStruct):\n",
    "    block: Block\n",
    "    data: QArray[QBit, data_size] \n",
    "\n",
    "class QsvtState(QStruct):\n",
    "    qsvt_aux: QBit \n",
    "    qsvt_real_aux: QBit\n",
    "    state: BlockEncodedState\n",
    "\n",
    "@qfunc\n",
    "def identify_block(state: BlockEncodedState, block_zero_qbit: QBit):\n",
    "    block_qubits = QNum(size = state.block.size, is_signed=False, fraction_digits=0)\n",
    "    data = QArray(length=state.data.size)\n",
    "\n",
    "    bind(state, [block_qubits, data])\n",
    "    block_zero_qbit ^= block_qubits == 0\n",
    "    bind([block_qubits, data], state)\n",
    "\n",
    "@qfunc(synthesize_separately=True)\n",
    "def qsvt_solve_system(\n",
    "    b_amps: CArray[CReal],\n",
    "    block_encoding: QCallable[QArray[QBit]],\n",
    "    phases: CArray[CReal],\n",
    "    qsvt_state: QsvtState,\n",
    ") -> None:\n",
    "    \"\"\"\n",
    "    QSVT implementation to solve a linear system Ax=b.\n",
    "    \"\"\"\n",
    "\n",
    "    # Prepare b as a quantum state in amplitude encoding.\n",
    "    inplace_prepare_amplitudes(b_amps, 0, qsvt_state.state.data)\n",
    "\n",
    "    hadamard_transform(qsvt_state.qsvt_real_aux)\n",
    "    control(\n",
    "        ctrl = qsvt_state.qsvt_real_aux==0,\n",
    "        stmt_block=lambda: qsvt_inversion(\n",
    "            phase_seq=phases,\n",
    "            block_encoding_cnot=lambda qvar, block_zero_qbit: identify_block(qvar, block_zero_qbit),\n",
    "            u=lambda qvar: block_encoding(qvar),\n",
    "            qvar=qsvt_state.state,\n",
    "            aux=qsvt_state.qsvt_aux,\n",
    "        ),\n",
    "        else_block=lambda: invert(\n",
    "            lambda: qsvt_inversion(\n",
    "                phase_seq=phases,\n",
    "                block_encoding_cnot=lambda qvar, block_zero_qbit: identify_block(qvar, block_zero_qbit),\n",
    "                u=lambda qvar: block_encoding(qvar),\n",
    "                qvar=qsvt_state.state,\n",
    "                aux=qsvt_state.qsvt_aux,\n",
    "            )\n",
    "        )\n",
    "    )\n",
    "    hadamard_transform(qsvt_state.qsvt_real_aux)"
   ]
  },
  {
   "cell_type": "code",
   "execution_count": 12,
   "id": "d8d81ad7",
   "metadata": {
    "ExecuteTime": {
     "end_time": "2025-04-28T13:42:46.997926Z",
     "start_time": "2025-04-28T13:42:46.995681Z"
    }
   },
   "outputs": [],
   "source": [
    "# Demonstration of the QSVT-based Linear System Solver\n",
    "@qfunc\n",
    "def block_encoding_demo(\n",
    "    pair_list: CArray[CArray[CInt]],\n",
    "    amplitudes: CArray[CReal],\n",
    "    state: BlockEncodedState\n",
    "):\n",
    "    lcu_aux = state.block.lcu_aux\n",
    "    flag = state.block.flag\n",
    "    aux = state.block.aux\n",
    "    data = state.data\n",
    "\n",
    "    combine_blocks_coeffs(pair_list = pair_list, amplitudes = amplitudes, lcu_aux = lcu_aux, flag = flag, aux = aux, data = data)\n",
    "\n",
    "\n",
    "@qfunc\n",
    "def conditional_block_encoding(\n",
    "    pair_list: CArray[CArray[CInt]],\n",
    "    amplitudes: CArray[CReal],\n",
    "    u: QArray[QBit],\n",
    "    state: BlockEncodedState\n",
    "):\n",
    "    lcu_aux = state.block.lcu_aux\n",
    "    flag = state.block.flag\n",
    "    aux = state.block.aux\n",
    "    data = state.data\n",
    "\n",
    "    conditional_combine_blocks_coeffs(pair_list = pair_list, amplitudes = amplitudes, u = u, lcu_aux = lcu_aux, flag = flag, aux = aux, data = data)\n",
    "\n",
    "@qfunc\n",
    "def main(\n",
    "    qsvt_state: Output[QsvtState]\n",
    "): \n",
    "    allocate(qsvt_state)\n",
    "\n",
    "    qsvt_solve_system(\n",
    "        b_amps = B_amps,\n",
    "        block_encoding = lambda q_var: block_encoding_demo(pair_list = connections, amplitudes = conductance_coeffs_amps, state = q_var),\n",
    "        phases = phases,\n",
    "        qsvt_state = qsvt_state\n",
    "    )"
   ]
  },
  {
   "cell_type": "markdown",
   "id": "b01166fc-c4c7-45a6-95e3-f30ed691631d",
   "metadata": {},
   "source": [
    "#### Synthesize circuit"
   ]
  },
  {
   "cell_type": "code",
   "execution_count": 13,
   "id": "8097aeac-a5c2-4c68-8c6a-2f1ab2b48560",
   "metadata": {
    "ExecuteTime": {
     "end_time": "2025-04-28T13:51:15.119130Z",
     "start_time": "2025-04-28T13:42:47.012648Z"
    }
   },
   "outputs": [
    {
     "name": "stdout",
     "output_type": "stream",
     "text": [
      "Quantum program link: https://platform.classiq.io/circuit/2wOdQ98RJpWzfHUL6xqy19aAkAH?login=True&version=0.76.0\n"
     ]
    }
   ],
   "source": [
    "matrix_inverse_qprog=get_qprog(main, optimization_level=2)\n",
    "show(matrix_inverse_qprog)"
   ]
  },
  {
   "cell_type": "markdown",
   "id": "672eeb86-c576-40b9-b31d-9b4b847fd67f",
   "metadata": {},
   "source": [
    "#### Execute circuit"
   ]
  },
  {
   "cell_type": "code",
   "execution_count": 14,
   "id": "d9889e72-182d-44e9-86ff-d12cacc00235",
   "metadata": {
    "ExecuteTime": {
     "end_time": "2025-04-28T13:53:40.025141Z",
     "start_time": "2025-04-28T13:51:15.099219Z"
    }
   },
   "outputs": [],
   "source": [
    "matrix_inverse_res = execute(matrix_inverse_qprog).result()\n",
    "\n",
    "# extract the result\n",
    "T_tilde = np.zeros(4, dtype=complex)\n",
    "for i in range(len(matrix_inverse_res[0].value.parsed_state_vector)):\n",
    "    q_dict = matrix_inverse_res[0].value.parsed_state_vector[i]['qsvt_state']\n",
    "    temp = 0\n",
    "    temp += q_dict['qsvt_aux']\n",
    "    temp += q_dict['state']['block']['lcu_aux']\n",
    "    temp += q_dict['state']['block']['flag']\n",
    "    temp += q_dict['state']['block']['aux']\n",
    "    if temp == 0 and abs(matrix_inverse_res[0].value.parsed_state_vector[i].amplitude) > 1e-5:\n",
    "        T_tilde[int(str(q_dict['state']['data'][1])+str(q_dict['state']['data'][0]), 2)] = abs(matrix_inverse_res[0].value.parsed_state_vector[i].amplitude)"
   ]
  },
  {
   "cell_type": "code",
   "execution_count": 15,
   "id": "23d4e588",
   "metadata": {
    "ExecuteTime": {
     "end_time": "2025-04-28T13:53:40.029303Z",
     "start_time": "2025-04-28T13:53:40.026234Z"
    }
   },
   "outputs": [
    {
     "name": "stdout",
     "output_type": "stream",
     "text": [
      "QSVT solution: [1.58401335 2.8248717  0.2310307  0.9229191 ]\n",
      "Classical solution: [1.60481928 2.84578313 0.25179803 0.90240044]\n"
     ]
    }
   ],
   "source": [
    "qsvt_solution = np.abs(T_tilde*C_l**2/(2*C_p*C_B))\n",
    "classical_solution = np.abs(np.linalg.solve(build_A([1, 1, 1, 1, 1, 1]), B))\n",
    "\n",
    "print(\"QSVT solution:\", qsvt_solution)\n",
    "print(\"Classical solution:\", classical_solution)"
   ]
  },
  {
   "cell_type": "markdown",
   "id": "5b4e4c47",
   "metadata": {},
   "source": [
    "As the QSVT result agrees with the classical solution of our linear system up to an acceptable error, we have successfully solved the linear system using QSVT."
   ]
  },
  {
   "cell_type": "markdown",
   "id": "0e578730",
   "metadata": {},
   "source": [
    "# QuSO Algorithm\n",
    "Only a few operations are missing to build the QuSO algorithm. In the following, we will implement the Quantum Amplitude Estimation (QAE) and Quantum Phase Application (QPA) routine to embed all operations in a QuSO circuit."
   ]
  },
  {
   "cell_type": "code",
   "execution_count": 16,
   "id": "177636b8",
   "metadata": {
    "ExecuteTime": {
     "end_time": "2025-04-28T13:53:40.034178Z",
     "start_time": "2025-04-28T13:53:40.032853Z"
    }
   },
   "outputs": [],
   "source": [
    "def polynomial_coefficients_from_function(func, num_bits):\n",
    "    MIN_COEFF = 10e-7\n",
    "\n",
    "    def prod(iterable):\n",
    "        return reduce(mul, iterable, 1)\n",
    "\n",
    "    lookup_table = {tuple(map(int, format(x, f'0{num_bits}b'))): func(x) for x in\n",
    "                    range(2 ** num_bits)}\n",
    "\n",
    "    x_symbols = symbols(f'x0:{num_bits}')\n",
    "    a_symbols = symbols(f'a0:{2 ** num_bits}')\n",
    "\n",
    "    # Construct the polynomial expression\n",
    "    polynomial_expr = sum(a_symbols[i] * prod(\n",
    "        (x_symbols[j]) ** int(bit) for j, bit in enumerate(f'{i:0{num_bits}b}')) for i\n",
    "                          in range(2 ** num_bits))\n",
    "\n",
    "    # Setup equations based on the lookup table\n",
    "    equations = [polynomial_expr.subs(dict(zip(x_symbols, k))) - v for k, v in\n",
    "                 lookup_table.items()]\n",
    "\n",
    "    # Solve for coefficients\n",
    "    solved_coeffs = solve(equations, a_symbols)\n",
    "\n",
    "    # Clean small coefficients\n",
    "    solved_coeffs = {var: float(coeff) if abs(coeff) > MIN_COEFF else 0 for var, coeff in solved_coeffs.items()}\n",
    "\n",
    "    # Substitute the solved coefficients back into the polynomial expression\n",
    "    polynomial_with_coeffs = polynomial_expr.subs(solved_coeffs)\n",
    "    print(\"Polynomial Expression:\", polynomial_with_coeffs)\n",
    "\n",
    "    # Create substitution dictionary for 1 - x_i/2\n",
    "    substitution_dict = {x: (1 - x) / 2 for x in x_symbols}\n",
    "\n",
    "    # Apply the substitution to the polynomial expression\n",
    "    polynomial_with_substitution = polynomial_with_coeffs.subs(substitution_dict)\n",
    "\n",
    "    # Simplify the polynomial expression after substitution\n",
    "    simplified_polynomial = simplify(polynomial_with_substitution)\n",
    "\n",
    "    # Extract coefficients after substitution\n",
    "    substituted_coefficients_dict = {}\n",
    "    for i in range(2 ** num_bits):\n",
    "        binary_tuple = tuple(int(bit) for bit in format(i, f'0{num_bits}b'))\n",
    "        term = prod(x_symbols[j] ** int(bit) for j, bit in enumerate(binary_tuple))\n",
    "        coefficient = simplified_polynomial.as_coefficients_dict().get(term, 0)\n",
    "        substituted_coefficients_dict[binary_tuple] = float(coefficient) if abs(coefficient) > MIN_COEFF else 0\n",
    "\n",
    "    # Handle the constant term\n",
    "    constant_term = simplified_polynomial.as_coefficients_dict().get(1, 0)\n",
    "    if abs(constant_term) > MIN_COEFF:\n",
    "        substituted_coefficients_dict[(0,) * num_bits] = float(constant_term)\n",
    "\n",
    "    return substituted_coefficients_dict, simplified_polynomial\n",
    "\n",
    "\n",
    "\n",
    "def polynomial_to_expression(coefficients_dict: dict, qae_phase_reg: QArray[QBit]):\n",
    "    # Create the polynomial expression\n",
    "    polynomial_expr = 0.0\n",
    "    for var_list, coeff in coefficients_dict.items():\n",
    "        term = coeff\n",
    "        for x, p in zip(qae_phase_reg, var_list):\n",
    "            if p:  # skip the multiply when p == 0\n",
    "                term *= x\n",
    "        polynomial_expr += term\n",
    "    return polynomial_expr\n",
    "\n",
    "def get_func_polynomial_expression(func, c, precision, qae_phase_reg):\n",
    "    # Compute the coefficients and polynomial\n",
    "    coefficients_dict, polynomial = polynomial_coefficients_from_function(func, precision)\n",
    "\n",
    "    # can be done exact with polynomial of the same order of the function\n",
    "    return c*polynomial_to_expression(coefficients_dict, qae_phase_reg)"
   ]
  },
  {
   "cell_type": "markdown",
   "id": "fbd84d5c",
   "metadata": {
    "collapsed": false,
    "jupyter": {
     "outputs_hidden": false
    }
   },
   "source": [
    "We take 5 QPE phase qubits `qpe_phase_size`."
   ]
  },
  {
   "cell_type": "code",
   "execution_count": 17,
   "id": "295245bb",
   "metadata": {
    "ExecuteTime": {
     "end_time": "2025-04-28T13:53:40.041243Z",
     "start_time": "2025-04-28T13:53:40.038677Z"
    }
   },
   "outputs": [],
   "source": [
    "# define a simple QAOA model\n",
    "\n",
    "qpe_phase_size = 5\n",
    "num_layers = 1\n",
    "qaoa_reg_size = 6\n",
    "\n",
    "func = lambda x: sin(np.pi * x / (2 ** qpe_phase_size))\n",
    "\n",
    "\n",
    "class ProblemRegs(QStruct):\n",
    "    qaoa_vars: QArray[qaoa_reg_size]\n",
    "    phase_estimate: QNum[qpe_phase_size, UNSIGNED, qpe_phase_size]\n",
    "\n",
    "\n",
    "\n",
    "@qfunc(synthesize_separately=True)\n",
    "def my_qsvt_solve_system(u: QArray, qsvt_state: QArray):\n",
    "\n",
    "    qsvt_solve_system(\n",
    "        b_amps = B_amps,\n",
    "        block_encoding = lambda q_var: conditional_block_encoding(\n",
    "            pair_list = connections,\n",
    "            amplitudes = conductance_coeffs_amps,\n",
    "            u = u,\n",
    "            state = q_var\n",
    "        ),\n",
    "        phases = phases,\n",
    "        qsvt_state = qsvt_state\n",
    "    )\n",
    "\n",
    "\n",
    "# QPA implementation\n",
    "@qfunc\n",
    "def phase_application(\n",
    "    qae_phase: QArray,\n",
    "    gamma: CReal\n",
    "    ):\n",
    "    phase(\n",
    "        expr=get_func_polynomial_expression(func, 1, qpe_phase_size, qae_phase),\n",
    "        theta = gamma\n",
    "    )\n",
    "\n",
    "@qfunc(synthesize_separately=True)\n",
    "def qaoa_system_cost(\n",
    "        qaoa_vars: QArray,\n",
    "        phase_reg: QNum,\n",
    "        qsvt_state: QsvtState,\n",
    "        gamma: CReal,\n",
    ") -> None:\n",
    "\n",
    "    within_apply(\n",
    "        within=lambda: amplitude_estimation(\n",
    "            oracle=lambda x: reflect_about_zero(x),\n",
    "            space_transform=lambda y: my_qsvt_solve_system(qaoa_vars, y),\n",
    "            phase=phase_reg,\n",
    "            packed_vars=qsvt_state\n",
    "        ),\n",
    "        apply=lambda: phase_application(\n",
    "            qae_phase=phase_reg,\n",
    "            gamma=gamma\n",
    "        )\n",
    "    )\n",
    "\n",
    "\n",
    "@qfunc(synthesize_separately=True)\n",
    "def qaoa_estimate_cost(\n",
    "        qaoa_vars: QArray,\n",
    "        phase_reg: QNum,\n",
    "        qsvt_state: QsvtState,\n",
    ") -> None:\n",
    "    amplitude_estimation(\n",
    "        oracle=lambda x: reflect_about_zero(x),\n",
    "        space_transform=lambda y: my_qsvt_solve_system(qaoa_vars, y),\n",
    "        phase=phase_reg,\n",
    "        packed_vars=qsvt_state\n",
    "    )\n",
    "\n",
    "@qfunc\n",
    "def qaoa_mixer(reg: QArray, beta: CReal) -> None:\n",
    "        repeat(\n",
    "            count=reg.len,\n",
    "            iteration=lambda index: RX(theta = beta, target = reg[index]),\n",
    "        )\n",
    "\n",
    "\n",
    "\n",
    "@qfunc\n",
    "def main(\n",
    "        params: CArray[CReal, num_layers * 2],\n",
    "        regs: Output[ProblemRegs]\n",
    ") -> None:\n",
    "    # Allocate QAOA register\n",
    "    allocate(regs.size, regs)\n",
    "    hadamard_transform(regs.qaoa_vars)\n",
    "\n",
    "    # Allocate QSVT registers\n",
    "    qsvt_state = QsvtState(\"qsvt_state\")\n",
    "    allocate(qsvt_state.size, qsvt_state)\n",
    "\n",
    "    # QAOA Layers\n",
    "    repeat(\n",
    "        num_layers,\n",
    "        lambda i: (\n",
    "            qaoa_system_cost(\n",
    "                qaoa_vars=regs.qaoa_vars,\n",
    "                phase_reg=regs.phase_estimate,\n",
    "                qsvt_state=qsvt_state,\n",
    "                gamma=params[i],\n",
    "            ),\n",
    "            qaoa_mixer(regs.qaoa_vars, beta=params[num_layers + i])\n",
    "        )\n",
    "    )\n",
    "\n",
    "    # Estimate cost\n",
    "    qaoa_estimate_cost(\n",
    "        qaoa_vars=regs.qaoa_vars,\n",
    "        phase_reg=regs.phase_estimate,\n",
    "        qsvt_state=qsvt_state,\n",
    "    )"
   ]
  },
  {
   "cell_type": "markdown",
   "id": "724fa21d",
   "metadata": {
    "collapsed": false,
    "jupyter": {
     "outputs_hidden": false
    }
   },
   "source": [
    "#### The circuit becomes very big. Thus, we do not synthesize the circuit in this demo-notebook because it takes a lot of time."
   ]
  },
  {
   "cell_type": "code",
   "execution_count": 18,
   "id": "c5f741c8",
   "metadata": {
    "ExecuteTime": {
     "end_time": "2025-04-28T13:53:40.043261Z",
     "start_time": "2025-04-28T13:53:40.041952Z"
    },
    "collapsed": false,
    "jupyter": {
     "outputs_hidden": false
    }
   },
   "outputs": [],
   "source": [
    "# The line below would synthesize the circuit but we avoid that.\n",
    "# QuSo_qprog = get_qprog(main)\n",
    "# show(QuSo_qprog)"
   ]
  },
  {
   "cell_type": "markdown",
   "id": "90286ede",
   "metadata": {},
   "source": [
    "As explained in the paper, we can still simulate how QuSO would perform by preparing the state after QAE instead of running QAE.\n",
    "\n",
    "In this example, we synthesize the circuit with one layer of QAOA and 1 phase qubit `n_phase_qubits` to shoten the synthesis time. You can increase `n_phase_qubits` to 5 and get better results."
   ]
  },
  {
   "cell_type": "code",
   "execution_count": 19,
   "id": "a3bb6be9",
   "metadata": {
    "ExecuteTime": {
     "end_time": "2025-04-28T13:53:40.075939Z",
     "start_time": "2025-04-28T13:53:40.049978Z"
    }
   },
   "outputs": [],
   "source": [
    "# load precomputed cost values\n",
    "costs = np.load(\"data/costs.npy\")\n",
    "\n",
    "num_connections = 6\n",
    "\n",
    "n_phase_qubits = 1\n",
    "num_layers = 1\n",
    "\n",
    "# classical probability function after Quantum Phase Estimation\n",
    "def qpe_probability_function(y, theta, M):\n",
    "    y = np.array(y, dtype=np.float64)\n",
    "    numerator = 1 - np.cos(2 * np.pi * (y - theta * M))\n",
    "    denominator = 1 - np.cos((2 * np.pi / M) * (y - theta * M))\n",
    "    # When denominator is close to zero, use the limiting value (which gives a ratio of M^2).\n",
    "    ratio = np.where(np.abs(denominator) < 1e-8, M**2, numerator / denominator)\n",
    "    P = ratio / (M**2)\n",
    "    return P\n",
    "\n",
    "# classical probability function after QAE\n",
    "def qae_probability_function(y, theta, M):\n",
    "    term1 = qpe_probability_function(y, theta, M)\n",
    "    term2 = qpe_probability_function(y, -theta, M)\n",
    "    return 0.5 * (term1 + term2)\n",
    "\n",
    "# Function to estimate theta using QAE using curve fitting \n",
    "# Further details: https://arxiv.org/abs/2409.15752v1\n",
    "def estimate_theta_qae(probabilities):\n",
    "    probabilities = np.array(probabilities, dtype=np.float64)\n",
    "    M = len(probabilities)  # Number of states (M = 2^n).\n",
    "    y_vals = np.arange(M)\n",
    "    \n",
    "    max_index = np.argmax(probabilities)\n",
    "    initial_guess = (max_index / M)\n",
    "    \n",
    "    # Define narrow bounds around the initial guess.\n",
    "    lower_bound = max(0, initial_guess - 0.5 / M)\n",
    "    upper_bound = min(1, initial_guess + 0.5 / M)\n",
    "    bounds = ([lower_bound], [upper_bound])\n",
    "    \n",
    "    # Define the model function with theta as the only free parameter.\n",
    "    def model(y, theta):\n",
    "        return qae_probability_function(y, theta, M)\n",
    "    \n",
    "    # Attempt two fits (starting at the lower and upper bounds) to help avoid local minima.\n",
    "    try:\n",
    "        popt1, pcov1 = curve_fit(model, y_vals, probabilities, p0=[lower_bound], bounds=bounds)\n",
    "    except Exception as e:\n",
    "        popt1, pcov1 = (np.array([np.nan]), np.array([[np.inf]]))\n",
    "        \n",
    "    try:\n",
    "        popt2, pcov2 = curve_fit(model, y_vals, probabilities, p0=[upper_bound], bounds=bounds)\n",
    "    except Exception as e:\n",
    "        popt2, pcov2 = (np.array([np.nan]), np.array([[np.inf]]))\n",
    "    \n",
    "    var1 = pcov1[0, 0] if np.isfinite(pcov1[0, 0]) else np.inf\n",
    "    var2 = pcov2[0, 0] if np.isfinite(pcov2[0, 0]) else np.inf\n",
    "    \n",
    "    if var1 < var2:\n",
    "        theta_est = popt1[0]\n",
    "    else:\n",
    "        theta_est = popt2[0]\n",
    "    \n",
    "    return theta_est\n",
    "\n",
    "# classical function to compute the amplitudes of the QAE for some amplitude a and n_phase phase qubits\n",
    "def qae_full_amplitudes(a, n_phase):\n",
    "    M = 2 ** n_phase\n",
    "    theta = np.arcsin(a) / np.pi  \n",
    "    theta_prime = np.arcsin(a)  \n",
    "\n",
    "    c_plus  = (np.sin(theta_prime) - 1j*np.cos(theta_prime)) / np.sqrt(2)\n",
    "    c_minus = (np.sin(theta_prime) + 1j*np.cos(theta_prime)) / np.sqrt(2)\n",
    "    \n",
    "    def A_QPE(y, phi):\n",
    "        k = np.arange(M)\n",
    "        return np.sum(np.exp(-2j * np.pi * k * (y/M - phi))) / M\n",
    "\n",
    "    A_plus  = np.array([A_QPE(y,  theta) for y in range(M)])\n",
    "    A_minus = np.array([A_QPE(y, -theta) for y in range(M)])\n",
    "    \n",
    "    amp_good = (c_plus * A_plus + c_minus * A_minus) / np.sqrt(2)\n",
    "    amp_bad  = (1j * c_plus * A_plus - 1j * c_minus * A_minus) / np.sqrt(2)\n",
    "    \n",
    "    full_state = np.zeros(2 * M, dtype=np.complex128)\n",
    "    for y in range(M):\n",
    "        full_state[y * 2 + 0] = amp_bad[y]\n",
    "        full_state[y * 2 + 1] = amp_good[y]\n",
    "    \n",
    "    return full_state\n",
    "\n",
    "# computing QAE amplitudes for all configurations in configs\n",
    "def compute_qae_amplitudes(configs, amplitudes, n_phase):\n",
    "    qae_amplitudes = []\n",
    "    for i, config in enumerate(configs):\n",
    "        qae_amplitudes.append(qae_full_amplitudes(amplitudes[i], n_phase))\n",
    "\n",
    "    return qae_amplitudes\n",
    "\n",
    "# computing all configs\n",
    "all_configs = [list(bits) for bits in itertools.product([0, 1], repeat=6)]\n",
    "\n",
    "qae_amplitudes = compute_qae_amplitudes(all_configs, costs, n_phase_qubits)\n",
    "qae_amplitudes_magnitudes = np.array([np.abs(amps) for amps in qae_amplitudes])\n",
    "qae_amplitudes_phases = np.array([np.angle(amps) for amps in qae_amplitudes])\n",
    "\n",
    "@qfunc\n",
    "def mixer_layer(reg: QArray, beta: CReal) -> None:\n",
    "    repeat(\n",
    "        count=reg.len,\n",
    "        iteration=lambda index: RX(theta = -2*beta, target = reg[index]),\n",
    "    )\n",
    "\n",
    "@qfunc\n",
    "def phase_application(\n",
    "    qae_phase: QArray,\n",
    "    gamma: CReal\n",
    "    ):\n",
    "    phase(\n",
    "        expr=get_func_polynomial_expression(func, 1.0, n_phase_qubits, qae_phase),\n",
    "        theta = gamma\n",
    "    )\n",
    "\n",
    "\n",
    "@qfunc(generative=True)\n",
    "def dummy_qae(magnitudes_list: CArray[CArray[CReal]], phases_list: CArray[CArray[CReal]], qae_phase: QArray, reg: QNum):\n",
    "    dummy_data = QBit()\n",
    "    full_qae = QArray()\n",
    "    allocate(1, dummy_data)\n",
    "    bind([qae_phase, dummy_data], full_qae)\n",
    "    for index in range(len(all_configs)):\n",
    "        control(reg == index, lambda: inplace_prepare_complex_amplitudes(magnitudes_list[index], phases_list[index], full_qae))\n",
    "    bind(full_qae, [qae_phase, dummy_data])\n",
    "\n",
    "@qfunc\n",
    "def dummy_cost_layer(qae_phase: QArray, reg: QArray, gamma: CReal) -> None:\n",
    "    within_apply(\n",
    "        lambda: dummy_qae(qae_amplitudes_magnitudes, qae_amplitudes_phases, qae_phase, reg),\n",
    "        lambda: phase_application(qae_phase, gamma)\n",
    "    )\n",
    "\n",
    "@qfunc\n",
    "def qaoa_layer(qae_phase: QArray, reg: QArray, gamma: CReal, beta: CReal) -> None:\n",
    "    dummy_cost_layer(qae_phase, reg, gamma)\n",
    "    mixer_layer(reg, beta)\n",
    "\n",
    "@qfunc(generative=True)\n",
    "def qaoa_circuit(\n",
    "    gammas: CArray[CReal],\n",
    "    betas: CArray[CReal],\n",
    "    reg: QArray\n",
    "):\n",
    "    qae_phase = QArray()\n",
    "    allocate(n_phase_qubits, qae_phase)\n",
    "    hadamard_transform(reg)\n",
    "    for i in range(gammas.len):\n",
    "        qaoa_layer(qae_phase, reg, gammas[i], betas[i])"
   ]
  },
  {
   "cell_type": "markdown",
   "id": "11a7617a-cb26-43f1-9ba6-f06e83f4f2fe",
   "metadata": {},
   "source": [
    "#### Synthesizing the variational circuit"
   ]
  },
  {
   "cell_type": "code",
   "execution_count": 20,
   "id": "2e100b99-49b0-4bcf-948f-1db3a05dbc57",
   "metadata": {
    "ExecuteTime": {
     "end_time": "2025-04-28T13:55:17.738900Z",
     "start_time": "2025-04-28T13:53:40.058645Z"
    }
   },
   "outputs": [
    {
     "name": "stdout",
     "output_type": "stream",
     "text": [
      "Dummy QuSO for 1 phase qubits and a number of layers 1:\n",
      "Polynomial Expression: 0.0980171403295606*x0\n",
      "Quantum program link: https://platform.classiq.io/circuit/2wOdo3De9qjNnwMUsqWKtdjN7KS?login=True&version=0.76.0\n"
     ]
    }
   ],
   "source": [
    "print(f\"Dummy QuSO for {n_phase_qubits} phase qubits and a number of layers {num_layers}:\")\n",
    "\n",
    "@qfunc\n",
    "def main(\n",
    "    gammas: CArray[CReal, num_layers],\n",
    "    betas: CArray[CReal, num_layers],\n",
    "    reg: Output[QArray]\n",
    ") -> None:\n",
    "    allocate(num_connections, reg)\n",
    "    qaoa_circuit(gammas, betas, reg)\n",
    "\n",
    "dummy_qprog = get_qprog(main)\n",
    "show(dummy_qprog)"
   ]
  },
  {
   "cell_type": "markdown",
   "id": "b7a5550f",
   "metadata": {
    "collapsed": false,
    "jupyter": {
     "outputs_hidden": false
    }
   },
   "source": [
    "By using more phase qubits and optimizing on the gamma and betas parameters, you can find the optimal solution with high probability."
   ]
  },
  {
   "cell_type": "code",
   "execution_count": null,
   "id": "b5bafd12",
   "metadata": {
    "collapsed": false,
    "jupyter": {
     "outputs_hidden": false
    }
   },
   "outputs": [],
   "source": []
  }
 ],
 "metadata": {
  "kernelspec": {
   "display_name": "Python 3 (ipykernel)",
   "language": "python",
   "name": "python3"
  },
  "language_info": {
   "codemirror_mode": {
    "name": "ipython",
    "version": 3
   },
   "file_extension": ".py",
   "mimetype": "text/x-python",
   "name": "python",
   "nbconvert_exporter": "python",
   "pygments_lexer": "ipython3",
   "version": "3.11.4"
  }
 },
 "nbformat": 4,
 "nbformat_minor": 5
}
