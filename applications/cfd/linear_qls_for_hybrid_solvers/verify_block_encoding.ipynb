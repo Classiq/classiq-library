{
 "cells": [
  {
   "cell_type": "markdown",
   "metadata": {
    "collapsed": false,
    "jupyter": {
     "outputs_hidden": false
    }
   },
   "source": [
    "# Block Encoding Verification\n",
    "\n",
    "This notebook verifies the various block encoding, whose code are given in this directory. The matrix input is assumed to be a sparse matrix. We verify the following quantum functions for block encoding:\n",
    "1. Prepare and Select for Pauli decomposition of the matrix. The Select block is implemented with Gray code technique.\n",
    "2. Banded diagonal block encoding, according to Ref.\n",
    "\n",
    "For both block encoding we construct a symmetric and non-symmetric versions. The former is needed for the Chebyshev LCU solver, and the latter for the QSVT solver."
   ]
  },
  {
   "cell_type": "code",
   "execution_count": 1,
   "metadata": {
    "collapsed": false,
    "is_executing": true,
    "jupyter": {
     "outputs_hidden": false
    }
   },
   "outputs": [],
   "source": [
    "import matplotlib.pyplot as plt\n",
    "import numpy as np\n",
    "from classical_functions_rr import *\n",
    "from quantum_functions_rr import *\n",
    "from scipy import sparse\n",
    "\n",
    "from classiq import *\n",
    "from classiq.applications.chemistry.op_utils import qubit_op_to_pauli_terms\n",
    "\n",
    "np.random.seed(53)"
   ]
  },
  {
   "cell_type": "markdown",
   "metadata": {
    "collapsed": false,
    "jupyter": {
     "outputs_hidden": false
    }
   },
   "source": [
    "We define a generic function for verifying block-encoding qfuncs:"
   ]
  },
  {
   "cell_type": "code",
   "execution_count": 2,
   "metadata": {},
   "outputs": [],
   "source": [
    "def get_be_state(rhs_vec, be_qfunc, block_size, data_size):\n",
    "    \"\"\"\n",
    "    Apply a block-encoding qfunc to an initial state and return the post-selected output.\n",
    "\n",
    "    Parameters\n",
    "    ----------\n",
    "    rhs_vec : list[real]\n",
    "        Amplitudes of the initial data state |\\psi>. Length must be 2**data_size.\n",
    "    be_qfunc : qfunc\n",
    "        A Qmod qfunc with signature be_qfunc(block: QNum, data: QNum) that applies\n",
    "        the block-encoding for the matrix A/s.\n",
    "    block_size : int\n",
    "        Number of qubits in the block variable.\n",
    "    data_size : int\n",
    "        Number of qubits in the data variable.\n",
    "\n",
    "    Returns\n",
    "    -------\n",
    "    array\n",
    "        The post-selected data variable state equal to (A/s)|\\psi>, obtained\n",
    "        by projecting the block register onto 0 after applying the block encoding.\n",
    "    \"\"\"\n",
    "\n",
    "    execution_preferences = ExecutionPreferences(\n",
    "        num_shots=1,\n",
    "        backend_preferences=ClassiqBackendPreferences(\n",
    "            backend_name=ClassiqSimulatorBackendNames.SIMULATOR_STATEVECTOR\n",
    "        ),\n",
    "    )\n",
    "\n",
    "    @qfunc\n",
    "    def main(\n",
    "        data: Output[QNum[data_size]],\n",
    "        block: Output[QNum[block_size]],\n",
    "    ):\n",
    "\n",
    "        allocate(block)\n",
    "        prepare_amplitudes(rhs_vec, 0.0, data)\n",
    "        be_qfunc(block, data)\n",
    "\n",
    "    qprog = synthesize(main, preferences=Preferences(timeout_seconds=2000))\n",
    "    with ExecutionSession(qprog, execution_preferences) as es:\n",
    "        results = es.sample()\n",
    "    resulting_state = get_projected_state_vector(results, \"data\", {\"block\": 0.0})\n",
    "    return resulting_state"
   ]
  },
  {
   "cell_type": "code",
   "execution_count": 3,
   "metadata": {},
   "outputs": [],
   "source": [
    "def verify_by_plot(mat, rhs, be_factor, qsol):\n",
    "    # Plot quantum solution vs expected ine\n",
    "    expected_sol = (mat @ rhs) / be_factor\n",
    "    plt.plot(expected_sol, \"o\")\n",
    "    ext_idx = np.argmax(np.abs(expected_sol))\n",
    "    correct_sign = np.sign(expected_sol[ext_idx]) / np.sign(qsol[ext_idx])\n",
    "    qsol *= correct_sign\n",
    "    plt.plot(qsol, \".\")\n",
    "\n",
    "    return expected_sol"
   ]
  },
  {
   "cell_type": "markdown",
   "metadata": {},
   "source": [
    "Test a specific matrix"
   ]
  },
  {
   "cell_type": "code",
   "execution_count": 4,
   "metadata": {},
   "outputs": [],
   "source": [
    "import pathlib\n",
    "\n",
    "path = (\n",
    "    pathlib.Path(__file__).parent.resolve()\n",
    "    if \"__file__\" in locals()\n",
    "    else pathlib.Path(\".\")\n",
    ")"
   ]
  },
  {
   "cell_type": "code",
   "execution_count": 5,
   "metadata": {},
   "outputs": [],
   "source": [
    "mat_name = \"cavity-pc-4x4-i100_mat\"\n",
    "matfile = \"matrices/\" + mat_name + \".npz\"\n",
    "mat_raw_scr = sparse.load_npz(path / matfile)"
   ]
  },
  {
   "cell_type": "markdown",
   "metadata": {},
   "source": [
    "## Pauli block-encoding (non-Hermitian)"
   ]
  },
  {
   "cell_type": "code",
   "execution_count": 6,
   "metadata": {},
   "outputs": [],
   "source": [
    "rval = mat_raw_scr.data\n",
    "col = mat_raw_scr.indices\n",
    "rowstt = mat_raw_scr.indptr\n",
    "nr = mat_raw_scr.shape[0]\n",
    "\n",
    "data_size = int(np.log2(nr))\n",
    "\n",
    "# decompose to Paulis\n",
    "paulis_list, transform_matrix = initialize_paulis_from_csr(\n",
    "    rowstt, col, data_size, to_symmetrize=False\n",
    ")\n",
    "qubit_op = eval_pauli_op(paulis_list, transform_matrix, rval)\n",
    "qubit_op.compress(1e-12)\n",
    "hamiltonian = qubit_op_to_pauli_terms(qubit_op)\n",
    "\n",
    "# Calculate scaling factor and block size\n",
    "be_scaling_factor = sum([np.abs(term.coefficient) for term in hamiltonian.terms])\n",
    "block_size = max(1, (len(hamiltonian.terms) - 1).bit_length())\n",
    "\n",
    "rand_bvec = 1 - 2 * np.random.rand(2**data_size)\n",
    "rand_bvec = (rand_bvec / np.linalg.norm(rand_bvec)).tolist()\n",
    "hamiltonian = hamiltonian * (1 / be_scaling_factor)\n",
    "\n",
    "\n",
    "# Define block encoding function\n",
    "@qfunc\n",
    "def block_encode_pauli(block: QNum, data: QNum):\n",
    "    lcu_paulis_graycode(hamiltonian.terms, data, block)\n",
    "\n",
    "\n",
    "qsol = get_be_state(rand_bvec, block_encode_pauli, block_size, data_size)"
   ]
  },
  {
   "cell_type": "code",
   "execution_count": 7,
   "metadata": {},
   "outputs": [
    {
     "data": {
      "image/png": "[encoded data removed]",
      "text/plain": [
       "<Figure size 640x480 with 1 Axes>"
      ]
     },
     "metadata": {},
     "output_type": "display_data"
    }
   ],
   "source": [
    "expected_sol = verify_by_plot(mat_raw_scr, rand_bvec, be_scaling_factor, qsol)\n",
    "assert np.linalg.norm(qsol - expected_sol) < 1e-10"
   ]
  },
  {
   "cell_type": "markdown",
   "metadata": {},
   "source": [
    "## Pauli block-encoding (Hermitian)"
   ]
  },
  {
   "cell_type": "code",
   "execution_count": 8,
   "metadata": {},
   "outputs": [],
   "source": [
    "rval = mat_raw_scr.data\n",
    "col = mat_raw_scr.indices\n",
    "rowstt = mat_raw_scr.indptr\n",
    "nr = mat_raw_scr.shape[0]\n",
    "\n",
    "data_size = int(np.log2(nr))\n",
    "\n",
    "# decompose to Paulis\n",
    "paulis_list, transform_matrix = initialize_paulis_from_csr(\n",
    "    rowstt, col, data_size, to_symmetrize=True\n",
    ")\n",
    "data_size += 1  # in the symmetric case the data size is increased by 1\n",
    "\n",
    "qubit_op = eval_pauli_op(paulis_list, transform_matrix, rval)\n",
    "qubit_op.compress(1e-12)\n",
    "hamiltonian = qubit_op_to_pauli_terms(qubit_op)\n",
    "\n",
    "# Calculate scaling factor and block size\n",
    "be_scaling_factor = sum([np.abs(term.coefficient) for term in hamiltonian.terms])\n",
    "block_size = max(1, (len(hamiltonian.terms) - 1).bit_length())\n",
    "\n",
    "rand_bvec = 1 - 2 * np.random.rand(2**data_size)\n",
    "rand_bvec = (rand_bvec / np.linalg.norm(rand_bvec)).tolist()\n",
    "hamiltonian = hamiltonian * (1 / be_scaling_factor)\n",
    "\n",
    "\n",
    "# Define block encoding function\n",
    "@qfunc\n",
    "def block_encode_pauli(block: QNum, data: QNum):\n",
    "    lcu_paulis_graycode(hamiltonian.terms, data, block)\n",
    "\n",
    "\n",
    "qsol = get_be_state(rand_bvec, block_encode_pauli, block_size, data_size)"
   ]
  },
  {
   "cell_type": "code",
   "execution_count": 9,
   "metadata": {},
   "outputs": [
    {
     "data": {
      "image/png": "[encoded data removed]",
      "text/plain": [
       "<Figure size 640x480 with 1 Axes>"
      ]
     },
     "metadata": {},
     "output_type": "display_data"
    }
   ],
   "source": [
    "mat_raw = mat_raw_scr.toarray()\n",
    "mat_sym = np.block(\n",
    "    [\n",
    "        [np.zeros([nr, nr]), np.transpose(mat_raw)],\n",
    "        [mat_raw, np.zeros([nr, nr])],\n",
    "    ]\n",
    ")\n",
    "expected_sol = verify_by_plot(mat_sym, rand_bvec, be_scaling_factor, qsol)\n",
    "assert np.linalg.norm(qsol - expected_sol) < 1e-10"
   ]
  },
  {
   "cell_type": "markdown",
   "metadata": {},
   "source": [
    "## Banded block-encoding (non-Hermitian)"
   ]
  },
  {
   "cell_type": "code",
   "execution_count": 10,
   "metadata": {},
   "outputs": [],
   "source": [
    "# Get diagonal properties\n",
    "offsets, diags, diags_maxima, prepare_norm = get_be_banded_data(mat_raw_scr)\n",
    "\n",
    "data_size = int(np.ceil(np.log2(len(diags[0]))))\n",
    "s_size = int(np.ceil(np.log2(len(offsets))))\n",
    "\n",
    "# Calculate scaling factor and block size\n",
    "block_size = s_size + 1\n",
    "be_scaling_factor = prepare_norm\n",
    "\n",
    "\n",
    "# Define block encoding function\n",
    "@qfunc\n",
    "def block_encode_banded_matrix(block: QNum, data: QNum):\n",
    "    block_encode_banded(\n",
    "        offsets=offsets, diags=diags, prep_diag=diags_maxima, block=block, data=data\n",
    "    )\n",
    "\n",
    "\n",
    "rand_bvec = 1 - 2 * np.random.rand(2**data_size)\n",
    "rand_bvec = (rand_bvec / np.linalg.norm(rand_bvec)).tolist()\n",
    "\n",
    "\n",
    "qsol = get_be_state(rand_bvec, block_encode_banded_matrix, block_size, data_size)"
   ]
  },
  {
   "cell_type": "code",
   "execution_count": 11,
   "metadata": {},
   "outputs": [
    {
     "data": {
      "image/png": "[encoded data removed]",
      "text/plain": [
       "<Figure size 640x480 with 1 Axes>"
      ]
     },
     "metadata": {},
     "output_type": "display_data"
    }
   ],
   "source": [
    "expected_sol = verify_by_plot(mat_raw_scr, rand_bvec, be_scaling_factor, qsol)\n",
    "assert np.linalg.norm(qsol - expected_sol) < 1e-10"
   ]
  },
  {
   "cell_type": "markdown",
   "metadata": {},
   "source": [
    "## Banded block-encoding (Hermitian)"
   ]
  },
  {
   "cell_type": "code",
   "execution_count": 12,
   "metadata": {},
   "outputs": [],
   "source": [
    "offsets, diags, diags_maxima, prepare_norm = get_be_banded_data(mat_raw_scr)\n",
    "\n",
    "data_size = int(np.ceil(np.log2(len(diags[0])))) + 1\n",
    "s_size = int(np.ceil(np.log2(len(offsets))))\n",
    "\n",
    "# Calculate scaling factor and block size\n",
    "block_size = s_size + 3\n",
    "be_scaling_factor = 2 * prepare_norm\n",
    "\n",
    "\n",
    "# Define block encoding function\n",
    "@qfunc\n",
    "def block_encode_banded_matrix(block: QNum, data: QNum):\n",
    "    block_encode_banded_sym(\n",
    "        offsets=offsets, diags=diags, prep_diag=diags_maxima, block=block, data=data\n",
    "    )\n",
    "\n",
    "\n",
    "rand_bvec = 1 - 2 * np.random.rand(2**data_size)\n",
    "rand_bvec = (rand_bvec / np.linalg.norm(rand_bvec)).tolist()\n",
    "\n",
    "\n",
    "qsol = get_be_state(rand_bvec, block_encode_banded_matrix, block_size, data_size)"
   ]
  },
  {
   "cell_type": "code",
   "execution_count": 13,
   "metadata": {},
   "outputs": [
    {
     "data": {
      "image/png": "[encoded data removed]",
      "text/plain": [
       "<Figure size 640x480 with 1 Axes>"
      ]
     },
     "metadata": {},
     "output_type": "display_data"
    }
   ],
   "source": [
    "mat_raw = mat_raw_scr.toarray()\n",
    "raw_size = 2 ** (data_size - 1)\n",
    "mat_sym = np.block(\n",
    "    [\n",
    "        [np.zeros([raw_size, raw_size]), np.transpose(mat_raw)],\n",
    "        [mat_raw, np.zeros([raw_size, raw_size])],\n",
    "    ]\n",
    ")\n",
    "expected_sol = verify_by_plot(mat_sym, rand_bvec, be_scaling_factor, qsol)\n",
    "assert np.linalg.norm(qsol - expected_sol) < 1e-10"
   ]
  }
 ],
 "metadata": {
  "kernelspec": {
   "display_name": "Python 3 (ipykernel)",
   "language": "python",
   "name": "python3"
  },
  "language_info": {
   "codemirror_mode": {
    "name": "ipython",
    "version": 3
   },
   "file_extension": ".py",
   "mimetype": "text/x-python",
   "name": "python",
   "nbconvert_exporter": "python",
   "pygments_lexer": "ipython3",
   "version": "3.11.9"
  }
 },
 "nbformat": 4,
 "nbformat_minor": 4
}
