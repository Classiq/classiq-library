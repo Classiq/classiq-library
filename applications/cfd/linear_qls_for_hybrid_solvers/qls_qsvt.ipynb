{
 "cells": [
  {
   "cell_type": "markdown",
   "id": "0",
   "metadata": {},
   "source": [
    "# Quantum linear solver based on QSVT\n",
    "\n",
    "The code here can be integrated as part of a larger CFD solver, e.g., as in [qc-cfd repository](https://github.com/rolls-royce/qc-cfd/tree/main/1D-Nozzle).\n",
    "In particular, instead of calling a classical solver, e.g., `x = sparse.linalg.spsolve(mat_raw_scr, b_raw)`, one can call the quantum solver `qsvt_solver(mat_raw_scr, b_raw,...)`.\n",
    "\n",
    "We implemented two versions for block-encoding, one based on Pauli decomposition of the matrix, and another one based on decomposing the matrix to a finite set of diagonals."
   ]
  },
  {
   "cell_type": "code",
   "execution_count": 1,
   "id": "1",
   "metadata": {},
   "outputs": [],
   "source": [
    "import time\n",
    "\n",
    "import matplotlib.pyplot as plt\n",
    "import numpy as np\n",
    "from cheb_utils import *\n",
    "from classical_functions_rr import *\n",
    "from quantum_functions_rr import *\n",
    "from scipy import sparse\n",
    "\n",
    "from classiq import *\n",
    "from classiq.applications.chemistry.op_utils import qubit_op_to_pauli_terms\n",
    "\n",
    "np.random.seed(53)"
   ]
  },
  {
   "cell_type": "markdown",
   "id": "fa3ff802-70e0-4fa5-8399-3950e4aa7527",
   "metadata": {},
   "source": [
    "Define functions to get properties of the block-encoding."
   ]
  },
  {
   "cell_type": "code",
   "execution_count": 2,
   "id": "39e61223-cee4-4fa9-8d2e-066319ebffec",
   "metadata": {},
   "outputs": [],
   "source": [
    "def get_pauli_be(mat_raw_scr):\n",
    "    \"\"\"\n",
    "    Get relevant block-encoding properties for `lcu_paulis_graycode` block encoding,\n",
    "\n",
    "    Parameters\n",
    "    ----------\n",
    "    mat_raw_scr : scipy.sparse.spmatrix\n",
    "        Square sparse matrix of shape (N, N), real or complex, to be block-encoded.\n",
    "\n",
    "    Returns\n",
    "    -------\n",
    "    data_size : int\n",
    "       Size of the data variable.\n",
    "    block_size : int\n",
    "        Size of the block variable.\n",
    "    be_scaling_factor : float\n",
    "        The scaling factor of the block-encoding unitary\n",
    "    BlockEncodedState : QStruct\n",
    "        QSVT-compatible QStruct holding the quantum variables, with fields:\n",
    "          - data  : QNum[data_size]\n",
    "          - block : QNum[block_size]\n",
    "    be_qfunc : qfunc\n",
    "        Quantum function that implements the block encoding. Signature:\n",
    "        be_qfunc(be: BlockEncodedState) → None\n",
    "    \"\"\"\n",
    "    rval = mat_raw_scr.data\n",
    "    col = mat_raw_scr.indices\n",
    "    rowstt = mat_raw_scr.indptr\n",
    "    nr = mat_raw_scr.shape[0]\n",
    "\n",
    "    raw_size = mat_raw_scr.shape[0]\n",
    "    data_size = max(1, (raw_size - 1).bit_length())\n",
    "\n",
    "    # Set to_symmetrize=False, since we are working with QSVT\n",
    "    paulis_list, transform_matrix = initialize_paulis_from_csr(\n",
    "        rowstt, col, data_size, to_symmetrize=False\n",
    "    )\n",
    "\n",
    "    qubit_op = eval_pauli_op(paulis_list, transform_matrix, rval)\n",
    "    qubit_op.compress(1e-12)\n",
    "    hamiltonian = qubit_op_to_pauli_terms(qubit_op)\n",
    "\n",
    "    be_scaling_factor = sum([np.abs(term.coefficient) for term in hamiltonian.terms])\n",
    "    block_size = size = max(1, (len(hamiltonian.terms) - 1).bit_length())\n",
    "\n",
    "    hamiltonian = hamiltonian * (1 / be_scaling_factor)\n",
    "\n",
    "    class BlockEncodedState(QStruct):\n",
    "        data: QNum[data_size]\n",
    "        block: QNum[block_size]\n",
    "\n",
    "    @qfunc\n",
    "    def be_qfunc(be: BlockEncodedState):\n",
    "        lcu_paulis_graycode(hamiltonian.terms, be.data, be.block)\n",
    "\n",
    "    return data_size, block_size, be_scaling_factor, BlockEncodedState, be_qfunc\n",
    "\n",
    "\n",
    "def get_banded_diags_be(mat_raw_scr):\n",
    "    \"\"\"\n",
    "    Get relevant block-encoding properties for `block_encode_banded` block encoding,\n",
    "\n",
    "    Parameters\n",
    "    ----------\n",
    "    mat_raw_scr : scipy.sparse.spmatrix\n",
    "        Square sparse matrix of shape (N, N), real or complex, to be block-encoded.\n",
    "\n",
    "    Returns\n",
    "    -------\n",
    "    data_size : int\n",
    "       Size of the data variable.\n",
    "    block_size : int\n",
    "        Size of the block variable.\n",
    "    be_scaling_factor : float\n",
    "        The scaling factor of the block-encoding unitary\n",
    "    BlockEncodedState : QStruct\n",
    "        QSVT-compatible QStruct holding the quantum variables, with fields:\n",
    "          - data  : QNum[data_size]\n",
    "          - block : QNum[block_size]\n",
    "    be_qfunc : qfunc\n",
    "        Quantum function that implements the block encoding. Signature:\n",
    "        be_qfunc(be: BlockEncodedState) → None\n",
    "    \"\"\"\n",
    "    raw_size = mat_raw_scr.shape[0]\n",
    "    data_size = max(1, (raw_size - 1).bit_length())\n",
    "    offsets, diags, diags_maxima, prepare_norm = get_be_banded_data(mat_raw_scr)\n",
    "    block_size = int(np.ceil(np.log2(len(offsets)))) + 1\n",
    "    be_scaling_factor = prepare_norm\n",
    "\n",
    "    class BlockEncodedState(QStruct):\n",
    "        data: QNum[data_size]\n",
    "        block: QNum[block_size]\n",
    "\n",
    "    @qfunc\n",
    "    def be_qfunc(be: BlockEncodedState):\n",
    "        block_encode_banded(\n",
    "            offsets=offsets,\n",
    "            diags=diags,\n",
    "            prep_diag=diags_maxima,\n",
    "            block=be.block,\n",
    "            data=be.data,\n",
    "        )\n",
    "\n",
    "    return data_size, block_size, be_scaling_factor, BlockEncodedState, be_qfunc"
   ]
  },
  {
   "cell_type": "markdown",
   "id": "70f6dc70-c7fa-466b-bcfa-af7830b911bc",
   "metadata": {},
   "source": [
    "The solvers were developed in the framework of exploring their performance in hybrid CFD schemes. For simplicity, it is assumed that all the properties of the matrices are known explicitly. In particular, we calculate its sigular values for identyfing the range in which we apply the inversion polnomial."
   ]
  },
  {
   "cell_type": "code",
   "execution_count": 3,
   "id": "49f3a1e0-6274-4059-b121-52708be48138",
   "metadata": {},
   "outputs": [],
   "source": [
    "def get_svd_range(mat_raw_scr):\n",
    "    mat_raw = mat_raw_scr.toarray()\n",
    "    svd = np.linalg.svd(mat_raw)[1]\n",
    "    w_min = min(svd)\n",
    "    w_max = max(svd)\n",
    "    return w_min, w_max"
   ]
  },
  {
   "cell_type": "code",
   "execution_count": 4,
   "id": "ffdd07ee-3941-4ba8-8415-f45c1eff4d53",
   "metadata": {},
   "outputs": [],
   "source": [
    "def qsvt_solver(\n",
    "    mat_raw_scr,\n",
    "    b_raw,\n",
    "    poly_degree,\n",
    "    be_method=\"banded\",\n",
    "    cheb_approx_type=\"optimized\",\n",
    "    preferences=Preferences(),\n",
    "    constraints=Constraints(),\n",
    "):\n",
    "\n",
    "    SCALE = 0.5\n",
    "    b_norm = np.linalg.norm(b_raw)  # b normalization\n",
    "    b_normalized = b_raw / b_norm\n",
    "\n",
    "    # Define block encoding\n",
    "    if be_method == \"pauli\":\n",
    "        data_size, block_size, be_scaling_factor, BlockEncodedState, be_qfunc = (\n",
    "            get_pauli_be(mat_raw_scr)\n",
    "        )\n",
    "        print(\n",
    "            f\"Pauli block encoding with block size {block_size} and scaling factor {be_scaling_factor}\"\n",
    "        )\n",
    "\n",
    "    elif be_method == \"banded\":\n",
    "        data_size, block_size, be_scaling_factor, BlockEncodedState, be_qfunc = (\n",
    "            get_banded_diags_be(mat_raw_scr)\n",
    "        )\n",
    "        print(\n",
    "            f\"Banded diagonal block encoding with block size {block_size} and scaling factor {be_scaling_factor}\"\n",
    "        )\n",
    "\n",
    "    # Get SVD range\n",
    "    w_min, w_max = get_svd_range(mat_raw_scr / be_scaling_factor)\n",
    "    # Get Chebyshev polynomial and the corresponding QSVT angles\n",
    "    pcoefs = get_cheb_coeff(\n",
    "        w_min, poly_degree, w_max, scale=SCALE, method=cheb_approx_type, epsilon=0.01\n",
    "    )\n",
    "    inv_phases = get_qsvt_phases(pcoefs)\n",
    "\n",
    "    # Define QSVT projector\n",
    "    @qfunc\n",
    "    def projector(be: BlockEncodedState, res: QBit):\n",
    "        res ^= be.block == 0\n",
    "\n",
    "    @qfunc\n",
    "    def main(\n",
    "        qsvt_aux: Output[QBit],\n",
    "        data: Output[QNum[data_size]],\n",
    "        block: Output[QNum[block_size]],\n",
    "    ):\n",
    "        allocate(qsvt_aux)\n",
    "        allocate(block)\n",
    "        prepare_amplitudes(b_normalized.tolist(), 0, data)\n",
    "\n",
    "        be_state = BlockEncodedState()\n",
    "\n",
    "        within_apply(\n",
    "            lambda: bind([data, block], be_state),\n",
    "            lambda: qsvt_inversion(inv_phases, projector, be_qfunc, be_state, qsvt_aux),\n",
    "        )\n",
    "\n",
    "    start_time_syn = time.time()\n",
    "    qprog = synthesize(main, preferences=preferences, constraints=constraints)\n",
    "    print(\"time to syn:\", time.time() - start_time_syn)\n",
    "\n",
    "    execution_preferences = ExecutionPreferences(\n",
    "        num_shots=1,\n",
    "        backend_preferences=ClassiqBackendPreferences(\n",
    "            backend_name=ClassiqSimulatorBackendNames.SIMULATOR_STATEVECTOR\n",
    "        ),\n",
    "    )\n",
    "\n",
    "    start_time_exe = time.time()\n",
    "    with ExecutionSession(qprog, execution_preferences) as es:\n",
    "        es.set_measured_state_filter(\"block\", lambda state: state == 0.0)\n",
    "        es.set_measured_state_filter(\"qsvt_aux\", lambda state: state == 0.0)\n",
    "        results = es.sample()\n",
    "    print(\"time to exe:\", time.time() - start_time_exe)\n",
    "\n",
    "    resulting_state = get_projected_state_vector(results, \"data\")\n",
    "\n",
    "    normalization_factor = (be_scaling_factor * SCALE * w_min) / b_norm\n",
    "\n",
    "    return resulting_state / normalization_factor"
   ]
  },
  {
   "cell_type": "code",
   "execution_count": 5,
   "id": "78da6677-d323-4b2b-abee-3986b046aed3",
   "metadata": {},
   "outputs": [],
   "source": [
    "prefs = Preferences(\n",
    "    transpilation_option=\"none\", optimization_level=0, debug_mode=True, qasm3=True\n",
    ")\n",
    "poly_degree = 101"
   ]
  },
  {
   "cell_type": "markdown",
   "id": "28b1d297-f293-420b-9922-d33d3cdcb948",
   "metadata": {},
   "source": [
    "We run two examples, for the two different block encoding, but using the same polynomial degree."
   ]
  },
  {
   "cell_type": "code",
   "execution_count": 6,
   "id": "3e8339d8-b65d-45fc-a53f-a0722769348d",
   "metadata": {},
   "outputs": [],
   "source": [
    "import pathlib\n",
    "\n",
    "path = (\n",
    "    pathlib.Path(__file__).parent.resolve()\n",
    "    if \"__file__\" in locals()\n",
    "    else pathlib.Path(\".\")\n",
    ")"
   ]
  },
  {
   "cell_type": "code",
   "execution_count": 7,
   "id": "9361c4e0-9bfb-4633-9498-890126fcf93e",
   "metadata": {},
   "outputs": [
    {
     "name": "stdout",
     "output_type": "stream",
     "text": [
      "Raw matrix size: 3 qubits.\n"
     ]
    }
   ],
   "source": [
    "mat_name = \"nozzle_small_scr\"\n",
    "matfile = \"matrices/\" + mat_name + \".npz\"\n",
    "mat_raw_scr = sparse.load_npz(path / matfile)\n",
    "\n",
    "b_raw = np.load(path / \"matrices/b_nozzle_small.npy\")\n",
    "raw_mat_qubits = len(b_raw).bit_length() - 1  # matrix raw size\n",
    "\n",
    "print(f\"Raw matrix size: {raw_mat_qubits} qubits.\")"
   ]
  },
  {
   "cell_type": "code",
   "execution_count": 8,
   "id": "ab8cfc39-9fe0-4de6-b36e-14ae565ab35e",
   "metadata": {},
   "outputs": [
    {
     "name": "stdout",
     "output_type": "stream",
     "text": [
      "Banded diagonal block encoding with block size 3 and scaling factor 3.8927056451476174\n",
      "For error 0.01, and given kappa, the needed polynomial degree is: 2*295+1\n",
      "The Chebyshev LCU requires 9 qubits\n",
      "Performing convex optimization for the Chebyshev interpolation, with degree 101\n",
      "Max relative error value: 0.017025127162188403\n",
      "time to syn: 46.69266414642334\n",
      "time to exe: 45.50282287597656\n"
     ]
    }
   ],
   "source": [
    "qsol_banded = qsvt_solver(\n",
    "    mat_raw_scr, b_raw, poly_degree, be_method=\"banded\", preferences=prefs\n",
    ")"
   ]
  },
  {
   "cell_type": "code",
   "execution_count": 9,
   "id": "f22c6a5a-66a3-4d57-a2e7-a877d222627d",
   "metadata": {},
   "outputs": [
    {
     "name": "stdout",
     "output_type": "stream",
     "text": [
      "Pauli block encoding with block size 5 and scaling factor 5.6428068318664355\n",
      "For error 0.01, and given kappa, the needed polynomial degree is: 2*449+1\n",
      "The Chebyshev LCU requires 9 qubits\n",
      "Performing convex optimization for the Chebyshev interpolation, with degree 101\n",
      "Max relative error value: 0.06140234945729006\n",
      "time to syn: 66.42717623710632\n",
      "time to exe: 30.851653814315796\n"
     ]
    }
   ],
   "source": [
    "qsol_pauli = qsvt_solver(\n",
    "    mat_raw_scr, b_raw, poly_degree, be_method=\"pauli\", preferences=prefs\n",
    ")"
   ]
  },
  {
   "cell_type": "code",
   "execution_count": 10,
   "id": "6fd7f6dd-878d-4b1e-bde0-2e424fdea562",
   "metadata": {},
   "outputs": [
    {
     "data": {
      "text/plain": [
       "<matplotlib.legend.Legend at 0x1688c3a50>"
      ]
     },
     "execution_count": 10,
     "metadata": {},
     "output_type": "execute_result"
    },
    {
     "data": {
      "image/png": "[encoded data removed]",
      "text/plain": [
       "<Figure size 640x480 with 1 Axes>"
      ]
     },
     "metadata": {},
     "output_type": "display_data"
    }
   ],
   "source": [
    "mat_raw = mat_raw_scr.toarray()\n",
    "expected_sol = np.linalg.solve(mat_raw, b_raw)\n",
    "plt.plot(expected_sol, \"o\", label=\"Classical\")\n",
    "ext_idx = np.argmax(np.abs(expected_sol))\n",
    "correct_sign = np.sign(expected_sol[ext_idx]) / np.sign(qsol_pauli[ext_idx])\n",
    "qsol_pauli *= correct_sign\n",
    "plt.plot(qsol_pauli, \".\", label=f\"QSVT-inv; Pauli BE; degree {poly_degree}\")\n",
    "\n",
    "correct_sign = np.sign(expected_sol[ext_idx]) / np.sign(qsol_banded[ext_idx])\n",
    "qsol_banded *= correct_sign\n",
    "plt.plot(qsol_banded, \".\", label=f\"QSVT-inv; Banded BE; degree {poly_degree}\")\n",
    "plt.legend()"
   ]
  },
  {
   "cell_type": "markdown",
   "id": "58877fc4-3607-4307-a909-9466078dc813",
   "metadata": {},
   "source": [
    "**We can see that the results is better for the banded diagonal block-encoding. This is because it has a better scaling factor, and thus a better approximation for a given polynomial degree.**"
   ]
  },
  {
   "cell_type": "code",
   "execution_count": null,
   "id": "1d65d0a1-9faf-4705-8da1-c94b205a6fc0",
   "metadata": {},
   "outputs": [],
   "source": []
  }
 ],
 "metadata": {
  "kernelspec": {
   "display_name": "Python 3 (ipykernel)",
   "language": "python",
   "name": "python3"
  },
  "language_info": {
   "codemirror_mode": {
    "name": "ipython",
    "version": 3
   },
   "file_extension": ".py",
   "mimetype": "text/x-python",
   "name": "python",
   "nbconvert_exporter": "python",
   "pygments_lexer": "ipython3",
   "version": "3.11.9"
  }
 },
 "nbformat": 4,
 "nbformat_minor": 5
}
