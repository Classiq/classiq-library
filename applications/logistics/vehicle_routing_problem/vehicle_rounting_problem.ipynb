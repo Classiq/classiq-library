{
 "cells": [
  {
   "cell_type": "markdown",
   "id": "86d968ec",
   "metadata": {
    "collapsed": false,
    "jupyter": {
     "outputs_hidden": false
    }
   },
   "source": [
    "# Vehicle Routing Problem (VRP)"
   ]
  },
  {
   "cell_type": "code",
   "execution_count": null,
   "id": "cd2d86a5",
   "metadata": {
    "ExecuteTime": {
     "end_time": "2025-08-05T15:30:12.289974Z",
     "start_time": "2025-08-05T15:30:11.843547Z"
    },
    "collapsed": false,
    "jupyter": {
     "outputs_hidden": false
    }
   },
   "outputs": [],
   "source": [
    "import networkx as nx\n",
    "from classiq import *\n",
    "import math\n",
    "import matplotlib.pyplot as plt\n",
    "import numpy as np\n",
    "from scipy.optimize import minimize\n",
    "from classiq.execution import ExecutionSession, ExecutionPreferences\n",
    "from typing import Iterable"
   ]
  },
  {
   "cell_type": "markdown",
   "id": "8157a732",
   "metadata": {
    "collapsed": false,
    "jupyter": {
     "outputs_hidden": false
    }
   },
   "source": [
    "### What is the VRP?\n",
    "The Vehicle Routing Problem (VRP) is a combinatorial optimization problem that aims to determine the optimal routes for a fleet of vehicles to deliver goods to a set of locations while minimizing the total distance traveled or cost incurred. The problem is NP-hard, meaning that finding an exact solution is computationally infeasible for large instances, and heuristic or approximation algorithms are often used to find near-optimal solutions.\n",
    "\n",
    "In the problem, each vehicle start from a different depot, visits a set of cities, and returns to its depot. The goal is to minimize the total travel cost while ensuring that each city is visited exactly once by one vehicle."
   ]
  },
  {
   "cell_type": "markdown",
   "id": "9415dcb5",
   "metadata": {
    "collapsed": false,
    "jupyter": {
     "outputs_hidden": false
    }
   },
   "source": [
    "### Generating problem data"
   ]
  },
  {
   "cell_type": "code",
   "execution_count": null,
   "id": "7aaecf5f",
   "metadata": {
    "ExecuteTime": {
     "end_time": "2025-08-05T15:30:12.480901Z",
     "start_time": "2025-08-05T15:30:11.869651Z"
    },
    "collapsed": false,
    "jupyter": {
     "outputs_hidden": false
    }
   },
   "outputs": [],
   "source": [
    "locations = list(range(6))\n",
    "\n",
    "#one depot per car\n",
    "depots = list(range(2))\n",
    "\n",
    "#4 cities to visit in total\n",
    "cities = list(range(2,6))\n",
    "\n",
    "num_vehicles = len(depots)\n",
    "num_cities = len(cities)\n",
    "num_locations = len(locations)"
   ]
  },
  {
   "cell_type": "markdown",
   "id": "6c314be3",
   "metadata": {
    "collapsed": false,
    "jupyter": {
     "outputs_hidden": false
    }
   },
   "source": [
    "### Definition of positions\n",
    "Assuming the cities are evenly divided among vehicles (more or less), we will use `possible_number_of_cities_per_vehicle`."
   ]
  },
  {
   "cell_type": "code",
   "execution_count": null,
   "id": "528f45ef",
   "metadata": {
    "ExecuteTime": {
     "end_time": "2025-08-05T15:30:12.488008Z",
     "start_time": "2025-08-05T15:30:11.882201Z"
    },
    "collapsed": false,
    "jupyter": {
     "outputs_hidden": false
    }
   },
   "outputs": [],
   "source": [
    "possible_number_of_cities_per_vehicle = len(cities) // num_vehicles"
   ]
  },
  {
   "cell_type": "markdown",
   "id": "c2273a2f",
   "metadata": {
    "collapsed": false,
    "jupyter": {
     "outputs_hidden": false
    }
   },
   "source": [
    "The total number of positions `num_positions` (or time slots) in a car route. We add $2$ for the start (depot) and end (return to depot) positions."
   ]
  },
  {
   "cell_type": "code",
   "execution_count": null,
   "id": "bb1adf42",
   "metadata": {
    "ExecuteTime": {
     "end_time": "2025-08-05T15:30:12.489672Z",
     "start_time": "2025-08-05T15:30:11.895925Z"
    },
    "collapsed": false,
    "jupyter": {
     "outputs_hidden": false
    }
   },
   "outputs": [],
   "source": [
    "num_positions = possible_number_of_cities_per_vehicle + 2"
   ]
  },
  {
   "cell_type": "markdown",
   "id": "1df0ae27",
   "metadata": {
    "collapsed": false,
    "jupyter": {
     "outputs_hidden": false
    }
   },
   "source": [
    "All valid routes (time slots) positions that a vehicle can take:\n",
    "- Starting depot $\\rightarrow 0$\n",
    "- Visiting cities $\\rightarrow 1,2, \\ldots,$ `num_positions-1`\n",
    "- Ending depot $\\rightarrow 3$"
   ]
  },
  {
   "cell_type": "code",
   "execution_count": null,
   "id": "7e90dd0a",
   "metadata": {
    "ExecuteTime": {
     "end_time": "2025-08-05T15:30:12.492656Z",
     "start_time": "2025-08-05T15:30:11.908650Z"
    },
    "collapsed": false,
    "jupyter": {
     "outputs_hidden": false
    }
   },
   "outputs": [],
   "source": [
    "positions_all = list(range(num_positions))"
   ]
  },
  {
   "cell_type": "code",
   "execution_count": null,
   "id": "a5f26fb5",
   "metadata": {
    "ExecuteTime": {
     "end_time": "2025-08-05T15:30:12.492770Z",
     "start_time": "2025-08-05T15:30:11.911185Z"
    },
    "collapsed": false,
    "jupyter": {
     "outputs_hidden": false
    }
   },
   "outputs": [],
   "source": [
    "print(positions_all)"
   ]
  },
  {
   "cell_type": "markdown",
   "id": "9a2bf7f7",
   "metadata": {
    "collapsed": false,
    "jupyter": {
     "outputs_hidden": false
    }
   },
   "source": [
    "The inner positions are the positions that can be occupied by cities, excluding the start and end depots."
   ]
  },
  {
   "cell_type": "code",
   "execution_count": null,
   "id": "8ffe62ac",
   "metadata": {
    "ExecuteTime": {
     "end_time": "2025-08-05T15:30:12.494254Z",
     "start_time": "2025-08-05T15:30:11.921800Z"
    },
    "collapsed": false,
    "jupyter": {
     "outputs_hidden": false
    }
   },
   "outputs": [],
   "source": [
    "inner_positions = list(range(1, num_positions - 1))\n",
    "\n",
    "print(inner_positions)"
   ]
  },
  {
   "cell_type": "markdown",
   "id": "85ebbcc4",
   "metadata": {
    "collapsed": false,
    "jupyter": {
     "outputs_hidden": false
    }
   },
   "source": [
    "## To find good solutions, we need to normalise the mixer and the cost Hamiltonians.\n",
    "### If it is too much information, ignore it for now, and go to \"Back to the VRP problem\" to focus on the VRP problem itself.\n",
    "The mixer Hamiltonian is effectively $X/2$ and has eigenvalues $-0.5$ and $+0.5$. So the difference between minimum and maximum eigenvalues is exactly 1.\n",
    "This can be rescaled by a global scaling parameter."
   ]
  },
  {
   "cell_type": "code",
   "execution_count": null,
   "id": "c8f6fdfa",
   "metadata": {
    "ExecuteTime": {
     "end_time": "2025-08-05T15:30:12.496241Z",
     "start_time": "2025-08-05T15:30:11.936012Z"
    },
    "collapsed": false,
    "jupyter": {
     "outputs_hidden": false
    }
   },
   "outputs": [],
   "source": [
    "GlobalScalingParameter = 0.1"
   ]
  },
  {
   "cell_type": "markdown",
   "id": "d1008de0",
   "metadata": {
    "collapsed": false,
    "jupyter": {
     "outputs_hidden": false
    }
   },
   "source": [
    "The cost Hamiltonian should be similar in eigenvalue difference to the mixer Hamiltonian and should be normalised to about 1.\n",
    "This will be taken care off later by the distance normalisation.\n",
    "\n",
    "To find the exact normalisation requires solving this NP hard problem, so we always use approximation. Since this is approximate, there is a relative scaling parameter we can tweak."
   ]
  },
  {
   "cell_type": "code",
   "execution_count": null,
   "id": "352e4489",
   "metadata": {
    "ExecuteTime": {
     "end_time": "2025-08-05T15:30:12.503452Z",
     "start_time": "2025-08-05T15:30:11.949059Z"
    },
    "collapsed": false,
    "jupyter": {
     "outputs_hidden": false
    }
   },
   "outputs": [],
   "source": [
    "RelativeCostNormalisation = 1.5"
   ]
  },
  {
   "cell_type": "markdown",
   "id": "f7dc9558",
   "metadata": {
    "collapsed": false,
    "jupyter": {
     "outputs_hidden": false
    }
   },
   "source": [
    "The overall normalization of the total cost is thus:"
   ]
  },
  {
   "cell_type": "code",
   "execution_count": null,
   "id": "6121798d",
   "metadata": {
    "ExecuteTime": {
     "end_time": "2025-08-05T15:30:12.505286Z",
     "start_time": "2025-08-05T15:30:11.962667Z"
    },
    "collapsed": false,
    "jupyter": {
     "outputs_hidden": false
    }
   },
   "outputs": [],
   "source": [
    "AbsoluteCostNormalisation = GlobalScalingParameter * RelativeCostNormalisation\n",
    "print(AbsoluteCostNormalisation)"
   ]
  },
  {
   "cell_type": "markdown",
   "id": "5b037223",
   "metadata": {
    "collapsed": false,
    "jupyter": {
     "outputs_hidden": false
    }
   },
   "source": [
    "The constraint Hamiltonian has the property that a minimal constraint violation is 1 and no constraint violation is 0.\n",
    "We wish to normalise the constraint Hamiltonian relative to the total cost Hamiltonian such that the constraint violation will be 1~2 x larger than the maximal difference between total cost values."
   ]
  },
  {
   "cell_type": "code",
   "execution_count": null,
   "id": "ceba3eb5",
   "metadata": {
    "ExecuteTime": {
     "end_time": "2025-08-05T15:30:12.506768Z",
     "start_time": "2025-08-05T15:30:11.977300Z"
    },
    "collapsed": false,
    "jupyter": {
     "outputs_hidden": false
    }
   },
   "outputs": [],
   "source": [
    "RelativeConstraintNormalisation = 6"
   ]
  },
  {
   "cell_type": "markdown",
   "id": "1a6f8ec0",
   "metadata": {
    "collapsed": false,
    "jupyter": {
     "outputs_hidden": false
    }
   },
   "source": [
    "The overall normalisation of the constraint Hamiltonian is similarly:"
   ]
  },
  {
   "cell_type": "code",
   "execution_count": null,
   "id": "530b4f83",
   "metadata": {
    "ExecuteTime": {
     "end_time": "2025-08-05T15:30:12.513240Z",
     "start_time": "2025-08-05T15:30:11.990088Z"
    },
    "collapsed": false,
    "jupyter": {
     "outputs_hidden": false
    }
   },
   "outputs": [],
   "source": [
    "AbsoluteConstraintNormalisation = RelativeConstraintNormalisation * AbsoluteCostNormalisation\n",
    "\n",
    "print(AbsoluteConstraintNormalisation)"
   ]
  },
  {
   "cell_type": "markdown",
   "id": "a5a96058",
   "metadata": {
    "collapsed": false,
    "jupyter": {
     "outputs_hidden": false
    }
   },
   "source": [
    "## Back to the VRP problem\n",
    "### Setting locations of cities\n",
    "\n",
    "Setting random locations in a square of size (0, max_x_y)x(0, max_x_y).\n",
    "To have the same result, we set the random seed. To have different results, change/delete the seed."
   ]
  },
  {
   "cell_type": "code",
   "execution_count": null,
   "id": "59fac755",
   "metadata": {
    "ExecuteTime": {
     "end_time": "2025-08-05T15:30:12.519705Z",
     "start_time": "2025-08-05T15:30:12.005181Z"
    },
    "collapsed": false,
    "jupyter": {
     "outputs_hidden": false
    }
   },
   "outputs": [],
   "source": [
    "np.random.seed(10)\n",
    "\n",
    "max_x_y = 10\n",
    "x_y_locations = np.random.rand(num_locations, 2) * max_x_y"
   ]
  },
  {
   "cell_type": "code",
   "execution_count": null,
   "id": "2818d790",
   "metadata": {
    "ExecuteTime": {
     "end_time": "2025-08-05T15:30:12.531957Z",
     "start_time": "2025-08-05T15:30:12.011762Z"
    },
    "collapsed": false,
    "jupyter": {
     "outputs_hidden": false
    }
   },
   "outputs": [],
   "source": [
    "# Create a complete graph\n",
    "G = nx.complete_graph(num_locations)\n",
    "\n",
    "# Map node positions to the generated x_y coordinates\n",
    "pos = {i: (x_y_locations[i][0], x_y_locations[i][1]) for i in range(num_locations)}\n",
    "\n",
    "# Plot\n",
    "nx.draw(G, pos, with_labels=True, node_size=300, node_color='lightgreen', edge_color='gray')\n",
    "plt.title(\"Graph of the Cities on the XY Plane\")"
   ]
  },
  {
   "cell_type": "code",
   "execution_count": null,
   "id": "7b0536cd",
   "metadata": {
    "ExecuteTime": {
     "end_time": "2025-08-05T15:30:12.536002Z",
     "start_time": "2025-08-05T15:30:12.088961Z"
    },
    "collapsed": false,
    "jupyter": {
     "outputs_hidden": false
    }
   },
   "outputs": [],
   "source": [
    "def find_xy_distances_from_locations(x_y_locations: np.ndarray):\n",
    "    distances_locations = np.zeros((num_locations, num_locations))\n",
    "    for i in range(num_locations):\n",
    "        for j in range(num_locations):\n",
    "            distance = math.sqrt(\n",
    "                (x_y_locations[i][0] - x_y_locations[j][0]) ** 2 +\n",
    "                (x_y_locations[i][1] - x_y_locations[j][1]) ** 2\n",
    "            )\n",
    "            distances_locations[i][j] = distance\n",
    "    return distances_locations\n",
    "\n",
    "def calculate_distances_between_cities(x_y_locations: np.ndarray):\n",
    "    distances_locations = find_xy_distances_from_locations(x_y_locations)\n",
    "    max_distance = np.max(distances_locations)\n",
    "    min_distance = np.min(distances_locations[distances_locations > 0])  # Exclude self-distances\n",
    "    return distances_locations, max_distance, min_distance\n",
    "\n",
    "distances_locations, max_distance, min_distance = calculate_distances_between_cities(x_y_locations)"
   ]
  },
  {
   "cell_type": "code",
   "execution_count": null,
   "id": "d4291c33",
   "metadata": {
    "ExecuteTime": {
     "end_time": "2025-08-05T15:30:12.536211Z",
     "start_time": "2025-08-05T15:30:12.091786Z"
    },
    "collapsed": false,
    "jupyter": {
     "outputs_hidden": false
    }
   },
   "outputs": [],
   "source": [
    "print(distances_locations)"
   ]
  },
  {
   "cell_type": "markdown",
   "id": "e17e96de",
   "metadata": {
    "collapsed": false,
    "jupyter": {
     "outputs_hidden": false
    }
   },
   "source": [
    "The maximal cost of any candidate is `num_locations`$\\times$ `max_distance`.\n",
    "The minimal cost of any candidate is `num_locations`$\\times$ `min_distance`.\n",
    "Hence, the maximal difference of eigenvalues of the total cost Hamiltonian is:"
   ]
  },
  {
   "cell_type": "code",
   "execution_count": null,
   "id": "0ee34c90",
   "metadata": {
    "ExecuteTime": {
     "end_time": "2025-08-05T15:30:12.538231Z",
     "start_time": "2025-08-05T15:30:12.095767Z"
    },
    "collapsed": false,
    "jupyter": {
     "outputs_hidden": false
    }
   },
   "outputs": [],
   "source": [
    "DistanceNormalisation = num_locations * (max_distance - min_distance)"
   ]
  },
  {
   "cell_type": "markdown",
   "id": "3ed44d24",
   "metadata": {
    "collapsed": false,
    "jupyter": {
     "outputs_hidden": false
    }
   },
   "source": [
    "In order to set the maximal difference of eigenvalues of the total cost Hamiltonian to 1, we must scale the distances by `DistanceNormalisation`:"
   ]
  },
  {
   "cell_type": "code",
   "execution_count": null,
   "id": "a2d367d1",
   "metadata": {
    "ExecuteTime": {
     "end_time": "2025-08-05T15:30:12.538305Z",
     "start_time": "2025-08-05T15:30:12.098216Z"
    },
    "collapsed": false,
    "jupyter": {
     "outputs_hidden": false
    }
   },
   "outputs": [],
   "source": [
    "distances_locations = distances_locations / DistanceNormalisation"
   ]
  },
  {
   "cell_type": "code",
   "execution_count": null,
   "id": "159351a0",
   "metadata": {
    "ExecuteTime": {
     "end_time": "2025-08-05T15:30:12.538376Z",
     "start_time": "2025-08-05T15:30:12.100843Z"
    },
    "collapsed": false,
    "jupyter": {
     "outputs_hidden": false
    }
   },
   "outputs": [],
   "source": [
    "print(distances_locations)"
   ]
  },
  {
   "cell_type": "markdown",
   "id": "f4eb654b",
   "metadata": {
    "collapsed": false,
    "jupyter": {
     "outputs_hidden": false
    }
   },
   "source": [
    "## Defining the VRP objective function\n",
    "### First, define number of functions that compose the objective function\n",
    "### A major difficulty is to map 3D (city, position, vehicle) to 1D index in the array of decision variables."
   ]
  },
  {
   "cell_type": "markdown",
   "id": "897e5b98",
   "metadata": {
    "collapsed": false,
    "jupyter": {
     "outputs_hidden": false
    }
   },
   "source": [
    "#### Find the right index\n",
    "Access the value of the binary decision variable x that encodes whether city (or depot) u is visited at position v by vehicle k.\n",
    "`u`- city\n",
    "`v` - position (time slot)\n",
    "`x` is the array of decision variables\n",
    "`k` is the vehicle number"
   ]
  },
  {
   "cell_type": "code",
   "execution_count": null,
   "id": "909567f7",
   "metadata": {
    "ExecuteTime": {
     "end_time": "2025-08-05T15:30:12.538410Z",
     "start_time": "2025-08-05T15:30:12.105033Z"
    },
    "collapsed": false,
    "jupyter": {
     "outputs_hidden": false
    }
   },
   "outputs": [],
   "source": [
    "def find_the_index_in_array(\n",
    "        x: QArray[QBit] | Iterable[int], # array of decision variables\n",
    "        u: int, # city\n",
    "        v: int, # position\n",
    "        k: int # vehicle number\n",
    "    ) -> int | QBit:\n",
    "    \"\"\"\n",
    "    Access the value of the binary decision variable x that encodes whether city (or depot) u is visited at position v by vehicle k.\n",
    "    \"\"\"\n",
    "    if u in depots or (v == 0 or v == num_positions - 1):\n",
    "        # Case 1: If `u` is a depot\n",
    "        if u in depots:\n",
    "            if k == u:\n",
    "                # Depots are only valid at start or end positions\n",
    "                if v == 0 or v == num_positions - 1:\n",
    "                    # Vehicle `k` starts or ends at its depot `u`\n",
    "                    return 1\n",
    "                else:\n",
    "                    return 0\n",
    "            else:\n",
    "                return 0\n",
    "        # Case 2: `u` is not a depot but the position is a depot-only position\n",
    "        # Cities are not allowed at start or end of a route\n",
    "        else:\n",
    "            return 0\n",
    "    # Handle city logic (when `u` is a city and `v` is an inner position)\n",
    "    else:\n",
    "        # We map 3D (city, position, vehicle) to 1D index\n",
    "        city_index = u - num_vehicles\n",
    "        pos_index = v - 1\n",
    "        flat_index = (\n",
    "            city_index * possible_number_of_cities_per_vehicle * num_vehicles\n",
    "            + pos_index * num_vehicles\n",
    "            + k\n",
    "        )\n",
    "        return x[flat_index]"
   ]
  },
  {
   "cell_type": "markdown",
   "id": "8ba54db8",
   "metadata": {
    "collapsed": false,
    "jupyter": {
     "outputs_hidden": false
    }
   },
   "source": [
    "Making sure we satisfy the following constraints:\n",
    "1. Each city is assigned to exactly one vehicle and one route position.\n",
    "2. Each inner position of a route (per vehicle) is filled by exactly one city."
   ]
  },
  {
   "cell_type": "code",
   "execution_count": null,
   "id": "cae3d024",
   "metadata": {
    "ExecuteTime": {
     "end_time": "2025-08-05T15:30:12.539943Z",
     "start_time": "2025-08-05T15:30:12.108685Z"
    },
    "collapsed": false,
    "jupyter": {
     "outputs_hidden": false
    }
   },
   "outputs": [],
   "source": [
    "def check_validity(x: QArray[QBit]):\n",
    "    \"\"\"\n",
    "    verifies that the assignment array `x` satisfies basic constraints.\n",
    "    Checks if each city is visited exactly once and by one vehicle.\n",
    "    \"\"\"\n",
    "    # Check that each city is visited exactly once\n",
    "    for city_index in range(num_cities):\n",
    "        assignment_sum = 0\n",
    "\n",
    "        for position in range(possible_number_of_cities_per_vehicle):  # inner positions only\n",
    "            for vehicle_id in range(num_vehicles):\n",
    "                # Shift city index by num_vehicles to access location ID (since cities start after depots)\n",
    "                assignment_sum += find_the_index_in_array(\n",
    "                    x=x, u=city_index + num_vehicles, v=position + 1, k=vehicle_id\n",
    "                )\n",
    "\n",
    "        # A city must appear exactly once across all vehicles and positions\n",
    "        if assignment_sum != 1:\n",
    "            return False\n",
    "\n",
    "    # Each position is used exactly once per vehicle\n",
    "    for position in range(possible_number_of_cities_per_vehicle):  # inner positions\n",
    "        for vehicle_id in range(num_vehicles):\n",
    "            assignment_sum = 0\n",
    "\n",
    "            for city_index in range(num_cities):\n",
    "                assignment_sum += find_the_index_in_array(\n",
    "                    x=x, u=city_index + num_vehicles, v=position + 1, k=vehicle_id\n",
    "                )\n",
    "\n",
    "            # Each position must be occupied by exactly one city\n",
    "            if assignment_sum != 1:\n",
    "                return False\n",
    "\n",
    "    return True"
   ]
  },
  {
   "cell_type": "markdown",
   "id": "a9c70763",
   "metadata": {
    "collapsed": false,
    "jupyter": {
     "outputs_hidden": false
    }
   },
   "source": [
    "### Total travel cost for all vehicle routes"
   ]
  },
  {
   "cell_type": "code",
   "execution_count": null,
   "id": "ede2f5f4",
   "metadata": {
    "ExecuteTime": {
     "end_time": "2025-08-05T15:30:12.539997Z",
     "start_time": "2025-08-05T15:30:12.111331Z"
    },
    "collapsed": false,
    "jupyter": {
     "outputs_hidden": false
    }
   },
   "outputs": [],
   "source": [
    "def total_travel_cost4vehicles(x: QArray[QBit]):\n",
    "    \"\"\"\n",
    "    Computes the total travel cost for all vehicle routes defined by the assignment array `x`.\n",
    "\n",
    "    The cost is calculated as the sum of the distances between every pair of consecutive locations\n",
    "    visited by the same vehicle, across all route positions.\n",
    "    \"\"\"\n",
    "    total_travel_cost = 0\n",
    "\n",
    "    # Loop through each position in the route except the last (we look ahead to position + 1)\n",
    "    for position in range(num_positions - 1):\n",
    "\n",
    "        # Consider every pair of locations (from → to)\n",
    "        for to_location in locations:\n",
    "            for from_location in locations:\n",
    "                # For each vehicle (indexed by its depot ID)\n",
    "                for vehicle_id in depots:\n",
    "\n",
    "                    # Add cost only if both transitions are selected in the route\n",
    "                    total_travel_cost += (\n",
    "                            AbsoluteCostNormalisation *\n",
    "                            distances_locations[from_location][to_location]\n",
    "                            * find_the_index_in_array(x, from_location, position, vehicle_id)\n",
    "                            * find_the_index_in_array(x, to_location, position + 1, vehicle_id)\n",
    "                    )\n",
    "\n",
    "\n",
    "    return total_travel_cost"
   ]
  },
  {
   "cell_type": "markdown",
   "id": "78ba9f47",
   "metadata": {
    "collapsed": false,
    "jupyter": {
     "outputs_hidden": false
    }
   },
   "source": [
    "## Defining the constraints"
   ]
  },
  {
   "cell_type": "code",
   "execution_count": null,
   "id": "670c2d0f",
   "metadata": {
    "ExecuteTime": {
     "end_time": "2025-08-05T15:30:12.540034Z",
     "start_time": "2025-08-05T15:30:12.115852Z"
    },
    "collapsed": false,
    "jupyter": {
     "outputs_hidden": false
    }
   },
   "outputs": [],
   "source": [
    "def constraint_each_city_visited_once(x: QArray[QBit]):\n",
    "    \"\"\"\n",
    "    Soft constraint: Ensures that each city is visited exactly once by applying a penalty\n",
    "    for any deviation from that condition.\n",
    "\n",
    "    For each city, it checks how many times the city appears across all vehicle routes and\n",
    "    inner positions. If the count is not exactly one, a quadratic penalty is applied.\n",
    "    \"\"\"\n",
    "    total_penalty = 0\n",
    "\n",
    "    # Loop over each city (cities are defined separately from depots)\n",
    "    for city_id in cities:\n",
    "        city_assignment_count = 0\n",
    "\n",
    "        # Sum appearances of this city across all vehicles and inner positions\n",
    "        for vehicle_id in depots:\n",
    "            for position in inner_positions:\n",
    "                city_assignment_count += find_the_index_in_array(\n",
    "                    x=x, u=city_id, v=position, k=vehicle_id\n",
    "                )\n",
    "\n",
    "        # Ideal count is 1: each city should be visited exactly once\n",
    "        deviation_from_expected = city_assignment_count - 1\n",
    "\n",
    "        # Apply a quadratic penalty for deviation (0 if exactly one visit)\n",
    "        penalty = AbsoluteConstraintNormalisation * (deviation_from_expected ** 2)\n",
    "\n",
    "        total_penalty += penalty\n",
    "\n",
    "    return total_penalty\n",
    "\n",
    "\n",
    "def constraint_each_position_occupied_by_one_city(x: QArray[QBit]):\n",
    "    \"\"\"\n",
    "    Soft constraint: Ensures that each inner position in each vehicle's route is occupied\n",
    "    by exactly one location (either a city or a depot).\n",
    "\n",
    "    For each vehicle and each inner route position, the function counts how many locations\n",
    "    are assigned to that slot. If the count is not exactly one, a penalty is applied.\n",
    "    \"\"\"\n",
    "    total_penalty = 0\n",
    "\n",
    "    # Loop through each inner position (excluding start and end depot slots)\n",
    "    for position in inner_positions:\n",
    "\n",
    "        # Check each vehicle's route at this position\n",
    "        for vehicle_id in depots:\n",
    "            position_occupancy_count = 0\n",
    "\n",
    "            # Sum over all possible locations (cities + depots) at this position\n",
    "            for location_id in locations:\n",
    "                position_occupancy_count += find_the_index_in_array(\n",
    "                    x=x, u=location_id, v=position, k=vehicle_id\n",
    "                )\n",
    "\n",
    "            # Each position must be occupied by exactly one location\n",
    "            deviation_from_expected = position_occupancy_count - 1\n",
    "\n",
    "            # Apply a penalty for under/over-assignments\n",
    "            penalty_term = deviation_from_expected ** 2\n",
    "            total_penalty += penalty_term\n",
    "\n",
    "    # Apply the penalty with the normalisation factor\n",
    "    return AbsoluteConstraintNormalisation * total_penalty"
   ]
  },
  {
   "cell_type": "markdown",
   "id": "46ab2932",
   "metadata": {
    "collapsed": false,
    "jupyter": {
     "outputs_hidden": false
    }
   },
   "source": [
    "#### Total objective function for the VRP is the sum of the total travel cost and the constraints."
   ]
  },
  {
   "cell_type": "code",
   "execution_count": null,
   "id": "cf5c7e12",
   "metadata": {
    "ExecuteTime": {
     "end_time": "2025-08-05T15:30:12.541635Z",
     "start_time": "2025-08-05T15:30:12.125695Z"
    },
    "collapsed": false,
    "jupyter": {
     "outputs_hidden": false
    }
   },
   "outputs": [],
   "source": [
    "def objective(x: QArray[QBit]):\n",
    "    return total_travel_cost4vehicles(x) + constraint_each_city_visited_once(x) + constraint_each_position_occupied_by_one_city(x)"
   ]
  },
  {
   "cell_type": "markdown",
   "id": "9d1c641a",
   "metadata": {
    "collapsed": false,
    "jupyter": {
     "outputs_hidden": false
    }
   },
   "source": [
    "## Let's start building the QAOA model\n",
    "#### Define the number of layers"
   ]
  },
  {
   "cell_type": "code",
   "execution_count": null,
   "id": "84a88cc5",
   "metadata": {
    "ExecuteTime": {
     "end_time": "2025-08-05T15:30:12.543201Z",
     "start_time": "2025-08-05T15:30:12.139978Z"
    },
    "collapsed": false,
    "jupyter": {
     "outputs_hidden": false
    }
   },
   "outputs": [],
   "source": [
    "NUM_LAYERS = 12\n",
    "\n",
    "@qfunc\n",
    "def mixer_layer(beta: CReal, qba: QArray[QBit]):\n",
    "    apply_to_all(lambda q: RX(GlobalScalingParameter * beta, q), qba),\n",
    "\n",
    "\n",
    "@qfunc\n",
    "def main(params: CArray[CReal, 2 * NUM_LAYERS], x: Output[QArray[QBit]]) -> None:\n",
    "    allocate((num_locations - 2) * (num_positions - 2) * len(depots), x)\n",
    "    hadamard_transform(x)\n",
    "\n",
    "    for i in range(NUM_LAYERS):\n",
    "        phase(\n",
    "            expr= objective(x),\n",
    "            theta = params[2 * i]\n",
    "        ),\n",
    "        mixer_layer(params[2 * i + 1], x)"
   ]
  },
  {
   "cell_type": "markdown",
   "id": "7ade94ce",
   "metadata": {
    "collapsed": false,
    "jupyter": {
     "outputs_hidden": false
    }
   },
   "source": [
    "## Synthesizing the model"
   ]
  },
  {
   "cell_type": "code",
   "execution_count": null,
   "id": "7a3e5d07",
   "metadata": {
    "ExecuteTime": {
     "end_time": "2025-08-05T15:31:47.723440Z",
     "start_time": "2025-08-05T15:30:12.226742Z"
    },
    "collapsed": false,
    "jupyter": {
     "outputs_hidden": false
    }
   },
   "outputs": [],
   "source": [
    "qprog = synthesize(\n",
    "    model=main\n",
    ")\n",
    "show(qprog)"
   ]
  },
  {
   "cell_type": "markdown",
   "id": "80c01d15",
   "metadata": {
    "collapsed": false,
    "jupyter": {
     "outputs_hidden": false
    }
   },
   "source": [
    "## After we have the QAOA circuit, we can execute it in the hybrid scheme\n",
    "### Defining the `ExecutionSession` for the optimization process\n",
    "### Defining the initial parameters"
   ]
  },
  {
   "cell_type": "code",
   "execution_count": null,
   "id": "02bc1ae2",
   "metadata": {
    "ExecuteTime": {
     "end_time": "2025-08-05T15:31:47.740367Z",
     "start_time": "2025-08-05T15:31:47.729115Z"
    },
    "collapsed": false,
    "jupyter": {
     "outputs_hidden": false
    }
   },
   "outputs": [],
   "source": [
    "NUM_SHOTS = 30000\n",
    "\n",
    "es = ExecutionSession(\n",
    "    qprog, execution_preferences=ExecutionPreferences(num_shots=NUM_SHOTS)\n",
    ")\n",
    "\n",
    "def initial_qaoa_params(NUM_LAYERS) -> np.ndarray:\n",
    "    initial_gammas =  math.pi  * np.linspace(1/(2*NUM_LAYERS), 1 - 1/(2 * NUM_LAYERS), NUM_LAYERS)\n",
    "    initial_betas =  math.pi  * np.linspace(1 - 1/(2*NUM_LAYERS), 1/(2 * NUM_LAYERS), NUM_LAYERS)\n",
    "\n",
    "    initial_params = []\n",
    "\n",
    "    for i in range(NUM_LAYERS):\n",
    "        initial_params.append(initial_gammas[i])\n",
    "        initial_params.append(initial_betas[i])\n",
    "\n",
    "    return np.array(initial_params)\n",
    "\n",
    "initial_params = initial_qaoa_params(NUM_LAYERS)"
   ]
  },
  {
   "cell_type": "markdown",
   "id": "2d6f908a",
   "metadata": {
    "collapsed": false,
    "jupyter": {
     "outputs_hidden": false
    }
   },
   "source": [
    "### Defining the cost function for the execution\n",
    "For each measurement state, the cost function is calculated by the `objective` function of the VRP problem."
   ]
  },
  {
   "cell_type": "code",
   "execution_count": null,
   "id": "d5a5c0f2",
   "metadata": {
    "ExecuteTime": {
     "end_time": "2025-08-05T15:31:47.757928Z",
     "start_time": "2025-08-05T15:31:47.741162Z"
    },
    "collapsed": false,
    "jupyter": {
     "outputs_hidden": false
    }
   },
   "outputs": [],
   "source": [
    "cost_func = lambda state: objective(state[\"x\"])"
   ]
  },
  {
   "cell_type": "markdown",
   "id": "6b224073",
   "metadata": {
    "collapsed": false,
    "jupyter": {
     "outputs_hidden": false
    }
   },
   "source": [
    "### Define the function to estimate the cost function of each iteration\n",
    "This is done by the `estimate_cost` method of the `ExecutionSession` class."
   ]
  },
  {
   "cell_type": "code",
   "execution_count": null,
   "id": "2de1fa1f",
   "metadata": {
    "ExecuteTime": {
     "end_time": "2025-08-05T15:31:47.758292Z",
     "start_time": "2025-08-05T15:31:47.746Z"
    },
    "collapsed": false,
    "jupyter": {
     "outputs_hidden": false
    }
   },
   "outputs": [],
   "source": [
    "# Record the steps of the optimization\n",
    "intermediate_params = []\n",
    "objective_values = []\n",
    "\n",
    "def estimate_cost_func(params):\n",
    "    objective_val = es.estimate_cost(cost_func, {\"params\": params.tolist()})\n",
    "    objective_values.append(objective_val)\n",
    "    return objective_val\n",
    "\n",
    "# Define the callback function to store the intermediate steps\n",
    "def callback(xk):\n",
    "    intermediate_params.append(xk)"
   ]
  },
  {
   "cell_type": "markdown",
   "id": "9f918d0b",
   "metadata": {
    "collapsed": false,
    "jupyter": {
     "outputs_hidden": false
    }
   },
   "source": [
    "### Running the optimization process\n",
    "Using `scipy.optimize.minimize` to minimize the cost function.\n",
    "\n",
    "#### You may increase the `max_iterations` to have more iterations"
   ]
  },
  {
   "cell_type": "code",
   "execution_count": null,
   "id": "ce83336c",
   "metadata": {
    "ExecuteTime": {
     "end_time": "2025-08-05T15:32:11.180348Z",
     "start_time": "2025-08-05T15:31:47.754088Z"
    },
    "collapsed": false,
    "jupyter": {
     "outputs_hidden": false
    }
   },
   "outputs": [],
   "source": [
    "max_iterations = 1\n",
    "\n",
    "optimization_res = minimize(\n",
    "    fun=estimate_cost_func,\n",
    "    x0=initial_params,\n",
    "    method=\"COBYLA\",\n",
    "    callback=callback,\n",
    "    options={\"maxiter\": max_iterations, \"rhobeg\": 0.7},\n",
    ")"
   ]
  },
  {
   "cell_type": "markdown",
   "id": "522ca95c",
   "metadata": {
    "collapsed": false,
    "jupyter": {
     "outputs_hidden": false
    }
   },
   "source": [
    "## Analyzing the results\n",
    "### Make a convergences graph if you have more iterations"
   ]
  },
  {
   "cell_type": "code",
   "execution_count": null,
   "id": "69c72948",
   "metadata": {
    "ExecuteTime": {
     "end_time": "2025-08-05T15:32:11.182596Z",
     "start_time": "2025-08-05T15:32:11.180181Z"
    },
    "collapsed": false,
    "jupyter": {
     "outputs_hidden": false
    }
   },
   "outputs": [],
   "source": [
    "# plt.plot(objective_values)\n",
    "# plt.xlabel(\"Iteration\")\n",
    "# plt.ylabel(\"Objective Value\")\n",
    "# plt.title(\"Optimization Progress\")"
   ]
  },
  {
   "cell_type": "markdown",
   "id": "4ea9a257",
   "metadata": {
    "collapsed": false,
    "jupyter": {
     "outputs_hidden": false
    }
   },
   "source": [
    "### See optimized parameters\n",
    "It is relevant to watch for 4 or more circuit layers."
   ]
  },
  {
   "cell_type": "code",
   "execution_count": null,
   "id": "7ed6c312",
   "metadata": {
    "ExecuteTime": {
     "end_time": "2025-08-05T15:32:11.384266Z",
     "start_time": "2025-08-05T15:32:11.189650Z"
    },
    "collapsed": false,
    "jupyter": {
     "outputs_hidden": false
    }
   },
   "outputs": [],
   "source": [
    "optimized_gammas = optimization_res.x[0::2]\n",
    "optimized_betas = optimization_res.x[1::2]\n",
    "\n",
    "plt.plot(optimized_gammas, label=\"Gammas\", marker='o')\n",
    "plt.plot(optimized_betas, label=\"Betas\", marker='x')\n",
    "plt.legend()"
   ]
  },
  {
   "cell_type": "markdown",
   "id": "de939124",
   "metadata": {
    "collapsed": false,
    "jupyter": {
     "outputs_hidden": false
    }
   },
   "source": [
    "Accumulating the statistic with the final optimized parameters"
   ]
  },
  {
   "cell_type": "code",
   "execution_count": null,
   "id": "da11125a",
   "metadata": {
    "ExecuteTime": {
     "end_time": "2025-08-05T15:32:26.569559Z",
     "start_time": "2025-08-05T15:32:11.333103Z"
    },
    "collapsed": false,
    "jupyter": {
     "outputs_hidden": false
    }
   },
   "outputs": [],
   "source": [
    "res = es.sample({\"params\": optimization_res.x.tolist()})"
   ]
  },
  {
   "cell_type": "code",
   "execution_count": null,
   "id": "4a7be7ae",
   "metadata": {
    "ExecuteTime": {
     "end_time": "2025-08-05T15:33:41.096615Z",
     "start_time": "2025-08-05T15:33:33.498543Z"
    },
    "collapsed": false,
    "jupyter": {
     "outputs_hidden": false
    }
   },
   "outputs": [],
   "source": [
    "sorted_counts = sorted(res.parsed_counts, key=lambda pc: objective(pc.state[\"x\"]))\n",
    "\n",
    "for sampled in sorted_counts[:20]:\n",
    "    x = sampled.state[\"x\"]\n",
    "    if(check_validity(x)):\n",
    "\n",
    "        print(f\"\\033[92msolution={sampled.state['x']} probability={sampled.shots/NUM_SHOTS} cost={objective(sampled.state['x'])}\\033[0m\")\n",
    "    else:\n",
    "        print(f\"\\033[91msolution={sampled.state['x']} probability={sampled.shots/NUM_SHOTS} cost={objective(sampled.state['x'])}\\033[0m\")\n"
   ]
  },
  {
   "cell_type": "markdown",
   "id": "0a0bf11d",
   "metadata": {
    "collapsed": false,
    "jupyter": {
     "outputs_hidden": false
    }
   },
   "source": [
    "### The best solution found"
   ]
  },
  {
   "cell_type": "code",
   "execution_count": null,
   "id": "2d9f5ba1",
   "metadata": {
    "ExecuteTime": {
     "end_time": "2025-08-05T15:32:33.386362Z",
     "start_time": "2025-08-05T15:32:33.383524Z"
    },
    "collapsed": false,
    "jupyter": {
     "outputs_hidden": false
    }
   },
   "outputs": [],
   "source": [
    "sorted_counts[0]"
   ]
  },
  {
   "cell_type": "code",
   "execution_count": null,
   "id": "20b8fd76",
   "metadata": {
    "ExecuteTime": {
     "end_time": "2025-08-05T15:32:33.389228Z",
     "start_time": "2025-08-05T15:32:33.386972Z"
    },
    "collapsed": false,
    "jupyter": {
     "outputs_hidden": false
    }
   },
   "outputs": [],
   "source": [
    "visited_cities_by_vehicle = {}\n",
    "\n",
    "for vehicle in depots:\n",
    "    print(\"Vehicle:\", vehicle)\n",
    "    visited_cities_by_vehicle[vehicle] = []  # Initialize list for this vehicle\n",
    "\n",
    "    for timestep in positions_all:\n",
    "        for city in locations:\n",
    "            if find_the_index_in_array(sorted_counts[0].state[\"x\"], city, timestep, vehicle):\n",
    "                print(f\"Visited in city {city} at timestep {timestep}\")\n",
    "                visited_cities_by_vehicle[vehicle].append(city)"
   ]
  },
  {
   "cell_type": "code",
   "execution_count": null,
   "id": "28628f41",
   "metadata": {
    "ExecuteTime": {
     "end_time": "2025-08-05T15:32:33.483698Z",
     "start_time": "2025-08-05T15:32:33.389899Z"
    },
    "collapsed": false,
    "jupyter": {
     "outputs_hidden": false
    }
   },
   "outputs": [],
   "source": [
    "G = nx.complete_graph(num_locations)\n",
    "\n",
    "color_map = plt.colormaps['tab10']  # or 'tab20', 'Set3', etc.\n",
    "vehicle_colors = {vehicle: color_map(i) for i, vehicle in enumerate(depots)}\n",
    "\n",
    "# Assign each city a color based on the vehicle that visited it\n",
    "city_colors = [None] * num_locations\n",
    "for vehicle, cities in visited_cities_by_vehicle.items():\n",
    "    for city in cities:\n",
    "        city_colors[city] = vehicle_colors[vehicle]\n",
    "\n",
    "# Step 5: Plot the graph\n",
    "nx.draw(\n",
    "    G,\n",
    "    pos,\n",
    "    with_labels=True,\n",
    "    node_size=300,\n",
    "    node_color=city_colors,\n",
    "    edge_color='gray'\n",
    ")\n",
    "plt.title(\"Cities Colored by the visited vehicle\")"
   ]
  },
  {
   "cell_type": "code",
   "execution_count": null,
   "id": "d503abfc",
   "metadata": {
    "ExecuteTime": {
     "end_time": "2025-08-05T15:32:33.484010Z",
     "start_time": "2025-08-05T15:32:33.464124Z"
    },
    "collapsed": false,
    "jupyter": {
     "outputs_hidden": false
    }
   },
   "outputs": [],
   "source": []
  },
  {
   "cell_type": "code",
   "execution_count": null,
   "id": "b13a4d30",
   "metadata": {
    "ExecuteTime": {
     "end_time": "2025-08-05T15:32:33.484111Z",
     "start_time": "2025-08-05T15:32:33.476699Z"
    },
    "collapsed": false,
    "jupyter": {
     "outputs_hidden": false
    }
   },
   "outputs": [],
   "source": []
  }
 ],
 "metadata": {
  "kernelspec": {
   "display_name": "Python 3 (ipykernel)",
   "language": "python",
   "name": "python3"
  },
  "language_info": {
   "codemirror_mode": {
    "name": "ipython",
    "version": 3
   },
   "file_extension": ".py",
   "mimetype": "text/x-python",
   "name": "python",
   "nbconvert_exporter": "python",
   "pygments_lexer": "ipython3",
   "version": "3.11.4"
  }
 },
 "nbformat": 4,
 "nbformat_minor": 5
}
