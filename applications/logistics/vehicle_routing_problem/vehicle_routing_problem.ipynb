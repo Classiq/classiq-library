{
 "cells": [
  {
   "cell_type": "markdown",
   "id": "86d968ec",
   "metadata": {
    "collapsed": false
   },
   "source": [
    "# Vehicle Routing Problem (VRP)"
   ]
  },
  {
   "cell_type": "markdown",
   "id": "8157a732",
   "metadata": {
    "collapsed": false
   },
   "source": [
    "The Vehicle Routing Problem (VRP) is a combinatorial optimization problem that aims to determine the optimal routes for a fleet of vehicles to deliver goods to a set of locations while minimizing the total distance traveled or cost incurred. The problem is NP-hard, meaning that finding an exact solution is computationally infeasible for large instances, and heuristic or approximation algorithms are often used to find near-optimal solutions.\n",
    "\n",
    "The tutorial showcases how to solve the problem using the Quantum Approximate Optimization Algorithm (QAOA).\n",
    "\n",
    "In the problem, each vehicle start from a different depot, visits a set of cities, and returns to its depot. The goal is to minimize the total travel cost while ensuring that each city is visited exactly once by one vehicle."
   ]
  },
  {
   "cell_type": "markdown",
   "id": "8a8ed215-eed4-4f49-a017-7613cbaf6d30",
   "metadata": {},
   "source": [
    "## Mathematical formulation\n",
    "\n",
    "We are given:\n",
    "\n",
    "- A set of locations:\n",
    "    $L = {0, 1, \\dots, n-1}$<br>\n",
    "    Where the first $m$ locations are depots:<br>\n",
    "    $D = {0, 1, \\dots, m-1}$<br>\n",
    "    The remaining $n - m$ are cities:<br>\n",
    "    $C = {m, m+1, \\dots, n-1}$\n",
    "- Each vehicle $k \\in D$:<br>\n",
    "    - Starts and ends its route at its own depot $k$.\n",
    "    - Visits a sequence of cities.\n",
    "    - Returns to its depot.\n",
    "- Each city must be visited exactly once by one vehicle only.\n",
    "- Each vehicle route has $P = p + 2$ positions (start + $p$ inner positions + end). You can think about the positions as timesteps. We call the variable `positions` because driving between cities does not take the same amount of time."
   ]
  },
  {
   "cell_type": "markdown",
   "id": "0fedd6e5-7338-4d51-b7b0-7d24aef2dd1b",
   "metadata": {},
   "source": [
    "### Decision Variables\n",
    "Let $x_{u,v}^k \\in \\{0,1\\}$ be a binary variable defined as:\n",
    "\n",
    "$$\n",
    "x_{u,v}^k =\n",
    "\\begin{cases}\n",
    "1 & \\text{if vehicle } k \\text{ visits location } u \\text{ at position } v \\\\\n",
    "0 & \\text{otherwise}\n",
    "\\end{cases}\n",
    "$$\n",
    "\n",
    "where:<br>\n",
    "$u \\in L$ (location: city or depot)<br>\n",
    "$v \\in {0, 1, \\dots, P - 1}$<br>\n",
    "$k \\in D$ (vehicle/depot index)"
   ]
  },
  {
   "cell_type": "markdown",
   "id": "184ca2fa-5777-4243-b7aa-1f6512e2529d",
   "metadata": {},
   "source": [
    "### Constraints:\n",
    "1. Each city is visited exactly once:\n",
    "$$\n",
    "\\sum_{k\\in D}\\sum_{v=1}^{P-2} x_{u,v}^k = 1 \\,\\,\\,\\,\\forall u\\in C\n",
    "$$\n",
    "Each city appears in exactly one vehicle's route, and not at start or end positions.<br>\n",
    "2. Each car visit exactly 1 city in every position:\n",
    "$$\n",
    "\\sum_{u\\in C} x_{u,v}^k = 1 \\,\\,\\,\\,\\forall v\\in \\{1,\\dots,P-2\\},\\,\\,\\forall k\\in D\n",
    "$$\n",
    "\n",
    "    Each vehicle has exactly one location assigned to each inner route position.<br>\n",
    "3. Depot start and end positions are fixed:\n",
    "$$\n",
    "x_{k,0}^k = x_{k,P-1}^k = 1 \\,\\,\\,\\, \\forall k\\in D\n",
    "$$\n",
    "$$\n",
    "x_{u,0}^k = x_{u,P-1}^k = 0 \\,\\,\\,\\, for \\,\\,\\, u\\neq k\n",
    "$$\n",
    "Each vehicle starts and ends at its own depot only.\n",
    "\n",
    "4. No city at start or end:\n",
    "$$\n",
    "x_{u,0}^k = x_{u,P-1}^k = 1 \\,\\,\\,\\, \\forall u\\in C \\,\\,\\,\\, \\forall k\\in D\n",
    "$$\n",
    "    **For constraints (3) and (4), we do not use qubits in the QAOA circuit, because they are pre-determined.** \n"
   ]
  },
  {
   "cell_type": "markdown",
   "id": "92db8cce-7617-4b3f-95f0-50a9ec4bf62e",
   "metadata": {},
   "source": [
    "### Objective function\n",
    "\n",
    "We aim to minimize total travel cost, defined as:\n",
    "\n",
    "$$\n",
    "\\min_x \\quad \\sum_{k \\in D} \\sum_{v = 0}^{P - 2} \\sum_{u \\in L} \\sum_{w \\in L} \\text{dist}(u, w) \\cdot x_{u,v}^k \\cdot x_{w,v+1}^k\n",
    "$$\n",
    "\n",
    "Where:\n",
    "- $\\text{dist}(u, w)$ is the Euclidean distance between location $u$ and $w$.\n",
    "- The sum computes all transitions $(u \\rightarrow w)$ for each vehicle between consecutive positions."
   ]
  },
  {
   "cell_type": "markdown",
   "id": "d5814996-2a21-4513-9159-775ddf2e4f8f",
   "metadata": {},
   "source": [
    "### The constraint functions\n",
    "\n",
    "All cities visited only once:\n",
    "\n",
    "$$\n",
    "\\sum_{u \\in C} \\left( \\sum_{k \\in D} \\sum_{v=0}^{P-2} x_{u,v}^k -1 \\right)^2=0\n",
    "$$\n",
    "\n",
    "All positions are occupied only once:\n",
    "\n",
    "$$\n",
    "\\sum_{k \\in D} \\sum_{v=1}^{P-2} \\left(\\sum_{u \\in C} x_{u,v}^k -1 \\right)^2=0\n",
    "$$\n",
    "\n",
    "**These are added as penalty terms and multiplied by a scaling factor later in the notebook at the `cost` function. We ensure they will are actually equal to zero by adding them as penlty terms.**"
   ]
  },
  {
   "cell_type": "markdown",
   "id": "9415dcb5",
   "metadata": {
    "collapsed": false
   },
   "source": [
    "## Generating problem data"
   ]
  },
  {
   "cell_type": "code",
   "execution_count": 119,
   "id": "7aaecf5f",
   "metadata": {
    "ExecuteTime": {
     "end_time": "2025-08-05T15:30:12.480901Z",
     "start_time": "2025-08-05T15:30:11.869651Z"
    },
    "collapsed": false
   },
   "outputs": [],
   "source": [
    "import itertools\n",
    "import math\n",
    "from typing import Iterable\n",
    "\n",
    "import matplotlib.pyplot as plt\n",
    "import networkx as nx\n",
    "import numpy as np\n",
    "from scipy.optimize import minimize\n",
    "\n",
    "from classiq import *\n",
    "\n",
    "locations = list(range(6))\n",
    "\n",
    "# one depot per car\n",
    "depots = list(range(2))\n",
    "\n",
    "# 4 cities to visit in total\n",
    "cities = list(range(2, 6))\n",
    "\n",
    "num_vehicles = len(depots)\n",
    "num_cities = len(cities)\n",
    "num_locations = len(locations)"
   ]
  },
  {
   "cell_type": "markdown",
   "id": "6c314be3",
   "metadata": {
    "collapsed": false
   },
   "source": [
    "### Definition of positions\n",
    "Assuming the cities are evenly divided among vehicles (more or less), we will use `possible_number_of_cities_per_vehicle`."
   ]
  },
  {
   "cell_type": "code",
   "execution_count": 120,
   "id": "528f45ef",
   "metadata": {
    "ExecuteTime": {
     "end_time": "2025-08-05T15:30:12.488008Z",
     "start_time": "2025-08-05T15:30:11.882201Z"
    },
    "collapsed": false
   },
   "outputs": [],
   "source": [
    "possible_number_of_cities_per_vehicle = len(cities) // num_vehicles"
   ]
  },
  {
   "cell_type": "markdown",
   "id": "c2273a2f",
   "metadata": {
    "collapsed": false
   },
   "source": [
    "The total number of positions `num_positions` (or time slots) in a car route. We add $2$ for the start (depot) and end (return to depot) positions."
   ]
  },
  {
   "cell_type": "code",
   "execution_count": 121,
   "id": "bb1adf42",
   "metadata": {
    "ExecuteTime": {
     "end_time": "2025-08-05T15:30:12.489672Z",
     "start_time": "2025-08-05T15:30:11.895925Z"
    },
    "collapsed": false
   },
   "outputs": [],
   "source": [
    "num_positions = possible_number_of_cities_per_vehicle + 2"
   ]
  },
  {
   "cell_type": "markdown",
   "id": "1df0ae27",
   "metadata": {
    "collapsed": false
   },
   "source": [
    "All valid routes (time slots) positions that a vehicle can take:\n",
    "- Starting depot $\\rightarrow 0$\n",
    "- Visiting cities $\\rightarrow 1,2, \\ldots,$ `num_positions-1`\n",
    "- Ending depot $\\rightarrow$ `num_positions`"
   ]
  },
  {
   "cell_type": "code",
   "execution_count": 122,
   "id": "7e90dd0a",
   "metadata": {
    "ExecuteTime": {
     "end_time": "2025-08-05T15:30:12.492656Z",
     "start_time": "2025-08-05T15:30:11.908650Z"
    },
    "collapsed": false
   },
   "outputs": [],
   "source": [
    "positions_all = list(range(num_positions))"
   ]
  },
  {
   "cell_type": "code",
   "execution_count": 123,
   "id": "a5f26fb5",
   "metadata": {
    "ExecuteTime": {
     "end_time": "2025-08-05T15:30:12.492770Z",
     "start_time": "2025-08-05T15:30:11.911185Z"
    },
    "collapsed": false
   },
   "outputs": [
    {
     "name": "stdout",
     "output_type": "stream",
     "text": [
      "[0, 1, 2, 3]\n"
     ]
    }
   ],
   "source": [
    "print(positions_all)"
   ]
  },
  {
   "cell_type": "markdown",
   "id": "9a2bf7f7",
   "metadata": {
    "collapsed": false
   },
   "source": [
    "The inner positions are the positions that can be occupied by cities, excluding the start and end depots."
   ]
  },
  {
   "cell_type": "code",
   "execution_count": 124,
   "id": "8ffe62ac",
   "metadata": {
    "ExecuteTime": {
     "end_time": "2025-08-05T15:30:12.494254Z",
     "start_time": "2025-08-05T15:30:11.921800Z"
    },
    "collapsed": false
   },
   "outputs": [
    {
     "name": "stdout",
     "output_type": "stream",
     "text": [
      "[1, 2]\n"
     ]
    }
   ],
   "source": [
    "inner_positions = list(range(1, num_positions - 1))\n",
    "\n",
    "print(inner_positions)"
   ]
  },
  {
   "cell_type": "markdown",
   "id": "a5a96058",
   "metadata": {
    "collapsed": false
   },
   "source": [
    "### Setting locations of cities\n",
    "\n",
    "Setting random locations in a square of size `(0, max_x_y)`$\\times$`(0, max_x_y)`.\n",
    "To have the same result, we set the random seed. To have different results, change/delete the seed."
   ]
  },
  {
   "cell_type": "code",
   "execution_count": 125,
   "id": "59fac755",
   "metadata": {
    "ExecuteTime": {
     "end_time": "2025-08-05T15:30:12.519705Z",
     "start_time": "2025-08-05T15:30:12.005181Z"
    },
    "collapsed": false
   },
   "outputs": [],
   "source": [
    "np.random.seed(10)\n",
    "\n",
    "max_x_y = 10\n",
    "x_y_locations = np.random.rand(num_locations, 2) * max_x_y"
   ]
  },
  {
   "cell_type": "code",
   "execution_count": 126,
   "id": "2818d790",
   "metadata": {
    "ExecuteTime": {
     "end_time": "2025-08-05T15:30:12.531957Z",
     "start_time": "2025-08-05T15:30:12.011762Z"
    },
    "collapsed": false
   },
   "outputs": [
    {
     "data": {
      "text/plain": [
       "Text(0.5, 1.0, 'Graph of the Cities on the XY Plane')"
      ]
     },
     "execution_count": 126,
     "metadata": {},
     "output_type": "execute_result"
    },
    {
     "data": {
      "image/png": "[encoded data removed]",
      "text/plain": [
       "<Figure size 640x480 with 1 Axes>"
      ]
     },
     "metadata": {},
     "output_type": "display_data"
    }
   ],
   "source": [
    "# Create a complete graph\n",
    "G = nx.complete_graph(num_locations)\n",
    "\n",
    "# Map node positions to the generated x_y coordinates\n",
    "pos = {i: (x_y_locations[i][0], x_y_locations[i][1]) for i in range(num_locations)}\n",
    "\n",
    "# Plot\n",
    "nx.draw(\n",
    "    G, pos, with_labels=True, node_size=300, node_color=\"lightgreen\", edge_color=\"gray\"\n",
    ")\n",
    "plt.title(\"Graph of the Cities on the XY Plane\")"
   ]
  },
  {
   "cell_type": "code",
   "execution_count": 127,
   "id": "7b0536cd",
   "metadata": {
    "ExecuteTime": {
     "end_time": "2025-08-05T15:30:12.536002Z",
     "start_time": "2025-08-05T15:30:12.088961Z"
    },
    "collapsed": false
   },
   "outputs": [],
   "source": [
    "def find_xy_distances_from_locations(x_y_locations: np.ndarray):\n",
    "    city_distance_matrix = np.zeros((num_locations, num_locations))\n",
    "    for i in range(num_locations):\n",
    "        for j in range(num_locations):\n",
    "            distance = math.sqrt(\n",
    "                (x_y_locations[i][0] - x_y_locations[j][0]) ** 2\n",
    "                + (x_y_locations[i][1] - x_y_locations[j][1]) ** 2\n",
    "            )\n",
    "            city_distance_matrix[i][j] = distance\n",
    "    return city_distance_matrix\n",
    "\n",
    "\n",
    "def calculate_distances_between_cities(x_y_locations: np.ndarray):\n",
    "    city_distance_matrix = find_xy_distances_from_locations(x_y_locations)\n",
    "    max_distance = np.max(city_distance_matrix)\n",
    "    min_distance = np.min(\n",
    "        city_distance_matrix[city_distance_matrix > 0]\n",
    "    )  # Exclude self-distances\n",
    "    return city_distance_matrix, max_distance, min_distance\n",
    "\n",
    "\n",
    "city_distance_matrix, max_distance, min_distance = calculate_distances_between_cities(\n",
    "    x_y_locations\n",
    ")"
   ]
  },
  {
   "cell_type": "code",
   "execution_count": 128,
   "id": "d4291c33",
   "metadata": {
    "ExecuteTime": {
     "end_time": "2025-08-05T15:30:12.536211Z",
     "start_time": "2025-08-05T15:30:12.091786Z"
    },
    "collapsed": false
   },
   "outputs": [
    {
     "name": "stdout",
     "output_type": "stream",
     "text": [
      "[[ 0.          7.40954323  3.40678023  9.35893743  6.05990735  9.3659449 ]\n",
      " [ 7.40954323  0.          5.41153153  4.35743196  8.07469987  2.11023545]\n",
      " [ 3.40678023  5.41153153  0.          6.14229335  3.56542154  7.52174929]\n",
      " [ 9.35893743  4.35743196  6.14229335  0.          6.72814108  5.24074724]\n",
      " [ 6.05990735  8.07469987  3.56542154  6.72814108  0.         10.07388021]\n",
      " [ 9.3659449   2.11023545  7.52174929  5.24074724 10.07388021  0.        ]]\n"
     ]
    }
   ],
   "source": [
    "print(city_distance_matrix)"
   ]
  },
  {
   "cell_type": "markdown",
   "id": "e17e96de",
   "metadata": {
    "collapsed": false
   },
   "source": [
    "The maximal cost of any candidate is `num_locations`$\\times$ `max_distance`.\n",
    "The minimal cost of any candidate is `num_locations`$\\times$ `min_distance`.\n",
    "Hence, the maximal difference of eigenvalues of the total cost Hamiltonian is:"
   ]
  },
  {
   "cell_type": "code",
   "execution_count": 129,
   "id": "0ee34c90",
   "metadata": {
    "ExecuteTime": {
     "end_time": "2025-08-05T15:30:12.538231Z",
     "start_time": "2025-08-05T15:30:12.095767Z"
    },
    "collapsed": false
   },
   "outputs": [],
   "source": [
    "DISTANCE_NORMALISATION = num_locations * (max_distance - min_distance)"
   ]
  },
  {
   "cell_type": "markdown",
   "id": "3ed44d24",
   "metadata": {
    "collapsed": false
   },
   "source": [
    "In order to set the maximal difference of eigenvalues of the total cost Hamiltonian to 1, we must scale the distances by `DISTANCE_NORMALISATION`:"
   ]
  },
  {
   "cell_type": "code",
   "execution_count": 130,
   "id": "a2d367d1",
   "metadata": {
    "ExecuteTime": {
     "end_time": "2025-08-05T15:30:12.538305Z",
     "start_time": "2025-08-05T15:30:12.098216Z"
    },
    "collapsed": false
   },
   "outputs": [],
   "source": [
    "city_distance_matrix = city_distance_matrix / DISTANCE_NORMALISATION"
   ]
  },
  {
   "cell_type": "code",
   "execution_count": 131,
   "id": "159351a0",
   "metadata": {
    "ExecuteTime": {
     "end_time": "2025-08-05T15:30:12.538376Z",
     "start_time": "2025-08-05T15:30:12.100843Z"
    },
    "collapsed": false
   },
   "outputs": [
    {
     "name": "stdout",
     "output_type": "stream",
     "text": [
      "[[0.         0.15507019 0.0712986  0.19586797 0.12682441 0.19601462]\n",
      " [0.15507019 0.         0.11325492 0.09119426 0.16899088 0.04416394]\n",
      " [0.0712986  0.11325492 0.         0.12854862 0.07461871 0.15741848]\n",
      " [0.19586797 0.09119426 0.12854862 0.         0.1408095  0.10968067]\n",
      " [0.12682441 0.16899088 0.07461871 0.1408095  0.         0.2108306 ]\n",
      " [0.19601462 0.04416394 0.15741848 0.10968067 0.2108306  0.        ]]\n"
     ]
    }
   ],
   "source": [
    "print(city_distance_matrix)"
   ]
  },
  {
   "cell_type": "markdown",
   "id": "ef378b4a-0d56-4003-8c7f-1240c4180b5d",
   "metadata": {},
   "source": [
    "## Normalising the cost and mixer Hamiltonians.\n",
    "**This normalisation improve the probability to find good solutions.**\n",
    "**If it is too much information, ignore it for now, and go to \"VRP objective function definition\" to focus on the VRP problem itself.**\n",
    "\n",
    "The mixer Hamiltonian is effectively $X/2$ and has eigenvalues $-0.5$ and $+0.5$. So the difference between minimum and maximum eigenvalues is exactly 1.\n",
    "This can be rescaled by a global scaling parameter."
   ]
  },
  {
   "cell_type": "code",
   "execution_count": 132,
   "id": "e1765cbc-a740-4fb0-a032-b37862909cfc",
   "metadata": {},
   "outputs": [],
   "source": [
    "GLOBAL_SCALING_PARAMETER = 0.1"
   ]
  },
  {
   "cell_type": "markdown",
   "id": "419a9bab-a8d9-4588-8923-c6efc26ef9d6",
   "metadata": {},
   "source": [
    "The cost Hamiltonian should be similar in eigenvalue difference to the mixer Hamiltonian and should be normalised to about 1.\n",
    "This will be taken care off later by the distance normalisation.\n",
    "\n",
    "To find the exact normalisation requires solving this NP hard problem, so we always use approximation. Since this is approximate, there is a relative scaling parameter we can tweak."
   ]
  },
  {
   "cell_type": "code",
   "execution_count": 133,
   "id": "ee451069-b80a-46aa-803f-cf212b2cd0aa",
   "metadata": {},
   "outputs": [],
   "source": [
    "RELATIVE_OBJECTIVE_NORMALISATION = 1.5"
   ]
  },
  {
   "cell_type": "markdown",
   "id": "2d5c3788-c039-43ff-bed6-24de1b4372f9",
   "metadata": {},
   "source": [
    "The overall normalization of the total cost is thus:"
   ]
  },
  {
   "cell_type": "code",
   "execution_count": 134,
   "id": "90233f83-2972-4f4c-8ba9-2ba96f7d10ac",
   "metadata": {},
   "outputs": [
    {
     "name": "stdout",
     "output_type": "stream",
     "text": [
      "0.15000000000000002\n"
     ]
    }
   ],
   "source": [
    "ABSOLUTE_OBJECTIVE_NORMALISATION = (\n",
    "    GLOBAL_SCALING_PARAMETER * RELATIVE_OBJECTIVE_NORMALISATION\n",
    ")\n",
    "print(ABSOLUTE_OBJECTIVE_NORMALISATION)"
   ]
  },
  {
   "cell_type": "markdown",
   "id": "f248eb5e-7037-4047-851c-71bf643b378c",
   "metadata": {},
   "source": [
    "The constraint Hamiltonian has the property that a minimal constraint violation is 1 and no constraint violation is 0.\n",
    "We wish to normalise the constraint Hamiltonian relative to the total cost Hamiltonian such that the constraint violation will be 1~2 x larger than the maximal difference between total cost values."
   ]
  },
  {
   "cell_type": "code",
   "execution_count": 135,
   "id": "9afa3d95-a450-4529-bead-2fb0fb872662",
   "metadata": {},
   "outputs": [],
   "source": [
    "RELATIVE_CONSTRAINT_NORMALISATION = 6"
   ]
  },
  {
   "cell_type": "markdown",
   "id": "21ebfec4-dc8c-4fda-b259-1fb291959727",
   "metadata": {},
   "source": [
    "The overall normalisation of the constraint Hamiltonian is similarly:"
   ]
  },
  {
   "cell_type": "code",
   "execution_count": 136,
   "id": "b048f835-6abb-4f95-9a55-2ff0020fc722",
   "metadata": {},
   "outputs": [
    {
     "name": "stdout",
     "output_type": "stream",
     "text": [
      "0.9000000000000001\n"
     ]
    }
   ],
   "source": [
    "ABSOLUTE_CONSTRAINT_NORMALISATION = (\n",
    "    RELATIVE_CONSTRAINT_NORMALISATION * ABSOLUTE_OBJECTIVE_NORMALISATION\n",
    ")\n",
    "\n",
    "print(ABSOLUTE_CONSTRAINT_NORMALISATION)"
   ]
  },
  {
   "cell_type": "markdown",
   "id": "6e44e226-5b6b-4404-8402-1b7f2228445a",
   "metadata": {},
   "source": [
    "The normalisation coefficients are hyperparamaters that can be tuned to improve the performance of the QAOA algorithm.\n",
    "Let us summarize how the normalisation coefficients together with the cost and mixer Hamiltonians:\n",
    "$$\n",
    "H = C_{gsp} \\cdot \\left(\\beta\\cdot H_{mixer} + \\gamma \\cdot C_{ron} \\left(H_{objective} + C_{rcn}\\cdot H_{constraints}\\right)\\right)\n",
    "$$\n",
    "\n",
    "Where $\\beta$ and $\\gamma$ are the QAOA's variational parameters. $C_{gsp}$ is the global scaling parameter, $C_{ron}$ is the relative objective normalisation, and $C_{rcn}$ is the relative constraint normalisation coefficients. In this method, we normalise both the entire Hamiltonian and each individual term—including the constraints Hamiltonian, to ensure the solution satisfies the constraints, and the objective Hamiltonian, to increase the probability of finding the optimal objective value."
   ]
  },
  {
   "cell_type": "markdown",
   "id": "f4eb654b",
   "metadata": {
    "collapsed": false
   },
   "source": [
    "## VRP objective function definition\n",
    "First, define number of functions that compose the objective function.\n",
    "\n",
    "A major difficulty is to map 3D (city, position, vehicle) to 1D index in the array of decision variables."
   ]
  },
  {
   "cell_type": "markdown",
   "id": "897e5b98",
   "metadata": {
    "collapsed": false
   },
   "source": [
    "##### Find the right index in array\n",
    "Access the value of the binary decision variable x that encodes whether city (or depot) u is visited at position v by vehicle k.\n",
    "`u`- city\n",
    "`v` - position (time slot)\n",
    "`x` is the array of decision variables\n",
    "`k` is the vehicle number"
   ]
  },
  {
   "cell_type": "code",
   "execution_count": 137,
   "id": "909567f7",
   "metadata": {
    "ExecuteTime": {
     "end_time": "2025-08-05T15:30:12.538410Z",
     "start_time": "2025-08-05T15:30:12.105033Z"
    },
    "collapsed": false
   },
   "outputs": [],
   "source": [
    "def visit_indicator(\n",
    "    x: QArray[QBit] | Iterable[int],  # array of decision variables\n",
    "    u: int,  # city\n",
    "    v: int,  # position\n",
    "    k: int,  # vehicle number\n",
    ") -> int | QBit:\n",
    "    if u in depots or (v == 0 or v == num_positions - 1):\n",
    "        # Case 1: If `u` is a depot\n",
    "        if u in depots:\n",
    "            if k == u:\n",
    "                # Depots are only valid at start or end positions\n",
    "                if v == 0 or v == num_positions - 1:\n",
    "                    # Vehicle `k` starts or ends at its depot `u`\n",
    "                    return 1\n",
    "                else:\n",
    "                    return 0\n",
    "            else:\n",
    "                return 0\n",
    "        # Case 2: `u` is not a depot but the position is a depot-only position\n",
    "        # Cities are not allowed at start or end of a route\n",
    "        else:\n",
    "            return 0\n",
    "    # Handle city logic (when `u` is a city and `v` is an inner position)\n",
    "    else:\n",
    "        # We map 3D (city, position, vehicle) to 1D index\n",
    "        city_index = u - num_vehicles\n",
    "        pos_index = v - 1\n",
    "        flat_index = (\n",
    "            city_index * possible_number_of_cities_per_vehicle * num_vehicles\n",
    "            + pos_index * num_vehicles\n",
    "            + k\n",
    "        )\n",
    "        return x[flat_index]"
   ]
  },
  {
   "cell_type": "markdown",
   "id": "8ba54db8",
   "metadata": {
    "collapsed": false
   },
   "source": [
    "Making sure we satisfy the following constraints:\n",
    "1. Each city is assigned to exactly one vehicle and one route position.\n",
    "2. Each inner position of a route (per vehicle) is filled by exactly one city."
   ]
  },
  {
   "cell_type": "code",
   "execution_count": 138,
   "id": "cae3d024",
   "metadata": {
    "ExecuteTime": {
     "end_time": "2025-08-05T15:30:12.539943Z",
     "start_time": "2025-08-05T15:30:12.108685Z"
    },
    "collapsed": false
   },
   "outputs": [],
   "source": [
    "def check_validity(x: QArray[QBit]):\n",
    "    \"\"\"\n",
    "    verifies that the assignment array `x` satisfies basic constraints.\n",
    "    Checks if each city is visited exactly once and by one vehicle.\n",
    "    \"\"\"\n",
    "    # Check that each city is visited exactly once\n",
    "    for city_index in range(num_cities):\n",
    "        assignment_sum = 0\n",
    "\n",
    "        for position in range(\n",
    "            possible_number_of_cities_per_vehicle\n",
    "        ):  # inner positions only\n",
    "            for vehicle_id in range(num_vehicles):\n",
    "                # Shift city index by num_vehicles to access location ID (since cities start after depots)\n",
    "                assignment_sum += visit_indicator(\n",
    "                    x=x, u=city_index + num_vehicles, v=position + 1, k=vehicle_id\n",
    "                )\n",
    "\n",
    "        # A city must appear exactly once across all vehicles and positions\n",
    "        if assignment_sum != 1:\n",
    "            return False\n",
    "\n",
    "    # Each position is used exactly once per vehicle\n",
    "    for position in range(possible_number_of_cities_per_vehicle):  # inner positions\n",
    "        for vehicle_id in range(num_vehicles):\n",
    "            assignment_sum = 0\n",
    "\n",
    "            for city_index in range(num_cities):\n",
    "                assignment_sum += visit_indicator(\n",
    "                    x=x, u=city_index + num_vehicles, v=position + 1, k=vehicle_id\n",
    "                )\n",
    "\n",
    "            # Each position must be occupied by exactly one city\n",
    "            if assignment_sum != 1:\n",
    "                return False\n",
    "\n",
    "    return True"
   ]
  },
  {
   "cell_type": "markdown",
   "id": "a9c70763",
   "metadata": {
    "collapsed": false
   },
   "source": [
    "### Total travel cost for all vehicle routes"
   ]
  },
  {
   "cell_type": "code",
   "execution_count": 139,
   "id": "ede2f5f4",
   "metadata": {
    "ExecuteTime": {
     "end_time": "2025-08-05T15:30:12.539997Z",
     "start_time": "2025-08-05T15:30:12.111331Z"
    },
    "collapsed": false
   },
   "outputs": [],
   "source": [
    "def travel_objective_function(x: QArray[QBit]):\n",
    "    \"\"\"\n",
    "    Computes the total travel cost for all vehicle routes defined by the assignment array `x`.\n",
    "\n",
    "    The cost is calculated as the sum of the distances between every pair of consecutive locations\n",
    "    visited by the same vehicle, across all route positions.\n",
    "    \"\"\"\n",
    "    total_travel_cost = 0\n",
    "\n",
    "    # Loop through each position in the route except the last (we look ahead to position + 1)\n",
    "    for position in range(num_positions - 1):\n",
    "\n",
    "        # Consider every pair of locations\n",
    "        for to_location in locations:\n",
    "            for from_location in locations:\n",
    "                # For each vehicle (indexed by its depot ID)\n",
    "                for vehicle_id in depots:\n",
    "\n",
    "                    # Add cost only if both transitions are selected in the route\n",
    "                    total_travel_cost += (\n",
    "                        city_distance_matrix[from_location][to_location]\n",
    "                        * visit_indicator(x, from_location, position, vehicle_id)\n",
    "                        * visit_indicator(x, to_location, position + 1, vehicle_id)\n",
    "                    )\n",
    "\n",
    "    return total_travel_cost"
   ]
  },
  {
   "cell_type": "markdown",
   "id": "78ba9f47",
   "metadata": {
    "collapsed": false
   },
   "source": [
    "### Definition of the constraints"
   ]
  },
  {
   "cell_type": "code",
   "execution_count": 140,
   "id": "670c2d0f",
   "metadata": {
    "ExecuteTime": {
     "end_time": "2025-08-05T15:30:12.540034Z",
     "start_time": "2025-08-05T15:30:12.115852Z"
    },
    "collapsed": false
   },
   "outputs": [],
   "source": [
    "def constraint_each_city_visited_once(x: QArray[QBit]):\n",
    "    \"\"\"\n",
    "    Soft constraint: Ensures that each city is visited exactly once by applying a penalty\n",
    "    for any deviation from that condition.\n",
    "\n",
    "    For each city, it checks how many times the city appears across all vehicle routes and\n",
    "    inner positions. If the count is not exactly one, a quadratic penalty term is applied.\n",
    "    \"\"\"\n",
    "    total_deviations = 0\n",
    "\n",
    "    # Loop over each city (cities are defined separately from depots)\n",
    "    for city_id in cities:\n",
    "        city_assignment_count = 0\n",
    "\n",
    "        # Sum appearances of this city across all vehicles and inner positions\n",
    "        for vehicle_id in depots:\n",
    "            for position in inner_positions:\n",
    "                city_assignment_count += visit_indicator(\n",
    "                    x=x, u=city_id, v=position, k=vehicle_id\n",
    "                )\n",
    "\n",
    "        # Ideal count is 1: each city should be visited exactly once\n",
    "        deviation_from_expected = city_assignment_count - 1\n",
    "\n",
    "        # Apply a quadratic penalty for deviation (0 if exactly one visit)\n",
    "        # Power of two ignores the sign\n",
    "        penalty_term = deviation_from_expected**2\n",
    "\n",
    "        total_deviations += penalty_term\n",
    "\n",
    "    return total_deviations\n",
    "\n",
    "\n",
    "def constraint_each_position_occupied_by_one_city(x: QArray[QBit]):\n",
    "    \"\"\"\n",
    "    Soft constraint: Ensures that each inner position in each vehicle's route is occupied\n",
    "    by exactly one location (either a city or a depot).\n",
    "\n",
    "    For each vehicle and each inner route position, the function counts how many locations\n",
    "    are assigned to that slot. If the count is not exactly one, a quadratic penalty\n",
    "    term is applied from the expected value.\n",
    "    \"\"\"\n",
    "    total_deviations = 0\n",
    "\n",
    "    # Loop through each inner position (excluding start and end depot slots)\n",
    "    for position in inner_positions:\n",
    "\n",
    "        # Check each vehicle's route at this position\n",
    "        for vehicle_id in depots:\n",
    "            position_occupancy_count = 0\n",
    "\n",
    "            # Sum over all possible locations (cities + depots) at this position\n",
    "            for location_id in locations:\n",
    "                position_occupancy_count += visit_indicator(\n",
    "                    x=x, u=location_id, v=position, k=vehicle_id\n",
    "                )\n",
    "\n",
    "            # Each position must be occupied by exactly one location\n",
    "            deviation_from_expected = position_occupancy_count - 1\n",
    "\n",
    "            # Apply a penalty for under/over-assignments\n",
    "            penalty_term = deviation_from_expected**2\n",
    "            total_deviations += penalty_term\n",
    "\n",
    "    return total_deviations"
   ]
  },
  {
   "cell_type": "markdown",
   "id": "46ab2932",
   "metadata": {
    "collapsed": false
   },
   "source": [
    "##### Total cost function for the VRP is the sum of the total travel cost and the constraints."
   ]
  },
  {
   "cell_type": "code",
   "execution_count": 141,
   "id": "cf5c7e12",
   "metadata": {
    "ExecuteTime": {
     "end_time": "2025-08-05T15:30:12.541635Z",
     "start_time": "2025-08-05T15:30:12.125695Z"
    },
    "collapsed": false
   },
   "outputs": [],
   "source": [
    "def cost(x: QArray[QBit]):\n",
    "    return ABSOLUTE_OBJECTIVE_NORMALISATION * travel_objective_function(\n",
    "        x\n",
    "    ) + ABSOLUTE_CONSTRAINT_NORMALISATION * (\n",
    "        constraint_each_city_visited_once(x)\n",
    "        + constraint_each_position_occupied_by_one_city(x)\n",
    "    )"
   ]
  },
  {
   "cell_type": "markdown",
   "id": "9d1c641a",
   "metadata": {
    "collapsed": false
   },
   "source": [
    "## Building the QAOA model\n",
    "**Define the number of layers**"
   ]
  },
  {
   "cell_type": "code",
   "execution_count": 142,
   "id": "84a88cc5",
   "metadata": {
    "ExecuteTime": {
     "end_time": "2025-08-05T15:30:12.543201Z",
     "start_time": "2025-08-05T15:30:12.139978Z"
    },
    "collapsed": false
   },
   "outputs": [],
   "source": [
    "NUM_LAYERS = 12\n",
    "\n",
    "\n",
    "@qfunc\n",
    "def mixer_layer(beta: CReal, qba: QArray[QBit]):\n",
    "    apply_to_all(lambda q: RX(GLOBAL_SCALING_PARAMETER * beta, q), qba),\n",
    "\n",
    "\n",
    "@qfunc\n",
    "def main(params: CArray[CReal, 2 * NUM_LAYERS], x: Output[QArray[QBit]]) -> None:\n",
    "    allocate((num_locations - 2) * (num_positions - 2) * len(depots), x)\n",
    "    hadamard_transform(x)\n",
    "\n",
    "    for i in range(NUM_LAYERS):\n",
    "        phase(cost(x), params[2 * i]),\n",
    "        mixer_layer(params[2 * i + 1], x)"
   ]
  },
  {
   "cell_type": "markdown",
   "id": "7ade94ce",
   "metadata": {
    "collapsed": false
   },
   "source": [
    "## Synthesizing the model"
   ]
  },
  {
   "cell_type": "code",
   "execution_count": 143,
   "id": "7a3e5d07",
   "metadata": {
    "ExecuteTime": {
     "end_time": "2025-08-05T15:31:47.723440Z",
     "start_time": "2025-08-05T15:30:12.226742Z"
    },
    "collapsed": false
   },
   "outputs": [
    {
     "name": "stdout",
     "output_type": "stream",
     "text": [
      "Quantum program link: https://platform.classiq.io/circuit/31EmgV8n7ACAPbJICWv4tZMsxhR\n"
     ]
    }
   ],
   "source": [
    "qprog = synthesize(model=main)\n",
    "show(qprog)"
   ]
  },
  {
   "cell_type": "markdown",
   "id": "80c01d15",
   "metadata": {
    "collapsed": false
   },
   "source": [
    "## Execution\n",
    "**After we have the QAOA circuit, we can execute it in the hybrid scheme.**\n",
    "**First, define the `ExecutionSession` for the optimization process, and the initial parameters.**"
   ]
  },
  {
   "cell_type": "code",
   "execution_count": 144,
   "id": "02bc1ae2",
   "metadata": {
    "ExecuteTime": {
     "end_time": "2025-08-05T15:31:47.740367Z",
     "start_time": "2025-08-05T15:31:47.729115Z"
    },
    "collapsed": false
   },
   "outputs": [],
   "source": [
    "NUM_SHOTS = 30000\n",
    "\n",
    "es = ExecutionSession(\n",
    "    qprog, execution_preferences=ExecutionPreferences(num_shots=NUM_SHOTS)\n",
    ")\n",
    "\n",
    "\n",
    "def initial_qaoa_params(NUM_LAYERS) -> np.ndarray:\n",
    "    initial_gammas = math.pi * np.linspace(\n",
    "        1 / (2 * NUM_LAYERS), 1 - 1 / (2 * NUM_LAYERS), NUM_LAYERS\n",
    "    )\n",
    "    initial_betas = math.pi * np.linspace(\n",
    "        1 - 1 / (2 * NUM_LAYERS), 1 / (2 * NUM_LAYERS), NUM_LAYERS\n",
    "    )\n",
    "\n",
    "    initial_params = []\n",
    "\n",
    "    for i in range(NUM_LAYERS):\n",
    "        initial_params.append(initial_gammas[i])\n",
    "        initial_params.append(initial_betas[i])\n",
    "\n",
    "    return np.array(initial_params)\n",
    "\n",
    "\n",
    "initial_params = initial_qaoa_params(NUM_LAYERS)"
   ]
  },
  {
   "cell_type": "markdown",
   "id": "2d6f908a",
   "metadata": {
    "collapsed": false
   },
   "source": [
    "#### The cost function definition for the execution\n",
    "For each measurement state, the cost function is calculated by the `objective` function of the VRP problem."
   ]
  },
  {
   "cell_type": "code",
   "execution_count": 145,
   "id": "d5a5c0f2",
   "metadata": {
    "ExecuteTime": {
     "end_time": "2025-08-05T15:31:47.757928Z",
     "start_time": "2025-08-05T15:31:47.741162Z"
    },
    "collapsed": false
   },
   "outputs": [],
   "source": [
    "cost_func = lambda state: cost(state[\"x\"])"
   ]
  },
  {
   "cell_type": "markdown",
   "id": "6b224073",
   "metadata": {
    "collapsed": false
   },
   "source": [
    "**A function to estimate the cost function in each iteration.**\n",
    "\n",
    "This is done by the `estimate_cost` method of the `ExecutionSession` class."
   ]
  },
  {
   "cell_type": "code",
   "execution_count": 146,
   "id": "2de1fa1f",
   "metadata": {
    "ExecuteTime": {
     "end_time": "2025-08-05T15:31:47.758292Z",
     "start_time": "2025-08-05T15:31:47.746Z"
    },
    "collapsed": false
   },
   "outputs": [],
   "source": [
    "# Record the steps of the optimization\n",
    "intermediate_params = []\n",
    "objective_values = []\n",
    "\n",
    "\n",
    "def estimate_cost_func(params):\n",
    "    objective_val = es.estimate_cost(cost_func, {\"params\": params.tolist()})\n",
    "    objective_values.append(objective_val)\n",
    "    return objective_val\n",
    "\n",
    "\n",
    "# Define the callback function to store the intermediate steps\n",
    "def callback(xk):\n",
    "    intermediate_params.append(xk)"
   ]
  },
  {
   "cell_type": "markdown",
   "id": "9f918d0b",
   "metadata": {
    "collapsed": false
   },
   "source": [
    "### Running the optimization process\n",
    "Using `scipy.optimize.minimize` to minimize the cost function.\n",
    "\n",
    "**You may increase the `max_iterations` to have more iterations.**"
   ]
  },
  {
   "cell_type": "code",
   "execution_count": 147,
   "id": "ce83336c",
   "metadata": {
    "ExecuteTime": {
     "end_time": "2025-08-05T15:32:11.180348Z",
     "start_time": "2025-08-05T15:31:47.754088Z"
    },
    "collapsed": false
   },
   "outputs": [],
   "source": [
    "max_iterations = 1\n",
    "\n",
    "optimization_res = minimize(\n",
    "    fun=estimate_cost_func,\n",
    "    x0=initial_params,\n",
    "    method=\"COBYLA\",\n",
    "    callback=callback,\n",
    "    options={\"maxiter\": max_iterations, \"rhobeg\": 0.7},\n",
    ")"
   ]
  },
  {
   "cell_type": "markdown",
   "id": "522ca95c",
   "metadata": {
    "collapsed": false
   },
   "source": [
    "## Analyzing the results\n",
    "**It is possible to make a convergences graph if you have more iterations.**"
   ]
  },
  {
   "cell_type": "code",
   "execution_count": 148,
   "id": "69c72948",
   "metadata": {
    "ExecuteTime": {
     "end_time": "2025-08-05T15:32:11.182596Z",
     "start_time": "2025-08-05T15:32:11.180181Z"
    },
    "collapsed": false
   },
   "outputs": [],
   "source": [
    "# plt.plot(objective_values)\n",
    "# plt.xlabel(\"Iteration\")\n",
    "# plt.ylabel(\"Objective Value\")\n",
    "# plt.title(\"Optimization Progress\")"
   ]
  },
  {
   "cell_type": "markdown",
   "id": "4ea9a257",
   "metadata": {
    "collapsed": false
   },
   "source": [
    "#### Optimized parameters\n",
    "It is relevant to watch for 4 or more circuit layers."
   ]
  },
  {
   "cell_type": "code",
   "execution_count": 149,
   "id": "7ed6c312",
   "metadata": {
    "ExecuteTime": {
     "end_time": "2025-08-05T15:32:11.384266Z",
     "start_time": "2025-08-05T15:32:11.189650Z"
    },
    "collapsed": false
   },
   "outputs": [
    {
     "data": {
      "text/plain": [
       "<matplotlib.legend.Legend at 0x300cf5290>"
      ]
     },
     "execution_count": 149,
     "metadata": {},
     "output_type": "execute_result"
    },
    {
     "data": {
      "image/png": "[encoded data removed]",
      "text/plain": [
       "<Figure size 640x480 with 1 Axes>"
      ]
     },
     "metadata": {},
     "output_type": "display_data"
    }
   ],
   "source": [
    "optimized_gammas = optimization_res.x[0::2]\n",
    "optimized_betas = optimization_res.x[1::2]\n",
    "\n",
    "plt.plot(optimized_gammas, label=\"Gammas\", marker=\"o\")\n",
    "plt.plot(optimized_betas, label=\"Betas\", marker=\"x\")\n",
    "plt.legend()"
   ]
  },
  {
   "cell_type": "markdown",
   "id": "de939124",
   "metadata": {
    "collapsed": false
   },
   "source": [
    "Accumulating the statistic with the final optimized parameters"
   ]
  },
  {
   "cell_type": "code",
   "execution_count": 150,
   "id": "da11125a",
   "metadata": {
    "ExecuteTime": {
     "end_time": "2025-08-05T15:32:26.569559Z",
     "start_time": "2025-08-05T15:32:11.333103Z"
    },
    "collapsed": false
   },
   "outputs": [],
   "source": [
    "res = es.sample({\"params\": optimization_res.x.tolist()})"
   ]
  },
  {
   "cell_type": "code",
   "execution_count": 151,
   "id": "4a7be7ae",
   "metadata": {
    "ExecuteTime": {
     "end_time": "2025-08-05T15:33:41.096615Z",
     "start_time": "2025-08-05T15:33:33.498543Z"
    },
    "collapsed": false
   },
   "outputs": [
    {
     "name": "stdout",
     "output_type": "stream",
     "text": [
      "Valid solution=[1, 0, 0, 0, 0, 1, 0, 0, 0, 0, 1, 0, 0, 0, 0, 1] probability=0.0016333333333333334 cost=0.07766708749355561\n",
      "Valid solution=[0, 0, 1, 0, 0, 1, 0, 0, 1, 0, 0, 0, 0, 0, 0, 1] probability=0.0015666666666666667 cost=0.07766708749355561\n",
      "Valid solution=[1, 0, 0, 0, 0, 0, 0, 1, 0, 0, 1, 0, 0, 1, 0, 0] probability=0.0015 cost=0.07766708749355561\n",
      "Valid solution=[0, 0, 1, 0, 0, 0, 0, 1, 1, 0, 0, 0, 0, 1, 0, 0] probability=0.0013666666666666666 cost=0.07766708749355561\n",
      "Valid solution=[0, 0, 0, 1, 0, 0, 1, 0, 1, 0, 0, 0, 0, 1, 0, 0] probability=0.0017666666666666666 cost=0.11675088242357473\n",
      "Valid solution=[0, 0, 0, 1, 1, 0, 0, 0, 0, 0, 1, 0, 0, 1, 0, 0] probability=0.0015333333333333334 cost=0.11675088242357473\n",
      "Valid solution=[0, 1, 0, 0, 0, 0, 1, 0, 1, 0, 0, 0, 0, 0, 0, 1] probability=0.0015 cost=0.11675088242357473\n",
      "Valid solution=[0, 1, 0, 0, 1, 0, 0, 0, 0, 0, 1, 0, 0, 0, 0, 1] probability=0.0012333333333333332 cost=0.11675088242357473\n",
      "Valid solution=[0, 0, 1, 0, 1, 0, 0, 0, 0, 0, 0, 1, 0, 1, 0, 0] probability=0.0013333333333333333 cost=0.12295509067661474\n",
      "Valid solution=[1, 0, 0, 0, 0, 0, 1, 0, 0, 0, 0, 1, 0, 1, 0, 0] probability=0.0017333333333333333 cost=0.12295509067661475\n",
      "Valid solution=[1, 0, 0, 0, 0, 0, 1, 0, 0, 1, 0, 0, 0, 0, 0, 1] probability=0.0016 cost=0.12295509067661475\n",
      "Valid solution=[0, 0, 1, 0, 1, 0, 0, 0, 0, 1, 0, 0, 0, 0, 0, 1] probability=0.0015333333333333334 cost=0.12295509067661475\n",
      "Valid solution=[1, 0, 0, 0, 0, 0, 0, 1, 0, 1, 0, 0, 0, 0, 1, 0] probability=0.0016333333333333334 cost=0.12385895064051687\n",
      "Valid solution=[0, 0, 1, 0, 0, 0, 0, 1, 0, 1, 0, 0, 1, 0, 0, 0] probability=0.0015666666666666667 cost=0.12385895064051687\n",
      "Valid solution=[1, 0, 0, 0, 0, 1, 0, 0, 0, 0, 0, 1, 0, 0, 1, 0] probability=0.0015333333333333334 cost=0.12385895064051687\n",
      "Valid solution=[0, 0, 1, 0, 0, 1, 0, 0, 0, 0, 0, 1, 1, 0, 0, 0] probability=0.0012 cost=0.12385895064051687\n",
      "Valid solution=[0, 0, 0, 1, 0, 0, 1, 0, 0, 1, 0, 0, 1, 0, 0, 0] probability=0.0014 cost=0.12876416436190394\n",
      "Valid solution=[0, 0, 0, 1, 1, 0, 0, 0, 0, 1, 0, 0, 0, 0, 1, 0] probability=0.0013333333333333333 cost=0.12876416436190394\n",
      "Valid solution=[0, 1, 0, 0, 0, 0, 1, 0, 0, 0, 0, 1, 1, 0, 0, 0] probability=0.0017333333333333333 cost=0.12876416436190397\n",
      "Valid solution=[0, 1, 0, 0, 1, 0, 0, 0, 0, 0, 0, 1, 0, 0, 1, 0] probability=0.0013333333333333333 cost=0.12876416436190397\n"
     ]
    }
   ],
   "source": [
    "sorted_counts = sorted(res.parsed_counts, key=lambda pc: cost(pc.state[\"x\"]))\n",
    "\n",
    "for sampled in sorted_counts[:20]:\n",
    "    x = sampled.state[\"x\"]\n",
    "    if check_validity(x):\n",
    "        print(\n",
    "            f\"Valid solution={sampled.state['x']} probability={sampled.shots/NUM_SHOTS} cost={cost(sampled.state['x'])}\"\n",
    "        )\n",
    "    else:\n",
    "        print(\n",
    "            f\"Invalid solution={sampled.state['x']} probability={sampled.shots/NUM_SHOTS} cost={cost(sampled.state['x'])}\"\n",
    "        )"
   ]
  },
  {
   "cell_type": "markdown",
   "id": "0a0bf11d",
   "metadata": {
    "collapsed": false
   },
   "source": [
    "### The best solution found"
   ]
  },
  {
   "cell_type": "code",
   "execution_count": 152,
   "id": "2d9f5ba1",
   "metadata": {
    "ExecuteTime": {
     "end_time": "2025-08-05T15:32:33.386362Z",
     "start_time": "2025-08-05T15:32:33.383524Z"
    },
    "collapsed": false
   },
   "outputs": [
    {
     "data": {
      "text/plain": [
       "{'x': [1, 0, 0, 0, 0, 1, 0, 0, 0, 0, 1, 0, 0, 0, 0, 1]}: 49"
      ]
     },
     "execution_count": 152,
     "metadata": {},
     "output_type": "execute_result"
    }
   ],
   "source": [
    "sorted_counts[0]"
   ]
  },
  {
   "cell_type": "code",
   "execution_count": 153,
   "id": "20b8fd76",
   "metadata": {
    "ExecuteTime": {
     "end_time": "2025-08-05T15:32:33.389228Z",
     "start_time": "2025-08-05T15:32:33.386972Z"
    },
    "collapsed": false
   },
   "outputs": [
    {
     "name": "stdout",
     "output_type": "stream",
     "text": [
      "Vehicle: 0\n",
      "Visited in city 0 at position 0\n",
      "Visited in city 2 at position 1\n",
      "Visited in city 4 at position 2\n",
      "Visited in city 0 at position 3\n",
      "Vehicle: 1\n",
      "Visited in city 1 at position 0\n",
      "Visited in city 3 at position 1\n",
      "Visited in city 5 at position 2\n",
      "Visited in city 1 at position 3\n"
     ]
    }
   ],
   "source": [
    "visited_cities_by_vehicle = {}\n",
    "\n",
    "for vehicle in depots:\n",
    "    print(\"Vehicle:\", vehicle)\n",
    "    visited_cities_by_vehicle[vehicle] = []  # Initialize list for this vehicle\n",
    "\n",
    "    for position in positions_all:\n",
    "        for city in locations:\n",
    "            if visit_indicator(sorted_counts[0].state[\"x\"], city, position, vehicle):\n",
    "                print(f\"Visited in city {city} at position {position}\")\n",
    "                visited_cities_by_vehicle[vehicle].append(city)"
   ]
  },
  {
   "cell_type": "code",
   "execution_count": 154,
   "id": "d503abfc",
   "metadata": {
    "ExecuteTime": {
     "end_time": "2025-08-05T15:32:33.484010Z",
     "start_time": "2025-08-05T15:32:33.464124Z"
    },
    "collapsed": false
   },
   "outputs": [
    {
     "data": {
      "text/plain": [
       "Text(0.5, 1.0, 'Cities Colored by Visiting Vehicle + Directed Routes')"
      ]
     },
     "execution_count": 154,
     "metadata": {},
     "output_type": "execute_result"
    },
    {
     "data": {
      "image/png": "[encoded data removed]",
      "text/plain": [
       "<Figure size 800x600 with 1 Axes>"
      ]
     },
     "metadata": {},
     "output_type": "display_data"
    }
   ],
   "source": [
    "G = nx.complete_graph(num_locations)\n",
    "\n",
    "color_map = plt.colormaps[\"tab10\"]\n",
    "vehicle_colors = {vehicle: color_map(i) for i, vehicle in enumerate(depots)}\n",
    "\n",
    "city_colors = [None] * num_locations\n",
    "for vehicle, cities in visited_cities_by_vehicle.items():\n",
    "    for city in cities:\n",
    "        city_colors[city] = vehicle_colors[vehicle]\n",
    "\n",
    "# Cities plot\n",
    "fig, ax = plt.subplots(figsize=(8, 6))\n",
    "nx.draw(\n",
    "    G,\n",
    "    pos,\n",
    "    with_labels=True,\n",
    "    node_size=300,\n",
    "    node_color=city_colors,\n",
    "    edge_color=\"lightgray\",\n",
    "    ax=ax,\n",
    ")\n",
    "\n",
    "# Directed route for each vehicle\n",
    "for i, (vehicle, cities) in enumerate(visited_cities_by_vehicle.items()):\n",
    "    # Ensure order reflects travel order\n",
    "    route = [c for c, _ in itertools.groupby(cities)]\n",
    "    if len(route) < 2:\n",
    "        continue\n",
    "\n",
    "    edges = list(nx.utils.pairwise(route))\n",
    "\n",
    "    # Slight curve per vehicle to separate overlapping edges\n",
    "    rad = 0.08 * (i - (len(visited_cities_by_vehicle) - 1) / 2)\n",
    "\n",
    "    nx.draw_networkx_edges(\n",
    "        G,\n",
    "        pos,\n",
    "        edgelist=edges,\n",
    "        edge_color=vehicle_colors[vehicle],\n",
    "        width=3,\n",
    "        arrows=True,\n",
    "        arrowstyle=\"-|>\",\n",
    "        arrowsize=18,\n",
    "        connectionstyle=f\"arc3,rad={rad}\",\n",
    "        ax=ax,\n",
    "    )\n",
    "\n",
    "plt.title(\"Cities Colored by Visiting Vehicle + Directed Routes\")"
   ]
  },
  {
   "cell_type": "code",
   "execution_count": null,
   "id": "b13a4d30",
   "metadata": {
    "ExecuteTime": {
     "end_time": "2025-08-05T15:32:33.484111Z",
     "start_time": "2025-08-05T15:32:33.476699Z"
    },
    "collapsed": false
   },
   "outputs": [],
   "source": []
  },
  {
   "cell_type": "code",
   "execution_count": null,
   "id": "64ced1ba-7f0e-44b6-8dc6-dc1df08e3621",
   "metadata": {},
   "outputs": [],
   "source": []
  }
 ],
 "metadata": {
  "kernelspec": {
   "display_name": "Python 3 (ipykernel)",
   "language": "python",
   "name": "python3"
  },
  "language_info": {
   "codemirror_mode": {
    "name": "ipython",
    "version": 3
   },
   "file_extension": ".py",
   "mimetype": "text/x-python",
   "name": "python",
   "nbconvert_exporter": "python",
   "pygments_lexer": "ipython3",
   "version": "3.11.4"
  }
 },
 "nbformat": 4,
 "nbformat_minor": 5
}
