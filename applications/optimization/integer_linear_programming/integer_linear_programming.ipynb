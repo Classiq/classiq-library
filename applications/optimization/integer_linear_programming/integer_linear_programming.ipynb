{
 "cells": [
  {
   "cell_type": "markdown",
   "id": "9d91ea6c-9f4c-4c9e-9e33-f4333482eee5",
   "metadata": {
    "jp-MarkdownHeadingCollapsed": true
   },
   "source": [
    "# Integer Linear Programming"
   ]
  },
  {
   "cell_type": "markdown",
   "id": "877ae3cf-10cc-4e51-a428-eb57687d8d18",
   "metadata": {},
   "source": [
    "## Introduction\n",
    "\n",
    "In Integer Linear Programming (ILP), we seek to find a vector of integer numbers that maximizes (or minimizes) a linear cost function under a set of linear equality or inequality constraints [[1]](#ILP). In other words, it is an optimization problem where the cost function to be optimized and all the constraints are linear and the decision variables are integer.\n",
    "\n",
    "\n",
    "\n",
    "## Mathematical Formulation\n",
    "The ILP problem can be formulated as follows:\n",
    "\n",
    "Given an $n$-dimensional vector $\\vec{c} = (c_1, c_2, \\ldots, c_n)$, an $m \\times n$ matrix $A = (a_{ij})$ with $i=1,\\ldots,m$ and $j=1,\\ldots,n$, and an $m$-dimensional vector $\\vec{b} = (b_1, b_2, \\ldots, b_m)$, find an $n$-dimensional vector $\\vec{x} = (x_1, x_2, \\ldots, x_n)$ with integer entries that maximizes (or minimizes) the cost function:\n",
    "\n",
    "\\begin{align*}\n",
    "\\vec{c} \\cdot \\vec{x} = c_1x_1 + c_2x_2 + \\ldots + c_nx_n\n",
    "\\end{align*}\n",
    "\n",
    "subject to the constraints:\n",
    "\n",
    "\\begin{align*}\n",
    "A \\vec{x} & \\leq \\vec{b} \\\\\n",
    "x_j & \\geq 0, \\quad j = 1, 2, \\ldots, n \\\\\n",
    "x_j & \\in \\mathbb{Z}, \\quad j = 1, 2, \\ldots, n\n",
    "\\end{align*}\n",
    "\n",
    "\n",
    "\n",
    "# Solving with the Classiq platform\n",
    "\n",
    "We go through the steps of solving the problem with the Classiq platform, using QAOA algorithm [[2](#QAOA)]. The solution is based on defining a pyomo model for the optimization problem we would like to solve."
   ]
  },
  {
   "cell_type": "markdown",
   "id": "8517ef73-faf6-4fd8-9db8-4088551398e0",
   "metadata": {},
   "source": [
    "## Building the Pyomo model from a graph input\n",
    "\n",
    "We proceed by defining the pyomo model that will be used on the Classiq platform, using the mathematical formulation defined above:"
   ]
  },
  {
   "cell_type": "code",
   "execution_count": 1,
   "id": "48889b21-557b-481c-80c5-3c0b5c91adb6",
   "metadata": {
    "ExecuteTime": {
     "end_time": "2024-10-27T14:14:26.846158Z",
     "start_time": "2024-10-27T14:14:26.840633Z"
    },
    "tags": []
   },
   "outputs": [],
   "source": [
    "import numpy as np\n",
    "import pyomo.core as pyo\n",
    "\n",
    "\n",
    "def ilp(a: np.ndarray, b: np.ndarray, c: np.ndarray, bound: int) -> pyo.ConcreteModel:\n",
    "    # model constraint: a*x <= b\n",
    "    model = pyo.ConcreteModel()\n",
    "    assert b.ndim == c.ndim == 1\n",
    "\n",
    "    num_vars = len(c)\n",
    "    num_constraints = len(b)\n",
    "\n",
    "    assert a.shape == (num_constraints, num_vars)\n",
    "\n",
    "    model.x = pyo.Var(\n",
    "        # here we bound x to be from 0 to to a given bound\n",
    "        range(num_vars),\n",
    "        domain=pyo.NonNegativeIntegers,\n",
    "        bounds=(0, bound),\n",
    "    )\n",
    "\n",
    "    @model.Constraint(range(num_constraints))\n",
    "    def monotone_rule(model, idx):\n",
    "        return a[idx, :] @ list(model.x.values()) <= float(b[idx])\n",
    "\n",
    "    # model objective: max(c * x)\n",
    "    model.cost = pyo.Objective(expr=c @ list(model.x.values()), sense=pyo.maximize)\n",
    "\n",
    "    return model"
   ]
  },
  {
   "cell_type": "code",
   "execution_count": 2,
   "id": "6e5295f4-7ba6-4ff6-8782-1c4c2c7f85e4",
   "metadata": {
    "ExecuteTime": {
     "end_time": "2024-10-27T14:14:27.078661Z",
     "start_time": "2024-10-27T14:14:27.071956Z"
    }
   },
   "outputs": [],
   "source": [
    "A = np.array([[1, 1, 1], [2, 2, 2], [3, 3, 3]])\n",
    "b = np.array([1, 2, 3])\n",
    "c = np.array([1, 2, 3])\n",
    "\n",
    "# Instantiate the model\n",
    "ilp_model = ilp(A, b, c, 4)"
   ]
  },
  {
   "cell_type": "code",
   "execution_count": 3,
   "id": "345330b2-9c14-41f6-b4ba-e11fb9ca1565",
   "metadata": {
    "ExecuteTime": {
     "end_time": "2024-10-27T14:14:27.096276Z",
     "start_time": "2024-10-27T14:14:27.091814Z"
    },
    "tags": []
   },
   "outputs": [
    {
     "name": "stdout",
     "output_type": "stream",
     "text": [
      "2 Set Declarations\n",
      "    monotone_rule_index : Size=1, Index=None, Ordered=Insertion\n",
      "        Key  : Dimen : Domain : Size : Members\n",
      "        None :     1 :    Any :    3 : {0, 1, 2}\n",
      "    x_index : Size=1, Index=None, Ordered=Insertion\n",
      "        Key  : Dimen : Domain : Size : Members\n",
      "        None :     1 :    Any :    3 : {0, 1, 2}\n",
      "\n",
      "1 Var Declarations\n",
      "    x : Size=3, Index=x_index\n",
      "        Key : Lower : Value : Upper : Fixed : Stale : Domain\n",
      "          0 :     0 :  None :     4 : False :  True : NonNegativeIntegers\n",
      "          1 :     0 :  None :     4 : False :  True : NonNegativeIntegers\n",
      "          2 :     0 :  None :     4 : False :  True : NonNegativeIntegers\n",
      "\n",
      "1 Objective Declarations\n",
      "    cost : Size=1, Index=None, Active=True\n",
      "        Key  : Active : Sense    : Expression\n",
      "        None :   True : maximize : x[0] + 2*x[1] + 3*x[2]\n",
      "\n",
      "1 Constraint Declarations\n",
      "    monotone_rule : Size=3, Index=monotone_rule_index, Active=True\n",
      "        Key : Lower : Body                     : Upper : Active\n",
      "          0 :  -Inf :       x[0] + x[1] + x[2] :   1.0 :   True\n",
      "          1 :  -Inf : 2*x[0] + 2*x[1] + 2*x[2] :   2.0 :   True\n",
      "          2 :  -Inf : 3*x[0] + 3*x[1] + 3*x[2] :   3.0 :   True\n",
      "\n",
      "5 Declarations: x_index x monotone_rule_index monotone_rule cost\n"
     ]
    }
   ],
   "source": [
    "ilp_model.pprint()"
   ]
  },
  {
   "cell_type": "markdown",
   "id": "17ea14ec-dbb7-487c-b4f1-cabc8d5e3c29",
   "metadata": {
    "tags": []
   },
   "source": [
    "## Setting Up the Classiq Problem Instance\n",
    "\n",
    "In order to solve the Pyomo model defined above, we use the `CombinatorialProblem` quantum object. Under the hood it tranlates the pyomo model to a quantum model of the qaoa algorithm, with cost hamiltonian translated from the pyomo model. We can choose the number of layers for the qaoa ansatz using the argument `num_layers`, and the `penalty_factor`, which will be the coefficient of the constraints term in the cost hamiltonian."
   ]
  },
  {
   "cell_type": "code",
   "execution_count": 4,
   "id": "816b468f-a59f-4f2f-8337-4a9d66548425",
   "metadata": {
    "tags": []
   },
   "outputs": [],
   "source": [
    "from classiq import *\n",
    "from classiq.applications.combinatorial_optimization import CombinatorialProblem\n",
    "\n",
    "combi = CombinatorialProblem(pyo_model=ilp_model, num_layers=3, penalty_factor=10)\n",
    "\n",
    "qmod = combi.get_model()"
   ]
  },
  {
   "cell_type": "code",
   "execution_count": 5,
   "id": "62ec28b3-cb49-411a-8c4a-8004fff6c105",
   "metadata": {},
   "outputs": [],
   "source": [
    "write_qmod(qmod, \"integer_linear_programming\")"
   ]
  },
  {
   "cell_type": "markdown",
   "id": "943291f0-6a9f-4286-a69d-ef13a0a12ef6",
   "metadata": {},
   "source": [
    "## Synthesizing the QAOA Circuit and Solving the Problem\n",
    "\n",
    "We can now synthesize and view the QAOA circuit (ansatz) used to solve the optimization problem:"
   ]
  },
  {
   "cell_type": "code",
   "execution_count": 6,
   "id": "1d71e29a-5d53-49c4-84b2-45f59be4da31",
   "metadata": {
    "pycharm": {
     "name": "#%%\n"
    },
    "tags": []
   },
   "outputs": [
    {
     "name": "stdout",
     "output_type": "stream",
     "text": [
      "Opening: https://nightly.platform.classiq.io/circuit/ae0c345f-e27c-496d-a3d8-a7eab1675d72?version=0.61.0.dev7\n"
     ]
    }
   ],
   "source": [
    "qprog = combi.get_qprog()\n",
    "show(qprog)"
   ]
  },
  {
   "cell_type": "markdown",
   "id": "b119464b-9d46-4ea0-ba4a-1734f3e0e3e5",
   "metadata": {},
   "source": [
    "We also set the quantum backend we want to execute on:"
   ]
  },
  {
   "cell_type": "code",
   "execution_count": 7,
   "id": "7d188c69-21d1-4afe-86b1-46229e91a01e",
   "metadata": {},
   "outputs": [],
   "source": [
    "from classiq.execution import *\n",
    "\n",
    "execution_preferences = ExecutionPreferences(\n",
    "    backend_preferences=ClassiqBackendPreferences(backend_name=\"simulator\"),\n",
    ")"
   ]
  },
  {
   "cell_type": "markdown",
   "id": "07621d7c-0e54-4adb-9c47-8fd99a346e29",
   "metadata": {},
   "source": [
    "We now solve the problem by calling the `optimize` method of the `CombinatorialProblem` object. For the classical optimization part of the QAOA algorithm we define the maximum number of classical iterations (`maxiter`) and the $\\alpha$-parameter (`quantile`) for running CVaR-QAOA, an improved variation of the QAOA algorithm [[3](#cvar)]:"
   ]
  },
  {
   "cell_type": "code",
   "execution_count": 8,
   "id": "62d12d20-1c80-4a9e-bb6b-b1fddc6cbe40",
   "metadata": {
    "tags": []
   },
   "outputs": [],
   "source": [
    "cost_values = []\n",
    "optimized_params = combi.optimize(\n",
    "    execution_preferences, maxiter=90, cost_trace=cost_values, quantile=0.7\n",
    ")"
   ]
  },
  {
   "cell_type": "markdown",
   "id": "620ea6a0-cd05-41a9-a2ed-9631c680d2e6",
   "metadata": {},
   "source": [
    "We can check the convergence of the run:"
   ]
  },
  {
   "cell_type": "code",
   "execution_count": 9,
   "id": "02454398-b229-403c-824a-b1eb539fbc1f",
   "metadata": {
    "tags": []
   },
   "outputs": [
    {
     "data": {
      "text/plain": [
       "Text(0.5, 1.0, 'Cost convergence')"
      ]
     },
     "execution_count": 9,
     "metadata": {},
     "output_type": "execute_result"
    },
    {
     "data": {
      "image/png": "[encoded data removed]",
      "text/plain": [
       "<Figure size 640x480 with 1 Axes>"
      ]
     },
     "metadata": {},
     "output_type": "display_data"
    }
   ],
   "source": [
    "import matplotlib.pyplot as plt\n",
    "\n",
    "fig, axes = plt.subplots(nrows=1, ncols=1)\n",
    "axes.plot(cost_values)\n",
    "axes.set_xlabel(\"Iterations\")\n",
    "axes.set_ylabel(\"Cost\")\n",
    "axes.set_title(\"Cost convergence\")"
   ]
  },
  {
   "cell_type": "markdown",
   "id": "615ed612-b835-4bf0-aa92-92d30ef8006d",
   "metadata": {
    "tags": []
   },
   "source": [
    "# Optimization Results"
   ]
  },
  {
   "cell_type": "markdown",
   "id": "670eddd3-2da7-4a88-b571-7884ef24f60c",
   "metadata": {},
   "source": [
    "We can also examine the statistics of the algorithm. The optimization is always defined as a minimzation problem, so the positive maximization objective was tranlated to a negative minimization one by the pyomo to qmod translator."
   ]
  },
  {
   "cell_type": "markdown",
   "id": "c99a7e3e-5203-4893-b970-dc23739f6df2",
   "metadata": {},
   "source": [
    "In order to get samples with the optimized parameters, we call the `get_results` method:"
   ]
  },
  {
   "cell_type": "code",
   "execution_count": 10,
   "id": "9638f749-a60b-4176-a4ea-50d7c2bb986f",
   "metadata": {},
   "outputs": [
    {
     "data": {
      "text/html": [
       "<div>\n",
       "<style scoped>\n",
       "    .dataframe tbody tr th:only-of-type {\n",
       "        vertical-align: middle;\n",
       "    }\n",
       "\n",
       "    .dataframe tbody tr th {\n",
       "        vertical-align: top;\n",
       "    }\n",
       "\n",
       "    .dataframe thead th {\n",
       "        text-align: right;\n",
       "    }\n",
       "</style>\n",
       "<table border=\"1\" class=\"dataframe\">\n",
       "  <thead>\n",
       "    <tr style=\"text-align: right;\">\n",
       "      <th></th>\n",
       "      <th>solution</th>\n",
       "      <th>probability</th>\n",
       "      <th>cost</th>\n",
       "    </tr>\n",
       "  </thead>\n",
       "  <tbody>\n",
       "    <tr>\n",
       "      <th>151</th>\n",
       "      <td>{'x_0': 0, 'x_1': 0, 'x_2': 1}</td>\n",
       "      <td>0.001953</td>\n",
       "      <td>-3.000000e+00</td>\n",
       "    </tr>\n",
       "    <tr>\n",
       "      <th>178</th>\n",
       "      <td>{'x_0': 0, 'x_1': 1, 'x_2': 0}</td>\n",
       "      <td>0.000977</td>\n",
       "      <td>-2.000000e+00</td>\n",
       "    </tr>\n",
       "    <tr>\n",
       "      <th>11</th>\n",
       "      <td>{'x_0': 1, 'x_1': 0, 'x_2': 0}</td>\n",
       "      <td>0.014648</td>\n",
       "      <td>-1.000000e+00</td>\n",
       "    </tr>\n",
       "    <tr>\n",
       "      <th>4</th>\n",
       "      <td>{'x_0': 0, 'x_1': 0, 'x_2': 0}</td>\n",
       "      <td>0.020020</td>\n",
       "      <td>1.527468e-150</td>\n",
       "    </tr>\n",
       "    <tr>\n",
       "      <th>68</th>\n",
       "      <td>{'x_0': 0, 'x_1': 0, 'x_2': 1}</td>\n",
       "      <td>0.004395</td>\n",
       "      <td>7.000000e+00</td>\n",
       "    </tr>\n",
       "  </tbody>\n",
       "</table>\n",
       "</div>"
      ],
      "text/plain": [
       "                           solution  probability           cost\n",
       "151  {'x_0': 0, 'x_1': 0, 'x_2': 1}     0.001953  -3.000000e+00\n",
       "178  {'x_0': 0, 'x_1': 1, 'x_2': 0}     0.000977  -2.000000e+00\n",
       "11   {'x_0': 1, 'x_1': 0, 'x_2': 0}     0.014648  -1.000000e+00\n",
       "4    {'x_0': 0, 'x_1': 0, 'x_2': 0}     0.020020  1.527468e-150\n",
       "68   {'x_0': 0, 'x_1': 0, 'x_2': 1}     0.004395   7.000000e+00"
      ]
     },
     "execution_count": 10,
     "metadata": {},
     "output_type": "execute_result"
    }
   ],
   "source": [
    "optimization_result = combi.get_results()\n",
    "optimization_result.sort_values(by=\"cost\").head(5)"
   ]
  },
  {
   "cell_type": "markdown",
   "id": "687f492b-a4a5-49c6-964c-8959b035bb93",
   "metadata": {},
   "source": [
    "And the histogram:"
   ]
  },
  {
   "cell_type": "code",
   "execution_count": 11,
   "id": "31a4e74d-b2b8-42e0-826d-de7b51de1fe8",
   "metadata": {
    "tags": []
   },
   "outputs": [
    {
     "data": {
      "image/png": "[encoded data removed]",
      "text/plain": [
       "<Figure size 640x480 with 1 Axes>"
      ]
     },
     "metadata": {},
     "output_type": "display_data"
    }
   ],
   "source": [
    "optimization_result[\"cost\"].plot(\n",
    "    kind=\"hist\", bins=30, edgecolor=\"black\", weights=optimization_result[\"probability\"]\n",
    ")\n",
    "plt.ylabel(\"Probability\", fontsize=16)\n",
    "plt.xlabel(\"cost\", fontsize=16)\n",
    "plt.tick_params(axis=\"both\", labelsize=14)"
   ]
  },
  {
   "cell_type": "markdown",
   "id": "a3a890a1-c5d4-409d-b9a3-d7ffd4fdd6c0",
   "metadata": {},
   "source": [
    "Let us plot the solution:"
   ]
  },
  {
   "cell_type": "code",
   "execution_count": 12,
   "id": "4326e84b-26f6-4ea9-a53b-090fb3658b8c",
   "metadata": {
    "tags": []
   },
   "outputs": [
    {
     "data": {
      "text/plain": [
       "{'x_0': 0, 'x_1': 0, 'x_2': 1}"
      ]
     },
     "execution_count": 12,
     "metadata": {},
     "output_type": "execute_result"
    }
   ],
   "source": [
    "best_solution = optimization_result.solution[optimization_result.cost.idxmin()]\n",
    "best_solution"
   ]
  },
  {
   "cell_type": "markdown",
   "id": "149932e1-bfa8-4c27-b5f9-037e74eba400",
   "metadata": {},
   "source": [
    "## Comparison to a classical solver"
   ]
  },
  {
   "cell_type": "markdown",
   "id": "dde1905d-aeff-4297-a9d3-ad14910e6161",
   "metadata": {},
   "source": [
    "Lastly, we can compare to the classical solution of the problem:"
   ]
  },
  {
   "cell_type": "code",
   "execution_count": 13,
   "id": "5a7ca4b6-25a0-46dd-b5cc-de6a639a6f57",
   "metadata": {
    "pycharm": {
     "name": "#%%\n"
    },
    "tags": []
   },
   "outputs": [
    {
     "name": "stdout",
     "output_type": "stream",
     "text": [
      "Classical solution: [0, 0, 1]\n"
     ]
    }
   ],
   "source": [
    "from pyomo.opt import SolverFactory\n",
    "\n",
    "solver = SolverFactory(\"couenne\")\n",
    "solver.solve(ilp_model)\n",
    "classical_solution = [int(pyo.value(ilp_model.x[i])) for i in range(len(ilp_model.x))]\n",
    "print(\"Classical solution:\", classical_solution)"
   ]
  },
  {
   "cell_type": "markdown",
   "id": "e82b5953-122a-4707-8ab6-f741f14f13a5",
   "metadata": {
    "pycharm": {
     "name": "#%% md\n"
    },
    "tags": []
   },
   "source": [
    "\n",
    "## References\n",
    "\n",
    "<a id='MVC'>[1]</a>: [Integer Programming (Wikipedia).](https://en.wikipedia.org/wiki/Integer_programming)\n",
    "\n",
    "<a id='QAOA'>[2]</a>: [Farhi, Edward, Jeffrey Goldstone, and Sam Gutmann. \"A quantum approximate optimization algorithm.\" arXiv preprint arXiv:1411.4028 (2014).](https://arxiv.org/abs/1411.4028)\n",
    "\n",
    "<a id='cvar'>[3]</a>: [Barkoutsos, Panagiotis Kl, et al. \"Improving variational quantum optimization using CVaR.\" Quantum 4 (2020): 256.](https://arxiv.org/abs/1907.04769)\n"
   ]
  }
 ],
 "metadata": {
  "kernelspec": {
   "display_name": "Python 3 (ipykernel)",
   "language": "python",
   "name": "python3"
  },
  "language_info": {
   "codemirror_mode": {
    "name": "ipython",
    "version": 3
   },
   "file_extension": ".py",
   "mimetype": "text/x-python",
   "name": "python",
   "nbconvert_exporter": "python",
   "pygments_lexer": "ipython3",
   "version": "3.11.4"
  },
  "vscode": {
   "interpreter": {
    "hash": "a07aacdcc8a415e7643a2bc993226848ff70704ebef014f87460de9126b773d0"
   }
  }
 },
 "nbformat": 4,
 "nbformat_minor": 5
}
