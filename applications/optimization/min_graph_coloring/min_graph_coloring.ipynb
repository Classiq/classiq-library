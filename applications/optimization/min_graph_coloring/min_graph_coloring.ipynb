{
 "cells": [
  {
   "cell_type": "markdown",
   "id": "0c4b6a3a-5be7-44a0-98bd-d18798a77ce1",
   "metadata": {
    "tags": []
   },
   "source": [
    "\n",
    "# Min Graph Coloring Problem\n"
   ]
  },
  {
   "cell_type": "markdown",
   "id": "23c657a0-b7cb-4b1b-8ef8-9fd0bebffb77",
   "metadata": {
    "jp-MarkdownHeadingCollapsed": true,
    "lines_to_next_cell": 2,
    "tags": []
   },
   "source": [
    "\n",
    "## Background\n",
    "\n",
    "Given a graph $G = (V,E)$, find the minimal number of colors k required to properly color it.\n",
    "A coloring is legal if:\n",
    "\n",
    "- each vetrex ${v_i}$ is assigned with a color $k_i \\in \\{0, 1, ..., k-1\\}$\n",
    "- adajecnt vertex have different colors: for each $v_i, v_j$ such that $(v_i, v_j) \\in E$, $k_i \\neq k_j$.\n",
    "A graph which is k-colorable but not (k−1)-colorable is said to have chromatic number k. The maximum bound on the chromatic number is $D_G + 1$, where $D_G$ is the maximum vertex degree. The graph coloring problem is known to be in the NP-hard complexity class."
   ]
  },
  {
   "cell_type": "markdown",
   "id": "36fef965-da2a-44a7-a58d-e9d3618f8612",
   "metadata": {
    "tags": []
   },
   "source": [
    "## Solving the problem with classiq\n",
    "\n"
   ]
  },
  {
   "cell_type": "markdown",
   "id": "8dc3596d-8ee9-462c-99c6-a3d8e60fc604",
   "metadata": {
    "tags": []
   },
   "source": [
    "### Define the optimization problem\n"
   ]
  },
  {
   "cell_type": "markdown",
   "id": "ff141ef7-5ed2-4821-834d-eee9a88ff33f",
   "metadata": {},
   "source": [
    "We encode the graph coloring with a matrix of variables `X` with dimensions $k \\times |V|$ using one-hot encoding, such that a $X_{ki} = 1$ means that vertex i is colored by color k.\n",
    "\n",
    "We require that each vertex is colored by exactly one color and that 2 adjacent vertices have different colors."
   ]
  },
  {
   "cell_type": "code",
   "execution_count": 19,
   "id": "246653bf-083d-4b5d-a1f3-20c5a203f753",
   "metadata": {
    "tags": []
   },
   "outputs": [],
   "source": [
    "import networkx as nx\n",
    "import numpy as np\n",
    "import pyomo.environ as pyo\n",
    "\n",
    "\n",
    "def define_min_graph_coloring_model(graph, max_num_colors):\n",
    "    model = pyo.ConcreteModel()\n",
    "\n",
    "    nodes = list(graph.nodes())\n",
    "    colors = range(0, max_num_colors)\n",
    "\n",
    "    model.x = pyo.Var(colors, nodes, domain=pyo.Binary)\n",
    "    x_variables = np.array(list(model.x.values()))\n",
    "\n",
    "    adjacency_matrix = nx.convert_matrix.to_numpy_array(graph, nonedge=0)\n",
    "    adjacency_matrix_block_diagonal = np.kron(np.eye(degree_max), adjacency_matrix)\n",
    "\n",
    "    model.conflicting_color_constraint = pyo.Constraint(\n",
    "        expr=x_variables @ adjacency_matrix_block_diagonal @ x_variables == 0\n",
    "    )\n",
    "\n",
    "    @model.Constraint(nodes)\n",
    "    def each_vertex_is_colored(model, node):\n",
    "        return sum(model.x[color, node] for color in colors) == 1\n",
    "\n",
    "    def is_color_used(color):\n",
    "        is_color_not_used = np.prod([(1 - model.x[color, node]) for node in nodes])\n",
    "        return 1 - is_color_not_used\n",
    "\n",
    "    # minimize the number of colors in use\n",
    "    model.value = pyo.Objective(\n",
    "        expr=sum(is_color_used(color) for color in colors), sense=pyo.minimize\n",
    "    )\n",
    "\n",
    "    return model"
   ]
  },
  {
   "cell_type": "markdown",
   "id": "a4782f3c-a919-4071-9423-ac9f21ce25e1",
   "metadata": {},
   "source": [
    "### Initialize the model with example graph"
   ]
  },
  {
   "cell_type": "code",
   "execution_count": 20,
   "id": "425c830a-2e2e-4a9a-b9c6-e2fd2cd145d0",
   "metadata": {
    "tags": []
   },
   "outputs": [
    {
     "data": {
      "image/png": "[encoded data removed]",
      "text/plain": [
       "<Figure size 640x480 with 1 Axes>"
      ]
     },
     "metadata": {},
     "output_type": "display_data"
    }
   ],
   "source": [
    "graph = nx.erdos_renyi_graph(5, 0.3, seed=79)\n",
    "nx.draw_kamada_kawai(graph, with_labels=True)\n",
    "\n",
    "degree_sequence = sorted((d for n, d in graph.degree()), reverse=True)\n",
    "degree_max = max(degree_sequence)\n",
    "max_num_colors = degree_max\n",
    "\n",
    "coloring_model = define_min_graph_coloring_model(graph, max_num_colors)"
   ]
  },
  {
   "cell_type": "markdown",
   "id": "e18b6a77-a08c-454d-a89a-efb8c2a2dbe7",
   "metadata": {},
   "source": [
    "### show the resulting pyomo model"
   ]
  },
  {
   "cell_type": "code",
   "execution_count": 21,
   "id": "4f74ecd0-9096-4050-88e5-da6361e7ff81",
   "metadata": {
    "scrolled": true,
    "tags": []
   },
   "outputs": [
    {
     "name": "stdout",
     "output_type": "stream",
     "text": [
      "4 Set Declarations\n",
      "    each_vertex_is_colored_index : Size=1, Index=None, Ordered=Insertion\n",
      "        Key  : Dimen : Domain : Size : Members\n",
      "        None :     1 :    Any :    5 : {0, 1, 2, 3, 4}\n",
      "    x_index : Size=1, Index=None, Ordered=True\n",
      "        Key  : Dimen : Domain              : Size : Members\n",
      "        None :     2 : x_index_0*x_index_1 :   15 : {(0, 0), (0, 1), (0, 2), (0, 3), (0, 4), (1, 0), (1, 1), (1, 2), (1, 3), (1, 4), (2, 0), (2, 1), (2, 2), (2, 3), (2, 4)}\n",
      "    x_index_0 : Size=1, Index=None, Ordered=Insertion\n",
      "        Key  : Dimen : Domain : Size : Members\n",
      "        None :     1 :    Any :    3 : {0, 1, 2}\n",
      "    x_index_1 : Size=1, Index=None, Ordered=Insertion\n",
      "        Key  : Dimen : Domain : Size : Members\n",
      "        None :     1 :    Any :    5 : {0, 1, 2, 3, 4}\n",
      "\n",
      "1 Var Declarations\n",
      "    x : Size=15, Index=x_index\n",
      "        Key    : Lower : Value : Upper : Fixed : Stale : Domain\n",
      "        (0, 0) :     0 :  None :     1 : False :  True : Binary\n",
      "        (0, 1) :     0 :  None :     1 : False :  True : Binary\n",
      "        (0, 2) :     0 :  None :     1 : False :  True : Binary\n",
      "        (0, 3) :     0 :  None :     1 : False :  True : Binary\n",
      "        (0, 4) :     0 :  None :     1 : False :  True : Binary\n",
      "        (1, 0) :     0 :  None :     1 : False :  True : Binary\n",
      "        (1, 1) :     0 :  None :     1 : False :  True : Binary\n",
      "        (1, 2) :     0 :  None :     1 : False :  True : Binary\n",
      "        (1, 3) :     0 :  None :     1 : False :  True : Binary\n",
      "        (1, 4) :     0 :  None :     1 : False :  True : Binary\n",
      "        (2, 0) :     0 :  None :     1 : False :  True : Binary\n",
      "        (2, 1) :     0 :  None :     1 : False :  True : Binary\n",
      "        (2, 2) :     0 :  None :     1 : False :  True : Binary\n",
      "        (2, 3) :     0 :  None :     1 : False :  True : Binary\n",
      "        (2, 4) :     0 :  None :     1 : False :  True : Binary\n",
      "\n",
      "1 Objective Declarations\n",
      "    value : Size=1, Index=None, Active=True\n",
      "        Key  : Active : Sense    : Expression\n",
      "        None :   True : minimize : 1 - (1 - x[0,0])*(1 - x[0,1])*(1 - x[0,2])*(1 - x[0,3])*(1 - x[0,4]) + 1 - (1 - x[1,0])*(1 - x[1,1])*(1 - x[1,2])*(1 - x[1,3])*(1 - x[1,4]) + 1 - (1 - x[2,0])*(1 - x[2,1])*(1 - x[2,2])*(1 - x[2,3])*(1 - x[2,4])\n",
      "\n",
      "2 Constraint Declarations\n",
      "    conflicting_color_constraint : Size=1, Index=None, Active=True\n",
      "        Key  : Lower : Body                                                                                                                                                                                                                                                                                                                                                                                                   : Upper : Active\n",
      "        None :   0.0 : (x[0,1] + x[0,3] + x[0,4])*x[0,0] + (x[0,0] + x[0,3])*x[0,1] + x[0,3]*x[0,2] + (x[0,0] + x[0,1] + x[0,2])*x[0,3] + x[0,0]*x[0,4] + (x[1,1] + x[1,3] + x[1,4])*x[1,0] + (x[1,0] + x[1,3])*x[1,1] + x[1,3]*x[1,2] + (x[1,0] + x[1,1] + x[1,2])*x[1,3] + x[1,0]*x[1,4] + (x[2,1] + x[2,3] + x[2,4])*x[2,0] + (x[2,0] + x[2,3])*x[2,1] + x[2,3]*x[2,2] + (x[2,0] + x[2,1] + x[2,2])*x[2,3] + x[2,0]*x[2,4] :   0.0 :   True\n",
      "    each_vertex_is_colored : Size=5, Index=each_vertex_is_colored_index, Active=True\n",
      "        Key : Lower : Body                     : Upper : Active\n",
      "          0 :   1.0 : x[0,0] + x[1,0] + x[2,0] :   1.0 :   True\n",
      "          1 :   1.0 : x[0,1] + x[1,1] + x[2,1] :   1.0 :   True\n",
      "          2 :   1.0 : x[0,2] + x[1,2] + x[2,2] :   1.0 :   True\n",
      "          3 :   1.0 : x[0,3] + x[1,3] + x[2,3] :   1.0 :   True\n",
      "          4 :   1.0 : x[0,4] + x[1,4] + x[2,4] :   1.0 :   True\n",
      "\n",
      "8 Declarations: x_index_0 x_index_1 x_index x conflicting_color_constraint each_vertex_is_colored_index each_vertex_is_colored value\n"
     ]
    }
   ],
   "source": [
    "coloring_model.pprint()"
   ]
  },
  {
   "cell_type": "markdown",
   "id": "d5846ab0-800c-4e81-9a9e-ac8dc7363893",
   "metadata": {
    "tags": []
   },
   "source": [
    "## Setting Up the Classiq Problem Instance\n",
    "\n",
    "In order to solve the Pyomo model defined above, we use the `CombinatorialProblem` quantum object. Under the hood it tranlates the pyomo model to a quantum model of the qaoa algorithm, with cost hamiltonian translated from the pyomo model. We can choose the number of layers for the qaoa ansatz using the argument `num_layers`, and the `penalty_factor`, which will be the coefficient of the constraints term in the cost hamiltonian."
   ]
  },
  {
   "cell_type": "code",
   "execution_count": 23,
   "id": "816b468f-a59f-4f2f-8337-4a9d66548425",
   "metadata": {
    "tags": []
   },
   "outputs": [],
   "source": [
    "from classiq import *\n",
    "from classiq.applications.combinatorial_optimization import CombinatorialProblem\n",
    "\n",
    "combi = CombinatorialProblem(pyo_model=coloring_model, num_layers=6, penalty_factor=10)\n",
    "\n",
    "qmod = combi.get_model()"
   ]
  },
  {
   "cell_type": "code",
   "execution_count": 24,
   "id": "62ec28b3-cb49-411a-8c4a-8004fff6c105",
   "metadata": {},
   "outputs": [],
   "source": [
    "write_qmod(qmod, \"min_graph_coloring\")"
   ]
  },
  {
   "cell_type": "markdown",
   "id": "943291f0-6a9f-4286-a69d-ef13a0a12ef6",
   "metadata": {},
   "source": [
    "## Synthesizing the QAOA Circuit and Solving the Problem\n",
    "\n",
    "We can now synthesize and view the QAOA circuit (ansatz) used to solve the optimization problem:"
   ]
  },
  {
   "cell_type": "code",
   "execution_count": 25,
   "id": "1d71e29a-5d53-49c4-84b2-45f59be4da31",
   "metadata": {
    "pycharm": {
     "name": "#%%\n"
    },
    "scrolled": true,
    "tags": []
   },
   "outputs": [
    {
     "ename": "ClassiqAPIError",
     "evalue": "Internal error occurred. Please contact Classiq support.\nError number 122001 occurred:\n\nError identifier: EE2BDCFA1-76C0-4282-A217-1E566BB5B8CC\nIf you need further assistance, please reach out on our Community Slack channel at: https://short.classiq.io/join-slack",
     "output_type": "error",
     "traceback": [
      "\u001b[0;31m---------------------------------------------------------------------------\u001b[0m",
      "\u001b[0;31mClassiqAPIError\u001b[0m                           Traceback (most recent call last)",
      "Cell \u001b[0;32mIn[25], line 1\u001b[0m\n\u001b[0;32m----> 1\u001b[0m qprog \u001b[38;5;241m=\u001b[39m \u001b[43mcombi\u001b[49m\u001b[38;5;241;43m.\u001b[39;49m\u001b[43mget_qprog\u001b[49m\u001b[43m(\u001b[49m\u001b[43m)\u001b[49m\n\u001b[1;32m      2\u001b[0m show(qprog)\n",
      "File \u001b[0;32m~/classiq-library/applications/optimization/min_graph_coloring/combinatorial_problem.py:73\u001b[0m, in \u001b[0;36mCombinatorialProblem.get_qprog\u001b[0;34m(self)\u001b[0m\n\u001b[1;32m     71\u001b[0m \u001b[38;5;28;01mif\u001b[39;00m \u001b[38;5;28mself\u001b[39m\u001b[38;5;241m.\u001b[39mmodel_ \u001b[38;5;129;01mis\u001b[39;00m \u001b[38;5;28;01mNone\u001b[39;00m:\n\u001b[1;32m     72\u001b[0m     \u001b[38;5;28mself\u001b[39m\u001b[38;5;241m.\u001b[39mcreate_model()\n\u001b[0;32m---> 73\u001b[0m \u001b[38;5;28mself\u001b[39m\u001b[38;5;241m.\u001b[39mqprog_ \u001b[38;5;241m=\u001b[39m \u001b[43msynthesize\u001b[49m\u001b[43m(\u001b[49m\u001b[38;5;28;43mself\u001b[39;49m\u001b[38;5;241;43m.\u001b[39;49m\u001b[43mmodel_\u001b[49m\u001b[43m)\u001b[49m\n\u001b[1;32m     74\u001b[0m \u001b[38;5;28;01mreturn\u001b[39;00m \u001b[38;5;28mself\u001b[39m\u001b[38;5;241m.\u001b[39mqprog_\n",
      "File \u001b[0;32m~/night/lib/python3.11/site-packages/classiq/synthesis.py:85\u001b[0m, in \u001b[0;36msynthesize\u001b[0;34m(serialized_model, auto_show)\u001b[0m\n\u001b[1;32m     71\u001b[0m \u001b[38;5;28;01mdef\u001b[39;00m \u001b[38;5;21msynthesize\u001b[39m(\n\u001b[1;32m     72\u001b[0m     serialized_model: SerializedModel, auto_show: \u001b[38;5;28mbool\u001b[39m \u001b[38;5;241m=\u001b[39m \u001b[38;5;28;01mFalse\u001b[39;00m\n\u001b[1;32m     73\u001b[0m ) \u001b[38;5;241m-\u001b[39m\u001b[38;5;241m>\u001b[39m SerializedQuantumProgram:\n\u001b[1;32m     74\u001b[0m \u001b[38;5;250m    \u001b[39m\u001b[38;5;124;03m\"\"\"\u001b[39;00m\n\u001b[1;32m     75\u001b[0m \u001b[38;5;124;03m    Synthesize a model with the Classiq engine to receive a quantum program.\u001b[39;00m\n\u001b[1;32m     76\u001b[0m \u001b[38;5;124;03m    [More details](https://docs.classiq.io/latest/reference-manual/synthesis/)\u001b[39;00m\n\u001b[0;32m   (...)\u001b[0m\n\u001b[1;32m     83\u001b[0m \u001b[38;5;124;03m        SerializedQuantumProgram: Quantum program serialized as a string. (See: QuantumProgram)\u001b[39;00m\n\u001b[1;32m     84\u001b[0m \u001b[38;5;124;03m    \"\"\"\u001b[39;00m\n\u001b[0;32m---> 85\u001b[0m     result \u001b[38;5;241m=\u001b[39m \u001b[43masync_utils\u001b[49m\u001b[38;5;241;43m.\u001b[39;49m\u001b[43mrun\u001b[49m\u001b[43m(\u001b[49m\u001b[43msynthesize_async\u001b[49m\u001b[43m(\u001b[49m\u001b[43mserialized_model\u001b[49m\u001b[43m)\u001b[49m\u001b[43m)\u001b[49m\n\u001b[1;32m     86\u001b[0m     \u001b[38;5;28;01mif\u001b[39;00m auto_show:\n\u001b[1;32m     87\u001b[0m         show(result)\n",
      "File \u001b[0;32m~/night/lib/python3.11/site-packages/classiq/_internals/async_utils.py:37\u001b[0m, in \u001b[0;36mrun\u001b[0;34m(coro)\u001b[0m\n\u001b[1;32m     32\u001b[0m \u001b[38;5;28;01mdef\u001b[39;00m \u001b[38;5;21mrun\u001b[39m(coro: Awaitable[T]) \u001b[38;5;241m-\u001b[39m\u001b[38;5;241m>\u001b[39m T:\n\u001b[1;32m     33\u001b[0m     \u001b[38;5;66;03m# Use this function instead of asyncio.run, since it ALWAYS\u001b[39;00m\n\u001b[1;32m     34\u001b[0m     \u001b[38;5;66;03m# creates a new event loop and clears the thread event loop.\u001b[39;00m\n\u001b[1;32m     35\u001b[0m     \u001b[38;5;66;03m# Never use asyncio.run in library code.\u001b[39;00m\n\u001b[1;32m     36\u001b[0m     loop \u001b[38;5;241m=\u001b[39m get_event_loop()\n\u001b[0;32m---> 37\u001b[0m     \u001b[38;5;28;01mreturn\u001b[39;00m \u001b[43mloop\u001b[49m\u001b[38;5;241;43m.\u001b[39;49m\u001b[43mrun_until_complete\u001b[49m\u001b[43m(\u001b[49m\u001b[43mcoro\u001b[49m\u001b[43m)\u001b[49m\n",
      "File \u001b[0;32m~/night/lib/python3.11/site-packages/nest_asyncio.py:98\u001b[0m, in \u001b[0;36m_patch_loop.<locals>.run_until_complete\u001b[0;34m(self, future)\u001b[0m\n\u001b[1;32m     95\u001b[0m \u001b[38;5;28;01mif\u001b[39;00m \u001b[38;5;129;01mnot\u001b[39;00m f\u001b[38;5;241m.\u001b[39mdone():\n\u001b[1;32m     96\u001b[0m     \u001b[38;5;28;01mraise\u001b[39;00m \u001b[38;5;167;01mRuntimeError\u001b[39;00m(\n\u001b[1;32m     97\u001b[0m         \u001b[38;5;124m'\u001b[39m\u001b[38;5;124mEvent loop stopped before Future completed.\u001b[39m\u001b[38;5;124m'\u001b[39m)\n\u001b[0;32m---> 98\u001b[0m \u001b[38;5;28;01mreturn\u001b[39;00m \u001b[43mf\u001b[49m\u001b[38;5;241;43m.\u001b[39;49m\u001b[43mresult\u001b[49m\u001b[43m(\u001b[49m\u001b[43m)\u001b[49m\n",
      "File \u001b[0;32m~/.pyenv/versions/3.11.4/lib/python3.11/asyncio/futures.py:203\u001b[0m, in \u001b[0;36mFuture.result\u001b[0;34m(self)\u001b[0m\n\u001b[1;32m    201\u001b[0m \u001b[38;5;28mself\u001b[39m\u001b[38;5;241m.\u001b[39m__log_traceback \u001b[38;5;241m=\u001b[39m \u001b[38;5;28;01mFalse\u001b[39;00m\n\u001b[1;32m    202\u001b[0m \u001b[38;5;28;01mif\u001b[39;00m \u001b[38;5;28mself\u001b[39m\u001b[38;5;241m.\u001b[39m_exception \u001b[38;5;129;01mis\u001b[39;00m \u001b[38;5;129;01mnot\u001b[39;00m \u001b[38;5;28;01mNone\u001b[39;00m:\n\u001b[0;32m--> 203\u001b[0m     \u001b[38;5;28;01mraise\u001b[39;00m \u001b[38;5;28mself\u001b[39m\u001b[38;5;241m.\u001b[39m_exception\u001b[38;5;241m.\u001b[39mwith_traceback(\u001b[38;5;28mself\u001b[39m\u001b[38;5;241m.\u001b[39m_exception_tb)\n\u001b[1;32m    204\u001b[0m \u001b[38;5;28;01mreturn\u001b[39;00m \u001b[38;5;28mself\u001b[39m\u001b[38;5;241m.\u001b[39m_result\n",
      "File \u001b[0;32m~/.pyenv/versions/3.11.4/lib/python3.11/asyncio/tasks.py:267\u001b[0m, in \u001b[0;36mTask.__step\u001b[0;34m(***failed resolving arguments***)\u001b[0m\n\u001b[1;32m    263\u001b[0m \u001b[38;5;28;01mtry\u001b[39;00m:\n\u001b[1;32m    264\u001b[0m     \u001b[38;5;28;01mif\u001b[39;00m exc \u001b[38;5;129;01mis\u001b[39;00m \u001b[38;5;28;01mNone\u001b[39;00m:\n\u001b[1;32m    265\u001b[0m         \u001b[38;5;66;03m# We use the `send` method directly, because coroutines\u001b[39;00m\n\u001b[1;32m    266\u001b[0m         \u001b[38;5;66;03m# don't have `__iter__` and `__next__` methods.\u001b[39;00m\n\u001b[0;32m--> 267\u001b[0m         result \u001b[38;5;241m=\u001b[39m coro\u001b[38;5;241m.\u001b[39msend(\u001b[38;5;28;01mNone\u001b[39;00m)\n\u001b[1;32m    268\u001b[0m     \u001b[38;5;28;01melse\u001b[39;00m:\n\u001b[1;32m    269\u001b[0m         result \u001b[38;5;241m=\u001b[39m coro\u001b[38;5;241m.\u001b[39mthrow(exc)\n",
      "File \u001b[0;32m~/night/lib/python3.11/site-packages/classiq/synthesis.py:67\u001b[0m, in \u001b[0;36msynthesize_async\u001b[0;34m(serialized_model)\u001b[0m\n\u001b[1;32m     63\u001b[0m \u001b[38;5;28;01masync\u001b[39;00m \u001b[38;5;28;01mdef\u001b[39;00m \u001b[38;5;21msynthesize_async\u001b[39m(\n\u001b[1;32m     64\u001b[0m     serialized_model: SerializedModel,\n\u001b[1;32m     65\u001b[0m ) \u001b[38;5;241m-\u001b[39m\u001b[38;5;241m>\u001b[39m SerializedQuantumProgram:\n\u001b[1;32m     66\u001b[0m     model \u001b[38;5;241m=\u001b[39m Model\u001b[38;5;241m.\u001b[39mmodel_validate_json(serialized_model)\n\u001b[0;32m---> 67\u001b[0m     quantum_program \u001b[38;5;241m=\u001b[39m \u001b[38;5;28;01mawait\u001b[39;00m ApiWrapper\u001b[38;5;241m.\u001b[39mcall_generation_task(model)\n\u001b[1;32m     68\u001b[0m     \u001b[38;5;28;01mreturn\u001b[39;00m SerializedQuantumProgram(quantum_program\u001b[38;5;241m.\u001b[39mmodel_dump_json(indent\u001b[38;5;241m=\u001b[39m\u001b[38;5;241m2\u001b[39m))\n",
      "File \u001b[0;32m~/night/lib/python3.11/site-packages/classiq/_internals/api_wrapper.py:125\u001b[0m, in \u001b[0;36mApiWrapper.call_generation_task\u001b[0;34m(cls, model, http_client)\u001b[0m\n\u001b[1;32m    121\u001b[0m poller \u001b[38;5;241m=\u001b[39m JobPoller(base_url\u001b[38;5;241m=\u001b[39mroutes\u001b[38;5;241m.\u001b[39mTASKS_GENERATE_FULL_PATH)\n\u001b[1;32m    122\u001b[0m result \u001b[38;5;241m=\u001b[39m \u001b[38;5;28;01mawait\u001b[39;00m poller\u001b[38;5;241m.\u001b[39mrun_pydantic(\n\u001b[1;32m    123\u001b[0m     model, timeout_sec\u001b[38;5;241m=\u001b[39m\u001b[38;5;28;01mNone\u001b[39;00m, http_client\u001b[38;5;241m=\u001b[39mhttp_client\n\u001b[1;32m    124\u001b[0m )\n\u001b[0;32m--> 125\u001b[0m \u001b[38;5;28;01mreturn\u001b[39;00m \u001b[43m_parse_job_response\u001b[49m\u001b[43m(\u001b[49m\u001b[43mresult\u001b[49m\u001b[43m,\u001b[49m\u001b[43m \u001b[49m\u001b[43mgenerator_result\u001b[49m\u001b[38;5;241;43m.\u001b[39;49m\u001b[43mQuantumProgram\u001b[49m\u001b[43m)\u001b[49m\n",
      "File \u001b[0;32m~/night/lib/python3.11/site-packages/classiq/_internals/api_wrapper.py:61\u001b[0m, in \u001b[0;36m_parse_job_response\u001b[0;34m(job_result, output_type)\u001b[0m\n\u001b[1;32m     59\u001b[0m     \u001b[38;5;28;01mreturn\u001b[39;00m output_type\u001b[38;5;241m.\u001b[39mmodel_validate(job_result\u001b[38;5;241m.\u001b[39mresult)\n\u001b[1;32m     60\u001b[0m \u001b[38;5;28;01mif\u001b[39;00m job_result\u001b[38;5;241m.\u001b[39mfailure_details:\n\u001b[0;32m---> 61\u001b[0m     \u001b[38;5;28;01mraise\u001b[39;00m ClassiqAPIError(job_result\u001b[38;5;241m.\u001b[39mfailure_details)\n\u001b[1;32m     63\u001b[0m \u001b[38;5;28;01mraise\u001b[39;00m ClassiqAPIError(\u001b[38;5;124m\"\u001b[39m\u001b[38;5;124mUnexpected response from server\u001b[39m\u001b[38;5;124m\"\u001b[39m)\n",
      "\u001b[0;31mClassiqAPIError\u001b[0m: Internal error occurred. Please contact Classiq support.\nError number 122001 occurred:\n\nError identifier: EE2BDCFA1-76C0-4282-A217-1E566BB5B8CC\nIf you need further assistance, please reach out on our Community Slack channel at: https://short.classiq.io/join-slack"
     ]
    }
   ],
   "source": [
    "qprog = combi.get_qprog()\n",
    "show(qprog)"
   ]
  },
  {
   "cell_type": "markdown",
   "id": "b119464b-9d46-4ea0-ba4a-1734f3e0e3e5",
   "metadata": {},
   "source": [
    "We also set the quantum backend we want to execute on:"
   ]
  },
  {
   "cell_type": "code",
   "execution_count": null,
   "id": "7d188c69-21d1-4afe-86b1-46229e91a01e",
   "metadata": {},
   "outputs": [],
   "source": [
    "from classiq.execution import *\n",
    "\n",
    "execution_preferences = ExecutionPreferences(\n",
    "    backend_preferences=ClassiqBackendPreferences(backend_name=\"simulator\"),\n",
    ")"
   ]
  },
  {
   "cell_type": "markdown",
   "id": "07621d7c-0e54-4adb-9c47-8fd99a346e29",
   "metadata": {},
   "source": [
    "We now solve the problem by calling the `optimize` method of the `CombinatorialProblem` object. For the classical optimization part of the QAOA algorithm we define the maximum number of classical iterations (`maxiter`) and the $\\alpha$-parameter (`quantile`) for running CVaR-QAOA, an improved variation of the QAOA algorithm [[2](#cvar)]:"
   ]
  },
  {
   "cell_type": "code",
   "execution_count": 13,
   "id": "62d12d20-1c80-4a9e-bb6b-b1fddc6cbe40",
   "metadata": {
    "tags": []
   },
   "outputs": [],
   "source": [
    "cost_values = []\n",
    "optimized_params = combi.optimize(\n",
    "    execution_preferences, maxiter=70, cost_trace=cost_values, quantile=0.3\n",
    ")"
   ]
  },
  {
   "cell_type": "markdown",
   "id": "615ed612-b835-4bf0-aa92-92d30ef8006d",
   "metadata": {
    "tags": []
   },
   "source": [
    "# Optimization Results"
   ]
  },
  {
   "cell_type": "markdown",
   "id": "9de050b9-cded-4990-a86c-e9ed3023555c",
   "metadata": {},
   "source": [
    "We can also examine the statistics of the algorithm. In order to get samples with the optimized parameters, we call the `get_results` method:"
   ]
  },
  {
   "cell_type": "code",
   "execution_count": 9,
   "id": "9638f749-a60b-4176-a4ea-50d7c2bb986f",
   "metadata": {},
   "outputs": [
    {
     "data": {
      "text/html": [
       "<div>\n",
       "<style scoped>\n",
       "    .dataframe tbody tr th:only-of-type {\n",
       "        vertical-align: middle;\n",
       "    }\n",
       "\n",
       "    .dataframe tbody tr th {\n",
       "        vertical-align: top;\n",
       "    }\n",
       "\n",
       "    .dataframe thead th {\n",
       "        text-align: right;\n",
       "    }\n",
       "</style>\n",
       "<table border=\"1\" class=\"dataframe\">\n",
       "  <thead>\n",
       "    <tr style=\"text-align: right;\">\n",
       "      <th></th>\n",
       "      <th>solution</th>\n",
       "      <th>probability</th>\n",
       "      <th>cost</th>\n",
       "    </tr>\n",
       "  </thead>\n",
       "  <tbody>\n",
       "    <tr>\n",
       "      <th>96</th>\n",
       "      <td>{'x_0': 1, 'x_1': 1, 'x_2': 1, 'x_3': 1, 'x_4'...</td>\n",
       "      <td>0.001953</td>\n",
       "      <td>-4.0</td>\n",
       "    </tr>\n",
       "    <tr>\n",
       "      <th>108</th>\n",
       "      <td>{'x_0': 0, 'x_1': 1, 'x_2': 1, 'x_3': 1, 'x_4'...</td>\n",
       "      <td>0.000977</td>\n",
       "      <td>-4.0</td>\n",
       "    </tr>\n",
       "    <tr>\n",
       "      <th>52</th>\n",
       "      <td>{'x_0': 1, 'x_1': 1, 'x_2': 0, 'x_3': 0, 'x_4'...</td>\n",
       "      <td>0.007812</td>\n",
       "      <td>-3.0</td>\n",
       "    </tr>\n",
       "    <tr>\n",
       "      <th>28</th>\n",
       "      <td>{'x_0': 0, 'x_1': 1, 'x_2': 0, 'x_3': 1, 'x_4'...</td>\n",
       "      <td>0.011230</td>\n",
       "      <td>-3.0</td>\n",
       "    </tr>\n",
       "    <tr>\n",
       "      <th>32</th>\n",
       "      <td>{'x_0': 0, 'x_1': 0, 'x_2': 0, 'x_3': 1, 'x_4'...</td>\n",
       "      <td>0.010254</td>\n",
       "      <td>-3.0</td>\n",
       "    </tr>\n",
       "  </tbody>\n",
       "</table>\n",
       "</div>"
      ],
      "text/plain": [
       "                                              solution  probability  cost\n",
       "96   {'x_0': 1, 'x_1': 1, 'x_2': 1, 'x_3': 1, 'x_4'...     0.001953  -4.0\n",
       "108  {'x_0': 0, 'x_1': 1, 'x_2': 1, 'x_3': 1, 'x_4'...     0.000977  -4.0\n",
       "52   {'x_0': 1, 'x_1': 1, 'x_2': 0, 'x_3': 0, 'x_4'...     0.007812  -3.0\n",
       "28   {'x_0': 0, 'x_1': 1, 'x_2': 0, 'x_3': 1, 'x_4'...     0.011230  -3.0\n",
       "32   {'x_0': 0, 'x_1': 0, 'x_2': 0, 'x_3': 1, 'x_4'...     0.010254  -3.0"
      ]
     },
     "execution_count": 9,
     "metadata": {},
     "output_type": "execute_result"
    }
   ],
   "source": [
    "optimization_result = combi.get_results()\n",
    "optimization_result.sort_values(by=\"cost\").head(5)"
   ]
  },
  {
   "cell_type": "code",
   "execution_count": 14,
   "id": "29cef77e-e7a3-419c-a5ba-7d889bf5a6ba",
   "metadata": {
    "execution": {
     "iopub.execute_input": "2024-05-07T15:59:27.762214Z",
     "iopub.status.busy": "2024-05-07T15:59:27.761227Z",
     "iopub.status.idle": "2024-05-07T15:59:27.912020Z",
     "shell.execute_reply": "2024-05-07T15:59:27.911357Z"
    },
    "tags": []
   },
   "outputs": [
    {
     "data": {
      "image/png": "[encoded data removed]",
      "text/plain": [
       "<Figure size 640x480 with 1 Axes>"
      ]
     },
     "metadata": {},
     "output_type": "display_data"
    }
   ],
   "source": [
    "import matplotlib.pyplot as plt\n",
    "\n",
    "best_solution = optimization_result.solution[optimization_result.cost.idxmin()]\n",
    "best_solution = [best_solution[f\"x_{v}\"] for v in range(len(best_solution))]\n",
    "\n",
    "one_hot_solution = np.array(best_solution).reshape([max_num_colors, len(graph.nodes)])\n",
    "integer_solution = np.argmax(one_hot_solution, axis=0)\n",
    "nx.draw_kamada_kawai(\n",
    "    graph, with_labels=True, node_color=integer_solution, cmap=plt.cm.rainbow\n",
    ")"
   ]
  },
  {
   "cell_type": "markdown",
   "id": "687f492b-a4a5-49c6-964c-8959b035bb93",
   "metadata": {},
   "source": [
    "And the histogram:"
   ]
  },
  {
   "cell_type": "code",
   "execution_count": 10,
   "id": "31a4e74d-b2b8-42e0-826d-de7b51de1fe8",
   "metadata": {
    "tags": []
   },
   "outputs": [
    {
     "data": {
      "text/plain": [
       "array([[<Axes: title={'center': 'cost'}>]], dtype=object)"
      ]
     },
     "execution_count": 10,
     "metadata": {},
     "output_type": "execute_result"
    },
    {
     "data": {
      "image/png": "[encoded data removed]",
      "text/plain": [
       "<Figure size 640x480 with 1 Axes>"
      ]
     },
     "metadata": {},
     "output_type": "display_data"
    }
   ],
   "source": [
    "optimization_result[\"cost\"].plot(\n",
    "    kind=\"hist\", bins=30, edgecolor=\"black\", weights=optimization_result[\"probability\"]\n",
    ")\n",
    "plt.ylabel(\"Probability\", fontsize=16)\n",
    "plt.xlabel(\"cost\", fontsize=16)\n",
    "plt.tick_params(axis=\"both\", labelsize=14)"
   ]
  },
  {
   "cell_type": "markdown",
   "id": "a3a890a1-c5d4-409d-b9a3-d7ffd4fdd6c0",
   "metadata": {},
   "source": [
    "Let us plot the solution:"
   ]
  },
  {
   "cell_type": "code",
   "execution_count": 11,
   "id": "4326e84b-26f6-4ea9-a53b-090fb3658b8c",
   "metadata": {
    "tags": []
   },
   "outputs": [
    {
     "data": {
      "text/plain": [
       "{'x_0': 1, 'x_1': 1, 'x_2': 1, 'x_3': 1, 'x_4': 0, 'x_5': 0, 'x_6': 0}"
      ]
     },
     "execution_count": 11,
     "metadata": {},
     "output_type": "execute_result"
    }
   ],
   "source": [
    "best_solution = optimization_result.solution[optimization_result.cost.idxmin()]\n",
    "best_solution"
   ]
  },
  {
   "cell_type": "markdown",
   "id": "226afe35-03e1-4a3c-a06d-5fa815a80550",
   "metadata": {},
   "source": [
    "## Classical optimizer results"
   ]
  },
  {
   "cell_type": "markdown",
   "id": "ecc3761d-99f6-4b69-907f-80c89a3dc8a7",
   "metadata": {},
   "source": [
    "Lastly, we can compare to the classical solution of the problem:"
   ]
  },
  {
   "cell_type": "code",
   "execution_count": 15,
   "id": "8cbac865-3363-4cce-b5a3-6176028060fa",
   "metadata": {
    "execution": {
     "iopub.execute_input": "2024-05-07T15:59:27.914604Z",
     "iopub.status.busy": "2024-05-07T15:59:27.914243Z",
     "iopub.status.idle": "2024-05-07T15:59:28.174157Z",
     "shell.execute_reply": "2024-05-07T15:59:28.173443Z"
    },
    "pycharm": {
     "name": "#%%\n"
    },
    "tags": []
   },
   "outputs": [
    {
     "name": "stdout",
     "output_type": "stream",
     "text": [
      "ERROR: Solver (asl) returned non-zero return code (-11)\n"
     ]
    },
    {
     "name": "stdout",
     "output_type": "stream",
     "text": [
      "ERROR: Solver log: Couenne 0.5.8 -- an Open-Source solver for Mixed Integer\n",
      "    Nonlinear Optimization Mailing list: couenne@list.coin-or.org\n",
      "    Instructions: http://www.coin-or.org/Couenne couenne:\n"
     ]
    },
    {
     "name": "stdout",
     "output_type": "stream",
     "text": [
      "Solver might have not exited normally. Try again\n",
      "Model unknown\n",
      "\n",
      "  Variables:\n",
      "    x : Size=15, Index=x_index\n",
      "        Key    : Lower : Value : Upper : Fixed : Stale : Domain\n",
      "        (0, 0) :     0 :  None :     1 : False :  True : Binary\n",
      "        (0, 1) :     0 :  None :     1 : False :  True : Binary\n",
      "        (0, 2) :     0 :  None :     1 : False :  True : Binary\n",
      "        (0, 3) :     0 :  None :     1 : False :  True : Binary\n",
      "        (0, 4) :     0 :  None :     1 : False :  True : Binary\n",
      "        (1, 0) :     0 :  None :     1 : False :  True : Binary\n",
      "        (1, 1) :     0 :  None :     1 : False :  True : Binary\n",
      "        (1, 2) :     0 :  None :     1 : False :  True : Binary\n",
      "        (1, 3) :     0 :  None :     1 : False :  True : Binary\n",
      "        (1, 4) :     0 :  None :     1 : False :  True : Binary\n",
      "        (2, 0) :     0 :  None :     1 : False :  True : Binary\n",
      "        (2, 1) :     0 :  None :     1 : False :  True : Binary\n",
      "        (2, 2) :     0 :  None :     1 : False :  True : Binary\n",
      "        (2, 3) :     0 :  None :     1 : False :  True : Binary\n",
      "        (2, 4) :     0 :  None :     1 : False :  True : Binary\n",
      "\n",
      "  Objectives:\n",
      "    value : Size=1, Index=None, Active=True\n",
      "ERROR: evaluating object as numeric value: x[0,0]\n",
      "        (object: <class 'pyomo.core.base.var._GeneralVarData'>)\n",
      "    No value for uninitialized NumericValue object x[0,0]\n"
     ]
    },
    {
     "name": "stdout",
     "output_type": "stream",
     "text": [
      "ERROR: evaluating object as numeric value: value\n",
      "        (object: <class 'pyomo.core.base.objective.ScalarObjective'>)\n",
      "    No value for uninitialized NumericValue object x[0,0]\n"
     ]
    },
    {
     "name": "stdout",
     "output_type": "stream",
     "text": [
      "        Key : Active : Value\n",
      "        None :   None :  None\n",
      "\n",
      "  Constraints:\n",
      "    conflicting_color_constraint : Size=1\n",
      "        Key  : Lower : Body : Upper\n",
      "        None :   0.0 : None :   0.0\n",
      "    each_vertex_is_colored : Size=5\n",
      "        Key : Lower : Body : Upper\n",
      "          0 :   1.0 : None :   1.0\n",
      "          1 :   1.0 : None :   1.0\n",
      "          2 :   1.0 : None :   1.0\n",
      "          3 :   1.0 : None :   1.0\n",
      "          4 :   1.0 : None :   1.0\n"
     ]
    }
   ],
   "source": [
    "from pyomo.common.errors import ApplicationError\n",
    "from pyomo.opt import SolverFactory\n",
    "\n",
    "solver = SolverFactory(\"couenne\")\n",
    "result = None\n",
    "try:\n",
    "    result = solver.solve(coloring_model)\n",
    "except ApplicationError:\n",
    "    print(\"Solver might have not exited normally. Try again\")\n",
    "\n",
    "coloring_model.display()"
   ]
  },
  {
   "cell_type": "code",
   "execution_count": 16,
   "id": "98c9e5ab-322c-423d-aa66-06ee696c6aab",
   "metadata": {
    "execution": {
     "iopub.execute_input": "2024-05-07T15:59:28.176765Z",
     "iopub.status.busy": "2024-05-07T15:59:28.176259Z",
     "iopub.status.idle": "2024-05-07T15:59:28.180545Z",
     "shell.execute_reply": "2024-05-07T15:59:28.179974Z"
    },
    "tags": []
   },
   "outputs": [],
   "source": [
    "if result:\n",
    "    classical_solution = [\n",
    "        pyo.value(coloring_model.x[i, j])\n",
    "        for i in range(max_num_colors)\n",
    "        for j in range(len(graph.nodes))\n",
    "    ]\n",
    "    one_hot_solution = np.array(classical_solution).reshape(\n",
    "        [max_num_colors, len(graph.nodes)]\n",
    "    )\n",
    "    integer_solution = np.argmax(one_hot_solution, axis=0)\n",
    "    nx.draw_kamada_kawai(\n",
    "        graph, with_labels=True, node_color=integer_solution, cmap=plt.cm.rainbow\n",
    "    )"
   ]
  },
  {
   "cell_type": "markdown",
   "id": "e82b5953-122a-4707-8ab6-f741f14f13a5",
   "metadata": {
    "pycharm": {
     "name": "#%% md\n"
    },
    "tags": []
   },
   "source": [
    "\n",
    "## References\n",
    "\n",
    "<a id='QAOA'>[1]</a>: [Farhi, Edward, Jeffrey Goldstone, and Sam Gutmann. \"A quantum approximate optimization algorithm.\" arXiv preprint arXiv:1411.4028 (2014).](https://arxiv.org/abs/1411.4028)\n",
    "\n",
    "<a id='cvar'>[2]</a>: [Barkoutsos, Panagiotis Kl, et al. \"Improving variational quantum optimization using CVaR.\" Quantum 4 (2020): 256.](https://arxiv.org/abs/1907.04769)\n"
   ]
  }
 ],
 "metadata": {
  "kernelspec": {
   "display_name": "Python 3 (ipykernel)",
   "language": "python",
   "name": "python3"
  },
  "language_info": {
   "codemirror_mode": {
    "name": "ipython",
    "version": 3
   },
   "file_extension": ".py",
   "mimetype": "text/x-python",
   "name": "python",
   "nbconvert_exporter": "python",
   "pygments_lexer": "ipython3",
   "version": "3.11.4"
  },
  "vscode": {
   "interpreter": {
    "hash": "a07aacdcc8a415e7643a2bc993226848ff70704ebef014f87460de9126b773d0"
   }
  }
 },
 "nbformat": 4,
 "nbformat_minor": 5
}
