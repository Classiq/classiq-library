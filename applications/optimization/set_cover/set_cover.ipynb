{
 "cells": [
  {
   "cell_type": "markdown",
   "id": "acdcdf8c-96e0-40c3-80de-edbb55839e13",
   "metadata": {
    "jp-MarkdownHeadingCollapsed": true,
    "tags": []
   },
   "source": [
    "\n",
    "# Set Cover Problem\n"
   ]
  },
  {
   "cell_type": "markdown",
   "id": "c01e205c-4ff3-4ffd-94ce-e600917fa226",
   "metadata": {},
   "source": [
    "## Introduction\n",
    "\n",
    "The set cover problem [[1]](#SetCoverWiki) represents a well-known problem in the fields of combinatorics, computer science, and complexity theory. It is an NP-complete problems.\n",
    "\n",
    "The problem presents us with a universal set, $\\displaystyle U$, and a collection $\\displaystyle S$ of subsets of $\\displaystyle U$. The goal is to find the smallest possible subfamily, $\\displaystyle C \\subseteq S$, whose union equals the universal set.\n",
    "\n",
    "Formally, let's consider a universal set $\\displaystyle U = {1, 2, ..., n}$ and a collection $\\displaystyle S$ containing $m$ subsets of $\\displaystyle U$, $\\displaystyle S = {S_1, ..., S_m}$ with $\\displaystyle S_i \\subseteq U$. The challenge of the set cover problem is to find a subset $\\displaystyle C$ of $\\displaystyle S$ of minimal size such that $\\displaystyle \\bigcup_{S_i \\in C} S_i = U$.\n",
    "\n",
    "# Solving with the Classiq platform\n",
    "\n",
    "We go through the steps of solving the problem with the Classiq platform, using QAOA algorithm [[2](#QAOA)]. The solution is based on defining a pyomo model for the optimization problem we would like to solve."
   ]
  },
  {
   "cell_type": "markdown",
   "id": "8517ef73-faf6-4fd8-9db8-4088551398e0",
   "metadata": {},
   "source": [
    "## Building the Pyomo model from an input\n",
    "\n",
    "We proceed by defining the pyomo model that will be used on the Classiq platform, using the mathematical formulation defined above:"
   ]
  },
  {
   "cell_type": "code",
   "execution_count": 1,
   "id": "4c9dd3a1-1f62-42af-9fee-d10972468138",
   "metadata": {
    "tags": []
   },
   "outputs": [],
   "source": [
    "import itertools\n",
    "from typing import List\n",
    "\n",
    "import pyomo.core as pyo\n",
    "\n",
    "\n",
    "def set_cover(sub_sets: List[List[int]]) -> pyo.ConcreteModel:\n",
    "    entire_set = set(itertools.chain(*sub_sets))\n",
    "    n = max(entire_set)\n",
    "    num_sets = len(sub_sets)\n",
    "    assert entire_set == set(\n",
    "        range(1, n + 1)\n",
    "    ), f\"the union of the subsets is {entire_set} not equal to range(1, {n + 1})\"\n",
    "\n",
    "    model = pyo.ConcreteModel()\n",
    "    model.x = pyo.Var(range(num_sets), domain=pyo.Binary)\n",
    "\n",
    "    @model.Constraint(entire_set)\n",
    "    def independent_rule(model, num):\n",
    "        return sum(model.x[idx] for idx in range(num_sets) if num in sub_sets[idx]) >= 1\n",
    "\n",
    "    model.cost = pyo.Objective(expr=sum(model.x.values()), sense=pyo.minimize)\n",
    "\n",
    "    return model"
   ]
  },
  {
   "cell_type": "markdown",
   "id": "58060aae-2336-4c01-bd4f-4529ff6d658a",
   "metadata": {},
   "source": [
    "The model contains:\n",
    "\n",
    "- Binary variable for each subset (model.x) indicating if it is included in the sub-collection.\n",
    "- Objective rule – the size of the sub-collection.\n",
    "- Constraint – the sub-collection covers the original set."
   ]
  },
  {
   "cell_type": "code",
   "execution_count": 2,
   "id": "f01725a9-40d9-40ef-9915-19363e9a31da",
   "metadata": {
    "tags": []
   },
   "outputs": [],
   "source": [
    "sub_sets = sub_sets = [\n",
    "    [1, 2, 3, 4],\n",
    "    [2, 3, 4, 5],\n",
    "    [6, 7],\n",
    "    [8, 9, 10],\n",
    "    [1, 6, 8],\n",
    "    [3, 7, 9],\n",
    "    [4, 7, 10],\n",
    "    [2, 5, 8],\n",
    "]\n",
    "\n",
    "set_cover_model = set_cover(sub_sets)"
   ]
  },
  {
   "cell_type": "code",
   "execution_count": 3,
   "id": "a972ae72-1232-4398-8914-91b025b86587",
   "metadata": {
    "tags": []
   },
   "outputs": [
    {
     "name": "stdout",
     "output_type": "stream",
     "text": [
      "2 Set Declarations\n",
      "    independent_rule_index : Size=1, Index=None, Ordered=False\n",
      "        Key  : Dimen : Domain : Size : Members\n",
      "        None :     1 :    Any :   10 : {1, 2, 3, 4, 5, 6, 7, 8, 9, 10}\n",
      "    x_index : Size=1, Index=None, Ordered=Insertion\n",
      "        Key  : Dimen : Domain : Size : Members\n",
      "        None :     1 :    Any :    8 : {0, 1, 2, 3, 4, 5, 6, 7}\n",
      "\n",
      "1 Var Declarations\n",
      "    x : Size=8, Index=x_index\n",
      "        Key : Lower : Value : Upper : Fixed : Stale : Domain\n",
      "          0 :     0 :  None :     1 : False :  True : Binary\n",
      "          1 :     0 :  None :     1 : False :  True : Binary\n",
      "          2 :     0 :  None :     1 : False :  True : Binary\n",
      "          3 :     0 :  None :     1 : False :  True : Binary\n",
      "          4 :     0 :  None :     1 : False :  True : Binary\n",
      "          5 :     0 :  None :     1 : False :  True : Binary\n",
      "          6 :     0 :  None :     1 : False :  True : Binary\n",
      "          7 :     0 :  None :     1 : False :  True : Binary\n",
      "\n",
      "1 Objective Declarations\n",
      "    cost : Size=1, Index=None, Active=True\n",
      "        Key  : Active : Sense    : Expression\n",
      "        None :   True : minimize : x[0] + x[1] + x[2] + x[3] + x[4] + x[5] + x[6] + x[7]\n",
      "\n",
      "1 Constraint Declarations\n",
      "    independent_rule : Size=10, Index=independent_rule_index, Active=True\n",
      "        Key : Lower : Body               : Upper : Active\n",
      "          1 :   1.0 :        x[0] + x[4] :  +Inf :   True\n",
      "          2 :   1.0 : x[0] + x[1] + x[7] :  +Inf :   True\n",
      "          3 :   1.0 : x[0] + x[1] + x[5] :  +Inf :   True\n",
      "          4 :   1.0 : x[0] + x[1] + x[6] :  +Inf :   True\n",
      "          5 :   1.0 :        x[1] + x[7] :  +Inf :   True\n",
      "          6 :   1.0 :        x[2] + x[4] :  +Inf :   True\n",
      "          7 :   1.0 : x[2] + x[5] + x[6] :  +Inf :   True\n",
      "          8 :   1.0 : x[3] + x[4] + x[7] :  +Inf :   True\n",
      "          9 :   1.0 :        x[3] + x[5] :  +Inf :   True\n",
      "         10 :   1.0 :        x[3] + x[6] :  +Inf :   True\n",
      "\n",
      "5 Declarations: x_index x independent_rule_index independent_rule cost\n"
     ]
    }
   ],
   "source": [
    "set_cover_model.pprint()"
   ]
  },
  {
   "cell_type": "markdown",
   "id": "17ea14ec-dbb7-487c-b4f1-cabc8d5e3c29",
   "metadata": {
    "tags": []
   },
   "source": [
    "## Setting Up the Classiq Problem Instance\n",
    "\n",
    "In order to solve the Pyomo model defined above, we use the `CombinatorialProblem` quantum object. Under the hood it tranlastes the Pyomo model to a quantum model of the QAOA algorithm, with a cost function translated from the Pyomo model. We can choose the number of layers for the QAOA ansatz using the argument `num_layers`, and the `penalty_factor`, which will be the coefficient of the constraints term in the cost hamiltonian."
   ]
  },
  {
   "cell_type": "code",
   "execution_count": 4,
   "id": "816b468f-a59f-4f2f-8337-4a9d66548425",
   "metadata": {
    "tags": []
   },
   "outputs": [],
   "source": [
    "from classiq import *\n",
    "from classiq.applications.combinatorial_optimization import CombinatorialProblem\n",
    "\n",
    "combi = CombinatorialProblem(pyo_model=set_cover_model, num_layers=3, penalty_factor=10)\n",
    "\n",
    "qmod = combi.get_model()"
   ]
  },
  {
   "cell_type": "code",
   "execution_count": 5,
   "id": "62ec28b3-cb49-411a-8c4a-8004fff6c105",
   "metadata": {},
   "outputs": [],
   "source": [
    "write_qmod(qmod, \"set_cover\")"
   ]
  },
  {
   "cell_type": "markdown",
   "id": "943291f0-6a9f-4286-a69d-ef13a0a12ef6",
   "metadata": {},
   "source": [
    "## Synthesizing the QAOA Circuit and Solving the Problem\n",
    "\n",
    "We can now synthesize and view the QAOA circuit (ansatz) used to solve the optimization problem:"
   ]
  },
  {
   "cell_type": "code",
   "execution_count": 6,
   "id": "1d71e29a-5d53-49c4-84b2-45f59be4da31",
   "metadata": {
    "pycharm": {
     "name": "#%%\n"
    },
    "tags": []
   },
   "outputs": [
    {
     "name": "stdout",
     "output_type": "stream",
     "text": [
      "Opening: https://platform.classiq.io/circuit/2uni1K3ji6eBcMhHMKRRewe8Ozy?login=True&version=0.72.1\n"
     ]
    }
   ],
   "source": [
    "qprog = combi.get_qprog()\n",
    "show(qprog)"
   ]
  },
  {
   "cell_type": "markdown",
   "id": "07621d7c-0e54-4adb-9c47-8fd99a346e29",
   "metadata": {},
   "source": [
    "We now solve the problem by calling the `optimize` method of the `CombinatorialProblem` object. For the classical optimization part of the QAOA algorithm we define the maximum number of classical iterations (`maxiter`) and the $\\alpha$-parameter (`quantile`) for running CVaR-QAOA, an improved variation of the QAOA algorithm [[3](#cvar)]:"
   ]
  },
  {
   "cell_type": "code",
   "execution_count": 8,
   "id": "62d12d20-1c80-4a9e-bb6b-b1fddc6cbe40",
   "metadata": {
    "scrolled": true,
    "tags": []
   },
   "outputs": [
    {
     "name": "stderr",
     "output_type": "stream",
     "text": [
      "Optimization Progress: 61it [10:48, 10.63s/it]                                                                                                                                                                                                                                \n"
     ]
    }
   ],
   "source": [
    "optimized_params = combi.optimize(maxiter=60, quantile=0.7)"
   ]
  },
  {
   "cell_type": "markdown",
   "id": "620ea6a0-cd05-41a9-a2ed-9631c680d2e6",
   "metadata": {},
   "source": [
    "We can check the convergence of the run:"
   ]
  },
  {
   "cell_type": "code",
   "execution_count": 9,
   "id": "02454398-b229-403c-824a-b1eb539fbc1f",
   "metadata": {
    "tags": []
   },
   "outputs": [
    {
     "data": {
      "text/plain": [
       "Text(0.5, 1.0, 'Cost convergence')"
      ]
     },
     "execution_count": 9,
     "metadata": {},
     "output_type": "execute_result"
    },
    {
     "data": {
      "image/png": "[encoded data removed]",
      "text/plain": [
       "<Figure size 640x480 with 1 Axes>"
      ]
     },
     "metadata": {},
     "output_type": "display_data"
    }
   ],
   "source": [
    "import matplotlib.pyplot as plt\n",
    "\n",
    "fig, axes = plt.subplots(nrows=1, ncols=1)\n",
    "axes.plot(combi.cost_trace)\n",
    "axes.set_xlabel(\"Iterations\")\n",
    "axes.set_ylabel(\"Cost\")\n",
    "axes.set_title(\"Cost convergence\")"
   ]
  },
  {
   "cell_type": "markdown",
   "id": "615ed612-b835-4bf0-aa92-92d30ef8006d",
   "metadata": {
    "tags": []
   },
   "source": [
    "# Optimization Results"
   ]
  },
  {
   "cell_type": "markdown",
   "id": "670eddd3-2da7-4a88-b571-7884ef24f60c",
   "metadata": {},
   "source": [
    "We can also examine the statistics of the algorithm. In order to get samples with the optimized parameters, we call the `get_results` method:"
   ]
  },
  {
   "cell_type": "code",
   "execution_count": 10,
   "id": "9638f749-a60b-4176-a4ea-50d7c2bb986f",
   "metadata": {},
   "outputs": [
    {
     "data": {
      "text/html": [
       "<div>\n",
       "<style scoped>\n",
       "    .dataframe tbody tr th:only-of-type {\n",
       "        vertical-align: middle;\n",
       "    }\n",
       "\n",
       "    .dataframe tbody tr th {\n",
       "        vertical-align: top;\n",
       "    }\n",
       "\n",
       "    .dataframe thead th {\n",
       "        text-align: right;\n",
       "    }\n",
       "</style>\n",
       "<table border=\"1\" class=\"dataframe\">\n",
       "  <thead>\n",
       "    <tr style=\"text-align: right;\">\n",
       "      <th></th>\n",
       "      <th>solution</th>\n",
       "      <th>probability</th>\n",
       "      <th>cost</th>\n",
       "    </tr>\n",
       "  </thead>\n",
       "  <tbody>\n",
       "    <tr>\n",
       "      <th>1881</th>\n",
       "      <td>{'x': [1, 0, 1, 1, 0, 0, 0, 1], 'independent_r...</td>\n",
       "      <td>0.000488</td>\n",
       "      <td>4.0</td>\n",
       "    </tr>\n",
       "    <tr>\n",
       "      <th>121</th>\n",
       "      <td>{'x': [0, 1, 1, 1, 0, 1, 0, 0], 'independent_r...</td>\n",
       "      <td>0.000488</td>\n",
       "      <td>24.0</td>\n",
       "    </tr>\n",
       "    <tr>\n",
       "      <th>942</th>\n",
       "      <td>{'x': [0, 1, 0, 1, 1, 1, 0, 0], 'independent_r...</td>\n",
       "      <td>0.000488</td>\n",
       "      <td>24.0</td>\n",
       "    </tr>\n",
       "    <tr>\n",
       "      <th>1920</th>\n",
       "      <td>{'x': [0, 0, 0, 0, 1, 1, 1, 1], 'independent_r...</td>\n",
       "      <td>0.000488</td>\n",
       "      <td>24.0</td>\n",
       "    </tr>\n",
       "    <tr>\n",
       "      <th>1338</th>\n",
       "      <td>{'x': [0, 1, 0, 1, 1, 1, 0, 0], 'independent_r...</td>\n",
       "      <td>0.000488</td>\n",
       "      <td>24.0</td>\n",
       "    </tr>\n",
       "  </tbody>\n",
       "</table>\n",
       "</div>"
      ],
      "text/plain": [
       "                                               solution  probability  cost\n",
       "1881  {'x': [1, 0, 1, 1, 0, 0, 0, 1], 'independent_r...     0.000488   4.0\n",
       "121   {'x': [0, 1, 1, 1, 0, 1, 0, 0], 'independent_r...     0.000488  24.0\n",
       "942   {'x': [0, 1, 0, 1, 1, 1, 0, 0], 'independent_r...     0.000488  24.0\n",
       "1920  {'x': [0, 0, 0, 0, 1, 1, 1, 1], 'independent_r...     0.000488  24.0\n",
       "1338  {'x': [0, 1, 0, 1, 1, 1, 0, 0], 'independent_r...     0.000488  24.0"
      ]
     },
     "execution_count": 10,
     "metadata": {},
     "output_type": "execute_result"
    }
   ],
   "source": [
    "optimization_result = combi.sample(optimized_params)\n",
    "optimization_result.sort_values(by=\"cost\").head(5)"
   ]
  },
  {
   "cell_type": "markdown",
   "id": "5a6de80d-dc15-425e-a135-0ecbe9d22ca2",
   "metadata": {},
   "source": [
    "We also want to compare the optimized results to uniformly sampled results:"
   ]
  },
  {
   "cell_type": "code",
   "execution_count": 11,
   "id": "b4fd5b8d-c801-4bb7-accc-db93e81f9cee",
   "metadata": {},
   "outputs": [],
   "source": [
    "uniform_result = combi.sample_uniform()"
   ]
  },
  {
   "cell_type": "markdown",
   "id": "b1ab700c-11fe-4103-af73-a0bbaa5187d4",
   "metadata": {},
   "source": [
    "And compare the histograms:"
   ]
  },
  {
   "cell_type": "code",
   "execution_count": 12,
   "id": "11de7e00-baca-49fd-8f5d-36facd38ab1d",
   "metadata": {
    "tags": []
   },
   "outputs": [
    {
     "data": {
      "image/png": "[encoded data removed]",
      "text/plain": [
       "<Figure size 640x480 with 1 Axes>"
      ]
     },
     "metadata": {},
     "output_type": "display_data"
    }
   ],
   "source": [
    "optimization_result[\"cost\"].plot(\n",
    "    kind=\"hist\",\n",
    "    bins=50,\n",
    "    edgecolor=\"black\",\n",
    "    weights=optimization_result[\"probability\"],\n",
    "    alpha=0.6,\n",
    "    label=\"optimized\",\n",
    ")\n",
    "uniform_result[\"cost\"].plot(\n",
    "    kind=\"hist\",\n",
    "    bins=50,\n",
    "    edgecolor=\"black\",\n",
    "    weights=uniform_result[\"probability\"],\n",
    "    alpha=0.6,\n",
    "    label=\"uniform\",\n",
    ")\n",
    "plt.legend()\n",
    "plt.ylabel(\"Probability\", fontsize=16)\n",
    "plt.xlabel(\"cost\", fontsize=16)\n",
    "plt.tick_params(axis=\"both\", labelsize=14)"
   ]
  },
  {
   "cell_type": "markdown",
   "id": "a3a890a1-c5d4-409d-b9a3-d7ffd4fdd6c0",
   "metadata": {},
   "source": [
    "Let us plot the solution:"
   ]
  },
  {
   "cell_type": "code",
   "execution_count": 13,
   "id": "187d0102-25db-499f-876d-63283db642a8",
   "metadata": {},
   "outputs": [
    {
     "data": {
      "text/plain": [
       "[1, 0, 1, 1, 0, 0, 0, 1]"
      ]
     },
     "execution_count": 13,
     "metadata": {},
     "output_type": "execute_result"
    }
   ],
   "source": [
    "best_solution = optimization_result.solution[optimization_result.cost.idxmin()]\n",
    "best_solution = [best_solution[\"x\"][i] for i in range(len(best_solution[\"x\"]))]\n",
    "best_solution"
   ]
  },
  {
   "cell_type": "code",
   "execution_count": 14,
   "id": "ea2eab42-51c7-4163-a79e-27051beaf19d",
   "metadata": {},
   "outputs": [
    {
     "name": "stdout",
     "output_type": "stream",
     "text": [
      "Quantum Solution: num_sets=4, sets=[[1, 2, 3, 4], [6, 7], [8, 9, 10], [2, 5, 8]]\n"
     ]
    }
   ],
   "source": [
    "print(\n",
    "    f\"Quantum Solution: num_sets={int(sum(best_solution))}, sets={[sub_sets[i] for i in range(len(best_solution)) if best_solution[i]]}\"\n",
    ")"
   ]
  },
  {
   "cell_type": "markdown",
   "id": "149932e1-bfa8-4c27-b5f9-037e74eba400",
   "metadata": {},
   "source": [
    "## Comparison to a classical solver"
   ]
  },
  {
   "cell_type": "markdown",
   "id": "dde1905d-aeff-4297-a9d3-ad14910e6161",
   "metadata": {},
   "source": [
    "Lastly, we can compare to the classical solution of the problem:"
   ]
  },
  {
   "cell_type": "code",
   "execution_count": 15,
   "id": "5a7ca4b6-25a0-46dd-b5cc-de6a639a6f57",
   "metadata": {
    "pycharm": {
     "name": "#%%\n"
    },
    "tags": []
   },
   "outputs": [
    {
     "name": "stdout",
     "output_type": "stream",
     "text": [
      "Classical solution: [1, 1, 1, 1, 0, 0, 0, 0]\n"
     ]
    }
   ],
   "source": [
    "from pyomo.opt import SolverFactory\n",
    "\n",
    "solver = SolverFactory(\"couenne\")\n",
    "solver.solve(set_cover_model)\n",
    "classical_solution = [\n",
    "    int(pyo.value(set_cover_model.x[i])) for i in range(len(set_cover_model.x))\n",
    "]\n",
    "print(\"Classical solution:\", classical_solution)"
   ]
  },
  {
   "cell_type": "code",
   "execution_count": 16,
   "id": "ac9b02a1-4293-4759-b41b-3a5d6d4101c1",
   "metadata": {
    "tags": []
   },
   "outputs": [
    {
     "name": "stdout",
     "output_type": "stream",
     "text": [
      "Classical Solution: num_sets=4, sets=[[1, 2, 3, 4], [2, 3, 4, 5], [6, 7], [8, 9, 10]]\n"
     ]
    }
   ],
   "source": [
    "print(\n",
    "    f\"Classical Solution: num_sets={int(sum(classical_solution))}, sets={[sub_sets[i] for i in range(len(classical_solution)) if classical_solution[i]]}\"\n",
    ")"
   ]
  },
  {
   "cell_type": "markdown",
   "id": "e82b5953-122a-4707-8ab6-f741f14f13a5",
   "metadata": {
    "pycharm": {
     "name": "#%% md\n"
    },
    "tags": []
   },
   "source": [
    "\n",
    "## References\n",
    "\n",
    "<a id='MVC'>[1]</a>: [Integer Programming (Wikipedia).](https://en.wikipedia.org/wiki/Integer_programming)\n",
    "\n",
    "<a id='QAOA'>[2]</a>: [Farhi, Edward, Jeffrey Goldstone, and Sam Gutmann. \"A quantum approximate optimization algorithm.\" arXiv preprint arXiv:1411.4028 (2014).](https://arxiv.org/abs/1411.4028)\n",
    "\n",
    "<a id='cvar'>[3]</a>: [Barkoutsos, Panagiotis Kl, et al. \"Improving variational quantum optimization using CVaR.\" Quantum 4 (2020): 256.](https://arxiv.org/abs/1907.04769)\n"
   ]
  }
 ],
 "metadata": {
  "kernelspec": {
   "display_name": "Python 3 (ipykernel)",
   "language": "python",
   "name": "python3"
  },
  "language_info": {
   "codemirror_mode": {
    "name": "ipython",
    "version": 3
   },
   "file_extension": ".py",
   "mimetype": "text/x-python",
   "name": "python",
   "nbconvert_exporter": "python",
   "pygments_lexer": "ipython3",
   "version": "3.11.4"
  },
  "vscode": {
   "interpreter": {
    "hash": "a07aacdcc8a415e7643a2bc993226848ff70704ebef014f87460de9126b773d0"
   }
  }
 },
 "nbformat": 4,
 "nbformat_minor": 5
}
