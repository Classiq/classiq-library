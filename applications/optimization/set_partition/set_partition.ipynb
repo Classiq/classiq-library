{
 "cells": [
  {
   "cell_type": "markdown",
   "id": "11d8810e-c1b2-458c-bf28-ecab44a01cc2",
   "metadata": {
    "tags": []
   },
   "source": [
    "\n",
    "# Number Partition Problem\n"
   ]
  },
  {
   "cell_type": "markdown",
   "id": "877ae3cf-10cc-4e51-a428-eb57687d8d18",
   "metadata": {},
   "source": [
    "## Introduction\n",
    "\n",
    "In the Number Partitioning Problem [[1](#PartitionWiki)] we need to find how to partition a set of integers into two subsets of equal sums. In case such a partition does not exist, we can ask for a partition where the difference between the sums is minimal.\n",
    "\n",
    "## Mathematical formulation\n",
    "\n",
    "Given a set of numbers $S=\\{s_1,s_2,...,s_n\\}$, a partition is defined as $P_1,P_2 \\subset \\{1,...,n\\}$, with $P_1\\cup P_2=\\{1,...,n\\}$ and $P_1\\cap P_2=\\emptyset$. In the Number Partitioning Problem we need to determine a partition such that $|\\sum_{j\\in P_1}s_j-\\sum_{j\\in P_2}s_j|$ is minimal. A partition can be represented by a binary vector $x$ of size $n$, where we assign 0 or 1 for being in $P_1$ or $P_2$, respectively. The quantity we ask to minimize is $|\\vec{x}\\cdot \\vec{s}-(1-\\vec{x})\\cdot\\vec{s}|=|(2\\vec{x}-1)\\cdot\\vec{s}|$. In practice we will minimize the square of this expression.\n",
    "\n",
    "# Solving with the Classiq platform\n",
    "\n",
    "We go through the steps of solving the problem with the Classiq platform, using QAOA algorithm [[2](#QAOA)]. The solution is based on defining a pyomo model for the optimization problem we would like to solve."
   ]
  },
  {
   "cell_type": "code",
   "execution_count": 1,
   "id": "49a9588b-e79e-4813-b7c5-ac068d7b930c",
   "metadata": {
    "tags": []
   },
   "outputs": [],
   "source": [
    "import networkx as nx\n",
    "import numpy as np\n",
    "import pyomo.core as pyo\n",
    "from matplotlib import pyplot as plt"
   ]
  },
  {
   "cell_type": "markdown",
   "id": "8517ef73-faf6-4fd8-9db8-4088551398e0",
   "metadata": {},
   "source": [
    "## Building the Pyomo model from a graph input\n",
    "\n",
    "We proceed by defining the Pyomo model that will be used on the Classiq platform, using the mathematical formulation defined above:"
   ]
  },
  {
   "cell_type": "code",
   "execution_count": 2,
   "id": "48889b21-557b-481c-80c5-3c0b5c91adb6",
   "metadata": {
    "tags": []
   },
   "outputs": [],
   "source": [
    "# we define a matrix which gets a set of integers s and returns a pyomo model for the partitioning problem\n",
    "def partite(s) -> pyo.ConcreteModel:\n",
    "    model = pyo.ConcreteModel()\n",
    "    SetSize = len(s)  # the set size\n",
    "    model.x = pyo.Var(\n",
    "        range(SetSize), domain=pyo.Binary\n",
    "    )  # our variable is a binary vector\n",
    "\n",
    "    # we define a cost function\n",
    "    model.cost = pyo.Objective(\n",
    "        expr=sum(((2 * model.x[i] - 1) * s[i]) for i in range(SetSize)) ** 2,\n",
    "        sense=pyo.minimize,\n",
    "    )\n",
    "\n",
    "    return model"
   ]
  },
  {
   "cell_type": "code",
   "execution_count": 3,
   "id": "69359e3e-ed85-4b56-9afb-9dd4b9997ada",
   "metadata": {
    "tags": []
   },
   "outputs": [
    {
     "name": "stdout",
     "output_type": "stream",
     "text": [
      "This is my list:  [8, 8, 8, 5, 5, 6, 5, 6, 8, 11]\n"
     ]
    }
   ],
   "source": [
    "Myset = np.random.randint(1, 12, 10)\n",
    "mylist = [int(x) for x in Myset]\n",
    "print(\"This is my list: \", mylist)\n",
    "set_partition_model = partite(mylist)"
   ]
  },
  {
   "cell_type": "code",
   "execution_count": 4,
   "id": "4a985b32-0670-42f3-ba50-5c0097eb75f5",
   "metadata": {
    "scrolled": true,
    "tags": []
   },
   "outputs": [
    {
     "name": "stdout",
     "output_type": "stream",
     "text": [
      "1 Set Declarations\n",
      "    x_index : Size=1, Index=None, Ordered=Insertion\n",
      "        Key  : Dimen : Domain : Size : Members\n",
      "        None :     1 :    Any :   10 : {0, 1, 2, 3, 4, 5, 6, 7, 8, 9}\n",
      "\n",
      "1 Var Declarations\n",
      "    x : Size=10, Index=x_index\n",
      "        Key : Lower : Value : Upper : Fixed : Stale : Domain\n",
      "          0 :     0 :  None :     1 : False :  True : Binary\n",
      "          1 :     0 :  None :     1 : False :  True : Binary\n",
      "          2 :     0 :  None :     1 : False :  True : Binary\n",
      "          3 :     0 :  None :     1 : False :  True : Binary\n",
      "          4 :     0 :  None :     1 : False :  True : Binary\n",
      "          5 :     0 :  None :     1 : False :  True : Binary\n",
      "          6 :     0 :  None :     1 : False :  True : Binary\n",
      "          7 :     0 :  None :     1 : False :  True : Binary\n",
      "          8 :     0 :  None :     1 : False :  True : Binary\n",
      "          9 :     0 :  None :     1 : False :  True : Binary\n",
      "\n",
      "1 Objective Declarations\n",
      "    cost : Size=1, Index=None, Active=True\n",
      "        Key  : Active : Sense    : Expression\n",
      "        None :   True : minimize : ((2*x[0] - 1)*8 + (2*x[1] - 1)*8 + (2*x[2] - 1)*8 + (2*x[3] - 1)*5 + (2*x[4] - 1)*5 + (2*x[5] - 1)*6 + (2*x[6] - 1)*5 + (2*x[7] - 1)*6 + (2*x[8] - 1)*8 + (2*x[9] - 1)*11)**2\n",
      "\n",
      "3 Declarations: x_index x cost\n"
     ]
    }
   ],
   "source": [
    "set_partition_model.pprint()"
   ]
  },
  {
   "cell_type": "markdown",
   "id": "0b790906-3951-49e9-b8f7-3e692255563b",
   "metadata": {
    "tags": []
   },
   "source": [
    "## Setting Up the Classiq Problem Instance\n",
    "\n",
    "In order to solve the Pyomo model defined above, we use the `CombinatorialProblem` python class. Under the hood it tranlates the Pyomo model to a quantum model of the QAOA algorithm, with cost hamiltonian translated from the Pyomo model. We can choose the number of layers for the QAOA ansatz using the argument `num_layers`, and the `penalty_factor`, which will be the coefficient of the constraints term in the cost hamiltonian."
   ]
  },
  {
   "cell_type": "code",
   "execution_count": 5,
   "id": "2c26a32e-1035-482c-a5f4-d8dcb428b0a8",
   "metadata": {
    "tags": []
   },
   "outputs": [],
   "source": [
    "from classiq import *\n",
    "from classiq.applications.combinatorial_optimization import CombinatorialProblem\n",
    "\n",
    "combi = CombinatorialProblem(\n",
    "    pyo_model=set_partition_model, num_layers=3, penalty_factor=10\n",
    ")\n",
    "\n",
    "qmod = combi.get_model()"
   ]
  },
  {
   "cell_type": "code",
   "execution_count": 6,
   "id": "4192e734-85ed-47f3-a8a3-b463f0dadcea",
   "metadata": {},
   "outputs": [],
   "source": [
    "write_qmod(qmod, \"set_partition\")"
   ]
  },
  {
   "cell_type": "markdown",
   "id": "a5c8e5a9-8fe8-4ca8-a31c-89c9e9b75fc2",
   "metadata": {},
   "source": [
    "## Synthesizing the QAOA Circuit and Solving the Problem\n",
    "\n",
    "We can now synthesize and view the QAOA circuit (ansatz) used to solve the optimization problem:"
   ]
  },
  {
   "cell_type": "code",
   "execution_count": 7,
   "id": "d6bcc87b-7504-41ee-8412-c1161256d0ba",
   "metadata": {
    "pycharm": {
     "name": "#%%\n"
    },
    "scrolled": true,
    "tags": []
   },
   "outputs": [
    {
     "name": "stdout",
     "output_type": "stream",
     "text": [
      "Opening: https://nightly.platform.classiq.io/circuit/aec5c205-9edc-4e25-9812-ce23575c5542?version=0.62.0.dev9\n"
     ]
    }
   ],
   "source": [
    "qprog = combi.get_qprog()\n",
    "show(qprog)"
   ]
  },
  {
   "cell_type": "markdown",
   "id": "34c6ac30-97f4-4cc1-9eb3-c32a79b23c66",
   "metadata": {},
   "source": [
    "We also set the quantum backend we want to execute on:"
   ]
  },
  {
   "cell_type": "code",
   "execution_count": 8,
   "id": "2b2c8aea-0228-41a6-88c7-bddea1e29eba",
   "metadata": {},
   "outputs": [],
   "source": [
    "from classiq.execution import *\n",
    "\n",
    "execution_preferences = ExecutionPreferences(\n",
    "    backend_preferences=ClassiqBackendPreferences(backend_name=\"simulator\"),\n",
    ")"
   ]
  },
  {
   "cell_type": "markdown",
   "id": "edbf9187-9329-487d-abed-1a3640aa25ad",
   "metadata": {},
   "source": [
    "We now solve the problem by calling the `optimize` method of the `CombinatorialProblem` object. For the classical optimization part of the QAOA algorithm we define the maximum number of classical iterations (`maxiter`) and the $\\alpha$-parameter (`quantile`) for running CVaR-QAOA, an improved variation of the QAOA algorithm [[3](#cvar)]:"
   ]
  },
  {
   "cell_type": "code",
   "execution_count": 31,
   "id": "5dcfa7ce-09e6-41ac-be81-298a281ba051",
   "metadata": {
    "tags": []
   },
   "outputs": [
    {
     "name": "stderr",
     "output_type": "stream",
     "text": [
      "Optimization Progress:  70%|█████████████████████████████████████████████████████████████████████████████████████████████████████████████████████████████████▌                                                       | 56/80 [02:08<00:55,  2.29s/it]\n"
     ]
    }
   ],
   "source": [
    "optimized_params = combi.optimize(execution_preferences, maxiter=80, quantile=0.7)"
   ]
  },
  {
   "cell_type": "markdown",
   "id": "c2cd6e58-981a-47c8-8fd7-5f2a9bebbc31",
   "metadata": {},
   "source": [
    "We can check the convergence of the run:"
   ]
  },
  {
   "cell_type": "code",
   "execution_count": 32,
   "id": "6542ba4a-9493-4b01-8eea-8202d70b1f2c",
   "metadata": {
    "tags": []
   },
   "outputs": [
    {
     "data": {
      "text/plain": [
       "Text(0.5, 1.0, 'Cost convergence')"
      ]
     },
     "execution_count": 32,
     "metadata": {},
     "output_type": "execute_result"
    },
    {
     "data": {
      "image/png": "[encoded data removed]",
      "text/plain": [
       "<Figure size 640x480 with 1 Axes>"
      ]
     },
     "metadata": {},
     "output_type": "display_data"
    }
   ],
   "source": [
    "plt.plot(combi.cost_trace)\n",
    "plt.xlabel(\"Iterations\")\n",
    "plt.ylabel(\"Cost\")\n",
    "plt.title(\"Cost convergence\")"
   ]
  },
  {
   "cell_type": "markdown",
   "id": "d96714fd-2d11-4d13-9d21-4fc111a95670",
   "metadata": {
    "tags": []
   },
   "source": [
    "# Optimization Results"
   ]
  },
  {
   "cell_type": "markdown",
   "id": "96ea8543-29cb-4570-8741-7199dea8a948",
   "metadata": {},
   "source": [
    "We can also examine the statistics of the algorithm. In order to get samples with the optimized parameters, we call the `sample` method:"
   ]
  },
  {
   "cell_type": "code",
   "execution_count": 33,
   "id": "bbc7c2ca-1d3a-4342-9a37-5b8fc8980fbe",
   "metadata": {
    "scrolled": true
   },
   "outputs": [
    {
     "data": {
      "text/html": [
       "<div>\n",
       "<style scoped>\n",
       "    .dataframe tbody tr th:only-of-type {\n",
       "        vertical-align: middle;\n",
       "    }\n",
       "\n",
       "    .dataframe tbody tr th {\n",
       "        vertical-align: top;\n",
       "    }\n",
       "\n",
       "    .dataframe thead th {\n",
       "        text-align: right;\n",
       "    }\n",
       "</style>\n",
       "<table border=\"1\" class=\"dataframe\">\n",
       "  <thead>\n",
       "    <tr style=\"text-align: right;\">\n",
       "      <th></th>\n",
       "      <th>solution</th>\n",
       "      <th>probability</th>\n",
       "      <th>cost</th>\n",
       "    </tr>\n",
       "  </thead>\n",
       "  <tbody>\n",
       "    <tr>\n",
       "      <th>139</th>\n",
       "      <td>{'x': [0, 0, 1, 1, 1, 1, 1, 1, 0, 0]}</td>\n",
       "      <td>0.001953</td>\n",
       "      <td>1.183052e-271</td>\n",
       "    </tr>\n",
       "    <tr>\n",
       "      <th>278</th>\n",
       "      <td>{'x': [1, 1, 0, 0, 0, 0, 1, 1, 1, 0]}</td>\n",
       "      <td>0.000977</td>\n",
       "      <td>1.183052e-271</td>\n",
       "    </tr>\n",
       "    <tr>\n",
       "      <th>545</th>\n",
       "      <td>{'x': [1, 0, 1, 0, 0, 0, 0, 0, 1, 1]}</td>\n",
       "      <td>0.000488</td>\n",
       "      <td>1.183052e-271</td>\n",
       "    </tr>\n",
       "    <tr>\n",
       "      <th>515</th>\n",
       "      <td>{'x': [0, 0, 1, 0, 1, 0, 1, 1, 0, 1]}</td>\n",
       "      <td>0.000488</td>\n",
       "      <td>1.183052e-271</td>\n",
       "    </tr>\n",
       "    <tr>\n",
       "      <th>438</th>\n",
       "      <td>{'x': [0, 0, 0, 1, 1, 1, 0, 0, 1, 1]}</td>\n",
       "      <td>0.000488</td>\n",
       "      <td>1.183052e-271</td>\n",
       "    </tr>\n",
       "  </tbody>\n",
       "</table>\n",
       "</div>"
      ],
      "text/plain": [
       "                                  solution  probability           cost\n",
       "139  {'x': [0, 0, 1, 1, 1, 1, 1, 1, 0, 0]}     0.001953  1.183052e-271\n",
       "278  {'x': [1, 1, 0, 0, 0, 0, 1, 1, 1, 0]}     0.000977  1.183052e-271\n",
       "545  {'x': [1, 0, 1, 0, 0, 0, 0, 0, 1, 1]}     0.000488  1.183052e-271\n",
       "515  {'x': [0, 0, 1, 0, 1, 0, 1, 1, 0, 1]}     0.000488  1.183052e-271\n",
       "438  {'x': [0, 0, 0, 1, 1, 1, 0, 0, 1, 1]}     0.000488  1.183052e-271"
      ]
     },
     "execution_count": 33,
     "metadata": {},
     "output_type": "execute_result"
    }
   ],
   "source": [
    "optimization_result = combi.sample(optimized_params)\n",
    "optimization_result.sort_values(by=\"cost\").head(5)"
   ]
  },
  {
   "cell_type": "markdown",
   "id": "a55201b4-31b1-4477-a9fd-06a35352f0a1",
   "metadata": {},
   "source": [
    "We will also want to compare the optimized results to uniformly sampled results:"
   ]
  },
  {
   "cell_type": "code",
   "execution_count": 34,
   "id": "acc7cbeb-b7a8-41a4-8922-0280d29b58af",
   "metadata": {},
   "outputs": [],
   "source": [
    "uniform_result = combi.sample_uniform()"
   ]
  },
  {
   "cell_type": "markdown",
   "id": "ccca8f9a-b252-4aeb-a92f-96deb4109d87",
   "metadata": {},
   "source": [
    "And compare the histograms:"
   ]
  },
  {
   "cell_type": "code",
   "execution_count": 35,
   "id": "8b0f949c-015a-4bbe-8bc1-8feb0e6c4480",
   "metadata": {
    "tags": []
   },
   "outputs": [
    {
     "data": {
      "image/png": "[encoded data removed]",
      "text/plain": [
       "<Figure size 640x480 with 1 Axes>"
      ]
     },
     "metadata": {},
     "output_type": "display_data"
    }
   ],
   "source": [
    "optimization_result[\"cost\"].plot(\n",
    "    kind=\"hist\",\n",
    "    bins=50,\n",
    "    edgecolor=\"black\",\n",
    "    weights=optimization_result[\"probability\"],\n",
    "    alpha=0.6,\n",
    "    label=\"optimized\",\n",
    ")\n",
    "uniform_result[\"cost\"].plot(\n",
    "    kind=\"hist\",\n",
    "    bins=50,\n",
    "    edgecolor=\"black\",\n",
    "    weights=uniform_result[\"probability\"],\n",
    "    alpha=0.6,\n",
    "    label=\"uniform\",\n",
    ")\n",
    "plt.legend()\n",
    "plt.ylabel(\"Probability\", fontsize=16)\n",
    "plt.xlabel(\"cost\", fontsize=16)\n",
    "plt.tick_params(axis=\"both\", labelsize=14)"
   ]
  },
  {
   "cell_type": "markdown",
   "id": "a3a890a1-c5d4-409d-b9a3-d7ffd4fdd6c0",
   "metadata": {},
   "source": [
    "Let us plot the best solution:"
   ]
  },
  {
   "cell_type": "code",
   "execution_count": 36,
   "id": "4326e84b-26f6-4ea9-a53b-090fb3658b8c",
   "metadata": {
    "tags": []
   },
   "outputs": [],
   "source": [
    "best_solution = optimization_result.solution[optimization_result.cost.idxmin()]"
   ]
  },
  {
   "cell_type": "code",
   "execution_count": 37,
   "id": "f349d9fb-132e-4ca0-8433-db1e2d61efa1",
   "metadata": {
    "tags": []
   },
   "outputs": [
    {
     "name": "stdout",
     "output_type": "stream",
     "text": [
      "P1= [5, 6, 5, 8, 11] , total sum:  35\n",
      "P2= [8, 8, 8, 5, 6] , total sum:  35\n",
      "difference=  0\n"
     ]
    }
   ],
   "source": [
    "p1 = [mylist[i] for i in range(len(mylist)) if best_solution[\"x\"][i] == 0]\n",
    "p2 = [mylist[i] for i in range(len(mylist)) if best_solution[\"x\"][i] == 1]\n",
    "print(\"P1=\", p1, \", total sum: \", sum(p1))\n",
    "print(\"P2=\", p2, \", total sum: \", sum(p2))\n",
    "print(\"difference= \", abs(sum(p1) - sum(p2)))"
   ]
  },
  {
   "cell_type": "markdown",
   "id": "dde1905d-aeff-4297-a9d3-ad14910e6161",
   "metadata": {},
   "source": [
    "Lastly, we can compare to the classical solution of the problem:"
   ]
  },
  {
   "cell_type": "code",
   "execution_count": 38,
   "id": "5a7ca4b6-25a0-46dd-b5cc-de6a639a6f57",
   "metadata": {
    "pycharm": {
     "name": "#%%\n"
    },
    "tags": []
   },
   "outputs": [
    {
     "name": "stdout",
     "output_type": "stream",
     "text": [
      "Model unknown\n",
      "\n",
      "  Variables:\n",
      "    x : Size=10, Index=x_index\n",
      "        Key : Lower : Value : Upper : Fixed : Stale : Domain\n",
      "          0 :     0 :   0.0 :     1 : False : False : Binary\n",
      "          1 :     0 :   0.0 :     1 : False : False : Binary\n",
      "          2 :     0 :   0.0 :     1 : False : False : Binary\n",
      "          3 :     0 :   1.0 :     1 : False : False : Binary\n",
      "          4 :     0 :   1.0 :     1 : False : False : Binary\n",
      "          5 :     0 :   1.0 :     1 : False : False : Binary\n",
      "          6 :     0 :   1.0 :     1 : False : False : Binary\n",
      "          7 :     0 :   1.0 :     1 : False : False : Binary\n",
      "          8 :     0 :   1.0 :     1 : False : False : Binary\n",
      "          9 :     0 :   0.0 :     1 : False : False : Binary\n",
      "\n",
      "  Objectives:\n",
      "    cost : Size=1, Index=None, Active=True\n",
      "        Key  : Active : Value\n",
      "        None :   True :   0.0\n",
      "\n",
      "  Constraints:\n",
      "    None\n"
     ]
    }
   ],
   "source": [
    "from pyomo.opt import SolverFactory\n",
    "\n",
    "solver = SolverFactory(\"couenne\")\n",
    "solver.solve(set_partition_model)\n",
    "\n",
    "set_partition_model.display()"
   ]
  },
  {
   "cell_type": "code",
   "execution_count": 40,
   "id": "4a8215b7-1a7c-4f6c-ad8f-24754816038c",
   "metadata": {},
   "outputs": [],
   "source": [
    "classical_solution = [pyo.value(set_partition_model.x[i]) for i in range(len(mylist))]"
   ]
  },
  {
   "cell_type": "code",
   "execution_count": 41,
   "id": "a7524894-b5c5-42d4-8f92-a019bef5e7da",
   "metadata": {
    "tags": []
   },
   "outputs": [
    {
     "name": "stdout",
     "output_type": "stream",
     "text": [
      "P1= [8, 8, 8, 11] , total sum:  35\n",
      "P2= [5, 5, 6, 5, 6, 8] , total sum:  35\n",
      "difference=  0\n"
     ]
    }
   ],
   "source": [
    "p1 = [mylist[i] for i in range(len(mylist)) if round(classical_solution[i]) == 0]\n",
    "p2 = [mylist[i] for i in range(len(mylist)) if round(classical_solution[i]) == 1]\n",
    "print(\"P1=\", p1, \", total sum: \", sum(p1))\n",
    "print(\"P2=\", p2, \", total sum: \", sum(p2))\n",
    "print(\"difference= \", abs(sum(p1) - sum(p2)))"
   ]
  },
  {
   "cell_type": "markdown",
   "id": "e82b5953-122a-4707-8ab6-f741f14f13a5",
   "metadata": {
    "pycharm": {
     "name": "#%% md\n"
    },
    "tags": []
   },
   "source": [
    "\n",
    "## References\n",
    "\n",
    "<a id='PartitionWiki'>[1]</a>: [Number Partitioning Problem (Wikipedia)](https://en.wikipedia.org/wiki/Partition_problem)\n",
    "\n",
    "<a id='QAOA'>[2]</a>: [Farhi, Edward, Jeffrey Goldstone, and Sam Gutmann. \"A quantum approximate optimization algorithm.\" arXiv preprint arXiv:1411.4028 (2014).](https://arxiv.org/abs/1411.4028)\n",
    "\n",
    "<a id='cvar'>[3]</a>: [Barkoutsos, Panagiotis Kl, et al. \"Improving variational quantum optimization using CVaR.\" Quantum 4 (2020): 256.](https://arxiv.org/abs/1907.04769)\n"
   ]
  }
 ],
 "metadata": {
  "kernelspec": {
   "display_name": "Python 3 (ipykernel)",
   "language": "python",
   "name": "python3"
  },
  "language_info": {
   "codemirror_mode": {
    "name": "ipython",
    "version": 3
   },
   "file_extension": ".py",
   "mimetype": "text/x-python",
   "name": "python",
   "nbconvert_exporter": "python",
   "pygments_lexer": "ipython3",
   "version": "3.11.4"
  },
  "vscode": {
   "interpreter": {
    "hash": "a07aacdcc8a415e7643a2bc993226848ff70704ebef014f87460de9126b773d0"
   }
  }
 },
 "nbformat": 4,
 "nbformat_minor": 5
}
