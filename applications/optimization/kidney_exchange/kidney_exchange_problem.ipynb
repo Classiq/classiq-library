{
 "cells": [
  {
   "cell_type": "markdown",
   "metadata": {},
   "source": [
    "# Kidney Exchange QAOA Example\n",
    "\n",
    "Author: Bill Wisotsky  \n",
    "\n",
    "---\n",
    "\n",
    "<u>What is the Problem?</u>  \n",
    "Currently there are more than 100,000 patients on the waitling list in the United States for a kidney transplant from a deceased donor. This is addressed by the a program called the Kidney Exchange Program.  This program won the Nobel Prize in Economics for Alvin E. Roth and Lloyd S. Shapley's contributions to the <i>theory of stable matchings and the design of markets on 2012.</i>\n",
    "In summary, in a donor pair there is a recipient who needs a kidney transplant and a donor who is willing to give their kidney to the recipient. About $\\frac{1}{3}$ of those pairs are not compatible for a direct exchange. This is tackled by considering two incompatible pairs together: donor 1 may be compatible with recpient 2 and donor 2 may be compatible with recpient 1. In this example a two-way swap becomes feasible. This is the core of the kideny exchange program.  \n",
    "\n",
    "This is consdered an NP-Hard combinatorial optimization problem that becomes exponetially more difficult as the size of the pool increases. The longest chain in history involved 35 tranplants in the United States in 2015."
   ]
  },
  {
   "cell_type": "code",
   "execution_count": 1,
   "metadata": {
    "ExecuteTime": {
     "end_time": "2025-06-18T12:16:11.173790Z",
     "start_time": "2025-06-18T12:16:11.167811Z"
    }
   },
   "outputs": [],
   "source": [
    "import warnings\n",
    "from itertools import product\n",
    "from typing import List, Tuple, cast  # noqa\n",
    "\n",
    "import networkx as nx  # noqa\n",
    "import numpy as np\n",
    "\n",
    "from classiq import *\n",
    "\n",
    "warnings.filterwarnings(\"ignore\")"
   ]
  },
  {
   "cell_type": "markdown",
   "metadata": {},
   "source": [
    "## Create the pyomo model for a simple kidney exhange problem \n",
    "\n",
    "In this very simple example, patients and donors represent sets of patients that receive a kidney from a donor. Compatibility is a dictionary mapping of patient-donor paris to their compatibilty scores. Binary decision variables are defined for each patient-donor pair x[donor,patient]. The objective is to maximize the total compatibility score. $ Maximize \\sum_{d,p\\in A}^{} \\sum_{m\\in M}c_{dp}x_{dpm}$ where d=donors, p=patients and c=compatability score. The contraints are added to ensure that each donor donates only once $\\sum_{d,p\\in A}^{}x_{dpm} = y_{dm}$ and each patient receives once $\\sum_{d,p\\in A}^{}x_{dpm} = y_{pm}$. We are creating a PYOMO model that gets fed into Classiq, as illustrated in Classiq documentation. We also solve initially with a classical solver to get inital results which can be compared to the QAOA results in the end."
   ]
  },
  {
   "cell_type": "code",
   "execution_count": 2,
   "metadata": {
    "ExecuteTime": {
     "end_time": "2025-06-18T12:16:11.231412Z",
     "start_time": "2025-06-18T12:16:11.182325Z"
    },
    "editable": true,
    "slideshow": {
     "slide_type": ""
    },
    "tags": []
   },
   "outputs": [
    {
     "name": "stdout",
     "output_type": "stream",
     "text": [
      "\u001b[1m\u001b[4mOptimal solution:\u001b[0m\n",
      "\n",
      "\u001b[1m\u001b[4mModel Details\u001b[0m\n",
      "5 Set Declarations\n",
      "    donor_constraint_index : Size=1, Index=None, Ordered=Insertion\n",
      "        Key  : Dimen : Domain : Size : Members\n",
      "        None :     1 :    Any :    3 : {1, 2, 3}\n",
      "    patient_constraint_index : Size=1, Index=None, Ordered=Insertion\n",
      "        Key  : Dimen : Domain : Size : Members\n",
      "        None :     1 :    Any :    3 : {1, 2, 3}\n",
      "    x_index : Size=1, Index=None, Ordered=True\n",
      "        Key  : Dimen : Domain              : Size : Members\n",
      "        None :     2 : x_index_0*x_index_1 :    9 : {('donor1', 'patient1'), ('donor1', 'patient2'), ('donor1', 'patient3'), ('donor2', 'patient1'), ('donor2', 'patient2'), ('donor2', 'patient3'), ('donor3', 'patient1'), ('donor3', 'patient2'), ('donor3', 'patient3')}\n",
      "    x_index_0 : Size=1, Index=None, Ordered=Insertion\n",
      "        Key  : Dimen : Domain : Size : Members\n",
      "        None :     1 :    Any :    3 : {'donor1', 'donor2', 'donor3'}\n",
      "    x_index_1 : Size=1, Index=None, Ordered=Insertion\n",
      "        Key  : Dimen : Domain : Size : Members\n",
      "        None :     1 :    Any :    3 : {'patient1', 'patient2', 'patient3'}\n",
      "\n",
      "1 Var Declarations\n",
      "    x : Size=9, Index=x_index\n",
      "        Key                    : Lower : Value : Upper : Fixed : Stale : Domain\n",
      "        ('donor1', 'patient1') :     0 :  None :     1 : False :  True : Binary\n",
      "        ('donor1', 'patient2') :     0 :  None :     1 : False :  True : Binary\n",
      "        ('donor1', 'patient3') :     0 :  None :     1 : False :  True : Binary\n",
      "        ('donor2', 'patient1') :     0 :  None :     1 : False :  True : Binary\n",
      "        ('donor2', 'patient2') :     0 :  None :     1 : False :  True : Binary\n",
      "        ('donor2', 'patient3') :     0 :  None :     1 : False :  True : Binary\n",
      "        ('donor3', 'patient1') :     0 :  None :     1 : False :  True : Binary\n",
      "        ('donor3', 'patient2') :     0 :  None :     1 : False :  True : Binary\n",
      "        ('donor3', 'patient3') :     0 :  None :     1 : False :  True : Binary\n",
      "\n",
      "1 Objective Declarations\n",
      "    obj : Size=1, Index=None, Active=True\n",
      "        Key  : Active : Sense    : Expression\n",
      "        None :   True : maximize : 0.9*x[donor1,patient1] + 0.7*x[donor1,patient2] + 0.6*x[donor1,patient3] + 0.8*x[donor2,patient1] + 0.75*x[donor2,patient2] + 0.65*x[donor2,patient3] + 0.85*x[donor3,patient1] + 0.8*x[donor3,patient2] + 0.7*x[donor3,patient3]\n",
      "\n",
      "2 Constraint Declarations\n",
      "    donor_constraint : Size=3, Index=donor_constraint_index, Active=True\n",
      "        Key : Lower : Body                                                         : Upper : Active\n",
      "          1 :  -Inf : x[donor1,patient1] + x[donor1,patient2] + x[donor1,patient3] :   1.0 :   True\n",
      "          2 :  -Inf : x[donor2,patient1] + x[donor2,patient2] + x[donor2,patient3] :   1.0 :   True\n",
      "          3 :  -Inf : x[donor3,patient1] + x[donor3,patient2] + x[donor3,patient3] :   1.0 :   True\n",
      "    patient_constraint : Size=3, Index=patient_constraint_index, Active=True\n",
      "        Key : Lower : Body                                                         : Upper : Active\n",
      "          1 :  -Inf : x[donor1,patient1] + x[donor2,patient1] + x[donor3,patient1] :   1.0 :   True\n",
      "          2 :  -Inf : x[donor1,patient2] + x[donor2,patient2] + x[donor3,patient2] :   1.0 :   True\n",
      "          3 :  -Inf : x[donor1,patient3] + x[donor2,patient3] + x[donor3,patient3] :   1.0 :   True\n",
      "\n",
      "9 Declarations: x_index_0 x_index_1 x_index x obj donor_constraint_index donor_constraint patient_constraint_index patient_constraint\n"
     ]
    }
   ],
   "source": [
    "from pyomo.environ import *\n",
    "\n",
    "# Sample data: patient-donor pairs and compatibility scores\n",
    "donors = [\"donor1\", \"donor2\", \"donor3\"]\n",
    "patients = [\"patient1\", \"patient2\", \"patient3\"]\n",
    "N = len(patients)\n",
    "M = len(donors)\n",
    "# Parameters\n",
    "compatibility_scores = {\n",
    "    (\"donor1\", \"patient1\"): 0.9,\n",
    "    (\"donor1\", \"patient2\"): 0.7,\n",
    "    (\"donor1\", \"patient3\"): 0.6,\n",
    "    (\"donor2\", \"patient1\"): 0.8,\n",
    "    (\"donor2\", \"patient2\"): 0.75,\n",
    "    (\"donor2\", \"patient3\"): 0.65,\n",
    "    (\"donor3\", \"patient1\"): 0.85,\n",
    "    (\"donor3\", \"patient2\"): 0.8,\n",
    "    (\"donor3\", \"patient3\"): 0.7,\n",
    "}\n",
    "\n",
    "# Create Pyomo model\n",
    "model = ConcreteModel()\n",
    "\n",
    "# Variables\n",
    "model.x = Var(donors, patients, within=Binary)\n",
    "\n",
    "# Objective\n",
    "model.obj = Objective(\n",
    "    expr=sum(\n",
    "        compatibility_scores[donor, patient] * model.x[donor, patient]\n",
    "        for donor in donors\n",
    "        for patient in patients\n",
    "    ),\n",
    "    sense=maximize,\n",
    ")\n",
    "\n",
    "# Constraints\n",
    "model.donor_constraint = ConstraintList()\n",
    "for donor in donors:\n",
    "    model.donor_constraint.add(\n",
    "        sum(model.x[donor, patient] for patient in patients) <= 1\n",
    "    )\n",
    "\n",
    "model.patient_constraint = ConstraintList()\n",
    "for patient in patients:\n",
    "    model.patient_constraint.add(sum(model.x[donor, patient] for donor in donors) <= 1)\n",
    "\n",
    "# Install \"glpk\" and unommente for runing this part\n",
    "# Solve\n",
    "# solver = SolverFactory(\"glpk\")\n",
    "# solver.solve(model)\n",
    "\n",
    "# Output\n",
    "print(\"\\033[1m\\033[4mOptimal solution:\\033[0m\")\n",
    "for donor in donors:\n",
    "    for patient in patients:\n",
    "        if model.x[donor, patient].value == 1:\n",
    "            print(f\"{donor} donates kidney to {patient}\")\n",
    "\n",
    "print(\"\\n\\033[1m\\033[4mModel Details\\033[0m\")\n",
    "model.pprint()"
   ]
  },
  {
   "cell_type": "markdown",
   "metadata": {},
   "source": [
    "## Start Generatng the QAOA Process\n",
    "  \n",
    "### Create the inital parameters for the quantum circuit. These can me modified as needed.\n",
    "1. Defining the number of layers (num_layers) of the QAOA Ansatz.  \n",
    "2. Define the penalty_energy for invalid solutions, which influences the convergence rate. Smaller positive values are preferred, but shoudl be tweaked.  \n"
   ]
  },
  {
   "cell_type": "code",
   "execution_count": 3,
   "metadata": {
    "ExecuteTime": {
     "end_time": "2025-06-18T12:16:11.236055Z",
     "start_time": "2025-06-18T11:56:57.027157Z"
    }
   },
   "outputs": [],
   "source": [
    "from classiq.applications.combinatorial_optimization import CombinatorialProblem\n",
    "\n",
    "combi = CombinatorialProblem(pyo_model=model, num_layers=5, penalty_factor=2)\n",
    "\n",
    "# defining cosntraint such as computer and parameters for a quicker and more optimized circuit.\n",
    "preferences = Preferences(transpilation_option=\"none\", timeout_seconds=300)\n",
    "constraints = Constraints(optimization_parameter=\"width\")\n",
    "\n",
    "qmod = combi.get_model(preferences=preferences, constraints=constraints)"
   ]
  },
  {
   "cell_type": "code",
   "execution_count": 4,
   "metadata": {
    "ExecuteTime": {
     "end_time": "2025-06-18T12:16:11.236719Z",
     "start_time": "2025-06-18T11:56:57.104384Z"
    }
   },
   "outputs": [],
   "source": [
    "write_qmod(qmod, \"kidney_exchange_problem\")  # optional"
   ]
  },
  {
   "cell_type": "markdown",
   "metadata": {},
   "source": [
    "### Combine everthing together to form the entire QAOA model as a QMOD."
   ]
  },
  {
   "cell_type": "markdown",
   "metadata": {},
   "source": [
    "1. Sythesize the quantum model\n",
    "2. Show the quantm model in the Classiq platform"
   ]
  },
  {
   "cell_type": "code",
   "execution_count": 5,
   "metadata": {
    "ExecuteTime": {
     "end_time": "2025-06-18T12:16:11.236524Z",
     "start_time": "2025-06-18T11:56:57.051678Z"
    }
   },
   "outputs": [
    {
     "name": "stdout",
     "output_type": "stream",
     "text": [
      "Quantum program link: https://nightly.platform.classiq.io/circuit/2zr2Ztf4qqFRvIUHwoZabUml7ZG\n"
     ]
    }
   ],
   "source": [
    "qprog = combi.get_qprog()\n",
    "show(qprog)"
   ]
  },
  {
   "cell_type": "markdown",
   "metadata": {},
   "source": [
    "### Define classical optimizer part of the QAOA. \n",
    "\n",
    "These parameters can be modified:\n",
    "1. The `max_iterations` is the maximum number of optimzer iterations and is set to 100.  \n",
    "2. The `quantile` is a parameter that describes the quantile considered in the CVAR expectation value. See https://arxiv.org/abs/1907.04769 for more information.\n",
    "   \n",
    "Execute the quantum model and store the result."
   ]
  },
  {
   "cell_type": "code",
   "execution_count": 6,
   "metadata": {
    "ExecuteTime": {
     "end_time": "2025-06-18T12:16:11.236298Z",
     "start_time": "2025-06-18T11:56:57.033873Z"
    }
   },
   "outputs": [],
   "source": [
    "optimized_params = combi.optimize(maxiter=100, quantile=0.7)"
   ]
  },
  {
   "cell_type": "markdown",
   "metadata": {},
   "source": [
    "View the convergence graph  \n",
    "<i>Important to remember that this is a maximization problem when looking at the graph</i>"
   ]
  },
  {
   "cell_type": "code",
   "execution_count": 7,
   "metadata": {
    "ExecuteTime": {
     "end_time": "2025-06-18T12:16:11.237389Z",
     "start_time": "2025-06-18T11:57:22.960612Z"
    }
   },
   "outputs": [
    {
     "data": {
      "text/plain": [
       "Text(0.5, 1.0, 'Cost convergence')"
      ]
     },
     "execution_count": 7,
     "metadata": {},
     "output_type": "execute_result"
    },
    {
     "data": {
      "image/png": "[encoded data removed]",
      "text/plain": [
       "<Figure size 640x480 with 1 Axes>"
      ]
     },
     "metadata": {},
     "output_type": "display_data"
    }
   ],
   "source": [
    "import matplotlib.pyplot as plt\n",
    "\n",
    "plt.plot(combi.cost_trace)\n",
    "plt.xlabel(\"Iterations\")\n",
    "plt.ylabel(\"Cost\")\n",
    "plt.title(\"Cost convergence\")"
   ]
  },
  {
   "cell_type": "markdown",
   "metadata": {},
   "source": [
    "## Retrieve and Display the Solutions\n",
    "- Print them out\n",
    "- Graph using a histogram\n",
    "- Show Donor - Recipients in Network Graph"
   ]
  },
  {
   "cell_type": "markdown",
   "metadata": {},
   "source": [
    "### Print out the top 10 solutions with the highest cost or objective"
   ]
  },
  {
   "cell_type": "code",
   "execution_count": 8,
   "metadata": {
    "ExecuteTime": {
     "end_time": "2025-06-18T12:16:11.237612Z",
     "start_time": "2025-06-18T11:57:22.999651Z"
    }
   },
   "outputs": [
    {
     "name": "stdout",
     "output_type": "stream",
     "text": [
      "\n",
      "\u001b[1m\u001b[4mTop 10 Solutions\u001b[0m\n"
     ]
    },
    {
     "data": {
      "text/html": [
       "<div>\n",
       "<style scoped>\n",
       "    .dataframe tbody tr th:only-of-type {\n",
       "        vertical-align: middle;\n",
       "    }\n",
       "\n",
       "    .dataframe tbody tr th {\n",
       "        vertical-align: top;\n",
       "    }\n",
       "\n",
       "    .dataframe thead th {\n",
       "        text-align: right;\n",
       "    }\n",
       "</style>\n",
       "<table border=\"1\" class=\"dataframe\">\n",
       "  <thead>\n",
       "    <tr style=\"text-align: right;\">\n",
       "      <th></th>\n",
       "      <th>solution</th>\n",
       "      <th>probability</th>\n",
       "      <th>cost</th>\n",
       "    </tr>\n",
       "  </thead>\n",
       "  <tbody>\n",
       "    <tr>\n",
       "      <th>38</th>\n",
       "      <td>{'x_donor1_patient1': 1, 'x_donor1_patient2': ...</td>\n",
       "      <td>0.003906</td>\n",
       "      <td>-2.35</td>\n",
       "    </tr>\n",
       "    <tr>\n",
       "      <th>60</th>\n",
       "      <td>{'x_donor1_patient1': 1, 'x_donor1_patient2': ...</td>\n",
       "      <td>0.002930</td>\n",
       "      <td>-2.35</td>\n",
       "    </tr>\n",
       "    <tr>\n",
       "      <th>69</th>\n",
       "      <td>{'x_donor1_patient1': 0, 'x_donor1_patient2': ...</td>\n",
       "      <td>0.002441</td>\n",
       "      <td>-2.20</td>\n",
       "    </tr>\n",
       "    <tr>\n",
       "      <th>58</th>\n",
       "      <td>{'x_donor1_patient1': 0, 'x_donor1_patient2': ...</td>\n",
       "      <td>0.003418</td>\n",
       "      <td>-2.20</td>\n",
       "    </tr>\n",
       "    <tr>\n",
       "      <th>49</th>\n",
       "      <td>{'x_donor1_patient1': 0, 'x_donor1_patient2': ...</td>\n",
       "      <td>0.003418</td>\n",
       "      <td>-2.20</td>\n",
       "    </tr>\n",
       "    <tr>\n",
       "      <th>73</th>\n",
       "      <td>{'x_donor1_patient1': 0, 'x_donor1_patient2': ...</td>\n",
       "      <td>0.002441</td>\n",
       "      <td>-2.20</td>\n",
       "    </tr>\n",
       "    <tr>\n",
       "      <th>10</th>\n",
       "      <td>{'x_donor1_patient1': 1, 'x_donor1_patient2': ...</td>\n",
       "      <td>0.015625</td>\n",
       "      <td>-1.70</td>\n",
       "    </tr>\n",
       "    <tr>\n",
       "      <th>16</th>\n",
       "      <td>{'x_donor1_patient1': 1, 'x_donor1_patient2': ...</td>\n",
       "      <td>0.009277</td>\n",
       "      <td>-1.65</td>\n",
       "    </tr>\n",
       "    <tr>\n",
       "      <th>15</th>\n",
       "      <td>{'x_donor1_patient1': 0, 'x_donor1_patient2': ...</td>\n",
       "      <td>0.009766</td>\n",
       "      <td>-1.60</td>\n",
       "    </tr>\n",
       "    <tr>\n",
       "      <th>13</th>\n",
       "      <td>{'x_donor1_patient1': 1, 'x_donor1_patient2': ...</td>\n",
       "      <td>0.010254</td>\n",
       "      <td>-1.60</td>\n",
       "    </tr>\n",
       "  </tbody>\n",
       "</table>\n",
       "</div>"
      ],
      "text/plain": [
       "                                             solution  probability  cost\n",
       "38  {'x_donor1_patient1': 1, 'x_donor1_patient2': ...     0.003906 -2.35\n",
       "60  {'x_donor1_patient1': 1, 'x_donor1_patient2': ...     0.002930 -2.35\n",
       "69  {'x_donor1_patient1': 0, 'x_donor1_patient2': ...     0.002441 -2.20\n",
       "58  {'x_donor1_patient1': 0, 'x_donor1_patient2': ...     0.003418 -2.20\n",
       "49  {'x_donor1_patient1': 0, 'x_donor1_patient2': ...     0.003418 -2.20\n",
       "73  {'x_donor1_patient1': 0, 'x_donor1_patient2': ...     0.002441 -2.20\n",
       "10  {'x_donor1_patient1': 1, 'x_donor1_patient2': ...     0.015625 -1.70\n",
       "16  {'x_donor1_patient1': 1, 'x_donor1_patient2': ...     0.009277 -1.65\n",
       "15  {'x_donor1_patient1': 0, 'x_donor1_patient2': ...     0.009766 -1.60\n",
       "13  {'x_donor1_patient1': 1, 'x_donor1_patient2': ...     0.010254 -1.60"
      ]
     },
     "execution_count": 8,
     "metadata": {},
     "output_type": "execute_result"
    }
   ],
   "source": [
    "optimization_result = combi.sample(optimized_params)\n",
    "\n",
    "print(\"\\n\\033[1m\\033[4mTop 10 Solutions\\033[0m\")\n",
    "optimization_result.sort_values(by=\"cost\", ascending=True).head(10)"
   ]
  },
  {
   "cell_type": "markdown",
   "metadata": {},
   "source": [
    "### Histogram of Cost and Weighted by Probability"
   ]
  },
  {
   "cell_type": "code",
   "execution_count": 9,
   "metadata": {
    "ExecuteTime": {
     "end_time": "2025-06-18T12:16:11.238849Z",
     "start_time": "2025-06-18T11:57:23.082373Z"
    }
   },
   "outputs": [
    {
     "data": {
      "image/png": "[encoded data removed]",
      "text/plain": [
       "<Figure size 640x480 with 1 Axes>"
      ]
     },
     "metadata": {},
     "output_type": "display_data"
    }
   ],
   "source": [
    "import matplotlib.pyplot as plt\n",
    "\n",
    "optimization_result[\"cost\"].plot(\n",
    "    kind=\"hist\", bins=30, edgecolor=\"black\", weights=optimization_result[\"probability\"]\n",
    ")\n",
    "plt.ylabel(\"Probability\", fontsize=12)\n",
    "plt.xlabel(\"Cost\", fontsize=12)\n",
    "plt.tick_params(axis=\"both\", labelsize=12)\n",
    "plt.title(\"Histogram of Cost Weighted by Probability\", fontsize=16)\n",
    "plt.show()"
   ]
  },
  {
   "cell_type": "markdown",
   "metadata": {},
   "source": [
    "### Create a Network Graph for the Best Solution Found\n",
    "<b>$\\star$ Very important to remember that this is a mximization problem and the classical solver of the QAOA process returns all possible results. We need to filter out the solution with the highest cost which would represent the the highest compatability score. </b>"
   ]
  },
  {
   "cell_type": "code",
   "execution_count": 11,
   "metadata": {
    "ExecuteTime": {
     "end_time": "2025-06-18T12:16:11.239051Z",
     "start_time": "2025-06-18T11:57:23.207604Z"
    }
   },
   "outputs": [
    {
     "name": "stdout",
     "output_type": "stream",
     "text": [
      "\u001b[1m\u001b[4m** QAOA SOLUTION **\u001b[0m\n",
      "\u001b[4mHighest Compatibility Score\u001b[0m =  2.35\n",
      "        patient1  patient2  patient3\n",
      "donor1         1         0         0\n",
      "donor2         0         0         1\n",
      "donor3         0         1         0\n"
     ]
    },
    {
     "data": {
      "image/png": "[encoded data removed]",
      "text/plain": [
       "<Figure size 1000x600 with 1 Axes>"
      ]
     },
     "metadata": {},
     "output_type": "display_data"
    }
   ],
   "source": [
    "from itertools import product\n",
    "\n",
    "import matplotlib.pyplot as plt\n",
    "import networkx as nx\n",
    "import numpy as np\n",
    "import pandas as pd\n",
    "\n",
    "\n",
    "def plotting_sol(x_sol, cost):\n",
    "    # Extract donor and patient names from keys\n",
    "    donors = sorted(set(key.split(\"_\")[1] for key in x_sol.keys()))\n",
    "    patients = sorted(set(key.split(\"_\")[2] for key in x_sol.keys()))\n",
    "    N = len(donors)\n",
    "    M = len(patients)\n",
    "\n",
    "    # Create mapping to matrix\n",
    "    x_mat = np.zeros((N, M), dtype=int)\n",
    "    for key, val in x_sol.items():\n",
    "        donor = key.split(\"_\")[1]\n",
    "        patient = key.split(\"_\")[2]\n",
    "        i = donors.index(donor)\n",
    "        j = patients.index(patient)\n",
    "        x_mat[i, j] = val\n",
    "\n",
    "    print(\"\\033[1m\\033[4m** QAOA SOLUTION **\\033[0m\")\n",
    "    print(\"\\033[4mHighest Compatibility Score\\033[0m = \", cost)\n",
    "\n",
    "    # Table view\n",
    "    df = pd.DataFrame(x_mat, index=donors, columns=patients)\n",
    "    print(df)\n",
    "\n",
    "    # Graph view\n",
    "    graph_sol = nx.DiGraph()\n",
    "    graph_sol.add_nodes_from(donors + patients)\n",
    "\n",
    "    for i, j in product(range(N), range(M)):\n",
    "        if x_mat[i, j] > 0:\n",
    "            graph_sol.add_edge(\n",
    "                donors[i],\n",
    "                patients[j],\n",
    "                weight=compatibility_scores[(donors[i], patients[j])],\n",
    "            )  # Default weight\n",
    "\n",
    "    plt.figure(figsize=(10, 6))\n",
    "    pos = nx.bipartite_layout(graph_sol, donors)\n",
    "\n",
    "    nx.draw_networkx_nodes(\n",
    "        graph_sol, pos, nodelist=donors, node_color=\"#F43764\", node_size=500\n",
    "    )\n",
    "    nx.draw_networkx_nodes(\n",
    "        graph_sol, pos, nodelist=patients, node_color=\"#119DA4\", node_size=500\n",
    "    )\n",
    "    nx.draw_networkx_labels(graph_sol, pos, font_size=12)\n",
    "\n",
    "    nx.draw_networkx_edges(graph_sol, pos, width=2)\n",
    "    labels = nx.get_edge_attributes(graph_sol, \"weight\")\n",
    "    nx.draw_networkx_edge_labels(\n",
    "        graph_sol, pos, edge_labels=labels, font_size=10, label_pos=0.6\n",
    "    )\n",
    "\n",
    "    plt.title(\"Network Graph of the Best Solution\", fontsize=16)\n",
    "    plt.axis(\"off\")\n",
    "    plt.show()\n",
    "\n",
    "\n",
    "best_solution = optimization_result.loc[optimization_result.cost.idxmin()]\n",
    "plotting_sol(best_solution.solution, -best_solution.cost)"
   ]
  }
 ],
 "metadata": {
  "kernelspec": {
   "display_name": "Python 3 (ipykernel)",
   "language": "python",
   "name": "python3"
  },
  "language_info": {
   "codemirror_mode": {
    "name": "ipython",
    "version": 3
   },
   "file_extension": ".py",
   "mimetype": "text/x-python",
   "name": "python",
   "nbconvert_exporter": "python",
   "pygments_lexer": "ipython3",
   "version": "3.11.4"
  }
 },
 "nbformat": 4,
 "nbformat_minor": 4
}
