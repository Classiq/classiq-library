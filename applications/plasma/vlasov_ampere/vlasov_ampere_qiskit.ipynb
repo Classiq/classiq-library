{
 "cells": [
  {
   "cell_type": "markdown",
   "id": "0",
   "metadata": {},
   "source": [
    "**This notebook implements the same model that appears under [`vlasov_ampere.ipynb`](https://github.com/Classiq/classiq-library/blob/main/applications/plasma/vlasov_ampere/vlasov_ampere.ipynb) example, using qiskit. This is the code used to collect the benchmarking data in [the paper](https://arxiv.org/abs/2507.22257)**.\n",
    "\n",
    "In particular, it contains: Definition of a qiskit code for the block-encoding, verification of the block-encoding functionality, and definition of QSVT step with qiskit, operating on the block-encoding unitary.\n",
    "\n",
    "The results were obtained using Qiskit version 2.1.1. "
   ]
  },
  {
   "cell_type": "code",
   "execution_count": 1,
   "id": "1",
   "metadata": {},
   "outputs": [],
   "source": [
    "!pip install -qq  qiskit==2.1.1"
   ]
  },
  {
   "cell_type": "code",
   "execution_count": 2,
   "id": "2",
   "metadata": {},
   "outputs": [],
   "source": [
    "import numpy as np\n",
    "from qiskit import QuantumCircuit, QuantumRegister, transpile\n",
    "from qiskit.circuit.library import StatePreparation\n",
    "from qiskit.circuit.library.standard_gates import XGate\n",
    "from qiskit.synthesis import synth_qft_full\n",
    "from sympy import fwht"
   ]
  },
  {
   "cell_type": "markdown",
   "id": "3",
   "metadata": {},
   "source": [
    "## Adding inplace adder and assign_amplitudes with Qiskit\n",
    "\n",
    "These are missing in Qiskit library."
   ]
  },
  {
   "cell_type": "code",
   "execution_count": 3,
   "id": "4",
   "metadata": {},
   "outputs": [],
   "source": [
    "# Creating an inplace adder\n",
    "\n",
    "\n",
    "class DraperQFTAdderConstant(QuantumCircuit):\n",
    "    def __init__(\n",
    "        self, num_state_qubits: int, constant: int, name: str = \"DraperQFTAdderConst\"\n",
    "    ) -> None:\n",
    "        # Create the quantum register\n",
    "        qr_a = QuantumRegister(num_state_qubits, name=\"a\")\n",
    "        super().__init__(qr_a, name=name)\n",
    "\n",
    "        # Apply the QFT\n",
    "        self.append(synth_qft_full(num_state_qubits, do_swaps=False).to_gate(), qr_a)\n",
    "\n",
    "        # Add the constant by applying controlled rotations\n",
    "        for qubit in range(num_state_qubits):\n",
    "            angle = (constant % (2 ** (qubit + 1))) * np.pi / (2**qubit)\n",
    "            self.p(angle, qr_a[qubit])\n",
    "\n",
    "        # Apply the inverse QFT\n",
    "        self.append(\n",
    "            synth_qft_full(num_state_qubits, do_swaps=False).inverse().to_gate(), qr_a\n",
    "        )"
   ]
  },
  {
   "cell_type": "code",
   "execution_count": 4,
   "id": "5",
   "metadata": {},
   "outputs": [],
   "source": [
    "# Creating assign amplitudes\n",
    "\n",
    "\n",
    "def get_graycode(size: int, i: int) -> int:\n",
    "    if i == 2**size:\n",
    "        return get_graycode(size, 0)\n",
    "    return i ^ (i >> 1)\n",
    "\n",
    "\n",
    "def get_controller(size: int, i: int) -> int:\n",
    "    return (get_graycode(size, i) ^ get_graycode(size, i + 1)).bit_length() - 1\n",
    "\n",
    "\n",
    "def get_graycode_angles_wh(size, angles):\n",
    "    transformed_angles = fwht(np.array(angles) / 2**size)\n",
    "    return [transformed_angles[get_graycode(size, j)] for j in range(2**size)]\n",
    "\n",
    "\n",
    "def assign_amplitudes_qs(amps, x, ind):\n",
    "    qc = QuantumCircuit(x, ind, name=\"assign amplitudes\")\n",
    "    size = len(amps).bit_length() - 1\n",
    "    angles = 2 * np.arcsin(amps)\n",
    "    gray_code_angles = np.array(get_graycode_angles_wh(size, angles)).astype(float)\n",
    "    gray_code_controllers = [get_controller(size, i) for i in range(2**size)]\n",
    "\n",
    "    for i in range(2**size):\n",
    "        qc.ry(gray_code_angles[i], ind)\n",
    "        qc.cx(x[gray_code_controllers[i]], ind)\n",
    "\n",
    "    return qc.to_gate()"
   ]
  },
  {
   "cell_type": "markdown",
   "id": "6",
   "metadata": {},
   "source": [
    "## Setting problem parameters"
   ]
  },
  {
   "cell_type": "code",
   "execution_count": 5,
   "id": "7",
   "metadata": {},
   "outputs": [],
   "source": [
    "# plasma parameters\n",
    "Temperature = 1\n",
    "N = 1  # simulate homogenous plasma - n(x) = 1\n",
    "\n",
    "# source parameters\n",
    "DS = 3\n",
    "X_0 = 50\n",
    "W_0 = 0.8\n",
    "\n",
    "# grid  parameters\n",
    "X_MIN = 0\n",
    "X_MAX = 100\n",
    "\n",
    "V_MIN = -4\n",
    "V_MAX = 4\n",
    "\n",
    "N_X = 3\n",
    "N_V = 3\n",
    "\n",
    "DX = (X_MAX - X_MIN) / (2**N_X - 1)\n",
    "DV = (V_MAX - V_MIN) / (2**N_V - 1)"
   ]
  },
  {
   "cell_type": "markdown",
   "id": "8",
   "metadata": {},
   "source": [
    "## Functions for getting quantum circuits (\"gates\") to construct the block encoding"
   ]
  },
  {
   "cell_type": "markdown",
   "id": "9",
   "metadata": {},
   "source": [
    "### Circuits for the Advective part"
   ]
  },
  {
   "cell_type": "code",
   "execution_count": 6,
   "id": "10",
   "metadata": {},
   "outputs": [],
   "source": [
    "BC_VALUES = 0.5 * np.array([-3, 3, -1, 0])\n",
    "BC_NORM = np.linalg.norm(BC_VALUES)\n",
    "BC_VALUES = BC_VALUES / BC_NORM\n",
    "lcu_angle = 2 * np.arccos(np.sqrt(BC_NORM / (1 + BC_NORM)))"
   ]
  },
  {
   "cell_type": "code",
   "execution_count": 7,
   "id": "11",
   "metadata": {},
   "outputs": [],
   "source": [
    "def get_derivative_dirichlet_be(x, flag, lcu):\n",
    "    qc = QuantumCircuit(x, flag, lcu, name=\"derivative_dirichlet_be\")\n",
    "    qc.h(lcu[0])\n",
    "    qc.z(lcu[0])\n",
    "    qc.append(\n",
    "        DraperQFTAdderConstant(num_state_qubits=len(x) + 1, constant=-1)\n",
    "        .to_gate()\n",
    "        .control(1, ctrl_state=0),\n",
    "        [lcu] + x[:] + [flag],\n",
    "    )\n",
    "    qc.append(\n",
    "        DraperQFTAdderConstant(num_state_qubits=len(x) + 1, constant=1)\n",
    "        .to_gate()\n",
    "        .control(1, ctrl_state=1),\n",
    "        [lcu] + x[:] + [flag],\n",
    "    )\n",
    "    qc.h(lcu[0])\n",
    "\n",
    "    return qc.to_gate()\n",
    "\n",
    "\n",
    "def get_derivative_boundary_min_be(x, flag):\n",
    "    qc = QuantumCircuit(x, flag, name=\"derivative_boundary_min_be\")\n",
    "    qc.append(StatePreparation(BC_VALUES).inverse(), x[0:2])\n",
    "    qc.append(XGate().control(len(x), ctrl_state=0), x[:] + [flag])\n",
    "    qc.x(flag)\n",
    "\n",
    "    return qc.to_gate()\n",
    "\n",
    "\n",
    "def get_derivative_boundary_max_be(x, flag):\n",
    "    qc = QuantumCircuit(x, flag, name=\"derivative_boundary_max_be\")\n",
    "    qc.x(x)\n",
    "    qc.ry(2 * np.pi, flag)\n",
    "    qc.append(get_derivative_boundary_min_be(x, flag), x[:] + [flag])\n",
    "    qc.x(x)\n",
    "\n",
    "    return qc.to_gate()\n",
    "\n",
    "\n",
    "def get_derivative_boundaries_be(x, flag):\n",
    "    qc_start = get_derivative_boundary_min_be(x[0:-1], flag)\n",
    "    qc_end = get_derivative_boundary_max_be(x[0:-1], flag)\n",
    "    qc = QuantumCircuit(x, flag, name=\"derivative_boundaries_be\")\n",
    "    qc.append(qc_start.control(1, ctrl_state=0), [x[-1]] + x[0:-1] + [flag])\n",
    "    qc.append(qc_end.control(1, ctrl_state=1), [x[-1]] + x[0:-1] + [flag])\n",
    "\n",
    "    return qc.to_gate()\n",
    "\n",
    "\n",
    "def get_derivative_be(x, flag, lcu1, lcu2):\n",
    "    qc = QuantumCircuit(x, flag, lcu1, lcu2, name=\"derivative_be\")\n",
    "    qc.ry(lcu_angle, lcu1)\n",
    "    qc.append(\n",
    "        get_derivative_dirichlet_be(x, flag, lcu2).control(1, ctrl_state=1),\n",
    "        [lcu1] + x[:] + [flag] + [lcu2],\n",
    "    )\n",
    "    qc.append(\n",
    "        get_derivative_boundaries_be(x, flag).control(1, ctrl_state=0),\n",
    "        [lcu1] + x[:] + [flag],\n",
    "    )\n",
    "    qc.ry(-lcu_angle, lcu1)\n",
    "\n",
    "    return qc.to_gate()\n",
    "\n",
    "\n",
    "def get_be_zeta(x, v, flag):\n",
    "    temp1 = QuantumRegister(1, \"temp1\")\n",
    "    temp2 = QuantumRegister(1, \"temp2\")\n",
    "\n",
    "    qc = QuantumCircuit(x, v, flag, temp1, temp2, name=\"zeta_bc matrix\")\n",
    "    qc.append(XGate().control(len(x), ctrl_state=2 ** len(x) - 1), x[:] + [temp1])\n",
    "    qc.cx(v[-1], temp2)\n",
    "    qc.ccx(temp1, temp2, flag)\n",
    "    qc.cx(v[-1], temp2)\n",
    "    qc.append(XGate().control(len(x), ctrl_state=2 ** len(x) - 1), x[:] + [temp1])\n",
    "    qc.append(XGate().control(len(x), ctrl_state=0), x[:] + [temp1])\n",
    "    qc.append(XGate().control(1, ctrl_state=0), [v[-1]] + [temp2])\n",
    "    qc.ccx(temp1, temp2, flag)\n",
    "    qc.append(XGate().control(1, ctrl_state=0), [v[-1]] + [temp2])\n",
    "    qc.append(XGate().control(len(x), ctrl_state=0), x[:] + [temp1])\n",
    "\n",
    "    return qc.to_gate()\n",
    "\n",
    "\n",
    "def get_v_be(v, ind):\n",
    "    qc = QuantumCircuit(v, ind, name=\"v dot matrix\")\n",
    "    N_V = len(v)\n",
    "    amplitudes = np.linspace(-1, 1 - 2 ** (-N_V + 1), 2**N_V)\n",
    "    amplitudes = np.roll(amplitudes, len(amplitudes) // 2)  # adjust to signed number\n",
    "    qc.append(assign_amplitudes_qs(amplitudes, v, ind), v[:] + [ind])\n",
    "    qc.x(ind)\n",
    "\n",
    "    return qc.to_gate()\n",
    "\n",
    "\n",
    "# The upper left matrix: 6 block terms, 2 aux\n",
    "def get_advective_be(x, v, e, flags):\n",
    "    temps = QuantumRegister(2, \"temps\")\n",
    "    qc = QuantumCircuit(x, v, e, flags, temps, name=\"Full v grad_x\")\n",
    "    qc.append(\n",
    "        get_derivative_be(x, [flags[0]], [flags[1]], [flags[2]]), x[:] + flags[0:3]\n",
    "    )\n",
    "    qc.append(get_v_be(v, [flags[3]]), v[:] + [flags[3]])\n",
    "    qc.append(get_be_zeta(x, v, [flags[4]]), x[:] + v[:] + [flags[4]] + temps[:])\n",
    "    qc.cx(e, flags[5])\n",
    "\n",
    "    return qc.to_gate()"
   ]
  },
  {
   "cell_type": "markdown",
   "id": "12",
   "metadata": {},
   "source": [
    "### Circuits for off-diagonal terms"
   ]
  },
  {
   "cell_type": "code",
   "execution_count": 8,
   "id": "13",
   "metadata": {},
   "outputs": [],
   "source": [
    "v_amplitudes = np.linspace(-1, 1 - 2 ** (-N_V + 1), 2**N_V) * V_MAX\n",
    "v_amplitudes = np.roll(v_amplitudes, len(v_amplitudes) // 2)  # adjust to signed number\n",
    "v_H_amplitudes = (\n",
    "    v_amplitudes\n",
    "    * np.exp(-(v_amplitudes**2) / (2 * Temperature))\n",
    "    / (np.sqrt(2 * np.pi * Temperature))\n",
    ")\n",
    "\n",
    "\n",
    "def get_force_term_be(v, flag, v_H_amplitudes):\n",
    "    qc = QuantumCircuit(v, flag, name=\"force_term\")\n",
    "    qc.append(XGate().control(len(v), ctrl_state=0), v[:] + [flag])\n",
    "    qc.x(flag)\n",
    "    qc.append(StatePreparation(-v_H_amplitudes / np.linalg.norm(v_H_amplitudes)), v[:])\n",
    "\n",
    "    return qc.to_gate()\n",
    "\n",
    "\n",
    "def get_current_term_be(v, flag, v_amplitudes):\n",
    "    qc = QuantumCircuit(v, flag, name=\"current_term\")\n",
    "    qc.append(\n",
    "        StatePreparation(v_amplitudes / np.linalg.norm(v_amplitudes)).inverse(), v[:]\n",
    "    )\n",
    "    qc.append(XGate().control(len(v), ctrl_state=0), v[:] + [flag])\n",
    "    qc.x(flag)\n",
    "\n",
    "    return qc.to_gate()\n",
    "\n",
    "\n",
    "def get_equalize_amplitude(e, ind, ratio):\n",
    "    qc = QuantumCircuit(e, ind, name=\"equalize_amplitude\")\n",
    "    amplitudes = np.array([ratio, 1])\n",
    "    amplitudes /= max(amplitudes)\n",
    "    qc.append(assign_amplitudes_qs(amplitudes, e, ind), e[:] + [ind])\n",
    "    qc.x(ind)\n",
    "\n",
    "    return qc.to_gate()\n",
    "\n",
    "\n",
    "def get_off_diag_be(e, v, flag, ind, v_H_amplitudes, v_amplitudes, ratio):\n",
    "    qc = QuantumCircuit(e, v, flag, ind, name=\"off diagonal\")\n",
    "    qc.x(e)\n",
    "    qc.append(\n",
    "        get_force_term_be(v, flag, v_H_amplitudes).control(1, ctrl_state=0),\n",
    "        [e] + v[:] + [flag],\n",
    "    )\n",
    "    qc.append(\n",
    "        get_current_term_be(v, flag, v_amplitudes).control(1, ctrl_state=1),\n",
    "        [e] + v[:] + [flag],\n",
    "    )\n",
    "    qc.append(get_equalize_amplitude(e, ind, ratio), [e] + [ind])\n",
    "\n",
    "    return qc.to_gate()"
   ]
  },
  {
   "cell_type": "markdown",
   "id": "14",
   "metadata": {},
   "source": [
    "## Block-encoding of the full matrix"
   ]
  },
  {
   "cell_type": "code",
   "execution_count": 9,
   "id": "15",
   "metadata": {},
   "outputs": [],
   "source": [
    "DERIVATIVE_TERM_FACTOR = 2 * (1 + BC_NORM)\n",
    "ADVECTIVE_TERM_FACTOR = DERIVATIVE_TERM_FACTOR * (V_MAX / (2 * DX))\n",
    "\n",
    "FORCE_TERM_FACTOR = np.linalg.norm(v_H_amplitudes)\n",
    "CURRENT_TERM_FACTOR = np.linalg.norm(v_amplitudes) * DV\n",
    "\n",
    "OFF_DIAG_FACTOR = max(FORCE_TERM_FACTOR, CURRENT_TERM_FACTOR)"
   ]
  },
  {
   "cell_type": "code",
   "execution_count": 10,
   "id": "16",
   "metadata": {},
   "outputs": [],
   "source": [
    "# Defining a function for 1j factor\n",
    "\n",
    "\n",
    "def get_phase():\n",
    "    q = QuantumRegister(1, \"q\")\n",
    "    qc = QuantumCircuit(q, name=\"1j phase\")\n",
    "    qc.p(np.pi, q)\n",
    "    qc.rz(-np.pi, q)\n",
    "\n",
    "    return qc.to_gate()"
   ]
  },
  {
   "cell_type": "code",
   "execution_count": 11,
   "id": "17",
   "metadata": {},
   "outputs": [],
   "source": [
    "data_size = N_V + N_X + 1\n",
    "data_qs = QuantumRegister(data_size, \"data_qs\")\n",
    "block_qs = QuantumRegister(2 + 6 + 2, \"block_qs\")\n",
    "\n",
    "lcu_amps = np.sqrt(\n",
    "    np.array([ADVECTIVE_TERM_FACTOR, OFF_DIAG_FACTOR, W_0, 0]).astype(\"float\")\n",
    ")\n",
    "lcu_amps /= np.linalg.norm(lcu_amps)\n",
    "\n",
    "\n",
    "qc = QuantumCircuit(data_qs, block_qs)\n",
    "\n",
    "qc.append(StatePreparation(lcu_amps), block_qs[0:2])\n",
    "qc.append(\n",
    "    get_advective_be(\n",
    "        data_qs[N_V : data_size - 1],\n",
    "        data_qs[0:N_V],\n",
    "        [data_qs[data_size - 1]],\n",
    "        block_qs[0 + 2 : 6 + 2],\n",
    "    ).control(2, ctrl_state=0),\n",
    "    block_qs[0:2]\n",
    "    + data_qs[N_V : data_size - 1]\n",
    "    + data_qs[0:N_V]\n",
    "    + [data_qs[data_size - 1]]\n",
    "    + block_qs[2:],\n",
    ")\n",
    "qc.append(\n",
    "    get_off_diag_be(\n",
    "        [data_qs[data_size - 1]],\n",
    "        data_qs[0:N_V],\n",
    "        [block_qs[0 + 2]],\n",
    "        [block_qs[3 + 2]],\n",
    "        v_H_amplitudes,\n",
    "        v_amplitudes,\n",
    "        FORCE_TERM_FACTOR / CURRENT_TERM_FACTOR,\n",
    "    ).control(2, ctrl_state=1),\n",
    "    block_qs[0:2]\n",
    "    + [data_qs[data_size - 1]]\n",
    "    + data_qs[0:N_V]\n",
    "    + [block_qs[0 + 2]]\n",
    "    + [block_qs[3 + 2]],\n",
    ")\n",
    "qc.append(get_phase().control(2, ctrl_state=2), block_qs[0:2] + [block_qs[2]])\n",
    "inv_amps = lcu_amps\n",
    "inv_amps[0] *= -1  # minus sign for the advective term\n",
    "qc.append(StatePreparation(inv_amps).inverse(), block_qs[0:2])\n",
    "\n",
    "be_qc = qc.to_gate()"
   ]
  },
  {
   "cell_type": "code",
   "execution_count": 12,
   "id": "18",
   "metadata": {},
   "outputs": [],
   "source": [
    "# Scaling factor\n",
    "BE_NORM_FACTOR = ADVECTIVE_TERM_FACTOR + OFF_DIAG_FACTOR + W_0"
   ]
  },
  {
   "cell_type": "markdown",
   "id": "19",
   "metadata": {},
   "source": [
    "## Verification\n",
    "\n",
    "For the given problem size, `N_X, N_V= 3, 3`, we construct the classical matrix $A+i\\omega$ that we block-encoded via a quantum circuit $U_{A+i\\omega}$. Then for some random initial state $|\\psi\\rangle$ we verify that indeed:\n",
    "$$\n",
    "U_{A+i\\omega} |\\psi\\rangle |0\\rangle_{\\rm block} = (A+i\\omega)|\\psi\\rangle|0\\rangle_{\\rm block}+{\\rm garbage}\n",
    "$$"
   ]
  },
  {
   "cell_type": "markdown",
   "id": "20",
   "metadata": {},
   "source": [
    "### Classical matrix"
   ]
  },
  {
   "cell_type": "code",
   "execution_count": 13,
   "id": "21",
   "metadata": {},
   "outputs": [],
   "source": [
    "import numpy as np\n",
    "\n",
    "\n",
    "def get_advective_mat(nx, nv, dx, v_max, cyclic=False):\n",
    "    dx_mat = np.diag(np.ones(2**nx - 1), k=1) - np.diag(np.ones(2**nx - 1), k=-1)\n",
    "    boundary = np.pad([-3, 4, -1], (0, dx_mat.shape[1] - 3))\n",
    "    dx_mat[0, :] = boundary\n",
    "    dx_mat[-1, :] = -np.flip(boundary)\n",
    "\n",
    "    v_amplitudes = np.linspace(-1, 1 - 2 ** (-nv + 1), 2**nv) * v_max\n",
    "    v_amplitudes = np.roll(v_amplitudes, len(v_amplitudes) // 2)\n",
    "\n",
    "    x_values = np.arange(2**nx)\n",
    "    max_x = 2**nx - 1\n",
    "    xi = (\n",
    "        1\n",
    "        - np.kron(x_values == 0, v_amplitudes > 0)\n",
    "        - np.kron(x_values == max_x, v_amplitudes <= 0)\n",
    "    )\n",
    "\n",
    "    advective = np.kron(dx_mat / (2 * dx), np.diag(v_amplitudes))\n",
    "    advective[xi == 0] = 0\n",
    "\n",
    "    return advective\n",
    "\n",
    "\n",
    "def get_off_diag_mat(nx, nv, dv, v_max, temp):\n",
    "    v_amplitudes = np.linspace(-1, 1 - 2 ** (-nv + 1), 2**nv) * v_max\n",
    "    v_amplitudes = np.roll(v_amplitudes, len(v_amplitudes) // 2)\n",
    "    v_H_amplitudes = (\n",
    "        v_amplitudes\n",
    "        * np.exp(-(v_amplitudes**2) / (2 * temp))\n",
    "        / (np.sqrt(2 * np.pi * temp))\n",
    "    )\n",
    "\n",
    "    vec_col = v_H_amplitudes\n",
    "    vec_row = v_amplitudes * dv\n",
    "\n",
    "    n = len(vec_col)\n",
    "    dim_x = 2**nx\n",
    "    dim_v = 2**nv\n",
    "    size = dim_x * dim_v\n",
    "\n",
    "    A = np.zeros((size, size))\n",
    "    B = np.zeros((size, size))\n",
    "    for i in range(dim_x):\n",
    "        A[i * dim_v : (i + 1) * dim_v, i * dim_v] = vec_col\n",
    "        B[i * dim_v, i * dim_v : (i + 1) * dim_v] = vec_row\n",
    "\n",
    "    # Compose off-diagonal block matrix\n",
    "    top = np.hstack((np.zeros_like(A), -A))\n",
    "    bottom = np.hstack((B, np.zeros_like(B)))\n",
    "    off_diag = np.vstack((top, bottom))\n",
    "    return off_diag\n",
    "\n",
    "\n",
    "def get_block_encoding(nx, nv, v_max, x_max, w0, temp):\n",
    "    dx = x_max / (2**nx - 1)\n",
    "    dv = (2 * v_max) / (2**nv - 1)\n",
    "\n",
    "    mat_size = 2 ** (nx + nv + 1)\n",
    "    advective = get_advective_mat(nx, nv, dx, v_max)\n",
    "    off_diag = get_off_diag_mat(nx, nv, dv, v_max, temp)\n",
    "\n",
    "    return 1j * w0 * np.eye(mat_size) - np.kron(np.diag([1, 0]), advective) + off_diag"
   ]
  },
  {
   "cell_type": "code",
   "execution_count": 14,
   "id": "22",
   "metadata": {},
   "outputs": [],
   "source": [
    "mat_cl = get_block_encoding(N_X, N_V, V_MAX, X_MAX, W_0, Temperature)"
   ]
  },
  {
   "cell_type": "code",
   "execution_count": 15,
   "id": "23",
   "metadata": {},
   "outputs": [],
   "source": [
    "# Random initial state\n",
    "init_data = np.random.rand(2**7)\n",
    "init_data /= np.linalg.norm(init_data)"
   ]
  },
  {
   "cell_type": "code",
   "execution_count": 16,
   "id": "24",
   "metadata": {},
   "outputs": [
    {
     "name": "stdout",
     "output_type": "stream",
     "text": [
      "width: 17\n",
      "depth: 237580\n",
      "cx: 124273\n"
     ]
    }
   ],
   "source": [
    "block_qs = QuantumRegister(10, \"block_qs\")\n",
    "data_qs = QuantumRegister(data_size, \"data_qs\")\n",
    "\n",
    "qc_test = QuantumCircuit(data_qs, block_qs)\n",
    "qc_test.append(StatePreparation(init_data), data_qs[:])\n",
    "qc_test.append(be_qc, data_qs[:] + block_qs[:])\n",
    "\n",
    "tqc_test = transpile(qc_test, basis_gates=[\"u\", \"cx\"], optimization_level=3)\n",
    "print(f\"width: {tqc_test.width()}\")\n",
    "print(f\"depth: {tqc_test.depth()}\")\n",
    "print(f\"cx: {tqc_test.count_ops()['cx']}\")"
   ]
  },
  {
   "cell_type": "code",
   "execution_count": 17,
   "id": "25",
   "metadata": {},
   "outputs": [],
   "source": [
    "from qiskit.quantum_info import Statevector\n",
    "\n",
    "final_sv = Statevector.from_instruction(qc_test)\n",
    "psi_tensor = final_sv.data.reshape([2] * qc_test.width())"
   ]
  },
  {
   "cell_type": "code",
   "execution_count": 18,
   "id": "26",
   "metadata": {},
   "outputs": [],
   "source": [
    "projected = psi_tensor[0, 0, 0, 0, 0, 0, 0, 0, 0, 0, :]\n",
    "reduced_sv = Statevector(projected.flatten())"
   ]
  },
  {
   "cell_type": "code",
   "execution_count": 19,
   "id": "27",
   "metadata": {},
   "outputs": [],
   "source": [
    "cl_vector = mat_cl @ init_data"
   ]
  },
  {
   "cell_type": "markdown",
   "id": "28",
   "metadata": {},
   "source": [
    "We compare the projected state on $|0\\rangle_{\\rm block}$ with the expected classical result (in absolute value)"
   ]
  },
  {
   "cell_type": "code",
   "execution_count": 27,
   "id": "29",
   "metadata": {},
   "outputs": [
    {
     "data": {
      "image/png": "[encoded data removed]",
      "text/plain": [
       "<Figure size 640x480 with 1 Axes>"
      ]
     },
     "metadata": {},
     "output_type": "display_data"
    }
   ],
   "source": [
    "import matplotlib.pyplot as plt\n",
    "\n",
    "plt.plot(np.abs(cl_vector), \"o\", label=\"expected state\")\n",
    "plt.plot(np.abs(reduced_sv) * BE_NORM_FACTOR, \".\", label=\"projected quantum state\")\n",
    "plt.legend();"
   ]
  },
  {
   "cell_type": "markdown",
   "id": "30",
   "metadata": {},
   "source": [
    "We also compute the norm for the difference between the results"
   ]
  },
  {
   "cell_type": "code",
   "execution_count": 30,
   "id": "31",
   "metadata": {},
   "outputs": [
    {
     "name": "stdout",
     "output_type": "stream",
     "text": [
      "The L2-norm: 1.5013973106103977e-11\n"
     ]
    }
   ],
   "source": [
    "l2_norm = np.linalg.norm(cl_vector - np.array(reduced_sv) * BE_NORM_FACTOR)\n",
    "print(f\"The L2-norm: {l2_norm}\")\n",
    "assert l2_norm < 1e-10"
   ]
  },
  {
   "cell_type": "markdown",
   "id": "32",
   "metadata": {},
   "source": [
    "## QSVT step"
   ]
  },
  {
   "cell_type": "code",
   "execution_count": 22,
   "id": "33",
   "metadata": {},
   "outputs": [],
   "source": [
    "def get_reflect_around_zero(size):\n",
    "    qc = QuantumCircuit(size)\n",
    "    qc.x(0)\n",
    "    qc.h(0)\n",
    "    qc.mcx(\n",
    "        control_qubits=[k for k in range(1, size)],\n",
    "        ctrl_state=\"0\" * (size - 1),\n",
    "        target_qubit=[0],\n",
    "    )\n",
    "    qc.h(0)\n",
    "    qc.x(0)\n",
    "\n",
    "    return qc\n",
    "\n",
    "\n",
    "def apply_projector_controlled_phase(qc, phase, block_reg, aux_reg):\n",
    "    qc.append(XGate().control(len(block_reg), ctrl_state=0), block_reg[:] + aux_reg[:])\n",
    "    qc.rz(phase, aux_reg)\n",
    "\n",
    "    qc.append(XGate().control(len(block_reg), ctrl_state=0), block_reg[:] + aux_reg[:])\n",
    "\n",
    "\n",
    "def apply_qsvt_step(qc, phase1, phase2, u, data, block, aux, qsvt_aux):\n",
    "\n",
    "    qc.append(u, data[:] + block[:] + aux[:])\n",
    "    apply_projector_controlled_phase(qc, phase1, block, qsvt_aux)\n",
    "    qc.append(u.inverse(), data[:] + block[:] + aux[:])\n",
    "    apply_projector_controlled_phase(qc, phase2, block, qsvt_aux)"
   ]
  },
  {
   "cell_type": "code",
   "execution_count": 23,
   "id": "34",
   "metadata": {},
   "outputs": [],
   "source": [
    "def get_qsvt_circuit():\n",
    "\n",
    "    data = QuantumRegister(N_X + N_V + 1, \"data\")\n",
    "    block = QuantumRegister(8, \"block\")\n",
    "    aux = QuantumRegister(2, \"aux\")\n",
    "    qsvt_aux = QuantumRegister(1, \"qsvt_aux\")\n",
    "\n",
    "    qsvt_cir = QuantumCircuit(data, block, qsvt_aux, aux)\n",
    "\n",
    "    apply_qsvt_step(\n",
    "        qsvt_cir,\n",
    "        0.1,  # dummy angles\n",
    "        0.2,  # dummy angles\n",
    "        be_qc,\n",
    "        data,\n",
    "        block,\n",
    "        aux,\n",
    "        qsvt_aux,\n",
    "    )\n",
    "\n",
    "    return qsvt_cir"
   ]
  },
  {
   "cell_type": "code",
   "execution_count": 24,
   "id": "35",
   "metadata": {},
   "outputs": [],
   "source": [
    "qc_qsvt = get_qsvt_circuit()"
   ]
  },
  {
   "cell_type": "code",
   "execution_count": 31,
   "id": "36",
   "metadata": {},
   "outputs": [
    {
     "name": "stdout",
     "output_type": "stream",
     "text": [
      "width: 18\n",
      "depth: 475033\n",
      "cx: 248500\n"
     ]
    }
   ],
   "source": [
    "tqc_qsvt = transpile(qc_qsvt, basis_gates=[\"u\", \"cx\"], optimization_level=3)\n",
    "print(f\"width: {tqc_qsvt.width()}\")\n",
    "print(f\"depth: {tqc_qsvt.depth()}\")\n",
    "print(f\"cx: {tqc_qsvt.count_ops()['cx']}\")"
   ]
  }
 ],
 "metadata": {
  "kernelspec": {
   "display_name": "Python 3 (ipykernel)",
   "language": "python",
   "name": "python3"
  },
  "language_info": {
   "codemirror_mode": {
    "name": "ipython",
    "version": 3
   },
   "file_extension": ".py",
   "mimetype": "text/x-python",
   "name": "python",
   "nbconvert_exporter": "python",
   "pygments_lexer": "ipython3",
   "version": "3.11.9"
  }
 },
 "nbformat": 4,
 "nbformat_minor": 9
}
