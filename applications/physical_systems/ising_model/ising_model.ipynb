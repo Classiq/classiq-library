{
 "cells": [
  {
   "cell_type": "markdown",
   "id": "502af142-93c5-4884-ab8a-982266c0879c",
   "metadata": {},
   "source": [
    "# Ising Model\n",
    "\n",
    "The Ising model is an important physical model, which manifest in various applications. Originally, the model was formulated to reflect interactions between magnetic dipole moments of atomic spins in lattices but since, it was found relevant to describe many systems, such as genetic markers[1], superconducting layered compounds[2], Majorana fermions[3], voter model[4].\n",
    "\n",
    "The Ising model is essentially a second order interaction Hamiltonian, which describes the state of the system according to the Hamiltonian ground state and thermodynamical properties. As such, the Ising model is also an example of Quadratic unconstrained binary optimization (QUBO) and thus can be mapped to solve NP hard problem. For example, one can equivalently formulated a graph maximum cut (Max-Cut) to an Ising model.\n",
    "\n",
    "Using Classiq's platform, we hereby demonstrate how to formulate the Ising model into an optimization problem, which will be sent to solution using Classiq's quantum approximated optimization algorithm (QAOA). The results of the model are obtained using execution of a quantum simulator, and can be similarly redirected to execution using other simulators or even quantum hardware (see [5] for execution options)."
   ]
  },
  {
   "cell_type": "markdown",
   "id": "b4f19f49-8eda-4505-ad82-9db5b6f317c1",
   "metadata": {},
   "source": [
    "## 0. Pre-requirments\n",
    "\n",
    "The model is using several Classiq's libraries in addition to basic python tools."
   ]
  },
  {
   "cell_type": "code",
   "execution_count": 1,
   "id": "c6bb59fb-285b-439d-871e-7952c2df8db2",
   "metadata": {
    "tags": []
   },
   "outputs": [],
   "source": [
    "import numpy as np\n",
    "import pyomo.core as pyo"
   ]
  },
  {
   "cell_type": "markdown",
   "id": "87467107-a15a-4eab-8931-c4d0f32559d1",
   "metadata": {},
   "source": [
    "## 1. Define the Optimization Problem\n",
    "\n",
    "We created a python pyomo model to describe an Ising model as optimization problem over the configuration of spins. We take a simple manifestation of the 1d Ising model, described as [6]:\n",
    "\n",
    "$H(\\sigma) = -\\sum\\limits _{i,j}J\\sigma_{i}\\sigma_{j}-\\sum\\limits _{i} h\\sigma_{i}$\n",
    "\n",
    "where for any two adjacent sites $i, j$ there is an interaction $J$, and for any site $i$ there is a contribution of magnetic field $h$. Here, $\\sigma$ represent the spin's value, it is discrete and can have value within the set of ${-1,1}$. We use transformation of $\\sigma \\rightarrow (2*z-1)$, where $z$ is a binary variable.\n",
    "\n",
    "An option for periodic boundary condition for the 1d spin structure is embedded in the model, which declares whether the first and last spins are interacting in the model (i.e., whether the spin configuration is of closed chain, or open line)."
   ]
  },
  {
   "cell_type": "code",
   "execution_count": 2,
   "id": "37e95f02-075e-45f6-94f1-6951ea81b0a4",
   "metadata": {
    "tags": []
   },
   "outputs": [],
   "source": [
    "def ising_model_1d(J: int, h: int, n: int, periodic: str) -> pyo.ConcreteModel:\n",
    "    model = pyo.ConcreteModel(\"ising\")\n",
    "\n",
    "    # Define the variables:\n",
    "    model.z = pyo.Var(range(n), domain=pyo.Binary)\n",
    "    z_array = np.array(list(model.z.values()))\n",
    "\n",
    "    E = lambda i, j: -J * (2 * z_array[i] - 1) * (2 * z_array[j] - 1) - (h / 2) * (\n",
    "        (2 * z_array[i] - 1) + (2 * z_array[j] - 1)\n",
    "    )\n",
    "\n",
    "    # create the ising Hamiltonian\n",
    "    if periodic == \"True\":\n",
    "        model.H = E(0, n - 1)\n",
    "    if periodic == \"False\":\n",
    "        model.H = -(h / 2) * ((2 * z_array[0] - 1) + (2 * z_array[n - 1] - 1))\n",
    "    for i in range(n - 1):\n",
    "        model.H = model.H + E(i, i + 1)\n",
    "\n",
    "    # setting the objective:\n",
    "    model.cost = pyo.Objective(expr=model.H, sense=pyo.minimize)\n",
    "\n",
    "    return model"
   ]
  },
  {
   "cell_type": "markdown",
   "id": "7e00dbb0-2d79-4f3c-a765-dca0ea111505",
   "metadata": {},
   "source": [
    "## 2. Create your Ising model\n",
    "\n",
    "The user choses what parameters of interaction coupling $J$ and magnetic field $h$ to insert, in addition to whether the boundry conditions are periodic."
   ]
  },
  {
   "cell_type": "code",
   "execution_count": 3,
   "id": "c053de5b-bbb4-4c8e-b86a-840d792c407f",
   "metadata": {
    "tags": []
   },
   "outputs": [],
   "source": [
    "ising_model = ising_model_1d(J=10, h=-20, n=6, periodic=\"True\")"
   ]
  },
  {
   "cell_type": "markdown",
   "id": "098444e8-c93f-42a8-aeeb-5a13e039565a",
   "metadata": {
    "tags": []
   },
   "source": [
    "## 3. Optimize Using to Quantum Optimization Algorithm\n",
    "\n",
    "We will now create a QAOA model for the optimization problem. The results of the model is the sequance of qubit values giving the minimized energy for the protein. In order to optimize the results, we recommend the user to explore the number of repatitions for the model (`num_layers`) and the number of iterations for the optimizer (`maxiter`)."
   ]
  },
  {
   "cell_type": "code",
   "execution_count": 5,
   "id": "b2c6406f-8aa3-4674-870e-13b5a36b50dc",
   "metadata": {},
   "outputs": [],
   "source": [
    "from classiq import *\n",
    "from classiq.applications.combinatorial_optimization import CombinatorialProblem\n",
    "\n",
    "combi = CombinatorialProblem(pyo_model=ising_model, num_layers=5, penalty_factor=10)\n",
    "\n",
    "qmod = combi.get_model()\n",
    "write_qmod(qmod, \"ising_model\")"
   ]
  },
  {
   "cell_type": "markdown",
   "id": "5f476b81-ce50-4cc5-a8d7-13c7b5033e0e",
   "metadata": {},
   "source": [
    "Now we can create a quantum circuit using the `get_qprog` command and show it"
   ]
  },
  {
   "cell_type": "code",
   "execution_count": 9,
   "id": "0b28f2dc-26ec-4975-9e1f-41adfdd75cb4",
   "metadata": {
    "pycharm": {
     "name": "#%%\n"
    },
    "tags": []
   },
   "outputs": [
    {
     "name": "stdout",
     "output_type": "stream",
     "text": [
      "Opening: https://nightly.platform.classiq.io/circuit/0b452fbf-fc23-4a09-b800-6ad828f47e96?version=0.61.0.dev7\n"
     ]
    }
   ],
   "source": [
    "qprog = combi.get_qprog()\n",
    "show(qprog)"
   ]
  },
  {
   "cell_type": "markdown",
   "id": "b2ae85bb-2625-47ea-a112-5bbbd37fd6d5",
   "metadata": {},
   "source": [
    "We also set the quantum backend we want to execute on:"
   ]
  },
  {
   "cell_type": "code",
   "execution_count": 15,
   "id": "4f779a6a-dae4-4235-92be-f90820fbfbeb",
   "metadata": {
    "tags": []
   },
   "outputs": [],
   "source": [
    "from classiq.execution import *\n",
    "\n",
    "execution_preferences = ExecutionPreferences(\n",
    "    backend_preferences=ClassiqBackendPreferences(backend_name=\"simulator\")\n",
    ")"
   ]
  },
  {
   "cell_type": "markdown",
   "id": "8ce840ba-1d3e-461c-99f2-5045d8cb8e29",
   "metadata": {},
   "source": [
    "We now solve the problem by calling the `optimize` function:"
   ]
  },
  {
   "cell_type": "code",
   "execution_count": 16,
   "id": "6daf89c6-2e5c-41b5-b162-dfd048014919",
   "metadata": {
    "tags": []
   },
   "outputs": [
    {
     "name": "stdout",
     "output_type": "stream",
     "text": [
      "CPU times: user 8.15 s, sys: 211 ms, total: 8.36 s\n",
      "Wall time: 2min 39s\n"
     ]
    }
   ],
   "source": [
    "%%time\n",
    "cost_values = []\n",
    "optimized_params = combi.optimize(\n",
    "    execution_preferences, maxiter=100, cost_trace=cost_values, quantile=0.7\n",
    ")"
   ]
  },
  {
   "cell_type": "markdown",
   "id": "8bbd9d65-d489-40c0-9247-62ebfb5b0f57",
   "metadata": {},
   "source": [
    "We can check the convergence of the run:"
   ]
  },
  {
   "cell_type": "code",
   "execution_count": 17,
   "id": "370e71c6-764e-4296-882a-d5daa14d3176",
   "metadata": {
    "tags": []
   },
   "outputs": [
    {
     "data": {
      "text/plain": [
       "Text(0.5, 1.0, 'Cost convergence')"
      ]
     },
     "execution_count": 17,
     "metadata": {},
     "output_type": "execute_result"
    },
    {
     "data": {
      "image/png": "[encoded data removed]",
      "text/plain": [
       "<Figure size 640x480 with 1 Axes>"
      ]
     },
     "metadata": {},
     "output_type": "display_data"
    }
   ],
   "source": [
    "import matplotlib.pyplot as plt\n",
    "\n",
    "fig, axes = plt.subplots(nrows=1, ncols=1)\n",
    "axes.plot(cost_values)\n",
    "axes.set_xlabel(\"Iterations\")\n",
    "axes.set_ylabel(\"Cost\")\n",
    "axes.set_title(\"Cost convergence\")"
   ]
  },
  {
   "cell_type": "markdown",
   "id": "9f3a4b15-136a-4de1-9fa3-a3fcf23d23cd",
   "metadata": {},
   "source": [
    "## 4. Present Quantum Results\n",
    "\n",
    "we call the `get_results` method to get samples with the optimzied parameters. We hereby present the optimization results. Since this is a quantum solution with probabilistic results, there is a defined probability for each result to be obtained by a measurement (presented by an histogram), where the solution is chosen to be the most probable one.\n",
    "\n",
    "We remind that in the notation of the solution \"0\" indicate \"-1\" spin value, and \"1\" indicates \"1\" spin value."
   ]
  },
  {
   "cell_type": "code",
   "execution_count": 18,
   "id": "2c35bcde-2d6e-4ed0-aa70-325dbf5a7846",
   "metadata": {},
   "outputs": [
    {
     "data": {
      "text/html": [
       "<div>\n",
       "<style scoped>\n",
       "    .dataframe tbody tr th:only-of-type {\n",
       "        vertical-align: middle;\n",
       "    }\n",
       "\n",
       "    .dataframe tbody tr th {\n",
       "        vertical-align: top;\n",
       "    }\n",
       "\n",
       "    .dataframe thead th {\n",
       "        text-align: right;\n",
       "    }\n",
       "</style>\n",
       "<table border=\"1\" class=\"dataframe\">\n",
       "  <thead>\n",
       "    <tr style=\"text-align: right;\">\n",
       "      <th></th>\n",
       "      <th>solution</th>\n",
       "      <th>probability</th>\n",
       "      <th>cost</th>\n",
       "    </tr>\n",
       "  </thead>\n",
       "  <tbody>\n",
       "    <tr>\n",
       "      <th>0</th>\n",
       "      <td>{'z_0': 0, 'z_1': 0, 'z_2': 0, 'z_3': 0, 'z_4'...</td>\n",
       "      <td>0.608887</td>\n",
       "      <td>-180.0</td>\n",
       "    </tr>\n",
       "    <tr>\n",
       "      <th>21</th>\n",
       "      <td>{'z_0': 1, 'z_1': 0, 'z_2': 0, 'z_3': 0, 'z_4'...</td>\n",
       "      <td>0.007812</td>\n",
       "      <td>-100.0</td>\n",
       "    </tr>\n",
       "    <tr>\n",
       "      <th>19</th>\n",
       "      <td>{'z_0': 0, 'z_1': 0, 'z_2': 0, 'z_3': 0, 'z_4'...</td>\n",
       "      <td>0.008789</td>\n",
       "      <td>-100.0</td>\n",
       "    </tr>\n",
       "    <tr>\n",
       "      <th>16</th>\n",
       "      <td>{'z_0': 0, 'z_1': 0, 'z_2': 0, 'z_3': 1, 'z_4'...</td>\n",
       "      <td>0.010254</td>\n",
       "      <td>-100.0</td>\n",
       "    </tr>\n",
       "    <tr>\n",
       "      <th>14</th>\n",
       "      <td>{'z_0': 0, 'z_1': 0, 'z_2': 1, 'z_3': 0, 'z_4'...</td>\n",
       "      <td>0.011230</td>\n",
       "      <td>-100.0</td>\n",
       "    </tr>\n",
       "  </tbody>\n",
       "</table>\n",
       "</div>"
      ],
      "text/plain": [
       "                                             solution  probability   cost\n",
       "0   {'z_0': 0, 'z_1': 0, 'z_2': 0, 'z_3': 0, 'z_4'...     0.608887 -180.0\n",
       "21  {'z_0': 1, 'z_1': 0, 'z_2': 0, 'z_3': 0, 'z_4'...     0.007812 -100.0\n",
       "19  {'z_0': 0, 'z_1': 0, 'z_2': 0, 'z_3': 0, 'z_4'...     0.008789 -100.0\n",
       "16  {'z_0': 0, 'z_1': 0, 'z_2': 0, 'z_3': 1, 'z_4'...     0.010254 -100.0\n",
       "14  {'z_0': 0, 'z_1': 0, 'z_2': 1, 'z_3': 0, 'z_4'...     0.011230 -100.0"
      ]
     },
     "execution_count": 18,
     "metadata": {},
     "output_type": "execute_result"
    }
   ],
   "source": [
    "optimization_result = combi.get_results()\n",
    "optimization_result.sort_values(by=\"cost\").head(5)"
   ]
  },
  {
   "cell_type": "markdown",
   "id": "06d70826-8ba1-4705-ae87-1a3c4ba5d69a",
   "metadata": {},
   "source": [
    "Best Solution:"
   ]
  },
  {
   "cell_type": "code",
   "execution_count": 32,
   "id": "1b2775b1-7b12-4a0a-9931-eacdee4e5127",
   "metadata": {},
   "outputs": [
    {
     "data": {
      "text/plain": [
       "{'z_0': 0, 'z_1': 0, 'z_2': 0, 'z_3': 0, 'z_4': 0, 'z_5': 0}"
      ]
     },
     "execution_count": 32,
     "metadata": {},
     "output_type": "execute_result"
    }
   ],
   "source": [
    "optimization_result.sort_values(by=\"cost\").iloc[0].solution"
   ]
  },
  {
   "cell_type": "code",
   "execution_count": 19,
   "id": "81d6f1dd-7e65-4118-bc8b-9ee662c72a68",
   "metadata": {
    "tags": []
   },
   "outputs": [
    {
     "data": {
      "text/plain": [
       "array([[<Axes: title={'center': 'cost'}>]], dtype=object)"
      ]
     },
     "execution_count": 19,
     "metadata": {},
     "output_type": "execute_result"
    },
    {
     "data": {
      "image/png": "[encoded data removed]",
      "text/plain": [
       "<Figure size 640x480 with 1 Axes>"
      ]
     },
     "metadata": {},
     "output_type": "display_data"
    }
   ],
   "source": [
    "optimization_result.hist(\"cost\", weights=optimization_result[\"probability\"])"
   ]
  },
  {
   "cell_type": "markdown",
   "id": "c6245acd-981b-48a7-82b1-2585ef752666",
   "metadata": {},
   "source": [
    "## References\n",
    "\n",
    "[1] The Ising model in physics and statistical genetics, J. Majewski, H. Li, J. Ott.\n",
    "\n",
    "[2] A short introduction to topological quantum computation, Ville T. Lahtinen and Jiannis K. Pachos.\n",
    "\n",
    "[3] Recent progresses in two-dimensional Ising superconductivity, W. Li et al.\n",
    "\n",
    "[4] Phase transition and power-law coarsening in Ising-doped voter model, Adam Lipowski, Dorota Lipowska, Antonio L. Ferreira.\n",
    "\n",
    "[5] Classiq's user guide, execution options: https://docs.classiq.io/latest/user-guide/execution/\n",
    "\n",
    "[6] The Ising model in wikepidia https://en.wikipedia.org/wiki/Ising_model"
   ]
  }
 ],
 "metadata": {
  "kernelspec": {
   "display_name": "Python 3 (ipykernel)",
   "language": "python",
   "name": "python3"
  },
  "language_info": {
   "codemirror_mode": {
    "name": "ipython",
    "version": 3
   },
   "file_extension": ".py",
   "mimetype": "text/x-python",
   "name": "python",
   "nbconvert_exporter": "python",
   "pygments_lexer": "ipython3",
   "version": "3.11.4"
  },
  "vscode": {
   "interpreter": {
    "hash": "a07aacdcc8a415e7643a2bc993226848ff70704ebef014f87460de9126b773d0"
   }
  }
 },
 "nbformat": 4,
 "nbformat_minor": 5
}
