{
 "cells": [
  {
   "cell_type": "markdown",
   "id": "0ca9fc06",
   "metadata": {},
   "source": [
    "# Autocallables with Integration Amplitude Loading\n",
    "In this Notebook we will go through the implementation of the Integration Amplitude Loading Method for the autocallables based on https://arxiv.org/pdf/2402.05574.pdf and https://arxiv.org/pdf/2012.03819 using classiq platform QMOD language."
   ]
  },
  {
   "cell_type": "markdown",
   "id": "02ee59d9",
   "metadata": {},
   "source": [
    "## Data Definitions"
   ]
  },
  {
   "cell_type": "code",
   "execution_count": null,
   "id": "7c206d17",
   "metadata": {
    "collapsed": false,
    "jupyter": {
     "outputs_hidden": false
    }
   },
   "outputs": [],
   "source": [
    "import numpy as np\n",
    "import scipy\n",
    "\n",
    "S = 18 # notional value (can be asset initial price)\n",
    "dt = 1 #in year\n",
    "NUM_MARKET_DAYS_IN_YEAR = 250\n",
    "\n",
    "DAILY_SIGMA = 0.0150694 #daily std log return\n",
    "DAILY_MU = 0.00050963 #daily mean log return\n",
    "\n",
    "SIGMA = DAILY_SIGMA*np.sqrt(NUM_MARKET_DAYS_IN_YEAR) #annual\n",
    "MU = DAILY_MU*NUM_MARKET_DAYS_IN_YEAR #annual\n",
    "\n",
    "b = 0.7 # binary barrier (to check with returns)\n",
    "K_comp = 1 # K put (to check with returns)\n",
    "K = K_comp*S # K put (to to use for the payoff)\n",
    "r= 0.04 #annual risk free rate\n",
    "\n",
    "K_bin_1 = 1.1 # K binaries (to check with returns)\n",
    "K_bin_2 = 1.1 # K binaries (to check with returns)\n",
    "K_bin_norm = [np.log(K_bin_1), np.log(K_bin_2)] # K binaries (to check with log returns)\n",
    "bin_1_payoff = 2*np.exp(-r*1) # payoff binaries already discounted\n",
    "bin_2_payoff = 3*np.exp(-r*2) # payoff binaries already discounted\n",
    "\n",
    "\n",
    "NUM_QUBITS = 2\n",
    "TIME_STEPS = 3 # 3 years"
   ]
  },
  {
   "cell_type": "code",
   "execution_count": null,
   "id": "59e0677c",
   "metadata": {},
   "outputs": [],
   "source": [
    "PRECISION = 2"
   ]
  },
  {
   "cell_type": "code",
   "execution_count": null,
   "id": "6e49bfce",
   "metadata": {},
   "outputs": [],
   "source": [
    "NUM_QUBITS*TIME_STEPS"
   ]
  },
  {
   "cell_type": "markdown",
   "id": "4d310535",
   "metadata": {},
   "source": [
    "## Gaussian State preparation"
   ]
  },
  {
   "cell_type": "code",
   "execution_count": null,
   "id": "0b6cd02e",
   "metadata": {},
   "outputs": [],
   "source": [
    "def gaussian_discretization(num_qubits, mu=0, sigma=1, stds_around_mean_to_include=3):\n",
    "    lower = mu - stds_around_mean_to_include * sigma\n",
    "    upper = mu + stds_around_mean_to_include * sigma\n",
    "    num_of_bins = 2**num_qubits\n",
    "    sample_points = np.linspace(lower, upper, num_of_bins + 1)\n",
    "\n",
    "    def single_gaussian(x: np.ndarray, _mu: float, _sigma: float) -> np.ndarray:\n",
    "        cdf = scipy.stats.norm.cdf(x, loc=_mu, scale=_sigma)\n",
    "        return cdf[1:] - cdf[0:-1]\n",
    "\n",
    "    non_normalized_pmf = (single_gaussian(sample_points, mu, sigma),)\n",
    "    real_probs = non_normalized_pmf / np.sum(non_normalized_pmf)\n",
    "    return sample_points[:-1], real_probs[0].tolist()\n",
    "\n",
    "\n",
    "grid_points, probabilities = gaussian_discretization(NUM_QUBITS, stds_around_mean_to_include=3)\n",
    "\n",
    "STEP_X = grid_points[1] - grid_points[0]\n",
    "MIN_X = grid_points[0]"
   ]
  },
  {
   "cell_type": "markdown",
   "id": "bcdc0bdb",
   "metadata": {},
   "source": [
    "## Rescalings"
   ]
  },
  {
   "cell_type": "markdown",
   "id": "2ff92132",
   "metadata": {},
   "source": [
    "Compute $R_T^{max}$ resulting from discretization."
   ]
  },
  {
   "cell_type": "code",
   "execution_count": null,
   "id": "0f57310c",
   "metadata": {},
   "outputs": [],
   "source": [
    "R_T_MAX_PROP = 0\n",
    "\n",
    "if MU>0 and SIGMA>0:\n",
    "    R_T_MAX_PROP = TIME_STEPS*(MU*dt + SIGMA*np.sqrt(dt)*(grid_points[-1]))\n",
    "\n",
    "R_T_MIN_PROP = 0\n",
    "\n",
    "if MU>0 and SIGMA>0:\n",
    "    R_T_MIN_PROP = TIME_STEPS*(MU*dt + SIGMA*np.sqrt(dt)*(grid_points[0]))\n",
    "\n",
    "R_T_MAX_PROP = np.max([np.abs(R_T_MIN_PROP), np.abs(R_T_MAX_PROP)])\n",
    "\n",
    "R_T_MAX = np.log(np.max([(np.exp(TIME_STEPS*r)*bin_2_payoff)+K, (np.exp(TIME_STEPS*r)*bin_1_payoff)+K, K])/S)\n",
    "R_T_MAX = max(R_T_MAX_PROP, R_T_MAX)"
   ]
  },
  {
   "cell_type": "markdown",
   "id": "7e2ec6ab",
   "metadata": {},
   "source": [
    "In two's complement, given $N$ as number of qubits, we can represent from $-2^{N-1}$ and $2^{N-1}-1$."
   ]
  },
  {
   "cell_type": "code",
   "execution_count": null,
   "id": "8f0cb432",
   "metadata": {},
   "outputs": [],
   "source": [
    "a = 1/(2**PRECISION)"
   ]
  },
  {
   "cell_type": "code",
   "execution_count": null,
   "id": "ba3dd733",
   "metadata": {},
   "outputs": [],
   "source": [
    "if R_T_MAX < 1:\n",
    "    int_places = 1\n",
    "else:\n",
    "    int_places = np.ceil(np.log2(np.ceil(R_T_MAX))) + 1"
   ]
  },
  {
   "cell_type": "code",
   "execution_count": null,
   "id": "9263ac23",
   "metadata": {},
   "outputs": [],
   "source": [
    "num_norm_factor = ((np.exp(a*(2**(int_places+PRECISION)))-1))\n",
    "den_norm_factor = (np.exp(a*(2**(int_places+PRECISION-1)+1))) "
   ]
  },
  {
   "cell_type": "code",
   "execution_count": null,
   "id": "6500c253",
   "metadata": {},
   "outputs": [],
   "source": [
    "norm_factor = S*(num_norm_factor/den_norm_factor)"
   ]
  },
  {
   "cell_type": "markdown",
   "id": "9720568b",
   "metadata": {},
   "source": [
    "### Compute constant rotations"
   ]
  },
  {
   "cell_type": "code",
   "execution_count": null,
   "id": "34f0949c",
   "metadata": {},
   "outputs": [],
   "source": [
    "def compute_constant_rotation(const_payoff):\n",
    "    b1 = const_payoff*np.exp(r*TIME_STEPS)\n",
    "    num1 = (b1 + K)*den_norm_factor\n",
    "    den1 = S*num_norm_factor\n",
    "    den2 = num_norm_factor\n",
    "    num2 = 1\n",
    "    angle = (num1/den1) - (num2/den2)\n",
    "    return 2*np.arcsin(np.sqrt(angle))"
   ]
  },
  {
   "cell_type": "code",
   "execution_count": null,
   "id": "701bbdc4",
   "metadata": {},
   "outputs": [],
   "source": [
    "bin_1_payoff_rotation= compute_constant_rotation(bin_1_payoff)\n",
    "bin_2_payoff_rotation= compute_constant_rotation(bin_2_payoff)\n",
    "zero_rotation = compute_constant_rotation(0)"
   ]
  },
  {
   "cell_type": "code",
   "execution_count": null,
   "id": "dc910783",
   "metadata": {},
   "outputs": [],
   "source": [
    "bit_T_normalize = (S*np.exp(-r*TIME_STEPS))/den_norm_factor\n",
    "\n",
    "def postprocessing(x):\n",
    "    return (x*norm_factor*np.exp(-r*TIME_STEPS)) + bit_T_normalize - (K*np.exp(-r*TIME_STEPS))"
   ]
  },
  {
   "cell_type": "markdown",
   "id": "02902fd7",
   "metadata": {
    "collapsed": false,
    "jupyter": {
     "outputs_hidden": false
    }
   },
   "source": [
    "## Verifications"
   ]
  },
  {
   "cell_type": "code",
   "execution_count": null,
   "id": "4216365e",
   "metadata": {},
   "outputs": [],
   "source": [
    "bin_1_payoff"
   ]
  },
  {
   "cell_type": "code",
   "execution_count": null,
   "id": "31a4c019",
   "metadata": {},
   "outputs": [],
   "source": [
    "postprocessing((np.sin((compute_constant_rotation(bin_1_payoff)/2)))**2)"
   ]
  },
  {
   "cell_type": "code",
   "execution_count": null,
   "id": "a5e52abb",
   "metadata": {},
   "outputs": [],
   "source": [
    "bin_2_payoff"
   ]
  },
  {
   "cell_type": "code",
   "execution_count": null,
   "id": "acf9b285",
   "metadata": {},
   "outputs": [],
   "source": [
    "postprocessing((np.sin((compute_constant_rotation(bin_2_payoff)/2)))**2)"
   ]
  },
  {
   "cell_type": "code",
   "execution_count": null,
   "id": "7cfd83fc",
   "metadata": {},
   "outputs": [],
   "source": [
    "postprocessing((np.sin((compute_constant_rotation(0)/2)))**2)"
   ]
  },
  {
   "cell_type": "markdown",
   "id": "039bbf1c",
   "metadata": {},
   "source": [
    "Compute constants for comparisons"
   ]
  },
  {
   "cell_type": "code",
   "execution_count": null,
   "id": "5cf5b432",
   "metadata": {},
   "outputs": [],
   "source": [
    "b_norm = np.log(b)\n",
    "K_norm = np.log(K_comp)"
   ]
  },
  {
   "cell_type": "markdown",
   "id": "f37c7b41",
   "metadata": {},
   "source": [
    "## Classical Payoff"
   ]
  },
  {
   "cell_type": "code",
   "execution_count": null,
   "id": "5df4c12b",
   "metadata": {},
   "outputs": [],
   "source": [
    "import pandas as pd\n",
    "from itertools import product\n",
    "\n",
    "simulation = pd.DataFrame.from_dict({\"quantum_samples\": list(range(len(grid_points))) ,\"classical_samples\": grid_points, \"probabilities\": probabilities} )\n",
    "\n",
    "binary_combinations = list(product( range(2**NUM_QUBITS), repeat=TIME_STEPS))\n",
    "sim = pd.DataFrame(binary_combinations)\n",
    "new_col = [\"time_\" +str(i) for i in range(TIME_STEPS)]\n",
    "sim.columns = new_col"
   ]
  },
  {
   "cell_type": "code",
   "execution_count": null,
   "id": "164baab4",
   "metadata": {},
   "outputs": [],
   "source": [
    "def round_down(a):\n",
    "    precision_factor = 2 ** (PRECISION)\n",
    "    return np.floor(a * precision_factor) / precision_factor"
   ]
  },
  {
   "cell_type": "code",
   "execution_count": null,
   "id": "e1a549c8",
   "metadata": {},
   "outputs": [],
   "source": [
    "def round_factor(a):\n",
    "    #precision_factor = 2 ** (PRECISION)\n",
    "    #return np.round(a * precision_factor) / precision_factor\n",
    "    return floor_factor(a)\n",
    "\n",
    "def floor_factor(a):\n",
    "    precision_factor = 2 ** (PRECISION)\n",
    "    \n",
    "    if a >= 0:\n",
    "        return np.floor(a * precision_factor) / precision_factor\n",
    "    else:\n",
    "        return np.ceil(a * precision_factor) / precision_factor"
   ]
  },
  {
   "cell_type": "code",
   "execution_count": null,
   "id": "4addddfd",
   "metadata": {},
   "outputs": [],
   "source": [
    "for i in range(TIME_STEPS):\n",
    "    sim = sim.merge(simulation, left_on=\"time_\" + str(i) , right_on=\"quantum_samples\")\n",
    "    sim = sim.drop(\"quantum_samples\", axis=1)\n",
    "    new_col = new_col + [\"c_\" + str(i), \"q_prob_\" + str(i)]\n",
    "    sim.columns  = new_col\n",
    "    sim[\"log_ret_val_\" + str(i)] = round_factor(MU*dt + np.sqrt(dt)*SIGMA*MIN_X) + round_factor(SIGMA*np.sqrt(dt)*STEP_X) * sim[\"time_\" + str(i)]\n",
    "    new_col = new_col + [\"log_ret_val_\" + str(i)]\n",
    "    sim.columns  = new_col\n",
    "    if i!=0:\n",
    "        sim[\"log_ret_val_\" + str(i)] = sim[\"log_ret_val_\" + str(i)]+sim[\"log_ret_val_\" + str(i-1)] \n",
    "    sim[\"ret_val_\" + str(i)] = np.exp(sim[\"log_ret_val_\" + str(i)])\n",
    "    new_col = new_col + [\"ret_val_\" + str(i)]"
   ]
  },
  {
   "cell_type": "code",
   "execution_count": null,
   "id": "9c02ebcd",
   "metadata": {},
   "outputs": [],
   "source": [
    "sim[\"prob\"] = 1\n",
    "for i in range(TIME_STEPS):\n",
    "    sim[\"prob\"] = sim[\"prob\"]* sim[\"q_prob_\" + str(i)]"
   ]
  },
  {
   "cell_type": "code",
   "execution_count": null,
   "id": "3437bdcf",
   "metadata": {},
   "outputs": [],
   "source": [
    "for i in range(TIME_STEPS):\n",
    "    sim[\"b_crossed_\" + str(i)] = sim[\"log_ret_val_\" + str(i)] < round_factor(b_norm)\n",
    "\n",
    "sim[\"bin_1_activate\"] = sim[\"log_ret_val_0\"] > round_factor(K_bin_norm[0])\n",
    "sim[\"bin_2_activate\"] = sim[\"log_ret_val_1\"] > round_factor(K_bin_norm[1])\n",
    "\n",
    "sim[\"K_put\"] = sim[\"log_ret_val_\" + str(TIME_STEPS-1)] < round_factor(K_norm)\n",
    "\n",
    "sim[\"payoff\"] = 0.0\n",
    "\n",
    "sim.loc[sim[\"bin_1_activate\"],\"payoff\"] = bin_1_payoff\n",
    "sim.loc[(~sim[\"bin_1_activate\"]) & (sim[\"bin_2_activate\"]),\"payoff\"] = bin_2_payoff\n",
    "\n",
    "barrier_crossed_once = sim[\"b_crossed_0\"]\n",
    "for i in range(1 , TIME_STEPS):\n",
    "    barrier_crossed_once = barrier_crossed_once | sim[\"b_crossed_\" + str(i)]\n",
    "\n",
    "put_condition = (~((sim[\"bin_1_activate\"]) | (sim[\"bin_2_activate\"]))) & (barrier_crossed_once) & (sim[\"K_put\"])\n",
    "\n",
    "sim.loc[put_condition,\"payoff\"] = S*(sim[put_condition][\"ret_val_2\"]-K_comp)*np.exp(-r*TIME_STEPS)"
   ]
  },
  {
   "cell_type": "code",
   "execution_count": null,
   "id": "c61e1cbd",
   "metadata": {},
   "outputs": [],
   "source": [
    "expected_payoff = sum(sim[\"prob\"]*sim[\"payoff\"])"
   ]
  },
  {
   "cell_type": "code",
   "execution_count": null,
   "id": "559c13d8",
   "metadata": {},
   "outputs": [],
   "source": [
    "print(\"expected payoff classical: \" + str(expected_payoff))"
   ]
  },
  {
   "cell_type": "markdown",
   "id": "f79ba6f2",
   "metadata": {
    "tags": []
   },
   "source": [
    "## Integration Method circuit synthesis"
   ]
  },
  {
   "cell_type": "code",
   "execution_count": null,
   "id": "a5ccac23",
   "metadata": {},
   "outputs": [],
   "source": [
    "from classiq import *\n",
    "from classiq.qmod.symbolic import sqrt\n",
    "from classiq.execution import ExecutionPreferences\n",
    "\n",
    "\n",
    "@qfunc\n",
    "def integrator(exp_rate: CReal, x: QNum, ref: QNum, res: QBit) -> None:\n",
    "    prepare_exponential_state(-exp_rate, ref)\n",
    "    res ^= x >= ref"
   ]
  },
  {
   "cell_type": "code",
   "execution_count": null,
   "id": "9337200e",
   "metadata": {},
   "outputs": [],
   "source": [
    "def affine_py(x: QNum):\n",
    "    return MU*dt + SIGMA*sqrt(dt)*(x*STEP_X + MIN_X) "
   ]
  },
  {
   "cell_type": "code",
   "execution_count": null,
   "id": "6cc51921",
   "metadata": {},
   "outputs": [],
   "source": [
    "@qfunc\n",
    "def add_minimum(x: QArray):\n",
    "    X(x[x.size-1])"
   ]
  },
  {
   "cell_type": "code",
   "execution_count": null,
   "id": "86a69824",
   "metadata": {},
   "outputs": [],
   "source": [
    "round_K_bin_norm =[]\n",
    "round_b_norm = round_factor(b_norm)\n",
    "round_K_bin_norm.append(round_factor(K_bin_norm[0]))\n",
    "round_K_bin_norm.append(round_factor(K_bin_norm[1]))\n",
    "round_k_norm = round_factor(K_norm)"
   ]
  },
  {
   "cell_type": "code",
   "execution_count": null,
   "id": "07f52524",
   "metadata": {
    "collapsed": false,
    "jupyter": {
     "outputs_hidden": false
    }
   },
   "outputs": [],
   "source": [
    "@qfunc\n",
    "def integration_load_amplitudes(y: QNum, aux_reg: QNum, ind_reg: QBit):\n",
    "    exp_rate = (1 / (2**PRECISION))\n",
    "    integrator(exp_rate, y, aux_reg, ind_reg)\n",
    "\n",
    "@qfunc\n",
    "def integration_payoff(log_return: QNum, aux_reg: QNum, ind_reg: QBit):\n",
    "    log_return_unsigned = QNum(\"log_return_unsigned\", log_return.size, UNSIGNED, 0)\n",
    "    bind(log_return, log_return_unsigned)\n",
    "    add_minimum(log_return_unsigned)\n",
    "    integration_load_amplitudes(log_return_unsigned, aux_reg, ind_reg)\n",
    "    add_minimum(log_return_unsigned)\n",
    "    bind(log_return_unsigned, log_return)\n",
    "    \n",
    "@qfunc\n",
    "def check_barrier_crossed(log_return: QNum , barrier_crossed : QBit):\n",
    "    barrier_crossed ^= log_return < round_b_norm\n",
    "    \n",
    "@qfunc\n",
    "def check_binary(log_return: QNum, round_K_bin_norm: CReal, binary_valid : QBit):\n",
    "    binary_valid ^= log_return > round_K_bin_norm\n",
    "@qfunc\n",
    "def check_K_put(log_return: QNum[PRECISION+int_places, SIGNED, PRECISION] , k_put_valid : QBit):\n",
    "    k_put_valid ^= log_return < round_k_norm\n",
    "    \n",
    "@qfunc\n",
    "def binary_payoff(binary_payoff: CReal, target: QBit):\n",
    "    RY(binary_payoff, target)\n",
    "    \n",
    "@qfunc\n",
    "def zero_payoff(target: QBit):\n",
    "    RY(zero_rotation, target)\n",
    "\n",
    "@qfunc\n",
    "def check_put_activate(barriers_crossed: QArray, k_put_valid: QBit, put_alone_valid:QBit):\n",
    "    put_alone_valid ^= ((\n",
    "        (barriers_crossed[0] ==1)\n",
    "        | (barriers_crossed[1] ==1)\n",
    "        | (barriers_crossed[2]==1)\n",
    "    ) & (k_put_valid==1))==1\n",
    "\n",
    "@qfunc\n",
    "def populate_variable_for_conditions_check(\n",
    "        sum_log_return: QNum, \n",
    "        barriers_crossed:QArray,\n",
    "        first_bin_valid: Input[QBit], second_bin_valid:Input[QBit], \n",
    "        check_all_zeros: Output[QNum[3, False, 0]]\n",
    "):\n",
    "    k_put_valid = QBit(\"k_put_valid\")\n",
    "    \n",
    "    put_alone_valid = QBit(\"put_alone_valid\")\n",
    "    allocate(1, put_alone_valid)\n",
    "    \n",
    "    within_apply(\n",
    "        lambda : [\n",
    "            allocate(1, k_put_valid),\n",
    "            check_K_put(sum_log_return, k_put_valid),\n",
    "            check_barrier_crossed(sum_log_return, barriers_crossed[2]) #magari qui si può condizionare\n",
    "        ],\n",
    "        lambda: check_put_activate(barriers_crossed, k_put_valid, put_alone_valid)\n",
    "    )\n",
    "    \n",
    "    bind([put_alone_valid, first_bin_valid, second_bin_valid], check_all_zeros)\n",
    "\n",
    "@qfunc\n",
    "def final_payoff(check_all_zeros: QNum, sum_log_return:QNum, aux_reg:QNum, ind_reg:QBit):\n",
    "    control(check_all_zeros==0, lambda: zero_payoff(ind_reg))\n",
    "    control(check_all_zeros==1, lambda: integration_payoff(sum_log_return, aux_reg, ind_reg))\n",
    "\n",
    "\n",
    "@qfunc\n",
    "def autocallable_integration(\n",
    "    x: QArray[QNum, TIME_STEPS],\n",
    "    aux_reg: QNum,\n",
    "    ind_reg: QBit,\n",
    "    sum_log_return: QNum,\n",
    "    first_bin_valid: QBit,\n",
    "    second_bin_valid: QBit,\n",
    "    barriers_crossed: QArray[QBit]\n",
    ") -> None:\n",
    "    repeat(x.len, lambda i: inplace_prepare_state(probabilities, 0, x[i]))\n",
    "\n",
    "    sum_log_return ^= affine_py(x[0])\n",
    "    check_binary(sum_log_return, round_K_bin_norm[0], first_bin_valid)\n",
    "    control(first_bin_valid, lambda: binary_payoff(bin_1_payoff_rotation, ind_reg))\n",
    "    #check_barrier_crossed(sum_log_return, barriers_crossed[0])\n",
    "    check_barrier_crossed(sum_log_return, barriers_crossed[0])\n",
    "    \n",
    "    sum_log_return += affine_py(x[1])\n",
    "    check_binary(sum_log_return, round_K_bin_norm[1], second_bin_valid)\n",
    "    control( ((first_bin_valid==0) & (second_bin_valid==1))==1, lambda: binary_payoff(bin_2_payoff_rotation, ind_reg)) #check order\n",
    "    #check_barrier_crossed(sum_log_return, barriers_crossed[1]) #magari qui si può condizionare\n",
    "    check_barrier_crossed(sum_log_return, barriers_crossed[1])\n",
    "\n",
    "    sum_log_return += affine_py(x[2])\n",
    "\n",
    "    check_all_zeros = QNum(\"check_all_zeros\", 3)\n",
    "    within_apply(\n",
    "        lambda: populate_variable_for_conditions_check(sum_log_return, barriers_crossed, first_bin_valid, second_bin_valid, check_all_zeros),\n",
    "                 lambda: final_payoff(check_all_zeros, sum_log_return, aux_reg, ind_reg)\n",
    "    )"
   ]
  },
  {
   "cell_type": "markdown",
   "id": "194c5c2f",
   "metadata": {},
   "source": [
    "## IQAE functions and QStruct"
   ]
  },
  {
   "cell_type": "code",
   "execution_count": null,
   "id": "c62677d3",
   "metadata": {
    "collapsed": false,
    "jupyter": {
     "outputs_hidden": false
    }
   },
   "outputs": [],
   "source": [
    "from classiq import QStruct, CInt, cfunc, power, grover_operator, Z, iqae, save\n",
    "\n",
    "\n",
    "class OracleVars(QStruct):\n",
    "    x: QArray[QNum[NUM_QUBITS, False, 0], TIME_STEPS]\n",
    "    aux_reg: QNum[int_places+PRECISION, False, 0]\n",
    "    sum_log_return: QNum[PRECISION+int_places, SIGNED, PRECISION]\n",
    "    first_bin_valid: QBit\n",
    "    second_bin_valid: QBit\n",
    "    barriers_crossed: QArray[QBit, TIME_STEPS]\n",
    "\n",
    "class IQAEVars(QStruct):\n",
    "    state: OracleVars\n",
    "    ind_reg: QBit\n",
    "\n",
    "@qfunc\n",
    "def iqae_oracle(vars: IQAEVars):\n",
    "    Z(vars.ind_reg)\n",
    "\n",
    "@qfunc\n",
    "def iqae_state_preparation(iqae_vars: IQAEVars):\n",
    "    autocallable_integration(\n",
    "        iqae_vars.state.x,\n",
    "        iqae_vars.state.aux_reg,\n",
    "        iqae_vars.ind_reg,\n",
    "        iqae_vars.state.sum_log_return,\n",
    "        iqae_vars.state.first_bin_valid,\n",
    "        iqae_vars.state.second_bin_valid,\n",
    "        iqae_vars.state.barriers_crossed,\n",
    "    )\n",
    "\n",
    "@qfunc\n",
    "def main(\n",
    "    k: CInt,\n",
    "    ind_reg: Output[QBit],\n",
    ") -> None:\n",
    "    iqae_vars = IQAEVars(\"iqae_vars\")\n",
    "    allocate(NUM_QUBITS*TIME_STEPS+((int_places+PRECISION)*2)+2+ TIME_STEPS+1, iqae_vars)\n",
    "    iqae_state_preparation(iqae_vars)\n",
    "    power(\n",
    "        k,\n",
    "        lambda: grover_operator(\n",
    "            oracle=iqae_oracle,\n",
    "            space_transform=iqae_state_preparation,\n",
    "            packed_vars=iqae_vars,\n",
    "        )\n",
    "    )\n",
    "    state_reg = OracleVars(\"state_reg\")\n",
    "    bind(iqae_vars, [state_reg, ind_reg])\n",
    "\n",
    "@cfunc\n",
    "def cmain():\n",
    "    iqae_res = iqae(epsilon=0.001, alpha=0.002)\n",
    "    save({\"iqae_res\": iqae_res})\n",
    "\n",
    "\n"
   ]
  },
  {
   "cell_type": "markdown",
   "id": "2aa62bc4",
   "metadata": {},
   "source": [
    "## Base simulator sythesis"
   ]
  },
  {
   "cell_type": "code",
   "execution_count": null,
   "id": "5b52458f",
   "metadata": {},
   "outputs": [],
   "source": [
    "from time import time\n",
    "start_time = time()\n",
    "constraints = Constraints(optimization_parameter=\"width\")\n",
    "qmod = create_model(\n",
    "    main, \n",
    "    constraints=constraints, \n",
    "    classical_execution_function=cmain, \n",
    "    preferences=Preferences(machine_precision=PRECISION, timeout_seconds =2000 ),\n",
    "    execution_preferences = ExecutionPreferences(shots=100000)\n",
    ")\n",
    "print(\"Starting synthesis\")\n",
    "qprog = synthesize(qmod)\n",
    "show(qprog)"
   ]
  },
  {
   "cell_type": "code",
   "execution_count": null,
   "id": "bb4c7d89",
   "metadata": {
    "collapsed": false,
    "jupyter": {
     "outputs_hidden": false
    }
   },
   "outputs": [],
   "source": [
    "from classiq import QuantumProgram\n",
    "circuit = QuantumProgram.from_qprog(qprog)\n",
    "print(\"Circuit width: \", circuit.data.width)"
   ]
  },
  {
   "cell_type": "markdown",
   "id": "95d7c365",
   "metadata": {},
   "source": [
    "### Execution takes a lot of time\n",
    "See the results below"
   ]
  },
  {
   "cell_type": "code",
   "execution_count": null,
   "id": "2ee12a7e",
   "metadata": {},
   "outputs": [],
   "source": [
    "# job = execute(qprog)"
   ]
  },
  {
   "cell_type": "code",
   "execution_count": null,
   "id": "d8d71c69f78cb4e4",
   "metadata": {},
   "outputs": [],
   "source": [
    "# res_iqae= job.result_value()"
   ]
  },
  {
   "cell_type": "code",
   "execution_count": null,
   "id": "e246a4e0",
   "metadata": {},
   "outputs": [],
   "source": [
    "# print(\"the expected result from classical computation is: \" + str(expected_payoff))\n",
    "# print(\"the result from IQAE is: \" + str(postprocessing(res_iqae.estimation)))\n",
    "# print(\"the confidence interval of the quantum estimation is: \" + str(postprocessing(res_iqae.confidence_interval[0]))+\",\" +str(postprocessing(res_iqae.confidence_interval[1])) )\n",
    "# print(f\"Synthesis and execution time: {time() - start_time} seconds\")"
   ]
  },
  {
   "cell_type": "code",
   "execution_count": null,
   "id": "5a474534",
   "metadata": {
    "collapsed": false,
    "jupyter": {
     "outputs_hidden": false
    }
   },
   "outputs": [],
   "source": [
    "print(\"the expected result from classical computation is: \" + str(expected_payoff))\n",
    "print(\"the result from IQAE is: \" + str(-3.5079217726515903))\n",
    "print(\"the confidence interval of the quantum estimation is: \" + str(postprocessing(0.119158741))+\",\" +str(postprocessing(0.1197666)))"
   ]
  }
 ],
 "metadata": {
  "kernelspec": {
   "display_name": "Python 3 (ipykernel)",
   "language": "python",
   "name": "python3"
  },
  "language_info": {
   "codemirror_mode": {
    "name": "ipython",
    "version": 3
   },
   "file_extension": ".py",
   "mimetype": "text/x-python",
   "name": "python",
   "nbconvert_exporter": "python",
   "pygments_lexer": "ipython3",
   "version": "3.11.4"
  }
 },
 "nbformat": 4,
 "nbformat_minor": 5
}
