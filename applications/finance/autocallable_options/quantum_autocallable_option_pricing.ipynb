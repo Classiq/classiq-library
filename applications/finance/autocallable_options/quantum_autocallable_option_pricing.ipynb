{
 "cells": [
  {
   "cell_type": "markdown",
   "id": "0",
   "metadata": {},
   "source": [
    "# Autocallables with Integration Amplitude Loading\n",
    "This notebook covers the implementation of the Integration Amplitude Loading Method for the autocallables based on [[1]](#QALROP) and [[2]](#TQA) using the Classiq platform's Qmod language."
   ]
  },
  {
   "cell_type": "markdown",
   "id": "1",
   "metadata": {},
   "source": [
    "## Data Definitions"
   ]
  },
  {
   "cell_type": "code",
   "execution_count": 39,
   "id": "2",
   "metadata": {
    "jupyter": {
     "outputs_hidden": false
    }
   },
   "outputs": [],
   "source": [
    "import numpy as np\n",
    "import scipy\n",
    "\n",
    "S = 18  # notional value (can be asset initial price)\n",
    "dt = 1  # in year\n",
    "NUM_MARKET_DAYS_IN_YEAR = 250\n",
    "\n",
    "DAILY_SIGMA = 0.0150694  # daily std log return\n",
    "DAILY_MU = 0.00050963  # daily mean log return\n",
    "\n",
    "SIGMA = DAILY_SIGMA * np.sqrt(NUM_MARKET_DAYS_IN_YEAR)  # annual\n",
    "MU = DAILY_MU * NUM_MARKET_DAYS_IN_YEAR  # annual\n",
    "\n",
    "b = 0.7  # binary barrier (to check with returns)\n",
    "K_comp = 1  # K put (to check with returns)\n",
    "K = K_comp * S  # K put (to to use for the payoff)\n",
    "r = 0.04  # annual risk free rate\n",
    "\n",
    "K_bin_1 = 1.1  # K binaries (to check with returns)\n",
    "K_bin_2 = 1.1  # K binaries (to check with returns)\n",
    "K_bin_norm = [\n",
    "    np.log(K_bin_1),\n",
    "    np.log(K_bin_2),\n",
    "]  # K binaries (to check with log returns)\n",
    "bin_1_payoff = 2 * np.exp(-r * 1)  # payoff binaries already discounted\n",
    "bin_2_payoff = 3 * np.exp(-r * 2)  # payoff binaries already discounted\n",
    "\n",
    "\n",
    "NUM_QUBITS = 2\n",
    "TIME_STEPS = 3  # 3 years"
   ]
  },
  {
   "cell_type": "code",
   "execution_count": 40,
   "id": "3",
   "metadata": {},
   "outputs": [],
   "source": [
    "PRECISION = 2"
   ]
  },
  {
   "cell_type": "markdown",
   "id": "4",
   "metadata": {},
   "source": [
    "## Gaussian State Preparation"
   ]
  },
  {
   "cell_type": "code",
   "execution_count": 41,
   "id": "5",
   "metadata": {},
   "outputs": [],
   "source": [
    "def gaussian_discretization(num_qubits, mu=0, sigma=1, stds_around_mean_to_include=3):\n",
    "    lower = mu - stds_around_mean_to_include * sigma\n",
    "    upper = mu + stds_around_mean_to_include * sigma\n",
    "    num_of_bins = 2**num_qubits\n",
    "    sample_points = np.linspace(lower, upper, num_of_bins + 1)\n",
    "\n",
    "    def single_gaussian(x: np.ndarray, _mu: float, _sigma: float) -> np.ndarray:\n",
    "        cdf = scipy.stats.norm.cdf(x, loc=_mu, scale=_sigma)\n",
    "        return cdf[1:] - cdf[0:-1]\n",
    "\n",
    "    non_normalized_pmf = (single_gaussian(sample_points, mu, sigma),)\n",
    "    real_probs = non_normalized_pmf / np.sum(non_normalized_pmf)\n",
    "    return sample_points[:-1], real_probs[0].tolist()\n",
    "\n",
    "\n",
    "grid_points, probabilities = gaussian_discretization(\n",
    "    NUM_QUBITS, stds_around_mean_to_include=3\n",
    ")\n",
    "\n",
    "STEP_X = grid_points[1] - grid_points[0]\n",
    "MIN_X = grid_points[0]"
   ]
  },
  {
   "cell_type": "markdown",
   "id": "6",
   "metadata": {},
   "source": [
    "## Rescalings"
   ]
  },
  {
   "cell_type": "markdown",
   "id": "7",
   "metadata": {},
   "source": [
    "Compute $R_T^{max}$ resulting from discretization:"
   ]
  },
  {
   "cell_type": "code",
   "execution_count": 42,
   "id": "8",
   "metadata": {},
   "outputs": [],
   "source": [
    "R_T_MAX_PROP = 0\n",
    "\n",
    "if MU > 0 and SIGMA > 0:\n",
    "    R_T_MAX_PROP = TIME_STEPS * (MU * dt + SIGMA * np.sqrt(dt) * (grid_points[-1]))\n",
    "\n",
    "R_T_MIN_PROP = 0\n",
    "\n",
    "if MU > 0 and SIGMA > 0:\n",
    "    R_T_MIN_PROP = TIME_STEPS * (MU * dt + SIGMA * np.sqrt(dt) * (grid_points[0]))\n",
    "\n",
    "R_T_MAX_PROP = np.max([np.abs(R_T_MIN_PROP), np.abs(R_T_MAX_PROP)])\n",
    "\n",
    "R_T_MAX = np.log(\n",
    "    np.max(\n",
    "        [\n",
    "            (np.exp(TIME_STEPS * r) * bin_2_payoff) + K,\n",
    "            (np.exp(TIME_STEPS * r) * bin_1_payoff) + K,\n",
    "            K,\n",
    "        ]\n",
    "    )\n",
    "    / S\n",
    ")\n",
    "R_T_MAX = max(R_T_MAX_PROP, R_T_MAX)"
   ]
  },
  {
   "cell_type": "markdown",
   "id": "9",
   "metadata": {},
   "source": [
    "In two's complement, given $N$ as the number of qubits, represent from $-2^{N-1}$ and $2^{N-1}-1$:"
   ]
  },
  {
   "cell_type": "code",
   "execution_count": 43,
   "id": "10",
   "metadata": {},
   "outputs": [],
   "source": [
    "a = 1 / (2**PRECISION)"
   ]
  },
  {
   "cell_type": "code",
   "execution_count": 44,
   "id": "11",
   "metadata": {},
   "outputs": [],
   "source": [
    "if R_T_MAX < 1:\n",
    "    int_places = 1\n",
    "else:\n",
    "    int_places = np.ceil(np.log2(np.ceil(R_T_MAX))) + 1"
   ]
  },
  {
   "cell_type": "code",
   "execution_count": 45,
   "id": "12",
   "metadata": {},
   "outputs": [],
   "source": [
    "num_norm_factor = np.exp(a * (2 ** (int_places + PRECISION))) - 1\n",
    "den_norm_factor = np.exp(a * (2 ** (int_places + PRECISION - 1) + 1))"
   ]
  },
  {
   "cell_type": "code",
   "execution_count": 46,
   "id": "13",
   "metadata": {},
   "outputs": [],
   "source": [
    "norm_factor = S * (num_norm_factor / den_norm_factor)"
   ]
  },
  {
   "cell_type": "markdown",
   "id": "14",
   "metadata": {},
   "source": [
    "## Compute Constant Rotations"
   ]
  },
  {
   "cell_type": "code",
   "execution_count": 47,
   "id": "15",
   "metadata": {},
   "outputs": [],
   "source": [
    "def compute_constant_rotation(const_payoff):\n",
    "    b1 = const_payoff * np.exp(r * TIME_STEPS)\n",
    "    num1 = (b1 + K) * den_norm_factor\n",
    "    den1 = S * num_norm_factor\n",
    "    den2 = num_norm_factor\n",
    "    num2 = 1\n",
    "    angle = (num1 / den1) - (num2 / den2)\n",
    "    return 2 * np.arcsin(np.sqrt(angle))"
   ]
  },
  {
   "cell_type": "code",
   "execution_count": 48,
   "id": "16",
   "metadata": {},
   "outputs": [],
   "source": [
    "bin_1_payoff_rotation = compute_constant_rotation(bin_1_payoff)\n",
    "bin_2_payoff_rotation = compute_constant_rotation(bin_2_payoff)\n",
    "zero_rotation = compute_constant_rotation(0)"
   ]
  },
  {
   "cell_type": "code",
   "execution_count": 49,
   "id": "17",
   "metadata": {},
   "outputs": [],
   "source": [
    "bit_T_normalize = (S * np.exp(-r * TIME_STEPS)) / den_norm_factor\n",
    "\n",
    "\n",
    "def postprocessing(x):\n",
    "    return (\n",
    "        (x * norm_factor * np.exp(-r * TIME_STEPS))\n",
    "        + bit_T_normalize\n",
    "        - (K * np.exp(-r * TIME_STEPS))\n",
    "    )"
   ]
  },
  {
   "cell_type": "markdown",
   "id": "18",
   "metadata": {
    "jupyter": {
     "outputs_hidden": false
    }
   },
   "source": [
    "## Verifications"
   ]
  },
  {
   "cell_type": "code",
   "execution_count": 50,
   "id": "19",
   "metadata": {},
   "outputs": [
    {
     "data": {
      "text/plain": [
       "1.9215788783046464"
      ]
     },
     "execution_count": 50,
     "metadata": {},
     "output_type": "execute_result"
    }
   ],
   "source": [
    "bin_1_payoff"
   ]
  },
  {
   "cell_type": "code",
   "execution_count": 51,
   "id": "20",
   "metadata": {},
   "outputs": [
    {
     "data": {
      "text/plain": [
       "1.9215788783046523"
      ]
     },
     "execution_count": 51,
     "metadata": {},
     "output_type": "execute_result"
    }
   ],
   "source": [
    "postprocessing((np.sin((compute_constant_rotation(bin_1_payoff) / 2))) ** 2)"
   ]
  },
  {
   "cell_type": "code",
   "execution_count": 52,
   "id": "21",
   "metadata": {},
   "outputs": [
    {
     "data": {
      "text/plain": [
       "2.7693490391599074"
      ]
     },
     "execution_count": 52,
     "metadata": {},
     "output_type": "execute_result"
    }
   ],
   "source": [
    "bin_2_payoff"
   ]
  },
  {
   "cell_type": "code",
   "execution_count": 53,
   "id": "22",
   "metadata": {},
   "outputs": [
    {
     "data": {
      "text/plain": [
       "2.7693490391599074"
      ]
     },
     "execution_count": 53,
     "metadata": {},
     "output_type": "execute_result"
    }
   ],
   "source": [
    "postprocessing((np.sin((compute_constant_rotation(bin_2_payoff) / 2))) ** 2)"
   ]
  },
  {
   "cell_type": "code",
   "execution_count": 54,
   "id": "23",
   "metadata": {},
   "outputs": [
    {
     "data": {
      "text/plain": [
       "1.7763568394002505e-15"
      ]
     },
     "execution_count": 54,
     "metadata": {},
     "output_type": "execute_result"
    }
   ],
   "source": [
    "postprocessing((np.sin((compute_constant_rotation(0) / 2))) ** 2)"
   ]
  },
  {
   "cell_type": "markdown",
   "id": "24",
   "metadata": {},
   "source": [
    "Compute constants for comparisons"
   ]
  },
  {
   "cell_type": "code",
   "execution_count": 55,
   "id": "25",
   "metadata": {},
   "outputs": [],
   "source": [
    "b_norm = np.log(b)\n",
    "K_norm = np.log(K_comp)"
   ]
  },
  {
   "cell_type": "markdown",
   "id": "26",
   "metadata": {},
   "source": [
    "## Classical Payoff"
   ]
  },
  {
   "cell_type": "code",
   "execution_count": 56,
   "id": "27",
   "metadata": {},
   "outputs": [],
   "source": [
    "from itertools import product\n",
    "\n",
    "import pandas as pd\n",
    "\n",
    "simulation = pd.DataFrame.from_dict(\n",
    "    {\n",
    "        \"quantum_samples\": list(range(len(grid_points))),\n",
    "        \"classical_samples\": grid_points,\n",
    "        \"probabilities\": probabilities,\n",
    "    }\n",
    ")\n",
    "\n",
    "binary_combinations = list(product(range(2**NUM_QUBITS), repeat=TIME_STEPS))\n",
    "sim = pd.DataFrame(binary_combinations)\n",
    "new_col = [\"time_\" + str(i) for i in range(TIME_STEPS)]\n",
    "sim.columns = new_col"
   ]
  },
  {
   "cell_type": "code",
   "execution_count": 57,
   "id": "28",
   "metadata": {},
   "outputs": [],
   "source": [
    "def round_down(a):\n",
    "    precision_factor = 2 ** (PRECISION)\n",
    "    return np.floor(a * precision_factor) / precision_factor"
   ]
  },
  {
   "cell_type": "code",
   "execution_count": 58,
   "id": "29",
   "metadata": {},
   "outputs": [],
   "source": [
    "def round_factor(a):\n",
    "    # precision_factor = 2 ** (PRECISION)\n",
    "    # return np.round(a * precision_factor) / precision_factor\n",
    "    return floor_factor(a)\n",
    "\n",
    "\n",
    "def floor_factor(a):\n",
    "    precision_factor = 2 ** (PRECISION)\n",
    "\n",
    "    if a >= 0:\n",
    "        return np.floor(a * precision_factor) / precision_factor\n",
    "    else:\n",
    "        return np.ceil(a * precision_factor) / precision_factor"
   ]
  },
  {
   "cell_type": "code",
   "execution_count": 59,
   "id": "30",
   "metadata": {},
   "outputs": [],
   "source": [
    "for i in range(TIME_STEPS):\n",
    "    sim = sim.merge(simulation, left_on=\"time_\" + str(i), right_on=\"quantum_samples\")\n",
    "    sim = sim.drop(\"quantum_samples\", axis=1)\n",
    "    new_col = new_col + [\"c_\" + str(i), \"q_prob_\" + str(i)]\n",
    "    sim.columns = new_col\n",
    "    sim[\"log_ret_val_\" + str(i)] = (\n",
    "        round_factor(MU * dt + np.sqrt(dt) * SIGMA * MIN_X)\n",
    "        + round_factor(SIGMA * np.sqrt(dt) * STEP_X) * sim[\"time_\" + str(i)]\n",
    "    )\n",
    "    new_col = new_col + [\"log_ret_val_\" + str(i)]\n",
    "    sim.columns = new_col\n",
    "    if i != 0:\n",
    "        sim[\"log_ret_val_\" + str(i)] = (\n",
    "            sim[\"log_ret_val_\" + str(i)] + sim[\"log_ret_val_\" + str(i - 1)]\n",
    "        )\n",
    "    sim[\"ret_val_\" + str(i)] = np.exp(sim[\"log_ret_val_\" + str(i)])\n",
    "    new_col = new_col + [\"ret_val_\" + str(i)]"
   ]
  },
  {
   "cell_type": "code",
   "execution_count": 60,
   "id": "31",
   "metadata": {},
   "outputs": [],
   "source": [
    "sim[\"prob\"] = 1\n",
    "for i in range(TIME_STEPS):\n",
    "    sim[\"prob\"] = sim[\"prob\"] * sim[\"q_prob_\" + str(i)]"
   ]
  },
  {
   "cell_type": "code",
   "execution_count": 61,
   "id": "32",
   "metadata": {},
   "outputs": [],
   "source": [
    "for i in range(TIME_STEPS):\n",
    "    sim[\"b_crossed_\" + str(i)] = sim[\"log_ret_val_\" + str(i)] < round_factor(b_norm)\n",
    "\n",
    "sim[\"bin_1_activate\"] = sim[\"log_ret_val_0\"] > round_factor(K_bin_norm[0])\n",
    "sim[\"bin_2_activate\"] = sim[\"log_ret_val_1\"] > round_factor(K_bin_norm[1])\n",
    "\n",
    "sim[\"K_put\"] = sim[\"log_ret_val_\" + str(TIME_STEPS - 1)] < round_factor(K_norm)\n",
    "\n",
    "sim[\"payoff\"] = 0.0\n",
    "\n",
    "sim.loc[sim[\"bin_1_activate\"], \"payoff\"] = bin_1_payoff\n",
    "sim.loc[(~sim[\"bin_1_activate\"]) & (sim[\"bin_2_activate\"]), \"payoff\"] = bin_2_payoff\n",
    "\n",
    "barrier_crossed_once = sim[\"b_crossed_0\"]\n",
    "for i in range(1, TIME_STEPS):\n",
    "    barrier_crossed_once = barrier_crossed_once | sim[\"b_crossed_\" + str(i)]\n",
    "\n",
    "put_condition = (\n",
    "    (~((sim[\"bin_1_activate\"]) | (sim[\"bin_2_activate\"])))\n",
    "    & (barrier_crossed_once)\n",
    "    & (sim[\"K_put\"])\n",
    ")\n",
    "\n",
    "sim.loc[put_condition, \"payoff\"] = (\n",
    "    S * (sim[put_condition][\"ret_val_2\"] - K_comp) * np.exp(-r * TIME_STEPS)\n",
    ")"
   ]
  },
  {
   "cell_type": "code",
   "execution_count": 62,
   "id": "33",
   "metadata": {},
   "outputs": [],
   "source": [
    "expected_payoff = sum(sim[\"prob\"] * sim[\"payoff\"])"
   ]
  },
  {
   "cell_type": "code",
   "execution_count": 63,
   "id": "34",
   "metadata": {},
   "outputs": [
    {
     "name": "stdout",
     "output_type": "stream",
     "text": [
      "expected payoff classical: -3.5032073946209352\n"
     ]
    }
   ],
   "source": [
    "print(\"expected payoff classical: \" + str(expected_payoff))"
   ]
  },
  {
   "cell_type": "markdown",
   "id": "35",
   "metadata": {},
   "source": [
    "## Integration Method Circuit Synthesis"
   ]
  },
  {
   "cell_type": "code",
   "execution_count": 64,
   "id": "36",
   "metadata": {},
   "outputs": [],
   "source": [
    "from classiq import *\n",
    "from classiq.qmod.symbolic import sqrt\n",
    "\n",
    "\n",
    "@qfunc\n",
    "def integrator(exp_rate: CReal, x: Const[QNum], ref: QNum, res: QBit) -> None:\n",
    "    prepare_exponential_state(-exp_rate, ref)\n",
    "    res ^= x >= ref"
   ]
  },
  {
   "cell_type": "code",
   "execution_count": 65,
   "id": "37",
   "metadata": {},
   "outputs": [],
   "source": [
    "def affine_py(x: QNum):\n",
    "    return MU * dt + SIGMA * sqrt(dt) * (x * STEP_X + MIN_X)"
   ]
  },
  {
   "cell_type": "code",
   "execution_count": 66,
   "id": "38",
   "metadata": {},
   "outputs": [],
   "source": [
    "@qfunc\n",
    "def add_minimum(x: Permutable[QArray]):\n",
    "    X(x[x.size - 1])"
   ]
  },
  {
   "cell_type": "code",
   "execution_count": 67,
   "id": "39",
   "metadata": {},
   "outputs": [],
   "source": [
    "round_K_bin_norm = []\n",
    "round_b_norm = round_factor(b_norm)\n",
    "round_K_bin_norm.append(round_factor(K_bin_norm[0]))\n",
    "round_K_bin_norm.append(round_factor(K_bin_norm[1]))\n",
    "round_k_norm = round_factor(K_norm)"
   ]
  },
  {
   "cell_type": "code",
   "execution_count": 68,
   "id": "40",
   "metadata": {
    "jupyter": {
     "outputs_hidden": false
    }
   },
   "outputs": [],
   "source": [
    "@qfunc\n",
    "def integration_load_amplitudes(y: Const[QNum], aux_reg: QNum, ind_reg: QBit):\n",
    "    exp_rate = 1 / (2**PRECISION)\n",
    "    integrator(exp_rate, y, aux_reg, ind_reg)\n",
    "\n",
    "\n",
    "@qfunc\n",
    "def integration_payoff(log_return: Const[QNum], aux_reg: QNum, ind_reg: QBit):\n",
    "    log_return_unsigned = QNum(size=log_return.size)\n",
    "\n",
    "    within_apply(\n",
    "        lambda: [\n",
    "            bind(log_return, log_return_unsigned),\n",
    "            add_minimum(log_return_unsigned),\n",
    "        ],\n",
    "        lambda: integration_load_amplitudes(log_return_unsigned, aux_reg, ind_reg),\n",
    "    )\n",
    "\n",
    "\n",
    "@qfunc\n",
    "def check_barrier_crossed(log_return: Const[QNum], barrier_crossed: Permutable[QBit]):\n",
    "    barrier_crossed ^= log_return < round_b_norm\n",
    "\n",
    "\n",
    "@qfunc\n",
    "def check_binary(\n",
    "    log_return: Const[QNum], round_K_bin_norm: CReal, binary_valid: Permutable[QBit]\n",
    "):\n",
    "    binary_valid ^= log_return > round_K_bin_norm\n",
    "\n",
    "\n",
    "@qfunc\n",
    "def check_K_put(\n",
    "    log_return: Const[QNum[PRECISION + int_places, SIGNED, PRECISION]],\n",
    "    k_put_valid: Permutable[QBit],\n",
    "):\n",
    "    k_put_valid ^= log_return < round_k_norm\n",
    "\n",
    "\n",
    "@qfunc\n",
    "def binary_payoff(binary_payoff: CReal, target: QBit):\n",
    "    RY(binary_payoff, target)\n",
    "\n",
    "\n",
    "@qfunc\n",
    "def zero_payoff(target: QBit):\n",
    "    RY(zero_rotation, target)\n",
    "\n",
    "\n",
    "@qfunc\n",
    "def check_put_activate(\n",
    "    barriers_crossed: Const[QArray],\n",
    "    k_put_valid: Const[QBit],\n",
    "    put_alone_valid: Permutable[QBit],\n",
    "):\n",
    "    put_alone_valid ^= (\n",
    "        (\n",
    "            (barriers_crossed[0] == 1)\n",
    "            | (barriers_crossed[1] == 1)\n",
    "            | (barriers_crossed[2] == 1)\n",
    "        )\n",
    "        & (k_put_valid == 1)\n",
    "    ) == 1\n",
    "\n",
    "\n",
    "@qfunc\n",
    "def populate_put_alone_valid(\n",
    "    sum_log_return: Const[QNum],\n",
    "    barriers_crossed: Permutable[QArray],\n",
    "    put_alone_valid: Output[QBit],\n",
    "):\n",
    "    k_put_valid = QBit()\n",
    "\n",
    "    allocate(put_alone_valid)\n",
    "\n",
    "    within_apply(\n",
    "        lambda: [\n",
    "            allocate(k_put_valid),\n",
    "            check_K_put(sum_log_return, k_put_valid),\n",
    "            check_barrier_crossed(\n",
    "                sum_log_return, barriers_crossed[2]\n",
    "            ),  # magari qui si può condizionare\n",
    "        ],\n",
    "        lambda: check_put_activate(barriers_crossed, k_put_valid, put_alone_valid),\n",
    "    )\n",
    "\n",
    "\n",
    "@qfunc\n",
    "def final_payoff(\n",
    "    check_all_zeros: Const[QNum], sum_log_return: QNum, aux_reg: QNum, ind_reg: QBit\n",
    "):\n",
    "    control(check_all_zeros == 0, lambda: zero_payoff(ind_reg))\n",
    "    control(\n",
    "        check_all_zeros == 1,\n",
    "        lambda: integration_payoff(sum_log_return, aux_reg, ind_reg),\n",
    "    )\n",
    "\n",
    "\n",
    "@qfunc\n",
    "def autocallable_integration(\n",
    "    x: QArray[QNum, TIME_STEPS],\n",
    "    aux_reg: QNum,\n",
    "    ind_reg: QBit,\n",
    "    sum_log_return: QNum,\n",
    "    first_bin_valid: QBit,\n",
    "    second_bin_valid: QBit,\n",
    "    barriers_crossed: QArray[QBit],\n",
    ") -> None:\n",
    "    repeat(x.len, lambda i: inplace_prepare_state(probabilities, 0, x[i]))\n",
    "\n",
    "    sum_log_return ^= affine_py(x[0])\n",
    "    check_binary(sum_log_return, round_K_bin_norm[0], first_bin_valid)\n",
    "    control(first_bin_valid, lambda: binary_payoff(bin_1_payoff_rotation, ind_reg))\n",
    "    # check_barrier_crossed(sum_log_return, barriers_crossed[0])\n",
    "    check_barrier_crossed(sum_log_return, barriers_crossed[0])\n",
    "\n",
    "    sum_log_return += affine_py(x[1])\n",
    "    check_binary(sum_log_return, round_K_bin_norm[1], second_bin_valid)\n",
    "    control(\n",
    "        ((first_bin_valid == 0) & (second_bin_valid == 1)) == 1,\n",
    "        lambda: binary_payoff(bin_2_payoff_rotation, ind_reg),\n",
    "    )  # check order\n",
    "    # check_barrier_crossed(sum_log_return, barriers_crossed[1]) #magari qui si può condizionare\n",
    "    check_barrier_crossed(sum_log_return, barriers_crossed[1])\n",
    "\n",
    "    sum_log_return += affine_py(x[2])\n",
    "\n",
    "    put_alone_valid = QBit()\n",
    "    within_apply(\n",
    "        lambda: populate_put_alone_valid(\n",
    "            sum_log_return,\n",
    "            barriers_crossed,\n",
    "            put_alone_valid,\n",
    "        ),\n",
    "        lambda: final_payoff(\n",
    "            [put_alone_valid, first_bin_valid, second_bin_valid],\n",
    "            sum_log_return,\n",
    "            aux_reg,\n",
    "            ind_reg,\n",
    "        ),\n",
    "    )"
   ]
  },
  {
   "cell_type": "markdown",
   "id": "41",
   "metadata": {},
   "source": [
    "## IQAE Functions and QStruct"
   ]
  },
  {
   "cell_type": "code",
   "execution_count": 69,
   "id": "42",
   "metadata": {
    "jupyter": {
     "outputs_hidden": false
    }
   },
   "outputs": [],
   "source": [
    "from classiq.applications.iqae.iqae import IQAE\n",
    "\n",
    "\n",
    "class OracleVars(QStruct):\n",
    "    x: QArray[QNum[NUM_QUBITS, False, 0], TIME_STEPS]\n",
    "    aux_reg: QNum[int_places + PRECISION]\n",
    "    sum_log_return: QNum[int_places + PRECISION, SIGNED, PRECISION]\n",
    "    first_bin_valid: QBit\n",
    "    second_bin_valid: QBit\n",
    "    barriers_crossed: QArray[QBit, TIME_STEPS]\n",
    "\n",
    "\n",
    "@qfunc\n",
    "def iqae_state_preparation(state: OracleVars, ind: QBit):\n",
    "    autocallable_integration(\n",
    "        state.x,\n",
    "        state.aux_reg,\n",
    "        ind,\n",
    "        state.sum_log_return,\n",
    "        state.first_bin_valid,\n",
    "        state.second_bin_valid,\n",
    "        state.barriers_crossed,\n",
    "    )"
   ]
  },
  {
   "cell_type": "markdown",
   "id": "43",
   "metadata": {},
   "source": [
    "## Base Simulator Synthesis"
   ]
  },
  {
   "cell_type": "code",
   "execution_count": 70,
   "id": "44",
   "metadata": {},
   "outputs": [
    {
     "name": "stdout",
     "output_type": "stream",
     "text": [
      "Starting synthesis\n",
      "Quantum program link: https://platform.classiq.io/circuit/2yrxvhXoIZN8IsaCrh1mIqYP0Py\n"
     ]
    }
   ],
   "source": [
    "iqae = IQAE(\n",
    "    state_prep_op=iqae_state_preparation,\n",
    "    problem_vars_size=NUM_QUBITS * TIME_STEPS\n",
    "    + 2 * (int_places + PRECISION)\n",
    "    + 2\n",
    "    + TIME_STEPS,\n",
    "    constraints=Constraints(optimization_parameter=\"width\"),\n",
    "    preferences=Preferences(\n",
    "        optimization_level=1, machine_precision=PRECISION, timeout_seconds=2000\n",
    "    ),\n",
    ")\n",
    "\n",
    "qmod = iqae.get_model()\n",
    "\n",
    "print(\"Starting synthesis\")\n",
    "qprog = iqae.get_qprog()\n",
    "show(qprog)"
   ]
  },
  {
   "cell_type": "code",
   "execution_count": 71,
   "id": "45",
   "metadata": {
    "jupyter": {
     "outputs_hidden": false
    }
   },
   "outputs": [
    {
     "name": "stdout",
     "output_type": "stream",
     "text": [
      "Circuit width:  24\n"
     ]
    }
   ],
   "source": [
    "print(\"Circuit width: \", qprog.data.width)"
   ]
  },
  {
   "cell_type": "markdown",
   "id": "46",
   "metadata": {},
   "source": [
    "Execution takes a lot of time. \n",
    "Examine the results:"
   ]
  },
  {
   "cell_type": "code",
   "execution_count": 72,
   "id": "47",
   "metadata": {},
   "outputs": [],
   "source": [
    "# takes a lot of time\n",
    "\n",
    "# EPSILON = 0.001\n",
    "# ALPHA = 0.002\n",
    "# res_iqae= iqae.run(EPSILON, ALPHA, execution_preferences=ExecutionPreferences(shots=100000))"
   ]
  },
  {
   "cell_type": "code",
   "execution_count": 73,
   "id": "48",
   "metadata": {},
   "outputs": [],
   "source": [
    "# print(\"the expected result from classical computation is: \" + str(expected_payoff))\n",
    "# print(\"the result from IQAE is: \" + str(postprocessing(res_iqae.estimation)))\n",
    "# print(\"the confidence interval of the quantum estimation is: \" + str(postprocessing(res_iqae.confidence_interval[0]))+\",\" +str(postprocessing(res_iqae.confidence_interval[1])) )\n",
    "# print(f\"Synthesis and execution time: {time() - start_time} seconds\")"
   ]
  },
  {
   "cell_type": "code",
   "execution_count": 74,
   "id": "49",
   "metadata": {
    "jupyter": {
     "outputs_hidden": false
    }
   },
   "outputs": [
    {
     "name": "stdout",
     "output_type": "stream",
     "text": [
      "the expected result from classical computation is: -3.5032073946209352\n",
      "the result from IQAE is: -3.5079217726515903\n",
      "the confidence interval of the quantum estimation is: -3.535334467336666,-3.4805134318653383\n"
     ]
    }
   ],
   "source": [
    "print(\"the expected result from classical computation is: \" + str(expected_payoff))\n",
    "print(\"the result from IQAE is: \" + str(-3.5079217726515903))\n",
    "print(\n",
    "    \"the confidence interval of the quantum estimation is: \"\n",
    "    + str(postprocessing(0.119158741))\n",
    "    + \",\"\n",
    "    + str(postprocessing(0.1197666))\n",
    ")"
   ]
  },
  {
   "cell_type": "markdown",
   "id": "50",
   "metadata": {},
   "source": [
    "## References\n",
    "\n",
    "<a name='QALROP'>[1]</a> [Francesca Cibrario et al. (2024). Quantum Amplitude Loading for Rainbow Options Pricing. Preprint.](https://arxiv.org/abs/2402.05574v2)\n",
    "\n",
    "<a name='TQA'>[2]</a> [Shouvanik Chakrabarti et al. (2021). A Threshold for Quantum Advantage in Derivative Pricing, Quantum 5, 463.](https://arxiv.org/pdf/2012.03819)\n",
    " "
   ]
  }
 ],
 "metadata": {
  "kernelspec": {
   "display_name": "Python 3 (ipykernel)",
   "language": "python",
   "name": "python3"
  },
  "language_info": {
   "codemirror_mode": {
    "name": "ipython",
    "version": 3
   },
   "file_extension": ".py",
   "mimetype": "text/x-python",
   "name": "python",
   "nbconvert_exporter": "python",
   "pygments_lexer": "ipython3",
   "version": "3.11.4"
  }
 },
 "nbformat": 4,
 "nbformat_minor": 9
}
