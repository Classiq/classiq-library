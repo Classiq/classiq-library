{
  "nbformat": 4,
  "nbformat_minor": 0,
  "metadata": {
    "colab": {
      "provenance": []
    },
    "kernelspec": {
      "name": "python3",
      "display_name": "Python 3"
    },
    "language_info": {
      "name": "python"
    }
  },
  "cells": [
    {
      "cell_type": "markdown",
      "source": [
        "**Quantum Option Pricing with IQAE (Iterative Quantum Amplitude Estimation)**"
      ],
      "metadata": {
        "id": "f1rqykTlgoMr"
      }
    },
    {
      "cell_type": "markdown",
      "source": [
        "Option pricing is a fundamental problem in financial markets, where it is crucial to determine the fair price of financial derivatives. Traditional methods, such as the Black-Scholes model and Monte Carlo simulations, can be computationally expensive, especially for complex derivatives or when high precision is required. Quantum computing offers the potential to significantly speed up these calculations using algorithms like Quantum Amplitude Estimation (QAE) and its iterative version, IQAE"
      ],
      "metadata": {
        "id": "_atGhJn9buQ3"
      }
    },
    {
      "cell_type": "markdown",
      "source": [
        "An option is a financial contract that gives the holder the right, but not the obligation, to buy or sell an underlying asset at a specified price (strike price) on or before a specified date (expiry date). The two main types of options are:"
      ],
      "metadata": {
        "id": "UbccvBsvcQF3"
      }
    },
    {
      "cell_type": "markdown",
      "source": [
        " Gives the holder the right to buy the underlying asset.\n",
        "        \" Gives the holder the right to sell the underlying asset."
      ],
      "metadata": {
        "id": "I0zEbe6icVpW"
      }
    },
    {
      "cell_type": "markdown",
      "source": [
        "The price of an option is influenced by various factors, including the current price of the underlying asset, the strike price, the time to maturity, volatility, and interest rates"
      ],
      "metadata": {
        "id": "RKWGjzFSccSV"
      }
    },
    {
      "cell_type": "markdown",
      "source": [
        "For a European call option, the payoff function at maturity \\\\( T \\\\) is given by:"
      ],
      "metadata": {
        "id": "N52LACOkchSm"
      }
    },
    {
      "cell_type": "markdown",
      "source": [
        "Payoff = $\\\\max(S_T - K, 0)$\\"
      ],
      "metadata": {
        "id": "XphEEQzCck6u"
      }
    },
    {
      "cell_type": "markdown",
      "source": [
        "where \\\\( S_T \\\\) is the price of the underlying asset at maturity and \\\\( K \\\\) is the strike price"
      ],
      "metadata": {
        "id": "1sMfMqjAcpa2"
      }
    },
    {
      "cell_type": "markdown",
      "source": [
        "In financial modeling, it is common to assume that the underlying asset price follows a geometric Brownian motion, leading to a log-normal distribution of the asset price at maturity:"
      ],
      "metadata": {
        "id": "eTHqSn6OcuXG"
      }
    },
    {
      "cell_type": "markdown",
      "source": [
        " [ S_T = S_0 $\\exp\\left((\\mu - \\frac{1}{2} \\sigma^2) T + \\sigma W_T \\right)$"
      ],
      "metadata": {
        "id": "zKEJ06PPc0X9"
      }
    },
    {
      "cell_type": "markdown",
      "source": [
        "( S_0 ) is the initial asset price,"
      ],
      "metadata": {
        "id": "6t4QJxXOeAP2"
      }
    },
    {
      "cell_type": "markdown",
      "source": [
        "$\\ \\mu$ is the drift rate,"
      ],
      "metadata": {
        "id": "iCuQ-WxLeFEt"
      }
    },
    {
      "cell_type": "markdown",
      "source": [
        "$\\ ( W_T )$ is a standard Brownian motion at time [$\\\\( T )$\n",
        "]."
      ],
      "metadata": {
        "id": "5iVMXcRteP9F"
      }
    },
    {
      "cell_type": "markdown",
      "source": [
        "$\\ \\sigma$  is the volatility,"
      ],
      "metadata": {
        "id": "5UOCDHvgefvI"
      }
    },
    {
      "cell_type": "markdown",
      "source": [
        "QAE is a quantum algorithm that provides a quadratic speedup over classical Monte Carlo methods for estimating the mean of a probability distribution. Given a quantum state $( |\\psi\\rangle )$\n",
        " and an operator ( A ) such that $[ A|0 \\rangle = \\sqrt{p}|\\psi_1\\rangle + \\sqrt{1 - p}|\\psi_0\\rangle$\n",
        ", ] QAE estimates the amplitude ( p ) with high precision."
      ],
      "metadata": {
        "id": "g4Ram2zieoN1"
      }
    },
    {
      "cell_type": "markdown",
      "source": [
        "IQAE is an improved version of QAE that iteratively refines the estimate of the amplitude ( p ). It avoids the need for quantum phase estimation, making it more practical for near-term quantum devices.\n",
        "\n",
        "Prepare the initial quantum state representing the probability distribution of the underlying asset prices. Define the oracle that marks the states corresponding to the desired payoff and construct the Grover operator. Iteratively apply the Grover operator and measure the state to refine the estimate of the amplitude ( p ). Use classical computation to process the measurement outcomes and update the amplitude estimate.\n",
        "\n",
        "Prepare the quantum state that encodes the log-normal distribution of asset prices at maturity.\n",
        "\n",
        "Encode the payoff function as a quantum oracle that marks the states where the payoff is non-zero"
      ],
      "metadata": {
        "id": "RSFc09gGfEn0"
      }
    },
    {
      "cell_type": "markdown",
      "source": [
        "Construct the Grover operator $( G = UWU^\\dagger W^\\dagger ), where ( U )$\n",
        "is the unitary operator representing the oracle, and ( W ) is the diffusion operator.\n",
        "\n",
        "Apply the Grover operator iteratively to amplify the amplitude of the marked states and estimate the amplitude ( p ) corresponding to the expected payoff.\n",
        "\n",
        "Use quantum circuits to represent the log-normal distribution of asset prices. Implement the payoff function as a quantum circuit. Use IQAE to estimate the expected payoff, which corresponds to the fair price of the option."
      ],
      "metadata": {
        "id": "R1PN3XMFfK1U"
      }
    },
    {
      "cell_type": "markdown",
      "source": [
        "We begin by setting up constants and generating a log-normal distribution for an option pricing problem\n",
        "\n",
        "Constants:\n",
        "\n",
        "num_qubits: Number of qubits used for encoding the distribution.\n",
        "mu: Mean of the log-normal distribution.\n",
        "sigma: Standard deviation of the log-normal distribution.\n",
        "S0: Initial stock price.\n",
        "K: Strike price for the option.\n",
        "threshold: Threshold value for financial condition evaluation.\n",
        "truncation_value: Truncation value (5 sigma) used for preparing the quantum state.\n",
        "Log-Normal Distribution:\n",
        "\n",
        "A log-normal distribution is computed using the given parameters (mu, sigma, S0, K) and encoded into quantum probabilities.\n",
        "x values are sampled linearly to create the distribution probabilities.\n",
        "The probabilities are normalized to ensure they sum up to 1, ready for quantum state preparation."
      ],
      "metadata": {
        "id": "uW1ZHy2_iYGy"
      }
    },
    {
      "cell_type": "code",
      "source": [
        "from classiq import (\n",
        "    Output,\n",
        "    QArray,\n",
        "    QBit,\n",
        "    QNum,\n",
        "    allocate,\n",
        "    allocate_num,\n",
        "    create_model,\n",
        "    qfunc,\n",
        "    synthesize,\n",
        "    write_qmod,\n",
        "    QuantumProgram,\n",
        "    show,\n",
        "    execute,\n",
        "    Constraints,\n",
        "    cfunc,\n",
        "    QCallable,\n",
        "    set_constraints,\n",
        "    CReal,\n",
        "    H,\n",
        "    X,\n",
        "    Z,\n",
        ")\n",
        "from classiq.qmod.builtins.classical_execution_primitives import iqae, save\n",
        "import numpy as np\n",
        "import sympy\n",
        "\n",
        "# Constants for the option pricing problem\n",
        "num_qubits = 5\n",
        "mu = 0.7\n",
        "sigma = 0.13\n",
        "S0 = 100  # Initial stock price\n",
        "K = 100   # Strike price\n",
        "threshold = 1.9\n",
        "truncation_value = 5  # 5 sigma\n",
        "\n",
        "# Generate the log-normal distribution probabilities\n",
        "x = np.linspace(0, 1, 2 ** num_qubits)\n",
        "probabilities = np.exp(-((np.log(x * (S0/K)) - mu) ** 2) / (2 * sigma ** 2))\n",
        "probabilities /= np.sum(probabilities)  # Normalize probabilities\n"
      ],
      "metadata": {
        "id": "DWmmRbZBftfW",
        "colab": {
          "base_uri": "https://localhost:8080/"
        },
        "outputId": "74a6d05d-f9c6-4430-a7ad-faf9dea012fa"
      },
      "execution_count": null,
      "outputs": [
        {
          "output_type": "stream",
          "name": "stderr",
          "text": [
            "<ipython-input-78-8a5dee8ecc6f>:39: RuntimeWarning: divide by zero encountered in log\n",
            "  probabilities = np.exp(-((np.log(x * (S0/K)) - mu) ** 2) / (2 * sigma ** 2))\n"
          ]
        }
      ]
    },
    {
      "cell_type": "markdown",
      "source": [
        "Starting with the load_log_normal_distribution function, which is decorated as a quantum function (@qfunc), we prepare the quantum state for a log-normal distribution using the provided quantum arrays (QArray) of qubits (QBit) and quantum numbers (QNum). The function iterates over each qubit in x and prepares its corresponding state using the probabilities probs\n",
        "x represents the quantum array of qubits (QBit) that will encode different states of the log-normal distribution.\n",
        "probs is the quantum array of quantum numbers (QNum) containing the probabilities associated with each qubit state.\n",
        "Each qubit's state is prepared using the prepare_state function, ensuring that the encoded log-normal distribution aligns with the specified probabilities."
      ],
      "metadata": {
        "id": "btEXFqxwiySa"
      }
    },
    {
      "cell_type": "code",
      "source": [
        "@qfunc\n",
        "def load_log_normal_distribution(x: QArray[QBit], probs: QArray[QNum]):\n",
        "    for i in range(x.len):\n",
        "        prepare_state(x[i], probs[i])"
      ],
      "metadata": {
        "id": "gBu0rWqqOGAP"
      },
      "execution_count": null,
      "outputs": []
    },
    {
      "cell_type": "markdown",
      "source": [
        "Setting up the parameters for the European Call option, where the threshold is defined as 1.9. We establish the condition for the option using a function input to ensure it meets the specified condition of being larger than the threshold. This setup is encapsulated in the function_input module, with the finance function input designated for calculating the European Call option.\n",
        "x is allocated as an output quantum number array (Output[QNum]) with a size determined by VAR_SIZE.\n",
        "ind is similarly allocated as an output quantum number (Output[QNum]).\n",
        "The calculation for the payoff involves squaring each element of x and assigning it to ind."
      ],
      "metadata": {
        "id": "BdhstpN4jI-h"
      }
    },
    {
      "cell_type": "code",
      "source": [
        "# Parameters for European Call option\n",
        "threshold = 1.9\n",
        "\n",
        "condition = function_input.FunctionCondition(threshold=threshold, larger=True)\n",
        "finance_function = function_input.FinanceFunctionInput(\n",
        "    f=\"european call option\",\n",
        "    condition=condition,\n",
        ")\n",
        "\n",
        "# Quantum function for payoff calculation\n",
        "VAR_SIZE = 4\n",
        "\n",
        "@qfunc\n",
        "def main(x: Output[QNum], ind: Output[QNum]) -> None:\n",
        "    allocate_num(VAR_SIZE, False, VAR_SIZE, x)\n",
        "    allocate(1, ind)\n",
        "\n",
        "    # Define the calculation for payoff\n",
        "    ind *= x ** 2\n"
      ],
      "metadata": {
        "id": "V15-9n70f2Hv"
      },
      "execution_count": null,
      "outputs": []
    },
    {
      "cell_type": "markdown",
      "source": [
        "In this function:\n",
        "\n",
        "qubits is a quantum array (QArray[QBit]) containing qubits used for encoding.\n",
        "A Z gate is applied to each qubit to perform a conditional phase shift based on the European Call option condition.\n",
        "The payoff is scaled using the square root of K, the strike price.\n",
        "Ry(2 * np.arccos(factor), qubit) applies a Y-rotation gate to each qubit based on the scaled factor."
      ],
      "metadata": {
        "id": "1YcmDgiJjXtp"
      }
    },
    {
      "cell_type": "code",
      "source": [
        "@qfunc\n",
        "def payoff(qubits: QArray[QBit]):\n",
        "    for qubit in qubits:\n",
        "        Z(qubit)  # Apply Z gate for conditional phase shift\n",
        "    # Example of scaling the payoff\n",
        "    factor = np.sqrt(K)\n",
        "    for qubit in qubits:\n",
        "        Ry(2 * np.arccos(factor), qubit)"
      ],
      "metadata": {
        "id": "Ji7i1vXfOUht"
      },
      "execution_count": null,
      "outputs": []
    },
    {
      "cell_type": "code",
      "source": [
        "# Create quantum model for payoff function\n",
        "qmod_payoff = create_model(main)\n",
        "write_qmod(qmod_payoff, \"payoff_function_example\")\n"
      ],
      "metadata": {
        "id": "F8Mdzx4Lf7GU"
      },
      "execution_count": null,
      "outputs": []
    },
    {
      "cell_type": "markdown",
      "source": [
        "In these quantum functions:\n",
        "\n",
        "load_distribution prepares a Gaussian distribution into qubits by applying Hadamard and X gates.\n",
        "encode_payoff encodes a European Call option payoff into qubits by applying Z gates for conditional phase shifts and X gates for state preparation.\n",
        "my_grover_operator integrates the loading of the distribution and the encoding of the payoff within Grover's algorithm operator, using predefined values for mu, sigma, and K"
      ],
      "metadata": {
        "id": "fLgijp6yj2DZ"
      }
    },
    {
      "cell_type": "code",
      "source": [
        "from classiq import qfunc, QArray, QBit, QCallable, synthesize, show, H, X, Z, CReal\n",
        "\n",
        "# Define quantum functions for Grover's algorithm components\n",
        "\n",
        "@qfunc\n",
        "def load_distribution(x: QArray[QBit], mu: CReal, sigma: CReal):\n",
        "    # Load a Gaussian distribution\n",
        "    for i in range(x.len):\n",
        "        H(x[i])  # Hadamard transform for superposition\n",
        "        X(x[i])  # Prepare initial state for Gaussian distribution\n",
        "\n",
        "@qfunc\n",
        "def encode_payoff(x: QArray[QBit], K: CReal):\n",
        "    # Encode a European Call option payoff\n",
        "    # Example: For a simple linear payoff function\n",
        "    for i in range(x.len):\n",
        "        Z(x[i])  # Apply conditional phase shift for the payoff condition\n",
        "        X(x[i])  # Prepare initial state for payoff condition\n",
        "\n",
        "@qfunc\n",
        "def my_grover_operator(\n",
        "    oracle_operand: QCallable[QArray[QBit]],\n",
        "    sp_operand: QCallable[QArray[QBit]],\n",
        "    x: QArray[QBit],\n",
        "):\n",
        "    # Integration of distribution loading and payoff encoding within Grover's operator\n",
        "    load_distribution(x, mu=0.7, sigma=0.13)  # Example with predefined mu and sigma\n",
        "    encode_payoff(x, K=1.9)  # Example with predefined strike price K\n"
      ],
      "metadata": {
        "id": "oSBOjuDJuMi3"
      },
      "execution_count": null,
      "outputs": []
    },
    {
      "cell_type": "markdown",
      "source": [
        "We begin with defining several constants critical to the option pricing problem, including the initial stock price (S0), strike price (K), and parameters governing quantum execution such as NUM_QUBITS and MAX_NUM_QUBITS.\n",
        "\n",
        "Next, the quantum functions are established: qmci_oracle implements a quantum oracle using a Z gate, while option_direct sets up direct quantum operations tailored for option pricing scenarios.\n",
        "\n",
        "In the classical execution phase, cmain orchestrates the execution of Iterative Quantum Amplitude Estimation (IQAE). This process involves specifying parameters like epsilon and alpha to control the accuracy and convergence of the estimation, respectively, with results being saved for further analysis.\n",
        "\n",
        "The main quantum function, get_main, is structured around Grover's algorithm components. It integrates quantum registers and bindings essential for executing the option pricing logic within a quantum framework.\n",
        "\n",
        "For synthesis and execution, synthesize_and_execute_option_pricing plays a pivotal role. It synthesizes the quantum model defined in get_main, executes it on a quantum processor, and provides visual insights into the quantum program's behavior and structure.\n",
        "\n",
        "Following quantum execution, parse_result_option_pricing engages in post-processing. It leverages IQAE results to compute the estimated option value and its associated confidence intervals. This step is crucial for deriving actionable insights from quantum-derived data in financial applications."
      ],
      "metadata": {
        "id": "mNg50geHkme3"
      }
    },
    {
      "cell_type": "code",
      "source": [
        "from classiq import qfunc, CInt, QBit, Output, QArray, Constraints, create_model, synthesize, execute, write_qmod, cfunc, show\n",
        "from classiq.qmod.builtins.classical_execution_primitives import iqae, save\n",
        "import sympy\n",
        "import numpy as np\n",
        "\n",
        "# Constants\n",
        "S0 = [100]  # Initial stock price\n",
        "K = 100     # Strike price\n",
        "STEP_X = 0.01\n",
        "SCALING_FACTOR = 1.0\n",
        "MU = [0.05]\n",
        "MIN_X = 0.02\n",
        "CHOLESKY = [0.01]  # Assuming CHOLESKY is a list\n",
        "NUM_QUBITS = 4  # Number of qubits for encoding\n",
        "MAX_NUM_QUBITS = 6  # Maximum number of qubits for encoding\n",
        "\n",
        "# Quantum oracle for option pricing\n",
        "@qfunc\n",
        "def qmci_oracle(ind: QArray[Output[QArray[QBit]]]):\n",
        "    oracle_qubit = ind[0]\n",
        "    # Example: apply a Z gate to the oracle_qubit\n",
        "    Z(oracle_qubit)\n",
        "\n",
        "# Quantum function for direct calculation\n",
        "@qfunc\n",
        "def option_direct(\n",
        "    qubits1: QArray[QBit],\n",
        "    qubits2: QArray[QBit],\n",
        "    qubits3: QArray[QBit],\n",
        "    qubit4: QBit,\n",
        "):\n",
        "\n",
        "    # Apply a series of Hadamard gates\n",
        "    for q in qubits1 + qubits2 + qubits3:\n",
        "        H(q)\n",
        "    # Apply CNOT gates between corresponding qubits\n",
        "    for q1, q2 in zip(qubits1, qubits2):\n",
        "        CNOT(q1, q2)\n",
        "    # Apply a Toffoli gate (CCX) between the last qubits of qubits2, qubits3 and qubit4\n",
        "    Toffoli(qubits2[-1], qubits3[-1], qubit4)\n",
        "\n",
        "# Classical execution function for IQAE\n",
        "@cfunc\n",
        "def cmain():\n",
        "    iqae_res = iqae(epsilon=0.01, alpha=0.05)\n",
        "    save({\"iqae_res\": iqae_res})\n",
        "\n",
        "# Main quantum function for option pricing\n",
        "def get_main():\n",
        "    @qfunc\n",
        "    def main(\n",
        "        k: CInt,\n",
        "        ind_reg: Output[QBit],\n",
        "    ) -> None:\n",
        "        full_reg = QArray(\"full_reg\", QBit)\n",
        "        allocate(2 * NUM_QUBITS + MAX_NUM_QUBITS + 1, full_reg)\n",
        "        grover_algorithm(\n",
        "            k,\n",
        "            lambda x: qmci_oracle(x[x.len - 1]),\n",
        "            lambda x: None,  # No operation\n",
        "            full_reg,\n",
        "        )\n",
        "        state_reg = QArray(\"state_reg\", QBit)\n",
        "        bind(full_reg, [state_reg, ind_reg])\n",
        "\n",
        "    return main\n",
        "\n",
        "# Synthesize and execute function for option pricing\n",
        "def synthesize_and_execute_option_pricing(post_process):\n",
        "    constraints = Constraints(max_width=25)\n",
        "    qmod = create_model(\n",
        "        get_main(),\n",
        "        constraints=constraints,\n",
        "        classical_execution_function=cmain,\n",
        "    )\n",
        "    write_qmod(qmod, \"option_pricing_method\")\n",
        "    print(\"Starting synthesis\")\n",
        "    qprog = synthesize(qmod)\n",
        "    show(qprog)\n",
        "    print(\"Starting execution\")\n",
        "    res = execute(qprog).result()\n",
        "    iqae_res = res[0].value\n",
        "    parsed_res = post_process(iqae_res)\n",
        "\n",
        "    return (qmod, qprog, iqae_res, parsed_res)\n",
        "\n",
        "# Post-processing function for IQAE results in option pricing\n",
        "def parse_result_option_pricing(iqae_res):\n",
        "    payoff_expression = f\"sqrt(max({S0[0]} * exp({STEP_X / SCALING_FACTOR * (2 ** (MAX_NUM_QUBITS - 2))} * x + ({MU[0]+MIN_X*CHOLESKY[0]})), {K}))\"\n",
        "    payoff_func = sympy.lambdify(sympy.symbols(\"x\"), payoff_expression)\n",
        "    payoff_max = payoff_func(1 - 1 / (2**MAX_NUM_QUBITS))\n",
        "\n",
        "    option_value = iqae_res.estimation * (payoff_max**2) - K\n",
        "    confidence_interval = np.array(iqae_res.confidence_interval) * (payoff_max**2) - K\n",
        "    return (option_value, confidence_interval)\n",
        "\n",
        "# Run the synthesis and execution for option pricing\n",
        "qmod_option_pricing, qprog_option_pricing, iqae_res_option_pricing, parsed_res_option_pricing = synthesize_and_execute_option_pricing(parse_result_option_pricing)\n",
        "result, conf_interval = parsed_res_option_pricing\n",
        "print(f\"Raw IQAE results: {iqae_res_option_pricing.estimation} with confidence interval {iqae_res_option_pricing.confidence_interval}\")\n",
        "print(f\"Option estimated value: {result} with confidence interval {conf_interval}\")\n",
        "\n",
        "\n",
        "# Validate execution results\n",
        "assert result is not None, \"Execution result should not be None\"\n",
        "\n",
        "print(\"Validation successful.\")"
      ],
      "metadata": {
        "colab": {
          "base_uri": "https://localhost:8080/"
        },
        "id": "s_eaziiTBHYl",
        "outputId": "dfc1a4d1-6e03-4c1b-b82a-f9b2795ccfce"
      },
      "execution_count": null,
      "outputs": [
        {
          "output_type": "stream",
          "name": "stdout",
          "text": [
            "Starting synthesis\n",
            "Opening: https://platform.classiq.io/circuit/eea214d7-b1d5-4389-9939-012fcad7bbd5?version=0.42.2\n",
            "Starting execution\n",
            "Raw IQAE results: 5.699308352661869e-06 with confidence interval (0.0, 1.1398616705323737e-05)\n",
            "Option estimated value: -99.99929850413022 with confidence interval [-100.          -99.99859701]\n",
            "Validation successful.\n"
          ]
        }
      ]
    }
  ]
}