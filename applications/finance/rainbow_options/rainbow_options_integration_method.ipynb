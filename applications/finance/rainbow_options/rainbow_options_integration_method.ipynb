{
 "cells": [
  {
   "cell_type": "markdown",
   "id": "0",
   "metadata": {},
   "source": [
    "# Rainbow Options with Integration\n",
    "This notebook covers the implementation of the Integration Method for the rainbow option presented in [[1]](#QALROP)."
   ]
  },
  {
   "cell_type": "markdown",
   "id": "1",
   "metadata": {},
   "source": [
    "In finance, a crucial aspect of asset pricing pertains to derivatives.\n",
    "Derivatives are contracts whose value is contingent upon another source, known as the underlying.\n",
    "The pricing of options—a specific derivative instrument—involves determining the fair market value (discounted payoff) of contracts that afford their holders the right, though not the obligation, to buy (call) or sell (put) one or more underlying assets at a predefined strike price by a specified future expiration date (maturity date).\n",
    "This process relies on mathematical models, considering variables such as current asset prices, time to expiration, volatility, and interest rates."
   ]
  },
  {
   "cell_type": "markdown",
   "id": "2",
   "metadata": {},
   "source": [
    "## Data Definitions\n",
    "\n",
    "The problem inputs:\n",
    "- `NUM_QUBITS`: the number of qubits representing an underlying asset\n",
    "- `NUM_ASSETS`: the number of underlying assets\n",
    "- `K`: the strike price\n",
    "- `S0`: the arrays of underlying asset prices\n",
    "- `dt`: the number of days to the maturity date\n",
    "- `COV`: the covariance matrix that correlate to the underlyings\n",
    "- `MU_LOG_RET`: the array containing the mean of the log return of each underlying\n"
   ]
  },
  {
   "cell_type": "code",
   "execution_count": 1,
   "id": "3",
   "metadata": {
    "jupyter": {
     "outputs_hidden": false
    }
   },
   "outputs": [],
   "source": [
    "import numpy as np\n",
    "import scipy\n",
    "\n",
    "NUM_QUBITS = 2\n",
    "NUM_ASSETS = 2\n",
    "\n",
    "K = 190\n",
    "S0 = [193.97, 189.12]\n",
    "dt = 250\n",
    "\n",
    "COV = np.array([[0.000335, 0.000257], [0.000257, 0.000418]])\n",
    "MU_LOG_RET = np.array([0.00050963, 0.00062552])"
   ]
  },
  {
   "cell_type": "code",
   "execution_count": 2,
   "id": "4",
   "metadata": {},
   "outputs": [],
   "source": [
    "MU = MU_LOG_RET * dt\n",
    "CHOLESKY = np.linalg.cholesky(COV) * np.sqrt(dt)\n",
    "SCALING_FACTOR = 1 / CHOLESKY[0, 0]"
   ]
  },
  {
   "cell_type": "code",
   "execution_count": 3,
   "id": "5",
   "metadata": {
    "jupyter": {
     "outputs_hidden": false
    }
   },
   "outputs": [],
   "source": [
    "from classiq import *\n",
    "\n",
    "EPSILON = 0.05\n",
    "ALPHA = 0.1"
   ]
  },
  {
   "cell_type": "markdown",
   "id": "6",
   "metadata": {},
   "source": [
    "## Gaussian State Preparation\n",
    "Encode the probability distribution of a discrete multivariate random variable $W$ taking values in $\\{w_0, .., w_{N-1}\\}$ describing the asset prices at the maturity date. The number of discretized values, denoted as $N$, depends on the precision of the state preparation module and is consequently connected to the number of qubits ($n=$`NUM_QUBITS`) according to the formula $N=2^n$: \n",
    "\n",
    "$$\n",
    "\\sum_{i=0}^{N-1} \\sqrt{p(w_i)}\\left|w_i\\right\\rangle \n",
    "$$"
   ]
  },
  {
   "cell_type": "code",
   "execution_count": 4,
   "id": "7",
   "metadata": {
    "jupyter": {
     "outputs_hidden": false
    }
   },
   "outputs": [],
   "source": [
    "def gaussian_discretization(num_qubits, mu=0, sigma=1, stds_around_mean_to_include=3):\n",
    "    lower = mu - stds_around_mean_to_include * sigma\n",
    "    upper = mu + stds_around_mean_to_include * sigma\n",
    "    num_of_bins = 2**num_qubits\n",
    "    sample_points = np.linspace(lower, upper, num_of_bins + 1)\n",
    "\n",
    "    def single_gaussian(x: np.ndarray, _mu: float, _sigma: float) -> np.ndarray:\n",
    "        cdf = scipy.stats.norm.cdf(x, loc=_mu, scale=_sigma)\n",
    "        return cdf[1:] - cdf[0:-1]\n",
    "\n",
    "    non_normalized_pmf = (single_gaussian(sample_points, mu, sigma),)\n",
    "    real_probs = non_normalized_pmf / np.sum(non_normalized_pmf)\n",
    "    return sample_points[:-1], real_probs[0].tolist()\n",
    "\n",
    "\n",
    "grid_points, probabilities = gaussian_discretization(NUM_QUBITS)\n",
    "\n",
    "STEP_X = grid_points[1] - grid_points[0]\n",
    "MIN_X = grid_points[0]"
   ]
  },
  {
   "cell_type": "markdown",
   "id": "8",
   "metadata": {},
   "source": [
    "### Sanity Check"
   ]
  },
  {
   "cell_type": "markdown",
   "id": "9",
   "metadata": {},
   "source": [
    "To avoid meaningless results, the process must stop if the strike price $K$ is greater than the maximum value reacheable by the assets during the simulation. In this case, the payoff is $0$, so there is no need to simulate:"
   ]
  },
  {
   "cell_type": "code",
   "execution_count": 5,
   "id": "10",
   "metadata": {},
   "outputs": [],
   "source": [
    "from IPython.display import Markdown\n",
    "\n",
    "if K >= max(S0 * np.exp(np.dot(CHOLESKY, [grid_points[-1]] * 2) + MU)):\n",
    "    display(\n",
    "        Markdown(\n",
    "            \"<font color='red'> K always greater than the maximum asset values. Stop the run, the payoff is 0</font>\"\n",
    "        )\n",
    "    )"
   ]
  },
  {
   "cell_type": "markdown",
   "id": "11",
   "metadata": {},
   "source": [
    "## Maximum Computation"
   ]
  },
  {
   "cell_type": "markdown",
   "id": "12",
   "metadata": {},
   "source": [
    "### Precision Utils"
   ]
  },
  {
   "cell_type": "code",
   "execution_count": 6,
   "id": "13",
   "metadata": {},
   "outputs": [],
   "source": [
    "FRAC_PLACES = 2\n",
    "\n",
    "\n",
    "def round_factor(a):\n",
    "    precision_factor = 2**FRAC_PLACES\n",
    "    return round(a * precision_factor) / precision_factor\n",
    "\n",
    "\n",
    "def floor_factor(a):\n",
    "    precision_factor = 2**FRAC_PLACES\n",
    "    return np.floor(a * precision_factor) / precision_factor"
   ]
  },
  {
   "cell_type": "markdown",
   "id": "14",
   "metadata": {},
   "source": [
    "### Affine and Maximum Arithmetic Definitions"
   ]
  },
  {
   "cell_type": "code",
   "execution_count": 7,
   "id": "15",
   "metadata": {},
   "outputs": [],
   "source": [
    "from functools import reduce\n",
    "\n",
    "from classiq.qmod.symbolic import max as qmax\n",
    "\n",
    "a = STEP_X / SCALING_FACTOR\n",
    "b = np.log(S0[0]) + MU[0] + MIN_X * CHOLESKY[0].sum()\n",
    "\n",
    "\n",
    "def get_affine_formula(assets, i):\n",
    "    return reduce(\n",
    "        lambda x, y: x + y,\n",
    "        [\n",
    "            assets[j] * round_factor(SCALING_FACTOR * CHOLESKY[i, j])\n",
    "            for j in range(NUM_ASSETS)\n",
    "            if CHOLESKY[i, j]\n",
    "        ],\n",
    "    )\n",
    "\n",
    "\n",
    "c = (\n",
    "    SCALING_FACTOR\n",
    "    * (\n",
    "        np.log(S0[1])\n",
    "        + MU[1]\n",
    "        - (np.log(S0[0]) + MU[0])\n",
    "        + MIN_X * sum(CHOLESKY[1] - CHOLESKY[0])\n",
    "    )\n",
    "    / (STEP_X)\n",
    ")\n",
    "\n",
    "c = round_factor(c)\n",
    "\n",
    "\n",
    "def calculate_max_reg_type():\n",
    "    x1 = QNum(size=NUM_QUBITS)\n",
    "    x2 = QNum(size=NUM_QUBITS)\n",
    "    expr = qmax(get_affine_formula([x1, x2], 0), get_affine_formula([x1, x2], 1) + c)\n",
    "    size_in_bits, sign, fraction_digits = get_expression_numeric_attributes(\n",
    "        [x1, x2], expr\n",
    "    )\n",
    "    return size_in_bits, fraction_digits\n",
    "\n",
    "\n",
    "MAX_NUM_QUBITS = calculate_max_reg_type()[0]\n",
    "MAX_FRAC_PLACES = calculate_max_reg_type()[1]"
   ]
  },
  {
   "cell_type": "code",
   "execution_count": 8,
   "id": "16",
   "metadata": {
    "jupyter": {
     "outputs_hidden": false
    }
   },
   "outputs": [],
   "source": [
    "@qperm\n",
    "def affine_max(x1: Const[QNum], x2: Const[QNum], res: Output[QNum]):\n",
    "    res |= qmax(get_affine_formula([x1, x2], 0), get_affine_formula([x1, x2], 1) + c)"
   ]
  },
  {
   "cell_type": "markdown",
   "id": "17",
   "metadata": {},
   "source": [
    "## Integration Method\n",
    "\n",
    "The comparator collects the probabilities $g(r)$ of $|r\\rangle$ state until $|r\\rangle$ register is lower than $|x\\rangle$:\n",
    "\\begin{equation}\n",
    "\\begin{split}\n",
    "&\\sum_{r=0}^{2^R-1}{\\sqrt{g(r)}}|x\\rangle|r\\rangle|r\\leq x\\rangle \\\\\n",
    "= &|x\\rangle \\otimes \\left[ \\sum_{r=0}^{x}{\\sqrt{g(r)}} |r\\rangle |1\\rangle + \\sum_{r=x}^{2^R-1}{\\sqrt{g(r)}} |r\\rangle |0\\rangle \\right]\n",
    "\\end{split}\n",
    "\\end{equation}\n",
    "Collecting the probability to have $r\\leq x$, define the function:\n",
    "\\begin{equation}\n",
    "\\tilde{h}(x)=\\sum_{r=0}^{x}g(r)\n",
    "\\end{equation}\n",
    "Evaluating the probability to get a $|1\\rangle$ results in $\\sum_{x = 0}^{2^R-1}{\\tilde{h}(x)}$.\n",
    "To obtain a given function $\\tilde{h}$, choose a proper function $g(r)$.\n",
    "The $g(r)$ for $r=0$ value must therefore be:\n",
    "$\n",
    "g(0) = \\tilde{h}(0)\n",
    "$\n",
    "and for all the other $r$:\n",
    "$$\n",
    "g(r) = \\tilde{h}(r)-\\tilde{h}(r-1)\n",
    "$$"
   ]
  },
  {
   "cell_type": "code",
   "execution_count": 9,
   "id": "18",
   "metadata": {
    "jupyter": {
     "outputs_hidden": false
    }
   },
   "outputs": [],
   "source": [
    "@qfunc\n",
    "def integrator(x: Const[QNum], ref: QNum, res: QBit) -> None:\n",
    "    exp_rate = (1 / (2**x.fraction_digits)) * a\n",
    "    prepare_exponential_state(-exp_rate, ref)\n",
    "    res ^= x >= ref"
   ]
  },
  {
   "cell_type": "code",
   "execution_count": 10,
   "id": "19",
   "metadata": {
    "jupyter": {
     "outputs_hidden": false
    }
   },
   "outputs": [],
   "source": [
    "from classiq.qmod.symbolic import asin, exp, sqrt\n",
    "\n",
    "\n",
    "def get_strike_price_theta_integration(x: QNum):\n",
    "    exp_rate = (1 / (2**x.fraction_digits)) * a\n",
    "    B = (exp((2**x.size) * exp_rate) - 1) / exp(exp_rate)\n",
    "    A = 1 / exp(exp_rate)\n",
    "    C = S0[0] * exp((MU[0] + MIN_X * CHOLESKY[0].sum()))\n",
    "    return 2 * asin(sqrt((K - (C * A)) / (C * B)))\n",
    "\n",
    "\n",
    "# this is not a qfunc, just a utility function\n",
    "def is_geq_strike_price(\n",
    "    x: Const[QNum],\n",
    ") -> None:\n",
    "    a = STEP_X / SCALING_FACTOR\n",
    "    b = np.log(S0[0]) + MU[0] + MIN_X * CHOLESKY[0].sum()\n",
    "    COMP_VALUE = (np.log(K) - b) / a\n",
    "    return x > floor_factor(COMP_VALUE)\n",
    "\n",
    "\n",
    "@qfunc\n",
    "def integration_payoff(max_reg: Const[QNum], integrator_reg: QNum, ind_reg: QBit):\n",
    "    control(\n",
    "        is_geq_strike_price(max_reg),\n",
    "        lambda: integrator(max_reg, integrator_reg, ind_reg),\n",
    "        lambda: RY(get_strike_price_theta_integration(max_reg), ind_reg),\n",
    "    )"
   ]
  },
  {
   "cell_type": "code",
   "execution_count": 11,
   "id": "20",
   "metadata": {
    "jupyter": {
     "outputs_hidden": false
    }
   },
   "outputs": [
    {
     "name": "stdout",
     "output_type": "stream",
     "text": [
      "Starting synthesis\n",
      "Quantum program link: https://platform.classiq.io/circuit/31b1EounXn1hjKVuvgdIIhUy9F7\n"
     ]
    }
   ],
   "source": [
    "class EstimationVars(QStruct):\n",
    "    x1: QNum[NUM_QUBITS]\n",
    "    x2: QNum[NUM_QUBITS]\n",
    "    integrator: QNum[MAX_NUM_QUBITS, False, MAX_FRAC_PLACES]\n",
    "\n",
    "\n",
    "@qfunc\n",
    "def rainbow_integration(qvars: EstimationVars, ind: QBit) -> None:\n",
    "    inplace_prepare_state(probabilities, 0, qvars.x1)\n",
    "    inplace_prepare_state(probabilities, 0, qvars.x2)\n",
    "    max_out = QNum()\n",
    "    within_apply(\n",
    "        lambda: affine_max(qvars.x1, qvars.x2, max_out),\n",
    "        lambda: integration_payoff(max_out, qvars.integrator, ind),\n",
    "    )\n",
    "\n",
    "\n",
    "@qfunc\n",
    "def main(qvars: Output[EstimationVars], ind: Output[QBit]) -> None:\n",
    "    allocate(qvars)\n",
    "    allocate(ind)\n",
    "\n",
    "    rainbow_integration(qvars, ind)\n",
    "\n",
    "\n",
    "MAX_WIDTH_1 = 23\n",
    "qmod_1 = create_model(main, constraints=Constraints(max_width=MAX_WIDTH_1))\n",
    "print(\"Starting synthesis\")\n",
    "qprog_1 = synthesize(qmod_1)\n",
    "show(qprog_1)"
   ]
  },
  {
   "cell_type": "markdown",
   "id": "21",
   "metadata": {},
   "source": [
    "## Iterative Quantum Amplitude Estimation (IQAE) Algorithm"
   ]
  },
  {
   "cell_type": "code",
   "execution_count": 12,
   "id": "22",
   "metadata": {
    "jupyter": {
     "outputs_hidden": false
    }
   },
   "outputs": [],
   "source": [
    "from classiq.applications.iqae.iqae import IQAE\n",
    "\n",
    "MAX_WIDTH_2 = 25\n",
    "\n",
    "iqae = IQAE(\n",
    "    state_prep_op=rainbow_integration,\n",
    "    problem_vars_size=NUM_QUBITS * NUM_ASSETS + MAX_NUM_QUBITS,\n",
    "    constraints=Constraints(max_width=MAX_WIDTH_2),\n",
    "    preferences=Preferences(optimization_level=1),\n",
    ")"
   ]
  },
  {
   "cell_type": "code",
   "execution_count": 13,
   "id": "23",
   "metadata": {},
   "outputs": [
    {
     "name": "stdout",
     "output_type": "stream",
     "text": [
      "Starting synthesis\n",
      "Quantum program link: https://platform.classiq.io/circuit/31b1KiiohC8hXrh2etymwXveFza\n",
      "Starting execution\n",
      "raw iqae results: 0.051235657448793964 [0.04755346900618056, 0.054917845891407364]\n"
     ]
    }
   ],
   "source": [
    "qmod_2 = iqae.get_model()\n",
    "write_qmod(qmod_2, \"rainbow_options_integration_method\")\n",
    "\n",
    "print(\"Starting synthesis\")\n",
    "qprog_2 = iqae.get_qprog()\n",
    "show(qprog_2)\n",
    "print(\"Starting execution\")\n",
    "result = iqae.run(EPSILON, ALPHA)\n",
    "print(\"raw iqae results:\", result.estimation, result.confidence_interval)"
   ]
  },
  {
   "cell_type": "markdown",
   "id": "24",
   "metadata": {},
   "source": [
    "## Post-process\n",
    "\n",
    "Add a term to the post-processing function:\n",
    "\n",
    "\\begin{equation}\n",
    "\\begin{split}\n",
    "\\mathbb{E} \\left[\\max\\left(\\frac{e^{a(x+1)} - 1}{e^{a(x_{max} +1)}-1}c + \\frac{1}{e^a} , Ke^{-b'}\\right)\\right]  e^{b'} - K \\\\\n",
    "=\\mathbb{E} \\left[\\max\\left(\\frac{e^{a(x+1)} - 1}{e^{a(x_{max} +1)}-1}, \\frac{Ke^{-b'}}{c} - \\frac{e^{-a}}{c}\\right)\\right]ce^{b'} + e^{b'}e^{-a} - K\n",
    "\\end{split}\n",
    "\\end{equation}"
   ]
  },
  {
   "cell_type": "code",
   "execution_count": 14,
   "id": "25",
   "metadata": {},
   "outputs": [],
   "source": [
    "exp_rate = (1 / (2**MAX_FRAC_PLACES)) * a\n",
    "B = (np.exp((2**MAX_NUM_QUBITS) * exp_rate) - 1) / np.exp(exp_rate)\n",
    "A = 1 / np.exp(exp_rate)\n",
    "C = S0[0] * np.exp((MU[0] + MIN_X * CHOLESKY[0].sum()))\n",
    "\n",
    "\n",
    "def parse_result_integration(result):\n",
    "    option_value = (result.estimation * (C * B)) + (C * A) - K\n",
    "    confidence_interval = (np.array(result.confidence_interval) * (C * B)) + (C * A) - K\n",
    "    return (option_value, confidence_interval)"
   ]
  },
  {
   "cell_type": "markdown",
   "id": "26",
   "metadata": {},
   "source": [
    "## Run Method"
   ]
  },
  {
   "cell_type": "code",
   "execution_count": 15,
   "id": "27",
   "metadata": {},
   "outputs": [
    {
     "name": "stdout",
     "output_type": "stream",
     "text": [
      "raw iqae results: 0.051235657448793964 with confidence interval [0.04755346900618056, 0.054917845891407364]\n",
      "option estimated value: 25.692233958166668 with confidence interval [16.15332034 35.23114757]\n"
     ]
    }
   ],
   "source": [
    "parsed_result, conf_interval = parse_result_integration(result)\n",
    "print(\n",
    "    f\"raw iqae results: {result.estimation} with confidence interval {result.confidence_interval}\"\n",
    ")\n",
    "print(\n",
    "    f\"option estimated value: {parsed_result} with confidence interval {conf_interval}\"\n",
    ")"
   ]
  },
  {
   "cell_type": "markdown",
   "id": "28",
   "metadata": {
    "jupyter": {
     "outputs_hidden": false
    }
   },
   "source": [
    "### Assertions"
   ]
  },
  {
   "cell_type": "code",
   "execution_count": 16,
   "id": "29",
   "metadata": {
    "jupyter": {
     "outputs_hidden": false
    }
   },
   "outputs": [],
   "source": [
    "expected_payoff = 23.0238\n",
    "ALPHA_ASSERTION = 1e-5\n",
    "measured_confidence = conf_interval[1] - conf_interval[0]\n",
    "confidence_scale_by_alpha = np.sqrt(\n",
    "    np.log(ALPHA / ALPHA_ASSERTION)\n",
    ")  # based on e^2=(1/2N)*log(2T/alpha) from \"Iterative Quantum Amplitude Estimation\" since our alpha is low, we want to check within a bigger confidence interval\n",
    "assert (\n",
    "    np.abs(parsed_result - expected_payoff)\n",
    "    <= 0.5 * measured_confidence * confidence_scale_by_alpha\n",
    "), f\"Payoff result is out of the {ALPHA_ASSERTION*100}% confidence interval: |{parsed_result} - {expected_payoff}| > {0.5*measured_confidence * confidence_scale_by_alpha}\""
   ]
  },
  {
   "cell_type": "markdown",
   "id": "30",
   "metadata": {},
   "source": [
    "## References\n",
    "\n",
    "<a name='QALROP'>[1]</a> [Francesca Cibrario et al., Quantum Amplitude Loading for Rainbow Options Pricing. Preprint.](https://arxiv.org/abs/2402.05574v2)\n"
   ]
  }
 ],
 "metadata": {
  "kernelspec": {
   "display_name": "Python 3 (ipykernel)",
   "language": "python",
   "name": "python3"
  },
  "language_info": {
   "codemirror_mode": {
    "name": "ipython",
    "version": 3
   },
   "file_extension": ".py",
   "mimetype": "text/x-python",
   "name": "python",
   "nbconvert_exporter": "python",
   "pygments_lexer": "ipython3",
   "version": "3.11.4"
  }
 },
 "nbformat": 4,
 "nbformat_minor": 9
}
