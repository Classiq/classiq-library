{
 "cells": [
  {
   "cell_type": "markdown",
   "id": "6a264eba-42cc-4800-8369-24b0891d167d",
   "metadata": {},
   "source": [
    "# Portfolio Optimization with the Quantum Approximate Optimization Algorithm (QAOA)\n",
    "\n",
    "## Introduction\n",
    "\n",
    "Portfolio optimization [[1](#PortfolioWiki)] is the process of allocating a portfolio of financial assets optimally, according to some predetermined goal. Usually, the goal is to maximize the potential return while minimizing the financial risk of the portfolio. One can express this problem as a combinatorial optimization problem like many other real-world problems. In this demo, we'll show how the Quantum Approximate Optimization Algorithm (QAOA) [[2](#QAOA)] can be employed on the Classiq platform to solve the problem of portfolio optimization.\n",
    "\n",
    "### Modeling the Portfolio Optimization Problem\n",
    "\n",
    "As a first step, we have to model the problem mathematically. We will use a simple yet powerful model, which captures the essence of portfolio optimization:\n",
    "\n",
    "- A portfolio is built from a pool of $n$ financial assets, each asset labeled $i \\in \\{1,\\ldots,n\\}$.\n",
    "- Every asset's return is a random variable, with expected value $\\mu_i$ and variance $\\Sigma_i$ (modeling the financial risk involved in the asset).\n",
    "- Every two assets $i \\neq j$ have covariance $\\Sigma_{ij}$ (modeling market correlation between assets).\n",
    "- Every asset $i$ has a weight $w_i \\in D_i = \\{0,\\ldots,b_i\\}$ in the portfolio, with $b_i$ defined as the budget for asset $i$ (modeling the maximum allowed weight of the asset).\n",
    "- The return vector $\\mu$, the covariance matrix $\\Sigma$ and the weight vector $w$ are defined naturally from the above (with the domain $D = D_1 \\times D_2 \\times \\ldots \\times D_n$ for $w$).\n",
    "\n",
    "With the above definitions, the total expected return of the portfolio is $\\mu^T w$ and the total risk is $w^T \\Sigma w$. We'll use a simple difference of the two as our cost function, with the additional constraint that the total sum of assets does not exceed a predefined budget $B$. We note that there are many other possibilities for defining a cost function (e.g. add a scaling factor to the risk/return or even some non-linear relation). For reasons of simplicity we select the model below, and we assume all constants and variables are dimensionless.\n",
    "Thus, the problem is, given the constant inputs $\\mu, \\Sigma, D, B$, to find optimal variable $w$ as follows:\n",
    "\n",
    "$\\begin{equation*}\n",
    "\\min_{w \\in D}  w^T \\Sigma w - \\mu^T w,\n",
    "\\end{equation*}$\n",
    "subject to $\\Sigma_{i} w_i \\leq B$.\n",
    "\n",
    "The case presented above is called integer portfolio optimization, since the domains $D_i$ are over the (positive) integers.\n",
    "Another variation of this problem defines weights over binary domains, and will not be discussed here.\n"
   ]
  },
  {
   "cell_type": "markdown",
   "id": "8abc22a4-3c75-4d1a-a77f-dee7f1ac3fe9",
   "metadata": {
    "tags": []
   },
   "source": [
    "## Setup\n",
    "\n",
    "With the mathematical definition in place, we begin the implementation by importing necessary packages and classes. We will use the following external dependencies:\n",
    "\n",
    "1. NumPy\n",
    "2. Matplotlib\n",
    "3. Pyomo - a python framework for modeling optimization problems, which the Classiq platform uses as an interface to these types of problems.\n",
    "\n",
    "From the `classiq` package, we require classes related to combinatorial optimization and QAOA.\n"
   ]
  },
  {
   "cell_type": "code",
   "execution_count": 1,
   "id": "952d49b3-5dc6-41a1-8822-0622df536cf7",
   "metadata": {
    "tags": []
   },
   "outputs": [],
   "source": [
    "import numpy as np\n",
    "import pyomo.core as pyo"
   ]
  },
  {
   "cell_type": "markdown",
   "id": "e8e9ec0e",
   "metadata": {},
   "source": [
    "# The Portfolio Optimization Problem Parameters\n",
    "\n",
    "First we define the parameters of the optimization problem, which include the expected return vector, the covariance matrix and the total budget:"
   ]
  },
  {
   "cell_type": "code",
   "execution_count": 2,
   "id": "6212e51c",
   "metadata": {
    "pycharm": {
     "name": "#%%\n"
    },
    "tags": []
   },
   "outputs": [],
   "source": [
    "returns = np.array([3, 4, -1])\n",
    "covariances = np.array(\n",
    "    [\n",
    "        [0.9, 0.5, -0.7],\n",
    "        [0.5, 0.9, -0.2],\n",
    "        [-0.7, -0.2, 0.9],\n",
    "    ]\n",
    ")\n",
    "\n",
    "total_budget = 6"
   ]
  },
  {
   "cell_type": "markdown",
   "id": "c181f72c-d233-4567-ae61-44f475689797",
   "metadata": {},
   "source": [
    "## The Pyomo Model for the Problem\n",
    "\n",
    "We proceed by defining the Pyomo model that will be used on the Classiq platform, using the problem parameters defined above:"
   ]
  },
  {
   "cell_type": "code",
   "execution_count": 3,
   "id": "42650f31-8efe-4ca9-8ed6-f5d9d440bee4",
   "metadata": {
    "tags": []
   },
   "outputs": [],
   "source": [
    "portfolio_model = pyo.ConcreteModel(\"portfolio_optimization\")\n",
    "num_assets = len(returns)\n",
    "\n",
    "# setting the variables\n",
    "portfolio_model.w = pyo.Var(range(num_assets), domain=pyo.Integers, bounds=(0, 7))\n",
    "\n",
    "w_array = list(portfolio_model.w.values())\n",
    "\n",
    "# global budget constraint\n",
    "portfolio_model.budget_rule = pyo.Constraint(expr=(sum(w_array) <= total_budget))\n",
    "\n",
    "# setting the expected return and risk\n",
    "portfolio_model.expected_return = returns @ w_array\n",
    "portfolio_model.risk = w_array @ covariances @ w_array\n",
    "\n",
    "# setting the cost function to minimize\n",
    "portfolio_model.cost = pyo.Objective(\n",
    "    expr=portfolio_model.risk - portfolio_model.expected_return, sense=pyo.minimize\n",
    ")"
   ]
  },
  {
   "cell_type": "markdown",
   "id": "ea100320-dab7-4a4c-aed9-e08e3a70fb78",
   "metadata": {
    "tags": []
   },
   "source": [
    "## Setting Up the Classiq Problem Instance\n",
    "\n",
    "In order to solve the Pyomo model defined above, we use the `CombinatorialProblem` python class. Under the hood it tranlates the Pyomo model to a quantum model of the QAOA algorithm, with cost hamiltonian translated from the Pyomo model. We can choose the number of layers for the QAOA ansatz using the argument `num_layers`, and the `penalty_factor`, which will be the coefficient of the constraints term in the cost hamiltonian."
   ]
  },
  {
   "cell_type": "code",
   "execution_count": 4,
   "id": "9503e674-3194-44ad-b248-fffa6fc3a9b2",
   "metadata": {
    "tags": []
   },
   "outputs": [],
   "source": [
    "from classiq import *\n",
    "from classiq.applications.combinatorial_optimization import CombinatorialProblem\n",
    "\n",
    "combi = CombinatorialProblem(pyo_model=portfolio_model, num_layers=3, penalty_factor=10)\n",
    "\n",
    "qmod = combi.get_model()"
   ]
  },
  {
   "cell_type": "code",
   "execution_count": 5,
   "id": "86d783b7-820a-40a8-90af-aedb735b7678",
   "metadata": {},
   "outputs": [],
   "source": [
    "write_qmod(qmod, \"portfolio_optimization\")"
   ]
  },
  {
   "cell_type": "markdown",
   "id": "696f5c22-eb43-488a-a948-aa057c005bed",
   "metadata": {},
   "source": [
    "## Synthesizing the QAOA Circuit and Solving the Problem\n",
    "\n",
    "We can now synthesize and view the QAOA circuit (ansatz) used to solve the optimization problem:"
   ]
  },
  {
   "cell_type": "code",
   "execution_count": 6,
   "id": "25bc3abe-18a1-4e41-ab3d-084cd49d463b",
   "metadata": {
    "pycharm": {
     "name": "#%%\n"
    },
    "tags": []
   },
   "outputs": [
    {
     "name": "stdout",
     "output_type": "stream",
     "text": [
      "Opening: https://nightly.platform.classiq.io/circuit/83bbd639-d2b0-4fb6-b89b-b9a790a5bd4d?version=0.63.0.dev2\n"
     ]
    }
   ],
   "source": [
    "qprog = combi.get_qprog()\n",
    "show(qprog)"
   ]
  },
  {
   "cell_type": "markdown",
   "id": "b06ce4de-2fce-4360-bade-6af4d2c0558d",
   "metadata": {},
   "source": [
    "We also set the quantum backend we want to execute on:"
   ]
  },
  {
   "cell_type": "code",
   "execution_count": 7,
   "id": "fcddad02-a283-4812-a22e-289da66dcae7",
   "metadata": {},
   "outputs": [],
   "source": [
    "from classiq.execution import *\n",
    "\n",
    "execution_preferences = ExecutionPreferences(\n",
    "    backend_preferences=ClassiqBackendPreferences(backend_name=\"simulator\"),\n",
    ")"
   ]
  },
  {
   "cell_type": "markdown",
   "id": "a22a913a-720f-4ca9-806f-3ae70a5ba57a",
   "metadata": {},
   "source": [
    "We now solve the problem by calling the `optimize` method of the `CombinatorialProblem` object. For the classical optimization part of the QAOA algorithm we define the maximum number of classical iterations (`maxiter`) and the $\\alpha$-parameter (`quantile`) for running CVaR-QAOA, an improved variation of the QAOA algorithm [[3](#cvar)]:"
   ]
  },
  {
   "cell_type": "code",
   "execution_count": 8,
   "id": "ff59d10e-c215-42a2-b232-df77fd775aff",
   "metadata": {
    "tags": []
   },
   "outputs": [
    {
     "name": "stderr",
     "output_type": "stream",
     "text": [
      "Optimization Progress: 61it [05:10,  5.09s/it]                                                                                                                                                                                                     \n"
     ]
    }
   ],
   "source": [
    "optimized_params = combi.optimize(execution_preferences, maxiter=60, quantile=0.7)"
   ]
  },
  {
   "cell_type": "markdown",
   "id": "2d0f1a15-90ac-44dc-ae1b-b3c1c62d3d92",
   "metadata": {},
   "source": [
    "We can check the convergence of the run:"
   ]
  },
  {
   "cell_type": "code",
   "execution_count": 9,
   "id": "858ea131-6109-47cc-ba00-55ba0e8f09f9",
   "metadata": {
    "scrolled": true,
    "tags": []
   },
   "outputs": [
    {
     "data": {
      "text/plain": [
       "Text(0.5, 1.0, 'Cost convergence')"
      ]
     },
     "execution_count": 9,
     "metadata": {},
     "output_type": "execute_result"
    },
    {
     "data": {
      "image/png": "[encoded data removed]",
      "text/plain": [
       "<Figure size 640x480 with 1 Axes>"
      ]
     },
     "metadata": {},
     "output_type": "display_data"
    }
   ],
   "source": [
    "import matplotlib.pyplot as plt\n",
    "\n",
    "plt.plot(combi.cost_trace)\n",
    "plt.xlabel(\"Iterations\")\n",
    "plt.ylabel(\"Cost\")\n",
    "plt.title(\"Cost convergence\")"
   ]
  },
  {
   "cell_type": "markdown",
   "id": "23969de4-f4b9-4e55-a09d-df4cbe4eb3ac",
   "metadata": {
    "tags": []
   },
   "source": [
    "# Optimization Results"
   ]
  },
  {
   "cell_type": "markdown",
   "id": "9159388c-fe90-436d-b0aa-9cf6d6148c5f",
   "metadata": {},
   "source": [
    "We can also examine the statistics of the algorithm. The optimization is always defined as a minimzation problem, so the positive maximization objective was tranlated to a negative minimization one by the Pyomo to qmod translator."
   ]
  },
  {
   "cell_type": "markdown",
   "id": "93232ede-dfc9-4eba-8270-e6039af36c38",
   "metadata": {},
   "source": [
    "In order to get samples with the optimized parameters, we call the `sample` method:"
   ]
  },
  {
   "cell_type": "code",
   "execution_count": 10,
   "id": "f0fb79e2-719a-42f6-a9bd-18a67d490aad",
   "metadata": {
    "scrolled": true
   },
   "outputs": [
    {
     "data": {
      "text/html": [
       "<div>\n",
       "<style scoped>\n",
       "    .dataframe tbody tr th:only-of-type {\n",
       "        vertical-align: middle;\n",
       "    }\n",
       "\n",
       "    .dataframe tbody tr th {\n",
       "        vertical-align: top;\n",
       "    }\n",
       "\n",
       "    .dataframe thead th {\n",
       "        text-align: right;\n",
       "    }\n",
       "</style>\n",
       "<table border=\"1\" class=\"dataframe\">\n",
       "  <thead>\n",
       "    <tr style=\"text-align: right;\">\n",
       "      <th></th>\n",
       "      <th>solution</th>\n",
       "      <th>probability</th>\n",
       "      <th>cost</th>\n",
       "    </tr>\n",
       "  </thead>\n",
       "  <tbody>\n",
       "    <tr>\n",
       "      <th>180</th>\n",
       "      <td>{'w': [1, 2, 1], 'budget_rule_slack_var': [0, ...</td>\n",
       "      <td>0.000977</td>\n",
       "      <td>-4.8</td>\n",
       "    </tr>\n",
       "    <tr>\n",
       "      <th>515</th>\n",
       "      <td>{'w': [3, 1, 2], 'budget_rule_slack_var': [0, ...</td>\n",
       "      <td>0.000488</td>\n",
       "      <td>-4.6</td>\n",
       "    </tr>\n",
       "    <tr>\n",
       "      <th>112</th>\n",
       "      <td>{'w': [2, 2, 2], 'budget_rule_slack_var': [0, ...</td>\n",
       "      <td>0.001465</td>\n",
       "      <td>-4.4</td>\n",
       "    </tr>\n",
       "    <tr>\n",
       "      <th>713</th>\n",
       "      <td>{'w': [2, 1, 2], 'budget_rule_slack_var': [1, ...</td>\n",
       "      <td>0.000488</td>\n",
       "      <td>-4.3</td>\n",
       "    </tr>\n",
       "    <tr>\n",
       "      <th>1285</th>\n",
       "      <td>{'w': [1, 1, 0], 'budget_rule_slack_var': [1, ...</td>\n",
       "      <td>0.000488</td>\n",
       "      <td>-4.2</td>\n",
       "    </tr>\n",
       "  </tbody>\n",
       "</table>\n",
       "</div>"
      ],
      "text/plain": [
       "                                               solution  probability  cost\n",
       "180   {'w': [1, 2, 1], 'budget_rule_slack_var': [0, ...     0.000977  -4.8\n",
       "515   {'w': [3, 1, 2], 'budget_rule_slack_var': [0, ...     0.000488  -4.6\n",
       "112   {'w': [2, 2, 2], 'budget_rule_slack_var': [0, ...     0.001465  -4.4\n",
       "713   {'w': [2, 1, 2], 'budget_rule_slack_var': [1, ...     0.000488  -4.3\n",
       "1285  {'w': [1, 1, 0], 'budget_rule_slack_var': [1, ...     0.000488  -4.2"
      ]
     },
     "execution_count": 10,
     "metadata": {},
     "output_type": "execute_result"
    }
   ],
   "source": [
    "optimization_result = combi.sample(optimized_params)\n",
    "optimization_result.sort_values(by=\"cost\").head(5)"
   ]
  },
  {
   "cell_type": "markdown",
   "id": "ac53b57d-8168-498e-ab04-e8dcbea1cfc1",
   "metadata": {},
   "source": [
    "We will also want to compare the optimized results to uniformly sampled results:"
   ]
  },
  {
   "cell_type": "code",
   "execution_count": 11,
   "id": "843cff7f-5230-4855-a1dc-13cbe386fa40",
   "metadata": {},
   "outputs": [],
   "source": [
    "uniform_result = combi.sample_uniform()"
   ]
  },
  {
   "cell_type": "markdown",
   "id": "9c96cee5-1621-41b1-ace7-b3b59104acb4",
   "metadata": {},
   "source": [
    "And compare the histograms:"
   ]
  },
  {
   "cell_type": "code",
   "execution_count": 12,
   "id": "b6eaa101-6f7a-4497-a208-0b6a2d33416a",
   "metadata": {
    "tags": []
   },
   "outputs": [
    {
     "data": {
      "image/png": "[encoded data removed]",
      "text/plain": [
       "<Figure size 640x480 with 1 Axes>"
      ]
     },
     "metadata": {},
     "output_type": "display_data"
    }
   ],
   "source": [
    "optimization_result[\"cost\"].plot(\n",
    "    kind=\"hist\",\n",
    "    bins=40,\n",
    "    edgecolor=\"black\",\n",
    "    weights=optimization_result[\"probability\"],\n",
    "    alpha=0.6,\n",
    "    label=\"optimized\",\n",
    ")\n",
    "uniform_result[\"cost\"].plot(\n",
    "    kind=\"hist\",\n",
    "    bins=40,\n",
    "    edgecolor=\"black\",\n",
    "    weights=uniform_result[\"probability\"],\n",
    "    alpha=0.6,\n",
    "    label=\"uniform\",\n",
    ")\n",
    "plt.legend()\n",
    "plt.ylabel(\"Probability\", fontsize=16)\n",
    "plt.xlabel(\"cost\", fontsize=16)\n",
    "plt.tick_params(axis=\"both\", labelsize=14)"
   ]
  },
  {
   "cell_type": "code",
   "execution_count": 13,
   "id": "05449034-19e5-4b5d-80ea-7b2ba7ccd877",
   "metadata": {
    "tags": []
   },
   "outputs": [
    {
     "name": "stdout",
     "output_type": "stream",
     "text": [
      "x = [1, 2, 1] , cost = -4.8\n"
     ]
    }
   ],
   "source": [
    "best_solution = optimization_result.loc[optimization_result.cost.idxmin()]\n",
    "print(\n",
    "    \"x =\",\n",
    "    best_solution.solution[\"w\"],\n",
    "    \", cost =\",\n",
    "    best_solution.cost,\n",
    ")"
   ]
  },
  {
   "cell_type": "markdown",
   "id": "6c093ae6",
   "metadata": {},
   "source": [
    "Lastly, we can compare to the classical solution of the problem:"
   ]
  },
  {
   "cell_type": "code",
   "execution_count": 14,
   "id": "324c9a09",
   "metadata": {
    "pycharm": {
     "name": "#%%\n"
    },
    "tags": []
   },
   "outputs": [
    {
     "name": "stdout",
     "output_type": "stream",
     "text": [
      "Model portfolio_optimization\n",
      "\n",
      "  Variables:\n",
      "    w : Size=3, Index=w_index\n",
      "        Key : Lower : Value : Upper : Fixed : Stale : Domain\n",
      "          0 :     0 :   2.0 :     7 : False : False : Integers\n",
      "          1 :     0 :   1.0 :     7 : False : False : Integers\n",
      "          2 :     0 :   1.0 :     7 : False : False : Integers\n",
      "\n",
      "  Objectives:\n",
      "    cost : Size=1, Index=None, Active=True\n",
      "        Key  : Active : Value\n",
      "        None :   True : -4.800000000000001\n",
      "\n",
      "  Constraints:\n",
      "    budget_rule : Size=1\n",
      "        Key  : Lower : Body : Upper\n",
      "        None :  None :  4.0 :   6.0\n",
      "Classical solution: [2, 1, 1]\n"
     ]
    }
   ],
   "source": [
    "from pyomo.opt import SolverFactory\n",
    "\n",
    "solver = SolverFactory(\"couenne\")\n",
    "solver.solve(portfolio_model)\n",
    "\n",
    "portfolio_model.display()\n",
    "classical_solution = [\n",
    "    round(pyo.value(portfolio_model.w[i])) for i in range(len(portfolio_model.w))\n",
    "]\n",
    "print(\"Classical solution:\", classical_solution)"
   ]
  },
  {
   "cell_type": "markdown",
   "id": "71ac0d67",
   "metadata": {},
   "source": [
    "We can see that most of the solutions obtained by running QAOA are close to the minimal solution obtained classically, demonstrating the effectiveness of the algorithm. Also, note the non-trivial solution which includes a non-zero weight for the asset with negative expected return, demonstrating that it sometimes makes sense to include such assets in the portfolio as a risk-mitigation strategy - especially if they are highly anti-correlated with the rest of the assets."
   ]
  },
  {
   "cell_type": "markdown",
   "id": "61370cf4",
   "metadata": {
    "pycharm": {
     "name": "#%% md\n"
    }
   },
   "source": [
    "\n",
    "## References\n",
    "\n",
    "<a id='PortfolioWiki'>[1]</a>: [Portfolio Optimization (Wikipedia)](https://en.wikipedia.org/wiki/Portfolio_optimization)\n",
    "\n",
    "<a id='QAOA'>[2]</a>: [Farhi, Edward, Jeffrey Goldstone, and Sam Gutmann. \"A quantum approximate optimization algorithm.\" arXiv preprint arXiv:1411.4028 (2014).](https://arxiv.org/abs/1411.4028)\n",
    "\n",
    "<a id='cvar'>[3]</a>: [Barkoutsos, Panagiotis Kl, et al. \"Improving variational quantum optimization using CVaR.\" Quantum 4 (2020): 256.](https://arxiv.org/abs/1907.04769)\n"
   ]
  }
 ],
 "metadata": {
  "kernelspec": {
   "display_name": "Python 3 (ipykernel)",
   "language": "python",
   "name": "python3"
  },
  "language_info": {
   "codemirror_mode": {
    "name": "ipython",
    "version": 3
   },
   "file_extension": ".py",
   "mimetype": "text/x-python",
   "name": "python",
   "nbconvert_exporter": "python",
   "pygments_lexer": "ipython3",
   "version": "3.11.4"
  },
  "vscode": {
   "interpreter": {
    "hash": "a07aacdcc8a415e7643a2bc993226848ff70704ebef014f87460de9126b773d0"
   }
  }
 },
 "nbformat": 4,
 "nbformat_minor": 5
}
