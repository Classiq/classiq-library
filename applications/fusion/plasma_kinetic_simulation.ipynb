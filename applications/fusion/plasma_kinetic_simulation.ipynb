{
 "cells": [
  {
   "cell_type": "markdown",
   "id": "eb250994-1a6e-4897-95dc-6f9969162f89",
   "metadata": {},
   "source": [
    "# Quantum Simulation of Linear Kinetic Plasma Models\n",
    "\n",
    "This demonstration is based on the paper *[Encoding of Linear Kinetic Plasma Problems in Quantum Circuits via Data Compression](https://arxiv.org/abs/2403.11989)* [[1](#KineticPlasma)], and was created in collaboration with its authors. \n",
    "\n",
    "We explore how quantum algorithms can be used to solve a **linearized kinetic model of plasma**, focusing on a simplified **Vlasov–Ampère system** in one spatial dimension with an external electric field.\n",
    "\n",
    "Plasmas — often called the **fourth state of matter** — are ionized gases consisting of charged particles. They exhibit rich collective behavior due to long-range electromagnetic interactions. Understanding and simulating plasmas is critical in many fields, especially in **nuclear fusion**, where plasma must be confined and controlled inside reactors such as **tokamaks** [[2](#Tok)].\n",
    "\n",
    "Fusion energy aims to replicate the Sun's energy source on Earth. In magnetic confinement fusion (e.g., tokamaks), charged particles spiral along magnetic field lines. To predict plasma behavior in such systems, physicists use **kinetic equations**, which describe the full distribution of particle positions and velocities in phase space.\n",
    "\n",
    "However, these models are **nonlinear** and **high-dimensional**, making simulations extremely expensive. To make progress, scientists often **linearize** the models around a known steady-state.\n",
    "\n",
    "## The Vlasov–Ampère System\n",
    "\n",
    "We consider a **linearized 1D Vlasov–Ampère system** with an external driving current. This system governs how perturbations to a background plasma evolve in phase space under the influence of electric fields.\n",
    "\n",
    "The equations are:\n",
    "$$\n",
    "i \\omega_0 g(x, v) - \\zeta_{bc} \\, v \\, \\partial_x g(x, v) - \\partial_v f_0(v) E(x) = 0\n",
    "$$\n",
    "\n",
    "$$\n",
    "i \\omega_0 E(x) + \\int v g(x,v) \\, dv = j(x)\n",
    "$$"
   ]
  },
  {
   "cell_type": "markdown",
   "id": "cba48339-620b-430e-a152-2954902f5243",
   "metadata": {},
   "source": [
    "### Physical Meaning and Assumptions\n",
    "\n",
    "- **$g(x,v)$** is the first-order perturbation of the distribution function from equilibrium. It captures how particles deviate from their steady-state behavior: $f(x, v, t) = f_0(v) + g(x,v) e^{-i \\omega_0 t}$.  Here we assume the background is homogeneous and so $f_0(v) = \\frac{n_0}{\\sqrt{2\\pi T}} \\exp\\left(-\\frac{v^2}{2T}\\right)$.\n",
    "- **$E(x)$** is the (complex) electric field.\n",
    "- **$j(x)$** is a known source term (e.g. external driving or antenna).\n",
    "- **$\\zeta_{bc}$** encodes **non-reflecting boundary conditions**:\n",
    "  - $\\zeta_{bc} = 1$ for outgoing waves.\n",
    "  - $\\zeta_{bc} = 0$ for incoming waves.\n",
    "- All variables in the equation were normalized such that we get dimensionless equations (see more details in the paper). \n",
    "\n",
    "---\n",
    "\n",
    "Discretizing the variables $x$ and $v$ leads to very large linear systems. Upon discretization, they form a structured linear system suitable for **block encoding**, making them compatible with quantum linear solvers.\n",
    "\n",
    "In the next sections, we will show how to construct block encoding for the equations using classiq, then plug it to a linear solver (QSVT in this case) to solve a certain toy problem.\n",
    "\n",
    "We emphasize that due to the dependence of the linear system solver on the condition number - $O(\\kappa \\log(\\frac{1}{\\epsilon}))$, and the dependece of the condition number in the grid size, we don't expect any quantum advantage for the 1D system."
   ]
  },
  {
   "cell_type": "markdown",
   "id": "cccf7298-ef4f-4eeb-8ba5-6a878edd01f4",
   "metadata": {},
   "source": [
    "## Block Encoding of the linear system\n",
    "\n",
    "In the following section we describe how to assemble the block encoding of the equations using Classiq. Notice that in order to have a simulatable circuit, we used non-scallable functions in parts of the algorithms that have better measures for small number of qubits. However, we describe how to replace them with a scallable alternative.\n",
    "\n",
    "First, choose the parameters of the problem:"
   ]
  },
  {
   "cell_type": "code",
   "execution_count": null,
   "id": "39d5974d-b7ea-4f1c-9c65-437b258d6d7d",
   "metadata": {},
   "outputs": [],
   "source": [
    "import numpy as np\n",
    "\n",
    "from classiq import *"
   ]
  },
  {
   "cell_type": "code",
   "execution_count": null,
   "id": "53d0a393-d4ca-4961-a5bc-5c3b9e5b658c",
   "metadata": {},
   "outputs": [],
   "source": [
    "# plasma parameters\n",
    "Temperature = 1\n",
    "N = 1  # simulate homogenous plasma - n(x) = 1\n",
    "\n",
    "# source parameters\n",
    "DS = 1\n",
    "X_0 = 50\n",
    "W_0 = 0.8\n",
    "\n",
    "# grid  parameters\n",
    "X_MIN = 0\n",
    "X_MAX = 100\n",
    "\n",
    "V_MIN = -4\n",
    "V_MAX = 4\n",
    "\n",
    "N_X = 4\n",
    "N_V = 4\n",
    "\n",
    "DX = (X_MAX - X_MIN) / (2**N_X - 1)\n",
    "DV = (V_MAX - V_MIN) / (2**N_V - 1)"
   ]
  },
  {
   "cell_type": "markdown",
   "id": "6c33ba82-d0b1-43d6-8792-e057b7dd9788",
   "metadata": {},
   "source": [
    "### Data encoding"
   ]
  },
  {
   "cell_type": "markdown",
   "id": "3e3b7629-5542-4a42-92c2-38dcfad7d5db",
   "metadata": {},
   "source": [
    "We define a quantum struct that will define the mapping of the coordinates to the effective block-encoded matrix of the problem:"
   ]
  },
  {
   "cell_type": "code",
   "execution_count": null,
   "id": "6614e165-b6d6-4d43-b49d-847fea9d469a",
   "metadata": {},
   "outputs": [],
   "source": [
    "class BEData(QStruct):\n",
    "    v: QNum[N_V, SIGNED, 0]\n",
    "    x: QNum[N_X]\n",
    "    E: QBit"
   ]
  },
  {
   "cell_type": "markdown",
   "id": "eba18940-8b94-4591-9149-4bc70a59feed",
   "metadata": {},
   "source": [
    "`v` holds the velocity coordinate as a signed number, as the velocity can hold negative values as well.\n",
    "\n",
    "`x` holds the position coordinates. It will encode a non-negative number in the range $[0, x_{max}]$\n",
    "\n",
    "The value `E` switches between the encoding of $g(x, v)$ (for `E=0`) and $E(x)$ (for `E=1`, `v=0`). Notice that the values `E=1`, `v!=0` are redundant (in fact we could eliminate them through the projector of the block encoding, but we keep them as they don't change the reuslt)."
   ]
  },
  {
   "cell_type": "markdown",
   "id": "c7a6b45d-6e6f-44cf-addc-c6be015981db",
   "metadata": {},
   "source": [
    "#### Block Struct\n",
    "\n",
    "We also add additional struct for the block encoding. It will hold additional variables that are required by the encoding process through - for adding block encodings (lcu), eliminating parts of existing block encodings (flag) or for diagonal block encoding (ind)."
   ]
  },
  {
   "cell_type": "code",
   "execution_count": null,
   "id": "708e46ff-9527-4b1b-8c1c-987d78f68b46",
   "metadata": {},
   "outputs": [],
   "source": [
    "class BEBlock(QStruct):\n",
    "    flag: QBit\n",
    "    zeta_flag: QBit\n",
    "    block_flag: QBit\n",
    "    ind: QBit\n",
    "    lcu1: QBit\n",
    "    lcu2: QBit"
   ]
  },
  {
   "cell_type": "markdown",
   "id": "3b5178ff-6937-4bad-8a70-9f621179b46f",
   "metadata": {},
   "source": [
    "Finally, the following struct will hold both defined structs:"
   ]
  },
  {
   "cell_type": "code",
   "execution_count": null,
   "id": "8a18145f-d94b-4ef5-8308-d8e22206463c",
   "metadata": {},
   "outputs": [],
   "source": [
    "class BE(QStruct):\n",
    "    data: BEData\n",
    "    block: BEBlock"
   ]
  },
  {
   "cell_type": "markdown",
   "id": "18079f87-731b-447f-913d-6f3f83a27537",
   "metadata": {},
   "source": [
    "---\n",
    "Now we are ready to block encode all parts of the equation. We show how to block encode each part of them, then combine them with Linear Combination of Unitaries.\n",
    "\n",
    "Let us look again on the equations:\n",
    "\n",
    "$$\n",
    "i \\omega_0 g(x, v) - \\zeta_{bc} \\, v \\, \\partial_x g(x, v) - \\partial_v f_0(v) E(x) = 0\n",
    "$$\n",
    "\n",
    "$$\n",
    "i \\omega_0 E(x) + \\int v g(x,v) \\, dv = j(x)\n",
    "$$\n",
    "\n",
    "The matrix we encode will have a row for each $g$ value and a row for each $E$ value. The columns represent the participating terms in each equation."
   ]
  },
  {
   "cell_type": "markdown",
   "id": "73ddf9cc-d1b1-453a-a02d-482110dfdce8",
   "metadata": {},
   "source": [
    "### Block encoding: advective term\n",
    "\n",
    "Notice that the advective term $\\zeta_{bc} \\, v \\, \\partial_x g(x, v)$ is in the upper left corner of the block encoded matrix (as it only involves $g$). Ignoring $\\zeta_{bc}$ part, the term is a tensor product of 2 block encodings - a diagonal $v$ encoding, and a derivative term.\n",
    "\n",
    "#### Derivative term\n",
    "The derivative term consists of normal finite-difference rule intermediate x points. At the boundaries of $x$, the derivative is according to a 2nd order interpolating polynomial (as described in the paper Eqs.19). \n",
    "\n",
    "We decompose it as a sum of 2 matrices:\n",
    "$$\\frac{1}{2\\Delta x}\\begin{pmatrix}\n",
    "-3 & 4 & -1 & 0 & \\cdots & 0 \\\\\n",
    "-1 & 0 & 1 & 0 & \\cdots & 0 \\\\\n",
    "0 & -1 & 0 & 1 & \\cdots & 0 \\\\\n",
    "\\vdots & \\ddots & \\ddots & \\ddots & \\ddots & \\vdots \\\\\n",
    "0 & \\cdots & -1 & 0 & 1 & 0 \\\\\n",
    "0 & \\cdots & 0 & 1 & -4 & 3\n",
    "\\end{pmatrix} = \n",
    "\\frac{1}{2\\Delta x}\\begin{pmatrix}\n",
    "  0  & 1      &        &        &        \\\\\n",
    " -1  & 0      & 1      &        &        \\\\\n",
    "     & -1     & 0      & \\ddots &        \\\\\n",
    "     &        & \\ddots & \\ddots & 1      \\\\\n",
    "     &        &        & -1     & 0\n",
    "\\end{pmatrix}\n",
    "+\n",
    "\\frac{1}{2\\Delta x}\\begin{pmatrix}\n",
    "-3  & 3  & -1 & 0 & \\cdots & 0 \\\\\n",
    "0   & 0  & 0  & \\cdots & \\cdots & 0 \\\\\n",
    "\\vdots &    &    & \\vdots \\\\\n",
    "\\vdots &    &    & \\vdots \\\\\n",
    "0   & 0  & 0  & 0 & \\cdots & 0 \\\\\n",
    "0   & 0  & 0  & 3 & -3 & 1\n",
    "\\end{pmatrix}$$"
   ]
  },
  {
   "cell_type": "markdown",
   "id": "ece3988b-2c22-442e-8328-30860b23d0e4",
   "metadata": {},
   "source": [
    "X-derivative matrix encoding (without boundary conditions). The 2 diagonals are combined using LCU. The overflowing term is eliminated using a flag qubit."
   ]
  },
  {
   "cell_type": "code",
   "execution_count": null,
   "id": "85c5a2b2-5721-48d3-80e1-43cae5719191",
   "metadata": {},
   "outputs": [],
   "source": [
    "# derivative along x without boundary conditions\n",
    "\n",
    "\n",
    "@qfunc\n",
    "def derivative_dirichlet_be(x: QNum, flag: QBit, lcu_q: QBit):\n",
    "    extended_qnum = QNum()\n",
    "    within_apply(\n",
    "        lambda: bind([x, flag], extended_qnum),\n",
    "        lambda: lcu(\n",
    "            [1, -1],\n",
    "            [\n",
    "                lambda: inplace_add(1, extended_qnum),\n",
    "                lambda: inplace_add(-1, extended_qnum),\n",
    "            ],\n",
    "            lcu_q,\n",
    "        ),\n",
    "    )"
   ]
  },
  {
   "cell_type": "markdown",
   "id": "cd9e664f-a528-4a92-bf10-68416b2f3143",
   "metadata": {},
   "source": [
    "For the boundary Boundary conditions matrix, we use a flag for applying it only on the first and last row. Additionaly, a control on the MSB of the `x` variable to take care for both edges of the system."
   ]
  },
  {
   "cell_type": "code",
   "execution_count": null,
   "id": "dfb3e32f-8e8f-4ad4-8c4a-b4578c5d3e6a",
   "metadata": {},
   "outputs": [],
   "source": [
    "BC_VALUES = 0.5 * np.array([-3, 4, -1, 0]) + np.array([0, -1, 0, 0])  # boundary\n",
    "BC_NORM = np.linalg.norm(BC_VALUES)\n",
    "BC_VALUES = BC_VALUES / BC_NORM"
   ]
  },
  {
   "cell_type": "code",
   "execution_count": null,
   "id": "81669433-953d-4928-8094-608610d54f01",
   "metadata": {},
   "outputs": [],
   "source": [
    "# derivative along x on the boundaries\n",
    "\n",
    "\n",
    "@qfunc\n",
    "def prepare_bounday_x(x: QArray):\n",
    "    inplace_prepare_amplitudes(BC_VALUES, 0.0, x[0:2])\n",
    "\n",
    "\n",
    "@qfunc\n",
    "def derivative_boundary_min_be(x: QNum, flag: QBit):\n",
    "    invert(lambda: prepare_bounday_x(x))\n",
    "    flag ^= x != 0\n",
    "\n",
    "\n",
    "@qfunc\n",
    "def derivative_boundary_max_be(x: QNum, flag: QBit):\n",
    "    within_apply(\n",
    "        lambda: apply_to_all(X, x),  # flip row order\n",
    "        lambda: [\n",
    "            RY(2 * np.pi, flag),  # phase of -1\n",
    "            derivative_boundary_min_be(x, flag),\n",
    "        ],\n",
    "    )\n",
    "\n",
    "\n",
    "@qfunc\n",
    "def derivative_boundaries_be(x: QArray, flag: QBit):\n",
    "    control(\n",
    "        x[x.len - 1] == 0,\n",
    "        lambda: derivative_boundary_min_be(x[0 : x.len - 1], flag),\n",
    "        lambda: derivative_boundary_max_be(x[0 : x.len - 1], flag),\n",
    "    )"
   ]
  },
  {
   "cell_type": "markdown",
   "id": "bbc59248-c058-4154-9897-e812fc97552e",
   "metadata": {},
   "source": [
    "Combine matrices to get the block-encoding of the derivative term:"
   ]
  },
  {
   "cell_type": "code",
   "execution_count": null,
   "id": "b41a16e6-6679-4450-a790-93232c1feee4",
   "metadata": {},
   "outputs": [],
   "source": [
    "@qfunc\n",
    "def derivative_be(x: QNum, flag: QBit, lcu1: QBit, lcu2: QBit):\n",
    "    lcu(\n",
    "        [1, BC_NORM],\n",
    "        [\n",
    "            lambda: derivative_dirichlet_be(x, flag, lcu2),\n",
    "            lambda: derivative_boundaries_be(x, flag),\n",
    "        ],\n",
    "        lcu1,\n",
    "    )"
   ]
  },
  {
   "cell_type": "markdown",
   "id": "a572022b-b84f-4ca7-ab13-9f381b1256b1",
   "metadata": {},
   "source": [
    "#### Diagonal $v$ term\n",
    "We use the `assign_amplitude`(`*=`) syntax, that performs the operation $|v\\rangle|0\\rangle_{ind} \\rightarrow |v\\rangle(f(v)|1\\rangle_{ind} + \\sqrt{1-f^2(v)}|0\\rangle_{ind})$, which is exactly a diagonal block encoding, where the additional indicator part of the block qubits.\n",
    "\n",
    "To save qubits we use implementation that is not scallable to large variable sizes. However, it is possible to perform it with a linear scaling in the number of qubits, using a primitive that block encodes $f(v) = \\sqrt{\\frac{v}{v_{max}}}$ to the amplitude, using quantum comparator. To achieve the function $f(v)=\\frac{v}{v_{max}}$, one can simply take the square of the block encoding, using qsvt or block encoding multiplication. For more details, see the [qsvt notebook](https:https://github.com/Classiq/classiq-library/blob/main/functions/qmod_library_reference/classiq_open_library/qsvt/qsvt.ipynb)."
   ]
  },
  {
   "cell_type": "code",
   "execution_count": null,
   "id": "3fcadeda-f142-440a-9658-4aa126ee613e",
   "metadata": {},
   "outputs": [],
   "source": [
    "@qfunc\n",
    "def v_be(v: QNum, ind: QBit):\n",
    "    ind *= v / (2 ** (v.size - 1))\n",
    "    ind ^= 1"
   ]
  },
  {
   "cell_type": "markdown",
   "id": "d8a63818-f42d-4542-a58e-a92787cc07d1",
   "metadata": {},
   "source": [
    "#### Non-reflecting boundary conditions"
   ]
  },
  {
   "cell_type": "markdown",
   "id": "913aa133-b03b-440d-9281-e3798bf2884c",
   "metadata": {},
   "source": [
    "The $\\zeta$ term is enforcing non-reflecting boundary conditions, not allowing incoming waves to the system:\n",
    "$$\n",
    "\\xi_{\\mathrm{bc}} \\, |x,v\\rangle =\n",
    "\\left(\n",
    "\\begin{cases}\n",
    "0, & x = 0,\\; v > 0,\\\\[4pt]\n",
    "0, & x = 2^{n_x}-1,\\; v < 0,\\\\[4pt]\n",
    "1, & \\text{otherwise}\n",
    "\\end{cases}\n",
    "\\right) |x,v\\rangle .\n",
    "$$"
   ]
  },
  {
   "cell_type": "code",
   "execution_count": null,
   "id": "780de1bd-b9da-47c4-9985-9b9a44d23240",
   "metadata": {},
   "outputs": [],
   "source": [
    "@qfunc\n",
    "def zeta_be(x: QNum, v: QNum, flag: QBit):\n",
    "    flag ^= (x == 0) & (v > 0)\n",
    "    flag ^= (x == (2**x.size - 1)) & (\n",
    "        v <= 0\n",
    "    )  # instead of doing 'or', take advantage of the mutual exclusiveness of the conditions"
   ]
  },
  {
   "cell_type": "markdown",
   "id": "739de49a-96ba-4b81-bd47-524c7c6be9de",
   "metadata": {},
   "source": [
    "Combine to the advective term block encoding:"
   ]
  },
  {
   "cell_type": "code",
   "execution_count": null,
   "id": "ed38ef73-1d5d-4c32-982f-02b7da45240c",
   "metadata": {},
   "outputs": [],
   "source": [
    "@qfunc\n",
    "def advective_be(be: BE):\n",
    "    derivative_be(be.data.x, be.block.flag, be.block.lcu1, be.block.lcu2)\n",
    "    v_be(be.data.v, be.block.ind)\n",
    "    zeta_be(be.data.x, be.data.v, be.block.zeta_flag)\n",
    "    be.block.block_flag ^= be.data.E  # eliminate the lower right block"
   ]
  },
  {
   "cell_type": "markdown",
   "id": "c2699f9f-af9c-4092-a8cb-a3216cf22027",
   "metadata": {},
   "source": [
    "Keep track of the normalization factor of each part of the block encoding:"
   ]
  },
  {
   "cell_type": "code",
   "execution_count": null,
   "id": "011523c1-76fb-41b9-855f-97858af477a5",
   "metadata": {},
   "outputs": [],
   "source": [
    "DERIVATIVE_TERM_FACTOR = 2 * (1 + BC_NORM)\n",
    "ADVECTIVE_TERM_FACTOR = DERIVATIVE_TERM_FACTOR * (V_MAX / (2 * DX))"
   ]
  },
  {
   "attachments": {},
   "cell_type": "markdown",
   "id": "8226d60b-243d-48ee-82a6-0468fe9842e6",
   "metadata": {},
   "source": [
    "### Block encoding: off diagonal terms\n",
    "\n",
    "Block encode the force and current terms, corresponding to the upper right and lower left blocks. "
   ]
  },
  {
   "cell_type": "markdown",
   "id": "0be9a755-60d2-4d4b-bd53-ea714c2a1871",
   "metadata": {},
   "source": [
    "#### Loading the force term"
   ]
  },
  {
   "cell_type": "markdown",
   "id": "54ef7394-5bdf-4065-bce5-2505ba0316da",
   "metadata": {},
   "source": [
    "In our setting $$\\partial_v f_0(v) E(x) = \\frac{v}{\\sqrt{2 \\pi}} \\exp \\left(- \\frac{v^2}{2 } \\right)$$ It is a column vector in the matrix, and to load it we have several options. One is to first load one of them ($v$ or $H(v))$ as a state, then use amplitude loading of the other one to create a block encoding of the multiplication. A second option that we use here is to directly prepare the state of the multiplication. The advantage is a better scaling factor. It can be performed as suggested [here](https://github.com/Classiq/classiq-library/blob/main/community/paper_implementation_project/quantum_state_preparation_without_coherent_arithmetic/stateprep_guassian_using_qsvt.ipynb) [[3](#QSVTPrep)] (though for this specific method there would still be a scaling factor issue). For simplicity we use here the general state preparation method (which is not scallable). \n",
    "\n",
    "Finally, we zero the columns for which `v != 0`, beacuse we want only columns that encode the field $E$."
   ]
  },
  {
   "cell_type": "code",
   "execution_count": null,
   "id": "64310515-a8ee-4daa-a8af-29d5dae3ff84",
   "metadata": {},
   "outputs": [],
   "source": [
    "from classiq.qmod.symbolic import sqrt\n",
    "\n",
    "v_amplitudes = np.linspace(-1, 1 - 2 ** (-N_V + 1), 2**N_V) * V_MAX\n",
    "v_amplitudes = np.roll(v_amplitudes, len(v_amplitudes) // 2)  # adjust to signed number\n",
    "v_H_amplitudes = (\n",
    "    v_amplitudes\n",
    "    * np.exp(-(v_amplitudes**2) / (2 * Temperature))\n",
    "    / (np.sqrt(2 * np.pi * Temperature))\n",
    ")\n",
    "\n",
    "\n",
    "@qfunc\n",
    "def load_v_H_vector(v: QNum):\n",
    "    inplace_prepare_amplitudes(-v_H_amplitudes / np.linalg.norm(v_H_amplitudes), 0, v)\n",
    "\n",
    "\n",
    "@qfunc\n",
    "def force_term_be(v: QNum, flag: QBit):\n",
    "    flag ^= v != 0\n",
    "    invert(lambda: load_v_H_vector(v))"
   ]
  },
  {
   "cell_type": "markdown",
   "id": "412a62a3-9423-4378-8252-323f12fb235c",
   "metadata": {},
   "source": [
    "#### Current term"
   ]
  },
  {
   "cell_type": "markdown",
   "id": "7930e25c-aabc-423f-97dd-4ac727ce7b4a",
   "metadata": {},
   "source": [
    "The current term is an integration and represented by row:\n",
    "$$\\int v g(x,v) \\, dv$$\n",
    "\n",
    "To load v, a linear state-preparation is enough. This can be done using the method in [[4](#LinearPrep)]. Because we only have equations with this term for the $E$ degrees of freedom, we zero columns where `v != 0`."
   ]
  },
  {
   "cell_type": "code",
   "execution_count": null,
   "id": "5913afad-ed16-4bcd-bc92-b895f8a301dd",
   "metadata": {},
   "outputs": [],
   "source": [
    "@qfunc\n",
    "def load_v_vector(v: QNum):\n",
    "    inplace_prepare_amplitudes(v_amplitudes / np.linalg.norm(v_amplitudes), 0, v)\n",
    "\n",
    "\n",
    "@qfunc\n",
    "def current_term_be(v: QNum, flag: QBit):\n",
    "    load_v_vector(v)\n",
    "    flag ^= v != 0"
   ]
  },
  {
   "cell_type": "markdown",
   "id": "162ba519-eb12-4b75-b447-74a0f99cda07",
   "metadata": {},
   "source": [
    "As both terms are normalized and are located in different off-diagonals, there is no need for LCU here, and we can directly us `control-else` mechanism on the `E` variable.\n",
    "\n",
    "We also need to balance both terms to be on the same scaling (both are currently normalized according to the norm of each term), that is done using the function `equalize_amplitude`."
   ]
  },
  {
   "cell_type": "code",
   "execution_count": null,
   "id": "b8eba5dd-cde6-404e-a2fb-e681c0730775",
   "metadata": {},
   "outputs": [],
   "source": [
    "FORCE_TERM_FACTOR = np.linalg.norm(v_H_amplitudes)\n",
    "CURRENT_TERM_FACTOR = np.linalg.norm(v_amplitudes) * DV\n",
    "\n",
    "OFF_DIAG_FACTOR = max(FORCE_TERM_FACTOR, CURRENT_TERM_FACTOR)\n",
    "\n",
    "\n",
    "@qfunc\n",
    "def equalize_amplitude(E_field: QNum, ind: QBit, ratio: float):\n",
    "    \"\"\"\n",
    "    Divide amplitude of |E=1> by ratio, do nothing for |E=0>\n",
    "    \"\"\"\n",
    "    # (1-E_field) is for aplying the amplitude division only for the force term\n",
    "    if ratio <= 1:\n",
    "        ind *= 1 - (1 - E_field) * (1 - ratio)\n",
    "    else:\n",
    "        ind *= 1 - (E_field) * (1 - 1 / ratio)\n",
    "    ind ^= 1\n",
    "\n",
    "\n",
    "@qfunc\n",
    "def off_diag_be(be: BE):\n",
    "    X(be.data.E)\n",
    "    control(\n",
    "        be.data.E == 0,\n",
    "        lambda: force_term_be(be.data.v, be.block.flag),\n",
    "        lambda: current_term_be(be.data.v, be.block.flag),\n",
    "    )\n",
    "\n",
    "    # re-weight the diagonals - decrease the term with smaller factor\n",
    "    equalize_amplitude(be.data.E, be.block.ind, FORCE_TERM_FACTOR / CURRENT_TERM_FACTOR)"
   ]
  },
  {
   "cell_type": "markdown",
   "id": "d2047a53-1b55-40ee-b0b0-18d04337ba35",
   "metadata": {},
   "source": [
    "### Full block encoding"
   ]
  },
  {
   "cell_type": "markdown",
   "id": "cfcb2f8f-3fda-4cb7-85ed-af022235a4df",
   "metadata": {},
   "source": [
    "The full block encoding is just a combination of all the terms using LCU. Notice that the diagonal term which has the same coefficient both for $E$ and $g$ is achieved by simply using the `IDENTITY` operation (= \"do nothing\")."
   ]
  },
  {
   "cell_type": "code",
   "execution_count": null,
   "id": "f526d93c-e943-4d34-9322-94da689deb11",
   "metadata": {},
   "outputs": [],
   "source": [
    "class BELcu(QStruct):\n",
    "    be: BE\n",
    "    lcu: QNum[2]\n",
    "\n",
    "\n",
    "LCU_COEFFS = np.array(\n",
    "    [\n",
    "        -ADVECTIVE_TERM_FACTOR,  # advective_be\n",
    "        OFF_DIAG_FACTOR,  # off_diag_be\n",
    "        1j * W_0,  # diagonal (of the full unitary)\n",
    "        0,\n",
    "    ]\n",
    ")\n",
    "BE_NORM_FACTOR = np.sum(np.abs(LCU_COEFFS))\n",
    "\n",
    "\n",
    "@qfunc\n",
    "def full_be(be_lcu: BELcu):\n",
    "    lcu(\n",
    "        LCU_COEFFS,\n",
    "        [\n",
    "            lambda: advective_be(be_lcu.be),\n",
    "            lambda: off_diag_be(be_lcu.be),\n",
    "            lambda: IDENTITY(be_lcu.be),\n",
    "        ],\n",
    "        be_lcu.lcu,\n",
    "    )"
   ]
  },
  {
   "cell_type": "markdown",
   "id": "f3ee31aa-79ed-4500-9e7f-8226beca33e5",
   "metadata": {},
   "source": [
    "### Extracting the block encoding using quantum simulation\n",
    "\n",
    "In order to get the resulting block encoded matrix using statevector simulation, we add a reference variable that duplicates the input variable before the application of the block encoding, thus surving as a marker for the input state before the application of the block encoding."
   ]
  },
  {
   "cell_type": "code",
   "execution_count": null,
   "id": "68745695-6a6a-4ba7-a08e-c4a000e04fe2",
   "metadata": {
    "scrolled": true
   },
   "outputs": [],
   "source": [
    "@qfunc\n",
    "def prepare_ref(data: QNum, data_ref: Output[QNum]):\n",
    "    \"\"\"\n",
    "    create a refernce variable such that it will 'tag' the input states, and it\n",
    "    will be possible to measure the block encoded matrix\n",
    "    \"\"\"\n",
    "    hadamard_transform(data)\n",
    "    # 'duplicate' data to the refernce, such that variables are entangled\n",
    "    data_ref |= data\n",
    "\n",
    "\n",
    "@qfunc\n",
    "def main(\n",
    "    data: Output[QNum[BEData.num_qubits]], data_ref: Output[QNum], block: Output[QNum]\n",
    "):\n",
    "    be_lcu = BELcu()\n",
    "    allocate(be_lcu)\n",
    "    prepare_ref([be_lcu.be.data], data_ref)\n",
    "\n",
    "    full_be(be_lcu)\n",
    "    bind(be_lcu, [data, block])"
   ]
  },
  {
   "cell_type": "markdown",
   "id": "7c268fd9-cf6e-45b7-a031-bdc25274d66c",
   "metadata": {},
   "source": [
    "Define auxilliary functions for execution and result parsing:"
   ]
  },
  {
   "cell_type": "code",
   "execution_count": null,
   "id": "87a897d4-db4c-4af5-b412-b1cf111b057e",
   "metadata": {},
   "outputs": [],
   "source": [
    "import matplotlib.pyplot as plt\n",
    "\n",
    "\n",
    "def execute_program(main_qfunc, preferences=None, constraints=None):\n",
    "    \"\"\"\n",
    "    Synthesize, execute and return the qprog and execution results.\n",
    "    When executing, filter out results where the block qubits are not 0.\n",
    "    \"\"\"\n",
    "    if constraints is None:\n",
    "        constraints = Constraints(optimization_parameter=\"width\")\n",
    "    if preferences is None:\n",
    "        preferences = Preferences(optimization_level=0)\n",
    "\n",
    "    print(\"Synthesizing\")\n",
    "    qprog = synthesize(main_qfunc, constraints=constraints, preferences=preferences)\n",
    "    if qprog.data.width <= 18:\n",
    "        execution_preferences = ExecutionPreferences(\n",
    "            backend_preferences=ClassiqBackendPreferences(\n",
    "                backend_name=ClassiqSimulatorBackendNames.SIMULATOR_STATEVECTOR\n",
    "            ),\n",
    "        )\n",
    "    else:\n",
    "        execution_preferences = ExecutionPreferences(\n",
    "            backend_preferences=ClassiqBackendPreferences(\n",
    "                backend_name=ClassiqNvidiaBackendNames.SIMULATOR_STATEVECTOR\n",
    "            ),\n",
    "        )\n",
    "\n",
    "    print(\"Executing\")\n",
    "    with ExecutionSession(qprog, execution_preferences) as es:\n",
    "        if not qprog.data.width <= 18:\n",
    "            es.set_measured_state_filter(\"block\", lambda state: state == 0.0)\n",
    "        res = es.sample()\n",
    "    return qprog, res"
   ]
  },
  {
   "cell_type": "code",
   "execution_count": null,
   "id": "2b47fb80-679f-4b77-9057-f73af849c5b5",
   "metadata": {
    "scrolled": true
   },
   "outputs": [],
   "source": [
    "# qprog_be, res_be = execute_program(main)\n",
    "write_qmod(main, \"plasma_kinetic_block_encoding\", symbolic_only=False)\n",
    "show(qprog)"
   ]
  },
  {
   "cell_type": "markdown",
   "id": "5df4a215-f20c-4c9c-ae7f-b70a45f95405",
   "metadata": {},
   "source": [
    "show the resulting block encoding:"
   ]
  },
  {
   "cell_type": "code",
   "execution_count": null,
   "id": "af9de76b-3b18-4b09-a8f8-9209b90df260",
   "metadata": {
    "scrolled": true
   },
   "outputs": [],
   "source": [
    "def extract_block_encoding(res):\n",
    "    \"\"\"\n",
    "    Extract the block encoded matrix from the execution results and plot it\n",
    "    \"\"\"\n",
    "    df = res.dataframe\n",
    "    df = df[(df.block == 0) & (np.abs(df.amplitude) > 1e-12)].copy()\n",
    "    global_phase = np.angle(df.amplitude.iloc[0])\n",
    "    df[\"amplitude_real\"] = np.real(df.amplitude / np.exp(1j * global_phase))\n",
    "    df[\"amplitude_imag\"] = np.imag(df.amplitude / np.exp(1j * global_phase))\n",
    "\n",
    "    full_mat = 0\n",
    "    for i, s in enumerate([\"real\", \"imag\"]):\n",
    "        matrix = df.pivot_table(\n",
    "            index=\"data\", columns=\"data_ref\", values=f\"amplitude_{s}\", fill_value=0\n",
    "        )\n",
    "\n",
    "        # Reindex rows and columns to ensure full coverage\n",
    "        full_index = np.arange(2 ** (BEData.num_qubits))\n",
    "        matrix = matrix.reindex(index=full_index, columns=full_index, fill_value=0)\n",
    "        # Convert to numpy array, add the normalization factor\n",
    "        matrix_np = matrix.to_numpy() * np.sqrt(2 ** (BEData.num_qubits))\n",
    "        full_mat += matrix_np.astype(\"complex128\") * [1, 1j][i]\n",
    "    full_mat = full_mat\n",
    "\n",
    "    return full_mat\n",
    "\n",
    "\n",
    "mat_be = extract_block_encoding(res_be)\n",
    "plt.spy(mat_be)"
   ]
  },
  {
   "cell_type": "markdown",
   "id": "d87eadf9-6b06-4560-a37b-e44b3dcf5e37",
   "metadata": {},
   "source": [
    "# Linear solver using QSVT matrix inversion"
   ]
  },
  {
   "cell_type": "markdown",
   "id": "6658e8a6-e966-4d0c-986a-cbf6c1e46959",
   "metadata": {},
   "source": [
    "Now we use the block encoding to solve the equation. We only left to encode the external source we want to solve for as initial state, and apply matrix inversion on the it.\n",
    "\n",
    "Because the condition number of the resulting matrix is high for our simulation, we limitied ourselves for small grid size, on which the problem solution is not physical, though we show it for educational purposes."
   ]
  },
  {
   "cell_type": "markdown",
   "id": "42832a53-a00b-462e-8c50-d1f00717e963",
   "metadata": {},
   "source": [
    "### Initial state Loading\n",
    "We solve for a source term localized at $x_0$, according to the following formula:\n",
    "$$\n",
    "j(S)= i \\omega_0 e^{- \\frac{(x - x_0)^2}{2 (\\Delta_S)^2}}\n",
    "$$"
   ]
  },
  {
   "cell_type": "code",
   "execution_count": null,
   "id": "3199b18f-252a-49e6-be52-097ad2fdbb25",
   "metadata": {
    "scrolled": true
   },
   "outputs": [],
   "source": [
    "x_coordinates = np.linspace(0, X_MAX, 2**N_X)\n",
    "j_amplitudes = W_0 * np.exp(\n",
    "    -((x_coordinates - X_0) ** 2) / (2 * DS**2)\n",
    ")  # ignore the i phase\n",
    "j_amplitudes /= np.linalg.norm(j_amplitudes)\n",
    "\n",
    "\n",
    "@qfunc\n",
    "def prepare_source_term(data: BEData):\n",
    "    data.E ^= 1  # source term has non-zero values only for E\n",
    "    inplace_prepare_amplitudes(j_amplitudes, 0, data.x)"
   ]
  },
  {
   "cell_type": "markdown",
   "id": "540ba2ed-e8ff-44ea-a950-c0918f9da0f8",
   "metadata": {},
   "source": [
    "### QSVT phases calculation"
   ]
  },
  {
   "cell_type": "markdown",
   "id": "1a028853-67ea-4d50-b9d2-ed79f025215d",
   "metadata": {},
   "source": [
    "Solve an optimization problem for the qsvt polynomial:"
   ]
  },
  {
   "cell_type": "code",
   "execution_count": null,
   "id": "d1948c08-26ec-4456-a433-606d77539518",
   "metadata": {},
   "outputs": [],
   "source": [
    "import cvxpy as cp\n",
    "import matplotlib.pyplot as plt\n",
    "import numpy as np\n",
    "import pyqsp\n",
    "from pyqsp.angle_sequence import Polynomial, QuantumSignalProcessingPhases\n",
    "\n",
    "\n",
    "def optimize_inversion_polynomial(w_min, w_max, degree, M=1000, plot=True):\n",
    "    # Discretize [-1, 1] using M grid points (interpolants)\n",
    "    xj_full = np.cos(np.pi * np.arange(M) / (M - 1))  # Chebyshev nodes on [-1, 1]\n",
    "\n",
    "    # Select grid points for the objective in [w_min, w_max]\n",
    "    xj_obj = xj_full[(xj_full >= w_min) & (xj_full <= w_max)]\n",
    "\n",
    "    # Define the Chebyshev polynomials of odd degrees\n",
    "    k_max = (degree - 1) // 2\n",
    "    T_matrix_full = np.array(\n",
    "        [\n",
    "            [np.cos((2 * k + 1) * np.arccos(x)) for k in range(k_max + 1)]\n",
    "            for x in xj_full\n",
    "        ]\n",
    "    )\n",
    "    T_matrix_obj = np.array(\n",
    "        [[np.cos((2 * k + 1) * np.arccos(x)) for k in range(k_max + 1)] for x in xj_obj]\n",
    "    )\n",
    "\n",
    "    # Define optimization variables\n",
    "    c = cp.Variable(k_max + 1)  # Coefficients for Chebyshev polynomials\n",
    "    F_values_full = T_matrix_full @ c  # Values for constraints\n",
    "    F_values_obj = T_matrix_obj @ c  # Values for the objective function\n",
    "\n",
    "    # Relaxed constraint\n",
    "    scale = 0.95\n",
    "    up_boundary = 0.95\n",
    "\n",
    "    def target_function(x):\n",
    "        return scale * (w_min) / x\n",
    "\n",
    "    # Define the optimization problem\n",
    "    objective = cp.Minimize(cp.max(cp.abs(F_values_obj - target_function(xj_obj))))\n",
    "    constraints = [cp.abs(F_values_full) <= up_boundary]\n",
    "    prob = cp.Problem(objective, constraints)\n",
    "\n",
    "    # Solve the optimization problem\n",
    "    prob.solve()\n",
    "    print(f\"Max relative error value: {prob.value / scale}\")\n",
    "\n",
    "    # Return coefficients, optimal value, and grid points\n",
    "    pcoefs = np.zeros(len(c.value) * 2)\n",
    "    pcoefs[1::2] = c.value\n",
    "\n",
    "    if plot:\n",
    "        y_target = target_function(xj_obj)\n",
    "        y_approx = np.polynomial.Chebyshev(pcoefs)(xj_full)\n",
    "\n",
    "        # Plot\n",
    "        plt.figure(figsize=(10, 5))\n",
    "        plt.plot(xj_obj, y_target, label=\"Target function\", linewidth=4)\n",
    "        plt.plot(\n",
    "            xj_full,\n",
    "            y_approx,\n",
    "            \"--\",\n",
    "            label=\"Polynomial approximation\",\n",
    "            linewidth=2,\n",
    "            c=\"r\",\n",
    "        )\n",
    "        # plt.xlim(0.7 * w_min, 1.3 * w_max)\n",
    "        plt.title(\"Polynomial Approximation vs Target Function\")\n",
    "        plt.xlabel(\"x\")\n",
    "        plt.ylabel(\"f(x)\")\n",
    "        # Draw vertical lines\n",
    "        plt.axvline(w_min, color=\"gray\", linestyle=\":\", linewidth=3)\n",
    "        plt.axvline(w_max, color=\"gray\", linestyle=\":\", linewidth=3)\n",
    "\n",
    "        plt.legend()\n",
    "        plt.grid(True)\n",
    "        plt.show()\n",
    "\n",
    "    return pcoefs, scale"
   ]
  },
  {
   "cell_type": "code",
   "execution_count": null,
   "id": "6a404be2-7c3d-455c-a4b3-936b77101e58",
   "metadata": {},
   "outputs": [],
   "source": [
    "DEGREE = 140\n",
    "\n",
    "svd = np.linalg.svd(mat_be)[1]\n",
    "print(f\"min singular value: {min(svd)}, max_singular value: {max(svd)}\")\n",
    "pcoefs, scale = optimize_inversion_polynomial(min(svd), max(svd), degree=DEGREE)\n",
    "\n",
    "ang_seq = QuantumSignalProcessingPhases(\n",
    "    pcoefs, signal_operator=\"Wx\", method=\"laurent\", measurement=\"x\"\n",
    ")\n",
    "pyqsp.response.PlotQSPResponse(ang_seq, signal_operator=\"Wx\", measurement=\"x\")\n",
    "\n",
    "\n",
    "# verify conventions. minus is due to exp(-i*phi*z) in qsvt in comparison to qsp\n",
    "phases = np.array(ang_seq)\n",
    "phases[1:-1] = phases[1:-1] - np.pi / 2\n",
    "phases[0] = phases[0] - np.pi / 4\n",
    "phases[-1] = phases[-1] + (2 * (len(phases) - 1) - 1) * np.pi / 4\n",
    "phases = -2 * phases\n",
    "INVERSION_PHASES = phases"
   ]
  },
  {
   "cell_type": "markdown",
   "id": "2c3ad645-ec41-4aa0-8aca-d1aa46c60610",
   "metadata": {},
   "source": [
    "### Full QSVT circuit"
   ]
  },
  {
   "cell_type": "markdown",
   "id": "46d6c144-68e5-46fc-9cdb-fd88c65783a5",
   "metadata": {},
   "source": [
    "The QSVT projector is just checking whether the entire block is 0."
   ]
  },
  {
   "cell_type": "code",
   "execution_count": null,
   "id": "2dcbf476-c1fb-465c-824a-f85b5f88ee70",
   "metadata": {},
   "outputs": [],
   "source": [
    "@qfunc\n",
    "def projector(be: BELcu, res: QBit):\n",
    "    data = BEData()\n",
    "    block = QNum()\n",
    "    within_apply(lambda: bind(be, [data, block]), lambda: inplace_xor(block == 0, res))\n",
    "\n",
    "\n",
    "@qfunc\n",
    "def main(data: Output[BEData], block: Output[QNum]):\n",
    "    be_lcu = BELcu()\n",
    "    qsvt_aux = QBit()\n",
    "\n",
    "    allocate(be_lcu)\n",
    "    allocate(qsvt_aux)\n",
    "\n",
    "    prepare_source_term(be_lcu.be.data)\n",
    "\n",
    "    qsvt_inversion(INVERSION_PHASES, projector, full_be, be_lcu, qsvt_aux)\n",
    "\n",
    "    bind([be_lcu, qsvt_aux], [data, block])\n",
    "\n",
    "\n",
    "preferences = Preferences(\n",
    "    transpilation_option=\"none\",\n",
    "    # debug_mode=False,\n",
    "    timeout_seconds=20 * 60,\n",
    "    qasm3=True,\n",
    "    optimization_level=1,\n",
    ")\n",
    "qprog_qsvt, res_qsvt = execute_program(main, preferences=preferences)\n",
    "show(qprog_qsvt)"
   ]
  },
  {
   "cell_type": "markdown",
   "id": "39971c8c-e043-468f-b498-41aef6873d05",
   "metadata": {},
   "source": [
    "### Post-process"
   ]
  },
  {
   "cell_type": "markdown",
   "id": "9618c33e-93e7-4d08-8835-2bad6f68d2b9",
   "metadata": {},
   "source": [
    "Here we plot the resulting $E$ vector."
   ]
  },
  {
   "cell_type": "code",
   "execution_count": null,
   "id": "14055399-e19b-463e-8bdd-a3ce7a998f1c",
   "metadata": {
    "scrolled": true
   },
   "outputs": [],
   "source": [
    "df = res_qsvt.dataframe\n",
    "\n",
    "# filter only the E results\n",
    "df_E = df[\n",
    "    (df[\"data.E\"] == 1) & (df[\"data.v\"] == 0) & (np.abs(df.amplitude) > 1e-14)\n",
    "].sort_values(by=\"data.x\")\n",
    "\n",
    "x_values = df_E[\"data.x\"] * DX\n",
    "E_values = df_E.amplitude * BE_NORMALIZATION_FACTOR\n",
    "plt.plot(x_values, np.abs(E_values))\n",
    "\n",
    "plt.xlabel(\"$x$\")\n",
    "plt.ylabel(\"$|E(x)|$\")"
   ]
  },
  {
   "cell_type": "markdown",
   "id": "23079b1d-16e2-4512-9e66-14cc9f3f6417",
   "metadata": {},
   "source": [
    "#### Compare to a classical solver"
   ]
  },
  {
   "cell_type": "code",
   "execution_count": null,
   "id": "215abed2-b97f-4dda-8409-77e3a76993be",
   "metadata": {},
   "outputs": [],
   "source": [
    "import matplotlib.pyplot as plt\n",
    "import numpy as np\n",
    "\n",
    "\n",
    "def get_advective_mat(nx, nv, dx, v_max, cyclic=False):\n",
    "    dx_mat = np.diag(np.ones(2**nx - 1), k=1) - np.diag(np.ones(2**nx - 1), k=-1)\n",
    "    boundary = np.pad([-3, 4, -1], (0, dx_mat.shape[1] - 3))\n",
    "    dx_mat[0, :] = boundary\n",
    "    dx_mat[-1, :] = -np.flip(boundary)\n",
    "\n",
    "    v_amplitudes = np.linspace(-1, 1 - 2 ** (-nv + 1), 2**nv) * v_max\n",
    "    v_amplitudes = np.roll(v_amplitudes, len(v_amplitudes) // 2)\n",
    "\n",
    "    x_values = np.arange(2**nx)\n",
    "    max_x = 2**nx - 1\n",
    "    xi = (\n",
    "        1\n",
    "        - np.kron(x_values == 0, v_amplitudes > 0)\n",
    "        - np.kron(x_values == max_x, v_amplitudes <= 0)\n",
    "    )\n",
    "\n",
    "    advective = np.kron(dx_mat / (2 * dx), np.diag(v_amplitudes))\n",
    "    advective[xi == 0] = 0\n",
    "\n",
    "    return advective\n",
    "\n",
    "\n",
    "def get_off_diag_mat(nx, nv, dv, v_max, temp):\n",
    "    v_amplitudes = np.linspace(-1, 1 - 2 ** (-nv + 1), 2**nv) * v_max\n",
    "    v_amplitudes = np.roll(v_amplitudes, len(v_amplitudes) // 2)\n",
    "    v_H_amplitudes = (\n",
    "        v_amplitudes\n",
    "        * np.exp(-(v_amplitudes**2) / (2 * temp))\n",
    "        / (np.sqrt(2 * np.pi * temp))\n",
    "    )\n",
    "\n",
    "    vec_col = v_H_amplitudes\n",
    "    vec_row = v_amplitudes * dv\n",
    "\n",
    "    n = len(vec_col)\n",
    "    dim_x = 2**nx\n",
    "    dim_v = 2**nv\n",
    "    size = dim_x * dim_v\n",
    "\n",
    "    A = np.zeros((size, size))\n",
    "    B = np.zeros((size, size))\n",
    "    for i in range(dim_x):\n",
    "        A[i * dim_v : (i + 1) * dim_v, i * dim_v] = vec_col\n",
    "        B[i * dim_v, i * dim_v : (i + 1) * dim_v] = vec_row\n",
    "\n",
    "    # Compose off-diagonal block matrix\n",
    "    top = np.hstack((np.zeros_like(A), -A))\n",
    "    bottom = np.hstack((B, np.zeros_like(B)))\n",
    "    off_diag = np.vstack((top, bottom))\n",
    "    return off_diag\n",
    "\n",
    "\n",
    "def get_block_encoding(nx, nv, v_max, x_max, w0, temp):\n",
    "    dx = x_max / (2**nx - 1)\n",
    "    dv = (2 * v_max) / (2**nv - 1)\n",
    "\n",
    "    mat_size = 2 ** (nx + nv + 1)\n",
    "    advective = get_advective_mat(nx, nv, dx, v_max)\n",
    "    off_diag = get_off_diag_mat(nx, nv, dv, v_max, temp)\n",
    "\n",
    "    return 1j * w0 * np.eye(mat_size) - np.kron(np.diag([1, 0]), advective) + off_diag\n",
    "\n",
    "\n",
    "def get_source_term(nx, nv, x0, x_max, w0, ds):\n",
    "    x_coordinates = np.linspace(0, x_max, 2**nx)\n",
    "    j_amplitudes = 1j * w0 * np.exp(-((x_coordinates - x0) ** 2) / (2 * ds**2))\n",
    "\n",
    "    v_0 = np.zeros(2**nv)\n",
    "    v_0[0] = 1\n",
    "    source = np.kron([0, 1], np.kron(j_amplitudes, v_0))\n",
    "    return source\n",
    "\n",
    "\n",
    "def solve_problem(\n",
    "    nx, nv, w0, x_max=X_MAX, v_max=V_MAX, temp=Temperature, x0=X_0, ds=DS\n",
    "):\n",
    "    be = get_block_encoding(nx, nv, v_max, x_max, w0, temp)\n",
    "    source = get_source_term(nx, nv, x0, x_max, w0, ds)\n",
    "\n",
    "    sol = np.linalg.solve(be, source)\n",
    "\n",
    "    v_0 = np.zeros(2**nv)\n",
    "    v_0[0] = 1\n",
    "    E_filter = np.kron([0, 1], np.kron(np.ones(2**nx), v_0)).astype(\"bool\")\n",
    "    E = sol[E_filter]\n",
    "\n",
    "    return be, E"
   ]
  },
  {
   "cell_type": "code",
   "execution_count": null,
   "id": "48549d37-2015-47a8-bf80-3805ad1e29a8",
   "metadata": {},
   "outputs": [],
   "source": [
    "mat_classical, E_classical = solve_problem(N_X, N_V, W_0)\n",
    "\n",
    "x_coordinates = np.linspace(0, X_MAX, 2**N_X)\n",
    "plt.plot(x_coordinates, np.abs(E_classical))\n",
    "plt.xlabel(\"x\")\n",
    "plt.ylabel(\"|E(x)|\")\n",
    "plt.legend()"
   ]
  },
  {
   "cell_type": "markdown",
   "id": "13f5b8bf-4264-4257-8ce7-e66dc4bca053",
   "metadata": {},
   "source": [
    "# References\n",
    "\n",
    "<a name='KineticPlasma'>[1]</a>: Novikau, I., Dodin, I.Y., & Startsev, E.A. (2024). *Encoding of linear kinetic plasma problems in quantum circuits via data compression*. **Journal of Plasma Physics**, 90(4). [https://doi.org/10.1017/S0022377824000795](https://doi.org/10.1017/S0022377824000795)\n",
    "\n",
    "<a name='Tok'>[2]</a>: [Tokamak (Wikipedia)](https://en.wikipedia.org/wiki/Tokamak).\n",
    "\n",
    "<a name='QSVTPrep'>[3]</a>: McArdle, S., Gilyén, A., & Berta, M. (2025). *Quantum state preparation without coherent arithmetic*. arXiv:2210.14892 [quant-ph]. [https://arxiv.org/abs/2210.14892](https://arxiv.org/abs/2210.14892)\n",
    "\n",
    "<a name='LinearPrep'>[4]</a>: Gonzalez-Conde, J., Watts, T. W., Rodriguez-Grasa, P., & Sanz, M. (2024). *Efficient quantum amplitude encoding of polynomial functions*. **Quantum**, 8, 1297. [https://doi.org/10.22331/q-2024-03-21-1297](https://doi.org/10.22331/q-2024-03-21-1297)\n"
   ]
  }
 ],
 "metadata": {
  "kernelspec": {
   "display_name": "Python 3 (ipykernel)",
   "language": "python",
   "name": "python3"
  },
  "language_info": {
   "codemirror_mode": {
    "name": "ipython",
    "version": 3
   },
   "file_extension": ".py",
   "mimetype": "text/x-python",
   "name": "python",
   "nbconvert_exporter": "python",
   "pygments_lexer": "ipython3",
   "version": "3.11.4"
  }
 },
 "nbformat": 4,
 "nbformat_minor": 5
}
