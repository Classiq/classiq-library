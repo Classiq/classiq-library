{
 "cells": [
  {
   "cell_type": "markdown",
   "id": "0",
   "metadata": {},
   "source": [
    "# Multi-Control-X\n",
    "\n",
    "The multi-control-X applies X gate to one target qubit bit only if the logical AND of all control qubits is satisfied.\n",
    "The multi-control-X function incorporates numerous implementations for the multi-control-X gate,\n",
    "each with a different depth and number of auxiliary qubits.\n",
    "These implementations generically outperform the Gray-code, V-chain and recursive implementations of Ref. [[1]](#1),\n",
    "as well as the relative-phase Toffoli implementation of Ref. [[2]](#2).\n",
    "Given a sufficient number of auxiliary qubits, some implementations allow for logarithmic depth and linear CX-count.\n",
    "The synthesis process selects the appropriate implementation depending on the defined constraints."
   ]
  },
  {
   "cell_type": "markdown",
   "id": "1",
   "metadata": {
    "jp-MarkdownHeadingCollapsed": true
   },
   "source": [
    "Operator: `control`\n",
    "\n",
    "Arguments:\n",
    "\n",
    "- `ctrl: Union[QBit, QArray[QBit]]`\n",
    "- `stmt_block: QCallable`\n",
    "  \n",
    "\n",
    "Operator `control` takes a qubit array of length one or more as `ctrl`, and applies the `stmt_block` operand if all qubits are in the `1` state \n"
   ]
  },
  {
   "cell_type": "markdown",
   "id": "2",
   "metadata": {},
   "source": [
    "## Example\n",
    "\n",
    "The following example shows how to use the `control` operator to implement a Multi-Control-X where a 7-qubit quantum variable serves as the control"
   ]
  },
  {
   "cell_type": "code",
   "execution_count": 31,
   "id": "3",
   "metadata": {},
   "outputs": [],
   "source": [
    "from classiq import *\n",
    "\n",
    "\n",
    "@qfunc\n",
    "def main(cntrl: Output[QArray[QBit]], target: Output[QBit]) -> None:\n",
    "    allocate(7, cntrl)\n",
    "    allocate(target)\n",
    "    control(ctrl=cntrl, stmt_block=lambda: X(target))"
   ]
  },
  {
   "cell_type": "code",
   "execution_count": 32,
   "id": "4",
   "metadata": {},
   "outputs": [],
   "source": [
    "qmod = create_model(main, out_file=\"mcx_example\")"
   ]
  },
  {
   "cell_type": "code",
   "execution_count": 33,
   "id": "5",
   "metadata": {},
   "outputs": [],
   "source": [
    "qprog = synthesize(qmod)"
   ]
  },
  {
   "cell_type": "markdown",
   "id": "6",
   "metadata": {},
   "source": [
    "## References\n",
    "\n",
    "<a name=\"1\">[1]</a> A. Barenco et al, Elementary gates for quantum computation,\n",
    "Phys. Rev. A 52 (1995). https://journals.aps.org/pra/abstract/10.1103/PhysRevA.52.3457\n",
    "\n",
    "<a name=\"2\">[2]</a> D. Maslov, Advantages of using relative-phase Toffoli gates\n",
    "with an application to multiple control Toffoli optimization,\n",
    "Phys. Rev. A 93 (2016). https://journals.aps.org/pra/abstract/10.1103/PhysRevA.93.022311"
   ]
  }
 ],
 "metadata": {
  "kernelspec": {
   "display_name": "Python 3 (ipykernel)",
   "language": "python",
   "name": "python3"
  },
  "language_info": {
   "codemirror_mode": {
    "name": "ipython",
    "version": 3
   },
   "file_extension": ".py",
   "mimetype": "text/x-python",
   "name": "python",
   "nbconvert_exporter": "python",
   "pygments_lexer": "ipython3",
   "version": "3.11.4"
  }
 },
 "nbformat": 4,
 "nbformat_minor": 9
}
