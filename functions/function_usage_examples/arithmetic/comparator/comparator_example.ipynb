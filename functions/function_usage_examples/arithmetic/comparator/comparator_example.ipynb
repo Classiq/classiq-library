{
 "cells": [
  {
   "cell_type": "markdown",
   "id": "0",
   "metadata": {},
   "source": [
    "# Comparators\n",
    "\n",
    "The following comparators are supported:\n",
    "\n",
    "- Equal (denoted as '==')\n",
    "- NotEqual (denoted as '!=')\n",
    "- GreaterThan (denoted as '>')\n",
    "- GreaterEqual (denoted as '>=')\n",
    "- LessThan (denoted as '<')\n",
    "- LessEqual (denoted as '<=')\n",
    "\n",
    "Note that integer and fixed-point numbers are represented in a 2-complement method during function evaluation.\n",
    "The binary number is extended in the case of a register size miss-match.\n",
    "For example, the positive signed number $(110)_2=6$ is expressed as $(00110)_2$ when operating with a 5-qubit register.\n",
    "Similarly, the negative signed number $(110)_2=-2$ is expressed as $(11110)_2$.\n",
    "\n",
    "Examples:\n",
    "\n",
    "(5 <= 3) = 0\n",
    "\n",
    "(5 == 5) = 1\n",
    "\n",
    "($(011)_2$ == $(11)_2$) = 1\n",
    "\n",
    "(signed $(101)_2$ < unsigned $(101)_2$) = 1"
   ]
  },
  {
   "cell_type": "markdown",
   "id": "1",
   "metadata": {},
   "source": [
    "## Examples\n",
    "\n",
    "#### Example 1: Comparing Two Quantum Variables\n",
    "\n",
    "This example generates a quantum program that performs 'equal' between two variables.\n",
    "The left arg is a signed variable with 5 qubits and the right arg is an unsigned varialbe with 3 qubits."
   ]
  },
  {
   "cell_type": "code",
   "execution_count": 1,
   "id": "2",
   "metadata": {},
   "outputs": [],
   "source": [
    "from classiq import *\n",
    "\n",
    "\n",
    "@qfunc\n",
    "def main(a: Output[QNum], b: Output[QNum], res: Output[QNum]) -> None:\n",
    "    allocate(5, True, 0, a)\n",
    "    allocate(3, False, 0, b)\n",
    "\n",
    "    res |= a == b\n",
    "\n",
    "\n",
    "qmod = create_model(main, out_file=\"comparator_2vars_example\")"
   ]
  },
  {
   "cell_type": "code",
   "execution_count": 2,
   "id": "3",
   "metadata": {},
   "outputs": [],
   "source": [
    "qprog = synthesize(qmod)"
   ]
  },
  {
   "cell_type": "markdown",
   "id": "4",
   "metadata": {},
   "source": [
    "#### Example 2: Comparing Integer and Quantum Variable\n",
    "\n",
    "This example generates a quantum program that performs 'less equal' between a quantum register and an integer. \n",
    "The left arg is an unsigned quantum variable with 3 qubits, and the right arg is an integer equal to 2."
   ]
  },
  {
   "cell_type": "code",
   "execution_count": 3,
   "id": "5",
   "metadata": {},
   "outputs": [],
   "source": [
    "@qfunc\n",
    "def main(a: Output[QNum], res: Output[QNum]) -> None:\n",
    "    allocate(3, a)\n",
    "    hadamard_transform(a)\n",
    "    res |= a <= 2\n",
    "\n",
    "\n",
    "qmod = create_model(main, out_file=\"comparator_integer_example\")"
   ]
  },
  {
   "cell_type": "code",
   "execution_count": 4,
   "id": "6",
   "metadata": {},
   "outputs": [
    {
     "data": {
      "text/plain": [
       "[{'a': 4.0, 'res': 0.0}: 150,\n",
       " {'a': 1.0, 'res': 1.0}: 138,\n",
       " {'a': 7.0, 'res': 0.0}: 132,\n",
       " {'a': 2.0, 'res': 1.0}: 126,\n",
       " {'a': 6.0, 'res': 0.0}: 123,\n",
       " {'a': 3.0, 'res': 0.0}: 115,\n",
       " {'a': 5.0, 'res': 0.0}: 110,\n",
       " {'a': 0.0, 'res': 1.0}: 106]"
      ]
     },
     "execution_count": 4,
     "metadata": {},
     "output_type": "execute_result"
    }
   ],
   "source": [
    "qprog = synthesize(qmod)\n",
    "\n",
    "result = execute(qprog).result_value()\n",
    "result.parsed_counts"
   ]
  }
 ],
 "metadata": {
  "kernelspec": {
   "display_name": "Python 3 (ipykernel)",
   "language": "python",
   "name": "python3"
  },
  "language_info": {
   "codemirror_mode": {
    "name": "ipython",
    "version": 3
   },
   "file_extension": ".py",
   "mimetype": "text/x-python",
   "name": "python",
   "nbconvert_exporter": "python",
   "pygments_lexer": "ipython3",
   "version": "3.11.4"
  }
 },
 "nbformat": 4,
 "nbformat_minor": 9
}
