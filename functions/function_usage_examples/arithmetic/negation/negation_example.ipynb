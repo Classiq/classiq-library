{
 "cells": [
  {
   "cell_type": "markdown",
   "id": "0",
   "metadata": {},
   "source": [
    "# Negation\n",
    "\n",
    "The negation operation receives a quantum register representing some number $x$\n",
    "and returns a quantum register containing $-x$. Integer and fixed point numbers are both supported."
   ]
  },
  {
   "cell_type": "markdown",
   "id": "1",
   "metadata": {},
   "source": [
    "## Example\n",
    "\n",
    "The following example will show negation of a signed quantum variable."
   ]
  },
  {
   "cell_type": "code",
   "execution_count": 1,
   "id": "2",
   "metadata": {},
   "outputs": [],
   "source": [
    "from classiq import *\n",
    "\n",
    "\n",
    "@qfunc\n",
    "def main(a: Output[QNum], b: Output[QNum]) -> None:\n",
    "    allocate(3, SIGNED, 0, a)\n",
    "    hadamard_transform(a)\n",
    "    b |= -a\n",
    "\n",
    "\n",
    "qmod = create_model(main, out_file=\"negation_example\")"
   ]
  },
  {
   "cell_type": "code",
   "execution_count": 2,
   "id": "3",
   "metadata": {},
   "outputs": [
    {
     "data": {
      "text/plain": [
       "[{'a': 0.0, 'b': 0.0}: 143,\n",
       " {'a': -2.0, 'b': 2.0}: 136,\n",
       " {'a': -1.0, 'b': 1.0}: 130,\n",
       " {'a': 1.0, 'b': -1.0}: 122,\n",
       " {'a': 2.0, 'b': -2.0}: 121,\n",
       " {'a': 3.0, 'b': -3.0}: 120,\n",
       " {'a': -4.0, 'b': 4.0}: 114,\n",
       " {'a': -3.0, 'b': 3.0}: 114]"
      ]
     },
     "execution_count": 2,
     "metadata": {},
     "output_type": "execute_result"
    }
   ],
   "source": [
    "qprog = synthesize(qmod)\n",
    "\n",
    "result = execute(qprog).result_value()\n",
    "result.parsed_counts"
   ]
  }
 ],
 "metadata": {
  "kernelspec": {
   "display_name": "Python 3 (ipykernel)",
   "language": "python",
   "name": "python3"
  },
  "language_info": {
   "codemirror_mode": {
    "name": "ipython",
    "version": 3
   },
   "file_extension": ".py",
   "mimetype": "text/x-python",
   "name": "python",
   "nbconvert_exporter": "python",
   "pygments_lexer": "ipython3",
   "version": "3.11.4"
  }
 },
 "nbformat": 4,
 "nbformat_minor": 9
}
