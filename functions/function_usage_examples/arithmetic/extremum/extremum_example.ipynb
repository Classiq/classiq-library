{
 "cells": [
  {
   "cell_type": "markdown",
   "id": "fbe539e6-1e8a-49e9-b2b9-5e5c528364b8",
   "metadata": {},
   "source": [
    "# Minimum and Maximum\n",
    "\n",
    "The minimum and maximum operators determine the smallest and largest input, respectively.\n",
    "Both functions receive two inputs. Each may be a fixed point number or a quantum register."
   ]
  },
  {
   "cell_type": "markdown",
   "id": "286e60ea-b549-464d-a01b-85dd13b92577",
   "metadata": {},
   "source": [
    "## Examples\n",
    "\n",
    "#### Example 1: Two Quantum Variables Minimum\n",
    "\n",
    "This code example generates a quantum program that returns a minimum of two arguments.\n",
    "Both the left and right arguments are defined as quantum variables of size three."
   ]
  },
  {
   "cell_type": "code",
   "execution_count": 1,
   "id": "a7ceea4e-69b2-4f34-bfac-de55d23b9899",
   "metadata": {},
   "outputs": [],
   "source": [
    "from classiq import (\n",
    "    Output,\n",
    "    QArray,\n",
    "    QBit,\n",
    "    QNum,\n",
    "    allocate,\n",
    "    create_model,\n",
    "    hadamard_transform,\n",
    "    prepare_int,\n",
    "    qfunc,\n",
    ")\n",
    "from classiq.qmod.symbolic import min\n",
    "\n",
    "\n",
    "@qfunc\n",
    "def main(a: Output[QNum], b: Output[QNum], res: Output[QNum]) -> None:\n",
    "    prepare_int(4, a)\n",
    "    allocate(3, b)\n",
    "    hadamard_transform(b)\n",
    "\n",
    "    res |= min(a, b)\n",
    "\n",
    "\n",
    "qmod = create_model(main)"
   ]
  },
  {
   "cell_type": "code",
   "execution_count": 2,
   "id": "8ab2c7cd-fc78-47b7-ac0f-a48868fb9ebe",
   "metadata": {},
   "outputs": [
    {
     "data": {
      "text/plain": [
       "[{'a': 4.0, 'b': 6.0, 'res': 4.0}: 146,\n",
       " {'a': 4.0, 'b': 0.0, 'res': 0.0}: 142,\n",
       " {'a': 4.0, 'b': 3.0, 'res': 3.0}: 137,\n",
       " {'a': 4.0, 'b': 1.0, 'res': 1.0}: 132,\n",
       " {'a': 4.0, 'b': 7.0, 'res': 4.0}: 116,\n",
       " {'a': 4.0, 'b': 4.0, 'res': 4.0}: 113,\n",
       " {'a': 4.0, 'b': 5.0, 'res': 4.0}: 108,\n",
       " {'a': 4.0, 'b': 2.0, 'res': 2.0}: 106]"
      ]
     },
     "execution_count": 2,
     "metadata": {},
     "output_type": "execute_result"
    }
   ],
   "source": [
    "from classiq import execute, synthesize, write_qmod\n",
    "\n",
    "write_qmod(qmod, \"minimum_2vars_example\")\n",
    "qprog = synthesize(qmod)\n",
    "\n",
    "result = execute(qprog).result()[0].value\n",
    "result.parsed_counts"
   ]
  },
  {
   "cell_type": "markdown",
   "id": "4821f55d-ebfa-46fe-ba4a-353a7f853112",
   "metadata": {},
   "source": [
    "#### Example 2: Float and Quantum Variable Maximum\n",
    "\n",
    "This code example returns a quantum program with a maximum of two arguments.\n",
    "Here, the left arg is a fixed-point number $(11.1)_2$ (3.5),\n",
    "and the right arg is a quantum variable of size three."
   ]
  },
  {
   "cell_type": "code",
   "execution_count": 3,
   "id": "7efdb898-a317-43d9-8915-5f4719a93217",
   "metadata": {},
   "outputs": [],
   "source": [
    "from classiq import (\n",
    "    Output,\n",
    "    QArray,\n",
    "    QBit,\n",
    "    QNum,\n",
    "    allocate,\n",
    "    create_model,\n",
    "    hadamard_transform,\n",
    "    qfunc,\n",
    ")\n",
    "from classiq.qmod.symbolic import max\n",
    "\n",
    "\n",
    "@qfunc\n",
    "def main(a: Output[QNum], res: Output[QNum]) -> None:\n",
    "    allocate(3, a)\n",
    "    hadamard_transform(a)\n",
    "\n",
    "    res |= max(3.5, a)\n",
    "\n",
    "\n",
    "qmod = create_model(main)"
   ]
  },
  {
   "cell_type": "code",
   "execution_count": 4,
   "id": "79376eb8-baaa-4bc8-b8df-15915e20d577",
   "metadata": {},
   "outputs": [
    {
     "data": {
      "text/plain": [
       "[{'a': 3.0, 'res': 3.5}: 144,\n",
       " {'a': 5.0, 'res': 5.0}: 141,\n",
       " {'a': 2.0, 'res': 3.5}: 134,\n",
       " {'a': 4.0, 'res': 4.0}: 127,\n",
       " {'a': 7.0, 'res': 7.0}: 121,\n",
       " {'a': 6.0, 'res': 6.0}: 118,\n",
       " {'a': 1.0, 'res': 3.5}: 116,\n",
       " {'a': 0.0, 'res': 3.5}: 99]"
      ]
     },
     "execution_count": 4,
     "metadata": {},
     "output_type": "execute_result"
    }
   ],
   "source": [
    "from classiq import execute, synthesize, write_qmod\n",
    "\n",
    "write_qmod(qmod, \"maximum_float_example\")\n",
    "qprog = synthesize(qmod)\n",
    "\n",
    "result = execute(qprog).result()[0].value\n",
    "result.parsed_counts"
   ]
  }
 ],
 "metadata": {
  "kernelspec": {
   "display_name": "Python 3 (ipykernel)",
   "language": "python",
   "name": "python3"
  },
  "language_info": {
   "codemirror_mode": {
    "name": "ipython",
    "version": 3
   },
   "file_extension": ".py",
   "mimetype": "text/x-python",
   "name": "python",
   "nbconvert_exporter": "python",
   "pygments_lexer": "ipython3",
   "version": "3.11.4"
  }
 },
 "nbformat": 4,
 "nbformat_minor": 5
}
