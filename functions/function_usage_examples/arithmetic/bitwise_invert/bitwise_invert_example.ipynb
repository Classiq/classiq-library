{
 "cells": [
  {
   "cell_type": "markdown",
   "id": "0",
   "metadata": {},
   "source": [
    "# Bitwise Invert\n",
    "\n",
    "The bitwise inversion operation receives a quantum register representing some number $x$,\n",
    "and inverts its binary representation, namely, replaces $1$s by $0$s and vice versa."
   ]
  },
  {
   "cell_type": "markdown",
   "id": "1",
   "metadata": {},
   "source": [
    "## Example"
   ]
  },
  {
   "cell_type": "code",
   "execution_count": 1,
   "id": "2",
   "metadata": {},
   "outputs": [],
   "source": [
    "from classiq import *\n",
    "\n",
    "\n",
    "@qfunc\n",
    "def main(x: Output[QNum], y: Output[QNum]) -> None:\n",
    "    x |= 6\n",
    "\n",
    "    y |= ~x\n",
    "\n",
    "\n",
    "qmod = create_model(main, out_file=\"bitwise_invert_example\")"
   ]
  },
  {
   "cell_type": "code",
   "execution_count": 2,
   "id": "3",
   "metadata": {},
   "outputs": [
    {
     "name": "stdout",
     "output_type": "stream",
     "text": [
      "{('011', '100'): 1000}\n"
     ]
    }
   ],
   "source": [
    "qprog = synthesize(qmod)\n",
    "\n",
    "result = execute(qprog).result_value()\n",
    "print(result.counts_of_multiple_outputs([\"x\", \"y\"]))"
   ]
  }
 ],
 "metadata": {
  "kernelspec": {
   "display_name": "Python 3 (ipykernel)",
   "language": "python",
   "name": "python3"
  },
  "language_info": {
   "codemirror_mode": {
    "name": "ipython",
    "version": 3
   },
   "file_extension": ".py",
   "mimetype": "text/x-python",
   "name": "python",
   "nbconvert_exporter": "python",
   "pygments_lexer": "ipython3",
   "version": "3.11.4"
  }
 },
 "nbformat": 4,
 "nbformat_minor": 9
}
