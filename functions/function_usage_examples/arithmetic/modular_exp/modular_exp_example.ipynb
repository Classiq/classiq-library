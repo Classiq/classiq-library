{
 "cells": [
  {
   "cell_type": "markdown",
   "id": "f6834a62-d124-48f6-bd87-d313b7eb5054",
   "metadata": {},
   "source": [
    "# Modular Exponentiation\n",
    "\n",
    "The `modular_exp` function raises a classical integer `a` to the power of a quantum number `power` modulo classical integer `n`, times a quantum number `x`.\n",
    "\n",
    "The function performs:\n",
    "$$|x\\rangle |power\\rangle = |(a^{power} \\mod n)\\cdot x\\rangle | power\\rangle$$\n",
    "\n",
    "Specifically if at the input $x=1$, at the output $x=a^{power} \\mod n$."
   ]
  },
  {
   "cell_type": "markdown",
   "id": "b54ad820-bdd9-4fbe-bbe7-a7d6a3db046b",
   "metadata": {},
   "source": [
    "# Example\n",
    "\n",
    "This example generates a quantum program that initializes a `power` variable with a uniform superposition, and exponentiate the classical value `A` with `power` as the exponent, in superposition. The result is calculated inplace to the variable `x` module `N`.\n",
    "\n",
    "Notice that `x` should have size of at least $\\lceil(log_2(N) \\rceil$, so it is first allocated with a fixed size, then initialized with the value '1'."
   ]
  },
  {
   "cell_type": "code",
   "execution_count": 39,
   "id": "6fca39ac-e769-4d85-b9a9-0bed93d2b775",
   "metadata": {},
   "outputs": [],
   "source": [
    "import numpy as np\n",
    "\n",
    "from classiq import *\n",
    "from classiq.qmod.symbolic import ceiling, log\n",
    "\n",
    "# constants\n",
    "N = 5\n",
    "A = 4\n",
    "\n",
    "\n",
    "@qfunc\n",
    "def main(power: Output[QNum], x: Output[QNum]) -> None:\n",
    "    allocate(ceiling(log(N, 2)), x)\n",
    "    inplace_prepare_int(1, x)\n",
    "\n",
    "    # initialize a uniform superposition of powers\n",
    "    allocate(3, power)\n",
    "    hadamard_transform(power)\n",
    "\n",
    "    modular_exp(n=N, a=A, x=x, power=power)\n",
    "\n",
    "\n",
    "qmod = create_model(main)\n",
    "qmod = create_model(main, out_file=\"modular_exp_example\")\n",
    "qprog = synthesize(qmod)"
   ]
  },
  {
   "cell_type": "code",
   "execution_count": 40,
   "id": "d7931d74-f1b6-4374-832e-eee4e3e0ab4b",
   "metadata": {},
   "outputs": [
    {
     "data": {
      "text/plain": [
       "[{'power': 3, 'x': 4}: 136,\n",
       " {'power': 1, 'x': 4}: 135,\n",
       " {'power': 7, 'x': 4}: 130,\n",
       " {'power': 5, 'x': 4}: 124,\n",
       " {'power': 2, 'x': 1}: 124,\n",
       " {'power': 4, 'x': 1}: 123,\n",
       " {'power': 6, 'x': 1}: 117,\n",
       " {'power': 0, 'x': 1}: 111]"
      ]
     },
     "execution_count": 40,
     "metadata": {},
     "output_type": "execute_result"
    }
   ],
   "source": [
    "result = execute(qprog).result_value()\n",
    "result.parsed_counts"
   ]
  },
  {
   "cell_type": "markdown",
   "id": "0398be45-a152-4225-ba7b-49c1f37b197d",
   "metadata": {},
   "source": [
    "Verify all results are as expected:"
   ]
  },
  {
   "cell_type": "code",
   "execution_count": 41,
   "id": "1363a9ae-567a-4bf1-911d-f17da9d6859c",
   "metadata": {},
   "outputs": [],
   "source": [
    "assert np.all(\n",
    "    [\n",
    "        count.state[\"x\"] == (A ** count.state[\"power\"] % N)\n",
    "        for count in result.parsed_counts\n",
    "    ]\n",
    ")"
   ]
  }
 ],
 "metadata": {
  "kernelspec": {
   "display_name": "Python 3 (ipykernel)",
   "language": "python",
   "name": "python3"
  },
  "language_info": {
   "codemirror_mode": {
    "name": "ipython",
    "version": 3
   },
   "file_extension": ".py",
   "mimetype": "text/x-python",
   "name": "python",
   "nbconvert_exporter": "python",
   "pygments_lexer": "ipython3",
   "version": "3.11.4"
  }
 },
 "nbformat": 4,
 "nbformat_minor": 5
}
