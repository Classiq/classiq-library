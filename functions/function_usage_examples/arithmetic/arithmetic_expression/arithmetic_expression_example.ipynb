{
 "cells": [
  {
   "cell_type": "markdown",
   "id": "0",
   "metadata": {},
   "source": [
    "# Arithmetic Expressions\n",
    "\n",
    "Use the `Arithmetic` function to write complex mathematical expression in free format.\n",
    "The notation follows the Python language for math notation.\n",
    "\n",
    "The function first parses the expression and builds an abstract syntax tree (AST). Then, the Classiq engine finds a\n",
    "computation strategy for a specified number of qubits, and compiles the desired quantum program.\n",
    "\n",
    "As opposed to classical computers, when quantum computers evaluate arithmetic\n",
    "expression, the calculations are reversible and are applied on all quantum states in parallel.\n",
    "To do so, quantum computers store all intermediate computation results in a quantum variables.\n",
    "Qubits that are not freed cannot be used later on in the quantum program.\n",
    "\n",
    "Analogously to the classical world, there is a form of quantum \"garbage collection\",\n",
    "usually referred to as uncomputation, which returns the garbage qubits to their original state.\n",
    "The computation strategy determines the order in which qubits are released and reused.\n",
    "By employing different strategies, you can produce a variety of quantum programs with the same functionality.\n",
    "In general, longer quantum programs require less qubits than shorter ones.\n",
    "\n",
    "Supported operators:\n",
    "\n",
    "- Add: `+`\n",
    "- Subtract: `-` (two arguments)\n",
    "- Negate: `-` (a single argument)\n",
    "- Multiply: `*`\n",
    "- Bitwise Or: `|`\n",
    "- Bitwise And: `&`\n",
    "- Bitwise Xor: `^`\n",
    "- Invert: `~`\n",
    "- Equal: `==`\n",
    "- Not Equal: `!=`\n",
    "- Greater Than: `>`\n",
    "- Greater Or Equal: `>=`\n",
    "- Less Than: `<`\n",
    "- Less Or Equal: `<=`\n",
    "- Modulo: `%` limited for power of 2\n",
    "- Logical And: `and`\n",
    "- Logical Or: `or`\n",
    "- Max: `max` (n>=2 arguments)\n",
    "- Min: `min` (n>=2 arguments)\n",
    "- Power `**` (register base, positive int power)"
   ]
  },
  {
   "cell_type": "markdown",
   "id": "1",
   "metadata": {},
   "source": [
    "## Example\n",
    "\n",
    "This example generates a quantum program that calculates the expression `(a + b + c & 15) % 8 ^ 3 & a ^ 10 == 4`.\n",
    "Each of the variables `a`,`b`, and `c` is defined as a quantum varialbe with a different size."
   ]
  },
  {
   "cell_type": "code",
   "execution_count": 1,
   "id": "2",
   "metadata": {},
   "outputs": [],
   "source": [
    "from classiq import *\n",
    "\n",
    "\n",
    "@qfunc\n",
    "def main(a: Output[QNum], b: Output[QNum], c: Output[QNum], res: Output[QNum]) -> None:\n",
    "    a |= 2\n",
    "    b |= 1\n",
    "    c |= 5\n",
    "\n",
    "    res |= (a + b + c & 15) % 8 ^ 3 & a ^ 10 == 4\n",
    "\n",
    "\n",
    "qmod = create_model(main, out_file=\"arithmetic_expression_example\")"
   ]
  },
  {
   "cell_type": "code",
   "execution_count": 2,
   "id": "3",
   "metadata": {},
   "outputs": [
    {
     "data": {
      "text/plain": [
       "[{'a': 2.0, 'b': 1.0, 'c': 5.0, 'res': 0.0}: 1000]"
      ]
     },
     "execution_count": 2,
     "metadata": {},
     "output_type": "execute_result"
    }
   ],
   "source": [
    "qprog = synthesize(qmod)\n",
    "\n",
    "result = execute(qprog).result_value()\n",
    "result.parsed_counts"
   ]
  }
 ],
 "metadata": {
  "kernelspec": {
   "display_name": "Python 3 (ipykernel)",
   "language": "python",
   "name": "python3"
  },
  "language_info": {
   "codemirror_mode": {
    "name": "ipython",
    "version": 3
   },
   "file_extension": ".py",
   "mimetype": "text/x-python",
   "name": "python",
   "nbconvert_exporter": "python",
   "pygments_lexer": "ipython3",
   "version": "3.11.4"
  }
 },
 "nbformat": 4,
 "nbformat_minor": 9
}
