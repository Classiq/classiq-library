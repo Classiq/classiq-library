{
 "cells": [
  {
   "cell_type": "markdown",
   "id": "0",
   "metadata": {},
   "source": [
    "# Bitwise Or\n",
    "\n",
    "The Bitwise Or (denoted as '|') is implemented by applying the following truth table between each pair of qubits (or qubit and bit) in variables A and B.\n",
    "\n",
    "<center>\n",
    "\n",
    "|  a  |  b  | a or b |\n",
    "| :-: | :-: | :----: |\n",
    "|  0  |  0  |   0    |\n",
    "|  0  |  1  |   1    |\n",
    "|  1  |  0  |   1    |\n",
    "|  1  |  1  |   1    |\n",
    "\n",
    "</center>\n",
    "\n",
    "Note that integer and fixed-point numbers are represented in a two-complement method during function evaluation.\n",
    "The binary number is extended in the case of a variable size mismatch.\n",
    "\n",
    "For example, the positive signed number $(110)_2=6$ is expressed as $(00110)_2$ when operating with a five-qubit variable.\n",
    "Similarly, the negative signed number $(110)_2=-2$ is expressed as $(11110)_2$.\n",
    "\n",
    "Examples:\n",
    "\n",
    "5 | 3 = 7 since 101 | 011 = 111\n",
    "\n",
    "5 | -3 = -3 since 0101 | 1101 = 1101\n",
    "\n",
    "-5 | -3 = -1 since 1011 | 1101 = 1111"
   ]
  },
  {
   "cell_type": "markdown",
   "id": "1",
   "metadata": {},
   "source": [
    "## Examples\n",
    "\n",
    "#### Example 1: Two Quantum Variables\n",
    "\n",
    "This example generates a quantum program that performs bitwise 'or' between two variables.\n",
    "The left arg is a signed with five qubits and the right arg is unsigned with three qubits."
   ]
  },
  {
   "cell_type": "code",
   "execution_count": 1,
   "id": "2",
   "metadata": {},
   "outputs": [],
   "source": [
    "from classiq import *\n",
    "\n",
    "\n",
    "@qfunc\n",
    "def main(a: Output[QNum], b: Output[QNum], res: Output[QNum]) -> None:\n",
    "    allocate(5, True, 0, a)\n",
    "    allocate(3, False, 0, b)\n",
    "    a ^= 4\n",
    "    b ^= 5\n",
    "    res |= a | b\n",
    "\n",
    "\n",
    "qmod = create_model(main, out_file=\"bitwise_or_2vars_example\")"
   ]
  },
  {
   "cell_type": "code",
   "execution_count": 2,
   "id": "3",
   "metadata": {},
   "outputs": [
    {
     "name": "stdout",
     "output_type": "stream",
     "text": [
      "[{'a': 4.0, 'b': 5.0, 'res': 5.0}: 1000]\n",
      "{('00100', '101', '10100'): 1000}\n"
     ]
    }
   ],
   "source": [
    "qprog = synthesize(qmod)\n",
    "\n",
    "result = execute(qprog).result_value()\n",
    "print(result.parsed_counts)\n",
    "print(result.counts_of_multiple_outputs([\"a\", \"b\", \"res\"]))"
   ]
  },
  {
   "cell_type": "markdown",
   "id": "4",
   "metadata": {},
   "source": [
    "#### Example 2: Integer and Quantum Variable\n",
    "\n",
    "This example generates a quantum program that performs a bitwise 'or' between a quantum variable and an integer.\n",
    "The left arg is an integer equal to three\n",
    "and the right arg is an unsigned quantum variable with three qubits."
   ]
  },
  {
   "cell_type": "code",
   "execution_count": 3,
   "id": "5",
   "metadata": {},
   "outputs": [],
   "source": [
    "@qfunc\n",
    "def main(a: Output[QNum], res: Output[QNum]) -> None:\n",
    "    a |= 4\n",
    "    res |= 3 | a\n",
    "\n",
    "\n",
    "qmod = create_model(main, out_file=\"bitwise_or_integer_example\")"
   ]
  },
  {
   "cell_type": "code",
   "execution_count": 4,
   "id": "6",
   "metadata": {},
   "outputs": [
    {
     "data": {
      "text/plain": [
       "[{'a': 4.0, 'res': 7.0}: 1000]"
      ]
     },
     "execution_count": 4,
     "metadata": {},
     "output_type": "execute_result"
    }
   ],
   "source": [
    "qprog = synthesize(qmod)\n",
    "\n",
    "result = execute(qprog).result_value()\n",
    "result.parsed_counts"
   ]
  }
 ],
 "metadata": {
  "kernelspec": {
   "display_name": "Python 3 (ipykernel)",
   "language": "python",
   "name": "python3"
  },
  "language_info": {
   "codemirror_mode": {
    "name": "ipython",
    "version": 3
   },
   "file_extension": ".py",
   "mimetype": "text/x-python",
   "name": "python",
   "nbconvert_exporter": "python",
   "pygments_lexer": "ipython3",
   "version": "3.11.9"
  }
 },
 "nbformat": 4,
 "nbformat_minor": 9
}
