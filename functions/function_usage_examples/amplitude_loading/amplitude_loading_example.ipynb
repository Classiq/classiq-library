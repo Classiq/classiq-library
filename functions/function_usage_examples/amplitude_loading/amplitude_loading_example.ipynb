{
 "cells": [
  {
   "cell_type": "markdown",
   "id": "82b4c2f7-3bb7-45ed-ad51-22640ef86236",
   "metadata": {},
   "source": [
    "# Amplitude Loading\n",
    "\n",
    "The amplitude loading function performs the following operation:\n",
    "\n",
    "$|d\\rangle |0\\rangle \\rightarrow \\sqrt{1-f^2(d)}|d\\rangle |0\\rangle +\n",
    "f(d)|d\\rangle |1\\rangle$\n",
    "\n",
    "for any input, $|d\\rangle$, and function $f(d)$.\n",
    "\n",
    "The function $f(d)$ is expected to be real and include only a single variable.\n",
    "Its domain is [0, 1] and its range is contained in [-1, 1].\n",
    "For multi-argument or complex functions, an exception is raised.\n",
    "If, for some input, the function value exceeds the [-1, 1] range,\n",
    "the value is trimmed accordingly.\n",
    "\n",
    "The function is implemented using repeated multiple controlled RY rotations\n",
    "where $|d\\rangle$ is the control register and $|0\\rangle$ is the target qubit.\n",
    "\n",
    "Poles of the expression are automatically ignored (set to 0). For example, for the `1/x` function,\n",
    "the zero input state is ignored, as it is undefined.\n",
    "\n",
    "The function is invoked using the `*=` expression, where the left side is the indicator qubit, and the right side is an expression of the input quantum state."
   ]
  },
  {
   "cell_type": "markdown",
   "id": "ff1f8538-2ac0-40f0-9d72-832bad60646d",
   "metadata": {},
   "source": [
    "# Example\n",
    "\n",
    "The following code loads the function $x^2$ into the amplitude of a quantum state, using $|x\\rangle$ of size 4 and a single indicator qubit."
   ]
  },
  {
   "cell_type": "code",
   "execution_count": 1,
   "id": "110fe261-2023-4739-b7d0-7ee569ba7f6b",
   "metadata": {},
   "outputs": [],
   "source": [
    "from classiq import (\n",
    "    Output,\n",
    "    QArray,\n",
    "    QBit,\n",
    "    QNum,\n",
    "    allocate,\n",
    "    allocate_num,\n",
    "    create_model,\n",
    "    qfunc,\n",
    ")\n",
    "\n",
    "VAR_SIZE = 4\n",
    "\n",
    "\n",
    "@qfunc\n",
    "def main(x: Output[QNum], ind: Output[QNum]) -> None:\n",
    "    allocate_num(VAR_SIZE, False, VAR_SIZE, x)\n",
    "    allocate(1, ind)\n",
    "\n",
    "    ind *= x**2\n",
    "\n",
    "\n",
    "qmod = create_model(main)"
   ]
  },
  {
   "cell_type": "code",
   "execution_count": 2,
   "id": "aaffdc84-c24d-4329-9499-7656aed196f7",
   "metadata": {},
   "outputs": [],
   "source": [
    "from classiq import synthesize, write_qmod\n",
    "\n",
    "write_qmod(qmod, \"amplitude_loading_example\")\n",
    "qprog = synthesize(qmod)"
   ]
  }
 ],
 "metadata": {
  "kernelspec": {
   "display_name": "Python 3 (ipykernel)",
   "language": "python",
   "name": "python3"
  },
  "language_info": {
   "codemirror_mode": {
    "name": "ipython",
    "version": 3
   },
   "file_extension": ".py",
   "mimetype": "text/x-python",
   "name": "python",
   "nbconvert_exporter": "python",
   "pygments_lexer": "ipython3",
   "version": "3.11.4"
  }
 },
 "nbformat": 4,
 "nbformat_minor": 5
}
