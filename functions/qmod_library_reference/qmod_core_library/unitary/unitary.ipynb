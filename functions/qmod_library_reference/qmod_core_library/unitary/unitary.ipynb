{
 "cells": [
  {
   "attachments": {},
   "cell_type": "markdown",
   "id": "0",
   "metadata": {},
   "source": [
    "# Unitary Function\n",
    "\n",
    "Given a $2^{n}\\times2^{n}$ unitary matrix, the unitary-gate function constructs an\n",
    "equivalent unitary function that acts on $n$ qubits accordingly. For $n>2$, the\n",
    "synthesis process implementation is based on [[1]](#1).\n",
    "\n",
    "\n",
    "Function: `unitary`\n",
    "\n",
    "Arguments:\n",
    "\n",
    "- `elements: CArray[CArray[CReal]]` - A 2d array of complex numbers representing the unitary matrix. \n",
    "- `target: QArray[QBit]` - The quantum state to apply the unitary on. Should be of corresponding size."
   ]
  },
  {
   "cell_type": "markdown",
   "id": "1",
   "metadata": {},
   "source": [
    "## Example\n",
    "\n",
    "This example shows a $2$-qubit unitary function application in the formed $4$-dimensional space."
   ]
  },
  {
   "cell_type": "code",
   "execution_count": 1,
   "id": "2",
   "metadata": {},
   "outputs": [],
   "source": [
    "from classiq import *\n",
    "\n",
    "UNITARY = [[1, 0, 0, 0], [0, 1, 0, 0], [0, 0, -1j, 0], [0, 0, 0, 1j]]\n",
    "\n",
    "\n",
    "@qfunc\n",
    "def main(x: Output[QArray[QBit]]):\n",
    "    allocate(2, x)\n",
    "    unitary(UNITARY, x)\n",
    "\n",
    "\n",
    "qmod = create_model(main, out_file=\"unitary\")"
   ]
  },
  {
   "cell_type": "code",
   "execution_count": 2,
   "id": "3",
   "metadata": {
    "scrolled": true
   },
   "outputs": [],
   "source": [
    "qprog = synthesize(qmod)"
   ]
  },
  {
   "cell_type": "markdown",
   "id": "4",
   "metadata": {},
   "source": [
    "## References\n",
    "\n",
    "<a name=\"1\">[1]</a> R. Iten et al, Quantum Circuits for Isometries, Phys. Rev. A 93 (2016). https://link.aps.org/doi/10.1103/PhysRevA.93.032318"
   ]
  }
 ],
 "metadata": {
  "kernelspec": {
   "display_name": "Python 3 (ipykernel)",
   "language": "python",
   "name": "python3"
  },
  "language_info": {
   "codemirror_mode": {
    "name": "ipython",
    "version": 3
   },
   "file_extension": ".py",
   "mimetype": "text/x-python",
   "name": "python",
   "nbconvert_exporter": "python",
   "pygments_lexer": "ipython3",
   "version": "3.11.9"
  }
 },
 "nbformat": 4,
 "nbformat_minor": 9
}
