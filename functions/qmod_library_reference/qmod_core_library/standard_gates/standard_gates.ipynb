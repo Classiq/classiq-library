{
 "cells": [
  {
   "cell_type": "markdown",
   "id": "0",
   "metadata": {},
   "source": [
    "# Standard Gates\n",
    "\n",
    "The Classiq platform provides many standard gates.\n",
    "Some key standard gates are shown here in detail. <br />\n",
    "All gates are covered in the [reference manual](https://docs.classiq.io/latest/sdk-reference/#classiq.interface.generator.standard_gates)."
   ]
  },
  {
   "cell_type": "code",
   "execution_count": 1,
   "id": "1",
   "metadata": {},
   "outputs": [],
   "source": [
    "from classiq import *"
   ]
  },
  {
   "cell_type": "markdown",
   "id": "2",
   "metadata": {},
   "source": [
    "## Single Qubit Gates\n",
    "\n",
    "An example is given for $X$ gate. The gates $I$, $X$, $Y$, $Z$, $H$, $T$ are used in the same way."
   ]
  },
  {
   "cell_type": "markdown",
   "id": "3",
   "metadata": {},
   "source": [
    "### For example: X\n",
    "Function: `X`\n",
    "\n",
    "Arguments:\n",
    "\n",
    "- `target`: `QBit`"
   ]
  },
  {
   "cell_type": "code",
   "execution_count": 2,
   "id": "4",
   "metadata": {},
   "outputs": [],
   "source": [
    "@qfunc\n",
    "def main():\n",
    "    q = QBit()\n",
    "    allocate(q)\n",
    "\n",
    "    X(q)\n",
    "\n",
    "\n",
    "qmod = create_model(main, out_file=\"X\")\n",
    "qprog = synthesize(qmod)"
   ]
  },
  {
   "cell_type": "markdown",
   "id": "5",
   "metadata": {},
   "source": [
    "## Single Qubit Rotation Gates\n",
    "\n",
    "An example is given for $RZ$ gate. The gates $RX$, $RY$, $RZ$ are used in the same way except for parameter name.\n",
    "\n",
    "#### Parameter names for different rotation gates\n",
    "\n",
    "- `RX`: `theta`\n",
    "- `RY`: `theta`\n",
    "- `RZ`: `phi`"
   ]
  },
  {
   "cell_type": "markdown",
   "id": "6",
   "metadata": {},
   "source": [
    "### For example: RZ\n",
    "\n",
    "$$\n",
    "\\begin{split}RZ(\\theta) = \\begin{pmatrix}\n",
    "{e^{-i\\frac{\\theta}{2}}} & 0 \\\\\n",
    "0 & {e^{i\\frac{\\theta}{2}}} \\\\\n",
    "\\end{pmatrix}\\end{split}\n",
    "$$\n",
    "\n",
    "Function: `RZ`\n",
    "\n",
    "Arguments:\n",
    "\n",
    "- `theta`: `CReal`\n",
    "- `target`: `QBit`"
   ]
  },
  {
   "cell_type": "code",
   "execution_count": 3,
   "id": "7",
   "metadata": {},
   "outputs": [],
   "source": [
    "@qfunc\n",
    "def main():\n",
    "    q = QBit()\n",
    "    allocate(q)\n",
    "\n",
    "    theta = 1.9\n",
    "    RZ(theta, q)\n",
    "\n",
    "\n",
    "qmod = create_model(main, out_file=\"RZ\")\n",
    "qprog = synthesize(qmod)"
   ]
  },
  {
   "cell_type": "markdown",
   "id": "8",
   "metadata": {},
   "source": [
    "### R Gate\n",
    "\n",
    "Rotation by $\\theta$ around the $cos(\\phi)X + sin(\\phi)Y$ axis.\n",
    "\n",
    "$$\n",
    "\\begin{split}R(\\theta, \\phi) = \\begin{pmatrix}\n",
    "cos(\\frac{\\theta}{2}) & -ie^{-i\\phi}sin(\\frac{\\theta}{2}) \\\\\n",
    "-ie^{i\\phi}sin(\\frac{\\theta}{2}) & cos(\\frac{\\theta}{2}) \\\\\n",
    "\\end{pmatrix}\\end{split}\n",
    "$$\n",
    "\n",
    "Parameters:\n",
    "\n",
    "- `theta`: `CReal`\n",
    "- `phi`: `CReal`\n",
    "- `target`: `QBit`"
   ]
  },
  {
   "cell_type": "code",
   "execution_count": 4,
   "id": "9",
   "metadata": {},
   "outputs": [],
   "source": [
    "@qfunc\n",
    "def main():\n",
    "    q = QBit()\n",
    "    allocate(q)\n",
    "\n",
    "    theta = 1\n",
    "    phi = 2\n",
    "    R(theta, phi, q)\n",
    "\n",
    "\n",
    "qmod = create_model(main, out_file=\"R\")\n",
    "qprog = synthesize(qmod)"
   ]
  },
  {
   "cell_type": "markdown",
   "id": "10",
   "metadata": {},
   "source": [
    "### Phase Gate\n",
    "\n",
    "Rotation about the Z axis by $\\lambda$ with global phase of $\\frac{\\lambda}{2}$.\n",
    "\n",
    "$$\n",
    "\\begin{split}PHASE(\\lambda) = \\begin{pmatrix} 1 & 0 \\\\ 0 & e^{i\\lambda} \\end{pmatrix}\\end{split}\n",
    "$$\n",
    "\n",
    "Parameters:\n",
    "\n",
    "- `theta`: `CReal`\n",
    "- `target`: `QBit`"
   ]
  },
  {
   "cell_type": "code",
   "execution_count": 5,
   "id": "11",
   "metadata": {},
   "outputs": [],
   "source": [
    "@qfunc\n",
    "def main():\n",
    "    q = QBit()\n",
    "    allocate(q)\n",
    "\n",
    "    theta = 1\n",
    "    PHASE(theta, q)\n",
    "\n",
    "\n",
    "qmod = create_model(main, out_file=\"PHASE\")\n",
    "qprog = synthesize(qmod)"
   ]
  },
  {
   "cell_type": "markdown",
   "id": "12",
   "metadata": {},
   "source": [
    "## Double Qubits Rotation Gates\n",
    "\n",
    "An example is given for $RZZ$ gate. The gates $RXX$, $RYY$, $RZZ$ are used in the same way.\n",
    "\n",
    "### RZZ Gate\n",
    "\n",
    "Rotation about ZZ.\n",
    "\n",
    "$$\n",
    "\\begin{split}RZZ(\\theta) = \\begin{pmatrix}\n",
    "{e^{-i\\frac{\\theta}{2}}} & 0 & 0 & 0 \\\\\n",
    "0 & {e^{i\\frac{\\theta}{2}}} & 0 & 0 \\\\\n",
    "0 & 0 & {e^{i\\frac{\\theta}{2}}} & 0 \\\\\n",
    "0 & 0 & 0 & {e^{-i\\frac{\\theta}{2}}} \\\\\n",
    "\\end{pmatrix}\\end{split}\n",
    "$$\n",
    "\n",
    "\n",
    "Parameters:\n",
    "\n",
    "- `theta`: `CReal`\n",
    "- `target`: `QArray[QBit]`"
   ]
  },
  {
   "cell_type": "code",
   "execution_count": 6,
   "id": "13",
   "metadata": {},
   "outputs": [],
   "source": [
    "@qfunc\n",
    "def main():\n",
    "    q = QArray()\n",
    "    allocate(2, q)\n",
    "\n",
    "    theta = 1\n",
    "    RZZ(theta, q)\n",
    "\n",
    "\n",
    "qmod = create_model(main, out_file=\"RZZ\")\n",
    "qprog = synthesize(qmod)"
   ]
  },
  {
   "cell_type": "markdown",
   "id": "14",
   "metadata": {},
   "source": [
    "## Controlled Gates\n",
    "\n",
    "An example is given for $CX$ gate. The gates $CX$, $CY$, $CZ$, $CH$, $CSX$, $CCX$ are used in a similar way.\n",
    "\n",
    "In $CCX$ Gate the `ctrl_state` parameter receives a value suitable for 2 control qubits. for example: `\"01\"`.\n",
    "\n",
    "### CX Gate\n",
    "\n",
    "The Controlled $X$ gate.\n",
    "\n",
    "Applies $X$ Gate on the target qubit, based on the state of the control qubit\n",
    "(by default if the controlled state is $|1\\rangle$).\n",
    "\n",
    "$$\n",
    "\\begin{split}CX = \\begin{pmatrix}\n",
    "1 & 0 & 0 & 0 \\\\\n",
    "0 & 1 & 0 & 0 \\\\\n",
    "0 & 0 & 0 & 1 \\\\\n",
    "0 & 0 & 1 & 0 \\\\\n",
    "\\end{pmatrix}\\end{split}\n",
    "$$\n",
    "\n",
    "\n",
    "Parameters:\n",
    "\n",
    "- `control`: `QBit`\n",
    "- `target`: `QBit`"
   ]
  },
  {
   "cell_type": "code",
   "execution_count": 7,
   "id": "15",
   "metadata": {},
   "outputs": [],
   "source": [
    "@qfunc\n",
    "def main():\n",
    "    q_target = QBit()\n",
    "    allocate(q_target)\n",
    "\n",
    "    q_control = QBit()\n",
    "    allocate(q_control)\n",
    "\n",
    "    CX(q_control, q_target)\n",
    "\n",
    "\n",
    "qmod = create_model(main, out_file=\"CX\")\n",
    "qprog = synthesize(qmod)"
   ]
  },
  {
   "cell_type": "markdown",
   "id": "16",
   "metadata": {},
   "source": [
    "## Controlled Rotations\n",
    "\n",
    "An example is given for $CRX$ gate. The gates $CRX$, $CRY$, $CRZ$, CPhase are used in the same way.\n",
    "\n",
    "### CRX Gate\n",
    "\n",
    "Controlled rotation around the X axis.\n",
    "\n",
    "$$\n",
    "\\begin{split}CRX(\\theta) = \\begin{pmatrix}\n",
    "1 & 0 & 0 & 0 \\\\\n",
    "0 & 1 & 0 & 0 \\\\\n",
    "0 & 0 & \\cos(\\frac{\\theta}{2}) & -i\\sin(\\frac{\\theta}{2}) \\\\\n",
    "0 & 0 & -i\\sin(\\frac{\\theta}{2}) & \\cos(\\frac{\\theta}{2}) \\\\\n",
    "\\end{pmatrix}\\end{split}\n",
    "$$\n",
    "\n",
    "Parameters:\n",
    "\n",
    "- `theta`: `CReal`\n",
    "- `control`: `QBit`\n",
    "- `target`: `QBit`"
   ]
  },
  {
   "cell_type": "code",
   "execution_count": 8,
   "id": "17",
   "metadata": {},
   "outputs": [],
   "source": [
    "@qfunc\n",
    "def main():\n",
    "    q_target = QBit()\n",
    "    allocate(q_target)\n",
    "\n",
    "    q_control = QBit()\n",
    "    allocate(q_control)\n",
    "\n",
    "    theta = 1\n",
    "    CRX(theta, q_control, q_target)\n",
    "\n",
    "\n",
    "qmod = create_model(main, out_file=\"CRX\")\n",
    "qprog = synthesize(qmod)"
   ]
  },
  {
   "cell_type": "markdown",
   "id": "18",
   "metadata": {},
   "source": [
    "## Swap Gate\n",
    "\n",
    "Swaps between two qubit states.\n",
    "\n",
    "$$\n",
    "\\begin{split}SWAP = \\begin{pmatrix}\n",
    "1 & 0 & 0 & 0 \\\\\n",
    "0 & 0 & 1 & 0 \\\\\n",
    "0 & 1 & 0 & 0 \\\\\n",
    "0 & 0 & 0 & 1 \\\\\n",
    "\\end{pmatrix}\\end{split}\n",
    "$$\n",
    "\n",
    "Parameters:\n",
    "\n",
    "- `qbit0`: `QBit`\n",
    "- `qbit1`: `QBit`"
   ]
  },
  {
   "cell_type": "code",
   "execution_count": 9,
   "id": "19",
   "metadata": {},
   "outputs": [],
   "source": [
    "@qfunc\n",
    "def main():\n",
    "    q1 = QBit()\n",
    "    allocate(q1)\n",
    "\n",
    "    q2 = QBit()\n",
    "    allocate(q2)\n",
    "\n",
    "    SWAP(q1, q2)\n",
    "\n",
    "\n",
    "qmod = create_model(main, out_file=\"SWAP\")\n",
    "qprog = synthesize(qmod)"
   ]
  },
  {
   "cell_type": "markdown",
   "id": "20",
   "metadata": {},
   "source": [
    "## U Gate\n",
    "\n",
    "The single-qubit gate applies phase and rotation with three Euler angles.\n",
    "\n",
    "Matrix representation:\n",
    "\n",
    "$$\n",
    "U(\\gamma,\\phi,\\theta,\\lambda) = e^{i\\gamma}\\begin{pmatrix}\n",
    "\\cos(\\frac{\\theta}{2}) & -e^{i\\lambda}\\sin(\\frac{\\theta}{2}) \\\\\n",
    "e^{i\\phi}\\sin(\\frac{\\theta}{2}) & e^{i(\\phi+\\lambda)}\\cos(\\frac{\\theta}{2}) \\\\\n",
    "\\end{pmatrix}\n",
    "$$\n",
    "\n",
    "Parameters:\n",
    "\n",
    "- `theta`: `CReal`\n",
    "- `phi`: `CReal`\n",
    "- `lam`: `CReal`\n",
    "- `gam`: `CReal`\n",
    "- `target`: `QBit`"
   ]
  },
  {
   "cell_type": "code",
   "execution_count": 10,
   "id": "21",
   "metadata": {},
   "outputs": [],
   "source": [
    "@qfunc\n",
    "def main():\n",
    "    q = QBit()\n",
    "    allocate(q)\n",
    "\n",
    "    theta = 1\n",
    "    phi = 2\n",
    "    lam = 1.5\n",
    "    gam = 1.1\n",
    "    U(theta, phi, lam, gam, q)\n",
    "\n",
    "\n",
    "qmod = create_model(main, out_file=\"U\")\n",
    "qprog = synthesize(qmod)"
   ]
  }
 ],
 "metadata": {
  "kernelspec": {
   "display_name": "Python 3 (ipykernel)",
   "language": "python",
   "name": "python3"
  },
  "language_info": {
   "codemirror_mode": {
    "name": "ipython",
    "version": 3
   },
   "file_extension": ".py",
   "mimetype": "text/x-python",
   "name": "python",
   "nbconvert_exporter": "python",
   "pygments_lexer": "ipython3",
   "version": "3.11.4"
  }
 },
 "nbformat": 4,
 "nbformat_minor": 9
}
