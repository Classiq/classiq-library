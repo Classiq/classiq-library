{
 "cells": [
  {
   "cell_type": "markdown",
   "id": "0",
   "metadata": {},
   "source": [
    "# State Preparation\n",
    "\n",
    "Most quantum applications start with preparing a state in a quantum register.\n",
    "For example, in finance the state may represent the price distribution of some assets.\n",
    "In chemistry, it may be an initial guess for the ground state of a molecule, and in\n",
    "a quantum machine learning, a feature vector to analyze.\n",
    "\n",
    "The state preparation functions creates a quantum program that\n",
    "outputs either a probability distribution $p_{i}$ or a real amplitudes\n",
    "vector $a_{i}$ in the computational basis, with $i$ denoting the corresponding\n",
    "basis state. The amplitudes take the form of list of float numbers.\n",
    "The probabilities are a list of positive numbers. This is the resulting wave function for probability:\n",
    "\n",
    "$$\n",
    "\\left|\\psi\\right\\rangle = \\sum_{i}\\sqrt{p_{i}}\n",
    "\\left|i\\right\\rangle,\n",
    "$$\n",
    "\n",
    "and this is for amplitude:\n",
    "\n",
    "$$\n",
    "\\left|\\psi\\right\\rangle = \\sum_{i}a_{i}\n",
    "\\left|i\\right\\rangle.\n",
    "$$\n",
    "\n",
    "In general, state preparation is hard. Only a very small portion\n",
    "of the Hilbert space can be prepared efficiently (in $O(poly(n))$\n",
    "steps) on a quantum program. Therefore, in practice, an approximation\n",
    "is often used to lower the complexity. The approximation is specified\n",
    "by an error bound, using the [$L_2$ norm](https://en.wikipedia.org/wiki/Lp_space).\n",
    "\n",
    "The higher the specified error tolerance, the smaller the output\n",
    "quantum program. For exact state preparation, specify an error bound of $0$.\n",
    "\n",
    "The state preparation algorithm can be tuned depending on whether the\n",
    "probability distribution is sparse or dense. The synthesis engine will\n",
    "automatically select the parameterization based on the given constraints and\n",
    "optimization level."
   ]
  },
  {
   "cell_type": "markdown",
   "id": "1",
   "metadata": {
    "jp-MarkdownHeadingCollapsed": true
   },
   "source": [
    "Function: `prepare_state`\n",
    "\n",
    "Parameters:\n",
    "\n",
    "- `probabilities: CArray[CReal]` - Probabilities to load. Should be non-negative and sum to 1.\n",
    "- `bound: CReal` - Approximation Error Bound, in the $L_2$ metric (with respect to the given probabilies vector).\n",
    "- `out: Output[QArray[QBit]]`\n",
    "\n",
    "\n",
    "\n",
    "Function: `inplace_prepare_state`\n",
    "\n",
    "Parameters:\n",
    "\n",
    "- `probabilities: CArray[CReal]`\n",
    "- `bound: CReal`\n",
    "- `out: QArray[QBit]` - Should of size exactly $\\log_2$(``probabilities.len`)\n",
    "\n",
    "The `inplace_prepare_state` works the same, but for a given allocated `QArray`."
   ]
  },
  {
   "cell_type": "markdown",
   "id": "2",
   "metadata": {
    "jp-MarkdownHeadingCollapsed": true
   },
   "source": [
    "Function: `prepare_amplitudes`\n",
    "\n",
    "Parameters:\n",
    "\n",
    "- `amplitudes: CArray[CReal]` - Amplitudes of the loaded state. Each should be real and the vector norm should be equal to 1.\n",
    "- `bound: CReal` - Approximation Error Bound, in the $L_2$ metric (with respect to the given amplitudes vector).\n",
    "- `out: Output[QArray[QBit]]`\n",
    "\n",
    "\n",
    "\n",
    "Function: `inplace_prepare_amplitudes`\n",
    "\n",
    "Parameters:\n",
    "\n",
    "- `amplitudes: CArray[CReal]` - Amplitudes of the loaded state. Each should be real and the vector norm should be equal to 1.\n",
    "- `bound: CReal` - Approximation Error Bound, in the $L_2$ metric (with respect to the given amplitudes vector).\n",
    "- `out: QArray[QBit]` - Should of size exactly $\\log_2$(`amplitudes.len`)\n",
    "\n",
    "The `inplace_prepare_amplitudes` works the same, but for a given allocated `QArray`."
   ]
  },
  {
   "cell_type": "markdown",
   "id": "3",
   "metadata": {},
   "source": [
    "## Example 1: Loading Point Mass (PMF) Function\n",
    "\n",
    "This example generates a quantum program whose output state probabilities are an approximation to the PMF given.\n",
    "That is, the probability of measuring the state $|000⟩$ is $0.05$, $|001⟩$ is $0.11$,...\n",
    ", and the probability to measure $|111⟩$ is $0.06$."
   ]
  },
  {
   "cell_type": "code",
   "execution_count": 2,
   "id": "4",
   "metadata": {},
   "outputs": [],
   "source": [
    "from classiq import *\n",
    "\n",
    "\n",
    "@qfunc\n",
    "def main(x: Output[QNum]):\n",
    "    probabilities = [0.05, 0.11, 0.13, 0.23, 0.27, 0.12, 0.03, 0.06]\n",
    "    prepare_state(probabilities=probabilities, bound=0.01, out=x)\n",
    "\n",
    "\n",
    "qmod = create_model(main, out_file=\"example_prepare_state\")"
   ]
  },
  {
   "cell_type": "code",
   "execution_count": 3,
   "id": "5",
   "metadata": {},
   "outputs": [],
   "source": [
    "qprog = synthesize(qmod)"
   ]
  },
  {
   "cell_type": "markdown",
   "id": "6",
   "metadata": {
    "jp-MarkdownHeadingCollapsed": true
   },
   "source": [
    "Print the resulting probabilities:"
   ]
  },
  {
   "cell_type": "code",
   "execution_count": 5,
   "id": "7",
   "metadata": {},
   "outputs": [
    {
     "name": "stdout",
     "output_type": "stream",
     "text": [
      "Resulting probabilities: [0.032 0.118 0.141 0.217 0.282 0.107 0.031 0.072]\n"
     ]
    }
   ],
   "source": [
    "import numpy as np\n",
    "\n",
    "result = execute(qprog).result_value()\n",
    "\n",
    "probs = np.zeros(8)\n",
    "for sample in result.parsed_counts:\n",
    "    probs[int(sample.state[\"x\"])] = sample.shots / result.num_shots\n",
    "print(\"Resulting probabilities:\", probs)"
   ]
  },
  {
   "cell_type": "markdown",
   "id": "8",
   "metadata": {},
   "source": [
    "## Example 2 - Preparating Amplitudes\n",
    "\n",
    "This example loads a normalized linear space between -1 to 1. The load\n",
    "state has an accuracy of 99 present under the L2 norm."
   ]
  },
  {
   "cell_type": "code",
   "execution_count": 6,
   "id": "9",
   "metadata": {},
   "outputs": [],
   "source": [
    "from classiq.execution import ClassiqBackendPreferences, ExecutionPreferences\n",
    "\n",
    "\n",
    "@qfunc\n",
    "def main(x: Output[QNum]):\n",
    "    amps = np.linspace(-1, 1, 8)\n",
    "    amps = amps / np.linalg.norm(amps)\n",
    "    prepare_amplitudes(amplitudes=amps.tolist(), bound=0, out=x)\n",
    "\n",
    "\n",
    "qmod = create_model(main)\n",
    "qmod = set_execution_preferences(\n",
    "    qmod,\n",
    "    num_shots=1,\n",
    "    backend_preferences=ClassiqBackendPreferences(backend_name=\"simulator_statevector\"),\n",
    ")\n",
    "write_qmod(qmod, \"example_prepare_amplitudes\", decimal_precision=15)"
   ]
  },
  {
   "cell_type": "code",
   "execution_count": 7,
   "id": "10",
   "metadata": {},
   "outputs": [],
   "source": [
    "qprog = synthesize(qmod)"
   ]
  },
  {
   "cell_type": "markdown",
   "id": "11",
   "metadata": {
    "jp-MarkdownHeadingCollapsed": true
   },
   "source": [
    "Print the resulting amplitudes:"
   ]
  },
  {
   "cell_type": "code",
   "execution_count": 8,
   "id": "12",
   "metadata": {},
   "outputs": [
    {
     "name": "stdout",
     "output_type": "stream",
     "text": [
      "Resulting amplitudes: [ 0.54006172  0.38575837  0.23145502  0.07715167 -0.07715167 -0.23145502\n",
      " -0.38575837 -0.54006172]\n"
     ]
    }
   ],
   "source": [
    "import numpy as np\n",
    "\n",
    "result = execute(qprog).result_value()\n",
    "\n",
    "amps = np.zeros(8, dtype=complex)\n",
    "for sample in result.parsed_state_vector:\n",
    "    amps[int(sample.state[\"x\"])] = sample.amplitude\n",
    "\n",
    "# remove global phase\n",
    "global_phase = np.angle(amps[0])\n",
    "amps = np.real(amps / np.exp(1j * global_phase))\n",
    "\n",
    "print(\"Resulting amplitudes:\", amps)"
   ]
  }
 ],
 "metadata": {
  "kernelspec": {
   "display_name": "Python 3 (ipykernel)",
   "language": "python",
   "name": "python3"
  },
  "language_info": {
   "codemirror_mode": {
    "name": "ipython",
    "version": 3
   },
   "file_extension": ".py",
   "mimetype": "text/x-python",
   "name": "python",
   "nbconvert_exporter": "python",
   "pygments_lexer": "ipython3",
   "version": "3.11.4"
  }
 },
 "nbformat": 4,
 "nbformat_minor": 9
}
