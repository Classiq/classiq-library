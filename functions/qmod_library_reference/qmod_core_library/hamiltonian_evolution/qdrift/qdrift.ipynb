{
 "cells": [
  {
   "cell_type": "markdown",
   "id": "0",
   "metadata": {},
   "source": [
    "# qDrift\n",
    "\n",
    "The `qdrift` function implements the qDrift Trotter evolution of Ref.[ [1] ](#qDrift).\n",
    "\n",
    "\n",
    "Function: `qdrift`\n",
    "\n",
    "Arguments:\n",
    "\n",
    "* `pauli_operator`: `CArray[PauliTerm]`,\n",
    "* `evolution_coefficient`: `CReal`,\n",
    "* `num_qdrift`: `CInt`,\n",
    "*  `qbv`: `QArray[QBit]`,"
   ]
  },
  {
   "cell_type": "markdown",
   "id": "1",
   "metadata": {},
   "source": [
    "## Example"
   ]
  },
  {
   "cell_type": "code",
   "execution_count": 1,
   "id": "2",
   "metadata": {},
   "outputs": [],
   "source": [
    "from classiq import *\n",
    "\n",
    "\n",
    "@qfunc\n",
    "def main(qba: Output[QArray[QBit]]):\n",
    "    allocate(2, qba)\n",
    "    qdrift(\n",
    "        [\n",
    "            PauliTerm(pauli=[Pauli.X, Pauli.Y], coefficient=1.0),\n",
    "            PauliTerm(pauli=[Pauli.Z, Pauli.I], coefficient=0.5),\n",
    "        ],\n",
    "        evolution_coefficient=2.0,\n",
    "        num_qdrift=5,\n",
    "        qbv=qba,\n",
    "    )\n",
    "\n",
    "\n",
    "qmod = create_model(main, out_file=\"qdrift\")\n",
    "qprog = synthesize(qmod)"
   ]
  },
  {
   "cell_type": "markdown",
   "id": "3",
   "metadata": {},
   "source": [
    "## References\n",
    "\n",
    "<a name=\"qDrift\">[1]</a> E. Campbell, Random Compiler for Fast Hamiltonian Simulation, (2019). [https://arxiv.org/abs/1811.08017](https://arxiv.org/abs/1811.08017)"
   ]
  }
 ],
 "metadata": {
  "kernelspec": {
   "display_name": "Python 3 (ipykernel)",
   "language": "python",
   "name": "python3"
  },
  "language_info": {
   "codemirror_mode": {
    "name": "ipython",
    "version": 3
   },
   "file_extension": ".py",
   "mimetype": "text/x-python",
   "name": "python",
   "nbconvert_exporter": "python",
   "pygments_lexer": "ipython3",
   "version": "3.11.9"
  }
 },
 "nbformat": 4,
 "nbformat_minor": 9
}
