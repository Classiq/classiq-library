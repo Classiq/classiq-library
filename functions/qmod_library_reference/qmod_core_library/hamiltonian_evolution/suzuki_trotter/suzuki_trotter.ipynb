{
 "cells": [
  {
   "cell_type": "markdown",
   "id": "68f8e965-e5ab-43ee-a742-c9b018302614",
   "metadata": {},
   "source": [
    "# Suzuki Trotter\n",
    "\n",
    "The `suzuki_trotter` function produces the Suzuki-Trotter product for a given order and repetitions. Given a Hamiltonian as a sum of Pauli strings\n",
    "$$\n",
    "H = \\sum^L_{k=1} \\alpha_k H_k,\n",
    "$$\n",
    "the Suzuki-Trotter formula of order $o$ and repetitions $r$ approximates the Hamiltonian simulation $U = e^{-iHt}$ according to the following:\n",
    "\n",
    "* Each order $ST^{(o)}(H,t)$ is defined recursively:\n",
    "    * The first order is : $ST^{(1)}(H,t) = \\Pi^L_{k=1} e^{-iH_k t}$\n",
    "    * The second order is : $ST^{(2)}(H,t)  = \\Pi^L_{k=1} e^{-iH_k t/2} \\Pi^1_{k=L} e^{-iH_k t/2}$\n",
    "    * Recursion formula for order $2m$ with $m>1$ is given in Eq. (5) of Ref. [[2](#Childs)]\n",
    "\n",
    "\n",
    "* For a given order, repetitions refers to \n",
    "$$\n",
    "ST^{(o,r)}(H,t) = [ST^{(o)}(H,t/r)]^r.\n",
    "$$ \n"
   ]
  },
  {
   "cell_type": "markdown",
   "id": "05c08f2d-590a-4cbf-812d-fafa605f6e1f",
   "metadata": {},
   "source": [
    "Function: `suzuki_trotter`\n",
    "\n",
    "Arguments:\n",
    "\n",
    "- `pauli_operator`: `CArray[PauliTerm]`\n",
    "- `evolution_coefficient`: `CReal`\n",
    "- `order`: `CInt`,\n",
    "- `repetitions`: `CInt`,\n",
    "- `qbv`: `QArray[QBit]`"
   ]
  },
  {
   "cell_type": "markdown",
   "id": "e7166188-af15-48c9-96fd-cf4b737e24e5",
   "metadata": {},
   "source": [
    "## Example"
   ]
  },
  {
   "cell_type": "code",
   "execution_count": 1,
   "id": "61acbf62-6bd5-4649-a151-6b434915d6ee",
   "metadata": {
    "execution": {
     "iopub.execute_input": "2024-05-07T13:24:09.866724Z",
     "iopub.status.busy": "2024-05-07T13:24:09.864061Z",
     "iopub.status.idle": "2024-05-07T13:24:14.991054Z",
     "shell.execute_reply": "2024-05-07T13:24:14.990421Z"
    }
   },
   "outputs": [],
   "source": [
    "from classiq import *\n",
    "\n",
    "\n",
    "@qfunc\n",
    "def main(a: CReal, x: CReal, qba: Output[QArray[QBit]]):\n",
    "    allocate(3, qba)\n",
    "    suzuki_trotter(\n",
    "        [\n",
    "            PauliTerm(pauli=[Pauli.X, Pauli.X, Pauli.Z], coefficient=a),\n",
    "            PauliTerm(pauli=[Pauli.Y, Pauli.X, Pauli.Z], coefficient=0.5),\n",
    "        ],\n",
    "        evolution_coefficient=x,\n",
    "        order=1,\n",
    "        repetitions=1,\n",
    "        qbv=qba,\n",
    "    )\n",
    "\n",
    "\n",
    "qmod = create_model(main, out_file=\"suzuki_trotter\")\n",
    "qprog = synthesize(qmod)"
   ]
  },
  {
   "cell_type": "markdown",
   "id": "be631c78-7c6a-4cdf-a968-1a2e6cdefde6",
   "metadata": {},
   "source": [
    "## References\n",
    "\n",
    "<a name=\"Trotter-Suzuki\">[1]</a> N. Hatano and M. Suzuki, Finding Exponential Product Formulas of Higher Orders, (2005). [https://arxiv.org/abs/math-ph/0506007](https://arxiv.org/abs/math-ph/0506007)\n",
    "\n",
    "<a name=\"Childs\">[2]</a> Childs, et al., Toward the first quantum simulation with quantum speedup, (2018). [https://arxiv.org/abs/1711.10980](https://arxiv.org/abs/1711.10980)\n"
   ]
  },
  {
   "cell_type": "code",
   "execution_count": null,
   "id": "35b6eab4-afb6-4331-9531-35c4b750f6ae",
   "metadata": {},
   "outputs": [],
   "source": []
  }
 ],
 "metadata": {
  "kernelspec": {
   "display_name": "Python 3 (ipykernel)",
   "language": "python",
   "name": "python3"
  },
  "language_info": {
   "codemirror_mode": {
    "name": "ipython",
    "version": 3
   },
   "file_extension": ".py",
   "mimetype": "text/x-python",
   "name": "python",
   "nbconvert_exporter": "python",
   "pygments_lexer": "ipython3",
   "version": "3.11.9"
  }
 },
 "nbformat": 4,
 "nbformat_minor": 5
}
