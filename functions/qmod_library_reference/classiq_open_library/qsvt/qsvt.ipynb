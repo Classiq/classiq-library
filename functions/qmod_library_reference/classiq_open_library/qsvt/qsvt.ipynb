{
 "cells": [
  {
   "cell_type": "markdown",
   "id": "e0785c9a-7bee-4bd3-9173-c93fb70c8e03",
   "metadata": {},
   "source": [
    "# QSVT\n",
    "\n",
    "The Quantum Singlar Value Transformation (QSVT) [[1]](#QSVT) is an algorithmic framework, used to apply polynomial transformation on the singular values of a block encoded matrix. It has wide range of applications such as matrix inversion, amplitude amplification and hamiltonian simulation.\n",
    "\n",
    "Given a unitary $U$, a list of phase angles  $\\phi_1, \\phi_2, ..., \\phi_{d+1}$ and 2 projector-controlled-not operands $C_{\\Pi}NOT,C_{\\tilde{\\Pi}}NOT$ , the QSVT sequence is as follows:\n",
    "\n",
    "$$ \\tilde{\\Pi}_{\\phi_{d+1}} \\prod_{k=1}^{(d-1)/2} (\\Pi_{\\phi_{d-2k}} U^{\\dagger}\\tilde{\\Pi}_{\\phi_{d - (2k+1)}}U)\\Pi_{\\phi_{1}} $$\n",
    "for odd $d$, and:\n",
    "$$ \\prod_{k=1}^{d/2} (\\Pi_{\\phi_{d-(2k-1)}} U^{\\dagger}\\tilde{\\Pi}_{\\phi_{d-2k}}U)\\Pi_{\\phi_{1}}$$\n",
    "for even $d$.\n",
    "\n",
    "Each of the projector-controlled-phase unitaries $\\Pi$ consists of a $Z$ rotation of an auxilliary qubit wrapped by the $C_{\\Pi}NOT$s, NOTing the auxilliary qubit:\n",
    "$$\\Pi_{\\phi} = (C_{\\Pi}NOT) e^{-i\\frac{\\phi}{2}Z}(C_{\\Pi}NOT)$$\n",
    "The transformation will result with a polynomial of order $d$."
   ]
  },
  {
   "cell_type": "markdown",
   "id": "9f8b8021-5b76-4ad6-ae3e-469434cf316f",
   "metadata": {},
   "source": [
    "Function: `qsvt`\n",
    "\n",
    "Arguments:\n",
    "\n",
    "- `phase_seq: CArray[CReal]` - a $d+1$ sized sequence of phase angles.\n",
    "- `proj_cnot_1: QCallable[QArray[QBit], QBit]` - projector-controlled-not unitary that locates the encoded matrix columns within $U$. Accepts quantum variable of the size of `qvar`, and a qubit that is set to $|1\\rangle$ when the state is in the block.\n",
    "- `proj_cnot_2: QCallable[QArray[QBit], QBit]` - projector-controlled-not unitary that locates the encoded matrix rows within $U$. Accepts quantum variable of the size of `qvar`, and a qubit that is set to $|1\\rangle$ when the state is in the block.\n",
    "- `u: QCallable[QArray[QBit]]` - $U$ a block encoding unitary of a matrix $A$, such that $A = \\tilde{\\Pi}U\\Pi$.\n",
    "- `qvar: QArray[QBit]` - the quantum variable on which $U$ applies, which resides in the entire block encoding space.\n",
    "- `aux: QBit` - a zero auxilliary qubit, used for the projector-controlled-phase rotations. Given as an input so that qsvt can be used as a building-block in a larger algorithm."
   ]
  },
  {
   "cell_type": "markdown",
   "id": "3c0e5a6f-c671-4126-a359-a0c797f5a778",
   "metadata": {},
   "source": [
    "### Example: polynomial transformation on a $\\sqrt(x)$ block encoding\n",
    "\n",
    "The following example implements a random polynomial transformation on a given block, based on [[2]](#QSVT_derivative).\n",
    "The unitary $U$ here is a square-root transformation: $U|x\\rangle_n|0\\rangle_{n+1} = |x\\rangle_n(\\sqrt{x}|\\psi_0\\rangle_{n}|0\\rangle + \\sqrt{1-x}|\\psi_1\\rangle_{n}|1\\rangle)$ where $x$ is a fixed-point variable in the range $[0, 1)$.\n",
    "\n",
    "The example samples a random odd-polynomial, calculates the necessary phase sequence using the package `pyqsp`, then applies the qsvt and verifies the results.\n",
    "\n",
    "There are 2 distinct projector-controlled-not unitaries - one is applying on the entire $(n+1)$ variable, and the second is on the 1-qubits auxilliary in the image."
   ]
  },
  {
   "cell_type": "code",
   "execution_count": 1,
   "id": "05e442a6-6045-4afc-98d9-bb4c566e69c2",
   "metadata": {
    "execution": {
     "iopub.execute_input": "2024-05-07T13:25:19.263341Z",
     "iopub.status.busy": "2024-05-07T13:25:19.262732Z",
     "iopub.status.idle": "2024-05-07T13:25:22.027083Z",
     "shell.execute_reply": "2024-05-07T13:25:22.026278Z"
    }
   },
   "outputs": [],
   "source": [
    "from typing import Dict, Tuple\n",
    "\n",
    "import numpy as np\n",
    "from numpy.polynomial import Polynomial\n",
    "from pyqsp.angle_sequence import QuantumSignalProcessingPhases\n",
    "\n",
    "from classiq import (\n",
    "    Constraints,\n",
    "    execute,\n",
    "    set_execution_preferences,\n",
    "    synthesize,\n",
    "    write_qmod,\n",
    ")\n",
    "from classiq.execution import ClassiqBackendPreferences, ExecutionPreferences\n",
    "from classiq.qmod import (\n",
    "    CArray,\n",
    "    CReal,\n",
    "    Output,\n",
    "    QArray,\n",
    "    QBit,\n",
    "    QNum,\n",
    "    X,\n",
    "    allocate,\n",
    "    bind,\n",
    "    control,\n",
    "    create_model,\n",
    "    hadamard_transform,\n",
    "    qfunc,\n",
    "    qsvt,\n",
    ")\n",
    "\n",
    "\n",
    "@qfunc\n",
    "def projector_cnot(reg: QNum, aux: QBit) -> None:\n",
    "    control(reg == 0, lambda: X(aux))\n",
    "\n",
    "\n",
    "@qfunc\n",
    "def u_sqrt(a: QNum, ref: QNum, res: QBit) -> None:\n",
    "    hadamard_transform(ref)\n",
    "    res ^= a <= ref\n",
    "\n",
    "\n",
    "@qfunc\n",
    "def qsvt_sqrt_polynomial(\n",
    "    qsvt_phases: CArray[CReal], state: QNum, ref: QNum, ind: QBit, qsvt_aux: QBit\n",
    ") -> None:\n",
    "    full_reg = QArray[QBit](\"full_reg\")\n",
    "    bind([ind, ref, state], full_reg)\n",
    "\n",
    "    qsvt(\n",
    "        qsvt_phases,\n",
    "        lambda reg_, aux_: projector_cnot(reg_[0 : NUM_QUBITS + 1], aux_),  # ind+ref\n",
    "        lambda reg_, aux_: projector_cnot(reg_[0], aux_),  # ind\n",
    "        lambda reg_: u_sqrt(\n",
    "            reg_[1 + NUM_QUBITS : reg_.len], reg_[1 : 1 + NUM_QUBITS], reg_[0]\n",
    "        ),\n",
    "        full_reg,\n",
    "        qsvt_aux,\n",
    "    )\n",
    "    bind(full_reg, [ind, ref, state])"
   ]
  },
  {
   "cell_type": "code",
   "execution_count": 2,
   "id": "9d9b57a7-dcd7-4cae-ac42-99bea06f1c11",
   "metadata": {
    "execution": {
     "iopub.execute_input": "2024-05-07T13:25:22.032660Z",
     "iopub.status.busy": "2024-05-07T13:25:22.031168Z",
     "iopub.status.idle": "2024-05-07T13:25:22.046033Z",
     "shell.execute_reply": "2024-05-07T13:25:22.045340Z"
    }
   },
   "outputs": [],
   "source": [
    "import matplotlib.pyplot as plt\n",
    "\n",
    "\n",
    "def sample_random_polynomial(degree):\n",
    "    # Generate random coefficients\n",
    "    coefficients = np.random.uniform(-1, 1, degree + 1)\n",
    "    # take care for parity\n",
    "    coefficients[int(degree + 1) % 2 :: 2] = 0\n",
    "\n",
    "    # Create the polynomial\n",
    "    p = Polynomial(coefficients)\n",
    "    # Evaluate the polynomial over the interval [-1, 1]\n",
    "    x = np.linspace(-1, 1, 500)\n",
    "    y = p(x)\n",
    "\n",
    "    # Normalize the polynomial\n",
    "    poly = p / np.max(np.abs(y))\n",
    "    print(poly)\n",
    "    return poly\n",
    "\n",
    "\n",
    "def adjust_qsvt_convetions(phases: np.ndarray) -> np.ndarray:\n",
    "    phases = np.array(phases)\n",
    "    # change the R(x) to W(x), as the phases are in the W(x) conventions\n",
    "    phases = phases - np.pi / 2\n",
    "    phases[0] = phases[0] + np.pi / 4\n",
    "    phases[-1] = phases[-1] + np.pi / 2 + (2 * DEGREE - 1) * np.pi / 4\n",
    "\n",
    "    # verify conventions. minus is due to exp(-i*phi*z) in qsvt in comparison to qsp\n",
    "    return -2 * phases\n",
    "\n",
    "\n",
    "def compute_qsvt_phases(poly):\n",
    "    phases = QuantumSignalProcessingPhases(\n",
    "        poly, signal_operator=\"Wx\", method=\"laurent\", measurement=\"x\"\n",
    "    )\n",
    "    return adjust_qsvt_convetions(phases).tolist()\n",
    "\n",
    "\n",
    "def parse_qsvt_results(res) -> Tuple[np.ndarray, np.ndarray]:\n",
    "    parsed_state_vector = res[0].value.parsed_state_vector\n",
    "\n",
    "    d: Dict = {x: [] for x in range(2**NUM_QUBITS)}\n",
    "    for parsed_state in parsed_state_vector:\n",
    "        if (\n",
    "            parsed_state[\"qsvt_aux\"] == 0\n",
    "            and parsed_state[\"ind\"] == 0\n",
    "            and np.linalg.norm(parsed_state.amplitude) > 1e-15\n",
    "            and (DEGREE % 2 == 1 or parsed_state[\"ref\"] == 0)\n",
    "        ):\n",
    "            d[parsed_state[\"state\"]].append(parsed_state.amplitude)\n",
    "    d = {k: np.linalg.norm(v) for k, v in d.items()}\n",
    "    values = [d[i] for i in range(len(d))]\n",
    "\n",
    "    x = np.sqrt(np.linspace(0, 1 - 1 / (2**NUM_QUBITS), 2**NUM_QUBITS))\n",
    "\n",
    "    measured_poly_values = np.sqrt(2**NUM_QUBITS) * np.array(values)\n",
    "    target_poly_values = np.abs(POLY(x))\n",
    "\n",
    "    plt.scatter(x, measured_poly_values, label=\"measured\", c=\"g\")\n",
    "    plt.plot(x, target_poly_values, label=\"target\")\n",
    "    plt.xlabel(r\"$\\sqrt{x}$\")\n",
    "    plt.ylabel(r\"$P(\\sqrt{x})$\")\n",
    "    plt.legend()\n",
    "\n",
    "    return measured_poly_values, target_poly_values"
   ]
  },
  {
   "cell_type": "code",
   "execution_count": 3,
   "id": "736314d2-bcc9-4f08-a7c8-93fe6a788a74",
   "metadata": {
    "execution": {
     "iopub.execute_input": "2024-05-07T13:25:22.050620Z",
     "iopub.status.busy": "2024-05-07T13:25:22.049464Z",
     "iopub.status.idle": "2024-05-07T13:25:22.074785Z",
     "shell.execute_reply": "2024-05-07T13:25:22.074029Z"
    }
   },
   "outputs": [
    {
     "name": "stdout",
     "output_type": "stream",
     "text": [
      "0.0 + 0.57226496\u00b7x + 0.0\u00b7x\u00b2 - 0.5134161\u00b7x\u00b3 + 0.0\u00b7x\u2074 - 1.05884886\u00b7x\u2075\n"
     ]
    }
   ],
   "source": [
    "NUM_QUBITS = 4\n",
    "DEGREE = 5\n",
    "\n",
    "np.random.seed(1)\n",
    "\n",
    "# choosing in purpose odd polynomial\n",
    "POLY = sample_random_polynomial(DEGREE)\n",
    "QSVT_PHASES = compute_qsvt_phases(POLY)"
   ]
  },
  {
   "cell_type": "code",
   "execution_count": 4,
   "id": "f6eb063c-f003-4ae2-8a75-acd477260f82",
   "metadata": {
    "execution": {
     "iopub.execute_input": "2024-05-07T13:25:22.079812Z",
     "iopub.status.busy": "2024-05-07T13:25:22.078723Z",
     "iopub.status.idle": "2024-05-07T13:25:30.862505Z",
     "shell.execute_reply": "2024-05-07T13:25:30.861874Z"
    }
   },
   "outputs": [],
   "source": [
    "@qfunc\n",
    "def main(\n",
    "    state: Output[QNum],\n",
    "    ref: Output[QNum],\n",
    "    ind: Output[QBit],\n",
    "    qsvt_aux: Output[QBit],\n",
    ") -> None:\n",
    "    allocate(NUM_QUBITS, state)\n",
    "    allocate(NUM_QUBITS, ref)\n",
    "    allocate(1, ind)\n",
    "    allocate(1, qsvt_aux)\n",
    "\n",
    "    hadamard_transform(state)\n",
    "    qsvt_sqrt_polynomial(QSVT_PHASES, state, ref, ind, qsvt_aux)\n",
    "\n",
    "\n",
    "execution_preferences = ExecutionPreferences(\n",
    "    num_shots=1,\n",
    "    backend_preferences=ClassiqBackendPreferences(\n",
    "        backend_name=\"aer_simulator_statevector\"\n",
    "    ),\n",
    ")\n",
    "\n",
    "constraints = Constraints(max_width=13)\n",
    "qmod = create_model(main, constraints=constraints)\n",
    "qmod = set_execution_preferences(qmod, execution_preferences)\n",
    "\n",
    "write_qmod(qmod, \"qsvt\")\n",
    "qprog = synthesize(qmod)"
   ]
  },
  {
   "cell_type": "code",
   "execution_count": 5,
   "id": "fe3b426b-cd7b-4568-9e85-8565dd03295e",
   "metadata": {
    "execution": {
     "iopub.execute_input": "2024-05-07T13:25:30.865336Z",
     "iopub.status.busy": "2024-05-07T13:25:30.864844Z",
     "iopub.status.idle": "2024-05-07T13:25:34.873974Z",
     "shell.execute_reply": "2024-05-07T13:25:34.873212Z"
    }
   },
   "outputs": [
    {
     "data": {
      "image/png": "[encoded data removed]",
      "text/plain": [
       "<Figure size 640x480 with 1 Axes>"
      ]
     },
     "metadata": {},
     "output_type": "display_data"
    }
   ],
   "source": [
    "res = execute(qprog).result()\n",
    "\n",
    "measured, target = parse_qsvt_results(res)\n",
    "assert np.allclose(measured, target, atol=0.02)"
   ]
  },
  {
   "cell_type": "markdown",
   "id": "f1b17715-4b7d-4717-a24d-ac8279df32ca",
   "metadata": {},
   "source": [
    "## References\n",
    "\n",
    "<a id='QSVT'>[1]</a>: Andr\u00e1s Gily\u00e9n, Yuan Su, Guang Hao Low, and Nathan Wiebe. 2019. Quantum singular value transformation and beyond: exponential improvements for quantum matrix arithmetics. In Proceedings of the 51st Annual ACM SIGACT Symposium on Theory of Computing (STOC 2019). Association for Computing Machinery, New York, NY, USA, 193\u2013204 https://doi.org/10.1145/3313276.3316366.\n",
    "\n",
    "<a id='QSVT_derivative'>[2]</a>: Stamatopoulos, Nikitas, and William J. Zeng. \"Derivative pricing using quantum signal processing.\" arXiv preprint arXiv:2307.14310 (2023).\n"
   ]
  }
 ],
 "metadata": {
  "kernelspec": {
   "display_name": "Python 3 (ipykernel)",
   "language": "python",
   "name": "python3"
  },
  "language_info": {
   "codemirror_mode": {
    "name": "ipython",
    "version": 3
   },
   "file_extension": ".py",
   "mimetype": "text/x-python",
   "name": "python",
   "nbconvert_exporter": "python",
   "pygments_lexer": "ipython3",
   "version": "3.11.9"
  }
 },
 "nbformat": 4,
 "nbformat_minor": 5
}
