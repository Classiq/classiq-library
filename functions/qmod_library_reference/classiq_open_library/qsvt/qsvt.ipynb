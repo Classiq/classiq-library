{
 "cells": [
  {
   "cell_type": "markdown",
   "id": "0",
   "metadata": {},
   "source": [
    "# QSVT\n",
    "\n",
    "The Quantum Singlar Value Transformation (QSVT) [[1]](#QSVT) is an algorithmic framework, used to apply polynomial transformation on the singular values of a block encoded matrix. It has wide range of applications such as matrix inversion, amplitude amplification and hamiltonian simulation.\n",
    "\n",
    "Given a unitary $U$, a list of phase angles  $\\phi_1, \\phi_2, ..., \\phi_{d+1}$ and 2 projector-controlled-not operands $C_{\\Pi}NOT,C_{\\tilde{\\Pi}}NOT$ , the QSVT sequence is as follows:\n",
    "\n",
    "$$ \\tilde{\\Pi}_{\\phi_{d+1}}U \\prod_{k=1}^{(d-1)/2} (\\Pi_{\\phi_{d-2k}} U^{\\dagger}\\tilde{\\Pi}_{\\phi_{d - (2k+1)}}U)\\Pi_{\\phi_{1}} $$\n",
    "for odd $d$, and:\n",
    "$$ \\prod_{k=1}^{d/2} (\\Pi_{\\phi_{d-(2k-1)}} U^{\\dagger}\\tilde{\\Pi}_{\\phi_{d-2k}}U)\\Pi_{\\phi_{1}}$$\n",
    "for even $d$.\n",
    "\n",
    "Each of the projector-controlled-phase unitaries $\\Pi$ consists of a $Z$ rotation of an auxilliary qubit wrapped by the $C_{\\Pi}NOT$s, NOTing the auxilliary qubit:\n",
    "$$\\Pi_{\\phi} = (C_{\\Pi}NOT) e^{-i\\frac{\\phi}{2}Z}(C_{\\Pi}NOT)$$\n",
    "The transformation will result with a polynomial of order $d$."
   ]
  },
  {
   "cell_type": "markdown",
   "id": "1",
   "metadata": {},
   "source": [
    "Function: `qsvt`\n",
    "\n",
    "Arguments:\n",
    "\n",
    "- `phase_seq: CArray[CReal]` - a $d+1$ sized sequence of phase angles.\n",
    "- `proj_cnot_1: QCallable[QArray[QBit], QBit]` - projector-controlled-not unitary that locates the encoded matrix columns within $U$. Accepts quantum variable of the size of `qvar`, and a qubit that is set to $|1\\rangle$ when the state is in the block.\n",
    "- `proj_cnot_2: QCallable[QArray[QBit], QBit]` - projector-controlled-not unitary that locates the encoded matrix rows within $U$. Accepts quantum variable of the size of `qvar`, and a qubit that is set to $|1\\rangle$ when the state is in the block.\n",
    "- `u: QCallable[QArray[QBit]]` - $U$ a block encoding unitary of a matrix $A$, such that $A = \\tilde{\\Pi}U\\Pi$.\n",
    "- `qvar: QArray[QBit]` - the quantum variable on which $U$ applies, which resides in the entire block encoding space.\n",
    "- `aux: QBit` - a zero auxilliary qubit, used for the projector-controlled-phase rotations. Given as an input so that qsvt can be used as a building-block in a larger algorithm."
   ]
  },
  {
   "cell_type": "code",
   "execution_count": 32,
   "id": "2",
   "metadata": {},
   "outputs": [],
   "source": [
    "!pip install -qq \"classiq[qsp]\""
   ]
  },
  {
   "cell_type": "markdown",
   "id": "3",
   "metadata": {},
   "source": [
    "### Example: polynomial transformation on a $\\sqrt(x)$ block encoding\n",
    "\n",
    "The following example implements a random polynomial transformation on a given block, based on [[2]](#QSVT_derivative).\n",
    "The unitary $U$ here is a square-root transformation: $U|x\\rangle_n|0\\rangle_{n+1} = |x\\rangle_n(\\sqrt{x}|\\psi_0\\rangle_{n}|0\\rangle + \\sqrt{1-x}|\\psi_1\\rangle_{n}|1\\rangle)$ where $x$ is a fixed-point variable in the range $[0, 1)$.\n",
    "\n",
    "The example samples a random odd-polynomial, calculates the necessary phase sequence, then applies the qsvt and verifies the results.\n",
    "\n",
    "There are 2 distinct projector-controlled-not unitaries - one is applying on the entire $(n+1)$ variable, and the second is on the 1-qubits auxilliary in the image."
   ]
  },
  {
   "cell_type": "code",
   "execution_count": 33,
   "id": "4",
   "metadata": {},
   "outputs": [],
   "source": [
    "from typing import Dict, Tuple\n",
    "\n",
    "import numpy as np\n",
    "from numpy.polynomial import Polynomial\n",
    "\n",
    "from classiq import *\n",
    "from classiq.qmod.symbolic import logical_and\n",
    "\n",
    "NUM_QUBITS = 4\n",
    "\n",
    "\n",
    "@qperm\n",
    "def projector_cnot(reg: QNum, aux: QBit) -> None:\n",
    "    aux ^= reg == 0\n",
    "\n",
    "\n",
    "@qfunc\n",
    "def u_sqrt(state: QNum, ref: QNum, ind: QBit) -> None:\n",
    "    hadamard_transform(ref)\n",
    "    ind ^= state <= ref\n",
    "\n",
    "\n",
    "@qfunc\n",
    "def qsvt_sqrt_polynomial(\n",
    "    qsvt_phases: CArray[CReal], state: QNum, ref: QNum, ind: QBit, qsvt_aux: QBit\n",
    ") -> None:\n",
    "    qsvt(\n",
    "        qsvt_phases,\n",
    "        lambda _aux: projector_cnot(ref, _aux),\n",
    "        lambda _aux: projector_cnot(ind, _aux),\n",
    "        lambda: u_sqrt(state, ref, ind),\n",
    "        qsvt_aux,\n",
    "    )"
   ]
  },
  {
   "cell_type": "code",
   "execution_count": 34,
   "id": "5",
   "metadata": {},
   "outputs": [],
   "source": [
    "import matplotlib.pyplot as plt\n",
    "\n",
    "from classiq.applications.qsp import qsvt_phases\n",
    "\n",
    "\n",
    "def sample_random_chebyshev_polynomial(degree):\n",
    "    # Generate random coefficients\n",
    "    coefficients = np.random.uniform(-1, 1, degree + 1)\n",
    "    # take care for parity\n",
    "    coefficients[int(degree + 1) % 2 :: 2] = 0\n",
    "\n",
    "    # Create the polynomial\n",
    "    p = np.polynomial.Chebyshev(coefficients)\n",
    "    # Evaluate the polynomial over the interval [-1, 1]\n",
    "    x = np.linspace(-1, 1, 500)\n",
    "    y = p(x)\n",
    "\n",
    "    # Normalize the polynomial\n",
    "    poly = p / (np.max(np.abs(y)) + 0.001)\n",
    "    print(poly)\n",
    "    return poly\n",
    "\n",
    "\n",
    "def parse_qsvt_results(result) -> Tuple[np.ndarray, np.ndarray]:\n",
    "    parsed_state_vector = result.parsed_state_vector\n",
    "\n",
    "    d: Dict = {x: [] for x in range(2**NUM_QUBITS)}\n",
    "    for parsed_state in parsed_state_vector:\n",
    "        if (\n",
    "            parsed_state[\"qsvt_aux\"] == 0\n",
    "            and parsed_state[\"ind\"] == 0\n",
    "            and np.linalg.norm(parsed_state.amplitude) > 1e-15\n",
    "            and (DEGREE % 2 == 1 or parsed_state[\"ref\"] == 0)\n",
    "        ):\n",
    "            d[parsed_state[\"state\"]].append(parsed_state.amplitude)\n",
    "    d = {k: np.linalg.norm(v) for k, v in d.items()}\n",
    "    values = [d[i] for i in range(len(d))]\n",
    "\n",
    "    x = np.sqrt(np.linspace(0, 1 - 1 / (2**NUM_QUBITS), 2**NUM_QUBITS))\n",
    "\n",
    "    measured_poly_values = np.sqrt(2**NUM_QUBITS) * np.array(values)\n",
    "    target_poly_values = np.abs(POLY(x))\n",
    "\n",
    "    plt.scatter(x, measured_poly_values, label=\"measured\", c=\"g\")\n",
    "    plt.plot(x, target_poly_values, label=\"target\")\n",
    "    plt.xlabel(r\"$\\sqrt{x}$\")\n",
    "    plt.ylabel(r\"$P(\\sqrt{x})$\")\n",
    "    plt.legend()\n",
    "\n",
    "    return measured_poly_values, target_poly_values"
   ]
  },
  {
   "cell_type": "code",
   "execution_count": 35,
   "id": "6",
   "metadata": {},
   "outputs": [
    {
     "name": "stdout",
     "output_type": "stream",
     "text": [
      "0.0 + 0.33582085·T₁(x) + 0.0·T₂(x) - 0.30128672·T₃(x) + 0.0·T₄(x) -\n",
      "0.62136169·T₅(x)\n"
     ]
    }
   ],
   "source": [
    "DEGREE = 5\n",
    "\n",
    "np.random.seed(1)\n",
    "\n",
    "# choosing in purpose odd polynomial\n",
    "POLY = sample_random_chebyshev_polynomial(DEGREE)\n",
    "QSVT_PHASES = qsvt_phases(POLY.coef)"
   ]
  },
  {
   "cell_type": "code",
   "execution_count": 36,
   "id": "7",
   "metadata": {},
   "outputs": [],
   "source": [
    "@qfunc\n",
    "def main(\n",
    "    state: Output[QNum[NUM_QUBITS]],\n",
    "    ref: Output[QNum[NUM_QUBITS]],\n",
    "    ind: Output[QBit],\n",
    "    qsvt_aux: Output[QBit],\n",
    ") -> None:\n",
    "    allocate(state)\n",
    "    allocate(ref)\n",
    "    allocate(ind)\n",
    "    allocate(qsvt_aux)\n",
    "\n",
    "    hadamard_transform(state)\n",
    "    qsvt_sqrt_polynomial(QSVT_PHASES, state, ref, ind, qsvt_aux)\n",
    "\n",
    "\n",
    "qmod = create_model(\n",
    "    main,\n",
    "    constraints=Constraints(max_width=13),\n",
    "    execution_preferences=ExecutionPreferences(\n",
    "        num_shots=1,\n",
    "        backend_preferences=ClassiqBackendPreferences(\n",
    "            backend_name=\"simulator_statevector\"\n",
    "        ),\n",
    "    ),\n",
    "    out_file=\"qsvt\",\n",
    ")\n",
    "qprog = synthesize(qmod)"
   ]
  },
  {
   "cell_type": "code",
   "execution_count": 37,
   "id": "8",
   "metadata": {},
   "outputs": [
    {
     "name": "stdout",
     "output_type": "stream",
     "text": [
      "Quantum program link: https://platform.classiq.io/circuit/34mKZYFxqMImM9ypr4DfrV3Bee7\n"
     ]
    }
   ],
   "source": [
    "show(qprog)"
   ]
  },
  {
   "cell_type": "code",
   "execution_count": 38,
   "id": "9",
   "metadata": {},
   "outputs": [
    {
     "data": {
      "image/png": "[encoded data removed]",
      "text/plain": [
       "<Figure size 640x480 with 1 Axes>"
      ]
     },
     "metadata": {},
     "output_type": "display_data"
    }
   ],
   "source": [
    "result = execute(qprog).result_value()\n",
    "\n",
    "measured, target = parse_qsvt_results(result)\n",
    "assert np.allclose(measured, target, atol=0.02)"
   ]
  },
  {
   "cell_type": "markdown",
   "id": "10",
   "metadata": {},
   "source": [
    "## References\n",
    "\n",
    "<a id='QSVT'>[1]</a>: András Gilyén, Yuan Su, Guang Hao Low, and Nathan Wiebe. 2019. Quantum singular value transformation and beyond: exponential improvements for quantum matrix arithmetics. In Proceedings of the 51st Annual ACM SIGACT Symposium on Theory of Computing (STOC 2019). Association for Computing Machinery, New York, NY, USA, 193–204 https://doi.org/10.1145/3313276.3316366.\n",
    "\n",
    "<a id='QSVT_derivative'>[2]</a>: Stamatopoulos, Nikitas, and William J. Zeng. \"Derivative pricing using quantum signal processing.\" arXiv preprint arXiv:2307.14310 (2023).\n"
   ]
  }
 ],
 "metadata": {
  "kernelspec": {
   "display_name": "Python 3 (ipykernel)",
   "language": "python",
   "name": "python3"
  },
  "language_info": {
   "codemirror_mode": {
    "name": "ipython",
    "version": 3
   },
   "file_extension": ".py",
   "mimetype": "text/x-python",
   "name": "python",
   "nbconvert_exporter": "python",
   "pygments_lexer": "ipython3",
   "version": "3.11.4"
  }
 },
 "nbformat": 4,
 "nbformat_minor": 9
}
