{
 "cells": [
  {
   "cell_type": "markdown",
   "id": "9eede0bd-bd8b-4f22-a03b-0d212334f026",
   "metadata": {},
   "source": [
    "# Variational Data Encoding\n",
    "\n",
    "Encoding classical data on quantum states is an important subroutine in variational quantum circuits, such as Quantum Singular Vector Machine (QSVM) and Quantum Neural Networks (QNN). "
   ]
  },
  {
   "cell_type": "markdown",
   "id": "716790b4-d1d4-47ee-8b46-41d9c2c56c2d",
   "metadata": {},
   "source": [
    "## Encode in angle\n",
    "\n",
    "This function encodes $n$ data points on $n$ qubits, mapping the data point $x_i$ to a RY rotation on the $i$-th qubit with a $\\pi x_i$ angle."
   ]
  },
  {
   "cell_type": "markdown",
   "id": "44009574-a515-4e08-a03a-71af6a973a68",
   "metadata": {},
   "source": [
    "Function: `encode_in_angle`\n",
    "\n",
    "Arguments:\n",
    "\n",
    "- `data`: `CArray[Creal]`\n",
    "- `qba`: `Output[QArray[QBit]]`\n",
    "\n",
    "The `qba` quantum argument is the quantum state on which we encode the classical array `data`."
   ]
  },
  {
   "cell_type": "markdown",
   "id": "4aaa84d1-36c5-4eb3-a713-593d9cc509b3",
   "metadata": {},
   "source": [
    "## Example"
   ]
  },
  {
   "cell_type": "code",
   "execution_count": 2,
   "id": "d67855d0-5461-4d8e-9f7d-1bc47ca80928",
   "metadata": {},
   "outputs": [],
   "source": [
    "from classiq import *\n",
    "\n",
    "\n",
    "@qfunc\n",
    "def main(data: CArray[CReal, 4], x: Output[QArray[QBit]]):\n",
    "    encode_in_angle(data, x)\n",
    "\n",
    "\n",
    "qmod = create_model(main)"
   ]
  },
  {
   "cell_type": "code",
   "execution_count": 3,
   "id": "4e9bb384-4af0-4ab4-9e2e-2b8ba243ad5e",
   "metadata": {},
   "outputs": [],
   "source": [
    "from classiq import synthesize, write_qmod\n",
    "\n",
    "write_qmod(qmod, \"encode_in_angle\")\n",
    "qprog = synthesize(qmod)"
   ]
  },
  {
   "cell_type": "markdown",
   "id": "2b15dc5a-17bc-4a05-baf2-0cb597e4b832",
   "metadata": {},
   "source": [
    "![png](figures/angle_encoding_circuit.png)\n",
    "<center>\n",
    "<figcaption align = \"middle\">Angle encoding.</figcaption>\n",
    "</center>"
   ]
  },
  {
   "cell_type": "markdown",
   "id": "7bc356ad-e7f2-4f7c-8f10-5f7f38911853",
   "metadata": {},
   "source": [
    "## Encode on Bloch\n",
    "\n",
    "This function encodes $n$ data points on $\\lceil n/2 \\rceil$, mapping pairs of data points $(x_{2i}, x_{2i+1})$ to the bloch sphere via RX rotation with an angle $\\pi x_{2i}$ followed by a RZ rotation with an angle $\\pi x_{2i+1}$. If the number of data points is odd then a single RX rotation is applied to the last qubit, with an angle of $2\\pi x_n$."
   ]
  },
  {
   "cell_type": "markdown",
   "id": "97515d2b-252d-4d0f-b19b-71deaca7b4b3",
   "metadata": {},
   "source": [
    "Function: `encode_on_bloch`\n",
    "\n",
    "Arguments:\n",
    "\n",
    "- `data`: `CArray[Creal]`\n",
    "- `qba`: `Output[QArray[QBit]]`\n",
    "\n",
    "The `qba` quantum argument is the quantum state on which we encode the classical array `data`."
   ]
  },
  {
   "cell_type": "markdown",
   "id": "7cd298b4-9066-480a-bf06-a3fec2349186",
   "metadata": {},
   "source": [
    "## Example"
   ]
  },
  {
   "cell_type": "code",
   "execution_count": 4,
   "id": "8950baf6-c12a-419a-8110-f4cf9b59d417",
   "metadata": {},
   "outputs": [],
   "source": [
    "from classiq import *\n",
    "\n",
    "\n",
    "@qfunc\n",
    "def main(data: CArray[CReal, 7], x: Output[QArray[QBit]]):\n",
    "    encode_on_bloch(data, x)\n",
    "\n",
    "\n",
    "qmod = create_model(main)"
   ]
  },
  {
   "cell_type": "code",
   "execution_count": 5,
   "id": "d414992f-821c-4b16-930d-7fd864709340",
   "metadata": {},
   "outputs": [],
   "source": [
    "from classiq import synthesize, write_qmod\n",
    "\n",
    "write_qmod(qmod, \"encode_on_bloch\")\n",
    "qprog = synthesize(qmod)"
   ]
  },
  {
   "cell_type": "markdown",
   "id": "e8b25648-fb42-4387-96ff-36c018290a55",
   "metadata": {},
   "source": [
    "![png](figures/dense_angle_encoding_circuit.png)\n",
    "<center>\n",
    "<figcaption align = \"middle\">Dense angle (Bloch sphere) encoding.</figcaption>\n",
    "</center>"
   ]
  },
  {
   "cell_type": "code",
   "execution_count": null,
   "id": "2c8bd4ef-5e91-4c20-95d8-adccd18d1f8f",
   "metadata": {},
   "outputs": [],
   "source": []
  }
 ],
 "metadata": {
  "kernelspec": {
   "display_name": "Python 3 (ipykernel)",
   "language": "python",
   "name": "python3"
  },
  "language_info": {
   "codemirror_mode": {
    "name": "ipython",
    "version": 3
   },
   "file_extension": ".py",
   "mimetype": "text/x-python",
   "name": "python",
   "nbconvert_exporter": "python",
   "pygments_lexer": "ipython3",
   "version": "3.11.7"
  }
 },
 "nbformat": 4,
 "nbformat_minor": 5
}
