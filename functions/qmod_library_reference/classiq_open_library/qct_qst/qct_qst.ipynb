{
 "cells": [
  {
   "cell_type": "markdown",
   "id": "0",
   "metadata": {},
   "source": [
    "# Quantum Sine and Cosine Transforms\n",
    "\n",
    "The quantum Sine and Cosine transforms functions are the quantum analog for the discrete Sine and Cosine transforms. The **unitary** versions of the type I and type II transforms are defined as follows: \n",
    "\n",
    "$$\n",
    "{\\rm DCT}^{(1)}_{jk}(N) = \\alpha_{jk}\\sqrt{\\frac{2}{N-1}} \\cos\\left(\\frac{\\pi j k}{N-1}\\right), \\qquad \n",
    "\\alpha_{jk} = \\left\\{ \\begin{array}{l l}\n",
    "\\frac{1}{\\sqrt{2}} & j = 0,N-1 ,\\\\\n",
    "\\frac{1}{\\sqrt{2}} & k = 0,N-1 ,\\\\\n",
    "1 & \\text{else}\n",
    "\\end{array}\n",
    "\\right.,\n",
    "\\qquad j,k = 0\\dots,N-1 \n",
    "$$\n",
    "\n",
    "$$\n",
    "{\\rm DST}^{(1)}_{jk}(N) = \\sqrt{\\frac{2}{N+1}} \\sin\\left(\\frac{\\pi j k}{N+1}\\right), \\qquad j,k = 0\\dots,N-1 \n",
    "$$\n",
    "\n",
    "$$\n",
    "{\\rm DCT}^{(2)}_{jk}(N) = \\alpha_{jk}\\sqrt{\\frac{2}{N}} \\cos\\left(\\frac{\\pi (j+1/2) k }{N}\\right), \\qquad \n",
    "\\alpha_{jk} = \\left\\{ \\begin{array}{l l}\n",
    "\\frac{1}{\\sqrt{2}} & k = 0 ,\\\\\n",
    "1 & \\text{else}\n",
    "\\end{array}\n",
    "\\right.,\n",
    "\\qquad j,k = 0\\dots,N-1 \n",
    "$$\n",
    "\n",
    "$$\n",
    "{\\rm DST}^{(2)}_{jk}(N) = \\alpha_{jk} \\sqrt{\\frac{2}{N}} \\sin\\left(\\frac{\\pi (j+1/2) (k+1)}{N}\\right), \\qquad \n",
    "\\alpha_{jk} = \\left\\{ \\begin{array}{l l}\n",
    "\\frac{1}{\\sqrt{2}} & k = N-1 ,\\\\\n",
    "1 & \\text{else}\n",
    "\\end{array}\n",
    "\\right.,\n",
    "\\qquad j,k = 0\\dots,N-1 \n",
    "$$\n",
    "\n",
    "The open library includes four functions, following the implementation in Ref. [[1](#QCST)]: "
   ]
  },
  {
   "cell_type": "markdown",
   "id": "1",
   "metadata": {},
   "source": [
    "## QCT and QST of type I\n",
    "\n",
    "Function: `qct_qst_type1`\n",
    "\n",
    "Arguments:\n",
    "\n",
    "- `x`: `QArray[QBit]`\n",
    "\n",
    "The `x` quantum argument is the quantum state on which we apply the transforms, according to the following  unitary on $n\\equiv$`x.len` qubits:\n",
    "\n",
    "$$\n",
    "\\left(\n",
    "\\begin{array}{ccc|c}\n",
    "{} &{} &{} \\\\ \n",
    "  {}&{\\rm DCT}^{(1)}(2^{n-1}+1) & {}& 0\\\\\n",
    "  {} &{} &{} \\\\ \n",
    "  \\hline\n",
    "  {} & 0 & {} & i{\\rm DST}^{(1)}(2^{n-1}-1)\n",
    "\\end{array}\n",
    "\\right)\n",
    "$$"
   ]
  },
  {
   "cell_type": "markdown",
   "id": "2",
   "metadata": {},
   "source": [
    "### Example"
   ]
  },
  {
   "cell_type": "code",
   "execution_count": 1,
   "id": "3",
   "metadata": {},
   "outputs": [],
   "source": [
    "import numpy as np\n",
    "\n",
    "from classiq import *\n",
    "\n",
    "NUM_QUBITS = 4\n",
    "execution_preferences = ExecutionPreferences(\n",
    "    num_shots=1,\n",
    "    backend_preferences=ClassiqBackendPreferences(\n",
    "        backend_name=ClassiqSimulatorBackendNames.SIMULATOR_STATEVECTOR\n",
    "    ),\n",
    ")\n",
    "\n",
    "\n",
    "np.random.seed(123)\n",
    "cos_data = np.random.rand(2 ** (NUM_QUBITS - 1) + 1)\n",
    "cos_data = cos_data / np.linalg.norm(cos_data)\n",
    "sin_data = np.random.rand(2 ** (NUM_QUBITS - 1) - 1)\n",
    "sin_data = sin_data / np.linalg.norm(sin_data)\n",
    "\n",
    "combined_data = np.append(cos_data / np.sqrt(2), sin_data / np.sqrt(2))"
   ]
  },
  {
   "cell_type": "code",
   "execution_count": 2,
   "id": "4",
   "metadata": {},
   "outputs": [],
   "source": [
    "@qfunc\n",
    "def main(x: Output[QNum]):\n",
    "    prepare_amplitudes(combined_data.tolist(), 0.0, x)\n",
    "    qct_qst_type1(x)\n",
    "\n",
    "\n",
    "qmod = create_model(main, execution_preferences=execution_preferences)\n",
    "write_qmod(qmod, \"qct_qst_type1\", decimal_precision=15)"
   ]
  },
  {
   "cell_type": "code",
   "execution_count": 3,
   "id": "5",
   "metadata": {},
   "outputs": [],
   "source": [
    "qprog = synthesize(qmod)"
   ]
  },
  {
   "cell_type": "code",
   "execution_count": 4,
   "id": "6",
   "metadata": {},
   "outputs": [],
   "source": [
    "result = execute(qprog).result_value()"
   ]
  },
  {
   "cell_type": "code",
   "execution_count": 9,
   "id": "7",
   "metadata": {},
   "outputs": [],
   "source": [
    "qct_data = np.zeros(2 ** (NUM_QUBITS - 1) + 1).astype(complex)\n",
    "qst_data = np.zeros(2 ** (NUM_QUBITS - 1) - 1).astype(complex)\n",
    "for sample in result.parsed_state_vector:\n",
    "    value = int(sample.state[\"x\"])\n",
    "    if value < 2 ** (NUM_QUBITS - 1) + 1:\n",
    "        qct_data[value] += sample.amplitude\n",
    "    else:\n",
    "        qst_data[int(value - 2 ** (NUM_QUBITS - 1) - 1)] += sample.amplitude"
   ]
  },
  {
   "cell_type": "code",
   "execution_count": 10,
   "id": "8",
   "metadata": {},
   "outputs": [],
   "source": [
    "def dct1(n):\n",
    "    dct = np.array(\n",
    "        [\n",
    "            [\n",
    "                np.cos(np.pi * j * k / (n - 1))\n",
    "                * (np.sqrt(1 / 2) if j == 0 or j == n - 1 else 1)\n",
    "                * (np.sqrt(1 / 2) if k == 0 or k == n - 1 else 1)\n",
    "                for j in range(n)\n",
    "            ]\n",
    "            for k in range(n)\n",
    "        ]\n",
    "    ) / np.sqrt((n - 1) / 2)\n",
    "    return dct\n",
    "\n",
    "\n",
    "def dst1(n):\n",
    "    dst = np.array(\n",
    "        [\n",
    "            [np.sin(np.pi * (j + 1) * (k + 1) / (n + 1)) for j in range(n)]\n",
    "            for k in range(n)\n",
    "        ]\n",
    "    ) / np.sqrt((n + 1) / 2)\n",
    "\n",
    "    return dst"
   ]
  },
  {
   "cell_type": "code",
   "execution_count": 11,
   "id": "9",
   "metadata": {},
   "outputs": [
    {
     "name": "stdout",
     "output_type": "stream",
     "text": [
      "measured result: [ 0.64936034 -0.13662084  0.02159456  0.08089956  0.06722088  0.18669631\n",
      "  0.02254746 -0.01198615  0.1123771 ]\n",
      "expected result: [ 0.64936034 -0.13662084  0.02159456  0.08089956  0.06722088  0.18669631\n",
      "  0.02254746 -0.01198615  0.1123771 ]\n"
     ]
    }
   ],
   "source": [
    "global_phase = np.exp(1j * np.angle(qct_data[0]))\n",
    "measured_cos_res = np.real(qct_data / global_phase)\n",
    "expected_cos_res = (dct1(2 ** (NUM_QUBITS - 1) + 1) @ cos_data) / np.sqrt(2)\n",
    "print(\"measured result:\", measured_cos_res)\n",
    "print(\"expected result:\", expected_cos_res)\n",
    "\n",
    "assert np.allclose(measured_cos_res, expected_cos_res, atol=0.01)"
   ]
  },
  {
   "cell_type": "code",
   "execution_count": 12,
   "id": "10",
   "metadata": {},
   "outputs": [
    {
     "name": "stdout",
     "output_type": "stream",
     "text": [
      "measured result: [ 0.57556991  0.04712138  0.22433696 -0.27513447  0.17796799  0.07685908\n",
      "  0.05378552]\n",
      "expected result: [ 0.57556991  0.04712138  0.22433696 -0.27513447  0.17796799  0.07685908\n",
      "  0.05378552]\n"
     ]
    }
   ],
   "source": [
    "global_phase = np.exp(1j * np.angle(qst_data[0]))\n",
    "measured_sin_res = np.real(qst_data / global_phase)\n",
    "expected_sin_res = (dst1(2 ** (NUM_QUBITS - 1) - 1) @ sin_data) / np.sqrt(2)\n",
    "print(\"measured result:\", measured_sin_res)\n",
    "print(\"expected result:\", expected_sin_res)\n",
    "\n",
    "assert np.allclose(measured_sin_res, expected_sin_res, atol=0.01)"
   ]
  },
  {
   "cell_type": "markdown",
   "id": "11",
   "metadata": {},
   "source": [
    "## QCT and QST of type II\n",
    "\n",
    "Function: `qct_qst_type2`\n",
    "\n",
    "Arguments:\n",
    "\n",
    "- `x`: `QArray[QBit]`,\n",
    "- `q`: `QBit`\n",
    "\n",
    "The `x` quantum argument is the quantum state on which we apply the transforms, whereas the single `q` qubit indicates the block, according to the following unitary on $n+1\\equiv$ `x.len` $+1$ qubits:\n",
    "\n",
    "$$\n",
    "\\left(\n",
    "\\begin{array}{c|c}\n",
    "  {\\rm DCT}^{(2)}(2^{n-1}) & 0\\\\\n",
    "  \\hline\n",
    "  0 & -{\\rm DST}^{(2)}(2^{n-1})\n",
    "\\end{array}\n",
    "\\right)\n",
    "$$\n",
    "\n",
    "Function: `qct_type2`\n",
    "\n",
    "Arguments:\n",
    "\n",
    "- `x`: `QArray[QBit]`: the quantum state on which we apply ${\\rm DCT}^{(2)}$.\n",
    "\n",
    "\n",
    "Function: `qst_type2`\n",
    "\n",
    "Arguments:\n",
    "\n",
    "- `x`: `QArray[QBit]`: the quantum state on which we apply ${\\rm DST}^{(2)}$.\n"
   ]
  },
  {
   "cell_type": "markdown",
   "id": "12",
   "metadata": {},
   "source": [
    "### Example"
   ]
  },
  {
   "cell_type": "code",
   "execution_count": 13,
   "id": "13",
   "metadata": {},
   "outputs": [],
   "source": [
    "NUM_QUBITS = 4\n",
    "cos_sin_data = np.random.rand(2 ** (NUM_QUBITS - 1))\n",
    "cos_sin_data = cos_sin_data / np.linalg.norm(cos_sin_data)"
   ]
  },
  {
   "cell_type": "code",
   "execution_count": 14,
   "id": "14",
   "metadata": {},
   "outputs": [],
   "source": [
    "@qfunc\n",
    "def main(x: Output[QNum], q: Output[QBit]):\n",
    "    prepare_amplitudes(cos_sin_data.tolist(), 0.0, x)\n",
    "    allocate(q)\n",
    "    H(q)\n",
    "    qct_qst_type2(x, q)\n",
    "\n",
    "\n",
    "qmod = create_model(main, execution_preferences=execution_preferences)\n",
    "write_qmod(qmod, \"qct_qst_type2\", decimal_precision=15)"
   ]
  },
  {
   "cell_type": "code",
   "execution_count": 15,
   "id": "15",
   "metadata": {},
   "outputs": [],
   "source": [
    "qprog = synthesize(qmod)"
   ]
  },
  {
   "cell_type": "code",
   "execution_count": 16,
   "id": "16",
   "metadata": {},
   "outputs": [],
   "source": [
    "result = execute(qprog).result_value()"
   ]
  },
  {
   "cell_type": "code",
   "execution_count": 17,
   "id": "17",
   "metadata": {},
   "outputs": [],
   "source": [
    "qct_data = np.zeros(2 ** (NUM_QUBITS - 1)).astype(complex)\n",
    "qst_data = np.zeros(2 ** (NUM_QUBITS - 1)).astype(complex)\n",
    "for sample in result.parsed_state_vector:\n",
    "    if sample.state[\"q\"] == 0:\n",
    "        qct_data[int(sample.state[\"x\"])] += sample.amplitude\n",
    "    else:\n",
    "        qst_data[int(sample.state[\"x\"])] += sample.amplitude"
   ]
  },
  {
   "cell_type": "code",
   "execution_count": 18,
   "id": "18",
   "metadata": {},
   "outputs": [],
   "source": [
    "def dct2(n):\n",
    "    dct = np.array(\n",
    "        [\n",
    "            [\n",
    "                np.cos(np.pi * j * (k + 1 / 2) / n) * (np.sqrt(1 / 2) if j == 0 else 1)\n",
    "                for j in range(n)\n",
    "            ]\n",
    "            for k in range(n)\n",
    "        ]\n",
    "    ) / np.sqrt(n / 2)\n",
    "    return dct.T\n",
    "\n",
    "\n",
    "def dst2(n):\n",
    "    dst = np.array(\n",
    "        [\n",
    "            [\n",
    "                np.sin(np.pi * (j + 1) * (k + 1 / 2) / n)\n",
    "                * (np.sqrt(1 / 2) if j == n - 1 else 1)\n",
    "                for j in range(n)\n",
    "            ]\n",
    "            for k in range(n)\n",
    "        ]\n",
    "    ) / np.sqrt(n / 2)\n",
    "    return dst.T"
   ]
  },
  {
   "cell_type": "code",
   "execution_count": 19,
   "id": "19",
   "metadata": {},
   "outputs": [
    {
     "name": "stdout",
     "output_type": "stream",
     "text": [
      "measured result: [ 0.65104654 -0.23305325 -0.11473439  0.02595719 -0.04930425  0.03323495\n",
      "  0.06553173  0.01252819]\n",
      "expected result: [ 0.65104654 -0.23305325 -0.11473439  0.02595719 -0.04930425  0.03323495\n",
      "  0.06553173  0.01252819]\n"
     ]
    }
   ],
   "source": [
    "global_phase = np.exp(1j * np.angle(qct_data[0]))\n",
    "measured_cos_res = np.real(qct_data / global_phase)\n",
    "expected_cos_res = (dct2(2 ** (NUM_QUBITS - 1)) @ cos_sin_data) / np.sqrt(2)\n",
    "print(\"measured result:\", measured_cos_res)\n",
    "print(\"expected result:\", expected_cos_res)\n",
    "\n",
    "assert np.allclose(measured_cos_res, expected_cos_res, atol=0.01)"
   ]
  },
  {
   "cell_type": "code",
   "execution_count": 20,
   "id": "20",
   "metadata": {},
   "outputs": [
    {
     "name": "stdout",
     "output_type": "stream",
     "text": [
      "measured result: [ 0.63981132 -0.2180174   0.13530848 -0.08552637  0.02796936 -0.03450769\n",
      "  0.12370004 -0.01455965]\n",
      "expected result: [ 0.63981132 -0.2180174   0.13530848 -0.08552637  0.02796936 -0.03450769\n",
      "  0.12370004 -0.01455965]\n"
     ]
    }
   ],
   "source": [
    "global_phase = np.exp(1j * np.angle(qst_data[0]))\n",
    "measured_sin_res = np.real(qst_data / global_phase)\n",
    "expected_sin_res = (dst2(2 ** (NUM_QUBITS - 1)) @ cos_sin_data) / np.sqrt(2)\n",
    "print(\"measured result:\", measured_sin_res)\n",
    "print(\"expected result:\", expected_sin_res)\n",
    "\n",
    "assert np.allclose(measured_sin_res, expected_sin_res, atol=0.01)"
   ]
  },
  {
   "cell_type": "code",
   "execution_count": 22,
   "id": "21",
   "metadata": {},
   "outputs": [
    {
     "name": "stdout",
     "output_type": "stream",
     "text": [
      "measured result: [ 0.92071884 -0.32958707 -0.16225893  0.03670901 -0.06972674  0.04700132\n",
      "  0.09267587  0.01771754]\n",
      "expected result: [ 0.92071884 -0.32958707 -0.16225893  0.03670901 -0.06972674  0.04700132\n",
      "  0.09267587  0.01771754]\n"
     ]
    }
   ],
   "source": [
    "@qfunc\n",
    "def main(x: Output[QNum]):\n",
    "    prepare_amplitudes(cos_sin_data.tolist(), 0.0, x)\n",
    "    qct_type2(x)\n",
    "\n",
    "\n",
    "qmod = create_model(main, execution_preferences=execution_preferences)\n",
    "write_qmod(qmod, \"qct_type2\", decimal_precision=15)\n",
    "\n",
    "qprog = synthesize(qmod)\n",
    "\n",
    "result = execute(qprog).result_value()\n",
    "qct_data = np.zeros(2 ** (NUM_QUBITS - 1)).astype(complex)\n",
    "\n",
    "for sample in result.parsed_state_vector:\n",
    "    qct_data[int(sample.state[\"x\"])] += sample.amplitude\n",
    "\n",
    "global_phase = np.exp(1j * np.angle(qct_data[0]))\n",
    "measured_cos_res = np.real(qct_data / global_phase)\n",
    "expected_cos_res = dct2(2 ** (NUM_QUBITS - 1)) @ cos_sin_data\n",
    "print(\"measured result:\", measured_cos_res)\n",
    "print(\"expected result:\", expected_cos_res)\n",
    "\n",
    "assert np.allclose(measured_cos_res, expected_cos_res, atol=0.01)"
   ]
  },
  {
   "cell_type": "code",
   "execution_count": 24,
   "id": "22",
   "metadata": {},
   "outputs": [
    {
     "name": "stdout",
     "output_type": "stream",
     "text": [
      "measured result: [ 0.90482984 -0.30832317  0.19135509 -0.12095255  0.03955464 -0.04880124\n",
      "  0.17493827 -0.02059046]\n",
      "expected result: [ 0.90482984 -0.30832317  0.19135509 -0.12095255  0.03955464 -0.04880124\n",
      "  0.17493827 -0.02059046]\n"
     ]
    }
   ],
   "source": [
    "@qfunc\n",
    "def main(x: Output[QNum]):\n",
    "    prepare_amplitudes(cos_sin_data.tolist(), 0.0, x)\n",
    "    qst_type2(x)\n",
    "\n",
    "\n",
    "qmod = create_model(main, execution_preferences=execution_preferences)\n",
    "write_qmod(qmod, \"qst_type2\", decimal_precision=15)\n",
    "\n",
    "qprog = synthesize(qmod)\n",
    "result = execute(qprog).result_value()\n",
    "qst_data = np.zeros(2 ** (NUM_QUBITS - 1)).astype(complex)\n",
    "\n",
    "for sample in result.parsed_state_vector:\n",
    "    qst_data[int(sample.state[\"x\"])] += sample.amplitude\n",
    "\n",
    "global_phase = np.exp(1j * np.angle(qst_data[0]))\n",
    "measured_sin_res = np.real(qst_data / global_phase)\n",
    "expected_sin_res = dst2(2 ** (NUM_QUBITS - 1)) @ cos_sin_data\n",
    "print(\"measured result:\", measured_sin_res)\n",
    "print(\"expected result:\", expected_sin_res)\n",
    "\n",
    "assert np.allclose(measured_sin_res, expected_sin_res, atol=0.01)"
   ]
  },
  {
   "cell_type": "markdown",
   "id": "23",
   "metadata": {},
   "source": [
    "## References\n",
    "\n",
    "<a id='QCST'>[1]</a>: [Klappenecker, A., & Rotteler M., \"Discrete Cosine Transforms on Quantum Computers\".](https://arxiv.org/abs/quant-ph/0111038)"
   ]
  }
 ],
 "metadata": {
  "kernelspec": {
   "display_name": "Python 3 (ipykernel)",
   "language": "python",
   "name": "python3"
  },
  "language_info": {
   "codemirror_mode": {
    "name": "ipython",
    "version": 3
   },
   "file_extension": ".py",
   "mimetype": "text/x-python",
   "name": "python",
   "nbconvert_exporter": "python",
   "pygments_lexer": "ipython3",
   "version": "3.11.4"
  }
 },
 "nbformat": 4,
 "nbformat_minor": 9
}
