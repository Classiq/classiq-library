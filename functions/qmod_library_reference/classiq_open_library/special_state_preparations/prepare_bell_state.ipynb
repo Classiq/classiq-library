{
 "cells": [
  {
   "cell_type": "markdown",
   "id": "0",
   "metadata": {},
   "source": [
    "# Bell State Preparation\n",
    "\n",
    "The `prepare_bell_state` function creates one of the four Bell states\n",
    "\n",
    "$$\n",
    "\\phi_{+} = \\frac{1}{2} \\left(|00\\rangle + |11\\rangle \\right)\n",
    "$$\n",
    "\n",
    "$$\n",
    "\\phi_{-} = \\frac{1}{2} \\left(|00\\rangle - |11\\rangle \\right)\n",
    "$$\n",
    "\n",
    "$$\n",
    "\\psi_{+} = \\frac{1}{2} \\left(|01\\rangle + |10\\rangle \\right)\n",
    "$$\n",
    "\n",
    "$$\n",
    "\\psi_{-} = \\frac{1}{2} \\left(|01\\rangle - |10\\rangle \\right)\n",
    "$$"
   ]
  },
  {
   "cell_type": "markdown",
   "id": "1",
   "metadata": {},
   "source": [
    "Function: `prepare_bell_state`\n",
    "\n",
    "Arguments:\n",
    "\n",
    "- `state_num: CInt`\n",
    "- `q: Output[QArray[QBit]]`"
   ]
  },
  {
   "cell_type": "markdown",
   "id": "2",
   "metadata": {},
   "source": [
    "## Example\n",
    "The `prepare_bell_state` function creates \n",
    "\n",
    "$$\n",
    "\\psi_{+} = \\frac{1}{2} \\left(|01\\rangle + |10\\rangle \\right)\n",
    "$$\n",
    "\n",
    "`state_num` is set to 2"
   ]
  },
  {
   "cell_type": "code",
   "execution_count": 1,
   "id": "3",
   "metadata": {},
   "outputs": [],
   "source": [
    "from classiq import *\n",
    "\n",
    "\n",
    "@qfunc\n",
    "def main(x: Output[QArray[QBit]]):\n",
    "    prepare_bell_state(2, x)\n",
    "\n",
    "\n",
    "qmod = create_model(main, out_file=\"prepare_bell_state\")"
   ]
  },
  {
   "cell_type": "code",
   "execution_count": 2,
   "id": "4",
   "metadata": {},
   "outputs": [],
   "source": [
    "qprog = synthesize(qmod)"
   ]
  }
 ],
 "metadata": {
  "kernelspec": {
   "display_name": "Python 3 (ipykernel)",
   "language": "python",
   "name": "python3"
  },
  "language_info": {
   "codemirror_mode": {
    "name": "ipython",
    "version": 3
   },
   "file_extension": ".py",
   "mimetype": "text/x-python",
   "name": "python",
   "nbconvert_exporter": "python",
   "pygments_lexer": "ipython3",
   "version": "3.11.9"
  }
 },
 "nbformat": 4,
 "nbformat_minor": 9
}
