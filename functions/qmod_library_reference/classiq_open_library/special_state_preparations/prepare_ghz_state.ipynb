{
 "cells": [
  {
   "cell_type": "markdown",
   "id": "0",
   "metadata": {},
   "source": [
    "# GHZ State Preparation"
   ]
  },
  {
   "cell_type": "markdown",
   "id": "1",
   "metadata": {},
   "source": [
    "Use the `prepare_ghz_state` function to create a Greenberger-Horne-Zeilinger (GHZ) state.\n",
    "i.e., a balanced superposition of all ones and all zeros, on an arbitrary number of qubits."
   ]
  },
  {
   "cell_type": "markdown",
   "id": "2",
   "metadata": {},
   "source": [
    "## Syntax"
   ]
  },
  {
   "cell_type": "markdown",
   "id": "3",
   "metadata": {},
   "source": [
    "Function: `prepare_ghz_state`\n",
    "\n",
    "Arguments:\n",
    "\n",
    "- `size: CInt`\n",
    "- `q: Output[QArray[QBit]]`"
   ]
  },
  {
   "cell_type": "markdown",
   "id": "4",
   "metadata": {},
   "source": [
    "## Example\n",
    "`prepare_ghz_state` on 5 qubits\n"
   ]
  },
  {
   "cell_type": "code",
   "execution_count": 1,
   "id": "5",
   "metadata": {},
   "outputs": [],
   "source": [
    "from classiq import *\n",
    "\n",
    "\n",
    "@qfunc\n",
    "def main(x: Output[QArray[QBit]]):\n",
    "    prepare_ghz_state(5, x)\n",
    "\n",
    "\n",
    "qmod = create_model(main, out_file=\"prepare_ghz_state\")"
   ]
  },
  {
   "cell_type": "code",
   "execution_count": 2,
   "id": "6",
   "metadata": {},
   "outputs": [],
   "source": [
    "qprog = synthesize(qmod)"
   ]
  }
 ],
 "metadata": {
  "kernelspec": {
   "display_name": "Python 3 (ipykernel)",
   "language": "python",
   "name": "python3"
  },
  "language_info": {
   "codemirror_mode": {
    "name": "ipython",
    "version": 3
   },
   "file_extension": ".py",
   "mimetype": "text/x-python",
   "name": "python",
   "nbconvert_exporter": "python",
   "pygments_lexer": "ipython3",
   "version": "3.11.4"
  }
 },
 "nbformat": 4,
 "nbformat_minor": 9
}
