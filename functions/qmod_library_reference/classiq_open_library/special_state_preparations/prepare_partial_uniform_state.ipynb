{
 "cells": [
  {
   "cell_type": "markdown",
   "id": "b9238b75-f1ea-4e1f-bbea-757346913a15",
   "metadata": {},
   "source": [
    "# Partial Uniform State Preparations\n",
    "\n",
    "The functions `prepare_uniform_trimmed_state` and `prepare_uniform_interval_state` create states with uniform superposition over a discrete interval of the possible states.\n",
    "Both scale polynomially with the number of qubits.\n",
    "\n",
    "## Uniform Trimmed State\n",
    "Function: `prepare_uniform_trimmed_state`\n",
    "\n",
    "Arguments:\n",
    "\n",
    "- `m: CInt` - number of states to load.\n",
    "- `q: QArray[QBit]` - quantum variable to load the state into.\n",
    "\n",
    "The function loads the following superposition:\n",
    "$$ |\\psi\\rangle = \\frac{1}{\\sqrt{m}}\\sum_{i=0}^{m-1}{|i\\rangle}$$"
   ]
  },
  {
   "cell_type": "markdown",
   "id": "a24ff275-0021-4402-9349-cc0ef02761ac",
   "metadata": {},
   "source": [
    "### Example\n",
    "\n",
    "Prepare the following state on a variable of size 4 qubits.:\n",
    "$$ |\\psi\\rangle = \\frac{1}{\\sqrt{3}}\\sum_{i=0}^{2}{|i\\rangle}$$"
   ]
  },
  {
   "cell_type": "code",
   "execution_count": 1,
   "id": "d2e301e1-0908-4c54-a4a2-ac847f21570c",
   "metadata": {
    "execution": {
     "iopub.execute_input": "2024-07-31T12:18:03.473063Z",
     "iopub.status.busy": "2024-07-31T12:18:03.472834Z",
     "iopub.status.idle": "2024-07-31T12:18:08.708258Z",
     "shell.execute_reply": "2024-07-31T12:18:08.707616Z"
    }
   },
   "outputs": [],
   "source": [
    "import matplotlib.pyplot as plt\n",
    "\n",
    "from classiq import *\n",
    "\n",
    "\n",
    "@qfunc\n",
    "def main(x: Output[QNum]):\n",
    "    allocate(4, x)\n",
    "    prepare_uniform_trimmed_state(3, x)\n",
    "\n",
    "\n",
    "qmod = create_model(main)\n",
    "write_qmod(qmod, \"prepare_uniform_trimmed_state\")\n",
    "qprog = synthesize(qmod)"
   ]
  },
  {
   "cell_type": "code",
   "execution_count": 2,
   "id": "8781b088-2dae-4a2e-a0f6-db9e61140bfe",
   "metadata": {
    "execution": {
     "iopub.execute_input": "2024-07-31T12:18:08.711202Z",
     "iopub.status.busy": "2024-07-31T12:18:08.710654Z",
     "iopub.status.idle": "2024-07-31T12:18:10.123211Z",
     "shell.execute_reply": "2024-07-31T12:18:10.122347Z"
    }
   },
   "outputs": [],
   "source": [
    "res = execute(qprog).result()\n",
    "counts = res[0].value.parsed_counts"
   ]
  },
  {
   "cell_type": "code",
   "execution_count": 3,
   "id": "ee2d82bc-1655-4d27-99a6-a7f30c8700d2",
   "metadata": {
    "execution": {
     "iopub.execute_input": "2024-07-31T12:18:10.128108Z",
     "iopub.status.busy": "2024-07-31T12:18:10.126996Z",
     "iopub.status.idle": "2024-07-31T12:18:10.366268Z",
     "shell.execute_reply": "2024-07-31T12:18:10.365494Z"
    },
    "scrolled": true
   },
   "outputs": [
    {
     "data": {
      "text/plain": [
       "Text(0, 0.5, 'shots')"
      ]
     },
     "execution_count": 3,
     "metadata": {},
     "output_type": "execute_result"
    },
    {
     "data": {
      "image/png": "[encoded data removed]",
      "text/plain": [
       "<Figure size 400x300 with 1 Axes>"
      ]
     },
     "metadata": {},
     "output_type": "display_data"
    }
   ],
   "source": [
    "plt.figure(figsize=(4, 3))\n",
    "plt.bar(\n",
    "    [c.state[\"x\"] for c in counts],\n",
    "    [c.shots for c in counts],\n",
    "    color=\"skyblue\",\n",
    "    edgecolor=\"black\",\n",
    ")\n",
    "plt.xlabel(\"state\")\n",
    "plt.ylabel(\"shots\")"
   ]
  },
  {
   "cell_type": "markdown",
   "id": "b6ac3d05-e69e-436a-920c-11cf2029d84e",
   "metadata": {},
   "source": [
    "## Uniform Interval State\n",
    "\n",
    "Function: `prepare_uniform_interval_state`\n",
    "\n",
    "Arguments:\n",
    "\n",
    "- `start: CInt` - first state to be loaded.\n",
    "- `end: CInt` - boundary of the loaded states (not including).\n",
    "- `q: QArray[QBit]` - quantum variable to load the state into.\n",
    "\n",
    "The function loads the following superposition:\n",
    "$$ |\\psi\\rangle = \\frac{1}{\\sqrt{end-start}}\\sum_{i=start}^{end-1}{|i\\rangle}$$"
   ]
  },
  {
   "cell_type": "markdown",
   "id": "b060df28-f230-4a7c-8914-4f22085b32bd",
   "metadata": {},
   "source": [
    "### Example\n",
    "\n",
    "Prepare the following state on a variable of size 5 qubits.:\n",
    "$$ |\\psi\\rangle = \\frac{1}{\\sqrt{6}}\\sum_{i=2}^{7}{|i\\rangle}$$"
   ]
  },
  {
   "cell_type": "code",
   "execution_count": 4,
   "id": "5752cf71-1d39-4b37-88de-0acf42ade6be",
   "metadata": {
    "execution": {
     "iopub.execute_input": "2024-07-31T12:18:10.371152Z",
     "iopub.status.busy": "2024-07-31T12:18:10.369911Z",
     "iopub.status.idle": "2024-07-31T12:18:12.531870Z",
     "shell.execute_reply": "2024-07-31T12:18:12.531246Z"
    }
   },
   "outputs": [],
   "source": [
    "import matplotlib.pyplot as plt\n",
    "\n",
    "from classiq import *\n",
    "\n",
    "\n",
    "@qfunc\n",
    "def main(x: Output[QNum]):\n",
    "    allocate(5, x)\n",
    "    prepare_uniform_interval_state(2, 8, x)\n",
    "\n",
    "\n",
    "qmod = create_model(main)\n",
    "write_qmod(qmod, \"prepare_uniform_interval_state\")\n",
    "qprog = synthesize(qmod)"
   ]
  },
  {
   "cell_type": "code",
   "execution_count": 5,
   "id": "03e157d0-b83c-495f-83b2-a20e0330c30a",
   "metadata": {
    "execution": {
     "iopub.execute_input": "2024-07-31T12:18:12.534825Z",
     "iopub.status.busy": "2024-07-31T12:18:12.534205Z",
     "iopub.status.idle": "2024-07-31T12:18:14.849868Z",
     "shell.execute_reply": "2024-07-31T12:18:14.849106Z"
    }
   },
   "outputs": [],
   "source": [
    "res = execute(qprog).result()\n",
    "counts = res[0].value.parsed_counts"
   ]
  },
  {
   "cell_type": "code",
   "execution_count": 6,
   "id": "c10e92bb-825d-4dbe-bd86-304404d0b2e7",
   "metadata": {
    "execution": {
     "iopub.execute_input": "2024-07-31T12:18:14.855006Z",
     "iopub.status.busy": "2024-07-31T12:18:14.853770Z",
     "iopub.status.idle": "2024-07-31T12:18:15.102803Z",
     "shell.execute_reply": "2024-07-31T12:18:15.102096Z"
    },
    "scrolled": true
   },
   "outputs": [
    {
     "data": {
      "text/plain": [
       "Text(0, 0.5, 'shots')"
      ]
     },
     "execution_count": 6,
     "metadata": {},
     "output_type": "execute_result"
    },
    {
     "data": {
      "image/png": "[encoded data removed]",
      "text/plain": [
       "<Figure size 500x300 with 1 Axes>"
      ]
     },
     "metadata": {},
     "output_type": "display_data"
    }
   ],
   "source": [
    "plt.figure(figsize=(5, 3))\n",
    "plt.bar(\n",
    "    [c.state[\"x\"] for c in counts],\n",
    "    [c.shots for c in counts],\n",
    "    color=\"skyblue\",\n",
    "    edgecolor=\"black\",\n",
    ")\n",
    "plt.xlabel(\"state\")\n",
    "plt.ylabel(\"shots\")"
   ]
  }
 ],
 "metadata": {
  "kernelspec": {
   "display_name": "Python 3 (ipykernel)",
   "language": "python",
   "name": "python3"
  },
  "language_info": {
   "codemirror_mode": {
    "name": "ipython",
    "version": 3
   },
   "file_extension": ".py",
   "mimetype": "text/x-python",
   "name": "python",
   "nbconvert_exporter": "python",
   "pygments_lexer": "ipython3",
   "version": "3.11.9"
  }
 },
 "nbformat": 4,
 "nbformat_minor": 5
}
