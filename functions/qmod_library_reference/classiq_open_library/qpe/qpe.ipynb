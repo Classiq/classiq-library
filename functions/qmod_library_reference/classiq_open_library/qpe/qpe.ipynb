{
 "cells": [
  {
   "cell_type": "markdown",
   "id": "0",
   "metadata": {},
   "source": [
    "# Quantum Phase Estimation\n",
    "\n",
    "The quantum phase estimation (QPE) function estimates the phase of an eigenvector of a unitary function.\n",
    "More precisely, given a unitary function $F$ and an input containing a quantum variable with a state $|\\psi\\rangle$ such that $F(|\\psi\\rangle)=e^{2\\pi i\\nu}|\\psi\\rangle$,\n",
    "the phase estimation function outputs an estimation of $\\nu$ as a fixed-point binary number.\n",
    "\n",
    "Phase estimation is frequently used as a subroutine in other quantum algorithms such as Shor's algorithm and quantum algorithms for solving linear systems of equations (HHL algorithm).\n",
    "Theoretical details are in Ref. [[1]](#1)."
   ]
  },
  {
   "cell_type": "markdown",
   "id": "1",
   "metadata": {},
   "source": [
    "Function: `qpe`\n",
    "\n",
    "Arguments:\n",
    "\n",
    "- `unitary: QCallable` - The unitary operation for which the qpe estimation the eigenvalues\n",
    "- `phase: QNum` - The output of the qpe, holding the phase as a number in the range $[0, 1)$\n",
    "\n",
    "Function: `qpe_flexible`\n",
    "\n",
    "The function is suitalbe when wants to specialize the way the power of a unitary is defined, other than using the naive power. For example it can used with exponentiaing hamiltonians or for shor's algorithm.\n",
    "\n",
    "Arguments:\n",
    "\n",
    "- `unitary_with_power: QCallable[CInt]` - Power of a unitary. Accepts as argument the power of the unitary to apply.\n",
    "- `phase: QNum`"
   ]
  },
  {
   "cell_type": "markdown",
   "id": "2",
   "metadata": {},
   "source": [
    "## Examples\n",
    "\n",
    "### Example 1: QPE of a function\n",
    "\n",
    "This example shows how to perform a simple phase estimation:\n",
    "\n",
    "1. Initialize the state $|3\\rangle$ over two qubits.\n",
    "2. Apply a phase estimation on the the controlled-RZ gate, represeneted by the unitary matrix:\n",
    "\n",
    "$$\n",
    "\\begin{pmatrix}\n",
    "1 & 0 & 0 & 0 \\\\\n",
    "0 & e^{-i\\frac{\\lambda}{2}} & 0 & 0 \\\\\n",
    "0 & 0 & 1 & 0 \\\\\n",
    "0 & 0 & 0 & e^{i\\frac{\\lambda}{2}}\n",
    "\\end{pmatrix}\n",
    "$$\n",
    "\n",
    "The expected phase variable should encode $\\frac{\\lambda}{4\\pi}$, the phase of the eigenvalue of the $|3\\rangle$ state.\n",
    "Choosing $\\lambda = \\pi$, the expected result is $\\frac{1}{4}$, represented in binary by `01`."
   ]
  },
  {
   "cell_type": "code",
   "execution_count": 1,
   "id": "3",
   "metadata": {},
   "outputs": [],
   "source": [
    "from classiq import *\n",
    "from classiq.qmod.symbolic import pi\n",
    "\n",
    "QPE_RESOLUTION = 2\n",
    "\n",
    "\n",
    "@qfunc\n",
    "def main(\n",
    "    state: Output[QArray[QBit]],\n",
    "    phase: Output[QNum[QPE_RESOLUTION, UNSIGNED, QPE_RESOLUTION]],\n",
    "):\n",
    "    allocate(phase)\n",
    "    allocate(2, state)\n",
    "\n",
    "    X(state[0])\n",
    "    X(state[1])\n",
    "\n",
    "    qpe(unitary=lambda: CRZ(pi, state[0], state[1]), phase=phase)\n",
    "\n",
    "\n",
    "qmod = create_model(main, out_file=\"qpe\")"
   ]
  },
  {
   "cell_type": "code",
   "execution_count": 2,
   "id": "4",
   "metadata": {},
   "outputs": [],
   "source": [
    "qprog = synthesize(qmod)"
   ]
  },
  {
   "cell_type": "markdown",
   "id": "5",
   "metadata": {},
   "source": [
    "Show the actual results:"
   ]
  },
  {
   "cell_type": "code",
   "execution_count": 3,
   "id": "6",
   "metadata": {},
   "outputs": [
    {
     "name": "stdout",
     "output_type": "stream",
     "text": [
      "Results: [{'state': [1, 1], 'phase': 0.25}: 2048]\n"
     ]
    }
   ],
   "source": [
    "result = execute(qprog).result_value()\n",
    "print(\"Results:\", result.parsed_counts)"
   ]
  },
  {
   "cell_type": "markdown",
   "id": "7",
   "metadata": {},
   "source": [
    "### Example 2: Flexible QPE\n",
    "\n",
    "The following examples will specifiy directly how to take powers in the QPE. The unitary function is `suzuki_trotter`, where the number of repetitions will be 1. In the case of diagonal hamiltonian it be exact exponentiation of the hamiltoian.\n",
    "\n",
    "Take the following matrix:\n",
    "$$\n",
    "\\begin{pmatrix}\n",
    "0 & 0 & 0 & 0 \\\\\n",
    "0 & \\tfrac{1}{4} & 0 & 0 \\\\\n",
    "0 & 0 & \\tfrac{1}{2} & 0 \\\\\n",
    "0 & 0 & 0 & \\tfrac{3}{4} \\\\\n",
    "\\end{pmatrix}\n",
    "$$\n",
    "\n",
    "Represented by the hamiltonian:\n",
    "\n",
    "$H = -\\frac{1}{8}Z_0I_1 - \\frac{1}{4}I_0Z_1 + \\frac{3}{8}I_0I_1$"
   ]
  },
  {
   "cell_type": "code",
   "execution_count": 4,
   "id": "8",
   "metadata": {},
   "outputs": [],
   "source": [
    "QPE_RESOLUTION = 2\n",
    "\n",
    "HAMILTONIAN = [\n",
    "    PauliTerm(pauli=[Pauli.I, Pauli.Z], coefficient=-0.125),\n",
    "    PauliTerm(pauli=[Pauli.Z, Pauli.I], coefficient=-0.25),\n",
    "    PauliTerm(pauli=[Pauli.I, Pauli.I], coefficient=0.375),\n",
    "]\n",
    "\n",
    "\n",
    "@qfunc\n",
    "def main(\n",
    "    state: Output[QArray[QBit]],\n",
    "    phase: Output[QNum[QPE_RESOLUTION, UNSIGNED, QPE_RESOLUTION]],\n",
    "):\n",
    "    allocate(2, state)\n",
    "    allocate(phase)\n",
    "\n",
    "    hadamard_transform(state)\n",
    "    qpe_flexible(\n",
    "        lambda power: suzuki_trotter(\n",
    "            HAMILTONIAN,\n",
    "            evolution_coefficient=-2 * pi * (power),\n",
    "            order=1,\n",
    "            repetitions=1,\n",
    "            qbv=state,\n",
    "        ),\n",
    "        phase,\n",
    "    )\n",
    "\n",
    "\n",
    "qmod = create_model(main, out_file=\"qpe_flexible\")"
   ]
  },
  {
   "cell_type": "code",
   "execution_count": 5,
   "id": "9",
   "metadata": {},
   "outputs": [],
   "source": [
    "qprog = synthesize(qmod)"
   ]
  },
  {
   "cell_type": "markdown",
   "id": "10",
   "metadata": {},
   "source": [
    "Show the actual results:"
   ]
  },
  {
   "cell_type": "code",
   "execution_count": 6,
   "id": "11",
   "metadata": {},
   "outputs": [
    {
     "name": "stdout",
     "output_type": "stream",
     "text": [
      "Results: [{'state': [0, 0], 'phase': 0.0}: 554, {'state': [1, 1], 'phase': 0.75}: 517, {'state': [1, 0], 'phase': 0.25}: 516, {'state': [0, 1], 'phase': 0.5}: 461]\n"
     ]
    }
   ],
   "source": [
    "result = execute(qprog).result_value()\n",
    "print(\"Results:\", result.parsed_counts)"
   ]
  },
  {
   "cell_type": "markdown",
   "id": "12",
   "metadata": {},
   "source": [
    "## References\n",
    "\n",
    "<a name=\"1\">[1]</a> A. Yu. Kitaev Barenco et al, Quantum Measurements and the Abelian Stabilizer Problem,\n",
    "(1995). https://doi.org/10.48550/arXiv.quant-ph/9511026"
   ]
  }
 ],
 "metadata": {
  "kernelspec": {
   "display_name": "Python 3 (ipykernel)",
   "language": "python",
   "name": "python3"
  },
  "language_info": {
   "codemirror_mode": {
    "name": "ipython",
    "version": 3
   },
   "file_extension": ".py",
   "mimetype": "text/x-python",
   "name": "python",
   "nbconvert_exporter": "python",
   "pygments_lexer": "ipython3",
   "version": "3.11.4"
  }
 },
 "nbformat": 4,
 "nbformat_minor": 9
}
