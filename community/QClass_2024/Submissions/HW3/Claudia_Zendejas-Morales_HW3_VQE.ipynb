{
 "cells": [
  {
   "cell_type": "markdown",
   "id": "fc72d98f-8993-4bd4-a545-23d122f3df71",
   "metadata": {},
   "source": [
    "# H\u2082 Molecule Homework Assignment\n",
    "### Quantum Software Development Journey: From Theory to Application with Classiq - Part 3\n",
    "\n",
    "- Similarly to what we have done in class, in this exercise we will implement the VQE on H2 molecule.\n",
    "- This time instead of using the built-in methods and functions (such as `Molecule` and `MoleculeProblem`) to difne and solve the problem, you will be provided with a two qubits Hamiltonian."
   ]
  },
  {
   "cell_type": "markdown",
   "id": "56eda6d8-76c4-4862-b914-0c4598d67274",
   "metadata": {},
   "source": [
    "## Submission\n",
    "- Submit the completed Jupyter notebook and report via GitHub. Ensure all files are correctly named and organized.\n",
    "- Use the Typeform link provided in the submission folder to confirm your submission.\n",
    "\n",
    "## Additional Resources\n",
    "- [Classiq Documentation](https://docs.classiq.io/latest/)\n",
    "- The notebook from live session #3\n",
    "\n",
    "## Important Dates\n",
    "- **Assignment Release:** 22.5.2024\n",
    "- **Submission Deadline:** 3.6.2024 (7 A.M GMT+3)\n",
    "\n",
    "---\n",
    "\n",
    "Happy coding and good luck!"
   ]
  },
  {
   "cell_type": "markdown",
   "id": "d41e969d-f6a7-4ff7-9660-19ce6c97ba6b",
   "metadata": {},
   "source": [
    "### Part 1"
   ]
  },
  {
   "cell_type": "markdown",
   "id": "f710d6f4-d40b-42d5-b524-c6acb8059fe2",
   "metadata": {},
   "source": [
    "Given the following Hamiltonian:"
   ]
  },
  {
   "cell_type": "markdown",
   "id": "6ba8a6f1-3259-4492-a1ca-3abde7530cd4",
   "metadata": {},
   "source": [
    "$$\n",
    "\\hat{H} = -1.0523 \\cdot (I \\otimes I) + 0.3979 \\cdot (I \\otimes Z) - 0.3979 \\cdot (Z \\otimes I) - 0.0112 \\cdot (Z \\otimes Z) + 0.1809 \\cdot (X \\otimes X)\n",
    "$$"
   ]
  },
  {
   "cell_type": "markdown",
   "id": "736d275c-9a5a-4c08-b891-3078430dc6c1",
   "metadata": {},
   "source": [
    "Complete the following code"
   ]
  },
  {
   "cell_type": "code",
   "execution_count": 1,
   "id": "19266c11-6acc-4edb-910f-2d0dfe80a6c8",
   "metadata": {
    "execution": {
     "iopub.execute_input": "2024-07-31T08:47:44.502637Z",
     "iopub.status.busy": "2024-07-31T08:47:44.501419Z",
     "iopub.status.idle": "2024-07-31T08:47:47.469792Z",
     "shell.execute_reply": "2024-07-31T08:47:47.468999Z"
    }
   },
   "outputs": [],
   "source": [
    "from typing import List\n",
    "\n",
    "from classiq import *\n",
    "\n",
    "# Define Hamiltonian\n",
    "HAMILTONIAN = QConstant(\n",
    "    \"HAMILTONIAN\",\n",
    "    List[PauliTerm],\n",
    "    [\n",
    "        PauliTerm(pauli=[Pauli.I, Pauli.I], coefficient=-1.0523),\n",
    "        PauliTerm(pauli=[Pauli.I, Pauli.Z], coefficient=0.3979),\n",
    "        PauliTerm(pauli=[Pauli.Z, Pauli.I], coefficient=-0.3979),\n",
    "        PauliTerm(pauli=[Pauli.Z, Pauli.Z], coefficient=-0.0112),\n",
    "        PauliTerm(pauli=[Pauli.X, Pauli.X], coefficient=0.1809),\n",
    "    ],\n",
    ")"
   ]
  },
  {
   "cell_type": "code",
   "execution_count": 2,
   "id": "0bb68899-2076-45c0-8868-131f38aa3b78",
   "metadata": {
    "execution": {
     "iopub.execute_input": "2024-07-31T08:47:47.475073Z",
     "iopub.status.busy": "2024-07-31T08:47:47.473559Z",
     "iopub.status.idle": "2024-07-31T08:47:51.130861Z",
     "shell.execute_reply": "2024-07-31T08:47:51.130266Z"
    }
   },
   "outputs": [
    {
     "name": "stdout",
     "output_type": "stream",
     "text": [
      "Opening: https://platform.classiq.io/circuit/97f9dcda-b04f-4073-adc0-77d8934cf05e?version=0.45.0.dev0%2Bcf1b9b7ccc\n"
     ]
    }
   ],
   "source": [
    "@qfunc\n",
    "def main(q: Output[QArray[QBit]], angles: CArray[CReal, 3]) -> None:\n",
    "    # Create an ansatz which allows each qubit to have arbitrary rotation\n",
    "    allocate(2, q)\n",
    "    U(angles[0], angles[1], angles[2], 0, q[0])\n",
    "    U(angles[0], angles[1], angles[2], 0, q[1])\n",
    "\n",
    "\n",
    "@cfunc\n",
    "def cmain() -> None:\n",
    "    res = vqe(\n",
    "        HAMILTONIAN,\n",
    "        False,\n",
    "        [],\n",
    "        optimizer=Optimizer.COBYLA,\n",
    "        max_iteration=1000,\n",
    "        tolerance=0.001,\n",
    "        step_size=0,\n",
    "        skip_compute_variance=False,\n",
    "        alpha_cvar=1.0,\n",
    "    )\n",
    "    save({\"result\": res})\n",
    "\n",
    "\n",
    "qmod = create_model(\n",
    "    main, classical_execution_function=cmain\n",
    ")  # complete the line, use classical_execution_function\n",
    "qprog = synthesize(qmod)\n",
    "show(qprog)"
   ]
  },
  {
   "cell_type": "code",
   "execution_count": 3,
   "id": "0563c1a8-7aec-4da9-9105-6b16c5c24382",
   "metadata": {
    "execution": {
     "iopub.execute_input": "2024-07-31T08:47:51.134079Z",
     "iopub.status.busy": "2024-07-31T08:47:51.133440Z",
     "iopub.status.idle": "2024-07-31T08:47:57.673849Z",
     "shell.execute_reply": "2024-07-31T08:47:57.673130Z"
    }
   },
   "outputs": [],
   "source": [
    "execution = execute(qprog)\n",
    "res = execution.result()\n",
    "# execution.open_in_ide()\n",
    "vqe_result = res[0].value"
   ]
  },
  {
   "cell_type": "code",
   "execution_count": 4,
   "id": "de17cfc0-8e64-4493-b4c2-4a97fc9797a0",
   "metadata": {
    "execution": {
     "iopub.execute_input": "2024-07-31T08:47:57.678946Z",
     "iopub.status.busy": "2024-07-31T08:47:57.677537Z",
     "iopub.status.idle": "2024-07-31T08:47:57.684461Z",
     "shell.execute_reply": "2024-07-31T08:47:57.683761Z"
    }
   },
   "outputs": [
    {
     "name": "stdout",
     "output_type": "stream",
     "text": [
      "Optimal energy: -1.0683134\n",
      "Optimal parameters: {'angles_param_0': -2.698051099401353, 'angles_param_1': -1.7402216341214327, 'angles_param_2': -3.1713487347015272}\n",
      "Eigenstate: {'00': (0.03162277660168379+0j), '10': (0.20493901531919198+0j), '01': (0.216794833886788+0j), '11': (0.9539392014169457+0j)}\n"
     ]
    }
   ],
   "source": [
    "print(f\"Optimal energy: {vqe_result.energy}\")\n",
    "print(f\"Optimal parameters: {vqe_result.optimal_parameters}\")\n",
    "print(f\"Eigenstate: {vqe_result.eigenstate}\")"
   ]
  },
  {
   "cell_type": "markdown",
   "id": "5df11dfc-3e3a-4191-bd47-d522ca3dcbfa",
   "metadata": {},
   "source": [
    "Does it similar to the `optimal energy` we calculated in class? \\\n",
    "Does it similar to the `total energy` we calculated in class?"
   ]
  },
  {
   "cell_type": "markdown",
   "id": "c9563442-8e14-407c-95c7-a8bfa9e0f130",
   "metadata": {},
   "source": [
    "<div class=\"alert alert-block alert-info\">\n",
    "<strong>My answers</strong>: <br/><br/><br/>\n",
    "\n",
    "**Does it similar to the `optimal energy` we calculated in class?**:\n",
    "\n",
    "No, the `optimal energy` is not similar to the one calculated in class (with the help of the `Molecule` and `MoleculeProblem` classes), since we are solving the Hamiltonian with two qubits separately, that is, the information between the qubits is not correlated in any way; therefore, there is no parameter setting that considers both qubits as a single system.\n",
    "\n",
    "<br/>\n",
    "\n",
    "**Does it similar to the `total energy` we calculated in class?**:\n",
    "\n",
    "No, it is not similar to the `total energy` either because the `optimal energy` is not similar, so when calculating the `total energy` we cannot obtain a value similar to the one calculated in the class.\\\n",
    "(In the answers to _Part 2_, I calculate the `total energy`)\n",
    "\n",
    "<br/>\n",
    "\n",
    "<table>\n",
    "    <tr>\n",
    "        <td> </td>\n",
    "        <td><b>Optimal energy [Ha]</b></td>\n",
    "        <td><b>Total energy [Ha]</b></td>\n",
    "    </tr>\n",
    "    <tr>\n",
    "        <td><b>From class (session 3)</b></td>\n",
    "        <td>-1.857821819076969</td>\n",
    "        <td>-1.137852824627989</td>\n",
    "    </tr>\n",
    "    <tr>\n",
    "        <td><b>From this HW3 (Part 1)</b></td>\n",
    "        <td>-1.064230957031249</td>\n",
    "        <td>((na))</td>\n",
    "    </tr>\n",
    "</table>\n",
    "\n",
    "<br/>\n",
    "\n",
    "**Plot**:\n",
    "\n",
    "In the next cell, I show the plot of the energy optimization process of the VQE algorithm used. We can see that there is a convergence, but it reaches a plateau relatively quickly, where it remains \"stuck\" and is still unable to find a better value."
   ]
  },
  {
   "cell_type": "code",
   "execution_count": 5,
   "id": "7b3f6ae0-1f38-471b-a922-cef9ac8608eb",
   "metadata": {
    "execution": {
     "iopub.execute_input": "2024-07-31T08:47:57.687778Z",
     "iopub.status.busy": "2024-07-31T08:47:57.687369Z",
     "iopub.status.idle": "2024-07-31T08:47:57.695583Z",
     "shell.execute_reply": "2024-07-31T08:47:57.694999Z"
    }
   },
   "outputs": [],
   "source": [
    "import base64\n",
    "import io\n",
    "\n",
    "from PIL import Image\n",
    "\n",
    "image_bytes = base64.b64decode(vqe_result.convergence_graph_str)\n",
    "\n",
    "# Usa io.BytesIO para convertir los bytes en un objeto de archivo\n",
    "image_file = io.BytesIO(image_bytes)\n",
    "\n",
    "# Abre la imagen con PIL\n",
    "image = Image.open(image_file)\n",
    "\n",
    "# Muestra la imagen en el notebook\n",
    "# display(image) # uncomment to display"
   ]
  },
  {
   "cell_type": "markdown",
   "id": "4f0e0bea-b12f-43ad-94e8-100fedf2b57f",
   "metadata": {},
   "source": [
    "### Part 2"
   ]
  },
  {
   "cell_type": "markdown",
   "id": "66882248-de08-4a6e-b33c-647f015f7d79",
   "metadata": {},
   "source": [
    "**Now, we want to have a more interesting ansatz in our `main`.**  \n",
    "Add **one** line of code to the `main` function you created in Part 1 that creates **entanglement** between the two qubits.  \n",
    "Which gate should you use?"
   ]
  },
  {
   "cell_type": "code",
   "execution_count": 6,
   "id": "bb39be9e-4994-44e5-84d8-c99bc8b77145",
   "metadata": {
    "execution": {
     "iopub.execute_input": "2024-07-31T08:47:57.699594Z",
     "iopub.status.busy": "2024-07-31T08:47:57.698580Z",
     "iopub.status.idle": "2024-07-31T08:48:00.877993Z",
     "shell.execute_reply": "2024-07-31T08:48:00.877335Z"
    }
   },
   "outputs": [],
   "source": [
    "@qfunc\n",
    "def main(q: Output[QArray[QBit]], angles: CArray[CReal, 3]) -> None:\n",
    "    # Create an ansatz which allows each qubit to have arbitrary rotation\n",
    "    allocate(2, q)\n",
    "    U(angles[0], angles[1], angles[2], 0, q[0])\n",
    "    U(angles[0], angles[1], angles[2], 0, q[1])\n",
    "    CX(q[0], q[1])\n",
    "\n",
    "\n",
    "@cfunc\n",
    "def cmain() -> None:\n",
    "    res = vqe(\n",
    "        HAMILTONIAN,\n",
    "        False,\n",
    "        [],\n",
    "        optimizer=Optimizer.COBYLA,\n",
    "        max_iteration=1000,\n",
    "        tolerance=0.001,\n",
    "        step_size=0,\n",
    "        skip_compute_variance=False,\n",
    "        alpha_cvar=1.0,\n",
    "    )\n",
    "    save({\"result\": res})\n",
    "\n",
    "\n",
    "qmod = create_model(\n",
    "    main, classical_execution_function=cmain\n",
    ")  # complete the line, use classical_execution_function\n",
    "qprog = synthesize(qmod)\n",
    "# show(qprog)"
   ]
  },
  {
   "cell_type": "code",
   "execution_count": 7,
   "id": "112a1590-283c-4f79-8035-72936561102d",
   "metadata": {
    "execution": {
     "iopub.execute_input": "2024-07-31T08:48:00.883111Z",
     "iopub.status.busy": "2024-07-31T08:48:00.881405Z",
     "iopub.status.idle": "2024-07-31T08:48:08.380238Z",
     "shell.execute_reply": "2024-07-31T08:48:08.379624Z"
    }
   },
   "outputs": [],
   "source": [
    "execution = execute(qprog)\n",
    "res = execution.result()\n",
    "# execution.open_in_ide()\n",
    "vqe_result = res[0].value"
   ]
  },
  {
   "cell_type": "code",
   "execution_count": 8,
   "id": "06500e4c-a04b-4cfa-a84d-41f96a0c68eb",
   "metadata": {
    "execution": {
     "iopub.execute_input": "2024-07-31T08:48:08.383053Z",
     "iopub.status.busy": "2024-07-31T08:48:08.382603Z",
     "iopub.status.idle": "2024-07-31T08:48:08.386513Z",
     "shell.execute_reply": "2024-07-31T08:48:08.385796Z"
    }
   },
   "outputs": [
    {
     "name": "stdout",
     "output_type": "stream",
     "text": [
      "Optimal energy: -1.8561484\n",
      "Optimal parameters: {'angles_param_0': 3.0216703620275576, 'angles_param_1': 3.0858871519342848, 'angles_param_2': 4.6566794652351575}\n",
      "Eigenstate: {'11': (0.03162277660168379+0j), '10': (0.07745966692414834+0j), '01': (0.9964938534682489+0j)}\n"
     ]
    }
   ],
   "source": [
    "print(f\"Optimal energy: {vqe_result.energy}\")\n",
    "print(f\"Optimal parameters: {vqe_result.optimal_parameters}\")\n",
    "print(f\"Eigenstate: {vqe_result.eigenstate}\")"
   ]
  },
  {
   "cell_type": "markdown",
   "id": "30a635d7-2f15-4c94-a94b-f4270f17aed8",
   "metadata": {},
   "source": [
    "Does it similar to the `optimal energy` we calculated in class? \\\n",
    "Does it similar to the `total energy` we calculated in class? \\\n",
    "What can we learn about the provided  form this result Hamiltonian?"
   ]
  },
  {
   "cell_type": "markdown",
   "id": "b7e3e86b-d184-49d8-aaa8-781a919d5aec",
   "metadata": {},
   "source": [
    "<div class=\"alert alert-block alert-info\">\n",
    "<strong>My answers</strong>: <br/><br/><br/>\n",
    "\n",
    "**Does it similar to the `optimal energy` we calculated in class?**:\n",
    "\n",
    "Yes, the `optimal energy` is similar to the one calculated in class (with the help of the `Molecule` and `MoleculeProblem` classes), this is because the calculation in this Part 2 considers the two correlated qubits (we added a CNOT gate between them) so that now the complete system can be considered formed by two qubits, and when calculating the values of the parameters (the angles) these are subject to working for both qubits at the same time.\n",
    "\n",
    "<br/>\n",
    "\n",
    "**Does it similar to the `total energy` we calculated in class?**:\n",
    "\n",
    "Everything seems to indicate that this will be the case, but to confirm it we need to determine the value of the `nuclear repulsion energy`.\n",
    "\n",
    "The nuclear repulsion energy in a molecule refers to the energy associated with the repulsion between the nuclei of the atoms that compose it. In a molecule, the nuclei of atoms are positively charged and, therefore, repel each other due to the electrostatic force. To calculate this energy, we need to know the internuclear distance $R$.\n",
    "\n",
    "We could determine the distance between the two protons of the $H_2$ molecule from the Hamiltonian provided. To do this, we need to remember that the Hamiltonian coefficients are related to integrals of two electrons and other terms that depend on the internuclear distance $R$. But this is not simple to calculate. In fact, this is an inverse problem that is not solved directly from the Hamiltonian in its given form.\n",
    "\n",
    "Instead, we will consider that the hydrogen molecule is in its ground state, so we can take the average distance between the two nuclei, which would be equal to approximately $74 \\ \\text{pm} $ or $ 0.74 \\ \\text{\u00c5} $ or $0.74 \\times 10^{-10} \\ \\text{m}$.\n",
    "\n",
    "To calculate the nuclear repulsion energy for the $H_2$ molecule, the formula for the electrostatic potential energy between two charges $q_1$ and $q_2$ can be used:\n",
    "\n",
    "$$ E_{\\text{repulsion}} = \\frac{k \\cdot q_1 \\cdot q_2}{R} $$\n",
    "\n",
    "where:\n",
    "- $ E_{\\text{repulsion}} $ is the the nuclear repulsion energy\n",
    "- $ k $ is the Coulomb constant ($8.987 \\times 10^9 \\ \\text{N\u00b7m}^2/\\text{C}^2 $)\n",
    "- $ q_1 $ and $ q_2 $ are the charges of the nuclei (in the case of $H_2$, both are $ +1e $, where $ e $ is the charge of the proton, $ 1.602 \\times 10^{-19} \\ \\text{C} $)\n",
    "- $ R $ is the distance between the nuclei\n",
    "\n",
    "Therefore,\n",
    "\n",
    "\\begin{align}\n",
    "E_{\\text{repulsion}} &= \\frac{(1.602 \\times 10^{-19} \\ \\text{C})^2}{4 \\pi (8.854 \\times 10^{-12} \\ \\text{F/m}) \\times 0.74 \\times 10^{-10} \\ \\text{m}}\\\\\\\\\n",
    "&= \\frac{2.566 \\times 10^{-38}}{1.112 \\times 10^{-10} \\times 0.74 \\times 10^{-10}}\\\\\\\\\n",
    "&= \\frac{2.566 \\times 10^{-38}}{8.237 \\times 10^{-21}}\\\\\\\\\n",
    "&= 3.115 \\times 10^{-18} \\ \\text{J}\n",
    "\\end{align}\n",
    "\n",
    "We convert to Hartree:\n",
    "\n",
    "$$ E_{\\text{repulsion},(\\text{Hartree})}  = \\frac{3.115 \\times 10^{-18} \\ \\text{J}}{4.3597447222071 \\times 10^{-18} \\ \\text{J/Hartree}} = 0.714 \\ \\text{Hartree} $$\n",
    "\n",
    "<br/>\n",
    "\n",
    "Then, the `total energy` of the molecule is obtained by adding this nuclear repulsion energy to the electronic energy calculated from the given Hamiltonian:\n",
    "\n",
    "$$E_{\\text{total}}= -1.8541486328124999 + 0.714 = -1.1401486328124999 \\ \\text{Hartree}$$\n",
    "\n",
    "<br/>\n",
    "<br/>\n",
    "\n",
    "Therefore, we can conclude that the total energy is similar to that obtained in class with the help of the `Molecule` and `MoleculeProblem` classes, since a VQE algorithm for a two-qubit system works to determine the total energy of the hydrogen molecule $H_2$, as long as the qubits are correlated with each other.\n",
    "\n",
    "<br/>\n",
    "<br/>\n",
    "\n",
    "<table>\n",
    "    <tr>\n",
    "        <td> </td>\n",
    "        <td><b>Optimal energy [Ha]</b></td>\n",
    "        <td><b>Total energy [Ha]</b></td>\n",
    "    </tr>\n",
    "    <tr>\n",
    "        <td><b>From class (session 3)</b></td>\n",
    "        <td>-1.857821819076969</td>\n",
    "        <td>-1.137852824627989</td>\n",
    "    </tr>\n",
    "    <tr>\n",
    "        <td><b>From this HW3 (Part 2)</b></td>\n",
    "        <td>-1.854148632812499</td>\n",
    "        <td>-1.140148632812499</td>\n",
    "    </tr>\n",
    "</table>\n",
    "\n",
    "<br/>\n",
    "\n",
    "<br/>\n",
    "\n",
    "**What can we learn about the provided form this result Hamiltonian?**:\n",
    "\n",
    "It is essential to consider the complete system as a whole; in this case, the system was composed of two qubits, and these must have a relationship between them to complete the representation of the Hamiltonian in a quantum circuit. We can find the value of the total energy of an appropriate way, the system must be internally correlated, in this case, the two qubits that make it up must have some quantum gate that correlates them.\n",
    "\n",
    "<br/>\n",
    "\n",
    "**Plot**:\n",
    "\n",
    "In the next cell, I show the plot of the energy optimization process of the VQE algorithm used. We can see that there is a convergence, but it reaches a plateau relatively quickly, where it remains \"stuck\" and is still unable to find a better value."
   ]
  },
  {
   "cell_type": "code",
   "execution_count": 9,
   "id": "bc2604de-0dc3-4615-863c-1aafbda475bf",
   "metadata": {
    "execution": {
     "iopub.execute_input": "2024-07-31T08:48:08.388959Z",
     "iopub.status.busy": "2024-07-31T08:48:08.388446Z",
     "iopub.status.idle": "2024-07-31T08:48:08.392412Z",
     "shell.execute_reply": "2024-07-31T08:48:08.391859Z"
    }
   },
   "outputs": [],
   "source": [
    "import base64\n",
    "import io\n",
    "\n",
    "from PIL import Image\n",
    "\n",
    "image_bytes = base64.b64decode(vqe_result.convergence_graph_str)\n",
    "\n",
    "# Usa io.BytesIO para convertir los bytes en un objeto de archivo\n",
    "image_file = io.BytesIO(image_bytes)\n",
    "\n",
    "# Abre la imagen con PIL\n",
    "image = Image.open(image_file)\n",
    "\n",
    "# Muestra la imagen en el notebook\n",
    "# display(image) # uncomment to display"
   ]
  }
 ],
 "metadata": {
  "kernelspec": {
   "display_name": "Python 3 (ipykernel)",
   "language": "python",
   "name": "python3"
  },
  "language_info": {
   "codemirror_mode": {
    "name": "ipython",
    "version": 3
   },
   "file_extension": ".py",
   "mimetype": "text/x-python",
   "name": "python",
   "nbconvert_exporter": "python",
   "pygments_lexer": "ipython3",
   "version": "3.11.9"
  }
 },
 "nbformat": 4,
 "nbformat_minor": 5
}
