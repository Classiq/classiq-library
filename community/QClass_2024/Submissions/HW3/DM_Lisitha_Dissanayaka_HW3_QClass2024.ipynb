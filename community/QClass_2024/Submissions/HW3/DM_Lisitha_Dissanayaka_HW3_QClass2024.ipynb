{
  "cells": [
    {
      "cell_type": "markdown",
      "id": "fc72d98f-8993-4bd4-a545-23d122f3df71",
      "metadata": {
        "id": "fc72d98f-8993-4bd4-a545-23d122f3df71"
      },
      "source": [
        "# H₂ Molecule Homework Assignment\n",
        "### Quantum Software Development Journey: From Theory to Application with Classiq - Part 3\n",
        "\n",
        "- Similarly to what we have done in class, in this exercise we will implement the VQE on H2 molecule.\n",
        "- This time instead of using the built-in methods and functions (such as `Molecule` and `MoleculeProblem`) to difne and solve the problem, you will be provided with a two qubits Hamiltonian."
      ]
    },
    {
      "cell_type": "markdown",
      "id": "56eda6d8-76c4-4862-b914-0c4598d67274",
      "metadata": {
        "id": "56eda6d8-76c4-4862-b914-0c4598d67274"
      },
      "source": [
        "## Submission\n",
        "- Submit the completed Jupyter notebook and report via GitHub. Ensure all files are correctly named and organized.\n",
        "- Use the Typeform link provided in the submission folder to confirm your submission.\n",
        "\n",
        "## Additional Resources\n",
        "- [Classiq Documentation](https://docs.classiq.io/latest/)\n",
        "- The notebook from live session #3\n",
        "\n",
        "## Important Dates\n",
        "- **Assignment Release:** 22.5.2024\n",
        "- **Submission Deadline:** 3.6.2024 (7 A.M GMT+3)\n",
        "\n",
        "---\n",
        "\n",
        "Happy coding and good luck!"
      ]
    },
    {
      "cell_type": "markdown",
      "id": "d41e969d-f6a7-4ff7-9660-19ce6c97ba6b",
      "metadata": {
        "id": "d41e969d-f6a7-4ff7-9660-19ce6c97ba6b"
      },
      "source": [
        "### Part 1"
      ]
    },
    {
      "cell_type": "markdown",
      "id": "f710d6f4-d40b-42d5-b524-c6acb8059fe2",
      "metadata": {
        "id": "f710d6f4-d40b-42d5-b524-c6acb8059fe2"
      },
      "source": [
        "Given the following Hamiltonian:"
      ]
    },
    {
      "cell_type": "markdown",
      "id": "6ba8a6f1-3259-4492-a1ca-3abde7530cd4",
      "metadata": {
        "id": "6ba8a6f1-3259-4492-a1ca-3abde7530cd4"
      },
      "source": [
        "$$\n",
        "\\hat{H} = -1.0523 \\cdot (I \\otimes I) + 0.3979 \\cdot (I \\otimes Z) - 0.3979 \\cdot (Z \\otimes I) - 0.0112 \\cdot (Z \\otimes Z) + 0.1809 \\cdot (X \\otimes X)\n",
        "$$"
      ]
    },
    {
      "cell_type": "markdown",
      "id": "736d275c-9a5a-4c08-b891-3078430dc6c1",
      "metadata": {
        "id": "736d275c-9a5a-4c08-b891-3078430dc6c1"
      },
      "source": [
        "Complete the following code"
      ]
    },
    {
      "cell_type": "code",
      "source": [
        "!pip install classiq"
      ],
      "metadata": {
        "id": "Dkljs_GE3rV9"
      },
      "id": "Dkljs_GE3rV9",
      "execution_count": null,
      "outputs": []
    },
    {
      "cell_type": "code",
      "source": [
        "import classiq\n",
        "classiq.authenticate()"
      ],
      "metadata": {
        "colab": {
          "base_uri": "https://localhost:8080/"
        },
        "id": "JtPus-lY4yBb",
        "outputId": "1c816703-ca3d-45c3-e250-62cb5431f873"
      },
      "id": "JtPus-lY4yBb",
      "execution_count": 6,
      "outputs": [
        {
          "output_type": "stream",
          "name": "stdout",
          "text": [
            "Your user code: HXDC-DCWX\n",
            "If a browser doesn't automatically open, please visit this URL from any trusted device: https://auth.classiq.io/activate?user_code=HXDC-DCWX\n"
          ]
        }
      ]
    },
    {
      "cell_type": "code",
      "execution_count": 3,
      "id": "19266c11-6acc-4edb-910f-2d0dfe80a6c8",
      "metadata": {
        "id": "19266c11-6acc-4edb-910f-2d0dfe80a6c8"
      },
      "outputs": [],
      "source": [
        "from typing import List\n",
        "from classiq import *\n",
        "\n",
        "HAMILTONIAN = QConstant(\"HAMILTONIAN\", List[PauliTerm], [\n",
        "            PauliTerm([Pauli.I, Pauli.I], -1.0523),\n",
        "            PauliTerm([Pauli.I, Pauli.Z], 0.3979),\n",
        "            PauliTerm([Pauli.Z, Pauli.I], -0.3979),\n",
        "            PauliTerm([Pauli.Z, Pauli.Z], -0.0112),\n",
        "            PauliTerm([Pauli.X, Pauli.X], 0.1809)])"
      ]
    },
    {
      "cell_type": "code",
      "execution_count": 7,
      "id": "0bb68899-2076-45c0-8868-131f38aa3b78",
      "metadata": {
        "colab": {
          "base_uri": "https://localhost:8080/"
        },
        "id": "0bb68899-2076-45c0-8868-131f38aa3b78",
        "outputId": "1c1c155a-2e69-476a-ba73-2813af770843"
      },
      "outputs": [
        {
          "output_type": "stream",
          "name": "stdout",
          "text": [
            "Opening: https://platform.classiq.io/circuit/3eb6e745-606c-4d4d-b486-9883a314cfed?version=0.42.1\n"
          ]
        }
      ],
      "source": [
        "@qfunc\n",
        "def main(q: Output[QArray[QBit]], angles: CArray[CReal, 3]) -> None:\n",
        "    allocate(2, q)\n",
        "    U(angles[0], angles[1], angles[2], 0, q[0])\n",
        "    U(angles[0], angles[1], angles[2], 0, q[1])\n",
        "\n",
        "\n",
        "@cfunc\n",
        "def cmain() -> None:\n",
        "    res = vqe(\n",
        "        HAMILTONIAN,\n",
        "        False,\n",
        "        [],\n",
        "        optimizer=Optimizer.COBYLA,\n",
        "        max_iteration=1000,\n",
        "        tolerance=0.001,\n",
        "        step_size=0,\n",
        "        skip_compute_variance=False,\n",
        "        alpha_cvar=1.0,\n",
        "    )\n",
        "    save({\"result\": res})\n",
        "\n",
        "qmod = create_model(main, classical_execution_function=cmain)\n",
        "qprog = synthesize(qmod)\n",
        "show(qprog)"
      ]
    },
    {
      "cell_type": "code",
      "execution_count": 8,
      "id": "0563c1a8-7aec-4da9-9105-6b16c5c24382",
      "metadata": {
        "id": "0563c1a8-7aec-4da9-9105-6b16c5c24382"
      },
      "outputs": [],
      "source": [
        "execution = execute(qprog)\n",
        "res = execution.result()\n",
        "execution.open_in_ide()\n",
        "vqe_result = res[0].value"
      ]
    },
    {
      "cell_type": "code",
      "execution_count": 9,
      "id": "de17cfc0-8e64-4493-b4c2-4a97fc9797a0",
      "metadata": {
        "scrolled": true,
        "colab": {
          "base_uri": "https://localhost:8080/"
        },
        "id": "de17cfc0-8e64-4493-b4c2-4a97fc9797a0",
        "outputId": "b2f83bbc-7836-46e2-d93e-51ffbb3bfaf5"
      },
      "outputs": [
        {
          "output_type": "stream",
          "name": "stdout",
          "text": [
            "Optimal energy: -1.07790302734375\n",
            "Optimal parameters: {'angles_0': -3.841606708229461, 'angles_1': -1.582575305688708, 'angles_2': 1.4736518966816738}\n",
            "Eigenstate: {'01': (0.31483502624390447+0j), '00': (0.10364452469860624+0j), '10': (0.33071891388307384+0j), '11': (0.8836072197249183+0j)}\n"
          ]
        }
      ],
      "source": [
        "print(f\"Optimal energy: {vqe_result.energy}\")\n",
        "print(f\"Optimal parameters: {vqe_result.optimal_parameters}\")\n",
        "print(f\"Eigenstate: {vqe_result.eigenstate}\")"
      ]
    },
    {
      "cell_type": "markdown",
      "id": "5df11dfc-3e3a-4191-bd47-d522ca3dcbfa",
      "metadata": {
        "id": "5df11dfc-3e3a-4191-bd47-d522ca3dcbfa"
      },
      "source": [
        "Does it similar to the `optimal energy` we calculated in class? \\\n",
        "Does it similar to the `total energy` we calculated in class?"
      ]
    },
    {
      "cell_type": "markdown",
      "source": [
        "\n",
        "*   Not similar to optimal energy\n",
        "*   Not similar to total energy"
      ],
      "metadata": {
        "id": "M-8qqlVu5MOw"
      },
      "id": "M-8qqlVu5MOw"
    },
    {
      "cell_type": "code",
      "source": [],
      "metadata": {
        "id": "YfP6QO4l5XC_"
      },
      "id": "YfP6QO4l5XC_",
      "execution_count": null,
      "outputs": []
    },
    {
      "cell_type": "markdown",
      "id": "4f0e0bea-b12f-43ad-94e8-100fedf2b57f",
      "metadata": {
        "id": "4f0e0bea-b12f-43ad-94e8-100fedf2b57f"
      },
      "source": [
        "### Part 2"
      ]
    },
    {
      "cell_type": "markdown",
      "id": "66882248-de08-4a6e-b33c-647f015f7d79",
      "metadata": {
        "id": "66882248-de08-4a6e-b33c-647f015f7d79"
      },
      "source": [
        "**Now, we want to have a more interesting ansatz in our `main`.**  \n",
        "Add **one** line of code to the `main` function you created in Part 1 that creates **entanglement** between the two qubits.  \n",
        "Which gate should you use?"
      ]
    },
    {
      "cell_type": "code",
      "execution_count": 12,
      "id": "bb39be9e-4994-44e5-84d8-c99bc8b77145",
      "metadata": {
        "colab": {
          "base_uri": "https://localhost:8080/"
        },
        "id": "bb39be9e-4994-44e5-84d8-c99bc8b77145",
        "outputId": "91a1d074-6ce9-41f1-e4bd-5675c69105cc"
      },
      "outputs": [
        {
          "output_type": "stream",
          "name": "stdout",
          "text": [
            "Opening: https://platform.classiq.io/circuit/2b354729-6e0f-4d37-9e26-3fc68bde2ee4?version=0.42.1\n"
          ]
        }
      ],
      "source": [
        "@qfunc\n",
        "def main(q: Output[QArray[QBit]], angles: CArray[CReal, 3]) -> None:\n",
        "    allocate(2, q)\n",
        "    U(angles[0], angles[1], angles[2], 0, q[0])\n",
        "    U(angles[0], angles[1], angles[2], 0, q[1])\n",
        "    CX(q[0],q[1])\n",
        "\n",
        "@cfunc\n",
        "def cmain() -> None:\n",
        "    res = vqe(\n",
        "        HAMILTONIAN,\n",
        "        False,\n",
        "        [],\n",
        "        optimizer=Optimizer.COBYLA,\n",
        "        max_iteration=1000,\n",
        "        tolerance=0.001,\n",
        "        step_size=0,\n",
        "        skip_compute_variance=False,\n",
        "        alpha_cvar=1.0,\n",
        "    )\n",
        "    save({\"result\": res})\n",
        "\n",
        "qmod = create_model(main, classical_execution_function=cmain)\n",
        "qprog = synthesize(qmod)\n",
        "show(qprog)"
      ]
    },
    {
      "cell_type": "code",
      "execution_count": 14,
      "id": "112a1590-283c-4f79-8035-72936561102d",
      "metadata": {
        "id": "112a1590-283c-4f79-8035-72936561102d"
      },
      "outputs": [],
      "source": [
        "execution = execute(qprog)\n",
        "res = execution.result()\n",
        "execution.open_in_ide()\n",
        "vqe_result = res[0].value"
      ]
    },
    {
      "cell_type": "code",
      "execution_count": 15,
      "id": "06500e4c-a04b-4cfa-a84d-41f96a0c68eb",
      "metadata": {
        "collapsed": true,
        "jupyter": {
          "outputs_hidden": true
        },
        "colab": {
          "base_uri": "https://localhost:8080/"
        },
        "id": "06500e4c-a04b-4cfa-a84d-41f96a0c68eb",
        "outputId": "4436dd0b-7e53-4ac3-ebcf-9a740aa76e73"
      },
      "outputs": [
        {
          "output_type": "stream",
          "name": "stdout",
          "text": [
            "Optimal energy: -1.0686612304687502\n",
            "Optimal parameters: {'angles_0': 6.192015781577648, 'angles_1': -4.906323120082223, 'angles_2': -1.7257176183905625}\n",
            "Eigenstate: {'11': (0.038273277230987154+0j), '10': (0.05412658773652741+0j), '00': (0.9978003150681002+0j)}\n"
          ]
        }
      ],
      "source": [
        "print(f\"Optimal energy: {vqe_result.energy}\")\n",
        "print(f\"Optimal parameters: {vqe_result.optimal_parameters}\")\n",
        "print(f\"Eigenstate: {vqe_result.eigenstate}\")"
      ]
    },
    {
      "cell_type": "markdown",
      "id": "30a635d7-2f15-4c94-a94b-f4270f17aed8",
      "metadata": {
        "id": "30a635d7-2f15-4c94-a94b-f4270f17aed8"
      },
      "source": [
        "Does it similar to the `optimal energy` we calculated in class? \\\n",
        "Does it similar to the `total energy` we calculated in class? \\\n",
        "What can we learn about the provided  form this result Hamiltonian?"
      ]
    },
    {
      "cell_type": "markdown",
      "source": [
        "\n",
        "\n",
        "*   No\n",
        "*   No\n",
        "*  ...\n",
        "\n",
        "\n",
        "\n"
      ],
      "metadata": {
        "id": "kXB36GU2594P"
      },
      "id": "kXB36GU2594P"
    }
  ],
  "metadata": {
    "kernelspec": {
      "display_name": "Python 3 (ipykernel)",
      "language": "python",
      "name": "python3"
    },
    "language_info": {
      "codemirror_mode": {
        "name": "ipython",
        "version": 3
      },
      "file_extension": ".py",
      "mimetype": "text/x-python",
      "name": "python",
      "nbconvert_exporter": "python",
      "pygments_lexer": "ipython3",
      "version": "3.9.16"
    },
    "colab": {
      "provenance": []
    }
  },
  "nbformat": 4,
  "nbformat_minor": 5
}