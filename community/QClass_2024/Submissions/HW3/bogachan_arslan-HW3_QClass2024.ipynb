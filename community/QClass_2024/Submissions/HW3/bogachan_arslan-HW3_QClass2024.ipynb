{
 "cells": [
  {
   "cell_type": "markdown",
   "id": "fc72d98f-8993-4bd4-a545-23d122f3df71",
   "metadata": {},
   "source": [
    "# H\u2082 Molecule Homework Assignment\n",
    "### Quantum Software Development Journey: From Theory to Application with Classiq - Part 3\n",
    "\n",
    "- Similarly to what we have done in class, in this exercise we will implement the VQE on H2 molecule.\n",
    "- This time instead of using the built-in methods and functions (such as `Molecule` and `MoleculeProblem`) to difne and solve the problem, you will be provided with a two qubits Hamiltonian."
   ]
  },
  {
   "cell_type": "markdown",
   "id": "56eda6d8-76c4-4862-b914-0c4598d67274",
   "metadata": {},
   "source": [
    "## Submission\n",
    "- Submit the completed Jupyter notebook and report via GitHub. Ensure all files are correctly named and organized.\n",
    "- Use the Typeform link provided in the submission folder to confirm your submission.\n",
    "\n",
    "## Additional Resources\n",
    "- [Classiq Documentation](https://docs.classiq.io/latest/)\n",
    "- The notebook from live session #3\n",
    "\n",
    "## Important Dates\n",
    "- **Assignment Release:** 22.5.2024\n",
    "- **Submission Deadline:** 3.6.2024 (7 A.M GMT+3)\n",
    "\n",
    "---\n",
    "\n",
    "Happy coding and good luck!"
   ]
  },
  {
   "cell_type": "markdown",
   "id": "d41e969d-f6a7-4ff7-9660-19ce6c97ba6b",
   "metadata": {},
   "source": [
    "### Part 1"
   ]
  },
  {
   "cell_type": "markdown",
   "id": "f710d6f4-d40b-42d5-b524-c6acb8059fe2",
   "metadata": {},
   "source": [
    "Given the following Hamiltonian:"
   ]
  },
  {
   "cell_type": "markdown",
   "id": "6ba8a6f1-3259-4492-a1ca-3abde7530cd4",
   "metadata": {},
   "source": [
    "$$\n",
    "\\hat{H} = -1.0523 \\cdot (I \\otimes I) + 0.3979 \\cdot (I \\otimes Z) - 0.3979 \\cdot (Z \\otimes I) - 0.0112 \\cdot (Z \\otimes Z) + 0.1809 \\cdot (X \\otimes X)\n",
    "$$"
   ]
  },
  {
   "cell_type": "markdown",
   "id": "736d275c-9a5a-4c08-b891-3078430dc6c1",
   "metadata": {},
   "source": [
    "Complete the following code"
   ]
  },
  {
   "cell_type": "code",
   "execution_count": 1,
   "id": "19266c11-6acc-4edb-910f-2d0dfe80a6c8",
   "metadata": {
    "ExecuteTime": {
     "end_time": "2024-06-01T16:33:52.134223Z",
     "start_time": "2024-06-01T16:33:52.126343Z"
    },
    "execution": {
     "iopub.execute_input": "2024-07-31T08:48:12.287667Z",
     "iopub.status.busy": "2024-07-31T08:48:12.287228Z",
     "iopub.status.idle": "2024-07-31T08:48:15.439069Z",
     "shell.execute_reply": "2024-07-31T08:48:15.438423Z"
    }
   },
   "outputs": [],
   "source": [
    "from typing import List\n",
    "\n",
    "from classiq import *\n",
    "\n",
    "HAMILTONIAN = QConstant(\n",
    "    \"HAMILTONIAN\",\n",
    "    List[PauliTerm],\n",
    "    [\n",
    "        PauliTerm([Pauli.I, Pauli.I], -1.0523),\n",
    "        PauliTerm([Pauli.I, Pauli.Z], 0.3979),\n",
    "        PauliTerm([Pauli.Z, Pauli.I], -0.3979),\n",
    "        PauliTerm([Pauli.Z, Pauli.Z], -0.0112),\n",
    "        PauliTerm([Pauli.X, Pauli.X], 0.1809),\n",
    "    ],\n",
    ")"
   ]
  },
  {
   "cell_type": "code",
   "execution_count": 2,
   "id": "0bb68899-2076-45c0-8868-131f38aa3b78",
   "metadata": {
    "ExecuteTime": {
     "end_time": "2024-06-01T16:33:59.604983Z",
     "start_time": "2024-06-01T16:33:56.089312Z"
    },
    "execution": {
     "iopub.execute_input": "2024-07-31T08:48:15.442202Z",
     "iopub.status.busy": "2024-07-31T08:48:15.441547Z",
     "iopub.status.idle": "2024-07-31T08:48:18.844901Z",
     "shell.execute_reply": "2024-07-31T08:48:18.844151Z"
    }
   },
   "outputs": [
    {
     "name": "stdout",
     "output_type": "stream",
     "text": [
      "Opening: https://platform.classiq.io/circuit/64e1adca-9bb5-43d5-b27e-c96d85605f73?version=0.45.0.dev0%2Bcf1b9b7ccc\n"
     ]
    }
   ],
   "source": [
    "@qfunc\n",
    "def main(q: Output[QArray[QBit]], angles: CArray[CReal, 3]) -> None:\n",
    "    # TODO: Create an ansatz which allows each qubit to have arbitrary rotation\n",
    "    allocate(2, q)\n",
    "    U(angles[0], angles[1], angles[2], 0, q[0])\n",
    "    U(angles[0], angles[1], angles[2], 0, q[1])\n",
    "\n",
    "\n",
    "@cfunc\n",
    "def cmain() -> None:\n",
    "    res = vqe(\n",
    "        HAMILTONIAN,\n",
    "        False,\n",
    "        [],\n",
    "        optimizer=Optimizer.COBYLA,\n",
    "        max_iteration=1000,\n",
    "        tolerance=0.001,\n",
    "        step_size=0,\n",
    "        skip_compute_variance=False,\n",
    "        alpha_cvar=1.0,\n",
    "    )\n",
    "    save({\"result\": res})\n",
    "\n",
    "\n",
    "qmod = create_model(\n",
    "    main, classical_execution_function=cmain\n",
    ")  # TODO: complete the line, use classical_execution_function\n",
    "qprog = synthesize(qmod)\n",
    "show(qprog)"
   ]
  },
  {
   "cell_type": "code",
   "execution_count": 3,
   "id": "0563c1a8-7aec-4da9-9105-6b16c5c24382",
   "metadata": {
    "ExecuteTime": {
     "end_time": "2024-06-01T16:31:20.654078Z",
     "start_time": "2024-06-01T16:31:16.095403Z"
    },
    "execution": {
     "iopub.execute_input": "2024-07-31T08:48:18.847925Z",
     "iopub.status.busy": "2024-07-31T08:48:18.847279Z",
     "iopub.status.idle": "2024-07-31T08:48:25.286780Z",
     "shell.execute_reply": "2024-07-31T08:48:25.286175Z"
    }
   },
   "outputs": [],
   "source": [
    "execution = execute(qprog)\n",
    "res = execution.result()\n",
    "# execution.open_in_ide()\n",
    "vqe_result = res[0].value"
   ]
  },
  {
   "cell_type": "code",
   "execution_count": 4,
   "id": "de17cfc0-8e64-4493-b4c2-4a97fc9797a0",
   "metadata": {
    "ExecuteTime": {
     "end_time": "2024-06-01T16:31:20.660831Z",
     "start_time": "2024-06-01T16:31:20.656030Z"
    },
    "execution": {
     "iopub.execute_input": "2024-07-31T08:48:25.289828Z",
     "iopub.status.busy": "2024-07-31T08:48:25.289622Z",
     "iopub.status.idle": "2024-07-31T08:48:25.294836Z",
     "shell.execute_reply": "2024-07-31T08:48:25.294327Z"
    },
    "scrolled": true
   },
   "outputs": [
    {
     "name": "stdout",
     "output_type": "stream",
     "text": [
      "Optimal energy: -1.086195\n",
      "Optimal parameters: {'angles_param_0': -3.823931885007386, 'angles_param_1': 4.783733072654917, 'angles_param_2': -3.9406113158369873}\n",
      "Eigenstate: {'01': (0.31304951684997057+0j), '00': (0.10488088481701516+0j), '10': (0.3209361307176242+0j), '11': (0.8876936408468858+0j)}\n"
     ]
    }
   ],
   "source": [
    "print(f\"Optimal energy: {vqe_result.energy}\")\n",
    "print(f\"Optimal parameters: {vqe_result.optimal_parameters}\")\n",
    "print(f\"Eigenstate: {vqe_result.eigenstate}\")"
   ]
  },
  {
   "cell_type": "markdown",
   "id": "7ba7a9d3b1ff8dca",
   "metadata": {},
   "source": [
    "11\n",
    "Optimal parameters: {'angles_0': -3.0292653800801213, 'angles_1': 0.13084292242999915, 'angles_2': -5.614248543217801}\n",
    "Eigenstate: {'10': (0.07328774624724109+0j), '11': (0.07328774624724109+0j), '01': (0.9946144039274718+0j)}\n"
   ]
  },
  {
   "cell_type": "markdown",
   "id": "5df11dfc-3e3a-4191-bd47-d522ca3dcbfa",
   "metadata": {},
   "source": [
    "Does it similar to the `optimal energy` we calculated in class? \\\n",
    "Does it similar to the `total energy` we calculated in class?"
   ]
  },
  {
   "cell_type": "markdown",
   "id": "4f0e0bea-b12f-43ad-94e8-100fedf2b57f",
   "metadata": {},
   "source": [
    "### Part 2"
   ]
  },
  {
   "cell_type": "markdown",
   "id": "66882248-de08-4a6e-b33c-647f015f7d79",
   "metadata": {},
   "source": [
    "**Now, we want to have a more interesting ansatz in our `main`.**  \n",
    "Add **one** line of code to the `main` function you created in Part 1 that creates **entanglement** between the two qubits.  \n",
    "Which gate should you use?"
   ]
  },
  {
   "cell_type": "code",
   "execution_count": 5,
   "id": "bb39be9e-4994-44e5-84d8-c99bc8b77145",
   "metadata": {
    "ExecuteTime": {
     "end_time": "2024-06-01T16:34:44.927782Z",
     "start_time": "2024-06-01T16:34:41.614760Z"
    },
    "execution": {
     "iopub.execute_input": "2024-07-31T08:48:25.297550Z",
     "iopub.status.busy": "2024-07-31T08:48:25.297098Z",
     "iopub.status.idle": "2024-07-31T08:48:28.500945Z",
     "shell.execute_reply": "2024-07-31T08:48:28.500269Z"
    }
   },
   "outputs": [
    {
     "name": "stdout",
     "output_type": "stream",
     "text": [
      "Opening: https://platform.classiq.io/circuit/4563697d-75a1-4485-b88e-68f327c191d9?version=0.45.0.dev0%2Bcf1b9b7ccc\n"
     ]
    }
   ],
   "source": [
    "@qfunc\n",
    "def main(q: Output[QArray[QBit]], angles: CArray[CReal, 3]) -> None:\n",
    "    # TODO: Create an ansatz which allows each qubit to have arbitrary rotation\n",
    "    allocate(2, q)\n",
    "    U(angles[0], angles[1], angles[2], 0, q[0])\n",
    "    U(angles[0], angles[1], angles[2], 0, q[1])\n",
    "    CX(q[0], q[1])\n",
    "\n",
    "\n",
    "@cfunc\n",
    "def cmain() -> None:\n",
    "    res = vqe(\n",
    "        HAMILTONIAN,\n",
    "        False,\n",
    "        [],\n",
    "        optimizer=Optimizer.COBYLA,\n",
    "        max_iteration=1000,\n",
    "        tolerance=0.001,\n",
    "        step_size=0,\n",
    "        skip_compute_variance=False,\n",
    "        alpha_cvar=1.0,\n",
    "    )\n",
    "    save({\"result\": res})\n",
    "\n",
    "\n",
    "qmod = create_model(\n",
    "    main, classical_execution_function=cmain\n",
    ")  # TODO: complete the line, use classical_execution_function\n",
    "qprog = synthesize(qmod)\n",
    "show(qprog)"
   ]
  },
  {
   "cell_type": "code",
   "execution_count": 6,
   "id": "112a1590-283c-4f79-8035-72936561102d",
   "metadata": {
    "ExecuteTime": {
     "end_time": "2024-06-01T16:35:14.125876Z",
     "start_time": "2024-06-01T16:35:09.772261Z"
    },
    "execution": {
     "iopub.execute_input": "2024-07-31T08:48:28.503534Z",
     "iopub.status.busy": "2024-07-31T08:48:28.503080Z",
     "iopub.status.idle": "2024-07-31T08:48:34.973969Z",
     "shell.execute_reply": "2024-07-31T08:48:34.973328Z"
    }
   },
   "outputs": [],
   "source": [
    "execution = execute(qprog)\n",
    "res = execution.result()\n",
    "# execution.open_in_ide()\n",
    "vqe_result = res[0].value  # TODO: complete the line"
   ]
  },
  {
   "cell_type": "code",
   "execution_count": 7,
   "id": "06500e4c-a04b-4cfa-a84d-41f96a0c68eb",
   "metadata": {
    "ExecuteTime": {
     "end_time": "2024-06-01T16:35:15.429400Z",
     "start_time": "2024-06-01T16:35:15.421186Z"
    },
    "collapsed": true,
    "execution": {
     "iopub.execute_input": "2024-07-31T08:48:34.978399Z",
     "iopub.status.busy": "2024-07-31T08:48:34.977363Z",
     "iopub.status.idle": "2024-07-31T08:48:34.983486Z",
     "shell.execute_reply": "2024-07-31T08:48:34.982938Z"
    },
    "jupyter": {
     "outputs_hidden": true
    }
   },
   "outputs": [
    {
     "name": "stdout",
     "output_type": "stream",
     "text": [
      "Optimal energy: -1.8607654\n",
      "Optimal parameters: {'angles_param_0': 3.3310217776593385, 'angles_param_1': 5.9111968974840305, 'angles_param_2': -1.803102147861646}\n",
      "Eigenstate: {'10': (0.11832159566199232+0j), '11': (0.1+0j), '01': (0.9879271228182775+0j)}\n"
     ]
    }
   ],
   "source": [
    "print(f\"Optimal energy: {vqe_result.energy}\")\n",
    "print(f\"Optimal parameters: {vqe_result.optimal_parameters}\")\n",
    "print(f\"Eigenstate: {vqe_result.eigenstate}\")"
   ]
  },
  {
   "cell_type": "markdown",
   "id": "30a635d7-2f15-4c94-a94b-f4270f17aed8",
   "metadata": {},
   "source": [
    "Does it similar to the `optimal energy` we calculated in class? \\\n",
    "Does it similar to the `total energy` we calculated in class? \\\n",
    "What can we learn about the provided  form this result Hamiltonian?"
   ]
  }
 ],
 "metadata": {
  "kernelspec": {
   "display_name": "Python 3 (ipykernel)",
   "language": "python",
   "name": "python3"
  },
  "language_info": {
   "codemirror_mode": {
    "name": "ipython",
    "version": 3
   },
   "file_extension": ".py",
   "mimetype": "text/x-python",
   "name": "python",
   "nbconvert_exporter": "python",
   "pygments_lexer": "ipython3",
   "version": "3.11.9"
  }
 },
 "nbformat": 4,
 "nbformat_minor": 5
}
