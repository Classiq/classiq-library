{
 "cells": [
  {
   "cell_type": "markdown",
   "id": "fc72d98f-8993-4bd4-a545-23d122f3df71",
   "metadata": {
    "id": "fc72d98f-8993-4bd4-a545-23d122f3df71"
   },
   "source": [
    "# H\u2082 Molecule Homework Assignment\n",
    "### Quantum Software Development Journey: From Theory to Application with Classiq - Part 3\n",
    "\n",
    "- Similarly to what we have done in class, in this exercise we will implement the VQE on H2 molecule.\n",
    "- This time instead of using the built-in methods and functions (such as `Molecule` and `MoleculeProblem`) to difne and solve the problem, you will be provided with a two qubits Hamiltonian."
   ]
  },
  {
   "cell_type": "markdown",
   "id": "56eda6d8-76c4-4862-b914-0c4598d67274",
   "metadata": {
    "id": "56eda6d8-76c4-4862-b914-0c4598d67274"
   },
   "source": [
    "## Submission\n",
    "- Submit the completed Jupyter notebook and report via GitHub. Ensure all files are correctly named and organized.\n",
    "- Use the Typeform link provided in the submission folder to confirm your submission.\n",
    "\n",
    "## Additional Resources\n",
    "- [Classiq Documentation](https://docs.classiq.io/latest/)\n",
    "- The notebook from live session #3\n",
    "\n",
    "## Important Dates\n",
    "- **Assignment Release:** 22.5.2024\n",
    "- **Submission Deadline:** 3.6.2024 (7 A.M GMT+3)\n",
    "\n",
    "---\n",
    "\n",
    "Happy coding and good luck!"
   ]
  },
  {
   "cell_type": "markdown",
   "id": "d41e969d-f6a7-4ff7-9660-19ce6c97ba6b",
   "metadata": {
    "id": "d41e969d-f6a7-4ff7-9660-19ce6c97ba6b"
   },
   "source": [
    "### Part 1"
   ]
  },
  {
   "cell_type": "markdown",
   "id": "f710d6f4-d40b-42d5-b524-c6acb8059fe2",
   "metadata": {
    "id": "f710d6f4-d40b-42d5-b524-c6acb8059fe2"
   },
   "source": [
    "Given the following Hamiltonian:"
   ]
  },
  {
   "cell_type": "markdown",
   "id": "6ba8a6f1-3259-4492-a1ca-3abde7530cd4",
   "metadata": {
    "id": "6ba8a6f1-3259-4492-a1ca-3abde7530cd4"
   },
   "source": [
    "$$\n",
    "\\hat{H} = -1.0523 \\cdot (I \\otimes I) + 0.3979 \\cdot (I \\otimes Z) - 0.3979 \\cdot (Z \\otimes I) - 0.0112 \\cdot (Z \\otimes Z) + 0.1809 \\cdot (X \\otimes X)\n",
    "$$"
   ]
  },
  {
   "cell_type": "markdown",
   "id": "736d275c-9a5a-4c08-b891-3078430dc6c1",
   "metadata": {
    "id": "736d275c-9a5a-4c08-b891-3078430dc6c1"
   },
   "source": [
    "Complete the following code"
   ]
  },
  {
   "cell_type": "code",
   "execution_count": 1,
   "id": "DQOxbZxjrN5r",
   "metadata": {
    "colab": {
     "base_uri": "https://localhost:8080/"
    },
    "execution": {
     "iopub.execute_input": "2024-07-31T08:46:22.815552Z",
     "iopub.status.busy": "2024-07-31T08:46:22.815071Z",
     "iopub.status.idle": "2024-07-31T08:46:22.821651Z",
     "shell.execute_reply": "2024-07-31T08:46:22.820982Z"
    },
    "id": "DQOxbZxjrN5r",
    "outputId": "ba3dffa0-ff88-4a89-b76f-a0bd6c05f164"
   },
   "outputs": [],
   "source": [
    "# !pip install -U classiq"
   ]
  },
  {
   "cell_type": "code",
   "execution_count": 2,
   "id": "jLanwByIe4eJ",
   "metadata": {
    "colab": {
     "base_uri": "https://localhost:8080/"
    },
    "execution": {
     "iopub.execute_input": "2024-07-31T08:46:22.825264Z",
     "iopub.status.busy": "2024-07-31T08:46:22.824820Z",
     "iopub.status.idle": "2024-07-31T08:46:22.828661Z",
     "shell.execute_reply": "2024-07-31T08:46:22.828018Z"
    },
    "id": "jLanwByIe4eJ",
    "outputId": "dea1c702-533c-492a-f2c7-4406c6fdb7f0"
   },
   "outputs": [],
   "source": [
    "# import classiq\n",
    "# classiq.authenticate()"
   ]
  },
  {
   "cell_type": "code",
   "execution_count": 3,
   "id": "19266c11-6acc-4edb-910f-2d0dfe80a6c8",
   "metadata": {
    "execution": {
     "iopub.execute_input": "2024-07-31T08:46:22.832007Z",
     "iopub.status.busy": "2024-07-31T08:46:22.831548Z",
     "iopub.status.idle": "2024-07-31T08:46:26.030318Z",
     "shell.execute_reply": "2024-07-31T08:46:26.029598Z"
    },
    "id": "19266c11-6acc-4edb-910f-2d0dfe80a6c8"
   },
   "outputs": [],
   "source": [
    "from typing import List\n",
    "\n",
    "from classiq import *\n",
    "\n",
    "# TODO: Complete Hamiltonian\n",
    "HAMILTONIAN = QConstant(\n",
    "    \"HAMILTONIAN\",\n",
    "    List[PauliTerm],\n",
    "    [\n",
    "        PauliTerm([Pauli.I, Pauli.I], -1.0523),\n",
    "        PauliTerm([Pauli.I, Pauli.Z], 0.3979),\n",
    "        PauliTerm([Pauli.Z, Pauli.I], -0.3979),\n",
    "        PauliTerm([Pauli.Z, Pauli.Z], -0.0112),\n",
    "        PauliTerm([Pauli.X, Pauli.X], 0.1809),\n",
    "    ],\n",
    ")"
   ]
  },
  {
   "cell_type": "code",
   "execution_count": 4,
   "id": "0bb68899-2076-45c0-8868-131f38aa3b78",
   "metadata": {
    "execution": {
     "iopub.execute_input": "2024-07-31T08:46:26.035221Z",
     "iopub.status.busy": "2024-07-31T08:46:26.033680Z",
     "iopub.status.idle": "2024-07-31T08:46:29.572862Z",
     "shell.execute_reply": "2024-07-31T08:46:29.572203Z"
    },
    "id": "0bb68899-2076-45c0-8868-131f38aa3b78"
   },
   "outputs": [],
   "source": [
    "@qfunc\n",
    "def main(q: Output[QArray[QBit]], angles: CArray[CReal, 3]) -> None:\n",
    "    # TODO: Create an ansatz which allows each qubit to have\n",
    "    # arbitrary rotation\n",
    "    allocate(2, q)\n",
    "\n",
    "    U(angles[0], angles[1], angles[2], 0, q[0])\n",
    "    U(angles[0], angles[1], angles[2], 0, q[1])\n",
    "\n",
    "\n",
    "@cfunc\n",
    "def cmain() -> None:\n",
    "    res = vqe(\n",
    "        hamiltonian=HAMILTONIAN,\n",
    "        maximize=False,\n",
    "        initial_point=[],\n",
    "        optimizer=Optimizer.COBYLA,\n",
    "        max_iteration=1000,\n",
    "        tolerance=0.001,\n",
    "        step_size=0,\n",
    "        skip_compute_variance=False,\n",
    "        alpha_cvar=1.0,\n",
    "    )\n",
    "    save({\"result\": res})\n",
    "\n",
    "\n",
    "# TODO:\u00a0complete\u00a0the\u00a0line,\u00a0use\u00a0classical_execution_function\n",
    "qmod = create_model(main, classical_execution_function=cmain)\n",
    "\n",
    "qprog = synthesize(qmod)"
   ]
  },
  {
   "cell_type": "code",
   "execution_count": 5,
   "id": "0563c1a8-7aec-4da9-9105-6b16c5c24382",
   "metadata": {
    "execution": {
     "iopub.execute_input": "2024-07-31T08:46:29.577905Z",
     "iopub.status.busy": "2024-07-31T08:46:29.576515Z",
     "iopub.status.idle": "2024-07-31T08:46:37.186126Z",
     "shell.execute_reply": "2024-07-31T08:46:37.185373Z"
    },
    "id": "0563c1a8-7aec-4da9-9105-6b16c5c24382"
   },
   "outputs": [],
   "source": [
    "execution = execute(qprog)\n",
    "res = execution.result()\n",
    "# execution.open_in_ide()\n",
    "vqe_result = res[0].value"
   ]
  },
  {
   "cell_type": "code",
   "execution_count": 6,
   "id": "de17cfc0-8e64-4493-b4c2-4a97fc9797a0",
   "metadata": {
    "colab": {
     "base_uri": "https://localhost:8080/",
     "height": 0
    },
    "execution": {
     "iopub.execute_input": "2024-07-31T08:46:37.190885Z",
     "iopub.status.busy": "2024-07-31T08:46:37.189737Z",
     "iopub.status.idle": "2024-07-31T08:46:37.196711Z",
     "shell.execute_reply": "2024-07-31T08:46:37.196059Z"
    },
    "id": "de17cfc0-8e64-4493-b4c2-4a97fc9797a0",
    "outputId": "5b400695-8faf-4aae-e8b8-bdc477e211e1",
    "scrolled": true
   },
   "outputs": [
    {
     "name": "stdout",
     "output_type": "stream",
     "text": [
      "Optimal energy: -1.0756884\n",
      "Optimal parameters: {'angles_param_0': 6.185341531136972, 'angles_param_1': 4.110990567584065, 'angles_param_2': 4.082562462206891}\n",
      "Eigenstate: {'01': (0.05477225575051661+0j), '10': (0.06324555320336758+0j), '00': (0.9964938534682489+0j)}\n"
     ]
    }
   ],
   "source": [
    "print(f\"Optimal energy: {vqe_result.energy}\")\n",
    "print(f\"Optimal parameters: {vqe_result.optimal_parameters}\")\n",
    "print(f\"Eigenstate: {vqe_result.eigenstate}\")"
   ]
  },
  {
   "cell_type": "markdown",
   "id": "5df11dfc-3e3a-4191-bd47-d522ca3dcbfa",
   "metadata": {
    "id": "5df11dfc-3e3a-4191-bd47-d522ca3dcbfa"
   },
   "source": [
    "Does it similar to the `optimal energy` we calculated in class? \\\n",
    "Does it similar to the `total energy` we calculated in class?"
   ]
  },
  {
   "cell_type": "markdown",
   "id": "4f0e0bea-b12f-43ad-94e8-100fedf2b57f",
   "metadata": {
    "id": "4f0e0bea-b12f-43ad-94e8-100fedf2b57f"
   },
   "source": [
    "### Part 2"
   ]
  },
  {
   "cell_type": "markdown",
   "id": "66882248-de08-4a6e-b33c-647f015f7d79",
   "metadata": {
    "id": "66882248-de08-4a6e-b33c-647f015f7d79"
   },
   "source": [
    "**Now, we want to have a more interesting ansatz in our `main`.**  \n",
    "Add **one** line of code to the `main` function you created in Part 1 that creates **entanglement** between the two qubits.  \n",
    "Which gate should you use?"
   ]
  },
  {
   "cell_type": "code",
   "execution_count": 7,
   "id": "bb39be9e-4994-44e5-84d8-c99bc8b77145",
   "metadata": {
    "execution": {
     "iopub.execute_input": "2024-07-31T08:46:37.201162Z",
     "iopub.status.busy": "2024-07-31T08:46:37.200039Z",
     "iopub.status.idle": "2024-07-31T08:46:40.398127Z",
     "shell.execute_reply": "2024-07-31T08:46:40.397376Z"
    },
    "id": "bb39be9e-4994-44e5-84d8-c99bc8b77145"
   },
   "outputs": [],
   "source": [
    "@qfunc\n",
    "def main(q: Output[QArray[QBit]], angles: CArray[CReal, 3]) -> None:\n",
    "    # TODO: Create an ansatz which allows each qubit to have\n",
    "    # arbitrary rotation\n",
    "    allocate(2, q)\n",
    "\n",
    "    U(angles[0], angles[1], angles[2], 0, q[0])\n",
    "    U(angles[0], angles[1], angles[2], 0, q[1])\n",
    "\n",
    "    CX(q[0], q[1])\n",
    "\n",
    "\n",
    "@cfunc\n",
    "def cmain() -> None:\n",
    "    res = vqe(\n",
    "        HAMILTONIAN,  # TODO: complete the missing argument\n",
    "        False,\n",
    "        [],\n",
    "        optimizer=Optimizer.COBYLA,\n",
    "        max_iteration=1000,\n",
    "        tolerance=0.001,\n",
    "        step_size=0,\n",
    "        skip_compute_variance=False,\n",
    "        alpha_cvar=1.0,\n",
    "    )\n",
    "    save({\"result\": res})\n",
    "\n",
    "\n",
    "# TODO:\u00a0complete\u00a0the\u00a0line,\u00a0use\u00a0classical_execution_function\n",
    "qmod = create_model(main, classical_execution_function=cmain)\n",
    "\n",
    "qprog = synthesize(qmod)"
   ]
  },
  {
   "cell_type": "code",
   "execution_count": 8,
   "id": "112a1590-283c-4f79-8035-72936561102d",
   "metadata": {
    "execution": {
     "iopub.execute_input": "2024-07-31T08:46:40.403072Z",
     "iopub.status.busy": "2024-07-31T08:46:40.401868Z",
     "iopub.status.idle": "2024-07-31T08:46:47.016552Z",
     "shell.execute_reply": "2024-07-31T08:46:47.015875Z"
    },
    "id": "112a1590-283c-4f79-8035-72936561102d"
   },
   "outputs": [],
   "source": [
    "execution = execute(qprog)\n",
    "res = execution.result()\n",
    "# execution.open_in_ide()\n",
    "vqe_result = res[0].value"
   ]
  },
  {
   "cell_type": "code",
   "execution_count": 9,
   "id": "06500e4c-a04b-4cfa-a84d-41f96a0c68eb",
   "metadata": {
    "colab": {
     "base_uri": "https://localhost:8080/",
     "height": 0
    },
    "execution": {
     "iopub.execute_input": "2024-07-31T08:46:47.020926Z",
     "iopub.status.busy": "2024-07-31T08:46:47.019896Z",
     "iopub.status.idle": "2024-07-31T08:46:47.026452Z",
     "shell.execute_reply": "2024-07-31T08:46:47.025741Z"
    },
    "id": "06500e4c-a04b-4cfa-a84d-41f96a0c68eb",
    "outputId": "c406023c-627c-468c-d48c-cddf2d234297"
   },
   "outputs": [
    {
     "name": "stdout",
     "output_type": "stream",
     "text": [
      "Optimal energy: -1.8531642000000002\n",
      "Optimal parameters: {'angles_param_0': 2.9622404871178465, 'angles_param_1': -2.950385022455904, 'angles_param_2': 6.06431678623024}\n",
      "Eigenstate: {'10': (0.07071067811865475+0j), '11': (0.09486832980505137+0j), '01': (0.9929753269845127+0j)}\n"
     ]
    }
   ],
   "source": [
    "print(f\"Optimal energy: {vqe_result.energy}\")\n",
    "print(f\"Optimal parameters: {vqe_result.optimal_parameters}\")\n",
    "print(f\"Eigenstate: {vqe_result.eigenstate}\")"
   ]
  },
  {
   "cell_type": "markdown",
   "id": "30a635d7-2f15-4c94-a94b-f4270f17aed8",
   "metadata": {
    "id": "30a635d7-2f15-4c94-a94b-f4270f17aed8"
   },
   "source": [
    "Does it similar to the `optimal energy` we calculated in class? \\\n",
    "Does it similar to the `total energy` we calculated in class? \\\n",
    "What can we learn about the provided  form this result Hamiltonian?"
   ]
  }
 ],
 "metadata": {
  "colab": {
   "provenance": []
  },
  "kernelspec": {
   "display_name": "Python 3 (ipykernel)",
   "language": "python",
   "name": "python3"
  },
  "language_info": {
   "codemirror_mode": {
    "name": "ipython",
    "version": 3
   },
   "file_extension": ".py",
   "mimetype": "text/x-python",
   "name": "python",
   "nbconvert_exporter": "python",
   "pygments_lexer": "ipython3",
   "version": "3.11.9"
  }
 },
 "nbformat": 4,
 "nbformat_minor": 5
}
