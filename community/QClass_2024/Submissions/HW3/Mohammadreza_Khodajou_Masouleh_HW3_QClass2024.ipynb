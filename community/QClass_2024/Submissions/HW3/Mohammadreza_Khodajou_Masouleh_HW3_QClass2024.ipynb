{
 "cells": [
  {
   "cell_type": "markdown",
   "id": "fc72d98f-8993-4bd4-a545-23d122f3df71",
   "metadata": {
    "id": "fc72d98f-8993-4bd4-a545-23d122f3df71"
   },
   "source": [
    "# H\u2082 Molecule Homework Assignment\n",
    "### Quantum Software Development Journey: From Theory to Application with Classiq - Part 3\n",
    "\n",
    "- Similarly to what we have done in class, in this exercise we will implement the VQE on H2 molecule.\n",
    "- This time instead of using the built-in methods and functions (such as `Molecule` and `MoleculeProblem`) to difne and solve the problem, you will be provided with a two qubits Hamiltonian."
   ]
  },
  {
   "cell_type": "markdown",
   "id": "56eda6d8-76c4-4862-b914-0c4598d67274",
   "metadata": {
    "id": "56eda6d8-76c4-4862-b914-0c4598d67274"
   },
   "source": [
    "## Submission\n",
    "- Submit the completed Jupyter notebook and report via GitHub. Ensure all files are correctly named and organized.\n",
    "- Use the Typeform link provided in the submission folder to confirm your submission.\n",
    "\n",
    "## Additional Resources\n",
    "- [Classiq Documentation](https://docs.classiq.io/latest/)\n",
    "- The notebook from live session #3\n",
    "\n",
    "## Important Dates\n",
    "- **Assignment Release:** 22.5.2024\n",
    "- **Submission Deadline:** 3.6.2024 (7 A.M GMT+3)\n",
    "\n",
    "---\n",
    "\n",
    "Happy coding and good luck!"
   ]
  },
  {
   "cell_type": "code",
   "execution_count": 1,
   "id": "XvJSENg4UQeh",
   "metadata": {
    "colab": {
     "base_uri": "https://localhost:8080/"
    },
    "execution": {
     "iopub.execute_input": "2024-07-31T08:46:50.582316Z",
     "iopub.status.busy": "2024-07-31T08:46:50.582019Z",
     "iopub.status.idle": "2024-07-31T08:46:50.585816Z",
     "shell.execute_reply": "2024-07-31T08:46:50.585216Z"
    },
    "id": "XvJSENg4UQeh",
    "outputId": "e25318b0-f308-4e3d-a898-681c900d09b8"
   },
   "outputs": [],
   "source": [
    "# !pip install -U classiq"
   ]
  },
  {
   "cell_type": "code",
   "execution_count": 2,
   "id": "HryEIcq_UWzG",
   "metadata": {
    "colab": {
     "base_uri": "https://localhost:8080/"
    },
    "execution": {
     "iopub.execute_input": "2024-07-31T08:46:50.588817Z",
     "iopub.status.busy": "2024-07-31T08:46:50.588581Z",
     "iopub.status.idle": "2024-07-31T08:46:50.592407Z",
     "shell.execute_reply": "2024-07-31T08:46:50.591660Z"
    },
    "id": "HryEIcq_UWzG",
    "outputId": "cba0edbf-73c1-46ea-d967-f020003e3a37"
   },
   "outputs": [],
   "source": [
    "# import classiq\n",
    "# classiq.authenticate()"
   ]
  },
  {
   "cell_type": "markdown",
   "id": "d41e969d-f6a7-4ff7-9660-19ce6c97ba6b",
   "metadata": {
    "id": "d41e969d-f6a7-4ff7-9660-19ce6c97ba6b"
   },
   "source": [
    "### Part 1"
   ]
  },
  {
   "cell_type": "markdown",
   "id": "f710d6f4-d40b-42d5-b524-c6acb8059fe2",
   "metadata": {
    "id": "f710d6f4-d40b-42d5-b524-c6acb8059fe2"
   },
   "source": [
    "Given the following Hamiltonian:"
   ]
  },
  {
   "cell_type": "markdown",
   "id": "6ba8a6f1-3259-4492-a1ca-3abde7530cd4",
   "metadata": {
    "id": "6ba8a6f1-3259-4492-a1ca-3abde7530cd4"
   },
   "source": [
    "$$\n",
    "\\hat{H} = -1.0523 \\cdot (I \\otimes I) + 0.3979 \\cdot (I \\otimes Z) - 0.3979 \\cdot (Z \\otimes I) - 0.0112 \\cdot (Z \\otimes Z) + 0.1809 \\cdot (X \\otimes X)\n",
    "$$"
   ]
  },
  {
   "cell_type": "markdown",
   "id": "736d275c-9a5a-4c08-b891-3078430dc6c1",
   "metadata": {
    "id": "736d275c-9a5a-4c08-b891-3078430dc6c1"
   },
   "source": [
    "Complete the following code"
   ]
  },
  {
   "cell_type": "code",
   "execution_count": 3,
   "id": "19266c11-6acc-4edb-910f-2d0dfe80a6c8",
   "metadata": {
    "execution": {
     "iopub.execute_input": "2024-07-31T08:46:50.597429Z",
     "iopub.status.busy": "2024-07-31T08:46:50.596450Z",
     "iopub.status.idle": "2024-07-31T08:46:53.366169Z",
     "shell.execute_reply": "2024-07-31T08:46:53.364968Z"
    },
    "id": "19266c11-6acc-4edb-910f-2d0dfe80a6c8"
   },
   "outputs": [],
   "source": [
    "from typing import List\n",
    "\n",
    "from classiq import *\n",
    "\n",
    "HAMILTONIAN = QConstant(\n",
    "    \"HAMILTONIAN\",\n",
    "    List[PauliTerm],\n",
    "    [\n",
    "        PauliTerm(pauli=[Pauli.I, Pauli.I], coefficient=-1.0523),\n",
    "        PauliTerm(pauli=[Pauli.I, Pauli.Z], coefficient=0.3979),\n",
    "        PauliTerm(pauli=[Pauli.Z, Pauli.I], coefficient=-0.3979),\n",
    "        PauliTerm(pauli=[Pauli.Z, Pauli.Z], coefficient=-0.0112),\n",
    "        PauliTerm(pauli=[Pauli.X, Pauli.X], coefficient=0.1809),\n",
    "    ],\n",
    ")  # TODO: Complete Hamiltonian"
   ]
  },
  {
   "cell_type": "code",
   "execution_count": 4,
   "id": "0bb68899-2076-45c0-8868-131f38aa3b78",
   "metadata": {
    "execution": {
     "iopub.execute_input": "2024-07-31T08:46:53.374001Z",
     "iopub.status.busy": "2024-07-31T08:46:53.370341Z",
     "iopub.status.idle": "2024-07-31T08:46:56.883261Z",
     "shell.execute_reply": "2024-07-31T08:46:56.882673Z"
    },
    "id": "0bb68899-2076-45c0-8868-131f38aa3b78"
   },
   "outputs": [],
   "source": [
    "@qfunc\n",
    "def main(q: Output[QArray[QBit]], angles: CArray[CReal, 3]) -> None:\n",
    "    # TODO: Create an ansatz which allows each qubit to have arbitrary rotation\n",
    "    allocate(2, q)\n",
    "    repeat(q.len, lambda i: U(angles[0], angles[1], angles[2], 0, q[i]))\n",
    "\n",
    "\n",
    "@cfunc\n",
    "def cmain() -> None:\n",
    "    res = vqe(\n",
    "        HAMILTONIAN,  # TODO: complete the missing argument\n",
    "        False,\n",
    "        [],\n",
    "        optimizer=Optimizer.COBYLA,\n",
    "        max_iteration=1000,\n",
    "        tolerance=0.001,\n",
    "        step_size=0,\n",
    "        skip_compute_variance=False,\n",
    "        alpha_cvar=1.0,\n",
    "    )\n",
    "    save({\"result\": res})\n",
    "\n",
    "\n",
    "qmod = create_model(\n",
    "    main, classical_execution_function=cmain\n",
    ")  # TODO: complete the line, use classical_execution_function\n",
    "qprog = synthesize(qmod)\n",
    "# show(qprog)"
   ]
  },
  {
   "cell_type": "code",
   "execution_count": 5,
   "id": "0563c1a8-7aec-4da9-9105-6b16c5c24382",
   "metadata": {
    "execution": {
     "iopub.execute_input": "2024-07-31T08:46:56.887634Z",
     "iopub.status.busy": "2024-07-31T08:46:56.886763Z",
     "iopub.status.idle": "2024-07-31T08:47:03.474613Z",
     "shell.execute_reply": "2024-07-31T08:47:03.473836Z"
    },
    "id": "0563c1a8-7aec-4da9-9105-6b16c5c24382"
   },
   "outputs": [],
   "source": [
    "execution = execute(qprog)\n",
    "res = execution.result()\n",
    "# execution.open_in_ide()\n",
    "# print(res)\n",
    "vqe_result = res[0].value  # TODO: complete the line"
   ]
  },
  {
   "cell_type": "code",
   "execution_count": 6,
   "id": "XYbvABk_FwQJ",
   "metadata": {
    "colab": {
     "base_uri": "https://localhost:8080/"
    },
    "execution": {
     "iopub.execute_input": "2024-07-31T08:47:03.479671Z",
     "iopub.status.busy": "2024-07-31T08:47:03.478468Z",
     "iopub.status.idle": "2024-07-31T08:47:03.485746Z",
     "shell.execute_reply": "2024-07-31T08:47:03.485079Z"
    },
    "id": "XYbvABk_FwQJ",
    "outputId": "16644151-f0a9-4995-e6b4-d66e543f118e",
    "scrolled": true
   },
   "outputs": [
    {
     "name": "stdout",
     "output_type": "stream",
     "text": [
      "Optimal energy: -1.0748802\n",
      "Optimal parameters: {'angles_param_0': -3.3080151772655095, 'angles_param_1': -1.7508906970246516, 'angles_param_2': 5.603912598543443}\n",
      "Eigenstate: {'01': (0.07071067811865475+0j), '10': (0.07745966692414834+0j), '11': (0.9944847912361455+0j)}\n"
     ]
    }
   ],
   "source": [
    "print(f\"Optimal energy: {vqe_result.energy}\")\n",
    "print(f\"Optimal parameters: {vqe_result.optimal_parameters}\")\n",
    "print(f\"Eigenstate: {vqe_result.eigenstate}\")"
   ]
  },
  {
   "cell_type": "markdown",
   "id": "5df11dfc-3e3a-4191-bd47-d522ca3dcbfa",
   "metadata": {
    "id": "5df11dfc-3e3a-4191-bd47-d522ca3dcbfa"
   },
   "source": [
    "Does it similar to the `optimal energy` we calculated in class? \\\n",
    "Does it similar to the `total energy` we calculated in class?"
   ]
  },
  {
   "cell_type": "markdown",
   "id": "70pHpqecuObf",
   "metadata": {
    "id": "70pHpqecuObf"
   },
   "source": [
    "*No! The value in the session was derived, according to different contributions, associated with the two-atom H_2 molecule, having taken into account various ways of communication through potential between them (atoms being effectively the qubits). This problem doesn't cover for those. Qubits are not talking to each other!*"
   ]
  },
  {
   "cell_type": "markdown",
   "id": "4f0e0bea-b12f-43ad-94e8-100fedf2b57f",
   "metadata": {
    "id": "4f0e0bea-b12f-43ad-94e8-100fedf2b57f"
   },
   "source": [
    "### Part 2"
   ]
  },
  {
   "cell_type": "markdown",
   "id": "66882248-de08-4a6e-b33c-647f015f7d79",
   "metadata": {
    "id": "66882248-de08-4a6e-b33c-647f015f7d79"
   },
   "source": [
    "**Now, we want to have a more interesting ansatz in our `main`.**  \n",
    "Add **one** line of code to the `main` function you created in Part 1 that creates **entanglement** between the two qubits.  \n",
    "Which gate should you use?"
   ]
  },
  {
   "cell_type": "code",
   "execution_count": 7,
   "id": "bb39be9e-4994-44e5-84d8-c99bc8b77145",
   "metadata": {
    "execution": {
     "iopub.execute_input": "2024-07-31T08:47:03.490477Z",
     "iopub.status.busy": "2024-07-31T08:47:03.489360Z",
     "iopub.status.idle": "2024-07-31T08:47:06.678688Z",
     "shell.execute_reply": "2024-07-31T08:47:06.677865Z"
    },
    "id": "bb39be9e-4994-44e5-84d8-c99bc8b77145"
   },
   "outputs": [],
   "source": [
    "@qfunc\n",
    "def main(q: Output[QArray[QBit]], angles: CArray[CReal, 3]) -> None:\n",
    "    # TODO: Create an ansatz which allows each qubit to have arbitrary rotation\n",
    "\n",
    "    allocate(2, q)\n",
    "    repeat(q.len, lambda i: U(angles[0], angles[1], angles[2], 0, q[i]))\n",
    "    CX(q[0], q[1])\n",
    "\n",
    "\n",
    "@cfunc\n",
    "def cmain() -> None:\n",
    "    res = vqe(\n",
    "        HAMILTONIAN,  # TODO: complete the missing argument\n",
    "        False,\n",
    "        [],\n",
    "        optimizer=Optimizer.COBYLA,\n",
    "        max_iteration=1000,\n",
    "        tolerance=0.001,\n",
    "        step_size=0,\n",
    "        skip_compute_variance=False,\n",
    "        alpha_cvar=1.0,\n",
    "    )\n",
    "    save({\"result\": res})\n",
    "\n",
    "\n",
    "qmod = create_model(\n",
    "    main, classical_execution_function=cmain\n",
    ")  # TODO: complete the line, use classical_execution_function\n",
    "qprog = synthesize(qmod)\n",
    "# show(qprog)"
   ]
  },
  {
   "cell_type": "code",
   "execution_count": 8,
   "id": "112a1590-283c-4f79-8035-72936561102d",
   "metadata": {
    "execution": {
     "iopub.execute_input": "2024-07-31T08:47:06.683366Z",
     "iopub.status.busy": "2024-07-31T08:47:06.681968Z",
     "iopub.status.idle": "2024-07-31T08:47:14.252021Z",
     "shell.execute_reply": "2024-07-31T08:47:14.251285Z"
    },
    "id": "112a1590-283c-4f79-8035-72936561102d"
   },
   "outputs": [],
   "source": [
    "execution = execute(qprog)\n",
    "res = execution.result()\n",
    "# execution.open_in_ide()\n",
    "vqe_result = res[0].value  # TODO: complete the line"
   ]
  },
  {
   "cell_type": "code",
   "execution_count": 9,
   "id": "06500e4c-a04b-4cfa-a84d-41f96a0c68eb",
   "metadata": {
    "colab": {
     "base_uri": "https://localhost:8080/"
    },
    "execution": {
     "iopub.execute_input": "2024-07-31T08:47:14.256843Z",
     "iopub.status.busy": "2024-07-31T08:47:14.255681Z",
     "iopub.status.idle": "2024-07-31T08:47:14.262587Z",
     "shell.execute_reply": "2024-07-31T08:47:14.261946Z"
    },
    "id": "06500e4c-a04b-4cfa-a84d-41f96a0c68eb",
    "outputId": "51f2aa86-143f-4e92-a3b3-3b900e42fd83"
   },
   "outputs": [
    {
     "name": "stdout",
     "output_type": "stream",
     "text": [
      "Optimal energy: -1.1141454\n",
      "Optimal parameters: {'angles_param_0': 5.784833428460461, 'angles_param_1': 0.08956196732557828, 'angles_param_2': -0.26598447013251836}\n",
      "Eigenstate: {'01': (0.06324555320336758+0j), '11': (0.2449489742783178+0j), '00': (0.9364827814754524+0j), '10': (0.24289915602982237+0j)}\n"
     ]
    }
   ],
   "source": [
    "print(f\"Optimal energy: {vqe_result.energy}\")\n",
    "print(f\"Optimal parameters: {vqe_result.optimal_parameters}\")\n",
    "print(f\"Eigenstate: {vqe_result.eigenstate}\")"
   ]
  },
  {
   "cell_type": "markdown",
   "id": "30a635d7-2f15-4c94-a94b-f4270f17aed8",
   "metadata": {
    "id": "30a635d7-2f15-4c94-a94b-f4270f17aed8"
   },
   "source": [
    "Does it similar to the `optimal energy` we calculated in class? \\\n",
    "Does it similar to the `total energy` we calculated in class? \\\n",
    "What can we learn about the provided  form this result Hamiltonian?"
   ]
  },
  {
   "cell_type": "markdown",
   "id": "j4jmzMoL186t",
   "metadata": {
    "id": "j4jmzMoL186t"
   },
   "source": [
    "*Evidently, the value of the optimal energy here bears a striking resemblence to the value of the problem discussed in the session. Almost surprisingly so, even though running the cell more than once introduces minimal differences. The entangling two-qubit gate CNOT is responsible for the conversation between the qubits, and that is the reason behind this similarity in values. Nevertheless, it's quite surprising admittedly to be able to simulate the impact of those sophisticated potential terms + the solid ansatz by a CNOT!*"
   ]
  }
 ],
 "metadata": {
  "colab": {
   "provenance": []
  },
  "kernelspec": {
   "display_name": "Python 3 (ipykernel)",
   "language": "python",
   "name": "python3"
  },
  "language_info": {
   "codemirror_mode": {
    "name": "ipython",
    "version": 3
   },
   "file_extension": ".py",
   "mimetype": "text/x-python",
   "name": "python",
   "nbconvert_exporter": "python",
   "pygments_lexer": "ipython3",
   "version": "3.11.9"
  }
 },
 "nbformat": 4,
 "nbformat_minor": 5
}
