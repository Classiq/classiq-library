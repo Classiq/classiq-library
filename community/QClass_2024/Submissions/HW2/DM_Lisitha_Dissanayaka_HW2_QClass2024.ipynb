{
  "cells": [
    {
      "cell_type": "markdown",
      "metadata": {
        "id": "cdnhDEpUXCCg"
      },
      "source": [
        "# The Qmod Workshop - Part 2: Higher-Level Concepts\n",
        "\n",
        "This is the second part of the Qmod workshop, covering exercises 6 through 10. Make sure to go through Part 1 before continuing with this notebook."
      ]
    },
    {
      "cell_type": "code",
      "source": [
        "# !pip install -U classiq"
      ],
      "metadata": {
        "id": "GzCjTpYkXKqY"
      },
      "execution_count": null,
      "outputs": []
    },
    {
      "cell_type": "code",
      "source": [
        "import classiq\n",
        "classiq.authenticate()"
      ],
      "metadata": {
        "colab": {
          "base_uri": "https://localhost:8080/"
        },
        "id": "FjCfi1ugXj4o",
        "outputId": "04367a6b-92aa-4d1a-d420-1475d14e6eb2"
      },
      "execution_count": 46,
      "outputs": [
        {
          "output_type": "stream",
          "name": "stderr",
          "text": [
            "/usr/local/lib/python3.10/dist-packages/classiq/_internals/authentication/token_manager.py:96: UserWarning: Device is already registered.\n",
            "Generating a new refresh token should only be done if the current refresh token is compromised.\n",
            "To do so, set the overwrite parameter to true\n",
            "  warnings.warn(\n"
          ]
        }
      ]
    },
    {
      "cell_type": "code",
      "execution_count": 47,
      "metadata": {
        "id": "gVs7-e_LXCCi"
      },
      "outputs": [],
      "source": [
        "from classiq import *"
      ]
    },
    {
      "cell_type": "markdown",
      "metadata": {
        "id": "2q_ofPAxXCCk"
      },
      "source": [
        "### Exercise 6 - Exponentiation and Pauli Operators\n",
        "\n",
        "The Qmod language supports different classical types: scalars, arrays, and structs. Structs are objects with member variables, or fields.\n",
        "\n",
        "See also [Classical Types](https://docs.classiq.io/latest/user-guide/platform/qmod/language-reference/classical-types/#structs).\n",
        "\n",
        "The builtin struct type `PauliTerm` is defined as follows:"
      ]
    },
    {
      "cell_type": "code",
      "execution_count": 48,
      "metadata": {
        "id": "jNY1tf-EXCCk"
      },
      "outputs": [],
      "source": [
        "@struct\n",
        "class PauliTerm:\n",
        "    pauli: CArray[Pauli]\n",
        "    coefficient: CReal"
      ]
    },
    {
      "cell_type": "markdown",
      "metadata": {
        "id": "liqNDMeaXCCk"
      },
      "source": [
        "Note that `Pauli` is an enum for all the Pauli matrices (I, X, Y, Z).\n",
        "\n",
        "Pauli based hamiltonian can be represented as a list of `PauliTerm`s. A Pauli operator defined this way is the argument to a hamiltonian evolution functions.\n",
        "\n",
        "In this exercise we will use the Suzuki-Trotter function to find the evolution of `H=0.5XZXX + 0.25YIZI + 0.3 XIZY` (captured as a literal value for the pauli-operator), with the evolution coefficient being 3, the order being 2, and use 4 repetitions.\n",
        "\n",
        "The declaration of the `suzuki_trotter` function is:"
      ]
    },
    {
      "cell_type": "code",
      "execution_count": 49,
      "metadata": {
        "id": "QBDyTjO3XCCl"
      },
      "outputs": [],
      "source": [
        "@qfunc(external=True)\n",
        "def suzuki_trotter(\n",
        "    pauli_operator: CArray[PauliTerm],\n",
        "    evolution_coefficient: CReal,\n",
        "    order: CInt,\n",
        "    repetitions: CInt,\n",
        "    qbv: QArray[QBit],\n",
        ") -> None:\n",
        "    pass"
      ]
    },
    {
      "cell_type": "markdown",
      "metadata": {
        "id": "Aylo4XDOXCCl"
      },
      "source": [
        "Fill in the missing parts of the following code in order to complete this exercise:"
      ]
    },
    {
      "cell_type": "code",
      "execution_count": 50,
      "metadata": {
        "colab": {
          "base_uri": "https://localhost:8080/"
        },
        "id": "N1DHRV5dXCCl",
        "outputId": "fbc6afab-232d-4f91-855e-6a4dbc7d7473"
      },
      "outputs": [
        {
          "output_type": "stream",
          "name": "stdout",
          "text": [
            "Opening: https://platform.classiq.io/circuit/229b03ef-bbef-4202-a3a5-fe763a143207?version=0.41.2\n"
          ]
        }
      ],
      "source": [
        "from classiq import *\n",
        "\n",
        "hamiltonian = [\n",
        "    PauliTerm(pauli=[Pauli.X,Pauli.Z,Pauli.X,Pauli.X], coefficient=0.5),\n",
        "    PauliTerm(pauli=[Pauli.Y,Pauli.I,Pauli.Z,Pauli.I], coefficient=0.25),\n",
        "    PauliTerm(pauli=[Pauli.X,Pauli.I,Pauli.Z,Pauli.Y], coefficient=0.3)\n",
        "]\n",
        "\n",
        "@qfunc\n",
        "def main(q: Output[QArray[QBit]]) -> None:\n",
        "    allocate(4, q)\n",
        "    suzuki_trotter(\n",
        "        pauli_operator=hamiltonian,\n",
        "        evolution_coefficient=3,\n",
        "        repetitions=4,\n",
        "        order=2,\n",
        "        qbv=q,\n",
        "    )\n",
        "\n",
        "\n",
        "qmod = create_model(main)\n",
        "qprog = synthesize(qmod)\n",
        "show(qprog)"
      ]
    },
    {
      "cell_type": "markdown",
      "metadata": {
        "id": "rIADMinTXCCm"
      },
      "source": [
        "### Exercise 7 - Basic Arithmetics\n",
        "\n",
        "#### Exercise 7a\n",
        "In this exercise we will use quantum numeric variables and calculate expressions over them.\n",
        "\n",
        "See details on the syntax of numeric types under [Quantum types](https://docs.classiq.io/latest/user-guide/platform/qmod/language-reference/quantum-types/#syntax).\n",
        "See more on quantum expressions under [Numeric assignment](https://docs.classiq.io/latest/user-guide/platform/qmod/language-reference/statements/numeric-assignment/)\n",
        "\n",
        "Create the following quantum programs:\n",
        "1. Initialize variables `x=2`, `y=7` and computes `res = x + y`.\n",
        "2. Initialize variables `x=2`, `y=7` and computes `res = x * y`.\n",
        "3. Initialize variables `x=2`, `y=7`, `z=1` and computes `res = x * y - z`.\n",
        "\n",
        "Guidance:\n",
        "* Use the operator `|=` to perform out-of-place assignment of arithmetic expression.\n",
        "* To initialize the variables, use the function `prepare_int`.\n"
      ]
    },
    {
      "cell_type": "code",
      "execution_count": 51,
      "metadata": {
        "colab": {
          "base_uri": "https://localhost:8080/"
        },
        "id": "H3uZ9epfXCCm",
        "outputId": "09466413-922a-4e6b-9570-7bf2dde77206"
      },
      "outputs": [
        {
          "output_type": "stream",
          "name": "stdout",
          "text": [
            "Opening: https://platform.classiq.io/circuit/6167a6a8-6ce4-4861-9567-ea41f5b31c5a?version=0.41.2\n"
          ]
        }
      ],
      "source": [
        "from classiq import *\n",
        "\n",
        "@qfunc\n",
        "def main(res: Output[QNum]) -> None:\n",
        "    x = QNum(\"x\")\n",
        "    y = QNum(\"y\")\n",
        "\n",
        "    prepare_int(2, x)\n",
        "    prepare_int(7, y)\n",
        "\n",
        "    res |= (x + y)\n",
        "\n",
        "qmod = create_model(main)\n",
        "qprog = synthesize(qmod)\n",
        "show(qprog)"
      ]
    },
    {
      "cell_type": "code",
      "source": [
        "from classiq import *\n",
        "\n",
        "@qfunc\n",
        "def main(res: Output[QNum]) -> None:\n",
        "    x = QNum(\"x\")\n",
        "    y = QNum(\"y\")\n",
        "\n",
        "    prepare_int(2, x)\n",
        "    prepare_int(7, y)\n",
        "\n",
        "    res |= (x * y)\n",
        "\n",
        "qmod = create_model(main)\n",
        "qprog = synthesize(qmod)\n",
        "show(qprog)"
      ],
      "metadata": {
        "colab": {
          "base_uri": "https://localhost:8080/"
        },
        "id": "lVeO-szYZVKh",
        "outputId": "cd76b8f2-195a-4e3c-ccf2-6bc752fdeb45"
      },
      "execution_count": 52,
      "outputs": [
        {
          "output_type": "stream",
          "name": "stdout",
          "text": [
            "Opening: https://platform.classiq.io/circuit/dd23d6d6-ab23-4995-90ff-c6f1b263be8a?version=0.41.2\n"
          ]
        }
      ]
    },
    {
      "cell_type": "code",
      "source": [
        "from classiq import *\n",
        "\n",
        "@qfunc\n",
        "def main(res: Output[QNum]) -> None:\n",
        "    x = QNum(\"x\")\n",
        "    y = QNum(\"y\")\n",
        "    z = QNum(\"z\")\n",
        "\n",
        "    prepare_int(2, x)\n",
        "    prepare_int(7, y)\n",
        "    prepare_int(1, z)\n",
        "\n",
        "    res |= (x*y)-z\n",
        "\n",
        "qmod = create_model(main)\n",
        "qprog = synthesize(qmod)\n",
        "show(qprog)"
      ],
      "metadata": {
        "colab": {
          "base_uri": "https://localhost:8080/"
        },
        "id": "4JwX7k7EZWr5",
        "outputId": "6344f639-bc4d-44aa-ff42-531f543f989c"
      },
      "execution_count": 53,
      "outputs": [
        {
          "output_type": "stream",
          "name": "stdout",
          "text": [
            "Opening: https://platform.classiq.io/circuit/b2725f40-8dad-43d4-941d-b7dec94b450f?version=0.41.2\n"
          ]
        }
      ]
    },
    {
      "cell_type": "markdown",
      "metadata": {
        "id": "73kJ5RiYXCCm"
      },
      "source": [
        "#### Exercise 7b\n",
        "Declare `x` to be a 2-qubit variable and `y` to be 3-qubit variable.\n",
        "\n",
        "We will perform an addition of two superposition states: `x` is an equal superposition of `0` and `2`, and `y` is an equal superposition of `1`, `2`, `3`, and `6`.\n",
        "\n",
        "1. Use `prepare_state` to initialize `x` and `y`. Note that `prepare_state` works with probabilities, not amplitudes.\n",
        "   The declaration of the `prepare_state` function is:\n",
        "   ```\n",
        "        @qfunc(external=True)\n",
        "        def prepare_state(\n",
        "            probabilities: CArray[CReal],\n",
        "            bound: CReal,\n",
        "            out: Output[QArray[QBit]],\n",
        "        ) -> None:\n",
        "            pass\n",
        "   ```\n",
        "   (Set the bound to 0 in your code)\n",
        "2. Compute `res = x + y`. Execute the resulting circuit. What did you get?"
      ]
    },
    {
      "cell_type": "code",
      "execution_count": 54,
      "metadata": {
        "colab": {
          "base_uri": "https://localhost:8080/"
        },
        "id": "AZVY_QCnXCCn",
        "outputId": "6daf0e9c-7515-4c7c-a00d-27047a0dbffd"
      },
      "outputs": [
        {
          "output_type": "stream",
          "name": "stdout",
          "text": [
            "Opening: https://platform.classiq.io/circuit/00cee5fe-15b7-4b55-b98a-0217ece00bd1?version=0.41.2\n"
          ]
        }
      ],
      "source": [
        "from classiq import *\n",
        "\n",
        "@qfunc\n",
        "def main(res: Output[QNum]) -> None:\n",
        "    x = QNum(\"x\")\n",
        "    y = QNum(\"y\")\n",
        "    prepare_state([0.5, 0, 0.5, 0], 0, x)\n",
        "    prepare_state([0, 0.25, 0.25, 0.25, 0, 0, 0.25, 0], 0, y)\n",
        "    res |= x + y\n",
        "\n",
        "\n",
        "qmod = create_model(main)\n",
        "qprog = synthesize(qmod)\n",
        "show(qprog)"
      ]
    },
    {
      "cell_type": "markdown",
      "metadata": {
        "id": "oreTIx5wXCCn"
      },
      "source": [
        "### Exercise 8 - Within-Apply\n",
        "\n",
        "The within-apply statement applies the pattern `U_dagger V U` that appears frequently in quantum computing.\n",
        "It allows you to compute some function `V` within the context of another function `U`, and afterward uncompute `U` in order to release auxiliary qubits storing intermediate results.\n",
        "\n",
        "See also [Within Apply](https://docs.classiq.io/latest/user-guide/platform/qmod/language-reference/statements/within-apply/).\n",
        "\n",
        "#### Exercise 8a\n",
        "\n",
        "In this exercise, we will use within-apply to compute an arithmetic expression in steps.\n",
        "\n",
        "Use the `within_apply` operation to calculate `res = x + y + z` from a two-variable addition building block with the following steps:\n",
        "1. Add `x` and `y`\n",
        "2. Add the result to `z`\n",
        "3. Uncompute the result of the first operation\n",
        "\n",
        "For simplicity, initialize the registers to simple integers: `x=3`, `y=5`, `z=2`.\n",
        "\n",
        "Hints:\n",
        "\n",
        "* Use a temporary variable.\n",
        "* Wrap the arithmetic operation in a function.\n",
        "\n",
        "Execute the circuit and make sure you obtain the expected result."
      ]
    },
    {
      "cell_type": "code",
      "execution_count": 55,
      "metadata": {
        "colab": {
          "base_uri": "https://localhost:8080/"
        },
        "id": "lYDlMkAyXCCp",
        "outputId": "07b6999b-8b98-4557-fb3a-268b2e10d0f1"
      },
      "outputs": [
        {
          "output_type": "stream",
          "name": "stdout",
          "text": [
            "Opening: https://platform.classiq.io/circuit/a44e6dd1-535b-43c9-833d-aae16b3fc9fe?version=0.41.2\n"
          ]
        }
      ],
      "source": [
        "from classiq import *\n",
        "\n",
        "@qfunc\n",
        "def adding_numbers(a: QNum, b:QNum, result: Output[QNum]):\n",
        "    result |= a + b\n",
        "\n",
        "@qfunc\n",
        "def main(res: Output[QNum]):\n",
        "    x = QNum(\"x\")\n",
        "    y = QNum(\"y\")\n",
        "    z = QNum(\"z\")\n",
        "\n",
        "    prepare_int(3, x)\n",
        "    prepare_int(5, y)\n",
        "    prepare_int(2, z)\n",
        "\n",
        "    aux = QNum(\"aux\")\n",
        "\n",
        "    within_apply(\n",
        "        compute=lambda: adding_numbers(x, y, aux),\n",
        "        action=lambda: adding_numbers(aux, z, res)\n",
        "    )\n",
        "\n",
        "qmod = create_model(main)\n",
        "qprog = synthesize(qmod)\n",
        "show(qprog)"
      ]
    },
    {
      "cell_type": "markdown",
      "metadata": {
        "id": "xMUsxvhrXCCp"
      },
      "source": [
        "#### Exercise 8b\n",
        "\n",
        "Why should we use `within-apply` and not just write three concatenated functions?\n",
        "To understand the motivation, we will create another arithmetic circuit.\n",
        "This time, however, we will also set Classiq’s synthesis engine to optimize on the circuit’s number of qubits, i.e., its width.\n",
        "\n",
        "Setting constraints can be done via the `set_constraints` operation - see [here](https://docs.classiq.io/latest/user-guide/platform/synthesis/constraints/).\n",
        "\n",
        "Perform the operation `res = w + x + y + z`, where w is initialized to 4 and the rest as before:\n",
        "\n",
        "1. Add `x` and `y` (as part of the `within_apply` operation)\n",
        "2. Add the result to `z` (as part of the within_apply operation)\n",
        "3. Uncompute the result of the first operation (as part of the `within_apply` operation)\n",
        "4. Add the result of the second operation to `w`. There’s no need to perform another uncomputation, as this brings our calculation to an end.\n",
        "\n",
        "Create the model, optimize on the circuit’s width, and run the circuit. Can you identify where qubits have been released and reused?"
      ]
    },
    {
      "cell_type": "code",
      "execution_count": 56,
      "metadata": {
        "colab": {
          "base_uri": "https://localhost:8080/"
        },
        "id": "j1ZCMo_AXCCp",
        "outputId": "f4b9c054-c2f8-4170-e765-00cded2c09ae"
      },
      "outputs": [
        {
          "output_type": "stream",
          "name": "stdout",
          "text": [
            "Opening: https://platform.classiq.io/circuit/0520e2ca-5082-422b-97fc-8806b1c91c2a?version=0.41.2\n"
          ]
        }
      ],
      "source": [
        "from classiq import *\n",
        "\n",
        "constraints = Constraints(optimization_parameter='width')\n",
        "\n",
        "@qfunc\n",
        "def main(res: Output[QNum]):\n",
        "    x = QNum(\"x\")\n",
        "    y = QNum(\"y\")\n",
        "    z = QNum(\"z\")\n",
        "    w = QNum(\"w\")\n",
        "\n",
        "    aux = QNum(\"aux\")\n",
        "    aux2 = QNum(\"aux2\")\n",
        "\n",
        "    prepare_int(3, x)\n",
        "    prepare_int(5, y)\n",
        "    prepare_int(2, z)\n",
        "    prepare_int(4, w)\n",
        "\n",
        "    within_apply(\n",
        "        compute=lambda: adding_numbers(x, y, aux),\n",
        "        action=lambda: adding_numbers(aux, z, aux2)\n",
        "    )\n",
        "\n",
        "    adding_numbers(aux2, w, res)\n",
        "\n",
        "qmod = create_model(main)\n",
        "qmod = set_constraints(qmod, constraints)\n",
        "qprog = synthesize(qmod)\n",
        "show(qprog)"
      ]
    },
    {
      "cell_type": "markdown",
      "metadata": {
        "id": "49DFoEuZXCCp"
      },
      "source": [
        "#### Bonus: Use a Single Arithmetic Expression\n",
        "\n",
        "What happens when we don't manually decompose this expression?\n",
        "\n",
        "Use Classiq’s arithmetic engine to calculate `res |= x + y + z + w` and optimize for width.\n",
        "Look at the resulting quantum program - can you identify the computation and uncomputation blocks? What else did you notice?"
      ]
    },
    {
      "cell_type": "code",
      "execution_count": 57,
      "metadata": {
        "colab": {
          "base_uri": "https://localhost:8080/"
        },
        "id": "-VA6h6ggXCCp",
        "outputId": "003a50a5-c530-45f0-b16c-d9b31d12d096"
      },
      "outputs": [
        {
          "output_type": "stream",
          "name": "stdout",
          "text": [
            "Opening: https://platform.classiq.io/circuit/033f1238-a846-4b23-bf98-83bc2bef74f5?version=0.41.2\n"
          ]
        }
      ],
      "source": [
        "from classiq import *\n",
        "\n",
        "@qfunc\n",
        "def main(res: Output[QNum]):\n",
        "    x = QNum(\"x\")\n",
        "    y = QNum(\"y\")\n",
        "    z = QNum(\"z\")\n",
        "    w = QNum(\"w\")\n",
        "\n",
        "    prepare_int(3, x)\n",
        "    prepare_int(5, y)\n",
        "    prepare_int(2, z)\n",
        "    prepare_int(4, w)\n",
        "\n",
        "    res |= x + y + z + w\n",
        "\n",
        "qmod = create_model(main)\n",
        "qmod = set_constraints(qmod, constraints)\n",
        "qprog = synthesize(qmod)\n",
        "show(qprog)"
      ]
    },
    {
      "cell_type": "markdown",
      "metadata": {
        "id": "m2cDWwOuXCCq"
      },
      "source": [
        "### Exercise 9 - In-place Arithmetics\n",
        "\n",
        "For the following exercise we will use numeric quantum variables that represent fixed-point reals.\n",
        "\n",
        "Arithmetic expressions can be calculated in-place into a target variable, without allocating new qubits to store the result. This is done using the in-place-xor operator.\n",
        "\n",
        "See also [Numeric assignment](https://docs.classiq.io/latest/user-guide/platform/qmod/language-reference/statements/numeric-assignment/#semantics).\n",
        "\n",
        "In-place assignment is often used to nest arithmetic expressions under quantum operators. Note that out-of-place assignment requires its left-value variable to be un-initialized, and therefore cannot be used under an operator if the variable is declared outside its scope. Applying operators to arithmetic expressions is required in many algorithms. One example is the piecewise evaluation of mathematical functions - calculating different expressions over `x` depending on the subdomain where `x` falls.\n",
        "\n",
        "For this exercise, replace the missing parts in the code snippet below to evaluate the result of:\n",
        "\n",
        "$$\n",
        "f(x) = \\begin{cases}\n",
        "      2x + 1 & \\text{ if } 0 \\leq x < 0.5 \\\\\n",
        "      x + 0.5 & \\text{ if } 0.5 \\leq x < 1\n",
        "   \\end{cases}\n",
        "$$\n",
        "\n",
        "Notes:\n",
        "- We cannot use `x` directly as the control variable in a `constrol` operator, because it also occurs in the nested scope. to determine if `x` is in the lower or higher half of the domain we duplicate the most significant bit onto a separate variable called `label`.\n",
        "- In Python assignment operators cannot be used in lambda expressions, so the computation of the function needs to be factored out to a named Python function (but not necessarily a Qmod function).\n"
      ]
    },
    {
      "cell_type": "code",
      "execution_count": 65,
      "metadata": {
        "colab": {
          "base_uri": "https://localhost:8080/"
        },
        "id": "wAZA2KrIXCCq",
        "outputId": "781a00a2-7d2b-4af8-a307-de1d3b24de10"
      },
      "outputs": [
        {
          "output_type": "stream",
          "name": "stdout",
          "text": [
            "Opening: https://platform.classiq.io/circuit/c819dbc0-23d6-473d-9fc4-a267eece2758?version=0.41.2\n"
          ]
        }
      ],
      "source": [
        "from classiq import *\n",
        "\n",
        "\n",
        "def linear_func(a: float, b: float, x: QNum, res: QNum) -> None:\n",
        "    res ^= a * x + b\n",
        "\n",
        "\n",
        "@qfunc\n",
        "def dup_msb(qba: QArray[QBit], msb: QBit) -> None:\n",
        "    CX(qba[qba.len - 1], msb)\n",
        "\n",
        "\n",
        "@qfunc\n",
        "def main(x: Output[QNum[3, False, 3]], res: Output[QNum[5, False, 3]]) -> None:\n",
        "    allocate(5, res)\n",
        "    allocate(3, x)\n",
        "    hadamard_transform(x)\n",
        "\n",
        "    label = QArray(\"label\")\n",
        "    allocate(1, label)\n",
        "\n",
        "    dup_msb(x, label)\n",
        "    control(label, lambda: linear_func(1.0, 0.5, x, res))  # 0.5 <= x < 1.0\n",
        "    X(label)\n",
        "    control(label, lambda: linear_func(2.0, 1.0, x, res))  # 0.0 <= x < 0.5\n",
        "\n",
        "\n",
        "qmod = create_model(main)\n",
        "qprog = synthesize(qmod)\n",
        "show(qprog)"
      ]
    },
    {
      "cell_type": "markdown",
      "metadata": {
        "id": "RMU4kRobXCCq"
      },
      "source": [
        "### Exercise 10 - State-preparation Algorithm using Quantum-if\n",
        "\n",
        "#### Binding\n",
        "The `bind` operation allows to convert smoothly between different quantum types and split or slice bits when necessary. Here’s an example:"
      ]
    },
    {
      "cell_type": "code",
      "execution_count": 66,
      "metadata": {
        "colab": {
          "base_uri": "https://localhost:8080/"
        },
        "id": "OYT_UWK8XCCq",
        "outputId": "24490d24-4680-4a28-ded4-cab57dd2ed33"
      },
      "outputs": [
        {
          "output_type": "stream",
          "name": "stdout",
          "text": [
            "Opening: https://platform.classiq.io/circuit/c5cca7fe-ee7e-45da-a716-765e9c443c93?version=0.41.2\n"
          ]
        }
      ],
      "source": [
        "from classiq import *\n",
        "\n",
        "\n",
        "\n",
        "from classiq import *\n",
        "from math import pi\n",
        "\n",
        "\n",
        "@qfunc\n",
        "def main(res: Output[QArray[QBit]]) -> None:\n",
        "    x: QArray[QBit] = QArray(\"x\")\n",
        "    allocate(3, x)\n",
        "    hadamard_transform(x)\n",
        "\n",
        "    lsb = QBit(\"lsb\")\n",
        "    msb = QNum(\"msb\", 2, False, 0)\n",
        "    bind(x, [lsb, msb])\n",
        "\n",
        "    control(msb == 1, lambda: RY(pi / 3, lsb))\n",
        "\n",
        "    bind([lsb, msb], res)\n",
        "\n",
        "model = create_model(main)\n",
        "qprog = synthesize(model)\n",
        "show(qprog)"
      ]
    },
    {
      "cell_type": "markdown",
      "metadata": {
        "id": "SdfiaiFHXCCq"
      },
      "source": [
        "The first `bind` operation splits the 3-qubit register `x` into the 2-qubit and single-qubit registers `lsb` and `msb`, respectively.\n",
        "\n",
        "After the `bind` operation:\n",
        "1. The registers `lsb` and `msb` can be operated on as separated registers.\n",
        "2. The register`x` is consumed and can no longer be used.\n",
        "\n",
        "The second `bind` operation concatenates the registers to the output register `res`.\n",
        "\n",
        "For this exercise, fill in the missing code parts in the above snippet and use the `control` statement to manually generate the following lovely 3-qubit probability distribution: `[1/8, 1/8, 1/8, -sqrt(3)/16, 1/8 + sqrt(3)/16, 1/8, 1/8, 1/8, 1/8]`.\n",
        "\n",
        "The following series of gates generate it:\n",
        "\n",
        "Perform the Hadamard transform on all three qubits.\n",
        "\n",
        "Apply a rotation on the LSB (least-significant bit) conditioned by the MSB being |0> and the second to last MSB being |1>. How would you write this condition using a QNum?\n",
        "\n",
        "The following series of gates generate it:\n",
        "1. Perform the Hadamard transform on all three qubits.\n",
        "2. Apply a `pi/3` rotation on the LSB (least-significant bit) conditioned by the MSB being |0> and the second to last MSB being |1>. How would you write this condition using a QNum?\n",
        "\n",
        "If you want to validate your results without looking at the full solution, compare them to running using Classiq’s built-in `prepare_state` function.\n"
      ]
    },
    {
      "cell_type": "code",
      "execution_count": 70,
      "metadata": {
        "colab": {
          "base_uri": "https://localhost:8080/"
        },
        "id": "jSfH5u7UXCCq",
        "outputId": "d43d5885-b50e-414b-bee2-966e32b6aaa2"
      },
      "outputs": [
        {
          "output_type": "stream",
          "name": "stdout",
          "text": [
            "Opening: https://platform.classiq.io/circuit/cb7b9167-4c1f-4ab5-9149-60ee880e84e1?version=0.41.2\n"
          ]
        }
      ],
      "source": [
        "from classiq import *\n",
        "from classiq.qmod.symbolic import sqrt,pi\n",
        "\n",
        "prob_list= [\n",
        "            1 / 8,\n",
        "            1 / 8,\n",
        "            1 / 8,\n",
        "            1/8 -sqrt(3) / 16,\n",
        "            1 / 8 + sqrt(3) / 16,\n",
        "            1 / 8,\n",
        "            1 / 8,\n",
        "            1 / 8\n",
        "        ]\n",
        "@qfunc\n",
        "def pre_prepared_state(q: QArray[QBit]) -> None:\n",
        "    prepare_state(\n",
        "        [\n",
        "            1 / 8,\n",
        "            1 / 8,\n",
        "            1 / 8,\n",
        "            1/8-sqrt(3) / 16,\n",
        "            1 / 8 + sqrt(3) / 16,\n",
        "            1 / 8,\n",
        "            1 / 8,\n",
        "            1 / 8,\n",
        "        ],\n",
        "        0.0,\n",
        "        q,\n",
        "    )\n",
        "\n",
        "\n",
        "# Your code here:\n",
        "@qfunc\n",
        "def main(res: Output[QArray[QBit]]) -> None:\n",
        "    prepare_state(probabilities=prob_list, bound=0, out=res)\n",
        "\n",
        "\n",
        "model = create_model(main)\n",
        "qprog = synthesize(model)\n",
        "show(qprog)"
      ]
    },
    {
      "cell_type": "code",
      "source": [
        "@qfunc\n",
        "def main(res: Output[QArray[QBit]]) -> None:\n",
        "    x: QArray[QBit] = QArray(\"x\")\n",
        "    allocate(3, x)\n",
        "    hadamard_transform(x)\n",
        "\n",
        "    lsb = QBit(\"lsb\")\n",
        "    msb = QNum(\"msb\", 2, False, 0)\n",
        "    bind(x, [lsb, msb])\n",
        "\n",
        "    control(msb == 2, lambda: RY(pi / 3, lsb))\n",
        "\n",
        "    bind([lsb, msb], res)\n",
        "\n",
        "model = create_model(main)\n",
        "qprog = synthesize(model)\n",
        "show(qprog)"
      ],
      "metadata": {
        "colab": {
          "base_uri": "https://localhost:8080/"
        },
        "id": "1Ahg4CSFZ4sE",
        "outputId": "10256450-692b-46d4-b6ee-21ef9c679471"
      },
      "execution_count": 68,
      "outputs": [
        {
          "output_type": "stream",
          "name": "stdout",
          "text": [
            "Opening: https://platform.classiq.io/circuit/d31803ef-5718-4b61-9619-f73d18d2903d?version=0.41.2\n"
          ]
        }
      ]
    },
    {
      "cell_type": "markdown",
      "source": [],
      "metadata": {
        "id": "2p6AdxtYiagS"
      }
    }
  ],
  "metadata": {
    "kernelspec": {
      "display_name": "Python 3 (ipykernel)",
      "language": "python",
      "name": "python3"
    },
    "language_info": {
      "codemirror_mode": {
        "name": "ipython",
        "version": 3
      },
      "file_extension": ".py",
      "mimetype": "text/x-python",
      "name": "python",
      "nbconvert_exporter": "python",
      "pygments_lexer": "ipython3",
      "version": "3.11.8"
    },
    "colab": {
      "provenance": []
    }
  },
  "nbformat": 4,
  "nbformat_minor": 0
}