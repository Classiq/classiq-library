{
 "cells": [
  {
   "cell_type": "markdown",
   "metadata": {
    "id": "RyYX0oEHP7ww"
   },
   "source": [
    "# The Qmod Workshop - Part 2: Higher-Level Concepts\n",
    "\n",
    "This is the second part of the Qmod workshop, covering exercises 6 through 10. Make sure to go through Part 1 before continuing with this notebook."
   ]
  },
  {
   "cell_type": "code",
   "execution_count": null,
   "metadata": {
    "colab": {
     "base_uri": "https://localhost:8080/",
     "height": 0
    },
    "id": "-xGG1F4dQFYM",
    "outputId": "0d119fb0-5ddb-4067-ec41-ff1ead7d6e91"
   },
   "outputs": [],
   "source": [
    "!pip install -U classiq"
   ]
  },
  {
   "cell_type": "code",
   "execution_count": null,
   "metadata": {
    "colab": {
     "base_uri": "https://localhost:8080/",
     "height": 0
    },
    "id": "4PRC6qblRQiF",
    "outputId": "14bd0a31-f7af-412f-a5a8-9f3ec1499b30"
   },
   "outputs": [],
   "source": [
    "import classiq\n",
    "classiq.authenticate()"
   ]
  },
  {
   "cell_type": "code",
   "execution_count": null,
   "metadata": {
    "id": "30U0hh4OP7w_",
    "tags": []
   },
   "outputs": [],
   "source": [
    "from classiq import *"
   ]
  },
  {
   "cell_type": "markdown",
   "metadata": {
    "id": "uzy0m10PP7xK"
   },
   "source": [
    "### Exercise 6 - Exponentiation and Pauli Operators\n",
    "\n",
    "The Qmod language supports different classical types: scalars, arrays, and structs. Structs are objects with member variables, or fields.\n",
    "\n",
    "See also Classical Types.\n",
    "\n",
    "The builtin struct type `PauliTerm` is defined as follows:"
   ]
  },
  {
   "cell_type": "code",
   "execution_count": null,
   "metadata": {
    "id": "026kr-BdP7xN",
    "tags": []
   },
   "outputs": [],
   "source": [
    "@struct\n",
    "class PauliTerm:\n",
    "    pauli: CArray[Pauli]\n",
    "    coefficient: CReal"
   ]
  },
  {
   "cell_type": "markdown",
   "metadata": {
    "id": "lixhso1AP7xU"
   },
   "source": [
    "Note that `Pauli` is an enum for all the Pauli matrices (I, X, Y, Z).\n",
    "\n",
    "Pauli based hamiltonian can be represented as a list of `PauliTerm`s. A Pauli operator defined this way is the argument to a hamiltonian evolution functions.\n",
    "\n",
    "In this exercise we will use the Suzuki-Trotter function to find the evolution of `H=0.5XZXX + 0.25YIZI + 0.3 XIZY` (captured as a literal value for the pauli-operator), with the evolution coefficient being 3, the order being 2, and use 4 repetitions.\n",
    "\n",
    "The declaration of the `suzuki_trotter` function is:"
   ]
  },
  {
   "cell_type": "code",
   "execution_count": null,
   "metadata": {
    "id": "y68mlr9iP7xY",
    "tags": []
   },
   "outputs": [],
   "source": [
    "@qfunc(external=True)\n",
    "def suzuki_trotter(\n",
    "    pauli_operator: CArray[PauliTerm],\n",
    "    evolution_coefficient: CReal,\n",
    "    order: CInt,\n",
    "    repetitions: CInt,\n",
    "    qbv: QArray[QBit],\n",
    ") -> None:\n",
    "    pass"
   ]
  },
  {
   "cell_type": "markdown",
   "metadata": {
    "id": "wXd_0OOGP7xa"
   },
   "source": [
    "Fill in the missing parts of the following code in order to complete this exercise:"
   ]
  },
  {
   "cell_type": "code",
   "execution_count": null,
   "metadata": {
    "colab": {
     "base_uri": "https://localhost:8080/",
     "height": 0
    },
    "id": "jP-lzZwSP7xc",
    "outputId": "95cea767-0b3d-429d-e691-a5cbda601fac",
    "tags": []
   },
   "outputs": [],
   "source": [
    "from classiq import *\n",
    "\n",
    "\n",
    "@qfunc\n",
    "def main(q: Output[QArray[QBit]]) -> None:\n",
    "    allocate(4, q)\n",
    "    suzuki_trotter(\n",
    "        [\n",
    "            PauliTerm(pauli=[Pauli.X, Pauli.Z, Pauli.X, Pauli.X], coefficient=0.5),\n",
    "            PauliTerm(pauli=[Pauli.Y, Pauli.I, Pauli.Z, Pauli.I], coefficient=0.25),\n",
    "            PauliTerm(pauli=[Pauli.X, Pauli.I, Pauli.Z, Pauli.Y], coefficient=0.3),\n",
    "        ],\n",
    "        evolution_coefficient=3,\n",
    "        repetitions=4,\n",
    "        order=2,\n",
    "        qbv=q,\n",
    "    )\n",
    "\n",
    "\n",
    "\n",
    "qmod = create_model(main)\n",
    "qprog = synthesize(qmod)\n",
    "show(qprog)"
   ]
  },
  {
   "cell_type": "markdown",
   "metadata": {
    "id": "XqDpPGUzP7xj",
    "tags": []
   },
   "source": [
    "### Exercise 7 - Basic Arithmetics\n",
    "\n",
    "#### Exercise 7a\n",
    "In this exercise we will use quantum numeric variables and calculate expressions over them.\n",
    "\n",
    "See details on the syntax of numeric types under Quantum types.\n",
    "See more on quantum expressions under Numeric assignment.\n",
    "\n",
    "Create the following quantum programs:\n",
    "1. Initialize variables `x=2`, `y=7` and computes `res = x + y`.\n",
    "2. Initialize variables `x=2`, `y=7` and computes `res = x * y`.\n",
    "3. Initialize variables `x=2`, `y=7`, `z=1` and computes `res = x * y - z`.\n",
    "\n",
    "Guidance:\n",
    "* Use the operator `|=` to perform out-of-place assignment of arithmetic expression.\n",
    "* To initialize the variables, use the function `prepare_int`.\n"
   ]
  },
  {
   "cell_type": "code",
   "execution_count": null,
   "metadata": {
    "colab": {
     "base_uri": "https://localhost:8080/",
     "height": 0
    },
    "id": "ZAXVGyKGP7xm",
    "outputId": "24717872-2e6f-42ba-a248-a0092527101a",
    "tags": []
   },
   "outputs": [],
   "source": [
    "from classiq import *\n",
    "\n",
    "# Your code here:\n",
    "@qfunc\n",
    "def main(x: Output[QNum], y: Output[QNum],z:Output[QNum],out1: Output[QNum],out2:Output[QNum],out3:Output[QNum]) -> None:\n",
    "\n",
    "    prepare_int(2,x)\n",
    "    prepare_int(7,y)\n",
    "    prepare_int(1,z)\n",
    "    out1 |= (x + y)\n",
    "    out2 |= (x * y)\n",
    "    out3 |= (x * y -z)\n",
    "\n",
    "\n",
    "qmod = create_model(main)\n",
    "qprog = synthesize(qmod)\n",
    "show(qprog)"
   ]
  },
  {
   "cell_type": "markdown",
   "metadata": {
    "id": "HKRsE0MBP7xq"
   },
   "source": [
    "#### Exercise 7b\n",
    "Declare `x` to be a 2-qubit variable and `y` to be 3-qubit variable.\n",
    "\n",
    "We will perform an addition of two superposition states: `x` is an equal superposition of `0` and `2`, and `y` is an equal superposition of `1`, `2`, `3`, and `6`.\n",
    "\n",
    "1. Use `prepare_state` to initialize `x` and `y`. Note that `prepare_state` works with probabilities, not amplitudes.\n",
    "   The declaration of the `prepare_state` function is:\n",
    "   ```\n",
    "        @qfunc(external=True)\n",
    "        def prepare_state(\n",
    "            probabilities: CArray[CReal],\n",
    "            bound: CReal,\n",
    "            out: Output[QArray[QBit]],\n",
    "        ) -> None:\n",
    "            pass\n",
    "   ```\n",
    "   (Set the bound to 0 in your code)\n",
    "2. Compute `res = x + y`. Execute the resulting circuit. What did you get?"
   ]
  },
  {
   "cell_type": "code",
   "execution_count": null,
   "metadata": {
    "colab": {
     "base_uri": "https://localhost:8080/",
     "height": 0
    },
    "id": "bpYRgiU7P7xt",
    "outputId": "d45029ce-54ca-4eb4-a6ba-b34c7768caab",
    "tags": []
   },
   "outputs": [],
   "source": [
    "from classiq import *\n",
    "\n",
    "# Your code here:\n",
    "from classiq import QBit, QArray, CArray, CReal, Output, qfunc\n",
    "@qfunc\n",
    "def main(res:Output[QNum], x:Output[QNum],y:Output[QNum]) -> None:\n",
    "# Declare x to be a 2-qubit variable and y to be 3-qubit variable.\n",
    "\n",
    "    # Prepare x and y\n",
    "    prepare_state([0.5, 0, 0.5, 0], out=x,bound= 0)\n",
    "    prepare_state([0, 0.25, 0.25, 0.25, 0, 0, 0.25, 0], out=y, bound=0)\n",
    "\n",
    "    # Compute res = x + y\n",
    "    res |= x + y\n",
    "\n",
    "\n",
    "qmod = create_model(main)\n",
    "qprog = synthesize(qmod)\n",
    "show(qprog)"
   ]
  },
  {
   "cell_type": "markdown",
   "metadata": {
    "id": "fZjArRSgP7xw",
    "tags": []
   },
   "source": [
    "### Exercise 8 - Within-Apply\n",
    "\n",
    "The within-apply statement applies the pattern `U_dagger V U` that appears frequently in quantum computing.\n",
    "It allows you to compute some function `V` within the context of another function `U`, and afterward uncompute `U` in order to release auxiliary qubits storing intermediate results.\n",
    "\n",
    "See also Within Apply.\n",
    "\n",
    "#### Exercise 8a\n",
    "\n",
    "In this exercise, we will use within-apply to compute an arithmetic expression in steps.\n",
    "\n",
    "Use the `within_apply` operation to calculate `res = x + y + z` from a two-variable addition building block with the following steps:\n",
    "1. Add `x` and `y`\n",
    "2. Add the result to `z`\n",
    "3. Uncompute the result of the first operation\n",
    "\n",
    "For simplicity, initialize the registers to simple integers: `x=3`, `y=5`, `z=2`.\n",
    "\n",
    "Hints:\n",
    "\n",
    "* Use a temporary variable.\n",
    "* Wrap the arithmetic operation in a function.\n",
    "\n",
    "Execute the circuit and make sure you obtain the expected result."
   ]
  },
  {
   "cell_type": "code",
   "execution_count": null,
   "metadata": {
    "colab": {
     "base_uri": "https://localhost:8080/",
     "height": 0
    },
    "id": "p1-jN9k_P7xy",
    "outputId": "1e5cb568-6d52-441b-ea55-8006fc66e7ed",
    "tags": []
   },
   "outputs": [],
   "source": [
    "from classiq import *\n",
    "\n",
    "# Your code here:\n",
    "\n",
    "\n",
    "@qfunc\n",
    "def add_xy(x:QNum, y:QNum, res: Output[QNum]) ->None:\n",
    "    res |= x + y\n",
    "\n",
    "\n",
    "@qfunc\n",
    "def main(res: Output[QNum],x:Output[QNum],y:Output[QNum],z:Output[QNum]) -> None:\n",
    "    #x = QNum('x')\n",
    "    #y = QNum('y')\n",
    "    #z = QNum('z')\n",
    "    prepare_int(3, x)\n",
    "    prepare_int(5, y)\n",
    "    prepare_int(2, z)\n",
    "\n",
    "    temp = QNum('temp')\n",
    "    within_apply(compute= lambda: add_xy(x, y, temp),\n",
    "                action= lambda: add_xy(temp, z, res))\n",
    "qmod = create_model(main)\n",
    "qprog = synthesize(qmod)\n",
    "show(qprog)\n"
   ]
  },
  {
   "cell_type": "markdown",
   "metadata": {
    "id": "QlAfKwmFP7x0",
    "tags": []
   },
   "source": [
    "#### Exercise 8b\n",
    "\n",
    "Why should we use `within-apply` and not just write three concatenated functions?\n",
    "To understand the motivation, we will create another arithmetic circuit.\n",
    "This time, however, we will also set Classiq’s synthesis engine to optimize on the circuit’s number of qubits, i.e., its width.\n",
    "\n",
    "Setting constraints can be done via the `set_constraints` operation - see here.\n",
    "\n",
    "Perform the operation `res = w + x + y + z`, where w is initialized to 4 and the rest as before:\n",
    "\n",
    "1. Add `x` and `y` (as part of the `within_apply` operation)\n",
    "2. Add the result to `z` (as part of the within_apply operation)\n",
    "3. Uncompute the result of the first operation (as part of the `within_apply` operation)\n",
    "4. Add the result of the second operation to `w`. There’s no need to perform another uncomputation, as this brings our calculation to an end.\n",
    "\n",
    "Create the model, optimize on the circuit’s width, and run the circuit. Can you identify where qubits have been released and reused?"
   ]
  },
  {
   "cell_type": "code",
   "execution_count": null,
   "metadata": {
    "colab": {
     "base_uri": "https://localhost:8080/",
     "height": 0
    },
    "id": "xVdg75QGP7x4",
    "outputId": "cfb22e39-7a61-4593-f60b-29ff7c011039",
    "tags": []
   },
   "outputs": [],
   "source": [
    "from classiq import *\n",
    "\n",
    "# Your code here:\n",
    "qfunc\n",
    "def add_ab(res: Output[QNum], a:QNum, b:QNum) -> None:\n",
    "  res |= a + b\n",
    "\n",
    "@qfunc\n",
    "def main(res: Output[QNum], x: Output[QNum],\n",
    "         y: Output[QNum], z: Output[QNum], w: Output[QNum]) -> None:\n",
    "    prepare_int(3, x)\n",
    "    prepare_int(5, y)\n",
    "    prepare_int(2, z)\n",
    "    prepare_int(4, w)\n",
    "    temp1 = QNum('temp1')\n",
    "    temp2 = QNum('temp2')\n",
    "    within_apply(compute = lambda: add_ab(temp1, x, y),\n",
    "                 action = lambda: add_ab(temp2, temp1, z),)\n",
    "    res |= temp2 + w\n",
    "\n",
    "\n",
    "\n",
    "qmod = create_model(main)\n",
    "qmod = set_constraints(qmod,\n",
    "                       Constraints(optimization_parameter='width'))\n",
    "qprog = synthesize(qmod)\n",
    "show(qprog)\n"
   ]
  },
  {
   "cell_type": "markdown",
   "metadata": {
    "id": "K1-qAHJwP7x6"
   },
   "source": [
    "#### Bonus: Use a Single Arithmetic Expression\n",
    "\n",
    "What happens when we don't manually decompose this expression?\n",
    "\n",
    "Use Classiq’s arithmetic engine to calculate `res |= x + y + z + w` and optimize for width.\n",
    "Look at the resulting quantum program - can you identify the computation and uncomputation blocks? What else did you notice?"
   ]
  },
  {
   "cell_type": "code",
   "execution_count": null,
   "metadata": {
    "colab": {
     "base_uri": "https://localhost:8080/",
     "height": 0
    },
    "id": "ugVsWlxdP7x8",
    "outputId": "b161cc81-7016-4e34-8bfd-41cd5b4c6374",
    "tags": []
   },
   "outputs": [],
   "source": [
    "from classiq import *\n",
    "\n",
    "# Your code here:\n",
    "\n",
    "@qfunc\n",
    "def main(res: Output[QNum], x: Output[QNum],\n",
    "         y: Output[QNum], z: Output[QNum], w: Output[QNum]) -> None:\n",
    "    prepare_int(3, x)\n",
    "    prepare_int(5, y)\n",
    "    prepare_int(2, z)\n",
    "    prepare_int(4, w)\n",
    "    res |= x + y + z + w\n",
    "\n",
    "qmod = create_model(main)\n",
    "qmod = set_constraints(qmod,\n",
    "                       Constraints(optimization_parameter='width'))\n",
    "qprog = synthesize(qmod)\n",
    "show(qprog)\n"
   ]
  },
  {
   "cell_type": "markdown",
   "metadata": {
    "id": "_7sJv6NUP7x_"
   },
   "source": [
    "### Exercise 9 - In-place Arithmetics\n",
    "\n",
    "For the following exercise we will use numeric quantum variables that represent fixed-point reals.\n",
    "\n",
    "Arithmetic expressions can be calculated in-place into a target variable, without allocating new qubits to store the result. This is done using the in-place-xor operator.\n",
    "\n",
    "See also Numeric assignment.\n",
    "\n",
    "In-place assignment is often used to nest arithmetic expressions under quantum operators. Note that out-of-place assignment requires its left-value variable to be un-initialized, and therefore cannot be used under an operator if the variable is declared outside its scope. Applying operators to arithmetic expressions is required in many algorithms. One example is the piecewise evaluation of mathematical functions - calculating different expressions over `x` depending on the subdomain where `x` falls.\n",
    "\n",
    "For this exercise, replace the missing parts in the code snippet below to evaluate the result of:\n",
    "\n",
    "$$\n",
    "f(x) = \\begin{cases}\n",
    "      2x + 1 & \\text{ if } 0 \\leq x < 0.5 \\\\\n",
    "      x + 0.5 & \\text{ if } 0.5 \\leq x < 1\n",
    "   \\end{cases}\n",
    "$$\n",
    "\n",
    "Notes:\n",
    "- We cannot use `x` directly as the control variable in a `constrol` operator, because it also occurs in the nested scope. to determine if `x` is in the lower or higher half of the domain we duplicate the most significant bit onto a separate variable called `label`.\n",
    "- In Python assignment operators cannot be used in lambda expressions, so the computation of the function needs to be factored out to a named Python function (but not necessarily a Qmod function).\n"
   ]
  },
  {
   "cell_type": "code",
   "execution_count": null,
   "metadata": {
    "colab": {
     "base_uri": "https://localhost:8080/",
     "height": 0
    },
    "id": "kosXeVgkP7yC",
    "outputId": "cbffe019-d397-42b4-b0df-45898902c57b",
    "tags": []
   },
   "outputs": [],
   "source": [
    "\n",
    "from classiq import *\n",
    "\n",
    "\n",
    "def linear_func(a: float, b: float, x: QNum, res: QNum) -> None:\n",
    "    res = a * x + b\n",
    "\n",
    "\n",
    "@qfunc\n",
    "def dup_msb(qba: QArray[QBit], msb: QBit) -> None:\n",
    "    CX(qba[qba.len - 1], msb)\n",
    "\n",
    "\n",
    "@qfunc\n",
    "def main(x: Output[QNum[3, False, 3]], res: Output[QNum[5, False, 3]]) -> None:\n",
    "    allocate(5, res)\n",
    "    allocate(3, x)\n",
    "    hadamard_transform(x)\n",
    "\n",
    "    label = QArray(\"label\")\n",
    "    allocate(1, label)\n",
    "\n",
    "    dup_msb(x, label)\n",
    "    control(label, lambda: linear_func(1.0, 0.5, x, res))  # 0.5 <= x < 1.0\n",
    "    X(label)\n",
    "    control(label, lambda: linear_func(2.0, 1.0, x, res))  # 0.0 <= x < 0.5\n",
    "\n",
    "\n",
    "qmod = create_model(main)\n",
    "qprog = synthesize(qmod)\n",
    "show(qprog)"
   ]
  },
  {
   "cell_type": "markdown",
   "metadata": {
    "id": "N7uymloXP7yG"
   },
   "source": [
    "### Exercise 10 - State-preparation Algorithm using Quantum-if\n",
    "\n",
    "#### Binding\n",
    "The `bind` operation allows to convert smoothly between different quantum types and split or slice bits when necessary. Here’s an example:"
   ]
  },
  {
   "cell_type": "code",
   "execution_count": null,
   "metadata": {
    "colab": {
     "base_uri": "https://localhost:8080/",
     "height": 0
    },
    "id": "O4GYaZhhP7yI",
    "outputId": "b573b2a3-5337-475e-f720-e5ec59e8a6db",
    "tags": []
   },
   "outputs": [],
   "source": [
    "from classiq import *\n",
    "\n",
    "\n",
    "\n",
    "from classiq import *\n",
    "from math import pi\n",
    "\n",
    "\n",
    "@qfunc\n",
    "def main(res: Output[QArray[QBit]]) -> None:\n",
    "    x: QArray[QBit] = QArray(\"x\")\n",
    "    allocate(3, x)\n",
    "    hadamard_transform(x)\n",
    "\n",
    "    lsb = QBit(\"lsb\")\n",
    "    msb = QNum(\"msb\", 2, False, 0)\n",
    "    bind(x, [lsb, msb])\n",
    "\n",
    "    control(msb == 1, lambda: RY(pi / 3, lsb))   # msb==1 <==> bit1 bit2 == 01 (binary of decimal 1)\n",
    "\n",
    "    bind([lsb, msb], res)\n",
    "\n",
    "model = create_model(main)\n",
    "qprog = synthesize(model)\n",
    "show(qprog)"
   ]
  },
  {
   "cell_type": "markdown",
   "metadata": {
    "id": "Q8Xs_UXuP7yK"
   },
   "source": [
    "The first `bind` operation splits the 3-qubit register `x` into the 2-qubit and single-qubit registers `lsb` and `msb`, respectively.\n",
    "\n",
    "After the `bind` operation:\n",
    "1. The registers `lsb` and `msb` can be operated on as separated registers.\n",
    "2. The register`x` is consumed and can no longer be used.\n",
    "\n",
    "The second `bind` operation concatenates the registers to the output register `res`.\n",
    "\n",
    "For this exercise, fill in the missing code parts in the above snippet and use the `control` statement to manually generate the following lovely 3-qubit probability distribution: `[1/8, 1/8, 1/8, -sqrt(3)/16, 1/8 + sqrt(3)/16, 1/8, 1/8, 1/8, 1/8]`.\n",
    "\n",
    "The following series of gates generate it:\n",
    "\n",
    "Perform the Hadamard transform on all three qubits.\n",
    "\n",
    "Apply a rotation on the LSB (least-significant bit) conditioned by the MSB being |0> and the second to last MSB being |1>. How would you write this condition using a QNum?\n",
    "\n",
    "The following series of gates generate it:\n",
    "1. Perform the Hadamard transform on all three qubits.\n",
    "2. Apply a `pi/3` rotation on the LSB (least-significant bit) conditioned by the MSB being |0> and the second to last MSB being |1>. How would you write this condition using a QNum?\n",
    "\n",
    "If you want to validate your results without looking at the full solution, compare them to running using Classiq’s built-in `prepare_state` function.\n"
   ]
  },
  {
   "cell_type": "code",
   "execution_count": null,
   "metadata": {
    "colab": {
     "base_uri": "https://localhost:8080/",
     "height": 0
    },
    "id": "LfhqxNYCP7yN",
    "outputId": "c4c34c5f-4c97-4222-a7d1-35d537c09edb",
    "tags": []
   },
   "outputs": [],
   "source": [
    "from classiq import *\n",
    "from classiq.qmod.symbolic import sqrt\n",
    "\n",
    "prob_list= [\n",
    "            1 / 8,\n",
    "            1 / 8,\n",
    "            1 / 8,\n",
    "            -sqrt(3) / 16,\n",
    "            1 / 8 + sqrt(3) / 16,\n",
    "            1 / 8,\n",
    "            1 / 8,\n",
    "            1 / 8,\n",
    "            1 / 8,\n",
    "        ]\n",
    "@qfunc\n",
    "def pre_prepared_state(q: Output[QArray[QBit]]) -> None:\n",
    "    prepare_state(\n",
    "        [\n",
    "            1 / 8,\n",
    "            1 / 8,\n",
    "            1 / 8 - sqrt(3) / 16,\n",
    "            1 / 8 + sqrt(3) / 16,\n",
    "            1 / 8,\n",
    "            1 / 8,\n",
    "            1 / 8,\n",
    "            1 / 8,\n",
    "        ],\n",
    "        0.0,\n",
    "        q,\n",
    "    )\n",
    "\n",
    "\n",
    "# Your code here:\n",
    "\n",
    "@qfunc\n",
    "def main(res: Output[QArray[QBit]]) -> None:\n",
    "    '''\n",
    "    x: QArray[QBit] = QArray(\"x\")\n",
    "\n",
    "    allocate(3, x)\n",
    "    hadamard_transform(x)\n",
    "\n",
    "    lsb = QBit(\"lsb\")\n",
    "    msb = QNum(\"msb\", 2, False, 0)\n",
    "\n",
    "    bind(x, [lsb, msb])\n",
    "\n",
    "    control(msb == 0, lambda: RY(pi / 3, lsb))\n",
    "    # msb==1 <==> bit1 bit2 == 01 (binary of decimal 1)\n",
    "\n",
    "    bind([lsb, msb], res)\n",
    "    '''\n",
    "    pre_prepared_state(res)\n",
    "qmod = create_model(main)\n",
    "qprog = synthesize(qmod)\n",
    "show(qprog)"
   ]
  }
 ],
 "metadata": {
  "colab": {
   "provenance": []
  },
  "kernelspec": {
   "display_name": "Python 3 [Default]",
   "language": "python",
   "name": "python3"
  },
  "language_info": {
   "codemirror_mode": {
    "name": "ipython",
    "version": 3
   },
   "file_extension": ".py",
   "mimetype": "text/x-python",
   "name": "python",
   "nbconvert_exporter": "python",
   "pygments_lexer": "ipython3",
   "version": "3.11.9"
  }
 },
 "nbformat": 4,
 "nbformat_minor": 4
}
