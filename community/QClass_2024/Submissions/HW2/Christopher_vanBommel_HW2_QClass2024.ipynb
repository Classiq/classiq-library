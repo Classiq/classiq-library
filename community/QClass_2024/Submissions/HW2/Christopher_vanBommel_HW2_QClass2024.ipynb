{
 "cells": [
  {
   "cell_type": "markdown",
   "metadata": {},
   "source": [
    "# The Qmod Workshop - Part 2: Higher-Level Concepts\n",
    "\n",
    "This is the second part of the Qmod workshop, covering exercises 6 through 10. Make sure to go through Part 1 before continuing with this notebook."
   ]
  },
  {
   "cell_type": "code",
   "execution_count": 1,
   "metadata": {},
   "outputs": [
    {
     "name": "stdout",
     "output_type": "stream",
     "text": [
      "Collecting classiq\n",
      "  Downloading classiq-0.41.1-py3-none-any.whl (398 kB)\n",
      "                                              0.0/398.1 kB ? eta -:--:--\n",
      "     -----------                            122.9/398.1 kB 3.6 MB/s eta 0:00:01\n",
      "     -------------------------------------- 398.1/398.1 kB 5.0 MB/s eta 0:00:00\n",
      "Collecting ConfigArgParse<2.0.0,>=1.5.3 (from classiq)\n",
      "  Downloading ConfigArgParse-1.7-py3-none-any.whl (25 kB)\n",
      "Collecting Pyomo<6.6,>=6.5 (from classiq)\n",
      "  Downloading Pyomo-6.5.0-cp311-cp311-win_amd64.whl (4.0 MB)\n",
      "                                              0.0/4.0 MB ? eta -:--:--\n",
      "     ---                                      0.4/4.0 MB 10.9 MB/s eta 0:00:01\n",
      "     -------                                  0.7/4.0 MB 11.2 MB/s eta 0:00:01\n",
      "     ----------                               1.1/4.0 MB 9.6 MB/s eta 0:00:01\n",
      "     -------------                            1.4/4.0 MB 9.9 MB/s eta 0:00:01\n",
      "     -----------------                        1.8/4.0 MB 10.2 MB/s eta 0:00:01\n",
      "     ---------------------                    2.1/4.0 MB 9.7 MB/s eta 0:00:01\n",
      "     ------------------------                 2.5/4.0 MB 9.9 MB/s eta 0:00:01\n",
      "     ----------------------------             2.9/4.0 MB 9.6 MB/s eta 0:00:01\n",
      "     --------------------------------         3.2/4.0 MB 9.8 MB/s eta 0:00:01\n",
      "     -----------------------------------      3.6/4.0 MB 9.6 MB/s eta 0:00:01\n",
      "     -------------------------------------    3.8/4.0 MB 9.6 MB/s eta 0:00:01\n",
      "     ---------------------------------------  4.0/4.0 MB 9.2 MB/s eta 0:00:01\n",
      "     ---------------------------------------- 4.0/4.0 MB 8.6 MB/s eta 0:00:00\n",
      "Collecting black<25.0,>=24.0 (from classiq)\n",
      "  Downloading black-24.4.2-cp311-cp311-win_amd64.whl (1.4 MB)\n",
      "                                              0.0/1.4 MB ? eta -:--:--\n",
      "     ---------                                0.3/1.4 MB 10.6 MB/s eta 0:00:01\n",
      "     -------------------                      0.7/1.4 MB 10.9 MB/s eta 0:00:01\n",
      "     ----------------------------             1.0/1.4 MB 9.2 MB/s eta 0:00:01\n",
      "     --------------------------------------   1.4/1.4 MB 9.6 MB/s eta 0:00:01\n",
      "     ---------------------------------------- 1.4/1.4 MB 9.0 MB/s eta 0:00:00\n",
      "Collecting httpx<1,>=0.23.0 (from classiq)\n",
      "  Downloading httpx-0.27.0-py3-none-any.whl (75 kB)\n",
      "                                              0.0/75.6 kB ? eta -:--:--\n",
      "     ---------------------------------------- 75.6/75.6 kB 4.1 MB/s eta 0:00:00\n",
      "Requirement already satisfied: keyring<24.0.0,>=23.5.0 in c:\\users\\c_van\\anaconda3\\lib\\site-packages (from classiq) (23.13.1)\n",
      "Requirement already satisfied: matplotlib<4.0.0,>=3.4.3 in c:\\users\\c_van\\anaconda3\\lib\\site-packages (from classiq) (3.7.1)\n",
      "Requirement already satisfied: networkx<3.0.0,>=2.5.1 in c:\\users\\c_van\\anaconda3\\lib\\site-packages (from classiq) (2.8.4)\n",
      "Requirement already satisfied: numexpr<3.0.0,>=2.7.3 in c:\\users\\c_van\\anaconda3\\lib\\site-packages (from classiq) (2.8.4)\n",
      "Requirement already satisfied: numpy<2.0.0,>=1.20.1 in c:\\users\\c_van\\anaconda3\\lib\\site-packages (from classiq) (1.24.3)\n",
      "Collecting packaging<23.0,>=22.0 (from classiq)\n",
      "  Downloading packaging-22.0-py3-none-any.whl (42 kB)\n",
      "                                              0.0/42.6 kB ? eta -:--:--\n",
      "     ---------------------------------------- 42.6/42.6 kB 2.0 MB/s eta 0:00:00\n",
      "Requirement already satisfied: pandas<3.0.0,>=1.4.0 in c:\\users\\c_van\\anaconda3\\lib\\site-packages (from classiq) (1.5.3)\n",
      "Requirement already satisfied: plotly<6.0.0,>=5.7.0 in c:\\users\\c_van\\anaconda3\\lib\\site-packages (from classiq) (5.9.0)\n",
      "Collecting pydantic<2.0.0,>=1.9.1 (from classiq)\n",
      "  Downloading pydantic-1.10.15-cp311-cp311-win_amd64.whl (2.1 MB)\n",
      "                                              0.0/2.1 MB ? eta -:--:--\n",
      "     ------                                   0.4/2.1 MB 11.2 MB/s eta 0:00:01\n",
      "     ------------                             0.7/2.1 MB 8.7 MB/s eta 0:00:01\n",
      "     --------------------                     1.1/2.1 MB 9.9 MB/s eta 0:00:01\n",
      "     --------------------------               1.4/2.1 MB 8.9 MB/s eta 0:00:01\n",
      "     ---------------------------------        1.8/2.1 MB 9.4 MB/s eta 0:00:01\n",
      "     ---------------------------------------  2.1/2.1 MB 9.6 MB/s eta 0:00:01\n",
      "     ---------------------------------------- 2.1/2.1 MB 9.0 MB/s eta 0:00:00\n",
      "Requirement already satisfied: scipy<2.0.0,>=1.10.1 in c:\\users\\c_van\\anaconda3\\lib\\site-packages (from classiq) (1.10.1)\n",
      "Collecting sympy<1.11.0,>=1.9.0 (from classiq)\n",
      "  Downloading sympy-1.10.1-py3-none-any.whl (6.4 MB)\n",
      "                                              0.0/6.4 MB ? eta -:--:--\n",
      "     --                                       0.3/6.4 MB 10.2 MB/s eta 0:00:01\n",
      "     ----                                     0.7/6.4 MB 10.4 MB/s eta 0:00:01\n",
      "     ------                                   1.0/6.4 MB 9.3 MB/s eta 0:00:01\n",
      "     --------                                 1.4/6.4 MB 9.6 MB/s eta 0:00:01\n",
      "     ----------                               1.7/6.4 MB 9.9 MB/s eta 0:00:01\n",
      "     ------------                             2.0/6.4 MB 9.3 MB/s eta 0:00:01\n",
      "     ---------------                          2.4/6.4 MB 9.6 MB/s eta 0:00:01\n",
      "     -----------------                        2.8/6.4 MB 9.3 MB/s eta 0:00:01\n",
      "     -------------------                      3.1/6.4 MB 9.5 MB/s eta 0:00:01\n",
      "     ---------------------                    3.5/6.4 MB 9.3 MB/s eta 0:00:01\n",
      "     ------------------------                 3.9/6.4 MB 9.3 MB/s eta 0:00:01\n",
      "     --------------------------               4.3/6.4 MB 9.5 MB/s eta 0:00:01\n",
      "     -----------------------------            4.7/6.4 MB 9.4 MB/s eta 0:00:01\n",
      "     -------------------------------          5.1/6.4 MB 9.5 MB/s eta 0:00:01\n",
      "     ----------------------------------       5.5/6.4 MB 9.5 MB/s eta 0:00:01\n",
      "     ------------------------------------     5.9/6.4 MB 9.4 MB/s eta 0:00:01\n",
      "     ---------------------------------------  6.3/6.4 MB 9.5 MB/s eta 0:00:01\n",
      "     ---------------------------------------  6.4/6.4 MB 9.5 MB/s eta 0:00:01\n",
      "     ---------------------------------------- 6.4/6.4 MB 8.9 MB/s eta 0:00:00\n",
      "Requirement already satisfied: tabulate<1,>=0.8.9 in c:\\users\\c_van\\anaconda3\\lib\\site-packages (from classiq) (0.8.10)\n",
      "Requirement already satisfied: click>=8.0.0 in c:\\users\\c_van\\anaconda3\\lib\\site-packages (from black<25.0,>=24.0->classiq) (8.0.4)\n",
      "Requirement already satisfied: mypy-extensions>=0.4.3 in c:\\users\\c_van\\anaconda3\\lib\\site-packages (from black<25.0,>=24.0->classiq) (0.4.3)\n",
      "Requirement already satisfied: pathspec>=0.9.0 in c:\\users\\c_van\\anaconda3\\lib\\site-packages (from black<25.0,>=24.0->classiq) (0.10.3)\n",
      "Requirement already satisfied: platformdirs>=2 in c:\\users\\c_van\\anaconda3\\lib\\site-packages (from black<25.0,>=24.0->classiq) (2.5.2)\n",
      "Requirement already satisfied: anyio in c:\\users\\c_van\\anaconda3\\lib\\site-packages (from httpx<1,>=0.23.0->classiq) (3.5.0)\n",
      "Requirement already satisfied: certifi in c:\\users\\c_van\\anaconda3\\lib\\site-packages (from httpx<1,>=0.23.0->classiq) (2023.5.7)\n",
      "Collecting httpcore==1.* (from httpx<1,>=0.23.0->classiq)\n",
      "  Downloading httpcore-1.0.5-py3-none-any.whl (77 kB)\n",
      "                                              0.0/77.9 kB ? eta -:--:--\n",
      "     ---------------------------------------- 77.9/77.9 kB ? eta 0:00:00\n",
      "Requirement already satisfied: idna in c:\\users\\c_van\\anaconda3\\lib\\site-packages (from httpx<1,>=0.23.0->classiq) (3.4)\n",
      "Requirement already satisfied: sniffio in c:\\users\\c_van\\anaconda3\\lib\\site-packages (from httpx<1,>=0.23.0->classiq) (1.2.0)\n",
      "Collecting h11<0.15,>=0.13 (from httpcore==1.*->httpx<1,>=0.23.0->classiq)\n",
      "  Using cached h11-0.14.0-py3-none-any.whl (58 kB)\n",
      "Requirement already satisfied: jaraco.classes in c:\\users\\c_van\\anaconda3\\lib\\site-packages (from keyring<24.0.0,>=23.5.0->classiq) (3.2.1)\n",
      "Requirement already satisfied: importlib-metadata>=4.11.4 in c:\\users\\c_van\\anaconda3\\lib\\site-packages (from keyring<24.0.0,>=23.5.0->classiq) (6.0.0)\n",
      "Requirement already satisfied: pywin32-ctypes>=0.2.0 in c:\\users\\c_van\\anaconda3\\lib\\site-packages (from keyring<24.0.0,>=23.5.0->classiq) (0.2.0)\n",
      "Requirement already satisfied: contourpy>=1.0.1 in c:\\users\\c_van\\anaconda3\\lib\\site-packages (from matplotlib<4.0.0,>=3.4.3->classiq) (1.0.5)\n",
      "Requirement already satisfied: cycler>=0.10 in c:\\users\\c_van\\anaconda3\\lib\\site-packages (from matplotlib<4.0.0,>=3.4.3->classiq) (0.11.0)\n",
      "Requirement already satisfied: fonttools>=4.22.0 in c:\\users\\c_van\\anaconda3\\lib\\site-packages (from matplotlib<4.0.0,>=3.4.3->classiq) (4.25.0)\n",
      "Requirement already satisfied: kiwisolver>=1.0.1 in c:\\users\\c_van\\anaconda3\\lib\\site-packages (from matplotlib<4.0.0,>=3.4.3->classiq) (1.4.4)\n",
      "Requirement already satisfied: pillow>=6.2.0 in c:\\users\\c_van\\anaconda3\\lib\\site-packages (from matplotlib<4.0.0,>=3.4.3->classiq) (9.4.0)\n",
      "Requirement already satisfied: pyparsing>=2.3.1 in c:\\users\\c_van\\anaconda3\\lib\\site-packages (from matplotlib<4.0.0,>=3.4.3->classiq) (3.0.9)\n",
      "Requirement already satisfied: python-dateutil>=2.7 in c:\\users\\c_van\\anaconda3\\lib\\site-packages (from matplotlib<4.0.0,>=3.4.3->classiq) (2.8.2)\n",
      "Requirement already satisfied: pytz>=2020.1 in c:\\users\\c_van\\anaconda3\\lib\\site-packages (from pandas<3.0.0,>=1.4.0->classiq) (2022.7)\n",
      "Requirement already satisfied: tenacity>=6.2.0 in c:\\users\\c_van\\anaconda3\\lib\\site-packages (from plotly<6.0.0,>=5.7.0->classiq) (8.2.2)\n",
      "Requirement already satisfied: typing-extensions>=4.2.0 in c:\\users\\c_van\\anaconda3\\lib\\site-packages (from pydantic<2.0.0,>=1.9.1->classiq) (4.6.3)\n",
      "Requirement already satisfied: ply in c:\\users\\c_van\\anaconda3\\lib\\site-packages (from Pyomo<6.6,>=6.5->classiq) (3.11)\n",
      "Requirement already satisfied: mpmath>=0.19 in c:\\users\\c_van\\anaconda3\\lib\\site-packages (from sympy<1.11.0,>=1.9.0->classiq) (1.2.1)\n",
      "Requirement already satisfied: colorama in c:\\users\\c_van\\anaconda3\\lib\\site-packages (from click>=8.0.0->black<25.0,>=24.0->classiq) (0.4.6)\n",
      "Requirement already satisfied: zipp>=0.5 in c:\\users\\c_van\\anaconda3\\lib\\site-packages (from importlib-metadata>=4.11.4->keyring<24.0.0,>=23.5.0->classiq) (3.11.0)\n",
      "Requirement already satisfied: six>=1.5 in c:\\users\\c_van\\anaconda3\\lib\\site-packages (from python-dateutil>=2.7->matplotlib<4.0.0,>=3.4.3->classiq) (1.16.0)\n",
      "Requirement already satisfied: more-itertools in c:\\users\\c_van\\anaconda3\\lib\\site-packages (from jaraco.classes->keyring<24.0.0,>=23.5.0->classiq) (8.12.0)\n",
      "Installing collected packages: sympy, Pyomo, pydantic, packaging, h11, ConfigArgParse, httpcore, black, httpx, classiq\n",
      "  Attempting uninstall: sympy\n",
      "    Found existing installation: sympy 1.11.1\n",
      "    Uninstalling sympy-1.11.1:\n",
      "      Successfully uninstalled sympy-1.11.1\n",
      "  Attempting uninstall: packaging\n",
      "    Found existing installation: packaging 23.0\n",
      "    Uninstalling packaging-23.0:\n",
      "      Successfully uninstalled packaging-23.0\n",
      "  Attempting uninstall: black\n",
      "    Found existing installation: black 0.0\n",
      "    Uninstalling black-0.0:\n",
      "      Successfully uninstalled black-0.0\n",
      "Successfully installed ConfigArgParse-1.7 Pyomo-6.5.0 black-24.4.2 classiq-0.41.1 h11-0.14.0 httpcore-1.0.5 httpx-0.27.0 packaging-22.0 pydantic-1.10.15 sympy-1.10.1\n"
     ]
    },
    {
     "name": "stderr",
     "output_type": "stream",
     "text": [
      "ERROR: pip's dependency resolver does not currently take into account all the packages that are installed. This behaviour is the source of the following dependency conflicts.\n",
      "tables 3.8.0 requires blosc2~=2.0.0, which is not installed.\n",
      "tables 3.8.0 requires cython>=0.29.21, which is not installed.\n"
     ]
    },
    {
     "name": "stdout",
     "output_type": "stream",
     "text": [
      "Your user code: KFZF-VMRD\n",
      "If a browser doesn't automatically open, please visit this URL from any trusted device: https://auth.classiq.io/activate?user_code=KFZF-VMRD\n"
     ]
    }
   ],
   "source": [
    "!pip install -U classiq\n",
    "import classiq\n",
    "classiq.authenticate()"
   ]
  },
  {
   "cell_type": "code",
   "execution_count": 1,
   "metadata": {},
   "outputs": [],
   "source": [
    "from classiq import *"
   ]
  },
  {
   "cell_type": "markdown",
   "metadata": {},
   "source": [
    "### Exercise 6 - Exponentiation and Pauli Operators\n",
    "\n",
    "The Qmod language supports different classical types: scalars, arrays, and structs. Structs are objects with member variables, or fields.\n",
    "\n",
    "See also [Classical Types](https://docs.classiq.io/latest/user-guide/platform/qmod/language-reference/classical-types/#structs).\n",
    "\n",
    "The builtin struct type `PauliTerm` is defined as follows:"
   ]
  },
  {
   "cell_type": "code",
   "execution_count": 3,
   "metadata": {},
   "outputs": [],
   "source": [
    "@struct\n",
    "class PauliTerm:\n",
    "    pauli: CArray[Pauli]\n",
    "    coefficient: CReal"
   ]
  },
  {
   "cell_type": "markdown",
   "metadata": {},
   "source": [
    "Note that `Pauli` is an enum for all the Pauli matrices (I, X, Y, Z).\n",
    "\n",
    "Pauli based hamiltonian can be represented as a list of `PauliTerm`s. A Pauli operator defined this way is the argument to a hamiltonian evolution functions.\n",
    "\n",
    "In this exercise we will use the Suzuki-Trotter function to find the evolution of `H=0.5XZXX + 0.25YIZI + 0.3 XIZY` (captured as a literal value for the pauli-operator), with the evolution coefficient being 3, the order being 2, and use 4 repetitions.\n",
    "\n",
    "The declaration of the `suzuki_trotter` function is:"
   ]
  },
  {
   "cell_type": "code",
   "execution_count": 4,
   "metadata": {},
   "outputs": [],
   "source": [
    "@qfunc(external=True)\n",
    "def suzuki_trotter(\n",
    "    pauli_operator: CArray[PauliTerm],\n",
    "    evolution_coefficient: CReal,\n",
    "    order: CInt,\n",
    "    repetitions: CInt,\n",
    "    qbv: QArray[QBit],\n",
    ") -> None:\n",
    "    pass"
   ]
  },
  {
   "cell_type": "markdown",
   "metadata": {},
   "source": [
    "Fill in the missing parts of the following code in order to complete this exercise:"
   ]
  },
  {
   "cell_type": "code",
   "execution_count": 6,
   "metadata": {},
   "outputs": [
    {
     "name": "stdout",
     "output_type": "stream",
     "text": [
      "Opening: https://platform.classiq.io/circuit/d753d2b0-5d8c-4723-9c09-0d21ebe103d9?version=0.41.1\n"
     ]
    }
   ],
   "source": [
    "from classiq import *\n",
    "\n",
    "\n",
    "@qfunc\n",
    "def main(q: Output[QArray[QBit]]) -> None:\n",
    "    allocate(4, q)\n",
    "    suzuki_trotter(\n",
    "        [\n",
    "            PauliTerm(pauli=[Pauli.X, Pauli.Z, Pauli.X, Pauli.X], coefficient=0.5),\n",
    "            PauliTerm(pauli=[Pauli.Y, Pauli.I, Pauli.Z, Pauli.I], coefficient=0.25),\n",
    "            PauliTerm(pauli=[Pauli.X, Pauli.I, Pauli.Z, Pauli.Y], coefficient=0.3),\n",
    "        ],\n",
    "        evolution_coefficient=3,\n",
    "        repetitions=4,\n",
    "        order=2,\n",
    "        qbv=q,\n",
    "    )\n",
    "\n",
    "\n",
    "qmod = create_model(main)\n",
    "qprog = synthesize(qmod)\n",
    "show(qprog)"
   ]
  },
  {
   "cell_type": "markdown",
   "metadata": {},
   "source": [
    "### Exercise 7 - Basic Arithmetics\n",
    "\n",
    "#### Exercise 7a\n",
    "In this exercise we will use quantum numeric variables and calculate expressions over them.\n",
    "\n",
    "See details on the syntax of numeric types under [Quantum types](https://docs.classiq.io/latest/user-guide/platform/qmod/language-reference/quantum-types/#syntax).\n",
    "See more on quantum expressions under [Numeric assignment](https://docs.classiq.io/latest/user-guide/platform/qmod/language-reference/statements/numeric-assignment/)\n",
    "\n",
    "Create the following quantum programs:\n",
    "1. Initialize variables `x=2`, `y=7` and computes `res = x + y`.\n",
    "2. Initialize variables `x=2`, `y=7` and computes `res = x * y`.\n",
    "3. Initialize variables `x=2`, `y=7`, `z=1` and computes `res = x * y - z`.\n",
    "\n",
    "Guidance:\n",
    "* Use the operator `|=` to perform out-of-place assignment of arithmetic expression.\n",
    "* To initialize the variables, use the function `prepare_int`.\n"
   ]
  },
  {
   "cell_type": "code",
   "execution_count": 2,
   "metadata": {},
   "outputs": [
    {
     "name": "stdout",
     "output_type": "stream",
     "text": [
      "Opening: https://platform.classiq.io/circuit/8eb3a413-6924-4a89-978b-bffe9e55d2d9?version=0.41.1\n"
     ]
    }
   ],
   "source": [
    "from classiq import *\n",
    "\n",
    "# Your code here:\n",
    "@qfunc\n",
    "def main(x: Output[QNum], y: Output[QNum], res: Output[QNum]):\n",
    "    prepare_int(2, x)\n",
    "    prepare_int(7, y)\n",
    "    res |= x + y\n",
    "\n",
    "qmod = create_model(main)\n",
    "qprog = synthesize(qmod)\n",
    "show(qprog)"
   ]
  },
  {
   "cell_type": "code",
   "execution_count": 3,
   "metadata": {},
   "outputs": [
    {
     "name": "stdout",
     "output_type": "stream",
     "text": [
      "Opening: https://platform.classiq.io/circuit/f20136b0-79cb-45be-b767-06ea75364387?version=0.41.1\n"
     ]
    }
   ],
   "source": [
    "from classiq import *\n",
    "\n",
    "# Your code here:\n",
    "@qfunc\n",
    "def main(x: Output[QNum], y: Output[QNum], res: Output[QNum]):\n",
    "    prepare_int(2, x)\n",
    "    prepare_int(7, y)\n",
    "    res |= x * y\n",
    "\n",
    "qmod = create_model(main)\n",
    "qprog = synthesize(qmod)\n",
    "show(qprog)"
   ]
  },
  {
   "cell_type": "code",
   "execution_count": 4,
   "metadata": {},
   "outputs": [
    {
     "name": "stdout",
     "output_type": "stream",
     "text": [
      "Opening: https://platform.classiq.io/circuit/76d9212c-dd0f-4d1c-bec9-3f31f17eb626?version=0.41.1\n"
     ]
    }
   ],
   "source": [
    "from classiq import *\n",
    "\n",
    "# Your code here:\n",
    "@qfunc\n",
    "def main(x: Output[QNum], y: Output[QNum], z: Output[QNum], res: Output[QNum]):\n",
    "    prepare_int(2, x)\n",
    "    prepare_int(7, y)\n",
    "    prepare_int(1, z)\n",
    "    res |= x * y - z\n",
    "\n",
    "qmod = create_model(main)\n",
    "qprog = synthesize(qmod)\n",
    "show(qprog)"
   ]
  },
  {
   "cell_type": "markdown",
   "metadata": {},
   "source": [
    "#### Exercise 7b\n",
    "Declare `x` to be a 2-qubit variable and `y` to be 3-qubit variable.\n",
    "\n",
    "We will perform an addition of two superposition states: `x` is an equal superposition of `0` and `2`, and `y` is an equal superposition of `1`, `2`, `3`, and `6`.\n",
    "\n",
    "1. Use `prepare_state` to initialize `x` and `y`. Note that `prepare_state` works with probabilities, not amplitudes.\n",
    "   The declaration of the `prepare_state` function is:\n",
    "   ```\n",
    "        @qfunc(external=True)\n",
    "        def prepare_state(\n",
    "            probabilities: CArray[CReal],\n",
    "            bound: CReal,\n",
    "            out: Output[QArray[QBit]],\n",
    "        ) -> None:\n",
    "            pass\n",
    "   ```\n",
    "   (Set the bound to 0 in your code)\n",
    "2. Compute `res = x + y`. Execute the resulting circuit. What did you get?"
   ]
  },
  {
   "cell_type": "code",
   "execution_count": 7,
   "metadata": {},
   "outputs": [
    {
     "name": "stdout",
     "output_type": "stream",
     "text": [
      "Opening: https://platform.classiq.io/circuit/4b8fd3e0-79ee-456e-b4bc-4b547961abea?version=0.41.1\n"
     ]
    }
   ],
   "source": [
    "from classiq import *\n",
    "\n",
    "# Your code here:\n",
    "@qfunc\n",
    "def main(x: Output[QNum], y: Output[QNum], res: Output[QNum]):\n",
    "    prepare_state([0.5, 0, 0.5, 0], 0, x)\n",
    "    prepare_state([0, 0.25, 0.25, 0.25, 0, 0, 0.25, 0], 0, y)\n",
    "    res |= x + y\n",
    "\n",
    "qmod = create_model(main)\n",
    "qprog = synthesize(qmod)\n",
    "show(qprog)"
   ]
  },
  {
   "cell_type": "markdown",
   "metadata": {},
   "source": [
    "### Exercise 8 - Within-Apply\n",
    "\n",
    "The within-apply statement applies the pattern `U_dagger V U` that appears frequently in quantum computing.\n",
    "It allows you to compute some function `V` within the context of another function `U`, and afterward uncompute `U` in order to release auxiliary qubits storing intermediate results.\n",
    "\n",
    "See also [Within Apply](https://docs.classiq.io/latest/user-guide/platform/qmod/language-reference/statements/within-apply/).\n",
    "\n",
    "#### Exercise 8a\n",
    "\n",
    "In this exercise, we will use within-apply to compute an arithmetic expression in steps.\n",
    "\n",
    "Use the `within_apply` operation to calculate `res = x + y + z` from a two-variable addition building block with the following steps:\n",
    "1. Add `x` and `y`\n",
    "2. Add the result to `z`\n",
    "3. Uncompute the result of the first operation\n",
    "\n",
    "For simplicity, initialize the registers to simple integers: `x=3`, `y=5`, `z=2`.\n",
    "\n",
    "Hints:\n",
    "\n",
    "* Use a temporary variable.\n",
    "* Wrap the arithmetic operation in a function.\n",
    "\n",
    "Execute the circuit and make sure you obtain the expected result."
   ]
  },
  {
   "cell_type": "code",
   "execution_count": 7,
   "metadata": {},
   "outputs": [
    {
     "name": "stdout",
     "output_type": "stream",
     "text": [
      "Opening: https://platform.classiq.io/circuit/c0fe48c5-3f3a-4dc2-9786-b1b6d023b3b9?version=0.41.1\n"
     ]
    }
   ],
   "source": [
    "from classiq import *\n",
    "\n",
    "# Your code here:\n",
    "@qfunc\n",
    "def add(x: QNum, y: QNum, res: Output[QNum]):\n",
    "    res |= x + y\n",
    "\n",
    "@qfunc\n",
    "def main(x: Output[QNum], y: Output[QNum], z: Output[QNum], res: Output[QNum]):\n",
    "    prepare_int(3, x)\n",
    "    prepare_int(5, y)\n",
    "    prepare_int(2, z)\n",
    "    tmp = QNum(\"tmp\")\n",
    "    within_apply(compute=lambda: add(x, y, tmp), action=lambda: add(tmp, z, res))\n",
    "    \n",
    "\n",
    "qmod = create_model(main)\n",
    "qprog = synthesize(qmod)\n",
    "show(qprog)"
   ]
  },
  {
   "cell_type": "markdown",
   "metadata": {},
   "source": [
    "#### Exercise 8b\n",
    "\n",
    "Why should we use `within-apply` and not just write three concatenated functions?\n",
    "To understand the motivation, we will create another arithmetic circuit.\n",
    "This time, however, we will also set Classiq’s synthesis engine to optimize on the circuit’s number of qubits, i.e., its width.\n",
    "\n",
    "Setting constraints can be done via the `set_constraints` operation - see [here](https://docs.classiq.io/latest/user-guide/platform/synthesis/constraints/).\n",
    "\n",
    "Perform the operation `res = w + x + y + z`, where w is initialized to 4 and the rest as before:\n",
    "\n",
    "1. Add `x` and `y` (as part of the `within_apply` operation)\n",
    "2. Add the result to `z` (as part of the within_apply operation)\n",
    "3. Uncompute the result of the first operation (as part of the `within_apply` operation)\n",
    "4. Add the result of the second operation to `w`. There’s no need to perform another uncomputation, as this brings our calculation to an end.\n",
    "\n",
    "Create the model, optimize on the circuit’s width, and run the circuit. Can you identify where qubits have been released and reused?"
   ]
  },
  {
   "cell_type": "code",
   "execution_count": 19,
   "metadata": {},
   "outputs": [
    {
     "name": "stdout",
     "output_type": "stream",
     "text": [
      "Opening: https://platform.classiq.io/circuit/f6a20b2e-aba3-45fc-a6e2-8a3a730bf956?version=0.41.1\n"
     ]
    }
   ],
   "source": [
    "from classiq import *\n",
    "\n",
    "# Your code here:\n",
    "@qfunc\n",
    "def add(x: QNum, y: QNum, res: Output[QNum]):\n",
    "    res |= x + y\n",
    "\n",
    "@qfunc\n",
    "def main(w: Output[QNum], x: Output[QNum], y: Output[QNum], z: Output[QNum], res: Output[QNum], final: Output[QNum]):\n",
    "    prepare_int(4, w)\n",
    "    prepare_int(3, x)\n",
    "    prepare_int(5, y)\n",
    "    prepare_int(2, z)\n",
    "    tmp = QNum(\"tmp\")\n",
    "    within_apply(compute=lambda: add(x, y, tmp), action=lambda: add(tmp, z, res))\n",
    "    add(w, res, final)\n",
    "\n",
    "qmod = create_model(main)\n",
    "qmod = set_constraints(qmod,Constraints(optimization_parameter='width'))\n",
    "qprog = synthesize(qmod)\n",
    "show(qprog)"
   ]
  },
  {
   "cell_type": "markdown",
   "metadata": {},
   "source": [
    "#### Bonus: Use a Single Arithmetic Expression\n",
    "\n",
    "What happens when we don't manually decompose this expression?\n",
    "\n",
    "Use Classiq’s arithmetic engine to calculate `res |= x + y + z + w` and optimize for width.\n",
    "Look at the resulting quantum program - can you identify the computation and uncomputation blocks? What else did you notice?"
   ]
  },
  {
   "cell_type": "code",
   "execution_count": 16,
   "metadata": {},
   "outputs": [
    {
     "name": "stdout",
     "output_type": "stream",
     "text": [
      "Opening: https://platform.classiq.io/circuit/aa480ddc-d0ac-4fee-b220-e969232b9184?version=0.41.1\n"
     ]
    }
   ],
   "source": [
    "from classiq import *\n",
    "\n",
    "# Your code here:\n",
    "@qfunc\n",
    "def main(w: Output[QNum], x: Output[QNum], y: Output[QNum], z: Output[QNum], res: Output[QNum]):\n",
    "    prepare_int(4, w)\n",
    "    prepare_int(3, x)\n",
    "    prepare_int(5, y)\n",
    "    prepare_int(2, z)\n",
    "    res |= x + y + z + w\n",
    "\n",
    "qmod = create_model(main)\n",
    "qprog = synthesize(qmod)\n",
    "show(qprog)"
   ]
  },
  {
   "cell_type": "markdown",
   "metadata": {},
   "source": [
    "### Exercise 9 - In-place Arithmetics\n",
    "\n",
    "For the following exercise we will use numeric quantum variables that represent fixed-point reals.\n",
    "\n",
    "Arithmetic expressions can be calculated in-place into a target variable, without allocating new qubits to store the result. This is done using the in-place-xor operator.\n",
    "\n",
    "See also [Numeric assignment](https://docs.classiq.io/latest/user-guide/platform/qmod/language-reference/statements/numeric-assignment/#semantics).\n",
    "\n",
    "In-place assignment is often used to nest arithmetic expressions under quantum operators. Note that out-of-place assignment requires its left-value variable to be un-initialized, and therefore cannot be used under an operator if the variable is declared outside its scope. Applying operators to arithmetic expressions is required in many algorithms. One example is the piecewise evaluation of mathematical functions - calculating different expressions over `x` depending on the subdomain where `x` falls.\n",
    "\n",
    "For this exercise, replace the missing parts in the code snippet below to evaluate the result of:\n",
    "\n",
    "$$\n",
    "f(x) = \\begin{cases}\n",
    "      2x + 1 & \\text{ if } 0 \\leq x < 0.5 \\\\\n",
    "      x + 0.5 & \\text{ if } 0.5 \\leq x < 1\n",
    "   \\end{cases}\n",
    "$$\n",
    "\n",
    "Notes:\n",
    "- We cannot use `x` directly as the control variable in a `constrol` operator, because it also occurs in the nested scope. to determine if `x` is in the lower or higher half of the domain we duplicate the most significant bit onto a separate variable called `label`.\n",
    "- In Python assignment operators cannot be used in lambda expressions, so the computation of the function needs to be factored out to a named Python function (but not necessarily a Qmod function).\n"
   ]
  },
  {
   "cell_type": "code",
   "execution_count": 20,
   "metadata": {},
   "outputs": [
    {
     "name": "stdout",
     "output_type": "stream",
     "text": [
      "Opening: https://platform.classiq.io/circuit/db0c0d14-3b8a-4f28-8b23-878853b41a40?version=0.41.1\n"
     ]
    }
   ],
   "source": [
    "\n",
    "from classiq import *\n",
    "\n",
    "\n",
    "def linear_func(a: float, b: float, x: QNum, res: QNum) -> None:\n",
    "    res ^= a * x + b\n",
    "\n",
    "\n",
    "@qfunc\n",
    "def dup_msb(qba: QArray[QBit], msb: QBit) -> None:\n",
    "    CX(qba[qba.len - 1], msb)\n",
    "\n",
    "\n",
    "@qfunc\n",
    "def main(x: Output[QNum[3, False, 3]], res: Output[QNum[5, False, 3]]) -> None:\n",
    "    allocate(5, res)\n",
    "    allocate(3, x)\n",
    "    hadamard_transform(x)\n",
    "\n",
    "    label = QArray(\"label\")\n",
    "    allocate(1, label)\n",
    "\n",
    "    dup_msb(x, label)\n",
    "    control(label, lambda: linear_func(1.0, 0.5, x, res))  # 0.5 <= x < 1.0\n",
    "    X(label)\n",
    "    control(label, lambda: linear_func(2.0, 1.0, x, res))  # 0.0 <= x < 0.5\n",
    "\n",
    "\n",
    "qmod = create_model(main)\n",
    "qprog = synthesize(qmod)\n",
    "show(qprog)"
   ]
  },
  {
   "cell_type": "markdown",
   "metadata": {},
   "source": [
    "### Exercise 10 - State-preparation Algorithm using Quantum-if\n",
    "\n",
    "#### Binding\n",
    "The `bind` operation allows to convert smoothly between different quantum types and split or slice bits when necessary. Here’s an example:"
   ]
  },
  {
   "cell_type": "code",
   "execution_count": 21,
   "metadata": {},
   "outputs": [
    {
     "name": "stdout",
     "output_type": "stream",
     "text": [
      "Opening: https://platform.classiq.io/circuit/d7d88f80-0117-44db-b269-10717ad1db5f?version=0.41.1\n"
     ]
    }
   ],
   "source": [
    "from classiq import *\n",
    "\n",
    "\n",
    "\n",
    "from classiq import *\n",
    "from math import pi\n",
    "\n",
    "\n",
    "@qfunc\n",
    "def main(res: Output[QArray[QBit]]) -> None:\n",
    "    x: QArray[QBit] = QArray(\"x\")\n",
    "    allocate(3, x)\n",
    "    hadamard_transform(x)\n",
    "\n",
    "    lsb = QBit(\"lsb\")\n",
    "    msb = QNum(\"msb\", 2, False, 0)\n",
    "    bind(x, [lsb, msb])\n",
    "\n",
    "    control(msb == 1, lambda: RY(pi / 3, lsb))   # msb==1 <==> bit1 bit2 == 01 (binary of decimal 1)\n",
    "\n",
    "    bind([lsb, msb], res)\n",
    "\n",
    "model = create_model(main)\n",
    "qprog = synthesize(model)\n",
    "show(qprog)"
   ]
  },
  {
   "cell_type": "markdown",
   "metadata": {},
   "source": [
    "The first `bind` operation splits the 3-qubit register `x` into the 2-qubit and single-qubit registers `lsb` and `msb`, respectively.\n",
    "\n",
    "After the `bind` operation:\n",
    "1. The registers `lsb` and `msb` can be operated on as separated registers.\n",
    "2. The register`x` is consumed and can no longer be used.\n",
    "\n",
    "The second `bind` operation concatenates the registers to the output register `res`.\n",
    "\n",
    "For this exercise, fill in the missing code parts in the above snippet and use the `control` statement to manually generate the following lovely 3-qubit probability distribution: `[1/8, 1/8, 1/8, -sqrt(3)/16, 1/8 + sqrt(3)/16, 1/8, 1/8, 1/8, 1/8]`.\n",
    "\n",
    "The following series of gates generate it:\n",
    "\n",
    "Perform the Hadamard transform on all three qubits.\n",
    "\n",
    "Apply a rotation on the LSB (least-significant bit) conditioned by the MSB being |0> and the second to last MSB being |1>. How would you write this condition using a QNum?\n",
    "\n",
    "The following series of gates generate it:\n",
    "1. Perform the Hadamard transform on all three qubits.\n",
    "2. Apply a `pi/3` rotation on the LSB (least-significant bit) conditioned by the MSB being |0> and the second to last MSB being |1>. How would you write this condition using a QNum?\n",
    "\n",
    "If you want to validate your results without looking at the full solution, compare them to running using Classiq’s built-in `prepare_state` function.\n"
   ]
  },
  {
   "cell_type": "code",
   "execution_count": 22,
   "metadata": {},
   "outputs": [
    {
     "name": "stdout",
     "output_type": "stream",
     "text": [
      "Opening: https://platform.classiq.io/circuit/cdcdc779-038d-4d8e-a9e0-b172b27fb443?version=0.41.1\n"
     ]
    }
   ],
   "source": [
    "from classiq import *\n",
    "from classiq.qmod.symbolic import sqrt\n",
    "\n",
    "prob_list= [\n",
    "            1 / 8,\n",
    "            1 / 8,\n",
    "            1 / 8,\n",
    "            -sqrt(3) / 16,\n",
    "            1 / 8 + sqrt(3) / 16,\n",
    "            1 / 8,\n",
    "            1 / 8,\n",
    "            1 / 8,\n",
    "            1 / 8,\n",
    "        ]\n",
    "@qfunc\n",
    "def pre_prepared_state(q: QArray[QBit]) -> None:\n",
    "    prepare_state(\n",
    "        [\n",
    "            1 / 8,\n",
    "            1 / 8,\n",
    "            1 / 8,\n",
    "            -sqrt(3) / 16,\n",
    "            1 / 8 + sqrt(3) / 16,\n",
    "            1 / 8,\n",
    "            1 / 8,\n",
    "            1 / 8,\n",
    "            1 / 8,\n",
    "        ],\n",
    "        0.0,\n",
    "        q,\n",
    "    )\n",
    "\n",
    "\n",
    "# Your code here:\n",
    "\n",
    "@qfunc\n",
    "def main(res: Output[QArray[QBit]]) -> None:\n",
    "    x: QArray[QBit] = QArray(\"x\")\n",
    "    allocate(3, x)\n",
    "    hadamard_transform(x)\n",
    "\n",
    "    lsb = QBit(\"lsb\")\n",
    "    msb = QNum(\"msb\", 2, False, 0)\n",
    "    bind(x, [lsb, msb])\n",
    "\n",
    "    control(msb == 1, lambda: RY(pi / 3, lsb))   # msb==1 <==> bit1 bit2 == 01 (binary of decimal 1)\n",
    "\n",
    "    bind([lsb, msb], res)\n",
    "\n",
    "model = create_model(main)\n",
    "qprog = synthesize(model)\n",
    "show(qprog)"
   ]
  },
  {
   "cell_type": "code",
   "execution_count": null,
   "metadata": {},
   "outputs": [],
   "source": []
  }
 ],
 "metadata": {
  "kernelspec": {
   "display_name": "Python 3 (ipykernel)",
   "language": "python",
   "name": "python3"
  },
  "language_info": {
   "codemirror_mode": {
    "name": "ipython",
    "version": 3
   },
   "file_extension": ".py",
   "mimetype": "text/x-python",
   "name": "python",
   "nbconvert_exporter": "python",
   "pygments_lexer": "ipython3",
   "version": "3.11.3"
  }
 },
 "nbformat": 4,
 "nbformat_minor": 4
}
