{
  "cells": [
    {
      "cell_type": "markdown",
      "metadata": {
        "id": "CRidEH0hi24W"
      },
      "source": [
        "# The Qmod Workshop - Part 2: Higher-Level Concepts\n",
        "\n",
        "This is the second part of the Qmod workshop, covering exercises 6 through 10. Make sure to go through Part 1 before continuing with this notebook."
      ]
    },
    {
      "cell_type": "code",
      "source": [
        " !pip install -U classiq"
      ],
      "metadata": {
        "colab": {
          "base_uri": "https://localhost:8080/"
        },
        "id": "UrGThhsZkFky",
        "outputId": "467f68ef-500b-4dfa-f58a-5eb289e19e79"
      },
      "execution_count": 1,
      "outputs": [
        {
          "output_type": "stream",
          "name": "stdout",
          "text": [
            "Collecting classiq\n",
            "  Downloading classiq-0.41.2-py3-none-any.whl (398 kB)\n",
            "\u001b[2K     \u001b[90m━━━━━━━━━━━━━━━━━━━━━━━━━━━━━━━━━━━━━━━━\u001b[0m \u001b[32m398.1/398.1 kB\u001b[0m \u001b[31m3.7 MB/s\u001b[0m eta \u001b[36m0:00:00\u001b[0m\n",
            "\u001b[?25hCollecting ConfigArgParse<2.0.0,>=1.5.3 (from classiq)\n",
            "  Downloading ConfigArgParse-1.7-py3-none-any.whl (25 kB)\n",
            "Collecting Pyomo<6.6,>=6.5 (from classiq)\n",
            "  Downloading Pyomo-6.5.0-cp310-cp310-manylinux_2_17_x86_64.manylinux2014_x86_64.whl (10.7 MB)\n",
            "\u001b[2K     \u001b[90m━━━━━━━━━━━━━━━━━━━━━━━━━━━━━━━━━━━━━━━━\u001b[0m \u001b[32m10.7/10.7 MB\u001b[0m \u001b[31m48.4 MB/s\u001b[0m eta \u001b[36m0:00:00\u001b[0m\n",
            "\u001b[?25hCollecting black<25.0,>=24.0 (from classiq)\n",
            "  Downloading black-24.4.2-cp310-cp310-manylinux_2_17_x86_64.manylinux2014_x86_64.whl (1.8 MB)\n",
            "\u001b[2K     \u001b[90m━━━━━━━━━━━━━━━━━━━━━━━━━━━━━━━━━━━━━━━━\u001b[0m \u001b[32m1.8/1.8 MB\u001b[0m \u001b[31m31.4 MB/s\u001b[0m eta \u001b[36m0:00:00\u001b[0m\n",
            "\u001b[?25hCollecting httpx<1,>=0.23.0 (from classiq)\n",
            "  Downloading httpx-0.27.0-py3-none-any.whl (75 kB)\n",
            "\u001b[2K     \u001b[90m━━━━━━━━━━━━━━━━━━━━━━━━━━━━━━━━━━━━━━━━\u001b[0m \u001b[32m75.6/75.6 kB\u001b[0m \u001b[31m3.6 MB/s\u001b[0m eta \u001b[36m0:00:00\u001b[0m\n",
            "\u001b[?25hRequirement already satisfied: keyring<24.0.0,>=23.5.0 in /usr/lib/python3/dist-packages (from classiq) (23.5.0)\n",
            "Requirement already satisfied: matplotlib<4.0.0,>=3.4.3 in /usr/local/lib/python3.10/dist-packages (from classiq) (3.7.1)\n",
            "Collecting networkx<3.0.0,>=2.5.1 (from classiq)\n",
            "  Downloading networkx-2.8.8-py3-none-any.whl (2.0 MB)\n",
            "\u001b[2K     \u001b[90m━━━━━━━━━━━━━━━━━━━━━━━━━━━━━━━━━━━━━━━━\u001b[0m \u001b[32m2.0/2.0 MB\u001b[0m \u001b[31m32.2 MB/s\u001b[0m eta \u001b[36m0:00:00\u001b[0m\n",
            "\u001b[?25hRequirement already satisfied: numexpr<3.0.0,>=2.7.3 in /usr/local/lib/python3.10/dist-packages (from classiq) (2.10.0)\n",
            "Requirement already satisfied: numpy<2.0.0,>=1.20.1 in /usr/local/lib/python3.10/dist-packages (from classiq) (1.25.2)\n",
            "Collecting packaging<23.0,>=22.0 (from classiq)\n",
            "  Downloading packaging-22.0-py3-none-any.whl (42 kB)\n",
            "\u001b[2K     \u001b[90m━━━━━━━━━━━━━━━━━━━━━━━━━━━━━━━━━━━━━━━━\u001b[0m \u001b[32m42.6/42.6 kB\u001b[0m \u001b[31m3.9 MB/s\u001b[0m eta \u001b[36m0:00:00\u001b[0m\n",
            "\u001b[?25hRequirement already satisfied: pandas<3.0.0,>=1.4.0 in /usr/local/lib/python3.10/dist-packages (from classiq) (2.0.3)\n",
            "Requirement already satisfied: plotly<6.0.0,>=5.7.0 in /usr/local/lib/python3.10/dist-packages (from classiq) (5.15.0)\n",
            "Collecting pydantic<2.0.0,>=1.9.1 (from classiq)\n",
            "  Downloading pydantic-1.10.15-cp310-cp310-manylinux_2_17_x86_64.manylinux2014_x86_64.whl (3.1 MB)\n",
            "\u001b[2K     \u001b[90m━━━━━━━━━━━━━━━━━━━━━━━━━━━━━━━━━━━━━━━━\u001b[0m \u001b[32m3.1/3.1 MB\u001b[0m \u001b[31m16.2 MB/s\u001b[0m eta \u001b[36m0:00:00\u001b[0m\n",
            "\u001b[?25hRequirement already satisfied: scipy<2.0.0,>=1.10.1 in /usr/local/lib/python3.10/dist-packages (from classiq) (1.11.4)\n",
            "Collecting sympy<1.11.0,>=1.9.0 (from classiq)\n",
            "  Downloading sympy-1.10.1-py3-none-any.whl (6.4 MB)\n",
            "\u001b[2K     \u001b[90m━━━━━━━━━━━━━━━━━━━━━━━━━━━━━━━━━━━━━━━━\u001b[0m \u001b[32m6.4/6.4 MB\u001b[0m \u001b[31m22.5 MB/s\u001b[0m eta \u001b[36m0:00:00\u001b[0m\n",
            "\u001b[?25hRequirement already satisfied: tabulate<1,>=0.8.9 in /usr/local/lib/python3.10/dist-packages (from classiq) (0.9.0)\n",
            "Requirement already satisfied: click>=8.0.0 in /usr/local/lib/python3.10/dist-packages (from black<25.0,>=24.0->classiq) (8.1.7)\n",
            "Collecting mypy-extensions>=0.4.3 (from black<25.0,>=24.0->classiq)\n",
            "  Downloading mypy_extensions-1.0.0-py3-none-any.whl (4.7 kB)\n",
            "Collecting pathspec>=0.9.0 (from black<25.0,>=24.0->classiq)\n",
            "  Downloading pathspec-0.12.1-py3-none-any.whl (31 kB)\n",
            "Requirement already satisfied: platformdirs>=2 in /usr/local/lib/python3.10/dist-packages (from black<25.0,>=24.0->classiq) (4.2.2)\n",
            "Requirement already satisfied: tomli>=1.1.0 in /usr/local/lib/python3.10/dist-packages (from black<25.0,>=24.0->classiq) (2.0.1)\n",
            "Requirement already satisfied: typing-extensions>=4.0.1 in /usr/local/lib/python3.10/dist-packages (from black<25.0,>=24.0->classiq) (4.11.0)\n",
            "Requirement already satisfied: anyio in /usr/local/lib/python3.10/dist-packages (from httpx<1,>=0.23.0->classiq) (3.7.1)\n",
            "Requirement already satisfied: certifi in /usr/local/lib/python3.10/dist-packages (from httpx<1,>=0.23.0->classiq) (2024.2.2)\n",
            "Collecting httpcore==1.* (from httpx<1,>=0.23.0->classiq)\n",
            "  Downloading httpcore-1.0.5-py3-none-any.whl (77 kB)\n",
            "\u001b[2K     \u001b[90m━━━━━━━━━━━━━━━━━━━━━━━━━━━━━━━━━━━━━━━━\u001b[0m \u001b[32m77.9/77.9 kB\u001b[0m \u001b[31m4.0 MB/s\u001b[0m eta \u001b[36m0:00:00\u001b[0m\n",
            "\u001b[?25hRequirement already satisfied: idna in /usr/local/lib/python3.10/dist-packages (from httpx<1,>=0.23.0->classiq) (3.7)\n",
            "Requirement already satisfied: sniffio in /usr/local/lib/python3.10/dist-packages (from httpx<1,>=0.23.0->classiq) (1.3.1)\n",
            "Collecting h11<0.15,>=0.13 (from httpcore==1.*->httpx<1,>=0.23.0->classiq)\n",
            "  Downloading h11-0.14.0-py3-none-any.whl (58 kB)\n",
            "\u001b[2K     \u001b[90m━━━━━━━━━━━━━━━━━━━━━━━━━━━━━━━━━━━━━━━━\u001b[0m \u001b[32m58.3/58.3 kB\u001b[0m \u001b[31m4.5 MB/s\u001b[0m eta \u001b[36m0:00:00\u001b[0m\n",
            "\u001b[?25hRequirement already satisfied: contourpy>=1.0.1 in /usr/local/lib/python3.10/dist-packages (from matplotlib<4.0.0,>=3.4.3->classiq) (1.2.1)\n",
            "Requirement already satisfied: cycler>=0.10 in /usr/local/lib/python3.10/dist-packages (from matplotlib<4.0.0,>=3.4.3->classiq) (0.12.1)\n",
            "Requirement already satisfied: fonttools>=4.22.0 in /usr/local/lib/python3.10/dist-packages (from matplotlib<4.0.0,>=3.4.3->classiq) (4.51.0)\n",
            "Requirement already satisfied: kiwisolver>=1.0.1 in /usr/local/lib/python3.10/dist-packages (from matplotlib<4.0.0,>=3.4.3->classiq) (1.4.5)\n",
            "Requirement already satisfied: pillow>=6.2.0 in /usr/local/lib/python3.10/dist-packages (from matplotlib<4.0.0,>=3.4.3->classiq) (9.4.0)\n",
            "Requirement already satisfied: pyparsing>=2.3.1 in /usr/local/lib/python3.10/dist-packages (from matplotlib<4.0.0,>=3.4.3->classiq) (3.1.2)\n",
            "Requirement already satisfied: python-dateutil>=2.7 in /usr/local/lib/python3.10/dist-packages (from matplotlib<4.0.0,>=3.4.3->classiq) (2.8.2)\n",
            "Requirement already satisfied: pytz>=2020.1 in /usr/local/lib/python3.10/dist-packages (from pandas<3.0.0,>=1.4.0->classiq) (2023.4)\n",
            "Requirement already satisfied: tzdata>=2022.1 in /usr/local/lib/python3.10/dist-packages (from pandas<3.0.0,>=1.4.0->classiq) (2024.1)\n",
            "Requirement already satisfied: tenacity>=6.2.0 in /usr/local/lib/python3.10/dist-packages (from plotly<6.0.0,>=5.7.0->classiq) (8.3.0)\n",
            "Collecting ply (from Pyomo<6.6,>=6.5->classiq)\n",
            "  Downloading ply-3.11-py2.py3-none-any.whl (49 kB)\n",
            "\u001b[2K     \u001b[90m━━━━━━━━━━━━━━━━━━━━━━━━━━━━━━━━━━━━━━━━\u001b[0m \u001b[32m49.6/49.6 kB\u001b[0m \u001b[31m2.4 MB/s\u001b[0m eta \u001b[36m0:00:00\u001b[0m\n",
            "\u001b[?25hRequirement already satisfied: mpmath>=0.19 in /usr/local/lib/python3.10/dist-packages (from sympy<1.11.0,>=1.9.0->classiq) (1.3.0)\n",
            "Requirement already satisfied: six>=1.5 in /usr/local/lib/python3.10/dist-packages (from python-dateutil>=2.7->matplotlib<4.0.0,>=3.4.3->classiq) (1.16.0)\n",
            "Requirement already satisfied: exceptiongroup in /usr/local/lib/python3.10/dist-packages (from anyio->httpx<1,>=0.23.0->classiq) (1.2.1)\n",
            "Installing collected packages: ply, sympy, Pyomo, pydantic, pathspec, packaging, networkx, mypy-extensions, h11, ConfigArgParse, httpcore, black, httpx, classiq\n",
            "  Attempting uninstall: sympy\n",
            "    Found existing installation: sympy 1.12\n",
            "    Uninstalling sympy-1.12:\n",
            "      Successfully uninstalled sympy-1.12\n",
            "  Attempting uninstall: pydantic\n",
            "    Found existing installation: pydantic 2.7.1\n",
            "    Uninstalling pydantic-2.7.1:\n",
            "      Successfully uninstalled pydantic-2.7.1\n",
            "  Attempting uninstall: packaging\n",
            "    Found existing installation: packaging 24.0\n",
            "    Uninstalling packaging-24.0:\n",
            "      Successfully uninstalled packaging-24.0\n",
            "  Attempting uninstall: networkx\n",
            "    Found existing installation: networkx 3.3\n",
            "    Uninstalling networkx-3.3:\n",
            "      Successfully uninstalled networkx-3.3\n",
            "\u001b[31mERROR: pip's dependency resolver does not currently take into account all the packages that are installed. This behaviour is the source of the following dependency conflicts.\n",
            "torch 2.3.0+cu121 requires nvidia-cublas-cu12==12.1.3.1; platform_system == \"Linux\" and platform_machine == \"x86_64\", which is not installed.\n",
            "torch 2.3.0+cu121 requires nvidia-cuda-cupti-cu12==12.1.105; platform_system == \"Linux\" and platform_machine == \"x86_64\", which is not installed.\n",
            "torch 2.3.0+cu121 requires nvidia-cuda-nvrtc-cu12==12.1.105; platform_system == \"Linux\" and platform_machine == \"x86_64\", which is not installed.\n",
            "torch 2.3.0+cu121 requires nvidia-cuda-runtime-cu12==12.1.105; platform_system == \"Linux\" and platform_machine == \"x86_64\", which is not installed.\n",
            "torch 2.3.0+cu121 requires nvidia-cudnn-cu12==8.9.2.26; platform_system == \"Linux\" and platform_machine == \"x86_64\", which is not installed.\n",
            "torch 2.3.0+cu121 requires nvidia-cufft-cu12==11.0.2.54; platform_system == \"Linux\" and platform_machine == \"x86_64\", which is not installed.\n",
            "torch 2.3.0+cu121 requires nvidia-curand-cu12==10.3.2.106; platform_system == \"Linux\" and platform_machine == \"x86_64\", which is not installed.\n",
            "torch 2.3.0+cu121 requires nvidia-cusolver-cu12==11.4.5.107; platform_system == \"Linux\" and platform_machine == \"x86_64\", which is not installed.\n",
            "torch 2.3.0+cu121 requires nvidia-cusparse-cu12==12.1.0.106; platform_system == \"Linux\" and platform_machine == \"x86_64\", which is not installed.\n",
            "torch 2.3.0+cu121 requires nvidia-nccl-cu12==2.20.5; platform_system == \"Linux\" and platform_machine == \"x86_64\", which is not installed.\n",
            "torch 2.3.0+cu121 requires nvidia-nvtx-cu12==12.1.105; platform_system == \"Linux\" and platform_machine == \"x86_64\", which is not installed.\u001b[0m\u001b[31m\n",
            "\u001b[0mSuccessfully installed ConfigArgParse-1.7 Pyomo-6.5.0 black-24.4.2 classiq-0.41.2 h11-0.14.0 httpcore-1.0.5 httpx-0.27.0 mypy-extensions-1.0.0 networkx-2.8.8 packaging-22.0 pathspec-0.12.1 ply-3.11 pydantic-1.10.15 sympy-1.10.1\n"
          ]
        }
      ]
    },
    {
      "cell_type": "code",
      "source": [
        "import classiq\n",
        "classiq.authenticate()"
      ],
      "metadata": {
        "colab": {
          "base_uri": "https://localhost:8080/"
        },
        "id": "f88-GU3bmRiF",
        "outputId": "90e5b027-e5a7-458d-b27a-f6cde5dae9e2"
      },
      "execution_count": 2,
      "outputs": [
        {
          "output_type": "stream",
          "name": "stdout",
          "text": [
            "Your user code: WMBQ-BDPL\n",
            "If a browser doesn't automatically open, please visit this URL from any trusted device: https://auth.classiq.io/activate?user_code=WMBQ-BDPL\n"
          ]
        }
      ]
    },
    {
      "cell_type": "code",
      "execution_count": 3,
      "metadata": {
        "id": "VIHTx9FLi24Y"
      },
      "outputs": [],
      "source": [
        "from classiq import *"
      ]
    },
    {
      "cell_type": "markdown",
      "metadata": {
        "id": "BcCyDzD-i24Z"
      },
      "source": [
        "### Exercise 6 - Exponentiation and Pauli Operators\n",
        "\n",
        "The Qmod language supports different classical types: scalars, arrays, and structs. Structs are objects with member variables, or fields.\n",
        "\n",
        "See also [Classical Types](https://docs.classiq.io/latest/user-guide/platform/qmod/language-reference/classical-types/#structs).\n",
        "\n",
        "The builtin struct type `PauliTerm` is defined as follows:"
      ]
    },
    {
      "cell_type": "code",
      "execution_count": 4,
      "metadata": {
        "id": "wEAdiVVzi24Z"
      },
      "outputs": [],
      "source": [
        "@struct\n",
        "class PauliTerm:\n",
        "    pauli: CArray[Pauli]\n",
        "    coefficient: CReal"
      ]
    },
    {
      "cell_type": "markdown",
      "metadata": {
        "id": "evkg4uAai24a"
      },
      "source": [
        "Note that `Pauli` is an enum for all the Pauli matrices (I, X, Y, Z).\n",
        "\n",
        "Pauli based hamiltonian can be represented as a list of `PauliTerm`s. A Pauli operator defined this way is the argument to a hamiltonian evolution functions.\n",
        "\n",
        "In this exercise we will use the Suzuki-Trotter function to find the evolution of `H=0.5XZXX + 0.25YIZI + 0.3 XIZY` (captured as a literal value for the pauli-operator), with the evolution coefficient being 3, the order being 2, and use 4 repetitions.\n",
        "\n",
        "The declaration of the `suzuki_trotter` function is:"
      ]
    },
    {
      "cell_type": "code",
      "execution_count": 5,
      "metadata": {
        "id": "kRHrj0Zoi24b"
      },
      "outputs": [],
      "source": [
        "@qfunc(external=True)\n",
        "def suzuki_trotter(\n",
        "    pauli_operator: CArray[PauliTerm],\n",
        "    evolution_coefficient: CReal,\n",
        "    order: CInt,\n",
        "    repetitions: CInt,\n",
        "    qbv: QArray[QBit],\n",
        ") -> None:\n",
        "    pass"
      ]
    },
    {
      "cell_type": "markdown",
      "metadata": {
        "id": "-NACCQAOi24b"
      },
      "source": [
        "Fill in the missing parts of the following code in order to complete this exercise:"
      ]
    },
    {
      "cell_type": "code",
      "execution_count": 6,
      "metadata": {
        "colab": {
          "base_uri": "https://localhost:8080/"
        },
        "id": "V8k82vF2i24b",
        "outputId": "da6ed131-c10e-4c01-86e6-1a5f56abaa86"
      },
      "outputs": [
        {
          "output_type": "stream",
          "name": "stdout",
          "text": [
            "Opening: https://platform.classiq.io/circuit/643d9865-5e5e-4361-b9f3-a526cce94a7a?version=0.41.2\n"
          ]
        }
      ],
      "source": [
        "from classiq import *\n",
        "\n",
        "\n",
        "@qfunc\n",
        "def main(q: Output[QArray[QBit]]) -> None:\n",
        "    allocate(4, q)\n",
        "    suzuki_trotter(\n",
        "        [\n",
        "            PauliTerm(pauli=[Pauli.X, Pauli.Z, Pauli.X, Pauli.X], coefficient=0.5),\n",
        "            PauliTerm(pauli=[Pauli.Y, Pauli.I, Pauli.Z, Pauli.I], coefficient=0.25),\n",
        "            PauliTerm(pauli=[Pauli.X, Pauli.I, Pauli.Z, Pauli.Y], coefficient=0.3),\n",
        "        ],\n",
        "        evolution_coefficient=3,\n",
        "        repetitions=4,\n",
        "        order=2,\n",
        "        qbv=q,\n",
        "    )\n",
        "\n",
        "\n",
        "qmod = create_model(main)\n",
        "qprog = synthesize(qmod)\n",
        "show(qprog)"
      ]
    },
    {
      "cell_type": "markdown",
      "metadata": {
        "id": "gOPQeXAUi24c"
      },
      "source": [
        "### Exercise 7 - Basic Arithmetics\n",
        "\n",
        "#### Exercise 7a\n",
        "In this exercise we will use quantum numeric variables and calculate expressions over them.\n",
        "\n",
        "See details on the syntax of numeric types under [Quantum types](https://docs.classiq.io/latest/user-guide/platform/qmod/language-reference/quantum-types/#syntax).\n",
        "See more on quantum expressions under [Numeric assignment](https://docs.classiq.io/latest/user-guide/platform/qmod/language-reference/statements/numeric-assignment/)\n",
        "\n",
        "Create the following quantum programs:\n",
        "1. Initialize variables `x=2`, `y=7` and computes `res = x + y`.\n",
        "2. Initialize variables `x=2`, `y=7` and computes `res = x * y`.\n",
        "3. Initialize variables `x=2`, `y=7`, `z=1` and computes `res = x * y - z`.\n",
        "\n",
        "Guidance:\n",
        "* Use the operator `|=` to perform out-of-place assignment of arithmetic expression.\n",
        "* To initialize the variables, use the function `prepare_int`.\n"
      ]
    },
    {
      "cell_type": "code",
      "execution_count": 7,
      "metadata": {
        "colab": {
          "base_uri": "https://localhost:8080/"
        },
        "id": "BxuUWPc6i24d",
        "outputId": "c9c42919-a2b5-4cbd-8d7f-98a9de541258"
      },
      "outputs": [
        {
          "output_type": "stream",
          "name": "stdout",
          "text": [
            "Opening: https://platform.classiq.io/circuit/bb6f38f4-f452-4ae2-8b4b-bb815e4d76af?version=0.41.2\n"
          ]
        }
      ],
      "source": [
        "from classiq import *\n",
        "\n",
        "@qfunc\n",
        "def main(res: Output[QNum]) -> None:\n",
        "    x = QNum(\"x\")\n",
        "    y = QNum(\"y\")\n",
        "    #z = QNum(\"z\")\n",
        "    prepare_int(2, x)\n",
        "    prepare_int(7, y)\n",
        "    #prepare_int(1, z)\n",
        "    res |= x + y\n",
        "    #res |= x * y\n",
        "    #res |= x * y - z\n",
        "\n",
        "\n",
        "qmod = create_model(main)\n",
        "qprog = synthesize(qmod)\n",
        "show(qprog)"
      ]
    },
    {
      "cell_type": "markdown",
      "metadata": {
        "id": "PV3QFXEmi24e"
      },
      "source": [
        "#### Exercise 7b\n",
        "Declare `x` to be a 2-qubit variable and `y` to be 3-qubit variable.\n",
        "\n",
        "We will perform an addition of two superposition states: `x` is an equal superposition of `0` and `2`, and `y` is an equal superposition of `1`, `2`, `3`, and `6`.\n",
        "\n",
        "1. Use `prepare_state` to initialize `x` and `y`. Note that `prepare_state` works with probabilities, not amplitudes.\n",
        "   The declaration of the `prepare_state` function is:\n",
        "   ```\n",
        "        @qfunc(external=True)\n",
        "        def prepare_state(\n",
        "            probabilities: CArray[CReal],\n",
        "            bound: CReal,\n",
        "            out: Output[QArray[QBit]],\n",
        "        ) -> None:\n",
        "            pass\n",
        "   ```\n",
        "   (Set the bound to 0 in your code)\n",
        "2. Compute `res = x + y`. Execute the resulting circuit. What did you get?"
      ]
    },
    {
      "cell_type": "code",
      "execution_count": 8,
      "metadata": {
        "colab": {
          "base_uri": "https://localhost:8080/"
        },
        "id": "jVGJ6MPci24e",
        "outputId": "65ad937d-3b72-448a-bea0-a9437846c0a6"
      },
      "outputs": [
        {
          "output_type": "stream",
          "name": "stdout",
          "text": [
            "Opening: https://platform.classiq.io/circuit/14c4727b-12c3-469a-aaaf-f96f101cc75e?version=0.41.2\n"
          ]
        }
      ],
      "source": [
        "from classiq import *\n",
        "\n",
        "@qfunc\n",
        "def main (res: Output[QNum]) -> None:\n",
        "    #x = QArray(\"x\") wrong\n",
        "    #y = QArray(\"y\") wrong\n",
        "    #allocate(2,x) wrong\n",
        "    #allocate(3,y) wrong\n",
        "\n",
        "    x = QNum(\"x\", 2, False, 0)\n",
        "    y = QNum(\"y\", 3, False, 0)\n",
        "\n",
        "    prepare_state( probabilities=[1/2,0,1/2,0], bound=0, out=x)\n",
        "    prepare_state( probabilities=[0,1/4,1/4,1/4,0,0,1/4,0], bound=0, out=y)\n",
        "    res |= x + y\n",
        "\n",
        "\n",
        "qmod = create_model(main)\n",
        "qprog = synthesize(qmod)\n",
        "show(qprog)"
      ]
    },
    {
      "cell_type": "markdown",
      "metadata": {
        "id": "aILJ25Gli24f"
      },
      "source": [
        "### Exercise 8 - Within-Apply\n",
        "\n",
        "The within-apply statement applies the pattern `U_dagger V U` that appears frequently in quantum computing.\n",
        "It allows you to compute some function `V` within the context of another function `U`, and afterward uncompute `U` in order to release auxiliary qubits storing intermediate results.\n",
        "\n",
        "See also [Within Apply](https://docs.classiq.io/latest/user-guide/platform/qmod/language-reference/statements/within-apply/).\n",
        "\n",
        "#### Exercise 8a\n",
        "\n",
        "In this exercise, we will use within-apply to compute an arithmetic expression in steps.\n",
        "\n",
        "Use the `within_apply` operation to calculate `res = x + y + z` from a two-variable addition building block with the following steps:\n",
        "1. Add `x` and `y`\n",
        "2. Add the result to `z`\n",
        "3. Uncompute the result of the first operation\n",
        "\n",
        "For simplicity, initialize the registers to simple integers: `x=3`, `y=5`, `z=2`.\n",
        "\n",
        "Hints:\n",
        "\n",
        "* Use a temporary variable.\n",
        "* Wrap the arithmetic operation in a function.\n",
        "\n",
        "Execute the circuit and make sure you obtain the expected result."
      ]
    },
    {
      "cell_type": "code",
      "execution_count": 9,
      "metadata": {
        "id": "Qo23jhg0i24f",
        "colab": {
          "base_uri": "https://localhost:8080/"
        },
        "outputId": "856e5da0-5183-4dc7-e11e-7d2e741f0ecc"
      },
      "outputs": [
        {
          "output_type": "stream",
          "name": "stdout",
          "text": [
            "Opening: https://platform.classiq.io/circuit/2ded5bdc-7b8b-48d1-b257-87773143961b?version=0.41.2\n"
          ]
        }
      ],
      "source": [
        "from classiq import *\n",
        "\n",
        "@qfunc\n",
        "def adder(t: QNum, r: QNum, s: Output[QNum]) -> None:\n",
        "    s |= t + r\n",
        "\n",
        "\n",
        "@qfunc\n",
        "def main(res: Output[QNum]) -> None:\n",
        "    x = QNum(\"x\")\n",
        "    y = QNum(\"y\")\n",
        "    z = QNum(\"z\")\n",
        "    tmp=QNum(\"tmp\")\n",
        "\n",
        "    prepare_int(3, x)\n",
        "    prepare_int(5, y)\n",
        "    prepare_int(2, z)\n",
        "\n",
        "    within_apply(compute=lambda: adder(x, y, tmp), action=lambda: adder(tmp, z, res))\n",
        "\n",
        "\n",
        "qmod = create_model(main)\n",
        "qprog = synthesize(qmod)\n",
        "show(qprog)"
      ]
    },
    {
      "cell_type": "code",
      "source": [
        "def print_parsed_counts(job):\n",
        "    results = job.result()\n",
        "    parsed_counts = results[0].value.parsed_counts\n",
        "    for parsed_state in parsed_counts: print(parsed_state.state)\n",
        "\n",
        "job = execute(qprog)\n",
        "print_parsed_counts(job)"
      ],
      "metadata": {
        "colab": {
          "base_uri": "https://localhost:8080/"
        },
        "id": "zv4xfWYMdqQ-",
        "outputId": "b19ca671-b2ce-42ff-dfb9-8e90e3bd9fc0"
      },
      "execution_count": 10,
      "outputs": [
        {
          "output_type": "stream",
          "name": "stdout",
          "text": [
            "{'res': 10.0}\n"
          ]
        }
      ]
    },
    {
      "cell_type": "markdown",
      "metadata": {
        "id": "D1auXZBmi24f"
      },
      "source": [
        "#### Exercise 8b\n",
        "\n",
        "Why should we use `within-apply` and not just write three concatenated functions?\n",
        "To understand the motivation, we will create another arithmetic circuit.\n",
        "This time, however, we will also set Classiq’s synthesis engine to optimize on the circuit’s number of qubits, i.e., its width.\n",
        "\n",
        "Setting constraints can be done via the `set_constraints` operation - see [here](https://docs.classiq.io/latest/user-guide/platform/synthesis/constraints/).\n",
        "\n",
        "Perform the operation `res = w + x + y + z`, where w is initialized to 4 and the rest as before:\n",
        "\n",
        "1. Add `x` and `y` (as part of the `within_apply` operation)\n",
        "2. Add the result to `z` (as part of the within_apply operation)\n",
        "3. Uncompute the result of the first operation (as part of the `within_apply` operation)\n",
        "4. Add the result of the second operation to `w`. There’s no need to perform another uncomputation, as this brings our calculation to an end.\n",
        "\n",
        "Create the model, optimize on the circuit’s width, and run the circuit. Can you identify where qubits have been released and reused?"
      ]
    },
    {
      "cell_type": "code",
      "execution_count": 11,
      "metadata": {
        "id": "lFTUac7si24g",
        "colab": {
          "base_uri": "https://localhost:8080/"
        },
        "outputId": "e524e137-2f25-45cc-ac26-63d190e39d5c"
      },
      "outputs": [
        {
          "output_type": "stream",
          "name": "stdout",
          "text": [
            "Opening: https://platform.classiq.io/circuit/748e7fee-8892-4ea5-ab7b-aec9058d739d?version=0.41.2\n"
          ]
        }
      ],
      "source": [
        "from classiq import *\n",
        "\n",
        "@qfunc\n",
        "def adder(t: QNum, r: QNum, s: Output[QNum]) -> None:\n",
        "    s |= t + r\n",
        "\n",
        "\n",
        "@qfunc\n",
        "def main(res: Output[QNum]) -> None:\n",
        "    x = QNum(\"x\")\n",
        "    y = QNum(\"y\")\n",
        "    z = QNum(\"z\")\n",
        "    w = QNum(\"w\")\n",
        "    tmp=QNum(\"tmp\")\n",
        "    res_1=QNum(\"res_1\")\n",
        "\n",
        "    prepare_int(3, x)\n",
        "    prepare_int(5, y)\n",
        "    prepare_int(2, z)\n",
        "    prepare_int(4, w)\n",
        "\n",
        "    within_apply(compute=lambda: adder(x, y, tmp), action=lambda: adder(tmp, z, res_1))\n",
        "    #adder(res_1, w, res)\n",
        "    # The above option is equivalent to the one below but increases depth & width of the corresponding circuit. Perhaps, the reason has to do with applying another function within the initial main function!\n",
        "    res |= res_1 + w\n",
        "\n",
        "qmod = create_model(main)\n",
        "qprog = synthesize(qmod)\n",
        "show(qprog)"
      ]
    },
    {
      "cell_type": "code",
      "source": [
        "def print_parsed_counts(job):\n",
        "    results = job.result()\n",
        "    parsed_counts = results[0].value.parsed_counts\n",
        "    for parsed_state in parsed_counts: print(parsed_state.state)\n",
        "\n",
        "job = execute(qprog)\n",
        "print_parsed_counts(job)"
      ],
      "metadata": {
        "colab": {
          "base_uri": "https://localhost:8080/"
        },
        "id": "H5fefdOJimlO",
        "outputId": "22a03ee0-e628-4eb8-e808-e5dcb0dbe8af"
      },
      "execution_count": 12,
      "outputs": [
        {
          "output_type": "stream",
          "name": "stdout",
          "text": [
            "{'res': 14.0}\n"
          ]
        }
      ]
    },
    {
      "cell_type": "code",
      "source": [
        "def print_depth_width(quantum_program):\n",
        "    generated_circuit = QuantumProgram.parse_raw(quantum_program)\n",
        "    print(f\"Synthesized circuit width: {generated_circuit.data.width}, depth: {generated_circuit.transpiled_circuit.depth}\")\n",
        "\n",
        "qmod = set_constraints(qmod,Constraints(optimization_parameter='width'))\n",
        "qprog = synthesize(qmod)\n",
        "print_depth_width(qprog)\n",
        "show(qprog)"
      ],
      "metadata": {
        "colab": {
          "base_uri": "https://localhost:8080/"
        },
        "id": "yC0TJ3qhitwW",
        "outputId": "d53a04ba-5080-4288-ed5d-9c2e4eb2b08a"
      },
      "execution_count": 13,
      "outputs": [
        {
          "output_type": "stream",
          "name": "stdout",
          "text": [
            "Synthesized circuit width: 16, depth: 170\n",
            "Opening: https://platform.classiq.io/circuit/840f2327-237b-4858-a910-cafcb05d0e2e?version=0.41.2\n"
          ]
        }
      ]
    },
    {
      "cell_type": "markdown",
      "metadata": {
        "id": "l2EkThhbi24g"
      },
      "source": [
        "#### Bonus: Use a Single Arithmetic Expression\n",
        "\n",
        "What happens when we don't manually decompose this expression?\n",
        "\n",
        "Use Classiq’s arithmetic engine to calculate `res |= x + y + z + w` and optimize for width.\n",
        "Look at the resulting quantum program - can you identify the computation and uncomputation blocks? What else did you notice?"
      ]
    },
    {
      "cell_type": "code",
      "execution_count": 14,
      "metadata": {
        "id": "cnx7vq15i24g",
        "colab": {
          "base_uri": "https://localhost:8080/"
        },
        "outputId": "f6838cab-9440-4bf0-dedf-401e453eb7ee"
      },
      "outputs": [
        {
          "output_type": "stream",
          "name": "stdout",
          "text": [
            "Opening: https://platform.classiq.io/circuit/41cf316b-ddd0-4353-bdf3-c2562ad641ff?version=0.41.2\n"
          ]
        }
      ],
      "source": [
        "from classiq import *\n",
        "\n",
        "@qfunc\n",
        "def main(res: Output[QNum]) -> None:\n",
        "    x = QNum(\"x\")\n",
        "    y = QNum(\"y\")\n",
        "    z = QNum(\"z\")\n",
        "    w = QNum(\"w\")\n",
        "\n",
        "    prepare_int(3, x)\n",
        "    prepare_int(5, y)\n",
        "    prepare_int(2, z)\n",
        "    prepare_int(4, w)\n",
        "\n",
        "    res |= x + y + z + w\n",
        "\n",
        "qmod = create_model(main)\n",
        "qprog = synthesize(qmod)\n",
        "show(qprog)"
      ]
    },
    {
      "cell_type": "code",
      "source": [
        "def print_parsed_counts(job):\n",
        "    results = job.result()\n",
        "    parsed_counts = results[0].value.parsed_counts\n",
        "    for parsed_state in parsed_counts: print(parsed_state.state)\n",
        "\n",
        "job = execute(qprog)\n",
        "print_parsed_counts(job)"
      ],
      "metadata": {
        "colab": {
          "base_uri": "https://localhost:8080/"
        },
        "id": "JqRNP4Y6pagu",
        "outputId": "20910853-03c9-4dd5-a3bb-0ec576c28b63"
      },
      "execution_count": 15,
      "outputs": [
        {
          "output_type": "stream",
          "name": "stdout",
          "text": [
            "{'res': 14.0}\n"
          ]
        }
      ]
    },
    {
      "cell_type": "code",
      "source": [
        "def print_depth_width(quantum_program):\n",
        "    generated_circuit = QuantumProgram.parse_raw(quantum_program)\n",
        "    print(f\"Synthesized circuit width: {generated_circuit.data.width}, depth: {generated_circuit.transpiled_circuit.depth}\")\n",
        "\n",
        "qmod = set_constraints(qmod,Constraints(optimization_parameter='width'))\n",
        "qprog = synthesize(qmod)\n",
        "print_depth_width(qprog)\n",
        "show(qprog)"
      ],
      "metadata": {
        "colab": {
          "base_uri": "https://localhost:8080/"
        },
        "id": "Qn1SY3J2peD_",
        "outputId": "5314a54d-e15c-4869-d9e1-c3a357685ae8"
      },
      "execution_count": 16,
      "outputs": [
        {
          "output_type": "stream",
          "name": "stdout",
          "text": [
            "Synthesized circuit width: 12, depth: 155\n",
            "Opening: https://platform.classiq.io/circuit/e6ced2df-8460-4244-a595-25a58b97c643?version=0.41.2\n"
          ]
        }
      ]
    },
    {
      "cell_type": "markdown",
      "metadata": {
        "id": "hAf3awMji24h"
      },
      "source": [
        "### Exercise 9 - In-place Arithmetics\n",
        "\n",
        "For the following exercise we will use numeric quantum variables that represent fixed-point reals.\n",
        "\n",
        "Arithmetic expressions can be calculated in-place into a target variable, without allocating new qubits to store the result. This is done using the in-place-xor operator.\n",
        "\n",
        "See also [Numeric assignment](https://docs.classiq.io/latest/user-guide/platform/qmod/language-reference/statements/numeric-assignment/#semantics).\n",
        "\n",
        "In-place assignment is often used to nest arithmetic expressions under quantum operators. Note that out-of-place assignment requires its left-value variable to be un-initialized, and therefore cannot be used under an operator if the variable is declared outside its scope. Applying operators to arithmetic expressions is required in many algorithms. One example is the piecewise evaluation of mathematical functions - calculating different expressions over `x` depending on the subdomain where `x` falls.\n",
        "\n",
        "For this exercise, replace the missing parts in the code snippet below to evaluate the result of:\n",
        "\n",
        "$$\n",
        "f(x) = \\begin{cases}\n",
        "      2x + 1 & \\text{ if } 0 \\leq x < 0.5 \\\\\n",
        "      x + 0.5 & \\text{ if } 0.5 \\leq x < 1\n",
        "   \\end{cases}\n",
        "$$\n",
        "\n",
        "Notes:\n",
        "- We cannot use `x` directly as the control variable in a `constrol` operator, because it also occurs in the nested scope. to determine if `x` is in the lower or higher half of the domain we duplicate the most significant bit onto a separate variable called `label`.\n",
        "- In Python assignment operators cannot be used in lambda expressions, so the computation of the function needs to be factored out to a named Python function (but not necessarily a Qmod function).\n"
      ]
    },
    {
      "cell_type": "code",
      "execution_count": 17,
      "metadata": {
        "id": "5PBhktGTi24h",
        "outputId": "d4f755d0-4c6d-4ea0-c718-438467a48543",
        "colab": {
          "base_uri": "https://localhost:8080/"
        }
      },
      "outputs": [
        {
          "output_type": "stream",
          "name": "stdout",
          "text": [
            "Opening: https://platform.classiq.io/circuit/99c5bc74-1640-4773-ad23-6af810e11979?version=0.41.2\n"
          ]
        }
      ],
      "source": [
        "\n",
        "from classiq import *\n",
        "\n",
        "\n",
        "def linear_func(a: float, b: float, x: QNum, res: QNum) -> None:\n",
        "    res ^= a * x + b\n",
        "\n",
        "\n",
        "@qfunc\n",
        "def dup_msb(qba: QArray[QBit], msb: QBit) -> None:\n",
        "    CX(qba[qba.len - 1], msb)\n",
        "\n",
        "\n",
        "@qfunc\n",
        "def main(x: Output[QNum[3, False, 3]], res: Output[QNum[5, False, 3]]) -> None:\n",
        "    allocate(5, res)\n",
        "    allocate(3, x)\n",
        "    hadamard_transform(x)\n",
        "\n",
        "    label = QArray(\"label\")\n",
        "    allocate(1, label)\n",
        "\n",
        "    dup_msb(x, label)\n",
        "    control(label, lambda: linear_func(1.0, 0.5, x, res))  # 0.5 <= x < 1.0\n",
        "    X(label)\n",
        "    control(label, lambda: linear_func(2.0, 1.0, x, res))  # 0.0 <= x < 0.5\n",
        "\n",
        "\n",
        "qmod = create_model(main)\n",
        "qprog = synthesize(qmod)\n",
        "show(qprog)"
      ]
    },
    {
      "cell_type": "markdown",
      "metadata": {
        "id": "et7nzuIli24i"
      },
      "source": [
        "### Exercise 10 - State-preparation Algorithm using Quantum-if\n",
        "\n",
        "#### Binding\n",
        "The `bind` operation allows to convert smoothly between different quantum types and split or slice bits when necessary. Here’s an example:"
      ]
    },
    {
      "cell_type": "code",
      "execution_count": 18,
      "metadata": {
        "id": "FiMFqIUji24i",
        "outputId": "183779b1-fa03-4961-864c-cf65190199bc",
        "colab": {
          "base_uri": "https://localhost:8080/"
        }
      },
      "outputs": [
        {
          "output_type": "stream",
          "name": "stdout",
          "text": [
            "Opening: https://platform.classiq.io/circuit/f6c420ec-536f-4cb0-8f3b-266bf4d42fcb?version=0.41.2\n"
          ]
        }
      ],
      "source": [
        "from classiq import *\n",
        "\n",
        "\n",
        "\n",
        "from classiq import *\n",
        "from math import pi\n",
        "\n",
        "\n",
        "@qfunc\n",
        "def main(res: Output[QArray[QBit]]) -> None:\n",
        "    x: QArray[QBit] = QArray(\"x\")\n",
        "    allocate(3, x)\n",
        "    hadamard_transform(x)\n",
        "\n",
        "    lsb = QBit(\"lsb\")\n",
        "    msb = QNum(\"msb\", 2, False, 0)\n",
        "    bind(x, [lsb, msb])\n",
        "\n",
        "    control(msb == 1, lambda: RY(pi / 3, lsb))   # msb==1 <==> bit1 bit2 == 01 (binary of decimal 1)\n",
        "\n",
        "    bind([lsb, msb], res)\n",
        "\n",
        "model = create_model(main)\n",
        "qprog = synthesize(model)\n",
        "show(qprog)"
      ]
    },
    {
      "cell_type": "markdown",
      "metadata": {
        "id": "9opTNM8ti24j"
      },
      "source": [
        "The first `bind` operation splits the 3-qubit register `x` into the 2-qubit and single-qubit registers `lsb` and `msb`, respectively.\n",
        "\n",
        "After the `bind` operation:\n",
        "1. The registers `lsb` and `msb` can be operated on as separated registers.\n",
        "2. The register`x` is consumed and can no longer be used.\n",
        "\n",
        "The second `bind` operation concatenates the registers to the output register `res`.\n",
        "\n",
        "For this exercise, fill in the missing code parts in the above snippet and use the `control` statement to manually generate the following lovely 3-qubit probability distribution: `[1/8, 1/8, 1/8, -sqrt(3)/16, 1/8 + sqrt(3)/16, 1/8, 1/8, 1/8, 1/8]`.\n",
        "\n",
        "The following series of gates generate it:\n",
        "\n",
        "Perform the Hadamard transform on all three qubits.\n",
        "\n",
        "Apply a rotation on the LSB (least-significant bit) conditioned by the MSB being |0> and the second to last MSB being |1>. How would you write this condition using a QNum?\n",
        "\n",
        "The following series of gates generate it:\n",
        "1. Perform the Hadamard transform on all three qubits.\n",
        "2. Apply a `pi/3` rotation on the LSB (least-significant bit) conditioned by the MSB being |0> and the second to last MSB being |1>. How would you write this condition using a QNum?\n",
        "\n",
        "If you want to validate your results without looking at the full solution, compare them to running using Classiq’s built-in `prepare_state` function.\n"
      ]
    },
    {
      "cell_type": "code",
      "execution_count": 19,
      "metadata": {
        "id": "GAQq4oaFi24j",
        "colab": {
          "base_uri": "https://localhost:8080/"
        },
        "outputId": "183a7b88-7d79-436e-c1f5-dd4f543370a3"
      },
      "outputs": [
        {
          "output_type": "stream",
          "name": "stdout",
          "text": [
            "Opening: https://platform.classiq.io/circuit/1da7d13e-6721-4522-8703-3b03dd4a553b?version=0.41.2\n"
          ]
        }
      ],
      "source": [
        "from classiq import *\n",
        "from classiq.qmod.symbolic import sqrt\n",
        "\n",
        "\n",
        "# The initial list of probabilities didn't account for having a probability distribution (e.g., 9 != 2**n, n E Z). It appears that the results, attributed to the list below, is equivalent to the the ones, associated with the problem statement.\n",
        "\n",
        "prob_list= [\n",
        "            1 / 8,\n",
        "            1 / 8,\n",
        "            1 / 8 - sqrt(3) / 16,\n",
        "            1 / 8 + sqrt(3) / 16,\n",
        "            1 / 8,\n",
        "            1 / 8,\n",
        "            1 / 8,\n",
        "            1 / 8\n",
        "        ]\n",
        "@qfunc\n",
        "def pre_prepared_state(q: QArray[QBit]) -> None:\n",
        "    prepare_state(\n",
        "        [\n",
        "            1 / 8,\n",
        "            1 / 8,\n",
        "            1 / 8 - sqrt(3) / 16,\n",
        "            1 / 8 + sqrt(3) / 16,\n",
        "            1 / 8,\n",
        "            1 / 8,\n",
        "            1 / 8,\n",
        "            1 / 8,\n",
        "        ],\n",
        "        0.0,\n",
        "        q,\n",
        "    )\n",
        "\n",
        "\n",
        "@qfunc\n",
        "def main (res: Output[QArray[QBit]]) -> None:\n",
        "\n",
        "    #pre_prepared_state(?)\n",
        "    prepare_state( probabilities=prob_list, bound=0, out=res)\n",
        "\n",
        "qmod = create_model(main)\n",
        "qprog = synthesize(qmod)\n",
        "show(qprog)"
      ]
    },
    {
      "cell_type": "code",
      "execution_count": 20,
      "metadata": {
        "outputId": "1cfa2ceb-8a1c-4a31-b81b-b11f8375e1ff",
        "colab": {
          "base_uri": "https://localhost:8080/"
        },
        "id": "_c76nFvPLzz-"
      },
      "outputs": [
        {
          "output_type": "stream",
          "name": "stdout",
          "text": [
            "Opening: https://platform.classiq.io/circuit/00bff716-76ff-4386-9643-8c82ee1ddc87?version=0.41.2\n"
          ]
        }
      ],
      "source": [
        "from classiq import *\n",
        "from math import pi\n",
        "\n",
        "\n",
        "@qfunc\n",
        "def main(res: Output[QArray[QBit]]) -> None:\n",
        "    x: QArray[QBit] = QArray(\"x\")\n",
        "    allocate(3, x)\n",
        "    hadamard_transform(x)\n",
        "\n",
        "    lsb = QBit(\"lsb\")\n",
        "    msb = QNum(\"msb\", 2, False, 0)\n",
        "    bind(x, [lsb, msb])\n",
        "\n",
        "    control(msb == 1, lambda: RY(pi / 3, lsb))   # msb==1 <==> bit1 bit2 == 01 (binary of decimal 1)\n",
        "\n",
        "    bind([lsb, msb], res)\n",
        "\n",
        "model = create_model(main)\n",
        "qprog = synthesize(model)\n",
        "show(qprog)"
      ]
    },
    {
      "cell_type": "markdown",
      "source": [
        "If one attempts to execute these qprogs on the IDE, one notices that the bar charts for probabilities (derived as a result of e.g., 10000 shots) are extremely similar , validating the hypothesis that the latter can indeed generate the state, designed by the former via controls (quantum ifs)! Specifically only the distributions, related to the |01x>, x E{0, 1} states are manipulated. Also perhaps (not) trivially, the choice of RY as the rotation gate was essential."
      ],
      "metadata": {
        "id": "u1TrDCnAN8ZU"
      }
    }
  ],
  "metadata": {
    "kernelspec": {
      "display_name": "Python 3 (ipykernel)",
      "language": "python",
      "name": "python3"
    },
    "language_info": {
      "codemirror_mode": {
        "name": "ipython",
        "version": 3
      },
      "file_extension": ".py",
      "mimetype": "text/x-python",
      "name": "python",
      "nbconvert_exporter": "python",
      "pygments_lexer": "ipython3",
      "version": "3.10.9"
    },
    "colab": {
      "provenance": []
    }
  },
  "nbformat": 4,
  "nbformat_minor": 0
}