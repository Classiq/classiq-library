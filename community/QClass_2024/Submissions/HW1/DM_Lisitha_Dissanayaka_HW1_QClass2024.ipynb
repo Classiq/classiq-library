{
  "cells": [
    {
      "cell_type": "markdown",
      "metadata": {
        "id": "zJdpE7qDVIKb"
      },
      "source": [
        "# The Qmod Workshop - Introduction\n",
        "\n",
        "The Classiq platform features a high-level quantum modeling language called Qmod. Qmod is compiled into concrete gate-level implementation using a powerful synthesis engine that optimizes and adapts the implementation to different target hardware/simulation environments.\n",
        "\n",
        "In this workshop, we will learn how to write quantum models using Qmod. We will be using the Python embedding of Qmod, available as part of the Classiq Python SDK. We will learn basic concepts in the Qmod language, such as functions, operators, quantum variables, and quantum types. We will develop useful building blocks and small algorithms.\n",
        "\n",
        "The [QMOD language reference](https://docs.classiq.io/latest/user-guide/platform/qmod/language-reference/) covers these concepts more systematically and includes more examples.\n",
        "\n",
        "This workshop consists of step-by-step exercises. It is structured as follows:\n",
        "\n",
        "- Part 1: Language Fundamentals - Exercises 1-5\n",
        "- Part 2: Higher-Level Concepts - Exercises 6-10\n",
        "- Part 3: Execution Flows - Exercises 11, 12\n",
        "\n",
        "The introduction and Part 1 are included in this notebook. Part 2 and 3 are each in its own separate notebook. For each exercise you will find the solution to the exercises at the bottom of the same notebook.\n",
        "\n",
        "### Preparations\n",
        "\n",
        "Make sure you have a Python version of 3.8 through 3.11 installed. Unfortunately, Classiq is not yet supported with Python 3.12.\n",
        "\n",
        "Install Classiq’s Python SDK by following the instructions on this page: [Getting Started - Classiq](https://docs.classiq.io/latest/getting-started/).\n",
        "\n",
        "### Python Qmod Exercises - General Instructions\n",
        "\n",
        "In order to synthesize and execute your Qmod code, you should:\n",
        "1. Make sure you define a `main` function that calls functions you create.\n",
        "2. Use `create_model` by running `qmod = create_model(main)` to construct a representation of your model.\n",
        "3. You can synthesize the model (using `qprog = synthesize(qmod)`) to obtain an implementation - a quantum program.\n",
        "4. You can then visualize the quantum program (`show(qprog)`) or execute it (using `execute(qprog)`. See: [Execution - Classiq](https://docs.classiq.io/latest/user-guide/platform/executor/#full-example)). You can also execute it with the IDE after visualizing the circuit.\n"
      ]
    },
    {
      "cell_type": "markdown",
      "metadata": {
        "id": "2TZl380CVIKe"
      },
      "source": [
        "### Exercise 0: From Model to Execution\n",
        "\n",
        "The following model defines a function that applies X and H gates on a single qubit, and subsequently calls it:"
      ]
    },
    {
      "cell_type": "code",
      "source": [
        "!pip install -U classiq"
      ],
      "metadata": {
        "id": "spWBx0Yhboe6"
      },
      "execution_count": null,
      "outputs": []
    },
    {
      "cell_type": "code",
      "execution_count": 36,
      "metadata": {
        "id": "s-ZZG6dNVIKf"
      },
      "outputs": [],
      "source": [
        "import classiq\n",
        "from classiq import *\n",
        "classiq.authenticate()\n",
        "\n",
        "@qfunc\n",
        "def foo(q: QBit):\n",
        "    X(target=q)\n",
        "    H(target=q)\n",
        "\n",
        "@qfunc\n",
        "def main(res: Output[QBit]):\n",
        "    allocate(1, res)\n",
        "    foo(q=res)"
      ]
    },
    {
      "cell_type": "markdown",
      "metadata": {
        "id": "FuxusKdqVIKh"
      },
      "source": [
        "Create a model from it, and synthesize, visualize, and execute it.\n",
        "\n",
        "Use the General Instructions above to do so.\n"
      ]
    },
    {
      "cell_type": "code",
      "execution_count": 37,
      "metadata": {
        "id": "dK7V_C6VVIKi",
        "colab": {
          "base_uri": "https://localhost:8080/"
        },
        "outputId": "5013e953-94cf-4e32-b322-8528f5948387"
      },
      "outputs": [
        {
          "output_type": "stream",
          "name": "stdout",
          "text": [
            "Opening: https://platform.classiq.io/circuit/5dfec0ef-beb1-4f06-a7d5-28ac6fcc95ac?version=0.41.2\n"
          ]
        }
      ],
      "source": [
        "from classiq import *\n",
        "quantum_model = create_model(main)\n",
        "quantum_program = synthesize(quantum_model)\n",
        "show(quantum_program)"
      ]
    },
    {
      "cell_type": "markdown",
      "metadata": {
        "id": "lQPOQW0iVIKj"
      },
      "source": [
        "In Qmod `QBit` is the simplest quantum type, and in this example, `q` is a quantum variable of type `QBit`. Quantum variables abstract away the mapping of quantum objects to qubits in the actual circuit.\n",
        "\n",
        "See also [Quantum Variables](https://docs.classiq.io/latest/user-guide/platform/qmod/language-reference/quantum-variables/).\n",
        "\n",
        "We will discuss other quantum types during the workshop.\n"
      ]
    },
    {
      "cell_type": "markdown",
      "metadata": {
        "id": "JUDMLvB7VIKj"
      },
      "source": [
        "# The Qmod Workshop - Part 1: Language Fundamentals\n",
        "\n",
        "Follow exercises 1 through 5 for the first session of the workshop."
      ]
    },
    {
      "cell_type": "markdown",
      "metadata": {
        "id": "ecZwWlCGVIKk"
      },
      "source": [
        "## Exercise 1 - Bell Pair\n",
        "\n",
        "Create a function that takes two single-qubit (`QBit`) quantum arguments and prepares the bell state on them ([Bell state](https://en.wikipedia.org/wiki/Bell_state)) by applying `H` on one variable and then using it as the control of a `CX` function with the second variable as the target.\n",
        "Create a main function that uses this function and has two single-qubit outputs, initialize them to the |0> state (using the `allocate` function), and apply your function to them.\n",
        "\n",
        "See also [Functions](https://docs.classiq.io/latest/user-guide/platform/qmod/language-reference/functions#syntax)\n"
      ]
    },
    {
      "cell_type": "code",
      "execution_count": 38,
      "metadata": {
        "id": "3BgSYc-XVIKk",
        "colab": {
          "base_uri": "https://localhost:8080/"
        },
        "outputId": "f0397010-a744-4a16-998f-4a2695f8b1d9"
      },
      "outputs": [
        {
          "output_type": "stream",
          "name": "stdout",
          "text": [
            "Opening: https://platform.classiq.io/circuit/fbf73dfb-c09f-4e6a-89a1-9dfe232492eb?version=0.41.2\n"
          ]
        }
      ],
      "source": [
        "from classiq import *\n",
        "\n",
        "@qfunc\n",
        "def bell(q0:QBit, q1:QBit):\n",
        "  H(q0)\n",
        "  CX(q0, q1)\n",
        "\n",
        "@qfunc\n",
        "def main(x: Output[QBit], y: Output[QBit]): #TODO fill in the correct declaration here, what variables this model should output?\n",
        "    allocate(1,x)\n",
        "    allocate(1,y)\n",
        "    bell(x, y)\n",
        "\n",
        "qmod = create_model(main)\n",
        "qprog = synthesize(qmod)\n",
        "show(qprog)"
      ]
    },
    {
      "cell_type": "markdown",
      "metadata": {
        "id": "WDLoJ4b9VIKk"
      },
      "source": [
        "Use qubit array subscript (the syntax - _variable_ **[** _index-expression_ **]**) to change the function from subsection 1 to receive a single quantum variable, a qubit array (`QArray`) of size 2.\n",
        "Change your main function to declare a single output (also an array of size 2).\n"
      ]
    },
    {
      "cell_type": "code",
      "source": [
        "from classiq import *\n",
        "\n",
        "@qfunc\n",
        "def create_bell_pair(x: QArray) -> None:\n",
        "    H(target=x[0])\n",
        "    CX(control=x[0], target=x[1])\n",
        "\n",
        "@qfunc\n",
        "def main(q: Output[QArray]) -> None:\n",
        "    allocate(2, q)  # Properly allocating qubits\n",
        "    create_bell_pair(x=q)\n",
        "    return q\n",
        "\n",
        "\n",
        "qmod = create_model(main)\n",
        "qprog = synthesize(qmod)\n",
        "show(qprog)"
      ],
      "metadata": {
        "colab": {
          "base_uri": "https://localhost:8080/"
        },
        "id": "BhoVg3tlou4R",
        "outputId": "4db27cd3-32a0-48d8-ecb1-4af89dda6c8a"
      },
      "execution_count": 41,
      "outputs": [
        {
          "output_type": "stream",
          "name": "stdout",
          "text": [
            "Opening: https://platform.classiq.io/circuit/fd9c78b0-95bd-43a2-ad3d-6fe6ab165ada?version=0.41.2\n"
          ]
        }
      ]
    },
    {
      "cell_type": "markdown",
      "metadata": {
        "id": "Fj3I4rgnVIKl"
      },
      "source": [
        "## Exercise 2 - Repeat\n",
        "\n",
        "Use the built-in `repeat` operator to create your own Hadamard transform function (call it `my_hadamard_transform`). The Hadamard transform function is a function that takes as argument a qubit array of an unspecified size and applies `H` to each of its qubit.\n",
        "\n",
        "See also [Classical repeat](https://docs.classiq.io/latest/user-guide/platform/qmod/language-reference/statements/classical-control-flow/#classical-repeat).\n",
        "\n",
        "Set your main function to have a quantum array output of unspecified size, allocate 10 qubits, and then apply your Hadamard transform function.\n"
      ]
    },
    {
      "cell_type": "code",
      "execution_count": 42,
      "metadata": {
        "id": "tBUUmBV1VIKl",
        "colab": {
          "base_uri": "https://localhost:8080/"
        },
        "outputId": "725aa38a-f1cb-4f56-8b95-95c954e26278"
      },
      "outputs": [
        {
          "output_type": "stream",
          "name": "stdout",
          "text": [
            "Opening: https://platform.classiq.io/circuit/a74b391c-c3cb-4638-80f1-9bfc6a2684ba?version=0.41.2\n"
          ]
        }
      ],
      "source": [
        "from classiq import *\n",
        "\n",
        "# Your code here:\n",
        "\n",
        "@qfunc\n",
        "def my_hadamard_transform(q: QArray[QBit]) -> None:\n",
        "    repeat(q.len, lambda i: H(q[i]))\n",
        "\n",
        "@qfunc\n",
        "def main(reg: Output[QArray]):\n",
        "    allocate(10,reg)\n",
        "    my_hadamard_transform(reg)\n",
        "\n",
        "qmod = create_model(main)\n",
        "qprog = synthesize(qmod)\n",
        "show(qprog)"
      ]
    },
    {
      "cell_type": "markdown",
      "metadata": {
        "id": "TOZARF-9VIKm"
      },
      "source": [
        "### Note: Quantum Variable Capture\n",
        "The `repeat` operator invokes a statement block multiple times. The statement block is specified using a Python callable, typically a lambda expression. Inside the block you can refer to variables declared in the outer function scope.\n",
        "This concept is called `quantum variable capture`, equivalent to [capture](https://en.wikipedia.org/wiki/Closure_(computer_programming)) in classical languages.\n",
        "\n",
        "See also [Capturing context variables and parameters](https://docs.classiq.io/latest/user-guide/platform/qmod/language-reference/operators/#capturing-context-variables-and-parameters)."
      ]
    },
    {
      "cell_type": "markdown",
      "metadata": {
        "id": "0TxnlgeiVIKm"
      },
      "source": [
        "### Exercise 3 - Power\n",
        "Raising a quantum operation to a power appears in many known algorithms, for examples, in Grover search and Quantum Phase Estimation.\n",
        "For most operations, it simply means repeating the same circuit multiple times.\n",
        "\n",
        "Sometimes, however, power can be simplified, thus saving computational resources.\n",
        "The most trivial example is a quantum operation expressed as a single explicit unitary matrix (i.e., all n*n matrix terms are given) -  raising the operation can be done by raising the matrix to that power via classical programming.\n",
        "\n",
        "See also [Power operator](https://docs.classiq.io/latest/user-guide/platform/qmod/language-reference/statements/quantum-operators/#syntax).\n",
        "\n",
        "Use the following code to generate a 2-qubit (real) unitary matrix:"
      ]
    },
    {
      "cell_type": "code",
      "execution_count": 43,
      "metadata": {
        "id": "4EnBoOA2VIKm"
      },
      "outputs": [],
      "source": [
        "from typing import List\n",
        "\n",
        "import numpy as np\n",
        "\n",
        "from classiq import *\n",
        "\n",
        "rng = np.random.default_rng(seed=0)\n",
        "random_matrix = rng.random((4, 4))\n",
        "qr_unitary, _ = np.linalg.qr(random_matrix)\n",
        "\n",
        "unitary_matrix = QConstant(\"unitary_matrix\", List[List[float]], qr_unitary.tolist())"
      ]
    },
    {
      "cell_type": "markdown",
      "metadata": {
        "id": "APC5ZHeiVIKn"
      },
      "source": [
        "In order to reuse some classical value we can define a `QConstant` to store that value.\n",
        "\n",
        "1. Create a model that applies `unitary_matrix` on a 2 qubit variable.\n",
        "2. Create another model that applies `unitary_matrix` raised to power 3 on a 2 qubit variable.\n",
        "3. Compare the gate count via the Classiq’s IDE in both cases.\n",
        "\n",
        "Note - the signature of function `unitary` is:"
      ]
    },
    {
      "cell_type": "code",
      "execution_count": 44,
      "metadata": {
        "id": "5Qg-__1mVIKn"
      },
      "outputs": [],
      "source": [
        "def unitary(\n",
        "    elements: CArray[CArray[CReal]],\n",
        "    target: QArray[QBit],\n",
        ") -> None:\n",
        "    pass"
      ]
    },
    {
      "cell_type": "code",
      "execution_count": 45,
      "metadata": {
        "id": "f8MExwFfVIKn",
        "colab": {
          "base_uri": "https://localhost:8080/"
        },
        "outputId": "aa7e5304-8159-4a5e-d621-7d56d8f84a8e"
      },
      "outputs": [
        {
          "output_type": "stream",
          "name": "stdout",
          "text": [
            "Opening: https://platform.classiq.io/circuit/7379a193-c465-4fbc-ae76-ac63e8f2d318?version=0.41.2\n"
          ]
        }
      ],
      "source": [
        "from classiq import *\n",
        "\n",
        "@qfunc\n",
        "def main(q: Output[QArray[QBit]]) -> None:\n",
        "    allocate(2, q)\n",
        "    power(3, lambda: unitary(unitary_matrix, q))\n",
        "\n",
        "qmod = create_model(main)\n",
        "qprog = synthesize(qmod)\n",
        "show(qprog)"
      ]
    },
    {
      "cell_type": "markdown",
      "metadata": {
        "id": "eBCtBVEFVIKn"
      },
      "source": [
        "## Exercise 4 - User-defined Operators\n",
        "Create a function that applies a given single-qubit operation to all qubits in its quantum argument (Call your function `my_apply_to_all`). Such a function is also called an operator, i.e. a function that one of its arguments is another function (its operand).\n",
        "\n",
        "See also [Operators](https://docs.classiq.io/latest/user-guide/platform/qmod/language-reference/operators/).\n",
        "\n",
        "Follow these guidelines:\n",
        "1. Your function should declare a quantum argument of type qubit array. It should also declare an argument of a function type with a single qubit argument.\n",
        "2. The body should apply the operand to all qubits in the argument.\n",
        "\n",
        "When you're done, re-implement `my_hadamard_transform` from exercise 2 using this function instead of `repeat`.\n",
        "Use the same main function from exercise 2."
      ]
    },
    {
      "cell_type": "code",
      "execution_count": 46,
      "metadata": {
        "id": "OrDlmO-oVIKn",
        "colab": {
          "base_uri": "https://localhost:8080/"
        },
        "outputId": "b39aad64-6b5f-4ce4-e2e0-b728311ada0e"
      },
      "outputs": [
        {
          "output_type": "stream",
          "name": "stdout",
          "text": [
            "Opening: https://platform.classiq.io/circuit/6e0ede0d-2dd4-45ff-a825-127190a6ddcf?version=0.41.2\n"
          ]
        }
      ],
      "source": [
        "from classiq import *\n",
        "\n",
        "@qfunc\n",
        "def my_apply_to_all(operand: QCallable[QBit], q: QArray[QBit]) -> None:\n",
        "    repeat(q.len, lambda i: operand(q[i]))\n",
        "\n",
        "@qfunc\n",
        "def my_hadamard_transform(q: QArray[QBit]) -> None:\n",
        "    my_apply_to_all(lambda t: H(t), q)\n",
        "\n",
        "@qfunc\n",
        "def main(q: Output[QArray[QBit]]) -> None:\n",
        "    allocate(10, q)\n",
        "    my_hadamard_transform(q)\n",
        "\n",
        "qmod = create_model(main)\n",
        "qprog = synthesize(qmod)\n",
        "show(qprog)"
      ]
    },
    {
      "cell_type": "markdown",
      "metadata": {
        "id": "lCJCUYiJVIKo"
      },
      "source": [
        "# Exercise 5 -  Quantum Conditionals\n",
        "\n",
        "### Exercise 5a - Control Operator\n",
        "Use the built-in `control` operator to create a function that receives two single qubit variables and uses one of the variables to control an RY gate with a `pi/2` angle acting on the other variable (without using the `CRY` function).\n",
        "\n",
        "See also [Quantum operators](https://docs.classiq.io/latest/user-guide/platform/qmod/language-reference/statements/quantum-operators/#syntax).\n"
      ]
    },
    {
      "cell_type": "code",
      "execution_count": 47,
      "metadata": {
        "id": "eqEH-joWVIKo",
        "colab": {
          "base_uri": "https://localhost:8080/"
        },
        "outputId": "a415a17a-a1fd-4c8e-c89d-453c759e6dea"
      },
      "outputs": [
        {
          "output_type": "stream",
          "name": "stdout",
          "text": [
            "Opening: https://platform.classiq.io/circuit/40a5a8f7-5660-4b84-940e-7287dba0452f?version=0.41.2\n"
          ]
        }
      ],
      "source": [
        "from classiq import *\n",
        "\n",
        "from classiq.qmod.symbolic import pi\n",
        "\n",
        "@qfunc\n",
        "def my_controlled_ry(c_bit: QBit, target: QBit) -> None:\n",
        "    control(c_bit, lambda: RY(pi / 2, target))\n",
        "\n",
        "\n",
        "@qfunc\n",
        "def main(c_bit: Output[QBit], target: Output[QBit]) -> None:\n",
        "    allocate(1, c_bit)\n",
        "    allocate(1, target)\n",
        "    my_controlled_ry(c_bit, target)\n",
        "\n",
        "qmod = create_model(main)\n",
        "qprog = synthesize(qmod)\n",
        "show(qprog)"
      ]
    },
    {
      "cell_type": "markdown",
      "metadata": {
        "id": "sw1RP8FFVIKo"
      },
      "source": [
        "### Exercise 5b - Control (\"Quantum If\")\n",
        "The `control` operator is the conditional application of some operation, with the condition being that all control qubits are in the state |1>. This notion is generalized in QMOD to other control states, where the condition is specified as a comparison between a quantum numeric variable and a numeric value, similar to a classical `if` statement. Quantum numeric variables are declared with class `QNum`.\n",
        "\n",
        "See also [Numeric types](https://docs.classiq.io/latest/user-guide/platform/qmod/language-reference/quantum-types/#syntax).\n",
        "\n",
        "In QMOD this generalization is available as a native statement - control.\n",
        "\n",
        "See also [control](https://docs.classiq.io/latest/user-guide/platform/qmod/language-reference/statements/quantum-operators/).\n",
        "\n",
        "1. Declare a `QNum` output argument using `Output[QNum]` and name it `x`.\n",
        "2. Use the `prepare_int` function to initialize it to `9`. Note that you don't need to specify the `QNum` attributes - size, sign, and fraction digits, as they are inferred at the point of initialization.\n",
        "3. Execute the circuit and observe the results.\n",
        "4. Declare another output argument of type `QBit` and perform a `control` such that under the condition that `x` is 9, the qubit is flipped. Execute the circuit and observe the results. Repeat for a different condition."
      ]
    },
    {
      "cell_type": "code",
      "execution_count": 48,
      "metadata": {
        "id": "JwI3Nca3VIKo",
        "colab": {
          "base_uri": "https://localhost:8080/"
        },
        "outputId": "3bb07849-47ca-4f6c-e263-a82315c314bc"
      },
      "outputs": [
        {
          "output_type": "stream",
          "name": "stdout",
          "text": [
            "Opening: https://platform.classiq.io/circuit/1e4645b1-6c11-47a2-b956-f779d34b17b3?version=0.41.2\n"
          ]
        }
      ],
      "source": [
        "from classiq import *\n",
        "\n",
        "@qfunc\n",
        "def main(x: Output[QNum], target: Output[QBit]) -> None:\n",
        "    prepare_int(9, x)\n",
        "    allocate(1, target)\n",
        "    control(x == 9, lambda: X(target))\n",
        "\n",
        "qmod = create_model(main)\n",
        "qprog = synthesize(qmod)\n",
        "show(qprog)"
      ]
    }
  ],
  "metadata": {
    "kernelspec": {
      "display_name": "Python 3 (ipykernel)",
      "language": "python",
      "name": "python3"
    },
    "language_info": {
      "codemirror_mode": {
        "name": "ipython",
        "version": 3
      },
      "file_extension": ".py",
      "mimetype": "text/x-python",
      "name": "python",
      "nbconvert_exporter": "python",
      "pygments_lexer": "ipython3",
      "version": "3.11.8"
    },
    "colab": {
      "provenance": []
    }
  },
  "nbformat": 4,
  "nbformat_minor": 0
}