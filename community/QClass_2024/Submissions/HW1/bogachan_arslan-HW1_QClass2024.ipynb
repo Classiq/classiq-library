{
 "cells": [
  {
   "cell_type": "markdown",
   "metadata": {},
   "source": [
    "# The Qmod Workshop - Introduction\n",
    "\n",
    "The Classiq platform features a high-level quantum modeling language called Qmod. Qmod is compiled into concrete gate-level implementation using a powerful synthesis engine that optimizes and adapts the implementation to different target hardware/simulation environments.\n",
    "\n",
    "In this workshop, we will learn how to write quantum models using Qmod. We will be using the Python embedding of Qmod, available as part of the Classiq Python SDK. We will learn basic concepts in the Qmod language, such as functions, operators, quantum variables, and quantum types. We will develop useful building blocks and small algorithms.\n",
    "\n",
    "The [QMOD language reference](https://docs.classiq.io/latest/user-guide/platform/qmod/language-reference/) covers these concepts more systematically and includes more examples.\n",
    "\n",
    "This workshop consists of step-by-step exercises. It is structured as follows:\n",
    "\n",
    "- Part 1: Language Fundamentals - Exercises 1-5\n",
    "- Part 2: Higher-Level Concepts - Exercises 6-10\n",
    "- Part 3: Execution Flows - Exercises 11, 12\n",
    "\n",
    "The introduction and Part 1 are included in this notebook. Part 2 and 3 are each in its own separate notebook. For each exercise you will find the solution to the exercises at the bottom of the same notebook.\n",
    "\n",
    "### Preparations\n",
    "\n",
    "Make sure you have a Python version of 3.8 through 3.11 installed. Unfortunately, Classiq is not yet supported with Python 3.12.\n",
    "\n",
    "Install Classiq’s Python SDK by following the instructions on this page: [Getting Started - Classiq](https://docs.classiq.io/latest/getting-started/).\n",
    "\n",
    "### Python Qmod Exercises - General Instructions\n",
    "\n",
    "In order to synthesize and execute your Qmod code, you should:\n",
    "1. Make sure you define a `main` function that calls functions you create.\n",
    "2. Use `create_model` by running `qmod = create_model(main)` to construct a representation of your model.\n",
    "3. You can synthesize the model (using `qprog = synthesize(qmod)`) to obtain an implementation - a quantum program.\n",
    "4. You can then visualize the quantum program (`show(qprog)`) or execute it (using `execute(qprog)`. See: [Execution - Classiq](https://docs.classiq.io/latest/user-guide/platform/executor/#full-example)). You can also execute it with the IDE after visualizing the circuit.\n"
   ]
  },
  {
   "cell_type": "markdown",
   "metadata": {},
   "source": [
    "### Exercise 0: From Model to Execution\n",
    "\n",
    "The following model defines a function that applies X and H gates on a single qubit, and subsequently calls it:"
   ]
  },
  {
   "cell_type": "code",
   "execution_count": 1,
   "metadata": {
    "ExecuteTime": {
     "end_time": "2024-05-25T11:39:01.817661Z",
     "start_time": "2024-05-25T11:38:50.988114Z"
    }
   },
   "outputs": [],
   "source": [
    "from classiq import *\n",
    "\n",
    "\n",
    "# Define a quantum function using the @qfunc decorator\n",
    "@qfunc\n",
    "def foo(q: QBit) -> None:\n",
    "    X(target=q)\n",
    "    H(target=q)\n",
    "\n",
    "\n",
    "# Define a main function\n",
    "@qfunc\n",
    "def main(res: Output[QBit]) -> None:\n",
    "    allocate(1, res)\n",
    "    foo(q=res)"
   ]
  },
  {
   "cell_type": "markdown",
   "metadata": {},
   "source": [
    "Create a model from it, and synthesize, visualize, and execute it.\n",
    "\n",
    "Use the General Instructions above to do so.\n"
   ]
  },
  {
   "cell_type": "code",
   "outputs": [
    {
     "name": "stdout",
     "output_type": "stream",
     "text": [
      "Opening: https://platform.classiq.io/circuit/39024066-9bdb-489e-a665-680c62496521?version=0.41.2\n"
     ]
    }
   ],
   "source": [
    "from classiq import *\n",
    "\n",
    "# Your code here:\n",
    "qmod = create_model(main)\n",
    "qprog = synthesize(qmod)\n",
    "show(qprog)"
   ],
   "metadata": {
    "collapsed": false,
    "ExecuteTime": {
     "end_time": "2024-05-23T22:55:17.157290Z",
     "start_time": "2024-05-23T22:55:11.291099Z"
    }
   },
   "execution_count": 3
  },
  {
   "cell_type": "code",
   "outputs": [],
   "source": [
    "job = execute(qprog)"
   ],
   "metadata": {
    "collapsed": false,
    "ExecuteTime": {
     "end_time": "2024-05-23T22:55:26.725205Z",
     "start_time": "2024-05-23T22:55:24.939847Z"
    }
   },
   "execution_count": 5
  },
  {
   "cell_type": "code",
   "outputs": [
    {
     "name": "stdout",
     "output_type": "stream",
     "text": [
      "{'res': 0.0}\n",
      "{'res': 1.0}\n"
     ]
    }
   ],
   "source": [
    "def print_parsed_counts(job):\n",
    "    results = job.result()\n",
    "    parsed_counts = results[0].value.parsed_counts\n",
    "    for parsed_state in parsed_counts: print(parsed_state.state)\n",
    "    \n",
    "print_parsed_counts(job)"
   ],
   "metadata": {
    "collapsed": false,
    "ExecuteTime": {
     "end_time": "2024-05-23T22:55:29.311139Z",
     "start_time": "2024-05-23T22:55:27.819933Z"
    }
   },
   "execution_count": 6
  },
  {
   "cell_type": "markdown",
   "metadata": {},
   "source": [
    "In Qmod `QBit` is the simplest quantum type, and in this example, `q` is a quantum variable of type `QBit`. Quantum variables abstract away the mapping of quantum objects to qubits in the actual circuit.\n",
    "\n",
    "See also [Quantum Variables](https://docs.classiq.io/latest/user-guide/platform/qmod/language-reference/quantum-variables/).\n",
    "\n",
    "We will discuss other quantum types during the workshop.\n"
   ]
  },
  {
   "cell_type": "markdown",
   "metadata": {},
   "source": [
    "# The Qmod Workshop - Part 1: Language Fundamentals\n",
    "\n",
    "Follow exercises 1 through 5 for the first session of the workshop."
   ]
  },
  {
   "cell_type": "markdown",
   "metadata": {},
   "source": [
    "## Exercise 1 - Bell Pair\n",
    "\n",
    "Create a function that takes two single-qubit (`QBit`) quantum arguments and prepares the bell state on them ([Bell state](https://en.wikipedia.org/wiki/Bell_state)) by applying `H` on one variable and then using it as the control of a `CX` function with the second variable as the target.\n",
    "Create a main function that uses this function and has two single-qubit outputs, initialize them to the |0> state (using the `allocate` function), and apply your function to them.\n",
    "\n",
    "See also [Functions](https://docs.classiq.io/latest/user-guide/platform/qmod/language-reference/functions#syntax)\n"
   ]
  },
  {
   "cell_type": "code",
   "execution_count": 8,
   "metadata": {
    "ExecuteTime": {
     "end_time": "2024-05-23T23:02:41.433382Z",
     "start_time": "2024-05-23T23:02:36.907429Z"
    }
   },
   "outputs": [
    {
     "name": "stdout",
     "output_type": "stream",
     "text": [
      "Opening: https://platform.classiq.io/circuit/0d413ae1-0115-45da-84f8-2db0808e758b?version=0.41.2\n"
     ]
    }
   ],
   "source": [
    "from classiq import *\n",
    "\n",
    "# Your code here:\n",
    "@qfunc\n",
    "def prepare_bell_pair(q1: QBit, q2: QBit):\n",
    "    H(q1)\n",
    "    CX(q1,q2)\n",
    "    \n",
    "@qfunc\n",
    "def main(q1: Output[QBit], q2: Output[QBit]):\n",
    "    allocate(1, q1)\n",
    "    allocate(1, q2)\n",
    "    prepare_bell_pair(q1, q2)\n",
    "\n",
    "qmod = create_model(main)\n",
    "qprog = synthesize(qmod)\n",
    "show(qprog)"
   ]
  },
  {
   "cell_type": "markdown",
   "metadata": {},
   "source": [
    "Use qubit array subscript (the syntax - _variable_ **[** _index-expression_ **]**) to change the function from subsection 1 to receive a single quantum variable, a qubit array (`QArray`) of size 2.\n",
    "Change your main function to declare a single output (also an array of size 2).\n"
   ]
  },
  {
   "cell_type": "code",
   "execution_count": 9,
   "metadata": {
    "ExecuteTime": {
     "end_time": "2024-05-23T23:04:23.367303Z",
     "start_time": "2024-05-23T23:04:19.700134Z"
    }
   },
   "outputs": [
    {
     "name": "stdout",
     "output_type": "stream",
     "text": [
      "Opening: https://platform.classiq.io/circuit/ec6113d1-459e-4ee5-afa8-f242f4afcf10?version=0.41.2\n"
     ]
    }
   ],
   "source": [
    "from classiq import *\n",
    "\n",
    "# Your code here:\n",
    "@qfunc\n",
    "def prepare_bell_pair_from_array(q: QArray[QBit]):\n",
    "    H(q[0])\n",
    "    CX(q[0],q[1])\n",
    "\n",
    "qmod = create_model(main)\n",
    "qprog = synthesize(qmod)\n",
    "show(qprog)"
   ]
  },
  {
   "cell_type": "markdown",
   "metadata": {},
   "source": [
    "## Exercise 2 - Repeat\n",
    "\n",
    "Use the built-in `repeat` operator to create your own Hadamard transform function (call it `my_hadamard_transform`). The Hadamard transform function is a function that takes as argument a qubit array of an unspecified size and applies `H` to each of its qubit.\n",
    "\n",
    "See also [Classical repeat](https://docs.classiq.io/latest/user-guide/platform/qmod/language-reference/statements/classical-control-flow/#classical-repeat).\n",
    "\n",
    "Set your main function to have a quantum array output of unspecified size, allocate 10 qubits, and then apply your Hadamard transform function.\n"
   ]
  },
  {
   "cell_type": "code",
   "execution_count": 11,
   "metadata": {
    "ExecuteTime": {
     "end_time": "2024-05-23T23:07:15.376743Z",
     "start_time": "2024-05-23T23:07:11.675863Z"
    }
   },
   "outputs": [
    {
     "name": "stdout",
     "output_type": "stream",
     "text": [
      "Opening: https://platform.classiq.io/circuit/448239b0-18e3-4102-a80d-38a8d319071c?version=0.41.2\n"
     ]
    }
   ],
   "source": [
    "from classiq import *\n",
    "\n",
    "# Your code here:\n",
    "@qfunc\n",
    "def my_hadamard_transform(q: QArray[QBit]):\n",
    "    repeat(q.len, lambda i: H(q[i]))\n",
    "\n",
    "@qfunc\n",
    "def main(x: Output[QArray[QBit]]):\n",
    "    allocate(10, x)\n",
    "    my_hadamard_transform(x)\n",
    "\n",
    "qmod = create_model(main)\n",
    "qprog = synthesize(qmod)\n",
    "show(qprog)"
   ]
  },
  {
   "cell_type": "markdown",
   "metadata": {},
   "source": [
    "### Note: Quantum Variable Capture\n",
    "The `repeat` operator invokes a statement block multiple times. The statement block is specified using a Python callable, typically a lambda expression. Inside the block you can refer to variables declared in the outer function scope.\n",
    "This concept is called `quantum variable capture`, equivalent to [capture](https://en.wikipedia.org/wiki/Closure_(computer_programming)) in classical languages.\n",
    "\n",
    "See also [Capturing context variables and parameters](https://docs.classiq.io/latest/user-guide/platform/qmod/language-reference/operators/#capturing-context-variables-and-parameters)."
   ]
  },
  {
   "cell_type": "markdown",
   "metadata": {},
   "source": [
    "### Exercise 3 - Power\n",
    "Raising a quantum operation to a power appears in many known algorithms, for examples, in Grover search and Quantum Phase Estimation.\n",
    "For most operations, it simply means repeating the same circuit multiple times.\n",
    "\n",
    "Sometimes, however, power can be simplified, thus saving computational resources.\n",
    "The most trivial example is a quantum operation expressed as a single explicit unitary matrix (i.e., all n*n matrix terms are given) -  raising the operation can be done by raising the matrix to that power via classical programming.\n",
    "\n",
    "See also [Power operator](https://docs.classiq.io/latest/user-guide/platform/qmod/language-reference/statements/quantum-operators/#syntax).\n",
    "\n",
    "Use the following code to generate a 2-qubit (real) unitary matrix:"
   ]
  },
  {
   "cell_type": "code",
   "execution_count": 5,
   "metadata": {
    "ExecuteTime": {
     "end_time": "2024-05-25T12:21:19.223456Z",
     "start_time": "2024-05-25T12:21:19.202293Z"
    }
   },
   "outputs": [
    {
     "name": "stdout",
     "output_type": "stream",
     "text": [
      "unitary_matrix\n"
     ]
    }
   ],
   "source": [
    "from typing import List\n",
    "\n",
    "import numpy as np\n",
    "\n",
    "from classiq import *\n",
    "\n",
    "rng = np.random.default_rng(seed=0)\n",
    "random_matrix = rng.random((4, 4))\n",
    "qr_unitary, _ = np.linalg.qr(random_matrix)\n",
    "\n",
    "unitary_matrix = QConstant(\"unitary_matrix\", List[List[float]], qr_unitary.tolist())\n",
    "print(unitary_matrix)"
   ]
  },
  {
   "cell_type": "markdown",
   "metadata": {},
   "source": [
    "In order to reuse some classical value we can define a `QConstant` to store that value.\n",
    "\n",
    "1. Create a model that applies `unitary_matrix` on a 2 qubit variable.\n",
    "2. Create another model that applies `unitary_matrix` raised to power 3 on a 2 qubit variable.\n",
    "3. Compare the gate count via the Classiq’s IDE in both cases.\n",
    "\n",
    "Note - the signature of function `unitary` is:"
   ]
  },
  {
   "cell_type": "code",
   "execution_count": null,
   "metadata": {},
   "outputs": [],
   "source": [
    "def unitary(\n",
    "    elements: CArray[CArray[CReal]],\n",
    "    target: QArray[QBit],\n",
    ") -> None:\n",
    "    pass"
   ]
  },
  {
   "cell_type": "code",
   "execution_count": 6,
   "metadata": {
    "ExecuteTime": {
     "end_time": "2024-05-25T12:27:11.227515Z",
     "start_time": "2024-05-25T12:27:01.271328Z"
    }
   },
   "outputs": [
    {
     "name": "stdout",
     "output_type": "stream",
     "text": [
      "Opening: https://platform.classiq.io/circuit/a506852e-1a62-4726-bd93-e394ea1e404f?version=0.41.2\n"
     ]
    }
   ],
   "source": [
    "from classiq import *\n",
    "\n",
    "# Your code here:\n",
    "@qfunc\n",
    "def apply_unitary(q: QArray[QBit]):\n",
    "    unitary(unitary_matrix, q)\n",
    "    \n",
    "@qfunc\n",
    "def apply_unitary_power3(q: QArray[QBit]):\n",
    "    power(3, lambda: apply_unitary(q))\n",
    "    \n",
    "@qfunc\n",
    "def main(q: Output[QArray[QBit]]):\n",
    "    allocate(2, q)\n",
    "    apply_unitary(q)\n",
    "\n",
    "qmod = create_model(main)\n",
    "qprog = synthesize(qmod)\n",
    "show(qprog)"
   ]
  },
  {
   "cell_type": "code",
   "outputs": [
    {
     "name": "stdout",
     "output_type": "stream",
     "text": [
      "Opening: https://platform.classiq.io/circuit/ecbe5b9b-41fb-4c78-8e71-96a32104c3da?version=0.41.2\n"
     ]
    }
   ],
   "source": [
    "@qfunc\n",
    "def main(q: Output[QArray[QBit]]):\n",
    "    allocate(2, q)\n",
    "    apply_unitary_power3(q)\n",
    "    \n",
    "qmod = create_model(main)\n",
    "qprog = synthesize(qmod)\n",
    "show(qprog)"
   ],
   "metadata": {
    "collapsed": false,
    "ExecuteTime": {
     "end_time": "2024-05-25T12:27:24.668041Z",
     "start_time": "2024-05-25T12:27:20.889459Z"
    }
   },
   "execution_count": 7
  },
  {
   "cell_type": "markdown",
   "metadata": {},
   "source": [
    "## Exercise 4 - User-defined Operators\n",
    "Create a function that applies a given single-qubit operation to all qubits in its quantum argument (Call your function `my_apply_to_all`). Such a function is also called an operator, i.e. a function that one of its arguments is another function (its operand).\n",
    "\n",
    "See also [Operators](https://docs.classiq.io/latest/user-guide/platform/qmod/language-reference/operators/).\n",
    "\n",
    "Follow these guidelines:\n",
    "1. Your function should declare a quantum argument of type qubit array. It should also declare an argument of a function type with a single qubit argument.\n",
    "2. The body should apply the operand to all qubits in the argument.\n",
    "\n",
    "When you're done, re-implement `my_hadamard_transform` from exercise 2 using this function instead of `repeat`.\n",
    "Use the same main function from exercise 2."
   ]
  },
  {
   "cell_type": "code",
   "execution_count": 11,
   "metadata": {
    "ExecuteTime": {
     "end_time": "2024-05-25T12:47:55.601431Z",
     "start_time": "2024-05-25T12:47:51.614390Z"
    }
   },
   "outputs": [
    {
     "name": "stdout",
     "output_type": "stream",
     "text": [
      "Opening: https://platform.classiq.io/circuit/34de8e2c-e56d-4bd2-8d8c-a7497349f00a?version=0.41.2\n"
     ]
    }
   ],
   "source": [
    "from classiq import *\n",
    "\n",
    "# Your code here:\n",
    "@qfunc\n",
    "def my_apply_to_all(q: QArray[QBit], op: QCallable[QBit]):\n",
    "    repeat(q.len, lambda i: op(q[i]))\n",
    "    \n",
    "@qfunc\n",
    "def my_hadamard_transform(q: QArray[QBit]):\n",
    "    my_apply_to_all(q, lambda i: H(i))\n",
    "\n",
    "@qfunc\n",
    "def main(x: Output[QArray[QBit]]):\n",
    "    allocate(10, x)\n",
    "    my_hadamard_transform(x)\n",
    "\n",
    "qmod = create_model(main)\n",
    "qprog = synthesize(qmod)\n",
    "show(qprog)"
   ]
  },
  {
   "cell_type": "markdown",
   "metadata": {},
   "source": [
    "# Exercise 5 -  Quantum Conditionals\n",
    "\n",
    "### Exercise 5a - Control Operator\n",
    "Use the built-in `control` operator to create a function that receives two single qubit variables and uses one of the variables to control an RY gate with a `pi/2` angle acting on the other variable (without using the `CRY` function).\n",
    "\n",
    "See also [Quantum operators](https://docs.classiq.io/latest/user-guide/platform/qmod/language-reference/statements/quantum-operators/#syntax).\n"
   ]
  },
  {
   "cell_type": "code",
   "execution_count": 15,
   "metadata": {
    "ExecuteTime": {
     "end_time": "2024-05-25T12:54:10.188974Z",
     "start_time": "2024-05-25T12:54:06.492070Z"
    }
   },
   "outputs": [
    {
     "name": "stdout",
     "output_type": "stream",
     "text": [
      "Opening: https://platform.classiq.io/circuit/35569097-265b-4d9c-ac94-00fd16c8d2e9?version=0.41.2\n"
     ]
    }
   ],
   "source": [
    "import math\n",
    "from classiq import *\n",
    "\n",
    "# Your code here:\n",
    "@qfunc\n",
    "def main(q1: Output[QBit], q2: Output[QBit]):\n",
    "    allocate(1, q1)\n",
    "    allocate(1, q2)\n",
    "    control(q1, lambda: RY(math.pi/2, q2))\n",
    "\n",
    "qmod = create_model(main)\n",
    "qprog = synthesize(qmod)\n",
    "show(qprog)"
   ]
  },
  {
   "cell_type": "markdown",
   "metadata": {},
   "source": [
    "### Exercise 5b - Control (\"Quantum If\")\n",
    "The `control` operator is the conditional application of some operation, with the condition being that all control qubits are in the state |1>. This notion is generalized in QMOD to other control states, where the condition is specified as a comparison between a quantum numeric variable and a numeric value, similar to a classical `if` statement. Quantum numeric variables are declared with class `QNum`.\n",
    "\n",
    "See also [Numeric types](https://docs.classiq.io/latest/user-guide/platform/qmod/language-reference/quantum-types/#syntax).\n",
    "\n",
    "In QMOD this generalization is available as a native statement - control.\n",
    "\n",
    "See also [control](https://docs.classiq.io/latest/user-guide/platform/qmod/language-reference/statements/quantum-operators/).\n",
    "\n",
    "1. Declare a `QNum` output argument using `Output[QNum]` and name it `x`.\n",
    "2. Use the `prepare_int` function to initialize it to `9`. Note that you don't need to specify the `QNum` attributes - size, sign, and fraction digits, as they are inferred at the point of initialization.\n",
    "3. Execute the circuit and observe the results.\n",
    "4. Declare another output argument of type `QBit` and perform a `control` such that under the condition that `x` is 9, the qubit is flipped. Execute the circuit and observe the results. Repeat for a different condition."
   ]
  },
  {
   "cell_type": "code",
   "execution_count": 16,
   "metadata": {
    "ExecuteTime": {
     "end_time": "2024-05-25T12:59:47.390348Z",
     "start_time": "2024-05-25T12:59:43.704796Z"
    }
   },
   "outputs": [
    {
     "name": "stdout",
     "output_type": "stream",
     "text": [
      "Opening: https://platform.classiq.io/circuit/c8958143-bd4a-4ea2-8056-4f6b4d319de5?version=0.41.2\n"
     ]
    }
   ],
   "source": [
    "from classiq import *\n",
    "\n",
    "# Your code here:\n",
    "@qfunc \n",
    "def main(x: Output[QNum], q: Output[QBit]):\n",
    "    prepare_int(9, x)\n",
    "    allocate(1, q)\n",
    "    control(x == 9, lambda: X(q))\n",
    "\n",
    "qmod = create_model(main)\n",
    "qprog = synthesize(qmod)\n",
    "show(qprog)"
   ]
  }
 ],
 "metadata": {
  "kernelspec": {
   "display_name": "Python 3 (ipykernel)",
   "language": "python",
   "name": "python3"
  },
  "language_info": {
   "codemirror_mode": {
    "name": "ipython",
    "version": 3
   },
   "file_extension": ".py",
   "mimetype": "text/x-python",
   "name": "python",
   "nbconvert_exporter": "python",
   "pygments_lexer": "ipython3",
   "version": "3.9.7"
  }
 },
 "nbformat": 4,
 "nbformat_minor": 4
}
