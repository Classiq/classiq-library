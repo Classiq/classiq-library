{
 "cells": [
  {
   "cell_type": "markdown",
   "metadata": {
    "id": "XtC66r2Y5_eT",
    "tags": []
   },
   "source": [
    "# The Qmod Workshop - Introduction\n",
    "\n",
    "The Classiq platform features a high-level quantum modeling language called Qmod. Qmod is compiled into concrete gate-level implementation using a powerful synthesis engine that optimizes and adapts the implementation to different target hardware/simulation environments.\n",
    "\n",
    "In this workshop, we will learn how to write quantum models using Qmod. We will be using the Python embedding of Qmod, available as part of the Classiq Python SDK. We will learn basic concepts in the Qmod language, such as functions, operators, quantum variables, and quantum types. We will develop useful building blocks and small algorithms.\n",
    "\n",
    "The QMOD language reference(docs.classiq.io/latest/user-guide/platform/qmod/language-reference/) covers these concepts more systematically and includes more examples.\n",
    "\n",
    "This workshop consists of step-by-step exercises. It is structured as follows:\n",
    "\n",
    "- Part 1: Language Fundamentals - Exercises 1-5\n",
    "- Part 2: Higher-Level Concepts - Exercises 6-10\n",
    "- Part 3: Execution Flows - Exercises 11, 12\n",
    "\n",
    "The introduction and Part 1 are included in this notebook. Part 2 and 3 are each in its own separate notebook. For each exercise you will find the solution to the exercises at the bottom of the same notebook.\n",
    "\n",
    "### Preparations\n",
    "\n",
    "Make sure you have a Python version of 3.8 through 3.11 installed. Unfortunately, Classiq is not yet supported with Python 3.12.\n",
    "\n",
    "Install Classiq’s Python SDK by following the instructions on this page: Getting Started - Classiq(docs.classiq.io/latest/getting-started/).\n",
    "\n",
    "### Python Qmod Exercises - General Instructions\n",
    "\n",
    "In order to synthesize and execute your Qmod code, you should:\n",
    "1. Make sure you define a `main` function that calls functions you create.\n",
    "2. Use `create_model` by running `qmod = create_model(main)` to construct a representation of your model.\n",
    "3. You can synthesize the model (using `qprog = synthesize(qmod)`) to obtain an implementation - a quantum program.\n",
    "4. You can then visualize the quantum program (`show(qprog)`) or execute it (using `execute(qprog)`. See: Execution - Classiq(docs.classiq.io/latest/user-guide/platform/executor/#full-example)). You can also execute it with the IDE after visualizing the circuit.\n"
   ]
  },
  {
   "cell_type": "markdown",
   "metadata": {
    "id": "RatBmdhm5_e2"
   },
   "source": [
    "### Exercise 0: From Model to Execution\n",
    "\n",
    "The following model defines a function that applies X and H gates on a single qubit, and subsequently calls it:"
   ]
  },
  {
   "cell_type": "code",
   "execution_count": null,
   "metadata": {
    "colab": {
     "base_uri": "https://localhost:8080/",
     "height": 0
    },
    "id": "156317w1BFqw",
    "outputId": "2bf3654e-05de-4dd1-f7cb-08c9b1d49011",
    "tags": []
   },
   "outputs": [],
   "source": [
    "!pip install -U -q classiq"
   ]
  },
  {
   "cell_type": "code",
   "execution_count": null,
   "metadata": {
    "colab": {
     "base_uri": "https://localhost:8080/",
     "height": 0
    },
    "id": "EaDN5EkVC58C",
    "outputId": "c2446774-718c-4d7c-eb0b-e8e1f676d27d",
    "tags": []
   },
   "outputs": [],
   "source": [
    "import classiq\n",
    "classiq.authenticate()"
   ]
  },
  {
   "cell_type": "code",
   "execution_count": null,
   "metadata": {
    "id": "DpF2vKUh5_e7",
    "tags": []
   },
   "outputs": [],
   "source": [
    "from classiq import *\n",
    "\n",
    "\n",
    "# Define a quantum function using the @qfunc decorator\n",
    "@qfunc\n",
    "def qfn(q: QBit) -> None:\n",
    "    X(target=q)\n",
    "    H(target=q)\n",
    "\n",
    "\n",
    "# Define a main function\n",
    "@qfunc\n",
    "def main(res: Output[QBit]) -> None:\n",
    "    allocate(1, res)\n",
    "    qfn(q=res)"
   ]
  },
  {
   "cell_type": "markdown",
   "metadata": {
    "id": "NXh4E69A5_fC"
   },
   "source": [
    "Create a model from it, and synthesize, visualize, and execute it.\n",
    "\n",
    "Use the General Instructions above to do so.\n"
   ]
  },
  {
   "cell_type": "code",
   "execution_count": null,
   "metadata": {
    "colab": {
     "base_uri": "https://localhost:8080/",
     "height": 0
    },
    "id": "UB612BIP5_fE",
    "outputId": "6658d861-fccb-4acb-8bf2-1b52dee5b6c4",
    "tags": []
   },
   "outputs": [],
   "source": [
    "from classiq import *\n",
    "\n",
    "# Your code here:\n",
    "qmod = create_model(main)\n",
    "qprog = synthesize(qmod)\n",
    "show(qprog)\n",
    "execute(qprog)"
   ]
  },
  {
   "cell_type": "markdown",
   "metadata": {
    "id": "s3CXWd3V5_fF"
   },
   "source": [
    "In Qmod `QBit` is the simplest quantum type, and in this example, `q` is a quantum variable of type `QBit`. Quantum variables abstract away the mapping of quantum objects to qubits in the actual circuit.\n",
    "\n",
    "See also Quantum Variables(docs.classiq.io/latest/user-guide/platform/qmod/language-reference/quantum-variables/).\n",
    "\n",
    "We will discuss other quantum types during the workshop.\n"
   ]
  },
  {
   "cell_type": "markdown",
   "metadata": {
    "id": "wtQE208K5_fH"
   },
   "source": [
    "# The Qmod Workshop - Part 1: Language Fundamentals\n",
    "\n",
    "Follow exercises 1 through 5 for the first session of the workshop."
   ]
  },
  {
   "cell_type": "markdown",
   "metadata": {
    "id": "8jM3lrC15_fI"
   },
   "source": [
    "## Exercise 1 - Bell Pair\n",
    "\n",
    "Create a function that takes two single-qubit (`QBit`) quantum arguments and prepares the bell state on them (Bell state(en.wikipedia.org/wiki/Bell_state)) by applying `H` on one variable and then using it as the control of a `CX` function with the second variable as the target.\n",
    "Create a main function that uses this function and has two single-qubit outputs, initialize them to the |0> state (using the `allocate` function), and apply your function to them.\n",
    "\n",
    "See also Functions(docs.classiq.io/latest/user-guide/platform/qmod/language-reference/functions#syntax)\n"
   ]
  },
  {
   "cell_type": "code",
   "execution_count": null,
   "metadata": {
    "colab": {
     "base_uri": "https://localhost:8080/",
     "height": 0
    },
    "id": "fNOTP83I5_fJ",
    "outputId": "4c0a03a2-6f67-4c15-957e-261b56f1ad91",
    "tags": []
   },
   "outputs": [],
   "source": [
    "from classiq import *\n",
    "# Define a quantum function using the @qfunc decorator\n",
    "@qfunc\n",
    "def bell(q1: QBit, q2: QBit) -> None:\n",
    "    H(target=q1)\n",
    "    CX(control=q1,target=q2)\n",
    "\n",
    "# Define a main function\n",
    "@qfunc\n",
    "def main(res1: Output[QBit], res2: Output[QBit]) -> None:\n",
    "    allocate(1, res1)\n",
    "    allocate(1, res2)\n",
    "    bell(q1=res1,q2=res2)\n",
    "\n",
    "# Your code here:\n",
    "qmod = create_model(main)\n",
    "qprog = synthesize(qmod)\n",
    "show(qprog)\n",
    "execute(qprog)"
   ]
  },
  {
   "cell_type": "markdown",
   "metadata": {
    "id": "AY_kkbyi5_fM"
   },
   "source": [
    "Use qubit array subscript (the syntax - _variable_ **[** _index-expression_ **]**) to change the function from subsection 1 to receive a single quantum variable, a qubit array (`QArray`) of size 2.\n",
    "Change your main function to declare a single output (also an array of size 2).\n"
   ]
  },
  {
   "cell_type": "code",
   "execution_count": null,
   "metadata": {
    "colab": {
     "base_uri": "https://localhost:8080/",
     "height": 0
    },
    "id": "Y-c9r6OT5_fO",
    "outputId": "8a2a41c7-bcee-4765-8906-4b7026bf3b71",
    "tags": []
   },
   "outputs": [],
   "source": [
    "from classiq import *\n",
    "\n",
    "# Your code here:\n",
    "# Define a quantum function using the @qfunc decorator\n",
    "@qfunc\n",
    "def bell(q: QArray) -> None:\n",
    "    H(target=q[0])\n",
    "    CX(control=q[0],target=q[1])\n",
    "\n",
    "# Define a main function\n",
    "@qfunc\n",
    "def main(res: Output[QArray]) -> None:\n",
    "    allocate(2, res)\n",
    "    bell(res)\n",
    "\n",
    "qmod = create_model(main)\n",
    "qprog = synthesize(qmod)\n",
    "show(qprog)\n",
    "execute(qprog)"
   ]
  },
  {
   "cell_type": "markdown",
   "metadata": {
    "id": "SoXeCLcX5_fQ"
   },
   "source": [
    "## Exercise 2 - Repeat\n",
    "\n",
    "Use the built-in `repeat` operator to create your own Hadamard transform function (call it `my_hadamard_transform`). The Hadamard transform function is a function that takes as argument a qubit array of an unspecified size and applies `H` to each of its qubit.\n",
    "\n",
    "See also Classical repeat(docs.classiq.io/latest/user-guide/platform/qmod/language-reference/statements/classical-control-flow/#classical-repeat).\n",
    "\n",
    "Set your main function to have a quantum array output of unspecified size, allocate 10 qubits, and then apply your Hadamard transform function.\n"
   ]
  },
  {
   "cell_type": "code",
   "execution_count": null,
   "metadata": {
    "colab": {
     "base_uri": "https://localhost:8080/",
     "height": 0
    },
    "id": "vFrcPTqi5_fS",
    "outputId": "48c6573f-ba4d-4c47-b65f-dd2204818e8e",
    "tags": []
   },
   "outputs": [],
   "source": [
    "from classiq import *\n",
    "\n",
    "# Your code here:\n",
    "@qfunc\n",
    "def my_hadamard(q: QArray) -> None:\n",
    "    repeat(count=q.len, iteration=lambda i: H(target=q[i]))\n",
    "\n",
    "# Define a main function\n",
    "@qfunc\n",
    "def main(res: Output[QArray]) -> None:\n",
    "    allocate(10, res)\n",
    "    my_hadamard(res)\n",
    "\n",
    "\n",
    "qmod = create_model(main)\n",
    "qprog = synthesize(qmod)\n",
    "show(qprog)\n",
    "execute(qprog)"
   ]
  },
  {
   "cell_type": "markdown",
   "metadata": {
    "id": "98liCUg15_fT"
   },
   "source": [
    "### Note: Quantum Variable Capture\n",
    "The `repeat` operator invokes a statement block multiple times. The statement block is specified using a Python callable, typically a lambda expression. Inside the block you can refer to variables declared in the outer function scope.\n",
    "This concept is called `quantum variable capture`, equivalent to capture(en.wikipedia.org/wiki/Closure_(computer_programming)) in classical languages.\n",
    "\n",
    "See also Capturing context variables and parameters(docs.classiq.io/latest/user-guide/platform/qmod/language-reference/operators/#capturing-context-variables-and-parameters)."
   ]
  },
  {
   "cell_type": "markdown",
   "metadata": {
    "id": "fonXAiHP5_fU"
   },
   "source": [
    "### Exercise 3 - Power\n",
    "Raising a quantum operation to a power appears in many known algorithms, for examples, in Grover search and Quantum Phase Estimation.\n",
    "For most operations, it simply means repeating the same circuit multiple times.\n",
    "\n",
    "Sometimes, however, power can be simplified, thus saving computational resources.\n",
    "The most trivial example is a quantum operation expressed as a single explicit unitary matrix (i.e., all n*n matrix terms are given) -  raising the operation can be done by raising the matrix to that power via classical programming.\n",
    "\n",
    "See also Power operator(docs.classiq.io/latest/user-guide/platform/qmod/language-reference/statements/quantum-operators/#syntax).\n",
    "\n",
    "Use the following code to generate a 2-qubit (real) unitary matrix:"
   ]
  },
  {
   "cell_type": "code",
   "execution_count": null,
   "metadata": {
    "id": "tD_aBHoU5_fW",
    "tags": []
   },
   "outputs": [],
   "source": [
    "from typing import List\n",
    "\n",
    "import numpy as np\n",
    "\n",
    "from classiq import *\n",
    "\n",
    "rng = np.random.default_rng(seed=0)\n",
    "random_matrix = rng.random((4, 4))\n",
    "qr_unitary, _ = np.linalg.qr(random_matrix)\n",
    "\n",
    "unitary_matrix = QConstant(\"unitary_matrix\", List[List[float]], qr_unitary.tolist())"
   ]
  },
  {
   "cell_type": "markdown",
   "metadata": {
    "id": "yRWVHm1O5_fY"
   },
   "source": [
    "In order to reuse some classical value we can define a `QConstant` to store that value.\n",
    "\n",
    "1. Create a model that applies `unitary_matrix` on a 2 qubit variable.\n",
    "2. Create another model that applies `unitary_matrix` raised to power 3 on a 2 qubit variable.\n",
    "3. Compare the gate count via the Classiq’s IDE in both cases.\n",
    "\n",
    "Note - the signature of function `unitary` is:"
   ]
  },
  {
   "cell_type": "code",
   "execution_count": null,
   "metadata": {
    "id": "bTtPgsj75_fZ",
    "tags": []
   },
   "outputs": [],
   "source": [
    "def unitary(\n",
    "    elements: CArray[CArray[CReal]],\n",
    "    target: QArray[QBit],\n",
    ") -> None:\n",
    "    pass"
   ]
  },
  {
   "cell_type": "code",
   "execution_count": null,
   "metadata": {
    "colab": {
     "base_uri": "https://localhost:8080/",
     "height": 0
    },
    "id": "6Js8fNbl5_fa",
    "outputId": "4d13cc20-3b3f-45b8-93fb-b353ab8cbea0",
    "tags": []
   },
   "outputs": [],
   "source": [
    "from classiq import *\n",
    "\n",
    "# Your code here:\n",
    "rng = np.random.default_rng(seed=0)\n",
    "random_matrix = rng.random((4, 4))\n",
    "qr_unitary, _ = np.linalg.qr(random_matrix)\n",
    "\n",
    "unitary_matrix = QConstant(\"unitary_matrix\", List[List[float]], qr_unitary.tolist())\n",
    "\n",
    "\n",
    "@qfunc\n",
    "def main(q: Output[QArray[QBit]]) -> None:\n",
    "    allocate(2, q)\n",
    "    power(3, lambda: unitary(unitary_matrix, q))\n",
    "\n",
    "qmod = create_model(main)\n",
    "qprog = synthesize(qmod)\n",
    "show(qprog)\n",
    "execute(qprog)"
   ]
  },
  {
   "cell_type": "markdown",
   "metadata": {
    "id": "P-jP3v9O5_fb"
   },
   "source": [
    "## Exercise 4 - User-defined Operators\n",
    "Create a function that applies a given single-qubit operation to all qubits in its quantum argument (Call your function `my_apply_to_all`). Such a function is also called an operator, i.e. a function that one of its arguments is another function (its operand).\n",
    "\n",
    "See also Operators(docs.classiq.io/latest/user-guide/platform/qmod/language-reference/operators/).\n",
    "\n",
    "Follow these guidelines:\n",
    "1. Your function should declare a quantum argument of type qubit array. It should also declare an argument of a function type with a single qubit argument.\n",
    "2. The body should apply the operand to all qubits in the argument.\n",
    "\n",
    "When you're done, re-implement `my_hadamard_transform` from exercise 2 using this function instead of `repeat`.\n",
    "Use the same main function from exercise 2."
   ]
  },
  {
   "cell_type": "code",
   "execution_count": null,
   "metadata": {
    "colab": {
     "base_uri": "https://localhost:8080/",
     "height": 0
    },
    "id": "vvMbP91D5_fc",
    "outputId": "18fca5c9-3b26-4683-98c7-c17f27de698a",
    "tags": []
   },
   "outputs": [],
   "source": [
    "from classiq import *\n",
    "\n",
    "# Your code here:\n",
    "\n",
    "@qfunc\n",
    "def my_apply_to_all(operand: QCallable[QBit], q: QArray[QBit]) -> None:\n",
    "    repeat(q.len, lambda i: operand(q[i]))\n",
    "\n",
    "@qfunc\n",
    "def my_hadamard(q: QArray[QBit]) -> None:\n",
    "    my_apply_to_all(lambda t: H(t), q)\n",
    "\n",
    "# Define a main function\n",
    "@qfunc\n",
    "def main(q: Output[QArray[QBit]]) -> None:\n",
    "    allocate(10, q)\n",
    "    my_hadamard(q)\n",
    "\n",
    "\n",
    "qmod = create_model(main)\n",
    "qprog = synthesize(qmod)\n",
    "show(qprog)\n",
    "execute(qprog)"
   ]
  },
  {
   "cell_type": "markdown",
   "metadata": {
    "id": "gh690ZGT5_fe"
   },
   "source": [
    "# Exercise 5 -  Quantum Conditionals\n",
    "\n",
    "### Exercise 5a - Control Operator\n",
    "Use the built-in `control` operator to create a function that receives two single qubit variables and uses one of the variables to control an RY gate with a `pi/2` angle acting on the other variable (without using the `CRY` function).\n",
    "\n",
    "See also Quantum operators(docs.classiq.io/latest/user-guide/platform/qmod/language-reference/statements/quantum-operators/#syntax).\n"
   ]
  },
  {
   "cell_type": "code",
   "execution_count": null,
   "metadata": {
    "colab": {
     "base_uri": "https://localhost:8080/",
     "height": 0
    },
    "id": "00trO6SJ5_ff",
    "outputId": "b022f930-40a5-436c-b3af-0a4e4e5d21d7",
    "tags": []
   },
   "outputs": [],
   "source": [
    "from classiq import *\n",
    "\n",
    "# Your code here:\n",
    "from classiq.qmod.symbolic import pi\n",
    "\n",
    "\n",
    "@qfunc\n",
    "def my_controlled_ry(control_bit: QBit, target: QBit) -> None:\n",
    "    control(control_bit, lambda: RY(pi / 2, target))\n",
    "\n",
    "\n",
    "@qfunc\n",
    "def main(control_bit: Output[QBit], target: Output[QBit]) -> None:\n",
    "    allocate(1, control_bit)\n",
    "    allocate(1, target)\n",
    "    my_controlled_ry(control_bit, target)\n",
    "\n",
    "qmod = create_model(main)\n",
    "qprog = synthesize(qmod)\n",
    "show(qprog)\n",
    "execute(qprog)"
   ]
  },
  {
   "cell_type": "markdown",
   "metadata": {
    "id": "GJ9y7jlY5_fh"
   },
   "source": [
    "### Exercise 5b - Control (\"Quantum If\")\n",
    "The `control` operator is the conditional application of some operation, with the condition being that all control qubits are in the state |1>. This notion is generalized in QMOD to other control states, where the condition is specified as a comparison between a quantum numeric variable and a numeric value, similar to a classical `if` statement. Quantum numeric variables are declared with class `QNum`.\n",
    "\n",
    "See also Numeric types(docs.classiq.io/latest/user-guide/platform/qmod/language-reference/quantum-types/#syntax).\n",
    "\n",
    "In QMOD this generalization is available as a native statement - control.\n",
    "\n",
    "See also control(docs.classiq.io/latest/user-guide/platform/qmod/language-reference/statements/quantum-operators/).\n",
    "\n",
    "1. Declare a `QNum` output argument using `Output[QNum]` and name it `x`.\n",
    "2. Use the `prepare_int` function to initialize it to `9`. Note that you don't need to specify the `QNum` attributes - size, sign, and fraction digits, as they are inferred at the point of initialization.\n",
    "3. Execute the circuit and observe the results.\n",
    "4. Declare another output argument of type `QBit` and perform a `control` such that under the condition that `x` is 9, the qubit is flipped. Execute the circuit and observe the results. Repeat for a different condition."
   ]
  },
  {
   "cell_type": "code",
   "execution_count": null,
   "metadata": {
    "colab": {
     "base_uri": "https://localhost:8080/"
    },
    "id": "IohNdRCA5_fi",
    "outputId": "c3d53156-d530-48b8-e31b-80990b06e66d",
    "tags": []
   },
   "outputs": [],
   "source": [
    "from classiq import *\n",
    "\n",
    "# Your code here:\n",
    "@qfunc\n",
    "def main(x: Output[QNum], target: Output[QBit]) -> None:\n",
    "    prepare_int(9, x)\n",
    "    allocate(1, target)\n",
    "    control(x == 9, lambda: X(target))\n",
    "\n",
    "\n",
    "qmod = create_model(main)\n",
    "qprog = synthesize(qmod)\n",
    "show(qprog)"
   ]
  }
 ],
 "metadata": {
  "colab": {
   "provenance": []
  },
  "kernelspec": {
   "display_name": "Python 3 [Default]",
   "language": "python",
   "name": "python3"
  },
  "language_info": {
   "codemirror_mode": {
    "name": "ipython",
    "version": 3
   },
   "file_extension": ".py",
   "mimetype": "text/x-python",
   "name": "python",
   "nbconvert_exporter": "python",
   "pygments_lexer": "ipython3",
   "version": "3.11.9"
  }
 },
 "nbformat": 4,
 "nbformat_minor": 4
}
