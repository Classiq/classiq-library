{
  "cells": [
    {
      "cell_type": "markdown",
      "metadata": {
        "id": "DKf6e1_ZUIAA"
      },
      "source": [
        "# The Qmod Workshop - Introduction\n",
        "\n",
        "The Classiq platform features a high-level quantum modeling language called Qmod. Qmod is compiled into concrete gate-level implementation using a powerful synthesis engine that optimizes and adapts the implementation to different target hardware/simulation environments.\n",
        "\n",
        "In this workshop, we will learn how to write quantum models using Qmod. We will be using the Python embedding of Qmod, available as part of the Classiq Python SDK. We will learn basic concepts in the Qmod language, such as functions, operators, quantum variables, and quantum types. We will develop useful building blocks and small algorithms.\n",
        "\n",
        "The [QMOD language reference](https://docs.classiq.io/latest/user-guide/platform/qmod/language-reference/) covers these concepts more systematically and includes more examples.\n",
        "\n",
        "This workshop consists of step-by-step exercises. It is structured as follows:\n",
        "\n",
        "- Part 1: Language Fundamentals - Exercises 1-5\n",
        "- Part 2: Higher-Level Concepts - Exercises 6-10\n",
        "- Part 3: Execution Flows - Exercises 11, 12\n",
        "\n",
        "The introduction and Part 1 are included in this notebook. Part 2 and 3 are each in its own separate notebook. For each exercise you will find the solution to the exercises at the bottom of the same notebook.\n",
        "\n",
        "### Preparations\n",
        "\n",
        "Make sure you have a Python version of 3.8 through 3.11 installed. Unfortunately, Classiq is not yet supported with Python 3.12.\n",
        "\n",
        "Install Classiq’s Python SDK by following the instructions on this page: [Getting Started - Classiq](https://docs.classiq.io/latest/getting-started/).\n",
        "\n",
        "### Python Qmod Exercises - General Instructions\n",
        "\n",
        "In order to synthesize and execute your Qmod code, you should:\n",
        "1. Make sure you define a `main` function that calls functions you create.\n",
        "2. Use `create_model` by running `qmod = create_model(main)` to construct a representation of your model.\n",
        "3. You can synthesize the model (using `qprog = synthesize(qmod)`) to obtain an implementation - a quantum program.\n",
        "4. You can then visualize the quantum program (`show(qprog)`) or execute it (using `execute(qprog)`. See: [Execution - Classiq](https://docs.classiq.io/latest/user-guide/platform/executor/#full-example)). You can also execute it with the IDE after visualizing the circuit.\n"
      ]
    },
    {
      "cell_type": "markdown",
      "source": [
        "#Doing Preparation"
      ],
      "metadata": {
        "id": "7gEFb8v0XzOz"
      }
    },
    {
      "cell_type": "code",
      "source": [
        "# Installing Classiq\n",
        "!pip install -U classiq"
      ],
      "metadata": {
        "colab": {
          "base_uri": "https://localhost:8080/"
        },
        "collapsed": true,
        "id": "pSMVUYAhXoel",
        "outputId": "53331c66-6cd2-4650-d6d9-fc22e1caf509"
      },
      "execution_count": 1,
      "outputs": [
        {
          "output_type": "stream",
          "name": "stdout",
          "text": [
            "Collecting classiq\n",
            "  Downloading classiq-0.41.1-py3-none-any.whl (398 kB)\n",
            "\u001b[2K     \u001b[90m━━━━━━━━━━━━━━━━━━━━━━━━━━━━━━━━━━━━━━━━\u001b[0m \u001b[32m398.1/398.1 kB\u001b[0m \u001b[31m5.2 MB/s\u001b[0m eta \u001b[36m0:00:00\u001b[0m\n",
            "\u001b[?25hCollecting ConfigArgParse<2.0.0,>=1.5.3 (from classiq)\n",
            "  Downloading ConfigArgParse-1.7-py3-none-any.whl (25 kB)\n",
            "Collecting Pyomo<6.6,>=6.5 (from classiq)\n",
            "  Downloading Pyomo-6.5.0-cp310-cp310-manylinux_2_17_x86_64.manylinux2014_x86_64.whl (10.7 MB)\n",
            "\u001b[2K     \u001b[90m━━━━━━━━━━━━━━━━━━━━━━━━━━━━━━━━━━━━━━━━\u001b[0m \u001b[32m10.7/10.7 MB\u001b[0m \u001b[31m4.2 MB/s\u001b[0m eta \u001b[36m0:00:00\u001b[0m\n",
            "\u001b[?25hCollecting black<25.0,>=24.0 (from classiq)\n",
            "  Downloading black-24.4.2-cp310-cp310-manylinux_2_17_x86_64.manylinux2014_x86_64.whl (1.8 MB)\n",
            "\u001b[2K     \u001b[90m━━━━━━━━━━━━━━━━━━━━━━━━━━━━━━━━━━━━━━━━\u001b[0m \u001b[32m1.8/1.8 MB\u001b[0m \u001b[31m47.0 MB/s\u001b[0m eta \u001b[36m0:00:00\u001b[0m\n",
            "\u001b[?25hCollecting httpx<1,>=0.23.0 (from classiq)\n",
            "  Downloading httpx-0.27.0-py3-none-any.whl (75 kB)\n",
            "\u001b[2K     \u001b[90m━━━━━━━━━━━━━━━━━━━━━━━━━━━━━━━━━━━━━━━━\u001b[0m \u001b[32m75.6/75.6 kB\u001b[0m \u001b[31m7.8 MB/s\u001b[0m eta \u001b[36m0:00:00\u001b[0m\n",
            "\u001b[?25hRequirement already satisfied: keyring<24.0.0,>=23.5.0 in /usr/lib/python3/dist-packages (from classiq) (23.5.0)\n",
            "Requirement already satisfied: matplotlib<4.0.0,>=3.4.3 in /usr/local/lib/python3.10/dist-packages (from classiq) (3.7.1)\n",
            "Collecting networkx<3.0.0,>=2.5.1 (from classiq)\n",
            "  Downloading networkx-2.8.8-py3-none-any.whl (2.0 MB)\n",
            "\u001b[2K     \u001b[90m━━━━━━━━━━━━━━━━━━━━━━━━━━━━━━━━━━━━━━━━\u001b[0m \u001b[32m2.0/2.0 MB\u001b[0m \u001b[31m54.0 MB/s\u001b[0m eta \u001b[36m0:00:00\u001b[0m\n",
            "\u001b[?25hRequirement already satisfied: numexpr<3.0.0,>=2.7.3 in /usr/local/lib/python3.10/dist-packages (from classiq) (2.10.0)\n",
            "Requirement already satisfied: numpy<2.0.0,>=1.20.1 in /usr/local/lib/python3.10/dist-packages (from classiq) (1.25.2)\n",
            "Collecting packaging<23.0,>=22.0 (from classiq)\n",
            "  Downloading packaging-22.0-py3-none-any.whl (42 kB)\n",
            "\u001b[2K     \u001b[90m━━━━━━━━━━━━━━━━━━━━━━━━━━━━━━━━━━━━━━━━\u001b[0m \u001b[32m42.6/42.6 kB\u001b[0m \u001b[31m2.9 MB/s\u001b[0m eta \u001b[36m0:00:00\u001b[0m\n",
            "\u001b[?25hRequirement already satisfied: pandas<3.0.0,>=1.4.0 in /usr/local/lib/python3.10/dist-packages (from classiq) (2.0.3)\n",
            "Requirement already satisfied: plotly<6.0.0,>=5.7.0 in /usr/local/lib/python3.10/dist-packages (from classiq) (5.15.0)\n",
            "Collecting pydantic<2.0.0,>=1.9.1 (from classiq)\n",
            "  Downloading pydantic-1.10.15-cp310-cp310-manylinux_2_17_x86_64.manylinux2014_x86_64.whl (3.1 MB)\n",
            "\u001b[2K     \u001b[90m━━━━━━━━━━━━━━━━━━━━━━━━━━━━━━━━━━━━━━━━\u001b[0m \u001b[32m3.1/3.1 MB\u001b[0m \u001b[31m49.7 MB/s\u001b[0m eta \u001b[36m0:00:00\u001b[0m\n",
            "\u001b[?25hRequirement already satisfied: scipy<2.0.0,>=1.10.1 in /usr/local/lib/python3.10/dist-packages (from classiq) (1.11.4)\n",
            "Collecting sympy<1.11.0,>=1.9.0 (from classiq)\n",
            "  Downloading sympy-1.10.1-py3-none-any.whl (6.4 MB)\n",
            "\u001b[2K     \u001b[90m━━━━━━━━━━━━━━━━━━━━━━━━━━━━━━━━━━━━━━━━\u001b[0m \u001b[32m6.4/6.4 MB\u001b[0m \u001b[31m64.5 MB/s\u001b[0m eta \u001b[36m0:00:00\u001b[0m\n",
            "\u001b[?25hRequirement already satisfied: tabulate<1,>=0.8.9 in /usr/local/lib/python3.10/dist-packages (from classiq) (0.9.0)\n",
            "Requirement already satisfied: click>=8.0.0 in /usr/local/lib/python3.10/dist-packages (from black<25.0,>=24.0->classiq) (8.1.7)\n",
            "Collecting mypy-extensions>=0.4.3 (from black<25.0,>=24.0->classiq)\n",
            "  Downloading mypy_extensions-1.0.0-py3-none-any.whl (4.7 kB)\n",
            "Collecting pathspec>=0.9.0 (from black<25.0,>=24.0->classiq)\n",
            "  Downloading pathspec-0.12.1-py3-none-any.whl (31 kB)\n",
            "Requirement already satisfied: platformdirs>=2 in /usr/local/lib/python3.10/dist-packages (from black<25.0,>=24.0->classiq) (4.2.1)\n",
            "Requirement already satisfied: tomli>=1.1.0 in /usr/local/lib/python3.10/dist-packages (from black<25.0,>=24.0->classiq) (2.0.1)\n",
            "Requirement already satisfied: typing-extensions>=4.0.1 in /usr/local/lib/python3.10/dist-packages (from black<25.0,>=24.0->classiq) (4.11.0)\n",
            "Requirement already satisfied: anyio in /usr/local/lib/python3.10/dist-packages (from httpx<1,>=0.23.0->classiq) (3.7.1)\n",
            "Requirement already satisfied: certifi in /usr/local/lib/python3.10/dist-packages (from httpx<1,>=0.23.0->classiq) (2024.2.2)\n",
            "Collecting httpcore==1.* (from httpx<1,>=0.23.0->classiq)\n",
            "  Downloading httpcore-1.0.5-py3-none-any.whl (77 kB)\n",
            "\u001b[2K     \u001b[90m━━━━━━━━━━━━━━━━━━━━━━━━━━━━━━━━━━━━━━━━\u001b[0m \u001b[32m77.9/77.9 kB\u001b[0m \u001b[31m8.2 MB/s\u001b[0m eta \u001b[36m0:00:00\u001b[0m\n",
            "\u001b[?25hRequirement already satisfied: idna in /usr/local/lib/python3.10/dist-packages (from httpx<1,>=0.23.0->classiq) (3.7)\n",
            "Requirement already satisfied: sniffio in /usr/local/lib/python3.10/dist-packages (from httpx<1,>=0.23.0->classiq) (1.3.1)\n",
            "Collecting h11<0.15,>=0.13 (from httpcore==1.*->httpx<1,>=0.23.0->classiq)\n",
            "  Downloading h11-0.14.0-py3-none-any.whl (58 kB)\n",
            "\u001b[2K     \u001b[90m━━━━━━━━━━━━━━━━━━━━━━━━━━━━━━━━━━━━━━━━\u001b[0m \u001b[32m58.3/58.3 kB\u001b[0m \u001b[31m6.3 MB/s\u001b[0m eta \u001b[36m0:00:00\u001b[0m\n",
            "\u001b[?25hRequirement already satisfied: contourpy>=1.0.1 in /usr/local/lib/python3.10/dist-packages (from matplotlib<4.0.0,>=3.4.3->classiq) (1.2.1)\n",
            "Requirement already satisfied: cycler>=0.10 in /usr/local/lib/python3.10/dist-packages (from matplotlib<4.0.0,>=3.4.3->classiq) (0.12.1)\n",
            "Requirement already satisfied: fonttools>=4.22.0 in /usr/local/lib/python3.10/dist-packages (from matplotlib<4.0.0,>=3.4.3->classiq) (4.51.0)\n",
            "Requirement already satisfied: kiwisolver>=1.0.1 in /usr/local/lib/python3.10/dist-packages (from matplotlib<4.0.0,>=3.4.3->classiq) (1.4.5)\n",
            "Requirement already satisfied: pillow>=6.2.0 in /usr/local/lib/python3.10/dist-packages (from matplotlib<4.0.0,>=3.4.3->classiq) (9.4.0)\n",
            "Requirement already satisfied: pyparsing>=2.3.1 in /usr/local/lib/python3.10/dist-packages (from matplotlib<4.0.0,>=3.4.3->classiq) (3.1.2)\n",
            "Requirement already satisfied: python-dateutil>=2.7 in /usr/local/lib/python3.10/dist-packages (from matplotlib<4.0.0,>=3.4.3->classiq) (2.8.2)\n",
            "Requirement already satisfied: pytz>=2020.1 in /usr/local/lib/python3.10/dist-packages (from pandas<3.0.0,>=1.4.0->classiq) (2023.4)\n",
            "Requirement already satisfied: tzdata>=2022.1 in /usr/local/lib/python3.10/dist-packages (from pandas<3.0.0,>=1.4.0->classiq) (2024.1)\n",
            "Requirement already satisfied: tenacity>=6.2.0 in /usr/local/lib/python3.10/dist-packages (from plotly<6.0.0,>=5.7.0->classiq) (8.3.0)\n",
            "Collecting ply (from Pyomo<6.6,>=6.5->classiq)\n",
            "  Downloading ply-3.11-py2.py3-none-any.whl (49 kB)\n",
            "\u001b[2K     \u001b[90m━━━━━━━━━━━━━━━━━━━━━━━━━━━━━━━━━━━━━━━━\u001b[0m \u001b[32m49.6/49.6 kB\u001b[0m \u001b[31m5.5 MB/s\u001b[0m eta \u001b[36m0:00:00\u001b[0m\n",
            "\u001b[?25hRequirement already satisfied: mpmath>=0.19 in /usr/local/lib/python3.10/dist-packages (from sympy<1.11.0,>=1.9.0->classiq) (1.3.0)\n",
            "Requirement already satisfied: six>=1.5 in /usr/local/lib/python3.10/dist-packages (from python-dateutil>=2.7->matplotlib<4.0.0,>=3.4.3->classiq) (1.16.0)\n",
            "Requirement already satisfied: exceptiongroup in /usr/local/lib/python3.10/dist-packages (from anyio->httpx<1,>=0.23.0->classiq) (1.2.1)\n",
            "Installing collected packages: ply, sympy, Pyomo, pydantic, pathspec, packaging, networkx, mypy-extensions, h11, ConfigArgParse, httpcore, black, httpx, classiq\n",
            "  Attempting uninstall: sympy\n",
            "    Found existing installation: sympy 1.12\n",
            "    Uninstalling sympy-1.12:\n",
            "      Successfully uninstalled sympy-1.12\n",
            "  Attempting uninstall: pydantic\n",
            "    Found existing installation: pydantic 2.7.1\n",
            "    Uninstalling pydantic-2.7.1:\n",
            "      Successfully uninstalled pydantic-2.7.1\n",
            "  Attempting uninstall: packaging\n",
            "    Found existing installation: packaging 24.0\n",
            "    Uninstalling packaging-24.0:\n",
            "      Successfully uninstalled packaging-24.0\n",
            "  Attempting uninstall: networkx\n",
            "    Found existing installation: networkx 3.3\n",
            "    Uninstalling networkx-3.3:\n",
            "      Successfully uninstalled networkx-3.3\n",
            "\u001b[31mERROR: pip's dependency resolver does not currently take into account all the packages that are installed. This behaviour is the source of the following dependency conflicts.\n",
            "torch 2.2.1+cu121 requires nvidia-cublas-cu12==12.1.3.1; platform_system == \"Linux\" and platform_machine == \"x86_64\", which is not installed.\n",
            "torch 2.2.1+cu121 requires nvidia-cuda-cupti-cu12==12.1.105; platform_system == \"Linux\" and platform_machine == \"x86_64\", which is not installed.\n",
            "torch 2.2.1+cu121 requires nvidia-cuda-nvrtc-cu12==12.1.105; platform_system == \"Linux\" and platform_machine == \"x86_64\", which is not installed.\n",
            "torch 2.2.1+cu121 requires nvidia-cuda-runtime-cu12==12.1.105; platform_system == \"Linux\" and platform_machine == \"x86_64\", which is not installed.\n",
            "torch 2.2.1+cu121 requires nvidia-cudnn-cu12==8.9.2.26; platform_system == \"Linux\" and platform_machine == \"x86_64\", which is not installed.\n",
            "torch 2.2.1+cu121 requires nvidia-cufft-cu12==11.0.2.54; platform_system == \"Linux\" and platform_machine == \"x86_64\", which is not installed.\n",
            "torch 2.2.1+cu121 requires nvidia-curand-cu12==10.3.2.106; platform_system == \"Linux\" and platform_machine == \"x86_64\", which is not installed.\n",
            "torch 2.2.1+cu121 requires nvidia-cusolver-cu12==11.4.5.107; platform_system == \"Linux\" and platform_machine == \"x86_64\", which is not installed.\n",
            "torch 2.2.1+cu121 requires nvidia-cusparse-cu12==12.1.0.106; platform_system == \"Linux\" and platform_machine == \"x86_64\", which is not installed.\n",
            "torch 2.2.1+cu121 requires nvidia-nccl-cu12==2.19.3; platform_system == \"Linux\" and platform_machine == \"x86_64\", which is not installed.\n",
            "torch 2.2.1+cu121 requires nvidia-nvtx-cu12==12.1.105; platform_system == \"Linux\" and platform_machine == \"x86_64\", which is not installed.\u001b[0m\u001b[31m\n",
            "\u001b[0mSuccessfully installed ConfigArgParse-1.7 Pyomo-6.5.0 black-24.4.2 classiq-0.41.1 h11-0.14.0 httpcore-1.0.5 httpx-0.27.0 mypy-extensions-1.0.0 networkx-2.8.8 packaging-22.0 pathspec-0.12.1 ply-3.11 pydantic-1.10.15 sympy-1.10.1\n"
          ]
        }
      ]
    },
    {
      "cell_type": "code",
      "source": [
        "# Authentication\n",
        "import classiq\n",
        "classiq.authenticate()"
      ],
      "metadata": {
        "colab": {
          "base_uri": "https://localhost:8080/"
        },
        "collapsed": true,
        "id": "K_fsJpP6YJEQ",
        "outputId": "31f3c6bf-2894-47e0-dae9-450e3fdc3b98"
      },
      "execution_count": 2,
      "outputs": [
        {
          "output_type": "stream",
          "name": "stdout",
          "text": [
            "Your user code: VWSR-RZCM\n",
            "If a browser doesn't automatically open, please visit this URL from any trusted device: https://auth.classiq.io/activate?user_code=VWSR-RZCM\n"
          ]
        }
      ]
    },
    {
      "cell_type": "markdown",
      "metadata": {
        "id": "iS9-C0N0UIAN"
      },
      "source": [
        "### Exercise 0: From Model to Execution\n",
        "\n",
        "The following model defines a function that applies X and H gates on a single qubit, and subsequently calls it:"
      ]
    },
    {
      "cell_type": "code",
      "execution_count": 3,
      "metadata": {
        "id": "uCj4T3_5UIAO"
      },
      "outputs": [],
      "source": [
        "from classiq import *\n",
        "\n",
        "\n",
        "# Define a quantum function using the @qfunc decorator\n",
        "@qfunc\n",
        "def foo(q: QBit) -> None:\n",
        "    X(target=q)\n",
        "    H(target=q)\n",
        "\n",
        "\n",
        "# Define a main function\n",
        "@qfunc\n",
        "def main(res: Output[QBit]) -> None:\n",
        "    allocate(1, res)\n",
        "    foo(q=res)"
      ]
    },
    {
      "cell_type": "markdown",
      "metadata": {
        "id": "l425FkQFUIAP"
      },
      "source": [
        "Create a model from it, and synthesize, visualize, and execute it.\n",
        "\n",
        "Use the General Instructions above to do so.\n"
      ]
    },
    {
      "cell_type": "code",
      "execution_count": 4,
      "metadata": {
        "id": "r63ehZ7jUIAP"
      },
      "outputs": [],
      "source": [
        "from classiq import *\n",
        "\n",
        "# Your code here:\n",
        "\n",
        "qmod = create_model(main) #create model\n",
        "qprog = synthesize(qmod) # synthesize\n",
        "\n",
        "# Your code here:"
      ]
    },
    {
      "cell_type": "code",
      "source": [
        "#Showing qprog\n",
        "show(qprog)"
      ],
      "metadata": {
        "colab": {
          "base_uri": "https://localhost:8080/"
        },
        "id": "IjP1y42PZIwG",
        "outputId": "5177236d-aab2-4375-ac76-b1fd5df8b9bd"
      },
      "execution_count": 5,
      "outputs": [
        {
          "output_type": "stream",
          "name": "stdout",
          "text": [
            "Opening: https://platform.classiq.io/circuit/27ea28a3-48ca-47d7-9f71-6437eddde65a?version=0.41.1\n"
          ]
        }
      ]
    },
    {
      "cell_type": "code",
      "source": [
        "#Executing qprog\n",
        "execute(qprog)"
      ],
      "metadata": {
        "colab": {
          "base_uri": "https://localhost:8080/"
        },
        "id": "1APokD46ZH07",
        "outputId": "bb1f540c-3c7f-46c0-91e5-3658c8d6c925"
      },
      "execution_count": 6,
      "outputs": [
        {
          "output_type": "execute_result",
          "data": {
            "text/plain": [
              "ExecutionJob(id='1d2e83bd-ca33-46fd-881f-616c53b727c2')"
            ]
          },
          "metadata": {},
          "execution_count": 6
        }
      ]
    },
    {
      "cell_type": "markdown",
      "metadata": {
        "id": "Ji-gPBDWUIAQ"
      },
      "source": [
        "In Qmod `QBit` is the simplest quantum type, and in this example, `q` is a quantum variable of type `QBit`. Quantum variables abstract away the mapping of quantum objects to qubits in the actual circuit.\n",
        "\n",
        "See also [Quantum Variables](https://docs.classiq.io/latest/user-guide/platform/qmod/language-reference/quantum-variables/).\n",
        "\n",
        "We will discuss other quantum types during the workshop.\n"
      ]
    },
    {
      "cell_type": "markdown",
      "metadata": {
        "id": "UxsyXx51UIAQ"
      },
      "source": [
        "# The Qmod Workshop - Part 1: Language Fundamentals\n",
        "\n",
        "Follow exercises 1 through 5 for the first session of the workshop."
      ]
    },
    {
      "cell_type": "markdown",
      "metadata": {
        "id": "ZdXAtO--UIAQ"
      },
      "source": [
        "## Exercise 1 - Bell Pair\n",
        "\n",
        "Create a function that takes two single-qubit (`QBit`) quantum arguments and prepares the bell state on them ([Bell state](https://en.wikipedia.org/wiki/Bell_state)) by applying `H` on one variable and then using it as the control of a `CX` function with the second variable as the target.\n",
        "Create a main function that uses this function and has two single-qubit outputs, initialize them to the |0> state (using the `allocate` function), and apply your function to them.\n",
        "\n",
        "See also [Functions](https://docs.classiq.io/latest/user-guide/platform/qmod/language-reference/functions#syntax)\n"
      ]
    },
    {
      "cell_type": "code",
      "execution_count": 8,
      "metadata": {
        "colab": {
          "base_uri": "https://localhost:8080/"
        },
        "id": "NE2JvAUGUIAQ",
        "outputId": "416cb601-1e28-46d4-fd77-aea6309dcccb"
      },
      "outputs": [
        {
          "output_type": "stream",
          "name": "stdout",
          "text": [
            "Opening: https://platform.classiq.io/circuit/467482a8-a688-4181-b128-a43468199000?version=0.41.1\n"
          ]
        }
      ],
      "source": [
        "from classiq import *\n",
        "\n",
        "# Your code here:\n",
        "\n",
        "@qfunc\n",
        "def Bell_state(q1:QBit,q2:QBit) -> None:\n",
        "  H(target=q1)\n",
        "  CX(control=q1,target=q2)\n",
        "\n",
        "@qfunc\n",
        "def main(res1: Output[QBit], res2: Output[QBit]) -> None:\n",
        "  allocate(1,res1)\n",
        "  allocate(1,res2)\n",
        "  Bell_state(q1=res1,q2=res2)\n",
        "\n",
        "# Your code here:\n",
        "\n",
        "qmod = create_model(main)\n",
        "qprog = synthesize(qmod)\n",
        "show(qprog)"
      ]
    },
    {
      "cell_type": "markdown",
      "metadata": {
        "id": "95gq6bMpUIAQ"
      },
      "source": [
        "Use qubit array subscript (the syntax - _variable_ **[** _index-expression_ **]**) to change the function from subsection 1 to receive a single quantum variable, a qubit array (`QArray`) of size 2.\n",
        "Change your main function to declare a single output (also an array of size 2).\n"
      ]
    },
    {
      "cell_type": "code",
      "execution_count": null,
      "metadata": {
        "id": "qBlWalvsUIAR"
      },
      "outputs": [],
      "source": [
        "from classiq import *\n",
        "\n",
        "# Your code here:\n",
        "\n",
        "@qfunc\n",
        "def Bell_state(q1:QBit,q2:QBit) -> None:\n",
        "  H(target=q1)\n",
        "  CX(control=q1,target=q2)\n",
        "\n",
        "@qfunc\n",
        "def main(res: Output[QArray]) -> None:\n",
        "  allocate(2,res)\n",
        "  Bell_state(q1=res[0],q2=res[1])\n",
        "\n",
        "# Your code here:\n",
        "\n",
        "qmod = create_model(main)\n",
        "qprog = synthesize(qmod)\n",
        "show(qprog)"
      ]
    },
    {
      "cell_type": "markdown",
      "metadata": {
        "id": "H_ny1mJjUIAR"
      },
      "source": [
        "## Exercise 2 - Repeat\n",
        "\n",
        "Use the built-in `repeat` operator to create your own Hadamard transform function (call it `my_hadamard_transform`). The Hadamard transform function is a function that takes as argument a qubit array of an unspecified size and applies `H` to each of its qubit.\n",
        "\n",
        "See also [Classical repeat](https://docs.classiq.io/latest/user-guide/platform/qmod/language-reference/statements/classical-control-flow/#classical-repeat).\n",
        "\n",
        "Set your main function to have a quantum array output of unspecified size, allocate 10 qubits, and then apply your Hadamard transform function.\n"
      ]
    },
    {
      "cell_type": "code",
      "execution_count": 12,
      "metadata": {
        "colab": {
          "base_uri": "https://localhost:8080/"
        },
        "id": "tUWSk1BrUIAR",
        "outputId": "523856c3-80cb-4c9c-ba8d-310465cb035a"
      },
      "outputs": [
        {
          "output_type": "stream",
          "name": "stdout",
          "text": [
            "Opening: https://platform.classiq.io/circuit/e91bf80b-36d7-4a42-9e07-97eb7d9623d2?version=0.41.1\n"
          ]
        }
      ],
      "source": [
        "from contextlib import redirect_stdout\n",
        "from classiq import *\n",
        "\n",
        "# Your code here:\n",
        "\n",
        "@qfunc\n",
        "def my_hadamard_transform(q:QArray[QBit]) -> None:\n",
        "   repeat(count=q.len, iteration=lambda i: H(q[i]))\n",
        "\n",
        "@qfunc\n",
        "def main(res: Output[QArray]) -> None:\n",
        "  allocate(10,res)\n",
        "  my_hadamard_transform(res)\n",
        "\n",
        "# Your code here:\n",
        "\n",
        "qmod = create_model(main)\n",
        "qprog = synthesize(qmod)\n",
        "show(qprog)"
      ]
    },
    {
      "cell_type": "markdown",
      "metadata": {
        "id": "b3UwtxUDUIAS"
      },
      "source": [
        "### Note: Quantum Variable Capture\n",
        "The `repeat` operator invokes a statement block multiple times. The statement block is specified using a Python callable, typically a lambda expression. Inside the block you can refer to variables declared in the outer function scope.\n",
        "This concept is called `quantum variable capture`, equivalent to [capture](https://en.wikipedia.org/wiki/Closure_(computer_programming)) in classical languages.\n",
        "\n",
        "See also [Capturing context variables and parameters](https://docs.classiq.io/latest/user-guide/platform/qmod/language-reference/operators/#capturing-context-variables-and-parameters)."
      ]
    },
    {
      "cell_type": "markdown",
      "metadata": {
        "id": "2HnRD0j8UIAS"
      },
      "source": [
        "### Exercise 3 - Power\n",
        "Raising a quantum operation to a power appears in many known algorithms, for examples, in Grover search and Quantum Phase Estimation.\n",
        "For most operations, it simply means repeating the same circuit multiple times.\n",
        "\n",
        "Sometimes, however, power can be simplified, thus saving computational resources.\n",
        "The most trivial example is a quantum operation expressed as a single explicit unitary matrix (i.e., all n*n matrix terms are given) -  raising the operation can be done by raising the matrix to that power via classical programming.\n",
        "\n",
        "See also [Power operator](https://docs.classiq.io/latest/user-guide/platform/qmod/language-reference/statements/quantum-operators/#syntax).\n",
        "\n",
        "Use the following code to generate a 2-qubit (real) unitary matrix:"
      ]
    },
    {
      "cell_type": "code",
      "execution_count": 13,
      "metadata": {
        "id": "lzr_tHedUIAS"
      },
      "outputs": [],
      "source": [
        "from typing import List\n",
        "\n",
        "import numpy as np\n",
        "\n",
        "from classiq import *\n",
        "\n",
        "rng = np.random.default_rng(seed=0)\n",
        "random_matrix = rng.random((4, 4))\n",
        "qr_unitary, _ = np.linalg.qr(random_matrix)\n",
        "\n",
        "unitary_matrix = QConstant(\"unitary_matrix\", List[List[float]], qr_unitary.tolist())"
      ]
    },
    {
      "cell_type": "markdown",
      "metadata": {
        "id": "qPY8ukKnUIAS"
      },
      "source": [
        "In order to reuse some classical value we can define a `QConstant` to store that value.\n",
        "\n",
        "1. Create a model that applies `unitary_matrix` on a 2 qubit variable.\n",
        "2. Create another model that applies `unitary_matrix` raised to power 3 on a 2 qubit variable.\n",
        "3. Compare the gate count via the Classiq’s IDE in both cases.\n",
        "\n",
        "Note - the signature of function `unitary` is:"
      ]
    },
    {
      "cell_type": "code",
      "execution_count": null,
      "metadata": {
        "id": "ty9AiSUrUIAT"
      },
      "outputs": [],
      "source": [
        "def unitary(\n",
        "    elements: CArray[CArray[CReal]],\n",
        "    target: QArray[QBit],\n",
        ") -> None:\n",
        "    pass"
      ]
    },
    {
      "cell_type": "code",
      "execution_count": 24,
      "metadata": {
        "colab": {
          "base_uri": "https://localhost:8080/"
        },
        "id": "df3xBcwFUIAT",
        "outputId": "a2f0e894-c76e-47f7-df66-9b8b8b37f0cb"
      },
      "outputs": [
        {
          "output_type": "stream",
          "name": "stdout",
          "text": [
            "Opening: https://platform.classiq.io/circuit/9c4221de-c4cf-49d1-8572-1153af9a1761?version=0.41.1\n"
          ]
        }
      ],
      "source": [
        "from classiq import *\n",
        "\n",
        "# Your code here:\n",
        "\n",
        "@qfunc\n",
        "def main(res: Output[QArray])-> None:\n",
        "    allocate(2,res)\n",
        "    unitary(unitary_matrix,res)\n",
        "\n",
        "# Your code here:\n",
        "\n",
        "qmod = create_model(main)\n",
        "qprog = synthesize(qmod)\n",
        "show(qprog)"
      ]
    },
    {
      "cell_type": "code",
      "source": [
        "from classiq import *\n",
        "\n",
        "# Your code here:\n",
        "\n",
        "@qfunc\n",
        "def main(res: Output[QArray])-> None:\n",
        "    allocate(2,res)\n",
        "    power(3, lambda: unitary(unitary_matrix,res))\n",
        "\n",
        "# Your code here:\n",
        "\n",
        "qmod = create_model(main)\n",
        "qprog = synthesize(qmod)\n",
        "show(qprog)"
      ],
      "metadata": {
        "colab": {
          "base_uri": "https://localhost:8080/"
        },
        "id": "DsCfdAC6wxAM",
        "outputId": "2f73a5c9-aaa1-4064-8dd9-6e62a6e3c599"
      },
      "execution_count": 25,
      "outputs": [
        {
          "output_type": "stream",
          "name": "stdout",
          "text": [
            "Opening: https://platform.classiq.io/circuit/a735ee5a-a67d-4bb4-8c15-89d78ec6dad4?version=0.41.1\n"
          ]
        }
      ]
    },
    {
      "cell_type": "markdown",
      "metadata": {
        "id": "e47tQi4dUIAT"
      },
      "source": [
        "## Exercise 4 - User-defined Operators\n",
        "Create a function that applies a given single-qubit operation to all qubits in its quantum argument (Call your function `my_apply_to_all`). Such a function is also called an operator, i.e. a function that one of its arguments is another function (its operand).\n",
        "\n",
        "See also [Operators](https://docs.classiq.io/latest/user-guide/platform/qmod/language-reference/operators/).\n",
        "\n",
        "Follow these guidelines:\n",
        "1. Your function should declare a quantum argument of type qubit array. It should also declare an argument of a function type with a single qubit argument.\n",
        "2. The body should apply the operand to all qubits in the argument.\n",
        "\n",
        "When you're done, re-implement `my_hadamard_transform` from exercise 2 using this function instead of `repeat`.\n",
        "Use the same main function from exercise 2."
      ]
    },
    {
      "cell_type": "code",
      "execution_count": 38,
      "metadata": {
        "colab": {
          "base_uri": "https://localhost:8080/"
        },
        "id": "7XYXkHZdUIAT",
        "outputId": "57aaf2a4-bc8a-4359-bb1f-0f32e40bcc7a"
      },
      "outputs": [
        {
          "output_type": "stream",
          "name": "stdout",
          "text": [
            "Opening: https://platform.classiq.io/circuit/dc6b610a-8e92-419f-84f8-712f92632741?version=0.41.1\n"
          ]
        }
      ],
      "source": [
        "from classiq import *\n",
        "\n",
        "# Your code here:\n",
        "\n",
        "@qfunc\n",
        "def my_apply_to_all(my_operand: QCallable[QArray], q: QArray[QBit]) -> None:\n",
        "  repeat(count=q.len, iteration=lambda i: my_operand(q[i]))\n",
        "\n",
        "\n",
        "@qfunc\n",
        "def my_hadamard_transform(q:QArray[QBit]) -> None:\n",
        "  my_apply_to_all(lambda target:H(target), q)\n",
        "\n",
        "\n",
        "@qfunc\n",
        "def main(res: Output[QArray[QBit]]) -> None:\n",
        "  allocate(10,res)\n",
        "  my_hadamard_transform(res)\n",
        "\n",
        "# Your code here:\n",
        "\n",
        "qmod = create_model(main)\n",
        "qprog = synthesize(qmod)\n",
        "show(qprog)"
      ]
    },
    {
      "cell_type": "markdown",
      "metadata": {
        "id": "PE0uAVlLUIAU"
      },
      "source": [
        "# Exercise 5 -  Quantum Conditionals\n",
        "\n",
        "### Exercise 5a - Control Operator\n",
        "Use the built-in `control` operator to create a function that receives two single qubit variables and uses one of the variables to control an RY gate with a `pi/2` angle acting on the other variable (without using the `CRY` function).\n",
        "\n",
        "See also [Quantum operators](https://docs.classiq.io/latest/user-guide/platform/qmod/language-reference/statements/quantum-operators/#syntax).\n"
      ]
    },
    {
      "cell_type": "code",
      "execution_count": 39,
      "metadata": {
        "colab": {
          "base_uri": "https://localhost:8080/"
        },
        "id": "5l4wbdnnUIAU",
        "outputId": "ab24e9cb-a67e-4479-bfac-39d6c40de874"
      },
      "outputs": [
        {
          "output_type": "stream",
          "name": "stdout",
          "text": [
            "Opening: https://platform.classiq.io/circuit/de67872d-0653-45b3-86b8-6c3d1a28b39d?version=0.41.1\n"
          ]
        }
      ],
      "source": [
        "from classiq import *\n",
        "from classiq.qmod.symbolic import pi\n",
        "\n",
        "# Your code here:\n",
        "\n",
        "@qfunc\n",
        "def my_control(q1:QBit,q2:QBit)->None:\n",
        "  control(ctrl=q1, operand = lambda : RY(pi/2,q2))\n",
        "\n",
        "\n",
        "qmod = create_model(main)\n",
        "qprog = synthesize(qmod)\n",
        "show(qprog)"
      ]
    },
    {
      "cell_type": "markdown",
      "metadata": {
        "id": "CEW8jLigUIAU"
      },
      "source": [
        "### Exercise 5b - Control (\"Quantum If\")\n",
        "The `control` operator is the conditional application of some operation, with the condition being that all control qubits are in the state |1>. This notion is generalized in QMOD to other control states, where the condition is specified as a comparison between a quantum numeric variable and a numeric value, similar to a classical `if` statement. Quantum numeric variables are declared with class `QNum`.\n",
        "\n",
        "See also [Numeric types](https://docs.classiq.io/latest/user-guide/platform/qmod/language-reference/quantum-types/#syntax).\n",
        "\n",
        "In QMOD this generalization is available as a native statement - control.\n",
        "\n",
        "See also [control](https://docs.classiq.io/latest/user-guide/platform/qmod/language-reference/statements/quantum-operators/).\n",
        "\n",
        "1. Declare a `QNum` output argument using `Output[QNum]` and name it `x`.\n",
        "2. Use the `prepare_int` function to initialize it to `9`. Note that you don't need to specify the `QNum` attributes - size, sign, and fraction digits, as they are inferred at the point of initialization.\n",
        "3. Execute the circuit and observe the results.\n",
        "4. Declare another output argument of type `QBit` and perform a `control` such that under the condition that `x` is 9, the qubit is flipped. Execute the circuit and observe the results. Repeat for a different condition."
      ]
    },
    {
      "cell_type": "code",
      "execution_count": 40,
      "metadata": {
        "colab": {
          "base_uri": "https://localhost:8080/"
        },
        "id": "PyVSkOLAUIAU",
        "outputId": "c34263f4-aadb-4ef9-a645-95eeff3c3c67"
      },
      "outputs": [
        {
          "output_type": "stream",
          "name": "stdout",
          "text": [
            "Opening: https://platform.classiq.io/circuit/779990c7-be0d-4ece-aba3-4ca0dbff8fe3?version=0.41.1\n"
          ]
        }
      ],
      "source": [
        "from classiq import *\n",
        "\n",
        "# Your code here:\n",
        "\n",
        "@qfunc\n",
        "def main(x:Output[QNum])-> None:\n",
        "  prepare_int(9,x)\n",
        "\n",
        "# Your code here:\n",
        "\n",
        "qmod = create_model(main)\n",
        "qprog = synthesize(qmod)\n",
        "show(qprog)"
      ]
    },
    {
      "cell_type": "code",
      "source": [
        "from classiq import *\n",
        "\n",
        "# Your code here:\n",
        "\n",
        "@qfunc\n",
        "def main(x:Output[QNum],q:Output[QBit])-> None:\n",
        "  allocate(1,q)\n",
        "  prepare_int(9,x)\n",
        "  control(x==9, operand = lambda : X(q))\n",
        "\n",
        "# Your code here:\n",
        "\n",
        "qmod = create_model(main)\n",
        "qprog = synthesize(qmod)\n",
        "show(qprog)"
      ],
      "metadata": {
        "colab": {
          "base_uri": "https://localhost:8080/"
        },
        "id": "J7-kLb3xHDAl",
        "outputId": "43927942-86ac-42e8-9796-cf83a7167af9"
      },
      "execution_count": 43,
      "outputs": [
        {
          "output_type": "stream",
          "name": "stdout",
          "text": [
            "Opening: https://platform.classiq.io/circuit/faaef311-6cfd-4e78-af48-e0428a984d5b?version=0.41.1\n"
          ]
        }
      ]
    }
  ],
  "metadata": {
    "kernelspec": {
      "display_name": "Python 3 (ipykernel)",
      "language": "python",
      "name": "python3"
    },
    "language_info": {
      "codemirror_mode": {
        "name": "ipython",
        "version": 3
      },
      "file_extension": ".py",
      "mimetype": "text/x-python",
      "name": "python",
      "nbconvert_exporter": "python",
      "pygments_lexer": "ipython3",
      "version": "3.11.8"
    },
    "colab": {
      "provenance": []
    }
  },
  "nbformat": 4,
  "nbformat_minor": 0
}