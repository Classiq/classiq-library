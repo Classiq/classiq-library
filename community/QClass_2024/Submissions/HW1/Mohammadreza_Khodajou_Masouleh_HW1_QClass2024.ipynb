{
 "cells": [
  {
   "cell_type": "markdown",
   "metadata": {
    "id": "ckhMWJn90wEB"
   },
   "source": [
    "# The Qmod Workshop - Introduction\n",
    "\n",
    "The Classiq platform features a high-level quantum modeling language called Qmod. Qmod is compiled into concrete gate-level implementation using a powerful synthesis engine that optimizes and adapts the implementation to different target hardware/simulation environments.\n",
    "\n",
    "In this workshop, we will learn how to write quantum models using Qmod. We will be using the Python embedding of Qmod, available as part of the Classiq Python SDK. We will learn basic concepts in the Qmod language, such as functions, operators, quantum variables, and quantum types. We will develop useful building blocks and small algorithms.\n",
    "\n",
    "The [QMOD language reference](https://docs.classiq.io/latest/user-guide/platform/qmod/language-reference/) covers these concepts more systematically and includes more examples.\n",
    "\n",
    "This workshop consists of step-by-step exercises. It is structured as follows:\n",
    "\n",
    "- Part 1: Language Fundamentals - Exercises 1-5\n",
    "- Part 2: Higher-Level Concepts - Exercises 6-10\n",
    "- Part 3: Execution Flows - Exercises 11, 12\n",
    "\n",
    "The introduction and Part 1 are included in this notebook. Part 2 and 3 are each in its own separate notebook. For each exercise you will find the solution to the exercises at the bottom of the same notebook.\n",
    "\n",
    "### Preparations\n",
    "\n",
    "Make sure you have a Python version of 3.8 through 3.11 installed. Unfortunately, Classiq is not yet supported with Python 3.12.\n",
    "\n",
    "Install Classiq’s Python SDK by following the instructions on this page: [Getting Started - Classiq](https://docs.classiq.io/latest/getting-started/).\n",
    "\n",
    "### Python Qmod Exercises - General Instructions\n",
    "\n",
    "In order to synthesize and execute your Qmod code, you should:\n",
    "1. Make sure you define a `main` function that calls functions you create.\n",
    "2. Use `create_model` by running `qmod = create_model(main)` to construct a representation of your model.\n",
    "3. You can synthesize the model (using `qprog = synthesize(qmod)`) to obtain an implementation - a quantum program.\n",
    "4. You can then visualize the quantum program (`show(qprog)`) or execute it (using `execute(qprog)`. See: [Execution - Classiq](https://docs.classiq.io/latest/user-guide/platform/executor/#full-example)). You can also execute it with the IDE after visualizing the circuit.\n"
   ]
  },
  {
   "cell_type": "markdown",
   "metadata": {
    "id": "IWd8zoX-0wEE"
   },
   "source": [
    "### Exercise 0: From Model to Execution\n",
    "\n",
    "The following model defines a function that applies X and H gates on a single qubit, and subsequently calls it:"
   ]
  },
  {
   "cell_type": "code",
   "execution_count": null,
   "metadata": {
    "colab": {
     "base_uri": "https://localhost:8080/"
    },
    "id": "_UzsjZMb0wEE",
    "outputId": "a485b5a3-4242-4e05-8f9e-2f866ad24b5e"
   },
   "outputs": [],
   "source": [
    "!pip install -U classiq\n",
    "from classiq import *\n"
   ]
  },
  {
   "cell_type": "code",
   "execution_count": null,
   "metadata": {
    "colab": {
     "base_uri": "https://localhost:8080/"
    },
    "id": "zIIMO62iyDY_",
    "outputId": "80056978-2429-4eee-c04a-7b764f1d78b1"
   },
   "outputs": [],
   "source": [
    "import classiq\n",
    "classiq.authenticate()"
   ]
  },
  {
   "cell_type": "code",
   "execution_count": null,
   "metadata": {
    "id": "7n_A16T41iXt"
   },
   "outputs": [],
   "source": [
    "# Define a quantum function using the @qfunc decorator\n",
    "@qfunc\n",
    "def foo(q: QBit) -> None:\n",
    "    X(target=q)\n",
    "    H(target=q)\n",
    "\n",
    "\n",
    "# Define a main function\n",
    "@qfunc\n",
    "def main(res: Output[QBit]) -> None:\n",
    "    allocate(1, res)\n",
    "    foo(q=res)"
   ]
  },
  {
   "cell_type": "markdown",
   "metadata": {
    "id": "vkkCkeRB0wEG"
   },
   "source": [
    "Create a model from it, and synthesize, visualize, and execute it.\n",
    "\n",
    "Use the General Instructions above to do so.\n"
   ]
  },
  {
   "cell_type": "code",
   "execution_count": null,
   "metadata": {
    "id": "Awk7gzYF0wEG"
   },
   "outputs": [],
   "source": [
    "from classiq import *\n",
    "\n",
    "qmod = create_model(main)\n",
    "qprog = synthesize(qmod)"
   ]
  },
  {
   "cell_type": "code",
   "execution_count": null,
   "metadata": {
    "colab": {
     "base_uri": "https://localhost:8080/"
    },
    "id": "QqRkfb9D2ufu",
    "outputId": "712351cd-ec70-4ea0-cc90-fd2f3841a91c"
   },
   "outputs": [],
   "source": [
    "show(qprog)\n",
    "execute(qprog)"
   ]
  },
  {
   "cell_type": "markdown",
   "metadata": {
    "id": "XwMZAsyu0wEH"
   },
   "source": [
    "In Qmod `QBit` is the simplest quantum type, and in this example, `q` is a quantum variable of type `QBit`. Quantum variables abstract away the mapping of quantum objects to qubits in the actual circuit.\n",
    "\n",
    "See also [Quantum Variables](https://docs.classiq.io/latest/user-guide/platform/qmod/language-reference/quantum-variables/).\n",
    "\n",
    "We will discuss other quantum types during the workshop.\n"
   ]
  },
  {
   "cell_type": "markdown",
   "metadata": {
    "id": "vq84vOv30wEH"
   },
   "source": [
    "# The Qmod Workshop - Part 1: Language Fundamentals\n",
    "\n",
    "Follow exercises 1 through 5 for the first session of the workshop."
   ]
  },
  {
   "cell_type": "markdown",
   "metadata": {
    "id": "_01XZVcB0wEH"
   },
   "source": [
    "## Exercise 1 - Bell Pair\n",
    "\n",
    "Create a function that takes two single-qubit (`QBit`) quantum arguments and prepares the bell state on them ([Bell state](https://en.wikipedia.org/wiki/Bell_state)) by applying `H` on one variable and then using it as the control of a `CX` function with the second variable as the target.\n",
    "Create a main function that uses this function and has two single-qubit outputs, initialize them to the |0> state (using the `allocate` function), and apply your function to them.\n",
    "\n",
    "See also [Functions](https://docs.classiq.io/latest/user-guide/platform/qmod/language-reference/functions#syntax)\n"
   ]
  },
  {
   "cell_type": "code",
   "execution_count": null,
   "metadata": {
    "colab": {
     "base_uri": "https://localhost:8080/"
    },
    "id": "cPUMovCw0wEH",
    "outputId": "ed596594-c998-49bc-f282-4dafe20c389b"
   },
   "outputs": [],
   "source": [
    "from classiq import *\n",
    "\n",
    "@qfunc\n",
    "#def prepare_Bell(reg: QArray[QBit]):\n",
    "def prepare_Bell(q_control: QBit, q_target: QBit) -> None:\n",
    "    H(q_control)\n",
    "    CX(q_control, q_target)\n",
    "\n",
    "@qfunc\n",
    "def main(q_control: Output[QBit], q_target: Output[QBit]):\n",
    "    #allocate(2,reg)\n",
    "    allocate(1, q_control)\n",
    "    allocate(1, q_target)\n",
    "\n",
    "    prepare_Bell(q_control, q_target)\n",
    "\n",
    "\n",
    "\n",
    "qmod = create_model(main)\n",
    "qprog = synthesize(qmod)\n",
    "show(qprog)"
   ]
  },
  {
   "cell_type": "markdown",
   "metadata": {
    "id": "kXvVUXiV0wEH"
   },
   "source": [
    "Use qubit array subscript (the syntax - _variable_ **[** _index-expression_ **]**) to change the function from subsection 1 to receive a single quantum variable, a qubit array (`QArray`) of size 2.\n",
    "Change your main function to declare a single output (also an array of size 2).\n"
   ]
  },
  {
   "cell_type": "code",
   "execution_count": null,
   "metadata": {
    "colab": {
     "base_uri": "https://localhost:8080/"
    },
    "id": "QoWYdWBB0wEH",
    "outputId": "06ce3a6f-b7e7-4fb9-a3fc-44afe8f12546"
   },
   "outputs": [],
   "source": [
    "from classiq import *\n",
    "\n",
    "@qfunc\n",
    "def prepare_Bell(q: QArray[QBit]) -> None:\n",
    "    H(q[0])\n",
    "    CX(q[0], q[1])\n",
    "\n",
    "@qfunc\n",
    "def main(reg: Output[QArray[QBit]]):\n",
    "    allocate(2,reg)\n",
    "    prepare_Bell(q=reg)\n",
    "\n",
    "\n",
    "qmod = create_model(main)\n",
    "qprog = synthesize(qmod)\n",
    "show(qprog)\n"
   ]
  },
  {
   "cell_type": "markdown",
   "metadata": {
    "id": "q_TA2Wxj0wEI"
   },
   "source": [
    "## Exercise 2 - Repeat\n",
    "\n",
    "Use the built-in `repeat` operator to create your own Hadamard transform function (call it `my_hadamard_transform`). The Hadamard transform function is a function that takes as argument a qubit array of an unspecified size and applies `H` to each of its qubit.\n",
    "\n",
    "See also [Classical repeat](https://docs.classiq.io/latest/user-guide/platform/qmod/language-reference/statements/classical-control-flow/#classical-repeat).\n",
    "\n",
    "Set your main function to have a quantum array output of unspecified size, allocate 10 qubits, and then apply your Hadamard transform function.\n"
   ]
  },
  {
   "cell_type": "code",
   "execution_count": null,
   "metadata": {
    "colab": {
     "base_uri": "https://localhost:8080/"
    },
    "id": "xVTHr4sR0wEI",
    "outputId": "e84f73b7-8888-4926-90b2-5dfb3b8587af"
   },
   "outputs": [],
   "source": [
    "from classiq import *\n",
    "\n",
    "@qfunc\n",
    "def my_hadamard_transform(q: QArray[QBit]) -> None:\n",
    "    repeat (q.len, lambda i: H(q[i]))\n",
    "\n",
    "@qfunc\n",
    "def main(reg: Output[QArray]):\n",
    "    allocate(10,reg)\n",
    "    my_hadamard_transform(reg)\n",
    "\n",
    "\n",
    "qmod = create_model(main)\n",
    "qprog = synthesize(qmod)\n",
    "show(qprog)"
   ]
  },
  {
   "cell_type": "markdown",
   "metadata": {
    "id": "_Q1SWMh_0wEI"
   },
   "source": [
    "### Note: Quantum Variable Capture\n",
    "The `repeat` operator invokes a statement block multiple times. The statement block is specified using a Python callable, typically a lambda expression. Inside the block you can refer to variables declared in the outer function scope.\n",
    "This concept is called `quantum variable capture`, equivalent to [capture](https://en.wikipedia.org/wiki/Closure_(computer_programming)) in classical languages.\n",
    "\n",
    "See also [Capturing context variables and parameters](https://docs.classiq.io/latest/user-guide/platform/qmod/language-reference/operators/#capturing-context-variables-and-parameters)."
   ]
  },
  {
   "cell_type": "markdown",
   "metadata": {
    "id": "SFheHeHx0wEI"
   },
   "source": [
    "### Exercise 3 - Power\n",
    "Raising a quantum operation to a power appears in many known algorithms, for examples, in Grover search and Quantum Phase Estimation.\n",
    "For most operations, it simply means repeating the same circuit multiple times.\n",
    "\n",
    "Sometimes, however, power can be simplified, thus saving computational resources.\n",
    "The most trivial example is a quantum operation expressed as a single explicit unitary matrix (i.e., all n*n matrix terms are given) -  raising the operation can be done by raising the matrix to that power via classical programming.\n",
    "\n",
    "See also [Power operator](https://docs.classiq.io/latest/user-guide/platform/qmod/language-reference/statements/quantum-operators/#syntax).\n",
    "\n",
    "Use the following code to generate a 2-qubit (real) unitary matrix:"
   ]
  },
  {
   "cell_type": "code",
   "execution_count": null,
   "metadata": {
    "id": "-WcoRbR80wEJ"
   },
   "outputs": [],
   "source": [
    "from typing import List\n",
    "\n",
    "import numpy as np\n",
    "\n",
    "from classiq import *\n",
    "\n",
    "rng = np.random.default_rng(seed=0)\n",
    "random_matrix = rng.random((4, 4))\n",
    "qr_unitary, _ = np.linalg.qr(random_matrix)\n",
    "\n",
    "unitary_matrix = QConstant(\"unitary_matrix\", List[List[float]], qr_unitary.tolist())"
   ]
  },
  {
   "cell_type": "markdown",
   "metadata": {
    "id": "Bh2uRmdO0wEJ"
   },
   "source": [
    "In order to reuse some classical value we can define a `QConstant` to store that value.\n",
    "\n",
    "1. Create a model that applies `unitary_matrix` on a 2 qubit variable.\n",
    "2. Create another model that applies `unitary_matrix` raised to power 3 on a 2 qubit variable.\n",
    "3. Compare the gate count via the Classiq’s IDE in both cases.\n",
    "\n",
    "Note - the signature of function `unitary` is:"
   ]
  },
  {
   "cell_type": "code",
   "execution_count": null,
   "metadata": {
    "id": "pAZeOD3_0wEJ"
   },
   "outputs": [],
   "source": [
    "def unitary(\n",
    "    elements: CArray[CArray[CReal]],\n",
    "    target: QArray[QBit],\n",
    ") -> None:\n",
    "\n",
    "    pass\n",
    "    #return np.dot(elements, target)"
   ]
  },
  {
   "cell_type": "code",
   "execution_count": null,
   "metadata": {
    "colab": {
     "base_uri": "https://localhost:8080/"
    },
    "id": "U_uMWqPv0wEJ",
    "outputId": "6f10fa8f-beac-4dc0-8313-54d419ea4b11"
   },
   "outputs": [],
   "source": [
    "from classiq import *\n",
    "\n",
    "\n",
    "\n",
    "\n",
    "@qfunc\n",
    "def main(reg: Output[QArray[QBit]]):\n",
    "    allocate(2, reg)\n",
    "    unitary(unitary_matrix, reg)\n",
    "\n",
    "\n",
    "\n",
    "qmod = create_model(main)\n",
    "qprog = synthesize(qmod)\n",
    "show(qprog)"
   ]
  },
  {
   "cell_type": "code",
   "execution_count": null,
   "metadata": {
    "id": "0B9Sk87LYegk"
   },
   "outputs": [],
   "source": [
    "# Gate count (U)\n",
    "\n",
    "# U : 8\n",
    "# Cx : 3"
   ]
  },
  {
   "cell_type": "code",
   "execution_count": null,
   "metadata": {
    "colab": {
     "base_uri": "https://localhost:8080/"
    },
    "id": "N-sFMjZtacJJ",
    "outputId": "d598cc4c-73f0-41e4-bb0d-5627e4089919"
   },
   "outputs": [],
   "source": [
    "from classiq import *\n",
    "\n",
    "\n",
    "\n",
    "\n",
    "@qfunc\n",
    "def main(reg: Output[QArray[QBit]]):\n",
    "    allocate(2, reg)\n",
    "    power(power= 3, operand=lambda: unitary(unitary_matrix, reg))\n",
    "\n",
    "\n",
    "\n",
    "qmod = create_model(main)\n",
    "qprog = synthesize(qmod)\n",
    "show(qprog)"
   ]
  },
  {
   "cell_type": "code",
   "execution_count": null,
   "metadata": {
    "id": "Itv1Ts8Ta0En"
   },
   "outputs": [],
   "source": [
    "# Gate count (U**3)\n",
    "\n",
    "# U : 8\n",
    "# CX : 3"
   ]
  },
  {
   "cell_type": "markdown",
   "metadata": {
    "id": "t20jhQ5S0wEJ"
   },
   "source": [
    "## Exercise 4 - User-defined Operators\n",
    "Create a function that applies a given single-qubit operation to all qubits in its quantum argument (Call your function `my_apply_to_all`). Such a function is also called an operator, i.e. a function that one of its arguments is another function (its operand).\n",
    "\n",
    "See also [Operators](https://docs.classiq.io/latest/user-guide/platform/qmod/language-reference/operators/).\n",
    "\n",
    "Follow these guidelines:\n",
    "1. Your function should declare a quantum argument of type qubit array. It should also declare an argument of a function type with a single qubit argument.\n",
    "2. The body should apply the operand to all qubits in the argument.\n",
    "\n",
    "When you're done, re-implement `my_hadamard_transform` from exercise 2 using this function instead of `repeat`.\n",
    "Use the same main function from exercise 2."
   ]
  },
  {
   "cell_type": "code",
   "execution_count": null,
   "metadata": {
    "colab": {
     "base_uri": "https://localhost:8080/"
    },
    "id": "TXE-rh9a0wEK",
    "outputId": "a4640ef2-3ffa-4228-d5f1-7a5da44f3e6b"
   },
   "outputs": [],
   "source": [
    "from classiq import *\n",
    "\n",
    "@qfunc\n",
    "def my_operator(my_operand: QCallable[QBit], q: QArray[QBit]) -> None:\n",
    "    repeat (q.len, lambda i: my_operand(q[i]))\n",
    "\n",
    "@qfunc\n",
    "def my_hadamard_transform(q: QArray[QBit]):\n",
    "    my_operator(my_operand=H, q=q)\n",
    "\n",
    "@qfunc\n",
    "def main(reg: Output[QArray]):\n",
    "    allocate(10,reg)\n",
    "    my_hadamard_transform(reg)\n",
    "\n",
    "\n",
    "\n",
    "qmod = create_model(main)\n",
    "qprog = synthesize(qmod)\n",
    "show(qprog)"
   ]
  },
  {
   "cell_type": "markdown",
   "metadata": {
    "id": "NXxHkAZx0wEK"
   },
   "source": [
    "# Exercise 5 -  Quantum Conditionals\n",
    "\n",
    "### Exercise 5a - Control Operator\n",
    "Use the built-in `control` operator to create a function that receives two single qubit variables and uses one of the variables to control an RY gate with a `pi/2` angle acting on the other variable (without using the `CRY` function).\n",
    "\n",
    "See also [Quantum operators](https://docs.classiq.io/latest/user-guide/platform/qmod/language-reference/statements/quantum-operators/#syntax).\n"
   ]
  },
  {
   "cell_type": "code",
   "execution_count": null,
   "metadata": {
    "colab": {
     "base_uri": "https://localhost:8080/"
    },
    "id": "PSjI5kSq0wEK",
    "outputId": "17a7275f-542d-4d3c-b673-39b8f5d2be52"
   },
   "outputs": [],
   "source": [
    "from classiq import *\n",
    "\n",
    "@qfunc\n",
    "def main(q_target: Output[QBit]) -> None:\n",
    "    q_control = QBit(\"q_control\")\n",
    "    allocate(1, q_control)\n",
    "    allocate(1, q_target)\n",
    "    control(q_control, lambda: RY(np.pi / 2, q_target))\n",
    "\n",
    "qmod = create_model(main)\n",
    "qprog = synthesize(qmod)\n",
    "show(qprog)"
   ]
  },
  {
   "cell_type": "markdown",
   "metadata": {
    "id": "d7tl_O7P0wEK"
   },
   "source": [
    "### Exercise 5b - Control (\"Quantum If\")\n",
    "The `control` operator is the conditional application of some operation, with the condition being that all control qubits are in the state |1>. This notion is generalized in QMOD to other control states, where the condition is specified as a comparison between a quantum numeric variable and a numeric value, similar to a classical `if` statement. Quantum numeric variables are declared with class `QNum`.\n",
    "\n",
    "See also [Numeric types](https://docs.classiq.io/latest/user-guide/platform/qmod/language-reference/quantum-types/#syntax).\n",
    "\n",
    "In QMOD this generalization is available as a native statement - control.\n",
    "\n",
    "See also [control](https://docs.classiq.io/latest/user-guide/platform/qmod/language-reference/statements/quantum-operators/).\n",
    "\n",
    "1. Declare a `QNum` output argument using `Output[QNum]` and name it `x`.\n",
    "2. Use the `prepare_int` function to initialize it to `9`. Note that you don't need to specify the `QNum` attributes - size, sign, and fraction digits, as they are inferred at the point of initialization.\n",
    "3. Execute the circuit and observe the results.\n",
    "4. Declare another output argument of type `QBit` and perform a `control` such that under the condition that `x` is 9, the qubit is flipped. Execute the circuit and observe the results. Repeat for a different condition."
   ]
  },
  {
   "cell_type": "code",
   "execution_count": null,
   "metadata": {
    "colab": {
     "base_uri": "https://localhost:8080/"
    },
    "id": "6nKWd9pI0wEK",
    "outputId": "48e48b5f-7f5b-435d-9cee-b85d1c8edaee"
   },
   "outputs": [],
   "source": [
    "from classiq import *\n",
    "\n",
    "@qfunc\n",
    "def main(x: Output[QNum]) -> None:\n",
    "    prepare_int(9, x)\n",
    "\n",
    "qmod = create_model(main)\n",
    "qprog = synthesize(qmod)\n",
    "show(qprog)"
   ]
  },
  {
   "cell_type": "code",
   "execution_count": null,
   "metadata": {
    "colab": {
     "base_uri": "https://localhost:8080/"
    },
    "id": "1EzszR-3-ER5",
    "outputId": "f791e2ed-e27b-4ee6-ea6d-8e9753fbed84"
   },
   "outputs": [],
   "source": [
    "from classiq import *\n",
    "\n",
    "@qfunc\n",
    "def switch_x(x: QNum, q_target: QBit) -> None:\n",
    "    control(x==9, lambda: X(q_target))\n",
    "\n",
    "\n",
    "@qfunc\n",
    "def main(res: Output[QBit]):\n",
    "    allocate(1, res)\n",
    "    x = QNum(\"x\")\n",
    "    prepare_int(9, x)\n",
    "    switch_x(x, res)\n",
    "\n",
    "qmod = create_model(main)\n",
    "qprog = synthesize(qmod)\n",
    "show(qprog)"
   ]
  },
  {
   "cell_type": "markdown",
   "metadata": {
    "id": "ADn_gaHpCi8V"
   },
   "source": [
    "*Just change the x==9 argument to x==11 for example, and one can observe the manipulation of controls on the IDE (change of the control values from zeros to ones and vice versa)!*"
   ]
  }
 ],
 "metadata": {
  "colab": {
   "provenance": []
  },
  "kernelspec": {
   "display_name": "Python 3 (ipykernel)",
   "language": "python",
   "name": "python3"
  },
  "language_info": {
   "codemirror_mode": {
    "name": "ipython",
    "version": 3
   },
   "file_extension": ".py",
   "mimetype": "text/x-python",
   "name": "python",
   "nbconvert_exporter": "python",
   "pygments_lexer": "ipython3",
   "version": "3.10.9"
  }
 },
 "nbformat": 4,
 "nbformat_minor": 1
}
