{
  "cells": [
    {
      "cell_type": "markdown",
      "metadata": {
        "id": "view-in-github",
        "colab_type": "text"
      },
      "source": [
        "<a href=\"https://colab.research.google.com/github/mnshmnsh/classiq-library/blob/main/community/QClass_2024/Submissions/HW4/Hisham_Mansour_HW4_qpe_for_molecules.ipynb\" target=\"_parent\"><img src=\"https://colab.research.google.com/assets/colab-badge.svg\" alt=\"Open In Colab\"/></a>"
      ]
    },
    {
      "cell_type": "markdown",
      "id": "75e2c1fe-8a06-4f0b-8fd6-d1b6d10ce82f",
      "metadata": {
        "id": "75e2c1fe-8a06-4f0b-8fd6-d1b6d10ce82f"
      },
      "source": [
        "# Quantum Phase Estimation (QPE) for Solving Molecular Energies\n",
        "\n",
        "\n",
        "Quantum Phase Estimation (QPE) is a key algorithm in quantum computing, allowing one to estimate the phase (or eigenvalue) of an eigenvector of a unitary operation. The algorithm is designed so, that for a given Hamiltonian $H$, and an eigenvalue ${|\\psi\\rangle}$, the output that will be obtained is $\\epsilon$ where\n",
        "\n",
        "$U{|\\psi\\rangle} = e^{2\\pi i\\epsilon}{|\\psi\\rangle} , U = e^{2\\pi iH}$ .\n",
        "\n",
        "\n",
        "Therefore, by measuring the phase accumulated, the QPE algorithm allows calculating the energies relating to the chosen initial state.\n",
        "When using QPE for chemistry problems, it is common to search for the lowest energy of a given molecule. As the molecule can be written in the form of a Hamiltonian (Hermitian matrix which meaning is the energetic forces of the structure), usually symbolized by \"H\", one only need to insert the ground eigenvector in order to obtain the minimal energy value using QPE. However, obtaining the ground state is not a trivial problem. In order to overcome it, it is sufficient to use a state with big overlap with the ground state.\n",
        "\n",
        "We define a state ${|v\\rangle}$ which will be chosen as the algorithm's initial state. Let us define {$\\psi_i$} to be the set of (unknown) eigenvalues of $H$. Generally, any vector can be rewritten as a superposition of any basis set, thus -\n",
        "\n",
        "${|v\\rangle} = \\sum_i a_i{|\\psi_i\\rangle}$\n",
        "\n",
        "and -\n",
        "\n",
        "$U{|v\\rangle} = \\sum_i a_i e^{2\\pi i\\epsilon_i}{|\\psi_i\\rangle}$.\n",
        "\n",
        "where ${\\epsilon_i}$ are the eigenvalues of H, i.e. the span of energies relating to the molecule. Using execution with enough shots, one will obtain this set of $\\theta_i$, i.e., a subset of the Hamiltonian's eigenvalues. As we are specifically interested in $\\epsilon_0$, the ground state of H, it is important that there is a large overlap between ${\\psi_0}$ and ${|v\\rangle}$ so the probability to measure ${\\epsilon_0}$ is high, i.e.\n",
        "\n",
        "$P(\\epsilon_0) = |\\langle v|\\psi_0\\rangle|^2 > \\epsilon $.\n",
        "\n",
        "How large is $\\epsilon$? After execution, we will obtain a set of ${E_i}$.\n",
        "If we have done 1000 shots of execution, and $P(\\epsilon_0)>1$, it should be measured is about 10 times to get a good statistical variance.\n",
        "\n",
        "A common choice for ${|v\\rangle}$ (the initial state) is the Hartree-Fock (HF) state, which with good probability have a large overlap with the ground state. However, other guesses for the initial state are possibly good or even better fit, and choosing the right initial state is a sort of art and an active field of research.\n",
        "\n",
        "For further reading about QPE we recommend [[1](#NC)].\n",
        "\n",
        "\n",
        "#### What are the benefits of using QPE algorithm for finding a molecule's ground state?\n",
        "\n",
        "The two most prominent methods to solve ground energy for molecules are quantum variational algorithm (VQE) and QPE. Those promise better scalability compared to classical counterparts as the molecules becomes more complex, with larger number of electrons manifesting as more degrees of freedom for the problem.\n",
        "\n",
        "While so, the number of parameters in VQE is closely related to the number of electrons. This may create inherent difficulty achieving high-precision calculations through sampling statistical estimators, and paraphs even not converge for very large systems. While so, the number of parameters in QPE is a flexible value which is directly related to the resolution of the problem, but is not bonded with the number of electrons.\n",
        "\n",
        "Furthermore, it is known that advanced quantum algorithms based on QPE can perform electronic structure calculations in sub-exponential time with accuracy that rivals exact diagonalization methods. This guarantee of simultaneously achieving high accuracy, efficiency, and generality is a feat that is believed to be impossible for classical algorithms. For those reasons, VQE is applicable in the near term (NISQ) era, while QPE is suited for fault-tolerant design.\n",
        "\n",
        "#### During this tutorial, we will follow the QPE algorithms steps as following:\n",
        "\n",
        "a. Define a molecule and convert it into a Hamiltonian H, manifested as a pauli list.\n",
        "\n",
        "b. Prepare the Hamiltonian for QPE: including normalization and choosing the resolution.\n",
        "\n",
        "c. Initializing the state for the HF state.\n",
        "\n",
        "d. Preparing the quantum circuit.\n",
        "\n",
        "e. Executing the circuit to find the related phases and analyzing the results to find the ground state.\n",
        "\n",
        "f. Comparing the QPE results with exact solution for the molecule’s ground state."
      ]
    },
    {
      "cell_type": "markdown",
      "id": "7cd71faa-1ef3-4d67-8c9a-d66e0a895b9a",
      "metadata": {
        "id": "7cd71faa-1ef3-4d67-8c9a-d66e0a895b9a"
      },
      "source": [
        "## 0. Pre-requirments\n",
        "\n",
        "The model is using several Classiq's libraries in addition to IBM's simulating tool."
      ]
    },
    {
      "cell_type": "code",
      "source": [
        "!pip install -U classiq"
      ],
      "metadata": {
        "colab": {
          "base_uri": "https://localhost:8080/",
          "height": 0
        },
        "id": "k3DQRV9GpPSG",
        "outputId": "4039a7c0-2b12-4e86-d14a-455090db8a57",
        "collapsed": true
      },
      "id": "k3DQRV9GpPSG",
      "execution_count": 1,
      "outputs": [
        {
          "output_type": "stream",
          "name": "stdout",
          "text": [
            "Collecting classiq\n",
            "  Downloading classiq-0.42.1-py3-none-any.whl (401 kB)\n",
            "\u001b[2K     \u001b[90m━━━━━━━━━━━━━━━━━━━━━━━━━━━━━━━━━━━━━━━━\u001b[0m \u001b[32m401.5/401.5 kB\u001b[0m \u001b[31m5.9 MB/s\u001b[0m eta \u001b[36m0:00:00\u001b[0m\n",
            "\u001b[?25hCollecting ConfigArgParse<2.0.0,>=1.5.3 (from classiq)\n",
            "  Downloading ConfigArgParse-1.7-py3-none-any.whl (25 kB)\n",
            "Collecting Pyomo<6.6,>=6.5 (from classiq)\n",
            "  Downloading Pyomo-6.5.0-cp310-cp310-manylinux_2_17_x86_64.manylinux2014_x86_64.whl (10.7 MB)\n",
            "\u001b[2K     \u001b[90m━━━━━━━━━━━━━━━━━━━━━━━━━━━━━━━━━━━━━━━━\u001b[0m \u001b[32m10.7/10.7 MB\u001b[0m \u001b[31m32.7 MB/s\u001b[0m eta \u001b[36m0:00:00\u001b[0m\n",
            "\u001b[?25hCollecting black<25.0,>=24.0 (from classiq)\n",
            "  Downloading black-24.4.2-cp310-cp310-manylinux_2_17_x86_64.manylinux2014_x86_64.whl (1.8 MB)\n",
            "\u001b[2K     \u001b[90m━━━━━━━━━━━━━━━━━━━━━━━━━━━━━━━━━━━━━━━━\u001b[0m \u001b[32m1.8/1.8 MB\u001b[0m \u001b[31m45.7 MB/s\u001b[0m eta \u001b[36m0:00:00\u001b[0m\n",
            "\u001b[?25hCollecting httpx<1,>=0.23.0 (from classiq)\n",
            "  Downloading httpx-0.27.0-py3-none-any.whl (75 kB)\n",
            "\u001b[2K     \u001b[90m━━━━━━━━━━━━━━━━━━━━━━━━━━━━━━━━━━━━━━━━\u001b[0m \u001b[32m75.6/75.6 kB\u001b[0m \u001b[31m7.4 MB/s\u001b[0m eta \u001b[36m0:00:00\u001b[0m\n",
            "\u001b[?25hRequirement already satisfied: keyring<24.0.0,>=23.5.0 in /usr/lib/python3/dist-packages (from classiq) (23.5.0)\n",
            "Requirement already satisfied: matplotlib<4.0.0,>=3.4.3 in /usr/local/lib/python3.10/dist-packages (from classiq) (3.7.1)\n",
            "Collecting networkx<3.0.0,>=2.5.1 (from classiq)\n",
            "  Downloading networkx-2.8.8-py3-none-any.whl (2.0 MB)\n",
            "\u001b[2K     \u001b[90m━━━━━━━━━━━━━━━━━━━━━━━━━━━━━━━━━━━━━━━━\u001b[0m \u001b[32m2.0/2.0 MB\u001b[0m \u001b[31m43.8 MB/s\u001b[0m eta \u001b[36m0:00:00\u001b[0m\n",
            "\u001b[?25hRequirement already satisfied: numexpr<3.0.0,>=2.7.3 in /usr/local/lib/python3.10/dist-packages (from classiq) (2.10.0)\n",
            "Requirement already satisfied: numpy<2.0.0,>=1.20.1 in /usr/local/lib/python3.10/dist-packages (from classiq) (1.25.2)\n",
            "Collecting packaging<23.0,>=22.0 (from classiq)\n",
            "  Downloading packaging-22.0-py3-none-any.whl (42 kB)\n",
            "\u001b[2K     \u001b[90m━━━━━━━━━━━━━━━━━━━━━━━━━━━━━━━━━━━━━━━━\u001b[0m \u001b[32m42.6/42.6 kB\u001b[0m \u001b[31m3.8 MB/s\u001b[0m eta \u001b[36m0:00:00\u001b[0m\n",
            "\u001b[?25hRequirement already satisfied: pandas<3.0.0,>=1.4.0 in /usr/local/lib/python3.10/dist-packages (from classiq) (2.0.3)\n",
            "Requirement already satisfied: plotly<6.0.0,>=5.7.0 in /usr/local/lib/python3.10/dist-packages (from classiq) (5.15.0)\n",
            "Collecting pydantic<2.0.0,>=1.9.1 (from classiq)\n",
            "  Downloading pydantic-1.10.15-cp310-cp310-manylinux_2_17_x86_64.manylinux2014_x86_64.whl (3.1 MB)\n",
            "\u001b[2K     \u001b[90m━━━━━━━━━━━━━━━━━━━━━━━━━━━━━━━━━━━━━━━━\u001b[0m \u001b[32m3.1/3.1 MB\u001b[0m \u001b[31m33.3 MB/s\u001b[0m eta \u001b[36m0:00:00\u001b[0m\n",
            "\u001b[?25hRequirement already satisfied: scipy<2.0.0,>=1.10.1 in /usr/local/lib/python3.10/dist-packages (from classiq) (1.11.4)\n",
            "Collecting sympy<1.11.0,>=1.9.0 (from classiq)\n",
            "  Downloading sympy-1.10.1-py3-none-any.whl (6.4 MB)\n",
            "\u001b[2K     \u001b[90m━━━━━━━━━━━━━━━━━━━━━━━━━━━━━━━━━━━━━━━━\u001b[0m \u001b[32m6.4/6.4 MB\u001b[0m \u001b[31m21.2 MB/s\u001b[0m eta \u001b[36m0:00:00\u001b[0m\n",
            "\u001b[?25hRequirement already satisfied: tabulate<1,>=0.8.9 in /usr/local/lib/python3.10/dist-packages (from classiq) (0.9.0)\n",
            "Requirement already satisfied: click>=8.0.0 in /usr/local/lib/python3.10/dist-packages (from black<25.0,>=24.0->classiq) (8.1.7)\n",
            "Collecting mypy-extensions>=0.4.3 (from black<25.0,>=24.0->classiq)\n",
            "  Downloading mypy_extensions-1.0.0-py3-none-any.whl (4.7 kB)\n",
            "Collecting pathspec>=0.9.0 (from black<25.0,>=24.0->classiq)\n",
            "  Downloading pathspec-0.12.1-py3-none-any.whl (31 kB)\n",
            "Requirement already satisfied: platformdirs>=2 in /usr/local/lib/python3.10/dist-packages (from black<25.0,>=24.0->classiq) (4.2.2)\n",
            "Requirement already satisfied: tomli>=1.1.0 in /usr/local/lib/python3.10/dist-packages (from black<25.0,>=24.0->classiq) (2.0.1)\n",
            "Requirement already satisfied: typing-extensions>=4.0.1 in /usr/local/lib/python3.10/dist-packages (from black<25.0,>=24.0->classiq) (4.12.1)\n",
            "Requirement already satisfied: anyio in /usr/local/lib/python3.10/dist-packages (from httpx<1,>=0.23.0->classiq) (3.7.1)\n",
            "Requirement already satisfied: certifi in /usr/local/lib/python3.10/dist-packages (from httpx<1,>=0.23.0->classiq) (2024.6.2)\n",
            "Collecting httpcore==1.* (from httpx<1,>=0.23.0->classiq)\n",
            "  Downloading httpcore-1.0.5-py3-none-any.whl (77 kB)\n",
            "\u001b[2K     \u001b[90m━━━━━━━━━━━━━━━━━━━━━━━━━━━━━━━━━━━━━━━━\u001b[0m \u001b[32m77.9/77.9 kB\u001b[0m \u001b[31m3.8 MB/s\u001b[0m eta \u001b[36m0:00:00\u001b[0m\n",
            "\u001b[?25hRequirement already satisfied: idna in /usr/local/lib/python3.10/dist-packages (from httpx<1,>=0.23.0->classiq) (3.7)\n",
            "Requirement already satisfied: sniffio in /usr/local/lib/python3.10/dist-packages (from httpx<1,>=0.23.0->classiq) (1.3.1)\n",
            "Collecting h11<0.15,>=0.13 (from httpcore==1.*->httpx<1,>=0.23.0->classiq)\n",
            "  Downloading h11-0.14.0-py3-none-any.whl (58 kB)\n",
            "\u001b[2K     \u001b[90m━━━━━━━━━━━━━━━━━━━━━━━━━━━━━━━━━━━━━━━━\u001b[0m \u001b[32m58.3/58.3 kB\u001b[0m \u001b[31m2.5 MB/s\u001b[0m eta \u001b[36m0:00:00\u001b[0m\n",
            "\u001b[?25hRequirement already satisfied: contourpy>=1.0.1 in /usr/local/lib/python3.10/dist-packages (from matplotlib<4.0.0,>=3.4.3->classiq) (1.2.1)\n",
            "Requirement already satisfied: cycler>=0.10 in /usr/local/lib/python3.10/dist-packages (from matplotlib<4.0.0,>=3.4.3->classiq) (0.12.1)\n",
            "Requirement already satisfied: fonttools>=4.22.0 in /usr/local/lib/python3.10/dist-packages (from matplotlib<4.0.0,>=3.4.3->classiq) (4.53.0)\n",
            "Requirement already satisfied: kiwisolver>=1.0.1 in /usr/local/lib/python3.10/dist-packages (from matplotlib<4.0.0,>=3.4.3->classiq) (1.4.5)\n",
            "Requirement already satisfied: pillow>=6.2.0 in /usr/local/lib/python3.10/dist-packages (from matplotlib<4.0.0,>=3.4.3->classiq) (9.4.0)\n",
            "Requirement already satisfied: pyparsing>=2.3.1 in /usr/local/lib/python3.10/dist-packages (from matplotlib<4.0.0,>=3.4.3->classiq) (3.1.2)\n",
            "Requirement already satisfied: python-dateutil>=2.7 in /usr/local/lib/python3.10/dist-packages (from matplotlib<4.0.0,>=3.4.3->classiq) (2.8.2)\n",
            "Requirement already satisfied: pytz>=2020.1 in /usr/local/lib/python3.10/dist-packages (from pandas<3.0.0,>=1.4.0->classiq) (2023.4)\n",
            "Requirement already satisfied: tzdata>=2022.1 in /usr/local/lib/python3.10/dist-packages (from pandas<3.0.0,>=1.4.0->classiq) (2024.1)\n",
            "Requirement already satisfied: tenacity>=6.2.0 in /usr/local/lib/python3.10/dist-packages (from plotly<6.0.0,>=5.7.0->classiq) (8.3.0)\n",
            "Collecting ply (from Pyomo<6.6,>=6.5->classiq)\n",
            "  Downloading ply-3.11-py2.py3-none-any.whl (49 kB)\n",
            "\u001b[2K     \u001b[90m━━━━━━━━━━━━━━━━━━━━━━━━━━━━━━━━━━━━━━━━\u001b[0m \u001b[32m49.6/49.6 kB\u001b[0m \u001b[31m3.6 MB/s\u001b[0m eta \u001b[36m0:00:00\u001b[0m\n",
            "\u001b[?25hRequirement already satisfied: mpmath>=0.19 in /usr/local/lib/python3.10/dist-packages (from sympy<1.11.0,>=1.9.0->classiq) (1.3.0)\n",
            "Requirement already satisfied: six>=1.5 in /usr/local/lib/python3.10/dist-packages (from python-dateutil>=2.7->matplotlib<4.0.0,>=3.4.3->classiq) (1.16.0)\n",
            "Requirement already satisfied: exceptiongroup in /usr/local/lib/python3.10/dist-packages (from anyio->httpx<1,>=0.23.0->classiq) (1.2.1)\n",
            "Installing collected packages: ply, sympy, Pyomo, pydantic, pathspec, packaging, networkx, mypy-extensions, h11, ConfigArgParse, httpcore, black, httpx, classiq\n",
            "  Attempting uninstall: sympy\n",
            "    Found existing installation: sympy 1.12.1\n",
            "    Uninstalling sympy-1.12.1:\n",
            "      Successfully uninstalled sympy-1.12.1\n",
            "  Attempting uninstall: pydantic\n",
            "    Found existing installation: pydantic 2.7.3\n",
            "    Uninstalling pydantic-2.7.3:\n",
            "      Successfully uninstalled pydantic-2.7.3\n",
            "  Attempting uninstall: packaging\n",
            "    Found existing installation: packaging 24.0\n",
            "    Uninstalling packaging-24.0:\n",
            "      Successfully uninstalled packaging-24.0\n",
            "  Attempting uninstall: networkx\n",
            "    Found existing installation: networkx 3.3\n",
            "    Uninstalling networkx-3.3:\n",
            "      Successfully uninstalled networkx-3.3\n",
            "\u001b[31mERROR: pip's dependency resolver does not currently take into account all the packages that are installed. This behaviour is the source of the following dependency conflicts.\n",
            "torch 2.3.0+cu121 requires nvidia-cublas-cu12==12.1.3.1; platform_system == \"Linux\" and platform_machine == \"x86_64\", which is not installed.\n",
            "torch 2.3.0+cu121 requires nvidia-cuda-cupti-cu12==12.1.105; platform_system == \"Linux\" and platform_machine == \"x86_64\", which is not installed.\n",
            "torch 2.3.0+cu121 requires nvidia-cuda-nvrtc-cu12==12.1.105; platform_system == \"Linux\" and platform_machine == \"x86_64\", which is not installed.\n",
            "torch 2.3.0+cu121 requires nvidia-cuda-runtime-cu12==12.1.105; platform_system == \"Linux\" and platform_machine == \"x86_64\", which is not installed.\n",
            "torch 2.3.0+cu121 requires nvidia-cudnn-cu12==8.9.2.26; platform_system == \"Linux\" and platform_machine == \"x86_64\", which is not installed.\n",
            "torch 2.3.0+cu121 requires nvidia-cufft-cu12==11.0.2.54; platform_system == \"Linux\" and platform_machine == \"x86_64\", which is not installed.\n",
            "torch 2.3.0+cu121 requires nvidia-curand-cu12==10.3.2.106; platform_system == \"Linux\" and platform_machine == \"x86_64\", which is not installed.\n",
            "torch 2.3.0+cu121 requires nvidia-cusolver-cu12==11.4.5.107; platform_system == \"Linux\" and platform_machine == \"x86_64\", which is not installed.\n",
            "torch 2.3.0+cu121 requires nvidia-cusparse-cu12==12.1.0.106; platform_system == \"Linux\" and platform_machine == \"x86_64\", which is not installed.\n",
            "torch 2.3.0+cu121 requires nvidia-nccl-cu12==2.20.5; platform_system == \"Linux\" and platform_machine == \"x86_64\", which is not installed.\n",
            "torch 2.3.0+cu121 requires nvidia-nvtx-cu12==12.1.105; platform_system == \"Linux\" and platform_machine == \"x86_64\", which is not installed.\u001b[0m\u001b[31m\n",
            "\u001b[0mSuccessfully installed ConfigArgParse-1.7 Pyomo-6.5.0 black-24.4.2 classiq-0.42.1 h11-0.14.0 httpcore-1.0.5 httpx-0.27.0 mypy-extensions-1.0.0 networkx-2.8.8 packaging-22.0 pathspec-0.12.1 ply-3.11 pydantic-1.10.15 sympy-1.10.1\n"
          ]
        }
      ]
    },
    {
      "cell_type": "code",
      "source": [
        "import classiq\n",
        "classiq.authenticate()"
      ],
      "metadata": {
        "id": "Nsm3pKlqpZpr",
        "colab": {
          "base_uri": "https://localhost:8080/",
          "height": 0
        },
        "outputId": "c7a6175b-bfa2-4b6a-f067-36f48d33d94c"
      },
      "id": "Nsm3pKlqpZpr",
      "execution_count": 2,
      "outputs": [
        {
          "output_type": "stream",
          "name": "stdout",
          "text": [
            "Your user code: TJLL-VDWQ\n",
            "If a browser doesn't automatically open, please visit this URL from any trusted device: https://auth.classiq.io/activate?user_code=TJLL-VDWQ\n"
          ]
        }
      ]
    },
    {
      "cell_type": "code",
      "execution_count": 3,
      "id": "11eaf8f8-c06e-443e-ac74-5aa364f5198c",
      "metadata": {
        "execution": {
          "iopub.execute_input": "2024-05-07T15:16:36.283533Z",
          "iopub.status.busy": "2024-05-07T15:16:36.283079Z",
          "iopub.status.idle": "2024-05-07T15:16:39.275433Z",
          "shell.execute_reply": "2024-05-07T15:16:39.274629Z"
        },
        "tags": [],
        "id": "11eaf8f8-c06e-443e-ac74-5aa364f5198c"
      },
      "outputs": [],
      "source": [
        "import matplotlib.pyplot as plt\n",
        "import numpy as np\n",
        "import scipy\n",
        "from numpy import linalg as LA\n",
        "\n",
        "# for state preperation and phase estimation\n",
        "from classiq import Constraints, Preferences\n",
        "\n",
        "# for chemistry\n",
        "from classiq.applications.chemistry import Molecule, MoleculeProblem, PauliOperator"
      ]
    },
    {
      "cell_type": "markdown",
      "id": "ac537458-568d-4718-9020-408cc7232641",
      "metadata": {
        "id": "ac537458-568d-4718-9020-408cc7232641"
      },
      "source": [
        "## 1. Create Your Molecule"
      ]
    },
    {
      "cell_type": "markdown",
      "source": [
        "### XYZ cartesian coordinates"
      ],
      "metadata": {
        "id": "WC3NKxILHo6H"
      },
      "id": "WC3NKxILHo6H"
    },
    {
      "cell_type": "code",
      "execution_count": 4,
      "id": "2b67b2e1-94c2-4c8f-8ee9-577c79a7234f",
      "metadata": {
        "execution": {
          "iopub.execute_input": "2024-05-07T15:16:39.279850Z",
          "iopub.status.busy": "2024-05-07T15:16:39.279309Z",
          "iopub.status.idle": "2024-05-07T15:16:39.288752Z",
          "shell.execute_reply": "2024-05-07T15:16:39.288033Z"
        },
        "tags": [],
        "id": "2b67b2e1-94c2-4c8f-8ee9-577c79a7234f"
      },
      "outputs": [],
      "source": [
        "# build your molecule\n",
        "\n",
        "#hydrogen\n",
        "molecule_H2 = Molecule(atoms=[(\"H\", (0.0, 0.0, 0)), (\"H\", (0.0, 0.0, 0.735))])\n",
        "#oxygen\n",
        "molecule_O2 = Molecule(atoms=[(\"O\", (0.0, 0.0, 0)), (\"O\", (0.0, 0.0, 1.16))])\n",
        "#lithium hydride\n",
        "molecule_LiH = Molecule(atoms=[(\"H\", (0.0, 0.0, 0.0)), (\"Li\", (0.0, 0.0, 1.596))])\n",
        "#water\n",
        "molecule_H2O = Molecule(\n",
        "    atoms=[(\"O\", (0.0, 0.0, 0.0)), (\"H\", (0, 0.586, 0.757)), (\"H\", (0, 0.586, -0.757))]\n",
        ")\n",
        "#beryllium hydride\n",
        "molecule_BeH2 = Molecule(\n",
        "    atoms=[(\"Be\", (0.0, 0.0, 0.0)), (\"H\", (0, 0, 1.334)), (\"H\", (0, 0, -1.334))]\n",
        ")\n",
        "#carbon dioxide\n",
        "molecule_CO2 = Molecule(atoms=[(\"C\", (0.0, 0.0, 0.0)),\n",
        " (\"O\", (0, 0, 1.1693)), (\"O\", (0, 0, -1.1693))])\n",
        "#ethyne, acetylene\n",
        "molecule_C2H2 = Molecule(atoms=[(\"C\", (0, 0, -0.5977)), (\"C\", (0, 0, 0.5977)),\n",
        " (\"H\", (0, 0, -1.6692)), (\"H\", (0, 0, 1.6692))])\n",
        "#chloroform\n",
        "molecule_CH3Cl = Molecule(atoms=[(\"C\", (0, 0, -1.1401)), (\"Cl\", (0, 0, 0.6645)),\n",
        " (\"H\", (0, 1.0343, -1.4855)),\n",
        "  (\"H\", (0.8957, -0.5171, -1.4855)), (\"H\", (-0.8957, -0.5171, -1.4855))])\n",
        "#ethylene\n",
        "molecule_C2H4 = Molecule(atoms=[(\"C\", (0, 0, 0.6673)), (\"C\", (0, 0, -0.6673)),\n",
        " (\"H\", (0, 0.9239, 1.2411)), (\"H\", (0, -0.9239, 1.2411)),\n",
        "  (\"H\", (0, -0.9239, -1.2411)), (\"H\", (0, 0.9239, -1.2411))])"
      ]
    },
    {
      "cell_type": "code",
      "execution_count": 57,
      "id": "9e37fada-9ecc-4a24-bf2c-0994e9c14149",
      "metadata": {
        "execution": {
          "iopub.execute_input": "2024-05-07T15:16:39.293443Z",
          "iopub.status.busy": "2024-05-07T15:16:39.292243Z",
          "iopub.status.idle": "2024-05-07T15:16:39.297244Z",
          "shell.execute_reply": "2024-05-07T15:16:39.296486Z"
        },
        "tags": [],
        "id": "9e37fada-9ecc-4a24-bf2c-0994e9c14149"
      },
      "outputs": [],
      "source": [
        "# define your molecule\n",
        "#molecule = molecule_H2\n",
        "#molecule = molecule_O2\n",
        "#molecule = molecule_LiH\n",
        "\n",
        "molecule = molecule_BeH2\n",
        "\n",
        "#molecule = molecule_H2O\n",
        "\n",
        "#molecule = molecule_CO2\n",
        "#  The exponentiation constraints are not satisfiable.\n",
        "#  Minimal max_depth is 36476.\n",
        "#molecule = molecule_CH3Cl\n",
        "#  The exponentiation constraints are not satisfiable.\n",
        "#  Minimal max_depth is 57965.\n",
        "#molecule = molecule_C2H2\n",
        "#  The exponentiation constraints are not satisfiable.\n",
        "#  Minimal max_depth is 15115.\n",
        "#molecule = molecule_C2H4\n",
        "#  The exponentiation constraints are not satisfiable.\n",
        "#  Minimal max_depth is 24471."
      ]
    },
    {
      "cell_type": "markdown",
      "source": [
        "# **Results for BeH2:**\n",
        "\n",
        "Your qubit solution is [{'phase': 0.46875}: 135341]\n",
        "\n",
        "The final results of the Energy (matrix's eigenvlues) is therefore:\n",
        "\n",
        "[-5.0500156710895965]\n",
        "\n",
        "exact result: -3.940331561325765\n",
        "\n",
        "The results including the error contributed from the resolution (number of qubits participating in the QPE) are: The resolution of result is 3.3666771140597356 the energy solution is between -8.416692785149332 and -1.683338557029861"
      ],
      "metadata": {
        "id": "ClsUidSlHIsO"
      },
      "id": "ClsUidSlHIsO"
    },
    {
      "cell_type": "markdown",
      "source": [
        "# **Results for H2O:**\n",
        "\n",
        "Your qubit solution is\n",
        "[{'phase': 0.453125}: 89076]\n",
        "\n",
        "The final results of the Energy (matrix's eigenvlues) is therefore:\n",
        "\n",
        "[-29.018825909142947]\n",
        "\n",
        "exact result: -23.54449724044351\n",
        "\n",
        "\n",
        "The results including the error contributed from the resolution (number of qubits\n",
        "participating in the QPE) are:\n",
        "The resolution of result is 11.607530363657174\n",
        "the energy solution is between -40.62635627280012 and -17.41129554548577\n",
        "\n"
      ],
      "metadata": {
        "id": "Cab7eyKPHSW8"
      },
      "id": "Cab7eyKPHSW8"
    },
    {
      "cell_type": "code",
      "execution_count": 58,
      "id": "5d27e5df-e16e-44b2-b78a-187905577908",
      "metadata": {
        "execution": {
          "iopub.execute_input": "2024-05-07T15:16:39.301806Z",
          "iopub.status.busy": "2024-05-07T15:16:39.300600Z",
          "iopub.status.idle": "2024-05-07T15:16:41.781375Z",
          "shell.execute_reply": "2024-05-07T15:16:41.780596Z"
        },
        "tags": [],
        "id": "5d27e5df-e16e-44b2-b78a-187905577908",
        "outputId": "7bad3408-043c-4a50-beb7-a0b2acfb6360",
        "colab": {
          "base_uri": "https://localhost:8080/",
          "height": 0
        }
      },
      "outputs": [
        {
          "output_type": "stream",
          "name": "stdout",
          "text": [
            "Your Hamiltonian is\n",
            "-0.702 * IIIIIII\n",
            "-0.230 * ZIZZZIZ\n",
            "-0.022 * IIIIIZX\n",
            "+0.022 * ZIZZZZX\n",
            "-0.251 * ZIIIZZI\n",
            "-0.058 * ZIZZZXZ\n",
            "+0.058 * IIZZIXZ\n",
            "-0.857 * IIIZIII\n",
            "-0.857 * IIZIIII\n",
            "-0.495 * IIIIIIZ\n",
            "-0.755 * IIIIIZI\n",
            "-0.230 * ZZZZZII\n",
            "-0.022 * ZXIIIII\n",
            "+0.022 * IXZZZII\n",
            "-0.251 * IIIIZII\n",
            "+0.058 * YZZZYII\n",
            "+0.058 * XZZZXII\n",
            "-0.495 * IZIIIII\n",
            "-0.755 * ZIIIIII\n",
            "+0.062 * IIZZIZZ\n",
            "+0.010 * IIIIIXI\n",
            "-0.010 * ZIIIZXI\n",
            "+0.172 * ZIZIZIZ\n",
            "+0.172 * ZIIZZIZ\n",
            "+0.159 * ZIZZZII\n",
            "+0.093 * ZIZZZZZ\n",
            "+0.012 * ZIIIZIX\n",
            "-0.012 * IIZZIIX\n",
            "+0.003 * ZIZZZYY\n",
            "+0.020 * IIZZIXX\n",
            "+0.017 * IIZZIYY\n",
            "+0.017 * IIIIIYY\n",
            "+0.020 * IIIIIXX\n",
            "+0.003 * ZIIIZYY\n",
            "+0.014 * IIIZIZX\n",
            "-0.014 * ZIZIZZX\n",
            "+0.014 * IIZIIZX\n",
            "-0.014 * ZIIZZZX\n",
            "+0.005 * IIIIIIX\n",
            "-0.005 * ZIZZZIX\n",
            "+0.202 * IZIIIIZ\n",
            "+0.003 * ZZZZZZX\n",
            "-0.003 * IZIIIZX\n",
            "+0.041 * ZZIIXZZ\n",
            "-0.041 * IIZZXZZ\n",
            "-0.041 * ZZZZXII\n",
            "+0.041 * IIIIXII\n",
            "-0.011 * ZZZZXXI\n",
            "+0.011 * IIIIXXI\n",
            "-0.011 * IZIIYYZ\n",
            "+0.011 * ZIZZYYZ\n",
            "+0.012 * ZZIXIZZ\n",
            "-0.012 * IIZXZZZ\n",
            "-0.012 * IZZXZZI\n",
            "+0.012 * ZIIXIZI\n",
            "+0.012 * ZZXIIZZ\n",
            "-0.012 * IIXZZZZ\n",
            "-0.012 * IZXZZZI\n",
            "+0.012 * ZIXIIZI\n",
            "+0.003 * IXZZZIZ\n",
            "-0.003 * ZXIIIIZ\n",
            "+0.039 * ZXIIIZX\n",
            "-0.039 * IXZZZZX\n",
            "-0.011 * XIZZIZZ\n",
            "+0.011 * XZIIZZZ\n",
            "+0.011 * XIIIIII\n",
            "-0.011 * XZZZZII\n",
            "+0.014 * XIIIIXI\n",
            "-0.014 * XZZZZXI\n",
            "+0.014 * YIZZZYZ\n",
            "-0.014 * YZIIIYZ\n",
            "+0.103 * ZIZZIIZ\n",
            "-0.012 * IIIIZZX\n",
            "+0.012 * ZIZZIZX\n",
            "+0.024 * IYIIYZZ\n",
            "+0.024 * IXIIXZZ\n",
            "-0.024 * IYZZYII\n",
            "-0.024 * IXZZXII\n",
            "-0.015 * IYZZYXI\n",
            "-0.015 * IXZZXXI\n",
            "+0.015 * ZYIIXYZ\n",
            "-0.015 * ZXIIYYZ\n",
            "-0.001 * XZIIXIZ\n",
            "-0.001 * YZIIYIZ\n",
            "-0.018 * YZZZYZX\n",
            "-0.018 * XZZZXZX\n",
            "-0.018 * XZIIXZX\n",
            "-0.018 * YZIIYZX\n",
            "-0.012 * IYIYIZZ\n",
            "-0.012 * IXIXIZZ\n",
            "+0.012 * ZYZYZZI\n",
            "+0.012 * ZXZXZZI\n",
            "-0.012 * IYYIIZZ\n",
            "-0.012 * IXXIIZZ\n",
            "+0.012 * ZYYZZZI\n",
            "+0.012 * ZXXZZZI\n",
            "+0.198 * ZZZZZIZ\n",
            "-0.036 * YYZZIZZ\n",
            "-0.036 * XXZZIZZ\n",
            "+0.036 * YYIIIII\n",
            "+0.036 * XXIIIII\n",
            "+0.014 * YYIIIXI\n",
            "+0.014 * XXIIIXI\n",
            "-0.014 * XYZZZYZ\n",
            "+0.014 * YXZZZYZ\n",
            "+0.107 * IIZZZIZ\n",
            "-0.009 * ZIIIIZX\n",
            "+0.009 * IIZZZZX\n",
            "+0.174 * ZIIZZZI\n",
            "+0.174 * ZIZIZZI\n",
            "+0.081 * ZIIIZZZ\n",
            "+0.182 * ZIIIZII\n",
            "+0.026 * ZIZIZXZ\n",
            "-0.026 * IIZIIXZ\n",
            "+0.026 * ZIIZZXZ\n",
            "-0.026 * IIIZIXZ\n",
            "+0.017 * ZIZZZXI\n",
            "-0.017 * IIZZIXI\n",
            "+0.103 * IZZZIZI\n",
            "-0.001 * IZIIIXZ\n",
            "+0.001 * ZZIIZXZ\n",
            "+0.024 * IZIIYZY\n",
            "-0.024 * ZIZZYZY\n",
            "+0.024 * ZZIIXIX\n",
            "-0.024 * IIZZXIX\n",
            "-0.012 * IXIIZZI\n",
            "+0.012 * ZXZZIZI\n",
            "+0.018 * IXZZZXZ\n",
            "-0.018 * ZXIIIXZ\n",
            "-0.018 * ZXZZIXZ\n",
            "+0.018 * IXIIZXZ\n",
            "-0.015 * YIZZZZY\n",
            "+0.015 * YZIIIZY\n",
            "-0.015 * XIZZIIX\n",
            "+0.015 * XZIIZIX\n",
            "+0.231 * ZIIIIZI\n",
            "-0.003 * ZIZZIXZ\n",
            "+0.003 * IIZZZXZ\n",
            "+0.004 * ZIIXXZI\n",
            "+0.004 * ZIIYYZI\n",
            "+0.004 * IIIYYII\n",
            "+0.004 * IIIXXII\n",
            "+0.004 * ZIXIXZI\n",
            "+0.004 * ZIYIYZI\n",
            "+0.004 * IIYIYII\n",
            "+0.004 * IIXIXII\n",
            "-0.021 * ZYIIXZY\n",
            "+0.021 * ZXIIYZY\n",
            "+0.021 * IYIIYIX\n",
            "+0.021 * IXIIXIX\n",
            "-0.003 * XZZZXZI\n",
            "-0.003 * YZZZYZI\n",
            "+0.041 * XZIIXXZ\n",
            "+0.041 * YZIIYXZ\n",
            "+0.003 * XZZXZZI\n",
            "+0.003 * YZZYZZI\n",
            "+0.003 * YZZYIII\n",
            "+0.003 * XZZXIII\n",
            "+0.003 * XZXZZZI\n",
            "+0.003 * YZYZZZI\n",
            "+0.003 * YZYZIII\n",
            "+0.003 * XZXZIII\n",
            "+0.102 * ZZIIZZI\n",
            "-0.007 * ZZZZZXZ\n",
            "+0.007 * IZZZIXZ\n",
            "+0.024 * XYZZZZY\n",
            "-0.024 * YXZZZZY\n",
            "-0.024 * YYZZIIX\n",
            "-0.024 * XXZZIIX\n",
            "+0.223 * IIIIZZI\n",
            "+0.389 * IIZZIII\n",
            "+0.171 * IIIZIIZ\n",
            "+0.191 * IIIZIZI\n",
            "+0.172 * ZZZIZII\n",
            "-0.012 * ZZIYIIY\n",
            "+0.012 * IIZYZIY\n",
            "-0.012 * ZZIXIIX\n",
            "+0.012 * IIZXZIX\n",
            "+0.014 * ZXIZIII\n",
            "-0.014 * IXZIZII\n",
            "+0.174 * IIIZZII\n",
            "-0.003 * IIZXYYZ\n",
            "+0.003 * IIZYXYZ\n",
            "+0.003 * IIZYYXZ\n",
            "+0.003 * IIZXXXZ\n",
            "-0.026 * YZZIYII\n",
            "-0.026 * XZZIXII\n",
            "+0.012 * IIXXIII\n",
            "+0.012 * IIYYIII\n",
            "-0.013 * IYIXIIY\n",
            "+0.013 * IXIYIIY\n",
            "+0.013 * IYIYIIX\n",
            "+0.013 * IXIXIIX\n",
            "-0.004 * YZIXIYZ\n",
            "+0.004 * XZIYIYZ\n",
            "+0.004 * YZIYIXZ\n",
            "+0.004 * XZIXIXZ\n",
            "+0.171 * IZIZIII\n",
            "+0.191 * ZIIZIII\n",
            "+0.171 * IIZIIIZ\n",
            "+0.191 * IIZIIZI\n",
            "+0.172 * ZZIZZII\n",
            "-0.012 * ZZYIIIY\n",
            "+0.012 * IIYZZIY\n",
            "-0.012 * ZZXIIIX\n",
            "+0.012 * IIXZZIX\n",
            "+0.014 * ZXZIIII\n",
            "-0.014 * IXIZZII\n",
            "+0.174 * IIZIZII\n",
            "-0.003 * IIXZYYZ\n",
            "+0.003 * IIYZXYZ\n",
            "+0.003 * IIYZYXZ\n",
            "+0.003 * IIXZXXZ\n",
            "-0.026 * YZIZYII\n",
            "-0.026 * XZIZXII\n",
            "-0.013 * IYXIIIY\n",
            "+0.013 * IXYIIIY\n",
            "+0.013 * IYYIIIX\n",
            "+0.013 * IXXIIIX\n",
            "-0.004 * YZXIIYZ\n",
            "+0.004 * XZYIIYZ\n",
            "+0.004 * YZYIIXZ\n",
            "+0.004 * XZXIIXZ\n",
            "+0.171 * IZZIIII\n",
            "+0.191 * ZIZIIII\n",
            "+0.074 * IIIIIZZ\n",
            "-0.036 * ZZZZXYY\n",
            "+0.036 * IIIIXYY\n",
            "-0.036 * ZZZZXXX\n",
            "+0.036 * IIIIXXX\n",
            "+0.014 * XIIIIYY\n",
            "-0.014 * XZZZZYY\n",
            "+0.014 * XIIIIXX\n",
            "-0.014 * XZZZZXX\n",
            "+0.102 * IIIIZIZ\n",
            "-0.024 * IYZZYYY\n",
            "-0.024 * IXZZXYY\n",
            "-0.024 * IYZZYXX\n",
            "-0.024 * IXZZXXX\n",
            "+0.007 * YZZZYIZ\n",
            "+0.007 * XZZZXIZ\n",
            "+0.035 * YYIIIYY\n",
            "+0.035 * XXIIIYY\n",
            "+0.035 * YYIIIXX\n",
            "+0.035 * XXIIIXX\n",
            "+0.109 * ZIIIIIZ\n",
            "+0.107 * ZZZZZZI\n",
            "-0.009 * ZXIIIZI\n",
            "+0.009 * IXZZZZI\n",
            "+0.109 * IZIIIZI\n",
            "+0.062 * ZZZZIII\n",
            "+0.010 * XIIIXII\n",
            "+0.010 * YIIIYII\n",
            "+0.093 * IZZZZII\n",
            "+0.012 * ZXIIZII\n",
            "-0.012 * IXZZIII\n",
            "+0.003 * XYZZYII\n",
            "+0.020 * XXZZXII\n",
            "+0.017 * YYZZXII\n",
            "+0.017 * YYIIXII\n",
            "+0.020 * XXIIXII\n",
            "+0.003 * XYIIYII\n",
            "+0.005 * IXIIIII\n",
            "-0.005 * ZXZZZII\n",
            "+0.081 * IZIIZII\n",
            "-0.017 * YIZZYII\n",
            "-0.017 * XIZZXII\n",
            "+0.074 * ZZIIIII\n"
          ]
        }
      ],
      "source": [
        "# define your molecule problem\n",
        "\n",
        "gs_problem = MoleculeProblem(\n",
        "    molecule=molecule,\n",
        "    basis=\"sto3g\",\n",
        "    mapping=\"jordan_wigner\",  #'bravyi_kitaev'\n",
        "    z2_symmetries=True,\n",
        "    freeze_core=True,\n",
        ")\n",
        "\n",
        "operator = gs_problem.generate_hamiltonian()\n",
        "gs_problem = gs_problem.update_problem(operator.num_qubits)\n",
        "print(\"Your Hamiltonian is\", operator.show(), sep=\"\\n\")"
      ]
    },
    {
      "cell_type": "code",
      "execution_count": 59,
      "id": "7a0b57c6-a057-41cb-8163-cc91d559bbdd",
      "metadata": {
        "execution": {
          "iopub.execute_input": "2024-05-07T15:16:41.786010Z",
          "iopub.status.busy": "2024-05-07T15:16:41.784773Z",
          "iopub.status.idle": "2024-05-07T15:16:41.791592Z",
          "shell.execute_reply": "2024-05-07T15:16:41.790923Z"
        },
        "tags": [],
        "id": "7a0b57c6-a057-41cb-8163-cc91d559bbdd",
        "outputId": "1460479e-94e8-4c11-baa9-d0b96c9916b7",
        "colab": {
          "base_uri": "https://localhost:8080/",
          "height": 0
        }
      },
      "outputs": [
        {
          "output_type": "stream",
          "name": "stdout",
          "text": [
            "Your Pauli list is\n",
            "[('IIIIIII', (-0.7022930768258964+0j)), ('ZIZZZIZ', (-0.230190604546995+0j)), ('IIIIIZX', (-0.022105135983230894+0j)), ('ZIZZZZX', (0.022105135983230894+0j)), ('ZIIIZZI', (-0.25083590558353214+0j)), ('ZIZZZXZ', (-0.05762054716987154+0j)), ('IIZZIXZ', (0.05762054716987154+0j)), ('IIIZIII', (-0.8572771753840476+0j)), ('IIZIIII', (-0.8572771753840476+0j)), ('IIIIIIZ', (-0.49539136059267835+0j)), ('IIIIIZI', (-0.7554221157797676+0j)), ('ZZZZZII', (-0.23019060454699486+0j)), ('ZXIIIII', (-0.022105135983230894+0j)), ('IXZZZII', (0.022105135983230894+0j)), ('IIIIZII', (-0.2508359055835321+0j)), ('YZZZYII', (0.05762054716987154+0j)), ('XZZZXII', (0.05762054716987154+0j)), ('IZIIIII', (-0.4953913605926782+0j)), ('ZIIIIII', (-0.7554221157797675+0j)), ('IIZZIZZ', (0.06177536902294071+0j)), ('IIIIIXI', (0.009628629697052212+0j)), ('ZIIIZXI', (-0.009628629697052212+0j)), ('ZIZIZIZ', (0.1721312352568632+0j)), ('ZIIZZIZ', (0.17213123525686325+0j)), ('ZIZZZII', (0.15942306177427756+0j)), ('ZIZZZZZ', (0.09279153113235829+0j)), ('ZIIIZIX', (0.011782782608242623+0j)), ('IIZZIIX', (-0.011782782608242623+0j)), ('ZIZZZYY', (0.002973281387454195+0j)), ('IIZZIXX', (0.02038882910889495+0j)), ('IIZZIYY', (0.01741554772144075+0j)), ('IIIIIYY', (0.01741554772144075+0j)), ('IIIIIXX', (0.02038882910889495+0j)), ('ZIIIZYY', (0.002973281387454195+0j)), ('IIIZIZX', (0.014419981611826815+0j)), ('ZIZIZZX', (-0.014419981611826815+0j)), ('IIZIIZX', (0.01441998161182683+0j)), ('ZIIZZZX', (-0.01441998161182683+0j)), ('IIIIIIX', (0.004816137943065805+0j)), ('ZIZZZIX', (-0.004816137943065805+0j)), ('IZIIIIZ', (0.20240438090181115+0j)), ('ZZZZZZX', (0.002565939742358075+0j)), ('IZIIIZX', (-0.002565939742358075+0j)), ('ZZIIXZZ', (0.04108938500992233+0j)), ('IIZZXZZ', (-0.04108938500992233+0j)), ('ZZZZXII', (-0.04108938500992233+0j)), ('IIIIXII', (0.04108938500992233+0j)), ('ZZZZXXI', (-0.011051936749184695+0j)), ('IIIIXXI', (0.011051936749184695+0j)), ('IZIIYYZ', (-0.011051936749184695+0j)), ('ZIZZYYZ', (0.011051936749184695+0j)), ('ZZIXIZZ', (0.01234821063234333+0j)), ('IIZXZZZ', (-0.01234821063234333+0j)), ('IZZXZZI', (-0.01234821063234333+0j)), ('ZIIXIZI', (0.01234821063234333+0j)), ('ZZXIIZZ', (0.012348210632343334+0j)), ('IIXZZZZ', (-0.012348210632343334+0j)), ('IZXZZZI', (-0.012348210632343334+0j)), ('ZIXIIZI', (0.012348210632343334+0j)), ('IXZZZIZ', (0.002565939742358075+0j)), ('ZXIIIIZ', (-0.002565939742358075+0j)), ('ZXIIIZX', (0.038895655891840034+0j)), ('IXZZZZX', (-0.038895655891840034+0j)), ('XIZZIZZ', (-0.011051936749184699+0j)), ('XZIIZZZ', (0.011051936749184699+0j)), ('XIIIIII', (0.011051936749184699+0j)), ('XZZZZII', (-0.011051936749184699+0j)), ('XIIIIXI', (0.014149650962831172+0j)), ('XZZZZXI', (-0.014149650962831172+0j)), ('YIZZZYZ', (0.014149650962831172+0j)), ('YZIIIYZ', (-0.014149650962831172+0j)), ('ZIZZIIZ', (0.10286475403286305+0j)), ('IIIIZZX', (-0.011879666226520692+0j)), ('ZIZZIZX', (0.011879666226520692+0j)), ('IYIIYZZ', (0.023662448834763317+0j)), ('IXIIXZZ', (0.023662448834763317+0j)), ('IYZZYII', (-0.023662448834763317+0j)), ('IXZZXII', (-0.023662448834763317+0j)), ('IYZZYXI', (-0.015307708024581802+0j)), ('IXZZXXI', (-0.015307708024581802+0j)), ('ZYIIXYZ', (0.015307708024581802+0j)), ('ZXIIYYZ', (-0.015307708024581802+0j)), ('XZIIXIZ', (-0.0014233070521324851+0j)), ('YZIIYIZ', (-0.0014233070521324851+0j)), ('YZZZYZX', (-0.018280989412035993+0j)), ('XZZZXZX', (-0.018280989412035993+0j)), ('XZIIXZX', (-0.018280989412035993+0j)), ('YZIIYZX', (-0.018280989412035993+0j)), ('IYIYIZZ', (-0.01185327361540123+0j)), ('IXIXIZZ', (-0.01185327361540123+0j)), ('ZYZYZZI', (0.01185327361540123+0j)), ('ZXZXZZI', (0.01185327361540123+0j)), ('IYYIIZZ', (-0.011853273615401231+0j)), ('IXXIIZZ', (-0.011853273615401231+0j)), ('ZYYZZZI', (0.011853273615401231+0j)), ('ZXXZZZI', (0.011853273615401231+0j)), ('ZZZZZIZ', (0.19831871766611753+0j)), ('YYZZIZZ', (-0.03569653713347675+0j)), ('XXZZIZZ', (-0.03569653713347675+0j)), ('YYIIIII', (0.03569653713347675+0j)), ('XXIIIII', (0.03569653713347675+0j)), ('YYIIIXI', (0.01389796708217946+0j)), ('XXIIIXI', (0.01389796708217946+0j)), ('XYZZZYZ', (-0.01389796708217946+0j)), ('YXZZZYZ', (0.01389796708217946+0j)), ('IIZZZIZ', (0.10694118209518946+0j)), ('ZIIIIZX', (-0.009081829139113658+0j)), ('IIZZZZX', (0.009081829139113658+0j)), ('ZIIZZZI', (0.1744698035079175+0j)), ('ZIZIZZI', (0.17446980350791766+0j)), ('ZIIIZZZ', (0.0810458258950273+0j)), ('ZIIIZII', (0.18200001297184848+0j)), ('ZIZIZXZ', (0.026286745525201403+0j)), ('IIZIIXZ', (-0.026286745525201403+0j)), ('ZIIZZXZ', (0.026286745525201403+0j)), ('IIIZIXZ', (-0.026286745525201403+0j)), ('ZIZZZXI', (0.017265081835497856+0j)), ('IIZZIXI', (-0.017265081835497856+0j)), ('IZZZIZI', (0.10286475403286305+0j)), ('IZIIIXZ', (-0.0014233070521324851+0j)), ('ZZIIZXZ', (0.0014233070521324851+0j)), ('IZIIYZY', (0.023662448834763317+0j)), ('ZIZZYZY', (-0.023662448834763317+0j)), ('ZZIIXIX', (0.023662448834763317+0j)), ('IIZZXIX', (-0.023662448834763317+0j)), ('IXIIZZI', (-0.011879666226520692+0j)), ('ZXZZIZI', (0.011879666226520692+0j)), ('IXZZZXZ', (0.018280989412035993+0j)), ('ZXIIIXZ', (-0.018280989412035993+0j)), ('ZXZZIXZ', (-0.018280989412035993+0j)), ('IXIIZXZ', (0.018280989412035993+0j)), ('YIZZZZY', (-0.015307708024581803+0j)), ('YZIIIZY', (0.015307708024581803+0j)), ('XIZZIIX', (-0.015307708024581803+0j)), ('XZIIZIX', (0.015307708024581803+0j)), ('ZIIIIZI', (0.23075467521596388+0j)), ('ZIZZIXZ', (-0.002551353102471067+0j)), ('IIZZZXZ', (0.002551353102471067+0j)), ('ZIIXXZI', (0.0036560013958361033+0j)), ('ZIIYYZI', (0.0036560013958361033+0j)), ('IIIYYII', (0.0036560013958361033+0j)), ('IIIXXII', (0.0036560013958361033+0j)), ('ZIXIXZI', (0.0036560013958361033+0j)), ('ZIYIYZI', (0.0036560013958361033+0j)), ('IIYIYII', (0.0036560013958361033+0j)), ('IIXIXII', (0.0036560013958361033+0j)), ('ZYIIXZY', (-0.020873062000978698+0j)), ('ZXIIYZY', (0.020873062000978698+0j)), ('IYIIYIX', (0.020873062000978698+0j)), ('IXIIXIX', (0.020873062000978698+0j)), ('XZZZXZI', (-0.0025513531024710665+0j)), ('YZZZYZI', (-0.0025513531024710665+0j)), ('XZIIXXZ', (0.04125144772662373+0j)), ('YZIIYXZ', (0.04125144772662373+0j)), ('XZZXZZI', (0.0034405062273070984+0j)), ('YZZYZZI', (0.0034405062273070984+0j)), ('YZZYIII', (0.0034405062273070984+0j)), ('XZZXIII', (0.0034405062273070984+0j)), ('XZXZZZI', (0.0034405062273070992+0j)), ('YZYZZZI', (0.0034405062273070992+0j)), ('YZYZIII', (0.0034405062273070992+0j)), ('XZXZIII', (0.0034405062273070992+0j)), ('ZZIIZZI', (0.10191888789600599+0j)), ('ZZZZZXZ', (-0.006564129606561605+0j)), ('IZZZIXZ', (0.006564129606561605+0j)), ('XYZZZZY', (0.02382921144205946+0j)), ('YXZZZZY', (-0.02382921144205946+0j)), ('YYZZIIX', (-0.02382921144205946+0j)), ('XXZZIIX', (-0.02382921144205946+0j)), ('IIIIZZI', (0.22325146069847226+0j)), ('IIZZIII', (0.3892355930337423+0j)), ('IIIZIIZ', (0.17086285707799762+0j)), ('IIIZIZI', (0.19133630882633207+0j)), ('ZZZIZII', (0.1721312352568632+0j)), ('ZZIYIIY', (-0.01185327361540123+0j)), ('IIZYZIY', (0.01185327361540123+0j)), ('ZZIXIIX', (-0.01185327361540123+0j)), ('IIZXZIX', (0.01185327361540123+0j)), ('ZXIZIII', (0.014419981611826815+0j)), ('IXZIZII', (-0.014419981611826815+0j)), ('IIIZZII', (0.1744698035079175+0j)), ('IIZXYYZ', (-0.0034405062273070984+0j)), ('IIZYXYZ', (0.0034405062273070984+0j)), ('IIZYYXZ', (0.0034405062273070984+0j)), ('IIZXXXZ', (0.0034405062273070984+0j)), ('YZZIYII', (-0.026286745525201403+0j)), ('XZZIXII', (-0.026286745525201403+0j)), ('IIXXIII', (0.012124689610585541+0j)), ('IIYYIII', (0.012124689610585541+0j)), ('IYIXIIY', (-0.012722452161354642+0j)), ('IXIYIIY', (0.012722452161354642+0j)), ('IYIYIIX', (0.012722452161354642+0j)), ('IXIXIIX', (0.012722452161354642+0j)), ('YZIXIYZ', (-0.004138154161062567+0j)), ('XZIYIYZ', (0.004138154161062567+0j)), ('YZIYIXZ', (0.004138154161062567+0j)), ('XZIXIXZ', (0.004138154161062567+0j)), ('IZIZIII', (0.17086285707799762+0j)), ('ZIIZIII', (0.19133630882633207+0j)), ('IIZIIIZ', (0.17086285707799764+0j)), ('IIZIIZI', (0.19133630882633207+0j)), ('ZZIZZII', (0.17213123525686325+0j)), ('ZZYIIIY', (-0.011853273615401231+0j)), ('IIYZZIY', (0.011853273615401231+0j)), ('ZZXIIIX', (-0.011853273615401231+0j)), ('IIXZZIX', (0.011853273615401231+0j)), ('ZXZIIII', (0.01441998161182683+0j)), ('IXIZZII', (-0.01441998161182683+0j)), ('IIZIZII', (0.17446980350791766+0j)), ('IIXZYYZ', (-0.0034405062273070992+0j)), ('IIYZXYZ', (0.0034405062273070992+0j)), ('IIYZYXZ', (0.0034405062273070992+0j)), ('IIXZXXZ', (0.0034405062273070992+0j)), ('YZIZYII', (-0.026286745525201403+0j)), ('XZIZXII', (-0.026286745525201403+0j)), ('IYXIIIY', (-0.012722452161354645+0j)), ('IXYIIIY', (0.012722452161354645+0j)), ('IYYIIIX', (0.012722452161354645+0j)), ('IXXIIIX', (0.012722452161354645+0j)), ('YZXIIYZ', (-0.004138154161062567+0j)), ('XZYIIYZ', (0.004138154161062567+0j)), ('YZYIIXZ', (0.004138154161062567+0j)), ('XZXIIXZ', (0.004138154161062567+0j)), ('IZZIIII', (0.17086285707799764+0j)), ('ZIZIIII', (0.19133630882633207+0j)), ('IIIIIZZ', (0.07373286867690823+0j)), ('ZZZZXYY', (-0.035696537133476744+0j)), ('IIIIXYY', (0.035696537133476744+0j)), ('ZZZZXXX', (-0.035696537133476744+0j)), ('IIIIXXX', (0.035696537133476744+0j)), ('XIIIIYY', (0.013897967082179458+0j)), ('XZZZZYY', (-0.013897967082179458+0j)), ('XIIIIXX', (0.013897967082179458+0j)), ('XZZZZXX', (-0.013897967082179458+0j)), ('IIIIZIZ', (0.10191888789600599+0j)), ('IYZZYYY', (-0.02382921144205946+0j)), ('IXZZXYY', (-0.02382921144205946+0j)), ('IYZZYXX', (-0.02382921144205946+0j)), ('IXZZXXX', (-0.02382921144205946+0j)), ('YZZZYIZ', (0.006564129606561605+0j)), ('XZZZXIZ', (0.006564129606561605+0j)), ('YYIIIYY', (0.0351660524024311+0j)), ('XXIIIYY', (0.0351660524024311+0j)), ('YYIIIXX', (0.0351660524024311+0j)), ('XXIIIXX', (0.0351660524024311+0j)), ('ZIIIIIZ', (0.10889892107933934+0j)), ('ZZZZZZI', (0.10694118209518946+0j)), ('ZXIIIZI', (-0.009081829139113658+0j)), ('IXZZZZI', (0.009081829139113658+0j)), ('IZIIIZI', (0.10889892107933934+0j)), ('ZZZZIII', (0.06177536902294071+0j)), ('XIIIXII', (0.009628629697052212+0j)), ('YIIIYII', (0.009628629697052212+0j)), ('IZZZZII', (0.09279153113235829+0j)), ('ZXIIZII', (0.011782782608242623+0j)), ('IXZZIII', (-0.011782782608242623+0j)), ('XYZZYII', (0.002973281387454195+0j)), ('XXZZXII', (0.02038882910889495+0j)), ('YYZZXII', (0.01741554772144075+0j)), ('YYIIXII', (0.01741554772144075+0j)), ('XXIIXII', (0.02038882910889495+0j)), ('XYIIYII', (0.002973281387454195+0j)), ('IXIIIII', (0.004816137943065805+0j)), ('ZXZZZII', (-0.004816137943065805+0j)), ('IZIIZII', (0.0810458258950273+0j)), ('YIZZYII', (-0.017265081835497856+0j)), ('XIZZXII', (-0.017265081835497856+0j)), ('ZZIIIII', (0.07373286867690823+0j))]\n"
          ]
        }
      ],
      "source": [
        "pauli_ops = operator.pauli_list\n",
        "N = operator.num_qubits\n",
        "print(\"Your Pauli list is\", pauli_ops, sep=\"\\n\")"
      ]
    },
    {
      "cell_type": "markdown",
      "id": "685f4a01-caf3-4d0c-b9f3-4fc89bc5192a",
      "metadata": {
        "id": "685f4a01-caf3-4d0c-b9f3-4fc89bc5192a"
      },
      "source": [
        "## 2. Preparing the Molecule for QPE"
      ]
    },
    {
      "cell_type": "markdown",
      "id": "1b1bafad-d35c-4504-9665-02b0ae86d52f",
      "metadata": {
        "id": "1b1bafad-d35c-4504-9665-02b0ae86d52f"
      },
      "source": [
        "### 2.1 Chose the Algorithm's Precision\n",
        "\n",
        "For QPE algorithms, the precision is set by the number of qubits chosen $n$, such that the resolution is $1/{2^n}$. In case the matrix needs to be normlized, the resolution will be distorted. In case of normalization, that the span of results in the QPE is strached between the lowest and highest possible phase, thus the reslution will be mapped to $normalization-coefficient/{2^n} ~\\sim 1/{((\\lambda_{max}-\\lambda_{min})*2^n)}$.\n",
        "\n",
        "Here you can chose the precision in the parameter `n_qpe`, or by setting your desired resolution. If you chose your desired resolution and set the parameter `get_recommended_n` to be True, the number of qubits will be calculated for you accordingly.\n"
      ]
    },
    {
      "cell_type": "code",
      "execution_count": 60,
      "id": "4e96164f-aa00-4723-9f59-b1c13ccb58d8",
      "metadata": {
        "execution": {
          "iopub.execute_input": "2024-05-07T15:16:41.796364Z",
          "iopub.status.busy": "2024-05-07T15:16:41.795124Z",
          "iopub.status.idle": "2024-05-07T15:16:41.800121Z",
          "shell.execute_reply": "2024-05-07T15:16:41.799301Z"
        },
        "tags": [],
        "id": "4e96164f-aa00-4723-9f59-b1c13ccb58d8"
      },
      "outputs": [],
      "source": [
        "# `n_qpe`-  The precision of the QPE (the number of qubits to be used in the QPE. Creates resolution of 1/2^n_qpe\n",
        "n_qpe = 6"
      ]
    },
    {
      "cell_type": "code",
      "execution_count": 61,
      "id": "74aeea8b-1e16-408f-bc5f-c5888b552a6f",
      "metadata": {
        "execution": {
          "iopub.execute_input": "2024-05-07T15:16:41.804701Z",
          "iopub.status.busy": "2024-05-07T15:16:41.803523Z",
          "iopub.status.idle": "2024-05-07T15:16:41.810737Z",
          "shell.execute_reply": "2024-05-07T15:16:41.810086Z"
        },
        "tags": [],
        "id": "74aeea8b-1e16-408f-bc5f-c5888b552a6f"
      },
      "outputs": [],
      "source": [
        "# recommanded n_qpe:\n",
        "get_recommanded_n = False\n",
        "\n",
        "import math\n",
        "\n",
        "desired_resolution = 0.02\n",
        "\n",
        "\n",
        "def get_nqpe(pauli_operator, desired_resolution):\n",
        "    N = pauli_operator.num_qubits\n",
        "    A = 0\n",
        "    for a, b in pauli_operator.pauli_list:\n",
        "        A = A + abs(b)\n",
        "    nqpe = math.log2(2 * N * A / desired_resolution)\n",
        "    return math.ceil(nqpe)\n",
        "\n",
        "\n",
        "if get_recommanded_n:\n",
        "    n_qpe = get_nqpe(operator, desired_resolution)\n",
        "    print(\"number of qubits for QPE is\", n_qpe)"
      ]
    },
    {
      "cell_type": "markdown",
      "id": "fa3d1079-c12b-48db-8935-1ea059fdbce9",
      "metadata": {
        "id": "fa3d1079-c12b-48db-8935-1ea059fdbce9"
      },
      "source": [
        "### 2.3 Normalize the Matrix\n",
        "\n",
        "As QPE obtains a phase in the form $e^{2\\pi i\\theta}$, there is meaning only for $\\theta \\in [0,2\\pi)$. Generally, our matrix M can have any eigenvalue, thus \\theta can have any value. In order to fix this discrepancy, the values of the matrix are stretched to be rescaled. We assume\n",
        "$\\theta \\in [\\lambda_{min}, \\lambda_{max}]$\n",
        "and use a normalization function in order to map those values into $[0, 1-1/{2^n}]$, where n is the number of qubits chosen for the QPE process in section 2.2.\n",
        "\n",
        "We perform the normalization procedure as following:\n",
        "\n",
        "a. We evaluate $\\lambda_{min},\\lambda_{max}$ (in the function ` normalization_params()` below). In order to do so we use rough estimation of the absolute max value that can take place by adding together all the pauli coefficients and multiplying by the matrix's dimensions. That will yield us a value $\\lambda$ (which is referred in the code as `normalization_coeff`) and we now assume that the domain is $\\theta \\in [-\\lambda, \\lambda]$.\n",
        "In general, one can build a more accurate assessment, which will decrease the span of solutions and thus achieve a better resolution.\n",
        "\n",
        "b. We make sure only positive values are available by adding $\\lambda*I^n$ to the pauli list. Now our evaluated span is $[0, 2*\\lambda]$.\n",
        "\n",
        "c. We normlize our matrix by multiplying all of the pauli coefficients by $(1-1/2^n)/(2*\\lambda)$. Now the span of $\\theta$ is $[0, 1-1/2^n]$, as required for proper QPE process.\n",
        "\n",
        "The values of the matrix's eigenvalues should be now between $0$ to $1-(1/2^n)$. The QPE procedure will be performed on this new normalized matrix. After the phases are obtained, the original phases of the pre-normalized matrix will be gathered by performing opposite steps to this normalization procedure.\n",
        "\n",
        "* Note that in case your matrix's eigenvalues are naturally between the values $0$ to $1-(1/2^n)$, you may not want to normalize it, as the normalization procedure may enlarge the span, thus lowering the resolution of the agorithm. In that case, you may skip those lines or change the value `normalize` to False."
      ]
    },
    {
      "cell_type": "code",
      "execution_count": 62,
      "id": "70d8b16f-5f50-4272-9b7b-0ca7cad00b60",
      "metadata": {
        "execution": {
          "iopub.execute_input": "2024-05-07T15:16:41.815396Z",
          "iopub.status.busy": "2024-05-07T15:16:41.814254Z",
          "iopub.status.idle": "2024-05-07T15:16:41.824473Z",
          "shell.execute_reply": "2024-05-07T15:16:41.823778Z"
        },
        "tags": [],
        "id": "70d8b16f-5f50-4272-9b7b-0ca7cad00b60",
        "outputId": "4c9491de-b9f5-4855-edac-2798e3def5ab",
        "colab": {
          "base_uri": "https://localhost:8080/",
          "height": 0
        }
      },
      "outputs": [
        {
          "output_type": "stream",
          "name": "stdout",
          "text": [
            "[('IIIIIII', (0.4889281053643878+0j)), ('ZIZZZIZ', (-0.0010683317925043465+0j)), ('IIIIIZX', (-0.00010259158750198293+0j)), ('ZIZZZZX', (0.00010259158750198293+0j)), ('ZIIIZZI', (-0.001164148176959137+0j)), ('ZIZZZXZ', (-0.0002674212640616383+0j)), ('IIZZIXZ', (0.0002674212640616383+0j)), ('IIIZIII', (-0.003978687415385471+0j)), ('IIZIIII', (-0.003978687415385471+0j)), ('IIIIIIZ', (-0.0022991483136102307+0j)), ('IIIIIZI', (-0.0035059704744971982+0j)), ('ZZZZZII', (-0.0010683317925043458+0j)), ('ZXIIIII', (-0.00010259158750198293+0j)), ('IXZZZII', (0.00010259158750198293+0j)), ('IIIIZII', (-0.0011641481769591368+0j)), ('YZZZYII', (0.0002674212640616383+0j)), ('XZZZXII', (0.0002674212640616383+0j)), ('IZIIIII', (-0.0022991483136102302+0j)), ('ZIIIIII', (-0.003505970474497198+0j)), ('IIZZIZZ', (0.0002867041026751466+0j)), ('IIIIIXI', (4.46871897480607e-05+0j)), ('ZIIIZXI', (-4.46871897480607e-05+0j)), ('ZIZIZIZ', (0.0007988739221995871+0j)), ('ZIIZZIZ', (0.0007988739221995873+0j)), ('ZIZZZII', (0.0007398943396800271+0j)), ('ZIZZZZZ', (0.00043065242814294217+0j)), ('ZIIIZIX', (5.4684774338750076e-05+0j)), ('IIZZIIX', (-5.4684774338750076e-05+0j)), ('ZIZZZYY', (1.3799221043490745e-05+0j)), ('IIZZIXX', (9.462607907840818e-05+0j)), ('IIZZIYY', (8.082685803491741e-05+0j)), ('IIIIIYY', (8.082685803491741e-05+0j)), ('IIIIIXX', (9.462607907840818e-05+0j)), ('ZIIIZYY', (1.3799221043490745e-05+0j)), ('IIIZIZX', (6.69242119310632e-05+0j)), ('ZIZIZZX', (-6.69242119310632e-05+0j)), ('IIZIIZX', (6.692421193106327e-05+0j)), ('ZIIZZZX', (-6.692421193106327e-05+0j)), ('IIIIIIX', (2.2352055991986643e-05+0j)), ('ZIZZZIX', (-2.2352055991986643e-05+0j)), ('IZIIIIZ', (0.0009393738527474023+0j)), ('ZZZZZZX', (1.1908718037411872e-05+0j)), ('IZIIIZX', (-1.1908718037411872e-05+0j)), ('ZZIIXZZ', (0.00019069890548721176+0j)), ('IIZZXZZ', (-0.00019069890548721176+0j)), ('ZZZZXII', (-0.00019069890548721176+0j)), ('IIIIXII', (0.00019069890548721176+0j)), ('ZZZZXXI', (-5.1292864107712246e-05+0j)), ('IIIIXXI', (5.1292864107712246e-05+0j)), ('IZIIYYZ', (-5.1292864107712246e-05+0j)), ('ZIZZYYZ', (5.1292864107712246e-05+0j)), ('ZZIXIZZ', (5.7308968039915556e-05+0j)), ('IIZXZZZ', (-5.7308968039915556e-05+0j)), ('IZZXZZI', (-5.7308968039915556e-05+0j)), ('ZIIXIZI', (5.7308968039915556e-05+0j)), ('ZZXIIZZ', (5.7308968039915576e-05+0j)), ('IIXZZZZ', (-5.7308968039915576e-05+0j)), ('IZXZZZI', (-5.7308968039915576e-05+0j)), ('ZIXIIZI', (5.7308968039915576e-05+0j)), ('IXZZZIZ', (1.1908718037411872e-05+0j)), ('ZXIIIIZ', (-1.1908718037411872e-05+0j)), ('ZXIIIZX', (0.0001805176447637257+0j)), ('IXZZZZX', (-0.0001805176447637257+0j)), ('XIZZIZZ', (-5.129286410771227e-05+0j)), ('XZIIZZZ', (5.129286410771227e-05+0j)), ('XIIIIII', (5.129286410771227e-05+0j)), ('XZZZZII', (-5.129286410771227e-05+0j)), ('XIIIIXI', (6.56695871935387e-05+0j)), ('XZZZZXI', (-6.56695871935387e-05+0j)), ('YIZZZYZ', (6.56695871935387e-05+0j)), ('YZIIIYZ', (-6.56695871935387e-05+0j)), ('ZIZZIIZ', (0.00047740300816235837+0j)), ('IIIIZZX', (-5.5134418449042965e-05+0j)), ('ZIZZIZX', (5.5134418449042965e-05+0j)), ('IYIIYZZ', (0.00010981919278779304+0j)), ('IXIIXZZ', (0.00010981919278779304+0j)), ('IYZZYII', (-0.00010981919278779304+0j)), ('IXZZXII', (-0.00010981919278779304+0j)), ('IYZZYXI', (-7.104421653185207e-05+0j)), ('IXZZXXI', (-7.104421653185207e-05+0j)), ('ZYIIXYZ', (7.104421653185207e-05+0j)), ('ZXIIYYZ', (-7.104421653185207e-05+0j)), ('XZIIXIZ', (-6.605674359651552e-06+0j)), ('YZIIYIZ', (-6.605674359651552e-06+0j)), ('YZZZYZX', (-8.48434375753428e-05+0j)), ('XZZZXZX', (-8.48434375753428e-05+0j)), ('XZIIXZX', (-8.48434375753428e-05+0j)), ('YZIIYZX', (-8.48434375753428e-05+0j)), ('IYIYIZZ', (-5.5011928369130214e-05+0j)), ('IXIXIZZ', (-5.5011928369130214e-05+0j)), ('ZYZYZZI', (5.5011928369130214e-05+0j)), ('ZXZXZZI', (5.5011928369130214e-05+0j)), ('IYYIIZZ', (-5.501192836913023e-05+0j)), ('IXXIIZZ', (-5.501192836913023e-05+0j)), ('ZYYZZZI', (5.501192836913023e-05+0j)), ('ZXXZZZI', (5.501192836913023e-05+0j)), ('ZZZZZIZ', (0.0009204119844437524+0j)), ('YYZZIZZ', (-0.00016567029561026026+0j)), ('XXZZIZZ', (-0.00016567029561026026+0j)), ('YYIIIII', (0.00016567029561026026+0j)), ('XXIIIII', (0.00016567029561026026+0j)), ('YYIIIXI', (6.450150350093865e-05+0j)), ('XXIIIXI', (6.450150350093865e-05+0j)), ('XYZZZYZ', (-6.450150350093865e-05+0j)), ('YXZZZYZ', (6.450150350093865e-05+0j)), ('IIZZZIZ', (0.0004963220153364809+0j)), ('ZIIIIZX', (-4.214944750895202e-05+0j)), ('IIZZZZX', (4.214944750895202e-05+0j)), ('ZIIZZZI', (0.0008097273921596632+0j)), ('ZIZIZZI', (0.000809727392159664+0j)), ('ZIIIZZZ', (0.0003761397326525245+0j)), ('ZIIIZII', (0.0008446756568395633+0j)), ('ZIZIZXZ', (0.00012199874978090467+0j)), ('IIZIIXZ', (-0.00012199874978090467+0j)), ('ZIIZZXZ', (0.00012199874978090467+0j)), ('IIIZIXZ', (-0.00012199874978090467+0j)), ('ZIZZZXI', (8.012853461743272e-05+0j)), ('IIZZIXI', (-8.012853461743272e-05+0j)), ('IZZZIZI', (0.00047740300816235837+0j)), ('IZIIIXZ', (-6.605674359651552e-06+0j)), ('ZZIIZXZ', (6.605674359651552e-06+0j)), ('IZIIYZY', (0.00010981919278779304+0j)), ('ZIZZYZY', (-0.00010981919278779304+0j)), ('ZZIIXIX', (0.00010981919278779304+0j)), ('IIZZXIX', (-0.00010981919278779304+0j)), ('IXIIZZI', (-5.5134418449042965e-05+0j)), ('ZXZZIZI', (5.5134418449042965e-05+0j)), ('IXZZZXZ', (8.48434375753428e-05+0j)), ('ZXIIIXZ', (-8.48434375753428e-05+0j)), ('ZXZZIXZ', (-8.48434375753428e-05+0j)), ('IXIIZXZ', (8.48434375753428e-05+0j)), ('YIZZZZY', (-7.104421653185207e-05+0j)), ('YZIIIZY', (7.104421653185207e-05+0j)), ('XIZZIIX', (-7.104421653185207e-05+0j)), ('XZIIZIX', (7.104421653185207e-05+0j)), ('ZIIIIZI', (0.0010709496866189413+0j)), ('ZIZZIXZ', (-1.1841020351975189e-05+0j)), ('IIZZZXZ', (1.1841020351975189e-05+0j)), ('ZIIXXZI', (1.6967775606213222e-05+0j)), ('ZIIYYZI', (1.6967775606213222e-05+0j)), ('IIIYYII', (1.6967775606213222e-05+0j)), ('IIIXXII', (1.6967775606213222e-05+0j)), ('ZIXIXZI', (1.6967775606213222e-05+0j)), ('ZIYIYZI', (1.6967775606213222e-05+0j)), ('IIYIYII', (1.6967775606213222e-05+0j)), ('IIXIXII', (1.6967775606213222e-05+0j)), ('ZYIIXZY', (-9.687344010605508e-05+0j)), ('ZXIIYZY', (9.687344010605508e-05+0j)), ('IYIIYIX', (9.687344010605508e-05+0j)), ('IXIIXIX', (9.687344010605508e-05+0j)), ('XZZZXZI', (-1.1841020351975187e-05+0j)), ('YZZZYZI', (-1.1841020351975187e-05+0j)), ('XZIIXXZ', (0.00019145105066260875+0j)), ('YZIIYXZ', (0.00019145105066260875+0j)), ('XZZXZZI', (1.5967646430117258e-05+0j)), ('YZZYZZI', (1.5967646430117258e-05+0j)), ('YZZYIII', (1.5967646430117258e-05+0j)), ('XZZXIII', (1.5967646430117258e-05+0j)), ('XZXZZZI', (1.5967646430117264e-05+0j)), ('YZYZZZI', (1.5967646430117264e-05+0j)), ('YZYZIII', (1.5967646430117264e-05+0j)), ('XZXZIII', (1.5967646430117264e-05+0j)), ('ZZIIZZI', (0.0004730131727585795+0j)), ('ZZZZZXZ', (-3.0464615889121246e-05+0j)), ('IZZZIXZ', (3.0464615889121246e-05+0j)), ('XYZZZZY', (0.00011059315050655396+0j)), ('YXZZZZY', (-0.00011059315050655396+0j)), ('YYZZIIX', (-0.00011059315050655396+0j)), ('XXZZIIX', (-0.00011059315050655396+0j)), ('IIIIZZI', (0.0010361267075021724+0j)), ('IIZZIII', (0.0018064714658123026+0j)), ('IIIZIIZ', (0.0007929872843150064+0j)), ('IIIZIZI', (0.0008880061033849394+0j)), ('ZZZIZII', (0.0007988739221995871+0j)), ('ZZIYIIY', (-5.5011928369130214e-05+0j)), ('IIZYZIY', (5.5011928369130214e-05+0j)), ('ZZIXIIX', (-5.5011928369130214e-05+0j)), ('IIZXZIX', (5.5011928369130214e-05+0j)), ('ZXIZIII', (6.69242119310632e-05+0j)), ('IXZIZII', (-6.69242119310632e-05+0j)), ('IIIZZII', (0.0008097273921596632+0j)), ('IIZXYYZ', (-1.5967646430117258e-05+0j)), ('IIZYXYZ', (1.5967646430117258e-05+0j)), ('IIZYYXZ', (1.5967646430117258e-05+0j)), ('IIZXXXZ', (1.5967646430117258e-05+0j)), ('YZZIYII', (-0.00012199874978090467+0j)), ('XZZIXII', (-0.00012199874978090467+0j)), ('IIXXIII', (5.627159027939906e-05+0j)), ('IIYYIII', (5.627159027939906e-05+0j)), ('IYIXIIY', (-5.904585093444133e-05+0j)), ('IXIYIIY', (5.904585093444133e-05+0j)), ('IYIYIIX', (5.904585093444133e-05+0j)), ('IXIXIIX', (5.904585093444133e-05+0j)), ('YZIXIYZ', (-1.9205482609715852e-05+0j)), ('XZIYIYZ', (1.9205482609715852e-05+0j)), ('YZIYIXZ', (1.9205482609715852e-05+0j)), ('XZIXIXZ', (1.9205482609715852e-05+0j)), ('IZIZIII', (0.0007929872843150064+0j)), ('ZIIZIII', (0.0008880061033849394+0j)), ('IIZIIIZ', (0.0007929872843150065+0j)), ('IIZIIZI', (0.0008880061033849394+0j)), ('ZZIZZII', (0.0007988739221995873+0j)), ('ZZYIIIY', (-5.501192836913023e-05+0j)), ('IIYZZIY', (5.501192836913023e-05+0j)), ('ZZXIIIX', (-5.501192836913023e-05+0j)), ('IIXZZIX', (5.501192836913023e-05+0j)), ('ZXZIIII', (6.692421193106327e-05+0j)), ('IXIZZII', (-6.692421193106327e-05+0j)), ('IIZIZII', (0.000809727392159664+0j)), ('IIXZYYZ', (-1.5967646430117264e-05+0j)), ('IIYZXYZ', (1.5967646430117264e-05+0j)), ('IIYZYXZ', (1.5967646430117264e-05+0j)), ('IIXZXXZ', (1.5967646430117264e-05+0j)), ('YZIZYII', (-0.00012199874978090467+0j)), ('XZIZXII', (-0.00012199874978090467+0j)), ('IYXIIIY', (-5.904585093444135e-05+0j)), ('IXYIIIY', (5.904585093444135e-05+0j)), ('IYYIIIX', (5.904585093444135e-05+0j)), ('IXXIIIX', (5.904585093444135e-05+0j)), ('YZXIIYZ', (-1.9205482609715852e-05+0j)), ('XZYIIYZ', (1.9205482609715852e-05+0j)), ('YZYIIXZ', (1.9205482609715852e-05+0j)), ('XZXIIXZ', (1.9205482609715852e-05+0j)), ('IZZIIII', (0.0007929872843150065+0j)), ('ZIZIIII', (0.0008880061033849394+0j)), ('IIIIIZZ', (0.00034219975187565604+0j)), ('ZZZZXYY', (-0.00016567029561026023+0j)), ('IIIIXYY', (0.00016567029561026023+0j)), ('ZZZZXXX', (-0.00016567029561026023+0j)), ('IIIIXXX', (0.00016567029561026023+0j)), ('XIIIIYY', (6.450150350093864e-05+0j)), ('XZZZZYY', (-6.450150350093864e-05+0j)), ('XIIIIXX', (6.450150350093864e-05+0j)), ('XZZZZXX', (-6.450150350093864e-05+0j)), ('IIIIZIZ', (0.0004730131727585795+0j)), ('IYZZYYY', (-0.00011059315050655396+0j)), ('IXZZXYY', (-0.00011059315050655396+0j)), ('IYZZYXX', (-0.00011059315050655396+0j)), ('IXZZXXX', (-0.00011059315050655396+0j)), ('YZZZYIZ', (3.0464615889121246e-05+0j)), ('XZZZXIZ', (3.0464615889121246e-05+0j)), ('YYIIIYY', (0.00016320827634266463+0j)), ('XXIIIYY', (0.00016320827634266463+0j)), ('YYIIIXX', (0.00016320827634266463+0j)), ('XXIIIXX', (0.00016320827634266463+0j)), ('ZIIIIIZ', (0.0005054080282183206+0j)), ('ZZZZZZI', (0.0004963220153364809+0j)), ('ZXIIIZI', (-4.214944750895202e-05+0j)), ('IXZZZZI', (4.214944750895202e-05+0j)), ('IZIIIZI', (0.0005054080282183206+0j)), ('ZZZZIII', (0.0002867041026751466+0j)), ('XIIIXII', (4.46871897480607e-05+0j)), ('YIIIYII', (4.46871897480607e-05+0j)), ('IZZZZII', (0.00043065242814294217+0j)), ('ZXIIZII', (5.4684774338750076e-05+0j)), ('IXZZIII', (-5.4684774338750076e-05+0j)), ('XYZZYII', (1.3799221043490745e-05+0j)), ('XXZZXII', (9.462607907840818e-05+0j)), ('YYZZXII', (8.082685803491741e-05+0j)), ('YYIIXII', (8.082685803491741e-05+0j)), ('XXIIXII', (9.462607907840818e-05+0j)), ('XYIIYII', (1.3799221043490745e-05+0j)), ('IXIIIII', (2.2352055991986643e-05+0j)), ('ZXZZZII', (-2.2352055991986643e-05+0j)), ('IZIIZII', (0.0003761397326525245+0j)), ('YIZZYII', (-8.012853461743272e-05+0j)), ('XIZZXII', (-8.012853461743272e-05+0j)), ('ZZIIIII', (0.00034219975187565604+0j))]\n"
          ]
        }
      ],
      "source": [
        "from typing import cast\n",
        "\n",
        "from classiq import Pauli, PauliTerm\n",
        "\n",
        "# normalizing the operator\n",
        "## we need to create a matrix such that its normalized version will have eigenvalues of [0,1/2^k] when k is the resolution of the QPE\n",
        "normalize = True\n",
        "\n",
        "\n",
        "def normalization_params(pauli_list, N):\n",
        "    A = 0\n",
        "    for a, b in pauli_list:\n",
        "        A = A + abs(b)\n",
        "    return N * A\n",
        "\n",
        "\n",
        "def normalize_hamiltonian(pauli_list, normalization_coeff, k):\n",
        "    new_pauli_list = []\n",
        "    for a, b in pauli_list:\n",
        "        if a == \"I\" * N:\n",
        "            new_pauli_list.append(\n",
        "                (\n",
        "                    a,\n",
        "                    (b + normalization_coeff)\n",
        "                    * (1 - 1 / (2**k))\n",
        "                    / (2 * normalization_coeff),\n",
        "                )\n",
        "            )\n",
        "        else:\n",
        "            new_pauli_list.append((a, b * (1 - 1 / (2**k)) / (2 * normalization_coeff)))\n",
        "    return new_pauli_list\n",
        "\n",
        "\n",
        "pauli_list = pauli_ops\n",
        "if normalize:\n",
        "    normalization_coeff = normalization_params(pauli_ops, N)\n",
        "    new_pauli_list = normalize_hamiltonian(pauli_ops, normalization_coeff, n_qpe)\n",
        "    pauli_ops = new_pauli_list\n",
        "    print(pauli_ops)"
      ]
    },
    {
      "cell_type": "markdown",
      "id": "21e4de42-3417-46d4-b981-664bb0683dc4",
      "metadata": {
        "id": "21e4de42-3417-46d4-b981-664bb0683dc4"
      },
      "source": [
        "Convert the objects to qmod:"
      ]
    },
    {
      "cell_type": "code",
      "execution_count": 63,
      "id": "e340b469-5566-4bd5-bb5d-3107ebc790e0",
      "metadata": {
        "execution": {
          "iopub.execute_input": "2024-05-07T15:16:41.828923Z",
          "iopub.status.busy": "2024-05-07T15:16:41.827843Z",
          "iopub.status.idle": "2024-05-07T15:16:41.834314Z",
          "shell.execute_reply": "2024-05-07T15:16:41.833663Z"
        },
        "tags": [],
        "id": "e340b469-5566-4bd5-bb5d-3107ebc790e0"
      },
      "outputs": [],
      "source": [
        "CHAR_TO_STUCT_DICT = {\"I\": Pauli.I, \"X\": Pauli.X, \"Y\": Pauli.Y, \"Z\": Pauli.Z}\n",
        "\n",
        "\n",
        "def pauli_str_to_enums(pauli):\n",
        "    return [CHAR_TO_STUCT_DICT[s] for s in pauli]\n",
        "\n",
        "\n",
        "def pauli_list_to_hamiltonian(pauli_list):\n",
        "    return [\n",
        "        PauliTerm(\n",
        "            pauli=pauli_str_to_enums(pauli), coefficient=cast(complex, coeff).real\n",
        "        )\n",
        "        for pauli, coeff in pauli_list\n",
        "    ]"
      ]
    },
    {
      "cell_type": "markdown",
      "id": "62d2e51d-d532-4c26-86dd-a5b9b40d009e",
      "metadata": {
        "id": "62d2e51d-d532-4c26-86dd-a5b9b40d009e"
      },
      "source": [
        "## 3. Creating the Quantum Circuit\n",
        "\n",
        "We will now create a quantum circuit of the QPE algorithm using the Classiq platform. The user is able to fill in their constraints and preferences as desired."
      ]
    },
    {
      "cell_type": "code",
      "execution_count": 64,
      "id": "fd4ee616-2a11-46ba-adc0-ed5171d7dd7d",
      "metadata": {
        "execution": {
          "iopub.execute_input": "2024-05-07T15:16:41.838788Z",
          "iopub.status.busy": "2024-05-07T15:16:41.837667Z",
          "iopub.status.idle": "2024-05-07T15:16:41.842620Z",
          "shell.execute_reply": "2024-05-07T15:16:41.841962Z"
        },
        "tags": [],
        "id": "fd4ee616-2a11-46ba-adc0-ed5171d7dd7d"
      },
      "outputs": [],
      "source": [
        "constraints = Constraints()\n",
        "preferences = Preferences(timeout_seconds=600)"
      ]
    },
    {
      "cell_type": "markdown",
      "id": "43c249a1-9db3-4164-bec1-f345670d4cd1",
      "metadata": {
        "id": "43c249a1-9db3-4164-bec1-f345670d4cd1"
      },
      "source": [
        "### 3.1. Create the phase estimation model"
      ]
    },
    {
      "cell_type": "code",
      "execution_count": 65,
      "id": "b05c5ced-e02a-4b56-acc5-c62de3564239",
      "metadata": {
        "execution": {
          "iopub.execute_input": "2024-05-07T15:16:41.847063Z",
          "iopub.status.busy": "2024-05-07T15:16:41.845892Z",
          "iopub.status.idle": "2024-05-07T15:16:41.856296Z",
          "shell.execute_reply": "2024-05-07T15:16:41.855646Z"
        },
        "tags": [],
        "id": "b05c5ced-e02a-4b56-acc5-c62de3564239"
      },
      "outputs": [],
      "source": [
        "from classiq import molecule_problem_to_qmod\n",
        "from classiq.qmod import (\n",
        "    CInt,\n",
        "    Output,\n",
        "    QArray,\n",
        "    QBit,\n",
        "    QCallable,\n",
        "    QNum,\n",
        "    allocate,\n",
        "    allocate_num,\n",
        "    control,\n",
        "    invert,\n",
        "    qfunc,\n",
        "    repeat,\n",
        ")\n",
        "from classiq.qmod.builtins import (\n",
        "    H,\n",
        "    apply_to_all,\n",
        "    exponentiation_with_depth_constraint,\n",
        "    molecule_hartree_fock,\n",
        "    qft,\n",
        ")\n",
        "from classiq.qmod.symbolic import log, pi\n",
        "\n",
        "# this constant will be multipled be a linear factor for each qbit of the qpe, so the\n",
        "# depth will scale linear with the power of each unitary, on the expense of approximating the\n",
        "# exponentiation function\n",
        "exp_max_depth = 2200\n",
        "\n",
        "\n",
        "# define a Quantum Phase Estimation function that allows specifying each controlled\n",
        "# power unitary directly\n",
        "@qfunc\n",
        "def my_flexible_qpe(\n",
        "    unitary_with_power: QCallable[CInt],\n",
        "    phase: QArray[QBit],\n",
        ") -> None:\n",
        "    apply_to_all(H, phase)\n",
        "\n",
        "    repeat(\n",
        "        count=phase.len,\n",
        "        iteration=lambda index: control(\n",
        "            ctrl=phase[index],\n",
        "            operand=lambda: unitary_with_power(2**index),\n",
        "        ),\n",
        "    )\n",
        "    invert(lambda: qft(phase))\n",
        "\n",
        "\n",
        "@qfunc\n",
        "def main(reg: Output[QArray[QBit]], phase: Output[QNum]):\n",
        "    allocate_num(num_qubits=n_qpe, is_signed=False, fraction_digits=n_qpe, out=phase)\n",
        "    allocate(N, reg)\n",
        "\n",
        "    # The state chosen for the initial state is HF, as usually it has good overlap with the with the eigenstate of minimal energy.\n",
        "    molecule_hartree_fock(molecule_problem_to_qmod(gs_problem), reg)\n",
        "\n",
        "    # # Hereby we send the pauli list created for the molecule for creating phase estimation circuit.\n",
        "    my_flexible_qpe(\n",
        "        lambda power: exponentiation_with_depth_constraint(\n",
        "            pauli_list_to_hamiltonian(pauli_ops),\n",
        "            evolution_coefficient=-2 * np.pi * power,\n",
        "            max_depth=exp_max_depth * ((2**0.5) ** log(power, 2)),\n",
        "            qbv=reg,\n",
        "        ),\n",
        "        phase,\n",
        "    )"
      ]
    },
    {
      "cell_type": "markdown",
      "id": "467eca03-8a66-43d8-b2af-6d86b21e36d5",
      "metadata": {
        "tags": [],
        "id": "467eca03-8a66-43d8-b2af-6d86b21e36d5"
      },
      "source": [
        "## 3.2. Synthesizing the Circuit\n",
        "\n",
        "Hereby we syntesize the circuit and show it using the analyzer."
      ]
    },
    {
      "cell_type": "code",
      "execution_count": 66,
      "id": "10eaa569-de42-41b4-b615-c04bdc850ecf",
      "metadata": {
        "execution": {
          "iopub.execute_input": "2024-05-07T15:16:41.861003Z",
          "iopub.status.busy": "2024-05-07T15:16:41.859910Z",
          "iopub.status.idle": "2024-05-07T15:16:41.880458Z",
          "shell.execute_reply": "2024-05-07T15:16:41.879759Z"
        },
        "tags": [],
        "id": "10eaa569-de42-41b4-b615-c04bdc850ecf"
      },
      "outputs": [],
      "source": [
        "from classiq import create_model\n",
        "from classiq.execution import ExecutionPreferences\n",
        "\n",
        "num_shots = 200000\n",
        "\n",
        "qmod = create_model(\n",
        "    main,\n",
        "    constraints=constraints,\n",
        "    preferences=preferences,\n",
        "    execution_preferences=ExecutionPreferences(num_shots=num_shots),\n",
        ")"
      ]
    },
    {
      "cell_type": "code",
      "execution_count": 67,
      "id": "a7aae67f-1750-43be-9446-74fa0565058a",
      "metadata": {
        "execution": {
          "iopub.execute_input": "2024-05-07T15:16:41.885344Z",
          "iopub.status.busy": "2024-05-07T15:16:41.884136Z",
          "iopub.status.idle": "2024-05-07T15:16:41.904022Z",
          "shell.execute_reply": "2024-05-07T15:16:41.903307Z"
        },
        "id": "a7aae67f-1750-43be-9446-74fa0565058a"
      },
      "outputs": [],
      "source": [
        "from classiq import write_qmod\n",
        "\n",
        "write_qmod(qmod, name=\"qpe_for_molecules\")"
      ]
    },
    {
      "cell_type": "code",
      "execution_count": 68,
      "id": "8d434afe-5cbc-4a56-a48c-e657090c348a",
      "metadata": {
        "execution": {
          "iopub.execute_input": "2024-05-07T15:16:41.909027Z",
          "iopub.status.busy": "2024-05-07T15:16:41.907875Z",
          "iopub.status.idle": "2024-05-07T15:20:36.342504Z",
          "shell.execute_reply": "2024-05-07T15:20:36.341786Z"
        },
        "tags": [],
        "id": "8d434afe-5cbc-4a56-a48c-e657090c348a",
        "outputId": "660ea141-5ece-4b9f-ca7b-68e2abdea824",
        "colab": {
          "base_uri": "https://localhost:8080/",
          "height": 0
        }
      },
      "outputs": [
        {
          "output_type": "stream",
          "name": "stdout",
          "text": [
            "Opening: https://platform.classiq.io/circuit/4c2b4185-9a94-4654-9c86-f119894f8fe4?version=0.42.1\n"
          ]
        }
      ],
      "source": [
        "from classiq import show, synthesize\n",
        "\n",
        "qprog = synthesize(qmod)\n",
        "show(qprog)"
      ]
    },
    {
      "cell_type": "markdown",
      "id": "7483f266-af0f-4d08-aa96-317b4044df58",
      "metadata": {
        "id": "7483f266-af0f-4d08-aa96-317b4044df58"
      },
      "source": [
        "# 4. Measurment and Analysis\n"
      ]
    },
    {
      "cell_type": "markdown",
      "id": "e5bf0b3c-839f-43de-9da1-cba55ceba995",
      "metadata": {
        "id": "e5bf0b3c-839f-43de-9da1-cba55ceba995"
      },
      "source": [
        "### 4.1. Circuit Execution\n",
        "\n",
        "The circuit is now sent to execution on a default simulator"
      ]
    },
    {
      "cell_type": "code",
      "execution_count": 69,
      "id": "bc063bfc-de4b-4181-82b1-f805f86baa2e",
      "metadata": {
        "execution": {
          "iopub.execute_input": "2024-05-07T15:20:36.347128Z",
          "iopub.status.busy": "2024-05-07T15:20:36.345984Z",
          "iopub.status.idle": "2024-05-07T15:21:50.459583Z",
          "shell.execute_reply": "2024-05-07T15:21:50.458947Z"
        },
        "tags": [],
        "id": "bc063bfc-de4b-4181-82b1-f805f86baa2e"
      },
      "outputs": [],
      "source": [
        "from classiq import execute\n",
        "\n",
        "results = execute(qprog).result()"
      ]
    },
    {
      "cell_type": "code",
      "execution_count": 70,
      "id": "05e682bd-0f1a-4e10-ba0b-e0bf3378fecd",
      "metadata": {
        "execution": {
          "iopub.execute_input": "2024-05-07T15:21:50.462348Z",
          "iopub.status.busy": "2024-05-07T15:21:50.461903Z",
          "iopub.status.idle": "2024-05-07T15:21:50.464971Z",
          "shell.execute_reply": "2024-05-07T15:21:50.464409Z"
        },
        "tags": [],
        "id": "05e682bd-0f1a-4e10-ba0b-e0bf3378fecd"
      },
      "outputs": [],
      "source": [
        "from classiq.execution import ExecutionDetails\n",
        "\n",
        "results = results[0].value"
      ]
    },
    {
      "cell_type": "markdown",
      "id": "8611351f-1b14-4969-878d-6f022cdfce2a",
      "metadata": {
        "id": "8611351f-1b14-4969-878d-6f022cdfce2a"
      },
      "source": [
        "### 4.2. Presenting the Result's Count"
      ]
    },
    {
      "cell_type": "code",
      "execution_count": 71,
      "id": "9c0ee98c-3ffa-4f1d-9cb2-4fada19b08b4",
      "metadata": {
        "execution": {
          "iopub.execute_input": "2024-05-07T15:21:50.467938Z",
          "iopub.status.busy": "2024-05-07T15:21:50.466973Z",
          "iopub.status.idle": "2024-05-07T15:21:50.474468Z",
          "shell.execute_reply": "2024-05-07T15:21:50.473904Z"
        },
        "tags": [],
        "id": "9c0ee98c-3ffa-4f1d-9cb2-4fada19b08b4",
        "outputId": "dbdec0d4-3bef-487c-ce25-5761628ee8ab",
        "colab": {
          "base_uri": "https://localhost:8080/",
          "height": 0
        }
      },
      "outputs": [
        {
          "output_type": "execute_result",
          "data": {
            "text/plain": [
              "[{'phase': 0.46875}: 135341,\n",
              " {'phase': 0.484375}: 36274,\n",
              " {'phase': 0.453125}: 8283,\n",
              " {'phase': 0.5}: 5402,\n",
              " {'phase': 0.4375}: 2781,\n",
              " {'phase': 0.515625}: 2139,\n",
              " {'phase': 0.421875}: 1322,\n",
              " {'phase': 0.53125}: 1110,\n",
              " {'phase': 0.40625}: 793,\n",
              " {'phase': 0.546875}: 692]"
            ]
          },
          "metadata": {},
          "execution_count": 71
        }
      ],
      "source": [
        "results.parsed_counts_of_outputs(\"phase\")[:10]"
      ]
    },
    {
      "cell_type": "markdown",
      "id": "41009d2c-4276-409b-b9f4-8dee8103f208",
      "metadata": {
        "id": "41009d2c-4276-409b-b9f4-8dee8103f208"
      },
      "source": [
        "### 4.3. Chosing the Most Probable Solution\n",
        "\n",
        "Hereby the user will choose the number of eigenvalues they wish to extract from the poll of results. The\n",
        "value `number_of_solutions` will determine how many results out of `qpe_results` will be analyzed.\n",
        "The `parsed_counts` property is already sorted.\n",
        "\n",
        "We get the result in the `phase` variable already encoded as fixed point variable in the range [0,1]."
      ]
    },
    {
      "cell_type": "code",
      "execution_count": 72,
      "id": "ba022acc-738c-4685-a7ff-70ea2c400bfd",
      "metadata": {
        "execution": {
          "iopub.execute_input": "2024-05-07T15:21:50.476943Z",
          "iopub.status.busy": "2024-05-07T15:21:50.476435Z",
          "iopub.status.idle": "2024-05-07T15:21:50.479735Z",
          "shell.execute_reply": "2024-05-07T15:21:50.479163Z"
        },
        "id": "ba022acc-738c-4685-a7ff-70ea2c400bfd"
      },
      "outputs": [],
      "source": [
        "number_of_solutions = 1  # to be set"
      ]
    },
    {
      "cell_type": "code",
      "execution_count": 73,
      "id": "4a54cb17-8c0a-4b00-a3a3-6e276fa92b53",
      "metadata": {
        "execution": {
          "iopub.execute_input": "2024-05-07T15:21:50.482120Z",
          "iopub.status.busy": "2024-05-07T15:21:50.481642Z",
          "iopub.status.idle": "2024-05-07T15:21:50.488542Z",
          "shell.execute_reply": "2024-05-07T15:21:50.487983Z"
        },
        "tags": [],
        "id": "4a54cb17-8c0a-4b00-a3a3-6e276fa92b53",
        "outputId": "52406be4-77d6-4bc1-e6f5-891113990de4",
        "colab": {
          "base_uri": "https://localhost:8080/",
          "height": 0
        }
      },
      "outputs": [
        {
          "output_type": "stream",
          "name": "stdout",
          "text": [
            "Your qubit solution is\n",
            "[{'phase': 0.46875}: 135341]\n"
          ]
        }
      ],
      "source": [
        "solutions = results.parsed_counts_of_outputs(\"phase\")[:number_of_solutions]\n",
        "print(\"Your qubit solution is\", solutions, sep=\"\\n\")"
      ]
    },
    {
      "cell_type": "markdown",
      "id": "2f784e6f-d7ed-4cc9-81dd-f6b952d0dc01",
      "metadata": {
        "id": "2f784e6f-d7ed-4cc9-81dd-f6b952d0dc01"
      },
      "source": [
        "### 4.4. Translating into Energy value (Phase)"
      ]
    },
    {
      "cell_type": "markdown",
      "id": "d83d16de-2450-4c7a-8093-26bf13d4dce4",
      "metadata": {
        "id": "d83d16de-2450-4c7a-8093-26bf13d4dce4"
      },
      "source": [
        "Map the phase back into the original values, i.e. renormalized into it's original span."
      ]
    },
    {
      "cell_type": "code",
      "execution_count": 74,
      "id": "836084e1-a20d-4a55-93cc-91a40c1d2f53",
      "metadata": {
        "execution": {
          "iopub.execute_input": "2024-05-07T15:21:50.491382Z",
          "iopub.status.busy": "2024-05-07T15:21:50.491220Z",
          "iopub.status.idle": "2024-05-07T15:21:50.494025Z",
          "shell.execute_reply": "2024-05-07T15:21:50.493447Z"
        },
        "id": "836084e1-a20d-4a55-93cc-91a40c1d2f53"
      },
      "outputs": [],
      "source": [
        "def post_process_phase(phase):\n",
        "    return (\n",
        "        (phase * 2 * normalization_coeff) / (1 - (1 / 2**n_qpe))\n",
        "    ) - normalization_coeff"
      ]
    },
    {
      "cell_type": "code",
      "execution_count": 75,
      "id": "a5bdb723-b015-4e80-98ea-985901c6c8d7",
      "metadata": {
        "execution": {
          "iopub.execute_input": "2024-05-07T15:21:50.496211Z",
          "iopub.status.busy": "2024-05-07T15:21:50.495859Z",
          "iopub.status.idle": "2024-05-07T15:21:50.499028Z",
          "shell.execute_reply": "2024-05-07T15:21:50.498455Z"
        },
        "tags": [],
        "id": "a5bdb723-b015-4e80-98ea-985901c6c8d7"
      },
      "outputs": [],
      "source": [
        "# renormalize into the \"real\" solution -\n",
        "if normalize:\n",
        "    solution = [post_process_phase(value.state[\"phase\"]) for value in solutions]\n",
        "else:\n",
        "    solution = phase"
      ]
    },
    {
      "cell_type": "markdown",
      "id": "6c963b82-26a7-4251-bae0-32e66c57fa1d",
      "metadata": {
        "id": "6c963b82-26a7-4251-bae0-32e66c57fa1d"
      },
      "source": [
        "The final results of the Energy (matrix's eigenvlues) is therefore:"
      ]
    },
    {
      "cell_type": "code",
      "execution_count": 76,
      "id": "43e8ec8f-2be9-403d-8ae9-9380fb2b08c9",
      "metadata": {
        "execution": {
          "iopub.execute_input": "2024-05-07T15:21:50.501429Z",
          "iopub.status.busy": "2024-05-07T15:21:50.500917Z",
          "iopub.status.idle": "2024-05-07T15:21:50.504469Z",
          "shell.execute_reply": "2024-05-07T15:21:50.503902Z"
        },
        "tags": [],
        "id": "43e8ec8f-2be9-403d-8ae9-9380fb2b08c9",
        "outputId": "57fe6127-9b33-4cc5-ffcc-a121004cf862",
        "colab": {
          "base_uri": "https://localhost:8080/",
          "height": 0
        }
      },
      "outputs": [
        {
          "output_type": "stream",
          "name": "stdout",
          "text": [
            "[-5.0500156710895965]\n"
          ]
        }
      ],
      "source": [
        "print(solution)"
      ]
    },
    {
      "cell_type": "markdown",
      "id": "7565aa1f-b8ba-4617-a2ef-79317261dfe7",
      "metadata": {
        "id": "7565aa1f-b8ba-4617-a2ef-79317261dfe7"
      },
      "source": [
        "And the results including the error contributed from the resolution (number of qubits participating in the QPE) are:"
      ]
    },
    {
      "cell_type": "code",
      "execution_count": 77,
      "id": "79f1c1ba-61fd-438e-a3d5-7606ea95e70f",
      "metadata": {
        "execution": {
          "iopub.execute_input": "2024-05-07T15:21:50.506581Z",
          "iopub.status.busy": "2024-05-07T15:21:50.506402Z",
          "iopub.status.idle": "2024-05-07T15:21:50.510455Z",
          "shell.execute_reply": "2024-05-07T15:21:50.509818Z"
        },
        "tags": [],
        "id": "79f1c1ba-61fd-438e-a3d5-7606ea95e70f",
        "outputId": "d75f1d8a-8af0-48c8-a552-a37bf9fbf641",
        "colab": {
          "base_uri": "https://localhost:8080/",
          "height": 0
        }
      },
      "outputs": [
        {
          "output_type": "stream",
          "name": "stdout",
          "text": [
            "the resolution of result is 3.3666771140597356\n",
            "the eneregy solution is beteen -8.416692785149332 and -1.683338557029861\n"
          ]
        }
      ],
      "source": [
        "if normalize:\n",
        "    energy_resolution = (\n",
        "        (1 / (2**n_qpe)) * 2 * normalization_coeff / (1 - (1 / 2**n_qpe))\n",
        "    )\n",
        "else:\n",
        "    energy_resolution = 1 / (2**n_qpe)\n",
        "\n",
        "print(\"the resolution of result is\", energy_resolution)\n",
        "\n",
        "for sol in solution:\n",
        "    print(\n",
        "        \"the eneregy solution is beteen\",\n",
        "        sol - energy_resolution,\n",
        "        \"and\",\n",
        "        sol + energy_resolution,\n",
        "    )\n",
        "\n",
        "    ###if zero or exceed the normalization range need to add conditions"
      ]
    },
    {
      "cell_type": "markdown",
      "id": "d570c6b0-bd32-40d1-9ebb-c1ee7c8663ad",
      "metadata": {
        "id": "d570c6b0-bd32-40d1-9ebb-c1ee7c8663ad"
      },
      "source": [
        "### 4.4. Find Exact Solution for Comparison"
      ]
    },
    {
      "cell_type": "code",
      "execution_count": 78,
      "id": "bd9e84a5-d131-4835-bade-13ba01035b44",
      "metadata": {
        "execution": {
          "iopub.execute_input": "2024-05-07T15:21:50.512649Z",
          "iopub.status.busy": "2024-05-07T15:21:50.512475Z",
          "iopub.status.idle": "2024-05-07T15:21:50.516587Z",
          "shell.execute_reply": "2024-05-07T15:21:50.515949Z"
        },
        "tags": [],
        "id": "bd9e84a5-d131-4835-bade-13ba01035b44",
        "outputId": "7cfc9892-b918-4447-806d-f13493e84053",
        "colab": {
          "base_uri": "https://localhost:8080/",
          "height": 0
        }
      },
      "outputs": [
        {
          "output_type": "stream",
          "name": "stdout",
          "text": [
            "exact result: -3.940331561325765\n"
          ]
        }
      ],
      "source": [
        "mat = operator.to_matrix()\n",
        "w, v = np.linalg.eig(mat)\n",
        "print(\"exact result:\", np.real(min(w)))"
      ]
    },
    {
      "cell_type": "markdown",
      "id": "703c6ae7-5174-433f-ad9f-78f9864b1914",
      "metadata": {
        "id": "703c6ae7-5174-433f-ad9f-78f9864b1914"
      },
      "source": [
        "### 4.4. Find the Solution's Histogram"
      ]
    },
    {
      "cell_type": "code",
      "execution_count": 79,
      "id": "dfc5f725-495b-45d1-9c67-a1daf80a1454",
      "metadata": {
        "execution": {
          "iopub.execute_input": "2024-05-07T15:21:50.519020Z",
          "iopub.status.busy": "2024-05-07T15:21:50.518676Z",
          "iopub.status.idle": "2024-05-07T15:21:50.523706Z",
          "shell.execute_reply": "2024-05-07T15:21:50.523090Z"
        },
        "tags": [],
        "id": "dfc5f725-495b-45d1-9c67-a1daf80a1454"
      },
      "outputs": [],
      "source": [
        "import matplotlib.pyplot as plt\n",
        "import numpy as np\n",
        "\n",
        "energy_vec = []\n",
        "energy_prob = []\n",
        "\n",
        "for value, counts in results.parsed_counts_of_outputs(\"phase\"):\n",
        "    temp = value[1][\"phase\"]\n",
        "    if normalize:\n",
        "        temp2 = (\n",
        "            temp * 2 * normalization_coeff / (1 - (1 / 2**n_qpe))\n",
        "        ) - normalization_coeff\n",
        "    else:\n",
        "        temp2 = temp\n",
        "    energy_vec.append(temp2)\n",
        "    energy_prob.append(counts[1] / num_shots)"
      ]
    },
    {
      "cell_type": "code",
      "execution_count": 81,
      "id": "993c5b3b-7a05-44f1-9c4e-6651cd50f4cb",
      "metadata": {
        "execution": {
          "iopub.execute_input": "2024-05-07T15:21:50.525902Z",
          "iopub.status.busy": "2024-05-07T15:21:50.525629Z",
          "iopub.status.idle": "2024-05-07T15:21:50.659434Z",
          "shell.execute_reply": "2024-05-07T15:21:50.658856Z"
        },
        "tags": [],
        "id": "993c5b3b-7a05-44f1-9c4e-6651cd50f4cb",
        "outputId": "640fb07e-7b78-45ad-958a-c447af80f9be",
        "colab": {
          "base_uri": "https://localhost:8080/",
          "height": 430
        }
      },
      "outputs": [
        {
          "output_type": "display_data",
          "data": {
            "text/plain": [
              "<Figure size 640x480 with 1 Axes>"
            ],
            "image/png": "[encoded data removed]"
          },
          "metadata": {}
        }
      ],
      "source": [
        "plt.plot(energy_vec, energy_prob, \".\")\n",
        "plt.show()"
      ]
    },
    {
      "cell_type": "markdown",
      "id": "9797b512-d41f-47c1-8c0f-4134f0500b80",
      "metadata": {
        "id": "9797b512-d41f-47c1-8c0f-4134f0500b80"
      },
      "source": [
        "## References\n",
        "\n",
        "<a name='NC'>[1]</a>: [Michael A. Nielsen and Isaac L. Chuang. 2011. Quantum Computation and Quantum Information: 10th Anniversary Edition, Cambridge University Press, New York, NY, USA.\n",
        "](http://mmrc.amss.cas.cn/tlb/201702/W020170224608149940643.pdf)\n"
      ]
    },
    {
      "cell_type": "markdown",
      "source": [
        "# **Results for BeH2:**\n",
        "\n",
        "Your qubit solution is [{'phase': 0.46875}: 135341]\n",
        "\n",
        "The final results of the Energy (matrix's eigenvlues) is therefore:\n",
        "\n",
        "[-5.0500156710895965]\n",
        "\n",
        "exact result: -3.940331561325765\n",
        "\n",
        "The results including the error contributed from the resolution (number of qubits participating in the QPE) are: The resolution of result is 3.3666771140597356 the energy solution is between -8.416692785149332 and -1.683338557029861"
      ],
      "metadata": {
        "id": "ttDDvHfPDI4y"
      },
      "id": "ttDDvHfPDI4y"
    },
    {
      "cell_type": "markdown",
      "source": [
        "# **Results for H2O:**\n",
        "\n",
        "Your qubit solution is\n",
        "[{'phase': 0.453125}: 89076]\n",
        "\n",
        "The final results of the Energy (matrix's eigenvlues) is therefore:\n",
        "\n",
        "[-29.018825909142947]\n",
        "\n",
        "exact result: -23.54449724044351\n",
        "\n",
        "\n",
        "The results including the error contributed from the resolution (number of qubits\n",
        "participating in the QPE) are:\n",
        "The resolution of result is 11.607530363657174\n",
        "the energy solution is between -40.62635627280012 and -17.41129554548577\n",
        "\n"
      ],
      "metadata": {
        "id": "JvBCdhv08YSu"
      },
      "id": "JvBCdhv08YSu"
    },
    {
      "cell_type": "markdown",
      "source": [],
      "metadata": {
        "id": "PGUPJn2Y9Hxr"
      },
      "id": "PGUPJn2Y9Hxr"
    },
    {
      "cell_type": "markdown",
      "source": [],
      "metadata": {
        "id": "1xjsIzhx2iV1"
      },
      "id": "1xjsIzhx2iV1"
    }
  ],
  "metadata": {
    "kernelspec": {
      "display_name": "Python 3 (ipykernel)",
      "language": "python",
      "name": "python3"
    },
    "language_info": {
      "codemirror_mode": {
        "name": "ipython",
        "version": 3
      },
      "file_extension": ".py",
      "mimetype": "text/x-python",
      "name": "python",
      "nbconvert_exporter": "python",
      "pygments_lexer": "ipython3",
      "version": "3.11.9"
    },
    "colab": {
      "provenance": [],
      "include_colab_link": true
    }
  },
  "nbformat": 4,
  "nbformat_minor": 5
}