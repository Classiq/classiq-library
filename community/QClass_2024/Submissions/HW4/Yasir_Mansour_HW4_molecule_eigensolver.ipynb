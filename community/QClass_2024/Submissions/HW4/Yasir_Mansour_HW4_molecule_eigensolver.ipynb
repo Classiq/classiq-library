{
 "cells": [
  {
   "cell_type": "markdown",
   "id": "4fbae0f9",
   "metadata": {
    "id": "4fbae0f9"
   },
   "source": [
    "# Molecule Eigensolver (VQE method)\n",
    "\n",
    "Evaluating the ground state of a molecular Hamiltonian allows us to understand the chemical properties of the molecule. In this demo, we demonstrate the usage of Variational Quantum Eigensolver (VQE) for finding the ground states and energies of several molecules:  \ud835\udc3b2 ,  \ud835\udc3b2\ud835\udc42  and  \ud835\udc3f\ud835\udc56\ud835\udc3b .\n",
    "\n",
    "VQE is a leading method for finding approximate values of ground state wavefuncions and energies for complicated quantum systems, and as such can give solutions for complex molecular structures. The overview of the VQE method is as following: a problem (i.e. a molecule) is defined by a Hamiltonian which ground state is sought. Then, a choice of a parameterized ansatz is made. Using a hybrid quantum-classical algorithm, a solution for the defined parameters which minimize the expectation value for the energy is found. A clever ansatz will lead to an estimated ground state solution.\n",
    "\n",
    "Within the scope of Classiq's VQE algorithm, the user defines a Molecule which is being translated to a concise Hamiltonian. Then, a choice between several types of well studied ansatz is given, which can be carefully picked to fit your Molecule type. In the last stage, the Hamiltonian and ansatz are sent to a classical optimizer. During this tutorial we will demonstrate the steps and user options in Classiq's VQE algorithm. Furthermore, the demonstration will present the optimization strength Classiq's VQE algorithm holds, and it's state of the art results in term of efficient quantum circuit - with ultimate combination of low depth and high accuracy, while minimizing the number of CX gates."
   ]
  },
  {
   "cell_type": "markdown",
   "id": "TWGNYMkUKh6C",
   "metadata": {
    "id": "TWGNYMkUKh6C"
   },
   "source": [
    "**RESULTS**\n",
    "\n",
    "Comparison of different molecules in terms of width and depth. The more atoms in a molecule, the more qubits/circuit depth are necessary. System overload when more than 3 atoms.\n",
    "\n",
    "## **h2**\n",
    "\n",
    "hw-eff ansatz: width 4/depth34\n",
    "\n",
    "ucc ansatz: ,\n",
    "width 1/depth 6, width 4, depth 3\n",
    "\n",
    "total en -1.1342995783232035,\n",
    "exact result: -1.8572750302023786,\n",
    "vqe result: -1.854268572772183\n"
   ]
  },
  {
   "cell_type": "markdown",
   "id": "XcbH8UHbKrIU",
   "metadata": {
    "id": "XcbH8UHbKrIU"
   },
   "source": [
    "## **h2o**\n",
    "\n",
    "hw-eff. ansatz: width 12/depth 375,\n",
    "(conn map 0-1..10-11, reps 11)\n",
    "\n",
    "ucc ansatz: width 8/depth 1218, width 12/depth 1048\n",
    "\n",
    "total energy -71.7605079203085,\n",
    "exact result: -23.544497240443615,\n",
    "vqe result: -80.95442108093192"
   ]
  },
  {
   "cell_type": "markdown",
   "id": "Br0-chtAKv6D",
   "metadata": {
    "id": "Br0-chtAKv6D"
   },
   "source": [
    "## **co2**\n",
    "\n",
    "hw-eff ansatz: width 24/depth 175\n",
    "\n",
    "ucc ansatz: width 20/depth 19767, width 24/depth 16968\n",
    "\n",
    "Error number 90001 occurred. The resources needed to execute this request are insufficient.\n",
    " This may be due to computational limitations, or high load on Classiq's servers."
   ]
  },
  {
   "cell_type": "markdown",
   "id": "54d09062-1b3b-4e4b-8351-5e05a633e269",
   "metadata": {
    "id": "54d09062-1b3b-4e4b-8351-5e05a633e269"
   },
   "source": [
    "## 0. Pre-requirments\n",
    "\n",
    "The model is using several Classiq's libraries."
   ]
  },
  {
   "cell_type": "code",
   "execution_count": 1,
   "id": "C3SemPUxJw4V",
   "metadata": {
    "colab": {
     "base_uri": "https://localhost:8080/"
    },
    "execution": {
     "iopub.execute_input": "2024-07-31T08:41:54.214380Z",
     "iopub.status.busy": "2024-07-31T08:41:54.212865Z",
     "iopub.status.idle": "2024-07-31T08:41:54.219205Z",
     "shell.execute_reply": "2024-07-31T08:41:54.218554Z"
    },
    "id": "C3SemPUxJw4V",
    "outputId": "b735d9f4-3d88-4b64-f115-4a9725e63811"
   },
   "outputs": [],
   "source": [
    "# !pip install classiq"
   ]
  },
  {
   "cell_type": "code",
   "execution_count": 2,
   "id": "zjvfmLnXJ1Kk",
   "metadata": {
    "execution": {
     "iopub.execute_input": "2024-07-31T08:41:54.222530Z",
     "iopub.status.busy": "2024-07-31T08:41:54.222051Z",
     "iopub.status.idle": "2024-07-31T08:41:56.991624Z",
     "shell.execute_reply": "2024-07-31T08:41:56.990593Z"
    },
    "id": "zjvfmLnXJ1Kk"
   },
   "outputs": [],
   "source": [
    "from classiq import *"
   ]
  },
  {
   "cell_type": "code",
   "execution_count": 3,
   "id": "LHrqCSj2J5PC",
   "metadata": {
    "colab": {
     "base_uri": "https://localhost:8080/"
    },
    "execution": {
     "iopub.execute_input": "2024-07-31T08:41:56.998382Z",
     "iopub.status.busy": "2024-07-31T08:41:56.997571Z",
     "iopub.status.idle": "2024-07-31T08:41:57.001173Z",
     "shell.execute_reply": "2024-07-31T08:41:57.000454Z"
    },
    "id": "LHrqCSj2J5PC",
    "outputId": "75c65d46-2d6a-4796-92ee-3dc517c54b93"
   },
   "outputs": [],
   "source": [
    "# import classiq\n",
    "# classiq.authenticate()"
   ]
  },
  {
   "cell_type": "code",
   "execution_count": 4,
   "id": "c6bbe65f-1e6a-475c-a43f-cb4cc04bbdfa",
   "metadata": {
    "execution": {
     "iopub.execute_input": "2024-07-31T08:41:57.005957Z",
     "iopub.status.busy": "2024-07-31T08:41:57.005490Z",
     "iopub.status.idle": "2024-07-31T08:41:57.015045Z",
     "shell.execute_reply": "2024-07-31T08:41:57.014275Z"
    },
    "id": "c6bbe65f-1e6a-475c-a43f-cb4cc04bbdfa",
    "tags": []
   },
   "outputs": [],
   "source": [
    "import numpy as np\n",
    "\n",
    "from classiq import QuantumProgram, construct_chemistry_model, execute, show, synthesize\n",
    "from classiq.applications.chemistry import (\n",
    "    ChemistryExecutionParameters,\n",
    "    HEAParameters,\n",
    "    Molecule,\n",
    "    MoleculeProblem,\n",
    "    UCCParameters,\n",
    ")\n",
    "from classiq.execution import (\n",
    "    ClassiqBackendPreferences,\n",
    "    ClassiqSimulatorBackendNames,\n",
    "    ExecutionPreferences,\n",
    "    OptimizerType,\n",
    ")\n",
    "from classiq.synthesis import set_execution_preferences"
   ]
  },
  {
   "cell_type": "markdown",
   "id": "faa3c10f",
   "metadata": {
    "id": "faa3c10f"
   },
   "source": [
    "## 1. Generate Qubit Hamiltonian\n",
    "\n",
    "The first step is to define the molecule we wish to simulate. We hereby declare the class Molecule and insert a list of atoms and their spacial positions. The algorithm will automatically regard relevant attributes such as the atom's mass, charge and spin.\n",
    "\n",
    "As mentioned above, during this tutorial, we demonstrate how to define and find the ground state and energies for 3 molecules:"
   ]
  },
  {
   "cell_type": "code",
   "execution_count": 5,
   "id": "VN6XdfYfLApS",
   "metadata": {
    "execution": {
     "iopub.execute_input": "2024-07-31T08:41:57.018562Z",
     "iopub.status.busy": "2024-07-31T08:41:57.018059Z",
     "iopub.status.idle": "2024-07-31T08:41:57.038946Z",
     "shell.execute_reply": "2024-07-31T08:41:57.038278Z"
    },
    "id": "VN6XdfYfLApS",
    "tags": []
   },
   "outputs": [],
   "source": [
    "# hydrogen\n",
    "molecule_H2 = Molecule(atoms=[(\"H\", (0.0, 0.0, 0)), (\"H\", (0.0, 0.0, 0.735))])\n",
    "\n",
    "# oxygen\n",
    "molecule_O2 = Molecule(atoms=[(\"O\", (0.0, 0.0, 0)), (\"O\", (0.0, 0.0, 1.16))])\n",
    "\n",
    "# lithium hydride\n",
    "molecule_LiH = Molecule(atoms=[(\"H\", (0.0, 0.0, 0.0)), (\"Li\", (0.0, 0.0, 1.596))])\n",
    "\n",
    "# water\n",
    "molecule_H2O = Molecule(\n",
    "    atoms=[(\"O\", (0.0, 0.0, 0.0)), (\"H\", (0, 0.586, 0.757)), (\"H\", (0, 0.586, -0.757))]\n",
    ")\n",
    "# beryllium hydride\n",
    "molecule_BeH2 = Molecule(\n",
    "    atoms=[(\"Be\", (0.0, 0.0, 0.0)), (\"H\", (0, 0, 1.334)), (\"H\", (0, 0, -1.334))]\n",
    ")\n",
    "# carbon dioxide\n",
    "molecule_CO2 = Molecule(\n",
    "    atoms=[(\"C\", (0.0, 0.0, 0.0)), (\"O\", (0, 0, 1.1693)), (\"O\", (0, 0, -1.1693))]\n",
    ")\n",
    "\n",
    "# ethyne, acetylene\n",
    "molecule_C2H2 = Molecule(\n",
    "    atoms=[\n",
    "        (\"C\", (0, 0, -0.5977)),\n",
    "        (\"C\", (0, 0, 0.5977)),\n",
    "        (\"H\", (0, 0, -1.6692)),\n",
    "        (\"H\", (0, 0, 1.6692)),\n",
    "    ]\n",
    ")\n",
    "\n",
    "# chloroform\n",
    "molecule_CH3Cl = Molecule(\n",
    "    atoms=[\n",
    "        (\"C\", (0, 0, -1.1401)),\n",
    "        (\"Cl\", (0, 0, 0.6645)),\n",
    "        (\"H\", (0, 1.0343, -1.4855)),\n",
    "        (\"H\", (0.8957, -0.5171, -1.4855)),\n",
    "        (\"H\", (-0.8957, -0.5171, -1.4855)),\n",
    "    ]\n",
    ")\n",
    "\n",
    "# ethylene\n",
    "molecule_C2H4 = Molecule(\n",
    "    atoms=[\n",
    "        (\"C\", (0, 0, 0.6673)),\n",
    "        (\"C\", (0, 0, -0.6673)),\n",
    "        (\"H\", (0, 0.9239, 1.2411)),\n",
    "        (\"H\", (0, -0.9239, 1.2411)),\n",
    "        (\"H\", (0, -0.9239, -1.2411)),\n",
    "        (\"H\", (0, 0.9239, -1.2411)),\n",
    "    ]\n",
    ")"
   ]
  },
  {
   "cell_type": "markdown",
   "id": "ab162f48",
   "metadata": {
    "id": "ab162f48"
   },
   "source": [
    "Similarly, the user is able to construct any valid essambly of atoms. The distances are recived in \u00c5 ($10^{-10} m$). We will continue this demonstration with a specific molecule. The user can change the `molecule` below to study other cases."
   ]
  },
  {
   "cell_type": "code",
   "execution_count": 6,
   "id": "2e77678f",
   "metadata": {
    "execution": {
     "iopub.execute_input": "2024-07-31T08:41:57.042325Z",
     "iopub.status.busy": "2024-07-31T08:41:57.041882Z",
     "iopub.status.idle": "2024-07-31T08:41:57.045022Z",
     "shell.execute_reply": "2024-07-31T08:41:57.044366Z"
    },
    "id": "2e77678f",
    "tags": []
   },
   "outputs": [],
   "source": [
    "molecule = molecule_H2O"
   ]
  },
  {
   "cell_type": "markdown",
   "id": "c4a541a5",
   "metadata": {
    "id": "c4a541a5"
   },
   "source": [
    "Next, we define the parameters of the Hamiltonian generation program. The user has a choice over the following options:\n",
    "- mapping (str): the mapping between the fermionic Hamiltonian and an qubits Hamiltonian. Supported types:\n",
    "        - \"jordan_wigner\"\n",
    "        - \"parity\"\n",
    "        - \"bravyi_kitaev\"\n",
    "        - \"fast_bravyi_kitaev\"\n",
    "- freeze_core (bool): remove the \"core\" orbitals of the atoms defining the molecule.\n",
    "- z2_symmetries (bool): whether to perform z2 symmetries reduction. If symmetries in the molecules exist, this option will decrease the number of qubits used and will efficient the Hamiltonian and thus the calculations.\n",
    "\n",
    "Finally, the Hamiltonian is generated from `MoleculeProblem`."
   ]
  },
  {
   "cell_type": "code",
   "execution_count": 7,
   "id": "2e0426d5",
   "metadata": {
    "colab": {
     "base_uri": "https://localhost:8080/",
     "height": 0
    },
    "execution": {
     "iopub.execute_input": "2024-07-31T08:41:57.049117Z",
     "iopub.status.busy": "2024-07-31T08:41:57.048732Z",
     "iopub.status.idle": "2024-07-31T08:42:01.526497Z",
     "shell.execute_reply": "2024-07-31T08:42:01.525754Z"
    },
    "id": "2e0426d5",
    "outputId": "205584a3-ca38-4d54-ca52-dbc3f88b8bbf",
    "tags": []
   },
   "outputs": [
    {
     "name": "stdout",
     "output_type": "stream",
     "text": [
      "Your Hamiltonian is\n",
      "-18.374 * IIIIIIII\n",
      "+1.169 * ZIZIZIZZ\n",
      "-0.061 * IIZIIZZX\n",
      "+0.061 * ZIIIZZIX\n",
      "+0.139 * IIIIIZXI\n",
      "-0.139 * ZIZIZZXZ\n",
      "+0.813 * ZIIIZZII\n",
      "+0.192 * ZIZIZXZZ\n",
      "-0.192 * IIZIIXZZ\n",
      "+0.823 * IIIIIIIZ\n",
      "-0.114 * IIZIIIYY\n",
      "-0.114 * IIZIIIXX\n",
      "+1.640 * IIZIIIII\n",
      "+0.385 * IIIIIIZI\n",
      "+0.377 * IIIIIZII\n",
      "+1.169 * ZZZZZIII\n",
      "-0.061 * ZZZXIIII\n",
      "+0.061 * IIIXZIII\n",
      "+0.139 * ZXIIIIII\n",
      "-0.139 * IXZZZIII\n",
      "+0.813 * IIIIZIII\n",
      "-0.192 * YZZZYIII\n",
      "-0.192 * XZZZXIII\n",
      "+0.823 * IIIZIIII\n",
      "-0.114 * IYZYIIII\n",
      "-0.114 * IXZXIIII\n",
      "+0.385 * IZIIIIII\n",
      "+0.377 * ZIIIIIII\n",
      "+0.125 * IIZIIZZZ\n",
      "+0.024 * IIIIIXII\n",
      "-0.024 * ZIIIZXII\n",
      "+0.138 * ZIZIZIZI\n",
      "+0.019 * ZIIIZIXX\n",
      "+0.019 * ZIIIZIYY\n",
      "+0.338 * ZIIIZIZZ\n",
      "+0.128 * ZIZIZIIZ\n",
      "+0.141 * ZIZIZZZZ\n",
      "-0.003 * ZIZIZIZX\n",
      "+0.003 * IIIIIIIX\n",
      "+0.029 * ZIIIZIXI\n",
      "-0.029 * IIZIIIXZ\n",
      "-0.011 * ZIIIZYIY\n",
      "-0.011 * IIIIIXIX\n",
      "-0.000 * IIIIIYIY\n",
      "-0.000 * IIZIIYZY\n",
      "-0.011 * IIZIIXZX\n",
      "-0.011 * ZIZIZYZY\n",
      "+0.010 * ZIZIZYYZ\n",
      "+0.016 * IIZIIXXZ\n",
      "+0.005 * IIZIIYYZ\n",
      "+0.005 * IIIIIYYI\n",
      "+0.016 * IIIIIXXI\n",
      "+0.010 * ZIIIZYYI\n",
      "+0.030 * IIIIIZXZ\n",
      "-0.030 * ZIZIZZXI\n",
      "-0.023 * IIIIIZZX\n",
      "+0.023 * ZIZIZZIX\n",
      "-0.001 * IIZIIZIX\n",
      "+0.001 * ZIIIZZZX\n",
      "+0.001 * IIZIIIZX\n",
      "-0.001 * ZIIIZIIX\n",
      "+0.065 * IIZIIZXI\n",
      "-0.065 * ZIIIZZXZ\n",
      "+0.020 * IIIIIIXI\n",
      "-0.020 * ZIZIZIXZ\n",
      "+0.182 * IZIZIIZZ\n",
      "+0.001 * ZZIZZZZX\n",
      "-0.001 * IZZZIZIX\n",
      "+0.036 * ZZZZZZXI\n",
      "-0.036 * IZIZIZXZ\n",
      "+0.036 * ZZIZXZZZ\n",
      "-0.036 * IIZIXZZZ\n",
      "-0.036 * ZZZZXIII\n",
      "+0.036 * IIIIXIII\n",
      "+0.010 * ZZZZXXII\n",
      "-0.010 * IIIIXXII\n",
      "+0.010 * IZIZYYZZ\n",
      "-0.010 * ZIZIYYZZ\n",
      "+0.001 * IZIXZIZZ\n",
      "-0.001 * ZIZXIIZZ\n",
      "+0.031 * ZZIXIZZX\n",
      "-0.031 * IIZXZZZX\n",
      "-0.031 * IZZXZZIX\n",
      "+0.031 * ZIIXIZIX\n",
      "+0.005 * ZZZXIZXI\n",
      "-0.005 * IIIXZZXI\n",
      "-0.005 * IZIXZZXZ\n",
      "+0.005 * ZIZXIZXZ\n",
      "+0.036 * ZZXIIZZI\n",
      "-0.036 * IIXZZZZI\n",
      "-0.036 * IZXIZZIZ\n",
      "+0.036 * ZIXZIZIZ\n",
      "+0.036 * IXZIZIZZ\n",
      "-0.036 * ZXIZIIZZ\n",
      "+0.005 * ZXZIIZZX\n",
      "-0.005 * IXIZZZZX\n",
      "-0.005 * IXIIZZIX\n",
      "+0.005 * ZXZZIZIX\n",
      "+0.025 * ZXIIIZXI\n",
      "-0.025 * IXZZZZXI\n",
      "-0.025 * IXZIZZXZ\n",
      "+0.025 * ZXIZIZXZ\n",
      "+0.010 * XIZIIZZZ\n",
      "-0.010 * XZIZZZZZ\n",
      "-0.010 * XIIIIIII\n",
      "+0.010 * XZZZZIII\n",
      "+0.015 * XIIIIXII\n",
      "-0.015 * XZZZZXII\n",
      "+0.015 * YIZIZYZZ\n",
      "-0.015 * YZIZIYZZ\n",
      "+0.161 * ZIZIIIZZ\n",
      "+0.002 * IIZIZZZX\n",
      "-0.002 * ZIIIIZIX\n",
      "+0.019 * IIIIZZXI\n",
      "-0.019 * ZIZIIZXZ\n",
      "-0.005 * IIZYYZZZ\n",
      "-0.005 * IIZXXZZZ\n",
      "+0.005 * IIIYYIII\n",
      "+0.005 * IIIXXIII\n",
      "+0.009 * IIIYYXII\n",
      "+0.009 * IIIXXXII\n",
      "-0.009 * ZIZYXYZZ\n",
      "+0.009 * ZIZXYYZZ\n",
      "+0.010 * IYIZYZZZ\n",
      "+0.010 * IXIZXZZZ\n",
      "-0.010 * IYZZYIII\n",
      "-0.010 * IXZZXIII\n",
      "-0.009 * IYZZYXII\n",
      "-0.009 * IXZZXXII\n",
      "+0.009 * ZYIZXYZZ\n",
      "-0.009 * ZXIZYYZZ\n",
      "+0.035 * XZIZXIZZ\n",
      "+0.035 * YZIZYIZZ\n",
      "+0.019 * YZIZYZZX\n",
      "+0.019 * XZIZXZZX\n",
      "+0.019 * XZZZXZIX\n",
      "+0.019 * YZZZYZIX\n",
      "-0.019 * YZZZYZXI\n",
      "-0.019 * XZZZXZXI\n",
      "-0.019 * XZIZXZXZ\n",
      "-0.019 * YZIZYZXZ\n",
      "+0.169 * ZIZZZIZZ\n",
      "-0.026 * IIZZIZZX\n",
      "+0.026 * ZIIZZZIX\n",
      "+0.022 * IIIZIZXI\n",
      "-0.022 * ZIZZZZXZ\n",
      "+0.012 * IIYYIZZI\n",
      "+0.012 * IIXXIZZI\n",
      "-0.012 * ZIYYZZIZ\n",
      "-0.012 * ZIXXZZIZ\n",
      "-0.024 * ZYIYZIZZ\n",
      "-0.024 * ZXIXZIZZ\n",
      "+0.008 * IYIYIZZX\n",
      "+0.008 * IXIXIZZX\n",
      "-0.008 * ZYZYZZIX\n",
      "-0.008 * ZXZXZZIX\n",
      "-0.015 * IYZYIZXI\n",
      "-0.015 * IXZXIZXI\n",
      "+0.015 * ZYIYZZXZ\n",
      "+0.015 * ZXIXZZXZ\n",
      "+0.019 * YZIYIZZZ\n",
      "+0.019 * XZIXIZZZ\n",
      "-0.019 * YZZYIIII\n",
      "-0.019 * XZZXIIII\n",
      "+0.004 * YZZYIXII\n",
      "+0.004 * XZZXIXII\n",
      "-0.004 * XZIYZYZZ\n",
      "+0.004 * YZIXZYZZ\n",
      "-0.015 * IYYIIZZI\n",
      "-0.015 * IXXIIZZI\n",
      "+0.015 * ZYYIZZIZ\n",
      "+0.015 * ZXXIZZIZ\n",
      "+0.154 * ZZZIZIZZ\n",
      "+0.015 * IZZIIZZX\n",
      "-0.015 * ZZIIZZIX\n",
      "+0.024 * IZIIIZXI\n",
      "-0.024 * ZZZIZZXZ\n",
      "-0.025 * YYZIIZZZ\n",
      "-0.025 * XXZIIZZZ\n",
      "+0.025 * YYIIIIII\n",
      "+0.025 * XXIIIIII\n",
      "+0.002 * YYIIIXII\n",
      "+0.002 * XXIIIXII\n",
      "-0.002 * XYZIZYZZ\n",
      "+0.002 * YXZIZYZZ\n",
      "+0.156 * IIZIZIZZ\n",
      "-0.003 * ZIZIIZZX\n",
      "+0.003 * IIIIZZIX\n",
      "+0.017 * ZIIIIZXI\n",
      "-0.017 * IIZIZZXZ\n",
      "+0.138 * ZIIIZZIZ\n",
      "-0.018 * ZIZIZZYY\n",
      "-0.018 * ZIZIZZXX\n",
      "+0.307 * ZIZIZZII\n",
      "+0.125 * ZIIIZZZI\n",
      "+0.229 * ZIIIZIII\n",
      "+0.039 * ZIZIZXZI\n",
      "-0.039 * IIZIIXZI\n",
      "+0.008 * ZIIIZXXX\n",
      "+0.008 * ZIIIZXYY\n",
      "+0.001 * ZIIIZYXY\n",
      "+0.001 * IIIIIYYX\n",
      "-0.008 * IIIIIXXX\n",
      "-0.008 * IIIIIXYY\n",
      "+0.089 * ZIIIZXZZ\n",
      "-0.089 * IIIIIXZZ\n",
      "+0.026 * ZIZIZXIZ\n",
      "-0.026 * IIZIIXIZ\n",
      "+0.161 * IZZZIZII\n",
      "+0.035 * IZIZIXZZ\n",
      "-0.035 * ZZIZZXZZ\n",
      "-0.005 * IZZZYZIY\n",
      "+0.005 * ZIIIYZIY\n",
      "-0.005 * ZZZZXIIX\n",
      "+0.005 * IIIIXIIX\n",
      "+0.010 * IZIZYZYZ\n",
      "-0.010 * ZIZIYZYZ\n",
      "+0.010 * ZZIZXIXZ\n",
      "-0.010 * IIZIXIXZ\n",
      "+0.002 * IZZXZZII\n",
      "-0.002 * ZIIXIZII\n",
      "-0.019 * IZIXZXZZ\n",
      "+0.019 * ZIZXIXZZ\n",
      "+0.019 * ZZIXIXZZ\n",
      "-0.019 * IIZXZXZZ\n",
      "+0.019 * IXIIZZII\n",
      "-0.019 * ZXZZIZII\n",
      "+0.019 * IXZIZXZZ\n",
      "-0.019 * ZXIZIXZZ\n",
      "-0.019 * ZXZIIXZZ\n",
      "+0.019 * IXIZZXZZ\n",
      "+0.009 * YIIIZZIY\n",
      "-0.009 * YZZZIZIY\n",
      "+0.009 * XIIIIIIX\n",
      "-0.009 * XZZZZIIX\n",
      "-0.009 * YIZIZZYZ\n",
      "+0.009 * YZIZIZYZ\n",
      "-0.009 * XIZIIIXZ\n",
      "+0.009 * XZIZZIXZ\n",
      "+0.313 * ZIIIIZII\n",
      "-0.001 * ZIZIIXZZ\n",
      "+0.001 * IIZIZXZZ\n",
      "-0.012 * ZIIYXZIY\n",
      "+0.012 * ZIIXYZIY\n",
      "+0.012 * IIIYYIIX\n",
      "+0.012 * IIIXXIIX\n",
      "+0.007 * ZIZYXZYZ\n",
      "-0.007 * ZIZXYZYZ\n",
      "-0.007 * IIZYYIXZ\n",
      "-0.007 * IIZXXIXZ\n",
      "+0.007 * ZIXZXZIZ\n",
      "+0.007 * ZIYZYZIZ\n",
      "+0.007 * IIYZYIIZ\n",
      "+0.007 * IIXZXIIZ\n",
      "+0.007 * ZYZZXZIY\n",
      "-0.007 * ZXZZYZIY\n",
      "-0.007 * IYZZYIIX\n",
      "-0.007 * IXZZXIIX\n",
      "-0.018 * ZYIZXZYZ\n",
      "+0.018 * ZXIZYZYZ\n",
      "+0.018 * IYIZYIXZ\n",
      "+0.018 * IXIZXIXZ\n",
      "-0.001 * XZZZXZII\n",
      "-0.001 * YZZZYZII\n",
      "+0.076 * XZIZXXZZ\n",
      "+0.076 * YZIZYXZZ\n",
      "+0.150 * ZIIZZZII\n",
      "+0.040 * ZIZZZXZZ\n",
      "-0.040 * IIZZIXZZ\n",
      "-0.011 * ZYZYZZII\n",
      "-0.011 * ZXZXZZII\n",
      "-0.020 * ZYIYZXZZ\n",
      "-0.020 * ZXIXZXZZ\n",
      "+0.020 * IYIYIXZZ\n",
      "+0.020 * IXIXIXZZ\n",
      "-0.001 * XZZYZZIY\n",
      "+0.001 * YZZXZZIY\n",
      "+0.001 * YZZYIIIX\n",
      "+0.001 * XZZXIIIX\n",
      "-0.011 * XZIYZZYZ\n",
      "+0.011 * YZIXZZYZ\n",
      "+0.011 * YZIYIIXZ\n",
      "+0.011 * XZIXIIXZ\n",
      "+0.006 * XZXIZZIZ\n",
      "+0.006 * YZYIZZIZ\n",
      "+0.006 * YZYIIIIZ\n",
      "+0.006 * XZXIIIIZ\n",
      "+0.143 * ZZIIZZII\n",
      "+0.009 * ZZZIZXZZ\n",
      "-0.009 * IZZIIXZZ\n",
      "-0.012 * XYIIZZIY\n",
      "+0.012 * YXIIZZIY\n",
      "+0.012 * YYIIIIIX\n",
      "+0.012 * XXIIIIIX\n",
      "+0.016 * XYZIZZYZ\n",
      "-0.016 * YXZIZZYZ\n",
      "-0.016 * YYZIIIXZ\n",
      "-0.016 * XXZIIIXZ\n",
      "+0.305 * IIIIZZII\n",
      "+0.351 * IIZIIIIZ\n",
      "+0.120 * IIIIIIZZ\n",
      "+0.135 * IIIIIZIZ\n",
      "-0.059 * IIIIIIYY\n",
      "-0.059 * IIIIIIXX\n",
      "-0.025 * IIZIIZYY\n",
      "-0.025 * IIZIIZXX\n",
      "+0.169 * ZZZZZIIZ\n",
      "-0.024 * ZZIZZIYY\n",
      "-0.024 * ZZIZZIXX\n",
      "+0.019 * ZZIZXYZY\n",
      "-0.019 * IIZIXYZY\n",
      "+0.019 * ZZIZXXZX\n",
      "-0.019 * IIZIXXZX\n",
      "-0.026 * ZZZXIIIZ\n",
      "+0.026 * IIIXZIIZ\n",
      "+0.008 * ZZIXIIYY\n",
      "-0.008 * IIZXZIYY\n",
      "+0.008 * ZZIXIIXX\n",
      "-0.008 * IIZXZIXX\n",
      "+0.012 * ZZYIIIIY\n",
      "-0.012 * IIYZZIIY\n",
      "+0.012 * ZZXIIIIX\n",
      "-0.012 * IIXZZIIX\n",
      "+0.022 * ZXIIIIIZ\n",
      "-0.022 * IXZZZIIZ\n",
      "-0.015 * ZXZIIIYY\n",
      "+0.015 * IXIZZIYY\n",
      "-0.015 * ZXZIIIXX\n",
      "+0.015 * IXIZZIXX\n",
      "+0.004 * XIZIIYZY\n",
      "-0.004 * XZIZZYZY\n",
      "+0.004 * XIZIIXZX\n",
      "-0.004 * XZIZZXZX\n",
      "+0.150 * IIIIZIIZ\n",
      "-0.011 * IIZIZIYY\n",
      "-0.011 * IIZIZIXX\n",
      "+0.001 * IIZYYYZY\n",
      "+0.001 * IIZXXYZY\n",
      "+0.001 * IIZYYXZX\n",
      "+0.001 * IIZXXXZX\n",
      "+0.011 * IYIZYYZY\n",
      "+0.011 * IXIZXYZY\n",
      "+0.011 * IYIZYXZX\n",
      "+0.011 * IXIZXXZX\n",
      "-0.040 * YZZZYIIZ\n",
      "-0.040 * XZZZXIIZ\n",
      "+0.020 * YZIZYIYY\n",
      "+0.020 * XZIZXIYY\n",
      "+0.020 * YZIZYIXX\n",
      "+0.020 * XZIZXIXX\n",
      "+0.196 * IIIZIIIZ\n",
      "-0.030 * IIZZIIYY\n",
      "-0.030 * IIZZIIXX\n",
      "-0.014 * IIXYIIIY\n",
      "+0.014 * IIYXIIIY\n",
      "+0.014 * IIYYIIIX\n",
      "+0.014 * IIXXIIIX\n",
      "-0.030 * IYZYIIIZ\n",
      "-0.030 * IXZXIIIZ\n",
      "+0.017 * IYIYIIYY\n",
      "+0.017 * IXIXIIYY\n",
      "+0.017 * IYIYIIXX\n",
      "+0.017 * IXIXIIXX\n",
      "+0.017 * YZIYIYZY\n",
      "+0.017 * XZIXIYZY\n",
      "+0.017 * YZIYIXZX\n",
      "+0.017 * XZIXIXZX\n",
      "+0.000 * IYXIIIIY\n",
      "-0.000 * IXYIIIIY\n",
      "-0.000 * IYYIIIIX\n",
      "-0.000 * IXXIIIIX\n",
      "+0.137 * IZIIIIIZ\n",
      "-0.011 * IZZIIIYY\n",
      "-0.011 * IZZIIIXX\n",
      "-0.014 * YYZIIYZY\n",
      "-0.014 * XXZIIYZY\n",
      "-0.014 * YYZIIXZX\n",
      "-0.014 * XXZIIXZX\n",
      "+0.152 * ZIIIIIIZ\n",
      "-0.010 * ZIZIIIYY\n",
      "-0.010 * ZIZIIIXX\n",
      "+0.285 * IIZIIIZI\n",
      "+0.306 * IIZIIZII\n",
      "+0.338 * ZZIZZIII\n",
      "-0.023 * ZZIXIIII\n",
      "+0.023 * IIZXZIII\n",
      "-0.015 * ZZYIIIYI\n",
      "+0.015 * IIYZZIYI\n",
      "-0.015 * ZZXIIIXI\n",
      "+0.015 * IIXZZIXI\n",
      "+0.065 * ZXZIIIII\n",
      "-0.065 * IXIZZIII\n",
      "+0.307 * IIZIZIII\n",
      "-0.006 * IIXZYYZI\n",
      "+0.006 * IIYZXYZI\n",
      "+0.006 * IIYZYXZI\n",
      "+0.006 * IIXZXXZI\n",
      "-0.089 * YZIZYIII\n",
      "-0.089 * XZIZXIII\n",
      "+0.351 * IIZZIIII\n",
      "+0.000 * IIXYIIYI\n",
      "-0.000 * IIYXIIYI\n",
      "-0.000 * IIYYIIXI\n",
      "-0.000 * IIXXIIXI\n",
      "-0.059 * IYIYIIII\n",
      "-0.059 * IXIXIIII\n",
      "-0.010 * IYXIIIYI\n",
      "+0.010 * IXYIIIYI\n",
      "+0.010 * IYYIIIXI\n",
      "+0.010 * IXXIIIXI\n",
      "-0.006 * YZXIIYZI\n",
      "+0.006 * XZYIIYZI\n",
      "+0.006 * YZYIIXZI\n",
      "+0.006 * XZXIIXZI\n",
      "+0.285 * IZZIIIII\n",
      "+0.306 * ZIZIIIII\n",
      "+0.113 * IIIIIZZI\n",
      "+0.154 * ZZZZZIZI\n",
      "-0.025 * ZZZZXYYI\n",
      "+0.025 * IIIIXYYI\n",
      "-0.025 * ZZZZXXXI\n",
      "+0.025 * IIIIXXXI\n",
      "+0.015 * ZZZXIIZI\n",
      "-0.015 * IIIXZIZI\n",
      "+0.024 * ZXIIIIZI\n",
      "-0.024 * IXZZZIZI\n",
      "+0.002 * XIIIIYYI\n",
      "-0.002 * XZZZZYYI\n",
      "+0.002 * XIIIIXXI\n",
      "-0.002 * XZZZZXXI\n",
      "+0.143 * IIIIZIZI\n",
      "+0.012 * IIIYYYYI\n",
      "+0.012 * IIIXXYYI\n",
      "+0.012 * IIIYYXXI\n",
      "+0.012 * IIIXXXXI\n",
      "-0.016 * IYZZYYYI\n",
      "-0.016 * IXZZXYYI\n",
      "-0.016 * IYZZYXXI\n",
      "-0.016 * IXZZXXXI\n",
      "-0.009 * YZZZYIZI\n",
      "-0.009 * XZZZXIZI\n",
      "+0.137 * IIIZIIZI\n",
      "-0.011 * IYZYIIZI\n",
      "-0.011 * IXZXIIZI\n",
      "-0.014 * YZZYIYYI\n",
      "-0.014 * XZZXIYYI\n",
      "-0.014 * YZZYIXXI\n",
      "-0.014 * XZZXIXXI\n",
      "+0.149 * IZIIIIZI\n",
      "+0.029 * YYIIIYYI\n",
      "+0.029 * XXIIIYYI\n",
      "+0.029 * YYIIIXXI\n",
      "+0.029 * XXIIIXXI\n",
      "+0.142 * ZIIIIIZI\n",
      "+0.156 * ZZZZZZII\n",
      "-0.003 * ZZZXIZII\n",
      "+0.003 * IIIXZZII\n",
      "+0.017 * ZXIIIZII\n",
      "-0.017 * IXZZZZII\n",
      "+0.152 * IIIZIZII\n",
      "-0.010 * IYZYIZII\n",
      "-0.010 * IXZXIZII\n",
      "+0.142 * IZIIIZII\n",
      "+0.125 * ZZZZIIII\n",
      "+0.024 * XIIIXIII\n",
      "+0.024 * YIIIYIII\n",
      "+0.138 * ZZZIZIII\n",
      "+0.019 * ZXIXZIII\n",
      "+0.019 * ZYIYZIII\n",
      "+0.128 * ZIZZZIII\n",
      "+0.141 * IZZZZIII\n",
      "-0.003 * ZZZXZIII\n",
      "+0.003 * IIIXIIII\n",
      "+0.029 * ZXIIZIII\n",
      "-0.029 * IXZZIIII\n",
      "-0.011 * XIIYYIII\n",
      "-0.011 * XIIXXIII\n",
      "-0.000 * YIIYXIII\n",
      "-0.000 * YZZYXIII\n",
      "-0.011 * XZZXXIII\n",
      "-0.011 * XZZYYIII\n",
      "+0.010 * XYZZYIII\n",
      "+0.016 * XXZZXIII\n",
      "+0.005 * YYZZXIII\n",
      "+0.005 * YYIIXIII\n",
      "+0.016 * XXIIXIII\n",
      "+0.010 * XYIIYIII\n",
      "+0.030 * ZXIZIIII\n",
      "-0.030 * IXZIZIII\n",
      "-0.001 * ZIZXIIII\n",
      "+0.001 * IZIXZIII\n",
      "+0.001 * IZZXIIII\n",
      "-0.001 * ZIIXZIII\n",
      "+0.020 * IXIIIIII\n",
      "-0.020 * ZXZZZIII\n",
      "+0.138 * IIIZZIII\n",
      "-0.018 * IYZYZIII\n",
      "-0.018 * IXZXZIII\n",
      "+0.125 * IZIIZIII\n",
      "-0.039 * YZZIYIII\n",
      "-0.039 * XZZIXIII\n",
      "-0.008 * YXIXYIII\n",
      "-0.008 * YYIYYIII\n",
      "+0.001 * XXIYYIII\n",
      "+0.001 * YYIXXIII\n",
      "-0.008 * XXIXXIII\n",
      "-0.008 * XYIYXIII\n",
      "-0.026 * YIZZYIII\n",
      "-0.026 * XIZZXIII\n",
      "+0.120 * IZIZIIII\n",
      "+0.135 * ZIIZIIII\n",
      "-0.025 * ZYZYIIII\n",
      "-0.025 * ZXZXIIII\n",
      "+0.113 * ZZIIIIII\n"
     ]
    }
   ],
   "source": [
    "chemistry_problem = MoleculeProblem(\n",
    "    molecule=molecule,\n",
    "    mapping=\"jordan_wigner\",  #'bravyi_kitaev'\n",
    "    z2_symmetries=True,\n",
    "    freeze_core=True,\n",
    ")\n",
    "\n",
    "operator = chemistry_problem.generate_hamiltonian()\n",
    "gs_problem = chemistry_problem.update_problem(operator.num_qubits)\n",
    "print(\"Your Hamiltonian is\", operator.show(), sep=\"\\n\")"
   ]
  },
  {
   "cell_type": "markdown",
   "id": "67a124c2-33fc-420c-8cb3-0002f18f4e77",
   "metadata": {
    "id": "67a124c2-33fc-420c-8cb3-0002f18f4e77"
   },
   "source": [
    "The output of the above code lines is the Hamiltonian presented as a superposition of Pauli matrices multiplication.\n",
    "One can easily confirm that using z2*symmetries=True, the number of qubits are reduced (compered to z2_symmetries=False): for $H_2$ - from 4 to 1, for $LiH$ from 12 to 8, and for $H*{2}O$ from 14 to 10."
   ]
  },
  {
   "cell_type": "markdown",
   "id": "8abe3e3d-1b01-4fab-b86a-feaab3851950",
   "metadata": {
    "id": "8abe3e3d-1b01-4fab-b86a-feaab3851950"
   },
   "source": [
    "## 2. Constructing and Synthesizing a Ground State Solver\n",
    "\n",
    "A ground state solver model consists of a parameterized eigenfunction (\"the ansatz\"), on which we run a VQE. In addition, a post-process of the result allows to return the total energy (combining the ground state energy of the Hamiltonian, the nuclear repulsion and the static nuclear energy).\n",
    "\n",
    "Once we've specified an Hamiltonian and a desired Ansatz, we send them to the VQE algorithm in order to find the Hamiltonian's ground state. In the process, the algorithm will send requests to a classical server, which task is to minimize the energy expectation value and return the optimized parameters. The simulator and optimizing parameters are defined as part of the VQE part of the model. The user should control the `max_iteration` value in a manner so the solution has reached a stable convergence. In addition, the value `num_shots` sets the number of measurements performed after each iteration, thus influence the accuracy of the solutions.\n",
    "\n",
    "We demonstrate two different proposal for the wavefunction solution ansatz: (1) Hardware (HW) efficient, and (2) Unitary Coupled Cluster (UCC). For groundstate solvers it is typical to initialize the Ansatz with the Hartree-Fock state."
   ]
  },
  {
   "cell_type": "markdown",
   "id": "07ed8f8e-485b-4f0f-93b7-78e7fd6fbe39",
   "metadata": {
    "id": "07ed8f8e-485b-4f0f-93b7-78e7fd6fbe39"
   },
   "source": [
    "### 2.1 HW-Efficient Ansatz\n",
    "\n",
    "Hardware-efficient ansatz is a suggested solution that is generated to fit a specific hardware [1]. The ansatz creates a state with given number of parameters by user choice (number of qubits, that should fit the Hamiltonian), and creates entanglement between the qubits by the inputed connectivity map. In this example, a 4 qubit map is given, which is specifically made of $H_2$ with z2_symmetries=False.\n",
    "\n",
    "After constructing the model, we can synthesize it and view the outputted circuit, in charged on creating the state with an interactive interface."
   ]
  },
  {
   "cell_type": "code",
   "execution_count": 8,
   "id": "90b20061-8dbd-4136-adba-28ddacb1f583",
   "metadata": {
    "execution": {
     "iopub.execute_input": "2024-07-31T08:42:01.529619Z",
     "iopub.status.busy": "2024-07-31T08:42:01.528799Z",
     "iopub.status.idle": "2024-07-31T08:42:01.545140Z",
     "shell.execute_reply": "2024-07-31T08:42:01.544095Z"
    },
    "id": "90b20061-8dbd-4136-adba-28ddacb1f583",
    "tags": []
   },
   "outputs": [],
   "source": [
    "chemistry_problem = MoleculeProblem(\n",
    "    molecule=molecule,\n",
    "    mapping=\"jordan_wigner\",  #'bravyi_kitaev'\n",
    "    z2_symmetries=False,\n",
    "    freeze_core=True,\n",
    ")\n",
    "\n",
    "hwea_params = HEAParameters(\n",
    "    num_qubits=12,\n",
    "    connectivity_map=[\n",
    "        (0, 1),\n",
    "        (1, 2),\n",
    "        (2, 3),\n",
    "        (3, 4),\n",
    "        (4, 5),\n",
    "        (5, 6),\n",
    "        (6, 7),\n",
    "        (7, 8),\n",
    "        (8, 9),\n",
    "        (9, 10),\n",
    "    ],\n",
    "    reps=3,\n",
    "    one_qubit_gates=[\"x\", \"ry\"],\n",
    "    two_qubit_gates=[\"cx\"],\n",
    ")\n",
    "\n",
    "qmod = construct_chemistry_model(\n",
    "    chemistry_problem=chemistry_problem,\n",
    "    use_hartree_fock=True,\n",
    "    ansatz_parameters=hwea_params,\n",
    "    execution_parameters=ChemistryExecutionParameters(\n",
    "        optimizer=OptimizerType.COBYLA,\n",
    "        max_iteration=30,\n",
    "        initial_point=None,\n",
    "    ),\n",
    ")\n",
    "\n",
    "backend_preferences = ClassiqBackendPreferences(\n",
    "    backend_name=ClassiqSimulatorBackendNames.SIMULATOR\n",
    ")\n",
    "\n",
    "qmod = set_execution_preferences(\n",
    "    qmod,\n",
    "    execution_preferences=ExecutionPreferences(\n",
    "        num_shots=1000, backend_preferences=backend_preferences\n",
    "    ),\n",
    ")"
   ]
  },
  {
   "cell_type": "code",
   "execution_count": 9,
   "id": "f13599d2-e8e7-4165-aa26-8ae8d4bdafaa",
   "metadata": {
    "execution": {
     "iopub.execute_input": "2024-07-31T08:42:01.550155Z",
     "iopub.status.busy": "2024-07-31T08:42:01.548926Z",
     "iopub.status.idle": "2024-07-31T08:42:01.553683Z",
     "shell.execute_reply": "2024-07-31T08:42:01.552787Z"
    },
    "id": "f13599d2-e8e7-4165-aa26-8ae8d4bdafaa",
    "tags": []
   },
   "outputs": [],
   "source": [
    "# optional:\n",
    "\n",
    "# from classiq import write_qmod\n",
    "# write_qmod(qmod, name=\"molecule_eigensolver\")"
   ]
  },
  {
   "cell_type": "code",
   "execution_count": 10,
   "id": "22cd12d1-2c87-400a-a983-b2f24e40fa45",
   "metadata": {
    "colab": {
     "base_uri": "https://localhost:8080/",
     "height": 0
    },
    "execution": {
     "iopub.execute_input": "2024-07-31T08:42:01.563423Z",
     "iopub.status.busy": "2024-07-31T08:42:01.563054Z",
     "iopub.status.idle": "2024-07-31T08:42:10.851133Z",
     "shell.execute_reply": "2024-07-31T08:42:10.850277Z"
    },
    "id": "22cd12d1-2c87-400a-a983-b2f24e40fa45",
    "outputId": "d48d0740-4851-4943-f54b-325303b4838a",
    "tags": []
   },
   "outputs": [],
   "source": [
    "qprog = synthesize(qmod)\n",
    "# show(qprog) # optional"
   ]
  },
  {
   "cell_type": "markdown",
   "id": "7fb92cdc",
   "metadata": {
    "id": "7fb92cdc"
   },
   "source": [
    "### 2.2. UCC Ansatz\n",
    "\n",
    "Next, we show how to create the commonly used chemistry-inspired UCC ansatz, which is a unitary version of the classical coupled cluster (CC) method [2] .\n",
    "\n",
    "The parameter that defines the UCC ansatz is:\n",
    "- excitations (List[int] or List[str]): list of desired excitations. Allowed excitations:\n",
    "        - 1 for singles\n",
    "        - 2 for doubles\n",
    "        - 3 for triples\n",
    "        - 4 for quadruples\n",
    "\n",
    "Once again, after the code lines bellow run, the user is able to view the outputted circuit, in charged on creating the state with an interactive interface. In addition, the depth of the circuit is printed.\n"
   ]
  },
  {
   "cell_type": "code",
   "execution_count": 11,
   "id": "1f520673",
   "metadata": {
    "colab": {
     "base_uri": "https://localhost:8080/",
     "height": 0
    },
    "execution": {
     "iopub.execute_input": "2024-07-31T08:42:10.854954Z",
     "iopub.status.busy": "2024-07-31T08:42:10.854475Z",
     "iopub.status.idle": "2024-07-31T08:42:36.201837Z",
     "shell.execute_reply": "2024-07-31T08:42:36.201103Z"
    },
    "id": "1f520673",
    "outputId": "fd4a3467-c48b-483c-b156-0a0cde9e2189",
    "tags": []
   },
   "outputs": [
    {
     "name": "stdout",
     "output_type": "stream",
     "text": [
      "circuit depth: 1059\n"
     ]
    }
   ],
   "source": [
    "chemistry_problem = MoleculeProblem(\n",
    "    molecule=molecule,\n",
    "    mapping=\"jordan_wigner\",  #'bravyi_kitaev'\n",
    "    z2_symmetries=True,\n",
    "    freeze_core=True,\n",
    ")\n",
    "\n",
    "serialized_chemistry_model = construct_chemistry_model(\n",
    "    chemistry_problem=chemistry_problem,\n",
    "    use_hartree_fock=True,\n",
    "    ansatz_parameters=UCCParameters(excitations=[1, 2]),\n",
    "    execution_parameters=ChemistryExecutionParameters(\n",
    "        optimizer=OptimizerType.COBYLA,\n",
    "        max_iteration=30,\n",
    "        initial_point=None,\n",
    "    ),\n",
    ")\n",
    "\n",
    "backend_preferences = ClassiqBackendPreferences(\n",
    "    backend_name=ClassiqSimulatorBackendNames.SIMULATOR\n",
    ")\n",
    "\n",
    "serialized_chemistry_model = set_execution_preferences(\n",
    "    serialized_chemistry_model,\n",
    "    execution_preferences=ExecutionPreferences(\n",
    "        num_shots=1000, backend_preferences=backend_preferences\n",
    "    ),\n",
    ")\n",
    "\n",
    "qprog = synthesize(serialized_chemistry_model)\n",
    "# show(qprog) # optional\n",
    "\n",
    "circuit = QuantumProgram.from_qprog(qprog)\n",
    "print(f\"circuit depth: {circuit.transpiled_circuit.depth}\")"
   ]
  },
  {
   "cell_type": "markdown",
   "id": "f12c9a32-f271-4892-8515-bd9e6b9fcf8b",
   "metadata": {
    "id": "f12c9a32-f271-4892-8515-bd9e6b9fcf8b"
   },
   "source": [
    "Classiq's UCC algorithm provides an highly efficient solution in aspects of circuit depth and number of CX gates. Those ultimately reduce the gate's time and amount of resources needed for its operation."
   ]
  },
  {
   "cell_type": "markdown",
   "id": "ef36661f",
   "metadata": {
    "id": "ef36661f"
   },
   "source": [
    "## 3. Execute to Find Ground State\n",
    "\n",
    "Once we've synthesized the model we can execute it. \n",
    "\n",
    "**Uncomment the remaining code lines to run the final part. It will take a few minutes.**"
   ]
  },
  {
   "cell_type": "code",
   "execution_count": 12,
   "id": "1a66d377",
   "metadata": {
    "colab": {
     "base_uri": "https://localhost:8080/",
     "height": 477
    },
    "execution": {
     "iopub.execute_input": "2024-07-31T08:42:36.204909Z",
     "iopub.status.busy": "2024-07-31T08:42:36.204730Z",
     "iopub.status.idle": "2024-07-31T08:42:36.207210Z",
     "shell.execute_reply": "2024-07-31T08:42:36.206635Z"
    },
    "id": "1a66d377",
    "outputId": "1c93e68e-1300-4fde-ec56-e6e2d377a96e",
    "tags": []
   },
   "outputs": [],
   "source": [
    "# result = execute(qprog).result()\n",
    "# chemistry_result_dict = result[1].value"
   ]
  },
  {
   "cell_type": "markdown",
   "id": "f72ceeb5-bc71-46d8-a390-31ec874700f3",
   "metadata": {
    "id": "f72ceeb5-bc71-46d8-a390-31ec874700f3"
   },
   "source": [
    "Execution of the quantum program returns several useful outputs:\n",
    "- energy : the output of the VQE algorithm - the electronic energy simulated.\n",
    "- nuclear_repulsion : the electrostatic energy generated by the atom's nuclei.\n",
    "- hartree_fock_energy : the Hartree Fock energy.\n",
    "- total_energy : this is the ground state energy of the Hamiltonian (combining the energy, the nuclear repulsion and the static nuclear energy).\n",
    "\n",
    "It also contains the full VQE result from which we can get, for example:\n",
    "- optimal_parameters : gives the results for the anzats parameters minimizing that expectation value.\n",
    "- eigenstate : gives the ground state wave function.\n",
    "\n",
    "Note the all energy are presented in units of Hartree."
   ]
  },
  {
   "cell_type": "code",
   "execution_count": 13,
   "id": "437b3211",
   "metadata": {
    "colab": {
     "base_uri": "https://localhost:8080/",
     "height": 0
    },
    "execution": {
     "iopub.execute_input": "2024-07-31T08:42:36.209750Z",
     "iopub.status.busy": "2024-07-31T08:42:36.209264Z",
     "iopub.status.idle": "2024-07-31T08:42:36.212234Z",
     "shell.execute_reply": "2024-07-31T08:42:36.211669Z"
    },
    "id": "437b3211",
    "outputId": "dbe14152-d540-4cd0-f294-b17824883a4c",
    "tags": []
   },
   "outputs": [],
   "source": [
    "# chemistry_result_dict[\"total_energy\"]"
   ]
  },
  {
   "cell_type": "code",
   "execution_count": 14,
   "id": "9a537d3c",
   "metadata": {
    "colab": {
     "base_uri": "https://localhost:8080/",
     "height": 0
    },
    "execution": {
     "iopub.execute_input": "2024-07-31T08:42:36.214611Z",
     "iopub.status.busy": "2024-07-31T08:42:36.214094Z",
     "iopub.status.idle": "2024-07-31T08:42:36.217043Z",
     "shell.execute_reply": "2024-07-31T08:42:36.216461Z"
    },
    "id": "9a537d3c",
    "outputId": "bbb38543-5586-41d0-80a4-32ce72e3fa1b"
   },
   "outputs": [],
   "source": [
    "# chemistry_result_dict[\"vqe_result\"][\"optimal_parameters\"]"
   ]
  },
  {
   "cell_type": "markdown",
   "id": "2375f3c3",
   "metadata": {
    "id": "2375f3c3"
   },
   "source": [
    "Finally, we can compare the VQE solution to the classical solution by employing exact diagonalization:"
   ]
  },
  {
   "cell_type": "code",
   "execution_count": 15,
   "id": "5c896576",
   "metadata": {
    "colab": {
     "base_uri": "https://localhost:8080/",
     "height": 0
    },
    "execution": {
     "iopub.execute_input": "2024-07-31T08:42:36.219582Z",
     "iopub.status.busy": "2024-07-31T08:42:36.218974Z",
     "iopub.status.idle": "2024-07-31T08:42:36.222025Z",
     "shell.execute_reply": "2024-07-31T08:42:36.221432Z"
    },
    "id": "5c896576",
    "outputId": "f6ada73d-6bd4-440d-98c1-d17e70b57cde",
    "tags": []
   },
   "outputs": [],
   "source": [
    "# mat = operator.to_matrix()\n",
    "# w, v = np.linalg.eig(mat)\n",
    "# print(\"exact result:\", np.real(min(w)))\n",
    "# print(\"vqe result:\", chemistry_result_dict[\"energy\"])"
   ]
  },
  {
   "cell_type": "markdown",
   "id": "TXF-IJT59B7j",
   "metadata": {
    "id": "TXF-IJT59B7j"
   },
   "source": [
    "## **h2**\n",
    "\n",
    "hw-eff: width 4/depth34\n",
    "\n",
    "ucc: width 1/depth 6, width 4, depth 3\n",
    "\n",
    "total en -1.1342995783232035,\n",
    "exact result: -1.8572750302023786,\n",
    "vqe result: -1.854268572772183\n"
   ]
  },
  {
   "cell_type": "markdown",
   "id": "2qTUaxbEX5IF",
   "metadata": {
    "id": "2qTUaxbEX5IF"
   },
   "source": [
    "## **h2o**\n",
    "\n",
    "hw-eff.: width 12/depth 375,\n",
    "(conn map 0-1..10-11, reps 11)\n",
    "\n",
    "ucc: width 8/depth 1218, width 12/depth 1048\n",
    "\n",
    "total energy -71.7605079203085,\n",
    "exact result: -23.544497240443615,\n",
    "vqe result: -80.95442108093192"
   ]
  },
  {
   "cell_type": "markdown",
   "id": "bxRq_3-Jb4_0",
   "metadata": {
    "id": "bxRq_3-Jb4_0"
   },
   "source": [
    "## **co2**\n",
    "\n",
    "hw-eff: width 24/depth 175\n",
    "\n",
    "ucc: width 20/depth 19767, width 24/depth 16968"
   ]
  },
  {
   "cell_type": "markdown",
   "id": "b998e321",
   "metadata": {
    "id": "b998e321"
   },
   "source": [
    "[1] Abhinav Kandala, Antonio Mezzacapo, Kristan Temme, Maika Takita, Markus Brink, Jerry M. Chow, Jay M. Gambetta Hardware-efficient variational quantum eigensolver for small molecules and quantum magnets. Nature 549, 242 (2017)\n",
    "\n",
    "[2] Panagiotis Kl. Barkoutsos, Jerome F. Gonthier, Igor Sokolov, Nikolaj Moll, Gian Salis, Andreas Fuhrer, Marc Ganzhorn, Daniel J. Egger, Matthias Troyer, Antonio Mezzacapo, Stefan Filipp, and Ivano Tavernelli Quantum algorithms for electronic structure calculations: Particle-hole Hamiltonian and optimized wave-function expansions Phys. Rev. A 98, 022322 (2018)\n"
   ]
  }
 ],
 "metadata": {
  "colab": {
   "include_colab_link": true,
   "provenance": []
  },
  "kernelspec": {
   "display_name": "Python 3 (ipykernel)",
   "language": "python",
   "name": "python3"
  },
  "language_info": {
   "codemirror_mode": {
    "name": "ipython",
    "version": 3
   },
   "file_extension": ".py",
   "mimetype": "text/x-python",
   "name": "python",
   "nbconvert_exporter": "python",
   "pygments_lexer": "ipython3",
   "version": "3.11.9"
  }
 },
 "nbformat": 4,
 "nbformat_minor": 5
}
