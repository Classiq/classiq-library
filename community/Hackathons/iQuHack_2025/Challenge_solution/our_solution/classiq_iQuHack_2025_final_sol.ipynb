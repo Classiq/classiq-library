{
 "cells": [
  {
   "cell_type": "markdown",
   "metadata": {},
   "source": [
    "<center>\n",
    "    <img src=\"data:image/png;base64,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\" width=\"500\" />\n",
    "</center>\n",
    "\n",
    "\n",
    "\n",
    "<!-- ![MITClassiq](data:image/png;base64,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) -->"
   ]
  },
  {
   "cell_type": "markdown",
   "metadata": {},
   "source": [
    "# Classiq Challenge - Gaussian State Prepration - With Solutions & Notes!"
   ]
  },
  {
   "cell_type": "markdown",
   "metadata": {},
   "source": [
    "**We now have a new Web-SDK with a Python environment set up for you, along with a personal workspace where all your work will be saved!**  \n",
    "Please upload this challenge notebook to the Web-SDK on our [platform](https://platform.classiq.io/) in your persistent user workspace and try solving it there."
   ]
  },
  {
   "cell_type": "markdown",
   "metadata": {},
   "source": [
    "## Welcome to the Classiq challenge of the MIT iQuHack Hackathon 2025!"
   ]
  },
  {
   "cell_type": "markdown",
   "metadata": {},
   "source": [
    "### Motivation"
   ]
  },
  {
   "cell_type": "markdown",
   "metadata": {},
   "source": [
    "**State Preparation** is a cornerstone of quantum algorithms and applications, enabling the initialization of quantum systems into specific states as a starting point for subsequent operations. Its efficiency directly impacts the accuracy and scalability of quantum computations.\n",
    "\n",
    "A particular interest is the **Gaussian state preparation**, which is essential for simulating physical systems and tackling problems in quantum chemistry, machine learning, and optimization. Gaussian states, characterized by their Gaussian-shaped wavefunctions, are powerful tools for encoding probability distributions and modeling quantum systems.\n",
    "\n",
    "With the scaling of quantum hardware, achieving efficient and precise Gaussian state preparation could improve the costs of quantum algorithms and enhance impactful applications like option pricing in finance, molecular simulations in quantum chemistry, and data analysis in machine learning, among others.\n",
    "\n",
    "---"
   ]
  },
  {
   "cell_type": "markdown",
   "metadata": {},
   "source": [
    "**This Jupyter notebook serves as the framework for the challenge.**  \n",
    "Please read it fully and carefully to understand the scope of the challenge before you start solving the problem using **Classiq**.\n",
    "\n",
    "The notebook is divided into two parts:  \n",
    "1. **The challenge**: This includes the problem you need to solve, the required format, instructions to self-check your solution, and how to export your algorithm for submission.\n",
    "2. **Results Evaluation**: Here are the functions we will use to evaluate the performance of your solutions.\n",
    "3. **Submission**: Use the provided function to save your solution in the relevant format and submit it through the submission link.\n",
    "\n",
    "\\\n",
    "**Your resources:**\n",
    "- The Classiq IDE at [platform.classiq.io](https://platform.classiq.io/).\n",
    "- The [Classiq Library](https://github.com/Classiq/classiq-library) – the largest collection of quantum functions, algorithms, and tutorials.\n",
    "- [Classiq's documentation](https://docs.classiq.io/latest/) and the [Classiq101](https://docs.classiq.io/latest/classiq_101/) for quick onboarding to high-level quantum modelling concepts.\n",
    "- The [Classiq Community Slack](https://short.classiq.io/join-slack) – where the Classiq team will address any questions, including implementation-related queries.\n",
    "- The Warm-Up session is highly recommended as well!\n",
    "\n",
    "\\\n",
    "**Important:**  \n",
    "Do not modify the cells variables or functions used for auto-saving and grading, as this may prevent us from validating and grading your solutions.\n",
    "\n",
    "**Good luck!**\n",
    "\n",
    "---"
   ]
  },
  {
   "cell_type": "markdown",
   "metadata": {},
   "source": [
    "### Your Challange "
   ]
  },
  {
   "cell_type": "markdown",
   "metadata": {
    "jp-MarkdownHeadingCollapsed": true
   },
   "source": [
    "**Your challenge is to prepare a Gaussian state in the symmetrical domain $x \\in [-2, 2)$.**\n",
    "\n",
    "To complete this challenge, follow the instructions below:\n",
    "\n",
    "#### Target State: The Gaussian State Representation\n",
    "\n",
    "The Gaussian state is defined as:\n",
    "\n",
    "$$\n",
    "|x_0\\rangle_N = |0\\rangle_N \\longrightarrow \\sum_{|x\\rangle_N} \\sqrt{G(x)} |x\\rangle_N\n",
    "$$\n",
    "\n",
    "Where $G(x)$ is represented as a vector:\n",
    "\n",
    "$$\n",
    "{G}(x_i) = \\frac{\\exp(-\\lambda \\cdot {x_i}^2)}{\\sum_{x' \\in \\text{domain}} \\exp(-\\lambda \\cdot (x')^2)} \\text{, for } x_i \\in \\text{domain}\n",
    "$$\n",
    "\n",
    "\n",
    "- $G(x)$ is the normalized Gaussian vector across the discrete domain.  \n",
    "- $\\vec{x}$ represents the set of discrete points in the domain.  \n",
    "- $\\lambda$ represents the decay rate. In the code, it is represented by the variable $\\text{EXP\\_RATE}$, which controls the spread of the Gaussian.\n",
    "- The denominator ensures normalization across the entire domain.\n",
    "\n",
    "#### Domain Specification\n",
    "\n",
    "Set the domain to $x \\in [-2, 2)$, with the `resolution` variable controlling the granularity.\n",
    "\n",
    "#### Precision and Resolution Control\n",
    "\n",
    "Use the `resolution` variable to control the precision of $x$. Increasing `resolution` improves discretization without altering the domain boundaries. To achieve this, define `fractional digits = resolution - 2`.\n",
    "\n",
    "This ensures the domain and granularity remain consistent with the instructions.\n",
    "\n",
    "---\n",
    "\n",
    "#### Rules for Implementation\n",
    "\n",
    "- Follow this notebook and adapt the necessary parts in the appropriate cells.\n",
    "- **Do not change functions, cells, variable names, or values unless explicitly instructed to do so.**\n",
    "\n",
    "---\n",
    "\n",
    "#### Submission Guidelines and Requirements\n",
    "\n",
    "Your final submission should include:\n",
    "- Two `.qprog` files, one for each stage, as instructed in this notebook.\n",
    "- One `.ipynb` file (this notebook with your solution). Please name the file starting with your group name!\n",
    "- A short paragraph briefly explaining your work.\n",
    "- **Submit all the files via the [submission page](https://fvrn0h72gwo.typeform.com/to/W4I7N9yl)**.\n",
    "\n",
    "##### **Stage 1: Achieving a Small MSE**\n",
    "- **Goal**: Achieve a Mean Squared Error (MSE) smaller than the threshold: $MSE_{\\text{threshold}} = 1 \\cdot 10^{-7}$.\n",
    "- **Constraints**:\n",
    "  - Limited to **18 qubits** as defined by the `create_qprog()` function for the state-vector simulator.\n",
    "  - The `resolution_stage_1` is fixed at **8**. **Do not modify this value.**\n",
    "- **Submission**:\n",
    "  - Your solution for this stage will be evaluated based on the file `your_group__stage_1__resolution_7.qprog` generated by the `save_qprog()` function in the Submission section.\n",
    "\n",
    "##### **Stage 2: Demonstrating Scalability**\n",
    "- **Goal**: Demonstrate the scalability of your solution.\n",
    "  - Increase the `resolution_stage_2` to a value of your choice to showcase the efficient use of resources for higher resolutions.\n",
    "  - This stage is not expected to be executable on the state-vector simulator, and the `create_qprog()` function imposes the qubit limits by: `max_width=127`.\n",
    "  The synthesis timeout is extended in this stage to achieve a more scalable solution, as you might see in `create_qprog()`.\n",
    "- **Submission**:\n",
    "  - Your solution for this stage will be evaluated based on the file `your_group__stage_2__resolution_##.qprog` generated by the `save_qprog()` function in the Submission section. This part's `resolution` value will automatically determine the `##` part of the file name.\n",
    "- **Explanation**:\n",
    "  - Include an explanation of how your algorithm scales, addressing:\n",
    "    - How the MSE scales with resolution.\n",
    "    - The complexity of the quantum program (CX count).\n",
    "    - The size scaling with increasing resolution between stages.\n",
    "    - Any important decisions made during the implementation.\n",
    "\n",
    "---\n",
    "\n",
    "#### Evaluation Criteria: How Your Submission Will Be Graded\n",
    "\n",
    "Winning teams will be determined by the following:\n",
    "\n",
    "1. **Performance**: Solutions that achieve results at least as good as the threshold $MSE_{\\text{threshold}}$.\n",
    "\n",
    "2. **Scaling**:\n",
    "    - Among solutions meeting the threshold, submissions will be evaluated by the size of their quantum program:\n",
    "      - **Depth** and **CX count** using the `get_metrics()` function for `your_group__stage_1__resolution_7.qprog`.\n",
    "      - The same parameters will be evaluated for `your_group__stage_2__resolution_##.qprog`, if submitted.\n",
    "\n",
    "3. **Overall Consideration**: Creativity, efficient use of the Classiq SDK, and the application of high-level functional design concepts. The explanation paragraph, if submitted, will also be taken into account as part of the evaluation.\n",
    "\n",
    "---\n",
    "\n",
    "#### **Good luck!**"
   ]
  },
  {
   "cell_type": "markdown",
   "metadata": {},
   "source": [
    "### If you are not using the Web-SDK:"
   ]
  },
  {
   "cell_type": "markdown",
   "metadata": {},
   "source": [
    "1. Firstly, if you haven't already, install the Classiq SDK package. If it's already installed, make sure to update it to the latest version."
   ]
  },
  {
   "cell_type": "code",
   "execution_count": 1,
   "metadata": {
    "ExecuteTime": {
     "end_time": "2024-08-20T09:02:51.727666Z",
     "start_time": "2024-08-20T09:02:51.725583Z"
    }
   },
   "outputs": [],
   "source": [
    "# !pip install -U classiq"
   ]
  },
  {
   "cell_type": "markdown",
   "metadata": {},
   "source": [
    "2. Authenticate your device against the Classiq backend:"
   ]
  },
  {
   "cell_type": "code",
   "execution_count": 2,
   "metadata": {
    "ExecuteTime": {
     "end_time": "2024-08-20T09:02:54.079140Z",
     "start_time": "2024-08-20T09:02:52.607680Z"
    }
   },
   "outputs": [],
   "source": [
    "import classiq\n",
    "\n",
    "# classiq.authenticate() # Uncoment to authenticate. For the first (local) run only"
   ]
  },
  {
   "cell_type": "markdown",
   "metadata": {},
   "source": [
    "## The Challenge"
   ]
  },
  {
   "cell_type": "markdown",
   "metadata": {},
   "source": [
    "### Imports"
   ]
  },
  {
   "cell_type": "markdown",
   "metadata": {},
   "source": [
    "You might import additional libraries as long as you solve the challenge using primarily Classiq."
   ]
  },
  {
   "cell_type": "code",
   "execution_count": 3,
   "metadata": {
    "ExecuteTime": {
     "end_time": "2024-08-20T09:05:10.590102Z",
     "start_time": "2024-08-20T09:05:10.585150Z"
    },
    "tags": []
   },
   "outputs": [],
   "source": [
    "from collections import defaultdict\n",
    "\n",
    "import matplotlib.pyplot as plt\n",
    "import numpy as np\n",
    "\n",
    "# All the imports needed:\n",
    "from classiq import *\n",
    "from classiq.execution import *\n",
    "from classiq.qmod.symbolic import *"
   ]
  },
  {
   "cell_type": "markdown",
   "metadata": {},
   "source": [
    "### The Heart of the Code - Build Your Algorithm Here"
   ]
  },
  {
   "cell_type": "markdown",
   "metadata": {},
   "source": [
    "#### Solution 1:\n",
    "\n",
    "<span style=\"color: red;\">Many attempted the following approach. It is not the most efficient and not sufficiently scalable (generally and for the hackathon as well).\n",
    "We will cover it as well as use another method.</span>"
   ]
  },
  {
   "cell_type": "code",
   "execution_count": 4,
   "metadata": {},
   "outputs": [],
   "source": [
    "def switch_sides(input_list):\n",
    "    \"\"\"\n",
    "    Switches the left and right sides of a list without reversing their internal order.\n",
    "    For example: [1, 2, 3, 4] -> [3, 4, 1, 2]\n",
    "\n",
    "    Parameters:\n",
    "        input_list (list): A list of length N.\n",
    "\n",
    "    Returns:\n",
    "        list: A list with the left and right sides swapped.\n",
    "    \"\"\"\n",
    "    mid = len(input_list) // 2\n",
    "    # Swap the two halves without reversing them\n",
    "    return input_list[mid:] + input_list[:mid]\n",
    "\n",
    "\n",
    "def create_solution(resolution: int):  # Don't change!\n",
    "    fraction_digits = resolution - 2  # Don't change!\n",
    "    EXP_RATE = 1  # Don't change!\n",
    "\n",
    "    # Generate the grid dynamically based on resolution\n",
    "    grid = np.linspace(\n",
    "        -(2 ** (resolution - fraction_digits - 1)),\n",
    "        2 ** (resolution - fraction_digits - 1) - 2 ** (-fraction_digits),\n",
    "        2 ** (resolution),\n",
    "    )\n",
    "\n",
    "    # Generate Gaussian probabilities\n",
    "    theoretical_gaussian = np.exp(-EXP_RATE * grid**2)\n",
    "\n",
    "    # Normalize to ensure the sum of probabilities is 1\n",
    "    theoretical_gaussian /= np.sum(theoretical_gaussian)\n",
    "\n",
    "    # Convert to a list\n",
    "    theoretical_gaussian_list = theoretical_gaussian.tolist()\n",
    "\n",
    "    # Split the list and switched the sides of its parts to accommodate the Two's complement data structure of the signed QNum\n",
    "    switched = switch_sides(theoretical_gaussian_list)\n",
    "\n",
    "    @qfunc\n",
    "    def prepare_gaussian(x: QNum):\n",
    "        inplace_prepare_state(switched, 0, x)\n",
    "\n",
    "    return prepare_gaussian"
   ]
  },
  {
   "cell_type": "markdown",
   "metadata": {
    "jp-MarkdownHeadingCollapsed": true
   },
   "source": [
    "### Utils - Don't Change The Following Cell"
   ]
  },
  {
   "cell_type": "markdown",
   "metadata": {},
   "source": [
    "The following function would be called later to to synthesize the `.qprog` file for stage 1 & 2"
   ]
  },
  {
   "cell_type": "code",
   "execution_count": 5,
   "metadata": {},
   "outputs": [],
   "source": [
    "# This function is used to generate the quantum model from the main function for stages 1 & 2 and synthesize it with all the appropriate parameters\n",
    "\n",
    "\n",
    "def create_qprog(\n",
    "    prepare_gaussian_function,\n",
    "    resolution: int,\n",
    "    num_shots: int = 1,\n",
    "    optimization_parameter: str = \"CX\",\n",
    "    stage=int,\n",
    "):\n",
    "    fraction_digits = resolution - 2\n",
    "\n",
    "    @qfunc\n",
    "    def main(x: Output[QNum[resolution, SIGNED, fraction_digits]]):\n",
    "        # Allocate the quantum variable x with the specified resolution\n",
    "        allocate(x.size, x)\n",
    "\n",
    "        # Prepare Gaussian state\n",
    "        prepare_gaussian_function(x)\n",
    "\n",
    "    # Backend preferences for the state vector simulator\n",
    "    backend_preferences = ClassiqBackendPreferences(\n",
    "        backend_name=ClassiqSimulatorBackendNames.SIMULATOR_STATEVECTOR\n",
    "    )\n",
    "\n",
    "    # Generate the quantum model with constraints by stage\n",
    "    if stage == 1:\n",
    "        qmod = create_model(\n",
    "            main,\n",
    "            execution_preferences=ExecutionPreferences(\n",
    "                num_shots=num_shots, backend_preferences=backend_preferences\n",
    "            ),\n",
    "            constraints=Constraints(\n",
    "                max_width=18, optimization_parameter=optimization_parameter\n",
    "            ),\n",
    "        )\n",
    "    elif stage == 2:\n",
    "        qmod = create_model(\n",
    "            main,\n",
    "            preferences=Preferences(timeout_seconds=1000),\n",
    "            execution_preferences=ExecutionPreferences(\n",
    "                num_shots=num_shots, backend_preferences=backend_preferences\n",
    "            ),\n",
    "            constraints=Constraints(\n",
    "                max_width=127, optimization_parameter=optimization_parameter\n",
    "            ),\n",
    "        )\n",
    "    else:\n",
    "        return \"The `stage` variable should be set as Int to be either 1 or 2\"\n",
    "\n",
    "    # Synthesize the quantum program\n",
    "    qprog = synthesize(qmod)\n",
    "\n",
    "    return qprog"
   ]
  },
  {
   "cell_type": "markdown",
   "metadata": {},
   "source": [
    "## Evaluate Your Results"
   ]
  },
  {
   "cell_type": "markdown",
   "metadata": {},
   "source": [
    "### Quantum Program - Stage 1"
   ]
  },
  {
   "cell_type": "markdown",
   "metadata": {},
   "source": [
    "<span style=\"color: red;\">If you had used `inplace_prepare_state(theoretical_gaussian_list, 0, x)`, and not `inplace_prepare_state(switched, 0, x)`, you actully got \"updise-down solution\". but note that it just shifted the solution due to not counting the Two's complement data structure of the signed QNum, as documented!</span>\n",
    "\n",
    "**You can run the following cell and receive the results:**"
   ]
  },
  {
   "cell_type": "code",
   "execution_count": 20,
   "metadata": {},
   "outputs": [],
   "source": [
    "resolution_stage_1 = 6\n",
    "qprog_stage_1 = create_qprog(\n",
    "    create_solution(resolution_stage_1), resolution_stage_1, stage=1\n",
    ")"
   ]
  },
  {
   "cell_type": "markdown",
   "metadata": {},
   "source": [
    "But `resolution_stage_1 = 6` was changed to 6 instead of 8 as requested. For the required value, you will need to change the timeout above (which wasn't allowed in the hackathon) or think of a more clever way from this straightforward solution."
   ]
  },
  {
   "cell_type": "markdown",
   "metadata": {},
   "source": [
    "#### Solution 2 - The Better One"
   ]
  },
  {
   "cell_type": "markdown",
   "metadata": {},
   "source": [
    "<span style=\"color: red;\">In this solution, we will use `*=` and then the `exact_amplitude_amplification()` function to amplify the solution in the Gaussian form rather than the complementary ones. \n",
    "\n",
    "<span style=\"color: red;\">You are welcome to play with the parameters in stage 2 to see the solution's scalability.</span>\n",
    "\n",
    "<span style=\"color: red;\">Here is the implementation:</span>"
   ]
  },
  {
   "cell_type": "code",
   "execution_count": null,
   "metadata": {},
   "outputs": [],
   "source": [
    "def create_solution(resolution: int):\n",
    "    fraction_digits = resolution - 2\n",
    "    EXP_RATE = 1\n",
    "\n",
    "    grid = np.linspace(\n",
    "        -(2 ** (resolution - fraction_digits - 1)),\n",
    "        2 ** (resolution - fraction_digits - 1) - 1,\n",
    "        2 ** (resolution),\n",
    "    )\n",
    "    AMPLITUDE = np.linalg.norm(\n",
    "        np.exp(-(EXP_RATE / 2) * (grid**2)) / np.sqrt(grid.shape[0])\n",
    "    )\n",
    "\n",
    "    class GaussianPrepVars(QStruct):\n",
    "        state: QNum[resolution, SIGNED, fraction_digits]\n",
    "        q: QBit\n",
    "\n",
    "    @qfunc\n",
    "    def gaussian_oracle(qvars: GaussianPrepVars):\n",
    "        Z(qvars.q)\n",
    "\n",
    "    @qfunc\n",
    "    def gaussian_amplitude_loading(qvars: GaussianPrepVars):\n",
    "        hadamard_transform(qvars.state)\n",
    "        qvars.q *= exp((-(qvars.state**2)) * EXP_RATE / 2)\n",
    "\n",
    "    @qfunc\n",
    "    def prepare_gaussian(x: QNum):\n",
    "        qvars = GaussianPrepVars()\n",
    "        q = QBit()\n",
    "        allocate(1, q)\n",
    "\n",
    "        within_apply(\n",
    "            lambda: bind([x, q], qvars),\n",
    "            lambda: exact_amplitude_amplification(\n",
    "                AMPLITUDE,\n",
    "                gaussian_oracle,\n",
    "                lambda qvars_: gaussian_amplitude_loading(qvars_),\n",
    "                qvars,\n",
    "            ),\n",
    "        )\n",
    "        X(q)  # TODO - git rid when adjust the convention\n",
    "        free(q)\n",
    "\n",
    "    return prepare_gaussian"
   ]
  },
  {
   "cell_type": "markdown",
   "metadata": {},
   "source": [
    "<details markdown>\n",
    "<summary><b>Reminder!</b></summary>\n",
    "\n",
    "With `backend_name=ClassiqSimulatorBackendNames.SIMULATOR_STATEVECTOR`, you can simulate circuits with up to **18 qubits**. You may use as many of these qubits as needed without affecting your score at this stage. \n",
    "\n",
    "The goal is to achieve a **small MSE** (beyond the threshold) while minimizing the **complexity** of your quantum program. Here, \"complexity\" specifically refers to its **size**, measured by metrics like **depth** and ** count**.\n",
    "\n",
    "</details>\n"
   ]
  },
  {
   "cell_type": "markdown",
   "metadata": {},
   "source": [
    "**Don't Change The Following Cell!**"
   ]
  },
  {
   "cell_type": "code",
   "execution_count": 7,
   "metadata": {},
   "outputs": [],
   "source": [
    "# Creating stage's 1 `.qprog` file\n",
    "resolution_stage_1 = 8  # Don't change!\n",
    "qprog_stage_1 = create_qprog(\n",
    "    create_solution(resolution_stage_1), resolution_stage_1, stage=1\n",
    ")"
   ]
  },
  {
   "cell_type": "markdown",
   "metadata": {},
   "source": [
    "Uncomment to display the quantum program:"
   ]
  },
  {
   "cell_type": "code",
   "execution_count": 8,
   "metadata": {},
   "outputs": [],
   "source": [
    "# show(qprog_stage_1)"
   ]
  },
  {
   "cell_type": "code",
   "execution_count": 9,
   "metadata": {},
   "outputs": [],
   "source": [
    "result_stage_1 = execute(qprog_stage_1).get_sample_result()"
   ]
  },
  {
   "cell_type": "markdown",
   "metadata": {},
   "source": [
    "Uncomment to view the parsed circuit results after executing your algorithm:"
   ]
  },
  {
   "cell_type": "code",
   "execution_count": 10,
   "metadata": {},
   "outputs": [],
   "source": [
    "# result_stage_1.parsed_state_vector"
   ]
  },
  {
   "cell_type": "markdown",
   "metadata": {
    "jp-MarkdownHeadingCollapsed": true
   },
   "source": [
    "### Quantum Program - Stage 2"
   ]
  },
  {
   "cell_type": "markdown",
   "metadata": {},
   "source": [
    "<details markdown>\n",
    "<summary><b>Reminder!</b></summary>\n",
    "\n",
    "In Stage 2, you are expected to demonstrate the **scalability** of your algorithm by increasing the `resolution_stage_2` to a value of your choice. This stage is not expected to be executed on the state-vector simulator and is restricted by the **127-qubit limit**, marking the largest QPU commercially available. You can leverage as many qubits as necessary to showcase your solution's efficiency at higher resolutions.\n",
    "\n",
    "The goal is to highlight your approach's **scalability** and **efficiency** while ensuring the algorithm remains compact. Focus on minimizing the **complexity** of your quantum program, where \"complexity\" is measured by metrics like **depth** and ** count**. In this challenge,  count will be our measure.\n",
    "\n",
    "</details>"
   ]
  },
  {
   "cell_type": "markdown",
   "metadata": {},
   "source": [
    "Set the value of `resolution_stage_2` to your choice! "
   ]
  },
  {
   "cell_type": "code",
   "execution_count": 11,
   "metadata": {},
   "outputs": [],
   "source": [
    "# Creating the Stage 2 qprog object\n",
    "resolution_stage_2 = 4  # Change!\n",
    "qprog_stage_2 = create_qprog(\n",
    "    create_solution(resolution_stage_2), resolution_stage_2, stage=2\n",
    ")"
   ]
  },
  {
   "cell_type": "markdown",
   "metadata": {},
   "source": [
    "Uncomment to display the quantum program:"
   ]
  },
  {
   "cell_type": "code",
   "execution_count": 12,
   "metadata": {},
   "outputs": [],
   "source": [
    "# show(qprog_stage_2)"
   ]
  },
  {
   "cell_type": "markdown",
   "metadata": {
    "jp-MarkdownHeadingCollapsed": true
   },
   "source": [
    "### Evaluation Functions"
   ]
  },
  {
   "cell_type": "markdown",
   "metadata": {},
   "source": [
    "Here are the grading functions for Stages 1 & 2.\\\n",
    "As mentioned, these functions will serve as the main tools for evaluating your algorithms.\\\n",
    "\\\n",
    "**Don't Change The Following Cell!**"
   ]
  },
  {
   "cell_type": "code",
   "execution_count": 13,
   "metadata": {
    "jupyter": {
     "source_hidden": true
    }
   },
   "outputs": [],
   "source": [
    "# Stage 1:\n",
    "\n",
    "\n",
    "def scatter_aggregated_amplitudes_with_theory(\n",
    "    parsed_state_vector, resolution: int, should_plot: bool = True\n",
    "):\n",
    "    \"\"\"\n",
    "    Aggregate squared amplitudes by x, sum them, and scatter plot with theoretical distribution.\n",
    "    Also calculates Mean Squared Error (MSE).\n",
    "\n",
    "    Parameters:\n",
    "        res: Parsed state vector results (list of SimulatedState objects).\n",
    "        exp_rate: Exponential rate for the Gaussian distribution.\n",
    "        resolution: Number of qubits used in the Gaussian state.\n",
    "        should_plot: bool that allow you to choose if to plot the solution\n",
    "    \"\"\"\n",
    "    from collections import defaultdict\n",
    "\n",
    "    fraction_digits = resolution - 2\n",
    "    EXP_RATE = 1\n",
    "\n",
    "    # Initialize a dictionary to store sums of squared amplitudes\n",
    "    amplitude_sums = defaultdict(int)\n",
    "    for state in parsed_state_vector:\n",
    "        amplitude_sums[state.state[\"x\"]] += np.abs(state.amplitude) ** 2\n",
    "\n",
    "    # Prepare data for plotting\n",
    "    x_values = sorted(amplitude_sums)  # Sort for meaningful plotting\n",
    "    summed_squared_norms = [amplitude_sums[x] for x in x_values]\n",
    "\n",
    "    # Generate theoretical Gaussian distribution\n",
    "    grid = np.linspace(\n",
    "        -(2 ** (resolution - fraction_digits - 1)),\n",
    "        2 ** (resolution - fraction_digits - 1) - 2 ** (-fraction_digits),\n",
    "        2 ** (resolution),\n",
    "    )\n",
    "\n",
    "    theoretical_gaussian = np.exp(-EXP_RATE * grid**2)\n",
    "    theoretical_gaussian /= np.sum(theoretical_gaussian)  # Normalize the Gaussian\n",
    "\n",
    "    # Interpolate theoretical probabilities at measured points\n",
    "    interp_func = np.interp(x_values, grid, theoretical_gaussian)\n",
    "    interpolated_theoretical_prob = interp_func\n",
    "\n",
    "    # Calculate Mean Squared Error (MSE)\n",
    "    mse = np.mean((np.array(summed_squared_norms) - interpolated_theoretical_prob) ** 2)\n",
    "    print(\"Mean Squared Error (MSE):\", mse)\n",
    "\n",
    "    # Plot measured and theoretical distributions\n",
    "    if should_plot:\n",
    "        plt.figure(figsize=(8, 6))\n",
    "        plt.scatter(\n",
    "            x_values,\n",
    "            summed_squared_norms,\n",
    "            color=\"blue\",\n",
    "            alpha=0.7,\n",
    "            label=\"Measured (Summed Squared Norms)\",\n",
    "        )\n",
    "        plt.plot(\n",
    "            grid,\n",
    "            theoretical_gaussian,\n",
    "            color=\"red\",\n",
    "            linewidth=2,\n",
    "            label=\"Theoretical Gaussian\",\n",
    "        )\n",
    "        plt.xlabel(\"x\")\n",
    "        plt.ylabel(\"Probability\")\n",
    "        plt.title(\"Measured vs Theoretical Gaussian\")\n",
    "        plt.grid(True, linestyle=\"--\", alpha=0.7)\n",
    "        plt.legend()\n",
    "        plt.tight_layout()\n",
    "        plt.show()\n",
    "\n",
    "    return mse"
   ]
  },
  {
   "cell_type": "markdown",
   "metadata": {},
   "source": [
    "**Don't Change The Following Cell!**"
   ]
  },
  {
   "cell_type": "code",
   "execution_count": 14,
   "metadata": {
    "jupyter": {
     "source_hidden": true
    }
   },
   "outputs": [],
   "source": [
    "# Stage 2:\n",
    "\n",
    "\n",
    "def get_metrics(qprog):\n",
    "    \"\"\"\n",
    "    Extract circuit metrics from a quantum program.\n",
    "\n",
    "    Parameters:\n",
    "        qprog: The quantum program object.\n",
    "\n",
    "    Returns:\n",
    "        dict: A dictionary containing the circuit metrics:\n",
    "              - \"depth\": Circuit depth.\n",
    "              - \"width\": Circuit width (number of qubits used).\n",
    "              - \"cx_count\": Number of CX gates (returns 0 if none are present).\n",
    "    \"\"\"\n",
    "    # Generate the optimized quantum circuit\n",
    "    circuit = QuantumProgram.from_qprog(qprog)\n",
    "\n",
    "    # Extract metrics\n",
    "    metrics = {\n",
    "        \"depth\": circuit.transpiled_circuit.depth,\n",
    "        \"width\": circuit.data.width,\n",
    "        \"cx_count\": circuit.transpiled_circuit.count_ops.get(\n",
    "            \"cx\", 0\n",
    "        ),  # Default to 0 if 'cx' not found\n",
    "    }\n",
    "\n",
    "    return metrics"
   ]
  },
  {
   "cell_type": "markdown",
   "metadata": {},
   "source": [
    "### Evaluate the results of stage 1:"
   ]
  },
  {
   "cell_type": "code",
   "execution_count": 15,
   "metadata": {},
   "outputs": [
    {
     "name": "stdout",
     "output_type": "stream",
     "text": [
      "Mean Squared Error (MSE): 1.1074454004038108e-08\n"
     ]
    },
    {
     "data": {
      "image/png": "[encoded data removed]",
      "text/plain": [
       "<Figure size 800x600 with 1 Axes>"
      ]
     },
     "metadata": {},
     "output_type": "display_data"
    },
    {
     "name": "stdout",
     "output_type": "stream",
     "text": [
      "{'depth': 1575, 'width': 14, 'cx_count': 817}\n"
     ]
    }
   ],
   "source": [
    "mse = scatter_aggregated_amplitudes_with_theory(\n",
    "    result_stage_1.parsed_state_vector, resolution_stage_1, should_plot=True\n",
    ")\n",
    "print(get_metrics(qprog_stage_1))"
   ]
  },
  {
   "cell_type": "markdown",
   "metadata": {},
   "source": [
    "### Evluate the results of stage 2:"
   ]
  },
  {
   "cell_type": "markdown",
   "metadata": {},
   "source": [
    "<details markdown>\n",
    "<summary><b>Reminder!</b></summary>\n",
    "\n",
    "In Stage 2, you are expected to demonstrate the scalability of your algorithm by synthesizing the highest-resolution algorithm possible.\\\n",
    "Note that **it may exceed the 18-qubit limitation**.\n",
    "\n",
    "</details>\n"
   ]
  },
  {
   "cell_type": "code",
   "execution_count": 16,
   "metadata": {
    "tags": []
   },
   "outputs": [
    {
     "name": "stdout",
     "output_type": "stream",
     "text": [
      "{'depth': 127, 'width': 8, 'cx_count': 73}\n"
     ]
    }
   ],
   "source": [
    "print(get_metrics(qprog_stage_2))\n",
    "qprog_stage_2 = create_qprog(\n",
    "    create_solution(resolution_stage_2), resolution_stage_2, stage=2\n",
    ")"
   ]
  },
  {
   "cell_type": "markdown",
   "metadata": {},
   "source": [
    "## Submission"
   ]
  },
  {
   "cell_type": "markdown",
   "metadata": {},
   "source": [
    "After evaluating your algorithm's performance in Stage 1 and optimizing it for efficient scalability in Stage 2, you are ready to submit your solution!"
   ]
  },
  {
   "cell_type": "code",
   "execution_count": 17,
   "metadata": {},
   "outputs": [],
   "source": [
    "# Don't change this cell!\n",
    "import os\n",
    "\n",
    "\n",
    "def save_qprog(\n",
    "    qprog,\n",
    "    folder=\".\",\n",
    "    stage: int = 1,\n",
    "    team_name: str = \"your group\",\n",
    "    resolution: int = 0,\n",
    "):\n",
    "    assert isinstance(resolution, int) and resolution >= 1\n",
    "    file_name = (\n",
    "        f\"{team_name.replace(' ','_')}__stage_{stage}__resolution_{resolution}.qprog\"\n",
    "    )\n",
    "    with open(os.path.join(folder, file_name), \"w\") as f:\n",
    "        f.write(qprog)"
   ]
  },
  {
   "cell_type": "markdown",
   "metadata": {},
   "source": [
    "**Choose Your Team Name!**\\\n",
    "Set `TEAM_NAME =` to your chosen team name."
   ]
  },
  {
   "cell_type": "code",
   "execution_count": 19,
   "metadata": {},
   "outputs": [],
   "source": [
    "# Change to your group name!!\n",
    "TEAM_NAME = None\n",
    "\n",
    "# Un-comment this to save the .qprog file:\n",
    "# save_qprog(qprog_stage_1, stage=1, resolution=resolution_stage_1, team_name=TEAM_NAME)\n",
    "# save_qprog(qprog_stage_2, stage=2, resolution=resolution_stage_2, team_name=TEAM_NAME)"
   ]
  },
  {
   "cell_type": "markdown",
   "metadata": {},
   "source": [
    "### Explain the scaling of your solution between the stages"
   ]
  },
  {
   "cell_type": "markdown",
   "metadata": {},
   "source": [
    "Explain in one concise and to-the-point paragraph how your solution scales from Stage 1 to Stage 2, addressing how the **MSE** scales with the resolution, the **complexity** of the quantum program, and the size scaling with increasing resolution. Additionally, include any important decisions made during the implementation to ensure scalability and efficiency."
   ]
  },
  {
   "cell_type": "markdown",
   "metadata": {},
   "source": [
    "(Please Edit:)\n",
    "Our Solutions scales.... with the number of qubits (resolution). One of our main consideration was..."
   ]
  },
  {
   "cell_type": "markdown",
   "metadata": {},
   "source": [
    "**Submit all the files via the [submission page](https://fvrn0h72gwo.typeform.com/to/W4I7N9yl).**"
   ]
  },
  {
   "cell_type": "markdown",
   "metadata": {},
   "source": [
    "# We are looking forward to your solutions!\n",
    "### Good Luck! "
   ]
  }
 ],
 "metadata": {
  "kernelspec": {
   "display_name": "Python 3 (ipykernel)",
   "language": "python",
   "name": "python3"
  },
  "language_info": {
   "codemirror_mode": {
    "name": "ipython",
    "version": 3
   },
   "file_extension": ".py",
   "mimetype": "text/x-python",
   "name": "python",
   "nbconvert_exporter": "python",
   "pygments_lexer": "ipython3",
   "version": "3.11.9"
  },
  "vscode": {
   "interpreter": {
    "hash": "39f2fb914d68d910e6a44db3a048977f45af665714e1ed570fe3896698105d3f"
   }
  }
 },
 "nbformat": 4,
 "nbformat_minor": 4
}
