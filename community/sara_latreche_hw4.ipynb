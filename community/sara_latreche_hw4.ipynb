{
 "cells": [
  {
   "cell_type": "markdown",
   "id": "20e457ce-0929-43a1-94af-c4dd74475739",
   "metadata": {},
   "source": [
    "**In this assignment we are going to create the quantum walk operator for the case of a line with 16 nodes.**\r\n"
   ]
  },
  {
   "cell_type": "markdown",
   "id": "008c6fae-9386-4d3c-a29a-d9cbe49c3401",
   "metadata": {},
   "source": [
    "<div style=\"text-align: center;\">\r\n",
    "    <img src=\"C:/Users/Dell/234.png\" alt=\"Image\" style=\"max-width: 100%; height: auto;\">\r\n",
    "</div>\r\n",
    "\r\n",
    "\n"
   ]
  },
  {
   "cell_type": "markdown",
   "id": "75f29ce3-b101-41b2-b5aa-56a0e93028ba",
   "metadata": {},
   "source": [
    "In a classical discrete-time random walk on a graph G, the walk is governed by a transition matrix M where:"
   ]
  },
  {
   "cell_type": "markdown",
   "id": "36326910-eeb3-4c6c-8369-725c9ac04538",
   "metadata": {},
   "source": [
    "In the simplest discrete-time random walk on a graph \\( G \\), at each time step, we move from any given vertex to each of its neighbors with equal probability. Thus, the walk is governed by the $|V| \\times |V|$ matrix \\( M \\) "
   ]
  },
  {
   "cell_type": "markdown",
   "id": "191302e3-6558-4972-b400-782736c5e971",
   "metadata": {},
   "source": [
    "The transition matrix $ (M_{jk} )$  is defined as:\n",
    "\n",
    "$$\n",
    "M_{jk} = \\begin{cases} \n",
    "\\frac{1}{\\text{deg}(k)} & \\text{if } (j, k) \\in E \\\\\n",
    "0 & \\text{otherwise}\n",
    "\\end{cases}\n",
    "$$\n",
    "\n",
    "This equation shows the definition of$ (M_{jk} )$  with its entries.\n",
    "\n",
    "deg(k): is the degree of vertex k\n",
    "\n",
    "(j, k) in E  denotes that there is an edge between vertices  j  and  k.\n"
   ]
  },
  {
   "cell_type": "markdown",
   "id": "9dd30fe2-38cc-44b8-bfd5-19d403f5f302",
   "metadata": {},
   "source": [
    "For $( j, k \\in V )$, an initial probability distribution \\( p \\) over the vertices evolves to \\( p' = M p \\) after one step of the walk.\n",
    "\n",
    "The equation is:\n",
    "\n",
    "$$\n",
    "p' = M p\n",
    "$$\n",
    "\n",
    "where:\n",
    "- \\( p \\) is the initial probability distribution.\n",
    "- \\( p' \\) is the updated probability distribution after one step.\n",
    "- \\( M \\) is the transition matrix.\n"
   ]
  },
  {
   "cell_type": "markdown",
   "id": "d75b33e6-58f4-4955-943c-cea1db9bbbec",
   "metadata": {},
   "source": [
    "**The structure of the graph of a line with 16 nodes is**:"
   ]
  },
  {
   "cell_type": "markdown",
   "id": "d5c49898-2e97-4b50-b445-23be5a428277",
   "metadata": {},
   "source": [
    "**Nodes:** \n",
    "\n",
    "$$\n",
    "v_0, v_1, v_2, \\ldots, v_{15}\n",
    "$$\n",
    "\n",
    "**Edges:** \n",
    "\n",
    "$$\n",
    "(v_i, v_{i+1}) \\text{ for } i = 0, 1, \\ldots, 14\n",
    "$$"
   ]
  },
  {
   "cell_type": "markdown",
   "id": "c0b40cde-43e7-4242-97f1-275becbfc1e1",
   "metadata": {},
   "source": [
    "**the Degree of Each Node**"
   ]
  },
  {
   "cell_type": "markdown",
   "id": "e51ca4f1-5288-47bc-97ff-bf9683eb119d",
   "metadata": {},
   "source": [
    "**Endpoints:**\n",
    "\n",
    "$$\n",
    "\\text{deg}(v_0) = 1 \\text{ and } \\text{deg}(v_{15}) = 1\n",
    "$$\n",
    "\n",
    "**Interior Nodes:**\n",
    "\n",
    "$$\n",
    "\\text{deg}(v_i) = 2 \\text{ for } i = 1, 2, \\ldots, 14\n",
    "$$\n"
   ]
  },
  {
   "cell_type": "markdown",
   "id": "9006ce96-d1c6-4714-adbb-e9eef252ab3e",
   "metadata": {},
   "source": [
    "**Transition Matrix 𝑀 is then given by:**\n"
   ]
  },
  {
   "cell_type": "markdown",
   "id": "3a543b53-04dd-4e37-afcb-bc7489eac031",
   "metadata": {},
   "source": [
    "The matrix \\( M \\) is given by:\n",
    "\n",
    "$$\n",
    "M = \\begin{bmatrix}\n",
    "0 & 1 & 0 & 0 & 0 & 0 & 0 & 0 & 0 & 0 & 0 & 0 & 0 & 0 & 0 & 0 \\\\\n",
    "0.5 & 0 & 0.5 & 0 & 0 & 0 & 0 & 0 & 0 & 0 & 0 & 0 & 0 & 0 & 0 & 0 \\\\\n",
    "0 & 0.5 & 0 & 0.5 & 0 & 0 & 0 & 0 & 0 & 0 & 0 & 0 & 0 & 0 & 0 & 0 \\\\\n",
    "0 & 0 & 0.5 & 0 & 0.5 & 0 & 0 & 0 & 0 & 0 & 0 & 0 & 0 & 0 & 0 & 0 \\\\\n",
    "0 & 0 & 0 & 0.5 & 0 & 0.5 & 0 & 0 & 0 & 0 & 0 & 0 & 0 & 0 & 0 & 0 \\\\\n",
    "0 & 0 & 0 & 0 & 0.5 & 0 & 0.5 & 0 & 0 & 0 & 0 & 0 & 0 & 0 & 0 & 0 \\\\\n",
    "0 & 0 & 0 & 0 & 0 & 0.5 & 0 & 0.5 & 0 & 0 & 0 & 0 & 0 & 0 & 0 & 0 \\\\\n",
    "0 & 0 & 0 & 0 & 0 & 0 & 0.5 & 0 & 0.5 & 0 & 0 & 0 & 0 & 0 & 0 & 0 \\\\\n",
    "0 & 0 & 0 & 0 & 0 & 0 & 0 & 0.5 & 0 & 0.5 & 0 & 0 & 0 & 0 & 0 & 0 \\\\\n",
    "0 & 0 & 0 & 0 & 0 & 0 & 0 & 0 & 0.5 & 0 & 0.5 & 0 & 0 & 0 & 0 & 0 \\\\\n",
    "0 & 0 & 0 & 0 & 0 & 0 & 0 & 0 & 0 & 0.5 & 0 & 0.5 & 0 & 0 & 0 & 0 \\\\\n",
    "0 & 0 & 0 & 0 & 0 & 0 & 0 & 0 & 0 & 0 & 0.5 & 0 & 0.5 & 0 & 0 & 0 \\\\\n",
    "0 & 0 & 0 & 0 & 0 & 0 & 0 & 0 & 0 & 0 & 0 & 0.5 & 0 & 0.5 & 0 & 0 \\\\\n",
    "0 & 0 & 0 & 0 & 0 & 0 & 0 & 0 & 0 & 0 & 0 & 0 & 0.5 & 0 & 0.5 & 0 \\\\\n",
    "0 & 0 & 0 & 0 & 0 & 0 & 0 & 0 & 0 & 0 & 0 & 0 & 0 & 0.5 & 0 & 0.5 \\\\\n",
    "0 & 0 & 0 & 0 & 0 & 0 & 0 & 0 & 0 & 0 & 0 & 0 & 0 & 0 & 1 & 0\n",
    "\\end{bmatrix}\n",
    "$$\n"
   ]
  },
  {
   "cell_type": "markdown",
   "id": "8946d52d-6cd9-492a-bbcb-7bdebb70c92f",
   "metadata": {},
   "source": [
    "In the quantum version, we want a unitary operator 𝑈 such that an input state|j> evolves to a superposition of states corresponding to the neighbors of vertex |j>\n",
    "\n",
    "$$\n",
    "U |j\\rangle = \\frac{1}{\\sqrt{deg(j)}} \\sum_{k \\in \\text{neighbors}(j)} |k\\rangle\n",
    "$$\n",
    "\n",
    "The challenge is ensuring that U is unitary. Directly defining U as above leads to non-unitary transformations because orthogonal states ∣j⟩ and \n",
    "∣k⟩ with common neighbors might evolve into non-orthogonal states."
   ]
  },
  {
   "cell_type": "markdown",
   "id": "da51ba43-f6cb-46bf-981c-639c69773723",
   "metadata": {},
   "source": [
    "Quantum Walk Using an Enlarged Hilbert Space:\n",
    "To overcome the unitary constraint, consider an enlarged Hilbert space where the state is of the form ∣j,k⟩ for (j,k)∈E.\n",
    "The quantum walk involves two operations per step:\n",
    "**Coin Flip Operation:**\n",
    "\n",
    "A unitary operation that modifies the next destination. \n",
    "A common choice is \n",
    "the Grover diffusion operator:\n",
    "\n",
    "$$\n",
    "C = \\sum_{j \\in V} |j\\rangle \\langle j| \\otimes \\left( 2 |\\partial_j\\rangle \\langle \\partial_j| - I \\right)\n",
    "$$\n",
    "\n",
    "And \n",
    "**Swap Operator:**\n",
    "\n",
    "Move the walker to the vertex indicated in the second register. The swap operation can be represented as:\n",
    "\n",
    "$$\n",
    "S = \\sum_{(j,k) \\in E} |j, k\\rangle \\langle k, j|\n",
    "$$\n",
    "The overall unitary operator for one step of the quantum walk is SC."
   ]
  },
  {
   "cell_type": "markdown",
   "id": "802b0f9a-ef28-4313-b1f5-2d3f8da8e83d",
   "metadata": {},
   "source": [
    "**Purpose of the Coin flip operator**\n",
    "\n",
    "Projection Operator ∣∂j⟩⟨∂j∣: This projects onto the space spanned by the neighbors of vertex j. In a classical random walk, this would correspond to the probability of moving to each neighbor.\n",
    "Scaling 2∣∂j⟩⟨∂j∣: Amplifies the amplitude of the neighbor states. This is similar to the Grover diffusion operator, which amplifies the probability of certain outcomes.\n",
    "Identity Operator −I: Subtracts the identity operator to achieve amplitude inversion around the mean. This ensures that the probability amplitudes for all neighbor states are adjusted to enhance the desired states and reduce the probability of others.\n",
    "\n",
    "∣j⟩⟨j∣⊗(2∣∂j⟩⟨∂j∣−I)\n",
    "\n",
    "Purpose: This combined operator applies the coin operation conditional on the vertex j. The vertex state ∣j⟩ selects the vertex, and the coin operation 2∣∂j⟩⟨∂j∣−I operates on the neighbor space to alter the amplitude of moving to neighbors.\n"
   ]
  },
  {
   "cell_type": "markdown",
   "id": "0a47b1d1-632f-4b7a-a5f1-c35488234fc4",
   "metadata": {},
   "source": [
    "**Quantum Walks and Interference**\n",
    "\n",
    "In a quantum walk:\n",
    "\n",
    "**Initial Superposition**: The walker starts in a superposition of all possible states (vertices).\n",
    "\n",
    "**Coin Operator**: Applies a transformation (coin flip) to the quantum state, which alters the amplitudes of transitioning to neighbor states.\n",
    "For instance, the Grover diffusion operator increases the probability of moving to states with higher amplitude, essentially focusing the walk.\n",
    "\n",
    "**Unitary Evolution**: The system evolves according to the quantum operations defined (including the coin operator and the swap operator), \n",
    "which alters the superposition of states over time.\n",
    "\n",
    "**Interference Effects**: As the walk progresses, constructive and destructive interference will occur among the various paths the walker could take. \n",
    "\n",
    "**Constructive interference** makes certain paths more probable, while destructive interference reduces the probability of others."
   ]
  },
  {
   "cell_type": "markdown",
   "id": "66a3fc0a-4f99-4b20-a125-e3681e29734c",
   "metadata": {},
   "source": [
    "**We now may start the implementation with python SDK**"
   ]
  },
  {
   "cell_type": "code",
   "execution_count": 29,
   "id": "a63421cd-9522-48be-bbd2-801d5e57ff79",
   "metadata": {},
   "outputs": [
    {
     "name": "stdout",
     "output_type": "stream",
     "text": [
      "State=0, prob vec=[0, 1, 0, 0, 0, 0, 0, 0, 0, 0, 0, 0, 0, 0, 0, 0]\n",
      "State=1, prob vec=[0.5, 0, 0.5, 0, 0, 0, 0, 0, 0, 0, 0, 0, 0, 0, 0, 0]\n",
      "State=2, prob vec=[0, 0.5, 0, 0.5, 0, 0, 0, 0, 0, 0, 0, 0, 0, 0, 0, 0]\n",
      "State=3, prob vec=[0, 0, 0.5, 0, 0.5, 0, 0, 0, 0, 0, 0, 0, 0, 0, 0, 0]\n",
      "State=4, prob vec=[0, 0, 0, 0.5, 0, 0.5, 0, 0, 0, 0, 0, 0, 0, 0, 0, 0]\n",
      "State=5, prob vec=[0, 0, 0, 0, 0.5, 0, 0.5, 0, 0, 0, 0, 0, 0, 0, 0, 0]\n",
      "State=6, prob vec=[0, 0, 0, 0, 0, 0.5, 0, 0.5, 0, 0, 0, 0, 0, 0, 0, 0]\n",
      "State=7, prob vec=[0, 0, 0, 0, 0, 0, 0.5, 0, 0.5, 0, 0, 0, 0, 0, 0, 0]\n",
      "State=8, prob vec=[0, 0, 0, 0, 0, 0, 0, 0.5, 0, 0.5, 0, 0, 0, 0, 0, 0]\n",
      "State=9, prob vec=[0, 0, 0, 0, 0, 0, 0, 0, 0.5, 0, 0.5, 0, 0, 0, 0, 0]\n",
      "State=10, prob vec=[0, 0, 0, 0, 0, 0, 0, 0, 0, 0.5, 0, 0.5, 0, 0, 0, 0]\n",
      "State=11, prob vec=[0, 0, 0, 0, 0, 0, 0, 0, 0, 0, 0.5, 0, 0.5, 0, 0, 0]\n",
      "State=12, prob vec=[0, 0, 0, 0, 0, 0, 0, 0, 0, 0, 0, 0.5, 0, 0.5, 0, 0]\n",
      "State=13, prob vec=[0, 0, 0, 0, 0, 0, 0, 0, 0, 0, 0, 0, 0.5, 0, 0.5, 0]\n",
      "State=14, prob vec=[0, 0, 0, 0, 0, 0, 0, 0, 0, 0, 0, 0, 0, 0.5, 0, 0.5]\n",
      "State=15, prob vec=[0, 0, 0, 0, 0, 0, 0, 0, 0, 0, 0, 0, 0, 0, 0, 1]\n",
      "Opening: https://platform.classiq.io/circuit/4f613a4b-0559-4e8e-a30d-5f1a8cbe79e6?version=0.43.3\n"
     ]
    }
   ],
   "source": [
    "from classiq import *\n",
    "\n",
    "# Define the size of the quantum register and the number of nodes in the graph\n",
    "size = 4\n",
    "numnodes = 16\n",
    "\n",
    "@qfunc\n",
    "def prepare_minus(x: QBit):\n",
    "    \"\"\"\n",
    "    Prepares the qubit `x` in a superposition state.\n",
    "    \n",
    "    Steps:\n",
    "    1. Apply an X gate to flip the qubit from |0⟩ to |1⟩.\n",
    "    2. Apply a Hadamard gate to create a superposition of |0⟩ and |1⟩.\n",
    "    \"\"\"\n",
    "    X(x)  # Flip qubit to |1⟩\n",
    "    H(x)  # Create superposition state\n",
    "\n",
    "@qfunc\n",
    "def diffuzer_oracle(aux: Output[QNum], x: QNum):\n",
    "    \"\"\"\n",
    "    Defines an oracle operation that modifies the auxiliary qubit based on the state of `x`.\n",
    "    \n",
    "    Steps:\n",
    "    1. Perform an XOR operation with the auxiliary qubit based on whether `x` is non-zero.\n",
    "    \"\"\"\n",
    "    aux^=(x!=0)  # Conditional XOR based on the state of `x`\n",
    "\n",
    "@qfunc\n",
    "def zero_diffuzer(x: QNum):\n",
    "    \"\"\"\n",
    "    Allocates an auxiliary qubit, prepares it, and applies the oracle operation.\n",
    "    \n",
    "    Steps:\n",
    "    1. Allocate an auxiliary qubit.\n",
    "    2. Apply the `prepare_minus` function to prepare the auxiliary qubit.\n",
    "    3. Apply the `diffuzer_oracle` function to perform the oracle operation.\n",
    "    \"\"\"\n",
    "    aux = QNum('aux')  # Allocate auxiliary qubit\n",
    "    allocate(1, aux)  # Allocate qubit\n",
    "    within_apply(compute=lambda: prepare_minus(aux),  # Prepare the auxiliary qubit\n",
    "                action=lambda: diffuzer_oracle)  # Apply the oracle operation\n",
    "\n",
    "def W_iteration(i: int, vertices: QNum, adjacent_vertices: QNum):\n",
    "    \"\"\"\n",
    "    Performs one iteration of the W operator for a given node `i`.\n",
    "    \n",
    "    Steps:\n",
    "    1. Define the probability vector based on whether `i` is an endpoint or an interior node.\n",
    "    2. Print the state and probability vector for debugging.\n",
    "    3. Apply the `inplace_prepare_state` function to set the state probabilities.\n",
    "    4. Apply the `zero_diffuzer` function.\n",
    "    \"\"\"\n",
    "    prob = [0] * numnodes\n",
    "    # Handle boundary conditions\n",
    "    if i == 0:  # Node 0\n",
    "        prob[1] = 1\n",
    "    elif i == numnodes - 1:  # Last node (Node 15)\n",
    "        prob[numnodes - 1] = 1\n",
    "    else:  # Interior nodes\n",
    "        prob[i - 1] = 0.5\n",
    "        prob[i + 1] = 0.5\n",
    "\n",
    "    print(f'State={i}, prob vec={prob}')\n",
    "\n",
    "    control(\n",
    "        ctrl=vertices == i,\n",
    "        operand=lambda: within_apply(\n",
    "            compute=lambda: inplace_prepare_state(probabilities=prob, bound=0.01, target=adjacent_vertices),\n",
    "            action=lambda: zero_diffuzer(adjacent_vertices)\n",
    "        )\n",
    "    )\n",
    "\n",
    "@qfunc \n",
    "def W_operator(vertices: QNum, adjacent_vertices: QNum):\n",
    "    \"\"\"\n",
    "    Applies the W operator to all nodes in the graph.\n",
    "    \n",
    "    Steps:\n",
    "    1. Iterate through all possible states and apply `W_iteration`.\n",
    "    \"\"\"\n",
    "    for i in range(2**size):\n",
    "        W_iteration(i, vertices, adjacent_vertices)\n",
    "\n",
    "@qfunc \n",
    "def edge_oracle(res: Output[QBit], vertices: QNum, adjacent_vertices: QNum):\n",
    "    \"\"\"\n",
    "    Defines the edge oracle for the quantum algorithm.\n",
    "    \n",
    "    Steps:\n",
    "    1. Set `res` based on whether the sum of `vertices` and `adjacent_vertices` modulo 2 equals 1.\n",
    "    \"\"\"\n",
    "    res |= (((vertices + adjacent_vertices) % 2) == 1)\n",
    "\n",
    "@qfunc \n",
    "def bitwise_swap(x: QArray[QBit], y: QArray[QBit]):\n",
    "    \"\"\"\n",
    "    Applies a bitwise swap between two arrays of qubits.\n",
    "    \n",
    "    Steps:\n",
    "    1. Swap corresponding qubits between arrays `x` and `y`.\n",
    "    \"\"\"\n",
    "    repeat(count=x.len,\n",
    "           iteration=lambda i: SWAP(x[i], y[i]))\n",
    "\n",
    "@qfunc \n",
    "def S_operator(vertices: QNum, adjacent_vertices: QNum):\n",
    "    \"\"\"\n",
    "    Applies the S operator which uses the edge oracle and performs bitwise swaps.\n",
    "    \n",
    "    Steps:\n",
    "    1. Use `edge_oracle` to set the result based on the edge condition.\n",
    "    2. If `res` is 1, perform a bitwise swap between `vertices` and `adjacent_vertices`.\n",
    "    \"\"\"\n",
    "    res = QNum('res')\n",
    "    edge_oracle(res, vertices, adjacent_vertices)\n",
    "    control(ctrl=res == 1,\n",
    "            operand=lambda: bitwise_swap(vertices, adjacent_vertices))\n",
    "\n",
    "@qfunc \n",
    "def main(vertices: Output[QNum], adjacent_vertices: Output[QNum]):\n",
    "    \"\"\"\n",
    "    Main function to execute the quantum algorithm.\n",
    "    \n",
    "    Steps:\n",
    "    1. Allocate quantum registers for `vertices` and `adjacent_vertices`.\n",
    "    2. Apply Hadamard transformation to `vertices`.\n",
    "    3. Apply the W operator.\n",
    "    4. Apply the S operator.\n",
    "    \"\"\"\n",
    "    allocate(size, vertices)  # Allocate quantum register for vertices\n",
    "    hadamard_transform(vertices)  # Apply Hadamard transform to create superposition\n",
    "    allocate(size, adjacent_vertices)  # Allocate quantum register for adjacent vertices\n",
    "\n",
    "    W_operator(vertices, adjacent_vertices)  # Apply the W operator\n",
    "    S_operator(vertices, adjacent_vertices)  # Apply the S operator\n",
    "\n",
    "# Create and synthesize the quantum model\n",
    "qmod = create_model(main)\n",
    "qprog = synthesize(qmod)\n",
    "show(qprog)\n"
   ]
  },
  {
   "cell_type": "markdown",
   "id": "32170dd4-6485-4164-80c0-ac74cd85932f",
   "metadata": {},
   "source": [
    "# The Coin filp Opoerator\n",
    "\n",
    "1. **prepare_minus**(x: QBit)\n",
    "Role: Prepares a qubit x in a superposition state.\n",
    "Explanation:\n",
    "X(x): Applies the X gate to the qubit x, flipping it from |0⟩ to |1⟩.\n",
    "H(x): Applies the Hadamard gate to create a superposition of |0⟩ and |1⟩.\n",
    "Relation to Quantum Walks: This function sets up the initial superposition of states for the quantum walker.\n",
    "The Hadamard gate is commonly used to create a balanced superposition of basis states.\n",
    "\n",
    "2. **diffuzer_oracle**(aux: Output[QNum], x: QNum)\n",
    "Role: Defines an oracle operation affecting an auxiliary qubit based on the state of x.\n",
    "Explanation:\n",
    "aux^=(x!=0): Performs an XOR operation with the auxiliary qubit if x is non-zero.\n",
    "Relation to Quantum Walks: This function introduces a phase flip based on the state x,\n",
    "which is a key aspect of the quantum walk’s diffusion step.\n",
    "It helps in the interference process by altering the amplitudes of the states.\n",
    "\n",
    "3. **zero_diffuzer**(x: QNum)\n",
    "Role: Allocates and prepares an auxiliary qubit, then applies the diffuzer_oracle.\n",
    "Explanation:\n",
    "aux = QNum('aux'): Allocates a new quantum number aux for the auxiliary qubit.\n",
    "allocate(1, aux): Actually creates the auxiliary qubit.\n",
    "within_apply: Applies prepare_minus to aux and then diffuzer_oracle to perform the diffusion operation.\n",
    "Relation to Quantum Walks: This function prepares the diffusion step, which is crucial for \n",
    "the quantum walk’s evolution and interference effects.\n",
    "- **W_iteration**(i: int, vertices: QNum, adjacent_vertices: QNum)\n",
    "Role: Performs an iteration of the quantum walk operation for node i.\n",
    "Explanation:\n",
    "prob: Defines the probability vector for transitions based on the node position.\n",
    "Boundary conditions: Sets the probability for boundary nodes (nodes 0 and 15) and interior nodes.\n",
    "print(f'State={i}, prob vec={prob}'): Prints the state and probability vector for debugging.\n",
    "control: Applies the inplace_prepare_state function to set the state probabilities and then zero_diffuzer.\n",
    "Relation to Quantum Walks: This function implements the core of the coin operator, which updates the state \n",
    "probabilities for the quantum walker and prepares for the diffusion step. It alters the probability distribution of the walker’s position.\n",
    "5. ** W_operator**(vertices: QNum, adjacent_vertices: QNum)\n",
    "Role: Applies the W_iteration across all possible states.\n",
    "Explanation:\n",
    "for i in range(2size)**: Iterates through all possible states for vertices.\n",
    "W_iteration(i, vertices, adjacent_vertices): Applies the W_iteration for each state.\n",
    "Relation to Quantum Walks: This function applies the coin operator and diffusion step to all nodes,\n",
    "effectively updating the quantum walk for each iteration. It incorporates both the coin flip and diffusion steps over the entire state space.\n",
    "6. **edge_oracle**(res: Output[QBit], vertices: QNum, adjacent_vertices: QNum)\n",
    "Role: Defines the edge oracle that sets a result qubit based on the edge condition.\n",
    "Explanation:\n",
    "res |= (((vertices + adjacent_vertices) % 2) == 1): Sets the result res based on whether the sum of vertices and \n",
    "                                                        adjacent_vertices modulo 2 equals 1.\n",
    "**Relation to Quantum Walks**: This function represents an edge oracle that helps determine if an edge exists between nodes. \n",
    "It plays a role in measuring the presence of edges and can be part of the final measurement or interference step in the quantum walk.\n",
    "Quantum Walks and Interference\n",
    "**Initial Superposition**:\n",
    "\n",
    "prepare_minus creates an initial superposition of states, which allows the quantum walker to be in a superposition of all possible nodes.\n",
    "Coin Operator:\n",
    "\n",
    "**W_operator and W_iteration** apply the coin flip operator by setting probabilities for transitions between nodes. The coin operator \n",
    "alters the amplitude of moving to neighboring states.\n",
    "Unitary Evolution:\n",
    "\n",
    "**The overall unitary evolution** of the system is defined by the combination of coin and diffusion operations, affecting the quantum state over time.\n",
    "Interference Effects:\n",
    "\n",
    "**As the quantum walk progresses**, interference effects occur, where paths with constructive interference increase in \n",
    "probability while paths with destructive interference decrease. This is due to the combination of the diffuzer_oracle and edge_oracle operations."
   ]
  },
  {
   "cell_type": "markdown",
   "id": "8bd9604e-c5dd-4beb-841d-6f7cd3d5500a",
   "metadata": {},
   "source": [
    "# Swap Operator \n",
    "**S_operator** starts by setting up an auxiliary quantum register res to hold the result of the edge oracle operation.\n",
    "It then calls the edge_oracle function to determine if there is an edge between the vertices represented \n",
    "by vertices and adjacent_vertices. \n",
    "This result is stored in res.\n",
    "Using a control statement, it checks if res equals 1 (indicating an edge exists).\n",
    "If the condition is true, it performs a bitwise_swap operation to swap the states of the vertices and \n",
    "adjacent_vertices registers.\n",
    "\n",
    "**Quantum Walks Context**\n",
    "In the context of quantum walks:\n",
    "\n",
    "**Edge Oracle**: The edge_oracle helps identify connections between nodes, affecting the quantum state based on the graph's structure.\n",
    "\n",
    "**Conditional Swap**: The S_operator uses the result of the edge oracle to conditionally swap quantum states, enabling or modifying the quantum walk \n",
    "based on the graph's edges. This is crucial for algorithms that require altering states based on connectivity,\n",
    "such as in Grover's algorithm for searching through a database of solutions."
   ]
  },
  {
   "cell_type": "markdown",
   "id": "0b59bda7-bcbe-4ccc-8814-6e1bba4c7896",
   "metadata": {},
   "source": [
    "# Main function\n",
    "The main function sets up and executes the quantum algorithm by:\n",
    "\n",
    "Allocating the necessary quantum registers.\n",
    "\n",
    "Applying a Hadamard transformation to create an initial superposition of states.\n",
    "\n",
    "Applying the W_operator to perform quantum walk operations.\n",
    "\n",
    "Applying the S_operator to conditionally swap states based on graph connectivity.\n",
    "\n",
    "Overall, it orchestrates the process of preparing the quantum state, performing the quantum walk, \n",
    "\n",
    "and adjusting the quantum state based on the connections between nodes, which is central to many quantum algorithms.\n"
   ]
  },
  {
   "cell_type": "markdown",
   "id": "2878773b-d976-4955-b2ee-70df0cc7ad5a",
   "metadata": {},
   "source": [
    "# Results interpretaion\n",
    "\n",
    "Boundary Nodes: The probability vector is non-zero only for the immediate neighbors or the node itself, reflecting a fully deterministic move (probability 1).\n",
    "\n",
    "Interior Nodes: The walker’s probability vector is distributed equally between its two adjacent nodes, reflecting the uniform probability distribution of moving to each neighboring node.\n",
    " 0, 0, 0, 0, 1]"
   ]
  },
  {
   "cell_type": "markdown",
   "id": "9d2d5d58-1242-4f9f-9f28-32701b123108",
   "metadata": {},
   "source": [
    "# Circuit:\n",
    "We see a circuit with 26 qubits, with operations distributed across these qubits\n",
    "we apply the W_operator(flip coin)and S operator(swap operator)\n",
    "we can optimize the circuit width to 25."
   ]
  },
  {
   "cell_type": "markdown",
   "id": "3c8ee796-6ab7-4b5e-acc0-a69cfb675cd7",
   "metadata": {},
   "source": [
    "<div style=\"text-align: center;\">\n",
    "    <img src=\"C:/Users/Dell/123.png\" alt=\"Image\" style=\"max-width: 100%; height: auto;\">\n",
    "</div>\n"
   ]
  },
  {
   "cell_type": "markdown",
   "id": "90e4c6f2-fb4e-40b7-8475-8a7fe5115e5d",
   "metadata": {},
   "source": [
    "<div style=\"text-align: center;\">\n",
    "    <img src=\"C:/Users/Dell/124.png\" alt=\"Image\" style=\"max-width: 100%; height: auto;\">\n",
    "</div>"
   ]
  },
  {
   "cell_type": "markdown",
   "id": "a6ecd0c0-d2e7-45ca-848f-68d81b22929a",
   "metadata": {},
   "source": [
    "<div style=\"text-align: center;\">\n",
    "    <img src=\"C:/Users/Dell/125.png\" alt=\"Image\" style=\"max-width: 100%; height: auto;\">\n",
    "</div>"
   ]
  },
  {
   "cell_type": "markdown",
   "id": "84535722-b3d6-4419-84c4-99f78890f820",
   "metadata": {},
   "source": [
    "Both verticies and adjacent verticies are represented by a register of 4 qubit. "
   ]
  },
  {
   "cell_type": "code",
   "execution_count": null,
   "id": "d6e4bd1a-5bc5-4ef2-8e39-7c56adafcb47",
   "metadata": {},
   "outputs": [],
   "source": []
  }
 ],
 "metadata": {
  "kernelspec": {
   "display_name": "Python 3 (ipykernel)",
   "language": "python",
   "name": "python3"
  },
  "language_info": {
   "codemirror_mode": {
    "name": "ipython",
    "version": 3
   },
   "file_extension": ".py",
   "mimetype": "text/x-python",
   "name": "python",
   "nbconvert_exporter": "python",
   "pygments_lexer": "ipython3",
   "version": "3.8.19"
  }
 },
 "nbformat": 4,
 "nbformat_minor": 5
}
