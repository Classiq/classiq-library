{
  "cells": [
    {
      "cell_type": "markdown",
      "metadata": {
        "id": "S5a8KVmhRyCm"
      },
      "source": [
        "# HW-aware Synthesis of MCX\n",
        "\n",
        "This tutorial consists of two parts,\n",
        "1. How to create a 10-CONTROL MCX gate with Classiq\n",
        "2. Classiq's Hardware-Aware Synthesis capability\n",
        "\n",
        "<!--This tutorial demonstrates Classiq's Hardware-Aware Synthesis capability. In this example we will implement and synthesize a simple MCX (Multiple Control-X) circuit with two different HW-aware configuration settings using Classiq's synthesis engine.-->\n",
        "\n",
        "\n",
        "<!--The two different fictitious hardware created here demonstrates how to insert your own custom-designed machine. For comparison, we create two types of hardware with `cx, u` basis gates. The difference between them manifests in the connectivity map: one has grid connectivity while the other has star connectivity.-->\n",
        "\n",
        "<!--The two fictitious hardware created are using two different simulators, Classiq's Simulator and IonQ's Simulator. We will compare the depth of the circuit and we will optimise the number of cnot gates as they cause more errors and are very expensive. At the end of the tutorial we will also see the depth of both the circuits created.-->\n"
      ]
    },
    {
      "cell_type": "markdown",
      "metadata": {
        "id": "AE1ksqSMC_MY"
      },
      "source": [
        "## 1. How to create a 10-CONTROL MCX gate with Classiq"
      ]
    },
    {
      "cell_type": "markdown",
      "metadata": {
        "id": "CiCAjWxbC_Ma"
      },
      "source": [
        "To create an MCX gate with 10 control qubits using Classiq, we will first define a quantum function called `my_mcx`, whose arguments are an array of qubits (of any size) to be used as control, and a single qubit argument to be used as the target."
      ]
    },
    {
      "cell_type": "code",
      "execution_count": null,
      "metadata": {
        "id": "N55CY8rJo6nu"
      },
      "outputs": [],
      "source": [
        "#importing all the necessary libraries from classiq\n",
        "\n",
        "from math import pi\n",
        "from classiq import *"
      ]
    },
    {
      "cell_type": "code",
      "execution_count": null,
      "metadata": {
        "id": "8jxKs0RkpLqf"
      },
      "outputs": [],
      "source": [
        "# define MCX quantum function\n",
        "@qfunc\n",
        "def my_mcx(ctrl: QArray[QBit], target: QBit) -> None:\n",
        "    control(ctrl, lambda: X(target))"
      ]
    },
    {
      "cell_type": "markdown",
      "metadata": {
        "id": "DxI88JO1C_Mh"
      },
      "source": [
        "Then, to create an MCX gate with 10 control qubits we will create a quantum main function that will simply execute our `my_mcx` function with 10 qubits allocated to the control argument."
      ]
    },
    {
      "cell_type": "code",
      "execution_count": null,
      "metadata": {
        "id": "NIxnhfOgpSSI"
      },
      "outputs": [],
      "source": [
        "# define the MCX parameters within the quantum 'main' function\n",
        "@qfunc\n",
        "def main(ctrl: Output[QArray[QBit]], target: Output[QBit]) -> None:\n",
        "    allocate(10, ctrl)\n",
        "    allocate(1, target)\n",
        "    my_mcx(ctrl, target)"
      ]
    },
    {
      "cell_type": "markdown",
      "metadata": {
        "id": "Iu8uortFC_Mi"
      },
      "source": [
        "To build our model we will use the `create_model` function:"
      ]
    },
    {
      "cell_type": "code",
      "execution_count": null,
      "metadata": {
        "id": "iHVgE7SCpZBL"
      },
      "outputs": [],
      "source": [
        "# build a model\n",
        "model = create_model(main)"
      ]
    },
    {
      "cell_type": "markdown",
      "metadata": {
        "id": "CTi8GIBrC_Mk"
      },
      "source": [
        "To constrain a circuit to only 20 qubits and optimize for circuit depth, we pass the max width and optimization parameter to a `Constraints` object and update our model"
      ]
    },
    {
      "cell_type": "code",
      "execution_count": null,
      "metadata": {
        "id": "zbzL6MksC_Ml"
      },
      "outputs": [],
      "source": [
        "from classiq import write_qmod\n",
        "\n",
        "constraints = Constraints(\n",
        "    max_width=20, optimization_parameter=OptimizationParameter.DEPTH\n",
        ")\n",
        "model = set_constraints(model, constraints)\n",
        "\n",
        "write_qmod(model, \"mcx_10_ctrl_depth\")"
      ]
    },
    {
      "cell_type": "markdown",
      "metadata": {
        "id": "bpBmDJcBC_Mm"
      },
      "source": [
        "We can now synthesize our model, create a quantum program and view it:"
      ]
    },
    {
      "cell_type": "code",
      "execution_count": null,
      "metadata": {
        "colab": {
          "base_uri": "https://localhost:8080/"
        },
        "id": "OebNdwj-C_Mn",
        "outputId": "7b44a787-fd22-4392-e76a-804a6de89870"
      },
      "outputs": [
        {
          "name": "stdout",
          "output_type": "stream",
          "text": [
            "Opening: https://platform.classiq.io/circuit/fd469125-c5d1-42e8-9d04-9cdba8b62f25?version=0.41.2\n"
          ]
        }
      ],
      "source": [
        "qprog = synthesize(model)\n",
        "show(qprog)"
      ]
    },
    {
      "cell_type": "markdown",
      "metadata": {
        "id": "HDdeZAmNC_Mo"
      },
      "source": [
        "Additionally, To get the transpiled circuit from our qprog object and print its depth:"
      ]
    },
    {
      "cell_type": "code",
      "execution_count": null,
      "metadata": {
        "colab": {
          "base_uri": "https://localhost:8080/"
        },
        "id": "4Ykj96NcC_Mp",
        "outputId": "938cd55b-895f-47f5-ffab-99d29be7b4e0"
      },
      "outputs": [
        {
          "name": "stdout",
          "output_type": "stream",
          "text": [
            "Synthesized MCX depth is 52\n"
          ]
        }
      ],
      "source": [
        "circuit = QuantumProgram.from_qprog(qprog)\n",
        "print(f\"Synthesized MCX depth is {circuit.transpiled_circuit.depth}\")"
      ]
    },
    {
      "cell_type": "markdown",
      "metadata": {
        "id": "rF_sE_vHC_Mq"
      },
      "source": [
        "# 2. Classiq's Hardware-Aware Synthesis capability"
      ]
    },
    {
      "cell_type": "markdown",
      "metadata": {
        "id": "74aCfp3IC_Mq"
      },
      "source": [
        "In the above section we have seen how to create a MCX circuit, add constraints to it and optimize its depth in Classiq. In this section we will check the hardware-aware synthesis capability of Classiq. In this example we will implement and synthesize a simple MCX (Multiple Control-X) circuit with two different HW-aware configuration settings using Classiq's synthesis engine.\n",
        "\n",
        "The two different fictitious hardware created here demonstrates how to insert your own custom-designed machine. For comparison, we create two types of hardware with `cx, u` basis gates. The difference between them manifests in the connectivity map: one has grid connectivity while the other has star connectivity.\n",
        "\n",
        "We will compare the depth of the circuit and we will optimise the number of cnot gates as it is important in quantum computation because they cause more errors and are very expensive.\n"
      ]
    },
    {
      "cell_type": "code",
      "execution_count": 36,
      "metadata": {
        "id": "kDz3GbcKEwwB"
      },
      "outputs": [],
      "source": [
        "# define MCX quantum function\n",
        "@qfunc\n",
        "def my_mcx(ctrl: QArray[QBit], target: QBit) -> None:\n",
        "    control(ctrl, lambda: X(target))"
      ]
    },
    {
      "cell_type": "code",
      "execution_count": 37,
      "metadata": {
        "id": "yOzokSMZEw78"
      },
      "outputs": [],
      "source": [
        "# define the MCX parameters within the quantum 'main' function\n",
        "@qfunc\n",
        "def main(ctrl: Output[QArray[QBit]], target: Output[QBit]) -> None:\n",
        "    allocate(12, ctrl)\n",
        "    allocate(1, target)\n",
        "    my_mcx(ctrl, target)"
      ]
    },
    {
      "cell_type": "code",
      "execution_count": 38,
      "metadata": {
        "id": "5bGo7UFBEw_V"
      },
      "outputs": [],
      "source": [
        "# build a model\n",
        "model = create_model(main)"
      ]
    },
    {
      "cell_type": "code",
      "execution_count": 39,
      "metadata": {
        "id": "NlxS3xSTC_Mr"
      },
      "outputs": [],
      "source": [
        "# define the hardware parameters\n",
        "max_width = 18\n",
        "\n",
        "#Grid Connectivity\n",
        "grid_connectivity = [\n",
        "    [0, 1], [1, 2], [2, 3], [3, 4], [4, 5],  # Row 1\n",
        "    [6, 7], [7, 8], [8, 9], [9, 10], [10, 11],  # Row 2\n",
        "    [12, 13], [13, 14], [14, 15], [15, 16], [16, 17],  # Row 3\n",
        "    [0, 6], [6, 12],  # Column 1\n",
        "    [1, 7], [7, 13],  # Column 2\n",
        "    [2, 8], [8, 14],  # Column 3\n",
        "    [3, 9], [9, 15],  # Column 4\n",
        "    [4, 10], [10, 16],  # Column 5\n",
        "    [5, 11], [11, 17]   # Column 6\n",
        "]\n",
        "\n",
        "#Star Connectivity\n",
        "star_connectivity = [[0, i] for i in range(1, max_width-1)]"
      ]
    },
    {
      "cell_type": "code",
      "execution_count": null,
      "metadata": {},
      "outputs": [],
      "source": [
        "#Plotting Grid Connectivity\n",
        "import matplotlib.pyplot as plt\n",
        "import networkx as nx\n",
        "\n",
        "G = nx.Graph()\n",
        "G.add_edges_from(grid_connectivity)\n",
        "\n",
        "# Define the positions of the nodes in a 3x6 grid\n",
        "pos = {}\n",
        "for i in range(3):\n",
        "    for j in range(6):\n",
        "        pos[i * 6 + j] = (j, -i)  # (x, y) coordinates\n",
        "\n",
        "# Plot the graph\n",
        "plt.figure(figsize=(10, 6))\n",
        "nx.draw(G, pos, with_labels=True, node_size=500, node_color=\"skyblue\", font_size=16, font_color=\"black\", edge_color=\"gray\")\n",
        "plt.title(\"3x6 Grid Connectivity Map\")\n",
        "plt.show()"
      ]
    },
    {
      "cell_type": "code",
      "execution_count": null,
      "metadata": {},
      "outputs": [],
      "source": [
        "#plotting Star Connectivity\n",
        "import numpy as np\n",
        "\n",
        "G = nx.Graph()\n",
        "G.add_edges_from(star_connectivity)\n",
        "\n",
        "# Define the positions of the nodes in a star configuration\n",
        "pos = {}\n",
        "pos[0] = (0, 0)  # Central node\n",
        "angle_step = 360 / (len(star_connectivity))\n",
        "for i in range(1, 18):\n",
        "    angle = angle_step * (i - 1)\n",
        "    radians = np.deg2rad(angle)\n",
        "    pos[i] = (np.cos(radians), np.sin(radians))\n",
        "\n",
        "# Plot the graph\n",
        "plt.figure(figsize=(10, 10))\n",
        "nx.draw(G, pos, with_labels=True, node_size=500, node_color=\"skyblue\", font_size=16, font_color=\"black\", edge_color=\"gray\")\n",
        "plt.title(\"Star Connectivity Map\")\n",
        "plt.show()"
      ]
    },
    {
      "cell_type": "code",
      "execution_count": 40,
      "metadata": {
        "id": "1ogjh7qTGJd3"
      },
      "outputs": [],
      "source": [
        "#Grid Preferences \n",
        "preferences_grid = Preferences(\n",
        "    custom_hardware_settings=CustomHardwareSettings(\n",
        "        basis_gates=[\"cx\", \"u\"],\n",
        "        connectivity_map=grid_connectivity,\n",
        "    ),\n",
        "    random_seed=-1,\n",
        ")\n",
        "\n",
        "\n",
        "#Star Preferences \n",
        "preferences_star = Preferences(\n",
        "    custom_hardware_settings=CustomHardwareSettings(basis_gates=[\"cx\", \"u\"],\n",
        "                                                    connectivity_map=star_connectivity,),\n",
        "    random_seed=-1,\n",
        ")"
      ]
    },
    {
      "cell_type": "code",
      "execution_count": 41,
      "metadata": {
        "id": "_3KIstIjC_Ms"
      },
      "outputs": [],
      "source": [
        "# define synthesis engine constraints\n",
        "constraints = Constraints(optimization_parameter=\"cx\", max_width=max_width)"
      ]
    },
    {
      "cell_type": "code",
      "execution_count": 42,
      "metadata": {
        "id": "wviSbVIqsavi"
      },
      "outputs": [],
      "source": [
        "# define models with different preferences\n",
        "model = set_constraints(model, constraints)\n",
        "model_grid = set_preferences(model, preferences_grid)\n",
        "model_star = set_preferences(model, preferences_star)\n",
        "\n",
        "\n",
        "# write models to files\n",
        "write_qmod(model_grid, \"hardware_aware_mcx_grid\")\n",
        "write_qmod(model_star, \"hardware_aware_mcx_star\")"
      ]
    },
    {
      "cell_type": "code",
      "execution_count": 43,
      "metadata": {
        "colab": {
          "base_uri": "https://localhost:8080/"
        },
        "id": "hWP-uuNmsf5g",
        "outputId": "c9be259f-0ef0-43c9-d664-fcabae22a141"
      },
      "outputs": [
        {
          "name": "stdout",
          "output_type": "stream",
          "text": [
            "Opening: https://platform.classiq.io/circuit/305a7290-64c8-47e4-af71-5a80aa306056?version=0.41.2\n"
          ]
        }
      ],
      "source": [
        "qprog_grid= synthesize(model_grid)\n",
        "show(qprog_grid)"
      ]
    },
    {
      "cell_type": "code",
      "execution_count": 49,
      "metadata": {
        "colab": {
          "base_uri": "https://localhost:8080/"
        },
        "id": "7-1tx3a3squr",
        "outputId": "44587537-314b-4002-99b1-603b8d2ee0d0"
      },
      "outputs": [
        {
          "name": "stdout",
          "output_type": "stream",
          "text": [
            "Synthesized MCX cx-count for grid connectivity is 66\n",
            "Opening: https://platform.classiq.io/circuit/305a7290-64c8-47e4-af71-5a80aa306056?version=0.41.2\n"
          ]
        }
      ],
      "source": [
        "circuit_grid = QuantumProgram.from_qprog(qprog_grid)\n",
        "\n",
        "print(f\"Synthesized MCX cx-count for grid connectivity is {circuit_grid.transpiled_circuit.count_ops['cx']}\")\n",
        "circuit_grid.show()"
      ]
    },
    {
      "cell_type": "code",
      "execution_count": 45,
      "metadata": {
        "colab": {
          "base_uri": "https://localhost:8080/"
        },
        "id": "cYcpNdbos3is",
        "outputId": "1a56c67c-8b47-4a84-cc81-506a5e8267f4"
      },
      "outputs": [
        {
          "name": "stdout",
          "output_type": "stream",
          "text": [
            "Opening: https://platform.classiq.io/circuit/3d0aa65f-1ab3-43cb-b0bc-5abc15636b3e?version=0.41.2\n"
          ]
        }
      ],
      "source": [
        "qprog_star = synthesize(model_star)\n",
        "show(qprog_star)"
      ]
    },
    {
      "cell_type": "code",
      "execution_count": 50,
      "metadata": {
        "colab": {
          "base_uri": "https://localhost:8080/"
        },
        "id": "FySbcicutSXk",
        "outputId": "15100171-b019-4255-e581-033cfd84aab2"
      },
      "outputs": [
        {
          "name": "stdout",
          "output_type": "stream",
          "text": [
            "Synthesized MCX cx-count for star connectivity is 60\n",
            "Opening: https://platform.classiq.io/circuit/3d0aa65f-1ab3-43cb-b0bc-5abc15636b3e?version=0.41.2\n"
          ]
        }
      ],
      "source": [
        "circuit_star = QuantumProgram.from_qprog(qprog_star)\n",
        "\n",
        "print(f\"Synthesized MCX cx-count for star connectivity is {circuit_star.transpiled_circuit.count_ops['cx']}\")\n",
        "circuit_star.show()"
      ]
    },
    {
      "cell_type": "code",
      "execution_count": 51,
      "metadata": {
        "colab": {
          "base_uri": "https://localhost:8080/"
        },
        "id": "4p-TBa9ztebZ",
        "outputId": "6c905e75-1b2f-44ce-a140-22be2d09b1a8"
      },
      "outputs": [
        {
          "name": "stdout",
          "output_type": "stream",
          "text": [
            "Synthesized Depth for grid connectivity is 54\n"
          ]
        }
      ],
      "source": [
        "print(f\"Synthesized Depth for grid connectivity is {circuit_grid.transpiled_circuit.depth}\")"
      ]
    },
    {
      "cell_type": "code",
      "execution_count": 52,
      "metadata": {
        "colab": {
          "base_uri": "https://localhost:8080/"
        },
        "id": "EVxTVGqf1HIS",
        "outputId": "377e210b-263f-4c8d-c173-129fa91c822f"
      },
      "outputs": [
        {
          "name": "stdout",
          "output_type": "stream",
          "text": [
            "Synthesized Depth for star connectivity is 63\n"
          ]
        }
      ],
      "source": [
        "print(f\"Synthesized Depth for star connectivity is {circuit_star.transpiled_circuit.depth}\")"
      ]
    },
    {
      "cell_type": "markdown",
      "metadata": {
        "id": "b043xgbpHGEO"
      },
      "source": [
        "**Conclusion:** Given the connectivity of the hardware and its preferences the engince optimizes the constraints of the model. In this case the constraits were `max_width` which is the maximum number of qubits it can use and the number of `cx gates`. Our main aim is to minimize the number of cx gates.\n",
        "\n",
        "With `Star Connectivity` the minimum number of cx gates required after transpiling the circuit is 66 and depth of the circuit turned out to be 63.\n",
        "\n",
        "Whereas with `Grid Connectivity`  the minimum number of cx gates required after transpiling the circuit is just 60 and depth of the circuit is 54.\n",
        "\n",
        "Looking at the both the cases we can come to a conclusion that star connectivity is more favourable to synthesize and execute a MCX circuit.\n",
        "\n"
      ]
    },
    {
      "cell_type": "markdown",
      "metadata": {},
      "source": []
    }
  ],
  "metadata": {
    "colab": {
      "provenance": []
    },
    "kernelspec": {
      "display_name": "Python 3",
      "language": "python",
      "name": "python3"
    },
    "language_info": {
      "codemirror_mode": {
        "name": "ipython",
        "version": 3
      },
      "file_extension": ".py",
      "mimetype": "text/x-python",
      "name": "python",
      "nbconvert_exporter": "python",
      "pygments_lexer": "ipython3",
      "version": "3.8.5"
    }
  },
  "nbformat": 4,
  "nbformat_minor": 0
}
