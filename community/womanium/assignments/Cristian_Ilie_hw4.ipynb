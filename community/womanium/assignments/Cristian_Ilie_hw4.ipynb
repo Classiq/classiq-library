{
 "cells": [
  {
   "cell_type": "markdown",
   "id": "c4df5126-e121-4c49-a3dd-4b2c25280880",
   "metadata": {},
   "source": [
    "# Discrete Quantum Walks"
   ]
  },
  {
   "cell_type": "markdown",
   "id": "41635522-3bb2-42e2-b20c-59d4128470a5",
   "metadata": {},
   "source": [
    ">In a discrete quantum walk, the motion occurs on a graph, where the vertices represent the positions where the walker may step, and the edges indicate the possible directions the walker can choose to move. While space is discrete, time can be either discrete or continuous. In the discrete-time case, the walker repeatedly steps from one vertex to the next.\n",
    ">To define the actions of the quantum walker, we only need to implement two operations, one is choosing all the edges that are connected to the current node, and the second one is the actual step in those directions. The operations are described mathematically as follows:\n",
    ">\\begin{equation} C \\coloneqq \\sum_{j \\in V} |j \\rangle \\langle j | \\otimes \\left( 2 | \\delta_j \\rangle \\langle \\delta_j | - I \\right) \\end{equation}\n",
    ">\\begin{equation} S \\coloneqq \\sum_{\\left(j,k\\right) \\in E} |j, k \\rangle \\langle k, j | \\end{equation}\n",
    ">where:\n",
    ">\\begin{equation} | \\delta_j \\rangle \\coloneqq \\frac{1}{\\sqrt{deg\\left(j\\right)}}\\sum_{k:\\left(j,k\\right) \\in E} |k \\rangle\\end{equation}\n",
    ">The C operator is generally referred as the \"quantum coin\" and the S operator is the swap between the two vertices (the one left by the walker and the current vertex). One step of the quantum walk is described by the unitary operator $SC$. In the following sections we will describe how each of them are implemented for two different graphs, highlighting the general parts and the specific ones for each approach.\n"
   ]
  },
  {
   "cell_type": "markdown",
   "id": "a169df7c-651e-4d7f-af00-887367aeb6f5",
   "metadata": {},
   "source": [
    "## Implementation using Classiq\n",
    "### Circular graph with 4 node"
   ]
  },
  {
   "cell_type": "code",
   "execution_count": 2,
   "id": "0320cbe4-6f31-4cef-8912-44bcbf1c6a6b",
   "metadata": {},
   "outputs": [],
   "source": [
    "from classiq import *\n",
    "import networkx as nx\n",
    "import matplotlib.pyplot as plt"
   ]
  },
  {
   "cell_type": "code",
   "execution_count": 8,
   "id": "050ef509-04f3-434d-8f3a-fc047fdbb218",
   "metadata": {
    "jupyter": {
     "source_hidden": true
    }
   },
   "outputs": [
    {
     "data": {
      "image/png": "[encoded data removed]",
      "text/plain": [
       "<Figure size 640x480 with 1 Axes>"
      ]
     },
     "metadata": {},
     "output_type": "display_data"
    }
   ],
   "source": [
    "size = 2\n",
    "\n",
    "edge_list = [(i, (i+1)%(2**size)) for i in range(2**size)]\n",
    "\n",
    "G = nx.Graph(edge_list)\n",
    "\n",
    "nx.draw_circular(G, with_labels=True)\n",
    "plt.axis('equal')\n",
    "plt.show()"
   ]
  },
  {
   "cell_type": "markdown",
   "id": "5860228f-6f04-4fff-9fd8-e967a08e8cfa",
   "metadata": {},
   "source": [
    ">The graph above has all the even vertices connected with all the odd ones. This aspect will help us within this particular example to define the specific operations.\n",
    ">We shall describe how each of the operators acts on the quantum states and how the specific information that describes the graph is encoded into this states.\n",
    ">Firstly, the $C$ operator can be decomposed into smaller operations:\n",
    ">\\begin{equation} C \\coloneqq \\sum_{j \\in V} \\textcolor{violet}{ |j \\rangle \\langle j |} \\otimes \\left( \\textcolor{purple}{ 2 | \\delta_j \\rangle \\langle \\delta_j | - I }\\right) \\end{equation}\n",
    ">The $\\textcolor{violet}{violet}$ part represent a control operation, where the control qubits are one vertice's index and the controlled qubits are the adjacent vertices, and the $\\textcolor{purple}{purple}$ part is a Grover diffusion operator over the neighbors of the control node.\n",
    ">The $\\textcolor{purple}{Grover~diffusion}$ will use some  $\\textcolor{#D7F75B}{Classiq}$ builtin primitives like $within\\_apply$ and $inplace\\_prepare\\_state$.\n"
   ]
  },
  {
   "cell_type": "code",
   "execution_count": 11,
   "id": "73882c28-2913-4ccc-9ce9-6ed0554b07d8",
   "metadata": {},
   "outputs": [],
   "source": [
    "@qfunc\n",
    "def prepare_minus(x: QBit):\n",
    "  X(x)\n",
    "  H(x)\n",
    "\n",
    "\n",
    "@qfunc\n",
    "def diffuzer_oracle(aux: Output[QNum],x:QNum):\n",
    "  aux^=(x!=0)\n",
    "\n",
    "\n",
    "@qfunc\n",
    "def zero_diffuzer(x: QNum):\n",
    "  aux = QNum('aux')\n",
    "  allocate(1,aux)\n",
    "  within_apply(compute=lambda: prepare_minus(aux),\n",
    "              action=lambda: diffuzer_oracle)"
   ]
  },
  {
   "cell_type": "markdown",
   "id": "cfcf94bd-5c08-486b-8621-93ea04fe74b5",
   "metadata": {
    "editable": true,
    "slideshow": {
     "slide_type": ""
    },
    "tags": []
   },
   "source": [
    ">Now we will focus on the $\\textcolor{violet}{control}$ part. The $C\\_iteration$ function will encode the probabilities of the walker stepping on a neighboring node and this operation will be specific to the graph in our example. These probabilities will be used for state preparation inside $C\\_operator$ :"
   ]
  },
  {
   "cell_type": "code",
   "execution_count": 12,
   "id": "183f8ee4-267a-4fb3-b463-d127da14a3b5",
   "metadata": {
    "editable": true,
    "slideshow": {
     "slide_type": ""
    },
    "tags": []
   },
   "outputs": [],
   "source": [
    "def C_iteration(i:int,vertices: QNum, adjacent_vertices:QNum):\n",
    "    prob = [0,0,0,0]\n",
    "    prob[(i+1)% 4]=0.5\n",
    "    prob[(i-1)% 4]=0.5\n",
    "    print(f'State={i}, prob vec ={prob}')\n",
    "    \n",
    "    control(ctrl=vertices==i,\n",
    "            operand=lambda: within_apply(\n",
    "              compute= lambda: inplace_prepare_state(probabilities=prob, bound=0.01, target=adjacent_vertices),\n",
    "              action= lambda: zero_diffuzer(adjacent_vertices)))\n",
    "\n",
    "\n",
    "@qfunc \n",
    "def C_operator(vertices:QNum, adjacent_vertices: QNum):\n",
    "    for i in range(2**size):\n",
    "      C_iteration(i,vertices,adjacent_vertices)"
   ]
  },
  {
   "cell_type": "markdown",
   "id": "60b30aec-c37c-416f-8d44-a2d0e48edd45",
   "metadata": {},
   "source": [
    ">The $S$ operator can be decomposed as follows: first an oracle which is specific to the graph will be implemented to check the connectivity between two vertices, after that the two indices of the connected vertices are swapped. The $edge\\_oracle$ will map the input vertices to a result qubit which will return $1_L$ if the two vertices are connected and the $bitwise\\_swap$ will change their states.\n",
    ">\n",
    ">Here the $edge\\_oracle$ checks if the sum of the vertices is odd and returns the result in the $res$ qubit."
   ]
  },
  {
   "cell_type": "code",
   "execution_count": 13,
   "id": "d9b488da-d8d7-4d30-9b75-cc03d12b138f",
   "metadata": {},
   "outputs": [],
   "source": [
    "@qfunc\n",
    "def edge_oracle(res:Output[QBit], vertices: QNum, adjacent_vertices: QNum):\n",
    "  res |= (((vertices+adjacent_vertices)%2) ==1)\n",
    "\n",
    "\n",
    "@qfunc \n",
    "def bitwise_swap(x: QArray[QBit], y:QArray[QBit]):\n",
    "  repeat(count= x.len,\n",
    "    iteration= lambda i: SWAP(x[i],y[i]))\n",
    "  \n",
    "\n",
    "@qfunc \n",
    "def S_operator(vertices:QNum, adjacent_vertices: QNum):\n",
    "    res = QNum('res')\n",
    "    edge_oracle(res,vertices,adjacent_vertices)\n",
    "    control(ctrl= res==1,\n",
    "        operand= lambda: bitwise_swap(vertices,adjacent_vertices))"
   ]
  },
  {
   "cell_type": "markdown",
   "id": "01a56935-90a3-401b-ace5-9b5bd3431000",
   "metadata": {},
   "source": [
    ">In the end we need to create the full circuit, allocating two qubits for the $2^2$ states of the vertices and 2 qubits for the adjacent vertices. We're applying hadamard gates to all the vertices' qubits to have an uniform superposition of the states and after that the $C$ and $S$ operators and create the model."
   ]
  },
  {
   "cell_type": "code",
   "execution_count": 14,
   "id": "b716621d-2c1a-4b25-a525-82b1e321b02e",
   "metadata": {},
   "outputs": [
    {
     "name": "stdout",
     "output_type": "stream",
     "text": [
      "State=0, prob vec =[0, 0.5, 0, 0.5]\n",
      "State=1, prob vec =[0.5, 0, 0.5, 0]\n",
      "State=2, prob vec =[0, 0.5, 0, 0.5]\n",
      "State=3, prob vec =[0.5, 0, 0.5, 0]\n",
      "Opening: https://platform.classiq.io/circuit/9227f30c-3eea-44ef-a014-bec70d590923?version=0.43.3\n"
     ]
    }
   ],
   "source": [
    "@qfunc \n",
    "def main(vertices:Output[QNum], adjacent_vertices:Output[QNum]):\n",
    "\n",
    "  allocate(size,vertices)\n",
    "  hadamard_transform(vertices)\n",
    "  allocate(size,adjacent_vertices)\n",
    "\n",
    "  C_operator(vertices,adjacent_vertices)\n",
    "  S_operator(vertices,adjacent_vertices)\n",
    "\n",
    "qmod = create_model(main)\n",
    "qprog = synthesize(qmod)\n",
    "show(qprog)"
   ]
  },
  {
   "cell_type": "markdown",
   "id": "85919882-e599-472a-b480-a1d298d3e88f",
   "metadata": {},
   "source": [
    "<img src=\"Circular4.jpg\" width=\"100%\">"
   ]
  },
  {
   "cell_type": "code",
   "execution_count": 22,
   "id": "445d3a5a-3e19-4e22-8cd1-b77008b64e01",
   "metadata": {},
   "outputs": [],
   "source": [
    "results = execute(qprog).result()[0].value "
   ]
  },
  {
   "cell_type": "code",
   "execution_count": 44,
   "id": "33074d75-57b9-4cb7-993c-6b1f8078f4dd",
   "metadata": {},
   "outputs": [
    {
     "data": {
      "text/plain": [
       "[Text(0, 0, 'V: 0 - A: 3'),\n",
       " Text(0, 0, 'V: 0 - A: 1'),\n",
       " Text(0, 0, 'V: 2 - A: 0'),\n",
       " Text(0, 0, 'V: 0 - A: 0')]"
      ]
     },
     "execution_count": 44,
     "metadata": {},
     "output_type": "execute_result"
    },
    {
     "data": {
      "image/png": "[encoded data removed]",
      "text/plain": [
       "<Figure size 640x480 with 1 Axes>"
      ]
     },
     "metadata": {},
     "output_type": "display_data"
    }
   ],
   "source": [
    "probabilities = [value/results.num_shots for value in results.counts.values()]\n",
    "labels = [f\"V: {label['vertices']:.0f} - A: {label['adjacent_vertices']:.0f}\" for label in results.parsed_states.values()] \n",
    "values = [key for key in results.counts.keys()]\n",
    "\n",
    "container = plt.bar(values, probabilities)\n",
    "plt.bar_label(container, labels)"
   ]
  },
  {
   "cell_type": "markdown",
   "id": "e4a884d7-946d-4216-9d53-96598ab99210",
   "metadata": {},
   "source": [
    "### Interpretation\n",
    "\n",
    ">We can observe the $C$ and $S$ operators as blocks in the circuit diagram. The results show a single step of discrete quantum walks where we have chosen a superposition of all the vertices as starting points and the adjacent_vertices register is set to 0. When the current node has an edge with the node described by the adjacent_vertices register, a swap operation is performed.\n",
    ">\n",
    ">So, when the vertex is either 1 or 3, it is swapped with the adjacent_vertex as we can see in the bargraph above."
   ]
  },
  {
   "cell_type": "markdown",
   "id": "01a5c06b-9034-4e15-8f4d-2bc0b55114e6",
   "metadata": {},
   "source": [
    "## Linear graph with 16 nodes"
   ]
  },
  {
   "cell_type": "code",
   "execution_count": 45,
   "id": "0a5dba66-181c-4b05-9bc7-9cf8d277f245",
   "metadata": {
    "jupyter": {
     "source_hidden": true
    }
   },
   "outputs": [
    {
     "data": {
      "image/png": "[encoded data removed]",
      "text/plain": [
       "<Figure size 640x480 with 1 Axes>"
      ]
     },
     "metadata": {},
     "output_type": "display_data"
    }
   ],
   "source": [
    "size = 4\n",
    "\n",
    "edge_list = [(i, i+1) for i in range(2**size-1)]\n",
    "\n",
    "G = nx.Graph(edge_list)\n",
    "\n",
    "nx.draw_circular(G, with_labels=True)\n",
    "plt.axis('equal')\n",
    "plt.show()"
   ]
  },
  {
   "cell_type": "markdown",
   "id": "0d3b83c7-74eb-46b1-84b5-e4dfd9ddabdd",
   "metadata": {},
   "source": [
    ">For the above graph we can make use of the same operators described earlier in this notebook, with a few changes in order to take into consideration its slightly different structure.\n",
    ">\n",
    ">The first part (the diffuser) will remain the same as each node has at most two adjacent nodes as in the previous graph."
   ]
  },
  {
   "cell_type": "code",
   "execution_count": 46,
   "id": "8b3fac39-887a-4e36-85df-e815028286cf",
   "metadata": {},
   "outputs": [],
   "source": [
    "@qfunc\n",
    "def prepare_minus(x: QBit):\n",
    "  X(x)\n",
    "  H(x)\n",
    "\n",
    "\n",
    "@qfunc\n",
    "def diffuzer_oracle(aux: Output[QNum],x:QNum):\n",
    "  aux^=(x!=0)\n",
    "\n",
    "\n",
    "@qfunc\n",
    "def zero_diffuzer(aux: QNum,x: QNum):\n",
    "  within_apply(compute=lambda: prepare_minus(aux),\n",
    "              action=lambda: diffuzer_oracle)"
   ]
  },
  {
   "cell_type": "markdown",
   "id": "c6cb8225-b2e2-4bc3-b92a-64a4ae7c72fe",
   "metadata": {},
   "source": [
    "> The $C\\_iteration$ function which generates the probabilities for the state preparation will be modified accordingly to the number of vertices and to the graph structure (liniar versus circular): if the node is at the edge of the graph, the probability to return in the adjacent node is $100\\%$. Also, because in the previous example we were allocating an ancilla qubit for each zero diffuser and this increased exponentially the number of qubits, here we have reused the same aux qubit allocated only once in the $C\\_operator$ function."
   ]
  },
  {
   "cell_type": "code",
   "execution_count": 47,
   "id": "6852006a-496c-4afa-925f-f399f82c10f3",
   "metadata": {},
   "outputs": [],
   "source": [
    "def C_iteration(i:int,vertices: QNum, adjacent_vertices:QNum, aux: QNum):\n",
    "    prob = [0,0,0,0,0,0,0,0,0,0,0,0,0,0,0,0]\n",
    "    if i != 0 and i != 15:\n",
    "        prob[i+1]=0.5\n",
    "        prob[i-1]=0.5\n",
    "    elif i == 0:\n",
    "        prob[i+1] = 1\n",
    "    else:\n",
    "        prob[i-1] = 1\n",
    "    print(f'State={i}, prob vec ={prob}')\n",
    "    \n",
    "    control(ctrl=vertices==i,\n",
    "            operand=lambda: within_apply(\n",
    "              compute= lambda: inplace_prepare_state(probabilities=prob, bound=0.01, target=adjacent_vertices),\n",
    "              action= lambda: zero_diffuzer(aux,adjacent_vertices)))\n",
    "\n",
    "\n",
    "@qfunc \n",
    "def C_operator(vertices:QNum, adjacent_vertices: QNum):\n",
    "    aux = QNum('aux')\n",
    "    allocate(1, aux)\n",
    "    for i in range(2**size):\n",
    "      C_iteration(i,vertices,adjacent_vertices,aux)"
   ]
  },
  {
   "cell_type": "markdown",
   "id": "eb146a90-c49d-4571-9b36-671ed74cdb49",
   "metadata": {},
   "source": [
    ">The $edge\\_oracle$ is also dependent on the type of graph and how it is structured. In order to use as few qubits as possible, we use the fact that two neighbors will always have the difference one. We have to keep track of the direction, so we use a qubit for a step to the left and another one for the right direction."
   ]
  },
  {
   "cell_type": "code",
   "execution_count": 48,
   "id": "1c815888-777e-4717-8501-3ab7cfac81c1",
   "metadata": {},
   "outputs": [],
   "source": [
    "@qfunc\n",
    "def edge_oracle(adj_l:Output[QNum],adj_r:Output[QNum], vertices: QNum, adjacent_vertices: QNum):\n",
    "    adj_l |= ((vertices-adjacent_vertices) ==1)\n",
    "    adj_r |= ((adjacent_vertices-vertices) ==1)\n",
    "\n",
    "\n",
    "@qfunc \n",
    "def bitwise_swap(x: QArray[QBit], y:QArray[QBit]):\n",
    "  repeat(count= x.len,\n",
    "    iteration= lambda i: SWAP(x[i],y[i]))\n",
    "  \n",
    "\n",
    "@qfunc \n",
    "def S_operator(vertices:QNum, adjacent_vertices: QNum):\n",
    "    adj_l = QNum('adj_l')\n",
    "    adj_r = QNum('adj_r')\n",
    "    edge_oracle(adj_l,adj_r,vertices,adjacent_vertices)\n",
    "    control(ctrl= adj_l==1,\n",
    "        operand= lambda: bitwise_swap(vertices,adjacent_vertices))\n",
    "    control(ctrl= adj_r==1,\n",
    "        operand= lambda: bitwise_swap(vertices,adjacent_vertices))"
   ]
  },
  {
   "cell_type": "markdown",
   "id": "5a376da9-1a53-413d-9d05-f2f265656d4e",
   "metadata": {},
   "source": [
    ">The last step is to create the whole circuit, allocating the qubits for vertices and for adjacent_vertices, to put in a superposition the starting position and to apply the $SC$ operators described above. In order to have a minimum width, we are optimizing the circuit with the $\\textcolor{#D7F75B}{Classiq's}$ synthesizer's help."
   ]
  },
  {
   "cell_type": "code",
   "execution_count": 49,
   "id": "60bd4880-f0f1-4238-b2ac-d41a94123424",
   "metadata": {},
   "outputs": [
    {
     "name": "stdout",
     "output_type": "stream",
     "text": [
      "State=0, prob vec =[0, 1, 0, 0, 0, 0, 0, 0, 0, 0, 0, 0, 0, 0, 0, 0]\n",
      "State=1, prob vec =[0.5, 0, 0.5, 0, 0, 0, 0, 0, 0, 0, 0, 0, 0, 0, 0, 0]\n",
      "State=2, prob vec =[0, 0.5, 0, 0.5, 0, 0, 0, 0, 0, 0, 0, 0, 0, 0, 0, 0]\n",
      "State=3, prob vec =[0, 0, 0.5, 0, 0.5, 0, 0, 0, 0, 0, 0, 0, 0, 0, 0, 0]\n",
      "State=4, prob vec =[0, 0, 0, 0.5, 0, 0.5, 0, 0, 0, 0, 0, 0, 0, 0, 0, 0]\n",
      "State=5, prob vec =[0, 0, 0, 0, 0.5, 0, 0.5, 0, 0, 0, 0, 0, 0, 0, 0, 0]\n",
      "State=6, prob vec =[0, 0, 0, 0, 0, 0.5, 0, 0.5, 0, 0, 0, 0, 0, 0, 0, 0]\n",
      "State=7, prob vec =[0, 0, 0, 0, 0, 0, 0.5, 0, 0.5, 0, 0, 0, 0, 0, 0, 0]\n",
      "State=8, prob vec =[0, 0, 0, 0, 0, 0, 0, 0.5, 0, 0.5, 0, 0, 0, 0, 0, 0]\n",
      "State=9, prob vec =[0, 0, 0, 0, 0, 0, 0, 0, 0.5, 0, 0.5, 0, 0, 0, 0, 0]\n",
      "State=10, prob vec =[0, 0, 0, 0, 0, 0, 0, 0, 0, 0.5, 0, 0.5, 0, 0, 0, 0]\n",
      "State=11, prob vec =[0, 0, 0, 0, 0, 0, 0, 0, 0, 0, 0.5, 0, 0.5, 0, 0, 0]\n",
      "State=12, prob vec =[0, 0, 0, 0, 0, 0, 0, 0, 0, 0, 0, 0.5, 0, 0.5, 0, 0]\n",
      "State=13, prob vec =[0, 0, 0, 0, 0, 0, 0, 0, 0, 0, 0, 0, 0.5, 0, 0.5, 0]\n",
      "State=14, prob vec =[0, 0, 0, 0, 0, 0, 0, 0, 0, 0, 0, 0, 0, 0.5, 0, 0.5]\n",
      "State=15, prob vec =[0, 0, 0, 0, 0, 0, 0, 0, 0, 0, 0, 0, 0, 0, 1, 0]\n",
      "Opening: https://platform.classiq.io/circuit/ea7451fe-f7a2-4bcc-a5ed-f2663879ad10?version=0.43.3\n"
     ]
    }
   ],
   "source": [
    "@qfunc \n",
    "def main(vertices:Output[QNum], adjacent_vertices:Output[QNum]):\n",
    "\n",
    "  allocate(size,vertices)\n",
    "  hadamard_transform(vertices)\n",
    "  allocate(size,adjacent_vertices)\n",
    "\n",
    "  C_operator(vertices,adjacent_vertices)\n",
    "  S_operator(vertices,adjacent_vertices)\n",
    "\n",
    "qmod = create_model(main)\n",
    "quantum_model_with_constraints = set_constraints(\n",
    "    qmod, Constraints(optimization_parameter=\"width\", max_depth=10000)\n",
    ")\n",
    "qprog = synthesize(quantum_model_with_constraints)\n",
    "show(qprog)"
   ]
  },
  {
   "cell_type": "markdown",
   "id": "3d0815b6-ae3e-4dab-83b7-0d6f17e18002",
   "metadata": {},
   "source": [
    "<img src=\"Liniar16.jpg\" width=\"100%\">"
   ]
  },
  {
   "cell_type": "code",
   "execution_count": 51,
   "id": "914b6c80-4aa8-49f2-aab9-0d58c56ac7a2",
   "metadata": {},
   "outputs": [],
   "source": [
    "results = execute(qprog).result()[0].value "
   ]
  },
  {
   "cell_type": "code",
   "execution_count": 66,
   "id": "b4b6bd9f-0410-481a-ad44-876d856e7811",
   "metadata": {},
   "outputs": [
    {
     "data": {
      "text/plain": [
       "[Text(0, 0, 'V: 15 - A: 0'),\n",
       " Text(0, 0, 'V: 14 - A: 0'),\n",
       " Text(0, 0, 'V: 4 - A: 0'),\n",
       " Text(0, 0, 'V: 0 - A: 1'),\n",
       " Text(0, 0, 'V: 10 - A: 0'),\n",
       " Text(0, 0, 'V: 12 - A: 0'),\n",
       " Text(0, 0, 'V: 8 - A: 0'),\n",
       " Text(0, 0, 'V: 6 - A: 0'),\n",
       " Text(0, 0, 'V: 13 - A: 0'),\n",
       " Text(0, 0, 'V: 0 - A: 0'),\n",
       " Text(0, 0, 'V: 2 - A: 0'),\n",
       " Text(0, 0, 'V: 11 - A: 0'),\n",
       " Text(0, 0, 'V: 3 - A: 0'),\n",
       " Text(0, 0, 'V: 7 - A: 0'),\n",
       " Text(0, 0, 'V: 9 - A: 0'),\n",
       " Text(0, 0, 'V: 5 - A: 0')]"
      ]
     },
     "execution_count": 66,
     "metadata": {},
     "output_type": "execute_result"
    },
    {
     "data": {
      "image/png": "[encoded data removed]",
      "text/plain": [
       "<Figure size 1500x500 with 1 Axes>"
      ]
     },
     "metadata": {},
     "output_type": "display_data"
    }
   ],
   "source": [
    "probabilities = [value/results.num_shots for value in results.counts.values()]\n",
    "labels = [f\"V: {label['vertices']:.0f} - A: {label['adjacent_vertices']:.0f}\" for label in results.parsed_states.values()] \n",
    "values = [key for key in results.counts.keys()]\n",
    "plt.figure(figsize=(15, 5))\n",
    "container = plt.bar(values, probabilities)\n",
    "plt.bar_label(container, labels)"
   ]
  },
  {
   "cell_type": "markdown",
   "id": "04eae3c8-0e6f-4648-a1aa-1b3f3cf6a85e",
   "metadata": {},
   "source": [
    ">We can observe that the final optimized cirtuit has a depth of $11$, just two more qubits above the earlier example because of some optimization techniques.\n",
    ">\n",
    ">The results show that for the starting node 1 and the adjacent_vertices register set to 0, the current node will be swapped with the adjacent node, so the walker takes a step in this direction. "
   ]
  },
  {
   "cell_type": "markdown",
   "id": "feb56cb8-5d89-4c38-8005-f2158d5bf7f6",
   "metadata": {},
   "source": [
    "# Thank you!"
   ]
  }
 ],
 "metadata": {
  "kernelspec": {
   "display_name": "venv",
   "language": "python",
   "name": "venv"
  },
  "language_info": {
   "codemirror_mode": {
    "name": "ipython",
    "version": 3
   },
   "file_extension": ".py",
   "mimetype": "text/x-python",
   "name": "python",
   "nbconvert_exporter": "python",
   "pygments_lexer": "ipython3",
   "version": "3.11.9"
  }
 },
 "nbformat": 4,
 "nbformat_minor": 5
}
