{
 "cells": [
  {
   "cell_type": "markdown",
   "id": "6f23efe9-47d1-4e3b-89e2-77b1095eca09",
   "metadata": {},
   "source": [
    "# Advanced Algorithms Design with Classiq: Quantum Walk\n",
    "------\n",
    "### José Alejandro García González"
   ]
  },
  {
   "cell_type": "markdown",
   "id": "b7de443f-4a24-428a-8c38-7a25046ec828",
   "metadata": {},
   "source": [
    "## The problem"
   ]
  },
  {
   "cell_type": "markdown",
   "id": "8465694c-f193-467b-87e2-1a19ca177753",
   "metadata": {},
   "source": [
    "The objective of the present notebook is to implement the evolution operator of a Quantum Walk algorithm for a straight line consisting of 16 nodes labeled\n",
    "from 0 to 15, as illustrated on the following picture."
   ]
  },
  {
   "attachments": {
    "c20812f4-bacd-4851-93e9-90efbe079d1a.png": {
     "image/png": "[encoded data removed]"
    }
   },
   "cell_type": "markdown",
   "id": "236d2c97-f53c-4071-9260-863c3ec0ee43",
   "metadata": {},
   "source": [
    "![Captura de pantalla 2024-07-24 171043.png](attachment:c20812f4-bacd-4851-93e9-90efbe079d1a.png) <br>\n",
    "*Taken from Womanium Quantum+AI 2024 program Canva's page*"
   ]
  },
  {
   "cell_type": "markdown",
   "id": "b7904f8d-3f8d-45b9-b166-28bc296555ca",
   "metadata": {},
   "source": [
    "The goal of the evolution operator is to decide where a *walker* should move on the graph depending on where it is standing. For example, if our walker is on node **2**, the operator will decide that in the next step the walker will be in either node **1** or **3** with equal probability, or even on an\n",
    "equal superposition of both nodes. Esentially, the evolution operator will move our *walker* around the graph one step at a time."
   ]
  },
  {
   "cell_type": "markdown",
   "id": "c1dd7cca-8d40-435a-8961-e67b5ad24ddb",
   "metadata": {},
   "source": [
    "In order to achieve this, the operator is divided into two parts: an operator $C$, that will put our walker on a superposition of all possible nodes it can get to; and an operator $S$, that will \"move\" our walker to a different node. This way, applying $SC$ (in that order) will make our walker take a step around the graph."
   ]
  },
  {
   "cell_type": "markdown",
   "id": "ff5efdd8-e691-4098-81c0-e82a8c59af4a",
   "metadata": {},
   "source": [
    "## The $C$ operator"
   ]
  },
  {
   "cell_type": "markdown",
   "id": "b225634a-626d-44b6-84eb-c8dc3a9b65d0",
   "metadata": {},
   "source": [
    "The C operator, for this problem, is defined as"
   ]
  },
  {
   "cell_type": "markdown",
   "id": "b24a273a-2f43-4d4c-aada-e274b31f95d8",
   "metadata": {},
   "source": [
    "$\\hspace{6 cm}$ $C = \\displaystyle\\sum_{j=0}^{15} |j\\rangle\\langle j|\\otimes(2|\\partial_{j}\\rangle\\langle\\partial_{j}| - I)$ $\\hspace{2 cm}$ where $\\hspace{2 cm}$ $|\\partial_{j}\\rangle = \\dfrac{1}{\\sqrt{deg(j)}} \\displaystyle\\sum_{k\\in (j,k)}|k\\rangle$"
   ]
  },
  {
   "cell_type": "markdown",
   "id": "13402319-0d64-4d92-a9e4-0650a268be93",
   "metadata": {},
   "source": [
    "This may seem like a lot to take in, so let's go step by step. First, we note that we are going to use two quantum registers that will both encode the nodes of our graph, as can be told by the tensor product symbol on the first expression. We'll call the first register $|j\\rangle$ and the second one $|k\\rangle$, and they will have **4** qubits each, since we can encode numbers from 0 to 15 in binary with 4 bits. The second thing that we note is that we have a controlled operation: only when the first register is on a specific state $|j\\rangle$ we apply the opperator $2|\\partial_{j}\\rangle\\langle\\partial_{j}| - I$ to the second register. So now, let´s see how we can build this operator."
   ]
  },
  {
   "cell_type": "markdown",
   "id": "583c9e78-9bb0-4cbb-a361-5a4e432f01ad",
   "metadata": {},
   "source": [
    "We start by assuming we have acces to a certain unitary $U_{j}$ that allows us to prepare the $|\\partial_{j}\\rangle$ state, i.e., $U_{j}|0\\rangle = |\\partial_{j}\\rangle$. Then we can write"
   ]
  },
  {
   "cell_type": "markdown",
   "id": "f6656f93-62f9-420c-8bd9-69c54d985d69",
   "metadata": {},
   "source": [
    "$\\hspace{10 cm}$ $2|\\partial_{j}\\rangle\\langle\\partial_{j}| - I = U_{j}(2|0\\rangle\\langle 0| - I)U_{j}^{\\dagger}$"
   ]
  },
  {
   "cell_type": "markdown",
   "id": "e7f3ce96-037f-4bf1-825e-5b61979d6829",
   "metadata": {},
   "source": [
    "This follows the structure $UVU^{\\dagger}$, which we can easily encode in Classiq with the `within_apply` function. And if we evaluate the operator $2|0\\rangle\\langle 0| - I$ on different basis states (where we consider the $|0\\rangle$ state to be the all zeros state), we'll realize that it's the opposite as in Grover's diffusser operator, in the sense that it *marks* every state except the all zeros state. So, this can be easily implemented with\n",
    "the `Phase Kickback` primitive, where we only leave the phase intact if our state is the all zeros state."
   ]
  },
  {
   "cell_type": "markdown",
   "id": "52cd7884-ad97-4f67-8b24-0c0cede3af31",
   "metadata": {},
   "source": [
    "----"
   ]
  },
  {
   "cell_type": "markdown",
   "id": "d232fb68-e861-4ffb-a747-04f329af3391",
   "metadata": {},
   "source": [
    "Putting it all together, we have:\n",
    "1. A summation that can be done with a `for` loop or the `repeat` function from Classiq.\n",
    "2. A controlled operation that can be done with the `control` function from Classiq.\n",
    "3. An operator that can be implemented with the `within_apply` function and the `Phase Kickback` primitive."
   ]
  },
  {
   "cell_type": "markdown",
   "id": "4c6d5387-ed2d-4b28-b8d8-e2826299e043",
   "metadata": {},
   "source": [
    "-----"
   ]
  },
  {
   "cell_type": "markdown",
   "id": "266c5d1e-5e99-4e78-8908-2937f7346fb9",
   "metadata": {},
   "source": [
    "The only ingredient missing is the unitary $U_{j}$, and to understand how to implement it we can look at the desired state $|\\partial_{j}\\rangle$. We notice that we need to take the state of all zeros to a state that is an equal superposition of all nodes connected to node $j$. We can tell this by the\n",
    "summation and the term $1/\\sqrt{deg(j)}$, where $deg(j)$ is just the number of nodes connected to $j$ (for example, if $j=1$ we have $deg(1) = 2$, or if\n",
    "$j = 0$ we have $deg(0) = 1$), as well as by the fact that the summation is over all nodes $k$ that are connected to the node $j$, which is what the term $k\\in(j,k)$ means."
   ]
  },
  {
   "cell_type": "markdown",
   "id": "14f1830f-75ef-4dab-a784-d1fbf76e328e",
   "metadata": {},
   "source": [
    "So, for example, for $j=0$ the only node connected to it is the node $k=0$, so we'll have $|\\partial_{0}\\rangle = |1\\rangle$. <br>\n",
    "On the other hand, for $j=1$ we have two adjacent nodes ($k=0$ and $k=2$), so we'll have $|\\partial_{1}\\rangle = \\dfrac{1}{\\sqrt{2}}(|0\\rangle + |1\\rangle)$."
   ]
  },
  {
   "cell_type": "markdown",
   "id": "03d026e8-a7a5-4613-9ea9-fff5015d75b5",
   "metadata": {},
   "source": [
    "Now we are ready to code this operator"
   ]
  },
  {
   "cell_type": "code",
   "execution_count": 1,
   "id": "7b2998ac-54b8-4cba-bda2-a892beccfc28",
   "metadata": {},
   "outputs": [],
   "source": [
    "# We start by importing everything we need from Classiq´s library\n",
    "from classiq import *\n",
    "\n",
    "size = 4 # We define the size of our registers, which in this case is 4"
   ]
  },
  {
   "cell_type": "code",
   "execution_count": 2,
   "id": "d17cb52d-39c4-4d1a-9e15-ee79c537fda4",
   "metadata": {},
   "outputs": [],
   "source": [
    "@qfunc\n",
    "def prepare_minus(x: QBit): # Function that prepares the |-> state that we'll use for phase kickback\n",
    "  X(x)\n",
    "  H(x)\n",
    "\n",
    "\n",
    "@qfunc\n",
    "def diffuzer_oracle(aux: Output[QNum],x:QNum): \n",
    "  aux^=(x!=0) # If x is different from 0, the statement is true and we do an inplace XOR between aux and 1. Otherwise the statement is false and we leave aux intact \n",
    "\n",
    "\n",
    "@qfunc\n",
    "def zero_diffuzer(x: QNum): # Encoding of the 2|0><0| - I operator\n",
    "  aux = QNum('aux')\n",
    "  allocate(1,aux)\n",
    "  within_apply(compute=lambda: prepare_minus(aux),\n",
    "              action=lambda: diffuzer_oracle) # We use a within_apply to encode the phase kickback, so that way we can uncompute the |-> state once\n",
    "                                                # we no longer need it"
   ]
  },
  {
   "cell_type": "markdown",
   "id": "0bebc5c5-8309-4e29-962d-8898fea9b9d1",
   "metadata": {},
   "source": [
    "Through the notebook we'll use the label `vertices` to refer to the register $|j\\rangle$ and `adjacent_vertices` to refer to the register $|k\\rangle$."
   ]
  },
  {
   "cell_type": "code",
   "execution_count": 3,
   "id": "1b125714-1552-4e62-860a-160a34e1bb3d",
   "metadata": {},
   "outputs": [],
   "source": [
    "def C_iteration(i:int,vertices: QNum, adjacent_vertices:QNum): # One element of the summation in C\n",
    "    prob = [0 for m in range(2**size)] # We start with a state vector with 0s in all entries\n",
    "    if i == 0:\n",
    "        prob[i+1] = 1 # If we are on the 0th node, we can only move to the 1st node\n",
    "    elif i == 2**size -1:\n",
    "        prob[i-1] = 1 # If we are on the last node, we can only move to the previous node\n",
    "    else: # Otherwise we have an equal probability of moving to the previous or the next node\n",
    "        prob[i+1] = 0.5\n",
    "        prob[i-1] = 0.5\n",
    "    \n",
    "    control(ctrl=vertices==i, \n",
    "            operand=lambda: within_apply(\n",
    "              compute= lambda: inplace_prepare_state(probabilities=prob, bound=0.01, target=adjacent_vertices), # Application of U_j\n",
    "              action= lambda: zero_diffuzer(adjacent_vertices))) # Application of the zero diffuser\n",
    "\n",
    "\n",
    "@qfunc \n",
    "def C_operator(vertices:QNum, adjacent_vertices: QNum):\n",
    "    for j in range(2**size): # Finally we do the summation\n",
    "      C_iteration(j,vertices,adjacent_vertices)"
   ]
  },
  {
   "cell_type": "markdown",
   "id": "66a51d9b-293d-42fa-8fef-bc92ce953861",
   "metadata": {},
   "source": [
    "## The $S$ operator"
   ]
  },
  {
   "cell_type": "markdown",
   "id": "754e361e-b0d8-4189-a4cc-e9436c46ba14",
   "metadata": {},
   "source": [
    "The $S$ operator turns out to be simpler and more straightforward than the $C$ operator, and in this case we can define it in a more general sense as"
   ]
  },
  {
   "cell_type": "markdown",
   "id": "b82df32b-abf8-465f-a353-5ce7e73a2777",
   "metadata": {},
   "source": [
    "$\\hspace{11 cm}$ $S = \\displaystyle\\sum_{(j,k)\\in E}|k,j\\rangle\\langle j,k|$"
   ]
  },
  {
   "cell_type": "markdown",
   "id": "6a67e9d7-a845-47ac-96c6-9cc4cdeaa6e5",
   "metadata": {},
   "source": [
    "In this case, we see that $S$ consist of a summation over all pairs of nodes $(j,k)$ that are connected, i.e., all nodes that form an edge ($E$ is the set of all edges). And, the action of $S$ is to swap both registers **only** if they form an edge. For example, the state $|0,1\\rangle$ will be flipped to $|1,0\\rangle$, but the state $|2,10\\rangle$ will be left intact."
   ]
  },
  {
   "cell_type": "markdown",
   "id": "67f78b4a-435c-4ded-958d-df3d81279155",
   "metadata": {},
   "source": [
    "So, we need:\n",
    "1. An oracle that allow us to check if two nodes have an edge between them.\n",
    "2. A bitwise `SWAP` function to swap the order of the nodes. "
   ]
  },
  {
   "cell_type": "markdown",
   "id": "3fe1088e-3972-44bc-bfd8-b9b7eaf72958",
   "metadata": {},
   "source": [
    "In the case of the oracle, we can already tell that nodes form an edge if they are adjacent to each other, so we can easily check this by asking if the\n",
    "difference between two edges is either 1 or -1 (equivalent to asking if the absolute value of their difference is 1)."
   ]
  },
  {
   "cell_type": "code",
   "execution_count": 4,
   "id": "4f6d38ba-2313-437e-88f4-c75ab8456cd1",
   "metadata": {},
   "outputs": [],
   "source": [
    "@qfunc\n",
    "def edge_oracle(res:Output[QBit], vertices: QNum, adjacent_vertices: QNum):\n",
    "  res |= (((vertices - adjacent_vertices) == 1) | ((vertices - adjacent_vertices) == -1)) # If the nodes form an edge, we set the res qubit to state |1>\n",
    "\n",
    "\n",
    "@qfunc \n",
    "def bitwise_swap(x: QArray[QBit], y:QArray[QBit]):\n",
    "  repeat(count= x.len,\n",
    "    iteration= lambda i: SWAP(x[i],y[i]))"
   ]
  },
  {
   "cell_type": "code",
   "execution_count": 5,
   "id": "40cebf94-8908-4b84-a7cb-dcb630dca050",
   "metadata": {},
   "outputs": [],
   "source": [
    "@qfunc \n",
    "def S_operator(vertices:QNum, adjacent_vertices: QNum):\n",
    "    res = QNum('res')\n",
    "    edge_oracle(res,vertices,adjacent_vertices)\n",
    "    control(ctrl= res==1, # If the res qubit is set to state |1>\n",
    "        operand= lambda: bitwise_swap(vertices,adjacent_vertices)) # We perform the bitwise swap"
   ]
  },
  {
   "cell_type": "markdown",
   "id": "b6f63119-f435-443d-8f09-dacb8268c01e",
   "metadata": {},
   "source": [
    "## Putting it all together"
   ]
  },
  {
   "cell_type": "markdown",
   "id": "9a2ebd87-ba48-4b62-93cc-c968086e4308",
   "metadata": {},
   "source": [
    "Finally, we just combine both operators on a single quantum program."
   ]
  },
  {
   "cell_type": "code",
   "execution_count": 6,
   "id": "ff1dd309-3179-487e-92a4-6468351c7201",
   "metadata": {},
   "outputs": [],
   "source": [
    "@qfunc \n",
    "def main(vertices:Output[QNum], adjacent_vertices:Output[QNum]):\n",
    "\n",
    "  allocate(size,vertices) # We create the first register\n",
    "  hadamard_transform(vertices) # We put it in a superposition of all possible edges as a starting point for our walker\n",
    "  allocate(size,adjacent_vertices) # We create the second register\n",
    "\n",
    "  C_operator(vertices,adjacent_vertices) # Applying the C operator\n",
    "  S_operator(vertices,adjacent_vertices) # Applying the S operator"
   ]
  },
  {
   "cell_type": "code",
   "execution_count": 7,
   "id": "bc62e9e1-d920-4b83-af77-9b4dd857e6a3",
   "metadata": {},
   "outputs": [
    {
     "name": "stdout",
     "output_type": "stream",
     "text": [
      "Opening: https://platform.classiq.io/circuit/64db74cc-a2d6-48ed-96ad-483eba4ed8bc?version=0.43.3\n"
     ]
    }
   ],
   "source": [
    "qmod = create_model(main)\n",
    "qprog = synthesize(qmod)\n",
    "show(qprog)"
   ]
  },
  {
   "cell_type": "markdown",
   "id": "cfbd96e0-f111-4c38-8d68-e87fdb608e89",
   "metadata": {},
   "source": [
    "We're going to define a function that'll allow us to extract the width of our synthetized program, as well as the depth of the transpiled circuit, since we cannot extract the depth of the raw circuit. And since the transpiled circuit is a generic transpilation that takes the $U$ and $CX$ gates as the basis, it's only an approximation of the actual depth of our circuit. Depths of transpiled circuits for actual hardware providers will vary."
   ]
  },
  {
   "cell_type": "code",
   "execution_count": 12,
   "id": "0dc42a50-1967-444d-8508-12f5d54756e3",
   "metadata": {},
   "outputs": [],
   "source": [
    "def print_depth_width(quantum_program): # Function to print both the width and the depth of our quantum program\n",
    "    generated_circuit = QuantumProgram.parse_raw(quantum_program)\n",
    "    print(f\"Synthesized circuit width: {generated_circuit.data.width}, depth: {generated_circuit.transpiled_circuit.depth}\")"
   ]
  },
  {
   "cell_type": "code",
   "execution_count": 13,
   "id": "9ff612bd-ea6d-4c49-b113-6c2b14dcbb79",
   "metadata": {},
   "outputs": [
    {
     "name": "stdout",
     "output_type": "stream",
     "text": [
      "Synthesized circuit width: 37, depth: 3154\n"
     ]
    }
   ],
   "source": [
    "print_depth_width(qprog)"
   ]
  },
  {
   "cell_type": "markdown",
   "id": "14dc2163-8999-4c21-aac3-4477d2b3e246",
   "metadata": {},
   "source": [
    "As we can see, the circuit that our evolution operator acts on has 37 qubits and a \"transpiled\" depth of 3154, so we see that it's a quite deep circuit with lots of qubits. But, if we actually look at the circuit on Classiq's IDE we'll see that the depth we are able to extract is actually quite generous compared to the depth of the raw circuit, which is **5326**, as can be seen on the screen shot below."
   ]
  },
  {
   "attachments": {
    "323e5d98-4e41-4ef3-b284-93a676bb8ce9.png": {
     "image/png": "[encoded data removed]"
    }
   },
   "cell_type": "markdown",
   "id": "6cda7cb3-4c8f-4d11-9011-ecd78b833049",
   "metadata": {},
   "source": [
    "![Captura de pantalla 2024-07-24 210246.png](attachment:323e5d98-4e41-4ef3-b284-93a676bb8ce9.png)"
   ]
  },
  {
   "cell_type": "markdown",
   "id": "63e53515-5a21-4b0d-848e-97d904847df4",
   "metadata": {},
   "source": [
    "And since this circuit is so big, we are only going to include screen shots of certain sections of the circuit displayed on Classiq's IDE to be sure that our program looks like we wanted:"
   ]
  },
  {
   "attachments": {
    "c6719114-8236-4c64-95e5-3a9c58fed247.png": {
     "image/png": "[encoded data removed]"
    }
   },
   "cell_type": "markdown",
   "id": "0f116090-000e-46b3-adc1-0bf0d32f4415",
   "metadata": {},
   "source": [
    "![Captura de pantalla 2024-07-24 211726.png](attachment:c6719114-8236-4c64-95e5-3a9c58fed247.png)"
   ]
  },
  {
   "cell_type": "markdown",
   "id": "ee04e938-f79c-4c29-961e-46ecceba945c",
   "metadata": {},
   "source": [
    "We can see from the screen shot that our circuit effectively applies first a hadamard transform over the `vertices` register, and then applies both the $C$ and $S$ operator over the `vertices` and `adjacent_vertices` registers."
   ]
  },
  {
   "attachments": {
    "e8802fb8-4af6-4d4e-8035-6724f93b87f5.png": {
     "image/png": "[encoded data removed]"
    }
   },
   "cell_type": "markdown",
   "id": "d79afa6f-14cb-4ebe-9d39-0b80e1e17cb9",
   "metadata": {},
   "source": [
    "![Captura de pantalla 2024-07-24 212508.png](attachment:e8802fb8-4af6-4d4e-8035-6724f93b87f5.png)"
   ]
  },
  {
   "cell_type": "markdown",
   "id": "8495fe0e-045a-428a-9f8f-3180f84d2ace",
   "metadata": {},
   "source": [
    "Next we see the structure of the $C$ operator above, with two elements of the sum following the `within_apply` structure of the zero diffuser being \"sandwiched\" by the state preparation and its inverse. However, we see something interesting: despite the fact that the three parts of the `within_apply` were controlled by the `vertices` register, the IDE only implemented the zero diffuser as a controlled operation. This is one of the many\n",
    "advantages of Classiq's IDE, which makes our circuit simpler since it has less controlled operations, without needing any special input from the user. And the complexity reduction makes sense: since we are applying the inverse of the state preparation anyways, it doesn't matter if all of them happen for all possible states $|j\\rangle$ because they'll get cancelled anyways."
   ]
  },
  {
   "attachments": {
    "d95e2077-76c8-4da3-966a-9bfad0973a05.png": {
     "image/png": "[encoded data removed]"
    }
   },
   "cell_type": "markdown",
   "id": "0b461c08-6350-4b47-add6-7ac0330b2a08",
   "metadata": {},
   "source": [
    "![Captura de pantalla 2024-07-24 213225.png](attachment:d95e2077-76c8-4da3-966a-9bfad0973a05.png)"
   ]
  },
  {
   "cell_type": "markdown",
   "id": "72ac541f-adda-42d7-a61d-65962d26e7ac",
   "metadata": {},
   "source": [
    "Finally, we have the structure of the $S$ operator, which applies the edge checking oracle followed by the bitwise swap, as expected."
   ]
  }
 ],
 "metadata": {
  "kernelspec": {
   "display_name": "Python 3 (ipykernel)",
   "language": "python",
   "name": "python3"
  },
  "language_info": {
   "codemirror_mode": {
    "name": "ipython",
    "version": 3
   },
   "file_extension": ".py",
   "mimetype": "text/x-python",
   "name": "python",
   "nbconvert_exporter": "python",
   "pygments_lexer": "ipython3",
   "version": "3.10.0"
  }
 },
 "nbformat": 4,
 "nbformat_minor": 5
}
