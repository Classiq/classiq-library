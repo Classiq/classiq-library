{
 "cells": [
  {
   "cell_type": "markdown",
   "metadata": {},
   "source": [
    "# Discrete-time quantum walks\n",
    "\n",
    "This notebook demonstrates the quantum walk for elementary graph configurations. We will explore the quantum walk on a cyclic and a linear graph. You are able to adjust the size of the cyclic and linear graph in this notebook.\n",
    "\n",
    "Author: Hao Mack Yang (modified from the circle quantum walk)\n",
    "\n",
    "## Background\n",
    "\n",
    "A discrete-time random walk on a graph $G$ is a process involving the movement of an agent between various points of the vertex. At each iteration, the agent moves from the current vertex $j$ to a neighboring vertex $k$ with equal probability. The probability distribution is expressed as square vertex $M$ with order the vertex count, defined by\n",
    "\n",
    "$$\n",
    "\\begin{align*}\n",
    "    M[j,k] = \\begin{cases} 1/\\mathrm{outdeg}(j) & \\textrm{if edge exists from $j$ to $k$} \\\\ 0 & \\textrm{else}. \\end{cases}\n",
    "\\end{align*}\n",
    "$$\n",
    "\n",
    "We can initialize this Markov process with any initial probability distribution $\\mathbf{p}$ rather than a particular vertex, where $\\mathbf{p}[j]$ is the probability the agent will start at a particular vertex $j$. If the agent is initially set to start at a particular vertex $j_0$, then $\\mathbf{p}$ is a one-hot vector with unity at the $j_0$ entry.\n",
    "\n",
    "## Implementation\n",
    "\n",
    "The input of the algorithm is simply the graph $G = (V, E)$, where $V$ is the set of vertices numbered from $0$ to $N$, while the edges is the set of unordered pairs of vertices $\\{j, k\\}$ with $j \\in 0..N, k \\in 0..N, j \\neq k$.\n",
    "\n",
    "The discrete-time quantum walk algorithm consists of iteratively applying two steps, namely the coin flip operator $\\hat{C}$ and then the swap operator $\\hat{S}$. Although the operation has a high-level description, each graph requires a tailored approach to implementing the quantum walk operation.\n",
    "\n",
    "The Hilbert space consist of states of the form $|j, k\\rangle$ where $\\{j, k\\} \\in E$. The state $|j, k\\rangle$ represents a walker at vertex $j$ moving towards vertex $k$, so information is encoded in terms of the directed relations between pairs of vertices. This is not a symmetrical relation, so $|k, j\\rangle \\neq |j, k\\rangle$ in general; you will see both in the swap operator."
   ]
  },
  {
   "cell_type": "code",
   "execution_count": 1,
   "metadata": {},
   "outputs": [],
   "source": [
    "# Import necessary hyperparameters\n",
    "from classiq import *\n",
    "from math import ceil, log2, log10\n",
    "from classiq.execution import ExecutionPreferences\n",
    "\n",
    "# Auxiliary libraries for printing and visualization\n",
    "import matplotlib.pyplot as plt\n",
    "import numpy as np\n",
    "import json\n",
    "np.set_printoptions(linewidth=65536)\n",
    "\n",
    "# Specify graph type and size\n",
    "N = 16          # Number of qubits\n",
    "\n",
    "# Specify runtime options\n",
    "SHOTS = 1000000 # Adjust the number of shots to obtain a more accurate result\n",
    "ITERATIONS = 1  # Number of iterations to run the algorithm"
   ]
  },
  {
   "cell_type": "markdown",
   "metadata": {},
   "source": [
    "### Auxiliary functions\n",
    "\n",
    "The diffuzer oracle is applied within preparing the auxiliary qubit to the minus state. This is used to indicate intermediate results. The diffuzer oracle is a phase kickback algorithm which inverts the auxiliary qubit if the target qubit is nonzero. The diffuzer oracle is used in the first step of the quantum walk, the coin flip step gate $C = \\sum_{j \\in V} |j\\rangle \\langle j| \\otimes (2|\\partial_j\\rangle \\langle\\partial_j| - I)$.\n",
    "\n",
    "The edge oracle applies a bitwise OR to the results qubit in the basis if the vertex nums sum to an odd value. A controlled bitwise swap is then used to apply to the current and adjacent vartex, using the result of the edge oracle as the control bit. The vertex and adjacent are $j$ and $k$ respectively for the formula of the swap step gate $S = \\sum_{(j,k) \\in E} |j, k\\rangle \\langle k,j|$."
   ]
  },
  {
   "cell_type": "code",
   "execution_count": 2,
   "metadata": {},
   "outputs": [],
   "source": [
    "def next_power_of_two(n: int) -> int:\n",
    "    \"\"\"Returns the next power of two after or equal to n. This is an ad-hoc implementation.\"\"\"\n",
    "    return 2**ceil(log2(n))\n",
    "\n",
    "_N = next_power_of_two(N)\n",
    "\n",
    "@qfunc\n",
    "def prepare_minus(x: QBit):\n",
    "    X(x)\n",
    "    H(x)\n",
    "\n",
    "@qfunc\n",
    "def diffuzer_oracle(aux: Output[QNum], x: QNum):\n",
    "    aux^=(x!=0)\n",
    "\n",
    "@qfunc\n",
    "def edge_oracle(res: Output[QBit], vertices: QNum, adjacent_vertices: QNum):\n",
    "    isconnected = (vertices+adjacent_vertices)%2\n",
    "    res |= (isconnected == 1)\n",
    "\n",
    "@qfunc \n",
    "def bitwise_swap(x: QArray[QBit], y: QArray[QBit]):\n",
    "    repeat(count= x.len, iteration= lambda i: SWAP(x[i],y[i]))\n",
    "\n",
    "# The rest are just for formatting\n",
    "def _format_string(x: int) -> str:\n",
    "    if x:\n",
    "        return \"%.3f\" % x\n",
    "    else:\n",
    "        return \"%5s\" % \"-\""
   ]
  },
  {
   "cell_type": "markdown",
   "metadata": {},
   "source": [
    "### Connectivity graph and probability\n",
    "\n",
    "The first step of each quantum walk requires determining the connectivity graph, and then converting it into a probability matrix $M$. For a line of $N$ vertices, for the endpoint vertices, the probability is unity for the one neighbor, and for the $n - 2$ intermediate vertices, the probability is half for the two neighboring vertices.\n",
    "\n",
    "Four present types of graphs will generated, without the use of an adjacency list or matrix."
   ]
  },
  {
   "cell_type": "code",
   "execution_count": 3,
   "metadata": {},
   "outputs": [],
   "source": [
    "def pr_vector_linear(i: int, n: int):\n",
    "    \"\"\"Obtain the probability vector of the i-th vertex on the n-th linear graph.\n",
    "    \n",
    "    Examples:\n",
    "        pr_vector_linear(2, 4) = [0, 0.5, 0, 0.5]\n",
    "        pr_vector_linear(0, 5) = [0, 1, 0, 0, 0]\n",
    "        pr_vector_linear(2, 3) = [0, 1, 0]\n",
    "    \"\"\"\n",
    "    prob = [0]*n\n",
    "    if i == 0:\n",
    "        prob[1] = 1\n",
    "    elif i == n - 1:\n",
    "        prob[i - 1] = 1\n",
    "    else:\n",
    "        prob[i - 1] = 0.5\n",
    "        prob[i + 1] = 0.5\n",
    "    return prob\n",
    "\n",
    "def pr_vector_cyclic(i: int, n: int):\n",
    "    \"\"\"Obtain the probability vector of the i-th vertex on the n-th cyclic graph.\n",
    "    \n",
    "    Examples:\n",
    "        pr_vector_cyclic(2, 4) = [0.0, 0.5, 0, 0.5]\n",
    "        pr_vector_cyclic(0, 5) = [0, 0.5, 0, 0, 0.5]\n",
    "        pr_vector_cyclic(2, 3) = [0.5, 0.5, 0]\n",
    "    \"\"\"\n",
    "    prob = [0]*n # AD-HOC: Array must be a power of two\n",
    "    prob[(i+1)% n]=0.5\n",
    "    prob[(i-1)% n]=0.5\n",
    "    return prob\n",
    "\n",
    "def pr_vector_star(i: int, n: int):\n",
    "    \"\"\"Obtain the probability vector of the i-th vertex on the (n-1)-th star graph.\n",
    "    The zeroth vertex is the center of the star.\n",
    "    \n",
    "    Examples:\n",
    "        pr_vector_cyclic(2, 4) = [1, 0, 0, 0]\n",
    "        pr_vector_cyclic(0, 5) = [0, 0.25, 0.25, 0.25, 0.25]\n",
    "        pr_vector_cyclic(2, 3) = [1, 0, 0]\n",
    "    \"\"\"\n",
    "    prob = None # AD-HOC: Array must be a power of two\n",
    "    if i == 0:\n",
    "        return [0] + [1/(n - 1)]*(n - 1)\n",
    "    else:\n",
    "        return [1] + [0]*(n - 1)\n",
    "\n",
    "def pr_vector_complete(i: int, n: int):\n",
    "    \"\"\"Obtain the probability vector of the i-th vertex on the n-th complete graph.\n",
    "    \n",
    "    Examples:\n",
    "        pr_vector_cyclic(2, 4) = [0.33, 0.33, 0, 0.33]\n",
    "        pr_vector_cyclic(0, 5) = [0, 0.25, 0.25, 0.25, 0.25]\n",
    "        pr_vector_cyclic(2, 3) = [0.5, 0.5, 0]\n",
    "    \"\"\"\n",
    "    return [1/(n - 1)]*n\n",
    "\n",
    "# Define the graph type here\n",
    "h = pr_vector_linear"
   ]
  },
  {
   "cell_type": "markdown",
   "metadata": {},
   "source": [
    "### Coin flip operator\n",
    "\n",
    "Using the probability vector, which can easily be obtained as a function and if-statements for linear and cyclic cases, we can use the zero diffuzer to implement the diffuzer oracle required for realizing $|\\partial_j\\rangle\\langle\\partial_j|$. Using this schema for the Hilbert space, there exists a unitary $U_j$ such that $U_j|j\\rangle = |\\partial_j\\rangle$, allowing us to reduce the diffusion into a zero diffusion problem $(2| \\partial_j \\rangle\\langle \\partial_j | - I) = U_j (2| 0 \\rangle\\langle 0 | - I) U_j^{\\dagger}$.\n",
    "\n",
    "As `C_iteration` loops through each vertex, it also outputs the probability vectors. The matrix $M$ will be printed out during the `C_operator`'s runtime."
   ]
  },
  {
   "cell_type": "code",
   "execution_count": 4,
   "metadata": {},
   "outputs": [],
   "source": [
    "@qfunc\n",
    "def zero_diffuzer(x: QNum):\n",
    "    \"\"\"Perform the zero diffuzer. The oracle can simply be implemented in terms of arithmetic in Classiq.\n",
    "    Thus, it can perform the phase kickback using the unitary as a conjugation.\"\"\"\n",
    "    aux = QNum('aux')\n",
    "    allocate(1,aux)\n",
    "    within_apply(within=lambda: prepare_minus(aux),\n",
    "                 apply=lambda: diffuzer_oracle)\n",
    "\n",
    "def C_iteration(j: int, vertices: QNum, adjacent_vertices: QNum):\n",
    "    \"\"\"Perform the C operation for one vector, represented as a controlled zero diffuzer operation\n",
    "    with the vertices as the control, and the adjacent_vertices as the target. The C iteration applies\n",
    "    to all vertices in the graph.\n",
    "    \n",
    "    Please note that internally, the probability vector must have size a power of two. Extra states\n",
    "    are made inaccessible by padding the transition probabilities to nil.\n",
    "    \"\"\"\n",
    "    # This line represents the graph we will use, and will be used as control for the zero diffuzer.\n",
    "    prob = h(j, N) + [0]*(_N - N)\n",
    "    # Should print out the matrix\n",
    "    print('State={1:{0:d}d}, prob vec ={2:s}'.format(ceil(log10(N - 1) + 1), j, np.array2string(np.array(prob), formatter={'float_kind':lambda x: _format_string(x), 'int':lambda x: _format_string(x)})))\n",
    "    \n",
    "    control(ctrl = vertices==j, \n",
    "            stmt_block = lambda: within_apply(\n",
    "                within = lambda: inplace_prepare_state(probabilities=prob, \n",
    "                                                       bound=0.01, \n",
    "                                                       target=adjacent_vertices),\n",
    "                apply  = lambda: zero_diffuzer(adjacent_vertices)))\n",
    "\n",
    "@qfunc \n",
    "def C_operator(vertices: QNum, adjacent_vertices: QNum):\n",
    "    \"\"\"Classiq qfunc for applying the C iteration to each vertex.\n",
    "    Extraneous states from remainders after rounding up to nearest power of two \n",
    "    will not get C_iterations.\"\"\"\n",
    "    for i in range(N):\n",
    "        C_iteration(i, vertices, adjacent_vertices)"
   ]
  },
  {
   "cell_type": "markdown",
   "metadata": {},
   "source": [
    "### Swap operator\n",
    "\n",
    "The second step of the quantum walk function is to perform the swap operator. The swap operator is simply the normalized sum of all operators of connected vertices $|j,k \\rangle \\langle k,j|$. Notice that $|j,k \\rangle \\neq \\langle k,j|$ in general."
   ]
  },
  {
   "cell_type": "code",
   "execution_count": 5,
   "metadata": {},
   "outputs": [],
   "source": [
    "@qfunc \n",
    "def S_operator(vertices:QNum, adjacent_vertices: QNum):\n",
    "    \"\"\"Classiq qfunc for performing the bitwise swap between this vertex and the neighboring vertex,\n",
    "    provided that the two vertices are connected.\"\"\"\n",
    "    res = QNum('res')\n",
    "    edge_oracle(res, vertices, adjacent_vertices)\n",
    "    control(ctrl = res == 1,\n",
    "            stmt_block = lambda: bitwise_swap(vertices, adjacent_vertices))"
   ]
  },
  {
   "cell_type": "markdown",
   "metadata": {},
   "source": [
    "## Driver code\n",
    "\n",
    "We run that many iterations of the quantum walk algorithm, starting with the equal superposition state."
   ]
  },
  {
   "cell_type": "code",
   "execution_count": 6,
   "metadata": {},
   "outputs": [],
   "source": [
    "_SIZE = int(ceil(log2(N)))\n",
    "\n",
    "@qfunc \n",
    "def main(vertices:Output[QNum], adjacent_vertices:Output[QNum]):\n",
    "    # Allocate two sets of vertices as qubits. \n",
    "    allocate(_SIZE, vertices)\n",
    "    allocate(_SIZE, adjacent_vertices)\n",
    "    hadamard_transform(vertices) # Still only fully works for powers of two, we can discard extras\n",
    "    print(\"Allocated two sets of %d qubits for a %d vertex graph.\" % (_SIZE, N))\n",
    "\n",
    "    # Perform quantum step iteration\n",
    "    for k in range(ITERATIONS):\n",
    "        print(\"Running iteration %d…\" % (k + 1))\n",
    "        C_operator(vertices,adjacent_vertices)\n",
    "        S_operator(vertices,adjacent_vertices)\n",
    "    \n",
    "    print(\"Finished running quantum walk.\")"
   ]
  },
  {
   "cell_type": "markdown",
   "metadata": {},
   "source": [
    "Finally, we create the model, set the constraints (for simulator compatibility) and set the execution preferences. Please note some simulators are limited to very small qubit counts, meaning the depth can be great for such a limited number of auxiliary qubits. Already at 17 - 32 vertices we need to have 43 qubits to implement!\n",
    "\n",
    "Please note the synthesis step may take a long time with both high width and depth count, and the visualization may fail. We will save a Qasm version of the circuit."
   ]
  },
  {
   "cell_type": "code",
   "execution_count": 7,
   "metadata": {},
   "outputs": [
    {
     "name": "stdout",
     "output_type": "stream",
     "text": [
      "Creating and optimizing model…\n",
      "Allocated two sets of 4 qubits for a 16 vertex graph.\n",
      "Running iteration 1…\n",
      "State=  0, prob vec =[    - 1.000     -     -     -     -     -     -     -     -     -     -     -     -     -     -]\n",
      "State=  1, prob vec =[0.500     - 0.500     -     -     -     -     -     -     -     -     -     -     -     -     -]\n",
      "State=  2, prob vec =[    - 0.500     - 0.500     -     -     -     -     -     -     -     -     -     -     -     -]\n",
      "State=  3, prob vec =[    -     - 0.500     - 0.500     -     -     -     -     -     -     -     -     -     -     -]\n",
      "State=  4, prob vec =[    -     -     - 0.500     - 0.500     -     -     -     -     -     -     -     -     -     -]\n",
      "State=  5, prob vec =[    -     -     -     - 0.500     - 0.500     -     -     -     -     -     -     -     -     -]\n",
      "State=  6, prob vec =[    -     -     -     -     - 0.500     - 0.500     -     -     -     -     -     -     -     -]\n",
      "State=  7, prob vec =[    -     -     -     -     -     - 0.500     - 0.500     -     -     -     -     -     -     -]\n",
      "State=  8, prob vec =[    -     -     -     -     -     -     - 0.500     - 0.500     -     -     -     -     -     -]\n",
      "State=  9, prob vec =[    -     -     -     -     -     -     -     - 0.500     - 0.500     -     -     -     -     -]\n",
      "State= 10, prob vec =[    -     -     -     -     -     -     -     -     - 0.500     - 0.500     -     -     -     -]\n",
      "State= 11, prob vec =[    -     -     -     -     -     -     -     -     -     - 0.500     - 0.500     -     -     -]\n",
      "State= 12, prob vec =[    -     -     -     -     -     -     -     -     -     -     - 0.500     - 0.500     -     -]\n",
      "State= 13, prob vec =[    -     -     -     -     -     -     -     -     -     -     -     - 0.500     - 0.500     -]\n",
      "State= 14, prob vec =[    -     -     -     -     -     -     -     -     -     -     -     -     - 0.500     - 0.500]\n",
      "State= 15, prob vec =[    -     -     -     -     -     -     -     -     -     -     -     -     -     - 1.000     -]\n",
      "Finished running quantum walk.\n",
      "Synthesizing model…\n"
     ]
    }
   ],
   "source": [
    "_QUBIT_LIMIT = 100\n",
    "\n",
    "# Create and optimize model\n",
    "print(\"Creating and optimizing model…\")\n",
    "qmod = create_model(main)\n",
    "qmod = set_constraints(qmod, Constraints(optimization_parameter=\"depth\", max_width=_QUBIT_LIMIT))\n",
    "\n",
    "qmod = set_execution_preferences(qmod, \n",
    "           ExecutionPreferences(num_shots=SHOTS, \n",
    "                                job_name=\"quantumwalk_L{0:d}\".format(N),\n",
    "                                #transpile_to_hardware='intensive'\n",
    "                               ))\n",
    "\n",
    "qmod = set_preferences(qmod, Preferences(output_format=[\"qasm\"], timeout_seconds=65536))\n",
    "\n",
    "# Synthesize model\n",
    "print(\"Synthesizing model…\")\n",
    "qprog = synthesize(qmod)"
   ]
  },
  {
   "cell_type": "code",
   "execution_count": 8,
   "metadata": {},
   "outputs": [
    {
     "name": "stdout",
     "output_type": "stream",
     "text": [
      "Width: 100\n",
      "Depth: 1886\n",
      "Count: {'u': 1911, 'cx': 1699}\n",
      "Opening: https://platform.classiq.io/circuit/d6ad1bb6-fdf9-4912-9d4e-3d1cc97f9a7a?version=0.46.0\n"
     ]
    }
   ],
   "source": [
    "circuit = QuantumProgram.from_qprog(qprog)\n",
    "print(\"Width: %d\" % circuit.data.width)\n",
    "print(\"Depth: %d\" % circuit.transpiled_circuit.depth)\n",
    "print(\"Count: %s\" % str(circuit.transpiled_circuit.count_ops))\n",
    "\n",
    "# Show and save program\n",
    "f = open(\"haomackyang_lee_hw4_%d-%d.qasm\" % (N, ITERATIONS), \"w\")\n",
    "f.write(json.loads(qprog).get(\"outputs\").get(\"qasm\"))\n",
    "f.close()\n",
    "show(qprog)"
   ]
  },
  {
   "cell_type": "markdown",
   "metadata": {},
   "source": [
    "### Running the code\n",
    "\n",
    "Finally, we execute the code on the simulator. The printout is a list of all measured visiting states; either the `vertices` or `adjacent_vertices` are nonzero, if the destination is nonzero."
   ]
  },
  {
   "cell_type": "code",
   "execution_count": 9,
   "metadata": {},
   "outputs": [
    {
     "ename": "ClassiqAPIError",
     "evalue": "Call to API failed with code 400: Requested program requires too many qubits.\nRequested qubits: 100, backend: simulator, limit: 25.\nPlease run a different program or try a different backend.\n\nIf you need further assistance, please reach out on our Community Slack channel at: https://short.classiq.io/join-slack",
     "output_type": "error",
     "traceback": [
      "\u001b[0;31m---------------------------------------------------------------------------\u001b[0m",
      "\u001b[0;31mClassiqAPIError\u001b[0m                           Traceback (most recent call last)",
      "Cell \u001b[0;32mIn[9], line 2\u001b[0m\n\u001b[1;32m      1\u001b[0m \u001b[38;5;66;03m# Run the model. Note the job will throw an exception if the number of qubits exceeds the limit of 25.\u001b[39;00m\n\u001b[0;32m----> 2\u001b[0m job \u001b[38;5;241m=\u001b[39m \u001b[43mexecute\u001b[49m\u001b[43m(\u001b[49m\u001b[43mqprog\u001b[49m\u001b[43m)\u001b[49m\n\u001b[1;32m      3\u001b[0m results \u001b[38;5;241m=\u001b[39m job\u001b[38;5;241m.\u001b[39mresult()[\u001b[38;5;241m0\u001b[39m]\u001b[38;5;241m.\u001b[39mvalue\u001b[38;5;241m.\u001b[39mparsed_counts\n\u001b[1;32m      5\u001b[0m \u001b[38;5;66;03m# Print out and graph results\u001b[39;00m\n",
      "File \u001b[0;32m~/miniconda3/envs/classiq/lib/python3.11/site-packages/classiq/executor.py:51\u001b[0m, in \u001b[0;36mexecute\u001b[0;34m(quantum_program)\u001b[0m\n\u001b[1;32m     39\u001b[0m \u001b[38;5;28;01mdef\u001b[39;00m \u001b[38;5;21mexecute\u001b[39m(quantum_program: SerializedQuantumProgram) \u001b[38;5;241m-\u001b[39m\u001b[38;5;241m>\u001b[39m ExecutionJob:\n\u001b[1;32m     40\u001b[0m \u001b[38;5;250m    \u001b[39m\u001b[38;5;124;03m\"\"\"\u001b[39;00m\n\u001b[1;32m     41\u001b[0m \u001b[38;5;124;03m    Execute a quantum program. The preferences for execution are set on the quantum program using the method `set_execution_preferences`.\u001b[39;00m\n\u001b[1;32m     42\u001b[0m \n\u001b[0;32m   (...)\u001b[0m\n\u001b[1;32m     49\u001b[0m \u001b[38;5;124;03m    For examples please see [Execution Documentation](https://docs.classiq.io/latest/reference-manual/executor/)\u001b[39;00m\n\u001b[1;32m     50\u001b[0m \u001b[38;5;124;03m    \"\"\"\u001b[39;00m\n\u001b[0;32m---> 51\u001b[0m     \u001b[38;5;28;01mreturn\u001b[39;00m \u001b[43masync_utils\u001b[49m\u001b[38;5;241;43m.\u001b[39;49m\u001b[43mrun\u001b[49m\u001b[43m(\u001b[49m\u001b[43mexecute_async\u001b[49m\u001b[43m(\u001b[49m\u001b[43mquantum_program\u001b[49m\u001b[43m)\u001b[49m\u001b[43m)\u001b[49m\n",
      "File \u001b[0;32m~/miniconda3/envs/classiq/lib/python3.11/site-packages/classiq/_internals/async_utils.py:39\u001b[0m, in \u001b[0;36mrun\u001b[0;34m(coro)\u001b[0m\n\u001b[1;32m     34\u001b[0m \u001b[38;5;28;01mdef\u001b[39;00m \u001b[38;5;21mrun\u001b[39m(coro: Awaitable[T]) \u001b[38;5;241m-\u001b[39m\u001b[38;5;241m>\u001b[39m T:\n\u001b[1;32m     35\u001b[0m     \u001b[38;5;66;03m# Use this function instead of asyncio.run, since it ALWAYS\u001b[39;00m\n\u001b[1;32m     36\u001b[0m     \u001b[38;5;66;03m# creates a new event loop and clears the thread event loop.\u001b[39;00m\n\u001b[1;32m     37\u001b[0m     \u001b[38;5;66;03m# Never use asyncio.run in library code.\u001b[39;00m\n\u001b[1;32m     38\u001b[0m     loop \u001b[38;5;241m=\u001b[39m get_event_loop()\n\u001b[0;32m---> 39\u001b[0m     \u001b[38;5;28;01mreturn\u001b[39;00m \u001b[43mloop\u001b[49m\u001b[38;5;241;43m.\u001b[39;49m\u001b[43mrun_until_complete\u001b[49m\u001b[43m(\u001b[49m\u001b[43mcoro\u001b[49m\u001b[43m)\u001b[49m\n",
      "File \u001b[0;32m~/miniconda3/envs/classiq/lib/python3.11/site-packages/nest_asyncio.py:98\u001b[0m, in \u001b[0;36m_patch_loop.<locals>.run_until_complete\u001b[0;34m(self, future)\u001b[0m\n\u001b[1;32m     95\u001b[0m \u001b[38;5;28;01mif\u001b[39;00m \u001b[38;5;129;01mnot\u001b[39;00m f\u001b[38;5;241m.\u001b[39mdone():\n\u001b[1;32m     96\u001b[0m     \u001b[38;5;28;01mraise\u001b[39;00m \u001b[38;5;167;01mRuntimeError\u001b[39;00m(\n\u001b[1;32m     97\u001b[0m         \u001b[38;5;124m'\u001b[39m\u001b[38;5;124mEvent loop stopped before Future completed.\u001b[39m\u001b[38;5;124m'\u001b[39m)\n\u001b[0;32m---> 98\u001b[0m \u001b[38;5;28;01mreturn\u001b[39;00m \u001b[43mf\u001b[49m\u001b[38;5;241;43m.\u001b[39;49m\u001b[43mresult\u001b[49m\u001b[43m(\u001b[49m\u001b[43m)\u001b[49m\n",
      "File \u001b[0;32m~/miniconda3/envs/classiq/lib/python3.11/asyncio/futures.py:203\u001b[0m, in \u001b[0;36mFuture.result\u001b[0;34m(self)\u001b[0m\n\u001b[1;32m    201\u001b[0m \u001b[38;5;28mself\u001b[39m\u001b[38;5;241m.\u001b[39m__log_traceback \u001b[38;5;241m=\u001b[39m \u001b[38;5;28;01mFalse\u001b[39;00m\n\u001b[1;32m    202\u001b[0m \u001b[38;5;28;01mif\u001b[39;00m \u001b[38;5;28mself\u001b[39m\u001b[38;5;241m.\u001b[39m_exception \u001b[38;5;129;01mis\u001b[39;00m \u001b[38;5;129;01mnot\u001b[39;00m \u001b[38;5;28;01mNone\u001b[39;00m:\n\u001b[0;32m--> 203\u001b[0m     \u001b[38;5;28;01mraise\u001b[39;00m \u001b[38;5;28mself\u001b[39m\u001b[38;5;241m.\u001b[39m_exception\u001b[38;5;241m.\u001b[39mwith_traceback(\u001b[38;5;28mself\u001b[39m\u001b[38;5;241m.\u001b[39m_exception_tb)\n\u001b[1;32m    204\u001b[0m \u001b[38;5;28;01mreturn\u001b[39;00m \u001b[38;5;28mself\u001b[39m\u001b[38;5;241m.\u001b[39m_result\n",
      "File \u001b[0;32m~/miniconda3/envs/classiq/lib/python3.11/asyncio/tasks.py:277\u001b[0m, in \u001b[0;36mTask.__step\u001b[0;34m(***failed resolving arguments***)\u001b[0m\n\u001b[1;32m    273\u001b[0m \u001b[38;5;28;01mtry\u001b[39;00m:\n\u001b[1;32m    274\u001b[0m     \u001b[38;5;28;01mif\u001b[39;00m exc \u001b[38;5;129;01mis\u001b[39;00m \u001b[38;5;28;01mNone\u001b[39;00m:\n\u001b[1;32m    275\u001b[0m         \u001b[38;5;66;03m# We use the `send` method directly, because coroutines\u001b[39;00m\n\u001b[1;32m    276\u001b[0m         \u001b[38;5;66;03m# don't have `__iter__` and `__next__` methods.\u001b[39;00m\n\u001b[0;32m--> 277\u001b[0m         result \u001b[38;5;241m=\u001b[39m coro\u001b[38;5;241m.\u001b[39msend(\u001b[38;5;28;01mNone\u001b[39;00m)\n\u001b[1;32m    278\u001b[0m     \u001b[38;5;28;01melse\u001b[39;00m:\n\u001b[1;32m    279\u001b[0m         result \u001b[38;5;241m=\u001b[39m coro\u001b[38;5;241m.\u001b[39mthrow(exc)\n",
      "File \u001b[0;32m~/miniconda3/envs/classiq/lib/python3.11/site-packages/classiq/executor.py:35\u001b[0m, in \u001b[0;36mexecute_async\u001b[0;34m(quantum_program)\u001b[0m\n\u001b[1;32m     33\u001b[0m \u001b[38;5;28;01masync\u001b[39;00m \u001b[38;5;28;01mdef\u001b[39;00m \u001b[38;5;21mexecute_async\u001b[39m(quantum_program: SerializedQuantumProgram) \u001b[38;5;241m-\u001b[39m\u001b[38;5;241m>\u001b[39m ExecutionJob:\n\u001b[1;32m     34\u001b[0m     circuit \u001b[38;5;241m=\u001b[39m _parse_serialized_qprog(quantum_program)\n\u001b[0;32m---> 35\u001b[0m     result \u001b[38;5;241m=\u001b[39m \u001b[38;5;28;01mawait\u001b[39;00m ApiWrapper\u001b[38;5;241m.\u001b[39mcall_execute_generated_circuit(circuit)\n\u001b[1;32m     36\u001b[0m     \u001b[38;5;28;01mreturn\u001b[39;00m ExecutionJob(details\u001b[38;5;241m=\u001b[39mresult)\n",
      "File \u001b[0;32m~/miniconda3/envs/classiq/lib/python3.11/site-packages/classiq/_internals/api_wrapper.py:117\u001b[0m, in \u001b[0;36mApiWrapper.call_execute_generated_circuit\u001b[0;34m(cls, circuit)\u001b[0m\n\u001b[1;32m    108\u001b[0m execution_input \u001b[38;5;241m=\u001b[39m \u001b[38;5;28;01mawait\u001b[39;00m \u001b[38;5;28mcls\u001b[39m\u001b[38;5;241m.\u001b[39m_call_task_pydantic(\n\u001b[1;32m    109\u001b[0m     http_method\u001b[38;5;241m=\u001b[39mHTTPMethod\u001b[38;5;241m.\u001b[39mPOST,\n\u001b[1;32m    110\u001b[0m     url\u001b[38;5;241m=\u001b[39mroutes\u001b[38;5;241m.\u001b[39mCONVERSION_GENERATED_CIRCUIT_TO_EXECUTION_INPUT_FULL,\n\u001b[1;32m    111\u001b[0m     model\u001b[38;5;241m=\u001b[39mcircuit,\n\u001b[1;32m    112\u001b[0m )\n\u001b[1;32m    113\u001b[0m headers \u001b[38;5;241m=\u001b[39m {\n\u001b[1;32m    114\u001b[0m     _ACCEPT_HEADER: \u001b[38;5;124m\"\u001b[39m\u001b[38;5;124mv1\u001b[39m\u001b[38;5;124m\"\u001b[39m,\n\u001b[1;32m    115\u001b[0m     _CONTENT_TYPE_HEADER: execution_input[\u001b[38;5;124m\"\u001b[39m\u001b[38;5;124mversion\u001b[39m\u001b[38;5;124m\"\u001b[39m],\n\u001b[1;32m    116\u001b[0m }\n\u001b[0;32m--> 117\u001b[0m data \u001b[38;5;241m=\u001b[39m \u001b[38;5;28;01mawait\u001b[39;00m \u001b[38;5;28mcls\u001b[39m\u001b[38;5;241m.\u001b[39m_call_task(\n\u001b[1;32m    118\u001b[0m     http_method\u001b[38;5;241m=\u001b[39mHTTPMethod\u001b[38;5;241m.\u001b[39mPOST,\n\u001b[1;32m    119\u001b[0m     headers\u001b[38;5;241m=\u001b[39mheaders,\n\u001b[1;32m    120\u001b[0m     url\u001b[38;5;241m=\u001b[39mroutes\u001b[38;5;241m.\u001b[39mEXECUTION_JOBS_NON_VERSIONED_FULL_PATH,\n\u001b[1;32m    121\u001b[0m     body\u001b[38;5;241m=\u001b[39mexecution_input,\n\u001b[1;32m    122\u001b[0m     use_versioned_url\u001b[38;5;241m=\u001b[39m\u001b[38;5;28;01mFalse\u001b[39;00m,\n\u001b[1;32m    123\u001b[0m )\n\u001b[1;32m    124\u001b[0m \u001b[38;5;28;01mreturn\u001b[39;00m execution_request\u001b[38;5;241m.\u001b[39mExecutionJobDetails\u001b[38;5;241m.\u001b[39mparse_obj(data)\n",
      "File \u001b[0;32m~/miniconda3/envs/classiq/lib/python3.11/site-packages/classiq/_internals/api_wrapper.py:84\u001b[0m, in \u001b[0;36mApiWrapper._call_task\u001b[0;34m(cls, http_method, url, body, params, use_versioned_url, headers)\u001b[0m\n\u001b[1;32m     74\u001b[0m \u001b[38;5;129m@classmethod\u001b[39m\n\u001b[1;32m     75\u001b[0m \u001b[38;5;28;01masync\u001b[39;00m \u001b[38;5;28;01mdef\u001b[39;00m \u001b[38;5;21m_call_task\u001b[39m(\n\u001b[1;32m     76\u001b[0m     \u001b[38;5;28mcls\u001b[39m,\n\u001b[0;32m   (...)\u001b[0m\n\u001b[1;32m     82\u001b[0m     headers: Optional[Dict[\u001b[38;5;28mstr\u001b[39m, \u001b[38;5;28mstr\u001b[39m]] \u001b[38;5;241m=\u001b[39m \u001b[38;5;28;01mNone\u001b[39;00m,\n\u001b[1;32m     83\u001b[0m ) \u001b[38;5;241m-\u001b[39m\u001b[38;5;241m>\u001b[39m \u001b[38;5;28mdict\u001b[39m:\n\u001b[0;32m---> 84\u001b[0m     res \u001b[38;5;241m=\u001b[39m \u001b[38;5;28;01mawait\u001b[39;00m client()\u001b[38;5;241m.\u001b[39mcall_api(\n\u001b[1;32m     85\u001b[0m         http_method\u001b[38;5;241m=\u001b[39mhttp_method,\n\u001b[1;32m     86\u001b[0m         url\u001b[38;5;241m=\u001b[39murl,\n\u001b[1;32m     87\u001b[0m         body\u001b[38;5;241m=\u001b[39mbody,\n\u001b[1;32m     88\u001b[0m         headers\u001b[38;5;241m=\u001b[39mheaders,\n\u001b[1;32m     89\u001b[0m         params\u001b[38;5;241m=\u001b[39mparams,\n\u001b[1;32m     90\u001b[0m         use_versioned_url\u001b[38;5;241m=\u001b[39muse_versioned_url,\n\u001b[1;32m     91\u001b[0m     )\n\u001b[1;32m     92\u001b[0m     \u001b[38;5;28;01mif\u001b[39;00m \u001b[38;5;129;01mnot\u001b[39;00m \u001b[38;5;28misinstance\u001b[39m(res, \u001b[38;5;28mdict\u001b[39m):\n\u001b[1;32m     93\u001b[0m         \u001b[38;5;28;01mraise\u001b[39;00m ClassiqValueError(\u001b[38;5;124mf\u001b[39m\u001b[38;5;124m\"\u001b[39m\u001b[38;5;124mUnexpected returned value: \u001b[39m\u001b[38;5;132;01m{\u001b[39;00mres\u001b[38;5;132;01m}\u001b[39;00m\u001b[38;5;124m\"\u001b[39m)\n",
      "File \u001b[0;32m~/miniconda3/envs/classiq/lib/python3.11/site-packages/classiq/_internals/client.py:114\u001b[0m, in \u001b[0;36mtry_again_on_failure.<locals>.wrapper\u001b[0;34m(*args, **kwargs)\u001b[0m\n\u001b[1;32m    112\u001b[0m \u001b[38;5;28;01mfor\u001b[39;00m i \u001b[38;5;129;01min\u001b[39;00m \u001b[38;5;28mrange\u001b[39m(_RETRY_COUNT):\n\u001b[1;32m    113\u001b[0m     \u001b[38;5;28;01mtry\u001b[39;00m:\n\u001b[0;32m--> 114\u001b[0m         \u001b[38;5;28;01mreturn\u001b[39;00m \u001b[38;5;28;01mawait\u001b[39;00m func(\u001b[38;5;241m*\u001b[39margs, \u001b[38;5;241m*\u001b[39m\u001b[38;5;241m*\u001b[39mkwargs)\n\u001b[1;32m    115\u001b[0m     \u001b[38;5;28;01mexcept\u001b[39;00m ClassiqExpiredTokenError:\n\u001b[1;32m    116\u001b[0m         _logger\u001b[38;5;241m.\u001b[39minfo(\n\u001b[1;32m    117\u001b[0m             \u001b[38;5;124m\"\u001b[39m\u001b[38;5;124mToken expired when trying to \u001b[39m\u001b[38;5;132;01m%s\u001b[39;00m\u001b[38;5;124m with args \u001b[39m\u001b[38;5;132;01m%s\u001b[39;00m\u001b[38;5;124m \u001b[39m\u001b[38;5;132;01m%s\u001b[39;00m\u001b[38;5;124m\"\u001b[39m,\n\u001b[1;32m    118\u001b[0m             func,\n\u001b[0;32m   (...)\u001b[0m\n\u001b[1;32m    121\u001b[0m             exc_info\u001b[38;5;241m=\u001b[39m\u001b[38;5;28;01mTrue\u001b[39;00m,\n\u001b[1;32m    122\u001b[0m         )\n",
      "File \u001b[0;32m~/miniconda3/envs/classiq/lib/python3.11/site-packages/classiq/_internals/client.py:235\u001b[0m, in \u001b[0;36mClient.call_api\u001b[0;34m(self, http_method, url, body, params, use_versioned_url, headers)\u001b[0m\n\u001b[1;32m    227\u001b[0m \u001b[38;5;28;01masync\u001b[39;00m \u001b[38;5;28;01mwith\u001b[39;00m \u001b[38;5;28mself\u001b[39m\u001b[38;5;241m.\u001b[39masync_client() \u001b[38;5;28;01mas\u001b[39;00m async_client:\n\u001b[1;32m    228\u001b[0m     response \u001b[38;5;241m=\u001b[39m \u001b[38;5;28;01mawait\u001b[39;00m async_client\u001b[38;5;241m.\u001b[39mrequest(\n\u001b[1;32m    229\u001b[0m         method\u001b[38;5;241m=\u001b[39mhttp_method,\n\u001b[1;32m    230\u001b[0m         url\u001b[38;5;241m=\u001b[39murl,\n\u001b[0;32m   (...)\u001b[0m\n\u001b[1;32m    233\u001b[0m         headers\u001b[38;5;241m=\u001b[39mheaders,\n\u001b[1;32m    234\u001b[0m     )\n\u001b[0;32m--> 235\u001b[0m     \u001b[38;5;28;43mself\u001b[39;49m\u001b[38;5;241;43m.\u001b[39;49m\u001b[43mhandle_response\u001b[49m\u001b[43m(\u001b[49m\u001b[43mresponse\u001b[49m\u001b[43m)\u001b[49m\n\u001b[1;32m    236\u001b[0m     \u001b[38;5;28;01mreturn\u001b[39;00m response\u001b[38;5;241m.\u001b[39mjson()\n",
      "File \u001b[0;32m~/miniconda3/envs/classiq/lib/python3.11/site-packages/classiq/_internals/client.py:187\u001b[0m, in \u001b[0;36mClient.handle_response\u001b[0;34m(self, response)\u001b[0m\n\u001b[1;32m    185\u001b[0m \u001b[38;5;28mself\u001b[39m\u001b[38;5;241m.\u001b[39m_handle_warnings(response)\n\u001b[1;32m    186\u001b[0m \u001b[38;5;28;01mif\u001b[39;00m response\u001b[38;5;241m.\u001b[39mis_error:\n\u001b[0;32m--> 187\u001b[0m     \u001b[38;5;28;43mself\u001b[39;49m\u001b[38;5;241;43m.\u001b[39;49m\u001b[43m_handle_error\u001b[49m\u001b[43m(\u001b[49m\u001b[43mresponse\u001b[49m\u001b[43m)\u001b[49m\n\u001b[1;32m    188\u001b[0m \u001b[38;5;28mself\u001b[39m\u001b[38;5;241m.\u001b[39m_handle_success(response)\n",
      "File \u001b[0;32m~/miniconda3/envs/classiq/lib/python3.11/site-packages/classiq/_internals/client.py:206\u001b[0m, in \u001b[0;36mClient._handle_error\u001b[0;34m(response)\u001b[0m\n\u001b[1;32m    204\u001b[0m \u001b[38;5;28;01mexcept\u001b[39;00m \u001b[38;5;167;01mException\u001b[39;00m:  \u001b[38;5;66;03m# noqa: S110\u001b[39;00m\n\u001b[1;32m    205\u001b[0m     \u001b[38;5;28;01mpass\u001b[39;00m\n\u001b[0;32m--> 206\u001b[0m \u001b[38;5;28;01mraise\u001b[39;00m ClassiqAPIError(message)\n",
      "\u001b[0;31mClassiqAPIError\u001b[0m: Call to API failed with code 400: Requested program requires too many qubits.\nRequested qubits: 100, backend: simulator, limit: 25.\nPlease run a different program or try a different backend.\n\nIf you need further assistance, please reach out on our Community Slack channel at: https://short.classiq.io/join-slack"
     ]
    }
   ],
   "source": [
    "# Run the model. Note the job will throw an exception if the number of qubits exceeds the limit of 25.\n",
    "job = execute(qprog)\n",
    "results = job.result()[0].value.parsed_counts\n",
    "\n",
    "# Print out and graph results\n",
    "frequency = [0]*_N\n",
    "for sampledstate in results:\n",
    "    print(sampledstate)\n",
    "    dest = int(max(sampledstate.state['vertices'], sampledstate.state['adjacent_vertices']))\n",
    "    frequency[dest] = sampledstate.shots"
   ]
  },
  {
   "cell_type": "markdown",
   "metadata": {},
   "source": [
    "# Discussion\n",
    "\n",
    "Consistent to our expectations, for any starting vertex, after performing many random walk steps on a linear graph, we expect that the agent is equally likely to be at any other vertex except a slightly higher value for the second and second last vertex."
   ]
  },
  {
   "cell_type": "code",
   "execution_count": null,
   "metadata": {},
   "outputs": [],
   "source": [
    "# Graph out results\n",
    "plt.title(\"Random walk results for a %d-vertex graph from uniform superposition\" % N)\n",
    "plt.xlabel(\"Destination\")\n",
    "plt.ylabel(\"Frequency\")\n",
    "plt.plot(np.linspace(0, _N-1, _N), frequency)"
   ]
  },
  {
   "cell_type": "markdown",
   "metadata": {},
   "source": [
    "```markdown\n",
    "Made with <3 with GitHub Copilot\n",
    "```"
   ]
  }
 ],
 "metadata": {
  "kernelspec": {
   "display_name": "classiq",
   "language": "python",
   "name": "python3"
  },
  "language_info": {
   "codemirror_mode": {
    "name": "ipython",
    "version": 3
   },
   "file_extension": ".py",
   "mimetype": "text/x-python",
   "name": "python",
   "nbconvert_exporter": "python",
   "pygments_lexer": "ipython3",
   "version": "3.11.9"
  }
 },
 "nbformat": 4,
 "nbformat_minor": 2
}
