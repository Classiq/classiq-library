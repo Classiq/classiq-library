{
 "cells": [
  {
   "cell_type": "markdown",
   "metadata": {},
   "source": [
    "# Discrete-time quantum walks\n",
    "\n",
    "This notebook demonstrates the quantum walk for elementary graph configurations. We will explore the quantum walk on a cyclic and a linear graph. You are able to adjust the size of the cyclic and linear graph in this notebook.\n",
    "\n",
    "Author: Hao Mack Yang (modified from the circle quantum walk)\n",
    "\n",
    "## Background\n",
    "\n",
    "A discrete-time random walk on a graph $G$ is a process involving the movement of an agent between various points of the vertex. At each iteration, the agent moves from the current vertex $j$ to a neighboring vertex $k$ with equal probability. The probability distribution is expressed as square vertex $M$ with order the vertex count, defined by\n",
    "\n",
    "$$\n",
    "\\begin{align*}\n",
    "    M[j,k] = \\begin{cases} 1/\\mathrm{outdeg}(j) & \\textrm{if edge exists from $j$ to $k$} \\\\ 0 & \\textrm{else}. \\end{cases}\n",
    "\\end{align*}\n",
    "$$\n",
    "\n",
    "We can initialize this Markov process with any initial probability distribution $\\mathbf{p}$ rather than a particular vertex, where $\\mathbf{p}[j]$ is the probability the agent will start at a particular vertex $j$. If the agent is initially set to start at a particular vertex $j_0$, then $\\mathbf{p}$ is a one-hot vector with unity at the $j_0$ entry.\n",
    "\n",
    "## Implementation\n",
    "\n",
    "The input of the algorithm is simply the graph $G = (V, E)$, where $V$ is the set of vertices numbered from $0$ to $N$, while the edges is the set of unordered pairs of vertices $\\{j, k\\}$ with $j \\in 0..N, k \\in 0..N, j \\neq k$.\n",
    "\n",
    "The discrete-time quantum walk algorithm consists of iteratively applying two steps, namely the coin flip operator $\\hat{C}$ and then the swap operator $\\hat{S}$. Although the operation has a high-level description, each graph requires a tailored approach to implementing the quantum walk operation.\n",
    "\n",
    "The Hilbert space consist of states of the form $|j, k\\rangle$ where $\\{j, k\\} \\in E$. The state $|j, k\\rangle$ represents a walker at vertex $j$ moving towards vertex $k$, so information is encoded in terms of the directed relations between pairs of vertices. This is not a symmetrical relation, so $|k, j\\rangle \\neq |j, k\\rangle$ in general; you will see both in the swap operator."
   ]
  },
  {
   "cell_type": "code",
   "execution_count": 1,
   "metadata": {},
   "outputs": [],
   "source": [
    "# Import necessary hyperparameters\n",
    "from classiq import *\n",
    "from math import ceil, log2, log10\n",
    "from classiq.execution import ExecutionPreferences\n",
    "\n",
    "# Auxiliary libraries for printing and visualization\n",
    "import matplotlib.pyplot as plt\n",
    "import numpy as np\n",
    "import json\n",
    "np.set_printoptions(linewidth=65536)\n",
    "\n",
    "# Specify graph type and size\n",
    "N = 32          # Number of qubits\n",
    "\n",
    "# Specify runtime options\n",
    "SHOTS = 1000000 # Adjust the number of shots to obtain a more accurate result\n",
    "ITERATIONS = 1  # Number of iterations to run the algorithm"
   ]
  },
  {
   "cell_type": "markdown",
   "metadata": {},
   "source": [
    "### Auxiliary functions\n",
    "\n",
    "The diffuzer oracle is applied within preparing the auxiliary qubit to the minus state. This is used to indicate intermediate results. The diffuzer oracle is a phase kickback algorithm which inverts the auxiliary qubit if the target qubit is nonzero. The diffuzer oracle is used in the first step of the quantum walk, the coin flip step gate $C = \\sum_{j \\in V} |j\\rangle \\langle j| \\otimes (2|\\partial_j\\rangle \\langle\\partial_j| - I)$.\n",
    "\n",
    "The edge oracle applies a bitwise OR to the results qubit in the basis if the vertex nums sum to an odd value. A controlled bitwise swap is then used to apply to the current and adjacent vartex, using the result of the edge oracle as the control bit. The vertex and adjacent are $j$ and $k$ respectively for the formula of the swap step gate $S = \\sum_{(j,k) \\in E} |j, k\\rangle \\langle k,j|$."
   ]
  },
  {
   "cell_type": "code",
   "execution_count": 2,
   "metadata": {},
   "outputs": [],
   "source": [
    "def next_power_of_two(n: int) -> int:\n",
    "    \"\"\"Returns the next power of two after or equal to n. This is an ad-hoc implementation.\"\"\"\n",
    "    return 2**ceil(log2(n))\n",
    "\n",
    "_N = next_power_of_two(N)\n",
    "\n",
    "@qfunc\n",
    "def prepare_minus(x: QBit):\n",
    "    X(x)\n",
    "    H(x)\n",
    "\n",
    "@qfunc\n",
    "def diffuzer_oracle(aux: Output[QNum], x: QNum):\n",
    "    aux^=(x!=0)\n",
    "\n",
    "@qfunc\n",
    "def edge_oracle(res: Output[QBit], vertices: QNum, adjacent_vertices: QNum):\n",
    "    isconnected = (vertices+adjacent_vertices)%2\n",
    "    res |= (isconnected == 1)\n",
    "\n",
    "@qfunc \n",
    "def bitwise_swap(x: QArray[QBit], y: QArray[QBit]):\n",
    "    repeat(count= x.len, iteration= lambda i: SWAP(x[i],y[i]))\n",
    "\n",
    "# The rest are just for formatting\n",
    "def _format_string(x: int) -> str:\n",
    "    if x:\n",
    "        return \"%.3f\" % x\n",
    "    else:\n",
    "        return \"%5s\" % \"-\""
   ]
  },
  {
   "cell_type": "markdown",
   "metadata": {},
   "source": [
    "### Connectivity graph and probability\n",
    "\n",
    "The first step of each quantum walk requires determining the connectivity graph, and then converting it into a probability matrix $M$. For a line of $N$ vertices, for the endpoint vertices, the probability is unity for the one neighbor, and for the $n - 2$ intermediate vertices, the probability is half for the two neighboring vertices.\n",
    "\n",
    "Four present types of graphs will generated, without the use of an adjacency list or matrix."
   ]
  },
  {
   "cell_type": "code",
   "execution_count": 3,
   "metadata": {},
   "outputs": [],
   "source": [
    "def pr_vector_linear(i: int, n: int):\n",
    "    \"\"\"Obtain the probability vector of the i-th vertex on the n-th linear graph.\n",
    "    \n",
    "    Examples:\n",
    "        pr_vector_linear(2, 4) = [0, 0.5, 0, 0.5]\n",
    "        pr_vector_linear(0, 5) = [0, 1, 0, 0, 0]\n",
    "        pr_vector_linear(2, 3) = [0, 1, 0]\n",
    "    \"\"\"\n",
    "    prob = [0]*n\n",
    "    if i == 0:\n",
    "        prob[1] = 1\n",
    "    elif i == n - 1:\n",
    "        prob[i - 1] = 1\n",
    "    else:\n",
    "        prob[i - 1] = 0.5\n",
    "        prob[i + 1] = 0.5\n",
    "    return prob\n",
    "\n",
    "def pr_vector_cyclic(i: int, n: int):\n",
    "    \"\"\"Obtain the probability vector of the i-th vertex on the n-th cyclic graph.\n",
    "    \n",
    "    Examples:\n",
    "        pr_vector_cyclic(2, 4) = [0.0, 0.5, 0, 0.5]\n",
    "        pr_vector_cyclic(0, 5) = [0, 0.5, 0, 0, 0.5]\n",
    "        pr_vector_cyclic(2, 3) = [0.5, 0.5, 0]\n",
    "    \"\"\"\n",
    "    prob = [0]*n # AD-HOC: Array must be a power of two\n",
    "    prob[(i+1)% n]=0.5\n",
    "    prob[(i-1)% n]=0.5\n",
    "    return prob\n",
    "\n",
    "def pr_vector_star(i: int, n: int):\n",
    "    \"\"\"Obtain the probability vector of the i-th vertex on the (n-1)-th star graph.\n",
    "    The zeroth vertex is the center of the star.\n",
    "    \n",
    "    Examples:\n",
    "        pr_vector_cyclic(2, 4) = [1, 0, 0, 0]\n",
    "        pr_vector_cyclic(0, 5) = [0, 0.25, 0.25, 0.25, 0.25]\n",
    "        pr_vector_cyclic(2, 3) = [1, 0, 0]\n",
    "    \"\"\"\n",
    "    prob = None # AD-HOC: Array must be a power of two\n",
    "    if i == 0:\n",
    "        return [0] + [1/(n - 1)]*(n - 1)\n",
    "    else:\n",
    "        return [1] + [0]*(n - 1)\n",
    "\n",
    "def pr_vector_complete(i: int, n: int):\n",
    "    \"\"\"Obtain the probability vector of the i-th vertex on the n-th complete graph.\n",
    "    \n",
    "    Examples:\n",
    "        pr_vector_cyclic(2, 4) = [0.33, 0.33, 0, 0.33]\n",
    "        pr_vector_cyclic(0, 5) = [0, 0.25, 0.25, 0.25, 0.25]\n",
    "        pr_vector_cyclic(2, 3) = [0.5, 0.5, 0]\n",
    "    \"\"\"\n",
    "    return [1/(n - 1)]*n\n",
    "\n",
    "# Define the graph type here\n",
    "h = pr_vector_linear"
   ]
  },
  {
   "cell_type": "markdown",
   "metadata": {},
   "source": [
    "### Coin flip operator\n",
    "\n",
    "Using the probability vector, which can easily be obtained as a function and if-statements for linear and cyclic cases, we can use the zero diffuzer to implement the diffuzer oracle required for realizing $|\\partial_j\\rangle\\langle\\partial_j|$. Using this schema for the Hilbert space, there exists a unitary $U_j$ such that $U_j|j\\rangle = |\\partial_j\\rangle$, allowing us to reduce the diffusion into a zero diffusion problem $(2| \\partial_j \\rangle\\langle \\partial_j | - I) = U_j (2| 0 \\rangle\\langle 0 | - I) U_j^{\\dagger}$.\n",
    "\n",
    "As `C_iteration` loops through each vertex, it also outputs the probability vectors. The matrix $M$ will be printed out during the `C_operator`'s runtime."
   ]
  },
  {
   "cell_type": "code",
   "execution_count": 4,
   "metadata": {},
   "outputs": [],
   "source": [
    "@qfunc\n",
    "def zero_diffuzer(x: QNum):\n",
    "    \"\"\"Perform the zero diffuzer. The oracle can simply be implemented in terms of arithmetic in Classiq.\n",
    "    Thus, it can perform the phase kickback using the unitary as a conjugation.\"\"\"\n",
    "    aux = QNum('aux')\n",
    "    allocate(1,aux)\n",
    "    within_apply(within=lambda: prepare_minus(aux),\n",
    "                 apply=lambda: diffuzer_oracle)\n",
    "\n",
    "def C_iteration(j: int, vertices: QNum, adjacent_vertices: QNum):\n",
    "    \"\"\"Perform the C operation for one vector, represented as a controlled zero diffuzer operation\n",
    "    with the vertices as the control, and the adjacent_vertices as the target. The C iteration applies\n",
    "    to all vertices in the graph.\n",
    "    \n",
    "    Please note that internally, the probability vector must have size a power of two. Extra states\n",
    "    are made inaccessible by padding the transition probabilities to nil.\n",
    "    \"\"\"\n",
    "    # This line represents the graph we will use, and will be used as control for the zero diffuzer.\n",
    "    prob = h(j, N) + [0]*(_N - N)\n",
    "    # Should print out the matrix\n",
    "    print('State={1:{0:d}d}, prob vec ={2:s}'.format(ceil(log10(N - 1) + 1), j, np.array2string(np.array(prob), formatter={'float_kind':lambda x: _format_string(x), 'int':lambda x: _format_string(x)})))\n",
    "    \n",
    "    control(ctrl = vertices==j, \n",
    "            stmt_block = lambda: within_apply(\n",
    "                within = lambda: inplace_prepare_state(probabilities=prob, \n",
    "                                                       bound=0.01, \n",
    "                                                       target=adjacent_vertices),\n",
    "                apply  = lambda: zero_diffuzer(adjacent_vertices)))\n",
    "\n",
    "@qfunc \n",
    "def C_operator(vertices: QNum, adjacent_vertices: QNum):\n",
    "    \"\"\"Classiq qfunc for applying the C iteration to each vertex.\n",
    "    Extraneous states from remainders after rounding up to nearest power of two \n",
    "    will not get C_iterations.\"\"\"\n",
    "    for i in range(N):\n",
    "        C_iteration(i, vertices, adjacent_vertices)"
   ]
  },
  {
   "cell_type": "markdown",
   "metadata": {},
   "source": [
    "### Swap operator\n",
    "\n",
    "The second step of the quantum walk function is to perform the swap operator. The swap operator is simply the normalized sum of all operators of connected vertices $|j,k \\rangle \\langle k,j|$. Notice that $|j,k \\rangle \\neq \\langle k,j|$ in general."
   ]
  },
  {
   "cell_type": "code",
   "execution_count": 5,
   "metadata": {},
   "outputs": [],
   "source": [
    "@qfunc \n",
    "def S_operator(vertices:QNum, adjacent_vertices: QNum):\n",
    "    \"\"\"Classiq qfunc for performing the bitwise swap between this vertex and the neighboring vertex,\n",
    "    provided that the two vertices are connected.\"\"\"\n",
    "    res = QNum('res')\n",
    "    edge_oracle(res, vertices, adjacent_vertices)\n",
    "    control(ctrl = res == 1,\n",
    "            stmt_block = lambda: bitwise_swap(vertices, adjacent_vertices))"
   ]
  },
  {
   "cell_type": "markdown",
   "metadata": {},
   "source": [
    "## Driver code\n",
    "\n",
    "We run that many iterations of the quantum walk algorithm, starting with the equal superposition state."
   ]
  },
  {
   "cell_type": "code",
   "execution_count": 6,
   "metadata": {},
   "outputs": [],
   "source": [
    "_SIZE = int(ceil(log2(N)))\n",
    "\n",
    "@qfunc \n",
    "def main(vertices:Output[QNum], adjacent_vertices:Output[QNum]):\n",
    "    # Allocate two sets of vertices as qubits. \n",
    "    allocate(_SIZE, vertices)\n",
    "    allocate(_SIZE, adjacent_vertices)\n",
    "    hadamard_transform(vertices) # Still only fully works for powers of two, we can discard extras\n",
    "    print(\"Allocated two sets of %d qubits for a %d vertex graph.\" % (_SIZE, N))\n",
    "\n",
    "    # Perform quantum step iteration\n",
    "    for k in range(ITERATIONS):\n",
    "        print(\"Running iteration %d…\" % (k + 1))\n",
    "        C_operator(vertices,adjacent_vertices)\n",
    "        S_operator(vertices,adjacent_vertices)\n",
    "    \n",
    "    print(\"Finished running quantum walk.\")"
   ]
  },
  {
   "cell_type": "markdown",
   "metadata": {},
   "source": [
    "Finally, we create the model, set the constraints (for simulator compatibility) and set the execution preferences. Please note some simulators are limited to very small qubit counts, meaning the depth can be great for such a limited number of auxiliary qubits. Already at 17 - 32 vertices we need to have 43 qubits to implement!\n",
    "\n",
    "Please note the synthesis step may take a long time with both high width and depth count, and the visualization may fail. We will save a Qasm version of the circuit."
   ]
  },
  {
   "cell_type": "code",
   "execution_count": 8,
   "metadata": {},
   "outputs": [
    {
     "name": "stdout",
     "output_type": "stream",
     "text": [
      "Creating and optimizing model…\n",
      "Allocated two sets of 5 qubits for a 32 vertex graph.\n",
      "Running iteration 1…\n",
      "State=  0, prob vec =[    - 1.000     -     -     -     -     -     -     -     -     -     -     -     -     -     -     -     -     -     -     -     -     -     -     -     -     -     -     -     -     -     -]\n",
      "State=  1, prob vec =[0.500     - 0.500     -     -     -     -     -     -     -     -     -     -     -     -     -     -     -     -     -     -     -     -     -     -     -     -     -     -     -     -     -]\n",
      "State=  2, prob vec =[    - 0.500     - 0.500     -     -     -     -     -     -     -     -     -     -     -     -     -     -     -     -     -     -     -     -     -     -     -     -     -     -     -     -]\n",
      "State=  3, prob vec =[    -     - 0.500     - 0.500     -     -     -     -     -     -     -     -     -     -     -     -     -     -     -     -     -     -     -     -     -     -     -     -     -     -     -]\n",
      "State=  4, prob vec =[    -     -     - 0.500     - 0.500     -     -     -     -     -     -     -     -     -     -     -     -     -     -     -     -     -     -     -     -     -     -     -     -     -     -]\n",
      "State=  5, prob vec =[    -     -     -     - 0.500     - 0.500     -     -     -     -     -     -     -     -     -     -     -     -     -     -     -     -     -     -     -     -     -     -     -     -     -]\n",
      "State=  6, prob vec =[    -     -     -     -     - 0.500     - 0.500     -     -     -     -     -     -     -     -     -     -     -     -     -     -     -     -     -     -     -     -     -     -     -     -]\n",
      "State=  7, prob vec =[    -     -     -     -     -     - 0.500     - 0.500     -     -     -     -     -     -     -     -     -     -     -     -     -     -     -     -     -     -     -     -     -     -     -]\n",
      "State=  8, prob vec =[    -     -     -     -     -     -     - 0.500     - 0.500     -     -     -     -     -     -     -     -     -     -     -     -     -     -     -     -     -     -     -     -     -     -]\n",
      "State=  9, prob vec =[    -     -     -     -     -     -     -     - 0.500     - 0.500     -     -     -     -     -     -     -     -     -     -     -     -     -     -     -     -     -     -     -     -     -]\n",
      "State= 10, prob vec =[    -     -     -     -     -     -     -     -     - 0.500     - 0.500     -     -     -     -     -     -     -     -     -     -     -     -     -     -     -     -     -     -     -     -]\n",
      "State= 11, prob vec =[    -     -     -     -     -     -     -     -     -     - 0.500     - 0.500     -     -     -     -     -     -     -     -     -     -     -     -     -     -     -     -     -     -     -]\n",
      "State= 12, prob vec =[    -     -     -     -     -     -     -     -     -     -     - 0.500     - 0.500     -     -     -     -     -     -     -     -     -     -     -     -     -     -     -     -     -     -]\n",
      "State= 13, prob vec =[    -     -     -     -     -     -     -     -     -     -     -     - 0.500     - 0.500     -     -     -     -     -     -     -     -     -     -     -     -     -     -     -     -     -]\n",
      "State= 14, prob vec =[    -     -     -     -     -     -     -     -     -     -     -     -     - 0.500     - 0.500     -     -     -     -     -     -     -     -     -     -     -     -     -     -     -     -]\n",
      "State= 15, prob vec =[    -     -     -     -     -     -     -     -     -     -     -     -     -     - 0.500     - 0.500     -     -     -     -     -     -     -     -     -     -     -     -     -     -     -]\n",
      "State= 16, prob vec =[    -     -     -     -     -     -     -     -     -     -     -     -     -     -     - 0.500     - 0.500     -     -     -     -     -     -     -     -     -     -     -     -     -     -]\n",
      "State= 17, prob vec =[    -     -     -     -     -     -     -     -     -     -     -     -     -     -     -     - 0.500     - 0.500     -     -     -     -     -     -     -     -     -     -     -     -     -]\n",
      "State= 18, prob vec =[    -     -     -     -     -     -     -     -     -     -     -     -     -     -     -     -     - 0.500     - 0.500     -     -     -     -     -     -     -     -     -     -     -     -]\n",
      "State= 19, prob vec =[    -     -     -     -     -     -     -     -     -     -     -     -     -     -     -     -     -     - 0.500     - 0.500     -     -     -     -     -     -     -     -     -     -     -]\n",
      "State= 20, prob vec =[    -     -     -     -     -     -     -     -     -     -     -     -     -     -     -     -     -     -     - 0.500     - 0.500     -     -     -     -     -     -     -     -     -     -]\n",
      "State= 21, prob vec =[    -     -     -     -     -     -     -     -     -     -     -     -     -     -     -     -     -     -     -     - 0.500     - 0.500     -     -     -     -     -     -     -     -     -]\n",
      "State= 22, prob vec =[    -     -     -     -     -     -     -     -     -     -     -     -     -     -     -     -     -     -     -     -     - 0.500     - 0.500     -     -     -     -     -     -     -     -]\n",
      "State= 23, prob vec =[    -     -     -     -     -     -     -     -     -     -     -     -     -     -     -     -     -     -     -     -     -     - 0.500     - 0.500     -     -     -     -     -     -     -]\n",
      "State= 24, prob vec =[    -     -     -     -     -     -     -     -     -     -     -     -     -     -     -     -     -     -     -     -     -     -     - 0.500     - 0.500     -     -     -     -     -     -]\n",
      "State= 25, prob vec =[    -     -     -     -     -     -     -     -     -     -     -     -     -     -     -     -     -     -     -     -     -     -     -     - 0.500     - 0.500     -     -     -     -     -]\n",
      "State= 26, prob vec =[    -     -     -     -     -     -     -     -     -     -     -     -     -     -     -     -     -     -     -     -     -     -     -     -     - 0.500     - 0.500     -     -     -     -]\n",
      "State= 27, prob vec =[    -     -     -     -     -     -     -     -     -     -     -     -     -     -     -     -     -     -     -     -     -     -     -     -     -     - 0.500     - 0.500     -     -     -]\n",
      "State= 28, prob vec =[    -     -     -     -     -     -     -     -     -     -     -     -     -     -     -     -     -     -     -     -     -     -     -     -     -     -     - 0.500     - 0.500     -     -]\n",
      "State= 29, prob vec =[    -     -     -     -     -     -     -     -     -     -     -     -     -     -     -     -     -     -     -     -     -     -     -     -     -     -     -     - 0.500     - 0.500     -]\n",
      "State= 30, prob vec =[    -     -     -     -     -     -     -     -     -     -     -     -     -     -     -     -     -     -     -     -     -     -     -     -     -     -     -     -     - 0.500     - 0.500]\n",
      "State= 31, prob vec =[    -     -     -     -     -     -     -     -     -     -     -     -     -     -     -     -     -     -     -     -     -     -     -     -     -     -     -     -     -     - 1.000     -]\n",
      "Finished running quantum walk.\n",
      "Synthesizing model…\n"
     ]
    }
   ],
   "source": [
    "_QUBIT_LIMIT = 127\n",
    "\n",
    "# Create and optimize model\n",
    "print(\"Creating and optimizing model…\")\n",
    "qmod = create_model(main)\n",
    "qmod = set_constraints(qmod, Constraints(optimization_parameter=\"depth\", max_width=_QUBIT_LIMIT))\n",
    "\n",
    "qmod = set_execution_preferences(qmod, \n",
    "           ExecutionPreferences(num_shots=SHOTS, \n",
    "                                job_name=\"quantumwalk_L{0:d}\".format(N),\n",
    "                                transpile_to_hardare={\"classiq\": \"custom\", \"qiskit\": 3}\n",
    "                               ))\n",
    "\n",
    "qmod = set_preferences(qmod, Preferences(output_format=[\"qasm\"], timeout_seconds=65536))\n",
    "\n",
    "# Synthesize model\n",
    "print(\"Synthesizing model…\")\n",
    "qprog = synthesize(qmod)"
   ]
  },
  {
   "cell_type": "code",
   "execution_count": 9,
   "metadata": {},
   "outputs": [
    {
     "name": "stdout",
     "output_type": "stream",
     "text": [
      "Width: 127\n",
      "Depth: 8209\n",
      "Count: {'u': 6635, 'cx': 6307}\n",
      "Opening: https://platform.classiq.io/circuit/28aeeb87-2753-435a-b289-97ad1aa6799a?version=0.46.0\n"
     ]
    }
   ],
   "source": [
    "circuit = QuantumProgram.from_qprog(qprog)\n",
    "print(\"Width: %d\" % circuit.data.width)\n",
    "print(\"Depth: %d\" % circuit.transpiled_circuit.depth)\n",
    "print(\"Count: %s\" % str(circuit.transpiled_circuit.count_ops))\n",
    "\n",
    "# Show and save program\n",
    "f = open(\"haomackyang_lee_hw4_%d-%d.qasm\" % (N, ITERATIONS), \"w\")\n",
    "f.write(json.loads(qprog).get(\"outputs\").get(\"qasm\"))\n",
    "f.close()\n",
    "show(qprog)"
   ]
  },
  {
   "cell_type": "markdown",
   "metadata": {},
   "source": [
    "### Running the code\n",
    "\n",
    "Finally, we execute the code on the simulator. The printout is a list of all measured visiting states; either the `vertices` or `adjacent_vertices` are nonzero, if the destination is nonzero."
   ]
  },
  {
   "cell_type": "code",
   "execution_count": null,
   "metadata": {},
   "outputs": [],
   "source": [
    "# Run the model. Note the job will throw an exception if the number of qubits exceeds the limit of 25.\n",
    "job = execute(qprog)\n",
    "results = job.result()[0].value.parsed_counts\n",
    "\n",
    "# Print out and graph results\n",
    "frequency = [0]*_N\n",
    "for sampledstate in results:\n",
    "    print(sampledstate)\n",
    "    dest = int(max(sampledstate.state['vertices'], sampledstate.state['adjacent_vertices']))\n",
    "    frequency[dest] = sampledstate.shots"
   ]
  },
  {
   "cell_type": "markdown",
   "metadata": {},
   "source": [
    "# Discussion\n",
    "\n",
    "Consistent to our expectations, for any starting vertex, after performing many random walk steps on a linear graph, we expect that the agent is equally likely to be at any other vertex except a slightly higher value for the second and second last vertex."
   ]
  },
  {
   "cell_type": "code",
   "execution_count": null,
   "metadata": {},
   "outputs": [],
   "source": [
    "# Graph out results\n",
    "plt.title(\"Random walk results for a %d-vertex graph from uniform superposition\" % N)\n",
    "plt.xlabel(\"Destination\")\n",
    "plt.ylabel(\"Frequency\")\n",
    "plt.plot(np.linspace(0, _N-1, _N), frequency)"
   ]
  },
  {
   "cell_type": "markdown",
   "metadata": {},
   "source": [
    "```markdown\n",
    "Made with <3 with GitHub Copilot\n",
    "```"
   ]
  }
 ],
 "metadata": {
  "kernelspec": {
   "display_name": "classiq",
   "language": "python",
   "name": "python3"
  },
  "language_info": {
   "codemirror_mode": {
    "name": "ipython",
    "version": 3
   },
   "file_extension": ".py",
   "mimetype": "text/x-python",
   "name": "python",
   "nbconvert_exporter": "python",
   "pygments_lexer": "ipython3",
   "version": "3.11.9"
  }
 },
 "nbformat": 4,
 "nbformat_minor": 2
}
