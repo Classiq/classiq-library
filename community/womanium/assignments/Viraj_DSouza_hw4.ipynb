{
 "cells": [
  {
   "cell_type": "markdown",
   "metadata": {},
   "source": [
    "# Discrete time Quantum Walk on a Line"
   ]
  },
  {
   "cell_type": "markdown",
   "metadata": {},
   "source": [
    "### Implementation of quantum walk on a line with 16 nodes"
   ]
  },
  {
   "cell_type": "code",
   "execution_count": 1,
   "metadata": {},
   "outputs": [],
   "source": [
    "import classiq\n",
    "from classiq import *\n",
    "from classiq.execution import ExecutionDetails, ExecutionPreferences, ClassiqBackendPreferences\n",
    "import matplotlib.pyplot as plt\n",
    "from classiq.execution import ExecutionPreferences\n",
    "from classiq.qmod.symbolic import floor, log, pi, ceiling\n",
    "\n",
    "size = 4  # qubits needed for storing the 16 positions\n"
   ]
  },
  {
   "cell_type": "markdown",
   "metadata": {},
   "source": [
    "---\n",
    "#### Preparing the Grover diffusion operator and the Coin operator"
   ]
  },
  {
   "cell_type": "markdown",
   "metadata": {},
   "source": [
    "The Grover diffusion operator, $D= \\left(2|\\partial j\\rangle\\langle \\partial j| - I\\right) $, includes a step known as the **zero diffuser**. This is typically represented by the operator $2\\ket{0}^{\\otimes n}\\bra{0}^{\\otimes n} - I$, where $I$ is the identity matrix.\n",
    "\n",
    "\n",
    "$$\\ket{\\partial j} = U \\ket{0}^{\\otimes n}= \\frac{1}{\\sqrt{\\deg(j)}} \\sum_{k:(j,k) \\in E} |k\\rangle$$\n",
    "\n",
    "In the context of the zero diffuser, this operation reflects the amplitude of the $\\ket{0}^{\\otimes n}$ state while inverting the amplitude of all other states."
   ]
  },
  {
   "cell_type": "code",
   "execution_count": 2,
   "metadata": {},
   "outputs": [],
   "source": [
    "## Preparing the zero diffuser \n",
    "\n",
    "@qfunc\n",
    "def prepare_minus(x: QBit):\n",
    "  X(x)\n",
    "  H(x)\n",
    "\n",
    "\n",
    "@qfunc\n",
    "def diffuzer_oracle(aux: Output[QNum],x:QNum):  \n",
    "  aux^=(x!=0)\n",
    "\n",
    "@qfunc\n",
    "def zero_diffuzer(x: QNum):   \n",
    "  aux = QNum('aux')\n",
    "  allocate(1,aux)\n",
    "  within_apply(compute=lambda: prepare_minus(aux),  \n",
    "              action=lambda: diffuzer_oracle)"
   ]
  },
  {
   "cell_type": "markdown",
   "metadata": {},
   "source": [
    "The coin operator $ C := \\sum_j |j\\rangle\\langle j| \\otimes \\left(2|\\partial j\\rangle\\langle \\partial j| - I\\right) $ is basically the application of Grover's Diffusion operator on the second set of registers, controlled by the first set of registers."
   ]
  },
  {
   "cell_type": "code",
   "execution_count": 3,
   "metadata": {},
   "outputs": [],
   "source": [
    "## Preparing the coin operator C\n",
    "\n",
    "def W_iteration(i:int,vertices: QNum, adjacent_vertices:QNum):\n",
    "\n",
    "    # state preparation (U matrix), we assume here that at every state there is equal probability of going left/right and state 0 and state 15 are absorbing states \n",
    "    prob = [0 for j in range(2**size)]   \n",
    "    if i==int(2**size - 1):\n",
    "      prob[i-1]=1  #this condition is to make sure that if the walker reaches the node 15, he goes to 14 in the next step with probability 1\n",
    "    elif i== 0:\n",
    "      prob[i+1]=1  ##this condition is to make sure that if the walker reaches the node 0, he goes to 11 in the next step with probability 1\n",
    "    else: \n",
    "      prob[i+1]=0.5  #if the walker is at any other node, there's equal chance of going right/left with equal probability \n",
    "      prob[i-1]=0.5\n",
    "    \n",
    "    # this part prepares the coin operator\n",
    "\n",
    "    control(ctrl=vertices==i,\n",
    "            operand=lambda: within_apply(\n",
    "              compute= lambda: inplace_prepare_state(probabilities=prob, bound=0.01, target=adjacent_vertices),\n",
    "              action= lambda: zero_diffuzer(adjacent_vertices)))\n",
    "\n",
    "@qfunc \n",
    "def W_operator(vertices:QNum, adjacent_vertices: QNum):\n",
    "    for i in range(2**size):\n",
    "      W_iteration(i,vertices,adjacent_vertices)"
   ]
  },
  {
   "cell_type": "code",
   "execution_count": 4,
   "metadata": {},
   "outputs": [],
   "source": [
    "## Perparing the S operator that swaps vertices connected by an edge \n",
    "\n",
    "@qfunc\n",
    "def edge_oracle(res:Output[QBit], vertices: QNum, adjacent_vertices: QNum):\n",
    "  res |= (((vertices+adjacent_vertices)%2) ==1)\n",
    "\n",
    "\n",
    "@qfunc \n",
    "def bitwise_swap(x: QArray[QBit], y:QArray[QBit]):\n",
    "  repeat(count= x.len,\n",
    "    iteration= lambda i: SWAP(x[i],y[i]))\n",
    "  \n",
    "\n",
    "@qfunc \n",
    "def S_operator(vertices:QNum, adjacent_vertices: QNum):\n",
    "    res = QNum('res')\n",
    "    edge_oracle(res,vertices,adjacent_vertices)\n",
    "    control(ctrl= res==1,\n",
    "        operand= lambda: bitwise_swap(vertices,adjacent_vertices))"
   ]
  },
  {
   "cell_type": "markdown",
   "metadata": {},
   "source": [
    "#### Implementing one step of a quantum walk\n",
    "\n",
    "Basically application of the operator $C.S$ on an initial state $\\ket{j,k}$"
   ]
  },
  {
   "cell_type": "code",
   "execution_count": 92,
   "metadata": {},
   "outputs": [],
   "source": [
    "## Quantum walk implementation\n",
    "\n",
    "@qfunc \n",
    "def main(vertices:Output[QNum]):\n",
    "\n",
    "  allocate(size,vertices)\n",
    "  hadamard_transform(vertices)\n",
    "  adjacent_vertices= QNum('av')\n",
    "  allocate(size,adjacent_vertices)  \n",
    "  W_operator(vertices,adjacent_vertices)\n",
    "  S_operator(vertices,adjacent_vertices)\n"
   ]
  },
  {
   "cell_type": "markdown",
   "metadata": {},
   "source": [
    "We use the nvidia_state_vector_simulator as the above program requires $25$ (and sometimes $26$) qubits without constraints. Execution and processing results the results can be done as follows."
   ]
  },
  {
   "cell_type": "code",
   "execution_count": 93,
   "metadata": {},
   "outputs": [
    {
     "name": "stdout",
     "output_type": "stream",
     "text": [
      "max_width=25 max_depth=None max_gate_count=defaultdict(<class 'int'>, {}) optimization_parameter=<OptimizationParameter.NO_OPTIMIZATION: 'no_opt'>\n",
      "Time  preprocessing=1.1163397699128836 solving=3.889027054188773 conversion_to_circuit=0.20653193490579724 postprocessing=2.8540338359307498\n",
      "Width 25\n",
      "***********\n",
      "Opening: https://platform.classiq.io/circuit/9039ca97-c878-488f-8994-c974adc13de8?version=0.43.2\n"
     ]
    },
    {
     "data": {
      "image/png": "[encoded data removed]",
      "text/plain": [
       "<Figure size 1000x600 with 1 Axes>"
      ]
     },
     "metadata": {},
     "output_type": "display_data"
    }
   ],
   "source": [
    "def run(constraints):\n",
    "    qmod = create_model(main)\n",
    "    if constraints is not None:\n",
    "        qmod = set_constraints(qmod, constraints)\n",
    "    # backend_preferences = ClassiqBackendPreferences(backend_name=\"nvidia_state_vector_simulator\")\n",
    "    # execution_preferences=ExecutionPreferences(num_shots=1000, backend_preferences=backend_preferences)\n",
    "    # qmod= set_execution_preferences(qmod, execution_preferences)\n",
    "    qprog = synthesize(qmod)\n",
    "    print(constraints)\n",
    "    print(\"Time \", QuantumProgram.parse_raw(qprog).synthesis_duration)\n",
    "    print(\"Width\", QuantumProgram.parse_raw(qprog).data.width)\n",
    "    print(\"***********\")\n",
    "    show(qprog)\n",
    "    if QuantumProgram.parse_raw(qprog).data.width<= 30:\n",
    "        results = execute(qprog).result()\n",
    "        dict_counts= results[0].value.counts\n",
    "\n",
    "        # Total number of results\n",
    "        total_counts = sum(dict_counts.values())\n",
    "\n",
    "        # Calculate probabilities\n",
    "        probabilities = {state: count / total_counts for state, count in dict_counts.items()}\n",
    "\n",
    "        # Plot the histogram\n",
    "        plt.figure(figsize=(10, 6))\n",
    "        plt.bar(probabilities.keys(), probabilities.values(), color='blue')\n",
    "        plt.xlabel('Quantum States')\n",
    "        plt.ylabel('Probability')\n",
    "        plt.title('Probability Histogram of Quantum walk on a line with 16 nodes ')\n",
    "        plt.ylim(0, 1)\n",
    "        plt.grid(axis='y', linestyle='--')\n",
    "\n",
    "        # Show the plot\n",
    "        plt.show()\n",
    "\n",
    " \n",
    "for c in [\n",
    "    Constraints(\n",
    "        max_width=25\n",
    "    )\n",
    "]:\n",
    "    run(c)\n"
   ]
  }
 ],
 "metadata": {
  "kernelspec": {
   "display_name": "Python 3",
   "language": "python",
   "name": "python3"
  },
  "language_info": {
   "codemirror_mode": {
    "name": "ipython",
    "version": 3
   },
   "file_extension": ".py",
   "mimetype": "text/x-python",
   "name": "python",
   "nbconvert_exporter": "python",
   "pygments_lexer": "ipython3",
   "version": "3.11.9"
  }
 },
 "nbformat": 4,
 "nbformat_minor": 2
}
