{
 "cells": [
  {
   "cell_type": "code",
   "execution_count": 1,
   "id": "3fdfe267-a5de-4c21-97f1-d875b433003d",
   "metadata": {},
   "outputs": [],
   "source": [
    "import classiq\n",
    "\n",
    "# print(classiq.__version__)\n",
    "\n",
    "from classiq import *\n",
    "from classiq.qmod.symbolic import logical_or\n",
    "from classiq.execution import ExecutionPreferences"
   ]
  },
  {
   "cell_type": "code",
   "execution_count": 2,
   "id": "586e913f-33b5-4bf6-a9e5-07b0cca7be3d",
   "metadata": {},
   "outputs": [
    {
     "name": "stdout",
     "output_type": "stream",
     "text": [
      "Node=0, prob vec =[0, 1.0, 0, 0, 0, 0, 0, 0, 0, 0, 0, 0, 0, 0, 0, 0]\n",
      "Node=1, prob vec =[0.5, 0, 0.5, 0, 0, 0, 0, 0, 0, 0, 0, 0, 0, 0, 0, 0]\n",
      "Node=2, prob vec =[0, 0.5, 0, 0.5, 0, 0, 0, 0, 0, 0, 0, 0, 0, 0, 0, 0]\n",
      "Node=3, prob vec =[0, 0, 0.5, 0, 0.5, 0, 0, 0, 0, 0, 0, 0, 0, 0, 0, 0]\n",
      "Node=4, prob vec =[0, 0, 0, 0.5, 0, 0.5, 0, 0, 0, 0, 0, 0, 0, 0, 0, 0]\n",
      "Node=5, prob vec =[0, 0, 0, 0, 0.5, 0, 0.5, 0, 0, 0, 0, 0, 0, 0, 0, 0]\n",
      "Node=6, prob vec =[0, 0, 0, 0, 0, 0.5, 0, 0.5, 0, 0, 0, 0, 0, 0, 0, 0]\n",
      "Node=7, prob vec =[0, 0, 0, 0, 0, 0, 0.5, 0, 0.5, 0, 0, 0, 0, 0, 0, 0]\n",
      "Node=8, prob vec =[0, 0, 0, 0, 0, 0, 0, 0.5, 0, 0.5, 0, 0, 0, 0, 0, 0]\n",
      "Node=9, prob vec =[0, 0, 0, 0, 0, 0, 0, 0, 0.5, 0, 0.5, 0, 0, 0, 0, 0]\n",
      "Node=10, prob vec =[0, 0, 0, 0, 0, 0, 0, 0, 0, 0.5, 0, 0.5, 0, 0, 0, 0]\n",
      "Node=11, prob vec =[0, 0, 0, 0, 0, 0, 0, 0, 0, 0, 0.5, 0, 0.5, 0, 0, 0]\n",
      "Node=12, prob vec =[0, 0, 0, 0, 0, 0, 0, 0, 0, 0, 0, 0.5, 0, 0.5, 0, 0]\n",
      "Node=13, prob vec =[0, 0, 0, 0, 0, 0, 0, 0, 0, 0, 0, 0, 0.5, 0, 0.5, 0]\n",
      "Node=14, prob vec =[0, 0, 0, 0, 0, 0, 0, 0, 0, 0, 0, 0, 0, 0.5, 0, 0.5]\n",
      "Node=15, prob vec =[0, 0, 0, 0, 0, 0, 0, 0, 0, 0, 0, 0, 0, 0, 1.0, 0]\n"
     ]
    },
    {
     "name": "stderr",
     "output_type": "stream",
     "text": [
      "C:\\Users\\aadhithya\\AppData\\Local\\Temp\\ipykernel_20044\\3009297484.py:36: DeprecationWarning: Parameter 'operand' of function 'control' has been renamed to 'stmt_block'. Parameter 'operand' will be deprecated in a future release.\n",
      "Hint: Change `control(ctrl=..., operand=...)` to `control(ctrl=..., stmt_block=...)` or `control(..., ...)`.\n",
      "  control(ctrl=vertices==i,\n",
      "C:\\Users\\aadhithya\\AppData\\Local\\Temp\\ipykernel_20044\\3009297484.py:37: DeprecationWarning: Parameters 'compute' and 'action' of function 'within_apply' have been renamed to 'within' and 'apply' respectively. Parameters 'compute' and 'action' will be deprecated in a future release.\n",
      "Hint: Change `within_apply(compute=..., action=...)` to `within_apply(within=..., apply=...)` or `within_apply(..., ...)`.\n",
      "  operand=lambda: within_apply(\n",
      "C:\\Users\\aadhithya\\AppData\\Local\\Temp\\ipykernel_20044\\3009297484.py:18: DeprecationWarning: Parameters 'compute' and 'action' of function 'within_apply' have been renamed to 'within' and 'apply' respectively. Parameters 'compute' and 'action' will be deprecated in a future release.\n",
      "Hint: Change `within_apply(compute=..., action=...)` to `within_apply(within=..., apply=...)` or `within_apply(..., ...)`.\n",
      "  within_apply(compute= lambda: prepare_minus(aux),\n",
      "C:\\Users\\aadhithya\\AppData\\Local\\Temp\\ipykernel_20044\\3009297484.py:60: DeprecationWarning: Parameter 'operand' of function 'control' has been renamed to 'stmt_block'. Parameter 'operand' will be deprecated in a future release.\n",
      "Hint: Change `control(ctrl=..., operand=...)` to `control(ctrl=..., stmt_block=...)` or `control(..., ...)`.\n",
      "  control(ctrl= res==1,\n"
     ]
    },
    {
     "name": "stdout",
     "output_type": "stream",
     "text": [
      "Opening: https://platform.classiq.io/circuit/f73bf93f-4bb2-49b8-b488-1facfb6d49f6?version=0.44.0\n"
     ]
    }
   ],
   "source": [
    "size = 4  # Number of qubits (the vertices (log2 of 16 nodes))\n",
    "num_nodes = 2**size  # Total number of nodes (16 nodes)\n",
    "\n",
    "\n",
    "@qfunc\n",
    "def prepare_minus(x:QBit):\n",
    "    X(x)\n",
    "    H(x)\n",
    "\n",
    "@qfunc\n",
    "def diffuser_oracle( aux: Output[QNum], x:QNum ):\n",
    "    aux^=(x!=0)\n",
    "\n",
    "@qfunc\n",
    "def zero_diffuser( x: QNum ):\n",
    "    aux = QNum('aux')\n",
    "    allocate(1, aux)\n",
    "    within_apply(compute= lambda: prepare_minus(aux),\n",
    "                 action=lambda: diffuser_oracle)\n",
    "    \n",
    "\n",
    "# @qfunc\n",
    "def W_iteration( i:int, vertices: QNum, adjacent_vertices: QNum):\n",
    "    prob = [0]*num_nodes\n",
    "    if i == 0:\n",
    "        prob[15] = 0\n",
    "        prob[i + 1] = 1.0   # If at the first node, move to the right node (node 1)\n",
    "    elif i == num_nodes - 1:\n",
    "        prob[0]=0\n",
    "        prob[i - 1] = 1.0   # If at the last node, move to the left node (node 14)\n",
    "    else:\n",
    "        prob[i - 1] = 0.5   # Probability of moving to the left node\n",
    "        prob[i + 1] = 0.5   # Probability of moving to the right node\n",
    "    \n",
    "    print(f'Node={i}, prob vec ={prob}')\n",
    "    control(ctrl=vertices==i,\n",
    "            operand=lambda: within_apply(\n",
    "              compute= lambda: inplace_prepare_state(probabilities=prob, bound=0.01, target=adjacent_vertices),\n",
    "              action= lambda: zero_diffuser(adjacent_vertices)))\n",
    "\n",
    "@qfunc\n",
    "def W_operator(vertices: QNum, adjacent_vertices: QNum):\n",
    "    for i in range(num_nodes):\n",
    "        W_iteration(i, vertices, adjacent_vertices)\n",
    "\n",
    "@qfunc\n",
    "def edge_oracle(res:Output[QBit], vertices: QNum, adjacent_vertices: QNum):\n",
    "    res |= (((vertices - adjacent_vertices) == 1) | ((vertices - adjacent_vertices) == -1))\n",
    "\n",
    "\n",
    "@qfunc\n",
    "def bitwise_swap(x: QArray[QBit], y:QArray[QBit]):\n",
    "    repeat(count= x.len,\n",
    "           iteration= lambda i: SWAP(x[i],y[i])) \n",
    "\n",
    "@qfunc \n",
    "def S_operator(vertices:QNum, adjacent_vertices: QNum):\n",
    "    res = QNum('res')\n",
    "    edge_oracle(res,vertices,adjacent_vertices)\n",
    "    control(ctrl= res==1,\n",
    "        operand= lambda: bitwise_swap(vertices,adjacent_vertices))\n",
    "    \n",
    "\n",
    "@qfunc \n",
    "def main(vertices:Output[QNum], adjacent_vertices:Output[QNum]):\n",
    "\n",
    "    allocate(size, vertices)  # Allocate qubits for vertices\n",
    "    hadamard_transform(vertices)  # Apply Hadamard transform to initialize superposition\n",
    "    allocate(size, adjacent_vertices)  # Allocate qubits for adjacent vertices\n",
    "    \n",
    "    W_operator(vertices, adjacent_vertices)  # Apply coin operator\n",
    "    S_operator(vertices, adjacent_vertices)  # Apply shift operator\n",
    "\n",
    "\n",
    "# Create and synthesize the quantum model\n",
    "q_mod = create_model(main)\n",
    "q_prog = synthesize(q_mod)\n",
    "show(q_prog)"
   ]
  },
  {
   "cell_type": "code",
   "execution_count": null,
   "id": "07e674a0-aa95-41fe-a51a-e7aa9b3a6b47",
   "metadata": {},
   "outputs": [],
   "source": []
  },
  {
   "cell_type": "code",
   "execution_count": null,
   "id": "e33288d3-2d4f-46f7-bd7b-33110d4ccab2",
   "metadata": {},
   "outputs": [],
   "source": []
  },
  {
   "cell_type": "code",
   "execution_count": null,
   "id": "eedf1f49-59c3-4db7-a65e-bc1767c6f24d",
   "metadata": {},
   "outputs": [],
   "source": []
  },
  {
   "cell_type": "code",
   "execution_count": null,
   "id": "9f4744aa-8deb-4935-a874-8b81463312bc",
   "metadata": {},
   "outputs": [],
   "source": []
  },
  {
   "cell_type": "code",
   "execution_count": null,
   "id": "359b8158-d1a5-44aa-bc49-808230ed7ac8",
   "metadata": {},
   "outputs": [],
   "source": []
  },
  {
   "cell_type": "code",
   "execution_count": null,
   "id": "823926d7-ff7f-41ae-8a02-f3c16eb16b08",
   "metadata": {},
   "outputs": [],
   "source": []
  },
  {
   "cell_type": "code",
   "execution_count": null,
   "id": "a8773e92-4ab8-49d7-bf57-4c902845b553",
   "metadata": {},
   "outputs": [],
   "source": []
  },
  {
   "cell_type": "code",
   "execution_count": null,
   "id": "56f99f30-6b1d-48be-89ea-9ed3eb8fd874",
   "metadata": {},
   "outputs": [],
   "source": []
  }
 ],
 "metadata": {
  "kernelspec": {
   "display_name": "Python 3 (ipykernel)",
   "language": "python",
   "name": "python3"
  },
  "language_info": {
   "codemirror_mode": {
    "name": "ipython",
    "version": 3
   },
   "file_extension": ".py",
   "mimetype": "text/x-python",
   "name": "python",
   "nbconvert_exporter": "python",
   "pygments_lexer": "ipython3",
   "version": "3.11.6"
  }
 },
 "nbformat": 4,
 "nbformat_minor": 5
}
