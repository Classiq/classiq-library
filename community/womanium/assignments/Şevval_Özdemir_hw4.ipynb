{
  "nbformat": 4,
  "nbformat_minor": 0,
  "metadata": {
    "colab": {
      "provenance": []
    },
    "kernelspec": {
      "name": "python3",
      "display_name": "Python 3"
    },
    "language_info": {
      "name": "python"
    }
  },
  "cells": [
    {
      "cell_type": "code",
      "execution_count": 2,
      "metadata": {
        "colab": {
          "base_uri": "https://localhost:8080/"
        },
        "id": "2MK-dRau1VRo",
        "outputId": "d4eb09d9-ab54-44fa-d887-47674db0546c"
      },
      "outputs": [
        {
          "output_type": "stream",
          "name": "stdout",
          "text": [
            "Requirement already satisfied: classiq in /usr/local/lib/python3.10/dist-packages (0.45.0)\n",
            "Requirement already satisfied: ConfigArgParse<2.0.0,>=1.5.3 in /usr/local/lib/python3.10/dist-packages (from classiq) (1.7)\n",
            "Requirement already satisfied: Pyomo<6.6,>=6.5 in /usr/local/lib/python3.10/dist-packages (from classiq) (6.5.0)\n",
            "Requirement already satisfied: black<25.0,>=24.0 in /usr/local/lib/python3.10/dist-packages (from classiq) (24.8.0)\n",
            "Requirement already satisfied: httpx<1,>=0.23.0 in /usr/local/lib/python3.10/dist-packages (from classiq) (0.27.0)\n",
            "Requirement already satisfied: keyring<24.0.0,>=23.5.0 in /usr/lib/python3/dist-packages (from classiq) (23.5.0)\n",
            "Requirement already satisfied: matplotlib<4.0.0,>=3.4.3 in /usr/local/lib/python3.10/dist-packages (from classiq) (3.7.1)\n",
            "Requirement already satisfied: networkx<3.0.0,>=2.5.1 in /usr/local/lib/python3.10/dist-packages (from classiq) (2.8.8)\n",
            "Requirement already satisfied: numexpr<3.0.0,>=2.7.3 in /usr/local/lib/python3.10/dist-packages (from classiq) (2.10.1)\n",
            "Requirement already satisfied: numpy<2.0.0,>=1.20.1 in /usr/local/lib/python3.10/dist-packages (from classiq) (1.26.4)\n",
            "Requirement already satisfied: packaging<24.0,>=23.2 in /usr/local/lib/python3.10/dist-packages (from classiq) (23.2)\n",
            "Requirement already satisfied: pandas<3.0.0,>=1.4.0 in /usr/local/lib/python3.10/dist-packages (from classiq) (2.1.4)\n",
            "Requirement already satisfied: plotly<6.0.0,>=5.7.0 in /usr/local/lib/python3.10/dist-packages (from classiq) (5.15.0)\n",
            "Requirement already satisfied: pydantic<2.0.0,>=1.9.1 in /usr/local/lib/python3.10/dist-packages (from classiq) (1.10.17)\n",
            "Requirement already satisfied: scipy<2.0.0,>=1.10.1 in /usr/local/lib/python3.10/dist-packages (from classiq) (1.13.1)\n",
            "Requirement already satisfied: sympy<2.0.0,>=1.13.0 in /usr/local/lib/python3.10/dist-packages (from classiq) (1.13.1)\n",
            "Requirement already satisfied: tabulate<1,>=0.8.9 in /usr/local/lib/python3.10/dist-packages (from classiq) (0.9.0)\n",
            "Requirement already satisfied: click>=8.0.0 in /usr/local/lib/python3.10/dist-packages (from black<25.0,>=24.0->classiq) (8.1.7)\n",
            "Requirement already satisfied: mypy-extensions>=0.4.3 in /usr/local/lib/python3.10/dist-packages (from black<25.0,>=24.0->classiq) (1.0.0)\n",
            "Requirement already satisfied: pathspec>=0.9.0 in /usr/local/lib/python3.10/dist-packages (from black<25.0,>=24.0->classiq) (0.12.1)\n",
            "Requirement already satisfied: platformdirs>=2 in /usr/local/lib/python3.10/dist-packages (from black<25.0,>=24.0->classiq) (4.2.2)\n",
            "Requirement already satisfied: tomli>=1.1.0 in /usr/local/lib/python3.10/dist-packages (from black<25.0,>=24.0->classiq) (2.0.1)\n",
            "Requirement already satisfied: typing-extensions>=4.0.1 in /usr/local/lib/python3.10/dist-packages (from black<25.0,>=24.0->classiq) (4.12.2)\n",
            "Requirement already satisfied: anyio in /usr/local/lib/python3.10/dist-packages (from httpx<1,>=0.23.0->classiq) (3.7.1)\n",
            "Requirement already satisfied: certifi in /usr/local/lib/python3.10/dist-packages (from httpx<1,>=0.23.0->classiq) (2024.7.4)\n",
            "Requirement already satisfied: httpcore==1.* in /usr/local/lib/python3.10/dist-packages (from httpx<1,>=0.23.0->classiq) (1.0.5)\n",
            "Requirement already satisfied: idna in /usr/local/lib/python3.10/dist-packages (from httpx<1,>=0.23.0->classiq) (3.7)\n",
            "Requirement already satisfied: sniffio in /usr/local/lib/python3.10/dist-packages (from httpx<1,>=0.23.0->classiq) (1.3.1)\n",
            "Requirement already satisfied: h11<0.15,>=0.13 in /usr/local/lib/python3.10/dist-packages (from httpcore==1.*->httpx<1,>=0.23.0->classiq) (0.14.0)\n",
            "Requirement already satisfied: contourpy>=1.0.1 in /usr/local/lib/python3.10/dist-packages (from matplotlib<4.0.0,>=3.4.3->classiq) (1.2.1)\n",
            "Requirement already satisfied: cycler>=0.10 in /usr/local/lib/python3.10/dist-packages (from matplotlib<4.0.0,>=3.4.3->classiq) (0.12.1)\n",
            "Requirement already satisfied: fonttools>=4.22.0 in /usr/local/lib/python3.10/dist-packages (from matplotlib<4.0.0,>=3.4.3->classiq) (4.53.1)\n",
            "Requirement already satisfied: kiwisolver>=1.0.1 in /usr/local/lib/python3.10/dist-packages (from matplotlib<4.0.0,>=3.4.3->classiq) (1.4.5)\n",
            "Requirement already satisfied: pillow>=6.2.0 in /usr/local/lib/python3.10/dist-packages (from matplotlib<4.0.0,>=3.4.3->classiq) (9.4.0)\n",
            "Requirement already satisfied: pyparsing>=2.3.1 in /usr/local/lib/python3.10/dist-packages (from matplotlib<4.0.0,>=3.4.3->classiq) (3.1.2)\n",
            "Requirement already satisfied: python-dateutil>=2.7 in /usr/local/lib/python3.10/dist-packages (from matplotlib<4.0.0,>=3.4.3->classiq) (2.8.2)\n",
            "Requirement already satisfied: pytz>=2020.1 in /usr/local/lib/python3.10/dist-packages (from pandas<3.0.0,>=1.4.0->classiq) (2024.1)\n",
            "Requirement already satisfied: tzdata>=2022.1 in /usr/local/lib/python3.10/dist-packages (from pandas<3.0.0,>=1.4.0->classiq) (2024.1)\n",
            "Requirement already satisfied: tenacity>=6.2.0 in /usr/local/lib/python3.10/dist-packages (from plotly<6.0.0,>=5.7.0->classiq) (9.0.0)\n",
            "Requirement already satisfied: ply in /usr/local/lib/python3.10/dist-packages (from Pyomo<6.6,>=6.5->classiq) (3.11)\n",
            "Requirement already satisfied: mpmath<1.4,>=1.1.0 in /usr/local/lib/python3.10/dist-packages (from sympy<2.0.0,>=1.13.0->classiq) (1.3.0)\n",
            "Requirement already satisfied: six>=1.5 in /usr/local/lib/python3.10/dist-packages (from python-dateutil>=2.7->matplotlib<4.0.0,>=3.4.3->classiq) (1.16.0)\n",
            "Requirement already satisfied: exceptiongroup in /usr/local/lib/python3.10/dist-packages (from anyio->httpx<1,>=0.23.0->classiq) (1.2.2)\n"
          ]
        }
      ],
      "source": [
        "!pip install -U classiq"
      ]
    },
    {
      "cell_type": "code",
      "source": [
        "import classiq\n",
        "classiq.authenticate()"
      ],
      "metadata": {
        "id": "7NC_3Kuq1bGP",
        "colab": {
          "base_uri": "https://localhost:8080/"
        },
        "outputId": "a8e09331-a39a-44a2-bc1c-4931b5e6ea61"
      },
      "execution_count": 3,
      "outputs": [
        {
          "output_type": "stream",
          "name": "stdout",
          "text": [
            "Your user code: VVRJ-BWLD\n",
            "If a browser doesn't automatically open, please visit this URL from any trusted device: https://auth.classiq.io/activate?user_code=VVRJ-BWLD\n"
          ]
        }
      ]
    },
    {
      "cell_type": "code",
      "source": [
        "from classiq import *\n",
        "from classiq.execution import *\n",
        "import matplotlib.pyplot as plt"
      ],
      "metadata": {
        "id": "aIG-saFO1dDY"
      },
      "execution_count": 4,
      "outputs": []
    },
    {
      "cell_type": "markdown",
      "source": [
        "As in the course video, we set our initial circuit here."
      ],
      "metadata": {
        "id": "MhutDSoa1cyM"
      }
    },
    {
      "cell_type": "code",
      "source": [
        "size = 4\n",
        "\n",
        "@qfunc\n",
        "def prepare_minus(x: QBit):\n",
        "  X(x)\n",
        "  H(x)\n",
        "\n",
        "\n",
        "@qfunc\n",
        "def diffuzer_oracle(aux: Output[QNum],x:QNum):\n",
        "  aux^=(x!=0)\n",
        "\n",
        "\n",
        "@qfunc\n",
        "def zero_diffuzer(x: QNum):\n",
        "  aux = QNum('aux')\n",
        "  allocate(1,aux)\n",
        "  within_apply(compute=lambda: prepare_minus(aux),\n",
        "              action=lambda: diffuzer_oracle)"
      ],
      "metadata": {
        "id": "gh-w0g0t1cB2"
      },
      "execution_count": null,
      "outputs": []
    },
    {
      "cell_type": "markdown",
      "source": [
        "In the W_iteration function, we defined the probabilities such that they are not circular but linear. In other words, the probability of moving forward (or backward) in the last (or first) edge is set the zero and the only probability is changing direction."
      ],
      "metadata": {
        "id": "CAEqJ3ca1mNT"
      }
    },
    {
      "cell_type": "code",
      "source": [
        "def W_iteration(i:int,vertices: QNum, adjacent_vertices:QNum):\n",
        "    prob = [0 for j in range(2**size)]\n",
        "    n = len(prob)-1\n",
        "    if i==0:\n",
        "      prob[i+1]=1\n",
        "    elif i==n:\n",
        "      prob[i-1]=1\n",
        "    else:\n",
        "      prob[(i+1)% 4]=0.5\n",
        "      prob[(i-1)% 4]=0.5\n",
        "    print(f'State={i}, prob vec ={prob}')\n",
        "\n",
        "    control(ctrl=vertices==i,\n",
        "            operand=lambda: within_apply(\n",
        "              compute= lambda: inplace_prepare_state(probabilities=prob, bound=0.01, target=adjacent_vertices),\n",
        "              action= lambda: zero_diffuzer(adjacent_vertices)))\n",
        "\n",
        "\n",
        "@qfunc\n",
        "def W_operator(vertices:QNum, adjacent_vertices: QNum):\n",
        "    for i in range(2**size):\n",
        "      W_iteration(i,vertices,adjacent_vertices)\n",
        "\n",
        "\n",
        "@qfunc\n",
        "def edge_oracle(res:Output[QBit], vertices: QNum, adjacent_vertices: QNum):\n",
        "  res |= (((vertices+adjacent_vertices)%2) ==1)\n",
        "\n",
        "\n",
        "@qfunc\n",
        "def bitwise_swap(x: QArray[QBit], y:QArray[QBit]):\n",
        "  repeat(count= x.len,\n",
        "    iteration= lambda i: SWAP(x[i],y[i]))\n",
        "\n",
        "\n",
        "@qfunc\n",
        "def S_operator(vertices:QNum, adjacent_vertices: QNum):\n",
        "    res = QNum('res')\n",
        "    edge_oracle(res,vertices,adjacent_vertices)\n",
        "    control(ctrl= res==1,\n",
        "        operand= lambda: bitwise_swap(vertices,adjacent_vertices))\n",
        "\n"
      ],
      "metadata": {
        "id": "5tmi4AFwedqK"
      },
      "execution_count": 5,
      "outputs": []
    },
    {
      "cell_type": "code",
      "source": [
        "@qfunc\n",
        "def main(vertices:Output[QNum], adjacent_vertices:Output[QNum]):\n",
        "\n",
        "  allocate(size,vertices)\n",
        "  hadamard_transform(vertices)\n",
        "  allocate(size,adjacent_vertices)\n",
        "\n",
        "  W_operator(vertices,adjacent_vertices)\n",
        "  S_operator(vertices,adjacent_vertices)"
      ],
      "metadata": {
        "id": "DY0_rHxrw3Aj"
      },
      "execution_count": 6,
      "outputs": []
    },
    {
      "cell_type": "markdown",
      "source": [
        "Here we synthesize the code as in previous assignments."
      ],
      "metadata": {
        "id": "k0TQ-8dd2Wg6"
      }
    },
    {
      "cell_type": "code",
      "source": [
        "qmod = create_model(main)\n",
        "qprog = synthesize(qmod)\n",
        "show(qprog)"
      ],
      "metadata": {
        "id": "7pUZ_I9BerlB",
        "colab": {
          "base_uri": "https://localhost:8080/"
        },
        "outputId": "d591b0ca-d954-4736-db9e-f993d1c9e64f"
      },
      "execution_count": 7,
      "outputs": [
        {
          "output_type": "stream",
          "name": "stdout",
          "text": [
            "State=0, prob vec =[0, 1, 0, 0, 0, 0, 0, 0, 0, 0, 0, 0, 0, 0, 0, 0]\n",
            "State=1, prob vec =[0.5, 0, 0.5, 0, 0, 0, 0, 0, 0, 0, 0, 0, 0, 0, 0, 0]\n",
            "State=2, prob vec =[0, 0.5, 0, 0.5, 0, 0, 0, 0, 0, 0, 0, 0, 0, 0, 0, 0]\n",
            "State=3, prob vec =[0.5, 0, 0.5, 0, 0, 0, 0, 0, 0, 0, 0, 0, 0, 0, 0, 0]\n",
            "State=4, prob vec =[0, 0.5, 0, 0.5, 0, 0, 0, 0, 0, 0, 0, 0, 0, 0, 0, 0]\n",
            "State=5, prob vec =[0.5, 0, 0.5, 0, 0, 0, 0, 0, 0, 0, 0, 0, 0, 0, 0, 0]\n",
            "State=6, prob vec =[0, 0.5, 0, 0.5, 0, 0, 0, 0, 0, 0, 0, 0, 0, 0, 0, 0]\n",
            "State=7, prob vec =[0.5, 0, 0.5, 0, 0, 0, 0, 0, 0, 0, 0, 0, 0, 0, 0, 0]\n",
            "State=8, prob vec =[0, 0.5, 0, 0.5, 0, 0, 0, 0, 0, 0, 0, 0, 0, 0, 0, 0]\n",
            "State=9, prob vec =[0.5, 0, 0.5, 0, 0, 0, 0, 0, 0, 0, 0, 0, 0, 0, 0, 0]\n",
            "State=10, prob vec =[0, 0.5, 0, 0.5, 0, 0, 0, 0, 0, 0, 0, 0, 0, 0, 0, 0]\n",
            "State=11, prob vec =[0.5, 0, 0.5, 0, 0, 0, 0, 0, 0, 0, 0, 0, 0, 0, 0, 0]\n",
            "State=12, prob vec =[0, 0.5, 0, 0.5, 0, 0, 0, 0, 0, 0, 0, 0, 0, 0, 0, 0]\n",
            "State=13, prob vec =[0.5, 0, 0.5, 0, 0, 0, 0, 0, 0, 0, 0, 0, 0, 0, 0, 0]\n",
            "State=14, prob vec =[0, 0.5, 0, 0.5, 0, 0, 0, 0, 0, 0, 0, 0, 0, 0, 0, 0]\n",
            "State=15, prob vec =[0, 0, 0, 0, 0, 0, 0, 0, 0, 0, 0, 0, 0, 0, 1, 0]\n"
          ]
        },
        {
          "output_type": "stream",
          "name": "stderr",
          "text": [
            "<ipython-input-5-1bba9a107628>:34: DeprecationWarning: Parameter 'operand' of function 'control' has been renamed to 'stmt_block'. Parameter 'operand' will be deprecated in a future release.\n",
            "Hint: Change `control(ctrl=..., operand=...)` to `control(ctrl=..., stmt_block=...)` or `control(..., ...)`.\n",
            "  control(ctrl=vertices==i,\n",
            "<ipython-input-5-1bba9a107628>:35: DeprecationWarning: Parameters 'compute' and 'action' of function 'within_apply' have been renamed to 'within' and 'apply' respectively. Parameters 'compute' and 'action' will be deprecated in a future release.\n",
            "Hint: Change `within_apply(compute=..., action=...)` to `within_apply(within=..., apply=...)` or `within_apply(..., ...)`.\n",
            "  operand=lambda: within_apply(\n",
            "<ipython-input-5-1bba9a107628>:18: DeprecationWarning: Parameters 'compute' and 'action' of function 'within_apply' have been renamed to 'within' and 'apply' respectively. Parameters 'compute' and 'action' will be deprecated in a future release.\n",
            "Hint: Change `within_apply(compute=..., action=...)` to `within_apply(within=..., apply=...)` or `within_apply(..., ...)`.\n",
            "  within_apply(compute=lambda: prepare_minus(aux),\n",
            "<ipython-input-5-1bba9a107628>:61: DeprecationWarning: Parameter 'operand' of function 'control' has been renamed to 'stmt_block'. Parameter 'operand' will be deprecated in a future release.\n",
            "Hint: Change `control(ctrl=..., operand=...)` to `control(ctrl=..., stmt_block=...)` or `control(..., ...)`.\n",
            "  control(ctrl= res==1,\n"
          ]
        },
        {
          "output_type": "stream",
          "name": "stdout",
          "text": [
            "Opening: https://platform.classiq.io/circuit/43544afe-e17f-4997-9ef6-11dd6a50474b?version=0.45.0\n"
          ]
        }
      ]
    }
  ]
}