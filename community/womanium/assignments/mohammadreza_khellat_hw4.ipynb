{
 "cells": [
  {
   "cell_type": "markdown",
   "id": "9e5e3cd8",
   "metadata": {},
   "source": [
    "# Advanced Algorithms Design"
   ]
  },
  {
   "cell_type": "markdown",
   "id": "671b4224-fc7b-49e0-be06-a1b090ee334d",
   "metadata": {},
   "source": [
    "## Final assignment"
   ]
  },
  {
   "cell_type": "markdown",
   "id": "b807f791-2af7-4a8b-aacb-4ba76d1516e3",
   "metadata": {},
   "source": [
    "Follow the example from [Bootcamp 4](https://www.youtube.com/watch?v=kHJLwfDUSWI&list=PL_wGNAk5B0pXq98BJBKsbNH2Qjp1lk8dG&index=31&ab_channel=WOMANIUM) for creating the quantum walk operator for the case of a circle with 4 nodes, and design the quantum walk operator for the case of a line with 16 nodes:"
   ]
  },
  {
   "cell_type": "markdown",
   "id": "49d102c1",
   "metadata": {},
   "source": [
    "<img src=\"data:image/png;base64,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\" />"
   ]
  },
  {
   "cell_type": "markdown",
   "id": "74f8f5ea",
   "metadata": {
    "jp-MarkdownHeadingCollapsed": true
   },
   "source": [
    "## Theory"
   ]
  },
  {
   "cell_type": "markdown",
   "id": "29a19e75-c227-4229-8d16-aa72f1d6eb9e",
   "metadata": {},
   "source": [
    "### random walk on graph $G$"
   ]
  },
  {
   "cell_type": "markdown",
   "id": "23b71f0e-2675-4f11-b605-0e26e76e54a2",
   "metadata": {},
   "source": [
    "A random walk on a graph $G = (V, E)$ is a Markov Chain defined as follows:\n",
    "- __States__ : each vertex of $G$ represents a state of the Markov Chain\n",
    "- __Transition Probabilities__ : transition probability from vertex $u$ to the adjacent vertex $v$ is $1/d(u)$ where $d(u)$ is the degree of the vertex $u$ and if $d(u) = 0$ then all transition probabilities from $u$ to any vertices including itself would be $0$.\n",
    "\n",
    "For our problem, we have 16 vertices which could be encoded woth 4 qubits; consequently, our Markov Chain states would be encoded by:\n",
    "\n",
    "$$\n",
    "\\left\\{ \n",
    "|0\\rangle, \n",
    "|1\\rangle, \n",
    "|2\\rangle, \n",
    "\\ldots, \n",
    "|15\\rangle\n",
    "\\right\\}\n",
    "$$\n",
    "\n",
    "where $|0\\rangle = |0000\\rangle$, $|1\\rangle = |0001\\rangle$, $|2\\rangle = |0010\\rangle$ and so forth."
   ]
  },
  {
   "cell_type": "markdown",
   "id": "abb62cbf",
   "metadata": {},
   "source": [
    "### why do we study random walks"
   ]
  },
  {
   "cell_type": "markdown",
   "id": "3565f2e0-3916-425a-84a8-252d561cfdf3",
   "metadata": {},
   "source": [
    "Random walks have a wide range of applications in different fields. In the field of Complexity theory, the decision problem of finding whether two verices $u$ and $v$ are connected in a graph $G$ is a [_complete problem_](https://en.wikipedia.org/wiki/Complete_(complexity)) for the class of [_logarithmic (L) space_ complexity](https://en.wikipedia.org/wiki/L_(complexity)) and this complete problem can be solved using random walk. The L space complexity class is the calss of problems whose space (memory) requirements for input data encoding increases logarithmically with input data size. A complete problem in the L space class is amongst the hardest problems in that class and if one could prove that a complete problem is solvable, it means that all problems in that class are solvable."
   ]
  },
  {
   "cell_type": "markdown",
   "id": "212d2825",
   "metadata": {},
   "source": [
    "### space-bounded Quantum Turing Machine"
   ]
  },
  {
   "cell_type": "markdown",
   "id": "aeb51f2c-ed20-4bb3-b4a1-33f7d36c1089",
   "metadata": {},
   "source": [
    "A Quantum Turing Machine (QTM) is a machine that performs a computation by operating on qubits using Unitary transformations. Since the qubits could exist in superposition states, a QTM could follow multiple computation paths simultaneously of course with a relevant algorithm. A clear example of achieving such Quantum Parallelism is Grover's search algorithm.\n",
    "- The algorithm initializes with a superposition of all possible states (input values of $f(x)$ encoded as $2^n$ base kets $|x\\rangle$)\n",
    "  $$\n",
    "  | \\psi_0 \\rangle = H^{\\otimes n} |0\\rangle^{\\otimes n} = \\frac{1}{\\sqrt{N}} \\sum_{x=0}^{N-1} |x\\rangle\n",
    "  $$\n",
    "- The quantum oracle $U_f$ modifies $|\\psi_0 \\rangle$ to induce phase-kickbacks on the marked elements $x$ for which $f(x) = 1$\n",
    "  $$\n",
    "  U_f | \\psi_0 \\rangle = \\frac{1}{\\sqrt{N}} \\sum_{x=0}^{N-1} (-1)^{f(x)} |x\\rangle\n",
    "  $$\n",
    "- The Diffusion operator $U_s$ then amplifies the amplitudes of the marked elements by operating on the specific $U_f |\\psi_0\\rangle$ state. The impact of $U_s$ on the expansion coefficients of $U_f |\\psi_0\\rangle$ is to increase the coefficients of marked elements around the mean value of coefficients by a value of order $1/\\sqrt{N}$ and to reduce the coefficients of unmarked elements by the same value.The mean value for our specific $U_f |\\psi_0\\rangle$ (which contains all possible base kets within its expansion) could be found applying $( 1/\\sqrt{N} ) U_f |\\psi_0\\rangle \\langle 0| H^{\\otimes n}$ on $U_f |\\psi_0\\rangle$. The diffusion operator for the original version of Grover's search approximately calculates the mean value an is as follows:\n",
    "  $$\n",
    "  U_s = 2|\\psi_0\\rangle \\langle \\psi_0| - I = H^{\\otimes n} (2|0\\rangle \\langle 0| - I) H^{\\otimes n}\n",
    "  $$\n",
    "\n",
    "A space-bound QTM is a QTM that has restrictions on the amount of space (memory) used during computation. These would include restrictions on the input size being processed at each step as well as the records of the previous results. "
   ]
  },
  {
   "cell_type": "markdown",
   "id": "5bed82ca-4370-4aba-9224-5281f75010f5",
   "metadata": {},
   "source": [
    "### quantum random walk"
   ]
  },
  {
   "cell_type": "markdown",
   "id": "43ec088b-57a0-495a-9ced-48fdc19f2068",
   "metadata": {},
   "source": [
    "In order to create the quantum analogous of random walk after we have encoded vertices as the basis kets of a Hilbert space of logarithmic dimension, one has to find a unitary operator that operates on a specific vertex $|j\\rangle$ and generates the right sequence of probability amplitudes for a walk between two arbitrary nodes in the graph. A first choice for these probability amplitudes would be:\n",
    "$$\n",
    "| \\langle j | \\partial_j \\rangle| ^2 = \\frac{1}{d_j}\n",
    "$$\n",
    "where $d_j$ os the degree of the vertex $j$. However, obtaining a unitary operator that would transform $|j\\rangle$ to $|\\partial_j\\rangle$ is not in general possible even by introducing  state-dependent phases. To elaborate this point, consider the following expansion for $|\\partial_j\\rangle$:\n",
    "$$\n",
    "|\\partial_j\\rangle = \\frac{1}{\\sqrt{d_j}} \\sum_{k:(j,k) \\in E} \\exp(i\\phi_{jk})|k\\rangle.\n",
    "$$ "
   ]
  },
  {
   "cell_type": "code",
   "execution_count": null,
   "id": "29da94b2-8bc8-464c-a950-365caf4524d0",
   "metadata": {},
   "outputs": [],
   "source": [
    "import networkx as nx\n",
    "import matplotlib.pyplot as plt\n",
    "import matplotlib.patches as patches\n",
    "\n",
    "G = nx.Graph()\n",
    "G.add_nodes_from(['|a⟩', '|b⟩', '|c⟩'])\n",
    "G.add_edges_from([('|a⟩', '|b⟩'), ('|b⟩', '|c⟩'), ('|c⟩', '|a⟩')])\n",
    "\n",
    "fig, ax = plt.subplots(figsize=(3, 3))\n",
    "\n",
    "frame = patches.FancyBboxPatch((0, 0), 1, 1, boxstyle=\"round,pad=0.1\", edgecolor='gray', linewidth=1, facecolor='lightyellow', transform=ax.transAxes, clip_on=False)\n",
    "ax.add_patch(frame)\n",
    "\n",
    "pos = nx.spring_layout(G)\n",
    "nx.draw(G, pos, with_labels=True, node_size=1000, node_color='skyblue', font_size=12, font_color='black', font_weight='bold', edge_color='gray', linewidths=4, alpha=0.7, ax=ax)\n",
    "\n",
    "ax.set_xlim(-1.3, 1.3)\n",
    "ax.set_ylim(-1.3, 1.3)\n",
    "ax.axis('off')\n",
    "\n",
    "plt.show()\n"
   ]
  },
  {
   "cell_type": "markdown",
   "id": "35095c28-a5eb-496c-a68c-1c6d74f78329",
   "metadata": {},
   "source": [
    "Calculating $\\langle \\partial_a | \\partial_b \\rangle$ for the above situation, in which two nodes $|a\\rangle$ and $|b\\rangle$ share ONLY one adjacent node $|c\\rangle$, would result in :\n",
    "$$\n",
    "\\langle \\partial_a | \\partial_b \\rangle = \\exp{ (i \\delta_{ab})} \\neq 0,\\quad \\delta_{ab} = \\phi_{ac} - \\phi_{bc} .\n",
    "$$\n",
    "This clearly breaks down the orthogonality of $|a\\rangle$ and $|b\\rangle$ after their transformation into $|\\partial_a\\rangle$ and $|\\partial_b\\rangle$ <span style=\"color: red;\">even in the presence of tunable phases</span>.\n",
    "\n",
    "A recipe for this could be obtained by sticking to an un-phased $|\\partial_j\\rangle$\n",
    "$$\n",
    "|\\partial_j\\rangle = \\frac{1}{\\sqrt{d_j}} \\sum_{k:(j,k) \\in E} |k\\rangle ,\n",
    "$$\n",
    "and formulating quantum random walk using two registers $|j, k\\rangle = |j\\rangle \\otimes |k\\rangle$ instead of one. First, we introduce the operator $C$ which acts like a coin flip to shift the second register $|k\\rangle>$ towards $( 2/\\sqrt{d_j}) |\\partial_j\\rangle - |k\\rangle$ and at the same time keeping the first register $|j\\rangle$ unchanged :\n",
    "$$\n",
    "C := \\sum_{j \\in V} | j \\rangle\\langle j | \\otimes \\left( 2 |\\partial_j\\rangle\\langle\\partial_j| - I \\right) .\n",
    "$$\n",
    "The second registered is transformed, using a diffusion operator, into a superposition of all adjacent vertices of $|j\\rangle$ with positive coefficients of $2/d_j$ with the exception of the vertex $|k\\rangle$ whose coefficient has been negated or zeroed out ( when $d_j = 2$ ) to be __marked__ as the direction of this step of the walk.\n",
    "\n",
    "At the end of each step of the walk, we have departed from the first register to the second one; henceforth, the first and second registers should be swapped using the operator $S$ :\n",
    "$$\n",
    "S := \\sum_{(k,j) \\in E} |k, j \\rangle\\langle j, k|\n",
    "$$\n",
    "\n",
    "As an example, lets follow two steps of the walk to confirm that the sequence of probabilities are properly captured by the unitary operator $SC$. The first step is formulated as :\n",
    "$$\n",
    "SC |j, k\\rangle = \\frac{2}{\\sqrt{d_j}} |\\partial_j, j\\rangle - |k, j\\rangle\n",
    "$$\n",
    "Now for the second step, it is like we have a superposition of all neighbors of $|j\\rangle$ as the first register as we expected and therefor the probability space of the random walk is accurately expanding in the right directions while at the same time marking the direction of each step of the walk by subtracting that node from the neighbors superpositions :\n",
    "$$\n",
    "\\begin{split}\n",
    "C |\\partial_j, j\\rangle &= \\frac{1}{\\sqrt{d_j}} \\sum_{l: (j, l) \\in E} C |l, j\\rangle = \\frac{1}{\\sqrt{d_j}} \\sum_{l: (j, l) \\in E} \\left[\\;|l\\rangle\\langle l | \\otimes (2 |\\partial_l \\rangle\\langle \\partial_l | - I )\\;\\right]\\;\\;|l, j\\rangle = \\left( \\sum_{l: (j, l) \\in E} \\frac{2}{\\sqrt{d_j d_l}} |l, \\partial_l\\rangle \\right) - \\underline{|\\partial_j, j\\rangle} \\\\\n",
    "C |k, j\\rangle &= \\frac{2}{\\sqrt{d_k}} | k, \\partial_k \\rangle - \\underline{|k, j\\rangle}\n",
    "\\end{split}\n",
    "$$\n",
    "\n",
    "As expected, in the next step of the walk, we are dealing with the propagation of the walk to neighbors of the neighbors of the initial vertex $|j\\rangle$ including itself as one of the neighbors of the neighbors. Specifically, the underlined terms _mark_ return to $|j\\rangle$"
   ]
  },
  {
   "cell_type": "markdown",
   "id": "1600fb4c-785d-43ca-bad8-9ec556e2880a",
   "metadata": {},
   "source": [
    "## Implementation in Classiq"
   ]
  },
  {
   "cell_type": "code",
   "execution_count": null,
   "id": "b1fd7048-d516-485d-9959-b641400e2d31",
   "metadata": {},
   "outputs": [],
   "source": [
    "# Execute this cell if you are not already authenticated\n",
    "# and do not have a valid API token\n",
    "import os\n",
    "import classiq\n",
    "# connecting through proxy\n",
    "os.environ['http_proxy'] = \"http://127.0.0.1:20171\" \n",
    "os.environ['https_proxy'] = \"http://127.0.0.1:20171\"\n",
    "classiq.authenticate()"
   ]
  },
  {
   "cell_type": "markdown",
   "id": "57157e44-1bea-4805-82a2-ebf72b006404",
   "metadata": {},
   "source": [
    "For the problem in hand 16 nodes of the graph are to be encoded as qubits. As mentioned before, the space requirements for this is logarithmic."
   ]
  },
  {
   "cell_type": "code",
   "execution_count": null,
   "id": "8dbbda39-5f97-4027-97c1-e7d30bcea2d8",
   "metadata": {},
   "outputs": [],
   "source": [
    "import numpy as np\n",
    "\n",
    "from classiq import *\n",
    "\n",
    "from classiq.execution import ExecutionPreferences\n",
    "\n",
    "from classiq.qmod.symbolic import logical_or, logical_and\n",
    "\n",
    "size = 4"
   ]
  },
  {
   "cell_type": "markdown",
   "id": "53ca054a-6104-4cb3-977c-8a337977efae",
   "metadata": {},
   "source": [
    "### control-diffusion operator $C$"
   ]
  },
  {
   "cell_type": "markdown",
   "id": "0696c1c8-c30c-4445-9eaf-9fb6bbd4e867",
   "metadata": {},
   "source": [
    "It is possible to write down the diffuser (_coin flip_) part of the operator $C$ in terms of the __zero state diffuser__ operator $( 2 |0 \\rangle\\langle 0| - I )$ using $U_j |0\\rangle = |\\partial_j\\rangle$ :\n",
    "$$\n",
    "2 |\\partial_j\\rangle\\langle\\partial_j | - I = U_j (2 |0\\rangle\\langle 0 | - I) U^{\\dagger}_j.\n",
    "$$\n",
    "An implementation of `zero_diffuzer(x: QNum)` which induces phase kickback on non-$|0\\rangle$ states could be achieved utilizing an oracle.\n",
    "$$\n",
    "U_f |x\\rangle |-\\rangle = \\frac{1}{\\sqrt{2}} \\left(U_f |x\\rangle|0\\rangle - U_f |x\\rangle|1\\rangle \\right) = \\frac{1}{\\sqrt{2}} \\left( |x\\rangle|0 \\oplus f(x)\\rangle - |x\\rangle|1 \\oplus f(x)\\rangle \\right) = (-1)^{f(x)} |x\\rangle |-\\rangle\n",
    "$$"
   ]
  },
  {
   "cell_type": "code",
   "execution_count": null,
   "id": "d122912f-ac33-4bed-881e-5cf4584e423f",
   "metadata": {},
   "outputs": [],
   "source": [
    "import matplotlib.pyplot as plt\n",
    "import matplotlib.patches as patches\n",
    "\n",
    "fig, ax = plt.subplots()\n",
    "\n",
    "rect = patches.Rectangle((0.3, 0.4), 0.4, 0.4, linewidth=1, edgecolor='black', facecolor='none')\n",
    "ax.add_patch(rect)\n",
    "plt.text(0.5, 0.7, 'zero_diffuzer(x: QNum)', horizontalalignment='center', verticalalignment='center', color='gray')\n",
    "plt.text(0.5, 0.6, r'$U_f$ (diffusion oracle)', horizontalalignment='center', verticalalignment='center')\n",
    "plt.text(0.5, 0.55, r'$f(x) = ( x != 0 )$', horizontalalignment='center', verticalalignment='center')\n",
    "\n",
    "ax.annotate('', xy=(0.3, 0.7), xytext=(0.0, 0.7), arrowprops=dict(facecolor='black', shrink=0.05))\n",
    "ax.annotate('', xy=(0.3, 0.5), xytext=(0.0, 0.5), arrowprops=dict(facecolor='black', shrink=0.05))\n",
    "ax.annotate('', xy=(1.0, 0.7), xytext=(0.7, 0.7), arrowprops=dict(facecolor='black', shrink=0.05))\n",
    "ax.annotate('', xy=(1.0, 0.5), xytext=(0.7, 0.5), arrowprops=dict(facecolor='black', shrink=0.05))\n",
    "\n",
    "plt.text(0.15, 0.75, r'$|x\\rangle_n$', horizontalalignment='center')\n",
    "plt.text(0.15, 0.55, r'$|-\\rangle$', horizontalalignment='center')\n",
    "plt.text(0.85, 0.75, r'$(-1)^{f(x)}|x\\rangle_n$', horizontalalignment='center')\n",
    "plt.text(0.85, 0.55, r'$|-\\rangle$', horizontalalignment='center')\n",
    "\n",
    "ax.set_xlim(0, 1)\n",
    "ax.set_ylim(0, 1)\n",
    "ax.axis('off')\n",
    "\n",
    "plt.show()"
   ]
  },
  {
   "cell_type": "markdown",
   "id": "e1740e45-4cfd-4af9-bf59-12b24dca728c",
   "metadata": {},
   "source": [
    "Classiq deployment of the `zero_diffuzer` machinery would be as follows:"
   ]
  },
  {
   "cell_type": "code",
   "execution_count": null,
   "id": "af6f5972-3b2e-47d1-88a1-7fede930122c",
   "metadata": {},
   "outputs": [],
   "source": [
    "@qfunc\n",
    "# this function prepares the |-> state as \n",
    "# the target (aux) qubit for the oracle\n",
    "def prepare_minus(x: QBit):\n",
    "    X(x)\n",
    "    H(x)\n",
    "\n",
    "    \n",
    "@qfunc\n",
    "# this function does aux XOR (x !=0 ) to generate \n",
    "# 0 when (aux = 0, x = 0) or (aux = 1, x ~= 0) and \n",
    "# 1 when (aux = 1, x = 0) or (aux = 0, x ~= 0)\n",
    "def diffuzer_oracle(aux: Output[QNum], x: QNum):\n",
    "    aux ^= (x != 0)\n",
    "\n",
    "\n",
    "@qfunc\n",
    "# this is the whole phase kick-back machine to \n",
    "# induce a minus sign for non-zero states\n",
    "def zero_diffuzer(x: QNum):\n",
    "    aux = QNum('aux')\n",
    "    allocate(1, aux)\n",
    "    within_apply(compute = lambda: prepare_minus(aux),\n",
    "                 action = lambda: diffuzer_oracle)"
   ]
  },
  {
   "cell_type": "markdown",
   "id": "f4f1049f-dbc7-4710-b829-0cce95f110f9",
   "metadata": {},
   "source": [
    "Now for the full $C$ operator we need to make sure that $U_j$ is related to the first register $|j\\rangle$ using the control operator $|j\\rangle\\langle j|$ and also to iterate through all vertices. This would be achieved using the following snippet of code."
   ]
  },
  {
   "cell_type": "code",
   "execution_count": null,
   "id": "1b871ba3-10e7-44c0-9174-8c3b49595a33",
   "metadata": {},
   "outputs": [],
   "source": [
    "def W_iteration(i: int, vertices: QNum, adjacent_vertices: QNum):\n",
    "    # prepare amplitudes for |\\partial_i> states\n",
    "    prob = np.zeros(2**size)\n",
    "    if i == 0:\n",
    "        prob[i + 1] = 1.0\n",
    "    elif i == 15:\n",
    "        prob[i - 1] = 1.0\n",
    "    else:    \n",
    "        prob[i + 1] = 0.5\n",
    "        prob[i - 1] = 0.5\n",
    "    print(f'State = {i}, prob vec = {prob}')\n",
    "    \n",
    "    # control vertex is |i> itself and action \n",
    "    # is the diffusion of the second register, \n",
    "    # i.e. adjacent vertices of |i>\n",
    "    control(ctrl = vertices == i,\n",
    "            operand = lambda: within_apply(\n",
    "                compute = lambda: inplace_prepare_state(probabilities = prob.tolist(), bound = 0.01, target = adjacent_vertices),\n",
    "                action = lambda: zero_diffuzer(adjacent_vertices)))\n",
    "\n",
    "\n",
    "@qfunc \n",
    "def W_operator(vertices: QNum, adjacent_vertices: QNum):\n",
    "    for i in range(2**size):\n",
    "        W_iteration(i, vertices, adjacent_vertices)"
   ]
  },
  {
   "cell_type": "markdown",
   "id": "7433033f-9b4a-4316-bb1e-462f53a23538",
   "metadata": {},
   "source": [
    "### swap operator $S$ implementation"
   ]
  },
  {
   "cell_type": "markdown",
   "id": "7266961c-e527-4e56-8c8c-87aac20797c8",
   "metadata": {},
   "source": [
    "The challenge to deploy the $S$ operator is mainly related to the sum over $(j, k) \\in E$, i.e. to identify and sum over connected vertices. For this, the variable `res` is used as a control variable to check if two vertices are connected in `edge_oracle(res: Output[QBit], vertices: QNum, adjacent_vertices: QNum)`. Using this ctrl variable in `S_operator(vertices: QNum, adjacent_vertices: QNum)`, a bitwise swap is applied to $|j\\rangle$ and $|k\\rangle$ if `edge_oracle(res, j, k)` generates 1 for `res`."
   ]
  },
  {
   "cell_type": "code",
   "execution_count": null,
   "id": "65b48234-1a94-44b3-a767-978b2c90204a",
   "metadata": {},
   "outputs": [],
   "source": [
    "@qfunc\n",
    "def edge_oracle(res: Output[QBit], vertices: QNum, adjacent_vertices: QNum):\n",
    "    # in the case of the linear graph of our problem,\n",
    "    # |0> and |15> are not connected.\n",
    "    # -----------------------------------------------\n",
    "    # it seems that formulating res using the modulo\n",
    "    # operator leads to better width and depth\n",
    "    # -----------------------------------------------\n",
    "    #res |= logical_or((vertices - adjacent_vertices == 1), (adjacent_vertices - vertices == 1))\n",
    "    res |= logical_or((vertices - adjacent_vertices) % 16 == 1, (adjacent_vertices - vertices) % 16 == 1)\n",
    "\n",
    "\n",
    "@qfunc \n",
    "def bitwise_swap(x: QArray[QBit], y: QArray[QBit]):\n",
    "    repeat(count= x.len,\n",
    "           iteration= lambda i: SWAP(x[i],y[i]))\n",
    "  \n",
    "\n",
    "@qfunc \n",
    "def S_operator(vertices: QNum, adjacent_vertices: QNum):\n",
    "    res = QNum('res')\n",
    "    edge_oracle(res, vertices, adjacent_vertices)\n",
    "    control(ctrl = res == 1,\n",
    "        operand= lambda: bitwise_swap(vertices, adjacent_vertices))"
   ]
  },
  {
   "cell_type": "markdown",
   "id": "02534449-c64b-43c0-92e6-908ad995c3a7",
   "metadata": {},
   "source": [
    "## implementing `main` and creating the program"
   ]
  },
  {
   "cell_type": "markdown",
   "id": "41b0502b-8ee1-4ecb-8a84-5944af33e559",
   "metadata": {},
   "source": [
    "Now the sequence of operations on the two registers $|j, k\\rangle$ in which $|j\\rangle$ and $|k\\rangle$ are adjacent vertices could be coded in the `main(vertices:Output[QNum], adjacent_vertices:Output[QNum])` qfunc as follows:"
   ]
  },
  {
   "cell_type": "code",
   "execution_count": null,
   "id": "4514dcf7-1df0-4759-9324-8a43b9013670",
   "metadata": {},
   "outputs": [],
   "source": [
    "@qfunc \n",
    "def main(vertices:Output[QNum], adjacent_vertices:Output[QNum]):\n",
    "\n",
    "  allocate(size, vertices)\n",
    "  hadamard_transform(vertices)\n",
    "  allocate(size, adjacent_vertices)\n",
    "\n",
    "  W_operator(vertices, adjacent_vertices)\n",
    "  S_operator(vertices, adjacent_vertices)"
   ]
  },
  {
   "cell_type": "markdown",
   "id": "6feb7699-9526-4f11-b487-bfd46c46d901",
   "metadata": {},
   "source": [
    "And finally, the program could be synthesized (depth of the normally synthesized circuit exceeds 25)."
   ]
  },
  {
   "cell_type": "code",
   "execution_count": null,
   "id": "64977e1c-4232-41f3-9ee8-8b8119c514ff",
   "metadata": {
    "scrolled": true
   },
   "outputs": [],
   "source": [
    "qmod = create_model(main)\n",
    "qprog = synthesize(qmod)\n",
    "show(qprog)"
   ]
  }
 ],
 "metadata": {
  "kernelspec": {
   "display_name": "Python 3 (ipykernel)",
   "language": "python",
   "name": "python3"
  },
  "language_info": {
   "codemirror_mode": {
    "name": "ipython",
    "version": 3
   },
   "file_extension": ".py",
   "mimetype": "text/x-python",
   "name": "python",
   "nbconvert_exporter": "python",
   "pygments_lexer": "ipython3",
   "version": "3.11.9"
  },
  "varInspector": {
   "cols": {
    "lenName": 16,
    "lenType": 16,
    "lenVar": 40
   },
   "kernels_config": {
    "python": {
     "delete_cmd_postfix": "",
     "delete_cmd_prefix": "del ",
     "library": "var_list.py",
     "varRefreshCmd": "print(var_dic_list())"
    },
    "r": {
     "delete_cmd_postfix": ") ",
     "delete_cmd_prefix": "rm(",
     "library": "var_list.r",
     "varRefreshCmd": "cat(var_dic_list()) "
    }
   },
   "types_to_exclude": [
    "module",
    "function",
    "builtin_function_or_method",
    "instance",
    "_Feature"
   ],
   "window_display": false
  }
 },
 "nbformat": 4,
 "nbformat_minor": 5
}
