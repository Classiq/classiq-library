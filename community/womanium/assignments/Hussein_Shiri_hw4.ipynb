{
  "nbformat": 4,
  "nbformat_minor": 0,
  "metadata": {
    "colab": {
      "provenance": []
    },
    "kernelspec": {
      "name": "python3",
      "display_name": "Python 3"
    },
    "language_info": {
      "name": "python"
    }
  },
  "cells": [
    {
      "cell_type": "markdown",
      "source": [
        "### Quantum walk:\n",
        "\n",
        "1. Quantum walk for a circle with 4 vertices.\n",
        "2. Non-random quantum walk for a line with 16 vertices.\n",
        "3. Random quantum walk for a line with 16 vertices."
      ],
      "metadata": {
        "id": "1cYCpTYE03te"
      }
    },
    {
      "cell_type": "markdown",
      "source": [
        "Done by: Hussein Shiri\n",
        "\n",
        "Part of the Womanium program 2024\n",
        "\n",
        "Email: hussein.shiri9@gmail.com"
      ],
      "metadata": {
        "id": "efLzyOt41Uez"
      }
    },
    {
      "cell_type": "code",
      "execution_count": 23,
      "metadata": {
        "id": "OU_424gPi6Ss"
      },
      "outputs": [],
      "source": [
        "#!pip install classiq"
      ]
    },
    {
      "cell_type": "markdown",
      "source": [
        "### Quantum walk for a circle with 4 vertices."
      ],
      "metadata": {
        "id": "MKZFDV0M1j_S"
      }
    },
    {
      "cell_type": "markdown",
      "source": [
        "Preparing the qubit in minus state for phase kickback, and preparing the diffusor oracle."
      ],
      "metadata": {
        "id": "nnk3_0p811Jk"
      }
    },
    {
      "cell_type": "code",
      "source": [
        "from classiq import *\n",
        "\n",
        "@qfunc\n",
        "def prepare_minus(x: QBit):\n",
        "  X(x)\n",
        "  H(x)\n",
        "\n",
        "@qfunc\n",
        "def diffuzer_oracle(aux: Output[QNum],x:QNum):\n",
        "  aux^=(x!=0)"
      ],
      "metadata": {
        "id": "Nn6XUAPsj-ya"
      },
      "execution_count": 24,
      "outputs": []
    },
    {
      "cell_type": "markdown",
      "source": [
        "Prepares the qubit in the minus state then unprepares it after applying the oracle using within_apply function."
      ],
      "metadata": {
        "id": "SvdfY8mV2OLn"
      }
    },
    {
      "cell_type": "code",
      "source": [
        "@qfunc\n",
        "def zero_diffuzer(x: QNum):\n",
        "  aux = QNum('aux')\n",
        "  allocate(1,aux)\n",
        "  within_apply(compute=lambda: prepare_minus(aux),\n",
        "              action=lambda: diffuzer_oracle)"
      ],
      "metadata": {
        "id": "eyxBRRS7kSEy"
      },
      "execution_count": 25,
      "outputs": []
    },
    {
      "cell_type": "markdown",
      "source": [
        "Preparing the function to build the operator W, in another cell the S operator will be built. It is important to mention that 2 operators were mentioned in the session using the explanation from Andrew Childs lecture notes."
      ],
      "metadata": {
        "id": "K775Wb9n2ZKI"
      }
    },
    {
      "cell_type": "code",
      "source": [
        "def W_iteration(i:int,vertices: QNum, adjacent_vertices:QNum):\n",
        "    prob = [0,0,0,0]\n",
        "    prob[(i+1)% 4]=0.5\n",
        "    prob[(i-1)% 4]=0.5\n",
        "    print(f'State={i}, prob vec ={prob}')\n",
        "\n",
        "    control(ctrl=vertices==i,\n",
        "            operand=lambda: within_apply(\n",
        "              compute= lambda: inplace_prepare_state(probabilities=prob, bound=0.01, target=adjacent_vertices),\n",
        "              action= lambda: zero_diffuzer(adjacent_vertices)))"
      ],
      "metadata": {
        "id": "-jVoBzWb2Vjc"
      },
      "execution_count": 26,
      "outputs": []
    },
    {
      "cell_type": "markdown",
      "source": [
        "Performing the operations and using both operators S and W. Note that size = 2 is because we are using a number of vertices = 2**size"
      ],
      "metadata": {
        "id": "cYjiTWu22pIr"
      }
    },
    {
      "cell_type": "code",
      "source": [
        "size = 2\n",
        "\n",
        "\n",
        "@qfunc\n",
        "def W_operator(vertices:QNum, adjacent_vertices: QNum):\n",
        "    for i in range(2**size):\n",
        "      W_iteration(i,vertices,adjacent_vertices)\n",
        "\n",
        "\n",
        "@qfunc\n",
        "def edge_oracle(res:Output[QBit], vertices: QNum, adjacent_vertices: QNum):\n",
        "  res |= (((vertices+adjacent_vertices)%2) ==1)\n",
        "\n",
        "\n",
        "@qfunc\n",
        "def bitwise_swap(x: QArray[QBit], y:QArray[QBit]):\n",
        "  repeat(count= x.len,\n",
        "    iteration= lambda i: SWAP(x[i],y[i]))\n",
        "\n",
        "\n",
        "@qfunc\n",
        "def S_operator(vertices:QNum, adjacent_vertices: QNum):\n",
        "    res = QNum('res')\n",
        "    edge_oracle(res,vertices,adjacent_vertices)\n",
        "    control(ctrl= res==1,\n",
        "        operand= lambda: bitwise_swap(vertices,adjacent_vertices))\n",
        "\n",
        "@qfunc\n",
        "def main(vertices:Output[QNum], adjacent_vertices:Output[QNum]):\n",
        "\n",
        "  allocate(size,vertices)\n",
        "  hadamard_transform(vertices)\n",
        "  allocate(size,adjacent_vertices)\n",
        "\n",
        "  W_operator(vertices,adjacent_vertices)\n",
        "  S_operator(vertices,adjacent_vertices)\n",
        "\n",
        "qmod = create_model(main)\n",
        "#qprog = synthesize(qmod)\n",
        "#show(qprog)"
      ],
      "metadata": {
        "colab": {
          "base_uri": "https://localhost:8080/"
        },
        "id": "hfTtRihTjSFk",
        "outputId": "e9450bd0-a0f5-4aa8-9580-34b0c7705cd0"
      },
      "execution_count": 27,
      "outputs": [
        {
          "output_type": "stream",
          "name": "stdout",
          "text": [
            "State=0, prob vec =[0, 0.5, 0, 0.5]\n",
            "State=1, prob vec =[0.5, 0, 0.5, 0]\n",
            "State=2, prob vec =[0, 0.5, 0, 0.5]\n",
            "State=3, prob vec =[0.5, 0, 0.5, 0]\n"
          ]
        },
        {
          "output_type": "stream",
          "name": "stderr",
          "text": [
            "<ipython-input-26-55f76f9620a3>:7: DeprecationWarning: Parameter 'operand' of function 'control' has been renamed to 'stmt_block'. Parameter 'operand' will be deprecated in a future release.\n",
            "Hint: Change `control(ctrl=..., operand=...)` to `control(ctrl=..., stmt_block=...)` or `control(..., ...)`.\n",
            "  control(ctrl=vertices==i,\n",
            "<ipython-input-26-55f76f9620a3>:8: DeprecationWarning: Parameters 'compute' and 'action' of function 'within_apply' have been renamed to 'within' and 'apply' respectively. Parameters 'compute' and 'action' will be deprecated in a future release.\n",
            "Hint: Change `within_apply(compute=..., action=...)` to `within_apply(within=..., apply=...)` or `within_apply(..., ...)`.\n",
            "  operand=lambda: within_apply(\n",
            "<ipython-input-25-a9f39e4d24ac>:5: DeprecationWarning: Parameters 'compute' and 'action' of function 'within_apply' have been renamed to 'within' and 'apply' respectively. Parameters 'compute' and 'action' will be deprecated in a future release.\n",
            "Hint: Change `within_apply(compute=..., action=...)` to `within_apply(within=..., apply=...)` or `within_apply(..., ...)`.\n",
            "  within_apply(compute=lambda: prepare_minus(aux),\n",
            "<ipython-input-27-4610562c7343>:25: DeprecationWarning: Parameter 'operand' of function 'control' has been renamed to 'stmt_block'. Parameter 'operand' will be deprecated in a future release.\n",
            "Hint: Change `control(ctrl=..., operand=...)` to `control(ctrl=..., stmt_block=...)` or `control(..., ...)`.\n",
            "  control(ctrl= res==1,\n"
          ]
        }
      ]
    },
    {
      "cell_type": "markdown",
      "source": [
        "### Non-random quantum walk for a line with 16 vertices"
      ],
      "metadata": {
        "id": "XeuoV-mG3nw2"
      }
    },
    {
      "cell_type": "markdown",
      "source": [
        "For this task we need a line of 16 vertices, of course there is no edges between the first and last vertex of the line since we are using a line and not a circle."
      ],
      "metadata": {
        "id": "DgIbAZ-53pWL"
      }
    },
    {
      "cell_type": "code",
      "source": [
        "def W_iteration(i:int,vertices: QNum, adjacent_vertices:QNum):\n",
        "    prob = [0,0,0,0]*4\n",
        "    prob[i]=0.5\n",
        "    prob[i+1]=0.5\n",
        "    print(f'State={i}, prob vec ={prob}')\n",
        "\n",
        "    control(ctrl=vertices==i,\n",
        "            operand=lambda: within_apply(\n",
        "              compute= lambda: inplace_prepare_state(probabilities=prob, bound=0.01, target=adjacent_vertices),\n",
        "              action= lambda: zero_diffuzer(adjacent_vertices)))"
      ],
      "metadata": {
        "id": "HxEk06GhjSIO"
      },
      "execution_count": 28,
      "outputs": []
    },
    {
      "cell_type": "code",
      "source": [
        "size = 4\n",
        "\n",
        "\n",
        "@qfunc\n",
        "def W_operator(vertices:QNum, adjacent_vertices: QNum):\n",
        "    for i in range(2**size-1):\n",
        "      W_iteration(i,vertices,adjacent_vertices)\n",
        "\n",
        "\n",
        "@qfunc\n",
        "def edge_oracle(res:Output[QBit], vertices: QNum, adjacent_vertices: QNum):\n",
        "  res |= (((vertices+adjacent_vertices)%2) ==1)\n",
        "\n",
        "\n",
        "@qfunc\n",
        "def bitwise_swap(x: QArray[QBit], y:QArray[QBit]):\n",
        "  repeat(count= x.len,\n",
        "    iteration= lambda i: SWAP(x[i],y[i]))\n",
        "\n",
        "\n",
        "@qfunc\n",
        "def S_operator(vertices:QNum, adjacent_vertices: QNum):\n",
        "    res = QNum('res')\n",
        "    edge_oracle(res,vertices,adjacent_vertices)\n",
        "    control(ctrl= res==1,\n",
        "        operand= lambda: bitwise_swap(vertices,adjacent_vertices))\n",
        "\n",
        "@qfunc\n",
        "def main(vertices:Output[QNum], adjacent_vertices:Output[QNum]):\n",
        "\n",
        "  allocate(size,vertices)\n",
        "  hadamard_transform(vertices)\n",
        "  allocate(size,adjacent_vertices)\n",
        "\n",
        "  W_operator(vertices,adjacent_vertices)\n",
        "  S_operator(vertices,adjacent_vertices)\n",
        "\n",
        "qmod = create_model(main)"
      ],
      "metadata": {
        "colab": {
          "base_uri": "https://localhost:8080/"
        },
        "id": "eRfcwTePjSK0",
        "outputId": "d4ccc10d-56be-4c0c-8207-e8c261bf9715"
      },
      "execution_count": 29,
      "outputs": [
        {
          "output_type": "stream",
          "name": "stdout",
          "text": [
            "State=0, prob vec =[0.5, 0.5, 0, 0, 0, 0, 0, 0, 0, 0, 0, 0, 0, 0, 0, 0]\n",
            "State=1, prob vec =[0, 0.5, 0.5, 0, 0, 0, 0, 0, 0, 0, 0, 0, 0, 0, 0, 0]\n",
            "State=2, prob vec =[0, 0, 0.5, 0.5, 0, 0, 0, 0, 0, 0, 0, 0, 0, 0, 0, 0]\n",
            "State=3, prob vec =[0, 0, 0, 0.5, 0.5, 0, 0, 0, 0, 0, 0, 0, 0, 0, 0, 0]\n",
            "State=4, prob vec =[0, 0, 0, 0, 0.5, 0.5, 0, 0, 0, 0, 0, 0, 0, 0, 0, 0]\n",
            "State=5, prob vec =[0, 0, 0, 0, 0, 0.5, 0.5, 0, 0, 0, 0, 0, 0, 0, 0, 0]\n",
            "State=6, prob vec =[0, 0, 0, 0, 0, 0, 0.5, 0.5, 0, 0, 0, 0, 0, 0, 0, 0]\n",
            "State=7, prob vec =[0, 0, 0, 0, 0, 0, 0, 0.5, 0.5, 0, 0, 0, 0, 0, 0, 0]\n",
            "State=8, prob vec =[0, 0, 0, 0, 0, 0, 0, 0, 0.5, 0.5, 0, 0, 0, 0, 0, 0]\n",
            "State=9, prob vec =[0, 0, 0, 0, 0, 0, 0, 0, 0, 0.5, 0.5, 0, 0, 0, 0, 0]\n",
            "State=10, prob vec =[0, 0, 0, 0, 0, 0, 0, 0, 0, 0, 0.5, 0.5, 0, 0, 0, 0]\n",
            "State=11, prob vec =[0, 0, 0, 0, 0, 0, 0, 0, 0, 0, 0, 0.5, 0.5, 0, 0, 0]\n",
            "State=12, prob vec =[0, 0, 0, 0, 0, 0, 0, 0, 0, 0, 0, 0, 0.5, 0.5, 0, 0]\n",
            "State=13, prob vec =[0, 0, 0, 0, 0, 0, 0, 0, 0, 0, 0, 0, 0, 0.5, 0.5, 0]\n",
            "State=14, prob vec =[0, 0, 0, 0, 0, 0, 0, 0, 0, 0, 0, 0, 0, 0, 0.5, 0.5]\n"
          ]
        },
        {
          "output_type": "stream",
          "name": "stderr",
          "text": [
            "<ipython-input-28-2092d23d79be>:7: DeprecationWarning: Parameter 'operand' of function 'control' has been renamed to 'stmt_block'. Parameter 'operand' will be deprecated in a future release.\n",
            "Hint: Change `control(ctrl=..., operand=...)` to `control(ctrl=..., stmt_block=...)` or `control(..., ...)`.\n",
            "  control(ctrl=vertices==i,\n",
            "<ipython-input-28-2092d23d79be>:8: DeprecationWarning: Parameters 'compute' and 'action' of function 'within_apply' have been renamed to 'within' and 'apply' respectively. Parameters 'compute' and 'action' will be deprecated in a future release.\n",
            "Hint: Change `within_apply(compute=..., action=...)` to `within_apply(within=..., apply=...)` or `within_apply(..., ...)`.\n",
            "  operand=lambda: within_apply(\n",
            "<ipython-input-25-a9f39e4d24ac>:5: DeprecationWarning: Parameters 'compute' and 'action' of function 'within_apply' have been renamed to 'within' and 'apply' respectively. Parameters 'compute' and 'action' will be deprecated in a future release.\n",
            "Hint: Change `within_apply(compute=..., action=...)` to `within_apply(within=..., apply=...)` or `within_apply(..., ...)`.\n",
            "  within_apply(compute=lambda: prepare_minus(aux),\n",
            "<ipython-input-29-6c18fc4347cc>:25: DeprecationWarning: Parameter 'operand' of function 'control' has been renamed to 'stmt_block'. Parameter 'operand' will be deprecated in a future release.\n",
            "Hint: Change `control(ctrl=..., operand=...)` to `control(ctrl=..., stmt_block=...)` or `control(..., ...)`.\n",
            "  control(ctrl= res==1,\n"
          ]
        }
      ]
    },
    {
      "cell_type": "markdown",
      "source": [
        "### Random quantum walk for a line with 16 vertices"
      ],
      "metadata": {
        "id": "nxLCmVmm4GYC"
      }
    },
    {
      "cell_type": "markdown",
      "source": [
        "Of course this is not the only way to add randomness to the quantum walk but have used the same as previous walks with a +1 or -1 added randomly to the i variable."
      ],
      "metadata": {
        "id": "K7G6G24P4Hhx"
      }
    },
    {
      "cell_type": "code",
      "source": [
        "import numpy as np\n",
        "def W_iteration(i:int,vertices: QNum, adjacent_vertices:QNum):\n",
        "    j = i\n",
        "    i = i + np.random.randint(-1, 2)\n",
        "    if i >=15:\n",
        "      i = 14\n",
        "    if i < 0:\n",
        "      i = 0\n",
        "    prob = [0,0,0,0]*4\n",
        "    prob[i]=0.5\n",
        "    prob[i+1]=0.5\n",
        "    print(f'State={j}, prob vec ={prob}')\n",
        "\n",
        "    control(ctrl=vertices==i,\n",
        "            operand=lambda: within_apply(\n",
        "              compute= lambda: inplace_prepare_state(probabilities=prob, bound=0.01, target=adjacent_vertices),\n",
        "              action= lambda: zero_diffuzer(adjacent_vertices)))"
      ],
      "metadata": {
        "id": "naOVLlu5jSNm"
      },
      "execution_count": 32,
      "outputs": []
    },
    {
      "cell_type": "code",
      "source": [
        "size = 4\n",
        "\n",
        "\n",
        "@qfunc\n",
        "def W_operator(vertices:QNum, adjacent_vertices: QNum):\n",
        "    for i in range(2**size-1):\n",
        "      W_iteration(i,vertices,adjacent_vertices)\n",
        "\n",
        "\n",
        "@qfunc\n",
        "def edge_oracle(res:Output[QBit], vertices: QNum, adjacent_vertices: QNum):\n",
        "  res |= (((vertices+adjacent_vertices)%2) ==1)\n",
        "\n",
        "\n",
        "@qfunc\n",
        "def bitwise_swap(x: QArray[QBit], y:QArray[QBit]):\n",
        "  repeat(count= x.len,\n",
        "    iteration= lambda i: SWAP(x[i],y[i]))\n",
        "\n",
        "\n",
        "@qfunc\n",
        "def S_operator(vertices:QNum, adjacent_vertices: QNum):\n",
        "    res = QNum('res')\n",
        "    edge_oracle(res,vertices,adjacent_vertices)\n",
        "    control(ctrl= res==1,\n",
        "        operand= lambda: bitwise_swap(vertices,adjacent_vertices))\n",
        "\n",
        "@qfunc\n",
        "def main(vertices:Output[QNum], adjacent_vertices:Output[QNum]):\n",
        "\n",
        "  allocate(size,vertices)\n",
        "  hadamard_transform(vertices)\n",
        "  allocate(size,adjacent_vertices)\n",
        "\n",
        "  W_operator(vertices,adjacent_vertices)\n",
        "  S_operator(vertices,adjacent_vertices)\n",
        "\n",
        "qmod = create_model(main)"
      ],
      "metadata": {
        "id": "r3WNYYrsjSP6",
        "colab": {
          "base_uri": "https://localhost:8080/"
        },
        "outputId": "f8dcad72-a659-4bd8-9d5f-cb323e6998de"
      },
      "execution_count": 36,
      "outputs": [
        {
          "output_type": "stream",
          "name": "stdout",
          "text": [
            "State=0, prob vec =[0.5, 0.5, 0, 0, 0, 0, 0, 0, 0, 0, 0, 0, 0, 0, 0, 0]\n",
            "State=1, prob vec =[0, 0.5, 0.5, 0, 0, 0, 0, 0, 0, 0, 0, 0, 0, 0, 0, 0]\n",
            "State=2, prob vec =[0, 0.5, 0.5, 0, 0, 0, 0, 0, 0, 0, 0, 0, 0, 0, 0, 0]\n",
            "State=3, prob vec =[0, 0, 0, 0.5, 0.5, 0, 0, 0, 0, 0, 0, 0, 0, 0, 0, 0]\n",
            "State=4, prob vec =[0, 0, 0, 0, 0, 0.5, 0.5, 0, 0, 0, 0, 0, 0, 0, 0, 0]\n",
            "State=5, prob vec =[0, 0, 0, 0, 0.5, 0.5, 0, 0, 0, 0, 0, 0, 0, 0, 0, 0]\n",
            "State=6, prob vec =[0, 0, 0, 0, 0, 0.5, 0.5, 0, 0, 0, 0, 0, 0, 0, 0, 0]\n",
            "State=7, prob vec =[0, 0, 0, 0, 0, 0, 0.5, 0.5, 0, 0, 0, 0, 0, 0, 0, 0]\n",
            "State=8, prob vec =[0, 0, 0, 0, 0, 0, 0, 0, 0.5, 0.5, 0, 0, 0, 0, 0, 0]\n",
            "State=9, prob vec =[0, 0, 0, 0, 0, 0, 0, 0, 0.5, 0.5, 0, 0, 0, 0, 0, 0]\n",
            "State=10, prob vec =[0, 0, 0, 0, 0, 0, 0, 0, 0, 0, 0, 0.5, 0.5, 0, 0, 0]\n",
            "State=11, prob vec =[0, 0, 0, 0, 0, 0, 0, 0, 0, 0, 0.5, 0.5, 0, 0, 0, 0]\n",
            "State=12, prob vec =[0, 0, 0, 0, 0, 0, 0, 0, 0, 0, 0, 0.5, 0.5, 0, 0, 0]\n",
            "State=13, prob vec =[0, 0, 0, 0, 0, 0, 0, 0, 0, 0, 0, 0, 0, 0.5, 0.5, 0]\n",
            "State=14, prob vec =[0, 0, 0, 0, 0, 0, 0, 0, 0, 0, 0, 0, 0, 0, 0.5, 0.5]\n"
          ]
        },
        {
          "output_type": "stream",
          "name": "stderr",
          "text": [
            "<ipython-input-32-242829a4352f>:14: DeprecationWarning: Parameter 'operand' of function 'control' has been renamed to 'stmt_block'. Parameter 'operand' will be deprecated in a future release.\n",
            "Hint: Change `control(ctrl=..., operand=...)` to `control(ctrl=..., stmt_block=...)` or `control(..., ...)`.\n",
            "  control(ctrl=vertices==i,\n",
            "<ipython-input-32-242829a4352f>:15: DeprecationWarning: Parameters 'compute' and 'action' of function 'within_apply' have been renamed to 'within' and 'apply' respectively. Parameters 'compute' and 'action' will be deprecated in a future release.\n",
            "Hint: Change `within_apply(compute=..., action=...)` to `within_apply(within=..., apply=...)` or `within_apply(..., ...)`.\n",
            "  operand=lambda: within_apply(\n",
            "<ipython-input-25-a9f39e4d24ac>:5: DeprecationWarning: Parameters 'compute' and 'action' of function 'within_apply' have been renamed to 'within' and 'apply' respectively. Parameters 'compute' and 'action' will be deprecated in a future release.\n",
            "Hint: Change `within_apply(compute=..., action=...)` to `within_apply(within=..., apply=...)` or `within_apply(..., ...)`.\n",
            "  within_apply(compute=lambda: prepare_minus(aux),\n",
            "<ipython-input-36-6c18fc4347cc>:25: DeprecationWarning: Parameter 'operand' of function 'control' has been renamed to 'stmt_block'. Parameter 'operand' will be deprecated in a future release.\n",
            "Hint: Change `control(ctrl=..., operand=...)` to `control(ctrl=..., stmt_block=...)` or `control(..., ...)`.\n",
            "  control(ctrl= res==1,\n"
          ]
        }
      ]
    }
  ]
}