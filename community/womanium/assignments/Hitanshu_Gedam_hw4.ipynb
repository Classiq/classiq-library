{
 "cells": [
  {
   "cell_type": "markdown",
   "id": "5a0340f2-9a0e-486d-bafd-e25831bb2d9a",
   "metadata": {},
   "source": [
    "## Quantum Walks\n",
    "\n",
    "Quantum walks are quantum analogs of classical random walks. In contrast to the classical random walk, where the walker occupies definite states and the randomness arises due to stochastic transitions between states, in quantum walks randomness arises through quantum superposition of states, non-random, reversible unitary evolution and collapse of the wave function due to state measurements."
   ]
  },
  {
   "cell_type": "markdown",
   "id": "9a96b68a-19ed-49e8-b429-70d24002c228",
   "metadata": {},
   "source": [
    "Below we write a code for implementing quantum walk on a line with 16 nodes"
   ]
  },
  {
   "cell_type": "code",
   "execution_count": 82,
   "id": "bcc3515c-7045-4506-a7d2-a375f1457ba8",
   "metadata": {},
   "outputs": [],
   "source": [
    "from classiq import *\n",
    "import classiq"
   ]
  },
  {
   "cell_type": "code",
   "execution_count": 83,
   "id": "acc5a350-57a1-420e-b6c6-b5afa92cf985",
   "metadata": {},
   "outputs": [
    {
     "name": "stderr",
     "output_type": "stream",
     "text": [
      "/home/hitanshugedam/anaconda3/lib/python3.11/site-packages/classiq/_internals/authentication/token_manager.py:99: UserWarning: Device is already registered.\n",
      "Generating a new refresh token should only be done if the current refresh token is compromised.\n",
      "To do so, set the overwrite parameter to true\n",
      "  warnings.warn(\n"
     ]
    }
   ],
   "source": [
    "classiq.authenticate()"
   ]
  },
  {
   "cell_type": "code",
   "execution_count": 84,
   "id": "6ab2560e-85e2-44bf-b062-72cdc5af2442",
   "metadata": {},
   "outputs": [],
   "source": [
    "from classiq.execution import ExecutionPreferences"
   ]
  },
  {
   "cell_type": "code",
   "execution_count": 85,
   "id": "cd043618-6c5d-4952-9c74-7e7c0a349ff7",
   "metadata": {},
   "outputs": [],
   "source": [
    "size = 4 #log_2(16) -> log16 with base 2 "
   ]
  },
  {
   "cell_type": "code",
   "execution_count": 86,
   "id": "f7b9c733-5061-4b19-9b0f-d3af3fb2a9c8",
   "metadata": {},
   "outputs": [],
   "source": [
    "num_nodes = 16 #no. of nodes on the line"
   ]
  },
  {
   "cell_type": "code",
   "execution_count": 87,
   "id": "6481ed4c-3c58-4d09-af44-43b5ae29d578",
   "metadata": {},
   "outputs": [],
   "source": [
    "@qfunc\n",
    "def prepare_minus(x: QBit):\n",
    "    X(x)\n",
    "    H(x)\n",
    "\n",
    "@qfunc\n",
    "def diffuser_oracle(aux: Output[QNum], x:QBit):\n",
    "    aux ^= (x!=0)\n",
    "\n",
    "@qfunc\n",
    "def zero_diffuser(x: QNum):\n",
    "    aux = QNum('aux')\n",
    "    allocate(1,aux)\n",
    "    within_apply(compute=lambda: prepare_minus(aux),\n",
    "              action=lambda: diffuser_oracle)"
   ]
  },
  {
   "cell_type": "code",
   "execution_count": 88,
   "id": "a095db9c-21d9-4b13-954f-d777477bd85f",
   "metadata": {},
   "outputs": [],
   "source": [
    "def C_iterate(i: CInt, vertices: QNum, adjacent_vertices: QNum): #C iteration for the scope of the assignment i.e. Line with 16 nodes\n",
    "    probs = [0] * num_nodes\n",
    "    if i == 0:\n",
    "        probs[i+1] = 1.0 #probability of moving right from node 0\n",
    "    elif i == num_nodes - 1:\n",
    "        probs[i-1] = 1.0 #probability of moving left from node 15\n",
    "    else:\n",
    "        probs[i+1] = 0.5\n",
    "        probs[i-1] = 0.5\n",
    "    print(f'Node={i}, prob vec ={probs}')\n",
    "    control(ctrl = vertices==i,\n",
    "            operand=lambda: within_apply(\n",
    "              compute= lambda: inplace_prepare_state(probabilities=probs, bound=0.01, target=adjacent_vertices),\n",
    "              action= lambda: zero_diffuser(adjacent_vertices)))\n"
   ]
  },
  {
   "cell_type": "code",
   "execution_count": 89,
   "id": "f6bcc499-821a-4274-b905-70d63eace41c",
   "metadata": {},
   "outputs": [],
   "source": [
    "@qfunc \n",
    "def C_operator(vertices:QNum, adjacent_vertices: QNum): #C operator as defined in the paper for quantum walks\n",
    "    for i in range(num_nodes):\n",
    "        C_iterate(i,vertices,adjacent_vertices)\n"
   ]
  },
  {
   "cell_type": "code",
   "execution_count": 90,
   "id": "6fe809a5-e8c8-4a4e-93b3-3df4f4333fa7",
   "metadata": {},
   "outputs": [],
   "source": [
    "@qfunc\n",
    "def edge_oracle(res:Output[QBit], vertices: QNum, adjacent_vertices: QNum): #checking for connected vertices\n",
    "    res |= (((vertices - adjacent_vertices) == 1) | ((vertices - adjacent_vertices) == -1)) #checking for adjacent nodes on the line\n",
    "@qfunc \n",
    "def bitwise_swap(x: QArray[QBit], y:QArray[QBit]): #applying the SWAP \n",
    "    repeat(count= x.len,\n",
    "           iteration= lambda i: SWAP(x[i],y[i])) \n",
    "\n",
    "@qfunc \n",
    "def S_operator(vertices:QNum, adjacent_vertices: QNum):\n",
    "    res = QNum('res')\n",
    "    edge_oracle(res,vertices,adjacent_vertices)\n",
    "    control(ctrl= res==1,\n",
    "        operand= lambda: bitwise_swap(vertices,adjacent_vertices))"
   ]
  },
  {
   "cell_type": "markdown",
   "id": "52331b87-0961-4861-87dc-0079b34242f3",
   "metadata": {},
   "source": [
    "We have now defined the C operator and the S operator for our quantum program. Now let's put both of them together in our main function"
   ]
  },
  {
   "cell_type": "code",
   "execution_count": 91,
   "id": "bede9c88-b2d1-4f67-8050-ded8f0a1669d",
   "metadata": {},
   "outputs": [],
   "source": [
    "@qfunc \n",
    "def main(vertices:Output[QNum], adjacent_vertices:Output[QNum]):\n",
    "    allocate(size, vertices)  # Allocate qubits for vertices\n",
    "    hadamard_transform(vertices)  # Apply Hadamard transform to initialize superposition\n",
    "    allocate(size, adjacent_vertices)  # Allocate qubits for adjacent vertices\n",
    "    \n",
    "    C_operator(vertices, adjacent_vertices)  # Applying the C operator\n",
    "    S_operator(vertices, adjacent_vertices)  # Applying the S operator\n"
   ]
  },
  {
   "cell_type": "code",
   "execution_count": 92,
   "id": "0f2e494e-ad5e-4914-a1be-76479c3830af",
   "metadata": {},
   "outputs": [
    {
     "name": "stdout",
     "output_type": "stream",
     "text": [
      "Node=0, prob vec =[0, 1.0, 0, 0, 0, 0, 0, 0, 0, 0, 0, 0, 0, 0, 0, 0]\n",
      "Node=1, prob vec =[0.5, 0, 0.5, 0, 0, 0, 0, 0, 0, 0, 0, 0, 0, 0, 0, 0]\n",
      "Node=2, prob vec =[0, 0.5, 0, 0.5, 0, 0, 0, 0, 0, 0, 0, 0, 0, 0, 0, 0]\n",
      "Node=3, prob vec =[0, 0, 0.5, 0, 0.5, 0, 0, 0, 0, 0, 0, 0, 0, 0, 0, 0]\n",
      "Node=4, prob vec =[0, 0, 0, 0.5, 0, 0.5, 0, 0, 0, 0, 0, 0, 0, 0, 0, 0]\n",
      "Node=5, prob vec =[0, 0, 0, 0, 0.5, 0, 0.5, 0, 0, 0, 0, 0, 0, 0, 0, 0]\n",
      "Node=6, prob vec =[0, 0, 0, 0, 0, 0.5, 0, 0.5, 0, 0, 0, 0, 0, 0, 0, 0]\n",
      "Node=7, prob vec =[0, 0, 0, 0, 0, 0, 0.5, 0, 0.5, 0, 0, 0, 0, 0, 0, 0]\n",
      "Node=8, prob vec =[0, 0, 0, 0, 0, 0, 0, 0.5, 0, 0.5, 0, 0, 0, 0, 0, 0]\n",
      "Node=9, prob vec =[0, 0, 0, 0, 0, 0, 0, 0, 0.5, 0, 0.5, 0, 0, 0, 0, 0]\n",
      "Node=10, prob vec =[0, 0, 0, 0, 0, 0, 0, 0, 0, 0.5, 0, 0.5, 0, 0, 0, 0]\n",
      "Node=11, prob vec =[0, 0, 0, 0, 0, 0, 0, 0, 0, 0, 0.5, 0, 0.5, 0, 0, 0]\n",
      "Node=12, prob vec =[0, 0, 0, 0, 0, 0, 0, 0, 0, 0, 0, 0.5, 0, 0.5, 0, 0]\n",
      "Node=13, prob vec =[0, 0, 0, 0, 0, 0, 0, 0, 0, 0, 0, 0, 0.5, 0, 0.5, 0]\n",
      "Node=14, prob vec =[0, 0, 0, 0, 0, 0, 0, 0, 0, 0, 0, 0, 0, 0.5, 0, 0.5]\n",
      "Node=15, prob vec =[0, 0, 0, 0, 0, 0, 0, 0, 0, 0, 0, 0, 0, 0, 1.0, 0]\n",
      "Opening: https://platform.classiq.io/circuit/96e14f71-dd6a-4ffb-a13f-bc47d959f637?version=0.43.3\n"
     ]
    }
   ],
   "source": [
    "# Create and synthesize the quantum model\n",
    "quantum_model = create_model(main)\n",
    "qprog = synthesize(quantum_model)\n",
    "show(qprog)"
   ]
  },
  {
   "cell_type": "markdown",
   "id": "f99cc7d6-7932-44b4-a9bd-616ac54cf41c",
   "metadata": {},
   "source": [
    "![image](/home/hitanshugedam/Downloads/pic1.png)"
   ]
  },
  {
   "cell_type": "code",
   "execution_count": null,
   "id": "07e95638-a5b4-42e7-9440-29afdc530974",
   "metadata": {},
   "outputs": [],
   "source": []
  },
  {
   "cell_type": "code",
   "execution_count": null,
   "id": "ff22728f-9188-4417-893d-27c460632938",
   "metadata": {},
   "outputs": [],
   "source": []
  },
  {
   "cell_type": "code",
   "execution_count": null,
   "id": "92759ea3-80c4-41d2-bdda-07b65f104ddd",
   "metadata": {},
   "outputs": [],
   "source": []
  },
  {
   "cell_type": "code",
   "execution_count": null,
   "id": "219200a2-58bc-4bc2-b783-76be5fee36c3",
   "metadata": {},
   "outputs": [],
   "source": []
  }
 ],
 "metadata": {
  "kernelspec": {
   "display_name": "Python 3 (ipykernel)",
   "language": "python",
   "name": "python3"
  },
  "language_info": {
   "codemirror_mode": {
    "name": "ipython",
    "version": 3
   },
   "file_extension": ".py",
   "mimetype": "text/x-python",
   "name": "python",
   "nbconvert_exporter": "python",
   "pygments_lexer": "ipython3",
   "version": "3.11.7"
  }
 },
 "nbformat": 4,
 "nbformat_minor": 5
}
