{
 "cells": [
  {
   "cell_type": "markdown",
   "metadata": {},
   "source": [
    "# Quantum Walks"
   ]
  },
  {
   "cell_type": "markdown",
   "metadata": {},
   "source": [
    "Following the example from class for creating the quantum walk operator for the case of a circle with 4 nodes, design the quantum walk operator for the case of a line with 16 nodes.\n",
    "\n"
   ]
  },
  {
   "cell_type": "code",
   "execution_count": 1,
   "metadata": {},
   "outputs": [],
   "source": [
    "from classiq import *"
   ]
  },
  {
   "cell_type": "code",
   "execution_count": 2,
   "metadata": {},
   "outputs": [],
   "source": [
    "size = 4 # number of qubits to represent 16 vertices"
   ]
  },
  {
   "cell_type": "markdown",
   "metadata": {},
   "source": [
    "## C(oin) or C operator\n"
   ]
  },
  {
   "cell_type": "code",
   "execution_count": 3,
   "metadata": {},
   "outputs": [],
   "source": [
    "@qfunc\n",
    "def prepare_minus(x: QBit):\n",
    "  X(x)\n",
    "  H(x)\n",
    "\n",
    "\n",
    "@qfunc\n",
    "def diffuzer_oracle(aux: Output[QNum],x:QNum):\n",
    "  aux^=(x!=0)\n",
    "\n",
    "\n",
    "@qfunc\n",
    "def zero_diffuzer(x: QNum):\n",
    "  aux = QNum('aux')\n",
    "  allocate(1,aux)\n",
    "  within_apply(compute=lambda: prepare_minus(aux),action=lambda: diffuzer_oracle)\n",
    "\n",
    "\n",
    "def C_iteration(i:int,vertices: QNum, adjacent_vertices:QNum):\n",
    "  prob = [0] * 2**size\n",
    "  if i == 0: # first node has one connection\n",
    "    prob[i+1] = 1.0\n",
    "  elif i == (2**size) - 1: # last node has one connection\n",
    "    prob[i-1] = 1.0\n",
    "  else: # middle nodes have 2 connections\n",
    "    prob[i-1] = 0.5\n",
    "    prob[i+1] = 0.5\n",
    "  print(f'State={i}, prob vec ={prob}')\n",
    "  \n",
    "  control(ctrl=vertices==i,\n",
    "          operand=lambda: within_apply(\n",
    "            compute= lambda: inplace_prepare_state(probabilities=prob, bound=0.01, target=adjacent_vertices),\n",
    "            action= lambda: zero_diffuzer(adjacent_vertices)\n",
    "          )\n",
    "        )\n",
    "\n",
    "\n",
    "@qfunc \n",
    "def C_operator(vertices:QNum, adjacent_vertices: QNum):\n",
    "  for i in range(2**size):\n",
    "    W_iteration(i,vertices,adjacent_vertices)"
   ]
  },
  {
   "cell_type": "markdown",
   "metadata": {},
   "source": [
    "## S(hift) operator\n",
    "\n"
   ]
  },
  {
   "cell_type": "code",
   "execution_count": 4,
   "metadata": {},
   "outputs": [],
   "source": [
    "@qfunc\n",
    "def edge_oracle(res:Output[QBit], vertices: QNum, adjacent_vertices: QNum):\n",
    "  res |= (((vertices - adjacent_vertices) == 1) | ((vertices - adjacent_vertices) == -1))\n",
    "\n",
    "\n",
    "@qfunc \n",
    "def bitwise_swap(x: QArray[QBit], y:QArray[QBit]):\n",
    "  repeat(count= x.len,iteration= lambda i: SWAP(x[i],y[i]))\n",
    "  \n",
    "\n",
    "@qfunc \n",
    "def S_operator(vertices:QNum, adjacent_vertices: QNum):\n",
    "    res = QNum('res')\n",
    "    edge_oracle(res,vertices,adjacent_vertices)\n",
    "    control(ctrl= res==1,operand= lambda: bitwise_swap(vertices,adjacent_vertices))"
   ]
  },
  {
   "cell_type": "markdown",
   "metadata": {},
   "source": [
    "## Simulate Quantum Walk"
   ]
  },
  {
   "cell_type": "code",
   "execution_count": 5,
   "metadata": {},
   "outputs": [],
   "source": [
    "@qfunc\n",
    "def main(vertices:Output[QNum], adjacent_vertices:Output[QNum]):\n",
    "\n",
    "  allocate(size, vertices)\n",
    "  hadamard_transform(vertices)\n",
    "  allocate(size, adjacent_vertices)\n",
    "\n",
    "  W_operator(vertices, adjacent_vertices)\n",
    "  S_operator(vertices, adjacent_vertices)"
   ]
  },
  {
   "cell_type": "code",
   "execution_count": 6,
   "metadata": {},
   "outputs": [
    {
     "name": "stdout",
     "output_type": "stream",
     "text": [
      "State=0, prob vec =[0, 1.0, 0, 0, 0, 0, 0, 0, 0, 0, 0, 0, 0, 0, 0, 0]\n",
      "State=1, prob vec =[0.5, 0, 0.5, 0, 0, 0, 0, 0, 0, 0, 0, 0, 0, 0, 0, 0]\n",
      "State=2, prob vec =[0, 0.5, 0, 0.5, 0, 0, 0, 0, 0, 0, 0, 0, 0, 0, 0, 0]\n",
      "State=3, prob vec =[0, 0, 0.5, 0, 0.5, 0, 0, 0, 0, 0, 0, 0, 0, 0, 0, 0]\n",
      "State=4, prob vec =[0, 0, 0, 0.5, 0, 0.5, 0, 0, 0, 0, 0, 0, 0, 0, 0, 0]\n",
      "State=5, prob vec =[0, 0, 0, 0, 0.5, 0, 0.5, 0, 0, 0, 0, 0, 0, 0, 0, 0]\n",
      "State=6, prob vec =[0, 0, 0, 0, 0, 0.5, 0, 0.5, 0, 0, 0, 0, 0, 0, 0, 0]\n",
      "State=7, prob vec =[0, 0, 0, 0, 0, 0, 0.5, 0, 0.5, 0, 0, 0, 0, 0, 0, 0]\n",
      "State=8, prob vec =[0, 0, 0, 0, 0, 0, 0, 0.5, 0, 0.5, 0, 0, 0, 0, 0, 0]\n",
      "State=9, prob vec =[0, 0, 0, 0, 0, 0, 0, 0, 0.5, 0, 0.5, 0, 0, 0, 0, 0]\n",
      "State=10, prob vec =[0, 0, 0, 0, 0, 0, 0, 0, 0, 0.5, 0, 0.5, 0, 0, 0, 0]\n",
      "State=11, prob vec =[0, 0, 0, 0, 0, 0, 0, 0, 0, 0, 0.5, 0, 0.5, 0, 0, 0]\n",
      "State=12, prob vec =[0, 0, 0, 0, 0, 0, 0, 0, 0, 0, 0, 0.5, 0, 0.5, 0, 0]\n",
      "State=13, prob vec =[0, 0, 0, 0, 0, 0, 0, 0, 0, 0, 0, 0, 0.5, 0, 0.5, 0]\n",
      "State=14, prob vec =[0, 0, 0, 0, 0, 0, 0, 0, 0, 0, 0, 0, 0, 0.5, 0, 0.5]\n",
      "State=15, prob vec =[0, 0, 0, 0, 0, 0, 0, 0, 0, 0, 0, 0, 0, 0, 1.0, 0]\n",
      "Opening: https://platform.classiq.io/circuit/663cafaf-5192-48fd-ab08-6447bf3fbcb4?version=0.43.3\n"
     ]
    }
   ],
   "source": [
    "qmod = create_model(main)\n",
    "qprog = synthesize(qmod)\n",
    "show(qprog)"
   ]
  }
 ],
 "metadata": {
  "kernelspec": {
   "display_name": "womanium",
   "language": "python",
   "name": "python3"
  },
  "language_info": {
   "codemirror_mode": {
    "name": "ipython",
    "version": 3
   },
   "file_extension": ".py",
   "mimetype": "text/x-python",
   "name": "python",
   "nbconvert_exporter": "python",
   "pygments_lexer": "ipython3",
   "version": "3.10.11"
  }
 },
 "nbformat": 4,
 "nbformat_minor": 2
}
