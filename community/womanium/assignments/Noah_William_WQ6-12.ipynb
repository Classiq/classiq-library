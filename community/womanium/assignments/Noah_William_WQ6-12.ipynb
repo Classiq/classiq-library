{
  "cells": [
    {
      "cell_type": "markdown",
      "metadata": {
        "id": "gmjL2YqW6STk"
      },
      "source": [
        "# Quantum Walk"
      ]
    },
    {
      "cell_type": "markdown",
      "metadata": {
        "id": "pHF9Hw6x6BmZ"
      },
      "source": [
        "## Intoduction\n",
        "This notebook covers the detailed explanation of the quantum walk on a line with 16 nodes, the necessary code to implement it using the Classiq framework, and a simple visualization of the quantum walk probabilities. The key components include initializing the quantum states, defining the probability distributions for the walk, and performing the walk using quantum operators. Adjustments are made to handle the boundary conditions of the line topology."
      ]
    },
    {
      "cell_type": "markdown",
      "metadata": {
        "id": "Lx6s-6VVkDnS"
      },
      "source": [
        "## Quantum Walks: Theory\n",
        "\n",
        "A quantum walk is the quantum analog of a classical random walk, which involves moving to adjacent states (or nodes) with certain probabilities. Quantum walks leverage superposition and interference, leading to different dynamics compared to classical random walks. \\\\\n",
        "There are two main types of quantum walks: discrete-time and continuous-time. Here, we focus on discrete-time quantum walks.\n",
        "\n",
        "### Discrete-Time Quantum Walk\n",
        "\n",
        "A discrete-time quantum walk is generally composed of two main operators:\n",
        "1. **Coin Operator \\( C \\)** \\\\\n",
        "This operator \"flips\" a quantum coin to determine the direction of the walk.\n",
        "   The coin operator acts on the coin space and can be any unitary operator. A common choice is the Hadamard operator \\( H \\):\n",
        "   $$\n",
        "   H = \\frac{1}{\\sqrt{2}} \\begin{pmatrix}\n",
        "   1 & 1 \\\\\n",
        "   1 & -1\n",
        "   \\end{pmatrix}\n",
        "   $$\n",
        "   This operator creates an equal superposition of the coin states.\n",
        "\n",
        "2. **Shift Operator \\( S \\)** \\\\\n",
        "This operator moves the walker to the adjacent node based on the coin state.\n",
        "   The shift operator moves the walker to the next or previous node based on the coin state. For a general graph with nodes \\( 0 \\) to \\( N-1 \\):\n",
        "   $$\n",
        "   S = \\sum_{x=0}^{N-1} \\left( |(x+1) \\mod N \\rangle \\langle x| \\otimes |0\\rangle \\langle 0| + |(x-1) \\mod N \\rangle \\langle x| \\otimes |1\\rangle \\langle 1| \\right)\n",
        "   $$\n",
        "   This operator is adapted for the specific topology of the graph (e.g., a circle or a line).\n",
        "\n",
        "#### Quantum Walk Operator \\( U \\)\n",
        "   The overall quantum walk operator is a combination of the coin and shift operators:\n",
        "   $$\n",
        "   U = S \\cdot (I \\otimes C)\n",
        "   $$\n",
        "   where \\( I \\) is the identity operator on the position space.\n",
        "\n",
        "#### Applying to a Line with 16 Nodes\n",
        "\n",
        "For a line with 16 nodes, the shift operator must account for boundary conditions where nodes have fewer neighbors. The shift operator for a line with 16 nodes, where $ 0 \\leq x \\leq 15 $, can be defined as:\n",
        "   $$\n",
        "   S = \\sum_{x=0}^{15} \\left(\n",
        "   \\begin{cases}\n",
        "     |x+1 \\rangle \\langle x| \\otimes |0\\rangle \\langle 0| + |x-1 \\rangle \\langle x| \\otimes |1\\rangle \\langle 1| & \\text{if } 0 < x < 15 \\\\\n",
        "     |x+1 \\rangle \\langle x| \\otimes |0\\rangle \\langle 0| & \\text{if } x = 0 \\\\\n",
        "     |x-1 \\rangle \\langle x| \\otimes |1\\rangle \\langle 1| & \\text{if } x = 15\n",
        "   \\end{cases}\n",
        "   \\right)\n",
        "   $$\n"
      ]
    },
    {
      "cell_type": "markdown",
      "metadata": {
        "id": "42TDJSBp60XH"
      },
      "source": [
        "\n",
        "## Implemenation in Classiq"
      ]
    },
    {
      "cell_type": "markdown",
      "metadata": {
        "id": "wLLcn25ThyPF"
      },
      "source": [
        " #### 1. Installation of Classiq Libraries"
      ]
    },
    {
      "cell_type": "code",
      "execution_count": 1,
      "metadata": {
        "colab": {
          "base_uri": "https://localhost:8080/"
        },
        "id": "tCeogasI11fD",
        "outputId": "42d26398-3902-4cfe-c006-d9055f38e29e"
      },
      "outputs": [],
      "source": [
        "# pip install -U classiq"
      ]
    },
    {
      "cell_type": "code",
      "execution_count": 2,
      "metadata": {
        "colab": {
          "base_uri": "https://localhost:8080/"
        },
        "id": "JJ5z9CCA2CB5",
        "outputId": "3630e873-2975-42a6-849f-a2894cfcac5d"
      },
      "outputs": [],
      "source": [
        "# import classiq\n",
        "# classiq.authenticate()"
      ]
    },
    {
      "cell_type": "code",
      "execution_count": 3,
      "metadata": {
        "colab": {
          "base_uri": "https://localhost:8080/"
        },
        "id": "S60QLodXo8e9",
        "outputId": "051b9d89-bb23-4815-f8e3-aba768fff0f0"
      },
      "outputs": [],
      "source": [
        "# !pip install networkx matplotlib classiq"
      ]
    },
    {
      "cell_type": "markdown",
      "metadata": {
        "id": "y5YaOtetuMXo"
      },
      "source": [
        "#### 2. Importing Necessary Libraries"
      ]
    },
    {
      "cell_type": "code",
      "execution_count": null,
      "metadata": {
        "id": "fQQWMHShtVS9"
      },
      "outputs": [],
      "source": [
        "from classiq import *\n",
        "import networkx as nx\n",
        "import matplotlib.pyplot as plt"
      ]
    },
    {
      "cell_type": "markdown",
      "metadata": {
        "id": "SWnnkurAua5C"
      },
      "source": [
        "#### 3. Defining the Quantum Register Size\n",
        "We define the size of the quantum register. For 16 nodes, we need 4 qubits since $2^4=16$."
      ]
    },
    {
      "cell_type": "code",
      "execution_count": null,
      "metadata": {
        "id": "T3BxyLKivK3T"
      },
      "outputs": [],
      "source": [
        "size = 4"
      ]
    },
    {
      "cell_type": "markdown",
      "metadata": {
        "id": "3c_LG8NQvkRG"
      },
      "source": [
        "#### 4. Preparing the Minus State\n",
        "The `prepare_minus` function prepares the minus state by applying the Pauli-X gate followed by the Hadamard gate on a qubit. The minus state is ${∣−⟩}=\\dfrac{∣0⟩−∣1⟩}{2}$​."
      ]
    },
    {
      "cell_type": "code",
      "execution_count": null,
      "metadata": {
        "id": "BGA25pBUwl1j"
      },
      "outputs": [],
      "source": [
        "@qfunc\n",
        "def prepare_minus(x: QBit):\n",
        "    X(x)\n",
        "    H(x)"
      ]
    },
    {
      "cell_type": "markdown",
      "metadata": {
        "id": "WFhEKTnzwtYt"
      },
      "source": [
        "#### 5. Diffuser Oracle\n",
        "The `diffuzer_oracle` function is used to flip the auxiliary qubit if the input qubit $x$ is not zero. This is part of the amplitude amplification process."
      ]
    },
    {
      "cell_type": "code",
      "execution_count": null,
      "metadata": {
        "id": "jJPHd-cNw2Kt"
      },
      "outputs": [],
      "source": [
        "@qfunc\n",
        "def diffuzer_oracle(aux: Output[QNum], x: QNum):\n",
        "    aux ^= (x != 0)"
      ]
    },
    {
      "cell_type": "markdown",
      "metadata": {
        "id": "odhEfZAPyDGq"
      },
      "source": [
        "#### 6. Zero Diffuser\n",
        "The `zero_diffuzer` function allocates an auxiliary qubit and prepares it in the minus state. It then applies the diffuser oracle on the input qubit $x$"
      ]
    },
    {
      "cell_type": "code",
      "execution_count": null,
      "metadata": {
        "id": "gtoxn7Zvyzvg"
      },
      "outputs": [],
      "source": [
        "@qfunc\n",
        "def zero_diffuzer(x: QNum):\n",
        "    aux = QNum('aux')\n",
        "    allocate(1, aux)\n",
        "    within_apply(compute=lambda: prepare_minus(aux),\n",
        "                 action=lambda: diffuzer_oracle)"
      ]
    },
    {
      "cell_type": "markdown",
      "metadata": {
        "id": "04RBlhsNy8Av"
      },
      "source": [
        "#### 6. C Iteration\n",
        "The `C_iteration` function sets up the probability distribution for moving to adjacent nodes. It ensures that the probabilities sum to 1 and respects the boundary conditions of the line topology. It then controls the operation based on the current vertex and prepares the state accordingly."
      ]
    },
    {
      "cell_type": "code",
      "execution_count": null,
      "metadata": {
        "id": "l8SRWFWxzUWE"
      },
      "outputs": [],
      "source": [
        "def C_iteration(i:int,vertices: QNum, adjacent_vertices:QNum):\n",
        "    prob = [0] * 16\n",
        "    # prob[(i+1)% 16]=0.5\n",
        "    # prob[(i-1)% 16]=0.5\n",
        "    if i > 0 and i < 15:\n",
        "        prob[i - 1] = 0.5\n",
        "        prob[i + 1] = 0.5\n",
        "    elif i == 0:\n",
        "        prob[i + 1] = 1.0\n",
        "    elif i == 15:\n",
        "        prob[i - 1] = 1.0\n",
        "    print(f'State={i}, prob vec ={prob}')\n",
        "\n",
        "    control(ctrl=vertices==i,\n",
        "            operand=lambda: within_apply(\n",
        "              compute= lambda: inplace_prepare_state(probabilities=prob, bound=0.01, target=adjacent_vertices),\n",
        "              action= lambda: zero_diffuzer(adjacent_vertices)))\n"
      ]
    },
    {
      "cell_type": "markdown",
      "metadata": {
        "id": "pd3aYxcNz0uw"
      },
      "source": [
        "#### 7. C Operator\n",
        "The `C_operator` function iterates over all possible states (from 0 to 15) and applies the C_iteration function to each state. This sets up the probability distributions for the quantum walk."
      ]
    },
    {
      "cell_type": "code",
      "execution_count": null,
      "metadata": {
        "id": "Kh6baUfj0nXg"
      },
      "outputs": [],
      "source": [
        "@qfunc\n",
        "def C_operator(vertices: QNum, adjacent_vertices: QNum):\n",
        "    for i in range(2 ** size):\n",
        "        C_iteration(i, vertices, adjacent_vertices)"
      ]
    },
    {
      "cell_type": "markdown",
      "metadata": {
        "id": "uS6OQRJg0xos"
      },
      "source": [
        "#### 8. Edge Oracle\n",
        "The `edge_oracle` function checks if the sum of the current vertex and the adjacent vertex is odd, and sets the result qubit accordingly. This helps in defining the conditions for the swap operation."
      ]
    },
    {
      "cell_type": "code",
      "execution_count": null,
      "metadata": {
        "id": "TrcLS5_u1TOC"
      },
      "outputs": [],
      "source": [
        "@qfunc\n",
        "def edge_oracle(res: Output[QBit], vertices: QNum, adjacent_vertices: QNum):\n",
        "    res |= (((vertices + adjacent_vertices) % 2) == 1)"
      ]
    },
    {
      "cell_type": "markdown",
      "metadata": {
        "id": "PtCwsmBy1gkg"
      },
      "source": [
        "#### 9. Bitwise Swap\n",
        "The `bitwise_swap` function swaps the states of two qubit arrays bit by bit. It iterates over each bit and applies the SWAP gate."
      ]
    },
    {
      "cell_type": "code",
      "execution_count": null,
      "metadata": {
        "id": "xurJbi-W1zP_"
      },
      "outputs": [],
      "source": [
        "@qfunc\n",
        "def bitwise_swap(x: QArray[QBit], y: QArray[QBit]):\n",
        "    repeat(count=x.len,\n",
        "           iteration=lambda i: SWAP(x[i], y[i]))"
      ]
    },
    {
      "cell_type": "markdown",
      "metadata": {
        "id": "n57gAPIQ1-MJ"
      },
      "source": [
        "#### 10. S Operator\n",
        "The `S_operator` function applies the edge oracle to check the swap condition and then performs the bitwise swap if the condition is met."
      ]
    },
    {
      "cell_type": "code",
      "execution_count": null,
      "metadata": {
        "id": "cPr68LsR2h2B"
      },
      "outputs": [],
      "source": [
        "@qfunc\n",
        "def S_operator(vertices: QNum, adjacent_vertices: QNum):\n",
        "    res = QNum('res')\n",
        "    edge_oracle(res, vertices, adjacent_vertices)\n",
        "    control(ctrl=res == 1,\n",
        "            operand=lambda: bitwise_swap(vertices, adjacent_vertices))"
      ]
    },
    {
      "cell_type": "markdown",
      "metadata": {
        "id": "g8GO0n552rqE"
      },
      "source": [
        "#### 11. Main Function\n",
        "The `main` function initializes the quantum walk by applying a Hadamard transform to create a superposition of all possible states and allocates the necessary qubits for the vertices and adjacent vertices. It then applies the C and S operators to perform the quantum walk."
      ]
    },
    {
      "cell_type": "code",
      "execution_count": null,
      "metadata": {
        "id": "kT5_08802w4f"
      },
      "outputs": [],
      "source": [
        "@qfunc\n",
        "def main(vertices: Output[QNum], adjacent_vertices: Output[QNum]):\n",
        "    allocate(size, vertices)\n",
        "    hadamard_transform(vertices)\n",
        "    allocate(size, adjacent_vertices)\n",
        "\n",
        "    C_operator(vertices, adjacent_vertices)\n",
        "    S_operator(vertices, adjacent_vertices)"
      ]
    },
    {
      "cell_type": "markdown",
      "metadata": {
        "id": "P8CZYUbl3f6L"
      },
      "source": [
        "#### 12. Creating the Quantum Model\n",
        "These lines create the quantum model, synthesize the quantum program, and display it in the Classiq Ide."
      ]
    },
    {
      "cell_type": "code",
      "execution_count": null,
      "metadata": {
        "colab": {
          "base_uri": "https://localhost:8080/"
        },
        "id": "UKOuDyvC4jLp",
        "outputId": "7c284268-2c41-410b-e3b6-bc1d9bec348b"
      },
      "outputs": [
        {
          "name": "stdout",
          "output_type": "stream",
          "text": [
            "State=0, prob vec =[0, 1.0, 0, 0, 0, 0, 0, 0, 0, 0, 0, 0, 0, 0, 0, 0]\n",
            "State=1, prob vec =[0.5, 0, 0.5, 0, 0, 0, 0, 0, 0, 0, 0, 0, 0, 0, 0, 0]\n",
            "State=2, prob vec =[0, 0.5, 0, 0.5, 0, 0, 0, 0, 0, 0, 0, 0, 0, 0, 0, 0]\n",
            "State=3, prob vec =[0, 0, 0.5, 0, 0.5, 0, 0, 0, 0, 0, 0, 0, 0, 0, 0, 0]\n",
            "State=4, prob vec =[0, 0, 0, 0.5, 0, 0.5, 0, 0, 0, 0, 0, 0, 0, 0, 0, 0]\n",
            "State=5, prob vec =[0, 0, 0, 0, 0.5, 0, 0.5, 0, 0, 0, 0, 0, 0, 0, 0, 0]\n",
            "State=6, prob vec =[0, 0, 0, 0, 0, 0.5, 0, 0.5, 0, 0, 0, 0, 0, 0, 0, 0]\n",
            "State=7, prob vec =[0, 0, 0, 0, 0, 0, 0.5, 0, 0.5, 0, 0, 0, 0, 0, 0, 0]\n",
            "State=8, prob vec =[0, 0, 0, 0, 0, 0, 0, 0.5, 0, 0.5, 0, 0, 0, 0, 0, 0]\n",
            "State=9, prob vec =[0, 0, 0, 0, 0, 0, 0, 0, 0.5, 0, 0.5, 0, 0, 0, 0, 0]\n",
            "State=10, prob vec =[0, 0, 0, 0, 0, 0, 0, 0, 0, 0.5, 0, 0.5, 0, 0, 0, 0]\n",
            "State=11, prob vec =[0, 0, 0, 0, 0, 0, 0, 0, 0, 0, 0.5, 0, 0.5, 0, 0, 0]\n",
            "State=12, prob vec =[0, 0, 0, 0, 0, 0, 0, 0, 0, 0, 0, 0.5, 0, 0.5, 0, 0]\n",
            "State=13, prob vec =[0, 0, 0, 0, 0, 0, 0, 0, 0, 0, 0, 0, 0.5, 0, 0.5, 0]\n",
            "State=14, prob vec =[0, 0, 0, 0, 0, 0, 0, 0, 0, 0, 0, 0, 0, 0.5, 0, 0.5]\n",
            "State=15, prob vec =[0, 0, 0, 0, 0, 0, 0, 0, 0, 0, 0, 0, 0, 0, 1.0, 0]\n",
            "Opening: https://platform.classiq.io/circuit/bb981efd-8f5a-4186-a3c0-d842a99f7875?version=0.43.3\n"
          ]
        }
      ],
      "source": [
        "qmod = create_model(main)\n",
        "qprog = synthesize(qmod)\n",
        "show(qprog)"
      ]
    },
    {
      "cell_type": "markdown",
      "metadata": {
        "id": "A1oXpHGo39cN"
      },
      "source": [
        "#### 13. Visualizing the Quantum Walk\n",
        "This part of the code defines a simple visualization of the quantum walk on a line with 16 nodes. It performs a few iterations of the walk and plots the resulting probabilities for each node."
      ]
    },
    {
      "cell_type": "code",
      "execution_count": null,
      "metadata": {
        "colab": {
          "base_uri": "https://localhost:8080/",
          "height": 539
        },
        "id": "VVc1OcX0GVSS",
        "outputId": "a8221c56-5ac9-4af7-f250-1076ea17d496"
      },
      "outputs": [
        {
          "data": {
            "image/png": "[encoded data removed]",
            "text/plain": [
              "<Figure size 640x480 with 1 Axes>"
            ]
          },
          "metadata": {},
          "output_type": "display_data"
        }
      ],
      "source": [
        "def visualize_line_graph(num_nodes):\n",
        "    G = nx.Graph()\n",
        "    for i in range(num_nodes):\n",
        "        G.add_node(i)\n",
        "    for i in range(num_nodes):\n",
        "        if i > 0:\n",
        "            G.add_edge(i, i-1)\n",
        "        if i < num_nodes - 1:\n",
        "            G.add_edge(i, i+1)\n",
        "    pos = nx.spring_layout(G)\n",
        "    nx.draw(G, pos, with_labels=True, node_color='lightblue', node_size=700, font_size=10, font_weight='bold')\n",
        "    plt.title('Quantum Walk on a Line with 16 Nodes')\n",
        "    plt.show()\n",
        "\n",
        "visualize_line_graph(16)"
      ]
    },
    {
      "cell_type": "markdown",
      "metadata": {
        "id": "q8Y1bTbJ-TPn"
      },
      "source": [
        "## All the Code Together"
      ]
    },
    {
      "cell_type": "code",
      "execution_count": null,
      "metadata": {
        "id": "RLbnDAKg-VZT"
      },
      "outputs": [],
      "source": [
        "from classiq import *\n",
        "import networkx as nx\n",
        "import matplotlib.pyplot as plt\n",
        "\n",
        "size = 4\n",
        "\n",
        "@qfunc\n",
        "def prepare_minus(x: QBit):\n",
        "    X(x)\n",
        "    H(x)\n",
        "\n",
        "@qfunc\n",
        "def diffuzer_oracle(aux: Output[QNum], x: QNum):\n",
        "    aux ^= (x != 0)\n",
        "\n",
        "@qfunc\n",
        "def zero_diffuzer(x: QNum):\n",
        "    aux = QNum('aux')\n",
        "    allocate(1, aux)\n",
        "    within_apply(compute=lambda: prepare_minus(aux),\n",
        "                 action=lambda: diffuzer_oracle)\n",
        "\n",
        "def C_iteration(i:int,vertices: QNum, adjacent_vertices:QNum):\n",
        "    prob = [0] * 16\n",
        "    if i > 0 and i < 15:\n",
        "        prob[i - 1] = 0.5\n",
        "        prob[i + 1] = 0.5\n",
        "    elif i == 0:\n",
        "        prob[i + 1] = 1.0\n",
        "    elif i == 15:\n",
        "        prob[i - 1] = 1.0\n",
        "    # print(f'State={i}, prob vec ={prob}')\n",
        "\n",
        "    control(ctrl=vertices==i,\n",
        "            operand=lambda: within_apply(\n",
        "              compute= lambda: inplace_prepare_state(probabilities=prob, bound=0.01, target=adjacent_vertices),\n",
        "              action= lambda: zero_diffuzer(adjacent_vertices)))\n",
        "\n",
        "@qfunc\n",
        "def C_operator(vertices: QNum, adjacent_vertices: QNum):\n",
        "    for i in range(2 ** size):\n",
        "        C_iteration(i, vertices, adjacent_vertices)\n",
        "\n",
        "@qfunc\n",
        "def edge_oracle(res: Output[QBit], vertices: QNum, adjacent_vertices: QNum):\n",
        "    res |= (((vertices + adjacent_vertices) % 2) == 1)\n",
        "\n",
        "@qfunc\n",
        "def bitwise_swap(x: QArray[QBit], y: QArray[QBit]):\n",
        "    repeat(count=x.len,\n",
        "           iteration=lambda i: SWAP(x[i], y[i]))\n",
        "\n",
        "@qfunc\n",
        "def S_operator(vertices: QNum, adjacent_vertices: QNum):\n",
        "    res = QNum('res')\n",
        "    edge_oracle(res, vertices, adjacent_vertices)\n",
        "    control(ctrl=res == 1,\n",
        "            operand=lambda: bitwise_swap(vertices, adjacent_vertices))\n",
        "\n",
        "@qfunc\n",
        "def main(vertices: Output[QNum], adjacent_vertices: Output[QNum]):\n",
        "    allocate(size, vertices)\n",
        "    hadamard_transform(vertices)\n",
        "    allocate(size, adjacent_vertices)\n",
        "\n",
        "    C_operator(vertices, adjacent_vertices)\n",
        "    S_operator(vertices, adjacent_vertices)\n",
        "\n",
        "qmod = create_model(main)\n",
        "qprog = synthesize(qmod)\n",
        "show(qprog)\n",
        "\n",
        "def visualize_line_graph(num_nodes):\n",
        "    G = nx.Graph()\n",
        "    for i in range(num_nodes):\n",
        "        G.add_node(i)\n",
        "    for i in range(num_nodes):\n",
        "        if i > 0:\n",
        "            G.add_edge(i, i-1)\n",
        "        if i < num_nodes - 1:\n",
        "            G.add_edge(i, i+1)\n",
        "    pos = nx.spring_layout(G)\n",
        "    nx.draw(G, pos, with_labels=True, node_color='lightblue', node_size=700, font_size=10, font_weight='bold')\n",
        "    plt.title('Quantum Walk on a Line with 16 Nodes')\n",
        "    plt.show()\n",
        "\n",
        "visualize_line_graph(16)"
      ]
    }
  ],
  "metadata": {
    "colab": {
      "provenance": []
    },
    "kernelspec": {
      "display_name": "Python 3",
      "name": "python3"
    },
    "language_info": {
      "codemirror_mode": {
        "name": "ipython",
        "version": 3
      },
      "file_extension": ".py",
      "mimetype": "text/x-python",
      "name": "python",
      "nbconvert_exporter": "python",
      "pygments_lexer": "ipython3",
      "version": "3.12.3"
    }
  },
  "nbformat": 4,
  "nbformat_minor": 0
}
