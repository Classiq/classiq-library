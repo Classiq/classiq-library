{
 "cells": [
  {
   "cell_type": "markdown",
   "metadata": {},
   "source": [
    "CLASSIQ Assignment 6.12: Advanced Algorithms Design - Quantum Walk on a Line by Sirikarn Phuangthong"
   ]
  },
  {
   "cell_type": "markdown",
   "metadata": {},
   "source": [
    "Goal: To design the quantum walk operator for the case of a line with 16 nodes, modified from from the example case of a circle with 4 nodes."
   ]
  },
  {
   "cell_type": "code",
   "execution_count": 12,
   "metadata": {},
   "outputs": [],
   "source": [
    "# To begin, we import all the required classiq packages\n",
    "from classiq import *"
   ]
  },
  {
   "cell_type": "code",
   "execution_count": 3,
   "metadata": {},
   "outputs": [],
   "source": [
    "# We define the number of qubits used, as well as the desired nodes in the line graph\n",
    "size = 4 # how many qubits in the system, we want 16 nodes in the line graph, so we set qubit to 4\n",
    "nodes = 2 ** size # number of nodes in the line graph, which corresponds to 2 ** size"
   ]
  },
  {
   "cell_type": "code",
   "execution_count": 4,
   "metadata": {},
   "outputs": [],
   "source": [
    "# In order to implement the phase kickback, we need to prepare the qubite in the |−⟩ state, \n",
    "# then apply phase kickback using a diffuzer oracle. Please note both functions below.\n",
    "@qfunc\n",
    "def prepare_minus(x: QBit): # Prepares a qubit in the |−⟩ state using phase kickback\n",
    "  X(x) # Applies a Pauli-X gate to qubit x\n",
    "  H(x) # Applies a Hadamard gate to qubit x to create |−⟩ state\n",
    "\n",
    "@qfunc\n",
    "def diffuzer_oracle(aux: Output[QNum],x:QNum): # Implements an oracle for phase kickback\n",
    "  aux^=(x!=0) # Applies a phase flip to auxiliary qubit if x is not zero"
   ]
  },
  {
   "cell_type": "code",
   "execution_count": 5,
   "metadata": {},
   "outputs": [],
   "source": [
    "# We apply the phase kickback using the auxiliary qubit and the functions above.\n",
    "@qfunc\n",
    "def zero_diffuzer(x: QNum): # Applies phase kickback using an auxiliary qubit\n",
    "  aux = QNum('aux') # Initializes another auxiliary qubit\n",
    "  allocate(1,aux) # Allocates one qubit for auxiliary qubit\n",
    "  within_apply(compute=lambda: prepare_minus(aux), # Prepares the auxiliary qubit\n",
    "              action=lambda: diffuzer_oracle) # Applies the oracle for phase kickback"
   ]
  },
  {
   "cell_type": "code",
   "execution_count": 6,
   "metadata": {},
   "outputs": [],
   "source": [
    "# In order to implement the specific graph (in this case, a line graph), we need to define the W operator. \n",
    "# This operator will be used to apply the phase kickback to the quantum state. The W operator is defined below.\n",
    "def W_iteration(i:int,vertices: QNum, adjacent_vertices:QNum): # Executes one iteration of quantum operation\n",
    "    prob = [0] * nodes # Probability vectors for setting up quantum state. Here, we multiply so that there are 16 positions\n",
    "    if i == 0: # This applies to the first node only so that it will immediately go to the second node\n",
    "       prob[i + 1] = 1.0 \n",
    "    if i == nodes - 1: # This applies to the last node only so that it will immediately go to the second to the last node\n",
    "       prob[i - 1] = 1.0\n",
    "    if i > 0 and i < 16 - 1: # These are the nodes in between the first and last nodes\n",
    "        prob[i - 1] = 0.5\n",
    "        prob[i + 1] = 0.5\n",
    "    print(f'State={i}, prob vec ={prob}') # Prints current state and probability vector\n",
    "    \n",
    "    control(ctrl=vertices==i, # Control Condition: Vertices should equal i\n",
    "            operand=lambda: within_apply(\n",
    "              compute= lambda: inplace_prepare_state(probabilities=prob, bound=0.01, target=adjacent_vertices),\n",
    "              action= lambda: zero_diffuzer(adjacent_vertices))) # Applies phase kickback\n",
    "\n",
    "# The W operator uses the W_iteration function to apply the phase kickback to the quantum state. \n",
    "# This is done by iterating over all the nodes in the line graph.\n",
    "@qfunc \n",
    "def W_operator(vertices:QNum, adjacent_vertices: QNum): # This is similar to the 'repeat' function in qmod. Here, we interate over all the nodes.\n",
    "    for i in range(nodes): # Iterates over all possible states of vertices\n",
    "      W_iteration(i,vertices,adjacent_vertices) # Applies the W_iteration function"
   ]
  },
  {
   "cell_type": "code",
   "execution_count": 7,
   "metadata": {},
   "outputs": [],
   "source": [
    "# The edge oracle is used to determine if the sum of the vertices and adjacent vertices is odd. \n",
    "# If the sum is odd, the output is set to 1. Otherwise, the output is set to 0.\n",
    "@qfunc\n",
    "def edge_oracle(res:Output[QBit], vertices: QNum, adjacent_vertices: QNum):\n",
    "  res |= (((vertices+adjacent_vertices)%2) ==1) # Set res to 1 if the sum of vertices and adjacent_vertices is odd"
   ]
  },
  {
   "cell_type": "code",
   "execution_count": 8,
   "metadata": {},
   "outputs": [],
   "source": [
    "# The bitwise_swap function is used to swap the qubits in the x and y arrays. \n",
    "# This is done by iterating over all the qubits in the arrays and swapping the corresponding qubits.\n",
    "@qfunc \n",
    "def bitwise_swap(x: QArray[QBit], y:QArray[QBit]):\n",
    "  repeat(count= x.len,\n",
    "    iteration= lambda i: SWAP(x[i],y[i])) # Swaps corresponding qubits in x and y arrays"
   ]
  },
  {
   "cell_type": "code",
   "execution_count": 9,
   "metadata": {},
   "outputs": [],
   "source": [
    "# The S operator is defined below. \n",
    "# This operator is used to apply the edge oracle and bitwise swap to the quantum state.\n",
    "@qfunc \n",
    "def S_operator(vertices:QNum, adjacent_vertices: QNum):\n",
    "    res = QNum('res') # Initializes a result qubit\n",
    "    edge_oracle(res,vertices,adjacent_vertices)\n",
    "    control(ctrl= res==1,\n",
    "        operand= lambda: bitwise_swap(vertices,adjacent_vertices)) # Computes the res value based on edge_oracle"
   ]
  },
  {
   "cell_type": "code",
   "execution_count": 10,
   "metadata": {},
   "outputs": [],
   "source": [
    "# The main code is to run the quantum operations. \n",
    "# We allocate qubits for vertices and adjacent_vertices, \n",
    "# apply the Hadamard transform to vertices, and then apply the W and S operators.\n",
    "@qfunc \n",
    "def main(vertices:Output[QNum], adjacent_vertices:Output[QNum]):\n",
    "\n",
    "  allocate(size,vertices) # Allocates qubits for vertices\n",
    "  hadamard_transform(vertices) # Applies Hadamard transform to vertices to create superposition\n",
    "  allocate(size,adjacent_vertices) # Allocates qubits for adjacent_vertices\n",
    "\n",
    "  W_operator(vertices,adjacent_vertices) # Applies W_operator\n",
    "  S_operator(vertices,adjacent_vertices) # Applies S_operator"
   ]
  },
  {
   "cell_type": "code",
   "execution_count": 11,
   "metadata": {},
   "outputs": [
    {
     "name": "stdout",
     "output_type": "stream",
     "text": [
      "State=0, prob vec =[0, 1.0, 0, 0, 0, 0, 0, 0, 0, 0, 0, 0, 0, 0, 0, 0]\n",
      "State=1, prob vec =[0.5, 0, 0.5, 0, 0, 0, 0, 0, 0, 0, 0, 0, 0, 0, 0, 0]\n",
      "State=2, prob vec =[0, 0.5, 0, 0.5, 0, 0, 0, 0, 0, 0, 0, 0, 0, 0, 0, 0]\n",
      "State=3, prob vec =[0, 0, 0.5, 0, 0.5, 0, 0, 0, 0, 0, 0, 0, 0, 0, 0, 0]\n",
      "State=4, prob vec =[0, 0, 0, 0.5, 0, 0.5, 0, 0, 0, 0, 0, 0, 0, 0, 0, 0]\n",
      "State=5, prob vec =[0, 0, 0, 0, 0.5, 0, 0.5, 0, 0, 0, 0, 0, 0, 0, 0, 0]\n",
      "State=6, prob vec =[0, 0, 0, 0, 0, 0.5, 0, 0.5, 0, 0, 0, 0, 0, 0, 0, 0]\n",
      "State=7, prob vec =[0, 0, 0, 0, 0, 0, 0.5, 0, 0.5, 0, 0, 0, 0, 0, 0, 0]\n",
      "State=8, prob vec =[0, 0, 0, 0, 0, 0, 0, 0.5, 0, 0.5, 0, 0, 0, 0, 0, 0]\n",
      "State=9, prob vec =[0, 0, 0, 0, 0, 0, 0, 0, 0.5, 0, 0.5, 0, 0, 0, 0, 0]\n",
      "State=10, prob vec =[0, 0, 0, 0, 0, 0, 0, 0, 0, 0.5, 0, 0.5, 0, 0, 0, 0]\n",
      "State=11, prob vec =[0, 0, 0, 0, 0, 0, 0, 0, 0, 0, 0.5, 0, 0.5, 0, 0, 0]\n",
      "State=12, prob vec =[0, 0, 0, 0, 0, 0, 0, 0, 0, 0, 0, 0.5, 0, 0.5, 0, 0]\n",
      "State=13, prob vec =[0, 0, 0, 0, 0, 0, 0, 0, 0, 0, 0, 0, 0.5, 0, 0.5, 0]\n",
      "State=14, prob vec =[0, 0, 0, 0, 0, 0, 0, 0, 0, 0, 0, 0, 0, 0.5, 0, 0.5]\n",
      "State=15, prob vec =[0, 0, 0, 0, 0, 0, 0, 0, 0, 0, 0, 0, 0, 0, 1.0, 0]\n",
      "Opening: https://platform.classiq.io/circuit/3c2ad687-522a-4a4c-a61b-242687faba3f?version=0.43.3\n"
     ]
    }
   ],
   "source": [
    "# The code below is the standard code for creating, synthesizing, and displaying the quantum program.\n",
    "qmod = create_model(main) # Creates a quantum model based on the main function\n",
    "qprog = synthesize(qmod) # Synthesizes the quantum model into a quantum program\n",
    "show(qprog) # Displays the synthesized quantum program"
   ]
  }
 ],
 "metadata": {
  "kernelspec": {
   "display_name": "qiskit",
   "language": "python",
   "name": "python3"
  },
  "language_info": {
   "codemirror_mode": {
    "name": "ipython",
    "version": 3
   },
   "file_extension": ".py",
   "mimetype": "text/x-python",
   "name": "python",
   "nbconvert_exporter": "python",
   "pygments_lexer": "ipython3",
   "version": "3.8.8"
  }
 },
 "nbformat": 4,
 "nbformat_minor": 2
}
