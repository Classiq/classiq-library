{
 "cells": [
  {
   "cell_type": "markdown",
   "id": "b7f74e3a-7dae-4939-a2ef-0ff82d8eadd0",
   "metadata": {},
   "source": [
    "\n",
    "# Assignment 6.12 - womanium 2024\n"
   ]
  },
  {
   "cell_type": "markdown",
   "id": "adc17ffc-b892-4a94-bebb-4ba74d208a9e",
   "metadata": {
    "tags": []
   },
   "source": [
    "## Assignment: Advanced Algorithms Design\n",
    "## _Quantum random walk_\n",
    "**Instructions - Final assignment**\n",
    "\n",
    "Follow the example from Bootcamp 4 for creating the quantum walk operator for the case of a circle with 4 nodes, and design the quantum walk operator for the case of a line with 16 nodes:\n",
    "\n",
    "**Tasks:**\n",
    "\n",
    "- A. Create a well-detailed Python Jupyter notebook that explains your algorithm, including the code parts covered in class, and pictures/figures where relevant. Utilize the Python code from class: quantum_walk_circle_example.py. It can be found directly also in the Classiq Git Library in the community/womanium/assignments folder. Feel free to extend the example beyond the requirements here and what was covered in class.\n",
    "\n",
    "- B. Contribute your notebook to the Classiq Git Library to the folder community/womanium/assignments. Follow the contribution guidelines in order to contribute - NO need to open an issue for this, you can directly open a PR. The PR title should be: Womanium Final Assignment - <First Name> <Last Name>. The file name should be in the following format: <first_name>_<last_name>_hw4.ipynb."
   ]
  },
  {
   "cell_type": "code",
   "execution_count": 3,
   "id": "202628d6-3fe3-47fa-8a15-04b7fd9716f4",
   "metadata": {
    "tags": []
   },
   "outputs": [],
   "source": [
    "from classiq import *"
   ]
  },
  {
   "cell_type": "markdown",
   "id": "9f608bac-c3eb-495e-9015-3e6396c7543c",
   "metadata": {
    "tags": []
   },
   "source": [
    "# Implementation\n",
    "\n",
    "Implementation of a quantum random walk on a circle/one-dimensional line graph with size num_nodes. The core components are:\n",
    "\n",
    "1. **Initialization**:\n",
    "    - Setting the number of nodes and the size of the register.\n",
    "\n",
    "2. **Quantum State Preparation**:\n",
    "    - The prepare_minus function prepares a quantum state by applying an X gate (bit-flip) followed by a Hadamard gate (superposition) to a qubit x.\n",
    "    - The diffuzer_oracle function modifies an auxiliary qubit based on whether x is non-zero.\n",
    "    - The zero_diffuzer function allocates an auxiliary qubit, prepares it in the minus state, and applies the diffuzer_oracle.\n",
    "\n",
    "3. **W Operator**:\n",
    "    - The W_iteration function computes probabilities for transitioning between adjacent vertices in a graph.\n",
    "\n",
    "4. **Edge Oracle**:\n",
    "    - The edge_oracle function checks whether vertices and adjacent_vertices are adjacent and sets the result in the output qubit res.\n",
    "\n",
    "5. **Bitwise Swap**:\n",
    "    - The bitwise_swap function swaps corresponding qubits between two arrays x and y.\n",
    "\n",
    "6. **S Operator**:\n",
    "    - The S_operator function applies the edge oracle and swaps qubits if the result is 1.\n",
    "\n",
    "7. **Main Function**:\n",
    "    - The main function allocates qubits for vertices and adjacent_vertices.\n",
    "    - It applies the W operator and S operator sequentially.\n",
    "\n",
    "In summary, this program simulates a quantum random walk on a graph, where the walker's position is represented by quantum states. \n",
    "\n",
    "The W operator updates the probabilities for transitioning between adjacent vertices, and the S operator performs a random step by applying an edge oracle to ensure vertex adjacency and swaps qubits accordingly.\n"
   ]
  },
  {
   "cell_type": "markdown",
   "id": "bbe3dfa3-2265-44af-b708-9a0ad189f5bf",
   "metadata": {},
   "source": [
    "## Common functions for circles or lines"
   ]
  },
  {
   "cell_type": "code",
   "execution_count": 4,
   "id": "425c8fd2-f8f5-409b-a569-d923819437c4",
   "metadata": {
    "tags": []
   },
   "outputs": [],
   "source": [
    "\n",
    "# Prepares the minus state (aux qubit) for the diffuzer oracle\n",
    "@qfunc\n",
    "def prepare_minus(x: QBit):\n",
    "  X(x)\n",
    "  H(x)\n",
    "\n",
    "# x: current node\n",
    "@qfunc\n",
    "def diffuzer_oracle(aux: Output[QNum],x:QNum):\n",
    "  aux^=(x!=0)\n",
    "\n",
    "# Zero diffuser using Grover's algorithm technique\n",
    "# x: current node \n",
    "@qfunc\n",
    "def zero_diffuzer(x: QNum):\n",
    "  aux = QNum('aux')\n",
    "  allocate(1,aux)\n",
    "  within_apply(compute=lambda: prepare_minus(aux),\n",
    "              action=lambda: diffuzer_oracle)\n",
    "\n",
    "# non-zero probabilities for allowable transitions\n",
    "# @qfunc\n",
    "# def W_iteration\n",
    "\n",
    "# Iterates over all possible positions and applies \n",
    "# the W_iteration for each position.\n",
    "@qfunc \n",
    "def W_operator(vertices:QNum, adjacent_vertices: QNum):\n",
    "    for i in range(num_nodes):\n",
    "      W_iteration(i,vertices,adjacent_vertices)\n",
    "\n",
    "# Edge oracle for checking adjacency of 2 vertices\n",
    "#\n",
    "#@qfunc\n",
    "#def edge_oracle\n",
    "\n",
    "# Swaps the contents of two quantum registers: moves the walker\n",
    "@qfunc \n",
    "def bitwise_swap(x: QArray[QBit], y:QArray[QBit]):\n",
    "  repeat(count= x.len,\n",
    "    iteration= lambda i: SWAP(x[i],y[i]))\n",
    "\n",
    "# shift operator moving the walker if vertices adjacent\n",
    "@qfunc \n",
    "def S_operator(vertices:QNum, adjacent_vertices: QNum):\n",
    "    res = QNum('res')\n",
    "    edge_oracle(res,vertices,adjacent_vertices)\n",
    "    control(ctrl= res==1,\n",
    "        operand= lambda: bitwise_swap(vertices,adjacent_vertices))\n"
   ]
  },
  {
   "cell_type": "markdown",
   "id": "9761696b-cefe-4ea0-9c91-ebd33af62e22",
   "metadata": {},
   "source": [
    "## Circle-specific functions\n",
    "\n",
    "Here we have the function W_iteration with the probability of 0.5 going in either direction.\n",
    "\n",
    "What is special about a random walk on a circle is that the node (0) and the node (num_nodes-1) are adjacent. This fact is taken care of in the function edge_oracle."
   ]
  },
  {
   "cell_type": "code",
   "execution_count": 5,
   "id": "5ab73e30-56fd-4028-bb13-e2f883a4e3ae",
   "metadata": {
    "tags": []
   },
   "outputs": [],
   "source": [
    "\n",
    "# non-zero probabilities for allowable transitions\n",
    "def W_iteration(i:int,vertices: QNum, adjacent_vertices:QNum):\n",
    "    prob = [0] * num_nodes\n",
    "    prob[(i+1)% num_nodes]=0.5\n",
    "    prob[(i-1)% num_nodes]=0.5\n",
    "    print(f'State={i}, prob vec ={prob}')\n",
    "    \n",
    "    control(ctrl=vertices==i,\n",
    "            operand=lambda: within_apply(\n",
    "              compute= lambda: \n",
    "                inplace_prepare_state(probabilities=prob, bound=0.01, target=adjacent_vertices),\n",
    "              action= lambda: \n",
    "                zero_diffuzer(adjacent_vertices)))\n",
    "    \n",
    "# Edge oracle for checking adjacency of two vertices \n",
    "@qfunc\n",
    "def edge_oracle(res:Output[QBit], vertices: QNum, adjacent_vertices: QNum):\n",
    "  diff = vertices - adjacent_vertices\n",
    "  mod = diff%num_nodes\n",
    "  res |= (mod == 1) | (mod == num_nodes-1)\n"
   ]
  },
  {
   "cell_type": "markdown",
   "id": "423cf377-1bc7-4637-855c-b82ced39cca9",
   "metadata": {},
   "source": [
    "## Circle with 4 nodes"
   ]
  },
  {
   "cell_type": "code",
   "execution_count": 6,
   "id": "e39e695c-cc7d-4983-ba7b-2d076262a66b",
   "metadata": {
    "tags": []
   },
   "outputs": [],
   "source": [
    "# Circle with 4 Nodes \n",
    "\n",
    "# Size of the register required for the number of nodes\n",
    "size = 2\n",
    "num_nodes = 2**size\n"
   ]
  },
  {
   "cell_type": "code",
   "execution_count": 7,
   "id": "a863aa31-dc65-4ad4-9985-4fca062ab269",
   "metadata": {
    "tags": []
   },
   "outputs": [],
   "source": [
    "# Main quantum walk operator function\n",
    "# applies the W and S operators after initializing\n",
    "# vertices\n",
    "@qfunc \n",
    "def main(vertices:Output[QNum], adjacent_vertices:Output[QNum]):\n",
    "\n",
    "  allocate(size,vertices)\n",
    "  hadamard_transform(vertices)\n",
    "  allocate(size,adjacent_vertices)\n",
    "\n",
    "  W_operator(vertices,adjacent_vertices)\n",
    "  S_operator(vertices,adjacent_vertices)"
   ]
  },
  {
   "cell_type": "code",
   "execution_count": 8,
   "id": "1427b784-9701-4338-aec2-5cb5566a6d32",
   "metadata": {
    "tags": []
   },
   "outputs": [
    {
     "name": "stdout",
     "output_type": "stream",
     "text": [
      "State=0, prob vec =[0, 0.5, 0, 0.5]\n",
      "State=1, prob vec =[0.5, 0, 0.5, 0]\n",
      "State=2, prob vec =[0, 0.5, 0, 0.5]\n",
      "State=3, prob vec =[0.5, 0, 0.5, 0]\n"
     ]
    }
   ],
   "source": [
    "qmod = create_model(main)\n",
    "qprog = synthesize(qmod)\n",
    "#show(qprog)"
   ]
  },
  {
   "cell_type": "code",
   "execution_count": 32,
   "id": "22cec3d3-aef0-46c6-9de2-74ee40d81b96",
   "metadata": {
    "tags": []
   },
   "outputs": [],
   "source": [
    "write_qmod(qmod,\"random4\")"
   ]
  },
  {
   "cell_type": "markdown",
   "id": "0c9a5e9c-ed50-44d1-b9ed-665f96274a92",
   "metadata": {},
   "source": [
    "## Circle with 8 nodes"
   ]
  },
  {
   "cell_type": "code",
   "execution_count": 9,
   "id": "a5063b48-425c-4d73-8d6e-8b575cc61be3",
   "metadata": {
    "tags": []
   },
   "outputs": [],
   "source": [
    "# Circle with 8 Nodes \n",
    "\n",
    "# Size of the register required for the number of nodes\n",
    "size = 3\n",
    "num_nodes = 8\n"
   ]
  },
  {
   "cell_type": "code",
   "execution_count": 10,
   "id": "d137cf61-e92b-46d4-870e-4d1fc021650c",
   "metadata": {
    "tags": []
   },
   "outputs": [],
   "source": [
    "# Main quantum walk operator function\n",
    "@qfunc \n",
    "def main(vertices:Output[QNum], adjacent_vertices:Output[QNum]):\n",
    "\n",
    "  allocate(size,vertices)\n",
    "  hadamard_transform(vertices)\n",
    "  allocate(size,adjacent_vertices)\n",
    "\n",
    "  W_operator(vertices,adjacent_vertices)\n",
    "  S_operator(vertices,adjacent_vertices)"
   ]
  },
  {
   "cell_type": "code",
   "execution_count": 11,
   "id": "94168a88-cdb4-411c-a162-52adf0c622bb",
   "metadata": {
    "tags": []
   },
   "outputs": [
    {
     "name": "stdout",
     "output_type": "stream",
     "text": [
      "State=0, prob vec =[0, 0.5, 0, 0, 0, 0, 0, 0.5]\n",
      "State=1, prob vec =[0.5, 0, 0.5, 0, 0, 0, 0, 0]\n",
      "State=2, prob vec =[0, 0.5, 0, 0.5, 0, 0, 0, 0]\n",
      "State=3, prob vec =[0, 0, 0.5, 0, 0.5, 0, 0, 0]\n",
      "State=4, prob vec =[0, 0, 0, 0.5, 0, 0.5, 0, 0]\n",
      "State=5, prob vec =[0, 0, 0, 0, 0.5, 0, 0.5, 0]\n",
      "State=6, prob vec =[0, 0, 0, 0, 0, 0.5, 0, 0.5]\n",
      "State=7, prob vec =[0.5, 0, 0, 0, 0, 0, 0.5, 0]\n"
     ]
    }
   ],
   "source": [
    "qmod = create_model(main)\n",
    "qprog = synthesize(qmod)\n",
    "#show(qprog)"
   ]
  },
  {
   "cell_type": "markdown",
   "id": "7458e3ac-0e87-49e2-9139-59ee31fc27f4",
   "metadata": {},
   "source": [
    "## Circle with 16 nodes"
   ]
  },
  {
   "cell_type": "code",
   "execution_count": 12,
   "id": "7e7ad59c-80ca-4452-af10-883711c9b104",
   "metadata": {
    "tags": []
   },
   "outputs": [],
   "source": [
    "# Circle with 16 Nodes \n",
    "\n",
    "# Size of the register required for the number of nodes\n",
    "size = 4\n",
    "num_nodes = 16\n"
   ]
  },
  {
   "cell_type": "code",
   "execution_count": 13,
   "id": "d3444344-5117-4021-9d15-1476582bf61d",
   "metadata": {
    "tags": []
   },
   "outputs": [],
   "source": [
    "# Main quantum walk function\n",
    "@qfunc \n",
    "def main(vertices:Output[QNum], adjacent_vertices:Output[QNum]):\n",
    "\n",
    "  allocate(size,vertices)\n",
    "  hadamard_transform(vertices)\n",
    "  allocate(size,adjacent_vertices)\n",
    "\n",
    "  W_operator(vertices,adjacent_vertices)\n",
    "  S_operator(vertices,adjacent_vertices)"
   ]
  },
  {
   "cell_type": "code",
   "execution_count": 14,
   "id": "d30601d3-5b4f-4b23-af9d-f93d0a4f6777",
   "metadata": {
    "tags": []
   },
   "outputs": [
    {
     "name": "stdout",
     "output_type": "stream",
     "text": [
      "State=0, prob vec =[0, 0.5, 0, 0, 0, 0, 0, 0, 0, 0, 0, 0, 0, 0, 0, 0.5]\n",
      "State=1, prob vec =[0.5, 0, 0.5, 0, 0, 0, 0, 0, 0, 0, 0, 0, 0, 0, 0, 0]\n",
      "State=2, prob vec =[0, 0.5, 0, 0.5, 0, 0, 0, 0, 0, 0, 0, 0, 0, 0, 0, 0]\n",
      "State=3, prob vec =[0, 0, 0.5, 0, 0.5, 0, 0, 0, 0, 0, 0, 0, 0, 0, 0, 0]\n",
      "State=4, prob vec =[0, 0, 0, 0.5, 0, 0.5, 0, 0, 0, 0, 0, 0, 0, 0, 0, 0]\n",
      "State=5, prob vec =[0, 0, 0, 0, 0.5, 0, 0.5, 0, 0, 0, 0, 0, 0, 0, 0, 0]\n",
      "State=6, prob vec =[0, 0, 0, 0, 0, 0.5, 0, 0.5, 0, 0, 0, 0, 0, 0, 0, 0]\n",
      "State=7, prob vec =[0, 0, 0, 0, 0, 0, 0.5, 0, 0.5, 0, 0, 0, 0, 0, 0, 0]\n",
      "State=8, prob vec =[0, 0, 0, 0, 0, 0, 0, 0.5, 0, 0.5, 0, 0, 0, 0, 0, 0]\n",
      "State=9, prob vec =[0, 0, 0, 0, 0, 0, 0, 0, 0.5, 0, 0.5, 0, 0, 0, 0, 0]\n",
      "State=10, prob vec =[0, 0, 0, 0, 0, 0, 0, 0, 0, 0.5, 0, 0.5, 0, 0, 0, 0]\n",
      "State=11, prob vec =[0, 0, 0, 0, 0, 0, 0, 0, 0, 0, 0.5, 0, 0.5, 0, 0, 0]\n",
      "State=12, prob vec =[0, 0, 0, 0, 0, 0, 0, 0, 0, 0, 0, 0.5, 0, 0.5, 0, 0]\n",
      "State=13, prob vec =[0, 0, 0, 0, 0, 0, 0, 0, 0, 0, 0, 0, 0.5, 0, 0.5, 0]\n",
      "State=14, prob vec =[0, 0, 0, 0, 0, 0, 0, 0, 0, 0, 0, 0, 0, 0.5, 0, 0.5]\n",
      "State=15, prob vec =[0.5, 0, 0, 0, 0, 0, 0, 0, 0, 0, 0, 0, 0, 0, 0.5, 0]\n"
     ]
    }
   ],
   "source": [
    "qmod = create_model(main)\n",
    "qprog = synthesize(qmod)\n",
    "#show(qprog)"
   ]
  },
  {
   "cell_type": "markdown",
   "id": "ccfdf941-9d91-402f-a200-ccc266f73e99",
   "metadata": {},
   "source": [
    "## Line-specific functions\n",
    "The function W_iteration defines the transition probabilities for a line. At the beginning and at the end of the line the walker can go only in one direction (probability = 1). For all other nodes the probability going in either direction is 0.5.\n",
    "\n",
    "Here the function edge_oracle just has to check whether the vertices are adjacent (distance = 1)."
   ]
  },
  {
   "cell_type": "code",
   "execution_count": 15,
   "id": "47e777d7-6527-4901-a034-951c624037e4",
   "metadata": {
    "tags": []
   },
   "outputs": [],
   "source": [
    "\n",
    "# non-zero probabilities for allowable probabilities\n",
    "def W_iteration(i:int,vertices: QNum, adjacent_vertices:QNum):\n",
    "    prob = [0] * (num_nodes)\n",
    "    if i == 0:\n",
    "        prob[i + 1] = 1.0\n",
    "    elif i == (num_nodes) -1:\n",
    "        prob[i - 1] = 1.0\n",
    "    else:\n",
    "        prob[i - 1] = 0.5\n",
    "        prob[i + 1] = 0.5\n",
    "    print(f'State={i}, prob vec ={prob}')\n",
    "    \n",
    "    control(ctrl=vertices==i,\n",
    "            operand=lambda: within_apply(\n",
    "              compute= lambda: \n",
    "                inplace_prepare_state(probabilities=prob, bound=0.01, target=adjacent_vertices),\n",
    "              action= lambda: \n",
    "                zero_diffuzer(adjacent_vertices)))\n",
    "\n",
    "\n",
    "# Edge oracle for checking adjacency of two vertices\n",
    "@qfunc\n",
    "def edge_oracle(res:Output[QBit], vertices: QNum, adjacent_vertices: QNum):\n",
    "  diff = vertices - adjacent_vertices\n",
    "  res |= (diff == 1) | (diff == -1)\n"
   ]
  },
  {
   "cell_type": "markdown",
   "id": "07488d17-7cac-4e36-8335-e3303cff8efe",
   "metadata": {},
   "source": [
    "## Line with 4 nodes"
   ]
  },
  {
   "cell_type": "code",
   "execution_count": 16,
   "id": "92d3f78c-ee23-45bf-acba-6d0ff0608847",
   "metadata": {
    "tags": []
   },
   "outputs": [],
   "source": [
    "# Line with 4 Nodes\n",
    "\n",
    "# Register size to accomodate the number of vertices\n",
    "size = 2\n",
    "num_nodes = 2**size\n"
   ]
  },
  {
   "cell_type": "code",
   "execution_count": 17,
   "id": "613c61cc-10ea-4950-a262-3dd572c8701c",
   "metadata": {
    "tags": []
   },
   "outputs": [],
   "source": [
    "# Main quantum walk function\n",
    "@qfunc \n",
    "def main(vertices:Output[QNum], adjacent_vertices:Output[QNum]):\n",
    "\n",
    "  allocate(size,vertices)\n",
    "  hadamard_transform(vertices)\n",
    "  allocate(size,adjacent_vertices)\n",
    "\n",
    "  W_operator(vertices,adjacent_vertices)\n",
    "  S_operator(vertices,adjacent_vertices)"
   ]
  },
  {
   "cell_type": "code",
   "execution_count": 18,
   "id": "46fca7f3-3106-416d-a3f8-379f7095f8fa",
   "metadata": {
    "tags": []
   },
   "outputs": [
    {
     "name": "stdout",
     "output_type": "stream",
     "text": [
      "State=0, prob vec =[0, 1.0, 0, 0]\n",
      "State=1, prob vec =[0.5, 0, 0.5, 0]\n",
      "State=2, prob vec =[0, 0.5, 0, 0.5]\n",
      "State=3, prob vec =[0, 0, 1.0, 0]\n"
     ]
    }
   ],
   "source": [
    "qmod = create_model(main)\n",
    "qprog = synthesize(qmod)\n",
    "#show(qprog)"
   ]
  },
  {
   "cell_type": "code",
   "execution_count": 29,
   "id": "9dd17d8c-83dd-463d-b155-9b8c949f97d1",
   "metadata": {
    "tags": []
   },
   "outputs": [],
   "source": [
    "write_qmod(qmod,\"random4\")"
   ]
  },
  {
   "cell_type": "markdown",
   "id": "cfbc239f-2bfb-496a-a752-1a84f657ac3f",
   "metadata": {},
   "source": [
    "## Line with 8 nodes"
   ]
  },
  {
   "cell_type": "code",
   "execution_count": 19,
   "id": "08283335-a49f-4d6e-a702-fb76ab01724b",
   "metadata": {
    "tags": []
   },
   "outputs": [],
   "source": [
    "# Line with 8 Nodes\n",
    "\n",
    "# Register size to accomodate the number of vertices\n",
    "size = 3\n",
    "num_nodes = 2**size\n"
   ]
  },
  {
   "cell_type": "code",
   "execution_count": 20,
   "id": "07a57ceb-c1da-47d7-8d6b-45e18667d747",
   "metadata": {
    "tags": []
   },
   "outputs": [],
   "source": [
    "# Main quantum walk function\n",
    "@qfunc \n",
    "def main(vertices:Output[QNum], adjacent_vertices:Output[QNum]):\n",
    "\n",
    "  allocate(size,vertices)\n",
    "  hadamard_transform(vertices)\n",
    "  allocate(size,adjacent_vertices)\n",
    "\n",
    "  W_operator(vertices,adjacent_vertices)\n",
    "  S_operator(vertices,adjacent_vertices)"
   ]
  },
  {
   "cell_type": "code",
   "execution_count": 21,
   "id": "fb711141-eadd-4ac5-bb1d-fbd31bb71f8f",
   "metadata": {
    "tags": []
   },
   "outputs": [
    {
     "name": "stdout",
     "output_type": "stream",
     "text": [
      "State=0, prob vec =[0, 1.0, 0, 0, 0, 0, 0, 0]\n",
      "State=1, prob vec =[0.5, 0, 0.5, 0, 0, 0, 0, 0]\n",
      "State=2, prob vec =[0, 0.5, 0, 0.5, 0, 0, 0, 0]\n",
      "State=3, prob vec =[0, 0, 0.5, 0, 0.5, 0, 0, 0]\n",
      "State=4, prob vec =[0, 0, 0, 0.5, 0, 0.5, 0, 0]\n",
      "State=5, prob vec =[0, 0, 0, 0, 0.5, 0, 0.5, 0]\n",
      "State=6, prob vec =[0, 0, 0, 0, 0, 0.5, 0, 0.5]\n",
      "State=7, prob vec =[0, 0, 0, 0, 0, 0, 1.0, 0]\n"
     ]
    }
   ],
   "source": [
    "qmod = create_model(main)\n",
    "qprog = synthesize(qmod)\n",
    "#show(qprog)"
   ]
  },
  {
   "cell_type": "markdown",
   "id": "7b486184-7850-4c58-baac-9e89a942e059",
   "metadata": {
    "tags": []
   },
   "source": [
    "## Line with 16 nodes"
   ]
  },
  {
   "cell_type": "code",
   "execution_count": 22,
   "id": "52ccbff2-f15f-4fe2-86fd-6e1d0128f428",
   "metadata": {
    "tags": []
   },
   "outputs": [],
   "source": [
    "# Line with 16 Nodes\n",
    "\n",
    "# Register size to accomodate the number of vertices\n",
    "size = 4\n",
    "num_nodes = 2**size\n"
   ]
  },
  {
   "cell_type": "code",
   "execution_count": 23,
   "id": "e773bbb1-e532-477e-8891-c47f8f4f1f8d",
   "metadata": {
    "tags": []
   },
   "outputs": [],
   "source": [
    "# Main quantum walk function\n",
    "@qfunc \n",
    "def main(vertices:Output[QNum], adjacent_vertices:Output[QNum]):\n",
    "\n",
    "  allocate(size,vertices)\n",
    "  hadamard_transform(vertices)\n",
    "  allocate(size,adjacent_vertices)\n",
    "\n",
    "  W_operator(vertices,adjacent_vertices)\n",
    "  S_operator(vertices,adjacent_vertices)"
   ]
  },
  {
   "cell_type": "code",
   "execution_count": 24,
   "id": "c3833a55-49af-4214-be22-5b52eaa22ba6",
   "metadata": {
    "tags": []
   },
   "outputs": [
    {
     "name": "stdout",
     "output_type": "stream",
     "text": [
      "State=0, prob vec =[0, 1.0, 0, 0, 0, 0, 0, 0, 0, 0, 0, 0, 0, 0, 0, 0]\n",
      "State=1, prob vec =[0.5, 0, 0.5, 0, 0, 0, 0, 0, 0, 0, 0, 0, 0, 0, 0, 0]\n",
      "State=2, prob vec =[0, 0.5, 0, 0.5, 0, 0, 0, 0, 0, 0, 0, 0, 0, 0, 0, 0]\n",
      "State=3, prob vec =[0, 0, 0.5, 0, 0.5, 0, 0, 0, 0, 0, 0, 0, 0, 0, 0, 0]\n",
      "State=4, prob vec =[0, 0, 0, 0.5, 0, 0.5, 0, 0, 0, 0, 0, 0, 0, 0, 0, 0]\n",
      "State=5, prob vec =[0, 0, 0, 0, 0.5, 0, 0.5, 0, 0, 0, 0, 0, 0, 0, 0, 0]\n",
      "State=6, prob vec =[0, 0, 0, 0, 0, 0.5, 0, 0.5, 0, 0, 0, 0, 0, 0, 0, 0]\n",
      "State=7, prob vec =[0, 0, 0, 0, 0, 0, 0.5, 0, 0.5, 0, 0, 0, 0, 0, 0, 0]\n",
      "State=8, prob vec =[0, 0, 0, 0, 0, 0, 0, 0.5, 0, 0.5, 0, 0, 0, 0, 0, 0]\n",
      "State=9, prob vec =[0, 0, 0, 0, 0, 0, 0, 0, 0.5, 0, 0.5, 0, 0, 0, 0, 0]\n",
      "State=10, prob vec =[0, 0, 0, 0, 0, 0, 0, 0, 0, 0.5, 0, 0.5, 0, 0, 0, 0]\n",
      "State=11, prob vec =[0, 0, 0, 0, 0, 0, 0, 0, 0, 0, 0.5, 0, 0.5, 0, 0, 0]\n",
      "State=12, prob vec =[0, 0, 0, 0, 0, 0, 0, 0, 0, 0, 0, 0.5, 0, 0.5, 0, 0]\n",
      "State=13, prob vec =[0, 0, 0, 0, 0, 0, 0, 0, 0, 0, 0, 0, 0.5, 0, 0.5, 0]\n",
      "State=14, prob vec =[0, 0, 0, 0, 0, 0, 0, 0, 0, 0, 0, 0, 0, 0.5, 0, 0.5]\n",
      "State=15, prob vec =[0, 0, 0, 0, 0, 0, 0, 0, 0, 0, 0, 0, 0, 0, 1.0, 0]\n"
     ]
    }
   ],
   "source": [
    "qmod = create_model(main)\n",
    "qprog = synthesize(qmod)\n",
    "#show(qprog)"
   ]
  },
  {
   "cell_type": "markdown",
   "id": "4b28d548-febf-43b3-9271-6cab28fd2cbb",
   "metadata": {},
   "source": [
    "# Results"
   ]
  },
  {
   "cell_type": "markdown",
   "id": "b7d6c2a8-063f-4ffe-bf3c-18212aa1d57f",
   "metadata": {
    "jp-MarkdownHeadingCollapsed": true,
    "tags": []
   },
   "source": [
    "## Number of qubits vs. nodes\n",
    "\n",
    "| random walk | num_nodes | transpiled qubits |\n",
    "| :- | :-: | :-: |\n",
    "| circle | 4  | 13 |\n",
    "| circle | 8 | 22|\n",
    "| circle | 16 | 33 |\n",
    "| line | 4 | 17 |\n",
    "| line | 8 | 25 |\n",
    "| line | 16 | 37 |\n",
    "\n",
    "Here we see that the more nodes we have, the more transpiled qubits are going to be used. Lines need more qubits than circles."
   ]
  },
  {
   "cell_type": "markdown",
   "id": "2d8f26a8-18aa-4dda-a3ed-a3974e0184b9",
   "metadata": {},
   "source": [
    "## Circle 4 nodes"
   ]
  },
  {
   "cell_type": "code",
   "execution_count": 1,
   "id": "335019e0-e185-41d5-b894-6116ada649d6",
   "metadata": {
    "tags": []
   },
   "outputs": [
    {
     "data": {
      "image/png": "[encoded data removed]",
      "text/plain": [
       "<Figure size 640x480 with 1 Axes>"
      ]
     },
     "metadata": {},
     "output_type": "display_data"
    }
   ],
   "source": [
    "import matplotlib.pyplot as plt\n",
    "import matplotlib.image as mpimg\n",
    "\n",
    "img = mpimg.imread('circle4.png')\n",
    "plt.imshow(img)\n",
    "plt.axis('off')  # Turn off axis numbers\n",
    "plt.show()"
   ]
  },
  {
   "cell_type": "code",
   "execution_count": 40,
   "id": "6bd34621-0458-4a1b-ac69-62892bcba54c",
   "metadata": {
    "tags": []
   },
   "outputs": [
    {
     "data": {
      "image/png": "[encoded data removed]",
      "text/plain": [
       "<Figure size 640x480 with 1 Axes>"
      ]
     },
     "metadata": {},
     "output_type": "display_data"
    }
   ],
   "source": [
    "import matplotlib.pyplot as plt\n",
    "import matplotlib.image as mpimg\n",
    "\n",
    "img = mpimg.imread('circle4hist.jpg')\n",
    "plt.imshow(img)\n",
    "plt.axis('off')  # Turn off axis numbers\n",
    "plt.show()"
   ]
  },
  {
   "cell_type": "markdown",
   "id": "5216c457-12f6-451e-92a8-d43c5a15e98f",
   "metadata": {},
   "source": [
    "## Line 8 nodes"
   ]
  },
  {
   "cell_type": "code",
   "execution_count": 37,
   "id": "c6ebdc89-ba16-41c4-b623-7862a0ae29af",
   "metadata": {
    "tags": []
   },
   "outputs": [
    {
     "data": {
      "image/png": "[encoded data removed]",
      "text/plain": [
       "<Figure size 640x480 with 1 Axes>"
      ]
     },
     "metadata": {},
     "output_type": "display_data"
    }
   ],
   "source": [
    "import matplotlib.pyplot as plt\n",
    "import matplotlib.image as mpimg\n",
    "\n",
    "img = mpimg.imread('line8.png')\n",
    "plt.imshow(img)\n",
    "plt.axis('off')  # Turn off axis numbers\n",
    "plt.show()"
   ]
  },
  {
   "cell_type": "code",
   "execution_count": 39,
   "id": "6dffee97-669a-4c03-a506-55c8ebbe0be1",
   "metadata": {
    "tags": []
   },
   "outputs": [
    {
     "data": {
      "image/png": "[encoded data removed]",
      "text/plain": [
       "<Figure size 640x480 with 1 Axes>"
      ]
     },
     "metadata": {},
     "output_type": "display_data"
    }
   ],
   "source": [
    "import matplotlib.pyplot as plt\n",
    "import matplotlib.image as mpimg\n",
    "\n",
    "img = mpimg.imread('line8hist.jpg')\n",
    "plt.imshow(img)\n",
    "plt.axis('off')  # Turn off axis numbers\n",
    "plt.show()"
   ]
  },
  {
   "cell_type": "markdown",
   "id": "8cb5df08-342e-4cfd-b65e-42a8528b6969",
   "metadata": {},
   "source": [
    "## Line 16 nodes\n",
    "![alt text](line16.png)"
   ]
  },
  {
   "cell_type": "code",
   "execution_count": 13,
   "id": "62827e5d-82f4-433e-80ea-7eecf1dedbfb",
   "metadata": {
    "tags": []
   },
   "outputs": [
    {
     "data": {
      "image/png": "[encoded data removed]",
      "text/plain": [
       "<Figure size 640x480 with 1 Axes>"
      ]
     },
     "metadata": {},
     "output_type": "display_data"
    }
   ],
   "source": [
    "import matplotlib.pyplot as plt\n",
    "import matplotlib.image as mpimg\n",
    "\n",
    "img = mpimg.imread('line16.png')\n",
    "plt.imshow(img)\n",
    "plt.axis('off')  # Turn off axis numbers\n",
    "plt.show()"
   ]
  },
  {
   "cell_type": "code",
   "execution_count": null,
   "id": "c2710a88-2fa4-456f-995b-faa3a499dc03",
   "metadata": {},
   "outputs": [],
   "source": []
  }
 ],
 "metadata": {
  "kernelspec": {
   "display_name": "Python 3 [Default]",
   "language": "python",
   "name": "python3"
  },
  "language_info": {
   "codemirror_mode": {
    "name": "ipython",
    "version": 3
   },
   "file_extension": ".py",
   "mimetype": "text/x-python",
   "name": "python",
   "nbconvert_exporter": "python",
   "pygments_lexer": "ipython3",
   "version": "3.11.9"
  }
 },
 "nbformat": 4,
 "nbformat_minor": 5
}
