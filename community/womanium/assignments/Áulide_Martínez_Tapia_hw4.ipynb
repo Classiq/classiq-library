{
 "cells": [
  {
   "cell_type": "markdown",
   "id": "c8e716f0-e512-42f0-a1a3-cf5e902bd718",
   "metadata": {},
   "source": [
    "# FINAL ASSIGMENT\n",
    "\n",
    "### Instructions\n",
    "\n",
    "Follow the example from [**Bootcamp 4**](https://www.youtube.com/watch?v=kHJLwfDUSWI&list=PL_wGNAk5B0pXq98BJBKsbNH2Qjp1lk8dG&index=32) for creating the quantum walk operator for the case of a circle with 4 nodes, and design the quantum walk operator for the case of a line with 16 nodes \n",
    "\n",
    "<img title=\"a title\" alt=\"Alt text\" src=\"Classiq_FinalAssignment_Fig1.png\">\n",
    "\n",
    "A. Create a well-detailed Python Jupyter notebook that explains your algorithm, including the code parts covered in class, and pictures/figures where reevant. \n",
    "\n",
    "1. Utilize the Python code from class: [*quantum walk circle example.py*](https://github.com/Classiq/classiq-library/blob/main/community/womanium/assignments/quantum_walk_circle_example.py). It can be found directly also in the Classiq Git Library in the [*community/womanium/assignments*](https://github.com/Classiq/classiq-library/tree/main/community/womanium/assignments) folder.\n",
    "2. Fell free to extend the example beyond the requirements here and what was covered in class.\n",
    "\n",
    "B. Contribute your notebook to the [Classiq Git Library](https://github.com/Classiq/classiq-library) to the folder [**community/womanium/assigments**](https://github.com/Classiq/classiq-library/tree/main/community/womanium/assignments)\n",
    "\n",
    "1. Follow the [contribution guidelines](https://github.com/Classiq/classiq-library/blob/main/CONTRIBUTING.md)in order to contribute - NO need to opne an issue for this, you can directly open a PR\n",
    "2. The PR title should be: Womanium Final Assignment - $<$First Name$>$ $<$Last Name$>$.\n",
    "3. The file name should be in the following format: $<$**first_name$>$_$<$last_name$>$_hw4.ipynb**"
   ]
  },
  {
   "cell_type": "markdown",
   "id": "39e3f2b4-f457-4414-a48d-918035a048e1",
   "metadata": {},
   "source": [
    "### Implementation\n",
    "\n",
    "As in the [**Bootcamp 4**](https://www.youtube.com/watch?v=kHJLwfDUSWI&list=PL_wGNAk5B0pXq98BJBKsbNH2Qjp1lk8dG&index=32) we have two important aspects to cover: the encoding, and the evolution. Two of the most important differences with the bootcamp is the number of vertices and the arrangement. So the $V$ set now will be\n",
    "\n",
    "$$ V = \\{0, 1, 2,..., 14, 15\\}$$\n",
    "\n",
    "On the other hand the encoding of the `adjacent_vertices` will be different, because the `adjacent_vertices` of the $0$ and $15$ is only one because is not closed. \n",
    "\n",
    "As covered in the bootcamp we need to implement the two operators $C$ and $S$\n",
    "\n",
    "\\begin{equation}\n",
    "C= \\sum_{j\\in V} \\vert j\\rangle\\langle j \\vert \\otimes (2\\vert \\partial_{j}\\rangle\\langle \\partial_{j}\\vert-\\mathbb{I})\n",
    "\\end{equation}\n",
    "\n",
    "\\begin{equation}\n",
    "S= \\sum_{(j,k)\\in E} \\vert j, k\\rangle\\langle k,j \\vert\n",
    "\\end{equation}"
   ]
  },
  {
   "cell_type": "code",
   "execution_count": 1,
   "id": "d1758170-73f8-448d-b795-be49e5e46fd3",
   "metadata": {
    "tags": []
   },
   "outputs": [],
   "source": [
    "!pip install -U classiq"
   ]
  },
  {
   "cell_type": "code",
   "execution_count": 5,
   "id": "e6fc24b0-75c6-44c6-8d50-6c55e23ee153",
   "metadata": {
    "tags": []
   },
   "outputs": [],
   "source": [
    "from classiq import *\n",
    "from classiq.qmod.symbolic import logical_or\n",
    "from classiq.execution import ExecutionPreferences\n",
    "\n",
    "size = 4 \n",
    "\n",
    "##############################################\n",
    "############# Phase Kickback #################\n",
    "###########3##################################\n",
    "@qfunc\n",
    "def prepare_minus(x:QBit):\n",
    "#Here we have a qfunc that prepares/creates the minus state. \n",
    "#It receives a and qubit x and returns the minus state.\n",
    "    X(x)\n",
    "    H(x)\n",
    "    \n",
    "@qfunc\n",
    "def diffuzer_oracle(aux: Output[QNum], x:QNum):\n",
    "    #Oracle for the phase kickback\n",
    "    aux^+(x!=0)\n",
    "    #auxiliary qubit to the x state\n",
    "    \n",
    "@qfunc \n",
    "def zero_diffuzer(x: QNum):\n",
    "#We have a qfunc that we call zero diffuzer and it applies only on a QNum (quantum variable) , so it receives x    \n",
    "    aux = QNum('aux')\n",
    "    #Then it initializes another auxiliary qubit for the phase kickback \n",
    "    allocate(1, aux)\n",
    "    within_apply(compute=lambda: prepare_minus(aux), #Here we prepare the minus state on the aux qubit\n",
    "                 action=lambda: diffuzer_oracle) #Here we apply the oracle that we want to have\n",
    "    #and we use thewithin aplpy operation for actually applying the PK  \n",
    "    \n",
    "##############################################\n",
    "############### C Operator ###################\n",
    "##############################################\n",
    "\n",
    "def W_iteration(i:int, vertices: QNum, adjacent_vertices:QNum):\n",
    "    #Because we have a linear arrange we need to set like boundary conditions\n",
    "    prob = [0]*(2**size)  # Here we initialize probability vector for 16 nodes\n",
    "    if i == 0:\n",
    "        prob[i + 1] = 1.0  # Here we set the first boundary condition if we are ath the first node, then \n",
    "        #the probability to move is one to the right node (node 1), e.i. we can only move to the right.\n",
    "    elif i == (2**size) - 1:\n",
    "        prob[i - 1] = 1.0  # As in the last condition, if we are at the last node, the only choice is\n",
    "        #to move to the left (node 14)\n",
    "    else:\n",
    "        #In any other case we have 50/50 chance to move to the left or to the right.\n",
    "        prob[i - 1] = 0.5  # Probability of moving to the left\n",
    "        prob[i + 1] = 0.5  # Probability of moving to the right \n",
    "    #The rest of this function is the same as the example\n",
    "    print(f'State={i}, prob vec ={prob}')\n",
    "    control(ctrl=vertices==i,\n",
    "            operand=lambda: within_apply(\n",
    "              compute= lambda: inplace_prepare_state(probabilities=prob, bound=0.01, target=adjacent_vertices),\n",
    "              action= lambda: zero_diffuzer(adjacent_vertices)))\n",
    "\n",
    "@qfunc\n",
    "def W_operator(vertices:QNum, adjacent_vertices: QNum):\n",
    "    for i in range(2**size):\n",
    "        #In the example given in class this is the repeat fuction in qmode language\n",
    "        #This iterates over all vertices\n",
    "        W_iteration(i, vertices, adjacent_vertices)\n",
    "\n",
    "@qfunc\n",
    "def edge_oracle(res: Output[QBit], vertices: QNum, adjacent_vertices: QNum):\n",
    "    #The oracle is the function that helps us to see if the vertex is an adjacent vertex.\n",
    "    res |= (((vertices - adjacent_vertices) == 1) | ((vertices - adjacent_vertices) == -1))\n",
    "\n",
    "        \n",
    "@qfunc\n",
    "def bitwise_swap(x: QArray[QBit], y:QArray[QBit]):\n",
    "    #As in the example this swaps the state to the adjacent\n",
    "    repeat(count= x.len,\n",
    "        iteration= lambda i: SWAP(x[i],y[i]))\n",
    "    \n",
    "@qfunc\n",
    "def S_operator(vertices: QNum, adjacent_vertices: QNum):\n",
    "    res = QNum('res')\n",
    "    edge_oracle(res, vertices, adjacent_vertices)\n",
    "    control(ctrl= res==1,\n",
    "            operand= lambda: bitwise_swap(vertices, adjacent_vertices))\n"
   ]
  },
  {
   "cell_type": "code",
   "execution_count": 6,
   "id": "056ed1c5-68f7-4d6c-9508-485dce6f8c9b",
   "metadata": {
    "tags": []
   },
   "outputs": [],
   "source": [
    "@qfunc\n",
    "def main(vertices: Output[QNum], adjacent_vertices: Output[QNum]):\n",
    "    # ENCODING\n",
    "    allocate(size, vertices)\n",
    "    hadamard_transform(vertices)\n",
    "    allocate(size, adjacent_vertices)\n",
    "    # EVOLUTION\n",
    "    W_operator(vertices, adjacent_vertices)\n",
    "    S_operator(vertices, adjacent_vertices) "
   ]
  },
  {
   "cell_type": "code",
   "execution_count": 7,
   "id": "1a063e80-8689-4dd3-9b08-bcba72b6a18a",
   "metadata": {
    "tags": []
   },
   "outputs": [
    {
     "name": "stdout",
     "output_type": "stream",
     "text": [
      "State=0, prob vec =[0, 1.0, 0, 0, 0, 0, 0, 0, 0, 0, 0, 0, 0, 0, 0, 0]\n",
      "State=1, prob vec =[0.5, 0, 0.5, 0, 0, 0, 0, 0, 0, 0, 0, 0, 0, 0, 0, 0]\n",
      "State=2, prob vec =[0, 0.5, 0, 0.5, 0, 0, 0, 0, 0, 0, 0, 0, 0, 0, 0, 0]\n",
      "State=3, prob vec =[0, 0, 0.5, 0, 0.5, 0, 0, 0, 0, 0, 0, 0, 0, 0, 0, 0]\n",
      "State=4, prob vec =[0, 0, 0, 0.5, 0, 0.5, 0, 0, 0, 0, 0, 0, 0, 0, 0, 0]\n",
      "State=5, prob vec =[0, 0, 0, 0, 0.5, 0, 0.5, 0, 0, 0, 0, 0, 0, 0, 0, 0]\n",
      "State=6, prob vec =[0, 0, 0, 0, 0, 0.5, 0, 0.5, 0, 0, 0, 0, 0, 0, 0, 0]\n",
      "State=7, prob vec =[0, 0, 0, 0, 0, 0, 0.5, 0, 0.5, 0, 0, 0, 0, 0, 0, 0]\n",
      "State=8, prob vec =[0, 0, 0, 0, 0, 0, 0, 0.5, 0, 0.5, 0, 0, 0, 0, 0, 0]\n",
      "State=9, prob vec =[0, 0, 0, 0, 0, 0, 0, 0, 0.5, 0, 0.5, 0, 0, 0, 0, 0]\n",
      "State=10, prob vec =[0, 0, 0, 0, 0, 0, 0, 0, 0, 0.5, 0, 0.5, 0, 0, 0, 0]\n",
      "State=11, prob vec =[0, 0, 0, 0, 0, 0, 0, 0, 0, 0, 0.5, 0, 0.5, 0, 0, 0]\n",
      "State=12, prob vec =[0, 0, 0, 0, 0, 0, 0, 0, 0, 0, 0, 0.5, 0, 0.5, 0, 0]\n",
      "State=13, prob vec =[0, 0, 0, 0, 0, 0, 0, 0, 0, 0, 0, 0, 0.5, 0, 0.5, 0]\n",
      "State=14, prob vec =[0, 0, 0, 0, 0, 0, 0, 0, 0, 0, 0, 0, 0, 0.5, 0, 0.5]\n",
      "State=15, prob vec =[0, 0, 0, 0, 0, 0, 0, 0, 0, 0, 0, 0, 0, 0, 1.0, 0]\n"
     ]
    },
    {
     "name": "stderr",
     "output_type": "stream",
     "text": [
      "The current version of 'classiq' has been deprecated, and will not be supported as of 2024-07-27. Please run \"pip install -U classiq\" to upgrade the classiq SDK to the latest version.\n"
     ]
    },
    {
     "name": "stdout",
     "output_type": "stream",
     "text": [
      "Opening: https://platform.classiq.io/circuit/00a6c9d2-f3da-40dd-a93d-9496a972e948?version=0.42.2\n"
     ]
    }
   ],
   "source": [
    "# Create and Synthesize\n",
    "qmod = create_model(main)\n",
    "qprog = synthesize(qmod)\n",
    "show(qprog)"
   ]
  },
  {
   "cell_type": "markdown",
   "id": "6465d8ac-eae0-49b0-9670-55f2f56e8bbb",
   "metadata": {},
   "source": [
    "Here we can see the circuit "
   ]
  },
  {
   "cell_type": "markdown",
   "id": "3945dcb9-0e33-487a-9043-b1864c219bfe",
   "metadata": {},
   "source": [
    "<img title=\"a title\" alt=\"Alt text\" src=\"final6_12.jpg\">"
   ]
  },
  {
   "cell_type": "code",
   "execution_count": null,
   "id": "5f21a035-0e29-4c1d-a39c-afb088531fd1",
   "metadata": {},
   "outputs": [],
   "source": [
    "write_qmod(create_model(main), \"Quantum_walk_straightline\")"
   ]
  }
 ],
 "metadata": {
  "kernelspec": {
   "display_name": "Python 3 (ipykernel)",
   "language": "python",
   "name": "python3"
  },
  "language_info": {
   "codemirror_mode": {
    "name": "ipython",
    "version": 3
   },
   "file_extension": ".py",
   "mimetype": "text/x-python",
   "name": "python",
   "nbconvert_exporter": "python",
   "pygments_lexer": "ipython3",
   "version": "3.11.4"
  }
 },
 "nbformat": 4,
 "nbformat_minor": 5
}
