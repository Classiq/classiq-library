{
 "cells": [
  {
   "cell_type": "markdown",
   "id": "7e3e4d74-392b-494c-bd60-9bc119a3009f",
   "metadata": {},
   "source": [
    "# Quantum Walk"
   ]
  },
  {
   "cell_type": "markdown",
   "id": "a147319c-be33-46db-8022-cbcc66b603ef",
   "metadata": {},
   "source": [
    "Quantum walks is the quantum version of the classical algorithm [random walks](https://www.mit.edu/~kardar/teaching/projects/chemotaxis(AndreaSchmidt)/random.htm). In this notebook, we will focus on implementing a [discrete-time quantum walks](https://www.cs.umd.edu/~amchilds/qa/qa.pdf).\n",
    "\n",
    "Consider a classical graph with $V$ set of vertices and $E$ set of edges. \n",
    "For example, we have a cycle with 4 nodes. Then, $V = \\{0,1,2,3\\} $ $E = \\{(0,1),(1,0),(1,2),(2,1),(2,3),(3,2),(3,0),(0,3) \\} $ \n",
    "\n",
    "The following will explain the quantum walk operator for the case of a circle with 4 nodes, and then the quantum walk operator for the case of a line with 16 nodes. Each section will go over parts of the implementation and a single cell to run the whole program:\n"
   ]
  },
  {
   "cell_type": "markdown",
   "id": "0993a535-f97f-4809-823d-284d8f95c1af",
   "metadata": {},
   "source": [
    "## Circle with 4 nodes"
   ]
  },
  {
   "cell_type": "markdown",
   "id": "1b5fcab2-e8de-47a5-9c23-7de5374f1bfc",
   "metadata": {},
   "source": [
    "![circle with 4 nodes](circle.png) \n"
   ]
  },
  {
   "cell_type": "markdown",
   "id": "f3d4842d-16ea-4d62-8a1f-19ce07891e52",
   "metadata": {},
   "source": [
    "### Encoding the vertices \n",
    "\n",
    "First, let's define the main method to map out the algorithm(Note that for main to work we need to run the other cells that contain the functions that we call in main). \n",
    "\n",
    "1. We encode the input state $\\ket{j}$. This represents the vertices. We can use the QNum.\n",
    "2. Let the Hilbert Space consist of states of the form $\\ket{j,k}$ where $(j,k)\\in E$. Note that $\\ket{k}$ also encodes a vertex. This represents the adjacent vertices. We can also use QNum.\n",
    "\n"
   ]
  },
  {
   "cell_type": "code",
   "execution_count": null,
   "id": "94af78a0-ce7c-459c-b815-c0f63b644d29",
   "metadata": {},
   "outputs": [],
   "source": [
    "from classiq import *\n",
    "size = 2\n",
    "\n",
    "@qfunc \n",
    "def main(vertices:Output[QNum], adjacent_vertices:Output[QNum]):\n",
    "\n",
    "  allocate(size,vertices)\n",
    "  hadamard_transform(vertices)\n",
    "  allocate(size,adjacent_vertices)\n",
    "\n",
    "  W_operator(vertices,adjacent_vertices)\n",
    "  S_operator(vertices,adjacent_vertices)"
   ]
  },
  {
   "cell_type": "markdown",
   "id": "dfdf8ffc-930e-4f4c-8a06-528e41123700",
   "metadata": {},
   "source": [
    "### Evolution\n",
    "\n",
    "3. Then, we have the evolution which contains 2 unitary operators. A step of the discrete-time quantum walk is described by these operators.\n",
    "\n",
    "Let's start with the C operator which we will call W_operator in our code. \n",
    "\n",
    "$C := \\sum_{j \\in V} \\ket{j}\\bra{j} \\otimes \\left( 2\\ket{\\partial_j}\\bra{\\partial_j} - I \\right)\r\n",
    " $\n"
   ]
  },
  {
   "cell_type": "markdown",
   "id": "6255fa7c-6013-4194-a5b9-c1a95b925c3d",
   "metadata": {},
   "source": [
    "Assume access to $U_j \\ket{0} = \\ket{\\partial_j}$\n",
    "\n",
    "Then, $2\\ket{\\partial_j}\\bra{\\partial_j} - I  = U_j(2\\ket{0}\\bra{0} - I) U_j^{-1}$ \n",
    "\n",
    "Now, what is $(2\\ket{0}\\bra{0} - I)$ operator? If we apply it to $\\ket{0}$:\n",
    "\n",
    "$(2\\ket{0}\\bra{0} - I)\\ket{0} = \\ket{0}$. Notice that $\\ket{0}$ is the eigenstate and we have an eigenvalue of $1$.\n",
    "\n",
    "If we apply it to any other integer state that is NOT zero:\n",
    "\n",
    "$(2\\ket{0}\\bra{0} - I)\\ket{j \\neq 0} = \\ket{j \\neq 0}$. Notice that $\\ket{j \\neq 0}$ is the eigenstate and we have an eigenvalue of $-1$.\n",
    "\n",
    "This is exactly a quantum primitive - Phase kickback (PKB)!\n",
    "\n",
    "$(2\\ket{0}\\bra{0} - I)\\ket{x} = (-1)^{x \\neq 0} \\ket{x}$\n",
    "\n",
    "The following implements the PKB (Note that this is just a subpart of the C operator):"
   ]
  },
  {
   "cell_type": "code",
   "execution_count": 83,
   "id": "9a07b874-992b-4d2e-92b5-682e6499dea0",
   "metadata": {},
   "outputs": [],
   "source": [
    "@qfunc\n",
    "def prepare_minus(x: QBit):\n",
    "  X(x)\n",
    "  H(x)\n",
    "  \n",
    "@qfunc\n",
    "def zero_diffuzer(x: QNum):\n",
    "  aux = QNum('aux')\n",
    "  allocate(1,aux)\n",
    "  within_apply(compute=lambda: prepare_minus(aux),\n",
    "              action=lambda: diffuzer_oracle)\n",
    "  "
   ]
  },
  {
   "cell_type": "markdown",
   "id": "20e7b31d-1474-40aa-a969-f7e3a4decb32",
   "metadata": {},
   "source": [
    "Now, let's implement the summation part. Since we have a summation of all vertices in the graph, we can use a for loop implement the summation over the vertices that we have.\n"
   ]
  },
  {
   "cell_type": "code",
   "execution_count": 90,
   "id": "788315e0-a6c1-4351-9705-18f1d6067926",
   "metadata": {},
   "outputs": [],
   "source": [
    "@qfunc \n",
    "def W_operator(vertices:QNum, adjacent_vertices: QNum):\n",
    "    for i in range(2**size):\n",
    "      W_iteration(i,vertices,adjacent_vertices)"
   ]
  },
  {
   "cell_type": "markdown",
   "id": "3a1f4164-b0bd-4310-8991-7fec27ef34cc",
   "metadata": {},
   "source": [
    "For each iteration of the W operator, we want to only apply the correspoding operator only if the state is $j$"
   ]
  },
  {
   "cell_type": "code",
   "execution_count": 95,
   "id": "96673586-2eeb-4f33-b49e-de50fd12f0b8",
   "metadata": {},
   "outputs": [],
   "source": [
    "def W_iteration(i:int,vertices: QNum, adjacent_vertices:QNum):\n",
    "    prob = [0,0,0,0]\n",
    "    prob[(i+1)% 4]=0.5\n",
    "    prob[(i-1)% 4]=0.5\n",
    "    print(f'State={i}, prob vec ={prob}')\n",
    "    \n",
    "    control(ctrl=vertices==i,\n",
    "            operand=lambda: within_apply(\n",
    "              compute= lambda: inplace_prepare_state(probabilities=prob, bound=0.01, target=adjacent_vertices),\n",
    "              action= lambda: zero_diffuzer(adjacent_vertices)))"
   ]
  },
  {
   "cell_type": "markdown",
   "id": "06733291-0301-4207-bbae-73f095773378",
   "metadata": {},
   "source": [
    "Now, let's implement the S operator.\n",
    "\n",
    "$ S := \\sum_{(j,k) \\in E} \\ket{j,k}\\bra{k,j}  $"
   ]
  },
  {
   "cell_type": "markdown",
   "id": "117f4722-5d78-4df1-baf6-1ba152771b8f",
   "metadata": {},
   "source": [
    "Here we see a summation of all the adjacent vertices then we want to swap. We will now design an oracle that gives us this condition. We expect the result to be 1 if the current vertex is connected adjacent vertex is a part of our graph. Otherwise, the result would be zero because there is no edge between them."
   ]
  },
  {
   "cell_type": "code",
   "execution_count": null,
   "id": "5c052ba4-7932-42d1-b773-38239154e387",
   "metadata": {},
   "outputs": [],
   "source": [
    "@qfunc\n",
    "def edge_oracle(res:Output[QBit], vertices: QNum, adjacent_vertices: QNum):\n",
    "  res |= (((vertices+adjacent_vertices)%2) ==1)"
   ]
  },
  {
   "cell_type": "markdown",
   "id": "500ff1d8-9aad-4b50-9735-68c1098c1e12",
   "metadata": {},
   "source": [
    "Here is the program all together for a quantum walk on a circle with 4 nodes:"
   ]
  },
  {
   "cell_type": "code",
   "execution_count": 2,
   "id": "688c0334-d2fe-406e-8d27-77b92a1c69a1",
   "metadata": {},
   "outputs": [
    {
     "name": "stdout",
     "output_type": "stream",
     "text": [
      "State=0, prob vec =[0, 0.5, 0, 0.5]\n",
      "State=1, prob vec =[0.5, 0, 0.5, 0]\n",
      "State=2, prob vec =[0, 0.5, 0, 0.5]\n",
      "State=3, prob vec =[0.5, 0, 0.5, 0]\n",
      "Opening: https://platform.classiq.io/circuit/a5400c6f-ef79-4ea5-aa4b-b53e74cd0156?version=0.43.3\n"
     ]
    }
   ],
   "source": [
    "from classiq import *\n",
    "size = 2\n",
    "\n",
    "@qfunc\n",
    "def prepare_minus(x: QBit):\n",
    "  X(x)\n",
    "  H(x)\n",
    "\n",
    "\n",
    "@qfunc\n",
    "def diffuzer_oracle(aux: Output[QNum],x:QNum):\n",
    "  aux^=(x!=0)\n",
    "\n",
    "\n",
    "@qfunc\n",
    "def zero_diffuzer(x: QNum):\n",
    "  aux = QNum('aux')\n",
    "  allocate(1,aux)\n",
    "  within_apply(compute=lambda: prepare_minus(aux),\n",
    "              action=lambda: diffuzer_oracle)\n",
    "\n",
    "\n",
    "def W_iteration(i:int,vertices: QNum, adjacent_vertices:QNum):\n",
    "    prob = [0,0,0,0]\n",
    "    prob[(i+1)% 4]=0.5\n",
    "    prob[(i-1)% 4]=0.5\n",
    "    print(f'State={i}, prob vec ={prob}')\n",
    "    \n",
    "    control(ctrl=vertices==i,\n",
    "            operand=lambda: within_apply(\n",
    "              compute= lambda: inplace_prepare_state(probabilities=prob, bound=0.01, target=adjacent_vertices),\n",
    "              action= lambda: zero_diffuzer(adjacent_vertices)))\n",
    "\n",
    "\n",
    "@qfunc \n",
    "def W_operator(vertices:QNum, adjacent_vertices: QNum):\n",
    "    for i in range(2**size):\n",
    "      W_iteration(i,vertices,adjacent_vertices)\n",
    "\n",
    "\n",
    "@qfunc\n",
    "def edge_oracle(res:Output[QBit], vertices: QNum, adjacent_vertices: QNum):\n",
    "  res |= (((vertices+adjacent_vertices)%2) ==1)\n",
    "\n",
    "\n",
    "@qfunc \n",
    "def bitwise_swap(x: QArray[QBit], y:QArray[QBit]):\n",
    "  repeat(count= x.len,\n",
    "    iteration= lambda i: SWAP(x[i],y[i]))\n",
    "  \n",
    "\n",
    "@qfunc \n",
    "def S_operator(vertices:QNum, adjacent_vertices: QNum):\n",
    "    res = QNum('res')\n",
    "    edge_oracle(res,vertices,adjacent_vertices)\n",
    "    control(ctrl= res==1,\n",
    "        operand= lambda: bitwise_swap(vertices,adjacent_vertices))\n",
    "\n",
    "@qfunc \n",
    "def main(vertices:Output[QNum], adjacent_vertices:Output[QNum]):\n",
    "\n",
    "  allocate(size,vertices)\n",
    "  hadamard_transform(vertices)\n",
    "  allocate(size,adjacent_vertices)\n",
    "\n",
    "  W_operator(vertices,adjacent_vertices)\n",
    "  S_operator(vertices,adjacent_vertices)\n",
    "\n",
    "qmod = create_model(main)\n",
    "qprog = synthesize(qmod)\n",
    "show(qprog)"
   ]
  },
  {
   "cell_type": "markdown",
   "id": "242c301f-aef3-4349-b38a-1b00c0693572",
   "metadata": {},
   "source": [
    "## Line with 16 nodes"
   ]
  },
  {
   "cell_type": "markdown",
   "id": "11b3c593-6db5-44d8-93f1-dc51d46ba69d",
   "metadata": {},
   "source": [
    "![line with 16 nodes](line.png) \n"
   ]
  },
  {
   "cell_type": "code",
   "execution_count": null,
   "id": "613f8ba6-13f3-4d81-876f-7106bbf871c9",
   "metadata": {},
   "outputs": [],
   "source": []
  }
 ],
 "metadata": {
  "kernelspec": {
   "display_name": "Python 3 (ipykernel)",
   "language": "python",
   "name": "python3"
  },
  "language_info": {
   "codemirror_mode": {
    "name": "ipython",
    "version": 3
   },
   "file_extension": ".py",
   "mimetype": "text/x-python",
   "name": "python",
   "nbconvert_exporter": "python",
   "pygments_lexer": "ipython3",
   "version": "3.11.7"
  }
 },
 "nbformat": 4,
 "nbformat_minor": 5
}
