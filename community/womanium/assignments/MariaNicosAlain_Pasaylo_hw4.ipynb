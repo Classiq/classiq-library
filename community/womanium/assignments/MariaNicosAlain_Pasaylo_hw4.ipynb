{
 "cells": [
  {
   "cell_type": "markdown",
   "id": "7e3e4d74-392b-494c-bd60-9bc119a3009f",
   "metadata": {},
   "source": [
    "# Quantum Walk"
   ]
  },
  {
   "cell_type": "markdown",
   "id": "a147319c-be33-46db-8022-cbcc66b603ef",
   "metadata": {},
   "source": [
    "Quantum walks is the quantum version of the classical algorithm [random walks](https://www.mit.edu/~kardar/teaching/projects/chemotaxis(AndreaSchmidt)/random.htm). In this notebook, we will focus on implementing a [discrete-time quantum walks](https://www.cs.umd.edu/~amchilds/qa/qa.pdf).\n",
    "\n",
    "Consider a classical graph with $V$ set of vertices and $E$ set of edges. \n",
    "For example, we have a cycle with 4 nodes. Then, $V = \\{0,1,2,3\\} $ $E = \\{(0,1),(1,0),(1,2),(2,1),(2,3),(3,2),(3,0),(0,3) \\} $ \n",
    "\n",
    "The following will explain the quantum walk operator for the case of a circle with 4 nodes, and then the quantum walk operator for the case of a line with 16 nodes. Each section will go over parts of the implementation and a single cell to run the whole program:\n"
   ]
  },
  {
   "cell_type": "markdown",
   "id": "0993a535-f97f-4809-823d-284d8f95c1af",
   "metadata": {},
   "source": [
    "## Circle with 4 nodes"
   ]
  },
  {
   "cell_type": "markdown",
   "id": "1b5fcab2-e8de-47a5-9c23-7de5374f1bfc",
   "metadata": {},
   "source": [
    "![circle with 4 nodes](circle.png) \n"
   ]
  },
  {
   "cell_type": "markdown",
   "id": "f3d4842d-16ea-4d62-8a1f-19ce07891e52",
   "metadata": {},
   "source": [
    "### Encoding the vertices and initial set up\n",
    "\n",
    "First, let's define the main method to map out the algorithm (Note that for main to work we need to run the other cells that contain the functions that we call in main). \n",
    "\n",
    "1. We initialize our quantum variables vertices and adjacent vertices. Since we have 4 possible values, the size of our registers will be 2. We apply hadamard to have a superposition of all possible vertices. \n",
    "2. We encode the input state $\\ket{j}$. This represents the vertices. We can use the QNum.\n",
    "3. Let the Hilbert Space consist of states of the form $\\ket{j,k}$ where $(j,k)\\in E$. Note that $\\ket{k}$ also encodes a vertex. This represents the adjacent vertices. We can also use QNum.\n",
    "4. Then, we have the apply the evolution which contains 2 unitary operators. A step of the discrete-time quantum walk is described by these operators. (We describe these operators in step 4a and 4b)\n",
    "\n"
   ]
  },
  {
   "cell_type": "code",
   "execution_count": null,
   "id": "94af78a0-ce7c-459c-b815-c0f63b644d29",
   "metadata": {},
   "outputs": [],
   "source": [
    "from classiq import *\n",
    "size = 2\n",
    "\n",
    "@qfunc \n",
    "def main(vertices:Output[QNum], adjacent_vertices:Output[QNum]):\n",
    "\n",
    "  allocate(size,vertices)\n",
    "  hadamard_transform(vertices)\n",
    "  allocate(size,adjacent_vertices)\n",
    "\n",
    "  W_operator(vertices,adjacent_vertices)\n",
    "  S_operator(vertices,adjacent_vertices)"
   ]
  },
  {
   "cell_type": "markdown",
   "id": "dfdf8ffc-930e-4f4c-8a06-528e41123700",
   "metadata": {},
   "source": [
    "### Evolution\n",
    "\n",
    "4a. Let's start with the C operator which we will call W_operator in our code. \n",
    "\n",
    "$C := \\sum_{j \\in V} \\ket{j}\\bra{j} \\otimes \\left( 2\\ket{\\partial_j}\\bra{\\partial_j} - I \\right)\r\n",
    " $\n"
   ]
  },
  {
   "cell_type": "markdown",
   "id": "6255fa7c-6013-4194-a5b9-c1a95b925c3d",
   "metadata": {},
   "source": [
    "Assume access to $U_j \\ket{0} = \\ket{\\partial_j}$\n",
    "\n",
    "Then, $2\\ket{\\partial_j}\\bra{\\partial_j} - I  = U_j(2\\ket{0}\\bra{0} - I) U_j^{-1}$ \n",
    "\n",
    "Now, what is $(2\\ket{0}\\bra{0} - I)$ operator? If we apply it to $\\ket{0}$:\n",
    "\n",
    "$(2\\ket{0}\\bra{0} - I)\\ket{0} = \\ket{0}$. Notice that $\\ket{0}$ is the eigenstate and we have an eigenvalue of $1$.\n",
    "\n",
    "If we apply it to any other integer state that is NOT zero:\n",
    "\n",
    "$(2\\ket{0}\\bra{0} - I)\\ket{j \\neq 0} = \\ket{j \\neq 0}$. Notice that $\\ket{j \\neq 0}$ is the eigenstate and we have an eigenvalue of $-1$.\n",
    "\n",
    "This is exactly a quantum primitive - Phase kickback (PKB)!\n",
    "\n",
    "$(2\\ket{0}\\bra{0} - I)\\ket{x} = (-1)^{x \\neq 0} \\ket{x}$\n",
    "\n",
    "The following implements the PKB (Note that this is just a subpart of the C operator):"
   ]
  },
  {
   "cell_type": "code",
   "execution_count": null,
   "id": "9a07b874-992b-4d2e-92b5-682e6499dea0",
   "metadata": {},
   "outputs": [],
   "source": [
    "@qfunc\n",
    "def prepare_minus(x: QBit):\n",
    "  X(x)\n",
    "  H(x)\n",
    "  \n",
    "@qfunc\n",
    "def zero_diffuzer(x: QNum):\n",
    "  aux = QNum('aux')\n",
    "  allocate(1,aux)\n",
    "  within_apply(compute=lambda: prepare_minus(aux),\n",
    "              action=lambda: diffuzer_oracle)\n",
    "  "
   ]
  },
  {
   "cell_type": "markdown",
   "id": "20e7b31d-1474-40aa-a969-f7e3a4decb32",
   "metadata": {},
   "source": [
    "Now, let's implement the summation part. Since we have a summation of all vertices in the graph, we can use a for loop implement the summation over the vertices that we have.\n"
   ]
  },
  {
   "cell_type": "code",
   "execution_count": null,
   "id": "788315e0-a6c1-4351-9705-18f1d6067926",
   "metadata": {},
   "outputs": [],
   "source": [
    "@qfunc \n",
    "def W_operator(vertices:QNum, adjacent_vertices: QNum):\n",
    "    for i in range(2**size):\n",
    "      W_iteration(i,vertices,adjacent_vertices)"
   ]
  },
  {
   "cell_type": "markdown",
   "id": "3a1f4164-b0bd-4310-8991-7fec27ef34cc",
   "metadata": {},
   "source": [
    "For each iteration of the W operator, we want to only apply the correspoding operator only if the state is $j$ (i.e. $vertices == i$). Also not that i in the code represents j. \n",
    "\n",
    "The quantum state $\\ket{\\partial_j}$ is defined as\n",
    "\n",
    "$\\ket{\\partial_j} := \\frac{1}{\\sqrt{\\deg(j)}} \\sum_{k : (j,k) \\in E} \\ket{k}\n",
    "\n",
    "\n",
    "This means that we want to have equal superposition for adjacent vertices. So, we need to initialize the probability array. Then, we can use inplace_prepare_state using the proabibility array. Within_apply function then allows us to perform the basis transformation $U_j(2\\ket{0}\\bra{0} - I) U_j^{-1}$.$"
   ]
  },
  {
   "cell_type": "code",
   "execution_count": null,
   "id": "96673586-2eeb-4f33-b49e-de50fd12f0b8",
   "metadata": {},
   "outputs": [],
   "source": [
    "def W_iteration(i:int,vertices: QNum, adjacent_vertices:QNum):\n",
    "    prob = [0,0,0,0]\n",
    "    prob[(i+1)% 4]=0.5\n",
    "    prob[(i-1)% 4]=0.5\n",
    "    print(f'State={i}, prob vec ={prob}')\n",
    "    \n",
    "    control(ctrl=vertices==i,\n",
    "            operand=lambda: within_apply(\n",
    "              compute= lambda: inplace_prepare_state(probabilities=prob, bound=0.01, target=adjacent_vertices),\n",
    "              action= lambda: zero_diffuzer(adjacent_vertices)))"
   ]
  },
  {
   "cell_type": "markdown",
   "id": "06733291-0301-4207-bbae-73f095773378",
   "metadata": {},
   "source": [
    "4b. Now, let's implement the S operator.\n",
    "\n",
    "$ S := \\sum_{(j,k) \\in E} \\ket{j,k}\\bra{k,j}  $"
   ]
  },
  {
   "cell_type": "markdown",
   "id": "117f4722-5d78-4df1-baf6-1ba152771b8f",
   "metadata": {},
   "source": [
    "Here we see a summation of all adjacent vertices then we want to swap them. We will first design an oracle that gives us this condition. We expect the result to be 1 if the vertex $j$ is connected to vertex $k$. This means that our graph has this edge $(j,k)$ in $E$. Otherwise, the result would be zero because there is no edge between them.\n",
    "\n",
    "For this specific graph, which is a circle with 4 nodes (labeled 0,1,2,3 respectively), if the sum of 2 vertices is odd then there is an edge between them. For example, let's take vertices 1 and 0.\n",
    "\n",
    "$1 + 0 = 1$\n",
    "\n",
    "$1  (\\mod2) = 1$\n",
    "\n",
    "This means that there is an edge between them.\n",
    "\n",
    "Another example, let's take vertices 2 and 0.\n",
    "\n",
    "$2 + 0 = 2$\n",
    "\n",
    "$2  (\\mod2) = 0$\n",
    "\n",
    "This means that there is no edge between them.\n"
   ]
  },
  {
   "cell_type": "code",
   "execution_count": null,
   "id": "5c052ba4-7932-42d1-b773-38239154e387",
   "metadata": {},
   "outputs": [],
   "source": [
    "@qfunc\n",
    "def edge_oracle(res:Output[QBit], vertices: QNum, adjacent_vertices: QNum):\n",
    "  res |= (((vertices+adjacent_vertices)%2) ==1)"
   ]
  },
  {
   "cell_type": "markdown",
   "id": "0b7a819d-5df1-4148-8118-e3ce4c565abf",
   "metadata": {},
   "source": [
    "So, now we design the full implementation of the S operator. We must initialize another qubit res as auxiliary qubit. We apply the edge oracle. \n",
    "If there is an edge between them, then we apply the bitwise swap."
   ]
  },
  {
   "cell_type": "code",
   "execution_count": null,
   "id": "9eba6410-6ba5-4c7e-9647-1991a1dfc739",
   "metadata": {},
   "outputs": [],
   "source": [
    "@qfunc \n",
    "def S_operator(vertices:QNum, adjacent_vertices: QNum):\n",
    "    res = QNum('res')\n",
    "    edge_oracle(res,vertices,adjacent_vertices)\n",
    "    control(ctrl= res==1,\n",
    "        operand= lambda: bitwise_swap(vertices,adjacent_vertices))"
   ]
  },
  {
   "cell_type": "markdown",
   "id": "9ae4e9c6-b463-445b-932f-483f8bbba21c",
   "metadata": {},
   "source": [
    "To implement the bitwise swap of the vertices and adjacent vertices, we use the SWAP method."
   ]
  },
  {
   "cell_type": "code",
   "execution_count": null,
   "id": "312c1f28-9e40-4cbd-aa41-71f08991e138",
   "metadata": {},
   "outputs": [],
   "source": [
    "@qfunc \n",
    "def bitwise_swap(x: QArray[QBit], y:QArray[QBit]):\n",
    "  repeat(count= x.len,\n",
    "    iteration= lambda i: SWAP(x[i],y[i]))"
   ]
  },
  {
   "cell_type": "markdown",
   "id": "500ff1d8-9aad-4b50-9735-68c1098c1e12",
   "metadata": {},
   "source": [
    "Here is the program all together for a quantum walk on a circle with 4 nodes:"
   ]
  },
  {
   "cell_type": "code",
   "execution_count": 1,
   "id": "688c0334-d2fe-406e-8d27-77b92a1c69a1",
   "metadata": {},
   "outputs": [
    {
     "name": "stdout",
     "output_type": "stream",
     "text": [
      "State=0, prob vec =[0, 0.5, 0, 0.5]\n",
      "State=1, prob vec =[0.5, 0, 0.5, 0]\n",
      "State=2, prob vec =[0, 0.5, 0, 0.5]\n",
      "State=3, prob vec =[0.5, 0, 0.5, 0]\n",
      "Opening: https://platform.classiq.io/circuit/9d216706-5517-4c99-a86f-1327de783f2c?version=0.43.3\n"
     ]
    }
   ],
   "source": [
    "from classiq import *\n",
    "size = 2\n",
    "\n",
    "@qfunc\n",
    "def prepare_minus(x: QBit):\n",
    "  X(x)\n",
    "  H(x)\n",
    "\n",
    "\n",
    "@qfunc\n",
    "def diffuzer_oracle(aux: Output[QNum],x:QNum):\n",
    "  aux^=(x!=0)\n",
    "\n",
    "\n",
    "@qfunc\n",
    "def zero_diffuzer(x: QNum):\n",
    "  aux = QNum('aux')\n",
    "  allocate(1,aux)\n",
    "  within_apply(compute=lambda: prepare_minus(aux),\n",
    "              action=lambda: diffuzer_oracle)\n",
    "\n",
    "\n",
    "def W_iteration(i:int,vertices: QNum, adjacent_vertices:QNum):\n",
    "    prob = [0,0,0,0]\n",
    "    prob[(i+1)% 4]=0.5\n",
    "    prob[(i-1)% 4]=0.5\n",
    "    print(f'State={i}, prob vec ={prob}')\n",
    "    \n",
    "    control(ctrl=vertices==i,\n",
    "            operand=lambda: within_apply(\n",
    "              compute= lambda: inplace_prepare_state(probabilities=prob, bound=0.01, target=adjacent_vertices),\n",
    "              action= lambda: zero_diffuzer(adjacent_vertices)))\n",
    "\n",
    "\n",
    "@qfunc \n",
    "def W_operator(vertices:QNum, adjacent_vertices: QNum):\n",
    "    for i in range(2**size):\n",
    "      W_iteration(i,vertices,adjacent_vertices)\n",
    "\n",
    "\n",
    "@qfunc\n",
    "def edge_oracle(res:Output[QBit], vertices: QNum, adjacent_vertices: QNum):\n",
    "  res |= (((vertices+adjacent_vertices)%2) ==1)\n",
    "\n",
    "\n",
    "@qfunc \n",
    "def bitwise_swap(x: QArray[QBit], y:QArray[QBit]):\n",
    "  repeat(count= x.len,\n",
    "    iteration= lambda i: SWAP(x[i],y[i]))\n",
    "  \n",
    "\n",
    "@qfunc \n",
    "def S_operator(vertices:QNum, adjacent_vertices: QNum):\n",
    "    res = QNum('res')\n",
    "    edge_oracle(res,vertices,adjacent_vertices)\n",
    "    control(ctrl= res==1,\n",
    "        operand= lambda: bitwise_swap(vertices,adjacent_vertices))\n",
    "\n",
    "@qfunc \n",
    "def main(vertices:Output[QNum], adjacent_vertices:Output[QNum]):\n",
    "\n",
    "  allocate(size,vertices)\n",
    "  hadamard_transform(vertices)\n",
    "  allocate(size,adjacent_vertices)\n",
    "\n",
    "  W_operator(vertices,adjacent_vertices)\n",
    "  S_operator(vertices,adjacent_vertices)\n",
    "\n",
    "qmod = create_model(main)\n",
    "qprog = synthesize(qmod)\n",
    "show(qprog)"
   ]
  },
  {
   "cell_type": "markdown",
   "id": "242c301f-aef3-4349-b38a-1b00c0693572",
   "metadata": {},
   "source": [
    "## Line with 16 nodes"
   ]
  },
  {
   "cell_type": "markdown",
   "id": "11b3c593-6db5-44d8-93f1-dc51d46ba69d",
   "metadata": {},
   "source": [
    "![line with 16 nodes](line.png) \n"
   ]
  },
  {
   "cell_type": "markdown",
   "id": "3534ce3c-a6a8-4c98-9161-e77b176830d5",
   "metadata": {},
   "source": [
    "The implementation for the quantum walk operator for a line with 16 nodes is almost the same as the one for a circle with 4 nodes. The main changes that we have to make are the size, edge_oracle, and W_iteration."
   ]
  },
  {
   "cell_type": "markdown",
   "id": "20cb0a6e-1140-4aa6-b0fc-e05bc590193c",
   "metadata": {},
   "source": [
    "For the size of our registers, we need 4 because we have $2^4 = 16$ nodes. The rest of the main function stays the same."
   ]
  },
  {
   "cell_type": "code",
   "execution_count": null,
   "id": "3a349d56-107f-49aa-a36b-7104eb238715",
   "metadata": {},
   "outputs": [],
   "source": [
    "from classiq import *\n",
    "size = 4\n",
    "\n",
    "@qfunc \n",
    "def main(vertices:Output[QNum], adjacent_vertices:Output[QNum]):\n",
    "\n",
    "  allocate(size,vertices)\n",
    "  hadamard_transform(vertices)\n",
    "  allocate(size,adjacent_vertices)\n",
    "\n",
    "  W_operator(vertices,adjacent_vertices)\n",
    "  S_operator(vertices,adjacent_vertices)"
   ]
  },
  {
   "cell_type": "markdown",
   "id": "68afb7fc-54ba-4111-95c3-1a3ce2471249",
   "metadata": {},
   "source": [
    "For this specific graph, which is a line with 16 nodes (labeled 0,..,15 respectively), if the difference of 2 vertices is 1 then there is an edge between them. For example, let's take vertices 2 and 3.\n",
    "\n",
    "$ 3 - 2 = 1$\n",
    "\n",
    "This means that there is an edge between them.\n",
    "\n",
    "Another example, let's take vertices 2 and 0.\n",
    "\n",
    "$2 - 0 = 2$\n",
    "\n",
    "This means that there is no edge between them."
   ]
  },
  {
   "cell_type": "code",
   "execution_count": null,
   "id": "d1244fd4-1298-469b-aa06-5615f7f18286",
   "metadata": {},
   "outputs": [],
   "source": [
    "@qfunc\n",
    "def edge_oracle(res:Output[QBit], vertices: QNum, adjacent_vertices: QNum):\n",
    "  res |= ((vertices-adjacent_vertices) ==1)"
   ]
  },
  {
   "cell_type": "markdown",
   "id": "5d453d4b-13d3-4274-9f01-02f380d1d847",
   "metadata": {},
   "source": [
    "The final change we need to make is with the W_iteration function. We need to update the probability array. For the vertices 0 and 15, there is only one vertex we can go to: 1 and 14 respectively. For the rest of the vertices, they have an edge between them and previous/next vertex. "
   ]
  },
  {
   "cell_type": "code",
   "execution_count": null,
   "id": "2201dd26-57e3-4ef2-8c57-fb3fc45cdd69",
   "metadata": {},
   "outputs": [],
   "source": [
    "def W_iteration(i:int,vertices: QNum, adjacent_vertices:QNum):\n",
    "    prob = [0] * 16\n",
    "    if (i == 0):\n",
    "        prob[(i+1)% 16]= 1\n",
    "    elif (i == 15):\n",
    "        prob[(i-1)% 16]= 1\n",
    "    else:\n",
    "        prob[(i+1)% 16]= 0.5\n",
    "        prob[(i-1)% 16]= 0.5\n",
    "    \n",
    "    print(f'State={i}, prob vec ={prob}')\n",
    "    \n",
    "    control(ctrl=vertices==i,\n",
    "            operand=lambda: within_apply(\n",
    "              compute= lambda: inplace_prepare_state(probabilities=prob, bound=0.01, target=adjacent_vertices),\n",
    "              action= lambda: zero_diffuzer(adjacent_vertices)))"
   ]
  },
  {
   "cell_type": "markdown",
   "id": "fee791c6-791a-4fd6-ac8a-2fc1009d5b31",
   "metadata": {},
   "source": [
    "Here is the program all together for a quantum walk on a line with 16 nodes:"
   ]
  },
  {
   "cell_type": "code",
   "execution_count": 7,
   "id": "3ea502f1-c9f9-4051-bbe1-e1c88de757be",
   "metadata": {},
   "outputs": [
    {
     "name": "stdout",
     "output_type": "stream",
     "text": [
      "State=0, prob vec =[0, 1, 0, 0, 0, 0, 0, 0, 0, 0, 0, 0, 0, 0, 0, 0]\n",
      "State=1, prob vec =[0.5, 0, 0.5, 0, 0, 0, 0, 0, 0, 0, 0, 0, 0, 0, 0, 0]\n",
      "State=2, prob vec =[0, 0.5, 0, 0.5, 0, 0, 0, 0, 0, 0, 0, 0, 0, 0, 0, 0]\n",
      "State=3, prob vec =[0, 0, 0.5, 0, 0.5, 0, 0, 0, 0, 0, 0, 0, 0, 0, 0, 0]\n",
      "State=4, prob vec =[0, 0, 0, 0.5, 0, 0.5, 0, 0, 0, 0, 0, 0, 0, 0, 0, 0]\n",
      "State=5, prob vec =[0, 0, 0, 0, 0.5, 0, 0.5, 0, 0, 0, 0, 0, 0, 0, 0, 0]\n",
      "State=6, prob vec =[0, 0, 0, 0, 0, 0.5, 0, 0.5, 0, 0, 0, 0, 0, 0, 0, 0]\n",
      "State=7, prob vec =[0, 0, 0, 0, 0, 0, 0.5, 0, 0.5, 0, 0, 0, 0, 0, 0, 0]\n",
      "State=8, prob vec =[0, 0, 0, 0, 0, 0, 0, 0.5, 0, 0.5, 0, 0, 0, 0, 0, 0]\n",
      "State=9, prob vec =[0, 0, 0, 0, 0, 0, 0, 0, 0.5, 0, 0.5, 0, 0, 0, 0, 0]\n",
      "State=10, prob vec =[0, 0, 0, 0, 0, 0, 0, 0, 0, 0.5, 0, 0.5, 0, 0, 0, 0]\n",
      "State=11, prob vec =[0, 0, 0, 0, 0, 0, 0, 0, 0, 0, 0.5, 0, 0.5, 0, 0, 0]\n",
      "State=12, prob vec =[0, 0, 0, 0, 0, 0, 0, 0, 0, 0, 0, 0.5, 0, 0.5, 0, 0]\n",
      "State=13, prob vec =[0, 0, 0, 0, 0, 0, 0, 0, 0, 0, 0, 0, 0.5, 0, 0.5, 0]\n",
      "State=14, prob vec =[0, 0, 0, 0, 0, 0, 0, 0, 0, 0, 0, 0, 0, 0.5, 0, 0.5]\n",
      "State=15, prob vec =[0, 0, 0, 0, 0, 0, 0, 0, 0, 0, 0, 0, 0, 0, 1, 0]\n",
      "Opening: https://platform.classiq.io/circuit/be4eccd1-5a0e-440a-9bff-e1af95e1246a?version=0.43.3\n"
     ]
    }
   ],
   "source": [
    "from classiq import *\n",
    "size = 4\n",
    "\n",
    "@qfunc\n",
    "def prepare_minus(x: QBit):\n",
    "  X(x)\n",
    "  H(x)\n",
    "\n",
    "\n",
    "@qfunc\n",
    "def diffuzer_oracle(aux: Output[QNum],x:QNum):\n",
    "  aux^=(x!=0)\n",
    "\n",
    "\n",
    "@qfunc\n",
    "def zero_diffuzer(x: QNum):\n",
    "  aux = QNum('aux')\n",
    "  allocate(1,aux)\n",
    "  within_apply(compute=lambda: prepare_minus(aux),\n",
    "              action=lambda: diffuzer_oracle)\n",
    "\n",
    "\n",
    "def W_iteration(i:int,vertices: QNum, adjacent_vertices:QNum):\n",
    "    prob = [0] * 16\n",
    "    if (i == 0):\n",
    "        prob[(i+1)% 16]= 1\n",
    "    elif (i == 15):\n",
    "        prob[(i-1)% 16]= 1\n",
    "    else:\n",
    "        prob[(i+1)% 16]= 0.5\n",
    "        prob[(i-1)% 16]= 0.5\n",
    "    \n",
    "    print(f'State={i}, prob vec ={prob}')\n",
    "    \n",
    "    control(ctrl=vertices==i,\n",
    "            operand=lambda: within_apply(\n",
    "              compute= lambda: inplace_prepare_state(probabilities=prob, bound=0.01, target=adjacent_vertices),\n",
    "              action= lambda: zero_diffuzer(adjacent_vertices)))\n",
    "\n",
    "\n",
    "@qfunc \n",
    "def W_operator(vertices:QNum, adjacent_vertices: QNum):\n",
    "    for i in range(2**size):\n",
    "      W_iteration(i,vertices,adjacent_vertices)\n",
    "\n",
    "\n",
    "@qfunc\n",
    "def edge_oracle(res:Output[QBit], vertices: QNum, adjacent_vertices: QNum):\n",
    "  res |= ((vertices-adjacent_vertices) ==1)\n",
    "\n",
    "\n",
    "@qfunc \n",
    "def bitwise_swap(x: QArray[QBit], y:QArray[QBit]):\n",
    "  repeat(count= x.len,\n",
    "    iteration= lambda i: SWAP(x[i],y[i]))\n",
    "  \n",
    "\n",
    "@qfunc \n",
    "def S_operator(vertices:QNum, adjacent_vertices: QNum):\n",
    "    res = QNum('res')\n",
    "    edge_oracle(res,vertices,adjacent_vertices)\n",
    "    control(ctrl= res==1,\n",
    "        operand= lambda: bitwise_swap(vertices,adjacent_vertices))\n",
    "\n",
    "@qfunc \n",
    "def main(vertices:Output[QNum], adjacent_vertices:Output[QNum]):\n",
    "\n",
    "  allocate(size,vertices)\n",
    "  hadamard_transform(vertices)\n",
    "  allocate(size,adjacent_vertices)\n",
    "\n",
    "  W_operator(vertices,adjacent_vertices)\n",
    "  S_operator(vertices,adjacent_vertices)\n",
    "\n",
    "qmod = create_model(main)\n",
    "qprog = synthesize(qmod)\n",
    "show(qprog)"
   ]
  },
  {
   "cell_type": "code",
   "execution_count": null,
   "id": "0e854465-9780-4f94-91e1-64f1fe7e5241",
   "metadata": {},
   "outputs": [],
   "source": []
  }
 ],
 "metadata": {
  "kernelspec": {
   "display_name": "Python 3 (ipykernel)",
   "language": "python",
   "name": "python3"
  },
  "language_info": {
   "codemirror_mode": {
    "name": "ipython",
    "version": 3
   },
   "file_extension": ".py",
   "mimetype": "text/x-python",
   "name": "python",
   "nbconvert_exporter": "python",
   "pygments_lexer": "ipython3",
   "version": "3.11.7"
  }
 },
 "nbformat": 4,
 "nbformat_minor": 5
}
