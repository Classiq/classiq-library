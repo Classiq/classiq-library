{
 "cells": [
  {
   "cell_type": "markdown",
   "metadata": {
    "colab": {
     "base_uri": "https://localhost:8080/"
    },
    "collapsed": true,
    "id": "tKuG94yPdaBy",
    "outputId": "adaa4dfb-bfa2-4632-a5b0-6246cb14f494"
   },
   "source": [
    "# **Quantum Walk Implementation on a Linear Graph Using Classiq Library**\n",
    "\n",
    "### **Introduction**\n",
    "Quantum walks, the quantum counterpart of classical random walks, are crucial for various quantum algorithms, such as those used in search and graph traversal. In this notebook, we will delve into the implementation of a quantum walk on a linear graph (a path graph) using the Classiq library. The focus will be on understanding the theoretical foundations and implementing the algorithm step-by-step.\n",
    "\n",
    "### **Objectives**\n",
    "\n",
    "1. **Comprehend the basics of quantum walks:** Explore the differences between quantum and classical walks and their significance in quantum computing.\n",
    "2. **Implement the quantum walk algorithm on a linear graph:** Use Python and the Classiq library to simulate a quantum walk, focusing on the preparation, evolution, and measurement of quantum states.\n",
    "3. **Visualize the quantum circuit:** Generate a quantum circuit that represents the quantum walk, providing a clear view of the operations performed on qubits.\n",
    "\n",
    "## Background: Quantum Walks on Graphs\n",
    "### Classical vs. Quantum Walks\n",
    "\n",
    "- **Classical Random Walks:** In a classical random walk, a walker moves step-by-step on a graph, where each step is determined probabilistically. The walker might, for example, move to an adjacent vertex with equal probability.\n",
    "- **Quantum Walks:** Quantum walks leverage quantum superposition and interference, allowing the quantum walker to explore multiple paths simultaneously. This parallelism can lead to significant speedups in quantum algorithms.\n",
    "\n",
    "### The Quantum Walk Operators\n",
    "\n",
    "In the context of quantum walks on a linear graph, we primarily focus on two operators:\n",
    "\n",
    "1. Coin Operator (C Operator): This operator determines the direction of the quantum walk. It acts on the state ∣𝑗,𝑘⟩ where 𝑗 represents the current vertex and 𝑘 represents the adjacent vertex. The C operator is defined as:\n",
    "\n",
    "$$C = \\sum_{j \\in V} |j\\rangle\\langle j| \\otimes (2|\\partial j\\rangle\\langle \\partial j| - I)$$\n",
    "\n",
    "Here, ∣∂𝑗⟩ is a superposition of the neighboring vertices of 𝑗, and 𝐼 is the identity operator.\n",
    "\n",
    "2. **Shift Operator (S Operator):** This operator shifts the quantum state between adjacent vertices on the graph, effectively moving the quantum walker.\n",
    "\n",
    "### Implementation of the Quantum Walk\n",
    "We will now implement the quantum walk on a linear graph with 16 nodes using the Classiq library. The implementation will be broken down into several key steps, including the state preparation, definition of operators, and execution of the quantum walk.\n",
    "\n",
    "### 1. Setup and Import Libraries"
   ]
  },
  {
   "cell_type": "code",
   "execution_count": null,
   "metadata": {},
   "outputs": [],
   "source": [
    "!pip install -U classiq"
   ]
  },
  {
   "cell_type": "code",
   "execution_count": null,
   "metadata": {},
   "outputs": [],
   "source": [
    "import classiq\n",
    "classiq.authenticate()"
   ]
  },
  {
   "cell_type": "code",
   "execution_count": 12,
   "metadata": {},
   "outputs": [],
   "source": [
    "# Import necessary libraries and modules\n",
    "from classiq import *\n",
    "from classiq.qmod.symbolic import logical_or\n",
    "from classiq.execution import ExecutionPreferences"
   ]
  },
  {
   "cell_type": "markdown",
   "metadata": {},
   "source": [
    "### 2. State Preparation: Creating the Initial State\n",
    "The first step is to prepare the initial quantum state using the Hadamard gate to create a superposition over all possible vertex states."
   ]
  },
  {
   "cell_type": "code",
   "execution_count": 2,
   "metadata": {
    "colab": {
     "base_uri": "https://localhost:8080/"
    },
    "id": "5w_HCOAbddBh",
    "outputId": "c051cf81-dce4-493c-a515-88fa61165d38"
   },
   "outputs": [],
   "source": [
    "@qfunc\n",
    "def prepare_minus(x: QBit):\n",
    "    \"\"\"\n",
    "    Prepare a quantum state |-> by applying an X gate followed by an H gate.\n",
    "    This state is essential for the initial quantum walk configuration.\n",
    "    \"\"\"\n",
    "    X(x)  # Flip the qubit state\n",
    "    H(x)  # Create a superposition state |-> = (|0> - |1>)/sqrt(2)"
   ]
  },
  {
   "cell_type": "markdown",
   "metadata": {},
   "source": [
    "**Explanation:**\n",
    "\n",
    "- **X Gate:** The NOT gate flips the qubit from ∣0⟩ to ∣1⟩\n",
    ".\n",
    "**Hadamard Gate (H Gate):v This gate creates a superposition of ∣0⟩ and ∣1⟩\n",
    ", resulting in the ∣−⟩ state.\n",
    " \n",
    "### 3. Diffuser Oracle: Marking States of Interest\n",
    "The diffuser oracle flips the phase of the state if a certain condition (e.g., 𝑥≠0) is met."
   ]
  },
  {
   "cell_type": "code",
   "execution_count": 3,
   "metadata": {
    "id": "UEbAl0E_dZHr"
   },
   "outputs": [],
   "source": [
    "@qfunc\n",
    "def diffuzer_oracle(aux: Output[QNum], x: QNum):\n",
    "    \"\"\"\n",
    "    Oracle function that flips the auxiliary qubit if x != 0.\n",
    "    This operation is used to mark states that need to be amplified in the quantum walk.\n",
    "    \"\"\"\n",
    "    aux ^= (x != 0)  # Conditional phase flip of the auxiliary qubit"
   ]
  },
  {
   "cell_type": "markdown",
   "metadata": {},
   "source": [
    "**Explanation:**\n",
    "\n",
    "- **Oracle Function:** This marks states in the quantum superposition that fulfill certain conditions, a technique commonly used in quantum search algorithms.\n",
    "\n",
    "### 4. Zero Diffuser: Amplitude Amplification\n",
    "This function applies amplitude amplification, a crucial step in quantum algorithms to increase the probability of finding the correct solution."
   ]
  },
  {
   "cell_type": "code",
   "execution_count": 4,
   "metadata": {
    "id": "_RomtUoNdZHs"
   },
   "outputs": [],
   "source": [
    "@qfunc\n",
    "def zero_diffuzer(x: QNum):\n",
    "    \"\"\"\n",
    "    Creates a zero diffuser using auxiliary qubits.\n",
    "    This operation amplifies the probability of measuring the correct state.\n",
    "    \"\"\"\n",
    "    aux = QNum('aux')\n",
    "    allocate(1, aux)\n",
    "    within_apply(compute=lambda: prepare_minus(aux), \n",
    "                 action=lambda: diffuzer_oracle(aux, x))"
   ]
  },
  {
   "cell_type": "markdown",
   "metadata": {
    "id": "KnlM2Rl_kG92"
   },
   "source": [
    "**Explanation:**\n",
    "\n",
    "- **Amplitude Amplification:** This technique amplifies the probability of the \"marked\" states, increasing the likelihood of measuring a desired outcome.\n",
    "\n",
    "### 5. C-Iteration: Evolving the Quantum State with Coin Operator\n",
    "The C operator is applied to simulate the quantum walk by determining the evolution of the quantum state across the graph."
   ]
  },
  {
   "cell_type": "code",
   "execution_count": 5,
   "metadata": {
    "id": "JGwfoA_hkMMd"
   },
   "outputs": [],
   "source": [
    "def C_iteration(i: int, vertices: QNum, adjacent_vertices: QNum):\n",
    "    \"\"\"\n",
    "    Implements a single iteration of the C operator, simulating the evolution of the quantum state.\n",
    "    \"\"\"\n",
    "    num_nodes = 2**4\n",
    "    prob = [0] * num_nodes\n",
    "    if i == 0:\n",
    "        prob[i + 1] = 1.0\n",
    "    elif i == num_nodes - 1:\n",
    "        prob[i - 1] = 1.0\n",
    "    else:\n",
    "        prob[i - 1] = 0.5\n",
    "        prob[i + 1] = 0.5\n",
    "    print(f'Node={i}, prob vec ={prob}')\n",
    "    control(ctrl=vertices == i,\n",
    "            operand=lambda: within_apply(\n",
    "                compute=lambda: inplace_prepare_state(probabilities=prob, bound=0.01, target=adjacent_vertices),\n",
    "                action=lambda: zero_diffuzer(adjacent_vertices)))"
   ]
  },
  {
   "cell_type": "markdown",
   "metadata": {
    "id": "ToQmOUERkRPs"
   },
   "source": [
    "**Explanation:**\n",
    "\n",
    "- **Probability Vector:** This vector defines the probability distribution for transitioning from one vertex to its neighbors. The quantum state evolves according to this distribution.\n",
    "\n",
    "- **Control Condition:** The quantum state evolves based on the control condition, ensuring that the correct probability distribution is applied.\n",
    "\n",
    "### 6. C Operator: Applying the Coin Operator\n",
    "The C operator applies the evolution step across all vertices, effectively performing a quantum walk."
   ]
  },
  {
   "cell_type": "code",
   "execution_count": 6,
   "metadata": {
    "id": "MQ-l-YTIkVkU"
   },
   "outputs": [],
   "source": [
    "@qfunc\n",
    "def C_operator(vertices: QNum, adjacent_vertices: QNum):\n",
    "    \"\"\"\n",
    "    C operator that applies the coin operation across all vertex states.\n",
    "    This operator is responsible for evolving the quantum state across the graph.\n",
    "    \"\"\"\n",
    "    num_nodes = 2**4\n",
    "    for i in range(num_nodes):\n",
    "        C_iteration(i, vertices, adjacent_vertices)"
   ]
  },
  {
   "cell_type": "markdown",
   "metadata": {
    "id": "dj0EeYKCka7m"
   },
   "source": [
    "**Explanation:**\n",
    "\n",
    "- **C Operator:** This operator applies the coin operation, which determines the direction and evolution of the quantum walk by adjusting the quantum state based on the graph's structure.\n",
    "\n",
    "### 7. Edge Oracle: Identifying Adjacent Vertices\n",
    "The edge oracle identifies if two vertices are adjacent, a necessary step before shifting the quantum state."
   ]
  },
  {
   "cell_type": "code",
   "execution_count": 7,
   "metadata": {
    "id": "4XuWEBihdZHs"
   },
   "outputs": [],
   "source": [
    "@qfunc\n",
    "def edge_oracle(res: Output[QBit], vertices: QNum, adjacent_vertices: QNum):\n",
    "    \"\"\"\n",
    "    Edge oracle that identifies whether two vertices are adjacent.\n",
    "    The oracle checks the condition |j - k| = 1, indicating adjacency.\n",
    "    \"\"\"\n",
    "    res |= (((vertices - adjacent_vertices) == 1) | ((vertices - adjacent_vertices) == -1))"
   ]
  },
  {
   "cell_type": "markdown",
   "metadata": {
    "id": "aT7fHLK4keZF"
   },
   "source": [
    "**Explanation:**\n",
    "\n",
    "- **Edge Oracle:** This oracle checks for adjacency between vertices, crucial for implementing the shift operator in the quantum walk.\n",
    "\n",
    "### 8. Bitwise Swap: Exchanging Qubit States\n",
    "This function swaps the states of two quantum registers bit by bit, which is essential for implementing the shift operation in the quantum walk."
   ]
  },
  {
   "cell_type": "code",
   "execution_count": 8,
   "metadata": {
    "colab": {
     "base_uri": "https://localhost:8080/"
    },
    "id": "mNenp6nGkd22",
    "outputId": "dc03a496-0a14-4e57-e0b6-c14cdc517e9e"
   },
   "outputs": [],
   "source": [
    "@qfunc \n",
    "def bitwise_swap(x: QArray[QBit], y: QArray[QBit]):\n",
    "    \"\"\"\n",
    "    Swaps the bits of two quantum arrays.\n",
    "    This operation is necessary for the S operator, which simulates movement in the quantum walk.\n",
    "    \"\"\"\n",
    "    repeat(count=x.len,\n",
    "           iteration=lambda i: SWAP(x[i], y[i]))"
   ]
  },
  {
   "cell_type": "markdown",
   "metadata": {
    "id": "IUjBLta3l7dM"
   },
   "source": [
    "**Explanation:**\n",
    "\n",
    "- **SWAP Gate:** This gate exchanges the states of two qubits, simulating the shift in the quantum walk.\n",
    "\n",
    "### 9. S Operator: Implementing the Shift\n",
    "The S operator shifts the quantum state between adjacent vertices, simulating the movement of the quantum walker on the graph."
   ]
  },
  {
   "cell_type": "code",
   "execution_count": 9,
   "metadata": {},
   "outputs": [],
   "source": [
    "@qfunc \n",
    "def S_operator(vertices: QNum, adjacent_vertices: QNum):\n",
    "    \"\"\"\n",
    "    S operator that shifts the quantum state between adjacent vertices.\n",
    "    This operator is key to moving the quantum walker along the graph.\n",
    "    \"\"\"\n",
    "    res = QNum('res')\n",
    "    edge_oracle(res, vertices, adjacent_vertices)  # Apply edge oracle to check adjacency\n",
    "    control(ctrl=res == 1,\n",
    "            operand=lambda: bitwise_swap(vertices, adjacent_vertices))  # Conditional bitwise swap"
   ]
  },
  {
   "cell_type": "markdown",
   "metadata": {},
   "source": [
    "**Explanation:**\n",
    "\n",
    "- **Shift Operation:** The S operator implements the physical movement of the quantum state along the graph by swapping the states of adjacent vertices.\n",
    "\n",
    "### 10. Main Quantum Walk Function\n",
    "Finally, we combine all the components to perform a quantum walk on the graph."
   ]
  },
  {
   "cell_type": "code",
   "execution_count": 10,
   "metadata": {},
   "outputs": [],
   "source": [
    "@qfunc \n",
    "def main(vertices: Output[QNum], adjacent_vertices: Output[QNum]):\n",
    "    \"\"\"\n",
    "    Main function for the quantum walk algorithm.\n",
    "    This function initializes the quantum states and applies the C and S operators to perform the quantum walk.\n",
    "    \"\"\"\n",
    "    size = 4\n",
    "    allocate(size, vertices)  # Allocate qubits for vertices\n",
    "    hadamard_transform(vertices)  # Apply Hadamard transform to initialize superposition\n",
    "    allocate(size, adjacent_vertices)  # Allocate qubits for adjacent vertices\n",
    "\n",
    "    C_operator(vertices, adjacent_vertices)  # Apply coin operator\n",
    "    S_operator(vertices, adjacent_vertices)  # Apply shift operator"
   ]
  },
  {
   "cell_type": "markdown",
   "metadata": {},
   "source": [
    "**Explanation:**\n",
    "\n",
    "- **Initialization:** The vertices are initialized in superposition using the Hadamard transform, setting up the quantum state for exploration.\n",
    "\n",
    "- **Operators Application:** The C and S operators are applied sequentially to perform the quantum walk on the graph.\n",
    "\n",
    "### 11. Synthesizing and Visualizing the Quantum Program\n",
    "Finally, we synthesize the quantum circuit and visualize it using the Classiq library."
   ]
  },
  {
   "cell_type": "code",
   "execution_count": null,
   "metadata": {},
   "outputs": [],
   "source": [
    "# Synthesize and display the quantum program\n",
    "qmod = create_model(main)\n",
    "qprog = synthesize(qmod)\n",
    "show(qprog)"
   ]
  },
  {
   "cell_type": "markdown",
   "metadata": {},
   "source": [
    "**Explanation:**\n",
    "\n",
    "- **Synthesis:** The high-level quantum algorithm is translated into a quantum circuit, ready for execution on a quantum computer.\n",
    "- **Visualization:** The resulting quantum circuit is displayed, illustrating the sequence of operations performed on the qubits.\n",
    "\n",
    "### Conclusion\n",
    "In this notebook, we've implemented a quantum walk on a linear graph using the Classiq library. By carefully constructing and applying the C and S operators, we've simulated the evolution of a quantum state across the graph, demonstrating the principles of quantum walks. This implementation provides a foundation for understanding more complex quantum algorithms that rely on quantum walks.\n",
    "\n",
    "### Key Takeaways:\n",
    "- **Quantum Walks:** A powerful tool in quantum computing, offering parallelism and potential speedups for various algorithms.\n",
    "- **Classiq Library:** A versatile tool for constructing and synthesizing quantum circuits, enabling the practical implementation of complex quantum algorithms.\n",
    "- **Graph Theory in Quantum Computing:** The use of graphs and graph-based algorithms is central to many quantum computing applications, making this a critical area of study.\n",
    "\n",
    "Feel free to experiment further with different graph structures or modify the quantum operations to explore their effects on the quantum walk. Let me know if you have any further questions or if there's anything else you'd like to explore!\n",
    "\n"
   ]
  }
 ],
 "metadata": {
  "colab": {
   "provenance": []
  },
  "kernelspec": {
   "display_name": "Python 3 (ipykernel)",
   "language": "python",
   "name": "python3"
  },
  "language_info": {
   "codemirror_mode": {
    "name": "ipython",
    "version": 3
   },
   "file_extension": ".py",
   "mimetype": "text/x-python",
   "name": "python",
   "nbconvert_exporter": "python",
   "pygments_lexer": "ipython3",
   "version": "3.10.9"
  }
 },
 "nbformat": 4,
 "nbformat_minor": 1
}
