{
 "cells": [
  {
   "cell_type": "code",
   "execution_count": 14,
   "metadata": {},
   "outputs": [],
   "source": [
    "from classiq import *"
   ]
  },
  {
   "cell_type": "code",
   "execution_count": 15,
   "metadata": {},
   "outputs": [],
   "source": [
    "from classiq.qmod.symbolic import logical_or\n",
    "from classiq.execution import ExecutionPreferences"
   ]
  },
  {
   "cell_type": "code",
   "execution_count": 16,
   "metadata": {},
   "outputs": [],
   "source": [
    "size = 4 \n",
    "num_nodes = 2**size "
   ]
  },
  {
   "cell_type": "code",
   "execution_count": 27,
   "metadata": {},
   "outputs": [],
   "source": [
    "@qfunc\n",
    "def prepare_minus(x: QBit):\n",
    "  X(x)\n",
    "  H(x)\n",
    "\n",
    "\n",
    "@qfunc\n",
    "def diffuzer_oracle(aux: Output[QNum],x:QNum):\n",
    "  aux^=(x!=0)\n",
    "\n",
    "\n",
    "@qfunc\n",
    "def zero_diffuzer(x: QNum):\n",
    "  aux = QNum('aux')\n",
    "  allocate(1,aux)\n",
    "  within_apply(compute=lambda: prepare_minus(aux),\n",
    "              action=lambda: diffuzer_oracle)\n",
    "\n",
    "\n",
    "def C_iteration(i:int,vertices: QNum, adjacent_vertices:QNum):\n",
    "    \n",
    "    num_nodes = 2**4\n",
    "    prob = [0]*num_nodes  \n",
    "    if i == 0:\n",
    "        prob[i + 1] = 1.0 \n",
    "    elif i == num_nodes - 1:\n",
    "        prob[i - 1] = 1.0 \n",
    "    else:\n",
    "        prob[i - 1] = 0.5  \n",
    "        prob[i + 1] = 0.5  \n",
    "    print(f'Node={i}, prob vec ={prob}')\n",
    "    control(ctrl=vertices==i,\n",
    "            operand=lambda: within_apply(\n",
    "              compute= lambda: inplace_prepare_state(probabilities=prob, bound=0.01, target=adjacent_vertices),\n",
    "              action= lambda: zero_diffuzer(adjacent_vertices)))\n",
    "\n",
    "@qfunc \n",
    "def C_operator(vertices:QNum, adjacent_vertices: QNum):\n",
    "    \n",
    "    num_nodes = 2**4\n",
    "    for i in range(num_nodes):\n",
    "        C_iteration(i,vertices,adjacent_vertices)\n",
    "\n",
    "\n",
    "@qfunc\n",
    "def edge_oracle(res:Output[QBit], vertices: QNum, adjacent_vertices: QNum):\n",
    "  res |= (((vertices - adjacent_vertices) == 1) | ((vertices - adjacent_vertices) == -1))\n",
    "\n",
    "\n",
    "@qfunc \n",
    "def bitwise_swap(x: QArray[QBit], y:QArray[QBit]):\n",
    "  repeat(count= x.len,\n",
    "    iteration= lambda i: SWAP(x[i],y[i]))\n",
    "  \n",
    "\n",
    "@qfunc \n",
    "def S_operator(vertices:QNum, adjacent_vertices: QNum):\n",
    "    res = QNum('res')\n",
    "    edge_oracle(res,vertices,adjacent_vertices)\n",
    "    control(ctrl= res==1,\n",
    "        operand= lambda: bitwise_swap(vertices,adjacent_vertices))\n",
    "\n",
    "@qfunc \n",
    "def main(vertices:Output[QNum], adjacent_vertices:Output[QNum]):\n",
    "    size = 4\n",
    "    allocate(size, vertices)  # Allocate qubits for vertices\n",
    "    hadamard_transform(vertices)  # Apply Hadamard transform to initialize superposition\n",
    "    allocate(size, adjacent_vertices)  # Allocate qubits for adjacent vertices\n",
    "\n",
    "    C_operator(vertices, adjacent_vertices)  # Apply coin operator\n",
    "    S_operator(vertices, adjacent_vertices)  # Apply shift operator\n",
    "\n"
   ]
  },
  {
   "cell_type": "code",
   "execution_count": 28,
   "metadata": {},
   "outputs": [
    {
     "name": "stdout",
     "output_type": "stream",
     "text": [
      "Node=0, prob vec =[0, 1.0, 0, 0, 0, 0, 0, 0, 0, 0, 0, 0, 0, 0, 0, 0]\n",
      "Node=1, prob vec =[0.5, 0, 0.5, 0, 0, 0, 0, 0, 0, 0, 0, 0, 0, 0, 0, 0]\n",
      "Node=2, prob vec =[0, 0.5, 0, 0.5, 0, 0, 0, 0, 0, 0, 0, 0, 0, 0, 0, 0]\n",
      "Node=3, prob vec =[0, 0, 0.5, 0, 0.5, 0, 0, 0, 0, 0, 0, 0, 0, 0, 0, 0]\n",
      "Node=4, prob vec =[0, 0, 0, 0.5, 0, 0.5, 0, 0, 0, 0, 0, 0, 0, 0, 0, 0]\n",
      "Node=5, prob vec =[0, 0, 0, 0, 0.5, 0, 0.5, 0, 0, 0, 0, 0, 0, 0, 0, 0]\n",
      "Node=6, prob vec =[0, 0, 0, 0, 0, 0.5, 0, 0.5, 0, 0, 0, 0, 0, 0, 0, 0]\n",
      "Node=7, prob vec =[0, 0, 0, 0, 0, 0, 0.5, 0, 0.5, 0, 0, 0, 0, 0, 0, 0]\n",
      "Node=8, prob vec =[0, 0, 0, 0, 0, 0, 0, 0.5, 0, 0.5, 0, 0, 0, 0, 0, 0]\n",
      "Node=9, prob vec =[0, 0, 0, 0, 0, 0, 0, 0, 0.5, 0, 0.5, 0, 0, 0, 0, 0]\n",
      "Node=10, prob vec =[0, 0, 0, 0, 0, 0, 0, 0, 0, 0.5, 0, 0.5, 0, 0, 0, 0]\n",
      "Node=11, prob vec =[0, 0, 0, 0, 0, 0, 0, 0, 0, 0, 0.5, 0, 0.5, 0, 0, 0]\n",
      "Node=12, prob vec =[0, 0, 0, 0, 0, 0, 0, 0, 0, 0, 0, 0.5, 0, 0.5, 0, 0]\n",
      "Node=13, prob vec =[0, 0, 0, 0, 0, 0, 0, 0, 0, 0, 0, 0, 0.5, 0, 0.5, 0]\n",
      "Node=14, prob vec =[0, 0, 0, 0, 0, 0, 0, 0, 0, 0, 0, 0, 0, 0.5, 0, 0.5]\n",
      "Node=15, prob vec =[0, 0, 0, 0, 0, 0, 0, 0, 0, 0, 0, 0, 0, 0, 1.0, 0]\n",
      "Opening: https://platform.classiq.io/circuit/348a44e2-f451-45d6-9859-5b0a214f02bb?version=0.42.2\n"
     ]
    }
   ],
   "source": [
    "qmod = create_model(main)\n",
    "qprog = synthesize(qmod)\n",
    "show(qprog)"
   ]
  },
  {
   "cell_type": "markdown",
   "metadata": {},
   "source": [
    "The details of the synthesized circuit is below:\n",
    "\n",
    "Depth: 6154 <br>\n",
    "Width: 53 <br>\n",
    "Gate count <br>\n",
    "H : 1058<br>\n",
    "X : 657<br>\n",
    "CU1 : 412<br>\n",
    "U2 : 256<br>\n",
    "U1 : 512<br>\n",
    "CX : 2488<br>\n",
    "C_OPERATOR_ZERO_DIFFUZER_0_ZERO_DIFFUZER_AUX_CONTROL_NAME : 1<br>\n",
    "RY : 212<br>\n",
    "TDG : 237<br>\n",
    "T : 316<br>\n",
    "P : 1340<br>\n",
    "C_OPERATOR_ZERO_DIFFUZER_1_ZERO_DIFFUZER_AUX_CONTROL_NAME : 1<br>\n",
    "C_OPERATOR_ZERO_DIFFUZER_2_ZERO_DIFFUZER_AUX_CONTROL_NAME : 1<br>\n",
    "C_OPERATOR_ZERO_DIFFUZER_3_ZERO_DIFFUZER_AUX_CONTROL_NAME : 1<br>\n",
    "C_OPERATOR_ZERO_DIFFUZER_4_ZERO_DIFFUZER_AUX_CONTROL_NAME : 1<br>\n",
    "C_OPERATOR_ZERO_DIFFUZER_5_ZERO_DIFFUZER_AUX_CONTROL_NAME : 1<br>\n",
    "C_OPERATOR_ZERO_DIFFUZER_6_ZERO_DIFFUZER_AUX_CONTROL_NAME : 1<br>\n",
    "C_OPERATOR_ZERO_DIFFUZER_7_ZERO_DIFFUZER_AUX_CONTROL_NAME : 1<br>\n",
    "C_OPERATOR_ZERO_DIFFUZER_8_ZERO_DIFFUZER_AUX_CONTROL_NAME : 1<br>\n",
    "C_OPERATOR_ZERO_DIFFUZER_9_ZERO_DIFFUZER_AUX_CONTROL_NAME : 1<br>\n",
    "C_OPERATOR_ZERO_DIFFUZER_10_ZERO_DIFFUZER_AUX_CONTROL_NAME : 1<br>\n",
    "C_OPERATOR_ZERO_DIFFUZER_11_ZERO_DIFFUZER_AUX_CONTROL_NAME : 1<br>\n",
    "C_OPERATOR_ZERO_DIFFUZER_12_ZERO_DIFFUZER_AUX_CONTROL_NAME : 1<br>\n",
    "C_OPERATOR_ZERO_DIFFUZER_13_ZERO_DIFFUZER_AUX_CONTROL_NAME : 1<br>\n",
    "C_OPERATOR_ZERO_DIFFUZER_14_ZERO_DIFFUZER_AUX_CONTROL_NAME : 1<br>\n",
    "C_OPERATOR_ZERO_DIFFUZER_15_ZERO_DIFFUZER_AUX_CONTROL_NAME : 1<br>\n",
    "CP : 216\n"
   ]
  },
  {
   "cell_type": "markdown",
   "metadata": {},
   "source": [
    "The circuit can be optimised and the resulting number of qubits is 35 for the optimized case, but a much greater depth. "
   ]
  },
  {
   "cell_type": "markdown",
   "metadata": {},
   "source": []
  },
  {
   "cell_type": "code",
   "execution_count": null,
   "metadata": {},
   "outputs": [],
   "source": []
  }
 ],
 "metadata": {
  "kernelspec": {
   "display_name": "Python 3",
   "language": "python",
   "name": "python3"
  },
  "language_info": {
   "codemirror_mode": {
    "name": "ipython",
    "version": 3
   },
   "file_extension": ".py",
   "mimetype": "text/x-python",
   "name": "python",
   "nbconvert_exporter": "python",
   "pygments_lexer": "ipython3",
   "version": "3.11.9"
  }
 },
 "nbformat": 4,
 "nbformat_minor": 2
}
