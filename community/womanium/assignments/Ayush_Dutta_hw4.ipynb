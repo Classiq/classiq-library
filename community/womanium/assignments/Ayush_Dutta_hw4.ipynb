{
 "cells": [
  {
   "cell_type": "markdown",
   "id": "8dc8dc51",
   "metadata": {},
   "source": [
    "# Womanium Final Assignment - Ayush Dutta\n",
    "\n",
    "## Quantum Walks on a Line with 16 Nodes\n",
    "\n",
    "### Introduction\n",
    "\n",
    "In this notebook, we will explore the construction of a quantum walk operator for a line with 16 nodes. We will follow the example provided in Bootcamp 4, which dealt with a quantum walk on a circle with 4 nodes. Quantum walks are the quantum analog of classical random walks and have applications in quantum computing, particularly in quantum search algorithms and quantum simulations.\n"
   ]
  },
  {
   "cell_type": "markdown",
   "id": "59d470fa",
   "metadata": {},
   "source": [
    "### Quantum Walk on a Circle with 4 Nodes\n",
    "\n",
    "First, let's recall the construction of the quantum walk operator for a circle with 4 nodes. In a quantum walk, the walker has a position state and a coin state. The coin state determines the direction of the walk. For a circle with 4 nodes, we have the following setup:\n"
   ]
  },
  {
   "cell_type": "code",
   "execution_count": null,
   "id": "6468a15d",
   "metadata": {},
   "outputs": [],
   "source": [
    "import numpy as np\n",
    "import matplotlib.pyplot as plt\n",
    "from scipy.linalg import expm\n",
    "\n",
    "# Define the number of nodes\n",
    "num_nodes = 4\n",
    "\n",
    "# Define the coin operator (Hadamard coin)\n",
    "H = (1/np.sqrt(2)) * np.array([[1, 1], [1, -1]])\n",
    "\n",
    "# Define the shift operators\n",
    "S_plus = np.roll(np.eye(num_nodes), 1, axis=0)\n",
    "S_minus = np.roll(np.eye(num_nodes), -1, axis=0)\n",
    "\n",
    "# Construct the coin-position operator\n",
    "C = np.kron(np.eye(num_nodes), H)\n",
    "\n",
    "# Construct the shift operator\n",
    "S = np.kron(np.diag([1, 0]), S_plus) + np.kron(np.diag([0, 1]), S_minus)\n",
    "\n",
    "# Combine to form the quantum walk operator\n",
    "U = S @ C\n",
    "\n",
    "# Print the quantum walk operator\n",
    "print(\"Quantum walk operator for a circle with 4 nodes:\")\n",
    "print(U)"
   ]
  },
  {
   "cell_type": "markdown",
   "id": "74c68d61",
   "metadata": {},
   "source": [
    "#### Visualization\n",
    "\n",
    "We can visualize the action of the quantum walk operator on the state space. For simplicity, we'll start with an initial state and observe its evolution.\n"
   ]
  },
  {
   "cell_type": "code",
   "execution_count": null,
   "id": "c7e42367",
   "metadata": {},
   "outputs": [],
   "source": [
    "# Initial state: position 0, coin state |0>\n",
    "initial_state = np.zeros(2 * num_nodes)\n",
    "initial_state[0] = 1\n",
    "\n",
    "# Number of steps\n",
    "num_steps = 10\n",
    "\n",
    "# Evolve the state\n",
    "state = initial_state\n",
    "states = [state]\n",
    "\n",
    "for _ in range(num_steps):\n",
    "    state = U @ state\n",
    "    states.append(state)\n",
    "\n",
    "# Plot the probability distribution\n",
    "plt.figure(figsize=(10, 6))\n",
    "for step, state in enumerate(states):\n",
    "    probabilities = np.abs(state.reshape((num_nodes, 2)).sum(axis=1))**2\n",
    "    plt.plot(probabilities, label=f\"Step {step}\")\n",
    "\n",
    "plt.xlabel(\"Node\")\n",
    "plt.ylabel(\"Probability\")\n",
    "plt.title(\"Probability distribution over nodes at each step\")\n",
    "plt.legend()\n",
    "plt.show()"
   ]
  },
  {
   "cell_type": "markdown",
   "id": "068b312d",
   "metadata": {},
   "source": [
    "### Quantum Walk on a Line with 16 Nodes\n",
    "\n",
    "Now, let's transition to a line with 16 nodes. The main difference is that the walk is not cyclic, so we need to handle the boundaries appropriately.\n"
   ]
  },
  {
   "cell_type": "code",
   "execution_count": null,
   "id": "e53fbf3f",
   "metadata": {},
   "outputs": [],
   "source": [
    "# Define the number of nodes\n",
    "num_nodes = 16\n",
    "\n",
    "# Define the coin operator (Hadamard coin)\n",
    "H = (1/np.sqrt(2)) * np.array([[1, 1], [1, -1]])\n",
    "\n",
    "# Define the shift operators\n",
    "S_plus = np.roll(np.eye(num_nodes), 1, axis=0)\n",
    "S_minus = np.roll(np.eye(num_nodes), -1, axis=0)\n",
    "\n",
    "# Handle boundaries: ensure no wrap-around\n",
    "S_plus[0, -1] = 0\n",
    "S_minus[-1, 0] = 0\n",
    "\n",
    "# Construct the coin-position operator\n",
    "C = np.kron(np.eye(num_nodes), H)\n",
    "\n",
    "# Construct the shift operator\n",
    "S = np.kron(np.diag([1, 0]), S_plus) + np.kron(np.diag([0, 1]), S_minus)\n",
    "\n",
    "# Combine to form the quantum walk operator\n",
    "U = S @ C\n",
    "\n",
    "# Print the quantum walk operator\n",
    "print(\"Quantum walk operator for a line with 16 nodes:\")\n",
    "print(U)"
   ]
  },
  {
   "cell_type": "markdown",
   "id": "9aab373e",
   "metadata": {},
   "source": [
    "#### Visualization\n",
    "\n",
    "We can visualize the action of the quantum walk operator on the state space for the line with 16 nodes as we did for the circle.\n"
   ]
  },
  {
   "cell_type": "code",
   "execution_count": null,
   "id": "9077a29e",
   "metadata": {},
   "outputs": [],
   "source": [
    "# Initial state: position 0, coin state |0>\n",
    "initial_state = np.zeros(2 * num_nodes)\n",
    "initial_state[0] = 1\n",
    "\n",
    "# Number of steps\n",
    "num_steps = 30\n",
    "\n",
    "# Evolve the state\n",
    "state = initial_state\n",
    "states = [state]\n",
    "\n",
    "for _ in range(num_steps):\n",
    "    state = U @ state\n",
    "    states.append(state)\n",
    "\n",
    "# Plot the probability distribution\n",
    "plt.figure(figsize=(14, 8))\n",
    "for step, state in enumerate(states):\n",
    "    probabilities = np.abs(state.reshape((num_nodes, 2)).sum(axis=1))**2\n",
    "    plt.plot(probabilities, label=f\"Step {step}\")\n",
    "\n",
    "plt.xlabel(\"Node\")\n",
    "plt.ylabel(\"Probability\")\n",
    "plt.title(\"Probability distribution over nodes at each step\")\n",
    "plt.legend()\n",
    "plt.show()"
   ]
  },
  {
   "cell_type": "markdown",
   "id": "2e4c43e7",
   "metadata": {},
   "source": [
    "### Conclusion\n",
    "\n",
    "In this notebook, we have constructed and visualized the quantum walk operator for a line with 16 nodes. We started by recalling the example of a circle with 4 nodes and then adapted the method for a line. This approach can be extended to other graph structures and used in various quantum algorithms.\n",
    "\n",
    "#### Possible Extensions\n",
    "\n",
    "- Explore different coin operators.\n",
    "- Study the effect of different initial states.\n",
    "- Apply the quantum walk to other graph structures (e.g., grid, complete graph).\n",
    "\n",
    "We hope this notebook has provided a clear and comprehensive understanding of constructing quantum walk operators. Happy experimenting!\n"
   ]
  }
 ],
 "metadata": {},
 "nbformat": 4,
 "nbformat_minor": 5
}
