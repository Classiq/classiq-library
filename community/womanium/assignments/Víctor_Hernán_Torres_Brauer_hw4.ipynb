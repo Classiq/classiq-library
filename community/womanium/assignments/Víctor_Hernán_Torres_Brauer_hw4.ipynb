{
 "cells": [
  {
   "cell_type": "markdown",
   "id": "2c22c66e",
   "metadata": {},
   "source": [
    "# Descrete time Quantum walk on line or ring topology"
   ]
  },
  {
   "cell_type": "markdown",
   "id": "f6dd3893",
   "metadata": {},
   "source": [
    "\n"
   ]
  },
  {
   "cell_type": "markdown",
   "id": "e4340b65",
   "metadata": {},
   "source": [
    "## Instructions:\n",
    "\n",
    "Follow the example from Bootcamp 4. For creating the quantum walk operator for the case of a circle with 4 nodes, and design the quantum walk operator for the case of a line with 16 nodes."
   ]
  },
  {
   "attachments": {
    "Classiq_FinalAssignment_Fig1.png": {
     "image/png": "[encoded data removed]"
    }
   },
   "cell_type": "markdown",
   "id": "3a768a79",
   "metadata": {},
   "source": [
    "![Classiq_FinalAssignment_Fig1.png](attachment:Classiq_FinalAssignment_Fig1.png)\n",
    "\n",
    "_Image credits: Womanium Quantum + AI Scholarip Program with Classiq on Canva_"
   ]
  },
  {
   "cell_type": "markdown",
   "id": "4e29d5c8",
   "metadata": {},
   "source": [
    "# A little of theory\n",
    "\n",
    "\n",
    "A quantum walk is the quantum vertion of a random walk, clasically a \"walker\" moves randomly throught a graph G. In quantum walks, the walker is governed by the laws of quantum mechanics so it can exist in a superposition state and move to more that one site at the time.\n",
    "\n",
    "The graph G is compossed by a set of vertex V and a set of edges E. We will name the subset of edges that include some specific vertex $j$ as $E_{j}$. "
   ]
  },
  {
   "cell_type": "markdown",
   "id": "c2c6e615",
   "metadata": {},
   "source": [
    "## Statates in a quantum walk\n",
    "\n",
    "The states of a graph in a quantum walk lives in a Hilbert space compossed by states of the form $\\vert j,k \\rangle$ where the pair $(j,k)\\in E$. This can be seen as if the walk takes place overthe edges instead of the vertex. The state $\\vert j,k\\rangle$ can be interpreted as a walker in the vertex $j$ that wants to travel to the vertex $k$. In this notebook we will name the different subspaces as walker and adj (in sort for adjacent vertex), so we can write the state $\\vert j,k\\rangle= \\vert j\\rangle_{walker}\\otimes\\vert k\\rangle_{adj}.$"
   ]
  },
  {
   "cell_type": "markdown",
   "id": "3e5e87df",
   "metadata": {},
   "source": [
    "## Evolution in a discrete time quantum walk\n",
    "\n",
    "In quantum walks, one step of the evolution is given by appling a unitary operator $U=SW$ that is composed by a coin operator $W$ and a shift (or swap) operator $S$. \n",
    "\n",
    "To easily understand this, lets assume that the initial state of the graph consist of a state $\\vert j,k \\rangle$ where the walker is in the vertex $j$. \n",
    "\n",
    "The coin operator $W$ (in this case the Grover difussor), will prepare the adj qubits into a superposition of all possible vertex in which the walker can evolve, that is, will prepare a stete that is a superposition of the edges in the subset $E_{j}$.  \n",
    "\n",
    "Then, the swap operator $S$ will perform a literal swap between the superposition created in the adj qubits and the walker qubits, so the final state will consist of the walker living in a superposition of all the vertex that are adjecent to the vertex $j$ where it begins.   "
   ]
  },
  {
   "cell_type": "markdown",
   "id": "3eb8d126",
   "metadata": {},
   "source": [
    "# Implementation \n",
    "\n",
    "In this notebook we will take some liberties and make the program for a n node graph with either ring or line topology.  "
   ]
  },
  {
   "cell_type": "code",
   "execution_count": 1,
   "id": "0fba2255",
   "metadata": {},
   "outputs": [],
   "source": [
    "from classiq import *"
   ]
  },
  {
   "cell_type": "code",
   "execution_count": 13,
   "id": "22d76f50",
   "metadata": {},
   "outputs": [],
   "source": [
    "#The size variable gives us the number of qubits used for the network\n",
    "#the number of nodes will be n=size^2\n",
    "size = 4\n",
    "\n",
    "#Here we decide what topology do we want for our graph\n",
    "# 0 means a ring topology\n",
    "# 1 means a line topology\n",
    "topology=1"
   ]
  },
  {
   "cell_type": "markdown",
   "id": "85438b68",
   "metadata": {},
   "source": [
    "### The coin operator W\n",
    "\n",
    "As mentioned before for this program the coin operator will be a Grover diffusor thath has the form\n",
    "\n",
    "\\begin{equation}\n",
    "W= \\sum_{j\\in V} \\vert j\\rangle\\langle j \\vert_{walker} \\otimes (2\\vert \\partial_{j}\\rangle\\langle \\partial_{j}\\vert-\\mathbb{1})_{adj}\n",
    "\\end{equation}\n"
   ]
  },
  {
   "cell_type": "code",
   "execution_count": 14,
   "id": "65a4102d",
   "metadata": {},
   "outputs": [],
   "source": [
    "#First a function to prepare a qubit in the minus state H|1>= (1\\frac{2})(|0> - |1>)\n",
    "@qfunc\n",
    "def prepare_minus(x: QBit):\n",
    "    X(x)\n",
    "    H(x)\n",
    "\n",
    "#The oracle for the zero deiffuzer will turn the phase of the |0> state\n",
    "@qfunc\n",
    "def diffuzer_oracle(aux: Output[QNum],x:QNum):\n",
    "    aux^=(x!=0)\n",
    "\n",
    "#Now we define the zero diffuzer \n",
    "@qfunc\n",
    "def zero_diffuzer(x: QNum):\n",
    "    aux = QNum('aux')\n",
    "    allocate(1,aux)\n",
    "    within_apply(compute=lambda: prepare_minus(aux), action=lambda: diffuzer_oracle)\n",
    "\n",
    "#the W_iteration writes a matrix A, that is similar to what in graph theory is called an \"adjacency matrix\"\n",
    "#which is a matrix where every row and every cloumn represents a vertex in such a way that \n",
    "#the element A(i,j) represents the probability that a walker in the vertex i \n",
    "#walks to the vertex j in the next step.\n",
    "def W_iteration(i:int,vertices: QNum, adjacent_vertices:QNum):\n",
    "    #We prepare a vector of n sites\n",
    "    prob=[0]*(2**size)\n",
    "    #If topoloty==1 then we write the matrix for a line topology\n",
    "    if topology==1: \n",
    "        if i==2**size-1:\n",
    "            prob[(i-1)%(2**size)]=1\n",
    "        elif i==0:\n",
    "            prob[(i+1)%(2**size)]=1\n",
    "        else:\n",
    "            prob[(i+1)% (2**size)]=0.5\n",
    "            prob[(i-1)% (2**size)]=0.5\n",
    "            \n",
    "    #If tpology==0 then we write the matrix for a ring topology\n",
    "    elif topology==0:  \n",
    "        prob[(i+1)% (2**size)]=0.5\n",
    "        prob[(i-1)% (2**size)]=0.5\n",
    "    else: \n",
    "        print(\"you need to define a topology\")\n",
    "    \n",
    "    #This print will shows os the matrix A       \n",
    "    print(f'State={i}, prob vec ={prob}')\n",
    "    #Now we will give use to the zero_diffuser and the rows of the matrix A to prepare the \n",
    "    #adj qubits into a superposition of the vertex that are adjacent to the vertex where the walker is\n",
    "    control(ctrl=vertices==i,\n",
    "            operand=lambda: within_apply(\n",
    "              compute= lambda: inplace_prepare_state(probabilities=prob, bound=0.01, target=adjacent_vertices),\n",
    "              action= lambda: zero_diffuzer(adjacent_vertices)))\n",
    "\n",
    "#Now the W_operator that applies the W_iteration checking every row of the matrix A \n",
    "#This is necesary since our quantum walker can be in a superposition of vertex\n",
    "@qfunc \n",
    "def W_operator(vertices:QNum, adjacent_vertices: QNum):\n",
    "    for i in range(2**size):\n",
    "        W_iteration(i,vertices,adjacent_vertices)\n",
    "\n",
    "\n"
   ]
  },
  {
   "cell_type": "markdown",
   "id": "1846b5a6",
   "metadata": {},
   "source": [
    "## The shift operator S\n",
    "\n",
    "The shift operator has the form\n",
    "\n",
    "\\begin{equation}\n",
    "S= \\sum_{(j,k)\\in E} \\vert j\\rangle_{walker} \\vert k\\rangle_{adj}\\langle k\\vert_{walker} \\langle j \\vert_{adj}\n",
    "\\end{equation}"
   ]
  },
  {
   "cell_type": "code",
   "execution_count": 15,
   "id": "e6431d80",
   "metadata": {},
   "outputs": [],
   "source": [
    "#Here we deffine the oracle for the swapp function in both topologys\n",
    "@qfunc\n",
    "def edge_oracle(res:Output[QBit], vertices: QNum, adjacent_vertices: QNum):\n",
    "    if topology==0:\n",
    "        res |= (((vertices+adjacent_vertices)%2) ==1)\n",
    "    elif topology==1:\n",
    "        res |= (((vertices - adjacent_vertices) == 1) | ((vertices - adjacent_vertices) == -1))\n",
    "\n",
    "        \n",
    "#The function that literaly swaps the state of the walker with the adj\n",
    "@qfunc \n",
    "def bitwise_swap(x: QArray[QBit], y:QArray[QBit]):\n",
    "    repeat(count= x.len, iteration= lambda i: SWAP(x[i],y[i])) \n",
    "    \n",
    "#the final S operator that will swap only if they are adjacent vertex\n",
    "@qfunc \n",
    "def S_operator(vertices:QNum, adjacent_vertices: QNum):\n",
    "    res = QNum('res')\n",
    "    edge_oracle(res,vertices,adjacent_vertices)\n",
    "    control(ctrl= res==1, operand= lambda: bitwise_swap(vertices,adjacent_vertices))\n",
    "\n"
   ]
  },
  {
   "cell_type": "markdown",
   "id": "7778b737",
   "metadata": {},
   "source": [
    "Finally we create a main function that prepares a state in a perfect superposition of all vertex, and runs the quantum walk one step. \n",
    "\n",
    "So te initial state will be\n",
    "\n",
    "\\begin{equation}\n",
    " \\frac{1}{\\sqrt{n}} \\left(\\sum_{n}\\vert n \\rangle_{walker}\\right) \\otimes \\vert 0\\rangle_{ajd}\n",
    "\\end{equation}\n",
    "\n",
    "and we ended up with  the state \n",
    "\n",
    "\\begin{equation}\n",
    " SW \\left( \\frac{1}{\\sqrt{n}} \\left(\\sum_{n}\\vert n \\rangle_{walker}\\right) \\otimes \\vert 0\\rangle_{ajd} \\right)\n",
    "\\end{equation}"
   ]
  },
  {
   "cell_type": "code",
   "execution_count": 19,
   "id": "e2692d84",
   "metadata": {
    "scrolled": true
   },
   "outputs": [
    {
     "name": "stdout",
     "output_type": "stream",
     "text": [
      "State=0, prob vec =[0, 1, 0, 0, 0, 0, 0, 0, 0, 0, 0, 0, 0, 0, 0, 0]\n",
      "State=1, prob vec =[0.5, 0, 0.5, 0, 0, 0, 0, 0, 0, 0, 0, 0, 0, 0, 0, 0]\n",
      "State=2, prob vec =[0, 0.5, 0, 0.5, 0, 0, 0, 0, 0, 0, 0, 0, 0, 0, 0, 0]\n",
      "State=3, prob vec =[0, 0, 0.5, 0, 0.5, 0, 0, 0, 0, 0, 0, 0, 0, 0, 0, 0]\n",
      "State=4, prob vec =[0, 0, 0, 0.5, 0, 0.5, 0, 0, 0, 0, 0, 0, 0, 0, 0, 0]\n",
      "State=5, prob vec =[0, 0, 0, 0, 0.5, 0, 0.5, 0, 0, 0, 0, 0, 0, 0, 0, 0]\n",
      "State=6, prob vec =[0, 0, 0, 0, 0, 0.5, 0, 0.5, 0, 0, 0, 0, 0, 0, 0, 0]\n",
      "State=7, prob vec =[0, 0, 0, 0, 0, 0, 0.5, 0, 0.5, 0, 0, 0, 0, 0, 0, 0]\n",
      "State=8, prob vec =[0, 0, 0, 0, 0, 0, 0, 0.5, 0, 0.5, 0, 0, 0, 0, 0, 0]\n",
      "State=9, prob vec =[0, 0, 0, 0, 0, 0, 0, 0, 0.5, 0, 0.5, 0, 0, 0, 0, 0]\n",
      "State=10, prob vec =[0, 0, 0, 0, 0, 0, 0, 0, 0, 0.5, 0, 0.5, 0, 0, 0, 0]\n",
      "State=11, prob vec =[0, 0, 0, 0, 0, 0, 0, 0, 0, 0, 0.5, 0, 0.5, 0, 0, 0]\n",
      "State=12, prob vec =[0, 0, 0, 0, 0, 0, 0, 0, 0, 0, 0, 0.5, 0, 0.5, 0, 0]\n",
      "State=13, prob vec =[0, 0, 0, 0, 0, 0, 0, 0, 0, 0, 0, 0, 0.5, 0, 0.5, 0]\n",
      "State=14, prob vec =[0, 0, 0, 0, 0, 0, 0, 0, 0, 0, 0, 0, 0, 0.5, 0, 0.5]\n",
      "State=15, prob vec =[0, 0, 0, 0, 0, 0, 0, 0, 0, 0, 0, 0, 0, 0, 1, 0]\n"
     ]
    }
   ],
   "source": [
    "\n",
    "@qfunc \n",
    "def main(vertices:Output[QNum], adjacent_vertices:Output[QNum]):\n",
    "    allocate(size,vertices) #Initialize the vertex qubits\n",
    "    hadamard_transform(vertices) #Prepare a superposition of the vertex \n",
    "    allocate(size,adjacent_vertices) #Initialize the adj qubits\n",
    "    \n",
    "    W_operator(vertices,adjacent_vertices) #Applies the W or coin operator\n",
    "    S_operator(vertices,adjacent_vertices) #Applies the Switch operator\n",
    "\n",
    "qmod = create_model(main)\n",
    "qprog = synthesize(qmod)"
   ]
  },
  {
   "cell_type": "code",
   "execution_count": 20,
   "id": "083d1af8",
   "metadata": {
    "scrolled": true
   },
   "outputs": [],
   "source": [
    "#And of course the circuit\n",
    "show(qprog)\n",
    "write_qmod(create_model(main), \"randomwalk\")"
   ]
  },
  {
   "cell_type": "markdown",
   "id": "d73ddbf0",
   "metadata": {},
   "source": []
  },
  {
   "cell_type": "code",
   "execution_count": null,
   "id": "22f91481",
   "metadata": {},
   "outputs": [],
   "source": []
  }
 ],
 "metadata": {
  "kernelspec": {
   "display_name": "Python (QISKitenv)",
   "language": "python",
   "name": "qiskitenv"
  },
  "language_info": {
   "codemirror_mode": {
    "name": "ipython",
    "version": 3
   },
   "file_extension": ".py",
   "mimetype": "text/x-python",
   "name": "python",
   "nbconvert_exporter": "python",
   "pygments_lexer": "ipython3",
   "version": "3.11.4"
  }
 },
 "nbformat": 4,
 "nbformat_minor": 5
}
