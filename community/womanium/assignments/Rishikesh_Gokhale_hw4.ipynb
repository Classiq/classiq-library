{
 "cells": [
  {
   "cell_type": "markdown",
   "id": "3b5dfa1e-4853-48c0-91b1-53f6f5993140",
   "metadata": {},
   "source": [
    "***Quantum Random Walk***"
   ]
  },
  {
   "cell_type": "markdown",
   "id": "414e7330-8ec2-40c7-919f-17bb3d91c662",
   "metadata": {},
   "source": [
    "Quantum walks are quantum analog of classical random walk. Quantum advantage comes from the (i) superpostion of the quantum states (ii) reversible unitary evolution (iii) collapse of the wave-function on one of the states. The algorithm has mainly two parts, a function that forms the probability vector for the movement along the given geometry. We define the function as ***W_operator*** and other function swap/shift operator which performs actual movement of the walker by applying swap function. Here we represent that function with ***S_operator*** "
   ]
  },
  {
   "cell_type": "code",
   "execution_count": 8,
   "id": "469205d9-01ce-4898-b932-8f988a64c606",
   "metadata": {},
   "outputs": [
    {
     "name": "stdout",
     "output_type": "stream",
     "text": [
      "State=0, prob vec =[0, 1.0, 0, 0, 0, 0, 0, 0, 0, 0, 0, 0, 0, 0, 0, 0]\n",
      "State=1, prob vec =[0.5, 0, 0.5, 0, 0, 0, 0, 0, 0, 0, 0, 0, 0, 0, 0, 0]\n",
      "State=2, prob vec =[0, 0.5, 0, 0.5, 0, 0, 0, 0, 0, 0, 0, 0, 0, 0, 0, 0]\n",
      "State=3, prob vec =[0, 0, 0.5, 0, 0.5, 0, 0, 0, 0, 0, 0, 0, 0, 0, 0, 0]\n",
      "State=4, prob vec =[0, 0, 0, 0.5, 0, 0.5, 0, 0, 0, 0, 0, 0, 0, 0, 0, 0]\n",
      "State=5, prob vec =[0, 0, 0, 0, 0.5, 0, 0.5, 0, 0, 0, 0, 0, 0, 0, 0, 0]\n",
      "State=6, prob vec =[0, 0, 0, 0, 0, 0.5, 0, 0.5, 0, 0, 0, 0, 0, 0, 0, 0]\n",
      "State=7, prob vec =[0, 0, 0, 0, 0, 0, 0.5, 0, 0.5, 0, 0, 0, 0, 0, 0, 0]\n",
      "State=8, prob vec =[0, 0, 0, 0, 0, 0, 0, 0.5, 0, 0.5, 0, 0, 0, 0, 0, 0]\n",
      "State=9, prob vec =[0, 0, 0, 0, 0, 0, 0, 0, 0.5, 0, 0.5, 0, 0, 0, 0, 0]\n",
      "State=10, prob vec =[0, 0, 0, 0, 0, 0, 0, 0, 0, 0.5, 0, 0.5, 0, 0, 0, 0]\n",
      "State=11, prob vec =[0, 0, 0, 0, 0, 0, 0, 0, 0, 0, 0.5, 0, 0.5, 0, 0, 0]\n",
      "State=12, prob vec =[0, 0, 0, 0, 0, 0, 0, 0, 0, 0, 0, 0.5, 0, 0.5, 0, 0]\n",
      "State=13, prob vec =[0, 0, 0, 0, 0, 0, 0, 0, 0, 0, 0, 0, 0.5, 0, 0.5, 0]\n",
      "State=14, prob vec =[0, 0, 0, 0, 0, 0, 0, 0, 0, 0, 0, 0, 0, 0.5, 0, 0.5]\n",
      "State=15, prob vec =[0, 0, 0, 0, 0, 0, 0, 0, 0, 0, 0, 0, 0, 0, 1.0, 0]\n",
      "Opening: https://platform.classiq.io/circuit/f74123c3-fa09-44e5-b58f-14944765eff3?version=0.43.3\n"
     ]
    }
   ],
   "source": [
    "\n",
    "from classiq import *\n",
    "\n",
    "size = 4\n",
    "\n",
    "@qfunc\n",
    "def prepare_minus(x: QBit):\n",
    "    '''Creates a function |-> which is equal \n",
    "    superpostion of |0> and |1> states.\n",
    "    '''\n",
    "    X(x)\n",
    "    H(x)\n",
    "\n",
    "\n",
    "@qfunc\n",
    "def diffuzer_oracle(aux: Output[QNum],x:QNum):\n",
    "    '''Applies phase kickback operation on the auxiliary qubit'''\n",
    "    aux^=(x!=0)\n",
    "\n",
    "\n",
    "@qfunc\n",
    "def zero_diffuzer(x: QNum):\n",
    "    '''Applies diffuser_oracle function to auxiliary qubit which is\n",
    "    prepared in |-> state.\n",
    "    '''\n",
    "    aux = QNum('aux')\n",
    "    allocate(1,aux)\n",
    "    within_apply(compute=lambda: prepare_minus(aux),\n",
    "              action=lambda: diffuzer_oracle)\n",
    "\n",
    "def W_iteration(i:int,vertices: QNum, adjacent_vertices:QNum):\n",
    "    \n",
    "    prob = [0]* 2**size\n",
    "    if i==0:\n",
    "        prob[i+1] = 1.0 #Probability for moving to right of the first node in the line\n",
    "    elif i==((2**size)-1):\n",
    "        prob[i-1] = 1.0 #Probability for moving to left of the last node in the line\n",
    "    else:\n",
    "        prob[i-1] = 0.5 #Probability of moving to left of the node\n",
    "        prob[i+1] = 0.5 #Probability of moving to right of the node\n",
    "    print(f'State={i}, prob vec ={prob}')\n",
    "    \n",
    "    \n",
    "    control(ctrl=vertices==i,\n",
    "            operand=lambda: within_apply(\n",
    "              compute= lambda: inplace_prepare_state(probabilities=prob, bound=0.01, target=adjacent_vertices),\n",
    "              action= lambda: zero_diffuzer(adjacent_vertices)))\n",
    "    \n",
    "\n",
    "@qfunc \n",
    "def W_operator(vertices:QNum, adjacent_vertices: QNum):\n",
    "    '''Applies W_operators to all the vertices'''\n",
    "    for i in range(2**size):\n",
    "        W_iteration(i,vertices,adjacent_vertices)\n",
    "\n",
    "\n",
    "@qfunc\n",
    "def edge_oracle(res:Output[QBit], vertices: QNum, adjacent_vertices: QNum):\n",
    "    '''Check which vertices are adjacent to each other by comparing the two nodes.\n",
    "    If the difference is +1 / -1, it should be adjacent in a line of nodes. \n",
    "    '''\n",
    "    res |= (((vertices-adjacent_vertices) == 1) | ((vertices-adjacent_vertices) == -1))\n",
    "\n",
    "\n",
    "@qfunc \n",
    "def bitwise_swap(x: QArray[QBit], y:QArray[QBit]):\n",
    "    '''Swaps the two vertices'''\n",
    "    repeat(count= x.len,\n",
    "        iteration= lambda i: SWAP(x[i],y[i]))\n",
    "  \n",
    "\n",
    "@qfunc \n",
    "def S_operator(vertices:QNum, adjacent_vertices: QNum):\n",
    "    '''Checks if the two vertices are adjacent and if they are adjacent, it applies the bitwise_swap \n",
    "    function to swap the two nodes, thus performing actual movement of quantum walker.'''\n",
    "    res = QNum('res')\n",
    "    edge_oracle(res,vertices,adjacent_vertices)\n",
    "    control(ctrl= res==1,\n",
    "        operand= lambda: bitwise_swap(vertices,adjacent_vertices))\n",
    "\n",
    "@qfunc \n",
    "def main(vertices:Output[QNum], adjacent_vertices:Output[QNum]):\n",
    "    '''Main function that puts everything together to perform quantum random walk'''\n",
    "\n",
    "    allocate(size,vertices)\n",
    "    hadamard_transform(vertices)\n",
    "    allocate(size,adjacent_vertices)\n",
    "    \n",
    "    W_operator(vertices,adjacent_vertices)\n",
    "    S_operator(vertices,adjacent_vertices)\n",
    "\n",
    "qmod = create_model(main)\n",
    "qprog = synthesize(qmod)\n",
    "show(qprog)\n",
    "\n"
   ]
  },
  {
   "cell_type": "markdown",
   "id": "e6a7e162-d064-4890-b40d-80355090e3e2",
   "metadata": {},
   "source": [
    "***Output circuit visualization***"
   ]
  },
  {
   "cell_type": "markdown",
   "id": "6489091c-4198-4669-b431-d5e2c6ec9a8b",
   "metadata": {},
   "source": [
    "Here is the full circuit view, where you see the whole circuit is implemented using 37 qubits. \n",
    "The Hadamard operator creates an equal superposition of the 4 qubits giving us a vector space of 16 (our desired number of nodes)."
   ]
  },
  {
   "cell_type": "markdown",
   "id": "674a9a96-d4f7-452a-b8b4-3659b3d968b9",
   "metadata": {},
   "source": [
    "![alt text](full_circuit_quantum_walk.jpg \"full_circuit\")"
   ]
  },
  {
   "cell_type": "markdown",
   "id": "3d77471a-ed9f-4ba2-86b0-3086ebc5f169",
   "metadata": {},
   "source": [
    "We further zoom in on each of the functions. When we zoom in on the W_operator, we see the state_preparation, zero_diffuser (which formulates the probability vector), and inverse_state_prepapation. These functions/operators are applied to each node. "
   ]
  },
  {
   "cell_type": "markdown",
   "id": "b37ea87f-1bf3-4514-89b8-5226226482c9",
   "metadata": {},
   "source": [
    "![alt text](W_operator_quantum_walk.png \"W_operator\")"
   ]
  },
  {
   "cell_type": "markdown",
   "id": "78293151-e9e0-4469-b5f9-9a4f2042e250",
   "metadata": {},
   "source": [
    "Here we zoom in on the shift/swap operator. Edge_oracle checks if the two nodes are connected by and edge (if they are adjacent). If they are connected by an edge, the bitwise_swap operator swaps the two nodes, mimicking the quantum walk (the actual movement of the walker). It is a controlled operation, and it is only performed if the edge_oracle finds the two nodes adjacent. "
   ]
  },
  {
   "cell_type": "markdown",
   "id": "3e625073-3014-4a13-8ed4-c651a3e34a7c",
   "metadata": {},
   "source": [
    "![alt text](S_operator_quantum_walk.png \"S_operator\")"
   ]
  },
  {
   "cell_type": "code",
   "execution_count": null,
   "id": "6f00f06e-0f90-4927-ab7e-a5b16da8f6ee",
   "metadata": {},
   "outputs": [],
   "source": []
  }
 ],
 "metadata": {
  "kernelspec": {
   "display_name": "Python 3 (ipykernel)",
   "language": "python",
   "name": "python3"
  },
  "language_info": {
   "codemirror_mode": {
    "name": "ipython",
    "version": 3
   },
   "file_extension": ".py",
   "mimetype": "text/x-python",
   "name": "python",
   "nbconvert_exporter": "python",
   "pygments_lexer": "ipython3",
   "version": "3.10.9"
  }
 },
 "nbformat": 4,
 "nbformat_minor": 5
}
