{
 "cells": [
  {
   "cell_type": "markdown",
   "metadata": {},
   "source": [
    "## Womanium Assignment 6.12"
   ]
  },
  {
   "cell_type": "markdown",
   "metadata": {},
   "source": [
    "### Objective: creating a quantum walk operator for the case of a line with 16 nodes"
   ]
  },
  {
   "cell_type": "code",
   "execution_count": 1,
   "metadata": {},
   "outputs": [],
   "source": [
    "from classiq import *"
   ]
  },
  {
   "cell_type": "code",
   "execution_count": 2,
   "metadata": {},
   "outputs": [],
   "source": [
    "# Define the number of qubits\n",
    "num_qubits = 4\n",
    "num_vertices = 2**num_qubits"
   ]
  },
  {
   "cell_type": "markdown",
   "metadata": {},
   "source": [
    "### Phase kickback"
   ]
  },
  {
   "cell_type": "code",
   "execution_count": 3,
   "metadata": {},
   "outputs": [],
   "source": [
    "# Prepare a qubit in the minus state\n",
    "@qfunc\n",
    "def prepare_minus(x: QBit):\n",
    "    X(x)\n",
    "    H(x)\n",
    "\n",
    "# Flip the phase of auxiliary qubit if the vertice is not zero\n",
    "@qfunc\n",
    "def diffuzer_oracle(aux: Output[QNum],x:QNum):\n",
    "    aux^=(x!=0)\n",
    "\n",
    "# Apply the Grover diffusion operator\n",
    "@qfunc\n",
    "def zero_diffuzer(x: QNum):\n",
    "    aux = QNum('aux')\n",
    "    allocate(1,aux)\n",
    "    within_apply(compute=lambda: prepare_minus(aux),\n",
    "              action=lambda: diffuzer_oracle)\n"
   ]
  },
  {
   "cell_type": "markdown",
   "metadata": {},
   "source": [
    "### Walk operator"
   ]
  },
  {
   "cell_type": "code",
   "execution_count": 4,
   "metadata": {},
   "outputs": [],
   "source": [
    "# Define the movements of nodes for each iteration\n",
    "def W_iteration(i:int,vertices: QNum, adjacent_vertices:QNum):\n",
    "    # Initialisation\n",
    "    prob = [0 for j in range(num_vertices)]\n",
    "    # Control the movement of the first node (can only move to the second node)\n",
    "    if i == 0:\n",
    "        prob[i + 1] = 1.0\n",
    "    \n",
    "    # Control the movement of the last node (can only move to the second to last node)\n",
    "    elif i == num_vertices - 1:\n",
    "        prob[i - 1] = 1.0\n",
    "\n",
    "    # Control the movement of middle nodes\n",
    "    else:\n",
    "        prob[i - 1] = 0.5  # Probability of moving to the left node\n",
    "        prob[i + 1] = 0.5  # Probability of moving to the right node\n",
    "    \n",
    "    print(f'Node={i}, prob vec ={prob}')\n",
    "\n",
    "    # Apply phase kickback\n",
    "    control(ctrl=vertices==i,\n",
    "            operand=lambda: within_apply(\n",
    "              compute=lambda: inplace_prepare_state(probabilities=prob, bound=0.01, target=adjacent_vertices),\n",
    "              action=lambda: zero_diffuzer(adjacent_vertices)))\n",
    "\n",
    "# Iterate over all nodes\n",
    "@qfunc \n",
    "def W_operator(vertices:QNum, adjacent_vertices: QNum):\n",
    "\n",
    "    for i in range(num_vertices):\n",
    "        W_iteration(i,vertices,adjacent_vertices)"
   ]
  },
  {
   "cell_type": "markdown",
   "metadata": {},
   "source": [
    "### Shift operator"
   ]
  },
  {
   "cell_type": "code",
   "execution_count": 5,
   "metadata": {},
   "outputs": [],
   "source": [
    "# Check if two nodes are adjacent \n",
    "@qfunc\n",
    "def edge_oracle(res:Output[QBit], vertices: QNum, adjacent_vertices: QNum):\n",
    "    res |= (((vertices+adjacent_vertices)%2) ==1)\n",
    "\n",
    "# Swap two states bit by bit\n",
    "@qfunc \n",
    "def bitwise_swap(x: QArray[QBit], y:QArray[QBit]):\n",
    "    repeat(count= x.len,\n",
    "           iteration= lambda i: SWAP(x[i],y[i])) \n",
    "\n",
    "# Change the vertices' number\n",
    "@qfunc \n",
    "def S_operator(vertices:QNum, adjacent_vertices: QNum):\n",
    "    res = QNum('res')\n",
    "    edge_oracle(res,vertices,adjacent_vertices)\n",
    "    control(ctrl= res==1,\n",
    "        operand= lambda: bitwise_swap(vertices,adjacent_vertices))"
   ]
  },
  {
   "cell_type": "markdown",
   "metadata": {},
   "source": [
    "### Perform the quantum random walk"
   ]
  },
  {
   "cell_type": "code",
   "execution_count": 6,
   "metadata": {},
   "outputs": [],
   "source": [
    "@qfunc \n",
    "def main(vertices:Output[QNum], adjacent_vertices:Output[QNum]):\n",
    "    # Initialise qubits representing vertices\n",
    "    allocate(num_qubits, vertices)\n",
    "\n",
    "    # Create superposition of all states ∣0⟩, ∣1⟩,..., ∣15⟩\n",
    "    hadamard_transform(vertices)\n",
    "\n",
    "    # Initialise qubits representing adjacent vertices\n",
    "    allocate(num_qubits, adjacent_vertices)\n",
    "    \n",
    "    # Apply walk operator and shift operator\n",
    "    W_operator(vertices, adjacent_vertices)\n",
    "    S_operator(vertices, adjacent_vertices)"
   ]
  },
  {
   "cell_type": "markdown",
   "metadata": {},
   "source": [
    "### Create and synthesise the circuit"
   ]
  },
  {
   "cell_type": "code",
   "execution_count": null,
   "metadata": {},
   "outputs": [],
   "source": [
    "qmod = create_model(main)\n",
    "qprog = synthesize(qmod)\n",
    "show(qprog)"
   ]
  }
 ],
 "metadata": {
  "kernelspec": {
   "display_name": "Python 3",
   "language": "python",
   "name": "python3"
  },
  "language_info": {
   "codemirror_mode": {
    "name": "ipython",
    "version": 3
   },
   "file_extension": ".py",
   "mimetype": "text/x-python",
   "name": "python",
   "nbconvert_exporter": "python",
   "pygments_lexer": "ipython3",
   "version": "3.10.13"
  }
 },
 "nbformat": 4,
 "nbformat_minor": 2
}
