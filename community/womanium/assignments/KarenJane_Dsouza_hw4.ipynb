{
 "cells": [
  {
   "cell_type": "markdown",
   "metadata": {},
   "source": [
    "A discrete linear quantum walk is a quantum analog of a classical random walk, but it operates on a quantum system and exhibits quantum properties such as superposition and interference.\n",
    "\n",
    "*Superposition:*\n",
    "\n",
    "In a quantum walk, the walker can be in a superposition of multiple positions simultaneously. This is unlike a classical random walk, where the walker can only be in one position at a time.\n",
    "\n",
    "*Interference:*\n",
    "\n",
    "The probability amplitudes of the quantum walk can interfere with each other, leading to constructive or destructive interference. This interference can significantly alter the probability distribution of the walker's position compared to a classical random walk.\n",
    "\n",
    "*Unitary Evolution:*\n",
    "\n",
    "The evolution of the quantum walk is governed by unitary operators, ensuring that the process is reversible and preserves the total probability.\n",
    "\n",
    "**Components of a Discrete Linear Quantum Walk**\n",
    "\n",
    "*Hilbert Space:*\n",
    "\n",
    "The walker's position is represented in a Hilbert space, typically with basis states corresponding to different positions.\n",
    "\n",
    "*Coin Operator:*\n",
    "\n",
    "A coin operator (analogous to flipping a coin in a classical random walk) determines the direction of the walk. It creates a superposition of possible directions.\n",
    "\n",
    "*Shift Operator:*\n",
    "\n",
    "The shift operator moves the walker based on the outcome of the coin operator. It shifts the walker's position in the superposition space.\n",
    "\n",
    "*Initial State:*\n",
    "\n",
    "The walker starts in an initial quantum state, which is typically a superposition of different positions or a specific position.\n",
    "\n",
    "![](quantum_walk.jpg)"
   ]
  },
  {
   "cell_type": "code",
   "execution_count": 3,
   "metadata": {},
   "outputs": [],
   "source": [
    "from classiq import *\n",
    "\n",
    "# Define the size of the quantum system\n",
    "size = 4\n",
    "\n",
    "# Function to prepare a qubit in the |-> state\n",
    "@qfunc\n",
    "def prepare_minus(x: QBit):\n",
    "    X(x)\n",
    "    H(x)"
   ]
  },
  {
   "cell_type": "code",
   "execution_count": null,
   "metadata": {},
   "outputs": [],
   "source": [
    "# Oracle function to mark the solution state in a Grover search-like setup\n",
    "@qfunc\n",
    "def diffuser_oracle(aux: Output[QNum], x: QNum):\n",
    "    aux ^= (x != 0)\n",
    "\n",
    "# Function to implement the diffuser (or inversion about the mean) in Grover's algorithm\n",
    "@qfunc\n",
    "def zero_diffuser(x: QNum):\n",
    "    aux = QNum('aux')\n",
    "    allocate(1, aux)\n",
    "    within_apply(\n",
    "        compute=lambda: prepare_minus(aux),\n",
    "        action=lambda: diffuser_oracle\n",
    "    )"
   ]
  },
  {
   "cell_type": "code",
   "execution_count": null,
   "metadata": {},
   "outputs": [],
   "source": [
    "# Function to apply the W operation (quantum walk step) for a given vertex i\n",
    "def W_iteration(i: int, vertices: QNum, adjacent_vertices: QNum):\n",
    "    prob = [0] * 16  # Initialize probability vector\n",
    "    if i == 0:\n",
    "        prob[i + 1] = 1.0  # If at the first vertex, transition to the next\n",
    "    elif i == 15:\n",
    "        prob[i - 1] = 1.0  # If at the last vertex, transition to the previous\n",
    "    else:\n",
    "        prob[i - 1] = prob[i + 1] = 0.5  # Otherwise, equal probability to move left or right\n",
    "    \n",
    "    print(f'State={i}, prob vec={prob}')\n",
    "    \n",
    "    control(ctrl=vertices == i,\n",
    "            operand=lambda: within_apply(\n",
    "                compute=lambda: inplace_prepare_state(probabilities=prob, bound=0.01, target=adjacent_vertices),\n",
    "                action=lambda: zero_diffuser(adjacent_vertices)))\n",
    "\n",
    "# Function to apply the W operator across all vertices\n",
    "@qfunc\n",
    "def W_operator(vertices: QNum, adjacent_vertices: QNum):\n",
    "    for i in range(2**size):\n",
    "        W_iteration(i, vertices, adjacent_vertices)"
   ]
  },
  {
   "cell_type": "code",
   "execution_count": null,
   "metadata": {},
   "outputs": [],
   "source": [
    "# Oracle to identify edges in the graph, used for marking specific vertices\n",
    "@qfunc\n",
    "def edge_oracle(res: Output[QBit], vertices: QNum, adjacent_vertices: QNum):\n",
    "    res |= ((vertices - adjacent_vertices) == 1) | ((adjacent_vertices - vertices) == 1)"
   ]
  },
  {
   "cell_type": "code",
   "execution_count": null,
   "metadata": {},
   "outputs": [],
   "source": [
    "# Function to swap the states of two qubits\n",
    "@qfunc\n",
    "def bitwise_swap(x: QArray[QBit], y: QArray[QBit]):\n",
    "    repeat(count=x.len,\n",
    "           iteration=lambda i: SWAP(x[i], y[i]))"
   ]
  },
  {
   "cell_type": "code",
   "execution_count": null,
   "metadata": {},
   "outputs": [],
   "source": [
    "# S operator function to apply the swap based on edge oracle\n",
    "@qfunc\n",
    "def S_operator(vertices: QNum, adjacent_vertices: QNum):\n",
    "    res = QNum('res')\n",
    "    edge_oracle(res, vertices, adjacent_vertices)\n",
    "    control(ctrl=res == 1,\n",
    "            operand=lambda: bitwise_swap(vertices, adjacent_vertices))"
   ]
  },
  {
   "cell_type": "code",
   "execution_count": null,
   "metadata": {},
   "outputs": [],
   "source": [
    "# Main function to set up and execute the quantum walk and swap operations\n",
    "@qfunc\n",
    "def main(vertices: Output[QNum], adjacent_vertices: Output[QNum]):\n",
    "    allocate(size, vertices)\n",
    "    hadamard_transform(vertices)  # Initialize the vertices in superposition\n",
    "    allocate(size, adjacent_vertices)\n",
    "\n",
    "    W_operator(vertices, adjacent_vertices)  # Apply quantum walk operation\n",
    "    S_operator(vertices, adjacent_vertices)  # Apply swap operation based on edge conditions"
   ]
  },
  {
   "cell_type": "code",
   "execution_count": null,
   "metadata": {},
   "outputs": [],
   "source": [
    "# Create and synthesize the quantum model\n",
    "qmod = create_model(main)\n",
    "qprog = synthesize(qmod)\n",
    "show(qprog)\n"
   ]
  },
  {
   "cell_type": "markdown",
   "metadata": {},
   "source": [
    "The code simulates a discrete linear quantum walk on a 4-qubit system. It initializes the vertices in a superposition, applies quantum walk steps using controlled diffusion, and swaps states based on adjacency, mimicking the behavior of a classical random walk but leveraging quantum properties for potentially faster computation and different behavior due to superposition and interference."
   ]
  }
 ],
 "metadata": {
  "kernelspec": {
   "display_name": "Python 3 (ipykernel)",
   "language": "python",
   "name": "python3"
  },
  "language_info": {
   "codemirror_mode": {
    "name": "ipython",
    "version": 3
   },
   "file_extension": ".py",
   "mimetype": "text/x-python",
   "name": "python",
   "nbconvert_exporter": "python",
   "pygments_lexer": "ipython3",
   "version": "3.11.9"
  }
 },
 "nbformat": 4,
 "nbformat_minor": 4
}
