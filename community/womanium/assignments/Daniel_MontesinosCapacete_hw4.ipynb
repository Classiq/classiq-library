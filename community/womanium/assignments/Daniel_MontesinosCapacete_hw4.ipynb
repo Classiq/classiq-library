{
 "cells": [
  {
   "cell_type": "markdown",
   "id": "6bfa63c5-1eb8-4d8f-a4c3-10cf515e2d96",
   "metadata": {},
   "source": [
    "# Import Packages"
   ]
  },
  {
   "cell_type": "code",
   "execution_count": 1,
   "id": "7a2b2a5b-00d3-4ba4-8987-60f8c080b99a",
   "metadata": {},
   "outputs": [],
   "source": [
    "from classiq import *"
   ]
  },
  {
   "cell_type": "markdown",
   "id": "94a9a8d3-e75f-4e29-846c-cdd06e8a0e0d",
   "metadata": {},
   "source": [
    "# Original Code from \"quantum_walk_circle_example.py\""
   ]
  },
  {
   "cell_type": "code",
   "execution_count": 10,
   "id": "f1aa5357-6c10-4f99-b077-fc3a938e1ef2",
   "metadata": {},
   "outputs": [],
   "source": [
    "@qfunc\n",
    "def prepare_minus(x: QBit):\n",
    "  X(x)\n",
    "  H(x)\n",
    "\n",
    "\n",
    "@qfunc\n",
    "def diffuzer_oracle(aux: Output[QNum],x:QNum):\n",
    "  aux^=(x!=0)\n",
    "\n",
    "\n",
    "@qfunc\n",
    "def zero_diffuzer(x: QNum):\n",
    "  aux = QNum('aux')\n",
    "  allocate(1,aux)\n",
    "  within_apply(compute=lambda: prepare_minus(aux),\n",
    "              action=lambda: diffuzer_oracle)\n",
    "\n",
    "\n",
    "def W_iteration(i:int,vertices: QNum, adjacent_vertices:QNum):\n",
    "    prob = [0,0,0,0]\n",
    "    prob[(i+1)% 4]=0.5\n",
    "    prob[(i-1)% 4]=0.5\n",
    "    print(f'State={i}, prob vec ={prob}')\n",
    "    \n",
    "    control(ctrl=vertices==i,\n",
    "            operand=lambda: within_apply(\n",
    "              compute= lambda: inplace_prepare_state(probabilities=prob, bound=0.01, target=adjacent_vertices),\n",
    "              action= lambda: zero_diffuzer(adjacent_vertices)))\n",
    "\n",
    "\n",
    "@qfunc \n",
    "def W_operator(vertices:QNum, adjacent_vertices: QNum):\n",
    "    for i in range(2**size):\n",
    "      W_iteration(i,vertices,adjacent_vertices)\n",
    "\n",
    "\n",
    "@qfunc\n",
    "def edge_oracle(res:Output[QBit], vertices: QNum, adjacent_vertices: QNum):\n",
    "  res |= (((vertices+adjacent_vertices)%2) ==1)\n",
    "\n",
    "\n",
    "@qfunc \n",
    "def bitwise_swap(x: QArray[QBit], y:QArray[QBit]):\n",
    "  repeat(count= x.len,\n",
    "    iteration= lambda i: SWAP(x[i],y[i]))\n",
    "  \n",
    "\n",
    "@qfunc \n",
    "def S_operator(vertices:QNum, adjacent_vertices: QNum):\n",
    "    res = QNum('res')\n",
    "    edge_oracle(res,vertices,adjacent_vertices)\n",
    "    control(ctrl= res==1,\n",
    "        operand= lambda: bitwise_swap(vertices,adjacent_vertices))\n",
    "\n",
    "@qfunc \n",
    "def main(vertices:Output[QNum], adjacent_vertices:Output[QNum]):\n",
    "\n",
    "  allocate(size,vertices)\n",
    "  hadamard_transform(vertices)\n",
    "  allocate(size,adjacent_vertices)\n",
    "\n",
    "  W_operator(vertices,adjacent_vertices)\n",
    "  S_operator(vertices,adjacent_vertices)"
   ]
  },
  {
   "cell_type": "code",
   "execution_count": 11,
   "id": "e6a830a9-3c4d-40df-8a1e-90a78d22e11f",
   "metadata": {},
   "outputs": [
    {
     "name": "stdout",
     "output_type": "stream",
     "text": [
      "State=0, prob vec =[0, 0.5, 0, 0.5]\n",
      "State=1, prob vec =[0.5, 0, 0.5, 0]\n",
      "State=2, prob vec =[0, 0.5, 0, 0.5]\n",
      "State=3, prob vec =[0.5, 0, 0.5, 0]\n",
      "Opening: https://platform.classiq.io/circuit/3ca16cb4-b05b-41fe-bd9f-1f7c6f15d0e4?version=0.42.2\n"
     ]
    }
   ],
   "source": [
    "size = 2\n",
    "\n",
    "qmod = create_model(main)\n",
    "qprog = synthesize(qmod)\n",
    "show(qprog)"
   ]
  },
  {
   "cell_type": "markdown",
   "id": "1c4a2cc9-ab5b-47f4-9256-9486d919222e",
   "metadata": {},
   "source": [
    "# Quantum Walk Operator for a line with 16 nodes"
   ]
  },
  {
   "cell_type": "markdown",
   "id": "ceb68d03-103d-49dc-b9d4-6a89d75636fa",
   "metadata": {},
   "source": [
    "Since we are working with 16 nodes, we will need only four qubits. This advantage arises from the exponential growth of the dimension of the Hilbert space with the number of qubits. Thus, we will set:"
   ]
  },
  {
   "cell_type": "code",
   "execution_count": 12,
   "id": "512b6ad8-559f-45af-920e-d449873c4767",
   "metadata": {},
   "outputs": [],
   "source": [
    "size = 4\n",
    "nodes = 2**size"
   ]
  },
  {
   "cell_type": "markdown",
   "id": "b8c722fa-834d-4ebd-aa7b-a378ca4ce779",
   "metadata": {},
   "source": [
    "We need to modify the W-iteration function so that it satisfies the geometric properties of the line with 16 nodes as follows:"
   ]
  },
  {
   "cell_type": "code",
   "execution_count": 13,
   "id": "c7c02d28-bec7-46bc-965d-b2ab465a7899",
   "metadata": {},
   "outputs": [],
   "source": [
    "def W_iteration_Line(i:int,vertices: QNum, adjacent_vertices:QNum):\n",
    "    prob = [0 for _ in range(nodes)]  # Initialize probability vector for 16 nodes\n",
    "    if i == 0: \n",
    "        prob[i+1] = 1 # If at the first node, move to the right node (node 1)\n",
    "    elif i == nodes-1:\n",
    "        prob[i-1] = 1 # If at the last node, move to the left node (node 14)\n",
    "    else:  \n",
    "        prob[i-1] = 0.5 # Probability of moving to the left node\n",
    "        prob[i+1] = 0.5 # Probability of moving to the right node\n",
    "        \n",
    "    print(f'State={i}, prob vec ={prob}')\n",
    "    \n",
    "    control(ctrl=vertices==i,\n",
    "            operand=lambda: within_apply(\n",
    "              compute= lambda: inplace_prepare_state(probabilities=prob, bound=0.01, target=adjacent_vertices),\n",
    "              action= lambda: zero_diffuzer(adjacent_vertices)))\n",
    "@qfunc \n",
    "def W_operator_Line(vertices:QNum, adjacent_vertices: QNum):\n",
    "    for i in range(2**size):\n",
    "      W_iteration_Line(i,vertices,adjacent_vertices)"
   ]
  },
  {
   "cell_type": "markdown",
   "id": "b96e0973-a99f-47a1-9330-dd44b56f1178",
   "metadata": {},
   "source": [
    "Now, we just need to put these functions together, similar to the circle example:"
   ]
  },
  {
   "cell_type": "code",
   "execution_count": 14,
   "id": "9810ad52-b17c-4fe2-b6ce-c3c58d286901",
   "metadata": {},
   "outputs": [],
   "source": [
    "@qfunc \n",
    "def main(vertices:Output[QNum], adjacent_vertices:Output[QNum]):\n",
    "\n",
    "  allocate(size, vertices)\n",
    "  hadamard_transform(vertices)\n",
    "  allocate(size,adjacent_vertices)\n",
    "\n",
    "  W_operator_Line(vertices,adjacent_vertices)\n",
    "  S_operator(vertices,adjacent_vertices)"
   ]
  },
  {
   "cell_type": "code",
   "execution_count": 16,
   "id": "0e560d48-6642-4f7a-a36e-445be80c6fe8",
   "metadata": {},
   "outputs": [
    {
     "name": "stdout",
     "output_type": "stream",
     "text": [
      "State=0, prob vec =[0, 1, 0, 0, 0, 0, 0, 0, 0, 0, 0, 0, 0, 0, 0, 0]\n",
      "State=1, prob vec =[0.5, 0, 0.5, 0, 0, 0, 0, 0, 0, 0, 0, 0, 0, 0, 0, 0]\n",
      "State=2, prob vec =[0, 0.5, 0, 0.5, 0, 0, 0, 0, 0, 0, 0, 0, 0, 0, 0, 0]\n",
      "State=3, prob vec =[0, 0, 0.5, 0, 0.5, 0, 0, 0, 0, 0, 0, 0, 0, 0, 0, 0]\n",
      "State=4, prob vec =[0, 0, 0, 0.5, 0, 0.5, 0, 0, 0, 0, 0, 0, 0, 0, 0, 0]\n",
      "State=5, prob vec =[0, 0, 0, 0, 0.5, 0, 0.5, 0, 0, 0, 0, 0, 0, 0, 0, 0]\n",
      "State=6, prob vec =[0, 0, 0, 0, 0, 0.5, 0, 0.5, 0, 0, 0, 0, 0, 0, 0, 0]\n",
      "State=7, prob vec =[0, 0, 0, 0, 0, 0, 0.5, 0, 0.5, 0, 0, 0, 0, 0, 0, 0]\n",
      "State=8, prob vec =[0, 0, 0, 0, 0, 0, 0, 0.5, 0, 0.5, 0, 0, 0, 0, 0, 0]\n",
      "State=9, prob vec =[0, 0, 0, 0, 0, 0, 0, 0, 0.5, 0, 0.5, 0, 0, 0, 0, 0]\n",
      "State=10, prob vec =[0, 0, 0, 0, 0, 0, 0, 0, 0, 0.5, 0, 0.5, 0, 0, 0, 0]\n",
      "State=11, prob vec =[0, 0, 0, 0, 0, 0, 0, 0, 0, 0, 0.5, 0, 0.5, 0, 0, 0]\n",
      "State=12, prob vec =[0, 0, 0, 0, 0, 0, 0, 0, 0, 0, 0, 0.5, 0, 0.5, 0, 0]\n",
      "State=13, prob vec =[0, 0, 0, 0, 0, 0, 0, 0, 0, 0, 0, 0, 0.5, 0, 0.5, 0]\n",
      "State=14, prob vec =[0, 0, 0, 0, 0, 0, 0, 0, 0, 0, 0, 0, 0, 0.5, 0, 0.5]\n",
      "State=15, prob vec =[0, 0, 0, 0, 0, 0, 0, 0, 0, 0, 0, 0, 0, 0, 1, 0]\n",
      "Opening: https://platform.classiq.io/circuit/e0be6682-ec8e-4107-a659-69796082eeef?version=0.42.2\n"
     ]
    }
   ],
   "source": [
    "qmod = create_model(main)\n",
    "qprog = synthesize(qmod)\n",
    "show(qprog)"
   ]
  },
  {
   "cell_type": "code",
   "execution_count": null,
   "id": "950c29f7-5437-431e-8be4-aa6921cc0229",
   "metadata": {},
   "outputs": [],
   "source": []
  }
 ],
 "metadata": {
  "kernelspec": {
   "display_name": "Classiq_env",
   "language": "python",
   "name": "classiq_env"
  },
  "language_info": {
   "codemirror_mode": {
    "name": "ipython",
    "version": 3
   },
   "file_extension": ".py",
   "mimetype": "text/x-python",
   "name": "python",
   "nbconvert_exporter": "python",
   "pygments_lexer": "ipython3",
   "version": "3.11.9"
  }
 },
 "nbformat": 4,
 "nbformat_minor": 5
}
