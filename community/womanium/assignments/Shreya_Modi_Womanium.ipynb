{
 "cells": [
  {
   "cell_type": "code",
   "execution_count": 1,
   "id": "358f8637",
   "metadata": {},
   "outputs": [],
   "source": [
    "from classiq import *\n",
    "import classiq"
   ]
  },
  {
   "cell_type": "code",
   "execution_count": 4,
   "id": "9aec2f28",
   "metadata": {},
   "outputs": [],
   "source": [
    "# As now we dealing with 16 numbers, so the size should be 4, be 2^4 = 16 states\n",
    "size = 4\n",
    "\n",
    "# phase kick-back operation\n",
    "\n",
    "@qfunc\n",
    "def prepare_minus(x: QBit):\n",
    "    X(x)\n",
    "    H(x)\n",
    "\n",
    "@qfunc\n",
    "def diffuser_oracle(aux: Output[QNum], x:QBit):\n",
    "    aux ^= (x!=0)\n",
    "\n",
    "@qfunc\n",
    "def zero_diffuser(x: QNum):\n",
    "    aux = QNum('aux')\n",
    "    allocate(1,aux)\n",
    "    within_apply(compute=lambda: prepare_minus(aux),\n",
    "              action=lambda: diffuser_oracle)"
   ]
  },
  {
   "cell_type": "code",
   "execution_count": 12,
   "id": "ba125586",
   "metadata": {},
   "outputs": [],
   "source": [
    "num_nodes = 16 # 2^4\n",
    "def W_iteration(i:int,vertices: QNum, adjacent_vertices:QNum):\n",
    "    prob = [0,0,0,0,0,0,0,0,0,0,0,0,0,0,0,0]\n",
    "    if i == 0:\n",
    "        prob[i+1] = 1\n",
    "    elif i == 15:\n",
    "        prob[i-1] = 1\n",
    "    else:\n",
    "        prob[i+1] = 0.5\n",
    "        prob[i-1] = 0.5\n",
    "    print(f'State={i}, prob vec ={prob}')\n",
    "    \n",
    "    control(ctrl=vertices==i,\n",
    "            operand=lambda: within_apply(\n",
    "              compute= lambda: inplace_prepare_state(probabilities=prob, bound=0.01, target=adjacent_vertices),\n",
    "              action= lambda: zero_diffuser(adjacent_vertices)))\n",
    "    \n",
    "# this function is same as that mentioned in the lecture as per requirement\n",
    "@qfunc \n",
    "def W_operator(vertices:QNum, adjacent_vertices: QNum):\n",
    "    for i in range(2**size):\n",
    "      W_iteration(i,vertices,adjacent_vertices)"
   ]
  },
  {
   "cell_type": "code",
   "execution_count": 13,
   "id": "d3156dd1",
   "metadata": {},
   "outputs": [],
   "source": [
    "@qfunc\n",
    "def edge_oracle(res:Output[QBit], vertices: QNum, adjacent_vertices: QNum):\n",
    "    res |= (((vertices - adjacent_vertices) == 1) | ((vertices - adjacent_vertices) == -1))\n",
    "    \n",
    "@qfunc \n",
    "def bitwise_swap(x: QArray[QBit], y:QArray[QBit]):\n",
    "  repeat(count= x.len,\n",
    "    iteration= lambda i: SWAP(x[i],y[i]))\n",
    "\n",
    "@qfunc \n",
    "def S_operator(vertices:QNum, adjacent_vertices: QNum):\n",
    "    res = QNum('res')\n",
    "    edge_oracle(res,vertices,adjacent_vertices)\n",
    "    control(ctrl= res==1,\n",
    "        operand= lambda: bitwise_swap(vertices,adjacent_vertices))"
   ]
  },
  {
   "cell_type": "code",
   "execution_count": 14,
   "id": "69b7e686",
   "metadata": {},
   "outputs": [],
   "source": [
    "@qfunc \n",
    "def main(vertices:Output[QNum], adjacent_vertices:Output[QNum]):\n",
    "    allocate(size,vertices)\n",
    "    hadamard_transform(vertices)\n",
    "    allocate(size,adjacent_vertices)\n",
    "    W_operator(vertices,adjacent_vertices)\n",
    "    S_operator(vertices,adjacent_vertices)"
   ]
  },
  {
   "cell_type": "code",
   "execution_count": 15,
   "id": "998e4563",
   "metadata": {},
   "outputs": [
    {
     "name": "stdout",
     "output_type": "stream",
     "text": [
      "State=0, prob vec =[0, 1, 0, 0, 0, 0, 0, 0, 0, 0, 0, 0, 0, 0, 0, 0]\n",
      "State=1, prob vec =[0.5, 0, 0.5, 0, 0, 0, 0, 0, 0, 0, 0, 0, 0, 0, 0, 0]\n",
      "State=2, prob vec =[0, 0.5, 0, 0.5, 0, 0, 0, 0, 0, 0, 0, 0, 0, 0, 0, 0]\n",
      "State=3, prob vec =[0, 0, 0.5, 0, 0.5, 0, 0, 0, 0, 0, 0, 0, 0, 0, 0, 0]\n",
      "State=4, prob vec =[0, 0, 0, 0.5, 0, 0.5, 0, 0, 0, 0, 0, 0, 0, 0, 0, 0]\n",
      "State=5, prob vec =[0, 0, 0, 0, 0.5, 0, 0.5, 0, 0, 0, 0, 0, 0, 0, 0, 0]\n",
      "State=6, prob vec =[0, 0, 0, 0, 0, 0.5, 0, 0.5, 0, 0, 0, 0, 0, 0, 0, 0]\n",
      "State=7, prob vec =[0, 0, 0, 0, 0, 0, 0.5, 0, 0.5, 0, 0, 0, 0, 0, 0, 0]\n",
      "State=8, prob vec =[0, 0, 0, 0, 0, 0, 0, 0.5, 0, 0.5, 0, 0, 0, 0, 0, 0]\n",
      "State=9, prob vec =[0, 0, 0, 0, 0, 0, 0, 0, 0.5, 0, 0.5, 0, 0, 0, 0, 0]\n",
      "State=10, prob vec =[0, 0, 0, 0, 0, 0, 0, 0, 0, 0.5, 0, 0.5, 0, 0, 0, 0]\n",
      "State=11, prob vec =[0, 0, 0, 0, 0, 0, 0, 0, 0, 0, 0.5, 0, 0.5, 0, 0, 0]\n",
      "State=12, prob vec =[0, 0, 0, 0, 0, 0, 0, 0, 0, 0, 0, 0.5, 0, 0.5, 0, 0]\n",
      "State=13, prob vec =[0, 0, 0, 0, 0, 0, 0, 0, 0, 0, 0, 0, 0.5, 0, 0.5, 0]\n",
      "State=14, prob vec =[0, 0, 0, 0, 0, 0, 0, 0, 0, 0, 0, 0, 0, 0.5, 0, 0.5]\n",
      "State=15, prob vec =[0, 0, 0, 0, 0, 0, 0, 0, 0, 0, 0, 0, 0, 0, 1, 0]\n"
     ]
    }
   ],
   "source": [
    "qmod = create_model(main)\n",
    "qmod = set_constraints(\n",
    "    qmod, Constraints(optimization_parameter=\"width\")\n",
    ")\n",
    "qprog = synthesize(qmod)"
   ]
  },
  {
   "cell_type": "code",
   "execution_count": null,
   "id": "08b3bb5e",
   "metadata": {},
   "outputs": [],
   "source": []
  }
 ],
 "metadata": {
  "kernelspec": {
   "display_name": "Python 3 (ipykernel)",
   "language": "python",
   "name": "python3"
  },
  "language_info": {
   "codemirror_mode": {
    "name": "ipython",
    "version": 3
   },
   "file_extension": ".py",
   "mimetype": "text/x-python",
   "name": "python",
   "nbconvert_exporter": "python",
   "pygments_lexer": "ipython3",
   "version": "3.11.5"
  }
 },
 "nbformat": 4,
 "nbformat_minor": 5
}
