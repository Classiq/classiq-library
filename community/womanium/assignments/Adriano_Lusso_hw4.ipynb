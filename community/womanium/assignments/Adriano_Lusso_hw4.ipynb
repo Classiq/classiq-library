{
 "cells": [
  {
   "cell_type": "markdown",
   "metadata": {},
   "source": [
    "# Assigment 6.12: Classiq\n",
    "$\\textit{Adriano Lusso}$"
   ]
  },
  {
   "cell_type": "markdown",
   "metadata": {},
   "source": [
    "## Imports"
   ]
  },
  {
   "cell_type": "code",
   "execution_count": 6,
   "metadata": {
    "id": "gFZCpmjSj-Hk"
   },
   "outputs": [],
   "source": [
    "from classiq import *"
   ]
  },
  {
   "cell_type": "markdown",
   "metadata": {},
   "source": [
    "## Auxiliary functions"
   ]
  },
  {
   "cell_type": "code",
   "execution_count": 15,
   "metadata": {},
   "outputs": [],
   "source": [
    "@qfunc\n",
    "def diffuser_oracle(aux: Output[QNum],x:QNum):\n",
    "  aux^=(x!=0)\n",
    "\n",
    "@qfunc\n",
    "def zero_diffuser(x: QNum):\n",
    "  aux = QNum('aux')\n",
    "  allocate(1,aux)\n",
    "  within_apply(compute=lambda: prepare_minus(aux),action=lambda: diffuser_oracle)\n",
    "\n",
    "\n",
    "def W_iteration(i:int,vertices: QNum, adjacent_vertices:QNum):\n",
    "    probs = [0 for _ in range(n_vertices)]\n",
    "    \n",
    "    probs[(i+1)% 16]=0.5\n",
    "    probs[(i-1)% 16]=0.5\n",
    "    \n",
    "    if i ==0:\n",
    "      probs[15]=0\n",
    "      probs[1]=1\n",
    "    elif i==15:\n",
    "      probs[0]=0\n",
    "      probs[14]=1\n",
    "        \n",
    "    control(ctrl=vertices==i,\n",
    "            operand=lambda: within_apply(\n",
    "              compute= lambda: inplace_prepare_state(probabilities=probs, bound=0.01, target=adjacent_vertices),\n",
    "              action= lambda: zero_diffuser(adjacent_vertices)))\n",
    "\n",
    "@qfunc\n",
    "def prepare_minus(x: QBit):\n",
    "  X(x)\n",
    "  H(x)\n",
    "\n",
    "\n",
    "@qfunc\n",
    "def S_operator(vertices:QNum, adjacent_vertices: QNum):\n",
    "    res = QNum('res')\n",
    "    edge_oracle(res,vertices,adjacent_vertices)\n",
    "    control(ctrl= res==1,\n",
    "        operand= lambda: bitwise_swap(vertices,adjacent_vertices))\n",
    "\n",
    "@qfunc\n",
    "def W_operator(vertices:QNum, adjacent_vertices: QNum):\n",
    "    for i in range(2**size):\n",
    "      W_iteration(i,vertices,adjacent_vertices)\n",
    "\n",
    "\n",
    "@qfunc\n",
    "def edge_oracle(output:Output[QBit], vertices: QNum, adjacent_vertices: QNum):\n",
    "  output |= (((vertices+adjacent_vertices)%2) ==1)\n",
    "\n",
    "@qfunc\n",
    "def bitwise_swap(x: QArray[QBit], y:QArray[QBit]):\n",
    "  repeat(count= x.len,iteration= lambda i: SWAP(x[i],y[i]))"
   ]
  },
  {
   "cell_type": "markdown",
   "metadata": {},
   "source": [
    "## Main function and hyperparameters"
   ]
  },
  {
   "cell_type": "code",
   "execution_count": 17,
   "metadata": {},
   "outputs": [],
   "source": [
    "# hyperparameters\n",
    "n_vertices = 16\n",
    "size = 4\n",
    "\n",
    "@qfunc\n",
    "def main(vertices:Output[QNum], adjacent_vertices:Output[QNum]):\n",
    "  allocate(size,vertices)\n",
    "  hadamard_transform(vertices)\n",
    "  allocate(size,adjacent_vertices)\n",
    "\n",
    "  W_operator(vertices,adjacent_vertices)\n",
    "  S_operator(vertices,adjacent_vertices)\n"
   ]
  },
  {
   "cell_type": "markdown",
   "metadata": {},
   "source": [
    "## Run the code "
   ]
  },
  {
   "cell_type": "code",
   "execution_count": 11,
   "metadata": {
    "colab": {
     "base_uri": "https://localhost:8080/"
    },
    "id": "11iGXwxQVHoA",
    "outputId": "2b2b16b3-1a28-4df7-ad37-42e54f883bea"
   },
   "outputs": [
    {
     "name": "stdout",
     "output_type": "stream",
     "text": [
      "Opening: https://platform.classiq.io/circuit/4650928d-1923-42e7-a800-9d8e43de19e5?version=0.43.3\n"
     ]
    }
   ],
   "source": [
    "qmod = create_model(main)\n",
    "program = synthesize(qmod)\n",
    "show(program)"
   ]
  },
  {
   "cell_type": "markdown",
   "metadata": {},
   "source": [
    "## Resulting circuit"
   ]
  },
  {
   "cell_type": "markdown",
   "metadata": {
    "id": "clSKcyFbyTDu"
   },
   "source": [
    "![](./circuit.jpg)"
   ]
  },
  {
   "cell_type": "markdown",
   "metadata": {
    "id": "E67hh_Mp0I9E"
   },
   "source": [
    "![](./circuit2.jpg)"
   ]
  }
 ],
 "metadata": {
  "colab": {
   "provenance": []
  },
  "kernelspec": {
   "display_name": "Python 3 (ipykernel)",
   "language": "python",
   "name": "python3"
  },
  "language_info": {
   "codemirror_mode": {
    "name": "ipython",
    "version": 3
   },
   "file_extension": ".py",
   "mimetype": "text/x-python",
   "name": "python",
   "nbconvert_exporter": "python",
   "pygments_lexer": "ipython3",
   "version": "3.10.13"
  }
 },
 "nbformat": 4,
 "nbformat_minor": 4
}
