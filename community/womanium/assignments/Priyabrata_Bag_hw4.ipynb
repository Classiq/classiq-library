{
  "nbformat": 4,
  "nbformat_minor": 0,
  "metadata": {
    "colab": {
      "provenance": []
    },
    "kernelspec": {
      "name": "python3",
      "display_name": "Python 3"
    },
    "language_info": {
      "name": "python"
    }
  },
  "cells": [
    {
      "cell_type": "markdown",
      "source": [
        "The task is to create the quantum walk operator for the following graph in Classiq SDK:"
      ],
      "metadata": {
        "id": "_UYR0DPg7cEh"
      }
    },
    {
      "cell_type": "code",
      "source": [
        "import networkx as nx\n",
        "\n",
        "pairs = [(i, i+1) for i in range(16-1)]\n",
        "G = nx.Graph()\n",
        "G.add_nodes_from(range(16))\n",
        "G.add_edges_from(list(pairs))\n",
        "\n",
        "nx.draw_networkx(G)"
      ],
      "metadata": {
        "colab": {
          "base_uri": "https://localhost:8080/",
          "height": 426
        },
        "id": "s0cAGM1RGwzg",
        "outputId": "426d88c2-7acd-4916-8998-ce6e49ad8cba"
      },
      "execution_count": 1,
      "outputs": [
        {
          "output_type": "display_data",
          "data": {
            "text/plain": [
              "<Figure size 640x480 with 1 Axes>"
            ],
            "image/png": "[encoded data removed]"
          },
          "metadata": {}
        }
      ]
    },
    {
      "cell_type": "markdown",
      "source": [
        "In the reference example available [here](https://github.com/Classiq/classiq-library/blob/main/community/womanium/assignments/quantum_walk_circle_example.py), except for the parts where probabilities are defined to implement 'W_iteration' and the 'edge_oracle' function, the code is generic (independent of the graph). These two parts are modified appropriately for the given graph and the detailed descriptions of these changes are mentioned below."
      ],
      "metadata": {
        "id": "UDqjz8Yw8_8V"
      }
    },
    {
      "cell_type": "code",
      "source": [
        "# !pip install -U classiq"
      ],
      "metadata": {
        "collapsed": true,
        "id": "1Fq-b0UhSVP0"
      },
      "execution_count": 2,
      "outputs": []
    },
    {
      "cell_type": "code",
      "source": [
        "# import classiq\n",
        "# classiq.authenticate()"
      ],
      "metadata": {
        "id": "jeWMuiV3SzyZ"
      },
      "execution_count": 3,
      "outputs": []
    },
    {
      "cell_type": "code",
      "source": [
        "from classiq import *"
      ],
      "metadata": {
        "id": "N1ZxCvBca41t"
      },
      "execution_count": 4,
      "outputs": []
    },
    {
      "cell_type": "markdown",
      "source": [
        "Since the given graph has $16$ vertices, $4$ qubits are required to encode them which is stored in the variable 'size' and the vertices are encoded in the $2^4=16$ (standard) basis vectors."
      ],
      "metadata": {
        "id": "yQ9rghrABTzj"
      }
    },
    {
      "cell_type": "code",
      "source": [
        "size = 4\n",
        "\n",
        "@qfunc\n",
        "def prepare_minus(x: QBit):\n",
        "  X(x)\n",
        "  H(x)\n",
        "\n",
        "\n",
        "@qfunc\n",
        "def diffuzer_oracle(aux: Output[QNum], x: QNum):\n",
        "  aux^=(x!=0)\n",
        "\n",
        "\n",
        "@qfunc\n",
        "def zero_diffuzer(x: QNum):\n",
        "  aux = QNum('aux')\n",
        "  allocate(1,aux)\n",
        "  within_apply(compute=lambda: prepare_minus(aux),\n",
        "              action=lambda: diffuzer_oracle)"
      ],
      "metadata": {
        "id": "lIrbgW11V5Oa"
      },
      "execution_count": 5,
      "outputs": []
    },
    {
      "cell_type": "markdown",
      "source": [
        "For a fixed vertex, the probability vector is defined by taking an equal superposition of the states of the adjacent vertices. Clearly, the $0$-th vertex is only adjacent to the $1$-st vertex and the $15$-th vertex is adjacent to the $14$-th vertex. So, the probability vectors for these two vertices have only one nonzero entry $1$ at the $1$-st and $14$-th places respectively. All the intermediate vertices have two adjacent vertices (namely, $i-1$ and $i+1$ for the $i$-th vertex). So, the probability vectors have two nonzero entries $0.5$ at those two places."
      ],
      "metadata": {
        "id": "d7NosRMSB0YR"
      }
    },
    {
      "cell_type": "code",
      "source": [
        "def probs(i):\n",
        "    plist = [0] * (2**size)\n",
        "    if i==0:\n",
        "      plist[i+1]=1\n",
        "    elif i==2**size - 1:\n",
        "      plist[i-1]=1\n",
        "    else:\n",
        "      plist[i+1]=0.5\n",
        "      plist[i-1]=0.5\n",
        "    return plist"
      ],
      "metadata": {
        "id": "tvwbOvpwazaH"
      },
      "execution_count": 6,
      "outputs": []
    },
    {
      "cell_type": "code",
      "source": [
        "def W_iteration(i: int, vertices: QNum, adjacent_vertices: QNum):\n",
        "    prob = probs(i)\n",
        "    print(f'State={i}, prob vec ={prob}')\n",
        "\n",
        "    control(ctrl= vertices==i, operand= lambda: within_apply(\n",
        "        compute= lambda: inplace_prepare_state(probabilities=prob, bound=0.01, target=adjacent_vertices),\n",
        "        action= lambda: zero_diffuzer(adjacent_vertices)))\n",
        "\n",
        "\n",
        "@qfunc\n",
        "def W_operator(vertices: QNum, adjacent_vertices: QNum):\n",
        "    for i in range(2**size):\n",
        "      W_iteration(i, vertices, adjacent_vertices)"
      ],
      "metadata": {
        "id": "G0vxxKNOiO_S"
      },
      "execution_count": 7,
      "outputs": []
    },
    {
      "cell_type": "markdown",
      "source": [
        "The 'edge_oracle' function is defined to return the value $1$ as 'res' if two vertices are adjacent to each other and zero otherwise. For the given graph, it is easy to observe that two vertices are adjacent if and only if the difference of the vertex numbers is $1$, that is, either 'vertices' $-$ 'adjacent_vertices' is $1$ or $-1$."
      ],
      "metadata": {
        "id": "wxbEmV9EHWhu"
      }
    },
    {
      "cell_type": "code",
      "source": [
        "@qfunc\n",
        "def edge_oracle(res: Output[QBit], vertices: QNum, adjacent_vertices: QNum):\n",
        "  res |= ((vertices - adjacent_vertices) == (1 or -1))"
      ],
      "metadata": {
        "id": "tO23KXuQmnH7"
      },
      "execution_count": 8,
      "outputs": []
    },
    {
      "cell_type": "code",
      "source": [
        "@qfunc\n",
        "def bitwise_swap(x: QArray[QBit], y: QArray[QBit]):\n",
        "  repeat(count= x.len, iteration= lambda i: SWAP(x[i],y[i]))\n",
        "\n",
        "\n",
        "@qfunc\n",
        "def S_operator(vertices: QNum, adjacent_vertices: QNum):\n",
        "    res = QNum('res')\n",
        "    edge_oracle(res, vertices, adjacent_vertices)\n",
        "    control(ctrl= res==1,\n",
        "            operand= lambda: bitwise_swap(vertices, adjacent_vertices))"
      ],
      "metadata": {
        "id": "0eUCyqwholQv"
      },
      "execution_count": 9,
      "outputs": []
    },
    {
      "cell_type": "code",
      "source": [
        "@qfunc\n",
        "def main(vertices: Output[QNum], adjacent_vertices: Output[QNum]):\n",
        "\n",
        "  allocate(size, vertices)\n",
        "  hadamard_transform(vertices)\n",
        "  allocate(size, adjacent_vertices)\n",
        "\n",
        "  W_operator(vertices, adjacent_vertices)\n",
        "  S_operator(vertices, adjacent_vertices)\n",
        "\n",
        "qmod = create_model(main)\n",
        "qprog = synthesize(qmod)\n",
        "show(qprog)"
      ],
      "metadata": {
        "colab": {
          "base_uri": "https://localhost:8080/"
        },
        "id": "I-NUu_Aqo8SA",
        "outputId": "9e8feebd-9843-44f0-eeb3-3abf1ce05215"
      },
      "execution_count": 10,
      "outputs": [
        {
          "output_type": "stream",
          "name": "stdout",
          "text": [
            "State=0, prob vec =[0, 1, 0, 0, 0, 0, 0, 0, 0, 0, 0, 0, 0, 0, 0, 0]\n",
            "State=1, prob vec =[0.5, 0, 0.5, 0, 0, 0, 0, 0, 0, 0, 0, 0, 0, 0, 0, 0]\n",
            "State=2, prob vec =[0, 0.5, 0, 0.5, 0, 0, 0, 0, 0, 0, 0, 0, 0, 0, 0, 0]\n",
            "State=3, prob vec =[0, 0, 0.5, 0, 0.5, 0, 0, 0, 0, 0, 0, 0, 0, 0, 0, 0]\n",
            "State=4, prob vec =[0, 0, 0, 0.5, 0, 0.5, 0, 0, 0, 0, 0, 0, 0, 0, 0, 0]\n",
            "State=5, prob vec =[0, 0, 0, 0, 0.5, 0, 0.5, 0, 0, 0, 0, 0, 0, 0, 0, 0]\n",
            "State=6, prob vec =[0, 0, 0, 0, 0, 0.5, 0, 0.5, 0, 0, 0, 0, 0, 0, 0, 0]\n",
            "State=7, prob vec =[0, 0, 0, 0, 0, 0, 0.5, 0, 0.5, 0, 0, 0, 0, 0, 0, 0]\n",
            "State=8, prob vec =[0, 0, 0, 0, 0, 0, 0, 0.5, 0, 0.5, 0, 0, 0, 0, 0, 0]\n",
            "State=9, prob vec =[0, 0, 0, 0, 0, 0, 0, 0, 0.5, 0, 0.5, 0, 0, 0, 0, 0]\n",
            "State=10, prob vec =[0, 0, 0, 0, 0, 0, 0, 0, 0, 0.5, 0, 0.5, 0, 0, 0, 0]\n",
            "State=11, prob vec =[0, 0, 0, 0, 0, 0, 0, 0, 0, 0, 0.5, 0, 0.5, 0, 0, 0]\n",
            "State=12, prob vec =[0, 0, 0, 0, 0, 0, 0, 0, 0, 0, 0, 0.5, 0, 0.5, 0, 0]\n",
            "State=13, prob vec =[0, 0, 0, 0, 0, 0, 0, 0, 0, 0, 0, 0, 0.5, 0, 0.5, 0]\n",
            "State=14, prob vec =[0, 0, 0, 0, 0, 0, 0, 0, 0, 0, 0, 0, 0, 0.5, 0, 0.5]\n",
            "State=15, prob vec =[0, 0, 0, 0, 0, 0, 0, 0, 0, 0, 0, 0, 0, 0, 1, 0]\n",
            "Opening: https://platform.classiq.io/circuit/6443ec21-5444-4892-a141-25528de38aaf?version=0.43.3\n"
          ]
        }
      ]
    },
    {
      "cell_type": "markdown",
      "source": [
        "The desired implementation is available in the above link of Classiq."
      ],
      "metadata": {
        "id": "K1lRov1FKcpv"
      }
    },
    {
      "cell_type": "code",
      "source": [],
      "metadata": {
        "id": "E1-1QiWYKmmb"
      },
      "execution_count": 10,
      "outputs": []
    }
  ]
}