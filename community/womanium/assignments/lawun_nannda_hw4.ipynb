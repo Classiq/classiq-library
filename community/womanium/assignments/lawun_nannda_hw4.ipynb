{
 "cells": [
  {
   "cell_type": "markdown",
   "id": "29f0eeb2-8e07-40be-829f-fa5a080f44bf",
   "metadata": {
    "jp-MarkdownHeadingCollapsed": true
   },
   "source": [
    "# Advanced Quantum Algorithm Design\n",
    "# Discrete-Time Quantum Walk on a Particular Graph\n",
    "### from \"Lectures Note on Quantum Algorithms\" by <u>Andrew M. Childs</u>\n",
    "\n",
    "Task: Design the quantum walk operator for the case of a line with 16 nodes.\n",
    "\n",
    "<img src=\"./6.12 Graph.png\" width=\"900\">\n",
    "\n",
    "Solution by <a href=\"https://www.linkedin.com/in/la-wun-nannda-b047681b5/\">`La Wun Nannda`</a>"
   ]
  },
  {
   "cell_type": "markdown",
   "id": "0048ca1d-b33e-4d26-b051-0bb4e3d0ba7b",
   "metadata": {},
   "source": [
    "# Solution"
   ]
  },
  {
   "cell_type": "markdown",
   "id": "450f76e0-afb8-4670-9ea5-770d50971ff0",
   "metadata": {},
   "source": [
    "## 1. Prepare an Environment"
   ]
  },
  {
   "cell_type": "code",
   "execution_count": 1,
   "id": "c602c114-0cdf-4a39-a5f9-1f900019afa0",
   "metadata": {},
   "outputs": [],
   "source": [
    "# import libraries\n",
    "from classiq import *\n",
    "import matplotlib as mpl\n",
    "from matplotlib import pyplot as plt\n",
    "import numpy as np"
   ]
  },
  {
   "cell_type": "code",
   "execution_count": 2,
   "id": "142fe1d7-e7df-4ff9-bd4b-fe585a940032",
   "metadata": {},
   "outputs": [
    {
     "name": "stderr",
     "output_type": "stream",
     "text": [
      "C:\\Users\\ASUS\\anaconda3\\envs\\qiskit_env\\Lib\\site-packages\\classiq\\_internals\\authentication\\token_manager.py:99: UserWarning: Device is already registered.\n",
      "Generating a new refresh token should only be done if the current refresh token is compromised.\n",
      "To do so, set the overwrite parameter to true\n",
      "  warnings.warn(\n"
     ]
    }
   ],
   "source": [
    "# initiate a session\n",
    "authenticate()"
   ]
  },
  {
   "cell_type": "markdown",
   "id": "88be28e0-794c-4afb-b0d4-bb095e26dcc3",
   "metadata": {},
   "source": [
    "## 2. Think about Graph\n",
    "\n",
    "<img src=\"./6.12 Graph.png\" width=\"900\">\n",
    "\n",
    "- In the given graph, we can see that except `vertex[0]` and `vertex[15]`, all other vertices have exactly two adjacent vertices.\n",
    "- For each vertex, its adjacent vertices will be in superposition. This is how probability is distributed.\n",
    "- For `vertex[0]` and `vertex[15]`, there is only one adjacent vertex with 100% probability.\n",
    "- Since there are 16 vertices in total, we have to use 4 qubits to represent them as QNum."
   ]
  },
  {
   "cell_type": "code",
   "execution_count": 3,
   "id": "9b596b9e-2ce2-4b37-a1ec-7c2c9be9a28b",
   "metadata": {},
   "outputs": [],
   "source": [
    "# test function for probabilties for all vertices\n",
    "def print_all_probs(size):\n",
    "    '''\n",
    "    # There is a `prob` for each vertex.\n",
    "    # Let's say the first `prob` is for vertex \"v\".\n",
    "    # The `len(prob)` corresponds to the number of all vertices including \"v\".\n",
    "    # Inside `prob`, each value corresponds to the probability of other vertices being adjacent to \"v\" (graph dependent).\n",
    "    '''\n",
    "    for i in range(2**size): # for each vertex\n",
    "        prob = [0,0,0,0, # initiated as zeros\n",
    "                0,0,0,0,\n",
    "                0,0,0,0,\n",
    "                0,0,0,0]\n",
    "        if i!=15: # for vertex[15], there is no vertex after it\n",
    "            prob[(i+1)]=0.5\n",
    "        if i==0: # for vertex[0], the P of vertex after it should be 1\n",
    "            prob[(i+1)]+=0.5\n",
    "        if i!=0: # for vertex[0], there is no vertex before it\n",
    "            prob[(i-1)]=0.5\n",
    "        if i==15: # for vertex[15], the P of vertex before it should be 1\n",
    "            prob[(i-1)]+=0.5\n",
    "        print(f'State={i}, prob vec ={prob}')"
   ]
  },
  {
   "cell_type": "code",
   "execution_count": 4,
   "id": "d7d28f3b-0225-4ab8-bc7e-ccd85a77f843",
   "metadata": {},
   "outputs": [
    {
     "name": "stdout",
     "output_type": "stream",
     "text": [
      "State=0, prob vec =[0, 1.0, 0, 0, 0, 0, 0, 0, 0, 0, 0, 0, 0, 0, 0, 0]\n",
      "State=1, prob vec =[0.5, 0, 0.5, 0, 0, 0, 0, 0, 0, 0, 0, 0, 0, 0, 0, 0]\n",
      "State=2, prob vec =[0, 0.5, 0, 0.5, 0, 0, 0, 0, 0, 0, 0, 0, 0, 0, 0, 0]\n",
      "State=3, prob vec =[0, 0, 0.5, 0, 0.5, 0, 0, 0, 0, 0, 0, 0, 0, 0, 0, 0]\n",
      "State=4, prob vec =[0, 0, 0, 0.5, 0, 0.5, 0, 0, 0, 0, 0, 0, 0, 0, 0, 0]\n",
      "State=5, prob vec =[0, 0, 0, 0, 0.5, 0, 0.5, 0, 0, 0, 0, 0, 0, 0, 0, 0]\n",
      "State=6, prob vec =[0, 0, 0, 0, 0, 0.5, 0, 0.5, 0, 0, 0, 0, 0, 0, 0, 0]\n",
      "State=7, prob vec =[0, 0, 0, 0, 0, 0, 0.5, 0, 0.5, 0, 0, 0, 0, 0, 0, 0]\n",
      "State=8, prob vec =[0, 0, 0, 0, 0, 0, 0, 0.5, 0, 0.5, 0, 0, 0, 0, 0, 0]\n",
      "State=9, prob vec =[0, 0, 0, 0, 0, 0, 0, 0, 0.5, 0, 0.5, 0, 0, 0, 0, 0]\n",
      "State=10, prob vec =[0, 0, 0, 0, 0, 0, 0, 0, 0, 0.5, 0, 0.5, 0, 0, 0, 0]\n",
      "State=11, prob vec =[0, 0, 0, 0, 0, 0, 0, 0, 0, 0, 0.5, 0, 0.5, 0, 0, 0]\n",
      "State=12, prob vec =[0, 0, 0, 0, 0, 0, 0, 0, 0, 0, 0, 0.5, 0, 0.5, 0, 0]\n",
      "State=13, prob vec =[0, 0, 0, 0, 0, 0, 0, 0, 0, 0, 0, 0, 0.5, 0, 0.5, 0]\n",
      "State=14, prob vec =[0, 0, 0, 0, 0, 0, 0, 0, 0, 0, 0, 0, 0, 0.5, 0, 0.5]\n",
      "State=15, prob vec =[0, 0, 0, 0, 0, 0, 0, 0, 0, 0, 0, 0, 0, 0, 1.0, 0]\n"
     ]
    }
   ],
   "source": [
    "size = 4 # four qubits required\n",
    "print_all_probs(size) # test getting probabilities"
   ]
  },
  {
   "cell_type": "markdown",
   "id": "8ef180cb-4a22-4c78-909d-44165d0924b1",
   "metadata": {},
   "source": [
    "We have successfully found our way with probabilities so we can finally implement a function for it."
   ]
  },
  {
   "cell_type": "code",
   "execution_count": 5,
   "id": "6f741278-e483-400f-9b91-59eee7f3e095",
   "metadata": {},
   "outputs": [],
   "source": [
    "# function for probabilities for a single vertex\n",
    "def get_p(i):\n",
    "    prob = [0,0,0,0, # initiated as zeros\n",
    "            0,0,0,0,\n",
    "            0,0,0,0,\n",
    "            0,0,0,0]\n",
    "    if i!=15: # for vertex[15], there is no vertex after it\n",
    "        prob[(i+1)]=0.5\n",
    "    if i==0: # for vertex[0], the P of vertex after it should be 1\n",
    "        prob[(i+1)]+=0.5\n",
    "    if i!=0: # for vertex[0], there is no vertex before it\n",
    "        prob[(i-1)]=0.5\n",
    "    if i==15: # for vertex[15], the P of vertex before it should be 1\n",
    "        prob[(i-1)]+=0.5\n",
    "    return prob"
   ]
  },
  {
   "cell_type": "markdown",
   "id": "0ee0cf0c-852d-4035-ba26-9bdbec4e4594",
   "metadata": {},
   "source": [
    "### 3. Prepare Functions\n",
    "The main mathematical equations involved in discrete-time quantum walk are:\n",
    "$$C:=\\sum_{j\\in V} |j\\rangle\\langle j| \\otimes (2|\\partial_j\\rangle\\langle\\partial_j|-I)$$\n",
    "$$S:=\\sum_{(j,k)\\in E}|j, k\\rangle \\langle k, j|$$\n",
    "\n",
    "### 3.1. Functions on Phase Kickback\n",
    "In discrete-time quantum walk, assume that $U_j|0\\rangle=|\\partial_j\\rangle$. Then, $2|\\partial_j\\rangle\\langle\\partial_j|-1$ can be expanded as $U_j(2|0\\rangle\\langle0|-1)U'_j$. \n",
    "\n",
    "Within two unitaries is a phase kickback.\n",
    "$$(2|0\\rangle\\langle0|-1)|0\\rangle=|0\\rangle~~ ----(1)$$\n",
    "$$(2|0\\rangle\\langle0|-1)|j\\neq0\\rangle=-|j\\neq0\\rangle~~ ----(2)$$\n",
    "From these two equations, we can define $f(x)$ such that it evaluates to\n",
    "- `True` or `1` when $x\\neq0$\n",
    "- `False` or `0` if $x=0$\n",
    "\n",
    "With that $f(x)$, our phase kickback function is defined: $$(2|0\\rangle\\langle0|-1)|x\\rangle=(-1)^{f(x)}|x\\rangle$$\n",
    "which will evaluate to the same qubit with a coefficient of `1` when $x=0$ and `-1` for other $x$."
   ]
  },
  {
   "cell_type": "code",
   "execution_count": 6,
   "id": "3f65cafa-218f-46df-9870-19fe9cec5fcc",
   "metadata": {},
   "outputs": [],
   "source": [
    "# prepare minus function for phase kickback\n",
    "@qfunc\n",
    "def prepare_minus(x: QBit):\n",
    "  X(x)\n",
    "  H(x)"
   ]
  },
  {
   "cell_type": "code",
   "execution_count": 7,
   "id": "d41fa35d-8f49-43c1-ae4d-b43db59daad6",
   "metadata": {},
   "outputs": [],
   "source": [
    "# prepare oracle function for phase kickback\n",
    "@qfunc\n",
    "def diffuzer_oracle(aux: Output[QNum],x:QNum):\n",
    "  aux^=(x!=0)"
   ]
  },
  {
   "cell_type": "code",
   "execution_count": 8,
   "id": "e664e714-ab12-4769-9064-58c406086212",
   "metadata": {},
   "outputs": [],
   "source": [
    "# phase kickback function\n",
    "@qfunc\n",
    "def zero_diffuzer(x: QNum):\n",
    "  aux = QNum('aux')\n",
    "  allocate(1,aux)\n",
    "  within_apply(compute=lambda: prepare_minus(aux),\n",
    "              action=lambda: diffuzer_oracle)"
   ]
  },
  {
   "cell_type": "markdown",
   "id": "128ef245-c007-42a4-b2bb-88eab9486f95",
   "metadata": {},
   "source": [
    "### 3.2. Functions on the <i>C</i> Equation\n",
    "The `C_operator` or `W_operator` has the following equation: \n",
    "$$C:=\\sum_{j\\in V} |j\\rangle\\langle j| \\otimes (2|\\partial_j\\rangle\\langle\\partial_j|-I)~~ ----(1)$$\n",
    "while \n",
    "$$|\\partial_j\\rangle:=\\frac{1}{\\sqrt{deg(j)}}\\sum_{k:(j,k)\\in E} |k\\rangle~~ ----(2)$$\n",
    "\n",
    "1. The first equation simply means that for every vertex \"j\", the phase kickback function is applied.\n",
    "   - A part of it is implemented in above via the function called <i>zero_diffuzer()</i>.\n",
    "3. The second one refers to the superposition of vertices \"k\" which are adjacent to the vertex \"j\"."
   ]
  },
  {
   "cell_type": "code",
   "execution_count": 9,
   "id": "814e439c-628e-40d6-8129-74edd9a8674a",
   "metadata": {},
   "outputs": [],
   "source": [
    "# function implementing above two equations\n",
    "def W_iteration(i:int,vertices: QNum, adjacent_vertices:QNum):\n",
    "    # probabilities for graph\n",
    "    prob = get_p(i)\n",
    "\n",
    "    # the C_equation or W_equation\n",
    "    control(ctrl=vertices==i, # the first equation # product of two \"j\" qubits\n",
    "            operand=lambda: within_apply(\n",
    "              compute= lambda: inplace_prepare_state(probabilities=prob, bound=0.01, target=adjacent_vertices), # the second equation # partial differential\n",
    "              action= lambda: zero_diffuzer(adjacent_vertices))) # the first equation # the remaining term after the tensor product"
   ]
  },
  {
   "cell_type": "code",
   "execution_count": 10,
   "id": "cb3f5c3b-1f2e-4dfe-b34a-9345069daf6f",
   "metadata": {},
   "outputs": [],
   "source": [
    "# repeat the above function for all \"j\" inside V\n",
    "@qfunc \n",
    "def W_operator(vertices:QNum, adjacent_vertices: QNum):\n",
    "    for i in range(2**size):\n",
    "      W_iteration(i,vertices,adjacent_vertices)"
   ]
  },
  {
   "cell_type": "markdown",
   "id": "39008796-237d-494f-826e-64cf44b53cd0",
   "metadata": {},
   "source": [
    "### 3.3. Functions on the <i>S</i> Equation\n",
    "The following function checks an edge, i.e., whether two vertices are adjacent or not. It returns `True` if the vertex and its adjacent vertex have an edge between them. If the result is `True`, it performs a bitwise SWAP operation. Mathematically, the code is an implementation of\n",
    "$$S:=\\sum_{(j,k)\\in E}|j, k\\rangle \\langle k, j|$$"
   ]
  },
  {
   "cell_type": "code",
   "execution_count": 11,
   "id": "7cfb36be-8de5-45d6-a2dd-8abf47574f09",
   "metadata": {},
   "outputs": [],
   "source": [
    "# edge checker function\n",
    "@qfunc\n",
    "def edge_oracle(res:Output[QBit], vertices: QNum, adjacent_vertices: QNum):\n",
    "  res |= (((vertices+adjacent_vertices)%2) ==1) # depend on the graph"
   ]
  },
  {
   "cell_type": "code",
   "execution_count": 12,
   "id": "b952170c-12a4-4f8d-bbe8-21bc5566b5b9",
   "metadata": {},
   "outputs": [],
   "source": [
    "# function to swap if true\n",
    "@qfunc \n",
    "def bitwise_swap(x: QArray[QBit], y:QArray[QBit]):\n",
    "  repeat(count= x.len,\n",
    "    iteration= lambda i: SWAP(x[i],y[i]))"
   ]
  },
  {
   "cell_type": "code",
   "execution_count": 13,
   "id": "11e040b3-5502-48ae-bdd9-2510d7c54d69",
   "metadata": {},
   "outputs": [],
   "source": [
    "# put above two functions together\n",
    "@qfunc\n",
    "def S_operator(vertices:QNum, adjacent_vertices: QNum):\n",
    "    res = QNum('res')\n",
    "    edge_oracle(res,vertices,adjacent_vertices)\n",
    "    control(ctrl= res==1,\n",
    "        operand= lambda: bitwise_swap(vertices,adjacent_vertices))"
   ]
  },
  {
   "cell_type": "markdown",
   "id": "aae5975f-8f3e-486b-8217-9850af0e7164",
   "metadata": {},
   "source": [
    "## 4. Creation, Synthesis, and Circuit of the Quantum Model"
   ]
  },
  {
   "cell_type": "code",
   "execution_count": 14,
   "id": "551621f0-180c-4d75-9133-9fe73c28c32e",
   "metadata": {},
   "outputs": [],
   "source": [
    "# the main function\n",
    "@qfunc \n",
    "def main(vertices:Output[QNum], adjacent_vertices:Output[QNum]):\n",
    "\n",
    "  allocate(size,vertices)\n",
    "  hadamard_transform(vertices)\n",
    "  allocate(size,adjacent_vertices)\n",
    "\n",
    "  W_operator(vertices,adjacent_vertices)\n",
    "  S_operator(vertices,adjacent_vertices)"
   ]
  },
  {
   "cell_type": "code",
   "execution_count": 15,
   "id": "2e53264b-b496-4c82-9e4e-c5ee4a3e97c5",
   "metadata": {},
   "outputs": [],
   "source": [
    "qmod = create_model(main) # create a model\n",
    "qprog = synthesize(qmod) # synthesize it"
   ]
  },
  {
   "cell_type": "code",
   "execution_count": 16,
   "id": "3114e09c-6a27-49c8-8bd1-e741823da3df",
   "metadata": {},
   "outputs": [
    {
     "name": "stdout",
     "output_type": "stream",
     "text": [
      "Opening: https://platform.classiq.io/circuit/e81aab8e-a6af-455d-9fcc-ed985f07ff5b?version=0.43.3\n"
     ]
    }
   ],
   "source": [
    "show(qprog) # display the circuit"
   ]
  },
  {
   "cell_type": "markdown",
   "id": "8e126118-dba5-4ec7-9bf1-86547c2dc61a",
   "metadata": {},
   "source": [
    "### 5. Conclusion\n",
    "In conclusion, we have successfully implemented a discrete quantum walk algorithm for the given graph.\n",
    "\n",
    "<img src=\"./6.12 Circuit.jpg\">"
   ]
  }
 ],
 "metadata": {
  "kernelspec": {
   "display_name": "Python 3 (ipykernel)",
   "language": "python",
   "name": "python3"
  },
  "language_info": {
   "codemirror_mode": {
    "name": "ipython",
    "version": 3
   },
   "file_extension": ".py",
   "mimetype": "text/x-python",
   "name": "python",
   "nbconvert_exporter": "python",
   "pygments_lexer": "ipython3",
   "version": "3.11.9"
  }
 },
 "nbformat": 4,
 "nbformat_minor": 5
}
