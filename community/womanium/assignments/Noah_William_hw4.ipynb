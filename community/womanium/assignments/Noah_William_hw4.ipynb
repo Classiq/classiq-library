{
  "nbformat": 4,
  "nbformat_minor": 0,
  "metadata": {
    "colab": {
      "provenance": []
    },
    "kernelspec": {
      "name": "python3",
      "display_name": "Python 3"
    },
    "language_info": {
      "name": "python"
    }
  },
  "cells": [
    {
      "cell_type": "markdown",
      "source": [
        "# Quantum Walk"
      ],
      "metadata": {
        "id": "gmjL2YqW6STk"
      }
    },
    {
      "cell_type": "markdown",
      "source": [
        "## Intoduction\n",
        "This notebook covers the detailed explanation of the quantum walk on a line with 16 nodes, the necessary code to implement it using the Classiq framework, and a simple visualization of the quantum walk probabilities. The key components include initializing the quantum states, defining the probability distributions for the walk, and performing the walk using quantum operators. Adjustments are made to handle the boundary conditions of the line topology."
      ],
      "metadata": {
        "id": "pHF9Hw6x6BmZ"
      }
    },
    {
      "cell_type": "markdown",
      "source": [
        "## Quantum Walks: Theory\n",
        "\n",
        "A quantum walk is the quantum analog of a classical random walk, which involves moving to adjacent states (or nodes) with certain probabilities. Quantum walks leverage superposition and interference, leading to different dynamics compared to classical random walks. \\\\\n",
        "There are two main types of quantum walks: discrete-time and continuous-time. Here, we focus on discrete-time quantum walks.\n",
        "\n",
        "### Discrete-Time Quantum Walk\n",
        "\n",
        "A discrete-time quantum walk is generally composed of two main operators:\n",
        "1. **Coin Operator \\( C \\)** \\\\\n",
        "This operator \"flips\" a quantum coin to determine the direction of the walk.\n",
        "   The coin operator acts on the coin space and can be any unitary operator. A common choice is the Hadamard operator \\( H \\):\n",
        "   $$\n",
        "   H = \\frac{1}{\\sqrt{2}} \\begin{pmatrix}\n",
        "   1 & 1 \\\\\n",
        "   1 & -1\n",
        "   \\end{pmatrix}\n",
        "   $$\n",
        "   This operator creates an equal superposition of the coin states.\n",
        "\n",
        "2. **Shift Operator \\( S \\)** \\\\\n",
        "This operator moves the walker to the adjacent node based on the coin state.\n",
        "   The shift operator moves the walker to the next or previous node based on the coin state. For a general graph with nodes \\( 0 \\) to \\( N-1 \\):\n",
        "   $$\n",
        "   S = \\sum_{x=0}^{N-1} \\left( |(x+1) \\mod N \\rangle \\langle x| \\otimes |0\\rangle \\langle 0| + |(x-1) \\mod N \\rangle \\langle x| \\otimes |1\\rangle \\langle 1| \\right)\n",
        "   $$\n",
        "   This operator is adapted for the specific topology of the graph (e.g., a circle or a line).\n",
        "\n",
        "#### Quantum Walk Operator \\( U \\)\n",
        "   The overall quantum walk operator is a combination of the coin and shift operators:\n",
        "   $$\n",
        "   U = S \\cdot (I \\otimes C)\n",
        "   $$\n",
        "   where \\( I \\) is the identity operator on the position space.\n",
        "\n",
        "#### Applying to a Line with 16 Nodes\n",
        "\n",
        "For a line with 16 nodes, the shift operator must account for boundary conditions where nodes have fewer neighbors. The shift operator for a line with 16 nodes, where $ 0 \\leq x \\leq 15 $, can be defined as:\n",
        "   $$\n",
        "   S = \\sum_{x=0}^{15} \\left(\n",
        "   \\begin{cases}\n",
        "     |x+1 \\rangle \\langle x| \\otimes |0\\rangle \\langle 0| + |x-1 \\rangle \\langle x| \\otimes |1\\rangle \\langle 1| & \\text{if } 0 < x < 15 \\\\\n",
        "     |x+1 \\rangle \\langle x| \\otimes |0\\rangle \\langle 0| & \\text{if } x = 0 \\\\\n",
        "     |x-1 \\rangle \\langle x| \\otimes |1\\rangle \\langle 1| & \\text{if } x = 15\n",
        "   \\end{cases}\n",
        "   \\right)\n",
        "   $$\n"
      ],
      "metadata": {
        "id": "Lx6s-6VVkDnS"
      }
    },
    {
      "cell_type": "markdown",
      "source": [
        "\n",
        "##Implemenation in Classiq"
      ],
      "metadata": {
        "id": "42TDJSBp60XH"
      }
    },
    {
      "cell_type": "markdown",
      "source": [
        " #### 1. Installation of Classiq Libraries"
      ],
      "metadata": {
        "id": "wLLcn25ThyPF"
      }
    },
    {
      "cell_type": "code",
      "source": [
        " #pip install -U classiq"
      ],
      "metadata": {
        "id": "tCeogasI11fD"
      },
      "execution_count": 174,
      "outputs": []
    },
    {
      "cell_type": "code",
      "source": [
        " #import classiq\n",
        " #classiq.authenticate()"
      ],
      "metadata": {
        "id": "JJ5z9CCA2CB5"
      },
      "execution_count": 175,
      "outputs": []
    },
    {
      "cell_type": "code",
      "source": [
        " #!pip install networkx matplotlib classiq"
      ],
      "metadata": {
        "id": "S60QLodXo8e9"
      },
      "execution_count": 176,
      "outputs": []
    },
    {
      "cell_type": "markdown",
      "source": [
        "#### 2. Importing Necessary Libraries"
      ],
      "metadata": {
        "id": "y5YaOtetuMXo"
      }
    },
    {
      "cell_type": "code",
      "source": [
        "from classiq import *\n",
        "import networkx as nx\n",
        "import matplotlib.pyplot as plt"
      ],
      "metadata": {
        "id": "fQQWMHShtVS9"
      },
      "execution_count": 177,
      "outputs": []
    },
    {
      "cell_type": "markdown",
      "source": [
        "#### 3. Defining the Quantum Register Size\n",
        "We define the size of the quantum register. For 16 nodes, we need 4 qubits since $2^4=16$."
      ],
      "metadata": {
        "id": "SWnnkurAua5C"
      }
    },
    {
      "cell_type": "code",
      "source": [
        "size = 4"
      ],
      "metadata": {
        "id": "T3BxyLKivK3T"
      },
      "execution_count": 178,
      "outputs": []
    },
    {
      "cell_type": "markdown",
      "source": [
        "#### 4. Preparing the Minus State\n",
        "The `prepare_minus` function prepares the minus state by applying the Pauli-X gate followed by the Hadamard gate on a qubit. The minus state is ${∣−⟩}=\\dfrac{∣0⟩−∣1⟩}{2}$​."
      ],
      "metadata": {
        "id": "3c_LG8NQvkRG"
      }
    },
    {
      "cell_type": "code",
      "source": [
        "@qfunc\n",
        "def prepare_minus(x: QBit):\n",
        "    X(x)\n",
        "    H(x)"
      ],
      "metadata": {
        "id": "BGA25pBUwl1j"
      },
      "execution_count": 179,
      "outputs": []
    },
    {
      "cell_type": "markdown",
      "source": [
        "#### 5. Diffuser Oracle\n",
        "The `diffuzer_oracle` function is used to flip the auxiliary qubit if the input qubit $x$ is not zero. This is part of the amplitude amplification process."
      ],
      "metadata": {
        "id": "WFhEKTnzwtYt"
      }
    },
    {
      "cell_type": "code",
      "source": [
        "@qfunc\n",
        "def diffuzer_oracle(aux: Output[QNum], x: QNum):\n",
        "    aux ^= (x != 0)"
      ],
      "metadata": {
        "id": "jJPHd-cNw2Kt"
      },
      "execution_count": 180,
      "outputs": []
    },
    {
      "cell_type": "markdown",
      "source": [
        "#### 6. Zero Diffuser\n",
        "The `zero_diffuzer` function allocates an auxiliary qubit and prepares it in the minus state. It then applies the diffuser oracle on the input qubit $x$"
      ],
      "metadata": {
        "id": "odhEfZAPyDGq"
      }
    },
    {
      "cell_type": "code",
      "source": [
        "@qfunc\n",
        "def zero_diffuzer(x: QNum):\n",
        "    aux = QNum('aux')\n",
        "    allocate(1, aux)\n",
        "    within_apply(compute=lambda: prepare_minus(aux),\n",
        "                 action=lambda: diffuzer_oracle)"
      ],
      "metadata": {
        "id": "gtoxn7Zvyzvg"
      },
      "execution_count": 181,
      "outputs": []
    },
    {
      "cell_type": "markdown",
      "source": [
        "#### 6. C Iteration\n",
        "The `C_iteration` function sets up the probability distribution for moving to adjacent nodes. It ensures that the probabilities sum to 1 and respects the boundary conditions of the line topology. It then controls the operation based on the current vertex and prepares the state accordingly."
      ],
      "metadata": {
        "id": "04RBlhsNy8Av"
      }
    },
    {
      "cell_type": "code",
      "source": [
        "def C_iteration(i:int,vertices: QNum, adjacent_vertices:QNum):\n",
        "    prob = [0] * 16\n",
        "    # prob[(i+1)% 16]=0.5\n",
        "    # prob[(i-1)% 16]=0.5\n",
        "    if i > 0 and i < 15:\n",
        "        prob[i - 1] = 0.5\n",
        "        prob[i + 1] = 0.5\n",
        "    elif i == 0:\n",
        "        prob[i + 1] = 1.0\n",
        "    elif i == 15:\n",
        "        prob[i - 1] = 1.0\n",
        "    print(f'State={i}, prob vec ={prob}')\n",
        "\n",
        "    control(ctrl=vertices==i,\n",
        "            operand=lambda: within_apply(\n",
        "              compute= lambda: inplace_prepare_state(probabilities=prob, bound=0.01, target=adjacent_vertices),\n",
        "              action= lambda: zero_diffuzer(adjacent_vertices)))\n"
      ],
      "metadata": {
        "id": "l8SRWFWxzUWE"
      },
      "execution_count": 182,
      "outputs": []
    },
    {
      "cell_type": "markdown",
      "source": [
        "#### 7. C Operator\n",
        "The `C_operator` function iterates over all possible states (from 0 to 15) and applies the C_iteration function to each state. This sets up the probability distributions for the quantum walk."
      ],
      "metadata": {
        "id": "pd3aYxcNz0uw"
      }
    },
    {
      "cell_type": "code",
      "source": [
        "@qfunc\n",
        "def C_operator(vertices: QNum, adjacent_vertices: QNum):\n",
        "    for i in range(2 ** size):\n",
        "        C_iteration(i, vertices, adjacent_vertices)"
      ],
      "metadata": {
        "id": "Kh6baUfj0nXg"
      },
      "execution_count": 183,
      "outputs": []
    },
    {
      "cell_type": "markdown",
      "source": [
        "#### 8. Edge Oracle\n",
        "The `edge_oracle` function checks if the sum of the current vertex and the adjacent vertex is odd, and sets the result qubit accordingly. This helps in defining the conditions for the swap operation."
      ],
      "metadata": {
        "id": "uS6OQRJg0xos"
      }
    },
    {
      "cell_type": "code",
      "source": [
        "@qfunc\n",
        "def edge_oracle(res: Output[QBit], vertices: QNum, adjacent_vertices: QNum):\n",
        "    res |= (((vertices + adjacent_vertices) % 2) == 1)"
      ],
      "metadata": {
        "id": "TrcLS5_u1TOC"
      },
      "execution_count": 184,
      "outputs": []
    },
    {
      "cell_type": "markdown",
      "source": [
        "#### 9. Bitwise Swap\n",
        "The `bitwise_swap` function swaps the states of two qubit arrays bit by bit. It iterates over each bit and applies the SWAP gate."
      ],
      "metadata": {
        "id": "PtCwsmBy1gkg"
      }
    },
    {
      "cell_type": "code",
      "source": [
        "@qfunc\n",
        "def bitwise_swap(x: QArray[QBit], y: QArray[QBit]):\n",
        "    repeat(count=x.len,\n",
        "           iteration=lambda i: SWAP(x[i], y[i]))"
      ],
      "metadata": {
        "id": "xurJbi-W1zP_"
      },
      "execution_count": 185,
      "outputs": []
    },
    {
      "cell_type": "markdown",
      "source": [
        "#### 10. S Operator\n",
        "The `S_operator` function applies the edge oracle to check the swap condition and then performs the bitwise swap if the condition is met."
      ],
      "metadata": {
        "id": "n57gAPIQ1-MJ"
      }
    },
    {
      "cell_type": "code",
      "source": [
        "@qfunc\n",
        "def S_operator(vertices: QNum, adjacent_vertices: QNum):\n",
        "    res = QNum('res')\n",
        "    edge_oracle(res, vertices, adjacent_vertices)\n",
        "    control(ctrl=res == 1,\n",
        "            operand=lambda: bitwise_swap(vertices, adjacent_vertices))"
      ],
      "metadata": {
        "id": "cPr68LsR2h2B"
      },
      "execution_count": 186,
      "outputs": []
    },
    {
      "cell_type": "markdown",
      "source": [
        "#### 11. Main Function\n",
        "The `main` function initializes the quantum walk by applying a Hadamard transform to create a superposition of all possible states and allocates the necessary qubits for the vertices and adjacent vertices. It then applies the C and S operators to perform the quantum walk."
      ],
      "metadata": {
        "id": "g8GO0n552rqE"
      }
    },
    {
      "cell_type": "code",
      "source": [
        "@qfunc\n",
        "def main(vertices: Output[QNum], adjacent_vertices: Output[QNum]):\n",
        "    allocate(size, vertices)\n",
        "    hadamard_transform(vertices)\n",
        "    allocate(size, adjacent_vertices)\n",
        "\n",
        "    C_operator(vertices, adjacent_vertices)\n",
        "    S_operator(vertices, adjacent_vertices)"
      ],
      "metadata": {
        "id": "kT5_08802w4f"
      },
      "execution_count": 187,
      "outputs": []
    },
    {
      "cell_type": "markdown",
      "source": [
        "#### 12. Creating the Quantum Model\n",
        "These lines create the quantum model, synthesize the quantum program, and display it in the Classiq Ide."
      ],
      "metadata": {
        "id": "P8CZYUbl3f6L"
      }
    },
    {
      "cell_type": "code",
      "source": [
        "qmod = create_model(main)\n",
        "qprog = synthesize(qmod)\n",
        "show(qprog)"
      ],
      "metadata": {
        "colab": {
          "base_uri": "https://localhost:8080/"
        },
        "id": "UKOuDyvC4jLp",
        "outputId": "b93219bf-462e-4acd-e4fe-b6a158606381"
      },
      "execution_count": 188,
      "outputs": [
        {
          "output_type": "stream",
          "name": "stdout",
          "text": [
            "State=0, prob vec =[0, 1.0, 0, 0, 0, 0, 0, 0, 0, 0, 0, 0, 0, 0, 0, 0]\n",
            "State=1, prob vec =[0.5, 0, 0.5, 0, 0, 0, 0, 0, 0, 0, 0, 0, 0, 0, 0, 0]\n",
            "State=2, prob vec =[0, 0.5, 0, 0.5, 0, 0, 0, 0, 0, 0, 0, 0, 0, 0, 0, 0]\n",
            "State=3, prob vec =[0, 0, 0.5, 0, 0.5, 0, 0, 0, 0, 0, 0, 0, 0, 0, 0, 0]\n",
            "State=4, prob vec =[0, 0, 0, 0.5, 0, 0.5, 0, 0, 0, 0, 0, 0, 0, 0, 0, 0]\n",
            "State=5, prob vec =[0, 0, 0, 0, 0.5, 0, 0.5, 0, 0, 0, 0, 0, 0, 0, 0, 0]\n",
            "State=6, prob vec =[0, 0, 0, 0, 0, 0.5, 0, 0.5, 0, 0, 0, 0, 0, 0, 0, 0]\n",
            "State=7, prob vec =[0, 0, 0, 0, 0, 0, 0.5, 0, 0.5, 0, 0, 0, 0, 0, 0, 0]\n",
            "State=8, prob vec =[0, 0, 0, 0, 0, 0, 0, 0.5, 0, 0.5, 0, 0, 0, 0, 0, 0]\n",
            "State=9, prob vec =[0, 0, 0, 0, 0, 0, 0, 0, 0.5, 0, 0.5, 0, 0, 0, 0, 0]\n",
            "State=10, prob vec =[0, 0, 0, 0, 0, 0, 0, 0, 0, 0.5, 0, 0.5, 0, 0, 0, 0]\n",
            "State=11, prob vec =[0, 0, 0, 0, 0, 0, 0, 0, 0, 0, 0.5, 0, 0.5, 0, 0, 0]\n",
            "State=12, prob vec =[0, 0, 0, 0, 0, 0, 0, 0, 0, 0, 0, 0.5, 0, 0.5, 0, 0]\n",
            "State=13, prob vec =[0, 0, 0, 0, 0, 0, 0, 0, 0, 0, 0, 0, 0.5, 0, 0.5, 0]\n",
            "State=14, prob vec =[0, 0, 0, 0, 0, 0, 0, 0, 0, 0, 0, 0, 0, 0.5, 0, 0.5]\n",
            "State=15, prob vec =[0, 0, 0, 0, 0, 0, 0, 0, 0, 0, 0, 0, 0, 0, 1.0, 0]\n",
            "#Opening: https://platform.classiq.io/circuit/cacff37d-2ea0-49d0-8df3-640aa2d59a93?version=0.43.3\n"
          ]
        }
      ]
    },
    {
      "cell_type": "markdown",
      "source": [
        "#### 13. Visualizing the Quantum Walk\n",
        "This part of the code defines a simple visualization of the quantum walk on a line with 16 nodes. It performs a few iterations of the walk and plots the resulting probabilities for each node."
      ],
      "metadata": {
        "id": "A1oXpHGo39cN"
      }
    },
    {
      "cell_type": "code",
      "source": [
        "def visualize_line_graph(num_nodes):\n",
        "    G = nx.Graph()\n",
        "    for i in range(num_nodes):\n",
        "        G.add_node(i)\n",
        "    for i in range(num_nodes):\n",
        "        if i > 0:\n",
        "            G.add_edge(i, i-1)\n",
        "        if i < num_nodes - 1:\n",
        "            G.add_edge(i, i+1)\n",
        "    pos = nx.spring_layout(G)\n",
        "    nx.draw(G, pos, with_labels=True, node_color='lightblue', node_size=700, font_size=10, font_weight='bold')\n",
        "    plt.title('Quantum Walk on a Line with 16 Nodes')\n",
        "    plt.show()\n",
        "\n",
        "visualize_line_graph(16)"
      ],
      "metadata": {
        "colab": {
          "base_uri": "https://localhost:8080/",
          "height": 539
        },
        "id": "VVc1OcX0GVSS",
        "outputId": "9fc674cd-342e-4e26-90e5-4d3fdaf34890"
      },
      "execution_count": 189,
      "outputs": [
        {
          "output_type": "display_data",
          "data": {
            "text/plain": [
              "<Figure size 640x480 with 1 Axes>"
            ],
            "image/png": "[encoded data removed]"
          },
          "metadata": {}
        }
      ]
    },
    {
      "cell_type": "markdown",
      "source": [
        "#All the Code Together"
      ],
      "metadata": {
        "id": "q8Y1bTbJ-TPn"
      }
    },
    {
      "cell_type": "code",
      "source": [
        "from classiq import *\n",
        "import networkx as nx\n",
        "import matplotlib.pyplot as plt\n",
        "\n",
        "size = 4\n",
        "\n",
        "@qfunc\n",
        "def prepare_minus(x: QBit):\n",
        "    X(x)\n",
        "    H(x)\n",
        "\n",
        "@qfunc\n",
        "def diffuzer_oracle(aux: Output[QNum], x: QNum):\n",
        "    aux ^= (x != 0)\n",
        "\n",
        "@qfunc\n",
        "def zero_diffuzer(x: QNum):\n",
        "    aux = QNum('aux')\n",
        "    allocate(1, aux)\n",
        "    within_apply(compute=lambda: prepare_minus(aux),\n",
        "                 action=lambda: diffuzer_oracle)\n",
        "\n",
        "def C_iteration(i:int,vertices: QNum, adjacent_vertices:QNum):\n",
        "    prob = [0] * 16\n",
        "    if i > 0 and i < 15:\n",
        "        prob[i - 1] = 0.5\n",
        "        prob[i + 1] = 0.5\n",
        "    elif i == 0:\n",
        "        prob[i + 1] = 1.0\n",
        "    elif i == 15:\n",
        "        prob[i - 1] = 1.0\n",
        "    # print(f'State={i}, prob vec ={prob}')\n",
        "\n",
        "    control(ctrl=vertices==i,\n",
        "            operand=lambda: within_apply(\n",
        "              compute= lambda: inplace_prepare_state(probabilities=prob, bound=0.01, target=adjacent_vertices),\n",
        "              action= lambda: zero_diffuzer(adjacent_vertices)))\n",
        "\n",
        "@qfunc\n",
        "def C_operator(vertices: QNum, adjacent_vertices: QNum):\n",
        "    for i in range(2 ** size):\n",
        "        C_iteration(i, vertices, adjacent_vertices)\n",
        "\n",
        "@qfunc\n",
        "def edge_oracle(res: Output[QBit], vertices: QNum, adjacent_vertices: QNum):\n",
        "    res |= (((vertices + adjacent_vertices) % 2) == 1)\n",
        "\n",
        "@qfunc\n",
        "def bitwise_swap(x: QArray[QBit], y: QArray[QBit]):\n",
        "    repeat(count=x.len,\n",
        "           iteration=lambda i: SWAP(x[i], y[i]))\n",
        "\n",
        "@qfunc\n",
        "def S_operator(vertices: QNum, adjacent_vertices: QNum):\n",
        "    res = QNum('res')\n",
        "    edge_oracle(res, vertices, adjacent_vertices)\n",
        "    control(ctrl=res == 1,\n",
        "            operand=lambda: bitwise_swap(vertices, adjacent_vertices))\n",
        "\n",
        "@qfunc\n",
        "def main(vertices: Output[QNum], adjacent_vertices: Output[QNum]):\n",
        "    allocate(size, vertices)\n",
        "    hadamard_transform(vertices)\n",
        "    allocate(size, adjacent_vertices)\n",
        "\n",
        "    C_operator(vertices, adjacent_vertices)\n",
        "    S_operator(vertices, adjacent_vertices)\n",
        "\n",
        "qmod = create_model(main)\n",
        "qprog = synthesize(qmod)\n",
        "# show(qprog)\n",
        "\n",
        "def visualize_line_graph(num_nodes):\n",
        "    G = nx.Graph()\n",
        "    for i in range(num_nodes):\n",
        "        G.add_node(i)\n",
        "    for i in range(num_nodes):\n",
        "        if i > 0:\n",
        "            G.add_edge(i, i-1)\n",
        "        if i < num_nodes - 1:\n",
        "            G.add_edge(i, i+1)\n",
        "    pos = nx.spring_layout(G)\n",
        "    nx.draw(G, pos, with_labels=True, node_color='lightblue', node_size=700, font_size=10, font_weight='bold')\n",
        "    plt.title('Quantum Walk on a Line with 16 Nodes')\n",
        "    plt.show()\n",
        "\n",
        "# visualize_line_graph(16)"
      ],
      "metadata": {
        "id": "RLbnDAKg-VZT"
      },
      "execution_count": 190,
      "outputs": []
    }
  ]
}
