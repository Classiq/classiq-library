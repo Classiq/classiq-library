{
 "cells": [
  {
   "cell_type": "markdown",
   "id": "742d70b1",
   "metadata": {},
   "source": [
    "# Objective\n",
    "This quantum program simulates a quantum random walk on a line topology with 16 nodes and each node connected with others as line numbered from 0 to 15, and the walker moves from current node to an adjacent node either left or right with equal probability."
   ]
  },
  {
   "cell_type": "markdown",
   "id": "2521614b",
   "metadata": {},
   "source": [
    "Setting number of qubit equal $$\\log_{2}(16) = 4$$"
   ]
  },
  {
   "cell_type": "code",
   "execution_count": 1,
   "id": "2ca76849",
   "metadata": {},
   "outputs": [],
   "source": [
    "size = 4\n",
    "num_nodes = 16"
   ]
  },
  {
   "cell_type": "markdown",
   "id": "5927181c",
   "metadata": {},
   "source": [
    "# Coin operator\n",
    "It determines the walker's movement probabilities. The proportions are equal in all probability whether left or right.\n",
    "\n",
    "1.If the walker is at node 0, he has one possibility of moving to the right at a rate of 100%.\n",
    "\n",
    "2.If walker is at node 15, he has one possibility of moving left at a rate of 100%.\n",
    "\n",
    "3.Otherwise, walker moves either right or left at a rate of 50% for each possibility."
   ]
  },
  {
   "cell_type": "code",
   "execution_count": 2,
   "id": "b5e84288",
   "metadata": {},
   "outputs": [],
   "source": [
    "from classiq import *\n",
    "\n",
    "@qfunc\n",
    "def prepare_minus(x: QBit):\n",
    "  X(x)\n",
    "  H(x)\n",
    "\n",
    "@qfunc\n",
    "def diffuzer_oracle(aux: Output[QNum],x:QNum):\n",
    "  aux^=(x!=0)\n",
    "\n",
    "@qfunc\n",
    "def zero_diffuzer(x: QNum):\n",
    "  aux = QNum('aux')\n",
    "  allocate(1,aux)\n",
    "  within_apply(compute=lambda: prepare_minus(aux),\n",
    "              action=lambda: diffuzer_oracle)\n",
    "\n",
    "\n",
    "def C_iteration(i:int,vertices: QNum, adjacent_vertices:QNum):\n",
    "    prob = [0]*num_nodes\n",
    "    if i==0:\n",
    "        prob[1]=1\n",
    "    elif i==num_nodes-1:\n",
    "        prob[i-1]=1\n",
    "    else:\n",
    "        prob[i-1]=0.5\n",
    "        prob[i+1]=0.5\n",
    "    print(f'State={i}, prob vec ={prob}')\n",
    "    \n",
    "    control(ctrl=vertices==i,\n",
    "            operand=lambda: within_apply(\n",
    "              compute= lambda: inplace_prepare_state(probabilities=prob, bound=0.01, target=adjacent_vertices),\n",
    "              action= lambda: zero_diffuzer(adjacent_vertices)))\n",
    "\n",
    "\n",
    "@qfunc \n",
    "def C_operator(vertices:QNum, adjacent_vertices: QNum):\n",
    "    for i in range(num_nodes):\n",
    "      C_iteration(i,vertices,adjacent_vertices)\n"
   ]
  },
  {
   "cell_type": "markdown",
   "id": "4b47a501",
   "metadata": {},
   "source": [
    "# Shift operator\n",
    "This operator executes the movement by swapping the walker's state between nodes according to the amplitudes set by the coin operator. quantum interference can occur during this step, where the probability amplitudes of different paths combine, enhancing or diminishing the possibility of certain outcomes."
   ]
  },
  {
   "cell_type": "code",
   "execution_count": 3,
   "id": "228b6b37",
   "metadata": {},
   "outputs": [],
   "source": [
    "@qfunc\n",
    "def edge_oracle(res:Output[QBit], vertices: QNum, adjacent_vertices: QNum):\n",
    "  res |= (((vertices - adjacent_vertices) == 1) | ((vertices - adjacent_vertices) == -1))\n",
    "\n",
    "\n",
    "@qfunc \n",
    "def bitwise_swap(x: QArray[QBit], y:QArray[QBit]):\n",
    "  repeat(count= x.len,\n",
    "    iteration= lambda i: SWAP(x[i],y[i]))\n",
    "\n",
    "@qfunc \n",
    "def S_operator(vertices:QNum, adjacent_vertices: QNum):\n",
    "    res = QNum('res')\n",
    "    edge_oracle(res,vertices,adjacent_vertices)\n",
    "    control(ctrl= res==1,\n",
    "        operand= lambda: bitwise_swap(vertices,adjacent_vertices))"
   ]
  },
  {
   "cell_type": "code",
   "execution_count": 4,
   "id": "8c69abac",
   "metadata": {},
   "outputs": [
    {
     "name": "stdout",
     "output_type": "stream",
     "text": [
      "State=0, prob vec =[0, 1, 0, 0, 0, 0, 0, 0, 0, 0, 0, 0, 0, 0, 0, 0]\n",
      "State=1, prob vec =[0.5, 0, 0.5, 0, 0, 0, 0, 0, 0, 0, 0, 0, 0, 0, 0, 0]\n",
      "State=2, prob vec =[0, 0.5, 0, 0.5, 0, 0, 0, 0, 0, 0, 0, 0, 0, 0, 0, 0]\n",
      "State=3, prob vec =[0, 0, 0.5, 0, 0.5, 0, 0, 0, 0, 0, 0, 0, 0, 0, 0, 0]\n",
      "State=4, prob vec =[0, 0, 0, 0.5, 0, 0.5, 0, 0, 0, 0, 0, 0, 0, 0, 0, 0]\n",
      "State=5, prob vec =[0, 0, 0, 0, 0.5, 0, 0.5, 0, 0, 0, 0, 0, 0, 0, 0, 0]\n",
      "State=6, prob vec =[0, 0, 0, 0, 0, 0.5, 0, 0.5, 0, 0, 0, 0, 0, 0, 0, 0]\n",
      "State=7, prob vec =[0, 0, 0, 0, 0, 0, 0.5, 0, 0.5, 0, 0, 0, 0, 0, 0, 0]\n",
      "State=8, prob vec =[0, 0, 0, 0, 0, 0, 0, 0.5, 0, 0.5, 0, 0, 0, 0, 0, 0]\n",
      "State=9, prob vec =[0, 0, 0, 0, 0, 0, 0, 0, 0.5, 0, 0.5, 0, 0, 0, 0, 0]\n",
      "State=10, prob vec =[0, 0, 0, 0, 0, 0, 0, 0, 0, 0.5, 0, 0.5, 0, 0, 0, 0]\n",
      "State=11, prob vec =[0, 0, 0, 0, 0, 0, 0, 0, 0, 0, 0.5, 0, 0.5, 0, 0, 0]\n",
      "State=12, prob vec =[0, 0, 0, 0, 0, 0, 0, 0, 0, 0, 0, 0.5, 0, 0.5, 0, 0]\n",
      "State=13, prob vec =[0, 0, 0, 0, 0, 0, 0, 0, 0, 0, 0, 0, 0.5, 0, 0.5, 0]\n",
      "State=14, prob vec =[0, 0, 0, 0, 0, 0, 0, 0, 0, 0, 0, 0, 0, 0.5, 0, 0.5]\n",
      "State=15, prob vec =[0, 0, 0, 0, 0, 0, 0, 0, 0, 0, 0, 0, 0, 0, 1, 0]\n",
      "Opening: https://platform.classiq.io/circuit/eb86b206-f61f-41d4-9e7c-2748949d64bd?version=0.43.3\n"
     ]
    }
   ],
   "source": [
    "@qfunc \n",
    "def main(vertices:Output[QNum], adjacent_vertices:Output[QNum]):\n",
    "\n",
    "  allocate(size,vertices)\n",
    "  hadamard_transform(vertices)\n",
    "  allocate(size,adjacent_vertices)\n",
    "\n",
    "  C_operator(vertices,adjacent_vertices)\n",
    "  S_operator(vertices,adjacent_vertices)\n",
    "\n",
    "qmod = create_model(main)\n",
    "qprog = synthesize(qmod)\n",
    "show(qprog)"
   ]
  },
  {
   "cell_type": "code",
   "execution_count": null,
   "id": "010c0fff",
   "metadata": {},
   "outputs": [],
   "source": []
  }
 ],
 "metadata": {
  "kernelspec": {
   "display_name": "Python 3 (ipykernel)",
   "language": "python",
   "name": "python3"
  },
  "language_info": {
   "codemirror_mode": {
    "name": "ipython",
    "version": 3
   },
   "file_extension": ".py",
   "mimetype": "text/x-python",
   "name": "python",
   "nbconvert_exporter": "python",
   "pygments_lexer": "ipython3",
   "version": "3.9.13"
  }
 },
 "nbformat": 4,
 "nbformat_minor": 5
}
