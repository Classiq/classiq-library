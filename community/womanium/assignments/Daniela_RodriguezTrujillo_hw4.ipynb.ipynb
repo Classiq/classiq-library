{
 "cells": [
  {
   "cell_type": "markdown",
   "id": "9737c156-e0b8-4785-9757-02c92ab5fd46",
   "metadata": {},
   "source": [
    "#  Final Assignment: Advanced Algorithms Design (session: July 8) 🏆 Final Assignment for Classiq Certificate 2 🏆"
   ]
  },
  {
   "cell_type": "markdown",
   "id": "4efd571c-59a4-4f7f-8a69-d2925d5804f0",
   "metadata": {},
   "source": [
    "<div style=\"text-align: right\">  by Daniela R. Trujillo </div>"
   ]
  },
  {
   "attachments": {
    "13b904da-4cb8-44e1-af52-64723ae845f4.png": {
     "image/png": "[encoded data removed]"
    }
   },
   "cell_type": "markdown",
   "id": "5398f41d-3682-41e3-823f-da6e94c9a399",
   "metadata": {},
   "source": [
    "**Assignment:**\n",
    "Follow the example from Bootcamp 4Links to an external site. for creating the quantum walk operator for the case of a circle with 4 nodes, and design the quantum walk operator for the case of a line with 16 nodes:\n",
    "![image.png](attachment:13b904da-4cb8-44e1-af52-64723ae845f4.png)"
   ]
  },
  {
   "cell_type": "markdown",
   "id": "e9de7ccc-e43c-420c-87da-a86bad725c8d",
   "metadata": {},
   "source": [
    "## Code and explanation"
   ]
  },
  {
   "cell_type": "markdown",
   "id": "adc8d4c1-116d-40d4-be70-5ae73e4e675c",
   "metadata": {},
   "source": [
    "As a first step and top know with how many quntum channels we'll be working with we need to calculate them by applying the following formula: $$\\text{log}_2(|V|),$$\n",
    "where V is the set of vertices and $|V|$ is the number of vertices within the set. Since in this case $|V| = 16$, we'll be using 4 qubits for each vertix and another auxiliary 4 whose task will be to allocate the adjacents vertices"
   ]
  },
  {
   "cell_type": "code",
   "execution_count": null,
   "id": "be3c7f96-6269-46ce-bfdc-95d2e7395fc6",
   "metadata": {},
   "outputs": [],
   "source": [
    "from classiq import *\n",
    "import numpy as np\n",
    "size = 4"
   ]
  },
  {
   "cell_type": "markdown",
   "id": "89d17e67-dd93-4095-8ce4-0a20e1195bf2",
   "metadata": {},
   "source": [
    "Now, we'll begin by building de C-operartor. We know that the C-operator is very similar to the diffuser operator, so we can create an oracle that can be implemented. For this, we will also use an auxiliary qubit prepared in the minus state. This auxiliary qubit is used to perform the phase kickback."
   ]
  },
  {
   "cell_type": "code",
   "execution_count": null,
   "id": "966744b6-a282-4be5-83ae-8d87d2ceb3fe",
   "metadata": {},
   "outputs": [],
   "source": [
    "@qfunc\n",
    "def prepare_minus(x: QBit):\n",
    "  X(x)\n",
    "  H(x)\n",
    "\n",
    "\n",
    "@qfunc\n",
    "def diffuzer_oracle(aux: Output[QNum],x:QNum):\n",
    "  aux^=(x!=0)\n",
    "\n",
    "\n",
    "@qfunc\n",
    "def zero_diffuzer(x: QNum):\n",
    "  aux = QNum('aux')\n",
    "  allocate(1,aux)\n",
    "  within_apply(compute=lambda: prepare_minus(aux),\n",
    "              action=lambda: diffuzer_oracle)\n",
    "\n"
   ]
  },
  {
   "cell_type": "markdown",
   "id": "564c9808-8e23-4912-9cba-860a6cb9f698",
   "metadata": {},
   "source": [
    "Now we perform the function that constructs the state we are in from the superposition of its neighbors, giving each a 50-50 chance. For this, it is important to highlight three cases:\n",
    "\n",
    "1. If we are at the beginning, as it will have only one neighbor and this will carry all the probability.\n",
    "2. The last number of the vertices will have a similar situation.\n",
    "3. The final case includes all the middle numbers, each having two neighbors.\n",
    "\n",
    "Then, we need to apply a CONTROL gate, which functions as an \"if\", depending on which vertex you find yourself in, the corresponding operators would apply. We need to apply the within_apply function, where what we sandwich will be the state we prepared from the adjacent states, with the diffuser operator in the middle. We need to apply this operator to all the vertices."
   ]
  },
  {
   "cell_type": "code",
   "execution_count": null,
   "id": "9efbd2c0-54ef-403e-b9ff-95298026c498",
   "metadata": {},
   "outputs": [],
   "source": [
    "\n",
    "def C_iteration(i:int,vertices: QNum, adjacent_vertices:QNum):\n",
    "    prob = np.zeros(16)\n",
    "\n",
    "    if i == 0:\n",
    "        prob[i+1] = 1\n",
    "    elif i == 2**size-1:\n",
    "        prob[i-1] = 1\n",
    "    else:\n",
    "        prob[i+1] = 0.5\n",
    "        prob[i-1] = 0.5\n",
    "    \n",
    "    print(f'State={i}, prob vec ={prob}')\n",
    "    \n",
    "    control(ctrl=vertices==i,\n",
    "            operand=lambda: within_apply(\n",
    "              compute= lambda: inplace_prepare_state(probabilities=prob, bound=0.01, target=adjacent_vertices),\n",
    "              action= lambda: zero_diffuzer(adjacent_vertices)))\n",
    "\n",
    "@qfunc \n",
    "def C_operator(vertices:QNum, adjacent_vertices: QNum):\n",
    "    for i in range(2**size):\n",
    "      C_iteration(i,vertices,adjacent_vertices)\n",
    "\n"
   ]
  },
  {
   "cell_type": "markdown",
   "id": "d9398d16-3d98-4d2a-bc26-85ae2b28c431",
   "metadata": {},
   "source": [
    "Now we build the _S_ opeprator, which implements a swap among the vertices once the coin has been flipped."
   ]
  },
  {
   "cell_type": "markdown",
   "id": "28643e4d-b91f-4063-af9e-b66c618b7b1c",
   "metadata": {},
   "source": [
    "First, we check which veritces are neighboors, for this we only need to do the sumbstraction among one and the others and only those whose differences is equal to $|1|$ will be neighboors."
   ]
  },
  {
   "cell_type": "code",
   "execution_count": null,
   "id": "6200cd71-1753-4cfd-b99a-c502c15842eb",
   "metadata": {},
   "outputs": [],
   "source": [
    "@qfunc\n",
    "def edge_oracle(res:Output[QBit], vertices: QNum, adjacent_vertices: QNum):\n",
    "  res |= ((vertices-adjacent_vertices == 1) | (vertices-adjacent_vertices == -1))\n",
    "\n",
    "    \n",
    "@qfunc \n",
    "def bitwise_swap(x: QArray[QBit], y:QArray[QBit]):\n",
    "  repeat(count = x.len,\n",
    "    iteration = lambda i: SWAP(x[i],y[i]))\n",
    "  "
   ]
  },
  {
   "cell_type": "markdown",
   "id": "79542a9b-369a-41a7-848a-5403c663a9a8",
   "metadata": {},
   "source": [
    "Now, we check whether a vertix is neighbour with another, and if so it swaps them."
   ]
  },
  {
   "cell_type": "code",
   "execution_count": null,
   "id": "b2e1f95c-ec4d-4bea-a38e-e88af70c179a",
   "metadata": {},
   "outputs": [],
   "source": [
    "@qfunc \n",
    "def S_operator(vertices:QNum, adjacent_vertices: QNum):\n",
    "    res = QNum('res')\n",
    "    edge_oracle(res,vertices,adjacent_vertices)\n",
    "    control(ctrl= res==1,\n",
    "        operand = lambda: bitwise_swap(vertices,adjacent_vertices))\n",
    "\n"
   ]
  },
  {
   "cell_type": "markdown",
   "id": "19bfc894-303e-4ba0-bc66-fcde76c6f697",
   "metadata": {},
   "source": [
    "Finally, to complete the algorithm and implement the quantum walk, we initialize the qubits for the vertices and their adjacent vertices. We use a Hadamard gate to create a superposition of all the vertices, and then apply the constructed operators: _C_ and _S_ for the quantum walk."
   ]
  },
  {
   "cell_type": "code",
   "execution_count": null,
   "id": "34d03373-6463-4e76-9f1f-647f9925bfcc",
   "metadata": {},
   "outputs": [],
   "source": [
    "@qfunc \n",
    "def main(vertices:Output[QNum], adjacent_vertices:Output[QNum]):\n",
    "\n",
    "  allocate(size,vertices)\n",
    "  hadamard_transform(vertices)\n",
    "  allocate(size,adjacent_vertices)\n",
    "\n",
    "  C_operator(vertices,adjacent_vertices)\n",
    "  S_operator(vertices,adjacent_vertices)\n",
    "\n",
    "qmod = create_model(main)\n",
    "qprog = synthesize(qmod)"
   ]
  }
 ],
 "metadata": {
  "kernelspec": {
   "display_name": "Python 3 (ipykernel)",
   "language": "python",
   "name": "python3"
  },
  "language_info": {
   "codemirror_mode": {
    "name": "ipython",
    "version": 3
   },
   "file_extension": ".py",
   "mimetype": "text/x-python",
   "name": "python",
   "nbconvert_exporter": "python",
   "pygments_lexer": "ipython3",
   "version": "3.10.11"
  }
 },
 "nbformat": 4,
 "nbformat_minor": 5
}
