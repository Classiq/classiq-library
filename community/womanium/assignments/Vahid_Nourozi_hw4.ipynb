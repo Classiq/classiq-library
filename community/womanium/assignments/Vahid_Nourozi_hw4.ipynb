{
  "nbformat": 4,
  "nbformat_minor": 0,
  "metadata": {
    "colab": {
      "provenance": []
    },
    "kernelspec": {
      "name": "python3",
      "display_name": "Python 3"
    },
    "language_info": {
      "name": "python"
    }
  },
  "cells": [
    {
      "cell_type": "code",
      "execution_count": 3,
      "metadata": {
        "colab": {
          "base_uri": "https://localhost:8080/"
        },
        "id": "Mb9zFk-B1rsG",
        "outputId": "2d4b9da6-d293-496d-cc3d-9fe0535554f0"
      },
      "outputs": [
        {
          "output_type": "stream",
          "name": "stdout",
          "text": [
            "Your user code: JHBC-VKGS\n",
            "If a browser doesn't automatically open, please visit this URL from any trusted device: https://auth.classiq.io/activate?user_code=JHBC-VKGS\n",
            "State=0, prob vec=[0.5, 0.5, 0, 0, 0, 0, 0, 0, 0, 0, 0, 0, 0, 0, 0, 0]\n",
            "State=1, prob vec=[0.5, 0, 0.5, 0, 0, 0, 0, 0, 0, 0, 0, 0, 0, 0, 0, 0]\n",
            "State=2, prob vec=[0, 0.5, 0, 0.5, 0, 0, 0, 0, 0, 0, 0, 0, 0, 0, 0, 0]\n",
            "State=3, prob vec=[0, 0, 0.5, 0, 0.5, 0, 0, 0, 0, 0, 0, 0, 0, 0, 0, 0]\n",
            "State=4, prob vec=[0, 0, 0, 0.5, 0, 0.5, 0, 0, 0, 0, 0, 0, 0, 0, 0, 0]\n",
            "State=5, prob vec=[0, 0, 0, 0, 0.5, 0, 0.5, 0, 0, 0, 0, 0, 0, 0, 0, 0]\n",
            "State=6, prob vec=[0, 0, 0, 0, 0, 0.5, 0, 0.5, 0, 0, 0, 0, 0, 0, 0, 0]\n",
            "State=7, prob vec=[0, 0, 0, 0, 0, 0, 0.5, 0, 0.5, 0, 0, 0, 0, 0, 0, 0]\n",
            "State=8, prob vec=[0, 0, 0, 0, 0, 0, 0, 0.5, 0, 0.5, 0, 0, 0, 0, 0, 0]\n",
            "State=9, prob vec=[0, 0, 0, 0, 0, 0, 0, 0, 0.5, 0, 0.5, 0, 0, 0, 0, 0]\n",
            "State=10, prob vec=[0, 0, 0, 0, 0, 0, 0, 0, 0, 0.5, 0, 0.5, 0, 0, 0, 0]\n",
            "State=11, prob vec=[0, 0, 0, 0, 0, 0, 0, 0, 0, 0, 0.5, 0, 0.5, 0, 0, 0]\n",
            "State=12, prob vec=[0, 0, 0, 0, 0, 0, 0, 0, 0, 0, 0, 0.5, 0, 0.5, 0, 0]\n",
            "State=13, prob vec=[0, 0, 0, 0, 0, 0, 0, 0, 0, 0, 0, 0, 0.5, 0, 0.5, 0]\n",
            "State=14, prob vec=[0, 0, 0, 0, 0, 0, 0, 0, 0, 0, 0, 0, 0, 0.5, 0, 0.5]\n",
            "State=15, prob vec=[0, 0, 0, 0, 0, 0, 0, 0, 0, 0, 0, 0, 0, 0, 0.5, 0.5]\n",
            "Opening: https://platform.classiq.io/circuit/c15d7f1b-440f-4a55-80b0-8f4a21c97ec0?version=0.43.1\n"
          ]
        }
      ],
      "source": [
        "# Quantum Walk Operator for a Line with 16 Nodes\n",
        "import classiq\n",
        "from classiq import *\n",
        "\n",
        "# Authenticate with Classiq\n",
        "classiq.authenticate()\n",
        "\n",
        "# Define the size of the system (2^4 = 16 nodes)\n",
        "size = 4\n",
        "\n",
        "@qfunc\n",
        "def prepare_minus(x: QBit):\n",
        "    X(x)\n",
        "    H(x)\n",
        "\n",
        "@qfunc\n",
        "def diffuser_oracle(aux: Output[QBit], x: QNum):\n",
        "    aux ^= (x != 0)\n",
        "\n",
        "@qfunc\n",
        "def zero_diffuser(x: QNum):\n",
        "    aux = QNum('aux')\n",
        "    allocate(1, aux)\n",
        "    within_apply(compute=lambda: prepare_minus(aux),\n",
        "                 action=lambda: diffuser_oracle)\n",
        "\n",
        "def W_iteration(i: int, vertices: QNum, adjacent_vertices: QNum):\n",
        "    prob = [0] * 16\n",
        "    total_prob = 0\n",
        "    if i > 0:\n",
        "        prob[i-1] = 0.5\n",
        "        total_prob += 0.5\n",
        "    if i < 15:\n",
        "        prob[i+1] = 0.5\n",
        "        total_prob += 0.5\n",
        "    if total_prob < 1:\n",
        "        prob[i] = 1 - total_prob  # Add remaining probability to current state\n",
        "    print(f'State={i}, prob vec={prob}')\n",
        "\n",
        "    control(ctrl=vertices == i,\n",
        "            operand=lambda: within_apply(\n",
        "                compute=lambda: inplace_prepare_state(probabilities=prob, bound=0.01, target=adjacent_vertices),\n",
        "                action=lambda: zero_diffuser(adjacent_vertices)))\n",
        "\n",
        "@qfunc\n",
        "def W_operator(vertices: QNum, adjacent_vertices: QNum):\n",
        "    for i in range(2**size):\n",
        "        W_iteration(i, vertices, adjacent_vertices)\n",
        "\n",
        "@qfunc\n",
        "def edge_oracle(res: Output[QBit], vertices: QNum, adjacent_vertices: QNum):\n",
        "    # Check if the difference is 1 or -1\n",
        "    res |= ((vertices - adjacent_vertices == 1) | (adjacent_vertices - vertices == 1))\n",
        "\n",
        "@qfunc\n",
        "def bitwise_swap(x: QArray[QBit], y: QArray[QBit]):\n",
        "    repeat(count=x.len,\n",
        "           iteration=lambda i: SWAP(x[i], y[i]))\n",
        "\n",
        "@qfunc\n",
        "def S_operator(vertices: QNum, adjacent_vertices: QNum):\n",
        "    res = QNum('res')\n",
        "    edge_oracle(res, vertices, adjacent_vertices)\n",
        "    control(ctrl=res == 1,\n",
        "            operand=lambda: bitwise_swap(vertices, adjacent_vertices))\n",
        "\n",
        "@qfunc\n",
        "def main(vertices: Output[QNum], adjacent_vertices: Output[QNum]):\n",
        "    allocate(size, vertices)\n",
        "    hadamard_transform(vertices)\n",
        "    allocate(size, adjacent_vertices)\n",
        "    W_operator(vertices, adjacent_vertices)\n",
        "    S_operator(vertices, adjacent_vertices)\n",
        "\n",
        "qmod = create_model(main)\n",
        "qprog = synthesize(qmod)\n",
        "show(qprog)"
      ]
    }
  ]
}