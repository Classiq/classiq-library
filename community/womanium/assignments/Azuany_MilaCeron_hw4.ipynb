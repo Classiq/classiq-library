{
 "cells": [
  {
   "cell_type": "markdown",
   "id": "9feedb1d-bd4f-493a-9d70-5b916755f6d6",
   "metadata": {},
   "source": [
    "# 6.12 Final Assignment: Advanced Algorithms Design"
   ]
  },
  {
   "cell_type": "markdown",
   "id": "3a0d7da9-f32c-4b27-8d76-3d301860f8cc",
   "metadata": {},
   "source": [
    "### Objective"
   ]
  },
  {
   "cell_type": "markdown",
   "id": "8a3a6cbf-3ada-45ee-8c9a-8189cc65bb38",
   "metadata": {},
   "source": [
    "The objective of this notebook is to create the quantum walk operator for the case of a circle with 4 nodes, and design the quantum walk operator for the case of a line with 16 nodes.\n",
    "\n",
    "\n",
    "Through this notebook you will understand what is a quantum walk and how to create one."
   ]
  },
  {
   "cell_type": "markdown",
   "id": "cf6c1842-4396-4171-b149-cc8c3cb58e01",
   "metadata": {},
   "source": [
    "## Random walks"
   ]
  },
  {
   "cell_type": "markdown",
   "id": "b1ae6f3f-819c-466c-9022-c5b1033b6941",
   "metadata": {
    "jp-MarkdownHeadingCollapsed": true
   },
   "source": [
    "To understand quantum walks, first we must understand what is a classical random walk.\n",
    "\n",
    "It is defined as \"the process by which randomly-moving objects wander away from where they started\" [1]. Mathematically, here is the definition:\n",
    "\n",
    "Suppose that $X_1$, $X_2$, . . . is a sequence of $I\\!R^d$-valued independent and identically distributed random variables. A random walk started at $z \\in I\\!R^d$ is the sequence $(S_n)_{n≥0}$ where $S_0 = z$ and\n",
    "$$ S_n = S_{n−1} + X_n, n ≥ 1. $$\n",
    "Where $X_n$ are referred to as steps of the random walk, $S_n$ is the position at time $n$. [2]\n",
    "\n",
    "\n",
    "The following GIF shows 7 different random walks in 2 dimension.\n",
    "\n",
    " ![Random Walk](https://www.mit.edu/~kardar/teaching/projects/chemotaxis(AndreaSchmidt)/rand_2D.gif)"
   ]
  },
  {
   "cell_type": "markdown",
   "id": "7ccf026c-7920-476d-9b8f-2e0f0ee2c718",
   "metadata": {},
   "source": [
    "## Quantum Walk"
   ]
  },
  {
   "cell_type": "markdown",
   "id": "a5827f89-16e0-4b7a-a402-69647fd7f25d",
   "metadata": {},
   "source": [
    "As seen with other classical algorithms, quantum walks surpass their classical counterpart as they are faster and help to speedup other algorithm [3]. \n",
    "\n",
    "In the next cells, you can learn how to create a quantum walk"
   ]
  },
  {
   "cell_type": "code",
   "execution_count": 1,
   "id": "eb25346c-5566-42f2-9d01-e80d0f267a6a",
   "metadata": {},
   "outputs": [],
   "source": [
    "from classiq import * # import needed libraries"
   ]
  },
  {
   "cell_type": "markdown",
   "id": "3845a07c-1970-4f9c-8737-5437cc2c4d71",
   "metadata": {},
   "source": [
    "The next functions help for the phase kickback. We use an auxiliary qubit and prepare it in the minus state. Then we apply the diffuzer oracle."
   ]
  },
  {
   "cell_type": "code",
   "execution_count": 2,
   "id": "e342b100-dc2f-4dda-b178-a69c7e9bab81",
   "metadata": {},
   "outputs": [],
   "source": [
    "@qfunc\n",
    "def prepare_minus(x: QBit):\n",
    "  X(x)\n",
    "  H(x)\n",
    "\n",
    "\n",
    "@qfunc\n",
    "def diffuzer_oracle(aux: Output[QNum],x:QNum):\n",
    "  aux^=(x!=0)\n",
    "    \n",
    "\n",
    "@qfunc\n",
    "def zero_diffuzer(x: QNum):\n",
    "  aux = QNum('aux')\n",
    "  allocate(1,aux)\n",
    "  within_apply(compute=lambda: prepare_minus(aux),\n",
    "              action=lambda: diffuzer_oracle)"
   ]
  },
  {
   "cell_type": "markdown",
   "id": "726fc3e6-69bf-4601-89d0-37ff9c16182c",
   "metadata": {},
   "source": [
    "Now, here we introduce two new variables: size and nodes. Nodes, as the name indicates, is the number of nodes and size the number of qubits we need to do perform the algorithm.\n",
    "\n",
    "The W operator help us for the phase kickback."
   ]
  },
  {
   "cell_type": "code",
   "execution_count": 3,
   "id": "3a1e2460-6c51-4a0e-bcc9-72598ae9b7ba",
   "metadata": {},
   "outputs": [],
   "source": [
    "def W_iteration(i:int,vertices: QNum, adjacent_vertices:QNum):\n",
    "    prob = [0]*nodes # we initialize all the probabilities for all nodes\n",
    "    # we change the probabilites so that there are 16 different states\n",
    "    prob[(i+1)% nodes]=0.5 \n",
    "    prob[(i-1)% nodes]=0.5\n",
    "    print(f'State={i}, prob vec ={prob}')\n",
    "\n",
    "    # apply the diffuser after preparing the probability states\n",
    "    control(ctrl=vertices==i,\n",
    "            operand=lambda: within_apply(\n",
    "              compute= lambda: inplace_prepare_state(probabilities=prob, bound=0.01, target=adjacent_vertices),\n",
    "              action= lambda: zero_diffuzer(adjacent_vertices)))\n",
    "\n",
    "\n",
    "@qfunc \n",
    "def W_operator(vertices:QNum, adjacent_vertices: QNum):\n",
    "    for i in range(2**size): # 2^size is the capacity of the qubits\n",
    "      W_iteration(i,vertices,adjacent_vertices)"
   ]
  },
  {
   "cell_type": "markdown",
   "id": "b0fe0564-b32e-44c1-8e96-31c27bbb0c7d",
   "metadata": {},
   "source": [
    "This is the S operator, first we apply the oracle for the edges and perform a bitwise swap only if the result of the oracle is 1 because that means that there is an edge to another node that the walker can move to."
   ]
  },
  {
   "cell_type": "code",
   "execution_count": 4,
   "id": "13e3181e-026b-4d91-b229-0e81e31edc85",
   "metadata": {},
   "outputs": [],
   "source": [
    "@qfunc\n",
    "def edge_oracle(res:Output[QBit], vertices: QNum, adjacent_vertices: QNum):\n",
    "  res |= (((vertices+adjacent_vertices)%2) == 1)\n",
    "\n",
    "\n",
    "@qfunc \n",
    "def bitwise_swap(x: QArray[QBit], y:QArray[QBit]):\n",
    "  repeat(count= x.len,\n",
    "    iteration= lambda i: SWAP(x[i],y[i]))\n",
    "\n",
    "\n",
    "@qfunc \n",
    "def S_operator(vertices:QNum, adjacent_vertices: QNum):\n",
    "    res = QNum('res')\n",
    "    edge_oracle(res,vertices,adjacent_vertices)\n",
    "    control(ctrl= res==1,\n",
    "        operand= lambda: bitwise_swap(vertices,adjacent_vertices))"
   ]
  },
  {
   "cell_type": "markdown",
   "id": "21078f59-157a-474a-9d31-ac721fc0bdd1",
   "metadata": {},
   "source": [
    "# 4 nodes"
   ]
  },
  {
   "cell_type": "markdown",
   "id": "cc9d52ef-6121-4a4e-a9ee-34682158941c",
   "metadata": {},
   "source": [
    "This is an example for only 4 nodes"
   ]
  },
  {
   "cell_type": "code",
   "execution_count": 5,
   "id": "4258100f-a051-4616-a032-52996abfec2c",
   "metadata": {},
   "outputs": [
    {
     "name": "stdout",
     "output_type": "stream",
     "text": [
      "State=0, prob vec =[0, 0.5, 0, 0.5]\n",
      "State=1, prob vec =[0.5, 0, 0.5, 0]\n",
      "State=2, prob vec =[0, 0.5, 0, 0.5]\n",
      "State=3, prob vec =[0.5, 0, 0.5, 0]\n",
      "Opening: https://platform.classiq.io/circuit/2168192d-7cc5-4e2b-9d5a-4e3ed98587da?version=0.43.3\n"
     ]
    }
   ],
   "source": [
    "nodes = 4 # number of nodes\n",
    "size = 2 # aka number of qubits used for n nodes: log(4) = 2\n",
    "\n",
    "@qfunc \n",
    "def main(vertices:Output[QNum], adjacent_vertices:Output[QNum]):\n",
    "\n",
    "  allocate(size,vertices)\n",
    "  hadamard_transform(vertices)\n",
    "  allocate(size,adjacent_vertices)\n",
    "\n",
    "  W_operator(vertices,adjacent_vertices)\n",
    "  S_operator(vertices,adjacent_vertices)\n",
    "\n",
    "qmod = create_model(main)\n",
    "qprog = synthesize(qmod)\n",
    "show(qprog)"
   ]
  },
  {
   "cell_type": "markdown",
   "id": "2aa7b779-4daa-4953-b1ce-e1f16b408f27",
   "metadata": {},
   "source": [
    "![nodes 4](nodes_4.jpg)"
   ]
  },
  {
   "cell_type": "markdown",
   "id": "ee2f772b-01b5-4dcb-b5f5-2840408a32cc",
   "metadata": {},
   "source": [
    "# 16 nodes"
   ]
  },
  {
   "cell_type": "markdown",
   "id": "9e0fc95d-00fb-47c5-9d39-1b0d40bf6aaf",
   "metadata": {},
   "source": [
    "This the code for 16 nodes, in here we only need 2 qubits more to represent all 16 nodes."
   ]
  },
  {
   "cell_type": "code",
   "execution_count": 6,
   "id": "9d68f59f-18b2-4797-8543-e4a93e5a375a",
   "metadata": {},
   "outputs": [
    {
     "name": "stdout",
     "output_type": "stream",
     "text": [
      "State=0, prob vec =[0, 0.5, 0, 0, 0, 0, 0, 0, 0, 0, 0, 0, 0, 0, 0, 0.5]\n",
      "State=1, prob vec =[0.5, 0, 0.5, 0, 0, 0, 0, 0, 0, 0, 0, 0, 0, 0, 0, 0]\n",
      "State=2, prob vec =[0, 0.5, 0, 0.5, 0, 0, 0, 0, 0, 0, 0, 0, 0, 0, 0, 0]\n",
      "State=3, prob vec =[0, 0, 0.5, 0, 0.5, 0, 0, 0, 0, 0, 0, 0, 0, 0, 0, 0]\n",
      "State=4, prob vec =[0, 0, 0, 0.5, 0, 0.5, 0, 0, 0, 0, 0, 0, 0, 0, 0, 0]\n",
      "State=5, prob vec =[0, 0, 0, 0, 0.5, 0, 0.5, 0, 0, 0, 0, 0, 0, 0, 0, 0]\n",
      "State=6, prob vec =[0, 0, 0, 0, 0, 0.5, 0, 0.5, 0, 0, 0, 0, 0, 0, 0, 0]\n",
      "State=7, prob vec =[0, 0, 0, 0, 0, 0, 0.5, 0, 0.5, 0, 0, 0, 0, 0, 0, 0]\n",
      "State=8, prob vec =[0, 0, 0, 0, 0, 0, 0, 0.5, 0, 0.5, 0, 0, 0, 0, 0, 0]\n",
      "State=9, prob vec =[0, 0, 0, 0, 0, 0, 0, 0, 0.5, 0, 0.5, 0, 0, 0, 0, 0]\n",
      "State=10, prob vec =[0, 0, 0, 0, 0, 0, 0, 0, 0, 0.5, 0, 0.5, 0, 0, 0, 0]\n",
      "State=11, prob vec =[0, 0, 0, 0, 0, 0, 0, 0, 0, 0, 0.5, 0, 0.5, 0, 0, 0]\n",
      "State=12, prob vec =[0, 0, 0, 0, 0, 0, 0, 0, 0, 0, 0, 0.5, 0, 0.5, 0, 0]\n",
      "State=13, prob vec =[0, 0, 0, 0, 0, 0, 0, 0, 0, 0, 0, 0, 0.5, 0, 0.5, 0]\n",
      "State=14, prob vec =[0, 0, 0, 0, 0, 0, 0, 0, 0, 0, 0, 0, 0, 0.5, 0, 0.5]\n",
      "State=15, prob vec =[0.5, 0, 0, 0, 0, 0, 0, 0, 0, 0, 0, 0, 0, 0, 0.5, 0]\n",
      "Opening: https://platform.classiq.io/circuit/dd189b47-1122-4ffb-b811-5d219a424774?version=0.43.3\n"
     ]
    }
   ],
   "source": [
    "nodes = 16 # \n",
    "size = 4 # aka number of qubits used for n nodes: log(16) = 4\n",
    "\n",
    "@qfunc \n",
    "def main(vertices:Output[QNum], adjacent_vertices:Output[QNum]):\n",
    "\n",
    "  allocate(size,vertices)\n",
    "  hadamard_transform(vertices)\n",
    "  allocate(size,adjacent_vertices)\n",
    "\n",
    "  W_operator(vertices,adjacent_vertices)\n",
    "  S_operator(vertices,adjacent_vertices)\n",
    "\n",
    "qmod = create_model(main)\n",
    "qprog = synthesize(qmod)\n",
    "show(qprog)"
   ]
  },
  {
   "cell_type": "markdown",
   "id": "ae34a40b-54ac-4eca-8a02-94bb3dddba58",
   "metadata": {},
   "source": [
    "![nodes 16](nodes_16.jpg)"
   ]
  },
  {
   "cell_type": "markdown",
   "id": "5e40762f-a4eb-4a50-8dd2-571d50e13249",
   "metadata": {},
   "source": [
    "# References\n",
    "\n",
    "[1] https://www.mit.edu/~kardar/teaching/projects/chemotaxis(AndreaSchmidt)/random.htm\n",
    "\n",
    "[2] https://www.math.ucla.edu/~biskup/PDFs/PCMI/PCMI-notes-1\n",
    "\n",
    "[3] https://arxiv.org/abs/1201.4780"
   ]
  },
  {
   "cell_type": "code",
   "execution_count": null,
   "id": "6788e94c-be23-4492-885d-1286624d9fb2",
   "metadata": {},
   "outputs": [],
   "source": []
  }
 ],
 "metadata": {
  "kernelspec": {
   "display_name": "classiq",
   "language": "python",
   "name": "classiq"
  },
  "language_info": {
   "codemirror_mode": {
    "name": "ipython",
    "version": 3
   },
   "file_extension": ".py",
   "mimetype": "text/x-python",
   "name": "python",
   "nbconvert_exporter": "python",
   "pygments_lexer": "ipython3",
   "version": "3.11.5"
  }
 },
 "nbformat": 4,
 "nbformat_minor": 5
}
