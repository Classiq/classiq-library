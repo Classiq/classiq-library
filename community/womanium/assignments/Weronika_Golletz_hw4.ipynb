{
 "cells": [
  {
   "cell_type": "markdown",
   "metadata": {},
   "source": [
    "# 6.12 Assignment: Advanced Algorithms Design\n",
    "\n",
    "Design the quantum walk operator for the case of a line with 16 modes.\n",
    "\n"
   ]
  },
  {
   "cell_type": "markdown",
   "metadata": {},
   "source": [
    "**Short description of a graph:**\n",
    "\n",
    "The described structure is a path graph consisting of 16 nodes aligned sequentially and linked in a linear topology. Each vertex connects to its immediate adjacent vertices, creating a series of edges \n",
    "(0,1),(1,2),…,(14,15)."
   ]
  },
  {
   "attachments": {
    "image.png": {
     "image/png": "[encoded data removed]"
    }
   },
   "cell_type": "markdown",
   "metadata": {},
   "source": [
    "![image.png](attachment:image.png)"
   ]
  },
  {
   "cell_type": "markdown",
   "metadata": {},
   "source": [
    "### Quantum walk algorithms: short introduction\n",
    "\n",
    "Quantum walk algorithms are the quantum analogs of classical random walks and serve as fundamental building blocks in the design of quantum algorithms. In quantum computing, these algorithms exploit quantum superposition and entanglement to explore multiple paths simultaneously, significantly accelerating tasks like search algorithms and graph traversal. This capability allows quantum walks to perform certain computations much faster than their classical counterparts, providing a potential edge in solving complex computational problems.\n",
    "\n",
    "In the code below, we focus on two major steps of the quantum walk algorithm (discrete-time):\n",
    "1. Coin Operation: Apply a coin operator to the coin register. This quantum operation creates a combination of possible directions in which the walker can move. We will use the C operator to describe the movement probabilities.\n",
    "\n",
    "2. Shift Operation: Apply a shift operator to the walker's position based on the state of the coin register. This operator moves the walker to new positions depending on the current state of the coin register. The quantum walker evolves under this shift operator, leading to a spread over the graph or structure that the algorithm is exploring. We will use the S operato to execute the movement.\n",
    "\n",
    "One step of discrete-time quantum walk is describe by the unitary operator SC.\n"
   ]
  },
  {
   "cell_type": "code",
   "execution_count": 1,
   "metadata": {},
   "outputs": [],
   "source": [
    "from classiq import *"
   ]
  },
  {
   "cell_type": "markdown",
   "metadata": {},
   "source": [
    "## Coin operator\n",
    "\n",
    "$$ C := \\sum_{j\\in V} |j\\rangle\\langle j| \\otimes (2|\\partial_j\\rangle \\langle \\partial_j| - \\mathbb{1}) $$\n",
    "\n",
    "\n",
    "### Phase kickback\n",
    "let us assume that we know the $U_j$ operator that creates the state $|\\partial_j\\rangle$, i.e. $U_j |0 \\rangle = |\\partial_j\\rangle$.\n",
    "\n",
    "Then $(2|\\partial_j\\rangle \\langle \\partial_j| - \\mathbb{1}) = U_j (2 |0\\rangle\\langle 0| - \\mathbb{1})U_j^{\\dagger}$, where in the braket is the phase kickback (quantum primitieves) encoded:\n",
    "\n",
    "$$ (2 |0\\rangle\\langle0| - \\mathbb{1})|x\\rangle = (-1)^{x\\neq 0 } |x \\rangle $$"
   ]
  },
  {
   "cell_type": "code",
   "execution_count": 8,
   "metadata": {},
   "outputs": [],
   "source": [
    "### Implementing of the phase kickback\n",
    "\n",
    "# Prepare the |-> state\n",
    "@qfunc\n",
    "def prepare_minus(x: QBit):\n",
    "  X(x)\n",
    "  H(x)\n",
    "\n",
    "# Check the phase\n",
    "@qfunc\n",
    "def diffuzer_oracle(aux: Output[QNum],x:QNum):\n",
    "  aux^=(x!=0)\n",
    "  \n",
    "# Apply phase kickback\n",
    "@qfunc\n",
    "def zero_diffuzer(x: QNum):\n",
    "  aux = QNum('aux')\n",
    "  allocate(1,aux)\n",
    "  within_apply(compute=lambda: prepare_minus(aux),\n",
    "              action=lambda: diffuzer_oracle)"
   ]
  },
  {
   "cell_type": "markdown",
   "metadata": {},
   "source": [
    "### Define a C  (coin) operator\n",
    "\n",
    "\n",
    "\n"
   ]
  },
  {
   "cell_type": "code",
   "execution_count": 60,
   "metadata": {},
   "outputs": [],
   "source": [
    "# Prepare a C operator; |j><j| - U_j(2|0><0|-1)U_j^dagger\n",
    "def W_iteration(i:int,vertices: QNum, adjacent_vertices:QNum):\n",
    "    nodes = 2**size\n",
    "    prob = [0]*nodes\n",
    "    if i == 0:\n",
    "       prob[i+1] = 1\n",
    "    elif i == (nodes-1):\n",
    "       prob[nodes-2] = 1\n",
    "    else:\n",
    "       prob[i-1] = 0.5\n",
    "       prob[i+1] = 0.5\n",
    "    print(f'State={i}, prob vec ={prob}')\n",
    "    \n",
    "    control(ctrl=vertices==i,\n",
    "            operand=lambda: within_apply(\n",
    "              compute= lambda: inplace_prepare_state(probabilities=prob, bound=0.01, target=adjacent_vertices),\n",
    "              action= lambda: zero_diffuzer(adjacent_vertices)))\n",
    "\n",
    "# Apply the C operator to all vertices; sum_{j in V} W_iteration\n",
    "@qfunc \n",
    "def W_operator(vertices:QNum, adjacent_vertices: QNum):\n",
    "    for i in range(2**size):\n",
    "      W_iteration(i,vertices,adjacent_vertices)"
   ]
  },
  {
   "cell_type": "markdown",
   "metadata": {},
   "source": [
    "### Shift operator\n",
    "\n",
    "$$S : = \\sum_{(j,k)\\in E} |j,k \\rangle \\langle k,j| $$\n",
    "\n",
    "Connections for 1D chain without periodic boundary conditions:\n",
    "1. The first node and the last have just one connection, 0-1 and 14-15, respectively,\n",
    "for system with 16 nodes.\n",
    "2. Each node between the first and last has two connections, (i-1)-i and i-(i+1)."
   ]
  },
  {
   "cell_type": "code",
   "execution_count": 61,
   "metadata": {},
   "outputs": [],
   "source": [
    "# Swap the QArray bit by bit |j,k><k,j|\n",
    "@qfunc \n",
    "def bitwise_swap(x: QArray[QBit], y:QArray[QBit]):\n",
    "  repeat(count= x.len,\n",
    "    iteration= lambda i: SWAP(x[i],y[i]))\n",
    "\n",
    "# Check if two vertices are adjacent; if (j,k) in E\n",
    "# if yes then return 1, otherwize return 0\n",
    "@qfunc\n",
    "def edge_oracle(res:Output[QBit], vertices: QNum, adjacent_vertices: QNum):\n",
    "  res |= ((vertices + 1 == adjacent_vertices) | (vertices - 1 == adjacent_vertices))\n",
    "\n",
    "# Apply S operator\n",
    "@qfunc \n",
    "def S_operator(vertices:QNum, adjacent_vertices: QNum):\n",
    "  res = QNum('res')\n",
    "  edge_oracle(res,vertices,adjacent_vertices)\n",
    "  control(ctrl= res==1,\n",
    "    operand= lambda: bitwise_swap(vertices,adjacent_vertices))"
   ]
  },
  {
   "cell_type": "markdown",
   "metadata": {},
   "source": [
    "### Main function: C operator + S operator\n",
    "\n",
    "Start by initialize the walker in a superoposition of all possible states: |0>,|1>,...,|15>. Then apply the coin operator and shift operator. This two functions together constitude a one step in the quantum walk algorithm."
   ]
  },
  {
   "cell_type": "code",
   "execution_count": 64,
   "metadata": {},
   "outputs": [
    {
     "name": "stdout",
     "output_type": "stream",
     "text": [
      "State=0, prob vec =[0, 1, 0, 0, 0, 0, 0, 0, 0, 0, 0, 0, 0, 0, 0, 0]\n",
      "State=1, prob vec =[0.5, 0, 0.5, 0, 0, 0, 0, 0, 0, 0, 0, 0, 0, 0, 0, 0]\n",
      "State=2, prob vec =[0, 0.5, 0, 0.5, 0, 0, 0, 0, 0, 0, 0, 0, 0, 0, 0, 0]\n",
      "State=3, prob vec =[0, 0, 0.5, 0, 0.5, 0, 0, 0, 0, 0, 0, 0, 0, 0, 0, 0]\n",
      "State=4, prob vec =[0, 0, 0, 0.5, 0, 0.5, 0, 0, 0, 0, 0, 0, 0, 0, 0, 0]\n",
      "State=5, prob vec =[0, 0, 0, 0, 0.5, 0, 0.5, 0, 0, 0, 0, 0, 0, 0, 0, 0]\n",
      "State=6, prob vec =[0, 0, 0, 0, 0, 0.5, 0, 0.5, 0, 0, 0, 0, 0, 0, 0, 0]\n",
      "State=7, prob vec =[0, 0, 0, 0, 0, 0, 0.5, 0, 0.5, 0, 0, 0, 0, 0, 0, 0]\n",
      "State=8, prob vec =[0, 0, 0, 0, 0, 0, 0, 0.5, 0, 0.5, 0, 0, 0, 0, 0, 0]\n",
      "State=9, prob vec =[0, 0, 0, 0, 0, 0, 0, 0, 0.5, 0, 0.5, 0, 0, 0, 0, 0]\n",
      "State=10, prob vec =[0, 0, 0, 0, 0, 0, 0, 0, 0, 0.5, 0, 0.5, 0, 0, 0, 0]\n",
      "State=11, prob vec =[0, 0, 0, 0, 0, 0, 0, 0, 0, 0, 0.5, 0, 0.5, 0, 0, 0]\n",
      "State=12, prob vec =[0, 0, 0, 0, 0, 0, 0, 0, 0, 0, 0, 0.5, 0, 0.5, 0, 0]\n",
      "State=13, prob vec =[0, 0, 0, 0, 0, 0, 0, 0, 0, 0, 0, 0, 0.5, 0, 0.5, 0]\n",
      "State=14, prob vec =[0, 0, 0, 0, 0, 0, 0, 0, 0, 0, 0, 0, 0, 0.5, 0, 0.5]\n",
      "State=15, prob vec =[0, 0, 0, 0, 0, 0, 0, 0, 0, 0, 0, 0, 0, 0, 1, 0]\n",
      "Opening: https://platform.classiq.io/circuit/6691eae1-7316-4e9d-80f5-d8fa88e4122a?version=0.43.3\n"
     ]
    }
   ],
   "source": [
    "size = 4 # we need 4 qubits to simulate a graph with 16 nodes; 2^4=16\n",
    "\n",
    "@qfunc \n",
    "def main(vertices:Output[QNum], adjacent_vertices:Output[QNum]):\n",
    "\n",
    "  allocate(size,vertices)\n",
    "  hadamard_transform(vertices)\n",
    "  allocate(size,adjacent_vertices)\n",
    "\n",
    "  W_operator(vertices,adjacent_vertices) # apply coin operator\n",
    "  S_operator(vertices,adjacent_vertices) # apply shift operator\n",
    "\n",
    "qmod = create_model(main)\n",
    "qprog = synthesize(qmod)\n",
    "show(qprog)"
   ]
  }
 ],
 "metadata": {
  "kernelspec": {
   "display_name": "Classiq",
   "language": "python",
   "name": "python3"
  },
  "language_info": {
   "codemirror_mode": {
    "name": "ipython",
    "version": 3
   },
   "file_extension": ".py",
   "mimetype": "text/x-python",
   "name": "python",
   "nbconvert_exporter": "python",
   "pygments_lexer": "ipython3",
   "version": "3.10.14"
  }
 },
 "nbformat": 4,
 "nbformat_minor": 2
}
