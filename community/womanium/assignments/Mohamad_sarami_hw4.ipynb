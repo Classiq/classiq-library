{
  "cells": [
    {
      "cell_type": "code",
      "source": [
        "%%capture\n",
        "!pip install classiq"
      ],
      "metadata": {
        "id": "bbL4RbMoWd0c"
      },
      "id": "bbL4RbMoWd0c",
      "execution_count": 17,
      "outputs": []
    },
    {
      "cell_type": "code",
      "source": [
        "import classiq\n",
        "classiq.authenticate()"
      ],
      "metadata": {
        "id": "a-r8gY88Ww4W"
      },
      "id": "a-r8gY88Ww4W",
      "execution_count": null,
      "outputs": []
    },
    {
      "cell_type": "code",
      "source": [
        "@qfunc\n",
        "def prepare_minus(x: QBit):\n",
        "    X(x)\n",
        "    H(x)\n",
        "\n",
        "@qfunc\n",
        "def diffuzer(aux: Output[QNum],x:QNum):\n",
        "    aux^=(x!=0)\n",
        "\n",
        "@qfunc\n",
        "def zero_diffuzer(x: QNum):\n",
        "    aux = QNum('aux')\n",
        "    allocate(1,aux)\n",
        "    within_apply(compute=lambda: prepare_minus(aux),\n",
        "              action=lambda: diffuzer)"
      ],
      "metadata": {
        "id": "4BiX94ryZet1"
      },
      "id": "4BiX94ryZet1",
      "execution_count": 19,
      "outputs": []
    },
    {
      "cell_type": "code",
      "execution_count": 26,
      "id": "c7b1ea75-86f0-4011-8dee-9297dddf0f9c",
      "metadata": {
        "id": "c7b1ea75-86f0-4011-8dee-9297dddf0f9c"
      },
      "outputs": [],
      "source": [
        "def C_iteration(i:int,vertices: QNum, adjacent_vertices:QNum):\n",
        "\n",
        "    prob = [0]*16\n",
        "    if i == 0:\n",
        "        prob[i + 1] = 1.0\n",
        "    elif i == 15:\n",
        "        prob[i - 1] = 1.0\n",
        "    else:\n",
        "        prob[i - 1] = 0.5\n",
        "        prob[i + 1] = 0.5\n",
        "\n",
        "    print(f'Node:{i}= {prob}')\n",
        "\n",
        "    control(ctrl=vertices==i,\n",
        "            operand=lambda: within_apply(\n",
        "              compute= lambda: inplace_prepare_state(probabilities=prob, bound=0.01, target=adjacent_vertices),\n",
        "              action= lambda: zero_diffuzer(adjacent_vertices)))\n",
        "\n",
        "@qfunc\n",
        "def C_operator(vertices:QNum, adjacent_vertices: QNum):\n",
        "\n",
        "    for i in range(16):\n",
        "        C_iteration(i,vertices,adjacent_vertices)"
      ]
    },
    {
      "cell_type": "code",
      "execution_count": 21,
      "id": "737ab6a4-4593-40ea-b91e-17582a6ccb52",
      "metadata": {
        "id": "737ab6a4-4593-40ea-b91e-17582a6ccb52"
      },
      "outputs": [],
      "source": [
        "@qfunc\n",
        "def oracle(res:Output[QBit], vertices: QNum, adjacent_vertices: QNum):\n",
        "\n",
        "    res |= (((vertices - adjacent_vertices) == 1) | ((vertices - adjacent_vertices) == -1))\n",
        "\n",
        "@qfunc\n",
        "def bitwise_swap(x: QArray[QBit], y:QArray[QBit]):\n",
        "    repeat(count= x.len,\n",
        "           iteration= lambda i: SWAP(x[i],y[i]))\n",
        "\n",
        "@qfunc\n",
        "def S_operator(vertices:QNum, adjacent_vertices: QNum):\n",
        "    res = QNum('res')\n",
        "    oracle(res,vertices,adjacent_vertices)\n",
        "    control(ctrl= res==1,\n",
        "        operand= lambda: bitwise_swap(vertices,adjacent_vertices))"
      ]
    },
    {
      "cell_type": "code",
      "execution_count": 22,
      "id": "93e1336e-7132-4ce7-826f-57e7a00935ac",
      "metadata": {
        "id": "93e1336e-7132-4ce7-826f-57e7a00935ac"
      },
      "outputs": [],
      "source": [
        "@qfunc\n",
        "def main(vertices:Output[QNum], adjacent_vertices:Output[QNum]):\n",
        "\n",
        "    allocate(4, vertices)\n",
        "    hadamard_transform(vertices)\n",
        "    allocate(4, adjacent_vertices)\n",
        "\n",
        "    C_operator(vertices, adjacent_vertices)\n",
        "    S_operator(vertices, adjacent_vertices)"
      ]
    },
    {
      "cell_type": "code",
      "execution_count": 27,
      "id": "82aa8231-0d4f-41f0-8d87-d81a2e3ab708",
      "metadata": {
        "id": "82aa8231-0d4f-41f0-8d87-d81a2e3ab708",
        "outputId": "70d9db38-4059-473b-bb7a-68f6cec2beea",
        "colab": {
          "base_uri": "https://localhost:8080/"
        }
      },
      "outputs": [
        {
          "output_type": "stream",
          "name": "stdout",
          "text": [
            "Node:0= [0, 1.0, 0, 0, 0, 0, 0, 0, 0, 0, 0, 0, 0, 0, 0, 0]\n",
            "Node:1= [0.5, 0, 0.5, 0, 0, 0, 0, 0, 0, 0, 0, 0, 0, 0, 0, 0]\n",
            "Node:2= [0, 0.5, 0, 0.5, 0, 0, 0, 0, 0, 0, 0, 0, 0, 0, 0, 0]\n",
            "Node:3= [0, 0, 0.5, 0, 0.5, 0, 0, 0, 0, 0, 0, 0, 0, 0, 0, 0]\n",
            "Node:4= [0, 0, 0, 0.5, 0, 0.5, 0, 0, 0, 0, 0, 0, 0, 0, 0, 0]\n",
            "Node:5= [0, 0, 0, 0, 0.5, 0, 0.5, 0, 0, 0, 0, 0, 0, 0, 0, 0]\n",
            "Node:6= [0, 0, 0, 0, 0, 0.5, 0, 0.5, 0, 0, 0, 0, 0, 0, 0, 0]\n",
            "Node:7= [0, 0, 0, 0, 0, 0, 0.5, 0, 0.5, 0, 0, 0, 0, 0, 0, 0]\n",
            "Node:8= [0, 0, 0, 0, 0, 0, 0, 0.5, 0, 0.5, 0, 0, 0, 0, 0, 0]\n",
            "Node:9= [0, 0, 0, 0, 0, 0, 0, 0, 0.5, 0, 0.5, 0, 0, 0, 0, 0]\n",
            "Node:10= [0, 0, 0, 0, 0, 0, 0, 0, 0, 0.5, 0, 0.5, 0, 0, 0, 0]\n",
            "Node:11= [0, 0, 0, 0, 0, 0, 0, 0, 0, 0, 0.5, 0, 0.5, 0, 0, 0]\n",
            "Node:12= [0, 0, 0, 0, 0, 0, 0, 0, 0, 0, 0, 0.5, 0, 0.5, 0, 0]\n",
            "Node:13= [0, 0, 0, 0, 0, 0, 0, 0, 0, 0, 0, 0, 0.5, 0, 0.5, 0]\n",
            "Node:14= [0, 0, 0, 0, 0, 0, 0, 0, 0, 0, 0, 0, 0, 0.5, 0, 0.5]\n",
            "Node:15= [0, 0, 0, 0, 0, 0, 0, 0, 0, 0, 0, 0, 0, 0, 1.0, 0]\n",
            "Opening: https://platform.classiq.io/circuit/8b0135f7-b85c-4599-b9e9-f5dfc4f16239?version=0.43.3\n"
          ]
        }
      ],
      "source": [
        "qmod = create_model(main)\n",
        "qprog = synthesize(qmod)\n",
        "show(qprog)"
      ]
    }
  ],
  "metadata": {
    "kernelspec": {
      "display_name": "Python 3 (ipykernel)",
      "language": "python",
      "name": "python3"
    },
    "language_info": {
      "codemirror_mode": {
        "name": "ipython",
        "version": 3
      },
      "file_extension": ".py",
      "mimetype": "text/x-python",
      "name": "python",
      "nbconvert_exporter": "python",
      "pygments_lexer": "ipython3",
      "version": "3.10.14"
    },
    "colab": {
      "provenance": []
    }
  },
  "nbformat": 4,
  "nbformat_minor": 5
}