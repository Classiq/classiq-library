{
 "cells": [
  {
   "cell_type": "markdown",
   "id": "9493486c-5606-4df3-81bd-9d9ff696ad98",
   "metadata": {},
   "source": [
    "Importing Libraries"
   ]
  },
  {
   "cell_type": "code",
   "execution_count": 5,
   "id": "e6c56ce1-cafa-40c4-9665-2b4871f8d8db",
   "metadata": {},
   "outputs": [],
   "source": [
    "from classiq import *"
   ]
  },
  {
   "cell_type": "code",
   "execution_count": 6,
   "id": "bcfaa18e-9810-4e97-87ff-3a70b09cc810",
   "metadata": {},
   "outputs": [],
   "source": [
    "from classiq.qmod.symbolic import logical_or\n",
    "from classiq.execution import ExecutionPreferences"
   ]
  },
  {
   "cell_type": "markdown",
   "id": "396b945c-e3c4-4352-bc71-5ed2b291f76a",
   "metadata": {},
   "source": [
    "4 qubits are needed to represent 16 nodes"
   ]
  },
  {
   "cell_type": "code",
   "execution_count": 7,
   "id": "f956a7dd-c383-4797-89fb-d475e4cdd815",
   "metadata": {},
   "outputs": [],
   "source": [
    "size = 4 \n",
    "num_nodes = 2**size "
   ]
  },
  {
   "cell_type": "markdown",
   "id": "e5384f64-2b63-42f2-b38b-4fd17e0dbbab",
   "metadata": {},
   "source": [
    "\n",
    "Consider a graph (line) with total 16 nodes or vertices denoted as V and edges with only the adjacent one E.\n",
    "\n",
    "To simulate a quantum walk on a general graph, the state $|j,k⟩$ needs to be acted upon by $SC$ operators. The C operator is,\n",
    "$C = \\sum_{j \\in V} |j⟩⟨j| \\otimes \\left( 2 |∂_j⟩ ⟨∂_j| - I\\right) $\n",
    "with $|∂_j⟩ = \\frac{1}{deg(j)} \\sum_{k :(j,k)\\in E} |k⟩$,\n",
    "where deg(j) = number of adjacent vertices to the vertex $j$. So, in our setting, except for the end vertices (0,15), all vertices have deg(j) =1/2.\n",
    "\n",
    "For the implementation of C operator, phase kickback it used, notice\n",
    "$2 |∂_j⟩ ⟨∂_j| - I = U_j \\left(2 |0⟩⟨0| - I \\right)U_j^{†}.$\n",
    "Here $P = 2 |0⟩⟨0| - I $ when acts on any state it behaves as a phase kickback operator,\n",
    "$\\left(2 |0⟩⟨0| - I\\right) |x⟩ = (-1)^{x \\neq 0} |x⟩$.\n",
    "The below code implements the needed phase kickback operator $P$.\n"
   ]
  },
  {
   "cell_type": "code",
   "execution_count": 8,
   "id": "1c291fce-4df7-4ac0-afe7-caeb003254be",
   "metadata": {},
   "outputs": [],
   "source": [
    "@qfunc\n",
    "def prepare_minus(x: QBit):\n",
    "  X(x)\n",
    "  H(x)\n",
    "\n",
    "\n",
    "@qfunc\n",
    "def diffuzer_oracle(aux: Output[QNum],x:QNum):\n",
    "  aux^=(x!=0)\n",
    "\n",
    "\n",
    "@qfunc\n",
    "def zero_diffuzer(x: QNum):\n",
    "  aux = QNum('aux')\n",
    "  allocate(1,aux)\n",
    "  within_apply(compute=lambda: prepare_minus(aux),\n",
    "              action=lambda: diffuzer_oracle)"
   ]
  },
  {
   "cell_type": "markdown",
   "id": "2bde85e7-2f04-45a7-a8ac-df0654dd4ce6",
   "metadata": {},
   "source": [
    "As per the explanation above, C or W_operator is implemented here.\n",
    "\n",
    "The C operator is,\n",
    "$C = \\sum_{j \\in V} |j⟩⟨j| \\otimes \\left( 2 |∂_j⟩ ⟨∂_j| - I\\right) $\n",
    "with $|∂_j⟩ = \\frac{1}{deg(j)} \\sum_{k :(j,k)\\in E} |k⟩$,\n",
    "where deg(j) = number of adjacent vertices to the vertex $j$. So, in our setting, except for the end vertices (0,15), all vertices have deg(j) =1/2.\n",
    "\n",
    "\n",
    "Here, $U_j P U_j^{†}$ is implemented, where $prob$ is used to capture the effect of operator U as $U|0⟩$, throguh inplace_prepare_state.\n",
    "\n",
    "And within_apply this $U_j P U_j^{†}$ is finally captured."
   ]
  },
  {
   "cell_type": "code",
   "execution_count": 9,
   "id": "372030bb-22c1-4449-bb60-f9f736c31eaa",
   "metadata": {},
   "outputs": [],
   "source": [
    "def C_iteration(i:int,vertices: QNum, adjacent_vertices:QNum):\n",
    "    \n",
    "    num_nodes = 2**4\n",
    "    prob = [0]*num_nodes  \n",
    "    if i == 0:\n",
    "        prob[i + 1] = 1.0 \n",
    "    elif i == num_nodes - 1:\n",
    "        prob[i - 1] = 1.0 \n",
    "    else:\n",
    "        prob[i - 1] = 0.5  \n",
    "        prob[i + 1] = 0.5  \n",
    "    print(f'Node={i}, prob vec ={prob}')\n",
    "    control(ctrl=vertices==i,\n",
    "            operand=lambda: within_apply(\n",
    "              compute= lambda: inplace_prepare_state(probabilities=prob, bound=0.01, target=adjacent_vertices),\n",
    "              action= lambda: zero_diffuzer(adjacent_vertices)))\n",
    "\n",
    "@qfunc \n",
    "def C_operator(vertices:QNum, adjacent_vertices: QNum):\n",
    "    \n",
    "    num_nodes = 2**4\n",
    "    for i in range(num_nodes):\n",
    "        C_iteration(i,vertices,adjacent_vertices)\n",
    "\n",
    "\n"
   ]
  },
  {
   "cell_type": "markdown",
   "id": "c0b1b78b-625c-45d1-b0c7-3438d99e042e",
   "metadata": {},
   "source": [
    "Now the operator S is just bitwise swap. But requires the details of the edges of the graph. Note that this graph is a simple path or line. So the edge exists if $j-k =1 $ or $j-k =-1$, this is captured in res, in the edge_oracle.\n",
    "\n",
    "The S operator has the form,\n",
    "$S = \\sum_{(j,k)\\in E} |j,k⟩\\langle k,j| $."
   ]
  },
  {
   "cell_type": "code",
   "execution_count": 10,
   "id": "a086dde9-761b-4cbb-bcbf-7fc70f5fc300",
   "metadata": {},
   "outputs": [],
   "source": [
    "@qfunc\n",
    "def edge_oracle(res:Output[QBit], vertices: QNum, adjacent_vertices: QNum):\n",
    "  res |= (((vertices - adjacent_vertices) == 1) | ((vertices - adjacent_vertices) == -1))\n",
    "\n",
    "\n",
    "@qfunc \n",
    "def bitwise_swap(x: QArray[QBit], y:QArray[QBit]):\n",
    "  repeat(count= x.len,\n",
    "    iteration= lambda i: SWAP(x[i],y[i]))\n",
    "  \n",
    "\n",
    "@qfunc \n",
    "def S_operator(vertices:QNum, adjacent_vertices: QNum):\n",
    "    res = QNum('res')\n",
    "    edge_oracle(res,vertices,adjacent_vertices)\n",
    "    control(ctrl= res==1,\n",
    "        operand= lambda: bitwise_swap(vertices,adjacent_vertices))\n",
    "\n"
   ]
  },
  {
   "cell_type": "markdown",
   "id": "6fdabb33-9f06-44bf-ba6a-4e395e148067",
   "metadata": {},
   "source": [
    "Here, in the main qfunc, vertices and adjacent_vertices are initailised, followed by other steps to implement H on vertices and then W and S operators"
   ]
  },
  {
   "cell_type": "code",
   "execution_count": 11,
   "id": "a6b40bcb-a39b-4718-a3bc-ebe3fffbd5e2",
   "metadata": {},
   "outputs": [],
   "source": [
    "@qfunc \n",
    "def main(vertices:Output[QNum], adjacent_vertices:Output[QNum]):\n",
    "    size = 4\n",
    "    allocate(size, vertices)  # Allocate qubits for vertices\n",
    "    hadamard_transform(vertices)  # Apply Hadamard transform to initialize superposition\n",
    "    allocate(size, adjacent_vertices)  # Allocate qubits for adjacent vertices\n",
    "\n",
    "    C_operator(vertices, adjacent_vertices)  # Apply coin operator\n",
    "    S_operator(vertices, adjacent_vertices)  # Apply shift operator"
   ]
  },
  {
   "cell_type": "code",
   "execution_count": 13,
   "id": "b384feb7-5d5f-45eb-b8f9-5526b705698d",
   "metadata": {},
   "outputs": [
    {
     "name": "stdout",
     "output_type": "stream",
     "text": [
      "Node=0, prob vec =[0, 1.0, 0, 0, 0, 0, 0, 0, 0, 0, 0, 0, 0, 0, 0, 0]\n",
      "Node=1, prob vec =[0.5, 0, 0.5, 0, 0, 0, 0, 0, 0, 0, 0, 0, 0, 0, 0, 0]\n",
      "Node=2, prob vec =[0, 0.5, 0, 0.5, 0, 0, 0, 0, 0, 0, 0, 0, 0, 0, 0, 0]\n",
      "Node=3, prob vec =[0, 0, 0.5, 0, 0.5, 0, 0, 0, 0, 0, 0, 0, 0, 0, 0, 0]\n",
      "Node=4, prob vec =[0, 0, 0, 0.5, 0, 0.5, 0, 0, 0, 0, 0, 0, 0, 0, 0, 0]\n",
      "Node=5, prob vec =[0, 0, 0, 0, 0.5, 0, 0.5, 0, 0, 0, 0, 0, 0, 0, 0, 0]\n",
      "Node=6, prob vec =[0, 0, 0, 0, 0, 0.5, 0, 0.5, 0, 0, 0, 0, 0, 0, 0, 0]\n",
      "Node=7, prob vec =[0, 0, 0, 0, 0, 0, 0.5, 0, 0.5, 0, 0, 0, 0, 0, 0, 0]\n",
      "Node=8, prob vec =[0, 0, 0, 0, 0, 0, 0, 0.5, 0, 0.5, 0, 0, 0, 0, 0, 0]\n",
      "Node=9, prob vec =[0, 0, 0, 0, 0, 0, 0, 0, 0.5, 0, 0.5, 0, 0, 0, 0, 0]\n",
      "Node=10, prob vec =[0, 0, 0, 0, 0, 0, 0, 0, 0, 0.5, 0, 0.5, 0, 0, 0, 0]\n",
      "Node=11, prob vec =[0, 0, 0, 0, 0, 0, 0, 0, 0, 0, 0.5, 0, 0.5, 0, 0, 0]\n",
      "Node=12, prob vec =[0, 0, 0, 0, 0, 0, 0, 0, 0, 0, 0, 0.5, 0, 0.5, 0, 0]\n",
      "Node=13, prob vec =[0, 0, 0, 0, 0, 0, 0, 0, 0, 0, 0, 0, 0.5, 0, 0.5, 0]\n",
      "Node=14, prob vec =[0, 0, 0, 0, 0, 0, 0, 0, 0, 0, 0, 0, 0, 0.5, 0, 0.5]\n",
      "Node=15, prob vec =[0, 0, 0, 0, 0, 0, 0, 0, 0, 0, 0, 0, 0, 0, 1.0, 0]\n"
     ]
    },
    {
     "name": "stderr",
     "output_type": "stream",
     "text": [
      "/var/folders/v4/gng44qs519q3hzsgrnlm91d40000gn/T/ipykernel_51676/1207959271.py:13: DeprecationWarning: Parameter 'operand' of function 'control' has been renamed to 'stmt_block'. Parameter 'operand' will be deprecated in a future release.\n",
      "Hint: Change `control(ctrl=..., operand=...)` to `control(ctrl=..., stmt_block=...)` or `control(..., ...)`.\n",
      "  control(ctrl=vertices==i,\n",
      "/var/folders/v4/gng44qs519q3hzsgrnlm91d40000gn/T/ipykernel_51676/1207959271.py:14: DeprecationWarning: Parameters 'compute' and 'action' of function 'within_apply' have been renamed to 'within' and 'apply' respectively. Parameters 'compute' and 'action' will be deprecated in a future release.\n",
      "Hint: Change `within_apply(compute=..., action=...)` to `within_apply(within=..., apply=...)` or `within_apply(..., ...)`.\n",
      "  operand=lambda: within_apply(\n",
      "/var/folders/v4/gng44qs519q3hzsgrnlm91d40000gn/T/ipykernel_51676/4050587547.py:16: DeprecationWarning: Parameters 'compute' and 'action' of function 'within_apply' have been renamed to 'within' and 'apply' respectively. Parameters 'compute' and 'action' will be deprecated in a future release.\n",
      "Hint: Change `within_apply(compute=..., action=...)` to `within_apply(within=..., apply=...)` or `within_apply(..., ...)`.\n",
      "  within_apply(compute=lambda: prepare_minus(aux),\n",
      "/var/folders/v4/gng44qs519q3hzsgrnlm91d40000gn/T/ipykernel_51676/2903667138.py:16: DeprecationWarning: Parameter 'operand' of function 'control' has been renamed to 'stmt_block'. Parameter 'operand' will be deprecated in a future release.\n",
      "Hint: Change `control(ctrl=..., operand=...)` to `control(ctrl=..., stmt_block=...)` or `control(..., ...)`.\n",
      "  control(ctrl= res==1,\n"
     ]
    },
    {
     "name": "stdout",
     "output_type": "stream",
     "text": [
      "Opening: https://platform.classiq.io/circuit/dfeaac9a-d8e3-4417-a78f-ef6ccd246524?version=0.46.0\n"
     ]
    }
   ],
   "source": [
    "qmod = create_model(main)\n",
    "qprog = synthesize(qmod)\n",
    "show(qprog)"
   ]
  },
  {
   "cell_type": "markdown",
   "id": "7b6b4d43-2387-4ed1-808c-9c534db22592",
   "metadata": {},
   "source": [
    "I used the syntax according to the previous version, and hence faced some errors in the end, however the matrix obtained is c"
   ]
  },
  {
   "cell_type": "code",
   "execution_count": null,
   "id": "20a1e3bf-d12a-4ace-8047-a3e4ac71bf48",
   "metadata": {},
   "outputs": [],
   "source": []
  }
 ],
 "metadata": {
  "kernelspec": {
   "display_name": "Python 3 (ipykernel)",
   "language": "python",
   "name": "python3"
  },
  "language_info": {
   "codemirror_mode": {
    "name": "ipython",
    "version": 3
   },
   "file_extension": ".py",
   "mimetype": "text/x-python",
   "name": "python",
   "nbconvert_exporter": "python",
   "pygments_lexer": "ipython3",
   "version": "3.11.9"
  }
 },
 "nbformat": 4,
 "nbformat_minor": 5
}
