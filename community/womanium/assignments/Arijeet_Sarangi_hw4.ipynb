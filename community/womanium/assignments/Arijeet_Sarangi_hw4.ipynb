{
 "cells": [
  {
   "cell_type": "markdown",
   "metadata": {},
   "source": [
    "# Quantum Walk on Line Topology"
   ]
  },
  {
   "cell_type": "markdown",
   "metadata": {},
   "source": [
    "## What is Quantum Walk?\n",
    "\n",
    "A quantum (random) walk is the quantum counterpart of a classical random walk, where the walker (particle) follows a probabilistic path. Quantum random walks can outperform classical random walks in certain computational tasks, such as search algorithms and solving specific mathematical problems more efficiently. They form the basis for some of the most promising quantum algorithms, providing potential speedups for problems that are intractable for classical computers."
   ]
  },
  {
   "cell_type": "markdown",
   "metadata": {},
   "source": [
    "## Objective:\n",
    "\n",
    "The goal of this quantum program is to simulate a quantum random walk on a line topology with 16 nodes."
   ]
  },
  {
   "cell_type": "markdown",
   "metadata": {},
   "source": [
    "In a line topology, the nodes are arranged sequentially, and each node is connected to its immediate neighbors. For example, consider a line of 16 nodes numbered from 0 to 15. In this walk, the walker would move from its current node to an adjacent node (either left or right) with equal probability."
   ]
  },
  {
   "cell_type": "markdown",
   "metadata": {},
   "source": [
    "Image source: Womanium + Quantum AI"
   ]
  },
  {
   "cell_type": "markdown",
   "metadata": {},
   "source": [
    "Let's start by importing our required packages and setting the number of qubits as 4 ($log_2(16)$)"
   ]
  },
  {
   "cell_type": "code",
   "execution_count": 1,
   "metadata": {},
   "outputs": [],
   "source": [
    "from classiq import *\n",
    "from classiq.qmod.symbolic import logical_or\n",
    "from classiq.execution import ExecutionPreferences"
   ]
  },
  {
   "cell_type": "code",
   "execution_count": 3,
   "metadata": {},
   "outputs": [],
   "source": [
    "size = 4 # Number of qubits to represent the vertices (log2 of 16 nodes)\n",
    "num_nodes = 2**size # Total number of nodes (16 nodes)"
   ]
  },
  {
   "cell_type": "markdown",
   "metadata": {},
   "source": [
    "The algorithm will include two major steps:\n",
    "- Coin Operator: determines the walker's movement probabilities\n",
    "- Shift Operator: execute actual movement\n",
    "\n",
    "Let's look at each operator one by one."
   ]
  },
  {
   "cell_type": "markdown",
   "metadata": {},
   "source": [
    "## Coin Operator\n",
    "\n",
    "The coin operator, a quantum analog of flipping a coin, which determines the walker's movement probabilities. The coin operator transforms the walker's state by assigning amplitudes to move left or right from each node. For instance, if the walker is at node 0, the coin operator will set the probability to move to node 1. If the walker is at node 15, it will set the probability to move to node 14. For nodes in between, the probabilities are distributed evenly to move either left or right.\n",
    "\n",
    "For our process, we'll setup the probability based on above discussed idea. We, then, use diffuser oracle to to amplify the probabilities of adjacent nodes."
   ]
  },
  {
   "cell_type": "code",
   "execution_count": 4,
   "metadata": {},
   "outputs": [],
   "source": [
    "# Function to prepare a qubit in the |-> state\n",
    "@qfunc\n",
    "def prepare_minus(x: QBit):\n",
    "    \"\"\"\n",
    "    Prepares a qubit in the |-> state.\n",
    "    \n",
    "    Args:\n",
    "        x (QBit): The qubit to prepare.\n",
    "    \"\"\"\n",
    "    X(x)\n",
    "    H(x)\n",
    "\n",
    "@qfunc\n",
    "def diffuzer_oracle(aux: Output[QNum],x:QNum):\n",
    "    \"\"\"\n",
    "    Implements a diffuser oracle for Grover's algorithm.\n",
    "    \n",
    "    Args:\n",
    "        aux (Output[QNum]): Auxiliary qubit.\n",
    "        x (QNum): QNum representing the node to check.\n",
    "    \"\"\"\n",
    "    aux^=(x!=0)\n",
    "\n",
    "@qfunc\n",
    "def zero_diffuzer(x: QNum):\n",
    "    \"\"\"\n",
    "    Implements the zero diffuser for the quantum walk.\n",
    "    \n",
    "    Args:\n",
    "        x (QNum): QNum representing the current node.\n",
    "    \"\"\"\n",
    "    aux = QNum('aux')\n",
    "    allocate(1,aux)\n",
    "    within_apply(compute=lambda: prepare_minus(aux),\n",
    "              action=lambda: diffuzer_oracle)\n",
    "\n",
    "def C_iteration(i:int,vertices: QNum, adjacent_vertices:QNum):\n",
    "    \"\"\"\n",
    "    Defines the coin operation for the quantum walk.\n",
    "    \n",
    "    Args:\n",
    "        i (int): Current node index.\n",
    "        vertices (QNum): QNum representing the vertices.\n",
    "        adjacent_vertices (QNum): QNum representing the adjacent vertices.\n",
    "    \"\"\"\n",
    "    prob = [0]*num_nodes  # Initialize probability vector for 16 nodes\n",
    "    if i == 0:\n",
    "        prob[i + 1] = 1.0  # If at the first node, move to the right node (node 1)\n",
    "    elif i == num_nodes - 1:\n",
    "        prob[i - 1] = 1.0  # If at the last node, move to the left node (node 14)\n",
    "    else:\n",
    "        prob[i - 1] = 0.5  # Probability of moving to the left node\n",
    "        prob[i + 1] = 0.5  # Probability of moving to the right node\n",
    "    print(f'Node={i}, prob vec ={prob}')\n",
    "    control(ctrl=vertices==i,\n",
    "            operand=lambda: within_apply(\n",
    "              compute= lambda: inplace_prepare_state(probabilities=prob, bound=0.01, target=adjacent_vertices),\n",
    "              action= lambda: zero_diffuzer(adjacent_vertices)))\n",
    "\n",
    "@qfunc \n",
    "def C_operator(vertices:QNum, adjacent_vertices: QNum):\n",
    "    \"\"\"\n",
    "    Applies the coin operator to all vertices.\n",
    "    \n",
    "    Args:\n",
    "        vertices (QNum): QNum representing the vertices.\n",
    "        adjacent_vertices (QNum): QNum representing the adjacent vertices.\n",
    "    \"\"\"\n",
    "    for i in range(num_nodes):\n",
    "        C_iteration(i,vertices,adjacent_vertices)\n"
   ]
  },
  {
   "cell_type": "markdown",
   "metadata": {},
   "source": [
    "The coin operator prepares an adjacent vertex state, which will be utilized by the shift operator. Each node index will undergo the coin operation to set its movement probabilities."
   ]
  },
  {
   "cell_type": "markdown",
   "metadata": {},
   "source": [
    "## Shift Operator\n",
    "\n",
    "The shift operator moves the walker from the current node to an adjacent node based on the probability amplitude assigned by the coin operator. For our line topology, this means moving to the left or right node. \n",
    "\n",
    "Let's define the shift operation."
   ]
  },
  {
   "cell_type": "code",
   "execution_count": 7,
   "metadata": {},
   "outputs": [],
   "source": [
    "# Swap control qubits\n",
    "@qfunc\n",
    "def Swap_control(vertices: QNum, adj_vertices: QNum):\n",
    "    \"\"\"\n",
    "    Swaps the control qubits representing the current node and the adjacent node.\n",
    "    \n",
    "    Args:\n",
    "        vertices (QNum): QNum representing the vertices.\n",
    "        adj_vertices (QNum): QNum representing the adjacent vertices.\n",
    "    \"\"\"\n",
    "    for j in range(len(vertices)):\n",
    "        Swap(vertices[j], adj_vertices[j])\n",
    "\n",
    "@qfunc\n",
    "def shift_operation(vertices:QNum, adj_vertices:QNum):\n",
    "    \"\"\"\n",
    "    Applies the shift operation to all vertices.\n",
    "    \n",
    "    Args:\n",
    "        vertices (QNum): QNum representing the vertices.\n",
    "        adj_vertices (QNum): QNum representing the adjacent vertices.\n",
    "    \"\"\"\n",
    "    for i in range(num_nodes):\n",
    "        control(ctrl=vertices==i, operand= lambda: Swap_control(vertices, adj_vertices))\n"
   ]
  },
  {
   "cell_type": "markdown",
   "metadata": {},
   "source": [
    "The shift operator effectively swaps the walker's position with an adjacent node."
   ]
  },
  {
   "cell_type": "markdown",
   "metadata": {},
   "source": [
    "## Complete Quantum Walk\n",
    "\n",
    "Combining the coin and shift operators, we can now define the quantum walk. We will repeat the coin and shift operations multiple times to simulate the walk over a given number of steps."
   ]
  },
  {
   "cell_type": "code",
   "execution_count": 8,
   "metadata": {},
   "outputs": [],
   "source": [
    "@qfunc\n",
    "def quantum_walk(steps: int):\n",
    "    \"\"\"\n",
    "    Executes a quantum walk on the line topology for a specified number of steps.\n",
    "    \n",
    "    Args:\n",
    "        steps (int): Number of steps to execute the quantum walk.\n",
    "    \"\"\"\n",
    "    vertices = QNum('vertices', size)\n",
    "    adjacent_vertices = QNum('adjacent_vertices', size)\n",
    "    allocate(size, vertices)\n",
    "    allocate(size, adjacent_vertices)\n",
    "\n",
    "    # Initialize the walker to the starting node (node 0)\n",
    "    vertices ^= 0\n",
    "\n",
    "    for _ in range(steps):\n",
    "        C_operator(vertices, adjacent_vertices)\n",
    "        shift_operation(vertices, adjacent_vertices)\n",
    "    return vertices"
   ]
  },
  {
   "cell_type": "markdown",
   "metadata": {},
   "source": [
    "We have defined the quantum walk function which executes the coin and shift operations for a given number of steps. Let's now create the Classiq Model and visualize it."
   ]
  },
  {
   "cell_type": "code",
   "execution_count": 9,
   "metadata": {},
   "outputs": [],
   "source": [
    "# Define the quantum walk model\n",
    "model = ClassiqModel(quantum_walk(steps=10), ExecutionPreferences(visualize=True, circuit_compilation_target='quantinuum_hqs_linq_cloud'))\n",
    "\n",
    "# Visualize the model\n",
    "model.visualize()"
   ]
  },
  {
   "cell_type": "markdown",
   "metadata": {},
   "source": [
    "The quantum walk model is now defined and visualized. The visualization shows the quantum circuit representing the quantum walk on a line topology with 16 nodes."
   ]
  }
 ],
 "metadata": {
  "kernelspec": {
   "display_name": "Python 3",
   "language": "python",
   "name": "python3"
  },
  "language_info": {
   "codemirror_mode": {
    "name": "ipython",
    "version": 3
   },
   "file_extension": ".py",
   "mimetype": "text/x-python",
   "name": "python",
   "nbconvert_exporter": "python",
   "pygments_lexer": "ipython3",
   "version": "3.8.10"
  }
 },
 "nbformat": 4,
 "nbformat_minor": 5
}

