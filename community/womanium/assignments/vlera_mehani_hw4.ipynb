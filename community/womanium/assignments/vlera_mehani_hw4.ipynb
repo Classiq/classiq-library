{
  "metadata": {
    "kernelspec": {
      "name": "python",
      "display_name": "Python (Pyodide)",
      "language": "python"
    },
    "language_info": {
      "name": ""
    }
  },
  "nbformat_minor": 4,
  "nbformat": 4,
  "cells": [
    {
      "cell_type": "markdown",
      "source": "The quantum walk will be implemented using the following components:\n\nState Representation: Each node's state will be represented using quantum bits (qubits).\n\nQuantum Operators: Key operators include the Hadamard transform, which creates superpositions, and the diffusion operator, which amplifies probabilities.\n\nGraph Representation and Initial State\nIn a line graph with N nodes, each node can be represented by a unique index from 0 to N−1. For a quantum walk, the initial state can be a specific node or a superposition of all nodes. I will start with an equal superposition of all 16 nodes.",
      "metadata": {}
    },
    {
      "cell_type": "code",
      "source": "size = 16",
      "metadata": {
        "trusted": true
      },
      "outputs": [],
      "execution_count": null
    },
    {
      "cell_type": "markdown",
      "source": "To prepare the initial state, the Hadamard transform is used to create a superposition of all possible states.",
      "metadata": {}
    },
    {
      "cell_type": "code",
      "source": "@qfunc\ndef prepare_initial_state(x: QBit):\n    for i in range(size):\n        H(x[i])",
      "metadata": {
        "trusted": true
      },
      "outputs": [],
      "execution_count": null
    },
    {
      "cell_type": "markdown",
      "source": "The function prepare_initial_state applies the Hadamard gate to each qubit, creating an equal superposition state.",
      "metadata": {}
    },
    {
      "cell_type": "markdown",
      "source": "The quantum walk is driven by two main operators: the Coin Operator and the Shift Operator. The Coin Operator determines the direction of the walk, while the Shift Operator moves the walk in the chosen direction.\n\nThe Coin Operator in a quantum walk serves a similar purpose to the coin flip in a classical random walk, determining the next state (or direction) based on the current state. In our case, a simple quantum coin can be represented by a Hadamard gate.",
      "metadata": {}
    },
    {
      "cell_type": "code",
      "source": "@qfunc\ndef coin_operator(x: QBit):\n    for i in range(size):\n        H(x[i])",
      "metadata": {
        "trusted": true
      },
      "outputs": [],
      "execution_count": null
    },
    {
      "cell_type": "markdown",
      "source": "The Hadamard gate is applied to each qubit, effectively mixing the probabilities of moving left or right along the line graph.",
      "metadata": {}
    },
    {
      "cell_type": "markdown",
      "source": "The Shift Operator uses the result from the Coin Operator to move the walker to an adjacent node. This involves conditional operations based on the coin's outcome.",
      "metadata": {}
    },
    {
      "cell_type": "code",
      "source": "@qfunc\ndef shift_operator(x: QBit):\n    for i in range(size - 1):\n        SWAP(x[i], x[i + 1])",
      "metadata": {
        "trusted": true
      },
      "outputs": [],
      "execution_count": null
    },
    {
      "cell_type": "markdown",
      "source": "This function shift_operator performs a SWAP operation based on the coin outcome, shifting the walker's state to the left or right on the line graph.",
      "metadata": {}
    },
    {
      "cell_type": "markdown",
      "source": "The diffusion operator is crucial for amplifying the amplitude of certain states, making them more likely to be measured. This is particularly useful in search algorithms.",
      "metadata": {}
    },
    {
      "cell_type": "code",
      "source": "@qfunc\ndef diffusion_operator(x: QBit):\n    for i in range(size):\n        H(x[i])\n    # Apply phase shift for diffusion\n    for i in range(size):\n        X(x[i])\n    H(x[0])\n    X(x[0])\n    H(x[0])\n    for i in range(size):\n        X(x[i])\n    for i in range(size):\n        H(x[i])",
      "metadata": {
        "trusted": true
      },
      "outputs": [],
      "execution_count": null
    },
    {
      "cell_type": "markdown",
      "source": "This sequence of operations applies a phase flip to the state, amplifying the probability of certain outcomes.",
      "metadata": {}
    },
    {
      "cell_type": "markdown",
      "source": "Next step is to implement the quantum walk. This involves iteratively applying the Coin and Shift Operators, followed by the Diffusion Operator.",
      "metadata": {}
    },
    {
      "cell_type": "code",
      "source": "@qfunc\ndef quantum_walk(x: QBit):\n    for _ in range(num_steps):\n        coin_operator(x)\n        shift_operator(x)\n        diffusion_operator(x)",
      "metadata": {
        "trusted": true
      },
      "outputs": [],
      "execution_count": null
    },
    {
      "cell_type": "markdown",
      "source": "Here, num_steps represents the number of iterations the quantum walk will perform. Each iteration involves applying the coin, shift, and diffusion operations.",
      "metadata": {}
    },
    {
      "cell_type": "code",
      "source": "@qfunc\ndef measure(x: QBit) -> List[int]:\n    return [M(x[i]) for i in range(size)]",
      "metadata": {
        "trusted": true
      },
      "outputs": [],
      "execution_count": null
    },
    {
      "cell_type": "markdown",
      "source": "The measurement function returns the observed state of each qubit, giving a snapshot of the walker's position on the line graph.",
      "metadata": {}
    },
    {
      "cell_type": "markdown",
      "source": "To run the quantum walk simulation we initialize the qubits apply the quantum walk function and measure the results.",
      "metadata": {}
    },
    {
      "cell_type": "code",
      "source": "x = QBit(size)\nprepare_initial_state(x)\nquantum_walk(x)\nresult = measure(x)\nprint(f\"Measured state: {result}\")",
      "metadata": {
        "trusted": true
      },
      "outputs": [],
      "execution_count": null
    },
    {
      "cell_type": "markdown",
      "source": "The code initializes the qubits prepares the initial state performs the quantum walk and measures the final state.",
      "metadata": {}
    }
  ]
}