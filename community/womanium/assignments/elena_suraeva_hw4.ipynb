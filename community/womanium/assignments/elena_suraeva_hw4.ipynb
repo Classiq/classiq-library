{
  "nbformat": 4,
  "nbformat_minor": 0,
  "metadata": {
    "colab": {
      "provenance": []
    },
    "kernelspec": {
      "name": "python3",
      "display_name": "Python 3"
    },
    "language_info": {
      "name": "python"
    }
  },
  "cells": [
    {
      "cell_type": "code",
      "source": [
        "from classiq import *\n",
        "authenticate()"
      ],
      "metadata": {
        "colab": {
          "base_uri": "https://localhost:8080/"
        },
        "id": "oSleQE_wb1dm",
        "outputId": "8e099ae5-e8b9-465f-9377-d890e39a699f"
      },
      "execution_count": 2,
      "outputs": [
        {
          "output_type": "stream",
          "name": "stderr",
          "text": [
            "/usr/local/lib/python3.10/dist-packages/classiq/_internals/authentication/token_manager.py:100: UserWarning: Device is already registered.\n",
            "Generating a new refresh token should only be done if the current refresh token is compromised.\n",
            "To do so, set the overwrite parameter to true\n",
            "  warnings.warn(\n"
          ]
        }
      ]
    },
    {
      "cell_type": "code",
      "source": [
        "size = 4\n",
        "\n",
        "@qfunc\n",
        "def prepare_minus(x: QBit):\n",
        "  X(x)\n",
        "  H(x)\n",
        "\n",
        "@qfunc\n",
        "def diffuzer_oracle(aux: Output[QNum],x:QNum):\n",
        "  aux^=(x!=0)\n",
        "\n",
        "@qfunc\n",
        "def zero_diffuzer(x: QNum):\n",
        "  aux = QNum('aux')\n",
        "  allocate(1,aux)\n",
        "  within_apply(within=lambda: prepare_minus(aux),\n",
        "              apply=lambda: diffuzer_oracle)\n",
        "\n",
        "\n",
        "def W_iteration(i:int,vertices: QNum, adjacent_vertices:QNum):\n",
        "    prob = [0 for k in range(2**size)]\n",
        "    if i==0:\n",
        "      prob[1]=1\n",
        "    elif i==2**size-1:\n",
        "      prob[2**size-2]=1\n",
        "    else:\n",
        "      prob[i+1]=0.5\n",
        "      prob[i-1]=0.5\n",
        "    print(f'State={i}, prob vec ={prob}')\n",
        "\n",
        "    control(ctrl=vertices==i,\n",
        "            stmt_block=lambda: within_apply(\n",
        "              within= lambda: inplace_prepare_state(probabilities=prob, bound=0.01, target=adjacent_vertices),\n",
        "              apply= lambda: zero_diffuzer(adjacent_vertices)))\n",
        "\n",
        "\n",
        "@qfunc\n",
        "def W_operator(vertices:QNum, adjacent_vertices: QNum):\n",
        "    for i in range(2**size):\n",
        "      W_iteration(i,vertices,adjacent_vertices)\n",
        "\n",
        "\n",
        "@qfunc\n",
        "def edge_oracle(res:Output[QBit], vertices: QNum, adjacent_vertices: QNum):\n",
        "  #delta = vertices-adjacent_vertices\n",
        "  #res |= ((vertices-adjacent_vertices) ==1)\n",
        "  res |= (((adjacent_vertices-vertices) ==1) | ((vertices-adjacent_vertices) ==1))\n",
        "\n",
        "\n",
        "@qfunc\n",
        "def bitwise_swap(x: QArray[QBit], y:QArray[QBit]):\n",
        "  repeat(count= x.len,\n",
        "    iteration= lambda i: SWAP(x[i],y[i]))\n",
        "\n",
        "\n",
        "@qfunc\n",
        "def S_operator(vertices:QNum, adjacent_vertices: QNum):\n",
        "    res = QNum('res')\n",
        "    edge_oracle(res,vertices,adjacent_vertices)\n",
        "    control(ctrl= res==1,\n",
        "        stmt_block= lambda: bitwise_swap(vertices,adjacent_vertices))\n",
        "\n",
        "@qfunc\n",
        "def main(vertices:Output[QNum], adjacent_vertices:Output[QNum]):\n",
        "\n",
        "  allocate(size,vertices)\n",
        "  hadamard_transform(vertices)\n",
        "  allocate(size,adjacent_vertices)\n",
        "\n",
        "  W_operator(vertices,adjacent_vertices)\n",
        "  S_operator(vertices,adjacent_vertices)"
      ],
      "metadata": {
        "id": "XULyJaFrcIE4"
      },
      "execution_count": 19,
      "outputs": []
    },
    {
      "cell_type": "code",
      "source": [
        "qmod = create_model(main)\n",
        "qprog = synthesize(qmod)\n",
        "show(qprog)"
      ],
      "metadata": {
        "colab": {
          "base_uri": "https://localhost:8080/"
        },
        "id": "9Dc3A5bedy7K",
        "outputId": "b02f284f-d8f0-4403-f98a-cfad52b5b353"
      },
      "execution_count": 20,
      "outputs": [
        {
          "output_type": "stream",
          "name": "stdout",
          "text": [
            "State=0, prob vec =[0, 1, 0, 0, 0, 0, 0, 0, 0, 0, 0, 0, 0, 0, 0, 0]\n",
            "State=1, prob vec =[0.5, 0, 0.5, 0, 0, 0, 0, 0, 0, 0, 0, 0, 0, 0, 0, 0]\n",
            "State=2, prob vec =[0, 0.5, 0, 0.5, 0, 0, 0, 0, 0, 0, 0, 0, 0, 0, 0, 0]\n",
            "State=3, prob vec =[0, 0, 0.5, 0, 0.5, 0, 0, 0, 0, 0, 0, 0, 0, 0, 0, 0]\n",
            "State=4, prob vec =[0, 0, 0, 0.5, 0, 0.5, 0, 0, 0, 0, 0, 0, 0, 0, 0, 0]\n",
            "State=5, prob vec =[0, 0, 0, 0, 0.5, 0, 0.5, 0, 0, 0, 0, 0, 0, 0, 0, 0]\n",
            "State=6, prob vec =[0, 0, 0, 0, 0, 0.5, 0, 0.5, 0, 0, 0, 0, 0, 0, 0, 0]\n",
            "State=7, prob vec =[0, 0, 0, 0, 0, 0, 0.5, 0, 0.5, 0, 0, 0, 0, 0, 0, 0]\n",
            "State=8, prob vec =[0, 0, 0, 0, 0, 0, 0, 0.5, 0, 0.5, 0, 0, 0, 0, 0, 0]\n",
            "State=9, prob vec =[0, 0, 0, 0, 0, 0, 0, 0, 0.5, 0, 0.5, 0, 0, 0, 0, 0]\n",
            "State=10, prob vec =[0, 0, 0, 0, 0, 0, 0, 0, 0, 0.5, 0, 0.5, 0, 0, 0, 0]\n",
            "State=11, prob vec =[0, 0, 0, 0, 0, 0, 0, 0, 0, 0, 0.5, 0, 0.5, 0, 0, 0]\n",
            "State=12, prob vec =[0, 0, 0, 0, 0, 0, 0, 0, 0, 0, 0, 0.5, 0, 0.5, 0, 0]\n",
            "State=13, prob vec =[0, 0, 0, 0, 0, 0, 0, 0, 0, 0, 0, 0, 0.5, 0, 0.5, 0]\n",
            "State=14, prob vec =[0, 0, 0, 0, 0, 0, 0, 0, 0, 0, 0, 0, 0, 0.5, 0, 0.5]\n",
            "State=15, prob vec =[0, 0, 0, 0, 0, 0, 0, 0, 0, 0, 0, 0, 0, 0, 1, 0]\n",
            "Opening: https://platform.classiq.io/circuit/f68d2df6-1e22-49c6-8407-679fddb73920?version=0.46.1\n"
          ]
        }
      ]
    },
    {
      "cell_type": "code",
      "source": [],
      "metadata": {
        "id": "cJZ5O-Bud2JW"
      },
      "execution_count": null,
      "outputs": []
    }
  ]
}