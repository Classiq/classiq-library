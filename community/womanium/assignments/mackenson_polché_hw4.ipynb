{
 "cells": [
  {
   "cell_type": "markdown",
   "id": "2686c064-e860-40f3-a0ea-7e06881c1dba",
   "metadata": {},
   "source": [
    "# Implementation Quantum Walk"
   ]
  },
  {
   "cell_type": "markdown",
   "id": "904a1eb3-703d-4bcd-91e0-630de9beec4d",
   "metadata": {},
   "source": [
    "### Introduction and Problem Statement\n",
    "- A quantum walk is the quantum analog of a classical random walk. Unlike classical random walks where a particle moves randomly to neighboring nodes, a quantum walk allows a particle to exist in a superposition of states, enabling it to explore multiple paths simultaneously. This characteristic makes quantum walks powerful tools for designing quantum algorithms with potential applications in search algorithms, quantum simulations, and more.\n",
    "\n",
    "- In this notebook, we aim to simulate a quantum walk on a line with 16 nodes using the Classiq Python SDK. We will define the quantum walk operators, simulate the walk, and visualize the results.\n",
    "  \n",
    "  \n",
    "   ![My Image](quantum_walk.png)\n",
    "  \n",
    "- The quantum walk on a line involves creating a quantum state that represents the positions of the walker. The walker's position is updated based on specific rules encoded in quantum operators. In our case, we will use Hadamard gates to create superposition and additional quantum gates to define the walk's dynamics."
   ]
  },
  {
   "cell_type": "markdown",
   "id": "b4a92c97-8c78-4043-933c-0d3cdd343304",
   "metadata": {},
   "source": [
    "## Explanation of the different steps of the implementation of the algorithm\n",
    "\n",
    "- **<span style=\"color:blue\">Prepare_minus(x: QBit)</span>**\n",
    "  - This function applies the X and H gates to a qubit `x`, preparing it in the |-> state.\n",
    "  - **X(x)**: Applies the Pauli-X gate, which flips the qubit state.\n",
    "  - **H(x)**: Applies the Hadamard gate, which creates a superposition.\n",
    "\n",
    "\n",
    "- **<span style=\"color:blue\">diffuser_oracle(aux: Output[QNum], x: QNum)</span>**\n",
    "  - This function defines a diffuser oracle which modifies the auxiliary qubit `aux` based on the state of the quantum number `x`.\n",
    "  - **aux ^= (x != 0)**: Applies a controlled NOT operation to the auxiliary qubit if `x` is not zero.\n",
    "\n",
    "\n",
    "- **<span style=\"color:blue\">zero_diffuser(x: QNum)</span>**\n",
    "  - This function prepares an auxiliary qubit in the |-> state and applies the diffuser oracle.\n",
    "  - **aux = QNum('aux')**: Allocates an auxiliary qubit.\n",
    "  - **within_apply(...)**: Uses the auxiliary qubit within a quantum operation.\n",
    "\n",
    "\n",
    "- **<span style=\"color:blue\">W_iteration(i: int, vertices: QNum, adjacent_vertices: QNum)</span>**\n",
    "  - This function defines the probability vector for the walker at each node and applies the zero diffuser to update the walker's state.\n",
    "  - **prob**: Probability vector initialized with zeros.\n",
    "  - **control(...)**: Controls the operation based on the walker's position.\n",
    "\n",
    "\n",
    "- **<span style=\"color:blue\">W_operator(vertices: QNum, adjacent_vertices: QNum)</span>**\n",
    "  - This function applies the W_iteration for all nodes, effectively implementing the walk operator.\n",
    "  - **for i in range(2 ** size)**: Iterates over all nodes.\n",
    "\n",
    "\n",
    "- **<span style=\"color:blue\">edge_oracle(res: Output[QBit], vertices: QNum, adjacent_vertices: QNum)</span>**\n",
    "  - This function defines an edge oracle to determine if an edge exists between vertices.\n",
    "  - **res |= (((vertices + adjacent_vertices) % 2) == 1)**: Applies a condition to the result qubit.\n",
    "\n",
    "\n",
    "- **<span style=\"color:blue\">bitwise_swap(x: QArray[QBit], y: QArray[QBit])</span>**\n",
    "  - This function swaps the states of two quantum arrays.\n",
    "  - **repeat(...)**: Repeats the SWAP operation for all elements.\n",
    "\n",
    "\n",
    "- **<span style=\"color:blue\">S_operator(vertices: QNum, adjacent_vertices: QNum)</span>**\n",
    "  - This function applies the edge oracle and swaps the states of vertices if the condition is met.\n",
    "  - **res = QNum('res')**: Allocates a result qubit.\n",
    "  - **control(...)**: Controls the SWAP operation based on the edge oracle's result.\n",
    "\n",
    "\n",
    "- **<span style=\"color:blue\">main(vertices: Output[QNum], adjacent_vertices: Output[QNum])</span>**\n",
    "  - This is the main function that initializes the qubits, applies the Hadamard transform, and executes the W and S operators.\n",
    "  - **allocate(size, vertices)**: Allocates the vertices qubits.\n",
    "  - **hadamard_transform(vertices)**: Applies Hadamard gates to create superposition.\n",
    "  - **W_operator(vertices, adjacent_vertices)**: Applies the walk operator.\n",
    "  - **S_operator(vertices, adjacent_vertices)**: Applies the swap operator.\n"
   ]
  },
  {
   "cell_type": "code",
   "execution_count": 45,
   "id": "238aa238-0560-4c04-af7d-24194a3adff6",
   "metadata": {},
   "outputs": [],
   "source": [
    "from classiq import *\n",
    "size = 4  # 16 nodes require 4 qubits\n"
   ]
  },
  {
   "cell_type": "code",
   "execution_count": 46,
   "id": "d2a34041-b847-4bfa-9c9f-924156f2d327",
   "metadata": {},
   "outputs": [],
   "source": [
    "@qfunc\n",
    "def prepare_minus(x: QBit):\n",
    "    \"\"\"\n",
    "    Applies the X and H gates to prepare the qubit in the |-> state.\n",
    "    \"\"\"\n",
    "    X(x)\n",
    "    H(x)"
   ]
  },
  {
   "cell_type": "code",
   "execution_count": 47,
   "id": "9db40de4-b85d-4c01-946e-e0dbccb5e234",
   "metadata": {},
   "outputs": [],
   "source": [
    "@qfunc\n",
    "def diffuser_oracle(aux: Output[QNum], x: QNum):\n",
    "    \"\"\"\n",
    "    Defines a diffuser oracle which modifies the auxiliary qubit based on the state of x.\n",
    "    \"\"\"\n",
    "    aux ^= (x != 0)"
   ]
  },
  {
   "cell_type": "code",
   "execution_count": 48,
   "id": "966ddaef-6eee-4bfb-8bfa-3ea99effbc31",
   "metadata": {},
   "outputs": [],
   "source": [
    "@qfunc\n",
    "def zero_diffuser(x: QNum):\n",
    "    \"\"\"\n",
    "    Prepares an auxiliary qubit in the |-> state and applies the diffuser oracle.\n",
    "    \"\"\"\n",
    "    aux = QNum('aux')\n",
    "    allocate(1, aux)\n",
    "    within_apply(compute=lambda: prepare_minus(aux),\n",
    "                 action=lambda: diffuser_oracle)"
   ]
  },
  {
   "cell_type": "code",
   "execution_count": 49,
   "id": "a99f41f1-ca2a-47d0-8f20-b3ffc4709670",
   "metadata": {},
   "outputs": [],
   "source": [
    "def W_iteration(i: int, vertices: QNum, adjacent_vertices: QNum):\n",
    "    \"\"\"\n",
    "    Defines the probability vector for the walker at each node and applies the zero diffuser.\n",
    "    \"\"\"\n",
    "    prob = [0] * (2 ** size)\n",
    "    if i == 0:\n",
    "        prob[i + 1] = 1.0\n",
    "    elif i == (2 ** size) - 1:\n",
    "        prob[i - 1] = 1.0\n",
    "    else:\n",
    "        prob[i - 1] = 0.5\n",
    "        prob[i + 1] = 0.5\n",
    "    print(f'Node={i}, prob vec ={prob}')\n",
    "\n",
    "    control(ctrl=vertices == i,\n",
    "            operand=lambda: within_apply(\n",
    "                compute=lambda: inplace_prepare_state(probabilities=prob, bound=0.01, target=adjacent_vertices),\n",
    "                action=lambda: zero_diffuser(adjacent_vertices)))"
   ]
  },
  {
   "cell_type": "code",
   "execution_count": 51,
   "id": "b3eefe1d-334e-4971-813e-a3632f2398a1",
   "metadata": {},
   "outputs": [],
   "source": [
    "\n",
    "@qfunc\n",
    "def W_operator(vertices: QNum, adjacent_vertices: QNum):\n",
    "    \"\"\"\n",
    "    Applies the W_iteration for all nodes, implementing the walk operator.\n",
    "    \"\"\"\n",
    "    for i in range(2 ** size):\n",
    "        W_iteration(i, vertices, adjacent_vertices)"
   ]
  },
  {
   "cell_type": "code",
   "execution_count": 53,
   "id": "dfd450c2-0a14-4165-a14a-405e9617f01e",
   "metadata": {},
   "outputs": [],
   "source": [
    "@qfunc\n",
    "def edge_oracle(res: Output[QBit], vertices: QNum, adjacent_vertices: QNum):\n",
    "    \"\"\"\n",
    "    Defines an edge oracle to determine if an edge exists between vertices.\n",
    "    \"\"\"\n",
    "    res |= (((vertices + adjacent_vertices) % 2) == 1)"
   ]
  },
  {
   "cell_type": "code",
   "execution_count": 55,
   "id": "cf73e080-9ac6-4cf8-bd20-eaa2da08e11f",
   "metadata": {},
   "outputs": [],
   "source": [
    "@qfunc\n",
    "def bitwise_swap(x: QArray[QBit], y: QArray[QBit]):\n",
    "    \"\"\"\n",
    "    Swaps the states of two quantum arrays.\n",
    "    \"\"\"\n",
    "    repeat(count=x.len,\n",
    "           iteration=lambda i: SWAP(x[i], y[i]))"
   ]
  },
  {
   "cell_type": "code",
   "execution_count": 57,
   "id": "450f2853-a74d-4144-a9c3-ddbe7fcbbd67",
   "metadata": {},
   "outputs": [],
   "source": [
    "@qfunc\n",
    "def S_operator(vertices: QNum, adjacent_vertices: QNum):\n",
    "    \"\"\"\n",
    "    Applies the edge oracle and swaps the states of vertices if the condition is met.\n",
    "    \"\"\"\n",
    "    res = QNum('res')\n",
    "    edge_oracle(res,vertices,adjacent_vertices)\n",
    "    control(ctrl= res==1,\n",
    "        operand= lambda: bitwise_swap(vertices,adjacent_vertices))"
   ]
  },
  {
   "cell_type": "code",
   "execution_count": 58,
   "id": "00a78879-e77f-4fad-8ee7-8d66e4880ce2",
   "metadata": {},
   "outputs": [],
   "source": [
    "@qfunc\n",
    "def main(vertices: Output[QNum], adjacent_vertices: Output[QNum]):\n",
    "    \"\"\"\n",
    "    Initializes the qubits, applies the Hadamard transform, and executes the W and S operators.\n",
    "    \"\"\"\n",
    "    allocate(size, vertices)\n",
    "    hadamard_transform(vertices)\n",
    "    allocate(size, adjacent_vertices)\n",
    "    W_operator(vertices, adjacent_vertices)\n",
    "    S_operator(vertices, adjacent_vertices)"
   ]
  },
  {
   "cell_type": "code",
   "execution_count": 59,
   "id": "76bd78f2-7721-4bb2-b596-5f285e5df3bf",
   "metadata": {},
   "outputs": [
    {
     "name": "stdout",
     "output_type": "stream",
     "text": [
      "Node=0, prob vec =[0, 1.0, 0, 0, 0, 0, 0, 0, 0, 0, 0, 0, 0, 0, 0, 0]\n",
      "Node=1, prob vec =[0.5, 0, 0.5, 0, 0, 0, 0, 0, 0, 0, 0, 0, 0, 0, 0, 0]\n",
      "Node=2, prob vec =[0, 0.5, 0, 0.5, 0, 0, 0, 0, 0, 0, 0, 0, 0, 0, 0, 0]\n",
      "Node=3, prob vec =[0, 0, 0.5, 0, 0.5, 0, 0, 0, 0, 0, 0, 0, 0, 0, 0, 0]\n",
      "Node=4, prob vec =[0, 0, 0, 0.5, 0, 0.5, 0, 0, 0, 0, 0, 0, 0, 0, 0, 0]\n",
      "Node=5, prob vec =[0, 0, 0, 0, 0.5, 0, 0.5, 0, 0, 0, 0, 0, 0, 0, 0, 0]\n",
      "Node=6, prob vec =[0, 0, 0, 0, 0, 0.5, 0, 0.5, 0, 0, 0, 0, 0, 0, 0, 0]\n",
      "Node=7, prob vec =[0, 0, 0, 0, 0, 0, 0.5, 0, 0.5, 0, 0, 0, 0, 0, 0, 0]\n",
      "Node=8, prob vec =[0, 0, 0, 0, 0, 0, 0, 0.5, 0, 0.5, 0, 0, 0, 0, 0, 0]\n",
      "Node=9, prob vec =[0, 0, 0, 0, 0, 0, 0, 0, 0.5, 0, 0.5, 0, 0, 0, 0, 0]\n",
      "Node=10, prob vec =[0, 0, 0, 0, 0, 0, 0, 0, 0, 0.5, 0, 0.5, 0, 0, 0, 0]\n",
      "Node=11, prob vec =[0, 0, 0, 0, 0, 0, 0, 0, 0, 0, 0.5, 0, 0.5, 0, 0, 0]\n",
      "Node=12, prob vec =[0, 0, 0, 0, 0, 0, 0, 0, 0, 0, 0, 0.5, 0, 0.5, 0, 0]\n",
      "Node=13, prob vec =[0, 0, 0, 0, 0, 0, 0, 0, 0, 0, 0, 0, 0.5, 0, 0.5, 0]\n",
      "Node=14, prob vec =[0, 0, 0, 0, 0, 0, 0, 0, 0, 0, 0, 0, 0, 0.5, 0, 0.5]\n",
      "Node=15, prob vec =[0, 0, 0, 0, 0, 0, 0, 0, 0, 0, 0, 0, 0, 0, 1.0, 0]\n",
      "Opening: https://platform.classiq.io/circuit/abf670ae-17da-4908-b221-39599f28ac38?version=0.43.2\n"
     ]
    }
   ],
   "source": [
    "\n",
    "# Create and visualize the quantum circuit\n",
    "qmod_line = create_model(main)\n",
    "qprog_line = synthesize(qmod_line)\n",
    "show(qprog_line)"
   ]
  },
  {
   "cell_type": "code",
   "execution_count": 60,
   "id": "297b137d-15dd-45ed-aea6-ae82e7101a23",
   "metadata": {},
   "outputs": [
    {
     "name": "stdout",
     "output_type": "stream",
     "text": [
      "Results for Line with 16 Nodes:\n",
      "[{'vertices': 10.0, 'adjacent_vertices': 0.0}: 151, {'vertices': 6.0, 'adjacent_vertices': 0.0}: 150, {'vertices': 14.0, 'adjacent_vertices': 0.0}: 140, {'vertices': 0.0, 'adjacent_vertices': 13.0}: 137, {'vertices': 0.0, 'adjacent_vertices': 0.0}: 135, {'vertices': 0.0, 'adjacent_vertices': 5.0}: 130, {'vertices': 0.0, 'adjacent_vertices': 9.0}: 130, {'vertices': 0.0, 'adjacent_vertices': 7.0}: 128, {'vertices': 0.0, 'adjacent_vertices': 3.0}: 126, {'vertices': 8.0, 'adjacent_vertices': 0.0}: 125, {'vertices': 0.0, 'adjacent_vertices': 11.0}: 123, {'vertices': 0.0, 'adjacent_vertices': 15.0}: 123, {'vertices': 2.0, 'adjacent_vertices': 0.0}: 121, {'vertices': 4.0, 'adjacent_vertices': 0.0}: 114, {'vertices': 0.0, 'adjacent_vertices': 1.0}: 113, {'vertices': 12.0, 'adjacent_vertices': 0.0}: 102]\n"
     ]
    }
   ],
   "source": [
    "# Simulate the quantum walk on a line with 16 nodes\n",
    "from classiq import execute\n",
    "\n",
    "# Execute the quantum program and handle the results\n",
    "try:\n",
    "    job_line = execute(qprog_line)\n",
    "    result = job_line.result()\n",
    "    results_line = result[0].value.parsed_counts\n",
    "    print(\"Results for Line with 16 Nodes:\")\n",
    "    print(results_line)\n",
    "except Exception as e:\n",
    "    print(f\"Error executing the quantum program: {e}\")\n"
   ]
  },
  {
   "cell_type": "markdown",
   "id": "e6108f1d-de3a-46d6-925b-ad4d6e174fa7",
   "metadata": {},
   "source": [
    "## Circuit Visualization "
   ]
  },
  {
   "cell_type": "markdown",
   "id": "6c59b48f-8597-478e-96b2-f68eb9297bb5",
   "metadata": {},
   "source": [
    "![My Image](picturea.png)"
   ]
  },
  {
   "cell_type": "markdown",
   "id": "05d0e509-3282-4eec-a56f-7b85c14f2868",
   "metadata": {},
   "source": [
    "## Probability \n",
    "![My Image](pictureb.png)"
   ]
  },
  {
   "cell_type": "markdown",
   "id": "6f16f463-e03b-4c12-88fb-8120360dc8c7",
   "metadata": {},
   "source": [
    "## Count\n",
    "![My Image](pictureb.png)"
   ]
  },
  {
   "cell_type": "markdown",
   "id": "79b0c9a1-2889-47ea-9205-a464eaa9675f",
   "metadata": {},
   "source": [
    "## Visualization of the quantum walk"
   ]
  },
  {
   "cell_type": "code",
   "execution_count": 64,
   "id": "0eba8fec-44a0-49a0-bac9-19ff35b0d6fb",
   "metadata": {},
   "outputs": [
    {
     "data": {
      "image/png": "[encoded data removed]",
      "text/plain": [
       "<Figure size 1400x200 with 2 Axes>"
      ]
     },
     "metadata": {},
     "output_type": "display_data"
    }
   ],
   "source": [
    "import matplotlib.pyplot as plt\n",
    "import networkx as nx\n",
    "\n",
    "# Create a path graph for visualization\n",
    "G = nx.path_graph(16)  # 16 nodes in a line\n",
    "pos = {i: (i, 0) for i in range(16)}  # Position nodes in a line\n",
    "\n",
    "# Data from the histogram\n",
    "states = ['10010000', '10110000', '11010000', '11110000', '00001010', '00001100', '00001110', '00000000', \n",
    "          '01010000', '00000110', '00001000', '00110000', '00000100', '00010000', '00000010', '01110000']\n",
    "counts = [69, 61, 72, 58, 71, 45, 60, 62, 73, 71, 60, 70, 45, 57, 64, 62]\n",
    "\n",
    "# Extract vertex counts\n",
    "vertex_counts = {int(state, 2): count for state, count in zip(states, counts)}\n",
    "\n",
    "# Prepare colors based on the counts\n",
    "colors = [vertex_counts.get(node, 0) for node in G.nodes()]\n",
    "\n",
    "# Plot the graph with color differentiation\n",
    "fig, ax = plt.subplots(figsize=(14, 2))\n",
    "nodes = nx.draw_networkx_nodes(G, pos, node_size=500, node_color=colors, cmap=plt.cm.Blues, ax=ax)\n",
    "nx.draw_networkx_edges(G, pos, ax=ax)\n",
    "nx.draw_networkx_labels(G, pos, font_color='green', ax=ax)\n",
    "\n",
    "plt.title('Quantum Walk on a Line with 16 Nodes')\n",
    "plt.colorbar(nodes, label='Counts')\n",
    "plt.show()\n"
   ]
  },
  {
   "cell_type": "markdown",
   "id": "ebf386ba-7364-449b-bcb4-7bae8275380e",
   "metadata": {},
   "source": [
    "## Interpretation of the results.\n",
    "- The histogram plot shows the distribution of the measured states after the execution of the quantum walk. Each bar in the histogram represents the probability of occurrences for a particular state.\n",
    "- In a quantum walk, the probability of the walker being at a certain position is distributed according to the unitary evolution of the walk operator. The results show that certain positions (vertices) have higher probabilities, which are reflected in the counts. These positions represent where the quantum walker is most likely to be found after the evolution.\n",
    "- The quantum walker seems to have higher probabilities of being found at certain nodes (like 0, 2, 4, 6, 8, 10, 12, and 14), suggesting some structure or pattern in the walk.\n",
    "- The color intensity provides a clear visual indication of where the quantum walker spends most of its time, with the darkest nodes being the most frequently visited.\n",
    "- This visualization provides an intuitive understanding of the quantum walk distribution across the nodes. Nodes with higher counts (darker colors) are more frequently visited by the quantum walker, indicating potential regions of higher probability in the quantum walk. This type of visualization is helpful for analyzing the behavior and properties of quantum walks on different graph structures.\n",
    "\n",
    "- In conclusion the quantum walk simulation results show a distribution of probabilities across different states (vertices). The high counts for certain states indicate the likelihood of finding the walker at those vertices. The histogram provides a visual representation of these probabilities, while the table offers a detailed breakdown of counts and positions."
   ]
  },
  {
   "cell_type": "code",
   "execution_count": null,
   "id": "d951ab4c-5248-4d6f-bc7b-8bc02f9cd8c7",
   "metadata": {},
   "outputs": [],
   "source": []
  }
 ],
 "metadata": {
  "kernelspec": {
   "display_name": "Python 3 (ipykernel)",
   "language": "python",
   "name": "python3"
  },
  "language_info": {
   "codemirror_mode": {
    "name": "ipython",
    "version": 3
   },
   "file_extension": ".py",
   "mimetype": "text/x-python",
   "name": "python",
   "nbconvert_exporter": "python",
   "pygments_lexer": "ipython3",
   "version": "3.11.7"
  }
 },
 "nbformat": 4,
 "nbformat_minor": 5
}
