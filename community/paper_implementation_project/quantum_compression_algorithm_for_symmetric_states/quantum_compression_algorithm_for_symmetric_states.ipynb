{
 "cells": [
  {
   "cell_type": "markdown",
   "id": "14c5ae42",
   "metadata": {},
   "source": [
    "# Paper implementation challenge - Quantum Compression Algorithm for Symmetric States"
   ]
  },
  {
   "cell_type": "markdown",
   "id": "cfb4c2a9",
   "metadata": {},
   "source": [
    "This notebook is part of the paper implementation challenge, where we implement the algorithm described in the paper [[Efficient compression of quantum information](https://arxiv.org/abs/0907.1764)] by Martin Plesch and Vladimír Bužek. The paper presents a method for efficiently constructing a quantum circuit that compresses multiple copies of identical quantum states into a lower-dimensional Hilbert space. This compression can be generalized not only to identical states but to any quantum state that is symmetric under permutation of the qubits.\n",
    "\n",
    "## Mathematical formulation\n",
    "Any identical quantum state can be written as $\\left|\\psi\\right\\rangle^{\\otimes N} = \\underset{k=0}{\\overset{N}{\\sum}}\\alpha^{N-k}\\beta^{k}\\sqrt{\\binom{N}{k}}\\left|N;k\\right\\rangle\n",
    "     = A_k\\left|N;k\\right\\rangle$, where the $\\left|N;k\\right\\rangle = \\sqrt{\\binom{N}{k}}^{-1} \\sum_{\\sigma} \\sigma \\left|1\\right\\rangle^{\\otimes k} \\otimes \\left|0\\right\\rangle^{\\otimes (N-k)}$. \n",
    "\n",
    "The circuit presented in the original paper transforms each $\\left|N;k\\right\\rangle$ into a new state $\\left|C_k\\right\\rangle$, which corresponds to a state having only 1 excitation $\\left(\\left|C_k\\right\\rangle = \\left|0\\right\\rangle^{\\otimes{k-1}}\\otimes \\left|1\\right\\rangle \\otimes \\left|0\\right\\rangle^{\\otimes(N-k)}\\right)$. So, the goal is to construct a circuit that will perform this kind of operation, i.e. $U(\\left|N;k\\right\\rangle) = \\left|C_k\\right\\rangle$.\n",
    "\n",
    "The final step of the algorithm will be to transform each of the state $\\left|C_k\\right\\rangle$ into a new state so that in total just a number of $\\log_2(N+1)$ qubits will be used. \n",
    "\n",
    "The operation is reversible, so that the decompression could be performed.\n",
    "\n",
    "\n",
    "## Solving with the Classiq Platform"
   ]
  },
  {
   "cell_type": "code",
   "execution_count": 2,
   "id": "d90a7cc9",
   "metadata": {},
   "outputs": [],
   "source": [
    "from classiq import *\n",
    "from classiq.qmod.symbolic import pi\n",
    "from scipy.special import comb\n",
    "import numpy as np\n",
    "from math import sqrt"
   ]
  },
  {
   "cell_type": "markdown",
   "id": "fc8739a7",
   "metadata": {},
   "source": [
    "### Defining the classical functions that are necessary for constructing the U gate"
   ]
  },
  {
   "cell_type": "markdown",
   "id": "31b20577",
   "metadata": {},
   "source": [
    "#### The first part of the $U$ : $U_{ab}$\n",
    "We are defining the function that is creating the gate U_ab. This is part of the gate U from the paper and represents\n",
    "a three qubit gate that is constructed based on values b, b + 1 and a. This is the first operation of gate U.\n",
    "\n",
    "    a - integer value representing the index of qubit a\n",
    "    b - integer value representing the index of qubit b\n",
    "\n"
   ]
  },
  {
   "cell_type": "code",
   "execution_count": 3,
   "id": "6a62f456",
   "metadata": {},
   "outputs": [],
   "source": [
    "def U_ab(a, b):\n",
    "    \n",
    "    U = np.eye(8, dtype=complex)\n",
    "    \n",
    "    # Compute coefficients as illustrated in the paper\n",
    "    alpha_101 = np.sqrt(comb(a - 1, b, exact=True))\n",
    "    alpha_010 = np.sqrt(comb(a - 1, b + 1, exact=True))\n",
    "    beta_010 = np.sqrt(comb(a, b + 1, exact=True))\n",
    "    \n",
    "    x = alpha_010 / beta_010\n",
    "    y = alpha_101 / beta_010\n",
    "    \n",
    "    # Performing the superposition swap as presented in the paper.\n",
    "    i_rot, j_rot = (2, 5)\n",
    "    U[i_rot, i_rot] = x\n",
    "    U[i_rot, j_rot] = y\n",
    "    U[j_rot, i_rot] = y\n",
    "    U[j_rot, j_rot] = -x\n",
    "    \n",
    "    return U"
   ]
  },
  {
   "cell_type": "markdown",
   "id": "3d5e3457",
   "metadata": {},
   "source": [
    "#### The second part of the $U$ : $U_{f}$\n",
    "We are Defining the function that is creating the gate U_f. This is part of the gate U from the paper and represents a three qubit gate that is constructed based on values 0, a-1 and a. This is the second operation of gate U.\n",
    "\n",
    "    a - integer value representing the index of qubit a"
   ]
  },
  {
   "cell_type": "code",
   "execution_count": 4,
   "id": "a2c57983",
   "metadata": {},
   "outputs": [],
   "source": [
    "def U_final(a):\n",
    "    \n",
    "    # Compute coefficients as illustrated in the paper\n",
    "    alpha_001 = 1\n",
    "    alpha_100 = sqrt((a-1))\n",
    "    beta_100 = sqrt(a)\n",
    "    \n",
    "    x = alpha_100 / beta_100\n",
    "    y = alpha_001 / beta_100\n",
    "    \n",
    "    \n",
    "    # Performing the superposition swap as presented in the paper.\n",
    "    U = np.eye(8, dtype=complex)\n",
    "    i_rot, j_rot = (1, 4)\n",
    "    U[i_rot, i_rot] = x\n",
    "    U[i_rot, j_rot] = y\n",
    "    U[j_rot, i_rot] = -y\n",
    "    U[j_rot, j_rot] = x\n",
    "    \n",
    "    return U"
   ]
  },
  {
   "cell_type": "markdown",
   "id": "2096144b",
   "metadata": {},
   "source": [
    "### Defining the quantum functions that are necessary for constructing the algorithm"
   ]
  },
  {
   "cell_type": "markdown",
   "id": "8ec533ef",
   "metadata": {},
   "source": [
    "#### Constructing a general function for applying an unitary matrix on three specific qubits in a circuit\n",
    "This function is going to be used for applying the $U_{ab}$ and $U_f$ gates over the specific qubits in the circuit.\n",
    "\n",
    "    matrix - input matrix that needs to be constructed before \n",
    "    q - QArray\n",
    "    p1, p2, p3 - the qubits on which the gate given my matrix needs to be applied"
   ]
  },
  {
   "cell_type": "code",
   "execution_count": 5,
   "id": "222b18b3",
   "metadata": {},
   "outputs": [],
   "source": [
    "@qfunc(generative=True)\n",
    "def apply_matrix(matrix: CArray[CArray[CReal]], q: QArray[QBit], p1: CInt, p2: CInt, p3: CInt):\n",
    "    \n",
    "    ## constructing a temporary QArray of qubits representing the specific qubits in q given by p1, p2, p3\n",
    "    qubits = []\n",
    "    temp_array = QArray()\n",
    "    for k in range(q.len):\n",
    "        qubits.append(QBit(f'q{k}'))\n",
    "    bind(q, qubits)\n",
    "    bind([qubits[p1], qubits[p2], qubits[p3]], temp_array)\n",
    "    \n",
    "    \n",
    "    ## aplying the matrix using the unitary built-in function\n",
    "    unitary(matrix, temp_array)\n",
    "        \n",
    "    ## constructing back the original QArray\n",
    "    bind(temp_array, [qubits[p1], qubits[p2], qubits[p3]])\n",
    "    bind(qubits, q)"
   ]
  },
  {
   "cell_type": "markdown",
   "id": "1648155d",
   "metadata": {},
   "source": [
    "#### Constructing a general multi-CNOT gate that is going to be needed in tha last part of the algorithm\n",
    "This function has the role of creating and applying a multi-controlled NOT operation given a set of qubit indeces. The controls list contains the list of the qubits that needs to be the ocntroll qubits and the last element in the list represents the target element.\n",
    "  \n",
    "    q - QArray\n",
    "    controls - list of integers containing the indexes of qubits that need to be the control qubits (controls[0:-1]) and the index of the target qubit (controls[-1])"
   ]
  },
  {
   "cell_type": "code",
   "execution_count": 6,
   "id": "96660866",
   "metadata": {},
   "outputs": [],
   "source": [
    "@qfunc(generative=True)\n",
    "def apply_MultiCNOT(q: QArray[QBit], controls: CArray[CInt]):\n",
    "    \n",
    "    ## constructing a temporary QArray of qubits representing the specific qubits in q given by the indexes in controls\n",
    "    qubits = []\n",
    "    temp_array = QArray()\n",
    "    for qb in range(q.len):\n",
    "        qubits.append(QBit(f'q{qb}'))\n",
    "    bind(q, qubits)\n",
    "    bind([qubits[i] for i in controls], temp_array)    \n",
    "    \n",
    "    ## applying the CONTROL operation\n",
    "    control(temp_array[0:len(controls)-1], lambda:X(temp_array[len(controls)-1]))\n",
    "    \n",
    "    \n",
    "    ## constructing back the original QArray\n",
    "    bind(temp_array, [qubits[i] for i in controls])\n",
    "    bind(qubits, q)"
   ]
  },
  {
   "cell_type": "markdown",
   "id": "d914fee0",
   "metadata": {},
   "source": [
    "#### Constructing the wrapper for the $U_{ab}$ gate that is going to be applied in the circuit\n",
    "This function is a wrapper of the function U_ab and has the purpose of applying the gate for as many times as needed as it is ilustrated in the paper. U_ab needs to be applied for every qubit b from 1 to a-2.\n",
    " \n",
    "    a - index of the current qubit a\n",
    "    q - QArray"
   ]
  },
  {
   "cell_type": "code",
   "execution_count": 7,
   "id": "d0298ab7",
   "metadata": {},
   "outputs": [],
   "source": [
    "@qfunc(generative=True)\n",
    "def apply_Uab(a: CReal, q: QArray[QBit]):\n",
    "    \n",
    "    for b in range(a-1):\n",
    "        Uab = U_ab(a+1, b+1)\n",
    "        apply_matrix(Uab, q, b, b+1, a)"
   ]
  },
  {
   "cell_type": "markdown",
   "id": "5e4a7cfa",
   "metadata": {},
   "source": [
    "#### Constructing the wrapper for the $U_{f}$ gate that is going to be applied in the circuit\n",
    "This function is a wrapper of the function U_f and has the purpose of applying the gate 1 time as stated in paper. The gate is going to be applied on qubits 0, a-1 and a.\n",
    "\n",
    "    a - index of the current qubit a\n",
    "    q - QArray"
   ]
  },
  {
   "cell_type": "code",
   "execution_count": 8,
   "id": "93f498d6",
   "metadata": {},
   "outputs": [],
   "source": [
    "@qfunc(generative=True)\n",
    "def apply_Uf(a: CReal, q: QArray[QBit]):\n",
    "    \n",
    "    Uf = U_final(a+1)\n",
    "    apply_matrix(Uf, q, 0, a-1, a) "
   ]
  },
  {
   "cell_type": "markdown",
   "id": "09c79eed",
   "metadata": {},
   "source": [
    "#### Constructing the wrapper for the whole algorithm\n",
    "This function contains the core logic of the compression algorithm as presented in the paper. It takes as input a QArray representing the qubits to which the algorithm will be applied."
   ]
  },
  {
   "cell_type": "code",
   "execution_count": 9,
   "id": "260fe6e6",
   "metadata": {},
   "outputs": [],
   "source": [
    "@qfunc(generative=True)\n",
    "def symmetric_compression_algorithm(q_array: QArray[QBit]):\n",
    "    \n",
    "    ## Implementing the V gate from the paper\n",
    "    control(q_array[1], lambda: X(q_array[0]))\n",
    "    control(q_array[0], lambda: H(q_array[1]))\n",
    "    \n",
    "    \n",
    "    ## Applying the U gates as in paper. This sequence will construct the |C>_k bases for the symmetric states.\n",
    "    for i in range(2, q_array.len):\n",
    "        apply_Uab(i, q_array)\n",
    "        apply_Uf(i, q_array)\n",
    "        \n",
    "        # The last CNOT is the personal addition because the description in the paper is not quite exact on the \n",
    "        # implentation part. They are just describing what the functions should do.\n",
    "        control(q_array[i], lambda: X(q_array[i-1]))\n",
    "        \n",
    "    \n",
    "    ## Applying the last sequence described in paper for converting the |C>_k into |B>_k. Implementing the indications\n",
    "    ## from the paper.\n",
    "    for k in range(2, q_array.len):\n",
    "        index = 0\n",
    "        indeces = []\n",
    "        for i in range(len(bin(k+1)[2:])):\n",
    "            if bin(k+1)[2:][i] == '1':\n",
    "                \n",
    "                control(q_array[k], lambda: X(q_array[len(bin(k+1)[2:])-i-1]))\n",
    "                \n",
    "                indeces.append(len(bin(k+1)[2:])-i-1)\n",
    "                index += 1\n",
    "        indeces = indeces[::-1]\n",
    "        indeces.append(k)\n",
    "        apply_MultiCNOT(q_array, indeces) "
   ]
  },
  {
   "cell_type": "markdown",
   "id": "e7b8f6d1",
   "metadata": {},
   "source": [
    "### Testing the algorithm"
   ]
  },
  {
   "cell_type": "markdown",
   "id": "287a54aa",
   "metadata": {},
   "source": [
    "#### Test 1 - Compressing a quantum state of 5 identically qubits in $\\left|+\\right\\rangle$"
   ]
  },
  {
   "cell_type": "code",
   "execution_count": 10,
   "id": "dfbe3e44",
   "metadata": {},
   "outputs": [
    {
     "data": {
      "text/plain": [
       "[{'x': [0, 1, 0, 0, 0]}: 650,\n",
       " {'x': [1, 1, 0, 0, 0]}: 639,\n",
       " {'x': [1, 0, 0, 0, 0]}: 322,\n",
       " {'x': [0, 0, 1, 0, 0]}: 320,\n",
       " {'x': [0, 0, 0, 0, 0]}: 59,\n",
       " {'x': [1, 0, 1, 0, 0]}: 58]"
      ]
     },
     "execution_count": 10,
     "metadata": {},
     "output_type": "execute_result"
    }
   ],
   "source": [
    "@qfunc(generative=True)\n",
    "def main(x:Output[QArray]):\n",
    "    \n",
    "    allocate(5, x)\n",
    "    hadamard_transform(x)\n",
    "    symmetric_compression_algorithm(x)\n",
    "    \n",
    "model1 = create_model(main)\n",
    "quantum_program1 = synthesize(model1)\n",
    "job1 = execute(quantum_program1)\n",
    "results1 = job1.result()[0].value.parsed_counts\n",
    "results1\n",
    "    \n",
    "\n",
    "    \n",
    "    \n",
    "    \n",
    "    \n",
    "    "
   ]
  },
  {
   "cell_type": "markdown",
   "id": "ca15d6cc",
   "metadata": {},
   "source": [
    "As we can see, the compression of the initial state worked, as the last two qubits are no longer used, being in state $\\left|0\\right\\rangle$ for all of the possible states. This proves that the reduction worked, thus one being able to represent a 5 qubit state using just 3 qubits."
   ]
  },
  {
   "cell_type": "markdown",
   "id": "e2e84221",
   "metadata": {},
   "source": [
    "#### Test 2 - Compressing a quantum state of 3 qubits prepared in $W_3$ state"
   ]
  },
  {
   "cell_type": "code",
   "execution_count": null,
   "id": "e9b21160",
   "metadata": {},
   "outputs": [
    {
     "data": {
      "text/plain": [
       "[{'x': [1, 0, 0]}: 2048]"
      ]
     },
     "execution_count": 31,
     "metadata": {},
     "output_type": "execute_result"
    }
   ],
   "source": [
    "# @qfunc(generative=True)\n",
    "# def main(x:Output[QArray]):\n",
    "    \n",
    "#     amplitude = [0, 1/3, 1/3, 0, 1/3, 0, 0, 0]\n",
    "#     prepare_amplitudes(amplitude, 0, x)\n",
    "#     symmetric_compression_algorithm(x)\n",
    "    \n",
    "# model2 = create_model(main)\n",
    "# quantum_program2 = synthesize(model2)\n",
    "# job2 = execute(quantum_program2)\n",
    "# results2 = job2.result()[0].value.parsed_counts\n",
    "# results2"
   ]
  },
  {
   "cell_type": "markdown",
   "id": "57bcaf9b",
   "metadata": {},
   "source": [
    "As we can see, the compression worked, allowing us to represent the $W_3$ state using just one qubit. This opens up the possibility of using the compression algorithm in an entanglement distribution scheme, as the single qubit can be teleported using the standard quantum teleportation protocol. Also, we can see that the algorithm works for symmetric states, and not just identical ones."
   ]
  },
  {
   "cell_type": "markdown",
   "id": "8b60ab91",
   "metadata": {},
   "source": [
    "#### Test 3 - Compressing a non symmetric quantum state"
   ]
  },
  {
   "cell_type": "code",
   "execution_count": null,
   "id": "3e06e21d",
   "metadata": {},
   "outputs": [
    {
     "data": {
      "text/plain": [
       "[{'x': [1, 1, 1]}: 540,\n",
       " {'x': [0, 1, 1]}: 528,\n",
       " {'x': [0, 0, 0]}: 263,\n",
       " {'x': [1, 1, 0]}: 238,\n",
       " {'x': [1, 0, 1]}: 162,\n",
       " {'x': [0, 0, 1]}: 144,\n",
       " {'x': [0, 1, 0]}: 88,\n",
       " {'x': [1, 0, 0]}: 85]"
      ]
     },
     "execution_count": 28,
     "metadata": {},
     "output_type": "execute_result"
    }
   ],
   "source": [
    "# @qfunc(generative=True)\n",
    "# def main(x:Output[QArray]):\n",
    "    \n",
    "#     allocate(3, x)\n",
    "#     hadamard_transform(x)\n",
    "#     Y(x[0])\n",
    "#     symmetric_compression_algorithm(x)\n",
    "    \n",
    "# model3 = create_model(main)\n",
    "# quantum_program3 = synthesize(model3)\n",
    "# job3 = execute(quantum_program3)\n",
    "# results3 = job3.result()[0].value.parsed_counts\n",
    "# results3"
   ]
  },
  {
   "cell_type": "markdown",
   "id": "44bd1dc8",
   "metadata": {},
   "source": [
    "We can see that in the case of a non-symmetric initial state, the algorithm does not perform any compression, thus confirming the hypothesis."
   ]
  },
  {
   "cell_type": "code",
   "execution_count": 11,
   "id": "fae6b7be",
   "metadata": {},
   "outputs": [],
   "source": [
    "qmod = create_model(main)\n",
    "write_qmod(qmod, \"quantum_compression_algorithm_for_symmetric_states\")"
   ]
  }
 ],
 "metadata": {
  "kernelspec": {
   "display_name": "venv_compression",
   "language": "python",
   "name": "python3"
  },
  "language_info": {
   "codemirror_mode": {
    "name": "ipython",
    "version": 3
   },
   "file_extension": ".py",
   "mimetype": "text/x-python",
   "name": "python",
   "nbconvert_exporter": "python",
   "pygments_lexer": "ipython3",
   "version": "3.12.7"
  }
 },
 "nbformat": 4,
 "nbformat_minor": 5
}
