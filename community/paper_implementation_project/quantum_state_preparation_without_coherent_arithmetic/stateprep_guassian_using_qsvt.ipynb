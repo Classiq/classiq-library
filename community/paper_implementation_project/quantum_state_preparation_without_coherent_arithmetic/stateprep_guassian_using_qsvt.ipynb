{
 "cells": [
  {
   "cell_type": "markdown",
   "metadata": {},
   "source": [
    "# Quantum state preparation without coherent arithmetic"
   ]
  },
  {
   "cell_type": "markdown",
   "metadata": {},
   "source": [
    "This notebook implements a quantum state preparation circuit based on _Quantum State Preparation Without Coherent Arithmetic_ ([arXiv:2210.14892](https://arxiv.org/pdf/2210.14892)), as part of “Implementation Challenge” by Classiq. \n",
    " Specifically, we will construct a Gaussian state preparation circuit from [Classiq’s MIT iQuHack 2025 challenge](https://github.com/iQuHACK/2025-Classiq/blob/main/classiq_iQuHack_2025_final.ipynb) using the approach outlined in this paper.\n",
    "\n",
    "$$|{x_0}\\rangle_N = |0\\rangle_N \\rightarrow \\sum_x {G(x)} |{x}\\rangle_N$$\n",
    "\n",
    "## Algorithm Overview\n",
    "\n",
    "The algorithm leverages Quantum Eigenvalue Transformation (QET) technique to encode a function into a quantum state. \n",
    "The key idea is to approximate the desired function using polynomial approximations and implement these polynomials as quantum circuits.\n",
    "\n",
    "#### General workflow\n",
    "- The algorithm starts by defining a function $f(x)$ (in this case, a Gaussian function) to be encoded into the quantum state.\n",
    "- It constructs a block-encoding circuit ($U_{\\text{sin}}$) that initializes the input state.\n",
    "- Using QET, the function $f(x)$ is applied to the input state via a circuit ($U_f$) that encodes the polynomial approximation of $f(x)$.\n",
    "- Finally, amplitude amplification ($U_{\\text{amp}}$) is applied to increase the probability of measuring the desired state.\n",
    "\n",
    "#### Benefits\n",
    "- Scalability: The algorithm avoids the need for coherent arithmetic, making it more efficient for amplitude encoding. It requires only a fixed number of ancillary qubits (at most 4) regardless of the function's complexity.\n",
    "- Flexibility: It supports encoding various functions, such as polynomial or Fourier series approximations, and is applicable to a wide range of continuous functions.\n",
    "- Resource Efficiency: By leveraging QET, the algorithm minimizes the number of non-Clifford gates and logical qubits while avoiding the use of amplitude oracles.\n",
    "\n",
    "#### Complexity\n",
    "- The complexity of the algorithm depends on the degree of the polynomial approximation used for `f(x)`. Higher-degree polynomials provide better approximations but require more quantum gates.\n",
    "- Specifically, the non-Clifford gate complexity of the QET-based approach is approximately:\n",
    "            $$ O\\left(\\frac{n \\cdot d}{F}\\right), $$\n",
    "where:\n",
    "    - $n$: Number of qubits representing the input state.\n",
    "    - $d$: Degree of the polynomial approximation.\n",
    "    - $F$: L2-norm filling-fraction of the polynomial approximation.\n",
    "\n",
    "This complexity indicates that the number of non-Clifford gates scales linearly with the number of qubits $n$ and the polynomial degree $d$.\n",
    "For detailed analysis, please refer to the paper.\n",
    "\n",
    "## Implementation\n",
    "\n",
    "To implement amplitude encoding without coherent arithmetic, we construct the following three components, as described in Figure 1 of the paper:\n",
    "- $U_{\\text{sin}}$: Block encoding of the initial values.\n",
    "- $U_f$: Function application via Quantum Eigenvalue Transformation (QET).\n",
    "- $U_{\\text{amp}}$: Amplitude amplification to increase the probability of the target state.\n",
    "\n",
    "For each component, we follow Section 2 of the paper. In constructing $U_f$, we determine the QET rotation angles using [pyqsp](https://github.com/ichuang/pyqsp) or other techniques. For evaluation, we verify correctness via state-vector simulation for small cases and perform resource estimation.\n",
    "\n",
    "For Gaussian state preparation, we set `f(x)` to be the Gaussian function described in the[ MIT iQuHack 2025 challenge notebook](https://github.com/iQuHACK/2025-Classiq/blob/main/classiq_iQuHack_2025_final.ipynb)."
   ]
  },
  {
   "cell_type": "code",
   "execution_count": null,
   "metadata": {},
   "outputs": [
    {
     "name": "stdout",
     "output_type": "stream",
     "text": [
      "0.84.0\n"
     ]
    }
   ],
   "source": [
    "import classiq\n",
    "from classiq import *\n",
    "\n",
    "print(classiq.__version__)"
   ]
  },
  {
   "cell_type": "markdown",
   "metadata": {},
   "source": [
    "We simulate the circuit and check if the Gaussian state is prepared correctly."
   ]
  },
  {
   "cell_type": "code",
   "execution_count": null,
   "metadata": {},
   "outputs": [
    {
     "name": "stdout",
     "output_type": "stream",
     "text": [
      "Quantum program link: https://platform.classiq.io/circuit/2zDurVuhGLLyw0xv4FYOACpvsnz\n"
     ]
    }
   ],
   "source": [
    "@qfunc\n",
    "def main() -> None:\n",
    "    qn = QNum()\n",
    "    allocate(5, qn)\n",
    "    hadamard_transform(qn)\n",
    "    q = QBit()\n",
    "    q |= qn == 0\n",
    "\n",
    "qmod = create_model(\n",
    "    main,\n",
    "    execution_preferences=ExecutionPreferences(\n",
    "        num_shots=1,\n",
    "        backend_preferences=ClassiqBackendPreferences(\n",
    "            backend_name=\"simulator_statevector\"\n",
    "        ),\n",
    "    ),\n",
    "    preferences=Preferences(timeout_seconds=1800),\n",
    ")\n",
    "write_qmod(qmod, \"stateprep_guassian_using_qsvt\")\n",
    "qprog = synthesize(qmod)\n",
    "show(qprog)\n",
    "result = execute(qprog).result_value()"
   ]
  }
 ],
 "metadata": {
  "kernelspec": {
   "display_name": "Python 3 (ipykernel)",
   "language": "python",
   "name": "python3"
  },
  "language_info": {
   "codemirror_mode": {
    "name": "ipython",
    "version": 3
   },
   "file_extension": ".py",
   "mimetype": "text/x-python",
   "name": "python",
   "nbconvert_exporter": "python",
   "pygments_lexer": "ipython3",
   "version": "3.11.4"
  }
 },
 "nbformat": 4,
 "nbformat_minor": 4
}
