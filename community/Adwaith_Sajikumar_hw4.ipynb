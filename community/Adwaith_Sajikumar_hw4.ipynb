{
 "cells": [
  {
   "cell_type": "markdown",
   "id": "270896cf-8170-44a7-ba89-41eefda2dee6",
   "metadata": {},
   "source": [
    "# Linear Discrete-Time Quantum Walks (DTQWs)\n",
    "\n",
    "Linear discrete-time quantum walks perform a quantum walk on a line graph, where the vertices represent states and the edges represent possible transitions between states. The walk is influenced by quantum operators, including diffusion and swap operations, which help in exploring the graph's structure.\n",
    "\n",
    "The positions the walker can occupy are represented by integers on a line, and the walker can move left or right based on the outcome of a quantum coin flip. This means the positions the walker can occupy are represented by integers on a line, and the walker can move left or right based on the outcome of a quantum coin flip.\n",
    "\n",
    "![](quantum_walk.jpg)\n",
    "\n",
    "Components of Linear DTQWs\n",
    "\n",
    "### 1. Position Space\n",
    "- The position space consists of states represents the integer positions on the line.\n",
    "- The walker’s position is described by a superposition of these position states.\n",
    "\n",
    "### 2. Coin Space\n",
    "- The coin space is typically a two-dimensional Hilbert space with basis states \\(|0\\rangle\\) (move left) and \\(|1\\rangle\\) (move right).\n",
    "- The state of the coin determines the direction of the walker’s movement.\n",
    "\n",
    "### 3. Initial State\n",
    "- The initial state of the walker is often set to be localized at a particular position, such as the origin, and in a superposition of the coin states.\n",
    "- Example: The walker starts at position 0 with equal probability to move left or right.\n",
    "\n",
    "## Operations in Linear DTQWs\n",
    "\n",
    "### 1. Coin Flip Operation\n",
    "- A unitary coin operator, C, is applied to the coin space. The most common coin operator is the Hadamard gate:\n",
    "\n",
    "- This operation creates a superposition of the coin states.\n",
    "\n",
    "### 2. Shift Operation\n",
    "- The shift operator, S, moves the walker left or right based on the coin state.\n",
    "\n",
    "### First Step\n",
    "- Apply the coin operator (Hadamard gate):\n",
    "\n",
    "- Apply the shift operator:\n",
    "\n",
    "### Subsequent Steps\n",
    "- Repeat the process for the desired number of steps, applying the coin and shift operators iteratively.\n",
    "\n",
    "## Key Properties and Advantages\n",
    "\n",
    "- **Superposition and Interference**: Linear DTQWs leverage quantum superposition and interference, resulting in probability distributions that spread faster than classical random walks.\n",
    "  \n",
    "- **Spread and Speed**: The walker’s probability distribution spreads quadratically faster than in a classical random walk, leading to potential speedups in algorithms.\n",
    "  \n",
    "- **Applications**: Linear DTQWs are useful in quantum search algorithms, exploring structured data, and simulating physical systems.\n",
    "\n",
    "## Summary\n",
    "\n",
    "Linear DTQWs involve a quantum walker moving on a one-dimensional line, with movement decisions made based on a quantum coin flip. The walk evolves through iterative application of coin and shift operators, creating complex probability distributions due to quantum superposition and interference. This unique behavior enables faster exploration of state spaces and has various applications in quantum computing and algorithm design.\n",
    "\n"
   ]
  },
  {
   "cell_type": "markdown",
   "id": "5fb4eb0b-4534-4de6-b794-03806634972a",
   "metadata": {},
   "source": [
    "Imports"
   ]
  },
  {
   "cell_type": "code",
   "execution_count": 20,
   "id": "0270172b-0d11-4415-bfe1-bb0ea28207c1",
   "metadata": {},
   "outputs": [],
   "source": [
    "from classiq import *\n",
    " \n",
    "size = 4"
   ]
  },
  {
   "cell_type": "markdown",
   "id": "63626265-9e09-4b3b-a2c8-9e86fc3900e9",
   "metadata": {},
   "source": [
    "Function to prepare a qubit in the |-> state"
   ]
  },
  {
   "cell_type": "code",
   "execution_count": 21,
   "id": "cc3a2f98-7fb9-4f79-8554-a7fb0dab869a",
   "metadata": {},
   "outputs": [],
   "source": [
    "@qfunc\n",
    "def prepare_minus(x: QBit):\n",
    "    # Apply the X gate to flip the qubit\n",
    "    X(x)\n",
    "    # Apply the H (Hadamard) gate to put the qubit in superposition\n",
    "    H(x)"
   ]
  },
  {
   "cell_type": "markdown",
   "id": "d7bfe02b-0336-48fb-acff-a8c356ae0df8",
   "metadata": {},
   "source": [
    "Diffuser oracle function"
   ]
  },
  {
   "cell_type": "code",
   "execution_count": 22,
   "id": "d14a90de-9e96-4bd3-9c48-fa74ab18a8f4",
   "metadata": {},
   "outputs": [],
   "source": [
    "@qfunc\n",
    "def diffuzer_oracle(aux: Output[QNum], x: QNum):\n",
    "    # If x is not zero, flip the auxiliary qubit\n",
    "    aux ^= (x != 0)"
   ]
  },
  {
   "cell_type": "markdown",
   "id": "c8bf0e6f-33a3-48ec-9b8f-1bec059e4ce7",
   "metadata": {},
   "source": [
    "Zero diffuser function"
   ]
  },
  {
   "cell_type": "code",
   "execution_count": 23,
   "id": "b9cfbba5-eff9-4d1c-a6dc-e6b47eb2e482",
   "metadata": {},
   "outputs": [],
   "source": [
    "@qfunc\n",
    "def zero_diffuzer(x: QNum):\n",
    "    aux = QNum('aux')\n",
    "    # Allocate a single qubit for the auxiliary register\n",
    "    allocate(1, aux)\n",
    "    # Apply the diffuser oracle within the context of the |-> state preparation\n",
    "    within_apply(\n",
    "        compute=lambda: prepare_minus(aux),\n",
    "        action=lambda: diffuzer_oracle\n",
    "    )\n"
   ]
  },
  {
   "cell_type": "code",
   "execution_count": 24,
   "id": "4e164177-5d98-4a0b-93ab-8be7183d61a8",
   "metadata": {},
   "outputs": [],
   "source": [
    "# Function to perform a W iteration for a given state i\n",
    "def W_iteration(i: int, vertices: QNum, adjacent_vertices: QNum):\n",
    "    # Initialize a probability vector for the state transition\n",
    "    prob = [0] * 16\n",
    "    if i == 0:\n",
    "        prob[i + 1] = 1.0\n",
    "    elif i == 15:\n",
    "        prob[i - 1] = 1.0\n",
    "    else:\n",
    "        prob[i - 1] = 0.5\n",
    "        prob[i + 1] = 0.5\n",
    "    print(f'State={i}, prob vec ={prob}')\n",
    "\n",
    "        # Apply controlled operations based on the current state\n",
    "    control(\n",
    "        ctrl=vertices == i,\n",
    "        operand=lambda: within_apply(\n",
    "            compute=lambda: inplace_prepare_state(probabilities=prob, bound=0.01, target=adjacent_vertices),\n",
    "            action=lambda: zero_diffuzer(adjacent_vertices)\n",
    "        )\n",
    "    )\n"
   ]
  },
  {
   "cell_type": "markdown",
   "id": "19099f06-733d-42d8-8978-011864293389",
   "metadata": {},
   "source": [
    "Function to apply the W operator on the vertices and adjacent_vertices"
   ]
  },
  {
   "cell_type": "code",
   "execution_count": 25,
   "id": "c530369d-1eb9-4f82-9590-7e9fbe503f88",
   "metadata": {},
   "outputs": [],
   "source": [
    "@qfunc\n",
    "def W_operator(vertices: QNum, adjacent_vertices: QNum):\n",
    "    # Iterate over all possible states\n",
    "    for i in range(2 ** size):\n",
    "        W_iteration(i, vertices, adjacent_vertices)"
   ]
  },
  {
   "cell_type": "markdown",
   "id": "06ff8433-6992-4e36-ae2f-5d3710ecbb6b",
   "metadata": {},
   "source": [
    "Edge oracle function to determine if two vertices are adjacent"
   ]
  },
  {
   "cell_type": "code",
   "execution_count": 26,
   "id": "ae6be397-1239-46e7-b2d0-af1978527945",
   "metadata": {},
   "outputs": [],
   "source": [
    "@qfunc\n",
    "def edge_oracle(res: Output[QBit], vertices: QNum, adjacent_vertices: QNum):\n",
    "    res |= ((vertices - adjacent_vertices) == 1) | ((adjacent_vertices - vertices) == 1)\n"
   ]
  },
  {
   "cell_type": "markdown",
   "id": "f1c55848-1919-444a-8a59-fb8dc7c2ae7b",
   "metadata": {},
   "source": [
    "Function to swap two quantum arrays bitwise"
   ]
  },
  {
   "cell_type": "code",
   "execution_count": 27,
   "id": "79612284-7327-4c35-ab61-480811a7dc9d",
   "metadata": {},
   "outputs": [],
   "source": [
    "@qfunc\n",
    "def bitwise_swap(x: QArray[QBit], y: QArray[QBit]):\n",
    "    repeat(count=x.len, iteration=lambda i: SWAP(x[i], y[i]))"
   ]
  },
  {
   "cell_type": "markdown",
   "id": "b624c91d-33b9-4fd0-99d4-2609eb3770ce",
   "metadata": {},
   "source": [
    "S operator function to apply swaps based on the edge oracle result"
   ]
  },
  {
   "cell_type": "code",
   "execution_count": 28,
   "id": "8c9e8993-e8bb-4bd9-b12b-c34a3c499f45",
   "metadata": {},
   "outputs": [],
   "source": [
    "@qfunc\n",
    "def S_operator(vertices: QNum, adjacent_vertices: QNum):\n",
    "    res = QNum('res')\n",
    "    edge_oracle(res, vertices, adjacent_vertices)\n",
    "    control(\n",
    "        ctrl=res == 1,\n",
    "        operand=lambda: bitwise_swap(vertices, adjacent_vertices)\n",
    "    )"
   ]
  },
  {
   "cell_type": "markdown",
   "id": "94494a50-4712-414a-8bdb-fca0d332176e",
   "metadata": {},
   "source": [
    "Main function to initialize and execute the quantum operations"
   ]
  },
  {
   "cell_type": "code",
   "execution_count": 29,
   "id": "7ff832f0-40b9-4582-8335-6e30f7111e7e",
   "metadata": {},
   "outputs": [],
   "source": [
    "@qfunc\n",
    "def main(vertices: Output[QNum], adjacent_vertices: Output[QNum]):\n",
    "    # Allocate qubits for the vertices\n",
    "    allocate(size, vertices)\n",
    "    # Apply Hadamard transform to put the vertices in superposition\n",
    "    hadamard_transform(vertices)\n",
    "    # Allocate qubits for the adjacent vertices\n",
    "    allocate(size, adjacent_vertices)\n",
    "    \n",
    "    # Apply the W and S operators\n",
    "    W_operator(vertices, adjacent_vertices)\n",
    "    S_operator(vertices, adjacent_vertices)"
   ]
  },
  {
   "cell_type": "markdown",
   "id": "b1b03c20-b404-438d-abdb-0e397aed5f93",
   "metadata": {},
   "source": [
    "Create and synthesize the quantum model"
   ]
  },
  {
   "cell_type": "code",
   "execution_count": 30,
   "id": "eafc79c5-fd5b-499c-aad1-4d3be4f56e3e",
   "metadata": {},
   "outputs": [
    {
     "name": "stdout",
     "output_type": "stream",
     "text": [
      "State=0, prob vec =[0, 1.0, 0, 0, 0, 0, 0, 0, 0, 0, 0, 0, 0, 0, 0, 0]\n",
      "State=1, prob vec =[0.5, 0, 0.5, 0, 0, 0, 0, 0, 0, 0, 0, 0, 0, 0, 0, 0]\n",
      "State=2, prob vec =[0, 0.5, 0, 0.5, 0, 0, 0, 0, 0, 0, 0, 0, 0, 0, 0, 0]\n",
      "State=3, prob vec =[0, 0, 0.5, 0, 0.5, 0, 0, 0, 0, 0, 0, 0, 0, 0, 0, 0]\n",
      "State=4, prob vec =[0, 0, 0, 0.5, 0, 0.5, 0, 0, 0, 0, 0, 0, 0, 0, 0, 0]\n",
      "State=5, prob vec =[0, 0, 0, 0, 0.5, 0, 0.5, 0, 0, 0, 0, 0, 0, 0, 0, 0]\n",
      "State=6, prob vec =[0, 0, 0, 0, 0, 0.5, 0, 0.5, 0, 0, 0, 0, 0, 0, 0, 0]\n",
      "State=7, prob vec =[0, 0, 0, 0, 0, 0, 0.5, 0, 0.5, 0, 0, 0, 0, 0, 0, 0]\n",
      "State=8, prob vec =[0, 0, 0, 0, 0, 0, 0, 0.5, 0, 0.5, 0, 0, 0, 0, 0, 0]\n",
      "State=9, prob vec =[0, 0, 0, 0, 0, 0, 0, 0, 0.5, 0, 0.5, 0, 0, 0, 0, 0]\n",
      "State=10, prob vec =[0, 0, 0, 0, 0, 0, 0, 0, 0, 0.5, 0, 0.5, 0, 0, 0, 0]\n",
      "State=11, prob vec =[0, 0, 0, 0, 0, 0, 0, 0, 0, 0, 0.5, 0, 0.5, 0, 0, 0]\n",
      "State=12, prob vec =[0, 0, 0, 0, 0, 0, 0, 0, 0, 0, 0, 0.5, 0, 0.5, 0, 0]\n",
      "State=13, prob vec =[0, 0, 0, 0, 0, 0, 0, 0, 0, 0, 0, 0, 0.5, 0, 0.5, 0]\n",
      "State=14, prob vec =[0, 0, 0, 0, 0, 0, 0, 0, 0, 0, 0, 0, 0, 0.5, 0, 0.5]\n",
      "State=15, prob vec =[0, 0, 0, 0, 0, 0, 0, 0, 0, 0, 0, 0, 0, 0, 1.0, 0]\n",
      "Opening: https://platform.classiq.io/circuit/e5f584b9-3577-44e0-af26-504916d497b5?version=0.43.3\n"
     ]
    }
   ],
   "source": [
    "qmod = create_model(main)\n",
    "qprog = synthesize(qmod)\n",
    "show(qprog)"
   ]
  }
 ],
 "metadata": {
  "kernelspec": {
   "display_name": "Python 3 (ipykernel)",
   "language": "python",
   "name": "python3"
  },
  "language_info": {
   "codemirror_mode": {
    "name": "ipython",
    "version": 3
   },
   "file_extension": ".py",
   "mimetype": "text/x-python",
   "name": "python",
   "nbconvert_exporter": "python",
   "pygments_lexer": "ipython3",
   "version": "3.11.9"
  }
 },
 "nbformat": 4,
 "nbformat_minor": 5
}
