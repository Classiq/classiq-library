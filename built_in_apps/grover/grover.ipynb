{
 "cells": [
  {
   "cell_type": "markdown",
   "id": "db29ba85",
   "metadata": {
    "pycharm": {
     "name": "#%% md\n"
    },
    "tags": []
   },
   "source": [
    "\n",
    "# Grover's Algorithm\n",
    "\n",
    "This notebook demonstrates how to use the `construct_grover_model` function, which constructs a Grover search model. For more comprehensive explanation on the algorithm see [3SAT Grover notebook](https://github.com/Classiq/classiq-library/blob/main/algorithms/grover/3_sat_grover/3_sat_grover.ipynb).\n"
   ]
  },
  {
   "cell_type": "markdown",
   "id": "2b14dbae",
   "metadata": {
    "pycharm": {
     "name": "#%% md\n"
    }
   },
   "source": [
    "## 1. Defining a Specific Example\n",
    "\n",
    "Start with specifying a specific search problem: the arithmetic variables and the arithmetic predicate."
   ]
  },
  {
   "cell_type": "code",
   "execution_count": 1,
   "id": "435cbe88-58a4-4be7-be72-db0d0230ee73",
   "metadata": {},
   "outputs": [],
   "source": [
    "def classical_predicate(a, b, c):\n",
    "    return (a + b + (c & 6)) % 4 | 4 & c == 4"
   ]
  },
  {
   "cell_type": "markdown",
   "id": "b27a231e-6c0d-414c-b5fe-9d8a35418ef1",
   "metadata": {},
   "source": [
    "with a, b, c unsinged integers of size 3."
   ]
  },
  {
   "cell_type": "markdown",
   "id": "86cac86c-f0b6-41a5-9eae-485c9fed0c0e",
   "metadata": {},
   "source": [
    "## 2. Constructing and Synthesizing a Grover Model\n",
    "\n",
    "We now call the `grover_search` for the specific case. We pass the number of grover operator repetitions in the model (which is based on the frequency of solutions in the search space).\n"
   ]
  },
  {
   "cell_type": "code",
   "execution_count": 2,
   "id": "3331b0ba-1c21-4769-8825-7ccb8a0fb9a2",
   "metadata": {},
   "outputs": [],
   "source": [
    "from classiq import *\n",
    "\n",
    "NUM_VARIABLES = 3\n",
    "\n",
    "\n",
    "class PredicateVars(QStruct):\n",
    "    a: QNum[2, False, 0]\n",
    "    b: QNum[2, False, 0]\n",
    "    c: QNum[3, False, 0]\n",
    "\n",
    "\n",
    "@qfunc\n",
    "def quantum_predicate(vars: PredicateVars, res: QBit):\n",
    "    res ^= classical_predicate(vars.a, vars.b, vars.c)\n",
    "\n",
    "\n",
    "@qfunc\n",
    "def main(vars: Output[PredicateVars]):\n",
    "    allocate(vars.size, vars)\n",
    "\n",
    "    grover_search(\n",
    "        reps=1,\n",
    "        oracle=lambda vars: phase_oracle(quantum_predicate, vars),\n",
    "        packed_vars=vars,\n",
    "    )\n",
    "\n",
    "\n",
    "qmod = create_model(main, out_file=\"grover\")"
   ]
  },
  {
   "cell_type": "markdown",
   "id": "a4e6cfec-6fde-467c-bdae-4090c341f291",
   "metadata": {},
   "source": [
    "We synthesize and visualize the circuit"
   ]
  },
  {
   "cell_type": "code",
   "execution_count": 4,
   "id": "99f8c71b-1479-49c7-bb81-8eeb24f8907e",
   "metadata": {
    "tags": []
   },
   "outputs": [],
   "source": [
    "qprog = synthesize(qmod)"
   ]
  },
  {
   "cell_type": "code",
   "execution_count": 5,
   "id": "13c9a04d-1084-4843-80ee-23a0ad221522",
   "metadata": {},
   "outputs": [
    {
     "name": "stdout",
     "output_type": "stream",
     "text": []
    }
   ],
   "source": [
    "show(qprog)"
   ]
  },
  {
   "cell_type": "markdown",
   "id": "9900e10e",
   "metadata": {
    "pycharm": {
     "name": "#%% md\n"
    }
   },
   "source": [
    "## 3. Executing to Find the Result\n",
    "\n",
    "Lastly, we execute the resulting quantum program"
   ]
  },
  {
   "cell_type": "code",
   "execution_count": 6,
   "id": "79e9c4c7-5c29-4d4c-a01d-26a01b7805de",
   "metadata": {
    "pycharm": {
     "name": "#%%\n"
    },
    "tags": []
   },
   "outputs": [],
   "source": [
    "result = execute(qprog).result_value()"
   ]
  },
  {
   "cell_type": "markdown",
   "id": "f4b95d21-94f5-414d-a904-a8abb677faac",
   "metadata": {},
   "source": [
    "We can take the three-most probable results (the `parsed_counts` variable of the results is ordered according to the probability of the corresponding state)"
   ]
  },
  {
   "cell_type": "code",
   "execution_count": 7,
   "id": "b402d7b7-f2bd-4dff-a8fd-dad1bbe26730",
   "metadata": {},
   "outputs": [
    {
     "data": {
      "text/plain": [
       "{'a': 1, 'b': 3, 'c': 5}"
      ]
     },
     "execution_count": 7,
     "metadata": {},
     "output_type": "execute_result"
    }
   ],
   "source": [
    "result.parsed_counts[0].state[\"vars\"]"
   ]
  },
  {
   "cell_type": "code",
   "execution_count": 8,
   "id": "6118661f-621d-41bd-a523-c248b0a2ad4c",
   "metadata": {},
   "outputs": [
    {
     "name": "stdout",
     "output_type": "stream",
     "text": [
      "a = 1 , b = 3 , c = 5 : True\n",
      "a = 1 , b = 1 , c = 6 : True\n",
      "a = 2 , b = 2 , c = 5 : True\n"
     ]
    }
   ],
   "source": [
    "NUM_SOLUTIONS = 3\n",
    "\n",
    "for k in range(NUM_SOLUTIONS):\n",
    "    parsed_result = result.parsed_counts[k].state[\"vars\"]\n",
    "    a, b, c = int(parsed_result[\"a\"]), int(parsed_result[\"b\"]), int(parsed_result[\"c\"])\n",
    "    print(\"a =\", a, \", b =\", b, \", c =\", c, \":\", classical_predicate(a, b, c))"
   ]
  }
 ],
 "metadata": {
  "kernelspec": {
   "display_name": "Python 3 (ipykernel)",
   "language": "python",
   "name": "python3"
  },
  "language_info": {
   "codemirror_mode": {
    "name": "ipython",
    "version": 3
   },
   "file_extension": ".py",
   "mimetype": "text/x-python",
   "name": "python",
   "nbconvert_exporter": "python",
   "pygments_lexer": "ipython3",
   "version": "3.11.7"
  },
  "vscode": {
   "interpreter": {
    "hash": "a07aacdcc8a415e7643a2bc993226848ff70704ebef014f87460de9126b773d0"
   }
  }
 },
 "nbformat": 4,
 "nbformat_minor": 5
}
