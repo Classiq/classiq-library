{
 "cells": [
  {
   "cell_type": "markdown",
   "id": "cdf426de-3596-497d-8211-147b3ed16c59",
   "metadata": {},
   "source": [
    "# Designing quantum algorithms with second order functions: a flexible QPE"
   ]
  },
  {
   "cell_type": "markdown",
   "id": "3652b5a7-74ba-4b30-b267-fc544293fe0b",
   "metadata": {},
   "source": [
    "## 1. Introduction\n",
    "\n",
    "Quantum Phase Estimation (QPE) is one of the fundamental quantum functions, being at the core of Shor's, HHL, and amplitude estimation algorithms. QPE is a second order function, getting a quantum function $U$ and returning an estimation of its eigenvalues (recall that any quantum function represents a unitary matrix). A QPE which encodes the eigenvalues on $m$ qubits involves a series of $m$ controlled operations of $U^{2^k}$ with $0\\leq k < m-1$. Thus, acheiving a quantum advatage based on the QPE function relies on the ability to implement effeciently the power of a given unitary $U$, since otherwise, naively $U$ is called $\\sum^{m-1}_{k=0} 2^k=2^m$ times &ndash; a number \n",
    "which is exponential in the number of qubits.\n",
    "\n",
    "**In this tutorial we show how one can leverage declarative and programmatic modeling for exploring the QPE function, in the context of Hamiltonian simulation.**"
   ]
  },
  {
   "cell_type": "markdown",
   "id": "c631a19f-3b96-4855-bb75-4a3802dcbe80",
   "metadata": {},
   "source": [
    "We start with some basic imports"
   ]
  },
  {
   "cell_type": "code",
   "execution_count": 1,
   "id": "4bd92808-4b4e-4b0e-934c-f8afc6d65b3f",
   "metadata": {
    "execution": {
     "iopub.execute_input": "2023-12-06T03:23:11.890024Z",
     "iopub.status.busy": "2023-12-06T03:23:11.887250Z",
     "iopub.status.idle": "2023-12-06T03:23:14.792198Z",
     "shell.execute_reply": "2023-12-06T03:23:14.791389Z"
    }
   },
   "outputs": [],
   "source": [
    "import sympy\n",
    "\n",
    "from classiq import QArray, QBit, QCallable, QFunc, QParam"
   ]
  },
  {
   "cell_type": "markdown",
   "id": "d5a1f97d-7694-4033-b574-4e3b74ab1944",
   "metadata": {},
   "source": [
    "## 2. Defining a flexible QPE\n",
    "\n",
    "As a first step, we define a flexible QPE function: instead of getting a single operand $U$, it gets a parametric operand, $U(p)$, where $p$ is an integer such that $U(p)\\equiv U^p$. That is, the power logic of $U$ is passed explicitly with the function. In addition, the QPE itself has an integer parameter for for the phase register size."
   ]
  },
  {
   "cell_type": "markdown",
   "id": "11152bd2-fb6f-44dc-9bb0-e1bc9550a721",
   "metadata": {},
   "source": [
    "<center>\n",
    "<img src=\"https://classiq-docs-images.s3.amazonaws.com/qpe_flexible.png\" style=\"width:95%\">\n",
    "<figcaption align = \"middle\"> A Flexible QPE, a rolled-up (left) and a rolled-down (right) layouts. </figcaption>\n",
    "</center>"
   ]
  },
  {
   "cell_type": "code",
   "execution_count": 2,
   "id": "8c1a034a-bd7e-4c33-8788-ff983bed211a",
   "metadata": {
    "execution": {
     "iopub.execute_input": "2023-12-06T03:23:14.800262Z",
     "iopub.status.busy": "2023-12-06T03:23:14.799526Z",
     "iopub.status.idle": "2023-12-06T03:23:14.811203Z",
     "shell.execute_reply": "2023-12-06T03:23:14.810565Z"
    }
   },
   "outputs": [],
   "source": [
    "from classiq import H, apply_to_all, control, invert, join, qft, repeat, split\n",
    "\n",
    "\n",
    "@QFunc\n",
    "def qpe_flexible(\n",
    "    unitary: QCallable[QParam[int], QArray[QBit]],\n",
    "    state: QArray[QBit],\n",
    "    phase: QArray[QBit],\n",
    ") -> None:\n",
    "    apply_to_all(H, phase)\n",
    "\n",
    "    repeat(\n",
    "        count=phase.len(),\n",
    "        iteration=lambda index: control(\n",
    "            operand=lambda: unitary(2**index, state),\n",
    "            ctrl=phase[index],\n",
    "        ),\n",
    "    )\n",
    "\n",
    "    invert(\n",
    "        lambda: qft(phase),\n",
    "    )"
   ]
  },
  {
   "cell_type": "markdown",
   "id": "fc463a31-6837-4b99-b5e3-6c527bf1dad7",
   "metadata": {},
   "source": [
    "## 3. An example: a QPE for finding the eigenvalues of an Hermitian matrix\n",
    "\n",
    "One of the QPE usages is to find the eigenvalues of a given Hermitian matrix $H$. Two canonical use-cases are: (A) the HHL algorithm for solving linear equations $H\\cdot \\vec{x}=\\vec{b}$, where the matrix eigenvalues are needed to be stored on a quantum register, and (B) finding a minimal energy of a molecule Hamiltonian $H$, where one starts with preparing an initial guess for an eigenvector followed by a QPE which aims to detect the minimal eigenvalue.\n",
    "\n",
    "In both of this use-cases, a QPE is performed on *Hamiltonian evolution* $U=e^{2\\pi i H}$."
   ]
  },
  {
   "cell_type": "markdown",
   "id": "d13ea2c2",
   "metadata": {},
   "source": [
    "### 3.1 Hamiltonian Evolution\n",
    "\n",
    "Hamiltonian evolution, or Hamiltonian simulation, is one of the promising usages of quantum computers, where the advantage over the classical approaches is clear and transparent (as proposed by Richard Feynman in 1982). Nevertheless, constructing a quantum program for an efficient Hamiltonian dynamics is not an easy task. The most common examples uses approximated product formulas, such as the Trotter-Suzuki (TS) formulas.\n",
    "\n",
    "#### 3.1.1 Trotter Suzuki of order 1\n",
    "\n",
    "We can write the Hamiltonian as a sum of Pauli strings $H=\\sum_{i=0}^{L-1} a^{(k)} P^{(k)}$,\n",
    "where $a^{(k)}$ are complex coefficients, and each of $P^{(k)}$ is a Pauli string of the form $s_0\\otimes s_1\\otimes\\dots\\otimes s_L$, with $s_i\\in \\{I, X, Y, Z\\}$. Approximating Hamiltonian simulation with TS of order 1 refers to:\n",
    "$$\n",
    "e^{2\\pi i H}\\approx \\left(\\Pi^{L-1}_{i=0}e^{\\frac{a^{(k)}}{r} P^{(k)}}\\right)^r,\n",
    "$$\n",
    "where $r$ is called the *number of repetitions*.\n",
    "\n",
    "* *Given a Hamiltonian, and a functional error $\\epsilon$, what are the needed number of repetitions?*\n",
    "\n",
    "Apparently, this is not an easy question. The literature provides several bounds for the number of repetitions for a given funcitonal error and error metric, however, typically, these bound are very rough, far from represnting the actual number of repetition to use. See Ref.[[1](#Errors)] for a comprehensive study.\n",
    "\n",
    "* *When preforming a QPE the challange is even more pronounced*:\n",
    "\n",
    "\n",
    "We need to preform a series of Hamiltonian simulations, with an exponentially growing evolution coefficient, $e^{2\\pi i H}, \\, e^{2^1 2\\pi i H}, \\, e^{2^2 2\\pi i H}, \\dots, e^{2^{m-1}2\\pi i H}$. Which product formula should we use for each step, assuming we want to keep the same error per step?\n",
    "\n",
    "In the lack of good theoretical bounds for the aforementioned questions, we can resort to some experimental exploration, with the hope of finding some theoretical clues and insights. Let see how to do this:"
   ]
  },
  {
   "cell_type": "markdown",
   "id": "1db1487a-caea-4a7c-a9df-eb19b42ccc5d",
   "metadata": {},
   "source": [
    "### 3.1.2 A flexible Trotter Suzuki for plugging into our flexible QPE\n",
    "\n",
    "The Trotter-Suzuki of order 1 function, $\\text{TS}_1$, gets an Hamiltonian $H$, evolution coefficient $t$, and repetition $r$. We are going to define a function which wraps it in the following way:\n",
    "\n",
    "$$\n",
    "\\tilde{\\text{TS}}_1\\left(H,t,p \\right) := \\text{TS}_1\\left(H,pt,r=f(p)\\right).\n",
    "$$\n",
    "\n",
    "The function $f(p)$ tries to capture how many repetitions we need to approximate $\\left(e^{2\\pi i H}\\right)^p=e^{p 2\\pi i H}$. We will define the \"goodness of approximation\" in sec 3.2.\n",
    "\n",
    "\n",
    "Let us define some ansatz for the repetition scaling $f(p)$:\n",
    "\\begin{equation}\n",
    "f(p)\\equiv \\left\\{\n",
    "\\begin{array}{l l}\n",
    "r_0 & \\text{if  } p<p_0,  \\\\       \n",
    "r_0 \\left\\lceil {\\left(p/p_0\\right)^\\gamma}\\right\\rceil & \\text{if  } p\\geq p_0\n",
    "\\end{array}\n",
    "\\right. , \n",
    "\\end{equation}\n",
    "where $r_0$, $p_0$ and $\\gamma$ are parameters we have to tune."
   ]
  },
  {
   "cell_type": "code",
   "execution_count": 3,
   "id": "6418ed47-719d-4bd7-bac9-bed4c0b1c77c",
   "metadata": {
    "execution": {
     "iopub.execute_input": "2023-12-06T03:23:14.817192Z",
     "iopub.status.busy": "2023-12-06T03:23:14.816757Z",
     "iopub.status.idle": "2023-12-06T03:23:14.823168Z",
     "shell.execute_reply": "2023-12-06T03:23:14.822563Z"
    }
   },
   "outputs": [],
   "source": [
    "from classiq import suzuki_trotter\n",
    "\n",
    "\n",
    "def suzuki_trotter_with_power_logic(\n",
    "    hamiltonian,\n",
    "    pw: QParam[int],\n",
    "    evolution_coefficient: QParam[float],\n",
    "    order: QParam[int],\n",
    "    target: QArray[QBit],\n",
    "    p_0: int,\n",
    "    gamma: float,\n",
    "    r0: int,\n",
    ") -> None:\n",
    "    suzuki_trotter(\n",
    "        hamiltonian,\n",
    "        evolution_coefficient=evolution_coefficient * pw,\n",
    "        order=1,\n",
    "        repetitions=sympy.Piecewise(\n",
    "            (r0, pw < p_0), (sympy.ceiling(r0 * (pw / p_0) ** gamma), True)\n",
    "        ),\n",
    "        qbv=target,\n",
    "    )"
   ]
  },
  {
   "cell_type": "markdown",
   "id": "359439f2-ca88-42e7-a554-4d14991139d7",
   "metadata": {},
   "source": [
    "### 3.2 QPE performance\n",
    "\n",
    "In this tutorial, our measure for goodness of approximation refers to the functionality of the full QPE function, rather than taking some rigorous operator norm per each Hamiltonian simulations step within the QPE. We examine our approximated QPE in two ways:\n",
    "1. By its ability to approximate an eigenvalue for a given eigenvector.\n",
    "2. By comparing its resulting phase state with the one which results from a QPE with an exact Hamiltonian evolution, using a swap test.\n",
    "  \n"
   ]
  },
  {
   "cell_type": "markdown",
   "id": "3d7b255f-a838-48b1-abbb-26670b517793",
   "metadata": {},
   "source": [
    "## 4. Exploring a specific example"
   ]
  },
  {
   "cell_type": "markdown",
   "id": "9c340661-399d-4b6f-a5af-5aaedf19d9fa",
   "metadata": {},
   "source": [
    "We consider a specific Hamiltonian, which we define with the `PauliOperator` object"
   ]
  },
  {
   "cell_type": "code",
   "execution_count": 4,
   "id": "3328ee05-30e7-4136-9e50-30ce3b70c5dd",
   "metadata": {
    "execution": {
     "iopub.execute_input": "2023-12-06T03:23:14.826410Z",
     "iopub.status.busy": "2023-12-06T03:23:14.825995Z",
     "iopub.status.idle": "2023-12-06T03:23:14.831205Z",
     "shell.execute_reply": "2023-12-06T03:23:14.830583Z"
    }
   },
   "outputs": [],
   "source": [
    "import numpy as np\n",
    "\n",
    "from classiq.applications.chemistry import PauliOperator\n",
    "\n",
    "paulis = [\n",
    "    (\"II\", 0.4),\n",
    "    (\"IZ\", -0.05),\n",
    "    (\"IX\", -0.03),\n",
    "    (\"ZZ\", -0.06),\n",
    "    (\"XZ\", 0.04),\n",
    "    (\"XX\", -0.16),\n",
    "    (\"YY\", -0.06),\n",
    "]\n",
    "\n",
    "po = PauliOperator(pauli_list=paulis)"
   ]
  },
  {
   "cell_type": "markdown",
   "id": "8ac801f2-af6e-48e4-a5aa-2e2f1796c620",
   "metadata": {},
   "source": [
    "We define some auxiliary functions for parsing the PauliOperator object."
   ]
  },
  {
   "cell_type": "code",
   "execution_count": 5,
   "id": "3b431cad",
   "metadata": {
    "execution": {
     "iopub.execute_input": "2023-12-06T03:23:14.834489Z",
     "iopub.status.busy": "2023-12-06T03:23:14.834065Z",
     "iopub.status.idle": "2023-12-06T03:23:14.843181Z",
     "shell.execute_reply": "2023-12-06T03:23:14.842556Z"
    }
   },
   "outputs": [],
   "source": [
    "from typing import cast\n",
    "\n",
    "from classiq import Pauli, PauliTerm\n",
    "\n",
    "my_list = {\"I\": Pauli.I, \"X\": Pauli.X, \"Y\": Pauli.Y, \"Z\": Pauli.Z}\n",
    "\n",
    "\n",
    "def pauli_str_to_enums(pauli):\n",
    "    return [my_list[s] for s in pauli]\n",
    "\n",
    "\n",
    "def pauli_operator_to_hamiltonian(pauli_operator):\n",
    "    return [\n",
    "        PauliTerm(\n",
    "            pauli=pauli_str_to_enums(pauli), coefficient=cast(complex, coeff).real\n",
    "        )\n",
    "        for pauli, coeff in pauli_operator.pauli_list\n",
    "    ]"
   ]
  },
  {
   "cell_type": "markdown",
   "id": "3f30bd12-ecc8-4cbe-ac9f-9f20979c2080",
   "metadata": {},
   "source": [
    "For the demonstration, we choose one of the eigenvectors of the matrix, and test the result of the approximated QPE with respect to the expected eigenvalue."
   ]
  },
  {
   "cell_type": "code",
   "execution_count": 6,
   "id": "ecee46f9-3200-4d8a-a0d0-c020918d6bb6",
   "metadata": {
    "execution": {
     "iopub.execute_input": "2023-12-06T03:23:14.846116Z",
     "iopub.status.busy": "2023-12-06T03:23:14.845709Z",
     "iopub.status.idle": "2023-12-06T03:23:14.855026Z",
     "shell.execute_reply": "2023-12-06T03:23:14.854403Z"
    }
   },
   "outputs": [
    {
     "name": "stdout",
     "output_type": "stream",
     "text": [
      "chosen eigenvector: [0.54233721 0.48935737 0.47765123 0.4881076 ]\n",
      "the eigenvalue we need to estimate: 0.20966990092576385\n"
     ]
    }
   ],
   "source": [
    "a_mat = po.to_matrix().real\n",
    "w, v = np.linalg.eig(a_mat)\n",
    "\n",
    "chosen_eig = 2\n",
    "print(\"chosen eigenvector:\", v[:, chosen_eig])\n",
    "print(\"the eigenvalue we need to estimate:\", w[chosen_eig])"
   ]
  },
  {
   "cell_type": "markdown",
   "id": "f9fe49c0-81ee-4f42-827d-b26c3aa18c11",
   "metadata": {},
   "source": [
    "***\n",
    "*Note, for our specific example the most naive upper bound for TS formula of order 1 and error $\\epsilon=0.1$ (defined by a spectral norm), gives $r=O(4t^2)$ [[2](#TS)], with $t=2\\pi$ for the first QPE step. This corresponds to $r_0\\sim 160$, and the following QPE steps grow exponentially $r_k\\sim 160\\times 4^k$. This will result in a huge circuit's depth. We can try to relax this by tuning the parameters of our ansatz.*\n",
    "\n",
    "*We remark that one might consider tighter bounds, based on commutation relations[[1](#Errors)], which can give more reasobale numbers. However, the main purpose of this tutorial is to highlight the advantages of abstract, high-level modeling. Indeed, any known bound can be incorporated in the flexiable Trotter-Suzuki, by defining $f(m)$ accordingly.*\n",
    "***"
   ]
  },
  {
   "cell_type": "markdown",
   "id": "2b44ed21-bd14-4bd4-9851-95f9b3c9dde8",
   "metadata": {},
   "source": [
    "### 4.1. Eigenvalue estimation\n",
    "\n",
    "We choose parameters for our power-logic function $f(p)$, construct a model, synthesize it and visualize the resulting quantum program."
   ]
  },
  {
   "cell_type": "code",
   "execution_count": 7,
   "id": "eee53fb1-209b-45b6-be3a-a5e18108a695",
   "metadata": {
    "execution": {
     "iopub.execute_input": "2023-12-06T03:23:14.858084Z",
     "iopub.status.busy": "2023-12-06T03:23:14.857670Z",
     "iopub.status.idle": "2023-12-06T03:23:25.099363Z",
     "shell.execute_reply": "2023-12-06T03:23:25.098599Z"
    }
   },
   "outputs": [],
   "source": [
    "from classiq import Output, allocate, create_model, prepare_amplitudes, synthesize\n",
    "\n",
    "QPE_SIZE = 5\n",
    "p_0 = 2 ** (QPE_SIZE - 3)\n",
    "R0 = 4  # according to the naive bound this should be O(150)\n",
    "GAMMA = 1.5  # according to the naive bound this should be 4\n",
    "\n",
    "\n",
    "@QFunc\n",
    "def main(phase_approx: Output[QArray[QBit, QPE_SIZE]]) -> None:\n",
    "    state = QArray(\"state\")\n",
    "    allocate(QPE_SIZE, phase_approx)\n",
    "    prepare_amplitudes(v[:, chosen_eig].tolist(), 0.0, state)\n",
    "    qpe_flexible(\n",
    "        unitary=lambda pw, target: suzuki_trotter_with_power_logic(\n",
    "            hamiltonian=pauli_operator_to_hamiltonian(po),\n",
    "            pw=pw,\n",
    "            evolution_coefficient=-2 * np.pi,\n",
    "            order=1,\n",
    "            r0=R0,\n",
    "            p_0=p_0,\n",
    "            gamma=GAMMA,\n",
    "            target=target,\n",
    "        ),\n",
    "        state=state,\n",
    "        phase=phase_approx,\n",
    "    )\n",
    "\n",
    "\n",
    "quantum_program = synthesize(create_model(main))"
   ]
  },
  {
   "cell_type": "code",
   "execution_count": 8,
   "id": "360823dd-ad1f-4559-801d-2aecaa0bee7b",
   "metadata": {
    "execution": {
     "iopub.execute_input": "2023-12-06T03:23:25.106711Z",
     "iopub.status.busy": "2023-12-06T03:23:25.103094Z",
     "iopub.status.idle": "2023-12-06T03:23:25.535346Z",
     "shell.execute_reply": "2023-12-06T03:23:25.534630Z"
    }
   },
   "outputs": [
    {
     "name": "stdout",
     "output_type": "stream",
     "text": [
      "Opening: https://platform.classiq.io/circuit/edadc669-dc8c-457c-9182-224a7f84b97d?version=0.34.0.dev0%2B124706fb0e\n"
     ]
    }
   ],
   "source": [
    "from classiq import show\n",
    "\n",
    "show(quantum_program)"
   ]
  },
  {
   "cell_type": "markdown",
   "id": "e0477e34",
   "metadata": {},
   "source": [
    "We execute the quantum program and examine the results: "
   ]
  },
  {
   "cell_type": "code",
   "execution_count": 9,
   "id": "92383122-e6c3-45bf-bd8a-afb484b703e1",
   "metadata": {
    "execution": {
     "iopub.execute_input": "2023-12-06T03:23:25.540189Z",
     "iopub.status.busy": "2023-12-06T03:23:25.538985Z",
     "iopub.status.idle": "2023-12-06T03:23:28.640049Z",
     "shell.execute_reply": "2023-12-06T03:23:28.639273Z"
    }
   },
   "outputs": [],
   "source": [
    "from classiq import execute\n",
    "\n",
    "result = execute(quantum_program).result()"
   ]
  },
  {
   "cell_type": "code",
   "execution_count": 10,
   "id": "cbb6d34e-1638-4b8e-8f8c-e4c5758434e5",
   "metadata": {
    "execution": {
     "iopub.execute_input": "2023-12-06T03:23:28.643715Z",
     "iopub.status.busy": "2023-12-06T03:23:28.643256Z",
     "iopub.status.idle": "2023-12-06T03:23:28.647482Z",
     "shell.execute_reply": "2023-12-06T03:23:28.646880Z"
    }
   },
   "outputs": [],
   "source": [
    "parsed_counts = result[0].value.parsed_counts\n",
    "phase_counts = {\n",
    "    sampled_state.state[\"phase_approx\"] / (2**QPE_SIZE): sampled_state.shots\n",
    "    for sampled_state in parsed_counts\n",
    "}"
   ]
  },
  {
   "cell_type": "code",
   "execution_count": 11,
   "id": "eedb7fc6-7025-4f2e-8175-074a3067d333",
   "metadata": {
    "execution": {
     "iopub.execute_input": "2023-12-06T03:23:28.650489Z",
     "iopub.status.busy": "2023-12-06T03:23:28.650041Z",
     "iopub.status.idle": "2023-12-06T03:23:28.967304Z",
     "shell.execute_reply": "2023-12-06T03:23:28.966581Z"
    }
   },
   "outputs": [
    {
     "name": "stdout",
     "output_type": "stream",
     "text": [
      "exact eigenvalue: 0.20966990092576385\n",
      "approximated eigenvalue: 0.21875\n"
     ]
    },
    {
     "data": {
      "image/png": "[encoded data removed]",
      "text/plain": [
       "<Figure size 640x480 with 1 Axes>"
      ]
     },
     "metadata": {},
     "output_type": "display_data"
    }
   ],
   "source": [
    "import matplotlib.pyplot as plt\n",
    "\n",
    "plt.bar(phase_counts.keys(), phase_counts.values(), width=0.01)\n",
    "most_probable_phase = max(phase_counts, key=phase_counts.get)\n",
    "plt.plot(w[chosen_eig], phase_counts[most_probable_phase], \"or\")\n",
    "print(\"exact eigenvalue:\", w[chosen_eig])\n",
    "print(\"approximated eigenvalue:\", most_probable_phase)"
   ]
  },
  {
   "cell_type": "markdown",
   "id": "3be110cf",
   "metadata": {},
   "source": [
    "Indeed, our approximated Hamiltonian simulations seems to be sufficient to find the eigenvalue."
   ]
  },
  {
   "cell_type": "markdown",
   "id": "e2efc809-9f15-43f5-bb58-00e7ae9a6993",
   "metadata": {},
   "source": [
    "### 4.2. QPE state with an exact Hamiltonian simulation vs. an approximated one"
   ]
  },
  {
   "cell_type": "markdown",
   "id": "15a5e2f9-480d-4db5-8789-44e7c29b0b14",
   "metadata": {},
   "source": [
    "For this, we shall define two additional quantum functions: an exact Hamiltonian simulation with power-logic, and a swap test. "
   ]
  },
  {
   "cell_type": "code",
   "execution_count": 12,
   "id": "5ba2f793-2e65-4b9e-913d-f7f93cb0c049",
   "metadata": {
    "execution": {
     "iopub.execute_input": "2023-12-06T03:23:28.970948Z",
     "iopub.status.busy": "2023-12-06T03:23:28.970479Z",
     "iopub.status.idle": "2023-12-06T03:23:28.979160Z",
     "shell.execute_reply": "2023-12-06T03:23:28.978548Z"
    }
   },
   "outputs": [],
   "source": [
    "from classiq import SWAP\n",
    "\n",
    "\n",
    "@QFunc\n",
    "def swap_test(psi1: QArray[QBit], psi2: QArray[QBit], test: Output[QBit]) -> None:\n",
    "    def swap_all(psi_all: QArray[QBit]) -> None:\n",
    "        repeat(\n",
    "            count=psi1.len(),\n",
    "            iteration=lambda index: SWAP(psi_all[index], psi_all[psi1.len() + index]),\n",
    "        )\n",
    "\n",
    "    psi_all = QArray(\"psi_all\")\n",
    "    allocate(1, test)\n",
    "    H(test)\n",
    "    join(psi1, psi2, psi_all)\n",
    "    control(operand=lambda: swap_all(psi_all=psi_all), ctrl=test)\n",
    "    split(psi1.len(), psi2.len(), psi_all, psi1, psi2)\n",
    "    H(test)"
   ]
  },
  {
   "cell_type": "code",
   "execution_count": 13,
   "id": "d2fd3665-db89-4a03-ab56-e6174b62eba1",
   "metadata": {
    "execution": {
     "iopub.execute_input": "2023-12-06T03:23:28.982396Z",
     "iopub.status.busy": "2023-12-06T03:23:28.981972Z",
     "iopub.status.idle": "2023-12-06T03:23:28.986771Z",
     "shell.execute_reply": "2023-12-06T03:23:28.986137Z"
    }
   },
   "outputs": [],
   "source": [
    "from typing import List\n",
    "\n",
    "from classiq import power, unitary\n",
    "\n",
    "\n",
    "@QFunc\n",
    "def unitary_with_power_logic(\n",
    "    pw: QParam[int], matrix: QParam[List[List[float]]], target: QArray[QBit]\n",
    ") -> None:\n",
    "    power(pw, lambda: unitary(elements=matrix, target=target))"
   ]
  },
  {
   "cell_type": "markdown",
   "id": "0739244f",
   "metadata": {},
   "source": [
    "We continue with the same parameters of above for $f(p)$. We construct a model which calls two QPEs in parallel, one with an approximated Hamiltonian simulation and the other with an exact one. Finally, we perform a swap test between the resulting phases. We synthesize the model and visualize the resulting quantum program."
   ]
  },
  {
   "cell_type": "code",
   "execution_count": 14,
   "id": "206797bd-d14c-4b31-9774-31674fe8a423",
   "metadata": {
    "execution": {
     "iopub.execute_input": "2023-12-06T03:23:28.990448Z",
     "iopub.status.busy": "2023-12-06T03:23:28.990025Z",
     "iopub.status.idle": "2023-12-06T03:23:55.780946Z",
     "shell.execute_reply": "2023-12-06T03:23:55.779469Z"
    }
   },
   "outputs": [],
   "source": [
    "import scipy\n",
    "\n",
    "\n",
    "@QFunc\n",
    "def main(test: Output[QBit]) -> None:\n",
    "    state = QArray(\"state\")\n",
    "    phase_approx = QArray(\"phase_approx\")\n",
    "    phase_exact = QArray(\"phase_exact\")\n",
    "    allocate(QPE_SIZE, phase_approx)\n",
    "    allocate(QPE_SIZE, phase_exact)\n",
    "    prepare_amplitudes(v[:, chosen_eig].tolist(), 0.0, state)\n",
    "    qpe_flexible(\n",
    "        unitary=lambda pw, target: suzuki_trotter_with_power_logic(\n",
    "            hamiltonian=pauli_operator_to_hamiltonian(po),\n",
    "            pw=pw,\n",
    "            evolution_coefficient=-2 * np.pi,\n",
    "            order=1,\n",
    "            r0=R0,\n",
    "            p_0=p_0,\n",
    "            gamma=GAMMA,\n",
    "            target=target,\n",
    "        ),\n",
    "        state=state,\n",
    "        phase=phase_approx,\n",
    "    )\n",
    "    qpe_flexible(\n",
    "        unitary=lambda arg0, arg1: unitary_with_power_logic(\n",
    "            matrix=scipy.linalg.expm(2 * np.pi * 1j * po.to_matrix()).tolist(),\n",
    "            pw=arg0,\n",
    "            target=arg1,\n",
    "        ),\n",
    "        state=state,\n",
    "        phase=phase_exact,\n",
    "    )\n",
    "\n",
    "    swap_test(psi1=phase_exact, psi2=phase_approx, test=test)\n",
    "\n",
    "\n",
    "quantum_program = synthesize(create_model(main))"
   ]
  },
  {
   "cell_type": "code",
   "execution_count": 15,
   "id": "bef6673c-fafd-4230-8aac-4dc2110c2224",
   "metadata": {
    "execution": {
     "iopub.execute_input": "2023-12-06T03:23:55.784766Z",
     "iopub.status.busy": "2023-12-06T03:23:55.784516Z",
     "iopub.status.idle": "2023-12-06T03:23:56.309268Z",
     "shell.execute_reply": "2023-12-06T03:23:56.308007Z"
    }
   },
   "outputs": [
    {
     "name": "stdout",
     "output_type": "stream",
     "text": [
      "Opening: https://platform.classiq.io/circuit/68ac5e9c-4b8f-4e50-8cc8-3f0582f6d22e?version=0.34.0.dev0%2B124706fb0e\n"
     ]
    }
   ],
   "source": [
    "show(quantum_program)"
   ]
  },
  {
   "cell_type": "markdown",
   "id": "0ef3f54f",
   "metadata": {},
   "source": [
    "Finally, we can execute and examine the results."
   ]
  },
  {
   "cell_type": "code",
   "execution_count": 16,
   "id": "98ed6512-ad5b-4602-bf23-a13636dbbbe1",
   "metadata": {
    "execution": {
     "iopub.execute_input": "2023-12-06T03:23:56.312866Z",
     "iopub.status.busy": "2023-12-06T03:23:56.312614Z",
     "iopub.status.idle": "2023-12-06T03:24:01.835790Z",
     "shell.execute_reply": "2023-12-06T03:24:01.835052Z"
    }
   },
   "outputs": [],
   "source": [
    "result = execute(quantum_program).result()"
   ]
  },
  {
   "cell_type": "code",
   "execution_count": 17,
   "id": "444c347e-9078-40e2-a8d8-c25a80b1d58f",
   "metadata": {
    "execution": {
     "iopub.execute_input": "2023-12-06T03:24:01.839884Z",
     "iopub.status.busy": "2023-12-06T03:24:01.839112Z",
     "iopub.status.idle": "2023-12-06T03:24:01.842817Z",
     "shell.execute_reply": "2023-12-06T03:24:01.842157Z"
    }
   },
   "outputs": [],
   "source": [
    "test_counts = result[0].value.counts"
   ]
  },
  {
   "cell_type": "markdown",
   "id": "d87f7376-ff60-4933-9ffb-8cd3422ffe14",
   "metadata": {},
   "source": [
    "The overlap between the two input states of the swap test, $\\psi_1$, $\\psi_2$, is given by\n",
    "$$\n",
    "Prob(\\text{test qubit at state } |0\\rangle) = \\frac{1}{2}\\left(\n",
    "1+\\left|\\langle \\psi_1 |\\psi_2\\rangle\\right|^2\\right)\n",
    "$$"
   ]
  },
  {
   "cell_type": "code",
   "execution_count": 18,
   "id": "7a242cf3-5b27-4c90-942d-5ea3a56b26f5",
   "metadata": {
    "execution": {
     "iopub.execute_input": "2023-12-06T03:24:01.845731Z",
     "iopub.status.busy": "2023-12-06T03:24:01.845294Z",
     "iopub.status.idle": "2023-12-06T03:24:01.849287Z",
     "shell.execute_reply": "2023-12-06T03:24:01.848748Z"
    }
   },
   "outputs": [
    {
     "name": "stdout",
     "output_type": "stream",
     "text": [
      "Fidelity (overlap): 0.954\n"
     ]
    }
   ],
   "source": [
    "print(\"Fidelity (overlap):\", 2 * test_counts[\"0\"] / sum(test_counts.values()) - 1)"
   ]
  },
  {
   "cell_type": "markdown",
   "id": "d404f85d",
   "metadata": {},
   "source": [
    "The results seem rather good. One can try to reduce the parameters $r_0$ and/or $\\gamma$, and study experimentally the relation between the functional error and circuit's depth."
   ]
  },
  {
   "cell_type": "markdown",
   "id": "6d6d68a2-77a8-4c97-8c92-b162c8636a21",
   "metadata": {},
   "source": [
    "## 5. Comments\n",
    "\n",
    "* In this tutorial we focused on Trotter Suzuki formula of order 1 for approximating the Hamiltonian simulation. One can test other implementations, including their \"power-logic\", such as higher order TS formulas, qDRIFT, or a combination of those."
   ]
  },
  {
   "cell_type": "markdown",
   "id": "7fb5f96c-4f10-4b94-a6e9-2f610dd48d8c",
   "metadata": {},
   "source": [
    "## References\n",
    "\n",
    "<a name='Errors'>[1]</a>: [Childs, Andrew M., et al. Theory of trotter error with commutator scaling. PRX 11 (2021): 011020.](https://journals.aps.org/prx/abstract/10.1103/PhysRevX.11.011020)\n",
    "\n",
    "<a name='TS'>[2]</a>: [Childs, Andrew M., et al. Toward the first quantum simulation with quantum speedup. PNAS 115 9456 (2018).](https://www.pnas.org/doi/abs/10.1073/pnas.1801723115)\n"
   ]
  }
 ],
 "metadata": {
  "kernelspec": {
   "display_name": "Python 3 (ipykernel)",
   "language": "python",
   "name": "python3"
  },
  "language_info": {
   "codemirror_mode": {
    "name": "ipython",
    "version": 3
   },
   "file_extension": ".py",
   "mimetype": "text/x-python",
   "name": "python",
   "nbconvert_exporter": "python",
   "pygments_lexer": "ipython3",
   "version": "3.11.6"
  }
 },
 "nbformat": 4,
 "nbformat_minor": 5
}
