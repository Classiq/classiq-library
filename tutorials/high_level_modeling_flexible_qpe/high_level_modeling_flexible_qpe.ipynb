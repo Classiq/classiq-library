{
 "cells": [
  {
   "cell_type": "markdown",
   "id": "cdf426de-3596-497d-8211-147b3ed16c59",
   "metadata": {},
   "source": [
    "# Designing Quantum Algorithms with Second Order Functions: A Flexible QPE"
   ]
  },
  {
   "cell_type": "markdown",
   "id": "3652b5a7-74ba-4b30-b267-fc544293fe0b",
   "metadata": {},
   "source": [
    "Quantum Phase Estimation (QPE) is a fundamental quantum function, at the core of the Shor, HHL, and amplitude estimation algorithms. QPE is a second order function, getting a quantum function $U$ and returning an estimation of its eigenvalues. (Recall that any quantum function represents a unitary matrix.) A QPE that encodes the eigenvalues on $m$ qubits involves a series of $m$ controlled operations of $U^{2^k}$ with $0\\leq k < m-1$. This quantum advantage based on the QPE function relies on an ability to implement the power of a given unitary $U$ efficiently. Otherwise, naive $U$ is called $\\sum^{m-1}_{k=0} 2^k=2^m$ times &ndash; a number \n",
    "that is exponential in the number of qubits.\n",
    "\n",
    "**This tutorial shows how to leverage declarative and programmatic modeling for exploring the QPE function in the context of Hamiltonian simulation.**"
   ]
  },
  {
   "cell_type": "markdown",
   "id": "c631a19f-3b96-4855-bb75-4a3802dcbe80",
   "metadata": {},
   "source": [
    "Start with basic imports:"
   ]
  },
  {
   "cell_type": "code",
   "execution_count": 1,
   "id": "4bd92808-4b4e-4b0e-934c-f8afc6d65b3f",
   "metadata": {
    "execution": {
     "iopub.execute_input": "2024-03-12T13:00:23.528629Z",
     "iopub.status.busy": "2024-03-12T13:00:23.527913Z",
     "iopub.status.idle": "2024-03-12T13:00:26.830958Z",
     "shell.execute_reply": "2024-03-12T13:00:26.830210Z"
    }
   },
   "outputs": [],
   "source": [
    "from classiq import QArray, QBit, QCallable, QParam, qfunc"
   ]
  },
  {
   "cell_type": "markdown",
   "id": "d5a1f97d-7694-4033-b574-4e3b74ab1944",
   "metadata": {},
   "source": [
    "## 1. Defining a Flexible QPE\n",
    "\n",
    "Define a flexible QPE function. Instead of getting a single operand $U$, it gets a parametric operand, $U(p)$, where $p$ is an integer such that $U(p)\\equiv U^p$. That is, the power logic of $U$ passes explicitly with the function. In addition, the QPE itself has an integer parameter for the phase register size."
   ]
  },
  {
   "cell_type": "markdown",
   "id": "11152bd2-fb6f-44dc-9bb0-e1bc9550a721",
   "metadata": {},
   "source": [
    "<center>\n",
    "<img src=\"https://classiq-docs-images.s3.amazonaws.com/qpe_flexible.png\" style=\"width:95%\">\n",
    "<figcaption align = \"middle\"> A Flexible QPE, a rolled-up (left) and a rolled-down (right) layouts. </figcaption>\n",
    "</center>"
   ]
  },
  {
   "cell_type": "code",
   "execution_count": 2,
   "id": "8c1a034a-bd7e-4c33-8788-ff983bed211a",
   "metadata": {
    "execution": {
     "iopub.execute_input": "2024-03-12T13:00:26.837257Z",
     "iopub.status.busy": "2024-03-12T13:00:26.835072Z",
     "iopub.status.idle": "2024-03-12T13:00:26.856758Z",
     "shell.execute_reply": "2024-03-12T13:00:26.855951Z"
    }
   },
   "outputs": [],
   "source": [
    "from classiq import H, apply_to_all, control, invert, qft, repeat\n",
    "\n",
    "\n",
    "@qfunc\n",
    "def my_qpe_flexible(\n",
    "    unitary: QCallable[QParam[int], QArray[QBit]],\n",
    "    state: QArray[QBit],\n",
    "    phase: QArray[QBit],\n",
    ") -> None:\n",
    "    apply_to_all(H, phase)\n",
    "\n",
    "    repeat(\n",
    "        count=phase.len,\n",
    "        iteration=lambda index: control(\n",
    "            operand=lambda: unitary(2**index, state),\n",
    "            ctrl=phase[index],\n",
    "        ),\n",
    "    )\n",
    "\n",
    "    invert(\n",
    "        lambda: qft(phase),\n",
    "    )"
   ]
  },
  {
   "cell_type": "markdown",
   "id": "fc463a31-6837-4b99-b5e3-6c527bf1dad7",
   "metadata": {},
   "source": [
    "## 2. Example QPE for Finding the Eigenvalues of an Hermitian Matrix\n",
    "\n",
    "One use of the QPE is to find the eigenvalues of a given Hermitian matrix $H$. Canonical use cases: (a) the HHL algorithm for solving linear equations $H\\cdot \\vec{x}=\\vec{b}$, where the matrix eigenvalues need to be stored on a quantum register, and (b) finding the minimal energy of a molecule Hamiltonian $H$, preparing an initial guess for an eigenvector followed by a QPE that aims to detect the minimal eigenvalue.\n",
    "\n",
    "In both use cases, a QPE is performed on *Hamiltonian evolution* $U=e^{2\\pi i H}$."
   ]
  },
  {
   "cell_type": "markdown",
   "id": "d13ea2c2",
   "metadata": {},
   "source": [
    "### 2.1 Hamiltonian Evolution\n",
    "\n",
    "Hamiltonian evolution, or Hamiltonian simulation, is one of the promising uses of quantum computers, where the advantage over classical approaches is clear and transparent (as proposed by Richard Feynman in 1982). Nevertheless, constructing a quantum program for efficient Hamiltonian dynamics is not an easy task. The most common examples use approximated product formulas such as the Trotter-Suzuki (TS) formulas.\n",
    "\n",
    "#### 2.1.1 Trotter-Suzuki of Order 1\n",
    "\n",
    "Write the Hamiltonian as a sum of Pauli strings $H=\\sum_{i=0}^{L-1} a^{(k)} P^{(k)}$,\n",
    "where $a^{(k)}$ are complex coefficients, and each of $P^{(k)}$ is a Pauli string of the form $s_0\\otimes s_1\\otimes\\dots\\otimes s_L$, with $s_i\\in \\{I, X, Y, Z\\}$. Approximating Hamiltonian simulation with TS of order 1 refers to:\n",
    "$$\n",
    "e^{2\\pi i H}\\approx \\left(\\Pi^{L-1}_{i=0}e^{\\frac{a^{(k)}}{r} P^{(k)}}\\right)^r,\n",
    "$$\n",
    "where $r$ is called the *number of repetitions*.\n",
    "\n",
    "* *Given a Hamiltonian and a functional error $\\epsilon$, what is the required number of repetitions?*\n",
    "\n",
    "Apparently, this is not easy to answer. The literature provides several bounds for the number of repetitions for a given functional error and error metric; however, typically, these bounds are very rough, far from representing the actual number of repetitions to use. See Ref.[[1](#Errors)] for a comprehensive study.\n",
    "\n",
    "* *When performing a QPE, the challenge is even more pronounced*:\n",
    "\n",
    "\n",
    "For the QPE, a series of Hamiltonian simulations with an exponentially growing evolution coefficient, $e^{2\\pi i H}, \\, e^{2^1 2\\pi i H}, \\, e^{2^2 2\\pi i H}, \\dots, e^{2^{m-1}2\\pi i H}$, is required. Which product formula to use for each step, assuming you keep the same error per step?\n",
    "\n",
    "Lacking good theoretical bounds for the aforementioned questions, resort to experimental exploration in the hope of finding theoretical clues and insights:"
   ]
  },
  {
   "cell_type": "markdown",
   "id": "1db1487a-caea-4a7c-a9df-eb19b42ccc5d",
   "metadata": {},
   "source": [
    "#### 2.1.2 A Flexible TS for Plugging into the Flexible QPE\n",
    "\n",
    "The Trotter-Suzuki of order 1 function, $\\text{TS}_1$, gets an Hamiltonian $H$, evolution coefficient $t$, and repetition $r$. Define a wrapper function:\n",
    "\n",
    "$$\n",
    "\\tilde{\\text{TS}}_1\\left(H,t,p \\right) := \\text{TS}_1\\left(H,pt,r=f(p)\\right).\n",
    "$$\n",
    "\n",
    "The function $f(p)$ tries to capture how many repetitions can approximate $\\left(e^{2\\pi i H}\\right)^p=e^{p 2\\pi i H}$. Section 2.2 defines the \"goodness of approximation\".\n",
    "\n",
    "\n",
    "Define ansatz for the repetition scaling $f(p)$:\n",
    "\\begin{equation}\n",
    "f(p)\\equiv \\left\\{\n",
    "\\begin{array}{l l}\n",
    "r_0 & \\text{if  } p<p_0,  \\\\       \n",
    "r_0 \\left\\lceil {\\left(p/p_0\\right)^\\gamma}\\right\\rceil & \\text{if  } p\\geq p_0\n",
    "\\end{array}\n",
    "\\right. , \n",
    "\\end{equation}\n",
    "where $r_0$, $p_0$, and $\\gamma$ are parameters to tune."
   ]
  },
  {
   "cell_type": "code",
   "execution_count": 3,
   "id": "6418ed47-719d-4bd7-bac9-bed4c0b1c77c",
   "metadata": {
    "execution": {
     "iopub.execute_input": "2024-03-12T13:00:26.866184Z",
     "iopub.status.busy": "2024-03-12T13:00:26.865056Z",
     "iopub.status.idle": "2024-03-12T13:00:26.877121Z",
     "shell.execute_reply": "2024-03-12T13:00:26.876442Z"
    }
   },
   "outputs": [],
   "source": [
    "from classiq import suzuki_trotter\n",
    "from classiq.qmod.symbolic import Piecewise, ceiling\n",
    "\n",
    "\n",
    "def suzuki_trotter_with_power_logic(\n",
    "    hamiltonian,\n",
    "    pw: QParam[int],\n",
    "    evolution_coefficient: QParam[float],\n",
    "    order: QParam[int],\n",
    "    target: QArray[QBit],\n",
    "    p_0: int,\n",
    "    gamma: float,\n",
    "    r0: int,\n",
    ") -> None:\n",
    "    suzuki_trotter(\n",
    "        hamiltonian,\n",
    "        evolution_coefficient=evolution_coefficient * pw,\n",
    "        order=1,\n",
    "        repetitions=Piecewise(\n",
    "            (r0, pw < p_0), (ceiling(r0 * (pw / p_0) ** gamma), True)\n",
    "        ),\n",
    "        qbv=target,\n",
    "    )"
   ]
  },
  {
   "cell_type": "markdown",
   "id": "359439f2-ca88-42e7-a554-4d14991139d7",
   "metadata": {},
   "source": [
    "### 2.2 QPE Performance\n",
    "\n",
    "In this tutorial, the measure for goodness of approximation refers to the functionality of the full QPE function, rather than taking a rigorous operator norm per each Hamiltonian simulation step in the QPE. Ways of examining the approximated QPE:\n",
    "1. By its ability to approximate an eigenvalue for a given eigenvector.\n",
    "2. By comparing its resulting phase state with the one that results from a QPE with an exact Hamiltonian evolution, using a swap test.\n",
    "  \n"
   ]
  },
  {
   "cell_type": "markdown",
   "id": "3d7b255f-a838-48b1-abbb-26670b517793",
   "metadata": {},
   "source": [
    "## 3. Exploring a Specific Example"
   ]
  },
  {
   "cell_type": "markdown",
   "id": "9c340661-399d-4b6f-a5af-5aaedf19d9fa",
   "metadata": {},
   "source": [
    "Consider a specific Hamiltonian defined with the `PauliOperator` object"
   ]
  },
  {
   "cell_type": "code",
   "execution_count": 4,
   "id": "3328ee05-30e7-4136-9e50-30ce3b70c5dd",
   "metadata": {
    "execution": {
     "iopub.execute_input": "2024-03-12T13:00:26.883853Z",
     "iopub.status.busy": "2024-03-12T13:00:26.881096Z",
     "iopub.status.idle": "2024-03-12T13:00:26.897903Z",
     "shell.execute_reply": "2024-03-12T13:00:26.897055Z"
    }
   },
   "outputs": [],
   "source": [
    "import numpy as np\n",
    "\n",
    "from classiq.applications.chemistry import PauliOperator\n",
    "\n",
    "paulis = [\n",
    "    (\"II\", 0.4),\n",
    "    (\"IZ\", -0.05),\n",
    "    (\"IX\", -0.03),\n",
    "    (\"ZZ\", -0.06),\n",
    "    (\"XZ\", 0.04),\n",
    "    (\"XX\", -0.16),\n",
    "    (\"YY\", -0.06),\n",
    "]\n",
    "\n",
    "po = PauliOperator(pauli_list=paulis)"
   ]
  },
  {
   "cell_type": "markdown",
   "id": "8ac801f2-af6e-48e4-a5aa-2e2f1796c620",
   "metadata": {},
   "source": [
    "Define auxiliary functions for parsing the PauliOperator object."
   ]
  },
  {
   "cell_type": "code",
   "execution_count": 5,
   "id": "3b431cad",
   "metadata": {
    "execution": {
     "iopub.execute_input": "2024-03-12T13:00:26.904208Z",
     "iopub.status.busy": "2024-03-12T13:00:26.902296Z",
     "iopub.status.idle": "2024-03-12T13:00:26.915579Z",
     "shell.execute_reply": "2024-03-12T13:00:26.914792Z"
    }
   },
   "outputs": [],
   "source": [
    "from typing import cast\n",
    "\n",
    "from classiq import Pauli, PauliTerm\n",
    "\n",
    "my_list = {\"I\": Pauli.I, \"X\": Pauli.X, \"Y\": Pauli.Y, \"Z\": Pauli.Z}\n",
    "\n",
    "\n",
    "def pauli_str_to_enums(pauli):\n",
    "    return [my_list[s] for s in pauli]\n",
    "\n",
    "\n",
    "def pauli_operator_to_hamiltonian(pauli_operator):\n",
    "    return [\n",
    "        PauliTerm(\n",
    "            pauli=pauli_str_to_enums(pauli), coefficient=cast(complex, coeff).real\n",
    "        )\n",
    "        for pauli, coeff in pauli_operator.pauli_list\n",
    "    ]"
   ]
  },
  {
   "cell_type": "markdown",
   "id": "3f30bd12-ecc8-4cbe-ac9f-9f20979c2080",
   "metadata": {},
   "source": [
    "For the demonstration, choose one of the eigenvectors of the matrix, and test the result of the approximated QPE with respect to the expected eigenvalue."
   ]
  },
  {
   "cell_type": "code",
   "execution_count": 6,
   "id": "ecee46f9-3200-4d8a-a0d0-c020918d6bb6",
   "metadata": {
    "execution": {
     "iopub.execute_input": "2024-03-12T13:00:26.922017Z",
     "iopub.status.busy": "2024-03-12T13:00:26.919826Z",
     "iopub.status.idle": "2024-03-12T13:00:26.937023Z",
     "shell.execute_reply": "2024-03-12T13:00:26.936072Z"
    }
   },
   "outputs": [
    {
     "name": "stdout",
     "output_type": "stream",
     "text": [
      "chosen eigenvector: [0.54233721 0.48935737 0.47765123 0.4881076 ]\n",
      "the eigenvalue to estimate: 0.2096699009257637\n"
     ]
    }
   ],
   "source": [
    "a_mat = po.to_matrix().real\n",
    "w, v = np.linalg.eig(a_mat)\n",
    "\n",
    "chosen_eig = 2\n",
    "print(\"chosen eigenvector:\", v[:, chosen_eig])\n",
    "print(\"the eigenvalue to estimate:\", w[chosen_eig])"
   ]
  },
  {
   "cell_type": "markdown",
   "id": "f9fe49c0-81ee-4f42-827d-b26c3aa18c11",
   "metadata": {},
   "source": [
    "***\n",
    "*Note: For this example, the most naive upper bound for TS formula of order 1 and error $\\epsilon=0.1$ (defined by a spectral norm) gives $r=O(4t^2)$ [[2](#TS)], with $t=2\\pi$ for the first QPE step. This corresponds to $r_0\\sim 160$, and the following QPE steps grow exponentially $r_k\\sim 160\\times 4^k$. The result is a huge circuit depth, which you can relax by tuning the parameters of the ansatz.*\n",
    "\n",
    "*Tighter bounds based on commutation relations[[1](#Errors)] can give more reasonable numbers. However, the main purpose of this tutorial is to highlight the advantages of abstract, high-level modeling. Indeed, any known bound can be incorporated in the flexible Trotter-Suzuki by defining $f(m)$ accordingly.*\n",
    "***"
   ]
  },
  {
   "cell_type": "markdown",
   "id": "2b44ed21-bd14-4bd4-9851-95f9b3c9dde8",
   "metadata": {},
   "source": [
    "### 3.1. Eigenvalue Estimation\n",
    "\n",
    "Choose parameters for the power-logic function $f(p)$, construct and synthesize a model, and visualize the resulting quantum program."
   ]
  },
  {
   "cell_type": "code",
   "execution_count": 7,
   "id": "eee53fb1-209b-45b6-be3a-a5e18108a695",
   "metadata": {
    "execution": {
     "iopub.execute_input": "2024-03-12T13:00:26.944957Z",
     "iopub.status.busy": "2024-03-12T13:00:26.944631Z",
     "iopub.status.idle": "2024-03-12T13:00:34.672139Z",
     "shell.execute_reply": "2024-03-12T13:00:34.671245Z"
    }
   },
   "outputs": [],
   "source": [
    "from classiq import Output, allocate, create_model, prepare_amplitudes, synthesize\n",
    "\n",
    "QPE_SIZE = 5\n",
    "p_0 = 2 ** (QPE_SIZE - 3)\n",
    "R0 = 4  # according to the naive bound this should be O(150)\n",
    "GAMMA = 1.5  # according to the naive bound this should be 4\n",
    "\n",
    "\n",
    "@qfunc\n",
    "def main(phase_approx: Output[QArray[QBit, QPE_SIZE]]) -> None:\n",
    "    state = QArray(\"state\")\n",
    "    allocate(QPE_SIZE, phase_approx)\n",
    "    prepare_amplitudes(v[:, chosen_eig].tolist(), 0.0, state)\n",
    "    my_qpe_flexible(\n",
    "        unitary=lambda pw, target: suzuki_trotter_with_power_logic(\n",
    "            hamiltonian=pauli_operator_to_hamiltonian(po),\n",
    "            pw=pw,\n",
    "            evolution_coefficient=-2 * np.pi,\n",
    "            order=1,\n",
    "            r0=R0,\n",
    "            p_0=p_0,\n",
    "            gamma=GAMMA,\n",
    "            target=target,\n",
    "        ),\n",
    "        state=state,\n",
    "        phase=phase_approx,\n",
    "    )\n",
    "\n",
    "\n",
    "quantum_program = synthesize(create_model(main))"
   ]
  },
  {
   "cell_type": "code",
   "execution_count": 8,
   "id": "360823dd-ad1f-4559-801d-2aecaa0bee7b",
   "metadata": {
    "execution": {
     "iopub.execute_input": "2024-03-12T13:00:34.676215Z",
     "iopub.status.busy": "2024-03-12T13:00:34.675668Z",
     "iopub.status.idle": "2024-03-12T13:00:34.821226Z",
     "shell.execute_reply": "2024-03-12T13:00:34.820533Z"
    }
   },
   "outputs": [
    {
     "name": "stdout",
     "output_type": "stream",
     "text": [
      "Opening: https://platform.classiq.io/circuit/fe90009d-d2e9-46a1-9a1c-de51c98f31f5?version=0.38.0.dev42%2Bfd36e2c41c\n"
     ]
    }
   ],
   "source": [
    "from classiq import show\n",
    "\n",
    "show(quantum_program)"
   ]
  },
  {
   "cell_type": "markdown",
   "id": "e0477e34",
   "metadata": {},
   "source": [
    "Execute the quantum program and examine the results: "
   ]
  },
  {
   "cell_type": "code",
   "execution_count": 9,
   "id": "92383122-e6c3-45bf-bd8a-afb484b703e1",
   "metadata": {
    "execution": {
     "iopub.execute_input": "2024-03-12T13:00:34.824473Z",
     "iopub.status.busy": "2024-03-12T13:00:34.824017Z",
     "iopub.status.idle": "2024-03-12T13:00:37.404889Z",
     "shell.execute_reply": "2024-03-12T13:00:37.404200Z"
    }
   },
   "outputs": [],
   "source": [
    "from classiq import execute\n",
    "\n",
    "result = execute(quantum_program).result()"
   ]
  },
  {
   "cell_type": "code",
   "execution_count": 10,
   "id": "cbb6d34e-1638-4b8e-8f8c-e4c5758434e5",
   "metadata": {
    "execution": {
     "iopub.execute_input": "2024-03-12T13:00:37.410532Z",
     "iopub.status.busy": "2024-03-12T13:00:37.409332Z",
     "iopub.status.idle": "2024-03-12T13:00:37.415395Z",
     "shell.execute_reply": "2024-03-12T13:00:37.414748Z"
    }
   },
   "outputs": [],
   "source": [
    "parsed_counts = result[0].value.parsed_counts\n",
    "phase_counts = {\n",
    "    sampled_state.state[\"phase_approx\"] / (2**QPE_SIZE): sampled_state.shots\n",
    "    for sampled_state in parsed_counts\n",
    "}"
   ]
  },
  {
   "cell_type": "code",
   "execution_count": 11,
   "id": "eedb7fc6-7025-4f2e-8175-074a3067d333",
   "metadata": {
    "execution": {
     "iopub.execute_input": "2024-03-12T13:00:37.420059Z",
     "iopub.status.busy": "2024-03-12T13:00:37.418927Z",
     "iopub.status.idle": "2024-03-12T13:00:37.797137Z",
     "shell.execute_reply": "2024-03-12T13:00:37.796453Z"
    }
   },
   "outputs": [
    {
     "name": "stdout",
     "output_type": "stream",
     "text": [
      "exact eigenvalue: 0.2096699009257637\n",
      "approximated eigenvalue: 0.21875\n"
     ]
    },
    {
     "data": {
      "image/png": "[encoded data removed]",
      "text/plain": [
       "<Figure size 640x480 with 1 Axes>"
      ]
     },
     "metadata": {},
     "output_type": "display_data"
    }
   ],
   "source": [
    "import matplotlib.pyplot as plt\n",
    "\n",
    "plt.bar(phase_counts.keys(), phase_counts.values(), width=0.01)\n",
    "most_probable_phase = max(phase_counts, key=phase_counts.get)\n",
    "plt.plot(w[chosen_eig], phase_counts[most_probable_phase], \"or\")\n",
    "print(\"exact eigenvalue:\", w[chosen_eig])\n",
    "print(\"approximated eigenvalue:\", most_probable_phase)"
   ]
  },
  {
   "cell_type": "markdown",
   "id": "3be110cf",
   "metadata": {},
   "source": [
    "Indeed, the approximated Hamiltonian simulation seems to be sufficient to find the eigenvalue."
   ]
  },
  {
   "cell_type": "markdown",
   "id": "e2efc809-9f15-43f5-bb58-00e7ae9a6993",
   "metadata": {},
   "source": [
    "### 3.2. QPE State with Exact Hamiltonian Simulation Versus Approximated"
   ]
  },
  {
   "cell_type": "markdown",
   "id": "15a5e2f9-480d-4db5-8789-44e7c29b0b14",
   "metadata": {},
   "source": [
    "Define the following quantum function: an exact Hamiltonian simulation with power-logic. "
   ]
  },
  {
   "cell_type": "code",
   "execution_count": 12,
   "id": "d2fd3665-db89-4a03-ab56-e6174b62eba1",
   "metadata": {
    "execution": {
     "iopub.execute_input": "2024-03-12T13:00:37.802208Z",
     "iopub.status.busy": "2024-03-12T13:00:37.800797Z",
     "iopub.status.idle": "2024-03-12T13:00:37.810014Z",
     "shell.execute_reply": "2024-03-12T13:00:37.809392Z"
    }
   },
   "outputs": [],
   "source": [
    "from typing import List\n",
    "\n",
    "from classiq import power, unitary\n",
    "\n",
    "\n",
    "@qfunc\n",
    "def unitary_with_power_logic(\n",
    "    pw: QParam[int], matrix: QParam[List[List[float]]], target: QArray[QBit]\n",
    ") -> None:\n",
    "    power(pw, lambda: unitary(elements=matrix, target=target))"
   ]
  },
  {
   "cell_type": "markdown",
   "id": "0739244f",
   "metadata": {},
   "source": [
    "Continue with the same parameters from above for $f(p)$. Construct a model that calls two QPEs in parallel; one with an approximated Hamiltonian simulation and the other with an exact one. Finally, perform a swap test between the resulting phases. Synthesize the model and visualize the resulting quantum program."
   ]
  },
  {
   "cell_type": "code",
   "execution_count": 13,
   "id": "206797bd-d14c-4b31-9774-31674fe8a423",
   "metadata": {
    "execution": {
     "iopub.execute_input": "2024-03-12T13:00:37.814872Z",
     "iopub.status.busy": "2024-03-12T13:00:37.813679Z",
     "iopub.status.idle": "2024-03-12T13:00:51.416048Z",
     "shell.execute_reply": "2024-03-12T13:00:51.415104Z"
    }
   },
   "outputs": [],
   "source": [
    "import scipy\n",
    "\n",
    "from classiq import swap_test\n",
    "\n",
    "\n",
    "@qfunc\n",
    "def main(test: Output[QBit]) -> None:\n",
    "    state = QArray(\"state\")\n",
    "    phase_approx = QArray(\"phase_approx\")\n",
    "    phase_exact = QArray(\"phase_exact\")\n",
    "    allocate(QPE_SIZE, phase_approx)\n",
    "    allocate(QPE_SIZE, phase_exact)\n",
    "    prepare_amplitudes(v[:, chosen_eig].tolist(), 0.0, state)\n",
    "    my_qpe_flexible(\n",
    "        unitary=lambda pw, target: suzuki_trotter_with_power_logic(\n",
    "            hamiltonian=pauli_operator_to_hamiltonian(po),\n",
    "            pw=pw,\n",
    "            evolution_coefficient=-2 * np.pi,\n",
    "            order=1,\n",
    "            r0=R0,\n",
    "            p_0=p_0,\n",
    "            gamma=GAMMA,\n",
    "            target=target,\n",
    "        ),\n",
    "        state=state,\n",
    "        phase=phase_approx,\n",
    "    )\n",
    "    my_qpe_flexible(\n",
    "        unitary=lambda arg0, arg1: unitary_with_power_logic(\n",
    "            matrix=scipy.linalg.expm(2 * np.pi * 1j * po.to_matrix()).tolist(),\n",
    "            pw=arg0,\n",
    "            target=arg1,\n",
    "        ),\n",
    "        state=state,\n",
    "        phase=phase_exact,\n",
    "    )\n",
    "\n",
    "    swap_test(state1=phase_exact, state2=phase_approx, test=test)\n",
    "\n",
    "\n",
    "quantum_program = synthesize(create_model(main))"
   ]
  },
  {
   "cell_type": "code",
   "execution_count": 14,
   "id": "bef6673c-fafd-4230-8aac-4dc2110c2224",
   "metadata": {
    "execution": {
     "iopub.execute_input": "2024-03-12T13:00:51.420704Z",
     "iopub.status.busy": "2024-03-12T13:00:51.420408Z",
     "iopub.status.idle": "2024-03-12T13:00:51.592819Z",
     "shell.execute_reply": "2024-03-12T13:00:51.592075Z"
    }
   },
   "outputs": [
    {
     "name": "stdout",
     "output_type": "stream",
     "text": [
      "Opening: https://platform.classiq.io/circuit/340b8a52-81bf-40b7-becc-eb5881c0869e?version=0.38.0.dev42%2Bfd36e2c41c\n"
     ]
    }
   ],
   "source": [
    "show(quantum_program)"
   ]
  },
  {
   "cell_type": "markdown",
   "id": "0ef3f54f",
   "metadata": {},
   "source": [
    "Execute and examine the results."
   ]
  },
  {
   "cell_type": "code",
   "execution_count": 15,
   "id": "98ed6512-ad5b-4602-bf23-a13636dbbbe1",
   "metadata": {
    "execution": {
     "iopub.execute_input": "2024-03-12T13:00:51.596346Z",
     "iopub.status.busy": "2024-03-12T13:00:51.595742Z",
     "iopub.status.idle": "2024-03-12T13:00:54.251167Z",
     "shell.execute_reply": "2024-03-12T13:00:54.247224Z"
    }
   },
   "outputs": [],
   "source": [
    "result = execute(quantum_program).result()"
   ]
  },
  {
   "cell_type": "code",
   "execution_count": 16,
   "id": "444c347e-9078-40e2-a8d8-c25a80b1d58f",
   "metadata": {
    "execution": {
     "iopub.execute_input": "2024-03-12T13:00:54.255814Z",
     "iopub.status.busy": "2024-03-12T13:00:54.255344Z",
     "iopub.status.idle": "2024-03-12T13:00:54.265856Z",
     "shell.execute_reply": "2024-03-12T13:00:54.264998Z"
    }
   },
   "outputs": [],
   "source": [
    "test_counts = result[0].value.counts"
   ]
  },
  {
   "cell_type": "markdown",
   "id": "d87f7376-ff60-4933-9ffb-8cd3422ffe14",
   "metadata": {},
   "source": [
    "The overlap between the two input states of the swap test, $\\psi_1$, $\\psi_2$, is given by\n",
    "$$\n",
    "Prob(\\text{test qubit at state } |0\\rangle) = \\frac{1}{2}\\left(\n",
    "1+\\left|\\langle \\psi_1 |\\psi_2\\rangle\\right|^2\\right)\n",
    "$$"
   ]
  },
  {
   "cell_type": "code",
   "execution_count": 17,
   "id": "7a242cf3-5b27-4c90-942d-5ea3a56b26f5",
   "metadata": {
    "execution": {
     "iopub.execute_input": "2024-03-12T13:00:54.276727Z",
     "iopub.status.busy": "2024-03-12T13:00:54.276395Z",
     "iopub.status.idle": "2024-03-12T13:00:54.285648Z",
     "shell.execute_reply": "2024-03-12T13:00:54.284693Z"
    }
   },
   "outputs": [
    {
     "name": "stdout",
     "output_type": "stream",
     "text": [
      "Fidelity (overlap): 0.952\n"
     ]
    }
   ],
   "source": [
    "print(\"Fidelity (overlap):\", 2 * test_counts[\"0\"] / sum(test_counts.values()) - 1)"
   ]
  },
  {
   "cell_type": "markdown",
   "id": "d404f85d",
   "metadata": {},
   "source": [
    "The results are good. You can try to reduce the $r_0$ and/or $\\gamma$ parameters, and experimentally study the relation between the functional error and circuit depth."
   ]
  },
  {
   "cell_type": "markdown",
   "id": "6d6d68a2-77a8-4c97-8c92-b162c8636a21",
   "metadata": {},
   "source": [
    "## 4. Comment\n",
    "\n",
    "* This tutorial focused on the Trotter-Suzuki formula of order 1 for approximating the Hamiltonian simulation. You can test other implementations, including their \"power-logic\", such as higher order TS formulas, qDRIFT, or a combination of TS and qDRIFT."
   ]
  },
  {
   "cell_type": "markdown",
   "id": "7fb5f96c-4f10-4b94-a6e9-2f610dd48d8c",
   "metadata": {},
   "source": [
    "## References\n",
    "\n",
    "<a name='Errors'>[1]</a>: [Childs, Andrew M., et al. Theory of Trotter error with commutator scaling. PRX 11 (2021): 011020.](https://journals.aps.org/prx/abstract/10.1103/PhysRevX.11.011020)\n",
    "\n",
    "<a name='TS'>[2]</a>: [Childs, Andrew M., et al. Toward the first quantum simulation with quantum speedup. PNAS 115 9456 (2018).](https://www.pnas.org/doi/abs/10.1073/pnas.1801723115)\n"
   ]
  }
 ],
 "metadata": {
  "kernelspec": {
   "display_name": "Python 3 (ipykernel)",
   "language": "python",
   "name": "python3"
  },
  "language_info": {
   "codemirror_mode": {
    "name": "ipython",
    "version": 3
   },
   "file_extension": ".py",
   "mimetype": "text/x-python",
   "name": "python",
   "nbconvert_exporter": "python",
   "pygments_lexer": "ipython3",
   "version": "3.11.8"
  }
 },
 "nbformat": 4,
 "nbformat_minor": 5
}
