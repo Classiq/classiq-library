{
 "cells": [
  {
   "cell_type": "markdown",
   "id": "03473fbd-7f0c-4ece-9639-ed73a7c33aba",
   "metadata": {},
   "source": [
    "# HHL for Solving $A\\vec{x}=\\vec{b}$"
   ]
  },
  {
   "cell_type": "markdown",
   "id": "dec2b3a9-bcd8-4632-920a-81ec19fab8b0",
   "metadata": {},
   "source": [
    "This tutorial demonstrates an implementation of the HHL algorithm for a specific matrix. The Hamiltonian evolution is implemented by an \"exact\" operation, explicitly evaluating $e^{iA}$."
   ]
  },
  {
   "cell_type": "code",
   "execution_count": 1,
   "id": "4b15ee6c-b2a9-43f5-b0ef-7d6b5b086297",
   "metadata": {
    "execution": {
     "iopub.execute_input": "2024-03-12T13:23:06.236940Z",
     "iopub.status.busy": "2024-03-12T13:23:06.236266Z",
     "iopub.status.idle": "2024-03-12T13:23:06.437048Z",
     "shell.execute_reply": "2024-03-12T13:23:06.436129Z"
    }
   },
   "outputs": [],
   "source": [
    "import numpy as np\n",
    "import scipy\n",
    "\n",
    "a_matrix = np.array(\n",
    "    [\n",
    "        [0.135, -0.092, -0.011, -0.045, -0.026, -0.033, 0.03, 0.034],\n",
    "        [-0.092, 0.115, 0.02, 0.017, 0.044, -0.009, -0.015, -0.072],\n",
    "        [-0.011, 0.02, 0.073, -0.0, -0.068, -0.042, 0.043, -0.011],\n",
    "        [-0.045, 0.017, -0.0, 0.043, 0.028, 0.027, -0.047, -0.005],\n",
    "        [-0.026, 0.044, -0.068, 0.028, 0.21, 0.079, -0.177, -0.05],\n",
    "        [-0.033, -0.009, -0.042, 0.027, 0.079, 0.121, -0.123, 0.021],\n",
    "        [0.03, -0.015, 0.043, -0.047, -0.177, -0.123, 0.224, 0.011],\n",
    "        [0.034, -0.072, -0.011, -0.005, -0.05, 0.021, 0.011, 0.076],\n",
    "    ]\n",
    ")\n",
    "\n",
    "b_vector = np.array(\n",
    "    [\n",
    "        -0.00885448,\n",
    "        -0.17725898,\n",
    "        -0.15441119,\n",
    "        0.17760157,\n",
    "        0.41428775,\n",
    "        0.44735303,\n",
    "        -0.71137715,\n",
    "        0.1878808,\n",
    "    ]\n",
    ")\n",
    "\n",
    "sol_classical = np.linalg.solve(a_matrix, b_vector)  # classical solution\n",
    "\n",
    "# number of qubits for the unitary\n",
    "num_qubits = int(np.log2(len(b_vector)))\n",
    "# exact unitary\n",
    "my_unitary = scipy.linalg.expm(1j * 2 * np.pi * a_matrix)"
   ]
  },
  {
   "cell_type": "code",
   "execution_count": 2,
   "id": "9756c3df-e098-4e46-9a5e-d5210292e96b",
   "metadata": {
    "execution": {
     "iopub.execute_input": "2024-03-12T13:23:06.443039Z",
     "iopub.status.busy": "2024-03-12T13:23:06.441498Z",
     "iopub.status.idle": "2024-03-12T13:23:06.447472Z",
     "shell.execute_reply": "2024-03-12T13:23:06.446798Z"
    }
   },
   "outputs": [],
   "source": [
    "# transpilation_options = {\"classiq\": \"custom\", \"qiskit\": 3} #uncomment this for deeper comparison\n",
    "transpilation_options = {\"classiq\": \"auto optimize\", \"qiskit\": 1}"
   ]
  },
  {
   "cell_type": "markdown",
   "id": "a99ae585-0116-455a-ba10-65050d37a86b",
   "metadata": {},
   "source": [
    "## 1. HHL with Classiq"
   ]
  },
  {
   "cell_type": "markdown",
   "id": "5532ea8f-2114-4c93-87b2-4b496ef83653",
   "metadata": {},
   "source": [
    "An HHL solver is tested for different precisions of the QPE size. The following function gets precision and returns the characteristics of the quantum program, as well as the overlap between the classical and the quantum solver."
   ]
  },
  {
   "cell_type": "code",
   "execution_count": 3,
   "id": "8fb8edf1-d888-440b-a8ca-af2d103c8c25",
   "metadata": {
    "execution": {
     "iopub.execute_input": "2024-03-12T13:23:06.454436Z",
     "iopub.status.busy": "2024-03-12T13:23:06.452458Z",
     "iopub.status.idle": "2024-03-12T13:23:09.650385Z",
     "shell.execute_reply": "2024-03-12T13:23:09.649571Z"
    }
   },
   "outputs": [],
   "source": [
    "from typing import List\n",
    "\n",
    "from classiq import (\n",
    "    CustomHardwareSettings,\n",
    "    Output,\n",
    "    Preferences,\n",
    "    QArray,\n",
    "    QBit,\n",
    "    QCallable,\n",
    "    QNum,\n",
    "    QParam,\n",
    "    QuantumProgram,\n",
    "    allocate,\n",
    "    allocate_num,\n",
    "    create_model,\n",
    "    execute,\n",
    "    prepare_amplitudes,\n",
    "    qfunc,\n",
    "    qpe,\n",
    "    set_preferences,\n",
    "    show,\n",
    "    synthesize,\n",
    "    unitary,\n",
    "    within_apply,\n",
    ")\n",
    "from classiq.execution import ClassiqBackendPreferences, ExecutionPreferences\n",
    "from classiq.qmod.symbolic import floor, log\n",
    "from classiq.synthesis import set_execution_preferences\n",
    "\n",
    "\n",
    "@qfunc\n",
    "def simple_eig_inv(phase: QNum, indicator: Output[QBit]):\n",
    "    allocate(1, indicator)\n",
    "    indicator *= (1 / 2**phase.size) / phase\n",
    "\n",
    "\n",
    "@qfunc\n",
    "def my_hhl(\n",
    "    precision: QParam[int],\n",
    "    b: QParam[List[float]],\n",
    "    unitary: QCallable[QArray[QBit]],\n",
    "    res: Output[QArray[QBit]],\n",
    "    phase: Output[QNum],\n",
    "    indicator: Output[QBit],\n",
    ") -> None:\n",
    "\n",
    "    prepare_amplitudes(b, 0.0, res)\n",
    "    allocate_num(precision, False, precision, phase)\n",
    "    within_apply(\n",
    "        lambda: qpe(unitary=lambda: unitary(res), phase=phase),\n",
    "        lambda: simple_eig_inv(phase=phase, indicator=indicator),\n",
    "    )\n",
    "\n",
    "\n",
    "def get_classiq_hhl_results(precision):\n",
    "    \"\"\"\n",
    "    This function models, synthesizes, executes an HHL example and returns the depth, cx-counts and fidelity\n",
    "    \"\"\"\n",
    "\n",
    "    # SP params\n",
    "    b_normalized = b_vector.tolist()\n",
    "    sp_upper = 0.00  # precision of the State Preparation\n",
    "    unitary_mat = my_unitary.tolist()\n",
    "\n",
    "    @qfunc\n",
    "    def main(res: Output[QArray[QBit]], phase: Output[QNum], indicator: Output[QBit]):\n",
    "        my_hhl(\n",
    "            precision=precision,\n",
    "            b=b_normalized,\n",
    "            unitary=lambda target: unitary(elements=unitary_mat, target=target),\n",
    "            res=res,\n",
    "            phase=phase,\n",
    "            indicator=indicator,\n",
    "        )\n",
    "\n",
    "    qmod_hhl = create_model(main)\n",
    "    preferences = Preferences(\n",
    "        custom_hardware_settings=CustomHardwareSettings(basis_gates=[\"cx\", \"u\"]),\n",
    "        transpilation_option=transpilation_options[\"classiq\"],\n",
    "    )\n",
    "    backend_preferences = ClassiqBackendPreferences(\n",
    "        backend_name=\"aer_simulator_statevector\"\n",
    "    )\n",
    "\n",
    "    qmod_hhl = set_preferences(qmod_hhl, preferences)\n",
    "    qmod_hhl = set_execution_preferences(\n",
    "        qmod_hhl,\n",
    "        execution_preferences=ExecutionPreferences(\n",
    "            num_shots=1, backend_preferences=backend_preferences\n",
    "        ),\n",
    "    )\n",
    "\n",
    "    # Synthesize\n",
    "    qprog_hhl = synthesize(qmod_hhl)\n",
    "    circuit_hhl = QuantumProgram.from_qprog(qprog_hhl)\n",
    "    total_q = circuit_hhl.data.width  # total number of qubits of the whole circuit\n",
    "    depth = circuit_hhl.transpiled_circuit.depth\n",
    "    cx_counts = circuit_hhl.transpiled_circuit.count_ops[\"cx\"]\n",
    "\n",
    "    # Execute\n",
    "    results = execute(qprog_hhl).result()\n",
    "    res_hhl = results[0].value\n",
    "\n",
    "    # Post-process\n",
    "\n",
    "    target_pos = res_hhl.physical_qubits_map[\"indicator\"][\n",
    "        0\n",
    "    ]  # position of control qubit\n",
    "    sol_pos = list(res_hhl.physical_qubits_map[\"res\"])  # position of solution\n",
    "    phase_pos = list(\n",
    "        res_hhl.physical_qubits_map[\"phase\"]\n",
    "    )  # position of the \u201cphase\u201d register, and flips for endianness as we will use the indices to read directly from the string\n",
    "    qsol = [\n",
    "        np.round(parsed_state.amplitude / (1 / 2**precision), 5)\n",
    "        for solution in range(2**num_qubits)\n",
    "        for parsed_state in res_hhl.parsed_state_vector\n",
    "        if parsed_state[\"indicator\"] == 1.0\n",
    "        and parsed_state[\"res\"] == solution\n",
    "        and parsed_state[\"phase\"]\n",
    "        == 0.0  # this takes the entries where the \u201cphase\u201d register is at state zero\n",
    "    ]\n",
    "    fidelity = (\n",
    "        np.abs(\n",
    "            np.dot(\n",
    "                sol_classical / np.linalg.norm(sol_classical),\n",
    "                qsol / np.linalg.norm(qsol),\n",
    "            )\n",
    "        )\n",
    "        ** 2\n",
    "    )\n",
    "    return total_q, depth, cx_counts, fidelity"
   ]
  },
  {
   "cell_type": "code",
   "execution_count": 4,
   "id": "8e880c00-e0e6-4db3-9ea3-409a0fe97a01",
   "metadata": {
    "execution": {
     "iopub.execute_input": "2024-03-12T13:23:09.656194Z",
     "iopub.status.busy": "2024-03-12T13:23:09.654548Z",
     "iopub.status.idle": "2024-03-12T13:28:55.469643Z",
     "shell.execute_reply": "2024-03-12T13:28:55.468745Z"
    }
   },
   "outputs": [],
   "source": [
    "classiq_widths = []\n",
    "classiq_depths = []\n",
    "classiq_cx_counts = []\n",
    "classiq_fidelities = []\n",
    "for per in range(2, 9):\n",
    "    total_q, depth, cx_counts, fidelity = get_classiq_hhl_results(per)\n",
    "    classiq_widths.append(total_q)\n",
    "    classiq_depths.append(depth)\n",
    "    classiq_cx_counts.append(cx_counts)\n",
    "    classiq_fidelities.append(fidelity)"
   ]
  },
  {
   "cell_type": "code",
   "execution_count": 5,
   "id": "93e89099-e9af-41da-856b-5e9918b8dc54",
   "metadata": {
    "execution": {
     "iopub.execute_input": "2024-03-12T13:28:55.474760Z",
     "iopub.status.busy": "2024-03-12T13:28:55.473215Z",
     "iopub.status.idle": "2024-03-12T13:28:55.481270Z",
     "shell.execute_reply": "2024-03-12T13:28:55.480586Z"
    },
    "scrolled": true
   },
   "outputs": [
    {
     "name": "stdout",
     "output_type": "stream",
     "text": [
      "classiq overlap: [0.31375953725077077, 0.433879258300202, 0.5603101069565148, 0.6943610089764813, 0.8120391947524946, 0.9428407027685696, 0.998219825316336]\n",
      "classiq depth: [1139, 1671, 2212, 2769, 3359, 4012, 4792]\n"
     ]
    }
   ],
   "source": [
    "print(\"classiq overlap:\", classiq_fidelities)\n",
    "print(\"classiq depth:\", classiq_depths)"
   ]
  },
  {
   "cell_type": "markdown",
   "id": "10e26aea-1549-4009-a1fd-50596a558aee",
   "metadata": {},
   "source": [
    "## 2. Comparing to Qiskit"
   ]
  },
  {
   "cell_type": "markdown",
   "id": "c51b056f-a8f6-4b2b-8373-9996cca11490",
   "metadata": {},
   "source": [
    "Qiskit's HHL solver has been deprecated. For comparison, in an analogy to the Classiq model above, wire the four quantum blocks of the HHL algorithm in Qiskit.\n",
    "\n",
    "The qiskit data was generated using qiskit version 1.0.0. To run the qiskit code uncomment the commented cells below."
   ]
  },
  {
   "cell_type": "code",
   "execution_count": 6,
   "id": "f0edccf8-751c-4d8d-9096-f6b14c075eb7",
   "metadata": {
    "execution": {
     "iopub.execute_input": "2024-03-12T13:28:55.486483Z",
     "iopub.status.busy": "2024-03-12T13:28:55.485023Z",
     "iopub.status.idle": "2024-03-12T13:28:55.491435Z",
     "shell.execute_reply": "2024-03-12T13:28:55.490784Z"
    }
   },
   "outputs": [],
   "source": [
    "qiskit_fidelities = [\n",
    "    0.3158037121175521,\n",
    "    0.43599529278857063,\n",
    "    0.5586003448231571,\n",
    "    0.6824252904259536,\n",
    "    0.806169290650212,\n",
    "    0.9243747525650154,\n",
    "    1.0,\n",
    "]\n",
    "qiskit_depths = [1921, 4439, 9451, 19455, 39443, 79399, 159291]\n",
    "qiskit_widths = [6, 7, 8, 9, 10, 11, 12]\n",
    "qiskit_cx_counts = [979, 2263, 4819, 9915, 20087, 40407, 81019]"
   ]
  },
  {
   "cell_type": "code",
   "execution_count": 7,
   "id": "de26943b-d482-49b3-ad22-fd53e6bd7b5b",
   "metadata": {
    "execution": {
     "iopub.execute_input": "2024-03-12T13:28:55.496632Z",
     "iopub.status.busy": "2024-03-12T13:28:55.495269Z",
     "iopub.status.idle": "2024-03-12T13:28:55.500205Z",
     "shell.execute_reply": "2024-03-12T13:28:55.499535Z"
    }
   },
   "outputs": [],
   "source": [
    "# from importlib.metadata import version\n",
    "# try:\n",
    "#     import qiskit\n",
    "#     if version('qiskit') != \"1.0.0\":\n",
    "#       !pip uninstall qiskit -y\n",
    "#       !pip install qiskit==1.0.0\n",
    "# except ImportError:\n",
    "#     !pip install qiskit==1.0.0"
   ]
  },
  {
   "cell_type": "code",
   "execution_count": 8,
   "id": "bc567242-1500-42ca-bc55-804b7b72db4a",
   "metadata": {
    "execution": {
     "iopub.execute_input": "2024-03-12T13:28:55.504879Z",
     "iopub.status.busy": "2024-03-12T13:28:55.503661Z",
     "iopub.status.idle": "2024-03-12T13:28:55.510440Z",
     "shell.execute_reply": "2024-03-12T13:28:55.509699Z"
    }
   },
   "outputs": [],
   "source": [
    "# from qiskit import QuantumCircuit, QuantumRegister, transpile\n",
    "# from qiskit.quantum_info import Statevector\n",
    "# from qiskit.circuit.library import PhaseEstimation as PhaseEstimation_QISKIT\n",
    "# from qiskit.circuit.library.arithmetic.exact_reciprocal import ExactReciprocal\n",
    "# from qiskit.circuit.library import Isometry, Initialize\n",
    "\n",
    "# def get_qiskit_hhl_results(precision):\n",
    "#     \"\"\"\n",
    "#     This function creates an HHL circuit with qiskit, execute it and returns the depth, cx-counts and fidelity\n",
    "#     \"\"\"\n",
    "\n",
    "#     vector_circuit = QuantumCircuit(num_qubits)\n",
    "#     initi_vec = Initialize(b_vector / np.linalg.norm(b_vector))\n",
    "\n",
    "#     vector_circuit.append(\n",
    "#         initi_vec, list(range(num_qubits))\n",
    "#     )\n",
    "\n",
    "#     q = QuantumRegister(num_qubits, \"q\")\n",
    "#     unitary_qc = QuantumCircuit(q)\n",
    "#     unitary_qc.unitary(my_unitary.tolist(), q)\n",
    "#     qpe_qc = PhaseEstimation_QISKIT(precision, unitary_qc)\n",
    "#     reciprocal_circuit = ExactReciprocal(\n",
    "#         num_state_qubits=precision, scaling=1 / 2**precision\n",
    "#     )\n",
    "#     # Initialise the quantum registers\n",
    "#     qb = QuantumRegister(num_qubits)  # right hand side and solution\n",
    "#     ql = QuantumRegister(precision)  # eigenvalue evaluation qubits\n",
    "#     qf = QuantumRegister(1)  # flag qubits\n",
    "\n",
    "#     hhl_qc = QuantumCircuit(qb, ql, qf)\n",
    "\n",
    "#     # State preparation\n",
    "#     hhl_qc.append(vector_circuit, qb[:])\n",
    "#     # QPE\n",
    "#     hhl_qc.append(qpe_qc, ql[:] + qb[:])\n",
    "#     # Conditioned rotation\n",
    "#     hhl_qc.append(reciprocal_circuit, ql[::-1] + [qf[0]])\n",
    "\n",
    "#     # QPE inverse\n",
    "#     hhl_qc.append(qpe_qc.inverse(), ql[:] + qb[:])\n",
    "\n",
    "#     # transpile\n",
    "#     tqc = transpile(\n",
    "#         hhl_qc,\n",
    "#         basis_gates=[\"u3\", \"cx\"],\n",
    "#         optimization_level=transpilation_options[\"qiskit\"],\n",
    "#     )\n",
    "#     depth = tqc.depth()\n",
    "#     cx_counts = tqc.count_ops()[\"cx\"]\n",
    "#     total_q = tqc.width()\n",
    "\n",
    "#     # execute\n",
    "#     statevector = np.array(Statevector(tqc))\n",
    "\n",
    "#     # post_process\n",
    "#     all_entries = [np.binary_repr(k, total_q) for k in range(2**total_q)]\n",
    "#     sol_indices = [\n",
    "#         int(entry, 2)\n",
    "#         for entry in all_entries\n",
    "#         if entry[0] == \"1\" and entry[1 : precision + 1] == \"0\" * precision\n",
    "#     ]\n",
    "#     qsol = statevector[sol_indices] / (1 / 2**precision)\n",
    "\n",
    "#     sol_classical = np.linalg.solve(a_matrix, b_vector)\n",
    "#     fidelity = (\n",
    "#         np.abs(\n",
    "#             np.dot(\n",
    "#                 sol_classical / np.linalg.norm(sol_classical),\n",
    "#                 qsol / np.linalg.norm(qsol),\n",
    "#             )\n",
    "#         )\n",
    "#         ** 2\n",
    "#     )\n",
    "\n",
    "#     return total_q, depth, cx_counts, fidelity"
   ]
  },
  {
   "cell_type": "code",
   "execution_count": 9,
   "id": "c4a1f9c4-1274-4858-be0e-ae2d2a68cb4f",
   "metadata": {
    "execution": {
     "iopub.execute_input": "2024-03-12T13:28:55.517945Z",
     "iopub.status.busy": "2024-03-12T13:28:55.516648Z",
     "iopub.status.idle": "2024-03-12T13:28:55.521768Z",
     "shell.execute_reply": "2024-03-12T13:28:55.521014Z"
    },
    "scrolled": true
   },
   "outputs": [],
   "source": [
    "# qiskit_widths = []\n",
    "# qiskit_depths = []\n",
    "# qiskit_cx_counts = []\n",
    "# qiskit_fidelities = []\n",
    "\n",
    "# for per in range(2, 9):\n",
    "#     total_q, depth, cx_counts, fidelity = get_qiskit_hhl_results(per)\n",
    "#     qiskit_widths.append(total_q)\n",
    "#     qiskit_depths.append(depth)\n",
    "#     qiskit_cx_counts.append(cx_counts)\n",
    "#     qiskit_fidelities.append(fidelity)"
   ]
  },
  {
   "cell_type": "markdown",
   "id": "f2005259-af7c-44d1-a4b2-b5ba095afc10",
   "metadata": {},
   "source": [
    "## 3. Plotting the Data"
   ]
  },
  {
   "cell_type": "code",
   "execution_count": 10,
   "id": "dd603065-6001-4d87-8457-2943ab711aaa",
   "metadata": {
    "execution": {
     "iopub.execute_input": "2024-03-12T13:28:55.529945Z",
     "iopub.status.busy": "2024-03-12T13:28:55.525717Z",
     "iopub.status.idle": "2024-03-12T13:28:56.427381Z",
     "shell.execute_reply": "2024-03-12T13:28:56.426549Z"
    }
   },
   "outputs": [
    {
     "data": {
      "text/plain": [
       "(array([0.2, 0.3, 0.4, 0.5, 0.6, 0.7, 0.8, 0.9, 1. , 1.1]),\n",
       " [Text(0.2, 0, '0.2'),\n",
       "  Text(0.30000000000000004, 0, '0.3'),\n",
       "  Text(0.4, 0, '0.4'),\n",
       "  Text(0.5, 0, '0.5'),\n",
       "  Text(0.6000000000000001, 0, '0.6'),\n",
       "  Text(0.7, 0, '0.7'),\n",
       "  Text(0.8, 0, '0.8'),\n",
       "  Text(0.9000000000000001, 0, '0.9'),\n",
       "  Text(1.0, 0, '1.0'),\n",
       "  Text(1.1, 0, '1.1')])"
      ]
     },
     "execution_count": 10,
     "metadata": {},
     "output_type": "execute_result"
    },
    {
     "data": {
      "image/png": "[encoded data removed]",
      "text/plain": [
       "<Figure size 640x480 with 1 Axes>"
      ]
     },
     "metadata": {},
     "output_type": "display_data"
    }
   ],
   "source": [
    "import matplotlib.pyplot as plt\n",
    "\n",
    "classiq_color = \"#119DA4\"\n",
    "qiskit_color = \"#bb8bff\"\n",
    "plt.rcParams[\"font.family\"] = \"serif\"\n",
    "plt.rc(\"savefig\", dpi=300)\n",
    "\n",
    "plt.rcParams[\"axes.linewidth\"] = 1\n",
    "plt.rcParams[\"xtick.major.size\"] = 5\n",
    "plt.rcParams[\"xtick.minor.size\"] = 5\n",
    "plt.rcParams[\"ytick.major.size\"] = 5\n",
    "plt.rcParams[\"ytick.minor.size\"] = 5\n",
    "\n",
    "\n",
    "(classiq1,) = plt.semilogy(\n",
    "    classiq_fidelities,\n",
    "    classiq_depths,\n",
    "    \"-o\",\n",
    "    label=\"classiq depth\",\n",
    "    markerfacecolor=classiq_color,\n",
    "    markeredgecolor=\"k\",\n",
    "    markersize=8,\n",
    "    markeredgewidth=1.5,\n",
    "    linewidth=1.5,\n",
    "    color=classiq_color,\n",
    ")\n",
    "(classiq2,) = plt.semilogy(\n",
    "    classiq_fidelities,\n",
    "    classiq_cx_counts,\n",
    "    \"-*\",\n",
    "    label=\"classiq cx-counts\",\n",
    "    markerfacecolor=classiq_color,\n",
    "    markeredgecolor=\"k\",\n",
    "    markersize=12,\n",
    "    markeredgewidth=1.5,\n",
    "    linewidth=1.5,\n",
    "    color=classiq_color,\n",
    ")\n",
    "(qiskit1,) = plt.semilogy(\n",
    "    qiskit_fidelities,\n",
    "    qiskit_depths,\n",
    "    \"-s\",\n",
    "    label=\"qiskit depth\",\n",
    "    markerfacecolor=qiskit_color,\n",
    "    markeredgecolor=\"k\",\n",
    "    markersize=7,\n",
    "    markeredgewidth=1.5,\n",
    "    linewidth=1.5,\n",
    "    color=qiskit_color,\n",
    ")\n",
    "(qiskit2,) = plt.semilogy(\n",
    "    qiskit_fidelities,\n",
    "    qiskit_cx_counts,\n",
    "    \"-v\",\n",
    "    label=\"qiskit cx-counts\",\n",
    "    markerfacecolor=qiskit_color,\n",
    "    markeredgecolor=\"k\",\n",
    "    markersize=8,\n",
    "    markeredgewidth=1.5,\n",
    "    linewidth=1.5,\n",
    "    color=qiskit_color,\n",
    ")\n",
    "\n",
    "first_legend = plt.legend(\n",
    "    handles=[qiskit1, qiskit2],\n",
    "    fontsize=16,\n",
    "    loc=\"upper left\",\n",
    ")\n",
    "ax = plt.gca().add_artist(first_legend)\n",
    "plt.legend(handles=[classiq1, classiq2], fontsize=16, loc=\"lower right\")\n",
    "\n",
    "# plt.ylim(0.2e3,2e5)\n",
    "plt.ylim(0.2e3, 3e5)\n",
    "plt.ylabel(\"Depth, CX-counts\", fontsize=16)\n",
    "plt.xlabel(r\"$\\langle\\hat{x}_{\\rm cl}|\\hat{x}_{\\rm q}\\rangle^2$\", fontsize=16)\n",
    "plt.yticks(fontsize=16)\n",
    "plt.xticks(fontsize=16)"
   ]
  }
 ],
 "metadata": {
  "kernelspec": {
   "display_name": "Python 3 (ipykernel)",
   "language": "python",
   "name": "python3"
  },
  "language_info": {
   "codemirror_mode": {
    "name": "ipython",
    "version": 3
   },
   "file_extension": ".py",
   "mimetype": "text/x-python",
   "name": "python",
   "nbconvert_exporter": "python",
   "pygments_lexer": "ipython3",
   "version": "3.11.8"
  }
 },
 "nbformat": 4,
 "nbformat_minor": 5
}
