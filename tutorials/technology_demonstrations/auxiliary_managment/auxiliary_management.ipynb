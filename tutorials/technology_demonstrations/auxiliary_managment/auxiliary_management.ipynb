{
 "cells": [
  {
   "cell_type": "markdown",
   "id": "0",
   "metadata": {},
   "source": [
    "# Auxiliary Reuse and Management"
   ]
  },
  {
   "cell_type": "markdown",
   "id": "1",
   "metadata": {},
   "source": [
    "This tutorial demonstrates automatic auxiliary qubits management by the synthesis engine. It synthesizes a simple state preparation function, which comprises several multi-controlled rotations. These rotations can use auxiliary qubits to reduce depth. For a given **global** width constraint, the initialization and reuse of auxiliary qubits between different function blocks is automated."
   ]
  },
  {
   "cell_type": "code",
   "execution_count": 2,
   "id": "2",
   "metadata": {},
   "outputs": [
    {
     "name": "stdout",
     "output_type": "stream",
     "text": [
      "Quantum program link: https://platform.classiq.io/circuit/30er6gl4kTKzjmcqlFQ8Qhs2bLA\n"
     ]
    }
   ],
   "source": [
    "import numpy as np\n",
    "\n",
    "from classiq import *\n",
    "\n",
    "MAX_WIDTH = 8\n",
    "\n",
    "NUM_QUBITS = 4\n",
    "np.random.seed(12)\n",
    "amplitudes = 1 - 2 * np.random.rand(2**NUM_QUBITS)\n",
    "amplitudes = (amplitudes / np.linalg.norm(amplitudes)).tolist()\n",
    "\n",
    "\n",
    "@qfunc\n",
    "def main() -> None:\n",
    "    out = QArray()\n",
    "    prepare_amplitudes(amplitudes=amplitudes, bound=0.2, out=out)\n",
    "\n",
    "\n",
    "preferences = Preferences(\n",
    "    custom_hardware_settings=CustomHardwareSettings(basis_gates=[\"cx\", \"u\"]),\n",
    "    random_seed=1235,\n",
    "    optimization_timeout_seconds=100,\n",
    ")\n",
    "constraints = Constraints(\n",
    "    optimization_parameter=OptimizationParameter.DEPTH, max_width=MAX_WIDTH\n",
    ")\n",
    "\n",
    "qprog = synthesize(main, preferences=preferences, constraints=constraints)\n",
    "show(qprog)"
   ]
  }
 ],
 "metadata": {
  "kernelspec": {
   "display_name": "Python 3 (ipykernel)",
   "language": "python",
   "name": "python3"
  },
  "language_info": {
   "codemirror_mode": {
    "name": "ipython",
    "version": 3
   },
   "file_extension": ".py",
   "mimetype": "text/x-python",
   "name": "python",
   "nbconvert_exporter": "python",
   "pygments_lexer": "ipython3",
   "version": "3.11.9"
  }
 },
 "nbformat": 4,
 "nbformat_minor": 9
}
