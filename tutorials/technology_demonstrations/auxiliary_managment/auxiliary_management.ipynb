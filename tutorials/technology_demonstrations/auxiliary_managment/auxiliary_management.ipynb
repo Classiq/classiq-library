{
 "cells": [
  {
   "cell_type": "markdown",
   "id": "4d315122-a2e8-4df2-8c48-7df96a6f20aa",
   "metadata": {},
   "source": [
    "# Auxiliary Reuse and Management"
   ]
  },
  {
   "cell_type": "markdown",
   "id": "a8647657-e9aa-4eea-a5d3-b146f56d5f10",
   "metadata": {},
   "source": [
    "This tutorial demonstrates automatic auxiliary qubits management by the synthesis engine. It synthesizes a simple state preparation function, which comprises several multi-controlled rotations. These rotations can use auxiliary qubits to reduce depth. For a given **global** width constraint, the initialization and reuse of auxiliary qubits between different function blocks is automated."
   ]
  },
  {
   "cell_type": "code",
   "execution_count": 1,
   "id": "8a86fe71-0207-49f0-97db-ee484c0bc036",
   "metadata": {},
   "outputs": [
    {
     "name": "stdout",
     "output_type": "stream",
     "text": [
      "Opening: https://platform.classiq.io/circuit/2tcfX8HLgsEmRutAFGw3i3npbvU?version=0.66.1\n"
     ]
    }
   ],
   "source": [
    "import numpy as np\n",
    "\n",
    "from classiq import *\n",
    "\n",
    "MAX_WIDTH = 8\n",
    "\n",
    "NUM_QUBITS = 4\n",
    "np.random.seed(12)\n",
    "amplitudes = 1 - 2 * np.random.rand(2**NUM_QUBITS)\n",
    "amplitudes = (amplitudes / np.linalg.norm(amplitudes)).tolist()\n",
    "\n",
    "\n",
    "@qfunc\n",
    "def main() -> None:\n",
    "    out = QArray(\"out\")\n",
    "    prepare_amplitudes(amplitudes=amplitudes, bound=0.2, out=out)\n",
    "\n",
    "\n",
    "qmod = create_model(main)\n",
    "qmod = set_preferences(\n",
    "    qmod,\n",
    "    custom_hardware_settings=CustomHardwareSettings(basis_gates=[\"cx\", \"u\"]),\n",
    "    random_seed=1235,\n",
    "    optimization_timeout_seconds=100,\n",
    ")\n",
    "qmod = set_constraints(\n",
    "    qmod, optimization_parameter=OptimizationParameter.DEPTH, max_width=MAX_WIDTH\n",
    ")\n",
    "qprog = synthesize(qmod)\n",
    "show(qprog)"
   ]
  }
 ],
 "metadata": {
  "kernelspec": {
   "display_name": "Python 3 (ipykernel)",
   "language": "python",
   "name": "python3"
  },
  "language_info": {
   "codemirror_mode": {
    "name": "ipython",
    "version": 3
   },
   "file_extension": ".py",
   "mimetype": "text/x-python",
   "name": "python",
   "nbconvert_exporter": "python",
   "pygments_lexer": "ipython3",
   "version": "3.11.7"
  }
 },
 "nbformat": 4,
 "nbformat_minor": 5
}
