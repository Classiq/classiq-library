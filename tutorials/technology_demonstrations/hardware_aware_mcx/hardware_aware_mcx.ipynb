{
 "cells": [
  {
   "cell_type": "markdown",
   "id": "1f679dad-dc5c-4ae2-a0df-967b793c9202",
   "metadata": {},
   "source": [
    "# HW-aware Synthesis of MCX\n",
    "\n",
    "This example shows that implementation of multiple control-x (MCX) logic, using the Classiq synthesis engine, yields different circuit results for different quantum hardware.\n",
    "\n",
    "The fictitious hardware created here demonstrates how to insert your own custom-designed machine. For comparison, create two types of hardware with `cx, u` basis gates. The difference between them manifests in the connectivity map: one has linear connectivity while the other has all-to-all connectivity."
   ]
  },
  {
   "cell_type": "code",
   "execution_count": 1,
   "id": "0299fa78-b416-4979-9b67-aee63e230a92",
   "metadata": {
    "tags": []
   },
   "outputs": [
    {
     "name": "stdout",
     "output_type": "stream",
     "text": [
      "Quantum program link: https://platform.classiq.io/circuit/30ekINlCUBv3lqPtafJ4KJGE0wX\n",
      "Quantum program link: https://platform.classiq.io/circuit/30ekJtDZ1ine1W4cRUpaqJm9uGS\n"
     ]
    }
   ],
   "source": [
    "from classiq import *\n",
    "\n",
    "# define the hardware parameters\n",
    "max_width = 18\n",
    "\n",
    "linear_connectivity = [[qubit, qubit + 1] for qubit in range(max_width - 1)]\n",
    "\n",
    "\n",
    "# define the MCX parameters within the quantum 'main' function\n",
    "@qfunc\n",
    "def main(cntrl: Output[QArray], target: Output[QBit]) -> None:\n",
    "    allocate(15, cntrl)\n",
    "    allocate(target)\n",
    "    control(cntrl, lambda: X(target))\n",
    "\n",
    "\n",
    "# build a model\n",
    "qmod = create_model(main)\n",
    "# define synthesis engine constraints\n",
    "qmod = set_constraints(qmod, optimization_parameter=\"depth\", max_width=max_width)\n",
    "\n",
    "# define models with different preferences\n",
    "qmod_linear = set_preferences(\n",
    "    qmod,\n",
    "    custom_hardware_settings=CustomHardwareSettings(\n",
    "        basis_gates=[\"cx\", \"u\"],\n",
    "        connectivity_map=linear_connectivity,\n",
    "    ),\n",
    "    random_seed=-1,\n",
    ")\n",
    "qmod_all_to_all = set_preferences(\n",
    "    qmod,\n",
    "    custom_hardware_settings=CustomHardwareSettings(basis_gates=[\"cx\", \"u\"]),\n",
    "    random_seed=-1,\n",
    ")\n",
    "\n",
    "# write models to files\n",
    "write_qmod(qmod_linear, \"hardware_aware_mcx_linear\")\n",
    "write_qmod(qmod_all_to_all, \"hardware_aware_mcx_all_to_all\")\n",
    "\n",
    "\n",
    "# synthesize to create quantum programs and view circuits:\n",
    "qprog_linear = synthesize(qmod_linear)\n",
    "show(qprog_linear)\n",
    "\n",
    "qprog_all_to_all = synthesize(qmod_all_to_all)\n",
    "show(qprog_all_to_all)"
   ]
  },
  {
   "cell_type": "markdown",
   "id": "e98dfa17-3880-48b6-834f-dd5028886a0d",
   "metadata": {},
   "source": [
    "Comparison of the two circuits shows that applying MCx using different connectivity maps yields different implementation.\n",
    "\n",
    "Using \"all-to-all\" connectivity, the synthesis engine chooses as the best implementation a recourse based on \"Maslov2015\" [[1](#Maslov)] that was written on the Classiq platform. Using that, the manufactured circuit has 18 qubits; i.e., it uses two auxiliary qubits. The total depth of the circuit is:"
   ]
  },
  {
   "cell_type": "code",
   "execution_count": 2,
   "id": "fb6f7fd2-138d-46c0-b1ae-fff77b13ceb4",
   "metadata": {},
   "outputs": [
    {
     "name": "stdout",
     "output_type": "stream",
     "text": [
      "378\n"
     ]
    }
   ],
   "source": [
    "print(qprog_all_to_all.transpiled_circuit.depth)"
   ]
  },
  {
   "cell_type": "markdown",
   "id": "24ef102b-9bd7-4770-8c0f-44794909b341",
   "metadata": {},
   "source": [
    "When using linear connectivity, the best implementation chosen by the synthesis engine is, in fact, different: an algorithm developed by Classiq, which is better suited for this map. Here, the manufactured circuit uses 18 qubits with only one auxiliary and has a depth of:"
   ]
  },
  {
   "cell_type": "code",
   "execution_count": 3,
   "id": "baac1f0b-2890-40db-bd0a-97499c2cfc66",
   "metadata": {},
   "outputs": [
    {
     "name": "stdout",
     "output_type": "stream",
     "text": [
      "781\n"
     ]
    }
   ],
   "source": [
    "print(qprog_linear.transpiled_circuit.depth)"
   ]
  },
  {
   "cell_type": "markdown",
   "id": "7012ac26-16c0-4d53-9126-7e0ab6c56f58",
   "metadata": {},
   "source": [
    "## References\n",
    "\n",
    "<a id='Maslov'>[1]</a>: [Maslov, D., 2016. Advantages of using relative-phase Toffoli gates with an application to multiple control Toffoli optimization. Physical Review A, 93(2), p.022311.](https://arxiv.org/pdf/1508.03273.pdf)\n"
   ]
  }
 ],
 "metadata": {
  "kernelspec": {
   "display_name": "Python 3 (ipykernel)",
   "language": "python",
   "name": "python3"
  },
  "language_info": {
   "codemirror_mode": {
    "name": "ipython",
    "version": 3
   },
   "file_extension": ".py",
   "mimetype": "text/x-python",
   "name": "python",
   "nbconvert_exporter": "python",
   "pygments_lexer": "ipython3",
   "version": "3.11.9"
  },
  "vscode": {
   "interpreter": {
    "hash": "06273a122c42fd15929f0386098ca14cf9f8c71b9613ea759dc91b2f69170a12"
   }
  }
 },
 "nbformat": 4,
 "nbformat_minor": 5
}
