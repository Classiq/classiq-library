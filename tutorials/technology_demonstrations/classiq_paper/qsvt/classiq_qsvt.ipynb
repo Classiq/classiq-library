{
 "cells": [
  {
   "cell_type": "markdown",
   "id": "c9c1fa3f-f0e8-4b78-81d7-172d89f1a181",
   "metadata": {},
   "source": [
    "# Classiq code for QSVT example"
   ]
  },
  {
   "cell_type": "markdown",
   "id": "54cf368e-b780-42b3-930e-58caf4a255f2",
   "metadata": {},
   "source": [
    "This notebook shows how to generate for the QSVT example using `classiq`."
   ]
  },
  {
   "cell_type": "code",
   "execution_count": 1,
   "id": "4dcb49f6-5436-447a-b5ea-7081b04a1829",
   "metadata": {},
   "outputs": [],
   "source": [
    "import time\n",
    "\n",
    "import numpy as np\n",
    "\n",
    "from classiq import *\n",
    "from classiq.qmod.symbolic import floor"
   ]
  },
  {
   "cell_type": "code",
   "execution_count": 2,
   "id": "1b1013df-9cf8-40c4-8362-b89539f9c757",
   "metadata": {},
   "outputs": [],
   "source": [
    "MAX_WIDTH = 50\n",
    "SIZE = 6\n",
    "DEGREE = 3\n",
    "QSVT_PHASES = [\n",
    "    1.280311896404252,\n",
    "    8.127145628464149,\n",
    "    1.8439603212845617,\n",
    "    -5.002873410775335,\n",
    "]\n",
    "\n",
    "constraints = Constraints(optimization_parameter=\"cx\", max_width=MAX_WIDTH)"
   ]
  },
  {
   "cell_type": "markdown",
   "id": "ac29a72b-0238-49b0-b5a6-89b27cd98ef0",
   "metadata": {},
   "source": [
    "## Quantum Functions"
   ]
  },
  {
   "cell_type": "code",
   "execution_count": 3,
   "id": "835628ad-dd86-4128-8c8f-11f64732f733",
   "metadata": {},
   "outputs": [],
   "source": [
    "@qfunc\n",
    "def be_projection(x: QArray[QBit], aux: QBit):\n",
    "    within_apply(\n",
    "        lambda: H(aux),\n",
    "        lambda: control(\n",
    "            aux == 0,\n",
    "            lambda: reflect_about_zero(x),\n",
    "        ),\n",
    "    )\n",
    "\n",
    "\n",
    "@qfunc\n",
    "def be_amat0(data: QArray[QBit], block: QArray[QBit]):\n",
    "\n",
    "    del_qubit = QBit(\"del_qubit\")\n",
    "    select = QBit(\"select\")\n",
    "    packed = QNum(\"packed\", data.size + 1)\n",
    "\n",
    "    within_apply(\n",
    "        lambda: (\n",
    "            bind(block, [select, del_qubit]),\n",
    "            bind([data, del_qubit], packed),\n",
    "            hadamard_transform(select),\n",
    "        ),\n",
    "        lambda: (\n",
    "            control(select, lambda: IDENTITY(packed), lambda: inplace_add(2, packed)),\n",
    "            inplace_add(-1, packed),\n",
    "        ),\n",
    "    )\n",
    "\n",
    "\n",
    "@qfunc\n",
    "def my_be(data: QArray[QBit], block: QArray[QBit]):\n",
    "\n",
    "    be_amat0(data, block[0:2])\n",
    "    be_projection(data, block[2])\n",
    "\n",
    "\n",
    "@qfunc\n",
    "def my_projector_controlled_phase(phase: CReal, block: QNum, aux: QBit):\n",
    "    control(block == 0, lambda: X(aux))\n",
    "    RZ(phase, aux)\n",
    "    control(block == 0, lambda: X(aux))\n",
    "\n",
    "\n",
    "@qfunc\n",
    "def my_qsvt_step(\n",
    "    phase1: CReal,\n",
    "    phase2: CReal,\n",
    "    u: QCallable[QArray, QArray],\n",
    "    data: QArray[QBit],\n",
    "    block: QArray[QBit],\n",
    "    qsvt_aux: QBit,\n",
    "):\n",
    "\n",
    "    u(data, block)\n",
    "    my_projector_controlled_phase(phase1, block, qsvt_aux)\n",
    "    invert(lambda: u(data, block))\n",
    "    my_projector_controlled_phase(phase2, block, qsvt_aux)\n",
    "\n",
    "\n",
    "@qfunc\n",
    "def my_qsvt(\n",
    "    qsvt_phases: CArray[CReal], data: QArray[QBit], block: QArray[QBit], qsvt_aux: QBit\n",
    "):\n",
    "\n",
    "    H(qsvt_aux)\n",
    "    my_projector_controlled_phase(qsvt_phases[0], block, qsvt_aux)\n",
    "    repeat(\n",
    "        floor((qsvt_phases.len - 1) / 2),\n",
    "        lambda i: my_qsvt_step(\n",
    "            qsvt_phases[(2 * i) + 1],\n",
    "            qsvt_phases[(2 * i) + 2],\n",
    "            lambda d, b: my_be(d, b),\n",
    "            data,\n",
    "            block,\n",
    "            qsvt_aux,\n",
    "        ),\n",
    "    )\n",
    "    my_be(data, block)\n",
    "    my_projector_controlled_phase(qsvt_phases[qsvt_phases.len - 1], block, qsvt_aux)\n",
    "    H(qsvt_aux)"
   ]
  },
  {
   "cell_type": "code",
   "execution_count": 4,
   "id": "d9b9ed1a-62d0-4829-9ea2-4912cf6696a0",
   "metadata": {},
   "outputs": [],
   "source": [
    "from classiq import CustomHardwareSettings, Preferences\n",
    "\n",
    "preferences = Preferences(\n",
    "    custom_hardware_settings=CustomHardwareSettings(basis_gates=[\"cx\", \"u\"]),\n",
    "    transpilation_option=\"custom\",\n",
    "    debug_mode=False,\n",
    ")"
   ]
  },
  {
   "cell_type": "markdown",
   "id": "632eab9d-8db3-4791-a668-d920243ea3ed",
   "metadata": {},
   "source": [
    "## Example for getting a data point"
   ]
  },
  {
   "cell_type": "code",
   "execution_count": 5,
   "id": "75d56ad1-8793-4c27-a455-68d0ec168e55",
   "metadata": {},
   "outputs": [
    {
     "name": "stdout",
     "output_type": "stream",
     "text": [
      "==== classiq for 6==== time 11.979933977127075\n"
     ]
    }
   ],
   "source": [
    "start_time = time.time()\n",
    "\n",
    "\n",
    "@qfunc\n",
    "def main(block: Output[QNum], data: Output[QNum], qsvt_aux: Output[QBit]):\n",
    "    allocate(1, qsvt_aux)\n",
    "    allocate(3, block)\n",
    "    allocate(SIZE, data)\n",
    "    my_qsvt(QSVT_PHASES, data, block, qsvt_aux)\n",
    "\n",
    "\n",
    "qmod = create_model(main, constraints=constraints, preferences=preferences)\n",
    "qprog = synthesize(qmod)\n",
    "\n",
    "compilation_time = time.time() - start_time\n",
    "quantum_program = QuantumProgram.from_qprog(qprog)\n",
    "width = quantum_program.data.width\n",
    "depth = quantum_program.transpiled_circuit.depth\n",
    "cx_counts = quantum_program.transpiled_circuit.count_ops[\"cx\"]\n",
    "print(f\"==== classiq for {SIZE}==== time {compilation_time}\")"
   ]
  },
  {
   "cell_type": "code",
   "execution_count": null,
   "id": "a740aec0-5189-4869-8193-b3d79ca39379",
   "metadata": {},
   "outputs": [],
   "source": []
  }
 ],
 "metadata": {
  "kernelspec": {
   "display_name": "Python 3 (ipykernel)",
   "language": "python",
   "name": "python3"
  },
  "language_info": {
   "codemirror_mode": {
    "name": "ipython",
    "version": 3
   },
   "file_extension": ".py",
   "mimetype": "text/x-python",
   "name": "python",
   "nbconvert_exporter": "python",
   "pygments_lexer": "ipython3",
   "version": "3.11.9"
  }
 },
 "nbformat": 4,
 "nbformat_minor": 5
}
