{
 "cells": [
  {
   "cell_type": "markdown",
   "id": "0",
   "metadata": {},
   "source": [
    "# Classiq code for QSVT example"
   ]
  },
  {
   "cell_type": "markdown",
   "id": "1",
   "metadata": {},
   "source": [
    "This notebook shows how to generate for the QSVT example using `classiq`."
   ]
  },
  {
   "cell_type": "code",
   "execution_count": 1,
   "id": "2",
   "metadata": {},
   "outputs": [],
   "source": [
    "import time\n",
    "\n",
    "import numpy as np\n",
    "\n",
    "from classiq import *\n",
    "from classiq.qmod.symbolic import floor"
   ]
  },
  {
   "cell_type": "code",
   "execution_count": 2,
   "id": "3",
   "metadata": {},
   "outputs": [],
   "source": [
    "MAX_WIDTH = 50\n",
    "SIZE = 6\n",
    "DEGREE = 3\n",
    "QSVT_PHASES = [\n",
    "    1.280311896404252,\n",
    "    8.127145628464149,\n",
    "    1.8439603212845617,\n",
    "    -5.002873410775335,\n",
    "]\n",
    "\n",
    "constraints = Constraints(optimization_parameter=\"cx\", max_width=MAX_WIDTH)"
   ]
  },
  {
   "cell_type": "markdown",
   "id": "4",
   "metadata": {},
   "source": [
    "## Quantum Functions"
   ]
  },
  {
   "cell_type": "code",
   "execution_count": 3,
   "id": "5",
   "metadata": {},
   "outputs": [],
   "source": [
    "@qfunc\n",
    "def be_projection(x: QArray, aux: QBit):\n",
    "    within_apply(\n",
    "        lambda: H(aux),\n",
    "        lambda: control(\n",
    "            aux == 0,\n",
    "            lambda: reflect_about_zero(x),\n",
    "        ),\n",
    "    )\n",
    "\n",
    "\n",
    "@qfunc\n",
    "def be_amat0(data: QArray, block: QArray):\n",
    "\n",
    "    del_qubit = QBit()\n",
    "    select = QBit()\n",
    "    packed = QNum(size=data.size + 1)\n",
    "\n",
    "    within_apply(\n",
    "        lambda: (\n",
    "            bind(block, [select, del_qubit]),\n",
    "            bind([data, del_qubit], packed),\n",
    "            hadamard_transform(select),\n",
    "        ),\n",
    "        lambda: (\n",
    "            control(select, lambda: IDENTITY(packed), lambda: inplace_add(2, packed)),\n",
    "            inplace_add(-1, packed),\n",
    "        ),\n",
    "    )\n",
    "\n",
    "\n",
    "@qfunc\n",
    "def my_be(data: QArray, block: QArray):\n",
    "\n",
    "    be_amat0(data, block[0:2])\n",
    "    be_projection(data, block[2])\n",
    "\n",
    "\n",
    "@qfunc\n",
    "def my_projector_controlled_phase(phase: CReal, block: QNum, aux: QBit):\n",
    "    control(block == 0, lambda: X(aux))\n",
    "    RZ(phase, aux)\n",
    "    control(block == 0, lambda: X(aux))\n",
    "\n",
    "\n",
    "@qfunc\n",
    "def my_qsvt_step(\n",
    "    phase1: CReal,\n",
    "    phase2: CReal,\n",
    "    u: QCallable[QArray, QArray],\n",
    "    data: QArray,\n",
    "    block: QArray,\n",
    "    qsvt_aux: QBit,\n",
    "):\n",
    "\n",
    "    u(data, block)\n",
    "    my_projector_controlled_phase(phase1, block, qsvt_aux)\n",
    "    invert(lambda: u(data, block))\n",
    "    my_projector_controlled_phase(phase2, block, qsvt_aux)\n",
    "\n",
    "\n",
    "@qfunc\n",
    "def my_qsvt(qsvt_phases: CArray[CReal], data: QArray, block: QArray, qsvt_aux: QBit):\n",
    "\n",
    "    H(qsvt_aux)\n",
    "    my_projector_controlled_phase(qsvt_phases[0], block, qsvt_aux)\n",
    "    repeat(\n",
    "        floor((qsvt_phases.len - 1) / 2),\n",
    "        lambda i: my_qsvt_step(\n",
    "            qsvt_phases[(2 * i) + 1],\n",
    "            qsvt_phases[(2 * i) + 2],\n",
    "            lambda d, b: my_be(d, b),\n",
    "            data,\n",
    "            block,\n",
    "            qsvt_aux,\n",
    "        ),\n",
    "    )\n",
    "    my_be(data, block)\n",
    "    my_projector_controlled_phase(qsvt_phases[qsvt_phases.len - 1], block, qsvt_aux)\n",
    "    H(qsvt_aux)"
   ]
  },
  {
   "cell_type": "code",
   "execution_count": 4,
   "id": "6",
   "metadata": {},
   "outputs": [],
   "source": [
    "from classiq import CustomHardwareSettings, Preferences\n",
    "\n",
    "preferences = Preferences(\n",
    "    custom_hardware_settings=CustomHardwareSettings(basis_gates=[\"cx\", \"u\"]),\n",
    "    transpilation_option=\"custom\",\n",
    "    debug_mode=False,\n",
    ")"
   ]
  },
  {
   "cell_type": "markdown",
   "id": "7",
   "metadata": {},
   "source": [
    "## Example for getting a data point"
   ]
  },
  {
   "cell_type": "code",
   "execution_count": 5,
   "id": "8",
   "metadata": {},
   "outputs": [
    {
     "name": "stdout",
     "output_type": "stream",
     "text": [
      "==== classiq for 6==== time 33.173584938049316\n"
     ]
    }
   ],
   "source": [
    "start_time = time.time()\n",
    "\n",
    "\n",
    "@qfunc\n",
    "def main(block: Output[QNum], data: Output[QNum], qsvt_aux: Output[QBit]):\n",
    "    allocate(1, qsvt_aux)\n",
    "    allocate(3, block)\n",
    "    allocate(SIZE, data)\n",
    "    my_qsvt(QSVT_PHASES, data, block, qsvt_aux)\n",
    "\n",
    "\n",
    "qprog = synthesize(main, constraints=constraints, preferences=preferences)\n",
    "\n",
    "compilation_time = time.time() - start_time\n",
    "width = qprog.data.width\n",
    "depth = qprog.transpiled_circuit.depth\n",
    "cx_counts = qprog.transpiled_circuit.count_ops[\"cx\"]\n",
    "print(f\"==== classiq for {SIZE}==== time {compilation_time}\")"
   ]
  }
 ],
 "metadata": {
  "kernelspec": {
   "display_name": "Python 3 (ipykernel)",
   "language": "python",
   "name": "python3"
  },
  "language_info": {
   "codemirror_mode": {
    "name": "ipython",
    "version": 3
   },
   "file_extension": ".py",
   "mimetype": "text/x-python",
   "name": "python",
   "nbconvert_exporter": "python",
   "pygments_lexer": "ipython3",
   "version": "3.11.9"
  }
 },
 "nbformat": 4,
 "nbformat_minor": 9
}
