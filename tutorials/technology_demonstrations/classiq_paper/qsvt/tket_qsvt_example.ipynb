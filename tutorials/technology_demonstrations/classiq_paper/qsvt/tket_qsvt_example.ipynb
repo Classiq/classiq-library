{
 "cells": [
  {
   "cell_type": "markdown",
   "id": "6d913177-eafe-488f-a2fc-8ccedf0f4be1",
   "metadata": {},
   "source": [
    "# PyTket code for QSVT example"
   ]
  },
  {
   "cell_type": "markdown",
   "id": "af0afde2-d59c-4186-a34f-142a5265f095",
   "metadata": {},
   "source": [
    "This notebook shows how to generate data for discrete quantum walk using `pytket` 1.34.0"
   ]
  },
  {
   "cell_type": "markdown",
   "id": "9d22099b-4cf7-415a-ad46-1b7b7914e701",
   "metadata": {},
   "source": [
    "Here we provide the codes for block encoding the matrix $A$, as well as the QSVT implementation. PyTket does not have an adder by a constant function. Thus, we have modified their adder functions, which is applied between two quantum registers, to include this functionality."
   ]
  },
  {
   "cell_type": "code",
   "execution_count": 5,
   "id": "3e1d1b33-552c-4ffa-a89b-385b56d3791e",
   "metadata": {},
   "outputs": [],
   "source": [
    "# import time\n",
    "# from pytket.circuit import Circuit, CircBox, OpType, QControlBox\n",
    "# from pytket.extensions.qiskit import AerBackend\n",
    "# from pytket.passes import DecomposeBoxes, SynthesiseTket"
   ]
  },
  {
   "cell_type": "code",
   "execution_count": 6,
   "id": "de82e8ae-9efe-40c3-b6f4-67128e18e9bc",
   "metadata": {},
   "outputs": [],
   "source": [
    "# backend = AerBackend()\n",
    "\n",
    "# from pytket.circuit import Circuit, CircBox\n",
    "# import numpy as np\n",
    "\n",
    "# def build_qft_circuit(n_qubits: int, do_swaps: True) -> Circuit:\n",
    "#     circ = Circuit(n_qubits, name=\"QFT\")\n",
    "#     for i in range(n_qubits):\n",
    "#         circ.H(i)\n",
    "#         for j in range(i + 1, n_qubits):\n",
    "#             circ.CU1(1 / 2 ** (j - i), j, i)\n",
    "#     if do_swaps:\n",
    "#         for k in range(0, n_qubits // 2):\n",
    "#             circ.SWAP(k, n_qubits - k - 1)\n",
    "#     return circ\n",
    "\n",
    "# class DraperQFTAdderConstantPytket:\n",
    "#     def __init__(self, num_state_qubits: int, constant: int) -> Circuit:\n",
    "#         circuit = Circuit(num_state_qubits)\n",
    "\n",
    "#         qft_circuit = build_qft_circuit(num_state_qubits, do_swaps=False)\n",
    "#         circuit.add_gate(CircBox(qft_circuit),[k for k in range(num_state_qubits)])\n",
    "\n",
    "#         # Apply phase rotations for the constant\n",
    "#         for qubit in range(num_state_qubits):\n",
    "#             angle = (constant % (2 ** (qubit + 1))) * np.pi / (2 ** qubit)\n",
    "#             circuit.Rz(angle, qubit)\n",
    "\n",
    "#         # Apply inverse QFT\n",
    "#         circuit.add_gate(CircBox(qft_circuit).dagger,[k for k in range(num_state_qubits)])\n",
    "\n",
    "#         self.circuit = circuit\n",
    "\n",
    "#     def get_circuit(self) -> Circuit:\n",
    "#         return self.circuit"
   ]
  },
  {
   "cell_type": "code",
   "execution_count": 7,
   "id": "1ea516d2-e1f7-4b7c-ad10-dd4769144b8c",
   "metadata": {},
   "outputs": [],
   "source": [
    "# def get_reflect_around_zero(size):\n",
    "#     qc = Circuit(size, name=\"reflection\")\n",
    "#     qc.X(0)\n",
    "#     qc.H(0)\n",
    "#     qc.add_gate(QControlBox(CircBox(Circuit(1).X(0)), n_controls = size-1, control_state=[0]*(size-1)), [k for k in range(size)])\n",
    "#     qc.H(0)\n",
    "#     qc.X(0)\n",
    "\n",
    "#     return qc\n",
    "\n",
    "# def get_cir_be(qc, data, block):\n",
    "#     qc.H(block[0])\n",
    "#     qc.H(block[2])\n",
    "#     adder_2_cir = DraperQFTAdderConstantPytket(len(data)+1, 2).get_circuit()\n",
    "#     adder_1_cir = DraperQFTAdderConstantPytket(len(data)+1, -1+2**(len(data)+1)).get_circuit()\n",
    "#     qc.add_gate(QControlBox(CircBox(adder_2_cir), n_controls = 1, control_state=0), [block[0]]+[data[k] for k in range(len(data))]+[block[1]])\n",
    "#     qc.add_gate(CircBox(adder_1_cir), [data[k] for k in range(len(data))]+[block[1]])\n",
    "#     qc.add_gate(QControlBox(CircBox(get_reflect_around_zero(len(data))),n_controls=1, control_state=0),[block[2]]+[data[k] for k in range(len(data))])\n",
    "#     qc.H(block[0])\n",
    "#     qc.H(block[2])\n",
    "\n",
    "#     return qc\n",
    "\n",
    "# def apply_projector_controlled_phase(qc, phase, block_reg, aux_reg):\n",
    "#     qc.add_gate(QControlBox(CircBox(Circuit(1).X(0)), n_controls = len(block_reg), control_state=[0]*len(block_reg)),\n",
    "#                                          [block_reg[k] for k in range(len(block_reg))] + [aux_reg[0]]\n",
    "#                                          )\n",
    "#     qc.Rz(phase, aux_reg[0])\n",
    "\n",
    "#     qc.add_gate(QControlBox(CircBox(Circuit(1).X(0)), n_controls = len(block_reg), control_state=[0]*len(block_reg)),\n",
    "#                                          [block_reg[k] for k in range(len(block_reg))] + [aux_reg[0]]\n",
    "#                                          )\n",
    "\n",
    "\n",
    "# def apply_qsvt_step(qc, phase1, phase2, u, data, block, qsvt_aux):\n",
    "\n",
    "#     qc.add_gate(CircBox(u), [data[l] for l in range(len(data))]+ [block[l] for l in range(len(block))])\n",
    "#     apply_projector_controlled_phase(qc, phase1, block, qsvt_aux)\n",
    "#     qc.add_gate(CircBox(u).dagger, [data[l] for l in range(len(data))]+ [block[l] for l in range(len(block))])\n",
    "#     apply_projector_controlled_phase(qc, phase2, block, qsvt_aux)\n",
    "\n",
    "\n",
    "# def get_qsvt_circuit(qsvt_phases,\n",
    "#             size):\n",
    "\n",
    "#     qsvt_cir = Circuit()\n",
    "#     data = qsvt_cir.add_q_register(\"data\", size)\n",
    "#     block = qsvt_cir.add_q_register(\"block\", 3)\n",
    "#     cir_be = Circuit()\n",
    "#     data = cir_be.add_q_register(\"data\", size)\n",
    "#     block = cir_be.add_q_register(\"block\", 3)\n",
    "\n",
    "#     qsvt_aux = qsvt_cir.add_q_register(\"qsvt_aux\", 1)\n",
    "#     cir_be = get_cir_be(cir_be,data, block)\n",
    "\n",
    "#     qsvt_cir.H(qsvt_aux[0])\n",
    "#     apply_projector_controlled_phase(qsvt_cir, qsvt_phases[0], block, qsvt_aux)\n",
    "#     for i in range(int(np.floor((len(qsvt_phases) - 1) / 2))):\n",
    "#         apply_qsvt_step(qsvt_cir,\n",
    "#                         qsvt_phases[(2 * i) + 1], qsvt_phases[(2 * i) + 2],\n",
    "#                         cir_be,\n",
    "#                         data,\n",
    "#                         block,\n",
    "#                         qsvt_aux\n",
    "#                        )\n",
    "#     qsvt_cir.add_gate(CircBox(cir_be), [data[l] for l in range(len(data))]+ [block[l] for l in range(len(block))])\n",
    "#     apply_projector_controlled_phase(qsvt_cir, qsvt_phases[len(qsvt_phases) - 1], block, qsvt_aux)\n",
    "#     qsvt_cir.H(qsvt_aux[0])\n",
    "\n",
    "#     return qsvt_cir"
   ]
  },
  {
   "cell_type": "markdown",
   "id": "941c62a0-3eb5-4870-953f-4d9e66592caa",
   "metadata": {},
   "source": [
    "## run an example"
   ]
  },
  {
   "cell_type": "code",
   "execution_count": 8,
   "id": "782c3e8d-635c-42a4-8612-4c0b3c0de36b",
   "metadata": {},
   "outputs": [],
   "source": [
    "# SIZE = 6\n",
    "# DEGREE = 3\n",
    "# QSVT_PHASES = [1.280311896404252, 8.127145628464149, 1.8439603212845617, -5.002873410775335]\n",
    "\n",
    "# start_time = time.time()\n",
    "# qc_qsvt = get_qsvt_circuit(QSVT_PHASES, SIZE)\n",
    "# DecomposeBoxes().apply(qc_qsvt)\n",
    "# SynthesiseTket().apply(qc_qsvt)\n",
    "# compiled_circ = backend.get_compiled_circuit(qc_qsvt)\n",
    "# transpilation_time = time.time()-start_time\n",
    "# depth = compiled_circ.depth()\n",
    "# cx_counts = compiled_circ.n_gates_of_type(OpType.CX)\n",
    "# width = compiled_circ.n_qubits\n",
    "\n",
    "# print(f\"==== tket for {SIZE}==== time: {transpilation_time}\")"
   ]
  },
  {
   "cell_type": "code",
   "execution_count": null,
   "id": "91f84f69-cec4-40be-8d37-f4ebd35a3da4",
   "metadata": {},
   "outputs": [],
   "source": []
  }
 ],
 "metadata": {
  "kernelspec": {
   "display_name": "Python 3 (ipykernel)",
   "language": "python",
   "name": "python3"
  },
  "language_info": {
   "codemirror_mode": {
    "name": "ipython",
    "version": 3
   },
   "file_extension": ".py",
   "mimetype": "text/x-python",
   "name": "python",
   "nbconvert_exporter": "python",
   "pygments_lexer": "ipython3",
   "version": "3.11.9"
  }
 },
 "nbformat": 4,
 "nbformat_minor": 5
}
