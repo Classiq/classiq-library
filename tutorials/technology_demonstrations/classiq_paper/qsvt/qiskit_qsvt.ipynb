{
 "cells": [
  {
   "cell_type": "markdown",
   "id": "b1f72239-a501-49ed-ad8c-c74dda99654d",
   "metadata": {},
   "source": [
    "# Qiskit code for QSVT example"
   ]
  },
  {
   "cell_type": "markdown",
   "id": "2693f2a3-eb70-4ff5-a7ff-66de2a2ddeff",
   "metadata": {},
   "source": [
    "This notebook shows how to generate data for the QSVT example using `qiskit` 1.2.4."
   ]
  },
  {
   "cell_type": "markdown",
   "id": "b5743eaf-dc74-4c4c-bce3-3d3008d77445",
   "metadata": {},
   "source": [
    "Here we provide the codes for block encoding the matrix $A$, as well as the QSVT implementation. Qiskit does not have an adder by a constant function. Thus, we have modified their adder functions, which is applied between two quantum registers, to include this functionality."
   ]
  },
  {
   "cell_type": "code",
   "execution_count": 4,
   "id": "45c60f3a-ba1a-42b4-a0a7-ba1a726db42d",
   "metadata": {},
   "outputs": [],
   "source": [
    "# import time\n",
    "# import numpy as np\n",
    "# from qiskit.circuit import QuantumCircuit, QuantumRegister\n",
    "# from qiskit.circuit.library import QFT\n",
    "# from qiskit import QuantumCircuit, QuantumRegister, transpile\n",
    "# from qiskit.circuit.library.standard_gates import XGate, RZGate\n",
    "\n",
    "# BASIS_GATES = [\"u\", \"cx\"]\n",
    "# OPT_LEVEL = 3\n",
    "\n",
    "# class DraperQFTAdderConstant(QuantumCircuit):\n",
    "#     def __init__(self, num_state_qubits: int, constant: int, name: str = \"DraperQFTAdderConst\") -> None:\n",
    "#         # Create the quantum register\n",
    "#         qr_a = QuantumRegister(num_state_qubits, name=\"a\")\n",
    "#         super().__init__(qr_a, name=name)\n",
    "\n",
    "#         # Apply the QFT\n",
    "#         self.append(QFT(num_state_qubits, do_swaps=False).to_gate(), qr_a)\n",
    "\n",
    "#         # Add the constant by applying controlled rotations\n",
    "#         for qubit in range(num_state_qubits):\n",
    "#             angle = (constant % (2 ** (qubit + 1))) * np.pi / (2 ** qubit)\n",
    "#             self.p(angle, qr_a[qubit])\n",
    "\n",
    "#         # Apply the inverse QFT\n",
    "#         self.append(QFT(num_state_qubits, do_swaps=False).inverse().to_gate(), qr_a)"
   ]
  },
  {
   "cell_type": "code",
   "execution_count": 5,
   "id": "d6df0750-2d84-49ed-b1b5-11c7d3357c51",
   "metadata": {},
   "outputs": [],
   "source": [
    "# def get_reflect_around_zero(size):\n",
    "#     qc = QuantumCircuit(size)\n",
    "#     qc.x(0)\n",
    "#     qc.h(0)\n",
    "#     qc.mcx(control_qubits=[k for k in range(1,size)],ctrl_state=\"0\"*(size-1),target_qubit=[0])\n",
    "#     qc.h(0)\n",
    "#     qc.x(0)\n",
    "\n",
    "#     return qc\n",
    "\n",
    "# def get_cir_be(qc, data, block):\n",
    "#     qc.h(block[0])\n",
    "#     qc.h(block[2])\n",
    "#     qc.append(DraperQFTAdderConstant(num_state_qubits=len(data)+1,\n",
    "#                                      constant=2).control(1, ctrl_state=0).to_instruction(),[block[0]]+data[:]+[block[1]])\n",
    "#     qc.append(DraperQFTAdderConstant(num_state_qubits=len(data)+1,\n",
    "#                                      constant=-1+2**(len(data)+1)).to_instruction(),data[:]+[block[1]])\n",
    "\n",
    "#     qc.append(get_reflect_around_zero(len(data)).control(1, ctrl_state=0).to_instruction(),[block[2]]+data[:])\n",
    "#     qc.h(block[0])\n",
    "#     qc.h(block[2])\n",
    "#     return qc\n",
    "\n",
    "\n",
    "# def apply_projector_controlled_phase(qc, phase, block_reg, aux_reg):\n",
    "#     qc.append(XGate().control(len(block_reg),ctrl_state=0),\n",
    "#                                          block_reg[:] + aux_reg[:]\n",
    "#                                          )\n",
    "#     qc.rz(phase, aux_reg)\n",
    "\n",
    "#     qc.append(XGate().control(len(block_reg),ctrl_state=0),\n",
    "#                                          block_reg[:] + aux_reg[:]\n",
    "#                                          )\n",
    "\n",
    "\n",
    "# def apply_qsvt_step(qc, phase1, phase2, u, data, block, qsvt_aux):\n",
    "\n",
    "#     qc.append(u, data[:] + block[:])\n",
    "#     apply_projector_controlled_phase(qc, phase1, block, qsvt_aux)\n",
    "#     qc.append(u.inverse(), data[:] + block[:])\n",
    "#     apply_projector_controlled_phase(qc, phase2, block, qsvt_aux)\n",
    "\n",
    "\n",
    "# def get_qsvt_circuit(qsvt_phases,\n",
    "#             size):\n",
    "#     block = QuantumRegister(3, 'block')\n",
    "#     data = QuantumRegister(size, 'data')\n",
    "#     qsvt_aux = QuantumRegister(1, 'qsvt_aux')\n",
    "#     cir_be = QuantumCircuit(data,block)\n",
    "#     cir_be = get_cir_be(cir_be,data, block)\n",
    "\n",
    "#     qsvt_cir = QuantumCircuit(data, block, qsvt_aux)\n",
    "#     qsvt_cir.h(qsvt_aux)\n",
    "#     apply_projector_controlled_phase(qsvt_cir, qsvt_phases[0], block, qsvt_aux)\n",
    "#     for i in range(int(np.floor((len(qsvt_phases) - 1) / 2))):\n",
    "#         apply_qsvt_step(qsvt_cir,\n",
    "#                         qsvt_phases[(2 * i) + 1], qsvt_phases[(2 * i) + 2],\n",
    "#                         cir_be,\n",
    "#                         data,\n",
    "#                         block,\n",
    "#                         qsvt_aux\n",
    "#                        )\n",
    "#     qsvt_cir.append(cir_be, data[:] + block[:])\n",
    "#     apply_projector_controlled_phase(qsvt_cir, qsvt_phases[len(qsvt_phases) - 1], block, qsvt_aux)\n",
    "#     qsvt_cir.h(qsvt_aux)\n",
    "\n",
    "#     return qsvt_cir"
   ]
  },
  {
   "cell_type": "markdown",
   "id": "f45ced37-ae3b-4f90-bf24-fadc099c8599",
   "metadata": {},
   "source": [
    "## run an example"
   ]
  },
  {
   "cell_type": "code",
   "execution_count": 6,
   "id": "3ad0b5cf-ed64-4d51-9d83-3bae7eb13d77",
   "metadata": {},
   "outputs": [],
   "source": [
    "# SIZE = 6\n",
    "# DEGREE = 3\n",
    "# QSVT_PHASES = [1.280311896404252, 8.127145628464149, 1.8439603212845617, -5.002873410775335]\n",
    "\n",
    "# start_time = time.time()\n",
    "# qc_qsvt = get_qsvt_circuit(QSVT_PHASES, SIZE)\n",
    "# transpiled_cir = transpile(\n",
    "#             qc_qsvt,\n",
    "#             basis_gates=BASIS_GATES,\n",
    "#             optimization_level=OPT_LEVEL,\n",
    "#     )\n",
    "# transpilation_time = time.time()-start_time\n",
    "# depth = transpiled_cir.depth()\n",
    "# cx_counts = transpiled_cir.count_ops()[\"cx\"]\n",
    "# width = transpiled_cir.width()\n",
    "\n",
    "# print(f\"==== qiskit for {SIZE}==== time: {transpilation_time}\")"
   ]
  },
  {
   "cell_type": "code",
   "execution_count": null,
   "id": "7f6e49f2-00a9-48c6-8c14-a2b1208a213d",
   "metadata": {},
   "outputs": [],
   "source": []
  }
 ],
 "metadata": {
  "kernelspec": {
   "display_name": "Python 3 (ipykernel)",
   "language": "python",
   "name": "python3"
  },
  "language_info": {
   "codemirror_mode": {
    "name": "ipython",
    "version": 3
   },
   "file_extension": ".py",
   "mimetype": "text/x-python",
   "name": "python",
   "nbconvert_exporter": "python",
   "pygments_lexer": "ipython3",
   "version": "3.11.9"
  }
 },
 "nbformat": 4,
 "nbformat_minor": 5
}
