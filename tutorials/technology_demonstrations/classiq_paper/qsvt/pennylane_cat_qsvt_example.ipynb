{
 "cells": [
  {
   "cell_type": "markdown",
   "id": "fa77f7d8-295d-4ae8-99a9-60e33a9e0ccb",
   "metadata": {},
   "source": [
    "# PennyLane code for QSVT example"
   ]
  },
  {
   "cell_type": "markdown",
   "id": "84c7f1f0-df91-46df-9853-3bad194c743e",
   "metadata": {},
   "source": [
    "This notebook shows how to generate data for QSVT example using `pennylane` 0.39.0 and `pennylane-catalyst` 0.9.0."
   ]
  },
  {
   "cell_type": "code",
   "execution_count": 3,
   "id": "acaaf57c-cc5e-4d9a-9465-ab7f3e979bb0",
   "metadata": {},
   "outputs": [],
   "source": [
    "# import time\n",
    "# import pennylane as qml\n",
    "# from catalyst import qjit\n",
    "# from pennylane import numpy as np\n",
    "\n",
    "\n",
    "# def reflect_around_zero(data):\n",
    "#     \"\"\"Implements the reflection around zero operator.\"\"\"\n",
    "#     def circuit(data):\n",
    "#         qml.PauliX(wires=data[0])\n",
    "#         qml.Hadamard(wires=data[0])\n",
    "#         qml.ctrl(qml.PauliX, control=data[1:len(data)], control_values=[0]*(len(data)-1))(wires=data[0])\n",
    "#         qml.Hadamard(wires=data[0])\n",
    "#         qml.PauliX(wires=data[0])\n",
    "#     return circuit\n",
    "\n",
    "# def get_cir_be(data, block):\n",
    "#     \"\"\"Constructs the controlled block-encoding circuit.\"\"\"\n",
    "#     def circuit():\n",
    "#         qml.Hadamard(wires=block[0])\n",
    "#         qml.Hadamard(wires=block[2])\n",
    "#         qml.ctrl(qml.Adder,control=block[0], control_values=1)(2, data+[block[1]], 2**(len(data)+1), work_wires=[])\n",
    "#         qml.Adder(2**(len(data)+1)-1, data+[block[1]], 2**(len(data)+1), work_wires=[])\n",
    "#         qml.ctrl(reflect_around_zero(data), control=block[2])(data)\n",
    "#         qml.Hadamard(wires=block[0])\n",
    "#         qml.Hadamard(wires=block[2])\n",
    "#     return circuit\n",
    "\n",
    "# def apply_projector_controlled_phase(phase, block_reg, aux_reg):\n",
    "#     def circuit():\n",
    "#         qml.ctrl(qml.PauliX, control=block_reg, control_values=[0]*len(block_reg))(wires=aux_reg)\n",
    "#         qml.RZ(phase, wires=aux_reg)\n",
    "#         qml.ctrl(qml.PauliX, control=block_reg, control_values=[0]*len(block_reg))(wires=aux_reg)\n",
    "#     return circuit\n",
    "\n",
    "# def apply_qsvt_step(phase1, phase2, u, data, block, qsvt_aux):\n",
    "#     def circuit():\n",
    "#         u()\n",
    "#         apply_projector_controlled_phase(phase1, block, qsvt_aux)()\n",
    "#         qml.adjoint(u)()\n",
    "#         apply_projector_controlled_phase(phase2, block, qsvt_aux)()\n",
    "#     return circuit\n",
    "\n",
    "# def get_qsvt_circuit(qsvt_phases, size):\n",
    "#     dev = qml.device(\"lightning.qubit\", wires=size + 3)\n",
    "\n",
    "#     @qml.qnode(dev)\n",
    "#     def qsvt_circuit():\n",
    "#         block = [size, size+1, size+2]\n",
    "#         qsvt_aux = size + 3\n",
    "#         data = list(range(size))\n",
    "\n",
    "#         cir_be = get_cir_be(data, block)\n",
    "#         qml.Hadamard(wires=qsvt_aux)\n",
    "#         apply_projector_controlled_phase(qsvt_phases[0], block, qsvt_aux)()\n",
    "#         for i in range((len(qsvt_phases) - 1) // 2):\n",
    "#             apply_qsvt_step(qsvt_phases[2 * i + 1],  qsvt_phases[2 * i + 2], cir_be , data, block, qsvt_aux)()\n",
    "\n",
    "#         cir_be()\n",
    "#         apply_projector_controlled_phase(qsvt_phases[-1], block, qsvt_aux)()\n",
    "#         qml.Hadamard(wires=qsvt_aux)\n",
    "\n",
    "#     return qsvt_circuit"
   ]
  },
  {
   "cell_type": "markdown",
   "id": "e7c9ca72-4d20-4c49-ae2f-95c2353f5f35",
   "metadata": {},
   "source": [
    "## run an example"
   ]
  },
  {
   "cell_type": "code",
   "execution_count": 4,
   "id": "2f04231d-aa83-40d0-80d2-c39116528933",
   "metadata": {},
   "outputs": [],
   "source": [
    "# SIZE = 6\n",
    "# DEGREE = 3\n",
    "# QSVT_PHASES = [1.280311896404252, 8.127145628464149, 1.8439603212845617, -5.002873410775335]\n",
    "\n",
    "\n",
    "# start_time = time.time()\n",
    "# qsvt_cir = get_qsvt_circuit(QSVT_PHASES, SIZE)\n",
    "# cir = qml.transforms.decompose(qsvt_cir, gate_set={qml.CNOT, qml.RZ, qml.RY, qml.RX})\n",
    "# jitted_cir = qjit(cir)\n",
    "# transpilation_time = time.time()-start_time\n",
    "# cx_counts = jitted_cir.mlir.count(\"CNOT\")\n",
    "# print(f\"==== pennylane for {SIZE}==== time: {transpilation_time}\")"
   ]
  },
  {
   "cell_type": "code",
   "execution_count": null,
   "id": "b9ce9f97-168d-4b4e-9ad5-e06b26ce4445",
   "metadata": {},
   "outputs": [],
   "source": []
  }
 ],
 "metadata": {
  "kernelspec": {
   "display_name": "Python 3 (ipykernel)",
   "language": "python",
   "name": "python3"
  },
  "language_info": {
   "codemirror_mode": {
    "name": "ipython",
    "version": 3
   },
   "file_extension": ".py",
   "mimetype": "text/x-python",
   "name": "python",
   "nbconvert_exporter": "python",
   "pygments_lexer": "ipython3",
   "version": "3.11.9"
  }
 },
 "nbformat": 4,
 "nbformat_minor": 5
}
