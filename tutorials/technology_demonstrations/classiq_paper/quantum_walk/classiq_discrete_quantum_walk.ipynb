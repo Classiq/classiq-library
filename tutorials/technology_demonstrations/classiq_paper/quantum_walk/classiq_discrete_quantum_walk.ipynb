{
 "cells": [
  {
   "cell_type": "markdown",
   "id": "0",
   "metadata": {},
   "source": [
    "# Classiq code for discrete quantum walk"
   ]
  },
  {
   "cell_type": "markdown",
   "id": "1",
   "metadata": {},
   "source": [
    "This notebook shows how to generate data for discrete quantum walk using `classiq`."
   ]
  },
  {
   "cell_type": "code",
   "execution_count": 1,
   "id": "2",
   "metadata": {},
   "outputs": [],
   "source": [
    "import time\n",
    "\n",
    "from classiq import *\n",
    "\n",
    "SIZE = 6\n",
    "MAX_WIDTH = 40\n",
    "constraints = Constraints(optimization_parameter=\"cx\", max_width=MAX_WIDTH)"
   ]
  },
  {
   "cell_type": "code",
   "execution_count": 2,
   "id": "3",
   "metadata": {},
   "outputs": [],
   "source": [
    "# define increment circuit as an MCX cascade\n",
    "@qfunc\n",
    "def increment(x: QArray):\n",
    "    repeat(\n",
    "        x.len - 1, lambda i: control(x[0 : x.len - 1 - i], lambda: X(x[x.len - 1 - i]))\n",
    "    )\n",
    "    X(x[0])\n",
    "\n",
    "\n",
    "@qfunc\n",
    "def single_step_walk(\n",
    "    coin: QBit,  # coin\n",
    "    x: QNum,  # position\n",
    "):\n",
    "    H(coin)\n",
    "    control(coin == 0, lambda: increment(x), lambda: invert(lambda: increment(x))),"
   ]
  },
  {
   "cell_type": "code",
   "execution_count": 3,
   "id": "4",
   "metadata": {},
   "outputs": [],
   "source": [
    "from classiq import CustomHardwareSettings, Preferences\n",
    "\n",
    "preferences = Preferences(\n",
    "    custom_hardware_settings=CustomHardwareSettings(basis_gates=[\"cx\", \"u\"]),\n",
    "    transpilation_option=\"custom\",\n",
    "    debug_mode=False,\n",
    ")"
   ]
  },
  {
   "cell_type": "markdown",
   "id": "5",
   "metadata": {},
   "source": [
    "## Example for getting a data point"
   ]
  },
  {
   "cell_type": "code",
   "execution_count": 4,
   "id": "6",
   "metadata": {},
   "outputs": [
    {
     "name": "stdout",
     "output_type": "stream",
     "text": [
      "==== classiq for 6==== time 16.50112295150757\n"
     ]
    }
   ],
   "source": [
    "start_time = time.time()\n",
    "\n",
    "\n",
    "@qfunc\n",
    "def main(x: Output[QNum[SIZE, UNSIGNED, 0]]):\n",
    "    allocate(x)\n",
    "    coin = QBit()\n",
    "    allocate(coin)\n",
    "    single_step_walk(coin, x)\n",
    "\n",
    "\n",
    "write_qmod(main, \"quantum_walk_classiq\")\n",
    "qprog = synthesize(main, constraints=constraints, preferences=preferences)\n",
    "compilation_time = time.time() - start_time\n",
    "\n",
    "width = qprog.data.width\n",
    "depth = qprog.transpiled_circuit.depth\n",
    "cx_counts = qprog.transpiled_circuit.count_ops[\"cx\"]\n",
    "\n",
    "print(f\"==== classiq for {SIZE}==== time {compilation_time}\")"
   ]
  }
 ],
 "metadata": {
  "kernelspec": {
   "display_name": "Python 3 (ipykernel)",
   "language": "python",
   "name": "python3"
  },
  "language_info": {
   "codemirror_mode": {
    "name": "ipython",
    "version": 3
   },
   "file_extension": ".py",
   "mimetype": "text/x-python",
   "name": "python",
   "nbconvert_exporter": "python",
   "pygments_lexer": "ipython3",
   "version": "3.11.9"
  }
 },
 "nbformat": 4,
 "nbformat_minor": 9
}
