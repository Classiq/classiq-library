{
 "cells": [
  {
   "cell_type": "markdown",
   "id": "6d913177-eafe-488f-a2fc-8ccedf0f4be1",
   "metadata": {},
   "source": [
    "# Classiq code for discrete quantum walk"
   ]
  },
  {
   "cell_type": "markdown",
   "id": "af0afde2-d59c-4186-a34f-142a5265f095",
   "metadata": {},
   "source": [
    "This notebook shows how to generate data for discrete quantum walk using `classiq`."
   ]
  },
  {
   "cell_type": "code",
   "execution_count": 1,
   "id": "02139d21-3b20-4ef9-a00f-d017f1e03b88",
   "metadata": {
    "ExecuteTime": {
     "end_time": "2025-05-07T21:07:13.365417Z",
     "start_time": "2025-05-07T21:07:11.046958Z"
    }
   },
   "outputs": [],
   "source": [
    "import time\n",
    "\n",
    "from classiq import *\n",
    "\n",
    "SIZE = 6\n",
    "MAX_WIDTH = 40\n",
    "constraints = Constraints(optimization_parameter=\"cx\", max_width=MAX_WIDTH)"
   ]
  },
  {
   "cell_type": "code",
   "execution_count": 2,
   "id": "49791668-1241-4781-8edc-124269a1f4bf",
   "metadata": {
    "ExecuteTime": {
     "end_time": "2025-05-07T21:07:13.368102Z",
     "start_time": "2025-05-07T21:07:13.367004Z"
    }
   },
   "outputs": [],
   "source": [
    "# mcx from control on X\n",
    "\n",
    "\n",
    "@qfunc\n",
    "def my_mcx(x: QNum, y: QBit):\n",
    "    control(x == 2**x.size - 1, lambda: X(y))\n",
    "\n",
    "\n",
    "# define increment circuit as an MCX cascade\n",
    "@qfunc\n",
    "def increment(x: QArray[QBit]):\n",
    "    repeat(x.len - 1, lambda i: my_mcx(x[0 : x.len - 1 - i], x[x.len - 1 - i]))\n",
    "    X(x[0])\n",
    "\n",
    "\n",
    "@qfunc\n",
    "def single_step_walk(\n",
    "    x: QNum,  # position\n",
    "):\n",
    "    coin = QBit()\n",
    "    allocate(coin)\n",
    "    H(coin)\n",
    "    control(coin == 0, lambda: increment(x), lambda: invert(lambda: increment(x))),"
   ]
  },
  {
   "cell_type": "code",
   "execution_count": 3,
   "id": "10c1fca5-0b5a-4c0a-ae6e-29bbc9d6841d",
   "metadata": {
    "ExecuteTime": {
     "end_time": "2025-05-07T21:07:13.370585Z",
     "start_time": "2025-05-07T21:07:13.369178Z"
    }
   },
   "outputs": [],
   "source": [
    "from classiq import CustomHardwareSettings, Preferences\n",
    "\n",
    "preferences = Preferences(\n",
    "    custom_hardware_settings=CustomHardwareSettings(basis_gates=[\"cx\", \"u\"]),\n",
    "    transpilation_option=\"custom\",\n",
    "    debug_mode=False,\n",
    ")"
   ]
  },
  {
   "cell_type": "markdown",
   "id": "fa293f48-1aff-4467-a825-40989b359aa8",
   "metadata": {},
   "source": [
    "## Example for getting a data point"
   ]
  },
  {
   "cell_type": "code",
   "execution_count": 5,
   "id": "06cd0f3e-911b-45a3-88d9-d090260577c3",
   "metadata": {
    "ExecuteTime": {
     "end_time": "2025-05-07T21:07:29.197147Z",
     "start_time": "2025-05-07T21:07:13.373210Z"
    }
   },
   "outputs": [
    {
     "name": "stdout",
     "output_type": "stream",
     "text": [
      "==== classiq for 6==== time 15.563591003417969\n"
     ]
    }
   ],
   "source": [
    "start_time = time.time()\n",
    "\n",
    "\n",
    "@qfunc\n",
    "def main(x: Output[QNum[SIZE, UNSIGNED, 0]]):\n",
    "    allocate(x)\n",
    "    single_step_walk(x)\n",
    "\n",
    "\n",
    "qmod = create_model(main, constraints=constraints, preferences=preferences)\n",
    "\n",
    "write_qmod(qmod, \"quantum_walk_classiq\")\n",
    "qprog = synthesize(qmod)\n",
    "compilation_time = time.time() - start_time\n",
    "\n",
    "width = qprog.data.width\n",
    "depth = qprog.transpiled_circuit.depth\n",
    "cx_counts = qprog.transpiled_circuit.count_ops[\"cx\"]\n",
    "\n",
    "print(f\"==== classiq for {SIZE}==== time {compilation_time}\")"
   ]
  },
  {
   "cell_type": "code",
   "execution_count": null,
   "id": "b9a602dd-2461-4821-bb76-d1c214c3c12a",
   "metadata": {},
   "outputs": [],
   "source": []
  }
 ],
 "metadata": {
  "kernelspec": {
   "display_name": "Python 3 (ipykernel)",
   "language": "python",
   "name": "python3"
  },
  "language_info": {
   "codemirror_mode": {
    "name": "ipython",
    "version": 3
   },
   "file_extension": ".py",
   "mimetype": "text/x-python",
   "name": "python",
   "nbconvert_exporter": "python",
   "pygments_lexer": "ipython3",
   "version": "3.11.9"
  }
 },
 "nbformat": 4,
 "nbformat_minor": 5
}
