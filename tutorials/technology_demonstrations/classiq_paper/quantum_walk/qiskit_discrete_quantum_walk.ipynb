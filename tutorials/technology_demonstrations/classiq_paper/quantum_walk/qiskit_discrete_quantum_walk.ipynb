{
 "cells": [
  {
   "cell_type": "markdown",
   "id": "6d913177-eafe-488f-a2fc-8ccedf0f4be1",
   "metadata": {},
   "source": [
    "# Qiskit code for discrete quantum walk"
   ]
  },
  {
   "cell_type": "markdown",
   "id": "af0afde2-d59c-4186-a34f-142a5265f095",
   "metadata": {},
   "source": [
    "This notebook shows how to generate data for discrete quantum walk using `qiskit` 1.2.4."
   ]
  },
  {
   "cell_type": "code",
   "execution_count": 2,
   "id": "caa0c6de-6d49-4f20-834d-590eabc7e2ff",
   "metadata": {},
   "outputs": [],
   "source": [
    "# import time\n",
    "# from qiskit import QuantumCircuit, QuantumRegister, transpile\n",
    "# from qiskit.circuit.library.standard_gates import XGate\n",
    "\n",
    "# BASIS_GATES = [\"u\", \"cx\"]\n",
    "# OPT_LEVEL = 3\n",
    "# SIZE = 6\n",
    "\n",
    "# # mcx from control on X\n",
    "# def mcx_gate(num_ctrl_qubits):\n",
    "#     my_mcx_gate = XGate().control(num_ctrl_qubits)\n",
    "#     return my_mcx_gate\n",
    "\n",
    "# # get increment circuit as an MCX cascade\n",
    "# def get_increment_circuit(num_qubits):\n",
    "#     increment_circuit= QuantumCircuit(num_qubits)\n",
    "#     for j in range(num_qubits - 1):\n",
    "#         increment_circuit.append(mcx_gate(num_qubits-1-j),[k for k in range(num_qubits-j)])\n",
    "#     increment_circuit.x(0)\n",
    "\n",
    "#     return increment_circuit\n",
    "\n",
    "# # run an example\n",
    "# start_time = time.time()\n",
    "# q_walk_step = QuantumCircuit(SIZE+1)\n",
    "# q_walk_step.h(0)\n",
    "# q_walk_step.append(get_increment_circuit(SIZE).control(1, ctrl_state=1),\n",
    "#                         [k for k in range(SIZE+1)])\n",
    "# q_walk_step.append(get_increment_circuit(SIZE).inverse().control(1, ctrl_state=0),\n",
    "#                         [k for k in range(SIZE+1)])\n",
    "# transpiled_cir = transpile(\n",
    "#             q_walk_step,\n",
    "#             basis_gates=BASIS_GATES,\n",
    "#             optimization_level=OPT_LEVEL,\n",
    "#     )\n",
    "# transpilation_time = time.time()-start_time\n",
    "# depth = transpiled_cir.depth()\n",
    "# cx_counts = transpiled_cir.count_ops()[\"cx\"]\n",
    "# width = transpiled_cir.width()\n",
    "\n",
    "# print(f\"==== qiskit for {SIZE}==== time: {transpilation_time}\")"
   ]
  },
  {
   "cell_type": "code",
   "execution_count": null,
   "id": "63a35645-cdfd-4cce-b53f-8528e205bd5a",
   "metadata": {},
   "outputs": [],
   "source": []
  }
 ],
 "metadata": {
  "kernelspec": {
   "display_name": "Python 3 (ipykernel)",
   "language": "python",
   "name": "python3"
  },
  "language_info": {
   "codemirror_mode": {
    "name": "ipython",
    "version": 3
   },
   "file_extension": ".py",
   "mimetype": "text/x-python",
   "name": "python",
   "nbconvert_exporter": "python",
   "pygments_lexer": "ipython3",
   "version": "3.11.9"
  }
 },
 "nbformat": 4,
 "nbformat_minor": 5
}
