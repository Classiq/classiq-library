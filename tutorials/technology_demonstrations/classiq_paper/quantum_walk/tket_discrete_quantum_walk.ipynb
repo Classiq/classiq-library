{
 "cells": [
  {
   "cell_type": "markdown",
   "id": "6d913177-eafe-488f-a2fc-8ccedf0f4be1",
   "metadata": {},
   "source": [
    "# PyTket code for discrete quantum walk"
   ]
  },
  {
   "cell_type": "markdown",
   "id": "af0afde2-d59c-4186-a34f-142a5265f095",
   "metadata": {},
   "source": [
    "This notebook shows how to generate data for discrete quantum walk using `pytket` 1.34.0"
   ]
  },
  {
   "cell_type": "code",
   "execution_count": 3,
   "id": "cd89e967-b922-4958-bdbf-b8ce33e8e5c5",
   "metadata": {},
   "outputs": [],
   "source": [
    "# import time\n",
    "# from pytket.circuit import Circuit, CircBox, OpType, QControlBox\n",
    "# from pytket.extensions.qiskit import AerBackend\n",
    "# from pytket.passes import DecomposeBoxes, SynthesiseTket"
   ]
  },
  {
   "cell_type": "code",
   "execution_count": 4,
   "id": "bea543db-6cb1-4b1a-b911-eab77ceaf8d2",
   "metadata": {},
   "outputs": [],
   "source": [
    "# SIZE = 6\n",
    "# backend = AerBackend()\n",
    "\n",
    "# # mcx from control on X\n",
    "# def mcx_gate(num_ctrl_qubits):\n",
    "#     my_mcx_gate = QControlBox(CircBox(Circuit(1).X(0)), num_ctrl_qubits)\n",
    "#     return my_mcx_gate\n",
    "\n",
    "# # get increment circuit as an MCX cascade\n",
    "# def get_increment_circuit(num_qubits):\n",
    "#     increment_circuit = Circuit(num_qubits)\n",
    "#     for j in range(num_qubits - 1):\n",
    "#         increment_circuit.add_gate(mcx_gate(num_qubits-1-j),[k for k in range(num_qubits-j)])\n",
    "#     increment_circuit.X(0)\n",
    "\n",
    "#     return increment_circuit\n",
    "\n",
    "# # run an example\n",
    "# start_time = time.time()\n",
    "# q_walk_step = Circuit(SIZE+1)\n",
    "# q_walk_step.H(0)\n",
    "# q_walk_step.add_gate(QControlBox(CircBox(get_increment_circuit(SIZE))),\n",
    "#     [k for k in range(SIZE+1)])\n",
    "# q_walk_step.add_gate(QControlBox(CircBox(get_increment_circuit(SIZE)).dagger,n_controls=1,\n",
    "# control_state=[0]),[k for k in range(SIZE+1)])\n",
    "\n",
    "# DecomposeBoxes().apply(q_walk_step)\n",
    "# SynthesiseTket().apply(q_walk_step)\n",
    "# compiled_circ = backend.get_compiled_circuit(q_walk_step)\n",
    "# transpilation_time = time.time()-start_time\n",
    "# depth = compiled_circ.depth()\n",
    "# cx_counts = compiled_circ.n_gates_of_type(OpType.CX)\n",
    "# width = compiled_circ.n_qubits\n",
    "\n",
    "# print(f'==== tket for {SIZE}==== time {transpilation_time}')"
   ]
  },
  {
   "cell_type": "code",
   "execution_count": null,
   "id": "2abd9143-b0a5-40ad-922e-9db98fa398e7",
   "metadata": {},
   "outputs": [],
   "source": []
  }
 ],
 "metadata": {
  "kernelspec": {
   "display_name": "Python 3 (ipykernel)",
   "language": "python",
   "name": "python3"
  },
  "language_info": {
   "codemirror_mode": {
    "name": "ipython",
    "version": 3
   },
   "file_extension": ".py",
   "mimetype": "text/x-python",
   "name": "python",
   "nbconvert_exporter": "python",
   "pygments_lexer": "ipython3",
   "version": "3.11.9"
  }
 },
 "nbformat": 4,
 "nbformat_minor": 5
}
