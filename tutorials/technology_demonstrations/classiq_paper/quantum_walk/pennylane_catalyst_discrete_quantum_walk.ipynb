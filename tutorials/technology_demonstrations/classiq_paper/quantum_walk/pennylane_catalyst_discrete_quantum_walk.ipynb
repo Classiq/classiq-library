{
 "cells": [
  {
   "cell_type": "markdown",
   "id": "6d913177-eafe-488f-a2fc-8ccedf0f4be1",
   "metadata": {},
   "source": [
    "# PennyLane code for discrete quantum walk"
   ]
  },
  {
   "cell_type": "markdown",
   "id": "af0afde2-d59c-4186-a34f-142a5265f095",
   "metadata": {},
   "source": [
    "This notebook shows how to generate data for discrete quantum walk using `pennylane` 0.39.0 and `pennylane-catalyst` 0.9.0"
   ]
  },
  {
   "cell_type": "code",
   "execution_count": 3,
   "id": "02139d21-3b20-4ef9-a00f-d017f1e03b88",
   "metadata": {},
   "outputs": [],
   "source": [
    "# import time\n",
    "# import pennylane as qml\n",
    "# from catalyst import qjit"
   ]
  },
  {
   "cell_type": "code",
   "execution_count": 4,
   "id": "849e5fdb-af1c-4ea9-a8e3-33b6b3add2aa",
   "metadata": {},
   "outputs": [],
   "source": [
    "# import time\n",
    "# import pennylane as qml\n",
    "# from catalyst import qjit\n",
    "\n",
    "# # run an example\n",
    "# SIZE = 6\n",
    "# start_time = time.time()\n",
    "\n",
    "# s = SIZE\n",
    "# wires_x = list(range(s))\n",
    "# coin = [s]\n",
    "\n",
    "# def shift_op():\n",
    "#     for index in range(len(wires_x)-1, 0, -1):\n",
    "#         control_values = [1] * index\n",
    "#         qml.ctrl(qml.PauliX, control=wires_x[:index], control_values=control_values)(wires=wires_x[index])\n",
    "#         qml.PauliX(wires_x[0])\n",
    "\n",
    "\n",
    "# @qml.qnode(qml.device(\"lightning.qubit\", wires=(wires_x + coin)))\n",
    "# def circuit():\n",
    "#     qml.H(coin)\n",
    "#     qml.ctrl(shift_op, control=coin)()\n",
    "#     qml.ctrl(qml.adjoint(shift_op), control=coin, control_values=[0])()\n",
    "#     return qml.probs(wires=wires_x)\n",
    "\n",
    "# cir = qml.transforms.decompose(circuit, gate_set={qml.CNOT, qml.RZ, qml.RY, qml.RX})\n",
    "# jitted_cir = qjit(cir)\n",
    "# transpilation_time = time.time()-start_time\n",
    "# cx_counts = jitted_cir.mlir.count(\"CNOT\")\n",
    "\n",
    "# print(f\"==== pennylane for {SIZE}==== time: {transpilation_time}\")"
   ]
  },
  {
   "cell_type": "code",
   "execution_count": null,
   "id": "690886a1-c011-471f-9e88-856e788f7574",
   "metadata": {},
   "outputs": [],
   "source": []
  }
 ],
 "metadata": {
  "kernelspec": {
   "display_name": "Python 3 (ipykernel)",
   "language": "python",
   "name": "python3"
  },
  "language_info": {
   "codemirror_mode": {
    "name": "ipython",
    "version": 3
   },
   "file_extension": ".py",
   "mimetype": "text/x-python",
   "name": "python",
   "nbconvert_exporter": "python",
   "pygments_lexer": "ipython3",
   "version": "3.11.9"
  }
 },
 "nbformat": 4,
 "nbformat_minor": 5
}
