{
 "cells": [
  {
   "cell_type": "markdown",
   "id": "6a3b75db-2a98-4777-beaa-c6e45329e74a",
   "metadata": {},
   "source": [
    "# Oracle generation for 3-SAT problems"
   ]
  },
  {
   "cell_type": "markdown",
   "id": "e1cbc658-28e8-4dbf-b6e2-b75fa4202594",
   "metadata": {},
   "source": [
    "This notebook demonstrates Classiq's capabilities in the framework of phase oracles. The focus is 3-SAT problems on a growing number of variables. To highlight the advantage of generation times, we skip transpilation for the synthesis output."
   ]
  },
  {
   "cell_type": "markdown",
   "id": "4f1e9b60-25ae-48d8-ae4e-7ed4d33099da",
   "metadata": {},
   "source": [
    "The following utility functions generate random 3-SAT problems for $N$ boolean variables, consisting of $N$ clauses."
   ]
  },
  {
   "cell_type": "code",
   "execution_count": 1,
   "id": "c621f5a7-e523-419c-a15e-b029bb37dc1e",
   "metadata": {
    "ExecuteTime": {
     "end_time": "2025-04-08T20:41:25.276389Z",
     "start_time": "2025-04-08T20:41:23.009662Z"
    }
   },
   "outputs": [],
   "source": [
    "import numpy as np\n",
    "\n",
    "from classiq.qmod.symbolic import logical_and, logical_not, logical_or\n",
    "\n",
    "\n",
    "def generate_permutation_for_3sat_expression(num_qubits, max_samples=1000):\n",
    "    \"\"\"\n",
    "    A function that generates two permutations on a list of num_qubits variables,\n",
    "    for introducing a random and valid 3-SAT problem\n",
    "    \"\"\"\n",
    "\n",
    "    direct_arr = np.array([k for k in range(num_qubits)])\n",
    "    for k in range(max_samples):\n",
    "        permut1 = np.random.permutation(num_qubits)\n",
    "        permut2 = np.random.permutation(num_qubits)\n",
    "        if (\n",
    "            (0 not in permut2 - direct_arr)\n",
    "            and (0 not in permut1 - direct_arr)\n",
    "            and (0 not in permut1 - permut2)\n",
    "        ):\n",
    "            break\n",
    "\n",
    "    assert (\n",
    "        k < max_samples\n",
    "    ), \"Could not find a random 3-SAT problem, try to increase max_samples\"\n",
    "    return direct_arr, permut1, permut2\n",
    "\n",
    "\n",
    "def generate_3sat_qbit_expression(vars, s0, s1, s2):\n",
    "    \"\"\"\n",
    "    A function that generates a 3-SAT problem on a list of QBit variables.\n",
    "    The returned expression contains num_qubits=len(vars) clauses and contains\n",
    "    triplets of the form (x_k or ~x_s1(k) or x_s2(k)), where s1, s2 are permutations.\n",
    "    \"\"\"\n",
    "\n",
    "    num_qubits = len(vars)\n",
    "    k = 0\n",
    "    y = logical_or(logical_or(vars[s0[k]], logical_not(vars[s1[k]])), vars[s2[k]])\n",
    "    for k in range(1, num_qubits):\n",
    "        temp = logical_or(\n",
    "            logical_or(vars[s0[k]], logical_not(vars[s1[k]])), vars[s2[k]]\n",
    "        )\n",
    "        y = logical_and(y, temp)\n",
    "    return y"
   ]
  },
  {
   "cell_type": "markdown",
   "id": "9f70e5ac-adf7-480b-a635-e21d2cf70cf4",
   "metadata": {},
   "source": [
    "## 1. Generating Phase Oracles"
   ]
  },
  {
   "cell_type": "markdown",
   "id": "817f5bd4-5a60-4da6-ae9e-5ef92192aa3b",
   "metadata": {},
   "source": [
    "For each 3-SAT problem we generate an oracle with Classiq and save the generation time, as well as the circuits' width. "
   ]
  },
  {
   "cell_type": "code",
   "execution_count": 2,
   "id": "1b05a367-6ce5-4289-ab5e-712ab58a28f3",
   "metadata": {
    "ExecuteTime": {
     "end_time": "2025-04-08T20:41:25.280415Z",
     "start_time": "2025-04-08T20:41:25.279174Z"
    }
   },
   "outputs": [],
   "source": [
    "from classiq import *\n",
    "\n",
    "qmods = []\n",
    "qprogs = []\n",
    "\n",
    "\n",
    "def get_generation_time_classiq(s0, s1, s2, num_qubits):\n",
    "    start_cl = time.time()\n",
    "\n",
    "    @qfunc\n",
    "    def main():\n",
    "\n",
    "        def inner_call(aux: QNum):\n",
    "            aux ^= generate_3sat_qbit_expression(\n",
    "                [dict_of_qnums[f\"x{k}\"] for k in range(num_qubits)], s0, s1, s2\n",
    "            )\n",
    "\n",
    "        dict_of_qnums = {f\"x{k}\": QNum(f\"x{k}\") for k in range(num_qubits)}\n",
    "        for k in range(num_qubits):\n",
    "            allocate(1, dict_of_qnums[f\"x{k}\"])\n",
    "        aux = QNum(\"aux\")\n",
    "        allocate(1, aux)\n",
    "        within_apply(\n",
    "            lambda: (X(aux), H(aux)),\n",
    "            lambda: inner_call(aux),\n",
    "        )\n",
    "\n",
    "    qmod = create_model(main)\n",
    "    qmod = set_preferences(qmod, preferences=Preferences(transpilation_option=\"none\"))\n",
    "    qmods.append(qmod)\n",
    "    qprog = synthesize(qmod)\n",
    "    qprogs.append(qprog)\n",
    "    cir = QuantumProgram.from_qprog(qprog)\n",
    "\n",
    "    return cir.data.width, time.time() - start_cl"
   ]
  },
  {
   "cell_type": "markdown",
   "id": "f149743e-991e-42e0-a0ab-cdbe403811d3",
   "metadata": {},
   "source": [
    "The following function generates a phase oracle with qiskit."
   ]
  },
  {
   "cell_type": "code",
   "execution_count": 3,
   "id": "ac97d11a-dea7-4733-ac6e-2bb410b03e0f",
   "metadata": {
    "ExecuteTime": {
     "end_time": "2025-04-08T20:41:25.283392Z",
     "start_time": "2025-04-08T20:41:25.282323Z"
    }
   },
   "outputs": [],
   "source": [
    "def get_generation_time_qiskit(s0, s1, s2, num_qubits):\n",
    "    start_qs = time.time()\n",
    "    dict_of_qnums = {f\"x{k}\": QNum(f\"x{k}\") for k in range(num_qubits)}\n",
    "    expression = str(\n",
    "        generate_3sat_qbit_expression(\n",
    "            [dict_of_qnums[f\"x{k}\"] for k in range(num_qubits)], s0, s1, s2\n",
    "        )\n",
    "    )\n",
    "    expression = expression.replace(\"or\", \"|\")\n",
    "    expression = expression.replace(\"not\", \"~\")\n",
    "    expression = expression.replace(\"and\", \"&\")\n",
    "    oracle = PhaseOracle(expression, var_order=None)\n",
    "    q = QuantumRegister(num_qubits)\n",
    "    qc = QuantumCircuit(q)\n",
    "    qc.append(oracle, q[:])\n",
    "\n",
    "    return time.time() - start_qs"
   ]
  },
  {
   "cell_type": "markdown",
   "id": "2605e66c-67cb-47dd-b96a-6bef3782c983",
   "metadata": {},
   "source": [
    "*For generating the same data with Qiskit please uncomment the commented lines (including the `pip install command`).* We work with qiskit version 1.0.0."
   ]
  },
  {
   "cell_type": "code",
   "execution_count": 4,
   "id": "068d534e-4c91-4d05-aad5-4c15ec155390",
   "metadata": {
    "ExecuteTime": {
     "end_time": "2025-04-08T20:41:25.513545Z",
     "start_time": "2025-04-08T20:41:25.284228Z"
    }
   },
   "outputs": [],
   "source": [
    "import time\n",
    "\n",
    "from qiskit import QuantumCircuit, QuantumRegister, transpile\n",
    "from qiskit.circuit.library import PhaseOracle"
   ]
  },
  {
   "cell_type": "markdown",
   "id": "c532edaa-0fa8-4a59-b487-dca996bcdbb5",
   "metadata": {},
   "source": [
    "We skip generating data with Qiskit for $N>23$, as generation times exponentially diverge with the number of variables.  "
   ]
  },
  {
   "cell_type": "code",
   "execution_count": 5,
   "id": "4ba6bda7-efdd-49ba-a922-7921bc19d1e4",
   "metadata": {
    "ExecuteTime": {
     "end_time": "2025-04-08T20:41:25.516801Z",
     "start_time": "2025-04-08T20:41:25.515311Z"
    }
   },
   "outputs": [],
   "source": [
    "np.random.seed(128)\n",
    "cl_times = []\n",
    "num_qubits_list = [k for k in range(10, 23)] + [\n",
    "    int(l) for l in np.logspace(np.log2(24), np.log2(68), 10, base=2)\n",
    "]"
   ]
  },
  {
   "cell_type": "code",
   "execution_count": 6,
   "id": "6a4ae795-8aa5-4458-b2d4-1df3101a0401",
   "metadata": {
    "ExecuteTime": {
     "end_time": "2025-04-08T20:41:25.518533Z",
     "start_time": "2025-04-08T20:41:25.517406Z"
    }
   },
   "outputs": [],
   "source": [
    "# from importlib.metadata import version\n",
    "# try:\n",
    "#     import qiskit\n",
    "#     if version('qiskit') != \"1.0.0\":\n",
    "#       !pip uninstall qiskit -y\n",
    "#       !pip install qiskit==1.0.0\n",
    "# except ImportError:\n",
    "#     !pip install qiskit==1.0.0\n",
    "\n",
    "# ! pip install tweedledum\n",
    "# qs_times = []"
   ]
  },
  {
   "cell_type": "code",
   "execution_count": 7,
   "id": "2ab265da-36d3-44ea-86f6-54a4cbaf3ebd",
   "metadata": {
    "ExecuteTime": {
     "end_time": "2025-04-08T20:41:50.572982Z",
     "start_time": "2025-04-08T20:41:25.520405Z"
    }
   },
   "outputs": [
    {
     "name": "stdout",
     "output_type": "stream",
     "text": [
      "num_qubits: 10\n",
      "classiq_width: 25 ,   classiq_time: 5.598961114883423\n",
      "num_qubits: 11\n",
      "classiq_width: 25 ,   classiq_time: 4.382137060165405\n",
      "num_qubits: 12\n",
      "classiq_width: 27 ,   classiq_time: 3.538400173187256\n",
      "num_qubits: 13\n",
      "classiq_width: 33 ,   classiq_time: 3.414907217025757\n",
      "num_qubits: 14\n",
      "classiq_width: 35 ,   classiq_time: 4.9529290199279785\n",
      "num_qubits: 15\n",
      "classiq_width: 34 ,   classiq_time: 4.352447032928467\n",
      "num_qubits: 16\n",
      "classiq_width: 36 ,   classiq_time: 4.4613118171691895\n",
      "num_qubits: 17\n",
      "classiq_width: 37 ,   classiq_time: 3.462131977081299\n",
      "num_qubits: 18\n",
      "classiq_width: 40 ,   classiq_time: 4.390230894088745\n",
      "num_qubits: 19\n",
      "classiq_width: 48 ,   classiq_time: 4.343130826950073\n",
      "num_qubits: 20\n",
      "classiq_width: 47 ,   classiq_time: 4.476085901260376\n",
      "num_qubits: 21\n",
      "classiq_width: 45 ,   classiq_time: 4.27609920501709\n",
      "num_qubits: 22\n",
      "classiq_width: 53 ,   classiq_time: 4.421467065811157\n",
      "num_qubits: 24\n",
      "classiq_width: 55 ,   classiq_time: 5.765365123748779\n",
      "num_qubits: 26\n",
      "classiq_width: 64 ,   classiq_time: 4.636790990829468\n",
      "num_qubits: 30\n",
      "classiq_width: 72 ,   classiq_time: 5.937633037567139\n",
      "num_qubits: 33\n",
      "classiq_width: 70 ,   classiq_time: 5.995665073394775\n",
      "num_qubits: 38\n",
      "classiq_width: 82 ,   classiq_time: 5.880221843719482\n",
      "num_qubits: 42\n",
      "classiq_width: 101 ,   classiq_time: 8.07465410232544\n",
      "num_qubits: 48\n",
      "classiq_width: 110 ,   classiq_time: 7.8774120807647705\n",
      "num_qubits: 53\n",
      "classiq_width: 118 ,   classiq_time: 8.30559492111206\n",
      "num_qubits: 60\n",
      "classiq_width: 136 ,   classiq_time: 10.575138092041016\n",
      "num_qubits: 67\n",
      "classiq_width: 137 ,   classiq_time: 10.804642915725708\n"
     ]
    }
   ],
   "source": [
    "for l in num_qubits_list:\n",
    "    num_qubits = l\n",
    "    print(\"num_qubits:\", num_qubits)\n",
    "    s0, s1, s2 = generate_permutation_for_3sat_expression(num_qubits)\n",
    "\n",
    "    cl_width, classiq_generation_time = get_generation_time_classiq(\n",
    "        s0, s1, s2, num_qubits\n",
    "    )\n",
    "    cl_times.append(classiq_generation_time)\n",
    "    print(\"classiq_width:\", cl_width, \",   classiq_time:\", classiq_generation_time)\n",
    "\n",
    "    # if l<23:\n",
    "    #     qiskit_generation_time = get_generation_time_qiskit(s0, s1, s2, num_qubits)\n",
    "    #     qs_times.append(qiskit_generation_time)\n",
    "    #     print(\"qiskit_time:\", qiskit_generation_time)"
   ]
  },
  {
   "cell_type": "markdown",
   "id": "7989178b-c5e2-459e-aa14-6706e71d3929",
   "metadata": {},
   "source": [
    "## 2. Plotting the Data"
   ]
  },
  {
   "cell_type": "markdown",
   "id": "c0229906-6bae-4cd2-a45a-9ec1089c3f67",
   "metadata": {},
   "source": [
    "Since generating the data takes time we hard-coded the Qiskit results in the notebook. If you run this notebook by yourself please comment out the following cell."
   ]
  },
  {
   "cell_type": "code",
   "execution_count": 8,
   "id": "542b49f3-ddfa-4009-8c4d-e4303754698e",
   "metadata": {},
   "outputs": [],
   "source": [
    "qs_times = [\n",
    "    0.23147010803222656,\n",
    "    0.2850170135498047,\n",
    "    2.6256730556488037,\n",
    "    0.75693678855896,\n",
    "    5.783859968185425,\n",
    "    3.3723957538604736,\n",
    "    3.9280269145965576,\n",
    "    39.92809295654297,\n",
    "    60.67643904685974,\n",
    "    16.551968097686768,\n",
    "    31.536834955215454,\n",
    "    31.086618900299072,\n",
    "    794.9081449508667,\n",
    "]"
   ]
  },
  {
   "cell_type": "code",
   "execution_count": 9,
   "id": "ccfd2c91-49fc-4ba0-b66f-c18db8354e82",
   "metadata": {},
   "outputs": [
    {
     "data": {
      "text/plain": [
       "(array([1.e-01, 1.e+00, 1.e+01, 1.e+02, 1.e+03]),\n",
       " [Text(0.1, 0, '$\\\\mathdefault{10^{-1}}$'),\n",
       "  Text(1.0, 0, '$\\\\mathdefault{10^{0}}$'),\n",
       "  Text(10.0, 0, '$\\\\mathdefault{10^{1}}$'),\n",
       "  Text(100.0, 0, '$\\\\mathdefault{10^{2}}$'),\n",
       "  Text(1000.0, 0, '$\\\\mathdefault{10^{3}}$')])"
      ]
     },
     "execution_count": 9,
     "metadata": {},
     "output_type": "execute_result"
    },
    {
     "data": {
      "image/png": "[encoded data removed]",
      "text/plain": [
       "<Figure size 640x480 with 1 Axes>"
      ]
     },
     "metadata": {},
     "output_type": "display_data"
    }
   ],
   "source": [
    "import matplotlib.pyplot as plt\n",
    "\n",
    "classiq_color = \"#D7F75B\"\n",
    "qiskit_color = \"#6FA4FF\"\n",
    "plt.rcParams[\"font.family\"] = \"serif\"\n",
    "plt.rc(\"savefig\", dpi=300)\n",
    "\n",
    "plt.rcParams[\"axes.linewidth\"] = 1\n",
    "plt.rcParams[\"xtick.major.size\"] = 5\n",
    "plt.rcParams[\"xtick.minor.size\"] = 5\n",
    "plt.rcParams[\"ytick.major.size\"] = 5\n",
    "plt.rcParams[\"ytick.minor.size\"] = 5\n",
    "\n",
    "\n",
    "plt.loglog(\n",
    "    [n for n in num_qubits_list if n < 23],\n",
    "    qs_times,\n",
    "    \"s\",\n",
    "    label=\"qiskit\",\n",
    "    markerfacecolor=qiskit_color,\n",
    "    markeredgecolor=\"k\",\n",
    "    markersize=7,\n",
    "    markeredgewidth=1.5,\n",
    "    linewidth=1.5,\n",
    "    color=qiskit_color,\n",
    ")\n",
    "plt.loglog(\n",
    "    num_qubits_list,\n",
    "    cl_times,\n",
    "    \"o\",\n",
    "    label=\"classiq\",\n",
    "    markerfacecolor=classiq_color,\n",
    "    markeredgecolor=\"k\",\n",
    "    markersize=8.5,\n",
    "    markeredgewidth=1.5,\n",
    "    linewidth=1.5,\n",
    "    color=classiq_color,\n",
    ")\n",
    "\n",
    "plt.legend(fontsize=16, loc=\"upper right\")\n",
    "\n",
    "\n",
    "plt.ylabel(\"generation time [sec]\", fontsize=16)\n",
    "plt.xlabel(\"number of variables\", fontsize=16)\n",
    "plt.yticks(fontsize=16)\n",
    "plt.xticks(fontsize=16)"
   ]
  }
 ],
 "metadata": {
  "kernelspec": {
   "display_name": "Python 3 (ipykernel)",
   "language": "python",
   "name": "python3"
  },
  "language_info": {
   "codemirror_mode": {
    "name": "ipython",
    "version": 3
   },
   "file_extension": ".py",
   "mimetype": "text/x-python",
   "name": "python",
   "nbconvert_exporter": "python",
   "pygments_lexer": "ipython3",
   "version": "3.11.9"
  }
 },
 "nbformat": 4,
 "nbformat_minor": 5
}
