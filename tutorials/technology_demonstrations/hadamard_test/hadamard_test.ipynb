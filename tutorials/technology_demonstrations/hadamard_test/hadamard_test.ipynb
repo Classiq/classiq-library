{
 "cells": [
  {
   "cell_type": "markdown",
   "metadata": {},
   "source": [
    "# Hadamard Test Tutorial\n",
    "\n",
    "This tutorial will guide you through the understanding and implementation of the Hadamard Test in quantum computing. We'll explore why the Hadamard Test is important, delve into its applications, and provide Python code snippets for practical understanding.\n",
    "\n",
    "## Introduction to the Hadamard Test\n",
    "\n",
    "The Hadamard Test is a significant quantum algorithm used to measure the real and imaginary parts of the expectation value of a unitary operator. This is pivotal in quantum computing for various applications, including quantum algorithm validation, phase estimation, and more.\n",
    "\n",
    "### Why is the Hadamard Test Important?\n",
    "\n",
    "The Hadamard Test is crucial for several reasons:\n",
    "\n",
    "1. **Phase Estimation:** It helps in estimating the phase (angle) that a quantum state acquires after a unitary transformation, which is vital for algorithms like Shor's algorithm.\n",
    "2. **Quantum Algorithm Validation:** It provides a way to verify the correctness of quantum algorithms by measuring their output states.\n",
    "3. **General Quantum Measurements:** The test enables the measurement of complex quantities that are otherwise difficult to obtain directly using standard quantum computational methods.\n",
    "\n",
    "## Applications of the Hadamard Test\n",
    "\n",
    "The Hadamard Test finds applications in various fields of quantum computing:\n",
    "\n",
    "- **Quantum Algorithm Development:** It's used in the development and debugging of quantum algorithms.\n",
    "- **Quantum Chemistry:** In simulating molecular systems, it helps in measuring the expectation values of Hamiltonians.\n",
    "- **Quantum Machine Learning:** It's used in quantum machine learning algorithms to estimate gradients and other quantities.\n",
    "\n",
    "---\n",
    "\n",
    "## Experimenting with the Hadamard Test\n",
    "\n"
   ]
  },
  {
   "cell_type": "code",
   "execution_count": null,
   "metadata": {},
   "outputs": [],
   "source": [
    "import classiq\n",
    "classiq.authenticate()"
   ]
  },
  {
   "cell_type": "code",
   "execution_count": null,
   "metadata": {},
   "outputs": [],
   "source": [
    "from classiq import *\n",
    "import numpy as np"
   ]
  },
  {
   "cell_type": "markdown",
   "metadata": {},
   "source": [
    "## Implementing Hadamard Test\n",
    "\n",
    "\n",
    "### Objective\n",
    "Find the expectation value of $\\langle\\psi|U|\\psi\\rangle$, using a quantum function `hadamard_test_r`. Find the expectation value of $\\langle\\psi|U\\psi\\rangle$'s imaginary part using `hadamard_test_i`.\n",
    "\n",
    "### Process Overview\n",
    "\n",
    "#### Step 1: Initialize $|\\psi\\rangle$\n",
    "\n",
    "- **Random State Creation**: Generate a random amplitude for $|\\psi\\rangle$.\n",
    "- **Quantum State Preparation**: Utilize `prepare_amplitudes` from the Classiq SDK to initialize the quantum state of the $\\psi$ qubit based on the amplitude.\n",
    "\n",
    "### Implementation Details\n",
    "\n",
    "Generate an array of random numbers within the range [-1, 1]. The array size equals the number of possible superposition states for `NUM_QUBITS`, aligning with the quantum system's complexity. Since we are only using one qubit, we will generate an array of size two ($2^1$)."
   ]
  },
  {
   "cell_type": "code",
   "execution_count": null,
   "metadata": {},
   "outputs": [],
   "source": [
    "np.random.seed(18)\n",
    "\n",
    "NUM_QUBITS = 1\n",
    "amps1 = 1 - 2 * np.random.rand(2**NUM_QUBITS)\n",
    "amps1 = amps1 / np.linalg.norm(amps1)\n",
    "print(amps1)"
   ]
  },
  {
   "cell_type": "markdown",
   "metadata": {},
   "source": [
    "#### Step 2: Create a Quantum Function for the Real Expectation Value\n",
    "The steps for a hadamard test are as follows:\n",
    "- Apply a hadamard to the ancilla qubit\n",
    "- Apply a controlled unitary operation with the ancilla qubit as the control and $|\\psi\\rangle$ as the target. In our case, the controlled unitary operation is the controlled-not(CX) gate.\n",
    "- Apply a hadamard to the ancilla qubit\n",
    "- Measure the ancilla \n",
    "\n",
    "Notice how `hadamard_test_r` implements the steps above in readable and concise manner."
   ]
  },
  {
   "cell_type": "code",
   "execution_count": null,
   "metadata": {},
   "outputs": [],
   "source": [
    "@QFunc\n",
    "def hadamard_test_r(psi: QBit, ancilla:Output[QBit]):\n",
    "    allocate(out=ancilla,num_qubits=1)\n",
    "    hadamard_transform(ancilla)\n",
    "    CX(ancilla,psi)\n",
    "    hadamard_transform(ancilla)"
   ]
  },
  {
   "cell_type": "code",
   "execution_count": null,
   "metadata": {},
   "outputs": [],
   "source": [
    "@QFunc\n",
    "def main(ancilla_real:Output[QBit]):\n",
    "    psi = QBit(\"state1\")\n",
    "    prepare_amplitudes(amps1.tolist(), 0.0, psi)\n",
    "    hadamard_test_r(psi, ancilla_real)\n",
    "\n",
    "qmod = create_model(main)\n",
    "qprog = synthesize(qmod)\n",
    "show(qprog)"
   ]
  },
  {
   "cell_type": "markdown",
   "metadata": {},
   "source": [
    "With the quantum program created, we can now calculate the expectation value using the following formula:\n",
    "$E=P(0)−P(1)$\n",
    "\n",
    "Where $P(0)$ and $P(1)$ are the probabilities of measuring the qubit in state ∣0 and ∣1⟩, respectively. These probabilities can be computed from the counts dictionary as follows:\n",
    "\n",
    "$P(0) = \\frac{Counts(0)}{Total Counts}$\n",
    "<br><br>\n",
    "\n",
    "$P(1) = \\frac{Counts(1)}{Total Counts}$\n"
   ]
  },
  {
   "cell_type": "code",
   "execution_count": null,
   "metadata": {},
   "outputs": [],
   "source": [
    "result = execute(qprog).result()\n",
    "\n",
    "p0 = result[0].value.counts[\"0\"] / sum(result[0].value.counts.values())\n",
    "p1 = result[0].value.counts[\"1\"] / sum(result[0].value.counts.values())\n",
    "expectation = p0 - p1\n",
    "\n",
    "print(f\"Expectation value from real part: {expectation}\")"
   ]
  },
  {
   "cell_type": "markdown",
   "metadata": {},
   "source": [
    "#### Step 2: Create a Quantum Function for the Imaginary Expectation Value\n",
    "The steps for a hadamard test are as follows:\n",
    "- Apply a hadamard to the ancilla qubit\n",
    "- Apply a phase shift of $\\frac{\\pi}{2}$ to the ancilla qubit\n",
    "- Apply a controlled unitary operation with the ancilla qubit as the control and $|\\psi\\rangle$ as the target. In our case, the controlled unitary operation is the controlled-not(CX) gate.\n",
    "- Apply a hadamard to the ancilla qubit\n",
    "- Measure the ancilla \n",
    "\n",
    "Notice how `hadamard_test_i` implements the steps above in a readable and concise manner."
   ]
  },
  {
   "cell_type": "code",
   "execution_count": null,
   "metadata": {},
   "outputs": [],
   "source": [
    "@QFunc\n",
    "def hadamard_test_i(psi: QBit, ancilla:Output[QBit]):\n",
    "    allocate(out=ancilla,num_qubits=1)\n",
    "    hadamard_transform(ancilla)\n",
    "    RZ(np.pi/2,ancilla)\n",
    "    CX(ancilla,psi)\n",
    "    hadamard_transform(ancilla)"
   ]
  },
  {
   "cell_type": "markdown",
   "metadata": {},
   "source": [
    "### Step 3: Putting it All Together\n",
    "- Prepare $|\\psi\\rangle$.\n",
    "- Use use `hadamard_test_i` to find the expectation value for imaginary parts."
   ]
  },
  {
   "cell_type": "code",
   "execution_count": null,
   "metadata": {},
   "outputs": [],
   "source": [
    "@QFunc\n",
    "def main(ancilla_imag:Output[QBit]):\n",
    "    psi = QBit(\"state1\")\n",
    "    prepare_amplitudes(amps1.tolist(), 0.0, psi)\n",
    "    hadamard_test_i(psi, ancilla_imag)\n",
    "\n",
    "qmod = create_model(main)\n",
    "qprog = synthesize(qmod)\n",
    "show(qprog)"
   ]
  },
  {
   "cell_type": "markdown",
   "metadata": {},
   "source": [
    "Once again we will calculate the expectation value using the following formula:\n",
    "<br><br>\n",
    "$E=P(0)−P(1)$\n"
   ]
  },
  {
   "cell_type": "code",
   "execution_count": null,
   "metadata": {},
   "outputs": [],
   "source": [
    "result = execute(qprog).result()\n",
    "\n",
    "p0 = result[0].value.counts[\"0\"] / sum(result[0].value.counts.values())\n",
    "p1 = result[0].value.counts[\"1\"] / sum(result[0].value.counts.values())\n",
    "expectation = p0 - p1\n",
    "\n",
    "print(f\"Expectation value from imaginary part: {expectation}\")"
   ]
  },
  {
   "cell_type": "markdown",
   "metadata": {},
   "source": [
    "### Example 2: \n",
    "\n",
    "We wil now use the Hadamard-Test to create the notorious Swap-Test. Swap-Test compares two quantum states, $|\\psi\\rangle$ and $|\\phi\\rangle$. The Swap-Test is the same as the Hadamard test for real parts, except it uses a bit-wise controlled Swap Gate as the controlled unitary operator. For Swap-Test the control qubit will be the ancilla and the targets will be $\\psi$ and $\\phi$."
   ]
  },
  {
   "cell_type": "code",
   "execution_count": null,
   "metadata": {},
   "outputs": [],
   "source": [
    "@QFunc\n",
    "def bit_wise_swap(psi: QArray[QBit], phi: QArray[QBit]):\n",
    "    repeat(psi.len(), lambda i: SWAP(psi[i],phi[i]))\n",
    "\n",
    "@QFunc\n",
    "def local_swap_test(ancilla:Output[QBit], psi: QArray[QBit], phi: QArray[QBit]):\n",
    "    allocate(1,ancilla)\n",
    "    H(ancilla)\n",
    "    control(lambda: bit_wise_swap(psi,phi),ancilla)\n",
    "    H(ancilla)"
   ]
  },
  {
   "cell_type": "markdown",
   "metadata": {},
   "source": [
    "Now we generate two random arrays to initialize psi and phi. This will provide us will two different states to compare using our local swap test. Notice how difficult implementing swap test at a gate level is, thankfully we have Classiq's built-in `swap_test` function."
   ]
  },
  {
   "cell_type": "code",
   "execution_count": null,
   "metadata": {},
   "outputs": [],
   "source": [
    "@QFunc\n",
    "def main(ancilla:Output[QBit]):\n",
    "    psi_state = [0,0.333,0.333,0.334]\n",
    "    phi_state = [0.334,0.333,0.333,0]\n",
    "\n",
    "    psi = QArray('psi')\n",
    "    phi = QArray('phi')\n",
    "    prepare_state(probabilities=psi_state, bound=1e-4, out=psi)\n",
    "    prepare_state(probabilities=phi_state, bound=1e-4, out=phi)\n",
    "    local_swap_test(ancilla,psi, phi)\n",
    "\n",
    "qmod = create_model(main)\n",
    "\n",
    "qprog = synthesize(qmod)\n",
    "show(qprog)"
   ]
  },
  {
   "cell_type": "code",
   "execution_count": null,
   "metadata": {},
   "outputs": [],
   "source": [
    "result = execute(qprog).result()\n",
    "\n",
    "state_overlap = np.sqrt(\n",
    "    2 * result[0].value.counts[\"0\"] / sum(result[0].value.counts.values()) - 1\n",
    ")\n",
    "\n",
    "print(f\"States overlap from Swap-Test result: {state_overlap}\")\n",
    "\n"
   ]
  },
  {
   "cell_type": "markdown",
   "metadata": {},
   "source": [
    "---\n",
    "\n",
    "## Conclusion\n",
    "\n",
    "The Hadamard Test is a foundational tool in quantum computing for measuring the expectation values of unitary operators. Through this tutorial, you've learned its importance, applications, and implementation using Qiskit. Experimenting with different unitary operators and quantum circuits can deepen your understanding of quantum computing principles.\n",
    "\n",
    "### The Classiq Platform: Empowering Quantum Innovation\n",
    "\n",
    "The Classiq platform has emerged as an indispensable tool in the quantum computing industry. Its strength and importance lie in demystifying quantum programming, offering an accessible yet powerful avenue for users to design, prototype, and analyze quantum algorithms with ease. Classiq's user-friendly interface and advanced features bridge the gap between complex quantum theories and practical applications, enabling both beginners and seasoned experts to unlock quantum computing's vast potential. Through facilitating the design of sophisticated quantum functions, as demonstrated with our quadratic examples, Classiq accelerates the development of quantum applications, positioning itself as a catalyst for breakthroughs in computational power and innovation.\n",
    "\n",
    "---\n",
    "\n",
    "## Thank You!\n",
    "#### Make sure to checkout the classiq platform here: https://platform.classiq.io"
   ]
  }
 ],
 "metadata": {
  "kernelspec": {
   "display_name": "Python 3",
   "language": "python",
   "name": "python3"
  },
  "language_info": {
   "codemirror_mode": {
    "name": "ipython",
    "version": 3
   },
   "file_extension": ".py",
   "mimetype": "text/x-python",
   "name": "python",
   "nbconvert_exporter": "python",
   "pygments_lexer": "ipython3",
   "version": "3.11.8"
  }
 },
 "nbformat": 4,
 "nbformat_minor": 2
}
