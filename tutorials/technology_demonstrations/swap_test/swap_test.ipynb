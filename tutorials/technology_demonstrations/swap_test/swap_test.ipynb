{
 "cells": [
  {
   "cell_type": "markdown",
   "metadata": {},
   "source": [
    "\n",
    "# Swap Test\n",
    "\n",
    "\n",
    "The swap test[[1](#clsq),[2](#wiki0),[3](#wiki1),[4](#ripper)] is a quantum computing technique used to determine the similarity between two quantum states $|\\psi\\rangle$ and $|\\phi\\rangle$. It plays a crucial role in quantum information processing, enabling the measurement of the overlap between states without directly observing their contents. \n",
    "\n",
    "The swap test outputs a single qubit with the encoded overlap:\n",
    "\n",
    "$\\mid{q}\\rangle = \\alpha\\mid0\\rangle + \\sqrt{1-\\alpha^2}\\mid1\\rangle$,<br><br> $\\alpha^2 = \\frac{1}{2}(1+\\mid\\langle\\psi\\mid\\phi\\rangle\\mid^2)$\n",
    "\n",
    "Therefore when $\\mid\\psi\\rangle$ and $\\mid\\phi\\rangle$ are orthogonal $\\langle\\psi\\mid\\phi\\rangle = 0$, the probability of $\\mid{q}\\rangle = |0\\rangle$ is $\\frac{1}{2}$.\n",
    "<br>Whereas $\\mid\\psi\\rangle$ and $\\mid\\phi\\rangle$ are identical $\\langle\\psi\\mid\\phi\\rangle = 1$, the probability of $\\mid{q}\\rangle = |0\\rangle$ is 1.\n",
    "\n",
    "\n",
    "## Guided Implementation\n",
    "\n",
    "- Authenticate the Classiq platform with your device. \n",
    "- Import the classiq SDK and necessary member functions\n",
    "\n"
   ]
  },
  {
   "cell_type": "code",
   "execution_count": null,
   "metadata": {},
   "outputs": [],
   "source": [
    "import classiq\n",
    "classiq.authenticate()"
   ]
  },
  {
   "cell_type": "code",
   "execution_count": null,
   "metadata": {},
   "outputs": [],
   "source": [
    "from classiq import *"
   ]
  },
  {
   "cell_type": "markdown",
   "metadata": {},
   "source": [
    "\n",
    "\n",
    "## Example One: Comparing Random Quantum States\n",
    "\n",
    "### Objective\n",
    "Compare two quantum states, $|\\psi\\rangle$ and $|\\phi\\rangle$, using the `swap_test()` method from the Classiq SDK.\n",
    "\n",
    "### Process Overview\n",
    "1. **Preparation**: Two quantum states $|\\psi\\rangle$ and $|\\phi\\rangle$ are prepared, whose similarity is to be tested.\n",
    "\n",
    "2. **Ancilla Qubit**: An additional qubit (ancilla) is initialized in the state $|0\\rangle$.\n",
    "\n",
    "3. **Hadamard Operation**: A Hadamard gate is applied to the ancilla qubit, placing it into the superposition state $\\mid+\\rangle = \\frac{|0\\rangle + |1\\rangle}{\\sqrt{2}}$.\n",
    "\n",
    "4. **Controlled Swap**: A controlled swap (Fredkin gate) operation is performed between the two quantum states, conditioned on the state of the ancilla qubit.\n",
    "\n",
    "5. **Second Hadamard**: Another Hadamard gate is applied to the ancilla qubit.\n",
    "\n",
    "6. **Measurement**: The ancilla qubit is measured. The probability of finding it in the state $|0\\rangle$ is related to the overlap (similarity) between the states $|\\psi\\rangle$ and $|\\phi\\rangle$.<br><br>\n",
    "\n",
    "---\n",
    "#### Step 1: Preparation\n",
    "\n",
    "- **Random State Creation**: Generate random amplitudes for two quantum states.\n",
    "- **Quantum State Preparation**: Utilize `prepare_amplitudes` from the Classiq SDK to initialize quantum states of qubits based on these amplitudes.\n",
    "\n",
    "Generate two arrays of random numbers within the range [-1, 1]. The array size equals the number of possible superposition states for `NUM_QUBITS`, aligning with the quantum system's complexity."
   ]
  },
  {
   "cell_type": "code",
   "execution_count": null,
   "metadata": {},
   "outputs": [],
   "source": [
    "import numpy as np\n",
    "\n",
    "np.random.seed(18)\n",
    "\n",
    "NUM_QUBITS = 4\n",
    "amps1 = 1 - 2 * np.random.rand(2**NUM_QUBITS)\n",
    "amps2 = 1 - 2 * np.random.rand(2**NUM_QUBITS)\n",
    "amps1 = amps1 / np.linalg.norm(amps1)\n",
    "amps2 = amps2 / np.linalg.norm(amps2)"
   ]
  },
  {
   "cell_type": "markdown",
   "metadata": {},
   "source": [
    "- First we instantiate two QArrays that become $|\\psi\\rangle$ and $|\\phi\\rangle$. Next we uses the randomly generated arrays `amps1` and `amps2` to `prepare_amplitudes` for `state1` and `state2`. \n",
    "\n",
    "#### Step Two: Swap Test\n",
    "- Now that $|\\psi\\rangle$ and $|\\phi\\rangle$ have been prepared, we may preform a `swap_test` to compare the quantum states. \n",
    "\n",
    "With a simple function call `swap_test` handles the functionality for us. \n",
    "Notice that ancilla is not allocated any space previous to `swap_test`, this allows for the function to handle various input sizes. The `swap_test()` method initialized the ancilla qubit, applies the hadamard operations $U$ and $U^\\dagger$, and applies the controlled swap so that $UVU^\\dagger$ is performed on the ancilla qubit.\n",
    "\n",
    "\n",
    "Preparing amplitudes and using Swap Test are two small examples of how the Classiq platform and SDK provide many high-level abstractions that make quantum algorithm development, prototyping, and testing more efficient!!!\n",
    "\n"
   ]
  },
  {
   "cell_type": "code",
   "execution_count": null,
   "metadata": {},
   "outputs": [],
   "source": [
    "@qfunc\n",
    "def main(ancilla:Output[QBit]):\n",
    "    state1 = QArray(\"state1\")\n",
    "    state2 = QArray(\"state2\")\n",
    "    prepare_amplitudes(amps1.tolist(), 0.0, state1)\n",
    "    prepare_amplitudes(amps2.tolist(), 0.0, state2)\n",
    "    swap_test(state1, state2, ancilla)\n",
    "\n",
    "qmod = create_model(main)\n",
    "qprog = synthesize(qmod)\n",
    "show(qprog)"
   ]
  },
  {
   "cell_type": "markdown",
   "metadata": {},
   "source": [
    "Lets look at the results of our quantum program. Execute the program from the SDK below. We will compare the Swap-Test result with an exact classical calculation to test accuracy of our result."
   ]
  },
  {
   "cell_type": "code",
   "execution_count": null,
   "metadata": {},
   "outputs": [],
   "source": [
    "result = execute(qprog).result()\n",
    "\n",
    "state_overlap = np.sqrt(\n",
    "    2 * result[0].value.counts[\"0\"] / sum(result[0].value.counts.values()) - 1\n",
    ")\n",
    "\n",
    "exact_overlap = np.abs(amps1 @ amps2)\n",
    "print(f\"States overlap from Swap-Test result: {state_overlap}\")\n",
    "print(f\"States overlap from classical calculation: {exact_overlap}\")\n",
    "\n",
    "assert np.isclose(state_overlap, exact_overlap, atol=1e-2), \"Overlap is not accurate enough\""
   ]
  },
  {
   "cell_type": "markdown",
   "metadata": {},
   "source": [
    "### Key Points\n",
    "\n",
    "- **Random Amplitudes**: Represent the quantum states $|\\psi\\rangle$ and $|\\phi\\rangle$.\n",
    "- **Normalization**: Essential for quantum state validity, ensuring the probability sum equals 1.\n",
    "- **Classiq SDK's Role**: Facilitates quantum state preparation and comparison through gate level abstractions like `prepare_amplitudes` and `swap_test()`. \n",
    "\n",
    "## Example Two: Quadratic Function Comparison via Swap Test\n",
    "\n",
    "Explore the behavior of two quadratic functions by employing various coefficients and input values. Utilize the Swap Test to analyze and compare the outcomes. This will check for intersection points when $\\mid{q}\\rangle = \\mid0\\rangle$\n",
    "\n",
    "\n",
    "### Step One: Implementing an In-Place Quadratic Function\n",
    "- **Objective**: Develop a quantum function capable of computing $y = a \\cdot x^2$ in-place, where $a$ acts as a variable coefficient. This function should directly encode the result of the quadratic equation into a quantum state, leveraging the unique computational capabilities of quantum systems for processing and analysis."
   ]
  },
  {
   "cell_type": "code",
   "execution_count": null,
   "metadata": {},
   "outputs": [],
   "source": [
    "@qfunc\n",
    "def inplace_quadratic(a:QParam[int], x:QNum, y: Output[QNum]):\n",
    "    y |= a*x**2"
   ]
  },
  {
   "cell_type": "markdown",
   "metadata": {},
   "source": [
    "WOW, who would've expected implementing a quadratic function in a quantum program could be this straightforward? Thanks Classiq!"
   ]
  },
  {
   "cell_type": "markdown",
   "metadata": {},
   "source": [
    "### Step Two: Assembly and Comparison\n",
    "\n",
    "- **Objective**: Craft two quadratic expressions for examination. In this scenario, the quadratics will be identical for the sake of comparison.\n",
    "- **Superposition of Inputs**: Initialize the input \\(x\\) into a quantum state of superposition, ensuring its range spans $[0,2^2)$. This step is crucial for exploiting quantum parallelism, allowing the simultaneous evaluation of the quadratic function at multiple points.\n",
    "- **Comparative Analysis with Swap Test**: Utilize the `swap_test` method to assess the outcomes produced by the two quadratic functions. This quantum algorithm effectively compares quantum states, providing insight into the similarity or difference between the results of the quadratic evaluations."
   ]
  },
  {
   "cell_type": "code",
   "execution_count": null,
   "metadata": {},
   "outputs": [],
   "source": [
    "@qfunc\n",
    "def main(comparison: Output[QBit]):\n",
    "    #Coefficients for the quadratic functions\n",
    "    a = 2\n",
    "    b = 2\n",
    "\n",
    "    #X Input\n",
    "    x = QNum(\"x\")\n",
    "\n",
    "    #Y Outputs\n",
    "    y = QNum(\"y\")\n",
    "    y2 = QNum(\"y2\")\n",
    "\n",
    "\n",
    "    allocate_num(2,False,0,x)\n",
    "    hadamard_transform(x)\n",
    "\n",
    "    inplace_quadratic(a,x,y) \n",
    "    inplace_quadratic(b,x,y2)\n",
    "\n",
    "    #Compare two identical functions using Swap Test\n",
    "    swap_test(y,y2,comparison)"
   ]
  },
  {
   "cell_type": "markdown",
   "metadata": {},
   "source": [
    "Next, let's explore the quantum program created in the Classiq IDE. You can effortlessly visualize it by utilizing the `show()` function."
   ]
  },
  {
   "cell_type": "code",
   "execution_count": null,
   "metadata": {},
   "outputs": [],
   "source": [
    "qmod = create_model(main)\n",
    "qprog = synthesize(qmod)\n",
    "show(qprog)"
   ]
  },
  {
   "cell_type": "markdown",
   "metadata": {},
   "source": [
    "Now, let's examine the outcome. As depicted, we observe a singular result type, characterized by the comparison yielding a value of 0.0."
   ]
  },
  {
   "cell_type": "code",
   "execution_count": null,
   "metadata": {},
   "outputs": [],
   "source": [
    "def print_parsed_counts(job):\n",
    "    results = job.result()\n",
    "    parsed_counts = results[0].value.parsed_counts\n",
    "    for parsed_state in parsed_counts: print(parsed_state.state)\n",
    "\n",
    "job = execute(qprog)\n",
    "print_parsed_counts(job)"
   ]
  },
  {
   "cell_type": "markdown",
   "metadata": {},
   "source": [
    "Observe the overlap in the result states. As anticipated, due to the utilization of identical quadratic functions and inputs, our results are congruent. This demonstrates that the functions coincide across the entire domain of $[0,2^2)$.<br> In other words, all points of the function intersect."
   ]
  },
  {
   "cell_type": "code",
   "execution_count": null,
   "metadata": {},
   "outputs": [],
   "source": [
    "result = job.result()\n",
    "\n",
    "state_overlap = np.sqrt(\n",
    "    2*result[0].value.counts[\"0\"] / sum(result[0].value.counts.values()) -1\n",
    ")\n",
    "\n",
    "print(f\"States overlap from Swap-Test result: {round(state_overlap*100,3)}%\")\n"
   ]
  },
  {
   "cell_type": "markdown",
   "metadata": {},
   "source": [
    "Let's explore another scenario where the quadratic functions have slight variations. In this case, we'll compare $F_1(x) = 3 \\cdot x^2$ and $F_2(x) = 2 \\cdot x^2$.<br> We'll maintain the domain $[0, 2^2)$ for our comparison. Should you wish to extend the range further, it necessitates utilizing a backend capable of supporting a greater number of qubits."
   ]
  },
  {
   "cell_type": "code",
   "execution_count": null,
   "metadata": {},
   "outputs": [],
   "source": [
    "@qfunc\n",
    "def main(comparison:Output[QBit]):\n",
    "    a = 3\n",
    "    b = 2\n",
    "    x = QNum(\"x\")\n",
    "    y = QNum(\"y\")\n",
    "    y2 = QNum(\"y2\")\n",
    "    allocate_num(2,False,0,x)\n",
    "    hadamard_transform(x)\n",
    "    inplace_quadratic(a,x,y) \n",
    "    inplace_quadratic(b,x,y2)\n",
    "    swap_test(y,y2,comparison)"
   ]
  },
  {
   "cell_type": "markdown",
   "metadata": {},
   "source": [
    "In the implementation detailed above, we execute both $F_1(x)$ and $F_2(x)$, followed by a comparison of their outputs. Examining the state overlap from our Swap Test results, we anticipate less than 100% similarity, given not all inputs yield intersecting points. Nevertheless, due to the intrinsic similarity between these quadratic functions, a significant degree of overlap is expected."
   ]
  },
  {
   "cell_type": "code",
   "execution_count": null,
   "metadata": {},
   "outputs": [],
   "source": [
    "qmod = create_model(main)\n",
    "\n",
    "qprog = synthesize(qmod)\n",
    "show(qprog)\n",
    "def print_parsed_counts(job):\n",
    "    results = job.result()\n",
    "    parsed_counts = results[0].value.parsed_counts\n",
    "    for parsed_state in parsed_counts: print(parsed_state.state)\n",
    "\n",
    "job = execute(qprog)\n",
    "print_parsed_counts(job)\n",
    "\n",
    "result = job.result()\n",
    "\n",
    "state_overlap = np.sqrt(\n",
    "    2 * result[0].value.counts[\"0\"] / sum(result[0].value.counts.values()) - 1\n",
    ")\n",
    "\n",
    "print(f\"States overlap from Swap-Test result: {round(state_overlap*100,3)}%\")\n",
    "\n"
   ]
  },
  {
   "cell_type": "markdown",
   "metadata": {},
   "source": [
    "The Swap Test, as demonstrated, operates at the qubit level to compare values. This powerful tool is adept at identifying quantum states that are either identical, completely non-overlapping, or partially overlapping. Its significance cannot be overstated, as it enables the comparison of quantum states without the risk of losing the quantum information contained within those states.\n",
    "\n",
    "---\n",
    "\n",
    "For our next exploration, we'll diverge by implementing two distinct quadratic functions, $F_1(x)$ and $F_2(x_2)$, utilizing two separate inputs, $x$ and $x_2$, each within the domain of $[0, 2^2)$. This approach allows us to investigate the behavior of non-identical quadratics under different input conditions.\""
   ]
  },
  {
   "cell_type": "code",
   "execution_count": null,
   "metadata": {},
   "outputs": [],
   "source": [
    "@qfunc\n",
    "def main(comparison:Output[QBit]):\n",
    "    a = 5\n",
    "    b = 4\n",
    "    x = QNum(\"x\")\n",
    "    x2 = QNum(\"x2\")\n",
    "    y = QNum(\"y\")\n",
    "    y2 = QNum(\"y2\")\n",
    "    allocate_num(2,False,0,x)\n",
    "    \n",
    "    allocate_num(2,False,0,x2)\n",
    "    hadamard_transform(x2)\n",
    "    inplace_quadratic(a,x,y) \n",
    "    inplace_quadratic(b,x2,y2)\n",
    "    swap_test(y,y2,comparison)"
   ]
  },
  {
   "cell_type": "markdown",
   "metadata": {},
   "source": [
    "In the previous example, we anticipate the overlap between the resulting quantum states to be under 50%. This is because the quantum states are less likely to be as similar as those in the previous example, where the functions and inputs were identical. It's crucial to understand that the Swap Test focuses on comparing the entirety of quantum states, rather than individual quantum digits or values. As such, the concept of state overlap might be less straightforward than observed in the initial example with identical functions and inputs."
   ]
  },
  {
   "cell_type": "code",
   "execution_count": null,
   "metadata": {},
   "outputs": [],
   "source": [
    "qmod = create_model(main)\n",
    "\n",
    "qprog = synthesize(qmod)\n",
    "show(qprog)\n",
    "def print_parsed_counts(job):\n",
    "    results = job.result()\n",
    "    parsed_counts = results[0].value.parsed_counts\n",
    "    for parsed_state in parsed_counts: print(parsed_state.state)\n",
    "\n",
    "job = execute(qprog)\n",
    "print_parsed_counts(job)\n",
    "\n",
    "result = job.result()\n",
    "\n",
    "state_overlap = np.sqrt(\n",
    "    2 * result[0].value.counts[\"0\"] / sum(result[0].value.counts.values()) - 1\n",
    ")\n",
    "\n",
    "print(f\"States overlap from Swap-Test result: {round(state_overlap,3)}%\")\n",
    "\n"
   ]
  },
  {
   "cell_type": "markdown",
   "metadata": {},
   "source": [
    "## Mathematical Description\n",
    "\n",
    "Our system is initialized with the following quantum state:\n",
    "$\\begin{equation}\n",
    "\\mid{0,\\psi,\\phi}\\rangle\n",
    "\\end{equation}$\n",
    "\n",
    "A hadamard ($U$) is applied to the ancilla qubit, changing the system state to:\n",
    "$\\begin{equation}\n",
    "\\frac{1}{\\sqrt{2}}(\\mid{0,\\psi,\\phi}\\rangle + \\mid{1,\\psi,\\phi}\\rangle)\n",
    "\\end{equation}$\n",
    "\n",
    "A controlled swap-gate ($V$) is applied to the system, with the ancilla acting as the control. This modifies the system's quantum state to:\n",
    "$\\begin{equation}\n",
    "\\frac{1}{\\sqrt{2}}(\\mid{0,\\psi,\\phi}\\rangle + \\mid{1,\\phi,\\psi}\\rangle)\n",
    "\\end{equation}$\n",
    "\n",
    "Finally a second hadmard ($U^\\dagger$) is applied to the ancilla qubit, changing the system state to:\n",
    "$\\begin{equation}\n",
    "\\frac{1}{\\sqrt{2}}(\\mid{0,\\psi,\\phi}\\rangle + \\mid{1,\\psi,\\phi}\\rangle + \\mid{0,\\phi,\\psi}\\rangle - \\mid{1,\\phi,\\psi}\\rangle)\n",
    "\\end{equation}$\n",
    "\n",
    "The probability of the ancilla qubit being measured as a 0 is as follows:\n",
    "$\\begin{equation}\n",
    "\\frac{1}{2} + \\frac{1}{2}\\mid\\langle\\psi\\mid\\phi\\rangle\\mid^2\n",
    "\\end{equation}$\n"
   ]
  },
  {
   "cell_type": "markdown",
   "metadata": {},
   "source": [
    "## Code Summary\n",
    "\n",
    "Python Version:"
   ]
  },
  {
   "cell_type": "code",
   "execution_count": null,
   "metadata": {},
   "outputs": [],
   "source": [
    "\n",
    "### EXAMPLE 1\n",
    "import numpy as np\n",
    "\n",
    "np.random.seed(18)\n",
    "\n",
    "NUM_QUBITS = 4\n",
    "amps1 = 1 - 2 * np.randiom.rand(2**NUM_QUBITS)\n",
    "amps2 = 1 - 2 * np.random.rand(2**NUM_QUBITS)\n",
    "amps1 = amps1 / np.linalg.norm(amps1)\n",
    "amps2 = amps2 / np.linalg.norm(amps2)\n",
    "\n",
    "@qfunc\n",
    "def main(ancilla:Output[QBit]):\n",
    "    state1 = QArray(\"state1\")\n",
    "    state2 = QArray(\"state2\")\n",
    "    prepare_amplitudes(amps1.tolist(), 0.0, state1)\n",
    "    prepare_amplitudes(amps2.tolist(), 0.0, state2)\n",
    "    swap_test(state1, state2, ancilla)\n",
    "\n",
    "qmod = create_model(main)\n",
    "qprog = synthesize(qmod)\n",
    "show(qprog)\n",
    "\n",
    "result = execute(qprog).result()\n",
    "\n",
    "state_overlap = np.sqrt(\n",
    "    2 * result[0].value.counts[\"0\"] / sum(result[0].value.counts.values()) - 1\n",
    ")\n",
    "\n",
    "exact_overlap = np.abs(amps1 @ amps2)\n",
    "print(f\"States overlap from Swap-Test result: {state_overlap}\")\n",
    "print(f\"States overlap from classical calculation: {exact_overlap}\")\n",
    "\n",
    "assert np.isclose(state_overlap, exact_overlap, atol=1e-2), \"Overlap is not accurate enough\"\n",
    "\n",
    "### EXAMPLE 2.1\n",
    "\n",
    "@qfunc\n",
    "def inplace_quadratic(a:QParam[int], x:QNum, y: Output[QNum]):\n",
    "    y |= a*x**2\n",
    "\n",
    "@qfunc\n",
    "def main(comparison: Output[QBit]):\n",
    "    #Coefficients for the quadratic functions\n",
    "    a = 2\n",
    "    b = 2\n",
    "\n",
    "    #X Input\n",
    "    x = QNum(\"x\")\n",
    "\n",
    "    #Y Outputs\n",
    "    y = QNum(\"y\")\n",
    "    y2 = QNum(\"y2\")\n",
    "\n",
    "\n",
    "    allocate_num(2,False,0,x)\n",
    "    hadamard_transform(x)\n",
    "\n",
    "    inplace_quadratic(a,x,y) \n",
    "    inplace_quadratic(b,x,y2)\n",
    "\n",
    "    #Compare two identical functions using Swap Test\n",
    "    swap_test(y,y2,comparison)\n",
    "\n",
    "qmod = create_model(main)\n",
    "qprog = synthesize(qmod)\n",
    "show(qprog)\n",
    "\n",
    "def print_parsed_counts(job):\n",
    "    results = job.result()\n",
    "    parsed_counts = results[0].value.parsed_counts\n",
    "    for parsed_state in parsed_counts: print(parsed_state.state)\n",
    "\n",
    "job = execute(qprog)\n",
    "print_parsed_counts(job)\n",
    "\n",
    "result = job.result()\n",
    "\n",
    "state_overlap = np.sqrt(\n",
    "    2*result[0].value.counts[\"0\"] / sum(result[0].value.counts.values()) -1\n",
    ")\n",
    "\n",
    "print(f\"States overlap from Swap-Test result: {round(state_overlap*100,3)}%\")\n",
    "\n",
    "### EXAMPLE 2.2\n",
    "@qfunc\n",
    "def main(comparison:Output[QBit]):\n",
    "    a = 3\n",
    "    b = 2\n",
    "    x = QNum(\"x\")\n",
    "    y = QNum(\"y\")\n",
    "    y2 = QNum(\"y2\")\n",
    "    allocate_num(2,False,0,x)\n",
    "    hadamard_transform(x)\n",
    "    inplace_quadratic(a,x,y) \n",
    "    inplace_quadratic(b,x,y2)\n",
    "    swap_test(y,y2,comparison)\n",
    "\n",
    "qmod = create_model(main)\n",
    "\n",
    "qprog = synthesize(qmod)\n",
    "show(qprog)\n",
    "def print_parsed_counts(job):\n",
    "    results = job.result()\n",
    "    parsed_counts = results[0].value.parsed_counts\n",
    "    for parsed_state in parsed_counts: print(parsed_state.state)\n",
    "\n",
    "job = execute(qprog)\n",
    "print_parsed_counts(job)\n",
    "\n",
    "result = job.result()\n",
    "\n",
    "state_overlap = np.sqrt(\n",
    "    2 * result[0].value.counts[\"0\"] / sum(result[0].value.counts.values()) - 1\n",
    ")\n",
    "\n",
    "print(f\"States overlap from Swap-Test result: {round(state_overlap*100,3)}%\")\n",
    "\n",
    "### EXAMPLE 2.3\n",
    "\n",
    "@qfunc\n",
    "def main(comparison:Output[QBit]):\n",
    "    a = 5\n",
    "    b = 4\n",
    "    x = QNum(\"x\")\n",
    "    x2 = QNum(\"x2\")\n",
    "    y = QNum(\"y\")\n",
    "    y2 = QNum(\"y2\")\n",
    "    allocate_num(2,False,0,x)\n",
    "    \n",
    "    allocate_num(2,False,0,x2)\n",
    "    hadamard_transform(x2)\n",
    "    inplace_quadratic(a,x,y) \n",
    "    inplace_quadratic(b,x2,y2)\n",
    "    swap_test(y,y2,comparison)\n",
    "\n",
    "qmod = create_model(main)\n",
    "\n",
    "qprog = synthesize(qmod)\n",
    "show(qprog)\n",
    "def print_parsed_counts(job):\n",
    "    results = job.result()\n",
    "    parsed_counts = results[0].value.parsed_counts\n",
    "    for parsed_state in parsed_counts: print(parsed_state.state)\n",
    "\n",
    "job = execute(qprog)\n",
    "print_parsed_counts(job)\n",
    "\n",
    "result = job.result()\n",
    "\n",
    "state_overlap = np.sqrt(\n",
    "    2 * result[0].value.counts[\"0\"] / sum(result[0].value.counts.values()) - 1\n",
    ")\n",
    "\n",
    "print(f\"States overlap from Swap-Test result: {round(state_overlap,3)}%\")"
   ]
  },
  {
   "cell_type": "markdown",
   "metadata": {},
   "source": [
    "Native QMOD version (Prepared state may vary):"
   ]
  },
  {
   "cell_type": "markdown",
   "metadata": {},
   "source": [
    "```\n",
    "// Swap Test\n",
    "qfunc main(output test: qbit) {\n",
    "  state1: qbit[];\n",
    "  state2: qbit[];\n",
    "  prepare_amplitudes<[\n",
    "    0.341820472306662,\n",
    "    (-0.237261667325083),\n",
    "    0.233936034675983,\n",
    "    (-0.033347531132715),\n",
    "    0.479787125057496,\n",
    "    (-0.413883519835207),\n",
    "    (-0.396060798200712),\n",
    "    0.461159549986877\n",
    "  ], 0.0>(state1);\n",
    "  prepare_amplitudes<[\n",
    "    (-0.464354866499289),\n",
    "    0.368670230538333,\n",
    "    0.219675023759545,\n",
    "    (-0.107802417030113),\n",
    "    (-0.451424452060796),\n",
    "    (-0.358452134839606),\n",
    "    0.505807381305853,\n",
    "    (-0.021570025938839)\n",
    "  ], 0.0>(state2);\n",
    "  swap_test(state1, state2, test);\n",
    "}\n",
    "```"
   ]
  },
  {
   "cell_type": "markdown",
   "metadata": {},
   "source": [
    "## References\n",
    "<a id='clsq'>[1]</a>: [Classiq Swap Test Tutorial](https://nightly.docs.classiq.io/latest/tutorials/algorithms/swap-test/swap-test/?h=swap)</a><br>\n",
    "<a id='wiki0'>[2]</a>: [Swap Test](https://en.wikipedia.org/wiki/Swap_test)</a><br>\n",
    "<a id='wiki1'>[3]</a>: [Fredkin Gate](https://en.wikipedia.org/wiki/Fredkin_gate)</a><br>\n",
    "<a id='ripper'>[3]</a>: [Ripper et al., 2022](https://arxiv.org/pdf/2208.02893.pdf)</a><br>"
   ]
  }
 ],
 "metadata": {
  "kernelspec": {
   "display_name": "Python 3",
   "language": "python",
   "name": "python3"
  },
  "language_info": {
   "codemirror_mode": {
    "name": "ipython",
    "version": 3
   },
   "file_extension": ".py",
   "mimetype": "text/x-python",
   "name": "python",
   "nbconvert_exporter": "python",
   "pygments_lexer": "ipython3",
   "version": "3.11.8"
  }
 },
 "nbformat": 4,
 "nbformat_minor": 2
}
