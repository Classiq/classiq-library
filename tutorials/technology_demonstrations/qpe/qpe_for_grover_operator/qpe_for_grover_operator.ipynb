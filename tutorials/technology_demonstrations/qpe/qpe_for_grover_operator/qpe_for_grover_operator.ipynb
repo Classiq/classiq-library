{
 "cells": [
  {
   "cell_type": "markdown",
   "id": "dcc748a4-73fc-485c-a3d7-8c310c175dab",
   "metadata": {},
   "source": [
    "# Quantum Phase Estimation on a Grover Operator"
   ]
  },
  {
   "cell_type": "markdown",
   "id": "4207600f-f894-4d1a-975a-b2ea0f853de9",
   "metadata": {},
   "source": [
    "This notebook demonstrates the capability of Classiq's QPE function, focusing on a case where it is applied on a Grover Operator. This is the core of the Amplitude Estimation algorithm.\n",
    "\n",
    "The demonstration done for a toy model, where the Grover operator is constructed for a \"good state\" on 5 qubits $|\\psi\\rangle_{\\rm good}\\propto (|2\\rangle+|3\\rangle+|5\\rangle+|7\\rangle+|11\\rangle+|13\\rangle$)."
   ]
  },
  {
   "cell_type": "markdown",
   "id": "4961f424-89d2-4d7a-91a2-c5a6ad0dcf1d",
   "metadata": {},
   "source": [
    "## 1. Building a model with Classiq"
   ]
  },
  {
   "cell_type": "code",
   "execution_count": 1,
   "id": "52b8179b-ad39-469d-bc31-1d55fd5b0eb5",
   "metadata": {
    "execution": {
     "iopub.execute_input": "2024-07-31T10:40:57.838825Z",
     "iopub.status.busy": "2024-07-31T10:40:57.838361Z",
     "iopub.status.idle": "2024-07-31T10:41:01.112385Z",
     "shell.execute_reply": "2024-07-31T10:41:01.111740Z"
    }
   },
   "outputs": [],
   "source": [
    "from classiq import (\n",
    "    CArray,\n",
    "    CInt,\n",
    "    H,\n",
    "    Output,\n",
    "    QArray,\n",
    "    QBit,\n",
    "    QNum,\n",
    "    U,\n",
    "    X,\n",
    "    Z,\n",
    "    allocate,\n",
    "    allocate_num,\n",
    "    control,\n",
    "    create_model,\n",
    "    hadamard_transform,\n",
    "    invert,\n",
    "    qfunc,\n",
    "    qpe,\n",
    "    repeat,\n",
    "    synthesize,\n",
    "    within_apply,\n",
    ")"
   ]
  },
  {
   "cell_type": "code",
   "execution_count": 2,
   "id": "ba549e78-d739-462a-ac65-c4ddb177de2c",
   "metadata": {
    "execution": {
     "iopub.execute_input": "2024-07-31T10:41:01.115601Z",
     "iopub.status.busy": "2024-07-31T10:41:01.114920Z",
     "iopub.status.idle": "2024-07-31T10:41:01.119406Z",
     "shell.execute_reply": "2024-07-31T10:41:01.118702Z"
    }
   },
   "outputs": [
    {
     "name": "stdout",
     "output_type": "stream",
     "text": [
      "precisions: [1, 2, 3, 4, 5]\n"
     ]
    }
   ],
   "source": [
    "import numpy as np\n",
    "\n",
    "NUM_QUBITS = 5\n",
    "ints_to_flip = [2, 3, 5, 7, 11, 13]\n",
    "precisions = [l for l in range(1, 6)]\n",
    "print(\"precisions:\", precisions)"
   ]
  },
  {
   "cell_type": "code",
   "execution_count": 3,
   "id": "775e46ee-881d-4e32-a0dc-c481c93fdd1b",
   "metadata": {
    "execution": {
     "iopub.execute_input": "2024-07-31T10:41:01.121913Z",
     "iopub.status.busy": "2024-07-31T10:41:01.121408Z",
     "iopub.status.idle": "2024-07-31T10:41:01.124639Z",
     "shell.execute_reply": "2024-07-31T10:41:01.124055Z"
    }
   },
   "outputs": [],
   "source": [
    "transpilation_options = {\"classiq\": \"custom\", \"qiskit\": 3}"
   ]
  },
  {
   "cell_type": "markdown",
   "id": "63bf8ef7-fb6e-4139-9ece-eb3e499ad657",
   "metadata": {},
   "source": [
    "### 1.1 Constructing the Relevant Quantum Functions"
   ]
  },
  {
   "cell_type": "code",
   "execution_count": 4,
   "id": "4ed8f0be-9ab4-4f5d-a3ae-baefffd79cc2",
   "metadata": {
    "execution": {
     "iopub.execute_input": "2024-07-31T10:41:01.126828Z",
     "iopub.status.busy": "2024-07-31T10:41:01.126658Z",
     "iopub.status.idle": "2024-07-31T10:41:01.130484Z",
     "shell.execute_reply": "2024-07-31T10:41:01.129875Z"
    }
   },
   "outputs": [],
   "source": [
    "# qfunc for specific state preparation\n",
    "\n",
    "\n",
    "@qfunc\n",
    "def my_state_preparation(states: CArray[CInt], x: QNum, ind: QBit):\n",
    "\n",
    "    hadamard_transform(x)\n",
    "    repeat(states.len, lambda i: control(x == states[i], lambda: X(ind)))"
   ]
  },
  {
   "cell_type": "code",
   "execution_count": 5,
   "id": "d53b8c19-f4c5-42a8-b600-9f84fdda8a31",
   "metadata": {
    "execution": {
     "iopub.execute_input": "2024-07-31T10:41:01.132801Z",
     "iopub.status.busy": "2024-07-31T10:41:01.132434Z",
     "iopub.status.idle": "2024-07-31T10:41:01.136427Z",
     "shell.execute_reply": "2024-07-31T10:41:01.135801Z"
    }
   },
   "outputs": [],
   "source": [
    "# qfunc for grover\n",
    "import numpy as np\n",
    "\n",
    "\n",
    "@qfunc\n",
    "def my_grover(x: QNum, ind: QBit):\n",
    "    Z(ind)  # oracle for the good state\n",
    "    within_apply(\n",
    "        lambda: invert(lambda: my_state_preparation(ints_to_flip, x, ind)),\n",
    "        lambda: within_apply(\n",
    "            lambda: (X(ind), H(ind)), lambda: control(x == 0, lambda: X(ind))\n",
    "        ),  # zero oracle 1-|0><0|\n",
    "    )\n",
    "    U(0, 0, 0, np.pi, ind)"
   ]
  },
  {
   "cell_type": "code",
   "execution_count": 6,
   "id": "9cd7c98f-3474-42fb-9c60-d37cdce0b057",
   "metadata": {
    "execution": {
     "iopub.execute_input": "2024-07-31T10:41:01.138578Z",
     "iopub.status.busy": "2024-07-31T10:41:01.138408Z",
     "iopub.status.idle": "2024-07-31T10:41:01.141728Z",
     "shell.execute_reply": "2024-07-31T10:41:01.141020Z"
    }
   },
   "outputs": [],
   "source": [
    "from classiq import CustomHardwareSettings, Preferences\n",
    "\n",
    "preferences = Preferences(\n",
    "    custom_hardware_settings=CustomHardwareSettings(basis_gates=[\"cx\", \"u\"]),\n",
    "    transpilation_option=transpilation_options[\"classiq\"],\n",
    ")"
   ]
  },
  {
   "cell_type": "markdown",
   "id": "021b8f86-fcad-445b-b959-fd46aee827aa",
   "metadata": {},
   "source": [
    "### 1.2 Synthesizing with two Different Optimization Scenarios "
   ]
  },
  {
   "cell_type": "code",
   "execution_count": 7,
   "id": "e20fb039-d32a-4424-a0dc-191771412f51",
   "metadata": {
    "execution": {
     "iopub.execute_input": "2024-07-31T10:41:01.144002Z",
     "iopub.status.busy": "2024-07-31T10:41:01.143658Z",
     "iopub.status.idle": "2024-07-31T10:41:01.146753Z",
     "shell.execute_reply": "2024-07-31T10:41:01.146180Z"
    }
   },
   "outputs": [],
   "source": [
    "from classiq import (\n",
    "    Constraints,\n",
    "    OptimizationParameter,\n",
    "    QuantumProgram,\n",
    "    set_constraints,\n",
    "    set_preferences,\n",
    "    synthesize,\n",
    ")"
   ]
  },
  {
   "cell_type": "code",
   "execution_count": 8,
   "id": "efdf8b75-0c59-4f34-9435-81ad633903a2",
   "metadata": {
    "execution": {
     "iopub.execute_input": "2024-07-31T10:41:01.148957Z",
     "iopub.status.busy": "2024-07-31T10:41:01.148782Z",
     "iopub.status.idle": "2024-07-31T10:54:03.604474Z",
     "shell.execute_reply": "2024-07-31T10:54:03.603791Z"
    },
    "scrolled": true
   },
   "outputs": [
    {
     "name": "stdout",
     "output_type": "stream",
     "text": [
      "classiq depths: [866, 2596, 6056, 12976, 26816]\n",
      "classiq cx_counts: [513, 1544, 3600, 7713, 15929]\n",
      "classiq widths: [6, 7, 8, 9, 10]\n",
      "classiq depths: [420, 1256, 2948, 6242, 12848]\n",
      "classiq cx_counts: [237, 714, 1675, 3550, 7305]\n",
      "classiq widths: [15, 18, 21, 24, 27]\n"
     ]
    }
   ],
   "source": [
    "classiq_depths_ae_opt_width = []\n",
    "classiq_cx_counts_ae_opt_width = []\n",
    "classiq_widths_ae_opt_width = []\n",
    "\n",
    "classiq_cx_counts_ae_opt_depth_max_width = []\n",
    "classiq_depths_ae_opt_depth_max_width = []\n",
    "classiq_widths_ae_opt_depth_max_width = []\n",
    "\n",
    "\n",
    "for precision in precisions:\n",
    "\n",
    "    @qfunc\n",
    "    def main():\n",
    "        ind = QBit(\"ind\")\n",
    "        allocate(1, ind)\n",
    "        x = QNum(\"x\")\n",
    "        allocate_num(NUM_QUBITS - 1, False, 0, x)\n",
    "        phase = QNum(\"phase\")\n",
    "        allocate_num(precision, False, precision, phase)\n",
    "        qpe(lambda: my_grover(x, ind), phase)\n",
    "\n",
    "    qmod = create_model(main)\n",
    "    qprog = synthesize(qmod)\n",
    "\n",
    "    # width optimization\n",
    "    constraints = Constraints(\n",
    "        optimization_parameter=OptimizationParameter.WIDTH,\n",
    "    )\n",
    "    qmod = set_constraints(qmod, constraints=constraints)\n",
    "    qmod = set_preferences(qmod, preferences=preferences)\n",
    "    quantum_program = synthesize(qmod)\n",
    "    circuit = QuantumProgram.from_qprog(quantum_program)\n",
    "    classiq_widths_ae_opt_width.append(circuit.data.width)\n",
    "    classiq_depths_ae_opt_width.append(circuit.transpiled_circuit.depth)\n",
    "    classiq_cx_counts_ae_opt_width.append(circuit.transpiled_circuit.count_ops[\"cx\"])\n",
    "\n",
    "    # Depth Optimization with a Constrained Width\n",
    "    constraints = Constraints(\n",
    "        optimization_parameter=OptimizationParameter.DEPTH,\n",
    "        max_width=15 + 3 * (precision - 1),  # setting some bound\n",
    "    )\n",
    "    qmod = set_constraints(qmod, constraints=constraints)\n",
    "    qmod = set_preferences(qmod, preferences=preferences)\n",
    "    quantum_program = synthesize(qmod)\n",
    "    circuit = QuantumProgram.from_qprog(quantum_program)\n",
    "    classiq_widths_ae_opt_depth_max_width.append(circuit.data.width)\n",
    "    classiq_depths_ae_opt_depth_max_width.append(circuit.transpiled_circuit.depth)\n",
    "    classiq_cx_counts_ae_opt_depth_max_width.append(\n",
    "        circuit.transpiled_circuit.count_ops[\"cx\"]\n",
    "    )\n",
    "\n",
    "print(\"classiq depths:\", classiq_depths_ae_opt_width)\n",
    "print(\"classiq cx_counts:\", classiq_cx_counts_ae_opt_width)\n",
    "print(\"classiq widths:\", classiq_widths_ae_opt_width)\n",
    "\n",
    "print(\"classiq depths:\", classiq_depths_ae_opt_depth_max_width)\n",
    "print(\"classiq cx_counts:\", classiq_cx_counts_ae_opt_depth_max_width)\n",
    "print(\"classiq widths:\", classiq_widths_ae_opt_depth_max_width)"
   ]
  },
  {
   "cell_type": "markdown",
   "id": "93bace92-54e9-4688-9d36-b292a94d94e0",
   "metadata": {},
   "source": [
    "## 2. Comparing to Qiskit Implementation"
   ]
  },
  {
   "cell_type": "markdown",
   "id": "68268d2a-3aea-4df7-965d-0f1398bd2ea6",
   "metadata": {},
   "source": [
    "The qiskit data was generated using qiskit version 1.0.0. To run the qiskit code uncomment the commented cells below."
   ]
  },
  {
   "cell_type": "code",
   "execution_count": 9,
   "id": "f837f4ad-f21a-4ae5-bfc9-45411fd77ef5",
   "metadata": {
    "execution": {
     "iopub.execute_input": "2024-07-31T10:54:03.607950Z",
     "iopub.status.busy": "2024-07-31T10:54:03.607586Z",
     "iopub.status.idle": "2024-07-31T10:54:03.611133Z",
     "shell.execute_reply": "2024-07-31T10:54:03.610516Z"
    }
   },
   "outputs": [],
   "source": [
    "qiskit_depths_ae = [3094, 9262, 21596, 46254, 95560]\n",
    "qiskit_cx_counts_ae = [1712, 5130, 11958, 25604, 52884]\n",
    "qiskit_widths_ae = [6, 7, 8, 9, 10]"
   ]
  },
  {
   "cell_type": "code",
   "execution_count": 10,
   "id": "b89b9db3-6276-46cb-949b-ddeb60593c61",
   "metadata": {
    "execution": {
     "iopub.execute_input": "2024-07-31T10:54:03.613318Z",
     "iopub.status.busy": "2024-07-31T10:54:03.613145Z",
     "iopub.status.idle": "2024-07-31T10:54:03.615847Z",
     "shell.execute_reply": "2024-07-31T10:54:03.615268Z"
    }
   },
   "outputs": [],
   "source": [
    "# from importlib.metadata import version\n",
    "# try:\n",
    "#     import qiskit\n",
    "#     if version('qiskit') != \"1.0.0\":\n",
    "#       !pip uninstall qiskit -y\n",
    "#       !pip install qiskit==1.0.0\n",
    "# except ImportError:\n",
    "#     !pip install qiskit==1.0.0"
   ]
  },
  {
   "cell_type": "code",
   "execution_count": 11,
   "id": "7bb63fe2-8006-433a-8a8f-0cf11f3e9efb",
   "metadata": {
    "execution": {
     "iopub.execute_input": "2024-07-31T10:54:03.618296Z",
     "iopub.status.busy": "2024-07-31T10:54:03.617851Z",
     "iopub.status.idle": "2024-07-31T10:54:03.621145Z",
     "shell.execute_reply": "2024-07-31T10:54:03.620572Z"
    }
   },
   "outputs": [],
   "source": [
    "# import numpy as np\n",
    "# from qiskit import QuantumCircuit, QuantumRegister, transpile\n",
    "# from qiskit.circuit.library import GroverOperator, PhaseEstimation, XGate\n",
    "\n",
    "# # building the state preparation circuit, the last qubit is the indicator of good/bad state\n",
    "# state_preparation = QuantumCircuit(NUM_QUBITS)\n",
    "# for q in range(NUM_QUBITS - 1):\n",
    "#     state_preparation.h(q)\n",
    "\n",
    "# for states in states_to_flip:\n",
    "#     mcx = XGate().control(num_ctrl_qubits=NUM_QUBITS - 1, ctrl_state=states)\n",
    "#     state_preparation.append(mcx, [k for k in range(NUM_QUBITS)])\n",
    "\n",
    "# circuit = QuantumCircuit(NUM_QUBITS)\n",
    "# circuit.compose(state_preparation, [k for k in range(NUM_QUBITS)], inplace=True)\n",
    "\n",
    "# # building oracle\n",
    "# oracle = QuantumCircuit(NUM_QUBITS)\n",
    "# oracle.z(4)  # good state = last qubit is |1>\n",
    "\n",
    "# # building the grover operator\n",
    "# grover_op = GroverOperator(oracle, state_preparation=circuit, insert_barriers=True)\n",
    "\n",
    "\n",
    "# qiskit_depths_ae = []\n",
    "# qiskit_cx_counts_ae = []\n",
    "# qiskit_widths_ae = []\n",
    "# for precision in precisions:\n",
    "#     qpe_qc = PhaseEstimation(precision, circuit)\n",
    "#     transpiled_cir = transpile(\n",
    "#         qpe_qc,\n",
    "#         basis_gates=[\"u\", \"cx\"],\n",
    "#         optimization_level=transpilation_options[\"qiskit\"],\n",
    "#     )\n",
    "#     qiskit_depths_ae.append(transpiled_cir.depth())\n",
    "#     qiskit_cx_counts_ae.append(transpiled_cir.count_ops()[\"cx\"])\n",
    "#     qiskit_widths_ae.append(transpiled_cir.width())"
   ]
  },
  {
   "cell_type": "markdown",
   "id": "2a6a95f9-7b7a-4b7e-b06e-015f06bc1419",
   "metadata": {},
   "source": [
    "## 3. Plotting the Data"
   ]
  },
  {
   "cell_type": "code",
   "execution_count": 12,
   "id": "4ba34314-8f97-4e24-a1bc-970b9d6ece85",
   "metadata": {
    "execution": {
     "iopub.execute_input": "2024-07-31T10:54:03.623312Z",
     "iopub.status.busy": "2024-07-31T10:54:03.623144Z",
     "iopub.status.idle": "2024-07-31T10:54:03.973750Z",
     "shell.execute_reply": "2024-07-31T10:54:03.973073Z"
    }
   },
   "outputs": [
    {
     "data": {
      "text/plain": [
       "Text(4.8, 500.0, '(b)')"
      ]
     },
     "execution_count": 12,
     "metadata": {},
     "output_type": "execute_result"
    },
    {
     "data": {
      "image/png": "[encoded data removed]",
      "text/plain": [
       "<Figure size 640x480 with 1 Axes>"
      ]
     },
     "metadata": {},
     "output_type": "display_data"
    }
   ],
   "source": [
    "import matplotlib.pyplot as plt\n",
    "\n",
    "classiq_color = \"#119DA4\"\n",
    "classiq_color_1 = \"#F43764\"\n",
    "qiskit_color = \"#bb8bff\"\n",
    "plt.rcParams[\"font.family\"] = \"serif\"\n",
    "plt.rc(\"savefig\", dpi=300)\n",
    "plt.rcParams[\"axes.linewidth\"] = 1\n",
    "plt.rcParams[\"xtick.major.size\"] = 5\n",
    "plt.rcParams[\"xtick.minor.size\"] = 5\n",
    "plt.rcParams[\"ytick.major.size\"] = 5\n",
    "plt.rcParams[\"ytick.minor.size\"] = 5\n",
    "\n",
    "(qiskit1,) = plt.semilogy(\n",
    "    precisions,\n",
    "    qiskit_depths_ae,\n",
    "    \"-s\",\n",
    "    label=\"qiskit\",\n",
    "    markerfacecolor=qiskit_color,\n",
    "    markeredgecolor=\"k\",\n",
    "    markersize=6,\n",
    "    markeredgewidth=1.5,\n",
    "    color=qiskit_color,\n",
    ")\n",
    "\n",
    "(classiq1,) = plt.semilogy(\n",
    "    precisions,\n",
    "    classiq_depths_ae_opt_width,\n",
    "    \"-D\",\n",
    "    label=\"classiq width opt.\",\n",
    "    markerfacecolor=classiq_color,\n",
    "    markeredgecolor=\"k\",\n",
    "    markersize=6.5,\n",
    "    markeredgewidth=1.5,\n",
    "    color=classiq_color,\n",
    ")\n",
    "\n",
    "(classiq2,) = plt.semilogy(\n",
    "    precisions,\n",
    "    classiq_depths_ae_opt_depth_max_width,\n",
    "    \"-o\",\n",
    "    label=\"classiq depth opt.\",\n",
    "    markerfacecolor=classiq_color_1,\n",
    "    markeredgecolor=\"k\",\n",
    "    markersize=7,\n",
    "    markeredgewidth=1.5,\n",
    "    linewidth=1.5,\n",
    "    color=classiq_color_1,\n",
    ")\n",
    "\n",
    "\n",
    "first_legend = plt.legend(\n",
    "    handles=[qiskit1, classiq1, classiq2], fontsize=16, loc=\"upper left\"\n",
    ")\n",
    "\n",
    "\n",
    "plt.ylabel(\"Depth\", fontsize=16)\n",
    "plt.xlabel(\"QPE-precision\", fontsize=16)\n",
    "plt.yticks(fontsize=16)\n",
    "plt.xticks(fontsize=16)\n",
    "plt.axis(ymin=3e2, ymax=5e5)\n",
    "plt.xticks(precisions)\n",
    "\n",
    "\n",
    "for x, y, num_qubits in zip(\n",
    "    precisions, classiq_depths_ae_opt_width, classiq_widths_ae_opt_width\n",
    "):\n",
    "    plt.text(x * 0.94, y * 1.2, str(num_qubits), fontsize=16, color=classiq_color)\n",
    "for x, y, num_qubits in zip(\n",
    "    precisions,\n",
    "    classiq_depths_ae_opt_depth_max_width,\n",
    "    classiq_widths_ae_opt_depth_max_width,\n",
    "):\n",
    "    plt.text(x * 0.96, y * 1.25, str(num_qubits), fontsize=16, color=classiq_color_1)\n",
    "for x, y, num_qubits in zip(precisions, qiskit_depths_ae, qiskit_widths_ae):\n",
    "    plt.text(x * 0.98, y * 1.2, str(num_qubits), fontsize=16, color=qiskit_color)\n",
    "plt.text(4.8, 5e2, \"(b)\", fontsize=16)"
   ]
  }
 ],
 "metadata": {
  "kernelspec": {
   "display_name": "Python 3 (ipykernel)",
   "language": "python",
   "name": "python3"
  },
  "language_info": {
   "codemirror_mode": {
    "name": "ipython",
    "version": 3
   },
   "file_extension": ".py",
   "mimetype": "text/x-python",
   "name": "python",
   "nbconvert_exporter": "python",
   "pygments_lexer": "ipython3",
   "version": "3.11.9"
  }
 },
 "nbformat": 4,
 "nbformat_minor": 5
}
