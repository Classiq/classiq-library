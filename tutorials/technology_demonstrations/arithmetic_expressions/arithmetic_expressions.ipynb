{
 "cells": [
  {
   "cell_type": "markdown",
   "id": "1671dee4-9ac6-4baa-bcbc-2f708493ded9",
   "metadata": {},
   "source": [
    "# Arithmetic Expressions"
   ]
  },
  {
   "cell_type": "markdown",
   "id": "95af82ec-954f-4321-924a-352064eee8f4",
   "metadata": {},
   "source": [
    "This tutorial demonstrates automatic arithmetic operation management by the synthesis engine. It synthesizes a complex arithmetic expression, where uncomputation procedure, together with initialization and reuse of auxiliary qubits, are all automated. Given different **global** width or depth constraints results in different circuits."
   ]
  },
  {
   "cell_type": "markdown",
   "id": "9832b996-79c6-4f6d-8b49-6faac1891188",
   "metadata": {},
   "source": [
    "Define a quantum model that applies some quantum arithmetic operation on `QNum` variables."
   ]
  },
  {
   "cell_type": "code",
   "execution_count": 1,
   "id": "674d1423-6ac5-4f6b-8328-7073a72c0a28",
   "metadata": {
    "execution": {
     "iopub.execute_input": "2024-03-12T13:45:40.325799Z",
     "iopub.status.busy": "2024-03-12T13:45:40.324641Z",
     "iopub.status.idle": "2024-03-12T13:45:43.957036Z",
     "shell.execute_reply": "2024-03-12T13:45:43.956339Z"
    }
   },
   "outputs": [],
   "source": [
    "from classiq import Output, QBit, QNum, allocate, create_model, qfunc, synthesize\n",
    "from classiq.qmod.symbolic import max\n",
    "\n",
    "\n",
    "@qfunc\n",
    "def main(z: Output[QNum]):\n",
    "    x = QNum(\"x\")\n",
    "    y = QNum(\"y\")\n",
    "    allocate(2, x)\n",
    "    allocate(1, y)\n",
    "    z |= (2 * x + y + max(3 * y, 2)) > 4\n",
    "\n",
    "\n",
    "qmod = create_model(main)"
   ]
  },
  {
   "cell_type": "markdown",
   "id": "50dfe506-af0c-4300-a4b4-064b14567985",
   "metadata": {},
   "source": [
    "You can try different optimization scenarios, below we introduce two examples:\n",
    "1. Optimizing over depth and constraining the maximal width to 9 qubits.\n",
    "2. Optimizing over depth and constraining the maximal width to 12 qubits."
   ]
  },
  {
   "cell_type": "code",
   "execution_count": 2,
   "id": "ba0e933a-9878-4ce2-b5af-2e4c65638f60",
   "metadata": {
    "execution": {
     "iopub.execute_input": "2024-03-12T13:45:43.961091Z",
     "iopub.status.busy": "2024-03-12T13:45:43.960445Z",
     "iopub.status.idle": "2024-03-12T13:45:50.804188Z",
     "shell.execute_reply": "2024-03-12T13:45:50.803528Z"
    }
   },
   "outputs": [
    {
     "name": "stdout",
     "output_type": "stream",
     "text": [
      "Opening: https://platform.classiq.io/circuit/5c9aeae6-4771-468d-8291-2c095acbbc67?version=0.38.0.dev42%2Bfd36e2c41c\n"
     ]
    }
   ],
   "source": [
    "from classiq import (\n",
    "    Constraints,\n",
    "    Preferences,\n",
    "    set_constraints,\n",
    "    set_preferences,\n",
    "    show,\n",
    "    write_qmod,\n",
    ")\n",
    "\n",
    "constraints = Constraints(optimization_parameter=\"depth\", max_width=9)\n",
    "\n",
    "preferences = Preferences(random_seed=424788457)\n",
    "qmod = set_constraints(qmod, constraints)\n",
    "qmod = set_preferences(qmod, preferences)\n",
    "\n",
    "qprog = synthesize(qmod)\n",
    "show(qprog)\n",
    "\n",
    "write_qmod(qmod, \"arithmetic_demo_9_qubits\")"
   ]
  },
  {
   "cell_type": "markdown",
   "id": "2397fbdd-3a20-4e8f-bc53-6ff7b588b7ee",
   "metadata": {},
   "source": [
    "Change the quantum model constraint to treat the second scenario:"
   ]
  },
  {
   "cell_type": "code",
   "execution_count": 3,
   "id": "77d24a43-5114-46a0-8309-33af8fdc75fb",
   "metadata": {
    "execution": {
     "iopub.execute_input": "2024-03-12T13:45:50.807835Z",
     "iopub.status.busy": "2024-03-12T13:45:50.807375Z",
     "iopub.status.idle": "2024-03-12T13:45:57.248651Z",
     "shell.execute_reply": "2024-03-12T13:45:57.247761Z"
    }
   },
   "outputs": [
    {
     "name": "stdout",
     "output_type": "stream",
     "text": [
      "Opening: https://platform.classiq.io/circuit/81b43d3e-bfad-4ace-8512-198695f706d6?version=0.38.0.dev42%2Bfd36e2c41c\n"
     ]
    }
   ],
   "source": [
    "constraints = Constraints(optimization_parameter=\"depth\", max_width=12)\n",
    "qmod = set_constraints(qmod, constraints)\n",
    "\n",
    "qprog = synthesize(qmod)\n",
    "show(qprog)\n",
    "\n",
    "write_qmod(qmod, \"arithmetic_demo_12_qubits\")"
   ]
  }
 ],
 "metadata": {
  "kernelspec": {
   "display_name": "Python 3 (ipykernel)",
   "language": "python",
   "name": "python3"
  },
  "language_info": {
   "codemirror_mode": {
    "name": "ipython",
    "version": 3
   },
   "file_extension": ".py",
   "mimetype": "text/x-python",
   "name": "python",
   "nbconvert_exporter": "python",
   "pygments_lexer": "ipython3",
   "version": "3.11.8"
  }
 },
 "nbformat": 4,
 "nbformat_minor": 5
}
