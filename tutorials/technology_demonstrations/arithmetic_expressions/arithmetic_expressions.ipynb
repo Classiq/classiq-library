{
 "cells": [
  {
   "cell_type": "markdown",
   "id": "1671dee4-9ac6-4baa-bcbc-2f708493ded9",
   "metadata": {},
   "source": [
    "# Arithmetic Expressions"
   ]
  },
  {
   "cell_type": "markdown",
   "id": "95af82ec-954f-4321-924a-352064eee8f4",
   "metadata": {},
   "source": [
    "This tutorial demonstrates automatic arithmetic operation management by the synthesis engine. It synthesizes a complex arithmetic expression, where uncomputation procedure, together with initialization and reuse of auxiliary qubits, are all automated. Given different **global** width or depth constraints results in different circuits."
   ]
  },
  {
   "cell_type": "markdown",
   "id": "9832b996-79c6-4f6d-8b49-6faac1891188",
   "metadata": {},
   "source": [
    "Define a quantum model that applies some quantum arithmetic operation on `QNum` variables."
   ]
  },
  {
   "cell_type": "code",
   "execution_count": 1,
   "id": "674d1423-6ac5-4f6b-8328-7073a72c0a28",
   "metadata": {},
   "outputs": [],
   "source": [
    "from classiq import *\n",
    "from classiq.qmod.symbolic import max\n",
    "\n",
    "\n",
    "@qfunc\n",
    "def main(z: Output[QNum]):\n",
    "    x = QNum(\"x\")\n",
    "    y = QNum(\"y\")\n",
    "    x |= 2\n",
    "    y |= 1\n",
    "    z |= (2 * x + y + max(3 * y, 2)) > 4\n",
    "\n",
    "\n",
    "qmod = create_model(main)\n",
    "qmod = set_preferences(qmod, random_seed=424788457)"
   ]
  },
  {
   "cell_type": "markdown",
   "id": "50dfe506-af0c-4300-a4b4-064b14567985",
   "metadata": {},
   "source": [
    "You can try different optimization scenarios, below we introduce two examples:\n",
    "1. Optimizing over depth and constraining the maximal width to 9 qubits.\n",
    "2. Optimizing over depth and constraining the maximal width to 12 qubits."
   ]
  },
  {
   "cell_type": "markdown",
   "id": "5474a102",
   "metadata": {},
   "source": [
    "Optimizing over depth and constraining the maximal width to 9 qubits"
   ]
  },
  {
   "cell_type": "code",
   "execution_count": 2,
   "id": "ba0e933a-9878-4ce2-b5af-2e4c65638f60",
   "metadata": {},
   "outputs": [
    {
     "name": "stdout",
     "output_type": "stream",
     "text": [
      "",
      "The result of the arithmetic calculation:  [{'z': 1.0}: 2048]\n"
     ]
    }
   ],
   "source": [
    "NUM_QUBITS_1 = 9\n",
    "qmod_1 = set_constraints(qmod, optimization_parameter=\"depth\", max_width=NUM_QUBITS_1)\n",
    "write_qmod(qmod_1, f\"arithmetic_demo_{NUM_QUBITS_1}_qubits\")\n",
    "\n",
    "qprog_1 = synthesize(qmod_1)\n",
    "show(qprog_1)\n",
    "\n",
    "result = execute(qprog_1).result_value()\n",
    "print(\"The result of the arithmetic calculation: \", result.parsed_counts)"
   ]
  },
  {
   "cell_type": "markdown",
   "id": "2397fbdd-3a20-4e8f-bc53-6ff7b588b7ee",
   "metadata": {},
   "source": [
    "Change the quantum model constraint to treat the second scenario for optimizing over depth and constraining the maximal width to 12 qubits: "
   ]
  },
  {
   "cell_type": "code",
   "execution_count": 3,
   "id": "77d24a43-5114-46a0-8309-33af8fdc75fb",
   "metadata": {},
   "outputs": [
    {
     "name": "stdout",
     "output_type": "stream",
     "text": [
      "",
      "The result of the arithmetic calculation:  [{'z': 1.0}: 2048]\n"
     ]
    }
   ],
   "source": [
    "NUM_QUBITS_2 = 12\n",
    "qmod_2 = set_constraints(qmod, optimization_parameter=\"depth\", max_width=NUM_QUBITS_2)\n",
    "write_qmod(qmod_2, f\"arithmetic_demo_{NUM_QUBITS_2}_qubits\")\n",
    "\n",
    "qprog_2 = synthesize(qmod_2)\n",
    "show(qprog_2)\n",
    "\n",
    "result = execute(qprog_2).result_value()\n",
    "print(\"The result of the arithmetic calculation: \", result.parsed_counts)"
   ]
  },
  {
   "cell_type": "markdown",
   "id": "ad94a769",
   "metadata": {},
   "source": [
    " ### Mathematical Background\n",
    " \n",
    " The given mathematical expression:\n",
    " $$z = (2 \\cdot x + y + \\max(3 \\cdot y, 2)) > 4$$ \n",
    " is solved by the automatic arithmetic operation management, optimizing over depth and constraining the maximal width to 9 and 12 qubits, which outputs the value for z.\n",
    " \n",
    " __The `parsed_counts` result:__\n",
    " - Optimizing over depth and constraining the maximal width to 9 qubits: `[{'z': 1.0}: 2048]`\n",
    " - Optimizing over depth and constraining the maximal width to 12 qubits: `[{'z': 1.0}: 2048]`\n",
    "\n",
    "Both the result are same which verifies the arithmetic expression to be True.\n",
    " \n",
    " __The expected result__:<br>\n",
    " \n",
    " Allocated values:\n",
    " \n",
    " $$x = 2, \\,\\,\\, y = 1$$\n",
    " \n",
    " \n",
    " Expression Calculation:\n",
    "\n",
    " $$2 \\cdot x + y = 2 \\cdot 2 + 1 = 4 + 1 = 5 \\,\\,\\, 3 \\cdot y = 3 \\cdot 1 = 3 \\,\\,\\, \\max(3 \\cdot y, 2) = \\max(3, 2) = 3$$\n",
    " \n",
    " Therefore:\n",
    " \n",
    " $$2 \\cdot x + y + \\max(3 \\cdot y, 2) = 5 + 3 = 8$$\n",
    " \n",
    " As $$8 > 4 \\implies \\text{True}$$\n",
    " z is assigned the value True : $z \\implies 1$"
   ]
  }
 ],
 "metadata": {
  "kernelspec": {
   "display_name": "Python 3 (ipykernel)",
   "language": "python",
   "name": "python3"
  },
  "language_info": {
   "codemirror_mode": {
    "name": "ipython",
    "version": 3
   },
   "file_extension": ".py",
   "mimetype": "text/x-python",
   "name": "python",
   "nbconvert_exporter": "python",
   "pygments_lexer": "ipython3",
   "version": "3.11.7"
  }
 },
 "nbformat": 4,
 "nbformat_minor": 5
}
