{
 "cells": [
  {
   "cell_type": "markdown",
   "id": "bd0767f1-e6c8-4882-a019-a6b329ff80c5",
   "metadata": {},
   "source": [
    "# Hamiltonian Evolution for a Water Molecule"
   ]
  },
  {
   "cell_type": "markdown",
   "id": "a7e91388-b582-4cc0-a751-458018ee4cc6",
   "metadata": {},
   "source": [
    "This tutorial demonstrates the ability of the Classiq synthesis engine to reduce depth and cx-counts in approximated quantum functions for Hamiltonian evolution, focusing on Suzuki-Trotter (ST) and qDRIFT (qD) product formulas and their controlled operations. In addition, it is compared to the equivalent quantum examples in Qiskit.\n",
    "\n",
    "The demonstration is for the Hamiltonian of a water molecule, which has 551 terms and a dimension of 12 qubits."
   ]
  },
  {
   "cell_type": "markdown",
   "id": "413480ab-1651-4c7d-94db-1ce8e5f69d20",
   "metadata": {},
   "source": [
    "Define a molecule and get the Hamiltonian as a list of Pauli strings and coefficients:"
   ]
  },
  {
   "cell_type": "code",
   "execution_count": 1,
   "id": "d64a5d31-f78a-4078-9b29-01745baff9ea",
   "metadata": {
    "execution": {
     "iopub.execute_input": "2024-03-12T13:58:29.620058Z",
     "iopub.status.busy": "2024-03-12T13:58:29.618644Z",
     "iopub.status.idle": "2024-03-12T13:58:37.418641Z",
     "shell.execute_reply": "2024-03-12T13:58:37.417766Z"
    }
   },
   "outputs": [],
   "source": [
    "from classiq.applications.chemistry import Molecule, MoleculeProblem\n",
    "\n",
    "molecule_H2O = Molecule(\n",
    "    atoms=[(\"O\", (0.0, 0.0, 0.0)), (\"H\", (0, 0.586, 0.757)), (\"H\", (0, 0.586, -0.757))]\n",
    ")\n",
    "\n",
    "gs_problem = MoleculeProblem(\n",
    "    molecule=molecule_H2O,\n",
    "    basis=\"sto3g\",\n",
    "    mapping=\"jordan_wigner\",\n",
    "    z2_symmetries=False,\n",
    "    freeze_core=True,\n",
    ")\n",
    "\n",
    "pauli_list = gs_problem.generate_hamiltonian().pauli_list"
   ]
  },
  {
   "cell_type": "markdown",
   "id": "01b28568-abd7-4d5f-92a3-563c4046079a",
   "metadata": {},
   "source": [
    "Transfer the Hamiltonian to the relevant structure in Classiq:"
   ]
  },
  {
   "cell_type": "code",
   "execution_count": 2,
   "id": "f7aac614-005f-4614-99fb-de19a34d1c3b",
   "metadata": {
    "execution": {
     "iopub.execute_input": "2024-03-12T13:58:37.423293Z",
     "iopub.status.busy": "2024-03-12T13:58:37.422505Z",
     "iopub.status.idle": "2024-03-12T13:58:37.431122Z",
     "shell.execute_reply": "2024-03-12T13:58:37.430243Z"
    }
   },
   "outputs": [],
   "source": [
    "from typing import cast\n",
    "\n",
    "from classiq import Pauli, PauliTerm\n",
    "\n",
    "my_list = {\"I\": Pauli.I, \"X\": Pauli.X, \"Y\": Pauli.Y, \"Z\": Pauli.Z}\n",
    "\n",
    "\n",
    "def pauli_str_to_enums(pauli):\n",
    "    return [my_list[s] for s in pauli]\n",
    "\n",
    "\n",
    "def pauli_list_to_hamiltonian(pauli_list):\n",
    "    return [\n",
    "        PauliTerm(\n",
    "            pauli=pauli_str_to_enums(pauli), coefficient=cast(complex, coeff).real\n",
    "        )\n",
    "        for pauli, coeff in pauli_list\n",
    "    ]\n",
    "\n",
    "\n",
    "hamiltonian = pauli_list_to_hamiltonian(pauli_list)"
   ]
  },
  {
   "cell_type": "markdown",
   "id": "0ecd6398-cf5b-4f1b-8030-0db67240632d",
   "metadata": {},
   "source": [
    "These cases are examined:"
   ]
  },
  {
   "cell_type": "code",
   "execution_count": 3,
   "id": "0d298142-af2e-4f58-b72f-c672ff884632",
   "metadata": {
    "execution": {
     "iopub.execute_input": "2024-03-12T13:58:37.434828Z",
     "iopub.status.busy": "2024-03-12T13:58:37.434293Z",
     "iopub.status.idle": "2024-03-12T13:58:37.439869Z",
     "shell.execute_reply": "2024-03-12T13:58:37.439129Z"
    }
   },
   "outputs": [],
   "source": [
    "ORDERS_for_ST = [1, 2, 4]\n",
    "REPETITIONS_for_ST = [6, 4, 1]\n",
    "N_QDS_for_qDRIFT = [1000, 2000]"
   ]
  },
  {
   "cell_type": "code",
   "execution_count": 4,
   "id": "d148c026-b738-4d20-a52d-5baa2744c895",
   "metadata": {
    "execution": {
     "iopub.execute_input": "2024-03-12T13:58:37.443889Z",
     "iopub.status.busy": "2024-03-12T13:58:37.443201Z",
     "iopub.status.idle": "2024-03-12T13:58:37.447460Z",
     "shell.execute_reply": "2024-03-12T13:58:37.446487Z"
    }
   },
   "outputs": [],
   "source": [
    "classiq_depths = []\n",
    "classiq_cx_counts = []"
   ]
  },
  {
   "cell_type": "code",
   "execution_count": 5,
   "id": "bc0c3580-0eca-4d28-9ed9-aac79c4c7fee",
   "metadata": {
    "execution": {
     "iopub.execute_input": "2024-03-12T13:58:37.451069Z",
     "iopub.status.busy": "2024-03-12T13:58:37.450654Z",
     "iopub.status.idle": "2024-03-12T13:58:37.455376Z",
     "shell.execute_reply": "2024-03-12T13:58:37.454572Z"
    }
   },
   "outputs": [],
   "source": [
    "# transpilation_options = {\"classiq\": \"custom\", \"qiskit\": 3}\n",
    "transpilation_options = {\"classiq\": \"auto optimize\", \"qiskit\": 1}"
   ]
  },
  {
   "cell_type": "markdown",
   "id": "4df7bde1-2d12-4645-9315-9e289c46c3df",
   "metadata": {},
   "source": [
    "## 1. Approximating with Suzuki-Trotter formulas"
   ]
  },
  {
   "cell_type": "code",
   "execution_count": 6,
   "id": "8a323cb5-c0a1-446c-9e47-b1cb5b4c80c5",
   "metadata": {
    "execution": {
     "iopub.execute_input": "2024-03-12T13:58:37.459260Z",
     "iopub.status.busy": "2024-03-12T13:58:37.458547Z",
     "iopub.status.idle": "2024-03-12T14:03:59.676725Z",
     "shell.execute_reply": "2024-03-12T14:03:59.675882Z"
    }
   },
   "outputs": [],
   "source": [
    "from classiq import (\n",
    "    CustomHardwareSettings,\n",
    "    Preferences,\n",
    "    QArray,\n",
    "    QuantumProgram,\n",
    "    allocate,\n",
    "    create_model,\n",
    "    qfunc,\n",
    "    set_preferences,\n",
    "    suzuki_trotter,\n",
    "    synthesize,\n",
    ")\n",
    "\n",
    "preferences = Preferences(\n",
    "    custom_hardware_settings=CustomHardwareSettings(basis_gates=[\"cx\", \"u\"]),\n",
    "    transpilation_option=transpilation_options[\"classiq\"],\n",
    ")\n",
    "\n",
    "for k in range(len(ORDERS_for_ST)):\n",
    "\n",
    "    @qfunc\n",
    "    def main() -> None:\n",
    "        qbv = QArray(\"qbv\")\n",
    "        allocate(len(pauli_list[0][0]), qbv)\n",
    "        suzuki_trotter(\n",
    "            pauli_operator=hamiltonian,\n",
    "            evolution_coefficient=1,\n",
    "            order=ORDERS_for_ST[k],\n",
    "            repetitions=REPETITIONS_for_ST[k],\n",
    "            qbv=qbv,\n",
    "        )\n",
    "\n",
    "    qmod = create_model(main)\n",
    "\n",
    "    qmod = set_preferences(qmod, preferences=preferences)\n",
    "    qprog = synthesize(qmod)\n",
    "\n",
    "    circuit = QuantumProgram.from_qprog(qprog)\n",
    "\n",
    "    classiq_depths.append(circuit.transpiled_circuit.depth)\n",
    "    classiq_cx_counts.append(circuit.transpiled_circuit.count_ops[\"cx\"])"
   ]
  },
  {
   "cell_type": "markdown",
   "id": "ebb8ec58-ddf2-4d58-abc6-b3bfc4c101b5",
   "metadata": {},
   "source": [
    "## 2. Implementing Controlled Hamiltonian Dynamics"
   ]
  },
  {
   "cell_type": "code",
   "execution_count": 7,
   "id": "dc5ac60e-b552-4caa-9d33-dd754f132193",
   "metadata": {
    "execution": {
     "iopub.execute_input": "2024-03-12T14:03:59.682295Z",
     "iopub.status.busy": "2024-03-12T14:03:59.681029Z",
     "iopub.status.idle": "2024-03-12T14:09:12.320461Z",
     "shell.execute_reply": "2024-03-12T14:09:12.319526Z"
    }
   },
   "outputs": [],
   "source": [
    "from classiq import QBit, control\n",
    "\n",
    "for k in range(2):\n",
    "\n",
    "    @qfunc\n",
    "    def main() -> None:\n",
    "        qbv = QArray(\"qbv\")\n",
    "        allocate(len(pauli_list[0][0]), qbv)\n",
    "        ctrl = QBit(\"ctrl\")\n",
    "        allocate(1, ctrl)\n",
    "        control(\n",
    "            operand=lambda: suzuki_trotter(\n",
    "                pauli_operator=hamiltonian,\n",
    "                evolution_coefficient=1,\n",
    "                order=ORDERS_for_ST[k],\n",
    "                repetitions=REPETITIONS_for_ST[k],\n",
    "                qbv=qbv,\n",
    "            ),\n",
    "            ctrl=ctrl,\n",
    "        )\n",
    "\n",
    "    qmod = create_model(main)\n",
    "\n",
    "    qmod = set_preferences(qmod, preferences=preferences)\n",
    "    qprog = synthesize(qmod)\n",
    "    circuit = QuantumProgram.from_qprog(qprog)\n",
    "\n",
    "    classiq_depths.append(circuit.transpiled_circuit.depth)\n",
    "    classiq_cx_counts.append(circuit.transpiled_circuit.count_ops[\"cx\"])"
   ]
  },
  {
   "cell_type": "markdown",
   "id": "18cc481e-592a-4c37-bfbf-ce2c03e745b4",
   "metadata": {},
   "source": [
    "## 3. Approximating with the qDRIFT Formula"
   ]
  },
  {
   "cell_type": "code",
   "execution_count": 8,
   "id": "513a076e-53f0-4db2-b6ce-c8a45231f81f",
   "metadata": {
    "execution": {
     "iopub.execute_input": "2024-03-12T14:09:12.326763Z",
     "iopub.status.busy": "2024-03-12T14:09:12.325405Z",
     "iopub.status.idle": "2024-03-12T14:10:22.457851Z",
     "shell.execute_reply": "2024-03-12T14:10:22.456892Z"
    }
   },
   "outputs": [],
   "source": [
    "from classiq import qdrift\n",
    "\n",
    "for n_qd in N_QDS_for_qDRIFT:\n",
    "\n",
    "    @qfunc\n",
    "    def main() -> None:\n",
    "        qbv = QArray(\"qbv\")\n",
    "        allocate(len(pauli_list[0][0]), qbv)\n",
    "        qdrift(\n",
    "            pauli_operator=hamiltonian,\n",
    "            evolution_coefficient=1,\n",
    "            num_qdrift=n_qd,\n",
    "            qbv=qbv,\n",
    "        )\n",
    "\n",
    "    qmod = create_model(main)\n",
    "\n",
    "    qmod = set_preferences(qmod, preferences=preferences)\n",
    "    qprog = synthesize(qmod)\n",
    "    circuit = QuantumProgram.from_qprog(qprog)\n",
    "\n",
    "    classiq_depths.append(circuit.transpiled_circuit.depth)\n",
    "    classiq_cx_counts.append(circuit.transpiled_circuit.count_ops[\"cx\"])"
   ]
  },
  {
   "cell_type": "markdown",
   "id": "a6f5aa9d-6db0-4573-ae44-e8dfe462f34d",
   "metadata": {},
   "source": [
    "## 4. Comparing to Qiskit Implementation"
   ]
  },
  {
   "cell_type": "markdown",
   "id": "ad0fc034-3256-45a8-b720-242ff23c5eb4",
   "metadata": {},
   "source": [
    "Comments:\n",
    "* Qiskit's Suzuki-Trotter of order 1 is a separate function, called the Lie-Trotter function.\n",
    "* Qiskit's qDRIFT takes a long time to run for unclear problems. Alternatively, a random product formula is implemented, which is equivalent to qDRIFT.\n",
    "\n",
    "The qiskit data was generated using qiskit version 1.0.0. To run the qiskit code uncomment the commented cells below."
   ]
  },
  {
   "cell_type": "code",
   "execution_count": 9,
   "id": "4378be53-a9e0-428a-926d-446876dca344",
   "metadata": {
    "execution": {
     "iopub.execute_input": "2024-03-12T14:10:22.463118Z",
     "iopub.status.busy": "2024-03-12T14:10:22.461873Z",
     "iopub.status.idle": "2024-03-12T14:10:22.467472Z",
     "shell.execute_reply": "2024-03-12T14:10:22.466692Z"
    }
   },
   "outputs": [],
   "source": [
    "qiskit_cx_counts = [25164, 33508, 41882, 186067, 248232, 3581, 7404]\n",
    "qiskit_depths = [30627, 42879, 53581, 300924, 402125, 3463, 7141]"
   ]
  },
  {
   "cell_type": "code",
   "execution_count": 10,
   "id": "24af414b-5dbf-454e-9174-a45f3639f143",
   "metadata": {
    "execution": {
     "iopub.execute_input": "2024-03-12T14:10:22.472222Z",
     "iopub.status.busy": "2024-03-12T14:10:22.470956Z",
     "iopub.status.idle": "2024-03-12T14:10:22.475945Z",
     "shell.execute_reply": "2024-03-12T14:10:22.475291Z"
    }
   },
   "outputs": [],
   "source": [
    "# from importlib.metadata import version\n",
    "# try:\n",
    "#     import qiskit\n",
    "#     if version('qiskit') != \"1.0.0\":\n",
    "#       !pip uninstall qiskit -y\n",
    "#       !pip install qiskit==1.0.0\n",
    "# except ImportError:\n",
    "#     !pip install qiskit==1.0.0"
   ]
  },
  {
   "cell_type": "code",
   "execution_count": 11,
   "id": "1bb7fa99-5386-4e77-83fd-1bb16c8b5ce1",
   "metadata": {
    "execution": {
     "iopub.execute_input": "2024-03-12T14:10:22.480788Z",
     "iopub.status.busy": "2024-03-12T14:10:22.479553Z",
     "iopub.status.idle": "2024-03-12T14:10:22.484442Z",
     "shell.execute_reply": "2024-03-12T14:10:22.483775Z"
    }
   },
   "outputs": [],
   "source": [
    "# from qiskit.circuit.library import PauliEvolutionGate\n",
    "# from qiskit.quantum_info import SparsePauliOp\n",
    "# from qiskit.synthesis import LieTrotter as LieTrotter_qiskit\n",
    "\n",
    "# qiskit_depths = []\n",
    "# qiskit_cx_counts = []\n",
    "\n",
    "# operator = SparsePauliOp.from_list(pauli_list)\n",
    "# gate = PauliEvolutionGate(operator, 1)"
   ]
  },
  {
   "cell_type": "code",
   "execution_count": 12,
   "id": "0eb7f9a6-35b3-4af3-b3cf-1d426c1b8ac4",
   "metadata": {
    "execution": {
     "iopub.execute_input": "2024-03-12T14:10:22.489661Z",
     "iopub.status.busy": "2024-03-12T14:10:22.488208Z",
     "iopub.status.idle": "2024-03-12T14:10:22.493174Z",
     "shell.execute_reply": "2024-03-12T14:10:22.492541Z"
    }
   },
   "outputs": [],
   "source": [
    "# ## Suzuki-Trotter of order 1 = Lie-Trotter\n",
    "# from qiskit import transpile\n",
    "\n",
    "# lt = LieTrotter_qiskit(reps=REPETITIONS_for_ST[0])\n",
    "# circ = lt.synthesize(gate)\n",
    "# tqc = transpile(\n",
    "#     circ, basis_gates=[\"u\", \"cx\"], optimization_level=transpilation_options[\"qiskit\"]\n",
    "# )\n",
    "# qiskit_depths.append(tqc.depth())\n",
    "# qiskit_cx_counts.append(tqc.count_ops()[\"cx\"])"
   ]
  },
  {
   "cell_type": "code",
   "execution_count": 13,
   "id": "13e10729-8ab9-43b6-b9a5-10da29344c77",
   "metadata": {
    "execution": {
     "iopub.execute_input": "2024-03-12T14:10:22.497934Z",
     "iopub.status.busy": "2024-03-12T14:10:22.496630Z",
     "iopub.status.idle": "2024-03-12T14:10:22.501656Z",
     "shell.execute_reply": "2024-03-12T14:10:22.500996Z"
    }
   },
   "outputs": [],
   "source": [
    "# ## Suzuki-Trotter\n",
    "# from qiskit.synthesis import SuzukiTrotter as SuzukiTrotter_qiskit\n",
    "\n",
    "# for k in range(1, 3):\n",
    "#     st = SuzukiTrotter_qiskit(order=ORDERS_for_ST[k], reps=REPETITIONS_for_ST[k])\n",
    "#     circ = st.synthesize(gate)\n",
    "#     tqc = transpile(\n",
    "#         circ,\n",
    "#         basis_gates=[\"u\", \"cx\"],\n",
    "#         optimization_level=transpilation_options[\"qiskit\"],\n",
    "#     )\n",
    "#     qiskit_depths.append(tqc.depth())\n",
    "#     qiskit_cx_counts.append(tqc.count_ops()[\"cx\"])"
   ]
  },
  {
   "cell_type": "code",
   "execution_count": 14,
   "id": "147fcc08-34a2-401d-99d7-4e86cb2970d6",
   "metadata": {
    "execution": {
     "iopub.execute_input": "2024-03-12T14:10:22.506482Z",
     "iopub.status.busy": "2024-03-12T14:10:22.505222Z",
     "iopub.status.idle": "2024-03-12T14:10:22.510624Z",
     "shell.execute_reply": "2024-03-12T14:10:22.509954Z"
    }
   },
   "outputs": [],
   "source": [
    "# # Controlled dynamics\n",
    "# lt_ctrl = LieTrotter_qiskit(reps=REPETITIONS_for_ST[0])\n",
    "# circ = lt_ctrl.synthesize(gate).control(1)\n",
    "# tqc = transpile(\n",
    "#     circ, basis_gates=[\"u\", \"cx\"], optimization_level=transpilation_options[\"qiskit\"]\n",
    "# )\n",
    "# qiskit_depths.append(tqc.depth())\n",
    "# qiskit_cx_counts.append(tqc.count_ops()[\"cx\"])\n",
    "\n",
    "# for k in range(1, 2):\n",
    "#     st_ctrl = SuzukiTrotter_qiskit(order=ORDERS_for_ST[k], reps=REPETITIONS_for_ST[k])\n",
    "#     circ = st_ctrl.synthesize(gate).control(1)\n",
    "#     tqc = transpile(\n",
    "#         circ,\n",
    "#         basis_gates=[\"u\", \"cx\"],\n",
    "#         optimization_level=transpilation_options[\"qiskit\"],\n",
    "#     )\n",
    "#     qiskit_depths.append(tqc.depth())\n",
    "#     qiskit_cx_counts.append(tqc.count_ops()[\"cx\"])"
   ]
  },
  {
   "cell_type": "code",
   "execution_count": 15,
   "id": "a2a13e01-e283-44fb-b65f-f50c3e9edc6a",
   "metadata": {
    "execution": {
     "iopub.execute_input": "2024-03-12T14:10:22.515416Z",
     "iopub.status.busy": "2024-03-12T14:10:22.514070Z",
     "iopub.status.idle": "2024-03-12T14:10:22.520398Z",
     "shell.execute_reply": "2024-03-12T14:10:22.519686Z"
    }
   },
   "outputs": [],
   "source": [
    "# ## For qDRIFT, generate a random sequence\n",
    "# import numpy as np\n",
    "\n",
    "\n",
    "# def index_channel(n, list_coe):\n",
    "#     \"\"\"\n",
    "#     This function gets an ordered list of coefficients 'list_coe' and a number of calls 'n' as inputs.\n",
    "#     It returns a random ordered list of size n with elements from list_coe',\n",
    "#     where the probability of choosing the i-th elements is list_coe[i]/sum(list_coe),\n",
    "#     \"\"\"\n",
    "#     coe = np.array(list_coe) / sum(list_coe)\n",
    "#     c_coe = np.cumsum(coe)\n",
    "#     return np.searchsorted(c_coe, np.random.uniform(size=n))\n",
    "\n",
    "\n",
    "# assert (\n",
    "#     pauli_list[0][0] == len(pauli_list[0][0]) * \"I\"\n",
    "# ), \"\"\"The Identity term is not the first on the list of Paulis,\n",
    "# please modify the code accordingly \"\"\"\n",
    "\n",
    "# pauli_list_without_id = pauli_list[1::]\n",
    "# po_coe = [\n",
    "#     np.abs(np.real(p[1])) for p in pauli_list_without_id\n",
    "# ]  # gets absolute value of coefficients\n",
    "\n",
    "# for n_qd in N_QDS_for_qDRIFT:\n",
    "#     new_indices = index_channel(n_qd, po_coe)\n",
    "#     small_lambda = sum(po_coe)\n",
    "#     randomly_generated_pauli_list = [\n",
    "#         (\n",
    "#             pauli_list_without_id[new_indices[k]][0],\n",
    "#             np.sign(pauli_list_without_id[new_indices[k]][1]) * small_lambda / n_qd,\n",
    "#         )\n",
    "#         for k in range(n_qd)\n",
    "#     ]\n",
    "#     randomly_generated_pauli_list += [pauli_list[0]]  # adding the identity\n",
    "#     gate_qd = PauliEvolutionGate(\n",
    "#         SparsePauliOp.from_list(randomly_generated_pauli_list), 1\n",
    "#     )\n",
    "#     qd = LieTrotter_qiskit(reps=1)\n",
    "#     circ = qd.synthesize(gate_qd)\n",
    "#     tqc = transpile(\n",
    "#         circ,\n",
    "#         basis_gates=[\"u\", \"cx\"],\n",
    "#         optimization_level=transpilation_options[\"qiskit\"],\n",
    "#     )\n",
    "#     qiskit_depths.append(tqc.depth())\n",
    "#     qiskit_cx_counts.append(tqc.count_ops()[\"cx\"])"
   ]
  },
  {
   "cell_type": "markdown",
   "id": "1da75c20-bb12-4884-862f-7f341874f764",
   "metadata": {},
   "source": [
    "## 5. Plotting the Data"
   ]
  },
  {
   "cell_type": "code",
   "execution_count": 16,
   "id": "e455df3f-96c0-4c70-a78b-1914644bf7f8",
   "metadata": {
    "execution": {
     "iopub.execute_input": "2024-03-12T14:10:22.525204Z",
     "iopub.status.busy": "2024-03-12T14:10:22.523920Z",
     "iopub.status.idle": "2024-03-12T14:10:22.531665Z",
     "shell.execute_reply": "2024-03-12T14:10:22.531030Z"
    }
   },
   "outputs": [
    {
     "name": "stdout",
     "output_type": "stream",
     "text": [
      "The cx-counts on Classiq: [15588, 20798, 25992, 22188, 29598, 3190, 6736]\n",
      "The cx-counts on Qiskit: [25164, 33508, 41882, 186067, 248232, 3581, 7404]\n"
     ]
    }
   ],
   "source": [
    "print(\"The cx-counts on Classiq:\", classiq_cx_counts)\n",
    "print(\"The cx-counts on Qiskit:\", qiskit_cx_counts)"
   ]
  },
  {
   "cell_type": "code",
   "execution_count": 17,
   "id": "b62b44d6-4525-4c0a-92b1-61998cd945f9",
   "metadata": {
    "execution": {
     "iopub.execute_input": "2024-03-12T14:10:22.536707Z",
     "iopub.status.busy": "2024-03-12T14:10:22.535248Z",
     "iopub.status.idle": "2024-03-12T14:10:23.421687Z",
     "shell.execute_reply": "2024-03-12T14:10:23.420695Z"
    },
    "scrolled": true
   },
   "outputs": [
    {
     "data": {
      "text/plain": [
       "<matplotlib.legend.Legend at 0x7fd7ae496890>"
      ]
     },
     "execution_count": 17,
     "metadata": {},
     "output_type": "execute_result"
    },
    {
     "data": {
      "image/png": "[encoded data removed]",
      "text/plain": [
       "<Figure size 640x480 with 1 Axes>"
      ]
     },
     "metadata": {},
     "output_type": "display_data"
    }
   ],
   "source": [
    "import matplotlib.pyplot as plt\n",
    "\n",
    "classiq_color = \"#D7F75B\"\n",
    "qiskit_color = \"#6FA4FF\"\n",
    "plt.rcParams[\"font.family\"] = \"serif\"\n",
    "plt.rc(\"savefig\", dpi=300)\n",
    "plt.rcParams[\"axes.linewidth\"] = 1\n",
    "plt.rcParams[\"xtick.major.size\"] = 5\n",
    "plt.rcParams[\"xtick.minor.size\"] = 5\n",
    "plt.rcParams[\"ytick.major.size\"] = 5\n",
    "plt.rcParams[\"ytick.minor.size\"] = 5\n",
    "\n",
    "plt.semilogy(\n",
    "    qiskit_cx_counts[-2::] + qiskit_cx_counts[0:5],\n",
    "    \"s\",\n",
    "    label=\"qiskit\",\n",
    "    markerfacecolor=qiskit_color,\n",
    "    markeredgecolor=\"k\",\n",
    "    markersize=6,\n",
    "    markeredgewidth=1.5,\n",
    ")\n",
    "plt.semilogy(\n",
    "    classiq_cx_counts[-2::] + classiq_cx_counts[0:5],\n",
    "    \"o\",\n",
    "    label=\"classiq\",\n",
    "    markerfacecolor=classiq_color,\n",
    "    markeredgecolor=\"k\",\n",
    "    markersize=6.5,\n",
    "    markeredgewidth=1.5,\n",
    ")\n",
    "\n",
    "labels = [\n",
    "    \"qDRIFT(N=1000)\",\n",
    "    \"qDRIFT(N=2000)\",\n",
    "    \"TS$_1$(reps=6)\",\n",
    "    \"TS$_2$(reps=4)\",\n",
    "    \"TS$_4$(reps=1)\",\n",
    "    \"ctrl-TS$_1$(reps=6)\",\n",
    "    \"ctrl-TS$_2$(reps=4)\",\n",
    "]\n",
    "plt.xticks([0, 1, 2, 3, 4, 5, 6], labels, rotation=45, fontsize=16, ha=\"right\")\n",
    "plt.ylabel(\"CX-counts\", fontsize=18)\n",
    "plt.yticks(fontsize=16)\n",
    "plt.legend(loc=\"upper left\", fontsize=18, fancybox=True, framealpha=0.5)"
   ]
  }
 ],
 "metadata": {
  "kernelspec": {
   "display_name": "Python 3 (ipykernel)",
   "language": "python",
   "name": "python3"
  },
  "language_info": {
   "codemirror_mode": {
    "name": "ipython",
    "version": 3
   },
   "file_extension": ".py",
   "mimetype": "text/x-python",
   "name": "python",
   "nbconvert_exporter": "python",
   "pygments_lexer": "ipython3",
   "version": "3.11.8"
  }
 },
 "nbformat": 4,
 "nbformat_minor": 5
}
