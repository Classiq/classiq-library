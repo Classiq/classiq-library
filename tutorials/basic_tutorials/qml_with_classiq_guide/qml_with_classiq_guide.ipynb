{
 "cells": [
  {
   "cell_type": "markdown",
   "id": "0",
   "metadata": {},
   "source": [
    "# Quantum Machine Learning with Classiq"
   ]
  },
  {
   "cell_type": "markdown",
   "id": "1",
   "metadata": {},
   "source": [
    "Welcome to the \"Quantum Machine Learning with Classiq\" tutorial. This guide is designed for users already familiar with the fundamentals of the Classiq platform and Quantum Machine Learning (QML) concepts. The aim is to showcase how to implement QML using Classiq. It covers three main methods to implement QML with Classiq:\n",
    "\n",
    "1. **Using the VQE Primitive**\n",
    "2. **Using the PyTorch Integration**\n",
    "3. **Using the QSVM Built-in App**\n",
    "\n",
    "Each section briefly explains the method, followed by an illustrative example that demonstrates the integration. These examples are intended to be straightforward to help you get started quickly."
   ]
  },
  {
   "cell_type": "markdown",
   "id": "2",
   "metadata": {},
   "source": [
    "## In This Tutorial\n",
    "\n",
    "1. [Using the VQE Primitive](#Using-the-VQE-Primitive)\n",
    "   * [Example Using Classiq](#Example-Using-Classiq)\n",
    "   * [Summary and Exercise](#summary-exercise-vqe)\n",
    "   * [Read More](#read-more-vqe)\n",
    "2. [Using the PyTorch Integration](#Using-the-PyTorch-Integration)\n",
    "   * [Workflow](#Workflow)\n",
    "   * [Example - Demonstrate PyTorch Integration with Classiq](#example-code-demonstrating-pytorch-integration-with-classiq)\n",
    "       * [Step 1.1 - Define the Quantum Model and Synthesize It into a Quantum Program](#step-11---define-the-quantum-model-and-synthesize-it-into-a-quantum-program)\n",
    "       * [Step 1.2 - Define the Execute and Post-process Callables](#step-12---define-the-execute-and-post-process-callables)\n",
    "       * [Step 1.3 - Create a torch.nn.Module Network](#step-13---create-a-torchnnmodule-network)\n",
    "   * [Step 2 - Choose a Dataset, Loss Function, and Optimizer](#step-2---choose-a-dataset-loss-function-and-optimizer)\n",
    "   * [Step 3 - Train and Evaluate](#step-3-train)\n",
    "   * [Summary and Exercise](#summary-exercise-pytorch)\n",
    "   * [Read More](#read-more-pytorch)\n",
    "3. [Using QSVM Primitive](#Using-QSVM-Primitive)\n"
   ]
  },
  {
   "cell_type": "markdown",
   "id": "3",
   "metadata": {},
   "source": [
    "## Using the VQE Primitive"
   ]
  },
  {
   "cell_type": "markdown",
   "id": "4",
   "metadata": {},
   "source": [
    "The Variational Quantum Eigensolver (VQE) is an algorithm for finding the ground state energy of a Hamiltonian operator, often described by Pauli operators or in the equivalent matrix form. The VQE was proposed in 2014 [[1](#eigenvaluesolver)]. \n",
    "\n",
    "The algorithm follows these steps:\n",
    "\n",
    "1. **Create a Parameterized Quantum Model**: Design a quantum model, also known as an ansatz, that captures the problem.\n",
    "2. **Synthesize, Execute, and Estimate Expectation Values**: Synthesize the quantum model into a quantum program. Run the quantum program, then measure and calculate the expected value of the Hamiltonian based on this generated program.\n",
    "3. **Optimize Parameters**: Use a classical optimizer to adjust the quantum program's parameters for better results.\n",
    "4. **Repeat**: Continue this process until the algorithm converges to a solution or reaches a specified number of iterations.\n",
    "\n",
    "For more details, refer to this review article [[2](#vqa)] and the corresponding preprint [[3](#preprint)]."
   ]
  },
  {
   "cell_type": "markdown",
   "id": "5",
   "metadata": {},
   "source": [
    "### Example Using Classiq"
   ]
  },
  {
   "cell_type": "markdown",
   "id": "6",
   "metadata": {},
   "source": [
    "Start with this example, creating a VQE algorithm that estimates the minimal eigenvalue of the following 2x2 Hamiltonian:\n",
    "\n",
    "\\begin{equation}\n",
    "H = \\frac{1}{2}I + \\frac{1}{2}Z - X = \\begin{bmatrix} 1 & -1 \\\\ -1 & 0 \\end{bmatrix}\n",
    "\\end{equation}"
   ]
  },
  {
   "cell_type": "markdown",
   "id": "7",
   "metadata": {},
   "source": [
    "Define the Hamiltonian using `Pauli` terms:"
   ]
  },
  {
   "cell_type": "code",
   "execution_count": null,
   "id": "8",
   "metadata": {},
   "outputs": [],
   "source": [
    "!pip install -qq -U \"classiq[qml]\""
   ]
  },
  {
   "cell_type": "code",
   "execution_count": 1,
   "id": "9",
   "metadata": {},
   "outputs": [],
   "source": [
    "from typing import List\n",
    "\n",
    "from classiq import *\n",
    "\n",
    "HAMILTONIAN = 0.5 * Pauli.I(0) + 0.5 * Pauli.Z(0) + (-1) * Pauli.X(0)"
   ]
  },
  {
   "cell_type": "markdown",
   "id": "10",
   "metadata": {},
   "source": [
    "For a single qubit problem, to capture any rotation on the Bloch sphere, use the U-gate (also known as the U3-gate). This includes the state with the minimal energy with respect to the Hamiltonian."
   ]
  },
  {
   "cell_type": "markdown",
   "id": "11",
   "metadata": {},
   "source": [
    "<details>\n",
    "<summary> NOTE on U-gate</summary>\n",
    "    \n",
    "The single-qubit gate applies phase and rotation with three Euler angles.\n",
    "\n",
    "Matrix representation:\n",
    "\n",
    "\\begin{equation}\n",
    "U(\\gamma,\\phi,\\theta,\\lambda) = e^{i\\gamma}\\begin{pmatrix}\n",
    "\\cos(\\frac{\\theta}{2}) & -e^{i\\lambda}\\sin(\\frac{\\theta}{2}) \\\\\n",
    "e^{i\\phi}\\sin(\\frac{\\theta}{2}) & e^{i(\\phi+\\lambda)}\\cos(\\frac{\\theta}{2}) \\\\\n",
    "\\end{pmatrix}\n",
    "\\end{equation}\n",
    "\n",
    "Parameters:\n",
    "\n",
    "- `theta`: `CReal`\n",
    "- `phi`: `CReal`\n",
    "- `lam`: `CReal`\n",
    "- `gam`: `CReal`\n",
    "- `target`: `QBit`\n",
    "\n",
    "</details>"
   ]
  },
  {
   "cell_type": "code",
   "execution_count": 2,
   "id": "12",
   "metadata": {},
   "outputs": [],
   "source": [
    "@qfunc\n",
    "def main(q: Output[QBit], angles: CArray[CReal, 3]) -> None:\n",
    "    allocate(q)\n",
    "    U(angles[0], angles[1], angles[2], 0, q)"
   ]
  },
  {
   "cell_type": "markdown",
   "id": "13",
   "metadata": {},
   "source": [
    "To seamlessly harness the power of VQE, synthesize the ansatz `main`, and use the `minimize` attribute from `ExecutionSession` to optimize it."
   ]
  },
  {
   "cell_type": "code",
   "execution_count": 3,
   "id": "14",
   "metadata": {},
   "outputs": [],
   "source": [
    "write_qmod(main, \"vqe_primitive\")\n",
    "qprog_1 = synthesize(main)\n",
    "\n",
    "\n",
    "with ExecutionSession(qprog_1) as es:\n",
    "    result = es.minimize(\n",
    "        cost_function=HAMILTONIAN,\n",
    "        initial_params={\"angles\": [0.0] * 3},\n",
    "        max_iteration=200,\n",
    "    )"
   ]
  },
  {
   "cell_type": "markdown",
   "id": "15",
   "metadata": {},
   "source": [
    "<details>\n",
    "<summary>Description of ExecutionSession Minimize Parameters</summary>\n",
    "\n",
    "Configure the `minimize` function in the `ExecutionSession` workflow with these parameters:\n",
    "\n",
    "- **cost_function**: The cost function to minimize, it can be either a quantum a quantum cost function specified by a Hamiltonian or a classical function that is represented as a callable and returns a Qmod expression.\n",
    "\n",
    "- **initial_params**: Initial parameters for the optimization routine. It accepts only a single parameter and should be formatted as a dict in the form {\"parameter\": list}.\n",
    "\n",
    "- **max_iteration**: The maximum number of iterations for the optimizer.\n",
    "\n",
    "- **quantile**: The quantile-based cutoff for which outcomes to consider when estimating the cost function.\n",
    "\n",
    "\n",
    "The output will be a list of dicts, containing the `float` values of the cost function and its respective parameters.\n",
    "</details>\n"
   ]
  },
  {
   "cell_type": "markdown",
   "id": "16",
   "metadata": {},
   "source": [
    "At this stage, it is possible to visualize the results of the quantum algorithm. For instance, a graph of Energy versus Iterations can be plotted to illustrate the convergence behavior of the algorithm."
   ]
  },
  {
   "cell_type": "code",
   "execution_count": 4,
   "id": "17",
   "metadata": {},
   "outputs": [
    {
     "data": {
      "image/png": "[encoded data removed]",
      "text/plain": [
       "<Figure size 1000x600 with 1 Axes>"
      ]
     },
     "metadata": {},
     "output_type": "display_data"
    }
   ],
   "source": [
    "import matplotlib.pyplot as plt\n",
    "\n",
    "cost_list = [term[0] for term in result]\n",
    "\n",
    "plt.figure(figsize=(10, 6))\n",
    "\n",
    "plt.plot(range(len(cost_list)), cost_list)\n",
    "\n",
    "plt.title(\"Cost function convergence\")\n",
    "plt.xlabel(\"Iteration\")\n",
    "plt.ylabel(\"Cost function value\")\n",
    "plt.show()"
   ]
  },
  {
   "cell_type": "markdown",
   "id": "18",
   "metadata": {},
   "source": [
    "When this is not necessary, it is possible to print only the final results:"
   ]
  },
  {
   "cell_type": "code",
   "execution_count": 5,
   "id": "19",
   "metadata": {},
   "outputs": [
    {
     "name": "stdout",
     "output_type": "stream",
     "text": [
      "Optimal energy: -0.61572265625\n",
      "Optimal parameters: {'angles': [2.1377203480076377, 0.004060541282730399, -0.3165621830160506]}\n"
     ]
    }
   ],
   "source": [
    "optimal_energy = result[-1][0]\n",
    "optimal_parameters = result[-1][1]\n",
    "\n",
    "print(f\"Optimal energy: {optimal_energy}\")\n",
    "print(f\"Optimal parameters: {optimal_parameters}\")"
   ]
  },
  {
   "cell_type": "markdown",
   "id": "20",
   "metadata": {},
   "source": [
    "The VQE algorithm outputs these key results:\n",
    "\n",
    "- **Optimal energy**: The lowest energy found for the Hamiltonian, representing the ground state energy (minimal eigenvalue).\n",
    "- **Optimal parameters**: The parameters of the quantum program that achieve the optimal energy, corresponding to rotation angles in the U-gate.\n",
    "- **Eigenstate**: The quantum state associated with the optimal energy, given as probability amplitudes for the basis states."
   ]
  },
  {
   "cell_type": "markdown",
   "id": "21",
   "metadata": {},
   "source": [
    "### Summary and Exercise <a id=\"summary-exercise-vqe\"></a>"
   ]
  },
  {
   "cell_type": "markdown",
   "id": "22",
   "metadata": {},
   "source": [
    "You designed a parameterized quantum circuit capable of capturing a simple Hamiltonian. You initialized an `ExecutionSession` and used `minimize` to execute it, visualizing the results.\n"
   ]
  },
  {
   "cell_type": "markdown",
   "id": "23",
   "metadata": {},
   "source": [
    "<details>\n",
    "<summary>Exercise - Two Qubits VQE</summary>\n",
    "\n",
    "Now, practice the implementation of a similar case to the previous example, but this time for two qubits, following the Hamiltonian:\n",
    "\n",
    "$$ H = \\frac{1}{2}I \\otimes I + \\frac{1}{2}Z \\otimes Z - X \\otimes X $$\n",
    "\n",
    "**Use the last example to implement and execute VQE for this Hamiltonian.**\n",
    "\n",
    "Code skeleton:\n",
    "\n",
    "```python\n",
    "HAMILTONIAN = QConstant(\"HAMILTONIAN\", List[PauliTerm], [...]) #TODO: Complete Hamiltonian\n",
    "\n",
    "@qfunc\n",
    "def main(...) -> None:\n",
    "    #TODO: Complete the function according to the instructions, choosing simple ansatz.\n",
    "\n",
    "qprog = synthesize(synthesize)\n",
    "show(qprog)\n",
    "\n",
    "with ExecutionSession(qprog_1) as es:\n",
    "    result = es.minimize(\n",
    "        cost_function=HAMILTONIAN,\n",
    "        initial_params={\"params\": [0.0] * n_params},\n",
    "        max_iteration=200,\n",
    "    )\n",
    "\n",
    "\n",
    "```\n",
    "</details>"
   ]
  },
  {
   "cell_type": "markdown",
   "id": "24",
   "metadata": {},
   "source": [
    "### Read More <a id=\"read-more-vqe\"></a>"
   ]
  },
  {
   "cell_type": "markdown",
   "id": "25",
   "metadata": {},
   "source": [
    "Further reading from the reference manual:\n",
    "  - [Execution Primitives](https://docs.classiq.io/latest/user-guide/execution/ExecutionSession/)"
   ]
  },
  {
   "cell_type": "markdown",
   "id": "26",
   "metadata": {},
   "source": [
    "## Using the PyTorch Integration"
   ]
  },
  {
   "cell_type": "markdown",
   "id": "27",
   "metadata": {},
   "source": [
    "Classiq integrates with PyTorch, enabling the seamless development of quantum machine learning and hybrid classical quantum machine learning models. This integration leverages PyTorch's powerful machine learning capabilities alongside quantum computing."
   ]
  },
  {
   "cell_type": "markdown",
   "id": "28",
   "metadata": {},
   "source": [
    "<details>\n",
    "<summary>Note on PyTorch Installation:</summary>\n",
    "\n",
    "To properly install and run PyTorch locally, check [this page](https://pytorch.org/get-started/locally/).\n",
    "\n",
    "</details>\n"
   ]
  },
  {
   "cell_type": "markdown",
   "id": "29",
   "metadata": {},
   "source": [
    "### Workflow"
   ]
  },
  {
   "cell_type": "markdown",
   "id": "30",
   "metadata": {},
   "source": [
    "1. **Defining the Model**\n",
    "    - **1.1**: Define the quantum model and synthesize it into a quantum program.\n",
    "    - **1.2**: Define the execute and post-process callables.\n",
    "    - **1.3**: Create a `torch.nn.Module` network.\n",
    "2. **Choosing the Dataset, Loss Function, and Optimizer**\n",
    "3. **Training the Model**\n",
    "4. **Testing the Model**\n"
   ]
  },
  {
   "cell_type": "markdown",
   "id": "31",
   "metadata": {},
   "source": [
    "If you are not familiar with PyTorch, read the following documentation:\n",
    "\n",
    "<details>\n",
    "<summary>PyTorch Documentation</summary>\n",
    "\n",
    "- [Creating Models](https://pytorch.org/tutorials/beginner/basics/quickstart_tutorial.html#creating-models)\n",
    "- [Building Neural Networks](https://pytorch.org/tutorials/beginner/basics/buildmodel_tutorial.html)\n",
    "- [Optimizing Model Parameters](https://pytorch.org/tutorials/beginner/basics/quickstart_tutorial.html#optimizing-the-model-parameters)\n",
    "- [Tensors](https://pytorch.org/tutorials/beginner/basics/tensorqs_tutorial.html)\n",
    "- [Datasets and DataLoaders](https://pytorch.org/tutorials/beginner/basics/data_tutorial.html)\n",
    "\n",
    "</details>\n"
   ]
  },
  {
   "cell_type": "markdown",
   "id": "32",
   "metadata": {},
   "source": [
    "### Example - Demonstrate PyTorch Integration with Classiq <a id=\"example-code-demonstrating-pytorch-integration-with-classiq\"></a>"
   ]
  },
  {
   "cell_type": "markdown",
   "id": "33",
   "metadata": {},
   "source": [
    "This example demonstrates PyTorch integration using a simple parameterized quantum model.\n",
    "\n",
    "It utilizes one input from the user and one weight, while using one qubit in the model. The goal of the learning process is to determine the correct angle for an RX gate to perform a \"NOT\" operation. (Spoiler alert: The correct answer is $\\pi$.)\n"
   ]
  },
  {
   "cell_type": "markdown",
   "id": "34",
   "metadata": {},
   "source": [
    "The dataset `DATALOADER_NOT` is used, as defined [here](https://docs.classiq.io/latest/user-guide/applications/qml/qnn/datasets/). \n",
    "`DatasetXor` is also available from the link for further practice."
   ]
  },
  {
   "cell_type": "code",
   "execution_count": 7,
   "id": "35",
   "metadata": {},
   "outputs": [
    {
     "name": "stdout",
     "output_type": "stream",
     "text": [
      "--> Data for training:\n",
      "tensor([[3.1416],\n",
      "        [0.0000]])\n",
      "--> Corresponding labels:\n",
      "tensor([1., 0.])\n"
     ]
    }
   ],
   "source": [
    "from classiq import *\n",
    "from classiq.applications.qnn.datasets import DATALOADER_NOT\n",
    "\n",
    "for data, label in DATALOADER_NOT:\n",
    "    print(f\"--> Data for training:\\n{data}\")\n",
    "    print(f\"--> Corresponding labels:\\n{label}\")"
   ]
  },
  {
   "cell_type": "markdown",
   "id": "36",
   "metadata": {},
   "source": [
    "This dataset contains two items. The first item indicates no rotation (`0.0000`) and is labeled as 0, indicating the state $|0\\rangle$. The second item indicates a rotation of `3.1416` and is labeled as 1, indicating the state $|1\\rangle$."
   ]
  },
  {
   "cell_type": "markdown",
   "id": "37",
   "metadata": {},
   "source": [
    "Read an explanation on creating PyTorch datasets here: \n",
    "- [Creating a custom dataset for your files](https://pytorch.org/tutorials/beginner/basics/data_tutorial.html#creating-a-custom-dataset-for-your-files)\n",
    "- [Writing custom datasets, dataLoaders, and transforms](https://pytorch.org/tutorials/beginner/data_loading_tutorial.html)"
   ]
  },
  {
   "cell_type": "markdown",
   "id": "38",
   "metadata": {},
   "source": [
    "##### Step 1.1 - Define the Quantum Model and Synthesize It into a Quantum Program\n",
    "<a id=\"step-11-define-the-quantum-model-and-synthesize-it-into-a-quantum-program\"></a>"
   ]
  },
  {
   "cell_type": "markdown",
   "id": "39",
   "metadata": {},
   "source": [
    "The first part of the parameterized quantum model has an encoding section, which loads input data ($|0\\rangle$ or $|1\\rangle$) into the parameterized quantum model:\n"
   ]
  },
  {
   "cell_type": "code",
   "execution_count": 8,
   "id": "40",
   "metadata": {},
   "outputs": [],
   "source": [
    "@qfunc\n",
    "def encoding(theta: CReal, q: QArray) -> None:\n",
    "    RX(theta=theta, target=q[0])"
   ]
  },
  {
   "cell_type": "markdown",
   "id": "41",
   "metadata": {},
   "source": [
    "The second part is the `mixing` function, which includes an adjustable parameter for training the RX gate to act later as a NOT gate:"
   ]
  },
  {
   "cell_type": "code",
   "execution_count": 9,
   "id": "42",
   "metadata": {},
   "outputs": [],
   "source": [
    "@qfunc\n",
    "def mixing(theta: CReal, q: QArray) -> None:\n",
    "    RX(theta=theta, target=q[0])"
   ]
  },
  {
   "cell_type": "markdown",
   "id": "43",
   "metadata": {},
   "source": [
    "Combining the two functions into the `main` function:"
   ]
  },
  {
   "cell_type": "code",
   "execution_count": 10,
   "id": "44",
   "metadata": {},
   "outputs": [],
   "source": [
    "@qfunc\n",
    "def main(input_0: CReal, weight_0: CReal, res: Output[QArray]) -> None:\n",
    "    allocate(1, res)\n",
    "    encoding(theta=input_0, q=res)  # Loading input\n",
    "    mixing(theta=weight_0, q=res)  # Adjustable parameter"
   ]
  },
  {
   "cell_type": "markdown",
   "id": "45",
   "metadata": {},
   "source": [
    "Finally, create a model, synthesize it, and display it in the IDE:"
   ]
  },
  {
   "cell_type": "code",
   "execution_count": 11,
   "id": "46",
   "metadata": {},
   "outputs": [
    {
     "name": "stdout",
     "output_type": "stream",
     "text": [
      "Quantum program link: https://platform.classiq.io/circuit/2zPLS8EIKI59yhuhNxg7NFlKTRn\n"
     ]
    }
   ],
   "source": [
    "write_qmod(main, \"qnn_with_pytorch\")\n",
    "qprog_2 = synthesize(main)\n",
    "show(qprog_2)"
   ]
  },
  {
   "cell_type": "markdown",
   "id": "47",
   "metadata": {},
   "source": [
    "##### Step 1.2 - Define the Execute and Postprocess Callables"
   ]
  },
  {
   "cell_type": "markdown",
   "id": "48",
   "metadata": {},
   "source": [
    "Before using the quantum layer (QLayer), define the `execute` and `post-processing` functions. These functions are essential for integrating the quantum layer in a PyTorch neural network, as classical layers require classical data as input. This means that only after executing the QLayer (the ansatz) and post-processing the results the data can be further used in other layers of the neural network or be output."
   ]
  },
  {
   "cell_type": "markdown",
   "id": "49",
   "metadata": {},
   "source": [
    "The `execute` function is straightforward. It takes the quantum program (here, the QLayer) and its parameters, and executes it:"
   ]
  },
  {
   "cell_type": "code",
   "execution_count": 12,
   "id": "50",
   "metadata": {},
   "outputs": [
    {
     "name": "stderr",
     "output_type": "stream",
     "text": [
      "gio: https://platform.classiq.io/circuit/2zPLS8EIKI59yhuhNxg7NFlKTRn?login=True&version=0.85.0: Operation not supported\n"
     ]
    }
   ],
   "source": [
    "from classiq.applications.qnn.types import (\n",
    "    MultipleArguments,\n",
    "    ResultsCollection,\n",
    "    SavedResult,\n",
    ")\n",
    "\n",
    "\n",
    "def execute(\n",
    "    quantum_program: QuantumProgram, arguments: MultipleArguments\n",
    ") -> ResultsCollection:\n",
    "    return execute_qnn(quantum_program, arguments)"
   ]
  },
  {
   "cell_type": "markdown",
   "id": "51",
   "metadata": {},
   "source": [
    "In general, the `post_process` function is needed to prepare the execution results for output or for loss calculation during the training phase.\n",
    "\n",
    "In this specific example, it returns the probability of measuring $|0\\rangle$. This function assumes that only the differentiation between the single state $|0\\rangle$ and all other states is relevant. If a different differentiation is needed, modify this function accordingly."
   ]
  },
  {
   "cell_type": "code",
   "execution_count": 13,
   "id": "52",
   "metadata": {},
   "outputs": [],
   "source": [
    "import torch\n",
    "\n",
    "\n",
    "def post_process(result: SavedResult) -> torch.Tensor:\n",
    "    \"\"\"\n",
    "    Take in a `SavedResult` with `ExecutionDetails` value type, and return the\n",
    "    probability of measuring |0> which equals the amount of `|0>` measurements\n",
    "    divided by the total number of measurements.\n",
    "    \"\"\"\n",
    "    counts: dict = result.value.counts\n",
    "    # The probability of measuring |0>\n",
    "    p_zero: float = counts.get(\"0\", 0.0) / sum(counts.values())\n",
    "    return torch.tensor(p_zero)"
   ]
  },
  {
   "cell_type": "markdown",
   "id": "53",
   "metadata": {},
   "source": [
    "Using these functions allows QLayers and PyTorch layers to be properly integrated into the same neural network."
   ]
  },
  {
   "cell_type": "markdown",
   "id": "54",
   "metadata": {},
   "source": [
    "##### Step 1.3 - Create a torch.nn.Module Network"
   ]
  },
  {
   "cell_type": "markdown",
   "id": "55",
   "metadata": {},
   "source": [
    "Define the `torch.nn.Module` class with a single `QLayer` as follows:"
   ]
  },
  {
   "cell_type": "code",
   "execution_count": 14,
   "id": "56",
   "metadata": {},
   "outputs": [],
   "source": [
    "from classiq.applications.qnn import QLayer\n",
    "\n",
    "\n",
    "class Net(torch.nn.Module):\n",
    "    def __init__(self, *args, **kwargs) -> None:\n",
    "        super().__init__()\n",
    "        self.qlayer = QLayer(\n",
    "            qprog_2,  # the quantum program, the result of `synthesize()`\n",
    "            execute,  # a callable that takes\n",
    "            # - a quantum program\n",
    "            # - parameters to that program (a tuple of dictionaries)\n",
    "            # and returns a `ResultsCollection`\n",
    "            post_process,  # a callable that takes\n",
    "            # - a single `SavedResult`\n",
    "            # and returns a `torch.Tensor`\n",
    "            *args,\n",
    "            **kwargs\n",
    "        )\n",
    "\n",
    "    def forward(self, x: torch.Tensor) -> torch.Tensor:\n",
    "        x = self.qlayer(x)\n",
    "        return x\n",
    "\n",
    "\n",
    "model = Net()"
   ]
  },
  {
   "cell_type": "markdown",
   "id": "57",
   "metadata": {},
   "source": [
    "In `self.qlayer = QLayer(...)`, define the only layer in the neural network as a single QLayer. Specify the previously defined `quantum_program`, `execute`, and `post_process` as arguments for the layer. Finally, create the neural network and assign it to the variable `model`."
   ]
  },
  {
   "cell_type": "markdown",
   "id": "58",
   "metadata": {},
   "source": [
    "#### Step 2 - Choose a Dataset, Loss Function, and Optimizer"
   ]
  },
  {
   "cell_type": "markdown",
   "id": "59",
   "metadata": {},
   "source": [
    "For the loss function and optimizer, use [L1Loss](https://pytorch.org/docs/stable/generated/torch.nn.L1Loss.html) and [SGD](https://pytorch.org/docs/stable/generated/torch.optim.SGD.html), respectively."
   ]
  },
  {
   "cell_type": "code",
   "execution_count": 15,
   "id": "60",
   "metadata": {},
   "outputs": [],
   "source": [
    "import torch.nn as nn\n",
    "import torch.optim as optim\n",
    "\n",
    "_LEARNING_RATE = 1\n",
    "\n",
    "# choosing the data\n",
    "data_loader = DATALOADER_NOT\n",
    "\n",
    "# choosing the loss function\n",
    "loss_func = nn.L1Loss()  # Mean Absolute Error (MAE)\n",
    "\n",
    "# choosing the optimizer\n",
    "optimizer = optim.SGD(model.parameters(), lr=_LEARNING_RATE)"
   ]
  },
  {
   "cell_type": "markdown",
   "id": "61",
   "metadata": {},
   "source": [
    "<details>\n",
    "<summary>Available Optimization Algorithms and Loss Functions</summary>\n",
    "\n",
    "For details of the optimization algorithms and a comprehensive list of loss functions in PyTorch, refer to the official documentation:\n",
    "\n",
    "- [Optimization Algorithms](https://pytorch.org/docs/stable/optim.html#algorithms)\n",
    "- [Loss Functions](https://pytorch.org/docs/stable/nn.html#loss-functions)\n",
    "\n",
    "</details>\n"
   ]
  },
  {
   "cell_type": "markdown",
   "id": "62",
   "metadata": {},
   "source": [
    "#### Step 3 - Train and Evaluate <a id=\"step-3-train\"></a>"
   ]
  },
  {
   "cell_type": "markdown",
   "id": "63",
   "metadata": {},
   "source": [
    "Import `DataLoader`:"
   ]
  },
  {
   "cell_type": "code",
   "execution_count": 16,
   "id": "64",
   "metadata": {},
   "outputs": [],
   "source": [
    "from torch.utils.data import DataLoader"
   ]
  },
  {
   "cell_type": "markdown",
   "id": "65",
   "metadata": {},
   "source": [
    "A `DataLoader` in PyTorch efficiently iterates over datasets, handling batching, shuffling, and parallel data loading. It streamlines the process of training and evaluating models by managing data efficiently."
   ]
  },
  {
   "cell_type": "markdown",
   "id": "66",
   "metadata": {},
   "source": [
    "Now you are ready to define the training function. \\\n",
    "This simple example follows a loop similar to that recommended by PyTorch [here](https://pytorch.org/tutorials/beginner/blitz/neural_networks_tutorial.html#update-the-weights).\n"
   ]
  },
  {
   "cell_type": "code",
   "execution_count": 17,
   "id": "67",
   "metadata": {},
   "outputs": [],
   "source": [
    "def train(\n",
    "    model: nn.Module,\n",
    "    data_loader: DataLoader,\n",
    "    loss_func: nn.modules.loss._Loss,\n",
    "    optimizer: optim.Optimizer,\n",
    "    epoch: int = 5,  # About 40 epochs needed for full training\n",
    ") -> None:\n",
    "    for index in range(epoch):\n",
    "        print(index, model.qlayer.weight)\n",
    "        for data, label in data_loader:\n",
    "            optimizer.zero_grad()\n",
    "\n",
    "            output = model(data)\n",
    "\n",
    "            loss = loss_func(output, label)\n",
    "            loss.backward()\n",
    "            optimizer.step()"
   ]
  },
  {
   "cell_type": "markdown",
   "id": "68",
   "metadata": {},
   "source": [
    "Here, trained parameters are loaded for demonstration, and only one epoch is performed.\\\n",
    "You may comment on the following cell, change the number of epochs above, and expect about 40 epochs for full training for non-trained parameters."
   ]
  },
  {
   "cell_type": "code",
   "execution_count": 18,
   "id": "69",
   "metadata": {},
   "outputs": [],
   "source": [
    "with torch.no_grad():\n",
    "    model.qlayer.weight.copy_(\n",
    "        torch.tensor([3])\n",
    "    )  # The value from the last step of the training"
   ]
  },
  {
   "cell_type": "code",
   "execution_count": 19,
   "id": "70",
   "metadata": {},
   "outputs": [
    {
     "name": "stdout",
     "output_type": "stream",
     "text": [
      "0 Parameter containing:\n",
      "tensor([3.], requires_grad=True)\n",
      "1 Parameter containing:\n",
      "tensor([3.0488], requires_grad=True)\n",
      "2 Parameter containing:\n",
      "tensor([3.1465], requires_grad=True)\n",
      "3 Parameter containing:\n",
      "tensor([3.1465], requires_grad=True)\n",
      "4 Parameter containing:\n",
      "tensor([3.1465], requires_grad=True)\n"
     ]
    }
   ],
   "source": [
    "train(model, data_loader, loss_func, optimizer)"
   ]
  },
  {
   "cell_type": "markdown",
   "id": "71",
   "metadata": {},
   "source": [
    "Great!Observe that the parameter is approximately equal to $\\pi$. \\\n",
    "Now, test the network accuracy using the suggested method [here](https://stackoverflow.com/questions/52176178/pytorch-model-accuracy-test#answer-64838681)."
   ]
  },
  {
   "cell_type": "code",
   "execution_count": 20,
   "id": "72",
   "metadata": {},
   "outputs": [],
   "source": [
    "def check_accuracy(model: nn.Module, data_loader: DataLoader, atol=1e-2) -> float:\n",
    "    num_correct = 0\n",
    "    total = 0\n",
    "    model.eval()\n",
    "\n",
    "    with torch.no_grad():  # Temporarily disable gradient calculation\n",
    "        for data, labels in data_loader:\n",
    "            # Let the model predict\n",
    "            predictions = model(data)\n",
    "\n",
    "            # Get a tensor of Booleans, indicating if each label is close to the real label\n",
    "            is_prediction_correct = predictions.isclose(labels, atol=atol)\n",
    "\n",
    "            # Count the number of `True` predictions\n",
    "            num_correct += is_prediction_correct.sum().item()\n",
    "            # Count the total evaluations\n",
    "            #   the first dimension of `labels` is `batch_size`\n",
    "            total += labels.size(0)\n",
    "\n",
    "    accuracy = float(num_correct) / float(total)\n",
    "    print(f\"Test Accuracy of the model: {accuracy*100:.2f}%\")\n",
    "    return accuracy"
   ]
  },
  {
   "cell_type": "code",
   "execution_count": 21,
   "id": "73",
   "metadata": {},
   "outputs": [
    {
     "name": "stdout",
     "output_type": "stream",
     "text": [
      "Test Accuracy of the model: 100.00%\n"
     ]
    },
    {
     "data": {
      "text/plain": [
       "1.0"
      ]
     },
     "execution_count": 21,
     "metadata": {},
     "output_type": "execute_result"
    }
   ],
   "source": [
    "check_accuracy(model, data_loader)"
   ]
  },
  {
   "cell_type": "markdown",
   "id": "74",
   "metadata": {},
   "source": [
    "**The results show an accuracy of 1**, indicating a 100% success rate in performing the required transformation (i.e., the network learned to perform an X-gate). You can further validate this by printing the value of `model.qlayer.weight`, which is a tensor of shape (1,1). After training, this value should be close to $\\pi$."
   ]
  },
  {
   "cell_type": "markdown",
   "id": "75",
   "metadata": {},
   "source": [
    "### Summary and Exercise <a id=\"summary-exercise-pytorch\"></a>"
   ]
  },
  {
   "cell_type": "markdown",
   "id": "76",
   "metadata": {},
   "source": [
    "In this tutorial, you integrated a quantum layer in a PyTorch neural network, defined the necessary execution and post-processing functions, and trained the model using a simple dataset. You tested the network's accuracy using a recommended method. To explore further, try experimenting with different quantum circuits, datasets, and optimizers. Integrating more classic layers or more complex layers should be straightforward now for those with experience in PyTorch."
   ]
  },
  {
   "cell_type": "markdown",
   "id": "77",
   "metadata": {},
   "source": [
    "<details>\n",
    "<summary>Exercise - Training U Gate</summary>\n",
    "\n",
    "Now, for practice, implement a similar case to the last example, but this time train the U gate to act as a NOT gate instead of the Rx gate.  \n",
    "How many parameters must you train?  \n",
    "What must you change to accomplish this?\n",
    "\n",
    "<details>\n",
    "<summary>Hint</summary>\n",
    "    \n",
    "You only have to adapt `mixing` and `model`.\n",
    "\n",
    "</details>\n",
    "</details>\n"
   ]
  },
  {
   "cell_type": "markdown",
   "id": "78",
   "metadata": {},
   "source": [
    "### Read More \n",
    "<a id=\"read-more-pytorch\"></a>"
   ]
  },
  {
   "cell_type": "markdown",
   "id": "79",
   "metadata": {},
   "source": [
    "Algorithms and application tutorials using the PyTorch integration:\n",
    "- [Quantum Autoencoder](https://docs.classiq.io/latest/explore/algorithms/qml/quantum_autoencoder/quantum_autoencoder/)\n",
    "- [QGAN](https://docs.classiq.io/latest/explore/algorithms/qml/qgan/qgan_bars_and_strips/)\n",
    "\n",
    "Further reading from the reference manual: \n",
    "- [QNNs with Classiq](https://docs.classiq.io/latest/user-guide/applications/qml/qnn/)\n",
    "- [QLayer](https://docs.classiq.io/latest/user-guide/applications/qml/qnn/qlayer/)"
   ]
  },
  {
   "cell_type": "markdown",
   "id": "80",
   "metadata": {},
   "source": [
    "## Using QSVM Primitive "
   ]
  },
  {
   "cell_type": "markdown",
   "id": "81",
   "metadata": {},
   "source": [
    "Classiq also enables executing classification tasks using the **Quantum Support Vector Machine** (QSVM) module. This module leverages the principles of quantum computing to enhance traditional support vector machine algorithms, offering significant improvements in classification accuracy and efficiency. The QSVM module integrates seamlessly with the Classiq platform, allowing you to implement quantum-enhanced classification models effortlessly. By utilizing quantum kernels, the QSVM can handle complex datasets and capture intricate patterns that may be challenging for classical SVMs, making it a powerful tool for machine learning applications.\n",
    "\n"
   ]
  },
  {
   "cell_type": "markdown",
   "id": "82",
   "metadata": {},
   "source": [
    "To understand how to use it and explore it further, examine this example: [QSVM with Classiq](https://docs.classiq.io/latest/explore/algorithms/qml/qsvm/qsvm/)."
   ]
  },
  {
   "cell_type": "markdown",
   "id": "83",
   "metadata": {},
   "source": [
    "## References"
   ]
  },
  {
   "cell_type": "markdown",
   "id": "84",
   "metadata": {},
   "source": [
    "<a id='eigenvaluesolver'>[1]</a>: [Peruzzo, A., McClean, J., Shadbolt, P., et al. (2014). A variational eigenvalue solver on a photonic quantum processor, *Nature Communications*](https://doi.org/10.1038/ncomms5213).\n",
    "\n",
    "<a id='vqa'>[2]</a>: [Cerezo, M., Arrasmith, A., Babbush, R., et al. (2021). Variational quantum algorithms, *Nature Reviews Physics*, 3, 625–644](https://doi.org/10.1038/s42254-021-00348-9).\n",
    "\n",
    "<a id='preprint'>[3]</a>: [Corresponding preprint arXiv:2104.02281](https://arxiv.org/abs/2104.02281).\n",
    "\n",
    "<a id='CVaR'>[4]</a>: [Barkoutsos, Panagiotis Kl., et al. (2020). Improving variational quantum optimization using CVaR, *Quantum* 4, 256](https://doi.org/10.22331/q-2020-04-20-256)."
   ]
  }
 ],
 "metadata": {
  "kernelspec": {
   "display_name": "Python 3 (ipykernel)",
   "language": "python",
   "name": "python3"
  },
  "language_info": {
   "codemirror_mode": {
    "name": "ipython",
    "version": 3
   },
   "file_extension": ".py",
   "mimetype": "text/x-python",
   "name": "python",
   "nbconvert_exporter": "python",
   "pygments_lexer": "ipython3",
   "version": "3.11.9"
  }
 },
 "nbformat": 4,
 "nbformat_minor": 9
}
