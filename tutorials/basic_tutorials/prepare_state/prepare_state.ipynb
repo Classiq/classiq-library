{
 "cells": [
  {
   "cell_type": "markdown",
   "id": "0",
   "metadata": {},
   "source": [
    "# Walk-through: `prepare_state`"
   ]
  },
  {
   "cell_type": "markdown",
   "id": "1",
   "metadata": {},
   "source": [
    "This notebook is the Classiq SDK equivalent of the walkthrough sequence as presented in the Classiq web IDE [[1](#Classiq_IDE)]."
   ]
  },
  {
   "cell_type": "code",
   "execution_count": 1,
   "id": "2",
   "metadata": {},
   "outputs": [],
   "source": [
    "from classiq import *"
   ]
  },
  {
   "cell_type": "markdown",
   "id": "3",
   "metadata": {},
   "source": [
    "## Build Your Algorithm\n",
    "**In the IDE:**  To start writing your quantum model, click the `Model` tab."
   ]
  },
  {
   "cell_type": "markdown",
   "id": "4",
   "metadata": {},
   "source": [
    "## Build the Model\n",
    "**In the IDE:** Here you define the model, function parameters, and more.\n",
    "See the User Guide [[2](#User_Guide)] for details.\n",
    "\n",
    "*Below is the SDK representation of the Qmod syntax shown on the IDE page:*"
   ]
  },
  {
   "cell_type": "code",
   "execution_count": 2,
   "id": "5",
   "metadata": {},
   "outputs": [],
   "source": [
    "probabilities = [\n",
    "    0,\n",
    "    0.002,\n",
    "    0.004,\n",
    "    0.006,\n",
    "    0.0081,\n",
    "    0.0101,\n",
    "    0.0121,\n",
    "    0.0141,\n",
    "    0.0161,\n",
    "    0.0181,\n",
    "    0.0202,\n",
    "    0.0222,\n",
    "    0.0242,\n",
    "    0.0262,\n",
    "    0.0282,\n",
    "    0.0302,\n",
    "    0.0323,\n",
    "    0.0343,\n",
    "    0.0363,\n",
    "    0.0383,\n",
    "    0.0403,\n",
    "    0.0423,\n",
    "    0.0444,\n",
    "    0.0464,\n",
    "    0.0484,\n",
    "    0.0504,\n",
    "    0.0524,\n",
    "    0.0544,\n",
    "    0.0565,\n",
    "    0.0585,\n",
    "    0.0605,\n",
    "    0.0625,\n",
    "]\n",
    "\n",
    "\n",
    "@qfunc\n",
    "def main(io: Output[QArray]):\n",
    "    prepare_state(probabilities=probabilities, bound=0.01, out=io)"
   ]
  },
  {
   "cell_type": "markdown",
   "id": "6",
   "metadata": {},
   "source": [
    "## Synthesize the Model\n",
    "**In the IDE:** Now that you have selected or built a model, click the \"Synthesize\" button, sit back, and let Classiq do its magic!\n",
    "\n",
    "*Below is the SDK representation of the Qmod syntax shown on the IDE page:*"
   ]
  },
  {
   "cell_type": "code",
   "execution_count": 3,
   "id": "7",
   "metadata": {},
   "outputs": [
    {
     "name": "stdout",
     "output_type": "stream",
     "text": [
      "Quantum program link: https://platform.classiq.io/circuit/2zPKuTDqwQAGWvEB299Om2iz6sl\n"
     ]
    },
    {
     "name": "stderr",
     "output_type": "stream",
     "text": [
      "gio: https://platform.classiq.io/circuit/2zPKuTDqwQAGWvEB299Om2iz6sl?login=True&version=0.85.0: Operation not supported\n"
     ]
    }
   ],
   "source": [
    "qprog = synthesize(main)\n",
    "write_qmod(main, \"prepare_state\")\n",
    "show(qprog)"
   ]
  },
  {
   "cell_type": "markdown",
   "id": "8",
   "metadata": {},
   "source": [
    "## Congratulations!\n",
    "**In the IDE:** This is your first quantum program.\n",
    "Learn more in the User Guide [[2](#User_Guide)]."
   ]
  },
  {
   "cell_type": "markdown",
   "id": "9",
   "metadata": {},
   "source": [
    "## Run on Quantum Hardware or Simulators\n",
    "**In the IDE:** Click 'Execute' to define the quantum hardware or a quantum simulator to run your synthesized quantum program."
   ]
  },
  {
   "cell_type": "markdown",
   "id": "10",
   "metadata": {},
   "source": [
    "## Define Execution Details\n",
    "**In the IDE:** Select which quantum program to execute, define the execution parameters, and choose a quantum provider and backend platform.\n",
    "The Classiq platform is your gateway to all major quantum computing providers."
   ]
  },
  {
   "cell_type": "code",
   "execution_count": 4,
   "id": "11",
   "metadata": {},
   "outputs": [],
   "source": [
    "preferences = ExecutionPreferences(\n",
    "    backend_preferences=ClassiqBackendPreferences(\n",
    "        backend_name=ClassiqSimulatorBackendNames.SIMULATOR\n",
    "    )\n",
    ")"
   ]
  },
  {
   "cell_type": "markdown",
   "id": "12",
   "metadata": {},
   "source": [
    "## Run on a Quantum Simulator!\n",
    "**In the IDE:** Click 'Run' to execute your quantum program on the simulator you chose in the previous step.\n",
    "\n",
    "*Below is the SDK execution code:*"
   ]
  },
  {
   "cell_type": "code",
   "execution_count": 5,
   "id": "13",
   "metadata": {},
   "outputs": [],
   "source": [
    "with ExecutionSession(qprog, preferences) as es:\n",
    "    res = es.sample()"
   ]
  },
  {
   "cell_type": "code",
   "execution_count": 6,
   "id": "14",
   "metadata": {},
   "outputs": [
    {
     "data": {
      "text/html": [
       "<div>\n",
       "<style scoped>\n",
       "    .dataframe tbody tr th:only-of-type {\n",
       "        vertical-align: middle;\n",
       "    }\n",
       "\n",
       "    .dataframe tbody tr th {\n",
       "        vertical-align: top;\n",
       "    }\n",
       "\n",
       "    .dataframe thead th {\n",
       "        text-align: right;\n",
       "    }\n",
       "</style>\n",
       "<table border=\"1\" class=\"dataframe\">\n",
       "  <thead>\n",
       "    <tr style=\"text-align: right;\">\n",
       "      <th></th>\n",
       "      <th>io</th>\n",
       "      <th>count</th>\n",
       "      <th>probability</th>\n",
       "      <th>bitstring</th>\n",
       "    </tr>\n",
       "  </thead>\n",
       "  <tbody>\n",
       "    <tr>\n",
       "      <th>0</th>\n",
       "      <td>[1, 1, 1, 1, 1]</td>\n",
       "      <td>136</td>\n",
       "      <td>0.066406</td>\n",
       "      <td>11111</td>\n",
       "    </tr>\n",
       "    <tr>\n",
       "      <th>1</th>\n",
       "      <td>[1, 0, 1, 1, 1]</td>\n",
       "      <td>132</td>\n",
       "      <td>0.064453</td>\n",
       "      <td>11101</td>\n",
       "    </tr>\n",
       "    <tr>\n",
       "      <th>2</th>\n",
       "      <td>[0, 1, 1, 1, 1]</td>\n",
       "      <td>124</td>\n",
       "      <td>0.060547</td>\n",
       "      <td>11110</td>\n",
       "    </tr>\n",
       "    <tr>\n",
       "      <th>3</th>\n",
       "      <td>[0, 1, 0, 1, 1]</td>\n",
       "      <td>114</td>\n",
       "      <td>0.055664</td>\n",
       "      <td>11010</td>\n",
       "    </tr>\n",
       "    <tr>\n",
       "      <th>4</th>\n",
       "      <td>[0, 0, 0, 1, 1]</td>\n",
       "      <td>113</td>\n",
       "      <td>0.055176</td>\n",
       "      <td>11000</td>\n",
       "    </tr>\n",
       "  </tbody>\n",
       "</table>\n",
       "</div>"
      ],
      "text/plain": [
       "                io  count  probability bitstring\n",
       "0  [1, 1, 1, 1, 1]    136     0.066406     11111\n",
       "1  [1, 0, 1, 1, 1]    132     0.064453     11101\n",
       "2  [0, 1, 1, 1, 1]    124     0.060547     11110\n",
       "3  [0, 1, 0, 1, 1]    114     0.055664     11010\n",
       "4  [0, 0, 0, 1, 1]    113     0.055176     11000"
      ]
     },
     "execution_count": 6,
     "metadata": {},
     "output_type": "execute_result"
    }
   ],
   "source": [
    "res.dataframe.head()"
   ]
  },
  {
   "cell_type": "markdown",
   "id": "15",
   "metadata": {},
   "source": [
    "Look at that cool triangle probability function!\n",
    "**In the IDE:** That's it! You ran your first quantum program.\n",
    "\n",
    "\n",
    "To learn more about the Classiq platform, read the User Guide [[2](#User_Guide)]."
   ]
  },
  {
   "cell_type": "markdown",
   "id": "16",
   "metadata": {},
   "source": [
    "## References\n",
    "\n",
    "<a name='Classiq_IDE'>[1]</a>: [Classiq IDE](https://platform.classiq.io/)\n",
    "\n",
    "<a name='User_Guide'>[2]</a>: [Classiq User_Guide](https://docs.classiq.io/latest/)\n"
   ]
  }
 ],
 "metadata": {
  "kernelspec": {
   "display_name": "venv",
   "language": "python",
   "name": "python3"
  },
  "language_info": {
   "codemirror_mode": {
    "name": "ipython",
    "version": 3
   },
   "file_extension": ".py",
   "mimetype": "text/x-python",
   "name": "python",
   "nbconvert_exporter": "python",
   "pygments_lexer": "ipython3",
   "version": "3.11.13"
  }
 },
 "nbformat": 4,
 "nbformat_minor": 9
}
