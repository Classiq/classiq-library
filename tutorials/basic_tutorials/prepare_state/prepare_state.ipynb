{
 "cells": [
  {
   "cell_type": "markdown",
   "id": "1787d11c-bd92-4e4e-9312-977bb7bd7e4e",
   "metadata": {},
   "source": [
    "# Walk-through: `prepare_state`"
   ]
  },
  {
   "cell_type": "markdown",
   "id": "f6d752fa-ba4b-4d63-9ed8-fec358db31b7",
   "metadata": {},
   "source": [
    "This notebook is the Classiq SDK equivalent of the walkthrough sequence as presented in the Classiq web IDE [[1](#Classiq_IDE)]."
   ]
  },
  {
   "cell_type": "code",
   "execution_count": 1,
   "id": "361ae02e-c0ef-4d0f-bfab-bef5557fab59",
   "metadata": {},
   "outputs": [],
   "source": [
    "from classiq import *"
   ]
  },
  {
   "cell_type": "markdown",
   "id": "1ead3e7b-b151-4f0f-9fec-e2c8c0918cb2",
   "metadata": {},
   "source": [
    "## Build Your Algorithm\n",
    "**In the IDE:**  To start writing your quantum model, click the `Model` tab."
   ]
  },
  {
   "cell_type": "markdown",
   "id": "6f8c7857-b7fb-4d9f-86ef-afd6b801cd29",
   "metadata": {},
   "source": [
    "## Build the Model\n",
    "**In the IDE:** Here you define the model, function parameters, and more.\n",
    "See the User Guide [[2](#User_Guide)] for details.\n",
    "\n",
    "*Below is the SDK representation of the Qmod syntax shown on the IDE page:*"
   ]
  },
  {
   "cell_type": "code",
   "execution_count": 2,
   "id": "d72f0b6a-6977-4cb3-ba4e-30930119f653",
   "metadata": {},
   "outputs": [],
   "source": [
    "probabilities = [\n",
    "    0,\n",
    "    0.002,\n",
    "    0.004,\n",
    "    0.006,\n",
    "    0.0081,\n",
    "    0.0101,\n",
    "    0.0121,\n",
    "    0.0141,\n",
    "    0.0161,\n",
    "    0.0181,\n",
    "    0.0202,\n",
    "    0.0222,\n",
    "    0.0242,\n",
    "    0.0262,\n",
    "    0.0282,\n",
    "    0.0302,\n",
    "    0.0323,\n",
    "    0.0343,\n",
    "    0.0363,\n",
    "    0.0383,\n",
    "    0.0403,\n",
    "    0.0423,\n",
    "    0.0444,\n",
    "    0.0464,\n",
    "    0.0484,\n",
    "    0.0504,\n",
    "    0.0524,\n",
    "    0.0544,\n",
    "    0.0565,\n",
    "    0.0585,\n",
    "    0.0605,\n",
    "    0.0625,\n",
    "]\n",
    "\n",
    "\n",
    "@qfunc\n",
    "def main(io: Output[QArray[QBit]]):\n",
    "    prepare_state(probabilities=probabilities, bound=0.01, out=io)\n",
    "\n",
    "\n",
    "qmod = create_model(main)"
   ]
  },
  {
   "cell_type": "markdown",
   "id": "e965d8d7-1f09-4e1a-9f4c-80a5263e749a",
   "metadata": {},
   "source": [
    "Dump the model to file:"
   ]
  },
  {
   "cell_type": "code",
   "execution_count": 3,
   "id": "0458676b-b479-48e8-b154-120a193a4f31",
   "metadata": {},
   "outputs": [],
   "source": [
    "write_qmod(qmod, \"prepare_state\")"
   ]
  },
  {
   "cell_type": "markdown",
   "id": "bbcd1f17-91ce-48b9-a2d1-395b0affbf77",
   "metadata": {},
   "source": [
    "## Synthesize the Model\n",
    "**In the IDE:** Now that you have selected or built a model, click the \"Synthesize\" button, sit back, and let Classiq do its magic!\n",
    "\n",
    "*Below is the SDK representation of the Qmod syntax shown on the IDE page:*"
   ]
  },
  {
   "cell_type": "code",
   "execution_count": 4,
   "id": "c0e3a1b4-de41-45df-a529-92f5f1be3dbc",
   "metadata": {},
   "outputs": [
    {
     "name": "stdout",
     "output_type": "stream",
     "text": [
      "Opening: https://platform.classiq.io/circuit/2tw9XTcletRYuqkZB6ba5BYQTUk?login=True&version=0.70.0\n"
     ]
    }
   ],
   "source": [
    "qprog = synthesize(qmod)\n",
    "show(qprog)"
   ]
  },
  {
   "cell_type": "markdown",
   "id": "318265cf-1243-4212-bb7b-dcf7c179ddac",
   "metadata": {},
   "source": [
    "## Congratulations!\n",
    "**In the IDE:** This is your first quantum program.\n",
    "Learn more in the User Guide [[2](#User_Guide)]."
   ]
  },
  {
   "cell_type": "markdown",
   "id": "aad110e3-1093-4ad1-8898-77e46e9b3d16",
   "metadata": {},
   "source": [
    "## Run on Quantum Hardware or Simulators\n",
    "**In the IDE:** Click 'Execute' to define the quantum hardware or a quantum simulator to run your synthesized quantum program."
   ]
  },
  {
   "cell_type": "markdown",
   "id": "2d5f2c00-59c3-4ec2-b8d3-1275a357241d",
   "metadata": {},
   "source": [
    "## Define Execution Details\n",
    "**In the IDE:** Select which quantum program to execute, define the execution parameters, and choose a quantum provider and backend platform.\n",
    "The Classiq platform is your gateway to all major quantum computing providers."
   ]
  },
  {
   "cell_type": "code",
   "execution_count": 5,
   "id": "d04e51f1-7d2c-481a-8b51-2bdd00a0ecff",
   "metadata": {},
   "outputs": [],
   "source": [
    "from classiq.execution import (\n",
    "    ClassiqBackendPreferences,\n",
    "    ClassiqSimulatorBackendNames,\n",
    "    ExecutionPreferences,\n",
    "    set_quantum_program_execution_preferences,\n",
    ")\n",
    "\n",
    "preferences = ExecutionPreferences(\n",
    "    backend_preferences=ClassiqBackendPreferences(\n",
    "        backend_name=ClassiqSimulatorBackendNames.SIMULATOR\n",
    "    )\n",
    ")\n",
    "qprog_simulator = set_quantum_program_execution_preferences(qprog, preferences)"
   ]
  },
  {
   "cell_type": "markdown",
   "id": "dcae72f4-22cf-4782-a5a3-33f61d7dbff8",
   "metadata": {},
   "source": [
    "## Run on a Quantum Simulator!\n",
    "**In the IDE:** Click 'Run' to execute your quantum program on the simulator you chose in the previous step.\n",
    "\n",
    "*Below is the SDK execution code:*"
   ]
  },
  {
   "cell_type": "code",
   "execution_count": 6,
   "id": "799db6c3-7b10-4cbc-8748-af17f6516671",
   "metadata": {},
   "outputs": [],
   "source": [
    "job = execute(qprog_simulator)\n",
    "results = job.result()"
   ]
  },
  {
   "cell_type": "code",
   "execution_count": 7,
   "id": "ed5e73cf-5cb8-436c-8794-b468a43095fd",
   "metadata": {},
   "outputs": [],
   "source": [
    "job.open_in_ide()"
   ]
  },
  {
   "cell_type": "markdown",
   "id": "168fd57f-b83e-4518-a556-b92123c836fa",
   "metadata": {},
   "source": [
    "Look at that cool triangle probability function!\n",
    "**In the IDE:** That's it! You ran your first quantum program.\n",
    "\n",
    "\n",
    "To learn more about the Classiq platform, read the User Guide [[2](#User_Guide)]."
   ]
  },
  {
   "cell_type": "markdown",
   "id": "7e20aa4c-19c7-4ca0-99d2-fcc5f830f59d",
   "metadata": {},
   "source": [
    "## References\n",
    "\n",
    "<a name='Classiq_IDE'>[1]</a>: [Classiq IDE](https://platform.classiq.io/)\n",
    "\n",
    "<a name='User_Guide'>[2]</a>: [Classiq User_Guide](https://docs.classiq.io/latest/)\n"
   ]
  }
 ],
 "metadata": {
  "kernelspec": {
   "display_name": "Python 3 (ipykernel)",
   "language": "python",
   "name": "python3"
  },
  "language_info": {
   "codemirror_mode": {
    "name": "ipython",
    "version": 3
   },
   "file_extension": ".py",
   "mimetype": "text/x-python",
   "name": "python",
   "nbconvert_exporter": "python",
   "pygments_lexer": "ipython3",
   "version": "3.11.9"
  }
 },
 "nbformat": 4,
 "nbformat_minor": 5
}
