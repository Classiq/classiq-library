{
 "cells": [
  {
   "cell_type": "markdown",
   "id": "0",
   "metadata": {},
   "source": [
    "# Exponentiation and Hamiltonian Simulation\n",
    "\n",
    "This tutorial demonstrates how to use the Classiq platform exponentiation function to solve Hamiltonian simulation problems, thereby demonstrating the strength of the Classiq exponentiation module."
   ]
  },
  {
   "cell_type": "markdown",
   "id": "1",
   "metadata": {},
   "source": [
    "## 1. Chemical Simulation\n",
    "\n",
    "Chemical simulation is one of the most exciting applications for quantum computers. When precise simulations of electron-electron interactions are necessary, it is sometimes possible to use a classical computer, but classical computers struggle to simulate more complex molecular interactions. It is best to simulate these particle interactions at the quantum level, and an excellent way to do this is with a quantum computer.\n",
    "\n",
    "The ability to accurately simulate molecular interactions will have extensive applications. When used for drug discovery, it will allow for the rapid development of vaccines and new cures for diseases. In materials research, we can hope to discover materials with higher strength-to-weight ratios and environmentally friendly building materials."
   ]
  },
  {
   "cell_type": "markdown",
   "id": "2",
   "metadata": {},
   "source": [
    "## 2. The H<sub>2</sub>O Hamiltonian Simulation Problem\n",
    "\n",
    "Generate a circuit that approximates the unitary $e^{-iH}$ where $H$ is the qubit Hamiltonian of a H<sub>2</sub>O (water) molecule. The H<sub>2</sub>O Hamiltonian is composed of 551 Pauli strings on twelve qubits."
   ]
  },
  {
   "cell_type": "code",
   "execution_count": 1,
   "id": "3",
   "metadata": {},
   "outputs": [],
   "source": [
    "from openfermion.chem import MolecularData\n",
    "from openfermionpyscf import run_pyscf\n",
    "\n",
    "from classiq import *\n",
    "from classiq.applications.chemistry.mapping import FermionToQubitMapper\n",
    "from classiq.applications.chemistry.op_utils import qubit_op_to_pauli_terms\n",
    "from classiq.applications.chemistry.problems import FermionHamiltonianProblem\n",
    "\n",
    "molecule_H2O_geometry = [\n",
    "    (\"O\", (0.0, 0.0, 0.0)),\n",
    "    (\"H\", (0, 0.586, 0.757)),\n",
    "    (\"H\", (0, 0.586, -0.757)),\n",
    "]\n",
    "molecule = MolecularData(molecule_H2O_geometry, \"sto-3g\", 1, 0)\n",
    "\n",
    "molecule = run_pyscf(molecule)\n",
    "\n",
    "problem = FermionHamiltonianProblem.from_molecule(molecule, first_active_index=1)\n",
    "mapper = FermionToQubitMapper()\n",
    "hamiltonian = qubit_op_to_pauli_terms(mapper.map(problem.fermion_hamiltonian))"
   ]
  },
  {
   "cell_type": "code",
   "execution_count": 2,
   "id": "4",
   "metadata": {},
   "outputs": [
    {
     "name": "stdout",
     "output_type": "stream",
     "text": [
      "Classiq's exponentiation depth is 1475\n",
      "Classiq's exponentiation CX-count is 1586\n",
      "Quantum program link: https://platform.classiq.io/circuit/31BPhXbGYtDrlhhJh8nWFwbcP2N\n"
     ]
    }
   ],
   "source": [
    "@qfunc\n",
    "def main() -> None:\n",
    "    state = QArray()\n",
    "    allocate(hamiltonian.num_qubits, state)\n",
    "    suzuki_trotter(\n",
    "        hamiltonian,\n",
    "        evolution_coefficient=1,\n",
    "        order=1,\n",
    "        repetitions=1,\n",
    "        qbv=state,\n",
    "    )\n",
    "\n",
    "\n",
    "preferences = Preferences(\n",
    "    custom_hardware_settings=CustomHardwareSettings(basis_gates=[\"cx\", \"u\"])\n",
    ")\n",
    "\n",
    "write_qmod(main, \"example_exponentiation\")\n",
    "\n",
    "qprog = synthesize(main, preferences=preferences)\n",
    "\n",
    "print(f\"Classiq's exponentiation depth is {qprog.transpiled_circuit.depth}\")\n",
    "print(\n",
    "    f\"Classiq's exponentiation CX-count is {qprog.transpiled_circuit.count_ops['cx']}\"\n",
    ")\n",
    "show(qprog)"
   ]
  },
  {
   "cell_type": "markdown",
   "id": "5",
   "metadata": {},
   "source": [
    "These impressive results can be compared to the naive exponentiation modules often found in the literature, see comprehensive comparison in the  [Hamiltonian Evolution](https://github.com/Classiq/classiq-library/blob/main/tutorials/technology_demonstrations/hamiltonian_evolution/hamiltonian_evolution.ipynb) notebook."
   ]
  },
  {
   "cell_type": "markdown",
   "id": "6",
   "metadata": {},
   "source": [
    "## 3. Automatic Error Reduction\n",
    "\n",
    "The Classiq exponentiation module provides error management, automatically minimizes the error, and determines the best Trotter-Suzuki order and repetitions for any provided depth. Try this with an arbitrarily input Pauli list on eight qubits."
   ]
  },
  {
   "cell_type": "code",
   "execution_count": 3,
   "id": "7",
   "metadata": {},
   "outputs": [],
   "source": [
    "def sparse_pauli_to_list(operator: SparsePauliOp) -> list[PauliTerm]:\n",
    "    terms_list = []\n",
    "    for term in operator.terms:\n",
    "        pauli_list = [Pauli.I for i in range(operator.num_qubits)]\n",
    "        for p in term.paulis:  # type:ignore[attr-defined]\n",
    "            pauli_list[p.index] = p.pauli\n",
    "        terms_list.append(\n",
    "            PauliTerm(coefficient=term.coefficient, pauli=list(reversed(pauli_list)))\n",
    "        )\n",
    "    return terms_list"
   ]
  },
  {
   "cell_type": "code",
   "execution_count": 4,
   "id": "8",
   "metadata": {},
   "outputs": [
    {
     "name": "stdout",
     "output_type": "stream",
     "text": [
      "Quantum program link: https://platform.classiq.io/circuit/31BPi0Jl7KUoDLA8LOF6DeerEgX\n"
     ]
    }
   ],
   "source": [
    "pauli_sum = (\n",
    "    0.1 * Pauli.X(2) * Pauli.X(3) * Pauli.X(4) * Pauli.Z(5)\n",
    "    + 0.2 * Pauli.Y(2) * Pauli.Y(3) * Pauli.X(4) * Pauli.X(5)\n",
    "    + 0.3 * Pauli.X(0) * Pauli.Y(1) * Pauli.Z(2) * Pauli.Z(3)\n",
    "    + 0.4 * Pauli.X(0) * Pauli.Z(6) * Pauli.X(7)\n",
    "    + 0.5 * Pauli.X(1) * Pauli.Z(2)\n",
    "    + 0.6 * Pauli.Y(0) * Pauli.Z(1)\n",
    "    + 0.7 * Pauli.Y(0) * Pauli.X(1)\n",
    "    + 0.8 * Pauli.Z(2) * Pauli.Y(3) * Pauli.X(4) * Pauli.Y(5)\n",
    "    + 0.9 * Pauli.Z(0) * Pauli.X(1)\n",
    "    + 1.0 * Pauli.Y(3) * Pauli.Z(4) * Pauli.Y(5)\n",
    ")\n",
    "\n",
    "\n",
    "@qfunc\n",
    "def main() -> None:\n",
    "    state = QArray()\n",
    "    allocate(pauli_sum.num_qubits, state)\n",
    "    exponentiation_with_depth_constraint(\n",
    "        pauli_operator=sparse_pauli_to_list(pauli_sum),\n",
    "        evolution_coefficient=0.05,\n",
    "        max_depth=400,\n",
    "        qbv=state,\n",
    "    )\n",
    "\n",
    "\n",
    "write_qmod(main, \"example_exponentiation_minimize_error\")\n",
    "\n",
    "qprog_minimize_error = synthesize(main)\n",
    "show(qprog_minimize_error)"
   ]
  },
  {
   "cell_type": "markdown",
   "id": "9",
   "metadata": {},
   "source": [
    "The Classiq engine automatically opts for six second-order Suzuki-Trotter layers instead of 12 first-order layers, to minimize the error of the exponentiation within the depth constraints."
   ]
  },
  {
   "cell_type": "markdown",
   "id": "10",
   "metadata": {},
   "source": [
    "## 4. Conclusion\n",
    "\n",
    "Classiq packages the domain expertise of dozens of scientists and quantum software engineers into the software platform. The result: a system that can automatically generate efficient quantum circuits for complex problems, making it faster and easier than ever to solve real-life problems with quantum computing. When the circuits are of manageable size, Classiq creates solutions that are on par with the best manually created circuits. When the circuits are larger than those a human can reasonably create, Classiq allows you to progress farther because of its powerful capabilities.\n"
   ]
  }
 ],
 "metadata": {
  "kernelspec": {
   "display_name": "Python 3 (ipykernel)",
   "language": "python",
   "name": "python3"
  },
  "language_info": {
   "codemirror_mode": {
    "name": "ipython",
    "version": 3
   },
   "file_extension": ".py",
   "mimetype": "text/x-python",
   "name": "python",
   "nbconvert_exporter": "python",
   "pygments_lexer": "ipython3",
   "version": "3.11.9"
  }
 },
 "nbformat": 4,
 "nbformat_minor": 9
}
