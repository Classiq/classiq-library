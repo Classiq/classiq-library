{
 "cells": [
  {
   "cell_type": "markdown",
   "id": "0",
   "metadata": {},
   "source": [
    "# Learning Optimization\n",
    "\n",
    "This is a step-by-step example of how to use the Classiq platform at the application level. The goal is to see how easy it can be to use quantum algorithms to solve problems.\n",
    "\n",
    "This is a basic optimization problem:\n",
    "\n",
    "*minimize the expression* $3x_0+2x_1$ *for the non-negative integers* $x_0,x_1$, *given the constraint that* $3x_0+x_1\\ge2$.\n",
    "\n",
    "Of course this is trivial and the solution is $x_0=1,x_1=0$. The goal is to understand how to incorporate the problem with the platform, so you can then continue on to define more complicated problems.\n",
    "\n",
    "This kind of optimization problem is relevant for many real-life scenarios. For example, Amazon wants to determine the best value it can offer to a customer for two items on a Black Friday sale, but it has to earn some minimum value.\n",
    "\n",
    "## How to Solve It?\n",
    "\n",
    "Define the optimization problem with the classical [Pyomo](https://pyomo.readthedocs.io/en/stable/index.html) optimization package in Python. Then, use the platform to convert it to a high-level functional model of quantum algorithms. This functional model is at the heart of the platform as this is the object that is synthesized to an actual quantum circuit using the synthesis engine!\n",
    "\n",
    "After the circuit is synthesized, run it on actual hardware or on a simulator to actually get the result from the quantum algorithm. This tutorial runs the algorithm on the IBM quantum simulator as it is the default option.\n",
    "\n",
    "## What Do You Need to Know about Quantum Algorithms?\n",
    "\n",
    "You need to know almost nothing regarding quantum algorithms, besides one thing. There are two common algorithms used for optimization problems (as well as chemistry): QAOA and VQE. Both are very similar, where QAOA could be seen as a specific type of VQE.\n",
    "\n",
    "For this problem, use the QAOA algorithm. The algorithm has a mandatory parameter that you need to choose, as explained below.\n",
    "\n"
   ]
  },
  {
   "cell_type": "markdown",
   "id": "1",
   "metadata": {},
   "source": [
    "## Getting Started\n",
    "Import the relevant packages. The first is the Pyomo package; the classical optimization package that was installed when you installed Classiq:"
   ]
  },
  {
   "cell_type": "code",
   "execution_count": 37,
   "id": "2",
   "metadata": {},
   "outputs": [],
   "source": [
    "import pyomo.environ as pyo"
   ]
  },
  {
   "cell_type": "markdown",
   "id": "3",
   "metadata": {},
   "source": [
    "Import the objects that translate the optimization problem from the Pyomo language to a high-level quantum functional model:"
   ]
  },
  {
   "cell_type": "code",
   "execution_count": 38,
   "id": "4",
   "metadata": {},
   "outputs": [],
   "source": [
    "from classiq import *\n",
    "from classiq.applications.combinatorial_optimization import *"
   ]
  },
  {
   "cell_type": "markdown",
   "id": "5",
   "metadata": {},
   "source": [
    "## Defining the Problem\n",
    "\n",
    "Initiate a Pyomo application object."
   ]
  },
  {
   "cell_type": "code",
   "execution_count": 39,
   "id": "6",
   "metadata": {},
   "outputs": [],
   "source": [
    "application_level_object = pyo.ConcreteModel()"
   ]
  },
  {
   "cell_type": "markdown",
   "id": "7",
   "metadata": {},
   "source": [
    " This object will contain all the relevant information regarding the optimization problem. The first piece of relevant information is what are the variables. In Pyomo, the way to incorporate the information regarding the variables is using the `pyo.Var` object:"
   ]
  },
  {
   "cell_type": "code",
   "execution_count": 40,
   "id": "8",
   "metadata": {},
   "outputs": [],
   "source": [
    "application_level_object.x = pyo.Var(\n",
    "    [0, 1],  # variables names\n",
    "    domain=pyo.NonNegativeIntegers,  # variables type\n",
    "    bounds=(0, 3),  # variables range\n",
    ")"
   ]
  },
  {
   "cell_type": "markdown",
   "id": "9",
   "metadata": {},
   "source": [
    "In the first line, define 'application_object' with a field called 'x' to contain the problem variables. The variables are defined with a 'pyo.Var' object, containing several things:\n",
    "\n",
    "1. The names of the variables.\n",
    "These are defined by $[1,2]$, indicating $x_0$ and $x_1$, respectively. (Likewise, $[3,7]$ would indicate two variables: $x_3, x_7$.)\n",
    "\n",
    "2. The type/domain of the variables.\n",
    "The variables are non-negative integers, so configure them accordingly using the 'pyo.NonNegativeIntegers' command.\n",
    "\n",
    "3. The bounds of the variables.\n",
    "The variables are configured to get values from 0 to 3, inclusive.\n",
    "\n",
    "While you may prefer a larger range, today's quantum computers (and simulators) are not big enough, so the size of the problems you can solve is quite small (here defined by the number of options: two variables each with four options; i.e., 16 options total).\n",
    "\n",
    "In the application object, define the cost function, which is the objective:"
   ]
  },
  {
   "cell_type": "code",
   "execution_count": 41,
   "id": "10",
   "metadata": {},
   "outputs": [],
   "source": [
    "application_level_object.cost = pyo.Objective(\n",
    "    expr=3 * application_level_object.x[0] + 2 * application_level_object.x[1]\n",
    ")"
   ]
  },
  {
   "cell_type": "markdown",
   "id": "11",
   "metadata": {},
   "source": [
    "In other words, *minimize* $3x_0+2x_1$. Together with the objective, define the constraint:"
   ]
  },
  {
   "cell_type": "code",
   "execution_count": 42,
   "id": "12",
   "metadata": {},
   "outputs": [],
   "source": [
    "application_level_object.constraint = pyo.Constraint(\n",
    "    expr=3 * application_level_object.x[0] + application_level_object.x[1] >= 2\n",
    ")"
   ]
  },
  {
   "cell_type": "markdown",
   "id": "13",
   "metadata": {},
   "source": [
    "I.e., the constraint is $3x_0 + 2x_1 \\ge 2$. There are several ways to define constraints in Pyomo. Here, add a field to the application object called `constraint`, which is equal to some Pyomo constraint object. Read [link](https://docs.classiq.io/latest/user-guide/applications/optimization/problem-formulation/) for more ways of defining constraints.\n",
    "\n",
    "Examine the application object using the Pyomo method 'pprint':\n"
   ]
  },
  {
   "cell_type": "code",
   "execution_count": 43,
   "id": "14",
   "metadata": {},
   "outputs": [
    {
     "name": "stdout",
     "output_type": "stream",
     "text": [
      "1 Var Declarations\n",
      "    x : Size=2, Index={0, 1}\n",
      "        Key : Lower : Value : Upper : Fixed : Stale : Domain\n",
      "          0 :     0 :  None :     3 : False :  True : NonNegativeIntegers\n",
      "          1 :     0 :  None :     3 : False :  True : NonNegativeIntegers\n",
      "\n",
      "1 Objective Declarations\n",
      "    cost : Size=1, Index=None, Active=True\n",
      "        Key  : Active : Sense    : Expression\n",
      "        None :   True : minimize : 3*x[0] + 2*x[1]\n",
      "\n",
      "1 Constraint Declarations\n",
      "    constraint : Size=1, Index=None, Active=True\n",
      "        Key  : Lower : Body          : Upper : Active\n",
      "        None :   2.0 : 3*x[0] + x[1] :  +Inf :   True\n",
      "\n",
      "3 Declarations: x cost constraint\n"
     ]
    }
   ],
   "source": [
    "application_level_object.pprint()"
   ]
  },
  {
   "cell_type": "markdown",
   "id": "15",
   "metadata": {},
   "source": [
    "See how all the information regarding the problem is organized in this Pyomo application object.\n",
    "\n",
    "## Entering the Quantum World\n",
    "\n",
    "So far, you have only used the Pyomo package and spoken the *optimization language*. You now need some quantum knowledge for the optimization problem.\n",
    "\n",
    "Set the number of repetitions of the QAOA sub-circuit. The QAOA algorithm contains a QAOA sub-circuit that might repeat several times. Roughly speaking, the more repetitions, the better the algorithm.\n",
    "\n",
    "Having said that, as you saw, there is a limited range of parameters due to the small size of today's quantum computers. There is also an issue with the length of the quantum circuit due to the relatively low quality of today's quantum circuits (again due to the limited power of the quantum simulators). Therefore, start with one repetition of the sub-circuit, and later you can change it to see how the results change.\n",
    "\n",
    "Define the QAOA configuration:"
   ]
  },
  {
   "cell_type": "code",
   "execution_count": 44,
   "id": "16",
   "metadata": {},
   "outputs": [],
   "source": [
    "combi = CombinatorialProblem(application_level_object, num_layers=1, penalty_factor=20)"
   ]
  },
  {
   "cell_type": "markdown",
   "id": "17",
   "metadata": {},
   "source": [
    "## Seamlessly Generating the Functional Level Model\n",
    "Now with the application object and the QAOA configuration defined, ask the platform to convert it into a high-level quantum functional model. "
   ]
  },
  {
   "cell_type": "code",
   "execution_count": 45,
   "id": "18",
   "metadata": {},
   "outputs": [],
   "source": [
    "qmod = combi.get_model()"
   ]
  },
  {
   "cell_type": "markdown",
   "id": "19",
   "metadata": {},
   "source": [
    "Congratulations! You just defined your first quantum model that encapsulates the functionality of your quantum algorithm, without mentioning anything related to qubits or quantum gates!\n",
    "\n",
    "Ask the system to solve the model using the quantum algorithm:"
   ]
  },
  {
   "cell_type": "markdown",
   "id": "20",
   "metadata": {},
   "source": [
    "Synthesizing the model:"
   ]
  },
  {
   "cell_type": "code",
   "execution_count": 46,
   "id": "21",
   "metadata": {},
   "outputs": [],
   "source": [
    "qprog = combi.get_qprog()"
   ]
  },
  {
   "cell_type": "markdown",
   "id": "22",
   "metadata": {},
   "source": [
    "Optimize the parameters of the circuit:"
   ]
  },
  {
   "cell_type": "code",
   "execution_count": 47,
   "id": "23",
   "metadata": {},
   "outputs": [],
   "source": [
    "optimized_params = combi.optimize()"
   ]
  },
  {
   "cell_type": "markdown",
   "id": "24",
   "metadata": {},
   "source": [
    "Examine the solution:"
   ]
  },
  {
   "cell_type": "code",
   "execution_count": 49,
   "id": "25",
   "metadata": {},
   "outputs": [
    {
     "data": {
      "text/html": [
       "<div>\n",
       "<style scoped>\n",
       "    .dataframe tbody tr th:only-of-type {\n",
       "        vertical-align: middle;\n",
       "    }\n",
       "\n",
       "    .dataframe tbody tr th {\n",
       "        vertical-align: top;\n",
       "    }\n",
       "\n",
       "    .dataframe thead th {\n",
       "        text-align: right;\n",
       "    }\n",
       "</style>\n",
       "<table border=\"1\" class=\"dataframe\">\n",
       "  <thead>\n",
       "    <tr style=\"text-align: right;\">\n",
       "      <th></th>\n",
       "      <th>solution</th>\n",
       "      <th>probability</th>\n",
       "      <th>cost</th>\n",
       "    </tr>\n",
       "  </thead>\n",
       "  <tbody>\n",
       "    <tr>\n",
       "      <th>211</th>\n",
       "      <td>{'x': [1, 0], 'constraint_slack_var': [1, 0, 0...</td>\n",
       "      <td>0.002441</td>\n",
       "      <td>3.0</td>\n",
       "    </tr>\n",
       "    <tr>\n",
       "      <th>35</th>\n",
       "      <td>{'x': [0, 2], 'constraint_slack_var': [0, 0, 0...</td>\n",
       "      <td>0.005371</td>\n",
       "      <td>4.0</td>\n",
       "    </tr>\n",
       "    <tr>\n",
       "      <th>241</th>\n",
       "      <td>{'x': [1, 1], 'constraint_slack_var': [0, 1, 0...</td>\n",
       "      <td>0.001465</td>\n",
       "      <td>5.0</td>\n",
       "    </tr>\n",
       "    <tr>\n",
       "      <th>225</th>\n",
       "      <td>{'x': [2, 0], 'constraint_slack_var': [1, 0, 0...</td>\n",
       "      <td>0.002441</td>\n",
       "      <td>6.0</td>\n",
       "    </tr>\n",
       "    <tr>\n",
       "      <th>103</th>\n",
       "      <td>{'x': [2, 0], 'constraint_slack_var': [0, 0, 1...</td>\n",
       "      <td>0.003906</td>\n",
       "      <td>6.0</td>\n",
       "    </tr>\n",
       "  </tbody>\n",
       "</table>\n",
       "</div>"
      ],
      "text/plain": [
       "                                              solution  probability  cost\n",
       "211  {'x': [1, 0], 'constraint_slack_var': [1, 0, 0...     0.002441   3.0\n",
       "35   {'x': [0, 2], 'constraint_slack_var': [0, 0, 0...     0.005371   4.0\n",
       "241  {'x': [1, 1], 'constraint_slack_var': [0, 1, 0...     0.001465   5.0\n",
       "225  {'x': [2, 0], 'constraint_slack_var': [1, 0, 0...     0.002441   6.0\n",
       "103  {'x': [2, 0], 'constraint_slack_var': [0, 0, 1...     0.003906   6.0"
      ]
     },
     "execution_count": 49,
     "metadata": {},
     "output_type": "execute_result"
    }
   ],
   "source": [
    "import pandas as pd\n",
    "\n",
    "optimization_result = combi.sample(optimized_params)\n",
    "optimization_result.sort_values(by=\"cost\").head(5)"
   ]
  },
  {
   "cell_type": "code",
   "execution_count": 50,
   "id": "26",
   "metadata": {},
   "outputs": [
    {
     "name": "stdout",
     "output_type": "stream",
     "text": [
      "x = {'x': [1, 0], 'constraint_slack_var': [1, 0, 0, 0]} , cost = 3.0\n"
     ]
    }
   ],
   "source": [
    "idx = optimization_result.cost.idxmin()\n",
    "print(\n",
    "    \"x =\", optimization_result.solution[idx], \", cost =\", optimization_result.cost[idx]\n",
    ")"
   ]
  },
  {
   "cell_type": "markdown",
   "id": "27",
   "metadata": {},
   "source": [
    "The solution is $x_0=1, x_1=0$. Yes, you succeeded in solving the optimization problem using a quantum algorithm! :)\n",
    "\n",
    "Wait a minute, you might ask, *'Where are all the qubits and gates I have heard about?\n",
    "'*\n",
    "\n",
    "That is a good question! While you can design algorithms at the application and functional levels, you also have access to the qubit level to further understand the algorithm and get into detail with more options!\n",
    "\n",
    "This is easily done. The synthesis engine output is a quantum circuit object, so visualize it with the 'show' command that prompts a website to interactively display the circuit for deeper analysis. You can examine how your circuit looks, from high level to the qubit level."
   ]
  },
  {
   "cell_type": "code",
   "execution_count": 51,
   "id": "28",
   "metadata": {},
   "outputs": [
    {
     "name": "stdout",
     "output_type": "stream",
     "text": [
      "Quantum program link: https://platform.classiq.io/circuit/31EYZhPUvLDS1WdG6oKHQSmqAxR\n"
     ]
    }
   ],
   "source": [
    "show(qprog)"
   ]
  },
  {
   "cell_type": "markdown",
   "id": "29",
   "metadata": {},
   "source": [
    "Now that you understand better how the platform works, there is one last thing worth mentioning. When you solved the model by executing the synthesis engine's output quantum circuit, behind the scenes the circuit was sent to the default Executor (IBM simulator) with classical optimization preferences to return the optimization result.\n",
    "\n",
    "Because this example shows how to use the platform at the application level, many details in the flow were determined behind the scenes. For more control of your design, and to design the algorithm from the functional level so to gain more control and capabilities, do the next tutorial ;)"
   ]
  }
 ],
 "metadata": {
  "kernelspec": {
   "display_name": "Python 3 (ipykernel)",
   "language": "python",
   "name": "python3"
  },
  "language_info": {
   "codemirror_mode": {
    "name": "ipython",
    "version": 3
   },
   "file_extension": ".py",
   "mimetype": "text/x-python",
   "name": "python",
   "nbconvert_exporter": "python",
   "pygments_lexer": "ipython3",
   "version": "3.11.4"
  },
  "vscode": {
   "interpreter": {
    "hash": "ec402a1632ecaf364e9e142e2f48c85b41212f15ad2d88f302a959b5a6769b70"
   }
  }
 },
 "nbformat": 4,
 "nbformat_minor": 9
}
