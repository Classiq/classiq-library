{
 "cells": [
  {
   "cell_type": "markdown",
   "metadata": {},
   "source": [
    "# Qmod Tutorial - Part 1"
   ]
  },
  {
   "cell_type": "markdown",
   "metadata": {},
   "source": [
    "In this tutorial, we will cover the basics of the Qmod language and its accompanying library.\n",
    "We will learn to use quantum variables, functions, and operators.\n",
    "\n",
    "Let's begin with a simple code example:"
   ]
  },
  {
   "cell_type": "code",
   "execution_count": 1,
   "metadata": {},
   "outputs": [],
   "source": [
    "from classiq import *\n",
    "\n",
    "\n",
    "@qfunc\n",
    "def foo(q: QBit) -> None:\n",
    "    X(q)\n",
    "    H(q)\n",
    "\n",
    "\n",
    "@qfunc\n",
    "def main(q: Output[QBit]) -> None:\n",
    "    allocate(q)\n",
    "    foo(q)\n",
    "\n",
    "\n",
    "qmod = create_model(main)"
   ]
  },
  {
   "cell_type": "markdown",
   "metadata": {},
   "source": [
    "Function `foo` takes the quantum parameter `q` of type `QBit` and applies `X` gate to it, followed by `H` gate.\n",
    "Function `main` declares a single `Output` parameter `q` of type `QBit`. It first allocates a qubit to `q`, then calls `foo` to operate on it.\n",
    "A representation of the model `qmod` is created based on function `main`, so that it can later be synthesized and executed.\n",
    "\n",
    "What results do we expect when executing this model?\n",
    "- By calling `allocate`, `q` is initialized in the default state $|0\\rangle$.\n",
    "- Then, `foo` is called:\n",
    "  - It applies `X` (NOT gate), changing `q`'s state to $|1\\rangle$.\n",
    "  - Then it applies `H` (Hadamard gate), resulting in the superposition $\\frac{1}{\\sqrt{2}} (|0\\rangle - |1\\rangle)$.\n",
    "\n",
    "When executing the model, the output variable `q` is sampled. We can run the following code and make sure that the states $|0\\rangle$ and $|1\\rangle$ are sampled roughly equally:"
   ]
  },
  {
   "cell_type": "code",
   "execution_count": 2,
   "metadata": {},
   "outputs": [
    {
     "data": {
      "text/plain": [
       "[{'q': 0}: 1057, {'q': 1}: 991]"
      ]
     },
     "execution_count": 2,
     "metadata": {},
     "output_type": "execute_result"
    }
   ],
   "source": [
    "job = execute(synthesize(qmod))\n",
    "job.get_sample_result().parsed_counts"
   ]
  },
  {
   "cell_type": "markdown",
   "metadata": {},
   "source": [
    "## Qmod Fundementals\n",
    "\n",
    "The simple model above demonstrates several features that are essential in every Qmod code:\n",
    "\n",
    "### The `@qfunc` Decorator\n",
    "Qmod is a quantum programming language embedded in Python. The decorator `@qfunc` designates a quantum function, so that it can be processed by the Qmod tool chain. The Python function is executed at a later point to construct the Qmod representation. This decorator is used for every Qmod function definition.\n",
    "\n",
    "### Function `main`\n",
    "A complete Qmod model, that is, a description that can be synthesized and executed, must define a function called `main`. Function `main` is the quantum entry point - it specifies the inputs and outputs of the quantum program, that is, its interface with the external classical execution logic. Similar to conventional programming languages, function `main`, can call other functions.\n",
    "Output variables that are declared in `main` definition are the ones to be measured when the program is executed.\n",
    "\n",
    "### Working with Quantum Variables\n",
    "Quantum objects are representations of data (boolean values, numbers, arrays of numbers and so on), that are stored in specific qubits.\n",
    "In Qmod, quantum objects are handled and manipulated using __quantum variables__. Quantum variables must be declared and initialized explicitly.\n",
    "The model above demonstrates two important kinds of declaration:\n",
    "-  Function `foo` declares parameter `q` thus: `q: QBit`. This declaration means `foo` expects a pre-existing quantum object.\n",
    "-  Function `main` declares parameter `q` thus: `q: Output[QBit]`. In this case, `q` is an output-only parameter - it is initialized inside the scope of `main`.\n",
    "  \n",
    "Prior to their initialization, local quantum variables and output parameters do not reference any object (this is analogous to null reference in conventional languages). They may be initialized in the following ways:\n",
    "- Using [`allocate`](https://docs.classiq.io/latest/qmod-reference/api-reference/operations/?h=allocate#classiq.qmod.builtins.operations.allocate) to initialize the variable to a new object, with all its qubits in the default $|0\\rangle$ state.\n",
    "- Using [numeric assignment](https://docs.classiq.io/latest/qmod-reference/language-reference/statements/numeric-assignment/) to initialize the variable to an object representing the result of a quantum expression.\n",
    "- Using functions with output parameters (for example, [state preparation](https://docs.classiq.io/latest/qmod-reference/library-reference/core-library-functions/prepare_state_and_amplitudes/prepare_state_and_amplitudes/)).\n",
    "\n",
    "Note: all the variables in `main` must be declared as `Output`, as `main` is the entry point of the model (Think about it: where could a variable be initialized before `main` was called?). Other functions can declare parameters with or without the `Output` modifier.\n",
    "    "
   ]
  },
  {
   "cell_type": "markdown",
   "metadata": {},
   "source": [
    "### Exercise #0\n",
    "Rewrite the above model, so that `q` is initilized inside `foo`.\n",
    "A solution is provided in the end of the notebook.\n",
    "Hint: it only requires to move one line of code and add the `Output` modifier in the correct place."
   ]
  },
  {
   "cell_type": "code",
   "execution_count": 3,
   "metadata": {},
   "outputs": [
    {
     "data": {
      "text/plain": [
       "[{'q': 1}: 1065, {'q': 0}: 983]"
      ]
     },
     "execution_count": 3,
     "metadata": {},
     "output_type": "execute_result"
    }
   ],
   "source": [
    "from classiq import *\n",
    "\n",
    "# Your code here\n",
    "...\n",
    "\n",
    "# execute the model to see that we get similar results\n",
    "qmod = create_model(main)\n",
    "qprog = synthesize(qmod)\n",
    "job = execute(qprog)\n",
    "job.get_sample_result().parsed_counts"
   ]
  },
  {
   "cell_type": "markdown",
   "metadata": {},
   "source": [
    "## Quantum Types, Statements and Opertions\n",
    "Now that we have grasped the principles that are essential for any Qmod code, we can start building up our expressive toolkit, letting us create increasingly sophisticated models.\n",
    "The following exercises introduce some of the most useful variable types, statements and operations that Qmod supports.\n"
   ]
  },
  {
   "cell_type": "markdown",
   "metadata": {},
   "source": [
    "### Exercise #1 - Quantum Arrays\n",
    "After we have familiarized with the `QBit` varible type (which is simply a single qubit), it is a good timing to introduce the quantum array type `QArray`.\n",
    "\n",
    "In this exercise, we will prepare the famous $|+\\rangle$ [Bell state](https://en.wikipedia.org/wiki/Bell_state) into a 2-qubit [Quantum array](https://docs.classiq.io/latest/qmod-reference/language-reference/quantum-types/#quantum-arrays).\n",
    "\n",
    "Recall that $|+\\rangle$ represents the state $\\frac{1}{\\sqrt{2}} (|00\\rangle + |11\\rangle)$.\n",
    "\n",
    "Instructions:\n",
    "1. Declare a quantum variable `qarr` of type `QArray`, and initilize it by allocating to it 2 qubits. Don't forget to use the `Output` modifier.\n",
    "2. Apply a Hadamard gate on the first qubit of `qarr`. Qmod counts from 0, so the first entry of `qarr` is `qarr[0]`.\n",
    "3. Apply `CX` (controlled-NOT gate), with the `control` parameter being `qarr[0]` and the `target` parameter being `qarr[1]`.\n",
    "\n",
    "Synthesize and execute your model to assure that $|00\\rangle$ and $|11\\rangle$ are the only states to be measured, and that they are measured roughly equally.\n"
   ]
  },
  {
   "cell_type": "code",
   "execution_count": null,
   "metadata": {},
   "outputs": [],
   "source": [
    "from classiq import *\n",
    "\n",
    "# Your code here:\n",
    "...\n",
    "\n",
    "# execute and inspect the results\n",
    "qmod = create_model(main)\n",
    "qprog = synthesize(qmod)\n",
    "job = execute(qprog)\n",
    "job.get_sample_result().parsed_counts"
   ]
  },
  {
   "cell_type": "markdown",
   "metadata": {},
   "source": [
    "### Exercise #2 - The Repeat Statement\n",
    "\n",
    "Use Qmod's `repeat` statement to create your own Hadamard Transform - a function that takes a `QArray` of an unspecified size and applies `H` to each of its qubits.\n",
    "\n",
    "Instructions:\n",
    "1. Define a function `my_hadamard_transform`:\n",
    "   - It should have a single `QArray` argument `q`.\n",
    "   - Use `repeat` to apply `H` on each of `q`'s qubits.\n",
    "   - Note that the `iteration` block of the `repeat` statement must use the Python `lambda` syntax (see `repeat` [documentation](https://docs.classiq.io/latest/qmod-reference/language-reference/statements/classical-control-flow/#classical-repeat)).\n",
    "2. define a `main` function that initializes a `QArray` of length 10, and then passes it to `my_hadamard_transform`.\n",
    "\n",
    "The provided code continues by calling `show` to let you inspect the resulting circuit - make sure that is applies `H` to each of `q`'s qubits."
   ]
  },
  {
   "cell_type": "code",
   "execution_count": 6,
   "metadata": {},
   "outputs": [
    {
     "name": "stdout",
     "output_type": "stream",
     "text": [
      "Opening: https://platform.classiq.io/circuit/2t81iPMifv2HTeqaeYyBTK6csUO?version=0.68.0\n"
     ]
    }
   ],
   "source": [
    "from classiq import *\n",
    "\n",
    "# Your code here:\n",
    "...\n",
    "\n",
    "# synthesize the model and show the result\n",
    "qmod = create_model(main)\n",
    "qprog = synthesize(qmod)\n",
    "show(qprog)"
   ]
  },
  {
   "cell_type": "markdown",
   "metadata": {},
   "source": [
    "### Exercise #3 - Power\n",
    "Raising a quantum operation to an integer power appears in many known algorithms; for example, in Grover search and Quantum Phase Estimation.\n",
    "In the general case the implementation involves repeating the same circuit multiple times.\n",
    "\n",
    "Sometimes, however, the implementation of the power operation can be simplified, thereby saving computational resources.\n",
    "A simple example is the operation of rotating a single qubit about the X, Y, or Z axis. In this case the rotation gate can be used once with the angle multiplied by the exponent. A similar example is the function [unitary](https://docs.classiq.io/latest/qmod-reference/library-reference/core-library-functions/unitary/unitary/) - an operation expressed as an explicit unitary matrix (i.e., all n*n matrix terms are given). Raising the operation can be done by raising the matrix to that power via classical computation.\n",
    "\n",
    "See [power operator](https://docs.classiq.io/latest/qmod-reference/language-reference/statements/power/#syntax).\n",
    "\n",
    "Use the following code to define the value of a Qmod constant named `unitary_matrix` as a 4x4 (real) unitary:"
   ]
  },
  {
   "cell_type": "code",
   "execution_count": null,
   "metadata": {},
   "outputs": [],
   "source": [
    "from typing import List\n",
    "\n",
    "import numpy as np\n",
    "\n",
    "from classiq import *\n",
    "\n",
    "rng = np.random.default_rng(seed=0)\n",
    "random_matrix = rng.random((4, 4))\n",
    "qr_unitary, _ = np.linalg.qr(random_matrix)\n",
    "\n",
    "unitary_matrix = QConstant(\"unitary_matrix\", List[List[float]], qr_unitary.tolist())"
   ]
  },
  {
   "cell_type": "markdown",
   "metadata": {},
   "source": [
    "\n",
    "1. Create a model that applies `unitary_matrix` on a 2-qubit variable three times (e.g. using `repeat`).\n",
    "2. Create another model that applies `unitary_matrix` raised to the power of 3 on a 2-qubit variable.\n",
    "3. Compare the gate count via the Classiq IDE in both cases."
   ]
  },
  {
   "cell_type": "code",
   "execution_count": null,
   "metadata": {},
   "outputs": [],
   "source": [
    "from classiq import *\n",
    "\n",
    "# Your code here:\n",
    "...\n",
    "\n",
    "qmod = create_model(main)\n",
    "qprog = synthesize(qmod)\n",
    "show(qprog)"
   ]
  },
  {
   "cell_type": "markdown",
   "metadata": {},
   "source": [
    "### Exercise 4 - User-defined Operators\n",
    "Create a function that applies a given single-qubit operation to all qubits in its quantum argument (call your function `my_apply_to_all`). Such a function is also called an operator; i.e., a function that takes another function as an argument (its operand).\n",
    "\n",
    "See [operators](https://docs.classiq.io/latest/qmod-reference/language-reference/operators/).\n",
    "\n",
    "Follow these guidelines:\n",
    "1. Your function declares a parameter of type qubit array and a parameter of a function type with a single qubit parameter.\n",
    "2. The body applies the operand to all qubits in the argument.\n",
    "\n",
    "Now, re-implement `my_hadamard_transform` from Exercise 2 using this function instead of `repeat`.\n",
    "Use the same main function from Exercise 2."
   ]
  },
  {
   "cell_type": "code",
   "execution_count": null,
   "metadata": {},
   "outputs": [],
   "source": [
    "from classiq import *\n",
    "\n",
    "# Your code here:\n",
    "...\n",
    "\n",
    "qmod = create_model(main)\n",
    "qprog = synthesize(qmod)\n",
    "show(qprog)"
   ]
  },
  {
   "cell_type": "markdown",
   "metadata": {},
   "source": [
    "### Exercise 5 -  Quantum Conditionals\n",
    "\n",
    "#### Exercise 5a - Control Operator\n",
    "Use the built-in `control` operator to create a function that receives two single qubit variables and uses one of them to control an RY gate with a `pi/2` angle acting on the other variable (without using the `CRY` function).\n",
    "\n",
    "See [control](https://docs.classiq.io/latest/qmod-reference/language-reference/statements/control/#syntax).\n"
   ]
  },
  {
   "cell_type": "code",
   "execution_count": null,
   "metadata": {},
   "outputs": [],
   "source": [
    "from classiq import *\n",
    "\n",
    "# Your code here:\n",
    "...\n",
    "\n",
    "qmod = create_model(main)\n",
    "qprog = synthesize(qmod)\n",
    "show(qprog)"
   ]
  },
  {
   "cell_type": "markdown",
   "metadata": {},
   "source": [
    "#### Exercise 5b - Control Operator with Quantum Expressions\n",
    "The `control` operator is the conditional application of some operation, with the condition being that all control qubits are in the state $|1\\rangle$. This notion is generalized in Qmod to other control states, where the condition is specified as a comparison between a quantum numeric variable and a numeric value, similar to a classical `if` statement. Quantum numeric variables are declared with class `QNum`.\n",
    "\n",
    "See [numeric types](https://docs.classiq.io/latest/qmod-reference/language-reference/quantum-types/#syntax).\n",
    "\n",
    "1. Declare a `QNum` output argument using `Output[QNum]` and name it `x`.\n",
    "2. Use numeric assignment (the `|=` operator) to initialize it to `9`.\n",
    "3. Execute the circuit and observe the results.\n",
    "4. Declare another output argument of type `QBit` and perform a `control` such that if `x` is 9, the qubit is flipped. Execute the circuit and observe the results. Repeat for a different condition."
   ]
  },
  {
   "cell_type": "code",
   "execution_count": null,
   "metadata": {},
   "outputs": [],
   "source": [
    "from classiq import *\n",
    "\n",
    "# Your code here:\n",
    "...\n",
    "\n",
    "qmod = create_model(main)\n",
    "qprog = synthesize(qmod)\n",
    "show(qprog)"
   ]
  },
  {
   "cell_type": "markdown",
   "metadata": {},
   "source": [
    "## Solutions"
   ]
  },
  {
   "cell_type": "markdown",
   "metadata": {},
   "source": [
    "### Solution - Excercise #0"
   ]
  },
  {
   "cell_type": "code",
   "execution_count": 3,
   "metadata": {},
   "outputs": [
    {
     "data": {
      "text/plain": [
       "[{'q': 0}: 1039, {'q': 1}: 1009]"
      ]
     },
     "execution_count": 3,
     "metadata": {},
     "output_type": "execute_result"
    }
   ],
   "source": [
    "from classiq import *\n",
    "\n",
    "\n",
    "# rewrite the model, initializing q inside foo\n",
    "@qfunc\n",
    "def foo(q: Output[QBit]) -> None:\n",
    "    allocate(1, q)\n",
    "    X(q)\n",
    "    H(q)\n",
    "\n",
    "\n",
    "@qfunc\n",
    "def main(q: Output[QBit]) -> None:\n",
    "    foo(q)\n",
    "\n",
    "\n",
    "# execute the model to see that we get similar results\n",
    "qmod = create_model(main)\n",
    "qprog = synthesize(qmod)\n",
    "job = execute(qprog)\n",
    "job.get_sample_result().parsed_counts"
   ]
  },
  {
   "cell_type": "markdown",
   "metadata": {},
   "source": [
    "### Solution - Exercise #1"
   ]
  },
  {
   "cell_type": "code",
   "execution_count": 5,
   "metadata": {},
   "outputs": [
    {
     "data": {
      "text/plain": [
       "[{'qarr': [1, 1]}: 1045, {'qarr': [0, 0]}: 1003]"
      ]
     },
     "execution_count": 5,
     "metadata": {},
     "output_type": "execute_result"
    }
   ],
   "source": [
    "from classiq import *\n",
    "\n",
    "\n",
    "@qfunc\n",
    "def bell(qarr: QArray[QBit, 2]) -> None:\n",
    "    H(qarr[0])\n",
    "    CX(qarr[0], qarr[1])\n",
    "\n",
    "\n",
    "@qfunc\n",
    "def main(qarr: Output[QArray]) -> None:\n",
    "    allocate(2, qarr)\n",
    "    bell(qarr)\n",
    "\n",
    "\n",
    "# execute and inspect the results\n",
    "qmod = create_model(main)\n",
    "qprog = synthesize(qmod)\n",
    "job = execute(qprog)\n",
    "job.get_sample_result().parsed_counts"
   ]
  },
  {
   "cell_type": "markdown",
   "metadata": {},
   "source": [
    "### Solution - Exercise #2"
   ]
  },
  {
   "cell_type": "code",
   "execution_count": null,
   "metadata": {},
   "outputs": [],
   "source": [
    "from classiq import *\n",
    "\n",
    "\n",
    "@qfunc\n",
    "def my_hadamard_transform(q: QArray[QBit]) -> None:\n",
    "    repeat(q.len, lambda i: H(q[i]))\n",
    "\n",
    "\n",
    "@qfunc\n",
    "def main(q: Output[QArray[QBit]]) -> None:\n",
    "    allocate(10, q)\n",
    "    my_hadamard_transform(q)\n",
    "\n",
    "\n",
    "qmod = create_model(main)\n",
    "qprog = synthesize(qmod)\n",
    "show(qprog)"
   ]
  },
  {
   "cell_type": "markdown",
   "metadata": {},
   "source": [
    "### Solution - Exercise #3"
   ]
  },
  {
   "cell_type": "code",
   "execution_count": null,
   "metadata": {},
   "outputs": [],
   "source": [
    "from typing import List\n",
    "\n",
    "import numpy as np\n",
    "\n",
    "from classiq import *\n",
    "\n",
    "rng = np.random.default_rng(seed=0)\n",
    "random_matrix = rng.random((4, 4))\n",
    "qr_unitary, _ = np.linalg.qr(random_matrix)\n",
    "\n",
    "unitary_matrix = QConstant(\"unitary_matrix\", List[List[float]], qr_unitary.tolist())\n",
    "\n",
    "\n",
    "@qfunc\n",
    "def main(q: Output[QArray[QBit]]) -> None:\n",
    "    allocate(2, q)\n",
    "    power(3, lambda: unitary(unitary_matrix, q))\n",
    "\n",
    "\n",
    "qmod = create_model(main)\n",
    "qprog = synthesize(qmod)\n",
    "show(qprog)"
   ]
  },
  {
   "cell_type": "markdown",
   "metadata": {},
   "source": [
    "### Solution - Exercise #4"
   ]
  },
  {
   "cell_type": "code",
   "execution_count": 8,
   "metadata": {},
   "outputs": [
    {
     "name": "stdout",
     "output_type": "stream",
     "text": [
      "Opening: https://platform.classiq.io/circuit/2t84SnF8EYfauWTKi0DG0scuIiV?version=0.68.0\n"
     ]
    }
   ],
   "source": [
    "from classiq import *\n",
    "\n",
    "\n",
    "@qfunc\n",
    "def my_apply_to_all(operand: QCallable[QBit], q: QArray[QBit]) -> None:\n",
    "    repeat(q.len, lambda i: operand(q[i]))\n",
    "\n",
    "\n",
    "@qfunc\n",
    "def my_hadamard_transform(q: QArray[QBit]) -> None:\n",
    "    my_apply_to_all(lambda t: H(t), q)\n",
    "\n",
    "\n",
    "@qfunc\n",
    "def main(q: Output[QArray[QBit]]) -> None:\n",
    "    allocate(10, q)\n",
    "    my_hadamard_transform(q)\n",
    "\n",
    "\n",
    "qmod = create_model(main)\n",
    "qprog = synthesize(qmod)\n",
    "show(qprog)"
   ]
  },
  {
   "cell_type": "markdown",
   "metadata": {},
   "source": [
    "### Solution - Exercise #5"
   ]
  },
  {
   "cell_type": "markdown",
   "metadata": {},
   "source": [
    "#### Solution - Exercise #5a"
   ]
  },
  {
   "cell_type": "code",
   "execution_count": null,
   "metadata": {},
   "outputs": [],
   "source": [
    "from classiq import *\n",
    "from classiq.qmod.symbolic import pi\n",
    "\n",
    "\n",
    "@qfunc\n",
    "def my_controlled_ry(control_bit: QBit, target: QBit) -> None:\n",
    "    control(control_bit, lambda: RY(pi / 2, target))\n",
    "\n",
    "\n",
    "@qfunc\n",
    "def main(control_bit: Output[QBit], target: Output[QBit]) -> None:\n",
    "    allocate(1, control_bit)\n",
    "    allocate(1, target)\n",
    "    my_controlled_ry(control_bit, target)\n",
    "\n",
    "\n",
    "qmod = create_model(main)\n",
    "qprog = synthesize(qmod)\n",
    "show(qprog)"
   ]
  },
  {
   "cell_type": "markdown",
   "metadata": {},
   "source": [
    "#### Solution - Exercise #5b"
   ]
  },
  {
   "cell_type": "code",
   "execution_count": null,
   "metadata": {},
   "outputs": [],
   "source": [
    "from classiq import *\n",
    "\n",
    "\n",
    "@qfunc\n",
    "def main(x: Output[QNum], target: Output[QBit]) -> None:\n",
    "    x |= 9\n",
    "    allocate(1, target)\n",
    "    control(x == 9, lambda: X(target))\n",
    "\n",
    "\n",
    "qmod = create_model(main)\n",
    "qprog = synthesize(qmod)\n",
    "show(qprog)"
   ]
  }
 ],
 "metadata": {
  "kernelspec": {
   "display_name": "Python 3 (ipykernel)",
   "language": "python",
   "name": "python3"
  },
  "language_info": {
   "codemirror_mode": {
    "name": "ipython",
    "version": 3
   },
   "file_extension": ".py",
   "mimetype": "text/x-python",
   "name": "python",
   "nbconvert_exporter": "python",
   "pygments_lexer": "ipython3",
   "version": "3.11.7"
  }
 },
 "nbformat": 4,
 "nbformat_minor": 4
}
