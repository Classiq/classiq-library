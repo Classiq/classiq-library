{
 "cells": [
  {
   "cell_type": "markdown",
   "metadata": {},
   "source": [
    "# Synthesis Tutorial\n",
    "\n",
    "Classiq's synthesis engine takes a high-level model written in the Qmod language, and compiles it into an executable gate-level circuit.\n",
    "\n",
    "When mapping high-level functionality to concrete circuits, there may be many different but equivalent possible implementations that reflect tradeoffs in the overall depth, width, gate counts, etc. For example, implementing a multi-controlled-not operation can be shallower in gates given more auxiliary qubits. Choosing the best implementation for a specific operation instance depends on the overall constraints and objectives, as well as the specific structure of the quantum program.\n",
    "\n",
    "Let's look at a simple model, and use Classiq's synthesis engine to compile it given different optimization objectives."
   ]
  },
  {
   "cell_type": "code",
   "execution_count": 1,
   "metadata": {
    "ExecuteTime": {
     "end_time": "2025-02-19T09:57:25.784056Z",
     "start_time": "2025-02-19T09:57:25.755663Z"
    }
   },
   "outputs": [],
   "source": [
    "from classiq import *\n",
    "\n",
    "\n",
    "@qfunc\n",
    "def main(x: Output[QNum[3]], y: Output[QNum]) -> None:\n",
    "    allocate(x)\n",
    "    hadamard_transform(x)\n",
    "    y |= x**2 + 1"
   ]
  },
  {
   "cell_type": "markdown",
   "metadata": {},
   "source": [
    "First, let's synthesize to optimize on circuit depth, i.e. to minimize the longest path formed by gates in the circuit (and hence affects the required coherence time)."
   ]
  },
  {
   "cell_type": "code",
   "execution_count": 2,
   "metadata": {
    "ExecuteTime": {
     "end_time": "2025-02-19T09:57:33.595260Z",
     "start_time": "2025-02-19T09:57:25.795982Z"
    }
   },
   "outputs": [],
   "source": [
    "qprog_opt_depth = synthesize(\n",
    "    model=main,\n",
    "    constraints=Constraints(optimization_parameter=OptimizationParameter.DEPTH),\n",
    ")"
   ]
  },
  {
   "cell_type": "markdown",
   "metadata": {},
   "source": [
    "We can inspect the resulting circuit using Classiq's web visualization:\n"
   ]
  },
  {
   "cell_type": "code",
   "execution_count": 3,
   "metadata": {
    "ExecuteTime": {
     "end_time": "2025-02-19T09:57:35.150980Z",
     "start_time": "2025-02-19T09:57:33.606889Z"
    }
   },
   "outputs": [
    {
     "name": "stdout",
     "output_type": "stream",
     "text": [
      "Opening: https://platform.classiq.io/circuit/2twaSBItXmQT3lgsNKPOCSzYedO?version=0.70.0\n"
     ]
    }
   ],
   "source": [
    "show(qprog_opt_depth)"
   ]
  },
  {
   "cell_type": "markdown",
   "metadata": {},
   "source": [
    "On the left side menu, under 'Program info', you should see the resulting depth, width and gate-count:"
   ]
  },
  {
   "cell_type": "markdown",
   "metadata": {},
   "source": [
    "<div style=\"text-align:center;\">\n",
    "    <img src=\"https://docs.classiq.io/resources/qprog_opt_depth.png \" alt=\"vis\" style=\"width: 400px; height: auto;\"/>\n",
    "</div>"
   ]
  },
  {
   "cell_type": "markdown",
   "metadata": {},
   "source": [
    "The resulting depth and width are 42 and 16, respectively.\n",
    "\n",
    "Now, let's synthesize to optimize width, i.e to minimize the number of qubits used."
   ]
  },
  {
   "cell_type": "code",
   "execution_count": 4,
   "metadata": {
    "ExecuteTime": {
     "end_time": "2025-02-19T09:57:38.617264Z",
     "start_time": "2025-02-19T09:57:35.204530Z"
    }
   },
   "outputs": [],
   "source": [
    "qprog_opt_width = synthesize(\n",
    "    model=main,\n",
    "    constraints=Constraints(optimization_parameter=OptimizationParameter.WIDTH),\n",
    ")"
   ]
  },
  {
   "cell_type": "markdown",
   "metadata": {},
   "source": [
    "Inspect the resulting circuit:"
   ]
  },
  {
   "cell_type": "code",
   "execution_count": 5,
   "metadata": {
    "ExecuteTime": {
     "end_time": "2025-02-19T09:57:39.812986Z",
     "start_time": "2025-02-19T09:57:38.625126Z"
    }
   },
   "outputs": [
    {
     "name": "stdout",
     "output_type": "stream",
     "text": [
      "Opening: https://platform.classiq.io/circuit/2twaSjGvvXFX7TCHomoiGKVTHPt?version=0.70.0\n"
     ]
    }
   ],
   "source": [
    "show(qprog_opt_width)"
   ]
  },
  {
   "cell_type": "markdown",
   "metadata": {},
   "source": [
    "The new depth and width are 47 and 9, respectively. As expected, we \"pay\" with extra depth for an implementation that uses less qubits."
   ]
  },
  {
   "cell_type": "markdown",
   "metadata": {},
   "source": [
    "### Exercise\n",
    "\n",
    "Create your own `main` function and synthesize it with different constraints.\n",
    "\n",
    "Note that `OptimizationParameter` is only one kind of configuration possible. Classiq synthesis engine also supports rigid constraints of `max_width`, `max_depth` and `max_gate_count`. \n",
    "\n"
   ]
  }
 ],
 "metadata": {
  "kernelspec": {
   "display_name": "Python 3 (ipykernel)",
   "language": "python",
   "name": "python3"
  },
  "language_info": {
   "codemirror_mode": {
    "name": "ipython",
    "version": 3
   },
   "file_extension": ".py",
   "mimetype": "text/x-python",
   "name": "python",
   "nbconvert_exporter": "python",
   "pygments_lexer": "ipython3",
   "version": "3.11.7"
  }
 },
 "nbformat": 4,
 "nbformat_minor": 4
}
