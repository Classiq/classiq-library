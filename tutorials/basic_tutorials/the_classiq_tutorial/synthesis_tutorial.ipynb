{
 "cells": [
  {
   "cell_type": "markdown",
   "id": "0",
   "metadata": {},
   "source": [
    "# Synthesis Tutorial\n",
    "\n",
    "Classiq's synthesis engine takes a high-level model written in the Qmod language, and compiles it into an executable gate-level circuit.\n",
    "\n",
    "When mapping high-level functionality to concrete circuits, there may be many different but equivalent possible implementations that reflect tradeoffs in the overall depth, width, gate counts, etc. For example, implementing a multi-controlled-not operation can be shallower in gates given more auxiliary qubits. Choosing the best implementation for a specific operation instance depends on the overall constraints and objectives, as well as the specific structure of the quantum program.\n",
    "\n",
    "Let's look at a simple model, and use Classiq's synthesis engine to compile it given different optimization objectives."
   ]
  },
  {
   "cell_type": "code",
   "execution_count": 5,
   "id": "1",
   "metadata": {},
   "outputs": [],
   "source": [
    "from classiq import *\n",
    "\n",
    "\n",
    "@qfunc\n",
    "def main(x: Output[QNum[3]], y: Output[QNum]) -> None:\n",
    "    allocate(x)\n",
    "    hadamard_transform(x)\n",
    "    y |= x**2 + 1"
   ]
  },
  {
   "cell_type": "markdown",
   "id": "2",
   "metadata": {},
   "source": [
    "First, let's synthesize to optimize on circuit depth, i.e. to minimize the longest path formed by gates in the circuit (and hence affects the required coherence time)."
   ]
  },
  {
   "cell_type": "code",
   "execution_count": 6,
   "id": "3",
   "metadata": {},
   "outputs": [],
   "source": [
    "qprog_opt_depth = synthesize(\n",
    "    model=main,\n",
    "    constraints=Constraints(optimization_parameter=OptimizationParameter.DEPTH),\n",
    ")"
   ]
  },
  {
   "cell_type": "markdown",
   "id": "4",
   "metadata": {},
   "source": [
    "We can inspect the resulting circuit using Classiq's web visualization:\n"
   ]
  },
  {
   "cell_type": "code",
   "execution_count": 7,
   "id": "5",
   "metadata": {},
   "outputs": [
    {
     "name": "stdout",
     "output_type": "stream",
     "text": [
      "Quantum program link: https://platform.classiq.io/circuit/319KlN64C4oX3KLiMFXcQrhtRwr\n"
     ]
    }
   ],
   "source": [
    "show(qprog_opt_depth)"
   ]
  },
  {
   "cell_type": "markdown",
   "id": "6",
   "metadata": {},
   "source": [
    "On the left side menu, under 'Transpiled info', you should see the resulting depth, width and gate-count:"
   ]
  },
  {
   "cell_type": "markdown",
   "id": "7",
   "metadata": {},
   "source": [
    "<div style=\"text-align:center;\">\n",
    "    <img src=\"https://docs.classiq.io/resources/qprog_opt_depth_1.png\" alt=\"vis\" style=\"width: 400px; height: auto;\"/>\n",
    "</div>"
   ]
  },
  {
   "cell_type": "markdown",
   "id": "8",
   "metadata": {},
   "source": [
    "The resulting depth and width are 171 and 16, respectively. This information can also be obtained using `data.width` and `transpiled_circuit.depth`:"
   ]
  },
  {
   "cell_type": "code",
   "execution_count": 8,
   "id": "9",
   "metadata": {},
   "outputs": [
    {
     "name": "stdout",
     "output_type": "stream",
     "text": [
      "Depth:  171 . Width:  16\n"
     ]
    }
   ],
   "source": [
    "depth = qprog_opt_depth.transpiled_circuit.depth\n",
    "width = qprog_opt_depth.data.width\n",
    "print(\"Depth: \", depth, \". Width: \", width)"
   ]
  },
  {
   "cell_type": "markdown",
   "id": "10",
   "metadata": {},
   "source": [
    "Now, let's synthesize to optimize width, i.e to minimize the number of qubits used."
   ]
  },
  {
   "cell_type": "code",
   "execution_count": 9,
   "id": "11",
   "metadata": {},
   "outputs": [],
   "source": [
    "qprog_opt_width = synthesize(\n",
    "    model=main,\n",
    "    constraints=Constraints(optimization_parameter=OptimizationParameter.WIDTH),\n",
    ")"
   ]
  },
  {
   "cell_type": "markdown",
   "id": "12",
   "metadata": {},
   "source": [
    "Inspect the resulting circuit:"
   ]
  },
  {
   "cell_type": "code",
   "execution_count": 10,
   "id": "13",
   "metadata": {},
   "outputs": [
    {
     "name": "stdout",
     "output_type": "stream",
     "text": [
      "Quantum program link: https://platform.classiq.io/circuit/319Km1ZWgqCcVR903Cn4Cd05egy\n"
     ]
    }
   ],
   "source": [
    "show(qprog_opt_width)"
   ]
  },
  {
   "cell_type": "code",
   "execution_count": 11,
   "id": "14",
   "metadata": {},
   "outputs": [
    {
     "name": "stdout",
     "output_type": "stream",
     "text": [
      "Width = 9 , Depth = 199\n"
     ]
    }
   ],
   "source": [
    "print(\n",
    "    \"Width =\",\n",
    "    qprog_opt_width.data.width,\n",
    "    \", Depth =\",\n",
    "    qprog_opt_width.transpiled_circuit.depth,\n",
    ")"
   ]
  },
  {
   "cell_type": "markdown",
   "id": "15",
   "metadata": {},
   "source": [
    "The new depth and width are 199 and 9, respectively. As expected, we \"pay\" with extra depth for an implementation that uses less qubits."
   ]
  },
  {
   "cell_type": "markdown",
   "id": "16",
   "metadata": {},
   "source": [
    "## Visualization\n",
    "\n",
    "When opening a quantum program using the `show` command, the visualization provides details regarding the quantum circuit's structure. Key characteristics, such as gate count, qubit usage, and circuit depth, are displayed.\n",
    "\n",
    "The visualization is organized according to the building blocks used during the quantum program construction. These blocks represent modular components or routines in your quantum algorithm. By clicking on the \"+\" sign on a block, you can expand it to reveal the underlying quantum gates, making it easier to inspect, debug, or understand the algorithm's logic at both high and low levels.\n",
    "\n",
    "This can be seen in the following figure: the left panel represents a high-level view showing the quantum blocks used in the algorithm—such as `hadamard_transform` and `assign x**2 + 1`—while the right panel shows an expanded view of the `assign` block, revealing the underlying quantum gate sequence. Gates include multiple `PHASE` operations and a quantum Fourier transform block (`qft6`), offering insight into the inner workings of this computation.\n",
    "\n",
    "![Quantum Program Visualization](https://docs.classiq.io/resources/synthesis_tutorial.png)"
   ]
  },
  {
   "cell_type": "markdown",
   "id": "17",
   "metadata": {},
   "source": [
    "### Exporting and Sharing\n",
    "\n",
    "In addition to visualizing a quantum program, the tool provides convenient options to export the quantum circuit in multiple formats, enabling integration with other tools and workflows. Some of them are:\n",
    "\n",
    "- **QASM**: Allows interoperability with quantum simulators and hardware platforms.\n",
    "- **LaTeX**: Produces a high-quality, pictorial representation of the circuit, ready for inclusion in LaTeX files.\n",
    "- **JPEG**: Generates a graphical image of the circuit.\n",
    "\n",
    "To facilitate collaboration, there is a **Share** button that generates a unique link that you can send to anyone who wants to view your circuit directly in their browser — no login required.\n"
   ]
  },
  {
   "cell_type": "markdown",
   "id": "18",
   "metadata": {},
   "source": [
    "### Exercise\n",
    "\n",
    "Create your own `main` function and synthesize it with different constraints.\n",
    "\n",
    "Note that `OptimizationParameter` is only one kind of configuration possible. Classiq synthesis engine also supports rigid constraints of `max_width`, `max_depth` and `max_gate_count`. \n",
    "\n"
   ]
  }
 ],
 "metadata": {
  "kernelspec": {
   "display_name": "venv",
   "language": "python",
   "name": "python3"
  },
  "language_info": {
   "codemirror_mode": {
    "name": "ipython",
    "version": 3
   },
   "file_extension": ".py",
   "mimetype": "text/x-python",
   "name": "python",
   "nbconvert_exporter": "python",
   "pygments_lexer": "ipython3",
   "version": "3.11.13"
  }
 },
 "nbformat": 4,
 "nbformat_minor": 9
}
