{
 "cells": [
  {
   "cell_type": "markdown",
   "id": "0",
   "metadata": {},
   "source": [
    "# Execution Tutorial - Part 1\n",
    "\n",
    "This tutorial covers the basics of executing a quantum program using Classiq directly through the Python SDK. It is also possible to use the [Classiq Platform](https://platform.classiq.io) to execute quantum algorithms.\n",
    "\n",
    "For this, we will start by synthesizing the following example from the [synthesis tutorial](https://docs.classiq.io/latest/explore/tutorials/basic_tutorials/the_classiq_tutorial/synthesis_tutorial/):"
   ]
  },
  {
   "cell_type": "code",
   "execution_count": 1,
   "id": "1",
   "metadata": {},
   "outputs": [
    {
     "name": "stdout",
     "output_type": "stream",
     "text": [
      "Quantum program link: https://platform.classiq.io/circuit/30HuOnn0LwUGqLIKMlUETImaIfc\n"
     ]
    }
   ],
   "source": [
    "from classiq import *\n",
    "\n",
    "\n",
    "@qfunc\n",
    "def main(x: Output[QNum[3]], y: Output[QNum]) -> None:\n",
    "    allocate(x)\n",
    "    hadamard_transform(x)\n",
    "    y |= x**2 + 1\n",
    "\n",
    "\n",
    "qprog = synthesize(main)\n",
    "show(qprog)"
   ]
  },
  {
   "cell_type": "markdown",
   "id": "2",
   "metadata": {},
   "source": [
    "This quantum program evaluates the function $y(x) = x^2 + 1$, for all integers $x \\in [0,7]$. To execute a quantum program and save its results in the Python SDK, create an `ExecutionSession`. To sample the states using this object, one can use `sample`:"
   ]
  },
  {
   "cell_type": "code",
   "execution_count": 2,
   "id": "3",
   "metadata": {},
   "outputs": [
    {
     "name": "stderr",
     "output_type": "stream",
     "text": [
      "gio: https://platform.classiq.io/circuit/30HuOnn0LwUGqLIKMlUETImaIfc?login=True&version=0.86.1: Operation not supported\n"
     ]
    }
   ],
   "source": [
    "with ExecutionSession(qprog) as es:\n",
    "    results = es.sample()"
   ]
  },
  {
   "cell_type": "markdown",
   "id": "4",
   "metadata": {},
   "source": [
    "The information from the outputs of the quantum program can be obtained in the form of a dataframe using the `dataframe` attribute:"
   ]
  },
  {
   "cell_type": "code",
   "execution_count": 3,
   "id": "5",
   "metadata": {},
   "outputs": [
    {
     "data": {
      "text/html": [
       "<div>\n",
       "<style scoped>\n",
       "    .dataframe tbody tr th:only-of-type {\n",
       "        vertical-align: middle;\n",
       "    }\n",
       "\n",
       "    .dataframe tbody tr th {\n",
       "        vertical-align: top;\n",
       "    }\n",
       "\n",
       "    .dataframe thead th {\n",
       "        text-align: right;\n",
       "    }\n",
       "</style>\n",
       "<table border=\"1\" class=\"dataframe\">\n",
       "  <thead>\n",
       "    <tr style=\"text-align: right;\">\n",
       "      <th></th>\n",
       "      <th>x</th>\n",
       "      <th>y</th>\n",
       "      <th>count</th>\n",
       "      <th>probability</th>\n",
       "      <th>bitstring</th>\n",
       "    </tr>\n",
       "  </thead>\n",
       "  <tbody>\n",
       "    <tr>\n",
       "      <th>0</th>\n",
       "      <td>1</td>\n",
       "      <td>2</td>\n",
       "      <td>285</td>\n",
       "      <td>0.139160</td>\n",
       "      <td>000010001</td>\n",
       "    </tr>\n",
       "    <tr>\n",
       "      <th>1</th>\n",
       "      <td>7</td>\n",
       "      <td>50</td>\n",
       "      <td>262</td>\n",
       "      <td>0.127930</td>\n",
       "      <td>110010111</td>\n",
       "    </tr>\n",
       "    <tr>\n",
       "      <th>2</th>\n",
       "      <td>5</td>\n",
       "      <td>26</td>\n",
       "      <td>260</td>\n",
       "      <td>0.126953</td>\n",
       "      <td>011010101</td>\n",
       "    </tr>\n",
       "    <tr>\n",
       "      <th>3</th>\n",
       "      <td>4</td>\n",
       "      <td>17</td>\n",
       "      <td>254</td>\n",
       "      <td>0.124023</td>\n",
       "      <td>010001100</td>\n",
       "    </tr>\n",
       "    <tr>\n",
       "      <th>4</th>\n",
       "      <td>2</td>\n",
       "      <td>5</td>\n",
       "      <td>253</td>\n",
       "      <td>0.123535</td>\n",
       "      <td>000101010</td>\n",
       "    </tr>\n",
       "    <tr>\n",
       "      <th>5</th>\n",
       "      <td>6</td>\n",
       "      <td>37</td>\n",
       "      <td>251</td>\n",
       "      <td>0.122559</td>\n",
       "      <td>100101110</td>\n",
       "    </tr>\n",
       "    <tr>\n",
       "      <th>6</th>\n",
       "      <td>3</td>\n",
       "      <td>10</td>\n",
       "      <td>249</td>\n",
       "      <td>0.121582</td>\n",
       "      <td>001010011</td>\n",
       "    </tr>\n",
       "    <tr>\n",
       "      <th>7</th>\n",
       "      <td>0</td>\n",
       "      <td>1</td>\n",
       "      <td>234</td>\n",
       "      <td>0.114258</td>\n",
       "      <td>000001000</td>\n",
       "    </tr>\n",
       "  </tbody>\n",
       "</table>\n",
       "</div>"
      ],
      "text/plain": [
       "   x   y  count  probability  bitstring\n",
       "0  1   2    285     0.139160  000010001\n",
       "1  7  50    262     0.127930  110010111\n",
       "2  5  26    260     0.126953  011010101\n",
       "3  4  17    254     0.124023  010001100\n",
       "4  2   5    253     0.123535  000101010\n",
       "5  6  37    251     0.122559  100101110\n",
       "6  3  10    249     0.121582  001010011\n",
       "7  0   1    234     0.114258  000001000"
      ]
     },
     "execution_count": 3,
     "metadata": {},
     "output_type": "execute_result"
    }
   ],
   "source": [
    "results.dataframe"
   ]
  },
  {
   "cell_type": "markdown",
   "id": "6",
   "metadata": {},
   "source": [
    "The information displayed in the dataframe is:\n",
    "\n",
    "* `counts` shows the number of times each state was measured.\n",
    "* `bitstring` is the bitstring that represents each state measured.\n",
    "* `x` and `y` are the numerical representation of the states associated with the measurement.\n",
    "* `probability` is the probability associated with each measured state."
   ]
  },
  {
   "cell_type": "markdown",
   "id": "7",
   "metadata": {},
   "source": [
    "By default, the number of executions of the quantum program is $2048$. This quantity, called the number of shots, can be modified using `ExecutionPreferences`. For instance, if we want to execute the same circuit with $10{,}000$ shots:"
   ]
  },
  {
   "cell_type": "code",
   "execution_count": 6,
   "id": "8",
   "metadata": {},
   "outputs": [],
   "source": [
    "prefs_more_shots = ExecutionPreferences(num_shots=10000)\n",
    "\n",
    "with ExecutionSession(qprog, execution_preferences=prefs_more_shots) as es:\n",
    "    results_more_shots = es.sample()"
   ]
  },
  {
   "cell_type": "markdown",
   "id": "9",
   "metadata": {},
   "source": [
    "The number of counts for each state will grow proportionally with the number of shots:"
   ]
  },
  {
   "cell_type": "code",
   "execution_count": 7,
   "id": "10",
   "metadata": {},
   "outputs": [
    {
     "data": {
      "text/html": [
       "<div>\n",
       "<style scoped>\n",
       "    .dataframe tbody tr th:only-of-type {\n",
       "        vertical-align: middle;\n",
       "    }\n",
       "\n",
       "    .dataframe tbody tr th {\n",
       "        vertical-align: top;\n",
       "    }\n",
       "\n",
       "    .dataframe thead th {\n",
       "        text-align: right;\n",
       "    }\n",
       "</style>\n",
       "<table border=\"1\" class=\"dataframe\">\n",
       "  <thead>\n",
       "    <tr style=\"text-align: right;\">\n",
       "      <th></th>\n",
       "      <th>x</th>\n",
       "      <th>y</th>\n",
       "      <th>count</th>\n",
       "      <th>probability</th>\n",
       "      <th>bitstring</th>\n",
       "    </tr>\n",
       "  </thead>\n",
       "  <tbody>\n",
       "    <tr>\n",
       "      <th>0</th>\n",
       "      <td>7</td>\n",
       "      <td>50</td>\n",
       "      <td>1274</td>\n",
       "      <td>0.1274</td>\n",
       "      <td>110010111</td>\n",
       "    </tr>\n",
       "    <tr>\n",
       "      <th>1</th>\n",
       "      <td>2</td>\n",
       "      <td>5</td>\n",
       "      <td>1273</td>\n",
       "      <td>0.1273</td>\n",
       "      <td>000101010</td>\n",
       "    </tr>\n",
       "    <tr>\n",
       "      <th>2</th>\n",
       "      <td>1</td>\n",
       "      <td>2</td>\n",
       "      <td>1267</td>\n",
       "      <td>0.1267</td>\n",
       "      <td>000010001</td>\n",
       "    </tr>\n",
       "    <tr>\n",
       "      <th>3</th>\n",
       "      <td>6</td>\n",
       "      <td>37</td>\n",
       "      <td>1266</td>\n",
       "      <td>0.1266</td>\n",
       "      <td>100101110</td>\n",
       "    </tr>\n",
       "    <tr>\n",
       "      <th>4</th>\n",
       "      <td>4</td>\n",
       "      <td>17</td>\n",
       "      <td>1254</td>\n",
       "      <td>0.1254</td>\n",
       "      <td>010001100</td>\n",
       "    </tr>\n",
       "    <tr>\n",
       "      <th>5</th>\n",
       "      <td>5</td>\n",
       "      <td>26</td>\n",
       "      <td>1226</td>\n",
       "      <td>0.1226</td>\n",
       "      <td>011010101</td>\n",
       "    </tr>\n",
       "    <tr>\n",
       "      <th>6</th>\n",
       "      <td>3</td>\n",
       "      <td>10</td>\n",
       "      <td>1224</td>\n",
       "      <td>0.1224</td>\n",
       "      <td>001010011</td>\n",
       "    </tr>\n",
       "    <tr>\n",
       "      <th>7</th>\n",
       "      <td>0</td>\n",
       "      <td>1</td>\n",
       "      <td>1216</td>\n",
       "      <td>0.1216</td>\n",
       "      <td>000001000</td>\n",
       "    </tr>\n",
       "  </tbody>\n",
       "</table>\n",
       "</div>"
      ],
      "text/plain": [
       "   x   y  count  probability  bitstring\n",
       "0  7  50   1274       0.1274  110010111\n",
       "1  2   5   1273       0.1273  000101010\n",
       "2  1   2   1267       0.1267  000010001\n",
       "3  6  37   1266       0.1266  100101110\n",
       "4  4  17   1254       0.1254  010001100\n",
       "5  5  26   1226       0.1226  011010101\n",
       "6  3  10   1224       0.1224  001010011\n",
       "7  0   1   1216       0.1216  000001000"
      ]
     },
     "execution_count": 7,
     "metadata": {},
     "output_type": "execute_result"
    }
   ],
   "source": [
    "results_more_shots.dataframe"
   ]
  },
  {
   "cell_type": "markdown",
   "id": "11",
   "metadata": {},
   "source": [
    "## Backend selection\n",
    "\n",
    "The backend of an execution is the hardware or simulator where the quantum program is executed. To select a specific backend, it is necessary to use its correct Backend Preferences. Check the different [Cloud Providers](https://docs.classiq.io/latest/user-guide/execution/cloud-providers/) and their backend preferences for execution.\n",
    "\n",
    "In this section, we will explore two different examples for clarification: \n",
    "\n",
    "### First example: Execution using the state vector simulator from Classiq\n",
    "\n",
    "A state vector simulator outputs the amplitudes of a quantum program. On real hardware, obtaining these amplitudes requires quantum tomography — the process of measuring in different bases to reconstruct the output state.\n",
    "\n",
    "Since Classiq provides its own state vector simulator backend, we will use `ClassiqBackendPreferences` to define it as the state vector simulator. This information is provided on the [Cloud Providers page](https://docs.classiq.io/latest/user-guide/execution/cloud-providers/).\n",
    "\n",
    "To define the quantum program's execution preferences, use `execution_preferences` under `ExecutionSession`. In this example, we will perform a simulation with `num_shots=1` since the state vector simulator performs an exact simulation of the quantum program.\n",
    "\n",
    "If no backend is defined in the preferences, then the [Classiq simulator](https://docs.classiq.io/latest/user-guide/execution/cloud-providers/classiq-backends/) is selected by default.\n"
   ]
  },
  {
   "cell_type": "code",
   "execution_count": 4,
   "id": "12",
   "metadata": {},
   "outputs": [],
   "source": [
    "backend_preferences = ClassiqBackendPreferences(\n",
    "    backend_name=\"simulator_statevector\"\n",
    ")  # Always check the Cloud Providers to correctly define the backend.\n",
    "\n",
    "execution_preferences = ExecutionPreferences(\n",
    "    num_shots=1, backend_preferences=backend_preferences\n",
    ")"
   ]
  },
  {
   "cell_type": "markdown",
   "id": "13",
   "metadata": {},
   "source": [
    "Now, execute the quantum program using `execute`."
   ]
  },
  {
   "cell_type": "code",
   "execution_count": 5,
   "id": "14",
   "metadata": {},
   "outputs": [],
   "source": [
    "with ExecutionSession(qprog, execution_preferences=execution_preferences) as es:\n",
    "    results_statevector = es.sample()"
   ]
  },
  {
   "cell_type": "markdown",
   "id": "15",
   "metadata": {},
   "source": [
    "The outputs of the quantum program can be displayed using the `dataframe` property:"
   ]
  },
  {
   "cell_type": "code",
   "execution_count": 8,
   "id": "16",
   "metadata": {},
   "outputs": [
    {
     "data": {
      "text/html": [
       "<div>\n",
       "<style scoped>\n",
       "    .dataframe tbody tr th:only-of-type {\n",
       "        vertical-align: middle;\n",
       "    }\n",
       "\n",
       "    .dataframe tbody tr th {\n",
       "        vertical-align: top;\n",
       "    }\n",
       "\n",
       "    .dataframe thead th {\n",
       "        text-align: right;\n",
       "    }\n",
       "</style>\n",
       "<table border=\"1\" class=\"dataframe\">\n",
       "  <thead>\n",
       "    <tr style=\"text-align: right;\">\n",
       "      <th></th>\n",
       "      <th>x</th>\n",
       "      <th>y</th>\n",
       "      <th>amplitude</th>\n",
       "      <th>probability</th>\n",
       "      <th>bitstring</th>\n",
       "    </tr>\n",
       "  </thead>\n",
       "  <tbody>\n",
       "    <tr>\n",
       "      <th>0</th>\n",
       "      <td>7</td>\n",
       "      <td>18</td>\n",
       "      <td>3.923208e-15+2.775558e-                    17j</td>\n",
       "      <td>1.539233e-29</td>\n",
       "      <td>010010111</td>\n",
       "    </tr>\n",
       "    <tr>\n",
       "      <th>1</th>\n",
       "      <td>0</td>\n",
       "      <td>33</td>\n",
       "      <td>3.014272e-15+0.000000e+                    00j</td>\n",
       "      <td>9.085836e-30</td>\n",
       "      <td>100001000</td>\n",
       "    </tr>\n",
       "    <tr>\n",
       "      <th>2</th>\n",
       "      <td>4</td>\n",
       "      <td>49</td>\n",
       "      <td>1.538630e-15-5.551115e-                    17j</td>\n",
       "      <td>2.370465e-30</td>\n",
       "      <td>110001100</td>\n",
       "    </tr>\n",
       "    <tr>\n",
       "      <th>3</th>\n",
       "      <td>3</td>\n",
       "      <td>42</td>\n",
       "      <td>1.303117e-15+2.775558e-                    17j</td>\n",
       "      <td>1.698883e-30</td>\n",
       "      <td>101010011</td>\n",
       "    </tr>\n",
       "    <tr>\n",
       "      <th>4</th>\n",
       "      <td>5</td>\n",
       "      <td>58</td>\n",
       "      <td>1.185360e-15+1.387779e-                    16j</td>\n",
       "      <td>1.424337e-30</td>\n",
       "      <td>111010101</td>\n",
       "    </tr>\n",
       "  </tbody>\n",
       "</table>\n",
       "</div>"
      ],
      "text/plain": [
       "   x   y                                       amplitude   probability  \\\n",
       "0  7  18  3.923208e-15+2.775558e-                    17j  1.539233e-29   \n",
       "1  0  33  3.014272e-15+0.000000e+                    00j  9.085836e-30   \n",
       "2  4  49  1.538630e-15-5.551115e-                    17j  2.370465e-30   \n",
       "3  3  42  1.303117e-15+2.775558e-                    17j  1.698883e-30   \n",
       "4  5  58  1.185360e-15+1.387779e-                    16j  1.424337e-30   \n",
       "\n",
       "   bitstring  \n",
       "0  010010111  \n",
       "1  100001000  \n",
       "2  110001100  \n",
       "3  101010011  \n",
       "4  111010101  "
      ]
     },
     "execution_count": 8,
     "metadata": {},
     "output_type": "execute_result"
    }
   ],
   "source": [
    "results_statevector.dataframe.head()"
   ]
  },
  {
   "cell_type": "markdown",
   "id": "17",
   "metadata": {},
   "source": [
    "The outputs from the execution obtained via statevector simulator will differ from the default simulator:\n",
    "\n",
    "* `state_vector` will output a `dict` containing the bitstrings followed by its numerically evaluated amplitudes.\n",
    "* `parsed_state_vector` will output a `list` of `SimulatedState`, each containing the values of `x` and `y` followed by its bitstrings and its numerically evaluated amplitudes."
   ]
  }
 ],
 "metadata": {
  "kernelspec": {
   "display_name": "venv",
   "language": "python",
   "name": "python3"
  },
  "language_info": {
   "codemirror_mode": {
    "name": "ipython",
    "version": 3
   },
   "file_extension": ".py",
   "mimetype": "text/x-python",
   "name": "python",
   "nbconvert_exporter": "python",
   "pygments_lexer": "ipython3",
   "version": "3.11.13"
  }
 },
 "nbformat": 4,
 "nbformat_minor": 9
}
