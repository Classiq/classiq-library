{
 "cells": [
  {
   "cell_type": "markdown",
   "metadata": {
    "pycharm": {
     "name": "#%% md\n"
    }
   },
   "source": [
    "# OPTIMIZING MCX GATES - PREPARING FOR FUTURE HARDWARE TODAY\n",
    "\n",
    "This note describes how to use the Classiq platform to create MCX gates, including one with 14 controls. Then, it demonstrates a much more complex example with 50 control qubits."
   ]
  },
  {
   "cell_type": "markdown",
   "metadata": {
    "pycharm": {
     "name": "#%% md\n"
    }
   },
   "source": [
    "## QUANTUM RESOURCES ARE VALUABLE, YET LIMITED\n",
    "\n",
    "Quantum computers offer tantalizing promises to those who can harness their power. And though today’s computers are not quite able to solve real-world problems, those who are able to optimize for the hardware available will be able to reap rewards sooner than those who wait. The MCX gate is an important quantum gate used in a variety of circuits, such as the Grover Operator, logical AND operator, various state preparation algorithms, and arithmetic comparators. The ability to adapt implementations of MCX gates to meet the hardware constraints - limited qubit count, fidelities, gate count, and so on - is not trivial."
   ]
  },
  {
   "cell_type": "markdown",
   "metadata": {
    "pycharm": {
     "name": "#%% md\n"
    }
   },
   "source": [
    "## HOW TO CREATE A 14-CONTROL MCX GATE WITH CLASSIQ\n",
    "\n",
    "To create an MCX gate with 14 control qubits using Classiq, we simply call the MCX function and declare the control qubit count. Then, to constrain this circuit to only 20 qubits and optimize for circuit depth, we pass the max width and optimization parameter to the synthesis request."
   ]
  },
  {
   "cell_type": "code",
   "execution_count": 1,
   "metadata": {
    "execution": {
     "iopub.execute_input": "2023-12-06T03:20:46.667583Z",
     "iopub.status.busy": "2023-12-06T03:20:46.667131Z",
     "iopub.status.idle": "2023-12-06T03:20:56.700419Z",
     "shell.execute_reply": "2023-12-06T03:20:56.699688Z"
    },
    "pycharm": {
     "is_executing": true,
     "name": "#%%\n"
    },
    "tags": []
   },
   "outputs": [
    {
     "name": "stdout",
     "output_type": "stream",
     "text": [
      "Synthesized MCX depth is 94\n",
      "Opening: https://platform.classiq.io/circuit/4156101d-1402-4878-b207-6ece0b737452?version=0.34.0.dev0%2B124706fb0e\n"
     ]
    }
   ],
   "source": [
    "from classiq import GeneratedCircuit, Model, synthesize\n",
    "from classiq.builtin_functions import Mcx\n",
    "from classiq.model import Constraints, OptimizationParameter\n",
    "\n",
    "model = Model(\n",
    "    constraints=Constraints(\n",
    "        max_width=20, optimization_parameter=OptimizationParameter.DEPTH\n",
    "    )\n",
    ")\n",
    "mcx_params = Mcx(num_ctrl_qubits=14)\n",
    "model.Mcx(params=mcx_params)\n",
    "\n",
    "qmod = model.get_model()\n",
    "with open(\"mcx_14_ctrl_depth.qmod\", \"w\") as f:\n",
    "    f.write(qmod)\n",
    "\n",
    "qprog = synthesize(qmod)\n",
    "circuit = GeneratedCircuit.from_qprog(qprog)\n",
    "\n",
    "print(f\"Synthesized MCX depth is {circuit.transpiled_circuit.depth}\")\n",
    "circuit.show()"
   ]
  },
  {
   "cell_type": "markdown",
   "metadata": {
    "pycharm": {
     "name": "#%% md\n"
    }
   },
   "source": [
    "## AN MCX FOR EVERY OCCASION\n",
    "\n",
    "The Classiq automatically optimizes the quantum circuit and each MCX gate to a plethora of possible situations. To characterize each setting we pass our constraints and preferences to the synthesis request."
   ]
  },
  {
   "cell_type": "markdown",
   "metadata": {
    "pycharm": {
     "name": "#%% md\n"
    }
   },
   "source": [
    "### OPTIMIZING FOR DIFFERENT HARDWARE"
   ]
  },
  {
   "cell_type": "code",
   "execution_count": 2,
   "metadata": {
    "execution": {
     "iopub.execute_input": "2023-12-06T03:20:56.764276Z",
     "iopub.status.busy": "2023-12-06T03:20:56.763648Z",
     "iopub.status.idle": "2023-12-06T03:21:22.358769Z",
     "shell.execute_reply": "2023-12-06T03:21:22.357201Z"
    },
    "pycharm": {
     "is_executing": true,
     "name": "#%%\n"
    },
    "tags": []
   },
   "outputs": [
    {
     "name": "stdout",
     "output_type": "stream",
     "text": [
      "Synthesized MCX depth is 101\n",
      "Opening: https://platform.classiq.io/circuit/f9e7c5ab-a78a-48a0-91a1-87ba63692cc0?version=0.34.0.dev0%2B124706fb0e\n"
     ]
    }
   ],
   "source": [
    "from classiq import GeneratedCircuit, Model, synthesize\n",
    "from classiq.builtin_functions import Mcx\n",
    "from classiq.model import Constraints, OptimizationParameter, Preferences\n",
    "\n",
    "model = Model(\n",
    "    constraints=Constraints(optimization_parameter=OptimizationParameter.DEPTH),\n",
    "    preferences=Preferences(\n",
    "        backend_service_provider=\"IBM Quantum\", backend_name=\"ibmq_kolkata\"\n",
    "    ),\n",
    ")\n",
    "mcx_params = Mcx(num_ctrl_qubits=14)\n",
    "model.Mcx(params=mcx_params)\n",
    "\n",
    "qmod = model.get_model()\n",
    "with open(\"mcx_14_ctrl_hardware.qmod\", \"w\") as f:\n",
    "    f.write(qmod)\n",
    "\n",
    "qprog = synthesize(qmod)\n",
    "circuit = GeneratedCircuit.from_qprog(qprog)\n",
    "\n",
    "print(f\"Synthesized MCX depth is {circuit.transpiled_circuit.depth}\")\n",
    "circuit.show()"
   ]
  },
  {
   "cell_type": "markdown",
   "metadata": {
    "pycharm": {
     "name": "#%% md\n"
    }
   },
   "source": [
    "### OPTIMIZING FOR CX GATES"
   ]
  },
  {
   "cell_type": "code",
   "execution_count": 3,
   "metadata": {
    "execution": {
     "iopub.execute_input": "2023-12-06T03:21:22.366622Z",
     "iopub.status.busy": "2023-12-06T03:21:22.365653Z",
     "iopub.status.idle": "2023-12-06T03:21:29.003432Z",
     "shell.execute_reply": "2023-12-06T03:21:29.002742Z"
    },
    "pycharm": {
     "is_executing": true,
     "name": "#%%\n"
    },
    "tags": []
   },
   "outputs": [
    {
     "name": "stdout",
     "output_type": "stream",
     "text": [
      "Synthesized MCX cx-count is 168\n",
      "Opening: https://platform.classiq.io/circuit/339749ae-b947-405b-b6ac-bcba88e5e76a?version=0.34.0.dev0%2B124706fb0e\n"
     ]
    }
   ],
   "source": [
    "from classiq import GeneratedCircuit, Model, synthesize\n",
    "from classiq.builtin_functions import Mcx\n",
    "from classiq.model import Constraints, CustomHardwareSettings, Preferences\n",
    "\n",
    "model = Model(\n",
    "    constraints=Constraints(max_width=19, optimization_parameter=\"cx\"),\n",
    "    preferences=Preferences(\n",
    "        custom_hardware_settings=CustomHardwareSettings(basis_gates=[\"cx\", \"u\"])\n",
    "    ),\n",
    ")\n",
    "mcx_params = Mcx(num_ctrl_qubits=14)\n",
    "model.Mcx(params=mcx_params)\n",
    "\n",
    "qmod = model.get_model()\n",
    "with open(\"mcx_14_ctrl_cx.qmod\", \"w\") as f:\n",
    "    f.write(qmod)\n",
    "\n",
    "qprog = synthesize(qmod)\n",
    "circuit = GeneratedCircuit.from_qprog(qprog)\n",
    "\n",
    "print(f\"Synthesized MCX cx-count is {circuit.transpiled_circuit.count_ops['cx']}\")\n",
    "circuit.show()"
   ]
  },
  {
   "cell_type": "markdown",
   "metadata": {
    "pycharm": {
     "name": "#%% md\n"
    }
   },
   "source": [
    "## BEYOND 14 CONTROLS\n",
    "\n",
    "The power of the Classiq synthesis engine is far greater than creating optimized, 14-control MCX gates in an instant. Take the following code, where we create an MCX gate with 50 control qubits."
   ]
  },
  {
   "cell_type": "code",
   "execution_count": 4,
   "metadata": {
    "execution": {
     "iopub.execute_input": "2023-12-06T03:21:29.006742Z",
     "iopub.status.busy": "2023-12-06T03:21:29.006466Z",
     "iopub.status.idle": "2023-12-06T03:21:54.804505Z",
     "shell.execute_reply": "2023-12-06T03:21:54.803838Z"
    },
    "pycharm": {
     "name": "#%%\n"
    },
    "tags": []
   },
   "outputs": [
    {
     "name": "stdout",
     "output_type": "stream",
     "text": [
      "Opening: https://platform.classiq.io/circuit/32e73e65-f0f8-40a7-9a25-b9305a98ae37?version=0.34.0.dev0%2B124706fb0e\n"
     ]
    }
   ],
   "source": [
    "from classiq import GeneratedCircuit, Model, synthesize\n",
    "from classiq.builtin_functions import Mcx\n",
    "\n",
    "model = Model()\n",
    "mcx_params = Mcx(num_ctrl_qubits=50)\n",
    "model.Mcx(params=mcx_params)\n",
    "\n",
    "qmod = model.get_model()\n",
    "with open(\"mcx_50_ctrl.qmod\", \"w\") as f:\n",
    "    f.write(qmod)\n",
    "\n",
    "qprog = synthesize(qmod)\n",
    "circuit = GeneratedCircuit.from_qprog(qprog)\n",
    "\n",
    "circuit.show()"
   ]
  },
  {
   "cell_type": "markdown",
   "metadata": {
    "pycharm": {
     "name": "#%% md\n"
    }
   },
   "source": [
    "![MCX depth](../../../resources/images/MCX_graph_1_dec_22.png)\n"
   ]
  }
 ],
 "metadata": {
  "kernelspec": {
   "display_name": "Python 3 (ipykernel)",
   "language": "python",
   "name": "python3"
  },
  "language_info": {
   "codemirror_mode": {
    "name": "ipython",
    "version": 3
   },
   "file_extension": ".py",
   "mimetype": "text/x-python",
   "name": "python",
   "nbconvert_exporter": "python",
   "pygments_lexer": "ipython3",
   "version": "3.11.6"
  }
 },
 "nbformat": 4,
 "nbformat_minor": 4
}
