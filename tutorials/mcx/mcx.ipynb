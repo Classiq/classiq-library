{
 "cells": [
  {
   "cell_type": "markdown",
   "metadata": {
    "pycharm": {
     "name": "#%% md\n"
    }
   },
   "source": [
    "# OPTIMIZING MCX GATES - PREPARING FOR FUTURE HARDWARE TODAY\n",
    "\n",
    "This note describes how to use the Classiq platform to create MCX gates, including one with 14 controls. Then, it demonstrates a much more complex example with 50 control qubits."
   ]
  },
  {
   "cell_type": "markdown",
   "metadata": {
    "pycharm": {
     "name": "#%% md\n"
    }
   },
   "source": [
    "## QUANTUM RESOURCES ARE VALUABLE, YET LIMITED\n",
    "\n",
    "Quantum computers offer tantalizing promises to those who can harness their power. And though today\u2019s computers are not quite able to solve real-world problems, those who are able to optimize for the hardware available will be able to reap rewards sooner than those who wait. The MCX gate is an important quantum gate used in a variety of circuits, such as the Grover Operator, logical AND operator, various state preparation algorithms, and arithmetic comparators. The ability to adapt implementations of MCX gates to meet the hardware constraints - limited qubit count, fidelities, gate count, and so on - is not trivial."
   ]
  },
  {
   "cell_type": "markdown",
   "metadata": {
    "pycharm": {
     "name": "#%% md\n"
    }
   },
   "source": [
    "## 1. HOW TO CREATE A 14-CONTROL MCX GATE WITH CLASSIQ\n",
    "\n",
    "To create an MCX gate with 14 control qubits using Classiq, we will first define a quantum function called `my_mcx`, whose arguments are an array of qubits (of any size) to be used as `control`, and a single qubit argument to be used as the `target`. "
   ]
  },
  {
   "cell_type": "code",
   "execution_count": 1,
   "metadata": {
    "execution": {
     "iopub.execute_input": "2024-03-12T12:57:46.445026Z",
     "iopub.status.busy": "2024-03-12T12:57:46.439920Z",
     "iopub.status.idle": "2024-03-12T12:57:49.988253Z",
     "shell.execute_reply": "2024-03-12T12:57:49.986805Z"
    }
   },
   "outputs": [],
   "source": [
    "from math import pi\n",
    "\n",
    "from classiq import (\n",
    "    Constraints,\n",
    "    CustomHardwareSettings,\n",
    "    OptimizationParameter,\n",
    "    Output,\n",
    "    Preferences,\n",
    "    QArray,\n",
    "    QBit,\n",
    "    QuantumProgram,\n",
    "    X,\n",
    "    allocate,\n",
    "    control,\n",
    "    create_model,\n",
    "    qfunc,\n",
    "    set_constraints,\n",
    "    set_preferences,\n",
    "    show,\n",
    "    synthesize,\n",
    ")"
   ]
  },
  {
   "cell_type": "code",
   "execution_count": 2,
   "metadata": {
    "execution": {
     "iopub.execute_input": "2024-03-12T12:57:50.001526Z",
     "iopub.status.busy": "2024-03-12T12:57:49.993122Z",
     "iopub.status.idle": "2024-03-12T12:57:50.005993Z",
     "shell.execute_reply": "2024-03-12T12:57:50.005247Z"
    }
   },
   "outputs": [],
   "source": [
    "@qfunc\n",
    "def my_mcx(cntrl: QArray[QBit], target: QBit) -> None:\n",
    "    control(lambda: X(target), cntrl)"
   ]
  },
  {
   "cell_type": "markdown",
   "metadata": {},
   "source": [
    "Then, to create an MCX gate with 14 control qubits we will create a quantum `main` function that will simply execute our `my_mcx` function with 14 qubits allocated to the `control` argument.   "
   ]
  },
  {
   "cell_type": "code",
   "execution_count": 3,
   "metadata": {
    "execution": {
     "iopub.execute_input": "2024-03-12T12:57:50.011431Z",
     "iopub.status.busy": "2024-03-12T12:57:50.010136Z",
     "iopub.status.idle": "2024-03-12T12:57:50.020715Z",
     "shell.execute_reply": "2024-03-12T12:57:50.020032Z"
    }
   },
   "outputs": [],
   "source": [
    "@qfunc\n",
    "def main(cntrl: Output[QArray[QBit]], target: Output[QBit]) -> None:\n",
    "    allocate(14, cntrl)\n",
    "    allocate(1, target)\n",
    "    my_mcx(cntrl, target)"
   ]
  },
  {
   "cell_type": "markdown",
   "metadata": {},
   "source": [
    "To build our model we will use the `create_model` function: "
   ]
  },
  {
   "cell_type": "code",
   "execution_count": 4,
   "metadata": {
    "execution": {
     "iopub.execute_input": "2024-03-12T12:57:50.025722Z",
     "iopub.status.busy": "2024-03-12T12:57:50.024490Z",
     "iopub.status.idle": "2024-03-12T12:57:50.050245Z",
     "shell.execute_reply": "2024-03-12T12:57:50.049210Z"
    }
   },
   "outputs": [],
   "source": [
    "model = create_model(main)"
   ]
  },
  {
   "cell_type": "markdown",
   "metadata": {},
   "source": [
    "To constrain a circuit to only 20 qubits and optimize for circuit depth, we pass the max width and optimization parameter to a `Constraints` object and update our model"
   ]
  },
  {
   "cell_type": "code",
   "execution_count": 5,
   "metadata": {
    "execution": {
     "iopub.execute_input": "2024-03-12T12:57:50.058295Z",
     "iopub.status.busy": "2024-03-12T12:57:50.054724Z",
     "iopub.status.idle": "2024-03-12T12:57:50.083486Z",
     "shell.execute_reply": "2024-03-12T12:57:50.082511Z"
    }
   },
   "outputs": [],
   "source": [
    "from classiq import write_qmod\n",
    "\n",
    "constraints = Constraints(\n",
    "    max_width=20, optimization_parameter=OptimizationParameter.DEPTH\n",
    ")\n",
    "model = set_constraints(model, constraints)\n",
    "\n",
    "write_qmod(model, \"mcx_14_ctrl_depth\")"
   ]
  },
  {
   "cell_type": "markdown",
   "metadata": {},
   "source": [
    "We can now synthesize our model, create a quantum program and view it: "
   ]
  },
  {
   "cell_type": "code",
   "execution_count": 6,
   "metadata": {
    "execution": {
     "iopub.execute_input": "2024-03-12T12:57:50.092028Z",
     "iopub.status.busy": "2024-03-12T12:57:50.091323Z",
     "iopub.status.idle": "2024-03-12T12:57:56.833702Z",
     "shell.execute_reply": "2024-03-12T12:57:56.832792Z"
    }
   },
   "outputs": [
    {
     "name": "stdout",
     "output_type": "stream",
     "text": [
      "Opening: https://platform.classiq.io/circuit/8e5014d4-7d34-4b3b-8997-a81b3735cb30?version=0.38.0.dev42%2Bfd36e2c41c\n"
     ]
    }
   ],
   "source": [
    "qprog = synthesize(model)\n",
    "show(qprog)"
   ]
  },
  {
   "cell_type": "markdown",
   "metadata": {},
   "source": [
    "Additionally, To get the transpiled circuit from our `qprog` object and print its depth: "
   ]
  },
  {
   "cell_type": "code",
   "execution_count": 7,
   "metadata": {
    "execution": {
     "iopub.execute_input": "2024-03-12T12:57:56.877548Z",
     "iopub.status.busy": "2024-03-12T12:57:56.877086Z",
     "iopub.status.idle": "2024-03-12T12:57:56.884211Z",
     "shell.execute_reply": "2024-03-12T12:57:56.883050Z"
    }
   },
   "outputs": [
    {
     "name": "stdout",
     "output_type": "stream",
     "text": [
      "Synthesized MCX depth is 94\n"
     ]
    }
   ],
   "source": [
    "circuit = QuantumProgram.from_qprog(qprog)\n",
    "print(f\"Synthesized MCX depth is {circuit.transpiled_circuit.depth}\")"
   ]
  },
  {
   "cell_type": "markdown",
   "metadata": {
    "pycharm": {
     "name": "#%% md\n"
    }
   },
   "source": [
    "## 2. AN MCX FOR EVERY OCCASION\n",
    "\n",
    "Classiq automatically optimizes the quantum circuit and each MCX gate to a plethora of possible situations. To characterize each setting we pass our constraints and preferences to the synthesis request using the `Constraints` and `Preferences` objects."
   ]
  },
  {
   "cell_type": "markdown",
   "metadata": {
    "pycharm": {
     "name": "#%% md\n"
    }
   },
   "source": [
    "### 2.1 OPTIMIZING FOR DIFFERENT HARDWARE"
   ]
  },
  {
   "cell_type": "code",
   "execution_count": 8,
   "metadata": {
    "execution": {
     "iopub.execute_input": "2024-03-12T12:57:56.887645Z",
     "iopub.status.busy": "2024-03-12T12:57:56.887066Z",
     "iopub.status.idle": "2024-03-12T12:58:22.492261Z",
     "shell.execute_reply": "2024-03-12T12:58:22.491503Z"
    },
    "pycharm": {
     "is_executing": true,
     "name": "#%%\n"
    },
    "tags": []
   },
   "outputs": [
    {
     "name": "stdout",
     "output_type": "stream",
     "text": [
      "Synthesized MCX depth is 101\n",
      "Opening: https://platform.classiq.io/circuit/d221cb50-1657-4233-a980-3c72cd3b3374?version=0.38.0.dev42%2Bfd36e2c41c\n"
     ]
    }
   ],
   "source": [
    "model = create_model(main)\n",
    "constraints = Constraints(\n",
    "    optimization_parameter=OptimizationParameter.DEPTH, max_width=21\n",
    ")\n",
    "preferences = Preferences(\n",
    "    backend_service_provider=\"IBM Quantum\", backend_name=\"ibmq_kolkata\"\n",
    ")\n",
    "model = set_constraints(model, constraints)\n",
    "model = set_preferences(model, preferences)\n",
    "\n",
    "write_qmod(model, \"mcx_14_ctrl_hardware\")\n",
    "\n",
    "\n",
    "qprog = synthesize(model)\n",
    "circuit = QuantumProgram.from_qprog(qprog)\n",
    "\n",
    "print(f\"Synthesized MCX depth is {circuit.transpiled_circuit.depth}\")\n",
    "circuit.show()"
   ]
  },
  {
   "cell_type": "markdown",
   "metadata": {
    "pycharm": {
     "name": "#%% md\n"
    }
   },
   "source": [
    "### 2.2 OPTIMIZING FOR CX GATES"
   ]
  },
  {
   "cell_type": "code",
   "execution_count": 9,
   "metadata": {
    "execution": {
     "iopub.execute_input": "2024-03-12T12:58:22.497312Z",
     "iopub.status.busy": "2024-03-12T12:58:22.496872Z",
     "iopub.status.idle": "2024-03-12T12:58:27.901231Z",
     "shell.execute_reply": "2024-03-12T12:58:27.900401Z"
    },
    "pycharm": {
     "is_executing": true,
     "name": "#%%\n"
    },
    "tags": []
   },
   "outputs": [
    {
     "name": "stdout",
     "output_type": "stream",
     "text": [
      "Synthesized MCX cx-count is 168\n",
      "Opening: https://platform.classiq.io/circuit/1619f6fe-0936-4392-bdad-9f6917144fab?version=0.38.0.dev42%2Bfd36e2c41c\n"
     ]
    }
   ],
   "source": [
    "model = create_model(main)\n",
    "constraints = Constraints(max_width=19, optimization_parameter=\"cx\")\n",
    "preferences = Preferences(\n",
    "    custom_hardware_settings=CustomHardwareSettings(basis_gates=[\"cx\", \"u\"])\n",
    ")\n",
    "model = set_constraints(model, constraints)\n",
    "model = set_preferences(model, preferences)\n",
    "\n",
    "write_qmod(model, \"mcx_14_ctrl_cx\")\n",
    "\n",
    "\n",
    "qprog = synthesize(model)\n",
    "circuit = QuantumProgram.from_qprog(qprog)\n",
    "\n",
    "print(f\"Synthesized MCX cx-count is {circuit.transpiled_circuit.count_ops['cx']}\")\n",
    "circuit.show()"
   ]
  },
  {
   "cell_type": "markdown",
   "metadata": {
    "pycharm": {
     "name": "#%% md\n"
    }
   },
   "source": [
    "## 3. BEYOND 14 CONTROLS\n",
    "\n",
    "The power of the Classiq synthesis engine is far greater than creating optimized, 14-control MCX gates in an instant. Take the following code, where we create an MCX gate with 50 control qubits."
   ]
  },
  {
   "cell_type": "code",
   "execution_count": 10,
   "metadata": {
    "execution": {
     "iopub.execute_input": "2024-03-12T12:58:27.905834Z",
     "iopub.status.busy": "2024-03-12T12:58:27.904672Z",
     "iopub.status.idle": "2024-03-12T12:58:53.482347Z",
     "shell.execute_reply": "2024-03-12T12:58:53.481714Z"
    },
    "pycharm": {
     "name": "#%%\n"
    },
    "tags": []
   },
   "outputs": [
    {
     "name": "stdout",
     "output_type": "stream",
     "text": [
      "Opening: https://platform.classiq.io/circuit/b2eda310-cf64-4451-a5bc-a6bdf6e6264d?version=0.38.0.dev42%2Bfd36e2c41c\n"
     ]
    }
   ],
   "source": [
    "@qfunc\n",
    "def main(cntrl: Output[QArray[QBit]], target: Output[QBit]) -> None:\n",
    "    allocate(50, cntrl)\n",
    "    allocate(1, target)\n",
    "    my_mcx(cntrl, target)\n",
    "\n",
    "\n",
    "model = create_model(main)\n",
    "\n",
    "write_qmod(model, \"mcx_50_ctrl\")\n",
    "\n",
    "qprog = synthesize(model)\n",
    "show(qprog)"
   ]
  },
  {
   "cell_type": "markdown",
   "metadata": {
    "pycharm": {
     "name": "#%% md\n"
    }
   },
   "source": [
    "![MCX depth](../../../resources/images/MCX_graph_1_dec_22.png)\n"
   ]
  }
 ],
 "metadata": {
  "kernelspec": {
   "display_name": "Python 3 (ipykernel)",
   "language": "python",
   "name": "python3"
  },
  "language_info": {
   "codemirror_mode": {
    "name": "ipython",
    "version": 3
   },
   "file_extension": ".py",
   "mimetype": "text/x-python",
   "name": "python",
   "nbconvert_exporter": "python",
   "pygments_lexer": "ipython3",
   "version": "3.11.8"
  }
 },
 "nbformat": 4,
 "nbformat_minor": 4
}
