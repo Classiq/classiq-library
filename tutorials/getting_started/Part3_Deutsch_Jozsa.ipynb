{
 "cells": [
  {
   "cell_type": "markdown",
   "metadata": {},
   "source": [
    "# Exponential speedup with the Deutsch-Jozsa algorithm"
   ]
  },
  {
   "cell_type": "markdown",
   "metadata": {},
   "source": [
    "## Introduction\n",
    "\n",
    "The Deutsch-Jozsa algorithm[[1](#DJWiki)], named after David Deutsch and Richard Jozsa, is one of the fundamental and first quantum algorithms showing exponential speedup over their classical counterpart$^*$. While it has no practical applicative usage, it serves as a toy model for quantum computing, demonstrating how the concepts of super-position and interference enable quantum algorithms to overperform classical ones.\n",
    "\n",
    "$^*$ The exponential speedup is in the oracle complexity setting. In addition, it only refers to determenistic classical machines (see comments below).\n",
    "\n",
    "The algorithm treats the following problem:\n",
    "* Consider a black-box boolean function $f(x)$ which acts on the integers in the range $[0, 2^{n}-1]$.\n",
    "* It is guaranteed that the function is either constant or balanced ($\\equiv$ for half of the values it is 1 and for the other half 0).\n",
    "* The goal is to find in a deterministic way whether the function is constant or balanced.\n"
   ]
  },
  {
   "cell_type": "markdown",
   "metadata": {},
   "source": [
    "## Create our own implementation\n",
    "\n",
    "The circuit that we want to create is pictured below.\n",
    "To create this circuit we need to implement 4 steps:\n",
    "\n",
    "1. Declare and initialize a single auxiliary qubit called `aux`\n",
    "2. Apply the `hadamard_transform()` function on the qubits passed to the `main` function.\n",
    "3. create an oracle with the `phase_oracle()` function, this is the function signature: (if you are stuck more details are below) \n",
    "\n",
    "        def simple_oracle(\n",
    "            predicate: QCallable[QArray[QBit, Literal[\"len(target)\"]], QBit],\n",
    "            target: QArray[QBit],\n",
    "        )\n",
    "        \n",
    "4. Uncompute step 2 by applying the `hadamard_transform()` function to the \n",
    "\n",
    "Synthesize the circuit and execute in the IDE\n",
    "\n",
    "<details>\n",
    "<summary>\n",
    "Detailed instructions on using <code>phase_oracle()</code>\n",
    "</summary>\n",
    "The function takes two named inputs:\n",
    "\n",
    "1. predicate -> A `lambda` function with two inputs the target qubits and the auxiliary qubit, the expression will call the `my_black_box_prediate()`\n",
    "2. target -> The target qubit register\n",
    "</details>\n",
    "\n",
    "<br />\n",
    "\n",
    "<img src=\"data:image/png;base64,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\" />\n"
   ]
  },
  {
   "cell_type": "code",
   "execution_count": null,
   "metadata": {},
   "outputs": [],
   "source": [
    "from classiq import *\n",
    "\n",
    "@qfunc\n",
    "def my_black_box_prediate(aux: QBit, target: QNum):\n",
    "    aux ^= target > 30\n",
    "\n",
    "@qfunc\n",
    "def main(target: Output[QNum]):\n",
    "    allocate(3,target) #Allocate 3 qubits to the target register\n",
    "\n",
    "    pass\n",
    "\n",
    "qprog = synthesize(create_model(main))\n",
    "show(qprog)\n"
   ]
  },
  {
   "cell_type": "markdown",
   "metadata": {},
   "source": [
    "## Use within_apply\n",
    "\n",
    "Writing the Hadamard transform twice might not be ideal. Therefore there is a shorthand, namely `within_apply`, this will allow you to define the function between the two Hadamard transforms and even use other funcitons beside hadamerd transfrom to wrap this. Let's create the same function as above but use the `within_apply` function. \n",
    "\n",
    "<details>\n",
    "<summary>\n",
    "Detailed instructions on using <code>within_apply</code>\n",
    "</summary>\n",
    "The function takes two named inputs:\n",
    "\n",
    "1. compute -> A `lambda` function that holds the preparation and uncompute function. In this case the `hadamard_transform` function.\n",
    "2. action -> A `lambda` function that holds the action that is wrapped within the compute functions. In this case that is the entire `simple_oracle`.\n",
    "</details>\n",
    "\n",
    "<br />"
   ]
  },
  {
   "cell_type": "code",
   "execution_count": null,
   "metadata": {},
   "outputs": [],
   "source": [
    "@QFunc\n",
    "def main(target: Output[QNum]):\n",
    "    allocate(3,target) #Allocate 3 qubits to the target register\n",
    "\n",
    "    pass\n",
    "\n",
    "qprog = synthesize(create_model(main))\n",
    "show(qprog)"
   ]
  },
  {
   "cell_type": "markdown",
   "metadata": {},
   "source": [
    "## Mathematical explanation\n",
    "\n",
    "Below, we briefly go over the linear algebra behind the Deutsch-Jozsa algorithm. The first Hadamard transformation generates an equal superposition over all the standard basis elements:\n",
    "$$\n",
    "|0\\rangle_n \\xrightarrow[H^{\\otimes n}]{} \\frac{1}{2^{n/2}}\\sum^{2^n-1}_{j=0}|j\\rangle_n.\n",
    "$$\n",
    "Arithmetic oracle gets a boolean function and adds an $e^{\\pi i}=-1$ phase to all states for which the function returns True:\n",
    "$$\n",
    "\\frac{1}{2^{n/2}}\\sum^{2^n-1}_{j=0}|j\\rangle_n \\xrightarrow[\\text{Oracle}(f(j))]{}\\frac{1}{2^{n/2}}\\sum^{2^n-1}_{j=0}(-1)^{f(j)}|j\\rangle_n.\n",
    "$$\n",
    "Finally, we apply the Hadamard transform, which can be written as $H^{\\otimes n}\\equiv \\frac{1}{2^{n/2}}\\sum^{2^n-1}_{k,l=0}(-1)^{k\\cdot l} |k\\rangle \\langle l| $, to find\n",
    "$$\n",
    "\\frac{1}{2^{n/2}}\\sum^{2^n-1}_{j=0}(-1)^{f(j)}|j\\rangle  \\xrightarrow[H^{\\otimes n}]{} \n",
    "\\sum^{2^n-1}_{k=0} \\left(\\frac{1}{2^{n}}\\sum^{2^n-1}_{j=0}(-1)^{f(j)+j\\cdot k}|j\\rangle \\right) |k\\rangle.\n",
    "$$\n",
    "\n",
    "The probability of getting the state $|k\\rangle = |0\\rangle$ is\n",
    "$$\n",
    "P(0)=\\left|\\frac{1}{2^{n}}\\sum^{2^n-1}_{j=0}(-1)^{f(j)}|j\\rangle \\right|^2 =\n",
    "\\left\\{\n",
    "\\begin{array}{l l}\n",
    "1 & \\text{if } f(x) \\text{ is constant} \\\\\n",
    "0 & \\text{if } f(x) \\text{ is balanced}\n",
    "\\end{array}\n",
    "\\right.\n",
    "$$\n",
    "\n",
    "## Comments\n",
    "\n",
    "If we do not require deterministic determination, namely, we can apply a classical probabilistic algorithm to get the result up to some error, then we lose the exponential speedup: taking $k$ classical evaluations of the function $f$ determines whether the function is constant or balanced, with a probability $1-1/2^k$."
   ]
  },
  {
   "cell_type": "markdown",
   "metadata": {},
   "source": [
    "### The full solution for your reference"
   ]
  },
  {
   "cell_type": "code",
   "execution_count": null,
   "metadata": {},
   "outputs": [],
   "source": [
    "@qfunc\n",
    "def my_black_box_prediate(aux: QBit, target: QNum):\n",
    "    aux ^= target > 40\n",
    "\n",
    "@qfunc\n",
    "def main(target: Output[QNum]):\n",
    "    allocate(3,target) #Allocate 3 qubits to the target register\n",
    "    \n",
    "    aux = QBit('aux')\n",
    "    allocate(1, aux)\n",
    "\n",
    "    within_apply(\n",
    "        compute=lambda: hadamard_transform(target=target),\n",
    "        action=lambda: phase_oracle(predicate=lambda target, aux: my_black_box_prediate(aux=aux, target=target), target=target)\n",
    "    )\n",
    "    \n",
    "    free(aux)\n",
    "\n",
    "qprog = synthesize(create_model(main))\n",
    "show(qprog)"
   ]
  }
 ],
 "metadata": {
  "kernelspec": {
   "display_name": "Python 3",
   "language": "python",
   "name": "python3"
  },
  "language_info": {
   "codemirror_mode": {
    "name": "ipython",
    "version": 3
   },
   "file_extension": ".py",
   "mimetype": "text/x-python",
   "name": "python",
   "nbconvert_exporter": "python",
   "pygments_lexer": "ipython3",
   "version": "3.10.13"
  }
 },
 "nbformat": 4,
 "nbformat_minor": 2
}
