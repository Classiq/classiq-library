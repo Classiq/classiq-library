{
 "cells": [
  {
   "cell_type": "markdown",
   "metadata": {},
   "source": [
    "# Hello Many Worlds"
   ]
  },
  {
   "cell_type": "markdown",
   "metadata": {},
   "source": [
    "With Classiq (as, perhaps, with quantum computing) there are many parallel worlds in which to work; specifically, the IDE and Python SDK interfaces. The 'Hello World' example below runs in different flows of the design-optimize-analyze-execute steps between the IDE and the Python SDK:\n",
    "\n",
    "1. [All in IDE](#all-in-ide)\n",
    "2. [Design (SDK) - Optimize (SDK) - Analyze (IDE) - Execute (SDK)](#design-sdk---optimize-sdk---analyze-ide---execute-sdk)\n",
    "3. [Design (SDK) - Optimize (SDK) - Analyze (IDE) - Execute (IDE)](#design-sdk---optimize-sdk---analyze-ide---execute-ide)\n",
    "\n",
    "The 'Hello World' example calculates the simple arithmetic operation $y=x^2+1$ in a superposition. This example is covered in depth in Classiq 101."
   ]
  },
  {
   "cell_type": "markdown",
   "metadata": {},
   "source": [
    "## All in IDE"
   ]
  },
  {
   "cell_type": "markdown",
   "metadata": {},
   "source": [
    "Copy and paste the following code in the `Model` tab in the IDE, then click `Synthesize` as shown in the GIF:\n",
    "```\n",
    "qfunc main(output x: qnum, output y:qnum){\n",
    "  allocate<4>(x);\n",
    "  hadamard_transform(x);\n",
    "  y = x**2+1;\n",
    "}\n",
    "```"
   ]
  },
  {
   "cell_type": "markdown",
   "metadata": {},
   "source": [
    "<div style=\"text-align:center;\">\n",
    "    <img src=\"https://docs.classiq.io/resources/many_worlds_ide_design.gif\" />\n",
    "</div>\n"
   ]
  },
  {
   "cell_type": "markdown",
   "metadata": {},
   "source": [
    "Check that you receive two blocks in the quantum circuit: `hadamard_transform` and `Arithmetic`, then click `Execute`:"
   ]
  },
  {
   "cell_type": "markdown",
   "metadata": {},
   "source": [
    "<div style=\"text-align:center;\">\n",
    "    <img src=\"https://docs.classiq.io/resources/many_worlds_ide_analyze.gif\" />\n",
    "</div>"
   ]
  },
  {
   "cell_type": "markdown",
   "metadata": {},
   "source": [
    "In the `Execution` tab, under the Classiq provider, choose the simulator (and make sure that other options are not selected). Change the job name to 'hello world' and click `Run`:"
   ]
  },
  {
   "cell_type": "markdown",
   "metadata": {},
   "source": [
    "<div style=\"text-align:center;\">\n",
    "    <img src=\"https://docs.classiq.io/resources/many_worlds_ide_execute.gif\" />\n",
    "</div>"
   ]
  },
  {
   "cell_type": "markdown",
   "metadata": {},
   "source": [
    "In the `Jobs` tab, check the results by hovering over the histogram bars and verifying you receive 16 bars. Each bar encapsulates the correct relation between $x$ and $y$; i.e., $y=x^2+1$:"
   ]
  },
  {
   "cell_type": "markdown",
   "metadata": {},
   "source": [
    "<div style=\"text-align:center;\">\n",
    "    <img src=\"https://docs.classiq.io/resources/many_worlds_ide_results.gif\" />\n",
    "</div>"
   ]
  },
  {
   "cell_type": "markdown",
   "metadata": {},
   "source": [
    "That's it! You just completed designing, optimizing, analyzing, and executing your first quantum algorithm with the Classiq IDE."
   ]
  },
  {
   "cell_type": "markdown",
   "metadata": {},
   "source": [
    "## Design (SDK) - Optimize (SDK) - Analyze (IDE) - Execute (SDK)\n"
   ]
  },
  {
   "cell_type": "markdown",
   "metadata": {},
   "source": [
    "Design your hello world quantum algorithm by running the following code in your favorite Python SDK environment (after installing Classiq):"
   ]
  },
  {
   "cell_type": "code",
   "execution_count": 1,
   "metadata": {
    "execution": {
     "iopub.execute_input": "2024-07-31T10:30:41.513429Z",
     "iopub.status.busy": "2024-07-31T10:30:41.512798Z",
     "iopub.status.idle": "2024-07-31T10:30:44.630794Z",
     "shell.execute_reply": "2024-07-31T10:30:44.629987Z"
    }
   },
   "outputs": [],
   "source": [
    "from classiq import *\n",
    "\n",
    "\n",
    "@qfunc\n",
    "def main(x: Output[QNum], y: Output[QNum]):\n",
    "\n",
    "    allocate(4, x)\n",
    "    hadamard_transform(x)  # creates a uniform superposition\n",
    "    y |= x**2 + 1"
   ]
  },
  {
   "cell_type": "markdown",
   "metadata": {},
   "source": [
    "Optimize your algorithm by running this code from the Python SDK:"
   ]
  },
  {
   "cell_type": "code",
   "execution_count": 2,
   "metadata": {
    "execution": {
     "iopub.execute_input": "2024-07-31T10:30:44.635436Z",
     "iopub.status.busy": "2024-07-31T10:30:44.634123Z",
     "iopub.status.idle": "2024-07-31T10:30:47.039108Z",
     "shell.execute_reply": "2024-07-31T10:30:47.038299Z"
    }
   },
   "outputs": [],
   "source": [
    "quantum_program = synthesize(create_model(main))"
   ]
  },
  {
   "cell_type": "markdown",
   "metadata": {},
   "source": [
    "Analyze your quantum circuit in the IDE by running this code in Python and opening the pop-up link:"
   ]
  },
  {
   "cell_type": "code",
   "execution_count": 3,
   "metadata": {
    "execution": {
     "iopub.execute_input": "2024-07-31T10:30:47.047674Z",
     "iopub.status.busy": "2024-07-31T10:30:47.042947Z",
     "iopub.status.idle": "2024-07-31T10:30:47.175906Z",
     "shell.execute_reply": "2024-07-31T10:30:47.175204Z"
    }
   },
   "outputs": [
    {
     "name": "stdout",
     "output_type": "stream",
     "text": [
      "Opening: https://platform.classiq.io/circuit/acbc0a17-7efa-4398-a494-5f37487558fc?version=0.45.0.dev0%2Bcf1b9b7ccc\n"
     ]
    }
   ],
   "source": [
    "show(quantum_program)"
   ]
  },
  {
   "cell_type": "markdown",
   "metadata": {},
   "source": [
    "<div style=\"text-align:center;\">\n",
    "    <img src=\"https://docs.classiq.io/resources/many_worlds_ide_analyze.gif\" />\n",
    "</div>"
   ]
  },
  {
   "cell_type": "markdown",
   "metadata": {},
   "source": [
    "Execute your code in the Python SDK by running this:"
   ]
  },
  {
   "cell_type": "code",
   "execution_count": 4,
   "metadata": {
    "execution": {
     "iopub.execute_input": "2024-07-31T10:30:47.229246Z",
     "iopub.status.busy": "2024-07-31T10:30:47.228896Z",
     "iopub.status.idle": "2024-07-31T10:30:49.695957Z",
     "shell.execute_reply": "2024-07-31T10:30:49.695274Z"
    }
   },
   "outputs": [
    {
     "name": "stdout",
     "output_type": "stream",
     "text": [
      "[{'x': 15.0, 'y': 226.0}: 75, {'x': 9.0, 'y': 82.0}: 74, {'x': 5.0, 'y': 26.0}: 71, {'x': 2.0, 'y': 5.0}: 70, {'x': 10.0, 'y': 101.0}: 65, {'x': 6.0, 'y': 37.0}: 65, {'x': 13.0, 'y': 170.0}: 64, {'x': 4.0, 'y': 17.0}: 60, {'x': 7.0, 'y': 50.0}: 60, {'x': 14.0, 'y': 197.0}: 59, {'x': 8.0, 'y': 65.0}: 59, {'x': 3.0, 'y': 10.0}: 58, {'x': 0.0, 'y': 1.0}: 57, {'x': 11.0, 'y': 122.0}: 57, {'x': 12.0, 'y': 145.0}: 54, {'x': 1.0, 'y': 2.0}: 52]\n"
     ]
    }
   ],
   "source": [
    "job = execute(quantum_program)\n",
    "results = job.result()[0].value.parsed_counts\n",
    "print(results)"
   ]
  },
  {
   "cell_type": "markdown",
   "metadata": {},
   "source": [
    "Check that you receive 16 pairs of `{'x': , 'y': }` and that the values indeed follow the connection $y=x^2+1$. \n",
    "\n",
    "That's it! You just completed your first quantum algorithm in the Python SDK."
   ]
  },
  {
   "cell_type": "markdown",
   "metadata": {},
   "source": [
    "## Design (SDK) - Optimize (SDK) - Analyze (IDE) - Execute (IDE)"
   ]
  },
  {
   "cell_type": "markdown",
   "metadata": {},
   "source": [
    "Now, run the same example using a mixed flow of the previous two:\n",
    "\n",
    "Design your hello world quantum algorithm by running this code in your favorite Python SDK environment (after installing Classiq):"
   ]
  },
  {
   "cell_type": "code",
   "execution_count": 5,
   "metadata": {
    "execution": {
     "iopub.execute_input": "2024-07-31T10:30:49.700730Z",
     "iopub.status.busy": "2024-07-31T10:30:49.699528Z",
     "iopub.status.idle": "2024-07-31T10:30:49.705459Z",
     "shell.execute_reply": "2024-07-31T10:30:49.704844Z"
    }
   },
   "outputs": [],
   "source": [
    "from classiq import *\n",
    "\n",
    "\n",
    "@qfunc\n",
    "def main(x: Output[QNum], y: Output[QNum]):\n",
    "\n",
    "    allocate(4, x)\n",
    "    hadamard_transform(x)  # creates a uniform superposition\n",
    "    y |= x**2 + 1"
   ]
  },
  {
   "cell_type": "markdown",
   "metadata": {},
   "source": [
    "Optimize your algorithm by running this code in the Python SDK:"
   ]
  },
  {
   "cell_type": "code",
   "execution_count": 6,
   "metadata": {
    "execution": {
     "iopub.execute_input": "2024-07-31T10:30:49.709262Z",
     "iopub.status.busy": "2024-07-31T10:30:49.708262Z",
     "iopub.status.idle": "2024-07-31T10:30:51.872002Z",
     "shell.execute_reply": "2024-07-31T10:30:51.871380Z"
    }
   },
   "outputs": [],
   "source": [
    "quantum_program = synthesize(create_model(main))"
   ]
  },
  {
   "cell_type": "markdown",
   "metadata": {},
   "source": [
    "Analyze your quantum circuit in the IDE by running this code in Python and opening the pop-up link:"
   ]
  },
  {
   "cell_type": "code",
   "execution_count": 7,
   "metadata": {
    "execution": {
     "iopub.execute_input": "2024-07-31T10:30:51.874786Z",
     "iopub.status.busy": "2024-07-31T10:30:51.874424Z",
     "iopub.status.idle": "2024-07-31T10:30:51.932510Z",
     "shell.execute_reply": "2024-07-31T10:30:51.931820Z"
    }
   },
   "outputs": [
    {
     "name": "stdout",
     "output_type": "stream",
     "text": [
      "Opening: https://platform.classiq.io/circuit/34f99c97-8085-4cfc-a36b-76972a51835f?version=0.45.0.dev0%2Bcf1b9b7ccc\n"
     ]
    }
   ],
   "source": [
    "show(quantum_program)"
   ]
  },
  {
   "cell_type": "markdown",
   "metadata": {},
   "source": [
    "<div style=\"text-align:center;\">\n",
    "    <img src=\"https://docs.classiq.io/resources/many_worlds_ide_analyze.gif\" />\n",
    "</div>"
   ]
  },
  {
   "cell_type": "markdown",
   "metadata": {},
   "source": [
    "Check that you receive two blocks in the quantum circuit: `hadamard_transform` and `Arithmetic`, then click `Execute`:"
   ]
  },
  {
   "cell_type": "markdown",
   "metadata": {},
   "source": [
    "<div style=\"text-align:center;\">\n",
    "    <img src=\"https://docs.classiq.io/resources/many_worlds_ide_analyze.gif\" />\n",
    "</div>"
   ]
  },
  {
   "cell_type": "markdown",
   "metadata": {},
   "source": [
    "In the `Execution` tab, under the Classiq provider, choose the simulator (and make sure that other options are not selected). Change the job name to 'hello world' and click `Run`:"
   ]
  },
  {
   "cell_type": "markdown",
   "metadata": {},
   "source": [
    "<div style=\"text-align:center;\">\n",
    "    <img src=\"https://docs.classiq.io/resources/many_worlds_ide_execute.gif\" />\n",
    "</div>"
   ]
  },
  {
   "cell_type": "markdown",
   "metadata": {},
   "source": [
    "In the `Jobs` tab, check the results by hovering over the histogram bars and verifying you receive 16 bars. Each bar encapsulates the correct relation between $x$ and $y$; i.e., $y=x^2+1$:"
   ]
  },
  {
   "cell_type": "markdown",
   "metadata": {},
   "source": [
    "<div style=\"text-align:center;\">\n",
    "    <img src=\"https://docs.classiq.io/resources/many_worlds_ide_results.gif\" />\n",
    "</div>"
   ]
  },
  {
   "cell_type": "markdown",
   "metadata": {},
   "source": [
    "That's it! You just completed the hello world example in a mixed flow of IDE and Python SDK.\n",
    "\n",
    "You are ready to continue with Classiq 101. Enjoy!"
   ]
  },
  {
   "cell_type": "code",
   "execution_count": 8,
   "metadata": {
    "execution": {
     "iopub.execute_input": "2024-07-31T10:30:51.935419Z",
     "iopub.status.busy": "2024-07-31T10:30:51.934903Z",
     "iopub.status.idle": "2024-07-31T10:30:51.945918Z",
     "shell.execute_reply": "2024-07-31T10:30:51.945275Z"
    }
   },
   "outputs": [],
   "source": [
    "write_qmod(create_model(main), \"hello_many_worlds\")"
   ]
  }
 ],
 "metadata": {
  "kernelspec": {
   "display_name": "Python 3.11.7 ('classiq')",
   "language": "python",
   "name": "python3"
  },
  "language_info": {
   "codemirror_mode": {
    "name": "ipython",
    "version": 3
   },
   "file_extension": ".py",
   "mimetype": "text/x-python",
   "name": "python",
   "nbconvert_exporter": "python",
   "pygments_lexer": "ipython3",
   "version": "3.11.9"
  },
  "vscode": {
   "interpreter": {
    "hash": "529b62266d4f537a408698cf820854c65fe877011c7661f0f70aa11c4383fddc"
   }
  }
 },
 "nbformat": 4,
 "nbformat_minor": 2
}
