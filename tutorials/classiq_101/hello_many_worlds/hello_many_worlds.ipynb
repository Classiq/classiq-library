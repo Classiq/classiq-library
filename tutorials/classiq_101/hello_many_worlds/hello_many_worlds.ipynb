{
 "cells": [
  {
   "cell_type": "markdown",
   "metadata": {},
   "source": [
    "# Hello Many Worlds"
   ]
  },
  {
   "cell_type": "markdown",
   "metadata": {},
   "source": [
    "With Classiq (as, perhaps, with quantum computing) there are many parallel worlds in which to work; specifically, the IDE and Python SDK interfaces. The 'Hello World' example below runs in different flows of the design-optimize-analyze-execute steps between the IDE and the Python SDK:\n",
    "\n",
    "1. [All in IDE](#all-in-ide)\n",
    "2. [Design (SDK) - Optimize (SDK) - Analyze (IDE) - Execute (SDK)](#design-sdk---optimize-sdk---analyze-ide---execute-sdk)\n",
    "3. [Design (SDK) - Optimize (SDK) - Analyze (IDE) - Execute (IDE)](#design-sdk---optimize-sdk---analyze-ide---execute-ide)\n",
    "\n",
    "The 'Hello World' example calculates the simple arithmetic operation $y=x^2+1$ in a superposition. This example is covered in depth in Classiq 101."
   ]
  },
  {
   "cell_type": "markdown",
   "metadata": {},
   "source": [
    "## All in IDE"
   ]
  },
  {
   "cell_type": "markdown",
   "metadata": {},
   "source": [
    "Copy and paste the following code in the `Model` tab in the IDE, then click `Synthesize` as shown in the GIF:\n",
    "```\n",
    "qfunc main(output x: qnum, output y:qnum){\n",
    "  allocate(4, x);\n",
    "  hadamard_transform(x);\n",
    "  y = x**2+1;\n",
    "}\n",
    "```"
   ]
  },
  {
   "cell_type": "markdown",
   "metadata": {},
   "source": [
    "<div style=\"text-align:center;\">\n",
    "    <img src=\"https://docs.classiq.io/resources/many_worlds_ide_design.gif\" />\n",
    "</div>\n"
   ]
  },
  {
   "cell_type": "markdown",
   "metadata": {},
   "source": [
    "Check that you receive two blocks in the quantum circuit: `hadamard_transform` and `Arithmetic`, then click `Execute`:"
   ]
  },
  {
   "cell_type": "markdown",
   "metadata": {},
   "source": [
    "<div style=\"text-align:center;\">\n",
    "    <img src=\"https://docs.classiq.io/resources/many_worlds_ide_analyze.gif\" />\n",
    "</div>"
   ]
  },
  {
   "cell_type": "markdown",
   "metadata": {},
   "source": [
    "In the `Execution` tab, under the Classiq provider, choose the simulator (and make sure that other options are not selected). Change the job name to 'hello world' and click `Run`:"
   ]
  },
  {
   "cell_type": "markdown",
   "metadata": {},
   "source": [
    "<div style=\"text-align:center;\">\n",
    "    <img src=\"https://docs.classiq.io/resources/many_worlds_ide_execute.gif\" />\n",
    "</div>"
   ]
  },
  {
   "cell_type": "markdown",
   "metadata": {},
   "source": [
    "In the `Jobs` tab, check the results by hovering over the histogram bars and verifying you receive 16 bars. Each bar encapsulates the correct relation between $x$ and $y$; i.e., $y=x^2+1$:"
   ]
  },
  {
   "cell_type": "markdown",
   "metadata": {},
   "source": [
    "<div style=\"text-align:center;\">\n",
    "    <img src=\"https://docs.classiq.io/resources/many_worlds_ide_results.gif\" />\n",
    "</div>"
   ]
  },
  {
   "cell_type": "markdown",
   "metadata": {},
   "source": [
    "That's it! You just completed designing, optimizing, analyzing, and executing your first quantum algorithm with the Classiq IDE."
   ]
  },
  {
   "cell_type": "markdown",
   "metadata": {},
   "source": [
    "## Design (SDK) - Optimize (SDK) - Analyze (IDE) - Execute (SDK)\n"
   ]
  },
  {
   "cell_type": "markdown",
   "metadata": {},
   "source": [
    "Design your hello world quantum algorithm by running the following code in your favorite Python SDK environment (after installing Classiq):"
   ]
  },
  {
   "cell_type": "code",
   "execution_count": 1,
   "metadata": {},
   "outputs": [],
   "source": [
    "from classiq import *\n",
    "\n",
    "\n",
    "@qfunc\n",
    "def main(x: Output[QNum], y: Output[QNum]):\n",
    "    allocate(4, x)\n",
    "    hadamard_transform(x)  # creates a uniform superposition\n",
    "    y |= x**2 + 1"
   ]
  },
  {
   "cell_type": "markdown",
   "metadata": {},
   "source": [
    "Optimize your algorithm by running this code from the Python SDK:"
   ]
  },
  {
   "cell_type": "code",
   "execution_count": 2,
   "metadata": {},
   "outputs": [],
   "source": [
    "qprog_1 = synthesize(main)"
   ]
  },
  {
   "cell_type": "markdown",
   "metadata": {},
   "source": [
    "Analyze your quantum circuit in the IDE by running this code in Python and opening the pop-up link:"
   ]
  },
  {
   "cell_type": "code",
   "execution_count": 3,
   "metadata": {},
   "outputs": [
    {
     "name": "stdout",
     "output_type": "stream",
     "text": [
      "Opening: https://platform.classiq.io/circuit/2uG1nYzA9dUoa9icpRs44Mp5gNd?version=0.70.0\n"
     ]
    }
   ],
   "source": [
    "show(qprog_1)"
   ]
  },
  {
   "cell_type": "markdown",
   "metadata": {},
   "source": [
    "<div style=\"text-align:center;\">\n",
    "    <img src=\"https://docs.classiq.io/resources/many_worlds_ide_analyze.gif\" />\n",
    "</div>"
   ]
  },
  {
   "cell_type": "markdown",
   "metadata": {},
   "source": [
    "Execute your code in the Python SDK by running this:"
   ]
  },
  {
   "cell_type": "code",
   "execution_count": 4,
   "metadata": {},
   "outputs": [
    {
     "name": "stdout",
     "output_type": "stream",
     "text": [
      "[{'x': 6, 'y': 37}: 155, {'x': 8, 'y': 65}: 144, {'x': 13, 'y': 170}: 144, {'x': 11, 'y': 122}: 143, {'x': 5, 'y': 26}: 133, {'x': 12, 'y': 145}: 130, {'x': 9, 'y': 82}: 129, {'x': 7, 'y': 50}: 128, {'x': 2, 'y': 5}: 125, {'x': 4, 'y': 17}: 123, {'x': 3, 'y': 10}: 122, {'x': 0, 'y': 1}: 120, {'x': 14, 'y': 197}: 115, {'x': 1, 'y': 2}: 113, {'x': 10, 'y': 101}: 113, {'x': 15, 'y': 226}: 111]\n"
     ]
    }
   ],
   "source": [
    "results = execute(qprog_1).result_value()\n",
    "print(results.parsed_counts)"
   ]
  },
  {
   "cell_type": "markdown",
   "metadata": {},
   "source": [
    "Check that you receive 16 pairs of `{'x': , 'y': }` and that the values indeed follow the connection $y=x^2+1$. \n",
    "\n",
    "That's it! You just completed your first quantum algorithm in the Python SDK."
   ]
  },
  {
   "cell_type": "markdown",
   "metadata": {},
   "source": [
    "## Design (SDK) - Optimize (SDK) - Analyze (IDE) - Execute (IDE)"
   ]
  },
  {
   "cell_type": "markdown",
   "metadata": {},
   "source": [
    "Now, run the same example using a mixed flow of the previous two:\n",
    "\n",
    "Design your hello world quantum algorithm by running this code in your favorite Python SDK environment (after installing Classiq):"
   ]
  },
  {
   "cell_type": "code",
   "execution_count": 5,
   "metadata": {},
   "outputs": [],
   "source": [
    "from classiq import *\n",
    "\n",
    "\n",
    "@qfunc\n",
    "def main(x: Output[QNum], y: Output[QNum]):\n",
    "    allocate(4, x)\n",
    "    hadamard_transform(x)  # creates a uniform superposition\n",
    "    y |= x**2 + 1"
   ]
  },
  {
   "cell_type": "markdown",
   "metadata": {},
   "source": [
    "Optimize your algorithm by running this code in the Python SDK:"
   ]
  },
  {
   "cell_type": "code",
   "execution_count": 6,
   "metadata": {},
   "outputs": [],
   "source": [
    "qprog_2 = synthesize(main)"
   ]
  },
  {
   "cell_type": "markdown",
   "metadata": {},
   "source": [
    "Analyze your quantum circuit in the IDE by running this code in Python and opening the pop-up link:"
   ]
  },
  {
   "cell_type": "code",
   "execution_count": 7,
   "metadata": {},
   "outputs": [
    {
     "name": "stdout",
     "output_type": "stream",
     "text": [
      "Opening: https://platform.classiq.io/circuit/2uG1ohlk2JsaupooIjMUCYNBaRL?version=0.70.0\n"
     ]
    }
   ],
   "source": [
    "show(qprog_2)"
   ]
  },
  {
   "cell_type": "markdown",
   "metadata": {},
   "source": [
    "<div style=\"text-align:center;\">\n",
    "    <img src=\"https://docs.classiq.io/resources/many_worlds_ide_analyze.gif\" />\n",
    "</div>"
   ]
  },
  {
   "cell_type": "markdown",
   "metadata": {},
   "source": [
    "Check that you receive two blocks in the quantum circuit: `hadamard_transform` and `Arithmetic`, then click `Execute`:"
   ]
  },
  {
   "cell_type": "markdown",
   "metadata": {},
   "source": [
    "<div style=\"text-align:center;\">\n",
    "    <img src=\"https://docs.classiq.io/resources/many_worlds_ide_analyze.gif\" />\n",
    "</div>"
   ]
  },
  {
   "cell_type": "markdown",
   "metadata": {},
   "source": [
    "In the `Execution` tab, under the Classiq provider, choose the simulator (and make sure that other options are not selected). Change the job name to 'hello world' and click `Run`:"
   ]
  },
  {
   "cell_type": "markdown",
   "metadata": {},
   "source": [
    "<div style=\"text-align:center;\">\n",
    "    <img src=\"https://docs.classiq.io/resources/many_worlds_ide_execute.gif\" />\n",
    "</div>"
   ]
  },
  {
   "cell_type": "markdown",
   "metadata": {},
   "source": [
    "In the `Jobs` tab, check the results by hovering over the histogram bars and verifying you receive 16 bars. Each bar encapsulates the correct relation between $x$ and $y$; i.e., $y=x^2+1$:"
   ]
  },
  {
   "cell_type": "markdown",
   "metadata": {},
   "source": [
    "<div style=\"text-align:center;\">\n",
    "    <img src=\"https://docs.classiq.io/resources/many_worlds_ide_results.gif\" />\n",
    "</div>"
   ]
  },
  {
   "cell_type": "markdown",
   "metadata": {},
   "source": [
    "That's it! You just completed the hello world example in a mixed flow of IDE and Python SDK.\n",
    "\n",
    "You are ready to continue with Classiq 101. Enjoy!"
   ]
  },
  {
   "cell_type": "code",
   "execution_count": 8,
   "metadata": {},
   "outputs": [],
   "source": [
    "qmod = create_model(main, out_file=\"hello_many_worlds\")"
   ]
  }
 ],
 "metadata": {
  "kernelspec": {
   "display_name": "Python 3 (ipykernel)",
   "language": "python",
   "name": "python3"
  },
  "language_info": {
   "codemirror_mode": {
    "name": "ipython",
    "version": 3
   },
   "file_extension": ".py",
   "mimetype": "text/x-python",
   "name": "python",
   "nbconvert_exporter": "python",
   "pygments_lexer": "ipython3",
   "version": "3.11.7"
  },
  "vscode": {
   "interpreter": {
    "hash": "529b62266d4f537a408698cf820854c65fe877011c7661f0f70aa11c4383fddc"
   }
  }
 },
 "nbformat": 4,
 "nbformat_minor": 4
}
