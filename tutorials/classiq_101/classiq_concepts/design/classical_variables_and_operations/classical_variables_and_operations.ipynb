{
 "cells": [
  {
   "cell_type": "markdown",
   "metadata": {},
   "source": [
    "# Design - Classical Variables and Operations"
   ]
  },
  {
   "cell_type": "markdown",
   "metadata": {},
   "source": [
    "Classical variables and operations lie at the heart of the Qmod language, but they are complemented by classical control flow and operations, making it easier to design quantum algorithms with hybrid quantum-classical logic. With the latest updates, Qmod now fully supports Python's classical operations, such as `for` loops, `if-else` statements, and more, smoothly integrating with quantum workflows.\n",
    "\n",
    "In Qmod, equivalent types for common Python `int`, `float`, `list`, and `bool` types are denoted by `int`, `real`, `array`, and `bool` in the native syntax and by `CInt`, `CReal`, `CArray`, and `CBool` in the Python SDK. The Qmod types can be used in quantum workflows, though Python types can also be passed as classical parameters. For example, when writing quantum workflows, it is possible to use both the length of a quantum array, which is a Qmod quantity, or a Python `int` quantity to control the action of a loop. This ensures the type consistency required for quantum control flow operations like `repeat` (the Qmod equivalent of a Python `for` loop) and `if-else` statements, which enable sophisticated hybrid control logic, see a [detailed description](https://docs.classiq.io/latest/qmod-reference/language-reference/statements/classical-control-flow/). Additionally, Qmod supports arrays of classical values and more configurable data structures called `Struct`s (equivalent to Python dataclasses without methods). See the full list of [classical variables and types supported in Qmod](https://docs.classiq.io/latest/qmod-reference/language-reference/classical-types/#structs). \n",
    "\n",
    "While Qmod enables the integration of Python types within its quantum workflows, the converse is not true with the capabilities covered so far. Python control flow constructs, such as `range`, `for` loops and `if-else` statements, cannot yet incorporate Qmod-specific quantities such as the `len` of a quantum array, within Python’s native control flow. Qmod quantities remain tightly integrated within the Qmod execution environment and cannot directly influence Python logic, ensuring a clear separation between classical Python constructs and Qmod quantum operations."
   ]
  },
  {
   "cell_type": "markdown",
   "metadata": {},
   "source": [
    "### Generative Functions in Qmod"
   ]
  },
  {
   "cell_type": "markdown",
   "metadata": {},
   "source": [
    "Generative functions in Qmod offer a powerful way to create and manipulate classical objects of Qmod with Python constructs. These functions allow the interaction between quantum and classical variables, enabling advanced logic and operations. Currently, it is possible to benefit from the following Python features within quantum programs using generative functions:\n",
    "\n",
    "- **`range`**: Generate sequences of classical values to iterate quantum operations dynamically over classical types within Qmod types. \n",
    "- **`if` statements**: Define conditional logic for generating and applying quantum operations using Qmod types as classical control parameters.\n",
    "- **Treating quantum constants as classical**: Converts parameters intricate to the quantum systems to Python types. This allows one to use, for example, integration of functions from external packages such as `math.sqrt` over classical quantities of a quantum object, such as the `len` of a quantum array.\n",
    "\n",
    "\n",
    "Generative functions provide an elegant way to manage hybrid classical-quantum workflows, enhancing the expressiveness of your quantum algorithms. For more details and examples, refer to the [Generative Functions documentation](https://docs.classiq.io/latest/qmod-reference/language-reference/generative-functions/?h=ge).\n",
    "\n",
    "To enable generative functions in quantum function, it is necessary to modify the `@qfunc` decorator to `@qfunc(generative=True)`.\n",
    "\n",
    "---"
   ]
  },
  {
   "cell_type": "markdown",
   "metadata": {},
   "source": [
    "## First Example: State preparation"
   ]
  },
  {
   "cell_type": "markdown",
   "metadata": {},
   "source": [
    "The task is to create a quantum array with $10$ qubits in the state of $|1010101010\\rangle$; i.e., a quantum state with alternating qubit states of zeros and ones. \n",
    "\n",
    "The way of doing this is based on knowing that a general qubit array can be easily initialized to the state of all zeros; i.e., $|0000000000\\rangle$, it should be sufficient to flip the state of every all the qubits in an even position (the qubits in the $0th$ position, $2nd$ position, $4th$ position, etc.).\n",
    "\n",
    "The argument of the `main` function is a qubit array named `x`. Initalize it to the state $|0000000000\\rangle$ with $10$ qubits using the `allocate` function.\n",
    "\n",
    "After that, by allowing generative functions by setting `@qfunc(generative=True)`, it is possible to use the length of the qubit array `x` as a classical variable, and apply quantum operations over qubits dynamically, using Python's `if` and `for` statements over the qmod `x.len` quantity, according to the pre-defined rule of flipping the state of the even qubits. \n",
    "\n",
    "The condition of whether `i` is even evaluated is using the `%` modulo operation, which calculates the reminder of the integer `i` divided by $2$."
   ]
  },
  {
   "cell_type": "code",
   "execution_count": 1,
   "metadata": {},
   "outputs": [],
   "source": [
    "from classiq import *\n",
    "\n",
    "\n",
    "@qfunc(generative=True)\n",
    "def main(x: Output[QArray]):\n",
    "    allocate(10, x)\n",
    "    print(x.len)\n",
    "    for i in range(x.len):\n",
    "        if i % 2 == 0:\n",
    "            X(x[i])"
   ]
  },
  {
   "cell_type": "markdown",
   "metadata": {},
   "source": [
    "That's it, the algorithm can be synthesized and viewed in the IDE:"
   ]
  },
  {
   "cell_type": "code",
   "execution_count": 2,
   "metadata": {},
   "outputs": [
    {
     "name": "stdout",
     "output_type": "stream",
     "text": [
      "10\n",
      "Opening: https://platform.classiq.io/circuit/2twkcFK4DUU9WRgDA2oxlOkNIg5?version=0.70.0\n"
     ]
    }
   ],
   "source": [
    "qprog = synthesize(main)\n",
    "show(qprog)"
   ]
  },
  {
   "cell_type": "markdown",
   "metadata": {},
   "source": [
    "<div  style=\"text-align:center;\">\n",
    "    <img src=\"https://docs.classiq.io/resources/class_var_and_ops_1.png\n",
    "\">\n",
    "</div>"
   ]
  },
  {
   "cell_type": "markdown",
   "metadata": {},
   "source": [
    "Evaluate the results by executing the quantum program on the default simulator:"
   ]
  },
  {
   "cell_type": "code",
   "execution_count": 3,
   "metadata": {},
   "outputs": [
    {
     "name": "stdout",
     "output_type": "stream",
     "text": [
      "{'0101010101': 2048}\n"
     ]
    }
   ],
   "source": [
    "results = execute(qprog).result_value()\n",
    "print(results.counts)"
   ]
  },
  {
   "cell_type": "markdown",
   "metadata": {},
   "source": [
    "<div  style=\"text-align:center;\">\n",
    "    <img src=\"https://docs.classiq.io/resources/class_var_and_ops.gif\n",
    "\">\n",
    "</div>"
   ]
  },
  {
   "cell_type": "markdown",
   "metadata": {},
   "source": [
    "The only measured bit string is $0101010101$, which in Classiq notation is read from right to left when interpreted. Hence, it corresponds to the $|1010101010\\rangle$ state, which is exactly the target state.\n",
    "\n",
    "---"
   ]
  },
  {
   "cell_type": "markdown",
   "metadata": {},
   "source": [
    "## State preparation: Slicing qubits"
   ]
  },
  {
   "cell_type": "markdown",
   "metadata": {},
   "source": [
    "In this example, the task is to prepare the $N$-qubit state $|00011111000\\dots\\rangle$, where the state $|1\\rangle$ is prepared in the qubits over the integer interval $(N/3, N/2)$. For this, it is possible to create a program that apply alternately the $X$ operation to the correct qubits. In this example, consider a total of $N=24$ qubits."
   ]
  },
  {
   "cell_type": "code",
   "execution_count": 4,
   "metadata": {},
   "outputs": [],
   "source": [
    "from classiq import *\n",
    "\n",
    "\n",
    "@qfunc(generative=True)\n",
    "def main(x: Output[QArray]):\n",
    "    allocate(24, x)\n",
    "    k = 0\n",
    "    for i in range(x.len // 3, x.len // 2):\n",
    "        X(x[i])"
   ]
  },
  {
   "cell_type": "code",
   "execution_count": 5,
   "metadata": {},
   "outputs": [
    {
     "name": "stdout",
     "output_type": "stream",
     "text": [
      "Opening: https://platform.classiq.io/circuit/2twkdAg5JeqQ3FAxQnFM9WYjK0I?version=0.70.0\n"
     ]
    }
   ],
   "source": [
    "qprog_2 = synthesize(main)\n",
    "show(qprog_2)"
   ]
  },
  {
   "cell_type": "markdown",
   "metadata": {},
   "source": [
    "## Summary - Classical Variables and Operations"
   ]
  },
  {
   "cell_type": "markdown",
   "metadata": {},
   "source": [
    "Key features of this tutorial:  \n",
    "\n",
    "- **Classical data types**: Data types `int`, `real`, and `bool` are denoted as `CInt`, `CReal`, and `CBool` in the Python SDK. Complex structures like arrays and `Struct`s (similar to Python dataclasses) are also supported.  \n",
    "- **Quantum control flow**: Qmod fully supports Python types such as `float`, `int` and `bool` variables within Qmod control flow, such as `repeat` and `if-for` statements.\n",
    "\n",
    "\n",
    "### Generative Functions in Qmod \n",
    "\n",
    "Generative functions are employed to enhance hybrid quantum-classical workflows by treating quantum objects into classical variables:  \n",
    "\n",
    "- **Dynamic iteration**: Using `range` and `for` loops integration with Qmod types, such as `len`.  \n",
    "- **Conditional operations**: Using `if` statements controlled by Qmod types."
   ]
  }
 ],
 "metadata": {
  "kernelspec": {
   "display_name": "Python 3 (ipykernel)",
   "language": "python",
   "name": "python3"
  },
  "language_info": {
   "codemirror_mode": {
    "name": "ipython",
    "version": 3
   },
   "file_extension": ".py",
   "mimetype": "text/x-python",
   "name": "python",
   "nbconvert_exporter": "python",
   "pygments_lexer": "ipython3",
   "version": "3.11.7"
  }
 },
 "nbformat": 4,
 "nbformat_minor": 4
}
