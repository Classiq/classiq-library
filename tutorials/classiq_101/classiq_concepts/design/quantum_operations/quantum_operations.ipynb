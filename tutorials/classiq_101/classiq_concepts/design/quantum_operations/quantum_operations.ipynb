{
 "cells": [
  {
   "cell_type": "markdown",
   "metadata": {},
   "source": [
    "# Design - Quantum Operations"
   ]
  },
  {
   "cell_type": "markdown",
   "metadata": {},
   "source": [
    "Quantum computing resembles classical computing in some aspects, and is substantially different in other aspects. One of the key advantages of Qmod is that it captures uniquely quantum core concepts in a simple and natural way. This begins with the quantum objects and variables described in the previous tutorial (see [Quantum Variables and Functions](../quantum_variables_and_functions/quantum_variables_and_functions.ipynb)) and continues with the meaningful native quantum operations.\n",
    "\n",
    "Simply put, quantum operations are functions of functions applied on quantum objects that are very common in quantum computing, hence receiving a special place in the Qmod language. More accurately, these are built-in statements in the Qmod language. A statement is a building block of a programming language, such that programming languages are composed from statements. For example, `if` and `for` loops are common statements in programming languages such as Python.\n",
    "\n",
    "There are a few quantum operation statements in Qmod, and here we focus on arguably the most useful one: `control`. It applies a specified quantum function conditioned on some state (value) of a given quantum variable. Other key quantum operations are `invert`, `power`, `within_apply` and `bind`. \n",
    "\n",
    "A list of all quantum operations can be [found here](https://docs.classiq.io/latest/qmod-reference/language-reference/statements/control/).\n",
    "\n",
    "Examine the `control` statement using a concrete example."
   ]
  },
  {
   "cell_type": "markdown",
   "metadata": {},
   "source": [
    "## Concrete Example"
   ]
  },
  {
   "cell_type": "markdown",
   "metadata": {},
   "source": [
    "The task is to prepare a quantum number `x` in a superposition of all possible integers between $0$ to $15$, i.e., $|x\\rangle = \\frac{1}{\\sqrt{16}}(|0\\rangle + |1\\rangle + \\dots + |15\\rangle)$. \n",
    "Then, prepare another quantum number `y` that is in the state $|17\\rangle$ only if $|x\\rangle$ is in the state $|15\\rangle$, otherwise the state of `y` should be $|0\\rangle$. Mathematically, the task is to prepare this state:\n",
    "$$\n",
    "|x\\rangle|y\\rangle = \\frac{1}{\\sqrt{16}}(|0\\rangle|0\\rangle+|1\\rangle|0\\rangle+\\dots+|14\\rangle|0\\rangle+|15\\rangle|17\\rangle)\n",
    "$$\n",
    "\n",
    "How to approach this task? You have already seen how to create a uniform superposition with the `hadamard_transform`. Now, conditioned on the value of $|x\\rangle$ being $|15\\rangle$, prepare the state of $|y\\rangle$ to be $|17\\rangle$ with the `inplace_xor` function."
   ]
  },
  {
   "cell_type": "markdown",
   "metadata": {},
   "source": [
    "<details markdown>\n",
    "<summary markdown> Numeric Assignment </summary>\n",
    "\n",
    "Numeric assignments provide simple operations (using Qmod and SDK) and functions (SDK only) for performing arithmetic and logical operations. The `inplace_xor` is a function that is equivalent to the `^=` operation. In the SDK, lambda (as a function rather than an operation).\n",
    "Read more [here](https://docs.classiq.io/latest/qmod-reference/language-reference/statements/numeric-assignment/).\n",
    "\n",
    "</details>"
   ]
  },
  {
   "cell_type": "code",
   "execution_count": 1,
   "metadata": {},
   "outputs": [],
   "source": [
    "from classiq import *\n",
    "\n",
    "\n",
    "@qfunc\n",
    "def apply_control(x: QNum, y: QNum):\n",
    "    control(ctrl=(x == 15), stmt_block=(lambda: inplace_xor(17, y)))"
   ]
  },
  {
   "cell_type": "markdown",
   "metadata": {},
   "source": [
    "In the Python syntax, `control` is a Python function with two arguments. The `ctrl` argument is the condition for which the `stmt_block` operand is applied. The `stmt_block` argument is the specific operation/function to apply, given that the condition is satisfied. Passing a function as an argument for another function is done with the `lambda:` keyword, used to define inline functions. **So, anytime you pass a function as an argument in the Python SDK, use the prefix `lambda:`** ([read more](https://docs.classiq.io/latest/qmod-reference/language-reference/operators/?h=lambda)).\n",
    "\n",
    "In the native syntax, `control` is embedded in the Qmod language such that the condition is specified with the `()` parentheses, and the operand to apply is specified within the scope of the `control`, i.e., within the `{}` curly brackets.\n",
    "\n",
    "Now for the `main` function. In the end, you want to evaluate the execution results of both `x` and `y` so both of them are arguments of the `main` function. Initialize `x` with $4$ qubits because it needs to be in a superposition of $16 (=2^4)$ states, and initialize `y` with $5$ qubits because this is the minimum number of qubits required to represent the number $17$ ($ceiling(log_2(17))=5$)."
   ]
  },
  {
   "cell_type": "code",
   "execution_count": 2,
   "metadata": {},
   "outputs": [],
   "source": [
    "@qfunc\n",
    "def main(x: Output[QNum], y: Output[QNum]):\n",
    "    allocate(4, x)\n",
    "    allocate(5, y)\n",
    "\n",
    "    hadamard_transform(x)\n",
    "    apply_control(x, y)"
   ]
  },
  {
   "cell_type": "markdown",
   "metadata": {},
   "source": [
    "Prepare the initial superposition by applying `hadamard_transform` on `x` and the `apply_control` function you defined earlier on both `x` and `y`.\n",
    "\n",
    "That's it! \n",
    "You can now synthesize and view the quantum program:"
   ]
  },
  {
   "cell_type": "code",
   "execution_count": 3,
   "metadata": {},
   "outputs": [
    {
     "name": "stdout",
     "output_type": "stream",
     "text": [
      "Opening: https://platform.classiq.io/circuit/2twkxu3W4stXDfK8Ojh1qMaufB4?version=0.70.0\n"
     ]
    }
   ],
   "source": [
    "qprog = synthesize(main)\n",
    "show(qprog)"
   ]
  },
  {
   "cell_type": "markdown",
   "metadata": {},
   "source": [
    "<div  style=\"text-align:center;\">\n",
    "    <img src=\"https://docs.classiq.io/resources/Design_operations_first.gif\n",
    "\">\n",
    "</div>"
   ]
  },
  {
   "cell_type": "markdown",
   "metadata": {},
   "source": [
    "To receive the execution results, execute the quantum program:"
   ]
  },
  {
   "cell_type": "code",
   "execution_count": 4,
   "metadata": {},
   "outputs": [
    {
     "name": "stdout",
     "output_type": "stream",
     "text": [
      "[{'x': 1, 'y': 0}: 157, {'x': 9, 'y': 0}: 137, {'x': 13, 'y': 0}: 137, {'x': 8, 'y': 0}: 136, {'x': 4, 'y': 0}: 136, {'x': 15, 'y': 17}: 135, {'x': 14, 'y': 0}: 133, {'x': 6, 'y': 0}: 131, {'x': 7, 'y': 0}: 131, {'x': 12, 'y': 0}: 130, {'x': 2, 'y': 0}: 130, {'x': 3, 'y': 0}: 125, {'x': 0, 'y': 0}: 114, {'x': 11, 'y': 0}: 111, {'x': 10, 'y': 0}: 108, {'x': 5, 'y': 0}: 97]\n"
     ]
    }
   ],
   "source": [
    "result = execute(qprog).result_value().parsed_counts\n",
    "print(result)"
   ]
  },
  {
   "cell_type": "markdown",
   "metadata": {},
   "source": [
    "<div  style=\"text-align:center;\">\n",
    "    <img src=\"https://docs.classiq.io/resources/Design_operation_second.gif\">\n",
    "</div>"
   ]
  },
  {
   "cell_type": "markdown",
   "metadata": {},
   "source": [
    "You may notice that you receive $16$ possible values for `x` and `y`, where $y=0$ for all the values of $x$ except when $x=15$, as defined!"
   ]
  },
  {
   "cell_type": "markdown",
   "metadata": {},
   "source": [
    "## Summary - Quantum Operations"
   ]
  },
  {
   "cell_type": "markdown",
   "metadata": {},
   "source": [
    "These are the main takeaways from the example in terms of quantum operations:\n",
    "\n",
    "* Quantum operations receive both quantum objects and quantum functions as inputs, and they apply the quantum functions on the quantum objects according to the nature of the quantum operation. In the above example, the `control` operation applies the `inplace_xor` function on the quantum variable `y` conditioned on the value of the quantum variable `x` being $15$.\n",
    "\n",
    "* In the native syntax, the quantum operations are statements of the Qmod language and have a special syntax. In the above example, the syntax for `control` is `control(){;}` where the condition is given in parentheses and the applied operation/function is in curly brackets.\n",
    "\n",
    "* In the Python SDK, write the quantum operations just like any other Python function. The arguments of the quantum operation that are functions by themselves must be passed with the `lambda:` keyword. In the above example, the `stmt_block` argument of the `control` function is a function by itself (`inplace_xor`), hence it is prefixed with `lambda:`.\n",
    "\n",
    "* Other quantum operations are `power` (raising a unitary to some power), `invert` (applying the inverse of a unitary), `within_apply` (applying two unitaries $U$ and $V$ as $UVU^\\dagger$) and `bind` (rewiring qubit(s) referenced by a source variable to a destination variable). For more information, see the detailed description of [each quantum operator](https://docs.classiq.io/latest/qmod-reference/language-reference/statements/power/).\n"
   ]
  },
  {
   "cell_type": "code",
   "execution_count": 5,
   "metadata": {},
   "outputs": [],
   "source": [
    "qmod = create_model(main, out_file=\"quantum_operations\")"
   ]
  }
 ],
 "metadata": {
  "kernelspec": {
   "display_name": "Python 3 (ipykernel)",
   "language": "python",
   "name": "python3"
  },
  "language_info": {
   "codemirror_mode": {
    "name": "ipython",
    "version": 3
   },
   "file_extension": ".py",
   "mimetype": "text/x-python",
   "name": "python",
   "nbconvert_exporter": "python",
   "pygments_lexer": "ipython3",
   "version": "3.11.7"
  },
  "vscode": {
   "interpreter": {
    "hash": "e992e515f6583afc67b46eeabcda0f30363069fab8b382c7517b274ba7a59477"
   }
  }
 },
 "nbformat": 4,
 "nbformat_minor": 4
}
