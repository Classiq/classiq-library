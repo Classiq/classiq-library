{
 "cells": [
  {
   "cell_type": "markdown",
   "metadata": {},
   "source": [
    "# Analyze - Classiq Visualization Tool"
   ]
  },
  {
   "cell_type": "markdown",
   "metadata": {},
   "source": [
    "Once you have designed the quantum algorithm and sythesized the quantum program, the next natural step is to analyze the quantum program to check if and how the underlying quantum circuit implements the desired quantum algorithm. The Classiq visualization tool explores the quantum circuit interactively on different level of functional hierarchies, and extracts crucial information about it.\n",
    "\n",
    "Ways to access the Classiq visualization tool:"
   ]
  },
  {
   "cell_type": "markdown",
   "metadata": {},
   "source": [
    "1. **From the IDE**, in the `Model` tab, click `Synthesize`:\n",
    "<div  style=\"text-align:center;\" >\n",
    "    <img src=\"https://docs.classiq.io/resources/optimize_default.png\" style=\"width:100%;\">\n",
    "</div>"
   ]
  },
  {
   "cell_type": "markdown",
   "metadata": {},
   "source": [
    "2. **From the Python SDK**, by running the `show(quantum_program)` command:"
   ]
  },
  {
   "cell_type": "code",
   "execution_count": 1,
   "metadata": {
    "execution": {
     "iopub.execute_input": "2024-05-07T13:27:47.538205Z",
     "iopub.status.busy": "2024-05-07T13:27:47.536941Z",
     "iopub.status.idle": "2024-05-07T13:27:52.778917Z",
     "shell.execute_reply": "2024-05-07T13:27:52.778255Z"
    }
   },
   "outputs": [
    {
     "name": "stdout",
     "output_type": "stream",
     "text": [
      "Opening: https://platform.classiq.io/circuit/f729dc29-9aa2-49f6-907f-c284445c4dc8?version=0.41.0.dev39%2B79c8fd0855\n"
     ]
    }
   ],
   "source": [
    "from classiq import *\n",
    "\n",
    "\n",
    "@qfunc\n",
    "def main(x: Output[QNum], y: Output[QNum]):\n",
    "\n",
    "    allocate(4, x)\n",
    "    hadamard_transform(x)  # creates a uniform superposition\n",
    "    y |= x**2 + 1\n",
    "\n",
    "\n",
    "quantum_program = synthesize(create_model(main))\n",
    "show(quantum_program)"
   ]
  },
  {
   "cell_type": "markdown",
   "metadata": {},
   "source": [
    "3. **By directly uploading a circuit or quantum program to the IDE**:\n",
    "<div  style=\"text-align:center;\" >\n",
    "    <img src=\"https://docs.classiq.io/resources/analyze_upload.gif\" style=\"width:100%;\">\n",
    "</div>"
   ]
  },
  {
   "cell_type": "markdown",
   "metadata": {},
   "source": [
    "Below covers key aspects of the visualization tool. For a full list of the features and possibilities of the tool, access the reference manual."
   ]
  },
  {
   "cell_type": "markdown",
   "metadata": {},
   "source": [
    "## Navigating"
   ]
  },
  {
   "cell_type": "markdown",
   "metadata": {
    "collapsed": false
   },
   "source": [
    "The high-level functional design approach of Classiq enables analyzing quantum circuits on different levels of functionality. You can view your circuit only on the functional building block level, e.g., `hadamard_transform` and `Arithmetic` in the example below, or you can zoom in to the actual gate-level implementations:\n",
    "<div  style=\"text-align:center;\" >\n",
    "    <img src=\"https://docs.classiq.io/resources/analyze_buttons.gif\" style=\"width:100%;\">\n",
    "</div>\n",
    "\n",
    "In addition to the plus and minus buttons, you can also use the navigation map button to navigate through your circuit:\n",
    "<div  style=\"text-align:center;\" >\n",
    "    <img src=\"https://docs.classiq.io/resources/analyze_navigation_map.gif\" style=\"width:100%;\">\n",
    "</div>\n",
    "This is especially helpful for large circuits.\n"
   ]
  },
  {
   "cell_type": "markdown",
   "metadata": {},
   "source": [
    "## Quantum Program Information "
   ]
  },
  {
   "cell_type": "markdown",
   "metadata": {},
   "source": [
    "On the left of the visualization tool is information about the quantum program such as the circuit depth, circuit width, and gate count. As shown in the picture below, it is divided into information about the quantum program and the transpiled quantum circuit:\n",
    "<div  style=\"text-align:center;\" >\n",
    "    <img src=\"https://docs.classiq.io/resources/analyze_program_info.png\" style=\"width:100%;\">\n",
    "</div>\n",
    "\n",
    "The quantum program is the output of the synthesis engine and it contains the circuit implementation **that preserves the functional logic of your algorithm**. This information correlates to the circuit shown in the center of the window. For the example covered in this tutorial, the final functional building block in the `Power` block and the first functional building block in the `Adder` block should cancel each other out, because applying them consecutively is equivalent to not applying them at all (these blocks are the quantum Fourier transform and its inverse):\n",
    "<div  style=\"text-align:center;\" >\n",
    "    <img src=\"https://docs.classiq.io/resources/analyze_program_info_transpilation.png\" style=\"width:100%;\">\n",
    "</div>\n"
   ]
  },
  {
   "cell_type": "markdown",
   "metadata": {
    "collapsed": false
   },
   "source": [
    "On the other hand, **the transpiled circuit is the circuit that is sent for execution**, which is further optimized by eliminating functional blocks that have no influence on the circuit such as the two blocks that cancel each other. The transpiled circuit contains only the set of gates defined by the optimization preferences. View the transpiled circuit by downloading it `as Transpiled QASM` and uploading it to the visualization tool:\n",
    "<div  style=\"text-align:center;\" >\n",
    "    <img src=\"https://docs.classiq.io/resources/analyze_transpiled_view.png\" style=\"width:100%;\">\n",
    "</div>"
   ]
  },
  {
   "cell_type": "markdown",
   "metadata": {
    "collapsed": false
   },
   "source": [
    "Download the quantum program in your selected format (QASM, JPEG, JSON, LaTeX code, etc.) by clicking the download button as illustrated in the image above."
   ]
  },
  {
   "cell_type": "markdown",
   "metadata": {},
   "source": [
    "## Adapting Names"
   ]
  },
  {
   "cell_type": "markdown",
   "metadata": {},
   "source": [
    "To keep track of your quantum circuits while you are working, rename them with meaningful names by double clicking the circuit tab, typing the new name, and confirming your choice.\n",
    "<div  style=\"text-align:center;\" >\n",
    "    <img src=\"https://docs.classiq.io/resources/analyze_renaming.png\" style=\"width:100%;\">\n",
    "</div>\n",
    "\n",
    "You can rename the blocks in the circuit by double clicking them and typing new names."
   ]
  },
  {
   "cell_type": "markdown",
   "metadata": {},
   "source": [
    "After analyzing the quantum circuit, you can adapt the model or execute the circuit on a simulator or real hardware. Continue to the Execute section to understand how to do that.\n"
   ]
  },
  {
   "cell_type": "markdown",
   "metadata": {},
   "source": [
    "## Verify Your Understanding - Recommended Exercise"
   ]
  },
  {
   "cell_type": "markdown",
   "metadata": {},
   "source": [
    "Open the above example in the IDE and from the Quantum Program tab, export the circuit as a LaTeX file. View it in a LaTeX Editor (it is recommended to use [Overleaf](https://www.overleaf.com/) -  a free, easy to use online LaTeX editor)."
   ]
  },
  {
   "cell_type": "code",
   "execution_count": null,
   "metadata": {},
   "outputs": [],
   "source": [
    "write_qmod(create_model(main), \"analyze\")"
   ]
  }
 ],
 "metadata": {
  "kernelspec": {
   "display_name": "Python 3.11.7 ('classiq')",
   "language": "python",
   "name": "python3"
  },
  "language_info": {
   "codemirror_mode": {
    "name": "ipython",
    "version": 3
   },
   "file_extension": ".py",
   "mimetype": "text/x-python",
   "name": "python",
   "nbconvert_exporter": "python",
   "pygments_lexer": "ipython3",
   "version": "3.11.7"
  },
  "vscode": {
   "interpreter": {
    "hash": "529b62266d4f537a408698cf820854c65fe877011c7661f0f70aa11c4383fddc"
   }
  }
 },
 "nbformat": 4,
 "nbformat_minor": 2
}
