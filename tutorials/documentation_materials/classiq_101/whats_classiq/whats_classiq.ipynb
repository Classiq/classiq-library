{
 "cells": [
  {
   "cell_type": "markdown",
   "metadata": {},
   "source": [
    "# What's Classiq?"
   ]
  },
  {
   "cell_type": "markdown",
   "metadata": {},
   "source": [
    "Your entry-point for creating & running quantum programs.\n",
    "\n",
    "Classiq allows you to [design](#design), [optimize](#optimization), [analyze](#analysis), and [execute](#execution) any quantum program. The platform is suited for quantum experts allowing flexible design and deep optimization of quantum programs. It is also a great way to learn quantum computing, with a [Library](https://github.com/Classiq/classiq-library) of algorithms and applications, and intuitive visualization.\n",
    "\n",
    "Classiq has two interfaces:"
   ]
  },
  {
   "cell_type": "markdown",
   "metadata": {},
   "source": [
    "1.Web-based IDE at [platform.classiq.io](https://platform.classiq.io)\n",
    "\n",
    "<img src=\"https://docs.classiq.io/resources/whats_classiq_platform.png\" style=\"width:100%\"/>"
   ]
  },
  {
   "cell_type": "markdown",
   "metadata": {},
   "source": [
    "2.Python SDK\n",
    "\n",
    "Quick installation via the command line:\n",
    "\n",
    "```bash\n",
    "pip install classiq\n",
    "```\n",
    "\n",
    "And authentication within Python:\n",
    "\n",
    "```Python\n",
    "import classiq\n",
    "classiq.authenticate()\n",
    "```"
   ]
  },
  {
   "cell_type": "markdown",
   "metadata": {},
   "source": [
    "You can transition directly between the two interfaces at any stage of the development. This allows you to do (almost) everything in the IDE or (almost) everything in the SDK, and combine and interchange between the two.\n",
    "\n",
    "Here is a high-level breakdown of the steps:\n",
    "\n",
    "1. [**Design**](#design) - write your quantum algorithm using Classiq's QMOD language. Qmod is built for describing quantum programs without pre determining the implementation details. It is intuitive and powerful.\n",
    "2. [**Optimize**](#optimization) - Send your algorithm to Classiq's synthesis engine (compiler) that comes up with the optimal quantum program for your algorithm, according to the constraints and preferences you apply.\n",
    "3. [**Analyze**](#analysis) the quantum program with the Classiq's visualizer tool in order to view the circuit level implementation of your algorithm.\n",
    "4. [**Execute**](#execution) it on Classiq's simulators or on any quantum computer and simulators available via the cloud.\n",
    "\n",
    "<img src=\"https://docs.classiq.io/resources/whats_classiq_platform_video.gif\" style=\"width:100%\"/>\n"
   ]
  },
  {
   "cell_type": "markdown",
   "metadata": {},
   "source": [
    "## Design\n",
    "\n",
    "As developers, we are interested in the functionality of the quantum program. Classiq's Qmod language is designed to allow a full description of the program functionality, without determinting the implemtation details. This allows for a more flexible and powerful description of the quantum program, and later enables optimizing the program implementaion (see [optimization](#optimization))\n",
    "\n",
    "Classiq introduces a native quantum programming language, `Qmod`, that naturally captures the core concepts of quantum algorithms. There are two ways to design in `Qmod`:\n",
    "\n",
    "- Directly, via the Classiq IDE using the Qmod native syntax\n",
    "\n",
    "<img src=\"https://docs.classiq.io/resources/deutch_josza_example.png\" style=\"width:100%\"/>\n",
    "\n",
    "- With the Classiq Python SDK package that gives access to the Qmod language via Python"
   ]
  },
  {
   "cell_type": "code",
   "execution_count": 1,
   "metadata": {},
   "outputs": [],
   "source": [
    "# Deutsch-Jozsa Algorithm\n",
    "from classiq import *\n",
    "\n",
    "\n",
    "@qfunc\n",
    "def constant_function(x: QNum, res: QBit):\n",
    "    res ^= x < (2**x.size)\n",
    "\n",
    "\n",
    "@qfunc\n",
    "def prepare_minus(out: Output[QBit]):\n",
    "    allocate(1, out)\n",
    "    X(out)\n",
    "    H(out)\n",
    "\n",
    "\n",
    "@qfunc\n",
    "def apply_oracle(x: QNum):\n",
    "    aux = QBit(\"aux\")\n",
    "    within_apply(\n",
    "        within=lambda: prepare_minus(aux), apply=lambda: constant_function(x, aux)\n",
    "    )\n",
    "\n",
    "\n",
    "@qfunc\n",
    "def main(x: Output[QNum]):\n",
    "    allocate(4, x)\n",
    "    hadamard_transform(x)\n",
    "    apply_oracle(x)\n",
    "    hadamard_transform(x)\n",
    "\n",
    "\n",
    "quantum_model = create_model(main)"
   ]
  },
  {
   "cell_type": "markdown",
   "metadata": {},
   "source": [
    "## Optimization\n",
    "\n",
    "Describing the program functionality without specifing the implementation is the only way forward. Most quantum algorithms and functional building blocks can be implemented in many ways, and a full program can be implemeted in countless possibilities. Some circuits have more auxiliary qubits that result in shorter circuit depth, others have a minimal number of qubits but longer circuits, some have all the qubits connected to each other, and others have limited connectivity. Implementation decisions are interconnected and must be managed globally.\n",
    "\n",
    "As developers, you want optimal implementation for your algorithms according to your definitions. The Classiq synthesis engine enables exactly this. You design your algorithm in Qmod and then you synthesize (compile) it with your constraints and preferences. Classiq's technology will output the best solution available."
   ]
  },
  {
   "cell_type": "code",
   "execution_count": 2,
   "metadata": {},
   "outputs": [],
   "source": [
    "quantum_program = synthesize(quantum_model)"
   ]
  },
  {
   "cell_type": "markdown",
   "metadata": {},
   "source": [
    "<img src=\"https://docs.classiq.io/resources/whats_classiq_optimization2.gif\" style=\"width:100%\"/>"
   ]
  },
  {
   "cell_type": "markdown",
   "metadata": {},
   "source": [
    "## Analysis\n",
    "\n",
    "Once a quantum program is created, no doubt you would like to analyze the result. Your questions could take different forms and levels of hierarchies.\n",
    "\n",
    "- Are the blocks connected in the right way?\n",
    "- Are the auxiliary qubits reused as desired?\n",
    "- What is the gate level implementation?\n",
    "\n",
    "  The Classiq visualization tool allows explore these questions and is enabled by the high-level functional design of the quantum algorithm. You can access the tool directly in the IDE using the Quantum Program tab, or in the Python SDK using the `show(quantum_program)` command:"
   ]
  },
  {
   "cell_type": "code",
   "execution_count": 3,
   "metadata": {},
   "outputs": [
    {
     "name": "stdout",
     "output_type": "stream",
     "text": [
      "Opening: https://platform.classiq.io/circuit/d8b09e26-17eb-4a4f-9bba-1390df4a8026?version=0.42.1\n"
     ]
    }
   ],
   "source": [
    "show(quantum_program)"
   ]
  },
  {
   "cell_type": "markdown",
   "metadata": {},
   "source": [
    "<img src=\"https://docs.classiq.io/resources/whats_classiq_analysis_ide.gif\" style=\"width:100%\"/>"
   ]
  },
  {
   "cell_type": "markdown",
   "metadata": {},
   "source": [
    "## Execution\n",
    "\n",
    "The final step of the quantum algorithm flow is running it to receive the results and then post-process them. There are two possibilities for quantum computing execution nowadays: on real quantum computers (QPU's) and on simulators (classical computers that simulate small quantum computers). With Classiq you can access both!\n",
    "Several simulators are available for free with Classiq, and there is straightforward access to the majority of quantum processors and simulators available via the cloud through all major cloud providers such as IBM Quantum, Amazon Braket, and Azure Quantum.\n",
    "You can send for execution directly in the IDE or via the SDK. In both cases, you can access all your jobs in the IDE Jobs tab."
   ]
  },
  {
   "cell_type": "code",
   "execution_count": 4,
   "metadata": {},
   "outputs": [
    {
     "data": {
      "text/plain": [
       "ExecutionJob(id='ac0c5cd7-e0a2-4a36-891f-7121ad3b5a44')"
      ]
     },
     "execution_count": 4,
     "metadata": {},
     "output_type": "execute_result"
    }
   ],
   "source": [
    "execute(quantum_program)"
   ]
  },
  {
   "cell_type": "markdown",
   "metadata": {},
   "source": [
    "<img src=\"https://docs.classiq.io/resources/whats_classiq_execution2.gif\" style=\"width:100%\"/>"
   ]
  },
  {
   "cell_type": "markdown",
   "metadata": {},
   "source": [
    "## Getting Started\n",
    "\n",
    "- Continue on to [Classiq 101](https://docs.classiq.io/latest/classiq_101/)!\n",
    "- A comprehensive [Library](https://github.com/Classiq/classiq-library) of examples, built with Classiq.\n",
    "- Become part of the vibrant Classiq community by joining the [Classiq Community Slack](https://short.classiq.io/join-slack)."
   ]
  },
  {
   "cell_type": "code",
   "execution_count": 5,
   "metadata": {},
   "outputs": [],
   "source": [
    "write_qmod(quantum_model, \"whats_classiq\")"
   ]
  }
 ],
 "metadata": {
  "kernelspec": {
   "display_name": "Python 3.11.7 ('classiq_devolpment')",
   "language": "python",
   "name": "python3"
  },
  "language_info": {
   "codemirror_mode": {
    "name": "ipython",
    "version": 3
   },
   "file_extension": ".py",
   "mimetype": "text/x-python",
   "name": "python",
   "nbconvert_exporter": "python",
   "pygments_lexer": "ipython3",
   "version": "3.11.7"
  },
  "orig_nbformat": 4,
  "vscode": {
   "interpreter": {
    "hash": "e992e515f6583afc67b46eeabcda0f30363069fab8b382c7517b274ba7a59477"
   }
  }
 },
 "nbformat": 4,
 "nbformat_minor": 2
}
