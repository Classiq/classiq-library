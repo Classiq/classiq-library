{
 "cells": [
  {
   "cell_type": "markdown",
   "id": "f45301cf-a6c2-4710-99de-8ecacf18909b",
   "metadata": {},
   "source": [
    "# Advanced Execution with Classiq"
   ]
  },
  {
   "cell_type": "markdown",
   "id": "b395f02f-6d98-4547-b423-48c73ffa2948",
   "metadata": {},
   "source": [
    "This tutorial introduces the `ExecutionSession` class, which simplifies running a quantum program with two dynamically adjustable parameters. It eliminates the need to resynthesize the quantum model, thereby streamlining the workflow in the SDK.\n",
    "\n",
    "**Operations:**\n",
    "\n",
    "- Sample - Performs projective quantum state measurement for given parameter values.\n",
    "- Estimate - Calculates a specified operator's expectation value and variance for the quantum state based on the quantum program.\n",
    "\n",
    "Both operations support these modes:\n",
    "\n",
    "- Single parameter set or batch mode - Executes with a single set of parameters or multiple sets in one execution.\n",
    "- Submit mode (with/without) - Enables job submission with an ID number to retrieve the job later. Useful for long executions or executions involving waiting lists (typically on hardware).\n",
    "\n",
    "This tutorial is specifically designed for SDK users."
   ]
  },
  {
   "cell_type": "markdown",
   "id": "58943682-1451-49ac-8515-5f275dd9f21c",
   "metadata": {},
   "source": [
    "## Sample"
   ]
  },
  {
   "cell_type": "markdown",
   "id": "4915acf9-c3a8-4bbe-a417-e2cdebb242d0",
   "metadata": {},
   "source": [
    "Start with simple a example, preparing a state in the $|+\\rangle$ by applying `H` gate on an initialized qubit."
   ]
  },
  {
   "cell_type": "code",
   "execution_count": 1,
   "id": "22caeecc-3024-43a9-ba8d-e0d8e7ed2593",
   "metadata": {},
   "outputs": [],
   "source": [
    "from classiq import *\n",
    "from classiq.execution import ExecutionSession\n",
    "\n",
    "\n",
    "@qfunc\n",
    "def main(x: Output[QBit], t: CReal):\n",
    "    allocate(1, x)\n",
    "    H(x)"
   ]
  },
  {
   "cell_type": "markdown",
   "id": "e73a6a07-1c6b-436d-abbc-09e1e699494f",
   "metadata": {},
   "source": [
    "After you creat a quantum model and synthesize it, the next step is to define an `ExecutionSession` of the quantum program, a reusable object that allows you to re-execute without resynthesizing."
   ]
  },
  {
   "cell_type": "code",
   "execution_count": 2,
   "id": "5889d6ca-35be-4d62-a3fe-5ba30eb6fd7a",
   "metadata": {},
   "outputs": [],
   "source": [
    "qmod = create_model(main)\n",
    "qprog_non_parametric = synthesize(qmod)\n",
    "\n",
    "execution_session_non_parametric = ExecutionSession(qprog_non_parametric)"
   ]
  },
  {
   "cell_type": "markdown",
   "id": "dc941f05-f4e4-4063-b8e7-427f9f19bb00",
   "metadata": {},
   "source": [
    "Apply `sample` to measure the qubit:"
   ]
  },
  {
   "cell_type": "code",
   "execution_count": 3,
   "id": "8bc063ae-1fe3-451c-ae3c-156b3ad44976",
   "metadata": {},
   "outputs": [],
   "source": [
    "res = execution_session_non_parametric.sample()"
   ]
  },
  {
   "cell_type": "markdown",
   "id": "affb8fca-dd53-44a6-8333-6ec3ecd763bc",
   "metadata": {},
   "source": [
    "Now, `res` contains information about the execution, such as `parsed_counts`, `num_shots`, and other execution parameters. You can be set some of these using `ExecutionPreferences`, and others are result-related."
   ]
  },
  {
   "cell_type": "code",
   "execution_count": 4,
   "id": "7484fd95-512d-4212-b44f-3002eb0924ad",
   "metadata": {},
   "outputs": [
    {
     "name": "stdout",
     "output_type": "stream",
     "text": [
      "vendor_format_result={} counts={'1': 1038, '0': 1010} counts_lsb_right=True probabilities={} parsed_states={'1': {'x': 1}, '0': {'x': 0}} histogram=None output_qubits_map={'x': (0,)} state_vector=None parsed_state_vector_states=None physical_qubits_map={'x': (0,)} num_shots=2048\n"
     ]
    }
   ],
   "source": [
    "print(res)"
   ]
  },
  {
   "cell_type": "markdown",
   "id": "483a934a-adde-4886-85da-da3ddaabba98",
   "metadata": {},
   "source": [
    "Usually, the most interesting one is the `parsed_counts` parameter:"
   ]
  },
  {
   "cell_type": "code",
   "execution_count": 5,
   "id": "aabb9371-b236-4acf-b489-17881efa7361",
   "metadata": {},
   "outputs": [
    {
     "data": {
      "text/plain": [
       "[{'x': 1}: 1038, {'x': 0}: 1010]"
      ]
     },
     "execution_count": 5,
     "metadata": {},
     "output_type": "execute_result"
    }
   ],
   "source": [
    "res.parsed_counts"
   ]
  },
  {
   "cell_type": "markdown",
   "id": "25306c48-5ea9-4f59-9efd-2aaa23bf2b72",
   "metadata": {},
   "source": [
    "Since you started from the plus state, $|+\\rangle = \\frac{|0\\rangle + |1\\rangle}{\\sqrt{2}}$, it is not surprising that the result is approximately half of the counts for each of the computational basis unit vectors."
   ]
  },
  {
   "cell_type": "markdown",
   "id": "0db6c8ec-8c2d-4946-9c9f-f6be4c3b37d4",
   "metadata": {},
   "source": [
    "## Batch Sample"
   ]
  },
  {
   "cell_type": "markdown",
   "id": "45ba7f46-329a-47fb-9306-6b916011afad",
   "metadata": {},
   "source": [
    "When handling **parametric circuits**, using `ExecutionSession` is especially handy. \\\n",
    "Define a new `ExecutionSession`for a simple parametric circuit:"
   ]
  },
  {
   "cell_type": "code",
   "execution_count": 6,
   "id": "7659c6ea-3d87-4c2f-baee-f5de2ebafff5",
   "metadata": {},
   "outputs": [],
   "source": [
    "@qfunc\n",
    "def main(x: Output[QBit], t: CReal, w: CReal):\n",
    "    allocate(1, x)\n",
    "    RX(t, x)\n",
    "    RZ(w, x)\n",
    "\n",
    "\n",
    "qmod = create_model(main)\n",
    "qprog = synthesize(qmod)\n",
    "\n",
    "execution_session = ExecutionSession(qprog)"
   ]
  },
  {
   "cell_type": "markdown",
   "id": "675435a5-17ea-4ba6-8d4a-43b86f414acb",
   "metadata": {},
   "source": [
    "Use `sample` with a set of parameters:"
   ]
  },
  {
   "cell_type": "code",
   "execution_count": 7,
   "id": "3adb444b-52de-437a-8b79-c54186015576",
   "metadata": {},
   "outputs": [],
   "source": [
    "sample_result = execution_session.sample({\"t\": 0.5, \"w\": 0.7})"
   ]
  },
  {
   "cell_type": "code",
   "execution_count": 8,
   "id": "9c5d5201-4e56-45f5-bac3-55fbb603cfcd",
   "metadata": {},
   "outputs": [
    {
     "name": "stdout",
     "output_type": "stream",
     "text": [
      "[{'x': 0}: 1924, {'x': 1}: 124]\n"
     ]
    }
   ],
   "source": [
    "print(sample_result.parsed_counts)"
   ]
  },
  {
   "cell_type": "markdown",
   "id": "62a14d31-f7a4-437c-b3d5-10a614b1da99",
   "metadata": {},
   "source": [
    "If you have multiple values for each of the parameters, `batch_sample`:"
   ]
  },
  {
   "cell_type": "code",
   "execution_count": 9,
   "id": "e3dbfede-3324-414d-ae34-ea6943d934b9",
   "metadata": {},
   "outputs": [],
   "source": [
    "from numpy import pi\n",
    "\n",
    "batch_sample_result = execution_session.batch_sample(\n",
    "    [{\"t\": 0.5 * pi, \"w\": pi}, {\"t\": pi, \"w\": 0.5 * pi}]\n",
    ")"
   ]
  },
  {
   "cell_type": "markdown",
   "id": "905ede13-86d8-4ba4-8962-4ea8afb160b9",
   "metadata": {},
   "source": [
    "Access the `parsed_counts` of each set of values:"
   ]
  },
  {
   "cell_type": "code",
   "execution_count": 10,
   "id": "00cc4c8d-ef4b-4d84-ada2-725254298465",
   "metadata": {},
   "outputs": [
    {
     "name": "stdout",
     "output_type": "stream",
     "text": [
      "[{'x': 0}: 1037, {'x': 1}: 1011]\n",
      "[{'x': 1}: 2048]\n"
     ]
    }
   ],
   "source": [
    "for item in batch_sample_result:\n",
    "    print(item.parsed_counts)"
   ]
  },
  {
   "cell_type": "markdown",
   "id": "fcfcf3c4-65bb-4679-8ad3-8aa2308efe40",
   "metadata": {},
   "source": [
    "Now, assuming the execution is set to run on specific hardware in advance using `ExecutionPreferences`, the executed job might wait in line for execution depending on the load on the specific hardware. \\\n",
    "In this case, you can retrieve the job via its job `id` using `submit_sample` (a single set of parameters) or `submit_batch_sample` (a multiple set of parameters)."
   ]
  },
  {
   "cell_type": "markdown",
   "id": "fc311b83-3ec6-4ef4-88e8-231054dcd957",
   "metadata": {},
   "source": [
    "<details> \n",
    "<summary>Note on `execute()`</summary>\n",
    "\n",
    "The [`execute()`](https://docs.classiq.io/latest/classiq_101/classiq_concepts/execute/) function, which is used on the last page, is actually a shortcut equivalent to:\n",
    "\n",
    "```python\n",
    "execution_session.submit_sample()\n",
    "```\n",
    "</details> "
   ]
  },
  {
   "cell_type": "code",
   "execution_count": 11,
   "id": "d21b0af6-962c-477b-9476-c9e3aa6687f3",
   "metadata": {},
   "outputs": [],
   "source": [
    "batch_sample_job = execution_session.submit_batch_sample(\n",
    "    [{\"t\": 0.5 * pi, \"w\": pi}, {\"t\": pi, \"w\": 0.5 * pi}]\n",
    ")"
   ]
  },
  {
   "cell_type": "code",
   "execution_count": 12,
   "id": "bccc3643-369c-4d43-964b-1e16a7099611",
   "metadata": {},
   "outputs": [
    {
     "name": "stdout",
     "output_type": "stream",
     "text": [
      "7cc9418d-b97b-4128-b5f0-5499d086a1cd\n"
     ]
    }
   ],
   "source": [
    "job_id = batch_sample_job.id\n",
    "print(job_id)"
   ]
  },
  {
   "cell_type": "markdown",
   "id": "5a0846ff-fce4-417a-8e08-ffd168c64e72",
   "metadata": {},
   "source": [
    "Retain the job `id` string. This allows you to retrieve execution results even if you close your Python environment. This feature is useful when running on real QPUs or emulating large quantum programs, where execution may involve long wait times or interruptions."
   ]
  },
  {
   "cell_type": "code",
   "execution_count": 13,
   "id": "7adf4c8b-33a2-4061-be59-7ac89d4c17fe",
   "metadata": {},
   "outputs": [
    {
     "name": "stdout",
     "output_type": "stream",
     "text": [
      "[ExecutionDetails(vendor_format_result={}, counts={'1': 1052, '0': 996}, counts_lsb_right=True, probabilities={}, parsed_states={'1': {'x': 1}, '0': {'x': 0}}, histogram=None, output_qubits_map={'x': (0,)}, state_vector=None, parsed_state_vector_states=None, physical_qubits_map={'x': (0,)}, num_shots=2048), ExecutionDetails(vendor_format_result={}, counts={'1': 2048}, counts_lsb_right=True, probabilities={}, parsed_states={'1': {'x': 1}}, histogram=None, output_qubits_map={'x': (0,)}, state_vector=None, parsed_state_vector_states=None, physical_qubits_map={'x': (0,)}, num_shots=2048)]\n"
     ]
    }
   ],
   "source": [
    "from classiq.execution import ExecutionJob\n",
    "\n",
    "retrieved_job = ExecutionJob.from_id(job_id)\n",
    "print(retrieved_job.get_batch_sample_result())"
   ]
  },
  {
   "cell_type": "markdown",
   "id": "bfc5f365-4bdc-4de3-b9cb-f04e3375de13",
   "metadata": {},
   "source": [
    "Or specifcally the `parsed_counts`:"
   ]
  },
  {
   "cell_type": "code",
   "execution_count": 14,
   "id": "72c7aa44-b2a4-4e41-b37c-21db95e60c03",
   "metadata": {},
   "outputs": [
    {
     "name": "stdout",
     "output_type": "stream",
     "text": [
      "[{'x': 1}: 1052, {'x': 0}: 996]\n",
      "[{'x': 1}: 2048]\n"
     ]
    }
   ],
   "source": [
    "for item in retrieved_job.get_batch_sample_result():\n",
    "    print(item.parsed_counts)"
   ]
  },
  {
   "cell_type": "markdown",
   "id": "5a0af12e-06f0-4870-9f08-d92eab246e70",
   "metadata": {},
   "source": [
    "<details>\n",
    "<summary>Note on Non-Commutative Rotations</summary>\n",
    "\n",
    "In quantum mechanics, rotations applied to qubits generally **do not commute**, meaning the order of rotations like `RX` and `RZ` affects the qubit's final state.\n",
    "\n",
    "**Why Different Results?**\n",
    "\n",
    "Applying `RX(0.5 * π)` then `RZ(π)` yields a different result than `RX(π)` followed by `RZ(0.5 * π)`. This is due to the non-commutative nature of rotations around different axes:\n",
    "$$\n",
    "RX(\\theta_1) \\cdot RZ(\\theta_2) \\neq RZ(\\theta_2) \\cdot RX(\\theta_1)\n",
    "$$\n",
    "Rotations around the X-axis (`RX`) and Z-axis (`RZ`) move the qubit to different points on the Bloch sphere, so changing the rotation order changes the final state and measurement outcomes.\n",
    "\n",
    "This non-commutativity in rotations leads to different measurement distributions in our batch sampling.\n",
    "\n",
    "</details>"
   ]
  },
  {
   "cell_type": "markdown",
   "id": "cc4e4eb7-2c0d-49ba-9114-ed5335a3f882",
   "metadata": {},
   "source": [
    "The same concepts apply to estimate, which calculates the expectation value of an operator for a given quantum state, represented by the quantum program. This can be performed for a specific operator, either as a single job or in batch mode, with or without using submit."
   ]
  },
  {
   "cell_type": "code",
   "execution_count": 15,
   "id": "a59e2003-bfbe-42f7-8b19-5ac9271227c2",
   "metadata": {},
   "outputs": [],
   "source": [
    "write_qmod(qmod, \"advanced_execution_user_guide\")"
   ]
  },
  {
   "cell_type": "markdown",
   "id": "cdb3c21a-490f-4c52-a2da-59fa01886f0d",
   "metadata": {},
   "source": [
    "## Estimate"
   ]
  },
  {
   "cell_type": "markdown",
   "id": "4c96f5f1-de9f-49ea-83c0-5ef171ca01f4",
   "metadata": {},
   "source": [
    "The `estimate()` operation calculates the expectation value:\n",
    "\n",
    "$$\n",
    "\\langle \\psi | H | \\psi \\rangle\n",
    "$$\n",
    "\n",
    "where $|\\psi\\rangle$ is the quantum state the quantum program represents, and $H$ is the Hamiltonian— the operator whose expectation value is being determined."
   ]
  },
  {
   "cell_type": "markdown",
   "id": "136fc706-c9b4-4400-b6bb-8c4150a9b4d5",
   "metadata": {},
   "source": [
    "<details>\n",
    "<summary>Expectation Value - Mathematical Elaboration</summary>\n",
    "\n",
    "\\\n",
    "In the general case:\n",
    "\n",
    "$$\n",
    "|\\psi\\rangle = \\sum_{i=1}^N \\alpha_i |i\\rangle,\n",
    "$$\n",
    "\n",
    "where $|i\\rangle$ are the basis states (typically computational basis states) and $\\alpha_i$ are the complex coefficients satisfying the normalization condition $\\sum_{i=1}^N |\\alpha_i|^2 = 1$.\n",
    "\n",
    "The expectation value of the Hamiltonian $H$ is calculated as:\n",
    "\n",
    "$$\n",
    "\\langle \\psi | H | \\psi \\rangle = \\left( \\sum_{i=1}^N \\alpha_i^* \\langle i | \\right) H \\left( \\sum_{j=1}^N \\alpha_j |j\\rangle \\right),\n",
    "$$\n",
    "\n",
    "where $\\alpha_i^*$ is the complex conjugate of $\\alpha_i$. Expanding this expression gives:\n",
    "\n",
    "$$\n",
    "\\langle \\psi | H | \\psi \\rangle = \\sum_{i=1}^N \\sum_{j=1}^N \\alpha_i^* \\alpha_j \\langle i | H | j \\rangle.\n",
    "$$\n",
    "\n",
    "Here, $\\langle i | H | j \\rangle$ represents the matrix elements of the Hamiltonian in the chosen basis. \n",
    "\n",
    "\\\n",
    "In quantum computing, the Hamiltonian $H$ is often expressed as a linear combination of Pauli operators:\n",
    "\n",
    "$$\n",
    "H = \\sum_k c_k P_k,\n",
    "$$\n",
    "\n",
    "where $c_k$ are real coefficients, and $P_k$ are Pauli operators (e.g., $I$, $X$, $Y$, $Z$, or tensor products of these). The expectation value becomes:\n",
    "\n",
    "$$\n",
    "\\langle \\psi | H | \\psi \\rangle = \\sum_k c_k \\langle \\psi | P_k | \\psi \\rangle.\n",
    "$$\n",
    "\n",
    "Each term $\\langle \\psi | P_k | \\psi \\rangle$ corresponds to the expectation value of a Pauli operator $P_k$, which can be obtained by measuring the state $|\\psi\\rangle$ in the basis of $P_k$. \n",
    "\n",
    "\\\n",
    "**Non-Commutativity of Paulis:**  \n",
    "If the Pauli operators $P_k$ do not commute, separate measurements are required for each $P_k$. This is because measurement in one basis collapses the quantum state, preventing subsequent measurement in a non-commuting basis. Thus, the expectation value of $H$ involves multiple measurements, with each term $\\langle \\psi | P_k | \\psi \\rangle$ requiring its own basis alignment.\n",
    "\n",
    "This approach is crucial for estimating the expectation value of $H$ when working with quantum states, especially in variational quantum algorithms like VQE.\n",
    "\n",
    "</details>"
   ]
  },
  {
   "cell_type": "markdown",
   "id": "9c5549eb-4b67-44b0-a196-f7fe65daf6cd",
   "metadata": {},
   "source": [
    "Start again with a simple example, using `execution_session_non_parametric` from the first part and the following Hamiltonian:"
   ]
  },
  {
   "cell_type": "code",
   "execution_count": 16,
   "id": "c1513de3-8abe-4243-b080-206481aee069",
   "metadata": {},
   "outputs": [],
   "source": [
    "hamiltonian = [\n",
    "    PauliTerm(pauli=[Pauli.I], coefficient=1),\n",
    "    PauliTerm(pauli=[Pauli.Z], coefficient=2),\n",
    "]"
   ]
  },
  {
   "cell_type": "code",
   "execution_count": 17,
   "id": "bca0eb9b-86a0-49e6-93c1-f5745a53a5a2",
   "metadata": {},
   "outputs": [
    {
     "data": {
      "text/plain": [
       "EstimationResult(value=(0.994140625+0j), metadata=EstimationMetadata(shots=2048, remapped_qubits=False, input_qubit_map=None))"
      ]
     },
     "execution_count": 17,
     "metadata": {},
     "output_type": "execute_result"
    }
   ],
   "source": [
    "execution_session_non_parametric.estimate(hamiltonian)"
   ]
  },
  {
   "cell_type": "markdown",
   "id": "13ad20c8-5b17-47e2-abd6-9e4c5bbeaaa4",
   "metadata": {},
   "source": [
    "Here, $| \\psi \\rangle$ is the quantum state defined in the non-parametric quantum program and was stored in `execution_session_non_parametric` at the beginning of the previous section."
   ]
  },
  {
   "cell_type": "markdown",
   "id": "6a8298f2-eb19-4625-88dd-9aab38465de3",
   "metadata": {},
   "source": [
    "Similarly, when $| \\psi \\rangle$ is a parametric program:"
   ]
  },
  {
   "cell_type": "code",
   "execution_count": 18,
   "id": "7f4df86a-55a0-4b8f-a405-848f3093f25e",
   "metadata": {},
   "outputs": [],
   "source": [
    "from classiq import *\n",
    "from classiq.execution import ExecutionSession\n",
    "\n",
    "\n",
    "@qfunc\n",
    "def main(x: Output[QBit], t: CReal):\n",
    "    allocate(1, x)\n",
    "    RX(t, x)\n",
    "\n",
    "\n",
    "qmod = create_model(main)\n",
    "qprog = synthesize(qmod)\n",
    "\n",
    "execution_session = ExecutionSession(qprog)"
   ]
  },
  {
   "cell_type": "markdown",
   "id": "c5eb2a2c-4afa-4214-b215-f536b9b1d8df",
   "metadata": {},
   "source": [
    "Now, call estimate with a single set of parameters:"
   ]
  },
  {
   "cell_type": "code",
   "execution_count": null,
   "id": "c867b0ad-2ef4-44fc-b07b-c62c8e560dc1",
   "metadata": {},
   "outputs": [],
   "source": [
    "estimate_result = execution_session.estimate(hamiltonian, {\"t\": 0.5})\n",
    "estimate_result"
   ]
  },
  {
   "cell_type": "markdown",
   "id": "f42740a2-68cd-4772-a31f-bf0d5e426050",
   "metadata": {},
   "source": [
    "It contains the `value`, as well as the `metadata` of the execution. \\\n",
    "In this example, this is the expectation value:"
   ]
  },
  {
   "cell_type": "code",
   "execution_count": null,
   "id": "2851c0a9-b9f4-4bcb-8e86-d1edc8244029",
   "metadata": {},
   "outputs": [],
   "source": [
    "estimate_result.value\n",
    "estimate_result"
   ]
  },
  {
   "cell_type": "markdown",
   "id": "86d5002f-3374-46f1-8044-c8c0278569ba",
   "metadata": {},
   "source": [
    "Similarly to `sample`, it is possible to execute a batch of parameters with `estimate`. \\\n",
    "For instance:"
   ]
  },
  {
   "cell_type": "code",
   "execution_count": null,
   "id": "14ad765d-e060-4190-8cf7-0750f28ed74d",
   "metadata": {},
   "outputs": [],
   "source": [
    "from numpy import pi\n",
    "\n",
    "batch_estimate_result = execution_session.batch_estimate(\n",
    "    hamiltonian,\n",
    "    [{\"t\": 0 * pi}, {\"t\": 0.5 * pi}, {\"t\": 1 * pi}, {\"t\": 1.5 * pi}, {\"t\": 2 * pi}],\n",
    ")"
   ]
  },
  {
   "cell_type": "markdown",
   "id": "a3b81ab0-a18c-4460-8c27-05b2be88779c",
   "metadata": {},
   "source": [
    "Again, `batch_estimate_result` contains a list of results that you can access using a `for` loop:"
   ]
  },
  {
   "cell_type": "code",
   "execution_count": null,
   "id": "56aeeeb7-efb6-4b16-8b04-4cab0041dda1",
   "metadata": {},
   "outputs": [],
   "source": [
    "for E in batch_estimate_result:\n",
    "    print(E.value)"
   ]
  },
  {
   "cell_type": "markdown",
   "id": "419fa505-a9e0-4c9c-a99b-d80cc36dd3e8",
   "metadata": {},
   "source": [
    "Lastly, it demonstrates how you might loop over a large set of parameters. This is particularly  useful in many cases of [Hamiltomian simulation](https://docs.classiq.io/latest/user-guide/read/hamiltonian_simulation_guide/). \\\n",
    "Here, it finds the value of theta that minimizes the energy in `theta_list`:"
   ]
  },
  {
   "cell_type": "code",
   "execution_count": null,
   "id": "4a99bd53-dca1-4933-833b-43f49b07d64d",
   "metadata": {},
   "outputs": [],
   "source": [
    "import numpy as np\n",
    "\n",
    "# Generate 100 linearly spaced values for t from 0 to 2*pi\n",
    "theta_list = np.linspace(0, 2 * pi, 100)\n",
    "\n",
    "# Create the list of dictionaries for batch sampling\n",
    "batch_sample = [{\"t\": t} for t in theta_list]\n",
    "\n",
    "# Execute batch estimate\n",
    "batch_estimate_result = execution_session.batch_estimate(hamiltonian, batch_sample)"
   ]
  },
  {
   "cell_type": "markdown",
   "id": "cbfcf87a-a496-4c70-a69e-cbbe94b98219",
   "metadata": {},
   "source": [
    "For hundred items, it is better to plot the results in a graph:"
   ]
  },
  {
   "cell_type": "code",
   "execution_count": null,
   "id": "37c1f7ec-b734-4384-81c6-fc70c10f2ef5",
   "metadata": {},
   "outputs": [],
   "source": [
    "import matplotlib.pyplot as plt\n",
    "\n",
    "# Extract values of E and t\n",
    "E_values = [np.real(E.value) for E in batch_estimate_result]\n",
    "theta_values = [sample[\"t\"] for sample in batch_sample]\n",
    "\n",
    "# Plot E as a function of t\n",
    "plt.plot(theta_list, E_values)\n",
    "plt.xlabel(\"theta (radians)\")\n",
    "plt.ylabel(\"E (Energy units)\")\n",
    "plt.title(\"E as a Function of theta\")\n",
    "plt.grid(True)  # Add grid for better visualization\n",
    "plt.show()"
   ]
  },
  {
   "cell_type": "code",
   "execution_count": null,
   "id": "5c740134-b26c-464e-b079-1f0ac8c7d140",
   "metadata": {},
   "outputs": [],
   "source": [
    "print(\"The number of different energies:\", len(E_values))\n",
    "print(\"The minimal energy:\", min(E_values))"
   ]
  },
  {
   "cell_type": "markdown",
   "id": "2ef1fcbd-1c07-447f-a6f2-34deea946ece",
   "metadata": {},
   "source": [
    "Using `.submit_estimate()` and `submit_batch_estimate()` is useful for long executions and real hardware execution, allowing you to receive results later using the job's `id` for single or multiple sets of execution parameters, respectively."
   ]
  },
  {
   "cell_type": "markdown",
   "id": "060e640c-3a92-4db0-8531-e8ca669994db",
   "metadata": {},
   "source": [
    "<details>\n",
    "<summary>Practice</summary>\n",
    "\n",
    "**Fundamental Practice:**\n",
    "\n",
    "Verify your understanding by repeating what was done in the **Sample** section but using `.submit_estimate()` and `submit_batch_estimate()`.\n",
    "\n",
    "**Advanced Practice:**\n",
    "\n",
    "Use one of the `estimate` options to implement the [VQE](https://docs.classiq.io/latest/user-guide/read/qml_with_classiq_guide/#using-the-vqe-primitive) algorithm yourself.\n",
    "\n",
    "</details>"
   ]
  },
  {
   "cell_type": "markdown",
   "id": "a9c12267-c3ce-40fd-a23c-d6f3abe5aad8",
   "metadata": {},
   "source": [
    "## Read More"
   ]
  },
  {
   "cell_type": "markdown",
   "id": "0c84a26a-c0e4-4f13-8279-1c8c03e4d778",
   "metadata": {},
   "source": [
    "- User Guide:\n",
    "    - [`ExecutionSession`]((https://docs.classiq.io/latest/user-guide/executor/ExecutionSession/))\n",
    "    - [`ExecutionJob`](https://docs.classiq.io/latest/sdk-reference/#classiq.execution.jobs.ExecutionJob)\n",
    "- Examples:\n",
    "    - [Hamiltonian Simulation](https://docs.classiq.io/latest/user-guide/read/hamiltonian_simulation_guide/)\n",
    "    - [Variational Quantum Linear Solver (VQLS)](https://docs.classiq.io/latest/explore/algorithms/vqls/lcu_vqls/vqls_with_lcu/?h=vql)"
   ]
  },
  {
   "cell_type": "code",
   "execution_count": null,
   "id": "05b0f558-bfcb-4fcd-b8db-e1b3a9e37b14",
   "metadata": {},
   "outputs": [],
   "source": []
  }
 ],
 "metadata": {
  "kernelspec": {
   "display_name": "Python 3 (ipykernel)",
   "language": "python",
   "name": "python3"
  },
  "language_info": {
   "codemirror_mode": {
    "name": "ipython",
    "version": 3
   },
   "file_extension": ".py",
   "mimetype": "text/x-python",
   "name": "python",
   "nbconvert_exporter": "python",
   "pygments_lexer": "ipython3",
   "version": "3.11.9"
  }
 },
 "nbformat": 4,
 "nbformat_minor": 5
}
