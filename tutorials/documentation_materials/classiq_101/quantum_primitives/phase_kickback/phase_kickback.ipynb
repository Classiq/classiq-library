{
 "cells": [
  {
   "cell_type": "markdown",
   "metadata": {},
   "source": [
    "# Phase Kickback"
   ]
  },
  {
   "cell_type": "markdown",
   "metadata": {},
   "source": [
    "Phase kickback [[1](#childs),[2](#LinLin),[3](#Wolf)] is an important and highly used primitive in quantum computing. It deals with kicking the result of a function to the phase of a quantum state so it can be smartly manipulated with constructive and destructive interferences to achieve the desired result. Every quantum algortihm can be decomposed into these steps: 1) Encoding the data; 2) Manipulating the data; and 3) Extracting the result. The phase kickback primitive is a key step in the manipulation of the data that enables extracting the result. See the [Deutsch-Jozsa](https://github.com/Classiq/classiq-library/blob/main/algorithms/deutsch_jozsa/deutsch_jozsa.ipynb) and [Simon's](https://github.com/Classiq/classiq-library/blob/main/algorithms/simon/simon.ipynb) algorithms for concrete examples.\n",
    "\n",
    "The standard way [[4](#NielsenChuang)] to apply a classical function $f:\\{0,1\\}^n \\rightarrow \\{0,1\\}$ on quantum states is with the oracle model: \n",
    "$\\begin{equation}\n",
    "O_f (|x \\rangle_n|y \\rangle_1) = |x \\rangle_n|y \\oplus f(x) \\rangle_1\n",
    "\\end{equation}$\n",
    "with $|x \\rangle$ and $|y \\rangle$ as the argument and target quantum states, respectively, and $\\oplus$ as the addition modolu $2$ or the XOR operation. The phase kickback primitive takes the oracle $O_f$ as input, and performs this operation:\n",
    "$\\begin{equation}\n",
    "|x \\rangle\\rightarrow (-1)^{f(x)}|x \\rangle\n",
    "\\end{equation}$\n",
    "This can be applied on a superposition of state:\n",
    "$\\begin{equation}\n",
    "\\sum_{i=0}^{2^n-1}\\alpha_i|x_i \\rangle\\rightarrow (-1)^{f(x_i)}\\alpha_i|x_i \\rangle\n",
    "\\end{equation}$\n",
    "with $\\alpha_i$ as the amplitude of the $|x_i \\rangle$ state.\n",
    "\n",
    "How does this happen? Its beauty lies in its simplicity: applying the oracle $O_f$ to the state target quantum state $|- \\rangle=\\frac{1}{\\sqrt{2}}|0 \\rangle-\\frac{1}{\\sqrt{2}}|1 \\rangle$:\n",
    "$\\begin{equation}\n",
    "O_f|x \\rangle |- \\rangle = (-1)^{f(x)}|x \\rangle |- \\rangle\n",
    "\\end{equation}$\n",
    "then effectively achieving the desired transformation $|x \\rangle\\rightarrow (-1)^{f(x)}|x \\rangle$. "
   ]
  },
  {
   "cell_type": "markdown",
   "metadata": {},
   "source": [
    "<div style=\"text-align:center;\">\n",
    "    <img src=\"https://docs.classiq.io/resources/phase_kickback_high_level.png\" alt=\"Phase Kickback High Level\" />\n",
    "</div>"
   ]
  },
  {
   "cell_type": "markdown",
   "metadata": {},
   "source": [
    "See full details in the [mathematical description](#mathematical-description)."
   ]
  },
  {
   "cell_type": "markdown",
   "metadata": {},
   "source": [
    "**Classiq Concepts**\n",
    "* [within-apply](https://docs.classiq.io/latest/qmod-reference/language-reference/statements/within-apply/ )\n",
    "* [in-place XOR](https://docs.classiq.io/latest/qmod-reference/language-reference/statements/numeric-assignment/ )\n",
    "\n",
    "**Related Algorithms**\n",
    "* [Deutsch-Jozsa algorithm](https://github.com/Classiq/classiq-library/blob/main/algorithms/deutsch_jozsa/deutsch_jozsa.ipynb)\n",
    "* [Simon's algorithm](https://github.com/Classiq/classiq-library/blob/main/algorithms/simon/simon.ipynb)"
   ]
  },
  {
   "cell_type": "markdown",
   "metadata": {},
   "source": [
    "<details markdown>\n",
    "<summary markdown> NOTE </summary>\n",
    "\n",
    "Another trick is phase kickback ([video 1](https://www.youtube.com/watch?v=iLcQ-X6QzvU), [video 2](https://www.youtube.com/watch?v=455pmYaZXKw)). A unitary $U$ is applied to an eigensystem $U| phi \\rangle=e^{i\\phi}|phi\\rangle$ which is controlled by a qubit in the $| + \\rangle=\\frac{1}{\\sqrt{2}}|0\\rangle+\\frac{1}{\\sqrt{2}}|1\\rangle$, and the phase of the eigenvalue of $U$ is kicked back to a relative phase in the controlled qubit:\n",
    "$\\begin{equation}\n",
    "CU| + \\rangle| \\phi \\rangle=\\frac{1}{\\sqrt2}(|0\\rangle| \\phi \\rangle + e^{i\\phi}|1\\rangle| \\phi \\rangle) = \\frac{1}{\\sqrt{2}}(|0\\rangle+e^{i\\phi}|1\\rangle)| \\phi \\rangle\n",
    "\\end{equation}$\n",
    "\n",
    "This useful trick is not the same as the Phase Kickback described in the literature [[1](#childs),[2](#LinLin),[3](#Wolf)]\n",
    "</details>."
   ]
  },
  {
   "cell_type": "markdown",
   "metadata": {},
   "source": [
    "## Guided Implementation"
   ]
  },
  {
   "cell_type": "markdown",
   "metadata": {},
   "source": [
    "When using the Classiq system (as for any development platform), it is recommended to design your code at the functional level in terms of functions. The above figure indicates which functional building blocks you need, so you can now implement them, one function at a time, and then connect them."
   ]
  },
  {
   "cell_type": "markdown",
   "metadata": {},
   "source": [
    "Start with the **Prepare** $| - \\rangle$ building block using the `prepare_minus` function. It is implemented by sequentially applying the `X` (NOT) gate that transforms $|0\\rangle$ into $X|0\\rangle=|1\\rangle$, and then applying the Hadamard `H` gate that takes the $|1\\rangle$ state into the desired $H|1\\rangle=| - \\rangle$ state:"
   ]
  },
  {
   "cell_type": "markdown",
   "metadata": {},
   "source": [
    "<div style=\"text-align:center;\">\n",
    "    <img src=\"https://docs.classiq.io/resources/phase_kickback_prepare_minus.gif\" alt=\"Phase Kickback High Level\" />\n",
    "</div>"
   ]
  },
  {
   "cell_type": "code",
   "execution_count": 1,
   "metadata": {
    "execution": {
     "iopub.execute_input": "2024-05-07T13:28:40.509980Z",
     "iopub.status.busy": "2024-05-07T13:28:40.509504Z",
     "iopub.status.idle": "2024-05-07T13:28:43.317981Z",
     "shell.execute_reply": "2024-05-07T13:28:43.317192Z"
    }
   },
   "outputs": [],
   "source": [
    "from classiq import H, Output, QBit, X, allocate, qfunc\n",
    "\n",
    "\n",
    "@qfunc\n",
    "def prepare_minus(target: Output[QBit]):\n",
    "    allocate(out=target, num_qubits=1)\n",
    "    X(target)\n",
    "    H(target)"
   ]
  },
  {
   "cell_type": "markdown",
   "metadata": {},
   "source": [
    "Now, define the oracle function that implements $O_f| x \\rangle| target \\rangle=| x \\rangle |target \\oplus f(x)\\rangle$ for the function $f(x)= (x==0)$, such that the output is $1$ only if the input $x$ equals $0$.\n",
    "$\\begin{equation}\n",
    "O_f(| x \\rangle| target \\rangle) = | x \\rangle |target \\oplus (x==0)\\rangle\n",
    "\\end{equation}$"
   ]
  },
  {
   "cell_type": "markdown",
   "metadata": {},
   "source": [
    "<div style=\"text-align:center;\">\n",
    "    <img src=\"https://docs.classiq.io/resources/phase_kickback_oracle_function.gif\" alt=\"Phase Kickback High Level\" />\n",
    "</div>"
   ]
  },
  {
   "cell_type": "markdown",
   "metadata": {},
   "source": [
    "With Classiq, the XOR operation ($\\oplus$) is implemented intuitively with `^=` :"
   ]
  },
  {
   "cell_type": "code",
   "execution_count": 2,
   "metadata": {
    "execution": {
     "iopub.execute_input": "2024-05-07T13:28:43.324621Z",
     "iopub.status.busy": "2024-05-07T13:28:43.323957Z",
     "iopub.status.idle": "2024-05-07T13:28:43.327908Z",
     "shell.execute_reply": "2024-05-07T13:28:43.327270Z"
    }
   },
   "outputs": [],
   "source": [
    "from classiq import QNum\n",
    "\n",
    "\n",
    "@qfunc\n",
    "def oracle_function(target: QBit, x: QNum):\n",
    "    target ^= x == 0"
   ]
  },
  {
   "cell_type": "markdown",
   "metadata": {},
   "source": [
    "Combine the two building blocks for performing the phase kickback. You are not interested in the $| - \\rangle$ state as its only purpose is to implement $| x \\rangle\\rightarrow (-1)^{f(x)}| x \\rangle$. For such cases (that are common in quantum computing), the Qmod language offers the `within-apply` ([read more](https://docs.classiq.io/latest/qmod-reference/language-reference/statements/within-apply/ ) ) statement. Apply everything intended for use by another specific function in the `within`, and use it for the specific thing in the `apply`"
   ]
  },
  {
   "cell_type": "markdown",
   "metadata": {},
   "source": [
    "<div style=\"text-align:center;\">\n",
    "    <img src=\"https://docs.classiq.io/resources/phase_kickback_oracle_phase_kickback.gif\" alt=\"Phase Kickback High Level\" />\n",
    "</div>"
   ]
  },
  {
   "cell_type": "code",
   "execution_count": 3,
   "metadata": {
    "execution": {
     "iopub.execute_input": "2024-05-07T13:28:43.332422Z",
     "iopub.status.busy": "2024-05-07T13:28:43.331903Z",
     "iopub.status.idle": "2024-05-07T13:28:43.341870Z",
     "shell.execute_reply": "2024-05-07T13:28:43.341160Z"
    }
   },
   "outputs": [],
   "source": [
    "from classiq import within_apply\n",
    "\n",
    "\n",
    "@qfunc\n",
    "def oracle_phase_kickback(x: QNum):\n",
    "    target = QBit(\"target\")\n",
    "    within_apply(\n",
    "        within=lambda: prepare_minus(target), apply=lambda: oracle_function(target, x)\n",
    "    )"
   ]
  },
  {
   "cell_type": "markdown",
   "metadata": {},
   "source": [
    "<details>\n",
    "\n",
    "<summary>Note! </summary>\n",
    "\n",
    "This is how the native Qmod syntax in the IDE looks:\n",
    "\n",
    "```\n",
    "qfunc oracle_phase_kickback(x:qnum){\n",
    "  target:qbit;\n",
    "  within{prepare_minus(target);} apply{oracle_function(x,target);}\n",
    "}\n",
    "```\n",
    "which is more intuitive.\n",
    "</details>"
   ]
  },
  {
   "cell_type": "markdown",
   "metadata": {},
   "source": [
    "Now you can use the `oracle_phase_kickback` function. To utilize the power of quantum parallelism, apply the `oracle_phase_kickback` on a superposition of numbers. Creating a superposition is commonly done with the Hadamard transform in quantum computing, which means applying the Hadamard gate `H` on all the qubits. Its application on the $|0\\rangle$ state:\n",
    "$\\begin{equation}\n",
    "H^{\\otimes n}|0\\rangle_n = \\frac{1}{\\sqrt{2^n}}\\sum_{i=0}^{2^n-1}| i \\rangle_n\n",
    "\\end{equation}$"
   ]
  },
  {
   "cell_type": "markdown",
   "metadata": {},
   "source": [
    "<div style=\"text-align:center;\">\n",
    "    <img src=\"https://docs.classiq.io/resources/phase_kickback_hadamrd_tansform.gif\" alt=\"Phase Kickback High Level\" />\n",
    "</div>"
   ]
  },
  {
   "cell_type": "markdown",
   "metadata": {},
   "source": [
    "\n",
    "Therefore, the phase kickback primitive is constructed of this:\n",
    "\n",
    "1. Initializing the `qnum` type with $4$ qubits using the `allocate` function such that $| x \\rangle=|0\\rangle$.\n",
    "2. Applying the Hadamard transform using the `hadamard_transform` function such that $| x \\rangle = \\frac{1}{\\sqrt{2^n}}\\sum_{i=0}^{2^n-1}| i \\rangle_n$.\n",
    "3. Applying the phase kickback primitive with the `oracle_phase_kickback` function such that $| x \\rangle = \\frac{1}{\\sqrt{2^n}}\\sum_{i=0}^{2^n-1}(-1)^{i==0}| i \\rangle_n$."
   ]
  },
  {
   "cell_type": "code",
   "execution_count": 4,
   "metadata": {
    "execution": {
     "iopub.execute_input": "2024-05-07T13:28:43.345452Z",
     "iopub.status.busy": "2024-05-07T13:28:43.344967Z",
     "iopub.status.idle": "2024-05-07T13:28:45.966322Z",
     "shell.execute_reply": "2024-05-07T13:28:45.965655Z"
    }
   },
   "outputs": [
    {
     "name": "stdout",
     "output_type": "stream",
     "text": [
      "Opening: https://platform.classiq.io/circuit/51cc75df-75d3-4f91-ba4c-fc48e41784bc?version=0.41.0.dev39%2B79c8fd0855\n"
     ]
    }
   ],
   "source": [
    "from classiq import create_model, hadamard_transform, show, synthesize\n",
    "\n",
    "\n",
    "@qfunc\n",
    "def main(x: Output[QNum]):\n",
    "    allocate(num_qubits=4, out=x)\n",
    "    hadamard_transform(x)\n",
    "    oracle_phase_kickback(x)\n",
    "\n",
    "\n",
    "qmod = create_model(main)\n",
    "qprog = synthesize(qmod)\n",
    "show(qprog)"
   ]
  },
  {
   "cell_type": "markdown",
   "metadata": {},
   "source": [
    "<div style=\"text-align:center;\">\n",
    "    <img src=\"https://docs.classiq.io/resources/phase_kickback_main.gif\" alt=\"Phase Kickback High Level\" />\n",
    "</div>"
   ]
  },
  {
   "cell_type": "markdown",
   "metadata": {},
   "source": [
    "Verify that the quantum program actually operates as expected; receiving a $(-)$ phase only for the state $|0\\rangle$, that is:\n",
    "$\\begin{equation}\n",
    "| x \\rangle = \\frac{1}{\\sqrt{2^4}}(|1\\rangle+| 2 \\rangle+\\dots +| 15 \\rangle-|0\\rangle)\n",
    "\\end{equation}$\n",
    "To check, use the built-in Classiq state vector simulator from the IDE:"
   ]
  },
  {
   "cell_type": "markdown",
   "metadata": {},
   "source": [
    "<div style=\"text-align:center;\">\n",
    "    <img src=\"https://docs.classiq.io/resources/phase_kickback_result.gif\" alt=\"Phase Kickback High Level\" />\n",
    "</div>"
   ]
  },
  {
   "cell_type": "markdown",
   "metadata": {},
   "source": [
    "Indeed, see that you receive the $(-)$ phase only for the zero state, as expected.\n",
    "The result shows bit strings of five bits rather than just four. This includes the `target` qubit measurement that always results in 0.\n",
    "\n",
    "To see how this phase kickback is actually implemented in practice see the [Deutsch-Josza example](https://github.com/Classiq/classiq-library/blob/main/algorithms/deutsch_jozsa/deutsch_jozsa.ipynb) and [Simon's example](https://github.com/Classiq/classiq-library/blob/main/algorithms/simon/simon.ipynb)."
   ]
  },
  {
   "cell_type": "markdown",
   "metadata": {},
   "source": [
    "## Mathematical Description"
   ]
  },
  {
   "cell_type": "markdown",
   "metadata": {},
   "source": [
    "The starting point is the definition \n",
    "$\\begin{equation}\n",
    "O_f (| x \\rangle_n| y \\rangle_1) = | x \\rangle_n|y \\oplus f(x)\\rangle_1\n",
    "\\end{equation}$\n",
    "for $f:\\{0,1\\}^n \\rightarrow \\{0,1\\}$.\n",
    "\n",
    "Applying $O_f$ on $| x \\rangle| - \\rangle$ results in this:\n",
    "$\\begin{equation}\n",
    "O_f (| x \\rangle| - \\rangle) = \\frac{1}{\\sqrt{2}}(| x \\rangle |0 \\oplus f(x)\\rangle - | x \\rangle |1 \\oplus f(x)\\rangle)\n",
    "\\end{equation}$\n",
    "\n",
    "The expression $0 \\oplus f(x)$ equals $f(x)$ because $0\\oplus0=0$ and $0\\oplus1=1$.\n",
    "\n",
    "The expression $1\\oplus f(x)$ equals $\\overline{f(x)}$; i.e., `NOT` $f(x)$ since $1\\oplus1=0$ and $1\\oplus0=1$.\n",
    "\n",
    "Therefore:\n",
    "\n",
    "$\\begin{equation}\n",
    "O_f (| x \\rangle| - \\rangle) = | x \\rangle\\frac{1}{\\sqrt{2}}(|f(x)\\rangle - |\\overline{f(x)}\\rangle).\n",
    "\\end{equation}$\n",
    "\n",
    "If $f(x)=0$ the target state is $\\frac{1}{\\sqrt{2}}(|0\\rangle - |1\\rangle) = | - \\rangle = (-1)^{f(x)}| - \\rangle$.\n",
    "\n",
    "If $f(x)=1$ the target state is $\\frac{1}{\\sqrt{2}}(|1\\rangle - |0\\rangle) = -| - \\rangle = (-1)^{f(x)}| - \\rangle$.\n",
    "\n",
    "Therefore:\n",
    "\n",
    "$\\begin{equation}\n",
    "O_f (| x \\rangle| - \\rangle) = (-1)^{f(x)}| x \\rangle| - \\rangle.\n",
    "\\end{equation}$\n",
    "\n"
   ]
  },
  {
   "cell_type": "markdown",
   "metadata": {},
   "source": [
    "## All the Code Together"
   ]
  },
  {
   "cell_type": "markdown",
   "metadata": {},
   "source": [
    "Python version:"
   ]
  },
  {
   "cell_type": "code",
   "execution_count": 5,
   "metadata": {
    "execution": {
     "iopub.execute_input": "2024-05-07T13:28:46.004172Z",
     "iopub.status.busy": "2024-05-07T13:28:46.003615Z",
     "iopub.status.idle": "2024-05-07T13:28:48.262514Z",
     "shell.execute_reply": "2024-05-07T13:28:48.261873Z"
    }
   },
   "outputs": [
    {
     "name": "stdout",
     "output_type": "stream",
     "text": [
      "Opening: https://platform.classiq.io/circuit/4915ffcd-0613-479c-b93e-14bdaa8c5d27?version=0.41.0.dev39%2B79c8fd0855\n"
     ]
    }
   ],
   "source": [
    "from classiq import (\n",
    "    H,\n",
    "    Output,\n",
    "    QBit,\n",
    "    QNum,\n",
    "    X,\n",
    "    allocate,\n",
    "    create_model,\n",
    "    hadamard_transform,\n",
    "    qfunc,\n",
    "    show,\n",
    "    synthesize,\n",
    "    within_apply,\n",
    "    write_qmod,\n",
    ")\n",
    "\n",
    "\n",
    "@qfunc\n",
    "def prepare_minus(target: Output[QBit]):\n",
    "    allocate(out=target, num_qubits=1)\n",
    "    X(target)\n",
    "    H(target)\n",
    "\n",
    "\n",
    "@qfunc\n",
    "def oracle_function(target: QBit, x: QNum):\n",
    "    target ^= x == 0\n",
    "\n",
    "\n",
    "@qfunc\n",
    "def oracle_phase_kickback(x: QNum):\n",
    "    target = QBit(\"target\")\n",
    "    within_apply(\n",
    "        within=lambda: prepare_minus(target), apply=lambda: oracle_function(target, x)\n",
    "    )\n",
    "\n",
    "\n",
    "@qfunc\n",
    "def main(x: Output[QNum]):\n",
    "    allocate(num_qubits=4, out=x)\n",
    "    hadamard_transform(x)\n",
    "    oracle_phase_kickback(x)\n",
    "\n",
    "\n",
    "qmod = create_model(main)\n",
    "qprog = synthesize(qmod)\n",
    "show(qprog)\n",
    "\n",
    "write_qmod(qmod, \"phase_kickback\")"
   ]
  },
  {
   "cell_type": "markdown",
   "metadata": {},
   "source": [
    "Native QMOD version:"
   ]
  },
  {
   "cell_type": "markdown",
   "metadata": {},
   "source": [
    "```\n",
    "// Phase Kickback\n",
    "\n",
    "qfunc prepare_minus(output target:qbit){\n",
    "  allocate(1, target);\n",
    "  X(target);\n",
    "  H(target);\n",
    "}\n",
    "\n",
    "qfunc oracle_function(x: qnum, target: qbit){\n",
    "  target ^= x==0;\n",
    "}\n",
    "\n",
    "qfunc oracle_phase_kickback(x:qnum){\n",
    "  target:qbit;\n",
    "  within{prepare_minus(target);} apply{oracle_function(x,target);}\n",
    "}\n",
    "\n",
    "qfunc main(output x:qnum){\n",
    "  allocate(4, x);\n",
    "  hadamard_transform(x);\n",
    "  oracle_phase_kickback(x);\n",
    "}\n",
    "```"
   ]
  },
  {
   "cell_type": "markdown",
   "metadata": {},
   "source": [
    "## References "
   ]
  },
  {
   "cell_type": "markdown",
   "metadata": {},
   "source": [
    "<a id='Childs'>[1]</a>: [Lecture Notes on\n",
    "Quantum Algorithms (Andrew M. Childs)](https://www.cs.umd.edu/~amchilds/qa/qa.pdf)\n",
    "\n",
    "<a id='LinLin'>[2]</a>: [Lecture Notes on\n",
    "Quantum Algorithms for Scientific Computations (Lin Lin)](https://math.berkeley.edu/~linlin/qasc/qasc_notes.pdf)\n",
    "\n",
    "<a id='Wolf'>[3]</a>: [Quantum Computing:\n",
    "Lecture Notes (Ronald de Wolf)](https://homepages.cwi.nl/~rdewolf/qcnotes.pdf)\n",
    "\n",
    "<a id='Nielsen&Chunag'>[4]</a>: [Quantum Computation and Quantum Information (Michael Nielsen and Isaac Chuang)](https://en.wikipedia.org/wiki/Quantum_Computation_and_Quantum_Information)\n"
   ]
  }
 ],
 "metadata": {
  "kernelspec": {
   "display_name": "Python 3 (ipykernel)",
   "language": "python",
   "name": "python3"
  },
  "language_info": {
   "codemirror_mode": {
    "name": "ipython",
    "version": 3
   },
   "file_extension": ".py",
   "mimetype": "text/x-python",
   "name": "python",
   "nbconvert_exporter": "python",
   "pygments_lexer": "ipython3",
   "version": "3.11.4"
  },
  "vscode": {
   "interpreter": {
    "hash": "e992e515f6583afc67b46eeabcda0f30363069fab8b382c7517b274ba7a59477"
   }
  }
 },
 "nbformat": 4,
 "nbformat_minor": 4
}
