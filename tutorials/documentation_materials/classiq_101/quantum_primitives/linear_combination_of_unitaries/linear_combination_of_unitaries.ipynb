{
 "cells": [
  {
   "cell_type": "markdown",
   "id": "c3dd31de",
   "metadata": {},
   "source": [
    "# Linear Combination of Unitaries"
   ]
  },
  {
   "cell_type": "markdown",
   "id": "3f25ec81",
   "metadata": {},
   "source": [
    "Quantum computing is based on the principles of quantum mechanics, which includes an important feature: unitarity. The operations that evolve quantum states on quantum computers are unitary.  Would this mean that problems requiring non-unitary operations are out of hand for quantum computers? This is the task solved by the Linear Combination of Unitaries (LCU) algorithm [[1](#childs_paper), [2](#childs_notes)]. \n",
    "\n",
    "Given a non-unitary matrix $A$ that can be decomposed into a sum of unitary matrices as follows:\n",
    "\n",
    "\\begin{equation}\n",
    "    A = \\sum_{i=0}^{2^n-1} \\alpha_i U_i,\n",
    "\\end{equation}\n",
    "\n",
    "where $\\alpha_i$ are real, positive coefficients and $U_i$ are unitary matrices, the LCU algorithm applies the action of $A$, up to a normalization factor, on a desired quantum state. \n",
    "\n",
    "It does so by embedding the matrix $A$ in a bigger unitary. The first step of the LCU is to prepare the following state on an auxiliary quantum register according to the coefficients $\\alpha_i$ using the function PREPARE:\n",
    "\n",
    "\\begin{equation}\n",
    "    |\\psi_0\\rangle = PREPARE|0\\rangle = \\sum_i \\sqrt{\\frac{\\alpha_i}{\\lambda}}|i\\rangle,\n",
    "\\end{equation}\n",
    "\n",
    "where $\\lambda = \\sum_i |\\alpha_i|$ is a normalization factor. This quantum register with the prepared state is used as a controller for the next step. Then, according to the controller quantum register, the following state is being prepared:\n",
    "\n",
    "\\begin{equation}\n",
    "    SELECT|i\\rangle|\\psi\\rangle = |i\\rangle U_i |\\psi\\rangle,\n",
    "\\end{equation}\n",
    "\n",
    "where $|\\psi\\rangle$ is the desired quantum state the matrix $A$ should be applied on. The final step is to have the PREPARE operation inversed such that the following desired state is created: \n",
    "\n",
    "\\begin{equation}\n",
    "    LCU|0\\rangle|\\psi\\rangle = PREPARE^{-1}\\, SELECT\\, PREPARE |0\\rangle|\\psi\\rangle = V |0\\rangle |\\psi\\rangle,\n",
    "\\end{equation}\n",
    "\n",
    "where $V$ can be represented as\n",
    "\n",
    "\n",
    "$$V = \\begin{bmatrix}A & \\cdot \\\\ \\cdot & \\cdot \\end{bmatrix}.$$\n",
    "\n",
    "\n",
    "This is called the Block Encoding of the matrix A. By projecting the controller quantum register on the $|0\\rangle$ state the desired outcome is obtained:\n",
    "\n",
    "\\begin{equation}\n",
    "    \\left(|0\\rangle\\langle0|\\otimes I\\right)LCU|0\\rangle|\\phi\\rangle = |0\\rangle\\frac{A}{\\lambda}|\\psi\\rangle.\n",
    "\\end{equation}\n",
    "\n",
    "Therefore, the action of the sequence of operations over the target qubit will be the non-unitary operation $A$, up to a normalization factor. \n",
    "\n",
    "Detailed mathematical description of the algorithm can be seen [below](#mathematical-description) and in refernce [[1](#childs_paper)]. It is also important to notice that the projection onto the $|0\\rangle$ state depends on a success probability, detailed in [[1]](https://arxiv.org/abs/1202.5822).\n",
    "\n",
    "Overall, a scheme of the algorithm looks like:"
   ]
  },
  {
   "cell_type": "markdown",
   "id": "24bce818",
   "metadata": {},
   "source": [
    "<div  style=\"text-align:center;\">\n",
    "    <img src=\"https://docs.classiq.io/resources/LCU_Circuit.png\">\n",
    "</div>"
   ]
  },
  {
   "cell_type": "markdown",
   "id": "dd189e7b",
   "metadata": {},
   "source": [
    "## Guided Implementation"
   ]
  },
  {
   "cell_type": "markdown",
   "id": "0e1f89d7",
   "metadata": {},
   "source": [
    "Now that we know how the LCU algorithm works, it's time to implement it on Classiq. For that, we will be using two important functions:\n",
    "* [Within-Apply](https://docs.classiq.io/latest/qmod-reference/language-reference/statements/within-apply/ )\n",
    "* [Prepare state](https://docs.classiq.io/latest/qmod-reference/library-reference/core-library-functions/prepare_state_and_amplitudes/prepare_state_and_amplitudes/)\n",
    "\n",
    "\n",
    "\n",
    "<details>\n",
    "<summary>How does the Within-Apply function work?</summary>\n",
    "\n",
    "The Within-Apply maps unitary operations of the kind $V = U^{-1} W U$ into the quantum circuit, given $U$ and $W$. \n",
    "\n",
    "For example, if the W operator is the mcx gate and U is the Quantum Fourier Transform, the Within-Apply function would look like this on [Classiq's IDE](https://platform.classiq.io/):\n",
    "\n",
    "![Within_Apply_Gif](https://docs.classiq.io/resources/Within_apply_gif.gif)\n",
    "\n",
    "</details>\n",
    "\n",
    "The Prepare state function realizes the initial state preparation step of a quantum algorithm, given a bound for the error and the probabilities of the quantum states. Using [this tutorial](https://docs.classiq.io/latest/qmod-reference/library-reference/core-library-functions/prepare_state_and_amplitudes/prepare_state_and_amplitudes/), one can play with this function."
   ]
  },
  {
   "cell_type": "markdown",
   "id": "09e98443",
   "metadata": {},
   "source": [
    "The objective of our quantum circuit is to define the matrices $U$ and $W$ following the $V = U^{-1} W U$ decomposition used in the Within-Apply function. A quick look on the definition of the LCU operator is enough to identify $U = PREPARE$ and $W = SELECT$. As an example, we will be considering the following SELECT operator:\n",
    "\n",
    "\\begin{equation}\n",
    "    SELECT = |0\\rangle\\langle 0|\\otimes I + |1\\rangle\\langle 1|\\otimes QFT +   |2\\rangle\\langle 2| \\otimes QFT^{-1},\n",
    "\\end{equation}\n",
    "\n",
    "where QFT is the Quantum Fourier Transform operator that acts over the two target qubits, and that the probabilities are $\\alpha = [0.5,0.25,0.25,0]$."
   ]
  },
  {
   "cell_type": "markdown",
   "id": "c01e0f46",
   "metadata": {},
   "source": [
    "Now that the operations are identified, we just need to build them and then use the Within-Apply function. The SELECT operation can be build using the [control](https://docs.classiq.io/latest/qmod-reference/language-reference/statements/control/) statement, and the [QFT function](https://docs.classiq.io/latest/explore/functions/qmod_library_reference/classiq_open_library/qft/qft/):"
   ]
  },
  {
   "cell_type": "code",
   "execution_count": 1,
   "id": "58e277dd",
   "metadata": {},
   "outputs": [],
   "source": [
    "from classiq import *\n",
    "\n",
    "\n",
    "@qfunc\n",
    "def lcu_controllers(controller: QNum, psi: QNum):\n",
    "    control(ctrl=controller == 0, stmt_block=lambda: apply_to_all(IDENTITY, psi))\n",
    "\n",
    "    control(ctrl=controller == 1, stmt_block=lambda: qft(psi))\n",
    "\n",
    "    control(ctrl=controller == 2, stmt_block=lambda: invert(lambda: qft(psi)))"
   ]
  },
  {
   "cell_type": "markdown",
   "id": "2f831874",
   "metadata": {},
   "source": [
    "Using two auxiliary qubits, this sequence of operations can be seen in Classiq's IDE as"
   ]
  },
  {
   "cell_type": "markdown",
   "id": "6c007f00",
   "metadata": {},
   "source": [
    "![LCU_controllers_gif](https://docs.classiq.io/resources/LCU_Controllers_gif.gif)"
   ]
  },
  {
   "cell_type": "markdown",
   "id": "3a05a9eb",
   "metadata": {},
   "source": [
    "With the SELECT function defined, we are able to apply the V operator, by using the Within-Apply function. For this, it is necessary to build the PREPARE operator, which will be done using the inplace_prepare_state() function, that requires the probability distribution $\\alpha$, the maximum error in the decomposition of the operator and the target qubits, which are the controllers. Thus, the sequence of operations we will define in our quantum program is:\n",
    "* Define the error bound in the decomposition, and define the probability distribution $\\alpha$\n",
    "* Allocate target and control qubits\n",
    "* Execute the Within-Apply function, using the PREPARE and SELECT functions"
   ]
  },
  {
   "cell_type": "code",
   "execution_count": 2,
   "id": "82854a21",
   "metadata": {},
   "outputs": [],
   "source": [
    "@qfunc\n",
    "def main(controller: Output[QNum], psi: Output[QNum]):\n",
    "\n",
    "    # Defining the error bound and probability distribution\n",
    "    error_bound = 0.01\n",
    "    controller_probabilities = [0.5, 0.25, 0.25, 0]\n",
    "\n",
    "    # Allocating the target and control qubits, respectively\n",
    "    allocate(2, psi)\n",
    "    allocate(2, controller)\n",
    "\n",
    "    # Executing the Within-Apply function, the SELECT function is defined by lcu_controllers and the PREPARE function is defined by the inplace_prepare_state function.\n",
    "    within_apply(\n",
    "        within=lambda: inplace_prepare_state(\n",
    "            probabilities=controller_probabilities, bound=error_bound, target=controller\n",
    "        ),\n",
    "        apply=lambda: lcu_controllers(controller, psi),\n",
    "    )\n",
    "\n",
    "\n",
    "quantum_model = create_model(main)\n",
    "quantum_program = synthesize(quantum_model)"
   ]
  },
  {
   "cell_type": "markdown",
   "id": "934b1aa9",
   "metadata": {},
   "source": [
    "Your quantum program is done! You can see it using Classiq's IDE with the show() command:"
   ]
  },
  {
   "cell_type": "code",
   "execution_count": 7,
   "id": "262dd6f5",
   "metadata": {},
   "outputs": [
    {
     "name": "stdout",
     "output_type": "stream",
     "text": [
      "Opening: https://platform.classiq.io/circuit/48abc366-3b53-4c29-8bd1-dbe70430bbc8?version=0.42.2\n"
     ]
    }
   ],
   "source": [
    "show(quantum_program)"
   ]
  },
  {
   "cell_type": "markdown",
   "id": "51d3c022",
   "metadata": {},
   "source": [
    "In the IDE, this quantum algorithm would look like this:\n",
    "\n",
    "![LCU_circuit_gif](https://docs.classiq.io/resources/LCU_circuit_gif.gif)"
   ]
  },
  {
   "cell_type": "markdown",
   "id": "c39fe07d",
   "metadata": {},
   "source": [
    "## Mathematical Description\n",
    "\n",
    "The initial state of our circuit is $|0\\rangle|\\Psi\\rangle$, for some general $\\Psi$. After that, the PREPARE operation is applied, transforming it in the state:\n",
    "\n",
    "\\begin{equation}\n",
    "    PREPARE|0\\rangle|\\Psi\\rangle = \\left(\\sum_{i=0}^{2^n-1} \\sqrt{\\frac{|\\alpha_i|}{\\lambda}} |i\\rangle\\right)|\\Psi\\rangle.\n",
    "\\end{equation}\n",
    "\n",
    "\n",
    "We can always represent the PREPARE operation, which acts only in the control qubits, as being:\n",
    "\n",
    "\\begin{equation}\n",
    "    PREPARE = \\sum_{i=0}^{2^n-1} \\sqrt{\\frac{|\\alpha_i|}{\\lambda}} |i\\rangle\\langle 0| + \\sum_{i=0}^{2^n-1}\\sum_{j=1}^{2^n-1} \\beta_{i,j} |i\\rangle\\langle j|,\n",
    "\\end{equation}\n",
    "\n",
    "for some $\\beta_{i,j}$. The SELECT operation, which acts both in the control and target qubits, can also be described this way by\n",
    "\n",
    "\\begin{equation}\n",
    "    SELECT = \\sum_{i=0}^{2^n-1} |i\\rangle\\langle i|\\otimes U_i.\n",
    "\\end{equation}\n",
    "\n",
    "Now, the state generated by $PREPARE^{-1}\\, SELECT\\, PREPARE |0\\rangle|\\psi\\rangle$ is given by:\n",
    "\n",
    "\\begin{equation}\n",
    "    PREPARE^{-1}\\, SELECT\\, PREPARE |0\\rangle|\\psi\\rangle = \\frac{1}{\\lambda}|0\\rangle\\sum_{i=0}^{2^n-1} \\alpha_i \\, U_i |\\Psi\\rangle + \\sum_{j=1}^{2^n-1} \\left( \\sum_{i=0}^{2^n-1} \\beta_{i,j}^*\\right) |j\\rangle\\,U_j |\\Psi\\rangle\n",
    "\\end{equation}\n",
    "\n",
    "When applying the projector $|0\\rangle\\langle 0|$ onto the control qubits, we finally obtain the desired state\n",
    "\n",
    "\\begin{equation}\n",
    "    \\frac{1}{\\lambda}|0\\rangle\\sum_{i=0}^{2^n-1} \\alpha_i \\, U_i |\\Psi\\rangle = |0\\rangle\\frac{A}{\\lambda}|\\Psi\\rangle.\n",
    "\\end{equation}"
   ]
  },
  {
   "cell_type": "markdown",
   "id": "9ebe4500",
   "metadata": {},
   "source": [
    "## The complete code\n",
    "\n",
    "You can see the complete Python version of this code below:"
   ]
  },
  {
   "cell_type": "code",
   "execution_count": 1,
   "id": "03804a1a",
   "metadata": {},
   "outputs": [
    {
     "name": "stdout",
     "output_type": "stream",
     "text": [
      "Opening: https://platform.classiq.io/circuit/98ac673a-a411-44b6-b114-fad6b5eb8f37?version=0.42.2\n"
     ]
    }
   ],
   "source": [
    "from classiq import *\n",
    "\n",
    "\n",
    "@qfunc\n",
    "def lcu_controllers(controller: QNum, psi: QNum):\n",
    "    control(ctrl=controller == 0, stmt_block=lambda: apply_to_all(IDENTITY, psi))\n",
    "\n",
    "    control(ctrl=controller == 1, stmt_block=lambda: qft(psi))\n",
    "\n",
    "    control(ctrl=controller == 2, stmt_block=lambda: invert(lambda: qft(psi)))\n",
    "\n",
    "\n",
    "@qfunc\n",
    "def main(controller: Output[QNum], psi: Output[QNum]):\n",
    "    # Defining the error bound and probability distribution\n",
    "    error_bound = 0.01\n",
    "    controller_probabilities = [0.5, 0.25, 0.25, 0]\n",
    "    # Allocating the target and control qubits, respectively\n",
    "    allocate(2, psi)\n",
    "\n",
    "    allocate(2, controller)\n",
    "    # Executing the Within-Apply function, the SELECT function is defined by lcu_controllers and the PREPARE function is defined by the inplace_prepare_state function.\n",
    "    within_apply(\n",
    "        within=lambda: inplace_prepare_state(\n",
    "            probabilities=controller_probabilities, bound=error_bound, target=controller\n",
    "        ),\n",
    "        apply=lambda: lcu_controllers(controller, psi),\n",
    "    )\n",
    "\n",
    "\n",
    "quantum_model = create_model(main)\n",
    "quantum_program = synthesize(quantum_model)\n",
    "\n",
    "show(quantum_program)"
   ]
  },
  {
   "cell_type": "markdown",
   "id": "440b78bb",
   "metadata": {},
   "source": [
    "## References\n",
    "\n",
    "<a id='childs_paper'>[1]</a>: [Hamiltonian Simulation Using Linear Combinations of Unitary Operations (Andrew M. Childs and Nathan Wiebe)](https://arxiv.org/abs/1202.5822)\n",
    "\n",
    "<a id='childs_notes'>[2]</a>: [Lecture Notes on\n",
    "Quantum Algorithms (Andrew M. Childs)](https://www.cs.umd.edu/~amchilds/qa/qa.pdf)"
   ]
  },
  {
   "cell_type": "code",
   "execution_count": 3,
   "id": "5937706e",
   "metadata": {},
   "outputs": [],
   "source": [
    "write_qmod(quantum_model, \"linear_combination_of_unitaries\")"
   ]
  }
 ],
 "metadata": {
  "kernelspec": {
   "display_name": "Python 3.11.7 ('classiq')",
   "language": "python",
   "name": "python3"
  },
  "language_info": {
   "codemirror_mode": {
    "name": "ipython",
    "version": 3
   },
   "file_extension": ".py",
   "mimetype": "text/x-python",
   "name": "python",
   "nbconvert_exporter": "python",
   "pygments_lexer": "ipython3",
   "version": "3.11.7"
  },
  "vscode": {
   "interpreter": {
    "hash": "529b62266d4f537a408698cf820854c65fe877011c7661f0f70aa11c4383fddc"
   }
  }
 },
 "nbformat": 4,
 "nbformat_minor": 5
}
