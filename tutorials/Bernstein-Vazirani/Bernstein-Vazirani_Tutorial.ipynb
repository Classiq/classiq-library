{
 "cells": [
  {
   "cell_type": "markdown",
   "metadata": {},
   "source": [
    "# Bernstein-Vazirani Algorithm"
   ]
  },
  {
   "cell_type": "markdown",
   "metadata": {},
   "source": [
    "The Bernstein-Vazirani (BV) algorithm [[1](#DJWiki)], named after Ethan Bernstein and Umesh Vazirani, is a fundamental quantum algorithm that demonstrates a linear speed-up compared to its classical counterpart in the oracle complexity setting.\n",
    "\n",
    "**The algorithm addresses the following problem:**\n",
    "\n",
    "- Given an $ n $-bit string $ x $ representing the input of a function $ f:\\{0,1\\}^n \\rightarrow \\{0,1\\} $.\n",
    "- $ f $ is a \"quantum oracle function\" (see NOTE) that takes an $ n $-bit string as input and returns the inner product of the input string and the \"hidden bit string\" $ s $: $ f(x) = x \\cdot s $ for all $ x $, where the inner product is computed modulo 2.\n",
    "\n",
    "\n",
    "Summing-up:\n",
    "\n",
    "**Input:** $ x $, an $ n $-bit string.\n",
    "\n",
    "**Promise:** There exists a hidden $ n $-bit string $ s $ such that $ f(x) = x \\cdot s $ for all $ x $.\n",
    "\n",
    "**Our Goal:** Determine the hidden bit string $ s $ using the minimal number of queries (evaluations) of the oracle function $ f $."
   ]
  },
  {
   "cell_type": "markdown",
   "metadata": {},
   "source": [
    "<details>\n",
    "<summary> NOTE on oracle function</summary>\n",
    "    \n",
    "For the sake of this tutorial you could think of oracle function as \"black-box\" function, but we include here little elaboration:\n",
    "    \n",
    "The standard way [[2](#NielsenChuang)] of applying a classical function $f:\\{0,1\\}^n \\rightarrow \\{0,1\\}$ on quantum states is with the oracle model: \n",
    "$\\begin{equation}\n",
    "O_f (\\ket{x}_n\\ket{y}_1) = \\ket{x}_n\\ket{y \\oplus f(x)}_1\n",
    "\\end{equation}$\n",
    "with $\\ket{x}$ and $\\ket{y}$ being the argument and target quantum states respectively, and $\\oplus$ being affition modolu $2$, or the XOR operation. BV algorithm takes the oracle $O_f$ as an input, and performs the follwoing operation:\n",
    "$\\begin{equation}\n",
    "\\ket{x}\\rightarrow (-1)^{f(x)}\\ket{x}\n",
    "\\end{equation}$\n",
    "This can obviously be applied on a superposition of states such that:\n",
    "$\\begin{equation}\n",
    "\\sum_{i=0}^{2^n-1}\\alpha_i\\ket{x_i}\\rightarrow (-1)^{f(x_i)}\\alpha_i\\ket{x_i}\n",
    "\\end{equation}$\n",
    "with $\\alpha_i$ being the amplitude of the $\\ket{x_i}$ state.\n",
    "\n",
    "How this is happening? It's quite simple actually (hence the beuty of it), all needed is to apply the oracle $O_f$ on the state target quantum state $\\ket{-}=\\frac{1}{\\sqrt{2}}\\ket{0}-\\frac{1}{\\sqrt{2}}\\ket{1}$ such that:\n",
    "$\\begin{equation}\n",
    "O_f\\ket{x}\\ket{-} = (-1)^{f(x)}\\ket{x}\\ket{-}\n",
    "\\end{equation}$\n",
    "and then effectively the desired transformation $\\ket{x}\\rightarrow (-1)^{f(x)}\\ket{x}$ is achieved.\n",
    "\n",
    "<div style=\"text-align:center;\">\n",
    "    <img src=\"https://classiq-docs-images.s3.amazonaws.com/phase_kickback_high_level.png\" alt=\"Phase Kickback High Level\" />\n",
    "</div>\n",
    "</details>"
   ]
  },
  {
   "cell_type": "markdown",
   "metadata": {},
   "source": [
    "**The best classical solution** for this problem typically requires $ n $ evaluations of the function $ f $ to determine the hidden bit string $ s $. This scenario arises when the input bit string $ x $ consists of $ n-1 $ zeros and a single one, which systematically shifts across all positions in the string to explore all possible linear combinations. \n",
    "\n",
    "For example, the first evaluation would set $ x = 100...0 $, the second evaluation $ x = 010...0 $, and so on."
   ]
  },
  {
   "cell_type": "markdown",
   "metadata": {},
   "source": [
    "**In contrast to the classical solution, the quantum solution requires only single query!**"
   ]
  },
  {
   "cell_type": "markdown",
   "metadata": {},
   "source": [
    "Let's see how this actually works! (Go to the [Mathemtaical Description](#mathematical-description) for full mathematical description)"
   ]
  },
  {
   "cell_type": "markdown",
   "metadata": {},
   "source": [
    "**Classiq Concepts**\n",
    "* [Within-Apply](htthttps://docs.classiq.io/latest/user-guide/platform/qmod/language-reference/statements/within-apply/?h=with)\n",
    "* [Classical Control Flow (repeat, if_)](https://docs.classiq.io/latest/user-guide/platform/qmod/language-reference/statements/classical-control-flow/?h=repea#__tabbed_1_2)"
   ]
  },
  {
   "cell_type": "markdown",
   "metadata": {},
   "source": [
    "## Guided Implementation"
   ]
  },
  {
   "cell_type": "markdown",
   "metadata": {},
   "source": [
    "**The quantum solution that exploits the advantage goes by the following steps:**\n",
    "1. Preper an uniform superposition in the input state $ x $ using `hadamard_transform`\n",
    "2. `Apply` oracle function $ f $ `Within` $ \\ket{-} $ \n",
    "3. Apply again uniform superposition on the registers of $ x $"
   ]
  },
  {
   "cell_type": "markdown",
   "metadata": {},
   "source": [
    "The first and last steps could be easily done in the 'main' function using the Classiq's built-in\" `hadamard_transform()`. The second step is the more complex one. Let's break it down, putting in mind that Classiq as in any proper devleoping platform, it is recomended **to think and design your code on the functional level in terms of functions**."
   ]
  },
  {
   "cell_type": "markdown",
   "metadata": {},
   "source": [
    "Directed by this note, we can implement one function at a time and then connect them. \n",
    "\n",
    "Let's start implementing! "
   ]
  },
  {
   "cell_type": "markdown",
   "metadata": {},
   "source": [
    "The main building-block in our implementation will use `within_apply`. This Classiq function performs the common quantum pattern: $ U^{\\dagger}VU $.\n",
    "This function contains two nested statement blocks, the compute block and the action block, and evaluates the sequence: compute ($ U $), action ($ V $), and invert(compute) ($ U^{\\dagger} $).\n",
    "\n",
    "\n",
    "<!-- The quantum objectsthat  are allocated and prepared by the compute block are subsequently un-computed and released. -->"
   ]
  },
  {
   "cell_type": "markdown",
   "metadata": {},
   "source": [
    "By the Algorithm, $ U $ is chosen to be `prepare_minus` on auxiliary qubit, while $ V $ is the unitary oracle operator ($ O_f $) that implements the function  $ f $."
   ]
  },
  {
   "cell_type": "markdown",
   "metadata": {},
   "source": [
    "We start with the prepare $\\ket{-}$ building block implemented with the `prepare_minus` function. It is implemented by sequentially applying the `X` (NOT) gate that transforms $\\ket{0}$ into $X\\ket{0}=\\ket{1}$, and then applying the Hadamard `H` gate that takes the $\\ket{1}$ state into the desired $H\\ket{1}=\\ket{-}$ state:"
   ]
  },
  {
   "cell_type": "code",
   "execution_count": 1,
   "metadata": {},
   "outputs": [],
   "source": [
    "from classiq import H, Output, QBit, X, allocate, qfunc\n",
    "\n",
    "@qfunc\n",
    "def prepare_minus(target: Output[QBit]):\n",
    "    allocate(out=target, num_qubits=1)\n",
    "    X(target)\n",
    "    H(target)"
   ]
  },
  {
   "cell_type": "markdown",
   "metadata": {},
   "source": [
    "<div style=\"text-align:center;\">\n",
    "    <img src=\"https://classiq-docs-images.s3.amazonaws.com/phase_kickback_prepare_minus.gif\" alt=\"Phase Kickback High Level\" />\n",
    "</div>"
   ]
  },
  {
   "cell_type": "markdown",
   "metadata": {},
   "source": [
    "The next step would be implementing the oracle operator ($ O_f $) that implements the function  $ f $.\n",
    "\n",
    "It is possible to implement $ O_f $ using auxiliary qubit that registers the value of $ f(x) $ by following this logic:\n",
    "* For each $s_i =1$ we apply $ X $ gate on the auxiliary $ \\ket{f} $, controlled by $ \\ket{x_i} $.\n",
    "* If $ s_i=0 $ we do nothing, which is equivalent to applying `IDENTITY` function.\n",
    "\n",
    "<!-- $ \\ket{f} $, initiated as $ \\ket{f}=\\ket{0} $, \"sandwiched\" within `prepare_minus`,and finally we  -->"
   ]
  },
  {
   "cell_type": "code",
   "execution_count": 2,
   "metadata": {},
   "outputs": [],
   "source": [
    "from classiq import QParam, QArray, repeat, if_, CX, IDENTITY\n",
    "from classiq.qmod.symbolic import floor\n",
    "\n",
    "@qfunc\n",
    "def oracle_function(s: QParam[int], x: QArray, res: QBit): \n",
    "\n",
    "    repeat(\n",
    "        count=x.len,\n",
    "        iteration=lambda i: if_(\n",
    "            condition=floor(s / 2**i) % 2 == 1, then=lambda: CX(x[i], res), else_=lambda: IDENTITY(res)\n",
    "        ))\n"
   ]
  },
  {
   "cell_type": "markdown",
   "metadata": {},
   "source": [
    "* Here, the \"oracle_function\" employs the `repeat` construct to execute the logic described earlier $ n $ times (length of $ x $), as specified by the parameter 'count'.\n",
    "* Within each iteration of the `repeat` loop, we utilize the `if_` statement, which parallels the conventional Python 'if' statement. It comprises the attributes: 'condition', 'then', and 'else_', which mirror the structure of an if-else statement in native Python."
   ]
  },
  {
   "cell_type": "markdown",
   "metadata": {},
   "source": [
    "Loops and conditions are the bread and butter of classical computation. In QMOD, the Classiq native language accessed through Classiq's Python SDK, we employ the same concepts with `repeat` and `if_` statements, serving as a means of **[Classical Control Flow](https://docs.classiq.io/latest/user-guide/platform/qmod/language-reference/statements/classical-control-flow/?h=repea#__tabbed_1_2)**. These are handy tools for describing reusable building blocks."
   ]
  },
  {
   "cell_type": "markdown",
   "metadata": {},
   "source": [
    "<div style=\"text-align:center;\">\n",
    "    <img src=\"https://drive.google.com/file/d/10BXQ20615dugGhCQkdZ2Fg2xtLcX9Jgh/view?usp=drive_link\" alt=\"oracle_function\" />\n",
    "</div>"
   ]
  },
  {
   "cell_type": "markdown",
   "metadata": {},
   "source": [
    "The 'condition' might look confusing in first glance, but actually all it does is implementing the above mentioned logic examining the value of $ s_i \\in \\{0,1\\}$ in order to apply the appropriate gate.\n",
    "\n",
    "Let's break it down:\n",
    "\n",
    "1. $ \\text{floor}(s / 2^i) $ divides the secret integer $ s $ by $ 2^i $, effectively shifting the bits of $ s $ $ i $ positions to the right in the binary representation.\n",
    "\n",
    "2. Taking the result modulo 2 then extracts the rightmost bit of the resulting number.\n",
    "\n",
    "3. If the extracted bit is 1, it indicates that the $ i $-th bit of the binary representation of $ s $ is indeed 1.\n",
    "\n",
    "**To Validate! + Maybe to give little example? Another way to simplify this part** "
   ]
  },
  {
   "cell_type": "markdown",
   "metadata": {},
   "source": [
    "We are almost done! \n",
    "Now we have all we need in order to set 'bv_function' using `within_apply` as earlier discussed:"
   ]
  },
  {
   "cell_type": "code",
   "execution_count": 3,
   "metadata": {},
   "outputs": [],
   "source": [
    "from classiq import within_apply\n",
    "\n",
    "@qfunc\n",
    "def bv_function(s: QParam[int], x: QArray):\n",
    "\n",
    "    aux = QBit(\"aux\")\n",
    "    within_apply(lambda: prepare_minus(aux), lambda: oracle_function(s, x, aux))\n",
    "\n"
   ]
  },
  {
   "cell_type": "markdown",
   "metadata": {},
   "source": [
    "Here, we begin by initializing an auxiliary qubit called \"aux\". Then, we leverage `within_apply` ([learn more](https://nightly.docs.classiq.io/latest/user-guide/platform/qmod/language-reference/statements/within-apply/)), as previously discussed: $ U=$ prepare_minus(aux) and $ V=$f_logic(s, x, aux).\n"
   ]
  },
  {
   "cell_type": "markdown",
   "metadata": {},
   "source": [
    "<div style=\"text-align:center;\">\n",
    "    <img src=\"\" alt=\"oracle_function\" />\n",
    "</div>"
   ]
  },
  {
   "cell_type": "markdown",
   "metadata": {},
   "source": [
    "Finally, Let's put all our buildin blocks together, in our main function:"
   ]
  },
  {
   "cell_type": "code",
   "execution_count": 4,
   "metadata": {},
   "outputs": [],
   "source": [
    "from classiq import H, X, hadamard_transform\n",
    "\n",
    "@qfunc\n",
    "def main(x: Output[QArray]):\n",
    "    \n",
    "    allocate(STRING_LENGTH, x)\n",
    "    \n",
    "    hadamard_transform(x)\n",
    "    bv_function(SECRET_INT, x)\n",
    "    hadamard_transform(x)"
   ]
  },
  {
   "cell_type": "markdown",
   "metadata": {},
   "source": [
    "Let's check what we have created!"
   ]
  },
  {
   "cell_type": "code",
   "execution_count": 5,
   "metadata": {},
   "outputs": [],
   "source": [
    "# Input values:\n",
    "SECRET_INT = 13\n",
    "STRING_LENGTH = 5\n",
    "NUM_SHOTS = 1\n"
   ]
  },
  {
   "cell_type": "markdown",
   "metadata": {},
   "source": [
    "Note that number of shots can be set to 1, under the assumption of noiseless execution!"
   ]
  },
  {
   "cell_type": "code",
   "execution_count": 6,
   "metadata": {},
   "outputs": [],
   "source": [
    "# Making sure our input makes sense:\n",
    "import numpy as np\n",
    "\n",
    "assert (\n",
    "    np.floor(np.log2(SECRET_INT) + 1) <= STRING_LENGTH\n",
    "), \"The STRING_LENGTH cannot be smaller than secret string length\""
   ]
  },
  {
   "cell_type": "markdown",
   "metadata": {},
   "source": [
    "Execution:"
   ]
  },
  {
   "cell_type": "code",
   "execution_count": 7,
   "metadata": {},
   "outputs": [
    {
     "name": "stdout",
     "output_type": "stream",
     "text": [
      "Opening: https://platform.classiq.io/circuit/33497544-ae91-431e-90e3-7899acc38f57?version=0.39.0\n"
     ]
    }
   ],
   "source": [
    "from classiq import create_model, synthesize, show\n",
    "from classiq.execution import ExecutionPreferences \n",
    "\n",
    "\n",
    "\n",
    "# Creating model, using `ExecutionPreferences` of our desired number of shots:\n",
    "qmod = create_model(main, execution_preferences=ExecutionPreferences(num_shots=NUM_SHOTS))\n",
    "\n",
    "# Synthesizing optimized circuit (quantum program) out of our model at Classiq's backend:\n",
    "qprog = synthesize(qmod)\n",
    "\n",
    "# Showing the quantum program using Classiq's visualizer \n",
    "show(qprog)"
   ]
  },
  {
   "cell_type": "markdown",
   "metadata": {},
   "source": [
    "Before executing our program and making sure it’s actually works, play with Classiq's super cool visualization tool!\n",
    "It's very convenient to see the defrent building blocks and hierarchies in the program."
   ]
  },
  {
   "cell_type": "markdown",
   "metadata": {},
   "source": [
    "**To Edit**\n",
    "<div style=\"text-align:center;\">\n",
    "    <img src=\"https://classiq-docs-images.s3.amazonaws.com/phase_kickback_hadamrd_tansform.gif\" alt=\"Phase Kickback High Level\" />\n",
    "</div>"
   ]
  },
  {
   "cell_type": "markdown",
   "metadata": {},
   "source": [
    "Now let's varify that our quantum program actually does what we expect it to do. Remember - the binary string represents the `SECRET_INT`, which is $ 01101 $ in our case. Classiq's analyzer will also interpret the result in its decimal representation, saving you the some post processing and left-to-right/ right-to-left confusion which might occur when executing on different HW backends with diffrent convensions.\n",
    "\n",
    "In order to check this we will use the built-in Classiq state vector simulator from the IDE:"
   ]
  },
  {
   "cell_type": "markdown",
   "metadata": {},
   "source": [
    "**To Edit**\n",
    "\n",
    "<div style=\"text-align:center;\">\n",
    "    <img src=\"https://classiq-docs-images.s3.amazonaws.com/phase_kickback_result.gif\" alt=\"Phase Kickback High Level\" />\n",
    "</div>"
   ]
  },
  {
   "cell_type": "markdown",
   "metadata": {},
   "source": [
    "**We received the expected result!**\n",
    "\n",
    "Using only one approximation of the function, we demonstrated the hidden power within quantum computation. \\\n",
    "As mentioned before, the best classical calculation would have take `STRING_LENGTH` approximations to classical computer."
   ]
  },
  {
   "cell_type": "markdown",
   "metadata": {},
   "source": [
    "## Mathematical Description - To Edit "
   ]
  },
  {
   "cell_type": "markdown",
   "metadata": {},
   "source": [
    "Here's the Bernstein-Vazirani algorithm described mathematically:\n",
    "\n",
    "Our starting point is by definition the $ n $ dimensional zero state:\n",
    "\n",
    "$$\n",
    "\\ket{0}^{\\otimes n} =\\ket{00 . . . 0}\n",
    "$$\n",
    "\n",
    "The first step in the algorithm is to apply a Hadamard gate to each qubit:\n",
    "\n",
    "$$\n",
    "H^{\\otimes n} \\ket{0}^{\\otimes n} = \\ket{+}^{\\otimes n} = \\frac{1}{\\sqrt{2^n}} \\sum_{x=0}^{2^n-1} \\ket{x} \\equiv \\ket{X}\n",
    "$$\n",
    "\n",
    "When $ \\ket{x} $ is the integers basis in binary representation.\n",
    "\n",
    "Then, we apply the oracle $ O_f $ by definition:\n",
    "\n",
    "$$\n",
    "O_f (\\ket{x}\\ket{-}) =\\frac{1}{\\sqrt2}[O_f(\\ket{x}\\ket{0})-O_f(\\ket{x}\\ket{1})] =(-1)^{f(x)}\\ket{x}\\ket{-}\n",
    "$$\n",
    "\n",
    "The state $\\ket{-}$ is the state of the auxiliary qubit in our code. The value of $f(x)$, $1$ or $0$ determine whether there is phase flip or not correspondingly.\n",
    "\n",
    "Check also the NOTE at the beginning of the notebook and the quantum oracle tutorial (**To Add**).\n",
    "\n",
    "We actually apply the oracle on the state $\\ket{X}$, and not on the superposition component $\\ket{x}$, so we get the state:\n",
    "\n",
    "$$\n",
    "\\ket{-}(-1)^{f(x)} \\ket{X}  = \\ket{-}(-1)^{f(x)} \\frac{1}{\\sqrt{2^n}}  \\sum_{x \\in \\{0,1\\}^n} \\ket{x}\n",
    "$$\n",
    "\n",
    "Now after applying the oracle, we apply Hadamard gates again to each qubit except the auxiliary qubit which could be left aside:\n",
    "\n",
    "$$\n",
    "H^{\\otimes n} (-1)^{f(x)} \\frac{1}{\\sqrt{2^n}}  \\sum_{x \\in \\{0,1\\}^n} \\ket{x} = (-1)^{f(x)} \\frac{1}{\\sqrt{2^n}}  \\sum_{x \\in \\{0,1\\}^n} H^{\\otimes n}\\ket{x}\n",
    "=  \\frac{1}{2^n} \\sum_{x,y\\in \\{0,1\\}^n} (-1)^{f(x)+x \\cdot y} \\ket{y} =  \\frac{1}{2^n} \\sum_{x,y\\in \\{0,1\\}^n} (-1)^{x \\cdot (s \\oplus y)} \\ket{y} \\equiv \\ket{s}\n",
    "$$\n",
    "\n",
    "We obtain $ \\ket{s} $ because for each $ \\ket{y} $, the coefficient is equal to 1 only if $ s \\oplus y = \\vec{0} $. Otherwise, the coefficient is 0.\n",
    "\n",
    "Note that $ s \\oplus y = \\vec{0} $ occurs only when $ s = y $, meaning only one component contributes to the sum. This component is $ \\ket{y} = \\ket{s} $ with a coefficient of 1.\n"
   ]
  },
  {
   "cell_type": "markdown",
   "metadata": {},
   "source": [
    "## All Code Together"
   ]
  },
  {
   "cell_type": "markdown",
   "metadata": {},
   "source": [
    "Python version:"
   ]
  },
  {
   "cell_type": "code",
   "execution_count": null,
   "metadata": {},
   "outputs": [],
   "source": [
    "# BV From git:\n",
    "from classiq import *\n",
    "from classiq.execution import ExecutionPreferences\n",
    "from classiq.qmod.symbolic import floor\n",
    "\n",
    "\n",
    "\n",
    "@qfunc\n",
    "def prepare_minus(target: Output[QBit]):\n",
    "    allocate(out=target, num_qubits=1)\n",
    "    X(target)\n",
    "    H(target)\n",
    "\n",
    "\n",
    "@qfunc\n",
    "def bv_predicate(a: QParam[int], x: QArray, res: QBit):\n",
    "\n",
    "    repeat(\n",
    "        x.len,\n",
    "        lambda i: if_(\n",
    "            floor(a / 2**i) % 2 == 1, lambda: CX(x[i], res), lambda: IDENTITY(res)\n",
    "        ),\n",
    "    )\n",
    "\n",
    "\n",
    "\n",
    "\n",
    "@qfunc\n",
    "def bv_function(a: QParam[int], x: QArray):\n",
    "\n",
    "    aux = QBit(\"aux\")\n",
    "    within_apply(\n",
    "        lambda: prepare_minus(aux), lambda: bv_predicate(a, x, aux)\n",
    "    )\n",
    "\n",
    "SECRET_INT = 5\n",
    "STRING_LENGTH = 5\n",
    "NUM_SHOTS = 1000\n",
    "\n",
    "\n",
    "@qfunc\n",
    "def main(x: Output[QArray]):\n",
    "    allocate(STRING_LENGTH, x)\n",
    "    hadamard_transform(x)\n",
    "    bv_function(SECRET_INT, x)\n",
    "    hadamard_transform(x)\n",
    "\n",
    "qmod = create_model(\n",
    "    main, execution_preferences=ExecutionPreferences(num_shots=NUM_SHOTS)\n",
    ")\n",
    "qprog = synthesize(qmod)\n",
    "show(qprog)"
   ]
  },
  {
   "cell_type": "markdown",
   "metadata": {},
   "source": [
    "Native QMOD version:"
   ]
  },
  {
   "cell_type": "markdown",
   "metadata": {},
   "source": [
    "\n",
    "```\n",
    "// Bernstein-Vazirani Algorithm \n",
    "\n",
    "qfunc bv_predicate<a: int>(x: qbit[], res: qbit) {\n",
    "\n",
    "repeat<len(x), lambda<index>() {\n",
    "\n",
    "if<(floor(a / (2 ** index)) % 2) == 1, lambda() {\n",
    "\n",
    "CX(x[0 + (index):(0 + (index)) + 1], res);\n",
    "\n",
    "}, lambda() {\n",
    "\n",
    "IDENTITY(res);\n",
    "\n",
    "}>();\n",
    "\n",
    "}>();\n",
    "\n",
    "}\n",
    "\n",
    "qfunc bv_function<a: int>(x: qbit[]) {\n",
    "\n",
    "aux: qbit;\n",
    "\n",
    "hadamard_transform(x);\n",
    "\n",
    "within {\n",
    "\n",
    "allocate<1>(aux);\n",
    "\n",
    "X(aux);\n",
    "\n",
    "H(aux);\n",
    "\n",
    "} apply {\n",
    "\n",
    "bv_predicate<a>(x, aux);\n",
    "\n",
    "}\n",
    "\n",
    "hadamard_transform(x);\n",
    "\n",
    "}\n",
    "\n",
    "qfunc main(output x: qbit[]) {\n",
    "\n",
    "allocate<5>(x);\n",
    "\n",
    "bv_function<13>(x);\n",
    "\n",
    "}\n",
    "\n",
    "\n",
    "```"
   ]
  },
  {
   "cell_type": "markdown",
   "metadata": {},
   "source": [
    "## References"
   ]
  },
  {
   "cell_type": "markdown",
   "metadata": {},
   "source": [
    "<a id='DJWiki'>[1]</a>: [Bernstein–Vazirani algorithm (Wikipedia)](https://en.wikipedia.org/wiki/Bernstein%E2%80%93Vazirani_algorithm)\n",
    "\n",
    "<a id='Nielsen&Chunag'>[2]</a>: [Quantum Computation and Quantum Information (Michael Nielsen and Isaac Chuang)](https://en.wikipedia.org/wiki/Quantum_Computation_and_Quantum_Information)\n",
    "\n",
    "<a id='Wolf'>[3]</a>: [Quantum Computing:\n",
    "Lecture Notes (Ronald de Wolf)](https://homepages.cwi.nl/~rdewolf/qcnotes.pdf)\n",
    "\n"
   ]
  }
 ],
 "metadata": {
  "kernelspec": {
   "display_name": "Python 3 (ipykernel)",
   "language": "python",
   "name": "python3"
  },
  "language_info": {
   "codemirror_mode": {
    "name": "ipython",
    "version": 3
   },
   "file_extension": ".py",
   "mimetype": "text/x-python",
   "name": "python",
   "nbconvert_exporter": "python",
   "pygments_lexer": "ipython3",
   "version": "3.11.8"
  },
  "vscode": {
   "interpreter": {
    "hash": "529b62266d4f537a408698cf820854c65fe877011c7661f0f70aa11c4383fddc"
   }
  }
 },
 "nbformat": 4,
 "nbformat_minor": 4
}
