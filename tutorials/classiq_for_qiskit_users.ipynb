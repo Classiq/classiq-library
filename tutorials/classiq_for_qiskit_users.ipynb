{
 "cells": [
  {
   "cell_type": "markdown",
   "metadata": {},
   "source": [
    "## Classiq for Qiskit Users"
   ]
  },
  {
   "cell_type": "markdown",
   "metadata": {},
   "source": [
    "Welcome to the \"Classiq for Qiskit Users\" tutorial. This guide is designed for users already familiar with Qiskit and are looking to seamlessly transition to Classiq to build quantum algorithms with a higher-level functional design that enables developers to focus on the quantum program rather than a quantum circuit using the four pillars: Design, Optimize, Analyze, Execute."
   ]
  },
  {
   "cell_type": "markdown",
   "metadata": {},
   "source": [
    "<details markdown>\n",
    "<summary markdown> New to Classiq? </summary>\n",
    "If you're new to Classiq, we highly recommend you to check out our <a href=\"https://docs.classiq.io/latest/classiq_101/\">Classiq 101</a> guide to get started!"
   ]
  },
  {
   "cell_type": "markdown",
   "metadata": {},
   "source": [
    "#### Table of Contents\n",
    "\n",
    "1. [Key Differences between Qiskit and Classiq](#section1)\n",
    "    1.1 Hello World :bell state preparation\n",
    "    1.2. similarities:\n",
    "     how we for eg apply gate\n",
    "    qc.operation(qubit#) qiskit\n",
    "    classqiq how we apply H gate\n",
    "\n",
    "2. [Building Blocks of Quantum Algorithms (with Simple Exercises)](#section2)\n",
    "\n",
    "    2.1 Preparing the initial state Q vs C\n",
    "        2.1.1 Exercise: Prepare a minus state \n",
    "    2.2 Constructing an oracle Q vs C\n",
    "        2.2.1 Exercise: Construct an oracle such that $f(x)$\n",
    "    2.3 Transpilation\n",
    "    2.4 Changing computational basis\n",
    "    2.5 Exporting quantum programs\n",
    "    2.6 Unique Advantage of Classiq: Optimization\n",
    "        2.6.1 Example: Optimizing for Depth\n",
    "\n",
    "3. [Quantum Algorithms](#section3)\n",
    "    3.1 Phase Kickback \n",
    "        3.1.1 Phase Kickback in Qiskit\n",
    "        3.1.2 Phase Kickback in Classiq\n",
    "\n",
    "4. [Appendix Notes](#section4) QEC and Mid measurement are not enabled using Classiq"
   ]
  },
  {
   "cell_type": "markdown",
   "metadata": {},
   "source": [
    "<a id=\"section1\"></a> 1. Key Differences between Qiskit and Classiq"
   ]
  },
  {
   "cell_type": "markdown",
   "metadata": {},
   "source": [
    "##### 1.1 Key Differences \n",
    "Qiskit, as we know is designed to be a python SDK for quantum programming, which start with qubits and functions which aggregate these qubits with logical quantum gates to build quantum circuits. Classiq on the other hand offers an advantage of designing quantum algorithms without being tied to circuits. How? By using a higher-level functional design. In Classiq, quantum algorithms can be built using functions which contain native primitives and datatypes like QNum and QArray, which all then culminate in a main function. In addition to its python SDK, Classiq offers a native language, QMod which is how our quantum algorithm written in python connects with the easy-to-use visual Classiq platform for synthesis, optimization, analysis, and execution. This in turn also offers quantum experts flexible design and deep optimization of quantum programs for specific implementations."
   ]
  },
  {
   "cell_type": "markdown",
   "metadata": {},
   "source": [
    "##### 1.1.2 Hello World"
   ]
  },
  {
   "cell_type": "markdown",
   "metadata": {},
   "source": [
    "Welcome to the Classiq World!"
   ]
  },
  {
   "cell_type": "markdown",
   "metadata": {},
   "source": [
    "##### 1.1.3 Visualization"
   ]
  },
  {
   "cell_type": "markdown",
   "metadata": {},
   "source": [
    "One of the most useful visualization tools used in quantum computing is histogram to see observe and analyse the measurement results. While Qiskit has a separate sub-package <code>qiskit.visualization</code>, part of their SDK, Classiq has a seamless Jobs page which is automatically show after the user executes their quantum program. Let's explore how we can arrive at a measurement result in the histogram form with Qiskit and Classiq. The example program we'll use is that which uses two qubits to create an entangled state (a Bell state)."
   ]
  },
  {
   "cell_type": "code",
   "execution_count": null,
   "metadata": {},
   "outputs": [],
   "source": [
    "from qiskit import QuantumCircuit, Aer, execute\n",
    "from qiskit.visualization import plot_histogram\n",
    "import matplotlib.pyplot as plt\n",
    "\n",
    "# Create a Quantum Circuit with two qubits and two classical bits\n",
    "qc = QuantumCircuit(2, 2)\n",
    "\n",
    "# Apply Hadamard gate to the first qubit\n",
    "qc.h(0)\n",
    "\n",
    "# Apply CNOT gate (control is qubit 0, target is qubit 1)\n",
    "qc.cx(0, 1)\n",
    "\n",
    "# Measure both qubits\n",
    "qc.measure([0, 1], [0, 1])\n",
    "\n",
    "# Visualize the circuit\n",
    "qc.draw('mpl')\n",
    "plt.show()\n",
    "\n",
    "# Use Aer's qasm_simulator\n",
    "simulator = Aer.get_backend('qasm_simulator')\n",
    "\n",
    "# Execute the circuit on the qasm simulator\n",
    "job = execute(qc, simulator, shots=1024)\n",
    "\n",
    "# Grab results from the job\n",
    "result = job.result()\n",
    "\n",
    "# Get the counts (measurement results)\n",
    "counts = result.get_counts(qc)\n",
    "print(\"\\nMeasurement results:\", counts)\n",
    "\n",
    "# Plot a histogram of the results\n",
    "plot_histogram(counts)\n",
    "plt.show()"
   ]
  },
  {
   "cell_type": "markdown",
   "metadata": {},
   "source": [
    "##### 1.1.4 Decomposition"
   ]
  },
  {
   "cell_type": "markdown",
   "metadata": {},
   "source": [
    "Decomposition is the method of scientifically breaking down a given quantum program into smaller computational operations or components. This is useful for investigation of quantum programs as well as for optmization techniques for specific quantum implementations. Let's now see how we can perform decomposition in Qiskit and how it's possible through Classiq in just a click of an interactive button! We will consider the Quantum Fourier Transform to understand hands-on how to perform decomposition."
   ]
  },
  {
   "cell_type": "code",
   "execution_count": null,
   "metadata": {},
   "outputs": [],
   "source": [
    "# Decomposition in Qiskit\n",
    "\n",
    "from numpy import pi\n",
    "\n",
    "def qft_rotations(circuit, n):\n",
    "    if n == 0: # Exit function if circuit is empty\n",
    "        return circuit\n",
    "    n -= 1 # Indexes start from 0\n",
    "    circuit.h(n) # Apply the H-gate to the most significant qubit\n",
    "    for qubit in range(n):\n",
    "        # For each less significant qubit, we need to do a\n",
    "        # smaller-angled controlled rotation: \n",
    "        circuit.cp(pi/2**(n-qubit), qubit, n)\n",
    "\n",
    "qc = QuantumCircuit(4)\n",
    "qft_rotations(qc,4)\n",
    "qc.draw()\n",
    "\n",
    "decomposed_circuit = qc.decompose()\n",
    "print(\"Decomposed QFT Circuit:\")\n",
    "decomposed_circuit.draw(output='mpl').show()"
   ]
  },
  {
   "cell_type": "markdown",
   "metadata": {},
   "source": [
    "Add the video here for Classiq"
   ]
  },
  {
   "cell_type": "markdown",
   "metadata": {},
   "source": [
    "##### 1.2 Similarities"
   ]
  },
  {
   "cell_type": "markdown",
   "metadata": {},
   "source": [
    "One of the key similarities between Qiskit and Classiq lies in how we apply unitary operations or gates on qubits, although within the construct of Qiskit, gates are applied on qubits which are part of a circuit whereas in Classiq, it's a higher level function. Let's look at a simple example:"
   ]
  },
  {
   "cell_type": "code",
   "execution_count": null,
   "metadata": {},
   "outputs": [],
   "source": [
    "# Qiskit \n",
    "\n",
    "qc = QuantumCircuit(1)\n",
    "qc.h(0) # applying $H$ on the qubit\n",
    "qc.y(0)"
   ]
  },
  {
   "cell_type": "code",
   "execution_count": 14,
   "metadata": {},
   "outputs": [],
   "source": [
    "# Classiq\n",
    "\n",
    "@qfunc\n",
    "def operation(out: Output[QBit]):\n",
    "    allocate(1, out) # initializing one qubit\n",
    "    H(out)\n",
    "    Y(out)\n",
    "\n",
    "# To test this code, you may write a main function\n",
    "    "
   ]
  },
  {
   "cell_type": "markdown",
   "metadata": {},
   "source": [
    "<a id=\"section2\"></a>2. Building Blocks of Quantum Algorithms"
   ]
  },
  {
   "cell_type": "markdown",
   "metadata": {},
   "source": [
    "In this section of the tutorial, we will explore some building blocks of quantum computing, some of which will act as tools for building quantum algorithms discussed in the next section. We will also do some simple and fun exercises to get a hands-on understanding of how to program with Classsiq SDK!"
   ]
  },
  {
   "cell_type": "markdown",
   "metadata": {},
   "source": [
    "##### 2.1 Preparing the initial state"
   ]
  },
  {
   "cell_type": "markdown",
   "metadata": {},
   "source": [
    "Let's prepare the $|+\\rangle$ state using Qiskit and see how the process is different with Classiq:"
   ]
  },
  {
   "cell_type": "code",
   "execution_count": null,
   "metadata": {},
   "outputs": [],
   "source": [
    "\n",
    "from qiskit import QuantumCircuit\n",
    "\n",
    "# Create a quantum circuit with 1 qubit\n",
    "qc = QuantumCircuit(1)\n",
    "\n",
    "# Initialize the qubit to the |+> state\n",
    "qc.h(0)\n"
   ]
  },
  {
   "cell_type": "markdown",
   "metadata": {},
   "source": [
    "What we do here in qiskit is to apply the Hadamard gate <code>(qc.h(0))</code> to the qubit which we know creates a superposition of $|0\\rangle$ and $|1\\rangle$ states, resulting in the $|+\\rangle$ state. Now, let's see how to prepare this state using Classiq."
   ]
  },
  {
   "cell_type": "code",
   "execution_count": null,
   "metadata": {},
   "outputs": [],
   "source": [
    "from classiq import *\n",
    "\n",
    "@qfunc\n",
    "def prepare_plus_state(out: Output[QBit]):\n",
    "    allocate(1, out)\n",
    "    H(out)"
   ]
  },
  {
   "cell_type": "markdown",
   "metadata": {},
   "source": [
    "This gives us an advantage of abstraction from using a lower level circuit entities as our building blocks and allows for repeated usage of this state preparation at various points in your quantum program."
   ]
  },
  {
   "cell_type": "markdown",
   "metadata": {},
   "source": [
    "##### 2.1.1 Exercise"
   ]
  },
  {
   "cell_type": "markdown",
   "metadata": {},
   "source": [
    "Write a function that prepares the minus state $\\ket{-}=\\frac{1}{\\sqrt2}(\\ket{0}-\\ket{1})$, assuming it recives the qubit $\\ket{x}=\\ket{0}$"
   ]
  },
  {
   "cell_type": "markdown",
   "metadata": {},
   "source": [
    "<details>\n",
    "<summary>\n",
    "HINT\n",
    "</summary>\n",
    "\n",
    "Use `H(x)`,`X(x)`\n",
    "</details>"
   ]
  },
  {
   "cell_type": "markdown",
   "metadata": {},
   "source": [
    "Solution:"
   ]
  },
  {
   "cell_type": "code",
   "execution_count": null,
   "metadata": {},
   "outputs": [],
   "source": [
    "@qfunc\n",
    "def prepare_minus_state(x:QBit):\n",
    "    X(x)\n",
    "    H(x)"
   ]
  },
  {
   "cell_type": "markdown",
   "metadata": {},
   "source": [
    "We can now test our code by calling the state preparation function without a main function:"
   ]
  },
  {
   "cell_type": "code",
   "execution_count": null,
   "metadata": {},
   "outputs": [],
   "source": [
    "@qfunc\n",
    "def main(x: Output[QBit]):\n",
    "    allocate(1,x) # Initalize the qubit x\n",
    "    prepare_minus_state(x) # Prepare the minus state"
   ]
  },
  {
   "cell_type": "code",
   "execution_count": null,
   "metadata": {},
   "outputs": [],
   "source": [
    "quantum_model = create_model(main)\n",
    "quantum_program = synthesize(quantum_model)"
   ]
  },
  {
   "cell_type": "code",
   "execution_count": null,
   "metadata": {},
   "outputs": [],
   "source": [
    "show(quantum_program)"
   ]
  },
  {
   "cell_type": "markdown",
   "metadata": {},
   "source": [
    "Good job with the exercise! Let's continue."
   ]
  },
  {
   "cell_type": "markdown",
   "metadata": {},
   "source": [
    "##### 2.2 Constructing an Oracle"
   ]
  },
  {
   "cell_type": "markdown",
   "metadata": {},
   "source": [
    "Often, quantum algorithms are built around investigating a given function $f(x)$ where we assume the function to be a black box that receives $x$ as input and gives $f(x)$ as its corresponding output. We will now explore how we can construct such oracles with Classiq in contrast to Qiskit."
   ]
  },
  {
   "cell_type": "markdown",
   "metadata": {},
   "source": [
    "**Detailed Example:** \n",
    "\n",
    "Let's assume that we want to build an oracle to determine whether a function $f(x)$ is balanced or constant. This is an interesting oracle which is the building block of the popular Deutsch-Jozsa Algorithm. Our predicate to check if the function is balanced or constant would be defined within a function <code>simple_predicate</code>."
   ]
  },
  {
   "cell_type": "markdown",
   "metadata": {},
   "source": [
    "Consider the predicate <code>res ^= x > 7</code>\n",
    "\n",
    "This means that \n",
    "* whenever x > 7 is True, it evaluates 1 and res is XORed with 1, effectively toggling it to 0 or 1. \n",
    "* whenever x > 7 is False, res is XORed with 0, effectively always leaving its value unchanged\n",
    "\n",
    "In simple words, this predicate is the question we want our oracle to answer. As you can clearly see in this example, the first scenario corresponds to the function being balanced and the latter to being constant. "
   ]
  },
  {
   "cell_type": "markdown",
   "metadata": {},
   "source": [
    "Observe keenly the <code>oracle</code> function in the below code snippet. We can see that the quantum circuit <code>qc</code> and the oracle itself are not inseparable, creating a dependency and lower-level design, which requires the oracle to be fed in with the quantum circuit, the function input, as well as an additional qubit for condition checking purposes."
   ]
  },
  {
   "cell_type": "code",
   "execution_count": null,
   "metadata": {},
   "outputs": [],
   "source": [
    "from qiskit import QuantumCircuit, Aer, execute\n",
    "\n",
    "# Function oracle: f(x) = 1 if x > 7, otherwise f(x) = 0\n",
    "def oracle(circuit, x, ancilla):\n",
    "    for i in range(len(x)):\n",
    "        circuit.cx(x[i], ancilla)\n",
    "    # For x > 7, flip the ancilla qubit\n",
    "    circuit.x(ancilla).c_if(x, 7)\n"
   ]
  },
  {
   "cell_type": "markdown",
   "metadata": {},
   "source": [
    "In a stark constrast to the above code, Classiq simplifies the process by allowing the preparation of our initial state, independent declaration of the predicate that the oracle needs to check, and also leverages an in-built function <code>within_apply</code> to write mechanism of the oracle in a powerful way."
   ]
  },
  {
   "cell_type": "code",
   "execution_count": null,
   "metadata": {},
   "outputs": [],
   "source": [
    "# Oracle for Deutsch Jozsa Algorithm in Classiq\n",
    "\n",
    "@qfunc\n",
    "def apply_oracle(x: QNum):\n",
    "    aux = QBit(\"aux\")\n",
    "    within_apply(\n",
    "        compute=lambda: prepare_minus(aux), action=lambda: constant_function(x, aux)\n",
    "    )"
   ]
  },
  {
   "cell_type": "code",
   "execution_count": null,
   "metadata": {},
   "outputs": [],
   "source": [
    "# Complete Working Example\n",
    "\n",
    "from classiq import *\n",
    "\n",
    "@qfunc\n",
    "def constant_function(x: QNum, res: QBit):\n",
    "    res ^= (x > 7)\n",
    "\n",
    "\n",
    "@qfunc\n",
    "def prepare_minus(out: Output[QBit]):\n",
    "    allocate(1, out)\n",
    "    X(out)\n",
    "    H(out) \n",
    "\n",
    "\n",
    "@qfunc\n",
    "def apply_oracle(x: QNum):\n",
    "    aux = QBit(\"aux\")\n",
    "    within_apply(\n",
    "        compute=lambda: prepare_minus(aux), action=lambda: constant_function(x, aux)\n",
    "    )\n",
    "\n",
    "@qfunc\n",
    "def main(x: Output[QNum]):\n",
    "    allocate(4, x)\n",
    "    within_apply(compute=lambda: hadamard_transform(x), action=lambda: apply_oracle(x))\n",
    "\n",
    "quantum_model = create_model(main)\n",
    "quantum_program = synthesize(quantum_model)\n",
    "show(quantum_program)"
   ]
  },
  {
   "cell_type": "markdown",
   "metadata": {},
   "source": [
    "##### 2.3 Changing Computational Basis"
   ]
  },
  {
   "cell_type": "markdown",
   "metadata": {},
   "source": [
    "We will explore how we can work with compuational bases and change them for specific applications in this section of the tutorial with the example of Variational Quantum Eigensolver (VQE) algorithm. It's expert knowledge that VQE consists of rotational pauli and controlled-X operations. Qiskit enables us to use their transpilation tool to mention the ansatz circuit to use specified basis gates, in out example, <code>[\"rx\", \"ry\", \"rz\", \"cx\"]</code>"
   ]
  },
  {
   "cell_type": "code",
   "execution_count": null,
   "metadata": {},
   "outputs": [],
   "source": [
    "from qiskit import QuantumCircuit, Aer, transpile, execute\n",
    "from qiskit.circuit.library import TwoLocal\n",
    "from qiskit.algorithms import VQE\n",
    "from qiskit.primitives import Estimator\n",
    "from qiskit.opflow import X, Z, I\n",
    "from qiskit.algorithms.optimizers import COBYLA\n",
    "\n",
    "# Define the Hamiltonian for a simple problem (e.g., H = X + Z)\n",
    "hamiltonian = X + Z\n",
    "\n",
    "# Define the ansatz (a simple two-local ansatz)\n",
    "ansatz = TwoLocal(rotation_blocks=['ry', 'rz'], entanglement_blocks='cx', reps=1)\n",
    "\n",
    "# Set up the VQE instance\n",
    "vqe = VQE(ansatz, optimizer=COBYLA(), estimator=Estimator(), quantum_instance=Aer.get_backend('statevector_simulator'))\n",
    "\n",
    "# Execute VQE to find the ground state energy\n",
    "result = vqe.compute_minimum_eigenvalue(operator=hamiltonian)\n",
    "\n",
    "# Get the resulting quantum circuit\n",
    "circ = vqe.ansatz\n",
    "\n",
    "# Transpile the circuit to the specified basis gates\n",
    "transpiled_circ = transpile(circ, basis_gates=[\"rx\", \"ry\", \"rz\", \"cx\"])\n",
    "\n",
    "# Print the transpiled circuit\n",
    "print(transpiled_circ)"
   ]
  },
  {
   "cell_type": "markdown",
   "metadata": {},
   "source": [
    "Add video for Classiq"
   ]
  },
  {
   "cell_type": "markdown",
   "metadata": {},
   "source": [
    "##### 2.4 Exporting Quantum Programs"
   ]
  },
  {
   "cell_type": "markdown",
   "metadata": {},
   "source": [
    "QASM, or Quantum Assembly Language serves as one of the most intricate ways to export quantum programs from one SDK to other without hassle. Qiskit and Classiq both provide methods to export your quantum program using QASM but Classiq additionally offers other formats like LaTeX, HTML, JPEG, JSON, and transpiled QASM for other research purposes in addition to QASM enabling cross-SDk collaborations. Classiq provides an interactive button which enables users to swiftly export their programs."
   ]
  },
  {
   "cell_type": "markdown",
   "metadata": {},
   "source": [
    "Exporting a quantum circuit from Qiskit as QASM file"
   ]
  },
  {
   "cell_type": "code",
   "execution_count": null,
   "metadata": {},
   "outputs": [],
   "source": [
    "from qiskit import QuantumCircuit\n",
    "from qiskit.qasm2 import dumps # For exporting as a QASM string for further processing\n",
    "from qiskit.qasm2 import dump # For exporting as a QASM file for cross-SDK usage\n",
    " \n",
    "qc = QuantumCircuit(1)\n",
    " \n",
    "qasm_str = dumps(qc)\n",
    "\n",
    "with open(\"my_quantum_program.qasm\", \"w\") as f:\n",
    "    dump(qc, f)"
   ]
  },
  {
   "cell_type": "markdown",
   "metadata": {},
   "source": [
    "Exporting a quantum program from Classiq as QASM file"
   ]
  },
  {
   "cell_type": "markdown",
   "metadata": {},
   "source": [
    "Add video for Classiq"
   ]
  },
  {
   "cell_type": "markdown",
   "metadata": {},
   "source": [
    "##### 2.5 Classiq's Unique Power: Optimization"
   ]
  },
  {
   "cell_type": "markdown",
   "metadata": {},
   "source": [
    "In various specific quantum applications like Finance and Pharma, being able to optimize your quantum program by specifying certain constraints becomes inevitable. Some useful parameters used in Optimization of quantum programs are the width, depth, and gate count. It's not unknown that optimization using Qiskit would require deep domain knowledge in the art of advanced Optimization Techniques, which Classiq abstracts out for its users while still producing optimal results."
   ]
  },
  {
   "cell_type": "markdown",
   "metadata": {},
   "source": [
    "Example: Optimizing for Depth"
   ]
  },
  {
   "cell_type": "markdown",
   "metadata": {},
   "source": [
    "In this example, we will demonstrate how we can optimize our quantum program for a maximum depth of 20 qubits:"
   ]
  },
  {
   "cell_type": "markdown",
   "metadata": {},
   "source": [
    "Add the video here"
   ]
  },
  {
   "cell_type": "markdown",
   "metadata": {},
   "source": [
    "<a id=\"section3\"></a> 3. Quantum Algorithms: Phase Kickback"
   ]
  },
  {
   "cell_type": "markdown",
   "metadata": {},
   "source": [
    "Phase Kickback is quantum primitive of high importance, used in larger quantum algorithms, e.g., Shor’s, Simon’s, Deutsch-Josza, and Grover’s. It deals with kicking the result of a function to the phase of a quantum state so it can be smartly manipulated with constructive and destructive interferences to achieve the desired result. This means that a phase shift applied to a control qubit during a controlled operation is \"kicked back\" to the control qubit."
   ]
  },
  {
   "cell_type": "markdown",
   "metadata": {},
   "source": [
    "3.1 Phase Kickback with Qiskit"
   ]
  },
  {
   "cell_type": "code",
   "execution_count": null,
   "metadata": {},
   "outputs": [],
   "source": [
    "from qiskit import QuantumCircuit, QuantumRegister, ClassicalRegister, Aer, transpile, execute\n",
    "from qiskit.visualization import plot_histogram\n",
    "\n",
    "# Define the number of qubits for the input\n",
    "num_qubits = 4\n",
    "\n",
    "# Create quantum and classical registers\n",
    "x = QuantumRegister(num_qubits, 'x')\n",
    "target = QuantumRegister(1, 'target')\n",
    "c = ClassicalRegister(num_qubits, 'c')\n",
    "qc = QuantumCircuit(x, target, c)\n",
    "\n",
    "# Apply Hadamard transform to the x qubits\n",
    "qc.h(x)\n",
    "\n",
    "# Prepare the |-> state in the target qubit\n",
    "qc.x(target)\n",
    "qc.h(target)\n",
    "\n",
    "# Oracle function: target ^= (x == 0)\n",
    "# Apply X gates to flip x qubits for zero state detection\n",
    "for i in range(num_qubits):\n",
    "    qc.x(x[i])\n",
    "\n",
    "# Apply a multi-controlled Toffoli gate (mct)\n",
    "qc.mct(x[:], target)\n",
    "\n",
    "# Apply X gates again to flip x qubits back\n",
    "for i in range(num_qubits):\n",
    "    qc.x(x[i])\n",
    "\n",
    "# Measure the x qubits\n",
    "qc.measure(x, c)\n",
    "\n",
    "# Simulate the circuit\n",
    "backend = Aer.get_backend('qasm_simulator')\n",
    "transpiled_qc = transpile(qc, backend)\n",
    "result = execute(transpiled_qc, backend, shots=1024).result()\n",
    "counts = result.get_counts()\n",
    "\n",
    "# Display the circuit and result\n",
    "print(qc)\n",
    "plot_histogram(counts).show()"
   ]
  },
  {
   "cell_type": "markdown",
   "metadata": {},
   "source": [
    "On the higher level, we can observe from this code snippet that the logic depends heavily on applying the right gates and the core of the algorithm lies in flipping qubits based on the condition <code>target ^= (x == 0)</code> which we use an oracle to check for. Let's dig in deeper.\n",
    "\n",
    "Firstly, we initialize x registers, which act as the target and control qubits manually. Then, the hadamard gate is applied to these x qubits indicating a hadamard transform. The target qubit is then utilized to prepare a $|-\\rangle$ state. The purpose of the oracle here is to check if the state of each of these qubits is $|0\\rangle$ using a fliping mechanism using $pauli X$ gate for the zero state detection. This is followed by the usage of the multi-controlled Toffoli gate which flips the target qubit only when all control qubits are in a specific state, in this case $|0\\rangle$ after which the x qubits are flipped back before measurement."
   ]
  },
  {
   "cell_type": "markdown",
   "metadata": {},
   "source": [
    "3.2 Phase Kickback with Classiq"
   ]
  },
  {
   "cell_type": "code",
   "execution_count": null,
   "metadata": {},
   "outputs": [],
   "source": [
    "from classiq import (\n",
    "    H,\n",
    "    Output,\n",
    "    QBit,\n",
    "    QNum,\n",
    "    X,\n",
    "    allocate,\n",
    "    create_model,\n",
    "    hadamard_transform,\n",
    "    qfunc,\n",
    "    show,\n",
    "    synthesize,\n",
    "    within_apply,\n",
    "    write_qmod,\n",
    ")\n",
    "\n",
    "\n",
    "@qfunc\n",
    "def prepare_minus(target: Output[QBit]):\n",
    "    allocate(out=target, num_qubits=1)\n",
    "    X(target)\n",
    "    H(target)\n",
    "\n",
    "\n",
    "@qfunc\n",
    "def oracle_function(target: QBit, x: QNum):\n",
    "    target ^= x == 0\n",
    "\n",
    "\n",
    "@qfunc\n",
    "def oracle_phase_kickback(x: QNum):\n",
    "    target = QBit(\"target\")\n",
    "    within_apply(\n",
    "        compute=lambda: prepare_minus(target), action=lambda: oracle_function(target, x)\n",
    "    )\n",
    "\n",
    "\n",
    "@qfunc\n",
    "def main(x: Output[QNum]):\n",
    "    allocate(num_qubits=4, out=x)\n",
    "    hadamard_transform(x)\n",
    "    oracle_phase_kickback(x)\n",
    "\n",
    "\n",
    "qmod = create_model(main)\n",
    "qprog = synthesize(qmod)\n",
    "show(qprog)\n",
    "\n",
    "write_qmod(qmod, \"phase_kickback\")"
   ]
  },
  {
   "cell_type": "markdown",
   "metadata": {},
   "source": [
    "Immediately upon viewing the above code snippet, we can realize stark differences from the equivalent code in qiskit. Let's explore them one by one.\n",
    "\n",
    "The power of functional design allows us to build a function <code>prepare_minus_state</code> which encapsulates the operation of preparing a $|-\\rangle$ using the pauli $X$ and hadamard $H$ gates, is the fact that it's reusable anywhere in your program later. It's nonteworthy that phase kickback is itself a primitive used within larger quantum programs, meaning resusablitily of functions can enable better software engineering practices and potentially, efficiency of your code."
   ]
  },
  {
   "cell_type": "markdown",
   "metadata": {},
   "source": [
    "<a id=\"section4\"></a> 4. Appendix Notes"
   ]
  },
  {
   "cell_type": "markdown",
   "metadata": {},
   "source": [
    "#### References"
   ]
  },
  {
   "cell_type": "markdown",
   "metadata": {},
   "source": [
    "[1] Qiskit Textbook <a href=\"(https://github.com/Qiskit/textbook/tree/main/notebooks/ch-demos#)\">(GitHub)</a>"
   ]
  }
 ],
 "metadata": {
  "kernelspec": {
   "display_name": "Python 3",
   "language": "python",
   "name": "python3"
  },
  "language_info": {
   "codemirror_mode": {
    "name": "ipython",
    "version": 3
   },
   "file_extension": ".py",
   "mimetype": "text/x-python",
   "name": "python",
   "nbconvert_exporter": "python",
   "pygments_lexer": "ipython3",
   "version": "3.9.11"
  }
 },
 "nbformat": 4,
 "nbformat_minor": 2
}
