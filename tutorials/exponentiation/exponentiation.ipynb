{
 "cells": [
  {
   "cell_type": "markdown",
   "metadata": {
    "pycharm": {
     "name": "#%% md\n"
    }
   },
   "source": [
    "# EXPONENTIATION AND HAMILTONIAN SIMULATION\n",
    "\n",
    "This note demonstrates how to use the Classiq platform exponentiation module to solve Hamiltonian simulation problems. This demonstrates the strength of the Classiq exponentiation module."
   ]
  },
  {
   "cell_type": "markdown",
   "metadata": {
    "pycharm": {
     "name": "#%% md\n"
    }
   },
   "source": [
    "## CHEMICAL SIMULATION\n",
    "\n",
    "Chemical simulation is one of the most exciting applications for quantum computers. When precise simulations of electron-electron interactions are necessary, it is sometimes possible to use a classical computer, but classical computers struggle to simulate more complex molecular interactions. It is best to simulate these particle interactions at the quantum level, and an excellent way to do this is with a quantum computer.\n",
    "\n",
    "The ability to accurately simulate molecular interactions will have extensive applications. When used for drug discovery, it will allow for the rapid development of vaccines and new cures for diseases. In materials research, we can hope to discover materials with higher strength-to-weight ratios and environmentally-friendly building materials."
   ]
  },
  {
   "cell_type": "markdown",
   "metadata": {
    "pycharm": {
     "name": "#%% md\n"
    }
   },
   "source": [
    "## THE H<sub>2</sub>O HAMILTONIAN SIMULATION PROBLEM\n",
    "\n",
    "We show how to generate a circuit that approximates the unitary $e^{-iH}$ where $H$ is the qubit hamiltonian of a H<sub>2</sub>O (water) molecule. The H<sub>2</sub>O Hamiltonian is composed of 551 Pauli strings on 8 qubits."
   ]
  },
  {
   "cell_type": "code",
   "execution_count": 1,
   "metadata": {
    "execution": {
     "iopub.execute_input": "2023-12-06T03:21:58.956854Z",
     "iopub.status.busy": "2023-12-06T03:21:58.954539Z",
     "iopub.status.idle": "2023-12-06T03:22:25.052406Z",
     "shell.execute_reply": "2023-12-06T03:22:25.051700Z"
    },
    "pycharm": {
     "name": "#%%\n"
    },
    "tags": []
   },
   "outputs": [
    {
     "name": "stdout",
     "output_type": "stream",
     "text": [
      "Classiq's exponentiation depth is 2307\n",
      "Classiq's exponentiation CX-count is 2598\n",
      "Opening: https://platform.classiq.io/circuit/98e73267-86bb-4260-a0b1-0e9fd32d40a2?version=0.34.0.dev0%2B124706fb0e\n"
     ]
    }
   ],
   "source": [
    "from classiq import GeneratedCircuit, Model, synthesize\n",
    "from classiq.applications.chemistry import Molecule, MoleculeProblem\n",
    "from classiq.builtin_functions import SuzukiTrotter\n",
    "from classiq.builtin_functions.suzuki_trotter import SuzukiParameters\n",
    "from classiq.model import CustomHardwareSettings, Preferences\n",
    "\n",
    "molecule_H2O = Molecule(\n",
    "    atoms=[(\"O\", (0.0, 0.0, 0.0)), (\"H\", (0, 0.586, 0.757)), (\"H\", (0, 0.586, -0.757))]\n",
    ")\n",
    "\n",
    "gs_problem = MoleculeProblem(\n",
    "    molecule=molecule_H2O,\n",
    "    basis=\"sto3g\",\n",
    "    mapping=\"jordan_wigner\",\n",
    "    z2_symmetries=False,\n",
    "    freeze_core=True,\n",
    ")\n",
    "\n",
    "hamiltonian = gs_problem.generate_hamiltonian()\n",
    "\n",
    "trotter_params = SuzukiTrotter(\n",
    "    pauli_operator=hamiltonian,\n",
    "    evolution_coefficient=1,\n",
    "    suzuki_parameters=SuzukiParameters(order=1, repetitions=1),\n",
    "    use_naive_evolution=False,\n",
    ")\n",
    "\n",
    "model = Model(\n",
    "    preferences=Preferences(\n",
    "        custom_hardware_settings=CustomHardwareSettings(basis_gates=[\"cx\", \"u\"])\n",
    "    )\n",
    ")\n",
    "model.SuzukiTrotter(params=trotter_params)\n",
    "qmod = model.get_model()\n",
    "\n",
    "with open(\"exponentiation.qmod\", \"w\") as f:\n",
    "    f.write(qmod)\n",
    "\n",
    "qprog = synthesize(qmod)\n",
    "circuit = GeneratedCircuit.from_qprog(qprog)\n",
    "\n",
    "print(f\"Classiq's exponentiation depth is {circuit.transpiled_circuit.depth}\")\n",
    "print(\n",
    "    f\"Classiq's exponentiation CX-count is {circuit.transpiled_circuit.count_ops['cx']}\"\n",
    ")\n",
    "circuit.show()"
   ]
  },
  {
   "cell_type": "markdown",
   "metadata": {
    "pycharm": {
     "name": "#%% md\n"
    }
   },
   "source": [
    "These impressive results can be compared to the naive exponentiation modules often found in the literature:"
   ]
  },
  {
   "cell_type": "code",
   "execution_count": 2,
   "metadata": {
    "execution": {
     "iopub.execute_input": "2023-12-06T03:22:25.102663Z",
     "iopub.status.busy": "2023-12-06T03:22:25.101799Z",
     "iopub.status.idle": "2023-12-06T03:22:55.752296Z",
     "shell.execute_reply": "2023-12-06T03:22:55.751610Z"
    },
    "pycharm": {
     "name": "#%%\n"
    },
    "tags": []
   },
   "outputs": [
    {
     "name": "stdout",
     "output_type": "stream",
     "text": [
      "Naive exponentiation depth is 5831\n",
      "Naive exponentiation CX-count is 4536\n",
      "Opening: https://platform.classiq.io/circuit/d505c143-e4f9-4812-b720-abcf3bd1a625?version=0.34.0.dev0%2B124706fb0e\n"
     ]
    }
   ],
   "source": [
    "from classiq import GeneratedCircuit, Model, synthesize\n",
    "from classiq.applications.chemistry import Molecule, MoleculeProblem\n",
    "from classiq.builtin_functions import SuzukiTrotter\n",
    "from classiq.builtin_functions.suzuki_trotter import SuzukiParameters\n",
    "from classiq.model import CustomHardwareSettings, Preferences\n",
    "\n",
    "molecule_H2O = Molecule(\n",
    "    atoms=[(\"O\", (0.0, 0.0, 0.0)), (\"H\", (0, 0.586, 0.757)), (\"H\", (0, 0.586, -0.757))]\n",
    ")\n",
    "\n",
    "gs_problem = MoleculeProblem(\n",
    "    molecule=molecule_H2O,\n",
    "    basis=\"sto3g\",\n",
    "    mapping=\"jordan_wigner\",\n",
    "    z2_symmetries=False,\n",
    "    freeze_core=True,\n",
    ")\n",
    "\n",
    "hamiltonian = gs_problem.generate_hamiltonian()\n",
    "\n",
    "trotter_params = SuzukiTrotter(\n",
    "    pauli_operator=hamiltonian,\n",
    "    evolution_coefficient=1,\n",
    "    suzuki_parameters=SuzukiParameters(order=1, repetitions=1),\n",
    "    use_naive_evolution=True,\n",
    ")\n",
    "\n",
    "model = Model(\n",
    "    preferences=Preferences(\n",
    "        custom_hardware_settings=CustomHardwareSettings(basis_gates=[\"cx\", \"u\"])\n",
    "    )\n",
    ")\n",
    "model.SuzukiTrotter(params=trotter_params)\n",
    "qmod = model.get_model()\n",
    "\n",
    "with open(\"exponentiation_h2o_naive.qmod\", \"w\") as f:\n",
    "    f.write(qmod)\n",
    "\n",
    "qprog = synthesize(qmod)\n",
    "circuit = GeneratedCircuit.from_qprog(qprog)\n",
    "\n",
    "print(f\"Naive exponentiation depth is {circuit.transpiled_circuit.depth}\")\n",
    "print(f\"Naive exponentiation CX-count is {circuit.transpiled_circuit.count_ops['cx']}\")\n",
    "circuit.show()"
   ]
  },
  {
   "cell_type": "markdown",
   "metadata": {
    "pycharm": {
     "name": "#%% md\n"
    }
   },
   "source": [
    "One can clearly see the dramatic decrease in both depth and number of CX-gates."
   ]
  },
  {
   "cell_type": "markdown",
   "metadata": {
    "pycharm": {
     "name": "#%% md\n"
    }
   },
   "source": [
    "## AUTOMATIC ERROR REDUCTION\n",
    "\n",
    "The Classiq exponentiation module provides error management and automatically minimizes the error and determines the best Trotter-Suzuki order and repetitions for any provided depth. We demonstrate this with an arbitrary inputted Pauli operator on 8 qubits."
   ]
  },
  {
   "cell_type": "code",
   "execution_count": 3,
   "metadata": {
    "execution": {
     "iopub.execute_input": "2023-12-06T03:22:55.756030Z",
     "iopub.status.busy": "2023-12-06T03:22:55.755599Z",
     "iopub.status.idle": "2023-12-06T03:22:58.223597Z",
     "shell.execute_reply": "2023-12-06T03:22:58.222913Z"
    },
    "pycharm": {
     "is_executing": true,
     "name": "#%%\n"
    },
    "tags": []
   },
   "outputs": [
    {
     "name": "stdout",
     "output_type": "stream",
     "text": [
      "Opening: https://platform.classiq.io/circuit/7d571f4d-6137-4e1a-a251-376bd9bdb51f?version=0.34.0.dev0%2B124706fb0e\n"
     ]
    }
   ],
   "source": [
    "from classiq import GeneratedCircuit, Model, synthesize\n",
    "from classiq.builtin_functions import Exponentiation\n",
    "from classiq.builtin_functions.exponentiation import (\n",
    "    ExponentiationConstraints,\n",
    "    PauliOperator,\n",
    ")\n",
    "\n",
    "pauli_operator = PauliOperator(\n",
    "    pauli_list=[\n",
    "        (\"IIZXXXII\", 0.1),\n",
    "        (\"IIXXYYII\", 0.2),\n",
    "        (\"IIIIZZYX\", 0.3),\n",
    "        (\"XZIIIIIX\", 0.4),\n",
    "        (\"IIIIIZXI\", 0.5),\n",
    "        (\"IIIIIIZY\", 0.6),\n",
    "        (\"IIIIIIXY\", 0.7),\n",
    "        (\"IIYXYZII\", 0.8),\n",
    "        (\"IIIIIIXZ\", 0.9),\n",
    "        (\"IIYZYIII\", 1.0),\n",
    "    ]\n",
    ")\n",
    "exponentiation_params = Exponentiation(\n",
    "    pauli_operator=pauli_operator,\n",
    "    evolution_coefficient=0.05,\n",
    "    constraints=ExponentiationConstraints(\n",
    "        max_depth=400,\n",
    "    ),\n",
    "    optimization=\"MINIMIZE_ERROR\",\n",
    ")\n",
    "\n",
    "model = Model()\n",
    "model.Exponentiation(params=exponentiation_params)\n",
    "qmod = model.get_model()\n",
    "\n",
    "with open(\"exponentiation_minimize_error.qmod\", \"w\") as f:\n",
    "    f.write(qmod)\n",
    "\n",
    "qprog = synthesize(model.get_model())\n",
    "circuit = GeneratedCircuit.from_qprog(qprog)\n",
    "\n",
    "circuit.show()"
   ]
  },
  {
   "cell_type": "markdown",
   "metadata": {
    "pycharm": {
     "name": "#%% md\n"
    }
   },
   "source": [
    "The Classiq engine automatically opted for 6 second-order Suzuki-Trotter layers instead of 12 first-order layers in order to minimize the error of the exponentiation within the depth constraints."
   ]
  },
  {
   "cell_type": "markdown",
   "metadata": {
    "pycharm": {
     "name": "#%% md\n"
    }
   },
   "source": [
    "## CONCLUSION\n",
    "\n",
    "Classiq has packaged the domain expertise of dozens of its scientists and quantum software engineers into the software platform. The result: a system that can automatically generate efficient quantum circuits for complex problems, making it faster and easier than ever to solve real-life problems with quantum computing. When the circuits are of manageable size, Classiq creates solutions that are on par with the best manually-created circuits. When the circuits are larger than those a human can reasonably create, Classiq allows you to progress farther because of its powerful capabilities.\n"
   ]
  }
 ],
 "metadata": {
  "kernelspec": {
   "display_name": "Python 3 (ipykernel)",
   "language": "python",
   "name": "python3"
  },
  "language_info": {
   "codemirror_mode": {
    "name": "ipython",
    "version": 3
   },
   "file_extension": ".py",
   "mimetype": "text/x-python",
   "name": "python",
   "nbconvert_exporter": "python",
   "pygments_lexer": "ipython3",
   "version": "3.11.6"
  }
 },
 "nbformat": 4,
 "nbformat_minor": 4
}
