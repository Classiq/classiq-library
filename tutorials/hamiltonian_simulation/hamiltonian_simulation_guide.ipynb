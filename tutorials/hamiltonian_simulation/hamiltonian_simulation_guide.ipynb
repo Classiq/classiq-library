{
 "cells": [
  {
   "cell_type": "markdown",
   "metadata": {},
   "source": [
    "# Hamiltonian Simulation"
   ]
  },
  {
   "cell_type": "markdown",
   "metadata": {},
   "source": [
    "Quantum Hamiltonian simulation is one of the most important problems in quantum computing. It consists in modeling the time evolution of a complex quantum system using more controllable devices, the quantum computers. Simulations of this type are essential to comprehend quantum systems that are described by a complex dynamics, such as molecules in chemistry or materials in condensed matter physics, where classical computers fail due the exponential scale up required by larger quantum systems.\n",
    "\n",
    "In this guide, you will be using Classiq to work with simple problems of Hamiltonian simulation using two different methods:\n",
    "\n",
    "* **Trotter-Suzuki decomposition**\n",
    "* **qDRIFT**\n",
    "\n",
    "Apart from these methods, known as product formulas, this guide also provide a brief discussion on other methods known as block-encoding methods, and links to a specific guide for this end."
   ]
  },
  {
   "cell_type": "markdown",
   "metadata": {},
   "source": [
    "# Table of contents\n",
    "\n",
    "1. [Importance](#Importance)\n",
    "2. [Trotter-Suzuki decomposition](#trotter-suzuki-decomposition)\n",
    "    * [Exponentiation with depth constraint](#exponentiation-with-depth-constraint)\n",
    "3. [qDRIFT](#qDRIFT)\n",
    "4. [Hamiltonian simulation with block encoding](#hamiltonian-simulation-with-block-encoding)\n",
    "5. [Measuring the expected magnetization as a function of time](#measuring-the-expected-magnetization-as-a-function-of-time)\n",
    "6. [Summary and Exercises](#summary-and-exercises)\n"
   ]
  },
  {
   "cell_type": "markdown",
   "metadata": {},
   "source": [
    "# Importance"
   ]
  },
  {
   "cell_type": "markdown",
   "metadata": {},
   "source": [
    "Quantum Hamiltonian simulation has several significant applications. Some of them are particularly interesting for physicists:\n",
    "\n",
    "* Quantum Chemistry: It helps in predicting properties of molecules using quantum methods such as the Quantum Variational Eigensolver (VQE), which can be more efficiently than classical methods in certain conditions.\n",
    "* Materials Science: It aids in designing new materials with desired properties by simulating their quantum mechanical behavior.\n",
    "* Optimization and Machine Learning: Quantum simulations can be used to solve complex optimization problems and improve machine learning algorithms."
   ]
  },
  {
   "cell_type": "markdown",
   "metadata": {},
   "source": [
    "Mathematically, we can approach the Hamiltonian Simulation problem as the following: Suppose we have a quantum computer that can run natively the evolution operators of the set of Hamiltonians $\\{H_j\\}$. Now, suppose we want to understand the dynamics of the following, more complex, Hamiltonian:\n",
    "\n",
    "<details><summary>What are the operations that this quantum computer can effectively execute?</summary>\n",
    "\n",
    "If this quantum computer can only execute the evolution operators of the set of Hamiltonians $\\{H_j\\}$, then we could have only operations in the form:\n",
    "\n",
    "$$O = \\prod_{j} e^{-i \\,\\tau_j H_j}.$$\n",
    "</details>\n"
   ]
  },
  {
   "cell_type": "markdown",
   "metadata": {},
   "source": [
    "\\begin{equation}\n",
    "H_{full} = \\sum_{j} h_j H_j,\n",
    "\\end{equation}"
   ]
  },
  {
   "cell_type": "markdown",
   "metadata": {},
   "source": [
    "For some real values $h_j$. Therefore, we would need some kind of decomposition from the operator of Eq. (1) into our set of operations, formed by $\\{e^{-itH_j}\\}$, where $e^{-itH_j}$ is the evolution operator of the hamiltonian $H$."
   ]
  },
  {
   "cell_type": "markdown",
   "metadata": {},
   "source": [
    "## Trotter-Suzuki decomposition"
   ]
  },
  {
   "cell_type": "markdown",
   "metadata": {},
   "source": [
    "Now that the problem is stated, a possible solution is the Trotter-Suzuki decomposition, also known as Trotterization. Simply put, this method involves \"breaking\" the evolution operator into the evolution operators of its components. In the first order, it looks like this:\n",
    "\n",
    "\\begin{equation*}\n",
    "e^{-itH}=\\exp\\left\\{-it\\sum_{j=1}^N h_j H_j\\right\\} \\approx \\left(\\prod_{j}^N e^{-it, h_j, H_j/n}\\right)^n + \\mathcal{O}(t^2/n).\n",
    "\\end{equation*}\n",
    "\n",
    "More details about this decomposition can be found in [[1]](#ts_paper).\n",
    "\n",
    "This formula is very important and has applications in several scenarios. Additionally, if we need an error that scales better than $t^2$, it is possible to achieve higher-order Trotter-Suzuki formulas. For example, the second order Trotter-Suzuki would look like this:\n",
    "\n",
    "\\begin{equation*}\n",
    "    e^{-itH}=\\exp\\left\\{-i\\left(\\sum_{j=1}^N \\frac{t_j}{2}\\,H_j + \\sum_{j=N}^1 \\frac{t_j}{2}\\,H_j\\right)\\right\\} \\approx \\left(\\prod_{j=1}^N e^{-it_j\\, H_j/(2n)}\\prod_{j=N}^1 e^{-it_j\\, H_j/(2n)}\\right)^n + \\mathcal{O}(t^3/n).\n",
    "\\end{equation*}"
   ]
  },
  {
   "cell_type": "markdown",
   "metadata": {},
   "source": [
    "Higher orders for the Trotter-Suzuki formula can be found in [[1](#ts_paper)]. However, as the number of terms in the hamiltonian and the approximation order increases, it gets harder to construct the Trotter-Suzuki formulas. For this end, we can use Classiq's function `suzuki_trotter()` to execute a Trotter decomposition of an operator, specifying the order and number of repetitions. Lets take a look on how does it work with an example:"
   ]
  },
  {
   "cell_type": "markdown",
   "metadata": {},
   "source": [
    "Now that the inputs for the Trotter-Suzuki method are defined, lets apply it to the simple example of approximating the dynamics of the following two-qubits hamiltonian \n",
    "\n",
    "\n",
    "$$H = 0.3 \\, Z\\otimes Z + 0.7 \\,X\\otimes I + 0.2\\, I\\otimes X,$$\n",
    "\n",
    "which represents two spins interacting in a transversal field. First, we need to identify the operators $\\{H_j\\}$ and its respective coefficients $\\{h_j\\}$:\n",
    "\n",
    "$$\n",
    "\\begin{split}\n",
    "    H_1 = Z \\otimes Z,\\text{ coefficient: }h_1 = 0.3; \\\\\n",
    "    H_2 = X \\otimes I,\\text{ coefficient: }h_2 = 0.7; \\\\\n",
    "    H_3 = I \\otimes X,\\text{ coefficient: }h_3 = 0.2. \\\\\n",
    "\\end{split}\n",
    "$$\n",
    "\n",
    "The second step is to define the number $n$ of repetitions into which we will \"break\" the evolution. In this case, we will apply it for $n=10$. The order of the Trotter-Suzuki decomposition can be altered in the parameter ``order``. In the current case we will be applying it to first order. \n",
    "\n",
    "Also, it is necessary to define the evolution coefficient $t$: This coefficient states to us how much time the quantum system will be evolving under this Hamiltonian, and it is set according to the specific application you want. The evolution coefficient is set in the ``evolution_coefficient`` variable, and in this simple example we will consider it to be unitary. In [this part of the guide](#measuring-the-expected-magnetization-as-a-function-of-time), you can follow an example where the evolution coefficient varies."
   ]
  },
  {
   "cell_type": "code",
   "execution_count": 1,
   "metadata": {},
   "outputs": [
    {
     "name": "stdout",
     "output_type": "stream",
     "text": [
      "Opening: https://platform.classiq.io/circuit/e6081a3a-4b5f-405c-b44b-c396559474e1?version=0.45.0\n"
     ]
    }
   ],
   "source": [
    "from classiq import *\n",
    "\n",
    "#Defining the Hamiltonian:\n",
    "HAMILTONIAN = [PauliTerm(pauli=[Pauli.Z, Pauli.Z], coefficient=0.3),\n",
    "            PauliTerm(pauli=[Pauli.X, Pauli.I], coefficient=0.7),\n",
    "            PauliTerm(pauli=[Pauli.I, Pauli.X], coefficient=0.2),]\n",
    "@qfunc\n",
    "def main(qba: Output[QArray[QBit]]):\n",
    "    allocate(2, qba)\n",
    "    suzuki_trotter(\n",
    "        HAMILTONIAN,\n",
    "        evolution_coefficient=1.0,\n",
    "        order=1,\n",
    "        repetitions=10,\n",
    "        qbv=qba,\n",
    "    )\n",
    "\n",
    "\n",
    "qmod = create_model(main)\n",
    "qprog = synthesize(qmod)\n",
    "write_qmod(qmod, \"trotter\")\n",
    "show(qprog)"
   ]
  },
  {
   "cell_type": "markdown",
   "metadata": {},
   "source": [
    "## Exponentiation with depth constraint\n",
    "\n",
    "It is also possible to generate an efficient decomposition of an evolution operator with Classiq's function ``exponentiation_with_depth_constraint``. Given the maximum depth of the decomposition, and the inputs related to the Hamiltonian itself, the synthesizer finds the most accurate higher order Trotter decomposition and applies it. For the example above, considering a maximum depth of $N=30$ the code would be:"
   ]
  },
  {
   "cell_type": "code",
   "execution_count": 2,
   "metadata": {},
   "outputs": [
    {
     "name": "stdout",
     "output_type": "stream",
     "text": [
      "Opening: https://platform.classiq.io/circuit/340890ce-4f93-4e95-bcc9-c1b1caf0e17d?version=0.45.0\n"
     ]
    }
   ],
   "source": [
    "from classiq import *\n",
    "\n",
    "@qfunc\n",
    "def main(qba: Output[QArray[QBit]]):\n",
    "\n",
    "    allocate(2, qba)\n",
    "    exponentiation_with_depth_constraint(\n",
    "        HAMILTONIAN,\n",
    "        evolution_coefficient=1,\n",
    "        max_depth=30,\n",
    "        qbv=qba,\n",
    "    )\n",
    "\n",
    "\n",
    "qmod = create_model(main)\n",
    "write_qmod(qmod, \"exponentiation\")\n",
    "qprog = synthesize(qmod)\n",
    "show(qprog)"
   ]
  },
  {
   "cell_type": "markdown",
   "metadata": {},
   "source": [
    "You can use the IDE to check which order of the Trotter-Suzuki decomposition is being used. In the current case, it applies the first-order decomposition, denoted in the IDE by the name ``single_trotter_suzuki_layer_xxxx``. In the case of higher orders, the output would identify which order is being used.\n",
    "\n",
    "![Trotter_gif](https://docs.classiq.io/resources/Trotter_order.gif)"
   ]
  },
  {
   "cell_type": "markdown",
   "metadata": {},
   "source": [
    "## qDRIFT"
   ]
  },
  {
   "cell_type": "markdown",
   "metadata": {},
   "source": [
    "The quantum stochastic drift protocol [[2]](#qdrift_paper) (qDRIFT) is similar to the first order Trotter-Suzuki decomposition, however it is based on a stochastic distribution of the evolution operators:  The algorithm works by sampling unitaries from the set $\\{e^{-itH_j}\\}$, according to a probability distribution defined by the weights $\\{h_j\\}$, normalized by a factor $\\lambda = \\sum_j h_j$. In other words, the qDRIFT protocol works as:"
   ]
  },
  {
   "cell_type": "markdown",
   "metadata": {},
   "source": [
    "**Input**: A list of Hamiltonian terms $\\{Hj\\}$, a classical oracle function SAMPLE() that returns an value $j$ according to the probability distribution $p_j = h_j/\\lambda$ and a target precision $\\epsilon$.\n",
    "\n",
    "**Output**: An ordered list of evolution operators from the set $\\{e^{-itH_j}\\}$, that approximate the unitary $e^{-it\\,H}$, with bound error $\\epsilon$.\n",
    "\n",
    "* First, we need to define a normalization to transform $\\{h_j\\}$ into a probability distribution. For this, define $\\sum_j h_j = \\lambda$.\n",
    "* Secondly, the depth of the program is defined according to the required precision required. For this, set $N = \\lceil 2\\lambda^2t^2/\\epsilon \\rceil$.\n",
    "* Lastly, we generate the ordered list of $N$ evolution operators according to the probability distribution."
   ]
  },
  {
   "cell_type": "markdown",
   "metadata": {},
   "source": [
    "The qDRIFT has been proved to be a good alternative for the Trotter-Suzuki decomposition when the number of terms in the Hamiltonian is not sparse, i.e., the number of terms on the expansion $H = \\sum_j h_j H_j$ is not small when compared to all possible terms in it. This interesting method can be applied using Classiq's function ``qdrift()``. Its inputs are:\n",
    "\n",
    "* ``pauli_operator``: ``CArray[PauliTerm]``: A list of Pauli operators that should be representing the terms $H_j$ and its respective coefficients $h_j$;\n",
    "* ``evolution_coefficient ``: ``CArray`` The value $t$ for the coefficient in the time evolution operator;\n",
    "* ``num_qdrift``:``CInt``: The number $N$ of unitary operators in the list of gates given by the qdrift;\n",
    "* ``qbv``:``QArray[QBit]``: The target qubits."
   ]
  },
  {
   "cell_type": "markdown",
   "metadata": {},
   "source": [
    "In the current example, we will fix $N=288$ which corresponds to an error $\\epsilon = 0.01$ in the approximation."
   ]
  },
  {
   "cell_type": "code",
   "execution_count": 3,
   "metadata": {},
   "outputs": [
    {
     "name": "stdout",
     "output_type": "stream",
     "text": [
      "Opening: https://platform.classiq.io/circuit/5dd9257a-b860-4cab-ba58-053429caaddd?version=0.45.0\n"
     ]
    }
   ],
   "source": [
    "from classiq import *\n",
    "\n",
    "@qfunc\n",
    "def main(qba: Output[QArray[QBit]]):\n",
    "\n",
    "    allocate(2, qba)\n",
    "    qdrift(\n",
    "        HAMILTONIAN,\n",
    "        evolution_coefficient=1,\n",
    "        num_qdrift=288,\n",
    "        qbv=qba,\n",
    "    )\n",
    "\n",
    "\n",
    "qmod = create_model(main)\n",
    "write_qmod(qmod, \"qdrift\")\n",
    "qprog = synthesize(qmod)\n",
    "show(qprog)"
   ]
  },
  {
   "cell_type": "markdown",
   "metadata": {},
   "source": [
    "# Hamiltonian simulation with block encoding"
   ]
  },
  {
   "cell_type": "markdown",
   "metadata": {},
   "source": [
    "The methods presented in this guide are known as product formulas for hamiltonian simulation. However, there are different methods of hamiltonian simulation available apart from the product formulas. For example, there is also the necessity of obtaining the effects of applying a linear combination of unitaries (LCU) of the form $U_{LCU} = \\sum_i \\alpha_i U_{i}$ in quantum systems. This can be done by using the [LCU method](https://github.com/Classiq/classiq-library/blob/main/tutorials/linear_combination_of_unitaries/linear_combination_of_unitaries.ipynb), or methods that applies different block encoding of the operators, having different properties which will be briefly discussed in this section."
   ]
  },
  {
   "cell_type": "markdown",
   "metadata": {},
   "source": [
    "## Qubitization"
   ]
  },
  {
   "cell_type": "markdown",
   "metadata": {},
   "source": [
    "Qubitization [[3]](#qubitization_paper) is a method that enables the efficient simulation of quantum Hamiltonians. The key idea is to embed the Hamiltonian into a larger unitary operator, method known as block encoding, that is specifically simulated using a quantum walk operator. This allows for precise control over the evolution of quantum states and can significantly reduce the resources required for Hamiltonian simulation. For more details on how to implement the Qubitization method, visit our guide on [Hamiltonian simulation with block encoding](https://github.com/Classiq/classiq-library/blob/main/tutorials/hamiltonian_simulation/hamiltonian_simulation_with_block_encoding/hamiltonian_simulation_with_block_encoding.ipynb)."
   ]
  },
  {
   "cell_type": "markdown",
   "metadata": {},
   "source": [
    "## QSVT"
   ]
  },
  {
   "cell_type": "markdown",
   "metadata": {},
   "source": [
    "Quantum Singular Value Transformation (QSVT) [[4]](#qsvt_paper) is a general method that enables the transformation of the singular values of matrices encoded in quantum states. In Hamiltonian simulation, the objective is to use a sequence of quantum circuits to apply polynomial transformations to the singular values of a matrix, which are related to its eigenvalues. For more details on how to implement the Qubitization method, visit our guide on [Hamiltonian simulation with block encoding](https://github.com/Classiq/classiq-library/blob/main/tutorials/hamiltonian_simulation/hamiltonian_simulation_with_block_encoding/hamiltonian_simulation_with_block_encoding.ipynb)."
   ]
  },
  {
   "cell_type": "markdown",
   "metadata": {},
   "source": [
    "# Measuring the expected magnetization as a function of time"
   ]
  },
  {
   "cell_type": "markdown",
   "metadata": {},
   "source": [
    "Now, its time to see an application of these different methods and how they perform in comparison with the exact evolution. For this, we will see the evolution of the expected value of a specific operator and compare it to the exact solution. In this section, the same hamiltonian considered in the examples will be considered:\n",
    "\n",
    "$$H = 0.3 \\cdot \\, Z\\otimes Z + 0.7 \\cdot \\,X\\otimes I + 0.2 \\cdot \\, I\\otimes X.$$\n",
    "\n",
    "However, now the attention will be centered to analyze a quantity that varies with different values of time. For this, we consider the behavior of the magnetization of the system, $M = (\\langle I\\otimes Z \\rangle + \\langle Z \\otimes I\\rangle)/2$ [[5]](#magnetization_paper), as a function of time. This result can be evaluated exactly by exponentiating the hamiltonian $H$ directly and then, it is possible to compare both results:"
   ]
  },
  {
   "cell_type": "code",
   "execution_count": 4,
   "metadata": {},
   "outputs": [],
   "source": [
    "from scipy.linalg import expm\n",
    "import numpy as np\n",
    "time_list = np.linspace(0,2,100).tolist()\n",
    "\n",
    "#Hamiltonian matrix:\n",
    "pauli_I =  np.array([[1, 0], [0, 1]], dtype=np.complex128)\n",
    "pauli_X =  np.array([[0, 1], [1, 0]], dtype=np.complex128)\n",
    "pauli_Y = np.array([[0, -1j], [1j, 0]], dtype=np.complex128)\n",
    "pauli_Z = np.array([[1, 0], [0, -1]], dtype=np.complex128)\n",
    "\n",
    "#Magnetization operator:\n",
    "magnetization_matrix = (np.kron(pauli_Z,pauli_I)+np.kron(pauli_I,pauli_Z))/2\n",
    "\n",
    "Hamiltonian_matrix = 0.3*np.kron(pauli_Z,pauli_Z)+0.7*np.kron(pauli_X,pauli_I)+0.2*np.kron(pauli_X,pauli_I)\n",
    "initial_state = np.zeros(4)\n",
    "initial_state[0]= 1.0\n",
    "\n",
    "def expected_value(state,operator):\n",
    "    state_H = np.conj(state.T)\n",
    "    return state_H@operator@state\n",
    "\n",
    "ideal_magnetization = []\n",
    "for t in time_list:\n",
    "    state = expm(-1j*t*Hamiltonian_matrix)@initial_state\n",
    "    ideal_magnetization.append(expected_value(state,magnetization_matrix))"
   ]
  },
  {
   "cell_type": "markdown",
   "metadata": {},
   "source": [
    "To evaluate the expectation values of magnetization, it is possible to use the ``estimate`` function for the Trotter-Suzuki and qdrift methods:"
   ]
  },
  {
   "cell_type": "code",
   "execution_count": 5,
   "metadata": {},
   "outputs": [],
   "source": [
    "from classiq import *\n",
    "from classiq.execution import ExecutionSession\n",
    "\n",
    "magnetization_hamiltonian = [PauliTerm(pauli=[Pauli.Z, Pauli.I], coefficient=0.5),\n",
    "                    PauliTerm(pauli=[Pauli.I, Pauli.Z], coefficient=0.5)]\n",
    "@qfunc\n",
    "def main(t: CReal, qba: Output[QArray[QBit]]):\n",
    "    allocate(2, qba)\n",
    "    suzuki_trotter(\n",
    "        HAMILTONIAN,\n",
    "        evolution_coefficient=t,\n",
    "        order=1,\n",
    "        repetitions=30,\n",
    "        qbv=qba,\n",
    "    )\n",
    "qmod = create_model(main)\n",
    "qprog = synthesize(qmod)\n",
    "TS_execution = ExecutionSession(qprog)\n",
    "\n",
    "magnetization_TS = []\n",
    "for t_values in time_list:\n",
    "    res = TS_execution.estimate(magnetization_hamiltonian,{\"t\":t_values}).value\n",
    "    magnetization_TS.append(res)"
   ]
  },
  {
   "cell_type": "code",
   "execution_count": 6,
   "metadata": {},
   "outputs": [],
   "source": [
    "magnetization_qdrift = []\n",
    "@qfunc\n",
    "def main(t: CReal, qba: Output[QArray[QBit]]):\n",
    "    allocate(2, qba)\n",
    "    qdrift(\n",
    "        HAMILTONIAN,\n",
    "        evolution_coefficient=t,\n",
    "        num_qdrift=288,\n",
    "        qbv=qba,\n",
    "    )\n",
    "qmod = create_model(main)\n",
    "qprog = synthesize(qmod)\n",
    "qdrift_execution = ExecutionSession(qprog)\n",
    "for t_values in time_list:\n",
    "    res = qdrift_execution.estimate(magnetization_hamiltonian,{\"t\":t_values}).value\n",
    "    magnetization_qdrift.append(res)"
   ]
  },
  {
   "cell_type": "markdown",
   "metadata": {},
   "source": [
    "For the ``exponentiation_with_depth_constraint``, values of ``evolution_coefficient`` must be defined before synthesizing, since it is an important part of finding the most efficient decomposition. Therefore, a loop is necessary to execute the quantum program for different evolution coefficients and the populations of the final states can be used to evaluate the expected magnetization: "
   ]
  },
  {
   "cell_type": "code",
   "execution_count": 7,
   "metadata": {},
   "outputs": [],
   "source": [
    "from classiq import *\n",
    "\n",
    "magnetization_ewdc = []\n",
    "\n",
    "for t in time_list:\n",
    "    @qfunc\n",
    "    def main(qba: Output[QArray[QBit]]):\n",
    "        allocate(2, qba)\n",
    "        exponentiation_with_depth_constraint(\n",
    "        HAMILTONIAN,\n",
    "        evolution_coefficient=t,\n",
    "        max_depth=30,\n",
    "        qbv=qba,\n",
    "    )\n",
    "    qmod = create_model(main)\n",
    "    qprog = synthesize(qmod)\n",
    "    res = execute(qprog).result()\n",
    "    if \"11\" in res[0].value.counts:\n",
    "        magnetization = (res[0].value.counts[\"00\"]-res[0].value.counts[\"11\"])/2048\n",
    "    else:\n",
    "        magnetization = res[0].value.counts[\"00\"]/2048\n",
    "    magnetization_ewdc.append(magnetization)"
   ]
  },
  {
   "cell_type": "markdown",
   "metadata": {},
   "source": [
    "We can now make a plot comparing the magnetization values of the three different methods with the exact values:"
   ]
  },
  {
   "cell_type": "code",
   "execution_count": 8,
   "metadata": {},
   "outputs": [
    {
     "data": {
      "image/png": "[encoded data removed]",
      "text/plain": [
       "<Figure size 640x480 with 1 Axes>"
      ]
     },
     "metadata": {},
     "output_type": "display_data"
    }
   ],
   "source": [
    "import matplotlib.pyplot as plt\n",
    "\n",
    "fig, ax = plt.subplots()\n",
    "ax.set_xlabel(\"Evolution coefficient\")\n",
    "ax.set_ylabel(\"Magnetization\")\n",
    "plt.plot(time_list,np.real(magnetization_TS), label='Suzuki-Trotter 1st order')\n",
    "plt.plot(time_list, np.real(magnetization_ewdc), label='Exponentiation with depth constraint')\n",
    "plt.plot(time_list, np.real(magnetization_qdrift), label='qDRIFT')\n",
    "plt.plot(time_list, np.real(ideal_magnetization), label='Ideal Simulation')\n",
    "plt.legend()\n",
    "plt.show()"
   ]
  },
  {
   "cell_type": "markdown",
   "metadata": {},
   "source": [
    "As expected, exponentiation with depth constraint and Trotter-Suzuki give similar results since they are basically different stances of the same method. The qDRIFT may return less precise results in this case, which is also expected since this method performs well for hamiltonians with a dense, large number of terms. "
   ]
  },
  {
   "cell_type": "markdown",
   "metadata": {},
   "source": [
    "# Summary and Exercises"
   ]
  },
  {
   "cell_type": "markdown",
   "metadata": {},
   "source": [
    "In this guide, the Trotter-Suzuki and qDRIFT methods for hamiltonian simulation were introduced, highlighting the simplicity of Classiq's high level functional design in tackling complex problems.\n",
    "\n",
    "To gather more familiarity with the methods presented here and see how the synthesis engine is able to optimize quantum models for hamiltonian simulation, we suggest that you try to apply the methods learned here, such as the ``qDrift`` and ``Suzuki-Trotter``, as well as try different values of the ``evolution_coefficient`` to the following tutorial:\n",
    "\n",
    "* [Hamiltonian Evolution for a Water Molecule](https://docs.classiq.io/latest/explore/tutorials/technology_demonstrations/hamiltonian_evolution/hamiltonian_evolution/)\n",
    "\n",
    "It is encouraged to try and solving different molecules than the water molecule, with Classiq you can generate the hamiltonian of any valid molecule structure."
   ]
  },
  {
   "cell_type": "markdown",
   "metadata": {},
   "source": [
    "# Read More\n",
    "\n",
    "Besides the methods presented in this guide, there are also mixed approaches. One of them, proposed by Matthew Hagan and Nathan Wiebe [[6]](#quantum_sim_paper), offer an interesting combination of the Trotter-Suzuki and qDRIFT methods."
   ]
  },
  {
   "cell_type": "markdown",
   "metadata": {},
   "source": [
    "# References\n",
    "\n",
    "<a id='ts_paper'>[1]</a>: [Finding Exponential Product Formulas of Higher Orders (Naomichi Hatano and Masuo Suzuki)](https://arxiv.org/abs/math-ph/0506007)\n",
    "\n",
    "<a id='qdrift_paper'>[2]</a>: [A random compiler for fast Hamiltonian simulation (Earl Campbell)](https://arxiv.org/abs/1811.08017)\n",
    "\n",
    "<a id='qubitization_paper'>[3]</a>: [Hamiltonian Simulation by Qubitization (Guang Hao Low and Isaac L. Chuang)](https://arxiv.org/abs/1610.06546)\n",
    "\n",
    "<a id='qsvt_paper'>[4]</a>: [Quantum singular value transformation and beyond: exponential improvements for quantum matrix arithmetics (András Gilyén, Yuan Su, Guang Hao Low, and Nathan Wiebe)](https://arxiv.org/abs/1806.01838)\n",
    "\n",
    "<a id='magnetization_paper'>[5]</a>: [The microscopic magnetization: concept and application (L. L. Hirst)](https://journals.aps.org/rmp/abstract/10.1103/RevModPhys.69.607)\n",
    "\n",
    "<a id='quantum_sim_paper'>[6]</a>: [Composite Quantum Simulations (Matthew Hagan and Nathan Wiebe)](https://quantum-journal.org/papers/q-2023-11-14-1181/)"
   ]
  }
 ],
 "metadata": {
  "kernelspec": {
   "display_name": "Python 3",
   "language": "python",
   "name": "python3"
  },
  "language_info": {
   "codemirror_mode": {
    "name": "ipython",
    "version": 3
   },
   "file_extension": ".py",
   "mimetype": "text/x-python",
   "name": "python",
   "nbconvert_exporter": "python",
   "pygments_lexer": "ipython3",
   "version": "3.11.9"
  }
 },
 "nbformat": 4,
 "nbformat_minor": 2
}
