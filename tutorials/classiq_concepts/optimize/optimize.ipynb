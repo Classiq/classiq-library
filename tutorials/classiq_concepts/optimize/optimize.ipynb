{
 "cells": [
  {
   "cell_type": "markdown",
   "metadata": {},
   "source": [
    "# Optimize - The Synthesis Engine"
   ]
  },
  {
   "cell_type": "markdown",
   "metadata": {},
   "source": [
    "The previous section focused on how to design quantum algorithms with the Qmod language. Once you have designed a quantum algorithm, the Classiq synthesis engine compiles it into a quantum circuit ready for implementation on quantum computers or simulators. This section covers how to use the Classiq synthesis engine in the IDE and the Python SDK through concrete examples."
   ]
  },
  {
   "cell_type": "markdown",
   "metadata": {},
   "source": [
    "## Synthesis Background"
   ]
  },
  {
   "cell_type": "markdown",
   "metadata": {},
   "source": [
    "In most cases, a specific quantum model can be compiled to many or sometimes an infinite number of quantum circuits that might differ in their properties. Some may have more qubits with smaller circuit depth, some may have all the qubits connected to each other whilst others do not, and some may have fewer 2-qubit gates than others. \n",
    "\n",
    "The Classiq synthesis engine receives the quantum model as input together with the constraints and preferences of the desired quantum program, and outputs a quantum program implementation of the quantum model that satisfies the constraints and preferences.\n",
    "\n",
    "Some of the available constraint options for the synthesis engine:\n",
    "* Optimization parameter - either to optimize for circuit width or circuit depth;\n",
    "* Maximal gate count - maximum allowed number of a specific 1- or 2-qubit gate;\n",
    "* Maximal circuit width or circuit depth.\n",
    "\n",
    "Some of the available preferences:\n",
    "* Compiling the quantum circuit for a specific quantum processor;\n",
    "* The desired connectivity map of the quantum circuit;\n",
    "* The output format of the quantum circuit, e.g., `QASM` or `QIR`.\n",
    "\n",
    "See a full list of [constraints](https://docs.classiq.io/latest/classiq_101/classiq_concepts/optimize/) and [preferences](https://docs.classiq.io/latest/user-guide/synthesis/constraints/) in the reference manual. \n",
    "\n",
    "This section covers how to apply constraints and preferences through an actual example."
   ]
  },
  {
   "cell_type": "markdown",
   "metadata": {},
   "source": [
    "## Concrete Example"
   ]
  },
  {
   "cell_type": "markdown",
   "metadata": {},
   "source": [
    "The task covered in the 'Design - The Qmod Language' tutorial is to create a quantum algorithm that calculates the arithmetic expression $y=x^2+1$ in a superposition. \n",
    "\n",
    "The following model written in Qmod implements the desired task:"
   ]
  },
  {
   "cell_type": "code",
   "execution_count": 1,
   "metadata": {
    "execution": {
     "iopub.execute_input": "2024-05-07T13:26:59.358723Z",
     "iopub.status.busy": "2024-05-07T13:26:59.358262Z",
     "iopub.status.idle": "2024-05-07T13:27:02.443486Z",
     "shell.execute_reply": "2024-05-07T13:27:02.442825Z"
    }
   },
   "outputs": [],
   "source": [
    "from classiq import *\n",
    "\n",
    "\n",
    "@qfunc\n",
    "def main(x: Output[QNum], y: Output[QNum]):\n",
    "\n",
    "    allocate(4, x)\n",
    "    hadamard_transform(x)  # creates a uniform superposition\n",
    "    y |= x**2 + 1"
   ]
  },
  {
   "cell_type": "markdown",
   "metadata": {},
   "source": [
    "You can always directly synthesize it without any constraints or preferences:"
   ]
  },
  {
   "cell_type": "code",
   "execution_count": 2,
   "metadata": {
    "execution": {
     "iopub.execute_input": "2024-05-07T13:27:02.446891Z",
     "iopub.status.busy": "2024-05-07T13:27:02.446063Z",
     "iopub.status.idle": "2024-05-07T13:27:04.755389Z",
     "shell.execute_reply": "2024-05-07T13:27:04.754635Z"
    }
   },
   "outputs": [],
   "source": [
    "quantum_program = synthesize(create_model(main))"
   ]
  },
  {
   "cell_type": "markdown",
   "metadata": {},
   "source": [
    "<div  style=\"text-align:center;\">\n",
    "    <img src=\"https://docs.classiq.io/resources/design.gif\" style=\"width:100%;\">\n",
    "</div>"
   ]
  },
  {
   "cell_type": "markdown",
   "metadata": {},
   "source": [
    "Now, apply constraints and preferences; first in the IDE, and then in the Python SDK."
   ]
  },
  {
   "cell_type": "markdown",
   "metadata": {},
   "source": [
    "## Constraints and Preferences in the IDE"
   ]
  },
  {
   "cell_type": "markdown",
   "metadata": {},
   "source": [
    "In the IDE, once your model is complete, you can directly synthesize your algorithm with the default constraints and preferences by clicking `Synthesize`:\n",
    "\n",
    "\n",
    "<div  style=\"text-align:center;\" >\n",
    "    <img src=\"https://docs.classiq.io/resources/optimize_default.png\" style=\"width:100%;\">\n",
    "</div>"
   ]
  },
  {
   "cell_type": "markdown",
   "metadata": {},
   "source": [
    "To apply constraints and preferences, adapt the parameters on the right of the window and then synthesize your model:\n",
    "\n",
    "<div  style=\"text-align:center;\" >\n",
    "    <img src=\"https://docs.classiq.io/resources/optimize_adapt.png\" style=\"width:100%;\">\n",
    "</div>\n",
    "\n",
    "Below, see how to configure the constraints and preferences in the Python SDK."
   ]
  },
  {
   "cell_type": "markdown",
   "metadata": {},
   "source": [
    "## Constraints and Preferences in the Python SDK "
   ]
  },
  {
   "cell_type": "markdown",
   "metadata": {},
   "source": [
    "The synthesis engine receives an underlying Qmod representation of the quantum model that you construct in the Python SDK using the `create_model` function:"
   ]
  },
  {
   "cell_type": "code",
   "execution_count": 3,
   "metadata": {
    "execution": {
     "iopub.execute_input": "2024-05-07T13:27:04.759889Z",
     "iopub.status.busy": "2024-05-07T13:27:04.759621Z",
     "iopub.status.idle": "2024-05-07T13:27:04.769643Z",
     "shell.execute_reply": "2024-05-07T13:27:04.768869Z"
    }
   },
   "outputs": [],
   "source": [
    "quantum_model = create_model(main)"
   ]
  },
  {
   "cell_type": "markdown",
   "metadata": {},
   "source": [
    "You can synthesize this `quantum_model` directly with the command `synthesize(quantum_model)` to return the quantum program implementation. However, to apply constraints and preferences, first adapt the `quantum_model` representation.\n",
    "\n",
    "Create a circuit with the minimum number of qubits and a maximum circuit depth of $500$ by applying these constraints to the `quantum_model`:"
   ]
  },
  {
   "cell_type": "code",
   "execution_count": 4,
   "metadata": {
    "execution": {
     "iopub.execute_input": "2024-05-07T13:27:04.774439Z",
     "iopub.status.busy": "2024-05-07T13:27:04.773221Z",
     "iopub.status.idle": "2024-05-07T13:27:04.782112Z",
     "shell.execute_reply": "2024-05-07T13:27:04.781399Z"
    }
   },
   "outputs": [],
   "source": [
    "quantum_model_with_constraints = set_constraints(\n",
    "    quantum_model, Constraints(optimization_parameter=\"width\", max_depth=500)\n",
    ")"
   ]
  },
  {
   "cell_type": "markdown",
   "metadata": {},
   "source": [
    "Synthesize the `quantum_model` as usual:"
   ]
  },
  {
   "cell_type": "code",
   "execution_count": 5,
   "metadata": {
    "execution": {
     "iopub.execute_input": "2024-05-07T13:27:04.787739Z",
     "iopub.status.busy": "2024-05-07T13:27:04.785700Z",
     "iopub.status.idle": "2024-05-07T13:27:08.003675Z",
     "shell.execute_reply": "2024-05-07T13:27:08.002741Z"
    }
   },
   "outputs": [],
   "source": [
    "quantum_program = synthesize(quantum_model_with_constraints)"
   ]
  },
  {
   "cell_type": "markdown",
   "metadata": {},
   "source": [
    "Extract the parameters of the circuit implementation:"
   ]
  },
  {
   "cell_type": "code",
   "execution_count": 6,
   "metadata": {
    "execution": {
     "iopub.execute_input": "2024-05-07T13:27:08.009277Z",
     "iopub.status.busy": "2024-05-07T13:27:08.008746Z",
     "iopub.status.idle": "2024-05-07T13:27:08.026098Z",
     "shell.execute_reply": "2024-05-07T13:27:08.025197Z"
    }
   },
   "outputs": [
    {
     "name": "stdout",
     "output_type": "stream",
     "text": [
      "The circuit width is 12 and the circuit_depth is 392\n"
     ]
    }
   ],
   "source": [
    "circuit_width = QuantumProgram.from_qprog(quantum_program).data.width\n",
    "circuit_depth = QuantumProgram.from_qprog(quantum_program).transpiled_circuit.depth\n",
    "print(f\"The circuit width is {circuit_width} and the circuit_depth is {circuit_depth}\")"
   ]
  },
  {
   "cell_type": "markdown",
   "metadata": {},
   "source": [
    "<details>\n",
    "<summary> Compilation versus Transpilation </summary>\n",
    "The synthesis engine is a compiler that compiles a high-level functional model to one specific circuit out of many possible implementations. A transpiler, on the other hand, transforms one circuit implementation to another. Its use can be to change from a circuit representation with a given basis gate set to another one, or to further optimize a given circuit implementation with basic optimization procedures such as cancellation of two identical Hermitian gates applied consequently. \n",
    "</details>\n",
    "\n",
    "It is **highly recommended** that you complete the following exercise yourself, to experience for the first time how the one quantum algorithm can be compiled into two different circuit implementations that can substantially differ from one other.\n",
    "\n",
    "<details>\n",
    "<summary> Recommended Exercise </summary>\n",
    "Modify the constraints above to optimize the circuit for minimum circuit depth using maximum 25 qubits. What circuit depth and width do you receive? Are they different than shown above? Analyze the two quantum circuits using `show(quantum_program)` and determine which functional building block is implemented differently. \n",
    "</details>\n",
    "\n"
   ]
  },
  {
   "cell_type": "markdown",
   "metadata": {},
   "source": [
    "For the purpose of the exercise, assume that you will execute the quantum model on the `ibm_brisbane` IBM quantum processor. Pass this information to the synthesis engine so the quantum program is built appropriately. Do it by adding this preference and resynthesizing `quantum_model`:"
   ]
  },
  {
   "cell_type": "code",
   "execution_count": 7,
   "metadata": {
    "execution": {
     "iopub.execute_input": "2024-05-07T13:27:08.077340Z",
     "iopub.status.busy": "2024-05-07T13:27:08.076738Z",
     "iopub.status.idle": "2024-05-07T13:27:19.377781Z",
     "shell.execute_reply": "2024-05-07T13:27:19.376957Z"
    }
   },
   "outputs": [],
   "source": [
    "quantum_model_with_preferences = set_preferences(\n",
    "    quantum_model,\n",
    "    Preferences(backend_service_provider=\"IBM Quantum\", backend_name=\"ibm_brisbane\"),\n",
    ")\n",
    "\n",
    "quantum_program = synthesize(quantum_model_with_preferences)"
   ]
  },
  {
   "cell_type": "markdown",
   "metadata": {},
   "source": [
    "<details>\n",
    "<summary> Optional Exercise </summary>\n",
    "Extract the circuit depth and width of the above quantum program. How do they differ from the previous values? Consider why they differ in such a way. (It is helpful to know that the `IBM Brisbane` device has specific limited connectivity between its qubits, so there might be a certain overhead in applying some 2-qubit gates.)\n",
    "</details>\n",
    "\n",
    "So now you have a quantum program that implements the quantum model that calculates $y=x^2+1$ in a superposition, optimized for a specific real quantum computer. The following sections show how to actually run it on that computer with Classiq. But first, dive deeply into the Classiq analysis capabilities."
   ]
  },
  {
   "cell_type": "markdown",
   "metadata": {},
   "source": [
    "## Verify Your Understanding - Recommended Exercise"
   ]
  },
  {
   "cell_type": "markdown",
   "metadata": {},
   "source": [
    "Synthesize 3 different implementations of an MCX (multi-control-x) with 5 control qubits and 1 target qubit (you should use the control quantum operation for implementing an MCX, follow [this](https://docs.classiq.io/latest/explore/functions/function_usage_examples/mcx/mcx_example/) tutorial that can be open in the IDE). One implementation should be optimized for minimized depth, the other for minimized width, and the third somewhere in between (choose yourself what is the maximal width / depth you apply). \n",
    "\n",
    "Export the 3 implementations as LaTeX files on the hierarchy level that demonstrates the differences between the implementations.  Aggregate the implementations in 1 file and export it as a PDF and explain the key differences (it is recommended to use [Overleaf](https://www.overleaf.com/) -  a free, easy to use online LaTeX editor)."
   ]
  },
  {
   "cell_type": "markdown",
   "metadata": {},
   "source": [
    "### Advanced Exercise"
   ]
  },
  {
   "cell_type": "markdown",
   "metadata": {},
   "source": [
    "Synthesize 5 different implementations of an MCX with 20 control qubits and 1 target qubit. Compare the circuit width and circuit depth required for each implementation."
   ]
  },
  {
   "cell_type": "code",
   "execution_count": 8,
   "metadata": {
    "execution": {
     "iopub.execute_input": "2024-05-07T13:27:19.383085Z",
     "iopub.status.busy": "2024-05-07T13:27:19.381845Z",
     "iopub.status.idle": "2024-05-07T13:27:19.391736Z",
     "shell.execute_reply": "2024-05-07T13:27:19.390966Z"
    }
   },
   "outputs": [],
   "source": [
    "write_qmod(quantum_model_with_constraints, \"optimize\")"
   ]
  }
 ],
 "metadata": {
  "kernelspec": {
   "display_name": "Python 3.11.7 ('classiq')",
   "language": "python",
   "name": "python3"
  },
  "language_info": {
   "codemirror_mode": {
    "name": "ipython",
    "version": 3
   },
   "file_extension": ".py",
   "mimetype": "text/x-python",
   "name": "python",
   "nbconvert_exporter": "python",
   "pygments_lexer": "ipython3",
   "version": "3.11.9"
  },
  "vscode": {
   "interpreter": {
    "hash": "529b62266d4f537a408698cf820854c65fe877011c7661f0f70aa11c4383fddc"
   }
  }
 },
 "nbformat": 4,
 "nbformat_minor": 2
}
