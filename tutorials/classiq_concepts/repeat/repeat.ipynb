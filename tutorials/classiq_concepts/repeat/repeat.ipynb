{
 "cells": [
  {
   "cell_type": "markdown",
   "metadata": {},
   "source": [
    "# Repeat"
   ]
  },
  {
   "cell_type": "markdown",
   "metadata": {},
   "source": [
    "The `repeat` concept of the QMOD language is a classical `for loop` intended for quantum objects. That is, to repeat a quantum operation such as a bit-wise operation, apply the `repeat` concept of QMOD. "
   ]
  },
  {
   "cell_type": "markdown",
   "metadata": {},
   "source": [
    "Using the Classiq Python SDK package, access `repeat` as a function with two arguments:\n",
    "\n",
    " - `count`: `int` or `CInt` - how many times to repeat the operation\n",
    " - `iteration`: `QCallable` - which operation to repeat\n",
    "\n",
    "The argmuent that is passed as the `iteration` is a function in itself. Therefore, it leverages the concept of [lambda functions in Python](https://www.geeksforgeeks.org/python-lambda-anonymous-functions-filter-map-reduce/))."
   ]
  },
  {
   "cell_type": "markdown",
   "metadata": {},
   "source": [
    "The following example initializes two quantum states $|\\psi \\rangle$ and $| \\phi \\rangle$ with five qubits each. Then a Hadamard gate is applied on all the qubits of $|\\psi \\rangle$, i.e., $H^{\\otimes 5}|\\psi \\rangle$, and a NOT gate on all the qubits of $|\\phi \\rangle$, i.e., $X^{\\otimes 5}|\\phi \\rangle$.\n",
    "Finally, using the `repeat` function, a bit-wise `SWAP` is performed between $|\\phi \\rangle$ and $|\\psi \\rangle$."
   ]
  },
  {
   "cell_type": "markdown",
   "metadata": {},
   "source": [
    "<div style=\"text-align:center;\">\n",
    "    <img src=\"https://docs.classiq.io/resources/repeat_example.gif\" alt=\"Phase Kickback High Level\" />\n",
    "</div>"
   ]
  },
  {
   "cell_type": "code",
   "execution_count": 1,
   "metadata": {
    "execution": {
     "iopub.execute_input": "2024-07-31T11:29:34.900759Z",
     "iopub.status.busy": "2024-07-31T11:29:34.900295Z",
     "iopub.status.idle": "2024-07-31T11:29:40.563211Z",
     "shell.execute_reply": "2024-07-31T11:29:40.562433Z"
    }
   },
   "outputs": [
    {
     "name": "stdout",
     "output_type": "stream",
     "text": [
      "Opening: https://platform.classiq.io/circuit/b3d1e03d-3778-47a0-aab8-32004259d139?version=0.45.0.dev0%2Bcf1b9b7ccc\n"
     ]
    }
   ],
   "source": [
    "from classiq import (\n",
    "    SWAP,\n",
    "    H,\n",
    "    Output,\n",
    "    QArray,\n",
    "    QBit,\n",
    "    X,\n",
    "    allocate,\n",
    "    apply_to_all,\n",
    "    create_model,\n",
    "    qfunc,\n",
    "    repeat,\n",
    "    show,\n",
    "    synthesize,\n",
    ")\n",
    "\n",
    "\n",
    "@qfunc\n",
    "def main(psi: Output[QArray[QBit]], phi: Output[QArray[QBit]]):\n",
    "\n",
    "    allocate(num_qubits=5, out=psi)\n",
    "    allocate(num_qubits=5, out=phi)\n",
    "\n",
    "    apply_to_all(H, psi)\n",
    "    apply_to_all(X, phi)\n",
    "\n",
    "    repeat(count=psi.len, iteration=lambda i: SWAP(phi[i], psi[i]))\n",
    "\n",
    "\n",
    "qprog = synthesize(create_model(main))\n",
    "show(qprog)"
   ]
  },
  {
   "cell_type": "markdown",
   "metadata": {},
   "source": [
    "The native QMOD version of the code above:\n",
    "\n",
    "```\n",
    "// Repeat Example\n",
    "\n",
    "qfunc main(output psi: qbit[], output phi: qbit[]) {\n",
    "  allocate<5>(psi);\n",
    "  allocate<5>(phi);\n",
    "  \n",
    "  apply_to_all<H>(psi);\n",
    "  apply_to_all<X>(phi);\n",
    "  \n",
    "  repeat(i:psi.len) {\n",
    "    SWAP(phi[i], psi[i]);\n",
    "  }\n",
    "}\n",
    "```"
   ]
  },
  {
   "cell_type": "code",
   "execution_count": 2,
   "metadata": {
    "execution": {
     "iopub.execute_input": "2024-07-31T11:29:40.613413Z",
     "iopub.status.busy": "2024-07-31T11:29:40.612639Z",
     "iopub.status.idle": "2024-07-31T11:29:40.630765Z",
     "shell.execute_reply": "2024-07-31T11:29:40.630024Z"
    }
   },
   "outputs": [],
   "source": [
    "from classiq import write_qmod\n",
    "\n",
    "write_qmod(create_model(main), \"repeat\")"
   ]
  }
 ],
 "metadata": {
  "kernelspec": {
   "display_name": "Python 3.11.7 ('classiq_devolpment')",
   "language": "python",
   "name": "python3"
  },
  "language_info": {
   "codemirror_mode": {
    "name": "ipython",
    "version": 3
   },
   "file_extension": ".py",
   "mimetype": "text/x-python",
   "name": "python",
   "nbconvert_exporter": "python",
   "pygments_lexer": "ipython3",
   "version": "3.11.9"
  },
  "vscode": {
   "interpreter": {
    "hash": "e992e515f6583afc67b46eeabcda0f30363069fab8b382c7517b274ba7a59477"
   }
  }
 },
 "nbformat": 4,
 "nbformat_minor": 2
}
