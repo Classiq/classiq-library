{
 "cells": [
  {
   "cell_type": "markdown",
   "metadata": {},
   "source": [
    "# Design - The Qmod Language"
   ]
  },
  {
   "cell_type": "markdown",
   "metadata": {},
   "source": [
    "The first step in quantum software development is to design your software and your algorithm. Classiq features a unique high-level modeling language called Qmod that naturally captures the core concepts of quantum algorithm design. There are two ways to design in Qmod:\n",
    "* Directly, via the Classiq IDE using the Qmod native syntax\n",
    "* With the Classiq Python SDK package, which gives access to the Qmod language via Python\n",
    "\n",
    "Once you finish designing your algorithm, you send it to the Classiq synthesis engine (compiler) to create a concrete quantum circuit implementation - a quantum program."
   ]
  },
  {
   "cell_type": "markdown",
   "metadata": {},
   "source": [
    "## Concrete Example "
   ]
  },
  {
   "cell_type": "markdown",
   "metadata": {},
   "source": [
    "First, understand Qmod through an example. \n",
    "\n",
    "The task is to design a quantum algorithm that coherently computes the arithmetic operation $y=x^2+1$, for a quantum variable $|x\\rangle$ that is a superposition of all the numbers between $0$ and $7$:\n",
    "$\\begin{equation}\n",
    "|x\\rangle = \\frac{1}{\\sqrt{8}}(|0\\rangle+|1\\rangle+\\dots +|7\\rangle.\n",
    "\\end{equation}$\n",
    "The expected output is \n",
    "\n",
    "$\\begin{equation}\n",
    "|x\\rangle |y\\rangle = |x\\rangle |x^2+1\\rangle = \\frac{1}{\\sqrt{8}}\\sum_{i=0}^{7}|i\\rangle|i^2+1\\rangle,\n",
    "\\end{equation}$\n",
    "where $|x\\rangle$ is entangled to $|y\\rangle$.\n"
   ]
  },
  {
   "cell_type": "markdown",
   "metadata": {},
   "source": [
    "This may sound complicated, but the following few lines of code in Qmod create the desired algorithm with Classiq:"
   ]
  },
  {
   "cell_type": "code",
   "execution_count": 1,
   "metadata": {
    "execution": {
     "iopub.execute_input": "2024-05-07T13:28:21.042152Z",
     "iopub.status.busy": "2024-05-07T13:28:21.041703Z",
     "iopub.status.idle": "2024-05-07T13:28:23.680899Z",
     "shell.execute_reply": "2024-05-07T13:28:23.680103Z"
    }
   },
   "outputs": [],
   "source": [
    "from classiq import *\n",
    "\n",
    "\n",
    "@qfunc\n",
    "def main(x: Output[QNum], y: Output[QNum]):\n",
    "\n",
    "    allocate(3, x)\n",
    "    hadamard_transform(x)  # creates a uniform superposition\n",
    "    y |= x**2 + 1"
   ]
  },
  {
   "cell_type": "markdown",
   "metadata": {},
   "source": [
    "Synthesize and view the quantum program:"
   ]
  },
  {
   "cell_type": "code",
   "execution_count": 2,
   "metadata": {
    "execution": {
     "iopub.execute_input": "2024-05-07T13:28:23.686679Z",
     "iopub.status.busy": "2024-05-07T13:28:23.685168Z",
     "iopub.status.idle": "2024-05-07T13:28:26.256502Z",
     "shell.execute_reply": "2024-05-07T13:28:26.255810Z"
    }
   },
   "outputs": [
    {
     "name": "stdout",
     "output_type": "stream",
     "text": [
      "Opening: https://platform.classiq.io/circuit/83bade43-cef0-4286-83cc-ac1aafede94d?version=0.41.0.dev39%2B79c8fd0855\n"
     ]
    }
   ],
   "source": [
    "quantum_program = synthesize(create_model(main))\n",
    "show(quantum_program)"
   ]
  },
  {
   "cell_type": "markdown",
   "metadata": {},
   "source": [
    "<div  style=\"text-align:center;\">\n",
    "    <img src=\"https://docs.classiq.io/resources/design.gif\">\n",
    "</div>"
   ]
  },
  {
   "cell_type": "markdown",
   "metadata": {},
   "source": [
    "## Key Qmod Principles"
   ]
  },
  {
   "cell_type": "markdown",
   "metadata": {},
   "source": [
    "The above code is a quantum model written in Qmod. A model is composed of quantum functions with at least one quantum function called `main`. Define quantum functions in Python using regular Python functions decorated with `@qfunc`, and in the native Qmod syntax define them with the `qfunc` keyword.  \n",
    "\n",
    "Quantum functions manipulate quantum objects that are represented using quantum variables. Declare and initialize each variable before it is used. \n",
    "\n",
    "The following points explain the principles:"
   ]
  },
  {
   "cell_type": "markdown",
   "metadata": {},
   "source": [
    "<u>**1) Include a `qfunc` decorator in Python or keyword in the native syntax**</u>\n",
    "\n",
    "You can see the `qfunc` decorator (`@qfunc`) in the Python implementation and the corresponding keyword in the native implementation. This indicates to Qmod that we are dealing with quantum functions that manipulate quantum objects. \n",
    "\n",
    "<u>**2) Include a `main` function**</u>\n",
    "\n",
    "Every quantum algorithm written in Qmod must have a `main` function. From this `main` function, create the quantum program using the `synthesize(create_model(main))` command in Python or by clicking Synthesis in the IDE.\n",
    "\n",
    "<u>**3) Declare the arguments of the `main` function as `output`s**</u>\n",
    "\n",
    "In the above example, the two arguments of the `main` function—`x` and `y`—are both quantum variables. Their type is `QNum`(`qnum` in the native syntax), which announces a quantum number (see [Quantum Variables](../quantum_variables_and_functions/quantum_variables_and_functions.ipynb)). In addition to the type, declare the variables of the `main` function as `output`, indicating that these quantum variables are not initialized outside the scope of the function.\n",
    "<details> \n",
    "<summary> Types of Quantum Variables </summary>\n",
    "Qmod has these types of quantum variables:\n",
    "\n",
    "* `QBit` (`qbit`)\n",
    "* `QArray[QBit]` (`qbit[]`)\n",
    "* `QNum` (`qnum`)\n",
    "</details>\n",
    "\n",
    "\n",
    "<u>**4) Declare each quantum variable before using it**</u>\n",
    "\n",
    "You can declare the variables `x` and `y` as arguments of the `main` function or in the scope of a function (see [Quantum Variables](../quantum_variables_and_functions/quantum_variables_and_functions.ipynb)).\n",
    "<details> \n",
    "<summary> Declaration Within the Scope of a Function </summary>\n",
    "You can declare a quantum variable within the scope of a function with \n",
    "\n",
    "=== Python\n",
    "        x = QNum('x')\n",
    "\n",
    "=== Native\n",
    "        x:qnum;\n",
    "\n",
    "</details>\n",
    "\n",
    "<u>**5) Initialize each quantum variable**</u>\n",
    "\n",
    "After declaring a quantum variable, initialize it using one of several ways. Two are shown in the example above:\n",
    "\n",
    "* `x` is initialized with the `allocate` operation.\n",
    "* `y` is initialized with the `|=` (`=` in native) numeric assignment.\n",
    "\n",
    "<details> \n",
    "<summary> Types of Initializations </summary>\n",
    "Ways to initialize a quantum variable:\n",
    "\n",
    "* With `allocate` or `allocate_num` \n",
    "* With `prepare_int`, `prepare_state`, or `prepare_amplitudes`\n",
    "* As the result of a numeric operation, as in the example above\n",
    "* With the `bind` operation (`->` in native)\n",
    "* With any function that declares its quantum variable argument as `output`\n",
    "\n",
    "</details>"
   ]
  },
  {
   "cell_type": "markdown",
   "metadata": {},
   "source": [
    "## Verify Your Understanding - Recommended Exercise"
   ]
  },
  {
   "cell_type": "markdown",
   "metadata": {},
   "source": [
    "Write within the IDE with the native Qmod syntax a quantum algorithm that coherently calculates $y=2x+4z+2$ where $x$ and $z$ are  quantum numbers represented with 5 qubits each, and they are initialized in a superposition of all possible values."
   ]
  },
  {
   "cell_type": "markdown",
   "metadata": {},
   "source": [
    "## Next Steps\n",
    "Now that you are familiar with the foundations of Qmod, you can continue with\n",
    "* Quantum Variables and Functions\n",
    "* Quantum Operations\n",
    "* Classical Control Flow"
   ]
  },
  {
   "cell_type": "code",
   "execution_count": 3,
   "metadata": {
    "execution": {
     "iopub.execute_input": "2024-05-07T13:28:26.321902Z",
     "iopub.status.busy": "2024-05-07T13:28:26.321314Z",
     "iopub.status.idle": "2024-05-07T13:28:26.337269Z",
     "shell.execute_reply": "2024-05-07T13:28:26.336415Z"
    }
   },
   "outputs": [],
   "source": [
    "write_qmod(create_model(main), \"design\")"
   ]
  }
 ],
 "metadata": {
  "kernelspec": {
   "display_name": "Python 3 (ipykernel)",
   "language": "python",
   "name": "python3"
  },
  "language_info": {
   "codemirror_mode": {
    "name": "ipython",
    "version": 3
   },
   "file_extension": ".py",
   "mimetype": "text/x-python",
   "name": "python",
   "nbconvert_exporter": "python",
   "pygments_lexer": "ipython3",
   "version": "3.11.7"
  },
  "vscode": {
   "interpreter": {
    "hash": "e992e515f6583afc67b46eeabcda0f30363069fab8b382c7517b274ba7a59477"
   }
  }
 },
 "nbformat": 4,
 "nbformat_minor": 4
}
