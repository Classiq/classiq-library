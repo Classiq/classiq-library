{
 "cells": [
  {
   "cell_type": "markdown",
   "metadata": {},
   "source": [
    "# Modeling - Part 1"
   ]
  },
  {
   "cell_type": "markdown",
   "metadata": {},
   "source": [
    "In this tutorial, we will learn the basics of modeling quantum algorithms, using the Qmod language and its accompanied function library.\\\n",
    "We will learn to use functions, operators, quantum variables, and quantum types. "
   ]
  },
  {
   "cell_type": "markdown",
   "metadata": {},
   "source": [
    "Let's learn through a simple example:"
   ]
  },
  {
   "cell_type": "code",
   "execution_count": 3,
   "metadata": {},
   "outputs": [],
   "source": [
    "from classiq import *\n",
    "\n",
    "@qfunc\n",
    "def main(x: Output[QBit]) -> None:\n",
    "    allocate(1,x)\n",
    "    H(x)\n",
    "\n",
    "qmod  = create_model(main)"
   ]
  },
  {
   "cell_type": "markdown",
   "metadata": {},
   "source": [
    "The function `main` allocates 1 qubit to the quantum variable `x`, which is of type `QBit`. At this stage, `x` holds the default-upon-initialization state $|0\\rangle$.\\\n",
    "Then, the model applies the Hadamard gate `H` so that `x` should end in the state $\\frac{1}{\\sqrt{2}} (|0\\rangle + |1\\rangle)$."
   ]
  },
  {
   "cell_type": "markdown",
   "metadata": {},
   "source": [
    "## Qmod Fundementals"
   ]
  },
  {
   "cell_type": "markdown",
   "metadata": {},
   "source": [
    "This above simple model demonstrates several features that are essential in every Qmod code:"
   ]
  },
  {
   "cell_type": "markdown",
   "metadata": {},
   "source": [
    "### The `@qfunc` decorator\n",
    "Qmod is a quantum computing language embeded into Python. The decorator `@qfunc` marks a Qmod function, so that the Qmod interpreter is called to handle it. The decorator is used in every quantum function definition.\n",
    "\n",
    "### The function `main`\n",
    "Any Qmod code that is intended to be synthesized into an executable quantum program must define a function `main`. The function `main` acts as the program's quantum entry point - it specifies the inputs and outputs of the quantum program, that is, its interface with the external classical execution logic.\n",
    "\n",
    "### The `Output` modifier\n",
    "All quantum variables that are to be measured must be declared using the `Output` modifier.\n",
    "The variable `x` declared in `main`'s definition is marked as an `Output`, meaning that it is to be measured...\n",
    "Function main cannot declare quantum arguments other than using the output modifier, since the classical execution logic cannot pass quantum states as arguments. "
   ]
  },
  {
   "cell_type": "markdown",
   "metadata": {},
   "source": []
  },
  {
   "cell_type": "markdown",
   "metadata": {},
   "source": []
  }
 ],
 "metadata": {
  "kernelspec": {
   "display_name": "external-user-venv-PaJZMdG0-py3.11",
   "language": "python",
   "name": "python3"
  },
  "language_info": {
   "codemirror_mode": {
    "name": "ipython",
    "version": 3
   },
   "file_extension": ".py",
   "mimetype": "text/x-python",
   "name": "python",
   "nbconvert_exporter": "python",
   "pygments_lexer": "ipython3",
   "version": "3.11.6"
  }
 },
 "nbformat": 4,
 "nbformat_minor": 2
}
