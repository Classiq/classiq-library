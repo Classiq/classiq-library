{
 "cells": [
  {
   "cell_type": "markdown",
   "metadata": {},
   "source": [
    "# The Classiq Workflow\n",
    "In this notebook we introduce the typical workflow with Classiq:\n",
    "- **Designing a quantum algorithm** using the Qmod language and it's accompanied function library.\n",
    "- **Synthesizing the algorithm** into a concrete circuit implementation.\n",
    "- **Executing the algorithm** on a chosen simulator or quantum harware.\n",
    "- **Post-processing** the results.\n",
    "\n",
    "Later tutorials dive into each of the above stages, providing hands-on interactive guides that go from the very basics to advanced usage. \n",
    "\n",
    "To get started, run:"
   ]
  },
  {
   "cell_type": "code",
   "execution_count": 30,
   "metadata": {},
   "outputs": [],
   "source": [
    "from classiq import *"
   ]
  },
  {
   "cell_type": "markdown",
   "metadata": {},
   "source": [
    "If this `import` doesn't work for you, please try `pip install classiq` in your terminal, or refer to [Registration and Installation](https://docs.classiq.io/latest/classiq_101/registration_installations/)."
   ]
  },
  {
   "cell_type": "markdown",
   "metadata": {},
   "source": [
    "## Designing a Quantum Algorithm\n",
    "\n"
   ]
  },
  {
   "cell_type": "markdown",
   "metadata": {},
   "source": [
    "Here we will define a quantum function `main` that calculates a simple arithmetic expression:"
   ]
  },
  {
   "cell_type": "code",
   "execution_count": 31,
   "metadata": {},
   "outputs": [],
   "source": [
    "@qfunc\n",
    "\n",
    "def main(x: Output[QNum], y: Output[QNum]) -> None:\n",
    "    allocate(3,x)\n",
    "    hadamard_transform(x)\n",
    "    y |= x**2 + 1\n"
   ]
  },
  {
   "cell_type": "markdown",
   "metadata": {},
   "source": [
    "Explaining the code step-by-step:\n",
    "1. Allocate 3 qbits for the quantum number `x`, allowing it to represent $2^3$ different numbers, from 0 to 7 (for example, the bitstring '010' represents the number 2).\n",
    "2. Apply `hadamard_transform` on `x` to prepare it into an equal superposition of all these numbers.\n",
    "3. Assign the desired arithmetic expression result into the quantum number `y`."
   ]
  },
  {
   "cell_type": "markdown",
   "metadata": {},
   "source": [
    "We expect the output variables `x` and `y` to end in an equal superpostion of the states $|x_i\\rangle |y_i=x_i^2+1\\rangle$ for $x_is$ from 0 to 7.\\\n",
    "In other words, we have designed our quantum algorithm to calculate $x^2 +1$."
   ]
  },
  {
   "cell_type": "markdown",
   "metadata": {},
   "source": [
    "## Synthesizing The Algorithm"
   ]
  },
  {
   "cell_type": "markdown",
   "metadata": {},
   "source": [
    "The function `main` describes the algorithm in a high-level manner: \"calculate $x^2+1$ and assign in into `y`\". However, it does not specify __how__ to apply this calculation - it does not map it into an executable quantum circuit, made of elementary quantum gates.\\\n",
    "In order to do so, we can pass the algorithm to Classiq's synthesis engine. \n",
    "\n",
    "First, create a Quantum Model object `qmod` out of the function `main`:"
   ]
  },
  {
   "cell_type": "code",
   "execution_count": 32,
   "metadata": {},
   "outputs": [],
   "source": [
    "qmod = create_model(main)"
   ]
  },
  {
   "cell_type": "markdown",
   "metadata": {},
   "source": [
    "Then, pass `qmod` to the synthesis engine to obtain a concrete quantum program `qprog`.\\\n",
    "Here we will simply call to the function `synthesize`. Later on we will learn to provide configuration details (e.g. which elementary gates are allowed to use?)."
   ]
  },
  {
   "cell_type": "code",
   "execution_count": 33,
   "metadata": {},
   "outputs": [],
   "source": [
    "qprog = synthesize(qmod)"
   ]
  },
  {
   "cell_type": "markdown",
   "metadata": {},
   "source": [
    "We can analyze the resulting implementation using Classiq's visualization tool:"
   ]
  },
  {
   "cell_type": "code",
   "execution_count": 34,
   "metadata": {},
   "outputs": [
    {
     "name": "stdout",
     "output_type": "stream",
     "text": [
      "Opening: https://platform.classiq.io/circuit/2sdF7ey6Azju9VOkicpb93WuI8Y?version=0.67.0\n"
     ]
    }
   ],
   "source": [
    "show(qprog)"
   ]
  },
  {
   "cell_type": "markdown",
   "metadata": {},
   "source": [
    "This should pop up a web page with something like this:"
   ]
  },
  {
   "cell_type": "markdown",
   "metadata": {},
   "source": [
    "<div style=\"text-align:center;\">\n",
    "    <img src=\"https://docs.classiq.io/resources/visualization_classiq_workflow.png\" alt=\"vis\" />\n",
    "</div>"
   ]
  },
  {
   "cell_type": "markdown",
   "metadata": {},
   "source": [
    "By clicking the `+` icons on the blocks' top-left corner, we can inspect the gate-level implementation of each functional block. For example, inspect the complex combination of `H`, `CPHASE`, `CX` and `U` gates that implements the `Power` block."
   ]
  },
  {
   "cell_type": "markdown",
   "metadata": {},
   "source": [
    "## Executing The Quantum Program\n",
    "Now that we have a concrete circuit implementation of the desired algorithm, we can execute it and sample the resulting states of the output variables.\\\n",
    "Here we will simply call the function `execute`, which uses Classiq's default quantum simulator and samples the variable multiple times (the default `n_shots` is 2048):"
   ]
  },
  {
   "cell_type": "code",
   "execution_count": 35,
   "metadata": {},
   "outputs": [],
   "source": [
    "job = execute(qprog)"
   ]
  },
  {
   "cell_type": "markdown",
   "metadata": {},
   "source": [
    "Later on we will learn how to execute on hardwares and simulators of our choice and manage advanced executions (for example, hybrid execution that uses classical logic to alter the circuit between runs)."
   ]
  },
  {
   "cell_type": "markdown",
   "metadata": {},
   "source": [
    "## Post-processing The Results"
   ]
  },
  {
   "cell_type": "markdown",
   "metadata": {},
   "source": [
    "Having executed the quantum program multiple times (`n_shots`=2048) we can now inspect the possible pairs `x`,`y` that our arithmetic expression allows ($y=x^2+1$).\\\n",
    "This can be done by looking into `parsed_counts` - a list of all the states that were measured on the output variables, ordered by the number of shots (counts) that they were measured."
   ]
  },
  {
   "cell_type": "code",
   "execution_count": 36,
   "metadata": {},
   "outputs": [
    {
     "name": "stdout",
     "output_type": "stream",
     "text": [
      "[{'x': 6, 'y': 37}: 280, {'x': 1, 'y': 2}: 278, {'x': 0, 'y': 1}: 272, {'x': 7, 'y': 50}: 253, {'x': 3, 'y': 10}: 252, {'x': 5, 'y': 26}: 244, {'x': 4, 'y': 17}: 239, {'x': 2, 'y': 5}: 230]\n"
     ]
    }
   ],
   "source": [
    "pc = job.get_sample_result().parsed_counts\n",
    "print(pc)"
   ]
  },
  {
   "cell_type": "markdown",
   "metadata": {},
   "source": [
    "As expected, all possible values of `x` (integers from 0 to 7) were measured roughly similar amount of times, and with each `x` measured, the measurement of `y` satisfies $y=x^2+1$.\n",
    "\n",
    "Alternatively, you can inspect the histogram of sampled states in Classiq's web platform:"
   ]
  },
  {
   "cell_type": "code",
   "execution_count": 37,
   "metadata": {},
   "outputs": [],
   "source": [
    "job.open_in_ide()"
   ]
  },
  {
   "cell_type": "markdown",
   "metadata": {},
   "source": [
    "<div style=\"text-align:center;\">\n",
    "    <img src=\"https://docs.classiq.io/resources/hist_classiq_workflow.png\" alt=\"vis\" />\n",
    "</div>"
   ]
  },
  {
   "cell_type": "markdown",
   "metadata": {},
   "source": [
    "Hovering above each of the histogram bars shows its bitstring and its parsed variables values. For example, the bistring '010001100' is parsed into `x`=4, `y`=17, because the first 3 qubits (counting from the right) were allocated to `x` and were measured '100'=4, and the 6 qubits allocaled for `y` (automatically, by the synthesis engine) were measured '010001'=17."
   ]
  },
  {
   "cell_type": "markdown",
   "metadata": {},
   "source": [
    "## Summary"
   ]
  },
  {
   "cell_type": "markdown",
   "metadata": {},
   "source": [
    "In this tutorial, we have gone through a typical workflow using Classiq:\n",
    "1. Modeling a quantum algorithm: the problem we wanted to solve is calculating an arithmetic expression for a given domain of `x` values. We used `hadamard_transform` and arithmetic assignment as our modeling building blocks.\n",
    "2. Synthesizing the model into a concrete circuit implementation: we called `synthesize` to let Classiq's synthesis engine take our high-level description and implement it in an executable way.\n",
    "3. Executing the algorithm: we called `execute` to run our quantum program multiple times on Classiq's simulator.\n",
    "4. Post-processing: We inspected the measured states of `x` and `y` - for each `x` and assured ourselves that they satisfy the desired arithmetic expression.\n"
   ]
  },
  {
   "cell_type": "markdown",
   "metadata": {},
   "source": [
    "### Food for Thought\n",
    "You might have noticed that our algorithm does not truely harness the power of quantum computers: a moment before sampling the qubits, `x` and `y` indeed hold \"the answers to all questions\" simultaneously (all the pairs `x` and `y` that satisfy the equation), but we cannot access these answers unless sampling the qubits, which collapsese the superposition and leaves only  a single (and randomly chosen) pair of `x` and `y`.\\\n",
    "Having said that, we have no choice but to run multiple times (many more than $2^3$ in our case) to make sure that we measure all `x`s of interest. A classical computer could obtain the same information in exactly $2^3$ runs.\\\n",
    "Then, why bother?\\\n",
    "While pure arithmetic alone may never be a primary task for quantum computers, quantum arithmetic plays a crucial role in many quantum algorithms that do exploit quantum speedup. For example, it is widely used in oracle functions within Grover’s search algorithm and in quantum cryptographic protocols."
   ]
  },
  {
   "cell_type": "markdown",
   "metadata": {},
   "source": [
    "## Practice\n",
    "Edit the arithmetic expression inside `main`, using the `+`, `-`, `**` operators as well as literal numbers of your choice. Validate that the sampled states of `x` and `y` satsify your arithmetic expression.\n"
   ]
  }
 ],
 "metadata": {
  "kernelspec": {
   "display_name": "external-user-venv-PaJZMdG0-py3.11",
   "language": "python",
   "name": "python3"
  },
  "language_info": {
   "codemirror_mode": {
    "name": "ipython",
    "version": 3
   },
   "file_extension": ".py",
   "mimetype": "text/x-python",
   "name": "python",
   "nbconvert_exporter": "python",
   "pygments_lexer": "ipython3",
   "version": "3.11.6"
  }
 },
 "nbformat": 4,
 "nbformat_minor": 2
}
