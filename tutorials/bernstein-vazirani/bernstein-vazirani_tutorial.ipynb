{
 "cells": [
  {
   "cell_type": "markdown",
   "metadata": {},
   "source": [
    "# Bernstein-Vazirani Algorithm"
   ]
  },
  {
   "cell_type": "markdown",
   "metadata": {},
   "source": [
    "The Bernstein-Vazirani (BV) algorithm [[1](#DJWiki)], named after Ethan Bernstein and Umesh Vazirani, is a fundamental quantum algorithm that demonstrates a linear speed-up compared to its classical counterpart in the oracle complexity setting. While the BV algorithm showcases this theoretical speed-up, its practical utility is limited due to its specific problem domain. Nonetheless, it stands as one of the early examples illustrating the potential of quantum computing to outperform classical methods in certain scenarios.\n",
    "\n",
    "**The algorithm addresses the following problem:**\n",
    "\n",
    "- Given an $ n $-bit string $ x $ representing the input of a function $ f:\\{0,1\\}^n \\rightarrow \\{0,1\\} $.\n",
    "- $ f $ is a \"quantum oracle function\" (see NOTE) that takes an $ n $-bit string as input and returns the inner product of the input string and the \"hidden bit string\" $ s $: $ f(x) = x \\cdot s $ for all $ x $, where the inner product is computed modulo 2.\n",
    "\n",
    "\n",
    "Summing-up:\n",
    "\n",
    "**Input:** $ x $, an $ n $-bit string.\n",
    "\n",
    "**Promise:** There exists a hidden $ n $-bit string $ s $ such that $ f(x) = x \\cdot s $ for all $ x $.\n",
    "\n",
    "**The goal:** Determine the hidden bit string $ s $ using the minimal number of queries (evaluations) of the oracle function $ f $."
   ]
  },
  {
   "cell_type": "markdown",
   "metadata": {},
   "source": [
    "<details>\n",
    "<summary> NOTE regarding the oracle function:</summary>\n",
    "    \n",
    "For the sake of this tutorial you could think of oracle function as \"black-box\" function, but we include here little elaboration:\n",
    "    \n",
    "The standard way [[2](#NielsenChuang)] to apply a classical function $f:\\{0,1\\}^n \\rightarrow \\{0,1\\}$ on quantum states is with the oracle model: \n",
    "$\\begin{equation}\n",
    "O_f (\\ket{x}_n\\ket{y}_1) = \\ket{x}_n\\ket{y \\oplus f(x)}_1\n",
    "\\end{equation}$\n",
    "with $\\ket{x}$ and $\\ket{y}$ being the argument and target quantum states respectively, and $\\oplus$ being addition modolu $2$, or the XOR operation. The BV algorithm takes the oracle $O_f$ as an input, and performs the following operation:\n",
    "$\\begin{equation}\n",
    "\\ket{x}\\rightarrow (-1)^{f(x)}\\ket{x}.\n",
    "\\end{equation}$\n",
    "This can be applied on a superposition of states such that\n",
    "$\\begin{equation}\n",
    "\\sum_{i=0}^{2^n-1}\\alpha_i\\ket{x_i}\\rightarrow (-1)^{f(x_i)}\\alpha_i\\ket{x_i}\n",
    "\\end{equation}$\n",
    "with $\\alpha_i$ being the amplitude of the $\\ket{x_i}$ state.\n",
    "\n",
    "How does this happen? It is simple (hence the beauty of it). Apply the oracle $O_f$ to the state target quantum state $\\ket{-}=\\frac{1}{\\sqrt{2}}\\ket{0}-\\frac{1}{\\sqrt{2}}\\ket{1}$ such that\n",
    "$\\begin{equation}\n",
    "O_f\\ket{x}\\ket{-} = (-1)^{f(x)}\\ket{x}\\ket{-}\n",
    "\\end{equation}$\n",
    "and then effectively achieving the desired transformation $\\ket{x}\\rightarrow (-1)^{f(x)}\\ket{x}$.\n",
    "\n",
    "<div style=\"text-align:center;\">\n",
    "    <img src=\"https://docs.classiq.io/resources/phase_kickback_high_level.png\" alt=\"Phase Kickback High Level\" />\n",
    "</div>\n",
    "</details>"
   ]
  },
  {
   "cell_type": "markdown",
   "metadata": {},
   "source": [
    "**The best classical solution** for this problem typically requires $ n $ evaluations of the function $ f $ to determine the hidden bit string $ s $. This scenario arises when the input bit string $ x $ consists of $ n-1 $ zeros and a single one, which systematically shifts across all positions in the string to explore all possible linear combinations. \n",
    "\n",
    "For example, the first evaluation would set $ x = 100...0 $, the second evaluation $ x = 010...0 $, and so on."
   ]
  },
  {
   "cell_type": "markdown",
   "metadata": {},
   "source": [
    "**In contrast to the classical solution, the quantum solution requires only a single query.**"
   ]
  },
  {
   "cell_type": "markdown",
   "metadata": {},
   "source": [
    "See how this works in the [Mathematical Description](#mathematical-description)."
   ]
  },
  {
   "cell_type": "markdown",
   "metadata": {},
   "source": [
    "**Classiq Concepts**\n",
    "* [Within-apply](https://docs.classiq.io/latest/qmod-reference/language-reference/statements/within-apply/\n",
    "* [Classical Control Flow (repeat, if_)](https://docs.classiq.io/latest/qmod-reference/language-reference/statements/classical-control-flow/)"
   ]
  },
  {
   "cell_type": "markdown",
   "metadata": {},
   "source": [
    "## Guided Implementation"
   ]
  },
  {
   "cell_type": "markdown",
   "metadata": {},
   "source": [
    "**The quantum solution that exploits this advantage takes the following steps:**\n",
    "1. Prepare a uniform superposition in the input state $ x $ using `hadamard_transform`.\n",
    "2. `Apply` the oracle function that implements the function $ f $ `Within` $ \\ket{-} $. \n",
    "3. Reapply uniform superposition on the registers of $ x $."
   ]
  },
  {
   "cell_type": "markdown",
   "metadata": {},
   "source": [
    "The first and last steps could be easily done in the `main` function using the Classiq built-in `hadamard_transform()`. The second step is more complex. Break it down, bearing in mind that with Classiq--as with any serious development platform--it is recommended **to design your code at the functional level in terms of functions**."
   ]
  },
  {
   "cell_type": "markdown",
   "metadata": {},
   "source": [
    "According to this note, implement one function at a time and then connect them. \n",
    "\n",
    "Let's start implementing! "
   ]
  },
  {
   "cell_type": "markdown",
   "metadata": {},
   "source": [
    "The main building block in the implementation uses `within_apply`. This Classiq function performs the common quantum pattern: $ U^{\\dagger}VU $.\n",
    "This function contains two nested statement blocks--the compute block and the action block--and evaluates this sequence: compute ($ U $), action ($ V $), and invert(compute) ($ U^{\\dagger} $).\n",
    "\n",
    "\n",
    "<!-- The quantum objects that are allocated and prepared by the compute block are subsequently uncomputed and released. -->"
   ]
  },
  {
   "cell_type": "markdown",
   "metadata": {},
   "source": [
    "According to the algorithm, $ U $ is chosen to be `prepare_minus` on the auxiliary qubit, while $ V $ is the unitary oracle operator ($ O_f $) that implements the function  $ f $."
   ]
  },
  {
   "cell_type": "markdown",
   "metadata": {},
   "source": [
    "Use the prepare $\\ket{-}$ building block implemented with the `prepare_minus` function. Implement it by sequentially applying the `X` (NOT) gate that transforms $\\ket{0}$ into $X\\ket{0}=\\ket{1}$, and then applying the Hadamard `H` gate that takes the $\\ket{1}$ state into the desired $H\\ket{1}=\\ket{-}$ state:"
   ]
  },
  {
   "cell_type": "code",
   "execution_count": 13,
   "metadata": {
    "ExecuteTime": {
     "end_time": "2024-09-22T09:08:38.849896Z",
     "start_time": "2024-09-22T09:08:38.846242Z"
    }
   },
   "outputs": [],
   "source": [
    "from classiq import H, Output, QBit, X, allocate, qfunc\n",
    "\n",
    "\n",
    "@qfunc\n",
    "def prepare_minus(target: Output[QBit]):\n",
    "    allocate(out=target, num_qubits=1)\n",
    "    X(target)\n",
    "    H(target)"
   ]
  },
  {
   "cell_type": "markdown",
   "metadata": {},
   "source": [
    "<div style=\"text-align:center;\">\n",
    "    <img src=\"https://docs.classiq.io/resources/phase_kickback_prepare_minus.gif\" alt=\"Phase Kickback High Level\" />\n",
    "</div>"
   ]
  },
  {
   "cell_type": "markdown",
   "metadata": {},
   "source": [
    "Apply the oracle operator ($ O_f $) that implements the function $ f $.\n",
    "\n",
    "It is possible to implement $ O_f $ using an auxiliary qubit that registers the value of $ f(x) $ by following this logic:\n",
    "* For each $s_i =1$, apply $ X $ gate on the auxiliary $ \\ket{f} $ controlled by $ \\ket{x_i} $.\n",
    "* If $ s_i=0 $, do nothing, which is equivalent to applying the `IDENTITY` function.\n",
    "\n",
    "<!-- $ \\ket{f} $, initiated as $ \\ket{f}=\\ket{0} $, \"sandwiched\" between `prepare_minus`, and finally -->"
   ]
  },
  {
   "cell_type": "code",
   "execution_count": 14,
   "metadata": {
    "ExecuteTime": {
     "end_time": "2024-09-22T09:08:38.862494Z",
     "start_time": "2024-09-22T09:08:38.859032Z"
    }
   },
   "outputs": [],
   "source": [
    "from classiq import CX, IDENTITY, CInt, QArray, if_, repeat\n",
    "from classiq.qmod.symbolic import floor\n",
    "\n",
    "\n",
    "@qfunc\n",
    "def oracle_function(s: CInt, x: QArray, res: QBit):\n",
    "\n",
    "    repeat(\n",
    "        count=x.len,\n",
    "        iteration=lambda i: if_(\n",
    "            condition=floor(s / 2**i) % 2 == 1,\n",
    "            then=lambda: CX(x[i], res),\n",
    "            else_=lambda: IDENTITY(res),\n",
    "        ),\n",
    "    )"
   ]
  },
  {
   "cell_type": "markdown",
   "metadata": {},
   "source": [
    "* Here, the \"oracle_function\" employs the `repeat` construct to execute the logic described earlier $ n $ times (length of $ x $), as specified by the parameter 'count'.\n",
    "* Each iteration of the `repeat` loop utilizes the `if_` statement, which parallels the conventional Python 'if' statement. It comprises the 'condition', 'then', and 'else_' attributes, which mirror the structure of an if-else statement in native Python."
   ]
  },
  {
   "cell_type": "markdown",
   "metadata": {},
   "source": [
    "**Loops and conditions are the bread and butter of classical computation. Qmod, the Classiq native language accessed through the Classiq Python SDK, employs the same concepts with `repeat` and `if_` statements, serving as a means of [Classical Control Flow](https://docs.classiq.io/latest/qmod-reference/language-reference/statements/classical-control-flow/). These are handy tools for describing reusable building blocks.**"
   ]
  },
  {
   "cell_type": "markdown",
   "metadata": {},
   "source": [
    "The 'condition' looks confusing at a first glance, but all it does is implement the above mentioned logic examining the value of $ s_i \\in \\{0,1\\}$ to apply the appropriate gate.\n",
    "\n",
    "Breaking it down:\n",
    "\n",
    "1. $ \\text{floor}(s / 2^i) $ divides the secret integer $ s $ by $ 2^i $, effectively shifting the bits of $ s $, $ i $ positions to the right in the binary representation.\n",
    "\n",
    "2. Taking the result modulo 2 then extracts the most significant bit of the resulting number.\n",
    "\n",
    "3. If the extracted bit is 1, it indicates that the $ i $-th bit of the binary representation of $ s $ is indeed 1.\n",
    "\n",
    "<!-- **Maybe give a small example of another way to simplify this part**  -->"
   ]
  },
  {
   "cell_type": "markdown",
   "metadata": {},
   "source": [
    "In summary:\n",
    "\n",
    "- The `condition` in the `if_` statement checks whether the bit value at position \\(i\\) is 1 or 0.\n",
    "- If the condition is true (i.e., the bit value is 1), the `then` block applies a controlled-NOT (CX) gate.\n",
    "- If the condition is false (i.e., the bit value is 0), the `else_` block does nothing and uses the `IDENTITY` gate.\n",
    "\n",
    "\n",
    "<!-- My test:\n",
    "\n",
    "import numpy as np\n",
    "bit_list =[]\n",
    "\n",
    "s = 13\n",
    "\n",
    "for i in range(5): \n",
    "    print(f'Bit in position i={i}, calculating: {s}/(2^{i}) result: {13/(2**i)}')\n",
    "    \n",
    "    tmp_bool = (np.floor(13/(2**i)%2)==1)\n",
    "    # print(tmp_bool) # Test\n",
    "    if tmp_bool==True:\n",
    "        bit_list.append(1)\n",
    "        # print(f'Qubit {i} is in the state: {1}')\n",
    "    else:\n",
    "        # print(f'Qubit {i} is in the state: {0}')\n",
    "        bit_list.append(0)\n",
    "    \n",
    "print(bit_list) -->"
   ]
  },
  {
   "cell_type": "markdown",
   "metadata": {},
   "source": [
    "**You are almost done.** \\\n",
    "Now you have all you need to set the 'bv_function' using `within_apply`, as discussed earlier:"
   ]
  },
  {
   "cell_type": "code",
   "execution_count": 15,
   "metadata": {
    "ExecuteTime": {
     "end_time": "2024-09-22T09:08:38.875497Z",
     "start_time": "2024-09-22T09:08:38.872985Z"
    }
   },
   "outputs": [],
   "source": [
    "from classiq import within_apply\n",
    "\n",
    "\n",
    "@qfunc\n",
    "def bv_function(s: CInt, x: QArray[QBit]):\n",
    "\n",
    "    aux = QBit(\"aux\")\n",
    "    within_apply(lambda: prepare_minus(aux), lambda: oracle_function(s, x, aux))"
   ]
  },
  {
   "cell_type": "markdown",
   "metadata": {},
   "source": [
    "Begin by initializing an auxiliary qubit called \"aux\". Then, leverage `within_apply` ([learn more here](https://docs.classiq.io/latest/qmod-reference/language-reference/statements/within-apply/) as discussed previously: $ U=$ prepare_minus(aux) and $ V=$f_logic(s, x, aux).\n",
    "\n",
    "You receive the desired logic:\n"
   ]
  },
  {
   "cell_type": "markdown",
   "metadata": {},
   "source": [
    "<div style=\"text-align:center;\">\n",
    "    <img src=\"https://docs.classiq.io/resources/oracle_function.gif\" alt=\"oracle_function\" />\n",
    "</div>"
   ]
  },
  {
   "cell_type": "markdown",
   "metadata": {},
   "source": [
    "Finally, assemble all your building blocks in the main function:"
   ]
  },
  {
   "cell_type": "code",
   "execution_count": 16,
   "metadata": {
    "ExecuteTime": {
     "end_time": "2024-09-22T09:08:38.885791Z",
     "start_time": "2024-09-22T09:08:38.883658Z"
    }
   },
   "outputs": [],
   "source": [
    "from classiq import QNum, hadamard_transform\n",
    "\n",
    "\n",
    "@qfunc\n",
    "def main(x: Output[QNum]):\n",
    "\n",
    "    allocate(STRING_LENGTH, x)\n",
    "\n",
    "    hadamard_transform(x)\n",
    "    bv_function(SECRET_INT, x)\n",
    "    hadamard_transform(x)"
   ]
  },
  {
   "cell_type": "markdown",
   "metadata": {},
   "source": "Let's check what you have created!"
  },
  {
   "cell_type": "code",
   "execution_count": 17,
   "metadata": {
    "ExecuteTime": {
     "end_time": "2024-09-22T09:08:38.894351Z",
     "start_time": "2024-09-22T09:08:38.892743Z"
    }
   },
   "outputs": [],
   "source": [
    "# Input values:\n",
    "SECRET_INT = 13  # We expect to get it as output\n",
    "STRING_LENGTH = 5\n",
    "NUM_SHOTS = 1"
   ]
  },
  {
   "cell_type": "markdown",
   "metadata": {},
   "source": [
    "Note that the number of shots can be set to 1, under the assumption of noiseless execution."
   ]
  },
  {
   "cell_type": "code",
   "execution_count": 18,
   "metadata": {
    "ExecuteTime": {
     "end_time": "2024-09-22T09:08:38.902741Z",
     "start_time": "2024-09-22T09:08:38.900967Z"
    }
   },
   "outputs": [],
   "source": [
    "# Make sure the input makes sense:\n",
    "import numpy as np\n",
    "\n",
    "assert (\n",
    "    np.floor(np.log2(SECRET_INT) + 1) <= STRING_LENGTH\n",
    "), \"The STRING_LENGTH cannot be smaller than the secret string length\""
   ]
  },
  {
   "cell_type": "markdown",
   "metadata": {},
   "source": [
    "Execution:"
   ]
  },
  {
   "cell_type": "code",
   "execution_count": 20,
   "metadata": {
    "ExecuteTime": {
     "end_time": "2024-09-22T09:08:43.826480Z",
     "start_time": "2024-09-22T09:08:38.908926Z"
    }
   },
   "outputs": [],
   "source": [
    "from classiq import create_model, execute, set_execution_preferences, show, synthesize\n",
    "from classiq.execution import ExecutionPreferences\n",
    "\n",
    "# Creating the model using `ExecutionPreferences` of the desired number of shots:\n",
    "execution_preferences = ExecutionPreferences(num_shots=NUM_SHOTS)\n",
    "# qmod = set_execution_preferences(qmod, execution_preferences)\n",
    "qmod = create_model(\n",
    "    main, execution_preferences=ExecutionPreferences(num_shots=NUM_SHOTS)\n",
    ")\n",
    "\n",
    "# Synthesizing the optimized circuit (quantum program) of the model in the Classiq backend:\n",
    "qprog = synthesize(qmod)\n",
    "\n",
    "# Showing the quantum program using the Classiq visualizer\n",
    "show(qprog)"
   ]
  },
  {
   "cell_type": "markdown",
   "metadata": {},
   "source": [
    "Before executing the program and making sure it actually works, play with the Classiq super cool visualization tool!\n",
    "It is very convenient to see the different building blocks and hierarchies in the program."
   ]
  },
  {
   "cell_type": "markdown",
   "metadata": {},
   "source": [
    "<div style=\"text-align:center;\">\n",
    "    <img src=\"https://docs.classiq.io/resources/vis_tool.gif\" alt=\"vis_tool\" />\n",
    "</div>"
   ]
  },
  {
   "cell_type": "markdown",
   "metadata": {},
   "source": [
    "Verify that the quantum program actually does what you expect.\n",
    "\n",
    "Execution with one shot yields this:"
   ]
  },
  {
   "cell_type": "code",
   "execution_count": 21,
   "metadata": {
    "ExecuteTime": {
     "end_time": "2024-09-22T09:08:46.029963Z",
     "start_time": "2024-09-22T09:08:43.897691Z"
    }
   },
   "outputs": [],
   "source": [
    "# Execute the quantum program and access the result\n",
    "job = execute(qprog)"
   ]
  },
  {
   "cell_type": "code",
   "execution_count": 22,
   "metadata": {
    "ExecuteTime": {
     "end_time": "2024-09-22T09:08:50.398532Z",
     "start_time": "2024-09-22T09:08:46.048683Z"
    }
   },
   "outputs": [
    {
     "name": "stdout",
     "output_type": "stream",
     "text": [
      "The secret integer is: 13.0\n",
      "The probability for measuring the secret integer is: 1.0\n"
     ]
    }
   ],
   "source": [
    "res = execute(qprog).result()\n",
    "secret_integer_q = res[0].value.parsed_counts[0].state[\"x\"]\n",
    "\n",
    "print(\"The secret integer is:\", secret_integer_q)\n",
    "print(\n",
    "    \"The probability for measuring the secret integer is:\",\n",
    "    res[0].value.parsed_counts[0].shots / NUM_SHOTS,\n",
    ")"
   ]
  },
  {
   "cell_type": "markdown",
   "metadata": {},
   "source": [
    "### **You received the expected result!**\n",
    "\n",
    "Using only one approximation of the function, you demonstrated the hidden power in quantum computation. \\\n",
    "As mentioned before, the best classical calculation would have taken `STRING_LENGTH` approximations on a classical computer.\n",
    "\n",
    "You could also execute using the platform GUI. After setting the number of shots and executing, you would receive this:"
   ]
  },
  {
   "attachments": {},
   "cell_type": "markdown",
   "metadata": {},
   "source": [
    "<div style=\"text-align:center;\">\n",
    "    <img src=\"https://docs.classiq.io/resources/bv_res.png\" alt=\"bv_res_img\" />\n",
    "</div>"
   ]
  },
  {
   "cell_type": "markdown",
   "metadata": {},
   "source": [
    "Or if you want to explore the execution after running it from the notebook:"
   ]
  },
  {
   "cell_type": "code",
   "execution_count": 23,
   "metadata": {
    "ExecuteTime": {
     "end_time": "2024-09-22T09:08:50.586610Z",
     "start_time": "2024-09-22T09:08:50.416959Z"
    }
   },
   "outputs": [],
   "source": [
    "job.open_in_ide()"
   ]
  },
  {
   "cell_type": "markdown",
   "metadata": {},
   "source": [
    "## Mathematical Description"
   ]
  },
  {
   "cell_type": "markdown",
   "metadata": {},
   "source": [
    "Here's the Bernstein-Vazirani algorithm described mathematically:\n",
    "\n",
    "The starting point by definition is the $ n $ dimensional zero state:\n",
    "\n",
    "$$\n",
    "\\ket{0}^{\\otimes n} =\\ket{00 . . . 0}\n",
    "$$\n",
    "\n",
    "The first step in the algorithm is to apply a Hadamard gate to each qubit:\n",
    "\n",
    "$$\n",
    "H^{\\otimes n} \\ket{0}^{\\otimes n} = \\ket{+}^{\\otimes n} = \\frac{1}{\\sqrt{2^n}} \\sum_{x=0}^{2^n-1} \\ket{x} \\equiv \\ket{X}\n",
    "$$\n",
    "\n",
    "when $ \\ket{x} $ is the integer basis in binary representation.\n",
    "\n",
    "Then, apply the oracle $ O_f $ by definition:\n",
    "\n",
    "$$\n",
    "O_f (\\ket{x}\\ket{-}) =\\frac{1}{\\sqrt2}[O_f(\\ket{x}\\ket{0})-O_f(\\ket{x}\\ket{1})] =(-1)^{f(x)}\\ket{x}\\ket{-}\n",
    "$$\n",
    "\n",
    "The state $\\ket{-}$ is the state of the auxiliary qubit in our code. The value of $f(x)$, $1$ or $0$ determine whether there is phase flip or not correspondingly.\n",
    "\n",
    "<!-- Check also the NOTE at the beginning of the notebook and the quantum oracle tutorial (**To Add**). -->\n",
    "\n",
    "You actually apply the oracle on the state $\\ket{X}$ and not on the superposition component $\\ket{x}$, so you get this state:\n",
    "\n",
    "$$\n",
    "\\ket{-}(-1)^{f(x)} \\ket{X}  = \\ket{-}(-1)^{f(x)} \\frac{1}{\\sqrt{2^n}}  \\sum_{x \\in \\{0,1\\}^n} \\ket{x}\n",
    "$$\n",
    "\n",
    "Now after applying the oracle, we apply Hadamard gates again to each qubit except the auxiliary qubit which could be left aside:\n",
    "\n",
    "$$\n",
    "H^{\\otimes n} (-1)^{f(x)} \\frac{1}{\\sqrt{2^n}}  \\sum_{x \\in \\{0,1\\}^n} \\ket{x} = (-1)^{f(x)} \\frac{1}{\\sqrt{2^n}}  \\sum_{x \\in \\{0,1\\}^n} H^{\\otimes n}\\ket{x}\n",
    "=  \\frac{1}{2^n} \\sum_{x,y\\in \\{0,1\\}^n} (-1)^{f(x)+x \\cdot y} \\ket{y} =  \\frac{1}{2^n} \\sum_{x,y\\in \\{0,1\\}^n} (-1)^{x \\cdot (s \\oplus y)} \\ket{y} \\equiv \\ket{s}\n",
    "$$\n",
    "\n",
    "We obtain $ \\ket{s} $ because for each $ \\ket{y} $, the coefficient is equal to 1 only if $ s \\oplus y = \\vec{0} $. Otherwise, the coefficient is 0.\n",
    "\n",
    "Note that $ s \\oplus y = \\vec{0} $ occurs only when $ s = y $, meaning only one component contributes to the sum. This component is $ \\ket{y} = \\ket{s} $ with a coefficient of 1.\n"
   ]
  },
  {
   "cell_type": "markdown",
   "metadata": {},
   "source": [
    "## All Code Together"
   ]
  },
  {
   "cell_type": "markdown",
   "metadata": {},
   "source": [
    "Python version:"
   ]
  },
  {
   "cell_type": "code",
   "execution_count": 24,
   "metadata": {
    "ExecuteTime": {
     "end_time": "2024-09-22T09:08:56.773264Z",
     "start_time": "2024-09-22T09:08:50.597099Z"
    }
   },
   "outputs": [],
   "source": [
    "from classiq import *\n",
    "from classiq.execution import ExecutionPreferences\n",
    "from classiq.qmod.symbolic import floor\n",
    "\n",
    "\n",
    "@qfunc\n",
    "def prepare_minus(target: Output[QBit]):\n",
    "    allocate(out=target, num_qubits=1)\n",
    "    X(target)\n",
    "    H(target)\n",
    "\n",
    "\n",
    "@qfunc\n",
    "def bv_predicate(a: CInt, x: QArray, res: QBit):\n",
    "\n",
    "    repeat(\n",
    "        x.len,\n",
    "        lambda i: if_(\n",
    "            floor(a / 2**i) % 2 == 1, lambda: CX(x[i], res), lambda: IDENTITY(res)\n",
    "        ),\n",
    "    )\n",
    "\n",
    "\n",
    "@qfunc\n",
    "def bv_function(a: CInt, x: QArray):\n",
    "\n",
    "    aux = QBit(\"aux\")\n",
    "    within_apply(lambda: prepare_minus(aux), lambda: bv_predicate(a, x, aux))\n",
    "\n",
    "\n",
    "SECRET_INT = 13\n",
    "STRING_LENGTH = 5\n",
    "NUM_SHOTS = 1  # Could be set to 1 under the assumption of noiseless execution\n",
    "\n",
    "\n",
    "@qfunc\n",
    "def main(x: Output[QNum]):\n",
    "    allocate(STRING_LENGTH, x)\n",
    "    hadamard_transform(x)\n",
    "    bv_function(SECRET_INT, x)\n",
    "    hadamard_transform(x)\n",
    "\n",
    "\n",
    "qmod = create_model(\n",
    "    main, execution_preferences=ExecutionPreferences(num_shots=NUM_SHOTS)\n",
    ")\n",
    "qprog = synthesize(qmod)\n",
    "write_qmod(qmod, \"bv_tutorial\")\n",
    "job = execute(qprog)\n",
    "job.open_in_ide()\n",
    "\n",
    "# show(qprog) # uncomment to review the circuit"
   ]
  },
  {
   "cell_type": "markdown",
   "metadata": {},
   "source": [
    "## References"
   ]
  },
  {
   "cell_type": "markdown",
   "metadata": {},
   "source": [
    "<a id='DJWiki'>[1]</a>: [Bernstein–Vazirani algorithm (Wikipedia)](https://en.wikipedia.org/wiki/Bernstein%E2%80%93Vazirani_algorithm)\n",
    "\n",
    "<a id='Nielsen&Chunag'>[2]</a>: [Quantum Computation and Quantum Information (Michael Nielsen and Isaac Chuang)](https://en.wikipedia.org/wiki/Quantum_Computation_and_Quantum_Information)\n",
    "\n",
    "<a id='Wolf'>[3]</a>: [Quantum Computing:\n",
    "Lecture Notes (Ronald de Wolf)](https://homepages.cwi.nl/~rdewolf/qcnotes.pdf)\n",
    "\n"
   ]
  }
 ],
 "metadata": {
  "kernelspec": {
   "display_name": "Python 3 (ipykernel)",
   "language": "python",
   "name": "python3"
  },
  "language_info": {
   "codemirror_mode": {
    "name": "ipython",
    "version": 3
   },
   "file_extension": ".py",
   "mimetype": "text/x-python",
   "name": "python",
   "nbconvert_exporter": "python",
   "pygments_lexer": "ipython3",
   "version": "3.11.9"
  },
  "vscode": {
   "interpreter": {
    "hash": "529b62266d4f537a408698cf820854c65fe877011c7661f0f70aa11c4383fddc"
   }
  }
 },
 "nbformat": 4,
 "nbformat_minor": 4
}
