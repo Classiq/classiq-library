{
 "cells": [
  {
   "cell_type": "markdown",
   "metadata": {},
   "source": [
    "# Grover from functional building blocks"
   ]
  },
  {
   "cell_type": "markdown",
   "metadata": {},
   "source": [
    "### Setting the scene"
   ]
  },
  {
   "cell_type": "code",
   "execution_count": 1,
   "metadata": {
    "execution": {
     "iopub.execute_input": "2024-07-31T11:32:23.322596Z",
     "iopub.status.busy": "2024-07-31T11:32:23.322354Z",
     "iopub.status.idle": "2024-07-31T11:32:23.327498Z",
     "shell.execute_reply": "2024-07-31T11:32:23.326355Z"
    }
   },
   "outputs": [],
   "source": [
    "# !pip install -U classiq"
   ]
  },
  {
   "cell_type": "code",
   "execution_count": 2,
   "metadata": {
    "execution": {
     "iopub.execute_input": "2024-07-31T11:32:23.331038Z",
     "iopub.status.busy": "2024-07-31T11:32:23.330433Z",
     "iopub.status.idle": "2024-07-31T11:32:23.339098Z",
     "shell.execute_reply": "2024-07-31T11:32:23.338384Z"
    }
   },
   "outputs": [],
   "source": [
    "new_classiq_user = False\n",
    "if new_classiq_user:\n",
    "    import classiq\n",
    "\n",
    "    classiq.authenticate()"
   ]
  },
  {
   "cell_type": "markdown",
   "metadata": {},
   "source": [
    "## Warm Up"
   ]
  },
  {
   "cell_type": "markdown",
   "metadata": {},
   "source": [
    "### First Example"
   ]
  },
  {
   "cell_type": "markdown",
   "metadata": {},
   "source": [
    "Write a function that prepares the minus state $|{-}\\rangle=\\frac{1}{\\sqrt2}(|{0}\\rangle-|{1}\\rangle)$, assuming it recives the qubit $|{x}\\rangle=|{0}\\rangle$ \n",
    "\n",
    "<details>\n",
    "<summary>\n",
    "HINT\n",
    "</summary>\n",
    "\n",
    "Use `H(x)`,`X(x)`\n",
    "</details>"
   ]
  },
  {
   "cell_type": "code",
   "execution_count": 3,
   "metadata": {
    "execution": {
     "iopub.execute_input": "2024-07-31T11:32:23.353737Z",
     "iopub.status.busy": "2024-07-31T11:32:23.352543Z",
     "iopub.status.idle": "2024-07-31T11:32:26.452569Z",
     "shell.execute_reply": "2024-07-31T11:32:26.451931Z"
    }
   },
   "outputs": [],
   "source": [
    "from classiq import H, QBit, X, qfunc\n",
    "\n",
    "\n",
    "@qfunc\n",
    "def prepare_minus_state(x: QBit):\n",
    "    pass\n",
    "    # TODO complete here"
   ]
  },
  {
   "cell_type": "markdown",
   "metadata": {},
   "source": [
    "Now we will test our code:"
   ]
  },
  {
   "cell_type": "code",
   "execution_count": 4,
   "metadata": {
    "execution": {
     "iopub.execute_input": "2024-07-31T11:32:26.455361Z",
     "iopub.status.busy": "2024-07-31T11:32:26.454999Z",
     "iopub.status.idle": "2024-07-31T11:32:26.458593Z",
     "shell.execute_reply": "2024-07-31T11:32:26.457981Z"
    }
   },
   "outputs": [],
   "source": [
    "from classiq import Output, allocate\n",
    "\n",
    "\n",
    "@qfunc\n",
    "def main(x: Output[QBit]):\n",
    "    allocate(1, x)\n",
    "    prepare_minus_state(x)  # Prepare the minus state"
   ]
  },
  {
   "cell_type": "code",
   "execution_count": 5,
   "metadata": {
    "execution": {
     "iopub.execute_input": "2024-07-31T11:32:26.460879Z",
     "iopub.status.busy": "2024-07-31T11:32:26.460579Z",
     "iopub.status.idle": "2024-07-31T11:32:28.746080Z",
     "shell.execute_reply": "2024-07-31T11:32:28.745473Z"
    }
   },
   "outputs": [],
   "source": [
    "from classiq import create_model, synthesize\n",
    "\n",
    "quantum_model = create_model(main)\n",
    "quantum_program = synthesize(quantum_model)"
   ]
  },
  {
   "cell_type": "code",
   "execution_count": 6,
   "metadata": {
    "execution": {
     "iopub.execute_input": "2024-07-31T11:32:28.749497Z",
     "iopub.status.busy": "2024-07-31T11:32:28.748833Z",
     "iopub.status.idle": "2024-07-31T11:32:28.838928Z",
     "shell.execute_reply": "2024-07-31T11:32:28.838259Z"
    }
   },
   "outputs": [
    {
     "name": "stdout",
     "output_type": "stream",
     "text": [
      "Opening: https://platform.classiq.io/circuit/5c8cd56f-2ff0-4b06-9f41-cf0df41286c0?version=0.45.0.dev0%2Bcf1b9b7ccc\n"
     ]
    }
   ],
   "source": [
    "from classiq import show\n",
    "\n",
    "show(quantum_program)"
   ]
  },
  {
   "cell_type": "markdown",
   "metadata": {},
   "source": [
    "Some basic explanations about the high-level functional design with Classiq:\n",
    "\n",
    "* There should always be a main (`def main(...)`) function - the model that captures your algortihm is described there\n",
    "\n",
    "* The model is always generated out of the main function \n",
    "\n",
    "* The model is sent to the synthesis engine (compiler) that return a quantum program which contains the quantum circuit\n"
   ]
  },
  {
   "cell_type": "markdown",
   "metadata": {},
   "source": [
    "Some basic guidelines about the modeling language (QMOD):\n",
    "\n",
    "1. Every quantum variable should be declared, either as a parameter of a funciton e.g. `def prepare_minus(x: QBit)` or within the function itself with `x = QBit('x')`\n",
    "\n",
    "2. Some quantum variables need to be initalized with the `allocate` function. This is required in 2 cases:\n",
    "* A variable is a parameter of a function with the declaration `Output` like `def main(x: Output[QNum])`\n",
    "* A variable that was declared within a function like `a = QNum('a')`\n",
    "\n",
    "3. For the `main` function, you will always use `Output` for all variables, as the function does not receive any input"
   ]
  },
  {
   "cell_type": "markdown",
   "metadata": {},
   "source": [
    "Important tip!\n",
    "\n",
    "You can see all the declarations of the functions with what are their input arguments in the `functions.py` file within the classiq package (or by just right clicking a function and presing `Go To Defintion`)"
   ]
  },
  {
   "cell_type": "markdown",
   "metadata": {},
   "source": [
    "### Uniform Superposition"
   ]
  },
  {
   "cell_type": "markdown",
   "metadata": {},
   "source": [
    "Let's continue warming up with creating a function that receives a quantum register and creates a uniform superposition for all qubits within this array. You should use the function `apply_to_all(gate_operand=, target=)`:"
   ]
  },
  {
   "cell_type": "code",
   "execution_count": 7,
   "metadata": {
    "execution": {
     "iopub.execute_input": "2024-07-31T11:32:28.901747Z",
     "iopub.status.busy": "2024-07-31T11:32:28.901193Z",
     "iopub.status.idle": "2024-07-31T11:32:28.906014Z",
     "shell.execute_reply": "2024-07-31T11:32:28.905336Z"
    }
   },
   "outputs": [],
   "source": [
    "from classiq import QArray, apply_to_all\n",
    "\n",
    "\n",
    "@qfunc\n",
    "def create_initial_state(reg: QArray[QBit]):\n",
    "    pass\n",
    "    # TODO complete here apply_to_all(gate_operand=, target=)"
   ]
  },
  {
   "cell_type": "markdown",
   "metadata": {},
   "source": [
    "Test yout function by creating a new main function, synthesizing and viewing the circuit:"
   ]
  },
  {
   "cell_type": "code",
   "execution_count": 8,
   "metadata": {
    "execution": {
     "iopub.execute_input": "2024-07-31T11:32:28.910669Z",
     "iopub.status.busy": "2024-07-31T11:32:28.910197Z",
     "iopub.status.idle": "2024-07-31T11:32:28.915245Z",
     "shell.execute_reply": "2024-07-31T11:32:28.914577Z"
    }
   },
   "outputs": [],
   "source": [
    "@qfunc\n",
    "def main(x: Output[QArray[QBit]]):\n",
    "    allocate(7, x)\n",
    "    create_initial_state(x)"
   ]
  },
  {
   "cell_type": "code",
   "execution_count": 9,
   "metadata": {
    "execution": {
     "iopub.execute_input": "2024-07-31T11:32:28.918445Z",
     "iopub.status.busy": "2024-07-31T11:32:28.917979Z",
     "iopub.status.idle": "2024-07-31T11:32:30.130923Z",
     "shell.execute_reply": "2024-07-31T11:32:30.130257Z"
    }
   },
   "outputs": [
    {
     "name": "stdout",
     "output_type": "stream",
     "text": [
      "Opening: https://platform.classiq.io/circuit/2998aca6-35d7-417b-8027-c8da6ead7c7f?version=0.45.0.dev0%2Bcf1b9b7ccc\n"
     ]
    }
   ],
   "source": [
    "model = create_model(main)\n",
    "qprog = synthesize(model)\n",
    "show(qprog)"
   ]
  },
  {
   "cell_type": "markdown",
   "metadata": {},
   "source": [
    "### Function of a function"
   ]
  },
  {
   "cell_type": "markdown",
   "metadata": {},
   "source": [
    "In our Grover example we will have 3 variables `a,b,c`. We want to prepare all of them in an initial state of equal superposition. Create a fucntion that receives these 3 quantum variables as quantum integers (`QNum`) and applies the `create_inital_state` function to each:"
   ]
  },
  {
   "cell_type": "code",
   "execution_count": 10,
   "metadata": {
    "execution": {
     "iopub.execute_input": "2024-07-31T11:32:30.135374Z",
     "iopub.status.busy": "2024-07-31T11:32:30.134295Z",
     "iopub.status.idle": "2024-07-31T11:32:30.139012Z",
     "shell.execute_reply": "2024-07-31T11:32:30.138462Z"
    }
   },
   "outputs": [],
   "source": [
    "from classiq import QNum\n",
    "\n",
    "\n",
    "@qfunc\n",
    "def create_initial_states(a: QNum, b: QNum, c: QNum):\n",
    "    pass\n",
    "    # TODO Complete here"
   ]
  },
  {
   "cell_type": "markdown",
   "metadata": {},
   "source": [
    "You can create a main function, synthesize and visualize the generated circuit if you want to test yourself."
   ]
  },
  {
   "cell_type": "markdown",
   "metadata": {},
   "source": [
    "## Oracle - Reflection around bad states"
   ]
  },
  {
   "cell_type": "markdown",
   "metadata": {},
   "source": [
    "### Theoretical Background"
   ]
  },
  {
   "cell_type": "markdown",
   "metadata": {},
   "source": [
    "Overall we can understand the Grover operator as composed of two reflection operators:\n",
    "1. Around the superposition of 'bad states' (i.e. not the solutions)\n",
    "2. Around the initial guess state\n",
    "\n",
    "In this section we will build the first reflection operator which is also the implementation of the oracle function. Geometrically it can be understood in the 2D vector space of $\\text{Span}\\{|{\\psi_{\\text{good}}}\\rangle,|{\\psi_{\\text{bad}}}\\rangle\\}$."
   ]
  },
  {
   "cell_type": "markdown",
   "metadata": {},
   "source": [
    "![Oracle](assets/graph1.jpg)"
   ]
  },
  {
   "cell_type": "markdown",
   "metadata": {},
   "source": [
    "The above figures describes geometrically the reflection of some state $|{\\psi}\\rangle=\\alpha|{\\psi_\\text{good}}\\rangle+\\beta|{\\psi_\\text{bad}}\\rangle$ around the state $|{\\psi_\\text{bad}}\\rangle$ such that\n",
    "$\\begin{equation}\n",
    "R(\\alpha|{\\psi_\\text{good}}\\rangle+\\beta|{\\psi_\\text{bad}}\\rangle) = -\\alpha|{\\psi_\\text{good}}\\rangle+\\beta|{\\psi_\\text{bad}}\\rangle\n",
    "\\end{equation}$\n",
    "\n",
    "This operator can also be written as\n",
    "$\\begin{equation}\n",
    "R|{x}\\rangle=(-1)^{(x==\\text{good solution})}|{x}\\rangle\n",
    "\\end{equation}$\n",
    "\n",
    "so if the state of $x$ is a solution it gets a $(-)$ phase."
   ]
  },
  {
   "cell_type": "markdown",
   "metadata": {},
   "source": [
    "### Implementation"
   ]
  },
  {
   "cell_type": "markdown",
   "metadata": {},
   "source": [
    "Now we will actually implement the black box, the oracle, that people are speaking about in quantum algorithms. The beauty of Classiq is that we just need to specify its functionality, and Classiq automatically implements it for us.\n",
    "For our purposes, we want to find all the states that obey $2a+b=c$ so there are 3 quantum variables. In addition, we want to store our results somewhere, i.e. to indicate for each tupple of 3 numbers (a,b,c) (e.g. (1,2,2)) if the state is what we are looking for ($2*1+2=4!=2$ so the result is FALSE in this case). \n",
    "\n",
    "We will store the result in the variable `res` such that: $\\begin{equation} \\text{res} = \\text{res} \\oplus (2a+b==c) \\end{equation}$"
   ]
  },
  {
   "cell_type": "markdown",
   "metadata": {},
   "source": [
    "What we really want to implement here is graphically described as:"
   ]
  },
  {
   "cell_type": "markdown",
   "metadata": {},
   "source": [
    "![res](assets/oracle1.jpg)"
   ]
  },
  {
   "cell_type": "markdown",
   "metadata": {},
   "source": [
    "Adapt the following function so it will apply the desired equation: "
   ]
  },
  {
   "cell_type": "code",
   "execution_count": 11,
   "metadata": {
    "execution": {
     "iopub.execute_input": "2024-07-31T11:32:30.143402Z",
     "iopub.status.busy": "2024-07-31T11:32:30.142352Z",
     "iopub.status.idle": "2024-07-31T11:32:30.147543Z",
     "shell.execute_reply": "2024-07-31T11:32:30.146917Z"
    }
   },
   "outputs": [],
   "source": [
    "@qfunc\n",
    "def oracle_black_box(res: QNum, a: QNum, b: QNum, c: QNum):\n",
    "    # TODO Adapt with the correct statement\n",
    "    res ^= a + b + c == 8"
   ]
  },
  {
   "cell_type": "markdown",
   "metadata": {},
   "source": [
    "Now let's go quantum! We want to store the result of the above operation in the phase of the state $|{a,b,c}\\rangle$. That is, we want $\\begin{equation} |{a,b,c}\\rangle\\rightarrow(-1)^{(2a+b==c)}|{a,b,c}\\rangle\\end{equation}$\n",
    "\n",
    "There is a common procedure in quantum algorithms that applies this and it is called phase kickback. It's working by applying the above `oracle_black_box` function to an initial `res` qubit to the state $|{-}\\rangle$ (has anyone prepared a function `prepare_minus(x)` by any chance?)\n",
    "\n",
    "You can work out the math to see that the following scheme implements what we want:"
   ]
  },
  {
   "cell_type": "markdown",
   "metadata": {},
   "source": [
    "![phase_kickback_scheme](assets/oracle2.jpg)"
   ]
  },
  {
   "cell_type": "markdown",
   "metadata": {},
   "source": [
    "Now we can implement it using our oracle:"
   ]
  },
  {
   "cell_type": "code",
   "execution_count": 12,
   "metadata": {
    "execution": {
     "iopub.execute_input": "2024-07-31T11:32:30.151862Z",
     "iopub.status.busy": "2024-07-31T11:32:30.150786Z",
     "iopub.status.idle": "2024-07-31T11:32:30.157340Z",
     "shell.execute_reply": "2024-07-31T11:32:30.156728Z"
    }
   },
   "outputs": [],
   "source": [
    "from classiq import free, invert\n",
    "\n",
    "\n",
    "@qfunc\n",
    "def oracle_function(a: QNum, b: QNum, c: QNum):\n",
    "    aux = QBit(\"aux\")\n",
    "\n",
    "    allocate(1, aux)\n",
    "    prepare_minus_state(aux)\n",
    "\n",
    "    oracle_black_box(aux, a, b, c)\n",
    "\n",
    "    # We want to bring the aux state back to it's initial value and to free it up for further use\n",
    "    invert(lambda: prepare_minus_state(aux))\n",
    "    free(aux)  # and that it can be re-used"
   ]
  },
  {
   "cell_type": "markdown",
   "metadata": {},
   "source": [
    "## Diffuser - Reflection around initial guess"
   ]
  },
  {
   "cell_type": "markdown",
   "metadata": {},
   "source": [
    "### Theoretical Background"
   ]
  },
  {
   "cell_type": "markdown",
   "metadata": {},
   "source": [
    "The second part of the Grover operator is the diffuser, which can be viewed as the reflection operator around our initial guess. "
   ]
  },
  {
   "cell_type": "markdown",
   "metadata": {},
   "source": [
    "![diffuser](assets/graph2.jpg)"
   ]
  },
  {
   "cell_type": "markdown",
   "metadata": {},
   "source": [
    "As with the oracle reflection operator, we can describe any state $|{\\psi}\\rangle$ as a superposition of the initial state $|{\\psi_0}\\rangle$ such that  and the orthogoanl state to it $|{\\psi_0^{\\bot}}\\rangle$ \n",
    "\n",
    "$\\begin{equation}\n",
    "|{\\psi}\\rangle = \\alpha |{\\psi_0}\\rangle +\\beta |{\\psi_0^{\\bot}}\\rangle\n",
    "\\end{equation}$\n",
    "\n",
    "Here what we want to implement is to add a $(-)$ phase for all states that are not equal our initial guess, that is the reflection operator (our diffuser) is defined as:\n",
    "\n",
    "$\\begin{equation}\n",
    "R(\\alpha |{\\psi_0}\\rangle +\\beta |{\\psi_0^{\\bot}}\\rangle) = \\alpha |{\\psi_0}\\rangle -\\beta |{\\psi_0^{\\bot}}\\rangle\n",
    "\\end{equation}$\n"
   ]
  },
  {
   "cell_type": "markdown",
   "metadata": {},
   "source": [
    "In order to implement the reflection around our initial state, we will implement a reflection around the zero state $|{0}\\rangle$, and then squiz it between to state preperations operators for our initial state $|{\\psi_0}\\rangle$. That is, if $U_{\\psi_0}|{0}\\rangle=|{\\psi_0}\\rangle$ then we will implement the desired $R$ operator with:\n",
    "$\\begin{equation}\n",
    "R = U_{\\psi_0}R_0 U_{\\psi_0}^{\\dagger}\n",
    "\\end{equation}$\n",
    "\n",
    "where $R_0$ is the reflection operator around the zero state:\n",
    "$\\begin{equation}\n",
    "R_0|{x}\\rangle = (-1)^{(x\\ne0)}|{x}\\rangle= (2|{0}\\rangle\\langle{0}|-I)|{x}\\rangle\n",
    "\\end{equation}$"
   ]
  },
  {
   "cell_type": "markdown",
   "metadata": {},
   "source": [
    "### Implementation"
   ]
  },
  {
   "cell_type": "markdown",
   "metadata": {},
   "source": [
    "First we will implement the not equal zero function which takes `aux` and `x` as inputs and applies \n",
    "$\\begin{equation}\n",
    "\\text{res} = \\text{res} \\oplus (x\\ne0)\n",
    "\\end{equation}$"
   ]
  },
  {
   "cell_type": "code",
   "execution_count": 13,
   "metadata": {
    "execution": {
     "iopub.execute_input": "2024-07-31T11:32:30.162372Z",
     "iopub.status.busy": "2024-07-31T11:32:30.161138Z",
     "iopub.status.idle": "2024-07-31T11:32:30.166205Z",
     "shell.execute_reply": "2024-07-31T11:32:30.165518Z"
    }
   },
   "outputs": [],
   "source": [
    "@qfunc\n",
    "def not_equal_zero(aux: QBit, x: QNum):\n",
    "    aux ^= x == 0\n",
    "    X(aux)"
   ]
  },
  {
   "cell_type": "markdown",
   "metadata": {},
   "source": [
    "Now we will use the common trick of phase kick back again. As the `aux` qubit for the `not_equal_zero` funciton we need to insert the $|{-}\\rangle$ state after it has been initialized and apploied, and after the application of the function we need to return `aux` to its initial state and to free it up (We did this precedure before).\n",
    "\n",
    "<details>\n",
    "<summary>\n",
    "HINT\n",
    "</summary>\n",
    "\n",
    "1. Declare the auxilary qubit\n",
    "2. Initalize it using `allocate`\n",
    "3. Prepare the $|{-}\\rangle$ state\n",
    "4. Apply the `not_equal_zero` funciton\n",
    "5. Reverse the $|{-}\\rangle$ with the `invert` operation\n",
    "6. Free the auxilary qubit\n",
    "\n",
    "</details>\n"
   ]
  },
  {
   "cell_type": "code",
   "execution_count": 14,
   "metadata": {
    "execution": {
     "iopub.execute_input": "2024-07-31T11:32:30.170594Z",
     "iopub.status.busy": "2024-07-31T11:32:30.169386Z",
     "iopub.status.idle": "2024-07-31T11:32:30.174254Z",
     "shell.execute_reply": "2024-07-31T11:32:30.173544Z"
    }
   },
   "outputs": [],
   "source": [
    "@qfunc\n",
    "def zero_diffuser(x: QNum):\n",
    "    pass\n",
    "    # TODO complete here"
   ]
  },
  {
   "cell_type": "markdown",
   "metadata": {},
   "source": [
    "Now after we've implemented the zero diffuser, we need to sandwich it with the state preparations of our initial state `a,b,c`. The tricky part here is that the zero diffuser expects to receive only 1 quantunm variable `x` but we have three. So what should we do? We combine them to one quantum variable with the `bind` operation, treating them as one variable, and then splitting them back into 3 variables with the `bind` operation again."
   ]
  },
  {
   "cell_type": "code",
   "execution_count": 15,
   "metadata": {
    "execution": {
     "iopub.execute_input": "2024-07-31T11:32:30.178725Z",
     "iopub.status.busy": "2024-07-31T11:32:30.177538Z",
     "iopub.status.idle": "2024-07-31T11:32:30.184199Z",
     "shell.execute_reply": "2024-07-31T11:32:30.183495Z"
    }
   },
   "outputs": [],
   "source": [
    "from classiq import bind\n",
    "\n",
    "size_a = 2\n",
    "size_b = 2\n",
    "size_c = 3\n",
    "\n",
    "\n",
    "@qfunc\n",
    "def initial_state_diffuser(a: QNum, b: QNum, c: QNum):\n",
    "\n",
    "    create_initial_states(a, b, c)\n",
    "\n",
    "    abc = QNum(\"abc\")\n",
    "    bind([a, b, c], abc)\n",
    "    zero_diffuser(abc)\n",
    "    bind(abc, [a, b, c])\n",
    "    invert(lambda: create_initial_states(a, b, c))"
   ]
  },
  {
   "cell_type": "markdown",
   "metadata": {},
   "source": [
    "## Putting all together"
   ]
  },
  {
   "cell_type": "markdown",
   "metadata": {},
   "source": [
    "That's it! You've made it! Now is the time to harvest the fruits of the hard work and put everything together!\n",
    "Complete your grover operator by implementing the two functions that you've built, first the `oracle_fucntion` and then the `inital_state_diffuser`:"
   ]
  },
  {
   "cell_type": "code",
   "execution_count": 16,
   "metadata": {
    "execution": {
     "iopub.execute_input": "2024-07-31T11:32:30.188700Z",
     "iopub.status.busy": "2024-07-31T11:32:30.187547Z",
     "iopub.status.idle": "2024-07-31T11:32:30.192497Z",
     "shell.execute_reply": "2024-07-31T11:32:30.191823Z"
    }
   },
   "outputs": [],
   "source": [
    "@qfunc\n",
    "def my_grover_operator(a: QNum, b: QNum, c: QNum):\n",
    "    # TODO complete here\n",
    "    pass"
   ]
  },
  {
   "cell_type": "markdown",
   "metadata": {},
   "source": [
    "Now that we have our Grover operator, we can run it within our code. We have 3 steps here:\n",
    "1. Initalize `a`,`b` and `c` within the scope of the `main` function using the `allocate` operation\n",
    "2. Create the initial states for `a`,`b` and `c` \n",
    "3. Apply your Grover operator"
   ]
  },
  {
   "cell_type": "code",
   "execution_count": 17,
   "metadata": {
    "execution": {
     "iopub.execute_input": "2024-07-31T11:32:30.196880Z",
     "iopub.status.busy": "2024-07-31T11:32:30.195766Z",
     "iopub.status.idle": "2024-07-31T11:32:30.201342Z",
     "shell.execute_reply": "2024-07-31T11:32:30.200581Z"
    }
   },
   "outputs": [],
   "source": [
    "@qfunc\n",
    "def main(a: Output[QNum], b: Output[QNum], c: Output[QNum]):\n",
    "    allocate(size_a, a)\n",
    "    allocate(size_b, b)\n",
    "    allocate(size_c, c)\n",
    "\n",
    "    # TODO complete here\n",
    "    pass"
   ]
  },
  {
   "cell_type": "markdown",
   "metadata": {},
   "source": [
    "Synthesize your model:"
   ]
  },
  {
   "cell_type": "code",
   "execution_count": 18,
   "metadata": {
    "execution": {
     "iopub.execute_input": "2024-07-31T11:32:30.205846Z",
     "iopub.status.busy": "2024-07-31T11:32:30.204804Z",
     "iopub.status.idle": "2024-07-31T11:32:32.455442Z",
     "shell.execute_reply": "2024-07-31T11:32:32.454831Z"
    }
   },
   "outputs": [],
   "source": [
    "qmod = create_model(main)\n",
    "qprog = synthesize(qmod)"
   ]
  },
  {
   "cell_type": "markdown",
   "metadata": {},
   "source": [
    "And view it within the IDE:"
   ]
  },
  {
   "cell_type": "code",
   "execution_count": 19,
   "metadata": {
    "execution": {
     "iopub.execute_input": "2024-07-31T11:32:32.458931Z",
     "iopub.status.busy": "2024-07-31T11:32:32.458477Z",
     "iopub.status.idle": "2024-07-31T11:32:32.514323Z",
     "shell.execute_reply": "2024-07-31T11:32:32.513626Z"
    }
   },
   "outputs": [
    {
     "name": "stdout",
     "output_type": "stream",
     "text": [
      "Opening: https://platform.classiq.io/circuit/f34c7ddc-b200-46e6-8ece-81655e9e2e11?version=0.45.0.dev0%2Bcf1b9b7ccc\n"
     ]
    }
   ],
   "source": [
    "show(qprog)"
   ]
  },
  {
   "cell_type": "markdown",
   "metadata": {},
   "source": [
    "Is it what you were expecting?\n",
    "Now we can play with the constraints as we did in the IDE:"
   ]
  },
  {
   "cell_type": "code",
   "execution_count": 20,
   "metadata": {
    "execution": {
     "iopub.execute_input": "2024-07-31T11:32:32.516923Z",
     "iopub.status.busy": "2024-07-31T11:32:32.516543Z",
     "iopub.status.idle": "2024-07-31T11:32:33.716605Z",
     "shell.execute_reply": "2024-07-31T11:32:33.715898Z"
    }
   },
   "outputs": [
    {
     "name": "stdout",
     "output_type": "stream",
     "text": [
      "Opening: https://platform.classiq.io/circuit/7f5f1545-d9ed-4bf7-9220-b233a9119679?version=0.45.0.dev0%2Bcf1b9b7ccc\n"
     ]
    }
   ],
   "source": [
    "from classiq import Constraints, set_constraints\n",
    "\n",
    "qmod = set_constraints(qmod, Constraints(optimization_parameter=\"depth\"))  # or 'width'\n",
    "qprog = synthesize(qmod)\n",
    "show(qprog)"
   ]
  },
  {
   "cell_type": "markdown",
   "metadata": {},
   "source": [
    "### CONGRATULATIONS!\n",
    "\n",
    "You have completed your own Grover algorithm implementation from functional building blocks without sweeping under the rug any details, really impressive work!"
   ]
  },
  {
   "cell_type": "markdown",
   "metadata": {},
   "source": [
    "#### The full solution for your reference"
   ]
  },
  {
   "cell_type": "code",
   "execution_count": 21,
   "metadata": {
    "execution": {
     "iopub.execute_input": "2024-07-31T11:32:33.721774Z",
     "iopub.status.busy": "2024-07-31T11:32:33.719997Z",
     "iopub.status.idle": "2024-07-31T11:32:40.500241Z",
     "shell.execute_reply": "2024-07-31T11:32:40.499530Z"
    }
   },
   "outputs": [
    {
     "name": "stdout",
     "output_type": "stream",
     "text": [
      "Opening: https://platform.classiq.io/circuit/4a25e3db-cd4e-4ac6-b075-6bf08f643bd0?version=0.45.0.dev0%2Bcf1b9b7ccc\n"
     ]
    },
    {
     "name": "stdout",
     "output_type": "stream",
     "text": [
      "Opening: https://platform.classiq.io/circuit/13cbfad5-cbd1-4a49-b318-7c90106a5786?version=0.45.0.dev0%2Bcf1b9b7ccc\n"
     ]
    }
   ],
   "source": [
    "from classiq import (\n",
    "    Constraints,\n",
    "    H,\n",
    "    Output,\n",
    "    QArray,\n",
    "    QBit,\n",
    "    QNum,\n",
    "    X,\n",
    "    allocate,\n",
    "    apply_to_all,\n",
    "    bind,\n",
    "    create_model,\n",
    "    free,\n",
    "    invert,\n",
    "    qfunc,\n",
    "    set_constraints,\n",
    "    show,\n",
    "    synthesize,\n",
    "    write_qmod,\n",
    ")\n",
    "\n",
    "\n",
    "@qfunc\n",
    "def prepare_minus_state(x: QBit):\n",
    "    X(x)\n",
    "    H(x)\n",
    "\n",
    "\n",
    "@qfunc\n",
    "def create_initial_state(reg: QArray[QBit]):\n",
    "    apply_to_all(gate_operand=H, target=reg)\n",
    "\n",
    "\n",
    "@qfunc\n",
    "def create_initial_state(reg: QArray[QBit]):\n",
    "    apply_to_all(lambda qb: H(qb), reg)\n",
    "\n",
    "\n",
    "@qfunc\n",
    "def create_initial_states(a: QNum, b: QNum, c: QNum):\n",
    "    create_initial_state(a)\n",
    "    create_initial_state(b)\n",
    "    create_initial_state(c)\n",
    "\n",
    "\n",
    "@qfunc\n",
    "def oracle_black_box(res: QNum, a: QNum, b: QNum, c: QNum):\n",
    "    res ^= 2 * a + b == c\n",
    "\n",
    "\n",
    "@qfunc\n",
    "def oracle_function(a: QNum, b: QNum, c: QNum):\n",
    "    aux = QBit(\"aux\")\n",
    "\n",
    "    allocate(1, aux)\n",
    "    prepare_minus_state(aux)\n",
    "\n",
    "    oracle_black_box(aux, a, b, c)\n",
    "\n",
    "    # We want to bring the aux state back to it's initial value and to free it up for further use\n",
    "    invert(lambda: prepare_minus_state(aux))\n",
    "    free(aux)  # and that it can be re-used\n",
    "\n",
    "\n",
    "@qfunc\n",
    "def not_equal_zero(aux: QBit, x: QNum):\n",
    "    aux ^= x == 0\n",
    "    X(aux)\n",
    "\n",
    "\n",
    "@qfunc\n",
    "def zero_diffuser(x: QNum):\n",
    "    aux = QBit(\"aux\")\n",
    "    allocate(1, aux)\n",
    "\n",
    "    prepare_minus_state(aux)\n",
    "    not_equal_zero(aux, x)\n",
    "    invert(lambda: prepare_minus_state(aux))\n",
    "    free(aux)\n",
    "\n",
    "\n",
    "size_a = 2\n",
    "size_b = 2\n",
    "size_c = 3\n",
    "\n",
    "\n",
    "@qfunc\n",
    "def initial_state_diffuser(a: QNum, b: QNum, c: QNum):\n",
    "\n",
    "    create_initial_states(a, b, c)\n",
    "\n",
    "    abc = QNum(\"abc\", size=size_a + size_b + size_c, fraction_digits=0, is_signed=False)\n",
    "    bind([a, b, c], abc)\n",
    "    zero_diffuser(abc)\n",
    "    bind(abc, [a, b, c])\n",
    "    invert(lambda: create_initial_states(a, b, c))\n",
    "\n",
    "\n",
    "@qfunc\n",
    "def my_grover_operator(a: QNum, b: QNum, c: QNum):\n",
    "    oracle_function(a, b, c)\n",
    "    initial_state_diffuser(a, b, c)\n",
    "\n",
    "\n",
    "@qfunc\n",
    "def main(a: Output[QNum], b: Output[QNum], c: Output[QNum]):\n",
    "    allocate(size_a, a)\n",
    "    allocate(size_b, b)\n",
    "    allocate(size_c, c)\n",
    "    create_initial_states(a, b, c)\n",
    "    my_grover_operator(a, b, c)\n",
    "\n",
    "\n",
    "qmod = create_model(main)\n",
    "qprog = synthesize(qmod)\n",
    "show(qprog)\n",
    "\n",
    "qmod = set_constraints(qmod, Constraints(optimization_parameter=\"depth\"))  # or 'width'\n",
    "qprog = synthesize(qmod)\n",
    "show(qprog)\n",
    "\n",
    "write_qmod(qmod, \"grover_workshop\")"
   ]
  }
 ],
 "metadata": {
  "kernelspec": {
   "display_name": "Python 3 (ipykernel)",
   "language": "python",
   "name": "python3"
  },
  "language_info": {
   "codemirror_mode": {
    "name": "ipython",
    "version": 3
   },
   "file_extension": ".py",
   "mimetype": "text/x-python",
   "name": "python",
   "nbconvert_exporter": "python",
   "pygments_lexer": "ipython3",
   "version": "3.11.9"
  },
  "vscode": {
   "interpreter": {
    "hash": "529b62266d4f537a408698cf820854c65fe877011c7661f0f70aa11c4383fddc"
   }
  }
 },
 "nbformat": 4,
 "nbformat_minor": 4
}
