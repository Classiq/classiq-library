{
 "cells": [
  {
   "cell_type": "markdown",
   "id": "0",
   "metadata": {},
   "source": [
    "# Grover from functional building blocks"
   ]
  },
  {
   "cell_type": "markdown",
   "id": "1",
   "metadata": {},
   "source": [
    "### Setting the scene"
   ]
  },
  {
   "cell_type": "code",
   "execution_count": 25,
   "id": "2",
   "metadata": {},
   "outputs": [],
   "source": [
    "# !pip install -U classiq"
   ]
  },
  {
   "cell_type": "code",
   "execution_count": 26,
   "id": "3",
   "metadata": {},
   "outputs": [],
   "source": [
    "new_classiq_user = False\n",
    "if new_classiq_user:\n",
    "    import classiq\n",
    "\n",
    "    classiq.authenticate()"
   ]
  },
  {
   "cell_type": "markdown",
   "id": "4",
   "metadata": {},
   "source": [
    "## Warm Up"
   ]
  },
  {
   "cell_type": "markdown",
   "id": "5",
   "metadata": {},
   "source": [
    "### First Example"
   ]
  },
  {
   "cell_type": "markdown",
   "id": "6",
   "metadata": {},
   "source": [
    "Write a function that prepares the minus state $|{-}\\rangle=\\frac{1}{\\sqrt2}(|{0}\\rangle-|{1}\\rangle)$, assuming it recives the qubit $|{x}\\rangle=|{0}\\rangle$ \n",
    "\n",
    "<details>\n",
    "<summary>\n",
    "HINT\n",
    "</summary>\n",
    "\n",
    "Use `H(x)`,`X(x)`\n",
    "</details>"
   ]
  },
  {
   "cell_type": "code",
   "execution_count": 27,
   "id": "7",
   "metadata": {},
   "outputs": [],
   "source": [
    "from classiq import *\n",
    "\n",
    "\n",
    "@qfunc\n",
    "def prepare_minus_state(x: QBit):\n",
    "    pass\n",
    "    # TODO complete here"
   ]
  },
  {
   "cell_type": "markdown",
   "id": "8",
   "metadata": {},
   "source": [
    "Now we will test our code:"
   ]
  },
  {
   "cell_type": "code",
   "execution_count": 28,
   "id": "9",
   "metadata": {},
   "outputs": [],
   "source": [
    "@qfunc\n",
    "def main(x: Output[QBit]):\n",
    "    allocate(1, x)\n",
    "    prepare_minus_state(x)  # Prepare the minus state"
   ]
  },
  {
   "cell_type": "code",
   "execution_count": 29,
   "id": "10",
   "metadata": {},
   "outputs": [],
   "source": [
    "qprog = synthesize(main)"
   ]
  },
  {
   "cell_type": "code",
   "execution_count": 30,
   "id": "11",
   "metadata": {},
   "outputs": [
    {
     "name": "stdout",
     "output_type": "stream",
     "text": [
      "Quantum program link: https://platform.classiq.io/circuit/2yjA2tiLZD0kptA5ufekX5I4Gil\n"
     ]
    }
   ],
   "source": [
    "show(qprog)"
   ]
  },
  {
   "cell_type": "markdown",
   "id": "12",
   "metadata": {},
   "source": [
    "Some basic explanations about the high-level functional design with Classiq:\n",
    "\n",
    "* There should always be a main (`def main(...)`) function - the model that captures your algortihm is described there\n",
    "\n",
    "* The model is always generated out of the main function \n",
    "\n",
    "* The model is sent to the synthesis engine (compiler) that return a quantum program which contains the quantum circuit\n"
   ]
  },
  {
   "cell_type": "markdown",
   "id": "13",
   "metadata": {},
   "source": [
    "Some basic guidelines about the modeling language (QMOD):\n",
    "\n",
    "1. Every quantum variable should be declared, either as a parameter of a funciton e.g. `def prepare_minus(x: QBit)` or within the function itself with `x = QBit('x')`\n",
    "\n",
    "2. Some quantum variables need to be initalized with the `allocate` function. This is required in 2 cases:\n",
    "* A variable is a parameter of a function with the declaration `Output` like `def main(x: Output[QNum])`\n",
    "* A variable that was declared within a function like `a = QNum('a')`\n",
    "\n",
    "3. For the `main` function, you will always use `Output` for all variables, as the function does not receive any input"
   ]
  },
  {
   "cell_type": "markdown",
   "id": "14",
   "metadata": {},
   "source": [
    "Important tip!\n",
    "\n",
    "You can see all the declarations of the functions with what are their input arguments in the `functions.py` file within the classiq package (or by just right clicking a function and presing `Go To Defintion`)"
   ]
  },
  {
   "cell_type": "markdown",
   "id": "15",
   "metadata": {},
   "source": [
    "### Uniform Superposition"
   ]
  },
  {
   "cell_type": "markdown",
   "id": "16",
   "metadata": {},
   "source": [
    "Let's continue warming up with creating a function that receives a quantum register and creates a uniform superposition for all qubits within this array. You should use the function `apply_to_all(gate_operand=, target=)`:"
   ]
  },
  {
   "cell_type": "code",
   "execution_count": 31,
   "id": "17",
   "metadata": {},
   "outputs": [],
   "source": [
    "@qfunc\n",
    "def create_initial_state(reg: QArray):\n",
    "    pass\n",
    "    # TODO complete here apply_to_all(gate_operand=, target=)"
   ]
  },
  {
   "cell_type": "markdown",
   "id": "18",
   "metadata": {},
   "source": [
    "Test yout function by creating a new main function, synthesizing and viewing the circuit:"
   ]
  },
  {
   "cell_type": "code",
   "execution_count": 32,
   "id": "19",
   "metadata": {},
   "outputs": [],
   "source": [
    "@qfunc\n",
    "def main(x: Output[QArray]):\n",
    "    allocate(7, x)\n",
    "    create_initial_state(x)"
   ]
  },
  {
   "cell_type": "code",
   "execution_count": 33,
   "id": "20",
   "metadata": {},
   "outputs": [
    {
     "name": "stdout",
     "output_type": "stream",
     "text": [
      "Quantum program link: https://platform.classiq.io/circuit/2yjA3FxJAIoqaq58u2aQbECoUar\n"
     ]
    }
   ],
   "source": [
    "qprog = synthesize(main)\n",
    "show(qprog)"
   ]
  },
  {
   "cell_type": "markdown",
   "id": "21",
   "metadata": {},
   "source": [
    "### Function of a function"
   ]
  },
  {
   "cell_type": "markdown",
   "id": "22",
   "metadata": {},
   "source": [
    "In our Grover example we will have 3 variables `a,b,c`. We want to prepare all of them in an initial state of equal superposition. Create a fucntion that receives these 3 quantum variables as quantum integers (`QNum`) and applies the `create_inital_state` function to each:"
   ]
  },
  {
   "cell_type": "code",
   "execution_count": 34,
   "id": "23",
   "metadata": {},
   "outputs": [],
   "source": [
    "@qfunc\n",
    "def create_initial_states(a: QNum, b: QNum, c: QNum):\n",
    "    pass\n",
    "    # TODO Complete here"
   ]
  },
  {
   "cell_type": "markdown",
   "id": "24",
   "metadata": {},
   "source": [
    "You can create a main function, synthesize and visualize the generated circuit if you want to test yourself."
   ]
  },
  {
   "cell_type": "markdown",
   "id": "25",
   "metadata": {},
   "source": [
    "## Oracle - Reflection around bad states"
   ]
  },
  {
   "cell_type": "markdown",
   "id": "26",
   "metadata": {},
   "source": [
    "### Theoretical Background"
   ]
  },
  {
   "cell_type": "markdown",
   "id": "27",
   "metadata": {},
   "source": [
    "Overall we can understand the Grover operator as composed of two reflection operators:\n",
    "1. Around the superposition of 'bad states' (i.e. not the solutions)\n",
    "2. Around the initial guess state\n",
    "\n",
    "In this section we will build the first reflection operator which is also the implementation of the oracle function. Geometrically it can be understood in the 2D vector space of $\\text{Span}\\{|{\\psi_{\\text{good}}}\\rangle,|{\\psi_{\\text{bad}}}\\rangle\\}$."
   ]
  },
  {
   "cell_type": "markdown",
   "id": "28",
   "metadata": {},
   "source": [
    "![Oracle](assets/graph1.jpg)"
   ]
  },
  {
   "cell_type": "markdown",
   "id": "29",
   "metadata": {},
   "source": [
    "The above figures describes geometrically the reflection of some state $|{\\psi}\\rangle=\\alpha|{\\psi_\\text{good}}\\rangle+\\beta|{\\psi_\\text{bad}}\\rangle$ around the state $|{\\psi_\\text{bad}}\\rangle$ such that\n",
    "$\\begin{equation}\n",
    "R(\\alpha|{\\psi_\\text{good}}\\rangle+\\beta|{\\psi_\\text{bad}}\\rangle) = -\\alpha|{\\psi_\\text{good}}\\rangle+\\beta|{\\psi_\\text{bad}}\\rangle\n",
    "\\end{equation}$\n",
    "\n",
    "This operator can also be written as\n",
    "$\\begin{equation}\n",
    "R|{x}\\rangle=(-1)^{(x==\\text{good solution})}|{x}\\rangle\n",
    "\\end{equation}$\n",
    "\n",
    "so if the state of $x$ is a solution it gets a $(-)$ phase."
   ]
  },
  {
   "cell_type": "markdown",
   "id": "30",
   "metadata": {},
   "source": [
    "### Implementation"
   ]
  },
  {
   "cell_type": "markdown",
   "id": "31",
   "metadata": {},
   "source": [
    "Now we will actually implement the black box, the oracle, that people are speaking about in quantum algorithms. The beauty of Classiq is that we just need to specify its functionality, and Classiq automatically implements it for us.\n",
    "For our purposes, we want to find all the states that obey $2a+b=c$ so there are 3 quantum variables. In addition, we want to store our results somewhere, i.e. to indicate for each tupple of 3 numbers (a,b,c) (e.g. (1,2,2)) if the state is what we are looking for ($2*1+2=4!=2$ so the result is FALSE in this case). \n",
    "\n",
    "We will store the result in the variable `res` such that: $\\begin{equation} \\text{res} = \\text{res} \\oplus (2a+b==c) \\end{equation}$"
   ]
  },
  {
   "cell_type": "markdown",
   "id": "32",
   "metadata": {},
   "source": [
    "What we really want to implement here is graphically described as:"
   ]
  },
  {
   "cell_type": "markdown",
   "id": "33",
   "metadata": {},
   "source": [
    "![res](assets/oracle1.jpg)"
   ]
  },
  {
   "cell_type": "markdown",
   "id": "34",
   "metadata": {},
   "source": [
    "Adapt the following function so it will apply the desired equation: "
   ]
  },
  {
   "cell_type": "code",
   "execution_count": 35,
   "id": "35",
   "metadata": {},
   "outputs": [],
   "source": [
    "@qfunc\n",
    "def oracle_black_box(\n",
    "    res: Permutable[QNum], a: Const[QNum], b: Const[QNum], c: Const[QNum]\n",
    "):\n",
    "    # TODO Adapt with the correct statement\n",
    "    res ^= a + b + c == 8"
   ]
  },
  {
   "cell_type": "markdown",
   "id": "36",
   "metadata": {},
   "source": [
    "Now let's go quantum! We want to store the result of the above operation in the phase of the state $|{a,b,c}\\rangle$. That is, we want $\\begin{equation} |{a,b,c}\\rangle\\rightarrow(-1)^{(2a+b==c)}|{a,b,c}\\rangle\\end{equation}$\n",
    "\n",
    "There is a common procedure in quantum algorithms that applies this and it is called phase kickback. It's working by applying the above `oracle_black_box` function to an initial `res` qubit to the state $|{-}\\rangle$ (has anyone prepared a function `prepare_minus(x)` by any chance?)\n",
    "\n",
    "You can work out the math to see that the following scheme implements what we want:"
   ]
  },
  {
   "cell_type": "markdown",
   "id": "37",
   "metadata": {},
   "source": [
    "![phase_kickback_scheme](assets/oracle2.jpg)"
   ]
  },
  {
   "cell_type": "markdown",
   "id": "38",
   "metadata": {},
   "source": [
    "Now we can implement it using our oracle:"
   ]
  },
  {
   "cell_type": "code",
   "execution_count": 36,
   "id": "39",
   "metadata": {},
   "outputs": [],
   "source": [
    "@qfunc\n",
    "def oracle_function(a: Const[QNum], b: Const[QNum], c: Const[QNum]):\n",
    "    aux = QBit()\n",
    "\n",
    "    allocate(aux)\n",
    "    prepare_minus_state(aux)\n",
    "\n",
    "    oracle_black_box(aux, a, b, c)\n",
    "\n",
    "    # We want to bring the aux state back to it's initial value and to free it up for further use\n",
    "    invert(lambda: prepare_minus_state(aux))\n",
    "    free(aux)  # and that it can be re-used"
   ]
  },
  {
   "cell_type": "markdown",
   "id": "40",
   "metadata": {},
   "source": [
    "## Diffuser - Reflection around initial guess"
   ]
  },
  {
   "cell_type": "markdown",
   "id": "41",
   "metadata": {},
   "source": [
    "### Theoretical Background"
   ]
  },
  {
   "cell_type": "markdown",
   "id": "42",
   "metadata": {},
   "source": [
    "The second part of the Grover operator is the diffuser, which can be viewed as the reflection operator around our initial guess. "
   ]
  },
  {
   "cell_type": "markdown",
   "id": "43",
   "metadata": {},
   "source": [
    "![diffuser](assets/graph2.jpg)"
   ]
  },
  {
   "cell_type": "markdown",
   "id": "44",
   "metadata": {},
   "source": [
    "As with the oracle reflection operator, we can describe any state $|{\\psi}\\rangle$ as a superposition of the initial state $|{\\psi_0}\\rangle$ such that  and the orthogoanl state to it $|{\\psi_0^{\\bot}}\\rangle$ \n",
    "\n",
    "$\\begin{equation}\n",
    "|{\\psi}\\rangle = \\alpha |{\\psi_0}\\rangle +\\beta |{\\psi_0^{\\bot}}\\rangle\n",
    "\\end{equation}$\n",
    "\n",
    "Here what we want to implement is to add a $(-)$ phase for all states that are not equal our initial guess, that is the reflection operator (our diffuser) is defined as:\n",
    "\n",
    "$\\begin{equation}\n",
    "R(\\alpha |{\\psi_0}\\rangle +\\beta |{\\psi_0^{\\bot}}\\rangle) = \\alpha |{\\psi_0}\\rangle -\\beta |{\\psi_0^{\\bot}}\\rangle\n",
    "\\end{equation}$\n"
   ]
  },
  {
   "cell_type": "markdown",
   "id": "45",
   "metadata": {},
   "source": [
    "In order to implement the reflection around our initial state, we will implement a reflection around the zero state $|{0}\\rangle$, and then squeeze it between to state preperations operators for our initial state $|{\\psi_0}\\rangle$. That is, if $U_{\\psi_0}|{0}\\rangle=|{\\psi_0}\\rangle$ then we will implement the desired $R$ operator with:\n",
    "$\\begin{equation}\n",
    "R = U_{\\psi_0}R_0 U_{\\psi_0}^{\\dagger}\n",
    "\\end{equation}$\n",
    "\n",
    "where $R_0$ is the reflection operator around the zero state:\n",
    "$\\begin{equation}\n",
    "R_0|{x}\\rangle = (-1)^{(x\\ne0)}|{x}\\rangle= (2|{0}\\rangle\\langle{0}|-I)|{x}\\rangle\n",
    "\\end{equation}$"
   ]
  },
  {
   "cell_type": "markdown",
   "id": "46",
   "metadata": {},
   "source": [
    "### Implementation"
   ]
  },
  {
   "cell_type": "markdown",
   "id": "47",
   "metadata": {},
   "source": [
    "First we will implement the not equal zero function which takes `aux` and `x` as inputs and applies \n",
    "$\\begin{equation}\n",
    "\\text{res} = \\text{res} \\oplus (x\\ne0)\n",
    "\\end{equation}$"
   ]
  },
  {
   "cell_type": "code",
   "execution_count": 37,
   "id": "48",
   "metadata": {},
   "outputs": [],
   "source": [
    "@qfunc\n",
    "def not_equal_zero(aux: Permutable[QBit], x: Const[QNum]):\n",
    "    aux ^= x == 0\n",
    "    X(aux)"
   ]
  },
  {
   "cell_type": "markdown",
   "id": "49",
   "metadata": {},
   "source": [
    "Now we will use the common trick of phase kick back again. As the `aux` qubit for the `not_equal_zero` funciton we need to insert the $|{-}\\rangle$ state after it has been initialized and apploied, and after the application of the function we need to return `aux` to its initial state and to free it up (We did this precedure before).\n",
    "\n",
    "<details>\n",
    "<summary>\n",
    "HINT\n",
    "</summary>\n",
    "\n",
    "1. Declare the auxilary qubit\n",
    "2. Initalize it using `allocate`\n",
    "3. Prepare the $|{-}\\rangle$ state\n",
    "4. Apply the `not_equal_zero` funciton\n",
    "5. Reverse the $|{-}\\rangle$ with the `invert` operation\n",
    "6. Free the auxilary qubit\n",
    "\n",
    "</details>\n"
   ]
  },
  {
   "cell_type": "code",
   "execution_count": 38,
   "id": "50",
   "metadata": {},
   "outputs": [],
   "source": [
    "@qfunc\n",
    "def zero_diffuser(x: QNum):\n",
    "    pass\n",
    "    # TODO complete here"
   ]
  },
  {
   "cell_type": "markdown",
   "id": "51",
   "metadata": {},
   "source": [
    "Now after we've implemented the zero diffuser, we need to sandwich it with the state preparations of our initial state `a,b,c`. The tricky part here is that the zero diffuser expects to receive only 1 quantunm variable `x` but we have three. So what should we do? We combine them to one quantum variable with the `bind` operation, treating them as one variable, and then splitting them back into 3 variables with the `bind` operation again."
   ]
  },
  {
   "cell_type": "code",
   "execution_count": 39,
   "id": "52",
   "metadata": {},
   "outputs": [],
   "source": [
    "size_a = 2\n",
    "size_b = 2\n",
    "size_c = 3\n",
    "\n",
    "\n",
    "@qfunc\n",
    "def initial_state_diffuser(a: QNum, b: QNum, c: QNum):\n",
    "    create_initial_states(a, b, c)\n",
    "\n",
    "    abc = QNum()\n",
    "    bind([a, b, c], abc)\n",
    "    zero_diffuser(abc)\n",
    "    bind(abc, [a, b, c])\n",
    "    invert(lambda: create_initial_states(a, b, c))"
   ]
  },
  {
   "cell_type": "markdown",
   "id": "53",
   "metadata": {},
   "source": [
    "## Putting all together"
   ]
  },
  {
   "cell_type": "markdown",
   "id": "54",
   "metadata": {},
   "source": [
    "That's it! You've made it! Now is the time to harvest the fruits of the hard work and put everything together!\n",
    "Complete your grover operator by implementing the two functions that you've built, first the `oracle_fucntion` and then the `inital_state_diffuser`:"
   ]
  },
  {
   "cell_type": "code",
   "execution_count": 40,
   "id": "55",
   "metadata": {},
   "outputs": [],
   "source": [
    "@qfunc\n",
    "def my_grover_operator(a: QNum, b: QNum, c: QNum):\n",
    "    # TODO complete here\n",
    "    pass"
   ]
  },
  {
   "cell_type": "markdown",
   "id": "56",
   "metadata": {},
   "source": [
    "Now that we have our Grover operator, we can run it within our code. We have 3 steps here:\n",
    "1. Initalize `a`,`b` and `c` within the scope of the `main` function using the `allocate` operation\n",
    "2. Create the initial states for `a`,`b` and `c` \n",
    "3. Apply your Grover operator"
   ]
  },
  {
   "cell_type": "code",
   "execution_count": 41,
   "id": "57",
   "metadata": {},
   "outputs": [],
   "source": [
    "@qfunc\n",
    "def main(a: Output[QNum], b: Output[QNum], c: Output[QNum]):\n",
    "    allocate(size_a, a)\n",
    "    allocate(size_b, b)\n",
    "    allocate(size_c, c)\n",
    "\n",
    "    # TODO complete here\n",
    "    pass"
   ]
  },
  {
   "cell_type": "markdown",
   "id": "58",
   "metadata": {},
   "source": [
    "Synthesize your model:"
   ]
  },
  {
   "cell_type": "code",
   "execution_count": 42,
   "id": "59",
   "metadata": {},
   "outputs": [],
   "source": [
    "qprog = synthesize(main)"
   ]
  },
  {
   "cell_type": "markdown",
   "id": "60",
   "metadata": {},
   "source": [
    "And view it within the IDE:"
   ]
  },
  {
   "cell_type": "code",
   "execution_count": null,
   "id": "61",
   "metadata": {},
   "outputs": [],
   "source": [
    "show(qprog)"
   ]
  },
  {
   "cell_type": "markdown",
   "id": "62",
   "metadata": {},
   "source": [
    "Is it what you were expecting?\n",
    "Now we can play with the constraints as we did in the IDE:"
   ]
  },
  {
   "cell_type": "code",
   "execution_count": null,
   "id": "63",
   "metadata": {},
   "outputs": [],
   "source": [
    "qprog = synthesize(\n",
    "    main, constraints=Constraints(optimization_parameter=\"depth\")\n",
    ")  # or 'width'\n",
    "show(qprog)"
   ]
  },
  {
   "cell_type": "markdown",
   "id": "64",
   "metadata": {},
   "source": [
    "### CONGRATULATIONS!\n",
    "\n",
    "You have completed your own Grover algorithm implementation from functional building blocks without sweeping under the rug any details, really impressive work!"
   ]
  },
  {
   "cell_type": "markdown",
   "id": "65",
   "metadata": {},
   "source": [
    "#### The full solution for your reference"
   ]
  },
  {
   "cell_type": "code",
   "execution_count": null,
   "id": "66",
   "metadata": {},
   "outputs": [],
   "source": [
    "from classiq import *\n",
    "\n",
    "\n",
    "@qfunc\n",
    "def prepare_minus_state(x: QBit):\n",
    "    X(x)\n",
    "    H(x)\n",
    "\n",
    "\n",
    "@qfunc\n",
    "def create_initial_state(reg: QArray):\n",
    "    apply_to_all(gate_operand=H, target=reg)\n",
    "\n",
    "\n",
    "@qfunc\n",
    "def create_initial_state(reg: QArray):\n",
    "    apply_to_all(lambda qb: H(qb), reg)\n",
    "\n",
    "\n",
    "@qfunc\n",
    "def create_initial_states(a: QNum, b: QNum, c: QNum):\n",
    "    create_initial_state(a)\n",
    "    create_initial_state(b)\n",
    "    create_initial_state(c)\n",
    "\n",
    "\n",
    "@qfunc\n",
    "def oracle_black_box(\n",
    "    res: Permutable[QNum], a: Const[QNum], b: Const[QNum], c: Const[QNum]\n",
    "):\n",
    "    res ^= 2 * a + b == c\n",
    "\n",
    "\n",
    "@qfunc\n",
    "def oracle_function(a: Const[QNum], b: Const[QNum], c: Const[QNum]):\n",
    "    aux = QBit()\n",
    "\n",
    "    allocate(aux)\n",
    "    prepare_minus_state(aux)\n",
    "\n",
    "    oracle_black_box(aux, a, b, c)\n",
    "\n",
    "    # We want to bring the aux state back to it's initial value and to free it up for further use\n",
    "    invert(lambda: prepare_minus_state(aux))\n",
    "    free(aux)  # and that it can be re-used\n",
    "\n",
    "\n",
    "@qfunc\n",
    "def not_equal_zero(aux: Permutable[QBit], x: Const[QNum]):\n",
    "    aux ^= x == 0\n",
    "    X(aux)\n",
    "\n",
    "\n",
    "@qfunc\n",
    "def zero_diffuser(x: QNum):\n",
    "    aux = QBit()\n",
    "    allocate(aux)\n",
    "\n",
    "    prepare_minus_state(aux)\n",
    "    not_equal_zero(aux, x)\n",
    "    invert(lambda: prepare_minus_state(aux))\n",
    "    free(aux)\n",
    "\n",
    "\n",
    "size_a = 2\n",
    "size_b = 2\n",
    "size_c = 3\n",
    "\n",
    "\n",
    "@qfunc\n",
    "def initial_state_diffuser(a: QNum, b: QNum, c: QNum):\n",
    "    create_initial_states(a, b, c)\n",
    "\n",
    "    abc = QNum()\n",
    "    bind([a, b, c], abc)\n",
    "    zero_diffuser(abc)\n",
    "    bind(abc, [a, b, c])\n",
    "    invert(lambda: create_initial_states(a, b, c))\n",
    "\n",
    "\n",
    "@qfunc\n",
    "def my_grover_operator(a: QNum, b: QNum, c: QNum):\n",
    "    oracle_function(a, b, c)\n",
    "    initial_state_diffuser(a, b, c)\n",
    "\n",
    "\n",
    "@qfunc\n",
    "def main(a: Output[QNum], b: Output[QNum], c: Output[QNum]):\n",
    "    allocate(size_a, a)\n",
    "    allocate(size_b, b)\n",
    "    allocate(size_c, c)\n",
    "    create_initial_states(a, b, c)\n",
    "    my_grover_operator(a, b, c)\n",
    "\n",
    "\n",
    "qmod = create_model(main)\n",
    "qprog = synthesize(main)\n",
    "show(qprog)\n",
    "\n",
    "qmod = set_constraints(qmod, optimization_parameter=\"depth\")  # or 'width'\n",
    "qprog = synthesize(qmod)\n",
    "show(qprog)\n",
    "\n",
    "write_qmod(qmod, \"grover_workshop\")"
   ]
  }
 ],
 "metadata": {
  "kernelspec": {
   "display_name": "Python 3 (ipykernel)",
   "language": "python",
   "name": "python3"
  },
  "language_info": {
   "codemirror_mode": {
    "name": "ipython",
    "version": 3
   },
   "file_extension": ".py",
   "mimetype": "text/x-python",
   "name": "python",
   "nbconvert_exporter": "python",
   "pygments_lexer": "ipython3",
   "version": "3.11.7"
  },
  "vscode": {
   "interpreter": {
    "hash": "529b62266d4f537a408698cf820854c65fe877011c7661f0f70aa11c4383fddc"
   }
  }
 },
 "nbformat": 4,
 "nbformat_minor": 9
}
