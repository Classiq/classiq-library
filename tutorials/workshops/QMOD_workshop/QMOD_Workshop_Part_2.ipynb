{
 "cells": [
  {
   "cell_type": "markdown",
   "metadata": {},
   "source": [
    "# The Qmod Workshop - Part 2: Higher-Level Concepts\n",
    "\n",
    "This is the second part of the Qmod workshop, covering exercises 6 through 10. Make sure to go through Part 1 before continuing with this notebook."
   ]
  },
  {
   "cell_type": "markdown",
   "metadata": {},
   "source": [
    "### Exercise 6 - Exponentiation and Pauli Operators\n",
    "\n",
    "The Qmod language supports different classical types: scalars, arrays, and structs. Structs are objects with member variables, or fields.\n",
    "\n",
    "See also [Classical Types](https://docs.classiq.io/latest/user-guide/platform/qmod/language-reference/classical-types/#structs).\n",
    "\n",
    "The builtin struct type `PauliTerm` is defined as follows:"
   ]
  },
  {
   "cell_type": "code",
   "execution_count": null,
   "metadata": {},
   "outputs": [],
   "source": [
    "@struct\n",
    "class PauliTerm:\n",
    "    pauli: List[Pauli]\n",
    "    coefficient: float"
   ]
  },
  {
   "cell_type": "markdown",
   "metadata": {},
   "source": [
    "Note that `Pauli` is an enum for all the Pauli matrices (I, X, Y, Z).\n",
    "\n",
    "Pauli based hamiltonian can be represented as a list of `PauliTerm`s. A Pauli operator defined this way is the argument to a hamiltonian evolution functions.\n",
    "\n",
    "In this exercise we will use the Suzuki-Trotter function to find the evolution of `H=0.5XZXX + 0.25YIZI + 0.3 XIZY` (captured as a literal value for the pauli-operator), with the evolution coefficient being 3, the order being 2, and use 4 repetitions.\n",
    "\n",
    "The declaration of the `suzuki_trotter` function is:"
   ]
  },
  {
   "cell_type": "code",
   "execution_count": null,
   "metadata": {},
   "outputs": [],
   "source": [
    "@qfunc(external=True)\n",
    "def suzuki_trotter(\n",
    "    pauli_operator: QParam[List[PauliTerm]],\n",
    "    evolution_coefficient: QParam[float],\n",
    "    order: QParam[int],\n",
    "    repetitions: QParam[int],\n",
    "    qbv: QArray[QBit],\n",
    ") -> None:\n",
    "    pass"
   ]
  },
  {
   "cell_type": "markdown",
   "metadata": {},
   "source": [
    "Fill in the missing parts of the following code in order to complete this exercise:"
   ]
  },
  {
   "cell_type": "code",
   "execution_count": null,
   "metadata": {},
   "outputs": [],
   "source": [
    "from classiq import *\n",
    "\n",
    "\n",
    "@qfunc\n",
    "def main(q: Output[QArray[QBit]]) -> None:\n",
    "    allocate(4, q)\n",
    "    suzuki_trotter(\n",
    "        ...,\n",
    "        evolution_coefficient=3,\n",
    "        repetitions=4,\n",
    "        order=2,\n",
    "        qbv=q,\n",
    "    )\n",
    "\n",
    "\n",
    "qmod = create_model(main)\n",
    "qprog = synthesize(qmod)\n",
    "show(qprog)"
   ]
  },
  {
   "cell_type": "markdown",
   "metadata": {},
   "source": [
    "### Exercise 7 - Basic Arithmetics\n",
    "\n",
    "#### Exercise 7a\n",
    "In this exercise we will use quantum numeric variables and calculate expressions over them.\n",
    "\n",
    "See details on the syntax of numeric types under [Quantum types](https://docs.classiq.io/latest/user-guide/platform/qmod/language-reference/quantum-types/#syntax).\n",
    "See more on quantum expressions under [Numeric assignment](https://docs.classiq.io/latest/user-guide/platform/qmod/language-reference/statements/numeric-assignment/)\n",
    "\n",
    "Create the following quantum programs:\n",
    "1. Initialize variables `x=2`, `y=7` and computes `res = x + y`.\n",
    "2. Initialize variables `x=2`, `y=7` and computes `res = x * y`.\n",
    "3. Initialize variables `x=2`, `y=7`, `z=1` and computes `res = x * y - z`.\n",
    "\n",
    "Guidance:\n",
    "* Use the operator `|=` to perform out-of-place assignment of arithmetic expression.\n",
    "* To initialize the variables, use the function `prepare_int`.\n"
   ]
  },
  {
   "cell_type": "code",
   "execution_count": null,
   "metadata": {},
   "outputs": [],
   "source": [
    "from classiq import *\n",
    "\n",
    "# Your code here:\n",
    "\n",
    "qmod = create_model(main)\n",
    "qprog = synthesize(qmod)\n",
    "show(qprog)"
   ]
  },
  {
   "cell_type": "markdown",
   "metadata": {},
   "source": [
    "#### Exercise 7b\n",
    "Declare `x` to be a 2-qubit variable and `y` to be 3-qubit variable.\n",
    "\n",
    "We will perform an addition of two superposition states: `x` is an equal superposition of `0` and `2`, and `y` is an equal superposition of `1`, `2`, `3`, and `6`.\n",
    "\n",
    "1. Use `prepare_state` to initialize `x` and `y`. Note that `prepare_state` works with probabilities, not amplitudes.\n",
    "   The declaration of the `prepare_state` function is:\n",
    "   ```\n",
    "        @qfunc(external=True)\n",
    "        def prepare_state(\n",
    "            probabilities: QParam[List[float]],\n",
    "            bound: QParam[float],\n",
    "            out: Output[QArray[QBit, Literal[\"log(len(probabilities), 2)\"]]],\n",
    "        ) -> None:\n",
    "            pass\n",
    "   ```\n",
    "   (Set the bound to 0 in your code)\n",
    "2. Compute `res = x + y`. Execute the resulting circuit. What did you get?"
   ]
  },
  {
   "cell_type": "code",
   "execution_count": null,
   "metadata": {},
   "outputs": [],
   "source": [
    "from classiq import *\n",
    "\n",
    "# Your code here:\n",
    "\n",
    "qmod = create_model(main)\n",
    "qprog = synthesize(qmod)\n",
    "show(qprog)"
   ]
  },
  {
   "cell_type": "markdown",
   "metadata": {},
   "source": [
    "### Exercise 8 - Within-Apply\n",
    "\n",
    "The within-apply statement applies the pattern `U_dagger V U` that appears frequently in quantum computing.\n",
    "It allows you to compute some function `V` within the context of another function `U`, and afterward uncompute `U` in order to release auxiliary qubits storing intermediate results.\n",
    "\n",
    "See also [Within Apply](https://docs.classiq.io/latest/user-guide/platform/qmod/language-reference/statements/within-apply/).\n",
    "\n",
    "#### Exercise 8a\n",
    "\n",
    "In this exercise, we will use within-apply to compute an arithmetic expression in steps.\n",
    "\n",
    "Use the `within_apply` operation to calculate `res = x + y + z` from a two-variable addition building block with the following steps:\n",
    "1. Add `x` and `y`\n",
    "2. Add the result to `z`\n",
    "3. Uncompute the result of the first operation\n",
    "\n",
    "For simplicity, initialize the registers to simple integers: `x=3`, `y=5`, `z=2`.\n",
    "\n",
    "Hints:\n",
    "\n",
    "* Use a temporary variable.\n",
    "* Wrap the arithmetic operation in a function.\n",
    "\n",
    "Execute the circuit and make sure you obtain the expected result."
   ]
  },
  {
   "cell_type": "code",
   "execution_count": null,
   "metadata": {},
   "outputs": [],
   "source": [
    "from classiq import *\n",
    "\n",
    "# Your code here:\n",
    "\n",
    "qmod = create_model(main)\n",
    "qprog = synthesize(qmod)\n",
    "show(qprog)"
   ]
  },
  {
   "cell_type": "markdown",
   "metadata": {},
   "source": [
    "#### Exercise 8b\n",
    "\n",
    "Why should we use `within-apply` and not just write three concatenated functions?\n",
    "To understand the motivation, we will create another arithmetic circuit.\n",
    "This time, however, we will also set Classiq’s synthesis engine to optimize on the circuit’s number of qubits, i.e., its width.\n",
    "\n",
    "Setting constraints can be done via the `set_constraints` operation - see [here](https://docs.classiq.io/latest/user-guide/platform/synthesis/constraints/).\n",
    "\n",
    "Perform the operation `res = w + x + y + z`, where w is initialized to 4 and the rest as before:\n",
    "\n",
    "1. Add `x` and `y` (as part of the `within_apply` operation)\n",
    "2. Add the result to `z` (as part of the within_apply operation)\n",
    "3. Uncompute the result of the first operation (as part of the `within_apply` operation)\n",
    "4. Add the result of the second operation to `w`. There’s no need to perform another uncomputation, as this brings our calculation to an end.\n",
    "\n",
    "Create the model, optimize on the circuit’s width, and run the circuit. Can you identify where qubits have been released and reused?"
   ]
  },
  {
   "cell_type": "code",
   "execution_count": null,
   "metadata": {},
   "outputs": [],
   "source": [
    "from classiq import *\n",
    "\n",
    "# Your code here:\n",
    "\n",
    "qmod = create_model(main)\n",
    "qprog = synthesize(qmod)\n",
    "show(qprog)"
   ]
  },
  {
   "cell_type": "markdown",
   "metadata": {},
   "source": [
    "#### Bonus: Use a Single Arithmetic Expression\n",
    "\n",
    "What happens when we don't manually decompose this expression?\n",
    "\n",
    "Use Classiq’s arithmetic engine to calculate `res |= x + y + z + w` and optimize for width.\n",
    "Look at the resulting quantum program - can you identify the computation and uncomputation blocks? What else did you notice?"
   ]
  },
  {
   "cell_type": "code",
   "execution_count": null,
   "metadata": {},
   "outputs": [],
   "source": [
    "from classiq import *\n",
    "\n",
    "# Your code here:\n",
    "\n",
    "qmod = create_model(main)\n",
    "qprog = synthesize(qmod)\n",
    "show(qprog)"
   ]
  },
  {
   "cell_type": "markdown",
   "metadata": {},
   "source": [
    "### Exercise 9 - In-place Arithmetics\n",
    "\n",
    "For the following exercise we will use numeric quantum variables that represent fixed-point reals.\n",
    "\n",
    "Arithmetic expressions can be calculated in-place into a target variable, without allocating new qubits to store the result. This is done using the in-place-xor operator.\n",
    "\n",
    "See also [Numeric assignment](https://docs.classiq.io/latest/user-guide/platform/qmod/language-reference/statements/numeric-assignment/#semantics).\n",
    "\n",
    "In-place assignment is often used to nest arithmetic expressions under quantum operators. Note that out-of-place assignment requires its left-value variable to be un-initialized, and therefore cannot be used under an operator if the variable is declared outside its scope. Applying operators to arithmetic expressions is required in many algorithms. One example is the piecewise evaluation of mathematical functions - calculating different expressions over `x` depending on the subdomain where `x` falls.\n",
    "\n",
    "For this exercise, replace the missing parts in the code snippet below to evaluate the result of:\n",
    "\n",
    "$$\n",
    "f(x) = \\begin{cases}\n",
    "      2x + 1 & \\text{ if } 0 \\leq x < 0.5 \\\\\n",
    "      x + 0.5 & \\text{ if } 0.5 \\leq x < 1\n",
    "   \\end{cases}\n",
    "$$\n",
    "\n",
    "Notes:\n",
    "- We cannot use `x` directly as the control variable in a `constrol` operator, because it also occurs in the nested scope. to determine if `x` is in the lower or higher half of the domain we duplicate the most significant bit onto a separate variable called `label`.\n",
    "- In Python assignment operators cannot be used in lambda expressions, so the computation of the function needs to be factored out to a named Python function (but not necessarily a Qmod function).\n"
   ]
  },
  {
   "cell_type": "code",
   "execution_count": null,
   "metadata": {},
   "outputs": [],
   "source": [
    "from classiq import *\n",
    "\n",
    "\n",
    "@qfunc\n",
    "def dup_msb(qba: QArray[QBit], msb: QBit) -> None:\n",
    "    CX(qba[qba.len() - 1], msb)\n",
    "\n",
    "\n",
    "@qfunc\n",
    "def main(x: Output[QNum[3, False, 3]], res: Output[QNum[5, False, 3]]) -> None:\n",
    "    allocate(5, res)\n",
    "    allocate(3, x)\n",
    "    hadamard_transform(x)\n",
    "\n",
    "    label = QNum(\"label\")\n",
    "    allocate(1, label)\n",
    "\n",
    "    dup_msb(x, label)\n",
    "    control(..., label)  # 0.5 <= x < 1.0\n",
    "    X(label)\n",
    "    control(..., label)  # 0.0 <= x < 0.5\n",
    "\n",
    "\n",
    "qmod = create_model(main)\n",
    "qprog = synthesize(qmod)\n",
    "show(qprog)"
   ]
  },
  {
   "cell_type": "markdown",
   "metadata": {},
   "source": [
    "### Exercise 10 - State-preparation Algorithm using Quantum-if\n",
    "\n",
    "#### Binding\n",
    "The `bind` operation allows to convert smoothly between different quantum types and split or slice bits when necessary. Here’s an example:"
   ]
  },
  {
   "cell_type": "code",
   "execution_count": null,
   "metadata": {},
   "outputs": [],
   "source": [
    "from classiq import *\n",
    "\n",
    "\n",
    "@qfunc\n",
    "def main(res: Output[QArray[QBit]]) -> None:\n",
    "    x: QArray[QBit] = QArray(\"x\")\n",
    "    allocate(3, x)\n",
    "    ...\n",
    "    lsb = QBit(\"lsb\")\n",
    "    msb = QNum(\"msb\", 2, False, 0)\n",
    "    bind(x, [lsb, msb])\n",
    "    ...\n",
    "    bind([lsb, msb], res)\n",
    "\n",
    "\n",
    "model = create_model(main)\n",
    "qprog = synthesize(model)\n",
    "show(qprog)"
   ]
  },
  {
   "cell_type": "markdown",
   "metadata": {},
   "source": [
    "The first `bind` operation splits the 3-qubit register `x` into the 2-qubit and single-qubit registers `lsb` and `msb`, respectively.\n",
    "\n",
    "After the `bind` operation:\n",
    "1. The registers `lsb` and `msb` can be operated on as separated registers.\n",
    "2. The register`x` is consumed and can no longer be used.\n",
    "\n",
    "The second `bind` operation concatenates the registers to the output register `res`.\n",
    "\n",
    "For this exercise, fill in the missing code parts in the above snippet and use the `quantum_if` statement to manually generate the following lovely 3-qubit probability distribution: `[1/8, 1/8, 1/8, -sqrt(3)/16, 1/8 + sqrt(3)/16, 1/8, 1/8, 1/8, 1/8]`.\n",
    "\n",
    "The following series of gates generate it:\n",
    "\n",
    "Perform the Hadamard transform on all three qubits.\n",
    "\n",
    "Apply a rotation on the LSB (least-significant bit) conditioned by the MSB being |0> and the second to last MSB being |1>. How would you write this condition using a QNum?\n",
    "\n",
    "The following series of gates generate it:\n",
    "1. Perform the Hadamard transform on all three qubits.\n",
    "2. Apply a `pi/3` rotation on the LSB (least-significant bit) conditioned by the MSB being |0> and the second to last MSB being |1>. How would you write this condition using a QNum?\n",
    "\n",
    "If you want to validate your results without looking at the full solution, compare them to running using Classiq’s built-in `prepare_state` function.\n"
   ]
  },
  {
   "cell_type": "code",
   "execution_count": null,
   "metadata": {},
   "outputs": [],
   "source": [
    "from classiq import *\n",
    "from classiq.qmod.symbolic import sqrt\n",
    "\n",
    "\n",
    "@qfunc\n",
    "def pre_prepared_state(q: QArray[QBit]) -> None:\n",
    "    prepare_state(\n",
    "        [\n",
    "            1 / 8,\n",
    "            1 / 8,\n",
    "            1 / 8,\n",
    "            -sqrt(3) / 16,\n",
    "            1 / 8 + sqrt(3) / 16,\n",
    "            1 / 8,\n",
    "            1 / 8,\n",
    "            1 / 8,\n",
    "            1 / 8,\n",
    "        ],\n",
    "        0.0,\n",
    "        q,\n",
    "    )\n",
    "\n",
    "\n",
    "# Your code here:"
   ]
  },
  {
   "cell_type": "markdown",
   "metadata": {},
   "source": [
    "## Solutions"
   ]
  },
  {
   "cell_type": "markdown",
   "metadata": {},
   "source": [
    "### Exercise 6"
   ]
  },
  {
   "cell_type": "code",
   "execution_count": null,
   "metadata": {},
   "outputs": [],
   "source": [
    "# Solution to exercise 6:\n",
    "\n",
    "\n",
    "from classiq import *\n",
    "\n",
    "\n",
    "@qfunc\n",
    "def main(q: Output[QArray[QBit]]) -> None:\n",
    "    allocate(4, q)\n",
    "    suzuki_trotter(\n",
    "        [\n",
    "            PauliTerm([Pauli.X, Pauli.Z, Pauli.X, Pauli.X], 0.5),\n",
    "            PauliTerm([Pauli.Y, Pauli.I, Pauli.Z, Pauli.I], 0.25),\n",
    "            PauliTerm([Pauli.X, Pauli.I, Pauli.Z, Pauli.Y], 0.3),\n",
    "        ],\n",
    "        evolution_coefficient=3,\n",
    "        repetitions=4,\n",
    "        order=2,\n",
    "        qbv=q,\n",
    "    )"
   ]
  },
  {
   "cell_type": "markdown",
   "metadata": {},
   "source": [
    "### Exercise 7"
   ]
  },
  {
   "cell_type": "code",
   "execution_count": null,
   "metadata": {},
   "outputs": [],
   "source": [
    "# Solution to exercise 7a:\n",
    "\n",
    "\n",
    "from classiq import *\n",
    "\n",
    "\n",
    "@qfunc\n",
    "def main(res: Output[QNum]) -> None:\n",
    "    x = QNum(\"x\")\n",
    "    y = QNum(\"y\")\n",
    "    z = QNum(\"z\")\n",
    "    prepare_int(2, x)\n",
    "    prepare_int(7, y)\n",
    "    prepare_int(1, z)\n",
    "    res |= x + y\n",
    "    # res |= x * y\n",
    "    # res |= x * y - z"
   ]
  },
  {
   "cell_type": "code",
   "execution_count": null,
   "metadata": {},
   "outputs": [],
   "source": [
    "# Solution to exercise 7b:\n",
    "\n",
    "\n",
    "from classiq import *\n",
    "\n",
    "\n",
    "@qfunc\n",
    "def main(res: Output[QNum]) -> None:\n",
    "    x = QNum(\"x\")\n",
    "    y = QNum(\"y\")\n",
    "    prepare_state([0.5, 0, 0.5, 0.0], 0.0, x)\n",
    "    prepare_state([0, 0.25, 0.25, 0.25, 0.0, 0.0, 0.25, 0.0], 0.0, y)\n",
    "    res |= x + y\n",
    "\n",
    "\n",
    "model = create_model(main)\n",
    "qprog = synthesize(model)\n",
    "show(qprog)"
   ]
  },
  {
   "cell_type": "markdown",
   "metadata": {},
   "source": [
    "### Exercise 8"
   ]
  },
  {
   "cell_type": "code",
   "execution_count": null,
   "metadata": {},
   "outputs": [],
   "source": [
    "# Solution to exercise 8:\n",
    "\n",
    "\n",
    "from classiq import *\n",
    "\n",
    "\n",
    "@qfunc\n",
    "def my_add(x: QNum, y: QNum, res: Output[QNum]) -> None:\n",
    "    res |= x + y\n",
    "\n",
    "\n",
    "@qfunc\n",
    "def main(res: Output[QNum]) -> None:\n",
    "    x = QNum(\"x\")\n",
    "    y = QNum(\"y\")\n",
    "    z = QNum(\"z\")\n",
    "    prepare_int(3, x)\n",
    "    prepare_int(5, y)\n",
    "    prepare_int(2, z)\n",
    "\n",
    "    temp = QNum(\"temp\")\n",
    "    within_apply(\n",
    "        compute=lambda: my_add(x, y, temp), action=lambda: my_add(temp, z, res)\n",
    "    )\n",
    "\n",
    "\n",
    "model = create_model(main)\n",
    "qprog = synthesize(model)\n",
    "show(qprog)"
   ]
  },
  {
   "cell_type": "code",
   "execution_count": null,
   "metadata": {},
   "outputs": [],
   "source": [
    "# Solution to the advanced part of exercise 8:\n",
    "\n",
    "\n",
    "from classiq import *\n",
    "\n",
    "\n",
    "@qfunc\n",
    "def my_add(x: QNum, y: QNum, res: Output[QNum]) -> None:\n",
    "    res |= x + y\n",
    "\n",
    "\n",
    "@qfunc\n",
    "def main(res: Output[QNum]) -> None:\n",
    "    x = QNum(\"x\")\n",
    "    y = QNum(\"y\")\n",
    "    z = QNum(\"z\")\n",
    "    w = QNum(\"w\")\n",
    "    prepare_int(3, x)\n",
    "    prepare_int(5, y)\n",
    "    prepare_int(2, z)\n",
    "    prepare_int(4, w)\n",
    "\n",
    "    temp_xy = QNum(\"temp_xy\")\n",
    "    xyz = QNum(\"xyz\")\n",
    "    within_apply(\n",
    "        compute=lambda: my_add(x, y, temp_xy), action=lambda: my_add(temp_xy, z, xyz)\n",
    "    )\n",
    "    res |= xyz + w\n",
    "\n",
    "\n",
    "model = create_model(main)\n",
    "model = set_constraints(\n",
    "    model, Constraints(optimization_parameter=OptimizationParameter.WIDTH)\n",
    ")\n",
    "qprog = synthesize(model)\n",
    "show(qprog)"
   ]
  },
  {
   "cell_type": "markdown",
   "metadata": {},
   "source": [
    "### Exercise 9"
   ]
  },
  {
   "cell_type": "code",
   "execution_count": null,
   "metadata": {},
   "outputs": [],
   "source": [
    "# Solution to exercise 9:\n",
    "\n",
    "\n",
    "from classiq import *\n",
    "\n",
    "\n",
    "def linear_func(a: float, b: float, x: QNum, res: QNum) -> None:\n",
    "    res ^= a * x + b\n",
    "\n",
    "\n",
    "@qfunc\n",
    "def dup_msb(qba: QArray[QBit], msb: QBit) -> None:\n",
    "    CX(qba[qba.len() - 1], msb)\n",
    "\n",
    "\n",
    "@qfunc\n",
    "def main(x: Output[QNum[3, False, 3]], res: Output[QNum[5, False, 3]]) -> None:\n",
    "    allocate(5, res)\n",
    "    allocate(3, x)\n",
    "    hadamard_transform(x)\n",
    "\n",
    "    label = QNum(\"label\")\n",
    "    allocate(1, label)\n",
    "\n",
    "    dup_msb(x, label)\n",
    "    control(lambda: linear_func(1.0, 0.5, x, res), label)  # 0.5 <= x < 1.0\n",
    "    X(label)\n",
    "    control(lambda: linear_func(2.0, 1.0, x, res), label)  # 0.0 <= x < 0.5"
   ]
  },
  {
   "cell_type": "markdown",
   "metadata": {},
   "source": [
    "### Exercise 10"
   ]
  },
  {
   "cell_type": "code",
   "execution_count": null,
   "metadata": {},
   "outputs": [],
   "source": [
    "# Solution to exercise 10:\n",
    "\n",
    "\n",
    "from classiq import *\n",
    "from classiq.qmod.symbolic import pi\n",
    "\n",
    "\n",
    "@qfunc\n",
    "def main(res: Output[QArray[QBit]]) -> None:\n",
    "    x: QArray[QBit] = QArray(\"x\")\n",
    "    allocate(3, x)\n",
    "    hadamard_transform(x)\n",
    "\n",
    "    lsb = QBit(\"lsb\")\n",
    "    msb = QNum(\"msb\", 2, False, 0)\n",
    "    bind(x, [lsb, msb])\n",
    "\n",
    "    quantum_if(msb == 1, lambda: RY(pi / 3, lsb))\n",
    "\n",
    "    bind([lsb, msb], res)\n",
    "\n",
    "\n",
    "model = create_model(main)\n",
    "qprog = synthesize(model)\n",
    "show(qprog)"
   ]
  }
 ],
 "metadata": {
  "kernelspec": {
   "display_name": "Python 3",
   "language": "python",
   "name": "python3"
  },
  "language_info": {
   "codemirror_mode": {
    "name": "ipython",
    "version": 2
   },
   "file_extension": ".py",
   "mimetype": "text/x-python",
   "name": "python",
   "nbconvert_exporter": "python",
   "pygments_lexer": "ipython2",
   "version": "2.7.6"
  }
 },
 "nbformat": 4,
 "nbformat_minor": 0
}
