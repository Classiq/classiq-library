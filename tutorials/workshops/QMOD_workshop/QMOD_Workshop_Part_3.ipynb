{
 "cells": [
  {
   "cell_type": "markdown",
   "metadata": {},
   "source": [
    "# The Qmod Workshop - Part 3: Execution Flows\n",
    "\n",
    "This is the third part of the Qmod workshop, covering exercises 11 and 12. Make sure to go through Part 1 and 2 before continuing with this notebook."
   ]
  },
  {
   "cell_type": "markdown",
   "metadata": {},
   "source": [
    "### Exercise 11 - Execution with Parameters\n",
    "\n",
    "In this exercise, we will modify the manually created state preparation function from the previous exercise to accept a rotation angle as a parameter.\n",
    "\n",
    "1. Start by modifying the signature of the main function to be as follows:"
   ]
  },
  {
   "cell_type": "code",
   "execution_count": null,
   "metadata": {},
   "outputs": [],
   "source": [
    "from classiq import *\n",
    "from classiq.qmod.symbolic import pi\n",
    "\n",
    "\n",
    "@qfunc\n",
    "def main(rotation_angle: CReal, res: Output[QArray[QBit]]) -> None:\n",
    "    allocate(1, res)"
   ]
  },
  {
   "cell_type": "markdown",
   "metadata": {},
   "source": [
    "2. Pass the rotation angle as a parameter to the controlled RY instead of using `pi/3` directly.\n",
    "3. Define the following quantum constant, which will serve as the list of execution parameters:"
   ]
  },
  {
   "cell_type": "code",
   "execution_count": null,
   "metadata": {},
   "outputs": [],
   "source": [
    "from typing import List\n",
    "\n",
    "angle_vals = QConstant(\"angle_vals\", List[float], [pi / 3, pi / 2])"
   ]
  },
  {
   "cell_type": "markdown",
   "metadata": {},
   "source": [
    "4. Create a cmain function that for each rotation angle, it calls the sample function and saves the result.\n",
    "5. Execute the circuit and make sure the results are as expected (statistics from two runs should appear. What happens for `pi/2`?).\n",
    "6. **Bonus**: try to add other values to the list and observe the results."
   ]
  },
  {
   "cell_type": "code",
   "execution_count": null,
   "metadata": {},
   "outputs": [],
   "source": [
    "from classiq import *\n",
    "\n",
    "\n",
    "@cfunc\n",
    "def cmain() -> None:\n",
    "    # Your code here:\n",
    "    pass\n",
    "\n",
    "\n",
    "qmod = create_model(main, classical_execution_function=cmain)\n",
    "qprog = synthesize(qmod)\n",
    "show(qprog)"
   ]
  },
  {
   "cell_type": "markdown",
   "metadata": {},
   "source": [
    "### Exercise 12 - VQE\n",
    "\n",
    "The Variational Quantum Eigensolver is an algorithm that finds the minimal eigenvalue of a matrix by executing a parametric circuit (also referred to as an ansatz), estimating the expected value of the matrix for the state the circuit creates (from the distribution received by the execution), and using a classical optimizer to select the next set of parameters for the circuit, until reaching convergence (or exceeding a set amount of maximum iterations).\n",
    "\n",
    "The estimation of the expectation value is done on Pauli based matrices, so any matrix we want to perform this operation on, need to be decomposed into a sum of Pauli terms.\n",
    "\n",
    "In this exercise, we will create a simple VQE algorithm that estimates the minimal eigenvalue of a 2x2 matrix.\n",
    "Fill in the gaps in the following snippet to find the minimal eigenvalue and it corresponding eigenstate for\n",
    "\n",
    "`[[1, -1], [-1, 0]] = 1/2*I + 1/2*Z - X`\n",
    "\n",
    "<details><summary>Hint for Hamiltonian</summary>HAMILTONIAN = QConstant(...)</details>\n",
    "<details><summary>Hint for cmain</summary>\n",
    "res = vqe(<br>\n",
    "        &emsp;hamiltonian=...,<br>\n",
    "        &emsp;maximize=...,<br>\n",
    "        &emsp;initial_point=[],<br>\n",
    "        &emsp;optimizer=Optimizer.COBYLA,<br>\n",
    "        &emsp;max_iteration=1000,<br>\n",
    "        &emsp;tolerance=0.001,<br>\n",
    "        &emsp;step_size=0,<br>\n",
    "        &emsp;skip_compute_variance=False,<br>\n",
    "        &emsp;alpha_cvar=1.0,<br>\n",
    "    )<br>\n",
    "    save({\"result\": res})<br>\n",
    "\n",
    "</details>"
   ]
  },
  {
   "cell_type": "code",
   "execution_count": null,
   "metadata": {},
   "outputs": [],
   "source": [
    "from typing import List\n",
    "\n",
    "from classiq import *\n",
    "\n",
    "# Your code here:\n",
    "\n",
    "\n",
    "@qfunc\n",
    "def main(q: Output[QBit], angles: CArray[CReal, 3]) -> None:\n",
    "    allocate(1, q)\n",
    "    U(angles[0], angles[1], angles[2], 0, q)\n",
    "\n",
    "\n",
    "@cfunc\n",
    "def cmain() -> None:\n",
    "    # Your code here\n",
    "    pass\n",
    "\n",
    "\n",
    "qmod = create_model(main, classical_execution_function=cmain)\n",
    "qprog = synthesize(qmod)\n",
    "show(qprog)\n",
    "res = execute(qprog)\n",
    "\n",
    "# TODO: Upon completion uncomment the code below\n",
    "# vqe_result = res.result()[0].value\n",
    "# print(vqe_result.energy, vqe_result.optimal_parameters, vqe_result.eigenstate)"
   ]
  },
  {
   "cell_type": "markdown",
   "metadata": {},
   "source": [
    "Note:\n",
    "The U gate is a general rotation matrix on a single qubit, so the given model creates an ansatz that spans all of the space for a single qubit, and thus gives us a full search space for this specific problem."
   ]
  },
  {
   "cell_type": "markdown",
   "source": [
    "### Bonus: Exercise 13 - Quantum Counting with Iterative Quantum Amplitude Estimation\n",
    "\n",
    "Quantum Counting algorithm is an algorithm for efficiently estimating the number of valid solutions to a search problem, based on the amplitude estimation algorithm. It demonstrates a quadratic improvement in regard to a classical algorithm with black-box oracle access to the function $f$.\n",
    "\n",
    "More precisely, the counting problem is, given a boolean function $f :\\{0, 1\\}^n\\rightarrow\\{0,1\\}$, estimate the number of inputs $x$ to $f$ such that $f(x)=1$.\n",
    "\n",
    "Let's demonstrate how to estimate the Counting problem using a specific variant of the Amplitude Estimation algorithm - the Iterative Quantum Amplitude Estimation (IQAE).\n",
    "\n",
    "The IQAE does not rely on the [Quantum Phase Estimation](https://github.com/Classiq/classiq-library/blob/main/functions/qmod_library_reference/classiq_open_library/qpe/qpe.ipynb) algorithm, but purely on applications of the [grover operator](https://github.com/Classiq/classiq-library/blob/main/functions/qmod_library_reference/classiq_open_library/grover_operator/grover_operator.ipynb):\n",
    "$$\n",
    "Q\\equiv -  A S_0 A^{\\dagger} S_{\\psi_1},\n",
    "$$\n",
    "Hence reducing the required amount of qubits and gates of the circuit, at the expense of additional multiplicative factor poly-logarithmic in the error $\\epsilon$.\n",
    "\n",
    "For that we need a state preparation with an indicator qubit point the valid solution among the states:"
   ],
   "metadata": {
    "collapsed": false
   }
  },
  {
   "cell_type": "code",
   "execution_count": null,
   "outputs": [],
   "source": [
    "from classiq import QArray, QBit, QNum, bind, hadamard_transform, qfunc\n",
    "\n",
    "A_SIZE = 2\n",
    "B_SIZE = 2\n",
    "DOMAIN_SIZE = A_SIZE + B_SIZE\n",
    "\n",
    "\n",
    "@qfunc\n",
    "def arith_equation(a: QNum, b: QNum, res: QBit):\n",
    "    res ^= a + b <= 2\n",
    "\n",
    "\n",
    "@qfunc\n",
    "def iqae_state_preparation(a: QNum, b: QNum, res: QBit):\n",
    "    reg = QArray(\"reg\")\n",
    "    bind([a, b, res], reg)\n",
    "    hadamard_transform(reg[0:DOMAIN_SIZE])\n",
    "    bind(reg, [a, b, res])\n",
    "    arith_equation(a, b, res)"
   ],
   "metadata": {
    "collapsed": false
   }
  },
  {
   "cell_type": "markdown",
   "source": [
    "Then, the quantum circuit that is needed to the iterative QAE scheme, which needs to apply powers of the grover operator:"
   ],
   "metadata": {
    "collapsed": false
   }
  },
  {
   "cell_type": "code",
   "execution_count": null,
   "outputs": [],
   "source": [
    "from classiq import CInt, QCallable, grover_operator, power\n",
    "\n",
    "\n",
    "@qfunc\n",
    "def my_iqae_algorithm(\n",
    "    k: CInt,\n",
    "    oracle_operand: QCallable[QArray[QBit]],\n",
    "    sp_operand: QCallable[QArray[QBit]],\n",
    "    x: QArray[QBit],\n",
    "):\n",
    "    sp_operand(x)\n",
    "    power(k, lambda: grover_operator(oracle_operand, sp_operand, x))"
   ],
   "metadata": {
    "collapsed": false
   }
  },
  {
   "cell_type": "markdown",
   "source": [
    "Now, after we already know how to attach execution parameters, let's build a parametric main, and a cmain assigning values to the parameters, in order to actually run hybrid execution algorithm.\n",
    "So the parametric main should get as an input a parameter named `k`:"
   ],
   "metadata": {
    "collapsed": false
   }
  },
  {
   "cell_type": "code",
   "execution_count": null,
   "outputs": [],
   "source": [
    "from classiq import Output, Z, allocate\n",
    "\n",
    "\n",
    "@qfunc\n",
    "def main(\n",
    "    k: CInt,\n",
    "    ind_reg: Output[QBit],\n",
    ") -> None:\n",
    "    full_reg = QArray(\"full_reg\")\n",
    "    allocate(DOMAIN_SIZE + 1, full_reg)\n",
    "    my_iqae_algorithm(\n",
    "        k=k,\n",
    "        oracle_operand=lambda x: Z(x[x.len - 1]),\n",
    "        sp_operand=lambda x: iqae_state_preparation(\n",
    "            x[0:A_SIZE], x[A_SIZE : x.len - 1], x[x.len - 1]\n",
    "        ),\n",
    "        x=full_reg,\n",
    "    )\n",
    "    state_reg = QArray(\"state_reg\", length=DOMAIN_SIZE)\n",
    "    bind(full_reg, [state_reg, ind_reg])"
   ],
   "metadata": {
    "collapsed": false
   }
  },
  {
   "cell_type": "markdown",
   "source": [
    "And the `cmain` will attach the relevant `k`, behind the scenes, all you need is:\n",
    "* Call `iqae` in `cmain`, with the required `epsilon=1 / ((2**DOMAIN_SIZE_QCONST) * 2)` and `alpha=0.01`.\n",
    "* Save its result into a variable named `iqae_res` using `save`.\n",
    "\n",
    "Fill in the `cmain`:"
   ],
   "metadata": {
    "collapsed": false
   }
  },
  {
   "cell_type": "code",
   "execution_count": null,
   "outputs": [],
   "source": [
    "from classiq import QConstant, bind, cfunc, iqae, save\n",
    "\n",
    "DOMAIN_SIZE_QCONST = QConstant(\"DOMAIN_SIZE_QCONST\", int, DOMAIN_SIZE)\n",
    "\n",
    "\n",
    "@cfunc\n",
    "def cmain():\n",
    "    # your code\n",
    "    pass"
   ],
   "metadata": {
    "collapsed": false
   }
  },
  {
   "cell_type": "markdown",
   "source": [
    "Now let's run it and examine how many results apply the condition `a+b<=2` (there should be 6 of them: (a,b)=(0,0),(0,1),(1,0),(1,1),(2,0),(0,2))."
   ],
   "metadata": {
    "collapsed": false
   }
  },
  {
   "cell_type": "code",
   "execution_count": null,
   "outputs": [],
   "source": [
    "from classiq import Constraints, create_model, show, synthesize\n",
    "\n",
    "constraints = Constraints(optimization_parameter=\"width\")\n",
    "qmod_iqae = create_model(\n",
    "    entry_point=main,\n",
    "    constraints=constraints,\n",
    "    classical_execution_function=cmain,\n",
    ")\n",
    "\n",
    "qprog_iqae = synthesize(qmod_iqae)\n",
    "show(qprog_iqae)"
   ],
   "metadata": {
    "collapsed": false
   }
  },
  {
   "cell_type": "markdown",
   "source": [
    "**Uncomment this cell and run it after completing the `cmain` function**."
   ],
   "metadata": {
    "collapsed": false
   }
  },
  {
   "cell_type": "code",
   "execution_count": null,
   "outputs": [],
   "source": [
    "# from classiq import execute\n",
    "\n",
    "# res = execute(qprog_iqae).result()\n",
    "\n",
    "# iqae_res = res[0].value\n",
    "# print(\n",
    "#     f\"IQAE result: {iqae_res.estimation}, confidence interval: {iqae_res.confidence_interval}\"\n",
    "# )\n",
    "\n",
    "# print(\n",
    "#     f\"Number of solutions: {(2**DOMAIN_SIZE) * iqae_res.estimation}, accuracy: \"\n",
    "#     f\"{(2**DOMAIN_SIZE)*(iqae_res.confidence_interval[1]-iqae_res.confidence_interval[0])}\"\n",
    "# )"
   ],
   "metadata": {
    "collapsed": false
   }
  },
  {
   "cell_type": "markdown",
   "metadata": {},
   "source": [
    "## Solutions"
   ]
  },
  {
   "cell_type": "markdown",
   "metadata": {},
   "source": [
    "### Exercise 11"
   ]
  },
  {
   "cell_type": "code",
   "execution_count": null,
   "metadata": {},
   "outputs": [],
   "source": [
    "# Solution to exercise 11:\n",
    "\n",
    "\n",
    "from typing import List\n",
    "\n",
    "from classiq import *\n",
    "from classiq.qmod.symbolic import pi\n",
    "\n",
    "\n",
    "@qfunc\n",
    "def main(rotation_angle: CReal, res: Output[QArray[QBit]]) -> None:\n",
    "    x: QArray[QBit] = QArray(\"x\")\n",
    "    allocate(3, x)\n",
    "    hadamard_transform(x)\n",
    "\n",
    "    ls_bit = QBit(\"ls_bit\")\n",
    "    ms_bits = QNum(\"ms_bits\", 2, False, 0)\n",
    "    bind(x, [ls_bit, ms_bits])\n",
    "\n",
    "    control(ms_bits == 1, lambda: RY(rotation_angle, ls_bit))\n",
    "\n",
    "    bind([ls_bit, ms_bits], res)\n",
    "\n",
    "\n",
    "angle_vals = QConstant(\"angle_vals\", List[float], [pi / 3, pi / 2])\n",
    "\n",
    "\n",
    "@cfunc\n",
    "def cmain() -> None:\n",
    "\n",
    "    result = sample({\"rotation_angle\": pi / 3})\n",
    "    save({\"result\": result})\n",
    "    result = sample({\"rotation_angle\": pi / 2})\n",
    "    save({\"result\": result})\n",
    "\n",
    "\n",
    "model = create_model(main, classical_execution_function=cmain)\n",
    "qprog = synthesize(model)\n",
    "show(qprog)"
   ]
  },
  {
   "cell_type": "markdown",
   "metadata": {},
   "source": [
    "### Exercise 12"
   ]
  },
  {
   "cell_type": "code",
   "execution_count": null,
   "metadata": {},
   "outputs": [],
   "source": [
    "# Solution to exercise 12:\n",
    "\n",
    "\n",
    "from typing import List\n",
    "\n",
    "from classiq import *\n",
    "\n",
    "HAMILTONIAN = QConstant(\n",
    "    \"HAMILTONIAN\",\n",
    "    List[PauliTerm],\n",
    "    [PauliTerm([Pauli.I], 0.5), PauliTerm([Pauli.Z], 0.5), PauliTerm([Pauli.X], -1.0)],\n",
    ")\n",
    "\n",
    "\n",
    "@qfunc\n",
    "def main(q: Output[QBit], angles: CArray[CReal, 3]) -> None:\n",
    "    allocate(1, q)\n",
    "    U(angles[0], angles[1], angles[2], 0, q)\n",
    "\n",
    "\n",
    "@cfunc\n",
    "def cmain() -> None:\n",
    "    res = vqe(\n",
    "        HAMILTONIAN,\n",
    "        False,\n",
    "        [],\n",
    "        optimizer=Optimizer.COBYLA,\n",
    "        max_iteration=1000,\n",
    "        tolerance=0.001,\n",
    "        step_size=0,\n",
    "        skip_compute_variance=False,\n",
    "        alpha_cvar=1.0,\n",
    "    )\n",
    "    save({\"result\": res})\n",
    "\n",
    "\n",
    "qmod = create_model(main, classical_execution_function=cmain)\n",
    "qprog = synthesize(qmod)\n",
    "show(qprog)\n",
    "res = execute(qprog)\n",
    "vqe_result = res.result()[0].value\n",
    "print(vqe_result.energy, vqe_result.optimal_parameters, vqe_result.eigenstate)"
   ]
  },
  {
   "cell_type": "markdown",
   "source": [
    "### Exercise 13\n"
   ],
   "metadata": {
    "collapsed": false
   }
  },
  {
   "cell_type": "code",
   "execution_count": null,
   "outputs": [],
   "source": [
    "from classiq import QArray, QBit, QCallable, QNum, bind, hadamard_transform, qfunc\n",
    "\n",
    "A_SIZE = 2\n",
    "B_SIZE = 2\n",
    "DOMAIN_SIZE = A_SIZE + B_SIZE\n",
    "\n",
    "\n",
    "@qfunc\n",
    "def arith_equation(a: QNum, b: QNum, res: QBit):\n",
    "    res ^= a + b <= 2\n",
    "\n",
    "\n",
    "@qfunc\n",
    "def iqae_state_preparation(a: QNum, b: QNum, res: QBit):\n",
    "    reg = QArray(\"reg\")\n",
    "    bind([a, b, res], reg)\n",
    "    hadamard_transform(reg[0:DOMAIN_SIZE])\n",
    "    bind(reg, [a, b, res])\n",
    "    arith_equation(a, b, res)\n",
    "\n",
    "\n",
    "from classiq import CInt, grover_operator, power\n",
    "\n",
    "\n",
    "@qfunc\n",
    "def my_iqae_algorithm(\n",
    "    k: CInt,\n",
    "    oracle_operand: QCallable[QArray[QBit]],\n",
    "    sp_operand: QCallable[QArray[QBit]],\n",
    "    x: QArray[QBit],\n",
    "):\n",
    "    sp_operand(x)\n",
    "    power(k, lambda: grover_operator(oracle_operand, sp_operand, x))\n",
    "\n",
    "\n",
    "from classiq import Output, Z, allocate\n",
    "\n",
    "\n",
    "@qfunc\n",
    "def main(\n",
    "    k: CInt,\n",
    "    ind_reg: Output[QBit],\n",
    ") -> None:\n",
    "    full_reg = QArray(\"full_reg\")\n",
    "    allocate(DOMAIN_SIZE + 1, full_reg)\n",
    "    my_iqae_algorithm(\n",
    "        k=k,\n",
    "        oracle_operand=lambda x: Z(x[x.len - 1]),\n",
    "        sp_operand=lambda x: iqae_state_preparation(\n",
    "            x[0:A_SIZE], x[A_SIZE : x.len - 1], x[x.len - 1]\n",
    "        ),\n",
    "        x=full_reg,\n",
    "    )\n",
    "    state_reg = QArray(\"state_reg\", length=DOMAIN_SIZE)\n",
    "    bind(full_reg, [state_reg, ind_reg])\n",
    "\n",
    "\n",
    "from classiq import QConstant, bind, cfunc, iqae, save\n",
    "\n",
    "DOMAIN_SIZE_QCONST = QConstant(\"DOMAIN_SIZE_QCONST\", int, DOMAIN_SIZE)\n",
    "\n",
    "\n",
    "@cfunc\n",
    "def cmain():\n",
    "    iqae_res = iqae(epsilon=1 / ((2**DOMAIN_SIZE_QCONST) * 2), alpha=0.01)\n",
    "    save({\"iqae_res\": iqae_res})\n",
    "\n",
    "\n",
    "from classiq import Constraints, create_model, show, synthesize\n",
    "\n",
    "constraints = Constraints(optimization_parameter=\"width\")\n",
    "qmod_iqae = create_model(\n",
    "    main,\n",
    "    constraints=constraints,\n",
    "    classical_execution_function=cmain,\n",
    ")\n",
    "\n",
    "qprog_iqae = synthesize(qmod_iqae)\n",
    "show(qprog_iqae)\n",
    "\n",
    "from classiq import execute\n",
    "\n",
    "res = execute(qprog_iqae).result()\n",
    "\n",
    "iqae_res = res[0].value\n",
    "print(\n",
    "    f\"IQAE result: {iqae_res.estimation}, confidence interval: {iqae_res.confidence_interval}\"\n",
    ")\n",
    "print(\n",
    "    f\"Number of solutions: {(2**DOMAIN_SIZE) * iqae_res.estimation}, accuracy: \"\n",
    "    f\"{(2**DOMAIN_SIZE)*(iqae_res.confidence_interval[1]-iqae_res.confidence_interval[0])}\"\n",
    ")\n",
    "for i, iteration in enumerate(iqae_res.iterations_data):\n",
    "    print(\n",
    "        f\"iteration_id: {i}, num grover iterations: {iteration.grover_iterations}, counts: {iteration.sample_results.counts}\"\n",
    "    )"
   ],
   "metadata": {
    "collapsed": false
   }
  }
 ],
 "metadata": {
  "kernelspec": {
   "display_name": "Python 3",
   "language": "python",
   "name": "python3"
  },
  "language_info": {
   "codemirror_mode": {
    "name": "ipython",
    "version": 3
   },
   "file_extension": ".py",
   "mimetype": "text/x-python",
   "name": "python",
   "nbconvert_exporter": "python",
   "pygments_lexer": "ipython3",
   "version": "3.11.8"
  }
 },
 "nbformat": 4,
 "nbformat_minor": 0
}
