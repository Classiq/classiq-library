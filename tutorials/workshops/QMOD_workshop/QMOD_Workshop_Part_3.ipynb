{
 "cells": [
  {
   "cell_type": "markdown",
   "metadata": {},
   "source": [
    "# The Qmod Workshop - Part 3: Execution Flows\n",
    "\n",
    "This is the third part of the Qmod workshop, covering exercises 11 and 12. Make sure to go through Part 1 and 2 before continuing with this notebook."
   ]
  },
  {
   "cell_type": "markdown",
   "metadata": {},
   "source": [
    "### Exercise 11 - Execution with Parameters\n",
    "\n",
    "In this exercise, we will modify the manually created state preparation function from the previous exercise to accept a rotation angle as a parameter.\n",
    "\n",
    "1. Start by modifying the signature of the main function to be as follows:"
   ]
  },
  {
   "cell_type": "code",
   "execution_count": null,
   "metadata": {},
   "outputs": [],
   "source": [
    "@qfunc\n",
    "def main(rotation_angle: QParam[float], res: Output[QArray[QBit]]) -> None:\n",
    "    pass"
   ]
  },
  {
   "cell_type": "markdown",
   "metadata": {},
   "source": [
    "2. Pass the rotation angle as a parameter to the controlled RY instead of using `pi/3` directly.\n",
    "3. Define the following quantum constant, which will serve as the list of execution parameters:"
   ]
  },
  {
   "cell_type": "code",
   "execution_count": null,
   "metadata": {},
   "outputs": [],
   "source": [
    "angle_vals = QConstant(\"angle_vals\", List[float], [pi / 3, pi / 2])"
   ]
  },
  {
   "cell_type": "markdown",
   "metadata": {},
   "source": [
    "4. Create a cmain function that for each rotation angle, it calls the sample function and saves the result.\n",
    "5. Execute the circuit and make sure the results are as expected (statistics from two runs should appear. What happens for `pi/2`?).\n",
    "6. **Bonus**: try to add other values to the list and observe the results."
   ]
  },
  {
   "cell_type": "code",
   "execution_count": null,
   "metadata": {},
   "outputs": [],
   "source": [
    "from classiq import *\n",
    "\n",
    "# Your code here:\n",
    "\n",
    "\n",
    "qmod = create_model(main)\n",
    "qprog = synthesize(qmod)\n",
    "show(qprog)"
   ]
  },
  {
   "cell_type": "markdown",
   "metadata": {},
   "source": [
    "### Exercise 12 - VQE\n",
    "\n",
    "The Variational Quantum Eigensolver is an algorithm that finds the minimal eigenvalue of a matrix by executing a parametric circuit (also referred to as an ansatz), estimating the expected value of the matrix for the state the circuit creates (from the distribution received by the execution), and using a classical optimizer to select the next set of parameters for the circuit, until reaching convergence (or exceeding a set amount of maximum iterations).\n",
    "\n",
    "The estimation of the expectation value is done on Pauli based matrices, so any matrix we want to perform this operation on, need to be decomposed into a sum of Pauli terms.\n",
    "\n",
    "In this exercise, we will create a simple VQE algorithm that estimates the minimal eigenvalue of a 2x2 matrix.\n",
    "Fill in the gaps in the following snippet to find the minimal eigenvalue and it corresponding eigenstate for\n",
    "\n",
    "`[[1, -1], [-1, 0]] = 1/2*I + 1/2*Z - X`\n"
   ]
  },
  {
   "cell_type": "code",
   "execution_count": null,
   "metadata": {},
   "outputs": [],
   "source": [
    "from classiq import *\n",
    "\n",
    "HAMILTONIAN = QConstant(...)\n",
    "\n",
    "\n",
    "@qfunc\n",
    "def main(q: Output[QBit], angles: QParam[Array[float, 3]]) -> None:\n",
    "    allocate(1, q)\n",
    "    U(angles[0], angles[1], angles[2], 0, q)\n",
    "\n",
    "\n",
    "@cfunc\n",
    "def cmain() -> None:\n",
    "    res = vqe(\n",
    "        hamiltonian=...,\n",
    "        maximize=...,\n",
    "        initial_point=[],\n",
    "        optimizer=Optimizer.COBYLA,\n",
    "        max_iteration=1000,\n",
    "        tolerance=0.001,\n",
    "        step_size=0,\n",
    "        skip_compute_variance=False,\n",
    "        alpha_cvar=1.0,\n",
    "    )\n",
    "    save({\"result\": res})\n",
    "\n",
    "\n",
    "qmod = create_model(main, classical_execution_function=cmain)\n",
    "qprog = synthesize(qmod)\n",
    "show(qprog)\n",
    "res = execute(qprog)\n",
    "vqe_result = res.result()[0].value\n",
    "print(vqe_result.energy, vqe_result.optimal_parameters, vqe_result.eigenstate)"
   ]
  },
  {
   "cell_type": "markdown",
   "metadata": {},
   "source": [
    "Note:\n",
    "The U gate is a general rotation matrix on a single qubit, so the given model creates an ansatz that spans all of the space for a single qubit, and thus gives us a full search space for this specific problem."
   ]
  },
  {
   "cell_type": "markdown",
   "metadata": {},
   "source": [
    "## Solutions"
   ]
  },
  {
   "cell_type": "markdown",
   "metadata": {},
   "source": [
    "### Exercise 11"
   ]
  },
  {
   "cell_type": "code",
   "execution_count": null,
   "metadata": {},
   "outputs": [],
   "source": [
    "# Solution to exercise 11:\n",
    "\n",
    "\n",
    "from typing import List\n",
    "\n",
    "from classiq import *\n",
    "from classiq.qmod.symbolic import pi\n",
    "\n",
    "\n",
    "@qfunc\n",
    "def main(rotation_angle: QParam[float], res: Output[QArray[QBit]]) -> None:\n",
    "    x: QArray[QBit] = QArray(\"x\")\n",
    "    allocate(3, x)\n",
    "    hadamard_transform(x)\n",
    "\n",
    "    ls_bit = QBit(\"ls_bit\")\n",
    "    ms_bits = QNum(\"ms_bits\", 2, False, 0)\n",
    "    bind(x, [ls_bit, ms_bits])\n",
    "\n",
    "    quantum_if(ms_bits == 1, lambda: RY(rotation_angle, ls_bit))\n",
    "\n",
    "    bind([ls_bit, ms_bits], res)\n",
    "\n",
    "\n",
    "angle_vals = QConstant(\"angle_vals\", List[float], [pi / 3, pi / 2])\n",
    "\n",
    "\n",
    "@cfunc\n",
    "def cmain() -> None:\n",
    "    result = sample({\"rotation_angle\": angle_vals[0]})\n",
    "    save({\"result\": result})\n",
    "    result = sample({\"rotation_angle\": angle_vals[1]})\n",
    "    save({\"result\": result})\n",
    "\n",
    "\n",
    "model = create_model(main, classical_execution_function=cmain)\n",
    "qprog = synthesize(model)\n",
    "show(qprog)"
   ]
  },
  {
   "cell_type": "markdown",
   "metadata": {},
   "source": [
    "### Exercise 12"
   ]
  },
  {
   "cell_type": "code",
   "execution_count": null,
   "metadata": {},
   "outputs": [],
   "source": [
    "# Solution to exercise 12:\n",
    "\n",
    "\n",
    "from typing import List\n",
    "\n",
    "from classiq import *\n",
    "\n",
    "HAMILTONIAN = QConstant(\"HAMILTONIAN\", List[PauliTerm], [...])\n",
    "\n",
    "\n",
    "@qfunc\n",
    "def main(q: Output[QBit], angles: QParam[Array[float, 3]]) -> None:\n",
    "    allocate(1, q)\n",
    "    U(angles[0], angles[1], angles[2], 0, q)\n",
    "\n",
    "\n",
    "@cfunc\n",
    "def cmain() -> None:\n",
    "    res = vqe(\n",
    "        HAMILTONIAN,\n",
    "        False,\n",
    "        [],\n",
    "        optimizer=Optimizer.COBYLA,\n",
    "        max_iteration=1000,\n",
    "        tolerance=0.001,\n",
    "        step_size=0,\n",
    "        skip_compute_variance=False,\n",
    "        alpha_cvar=1.0,\n",
    "    )\n",
    "    save({\"result\": res})\n",
    "\n",
    "\n",
    "qmod = create_model(main, classical_execution_function=cmain)\n",
    "qprog = synthesize(qmod)\n",
    "show(qprog)\n",
    "res = execute(qprog)\n",
    "vqe_result = res.result()[0].value\n",
    "print(vqe_result.energy, vqe_result.optimal_parameters, vqe_result.eigenstate)"
   ]
  }
 ],
 "metadata": {
  "kernelspec": {
   "display_name": "Python 3",
   "language": "python",
   "name": "python3"
  },
  "language_info": {
   "codemirror_mode": {
    "name": "ipython",
    "version": 2
   },
   "file_extension": ".py",
   "mimetype": "text/x-python",
   "name": "python",
   "nbconvert_exporter": "python",
   "pygments_lexer": "ipython2",
   "version": "2.7.6"
  }
 },
 "nbformat": 4,
 "nbformat_minor": 0
}
