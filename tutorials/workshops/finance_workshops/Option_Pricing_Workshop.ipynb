{
 "cells": [
  {
   "cell_type": "markdown",
   "id": "4f49fdc8",
   "metadata": {
    "pycharm": {
     "name": "#%% md\n"
    }
   },
   "source": [
    "# Estimating European Option Price Using Amplitude Estimation - Workshop\n",
    "\n",
    "## Introduction and Background\n",
    "\n",
    "\n",
    "In Finance models we are often interested in calculating the average of a function of a given probability distribution ($E[f(x)]$). The most popular method to estimate the average is Monte Carlo [[1](#MCMF)] due to its flexibility and ability to generically handle stochastic parameters.\n",
    "Classical Monte Carlo methods, however, generally require extensive computational resources to provide an accurate estimation.\n",
    "By leveraging the laws of quantum mechanics, a quantum computer may provide novel ways to solve computationally intensive financial problems, such as risk management, portfolio optimization, and option pricing.\n",
    "The core quantum advantage of several of these applications is the Amplitude Estimation algorithm [[2](#AEA)] which can estimate a parameter with a\n",
    "convergence rate of $\\Omega(1/M^{2})$, compared to $\\Omega(1/M)$ in the classical case, where $M$ is the number of Grover iterations in the quantum case and the number of the Monte Carlo samples in the classical case. This represents a theoretical quadratic speed-up of the quantum method over classical Monte Carlo methods!"
   ]
  },
  {
   "cell_type": "markdown",
   "id": "731ba399",
   "metadata": {
    "pycharm": {
     "name": "#%% md\n"
    }
   },
   "source": [
    "### Option Pricing\n",
    "\n",
    "An option is the possibility to buy (call) or sell (put) an item (or share) at a known price - the strike price (K), where the option has a maturity price (S).\n",
    "The payoff function to describe for example a European call option will be:\n",
    "\n",
    "$$f(S)=\\\n",
    "\\Bigg\\{\\begin{array}{lr}\n",
    "    0, & \\text{when } K\\geq S\\\\\n",
    "    S - K, & \\text{when } K < S\\end{array}\n",
    "$$\n",
    "\n",
    "The maturity price is unknown. Therefore, it is expressed by a price distribution function, which may be any type of a distribution function.\n",
    "For example a log-normal distribution: $\\mathcal{ln}(S)\\sim~\\mathcal{N}(\\mu,\\sigma)$,\n",
    "where $\\mathcal{N}(\\mu,\\sigma)$ is the standard normal distribution with mean equal to $\\mu$ and standard deviation equal to $\\sigma$ .\n",
    "\n",
    "\n",
    "#### To estimate the average option price using a quantum computer, we need to:\n",
    "\n",
    "- Load the distribution, that is, discretize the distribution using $2^n$ points (n is the number of qubits) and truncate it.\n",
    "\n",
    "- Implement the payoff function that is equal to zero if $S\\leq{K}$ and increases linearly otherwise.\n",
    "  The linear part is approximated in order to be properly loaded using $R_y$ rotations [[3](#QAR)].\n",
    "\n",
    "- Evaluate the expected payoff using amplitude estimation.\n",
    "\n",
    "The algorithmic framework is called Quantum Monte-Carlo Integration. For a basic example, see [QMCI](https://github.com/Classiq/classiq-library/blob/main/algorithms/amplitude_estimation/qmc_user_defined/qmc_user_defined.ipynb).\n",
    "Here we use the same framework to estimate european call option, where the underlying asset distribution at the maturity data is modeled as log-normal distribution."
   ]
  },
  {
   "cell_type": "markdown",
   "id": "0643b1c4-38db-435f-ac1b-718fca8cd9eb",
   "metadata": {},
   "source": [
    "## Designing the Quantum Algorithm"
   ]
  },
  {
   "cell_type": "markdown",
   "id": "d2205a8b-a263-4dcd-ba7e-116e685696df",
   "metadata": {},
   "source": [
    "In this workshop, we will collaboratively design a quantum algorithm to estimate the price of a European option.\n",
    "This algorithm can be applied to real-world stock data, providing practical results and offering a potential speedup over the classical Monte Carlo method.\n",
    "During the algorithm design process, you will explore state preparation and arithmetics, define Qstructs (quantum classes), and function calling using Classiq?\n",
    "\n",
    "The code in the following section is incomplete, with missing parts that you need to fill in, indicated by \"#TODO\" in the code description. If you're unsure how to use a specific Classiq function, please refer to the [Classiq documentation](https://docs.classiq.io) and search for the required quantum function to find its corresponding documentation page."
   ]
  },
  {
   "cell_type": "markdown",
   "id": "397b9839",
   "metadata": {
    "pycharm": {
     "name": "#%% md\n"
    }
   },
   "source": [
    "### The Probability Distribution\n",
    "\n",
    "We begin by creating the probability distribution. The distribution is describing the option underlying asset price at maturity date.\n",
    "We will load a discrete version of the log-normal probability with $2^n$ points, when $\\mu$ of the normal distribution is denoted by `mu`, $\\sigma$ by `sigma` and $n$ is the number of qubits `num_qubits`. `K`, the strike price, is also chosen in this section."
   ]
  },
  {
   "cell_type": "code",
   "id": "b1e0e51a",
   "metadata": {
    "pycharm": {
     "name": "#%%\n"
    },
    "tags": []
   },
   "source": [
    "num_qubits = 5\n",
    "mu = 0.7\n",
    "sigma = 0.13\n",
    "\n",
    "K = 1.9"
   ],
   "outputs": [],
   "execution_count": null
  },
  {
   "cell_type": "code",
   "id": "96b05186-c2cc-403a-acb0-500acec4ac76",
   "metadata": {},
   "source": [
    "import matplotlib.pyplot as plt\n",
    "import numpy as np\n",
    "import scipy\n",
    "\n",
    "\n",
    "def get_log_normal_probabilities(mu_normal, sigma_normal, num_points):\n",
    "    # TODO Define the log-normal mean (log_normal_mean), variance (log_normal_variance) and standard deviation (log_normal_stddev)\n",
    "    ##### SOLUTION START ####\n",
    "    log_normal_mean = np.exp(mu + sigma**2 / 2)\n",
    "    log_normal_variance = (np.exp(sigma**2) - 1) * np.exp(2 * mu + sigma**2)\n",
    "    log_normal_stddev = np.sqrt(log_normal_variance)\n",
    "    ###### SOLUTION END #####\n",
    "\n",
    "    # cutting the distribution 3 sigmas from the mean\n",
    "    low = np.maximum(0, log_normal_mean - 3 * log_normal_stddev)\n",
    "    high = log_normal_mean + 3 * log_normal_stddev\n",
    "    print(log_normal_mean, log_normal_variance, log_normal_stddev, low, high)\n",
    "    x = np.linspace(low, high, num_points)\n",
    "    return x, scipy.stats.lognorm.pdf(x, s=sigma_normal, scale=np.exp(mu_normal))"
   ],
   "outputs": [],
   "execution_count": null
  },
  {
   "cell_type": "code",
   "id": "a26f4b68-c334-4c3d-9120-05bb752b3b3d",
   "metadata": {},
   "source": [
    "grid_points, probs = get_log_normal_probabilities(mu, sigma, 2**num_qubits)\n",
    "\n",
    "# TODO normalize the probabilities\n",
    "##### SOLUTION START ####\n",
    "probs = (probs / np.sum(probs)).tolist()\n",
    "###### SOLUTION END #####\n",
    "\n",
    "fig, ax1 = plt.subplots()\n",
    "\n",
    "# Plotting the log-normal probability function\n",
    "ax1.plot(grid_points, probs, \"go-\", label=\"Probability\")  # Green line with circles\n",
    "ax1.tick_params(axis=\"y\", labelcolor=\"g\")\n",
    "ax1.set_xlabel(\"Asset Value at Maturity Date\")\n",
    "ax1.set_ylabel(\"Probability\", color=\"g\")\n",
    "\n",
    "# Creating a second y-axis for the payoff function  F= S-K\n",
    "ax2 = ax1.twinx()\n",
    "ax2.plot(grid_points, np.maximum(grid_points - K, 0), \"r-\", label=\"Payoff\")  # Red line\n",
    "ax2.set_ylabel(\"Payoff\", color=\"r\")\n",
    "ax2.tick_params(axis=\"y\", labelcolor=\"r\")\n",
    "\n",
    "# Adding grid and title\n",
    "ax1.grid(True)\n",
    "plt.title(\"Probability and Payoff vs. Asset Value\")"
   ],
   "outputs": [],
   "execution_count": null
  },
  {
   "cell_type": "markdown",
   "id": "61ee987c-5181-4e5d-95e9-ac9392eda4bf",
   "metadata": {},
   "source": [
    "#### Quantum Function for Distribution Loading\n",
    "\n",
    "Here we use the general `inplace_prepare_state` [function](https://docs.classiq.io/latest/sdk-reference/?h=inplace_prepare_state#classiq.qmod.builtins.functions.inplace_prepare_int). The `inplace_prepare_state` function is applied instead of `prepare_state` when a state preparation needs to be repeatedly applied to the same previously initialized quantum variable.\n",
    "\n",
    "\n",
    "\n",
    "\n",
    "\n",
    "\n",
    "\n",
    "\n",
    "We use the genreal purpose state preparation for simplicity. There are more efficient and scalable methods for preparing the required distribution, for example, see [[4](#GS)]."
   ]
  },
  {
   "cell_type": "code",
   "id": "16693bb5-cf1c-48a9-b6bf-8a86bf1d4b4e",
   "metadata": {},
   "source": [
    "from classiq import *\n",
    "\n",
    "\n",
    "# Loading the probabilities to a QNum variable named \"asset\"\n",
    "@qfunc\n",
    "def load_distribution(asset: QNum):\n",
    "    # TODO load the probabilities you have prepared in the previous sections (Note: the probabilities need to be transformed to a list)\n",
    "    ##### SOLUTION START ####\n",
    "    inplace_prepare_state(probs, bound=0, target=asset)\n",
    "    ###### SOLUTION END #####"
   ],
   "outputs": [],
   "execution_count": null
  },
  {
   "cell_type": "markdown",
   "id": "c8635919",
   "metadata": {
    "pycharm": {
     "name": "#%% md\n"
    }
   },
   "source": [
    "### The Payoff Function\n",
    "\n",
    "We now proceed to load the payoff function. Our end objective is to construct $U_{payoff}$, which satisfies:\n",
    "\n",
    " $$U_{payoff}|S\\rangle|0\\rangle = \\sqrt{f(S)}|S\\rangle|1\\rangle + \\sqrt{1-f(S)}|S\\rangle|0\\rangle$$\n",
    "Where $\\ket{S}$ is the quantum state of the maturity price $S$ (disregarding the prepared probability amplitudes for now) represented by a Qnum variable named 'asset' (see note), and the qubit state ($\n",
    "\\ket{0}$ on the LHS) is represented by the 'ind' variable, serving as the indicator qubit. \n",
    "Due to the structure of the European option price payoff function, it is easily observed that the state remains unchanged if the maturity price $S$ is less than the strike price $K$. For $S\n",
    "\\geq K$, on the other hand, a linear amplitude loading is applied to reflect the option's payoff.\n",
    "\n",
    "\n",
    "\n",
    "\n",
    "\n",
    "\n"
   ]
  },
  {
   "cell_type": "markdown",
   "id": "b554fab8-c04a-4dc0-b3dc-d37005d97c76",
   "metadata": {},
   "source": [
    "*Note: in order to save qubits and depth, the register $|S\\rangle_n$ will hold a value in the range $[0, 2^{n-1}]$, effectively \"labeling\" the asset values. The mapping from the label space to the asset value space (and vice-versa) will occur within the comparator and amplitude loading, using the following (classical) `scale`/`descale` functions correspondingly*"
   ]
  },
  {
   "cell_type": "code",
   "id": "986b9ce8",
   "metadata": {
    "pycharm": {
     "name": "#%%\n"
    },
    "tags": []
   },
   "source": [
    "from classiq.qmod.symbolic import ceiling\n",
    "\n",
    "# Calculating the size between steps\n",
    "grid_step = (max(grid_points) - min(grid_points)) / (len(grid_points) - 1)\n",
    "\n",
    "\n",
    "# Transforming from QNum label space to price space\n",
    "def scale(val: QNum):\n",
    "    # TODO write the transform of the QNum label value to the asset value (Clue: see next function)\n",
    "    ##### SOLUTION START ####\n",
    "    return val * grid_step + min(grid_points)\n",
    "    ###### SOLUTION END #####\n",
    "\n",
    "\n",
    "# Transforming from price space to QNum label space\n",
    "def descale(val: int):\n",
    "    return (val - min(grid_points)) / grid_step\n",
    "\n",
    "\n",
    "# A function putting a control condition on the asset (maturity) price, checking if it is 'in the money' (meaning if it has crossed the strike price). if it is, payoff_linear is applied.\n",
    "@qfunc\n",
    "def payoff(asset: QNum, ind: QBit):\n",
    "    # TODO Put the correct code to apply this logic.\n",
    "    # Use within_apply to make the check and apply the payoff_linear in this context\n",
    "    # Use control functions for the check price logic into a Qbit holding the answer\n",
    "    # Call the payoff_linear function for the payoff part inside a within_apply context\n",
    "    asset_price_crossed_K = QBit(\"asset_price_crossed_K\")\n",
    "    #### SOLUTION START ####\n",
    "    within_apply(\n",
    "        lambda: assign(\n",
    "            asset >= ceiling(descale(K)), asset_price_crossed_K\n",
    "        ),  # check if asset price is 'in the money' - crossed the strike price\n",
    "        lambda: control(\n",
    "            asset_price_crossed_K, lambda: payoff_linear(asset, ind)\n",
    "        ),  # if it is, apply the payoff_linear function\n",
    "    )\n",
    "    ###### SOLUTION END #####"
   ],
   "outputs": [],
   "execution_count": null
  },
  {
   "cell_type": "markdown",
   "id": "39311d9a-fbe8-4639-96a1-8628265e2929",
   "metadata": {},
   "source": [
    "For the amplitude loading step, we use a general-purpose loading method utilizing the `*=` syntax. While the calculation is accurate, it is not scalable for large variable sizes.\n",
    "\n",
    "There are more scalable methods, like the ones mentioned in [[4](#GS)], [[6](#RAINBOW)].\n",
    "\n",
    "*See [Quantum Types](https://docs.classiq.io/latest/qmod-reference/language-reference/quantum-types/?h=qstruct#semantics) in documentation (under Qmod reference) for Qstruct definition"
   ]
  },
  {
   "cell_type": "markdown",
   "id": "d3e57fac-82c2-4994-bc2f-c0b5333d3409",
   "metadata": {},
   "source": [
    "*Important: To ensure that the sum of all loaded amplitudes does not exceed 1, we normalize the payoff using a `scaling_factor`, which will later be multiplied during the post-processing stage.*"
   ]
  },
  {
   "cell_type": "code",
   "id": "f6e1682d-75ec-4765-945a-6d1f8501365b",
   "metadata": {
    "collapsed": true,
    "jupyter": {
     "outputs_hidden": true
    },
    "scrolled": true
   },
   "source": [
    "from classiq.qmod.symbolic import abs, sqrt\n",
    "\n",
    "# Scaling the function by the maximal S-K value:\n",
    "scaling_factor = max(grid_points) - K\n",
    "\n",
    "\n",
    "# TODO Define a quantum struct named OptionPricingState(QStruct) with 2 quantum data members of the quantum struct: 'asset' and 'ind'.\n",
    "# Type of 'asset' should be QNum with num_qubits, unsigned and 0 fraction digits\n",
    "# Type of 'ind' should be QBit\n",
    "#### SOLUTION START ####\n",
    "class OptionPricingState(QStruct):\n",
    "    asset: QNum[num_qubits, False, 0]\n",
    "    ind: QBit\n",
    "\n",
    "\n",
    "###### SOLUTION END #####\n",
    "\n",
    "\n",
    "# Amplitude Loading of the scaled payoff linear function to 'ind', for asset values that are 'in the money'. This is done using *= (Amplitude Encoding)[https://docs.classiq.io/latest/qmod-reference/language-reference/statements/amplitude-encoding-assignment/]\n",
    "# We would like the probability of the indicator qubit to be proportional to the payoff function (the amplitude should be therefore a square-root of the scaled payoff function)\n",
    "# P(ind=1) = |(scale(asset) - K) / scaling_factor|\n",
    "@qfunc\n",
    "def payoff_linear(asset: QNum, ind: QBit):\n",
    "    #### SOLUTION START ####\n",
    "    ind *= sqrt(abs((scale(asset) - K) / scaling_factor))\n",
    "    ###### SOLUTION END #####\n",
    "\n",
    "\n",
    "# quantum function that loads the distribution and then operates the payoff function (prepares U_payoff)\n",
    "@qfunc\n",
    "def european_call_state_preparation(state: OptionPricingState):\n",
    "    load_distribution(state.asset)\n",
    "    payoff(state.asset, state.ind)"
   ],
   "outputs": [],
   "execution_count": null
  },
  {
   "cell_type": "markdown",
   "id": "bbb7834c",
   "metadata": {
    "pycharm": {
     "name": "#%% md\n"
    }
   },
   "source": [
    "### Wrapping to an Amplitude Estimation model\n",
    "\n",
    "After defining the probability distribution and the payoff function, we pack it into a `grover_operator`. Both stages completed so far contribute to the state preparation process that precedes the successive applications of the [Grover operator](https://docs.classiq.io/latest/explore/functions/qmod_library_reference/classiq_open_library/grover_operator/grover_operator/), an operator used to amplify the amplitudes of specific states corresponding to a desired output. \n",
    "\n",
    "\n",
    "A Grover operator consists of two components: a phase oracle, which is used to distinguish between 'good' state and 'bad' states, and a diffusion operator, which reflects the states about the mean axis (usually achieved by some state preparation successively followed by a reflection about the $\\ket{0}$ state).\n",
    "In our case, the oracle function $O_f=\\ket{x} \\rightarrow (-1)^{f(x)}\\ket{x}$ is quite simple, and only needs to flip the sign when the indicator qubit is in the $\n",
    "\\ket{1}$ state (meaning $f(1)=1,\\; f(0)=0$)\n",
    "\n",
    "After the initial probability and payoff loading, iterations of the Grover operator are applied within the [Iterative Quantum Amplitude Estimation algorithm](https://github.com/Classiq/classiq-library/blob/main/algorithms/amplitude_estimation/quantum_counting/quantum_counting.ipynb) [[5](#IQAE)], which is a generalization of the Grover search algorithm, utilized for the estimation of the amplitude $a$ to arbitrary precision, given the state (now taking the prepared probability amplitudes into account):\n",
    "$$\n",
    "|\\Psi\\rangle = \\sum_x|x\\rangle[\\sqrt{p(x)f(x)}|1\\rangle_{ind} + \\sqrt{p(x)(1-f(x))}|0\\rangle_{ind}]=\\sqrt{a}|\\Psi_1\\rangle + \\sqrt{1-a}|\\Psi_0\\rangle\n",
    "$$\n",
    "Which approximates the expectation value of the payoff (after a post-processing step):\n",
    "$$\n",
    "a = \\sum_xp(x)f(x) \\approx E[f]_p\n",
    "$$"
   ]
  },
  {
   "cell_type": "code",
   "id": "bd2d44b5",
   "metadata": {
    "pycharm": {
     "name": "#%%\n"
    },
    "tags": []
   },
   "source": [
    "# Defining the iterative quantum amplitude estimation algorithm\n",
    "@qfunc\n",
    "def iqae_algorithm(\n",
    "    k: CInt,\n",
    "    oracle_operand: QCallable[QArray[QBit]],\n",
    "    sp_operand: QCallable[QArray[QBit]],  # sp=state preparation\n",
    "    x: QArray[QBit],\n",
    "):\n",
    "    # TODO 2 steps for IQAE -\n",
    "    #  1. Prepare the state by calling sp_operand on the quantum input variable\n",
    "    #  2. Call the Grover operator on x, k times, with the oracle_operand and sp_operand https://docs.classiq.io/latest/explore/functions/qmod_library_reference/classiq_open_library/grover_operator/grover_operator/\n",
    "    ##### SOLUTION START ####\n",
    "    sp_operand(x)  # the call state preparation\n",
    "    power(k, lambda: grover_operator(oracle_operand, sp_operand, x))  # iterative step\n",
    "    ###### SOLUTION END #####\n",
    "\n",
    "\n",
    "# Defining the oracle for the Grover operator\n",
    "@qfunc\n",
    "def iqae_oracle(state: OptionPricingState):\n",
    "    Z(state.ind)\n",
    "\n",
    "\n",
    "@qfunc\n",
    "def main(\n",
    "    k: CInt,\n",
    "    ind: Output[QBit],  # declaring ind\n",
    ") -> None:\n",
    "    state = OptionPricingState(\"state\")\n",
    "    # TODO allocate proper amount of qubits for the state variable (1 for the indicator + num_qubits for the asset)\n",
    "    ##### SOLUTION START ####\n",
    "    allocate(1 + num_qubits, state)\n",
    "    ###### SOLUTION END #####\n",
    "    iqae_algorithm(\n",
    "        k,\n",
    "        iqae_oracle,\n",
    "        european_call_state_preparation,\n",
    "        state,\n",
    "    )\n",
    "    asset = QArray(\"asset\")\n",
    "    # TODO split state into 2 variables asset and ind so IQAE can use ind as the output to choose the next k properly. Use the bind operation\n",
    "    ##### SOLUTION START ####\n",
    "    bind(state, [asset, ind])\n",
    "    ###### SOLUTION END #####"
   ],
   "outputs": [],
   "execution_count": null
  },
  {
   "metadata": {},
   "cell_type": "markdown",
   "source": [
    "Finally, we define the parameters for the accuracy of the amplitude estimation. This will affect the expected number of grover of repetitions within the execution, which is generally $O(\\sqrt{N})$:"
   ],
   "id": "54081f53-acf4-4b4d-b2fe-9640e6c78cc8"
  },
  {
   "cell_type": "code",
   "id": "a7fdde0f-8413-43ef-b7d5-788b86cfdc54",
   "metadata": {},
   "source": [
    "@cfunc\n",
    "def cmain():\n",
    "    iqae_res = iqae(\n",
    "        epsilon=0.05, alpha=0.01  # desired error  # desired probability for error\n",
    "    )\n",
    "    save({\"iqae_res\": iqae_res})"
   ],
   "outputs": [],
   "execution_count": null
  },
  {
   "cell_type": "markdown",
   "id": "e586edd6-5429-4312-adfc-cd09b9ed77b5",
   "metadata": {},
   "source": [
    "## Quantum program synthesis"
   ]
  },
  {
   "cell_type": "markdown",
   "id": "6a8a1360-d24b-40e3-b16c-c12658c7b0de",
   "metadata": {},
   "source": [
    "After we finished the model design, we synthesize the model to a quantum program."
   ]
  },
  {
   "cell_type": "code",
   "id": "9e9e68fa-afe7-4668-b37b-1b6c385d9ce2",
   "metadata": {},
   "source": [
    "# TODO set constrains to a maximal width of 25 qubits because of the limited resources of simulators\n",
    "##### SOLUTION START ####\n",
    "constraints = Constraints(max_width=25)\n",
    "###### SOLUTION END #####\n",
    "\n",
    "qmod = create_model(main, constraints=constraints, classical_execution_function=cmain)\n",
    "# write_qmod(qmod, \"option_pricing\")"
   ],
   "outputs": [],
   "execution_count": null
  },
  {
   "cell_type": "code",
   "id": "d912597d-c196-43c8-9955-fa4ccd3cbe99",
   "metadata": {},
   "source": [
    "qprog = synthesize(qmod)\n",
    "show(qprog)"
   ],
   "outputs": [],
   "execution_count": null
  },
  {
   "cell_type": "markdown",
   "id": "4697b71c-b2cc-41ff-8d0a-2b78a868a166",
   "metadata": {},
   "source": [
    "## Quantum Program Execution"
   ]
  },
  {
   "metadata": {},
   "cell_type": "code",
   "source": [
    "job = execute(qprog)\n",
    "job.open_in_ide()"
   ],
   "id": "486b167a-b67b-4e2f-8ea3-ed5faa9f4e9e",
   "outputs": [],
   "execution_count": null
  },
  {
   "metadata": {},
   "cell_type": "code",
   "source": [
    "result = job.result_value()"
   ],
   "id": "3503524feb352bc4",
   "outputs": [],
   "execution_count": null
  },
  {
   "cell_type": "markdown",
   "id": "7ecc7387-9e4b-4f14-b00b-cc52717c6e4c",
   "metadata": {},
   "source": [
    "#### Post processing\n",
    "In order to get the expected payoff, we need to descale the measured amplitude by `scaling_factor`."
   ]
  },
  {
   "cell_type": "code",
   "id": "7b257b85-4f48-4625-8c1f-f05895e60575",
   "metadata": {},
   "source": [
    "measured_payoff = result.estimation * scaling_factor\n",
    "condidence_interval = np.array(result.confidence_interval) * scaling_factor\n",
    "\n",
    "print(\"Measured Payoff:\", measured_payoff)\n",
    "print(\"Confidence Interval:\", condidence_interval)"
   ],
   "outputs": [],
   "execution_count": null
  },
  {
   "cell_type": "markdown",
   "id": "ae381689-8408-47aa-a94a-e4c1e64b3ac6",
   "metadata": {},
   "source": [
    "### Compare to the expected calculated payoff"
   ]
  },
  {
   "cell_type": "code",
   "id": "4acddc0a-83c2-480a-bf68-975c4bd0fcc6",
   "metadata": {
    "scrolled": true
   },
   "source": [
    "expected_payoff = sum((grid_points - K) * (grid_points >= K) * probs)\n",
    "print(\"Expected Payoff:\", expected_payoff)"
   ],
   "outputs": [],
   "execution_count": null
  },
  {
   "cell_type": "code",
   "id": "d30f73bb-feda-4043-94f2-916728d910fc",
   "metadata": {},
   "source": [
    "assert np.isclose(\n",
    "    measured_payoff,\n",
    "    expected_payoff,\n",
    "    atol=10 * (condidence_interval[1] - condidence_interval[0]),\n",
    ")"
   ],
   "outputs": [],
   "execution_count": null
  },
  {
   "cell_type": "markdown",
   "id": "2aacb5d2",
   "metadata": {
    "pycharm": {
     "name": "#%% md\n"
    }
   },
   "source": [
    "## References\n",
    "\n",
    "<a name='MCMF'>[1]</a>: [Paul Glasserman, Monte Carlo Methods in Financial Engineering. Springer-Verlag New York, 2003, p. 596.](https://link.springer.com/book/10.1007/978-0-387-21617-1)\n",
    "\n",
    "<br><a name='AEA'>[2]</a>: [Gilles Brassard, Peter Hoyer, Michele Mosca, and Alain Tapp, Quantum Amplitude Amplification and Estimation. Contemporary Mathematics 305 (2002)](https://arxiv.org/abs/quant-ph/0005055)\n",
    "\n",
    "<br><a name='QAR'>[3]</a>: [ Nikitas Stamatopoulos, Daniel J. Egger, Yue Sun, Christa Zoufal, Raban Iten, Ning Shen, and Stefan Woerner, Option Pricing using Quantum Computers, Quantum 4, 291 (2020).\n",
    "](https://arxiv.org/abs/1905.02666v5)\n",
    "\n",
    "<br><a name='GS'>[4]</a>: [ Chakrabarti, Shouvanik, et al. \"A threshold for quantum advantage in derivative pricing.\" Quantum 5 (2021): 463.](https://quantum-journal.org/papers/q-2021-06-01-463/)\n",
    "\n",
    "<br><a name='IQAE'>[5]</a>: [Grinko, D., Gacon, J., Zoufal, C. et al. Iterative quantum amplitude estimation. npj Quantum Inf 7, 52 (2021)](https://doi.org/10.1038/s41534-021-00379-1)\n",
    "\n",
    "<br><a name='RAINBOW'>[6]</a>: [Francesca Cibrario et al., Quantum Amplitude Loading for Rainbow Options Pricing. Preprint](https://arxiv.org/abs/2402.05574v2)"
   ]
  }
 ],
 "metadata": {
  "kernelspec": {
   "display_name": "Python 3 (ipykernel)",
   "language": "python",
   "name": "python3"
  },
  "language_info": {
   "codemirror_mode": {
    "name": "ipython",
    "version": 3
   },
   "file_extension": ".py",
   "mimetype": "text/x-python",
   "name": "python",
   "nbconvert_exporter": "python",
   "pygments_lexer": "ipython3",
   "version": "3.11.7"
  },
  "vscode": {
   "interpreter": {
    "hash": "a07aacdcc8a415e7643a2bc993226848ff70704ebef014f87460de9126b773d0"
   }
  }
 },
 "nbformat": 4,
 "nbformat_minor": 5
}
