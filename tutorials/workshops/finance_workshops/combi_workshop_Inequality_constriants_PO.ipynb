{
 "cells": [
  {
   "cell_type": "markdown",
   "id": "6a264eba-42cc-4800-8369-24b0891d167d",
   "metadata": {
    "id": "6a264eba-42cc-4800-8369-24b0891d167d"
   },
   "source": [
    "# Quantum Optimization Training - part 3\n",
    "## Dealing with constraint using portfolio optimization"
   ]
  },
  {
   "cell_type": "markdown",
   "id": "91cd8b6b-2a74-44e4-be44-2315afe58306",
   "metadata": {},
   "source": [
    "#### Guidance for the workshop:\n",
    "**The `# TODO` or `# Your code` is there for you to do yourself.**\n",
    "**The `# Solution start` and `# Solution end` are only for helping you. Please delete the `Solution` and try doing it yourself...**"
   ]
  },
  {
   "cell_type": "markdown",
   "id": "0c1662b0-2cb2-44f8-9c3b-452cf8e5b2cb",
   "metadata": {
    "id": "0c1662b0-2cb2-44f8-9c3b-452cf8e5b2cb"
   },
   "source": [
    "## Portfolio Optimization with the Quantum Approximate Optimization Algorithm (QAOA)\n",
    "\n",
    "### Introduction\n",
    "\n",
    "Portfolio optimization is the process of allocating a portfolio of financial assets optimally, according to some predetermined goal. Usually, the goal is to maximize the potential return while minimizing the financial risk of the portfolio. One can express this problem as a combinatorial optimization problem like many other real-world problems. In this demo, we'll show how the Quantum Approximate Optimization Algorithm (QAOA) can be employed on the Classiq platform to solve the problem of portfolio optimization.\n",
    "\n",
    "### Modeling the Portfolio Optimization Problem\n",
    "\n",
    "As a first step, we have to model the problem mathematically. We will use a simple yet powerful model, which captures the essence of portfolio optimization:\n",
    "\n",
    "- A portfolio is built from a pool of $n$ financial assets, each asset labeled $i \\in \\{1,\\ldots,n\\}$.\n",
    "- Every asset's return is a random variable, with expected value $\\mu_i$ and variance $\\Sigma_i$ (modeling the financial risk involved in the asset).\n",
    "- Every two assets $i \\neq j$ have covariance $\\Sigma_{ij}$ (modeling market correlation between assets).\n",
    "- Every asset $i$ has a weight $w_i \\in D_i = \\{0,\\ldots,b_i\\}$ in the portfolio, with $b_i$ defined as the budget for asset $i$ (modeling the maximum allowed weight of the asset).\n",
    "- The return vector $\\mu$, the covariance matrix $\\Sigma$ and the weight vector $w$ are defined naturally from the above (with the domain $D = D_1 \\times D_2 \\times \\ldots \\times D_n$ for $w$).\n",
    "\n",
    "With the above definitions, the total expected return of the portfolio is $\\mu^T w$ and the total risk is $w^T \\Sigma w$. We'll use a simple difference of the two as our cost function, with the additional constraint that the total sum of assets does not exceed a predefined budget $B$. We note that there are many other possibilities for defining a cost function (e.g. add a scaling factor to the risk/return or even some non-linear relation). For reasons of simplicity we select the model below, and we assume all constants and variables are dimensionless.\n",
    "Thus, the problem is, given the constant inputs $\\mu, \\Sigma, D, B$, to find optimal variable $w$ as follows:\n",
    "\n",
    "$$\\begin{equation*}\n",
    "\\min_{w \\in D}  w^T \\Sigma w - \\mu^T w,\n",
    "\\end{equation*}$$\n",
    "subject to $$\\Sigma_{i} w_i \\leq B$$\n",
    "\n",
    "The case presented above is called integer portfolio optimization, since the domains $D_i$ are over the (positive) integers.\n",
    "Another variation of this problem defines weights over binary domains, and will not be discussed here."
   ]
  },
  {
   "cell_type": "code",
   "execution_count": 1,
   "id": "952d49b3-5dc6-41a1-8822-0622df536cf7",
   "metadata": {
    "id": "952d49b3-5dc6-41a1-8822-0622df536cf7",
    "tags": [],
    "ExecuteTime": {
     "end_time": "2025-06-18T15:51:50.545655Z",
     "start_time": "2025-06-18T15:51:43.167880Z"
    }
   },
   "outputs": [],
   "source": [
    "import math\n",
    "from typing import List\n",
    "\n",
    "import matplotlib.pyplot as plt\n",
    "import networkx as nx\n",
    "import numpy as np\n",
    "from scipy.optimize import minimize\n",
    "\n",
    "from classiq import *"
   ]
  },
  {
   "cell_type": "markdown",
   "id": "7e5b8849-6460-4ab1-b661-f650ff6f8dbf",
   "metadata": {
    "id": "7e5b8849-6460-4ab1-b661-f650ff6f8dbf"
   },
   "source": [
    "#### Finaly, we will add inequality constraints:\n",
    "\n",
    "$$\\begin{equation*}\n",
    "\\min_{w \\in D}  w^T \\Sigma w - \\mu^T w,\n",
    "\\end{equation*}$$\n",
    "subject to:\n",
    "$$\\Sigma_{i} w_i \\leq B$$\n",
    "\n",
    "**We will do it similarly to the equality constraint but we add slack variable that can take multiple values to make sure $\\Sigma_{i} w_i \\leq B$**\n",
    "\n",
    "In this case, we will change the objective function as follows:\n",
    "\n",
    "$$\\begin{equation*}\n",
    "\\min_{w \\in D}  w^T \\Sigma w - \\mu^T w + P * (\\Sigma_{i} w_i + slack - B)^2\n",
    "\\end{equation*}$$\n",
    "\n",
    "Where $P$ is the penalty value you need to define."
   ]
  },
  {
   "cell_type": "markdown",
   "id": "e8e9ec0e",
   "metadata": {
    "id": "e8e9ec0e"
   },
   "source": [
    "# The Portfolio Optimization Problem Parameters\n",
    "\n",
    "First we define the parameters of the optimization problem, which include the expected return vector, the covariance matrix, the total budget and the asset-specific budgets."
   ]
  },
  {
   "cell_type": "code",
   "execution_count": 2,
   "id": "6212e51c",
   "metadata": {
    "id": "6212e51c",
    "pycharm": {
     "name": "#%%\n"
    },
    "tags": [],
    "ExecuteTime": {
     "end_time": "2025-06-18T15:51:50.557584Z",
     "start_time": "2025-06-18T15:51:50.553304Z"
    }
   },
   "outputs": [],
   "source": [
    "returns = np.array([3, 4, -1])\n",
    "# fmt: off\n",
    "covariances = np.array(\n",
    "    [\n",
    "        [ 0.9,  0.5, -0.7],\n",
    "        [ 0.5,  0.9, -0.2],\n",
    "        [-0.7, -0.2,  0.9],\n",
    "    ]\n",
    ")\n",
    "# fmt: on\n",
    "total_budget = 6"
   ]
  },
  {
   "cell_type": "markdown",
   "id": "26b76418-b96a-4076-8c39-cd32bb38e238",
   "metadata": {
    "id": "26b76418-b96a-4076-8c39-cd32bb38e238"
   },
   "source": [
    "## Defining the variables\n",
    "\n",
    "The number of slack qubits needs to reach to get to the number $B$."
   ]
  },
  {
   "cell_type": "code",
   "execution_count": 3,
   "id": "38ba3dd2-c843-45fb-8ad2-c89882bb292c",
   "metadata": {
    "id": "38ba3dd2-c843-45fb-8ad2-c89882bb292c",
    "ExecuteTime": {
     "end_time": "2025-06-18T15:51:50.564482Z",
     "start_time": "2025-06-18T15:51:50.560793Z"
    }
   },
   "outputs": [],
   "source": [
    "num_assets = 3\n",
    "\n",
    "num_qubits_per_asset = 2  # Defines the possible values of choosing each asset.\n",
    "\n",
    "num_slack = 3\n",
    "\n",
    "\n",
    "class PortfolioOptimizationVars(QStruct):\n",
    "    a: QArray[QNum[num_qubits_per_asset], num_assets]\n",
    "    slack: QNum[num_slack]"
   ]
  },
  {
   "cell_type": "markdown",
   "id": "4324f835-ca83-40dc-83f8-6f99407cd211",
   "metadata": {
    "id": "4324f835-ca83-40dc-83f8-6f99407cd211"
   },
   "source": [
    "### Define the expected return\n",
    "Define a function that describes $\\mu^T w$ where $\\mu$ is the `return` vector."
   ]
  },
  {
   "cell_type": "code",
   "execution_count": 4,
   "id": "3b14c4f2-5031-454a-9638-15ea9fd252dd",
   "metadata": {
    "id": "3b14c4f2-5031-454a-9638-15ea9fd252dd",
    "ExecuteTime": {
     "end_time": "2025-06-18T15:51:50.587549Z",
     "start_time": "2025-06-18T15:51:50.566981Z"
    }
   },
   "outputs": [],
   "source": [
    "def expected_return_cost(\n",
    "    returns: np.ndarray, w_array: PortfolioOptimizationVars\n",
    ") -> float:\n",
    "    return sum(returns[i] * w_array.a[i] for i in range(len(returns)))"
   ]
  },
  {
   "cell_type": "markdown",
   "id": "4adb51f3-0623-4a62-9c9f-b7d514abc00d",
   "metadata": {
    "id": "4adb51f3-0623-4a62-9c9f-b7d514abc00d"
   },
   "source": [
    "### Define the risk term\n",
    "Define a function that describes the risk term in the objective function $w^T \\Sigma w$ where $\\Sigma$ is the `covariances` matrix.\n",
    "\n",
    "$$\\begin{equation*}\n",
    "\\min_{w \\in D}  w^T \\Sigma w - \\mu^T w + P * (\\Sigma_{i} w_i + slack - B)^2\n",
    "\\end{equation*}$$"
   ]
  },
  {
   "cell_type": "code",
   "execution_count": 5,
   "id": "ddd211dd-57da-45d9-bc31-273670731eb7",
   "metadata": {
    "id": "ddd211dd-57da-45d9-bc31-273670731eb7",
    "ExecuteTime": {
     "end_time": "2025-06-18T15:51:50.588740Z",
     "start_time": "2025-06-18T15:51:50.576355Z"
    }
   },
   "outputs": [],
   "source": [
    "def risk_cost(covariances: np.ndarray, w_array: PortfolioOptimizationVars) -> float:\n",
    "    risk_term = sum(\n",
    "        w_array.a[i]\n",
    "        * sum(w_array.a[j] * covariances[i][j] for j in range(covariances.shape[0]))\n",
    "        for i in range(covariances.shape[0])\n",
    "    )\n",
    "    return risk_term"
   ]
  },
  {
   "cell_type": "markdown",
   "id": "1ad5238e-1441-4272-a96d-acc26ae57778",
   "metadata": {
    "id": "1ad5238e-1441-4272-a96d-acc26ae57778"
   },
   "source": [
    "### Define the entire portfolio optimization objective function\n",
    "\n",
    "Combine the risk term and the expected return functions.\n",
    "There a a term called return coefficient `return_coeff` that defines how much you prefer certainly over return. Higher values is more risky but can be more profitable.\n",
    "\n",
    "Later try changing it to see how the result changes."
   ]
  },
  {
   "cell_type": "code",
   "execution_count": 6,
   "id": "d6bd7c68-5308-4839-a93d-36d4417422c7",
   "metadata": {
    "id": "d6bd7c68-5308-4839-a93d-36d4417422c7",
    "ExecuteTime": {
     "end_time": "2025-06-18T15:51:50.589883Z",
     "start_time": "2025-06-18T15:51:50.583768Z"
    }
   },
   "outputs": [],
   "source": [
    "return_coeff = 1.4\n",
    "Penalty = 1.3\n",
    "\n",
    "\n",
    "def objective_portfolio_inequality(\n",
    "    w_array: PortfolioOptimizationVars,\n",
    "    returns: np.ndarray,\n",
    "    covariances: np.ndarray,\n",
    "    return_coeff: float,\n",
    ") -> float:\n",
    "    # Your code\n",
    "\n",
    "    # Solution start\n",
    "    return (\n",
    "        risk_cost(covariances, w_array)\n",
    "        - return_coeff * expected_return_cost(returns, w_array)\n",
    "        + Penalty\n",
    "        * (\n",
    "            sum(w_array.a[i] for i in range(len(returns)))\n",
    "            + w_array.slack\n",
    "            - total_budget\n",
    "        )\n",
    "        ** 2\n",
    "    )\n",
    "    # Solution end"
   ]
  },
  {
   "cell_type": "markdown",
   "id": "330a4a66-2131-4d31-91c1-3e50e61939bb",
   "metadata": {
    "id": "330a4a66-2131-4d31-91c1-3e50e61939bb"
   },
   "source": [
    "# Build the QAOA circuit"
   ]
  },
  {
   "cell_type": "code",
   "execution_count": 7,
   "id": "adf3d831-98b0-4368-b9e7-f09666963fe6",
   "metadata": {
    "id": "adf3d831-98b0-4368-b9e7-f09666963fe6",
    "ExecuteTime": {
     "end_time": "2025-06-18T15:51:50.638446Z",
     "start_time": "2025-06-18T15:51:50.590619Z"
    }
   },
   "outputs": [],
   "source": [
    "@qfunc\n",
    "def mixer_layer(beta: CReal, qba: QArray):\n",
    "    # Your code here\n",
    "\n",
    "    # Solution start\n",
    "    apply_to_all(lambda q: RX(beta, q), qba)\n",
    "    # Solution end"
   ]
  },
  {
   "cell_type": "code",
   "execution_count": 8,
   "id": "6ada4337-706d-4d57-81e8-ec324cc594a2",
   "metadata": {
    "id": "6ada4337-706d-4d57-81e8-ec324cc594a2",
    "ExecuteTime": {
     "end_time": "2025-06-18T15:51:50.651491Z",
     "start_time": "2025-06-18T15:51:50.598757Z"
    }
   },
   "outputs": [],
   "source": [
    "NUM_LAYERS = 4\n",
    "\n",
    "\n",
    "@qfunc\n",
    "def main(\n",
    "    params: CArray[CReal, 2 * NUM_LAYERS], w_array: Output[PortfolioOptimizationVars]\n",
    ") -> None:\n",
    "\n",
    "    # Allocating the qubits\n",
    "    allocate(w_array)\n",
    "\n",
    "    # Your code\n",
    "\n",
    "    # Solution start\n",
    "\n",
    "    hadamard_transform(w_array)\n",
    "\n",
    "    repeat(\n",
    "        count=params.len / 2,\n",
    "        iteration=lambda i: (\n",
    "            phase(\n",
    "                objective_portfolio_inequality(\n",
    "                    w_array, returns, covariances, return_coeff\n",
    "                ),\n",
    "                params[2 * i],\n",
    "            ),\n",
    "            mixer_layer(params[2 * i + 1], w_array),\n",
    "        ),\n",
    "    )\n",
    "\n",
    "    # Solution end"
   ]
  },
  {
   "cell_type": "markdown",
   "id": "c4635335-aaf8-4400-ac5d-a945371c4fbf",
   "metadata": {
    "id": "c4635335-aaf8-4400-ac5d-a945371c4fbf"
   },
   "source": [
    "## Synthesizing and visualizing"
   ]
  },
  {
   "cell_type": "code",
   "execution_count": 9,
   "id": "d87b0c1a-7ac6-431b-8bc9-9bd729a5afe1",
   "metadata": {
    "id": "d87b0c1a-7ac6-431b-8bc9-9bd729a5afe1",
    "ExecuteTime": {
     "end_time": "2025-06-18T15:52:09.260836Z",
     "start_time": "2025-06-18T15:51:50.614920Z"
    }
   },
   "outputs": [
    {
     "name": "stdout",
     "output_type": "stream",
     "text": [
      "Quantum program link: https://platform.classiq.io/circuit/2ygh3y09PSqCwRCitOK3J7bCW3g\n"
     ]
    }
   ],
   "source": [
    "qprog = synthesize(main)\n",
    "show(qprog)"
   ]
  },
  {
   "cell_type": "markdown",
   "id": "45090031-c412-4d16-958c-d478945f0fc9",
   "metadata": {
    "id": "45090031-c412-4d16-958c-d478945f0fc9"
   },
   "source": [
    "## Execution and post processing\n",
    "\n",
    "For the hybrid execution, we use `ExecutionSession`, which can evaluate the circuit in multiple methods, such as sampling the circuit, giving specific values for the parameters, and evaluating to a specific Hamiltonian, which is very common in chemical applications.\n",
    "\n",
    "In QAOA, we will use the `estimate_cost` method, which samples the cost function and returns their average cost from all measurements. That helps to optimize easily."
   ]
  },
  {
   "cell_type": "code",
   "execution_count": 10,
   "id": "16acd6a4-db04-495e-985b-af32af9e1a00",
   "metadata": {
    "id": "16acd6a4-db04-495e-985b-af32af9e1a00",
    "ExecuteTime": {
     "end_time": "2025-06-18T15:52:10.276078Z",
     "start_time": "2025-06-18T15:52:09.272831Z"
    }
   },
   "outputs": [],
   "source": [
    "NUM_SHOTS = 1000\n",
    "\n",
    "es = ExecutionSession(\n",
    "    qprog, execution_preferences=ExecutionPreferences(num_shots=NUM_SHOTS)\n",
    ")\n",
    "\n",
    "# Build `initial_params` list of np.array type.\n",
    "# The gamma values should start from 0 and, in each layer, should approach closer to 1 linearly\n",
    "# The beta values should start from 1 and in each layer, should approach closer to 0 linearly\n",
    "# Then unify it to one list so scipy minimize can digest it.\n",
    "# Your code here\n",
    "\n",
    "\n",
    "# Solution start\n",
    "def initial_qaoa_params(NUM_LAYERS) -> np.ndarray:\n",
    "    initial_gammas = math.pi * np.linspace(0, 1, NUM_LAYERS)\n",
    "    initial_betas = math.pi * np.linspace(1, 0, NUM_LAYERS)\n",
    "\n",
    "    initial_params = []\n",
    "\n",
    "    for i in range(NUM_LAYERS):\n",
    "        initial_params.append(initial_gammas[i])\n",
    "        initial_params.append(initial_betas[i])\n",
    "\n",
    "    return np.array(initial_params)\n",
    "\n",
    "\n",
    "# Solution end\n",
    "\n",
    "initial_params = initial_qaoa_params(NUM_LAYERS)"
   ]
  },
  {
   "cell_type": "markdown",
   "id": "elfDTha4CCvo",
   "metadata": {
    "collapsed": false,
    "id": "elfDTha4CCvo"
   },
   "source": [
    "## Define a callback function to track the optimization"
   ]
  },
  {
   "cell_type": "code",
   "execution_count": 11,
   "id": "duPt2gRbCCvo",
   "metadata": {
    "id": "duPt2gRbCCvo",
    "ExecuteTime": {
     "end_time": "2025-06-18T15:52:10.277194Z",
     "start_time": "2025-06-18T15:52:09.327389Z"
    }
   },
   "outputs": [],
   "source": [
    "# Record the steps of the optimization\n",
    "intermediate_params = []\n",
    "objective_values = []\n",
    "\n",
    "\n",
    "# Define the callback function to store the intermediate steps\n",
    "def callback(xk):\n",
    "    intermediate_params.append(xk)"
   ]
  },
  {
   "cell_type": "markdown",
   "id": "6e164011-0baa-4300-a337-430749683599",
   "metadata": {
    "id": "6e164011-0baa-4300-a337-430749683599"
   },
   "source": [
    "## Define the objective function"
   ]
  },
  {
   "cell_type": "code",
   "execution_count": 12,
   "id": "fddf3739-d81a-492b-8eec-49b4a08c6f8a",
   "metadata": {
    "id": "fddf3739-d81a-492b-8eec-49b4a08c6f8a",
    "ExecuteTime": {
     "end_time": "2025-06-18T15:52:10.278293Z",
     "start_time": "2025-06-18T15:52:09.330444Z"
    }
   },
   "outputs": [],
   "source": [
    "# You code\n",
    "# You can use the hints in the comments\n",
    "\n",
    "# cost_func = lambda state: objective_portfolio_inequality(\n",
    "#     w_array = ...,\n",
    "#     returns = ...,\n",
    "#     covariances = ...,\n",
    "#     return_coeff= ...\n",
    "# )\n",
    "# def estimate_cost_func(params: np.ndarray) -> float:\n",
    "#     objective_value = es.estimate_cost(\n",
    "#         cost_func = ...,\n",
    "#         parameters = {\"params\": params.tolist()}\n",
    "#     )\n",
    "#     # Your code here\n",
    "#     # Save the result for convergence graph\n",
    "\n",
    "#     return objective_value\n",
    "\n",
    "# Solution start\n",
    "\n",
    "\n",
    "cost_func = lambda state: objective_portfolio_inequality(\n",
    "    w_array=state[\"w_array\"],\n",
    "    returns=returns,\n",
    "    covariances=covariances,\n",
    "    return_coeff=return_coeff,\n",
    ")\n",
    "\n",
    "\n",
    "def estimate_cost_func(params: np.ndarray) -> float:\n",
    "    objective_value = es.estimate_cost(\n",
    "        cost_func=cost_func, parameters={\"params\": params.tolist()}\n",
    "    )\n",
    "    objective_values.append(objective_value)\n",
    "    return objective_value\n",
    "\n",
    "\n",
    "# Solution end"
   ]
  },
  {
   "cell_type": "markdown",
   "id": "6d74bf05-3849-4ded-aebe-2a642e9baaa3",
   "metadata": {
    "id": "6d74bf05-3849-4ded-aebe-2a642e9baaa3"
   },
   "source": [
    "## Optimize"
   ]
  },
  {
   "cell_type": "code",
   "execution_count": 13,
   "id": "b0955a84-e63f-45ba-bbb6-12de7d83ed8f",
   "metadata": {
    "id": "b0955a84-e63f-45ba-bbb6-12de7d83ed8f",
    "ExecuteTime": {
     "end_time": "2025-06-18T15:52:42.552425Z",
     "start_time": "2025-06-18T15:52:09.350727Z"
    }
   },
   "outputs": [],
   "source": [
    "# You code\n",
    "# You can use the hints in the comments\n",
    "\n",
    "# optimization_res = minimize(\n",
    "#     fun = ...,\n",
    "#     x0=...,\n",
    "#     method=\"COBYLA\",\n",
    "#     callback=...,\n",
    "#     options={\"maxiter\": 10},\n",
    "# )\n",
    "\n",
    "# Solution start\n",
    "\n",
    "optimization_res = minimize(\n",
    "    estimate_cost_func,\n",
    "    x0=initial_params,\n",
    "    method=\"COBYLA\",\n",
    "    callback=callback,\n",
    "    options={\"maxiter\": 20},\n",
    ")\n",
    "# Solution end"
   ]
  },
  {
   "cell_type": "markdown",
   "id": "b5b83326-df90-4105-a6a5-f617fdf6cf2e",
   "metadata": {
    "id": "b5b83326-df90-4105-a6a5-f617fdf6cf2e"
   },
   "source": [
    "## Look at the results"
   ]
  },
  {
   "cell_type": "code",
   "execution_count": 14,
   "id": "732b6138-e1a4-4276-93ac-5c8df4985a6e",
   "metadata": {
    "id": "732b6138-e1a4-4276-93ac-5c8df4985a6e",
    "ExecuteTime": {
     "end_time": "2025-06-18T15:52:44.252217Z",
     "start_time": "2025-06-18T15:52:42.557683Z"
    }
   },
   "outputs": [
    {
     "name": "stdout",
     "output_type": "stream",
     "text": [
      "Optimized parameters: [0.0, 4.141592653589793, 1.0471975511965976, 3.0943951023931957, 2.0943951023931953, 2.047197551196598, 3.141592653589793, 1.0]\n",
      "solution={'a': [1, 3, 1], 'slack': 1} probability=0.003 cost=-9.299999999999999\n",
      "solution={'a': [2, 3, 1], 'slack': 0} probability=0.007 cost=-9.199999999999998\n",
      "solution={'a': [2, 2, 2], 'slack': 0} probability=0.001 cost=-9.199999999999998\n",
      "solution={'a': [1, 3, 0], 'slack': 2} probability=0.006 cost=-8.999999999999998\n",
      "solution={'a': [3, 1, 2], 'slack': 0} probability=0.002 cost=-8.999999999999998\n",
      "solution={'a': [1, 2, 0], 'slack': 3} probability=0.001 cost=-8.899999999999999\n",
      "solution={'a': [1, 2, 1], 'slack': 2} probability=0.001 cost=-8.8\n",
      "solution={'a': [3, 2, 1], 'slack': 0} probability=0.003 cost=-8.799999999999999\n",
      "solution={'a': [2, 1, 1], 'slack': 2} probability=0.003 cost=-8.4\n",
      "solution={'a': [2, 2, 1], 'slack': 2} probability=0.003 cost=-8.4\n",
      "solution={'a': [3, 2, 2], 'slack': 0} probability=0.001 cost=-8.399999999999999\n",
      "solution={'a': [2, 2, 0], 'slack': 2} probability=0.001 cost=-8.399999999999999\n",
      "solution={'a': [1, 3, 1], 'slack': 0} probability=0.004 cost=-7.999999999999999\n",
      "solution={'a': [2, 2, 2], 'slack': 1} probability=0.005 cost=-7.899999999999998\n",
      "solution={'a': [2, 3, 1], 'slack': 1} probability=0.002 cost=-7.899999999999998\n",
      "solution={'a': [1, 3, 2], 'slack': 0} probability=0.002 cost=-7.799999999999999\n",
      "solution={'a': [1, 3, 0], 'slack': 3} probability=0.003 cost=-7.699999999999998\n",
      "solution={'a': [0, 2, 0], 'slack': 4} probability=0.002 cost=-7.6\n",
      "solution={'a': [1, 2, 0], 'slack': 2} probability=0.003 cost=-7.599999999999999\n",
      "solution={'a': [1, 2, 1], 'slack': 3} probability=0.005 cost=-7.500000000000001\n",
      "solution={'a': [1, 2, 1], 'slack': 1} probability=0.002 cost=-7.500000000000001\n",
      "solution={'a': [2, 1, 0], 'slack': 3} probability=0.002 cost=-7.5\n",
      "solution={'a': [2, 1, 2], 'slack': 1} probability=0.002 cost=-7.499999999999999\n",
      "solution={'a': [3, 2, 1], 'slack': 1} probability=0.001 cost=-7.499999999999999\n",
      "solution={'a': [2, 3, 0], 'slack': 1} probability=0.002 cost=-7.4999999999999964\n",
      "solution={'a': [0, 3, 0], 'slack': 4} probability=0.005 cost=-7.399999999999996\n",
      "solution={'a': [0, 3, 0], 'slack': 2} probability=0.004 cost=-7.399999999999996\n",
      "solution={'a': [3, 1, 1], 'slack': 0} probability=0.001 cost=-7.199999999999998\n",
      "solution={'a': [2, 1, 1], 'slack': 3} probability=0.005 cost=-7.1000000000000005\n",
      "solution={'a': [2, 1, 1], 'slack': 1} probability=0.003 cost=-7.1000000000000005\n",
      "solution={'a': [2, 2, 0], 'slack': 1} probability=0.004 cost=-7.099999999999999\n",
      "solution={'a': [2, 2, 0], 'slack': 3} probability=0.001 cost=-7.099999999999999\n",
      "solution={'a': [1, 1, 0], 'slack': 4} probability=0.006 cost=-6.999999999999999\n",
      "solution={'a': [1, 2, 2], 'slack': 1} probability=0.002 cost=-6.9\n",
      "solution={'a': [1, 3, 2], 'slack': 1} probability=0.004 cost=-6.499999999999999\n",
      "solution={'a': [1, 1, 1], 'slack': 3} probability=0.003 cost=-6.499999999999998\n",
      "solution={'a': [3, 0, 2], 'slack': 1} probability=0.002 cost=-6.499999999999997\n",
      "solution={'a': [3, 1, 3], 'slack': 0} probability=0.003 cost=-6.399999999999998\n",
      "solution={'a': [0, 2, 0], 'slack': 5} probability=0.005 cost=-6.3\n",
      "solution={'a': [0, 3, 1], 'slack': 3} probability=0.008 cost=-6.299999999999999\n",
      "solution={'a': [0, 3, 1], 'slack': 1} probability=0.001 cost=-6.299999999999999\n",
      "solution={'a': [2, 1, 0], 'slack': 4} probability=0.001 cost=-6.2\n",
      "solution={'a': [2, 1, 0], 'slack': 2} probability=0.001 cost=-6.2\n",
      "solution={'a': [2, 1, 2], 'slack': 0} probability=0.006 cost=-6.199999999999999\n",
      "solution={'a': [2, 1, 2], 'slack': 2} probability=0.003 cost=-6.199999999999999\n",
      "solution={'a': [3, 1, 0], 'slack': 2} probability=0.001 cost=-6.1999999999999975\n",
      "solution={'a': [2, 3, 0], 'slack': 2} probability=0.002 cost=-6.199999999999997\n",
      "solution={'a': [1, 1, 0], 'slack': 3} probability=0.005 cost=-5.699999999999999\n",
      "solution={'a': [1, 2, 2], 'slack': 0} probability=0.001 cost=-5.6000000000000005\n",
      "solution={'a': [2, 2, 3], 'slack': 0} probability=0.002 cost=-5.599999999999999\n",
      "solution={'a': [2, 0, 1], 'slack': 3} probability=0.007 cost=-5.3\n",
      "solution={'a': [1, 1, 1], 'slack': 4} probability=0.005 cost=-5.199999999999998\n",
      "solution={'a': [1, 1, 1], 'slack': 2} probability=0.001 cost=-5.199999999999998\n",
      "solution={'a': [3, 0, 1], 'slack': 3} probability=0.005 cost=-5.099999999999999\n",
      "solution={'a': [3, 0, 1], 'slack': 1} probability=0.003 cost=-5.099999999999999\n",
      "solution={'a': [3, 1, 0], 'slack': 3} probability=0.001 cost=-4.899999999999998\n",
      "solution={'a': [0, 2, 1], 'slack': 2} probability=0.002 cost=-4.799999999999999\n",
      "solution={'a': [0, 2, 1], 'slack': 4} probability=0.001 cost=-4.799999999999999\n",
      "solution={'a': [2, 0, 0], 'slack': 4} probability=0.001 cost=-4.799999999999999\n",
      "solution={'a': [3, 0, 3], 'slack': 0} probability=0.001 cost=-4.799999999999995\n",
      "solution={'a': [3, 2, 0], 'slack': 2} probability=0.003 cost=-4.7999999999999945\n",
      "solution={'a': [3, 2, 0], 'slack': 0} probability=0.001 cost=-4.7999999999999945\n",
      "solution={'a': [0, 1, 0], 'slack': 5} probability=0.003 cost=-4.699999999999999\n",
      "solution={'a': [0, 3, 2], 'slack': 1} probability=0.002 cost=-4.699999999999999\n",
      "solution={'a': [2, 2, 1], 'slack': 3} probability=0.001 cost=-4.500000000000001\n",
      "solution={'a': [3, 0, 0], 'slack': 3} probability=0.001 cost=-4.499999999999998\n",
      "solution={'a': [3, 3, 0], 'slack': 0} probability=0.001 cost=-4.199999999999996\n",
      "solution={'a': [1, 3, 1], 'slack': 3} probability=0.001 cost=-4.099999999999999\n",
      "solution={'a': [2, 0, 1], 'slack': 2} probability=0.003 cost=-4.0\n",
      "solution={'a': [2, 0, 1], 'slack': 4} probability=0.002 cost=-4.0\n",
      "solution={'a': [2, 0, 2], 'slack': 2} probability=0.003 cost=-3.999999999999999\n",
      "solution={'a': [1, 3, 0], 'slack': 0} probability=0.004 cost=-3.799999999999998\n",
      "solution={'a': [1, 2, 0], 'slack': 5} probability=0.002 cost=-3.6999999999999984\n",
      "solution={'a': [1, 2, 0], 'slack': 1} probability=0.002 cost=-3.6999999999999984\n",
      "solution={'a': [1, 2, 1], 'slack': 4} probability=0.006 cost=-3.6000000000000005\n",
      "solution={'a': [1, 2, 1], 'slack': 0} probability=0.005 cost=-3.6000000000000005\n",
      "solution={'a': [3, 2, 1], 'slack': 2} probability=0.007 cost=-3.5999999999999988\n",
      "solution={'a': [3, 2, 3], 'slack': 0} probability=0.001 cost=-3.599999999999995\n",
      "solution={'a': [2, 0, 0], 'slack': 3} probability=0.006 cost=-3.499999999999999\n",
      "solution={'a': [2, 1, 3], 'slack': 1} probability=0.001 cost=-3.4999999999999982\n",
      "solution={'a': [0, 3, 0], 'slack': 1} probability=0.006 cost=-3.4999999999999956\n",
      "solution={'a': [0, 3, 0], 'slack': 5} probability=0.004 cost=-3.4999999999999956\n",
      "solution={'a': [3, 0, 3], 'slack': 1} probability=0.001 cost=-3.4999999999999956\n",
      "solution={'a': [0, 1, 0], 'slack': 4} probability=0.006 cost=-3.3999999999999995\n",
      "solution={'a': [0, 1, 0], 'slack': 6} probability=0.001 cost=-3.3999999999999995\n",
      "solution={'a': [0, 3, 2], 'slack': 0} probability=0.001 cost=-3.3999999999999995\n",
      "solution={'a': [1, 0, 0], 'slack': 5} probability=0.003 cost=-3.2999999999999994\n",
      "solution={'a': [3, 1, 1], 'slack': 3} probability=0.006 cost=-3.299999999999998\n",
      "solution={'a': [2, 1, 1], 'slack': 0} probability=0.001 cost=-3.2\n",
      "solution={'a': [2, 1, 1], 'slack': 4} probability=0.001 cost=-3.2\n",
      "solution={'a': [1, 2, 3], 'slack': 0} probability=0.002 cost=-3.1999999999999993\n",
      "solution={'a': [2, 2, 0], 'slack': 0} probability=0.007 cost=-3.1999999999999984\n",
      "solution={'a': [3, 0, 0], 'slack': 2} probability=0.001 cost=-3.1999999999999984\n",
      "solution={'a': [3, 0, 0], 'slack': 4} probability=0.001 cost=-3.1999999999999984\n",
      "solution={'a': [2, 2, 0], 'slack': 4} probability=0.001 cost=-3.1999999999999984\n",
      "solution={'a': [1, 3, 3], 'slack': 0} probability=0.002 cost=-3.1999999999999966\n",
      "solution={'a': [1, 1, 2], 'slack': 3} probability=0.001 cost=-2.8999999999999995\n",
      "solution={'a': [1, 1, 2], 'slack': 1} probability=0.001 cost=-2.8999999999999995\n",
      "solution={'a': [3, 3, 0], 'slack': 1} probability=0.008 cost=-2.899999999999996\n",
      "solution={'a': [0, 2, 2], 'slack': 2} probability=0.007 cost=-2.799999999999999\n",
      "solution={'a': [2, 0, 2], 'slack': 1} probability=0.001 cost=-2.6999999999999993\n",
      "solution={'a': [2, 0, 2], 'slack': 3} probability=0.001 cost=-2.6999999999999993\n",
      "solution={'a': [3, 1, 3], 'slack': 1} probability=0.005 cost=-2.4999999999999973\n",
      "solution={'a': [0, 2, 0], 'slack': 2} probability=0.012 cost=-2.3999999999999995\n",
      "solution={'a': [0, 2, 0], 'slack': 6} probability=0.006 cost=-2.3999999999999995\n",
      "solution={'a': [0, 3, 1], 'slack': 4} probability=0.007 cost=-2.3999999999999986\n",
      "solution={'a': [0, 3, 1], 'slack': 0} probability=0.004 cost=-2.3999999999999986\n",
      "solution={'a': [2, 1, 0], 'slack': 1} probability=0.004 cost=-2.3\n",
      "solution={'a': [2, 1, 2], 'slack': 3} probability=0.001 cost=-2.299999999999999\n",
      "solution={'a': [2, 3, 0], 'slack': 3} probability=0.003 cost=-2.2999999999999963\n",
      "solution={'a': [3, 3, 1], 'slack': 1} probability=0.001 cost=-2.1000000000000005\n",
      "solution={'a': [1, 0, 0], 'slack': 4} probability=0.001 cost=-1.9999999999999993\n",
      "solution={'a': [1, 0, 0], 'slack': 6} probability=0.001 cost=-1.9999999999999993\n",
      "solution={'a': [2, 3, 3], 'slack': 0} probability=0.005 cost=-1.9999999999999991\n",
      "solution={'a': [1, 1, 0], 'slack': 6} probability=0.004 cost=-1.799999999999999\n",
      "solution={'a': [1, 2, 2], 'slack': 3} probability=0.002 cost=-1.7000000000000002\n",
      "solution={'a': [2, 2, 3], 'slack': 1} probability=0.003 cost=-1.6999999999999984\n",
      "solution={'a': [0, 1, 1], 'slack': 3} probability=0.004 cost=-1.4999999999999993\n",
      "solution={'a': [0, 1, 1], 'slack': 5} probability=0.002 cost=-1.4999999999999993\n",
      "solution={'a': [0, 2, 2], 'slack': 1} probability=0.002 cost=-1.499999999999999\n",
      "solution={'a': [1, 1, 1], 'slack': 1} probability=0.001 cost=-1.299999999999998\n",
      "solution={'a': [3, 0, 2], 'slack': 3} probability=0.002 cost=-1.2999999999999972\n",
      "solution={'a': [3, 0, 1], 'slack': 0} probability=0.004 cost=-1.1999999999999984\n",
      "solution={'a': [3, 0, 1], 'slack': 4} probability=0.002 cost=-1.1999999999999984\n",
      "solution={'a': [1, 0, 1], 'slack': 5} probability=0.001 cost=-1.0999999999999994\n",
      "solution={'a': [3, 1, 0], 'slack': 4} probability=0.007 cost=-0.9999999999999973\n",
      "solution={'a': [3, 1, 0], 'slack': 0} probability=0.002 cost=-0.9999999999999973\n",
      "solution={'a': [0, 2, 1], 'slack': 1} probability=0.001 cost=-0.8999999999999986\n",
      "solution={'a': [3, 2, 0], 'slack': 3} probability=0.004 cost=-0.8999999999999941\n",
      "solution={'a': [1, 1, 3], 'slack': 1} probability=0.001 cost=-0.09999999999999964\n",
      "solution={'a': [0, 3, 3], 'slack': 0} probability=0.002 cost=1.7763568394002505e-15\n",
      "solution={'a': [1, 0, 2], 'slack': 3} probability=0.001 cost=0.30000000000000027\n",
      "solution={'a': [2, 0, 0], 'slack': 6} probability=0.009 cost=0.40000000000000124\n",
      "solution={'a': [2, 0, 0], 'slack': 2} probability=0.001 cost=0.40000000000000124\n",
      "solution={'a': [2, 1, 3], 'slack': 2} probability=0.002 cost=0.40000000000000213\n",
      "solution={'a': [2, 0, 3], 'slack': 2} probability=0.003 cost=0.40000000000000235\n",
      "solution={'a': [2, 0, 3], 'slack': 0} probability=0.002 cost=0.40000000000000235\n",
      "solution={'a': [0, 1, 0], 'slack': 3} probability=0.003 cost=0.5000000000000009\n",
      "solution={'a': [0, 1, 0], 'slack': 7} probability=0.002 cost=0.5000000000000009\n",
      "solution={'a': [0, 3, 2], 'slack': 3} probability=0.001 cost=0.5000000000000009\n",
      "solution={'a': [3, 0, 0], 'slack': 1} probability=0.006 cost=0.700000000000002\n",
      "solution={'a': [1, 3, 3], 'slack': 1} probability=0.001 cost=0.7000000000000037\n",
      "solution={'a': [1, 1, 2], 'slack': 0} probability=0.003 cost=1.0000000000000009\n",
      "solution={'a': [1, 1, 2], 'slack': 4} probability=0.002 cost=1.0000000000000009\n",
      "solution={'a': [3, 3, 0], 'slack': 2} probability=0.001 cost=1.0000000000000044\n",
      "solution={'a': [1, 1, 3], 'slack': 0} probability=0.001 cost=1.2000000000000004\n",
      "solution={'a': [1, 1, 3], 'slack': 2} probability=0.001 cost=1.2000000000000004\n",
      "solution={'a': [2, 0, 2], 'slack': 0} probability=0.002 cost=1.200000000000001\n",
      "solution={'a': [0, 0, 0], 'slack': 5} probability=0.005 cost=1.3\n",
      "solution={'a': [0, 3, 3], 'slack': 1} probability=0.003 cost=1.3000000000000018\n",
      "solution={'a': [1, 0, 2], 'slack': 2} probability=0.006 cost=1.6000000000000003\n",
      "solution={'a': [1, 0, 0], 'slack': 3} probability=0.001 cost=1.9000000000000008\n",
      "solution={'a': [2, 2, 1], 'slack': 4} probability=0.001 cost=2.0\n",
      "solution={'a': [1, 2, 3], 'slack': 2} probability=0.006 cost=2.000000000000001\n",
      "solution={'a': [3, 2, 2], 'slack': 2} probability=0.008 cost=2.0000000000000018\n",
      "solution={'a': [0, 1, 2], 'slack': 4} probability=0.007 cost=2.2\n",
      "solution={'a': [0, 1, 2], 'slack': 2} probability=0.003 cost=2.2\n",
      "solution={'a': [0, 0, 1], 'slack': 5} probability=0.005 cost=2.3\n",
      "solution={'a': [0, 2, 2], 'slack': 0} probability=0.002 cost=2.4000000000000012\n",
      "solution={'a': [0, 2, 2], 'slack': 4} probability=0.002 cost=2.4000000000000012\n",
      "solution={'a': [2, 3, 1], 'slack': 3} probability=0.002 cost=2.5000000000000036\n",
      "solution={'a': [2, 3, 2], 'slack': 2} probability=0.003 cost=2.6000000000000014\n",
      "solution={'a': [3, 1, 2], 'slack': 3} probability=0.005 cost=2.700000000000003\n",
      "solution={'a': [1, 3, 0], 'slack': 5} probability=0.002 cost=2.700000000000003\n",
      "solution={'a': [1, 0, 1], 'slack': 2} probability=0.001 cost=2.8000000000000007\n",
      "solution={'a': [1, 2, 1], 'slack': 5} probability=0.002 cost=2.9000000000000004\n",
      "solution={'a': [3, 2, 3], 'slack': 1} probability=0.001 cost=2.9000000000000057\n",
      "solution={'a': [0, 3, 0], 'slack': 0} probability=0.006 cost=3.0000000000000053\n",
      "solution={'a': [0, 3, 0], 'slack': 6} probability=0.002 cost=3.0000000000000053\n",
      "solution={'a': [3, 3, 2], 'slack': 1} probability=0.002 cost=3.100000000000003\n",
      "solution={'a': [3, 1, 1], 'slack': 4} probability=0.006 cost=3.200000000000003\n",
      "solution={'a': [2, 2, 0], 'slack': 5} probability=0.001 cost=3.3000000000000025\n",
      "solution={'a': [0, 0, 1], 'slack': 6} probability=0.002 cost=3.5999999999999996\n",
      "solution={'a': [0, 2, 3], 'slack': 0} probability=0.002 cost=3.6000000000000005\n",
      "solution={'a': [3, 3, 3], 'slack': 0} probability=0.001 cost=3.600000000000003\n",
      "solution={'a': [1, 3, 2], 'slack': 3} probability=0.003 cost=3.900000000000002\n",
      "solution={'a': [0, 2, 0], 'slack': 1} probability=0.002 cost=4.100000000000001\n",
      "solution={'a': [0, 2, 0], 'slack': 7} probability=0.002 cost=4.100000000000001\n",
      "solution={'a': [0, 3, 1], 'slack': 5} probability=0.007 cost=4.100000000000002\n",
      "solution={'a': [2, 1, 2], 'slack': 4} probability=0.002 cost=4.200000000000002\n",
      "solution={'a': [2, 3, 0], 'slack': 4} probability=0.004 cost=4.200000000000005\n",
      "solution={'a': [2, 0, 3], 'slack': 3} probability=0.008 cost=4.3000000000000025\n",
      "solution={'a': [3, 3, 1], 'slack': 2} probability=0.002 cost=4.4\n",
      "solution={'a': [2, 3, 3], 'slack': 1} probability=0.003 cost=4.500000000000002\n",
      "solution={'a': [1, 1, 0], 'slack': 7} probability=0.001 cost=4.700000000000002\n",
      "solution={'a': [1, 2, 2], 'slack': 4} probability=0.005 cost=4.800000000000001\n",
      "solution={'a': [1, 0, 3], 'slack': 2} probability=0.001 cost=4.800000000000001\n",
      "solution={'a': [0, 0, 0], 'slack': 4} probability=0.001 cost=5.2\n",
      "solution={'a': [3, 0, 2], 'slack': 4} probability=0.002 cost=5.200000000000004\n",
      "solution={'a': [3, 0, 1], 'slack': 5} probability=0.002 cost=5.3000000000000025\n",
      "solution={'a': [1, 0, 2], 'slack': 1} probability=0.001 cost=5.5\n",
      "solution={'a': [3, 1, 0], 'slack': 5} probability=0.008 cost=5.5000000000000036\n",
      "solution={'a': [3, 2, 0], 'slack': 4} probability=0.009 cost=5.600000000000007\n",
      "solution={'a': [0, 1, 2], 'slack': 5} probability=0.002 cost=6.1000000000000005\n",
      "solution={'a': [0, 0, 2], 'slack': 4} probability=0.002 cost=6.4\n",
      "solution={'a': [2, 0, 1], 'slack': 6} probability=0.006 cost=6.400000000000001\n",
      "solution={'a': [2, 0, 0], 'slack': 1} probability=0.001 cost=6.900000000000002\n",
      "solution={'a': [3, 0, 3], 'slack': 3} probability=0.001 cost=6.900000000000006\n",
      "solution={'a': [3, 0, 0], 'slack': 0} probability=0.001 cost=7.200000000000003\n",
      "solution={'a': [1, 3, 3], 'slack': 2} probability=0.003 cost=7.200000000000005\n",
      "solution={'a': [0, 0, 1], 'slack': 3} probability=0.001 cost=7.5\n",
      "solution={'a': [0, 2, 3], 'slack': 3} probability=0.001 cost=7.500000000000001\n",
      "solution={'a': [1, 1, 2], 'slack': 5} probability=0.001 cost=7.500000000000002\n",
      "solution={'a': [0, 0, 2], 'slack': 5} probability=0.003 cost=7.7\n",
      "solution={'a': [2, 0, 2], 'slack': 5} probability=0.001 cost=7.700000000000002\n",
      "solution={'a': [1, 0, 1], 'slack': 7} probability=0.001 cost=9.3\n",
      "solution={'a': [1, 0, 3], 'slack': 0} probability=0.004 cost=10.0\n",
      "solution={'a': [3, 2, 2], 'slack': 3} probability=0.001 cost=11.100000000000001\n",
      "solution={'a': [1, 3, 1], 'slack': 5} probability=0.003 cost=11.500000000000002\n",
      "solution={'a': [0, 1, 3], 'slack': 4} probability=0.004 cost=11.600000000000001\n",
      "solution={'a': [0, 0, 2], 'slack': 2} probability=0.001 cost=11.600000000000001\n",
      "solution={'a': [0, 0, 2], 'slack': 6} probability=0.001 cost=11.600000000000001\n",
      "solution={'a': [1, 1, 3], 'slack': 4} probability=0.001 cost=11.600000000000001\n",
      "solution={'a': [2, 3, 1], 'slack': 4} probability=0.002 cost=11.600000000000003\n",
      "solution={'a': [0, 0, 0], 'slack': 3} probability=0.001 cost=11.700000000000001\n",
      "solution={'a': [3, 1, 2], 'slack': 4} probability=0.002 cost=11.800000000000002\n",
      "solution={'a': [1, 0, 2], 'slack': 0} probability=0.002 cost=12.000000000000002\n",
      "solution={'a': [3, 2, 3], 'slack': 2} probability=0.001 cost=12.000000000000005\n",
      "solution={'a': [0, 3, 0], 'slack': 7} probability=0.001 cost=12.100000000000005\n",
      "solution={'a': [0, 0, 3], 'slack': 3} probability=0.02 cost=12.3\n",
      "solution={'a': [3, 1, 1], 'slack': 5} probability=0.001 cost=12.300000000000002\n",
      "solution={'a': [2, 1, 1], 'slack': 6} probability=0.002 cost=12.4\n",
      "solution={'a': [0, 1, 2], 'slack': 0} probability=0.004 cost=12.600000000000001\n",
      "solution={'a': [0, 1, 2], 'slack': 6} probability=0.001 cost=12.600000000000001\n",
      "solution={'a': [1, 3, 2], 'slack': 4} probability=0.001 cost=13.000000000000002\n",
      "solution={'a': [3, 1, 3], 'slack': 3} probability=0.001 cost=13.100000000000003\n",
      "solution={'a': [0, 2, 0], 'slack': 0} probability=0.002 cost=13.200000000000001\n",
      "solution={'a': [2, 1, 2], 'slack': 5} probability=0.002 cost=13.3\n",
      "solution={'a': [2, 1, 0], 'slack': 7} probability=0.001 cost=13.3\n",
      "solution={'a': [3, 3, 1], 'slack': 3} probability=0.001 cost=13.5\n",
      "solution={'a': [0, 0, 3], 'slack': 2} probability=0.01 cost=13.600000000000001\n",
      "solution={'a': [2, 3, 3], 'slack': 2} probability=0.006 cost=13.600000000000001\n",
      "solution={'a': [0, 0, 3], 'slack': 4} probability=0.003 cost=13.600000000000001\n",
      "solution={'a': [1, 1, 0], 'slack': 0} probability=0.001 cost=13.8\n",
      "solution={'a': [1, 2, 2], 'slack': 5} probability=0.003 cost=13.9\n",
      "solution={'a': [2, 2, 3], 'slack': 3} probability=0.004 cost=13.900000000000002\n",
      "solution={'a': [0, 0, 1], 'slack': 2} probability=0.006 cost=14.0\n",
      "solution={'a': [0, 2, 3], 'slack': 4} probability=0.001 cost=14.000000000000002\n",
      "solution={'a': [1, 1, 1], 'slack': 7} probability=0.004 cost=14.300000000000002\n",
      "solution={'a': [3, 1, 0], 'slack': 6} probability=0.001 cost=14.600000000000003\n",
      "solution={'a': [0, 2, 1], 'slack': 7} probability=0.003 cost=14.700000000000003\n",
      "solution={'a': [2, 0, 1], 'slack': 7} probability=0.004 cost=15.5\n",
      "solution={'a': [2, 0, 0], 'slack': 0} probability=0.002 cost=16.0\n",
      "solution={'a': [2, 1, 3], 'slack': 4} probability=0.001 cost=16.000000000000004\n",
      "solution={'a': [3, 0, 3], 'slack': 4} probability=0.007 cost=16.000000000000007\n",
      "solution={'a': [0, 3, 2], 'slack': 5} probability=0.004 cost=16.1\n",
      "solution={'a': [3, 0, 0], 'slack': 7} probability=0.003 cost=16.300000000000004\n",
      "solution={'a': [1, 0, 3], 'slack': 5} probability=0.001 cost=16.5\n",
      "solution={'a': [1, 1, 2], 'slack': 6} probability=0.008 cost=16.6\n",
      "solution={'a': [3, 3, 0], 'slack': 4} probability=0.001 cost=16.600000000000005\n",
      "solution={'a': [2, 0, 2], 'slack': 6} probability=0.004 cost=16.8\n",
      "solution={'a': [1, 0, 0], 'slack': 1} probability=0.004 cost=17.5\n",
      "solution={'a': [0, 0, 3], 'slack': 5} probability=0.004 cost=17.5\n",
      "solution={'a': [0, 0, 3], 'slack': 1} probability=0.003 cost=17.5\n",
      "solution={'a': [0, 1, 1], 'slack': 0} probability=0.006 cost=18.0\n",
      "solution={'a': [0, 2, 2], 'slack': 6} probability=0.003 cost=18.0\n",
      "solution={'a': [0, 0, 2], 'slack': 1} probability=0.008 cost=18.1\n",
      "solution={'a': [0, 1, 3], 'slack': 5} probability=0.001 cost=18.1\n",
      "solution={'a': [2, 0, 3], 'slack': 5} probability=0.001 cost=19.900000000000002\n",
      "solution={'a': [0, 3, 3], 'slack': 4} probability=0.005 cost=20.800000000000004\n",
      "solution={'a': [1, 0, 2], 'slack': 7} probability=0.002 cost=21.1\n",
      "solution={'a': [0, 1, 2], 'slack': 7} probability=0.001 cost=21.700000000000003\n",
      "solution={'a': [2, 2, 1], 'slack': 6} probability=0.007 cost=22.799999999999997\n",
      "solution={'a': [0, 2, 3], 'slack': 5} probability=0.001 cost=23.1\n",
      "solution={'a': [1, 3, 1], 'slack': 6} probability=0.001 cost=23.200000000000003\n",
      "solution={'a': [2, 3, 2], 'slack': 4} probability=0.001 cost=23.4\n",
      "solution={'a': [1, 3, 0], 'slack': 7} probability=0.005 cost=23.5\n",
      "solution={'a': [1, 2, 1], 'slack': 7} probability=0.006 cost=23.7\n",
      "solution={'a': [3, 2, 3], 'slack': 3} probability=0.001 cost=23.700000000000003\n",
      "solution={'a': [3, 2, 1], 'slack': 5} probability=0.001 cost=23.700000000000003\n",
      "solution={'a': [3, 3, 2], 'slack': 3} probability=0.01 cost=23.900000000000002\n",
      "solution={'a': [0, 0, 3], 'slack': 6} probability=0.003 cost=24.0\n",
      "solution={'a': [2, 2, 0], 'slack': 7} probability=0.004 cost=24.1\n",
      "solution={'a': [2, 1, 1], 'slack': 7} probability=0.002 cost=24.1\n",
      "solution={'a': [1, 3, 2], 'slack': 5} probability=0.001 cost=24.700000000000003\n",
      "solution={'a': [3, 3, 1], 'slack': 4} probability=0.011 cost=25.2\n",
      "solution={'a': [2, 3, 3], 'slack': 3} probability=0.007 cost=25.3\n",
      "solution={'a': [1, 0, 3], 'slack': 6} probability=0.003 cost=25.6\n",
      "solution={'a': [1, 2, 2], 'slack': 6} probability=0.002 cost=25.6\n",
      "solution={'a': [2, 2, 3], 'slack': 4} probability=0.001 cost=25.6\n",
      "solution={'a': [3, 0, 2], 'slack': 6} probability=0.002 cost=26.000000000000004\n",
      "solution={'a': [3, 0, 1], 'slack': 7} probability=0.001 cost=26.1\n",
      "solution={'a': [3, 2, 0], 'slack': 6} probability=0.004 cost=26.400000000000006\n",
      "solution={'a': [0, 1, 3], 'slack': 6} probability=0.012 cost=27.200000000000003\n",
      "solution={'a': [0, 0, 2], 'slack': 0} probability=0.001 cost=27.200000000000003\n",
      "solution={'a': [0, 3, 2], 'slack': 6} probability=0.01 cost=27.8\n",
      "solution={'a': [0, 1, 0], 'slack': 0} probability=0.004 cost=27.8\n",
      "solution={'a': [1, 1, 2], 'slack': 7} probability=0.001 cost=28.3\n",
      "solution={'a': [1, 0, 0], 'slack': 0} probability=0.002 cost=29.2\n",
      "solution={'a': [1, 2, 3], 'slack': 5} probability=0.003 cost=29.3\n",
      "solution={'a': [0, 2, 2], 'slack': 7} probability=0.001 cost=29.700000000000003\n",
      "solution={'a': [2, 0, 3], 'slack': 6} probability=0.007 cost=31.6\n",
      "solution={'a': [1, 1, 3], 'slack': 6} probability=0.001 cost=32.4\n",
      "solution={'a': [0, 0, 0], 'slack': 1} probability=0.003 cost=32.5\n",
      "solution={'a': [0, 3, 3], 'slack': 5} probability=0.001 cost=32.5\n",
      "solution={'a': [0, 0, 3], 'slack': 7} probability=0.006 cost=33.1\n",
      "solution={'a': [0, 0, 1], 'slack': 0} probability=0.001 cost=34.8\n",
      "solution={'a': [2, 2, 1], 'slack': 7} probability=0.002 cost=37.1\n",
      "solution={'a': [3, 2, 2], 'slack': 5} probability=0.004 cost=37.10000000000001\n",
      "solution={'a': [1, 3, 1], 'slack': 7} probability=0.001 cost=37.50000000000001\n",
      "solution={'a': [2, 2, 2], 'slack': 6} probability=0.004 cost=37.60000000000001\n",
      "solution={'a': [2, 3, 1], 'slack': 6} probability=0.001 cost=37.60000000000001\n",
      "solution={'a': [3, 2, 1], 'slack': 6} probability=0.002 cost=38.00000000000001\n",
      "solution={'a': [3, 1, 1], 'slack': 7} probability=0.004 cost=38.300000000000004\n",
      "solution={'a': [3, 1, 3], 'slack': 5} probability=0.004 cost=39.10000000000001\n",
      "solution={'a': [2, 1, 2], 'slack': 7} probability=0.002 cost=39.300000000000004\n",
      "solution={'a': [2, 3, 0], 'slack': 7} probability=0.001 cost=39.30000000000001\n",
      "solution={'a': [3, 3, 1], 'slack': 5} probability=0.001 cost=39.5\n",
      "solution={'a': [1, 2, 2], 'slack': 7} probability=0.001 cost=39.900000000000006\n",
      "solution={'a': [2, 2, 3], 'slack': 5} probability=0.001 cost=39.900000000000006\n",
      "solution={'a': [3, 2, 0], 'slack': 7} probability=0.001 cost=40.70000000000001\n",
      "solution={'a': [3, 0, 3], 'slack': 6} probability=0.01 cost=42.00000000000001\n",
      "solution={'a': [2, 1, 3], 'slack': 6} probability=0.004 cost=42.00000000000001\n",
      "solution={'a': [0, 3, 2], 'slack': 7} probability=0.001 cost=42.10000000000001\n",
      "solution={'a': [1, 3, 3], 'slack': 5} probability=0.001 cost=42.30000000000001\n",
      "solution={'a': [3, 3, 0], 'slack': 6} probability=0.003 cost=42.60000000000001\n",
      "solution={'a': [2, 0, 3], 'slack': 7} probability=0.004 cost=45.900000000000006\n",
      "solution={'a': [0, 0, 0], 'slack': 0} probability=0.001 cost=46.800000000000004\n",
      "solution={'a': [0, 2, 3], 'slack': 7} probability=0.004 cost=49.10000000000001\n",
      "solution={'a': [3, 2, 2], 'slack': 6} probability=0.003 cost=54.0\n",
      "solution={'a': [2, 2, 2], 'slack': 7} probability=0.002 cost=54.50000000000001\n",
      "solution={'a': [2, 3, 2], 'slack': 6} probability=0.002 cost=54.6\n",
      "solution={'a': [3, 2, 3], 'slack': 5} probability=0.001 cost=54.900000000000006\n",
      "solution={'a': [3, 2, 1], 'slack': 7} probability=0.001 cost=54.900000000000006\n",
      "solution={'a': [1, 3, 2], 'slack': 7} probability=0.002 cost=55.900000000000006\n",
      "solution={'a': [3, 3, 1], 'slack': 6} probability=0.001 cost=56.400000000000006\n",
      "solution={'a': [2, 3, 3], 'slack': 5} probability=0.001 cost=56.5\n",
      "solution={'a': [2, 2, 3], 'slack': 6} probability=0.001 cost=56.800000000000004\n",
      "solution={'a': [2, 1, 3], 'slack': 7} probability=0.002 cost=58.900000000000006\n",
      "solution={'a': [1, 3, 3], 'slack': 6} probability=0.006 cost=59.2\n",
      "solution={'a': [3, 3, 0], 'slack': 7} probability=0.001 cost=59.50000000000001\n",
      "solution={'a': [0, 3, 3], 'slack': 7} probability=0.002 cost=63.7\n",
      "solution={'a': [3, 2, 2], 'slack': 7} probability=0.001 cost=73.5\n",
      "solution={'a': [2, 3, 2], 'slack': 7} probability=0.003 cost=74.10000000000001\n",
      "solution={'a': [3, 2, 3], 'slack': 6} probability=0.001 cost=74.4\n",
      "solution={'a': [3, 3, 1], 'slack': 7} probability=0.002 cost=75.9\n",
      "solution={'a': [2, 3, 3], 'slack': 6} probability=0.002 cost=76.0\n",
      "solution={'a': [3, 2, 3], 'slack': 7} probability=0.001 cost=96.5\n",
      "solution={'a': [3, 3, 3], 'slack': 6} probability=0.001 cost=97.2\n",
      "solution={'a': [2, 3, 3], 'slack': 7} probability=0.003 cost=98.1\n",
      "solution={'a': [3, 3, 3], 'slack': 7} probability=0.002 cost=121.9\n"
     ]
    }
   ],
   "source": [
    "res = es.sample({\"params\": optimization_res.x.tolist()})\n",
    "\n",
    "print(f\"Optimized parameters: {optimization_res.x.tolist()}\")\n",
    "\n",
    "sorted_counts = sorted(\n",
    "    res.parsed_counts,\n",
    "    key=lambda pc: objective_portfolio_inequality(\n",
    "        pc.state[\"w_array\"],\n",
    "        returns=returns,\n",
    "        covariances=covariances,\n",
    "        return_coeff=return_coeff,\n",
    "    ),\n",
    ")\n",
    "\n",
    "for sampled in sorted_counts:\n",
    "    w_sample = sampled.state[\"w_array\"]\n",
    "    print(\n",
    "        f\"solution={w_sample} probability={sampled.shots/NUM_SHOTS} \"\n",
    "        f\"cost={objective_portfolio_inequality(w_array=w_sample,returns = returns, covariances = covariances, return_coeff= return_coeff)}\"\n",
    "    )"
   ]
  },
  {
   "cell_type": "markdown",
   "id": "8fccb093-9791-43d9-bf23-eeb3a390b75a",
   "metadata": {
    "id": "8fccb093-9791-43d9-bf23-eeb3a390b75a"
   },
   "source": [
    "## Convergence graph"
   ]
  },
  {
   "cell_type": "code",
   "execution_count": 15,
   "id": "33b4b3b5-fe83-4c96-9404-66d64063082a",
   "metadata": {
    "id": "33b4b3b5-fe83-4c96-9404-66d64063082a",
    "ExecuteTime": {
     "end_time": "2025-06-18T15:52:44.569149Z",
     "start_time": "2025-06-18T15:52:44.253771Z"
    }
   },
   "outputs": [
    {
     "data": {
      "text/plain": "Text(0.5, 1.0, 'Optimization Progress')"
     },
     "execution_count": 15,
     "metadata": {},
     "output_type": "execute_result"
    },
    {
     "data": {
      "text/plain": "<Figure size 640x480 with 1 Axes>",
      "image/png": "[encoded data removed]"
     },
     "metadata": {},
     "output_type": "display_data"
    }
   ],
   "source": [
    "plt.plot(objective_values)\n",
    "plt.xlabel(\"Iteration\")\n",
    "plt.ylabel(\"Objective Value\")\n",
    "plt.title(\"Optimization Progress\")"
   ]
  },
  {
   "cell_type": "markdown",
   "id": "12177a69-5698-403f-8daf-3159ba656b8b",
   "metadata": {
    "id": "12177a69-5698-403f-8daf-3159ba656b8b"
   },
   "source": [
    "# Solution"
   ]
  },
  {
   "cell_type": "code",
   "execution_count": null,
   "id": "72de469d-debc-45d4-a5c6-1946373673c0",
   "metadata": {
    "colab": {
     "base_uri": "https://localhost:8080/",
     "height": 1000
    },
    "id": "72de469d-debc-45d4-a5c6-1946373673c0",
    "outputId": "ef57bffa-a5d3-4adf-eafc-4c549d2a928b"
   },
   "outputs": [],
   "source": [
    "import math\n",
    "from typing import List\n",
    "\n",
    "import matplotlib.pyplot as plt\n",
    "import networkx as nx\n",
    "import numpy as np\n",
    "from scipy.optimize import minimize\n",
    "\n",
    "from classiq import *\n",
    "\n",
    "NUM_LAYERS = 3\n",
    "\n",
    "num_slack = 3\n",
    "\n",
    "returns = np.array([3, 4, -1])\n",
    "# fmt: off\n",
    "covariances = np.array(\n",
    "    [\n",
    "        [ 0.9,  0.5, -0.7],\n",
    "        [ 0.5,  0.9, -0.2],\n",
    "        [-0.7, -0.2,  0.9],\n",
    "    ]\n",
    ")\n",
    "# fmt: on\n",
    "total_budget = 6\n",
    "specific_budgets = 3\n",
    "\n",
    "return_coeff = 10.0\n",
    "\n",
    "num_assets = 3\n",
    "\n",
    "num_qubits_per_asset = 2\n",
    "\n",
    "Penalty = 30.5\n",
    "\n",
    "# start with integer variables\n",
    "\n",
    "\n",
    "class PortfolioOptimizationVars(QStruct):\n",
    "    a: QArray[QNum[num_qubits_per_asset], num_assets]\n",
    "    slack: QNum[num_slack]\n",
    "\n",
    "\n",
    "def expected_return_cost(\n",
    "    returns: np.ndarray, w_array: PortfolioOptimizationVars\n",
    ") -> float:\n",
    "    return sum(returns[i] * w_array.a[i] for i in range(len(returns)))\n",
    "\n",
    "\n",
    "def risk_cost(covariances: np.ndarray, w_array: PortfolioOptimizationVars) -> float:\n",
    "    risk_term = sum(\n",
    "        w_array.a[i]\n",
    "        * sum(w_array.a[j] * covariances[i][j] for j in range(covariances.shape[0]))\n",
    "        for i in range(covariances.shape[0])\n",
    "    )\n",
    "    return risk_term\n",
    "\n",
    "\n",
    "def objective_portfolio_inequality(\n",
    "    w_array: PortfolioOptimizationVars,\n",
    "    returns: np.ndarray,\n",
    "    covariances: np.ndarray,\n",
    "    return_coeff: float,\n",
    ") -> float:\n",
    "    return (\n",
    "        risk_cost(covariances, w_array)\n",
    "        - return_coeff * expected_return_cost(returns, w_array)\n",
    "        + Penalty\n",
    "        * (\n",
    "            sum(w_array.a[i] for i in range(len(returns)))\n",
    "            + w_array.slack\n",
    "            - total_budget\n",
    "        )\n",
    "        ** 2\n",
    "    )\n",
    "\n",
    "\n",
    "@qfunc\n",
    "def mixer_layer(beta: CReal, qba: QArray):\n",
    "    apply_to_all(lambda q: RX(beta, q), qba)\n",
    "\n",
    "\n",
    "@qfunc\n",
    "def main(\n",
    "    params: CArray[CReal, 2 * NUM_LAYERS], w_array: Output[PortfolioOptimizationVars]\n",
    ") -> None:\n",
    "    allocate(w_array)\n",
    "\n",
    "    hadamard_transform(w_array)\n",
    "\n",
    "    repeat(\n",
    "        count=params.len / 2,\n",
    "        iteration=lambda i: (\n",
    "            phase(\n",
    "                objective_portfolio_inequality(\n",
    "                    w_array, returns, covariances, return_coeff\n",
    "                ),\n",
    "                params[2 * i],\n",
    "            ),\n",
    "            mixer_layer(params[2 * i + 1], w_array),\n",
    "        ),\n",
    "    )\n",
    "\n",
    "\n",
    "qprog = synthesize(main)\n",
    "show(qprog)\n",
    "\n",
    "\n",
    "NUM_SHOTS = 1000\n",
    "\n",
    "es = ExecutionSession(\n",
    "    qprog, execution_preferences=ExecutionPreferences(num_shots=NUM_SHOTS)\n",
    ")\n",
    "\n",
    "\n",
    "def initial_qaoa_params(NUM_LAYERS) -> np.ndarray:\n",
    "    initial_gammas = math.pi * np.linspace(0, 1, NUM_LAYERS)\n",
    "    initial_betas = math.pi * np.linspace(1, 0, NUM_LAYERS)\n",
    "\n",
    "    initial_params = []\n",
    "\n",
    "    for i in range(NUM_LAYERS):\n",
    "        initial_params.append(initial_gammas[i])\n",
    "        initial_params.append(initial_betas[i])\n",
    "\n",
    "    return np.array(initial_params)\n",
    "\n",
    "\n",
    "initial_params = initial_qaoa_params(NUM_LAYERS)\n",
    "\n",
    "# Record the steps of the optimization\n",
    "intermediate_params = []\n",
    "objective_values = []\n",
    "\n",
    "\n",
    "# Define the callback function to store the intermediate steps\n",
    "def callback(xk):\n",
    "    intermediate_params.append(xk)\n",
    "\n",
    "\n",
    "cost_func = lambda state: objective_portfolio_inequality(\n",
    "    w_array=state[\"w_array\"],\n",
    "    returns=returns,\n",
    "    covariances=covariances,\n",
    "    return_coeff=return_coeff,\n",
    ")\n",
    "\n",
    "\n",
    "def estimate_cost_func(params: np.ndarray) -> float:\n",
    "    objective_value = es.estimate_cost(\n",
    "        cost_func=cost_func, parameters={\"params\": params.tolist()}\n",
    "    )\n",
    "    objective_values.append(objective_value)\n",
    "    return objective_value\n",
    "\n",
    "\n",
    "optimization_res = minimize(\n",
    "    estimate_cost_func,\n",
    "    x0=initial_params,\n",
    "    method=\"COBYLA\",\n",
    "    callback=callback,\n",
    "    options={\"maxiter\": 20},\n",
    ")\n",
    "\n",
    "res = es.sample({\"params\": optimization_res.x.tolist()})\n",
    "\n",
    "print(f\"Optimized parameters: {optimization_res.x.tolist()}\")\n",
    "\n",
    "sorted_counts = sorted(\n",
    "    res.parsed_counts,\n",
    "    key=lambda pc: objective_portfolio_inequality(\n",
    "        pc.state[\"w_array\"],\n",
    "        returns=returns,\n",
    "        covariances=covariances,\n",
    "        return_coeff=return_coeff,\n",
    "    ),\n",
    ")\n",
    "\n",
    "for sampled in sorted_counts:\n",
    "    w = sampled.state[\"w_array\"]\n",
    "    print(\n",
    "        f\"solution={w} probability={sampled.shots/NUM_SHOTS} \"\n",
    "        f\"cost={objective_portfolio_inequality(w_array=w,returns = returns, covariances = covariances, return_coeff= return_coeff)}\"\n",
    "    )\n",
    "\n",
    "plt.plot(objective_values)\n",
    "plt.xlabel(\"Iteration\")\n",
    "plt.ylabel(\"Objective Value\")\n",
    "plt.title(\"Optimization Progress\")"
   ]
  }
 ],
 "metadata": {
  "colab": {
   "provenance": []
  },
  "kernelspec": {
   "display_name": "Python 3 (ipykernel)",
   "language": "python",
   "name": "python3"
  },
  "language_info": {
   "codemirror_mode": {
    "name": "ipython",
    "version": 3
   },
   "file_extension": ".py",
   "mimetype": "text/x-python",
   "name": "python",
   "nbconvert_exporter": "python",
   "pygments_lexer": "ipython3",
   "version": "3.11.4"
  },
  "vscode": {
   "interpreter": {
    "hash": "a07aacdcc8a415e7643a2bc993226848ff70704ebef014f87460de9126b773d0"
   }
  }
 },
 "nbformat": 4,
 "nbformat_minor": 5
}
