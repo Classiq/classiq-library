{
 "cells": [
  {
   "cell_type": "markdown",
   "id": "6a264eba-42cc-4800-8369-24b0891d167d",
   "metadata": {
    "id": "6a264eba-42cc-4800-8369-24b0891d167d"
   },
   "source": [
    "# Quantum Optimization Training - part 3\n",
    "## Dealing with constraint using portfolio optimization"
   ]
  },
  {
   "cell_type": "markdown",
   "id": "91cd8b6b-2a74-44e4-be44-2315afe58306",
   "metadata": {},
   "source": [
    "#### Guidance for the workshop:\n",
    "**The `# TODO` `# Your code` is there for you to do yourself.**\n",
    "**The `# Solution start` and `# Solution end` are only for helping you. Please delete the `Solution` and try doing it yourself...**"
   ]
  },
  {
   "cell_type": "markdown",
   "id": "0c1662b0-2cb2-44f8-9c3b-452cf8e5b2cb",
   "metadata": {
    "id": "0c1662b0-2cb2-44f8-9c3b-452cf8e5b2cb"
   },
   "source": [
    "## Portfolio Optimization with the Quantum Approximate Optimization Algorithm (QAOA)\n",
    "\n",
    "### Introduction\n",
    "\n",
    "Portfolio optimization is the process of allocating a portfolio of financial assets optimally, according to some predetermined goal. Usually, the goal is to maximize the potential return while minimizing the financial risk of the portfolio. One can express this problem as a combinatorial optimization problem like many other real-world problems. In this demo, we'll show how the Quantum Approximate Optimization Algorithm (QAOA) can be employed on the Classiq platform to solve the problem of portfolio optimization.\n",
    "\n",
    "### Modeling the Portfolio Optimization Problem\n",
    "\n",
    "As a first step, we have to model the problem mathematically. We will use a simple yet powerful model, which captures the essence of portfolio optimization:\n",
    "\n",
    "- A portfolio is built from a pool of $n$ financial assets, each asset labeled $i \\in \\{1,\\ldots,n\\}$.\n",
    "- Every asset's return is a random variable, with expected value $\\mu_i$ and variance $\\Sigma_i$ (modeling the financial risk involved in the asset).\n",
    "- Every two assets $i \\neq j$ have covariance $\\Sigma_{ij}$ (modeling market correlation between assets).\n",
    "- Every asset $i$ has a weight $w_i \\in D_i = \\{0,\\ldots,b_i\\}$ in the portfolio, with $b_i$ defined as the budget for asset $i$ (modeling the maximum allowed weight of the asset).\n",
    "- The return vector $\\mu$, the covariance matrix $\\Sigma$ and the weight vector $w$ are defined naturally from the above (with the domain $D = D_1 \\times D_2 \\times \\ldots \\times D_n$ for $w$).\n",
    "\n",
    "With the above definitions, the total expected return of the portfolio is $\\mu^T w$ and the total risk is $w^T \\Sigma w$. We'll use a simple difference of the two as our cost function, with the additional constraint that the total sum of assets does not exceed a predefined budget $B$. We note that there are many other possibilities for defining a cost function (e.g. add a scaling factor to the risk/return or even some non-linear relation). For reasons of simplicity we select the model below, and we assume all constants and variables are dimensionless.\n",
    "Thus, the problem is, given the constant inputs $\\mu, \\Sigma, D, B$, to find optimal variable $w$ as follows:\n",
    "\n",
    "$$\\begin{equation*}\n",
    "\\min_{w \\in D}  w^T \\Sigma w - \\mu^T w,\n",
    "\\end{equation*}$$\n",
    "subject to $$\\Sigma_{i} w_i \\leq B$$\n",
    "\n",
    "The case presented above is called integer portfolio optimization, since the domains $D_i$ are over the (positive) integers.\n",
    "Another variation of this problem defines weights over binary domains, and will not be discussed here."
   ]
  },
  {
   "cell_type": "code",
   "execution_count": 1,
   "id": "952d49b3-5dc6-41a1-8822-0622df536cf7",
   "metadata": {
    "ExecuteTime": {
     "end_time": "2025-02-09T15:48:13.616761Z",
     "start_time": "2025-02-09T15:48:11.065175Z"
    },
    "id": "952d49b3-5dc6-41a1-8822-0622df536cf7",
    "tags": []
   },
   "outputs": [],
   "source": [
    "from typing import List\n",
    "\n",
    "import networkx as nx\n",
    "from classiq import *\n",
    "import math\n",
    "import matplotlib.pyplot as plt\n",
    "import numpy as np\n",
    "from scipy.optimize import minimize\n",
    "from classiq.execution import ExecutionSession, ExecutionPreferences"
   ]
  },
  {
   "cell_type": "markdown",
   "id": "7e5b8849-6460-4ab1-b661-f650ff6f8dbf",
   "metadata": {
    "id": "7e5b8849-6460-4ab1-b661-f650ff6f8dbf"
   },
   "source": [
    "#### Finaly, we will add inequality constraints:\n",
    "\n",
    "$$\\begin{equation*}\n",
    "\\min_{w \\in D}  w^T \\Sigma w - \\mu^T w,\n",
    "\\end{equation*}$$\n",
    "subject to:\n",
    "$$\\Sigma_{i} w_i \\leq B$$\n",
    "\n",
    "**We will do it similarly to the equality constraint but we add slack variable that can take multiple values to make sure $\\Sigma_{i} w_i \\leq B$**\n",
    "\n",
    "In this case, we will change the objective function as follows:\n",
    "\n",
    "$$\\begin{equation*}\n",
    "\\min_{w \\in D}  w^T \\Sigma w - \\mu^T w + P * (\\Sigma_{i} w_i + slack - B)^2\n",
    "\\end{equation*}$$\n",
    "\n",
    "Where $P$ is the penalty value you need to define."
   ]
  },
  {
   "cell_type": "markdown",
   "id": "e8e9ec0e",
   "metadata": {
    "id": "e8e9ec0e"
   },
   "source": [
    "# The Portfolio Optimization Problem Parameters\n",
    "\n",
    "First we define the parameters of the optimization problem, which include the expected return vector, the covariance matrix, the total budget and the asset-specific budgets."
   ]
  },
  {
   "cell_type": "code",
   "execution_count": 2,
   "id": "6212e51c",
   "metadata": {
    "ExecuteTime": {
     "end_time": "2025-02-09T15:48:17.874486Z",
     "start_time": "2025-02-09T15:48:17.866201Z"
    },
    "id": "6212e51c",
    "pycharm": {
     "name": "#%%\n"
    },
    "tags": []
   },
   "outputs": [],
   "source": [
    "returns = np.array([3, 4, -1])\n",
    "# fmt: off\n",
    "covariances = np.array(\n",
    "    [\n",
    "        [ 0.9,  0.5, -0.7],\n",
    "        [ 0.5,  0.9, -0.2],\n",
    "        [-0.7, -0.2,  0.9],\n",
    "    ]\n",
    ")\n",
    "# fmt: on\n",
    "total_budget = 6"
   ]
  },
  {
   "cell_type": "markdown",
   "id": "26b76418-b96a-4076-8c39-cd32bb38e238",
   "metadata": {
    "id": "26b76418-b96a-4076-8c39-cd32bb38e238"
   },
   "source": [
    "## Defining the variables\n",
    "\n",
    "The number of slack qubits needs to reach to get to the number $B$."
   ]
  },
  {
   "cell_type": "code",
   "execution_count": 3,
   "id": "38ba3dd2-c843-45fb-8ad2-c89882bb292c",
   "metadata": {
    "ExecuteTime": {
     "end_time": "2025-02-09T15:48:37.399915Z",
     "start_time": "2025-02-09T15:48:37.387849Z"
    },
    "id": "38ba3dd2-c843-45fb-8ad2-c89882bb292c"
   },
   "outputs": [],
   "source": [
    "num_assets = 3\n",
    "\n",
    "num_qubits_per_asset = 2 # Defines the possible values of choosing each asset.\n",
    "\n",
    "num_slack = 3\n",
    "\n",
    "class PortfolioOptimizationVars(QStruct):\n",
    "    a: QArray[QNum[num_qubits_per_asset], num_assets]\n",
    "    slack: QNum[num_slack]"
   ]
  },
  {
   "cell_type": "markdown",
   "id": "4324f835-ca83-40dc-83f8-6f99407cd211",
   "metadata": {
    "id": "4324f835-ca83-40dc-83f8-6f99407cd211"
   },
   "source": [
    "### Define the expected return\n",
    "Define a function that describes $\\mu^T w$ where $\\mu$ is the `return` vector."
   ]
  },
  {
   "cell_type": "code",
   "execution_count": 4,
   "id": "3b14c4f2-5031-454a-9638-15ea9fd252dd",
   "metadata": {
    "ExecuteTime": {
     "end_time": "2025-02-09T15:48:40.198464Z",
     "start_time": "2025-02-09T15:48:40.191692Z"
    },
    "id": "3b14c4f2-5031-454a-9638-15ea9fd252dd"
   },
   "outputs": [],
   "source": [
    "def expected_return_cost(returns: np.ndarray, w_array: PortfolioOptimizationVars) -> float:\n",
    "    return sum([w_array.a[i]*returns[i] for i in range(len(returns))])"
   ]
  },
  {
   "cell_type": "markdown",
   "id": "4adb51f3-0623-4a62-9c9f-b7d514abc00d",
   "metadata": {
    "id": "4adb51f3-0623-4a62-9c9f-b7d514abc00d"
   },
   "source": [
    "### Define the risk term\n",
    "Define a function that describes the risk term in the objective function $w^T \\Sigma w$ where $\\Sigma$ is the `covariances` matrix.\n",
    "\n",
    "$$\\begin{equation*}\n",
    "\\min_{w \\in D}  w^T \\Sigma w - \\mu^T w + P * (\\Sigma_{i} w_i + slack - B)^2\n",
    "\\end{equation*}$$"
   ]
  },
  {
   "cell_type": "code",
   "execution_count": 5,
   "id": "ddd211dd-57da-45d9-bc31-273670731eb7",
   "metadata": {
    "ExecuteTime": {
     "end_time": "2025-02-09T15:48:47.390625Z",
     "start_time": "2025-02-09T15:48:47.380404Z"
    },
    "id": "ddd211dd-57da-45d9-bc31-273670731eb7"
   },
   "outputs": [],
   "source": [
    "def risk_cost(covariances: np.ndarray, w_array: PortfolioOptimizationVars) -> float:\n",
    "    risk_term =  sum(\n",
    "        w_array.a[i] * sum(w_array.a[j] * covariances[i][j] for j in range(covariances.shape[0])) for i in range(covariances.shape[0])\n",
    "    )\n",
    "    return risk_term"
   ]
  },
  {
   "cell_type": "markdown",
   "id": "1ad5238e-1441-4272-a96d-acc26ae57778",
   "metadata": {
    "id": "1ad5238e-1441-4272-a96d-acc26ae57778"
   },
   "source": [
    "### Define the entire portfolio optimization objective function\n",
    "\n",
    "Combine the risk term and the expected return functions.\n",
    "There a a term called return coefficient `return_coeff` that defines how much you prefer certainly over return. Higher values is more risky but can be more profitable.\n",
    "\n",
    "Later try changing it to see how the result changes."
   ]
  },
  {
   "cell_type": "code",
   "execution_count": null,
   "id": "d6bd7c68-5308-4839-a93d-36d4417422c7",
   "metadata": {
    "id": "d6bd7c68-5308-4839-a93d-36d4417422c7"
   },
   "outputs": [],
   "source": [
    "return_coeff = 1.4\n",
    "\n",
    "def objective_portfolio_inequality(\n",
    "    w_array: PortfolioOptimizationVars,\n",
    "    returns: np.ndarray, covariances: np.ndarray,\n",
    "    return_coeff: float) -> float:\n",
    "    # Your code\n",
    "\n",
    "    # Solution start\n",
    "    return risk_cost(covariances, w_array) - \\\n",
    "        return_coeff * expected_return_cost(returns, w_array) + \\\n",
    "        Penalty * (sum(w_array.a[i] for i in range(len(returns))) + w_array.slack - total_budget)**2\n",
    "    # Solution end"
   ]
  },
  {
   "cell_type": "markdown",
   "id": "330a4a66-2131-4d31-91c1-3e50e61939bb",
   "metadata": {
    "id": "330a4a66-2131-4d31-91c1-3e50e61939bb"
   },
   "source": [
    "# Build the QAOA circuit"
   ]
  },
  {
   "cell_type": "code",
   "execution_count": null,
   "id": "adf3d831-98b0-4368-b9e7-f09666963fe6",
   "metadata": {
    "id": "adf3d831-98b0-4368-b9e7-f09666963fe6"
   },
   "outputs": [],
   "source": [
    "@qfunc\n",
    "def mixer_layer(beta: CReal, qba: QArray[QBit]):\n",
    "    # Your code here\n",
    "    pass"
   ]
  },
  {
   "cell_type": "code",
   "execution_count": null,
   "id": "6ada4337-706d-4d57-81e8-ec324cc594a2",
   "metadata": {
    "id": "6ada4337-706d-4d57-81e8-ec324cc594a2"
   },
   "outputs": [],
   "source": [
    "NUM_LAYERS = 4\n",
    "\n",
    "@qfunc\n",
    "def main(\n",
    "    params: CArray[CReal, 2 * NUM_LAYERS],\n",
    "    w_array: Output[PortfolioOptimizationVars]) -> None:\n",
    "\n",
    "    # Allocating the qubits\n",
    "    allocate(num_assets*num_qubits_per_asset+num_slack, w_array)\n",
    "    hadamard_transform()\n",
    "\n",
    "    #Do not forget the slack qubits#\n",
    "\n",
    "    # Build the QAOA circuit similarly to the maxcut\n",
    "    for i in range(NUM_LAYERS):\n",
    "        phase(\n",
    "            objective_portfolio_inequality(),  # edge 0-2\n",
    "            gammas[i],\n",
    "        )\n",
    "        apply_to_all(lambda q: RX(betas[i], q), v)"
   ]
  },
  {
   "cell_type": "markdown",
   "id": "c4635335-aaf8-4400-ac5d-a945371c4fbf",
   "metadata": {
    "id": "c4635335-aaf8-4400-ac5d-a945371c4fbf"
   },
   "source": [
    "## Synthesizing and visualizing"
   ]
  },
  {
   "cell_type": "code",
   "execution_count": null,
   "id": "d87b0c1a-7ac6-431b-8bc9-9bd729a5afe1",
   "metadata": {
    "id": "d87b0c1a-7ac6-431b-8bc9-9bd729a5afe1"
   },
   "outputs": [],
   "source": [
    "qmod = create_model(main)\n",
    "qprog = synthesize(qmod)\n",
    "show(qprog)"
   ]
  },
  {
   "cell_type": "markdown",
   "id": "45090031-c412-4d16-958c-d478945f0fc9",
   "metadata": {
    "id": "45090031-c412-4d16-958c-d478945f0fc9"
   },
   "source": [
    "## Execution and post processing\n",
    "\n",
    "For the hybrid execution, we use `ExecutionSession`, which can evaluate the circuit in multiple methods, such as sampling the circuit, giving specific values for the parameters, and evaluating to a specific Hamiltonian, which is very common in chemical applications.\n",
    "\n",
    "In QAOA, we will use the `estimate_cost` method, which samples the cost function and returns their average cost from all measurements. That helps to optimize easily."
   ]
  },
  {
   "cell_type": "code",
   "execution_count": null,
   "id": "16acd6a4-db04-495e-985b-af32af9e1a00",
   "metadata": {
    "id": "16acd6a4-db04-495e-985b-af32af9e1a00"
   },
   "outputs": [],
   "source": [
    "NUM_SHOTS = 1000\n",
    "\n",
    "es = ExecutionSession(\n",
    "    qprog, execution_preferences=ExecutionPreferences(num_shots=NUM_SHOTS)\n",
    ")\n",
    "\n",
    "\n",
    "# Build `initial_params` list of np.array type.\n",
    "# The gamma values should start from 0 and, in each layer, should approach closer to 1 linearly\n",
    "# The beta values should start from 1 and in each layer, should approach closer to 0 linearly\n",
    "# Then unify it to one list so scipy minimize can digest it.\n",
    "# Your code here\n",
    "\n",
    "initial_params = initial_qaoa_params(NUM_LAYERS)"
   ]
  },
  {
   "cell_type": "markdown",
   "id": "elfDTha4CCvo",
   "metadata": {
    "collapsed": false,
    "id": "elfDTha4CCvo",
    "jupyter": {
     "outputs_hidden": false
    }
   },
   "source": [
    "## Define a callback function to track the optimization"
   ]
  },
  {
   "cell_type": "code",
   "execution_count": null,
   "id": "duPt2gRbCCvo",
   "metadata": {
    "id": "duPt2gRbCCvo"
   },
   "outputs": [],
   "source": [
    "# Record the steps of the optimization\n",
    "intermediate_params = []\n",
    "objective_values = []\n",
    "\n",
    "# Define the callback function to store the intermediate steps\n",
    "def callback(xk):\n",
    "    intermediate_params.append(xk)"
   ]
  },
  {
   "cell_type": "markdown",
   "id": "6e164011-0baa-4300-a337-430749683599",
   "metadata": {
    "id": "6e164011-0baa-4300-a337-430749683599"
   },
   "source": [
    "## Define the objective function"
   ]
  },
  {
   "cell_type": "code",
   "execution_count": null,
   "id": "fddf3739-d81a-492b-8eec-49b4a08c6f8a",
   "metadata": {
    "id": "fddf3739-d81a-492b-8eec-49b4a08c6f8a"
   },
   "outputs": [],
   "source": [
    "cost_func = lambda state: objective_portfolio_inequality(\n",
    "    w_array = ...,\n",
    "    returns = ...,\n",
    "    covariances = ...,\n",
    "    return_coeff= ...\n",
    ")\n",
    "def estimate_cost_func(params: np.ndarray) -> float:\n",
    "    objective_value = es.estimate_cost(\n",
    "        cost_func = ...,\n",
    "        parameters = {\"params\": params.tolist()}\n",
    "    )\n",
    "    # Your code here\n",
    "    # Save the result for convergence graph\n",
    "\n",
    "    return objective_value"
   ]
  },
  {
   "cell_type": "markdown",
   "id": "6d74bf05-3849-4ded-aebe-2a642e9baaa3",
   "metadata": {
    "id": "6d74bf05-3849-4ded-aebe-2a642e9baaa3"
   },
   "source": [
    "## Optimize"
   ]
  },
  {
   "cell_type": "code",
   "execution_count": null,
   "id": "b0955a84-e63f-45ba-bbb6-12de7d83ed8f",
   "metadata": {
    "id": "b0955a84-e63f-45ba-bbb6-12de7d83ed8f"
   },
   "outputs": [],
   "source": [
    "optimization_res = minimize(\n",
    "    fun = ...,\n",
    "    x0=...,\n",
    "    method=\"COBYLA\",\n",
    "    callback=...,\n",
    "    options={\"maxiter\": 10},\n",
    ")"
   ]
  },
  {
   "cell_type": "markdown",
   "id": "b5b83326-df90-4105-a6a5-f617fdf6cf2e",
   "metadata": {
    "id": "b5b83326-df90-4105-a6a5-f617fdf6cf2e"
   },
   "source": [
    "## Look at the results"
   ]
  },
  {
   "cell_type": "code",
   "execution_count": null,
   "id": "732b6138-e1a4-4276-93ac-5c8df4985a6e",
   "metadata": {
    "id": "732b6138-e1a4-4276-93ac-5c8df4985a6e"
   },
   "outputs": [],
   "source": [
    "res = es.sample({\"params\": optimization_res.x.tolist()})\n",
    "\n",
    "print(f\"Optimized parameters: {optimization_res.x.tolist()}\")\n",
    "\n",
    "sorted_counts = sorted(res.parsed_counts, key=lambda pc: objective_portfolio_inequality(pc.state[\"w_array\"],returns = returns, covariances = covariances, return_coeff= return_coeff))\n",
    "\n",
    "for sampled in sorted_counts:\n",
    "    w_sample = sampled.state[\"w_array\"]\n",
    "    print(f\"solution={w_sample} probability={sampled.shots/NUM_SHOTS} \"\n",
    "          f\"cost={objective_portfolio_inequality(w_array=w_sample,returns = returns, covariances = covariances, return_coeff= return_coeff)}\")\n"
   ]
  },
  {
   "cell_type": "markdown",
   "id": "8fccb093-9791-43d9-bf23-eeb3a390b75a",
   "metadata": {
    "id": "8fccb093-9791-43d9-bf23-eeb3a390b75a"
   },
   "source": [
    "## Convergence graph"
   ]
  },
  {
   "cell_type": "code",
   "execution_count": null,
   "id": "33b4b3b5-fe83-4c96-9404-66d64063082a",
   "metadata": {
    "id": "33b4b3b5-fe83-4c96-9404-66d64063082a"
   },
   "outputs": [],
   "source": [
    "plt.plot(objective_values)\n",
    "plt.xlabel(\"Iteration\")\n",
    "plt.ylabel(\"Objective Value\")\n",
    "plt.title(\"Optimization Progress\")"
   ]
  },
  {
   "cell_type": "markdown",
   "id": "12177a69-5698-403f-8daf-3159ba656b8b",
   "metadata": {
    "id": "12177a69-5698-403f-8daf-3159ba656b8b"
   },
   "source": [
    "# Solution"
   ]
  },
  {
   "cell_type": "code",
   "execution_count": 3,
   "id": "72de469d-debc-45d4-a5c6-1946373673c0",
   "metadata": {
    "ExecuteTime": {
     "end_time": "2024-11-24T09:56:30.985190Z",
     "start_time": "2024-11-24T09:54:53.311497Z"
    },
    "colab": {
     "base_uri": "https://localhost:8080/",
     "height": 1000
    },
    "id": "72de469d-debc-45d4-a5c6-1946373673c0",
    "outputId": "ef57bffa-a5d3-4adf-eafc-4c549d2a928b"
   },
   "outputs": [
    {
     "name": "stdout",
     "output_type": "stream",
     "text": [
      "Your user code: MPWP-MZHH\n",
      "If a browser doesn't automatically open, please visit this URL from any trusted device: https://auth.classiq.io/activate?user_code=MPWP-MZHH\n",
      "Opening: https://platform.classiq.io/circuit/2sc0p6ZxXk494xyiVaR2pYXERhm?version=0.67.0\n",
      "Optimized parameters: [1.0, 4.141592653589793, 2.5707963267948966, 1.5707963267948966, 3.141592653589793, 0.0]\n",
      "solution={'a': [2, 3, 0], 'slack': 1} probability=0.002 cost=-162.3\n",
      "solution={'a': [2, 3, 1], 'slack': 0} probability=0.003 cost=-155.4\n",
      "solution={'a': [3, 2, 0], 'slack': 1} probability=0.002 cost=-152.3\n",
      "solution={'a': [3, 3, 1], 'slack': 0} probability=0.001 cost=-148.8\n",
      "solution={'a': [3, 2, 1], 'slack': 0} probability=0.009 cost=-146.4\n",
      "solution={'a': [1, 3, 0], 'slack': 2} probability=0.003 cost=-138.0\n",
      "solution={'a': [2, 3, 0], 'slack': 0} probability=0.002 cost=-131.8\n",
      "solution={'a': [2, 3, 0], 'slack': 2} probability=0.001 cost=-131.8\n",
      "solution={'a': [2, 2, 0], 'slack': 2} probability=0.006 cost=-128.8\n",
      "solution={'a': [3, 2, 0], 'slack': 0} probability=0.002 cost=-121.80000000000001\n",
      "solution={'a': [2, 2, 1], 'slack': 1} probability=0.004 cost=-121.5\n",
      "solution={'a': [1, 3, 2], 'slack': 0} probability=0.002 cost=-119.6\n",
      "solution={'a': [3, 1, 0], 'slack': 2} probability=0.002 cost=-118.0\n",
      "solution={'a': [2, 3, 2], 'slack': 0} probability=0.005 cost=-116.19999999999999\n",
      "solution={'a': [3, 2, 1], 'slack': 1} probability=0.001 cost=-115.9\n",
      "solution={'a': [2, 2, 2], 'slack': 0} probability=0.002 cost=-112.4\n",
      "solution={'a': [3, 1, 1], 'slack': 1} probability=0.004 cost=-111.7\n",
      "solution={'a': [1, 3, 0], 'slack': 3} probability=0.001 cost=-107.5\n",
      "solution={'a': [3, 1, 2], 'slack': 0} probability=0.003 cost=-103.6\n",
      "solution={'a': [1, 2, 0], 'slack': 3} probability=0.006 cost=-103.5\n",
      "solution={'a': [0, 3, 1], 'slack': 2} probability=0.002 cost=-102.2\n",
      "solution={'a': [1, 3, 1], 'slack': 2} probability=0.002 cost=-99.19999999999999\n",
      "solution={'a': [1, 3, 1], 'slack': 0} probability=0.001 cost=-99.19999999999999\n",
      "solution={'a': [2, 2, 0], 'slack': 3} probability=0.001 cost=-98.30000000000001\n",
      "solution={'a': [1, 2, 1], 'slack': 2} probability=0.002 cost=-94.8\n",
      "solution={'a': [2, 1, 0], 'slack': 3} probability=0.002 cost=-93.5\n",
      "solution={'a': [2, 2, 1], 'slack': 0} probability=0.002 cost=-91.0\n",
      "solution={'a': [1, 3, 2], 'slack': 1} probability=0.001 cost=-89.1\n",
      "solution={'a': [3, 1, 0], 'slack': 3} probability=0.001 cost=-87.5\n",
      "solution={'a': [3, 1, 0], 'slack': 1} probability=0.001 cost=-87.5\n",
      "solution={'a': [2, 1, 1], 'slack': 2} probability=0.002 cost=-85.8\n",
      "solution={'a': [1, 2, 2], 'slack': 1} probability=0.002 cost=-84.3\n",
      "solution={'a': [3, 0, 0], 'slack': 3} probability=0.005 cost=-81.9\n",
      "solution={'a': [2, 2, 2], 'slack': 1} probability=0.002 cost=-81.9\n",
      "solution={'a': [0, 3, 0], 'slack': 4} probability=0.012 cost=-81.4\n",
      "solution={'a': [3, 1, 1], 'slack': 2} probability=0.002 cost=-81.2\n",
      "solution={'a': [3, 1, 1], 'slack': 0} probability=0.001 cost=-81.2\n",
      "solution={'a': [0, 3, 3], 'slack': 0} probability=0.005 cost=-77.4\n",
      "solution={'a': [0, 2, 0], 'slack': 4} probability=0.001 cost=-76.4\n",
      "solution={'a': [2, 1, 2], 'slack': 1} probability=0.003 cost=-76.3\n",
      "solution={'a': [3, 0, 1], 'slack': 2} probability=0.003 cost=-75.2\n",
      "solution={'a': [3, 1, 2], 'slack': 1} probability=0.004 cost=-73.1\n",
      "solution={'a': [1, 2, 0], 'slack': 4} probability=0.003 cost=-73.0\n",
      "solution={'a': [1, 2, 3], 'slack': 0} probability=0.001 cost=-72.0\n",
      "solution={'a': [0, 3, 1], 'slack': 3} probability=0.01 cost=-71.7\n",
      "solution={'a': [0, 3, 1], 'slack': 1} probability=0.002 cost=-71.7\n",
      "solution={'a': [0, 2, 1], 'slack': 3} probability=0.004 cost=-66.3\n",
      "solution={'a': [2, 1, 3], 'slack': 0} probability=0.004 cost=-65.0\n",
      "solution={'a': [1, 2, 1], 'slack': 3} probability=0.004 cost=-64.3\n",
      "solution={'a': [3, 1, 3], 'slack': 0} probability=0.001 cost=-63.2\n",
      "solution={'a': [2, 1, 0], 'slack': 2} probability=0.001 cost=-63.0\n",
      "solution={'a': [0, 3, 2], 'slack': 2} probability=0.001 cost=-60.2\n",
      "solution={'a': [1, 1, 1], 'slack': 3} probability=0.001 cost=-58.1\n",
      "solution={'a': [2, 0, 0], 'slack': 4} probability=0.003 cost=-56.4\n",
      "solution={'a': [3, 0, 3], 'slack': 0} probability=0.001 cost=-56.4\n",
      "solution={'a': [0, 2, 2], 'slack': 2} probability=0.001 cost=-54.4\n",
      "solution={'a': [1, 2, 2], 'slack': 2} probability=0.001 cost=-53.8\n",
      "solution={'a': [3, 0, 0], 'slack': 2} probability=0.002 cost=-51.400000000000006\n",
      "solution={'a': [3, 0, 0], 'slack': 4} probability=0.001 cost=-51.400000000000006\n",
      "solution={'a': [2, 0, 1], 'slack': 3} probability=0.015 cost=-48.3\n",
      "solution={'a': [1, 1, 2], 'slack': 2} probability=0.001 cost=-47.2\n",
      "solution={'a': [0, 2, 0], 'slack': 3} probability=0.01 cost=-45.900000000000006\n",
      "solution={'a': [0, 2, 0], 'slack': 5} probability=0.005 cost=-45.900000000000006\n",
      "solution={'a': [3, 0, 1], 'slack': 3} probability=0.004 cost=-44.7\n",
      "solution={'a': [1, 2, 3], 'slack': 1} probability=0.007 cost=-41.5\n",
      "solution={'a': [0, 2, 3], 'slack': 1} probability=0.003 cost=-40.7\n",
      "solution={'a': [2, 3, 0], 'slack': 3} probability=0.002 cost=-40.30000000000001\n",
      "solution={'a': [0, 1, 0], 'slack': 5} probability=0.007 cost=-39.1\n",
      "solution={'a': [2, 0, 2], 'slack': 2} probability=0.001 cost=-38.4\n",
      "solution={'a': [3, 0, 2], 'slack': 0} probability=0.003 cost=-36.2\n",
      "solution={'a': [2, 1, 3], 'slack': 1} probability=0.005 cost=-34.5\n",
      "solution={'a': [1, 1, 3], 'slack': 1} probability=0.001 cost=-34.5\n",
      "solution={'a': [2, 3, 1], 'slack': 2} probability=0.001 cost=-33.400000000000006\n",
      "solution={'a': [3, 2, 0], 'slack': 3} probability=0.003 cost=-30.30000000000001\n",
      "solution={'a': [0, 1, 1], 'slack': 4} probability=0.001 cost=-28.6\n",
      "solution={'a': [1, 1, 1], 'slack': 4} probability=0.001 cost=-27.6\n",
      "solution={'a': [2, 0, 3], 'slack': 1} probability=0.001 cost=-26.7\n",
      "solution={'a': [2, 0, 0], 'slack': 5} probability=0.003 cost=-25.9\n",
      "solution={'a': [2, 0, 0], 'slack': 3} probability=0.003 cost=-25.9\n",
      "solution={'a': [3, 0, 3], 'slack': 1} probability=0.001 cost=-25.9\n",
      "solution={'a': [2, 3, 2], 'slack': 1} probability=0.005 cost=-24.69999999999999\n",
      "solution={'a': [3, 2, 1], 'slack': 2} probability=0.001 cost=-24.400000000000006\n",
      "solution={'a': [0, 2, 2], 'slack': 1} probability=0.007 cost=-23.9\n",
      "solution={'a': [0, 2, 2], 'slack': 3} probability=0.003 cost=-23.9\n",
      "solution={'a': [1, 0, 1], 'slack': 4} probability=0.013 cost=-19.6\n",
      "solution={'a': [2, 0, 1], 'slack': 4} probability=0.001 cost=-17.799999999999997\n",
      "solution={'a': [2, 0, 1], 'slack': 2} probability=0.001 cost=-17.799999999999997\n",
      "solution={'a': [1, 1, 2], 'slack': 1} probability=0.001 cost=-16.700000000000003\n",
      "solution={'a': [3, 2, 2], 'slack': 1} probability=0.004 cost=-16.69999999999999\n",
      "solution={'a': [0, 1, 2], 'slack': 3} probability=0.004 cost=-16.3\n",
      "solution={'a': [1, 3, 0], 'slack': 4} probability=0.002 cost=-16.0\n",
      "solution={'a': [2, 3, 3], 'slack': 0} probability=0.001 cost=-14.199999999999989\n",
      "solution={'a': [0, 2, 3], 'slack': 2} probability=0.002 cost=-10.200000000000003\n",
      "solution={'a': [0, 1, 0], 'slack': 6} probability=0.007 cost=-8.600000000000001\n",
      "solution={'a': [0, 1, 0], 'slack': 4} probability=0.002 cost=-8.600000000000001\n",
      "solution={'a': [2, 0, 2], 'slack': 3} probability=0.001 cost=-7.899999999999999\n",
      "solution={'a': [2, 0, 2], 'slack': 1} probability=0.001 cost=-7.899999999999999\n",
      "solution={'a': [1, 3, 1], 'slack': 3} probability=0.003 cost=-7.699999999999989\n",
      "solution={'a': [3, 2, 3], 'slack': 0} probability=0.003 cost=-7.199999999999989\n",
      "solution={'a': [2, 2, 0], 'slack': 0} probability=0.007 cost=-6.800000000000011\n",
      "solution={'a': [1, 1, 3], 'slack': 0} probability=0.002 cost=-4.0\n",
      "solution={'a': [0, 1, 3], 'slack': 2} probability=0.002 cost=-2.2\n",
      "solution={'a': [0, 0, 0], 'slack': 6} probability=0.002 cost=0.0\n",
      "solution={'a': [2, 2, 1], 'slack': 3} probability=0.005 cost=0.5\n",
      "solution={'a': [0, 1, 1], 'slack': 3} probability=0.008 cost=1.8999999999999986\n",
      "solution={'a': [0, 1, 1], 'slack': 5} probability=0.005 cost=1.8999999999999986\n",
      "solution={'a': [1, 3, 2], 'slack': 2} probability=0.001 cost=2.4000000000000057\n",
      "solution={'a': [2, 0, 3], 'slack': 2} probability=0.007 cost=3.8000000000000007\n",
      "solution={'a': [2, 0, 3], 'slack': 0} probability=0.006 cost=3.8000000000000007\n",
      "solution={'a': [3, 1, 0], 'slack': 4} probability=0.005 cost=4.0\n",
      "solution={'a': [1, 0, 3], 'slack': 2} probability=0.006 cost=4.800000000000001\n",
      "solution={'a': [2, 2, 2], 'slack': 2} probability=0.006 cost=9.599999999999994\n",
      "solution={'a': [0, 3, 0], 'slack': 5} probability=0.003 cost=10.099999999999994\n",
      "solution={'a': [3, 1, 1], 'slack': 3} probability=0.001 cost=10.299999999999997\n",
      "solution={'a': [1, 0, 1], 'slack': 5} probability=0.007 cost=10.899999999999999\n",
      "solution={'a': [1, 0, 1], 'slack': 3} probability=0.001 cost=10.899999999999999\n",
      "solution={'a': [0, 0, 1], 'slack': 5} probability=0.001 cost=10.9\n",
      "solution={'a': [0, 1, 2], 'slack': 2} probability=0.011 cost=14.2\n",
      "solution={'a': [1, 3, 3], 'slack': 1} probability=0.001 cost=14.299999999999997\n",
      "solution={'a': [3, 1, 2], 'slack': 2} probability=0.001 cost=18.400000000000006\n",
      "solution={'a': [1, 2, 0], 'slack': 5} probability=0.001 cost=18.5\n",
      "solution={'a': [0, 3, 1], 'slack': 0} probability=0.002 cost=19.799999999999997\n",
      "solution={'a': [1, 0, 2], 'slack': 4} probability=0.003 cost=22.2\n",
      "solution={'a': [0, 0, 2], 'slack': 4} probability=0.001 cost=23.6\n",
      "solution={'a': [1, 2, 1], 'slack': 4} probability=0.003 cost=27.200000000000003\n",
      "solution={'a': [1, 2, 1], 'slack': 0} probability=0.002 cost=27.200000000000003\n",
      "solution={'a': [3, 1, 3], 'slack': 1} probability=0.009 cost=28.299999999999997\n",
      "solution={'a': [0, 1, 3], 'slack': 1} probability=0.004 cost=28.3\n",
      "solution={'a': [0, 1, 3], 'slack': 3} probability=0.002 cost=28.3\n",
      "solution={'a': [2, 1, 0], 'slack': 1} probability=0.004 cost=28.5\n",
      "solution={'a': [2, 1, 0], 'slack': 5} probability=0.002 cost=28.5\n",
      "solution={'a': [0, 0, 0], 'slack': 7} probability=0.004 cost=30.5\n",
      "solution={'a': [0, 0, 0], 'slack': 5} probability=0.002 cost=30.5\n",
      "solution={'a': [1, 0, 3], 'slack': 3} probability=0.002 cost=35.3\n",
      "solution={'a': [1, 0, 3], 'slack': 1} probability=0.001 cost=35.3\n",
      "solution={'a': [2, 1, 1], 'slack': 0} probability=0.002 cost=36.2\n",
      "solution={'a': [1, 2, 2], 'slack': 3} probability=0.004 cost=37.7\n",
      "solution={'a': [0, 0, 3], 'slack': 3} probability=0.003 cost=38.1\n",
      "solution={'a': [3, 0, 0], 'slack': 1} probability=0.003 cost=40.099999999999994\n",
      "solution={'a': [0, 0, 1], 'slack': 4} probability=0.007 cost=41.4\n",
      "solution={'a': [0, 0, 1], 'slack': 6} probability=0.004 cost=41.4\n",
      "solution={'a': [0, 3, 3], 'slack': 2} probability=0.001 cost=44.599999999999994\n",
      "solution={'a': [0, 2, 0], 'slack': 2} probability=0.002 cost=45.599999999999994\n",
      "solution={'a': [0, 2, 0], 'slack': 6} probability=0.001 cost=45.599999999999994\n",
      "solution={'a': [2, 1, 2], 'slack': 3} probability=0.003 cost=45.7\n",
      "solution={'a': [1, 2, 3], 'slack': 2} probability=0.001 cost=50.0\n",
      "solution={'a': [1, 1, 0], 'slack': 2} probability=0.001 cost=54.8\n",
      "solution={'a': [3, 0, 2], 'slack': 3} probability=0.003 cost=55.3\n",
      "solution={'a': [0, 2, 1], 'slack': 5} probability=0.003 cost=55.7\n",
      "solution={'a': [0, 2, 1], 'slack': 1} probability=0.001 cost=55.7\n",
      "solution={'a': [1, 1, 1], 'slack': 5} probability=0.004 cost=63.9\n",
      "solution={'a': [1, 1, 1], 'slack': 1} probability=0.003 cost=63.9\n",
      "solution={'a': [2, 0, 0], 'slack': 2} probability=0.007 cost=65.6\n",
      "solution={'a': [2, 0, 0], 'slack': 6} probability=0.001 cost=65.6\n",
      "solution={'a': [0, 2, 2], 'slack': 4} probability=0.002 cost=67.6\n",
      "solution={'a': [0, 0, 3], 'slack': 2} probability=0.004 cost=68.6\n",
      "solution={'a': [0, 0, 3], 'slack': 4} probability=0.002 cost=68.6\n",
      "solution={'a': [2, 0, 1], 'slack': 1} probability=0.002 cost=73.7\n",
      "solution={'a': [1, 1, 2], 'slack': 0} probability=0.002 cost=74.8\n",
      "solution={'a': [0, 2, 3], 'slack': 3} probability=0.001 cost=81.3\n",
      "solution={'a': [0, 1, 0], 'slack': 7} probability=0.001 cost=82.9\n",
      "solution={'a': [2, 0, 2], 'slack': 4} probability=0.001 cost=83.6\n",
      "solution={'a': [2, 0, 2], 'slack': 0} probability=0.001 cost=83.6\n",
      "solution={'a': [1, 0, 0], 'slack': 7} probability=0.001 cost=92.9\n",
      "solution={'a': [0, 1, 1], 'slack': 6} probability=0.003 cost=93.4\n",
      "solution={'a': [0, 1, 1], 'slack': 2} probability=0.001 cost=93.4\n",
      "solution={'a': [1, 0, 1], 'slack': 6} probability=0.003 cost=102.4\n",
      "solution={'a': [1, 0, 1], 'slack': 2} probability=0.001 cost=102.4\n",
      "solution={'a': [3, 3, 2], 'slack': 1} probability=0.003 cost=102.5\n",
      "solution={'a': [0, 1, 2], 'slack': 1} probability=0.009 cost=105.7\n",
      "solution={'a': [0, 1, 2], 'slack': 5} probability=0.001 cost=105.7\n",
      "solution={'a': [3, 3, 3], 'slack': 0} probability=0.003 cost=111.6\n",
      "solution={'a': [1, 0, 2], 'slack': 5} probability=0.002 cost=113.7\n",
      "solution={'a': [2, 3, 1], 'slack': 3} probability=0.001 cost=119.1\n",
      "solution={'a': [0, 1, 3], 'slack': 0} probability=0.003 cost=119.8\n",
      "solution={'a': [0, 0, 0], 'slack': 4} probability=0.006 cost=122.0\n",
      "solution={'a': [3, 2, 0], 'slack': 4} probability=0.005 cost=122.19999999999999\n",
      "solution={'a': [1, 0, 3], 'slack': 0} probability=0.004 cost=126.8\n",
      "solution={'a': [1, 0, 3], 'slack': 4} probability=0.001 cost=126.8\n",
      "solution={'a': [0, 0, 1], 'slack': 3} probability=0.004 cost=132.9\n",
      "solution={'a': [0, 0, 1], 'slack': 7} probability=0.001 cost=132.9\n",
      "solution={'a': [2, 3, 3], 'slack': 1} probability=0.002 cost=138.3\n",
      "solution={'a': [1, 3, 1], 'slack': 4} probability=0.002 cost=144.8\n",
      "solution={'a': [0, 0, 2], 'slack': 6} probability=0.003 cost=145.6\n",
      "solution={'a': [0, 0, 2], 'slack': 2} probability=0.001 cost=145.6\n",
      "solution={'a': [2, 2, 1], 'slack': 4} probability=0.005 cost=153.0\n",
      "solution={'a': [1, 3, 2], 'slack': 3} probability=0.016 cost=154.9\n",
      "solution={'a': [3, 1, 0], 'slack': 5} probability=0.001 cost=156.5\n",
      "solution={'a': [0, 0, 3], 'slack': 5} probability=0.004 cost=160.1\n",
      "solution={'a': [2, 2, 2], 'slack': 3} probability=0.001 cost=162.1\n",
      "solution={'a': [0, 3, 0], 'slack': 6} probability=0.004 cost=162.6\n",
      "solution={'a': [1, 3, 3], 'slack': 2} probability=0.003 cost=166.8\n",
      "solution={'a': [1, 2, 0], 'slack': 6} probability=0.001 cost=171.0\n",
      "solution={'a': [1, 2, 0], 'slack': 0} probability=0.001 cost=171.0\n",
      "solution={'a': [2, 2, 3], 'slack': 2} probability=0.004 cost=173.0\n",
      "solution={'a': [1, 2, 1], 'slack': 5} probability=0.003 cost=179.7\n",
      "solution={'a': [3, 1, 3], 'slack': 2} probability=0.002 cost=180.8\n",
      "solution={'a': [0, 3, 2], 'slack': 4} probability=0.001 cost=183.8\n",
      "solution={'a': [1, 2, 2], 'slack': 4} probability=0.001 cost=190.2\n",
      "solution={'a': [3, 0, 0], 'slack': 0} probability=0.004 cost=192.6\n",
      "solution={'a': [3, 0, 0], 'slack': 6} probability=0.001 cost=192.6\n",
      "solution={'a': [0, 3, 3], 'slack': 3} probability=0.002 cost=197.1\n",
      "solution={'a': [0, 2, 0], 'slack': 1} probability=0.004 cost=198.1\n",
      "solution={'a': [2, 1, 2], 'slack': 4} probability=0.001 cost=198.2\n",
      "solution={'a': [3, 0, 1], 'slack': 5} probability=0.003 cost=199.3\n",
      "solution={'a': [1, 2, 3], 'slack': 3} probability=0.006 cost=202.5\n",
      "solution={'a': [1, 1, 0], 'slack': 1} probability=0.003 cost=207.3\n",
      "solution={'a': [1, 1, 0], 'slack': 7} probability=0.003 cost=207.3\n",
      "solution={'a': [3, 0, 2], 'slack': 4} probability=0.003 cost=207.8\n",
      "solution={'a': [0, 2, 1], 'slack': 6} probability=0.003 cost=208.2\n",
      "solution={'a': [2, 1, 3], 'slack': 3} probability=0.006 cost=209.5\n",
      "solution={'a': [0, 2, 2], 'slack': 5} probability=0.003 cost=220.1\n",
      "solution={'a': [0, 1, 0], 'slack': 2} probability=0.007 cost=235.4\n",
      "solution={'a': [1, 1, 3], 'slack': 4} probability=0.002 cost=240.0\n",
      "solution={'a': [1, 0, 0], 'slack': 2} probability=0.002 cost=245.4\n",
      "solution={'a': [0, 1, 1], 'slack': 1} probability=0.001 cost=245.9\n",
      "solution={'a': [2, 0, 3], 'slack': 4} probability=0.004 cost=247.8\n",
      "solution={'a': [1, 0, 1], 'slack': 7} probability=0.002 cost=254.9\n",
      "solution={'a': [0, 1, 2], 'slack': 0} probability=0.003 cost=258.2\n",
      "solution={'a': [0, 1, 2], 'slack': 6} probability=0.003 cost=258.2\n",
      "solution={'a': [1, 0, 2], 'slack': 0} probability=0.001 cost=266.2\n",
      "solution={'a': [0, 1, 3], 'slack': 5} probability=0.001 cost=272.3\n",
      "solution={'a': [0, 0, 0], 'slack': 3} probability=0.003 cost=274.5\n",
      "solution={'a': [0, 0, 2], 'slack': 1} probability=0.004 cost=298.1\n",
      "solution={'a': [3, 3, 1], 'slack': 3} probability=0.004 cost=308.7\n",
      "solution={'a': [0, 0, 3], 'slack': 0} probability=0.003 cost=312.6\n",
      "solution={'a': [3, 3, 3], 'slack': 1} probability=0.001 cost=325.1\n",
      "solution={'a': [2, 3, 0], 'slack': 5} probability=0.002 cost=325.7\n",
      "solution={'a': [2, 3, 1], 'slack': 4} probability=0.001 cost=332.6\n",
      "solution={'a': [2, 3, 2], 'slack': 3} probability=0.002 cost=341.3\n",
      "solution={'a': [3, 2, 1], 'slack': 4} probability=0.002 cost=341.6\n",
      "solution={'a': [3, 2, 2], 'slack': 3} probability=0.003 cost=349.3\n",
      "solution={'a': [1, 3, 0], 'slack': 6} probability=0.004 cost=350.0\n",
      "solution={'a': [3, 2, 3], 'slack': 2} probability=0.001 cost=358.8\n",
      "solution={'a': [2, 2, 1], 'slack': 5} probability=0.004 cost=366.5\n",
      "solution={'a': [1, 3, 2], 'slack': 4} probability=0.002 cost=368.4\n",
      "solution={'a': [0, 3, 0], 'slack': 7} probability=0.001 cost=376.1\n",
      "solution={'a': [1, 3, 3], 'slack': 3} probability=0.005 cost=380.3\n",
      "solution={'a': [3, 1, 2], 'slack': 4} probability=0.002 cost=384.4\n",
      "solution={'a': [1, 2, 0], 'slack': 7} probability=0.001 cost=384.5\n",
      "solution={'a': [0, 3, 1], 'slack': 6} probability=0.002 cost=385.8\n",
      "solution={'a': [0, 3, 2], 'slack': 5} probability=0.001 cost=397.3\n",
      "solution={'a': [2, 1, 1], 'slack': 6} probability=0.004 cost=402.2\n",
      "solution={'a': [0, 3, 3], 'slack': 4} probability=0.001 cost=410.6\n",
      "solution={'a': [3, 0, 1], 'slack': 6} probability=0.011 cost=412.8\n",
      "solution={'a': [1, 2, 3], 'slack': 4} probability=0.001 cost=416.0\n",
      "solution={'a': [1, 1, 0], 'slack': 0} probability=0.004 cost=420.8\n",
      "solution={'a': [2, 1, 3], 'slack': 4} probability=0.001 cost=423.0\n",
      "solution={'a': [1, 1, 1], 'slack': 7} probability=0.001 cost=429.9\n",
      "solution={'a': [3, 0, 3], 'slack': 4} probability=0.006 cost=431.6\n",
      "solution={'a': [2, 0, 0], 'slack': 0} probability=0.001 cost=431.6\n",
      "solution={'a': [0, 2, 2], 'slack': 6} probability=0.009 cost=433.6\n",
      "solution={'a': [1, 1, 2], 'slack': 6} probability=0.002 cost=440.8\n",
      "solution={'a': [2, 0, 2], 'slack': 6} probability=0.002 cost=449.6\n",
      "solution={'a': [1, 1, 3], 'slack': 5} probability=0.001 cost=453.5\n",
      "solution={'a': [1, 0, 0], 'slack': 1} probability=0.006 cost=458.9\n",
      "solution={'a': [0, 1, 1], 'slack': 0} probability=0.003 cost=459.4\n",
      "solution={'a': [2, 0, 3], 'slack': 5} probability=0.004 cost=461.3\n",
      "solution={'a': [0, 1, 2], 'slack': 7} probability=0.003 cost=471.7\n",
      "solution={'a': [1, 0, 2], 'slack': 7} probability=0.007 cost=479.7\n",
      "solution={'a': [0, 1, 3], 'slack': 6} probability=0.002 cost=485.8\n",
      "solution={'a': [0, 0, 1], 'slack': 1} probability=0.003 cost=498.9\n",
      "solution={'a': [0, 0, 2], 'slack': 0} probability=0.003 cost=511.6\n",
      "solution={'a': [0, 0, 3], 'slack': 7} probability=0.001 cost=526.1\n",
      "solution={'a': [3, 3, 0], 'slack': 5} probability=0.001 cost=577.7\n",
      "solution={'a': [3, 3, 1], 'slack': 4} probability=0.003 cost=583.2\n",
      "solution={'a': [3, 3, 3], 'slack': 2} probability=0.003 cost=599.6\n",
      "solution={'a': [2, 3, 1], 'slack': 5} probability=0.001 cost=607.1\n",
      "solution={'a': [3, 2, 0], 'slack': 6} probability=0.002 cost=610.2\n",
      "solution={'a': [2, 3, 2], 'slack': 4} probability=0.002 cost=615.8\n",
      "solution={'a': [3, 2, 1], 'slack': 5} probability=0.002 cost=616.1\n",
      "solution={'a': [3, 2, 2], 'slack': 4} probability=0.004 cost=623.8\n",
      "solution={'a': [1, 3, 0], 'slack': 7} probability=0.003 cost=624.5\n",
      "solution={'a': [3, 2, 3], 'slack': 3} probability=0.007 cost=633.3\n",
      "solution={'a': [2, 2, 0], 'slack': 7} probability=0.001 cost=633.7\n",
      "solution={'a': [1, 3, 2], 'slack': 5} probability=0.008 cost=642.9\n",
      "solution={'a': [3, 1, 1], 'slack': 6} probability=0.001 cost=650.8\n",
      "solution={'a': [3, 1, 2], 'slack': 5} probability=0.008 cost=658.9\n",
      "solution={'a': [2, 2, 3], 'slack': 4} probability=0.001 cost=661.0\n",
      "solution={'a': [1, 2, 1], 'slack': 7} probability=0.003 cost=667.7\n",
      "solution={'a': [3, 1, 3], 'slack': 4} probability=0.001 cost=668.8\n",
      "solution={'a': [0, 3, 2], 'slack': 6} probability=0.004 cost=671.8\n",
      "solution={'a': [2, 1, 2], 'slack': 6} probability=0.006 cost=686.2\n",
      "solution={'a': [1, 2, 3], 'slack': 5} probability=0.001 cost=690.5\n",
      "solution={'a': [3, 0, 2], 'slack': 6} probability=0.001 cost=695.8\n",
      "solution={'a': [2, 1, 3], 'slack': 5} probability=0.002 cost=697.5\n",
      "solution={'a': [3, 0, 3], 'slack': 5} probability=0.002 cost=706.1\n",
      "solution={'a': [1, 1, 2], 'slack': 7} probability=0.001 cost=715.3\n",
      "solution={'a': [0, 2, 3], 'slack': 6} probability=0.013 cost=721.8\n",
      "solution={'a': [0, 1, 0], 'slack': 0} probability=0.001 cost=723.4\n",
      "solution={'a': [2, 0, 2], 'slack': 7} probability=0.002 cost=724.1\n",
      "solution={'a': [1, 1, 3], 'slack': 6} probability=0.002 cost=728.0\n",
      "solution={'a': [0, 0, 0], 'slack': 1} probability=0.005 cost=762.5\n",
      "solution={'a': [1, 0, 3], 'slack': 7} probability=0.005 cost=767.3\n",
      "solution={'a': [3, 3, 0], 'slack': 6} probability=0.001 cost=913.2\n",
      "solution={'a': [3, 3, 2], 'slack': 4} probability=0.001 cost=926.0\n",
      "solution={'a': [3, 3, 3], 'slack': 3} probability=0.001 cost=935.1\n",
      "solution={'a': [2, 3, 0], 'slack': 7} probability=0.002 cost=935.7\n",
      "solution={'a': [2, 3, 1], 'slack': 6} probability=0.002 cost=942.6\n",
      "solution={'a': [2, 3, 2], 'slack': 5} probability=0.001 cost=951.3\n",
      "solution={'a': [3, 2, 1], 'slack': 6} probability=0.001 cost=951.6\n",
      "solution={'a': [2, 3, 3], 'slack': 4} probability=0.001 cost=961.8\n",
      "solution={'a': [1, 3, 1], 'slack': 7} probability=0.001 cost=968.3\n",
      "solution={'a': [2, 2, 1], 'slack': 7} probability=0.006 cost=976.5\n",
      "solution={'a': [3, 1, 1], 'slack': 7} probability=0.002 cost=986.3\n",
      "solution={'a': [1, 3, 3], 'slack': 5} probability=0.003 cost=990.3\n",
      "solution={'a': [3, 1, 3], 'slack': 5} probability=0.002 cost=1004.3\n",
      "solution={'a': [0, 3, 2], 'slack': 7} probability=0.001 cost=1007.3\n",
      "solution={'a': [2, 1, 2], 'slack': 7} probability=0.001 cost=1021.7\n",
      "solution={'a': [1, 2, 3], 'slack': 6} probability=0.004 cost=1026.0\n",
      "solution={'a': [3, 0, 2], 'slack': 7} probability=0.002 cost=1031.3\n",
      "solution={'a': [3, 0, 3], 'slack': 6} probability=0.004 cost=1041.6\n",
      "solution={'a': [0, 2, 3], 'slack': 7} probability=0.003 cost=1057.3\n",
      "solution={'a': [1, 1, 3], 'slack': 7} probability=0.001 cost=1063.5\n",
      "solution={'a': [2, 0, 3], 'slack': 7} probability=0.001 cost=1071.3\n",
      "solution={'a': [0, 0, 0], 'slack': 0} probability=0.001 cost=1098.0\n",
      "solution={'a': [3, 3, 0], 'slack': 7} probability=0.003 cost=1309.7\n",
      "solution={'a': [3, 3, 1], 'slack': 6} probability=0.003 cost=1315.2\n",
      "solution={'a': [3, 3, 3], 'slack': 4} probability=0.002 cost=1331.6\n",
      "solution={'a': [2, 3, 1], 'slack': 7} probability=0.007 cost=1339.1\n",
      "solution={'a': [3, 2, 2], 'slack': 6} probability=0.004 cost=1355.8\n",
      "solution={'a': [2, 3, 3], 'slack': 5} probability=0.002 cost=1358.3\n",
      "solution={'a': [3, 2, 3], 'slack': 5} probability=0.001 cost=1365.3\n",
      "solution={'a': [1, 3, 2], 'slack': 7} probability=0.003 cost=1374.9\n",
      "solution={'a': [2, 2, 2], 'slack': 7} probability=0.001 cost=1382.1\n",
      "solution={'a': [1, 3, 3], 'slack': 6} probability=0.001 cost=1386.8\n",
      "solution={'a': [3, 1, 2], 'slack': 7} probability=0.001 cost=1390.9\n",
      "solution={'a': [2, 2, 3], 'slack': 6} probability=0.001 cost=1393.0\n",
      "solution={'a': [3, 1, 3], 'slack': 6} probability=0.003 cost=1400.8\n",
      "solution={'a': [0, 3, 3], 'slack': 7} probability=0.002 cost=1417.1\n",
      "solution={'a': [2, 1, 3], 'slack': 7} probability=0.005 cost=1429.5\n",
      "solution={'a': [3, 3, 3], 'slack': 5} probability=0.004 cost=1789.1\n",
      "solution={'a': [2, 3, 2], 'slack': 7} probability=0.001 cost=1805.3\n",
      "solution={'a': [3, 2, 2], 'slack': 7} probability=0.001 cost=1813.3\n",
      "solution={'a': [2, 3, 3], 'slack': 6} probability=0.002 cost=1815.8\n",
      "solution={'a': [3, 2, 3], 'slack': 6} probability=0.001 cost=1822.8\n",
      "solution={'a': [2, 2, 3], 'slack': 7} probability=0.004 cost=1850.5\n",
      "solution={'a': [3, 1, 3], 'slack': 7} probability=0.003 cost=1858.3\n",
      "solution={'a': [3, 3, 2], 'slack': 7} probability=0.005 cost=2298.5\n",
      "solution={'a': [3, 3, 3], 'slack': 6} probability=0.001 cost=2307.6\n",
      "solution={'a': [2, 3, 3], 'slack': 7} probability=0.003 cost=2334.3\n"
     ]
    },
    {
     "data": {
      "text/plain": [
       "Text(0.5, 1.0, 'Optimization Progress')"
      ]
     },
     "execution_count": 3,
     "metadata": {},
     "output_type": "execute_result"
    },
    {
     "data": {
      "image/png": "[encoded data removed]",
      "text/plain": [
       "<Figure size 640x480 with 1 Axes>"
      ]
     },
     "metadata": {},
     "output_type": "display_data"
    }
   ],
   "source": [
    "from typing import List\n",
    "\n",
    "import networkx as nx\n",
    "from classiq import *\n",
    "import math\n",
    "import matplotlib.pyplot as plt\n",
    "import numpy as np\n",
    "from scipy.optimize import minimize\n",
    "from classiq.execution import ExecutionSession, ExecutionPreferences\n",
    "\n",
    "NUM_LAYERS = 3\n",
    "\n",
    "num_slack = 3\n",
    "\n",
    "returns = np.array([3, 4, -1])\n",
    "# fmt: off\n",
    "covariances = np.array(\n",
    "    [\n",
    "        [ 0.9,  0.5, -0.7],\n",
    "        [ 0.5,  0.9, -0.2],\n",
    "        [-0.7, -0.2,  0.9],\n",
    "    ]\n",
    ")\n",
    "# fmt: on\n",
    "total_budget = 6\n",
    "specific_budgets = 3\n",
    "\n",
    "return_coeff = 10.0\n",
    "\n",
    "num_assets = 3\n",
    "\n",
    "num_qubits_per_asset = 2\n",
    "\n",
    "Penalty = 30.5\n",
    "\n",
    "# start with integer variables\n",
    "\n",
    "class PortfolioOptimizationVars(QStruct):\n",
    "    a: QArray[QNum[num_qubits_per_asset], num_assets]\n",
    "    slack: QNum[num_slack]\n",
    "\n",
    "def expected_return_cost(returns: np.ndarray, w_array: PortfolioOptimizationVars) -> float:\n",
    "    return sum(returns[i] * w_array.a[i] for i in range(len(returns)))\n",
    "\n",
    "def risk_cost(covariances: np.ndarray, w_array: PortfolioOptimizationVars) -> float:\n",
    "    risk_term =  sum(\n",
    "        w_array.a[i] * sum(w_array.a[j] * covariances[i][j] for j in range(covariances.shape[0])) for i in range(covariances.shape[0])\n",
    "    )\n",
    "    return risk_term\n",
    "\n",
    "\n",
    "def objective_portfolio_inequality(w_array: PortfolioOptimizationVars, returns: np.ndarray, covariances: np.ndarray, return_coeff: float) -> float:\n",
    "    return risk_cost(covariances, w_array) - \\\n",
    "        return_coeff * expected_return_cost(returns, w_array) + \\\n",
    "        Penalty * (sum(w_array.a[i] for i in range(len(returns))) + w_array.slack - total_budget)**2\n",
    "\n",
    "\n",
    "@qfunc\n",
    "def mixer_layer(beta: CReal, qba: QArray[QBit]):\n",
    "    apply_to_all(lambda q: RX(beta, q), qba)\n",
    "\n",
    "@qfunc\n",
    "def main(params: CArray[CReal, 2 * NUM_LAYERS], w_array: Output[PortfolioOptimizationVars]) -> None:\n",
    "    # allocate(len(returns), w_array)\n",
    "    allocate(num_qubits_per_asset * num_assets + num_slack, w_array)\n",
    "\n",
    "    hadamard_transform(w_array)\n",
    "\n",
    "    repeat(\n",
    "        count=params.len / 2,\n",
    "        iteration=lambda i: (\n",
    "            phase(\n",
    "                expr= objective_portfolio_inequality(w_array, returns, covariances, return_coeff),\n",
    "                theta = params[2 * i]\n",
    "            ),\n",
    "            mixer_layer(params[2 * i + 1], w_array)\n",
    "        )\n",
    "    )\n",
    "\n",
    "qmod = create_model(main)\n",
    "qprog = synthesize(qmod)\n",
    "show(qprog)\n",
    "\n",
    "\n",
    "NUM_SHOTS = 1000\n",
    "\n",
    "es = ExecutionSession(\n",
    "    qprog, execution_preferences=ExecutionPreferences(num_shots=NUM_SHOTS)\n",
    ")\n",
    "\n",
    "def initial_qaoa_params(NUM_LAYERS) -> np.ndarray:\n",
    "    initial_gammas = math.pi * np.linspace(0, 1, NUM_LAYERS)\n",
    "    initial_betas = math.pi * np.linspace(1, 0, NUM_LAYERS)\n",
    "\n",
    "    initial_params = []\n",
    "\n",
    "    for i in range(NUM_LAYERS):\n",
    "        initial_params.append(initial_gammas[i])\n",
    "        initial_params.append(initial_betas[i])\n",
    "\n",
    "    return np.array(initial_params)\n",
    "\n",
    "initial_params = initial_qaoa_params(NUM_LAYERS)\n",
    "\n",
    "# Record the steps of the optimization\n",
    "intermediate_params = []\n",
    "objective_values = []\n",
    "\n",
    "# Define the callback function to store the intermediate steps\n",
    "def callback(xk):\n",
    "    intermediate_params.append(xk)\n",
    "\n",
    "cost_func = lambda state: objective_portfolio_inequality(\n",
    "    w_array = state[\"w_array\"],\n",
    "    returns = returns,\n",
    "    covariances = covariances,\n",
    "    return_coeff= return_coeff\n",
    ")\n",
    "\n",
    "def estimate_cost_func(params: np.ndarray) -> float:\n",
    "    objective_value = es.estimate_cost(\n",
    "        cost_func = cost_func,\n",
    "        parameters = {\"params\": params.tolist()}\n",
    "    )\n",
    "    objective_values.append(objective_value)\n",
    "    return objective_value\n",
    "\n",
    "\n",
    "optimization_res = minimize(\n",
    "    estimate_cost_func,\n",
    "    x0=initial_params,\n",
    "    method=\"COBYLA\",\n",
    "    callback=callback,\n",
    "    options={\"maxiter\": 20},\n",
    ")\n",
    "\n",
    "res = es.sample({\"params\": optimization_res.x.tolist()})\n",
    "\n",
    "print(f\"Optimized parameters: {optimization_res.x.tolist()}\")\n",
    "\n",
    "sorted_counts = sorted(res.parsed_counts, key=lambda pc: objective_portfolio_inequality(pc.state[\"w_array\"],returns = returns, covariances = covariances, return_coeff= return_coeff))\n",
    "\n",
    "for sampled in sorted_counts:\n",
    "    w = sampled.state[\"w_array\"]\n",
    "    print(f\"solution={w} probability={sampled.shots/NUM_SHOTS} \"\n",
    "          f\"cost={objective_portfolio_inequality(w_array=w,returns = returns, covariances = covariances, return_coeff= return_coeff)}\")\n",
    "\n",
    "plt.plot(objective_values)\n",
    "plt.xlabel(\"Iteration\")\n",
    "plt.ylabel(\"Objective Value\")\n",
    "plt.title(\"Optimization Progress\")\n"
   ]
  },
  {
   "cell_type": "code",
   "execution_count": null,
   "id": "cb26b417-2ba7-49b2-9370-0ce3b31ff8dd",
   "metadata": {
    "id": "cb26b417-2ba7-49b2-9370-0ce3b31ff8dd"
   },
   "outputs": [],
   "source": []
  }
 ],
 "metadata": {
  "colab": {
   "provenance": []
  },
  "kernelspec": {
   "display_name": "Python 3 (ipykernel)",
   "language": "python",
   "name": "python3"
  },
  "language_info": {
   "codemirror_mode": {
    "name": "ipython",
    "version": 3
   },
   "file_extension": ".py",
   "mimetype": "text/x-python",
   "name": "python",
   "nbconvert_exporter": "python",
   "pygments_lexer": "ipython3",
   "version": "3.11.4"
  },
  "vscode": {
   "interpreter": {
    "hash": "a07aacdcc8a415e7643a2bc993226848ff70704ebef014f87460de9126b773d0"
   }
  }
 },
 "nbformat": 4,
 "nbformat_minor": 5
}
