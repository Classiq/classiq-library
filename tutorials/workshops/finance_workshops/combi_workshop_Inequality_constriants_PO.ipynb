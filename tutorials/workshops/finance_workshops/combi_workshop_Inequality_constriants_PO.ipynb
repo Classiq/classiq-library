{
 "cells": [
  {
   "cell_type": "markdown",
   "id": "6a264eba-42cc-4800-8369-24b0891d167d",
   "metadata": {
    "id": "6a264eba-42cc-4800-8369-24b0891d167d"
   },
   "source": [
    "# Quantum Optimization Training - part 3\n",
    "## Dealing with constraint using portfolio optimization"
   ]
  },
  {
   "cell_type": "markdown",
   "id": "91cd8b6b-2a74-44e4-be44-2315afe58306",
   "metadata": {},
   "source": [
    "#### Guidance for the workshop:\n",
    "**The `# TODO` or `# Your code` is there for you to do yourself.**\n",
    "**The `# Solution start` and `# Solution end` are only for helping you. Please delete the `Solution` and try doing it yourself...**"
   ]
  },
  {
   "cell_type": "markdown",
   "id": "0c1662b0-2cb2-44f8-9c3b-452cf8e5b2cb",
   "metadata": {
    "id": "0c1662b0-2cb2-44f8-9c3b-452cf8e5b2cb"
   },
   "source": [
    "## Portfolio Optimization with the Quantum Approximate Optimization Algorithm (QAOA)\n",
    "\n",
    "### Introduction\n",
    "\n",
    "Portfolio optimization is the process of allocating a portfolio of financial assets optimally, according to some predetermined goal. Usually, the goal is to maximize the potential return while minimizing the financial risk of the portfolio. One can express this problem as a combinatorial optimization problem like many other real-world problems. In this demo, we'll show how the Quantum Approximate Optimization Algorithm (QAOA) can be employed on the Classiq platform to solve the problem of portfolio optimization.\n",
    "\n",
    "### Modeling the Portfolio Optimization Problem\n",
    "\n",
    "As a first step, we have to model the problem mathematically. We will use a simple yet powerful model, which captures the essence of portfolio optimization:\n",
    "\n",
    "- A portfolio is built from a pool of $n$ financial assets, each asset labeled $i \\in \\{1,\\ldots,n\\}$.\n",
    "- Every asset's return is a random variable, with expected value $\\mu_i$ and variance $\\Sigma_i$ (modeling the financial risk involved in the asset).\n",
    "- Every two assets $i \\neq j$ have covariance $\\Sigma_{ij}$ (modeling market correlation between assets).\n",
    "- Every asset $i$ has a weight $w_i \\in D_i = \\{0,\\ldots,b_i\\}$ in the portfolio, with $b_i$ defined as the budget for asset $i$ (modeling the maximum allowed weight of the asset).\n",
    "- The return vector $\\mu$, the covariance matrix $\\Sigma$ and the weight vector $w$ are defined naturally from the above (with the domain $D = D_1 \\times D_2 \\times \\ldots \\times D_n$ for $w$).\n",
    "\n",
    "With the above definitions, the total expected return of the portfolio is $\\mu^T w$ and the total risk is $w^T \\Sigma w$. We'll use a simple difference of the two as our cost function, with the additional constraint that the total sum of assets does not exceed a predefined budget $B$. We note that there are many other possibilities for defining a cost function (e.g. add a scaling factor to the risk/return or even some non-linear relation). For reasons of simplicity we select the model below, and we assume all constants and variables are dimensionless.\n",
    "Thus, the problem is, given the constant inputs $\\mu, \\Sigma, D, B$, to find optimal variable $w$ as follows:\n",
    "\n",
    "$$\\begin{equation*}\n",
    "\\min_{w \\in D}  w^T \\Sigma w - \\mu^T w,\n",
    "\\end{equation*}$$\n",
    "subject to $$\\Sigma_{i} w_i \\leq B$$\n",
    "\n",
    "The case presented above is called integer portfolio optimization, since the domains $D_i$ are over the (positive) integers.\n",
    "Another variation of this problem defines weights over binary domains, and will not be discussed here."
   ]
  },
  {
   "cell_type": "code",
   "execution_count": null,
   "id": "952d49b3-5dc6-41a1-8822-0622df536cf7",
   "metadata": {
    "ExecuteTime": {
     "end_time": "2025-02-09T15:48:13.616761Z",
     "start_time": "2025-02-09T15:48:11.065175Z"
    },
    "id": "952d49b3-5dc6-41a1-8822-0622df536cf7",
    "tags": []
   },
   "outputs": [],
   "source": [
    "from typing import List\n",
    "\n",
    "import networkx as nx\n",
    "from classiq import *\n",
    "import math\n",
    "import matplotlib.pyplot as plt\n",
    "import numpy as np\n",
    "from scipy.optimize import minimize\n",
    "from classiq.execution import ExecutionSession, ExecutionPreferences"
   ]
  },
  {
   "cell_type": "markdown",
   "id": "7e5b8849-6460-4ab1-b661-f650ff6f8dbf",
   "metadata": {
    "id": "7e5b8849-6460-4ab1-b661-f650ff6f8dbf"
   },
   "source": [
    "#### Finaly, we will add inequality constraints:\n",
    "\n",
    "$$\\begin{equation*}\n",
    "\\min_{w \\in D}  w^T \\Sigma w - \\mu^T w,\n",
    "\\end{equation*}$$\n",
    "subject to:\n",
    "$$\\Sigma_{i} w_i \\leq B$$\n",
    "\n",
    "**We will do it similarly to the equality constraint but we add slack variable that can take multiple values to make sure $\\Sigma_{i} w_i \\leq B$**\n",
    "\n",
    "In this case, we will change the objective function as follows:\n",
    "\n",
    "$$\\begin{equation*}\n",
    "\\min_{w \\in D}  w^T \\Sigma w - \\mu^T w + P * (\\Sigma_{i} w_i + slack - B)^2\n",
    "\\end{equation*}$$\n",
    "\n",
    "Where $P$ is the penalty value you need to define."
   ]
  },
  {
   "cell_type": "markdown",
   "id": "e8e9ec0e",
   "metadata": {
    "id": "e8e9ec0e"
   },
   "source": [
    "# The Portfolio Optimization Problem Parameters\n",
    "\n",
    "First we define the parameters of the optimization problem, which include the expected return vector, the covariance matrix, the total budget and the asset-specific budgets."
   ]
  },
  {
   "cell_type": "code",
   "execution_count": null,
   "id": "6212e51c",
   "metadata": {
    "ExecuteTime": {
     "end_time": "2025-02-09T15:48:17.874486Z",
     "start_time": "2025-02-09T15:48:17.866201Z"
    },
    "id": "6212e51c",
    "pycharm": {
     "name": "#%%\n"
    },
    "tags": []
   },
   "outputs": [],
   "source": [
    "returns = np.array([3, 4, -1])\n",
    "# fmt: off\n",
    "covariances = np.array(\n",
    "    [\n",
    "        [ 0.9,  0.5, -0.7],\n",
    "        [ 0.5,  0.9, -0.2],\n",
    "        [-0.7, -0.2,  0.9],\n",
    "    ]\n",
    ")\n",
    "# fmt: on\n",
    "total_budget = 6"
   ]
  },
  {
   "cell_type": "markdown",
   "id": "26b76418-b96a-4076-8c39-cd32bb38e238",
   "metadata": {
    "id": "26b76418-b96a-4076-8c39-cd32bb38e238"
   },
   "source": [
    "## Defining the variables\n",
    "\n",
    "The number of slack qubits needs to reach to get to the number $B$."
   ]
  },
  {
   "cell_type": "code",
   "execution_count": null,
   "id": "38ba3dd2-c843-45fb-8ad2-c89882bb292c",
   "metadata": {
    "ExecuteTime": {
     "end_time": "2025-02-09T15:48:37.399915Z",
     "start_time": "2025-02-09T15:48:37.387849Z"
    },
    "id": "38ba3dd2-c843-45fb-8ad2-c89882bb292c"
   },
   "outputs": [],
   "source": [
    "num_assets = 3\n",
    "\n",
    "num_qubits_per_asset = 2 # Defines the possible values of choosing each asset.\n",
    "\n",
    "num_slack = 3\n",
    "\n",
    "class PortfolioOptimizationVars(QStruct):\n",
    "    a: QArray[QNum[num_qubits_per_asset], num_assets]\n",
    "    slack: QNum[num_slack]"
   ]
  },
  {
   "cell_type": "markdown",
   "id": "4324f835-ca83-40dc-83f8-6f99407cd211",
   "metadata": {
    "id": "4324f835-ca83-40dc-83f8-6f99407cd211"
   },
   "source": [
    "### Define the expected return\n",
    "Define a function that describes $\\mu^T w$ where $\\mu$ is the `return` vector."
   ]
  },
  {
   "cell_type": "code",
   "execution_count": null,
   "id": "3b14c4f2-5031-454a-9638-15ea9fd252dd",
   "metadata": {
    "ExecuteTime": {
     "end_time": "2025-02-09T15:48:40.198464Z",
     "start_time": "2025-02-09T15:48:40.191692Z"
    },
    "id": "3b14c4f2-5031-454a-9638-15ea9fd252dd"
   },
   "outputs": [],
   "source": [
    "def expected_return_cost(returns: np.ndarray, w_array: PortfolioOptimizationVars) -> float:\n",
    "    return sum(returns[i] * w_array.a[i] for i in range(len(returns)))"
   ]
  },
  {
   "cell_type": "markdown",
   "id": "4adb51f3-0623-4a62-9c9f-b7d514abc00d",
   "metadata": {
    "id": "4adb51f3-0623-4a62-9c9f-b7d514abc00d"
   },
   "source": [
    "### Define the risk term\n",
    "Define a function that describes the risk term in the objective function $w^T \\Sigma w$ where $\\Sigma$ is the `covariances` matrix.\n",
    "\n",
    "$$\\begin{equation*}\n",
    "\\min_{w \\in D}  w^T \\Sigma w - \\mu^T w + P * (\\Sigma_{i} w_i + slack - B)^2\n",
    "\\end{equation*}$$"
   ]
  },
  {
   "cell_type": "code",
   "execution_count": null,
   "id": "ddd211dd-57da-45d9-bc31-273670731eb7",
   "metadata": {
    "ExecuteTime": {
     "end_time": "2025-02-09T15:48:47.390625Z",
     "start_time": "2025-02-09T15:48:47.380404Z"
    },
    "id": "ddd211dd-57da-45d9-bc31-273670731eb7"
   },
   "outputs": [],
   "source": [
    "def risk_cost(covariances: np.ndarray, w_array: PortfolioOptimizationVars) -> float:\n",
    "    risk_term =  sum(\n",
    "        w_array.a[i] * sum(w_array.a[j] * covariances[i][j] for j in range(covariances.shape[0])) for i in range(covariances.shape[0])\n",
    "    )\n",
    "    return risk_term"
   ]
  },
  {
   "cell_type": "markdown",
   "id": "1ad5238e-1441-4272-a96d-acc26ae57778",
   "metadata": {
    "id": "1ad5238e-1441-4272-a96d-acc26ae57778"
   },
   "source": [
    "### Define the entire portfolio optimization objective function\n",
    "\n",
    "Combine the risk term and the expected return functions.\n",
    "There a a term called return coefficient `return_coeff` that defines how much you prefer certainly over return. Higher values is more risky but can be more profitable.\n",
    "\n",
    "Later try changing it to see how the result changes."
   ]
  },
  {
   "cell_type": "code",
   "execution_count": null,
   "id": "d6bd7c68-5308-4839-a93d-36d4417422c7",
   "metadata": {
    "id": "d6bd7c68-5308-4839-a93d-36d4417422c7"
   },
   "outputs": [],
   "source": [
    "return_coeff = 1.4\n",
    "Penalty = 1.3\n",
    "\n",
    "def objective_portfolio_inequality(\n",
    "    w_array: PortfolioOptimizationVars,\n",
    "    returns: np.ndarray, covariances: np.ndarray,\n",
    "    return_coeff: float) -> float:\n",
    "    # Your code\n",
    "\n",
    "    # Solution start\n",
    "    return risk_cost(covariances, w_array) - return_coeff * expected_return_cost(returns, w_array) + Penalty * (sum(w_array.a[i] for i in range(len(returns))) + w_array.slack - total_budget)**2\n",
    "    # Solution end"
   ]
  },
  {
   "cell_type": "markdown",
   "id": "330a4a66-2131-4d31-91c1-3e50e61939bb",
   "metadata": {
    "id": "330a4a66-2131-4d31-91c1-3e50e61939bb"
   },
   "source": [
    "# Build the QAOA circuit"
   ]
  },
  {
   "cell_type": "code",
   "execution_count": null,
   "id": "adf3d831-98b0-4368-b9e7-f09666963fe6",
   "metadata": {
    "id": "adf3d831-98b0-4368-b9e7-f09666963fe6"
   },
   "outputs": [],
   "source": [
    "@qfunc\n",
    "def mixer_layer(beta: CReal, qba: QArray[QBit]):\n",
    "    # Your code here\n",
    "    \n",
    "    # Solution start\n",
    "    apply_to_all(lambda q: RX(beta, q), qba)\n",
    "    # Solution end"
   ]
  },
  {
   "cell_type": "code",
   "execution_count": null,
   "id": "6ada4337-706d-4d57-81e8-ec324cc594a2",
   "metadata": {
    "id": "6ada4337-706d-4d57-81e8-ec324cc594a2"
   },
   "outputs": [],
   "source": [
    "NUM_LAYERS = 4\n",
    "\n",
    "@qfunc\n",
    "def main(\n",
    "    params: CArray[CReal, 2 * NUM_LAYERS],\n",
    "    w_array: Output[PortfolioOptimizationVars]) -> None:\n",
    "\n",
    "    # Allocating the qubits\n",
    "    allocate(num_qubits_per_asset * num_assets + num_slack, w_array)\n",
    "\n",
    "    # Your code\n",
    "\n",
    "    # Solution start\n",
    "    \n",
    "    hadamard_transform(w_array)\n",
    "\n",
    "    repeat(\n",
    "        count=params.len / 2,\n",
    "        iteration=lambda i: (\n",
    "            phase(\n",
    "                expr= objective_portfolio_inequality(w_array, returns, covariances, return_coeff),\n",
    "                theta = params[2 * i]\n",
    "            ),\n",
    "            mixer_layer(params[2 * i + 1], w_array)\n",
    "        )\n",
    "    )\n",
    "\n",
    "    # Solution end"
   ]
  },
  {
   "cell_type": "markdown",
   "id": "c4635335-aaf8-4400-ac5d-a945371c4fbf",
   "metadata": {
    "id": "c4635335-aaf8-4400-ac5d-a945371c4fbf"
   },
   "source": [
    "## Synthesizing and visualizing"
   ]
  },
  {
   "cell_type": "code",
   "execution_count": null,
   "id": "d87b0c1a-7ac6-431b-8bc9-9bd729a5afe1",
   "metadata": {
    "id": "d87b0c1a-7ac6-431b-8bc9-9bd729a5afe1"
   },
   "outputs": [],
   "source": [
    "qmod = create_model(main)\n",
    "qprog = synthesize(qmod)\n",
    "show(qprog)"
   ]
  },
  {
   "cell_type": "markdown",
   "id": "45090031-c412-4d16-958c-d478945f0fc9",
   "metadata": {
    "id": "45090031-c412-4d16-958c-d478945f0fc9"
   },
   "source": [
    "## Execution and post processing\n",
    "\n",
    "For the hybrid execution, we use `ExecutionSession`, which can evaluate the circuit in multiple methods, such as sampling the circuit, giving specific values for the parameters, and evaluating to a specific Hamiltonian, which is very common in chemical applications.\n",
    "\n",
    "In QAOA, we will use the `estimate_cost` method, which samples the cost function and returns their average cost from all measurements. That helps to optimize easily."
   ]
  },
  {
   "cell_type": "code",
   "execution_count": null,
   "id": "16acd6a4-db04-495e-985b-af32af9e1a00",
   "metadata": {
    "id": "16acd6a4-db04-495e-985b-af32af9e1a00"
   },
   "outputs": [],
   "source": [
    "NUM_SHOTS = 1000\n",
    "\n",
    "es = ExecutionSession(\n",
    "    qprog, execution_preferences=ExecutionPreferences(num_shots=NUM_SHOTS)\n",
    ")\n",
    "\n",
    "# Build `initial_params` list of np.array type.\n",
    "# The gamma values should start from 0 and, in each layer, should approach closer to 1 linearly\n",
    "# The beta values should start from 1 and in each layer, should approach closer to 0 linearly\n",
    "# Then unify it to one list so scipy minimize can digest it.\n",
    "# Your code here\n",
    "\n",
    "# Solution start\n",
    "def initial_qaoa_params(NUM_LAYERS) -> np.ndarray:\n",
    "    initial_gammas = math.pi * np.linspace(0, 1, NUM_LAYERS)\n",
    "    initial_betas = math.pi * np.linspace(1, 0, NUM_LAYERS)\n",
    "\n",
    "    initial_params = []\n",
    "\n",
    "    for i in range(NUM_LAYERS):\n",
    "        initial_params.append(initial_gammas[i])\n",
    "        initial_params.append(initial_betas[i])\n",
    "\n",
    "    return np.array(initial_params)\n",
    "\n",
    "# Solution end\n",
    "\n",
    "initial_params = initial_qaoa_params(NUM_LAYERS)"
   ]
  },
  {
   "cell_type": "markdown",
   "id": "elfDTha4CCvo",
   "metadata": {
    "collapsed": false,
    "id": "elfDTha4CCvo",
    "jupyter": {
     "outputs_hidden": false
    }
   },
   "source": [
    "## Define a callback function to track the optimization"
   ]
  },
  {
   "cell_type": "code",
   "execution_count": null,
   "id": "duPt2gRbCCvo",
   "metadata": {
    "id": "duPt2gRbCCvo"
   },
   "outputs": [],
   "source": [
    "# Record the steps of the optimization\n",
    "intermediate_params = []\n",
    "objective_values = []\n",
    "\n",
    "# Define the callback function to store the intermediate steps\n",
    "def callback(xk):\n",
    "    intermediate_params.append(xk)"
   ]
  },
  {
   "cell_type": "markdown",
   "id": "6e164011-0baa-4300-a337-430749683599",
   "metadata": {
    "id": "6e164011-0baa-4300-a337-430749683599"
   },
   "source": [
    "## Define the objective function"
   ]
  },
  {
   "cell_type": "code",
   "execution_count": null,
   "id": "fddf3739-d81a-492b-8eec-49b4a08c6f8a",
   "metadata": {
    "id": "fddf3739-d81a-492b-8eec-49b4a08c6f8a"
   },
   "outputs": [],
   "source": [
    "# You code\n",
    "# You can use the hints in the comments\n",
    "\n",
    "# cost_func = lambda state: objective_portfolio_inequality(\n",
    "#     w_array = ...,\n",
    "#     returns = ...,\n",
    "#     covariances = ...,\n",
    "#     return_coeff= ...\n",
    "# )\n",
    "# def estimate_cost_func(params: np.ndarray) -> float:\n",
    "#     objective_value = es.estimate_cost(\n",
    "#         cost_func = ...,\n",
    "#         parameters = {\"params\": params.tolist()}\n",
    "#     )\n",
    "#     # Your code here\n",
    "#     # Save the result for convergence graph\n",
    "\n",
    "#     return objective_value\n",
    "\n",
    "# Solution start\n",
    "\n",
    "cost_func = lambda state: objective_portfolio_inequality(\n",
    "    w_array = state[\"w_array\"],\n",
    "    returns = returns,\n",
    "    covariances = covariances,\n",
    "    return_coeff= return_coeff\n",
    ")\n",
    "\n",
    "def estimate_cost_func(params: np.ndarray) -> float:\n",
    "    objective_value = es.estimate_cost(\n",
    "        cost_func = cost_func,\n",
    "        parameters = {\"params\": params.tolist()}\n",
    "    )\n",
    "    objective_values.append(objective_value)\n",
    "    return objective_value\n",
    "    \n",
    "# Solution end"
   ]
  },
  {
   "cell_type": "markdown",
   "id": "6d74bf05-3849-4ded-aebe-2a642e9baaa3",
   "metadata": {
    "id": "6d74bf05-3849-4ded-aebe-2a642e9baaa3"
   },
   "source": [
    "## Optimize"
   ]
  },
  {
   "cell_type": "code",
   "execution_count": null,
   "id": "b0955a84-e63f-45ba-bbb6-12de7d83ed8f",
   "metadata": {
    "id": "b0955a84-e63f-45ba-bbb6-12de7d83ed8f"
   },
   "outputs": [],
   "source": [
    "# You code\n",
    "# You can use the hints in the comments\n",
    "\n",
    "# optimization_res = minimize(\n",
    "#     fun = ...,\n",
    "#     x0=...,\n",
    "#     method=\"COBYLA\",\n",
    "#     callback=...,\n",
    "#     options={\"maxiter\": 10},\n",
    "# )\n",
    "\n",
    "# Solution start\n",
    "\n",
    "optimization_res = minimize(\n",
    "    estimate_cost_func,\n",
    "    x0=initial_params,\n",
    "    method=\"COBYLA\",\n",
    "    callback=callback,\n",
    "    options={\"maxiter\": 20},\n",
    ")\n",
    "# Solution end"
   ]
  },
  {
   "cell_type": "markdown",
   "id": "b5b83326-df90-4105-a6a5-f617fdf6cf2e",
   "metadata": {
    "id": "b5b83326-df90-4105-a6a5-f617fdf6cf2e"
   },
   "source": [
    "## Look at the results"
   ]
  },
  {
   "cell_type": "code",
   "execution_count": null,
   "id": "732b6138-e1a4-4276-93ac-5c8df4985a6e",
   "metadata": {
    "id": "732b6138-e1a4-4276-93ac-5c8df4985a6e"
   },
   "outputs": [],
   "source": [
    "res = es.sample({\"params\": optimization_res.x.tolist()})\n",
    "\n",
    "print(f\"Optimized parameters: {optimization_res.x.tolist()}\")\n",
    "\n",
    "sorted_counts = sorted(res.parsed_counts, key=lambda pc: objective_portfolio_inequality(pc.state[\"w_array\"],returns = returns, covariances = covariances, return_coeff= return_coeff))\n",
    "\n",
    "for sampled in sorted_counts:\n",
    "    w_sample = sampled.state[\"w_array\"]\n",
    "    print(f\"solution={w_sample} probability={sampled.shots/NUM_SHOTS} \"\n",
    "          f\"cost={objective_portfolio_inequality(w_array=w_sample,returns = returns, covariances = covariances, return_coeff= return_coeff)}\")\n"
   ]
  },
  {
   "cell_type": "markdown",
   "id": "8fccb093-9791-43d9-bf23-eeb3a390b75a",
   "metadata": {
    "id": "8fccb093-9791-43d9-bf23-eeb3a390b75a"
   },
   "source": [
    "## Convergence graph"
   ]
  },
  {
   "cell_type": "code",
   "execution_count": null,
   "id": "33b4b3b5-fe83-4c96-9404-66d64063082a",
   "metadata": {
    "id": "33b4b3b5-fe83-4c96-9404-66d64063082a"
   },
   "outputs": [],
   "source": [
    "plt.plot(objective_values)\n",
    "plt.xlabel(\"Iteration\")\n",
    "plt.ylabel(\"Objective Value\")\n",
    "plt.title(\"Optimization Progress\")"
   ]
  },
  {
   "cell_type": "markdown",
   "id": "12177a69-5698-403f-8daf-3159ba656b8b",
   "metadata": {
    "id": "12177a69-5698-403f-8daf-3159ba656b8b"
   },
   "source": [
    "# Solution"
   ]
  },
  {
   "cell_type": "code",
   "execution_count": null,
   "id": "72de469d-debc-45d4-a5c6-1946373673c0",
   "metadata": {
    "ExecuteTime": {
     "end_time": "2024-11-24T09:56:30.985190Z",
     "start_time": "2024-11-24T09:54:53.311497Z"
    },
    "colab": {
     "base_uri": "https://localhost:8080/",
     "height": 1000
    },
    "id": "72de469d-debc-45d4-a5c6-1946373673c0",
    "outputId": "ef57bffa-a5d3-4adf-eafc-4c549d2a928b"
   },
   "outputs": [],
   "source": [
    "from typing import List\n",
    "\n",
    "import networkx as nx\n",
    "from classiq import *\n",
    "import math\n",
    "import matplotlib.pyplot as plt\n",
    "import numpy as np\n",
    "from scipy.optimize import minimize\n",
    "from classiq.execution import ExecutionSession, ExecutionPreferences\n",
    "\n",
    "NUM_LAYERS = 3\n",
    "\n",
    "num_slack = 3\n",
    "\n",
    "returns = np.array([3, 4, -1])\n",
    "# fmt: off\n",
    "covariances = np.array(\n",
    "    [\n",
    "        [ 0.9,  0.5, -0.7],\n",
    "        [ 0.5,  0.9, -0.2],\n",
    "        [-0.7, -0.2,  0.9],\n",
    "    ]\n",
    ")\n",
    "# fmt: on\n",
    "total_budget = 6\n",
    "specific_budgets = 3\n",
    "\n",
    "return_coeff = 10.0\n",
    "\n",
    "num_assets = 3\n",
    "\n",
    "num_qubits_per_asset = 2\n",
    "\n",
    "Penalty = 30.5\n",
    "\n",
    "# start with integer variables\n",
    "\n",
    "class PortfolioOptimizationVars(QStruct):\n",
    "    a: QArray[QNum[num_qubits_per_asset], num_assets]\n",
    "    slack: QNum[num_slack]\n",
    "\n",
    "def expected_return_cost(returns: np.ndarray, w_array: PortfolioOptimizationVars) -> float:\n",
    "    return sum(returns[i] * w_array.a[i] for i in range(len(returns)))\n",
    "\n",
    "def risk_cost(covariances: np.ndarray, w_array: PortfolioOptimizationVars) -> float:\n",
    "    risk_term =  sum(\n",
    "        w_array.a[i] * sum(w_array.a[j] * covariances[i][j] for j in range(covariances.shape[0])) for i in range(covariances.shape[0])\n",
    "    )\n",
    "    return risk_term\n",
    "\n",
    "\n",
    "def objective_portfolio_inequality(w_array: PortfolioOptimizationVars, returns: np.ndarray, covariances: np.ndarray, return_coeff: float) -> float:\n",
    "    return risk_cost(covariances, w_array) - \\\n",
    "        return_coeff * expected_return_cost(returns, w_array) + \\\n",
    "        Penalty * (sum(w_array.a[i] for i in range(len(returns))) + w_array.slack - total_budget)**2\n",
    "\n",
    "\n",
    "@qfunc\n",
    "def mixer_layer(beta: CReal, qba: QArray[QBit]):\n",
    "    apply_to_all(lambda q: RX(beta, q), qba)\n",
    "\n",
    "@qfunc\n",
    "def main(params: CArray[CReal, 2 * NUM_LAYERS], w_array: Output[PortfolioOptimizationVars]) -> None:\n",
    "    # allocate(len(returns), w_array)\n",
    "    allocate(num_qubits_per_asset * num_assets + num_slack, w_array)\n",
    "\n",
    "    hadamard_transform(w_array)\n",
    "\n",
    "    repeat(\n",
    "        count=params.len / 2,\n",
    "        iteration=lambda i: (\n",
    "            phase(\n",
    "                expr= objective_portfolio_inequality(w_array, returns, covariances, return_coeff),\n",
    "                theta = params[2 * i]\n",
    "            ),\n",
    "            mixer_layer(params[2 * i + 1], w_array)\n",
    "        )\n",
    "    )\n",
    "\n",
    "qmod = create_model(main)\n",
    "qprog = synthesize(qmod)\n",
    "show(qprog)\n",
    "\n",
    "\n",
    "NUM_SHOTS = 1000\n",
    "\n",
    "es = ExecutionSession(\n",
    "    qprog, execution_preferences=ExecutionPreferences(num_shots=NUM_SHOTS)\n",
    ")\n",
    "\n",
    "def initial_qaoa_params(NUM_LAYERS) -> np.ndarray:\n",
    "    initial_gammas = math.pi * np.linspace(0, 1, NUM_LAYERS)\n",
    "    initial_betas = math.pi * np.linspace(1, 0, NUM_LAYERS)\n",
    "\n",
    "    initial_params = []\n",
    "\n",
    "    for i in range(NUM_LAYERS):\n",
    "        initial_params.append(initial_gammas[i])\n",
    "        initial_params.append(initial_betas[i])\n",
    "\n",
    "    return np.array(initial_params)\n",
    "\n",
    "initial_params = initial_qaoa_params(NUM_LAYERS)\n",
    "\n",
    "# Record the steps of the optimization\n",
    "intermediate_params = []\n",
    "objective_values = []\n",
    "\n",
    "# Define the callback function to store the intermediate steps\n",
    "def callback(xk):\n",
    "    intermediate_params.append(xk)\n",
    "\n",
    "cost_func = lambda state: objective_portfolio_inequality(\n",
    "    w_array = state[\"w_array\"],\n",
    "    returns = returns,\n",
    "    covariances = covariances,\n",
    "    return_coeff= return_coeff\n",
    ")\n",
    "\n",
    "def estimate_cost_func(params: np.ndarray) -> float:\n",
    "    objective_value = es.estimate_cost(\n",
    "        cost_func = cost_func,\n",
    "        parameters = {\"params\": params.tolist()}\n",
    "    )\n",
    "    objective_values.append(objective_value)\n",
    "    return objective_value\n",
    "\n",
    "\n",
    "optimization_res = minimize(\n",
    "    estimate_cost_func,\n",
    "    x0=initial_params,\n",
    "    method=\"COBYLA\",\n",
    "    callback=callback,\n",
    "    options={\"maxiter\": 20},\n",
    ")\n",
    "\n",
    "res = es.sample({\"params\": optimization_res.x.tolist()})\n",
    "\n",
    "print(f\"Optimized parameters: {optimization_res.x.tolist()}\")\n",
    "\n",
    "sorted_counts = sorted(res.parsed_counts, key=lambda pc: objective_portfolio_inequality(pc.state[\"w_array\"],returns = returns, covariances = covariances, return_coeff= return_coeff))\n",
    "\n",
    "for sampled in sorted_counts:\n",
    "    w = sampled.state[\"w_array\"]\n",
    "    print(f\"solution={w} probability={sampled.shots/NUM_SHOTS} \"\n",
    "          f\"cost={objective_portfolio_inequality(w_array=w,returns = returns, covariances = covariances, return_coeff= return_coeff)}\")\n",
    "\n",
    "plt.plot(objective_values)\n",
    "plt.xlabel(\"Iteration\")\n",
    "plt.ylabel(\"Objective Value\")\n",
    "plt.title(\"Optimization Progress\")\n"
   ]
  }
 ],
 "metadata": {
  "colab": {
   "provenance": []
  },
  "kernelspec": {
   "display_name": "Python 3 (ipykernel)",
   "language": "python",
   "name": "python3"
  },
  "language_info": {
   "codemirror_mode": {
    "name": "ipython",
    "version": 3
   },
   "file_extension": ".py",
   "mimetype": "text/x-python",
   "name": "python",
   "nbconvert_exporter": "python",
   "pygments_lexer": "ipython3",
   "version": "3.11.4"
  },
  "vscode": {
   "interpreter": {
    "hash": "a07aacdcc8a415e7643a2bc993226848ff70704ebef014f87460de9126b773d0"
   }
  }
 },
 "nbformat": 4,
 "nbformat_minor": 5
}
