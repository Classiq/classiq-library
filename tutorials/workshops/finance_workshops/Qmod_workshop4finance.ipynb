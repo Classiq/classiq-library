{
 "cells": [
  {
   "cell_type": "markdown",
   "metadata": {},
   "source": [
    "# The Qmod Workshop -  Introduction\n",
    "\n",
    "The Classiq platform features a high-level quantum modeling language called Qmod. Qmod is compiled into concrete gate-level implementation using a powerful synthesis engine that optimizes and adapts the implementation to different target hardware/simulation environments.\n",
    "\n",
    "In this workshop, we will learn how to write quantum models using Qmod. We will be using the Python embedding of Qmod, available as part of the Classiq Python SDK. We will learn basic concepts in the Qmod language, such as functions, operators, quantum variables, and quantum types. \n",
    "\n",
    "The [Classiq webpage](https://docs.classiq.io/latest/) covers these concepts more systematically and includes more examples. For specific function you can use the [reference manual](https://docs.classiq.io/latest/qmod-reference) tab.\n",
    "\n",
    "This workshop consists of step-by-step exercises. It is structured as 5 exercises: Language Fundamentals - Exercises 1-5.\n",
    "\n",
    "For each exercise, find the solution at the bottom of the notebook.\n",
    "\n",
    "### Preparations\n",
    "\n",
    "Make sure you have a Python version of 3.9 through 3.12 installed.\n",
    "\n",
    "Install Classiq’s Python SDK by following the instructions on this page: [Getting Started - Classiq](https://docs.classiq.io/latest/classiq_101/registration_installations).\n"
   ]
  },
  {
   "cell_type": "markdown",
   "metadata": {},
   "source": [
    "### Designing a quantum program\n",
    "\n",
    "The first step in quantum software development is designing your software and your algorithm. Classiq features a unique high-level modeling language called Qmod that naturally captures the core concepts of quantum algorithm design. There are two ways to design in Qmod:\n",
    "* Directly, via the Classiq IDE using the Qmod native syntax\n",
    "* With Classiq Python SDK package, that gives access to the Qmod language via Python\n",
    "\n",
    "Once you finish designing your algorithm, you send it to the Classiq synthesis engine (compiler) to create a concrete quantum circuit implementation - a quantum program.\n",
    "\n",
    "Through the following example, we will explain some basic Qmod principles."
   ]
  },
  {
   "cell_type": "markdown",
   "metadata": {},
   "source": [
    "## Example\n",
    "\n",
    "Let's get started and understand Qmod through a concrete example.\n",
    "\n",
    "\n",
    "Our task is to design a quantum algorithm that computes the arithmtic operation $y=x^2+1$ coherently for a quantum variable $|x\\rangle$ that is a superposition of all the numbers between $0$ and $7$:\n",
    "$\\begin{equation}\n",
    "|x\\rangle = \\frac{1}{\\sqrt{8}}(|0\\rangle+|1\\rangle+\\dots +|7\\rangle.\n",
    "\\end{equation}$\n",
    "The expected output is \n",
    "\n",
    "$\\begin{equation}\n",
    "|x\\rangle |y\\rangle = |x\\rangle |x^2+1\\rangle = \\frac{1}{\\sqrt{8}}\\sum_{i=0}^{7}|i\\rangle|i^2+1\\rangle,\n",
    "\\end{equation}$\n",
    "where $|x\\rangle$ is entangled to $|y\\rangle$.\n",
    "\n",
    "Sounds complicated? The following code in Qmod with a few lines creates the desired algorithm with Classiq:"
   ]
  },
  {
   "cell_type": "code",
   "execution_count": null,
   "metadata": {},
   "outputs": [],
   "source": [
    "from classiq import *\n",
    "\n",
    "\n",
    "@qfunc\n",
    "def main(x: Output[QNum], y: Output[QNum]):\n",
    "    allocate(4, x)\n",
    "    hadamard_transform(x)  # creates a uniform superposition\n",
    "    y |= x**2 + 1"
   ]
  },
  {
   "cell_type": "markdown",
   "metadata": {},
   "source": [
    "The desired quantum program can be synthesized and viewed. Since this proccess is done on Classiq cloud, we will authenticate first."
   ]
  },
  {
   "cell_type": "markdown",
   "metadata": {},
   "source": [
    "Synthesize the quantum program:"
   ]
  },
  {
   "cell_type": "code",
   "execution_count": null,
   "metadata": {},
   "outputs": [],
   "source": [
    "qprog = synthesize(main)"
   ]
  },
  {
   "cell_type": "markdown",
   "metadata": {},
   "source": [
    "The quantum program is now ready for execution. We can visualize it using the `show` function."
   ]
  },
  {
   "cell_type": "code",
   "execution_count": null,
   "metadata": {},
   "outputs": [],
   "source": [
    "show(qprog)"
   ]
  },
  {
   "cell_type": "markdown",
   "metadata": {},
   "source": [
    "## Executing"
   ]
  },
  {
   "cell_type": "markdown",
   "metadata": {},
   "source": [
    "Execution process is also done through the Classiq cloud. We will execute the quantum program, save the job, and get the results."
   ]
  },
  {
   "cell_type": "code",
   "execution_count": null,
   "metadata": {},
   "outputs": [],
   "source": [
    "job = execute(qprog)\n",
    "job.open_in_ide()"
   ]
  },
  {
   "cell_type": "code",
   "execution_count": null,
   "metadata": {},
   "outputs": [],
   "source": [
    "result = job.result_value()\n",
    "result.parsed_counts"
   ]
  },
  {
   "cell_type": "code",
   "execution_count": null,
   "metadata": {},
   "outputs": [],
   "source": [
    "import matplotlib.pyplot as plt\n",
    "\n",
    "x = [result.parsed_counts[i].state[\"x\"] for i in range(len(result.parsed_counts))]\n",
    "y = [result.parsed_counts[i].state[\"y\"] for i in range(len(result.parsed_counts))]\n",
    "plt.plot(x, y, \"ro\", label=\"quantum results\")\n",
    "plt.plot(sorted(x), [i**2 + 1 for i in sorted(x)], label=\"y=x^2+1\")\n",
    "plt.xlabel(\"x\")\n",
    "plt.ylabel(\"y\")\n",
    "plt.legend()\n",
    "plt.title(\"y vs x\")\n",
    "plt.show()"
   ]
  },
  {
   "cell_type": "markdown",
   "metadata": {},
   "source": [
    "## Key Qmod Principles"
   ]
  },
  {
   "cell_type": "markdown",
   "metadata": {},
   "source": [
    "<u>**1) There must be a `qfunc` decorator in Python or keyword in the native syntax**</u>\n",
    "\n",
    "We can see the `qfunc` decorator (`@qfunc`) in the Python implementation and the corresponding keyword in the native implementation. In Qmod, we are dealing with quantum functions that manipulate quantum objects.\n",
    "\n",
    "<u>**2) There must be a `main` function**</u>\n",
    "\n",
    "Every quantum algorithm written in Qmod must have a `main` function. From this `main` function, the quantum program is created using the `synthesize(create_model(main))` command in Python or just by pressing the Synthesis button in the IDE.\n",
    "\n",
    "<u>**3) The arguments of the `main` function must be declared as `Output`s** (for non-variational circuits)</u>\n",
    "\n",
    "In the above example, there are two arguments for the `main` function: `x` and `y`, both of which are [quantum variables](https://docs.classiq.io/latest/qmod-reference/language-reference/quantum-variables). The type of both them is `QNum`, which stands for a quantum number, a type of `quantum variable`. In addition to the type, the variables of the `main` function must be declared as `Output` which indicates these quantum variables are not initialized outside the scope of the function. The `Output`s are measured, unlike auxiliary qubits.\n",
    "<details> \n",
    "<summary> Types of Quantum Variables </summary>\n",
    "In Qmod, there are few types of quantum variables:\n",
    "\n",
    "1. `QBit` (`qbit`)\n",
    "2. `QArray[QBit]` (`qbit[]`) and `QArray[QNum]` (`qnum[]`)\n",
    "3. `QNum[N,S,F]` (`qnum<N,S,F>`) - quantum number with N qubits, S for signed or unsigned, and F fraction bits\n",
    "4. 'QStruct' (`qstruct`) - Struct of quantum variables\n",
    "</details>\n",
    "\n",
    "\n",
    "<u>**4) Every quantum variable needs to be declared before it is used**</u>\n",
    "\n",
    "Here, we declare the variables `x` and `y` as arguments of the `main` function; but we could also declare variables in the scope of a function, see again [Quantum Variables](https://docs.classiq.io/latest/qmod-reference/language-reference/quantum-variables).\n",
    "<details> \n",
    "<summary> Declaration within a Scope of a Function </summary>\n",
    "You can declare a quantum variable within the scope of a function with \n",
    "\n",
    "`x = QNum('x')`\n",
    "\n",
    "</details>\n",
    "\n",
    "<u>**5) Every quantum variable needs to be initialized**</u>\n",
    "\n",
    "After a quantum variable is declared, it needs to be initialized. There are several ways to initialize quantum variables, and in the above example, we can see two ways:\n",
    "\n",
    "* `x` is initialized with the `allocate` operation.\n",
    "* `y` i initialized with the `|=` numeric assignment.\n",
    "\n",
    "<details> \n",
    "<summary> Types of Initializations </summary>\n",
    "There are a few ways to initialize a quantum variable:\n",
    "\n",
    "1. With `allocate` or `allocate_num`.\n",
    "2. With `prepare_int`, `prepare_state` or `prepare_amplitudes`.\n",
    "3. As the result of a numeric operation, like in the example above.\n",
    "4. With the `bind` operation.\n",
    "5. With any function that declares its quantum variable argument as `Output`.\n",
    "\n",
    "</details>"
   ]
  },
  {
   "cell_type": "markdown",
   "metadata": {},
   "source": [
    "### Python Qmod Exercises - General Instructions\n",
    "\n",
    "Quantum functions manipulate quantum objects, which are represented using quantum variables. Every variable needs to be declared and initialized before it is used.\n",
    "\n",
    "In order to synthesize and execute your Qmod code, you should:\n",
    "1. Make sure you define a `main` function that calls functions you create.\n",
    "2. Use `create_model` by running `qmod = create_model(main)` to construct a representation of your model.\n",
    "3. You can synthesize the model (using `qprog = synthesize(qmod)`) to obtain an implementation - a quantum program.\n",
    "4. You can then visualize the quantum program (`show(qprog)`) or execute it using `execute(qprog)`. See: [Execution - Classiq](https://github.com/Classiq/classiq-library/blob/main/tutorials/classiq_101/classiq_concepts/execute/execute.ipynb). You can also execute it with the IDE after visualizing the circuit."
   ]
  },
  {
   "cell_type": "markdown",
   "metadata": {},
   "source": [
    "### Exercise 0: From Model to Execution\n",
    "\n",
    "The following model defines a function that applies X and H gates on a single qubit and subsequently calls it:"
   ]
  },
  {
   "cell_type": "code",
   "execution_count": null,
   "metadata": {},
   "outputs": [],
   "source": [
    "# Define a quantum function using the @qfunc decorator\n",
    "@qfunc\n",
    "def foo(q: QBit) -> None:\n",
    "    X(target=q)\n",
    "    H(target=q)\n",
    "\n",
    "\n",
    "# Define a main function\n",
    "@qfunc\n",
    "def main(res: Output[QBit]) -> None:\n",
    "    allocate(1, res)\n",
    "    foo(q=res)"
   ]
  },
  {
   "cell_type": "markdown",
   "metadata": {},
   "source": [
    "Create a model from it, and synthesize, visualize, and execute it.\n",
    "Use the General Instructions above to do so.\n",
    "\n",
    "In this exercise, the entire code is provided. \n",
    "You can run this cell to see the created quantum program. \n",
    "Then, execute the quantum program from the IDE:\n"
   ]
  },
  {
   "cell_type": "code",
   "execution_count": null,
   "metadata": {},
   "outputs": [],
   "source": [
    "qmod = create_model(main)\n",
    "qprog = synthesize(qmod)\n",
    "show(qprog)"
   ]
  },
  {
   "cell_type": "markdown",
   "metadata": {},
   "source": [
    "In Qmod, `QBit` is the simplest [quantum type](https://docs.classiq.io/latest/qmod-reference/language-reference/quantum-types), and in this example, `q` is a quantum variable of type `QBit`. Quantum variables abstract away the mapping of quantum objects to qubits in the actual circuit.\n",
    "\n",
    "We will discuss other quantum types during the workshop."
   ]
  },
  {
   "cell_type": "markdown",
   "metadata": {},
   "source": [
    "# The Qmod Workshop - Language Fundamentals\n",
    "\n",
    "Follow exercises 1 through 5.\n",
    "\n",
    "In the exercises, we import the functions you need to use."
   ]
  },
  {
   "cell_type": "markdown",
   "metadata": {},
   "source": [
    "## Exercise 1 - Bell Pair\n",
    "\n",
    "Create a function that takes two single-qubit (`QBit`) quantum arguments and prepares the bell state on them [Bell state](https://github.com/Classiq/classiq-library/blob/main/functions/qmod_library_reference/classiq_open_library/special_state_preparations/prepare_bell_state.ipynb) by applying `H` on one variable and then using it as the control of a `CX` function with the second variable as the target.\n",
    "The Bell state is:\n",
    "$$\n",
    "|\\psi>= \\frac{1}{\\sqrt{2}} (|00> + |11>)\n",
    "$$\n",
    "with integer it is converted to $\\frac{1}{\\sqrt{2}} (|0> + |3>)$.\n",
    "Create a `main` function that uses this function and has two single-qubit outputs, initialize them to the |0> state (using the `allocate` function), and apply your function to them.\n",
    "\n",
    "See also explanation on the [main](https://docs.classiq.io/latest/qmod-reference/language-reference/quantum-entry-point) and on quantum [functions](https://docs.classiq.io/latest/qmod-reference/language-reference/functions)."
   ]
  },
  {
   "cell_type": "markdown",
   "metadata": {},
   "source": [
    "### See an example using the state preparation function"
   ]
  },
  {
   "cell_type": "code",
   "execution_count": null,
   "metadata": {},
   "outputs": [],
   "source": [
    "from classiq import Output, QArray, create_model, prepare_state, qfunc, show, synthesize\n",
    "\n",
    "\n",
    "@qfunc\n",
    "def main(q: Output[QArray]) -> None:\n",
    "    prepare_state([0.5, 0, 0, 0.5], 0, q)\n",
    "\n",
    "\n",
    "qmod = create_model(main)\n",
    "qprog = synthesize(qmod)\n",
    "show(qprog)"
   ]
  },
  {
   "cell_type": "markdown",
   "metadata": {},
   "source": [
    "## Synthesize the same circuit using basic gates\n",
    "### Use the gates `CX` and `H`\n",
    "**Uncomment the last lines of the synthesis to see the circuit.**"
   ]
  },
  {
   "cell_type": "code",
   "execution_count": null,
   "metadata": {},
   "outputs": [],
   "source": [
    "# hint CX accept CX(control: QBit, target: QBit\n",
    "\n",
    "\n",
    "@qfunc\n",
    "def bell(q0: QBit, q1: QBit) -> None:\n",
    "    # Delete the \"pass\" call and add your code here:\n",
    "    pass\n",
    "\n",
    "\n",
    "@qfunc\n",
    "def main(qubit0: Output[QBit], qubit1: Output[QBit]) -> None:\n",
    "    # Delete the \"pass\" call and add your code here:\n",
    "    # Use allocate before the bell function\n",
    "    pass\n",
    "\n",
    "\n",
    "# qmod = create_model(main)\n",
    "# qprog = synthesize(qmod)\n",
    "# show(qprog)"
   ]
  },
  {
   "cell_type": "markdown",
   "metadata": {},
   "source": [
    "Did you get the same circuit?\n",
    "\n",
    "Did you get the same execution result?"
   ]
  },
  {
   "cell_type": "markdown",
   "metadata": {},
   "source": [
    "## Exercise 2 - Basic arithmetic a and HW-aware-synthesis\n",
    "### The exercise instructions are below\n",
    "In this exercise, we will use quantum numeric variables and calculate expressions over them.\n",
    "\n",
    "See details on the syntax of numeric types under [Quantum types](https://docs.classiq.io/latest/qmod-reference/language-reference/quantum-types).\n",
    "See more on quantum expressions under [Numeric assignment](https://docs.classiq.io/latest/qmod-reference/language-reference/statements/numeric-assignment).\n",
    "\n",
    "Create a quantum program using the following steps:\n",
    "1. Initialize variables `x=-5.25` using the `|=` operator.\n",
    "2. Initialize`y` to a superposition of the numbers 0 to 7.\n",
    "3. computes `res = x + y`.\n",
    "\n",
    "Guidance:\n",
    "* Use the operator `|=` to perform out-of-place assignment of arithmetic expression.\n",
    "* To initialize the variables, use the function `|=` too.\n",
    "* Using `allocate` command to allocate qubits from the memory.\n",
    "* `hadamard_transform` for applying the Hadamard gate on a qubits will create equal superposition.\n",
    "### See an addition of 2 numbers"
   ]
  },
  {
   "cell_type": "code",
   "execution_count": null,
   "metadata": {},
   "outputs": [],
   "source": [
    "@qfunc\n",
    "def main(x: Output[QNum], y: Output[QNum], res: Output[QNum]) -> None:\n",
    "    x |= -5.25\n",
    "    allocate(3, y)\n",
    "    hadamard_transform(y)\n",
    "    res |= x + y\n",
    "\n",
    "\n",
    "qmod = create_model(main)\n",
    "qprog = synthesize(qmod)\n",
    "show(qprog)"
   ]
  },
  {
   "cell_type": "markdown",
   "metadata": {},
   "source": [
    "### Optimize depth\n",
    "You can optimize the width as well."
   ]
  },
  {
   "cell_type": "code",
   "execution_count": null,
   "metadata": {},
   "outputs": [],
   "source": [
    "qmod = create_model(\n",
    "    entry_point=main, constraints=Constraints(optimization_parameter=\"depth\")  # \"width\"\n",
    ")\n",
    "qprog = synthesize(qmod)\n",
    "show(qprog)"
   ]
  },
  {
   "cell_type": "markdown",
   "metadata": {},
   "source": [
    "### Optimize synthesis to a specific computer\n",
    "**Uncomment the commented line to synthesize to a specific backend.**"
   ]
  },
  {
   "cell_type": "code",
   "execution_count": null,
   "metadata": {},
   "outputs": [],
   "source": [
    "qmod = create_model(\n",
    "    entry_point=main,\n",
    "    preferences=Preferences(\n",
    "        backend_service_provider=\"IBM Quantum\", backend_name=\"ibm_brisbane\"\n",
    "    ),\n",
    "    constraints=Constraints(optimization_parameter=\"depth\"),\n",
    ")\n",
    "qprog = synthesize(qmod)\n",
    "show(qprog)"
   ]
  },
  {
   "cell_type": "markdown",
   "metadata": {},
   "source": [
    "### Optimize synthesis to custom-made HW like QuEra basis gates"
   ]
  },
  {
   "cell_type": "code",
   "execution_count": null,
   "metadata": {},
   "outputs": [],
   "source": [
    "qmod = create_model(\n",
    "    entry_point=main,\n",
    "    preferences=Preferences(\n",
    "        custom_hardware_settings=CustomHardwareSettings(basis_gates=[\"u\", \"cp\", \"cz\"])\n",
    "    ),\n",
    "    constraints=Constraints(optimization_parameter=\"depth\"),\n",
    ")\n",
    "qprog = synthesize(qmod)\n",
    "show(qprog)"
   ]
  },
  {
   "cell_type": "markdown",
   "metadata": {},
   "source": [
    "Explore the resulted circuit. What is the difference between the circuit of each of the HW?"
   ]
  },
  {
   "cell_type": "markdown",
   "metadata": {},
   "source": [
    "## Do the exercise here\n",
    "Create the following quantum programs:\n",
    "1. Initialize variables `x=2.25`, $y=\\frac{1}{\\sqrt{8}}\\sum_{i=0}^7{|i\\rangle}$ and computes `res = x + y`.\n",
    "2. Initialize variables `x=2.25`, $y=\\frac{1}{\\sqrt{8}}\\sum_{i=0}^7{|i\\rangle}$ and computes `res = x * y`.\n",
    "3. Initialize variables `x=2.25`, $y=\\frac{1}{\\sqrt{8}}\\sum_{i=0}^7{|i\\rangle}$, `z=1` and computes `res = x * y - z`.\n",
    "\n",
    "Guidance:\n",
    "* Use the operator `|=` to perform out-of-place assignment of arithmetic expression.\n",
    "* To initialize the variables, use the function `|=` too.\n",
    "* Using `allocate` command to allocate qubits from the memory.\n",
    "* `hadamard_transform` for applying the Hadamard gate on a qubits will create equal superposition.\n",
    "\n",
    "### Choose an optimization target, e.g., width, depth, a specific computer, etc.\n",
    "**Uncomment the last lines and fill in the missing parts to see the circuit.**"
   ]
  },
  {
   "cell_type": "code",
   "execution_count": null,
   "metadata": {},
   "outputs": [],
   "source": [
    "@qfunc\n",
    "def main(x: Output[QNum], y: Output[QNum], z: Output[QNum], res: Output[QNum]) -> None:\n",
    "    # Your code here\n",
    "    pass\n",
    "\n",
    "\n",
    "# qmod = create_model(\n",
    "#     entry_point=main,\n",
    "#     # preferences=Preferences(\n",
    "#     #     backend_service_provider = \"Choose a vendor\" -> \"IBM Quantum\",\"Azure Quantum\", \"Amazon Braket\", \"IonQ\"\n",
    "#     #     backend_name = \"Choose a computer\"\n",
    "#     # ),\n",
    "#     # constraints=Constraints(\n",
    "#     #     optimization_parameter = \"depth\", \"width\",\n",
    "#     #     max_width = \"choose a number\" # `\"max_width\"` is the maximum number of qubits you allow to use, and still optimize on `\"depth\"`.\n",
    "#     # )\n",
    "# )\n",
    "# qprog = synthesize(qmod)\n",
    "# show(qprog)\n",
    "\n",
    "# job = execute(qprog)\n",
    "# job.open_in_ide()\n",
    "# result = job.result_value()\n",
    "#\n",
    "# for r in result.parsed_counts:\n",
    "#     print(r)"
   ]
  },
  {
   "cell_type": "markdown",
   "metadata": {},
   "source": [
    "## Exercise 3 - Repeat\n",
    "\n",
    "Use the built-in `repeat` operator to create your own Hadamard transform function (call it `my_hadamard_transform`). The Hadamard transform function is a function that takes as an argument a qubit array of an unspecified size and applies `H` to each of its qubits.\n",
    "\n",
    "See also [Classical repeat](https://docs.classiq.io/latest/qmod-reference/language-reference/statements/classical-control-flow/#classical-repeat).\n",
    "Set your `main` function to have a quantum array output of unspecified size, allocate 10 qubits, and then apply your Hadamard transform function.\n",
    "\n",
    "#### See the example of what you need to do later on but with the `repeat` construct"
   ]
  },
  {
   "cell_type": "code",
   "execution_count": null,
   "metadata": {},
   "outputs": [],
   "source": [
    "@qfunc\n",
    "def main(reg: Output[QArray]) -> None:\n",
    "    allocate(10, reg)\n",
    "    hadamard_transform(reg)\n",
    "\n",
    "\n",
    "qmod = create_model(main)\n",
    "qprog = synthesize(qmod)\n",
    "show(qprog)\n",
    "\n",
    "job = execute(qprog)\n",
    "job.open_in_ide()"
   ]
  },
  {
   "cell_type": "markdown",
   "metadata": {},
   "source": [
    "## Generate a similar quantum circuit using `H` and `repeat`\n",
    "\n",
    "##### Note: Quantum Variable Capture\n",
    "The `repeat` operator invokes a statement block multiple times. The statement block is specified using a Python callable, typically a `lambda` expression. Inside the block, you can refer to variables declared in the outer function scope.\n",
    "This concept is called `quantum variable capture`, equivalent to [capture](https://en.wikipedia.org/wiki/Closure_(computer_programming)) in classical languages.\n",
    "\n",
    "See also capturing context [variables](https://github.com/Classiq/classiq-library/blob/main/tutorials/classiq_101/classiq_concepts/design/quantum_variables_and_functions/quantum_variables_and_functions.ipynb) and parameters and [operators](https://docs.classiq.io/latest/qmod-reference/language-reference/operators)."
   ]
  },
  {
   "cell_type": "code",
   "execution_count": null,
   "metadata": {},
   "outputs": [],
   "source": [
    "# Your code here:\n",
    "# For the repeat Callable function, you need to use Pythonic lambda\n",
    "\n",
    "qmod = create_model(main)\n",
    "qprog = synthesize(qmod)\n",
    "show(qprog)\n",
    "\n",
    "job = execute(qprog)\n",
    "job.open_in_ide()"
   ]
  },
  {
   "cell_type": "markdown",
   "metadata": {},
   "source": [
    "## Exercise 3b - make the [GHZ state](https://en.wikipedia.org/wiki/Greenberger%E2%80%93Horne%E2%80%93Zeilinger_state) for 10 qubits\n",
    "The GHZ is a generalization of the Bell state for any number of qubits greater than two.\n",
    "\n",
    "**Fill in the missing parts and uncomment the last lines of the synthesis to see the circuit.**"
   ]
  },
  {
   "cell_type": "code",
   "execution_count": null,
   "metadata": {},
   "outputs": [],
   "source": [
    "@qfunc\n",
    "def cx_to_all_qubits(reg: QArray) -> None:\n",
    "    # Use repeat; count is the number reg.len - 1,\n",
    "    # In the iteration of the repeat, put CX on every qubit, one after another,\n",
    "    # (the first qubit has only control, the last qubits get only target, all the other are first a target of CX and the control)\n",
    "    pass\n",
    "\n",
    "\n",
    "@qfunc\n",
    "def main(reg: Output[QArray]) -> None:\n",
    "    # Allocate 10 qubits\n",
    "    # Put Hadamard on the first qubit\n",
    "    # Call function that puts cx to all qubits, one after another, using repeat\n",
    "    # cx_to_all_qubits(reg)\n",
    "    pass\n",
    "\n",
    "\n",
    "# qmod = create_model(main)\n",
    "# qprog = synthesize(qmod)\n",
    "# show(qprog)\n",
    "\n",
    "# job = execute(qprog)\n",
    "# job.open_in_ide()"
   ]
  },
  {
   "cell_type": "markdown",
   "metadata": {},
   "source": [
    "### Exercise 4 - control (the quantum if statement)\n",
    "The `control` operator is the conditional operation, with the condition being that the control qubit is in the state |1>, then an operation is applied on the second qubit. This notion is generalized in QMOD to other control states, where the condition is specified as a comparison between a quantum numeric variable, symbolic expression, `QArray` for example the [multi-control gates](https://github.com/Classiq/classiq-library/blob/main/functions/function_usage_examples/mcx/mcx_example.ipynb) and `QBit` (for simple control operation) and a numeric value, **very similar to a classical `if` statement.** Quantum numeric variables are declared with class `QNum`.\n",
    "\n",
    "See also [Numeric types](https://docs.classiq.io/latest/qmod-reference/language-reference/quantum-types).\n",
    "\n",
    "In QMOD, this generalization is available as a native `control` function.\n",
    "\n",
    "See also [control](https://docs.classiq.io/latest/qmod-reference/language-reference/statements/control), and follow the instructions:\n",
    "\n",
    "1. Declare a `QNum` output argument using `Output[QNum]` and name it `x`.\n",
    "2. Use the `allocate` and `hadamard_transform` operator function to initialize it to an equal superposition.\n",
    "3. Execute the circuit and observe the results.\n",
    "4. Declare another output argument of type `QBit` and perform a `control` such that under the condition that `x` is 9, the qubit is flipped. Execute the circuit and observe the results. Repeat for a different condition.\n",
    "\n",
    "Example of control: `control(ctrl = x==9, operand = lambda: H(q))` where `q` is a qubit.\n",
    "The `control` is applied only for states that `x==9` and apply a `H` gate on it.\n",
    "\n",
    "**Fill in the missing parts and uncomment the last lines of the synthesis to see the circuit.**"
   ]
  },
  {
   "cell_type": "code",
   "execution_count": null,
   "metadata": {},
   "outputs": [],
   "source": [
    "# Your code here:\n",
    "@qfunc\n",
    "def main(x: Output[QNum], target: Output[QBit]) -> None:\n",
    "    # Make an equal superposition of the x variable\n",
    "    # Allocate the target register to have 1 qubit\n",
    "    # Use control that accept control(ctrl = , operand = )\n",
    "    # In the operand, use the lambda function using the X gate\n",
    "    # Your code here:\n",
    "    pass\n",
    "\n",
    "\n",
    "# qmod = create_model(main)\n",
    "# qprog = synthesize(qmod)\n",
    "# show(qprog)\n",
    "\n",
    "# job = execute(qprog)\n",
    "# result = job.result_value()\n",
    "#\n",
    "# for r in result.parsed_counts:\n",
    "#     print(r)"
   ]
  },
  {
   "cell_type": "markdown",
   "metadata": {},
   "source": [
    "#### Exercise 5 - Basic Arithmetics b\n",
    "Declare `x` to be a 2-qubit variable and `y` to be a 3-qubit variable.\n",
    "\n",
    "We will perform an addition of two superposition states: `x` is an equal superposition of `0` and `2`, and `y` is an equal superposition of `1`, `2`, `3`, and `6`.\n",
    "\n",
    "1. Use `prepare_state` to initialize `x` and `y`. Note that `prepare_state` works with probabilities, not amplitudes.\n",
    "   The declaration of the `prepare_state` function is:\n",
    "   ```\n",
    "        @qfunc(external=True)\n",
    "        def prepare_state(\n",
    "            probabilities: CArray[CReal],\n",
    "            bound: CReal,\n",
    "            out: Output[QArray[QBit]],\n",
    "        ) -> None:\n",
    "            pass\n",
    "   ```\n",
    "   (Set the bound to 0 in your code)\n",
    "2. Compute `res = x + y` similarly to exercise 2. Execute the resulting circuit. What did you get?\n",
    "\n",
    "**Recall we used `prepare_state` in the first exercise.**\n",
    "\n",
    "**Uncomment the last lines of the synthesis to see the circuit.**"
   ]
  },
  {
   "cell_type": "code",
   "execution_count": null,
   "metadata": {},
   "outputs": [],
   "source": [
    "# Your code here:\n",
    "\n",
    "\n",
    "# qmod = create_model(main)\n",
    "# qprog = synthesize(qmod)\n",
    "# show(qprog)\n",
    "\n",
    "# job = execute(qprog)\n",
    "# job.open_in_ide()\n",
    "# result = job.result_value()\n",
    "#\n",
    "# for r in result.parsed_counts:\n",
    "#     print(r)"
   ]
  },
  {
   "cell_type": "markdown",
   "metadata": {},
   "source": [
    "## Solutions"
   ]
  },
  {
   "cell_type": "markdown",
   "metadata": {},
   "source": [
    "### Exercise 1"
   ]
  },
  {
   "cell_type": "code",
   "execution_count": null,
   "metadata": {},
   "outputs": [],
   "source": [
    "# Solution for Exercise 1 part 1:\n",
    "@qfunc\n",
    "def bell(q0: QBit, q1: QBit) -> None:\n",
    "    H(q0)\n",
    "    CX(q0, q1)\n",
    "\n",
    "\n",
    "@qfunc\n",
    "def main(qubit0: Output[QBit], qubit1: Output[QBit]) -> None:\n",
    "    allocate(1, qubit0)\n",
    "    allocate(1, qubit1)\n",
    "    bell(qubit0, qubit1)\n",
    "\n",
    "\n",
    "qmod = create_model(main)\n",
    "qprog = synthesize(qmod)\n",
    "show(qprog)\n",
    "\n",
    "job = execute(qprog)\n",
    "job.open_in_ide()"
   ]
  },
  {
   "cell_type": "markdown",
   "metadata": {},
   "source": [
    "### Exercise 2"
   ]
  },
  {
   "cell_type": "code",
   "execution_count": null,
   "metadata": {},
   "outputs": [],
   "source": [
    "@qfunc\n",
    "def main(x: Output[QNum], y: Output[QNum], z: Output[QNum], res: Output[QNum]) -> None:\n",
    "    x |= 2.25\n",
    "    allocate(3, y)\n",
    "    hadamard_transform(y)\n",
    "    z |= 1\n",
    "    # res |= x + y\n",
    "    # res |= x * y\n",
    "    res |= x * y - z\n",
    "\n",
    "\n",
    "qmod = create_model(main)\n",
    "qprog = synthesize(qmod)\n",
    "show(qprog)\n",
    "\n",
    "job = execute(qprog)\n",
    "job.open_in_ide()"
   ]
  },
  {
   "cell_type": "markdown",
   "metadata": {},
   "source": [
    "## Exercise 3"
   ]
  },
  {
   "cell_type": "code",
   "execution_count": null,
   "metadata": {},
   "outputs": [],
   "source": [
    "@qfunc\n",
    "def my_hadamard_transform(q: QArray) -> None:\n",
    "    repeat(q.len, lambda i: H(q[i]))\n",
    "\n",
    "\n",
    "@qfunc\n",
    "def main(q: Output[QArray]) -> None:\n",
    "    allocate(10, q)\n",
    "    my_hadamard_transform(q)\n",
    "\n",
    "\n",
    "qmod = create_model(main)\n",
    "qprog = synthesize(qmod)\n",
    "show(qprog)\n",
    "\n",
    "job = execute(qprog)\n",
    "job.open_in_ide()\n",
    "result = job.result_value()"
   ]
  },
  {
   "cell_type": "code",
   "execution_count": null,
   "metadata": {},
   "outputs": [],
   "source": [
    "# Solution for Exercise 3b:\n",
    "\n",
    "\n",
    "@qfunc\n",
    "def cx2all_qubits(reg: QArray) -> None:\n",
    "    repeat(count=reg.len - 1, iteration=lambda i: CX(ctrl=reg[i], target=reg[i + 1]))\n",
    "\n",
    "\n",
    "@qfunc\n",
    "def main(reg: Output[QArray]) -> None:\n",
    "    allocate(10, reg)\n",
    "    H(reg[0])\n",
    "    cx2all_qubits(reg)\n",
    "\n",
    "\n",
    "qmod = create_model(main)\n",
    "qprog = synthesize(qmod)\n",
    "show(qprog)\n",
    "\n",
    "job = execute(qprog)\n",
    "job.open_in_ide()"
   ]
  },
  {
   "cell_type": "markdown",
   "metadata": {},
   "source": [
    "### Exercise 4"
   ]
  },
  {
   "cell_type": "code",
   "execution_count": null,
   "metadata": {},
   "outputs": [],
   "source": [
    "# Solution for exercise 4:\n",
    "@qfunc\n",
    "def main(x: Output[QNum[6]], target: Output[QBit]) -> None:\n",
    "    allocate(6, x)\n",
    "    hadamard_transform(x)\n",
    "    allocate(1, target)\n",
    "    control(x == 9, lambda: X(target))\n",
    "\n",
    "\n",
    "qmod = create_model(main)\n",
    "qprog = synthesize(qmod)\n",
    "show(qprog)\n",
    "\n",
    "job = execute(qprog)\n",
    "job.open_in_ide()\n",
    "result = job.result_value()\n",
    "\n",
    "for r in result.parsed_counts:\n",
    "    print(r)"
   ]
  },
  {
   "cell_type": "markdown",
   "metadata": {},
   "source": [
    "### Exercise 5"
   ]
  },
  {
   "cell_type": "code",
   "execution_count": null,
   "metadata": {},
   "outputs": [],
   "source": [
    "# Solution to exercise 5:\n",
    "@qfunc\n",
    "def main(res: Output[QNum]) -> None:\n",
    "    x = QNum(\"x\")\n",
    "    y = QNum(\"y\")\n",
    "    prepare_state([0.5, 0, 0.5, 0.0], 0.0, x)\n",
    "    prepare_state([0, 0.25, 0.25, 0.25, 0.0, 0.0, 0.25, 0.0], 0.0, y)\n",
    "    res |= x + y\n",
    "\n",
    "\n",
    "qmod = create_model(main)\n",
    "qprog = synthesize(qmod)\n",
    "show(qprog)\n",
    "\n",
    "job = execute(qprog)\n",
    "job.open_in_ide()\n",
    "result = job.result_value()\n",
    "\n",
    "for r in result.parsed_counts:\n",
    "    print(r)"
   ]
  },
  {
   "cell_type": "code",
   "execution_count": null,
   "metadata": {
    "collapsed": false,
    "jupyter": {
     "outputs_hidden": false
    }
   },
   "outputs": [],
   "source": []
  }
 ],
 "metadata": {
  "kernelspec": {
   "display_name": "Python 3 (ipykernel)",
   "language": "python",
   "name": "python3"
  },
  "language_info": {
   "codemirror_mode": {
    "name": "ipython",
    "version": 3
   },
   "file_extension": ".py",
   "mimetype": "text/x-python",
   "name": "python",
   "nbconvert_exporter": "python",
   "pygments_lexer": "ipython3",
   "version": "3.11.7"
  }
 },
 "nbformat": 4,
 "nbformat_minor": 4
}
