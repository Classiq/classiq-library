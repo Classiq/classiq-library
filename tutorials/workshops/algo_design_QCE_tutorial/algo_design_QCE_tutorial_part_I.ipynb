{
 "cells": [
  {
   "cell_type": "markdown",
   "metadata": {
    "vscode": {
     "languageId": "raw"
    }
   },
   "source": [
    "# High-level Algorithm Design with Qmod\n",
    "# Workshop Part I - Language Concepts"
   ]
  },
  {
   "cell_type": "markdown",
   "metadata": {},
   "source": [
    "In this workshop we will learn to use high-level quantum programming language concepts to design quantum algorithms. We will use the Qmod language to model the functionality, and the Classiq platform to synthesize it into gate-level descriptions, visualize the circuits, and execute them. We will focus on high-level quantum types and expressions in different evaluation modes.\n",
    "\n",
    "Part I is a walk through Qmod's structure and constructs, as well as some of its unique high-level concepts. We will look closely at these constructs using small examples. In Part II we will combine some of these concepts in a complete quantum algorithm.\n",
    "\n",
    "There are 5 code exercises in this notebook, split into two sections, *A* and *B*. In each exercise follow the instructions - complete the code snippet where indicated by a *TODO* comment, execute the code, and try to understand the results. Solutions are provided at the end of the notebook. Don't continue to the next exercise before you completed the previous one and compared your code and results against the solution."
   ]
  },
  {
   "cell_type": "markdown",
   "metadata": {},
   "source": [
    "## Section A *(15 minutes)*"
   ]
  },
  {
   "cell_type": "markdown",
   "metadata": {},
   "source": [
    "### Warmup: A First Qmod Program\n",
    "\n",
    "Let's start with a simple example to demonstrate the structure of Qmod code, as well as its synthesis and execution flow. We prepare and sample a **Bell state** - one of the most fundamental quantum states.\n",
    "\n",
    "Further reading:\n",
    "[Quantum Functions](https://docs.classiq.io/latest/qmod-reference/language-reference/functions/)"
   ]
  },
  {
   "cell_type": "code",
   "execution_count": null,
   "metadata": {
    "ExecuteTime": {
     "end_time": "2025-08-21T16:06:00.015143Z",
     "start_time": "2025-08-21T16:05:59.996204Z"
    }
   },
   "outputs": [],
   "source": [
    "from classiq import *\n",
    "\n",
    "\n",
    "@qfunc  # This decorator declares a quantum function\n",
    "def create_bell_state(pair: QArray[QBit, 2]):\n",
    "    H(pair[0])\n",
    "    CX(pair[0], pair[1])\n",
    "\n",
    "\n",
    "@qfunc  # Function 'main' is the entry point of our quantum program\n",
    "def main(res: Output[QArray[QBit, 2]]):\n",
    "    allocate(res)\n",
    "    create_bell_state(res)"
   ]
  },
  {
   "cell_type": "markdown",
   "metadata": {},
   "source": [
    "*<div class=\"alert alert-success\">Quantum functions in Qmod are defined using a regular Python function, decorated with `qfunc`, and their parameters must be declared with type hints.</div>*"
   ]
  },
  {
   "cell_type": "markdown",
   "metadata": {},
   "source": [
    "We can now compile with the SDK function `synthesize`. We get back an executable description called *quantum program* which we then execute on any simulation or quantum hardware. To manage the execution flow we use `ExecutionSession`. In our case, a simple sampling (using the default number of shots) of the quantum program will suffice."
   ]
  },
  {
   "cell_type": "code",
   "execution_count": null,
   "metadata": {
    "ExecuteTime": {
     "end_time": "2025-08-21T16:06:04.408259Z",
     "start_time": "2025-08-21T16:06:00.039823Z"
    }
   },
   "outputs": [],
   "source": [
    "qprog = synthesize(main)\n",
    "\n",
    "show(qprog)  # Visualize the quantum program for analysis\n",
    "\n",
    "# Execute and print the results:\n",
    "with ExecutionSession(qprog) as es:\n",
    "    res = es.sample()\n",
    "    display(res.dataframe)"
   ]
  },
  {
   "cell_type": "markdown",
   "metadata": {},
   "source": [
    "*<div class=\"alert alert-primary\">You should see in approximately 50% of the samples the bit vector 00 and in 50% the bit vector 11.</div>*"
   ]
  },
  {
   "cell_type": "markdown",
   "metadata": {
    "jp-MarkdownHeadingCollapsed": true
   },
   "source": [
    "*<div class=\"alert alert-success\">Synthesis is the process of compiling a high-level description to a gate-level description. The reduction is presented graphically. The executable format can be simulated using various simulation engines, or executed on quantum hardware of choice.</div>*"
   ]
  },
  {
   "cell_type": "markdown",
   "metadata": {},
   "source": [
    "### Exercise 1: GHZ State\n",
    "\n",
    "Based on the Bell state example above, prepare a **GHZ state** with 3 qubits. The GHZ state creates maximum entanglement between three qubits: (|000⟩ + |111⟩)/√2."
   ]
  },
  {
   "cell_type": "code",
   "execution_count": null,
   "metadata": {
    "ExecuteTime": {
     "end_time": "2025-08-21T16:06:04.432205Z",
     "start_time": "2025-08-21T16:06:04.426739Z"
    }
   },
   "outputs": [],
   "source": [
    "from classiq import *\n",
    "\n",
    "\n",
    "@qfunc\n",
    "def create_ghz_state(qubits: QArray[QBit, 3]):\n",
    "    # TODO: Apply GHZ logic\n",
    "    pass\n",
    "\n",
    "\n",
    "@qfunc\n",
    "def main(res: Output[QArray[QBit, 3]]):\n",
    "    allocate(res)\n",
    "    create_ghz_state(res)\n",
    "\n",
    "\n",
    "# TODO: Synthesize the model, show, execute and print results\n",
    "# Hint: Follow the same pattern as the demonstration above"
   ]
  },
  {
   "cell_type": "markdown",
   "metadata": {},
   "source": [
    "*<div class=\"alert alert-primary\">You should see in approximately 50% of the samples the bit vector 000 and in 50% the bit vector 111.</div>*"
   ]
  },
  {
   "cell_type": "markdown",
   "metadata": {},
   "source": [
    "### Exercise 2: GHZ with Numeric Variables\n",
    "\n",
    "Define a main function that calls the `create_ghz_state` (as implemented in Exercise 1) with a ***signed*** quantum number and outputs the results.\n",
    "\n",
    "Synthesize it, analyze the quantum program, execute it and print the results. What do you expect the resulting value of `x` to be? \n",
    "\n",
    "Further reading: [Quantum Types](https://docs.classiq.io/latest/qmod-reference/language-reference/quantum-types/)"
   ]
  },
  {
   "cell_type": "code",
   "execution_count": null,
   "metadata": {
    "ExecuteTime": {
     "end_time": "2025-08-21T16:06:04.464240Z",
     "start_time": "2025-08-21T16:06:04.461711Z"
    }
   },
   "outputs": [],
   "source": [
    "from classiq import *\n",
    "\n",
    "\n",
    "@qfunc\n",
    "def main(x: Output[QNum[3, SIGNED, 0]]):\n",
    "    # TODO: Create GHZ state with QNum (gives 0 and -1)\n",
    "    # Hint: Is it any different from the previous main implementation?\n",
    "    pass\n",
    "\n",
    "\n",
    "# TODO: Synthesize the model, show, execute and print results"
   ]
  },
  {
   "cell_type": "markdown",
   "metadata": {},
   "source": [
    "*<div class=\"alert alert-secondary\">You should see approximately 50% for 0 and 50% for -1.</div>*"
   ]
  },
  {
   "cell_type": "markdown",
   "metadata": {},
   "source": [
    "*<div class=\"alert alert-info\">In Qmod function arguments are automatically cast between `QNum` and `QArray[QBit]` (and also between other quantum types).\n",
    "    The value of quantum variables is interpreted based on their type. The state $|111\\rangle$ represents 7 for an unsigned integer, and -1 as signed integer (in two's complement encoding).</div>*"
   ]
  },
  {
   "cell_type": "markdown",
   "metadata": {},
   "source": [
    "## Section B *(30 minutes)*"
   ]
  },
  {
   "cell_type": "markdown",
   "metadata": {},
   "source": [
    "### Exercise 3: Arithmetic Expressions with Automatic Type Inference"
   ]
  },
  {
   "cell_type": "markdown",
   "metadata": {},
   "source": [
    "#### Part A: Numeric type inference\n",
    "\n",
    "Create and execute a quantum program that assigns a quantum arithmetic expression to a numeric variable:\n",
    "1. Declare quantum numeric variables `a` and `b` as unsigned integers of size of 2.\n",
    "2. Apply `hadamard_transform` on `a` and `b` (to put them in uniform superposition of all possible states).\n",
    "3. Assign the value of `3*a + b` to `c`.\n",
    "4. Synthesize, show, execute and print results.\n",
    " Inspect the printouts - what numeric attributes were inferred for variable `c`? Why?\n",
    "\n",
    "Further reading: [Numeric Assignment](https://docs.classiq.io/latest/qmod-reference/language-reference/statements/numeric-assignment/)\n"
   ]
  },
  {
   "cell_type": "code",
   "execution_count": null,
   "metadata": {
    "ExecuteTime": {
     "end_time": "2025-08-21T16:06:04.605985Z",
     "start_time": "2025-08-21T16:06:04.603400Z"
    }
   },
   "outputs": [],
   "source": [
    "from classiq import *\n",
    "\n",
    "\n",
    "@qfunc\n",
    "def main(a: Output[QNum[2]], b: Output[QNum[2]], c: Output[QNum]):\n",
    "    allocate(a)\n",
    "    allocate(b)\n",
    "    # TODO: Put a and b in equal superposition\n",
    "\n",
    "    # TODO:Assign the value of 3*a + b to c\n",
    "\n",
    "    # Print out c's inferred size in qubits\n",
    "    print(f\"The size of c is {c.size}\")\n",
    "\n",
    "\n",
    "# TODO: Synthesize the model, show, execute and print results"
   ]
  },
  {
   "cell_type": "markdown",
   "metadata": {},
   "source": [
    "*<div class=\"alert alert-secondary\">The expression result ranges between 0 and 12. To represent all values variable `c` must be an unsigned integer of size 4 qubits or more.</div>*"
   ]
  },
  {
   "cell_type": "markdown",
   "metadata": {
    "jp-MarkdownHeadingCollapsed": true
   },
   "source": [
    "*<div class=\"alert alert-info\">In Qmod the size of numeric variables may be left unspecified. It is then automatically inferred to tightly fit all possible values of the expressions.</div>*"
   ]
  },
  {
   "cell_type": "markdown",
   "metadata": {},
   "source": [
    "#### Part B: Numeric type inference with fixed-point fractions\n",
    "\n",
    "Repeat *Part A*, only this time declaring `a` with 1 fraction digit and `b` with 2 fraction digits. How did the numeric attributes of `c` change? What are the corresponding sampled values for `c` in the result?\n"
   ]
  },
  {
   "cell_type": "code",
   "execution_count": null,
   "metadata": {
    "ExecuteTime": {
     "end_time": "2025-08-21T16:06:04.632198Z",
     "start_time": "2025-08-21T16:06:04.628364Z"
    }
   },
   "outputs": [],
   "source": [
    "from classiq import *\n",
    "\n",
    "\n",
    "@qfunc\n",
    "def main(\n",
    "    a: Output[QNum[2, UNSIGNED, 1]], b: Output[QNum[2, UNSIGNED, 2]], c: Output[QNum]\n",
    "):\n",
    "    allocate(a)\n",
    "    allocate(b)\n",
    "    # TODO: Put a and b in equal superposition\n",
    "\n",
    "    # TODO: Assign the value of 3*a + b to c\n",
    "    # Hint: Is it any different from the previous main implementation?\n",
    "\n",
    "    # Print out the numeric attributes of the inferred type\n",
    "    print(\"Numeric attributes of c:\")\n",
    "    print(\n",
    "        f\"size={c.size}, is_signed={c.is_signed}, fraction_digits={c.fraction_digits}\"\n",
    "    )\n",
    "\n",
    "\n",
    "# TODO: Synthesize the model, show, execute and print results"
   ]
  },
  {
   "cell_type": "markdown",
   "metadata": {},
   "source": [
    "*<div class=\"alert alert-secondary\">Variable `c` should be of size 5, unsigend, and with 2 fraction digits. This is the minimal type that covers the expression's domain.</div>*"
   ]
  },
  {
   "cell_type": "markdown",
   "metadata": {
    "jp-MarkdownHeadingCollapsed": true
   },
   "source": [
    "*<div class=\"alert alert-info\">In Qmod, numeric variables can represent arbitrary fixed-point values. Arithemetic expression and type inference also accommodate for different decimal point locations.</div>*"
   ]
  },
  {
   "cell_type": "markdown",
   "metadata": {},
   "source": [
    "### Exercise 4: Conditional Operations\n",
    "\n",
    "Define a main function that initializes a quantum variable `x` (a 3-qubit signed number with 2 binary fraction digits) in an equal superposition of all states, then conditionally flips a single-qubit variable named `flag` when the value of x is less than 0.5. Inspect the execution results - how is `flag` entangled with `x`?\n",
    "\n",
    "Further reading: [Control Statement](https://docs.classiq.io/latest/qmod-reference/language-reference/statements/control/)"
   ]
  },
  {
   "cell_type": "code",
   "execution_count": null,
   "metadata": {
    "ExecuteTime": {
     "end_time": "2025-08-21T16:06:04.558795Z",
     "start_time": "2025-08-21T16:06:04.555865Z"
    }
   },
   "outputs": [],
   "source": [
    "from classiq import *\n",
    "\n",
    "\n",
    "@qfunc\n",
    "def main(x: Output[QNum[3, SIGNED, 2]], flag: Output[QBit]):\n",
    "    allocate(x)\n",
    "    hadamard_transform(x)\n",
    "\n",
    "    allocate(flag)\n",
    "    # TODO : Flip the state of flag if x < 0.5\n",
    "\n",
    "\n",
    "# TODO: Synthesize the model, show, execute and print results"
   ]
  },
  {
   "cell_type": "markdown",
   "metadata": {},
   "source": [
    "*<div class=\"alert alert-secondary\">You should see that `x` is evenly distributed across the 8 values, and `flag` is flipped in 6 out of the 8 cases.</div>*"
   ]
  },
  {
   "cell_type": "markdown",
   "metadata": {},
   "source": [
    "*<div class=\"alert alert-info\">The `control` statement in Qmod is similar to classical *if* statement, where a statement block is applied conditionally, depending on a Boolean expression, and optionally an else-block is applied otherwise. The difference is that the operations are applied in superposition, corresponding to the condition.</div>*\n"
   ]
  },
  {
   "cell_type": "markdown",
   "metadata": {},
   "source": [
    "### Exercise 5: Grover Algorithm using Quantum Struct and Constant Phase\n",
    "\n",
    "The Grover search algorithm uses two kinds of conditional phase flips - one reflecting about the \"good\" states, and the other reflecting about the zero state. This is easy to express using fixed $\\pi$ phase rotation under the required control condition. It is also convenient to encapsulate the problem variables in a quantum struct, so they can be passed around between functional units.\n",
    "\n",
    "Create a quantum program that finds assignments for $a, b$ and $c \\in \\{0, 1, 2, 3\\}$ that satisfy the equation $3a + b + 2c = 9$.\n",
    "- Declare the varaibles as fiels of a quantum struct\n",
    "- Define the phase oracle in terms of the problem condition\n",
    "- Define the zero-reflection in the diffuser\n",
    "\n",
    "Further reading: [Phase Statement](https://docs.classiq.io/latest/qmod-reference/language-reference/statements/phase/)"
   ]
  },
  {
   "cell_type": "code",
   "execution_count": null,
   "metadata": {
    "ExecuteTime": {
     "end_time": "2025-08-21T16:06:09.432104Z",
     "start_time": "2025-08-21T16:06:04.644051Z"
    }
   },
   "outputs": [],
   "source": [
    "from classiq import *\n",
    "from classiq.qmod.symbolic import pi\n",
    "\n",
    "\n",
    "class MyProblemVars(QStruct):\n",
    "    # TODO: Declare the problem variables as quantum numeric fields\n",
    "    dummy: (\n",
    "        QBit  # Placeholder for the struct to be non-empty - replace with actual fields\n",
    "    )\n",
    "\n",
    "\n",
    "@qfunc\n",
    "def phase_oracle(v: MyProblemVars):\n",
    "    # TODO: Apply a phase flip if the state of v satisfies the equation (use field access in the form `v.a` etc.)\n",
    "    pass\n",
    "\n",
    "\n",
    "@qfunc\n",
    "def zero_reflection(state: QNum):\n",
    "    # TODO: Apply a phase flip if state is |0>\n",
    "    pass\n",
    "\n",
    "\n",
    "@qfunc\n",
    "def grover_operator(v: MyProblemVars):\n",
    "    phase_oracle(v)\n",
    "    hadamard_transform(v)\n",
    "    zero_reflection(v)\n",
    "    hadamard_transform(v)\n",
    "\n",
    "\n",
    "@qfunc\n",
    "def main(v: Output[MyProblemVars]):\n",
    "    allocate(v)\n",
    "    hadamard_transform(v)\n",
    "    for i in range(2):\n",
    "        grover_operator(v)\n",
    "\n",
    "\n",
    "# Synthesize the model, show, execute and print results\n",
    "qprog = synthesize(main)\n",
    "show(qprog)\n",
    "\n",
    "with ExecutionSession(qprog) as es:\n",
    "    res = es.sample()\n",
    "    display(res.dataframe)"
   ]
  },
  {
   "cell_type": "markdown",
   "metadata": {},
   "source": [
    "*<div class=\"alert alert-secondary\">There are 6 assignments to `a`, `b`, and `c` that satisfy the equation. They should be sampled with approximately equal probabilities.</div>*"
   ]
  },
  {
   "cell_type": "markdown",
   "metadata": {},
   "source": [
    "*<div class=\"alert alert-info\">In Qmod, a fixed phase (specifically $\\pi$) can be introduced under `control` condition. This is a powerful idiom when combined with numeric quantum expressions.</div>*"
   ]
  },
  {
   "cell_type": "markdown",
   "metadata": {},
   "source": [
    "### Exercise 6: Computing x² Using Phase Operations"
   ]
  },
  {
   "cell_type": "markdown",
   "metadata": {},
   "source": [
    "#### Part A: Phase Encoding x²\n",
    "\n",
    "Compute x² in the phase of its state. To actually view the phases of the states simulate the program using state-vector simulation.\n",
    "Expand the quantum program visualization down to the gate-level implementation. How is the 'phase' statement synthesized?\n",
    "Inspect the resulting phases of the different states. Do they match the phase expression?\n",
    "\n",
    "Further reading: [Phase Statement](https://docs.classiq.io/latest/qmod-reference/language-reference/statements/phase/)"
   ]
  },
  {
   "cell_type": "code",
   "execution_count": null,
   "metadata": {
    "ExecuteTime": {
     "end_time": "2025-08-21T16:06:14.124906Z",
     "start_time": "2025-08-21T16:06:09.467461Z"
    }
   },
   "outputs": [],
   "source": [
    "import numpy as np\n",
    "\n",
    "from classiq import *\n",
    "from classiq.execution import ClassiqBackendPreferences, ExecutionPreferences\n",
    "\n",
    "\n",
    "@qfunc\n",
    "def main(x: Output[QNum[3]]):\n",
    "    allocate(x)\n",
    "    # TODO: put x in uniform superposition\n",
    "\n",
    "    # TODO: Encode x² into the phase\n",
    "\n",
    "\n",
    "# Synthesize the model and show\n",
    "qprog = synthesize(main)\n",
    "show(qprog)\n",
    "\n",
    "# Specify execution preferences for state vector simulation\n",
    "preferences = ExecutionPreferences(\n",
    "    num_shots=1,\n",
    "    backend_preferences=ClassiqBackendPreferences(backend_name=\"simulator_statevector\"),\n",
    ")\n",
    "\n",
    "# Execute and print results:\n",
    "with ExecutionSession(qprog, preferences) as es:\n",
    "    res = es.sample()\n",
    "    res.dataframe.sort_values(by=\"x\", inplace=True)  # Sort by x for better readability\n",
    "    res.dataframe[\"phase\"] = np.round(\n",
    "        np.angle(res.dataframe.amplitude) / np.pi, 2\n",
    "    )  # Add phase column in units of pi for convenience\n",
    "    display(res.dataframe)"
   ]
  },
  {
   "cell_type": "markdown",
   "metadata": {},
   "source": [
    "\n",
    "*<div class=\"alert alert-secondary\">The resulting state phases should show x² rotation of the respective computational-state value, modulo 8 (determined by the domain of variable `x`). The steps are a 1/8 of a full $2\\pi$ rotation</div>*"
   ]
  },
  {
   "cell_type": "markdown",
   "metadata": {},
   "source": [
    "*<div class=\"alert alert-info\">The `phase` statement can operate on an arbitrary polynomial over quantum numeric variables and compiles it into relative Z rotations of the respective states.</div>*"
   ]
  },
  {
   "cell_type": "markdown",
   "metadata": {},
   "source": [
    "#### Bonus: Fourier Arithmetic\n",
    "\n",
    "Create a quantum program that computes res = x² by encoding the result in the phase of a Fourier basis. Then transform the result back to the computational basis. Inspect the execution results to validate the correctness of your algorithm."
   ]
  },
  {
   "cell_type": "code",
   "execution_count": null,
   "metadata": {
    "ExecuteTime": {
     "end_time": "2025-08-21T16:06:17.544547Z",
     "start_time": "2025-08-21T16:06:14.130278Z"
    }
   },
   "outputs": [],
   "source": [
    "import numpy as np\n",
    "\n",
    "from classiq import *\n",
    "\n",
    "\n",
    "@qfunc\n",
    "def main(x: Output[QNum[3]], res: Output[QNum[4]]):\n",
    "    allocate(x)\n",
    "    hadamard_transform(x)\n",
    "    allocate(res)\n",
    "\n",
    "    # TODO: Use within_apply with QFT and phase operations\n",
    "\n",
    "\n",
    "# Synthesize the model and show\n",
    "qprog = synthesize(main)\n",
    "# show(qprog)\n",
    "\n",
    "# Synthesize the model, show, execute and print results\n",
    "with ExecutionSession(qprog) as es:\n",
    "    res = es.sample()\n",
    "    res.dataframe.sort_values(by=\"x\", inplace=True)  # Sort by x for better readability\n",
    "    display(res.dataframe)"
   ]
  },
  {
   "cell_type": "markdown",
   "metadata": {},
   "source": [
    "*<div class=\"alert alert-info\">The `phase` statement can be used to implement modular arithmetic in the Fourier basis.</div>*"
   ]
  },
  {
   "cell_type": "markdown",
   "metadata": {},
   "source": [
    "## Solutions"
   ]
  },
  {
   "cell_type": "markdown",
   "metadata": {},
   "source": [
    "### Solution 1: GHZ State\n"
   ]
  },
  {
   "cell_type": "code",
   "execution_count": null,
   "metadata": {
    "ExecuteTime": {
     "end_time": "2025-08-21T16:06:21.944527Z",
     "start_time": "2025-08-21T16:06:17.556411Z"
    }
   },
   "outputs": [],
   "source": [
    "from classiq import *\n",
    "\n",
    "\n",
    "@qfunc\n",
    "def create_ghz_state(qubits: QArray[QBit, 3]):\n",
    "    # Apply GHZ logic\n",
    "    H(qubits[0])\n",
    "    CX(qubits[0], qubits[1])\n",
    "    CX(qubits[1], qubits[2])\n",
    "\n",
    "\n",
    "@qfunc\n",
    "def main(res: Output[QArray[QBit, 3]]):\n",
    "    allocate(res)\n",
    "    create_ghz_state(res)\n",
    "\n",
    "\n",
    "# Synthesize the model, show, execute and print results\n",
    "qprog = synthesize(main)\n",
    "show(qprog)\n",
    "\n",
    "with ExecutionSession(qprog) as es:\n",
    "    res = es.sample()\n",
    "    print(\"Ex.1 Results:\")\n",
    "    display(res.dataframe)"
   ]
  },
  {
   "cell_type": "markdown",
   "metadata": {},
   "source": [
    "### Solution 2: GHZ with Quantum Numbers\n"
   ]
  },
  {
   "cell_type": "code",
   "execution_count": null,
   "metadata": {
    "ExecuteTime": {
     "end_time": "2025-08-21T16:06:27.077580Z",
     "start_time": "2025-08-21T16:06:21.987968Z"
    }
   },
   "outputs": [],
   "source": [
    "from classiq import *\n",
    "\n",
    "\n",
    "@qfunc\n",
    "def main(x: Output[QNum[3, SIGNED, 0]]):\n",
    "    # Create GHZ state with QNum (gives 0 and -1)\n",
    "    allocate(x)\n",
    "    create_ghz_state(x)\n",
    "\n",
    "\n",
    "# Synthesize the model, show, execute and print results\n",
    "qprog = synthesize(main)\n",
    "show(qprog)\n",
    "\n",
    "with ExecutionSession(qprog) as es:\n",
    "    res = es.sample()\n",
    "    print(\"Ex.2 Results:\")\n",
    "    display(res.dataframe)"
   ]
  },
  {
   "cell_type": "markdown",
   "metadata": {},
   "source": [
    "### Solution 3: Arithmetic Expressions with Automatic Type Inference"
   ]
  },
  {
   "cell_type": "markdown",
   "metadata": {},
   "source": [
    "#### Part A: Numeric type inference"
   ]
  },
  {
   "cell_type": "code",
   "execution_count": null,
   "metadata": {
    "ExecuteTime": {
     "end_time": "2025-08-21T16:06:37.263440Z",
     "start_time": "2025-08-21T16:06:32.666286Z"
    }
   },
   "outputs": [],
   "source": [
    "from classiq import *\n",
    "\n",
    "\n",
    "@qfunc\n",
    "def main(a: Output[QNum[2]], b: Output[QNum[2]], c: Output[QNum]):\n",
    "    allocate(a)\n",
    "    allocate(b)\n",
    "    # Put a and b in equal superposition\n",
    "    hadamard_transform(a)\n",
    "    hadamard_transform(b)\n",
    "\n",
    "    # Assign the value of 3*a + b to c\n",
    "    c |= 3 * a + b\n",
    "\n",
    "    # Print out c's inferred size in qubits\n",
    "    print(f\"The size of c is {c.size}\")\n",
    "\n",
    "\n",
    "# Synthesize the model, show, execute and print results\n",
    "qprog = synthesize(main)\n",
    "show(qprog)\n",
    "\n",
    "with ExecutionSession(qprog) as es:\n",
    "    res = es.sample()\n",
    "    print(\"Ex.4A Results:\")\n",
    "    display(res.dataframe)"
   ]
  },
  {
   "cell_type": "markdown",
   "metadata": {},
   "source": [
    "#### Part B: Numeric type inference with fixed-point fractions"
   ]
  },
  {
   "cell_type": "code",
   "execution_count": null,
   "metadata": {
    "ExecuteTime": {
     "end_time": "2025-08-21T16:06:41.793505Z",
     "start_time": "2025-08-21T16:06:37.333508Z"
    }
   },
   "outputs": [],
   "source": [
    "# Part B: Fractioned quantum numbers (explicit syntax)\n",
    "from classiq import *\n",
    "\n",
    "\n",
    "@qfunc\n",
    "def main(\n",
    "    a: Output[QNum[2, UNSIGNED, 1]], b: Output[QNum[2, UNSIGNED, 2]], c: Output[QNum]\n",
    "):\n",
    "    # Allocate a and b, then put in superposition\n",
    "    allocate(a)\n",
    "    allocate(b)\n",
    "    hadamard_transform(a)\n",
    "    hadamard_transform(b)\n",
    "\n",
    "    # Assign the value of 3*a + b to c\n",
    "    c |= 3 * a + b\n",
    "\n",
    "    # Print out the numeric attributes of the inferred type\n",
    "    print(\"Numeric attributes of c:\")\n",
    "    print(\n",
    "        f\"size: {c.size}, is_signed: {c.is_signed}, fraction_digits: {c.fraction_digits}\"\n",
    "    )\n",
    "\n",
    "\n",
    "# Synthesize the model, show, execute and print results\n",
    "qprog = synthesize(main)\n",
    "show(qprog)\n",
    "\n",
    "with ExecutionSession(qprog) as es:\n",
    "    res = es.sample()\n",
    "    print(\"Ex.4B Results:\")\n",
    "    display(res.dataframe)"
   ]
  },
  {
   "cell_type": "markdown",
   "metadata": {},
   "source": [
    "### Solution 4: Conditional Operations\n"
   ]
  },
  {
   "cell_type": "code",
   "execution_count": null,
   "metadata": {
    "ExecuteTime": {
     "end_time": "2025-08-21T16:06:32.652990Z",
     "start_time": "2025-08-21T16:06:27.088072Z"
    }
   },
   "outputs": [],
   "source": [
    "from classiq import *\n",
    "\n",
    "\n",
    "@qfunc\n",
    "def main(x: Output[QNum[3, SIGNED, 2]], flag: Output[QBit]):\n",
    "    allocate(x)\n",
    "    hadamard_transform(x)\n",
    "\n",
    "    allocate(flag)\n",
    "    # Flip the state of flag if x < 0.5\n",
    "    control(x < 0.5, lambda: X(flag))  # Flip the state of flag if x < 0.5\n",
    "\n",
    "\n",
    "# Synthesize the model, show, execute and print results\n",
    "qprog = synthesize(main)\n",
    "show(qprog)\n",
    "\n",
    "with ExecutionSession(qprog) as es:\n",
    "    res = es.sample()\n",
    "    print(\"Ex.3 Results:\")\n",
    "    display(res.dataframe)"
   ]
  },
  {
   "cell_type": "markdown",
   "metadata": {},
   "source": [
    "### Solution 5: Grover Algorithm using Quantum Struct and Constant Phase"
   ]
  },
  {
   "cell_type": "code",
   "execution_count": null,
   "metadata": {
    "ExecuteTime": {
     "end_time": "2025-08-21T16:06:55.011079Z",
     "start_time": "2025-08-21T16:06:41.807811Z"
    }
   },
   "outputs": [],
   "source": [
    "from classiq import *\n",
    "from classiq.qmod.symbolic import pi\n",
    "\n",
    "\n",
    "class MyProblemVars(QStruct):\n",
    "    # Declare the problem variables as quantum numeric fields\n",
    "    a: QNum[2]\n",
    "    b: QNum[2]\n",
    "    c: QNum[2]\n",
    "\n",
    "\n",
    "@qfunc\n",
    "def phase_oracle(v: MyProblemVars):\n",
    "    # Apply a phase flip if the state of v satisfies the equation (use field access in the form `v.a` etc.)\n",
    "    control(3 * v.a + v.b + 2 * v.c == 9, lambda: phase(pi))\n",
    "\n",
    "\n",
    "@qfunc\n",
    "def zero_reflection(state: QNum):\n",
    "    # Apply a phase flip if state is |0>\n",
    "    control(state == 0, lambda: phase(pi))\n",
    "\n",
    "\n",
    "@qfunc\n",
    "def grover_operator(v: MyProblemVars):\n",
    "    phase_oracle(v)\n",
    "    hadamard_transform(v)\n",
    "    zero_reflection(v)\n",
    "    hadamard_transform(v)\n",
    "\n",
    "\n",
    "@qfunc\n",
    "def main(v: Output[MyProblemVars]):\n",
    "    allocate(v)\n",
    "    hadamard_transform(v)\n",
    "    for i in range(2):\n",
    "        grover_operator(v)\n",
    "\n",
    "\n",
    "# Synthesize the model, show, execute and print results\n",
    "qprog = synthesize(main)\n",
    "show(qprog)\n",
    "\n",
    "with ExecutionSession(qprog) as es:\n",
    "    res = es.sample()\n",
    "    print(\"Ex.5 Results:\")\n",
    "    display(res.dataframe)"
   ]
  },
  {
   "cell_type": "markdown",
   "metadata": {},
   "source": [
    "### Solution 6: Computing x² Using Phase Operations"
   ]
  },
  {
   "cell_type": "markdown",
   "metadata": {},
   "source": [
    "#### Part A: Phase Encoding x²"
   ]
  },
  {
   "cell_type": "code",
   "execution_count": null,
   "metadata": {
    "ExecuteTime": {
     "end_time": "2025-08-21T16:06:57.984896Z",
     "start_time": "2025-08-21T16:06:55.065727Z"
    }
   },
   "outputs": [],
   "source": [
    "import numpy as np\n",
    "\n",
    "from classiq import *\n",
    "from classiq.execution import ClassiqBackendPreferences, ExecutionPreferences\n",
    "\n",
    "\n",
    "@qfunc\n",
    "def main(x: Output[QNum[3]]):\n",
    "    allocate(x)\n",
    "    # Put x in uniform superposition\n",
    "    hadamard_transform(x)\n",
    "\n",
    "    # Encode x² into the phase\n",
    "    phase(x**2, 2 * np.pi / 8)\n",
    "\n",
    "\n",
    "# Synthesize the model and show\n",
    "qprog = synthesize(main)\n",
    "# show(qprog)\n",
    "\n",
    "# Specify execution preferences for state vector simulation\n",
    "preferences = ExecutionPreferences(\n",
    "    num_shots=1,\n",
    "    backend_preferences=ClassiqBackendPreferences(backend_name=\"simulator_statevector\"),\n",
    ")\n",
    "\n",
    "# Execute and print results:\n",
    "with ExecutionSession(qprog, preferences) as es:\n",
    "    res = es.sample()\n",
    "    print(\"Ex.6A Results:\")\n",
    "    res.dataframe.sort_values(by=\"x\", inplace=True)  # Sort by x for better readability\n",
    "    res.dataframe[\"phase\"] = np.round(\n",
    "        np.angle(res.dataframe.amplitude) / np.pi, 2\n",
    "    )  # Add phase column in units of pi for convenience\n",
    "    display(res.dataframe)"
   ]
  },
  {
   "cell_type": "markdown",
   "metadata": {},
   "source": [
    "#### Bonus: Fourier Arithmetic\n"
   ]
  },
  {
   "cell_type": "code",
   "execution_count": null,
   "metadata": {
    "ExecuteTime": {
     "end_time": "2025-08-21T16:07:07.885741Z",
     "start_time": "2025-08-21T16:06:57.994285Z"
    }
   },
   "outputs": [],
   "source": [
    "import numpy as np\n",
    "\n",
    "from classiq import *\n",
    "\n",
    "\n",
    "@qfunc\n",
    "def main(x: Output[QNum[3]], res: Output[QNum[4]]):\n",
    "    allocate(x)\n",
    "    hadamard_transform(x)\n",
    "    allocate(res)\n",
    "\n",
    "    # Use within_apply with QFT and phase operations\n",
    "    within_apply(\n",
    "        lambda: qft(res),\n",
    "        lambda: phase(\n",
    "            res * (x**2), 2 * np.pi / (2**res.size)\n",
    "        ),  # evaluates res += x**2  in the Fourier basis\n",
    "    )\n",
    "\n",
    "\n",
    "# Synthesize the model, show, execute and print results\n",
    "qprog = synthesize(main)\n",
    "# show(qprog)\n",
    "\n",
    "with ExecutionSession(qprog) as es:\n",
    "    res = es.sample()\n",
    "    print(\"Ex.6B Results:\")\n",
    "    res.dataframe.sort_values(by=\"x\", inplace=True)  # Sort by x for better readability\n",
    "    display(res.dataframe)"
   ]
  }
 ],
 "metadata": {
  "kernelspec": {
   "display_name": "Python (prod_py3.11)",
   "language": "python",
   "name": "prod_py3.11"
  },
  "language_info": {
   "codemirror_mode": {
    "name": "ipython",
    "version": 3
   },
   "file_extension": ".py",
   "mimetype": "text/x-python",
   "name": "python",
   "nbconvert_exporter": "python",
   "pygments_lexer": "ipython3",
   "version": "3.11.4"
  }
 },
 "nbformat": 4,
 "nbformat_minor": 4
}
