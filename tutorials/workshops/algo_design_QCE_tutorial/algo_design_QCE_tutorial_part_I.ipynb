{
 "cells": [
  {
   "cell_type": "markdown",
   "metadata": {
    "vscode": {
     "languageId": "raw"
    }
   },
   "source": [
    "# High-level Algorithm Design with Qmod\n",
    "# Workshop Part I - Language Concepts"
   ]
  },
  {
   "cell_type": "markdown",
   "metadata": {},
   "source": [
    "In this workshop we will learn to use high-level quantum programming language concepts to design quantum algorithms. We will use the Qmod language to model the functionality, and the Classiq platform to synthesize it into gate-level descriptions, visualize the circuits, and execute them. We will focus on high-level quantum types and expressions in different evaluation modes.\n",
    "\n",
    "Part I is a walk through Qmod's structure and constructs, as well as some of its unique high-level concepts. We will look closely at these constructs using small examples. In Part II we will combine some of these concepts in a complete quantum algorithm.\n",
    "\n",
    "There are 5 code exercises in this notebook, split into two sections, *A* and *B*. In each exercise follow the instructions - complete the code snippet where indicated by a *TODO* comment, execute the code, and try to understand the results. Solutions are provided at the end of the notebook. Don't continue to the next exercise before you completed the previous one and compared your code and results against the solution."
   ]
  },
  {
   "cell_type": "markdown",
   "metadata": {},
   "source": [
    "## Section A *(15 minutes)*"
   ]
  },
  {
   "cell_type": "markdown",
   "metadata": {},
   "source": [
    "### Warmup: A First Qmod Program\n",
    "\n",
    "Let's start with a simple example to demonstrate the structure of Qmod code, as well as its synthesis and execution flow. We prepare and sample a **Bell state** - one of the most fundamental quantum states.\n",
    "\n",
    "Further reading:\n",
    "[Quantum Functions](https://docs.classiq.io/latest/qmod-reference/language-reference/functions/)"
   ]
  },
  {
   "cell_type": "code",
   "execution_count": 1,
   "metadata": {
    "ExecuteTime": {
     "end_time": "2025-08-21T16:06:00.015143Z",
     "start_time": "2025-08-21T16:05:59.996204Z"
    }
   },
   "outputs": [],
   "source": [
    "from classiq import *\n",
    "\n",
    "\n",
    "@qfunc  # This decorator declares a quantum function\n",
    "def create_bell_state(pair: QArray[QBit, 2]):\n",
    "    H(pair[0])\n",
    "    CX(pair[0], pair[1])\n",
    "\n",
    "\n",
    "@qfunc  # Function 'main' is the entry point of our quantum program\n",
    "def main(res: Output[QArray[QBit, 2]]):\n",
    "    allocate(res)\n",
    "    create_bell_state(res)"
   ]
  },
  {
   "cell_type": "markdown",
   "metadata": {},
   "source": [
    "*<div class=\"alert alert-success\">Quantum functions in Qmod are defined using a regular Python function, decorated with `qfunc`, and their parameters must be declared with type hints.</div>*"
   ]
  },
  {
   "cell_type": "markdown",
   "metadata": {},
   "source": [
    "We can now compile with the SDK function `synthesize`. We get back an executable description called *quantum program* which we then execute on any simulation or quantum hardware. To manage the execution flow we use `ExecutionSession`. In our case, a simple sampling (using the default number of shots) of the quantum program will suffice."
   ]
  },
  {
   "cell_type": "code",
   "execution_count": 2,
   "metadata": {
    "ExecuteTime": {
     "end_time": "2025-08-21T16:06:04.408259Z",
     "start_time": "2025-08-21T16:06:00.039823Z"
    }
   },
   "outputs": [
    {
     "name": "stdout",
     "output_type": "stream",
     "text": [
      "Quantum program link: https://platform.classiq.io/circuit/31e5FTDuDzoSqmCLHvRuAGquGAc\n"
     ]
    },
    {
     "data": {
      "text/html": [
       "<div>\n",
       "<style scoped>\n",
       "    .dataframe tbody tr th:only-of-type {\n",
       "        vertical-align: middle;\n",
       "    }\n",
       "\n",
       "    .dataframe tbody tr th {\n",
       "        vertical-align: top;\n",
       "    }\n",
       "\n",
       "    .dataframe thead th {\n",
       "        text-align: right;\n",
       "    }\n",
       "</style>\n",
       "<table border=\"1\" class=\"dataframe\">\n",
       "  <thead>\n",
       "    <tr style=\"text-align: right;\">\n",
       "      <th></th>\n",
       "      <th>res</th>\n",
       "      <th>count</th>\n",
       "      <th>probability</th>\n",
       "      <th>bitstring</th>\n",
       "    </tr>\n",
       "  </thead>\n",
       "  <tbody>\n",
       "    <tr>\n",
       "      <th>0</th>\n",
       "      <td>[0, 0]</td>\n",
       "      <td>1028</td>\n",
       "      <td>0.501953</td>\n",
       "      <td>00</td>\n",
       "    </tr>\n",
       "    <tr>\n",
       "      <th>1</th>\n",
       "      <td>[1, 1]</td>\n",
       "      <td>1020</td>\n",
       "      <td>0.498047</td>\n",
       "      <td>11</td>\n",
       "    </tr>\n",
       "  </tbody>\n",
       "</table>\n",
       "</div>"
      ],
      "text/plain": [
       "      res  count  probability bitstring\n",
       "0  [0, 0]   1028     0.501953        00\n",
       "1  [1, 1]   1020     0.498047        11"
      ]
     },
     "metadata": {},
     "output_type": "display_data"
    }
   ],
   "source": [
    "qprog = synthesize(main)\n",
    "\n",
    "show(qprog)  # Visualize the quantum program for analysis\n",
    "\n",
    "# Execute and print the results:\n",
    "with ExecutionSession(qprog) as es:\n",
    "    res = es.sample()\n",
    "    display(res.dataframe)"
   ]
  },
  {
   "cell_type": "markdown",
   "metadata": {},
   "source": [
    "*<div class=\"alert alert-primary\">You should see in approximately 50% of the samples the bit vector 00 and in 50% the bit vector 11.</div>*"
   ]
  },
  {
   "cell_type": "markdown",
   "metadata": {
    "jp-MarkdownHeadingCollapsed": true
   },
   "source": [
    "*<div class=\"alert alert-success\">Synthesis is the process of compiling a high-level description to a gate-level description. The reduction is presented graphically. The executable format can be simulated using various simulation engines, or executed on quantum hardware of choice.</div>*"
   ]
  },
  {
   "cell_type": "markdown",
   "metadata": {},
   "source": [
    "### Exercise 1: GHZ State\n",
    "\n",
    "Based on the Bell state example above, prepare a **GHZ state** with 3 qubits. The GHZ state creates maximum entanglement between three qubits: (|000⟩ + |111⟩)/√2."
   ]
  },
  {
   "cell_type": "code",
   "execution_count": 3,
   "metadata": {
    "ExecuteTime": {
     "end_time": "2025-08-21T16:06:04.432205Z",
     "start_time": "2025-08-21T16:06:04.426739Z"
    }
   },
   "outputs": [],
   "source": [
    "from classiq import *\n",
    "\n",
    "\n",
    "@qfunc\n",
    "def create_ghz_state(qubits: QArray[QBit, 3]):\n",
    "    # TODO: Apply GHZ logic\n",
    "    pass\n",
    "\n",
    "\n",
    "@qfunc\n",
    "def main(res: Output[QArray[QBit, 3]]):\n",
    "    allocate(res)\n",
    "    create_ghz_state(res)\n",
    "\n",
    "\n",
    "# TODO: Synthesize the model, show, execute and print results\n",
    "# Hint: Follow the same pattern as the demonstration above"
   ]
  },
  {
   "cell_type": "markdown",
   "metadata": {},
   "source": [
    "*<div class=\"alert alert-primary\">You should see in approximately 50% of the samples the bit vector 000 and in 50% the bit vector 111.</div>*"
   ]
  },
  {
   "cell_type": "markdown",
   "metadata": {},
   "source": [
    "### Exercise 2: GHZ with Numeric Variables\n",
    "\n",
    "Define a main function that calls the `create_ghz_state` (as implemented in Exercise 1) with a ***signed*** quantum number and outputs the results.\n",
    "\n",
    "Synthesize it, analyze the quantum program, execute it and print the results. What do you expect the resulting value of `x` to be? \n",
    "\n",
    "Further reading: [Quantum Types](https://docs.classiq.io/latest/qmod-reference/language-reference/quantum-types/)"
   ]
  },
  {
   "cell_type": "code",
   "execution_count": 4,
   "metadata": {
    "ExecuteTime": {
     "end_time": "2025-08-21T16:06:04.464240Z",
     "start_time": "2025-08-21T16:06:04.461711Z"
    }
   },
   "outputs": [],
   "source": [
    "from classiq import *\n",
    "\n",
    "\n",
    "@qfunc\n",
    "def main(x: Output[QNum[3, SIGNED, 0]]):\n",
    "    # TODO: Create GHZ state with QNum (gives 0 and -1)\n",
    "    # Hint: Is it any different from the previous main implementation?\n",
    "    pass\n",
    "\n",
    "\n",
    "# TODO: Synthesize the model, show, execute and print results"
   ]
  },
  {
   "cell_type": "markdown",
   "metadata": {},
   "source": [
    "*<div class=\"alert alert-secondary\">You should see approximately 50% for 0 and 50% for -1.</div>*"
   ]
  },
  {
   "cell_type": "markdown",
   "metadata": {},
   "source": [
    "*<div class=\"alert alert-info\">In Qmod function arguments are automatically cast between `QNum` and `QArray[QBit]` (and also between other quantum types).\n",
    "    The value of quantum variables is interpreted based on their type. The state $|111\\rangle$ represents 7 for an unsigned integer, and -1 as signed integer (in two's complement encoding).</div>*"
   ]
  },
  {
   "cell_type": "markdown",
   "metadata": {},
   "source": [
    "## Section B *(30 minutes)*"
   ]
  },
  {
   "cell_type": "markdown",
   "metadata": {},
   "source": [
    "### Exercise 3: Arithmetic Expressions with Automatic Type Inference"
   ]
  },
  {
   "cell_type": "markdown",
   "metadata": {},
   "source": [
    "#### Part A: Numeric type inference\n",
    "\n",
    "Create and execute a quantum program that assigns a quantum arithmetic expression to a numeric variable:\n",
    "1. Declare quantum numeric variables `a` and `b` as unsigned integers of size of 2.\n",
    "2. Apply `hadamard_transform` on `a` and `b` (to put them in uniform superposition of all possible states).\n",
    "3. Assign the value of `3*a + b` to `c`.\n",
    "4. Synthesize, show, execute and print results.\n",
    " Inspect the printouts - what numeric attributes were inferred for variable `c`? Why?\n",
    "\n",
    "Further reading: [Numeric Assignment](https://docs.classiq.io/latest/qmod-reference/language-reference/statements/numeric-assignment/)\n"
   ]
  },
  {
   "cell_type": "code",
   "execution_count": 5,
   "metadata": {
    "ExecuteTime": {
     "end_time": "2025-08-21T16:06:04.605985Z",
     "start_time": "2025-08-21T16:06:04.603400Z"
    }
   },
   "outputs": [],
   "source": [
    "from classiq import *\n",
    "\n",
    "\n",
    "@qfunc\n",
    "def main(a: Output[QNum[2]], b: Output[QNum[2]], c: Output[QNum]):\n",
    "    allocate(a)\n",
    "    allocate(b)\n",
    "    # TODO: Put a and b in equal superposition\n",
    "\n",
    "    # TODO:Assign the value of 3*a + b to c\n",
    "\n",
    "    # Print out c's inferred size in qubits\n",
    "    print(f\"The size of c is {c.size}\")\n",
    "\n",
    "\n",
    "# TODO: Synthesize the model, show, execute and print results"
   ]
  },
  {
   "cell_type": "markdown",
   "metadata": {},
   "source": [
    "*<div class=\"alert alert-secondary\">The expression result ranges between 0 and 12. To represent all values variable `c` must be an unsigned integer of size 4 qubits or more.</div>*"
   ]
  },
  {
   "cell_type": "markdown",
   "metadata": {
    "jp-MarkdownHeadingCollapsed": true
   },
   "source": [
    "*<div class=\"alert alert-info\">In Qmod the size of numeric variables may be left unspecified. It is then automatically inferred to tightly fit all possible values of the expressions.</div>*"
   ]
  },
  {
   "cell_type": "markdown",
   "metadata": {},
   "source": [
    "#### Part B: Numeric type inference with fixed-point fractions\n",
    "\n",
    "Repeat *Part A*, only this time declaring `a` with 1 fraction digit and `b` with 2 fraction digits. How did the numeric attributes of `c` change? What are the corresponding sampled values for `c` in the result?\n"
   ]
  },
  {
   "cell_type": "code",
   "execution_count": 6,
   "metadata": {
    "ExecuteTime": {
     "end_time": "2025-08-21T16:06:04.632198Z",
     "start_time": "2025-08-21T16:06:04.628364Z"
    }
   },
   "outputs": [],
   "source": [
    "from classiq import *\n",
    "\n",
    "\n",
    "@qfunc\n",
    "def main(\n",
    "    a: Output[QNum[2, UNSIGNED, 1]], b: Output[QNum[2, UNSIGNED, 2]], c: Output[QNum]\n",
    "):\n",
    "    allocate(a)\n",
    "    allocate(b)\n",
    "    # TODO: Put a and b in equal superposition\n",
    "\n",
    "    # TODO: Assign the value of 3*a + b to c\n",
    "    # Hint: Is it any different from the previous main implementation?\n",
    "\n",
    "    # Print out the numeric attributes of the inferred type\n",
    "    print(\"Numeric attributes of c:\")\n",
    "    print(\n",
    "        f\"size={c.size}, is_signed={c.is_signed}, fraction_digits={c.fraction_digits}\"\n",
    "    )\n",
    "\n",
    "\n",
    "# TODO: Synthesize the model, show, execute and print results"
   ]
  },
  {
   "cell_type": "markdown",
   "metadata": {},
   "source": [
    "*<div class=\"alert alert-secondary\">Variable `c` should be of size 5, unsigend, and with 2 fraction digits. This is the minimal type that covers the expression's domain.</div>*"
   ]
  },
  {
   "cell_type": "markdown",
   "metadata": {
    "jp-MarkdownHeadingCollapsed": true
   },
   "source": [
    "*<div class=\"alert alert-info\">In Qmod, numeric variables can represent arbitrary fixed-point values. Arithemetic expression and type inference also accommodate for different decimal point locations.</div>*"
   ]
  },
  {
   "cell_type": "markdown",
   "metadata": {},
   "source": [
    "### Exercise 4: Conditional Operations\n",
    "\n",
    "Define a main function that initializes a quantum variable `x` (a 3-qubit signed number with 2 binary fraction digits) in an equal superposition of all states, then conditionally flips a single-qubit variable named `flag` when the value of x is less than 0.5. Inspect the execution results - how is `flag` entangled with `x`?\n",
    "\n",
    "Further reading: [Control Statement](https://docs.classiq.io/latest/qmod-reference/language-reference/statements/control/)"
   ]
  },
  {
   "cell_type": "code",
   "execution_count": 7,
   "metadata": {
    "ExecuteTime": {
     "end_time": "2025-08-21T16:06:04.558795Z",
     "start_time": "2025-08-21T16:06:04.555865Z"
    }
   },
   "outputs": [],
   "source": [
    "from classiq import *\n",
    "\n",
    "\n",
    "@qfunc\n",
    "def main(x: Output[QNum[3, SIGNED, 2]], flag: Output[QBit]):\n",
    "    allocate(x)\n",
    "    hadamard_transform(x)\n",
    "\n",
    "    allocate(flag)\n",
    "    # TODO : Flip the state of flag if x < 0.5\n",
    "\n",
    "\n",
    "# TODO: Synthesize the model, show, execute and print results"
   ]
  },
  {
   "cell_type": "markdown",
   "metadata": {},
   "source": [
    "*<div class=\"alert alert-secondary\">You should see that `x` is evenly distributed across the 8 values, and `flag` is flipped in 6 out of the 8 cases.</div>*"
   ]
  },
  {
   "cell_type": "markdown",
   "metadata": {},
   "source": [
    "*<div class=\"alert alert-info\">The `control` statement in Qmod is similar to classical *if* statement, where a statement block is applied conditionally, depending on a Boolean expression, and optionally an else-block is applied otherwise. The difference is that the operations are applied in superposition, corresponding to the condition.</div>*\n"
   ]
  },
  {
   "cell_type": "markdown",
   "metadata": {},
   "source": [
    "### Exercise 5: Grover Algorithm using Quantum Struct and Constant Phase\n",
    "\n",
    "The Grover search algorithm uses two kinds of conditional phase flips - one reflecting about the \"good\" states, and the other reflecting about the zero state. This is easy to express using fixed $\\pi$ phase rotation under the required control condition. It is also convenient to encapsulate the problem variables in a quantum struct, so they can be passed around between functional units.\n",
    "\n",
    "Create a quantum program that finds assignments for $a, b$ and $c \\in \\{0, 1, 2, 3\\}$ that satisfy the equation $3a + b + 2c = 9$.\n",
    "- Declare the varaibles as fiels of a quantum struct\n",
    "- Define the phase oracle in terms of the problem condition\n",
    "- Define the zero-reflection in the diffuser\n",
    "\n"
   ]
  },
  {
   "cell_type": "code",
   "execution_count": 8,
   "metadata": {
    "ExecuteTime": {
     "end_time": "2025-08-21T16:06:09.432104Z",
     "start_time": "2025-08-21T16:06:04.644051Z"
    }
   },
   "outputs": [
    {
     "name": "stdout",
     "output_type": "stream",
     "text": [
      "Quantum program link: https://platform.classiq.io/circuit/31e5G2HEMuDsytsIQsoZyhDTSMJ\n"
     ]
    },
    {
     "data": {
      "text/html": [
       "<div>\n",
       "<style scoped>\n",
       "    .dataframe tbody tr th:only-of-type {\n",
       "        vertical-align: middle;\n",
       "    }\n",
       "\n",
       "    .dataframe tbody tr th {\n",
       "        vertical-align: top;\n",
       "    }\n",
       "\n",
       "    .dataframe thead th {\n",
       "        text-align: right;\n",
       "    }\n",
       "</style>\n",
       "<table border=\"1\" class=\"dataframe\">\n",
       "  <thead>\n",
       "    <tr style=\"text-align: right;\">\n",
       "      <th></th>\n",
       "      <th>v.dummy</th>\n",
       "      <th>count</th>\n",
       "      <th>probability</th>\n",
       "      <th>bitstring</th>\n",
       "    </tr>\n",
       "  </thead>\n",
       "  <tbody>\n",
       "    <tr>\n",
       "      <th>0</th>\n",
       "      <td>0</td>\n",
       "      <td>1036</td>\n",
       "      <td>0.505859</td>\n",
       "      <td>0</td>\n",
       "    </tr>\n",
       "    <tr>\n",
       "      <th>1</th>\n",
       "      <td>1</td>\n",
       "      <td>1012</td>\n",
       "      <td>0.494141</td>\n",
       "      <td>1</td>\n",
       "    </tr>\n",
       "  </tbody>\n",
       "</table>\n",
       "</div>"
      ],
      "text/plain": [
       "   v.dummy  count  probability bitstring\n",
       "0        0   1036     0.505859         0\n",
       "1        1   1012     0.494141         1"
      ]
     },
     "metadata": {},
     "output_type": "display_data"
    }
   ],
   "source": [
    "from classiq import *\n",
    "from classiq.qmod.symbolic import pi\n",
    "\n",
    "\n",
    "class MyProblemVars(QStruct):\n",
    "    # TODO: Declare the problem variables as quantum numeric fields\n",
    "    dummy: (\n",
    "        QBit  # Placeholder for the struct to be non-empty - replace with actual fields\n",
    "    )\n",
    "\n",
    "\n",
    "@qfunc\n",
    "def phase_oracle(v: MyProblemVars):\n",
    "    # TODO: Apply a phase flip if the state of v satisfies the equation (use field access in the form `v.a` etc.)\n",
    "    pass\n",
    "\n",
    "\n",
    "@qfunc\n",
    "def zero_reflection(state: QNum):\n",
    "    # TODO: Apply a phase flip if state is |0>\n",
    "    pass\n",
    "\n",
    "\n",
    "@qfunc\n",
    "def grover_operator(v: MyProblemVars):\n",
    "    phase_oracle(v)\n",
    "    hadamard_transform(v)\n",
    "    zero_reflection(v)\n",
    "    hadamard_transform(v)\n",
    "\n",
    "\n",
    "@qfunc\n",
    "def main(v: Output[MyProblemVars]):\n",
    "    allocate(v)\n",
    "    hadamard_transform(v)\n",
    "    for i in range(2):\n",
    "        grover_operator(v)\n",
    "\n",
    "\n",
    "# Synthesize the model, show, execute and print results\n",
    "qprog = synthesize(main)\n",
    "show(qprog)\n",
    "\n",
    "with ExecutionSession(qprog) as es:\n",
    "    res = es.sample()\n",
    "    display(res.dataframe)"
   ]
  },
  {
   "cell_type": "markdown",
   "metadata": {},
   "source": [
    "*<div class=\"alert alert-secondary\">There are 6 assignments to `a`, `b`, and `c` that satisfy the equation. They should be sampled with approximately equal probabilities.</div>*"
   ]
  },
  {
   "cell_type": "markdown",
   "metadata": {},
   "source": [
    "*<div class=\"alert alert-info\">In Qmod, a fixed phase (specifically $\\pi$) can be introduced under `control` condition. This is a powerful idiom when combined with numeric quantum expressions.</div>*"
   ]
  },
  {
   "cell_type": "markdown",
   "metadata": {},
   "source": [
    "### Exercise 6: Computing x² Using Phase Operations"
   ]
  },
  {
   "cell_type": "markdown",
   "metadata": {},
   "source": [
    "#### Part A: Phase Encoding x²\n",
    "\n",
    "Compute x² in the phase of its state. To actually view the phases of the states simulate the program using state-vector simulation.\n",
    "Expand the quantum program visualization down to the gate-level implementation. How is the 'phase' statement synthesized?\n",
    "Inspect the resulting phases of the different states. Do they match the phase expression?\n",
    "\n",
    "Further reading: [Phase Statement](https://docs.classiq.io/latest/qmod-reference/language-reference/statements/phase/)"
   ]
  },
  {
   "cell_type": "code",
   "execution_count": 9,
   "metadata": {
    "ExecuteTime": {
     "end_time": "2025-08-21T16:06:14.124906Z",
     "start_time": "2025-08-21T16:06:09.467461Z"
    }
   },
   "outputs": [
    {
     "name": "stdout",
     "output_type": "stream",
     "text": [
      "Quantum program link: https://platform.classiq.io/circuit/31e5GaZQaACMARem8VYHP5focxz\n"
     ]
    },
    {
     "data": {
      "text/html": [
       "<div>\n",
       "<style scoped>\n",
       "    .dataframe tbody tr th:only-of-type {\n",
       "        vertical-align: middle;\n",
       "    }\n",
       "\n",
       "    .dataframe tbody tr th {\n",
       "        vertical-align: top;\n",
       "    }\n",
       "\n",
       "    .dataframe thead th {\n",
       "        text-align: right;\n",
       "    }\n",
       "</style>\n",
       "<table border=\"1\" class=\"dataframe\">\n",
       "  <thead>\n",
       "    <tr style=\"text-align: right;\">\n",
       "      <th></th>\n",
       "      <th>x</th>\n",
       "      <th>amplitude</th>\n",
       "      <th>probability</th>\n",
       "      <th>bitstring</th>\n",
       "      <th>phase</th>\n",
       "    </tr>\n",
       "  </thead>\n",
       "  <tbody>\n",
       "    <tr>\n",
       "      <th>0</th>\n",
       "      <td>0</td>\n",
       "      <td>1.0+0.0j</td>\n",
       "      <td>1.0</td>\n",
       "      <td>000</td>\n",
       "      <td>0.0</td>\n",
       "    </tr>\n",
       "  </tbody>\n",
       "</table>\n",
       "</div>"
      ],
      "text/plain": [
       "   x  amplitude  probability bitstring  phase\n",
       "0  0   1.0+0.0j          1.0       000    0.0"
      ]
     },
     "metadata": {},
     "output_type": "display_data"
    }
   ],
   "source": [
    "import numpy as np\n",
    "\n",
    "from classiq import *\n",
    "from classiq.execution import ClassiqBackendPreferences, ExecutionPreferences\n",
    "\n",
    "\n",
    "@qfunc\n",
    "def main(x: Output[QNum[3]]):\n",
    "    allocate(x)\n",
    "    # TODO: put x in uniform superposition\n",
    "\n",
    "    # TODO: Encode x² into the phase\n",
    "\n",
    "\n",
    "# Synthesize the model and show\n",
    "qprog = synthesize(main)\n",
    "show(qprog)\n",
    "\n",
    "# Specify execution preferences for state vector simulation\n",
    "preferences = ExecutionPreferences(\n",
    "    num_shots=1,\n",
    "    backend_preferences=ClassiqBackendPreferences(backend_name=\"simulator_statevector\"),\n",
    ")\n",
    "\n",
    "# Execute and print results:\n",
    "with ExecutionSession(qprog, preferences) as es:\n",
    "    res = es.sample()\n",
    "    res.dataframe.sort_values(by=\"x\", inplace=True)  # Sort by x for better readability\n",
    "    res.dataframe[\"phase\"] = np.round(\n",
    "        np.angle(res.dataframe.amplitude) / np.pi, 2\n",
    "    )  # Add phase column in units of pi for convenience\n",
    "    display(res.dataframe)"
   ]
  },
  {
   "cell_type": "markdown",
   "metadata": {},
   "source": [
    "\n",
    "*<div class=\"alert alert-secondary\">The resulting state phases should show x² rotation of the respective computational-state value, modulo 8 (determined by the domain of variable `x`). The steps are a 1/8 of a full $2\\pi$ rotation</div>*"
   ]
  },
  {
   "cell_type": "markdown",
   "metadata": {},
   "source": [
    "*<div class=\"alert alert-info\">The `phase` statement can operate on an arbitrary polynomial over quantum numeric variables and compiles it into relative Z rotations of the respective states.</div>*"
   ]
  },
  {
   "cell_type": "markdown",
   "metadata": {},
   "source": [
    "#### Bonus: Fourier Arithmetic\n",
    "\n",
    "Create a quantum program that computes res = x² by encoding the result in the phase of a Fourier basis. Then transform the result back to the computational basis. Inspect the execution results to validate the correctness of your algorithm."
   ]
  },
  {
   "cell_type": "code",
   "execution_count": 10,
   "metadata": {
    "ExecuteTime": {
     "end_time": "2025-08-21T16:06:17.544547Z",
     "start_time": "2025-08-21T16:06:14.130278Z"
    }
   },
   "outputs": [
    {
     "data": {
      "text/html": [
       "<div>\n",
       "<style scoped>\n",
       "    .dataframe tbody tr th:only-of-type {\n",
       "        vertical-align: middle;\n",
       "    }\n",
       "\n",
       "    .dataframe tbody tr th {\n",
       "        vertical-align: top;\n",
       "    }\n",
       "\n",
       "    .dataframe thead th {\n",
       "        text-align: right;\n",
       "    }\n",
       "</style>\n",
       "<table border=\"1\" class=\"dataframe\">\n",
       "  <thead>\n",
       "    <tr style=\"text-align: right;\">\n",
       "      <th></th>\n",
       "      <th>x</th>\n",
       "      <th>res</th>\n",
       "      <th>count</th>\n",
       "      <th>probability</th>\n",
       "      <th>bitstring</th>\n",
       "    </tr>\n",
       "  </thead>\n",
       "  <tbody>\n",
       "    <tr>\n",
       "      <th>7</th>\n",
       "      <td>0</td>\n",
       "      <td>0</td>\n",
       "      <td>239</td>\n",
       "      <td>0.116699</td>\n",
       "      <td>0000000</td>\n",
       "    </tr>\n",
       "    <tr>\n",
       "      <th>4</th>\n",
       "      <td>1</td>\n",
       "      <td>0</td>\n",
       "      <td>256</td>\n",
       "      <td>0.125000</td>\n",
       "      <td>0000001</td>\n",
       "    </tr>\n",
       "    <tr>\n",
       "      <th>2</th>\n",
       "      <td>2</td>\n",
       "      <td>0</td>\n",
       "      <td>261</td>\n",
       "      <td>0.127441</td>\n",
       "      <td>0000010</td>\n",
       "    </tr>\n",
       "    <tr>\n",
       "      <th>6</th>\n",
       "      <td>3</td>\n",
       "      <td>0</td>\n",
       "      <td>244</td>\n",
       "      <td>0.119141</td>\n",
       "      <td>0000011</td>\n",
       "    </tr>\n",
       "    <tr>\n",
       "      <th>0</th>\n",
       "      <td>4</td>\n",
       "      <td>0</td>\n",
       "      <td>275</td>\n",
       "      <td>0.134277</td>\n",
       "      <td>0000100</td>\n",
       "    </tr>\n",
       "    <tr>\n",
       "      <th>1</th>\n",
       "      <td>5</td>\n",
       "      <td>0</td>\n",
       "      <td>267</td>\n",
       "      <td>0.130371</td>\n",
       "      <td>0000101</td>\n",
       "    </tr>\n",
       "    <tr>\n",
       "      <th>5</th>\n",
       "      <td>6</td>\n",
       "      <td>0</td>\n",
       "      <td>249</td>\n",
       "      <td>0.121582</td>\n",
       "      <td>0000110</td>\n",
       "    </tr>\n",
       "    <tr>\n",
       "      <th>3</th>\n",
       "      <td>7</td>\n",
       "      <td>0</td>\n",
       "      <td>257</td>\n",
       "      <td>0.125488</td>\n",
       "      <td>0000111</td>\n",
       "    </tr>\n",
       "  </tbody>\n",
       "</table>\n",
       "</div>"
      ],
      "text/plain": [
       "   x  res  count  probability bitstring\n",
       "7  0    0    239     0.116699   0000000\n",
       "4  1    0    256     0.125000   0000001\n",
       "2  2    0    261     0.127441   0000010\n",
       "6  3    0    244     0.119141   0000011\n",
       "0  4    0    275     0.134277   0000100\n",
       "1  5    0    267     0.130371   0000101\n",
       "5  6    0    249     0.121582   0000110\n",
       "3  7    0    257     0.125488   0000111"
      ]
     },
     "metadata": {},
     "output_type": "display_data"
    }
   ],
   "source": [
    "import numpy as np\n",
    "\n",
    "from classiq import *\n",
    "\n",
    "\n",
    "@qfunc\n",
    "def main(x: Output[QNum[3]], res: Output[QNum[4]]):\n",
    "    allocate(x)\n",
    "    hadamard_transform(x)\n",
    "    allocate(res)\n",
    "\n",
    "    # TODO: Use within_apply with QFT and phase operations\n",
    "\n",
    "\n",
    "# Synthesize the model and show\n",
    "qprog = synthesize(main)\n",
    "# show(qprog)\n",
    "\n",
    "# Synthesize the model, show, execute and print results\n",
    "with ExecutionSession(qprog) as es:\n",
    "    res = es.sample()\n",
    "    res.dataframe.sort_values(by=\"x\", inplace=True)  # Sort by x for better readability\n",
    "    display(res.dataframe)"
   ]
  },
  {
   "cell_type": "markdown",
   "metadata": {},
   "source": [
    "*<div class=\"alert alert-info\">The `phase` statement can be used to implement modular arithmetic in the Fourier basis.</div>*"
   ]
  },
  {
   "cell_type": "markdown",
   "metadata": {},
   "source": [
    "## Solutions"
   ]
  },
  {
   "cell_type": "markdown",
   "metadata": {},
   "source": [
    "### Solution 1: GHZ State\n"
   ]
  },
  {
   "cell_type": "code",
   "execution_count": 11,
   "metadata": {
    "ExecuteTime": {
     "end_time": "2025-08-21T16:06:21.944527Z",
     "start_time": "2025-08-21T16:06:17.556411Z"
    }
   },
   "outputs": [
    {
     "name": "stdout",
     "output_type": "stream",
     "text": [
      "Quantum program link: https://platform.classiq.io/circuit/31e5Hm84N12unBX44OrbH14W57G\n",
      "Ex.1 Results:\n"
     ]
    },
    {
     "data": {
      "text/html": [
       "<div>\n",
       "<style scoped>\n",
       "    .dataframe tbody tr th:only-of-type {\n",
       "        vertical-align: middle;\n",
       "    }\n",
       "\n",
       "    .dataframe tbody tr th {\n",
       "        vertical-align: top;\n",
       "    }\n",
       "\n",
       "    .dataframe thead th {\n",
       "        text-align: right;\n",
       "    }\n",
       "</style>\n",
       "<table border=\"1\" class=\"dataframe\">\n",
       "  <thead>\n",
       "    <tr style=\"text-align: right;\">\n",
       "      <th></th>\n",
       "      <th>res</th>\n",
       "      <th>count</th>\n",
       "      <th>probability</th>\n",
       "      <th>bitstring</th>\n",
       "    </tr>\n",
       "  </thead>\n",
       "  <tbody>\n",
       "    <tr>\n",
       "      <th>0</th>\n",
       "      <td>[1, 1, 1]</td>\n",
       "      <td>1036</td>\n",
       "      <td>0.505859</td>\n",
       "      <td>111</td>\n",
       "    </tr>\n",
       "    <tr>\n",
       "      <th>1</th>\n",
       "      <td>[0, 0, 0]</td>\n",
       "      <td>1012</td>\n",
       "      <td>0.494141</td>\n",
       "      <td>000</td>\n",
       "    </tr>\n",
       "  </tbody>\n",
       "</table>\n",
       "</div>"
      ],
      "text/plain": [
       "         res  count  probability bitstring\n",
       "0  [1, 1, 1]   1036     0.505859       111\n",
       "1  [0, 0, 0]   1012     0.494141       000"
      ]
     },
     "metadata": {},
     "output_type": "display_data"
    }
   ],
   "source": [
    "from classiq import *\n",
    "\n",
    "\n",
    "@qfunc\n",
    "def create_ghz_state(qubits: QArray[QBit, 3]):\n",
    "    # Apply GHZ logic\n",
    "    H(qubits[0])\n",
    "    CX(qubits[0], qubits[1])\n",
    "    CX(qubits[1], qubits[2])\n",
    "\n",
    "\n",
    "@qfunc\n",
    "def main(res: Output[QArray[QBit, 3]]):\n",
    "    allocate(res)\n",
    "    create_ghz_state(res)\n",
    "\n",
    "\n",
    "# Synthesize the model, show, execute and print results\n",
    "qprog = synthesize(main)\n",
    "show(qprog)\n",
    "\n",
    "with ExecutionSession(qprog) as es:\n",
    "    res = es.sample()\n",
    "    print(\"Ex.1 Results:\")\n",
    "    display(res.dataframe)"
   ]
  },
  {
   "cell_type": "markdown",
   "metadata": {},
   "source": [
    "### Solution 2: GHZ with Quantum Numbers\n"
   ]
  },
  {
   "cell_type": "code",
   "execution_count": 12,
   "metadata": {
    "ExecuteTime": {
     "end_time": "2025-08-21T16:06:27.077580Z",
     "start_time": "2025-08-21T16:06:21.987968Z"
    }
   },
   "outputs": [
    {
     "name": "stdout",
     "output_type": "stream",
     "text": [
      "Quantum program link: https://platform.classiq.io/circuit/31e5IGP6b3CyZMEO6umC7ncNL9j\n",
      "Ex.2 Results:\n"
     ]
    },
    {
     "data": {
      "text/html": [
       "<div>\n",
       "<style scoped>\n",
       "    .dataframe tbody tr th:only-of-type {\n",
       "        vertical-align: middle;\n",
       "    }\n",
       "\n",
       "    .dataframe tbody tr th {\n",
       "        vertical-align: top;\n",
       "    }\n",
       "\n",
       "    .dataframe thead th {\n",
       "        text-align: right;\n",
       "    }\n",
       "</style>\n",
       "<table border=\"1\" class=\"dataframe\">\n",
       "  <thead>\n",
       "    <tr style=\"text-align: right;\">\n",
       "      <th></th>\n",
       "      <th>x</th>\n",
       "      <th>count</th>\n",
       "      <th>probability</th>\n",
       "      <th>bitstring</th>\n",
       "    </tr>\n",
       "  </thead>\n",
       "  <tbody>\n",
       "    <tr>\n",
       "      <th>0</th>\n",
       "      <td>-1</td>\n",
       "      <td>1036</td>\n",
       "      <td>0.505859</td>\n",
       "      <td>111</td>\n",
       "    </tr>\n",
       "    <tr>\n",
       "      <th>1</th>\n",
       "      <td>0</td>\n",
       "      <td>1012</td>\n",
       "      <td>0.494141</td>\n",
       "      <td>000</td>\n",
       "    </tr>\n",
       "  </tbody>\n",
       "</table>\n",
       "</div>"
      ],
      "text/plain": [
       "   x  count  probability bitstring\n",
       "0 -1   1036     0.505859       111\n",
       "1  0   1012     0.494141       000"
      ]
     },
     "metadata": {},
     "output_type": "display_data"
    }
   ],
   "source": [
    "from classiq import *\n",
    "\n",
    "\n",
    "@qfunc\n",
    "def main(x: Output[QNum[3, SIGNED, 0]]):\n",
    "    # Create GHZ state with QNum (gives 0 and -1)\n",
    "    allocate(x)\n",
    "    create_ghz_state(x)\n",
    "\n",
    "\n",
    "# Synthesize the model, show, execute and print results\n",
    "qprog = synthesize(main)\n",
    "show(qprog)\n",
    "\n",
    "with ExecutionSession(qprog) as es:\n",
    "    res = es.sample()\n",
    "    print(\"Ex.2 Results:\")\n",
    "    display(res.dataframe)"
   ]
  },
  {
   "cell_type": "markdown",
   "metadata": {},
   "source": [
    "### Solution 3: Arithmetic Expressions with Automatic Type Inference"
   ]
  },
  {
   "cell_type": "markdown",
   "metadata": {},
   "source": [
    "#### Part A: Numeric type inference"
   ]
  },
  {
   "cell_type": "code",
   "execution_count": 13,
   "metadata": {
    "ExecuteTime": {
     "end_time": "2025-08-21T16:06:37.263440Z",
     "start_time": "2025-08-21T16:06:32.666286Z"
    }
   },
   "outputs": [
    {
     "name": "stdout",
     "output_type": "stream",
     "text": [
      "The size of c is 4\n",
      "Quantum program link: https://platform.classiq.io/circuit/31e5IrvLtJVGMREqPYVOQpMUQvz\n",
      "Ex.4A Results:\n"
     ]
    },
    {
     "data": {
      "text/html": [
       "<div>\n",
       "<style scoped>\n",
       "    .dataframe tbody tr th:only-of-type {\n",
       "        vertical-align: middle;\n",
       "    }\n",
       "\n",
       "    .dataframe tbody tr th {\n",
       "        vertical-align: top;\n",
       "    }\n",
       "\n",
       "    .dataframe thead th {\n",
       "        text-align: right;\n",
       "    }\n",
       "</style>\n",
       "<table border=\"1\" class=\"dataframe\">\n",
       "  <thead>\n",
       "    <tr style=\"text-align: right;\">\n",
       "      <th></th>\n",
       "      <th>a</th>\n",
       "      <th>b</th>\n",
       "      <th>c</th>\n",
       "      <th>count</th>\n",
       "      <th>probability</th>\n",
       "      <th>bitstring</th>\n",
       "    </tr>\n",
       "  </thead>\n",
       "  <tbody>\n",
       "    <tr>\n",
       "      <th>0</th>\n",
       "      <td>3</td>\n",
       "      <td>3</td>\n",
       "      <td>12</td>\n",
       "      <td>155</td>\n",
       "      <td>0.075684</td>\n",
       "      <td>11001111</td>\n",
       "    </tr>\n",
       "    <tr>\n",
       "      <th>1</th>\n",
       "      <td>3</td>\n",
       "      <td>0</td>\n",
       "      <td>9</td>\n",
       "      <td>149</td>\n",
       "      <td>0.072754</td>\n",
       "      <td>10010011</td>\n",
       "    </tr>\n",
       "    <tr>\n",
       "      <th>2</th>\n",
       "      <td>2</td>\n",
       "      <td>3</td>\n",
       "      <td>9</td>\n",
       "      <td>138</td>\n",
       "      <td>0.067383</td>\n",
       "      <td>10011110</td>\n",
       "    </tr>\n",
       "    <tr>\n",
       "      <th>3</th>\n",
       "      <td>2</td>\n",
       "      <td>2</td>\n",
       "      <td>8</td>\n",
       "      <td>136</td>\n",
       "      <td>0.066406</td>\n",
       "      <td>10001010</td>\n",
       "    </tr>\n",
       "    <tr>\n",
       "      <th>4</th>\n",
       "      <td>2</td>\n",
       "      <td>0</td>\n",
       "      <td>6</td>\n",
       "      <td>135</td>\n",
       "      <td>0.065918</td>\n",
       "      <td>01100010</td>\n",
       "    </tr>\n",
       "    <tr>\n",
       "      <th>5</th>\n",
       "      <td>0</td>\n",
       "      <td>0</td>\n",
       "      <td>0</td>\n",
       "      <td>134</td>\n",
       "      <td>0.065430</td>\n",
       "      <td>00000000</td>\n",
       "    </tr>\n",
       "    <tr>\n",
       "      <th>6</th>\n",
       "      <td>3</td>\n",
       "      <td>1</td>\n",
       "      <td>10</td>\n",
       "      <td>131</td>\n",
       "      <td>0.063965</td>\n",
       "      <td>10100111</td>\n",
       "    </tr>\n",
       "    <tr>\n",
       "      <th>7</th>\n",
       "      <td>1</td>\n",
       "      <td>1</td>\n",
       "      <td>4</td>\n",
       "      <td>129</td>\n",
       "      <td>0.062988</td>\n",
       "      <td>01000101</td>\n",
       "    </tr>\n",
       "    <tr>\n",
       "      <th>8</th>\n",
       "      <td>1</td>\n",
       "      <td>2</td>\n",
       "      <td>5</td>\n",
       "      <td>129</td>\n",
       "      <td>0.062988</td>\n",
       "      <td>01011001</td>\n",
       "    </tr>\n",
       "    <tr>\n",
       "      <th>9</th>\n",
       "      <td>0</td>\n",
       "      <td>3</td>\n",
       "      <td>3</td>\n",
       "      <td>122</td>\n",
       "      <td>0.059570</td>\n",
       "      <td>00111100</td>\n",
       "    </tr>\n",
       "    <tr>\n",
       "      <th>10</th>\n",
       "      <td>1</td>\n",
       "      <td>0</td>\n",
       "      <td>3</td>\n",
       "      <td>121</td>\n",
       "      <td>0.059082</td>\n",
       "      <td>00110001</td>\n",
       "    </tr>\n",
       "    <tr>\n",
       "      <th>11</th>\n",
       "      <td>0</td>\n",
       "      <td>1</td>\n",
       "      <td>1</td>\n",
       "      <td>118</td>\n",
       "      <td>0.057617</td>\n",
       "      <td>00010100</td>\n",
       "    </tr>\n",
       "    <tr>\n",
       "      <th>12</th>\n",
       "      <td>1</td>\n",
       "      <td>3</td>\n",
       "      <td>6</td>\n",
       "      <td>118</td>\n",
       "      <td>0.057617</td>\n",
       "      <td>01101101</td>\n",
       "    </tr>\n",
       "    <tr>\n",
       "      <th>13</th>\n",
       "      <td>2</td>\n",
       "      <td>1</td>\n",
       "      <td>7</td>\n",
       "      <td>118</td>\n",
       "      <td>0.057617</td>\n",
       "      <td>01110110</td>\n",
       "    </tr>\n",
       "    <tr>\n",
       "      <th>14</th>\n",
       "      <td>0</td>\n",
       "      <td>2</td>\n",
       "      <td>2</td>\n",
       "      <td>112</td>\n",
       "      <td>0.054688</td>\n",
       "      <td>00101000</td>\n",
       "    </tr>\n",
       "    <tr>\n",
       "      <th>15</th>\n",
       "      <td>3</td>\n",
       "      <td>2</td>\n",
       "      <td>11</td>\n",
       "      <td>103</td>\n",
       "      <td>0.050293</td>\n",
       "      <td>10111011</td>\n",
       "    </tr>\n",
       "  </tbody>\n",
       "</table>\n",
       "</div>"
      ],
      "text/plain": [
       "    a  b   c  count  probability bitstring\n",
       "0   3  3  12    155     0.075684  11001111\n",
       "1   3  0   9    149     0.072754  10010011\n",
       "2   2  3   9    138     0.067383  10011110\n",
       "3   2  2   8    136     0.066406  10001010\n",
       "4   2  0   6    135     0.065918  01100010\n",
       "5   0  0   0    134     0.065430  00000000\n",
       "6   3  1  10    131     0.063965  10100111\n",
       "7   1  1   4    129     0.062988  01000101\n",
       "8   1  2   5    129     0.062988  01011001\n",
       "9   0  3   3    122     0.059570  00111100\n",
       "10  1  0   3    121     0.059082  00110001\n",
       "11  0  1   1    118     0.057617  00010100\n",
       "12  1  3   6    118     0.057617  01101101\n",
       "13  2  1   7    118     0.057617  01110110\n",
       "14  0  2   2    112     0.054688  00101000\n",
       "15  3  2  11    103     0.050293  10111011"
      ]
     },
     "metadata": {},
     "output_type": "display_data"
    }
   ],
   "source": [
    "from classiq import *\n",
    "\n",
    "\n",
    "@qfunc\n",
    "def main(a: Output[QNum[2]], b: Output[QNum[2]], c: Output[QNum]):\n",
    "    allocate(a)\n",
    "    allocate(b)\n",
    "    # Put a and b in equal superposition\n",
    "    hadamard_transform(a)\n",
    "    hadamard_transform(b)\n",
    "\n",
    "    # Assign the value of 3*a + b to c\n",
    "    c |= 3 * a + b\n",
    "\n",
    "    # Print out c's inferred size in qubits\n",
    "    print(f\"The size of c is {c.size}\")\n",
    "\n",
    "\n",
    "# Synthesize the model, show, execute and print results\n",
    "qprog = synthesize(main)\n",
    "show(qprog)\n",
    "\n",
    "with ExecutionSession(qprog) as es:\n",
    "    res = es.sample()\n",
    "    print(\"Ex.4A Results:\")\n",
    "    display(res.dataframe)"
   ]
  },
  {
   "cell_type": "markdown",
   "metadata": {},
   "source": [
    "#### Part B: Numeric type inference with fixed-point fractions"
   ]
  },
  {
   "cell_type": "code",
   "execution_count": 14,
   "metadata": {
    "ExecuteTime": {
     "end_time": "2025-08-21T16:06:41.793505Z",
     "start_time": "2025-08-21T16:06:37.333508Z"
    }
   },
   "outputs": [
    {
     "name": "stdout",
     "output_type": "stream",
     "text": [
      "Numeric attributes of c:\n",
      "size: 5, is_signed: False, fraction_digits: 2\n",
      "Quantum program link: https://platform.classiq.io/circuit/31e5JJJTpXvIb2eYR1RWGKna5q5\n",
      "Ex.4B Results:\n"
     ]
    },
    {
     "data": {
      "text/html": [
       "<div>\n",
       "<style scoped>\n",
       "    .dataframe tbody tr th:only-of-type {\n",
       "        vertical-align: middle;\n",
       "    }\n",
       "\n",
       "    .dataframe tbody tr th {\n",
       "        vertical-align: top;\n",
       "    }\n",
       "\n",
       "    .dataframe thead th {\n",
       "        text-align: right;\n",
       "    }\n",
       "</style>\n",
       "<table border=\"1\" class=\"dataframe\">\n",
       "  <thead>\n",
       "    <tr style=\"text-align: right;\">\n",
       "      <th></th>\n",
       "      <th>a</th>\n",
       "      <th>b</th>\n",
       "      <th>c</th>\n",
       "      <th>count</th>\n",
       "      <th>probability</th>\n",
       "      <th>bitstring</th>\n",
       "    </tr>\n",
       "  </thead>\n",
       "  <tbody>\n",
       "    <tr>\n",
       "      <th>0</th>\n",
       "      <td>0.5</td>\n",
       "      <td>0.50</td>\n",
       "      <td>2.00</td>\n",
       "      <td>166</td>\n",
       "      <td>0.081055</td>\n",
       "      <td>010001001</td>\n",
       "    </tr>\n",
       "    <tr>\n",
       "      <th>1</th>\n",
       "      <td>1.5</td>\n",
       "      <td>0.75</td>\n",
       "      <td>5.25</td>\n",
       "      <td>144</td>\n",
       "      <td>0.070312</td>\n",
       "      <td>101011111</td>\n",
       "    </tr>\n",
       "    <tr>\n",
       "      <th>2</th>\n",
       "      <td>0.0</td>\n",
       "      <td>0.00</td>\n",
       "      <td>0.00</td>\n",
       "      <td>136</td>\n",
       "      <td>0.066406</td>\n",
       "      <td>000000000</td>\n",
       "    </tr>\n",
       "    <tr>\n",
       "      <th>3</th>\n",
       "      <td>0.0</td>\n",
       "      <td>0.25</td>\n",
       "      <td>0.25</td>\n",
       "      <td>135</td>\n",
       "      <td>0.065918</td>\n",
       "      <td>000010100</td>\n",
       "    </tr>\n",
       "    <tr>\n",
       "      <th>4</th>\n",
       "      <td>0.5</td>\n",
       "      <td>0.75</td>\n",
       "      <td>2.25</td>\n",
       "      <td>133</td>\n",
       "      <td>0.064941</td>\n",
       "      <td>010011101</td>\n",
       "    </tr>\n",
       "    <tr>\n",
       "      <th>5</th>\n",
       "      <td>1.0</td>\n",
       "      <td>0.25</td>\n",
       "      <td>3.25</td>\n",
       "      <td>129</td>\n",
       "      <td>0.062988</td>\n",
       "      <td>011010110</td>\n",
       "    </tr>\n",
       "    <tr>\n",
       "      <th>6</th>\n",
       "      <td>0.0</td>\n",
       "      <td>0.50</td>\n",
       "      <td>0.50</td>\n",
       "      <td>128</td>\n",
       "      <td>0.062500</td>\n",
       "      <td>000101000</td>\n",
       "    </tr>\n",
       "    <tr>\n",
       "      <th>7</th>\n",
       "      <td>0.0</td>\n",
       "      <td>0.75</td>\n",
       "      <td>0.75</td>\n",
       "      <td>128</td>\n",
       "      <td>0.062500</td>\n",
       "      <td>000111100</td>\n",
       "    </tr>\n",
       "    <tr>\n",
       "      <th>8</th>\n",
       "      <td>0.5</td>\n",
       "      <td>0.00</td>\n",
       "      <td>1.50</td>\n",
       "      <td>126</td>\n",
       "      <td>0.061523</td>\n",
       "      <td>001100001</td>\n",
       "    </tr>\n",
       "    <tr>\n",
       "      <th>9</th>\n",
       "      <td>1.5</td>\n",
       "      <td>0.25</td>\n",
       "      <td>4.75</td>\n",
       "      <td>122</td>\n",
       "      <td>0.059570</td>\n",
       "      <td>100110111</td>\n",
       "    </tr>\n",
       "    <tr>\n",
       "      <th>10</th>\n",
       "      <td>0.5</td>\n",
       "      <td>0.25</td>\n",
       "      <td>1.75</td>\n",
       "      <td>121</td>\n",
       "      <td>0.059082</td>\n",
       "      <td>001110101</td>\n",
       "    </tr>\n",
       "    <tr>\n",
       "      <th>11</th>\n",
       "      <td>1.0</td>\n",
       "      <td>0.75</td>\n",
       "      <td>3.75</td>\n",
       "      <td>119</td>\n",
       "      <td>0.058105</td>\n",
       "      <td>011111110</td>\n",
       "    </tr>\n",
       "    <tr>\n",
       "      <th>12</th>\n",
       "      <td>1.5</td>\n",
       "      <td>0.50</td>\n",
       "      <td>5.00</td>\n",
       "      <td>119</td>\n",
       "      <td>0.058105</td>\n",
       "      <td>101001011</td>\n",
       "    </tr>\n",
       "    <tr>\n",
       "      <th>13</th>\n",
       "      <td>1.5</td>\n",
       "      <td>0.00</td>\n",
       "      <td>4.50</td>\n",
       "      <td>117</td>\n",
       "      <td>0.057129</td>\n",
       "      <td>100100011</td>\n",
       "    </tr>\n",
       "    <tr>\n",
       "      <th>14</th>\n",
       "      <td>1.0</td>\n",
       "      <td>0.50</td>\n",
       "      <td>3.50</td>\n",
       "      <td>115</td>\n",
       "      <td>0.056152</td>\n",
       "      <td>011101010</td>\n",
       "    </tr>\n",
       "    <tr>\n",
       "      <th>15</th>\n",
       "      <td>1.0</td>\n",
       "      <td>0.00</td>\n",
       "      <td>3.00</td>\n",
       "      <td>110</td>\n",
       "      <td>0.053711</td>\n",
       "      <td>011000010</td>\n",
       "    </tr>\n",
       "  </tbody>\n",
       "</table>\n",
       "</div>"
      ],
      "text/plain": [
       "      a     b     c  count  probability  bitstring\n",
       "0   0.5  0.50  2.00    166     0.081055  010001001\n",
       "1   1.5  0.75  5.25    144     0.070312  101011111\n",
       "2   0.0  0.00  0.00    136     0.066406  000000000\n",
       "3   0.0  0.25  0.25    135     0.065918  000010100\n",
       "4   0.5  0.75  2.25    133     0.064941  010011101\n",
       "5   1.0  0.25  3.25    129     0.062988  011010110\n",
       "6   0.0  0.50  0.50    128     0.062500  000101000\n",
       "7   0.0  0.75  0.75    128     0.062500  000111100\n",
       "8   0.5  0.00  1.50    126     0.061523  001100001\n",
       "9   1.5  0.25  4.75    122     0.059570  100110111\n",
       "10  0.5  0.25  1.75    121     0.059082  001110101\n",
       "11  1.0  0.75  3.75    119     0.058105  011111110\n",
       "12  1.5  0.50  5.00    119     0.058105  101001011\n",
       "13  1.5  0.00  4.50    117     0.057129  100100011\n",
       "14  1.0  0.50  3.50    115     0.056152  011101010\n",
       "15  1.0  0.00  3.00    110     0.053711  011000010"
      ]
     },
     "metadata": {},
     "output_type": "display_data"
    }
   ],
   "source": [
    "# Part B: Fractioned quantum numbers (explicit syntax)\n",
    "from classiq import *\n",
    "\n",
    "\n",
    "@qfunc\n",
    "def main(\n",
    "    a: Output[QNum[2, UNSIGNED, 1]], b: Output[QNum[2, UNSIGNED, 2]], c: Output[QNum]\n",
    "):\n",
    "    # Allocate a and b, then put in superposition\n",
    "    allocate(a)\n",
    "    allocate(b)\n",
    "    hadamard_transform(a)\n",
    "    hadamard_transform(b)\n",
    "\n",
    "    # Assign the value of 3*a + b to c\n",
    "    c |= 3 * a + b\n",
    "\n",
    "    # Print out the numeric attributes of the inferred type\n",
    "    print(\"Numeric attributes of c:\")\n",
    "    print(\n",
    "        f\"size: {c.size}, is_signed: {c.is_signed}, fraction_digits: {c.fraction_digits}\"\n",
    "    )\n",
    "\n",
    "\n",
    "# Synthesize the model, show, execute and print results\n",
    "qprog = synthesize(main)\n",
    "show(qprog)\n",
    "\n",
    "with ExecutionSession(qprog) as es:\n",
    "    res = es.sample()\n",
    "    print(\"Ex.4B Results:\")\n",
    "    display(res.dataframe)"
   ]
  },
  {
   "cell_type": "markdown",
   "metadata": {},
   "source": [
    "### Solution 4: Conditional Operations\n"
   ]
  },
  {
   "cell_type": "code",
   "execution_count": 15,
   "metadata": {
    "ExecuteTime": {
     "end_time": "2025-08-21T16:06:32.652990Z",
     "start_time": "2025-08-21T16:06:27.088072Z"
    }
   },
   "outputs": [
    {
     "name": "stdout",
     "output_type": "stream",
     "text": [
      "Quantum program link: https://platform.classiq.io/circuit/31e5K3eqzslULJigUVXpsXooQRj\n",
      "Ex.3 Results:\n"
     ]
    },
    {
     "data": {
      "text/html": [
       "<div>\n",
       "<style scoped>\n",
       "    .dataframe tbody tr th:only-of-type {\n",
       "        vertical-align: middle;\n",
       "    }\n",
       "\n",
       "    .dataframe tbody tr th {\n",
       "        vertical-align: top;\n",
       "    }\n",
       "\n",
       "    .dataframe thead th {\n",
       "        text-align: right;\n",
       "    }\n",
       "</style>\n",
       "<table border=\"1\" class=\"dataframe\">\n",
       "  <thead>\n",
       "    <tr style=\"text-align: right;\">\n",
       "      <th></th>\n",
       "      <th>x</th>\n",
       "      <th>flag</th>\n",
       "      <th>count</th>\n",
       "      <th>probability</th>\n",
       "      <th>bitstring</th>\n",
       "    </tr>\n",
       "  </thead>\n",
       "  <tbody>\n",
       "    <tr>\n",
       "      <th>0</th>\n",
       "      <td>-0.75</td>\n",
       "      <td>1</td>\n",
       "      <td>276</td>\n",
       "      <td>0.134766</td>\n",
       "      <td>1101</td>\n",
       "    </tr>\n",
       "    <tr>\n",
       "      <th>1</th>\n",
       "      <td>0.50</td>\n",
       "      <td>0</td>\n",
       "      <td>270</td>\n",
       "      <td>0.131836</td>\n",
       "      <td>0010</td>\n",
       "    </tr>\n",
       "    <tr>\n",
       "      <th>2</th>\n",
       "      <td>0.25</td>\n",
       "      <td>1</td>\n",
       "      <td>260</td>\n",
       "      <td>0.126953</td>\n",
       "      <td>1001</td>\n",
       "    </tr>\n",
       "    <tr>\n",
       "      <th>3</th>\n",
       "      <td>-0.50</td>\n",
       "      <td>1</td>\n",
       "      <td>255</td>\n",
       "      <td>0.124512</td>\n",
       "      <td>1110</td>\n",
       "    </tr>\n",
       "    <tr>\n",
       "      <th>4</th>\n",
       "      <td>0.75</td>\n",
       "      <td>0</td>\n",
       "      <td>251</td>\n",
       "      <td>0.122559</td>\n",
       "      <td>0011</td>\n",
       "    </tr>\n",
       "    <tr>\n",
       "      <th>5</th>\n",
       "      <td>0.00</td>\n",
       "      <td>1</td>\n",
       "      <td>247</td>\n",
       "      <td>0.120605</td>\n",
       "      <td>1000</td>\n",
       "    </tr>\n",
       "    <tr>\n",
       "      <th>6</th>\n",
       "      <td>-1.00</td>\n",
       "      <td>1</td>\n",
       "      <td>247</td>\n",
       "      <td>0.120605</td>\n",
       "      <td>1100</td>\n",
       "    </tr>\n",
       "    <tr>\n",
       "      <th>7</th>\n",
       "      <td>-0.25</td>\n",
       "      <td>1</td>\n",
       "      <td>242</td>\n",
       "      <td>0.118164</td>\n",
       "      <td>1111</td>\n",
       "    </tr>\n",
       "  </tbody>\n",
       "</table>\n",
       "</div>"
      ],
      "text/plain": [
       "      x  flag  count  probability bitstring\n",
       "0 -0.75     1    276     0.134766      1101\n",
       "1  0.50     0    270     0.131836      0010\n",
       "2  0.25     1    260     0.126953      1001\n",
       "3 -0.50     1    255     0.124512      1110\n",
       "4  0.75     0    251     0.122559      0011\n",
       "5  0.00     1    247     0.120605      1000\n",
       "6 -1.00     1    247     0.120605      1100\n",
       "7 -0.25     1    242     0.118164      1111"
      ]
     },
     "metadata": {},
     "output_type": "display_data"
    }
   ],
   "source": [
    "from classiq import *\n",
    "\n",
    "\n",
    "@qfunc\n",
    "def main(x: Output[QNum[3, SIGNED, 2]], flag: Output[QBit]):\n",
    "    allocate(x)\n",
    "    hadamard_transform(x)\n",
    "\n",
    "    allocate(flag)\n",
    "    # Flip the state of flag if x < 0.5\n",
    "    control(x < 0.5, lambda: X(flag))  # Flip the state of flag if x < 0.5\n",
    "\n",
    "\n",
    "# Synthesize the model, show, execute and print results\n",
    "qprog = synthesize(main)\n",
    "show(qprog)\n",
    "\n",
    "with ExecutionSession(qprog) as es:\n",
    "    res = es.sample()\n",
    "    print(\"Ex.3 Results:\")\n",
    "    display(res.dataframe)"
   ]
  },
  {
   "cell_type": "markdown",
   "metadata": {},
   "source": [
    "### Solution 5: Grover Algorithm using Quantum Struct and Constant Phase"
   ]
  },
  {
   "cell_type": "code",
   "execution_count": 16,
   "metadata": {
    "ExecuteTime": {
     "end_time": "2025-08-21T16:06:55.011079Z",
     "start_time": "2025-08-21T16:06:41.807811Z"
    }
   },
   "outputs": [
    {
     "name": "stdout",
     "output_type": "stream",
     "text": [
      "Quantum program link: https://platform.classiq.io/circuit/31e5LqlXunOQkFo1LQyDSjcZ74G\n",
      "Ex.5 Results:\n"
     ]
    },
    {
     "data": {
      "text/html": [
       "<div>\n",
       "<style scoped>\n",
       "    .dataframe tbody tr th:only-of-type {\n",
       "        vertical-align: middle;\n",
       "    }\n",
       "\n",
       "    .dataframe tbody tr th {\n",
       "        vertical-align: top;\n",
       "    }\n",
       "\n",
       "    .dataframe thead th {\n",
       "        text-align: right;\n",
       "    }\n",
       "</style>\n",
       "<table border=\"1\" class=\"dataframe\">\n",
       "  <thead>\n",
       "    <tr style=\"text-align: right;\">\n",
       "      <th></th>\n",
       "      <th>v.a</th>\n",
       "      <th>v.b</th>\n",
       "      <th>v.c</th>\n",
       "      <th>count</th>\n",
       "      <th>probability</th>\n",
       "      <th>bitstring</th>\n",
       "    </tr>\n",
       "  </thead>\n",
       "  <tbody>\n",
       "    <tr>\n",
       "      <th>0</th>\n",
       "      <td>0</td>\n",
       "      <td>3</td>\n",
       "      <td>3</td>\n",
       "      <td>356</td>\n",
       "      <td>0.173828</td>\n",
       "      <td>111100</td>\n",
       "    </tr>\n",
       "    <tr>\n",
       "      <th>1</th>\n",
       "      <td>2</td>\n",
       "      <td>1</td>\n",
       "      <td>1</td>\n",
       "      <td>352</td>\n",
       "      <td>0.171875</td>\n",
       "      <td>010110</td>\n",
       "    </tr>\n",
       "    <tr>\n",
       "      <th>2</th>\n",
       "      <td>1</td>\n",
       "      <td>2</td>\n",
       "      <td>2</td>\n",
       "      <td>340</td>\n",
       "      <td>0.166016</td>\n",
       "      <td>101001</td>\n",
       "    </tr>\n",
       "    <tr>\n",
       "      <th>3</th>\n",
       "      <td>2</td>\n",
       "      <td>3</td>\n",
       "      <td>0</td>\n",
       "      <td>337</td>\n",
       "      <td>0.164551</td>\n",
       "      <td>001110</td>\n",
       "    </tr>\n",
       "    <tr>\n",
       "      <th>4</th>\n",
       "      <td>1</td>\n",
       "      <td>0</td>\n",
       "      <td>3</td>\n",
       "      <td>332</td>\n",
       "      <td>0.162109</td>\n",
       "      <td>110001</td>\n",
       "    </tr>\n",
       "    <tr>\n",
       "      <th>5</th>\n",
       "      <td>3</td>\n",
       "      <td>0</td>\n",
       "      <td>0</td>\n",
       "      <td>329</td>\n",
       "      <td>0.160645</td>\n",
       "      <td>000011</td>\n",
       "    </tr>\n",
       "    <tr>\n",
       "      <th>6</th>\n",
       "      <td>3</td>\n",
       "      <td>0</td>\n",
       "      <td>1</td>\n",
       "      <td>1</td>\n",
       "      <td>0.000488</td>\n",
       "      <td>010011</td>\n",
       "    </tr>\n",
       "    <tr>\n",
       "      <th>7</th>\n",
       "      <td>2</td>\n",
       "      <td>0</td>\n",
       "      <td>3</td>\n",
       "      <td>1</td>\n",
       "      <td>0.000488</td>\n",
       "      <td>110010</td>\n",
       "    </tr>\n",
       "  </tbody>\n",
       "</table>\n",
       "</div>"
      ],
      "text/plain": [
       "   v.a  v.b  v.c  count  probability bitstring\n",
       "0    0    3    3    356     0.173828    111100\n",
       "1    2    1    1    352     0.171875    010110\n",
       "2    1    2    2    340     0.166016    101001\n",
       "3    2    3    0    337     0.164551    001110\n",
       "4    1    0    3    332     0.162109    110001\n",
       "5    3    0    0    329     0.160645    000011\n",
       "6    3    0    1      1     0.000488    010011\n",
       "7    2    0    3      1     0.000488    110010"
      ]
     },
     "metadata": {},
     "output_type": "display_data"
    }
   ],
   "source": [
    "from classiq import *\n",
    "from classiq.qmod.symbolic import pi\n",
    "\n",
    "\n",
    "class MyProblemVars(QStruct):\n",
    "    # Declare the problem variables as quantum numeric fields\n",
    "    a: QNum[2]\n",
    "    b: QNum[2]\n",
    "    c: QNum[2]\n",
    "\n",
    "\n",
    "@qfunc\n",
    "def phase_oracle(v: MyProblemVars):\n",
    "    # Apply a phase flip if the state of v satisfies the equation (use field access in the form `v.a` etc.)\n",
    "    control(3 * v.a + v.b + 2 * v.c == 9, lambda: phase(pi))\n",
    "\n",
    "\n",
    "@qfunc\n",
    "def zero_reflection(state: QNum):\n",
    "    # Apply a phase flip if state is |0>\n",
    "    control(state == 0, lambda: phase(pi))\n",
    "\n",
    "\n",
    "@qfunc\n",
    "def grover_operator(v: MyProblemVars):\n",
    "    phase_oracle(v)\n",
    "    hadamard_transform(v)\n",
    "    zero_reflection(v)\n",
    "    hadamard_transform(v)\n",
    "\n",
    "\n",
    "@qfunc\n",
    "def main(v: Output[MyProblemVars]):\n",
    "    allocate(v)\n",
    "    hadamard_transform(v)\n",
    "    for i in range(2):\n",
    "        grover_operator(v)\n",
    "\n",
    "\n",
    "# Synthesize the model, show, execute and print results\n",
    "qprog = synthesize(main)\n",
    "show(qprog)\n",
    "\n",
    "with ExecutionSession(qprog) as es:\n",
    "    res = es.sample()\n",
    "    print(\"Ex.5 Results:\")\n",
    "    display(res.dataframe)"
   ]
  },
  {
   "cell_type": "markdown",
   "metadata": {},
   "source": [
    "### Solution 6: Computing x² Using Phase Operations"
   ]
  },
  {
   "cell_type": "markdown",
   "metadata": {},
   "source": [
    "#### Part A: Phase Encoding x²"
   ]
  },
  {
   "cell_type": "code",
   "execution_count": 17,
   "metadata": {
    "ExecuteTime": {
     "end_time": "2025-08-21T16:06:57.984896Z",
     "start_time": "2025-08-21T16:06:55.065727Z"
    }
   },
   "outputs": [
    {
     "name": "stdout",
     "output_type": "stream",
     "text": [
      "Ex.6A Results:\n"
     ]
    },
    {
     "data": {
      "text/html": [
       "<div>\n",
       "<style scoped>\n",
       "    .dataframe tbody tr th:only-of-type {\n",
       "        vertical-align: middle;\n",
       "    }\n",
       "\n",
       "    .dataframe tbody tr th {\n",
       "        vertical-align: top;\n",
       "    }\n",
       "\n",
       "    .dataframe thead th {\n",
       "        text-align: right;\n",
       "    }\n",
       "</style>\n",
       "<table border=\"1\" class=\"dataframe\">\n",
       "  <thead>\n",
       "    <tr style=\"text-align: right;\">\n",
       "      <th></th>\n",
       "      <th>x</th>\n",
       "      <th>amplitude</th>\n",
       "      <th>probability</th>\n",
       "      <th>bitstring</th>\n",
       "      <th>phase</th>\n",
       "    </tr>\n",
       "  </thead>\n",
       "  <tbody>\n",
       "    <tr>\n",
       "      <th>1</th>\n",
       "      <td>0</td>\n",
       "      <td>0.353553+0.000000j</td>\n",
       "      <td>0.125</td>\n",
       "      <td>000</td>\n",
       "      <td>0.00</td>\n",
       "    </tr>\n",
       "    <tr>\n",
       "      <th>3</th>\n",
       "      <td>1</td>\n",
       "      <td>0.250000+0.250000j</td>\n",
       "      <td>0.125</td>\n",
       "      <td>001</td>\n",
       "      <td>0.25</td>\n",
       "    </tr>\n",
       "    <tr>\n",
       "      <th>6</th>\n",
       "      <td>2</td>\n",
       "      <td>-0.353553+0.000000j</td>\n",
       "      <td>0.125</td>\n",
       "      <td>010</td>\n",
       "      <td>1.00</td>\n",
       "    </tr>\n",
       "    <tr>\n",
       "      <th>5</th>\n",
       "      <td>3</td>\n",
       "      <td>0.250000+0.250000j</td>\n",
       "      <td>0.125</td>\n",
       "      <td>011</td>\n",
       "      <td>0.25</td>\n",
       "    </tr>\n",
       "    <tr>\n",
       "      <th>0</th>\n",
       "      <td>4</td>\n",
       "      <td>0.353553-0.000000j</td>\n",
       "      <td>0.125</td>\n",
       "      <td>100</td>\n",
       "      <td>-0.00</td>\n",
       "    </tr>\n",
       "    <tr>\n",
       "      <th>2</th>\n",
       "      <td>5</td>\n",
       "      <td>0.250000+0.250000j</td>\n",
       "      <td>0.125</td>\n",
       "      <td>101</td>\n",
       "      <td>0.25</td>\n",
       "    </tr>\n",
       "    <tr>\n",
       "      <th>7</th>\n",
       "      <td>6</td>\n",
       "      <td>-0.353553+0.000000j</td>\n",
       "      <td>0.125</td>\n",
       "      <td>110</td>\n",
       "      <td>1.00</td>\n",
       "    </tr>\n",
       "    <tr>\n",
       "      <th>4</th>\n",
       "      <td>7</td>\n",
       "      <td>0.250000+0.250000j</td>\n",
       "      <td>0.125</td>\n",
       "      <td>111</td>\n",
       "      <td>0.25</td>\n",
       "    </tr>\n",
       "  </tbody>\n",
       "</table>\n",
       "</div>"
      ],
      "text/plain": [
       "   x           amplitude  probability bitstring  phase\n",
       "1  0  0.353553+0.000000j        0.125       000   0.00\n",
       "3  1  0.250000+0.250000j        0.125       001   0.25\n",
       "6  2 -0.353553+0.000000j        0.125       010   1.00\n",
       "5  3  0.250000+0.250000j        0.125       011   0.25\n",
       "0  4  0.353553-0.000000j        0.125       100  -0.00\n",
       "2  5  0.250000+0.250000j        0.125       101   0.25\n",
       "7  6 -0.353553+0.000000j        0.125       110   1.00\n",
       "4  7  0.250000+0.250000j        0.125       111   0.25"
      ]
     },
     "metadata": {},
     "output_type": "display_data"
    }
   ],
   "source": [
    "import numpy as np\n",
    "\n",
    "from classiq import *\n",
    "from classiq.execution import ClassiqBackendPreferences, ExecutionPreferences\n",
    "\n",
    "\n",
    "@qfunc\n",
    "def main(x: Output[QNum[3]]):\n",
    "    allocate(x)\n",
    "    # Put x in uniform superposition\n",
    "    hadamard_transform(x)\n",
    "\n",
    "    # Encode x² into the phase\n",
    "    phase(x**2, 2 * np.pi / 8)\n",
    "\n",
    "\n",
    "# Synthesize the model and show\n",
    "qprog = synthesize(main)\n",
    "# show(qprog)\n",
    "\n",
    "# Specify execution preferences for state vector simulation\n",
    "preferences = ExecutionPreferences(\n",
    "    num_shots=1,\n",
    "    backend_preferences=ClassiqBackendPreferences(backend_name=\"simulator_statevector\"),\n",
    ")\n",
    "\n",
    "# Execute and print results:\n",
    "with ExecutionSession(qprog, preferences) as es:\n",
    "    res = es.sample()\n",
    "    print(\"Ex.6A Results:\")\n",
    "    res.dataframe.sort_values(by=\"x\", inplace=True)  # Sort by x for better readability\n",
    "    res.dataframe[\"phase\"] = np.round(\n",
    "        np.angle(res.dataframe.amplitude) / np.pi, 2\n",
    "    )  # Add phase column in units of pi for convenience\n",
    "    display(res.dataframe)"
   ]
  },
  {
   "cell_type": "markdown",
   "metadata": {},
   "source": [
    "#### Bonus: Fourier Arithmetic\n"
   ]
  },
  {
   "cell_type": "code",
   "execution_count": 18,
   "metadata": {
    "ExecuteTime": {
     "end_time": "2025-08-21T16:07:07.885741Z",
     "start_time": "2025-08-21T16:06:57.994285Z"
    }
   },
   "outputs": [
    {
     "name": "stdout",
     "output_type": "stream",
     "text": [
      "Ex.6B Results:\n"
     ]
    },
    {
     "data": {
      "text/html": [
       "<div>\n",
       "<style scoped>\n",
       "    .dataframe tbody tr th:only-of-type {\n",
       "        vertical-align: middle;\n",
       "    }\n",
       "\n",
       "    .dataframe tbody tr th {\n",
       "        vertical-align: top;\n",
       "    }\n",
       "\n",
       "    .dataframe thead th {\n",
       "        text-align: right;\n",
       "    }\n",
       "</style>\n",
       "<table border=\"1\" class=\"dataframe\">\n",
       "  <thead>\n",
       "    <tr style=\"text-align: right;\">\n",
       "      <th></th>\n",
       "      <th>x</th>\n",
       "      <th>res</th>\n",
       "      <th>count</th>\n",
       "      <th>probability</th>\n",
       "      <th>bitstring</th>\n",
       "    </tr>\n",
       "  </thead>\n",
       "  <tbody>\n",
       "    <tr>\n",
       "      <th>6</th>\n",
       "      <td>0</td>\n",
       "      <td>0</td>\n",
       "      <td>248</td>\n",
       "      <td>0.121094</td>\n",
       "      <td>0000000</td>\n",
       "    </tr>\n",
       "    <tr>\n",
       "      <th>2</th>\n",
       "      <td>1</td>\n",
       "      <td>1</td>\n",
       "      <td>261</td>\n",
       "      <td>0.127441</td>\n",
       "      <td>0001001</td>\n",
       "    </tr>\n",
       "    <tr>\n",
       "      <th>0</th>\n",
       "      <td>2</td>\n",
       "      <td>4</td>\n",
       "      <td>271</td>\n",
       "      <td>0.132324</td>\n",
       "      <td>0100010</td>\n",
       "    </tr>\n",
       "    <tr>\n",
       "      <th>5</th>\n",
       "      <td>3</td>\n",
       "      <td>9</td>\n",
       "      <td>251</td>\n",
       "      <td>0.122559</td>\n",
       "      <td>1001011</td>\n",
       "    </tr>\n",
       "    <tr>\n",
       "      <th>7</th>\n",
       "      <td>4</td>\n",
       "      <td>0</td>\n",
       "      <td>240</td>\n",
       "      <td>0.117188</td>\n",
       "      <td>0000100</td>\n",
       "    </tr>\n",
       "    <tr>\n",
       "      <th>4</th>\n",
       "      <td>5</td>\n",
       "      <td>9</td>\n",
       "      <td>256</td>\n",
       "      <td>0.125000</td>\n",
       "      <td>1001101</td>\n",
       "    </tr>\n",
       "    <tr>\n",
       "      <th>3</th>\n",
       "      <td>6</td>\n",
       "      <td>4</td>\n",
       "      <td>256</td>\n",
       "      <td>0.125000</td>\n",
       "      <td>0100110</td>\n",
       "    </tr>\n",
       "    <tr>\n",
       "      <th>1</th>\n",
       "      <td>7</td>\n",
       "      <td>1</td>\n",
       "      <td>265</td>\n",
       "      <td>0.129395</td>\n",
       "      <td>0001111</td>\n",
       "    </tr>\n",
       "  </tbody>\n",
       "</table>\n",
       "</div>"
      ],
      "text/plain": [
       "   x  res  count  probability bitstring\n",
       "6  0    0    248     0.121094   0000000\n",
       "2  1    1    261     0.127441   0001001\n",
       "0  2    4    271     0.132324   0100010\n",
       "5  3    9    251     0.122559   1001011\n",
       "7  4    0    240     0.117188   0000100\n",
       "4  5    9    256     0.125000   1001101\n",
       "3  6    4    256     0.125000   0100110\n",
       "1  7    1    265     0.129395   0001111"
      ]
     },
     "metadata": {},
     "output_type": "display_data"
    }
   ],
   "source": [
    "import numpy as np\n",
    "\n",
    "from classiq import *\n",
    "\n",
    "\n",
    "@qfunc\n",
    "def main(x: Output[QNum[3]], res: Output[QNum[4]]):\n",
    "    allocate(x)\n",
    "    hadamard_transform(x)\n",
    "    allocate(res)\n",
    "\n",
    "    # Use within_apply with QFT and phase operations\n",
    "    within_apply(\n",
    "        lambda: qft(res),\n",
    "        lambda: phase(\n",
    "            res * (x**2), 2 * np.pi / (2**res.size)\n",
    "        ),  # evaluates res += x**2  in the Fourier basis\n",
    "    )\n",
    "\n",
    "\n",
    "# Synthesize the model, show, execute and print results\n",
    "qprog = synthesize(main)\n",
    "# show(qprog)\n",
    "\n",
    "with ExecutionSession(qprog) as es:\n",
    "    res = es.sample()\n",
    "    print(\"Ex.6B Results:\")\n",
    "    res.dataframe.sort_values(by=\"x\", inplace=True)  # Sort by x for better readability\n",
    "    display(res.dataframe)"
   ]
  }
 ],
 "metadata": {
  "kernelspec": {
   "display_name": "Python (prod_py3.11)",
   "language": "python",
   "name": "prod_py3.11"
  },
  "language_info": {
   "codemirror_mode": {
    "name": "ipython",
    "version": 3
   },
   "file_extension": ".py",
   "mimetype": "text/x-python",
   "name": "python",
   "nbconvert_exporter": "python",
   "pygments_lexer": "ipython3",
   "version": "3.11.4"
  }
 },
 "nbformat": 4,
 "nbformat_minor": 4
}
