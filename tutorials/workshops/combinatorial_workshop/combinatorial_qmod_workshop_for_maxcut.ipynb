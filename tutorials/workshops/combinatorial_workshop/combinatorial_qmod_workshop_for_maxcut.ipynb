{
 "cells": [
  {
   "cell_type": "markdown",
   "metadata": {},
   "source": [
    "## Combinatorial Optimization Workshop using the Qmod quantum types - part 1"
   ]
  },
  {
   "cell_type": "markdown",
   "metadata": {},
   "source": [
    "In this workshop, we will solve the MaxCut problem using qmod's quantum types, such as `QBit`, and the phase function. First, we will have introduction to the Maximum Cut (MaxCut) problem."
   ]
  },
  {
   "cell_type": "markdown",
   "metadata": {},
   "source": [
    "#### Guidance for the workshop:\n",
    "**The `# TODO` is there for you to do yourself.**\n",
    "**The `# Solution start` and `# Solution end` are only for helping you. Please delete the `Solution` and try doing it yourself...**"
   ]
  },
  {
   "cell_type": "markdown",
   "metadata": {},
   "source": [
    "### Introduction\n",
    "\n",
    "The \"Maximum Cut Problem\" (MaxCut) [[1](#MaxCutWiki)] is an example of combinatorial optimization problem. It refers to finding a partition of a graph into two sets, such that the number of edges between the two sets is maximal. This optimization problem is the cardinal example in the context of Quantum Approximate Optimization Algorithm [[2](#QAOA)], since it is an unconstrained problem whose objective function in terms quantum gates can be derived easily. With the Classiq platform, things are even simpler, as the objective function is inserted in its arithmetic form.\n",
    "\n",
    "### Mathematical formulation\n",
    "\n",
    "Given a graph $G=(V,E)$ with $|V|=n$ nodes and $E$ edges, a cut is defined as a partition of the graph into two complementary subsets of nodes. In the MaxCut problem we are looking for a cut where the number of edges between the two subsets is maximal. We can represent a cut of the graph by a binary vector $x$ of size $n$, where we assign 0 and 1 to nodes in the first and second subsets, respectively. The number of connecting edges for a given cut is simply given by summing over $x_i (1-x_j)+x_j (1-x_i)$ for every pair of connected nodes $(i,j)$.\n",
    "\n",
    "### Solving with the Classiq platform\n",
    "\n",
    "We go through the steps of solving the problem with the Classiq platform, using QAOA algorithm [[2](#QAOA)]. "
   ]
  },
  {
   "cell_type": "code",
   "execution_count": null,
   "metadata": {},
   "outputs": [],
   "source": [
    "import math\n",
    "\n",
    "import matplotlib.pyplot as plt\n",
    "import networkx as nx\n",
    "import numpy as np\n",
    "from scipy.optimize import minimize\n",
    "\n",
    "from classiq import *\n",
    "from classiq.execution import ExecutionPreferences, ExecutionSession"
   ]
  },
  {
   "cell_type": "markdown",
   "metadata": {},
   "source": [
    "#### Creating and plotting the graph, the MaxCut problem"
   ]
  },
  {
   "cell_type": "code",
   "execution_count": null,
   "metadata": {},
   "outputs": [],
   "source": [
    "graph_nodes = [0, 1, 2, 3, 4]\n",
    "graph_edges = [(0, 1), (0, 2), (1, 2), (1, 3), (2, 4), (3, 4)]\n",
    "\n",
    "G = nx.Graph()\n",
    "G.add_nodes_from(graph_nodes)\n",
    "G.add_edges_from(graph_edges)\n",
    "pos = nx.planar_layout(G)\n",
    "nx.draw_networkx(G, pos=pos, with_labels=True, alpha=0.8, node_size=500)"
   ]
  },
  {
   "cell_type": "markdown",
   "metadata": {},
   "source": [
    "## Create the classical optimization function\n",
    "\n",
    "First, build a function that whether to count an edge or not. If the two nodes are from different groups, the function `edge_cut` will return 1, otherwise, it should return 0. The values of the nodes are binary."
   ]
  },
  {
   "cell_type": "code",
   "execution_count": null,
   "metadata": {},
   "outputs": [],
   "source": [
    "def edge_cut(node1_group_bit, node2_group_bit):\n",
    "    # TODO: This function should return 1 if the two nodes are in different groups, and 0 if they're in the same group.\n",
    "    # The n_bit is a bit that specifies 0 or 1 - depending on which group the node is in.\n",
    "\n",
    "    # Your code\n",
    "\n",
    "    # Solution start\n",
    "    return node1_group_bit * (1 - node2_group_bit) + node2_group_bit * (\n",
    "        1 - node1_group_bit\n",
    "    )\n",
    "    # Solution end"
   ]
  },
  {
   "cell_type": "markdown",
   "metadata": {},
   "source": [
    "Implement a function that returns the total cost for a cut on the graph."
   ]
  },
  {
   "cell_type": "code",
   "execution_count": null,
   "metadata": {},
   "outputs": [],
   "source": [
    "def maxcut_cost(v: QArray[QBit]):\n",
    "    # TODO: Your code should loop through the graph edges and\n",
    "    # sum over the edge cut using the edge_cut function.\n",
    "    # You should return the negative cost.\n",
    "    # Because at the optimization, we will use a minimization in the optimization process.\n",
    "\n",
    "    # Your code\n",
    "\n",
    "    # Solution start\n",
    "    return -sum(edge_cut(v[node1], v[node2]) for (node1, node2) in G.edges)\n",
    "    # Solution end"
   ]
  },
  {
   "cell_type": "markdown",
   "metadata": {},
   "source": [
    "#### Generic building blocks for QAOA circuit\n",
    "\n",
    "The mixer layer will apply `RX` gates with parameter beta to all qubits in the `qba` array."
   ]
  },
  {
   "cell_type": "code",
   "execution_count": null,
   "metadata": {},
   "outputs": [],
   "source": [
    "@qfunc\n",
    "def mixer_layer(beta: CReal, qba: QArray[QBit]):\n",
    "    # TODO: Apply on all qubits the RX gate with the beta rotation angle.\n",
    "    # You can use apply_to_all or with repeat\n",
    "\n",
    "    # Your code\n",
    "\n",
    "    # Solution start\n",
    "    apply_to_all(lambda q: RX(beta, q), qba)\n",
    "    # Solution end"
   ]
  },
  {
   "cell_type": "markdown",
   "metadata": {},
   "source": [
    "#### The phase function\n",
    "\n",
    "In the QAOA ansatz, the cost layer gives a phase to any solution type. Therefore, we will use the `phase` function which takes an expression (`expr`) and a parameter (`theta`) as arguments. See more [here](https://docs.classiq.io/latest/qmod-reference/language-reference/statements/phase/).\n",
    "\n",
    "For example:\n",
    "```\n",
    "phase(\n",
    "    expr= maxcut_cost(v),\n",
    "    theta = gamma\n",
    ")\n",
    "```\n",
    "\n",
    "The `phase` function rotates each computational basis state about the Z axis with the angle $\\theta$ relative the value of the expression `expr`. Namely, it adds a phase to each quantum state $|x\\rangle \\rightarrow e^{f(x_1,x_2,...,x_n)}|x\\rangle$ with respect to the value that $f(x_1,x_2,...,x_n)$ returns. The quantum variables $x_1,x_2,...,x_n$ constitute the quantum state $|x\\rangle$.\n",
    "\n",
    "#### Problem specifc building blocks"
   ]
  },
  {
   "cell_type": "code",
   "execution_count": null,
   "metadata": {},
   "outputs": [],
   "source": [
    "# Define the number of layers you want. It is a heuristic decision, as the number of layers increases, the solution quality increases.\n",
    "\n",
    "\n",
    "NUM_LAYERS = 4\n",
    "\n",
    "# In the main function you will create the ansatz.\n",
    "\n",
    "# The qaoa ansatz have 2 parts:\n",
    "# 1. Apply a H gate to all qubits in the `v` register\n",
    "# 2. Create N number of layers.\n",
    "# Each layer will apply a cost layer using the `phase` function,\n",
    "# this will take gammas as argument\n",
    "# and `mixer_layer()` this will take betas as argument.\n",
    "\n",
    "\n",
    "@qfunc\n",
    "def main(\n",
    "    params: CArray[CReal, NUM_LAYERS * 2],\n",
    "    v: Output[QArray[QBit]],\n",
    "):\n",
    "    # TODO:\n",
    "    # Allocate the number of qubits in the circuit.\n",
    "    # What should be the number of qubits?\n",
    "\n",
    "    # Apply the initial initialization of QAOA\n",
    "\n",
    "    # Apply repeatedly the alternating sequence of operators:\n",
    "    # 1. The cost layer with the gamma parameter using the `phase` function.\n",
    "    # 2. The mixer layer with the beta parameter.\n",
    "    # Note that for the optimizer, it doesn't matter which parameter is gamma and which beta\n",
    "\n",
    "    # Your code\n",
    "\n",
    "    # Solution start\n",
    "    allocate(len(G.nodes), v)\n",
    "    hadamard_transform(v)\n",
    "\n",
    "    repeat(\n",
    "        count=params.len / 2,\n",
    "        iteration=lambda i: (\n",
    "            phase(expr=maxcut_cost(v), theta=params[2 * i]),\n",
    "            mixer_layer(params[2 * i + 1], v),\n",
    "        ),\n",
    "    )\n",
    "    # Solution end"
   ]
  },
  {
   "cell_type": "markdown",
   "metadata": {},
   "source": [
    "#### Synthesizing and visualizing "
   ]
  },
  {
   "cell_type": "code",
   "execution_count": null,
   "metadata": {},
   "outputs": [],
   "source": [
    "qmod = create_model(main)\n",
    "qprog = synthesize(qmod)\n",
    "show(qprog)"
   ]
  },
  {
   "cell_type": "markdown",
   "metadata": {},
   "source": [
    "## Execution and post processing\n",
    "\n",
    "For the hybrid execution, we use `ExecutionSession`, which can evaluate the circuit in multiple methods, such as sampling the circuit, giving specific values for the parameters, and evaluating to a specific Hamiltonian, which is very common in chemical applications.\n",
    "\n",
    "In QAOA, we will use the `estimate_cost` method, which samples the cost function and returns their average cost from all measurements. That helps to optimize easily."
   ]
  },
  {
   "cell_type": "code",
   "execution_count": null,
   "metadata": {},
   "outputs": [],
   "source": [
    "NUM_SHOTS = 1000\n",
    "# The number of shots is also a heuristic decision. The more shots, the more probability to get the right solution, especially when the number of qubits is large.\n",
    "\n",
    "ES = ExecutionSession(\n",
    "    qprog, execution_preferences=ExecutionPreferences(num_shots=NUM_SHOTS)\n",
    ")"
   ]
  },
  {
   "cell_type": "markdown",
   "metadata": {},
   "source": [
    "A good initialization of QAOA is linearly approach the $\\gamma$ values from 0 to 1 and the $\\beta$ values from 1 to 0. This approach showed better solutions because it is similar to the adiabatic evolution with big steps rather than small evolution. Some suggest the value 0.75 bring better solutions."
   ]
  },
  {
   "cell_type": "code",
   "execution_count": null,
   "metadata": {},
   "outputs": [],
   "source": [
    "# TODO:\n",
    "# Build `initial_params` list of np.array type.\n",
    "# The gamma values should start from 0 and, in each layer, should approach closer to 1 linearly\n",
    "# The beta values should start from 1 and in each layer, should approach closer to 0 linearly\n",
    "# Then unify it to one list so scipy minimize can digest it.\n",
    "\n",
    "# Your code\n",
    "\n",
    "\n",
    "# Solution start\n",
    "def initial_qaoa_params(NUM_LAYERS) -> np.ndarray:\n",
    "    initial_gammas = np.linspace(0, 1, NUM_LAYERS)\n",
    "    initial_betas = np.linspace(1, 0, NUM_LAYERS)\n",
    "\n",
    "    initial_params = []\n",
    "\n",
    "    for i in range(NUM_LAYERS):\n",
    "        initial_params.append(initial_gammas[i])\n",
    "        initial_params.append(initial_betas[i])\n",
    "\n",
    "    return np.array(initial_params)\n",
    "\n",
    "\n",
    "# Solution end\n",
    "\n",
    "\n",
    "initial_params = initial_qaoa_params(NUM_LAYERS)"
   ]
  },
  {
   "cell_type": "markdown",
   "metadata": {},
   "source": [
    "Record the steps of the optimization."
   ]
  },
  {
   "cell_type": "code",
   "execution_count": null,
   "metadata": {},
   "outputs": [],
   "source": [
    "intermediate_params = []\n",
    "objective_values = []"
   ]
  },
  {
   "cell_type": "markdown",
   "metadata": {},
   "source": [
    "Build the classical cost function that take a single state and return its cut."
   ]
  },
  {
   "cell_type": "code",
   "execution_count": null,
   "metadata": {},
   "outputs": [],
   "source": [
    "cost_func = lambda state: maxcut_cost(state[\"v\"])"
   ]
  },
  {
   "cell_type": "markdown",
   "metadata": {},
   "source": [
    "Use the `ExecutionSession` to calculate the cost of all measurements at once using the `estimate_cost` method."
   ]
  },
  {
   "cell_type": "code",
   "execution_count": null,
   "metadata": {},
   "outputs": [],
   "source": [
    "def estimate_cost_func(params) -> float:\n",
    "    obj_value = ES.estimate_cost(\n",
    "        cost_func=cost_func, parameters={\"params\": params.tolist()}\n",
    "    )\n",
    "    objective_values.append(obj_value)\n",
    "    return obj_value"
   ]
  },
  {
   "cell_type": "markdown",
   "metadata": {},
   "source": [
    "In the QAOA algorithm, the classical cost function is converted to a Hamiltonian and the `estimate_cost` method give the $\n",
    "⟨H_C{\\displaystyle \\rangle }$. But you can define anything with the `estimate_cost`, not necessarily the expectation value of the Hamiltonian."
   ]
  },
  {
   "cell_type": "markdown",
   "metadata": {},
   "source": [
    "Define the callback function to store the intermediate parameters or any intermediate parameter you wish."
   ]
  },
  {
   "cell_type": "code",
   "execution_count": null,
   "metadata": {},
   "outputs": [],
   "source": [
    "def callback(xk):\n",
    "    intermediate_params.append(xk)"
   ]
  },
  {
   "cell_type": "markdown",
   "metadata": {},
   "source": [
    "Now, make the optimization part using the `minimize` function from `scipy`. You need to combine the objective function, which includes the quantum program, the classical optimizer, and the `callback` function.\n",
    "\n",
    "To achieve better convergence, you need to define the type of optimizer (such as `COBYLA`), the number of iterations, and other parameters, depending on the type of optimizer."
   ]
  },
  {
   "cell_type": "code",
   "execution_count": null,
   "metadata": {},
   "outputs": [],
   "source": [
    "optimization_res = minimize(\n",
    "    estimate_cost_func,\n",
    "    x0=initial_params,\n",
    "    method=\"COBYLA\",\n",
    "    callback=callback,\n",
    "    options={\"maxiter\": 40},\n",
    ")"
   ]
  },
  {
   "cell_type": "markdown",
   "metadata": {},
   "source": [
    "The `maxiter` is the number of iterations. As the number of layers is larger, we need more iterations to converge to a good solution because there are more parameters.\n",
    "\n",
    "After we finish the optimization and find good parameters, we will use them once again to find the optimized solution."
   ]
  },
  {
   "cell_type": "code",
   "execution_count": null,
   "metadata": {},
   "outputs": [],
   "source": [
    "res = ES.sample({\"params\": optimization_res.x.tolist()})"
   ]
  },
  {
   "cell_type": "code",
   "execution_count": null,
   "metadata": {},
   "outputs": [],
   "source": [
    "print(f\"Optimized parameters: {optimization_res.x.tolist()}\")\n",
    "sorted_counts = sorted(res.parsed_counts, key=lambda pc: maxcut_cost(pc.state[\"v\"]))\n",
    "for sampled in sorted_counts:\n",
    "    v = sampled.state[\"v\"]\n",
    "    print(\n",
    "        f\"solution={sampled.state['v']} probability={sampled.shots/NUM_SHOTS} cost={maxcut_cost(sampled.state['v'])}\"\n",
    "    )"
   ]
  },
  {
   "cell_type": "markdown",
   "metadata": {},
   "source": [
    "### Plot the result\n",
    "\n",
    "Let's plot the result of the best found solution."
   ]
  },
  {
   "cell_type": "code",
   "execution_count": null,
   "metadata": {},
   "outputs": [],
   "source": [
    "colors = [\n",
    "    \"r\" if sorted_counts[0].state[\"v\"][i] == 0 else \"g\"\n",
    "    for i in range(len(sorted_counts[0].state[\"v\"]))\n",
    "]\n",
    "\n",
    "nx.draw_networkx(\n",
    "    G, pos=pos, with_labels=True, alpha=0.8, node_size=500, node_color=colors\n",
    ")"
   ]
  },
  {
   "cell_type": "markdown",
   "metadata": {},
   "source": [
    "## Plot the convergence graph"
   ]
  },
  {
   "cell_type": "code",
   "execution_count": null,
   "metadata": {},
   "outputs": [],
   "source": [
    "# TODO:\n",
    "# Show the optimization progress to see if you converged to a good solution\n",
    "\n",
    "# You code\n",
    "\n",
    "# Solution start\n",
    "plt.plot(objective_values)\n",
    "plt.xlabel(\"Iteration\")\n",
    "plt.ylabel(\"Objective Value\")\n",
    "plt.title(\"Optimization Progress\")\n",
    "plt.show()\n",
    "# Solution end"
   ]
  },
  {
   "cell_type": "markdown",
   "metadata": {},
   "source": [
    "# Changes to play with\n",
    "1. Change the type of the optimizer from the scipy [minimize](https://docs.scipy.org/doc/scipy/reference/generated/scipy.optimize.minimize.html) function.\n",
    "2. Each optimizer has another type step size. For example, in the COBYLA optimizer, it is called `rhobeg`. The step size determines how far the optimizer will go in each iteration. You can change it to see how it affects the convergence.\n",
    "3. Do the same optimization process for a random [Erdos Renyi graph](https://networkx.org/documentation/stable/reference/generated/networkx.generators.random_graphs.erdos_renyi_graph.html).\n",
    "4. Build a weighted graph in which each edge has a different weight, and solve the maxcut with it. This type of graphs are more realistic for real-life applications and also NP-hard."
   ]
  },
  {
   "cell_type": "markdown",
   "metadata": {},
   "source": [
    "## References\n",
    "\n",
    "<a id='MaxCutWiki'>[1]</a>: [Maximum Cut Problem (Wikipedia)](https://en.wikipedia.org/wiki/Maximum_cut)\n",
    "\n",
    "<a id='QAOA'>[2]</a>: [Farhi, Edward, Jeffrey Goldstone, and Sam Gutmann. \"A quantum approximate optimization algorithm.\" arXiv preprint arXiv:1411.4028 (2014).](https://arxiv.org/abs/1411.4028)\n",
    "\n",
    "<a id='cvar'>[3]</a>: [Barkoutsos, Panagiotis Kl, et al. \"Improving variational quantum optimization using CVaR.\" Quantum 4 (2020): 256.](https://arxiv.org/abs/1907.04769)\n"
   ]
  },
  {
   "cell_type": "code",
   "execution_count": null,
   "metadata": {},
   "outputs": [],
   "source": []
  }
 ],
 "metadata": {
  "kernelspec": {
   "display_name": "Python 3 (ipykernel)",
   "language": "python",
   "name": "python3"
  },
  "language_info": {
   "codemirror_mode": {
    "name": "ipython",
    "version": 3
   },
   "file_extension": ".py",
   "mimetype": "text/x-python",
   "name": "python",
   "nbconvert_exporter": "python",
   "pygments_lexer": "ipython3",
   "version": "3.11.4"
  }
 },
 "nbformat": 4,
 "nbformat_minor": 4
}
