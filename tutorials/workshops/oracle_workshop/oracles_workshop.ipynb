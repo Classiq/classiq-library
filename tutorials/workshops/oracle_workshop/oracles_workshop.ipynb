{
 "cells": [
  {
   "cell_type": "code",
   "metadata": {
    "id": "l3HeE4fApJQl",
    "ExecuteTime": {
     "end_time": "2025-09-22T09:27:21.151715Z",
     "start_time": "2025-09-22T09:27:21.148905Z"
    }
   },
   "source": [
    "from classiq import *"
   ],
   "outputs": [],
   "execution_count": 22
  },
  {
   "cell_type": "markdown",
   "metadata": {
    "id": "4We8oHQ76nnS"
   },
   "source": [
    "# Quantum Oracles Workshop"
   ]
  },
  {
   "cell_type": "markdown",
   "metadata": {
    "id": "Ew94KrWI6nnT"
   },
   "source": [
    "**Welcome to the Classiq Workshop for Quantum Oracles**\n",
    "\n",
    "In this notebook, you will cover hands-on examples and exercises of the following topics:\n",
    "\n",
    "- Defining Quantum Oracles using arithmetics in Classiq\n",
    "- Phase Kickback and Phase encoding\n",
    "- A first example: The Deutsch-Jozsa Algorithm\n",
    "- Unstructured search: Grover's Algorithm\n",
    "\n",
    "**For each exercise, complete the code in the #TODO sections correctly.\n",
    "You can find the complete solutions at the end of this notebook.**\n",
    "\n",
    "\n",
    "Additional resources you should use:\n",
    "- [Classiq documentation](https://docs.classiq.io/latest/)\n",
    "- The Classiq [GitHub repository](https://github.com/Classiq/classiq-library/tree/main/community)\n",
    "- The [community Slack of Classiq](https://short.classiq.io/join-slack) - you can ask any question you have over here \\(or in the dedicated channel on Discord\\)\n",
    "\n",
    "  \n",
    "**Good luck!**"
   ]
  },
  {
   "cell_type": "markdown",
   "metadata": {
    "id": "Z2GNUwEs6nnU"
   },
   "source": [
    "## Quantum Arithmetics: The Oracle"
   ]
  },
  {
   "cell_type": "markdown",
   "metadata": {
    "id": "CSdcQol36nnU"
   },
   "source": [
    "In quantum computing, an oracle is a method used to encode information about a function without revealing its explicit form. An oracle is also known as a black box and plays a crucial role in many quantum algorithms, such as the Deutsch-Jozsa algorithm and Grover's search algorithm. The oracle can be thought of as a tool that, when given a specific input, produces an output according to an unknown function $f(x)$.\n",
    "\n",
    "How is it possible to construct and design an oracle for a quantum algorithm? In general, an oracle is represented by a unitary operator $U_f$. This operator acts on a quantum state to evaluate a binary function $f(x)$. For example, in the context of Grover's and Deutsch-Jozsa algorithm, the oracle $U_f$ takes the action $U_f|x\\rangle |y\\rangle = |x\\rangle |y\\oplus f(x)\\rangle$. The $\\oplus$ represents the XOR operation:\n",
    "\n",
    "* $x \\oplus y$ equals to $0$ if $x=y$;\n",
    "* $x \\oplus y$ equals to $1$ if $x\\neq y$.  \n",
    "\n",
    "![Oracle_fig](https://docs.classiq.io/resources/oracle_workshop.png)"
   ]
  },
  {
   "cell_type": "markdown",
   "metadata": {
    "id": "ze4Pv1Td6nnV"
   },
   "source": [
    "The quantum oracles are developed in order to entangle the $x$ and $y$ qubits according to a set of rules in a particular way we want to. Classiq provides a distinctive and efficient approach to working with oracles, which are defined through arithmetic expressions. Starting with a simple example, we create an oracle for a binary function $f(x,y)$ that follows the arithmetic expression:"
   ]
  },
  {
   "cell_type": "markdown",
   "metadata": {
    "id": "fLvlqAvV6nnV"
   },
   "source": [
    "## Quantum oracles and arithmetics: A simple example\n"
   ]
  },
  {
   "cell_type": "markdown",
   "metadata": {
    "id": "XOhEIgkc6nnV"
   },
   "source": [
    "$$\n",
    " \\begin{cases}\n",
    "    f(x,y) = 1,\\text{ if }(2\\cdot x+y =4)\\\\\n",
    "     f(x,y) = 0,\\text{ else }\n",
    "\\end{cases}\n",
    "$$"
   ]
  },
  {
   "cell_type": "markdown",
   "metadata": {
    "id": "bHRgvIa46nnV"
   },
   "source": [
    "with $x∈\\{0,1\\}$ and $y\\in\\{0,1,2,3\\}$. We first define a quantum function that implements the arithmetic operation described above:"
   ]
  },
  {
   "cell_type": "code",
   "metadata": {
    "id": "wWYWSsUQ6nnW",
    "ExecuteTime": {
     "end_time": "2025-09-22T09:27:21.158037Z",
     "start_time": "2025-09-22T09:27:21.156344Z"
    }
   },
   "source": [
    "@qfunc\n",
    "def oracle(x:QNum,y:QNum,z:QBit):\n",
    "    z^= 2*x+y==4"
   ],
   "outputs": [],
   "execution_count": 23
  },
  {
   "cell_type": "markdown",
   "metadata": {
    "id": "ZCvbULds6nnW"
   },
   "source": [
    "* The `^=` expression represents an in-place XOR operation between the `z` qubit on the left-hand side and the right-hand side expression, assigning the result to the qubit `z`. A short explanation of this concept can be found [here](https://docs.classiq.io/latest/explore/functions/function_usage_examples/arithmetic/bitwise_xor/bitwise_xor_example/).\n",
    "\n",
    "* Therefore, `z ^= 2*x + y == 4` means that we are doing an XOR operation that follows the rule `2*x + y == 4`, assigning the result to `z` (in-place)."
   ]
  },
  {
   "cell_type": "markdown",
   "metadata": {
    "id": "bkc0CuUA6nnW"
   },
   "source": [
    "Now, let's see how this looks when evaluating this oracle over all possible values of `x` and `y`:"
   ]
  },
  {
   "cell_type": "code",
   "metadata": {
    "id": "EMW9rj9a6nnW",
    "ExecuteTime": {
     "end_time": "2025-09-22T09:27:21.160427Z",
     "start_time": "2025-09-22T09:27:21.158729Z"
    }
   },
   "source": [
    "@qfunc\n",
    "def main(x:Output[QNum],y:Output[QNum],z:Output[QBit]):\n",
    "  #Allocating qubits for the x, y, and z variables\n",
    "  allocate(1,x)\n",
    "  allocate(2,y)\n",
    "  allocate(z)\n",
    "  hadamard_transform(x)\n",
    "  hadamard_transform(y)\n",
    "  #calling the oracle\n",
    "  oracle(x,y,z)"
   ],
   "outputs": [],
   "execution_count": 24
  },
  {
   "cell_type": "code",
   "metadata": {
    "colab": {
     "base_uri": "https://localhost:8080/"
    },
    "executionInfo": {
     "elapsed": 5132,
     "status": "ok",
     "timestamp": 1745895684126,
     "user": {
      "displayName": "Christopher Ferrie",
      "userId": "04583713612244531108"
     },
     "user_tz": -600
    },
    "id": "AdkNKm_J6nnX",
    "outputId": "b97f9e5e-4044-401c-cb85-d93f5a217ef9",
    "ExecuteTime": {
     "end_time": "2025-09-22T09:27:24.178998Z",
     "start_time": "2025-09-22T09:27:21.161691Z"
    }
   },
   "source": [
    "#Creating your quantum model\n",
    "qmodel = create_model(main)\n",
    "\n",
    "#Synthesizing your model and showing it on the IDE\n",
    "qprogram = synthesize(qmodel)\n",
    "show(qprogram)"
   ],
   "outputs": [
    {
     "name": "stdout",
     "output_type": "stream",
     "text": [
      "Quantum program link: https://platform.classiq.io/circuit/33367rxzbZSTd9ERZbbHvNHJQ7s\n"
     ]
    }
   ],
   "execution_count": 25
  },
  {
   "cell_type": "markdown",
   "metadata": {
    "id": "qLtaBC8PACds"
   },
   "source": [
    "## Quantum oracles and arithmetics: Phase Kickback\n",
    "\n",
    "\n",
    "Every quantum algorithm can be decomposed into three key steps: 1) Encoding the data, 2) Manipulating the data, and 3) Extracting the result. In the current class, we are studying the first step, where the data is loaded into the quantum computer. For the second step, the phase kickback is a powerful technique in data manipulation, facilitating the extraction of desired results and allowing more freedom in data encoding techniques.\n",
    "\n",
    "Phase kickback deals with kicking the result of a function to the phase of a quantum state so it can be smartly manipulated with constructive and destructive interferences.\n",
    "\n",
    "The standard way to apply a classical, binary, function $f: \\{0, 1\\}^n \\to \\{0, 1\\}$ on quantum states is by using the oracle with digital encoding by performing:\n",
    "\n",
    "$$\n",
    "O_f |x\\rangle_n |y\\rangle = |x\\rangle_n |y\\oplus f(x)\\rangle.\n",
    "$$\n",
    "\n",
    "The phase kickback takes the oracle $O_f$ and performs the action\n",
    "\n",
    "$$\n",
    "|x\\rangle \\to (-1)^{f(x)}|x\\rangle.\n",
    "$$\n",
    "\n",
    "\n",
    "The circuit that applies the Phase Kickback to a quantum Oracle $O$ is of the following form:\n",
    "\n",
    "![Oracle_fig](https://docs.classiq.io/resources/phase_kickback_workshop.png)\n",
    "\n",
    "For more information, refer to the [phase kickback](https://docs.classiq.io/latest/classiq_101/quantum_primitives_with_classiq/phase_kickback/) notebook."
   ]
  },
  {
   "cell_type": "markdown",
   "metadata": {
    "id": "kAWKn-wiIEnu"
   },
   "source": [
    "### Exercise: Phase Kickback\n",
    "\n",
    "Apply the phase Kickback to the oracle given in the first example and execute it using the statevector simulator."
   ]
  },
  {
   "cell_type": "code",
   "metadata": {
    "id": "oJUUwdK5IfFW",
    "ExecuteTime": {
     "end_time": "2025-09-22T09:27:25.623266Z",
     "start_time": "2025-09-22T09:27:24.180385Z"
    }
   },
   "source": [
    "#TODO Write your phase kickback primitive. \n",
    "#TODO Try to write your code by first declaring an auxilliary qubit and making use of the `within-apply statement \n",
    "#TODO And then try to use the more efficient method making use of the `control` and `phase` statements\n",
    "\n",
    "\n",
    "from classiq.qmod.symbolic import pi\n",
    "\n",
    "#TODO Write any functions you may need to implement the phase-kickback primitive \n",
    "\n",
    "@qfunc\n",
    "def main(x:Output[QNum],y:Output[QNum]):\n",
    "  #Allocating qubits for the x, y variables \n",
    "  allocate(1,x)\n",
    "  allocate(2,y)\n",
    "  #TODO: implement the phase-kickback procedure \n",
    "\n",
    "qprog = synthesize(main)\n",
    "show(qprog)\n"
   ],
   "outputs": [
    {
     "name": "stdout",
     "output_type": "stream",
     "text": [
      "Quantum program link: https://platform.classiq.io/circuit/333682Ofz1ZWwrsVLS9w3veJ9vS\n"
     ]
    }
   ],
   "execution_count": 26
  },
  {
   "cell_type": "code",
   "metadata": {
    "id": "OveAm2iNMAe5",
    "ExecuteTime": {
     "end_time": "2025-09-22T09:27:27.654776Z",
     "start_time": "2025-09-22T09:27:25.625395Z"
    }
   },
   "source": [
    "#TODO use this code to execute your code on the statevector simulator and check that you received the correct answer\n",
    "\n",
    "import numpy as np\n",
    "\n",
    "backend_prefs = ClassiqBackendPreferences(\n",
    "    backend_name=ClassiqSimulatorBackendNames.SIMULATOR_STATEVECTOR\n",
    ")\n",
    "exec_prefs = ExecutionPreferences(num_shots=1, backend_preferences=backend_prefs)\n",
    "\n",
    "with ExecutionSession(qprog, execution_preferences=exec_prefs) as es:\n",
    "    res = es.sample()\n",
    "\n",
    "# ---- Cleaning up results: keeping only (x,y), dropping ancillas ----\n",
    "DATA_BITS = 3  # y (2 qubits) + x (1 qubit)\n",
    "\n",
    "rows = []\n",
    "for st in res.parsed_state_vector:\n",
    "    bstr = st.bitstring\n",
    "    if set(bstr[:-DATA_BITS]) == {\"0\"}:  # ancilla must be |0⟩\n",
    "        y = int(bstr[-3:-1], 2)\n",
    "        x = int(bstr[-1], 2)\n",
    "        amp = st.amplitude\n",
    "        mag = abs(amp)\n",
    "        angle_pi = np.angle(amp) / np.pi   # angle in units of π\n",
    "        note = \"  ← solution\" if (2 * x + y == 4) else \"\"\n",
    "        rows.append((x, y, mag, angle_pi, note))\n",
    "\n",
    "rows.sort(key=lambda r: (r[0], r[1]))\n",
    "\n",
    "print(\"x  y   |amp|      angle/π   note\")\n",
    "print(\"----------------------------------\")\n",
    "for x, y, mag, ang, note in rows:\n",
    "    print(f\"{x}  {y}   {mag:.3f}     {ang:+.2f}π   {note}\")"
   ],
   "outputs": [
    {
     "name": "stdout",
     "output_type": "stream",
     "text": [
      "x  y   |amp|      angle/π   note\n",
      "----------------------------------\n"
     ]
    }
   ],
   "execution_count": 27
  },
  {
   "cell_type": "markdown",
   "metadata": {
    "id": "tJFwHirS6nnX"
   },
   "source": [
    "## Quantum oracles and arithmetics: The Deutsch-Jozsa Algorithm"
   ]
  },
  {
   "cell_type": "markdown",
   "metadata": {
    "id": "W_RFfMp86nnX"
   },
   "source": [
    "Deutch-Jozsa algorithm is a seminal quantum algorithm, well-known for its exponential speed-up over classical algorithms to identify if a binary function is either constant or balanced. Given a binary function $f$, assumed to be either constant or balanced, the Deutsch-Jozsa algorithm requires only one evaluation to assert this, while a classical algorithm would require up to $2^{n-1} +1$ evaluations of the oracle."
   ]
  },
  {
   "cell_type": "markdown",
   "metadata": {
    "id": "Pjopvdqb6nnX"
   },
   "source": [
    "![Oracle_fig](https://docs.classiq.io/resources/dj_workshop.png)"
   ]
  },
  {
   "cell_type": "markdown",
   "metadata": {
    "id": "T-GViUXY6nnX"
   },
   "source": [
    "## Deutsch-Jozsa Algorithm Exercise:"
   ]
  },
  {
   "cell_type": "markdown",
   "metadata": {
    "id": "Is2QDCkh6nnX"
   },
   "source": [
    "In this exercise, we will use the Deutsch-Jozsa algorithm to check if the following function is balanced.\n",
    "\n",
    "![Oracle_table](https://docs.classiq.io/resources/Oracle_table.png)\n",
    "\n"
   ]
  },
  {
   "cell_type": "markdown",
   "metadata": {
    "id": "upPcdoKp6nnY"
   },
   "source": [
    "<details><summary>How do we build the oracle for the function displayed in the table?</summary>\n",
    "\n",
    "The function $f(x)$ assumes its value as $1$ only when the integer value of $| x \\rangle$ is even. This is equivalent to the condition that the LSB must be 0 to have a phase flip.\n",
    "\n",
    "</details>\n",
    "\n",
    "We can thus set the rule for the oracle of $f(x)$: Everytime the integer value of the qubit $| x \\rangle$ is divisible by $2$, $f$ will output $1$. In other words, the oracle for this function should flip the phases of the even integers. In this case we can cleverly construct such an oracle, but it is not always an easy task to build it.\n",
    "\n",
    "Once you have found the arithmetic expression for the oracle, it is possible to construct this algorithm with only a few lines of code; the synthesis engine handles the hard work (and can optimize for circuit depth or width):"
   ]
  },
  {
   "cell_type": "markdown",
   "metadata": {
    "id": "bjcNCiQu6nnY"
   },
   "source": [
    "When implementing the Deutsch-Jozsa algorithm below, use the new phase and control statements elegant implementation method:"
   ]
  },
  {
   "cell_type": "code",
   "metadata": {
    "id": "OcojEPDe6nnY",
    "ExecuteTime": {
     "end_time": "2025-09-22T09:27:27.659351Z",
     "start_time": "2025-09-22T09:27:27.656301Z"
    }
   },
   "source": [
    "@qfunc\n",
    "def main(x: Output[QNum]):\n",
    "    allocate(3,x)\n",
    "    #TODO: Employ the Deutsch-Jozsa algorithm, using the phase and control method (a within apply can and should be used for the Hadamard transforms)"
   ],
   "outputs": [],
   "execution_count": 28
  },
  {
   "cell_type": "code",
   "metadata": {
    "id": "1-5cOrBh6nnY",
    "ExecuteTime": {
     "end_time": "2025-09-22T09:27:29.018088Z",
     "start_time": "2025-09-22T09:27:27.660596Z"
    }
   },
   "source": [
    "qmod = create_model(main)\n",
    "qprog = synthesize(qmod)\n",
    "show(qprog)"
   ],
   "outputs": [
    {
     "name": "stdout",
     "output_type": "stream",
     "text": [
      "Quantum program link: https://platform.classiq.io/circuit/33368VNOJ01SoR2V1hpvkNLjLqy\n"
     ]
    }
   ],
   "execution_count": 29
  },
  {
   "cell_type": "code",
   "metadata": {
    "id": "viOyqJmDcqi5",
    "ExecuteTime": {
     "end_time": "2025-09-22T09:27:29.022171Z",
     "start_time": "2025-09-22T09:27:29.019163Z"
    }
   },
   "source": [
    "#TODO: Refer to the Deutsch-Jozsa class notebook to help you write a classical post-processing part,"
   ],
   "outputs": [],
   "execution_count": 30
  },
  {
   "cell_type": "markdown",
   "metadata": {
    "id": "c6Rn84gg6nnY"
   },
   "source": [
    "## Quantum oracles and arithmetics: The Grover Algorithm"
   ]
  },
  {
   "cell_type": "markdown",
   "metadata": {
    "id": "izVXvN-E6nnY"
   },
   "source": [
    "Grover's algorithm is a quantum search algorithm, well-known for its ability to search an unsorted database or solve the \"unstructured search problem\" quadratically faster than any classical counterpart. Given an unsorted list of $N$ elements and a search condition, Grover's algorithm's task is to find the input that satisfies the condition. To achieve this, the algorithm uses an oracle associated to a function $f(x)$, which evaluates to 1 if $x$ is the desired element and 0 otherwise. Grover's algorithm performs about $\\sqrt N$ iterations, each one applying a Grover operator that flips the phase of the marked state and then amplifies its amplitude. Repeating this process gradually boosts the marked state’s amplitude until it becomes highly probable upon measurement. While a classical computer would require $O(N)$ queries to search a database of $N$ items, Grover's algorithm achieves this in $O(\\sqrt N)$ queries, demonstrating the advantage of quantum parallelism and the effects of quantum interference."
   ]
  },
  {
   "cell_type": "markdown",
   "metadata": {
    "id": "gA1mzwpy6nnY"
   },
   "source": [
    "![Oracle_fig](https://docs.classiq.io/resources/grovers_workshop.png)"
   ]
  },
  {
   "cell_type": "markdown",
   "metadata": {
    "id": "DATGge1G6nna"
   },
   "source": [
    "## Grover's Algorithm Exercise:"
   ]
  },
  {
   "cell_type": "markdown",
   "metadata": {
    "id": "BXyfLI3X6nna"
   },
   "source": [
    "In this exercise, we will use the Grover algorithm to solve the following equation:\n",
    "\n",
    "$$\n",
    "    x - y = 2\n",
    "$$\n",
    "\n",
    "\n",
    "For this exercise, begin by defining the oracle ${O}$. First, create a `QStruct` that contains the two `QNum` variables, `x` and `y`:"
   ]
  },
  {
   "cell_type": "code",
   "metadata": {
    "id": "qdi1hUaC6nna",
    "ExecuteTime": {
     "end_time": "2025-09-22T09:27:29.025608Z",
     "start_time": "2025-09-22T09:27:29.023167Z"
    }
   },
   "source": [
    "class Variables(QStruct):\n",
    "    x: QNum[2, False, 0]\n",
    "    y: QNum[2, False, 0]\n",
    "\n",
    "@qfunc\n",
    "def quantum_oracle(vars:Variables,z:QNum):\n",
    "    #TODO: Define the quantum oracle in terms of vars.x, vars.y, and z\n",
    "    pass #TODO don't forget to delete 'pass'"
   ],
   "outputs": [],
   "execution_count": 31
  },
  {
   "cell_type": "markdown",
   "metadata": {
    "id": "oS-YwpH26nnb"
   },
   "source": [
    "Next,  incorporate the quantum oracle into the `grover_search` function that automatically implements the Grover operator iterations:"
   ]
  },
  {
   "cell_type": "code",
   "metadata": {
    "id": "WAedWvH16nnb",
    "ExecuteTime": {
     "end_time": "2025-09-22T09:27:29.034456Z",
     "start_time": "2025-09-22T09:27:29.026594Z"
    }
   },
   "source": [
    "@qfunc\n",
    "def main(vars: Output[Variables]):\n",
    "    allocate(vars.size, vars)\n",
    "    #TODO: Fill the `grover_search` function below with the phase kickback applied to the oracle you have built. \n",
    "    #TODO You can do this by using the function phase_oracle(oracle, vars) or any other way you prefer.\n",
    "    grover_search(reps=5, oracle= lambda vars: phase_oracle(quantum_oracle,vars), #TODO input your oracle, you may use the `phase_oracle` built-in function to easily implement the oracle\n",
    "        packed_vars= vars)"
   ],
   "outputs": [],
   "execution_count": 32
  },
  {
   "cell_type": "code",
   "metadata": {
    "id": "kEOqJshcUUVa",
    "ExecuteTime": {
     "end_time": "2025-09-22T09:27:34.094911Z",
     "start_time": "2025-09-22T09:27:29.036458Z"
    }
   },
   "source": [
    "# Printing the results to check that the algorithm\n",
    "qmod = create_model(main)\n",
    "qprog = synthesize(qmod)\n",
    "res = execute(qprog).result()\n",
    "counts = res[0].value.parsed_counts\n",
    "counts"
   ],
   "outputs": [
    {
     "name": "stderr",
     "output_type": "stream",
     "text": [
      "/Users/adamgitter/Library/Caches/pypoetry/virtualenvs/backend-X8DVKPvc-py3.11/lib/python3.11/site-packages/classiq/model_expansions/transformers/type_modifier_inference.py:185: ClassiqDeprecationWarning: The use of variable 'x' does not conform to its declared modifier: expected 'Permutable', but found 'Mutable'.\n",
      "Tip: If the cumulative use of the variable in the function matches 'Permutable', use the `unchecked` flag to instruct the compiler to disregard individual operations.\n",
      "\tat file grover.py line 54 character 43\n",
      "The deprecation warning will be elevated to an error starting July 23, 2025, at the earliest.\n",
      "  warnings.warn(\n",
      "/Users/adamgitter/Library/Caches/pypoetry/virtualenvs/backend-X8DVKPvc-py3.11/lib/python3.11/site-packages/classiq/model_expansions/transformers/type_modifier_inference.py:185: ClassiqDeprecationWarning: The use of variable 'target' does not conform to its declared modifier: expected 'Const', but found 'Mutable'.\n",
      "Tip: If the cumulative use of the variable in the function matches 'Const', use the `unchecked` flag to instruct the compiler to disregard individual operations.\n",
      "\tat file grover.py line 54 character 16\n",
      "The deprecation warning will be elevated to an error starting July 23, 2025, at the earliest.\n",
      "  warnings.warn(\n"
     ]
    },
    {
     "data": {
      "text/plain": [
       "[{'vars': {'x': 0, 'y': 0}}: 143,\n",
       " {'vars': {'x': 2, 'y': 2}}: 138,\n",
       " {'vars': {'x': 3, 'y': 3}}: 138,\n",
       " {'vars': {'x': 0, 'y': 2}}: 132,\n",
       " {'vars': {'x': 2, 'y': 0}}: 131,\n",
       " {'vars': {'x': 2, 'y': 1}}: 131,\n",
       " {'vars': {'x': 1, 'y': 1}}: 130,\n",
       " {'vars': {'x': 0, 'y': 1}}: 129,\n",
       " {'vars': {'x': 3, 'y': 0}}: 129,\n",
       " {'vars': {'x': 1, 'y': 0}}: 128,\n",
       " {'vars': {'x': 1, 'y': 2}}: 127,\n",
       " {'vars': {'x': 0, 'y': 3}}: 125,\n",
       " {'vars': {'x': 2, 'y': 3}}: 125,\n",
       " {'vars': {'x': 1, 'y': 3}}: 116,\n",
       " {'vars': {'x': 3, 'y': 1}}: 114,\n",
       " {'vars': {'x': 3, 'y': 2}}: 112]"
      ]
     },
     "execution_count": 33,
     "metadata": {},
     "output_type": "execute_result"
    }
   ],
   "execution_count": 33
  },
  {
   "cell_type": "markdown",
   "metadata": {},
   "source": [
    "Try to also write the Grover algorithm with the new phase and control method (not making use of the built in phase_oracle function)!"
   ]
  },
  {
   "cell_type": "markdown",
   "metadata": {
    "id": "vUe52tY-ep5K"
   },
   "source": [
    "# Solutions"
   ]
  },
  {
   "cell_type": "markdown",
   "metadata": {
    "id": "D-6m2_xdeslj"
   },
   "source": [
    "## Phase Kickback:"
   ]
  },
  {
   "cell_type": "markdown",
   "metadata": {},
   "source": [
    "### Basic Solution:"
   ]
  },
  {
   "cell_type": "code",
   "metadata": {
    "id": "Q7n4-OElerut",
    "ExecuteTime": {
     "end_time": "2025-09-22T09:27:36.264341Z",
     "start_time": "2025-09-22T09:27:34.096405Z"
    }
   },
   "source": [
    "from classiq.execution import (ClassiqBackendPreferences,ClassiqSimulatorBackendNames,ExecutionPreferences)\n",
    "from classiq.qmod.symbolic import max\n",
    "\n",
    "@qfunc\n",
    "def oracle(x: QNum,y: QNum,z: QBit):\n",
    "  z^= (2* x + y == 4)\n",
    "\n",
    "@qfunc\n",
    "def prepare_minus(out: Output[QBit]):\n",
    "    allocate(out)\n",
    "    X(out)\n",
    "    H(out)\n",
    "\n",
    "@qfunc\n",
    "def oracle_phase_kickback(x: QNum,y: QNum):\n",
    "    z= QBit(\"z\")\n",
    "    within_apply(\n",
    "        within=lambda: prepare_minus(z), apply=lambda: oracle(x,y,z)\n",
    "    )\n",
    "\n",
    "@qfunc\n",
    "def main(x: Output[QNum],y: Output[QNum]):\n",
    "  #Allocating qubits for the x, y, and z variables\n",
    "    allocate(1,x)\n",
    "    allocate(2,y)\n",
    "  #Performing Hadamard transform over all qubits\n",
    "    hadamard_transform(x)\n",
    "    hadamard_transform(y)\n",
    "  #Using within_apply to prepare the minus state, call the oracle function, and then unprepare the minus state\n",
    "    oracle_phase_kickback(x,y)\n",
    "\n",
    "qprog = synthesize(main)\n",
    "show(qprog)\n",
    "\n"
   ],
   "outputs": [
    {
     "name": "stdout",
     "output_type": "stream",
     "text": [
      "Quantum program link: https://platform.classiq.io/circuit/33369RIkI3Jy95KPRNIEUHtkAkM\n"
     ]
    }
   ],
   "execution_count": 34
  },
  {
   "cell_type": "code",
   "metadata": {
    "executionInfo": {
     "elapsed": 38,
     "status": "aborted",
     "timestamp": 1745992783540,
     "user": {
      "displayName": "Adam Gitter",
      "userId": "02509940095806877902"
     },
     "user_tz": -180
    },
    "id": "Z2WjjTlLT3nm",
    "ExecuteTime": {
     "end_time": "2025-09-22T09:27:38.092731Z",
     "start_time": "2025-09-22T09:27:36.265670Z"
    }
   },
   "source": [
    "import numpy as np\n",
    "\n",
    "backend_prefs = ClassiqBackendPreferences(\n",
    "    backend_name=ClassiqSimulatorBackendNames.SIMULATOR_STATEVECTOR\n",
    ")\n",
    "exec_prefs = ExecutionPreferences(num_shots=1, backend_preferences=backend_prefs)\n",
    "\n",
    "with ExecutionSession(qprog, execution_preferences=exec_prefs) as es:\n",
    "    res = es.sample()\n",
    "\n",
    "# ---- Cleaning up results: keeping only (x,y), dropping ancillas ----\n",
    "DATA_BITS = 3  # y (2 qubits) + x (1 qubit)\n",
    "\n",
    "rows = []\n",
    "for st in res.parsed_state_vector:\n",
    "    bstr = st.bitstring\n",
    "    if set(bstr[:-DATA_BITS]) == {\"0\"}:  # ancilla must be |0⟩\n",
    "        y = int(bstr[-3:-1], 2)\n",
    "        x = int(bstr[-1], 2)\n",
    "        amp = st.amplitude\n",
    "        mag = abs(amp)\n",
    "        angle_pi = np.angle(amp) / np.pi   # angle in units of π\n",
    "        note = \"  ← solution\" if (2 * x + y == 4) else \"\"\n",
    "        rows.append((x, y, mag, angle_pi, note))\n",
    "\n",
    "rows.sort(key=lambda r: (r[0], r[1]))\n",
    "\n",
    "print(\"x  y   |amp|      angle/π   note\")\n",
    "print(\"----------------------------------\")\n",
    "for x, y, mag, ang, note in rows:\n",
    "    print(f\"{x}  {y}   {mag:.3f}     {ang:+.2f}π   {note}\")"
   ],
   "outputs": [
    {
     "name": "stdout",
     "output_type": "stream",
     "text": [
      "x  y   |amp|      angle/π   note\n",
      "----------------------------------\n",
      "0  0   0.354     +1.00π   \n",
      "0  1   0.354     +1.00π   \n",
      "0  2   0.354     +1.00π   \n",
      "0  3   0.354     +1.00π   \n",
      "1  0   0.354     +1.00π   \n",
      "1  1   0.354     +1.00π   \n",
      "1  2   0.354     -0.00π     ← solution\n",
      "1  3   0.354     +1.00π   \n"
     ]
    }
   ],
   "execution_count": 35
  },
  {
   "cell_type": "markdown",
   "metadata": {},
   "source": [
    "### Elegant method (Phase and Control)"
   ]
  },
  {
   "cell_type": "code",
   "metadata": {
    "ExecuteTime": {
     "end_time": "2025-09-22T09:27:40.798298Z",
     "start_time": "2025-09-22T09:27:38.094042Z"
    }
   },
   "source": [
    "from classiq.qmod.symbolic import pi\n",
    "\n",
    "\n",
    "@qfunc\n",
    "def main(x: Output[QNum],y: Output[QNum]):\n",
    "  #Allocating qubits for the x, y, and z variables\n",
    "    allocate(1,x)\n",
    "    allocate(2,y)\n",
    "  #Performing Hadamard transform over all qubits\n",
    "    hadamard_transform(x)\n",
    "    hadamard_transform(y)\n",
    "  #Using control and phase together to efficiently flip the phases \n",
    "    control(2* x + y == 4, lambda: phase(pi))\n",
    "qprog = synthesize(main)\n",
    "show(qprog)\n"
   ],
   "outputs": [
    {
     "name": "stdout",
     "output_type": "stream",
     "text": [
      "Quantum program link: https://platform.classiq.io/circuit/33369yl4DyTwGqzTOcXCrOBiJXu\n"
     ]
    }
   ],
   "execution_count": 36
  },
  {
   "cell_type": "code",
   "metadata": {
    "ExecuteTime": {
     "end_time": "2025-09-22T09:27:42.860704Z",
     "start_time": "2025-09-22T09:27:40.801025Z"
    }
   },
   "source": [
    "import numpy as np\n",
    "\n",
    "backend_prefs = ClassiqBackendPreferences(\n",
    "    backend_name=ClassiqSimulatorBackendNames.SIMULATOR_STATEVECTOR\n",
    ")\n",
    "exec_prefs = ExecutionPreferences(num_shots=1, backend_preferences=backend_prefs)\n",
    "\n",
    "with ExecutionSession(qprog, execution_preferences=exec_prefs) as es:\n",
    "    res = es.sample()\n",
    "\n",
    "# ---- Cleaning up results: keeping only (x,y), dropping ancillas ----\n",
    "DATA_BITS = 3  # y (2 qubits) + x (1 qubit)\n",
    "\n",
    "rows = []\n",
    "for st in res.parsed_state_vector:\n",
    "    bstr = st.bitstring\n",
    "    if set(bstr[:-DATA_BITS]) == {\"0\"}:  # ancilla must be |0⟩\n",
    "        y = int(bstr[-3:-1], 2)\n",
    "        x = int(bstr[-1], 2)\n",
    "        amp = st.amplitude\n",
    "        mag = abs(amp)\n",
    "        angle_pi = np.angle(amp) / np.pi   # angle in units of π\n",
    "        note = \"  ← solution\" if (2 * x + y == 4) else \"\"\n",
    "        rows.append((x, y, mag, angle_pi, note))\n",
    "\n",
    "rows.sort(key=lambda r: (r[0], r[1]))\n",
    "\n",
    "print(\"x  y   |amp|      angle/π   note\")\n",
    "print(\"----------------------------------\")\n",
    "for x, y, mag, ang, note in rows:\n",
    "    print(f\"{x}  {y}   {mag:.3f}     {ang:+.2f}π   {note}\")"
   ],
   "outputs": [
    {
     "name": "stdout",
     "output_type": "stream",
     "text": [
      "x  y   |amp|      angle/π   note\n",
      "----------------------------------\n",
      "0  0   0.354     +0.12π   \n",
      "0  1   0.354     +0.12π   \n",
      "0  2   0.354     +0.12π   \n",
      "0  3   0.354     +0.12π   \n",
      "1  0   0.354     +0.12π   \n",
      "1  1   0.354     +0.12π   \n",
      "1  2   0.354     -0.88π     ← solution\n",
      "1  3   0.354     +0.12π   \n"
     ]
    }
   ],
   "execution_count": 37
  },
  {
   "cell_type": "markdown",
   "metadata": {
    "id": "c7Gq-Jyzg5MB"
   },
   "source": [
    "## Deutsch-Jozsa (only new elegant method):"
   ]
  },
  {
   "cell_type": "code",
   "metadata": {
    "id": "gMtZqxEdhaxc",
    "ExecuteTime": {
     "end_time": "2025-09-22T09:27:44.094450Z",
     "start_time": "2025-09-22T09:27:42.862717Z"
    }
   },
   "source": [
    "from classiq.qmod.symbolic import pi\n",
    "\n",
    "@qfunc\n",
    "def main(x: Output[QNum]):\n",
    "    allocate(3,x)\n",
    "    # Employing the Deutsch-Jozsa algorithm, using the oracle we built previouvsly.\n",
    "    within_apply(lambda: hadamard_transform(x), lambda: control(x%2==0, lambda: phase(pi)))\n",
    "\n",
    "qmod = create_model(main)\n",
    "qprog = synthesize(qmod)\n"
   ],
   "outputs": [],
   "execution_count": 38
  },
  {
   "cell_type": "code",
   "metadata": {
    "id": "EBKnuNWthdhA",
    "ExecuteTime": {
     "end_time": "2025-09-22T09:27:45.660798Z",
     "start_time": "2025-09-22T09:27:44.095599Z"
    }
   },
   "source": [
    "# Outputting whether the function is constant or balanced:\n",
    "\n",
    "def post_process_deutsch_jozsa(parsed_results):\n",
    "    if len(parsed_results) == 1:\n",
    "        if 0 not in parsed_results:\n",
    "            print(\"The function is balanced\")\n",
    "        else:\n",
    "            print(\"The function is constant\")\n",
    "    else:\n",
    "        print(\n",
    "            \"cannot decide as more than one output was measured, the distribution is:\",\n",
    "            parsed_results,\n",
    "        )\n",
    "\n",
    "result = execute(qprog).result_value()\n",
    "results_list = [sample.state[\"x\"] for sample in result.parsed_counts]\n",
    "post_process_deutsch_jozsa(results_list)"
   ],
   "outputs": [
    {
     "name": "stdout",
     "output_type": "stream",
     "text": [
      "The function is balanced\n"
     ]
    }
   ],
   "execution_count": 39
  },
  {
   "cell_type": "markdown",
   "metadata": {
    "id": "rOhFg3VghexC"
   },
   "source": [
    "## Grover's Algorithm:"
   ]
  },
  {
   "cell_type": "markdown",
   "metadata": {},
   "source": [
    "### Regular Method:\n"
   ]
  },
  {
   "cell_type": "code",
   "metadata": {
    "id": "JYgsDJ5PhgTP",
    "ExecuteTime": {
     "end_time": "2025-09-22T09:27:45.664445Z",
     "start_time": "2025-09-22T09:27:45.662147Z"
    }
   },
   "source": [
    "class Variables(QStruct):\n",
    "    x: QNum[2, False, 0]\n",
    "    y: QNum[2, False, 0]\n",
    "\n",
    "@qfunc\n",
    "def quantum_oracle(vars:Variables,z:QNum):\n",
    "    z^=  vars.x - vars.y == 2"
   ],
   "outputs": [],
   "execution_count": 40
  },
  {
   "cell_type": "code",
   "metadata": {
    "id": "W44lZ4g0hiNJ",
    "ExecuteTime": {
     "end_time": "2025-09-22T09:27:45.666824Z",
     "start_time": "2025-09-22T09:27:45.665103Z"
    }
   },
   "source": [
    "@qfunc\n",
    "def main(vars: Output[Variables]):\n",
    "    allocate(vars.size, vars)\n",
    "\n",
    "    grover_search(\n",
    "        reps=2,\n",
    "        oracle=lambda vars: phase_oracle(quantum_oracle, vars),\n",
    "        packed_vars=vars,\n",
    "    )"
   ],
   "outputs": [],
   "execution_count": 41
  },
  {
   "cell_type": "code",
   "metadata": {
    "id": "waXfUVCThoeT",
    "ExecuteTime": {
     "end_time": "2025-09-22T09:27:53.048001Z",
     "start_time": "2025-09-22T09:27:45.667440Z"
    }
   },
   "source": [
    "qmod = create_model(main)\n",
    "qprog = synthesize(qmod)\n",
    "show(qprog)\n",
    "res = execute(qprog).result()\n",
    "counts = res[0].value.parsed_counts\n",
    "counts"
   ],
   "outputs": [
    {
     "name": "stdout",
     "output_type": "stream",
     "text": [
      "Quantum program link: https://platform.classiq.io/circuit/3336B5z11cljwBj32td5T2sUffw\n"
     ]
    },
    {
     "data": {
      "text/plain": [
       "[{'vars': {'x': 2, 'y': 0}}: 972,\n",
       " {'vars': {'x': 3, 'y': 1}}: 952,\n",
       " {'vars': {'x': 0, 'y': 2}}: 17,\n",
       " {'vars': {'x': 2, 'y': 2}}: 12,\n",
       " {'vars': {'x': 0, 'y': 3}}: 11,\n",
       " {'vars': {'x': 0, 'y': 1}}: 10,\n",
       " {'vars': {'x': 3, 'y': 2}}: 9,\n",
       " {'vars': {'x': 0, 'y': 0}}: 9,\n",
       " {'vars': {'x': 3, 'y': 3}}: 9,\n",
       " {'vars': {'x': 1, 'y': 0}}: 9,\n",
       " {'vars': {'x': 2, 'y': 1}}: 9,\n",
       " {'vars': {'x': 1, 'y': 1}}: 8,\n",
       " {'vars': {'x': 2, 'y': 3}}: 8,\n",
       " {'vars': {'x': 1, 'y': 3}}: 7,\n",
       " {'vars': {'x': 1, 'y': 2}}: 3,\n",
       " {'vars': {'x': 3, 'y': 0}}: 3]"
      ]
     },
     "execution_count": 42,
     "metadata": {},
     "output_type": "execute_result"
    }
   ],
   "execution_count": 42
  }
 ],
 "metadata": {
  "colab": {
   "provenance": [
    {
     "file_id": "1hNBIlFAphCYRrA4JBEYN8at0-MPF1st2",
     "timestamp": 1744624537938
    },
    {
     "file_id": "181Vv4m1Yh7fMe41_56cOE7rMSo7VgpiO",
     "timestamp": 1743608287339
    }
   ]
  },
  "kernelspec": {
   "display_name": "classiq-venv",
   "language": "python",
   "name": "python3"
  },
  "language_info": {
   "codemirror_mode": {
    "name": "ipython",
    "version": 3
   },
   "file_extension": ".py",
   "mimetype": "text/x-python",
   "name": "python",
   "nbconvert_exporter": "python",
   "pygments_lexer": "ipython3",
   "version": "3.12.11"
  }
 },
 "nbformat": 4,
 "nbformat_minor": 0
}
