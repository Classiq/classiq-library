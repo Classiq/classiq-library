{
 "cells": [
  {
   "cell_type": "markdown",
   "id": "6bb22af6-44a4-477f-ad4b-8a723cc1448a",
   "metadata": {},
   "source": [
    "# Discrete Quantum Walks"
   ]
  },
  {
   "cell_type": "markdown",
   "id": "122955ef-8431-44dc-a511-603e9f5f417d",
   "metadata": {},
   "source": [
    "\"Quantum Walk\" is an approach for developing and designing quantum algorithms. It can be thought as a quantum analogy to classical random walk. This generic technique underlies many quantum algorithms, in particular, the Grover's search algorithm, can be viewed as a quantum walk.\n",
    "\n",
    "In similar to classical random walks, quantum walks are divided into the discrete case and the continuos one. This notebook focuses on discrete quantum walks, and is organized as follows: First, we give a [one to one](##Classical-Random-Walks-vs.-Quantum-Walks) comparison between classical random walks and quantum walks, by treating a specific example: a walk on a circle. Then, we define a [general quantum model](##How-to-Build-a-general-Quantum-Walk-with-Classiq) for studying quantum walks, and consequently apply it to the [circle case](##Example:-Symmetric-Quantum-Walk-on-a-Circle) and to a a [hypercube graph](##Example:-4D-Hypercube-with-a-Grover-Coin). "
   ]
  },
  {
   "cell_type": "markdown",
   "id": "162bb5a5-5561-4e4c-a6e8-e49509604629",
   "metadata": {},
   "source": [
    "This tutorial demonstrates the following concepts of Classiq:\n",
    "* The resemblance between classical and quantum programming with Classiq.\n",
    "* Classiq's built-in constructs:\n",
    "    * `control`: general controlled-logic\n",
    "    *  `power`: \"parametric power\", specified as execution parameter.\n",
    "    *  `numeric quantum types`: working with signed and unsigned integers.\n",
    "    *  `within_apply` : for compute/uncompute operations $U V U^{\\dagger}$.\n",
    "* Passing a list of `QCallables` (quantum functions).\n",
    "* Parsed execution results, according to quantum variable types.\n",
    "\n",
    "\n",
    "****"
   ]
  },
  {
   "cell_type": "markdown",
   "id": "07459d9f-0997-40d6-bc15-ce34daf19a13",
   "metadata": {},
   "source": [
    "## Classical Random Walks vs. Quantum Walks"
   ]
  },
  {
   "cell_type": "markdown",
   "id": "8e415615-4bc5-4b8e-8090-a73493e8d6bb",
   "metadata": {},
   "source": [
    "We first specify and implement a simple example: a discrete walk on a circle, or more precisely, on a regular polygon having $2^N$ nodes (see Figure 1 below). The idea of random/quantum walk is the following:\n",
    "1. We start at some initial point, e.g., the zeroth node.\n",
    "2. We flip a coin, if we get heads/tails we move one step clockwise/counter-clockwise.\n",
    "3. We repeat steps 1-2 for a given total number of steps $T$."
   ]
  },
  {
   "cell_type": "markdown",
   "id": "928cad21-c2e4-4b4e-822b-8b24324d0463",
   "metadata": {},
   "source": [
    "<center>\n",
    "<img src=\"https://docs.classiq.io/resources/circle_random_walk.png\" style=\"width:30%\">\n",
    "<figcaption align = \"middle\"> Figure 1. A graph for a random walk on a circle. </figcaption>\n",
    "</center>"
   ]
  },
  {
   "cell_type": "code",
   "execution_count": 1,
   "id": "f554a6f5-ad8c-483e-99c4-e810f482c53a",
   "metadata": {
    "execution": {
     "iopub.execute_input": "2024-07-31T11:39:24.907508Z",
     "iopub.status.busy": "2024-07-31T11:39:24.906393Z",
     "iopub.status.idle": "2024-07-31T11:39:27.999774Z",
     "shell.execute_reply": "2024-07-31T11:39:27.999086Z"
    }
   },
   "outputs": [],
   "source": [
    "import matplotlib.pyplot as plt\n",
    "import numpy as np\n",
    "\n",
    "from classiq import *"
   ]
  },
  {
   "cell_type": "markdown",
   "id": "ad402658-6f37-4013-b345-61a608560025",
   "metadata": {},
   "source": [
    "Let us code a classical random walk and a discrete quantum walk side by side:"
   ]
  },
  {
   "cell_type": "markdown",
   "id": "7fa60d50-5633-4458-9a9a-c908cde93a52",
   "metadata": {},
   "source": [
    "First, we define a function to flip a coin:\n",
    "* Classical: the coin is either 0 or 1, to flip a coin we simply draw a random number from the set $\\{0,1\\}$.\n",
    "* Quantum: the coin is represented by a qubit, a \"flip\" is defined by some unitary operation on it. We choose the Hadamard gate, which sends the $|0\\rangle$ state into an equal superposition of $|0\\rangle$ and $|1\\rangle$."
   ]
  },
  {
   "cell_type": "code",
   "execution_count": 2,
   "id": "cb045538-fc52-4cb2-9282-523136887f46",
   "metadata": {
    "execution": {
     "iopub.execute_input": "2024-07-31T11:39:28.003023Z",
     "iopub.status.busy": "2024-07-31T11:39:28.002354Z",
     "iopub.status.idle": "2024-07-31T11:39:28.006057Z",
     "shell.execute_reply": "2024-07-31T11:39:28.005466Z"
    }
   },
   "outputs": [],
   "source": [
    "def classical_coin_flip(coin):\n",
    "    return np.random.randint(2)\n",
    "\n",
    "\n",
    "@qfunc\n",
    "def quantum_coin_flip(coin: QBit):\n",
    "    H(coin)"
   ]
  },
  {
   "cell_type": "markdown",
   "id": "d10a317a-0267-4b51-b230-3d3cd393d3fd",
   "metadata": {},
   "source": [
    "Next, we define a function for moving clockwise and counterclockwise. This operation is simply a modular addition by $\\pm 1$.\n",
    "* Classical: the position is an integer in $[-2^{N-1}, 2^{N-1}-1]$, we use basic arithmetic operations.\n",
    "* Quantum: the position is an $N$-qubits state. We can easily build an inplace modular addition by 1 ourselves (see explanation at [the end of this notebook](#Technical-Notes)). Note that since quantum operations are reversible, we can define a counterclockwise step as the inverse of the clockwise step."
   ]
  },
  {
   "cell_type": "code",
   "execution_count": 3,
   "id": "7d849d3d-2e03-4824-ac40-ac3364f2e1b7",
   "metadata": {
    "execution": {
     "iopub.execute_input": "2024-07-31T11:39:28.008431Z",
     "iopub.status.busy": "2024-07-31T11:39:28.008130Z",
     "iopub.status.idle": "2024-07-31T11:39:28.012490Z",
     "shell.execute_reply": "2024-07-31T11:39:28.011913Z"
    }
   },
   "outputs": [],
   "source": [
    "from classiq.qmod.symbolic import pi\n",
    "\n",
    "\n",
    "# classical\n",
    "def classical_step_clockwise(x, circle_size):\n",
    "    return (x + 1) % circle_size\n",
    "\n",
    "\n",
    "def classical_step_counterclockwise(x, circle_size):\n",
    "    return (x - 1) % circle_size\n",
    "\n",
    "\n",
    "# quantum\n",
    "@qfunc\n",
    "def quantum_step_clockwise(x: QArray):\n",
    "\n",
    "    within_apply(\n",
    "        lambda: qft(x),\n",
    "        lambda: repeat(x.len, lambda i: PHASE(2 * pi * 2 ** (i) / (2**x.len), x[i])),\n",
    "    )"
   ]
  },
  {
   "cell_type": "markdown",
   "id": "9f102eaf-80e8-45d3-8b55-e09ede9604ec",
   "metadata": {},
   "source": [
    "Finally, we construct a function for the full walk, iterating over flipping a coin and a single walking step based on the coin's state. Note the difference between the classical and quantum functions' declarations, for the quantum part we do not need to pass the circle size, as it is given by the size of the position state $x$."
   ]
  },
  {
   "cell_type": "code",
   "execution_count": 4,
   "id": "f78713da-6344-423c-a007-41638a3bd1a7",
   "metadata": {
    "execution": {
     "iopub.execute_input": "2024-07-31T11:39:28.014941Z",
     "iopub.status.busy": "2024-07-31T11:39:28.014570Z",
     "iopub.status.idle": "2024-07-31T11:39:28.019295Z",
     "shell.execute_reply": "2024-07-31T11:39:28.018671Z"
    }
   },
   "outputs": [],
   "source": [
    "# classical\n",
    "\n",
    "\n",
    "def random_walk_circle(\n",
    "    time,  # total time\n",
    "    x,  # position\n",
    "    circle_size,  # the size of the circle\n",
    "):\n",
    "    coin = 0\n",
    "    for step in range(time):\n",
    "        coin = classical_coin_flip(coin)\n",
    "        if coin == 0:\n",
    "            x = classical_step_clockwise(x, CIRCLE_SIZE)\n",
    "        if coin == 1:\n",
    "            x = classical_step_counterclockwise(x, CIRCLE_SIZE)\n",
    "    return x\n",
    "\n",
    "\n",
    "# quantum\n",
    "@qfunc\n",
    "def discrete_quantum_walk_circle(\n",
    "    time: CInt,  # total time\n",
    "    x: QArray[QBit],  # position\n",
    "):\n",
    "    coin = QNum(\"coin\")\n",
    "    allocate(1, coin)\n",
    "    power(\n",
    "        time,\n",
    "        lambda: (\n",
    "            quantum_coin_flip(coin),\n",
    "            control(coin == 0, lambda: quantum_step_clockwise(x)),\n",
    "            control(coin == 1, lambda: invert(lambda: quantum_step_clockwise(x))),\n",
    "        ),\n",
    "    )"
   ]
  },
  {
   "cell_type": "markdown",
   "id": "ea9266b8-60a0-4f93-bc6b-942cd6d85cb7",
   "metadata": {},
   "source": [
    "Let us define and run a specific example. We take a circle of size $2^7$, a total time of 50 steps, and 10000 samples. "
   ]
  },
  {
   "cell_type": "code",
   "execution_count": 5,
   "id": "08292dda-f399-4532-923d-256de55b82ab",
   "metadata": {
    "execution": {
     "iopub.execute_input": "2024-07-31T11:39:28.021831Z",
     "iopub.status.busy": "2024-07-31T11:39:28.021387Z",
     "iopub.status.idle": "2024-07-31T11:39:28.024487Z",
     "shell.execute_reply": "2024-07-31T11:39:28.023894Z"
    }
   },
   "outputs": [],
   "source": [
    "CIRCLE_SIZE = 2**7\n",
    "TOTAL_TIME = 50\n",
    "NUM_SAMPLES = 10000"
   ]
  },
  {
   "cell_type": "code",
   "execution_count": 6,
   "id": "2bf9fd18-3508-4e9b-995b-cb18025892f9",
   "metadata": {
    "execution": {
     "iopub.execute_input": "2024-07-31T11:39:28.026922Z",
     "iopub.status.busy": "2024-07-31T11:39:28.026413Z",
     "iopub.status.idle": "2024-07-31T11:39:40.554473Z",
     "shell.execute_reply": "2024-07-31T11:39:40.553697Z"
    }
   },
   "outputs": [
    {
     "name": "stdout",
     "output_type": "stream",
     "text": [
      "Opening: https://platform.classiq.io/circuit/7e2b3cff-45d5-4434-a3c2-604bb44ce5ca?version=0.45.0.dev0%2Bcf1b9b7ccc\n"
     ]
    }
   ],
   "source": [
    "from classiq.execution import ExecutionPreferences\n",
    "from classiq.qmod.symbolic import floor, log\n",
    "\n",
    "# classical\n",
    "final_pos = np.zeros(CIRCLE_SIZE)\n",
    "for sample in range(NUM_SAMPLES):\n",
    "    x = random_walk_circle(time=TOTAL_TIME, x=0, circle_size=CIRCLE_SIZE)\n",
    "    final_pos[x] += 1\n",
    "\n",
    "\n",
    "# quantum\n",
    "@qfunc\n",
    "def main(t: CInt, x: Output[QNum]):\n",
    "\n",
    "    allocate_num(floor(log(CIRCLE_SIZE, 2)), True, 0, x)\n",
    "    discrete_quantum_walk_circle(t, x)\n",
    "\n",
    "\n",
    "@cfunc\n",
    "def cmain():\n",
    "    save({\"run\": sample({\"t\": 50})})\n",
    "\n",
    "\n",
    "qmod = create_model(\n",
    "    main,\n",
    "    classical_execution_function=cmain,\n",
    "    execution_preferences=ExecutionPreferences(num_shots=NUM_SAMPLES),\n",
    ")\n",
    "\n",
    "write_qmod(qmod, \"quantum_walk_circle\")\n",
    "qprog = synthesize(qmod)\n",
    "show(qprog)\n",
    "results = execute(qprog).result()"
   ]
  },
  {
   "cell_type": "markdown",
   "id": "86989d71-6962-4062-9c8e-eeac0dc88102",
   "metadata": {},
   "source": [
    "<center>\n",
    "<img src=\"https://docs.classiq.io/resources/quantum_walk_circle_circuit.png\" style=\"width:100%\">\n",
    "<figcaption align = \"middle\"> Figure 2. The circuit for a quantum walk on a circle with $2^7$ nodes. The last three blocks are repeated `t` times. </figcaption>\n",
    "</center>"
   ]
  },
  {
   "cell_type": "markdown",
   "id": "4237a7e6-9dd1-4580-b3cf-22282e341909",
   "metadata": {},
   "source": [
    "We can plot the probabilities of ending at each position along the circle. In both cases, classical and quantum, we consider the probability of the final position after time $T=50$."
   ]
  },
  {
   "cell_type": "code",
   "execution_count": 7,
   "id": "b530ce16-8ca1-4a0d-9ab4-3276cc752460",
   "metadata": {
    "execution": {
     "iopub.execute_input": "2024-07-31T11:39:40.560470Z",
     "iopub.status.busy": "2024-07-31T11:39:40.558908Z",
     "iopub.status.idle": "2024-07-31T11:39:40.904511Z",
     "shell.execute_reply": "2024-07-31T11:39:40.903819Z"
    }
   },
   "outputs": [
    {
     "data": {
      "text/plain": [
       "Text(0, 0.5, 'probability')"
      ]
     },
     "execution_count": 7,
     "metadata": {},
     "output_type": "execute_result"
    },
    {
     "data": {
      "image/png": "[encoded data removed]",
      "text/plain": [
       "<Figure size 640x480 with 1 Axes>"
      ]
     },
     "metadata": {},
     "output_type": "display_data"
    }
   ],
   "source": [
    "# classical\n",
    "prob_classical = final_pos / NUM_SAMPLES\n",
    "grid = (np.linspace(0, CIRCLE_SIZE - 1, CIRCLE_SIZE)).astype(int)\n",
    "flipped_grid = np.append(\n",
    "    grid[CIRCLE_SIZE // 2 : CIRCLE_SIZE] - CIRCLE_SIZE, grid[0 : CIRCLE_SIZE // 2]\n",
    ")\n",
    "flipped_prob_classical = np.append(\n",
    "    prob_classical[CIRCLE_SIZE // 2 : CIRCLE_SIZE], prob_classical[0 : CIRCLE_SIZE // 2]\n",
    ")\n",
    "\n",
    "# quantum\n",
    "quantum_probs = {\n",
    "    sample.state[\"x\"]: sample.shots / NUM_SAMPLES\n",
    "    for sample in results[0].value.parsed_counts\n",
    "}\n",
    "sorted_quantum_probs = dict(sorted(quantum_probs.items()))\n",
    "\n",
    "\n",
    "plt.plot(flipped_grid, flipped_prob_classical, \".-\")\n",
    "plt.plot(sorted_quantum_probs.keys(), sorted_quantum_probs.values(), \".-\")\n",
    "plt.xlabel(\"position\", fontsize=16)\n",
    "plt.ylabel(\"probability\", fontsize=16)"
   ]
  },
  {
   "cell_type": "markdown",
   "id": "922b31e2-d1c4-4d7d-afd1-c633b5981441",
   "metadata": {},
   "source": [
    "We can see a clear difference between the two distributions. The classical distribution is symmetric around the zero position, whereas the quantum example is asymmetric with a peak far from 0. This is a small example of the different behaviors of classical random walks and quantum walks. More details and examples can be found in Ref. [[1](#review)]."
   ]
  },
  {
   "cell_type": "markdown",
   "id": "d0115edd-4b37-4482-8a30-c80bc0e50bac",
   "metadata": {},
   "source": [
    "## How to Build a General Quantum Walk with Classiq"
   ]
  },
  {
   "cell_type": "markdown",
   "id": "10f78850-0b2e-40ae-bd19-9558f6da238c",
   "metadata": {},
   "source": [
    "We define a quantum function for a discrete quantum walk. The arguments of the function are:\n",
    "* `time`: an integer for the number of walking steps.\n",
    "* `coin_flip_qfunc`: the quantum function for \"flipping\" the coin.\n",
    "*  `walks_qfuncs`: a list of quantum functions for all possible transitions at a given point.\n",
    "*  `coin_state`: the quantum state of the coin."
   ]
  },
  {
   "cell_type": "code",
   "execution_count": 8,
   "id": "72be5d00-bb53-4b71-8ba0-5a6c6cd20a1b",
   "metadata": {
    "execution": {
     "iopub.execute_input": "2024-07-31T11:39:40.909404Z",
     "iopub.status.busy": "2024-07-31T11:39:40.908269Z",
     "iopub.status.idle": "2024-07-31T11:39:40.914742Z",
     "shell.execute_reply": "2024-07-31T11:39:40.914060Z"
    }
   },
   "outputs": [],
   "source": [
    "from classiq.qmod.symbolic import pi\n",
    "\n",
    "\n",
    "@qfunc\n",
    "def discrete_quantum_walk(\n",
    "    time: CInt,\n",
    "    coin_flip_qfunc: QCallable[QNum],\n",
    "    walks_qfuncs: QCallableList,\n",
    "    coin_state: QNum,\n",
    "):\n",
    "\n",
    "    power(\n",
    "        time,\n",
    "        lambda: (\n",
    "            coin_flip_qfunc(coin_state),\n",
    "            repeat(\n",
    "                walks_qfuncs.len,\n",
    "                lambda i: control(coin_state == i, lambda: walks_qfuncs[i]()),\n",
    "            ),\n",
    "        ),\n",
    "    )"
   ]
  },
  {
   "cell_type": "markdown",
   "id": "ecebf5ce-99de-44c5-93c8-adf4a09cd264",
   "metadata": {},
   "source": [
    "## Example: Symmetric Quantum Walk on a Circle"
   ]
  },
  {
   "cell_type": "markdown",
   "id": "5cc94bcc-8d84-407d-9e76-6137899327df",
   "metadata": {},
   "source": [
    "As a first example, we can consider the circle geometry from above, implemented with our generic definition. However, as opposed to the implementation above we take a different initial condition for the coin, $\\frac{1}{\\sqrt{2}}(|0\\rangle +i |1\\rangle)$ instead of $|0\\rangle$. This state is a balanced initial condition for the coin (see Ref. [[1](#review)]) and can be prepared by applying an H gate followed by an S gate."
   ]
  },
  {
   "cell_type": "code",
   "execution_count": 9,
   "id": "5dbc34f3-038f-4a19-a16a-33b6a0dfe02f",
   "metadata": {
    "execution": {
     "iopub.execute_input": "2024-07-31T11:39:40.919209Z",
     "iopub.status.busy": "2024-07-31T11:39:40.918004Z",
     "iopub.status.idle": "2024-07-31T11:39:40.944106Z",
     "shell.execute_reply": "2024-07-31T11:39:40.943454Z"
    }
   },
   "outputs": [],
   "source": [
    "from classiq.execution import ExecutionPreferences\n",
    "\n",
    "CIRCLE_SIZE = 2**7\n",
    "NUM_SHOTS = 1e4\n",
    "\n",
    "\n",
    "@qfunc\n",
    "def main(t: CInt, x: Output[QNum]):\n",
    "\n",
    "    coin = QBit(\"coin\")\n",
    "    allocate_num(floor(log(CIRCLE_SIZE, 2)), True, 0, x)\n",
    "    allocate(1, coin)\n",
    "    H(coin)\n",
    "    S(coin)\n",
    "    discrete_quantum_walk(\n",
    "        t,\n",
    "        lambda coin: H(coin),\n",
    "        [\n",
    "            lambda: quantum_step_clockwise(x),\n",
    "            lambda: invert(lambda: quantum_step_clockwise(x)),\n",
    "        ],\n",
    "        coin,\n",
    "    )\n",
    "\n",
    "\n",
    "@cfunc\n",
    "def cmain():\n",
    "    save({\"run1\": sample({\"t\": 50})})\n",
    "\n",
    "\n",
    "qmod = create_model(\n",
    "    main,\n",
    "    classical_execution_function=cmain,\n",
    "    execution_preferences=ExecutionPreferences(num_shots=NUM_SHOTS),\n",
    ")"
   ]
  },
  {
   "cell_type": "markdown",
   "id": "7334aee1-b637-419d-88e3-130b66c1140c",
   "metadata": {},
   "source": [
    "Now that our model is defined we can synthesize, execute and plot the outcome probability:"
   ]
  },
  {
   "cell_type": "code",
   "execution_count": 10,
   "id": "4023a118-1e66-4f26-9d75-f97f4d145d4c",
   "metadata": {
    "execution": {
     "iopub.execute_input": "2024-07-31T11:39:40.948669Z",
     "iopub.status.busy": "2024-07-31T11:39:40.947543Z",
     "iopub.status.idle": "2024-07-31T11:39:51.115994Z",
     "shell.execute_reply": "2024-07-31T11:39:51.115251Z"
    }
   },
   "outputs": [
    {
     "name": "stdout",
     "output_type": "stream",
     "text": [
      "Opening: https://platform.classiq.io/circuit/1461ed5c-5e6b-48ba-abdc-eee34e4bff83?version=0.45.0.dev0%2Bcf1b9b7ccc\n"
     ]
    },
    {
     "data": {
      "text/plain": [
       "Text(0, 0.5, 'probability')"
      ]
     },
     "execution_count": 10,
     "metadata": {},
     "output_type": "execute_result"
    },
    {
     "data": {
      "image/png": "[encoded data removed]",
      "text/plain": [
       "<Figure size 640x480 with 1 Axes>"
      ]
     },
     "metadata": {},
     "output_type": "display_data"
    }
   ],
   "source": [
    "qprog = synthesize(qmod)\n",
    "write_qmod(qmod, \"quantum_walk_circle_balanced_coin\")\n",
    "show(qprog)\n",
    "results = execute(qprog).result()\n",
    "quantum_probs = {\n",
    "    sample.state[\"x\"]: sample.shots / NUM_SAMPLES\n",
    "    for sample in results[0].value.parsed_counts\n",
    "}\n",
    "sorted_quantum_probs = dict(sorted(quantum_probs.items()))\n",
    "\n",
    "plt.plot(sorted_quantum_probs.keys(), sorted_quantum_probs.values(), \".-\")\n",
    "plt.xlabel(\"position\", fontsize=16)\n",
    "plt.ylabel(\"probability\", fontsize=16)"
   ]
  },
  {
   "cell_type": "markdown",
   "id": "233124ab-fe1e-413c-ac05-ac72cc723e19",
   "metadata": {},
   "source": [
    "We can see that now the distribution is symmetric. Clearly, the distribution of a quantum walk on a circle depends on the initial condition for the coin. This is another example of the peculiar behavior of quantum walks, with respect to classical random walks."
   ]
  },
  {
   "cell_type": "markdown",
   "id": "de3cd5da-0807-4aac-a675-c995aefe2018",
   "metadata": {},
   "source": [
    "## Example: 4D Hypercube with a Grover Coin"
   ]
  },
  {
   "cell_type": "markdown",
   "id": "ab34bdd9-c5aa-4744-aa41-4831bf88117d",
   "metadata": {},
   "source": [
    "Next, we consider an hypercube graph (see Figure 3). The quantum walk on a hypercube shows a completely different behavior compared to classical counterpart. One striking difference refers to the hitting time: the time it takes to reach node $v$ starting from an initial node $u$. In particular, an interesting question is the hitting time between one corner of the hypercube \"000..0\" to the opposite one \"111...1\". In Ref. [[2](#hypercube)]) it was shown that the hitting time for the hypercube in quantum walks is *exponentially faster* than the analog quantity in classical random walks. The rigour definition of the \"hitting time\" in the quantum case is nontrivial, and different definitions are relevant. In this notebook we do not use the exact definition, but simply demonstrate a specific result, highlighting the result of Ref. [[2](#hypercube)]. \n",
    "\n",
    "We define $P_{\\rm corner}(T)$ as the probability of measuring the walker at the opposite corner $|2^{N}-1\\rangle$ after $T$ steps, starting at position $|0\\rangle$ at time 0. We examine this quantity for the quantum and the classical case."
   ]
  },
  {
   "cell_type": "markdown",
   "id": "522a8b81-a0f2-4a23-a012-6ad336b8ad07",
   "metadata": {},
   "source": [
    "<center>\n",
    "<img src=\"https://docs.classiq.io/resources/hypercube_random_walk.png\" style=\"width:50%\">\n",
    "<figcaption align = \"middle\"> Figure 3. A graph for a random walk on a 3D hypercube. </figcaption>\n",
    "</center>"
   ]
  },
  {
   "cell_type": "markdown",
   "id": "7dc4fde2-43ee-4249-84ee-909c3b694ce0",
   "metadata": {},
   "source": [
    "First, we define a model for quantum walk on a hypercube. Two nodes in the hypercube are connected to each other iff their Hamming distance is 1. Thus, a step along a hypercube is given by moving \"1 Hamming distance away\". For a $d$-dimentional hypercube, at each node there are $d$ possible directions to move, each of them is given by applying a bit flip on one of the bits. In the quantum case, this is obtained by applying an X gate on on of the $N$ qubit.\n",
    "\n",
    "Concerning the coin operator we take the so-called \"Grover diffuser\" function. This choice refers to a symmetric quantum walk [[1](#review)]. The Grover diffuser operator is a reflection around a given state $|\\psi\\rangle$:\n",
    "$$\n",
    "G = I-2 |\\psi\\rangle\\langle\\psi|,\n",
    "$$\n",
    "where I is the identity matrix. In the $N$-dimensional hypercube each node is connected to $N$ nodes, thus, the coin state should include $N$ different states. Therefore, the coin is represented by a quantum variable of size $\\lceil \\log_2(N)\\rceil$, and the Grover diffuser is defined with:\n",
    "$$\n",
    "|\\psi\\rangle = \\frac{1}{\\sqrt{N}}\\sum^{N-1}_{i=0} |i\\rangle.\n",
    "$$\n",
    "\n",
    "We now build our model, using the `grover_diffuser` function from Classiq's open library."
   ]
  },
  {
   "cell_type": "code",
   "execution_count": 11,
   "id": "b9f513c8-d44e-48cd-ad52-29ec7d7c16e9",
   "metadata": {
    "execution": {
     "iopub.execute_input": "2024-07-31T11:39:51.121205Z",
     "iopub.status.busy": "2024-07-31T11:39:51.120025Z",
     "iopub.status.idle": "2024-07-31T11:39:51.125633Z",
     "shell.execute_reply": "2024-07-31T11:39:51.125013Z"
    }
   },
   "outputs": [],
   "source": [
    "@qfunc\n",
    "def moving_one_hamming_dist(pos: CInt, x: QArray[QBit]):\n",
    "    X(x[pos])"
   ]
  },
  {
   "cell_type": "code",
   "execution_count": 12,
   "id": "5e4e0688-76d4-41fe-ba75-948f548094b4",
   "metadata": {
    "execution": {
     "iopub.execute_input": "2024-07-31T11:39:51.130105Z",
     "iopub.status.busy": "2024-07-31T11:39:51.128943Z",
     "iopub.status.idle": "2024-07-31T11:39:51.169266Z",
     "shell.execute_reply": "2024-07-31T11:39:51.168737Z"
    }
   },
   "outputs": [],
   "source": [
    "from classiq.execution import ExecutionPreferences\n",
    "from classiq.qmod.symbolic import ceiling\n",
    "\n",
    "SPACE_SIZE = 4\n",
    "NUM_SHOTS = 1e4\n",
    "\n",
    "# in the case the space size is not 2^r we padd the coin state with zeros\n",
    "reduced_coin_state = [1 / SPACE_SIZE] * SPACE_SIZE + [0] * int(\n",
    "    2 ** np.ceil(np.log2(SPACE_SIZE)) - SPACE_SIZE\n",
    ")\n",
    "\n",
    "\n",
    "@qfunc\n",
    "def main(\n",
    "    t: CInt,\n",
    "    x: Output[QArray[QBit]],\n",
    "):\n",
    "\n",
    "    # start at zero state location\n",
    "    allocate(SPACE_SIZE, x)\n",
    "\n",
    "    # start with equal superpositon for the relevant states.\n",
    "    coin = QArray(\"coin\")\n",
    "    prepare_state(reduced_coin_state, 0.0, coin)\n",
    "    discrete_quantum_walk(\n",
    "        t,\n",
    "        lambda coin: grover_diffuser(\n",
    "            lambda coin: inplace_prepare_state(reduced_coin_state, 0.0, coin), coin\n",
    "        ),\n",
    "        [\n",
    "            lambda: moving_one_hamming_dist(0, x),\n",
    "            lambda: moving_one_hamming_dist(1, x),\n",
    "            lambda: moving_one_hamming_dist(2, x),\n",
    "            lambda: moving_one_hamming_dist(3, x),\n",
    "        ],\n",
    "        coin,\n",
    "    )\n",
    "\n",
    "\n",
    "@cfunc\n",
    "def cmain():\n",
    "    save({\"run\": sample({\"t\": 4})})\n",
    "\n",
    "\n",
    "qmod = create_model(\n",
    "    main,\n",
    "    classical_execution_function=cmain,\n",
    "    execution_preferences=ExecutionPreferences(num_shots=NUM_SHOTS),\n",
    "    constraints=Constraints(optimization_parameter=\"width\"),\n",
    ")\n",
    "\n",
    "write_qmod(qmod, \"quantum_walk_hypercube\")"
   ]
  },
  {
   "cell_type": "code",
   "execution_count": 13,
   "id": "8683e9d7-199f-427a-a122-cdc93db05d46",
   "metadata": {
    "execution": {
     "iopub.execute_input": "2024-07-31T11:39:51.173809Z",
     "iopub.status.busy": "2024-07-31T11:39:51.172657Z",
     "iopub.status.idle": "2024-07-31T11:39:53.516526Z",
     "shell.execute_reply": "2024-07-31T11:39:53.515842Z"
    }
   },
   "outputs": [
    {
     "name": "stdout",
     "output_type": "stream",
     "text": [
      "Opening: https://platform.classiq.io/circuit/9ea1c963-e6de-4099-994a-48acb543b0f3?version=0.45.0.dev0%2Bcf1b9b7ccc\n"
     ]
    }
   ],
   "source": [
    "qprog = synthesize(qmod)\n",
    "show(qprog)"
   ]
  },
  {
   "cell_type": "markdown",
   "id": "16b8ae22-8bae-43a5-a24d-e202a2bd7335",
   "metadata": {},
   "source": [
    "<center>\n",
    "<img src=\"https://docs.classiq.io/resources/quantum_walk_hypercube_circuit.png\" style=\"width:100%\">\n",
    "<figcaption align = \"middle\"> Figure 4. The circuit for a quantum walk on a 4D cube with a Grover coin. The last two blocks are repeated `t` times. </figcaption>\n",
    "</center>"
   ]
  },
  {
   "cell_type": "code",
   "execution_count": 14,
   "id": "eccd5bb7-4ddb-49fb-80ef-963ccd0f6f07",
   "metadata": {
    "execution": {
     "iopub.execute_input": "2024-07-31T11:39:53.521311Z",
     "iopub.status.busy": "2024-07-31T11:39:53.520126Z",
     "iopub.status.idle": "2024-07-31T11:39:55.955669Z",
     "shell.execute_reply": "2024-07-31T11:39:55.954903Z"
    }
   },
   "outputs": [],
   "source": [
    "results = execute(qprog).result()"
   ]
  },
  {
   "cell_type": "code",
   "execution_count": 15,
   "id": "8b571d9a-23c6-4d92-b95f-3b958f2d6c5f",
   "metadata": {
    "execution": {
     "iopub.execute_input": "2024-07-31T11:39:55.959445Z",
     "iopub.status.busy": "2024-07-31T11:39:55.959219Z",
     "iopub.status.idle": "2024-07-31T11:39:55.964882Z",
     "shell.execute_reply": "2024-07-31T11:39:55.964333Z"
    }
   },
   "outputs": [
    {
     "name": "stdout",
     "output_type": "stream",
     "text": [
      "The probability to reach the opposite corner: 0.5654\n"
     ]
    }
   ],
   "source": [
    "print(\n",
    "    \"The probability to reach the opposite corner:\",\n",
    "    results[0].value.counts.get(\"1\" * SPACE_SIZE, 0) / NUM_SHOTS,\n",
    ")"
   ]
  },
  {
   "cell_type": "markdown",
   "id": "3cca3d17-4ec3-4cba-b770-13b38e58faa4",
   "metadata": {},
   "source": [
    "We found that at $T=4$ the probability to measure the walker at the opposite corner is larger than $1/2$. We can check an analogous question in the classical random walk, where the distribution is taken over an ensemble of independent experiments):"
   ]
  },
  {
   "cell_type": "code",
   "execution_count": 16,
   "id": "fc12d7df-8613-480f-93e5-6304496c74aa",
   "metadata": {
    "execution": {
     "iopub.execute_input": "2024-07-31T11:39:55.968730Z",
     "iopub.status.busy": "2024-07-31T11:39:55.967732Z",
     "iopub.status.idle": "2024-07-31T11:39:56.033429Z",
     "shell.execute_reply": "2024-07-31T11:39:56.032781Z"
    }
   },
   "outputs": [
    {
     "name": "stdout",
     "output_type": "stream",
     "text": [
      "The probability to reach the opposite corner in the classical case: 0.0644\n"
     ]
    }
   ],
   "source": [
    "initial_point = 0\n",
    "final_point = dict()\n",
    "\n",
    "for sample in range(NUM_SAMPLES):\n",
    "    coin_state = np.random.randint(SPACE_SIZE)\n",
    "    for k in range(SPACE_SIZE):\n",
    "        if coin_state == k:\n",
    "            temp_point = initial_point ^ 2**k\n",
    "            initial_point = temp_point\n",
    "    final_point[initial_point] = final_point.get(initial_point, 0) + 1\n",
    "\n",
    "print(\n",
    "    \"The probability to reach the opposite corner in the classical case:\",\n",
    "    final_point.get(2**SPACE_SIZE - 1, 0) / NUM_SAMPLES,\n",
    ")"
   ]
  },
  {
   "cell_type": "markdown",
   "id": "b654ef61",
   "metadata": {},
   "source": [
    "For the classical analogous case, the probability is much lower. This is a manifestation of the fact that the hitting time in a hypercube is exponentially shorter in quantum walks, in comparison to classical random walks."
   ]
  },
  {
   "cell_type": "markdown",
   "id": "916c1dd1-3f08-417e-a7f7-adbaa33b60d4",
   "metadata": {},
   "source": [
    "## Technical Notes\n",
    "\n",
    "### QFT modular adder\n",
    "\n",
    "Below we explain the `quantum_step_clockwise` function defined for the quantum walk on a circle. The unitary matrix that represents walking on a circle operates as follows:\n",
    "$$\n",
    "U_{+}|i\\rangle =\n",
    "\\left\\{\n",
    "\\begin{array}{l l}\n",
    " |i+1\\rangle & {\\text{if  } } i\\neq 2^{N-1}\\\\\n",
    " |0\\rangle & {\\text{if  } } i = 2^{N-1}\n",
    "\\end{array}\n",
    "\\right.\n",
    "$$\n",
    "In a matrix form this is simply the matrix\n",
    "$$\n",
    "U_+ = \n",
    "\\begin{pmatrix}\n",
    "\t 0 & 1 & 0 & \\cdots & 0 & 0 \\\\\n",
    "\t 0 & 0 & 1 & 0 & \\cdots & 0 \\\\\n",
    "\t 0 & \\ddots &\\ddots & \\ddots & \\cdots & 0 \\\\\n",
    "\t \\vdots & \\ddots & \\ddots & \\ddots& \\ddots & \\vdots \\\\\n",
    "\t 0 & \\ddots & \\ddots & 0& 0 & 1\\\\\n",
    "\t 1 & 0 & 0 & \\cdots & 0 & 0\n",
    "\\end{pmatrix}.\n",
    "$$\n",
    "In Fourier space this matrix is diagonal, namely, the Fourier matrix $\\mathcal{FT} $ diagonalizes it. Moreover, the diagonal entries forms a goemetric series:\n",
    "$$\n",
    "U_+  = \\mathcal{FT} \\cdot \\begin{pmatrix}\n",
    "\t\\alpha^0 &  0 & \\cdots& \\cdots  & 0 \\\\\n",
    "\t 0 & \\alpha^1 & 0 &  \\cdots & 0 \\\\\n",
    "\t 0 & 0 &\\ddots & \\cdots & 0 \\\\\n",
    "\t 0 & 0 &\\cdots & \\alpha^{2^N-2} & 0 \\\\\n",
    "\t 0 & \\cdots & 0 & \\cdots & \\alpha^{2^N-1}\n",
    "\\end{pmatrix} \\cdot \\mathcal{FT}^{\\dagger},\n",
    "$$\n",
    "with $\\alpha=e^{2\\pi i /2^N }$. We can implement both the $\\mathcal{FT}$ matrix and the diagonal matrix efficiently on a quantum computer, the former by a QFT and the latter by applying a series of $N$ RZ rotations."
   ]
  },
  {
   "cell_type": "markdown",
   "id": "88b24611-5d16-4fa0-a014-d192459198d3",
   "metadata": {},
   "source": [
    "<a id='review'>[1]</a>: [Kempe, J. \"Quantum random walks: an introductory overview.\" Contemporary Physics 44, 307 (2003)](https://arxiv.org/abs/quant-ph/0303081).\n",
    "\n",
    "<a id='hypercube'>[2]</a>: [Kempe, J. \"Discrete quantum walks hit exponentially faster.\" Probability theory and related fields 133, 215 (2005)](https://arxiv.org/abs/quant-ph/0205083)."
   ]
  }
 ],
 "metadata": {
  "kernelspec": {
   "display_name": "Python 3 (ipykernel)",
   "language": "python",
   "name": "python3"
  },
  "language_info": {
   "codemirror_mode": {
    "name": "ipython",
    "version": 3
   },
   "file_extension": ".py",
   "mimetype": "text/x-python",
   "name": "python",
   "nbconvert_exporter": "python",
   "pygments_lexer": "ipython3",
   "version": "3.11.9"
  }
 },
 "nbformat": 4,
 "nbformat_minor": 5
}
