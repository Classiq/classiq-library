{
 "cells": [
  {
   "cell_type": "markdown",
   "metadata": {},
   "source": [
    "# The Classiq Workflow\n",
    "\n",
    "This notebook introduces the typical workflow with Classiq:\n",
    "- **Designing a quantum algorithm** using the Qmod language and it's accompanied function library.\n",
    "- **Synthesizing the algorithm** into a concrete circuit implementation.\n",
    "- **Executing the algorithm** on a chosen simulator or quantum harware.\n",
    "- **Post-processing** the results.\n",
    "\n",
    "To get started, run:"
   ]
  },
  {
   "cell_type": "code",
   "execution_count": 2,
   "metadata": {},
   "outputs": [],
   "source": [
    "from classiq import *"
   ]
  },
  {
   "cell_type": "markdown",
   "metadata": {},
   "source": [
    "If this `import` doesn't work for you, please try `pip install classiq` in your terminal, or refer to [Registration and Installation](https://docs.classiq.io/latest/classiq_101/registration_installations/)."
   ]
  },
  {
   "cell_type": "markdown",
   "metadata": {},
   "source": [
    "## Designing a quantum algorithm\n",
    "\n"
   ]
  },
  {
   "cell_type": "code",
   "execution_count": null,
   "metadata": {},
   "outputs": [],
   "source": [
    "@qfunc\n",
    "def main()"
   ]
  }
 ],
 "metadata": {
  "kernelspec": {
   "display_name": "external-user-venv-PaJZMdG0-py3.11",
   "language": "python",
   "name": "python3"
  },
  "language_info": {
   "codemirror_mode": {
    "name": "ipython",
    "version": 3
   },
   "file_extension": ".py",
   "mimetype": "text/x-python",
   "name": "python",
   "nbconvert_exporter": "python",
   "pygments_lexer": "ipython3",
   "version": "3.11.6"
  }
 },
 "nbformat": 4,
 "nbformat_minor": 2
}
