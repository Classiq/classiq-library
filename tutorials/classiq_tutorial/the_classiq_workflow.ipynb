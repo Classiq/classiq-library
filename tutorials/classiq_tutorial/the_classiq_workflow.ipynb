{
 "cells": [
  {
   "cell_type": "markdown",
   "metadata": {},
   "source": [
    "# The Classiq Workflow\n",
    "\n",
    "This notebook introduces the typical workflow with Classiq:\n",
    "- **Designing a quantum algorithm** using the Qmod language and it's accompanied function library.\n",
    "- **Synthesizing the algorithm** into a concrete circuit implementation.\n",
    "- **Executing the algorithm** on a chosen simulator or quantum harware.\n",
    "- **Post-processing** the results."
   ]
  },
  {
   "cell_type": "code",
   "execution_count": 1,
   "metadata": {},
   "outputs": [],
   "source": [
    "from classiq import *"
   ]
  }
 ],
 "metadata": {
  "kernelspec": {
   "display_name": "external-user-venv-PaJZMdG0-py3.11",
   "language": "python",
   "name": "python3"
  },
  "language_info": {
   "codemirror_mode": {
    "name": "ipython",
    "version": 3
   },
   "file_extension": ".py",
   "mimetype": "text/x-python",
   "name": "python",
   "nbconvert_exporter": "python",
   "pygments_lexer": "ipython3",
   "version": "3.11.6"
  }
 },
 "nbformat": 4,
 "nbformat_minor": 2
}
