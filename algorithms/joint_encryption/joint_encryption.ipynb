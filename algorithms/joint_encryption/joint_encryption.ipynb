{
 "cells": [
  {
   "cell_type": "code",
   "execution_count": null,
   "metadata": {
    "vscode": {
     "languageId": "plaintext"
    }
   },
   "outputs": [],
   "source": [
    "from classiq import *\n",
    "from math import radians\n",
    "\n",
    "@qfunc\n",
    "def main() -> None:\n",
    "    \"\"\"\n",
    "    Joint Encryption + Error Correction demo using gate encoding\n",
    "    following a simplified CSS + 3-stage quantum encryption protocol.\n",
    "    \"\"\"\n",
    "    q = QArray[QBit]()\n",
    "    allocate(8, q)  # Allocate 8 qubits\n",
    "\n",
    "    # Step 1: Classical Bitstring (e.g., message to encode)\n",
    "    classical_bits = [1, 0, 1, 0, 1]  # \"10101\" from the paper\n",
    "    classical_bits += [0] * (8 - len(classical_bits))  # Pad to 8 bits\n",
    "\n",
    "    # Step 2: CSS Encoding (simplified with Hadamard + X for redundancy)\n",
    "    for i, bit in enumerate(classical_bits):\n",
    "        if bit == 1:\n",
    "            X(target=q[i])  # Encode 1 as |1⟩\n",
    "        H(target=q[i])  # Add superposition\n",
    "\n",
    "    # Step 3: Alice's Encryption (UA(θ) - secret rotations)\n",
    "    for i in range(8):\n",
    "        RZ(theta=radians(i * 15), target=q[i])  # Secret Rz rotation\n",
    "\n",
    "    # Step 4: Bob's Transformation (UB(ϕ) - another layer)\n",
    "    for i in range(8):\n",
    "        RY(theta=radians(i * 10), target=q[i])  # Secret Ry rotation\n",
    "\n",
    "    # Step 5: Alice's Decryption (inverse of her rotation)\n",
    "    for i in range(8):\n",
    "        RZ(theta=radians(-i * 15), target=q[i])  # Undo Rz\n",
    "\n",
    "    # Step 6: Bob's Decryption (inverse of his rotation)\n",
    "    for i in range(8):\n",
    "        RY(theta=radians(-i * 10), target=q[i])  # Undo Ry\n",
    "\n",
    "    # Step 7: Simulated Error Correction\n",
    "    for i in range(8):\n",
    "        if i % 2 == 0:\n",
    "            Z(target=q[i])  # Simulated phase-flip correction\n",
    "        else:\n",
    "            X(target=q[i])  # Simulated bit-flip correction\n",
    "\n",
    "# Build and run the model\n",
    "qmod = create_model(main)\n",
    "qprog = synthesize(qmod)\n",
    "show(qprog)\n",
    "\n",
    "job = execute(qprog)\n",
    "print(\"Secure Quantum Communication Output:\")\n",
    "print(job.get_sample_result().parsed_counts)\n"
   ]
  }
 ],
 "metadata": {
  "language_info": {
   "name": "python"
  }
 },
 "nbformat": 4,
 "nbformat_minor": 2
}
