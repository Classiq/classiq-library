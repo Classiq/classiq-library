{
 "cells": [
  {
   "cell_type": "markdown",
   "id": "75e2c1fe-8a06-4f0b-8fd6-d1b6d10ce82f",
   "metadata": {},
   "source": [
    "# Quantum Phase Estimation for Solving Matrix Eigenvalues\n",
    "\n",
    "Quantum Phase Estimation (QPE) is a key algorithm in quantum computing, allowing you to estimate the eigenphase of a unitary matirx (or the eigenvalue of a Hermitian matrix). The algorithm is designed such that given the inputs of a Hermitian matrix $M$ and an eigenvector ${|\\psi\\rangle}$, the output obtained is $\\theta$, where\n",
    "\n",
    "$ U{|\\psi\\rangle} = e^{2\\pi i\\theta}{|\\psi\\rangle} , U = e^{2\\pi iM} $.\n",
    "\n",
    "By measuring the accumulated phase, the QPE algorithm calculates the eigenvalues relating to the chosen input vector. To read more about the QPE algorithm and its method for achieving the phase, refer to [[1](#NC)].\n",
    "\n",
    "Generally speaking, when the eigenvectors of the matrix are not known in advance yet the eigenvalues are sought, you can choose a random vector ${|v\\rangle}$ for the algorithm’s initial state. Some eigenvalues will be found as the vector can be described in the matrix's basis, defined by the set of eigenvalues of $M$: {$\\psi_i$}. Generally, any vector can be written as a superposition of any basis set, thus\n",
    "\n",
    "${|v\\rangle} = \\sum_i a_i{|\\psi_i\\rangle}$\n",
    "\n",
    "and\n",
    "\n",
    "$U{|v\\rangle} = \\sum_i a_i e^{2\\pi i\\theta_i}{|\\psi_i\\rangle}$.\n",
    "\n",
    "Using execution with enough shots, you can obtain this set of $\\theta_i$; i.e., a subset of the matrix's eigenvalues.\n",
    "\n",
    "**This tutorial presents a generic usage of the QPE algorithm:**\n",
    "\n",
    "1. Define classical and quantum functions for constructing the algorithm.\n",
    "\n",
    "2. Take a specific example, a matrix and some initial state.\n",
    "\n",
    "3. Choose a resolution for the solution.\n",
    "\n",
    "4. Find the related eigenvalues using QPE and analyze the results."
   ]
  },
  {
   "cell_type": "code",
   "execution_count": 1,
   "id": "11eaf8f8-c06e-443e-ac74-5aa364f5198c",
   "metadata": {
    "tags": []
   },
   "outputs": [],
   "source": [
    "import math\n",
    "\n",
    "import numpy as np\n",
    "\n",
    "from classiq import *"
   ]
  },
  {
   "cell_type": "markdown",
   "id": "fde792dd-e988-4b26-aa99-8524de760c8d",
   "metadata": {},
   "source": [
    "## Classical functions"
   ]
  },
  {
   "cell_type": "markdown",
   "id": "20d177a2-9625-443e-b1d7-df717dce1252",
   "metadata": {},
   "source": [
    "### Matrix rescaling"
   ]
  },
  {
   "cell_type": "markdown",
   "id": "bee3d5aa-fa12-4167-ba83-fb850dcabf98",
   "metadata": {},
   "source": [
    "As QPE obtains a phase in the form $e^{2\\pi i\\theta}$, there is meaning only for $\\theta \\in [-1/2,1/2)$. However, the matrix $M$ can have any eigenvalue. To fix this discrepancy, the values of the matrix are rescaled. If\n",
    "$\\theta \\in [\\lambda_{min}, \\lambda_{max}]$ you can use a normalization function to map those values into $[-1/2, 1/2)$.\n",
    "\n",
    "Perform the normalization procedure by:\n",
    "\n",
    "a. Defining the function `get_normalization` that finds a rough estimation for the eigenvalue with the largest absolute value. This yields a value $\\bar{\\lambda} = {\\max}\\left\\{|\\lambda_\\max|,|\\lambda_\\min|\\right\\}$, such that you can assume $\\theta \\in [-\\bar{\\lambda}, \\bar{\\lambda}]$.\n",
    "\n",
    "b. Defining the function `normalize_hamiltonian` that normalizes by $2\\bar{\\lambda}$ the Hamiltonian, and thus its eigenvalues, such that the evaluated span is then $\\theta\\in [-1/2, 1/2]$.\n",
    "\n",
    "(Note that in this case $\\theta=\\pm1/2$ correspond to the same phase, however, this is an edge case where the normalized Hamiltonian has exactly those two eigenvalues. To avoid this, you can apply an extra factor of $(1-1/2^m)$, where $m$ is the size of the phase variable)."
   ]
  },
  {
   "cell_type": "code",
   "execution_count": 2,
   "id": "c4a4efd0-06e2-461f-8a37-14aeaa4cf1fb",
   "metadata": {},
   "outputs": [],
   "source": [
    "def get_normalization(hamiltonian):\n",
    "    \"\"\"\n",
    "    Bounds the eigenvalue with the maximal absolute value by summing all the absolute values of the Pauli coefficients\n",
    "    \"\"\"\n",
    "    abs_coeff = np.abs([term.coefficient for term in hamiltonian.terms])\n",
    "    return 2 * sum(abs_coeff)\n",
    "\n",
    "\n",
    "def normalize_hamiltonian(hamiltonian, normalization_coeff):\n",
    "    return hamiltonian * (1 / normalization_coeff)"
   ]
  },
  {
   "cell_type": "markdown",
   "id": "ff4323df-937c-4d54-a9cb-bce217c20fee",
   "metadata": {},
   "source": [
    "### QPE precision estimator"
   ]
  },
  {
   "cell_type": "markdown",
   "id": "c34c35b8-28d5-41b0-ac2f-62911685c684",
   "metadata": {},
   "source": [
    "For QPE algorithms, the precision is set by phase register size $m$, such that the resolution is $1/{2^m}$. If the matrix needs to be normalized, the resolution will be distorted. In the case of normalization, the span of results for the QPE stretches between the lowest and highest possible phase, thus the resolution is mapped to $\\sim 1/{((\\lambda_{max}-\\lambda_{min})*2^m)}$."
   ]
  },
  {
   "cell_type": "code",
   "execution_count": 3,
   "id": "09d5727b-25f3-423b-bfe4-03443d596877",
   "metadata": {},
   "outputs": [],
   "source": [
    "def get_qpe_precision(hamiltonian, desired_resolution):\n",
    "    nqpe = math.log2(get_normalization(hamiltonian) / desired_resolution)\n",
    "    return math.ceil(nqpe)"
   ]
  },
  {
   "cell_type": "markdown",
   "id": "62e25717-1f58-4a5b-bc5f-41b541744c26",
   "metadata": {},
   "source": [
    "## Quantum functions"
   ]
  },
  {
   "cell_type": "markdown",
   "id": "05e9a67e-7cd1-4100-8b18-feb88fba8ca8",
   "metadata": {},
   "source": [
    "Use the built-in `qpe_flexible` function, which allows you to prescribe the \"telescopic\" expansion of the powered unitary via the `unitary_with_power` \"QCallable\" (see [Flexible QPE tutorial](https://docs.classiq.io/latest/tutorials/tutorials/high-level-modeling-flexible-qpe/high-level-modeling-flexible-qpe/ )). Define two examples for the powered unitary:\n"
   ]
  },
  {
   "cell_type": "markdown",
   "id": "534bc35a-2a33-4683-b217-eb35d9eaa487",
   "metadata": {},
   "source": [
    "### Approximated evolution: A first order Suzuki Trotter with power-logic\n",
    "\n",
    "Wrap the Trotter-Suzuki function of order 1 with a \"power-logic\" for the repetition as a function of its power."
   ]
  },
  {
   "cell_type": "code",
   "execution_count": 4,
   "id": "920ac18c-591a-4ec2-b178-451f173dd5da",
   "metadata": {},
   "outputs": [],
   "source": [
    "from classiq.qmod.symbolic import ceiling, log\n",
    "\n",
    "\n",
    "@qfunc\n",
    "def suzuki_trotter1_with_power_logic(\n",
    "    hamiltonian: SparsePauliOp,\n",
    "    pw: CInt,\n",
    "    r0: CInt,\n",
    "    reps_scaling_factor: CReal,\n",
    "    evolution_coefficient: CReal,\n",
    "    target: QArray,\n",
    ") -> None:\n",
    "    suzuki_trotter(\n",
    "        hamiltonian,\n",
    "        evolution_coefficient=evolution_coefficient * pw,\n",
    "        order=1,\n",
    "        repetitions=ceiling(r0 * reps_scaling_factor ** (log(pw, 2))),\n",
    "        qbv=target,\n",
    "    )"
   ]
  },
  {
   "cell_type": "markdown",
   "id": "01ca4e30-a83b-4df4-bca7-58080fb11997",
   "metadata": {},
   "source": [
    "### Exact evolution: A unitary with power-logic\n",
    "\n",
    "As an alternative to the Trotter-Suzuki formula, you can work with an exact unitary decomposition. This is a non-scalable approach, but a convenient one for small usecases. In this case, the power-logic is naive:"
   ]
  },
  {
   "cell_type": "code",
   "execution_count": 5,
   "id": "1496c3fb-d68d-4466-bfe1-828903f44218",
   "metadata": {},
   "outputs": [],
   "source": [
    "@qfunc\n",
    "def unitary_with_power_logic(\n",
    "    pw: CInt, matrix: CArray[CArray[CReal]], target: QArray[QBit]\n",
    ") -> None:\n",
    "    power(pw, lambda: unitary(elements=matrix, target=target))"
   ]
  },
  {
   "cell_type": "markdown",
   "id": "ac537458-568d-4718-9020-408cc7232641",
   "metadata": {},
   "source": [
    "## Setting a specific example"
   ]
  },
  {
   "cell_type": "markdown",
   "id": "2a6f04f8-f4f7-46dc-a8e3-05559d8906f3",
   "metadata": {},
   "source": [
    "### Set the matrix\n",
    "\n",
    "Define the matrix to submit. This can be any Hermitian matrix with size $2^n$ by $2^n$ with $n$ a positive integer. Throughout the code this matrix is given in the variable `M`."
   ]
  },
  {
   "cell_type": "code",
   "execution_count": 6,
   "id": "3e9c8c83-58ed-4f99-89ac-9cea3f1b4a5e",
   "metadata": {
    "tags": []
   },
   "outputs": [],
   "source": [
    "M = np.array(\n",
    "    [\n",
    "        [0.38891555, 0.23315811, 0.21499372, 0.06119557],\n",
    "        [0.23315811, 0.44435328, 0.25197881, -0.13087919],\n",
    "        [0.21499372, 0.25197881, 0.44116509, -0.01961855],\n",
    "        [0.06119557, -0.13087919, -0.01961855, 0.32556608],\n",
    "    ]\n",
    ")\n",
    "\n",
    "M = (M + M.transpose()) / 2"
   ]
  },
  {
   "cell_type": "markdown",
   "id": "3a6edbc6-1100-4824-a15e-c985728f544b",
   "metadata": {},
   "source": [
    "### Set the initial vector \n",
    "\n",
    "Choose the vector that will be defined later as the initial condition for the run. There are two options: (1) define a random initial vector, or (2) choose some eigenvector of the matrix. For the demonstration, proceed with the first option:"
   ]
  },
  {
   "cell_type": "code",
   "execution_count": 7,
   "id": "736b0585-d019-4b22-84af-1e7f36a509d5",
   "metadata": {
    "tags": []
   },
   "outputs": [
    {
     "name": "stdout",
     "output_type": "stream",
     "text": [
      "Your initial state is [0.8734294  0.96854066 0.86919454 0.53085569]\n"
     ]
    }
   ],
   "source": [
    "np.random.seed(8)\n",
    "int_vec = np.random.rand(np.shape(M)[0])\n",
    "\n",
    "print(\"Your initial state is\", int_vec)"
   ]
  },
  {
   "cell_type": "markdown",
   "id": "ffb62b82-d3ec-4e63-a558-b57af0c2e0b4",
   "metadata": {},
   "source": [
    "### Preparing the matrix for QPE"
   ]
  },
  {
   "cell_type": "code",
   "execution_count": 8,
   "id": "9c95c12b-5783-456f-92ca-937df78b3259",
   "metadata": {
    "tags": []
   },
   "outputs": [],
   "source": [
    "hamiltonian = matrix_to_pauli_operator(M)"
   ]
  },
  {
   "cell_type": "code",
   "execution_count": 9,
   "id": "1cc56c7a-8f2e-4f89-bc0c-7d768b0388d4",
   "metadata": {
    "tags": []
   },
   "outputs": [
    {
     "name": "stdout",
     "output_type": "stream",
     "text": [
      "number of qubits:  2\n"
     ]
    }
   ],
   "source": [
    "N = hamiltonian.num_qubits\n",
    "print(\"number of qubits: \", N)"
   ]
  },
  {
   "cell_type": "markdown",
   "id": "c69c18c8-566e-46e9-8818-b3baf69ff9eb",
   "metadata": {},
   "source": [
    "#### Choose the algorithm's precision\n",
    "\n",
    "Choose the precision using the `n_qpe` parameter or set your desired resolution."
   ]
  },
  {
   "cell_type": "code",
   "execution_count": 10,
   "id": "21c12d6d-399b-4ffe-9150-82adff52dd61",
   "metadata": {
    "tags": []
   },
   "outputs": [
    {
     "name": "stdout",
     "output_type": "stream",
     "text": [
      "number of qubits for QPE is 7\n"
     ]
    }
   ],
   "source": [
    "desired_resolution = 0.02\n",
    "n_qpe = get_qpe_precision(hamiltonian, desired_resolution)\n",
    "\n",
    "print(\"number of qubits for QPE is\", n_qpe)"
   ]
  },
  {
   "cell_type": "markdown",
   "id": "36a54e27-5962-4698-8f32-97a7d6755794",
   "metadata": {},
   "source": [
    "#### Normalize the matrix\n",
    "\n",
    "Transform the matrix to ensure its eigenvalues are between $-1/2$ to $1/2$. The QPE procedure is performed on the new normalized matrix. After the phases are obtained, gather the original phases of the pre-normalized matrix by performing opposite steps to this normalization procedure."
   ]
  },
  {
   "cell_type": "code",
   "execution_count": 11,
   "id": "461bf26b-aa92-4606-842e-5b8608d9ca48",
   "metadata": {},
   "outputs": [],
   "source": [
    "normalization_coeff = get_normalization(hamiltonian)\n",
    "new_hamiltonian = normalize_hamiltonian(hamiltonian, normalization_coeff)\n",
    "Mnew = M / normalization_coeff"
   ]
  },
  {
   "cell_type": "markdown",
   "id": "f26c0aa2-2866-4f26-9d45-919e007c1b27",
   "metadata": {},
   "source": [
    "## Building the quantum model\n",
    "\n",
    "Create a quantum model of the QPE algorithm using the Classiq platform with your desired constraints and preferences.\n",
    "Run two different models, with a unitary implementation, which is exact; or with an approximated prodcut formula. Synthesize the models and compare the resulting quantum programs."
   ]
  },
  {
   "cell_type": "code",
   "execution_count": 12,
   "id": "67d1f58d-bb01-4041-bbf4-fdc52f30cf7f",
   "metadata": {},
   "outputs": [],
   "source": [
    "import scipy\n",
    "\n",
    "my_amp = (\n",
    "    int_vec / np.linalg.norm(int_vec)\n",
    ").tolist()  # amplitude is given by the eignevector\n",
    "\n",
    "\n",
    "@qfunc\n",
    "def main(phase_result: Output[QNum[n_qpe, SIGNED, n_qpe]]) -> None:\n",
    "    state = QArray()\n",
    "    prepare_amplitudes(my_amp, 0.0, state)\n",
    "    allocate(phase_result)\n",
    "    qpe_flexible(\n",
    "        unitary_with_power=lambda pw: unitary_with_power_logic(\n",
    "            matrix=scipy.linalg.expm(1j * 2 * np.pi * Mnew).tolist(),\n",
    "            pw=pw,\n",
    "            target=state,\n",
    "        ),\n",
    "        phase=phase_result,\n",
    "    )\n",
    "\n",
    "\n",
    "write_qmod(main, \"qpe_for_matrix_exact\", decimal_precision=15)\n",
    "qprog_exact = synthesize(main)\n",
    "\n",
    "\n",
    "@qfunc\n",
    "def main(phase_result: Output[QNum[n_qpe, SIGNED, n_qpe]]) -> None:\n",
    "    state = QArray()\n",
    "    prepare_amplitudes(my_amp, 0.0, state)\n",
    "    allocate(phase_result)\n",
    "    qpe_flexible(\n",
    "        unitary_with_power=lambda pw: suzuki_trotter1_with_power_logic(\n",
    "            hamiltonian=new_hamiltonian,\n",
    "            pw=pw,\n",
    "            r0=0.75,\n",
    "            reps_scaling_factor=2,\n",
    "            evolution_coefficient=-2 * np.pi,\n",
    "            target=state,\n",
    "        ),\n",
    "        phase=phase_result,\n",
    "    )\n",
    "\n",
    "\n",
    "write_qmod(main, \"qpe_for_matrix_approx\", decimal_precision=15)\n",
    "qprog_approx = synthesize(main)"
   ]
  },
  {
   "cell_type": "code",
   "execution_count": 13,
   "id": "48cea1b7-2a1b-41ba-beb2-768f1e5e8bf5",
   "metadata": {},
   "outputs": [
    {
     "name": "stdout",
     "output_type": "stream",
     "text": [
      "Depth for QPE with exact Hamiltonian evolution: 6144\n",
      "Depth for QPE with approximated Hamiltonian evolution: 18767\n"
     ]
    }
   ],
   "source": [
    "print(\n",
    "    f\"Depth for QPE with exact Hamiltonian evolution: {qprog_exact.transpiled_circuit.depth}\"\n",
    ")\n",
    "print(\n",
    "    f\"Depth for QPE with approximated Hamiltonian evolution: {qprog_approx.transpiled_circuit.depth}\"\n",
    ")"
   ]
  },
  {
   "cell_type": "markdown",
   "id": "d799edfb-7054-4828-a57f-a9c8cf12115b",
   "metadata": {},
   "source": [
    "As expected, for this small usecase the exact evolution yeilds better results."
   ]
  },
  {
   "cell_type": "markdown",
   "id": "5f646cdf-c78f-4d28-822e-7eda986ad7cc",
   "metadata": {},
   "source": [
    "Display it with the analyzer:"
   ]
  },
  {
   "cell_type": "code",
   "execution_count": 14,
   "id": "0ccdea1b-c255-42ab-83f2-9e36b561f94e",
   "metadata": {},
   "outputs": [
    {
     "name": "stdout",
     "output_type": "stream",
     "text": [
      "Quantum program link: https://platform.classiq.io/circuit/30aXu4MXvqCds8dRW1qWLKwcSj2\n"
     ]
    }
   ],
   "source": [
    "show(qprog_exact)"
   ]
  },
  {
   "cell_type": "markdown",
   "id": "99e84bb8-90b8-4c40-9c04-51e18d7b86c9",
   "metadata": {},
   "source": [
    "## Measuring and analyzing the results\n",
    "\n",
    "Execute the quantum programs and analyze the results, in comparison to the expected classical ones."
   ]
  },
  {
   "cell_type": "markdown",
   "id": "8a9ad253-ac88-4c5e-a251-c40b2bd44bdb",
   "metadata": {},
   "source": [
    "### Execute the quantum program \n",
    "\n",
    "Send the quantum programs for execution by a chosen backend and print the raw results."
   ]
  },
  {
   "cell_type": "code",
   "execution_count": 15,
   "id": "7a6b833b-ec74-4432-9bf5-0ce351149761",
   "metadata": {
    "tags": []
   },
   "outputs": [],
   "source": [
    "num_shots = 10000\n",
    "execution_prefs = ExecutionPreferences(num_shots=num_shots)\n",
    "with ExecutionSession(qprog_exact, execution_prefs) as es:\n",
    "    result_exact = es.sample()\n",
    "with ExecutionSession(qprog_approx, execution_prefs) as es:\n",
    "    result_approx = es.sample()\n",
    "\n",
    "df_exact = result_exact.dataframe\n",
    "df_approx = result_approx.dataframe"
   ]
  },
  {
   "cell_type": "markdown",
   "id": "eddd2a37-9fe4-4646-8ab3-0c29f24ef5d1",
   "metadata": {},
   "source": [
    "Continue some of the analysis with the exact result. Choose the number of eigenvalues to extract from the pool of results. The `number_of_solutions` value determines how many results are analyzed. Get the solution by multiplying back the normalization coefficient."
   ]
  },
  {
   "cell_type": "code",
   "execution_count": 16,
   "id": "6ac801fd-5933-4b84-8a8b-6c520ba77842",
   "metadata": {
    "tags": []
   },
   "outputs": [],
   "source": [
    "number_of_solutions = 2  # number of phases sought"
   ]
  },
  {
   "cell_type": "code",
   "execution_count": 17,
   "id": "819274a2-a5be-4ea2-865b-cafe073bb0fd",
   "metadata": {},
   "outputs": [],
   "source": [
    "solution = list(df_exact.phase_result[:number_of_solutions] * normalization_coeff)"
   ]
  },
  {
   "cell_type": "markdown",
   "id": "ec60ea88-ef3a-41cc-bda7-945abe330ae3",
   "metadata": {},
   "source": [
    "These are the results, including the error contributed from the resolution (the number of qubits participating in the QPE):"
   ]
  },
  {
   "cell_type": "code",
   "execution_count": 18,
   "id": "79f1c1ba-61fd-438e-a3d5-7606ea95e70f",
   "metadata": {
    "tags": []
   },
   "outputs": [
    {
     "name": "stdout",
     "output_type": "stream",
     "text": [
      "Your 2 solutions with the highest probability are:\n",
      " [0.8992759912499999, 0.40375656749999994]\n",
      "the resolution of results is 0.036705142499999996\n",
      "the solutions are between 0.8625708487499999 and 0.9359811337499999\n",
      "the solutions are between 0.36705142499999993 and 0.44046170999999995\n"
     ]
    }
   ],
   "source": [
    "print(\n",
    "    f\"Your {number_of_solutions} solutions with the highest probability are:\\n {solution}\"\n",
    ")\n",
    "\n",
    "energy_resolution = (1 / (2**n_qpe)) * 2 * normalization_coeff\n",
    "\n",
    "print(\"the resolution of results is\", energy_resolution)\n",
    "\n",
    "for sol in solution:\n",
    "    print(\n",
    "        \"the solutions are between\",\n",
    "        sol - energy_resolution,\n",
    "        \"and\",\n",
    "        sol + energy_resolution,\n",
    "    )"
   ]
  },
  {
   "cell_type": "markdown",
   "id": "51b1e9b4-d004-493e-8278-77c1b3cf0301",
   "metadata": {},
   "source": [
    "### Plot the solution's histogram and compare to classical results"
   ]
  },
  {
   "cell_type": "code",
   "execution_count": 19,
   "id": "4032aaa8-d124-4c76-bea1-646e3162b02a",
   "metadata": {
    "tags": []
   },
   "outputs": [
    {
     "name": "stdout",
     "output_type": "stream",
     "text": [
      "the eigenvalues are [0.9 0.4 0.1 0.2]\n"
     ]
    }
   ],
   "source": [
    "w, v = np.linalg.eig(M)\n",
    "print(\"the eigenvalues are\", w)"
   ]
  },
  {
   "cell_type": "code",
   "execution_count": 20,
   "id": "80173ed2-134a-4afd-92e1-6479ce5e2a03",
   "metadata": {},
   "outputs": [
    {
     "data": {
      "text/plain": [
       "<matplotlib.legend.Legend at 0x3064654d0>"
      ]
     },
     "execution_count": 20,
     "metadata": {},
     "output_type": "execute_result"
    },
    {
     "data": {
      "image/png": "[encoded data removed]",
      "text/plain": [
       "<Figure size 640x480 with 1 Axes>"
      ]
     },
     "metadata": {},
     "output_type": "display_data"
    }
   ],
   "source": [
    "import matplotlib.pyplot as plt\n",
    "\n",
    "for eig in w:\n",
    "    plt.plot([eig, eig], [0, df_exact.probability[0]], \"--r\")\n",
    "(exact,) = plt.plot(\n",
    "    df_exact.phase_result * normalization_coeff,\n",
    "    df_exact.probability,\n",
    "    \"o\",\n",
    "    label=\"exact exponentiation\",\n",
    ")\n",
    "(approx,) = plt.plot(\n",
    "    df_approx.phase_result * normalization_coeff,\n",
    "    df_approx.probability,\n",
    "    \"o\",\n",
    "    label=\"approximated exponentiation\",\n",
    ")\n",
    "plt.legend(handles=[exact, approx])"
   ]
  },
  {
   "cell_type": "markdown",
   "id": "7f2e9b12-07fd-4105-beee-620ba6a00c20",
   "metadata": {},
   "source": [
    "## References\n",
    "\n",
    "<a name='NC'>[1]</a>: [Michael A. Nielsen and Isaac L. Chuang. 2011. Quantum Computation and Quantum Information: 10th Anniversary Edition, Cambridge University Press, New York, NY, USA.\n",
    "](https://archive.org/details/QuantumComputationAndQuantumInformation10thAnniversaryEdition)\n"
   ]
  }
 ],
 "metadata": {
  "kernelspec": {
   "display_name": "Python 3 (ipykernel)",
   "language": "python",
   "name": "python3"
  },
  "language_info": {
   "codemirror_mode": {
    "name": "ipython",
    "version": 3
   },
   "file_extension": ".py",
   "mimetype": "text/x-python",
   "name": "python",
   "nbconvert_exporter": "python",
   "pygments_lexer": "ipython3",
   "version": "3.11.9"
  }
 },
 "nbformat": 4,
 "nbformat_minor": 5
}
