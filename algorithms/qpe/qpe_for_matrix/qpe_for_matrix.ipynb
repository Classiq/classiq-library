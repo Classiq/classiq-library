{
 "cells": [
  {
   "cell_type": "markdown",
   "id": "75e2c1fe-8a06-4f0b-8fd6-d1b6d10ce82f",
   "metadata": {},
   "source": [
    "# Quantum Phase Estimation for Solving Matrix Eigenvalues\n",
    "\n",
    "Quantum Phase Estimation (QPE) is a key algorithm in quantum computing, allowing you to estimate the phase (or eigenvalue) relating to a Hermitian matrix. The algorithm is designed such that given the inputs of a matrix $M$, and an eigenvalue ${|\\psi\\rangle}$, the output that will be obtained is $\\theta$ where\n",
    "\n",
    "$ U{|\\psi\\rangle} = e^{2\\pi i\\theta}{|\\psi\\rangle} , U = e^{2\\pi iM} $.\n",
    "\n",
    "By measuring the accumulated phase, the QPE algorithm calculates the eigenvalues relating to the chosen inputted vector. To read more about the QPE algorithm and its method to achieving the phase, refer to [[1](#NC)].\n",
    "\n",
    "Generally speaking, when the eigenvectors of the matrix are not known in advance yet the eigenvalues are sought, you can choose a random vector ${|v\\rangle}$ for the algorithm’s initial state. Some eigenvalues will be found as the vector can be described in the matrix's basis, defined by the set of eigenvalues of $M$: {$\\psi_i$}. Generally, any vector can be written as a superposition of any basis set, thus -\n",
    "\n",
    "${|v\\rangle} = \\sum_i a_i{|\\psi_i\\rangle}$\n",
    "\n",
    "and -\n",
    "\n",
    "$U{|v\\rangle} = \\sum_i a_i e^{2\\pi i\\theta_i}{|\\psi_i\\rangle}$.\n",
    "\n",
    "Using execution with enough shots, you can obtain this set of $\\theta_i$, i.e., a subset of the matrix's eigenvalues.\n",
    "\n",
    "**This tutorial presents a generic usage of the QPE algorithm:**\n",
    "\n",
    "a. Define a matrix.\n",
    "\n",
    "b. Initialize a state either with it's eigenstate or with a random vector.\n",
    "\n",
    "c. Choose a resolution for the solution.\n",
    "\n",
    "d. Find the related eigenvalues by using QPE and analyze the results."
   ]
  },
  {
   "cell_type": "markdown",
   "id": "7cd71faa-1ef3-4d67-8c9a-d66e0a895b9a",
   "metadata": {},
   "source": [
    "## 0. Prerequisites\n",
    "\n",
    "This tutorial uses some external libraries."
   ]
  },
  {
   "cell_type": "code",
   "execution_count": 1,
   "id": "11eaf8f8-c06e-443e-ac74-5aa364f5198c",
   "metadata": {
    "execution": {
     "iopub.execute_input": "2023-12-06T02:07:28.934486Z",
     "iopub.status.busy": "2023-12-06T02:07:28.934016Z",
     "iopub.status.idle": "2023-12-06T02:07:29.967372Z",
     "shell.execute_reply": "2023-12-06T02:07:29.966596Z"
    },
    "tags": []
   },
   "outputs": [],
   "source": [
    "import itertools  # noqa\n",
    "import math\n",
    "from itertools import product\n",
    "from typing import List, Literal, cast\n",
    "\n",
    "import matplotlib.pyplot as plt\n",
    "import numpy as np\n",
    "import scipy\n",
    "import sympy\n",
    "from numpy import kron, linalg as LA"
   ]
  },
  {
   "cell_type": "markdown",
   "id": "ac537458-568d-4718-9020-408cc7232641",
   "metadata": {},
   "source": [
    "## 1. Setting a Specific Example"
   ]
  },
  {
   "cell_type": "markdown",
   "id": "2a6f04f8-f4f7-46dc-a8e3-05559d8906f3",
   "metadata": {},
   "source": [
    "### 1.1. Set the Matrix\n",
    "\n",
    "Define the matrix to submit. This can be any Hermitian matrix with size $2^n$ by $2^n$ with $n$ a positive integer. Throughout the code this matrix is given in the variable `M`."
   ]
  },
  {
   "cell_type": "code",
   "execution_count": 2,
   "id": "3e9c8c83-58ed-4f99-89ac-9cea3f1b4a5e",
   "metadata": {
    "execution": {
     "iopub.execute_input": "2023-12-06T02:07:29.972800Z",
     "iopub.status.busy": "2023-12-06T02:07:29.971457Z",
     "iopub.status.idle": "2023-12-06T02:07:29.982372Z",
     "shell.execute_reply": "2023-12-06T02:07:29.981739Z"
    },
    "tags": []
   },
   "outputs": [],
   "source": [
    "M = np.array([[0, 3, 4, 0], [-0.8, 3, 0, 0], [1, 0, -0.5, 5], [0, 0, 0, -0.75]])\n",
    "\n",
    "M = np.array(\n",
    "    [\n",
    "        [0.38891555, 0.23315811, 0.21499372, 0.06119557],\n",
    "        [0.23315811, 0.44435328, 0.25197881, -0.13087919],\n",
    "        [0.21499372, 0.25197881, 0.44116509, -0.01961855],\n",
    "        [0.06119557, -0.13087919, -0.01961855, 0.32556608],\n",
    "    ]\n",
    ")\n",
    "\n",
    "M_t = M.transpose()\n",
    "\n",
    "M = (M + M_t) / 2"
   ]
  },
  {
   "cell_type": "markdown",
   "id": "3a6edbc6-1100-4824-a15e-c985728f544b",
   "metadata": {},
   "source": [
    "### 1.2. Set the Initial Vector \n",
    "\n",
    "Choose the vector that will be defined later as the initial condition for the run. There are two options:\n",
    "1. Define your own initial vector in the variable `int_vec`, while setting the parameter `eigen_vec` as `False`.\n",
    "2. Set `eigen_vec` to `True`, then you can choose the index `ev` of the eigenvalue that will be set as the initial state."
   ]
  },
  {
   "cell_type": "code",
   "execution_count": 3,
   "id": "736b0585-d019-4b22-84af-1e7f36a509d5",
   "metadata": {
    "execution": {
     "iopub.execute_input": "2023-12-06T02:07:29.987067Z",
     "iopub.status.busy": "2023-12-06T02:07:29.985871Z",
     "iopub.status.idle": "2023-12-06T02:07:29.999188Z",
     "shell.execute_reply": "2023-12-06T02:07:29.998556Z"
    },
    "tags": []
   },
   "outputs": [
    {
     "name": "stdout",
     "output_type": "stream",
     "text": [
      "Your initial state is [0.8068468  0.28584872 0.87856346 0.83335009]\n"
     ]
    }
   ],
   "source": [
    "eigen_vec = False\n",
    "ev = 1\n",
    "\n",
    "if eigen_vec:\n",
    "    w, v = LA.eig(M)\n",
    "    print(\"the eigenvalues are\", w)\n",
    "    print(\"the eigenvectors are\", v, sep=\"\\n\")\n",
    "    int_vec = v[:, ev]\n",
    "else:\n",
    "    int_vec = np.random.rand(np.shape(M)[0])\n",
    "\n",
    "print(\"Your initial state is\", int_vec)"
   ]
  },
  {
   "cell_type": "markdown",
   "id": "f7b4d3fb-f5cc-45d0-b02c-d74d74677de3",
   "metadata": {},
   "source": [
    "## 2. Constructing auxiliary functions"
   ]
  },
  {
   "cell_type": "markdown",
   "id": "7785e9ca-3532-485c-80f8-e405a4a419ab",
   "metadata": {},
   "source": [
    "### 2.1 Classical Functions"
   ]
  },
  {
   "cell_type": "markdown",
   "id": "c6876d85-70ca-4be7-bf2e-6a78235a77e5",
   "metadata": {},
   "source": [
    "#### 2.1.1 Pauli Decomposition\n",
    "\n",
    "To translate the matrix into quantum circuit language, write the matrix in the form of a list of strings, of composite Pauli operators."
   ]
  },
  {
   "cell_type": "code",
   "execution_count": 4,
   "id": "3296cfde-4155-4d76-9ba6-16aa24677a61",
   "metadata": {
    "execution": {
     "iopub.execute_input": "2023-12-06T02:07:30.003933Z",
     "iopub.status.busy": "2023-12-06T02:07:30.002789Z",
     "iopub.status.idle": "2023-12-06T02:07:30.019215Z",
     "shell.execute_reply": "2023-12-06T02:07:30.018604Z"
    },
    "tags": []
   },
   "outputs": [],
   "source": [
    "Paulidict = {\n",
    "    \"I\": np.array([[1, 0], [0, 1]], dtype=np.complex128),\n",
    "    \"Z\": np.array([[1, 0], [0, -1]], dtype=np.complex128),\n",
    "    \"X\": np.array([[0, 1], [1, 0]], dtype=np.complex128),\n",
    "    \"Y\": np.array([[0, -1j], [1j, 0]], dtype=np.complex128),\n",
    "}\n",
    "\n",
    "\n",
    "# generate all combinations of Pauli strings of size n\n",
    "def generate_all_pauli_strings(seq, n):\n",
    "    for s in product(seq, repeat=n):\n",
    "        yield \"\".join(s)\n",
    "\n",
    "\n",
    "# convert a Paulistring of size n to 2**n X 2**n matrix\n",
    "def pauli_string_2mat(seq):\n",
    "    myPmat = Paulidict[seq[0]]\n",
    "    for p in seq[1:]:\n",
    "        myPmat = kron(myPmat, Paulidict[p])\n",
    "    return myPmat\n",
    "\n",
    "\n",
    "# Hilbert-Schmidt-Product of two matrices M1, M2\n",
    "def hilbert_schmidt(M1, M2):\n",
    "    return (np.dot(M1.conjugate().transpose(), M2)).trace()\n",
    "\n",
    "\n",
    "# Naive decomposition, running over all HS products for all Pauli strings\n",
    "def lcu_naive(H):\n",
    "    assert H.shape[0] == H.shape[1], \"matrix is not square\"\n",
    "    assert H.shape[0] != 0, \"matrix is of size 0\"\n",
    "    assert H.shape[0] & (H.shape[0] - 1) == 0, \"matrix size is not 2**n\"\n",
    "\n",
    "    n = int(np.log2(H.shape[0]))\n",
    "    myPualiList = list(generate_all_pauli_strings(\"IZXY\", n))\n",
    "\n",
    "    mylist = []\n",
    "\n",
    "    for pstr in myPualiList:\n",
    "        co = (1 / 2**n) * hilbert_schmidt(pauli_string_2mat(pstr), H)\n",
    "        if co != 0:\n",
    "            mylist = mylist + [(pstr, co)]\n",
    "\n",
    "    return mylist"
   ]
  },
  {
   "cell_type": "markdown",
   "id": "9303ffc8-9579-49e7-a498-7899d2bf1624",
   "metadata": {},
   "source": [
    "#### 2.1.2 Parser to the `PauliTerm` Qstruct"
   ]
  },
  {
   "cell_type": "code",
   "execution_count": 5,
   "id": "90918038-cd4c-47c8-b8e5-b026315e5874",
   "metadata": {
    "execution": {
     "iopub.execute_input": "2023-12-06T02:07:30.023651Z",
     "iopub.status.busy": "2023-12-06T02:07:30.022462Z",
     "iopub.status.idle": "2023-12-06T02:07:31.703374Z",
     "shell.execute_reply": "2023-12-06T02:07:31.702583Z"
    }
   },
   "outputs": [],
   "source": [
    "from classiq import Pauli, PauliTerm\n",
    "\n",
    "my_list = {\"I\": Pauli.I, \"X\": Pauli.X, \"Y\": Pauli.Y, \"Z\": Pauli.Z}\n",
    "\n",
    "\n",
    "def pauli_str_to_enums(pauli):\n",
    "    return [my_list[s] for s in pauli]\n",
    "\n",
    "\n",
    "def pauli_operator_to_hamiltonian(pauli_list):\n",
    "    return [\n",
    "        PauliTerm(\n",
    "            pauli=pauli_str_to_enums(pauli), coefficient=cast(complex, coeff).real\n",
    "        )\n",
    "        for pauli, coeff in pauli_list\n",
    "    ]"
   ]
  },
  {
   "cell_type": "markdown",
   "id": "1dc21993-ef3e-48af-b831-ac8fd101067f",
   "metadata": {},
   "source": [
    "#### 2.1.3 Matrix Rescaling"
   ]
  },
  {
   "cell_type": "markdown",
   "id": "8f1896e5-fda6-48e3-b12c-259670c5b8d8",
   "metadata": {},
   "source": [
    "As QPE obtains a phase in the form $e^{2\\pi i\\theta}$, there is meaning only for $\\theta \\in [0,1)$. However, the matrix M can have any eigenvalue. To fix this discrepancy, the values of the matrix stretch to be rescaled. If\n",
    "$\\theta \\in [\\lambda_{min}, \\lambda_{max}]$ you can use a normalization function to map those values into $[0, 1-1/{2^m}]$, where $m$ \n",
    "is the size of the QPE register.\n",
    "\n",
    "Perform the normalization procedure by:\n",
    "\n",
    "a. Defining the function ` normalization_params()` that finds a rough estimation for the eigenvalue with the largest absolute value by adding together all the Pauli coefficients and multiplying by the matrix's dimensions. This yields a value $\\lambda$ (which is referred in the code as `normalization_coeff`) and now you can assume that the domain is $\\theta \\in [-\\lambda, \\lambda]$.\n",
    "In general, you can build a more accurate assessment that decreases the span of solutions and thus achieves a better resolution."
   ]
  },
  {
   "cell_type": "code",
   "execution_count": 6,
   "id": "c4a4efd0-06e2-461f-8a37-14aeaa4cf1fb",
   "metadata": {
    "execution": {
     "iopub.execute_input": "2023-12-06T02:07:31.709000Z",
     "iopub.status.busy": "2023-12-06T02:07:31.707515Z",
     "iopub.status.idle": "2023-12-06T02:07:31.715167Z",
     "shell.execute_reply": "2023-12-06T02:07:31.714553Z"
    }
   },
   "outputs": [],
   "source": [
    "def normalization_params(pauli_list):\n",
    "    return len(pauli_list[0][0]) * sum(\n",
    "        [abs(pauli_list[k][1]) for k in range(len(pauli_list))]\n",
    "    )"
   ]
  },
  {
   "cell_type": "markdown",
   "id": "3d6c378f-ae23-4baf-999d-e9943a7e49b3",
   "metadata": {},
   "source": [
    "b. Defining the function `normalize_hamiltonian` that shifts the matrix by adding $\\lambda*I^n$ to the Pauli list (the evaluated span is thus $\\theta\\in[0, 2*\\lambda]$) and normalizes it by multiplying all of the Pauli coefficients by $(1-1/2^n)/(2*\\lambda)$ (the evaluated span is then $\\theta\\in [0, 1-1/2^n]$, as required)."
   ]
  },
  {
   "cell_type": "code",
   "execution_count": 7,
   "id": "15ca935c-04a3-40c6-9846-f1b822bc9832",
   "metadata": {
    "execution": {
     "iopub.execute_input": "2023-12-06T02:07:31.719556Z",
     "iopub.status.busy": "2023-12-06T02:07:31.718373Z",
     "iopub.status.idle": "2023-12-06T02:07:31.727169Z",
     "shell.execute_reply": "2023-12-06T02:07:31.726566Z"
    }
   },
   "outputs": [],
   "source": [
    "def normalize_hamiltonian(pauli_list, normalization_coeff, k):\n",
    "    list_size = len(pauli_list)\n",
    "    num_qubits = len(pauli_list[0][0])\n",
    "    normalization = (1 - 1 / (2**k)) / (2 * normalization_coeff)\n",
    "    normalized_list = [\n",
    "        (pauli_list[k][0], pauli_list[k][1] * normalization) for k in range(list_size)\n",
    "    ]\n",
    "    if \"I\" * num_qubits in [pauli_list[k][0] for k in range(list_size)]:\n",
    "        id_index = [y[0] for y in pauli_list].index(\"I\" * num_qubits)\n",
    "        normalized_list[id_index] = (\n",
    "            \"I\" * num_qubits,\n",
    "            (pauli_list[id_index][1] + normalization_coeff) * normalization,\n",
    "        )\n",
    "    else:\n",
    "        normalized_list.append((\"I\" * num_qubits, normalization_coeff * normalization))\n",
    "\n",
    "    return normalized_list"
   ]
  },
  {
   "cell_type": "markdown",
   "id": "2c2cf50a-ef8a-41d2-8684-61c242734ed4",
   "metadata": {},
   "source": [
    "#### 2.1.3 QPE Precision Estimator"
   ]
  },
  {
   "cell_type": "markdown",
   "id": "c2e8d8f4-4ff7-4444-a9dc-1abb7f36e653",
   "metadata": {},
   "source": [
    "For QPE algorithms, the precision is set by phase register size $m$, such that the resolution is $1/{2^m}$. If the matrix needs to be normalized, the resolution will be distorted. In the case of normalization, the span of results for the QPE stretches between the lowest and highest possible phase, thus the resolution is mapped to $normalization-coefficient/{2^m} ~\\sim 1/{((\\lambda_{max}-\\lambda_{min})*2^m)}$."
   ]
  },
  {
   "cell_type": "code",
   "execution_count": 8,
   "id": "09d5727b-25f3-423b-bfe4-03443d596877",
   "metadata": {
    "execution": {
     "iopub.execute_input": "2023-12-06T02:07:31.731510Z",
     "iopub.status.busy": "2023-12-06T02:07:31.730349Z",
     "iopub.status.idle": "2023-12-06T02:07:31.741321Z",
     "shell.execute_reply": "2023-12-06T02:07:31.740716Z"
    }
   },
   "outputs": [],
   "source": [
    "def get_qpe_precision(pauli_list, desired_resolution):\n",
    "    nqpe = math.log2(2 * normalization_params(pauli_list) / desired_resolution)\n",
    "    return math.ceil(nqpe)"
   ]
  },
  {
   "cell_type": "markdown",
   "id": "dcb881a7-61ef-4e1d-b971-3fda5b1b0a78",
   "metadata": {},
   "source": [
    "## 2.2 Quantum functions"
   ]
  },
  {
   "cell_type": "markdown",
   "id": "db33c350-dfc6-42de-809a-9825fc055d7c",
   "metadata": {},
   "source": [
    "### 2.2.1 A flexible-QPE\n",
    "\n",
    "Define a flexible QPE function, which allows you to prescribe the \"telescopic\" expansion of the powered unitary via the `unitary_with_power` \"QCallable\" (see XX for more details). "
   ]
  },
  {
   "cell_type": "code",
   "execution_count": 9,
   "id": "ba7a59fa-689c-4c95-9a4e-24064a46f98a",
   "metadata": {
    "execution": {
     "iopub.execute_input": "2023-12-06T02:07:31.745640Z",
     "iopub.status.busy": "2023-12-06T02:07:31.744518Z",
     "iopub.status.idle": "2023-12-06T02:07:31.755136Z",
     "shell.execute_reply": "2023-12-06T02:07:31.754547Z"
    }
   },
   "outputs": [],
   "source": [
    "from classiq import (\n",
    "    H,\n",
    "    Output,\n",
    "    QArray,\n",
    "    QBit,\n",
    "    QCallable,\n",
    "    QFixed,\n",
    "    QFunc,\n",
    "    QParam,\n",
    "    apply_to_all,\n",
    "    control,\n",
    "    invert,\n",
    "    join,\n",
    "    qft,\n",
    "    repeat,\n",
    "    split,\n",
    ")\n",
    "\n",
    "\n",
    "@QFunc\n",
    "def qpe_flexible(\n",
    "    unitary_with_power: QCallable[QParam[int], QArray[QBit]],\n",
    "    precision: QParam[int],\n",
    "    state: QArray[QBit],\n",
    "    phase: Output[QArray[QBit, \"precision\"]],\n",
    ") -> None:\n",
    "    allocate(precision, phase)\n",
    "    apply_to_all(H, phase)\n",
    "\n",
    "    repeat(\n",
    "        count=precision,\n",
    "        iteration=lambda index: control(\n",
    "            operand=lambda: unitary_with_power(2**index, state),\n",
    "            ctrl=phase[index],\n",
    "        ),\n",
    "    )\n",
    "\n",
    "    invert(lambda: qft(phase))"
   ]
  },
  {
   "cell_type": "markdown",
   "id": "ad8f766e-91ed-44c5-9c4e-3f909358cdb1",
   "metadata": {},
   "source": [
    "### 2.2.2 A 1st order Suzuki Trotter with power-logic\n",
    "\n",
    "Wrap the Trotter-Suzuki function of order 1 with a \"power-logic\" for the repetition as a function of its power."
   ]
  },
  {
   "cell_type": "code",
   "execution_count": 10,
   "id": "920ac18c-591a-4ec2-b178-451f173dd5da",
   "metadata": {
    "execution": {
     "iopub.execute_input": "2023-12-06T02:07:31.759350Z",
     "iopub.status.busy": "2023-12-06T02:07:31.758199Z",
     "iopub.status.idle": "2023-12-06T02:07:31.771215Z",
     "shell.execute_reply": "2023-12-06T02:07:31.770609Z"
    }
   },
   "outputs": [],
   "source": [
    "from classiq import suzuki_trotter\n",
    "\n",
    "\n",
    "@QFunc\n",
    "def suzuki_trotter1_with_power_logic(\n",
    "    hamiltonian: QParam[List[PauliTerm]],\n",
    "    pw: QParam[int],\n",
    "    r0: QParam[int],\n",
    "    reps_scaling_factor: QParam[float],\n",
    "    evolution_coefficient: QParam[float],\n",
    "    target: QArray[QBit],\n",
    ") -> None:\n",
    "    suzuki_trotter(\n",
    "        hamiltonian,\n",
    "        evolution_coefficient=evolution_coefficient * pw,\n",
    "        order=1,\n",
    "        repetitions=r0 * sympy.ceiling(reps_scaling_factor ** (sympy.log(pw, 2))),\n",
    "        qbv=target,\n",
    "    )"
   ]
  },
  {
   "cell_type": "markdown",
   "id": "13398c9e-a74d-4819-9205-158f00498e17",
   "metadata": {},
   "source": [
    "### 2.2.3 A unitary with power-logic\n",
    "\n",
    "Alternative to Trotter-Suzuki formula, you can work with an exact unitary decomposition. In that case, the power-logic is naive:"
   ]
  },
  {
   "cell_type": "code",
   "execution_count": 11,
   "id": "1496c3fb-d68d-4466-bfe1-828903f44218",
   "metadata": {
    "execution": {
     "iopub.execute_input": "2023-12-06T02:07:31.775413Z",
     "iopub.status.busy": "2023-12-06T02:07:31.774265Z",
     "iopub.status.idle": "2023-12-06T02:07:31.779742Z",
     "shell.execute_reply": "2023-12-06T02:07:31.779147Z"
    }
   },
   "outputs": [],
   "source": [
    "from classiq import power, unitary\n",
    "\n",
    "\n",
    "@QFunc\n",
    "def unitary_with_power_logic(\n",
    "    pw: QParam[int], matrix: QParam[List[List[float]]], target: QArray[QBit]\n",
    ") -> None:\n",
    "    power(pw, lambda: unitary(elements=matrix, target=target))"
   ]
  },
  {
   "cell_type": "markdown",
   "id": "ffb62b82-d3ec-4e63-a558-b57af0c2e0b4",
   "metadata": {},
   "source": [
    "## 3. Preparing the Matrix for QPE"
   ]
  },
  {
   "cell_type": "code",
   "execution_count": 12,
   "id": "9c95c12b-5783-456f-92ca-937df78b3259",
   "metadata": {
    "execution": {
     "iopub.execute_input": "2023-12-06T02:07:31.783922Z",
     "iopub.status.busy": "2023-12-06T02:07:31.782799Z",
     "iopub.status.idle": "2023-12-06T02:07:31.800199Z",
     "shell.execute_reply": "2023-12-06T02:07:31.799376Z"
    },
    "tags": []
   },
   "outputs": [
    {
     "name": "stdout",
     "output_type": "stream",
     "text": [
      "[('II', (0.39999999999999997+0j)), ('IZ', (0.015040319999999996+0j)), ('IX', (0.10676978000000001+0j)), ('ZI', (0.016634415000000013+0j)), ('ZZ', (-0.042759185000000005+0j)), ('ZX', (0.12638833+0j)), ('XI', (0.042057264999999996+0j)), ('XZ', (0.172936455+0j)), ('XX', (0.15658719+0j)), ('YY', (0.09539162+0j))]\n"
     ]
    }
   ],
   "source": [
    "pauli_ops = lcu_naive(M)\n",
    "print(pauli_ops)"
   ]
  },
  {
   "cell_type": "code",
   "execution_count": 13,
   "id": "1cc56c7a-8f2e-4f89-bc0c-7d768b0388d4",
   "metadata": {
    "execution": {
     "iopub.execute_input": "2023-12-06T02:07:31.803125Z",
     "iopub.status.busy": "2023-12-06T02:07:31.802891Z",
     "iopub.status.idle": "2023-12-06T02:07:31.810172Z",
     "shell.execute_reply": "2023-12-06T02:07:31.808260Z"
    },
    "tags": []
   },
   "outputs": [
    {
     "name": "stdout",
     "output_type": "stream",
     "text": [
      "number of qubits:  2\n"
     ]
    }
   ],
   "source": [
    "N = len(pauli_ops[0][0])\n",
    "print(\"number of qubits: \", N)"
   ]
  },
  {
   "cell_type": "markdown",
   "id": "c69c18c8-566e-46e9-8818-b3baf69ff9eb",
   "metadata": {},
   "source": [
    "### 3.1 Choose the Algorithm's Precision\n",
    "\n",
    "Choose the precision using the `n_qpe` parameter or set your desired resolution. If you choose the resolution and set the parameter `get_recommended_qpe_size` parameter to True, the number of qubits is calculated for you accordingly."
   ]
  },
  {
   "cell_type": "code",
   "execution_count": 14,
   "id": "21c12d6d-399b-4ffe-9150-82adff52dd61",
   "metadata": {
    "execution": {
     "iopub.execute_input": "2023-12-06T02:07:31.813099Z",
     "iopub.status.busy": "2023-12-06T02:07:31.812873Z",
     "iopub.status.idle": "2023-12-06T02:07:31.821261Z",
     "shell.execute_reply": "2023-12-06T02:07:31.820501Z"
    },
    "tags": []
   },
   "outputs": [
    {
     "name": "stdout",
     "output_type": "stream",
     "text": [
      "number of qubits for QPE is 8\n"
     ]
    }
   ],
   "source": [
    "n_qpe = 8\n",
    "\n",
    "# recommended QPE_SIZE:\n",
    "get_recommended_qpe_size = False\n",
    "\n",
    "desired_resolution = 0.02\n",
    "\n",
    "\n",
    "if get_recommended_qpe_size:\n",
    "    n_qpe = get_qpe_precision(pauli_ops, desired_resolution)\n",
    "\n",
    "print(\"number of qubits for QPE is\", n_qpe)"
   ]
  },
  {
   "cell_type": "markdown",
   "id": "fa3d1079-c12b-48db-8935-1ea059fdbce9",
   "metadata": {},
   "source": [
    "### 3.2 Normalize the Matrix\n",
    "\n",
    "Transform the matrix to ensure its eigenvalues are between $0$ to $1-(1/2^m)$. The QPE procedure is performed on the new normalized matrix. After the phases are obtained, gather the original phases of the pre-normalized matrix by performing opposite steps to this normalization procedure.\n",
    "\n",
    "* If the matrix eigenvalues are naturally between the values $0$ to $1-(1/2^n)$, you may not want to normalize them as that  may enlarge the span, thus lowering the resolution of the algorithm. In this case, skip those lines or change the value of `normalize` to False."
   ]
  },
  {
   "cell_type": "code",
   "execution_count": 15,
   "id": "5e986c5a-1aae-4d97-be9c-693d7d8c2ae0",
   "metadata": {
    "execution": {
     "iopub.execute_input": "2023-12-06T02:07:31.825239Z",
     "iopub.status.busy": "2023-12-06T02:07:31.825013Z",
     "iopub.status.idle": "2023-12-06T02:07:31.836083Z",
     "shell.execute_reply": "2023-12-06T02:07:31.835349Z"
    },
    "tags": []
   },
   "outputs": [
    {
     "name": "stdout",
     "output_type": "stream",
     "text": [
      "[('II', (0.582852238955473+0j)), ('IZ', (0.003188749529016948+0j)), ('IX', (0.02263662513086446+0j)), ('ZI', (0.0035267190456534513+0j)), ('ZZ', (-0.009065520615911005+0j)), ('ZX', (0.026796020813436065+0j)), ('XI', (0.00891670416324194+0j)), ('XZ', (0.036664847518610696+0j)), ('XX', (0.033198584096787005+0j)), ('YY', (0.020224302631005442+0j))]\n"
     ]
    }
   ],
   "source": [
    "# normalizing the operator\n",
    "## create a matrix such that its normalized version has eigenvalues of [0,1/2^k] where k is the resolution of the QPE\n",
    "normalize = True\n",
    "if normalize:\n",
    "    normalization_coeff = normalization_params(pauli_ops)\n",
    "    new_pauli_list = normalize_hamiltonian(pauli_ops, normalization_coeff, n_qpe)\n",
    "    print(new_pauli_list)\n",
    "\n",
    "    size = math.sqrt(M.size)\n",
    "    I = np.eye(int(size))\n",
    "\n",
    "    Mnew = (\n",
    "        (M + normalization_coeff * I)\n",
    "        * (1 - 1 / (2**n_qpe))\n",
    "        / (2 * normalization_coeff)\n",
    "    )\n",
    "\n",
    "else:\n",
    "    Mnew = M"
   ]
  },
  {
   "cell_type": "markdown",
   "id": "f26c0aa2-2866-4f26-9d45-919e007c1b27",
   "metadata": {},
   "source": [
    "## 4. Building the Quantum model\n",
    "\n",
    "Create a quantum model of the QPE algorithm using the Classiq platform, with your desired constraints and preferences.\n",
    "\n",
    "There are generally two methods for inserting the matrix into the QFT: unitary implementation, which is exact but long; and exponentiation, which is approximated but shorter in depth. Choose the parameter `IS_EXACT` to indicate the chosen method."
   ]
  },
  {
   "cell_type": "code",
   "execution_count": 16,
   "id": "67d1f58d-bb01-4041-bbf4-fdc52f30cf7f",
   "metadata": {
    "execution": {
     "iopub.execute_input": "2023-12-06T02:07:31.839106Z",
     "iopub.status.busy": "2023-12-06T02:07:31.838884Z",
     "iopub.status.idle": "2023-12-06T02:07:32.155120Z",
     "shell.execute_reply": "2023-12-06T02:07:32.152178Z"
    }
   },
   "outputs": [],
   "source": [
    "import scipy\n",
    "\n",
    "from classiq import Output, QFixed, allocate, create_model, if_, prepare_amplitudes\n",
    "\n",
    "IS_EXACT = True\n",
    "\n",
    "my_amp = (\n",
    "    int_vec / np.linalg.norm(int_vec)\n",
    ").tolist()  # amplitude is given by the eignevector\n",
    "\n",
    "\n",
    "@QFunc\n",
    "def main(phase_result: Output[QFixed[n_qpe]]) -> None:\n",
    "    state = QArray(\"state\")\n",
    "    prepare_amplitudes(my_amp, 0.0, state)\n",
    "    qpe_flexible(\n",
    "        unitary_with_power=lambda pw, target: if_(\n",
    "            condition=IS_EXACT,\n",
    "            then=lambda: unitary_with_power_logic(\n",
    "                matrix=scipy.linalg.expm(1j * 2 * np.pi * Mnew).tolist(),\n",
    "                pw=pw,\n",
    "                target=target,\n",
    "            ),\n",
    "            else_=lambda: suzuki_trotter1_with_power_logic(\n",
    "                hamiltonian=pauli_operator_to_hamiltonian(pauli_ops),\n",
    "                pw=pw,\n",
    "                r0=2,\n",
    "                reps_scaling_factor=1.8,\n",
    "                evolution_coefficient=-2 * np.pi,\n",
    "                target=target,\n",
    "            ),\n",
    "        ),\n",
    "        precision=n_qpe,\n",
    "        state=state,\n",
    "        phase=phase_result,\n",
    "    )\n",
    "\n",
    "\n",
    "qmod = create_model(main)"
   ]
  },
  {
   "cell_type": "markdown",
   "id": "bca846b9-b3c8-42d1-b3a8-5cb0c3f3b074",
   "metadata": {},
   "source": [
    "Set execution preferences:"
   ]
  },
  {
   "cell_type": "code",
   "execution_count": 17,
   "id": "c8b701e3-1393-427f-b705-662fcfaf8728",
   "metadata": {
    "execution": {
     "iopub.execute_input": "2023-12-06T02:07:32.159281Z",
     "iopub.status.busy": "2023-12-06T02:07:32.159020Z",
     "iopub.status.idle": "2023-12-06T02:07:32.197296Z",
     "shell.execute_reply": "2023-12-06T02:07:32.195943Z"
    }
   },
   "outputs": [],
   "source": [
    "from classiq import set_execution_preferences\n",
    "from classiq.execution import ExecutionPreferences\n",
    "\n",
    "num_shots = 10000\n",
    "qmod = set_execution_preferences(qmod, ExecutionPreferences(num_shots=num_shots))"
   ]
  },
  {
   "cell_type": "code",
   "execution_count": 18,
   "id": "ca339f0c-4ffe-4130-8541-5621325e0c84",
   "metadata": {
    "execution": {
     "iopub.execute_input": "2023-12-06T02:07:32.200750Z",
     "iopub.status.busy": "2023-12-06T02:07:32.200263Z",
     "iopub.status.idle": "2023-12-06T02:07:32.204184Z",
     "shell.execute_reply": "2023-12-06T02:07:32.203483Z"
    }
   },
   "outputs": [],
   "source": [
    "with open(\"qpe_for_matrix.qmod\", \"w\") as f:\n",
    "    f.write(qmod)"
   ]
  },
  {
   "cell_type": "markdown",
   "id": "5f646cdf-c78f-4d28-822e-7eda986ad7cc",
   "metadata": {},
   "source": [
    "### 4.1 Synthesizing the Model\n",
    "\n",
    "Synthesize the circuit and display it with the analyzer."
   ]
  },
  {
   "cell_type": "code",
   "execution_count": 19,
   "id": "0ccdea1b-c255-42ab-83f2-9e36b561f94e",
   "metadata": {
    "execution": {
     "iopub.execute_input": "2023-12-06T02:07:32.207588Z",
     "iopub.status.busy": "2023-12-06T02:07:32.207011Z",
     "iopub.status.idle": "2023-12-06T02:08:48.616587Z",
     "shell.execute_reply": "2023-12-06T02:08:48.615519Z"
    }
   },
   "outputs": [
    {
     "name": "stdout",
     "output_type": "stream",
     "text": [
      "Opening: https://platform.classiq.io/circuit/204361e2-5a4b-483b-ab27-b79c00d9619d?version=0.34.0.dev0%2B124706fb0e\n"
     ]
    }
   ],
   "source": [
    "from classiq import show, synthesize\n",
    "\n",
    "qprog = synthesize(qmod)\n",
    "show(qprog)"
   ]
  },
  {
   "cell_type": "markdown",
   "id": "99e84bb8-90b8-4c40-9c04-51e18d7b86c9",
   "metadata": {},
   "source": [
    "# 5. Measuring and Analyzing the Generated Circuit \n"
   ]
  },
  {
   "cell_type": "markdown",
   "id": "8a9ad253-ac88-4c5e-a251-c40b2bd44bdb",
   "metadata": {},
   "source": [
    "### 5.1. Run the Circuit \n",
    "\n",
    "Send the circuit for execution by a chosen backend."
   ]
  },
  {
   "cell_type": "code",
   "execution_count": 20,
   "id": "7a6b833b-ec74-4432-9bf5-0ce351149761",
   "metadata": {
    "execution": {
     "iopub.execute_input": "2023-12-06T02:08:48.620140Z",
     "iopub.status.busy": "2023-12-06T02:08:48.619888Z",
     "iopub.status.idle": "2023-12-06T02:09:01.836824Z",
     "shell.execute_reply": "2023-12-06T02:09:01.836068Z"
    },
    "tags": []
   },
   "outputs": [],
   "source": [
    "from classiq import execute\n",
    "\n",
    "results = execute(qprog).result()"
   ]
  },
  {
   "cell_type": "code",
   "execution_count": 21,
   "id": "5717e0dd-0354-4f88-be2c-88442a81ead0",
   "metadata": {
    "execution": {
     "iopub.execute_input": "2023-12-06T02:09:01.843643Z",
     "iopub.status.busy": "2023-12-06T02:09:01.840707Z",
     "iopub.status.idle": "2023-12-06T02:09:01.856046Z",
     "shell.execute_reply": "2023-12-06T02:09:01.854120Z"
    },
    "tags": []
   },
   "outputs": [],
   "source": [
    "from classiq.execution import ExecutionDetails\n",
    "\n",
    "results = results[0].value"
   ]
  },
  {
   "cell_type": "markdown",
   "id": "eddd2a37-9fe4-4646-8ab3-0c29f24ef5d1",
   "metadata": {},
   "source": [
    "Choose the number of eigenvalues to extract from the poll of results. The `number_of_solutions` value determines how many results from `qpe_results` are analyzed."
   ]
  },
  {
   "cell_type": "code",
   "execution_count": 22,
   "id": "6ac801fd-5933-4b84-8a8b-6c520ba77842",
   "metadata": {
    "execution": {
     "iopub.execute_input": "2023-12-06T02:09:01.868496Z",
     "iopub.status.busy": "2023-12-06T02:09:01.867316Z",
     "iopub.status.idle": "2023-12-06T02:09:01.872022Z",
     "shell.execute_reply": "2023-12-06T02:09:01.871413Z"
    },
    "tags": []
   },
   "outputs": [],
   "source": [
    "number_of_solutions = 2  # number of phases sought"
   ]
  },
  {
   "cell_type": "markdown",
   "id": "0c3b307b-a3b8-4103-a47f-f0fc3f1e8009",
   "metadata": {},
   "source": [
    "### 5.2. Translate into Eigenvalue (Phase)\n",
    "\n",
    "Here, the value in the `results` vector are translated from a binary number into a full solution for the eigenvalues."
   ]
  },
  {
   "cell_type": "markdown",
   "id": "9ef03ea1-4ae0-4ce3-8b7c-aec30dcbba4d",
   "metadata": {},
   "source": [
    "Initially, use the parsed results to obtain the phases of the normalized matrix"
   ]
  },
  {
   "cell_type": "code",
   "execution_count": 23,
   "id": "87718e4b-3ccb-470a-850b-0e3534396b28",
   "metadata": {
    "execution": {
     "iopub.execute_input": "2023-12-06T02:09:01.877133Z",
     "iopub.status.busy": "2023-12-06T02:09:01.875528Z",
     "iopub.status.idle": "2023-12-06T02:09:01.890227Z",
     "shell.execute_reply": "2023-12-06T02:09:01.889601Z"
    },
    "tags": []
   },
   "outputs": [
    {
     "name": "stdout",
     "output_type": "stream",
     "text": [
      "Your decimal solutions are\n",
      "[0.58203125, 0.6875]\n"
     ]
    }
   ],
   "source": [
    "dec_sol_vec = [\n",
    "    sampled_state.state[\"phase_result\"]\n",
    "    for sampled_state in results.parsed_counts[:number_of_solutions]\n",
    "]\n",
    "\n",
    "print(\"Your decimal solutions are\", dec_sol_vec, sep=\"\\n\")"
   ]
  },
  {
   "cell_type": "markdown",
   "id": "5cb35ab6-22d0-4ea3-8b6d-4bca00ca5c51",
   "metadata": {},
   "source": [
    "Then, these decimal values are mapped back into the original values, i.e. renormalized into it's original span."
   ]
  },
  {
   "cell_type": "code",
   "execution_count": 24,
   "id": "1409b9d6-4681-4eb9-9dc5-d9bca9c6ed1e",
   "metadata": {
    "execution": {
     "iopub.execute_input": "2023-12-06T02:09:01.898691Z",
     "iopub.status.busy": "2023-12-06T02:09:01.893698Z",
     "iopub.status.idle": "2023-12-06T02:09:01.915239Z",
     "shell.execute_reply": "2023-12-06T02:09:01.914564Z"
    },
    "tags": []
   },
   "outputs": [],
   "source": [
    "# renormalize into the \"real\" solution -\n",
    "if normalize:\n",
    "    solution = [\n",
    "        (\n",
    "            (value * 2 * normalization_coeff / (1 - (1 / 2**n_qpe)))\n",
    "            - normalization_coeff\n",
    "        )\n",
    "        for value in dec_sol_vec\n",
    "    ]\n",
    "else:\n",
    "    solution = dec_sol_vec"
   ]
  },
  {
   "cell_type": "markdown",
   "id": "29a119e5-6883-43f8-abef-cb91ed934644",
   "metadata": {},
   "source": [
    "These are the results of the phases (matrix eigenvalues):"
   ]
  },
  {
   "cell_type": "code",
   "execution_count": 25,
   "id": "2f8c746d-3659-4793-99e8-aec8250cecec",
   "metadata": {
    "execution": {
     "iopub.execute_input": "2023-12-06T02:09:01.920005Z",
     "iopub.status.busy": "2023-12-06T02:09:01.918731Z",
     "iopub.status.idle": "2023-12-06T02:09:01.934071Z",
     "shell.execute_reply": "2023-12-06T02:09:01.933464Z"
    },
    "tags": []
   },
   "outputs": [
    {
     "name": "stdout",
     "output_type": "stream",
     "text": [
      "[0.39612765552941154, 0.8935902927058823]\n"
     ]
    }
   ],
   "source": [
    "print(solution)"
   ]
  },
  {
   "cell_type": "markdown",
   "id": "ec60ea88-ef3a-41cc-bda7-945abe330ae3",
   "metadata": {},
   "source": [
    "These are the results, including the error contributed from the resolution (the number of qubits participating in the QPE):"
   ]
  },
  {
   "cell_type": "code",
   "execution_count": 26,
   "id": "79f1c1ba-61fd-438e-a3d5-7606ea95e70f",
   "metadata": {
    "execution": {
     "iopub.execute_input": "2023-12-06T02:09:01.945829Z",
     "iopub.status.busy": "2023-12-06T02:09:01.944698Z",
     "iopub.status.idle": "2023-12-06T02:09:01.967520Z",
     "shell.execute_reply": "2023-12-06T02:09:01.966907Z"
    },
    "tags": []
   },
   "outputs": [
    {
     "name": "stdout",
     "output_type": "stream",
     "text": [
      "the resolution of results is 0.018424542117647057\n",
      "the solutions are between 0.3777031134117645 and 0.4145521976470586\n",
      "the solutions are between 0.8751657505882352 and 0.9120148348235294\n"
     ]
    }
   ],
   "source": [
    "if normalize:\n",
    "    energy_resolution = (\n",
    "        (1 / (2**n_qpe)) * 2 * normalization_coeff / (1 - (1 / 2**n_qpe))\n",
    "    )\n",
    "else:\n",
    "    energy_resolution = 1 / (2**n_qpe)\n",
    "\n",
    "print(\"the resolution of results is\", energy_resolution)\n",
    "\n",
    "for sol in solution:\n",
    "    print(\n",
    "        \"the solutions are between\",\n",
    "        sol - energy_resolution,\n",
    "        \"and\",\n",
    "        sol + energy_resolution,\n",
    "    )\n",
    "\n",
    "    ### if zero or exceeds the normalization range, need to add conditions"
   ]
  },
  {
   "cell_type": "markdown",
   "id": "51b1e9b4-d004-493e-8278-77c1b3cf0301",
   "metadata": {},
   "source": [
    "### 5.3. Compare to Exact Results:"
   ]
  },
  {
   "cell_type": "code",
   "execution_count": 27,
   "id": "4032aaa8-d124-4c76-bea1-646e3162b02a",
   "metadata": {
    "execution": {
     "iopub.execute_input": "2023-12-06T02:09:01.971900Z",
     "iopub.status.busy": "2023-12-06T02:09:01.970766Z",
     "iopub.status.idle": "2023-12-06T02:09:01.983163Z",
     "shell.execute_reply": "2023-12-06T02:09:01.982556Z"
    },
    "tags": []
   },
   "outputs": [
    {
     "name": "stdout",
     "output_type": "stream",
     "text": [
      "the eigenvalues are [0.9 0.4 0.1 0.2]\n",
      "the eigenvectors are\n",
      "[[ 0.51510515  0.41480695  0.5588446  -0.50029451]\n",
      " [ 0.61747259 -0.30596016 -0.64233734 -0.3354381 ]\n",
      " [ 0.58498122  0.11134965  0.09256217  0.79801659]\n",
      " [-0.10578874  0.8496616  -0.51626321  0.01887348]]\n"
     ]
    }
   ],
   "source": [
    "w, v = LA.eig(M)\n",
    "\n",
    "print(\"the eigenvalues are\", w)\n",
    "print(\"the eigenvectors are\", v, sep=\"\\n\")"
   ]
  },
  {
   "cell_type": "markdown",
   "id": "fb8793fc-6ef6-4ca7-9654-7d1267caa6e0",
   "metadata": {},
   "source": [
    "### 5.4. Find the Solution's Histogram"
   ]
  },
  {
   "cell_type": "code",
   "execution_count": 28,
   "id": "4b35f44e-a0a1-449b-9015-bf6af2ad53ea",
   "metadata": {
    "execution": {
     "iopub.execute_input": "2023-12-06T02:09:01.987965Z",
     "iopub.status.busy": "2023-12-06T02:09:01.986307Z",
     "iopub.status.idle": "2023-12-06T02:09:02.003542Z",
     "shell.execute_reply": "2023-12-06T02:09:02.002561Z"
    },
    "tags": []
   },
   "outputs": [],
   "source": [
    "import matplotlib.pyplot as plt\n",
    "import numpy as np\n",
    "\n",
    "energy_vec = []\n",
    "energy_prob = []\n",
    "\n",
    "for sampled_state in results.parsed_counts:\n",
    "    temp = sampled_state.state[\"phase_result\"]\n",
    "    if normalize:\n",
    "        temp2 = (\n",
    "            temp * 2 * normalization_coeff / (1 - (1 / 2**n_qpe))\n",
    "        ) - normalization_coeff\n",
    "    else:\n",
    "        temp2 = temp\n",
    "    energy_vec.append(temp2)\n",
    "    energy_prob.append(sampled_state.shots / num_shots)"
   ]
  },
  {
   "cell_type": "code",
   "execution_count": 29,
   "id": "463a3503-dee1-4fb0-bdf7-e698aafd0b9f",
   "metadata": {
    "execution": {
     "iopub.execute_input": "2023-12-06T02:09:02.009125Z",
     "iopub.status.busy": "2023-12-06T02:09:02.008895Z",
     "iopub.status.idle": "2023-12-06T02:09:02.188111Z",
     "shell.execute_reply": "2023-12-06T02:09:02.187431Z"
    },
    "tags": []
   },
   "outputs": [
    {
     "data": {
      "image/png": "[encoded data removed]",
      "text/plain": [
       "<Figure size 640x480 with 1 Axes>"
      ]
     },
     "metadata": {},
     "output_type": "display_data"
    }
   ],
   "source": [
    "plt.plot(energy_vec, energy_prob, \".\")\n",
    "plt.show()"
   ]
  },
  {
   "cell_type": "markdown",
   "id": "7bcfe1f0-c9b6-4ae8-917e-bfbf1ef9b318",
   "metadata": {},
   "source": [
    "## 6. Appendices"
   ]
  },
  {
   "cell_type": "markdown",
   "id": "e0f23668-6184-44fe-8b9b-1ea4e65ff144",
   "metadata": {},
   "source": [
    "This code converts a Pauli list of operators to a matrix array for debugging purposes."
   ]
  },
  {
   "cell_type": "code",
   "execution_count": 30,
   "id": "37d820cd-10ee-48b2-a14d-8152a8871e35",
   "metadata": {
    "execution": {
     "iopub.execute_input": "2023-12-06T02:09:02.192122Z",
     "iopub.status.busy": "2023-12-06T02:09:02.191623Z",
     "iopub.status.idle": "2023-12-06T02:09:02.203055Z",
     "shell.execute_reply": "2023-12-06T02:09:02.202471Z"
    },
    "tags": []
   },
   "outputs": [
    {
     "name": "stdout",
     "output_type": "stream",
     "text": [
      "[[ 0.38891555+0.j  0.23315811+0.j  0.21499372+0.j  0.06119557+0.j]\n",
      " [ 0.23315811+0.j  0.44435328+0.j  0.25197881+0.j -0.13087919+0.j]\n",
      " [ 0.21499372+0.j  0.25197881+0.j  0.44116509+0.j -0.01961855+0.j]\n",
      " [ 0.06119557+0.j -0.13087919+0.j -0.01961855+0.j  0.32556608+0.j]]\n",
      "the eigenvalues are [0.9+0.j 0.4+0.j 0.1+0.j 0.2+0.j]\n",
      "the eigenvectors are\n",
      "[[ 0.51510515+0.j  0.41480695+0.j -0.5588446 +0.j -0.50029451+0.j]\n",
      " [ 0.61747259+0.j -0.30596016+0.j  0.64233734+0.j -0.3354381 +0.j]\n",
      " [ 0.58498122+0.j  0.11134965+0.j -0.09256217+0.j  0.79801659+0.j]\n",
      " [-0.10578874+0.j  0.8496616 +0.j  0.51626321+0.j  0.01887348+0.j]]\n"
     ]
    }
   ],
   "source": [
    "import numpy as np\n",
    "from numpy import kron\n",
    "\n",
    "Paulidict = {\n",
    "    \"I\": np.array([[1, 0], [0, 1]], dtype=np.complex128),\n",
    "    \"Z\": np.array([[1, 0], [0, -1]], dtype=np.complex128),\n",
    "    \"X\": np.array([[0, 1], [1, 0]], dtype=np.complex128),\n",
    "    \"Y\": np.array([[0, -1j], [1j, 0]], dtype=np.complex128),\n",
    "}\n",
    "\n",
    "\n",
    "def PauliString2mat(seq):\n",
    "    myPmat = Paulidict[seq[0]]\n",
    "    for p in seq[1:]:\n",
    "        myPmat = kron(myPmat, Paulidict[p])\n",
    "    return myPmat\n",
    "\n",
    "\n",
    "pauli_example = pauli_ops\n",
    "\n",
    "mat_new = 0\n",
    "for s in pauli_example:\n",
    "    mat_new = mat_new + s[1] * PauliString2mat(s[0])\n",
    "\n",
    "print(mat_new)\n",
    "\n",
    "w, v = LA.eig(mat_new)\n",
    "\n",
    "print(\"the eigenvalues are\", w)\n",
    "print(\"the eigenvectors are\", v, sep=\"\\n\")"
   ]
  },
  {
   "cell_type": "markdown",
   "id": "7f2e9b12-07fd-4105-beee-620ba6a00c20",
   "metadata": {},
   "source": [
    "## References\n",
    "\n",
    "<a name='NC'>[1]</a>: [Michael A. Nielsen and Isaac L. Chuang. 2011. Quantum Computation and Quantum Information: 10th Anniversary Edition, Cambridge University Press, New York, NY, USA.\n",
    "](http://mmrc.amss.cas.cn/tlb/201702/W020170224608149940643.pdf)\n"
   ]
  }
 ],
 "metadata": {
  "kernelspec": {
   "display_name": "Python 3 (ipykernel)",
   "language": "python",
   "name": "python3"
  },
  "language_info": {
   "codemirror_mode": {
    "name": "ipython",
    "version": 3
   },
   "file_extension": ".py",
   "mimetype": "text/x-python",
   "name": "python",
   "nbconvert_exporter": "python",
   "pygments_lexer": "ipython3",
   "version": "3.11.6"
  }
 },
 "nbformat": 4,
 "nbformat_minor": 5
}
