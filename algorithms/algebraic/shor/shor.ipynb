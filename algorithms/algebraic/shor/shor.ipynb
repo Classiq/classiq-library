{
 "cells": [
  {
   "cell_type": "markdown",
   "id": "0",
   "metadata": {},
   "source": [
    "# Shor's Factoring Algorithm\n"
   ]
  },
  {
   "cell_type": "markdown",
   "id": "1",
   "metadata": {
    "jp-MarkdownHeadingCollapsed": true
   },
   "source": [
    "<blockquote style=\"background:rgba(59,130,246,.08);border-left:6px solid #3b82f6;padding:1rem 1.25rem;margin:.5rem 0;\">\n",
    "<strong>Integer factorization</strong> [<a href=\"#ref-integerfactor\">1</a>],   is a famous problem in number theory: given a composite number $N$, find its prime factors. The importance of the problem stems from there being no known efficient classical algorithm (in the number of bits needed to represent $N$ in polynomial time), and much of modern-day cryptography relies on this fact. In 1994, Peter Shor came up with an efficient <strong>  quantum </strong> algorithm for the problem [<a href=\"#ref-shor94\">2</a>]; providing, arguably, the most important evidence for an exponential advantage of quantum computing over classical computing.\n",
    " <br> \n",
    "    <ul> \n",
    "        <li><strong>Input:</strong> A composite integer $N$ .\n",
    "        </li> \n",
    "        <li><strong>Promise:</strong> $N$ is not a prime power and has at least one nontrivial factor.\n",
    "        </li> <li><strong>Output:</strong> With high probability, a nontrivial factor of $N$. \n",
    "</li> </ul> <br> <strong>Complexity:</strong> Runs in $\\mathrm{polylog}(N)$ time, i.e. polynomial in $\\log N$, giving an exponential speedup over the best-known classical factoring algorithms. \n",
    "    <hr> <strong>Keywords:</strong> Integer factoring, Order-finding, Period finding, Phase estimation, Hidden subgroup over $\\mathbb{Z}$, RSA/ECC break, Cryptography, Exponential speedup, Modular exponentiation. </blockquote>"
   ]
  },
  {
   "cell_type": "markdown",
   "id": "2",
   "metadata": {},
   "source": [
    "Shor's algorithm consists of classical parts and a quantum subroutine. The notebook is organized as follows: First, as an introduction, we outline the steps of the algorithm for factoring an input number $N$, summarized from [<a href=\"#ref-shorsteps\">3</a>]. Then, we construct all the classical and quantum components of the algorithm, and run a simple example. Brief technical details, explaining how the algorithm works, are given together with the implementation, whereas some complex technical details are given at the end of the notebook.\n",
    "\n",
    "The steps of Shor's algorithm:\n",
    "\n",
    "1. Pick a random number $1 < a < N$ that is co-prime with $N$. Check co-primality by computing the GCD (greatest common divisor) of $a$ and $N$. If it is 1, then we have a co-prime $a$; otherwise, we have a non-trivial factor of $N$, and we are done (the GCD complexity is $O(\\log(N))$).\n",
    "2. Find the period $r$ of the following function, using the **quantum period finding algorithm**: $$f(x) = a^x\\hspace{-8pt} \\mod \\hspace{-4pt} N$$\n",
    "3. If $r$ is odd or $a^{r/2} = -1 \\bmod{N}$, return to step 1 (this event can be shown to happen with probability at most $1/2$).\n",
    "4. Otherwise, $\\gcd(a^{r/2} \\pm 1, N)$ are both factors of $N$, and computing one of them yields the required result.\n",
    "\n",
    "Next, we move to the implementation of each and every step. *The quantum part is designed naturally as a Quantum Phase Estimation (QPE) routine, using Classiq's `flexible_qpe` and Modular Arithmetic*.\n",
    "\n",
    "***\n",
    "***"
   ]
  },
  {
   "cell_type": "markdown",
   "id": "3",
   "metadata": {},
   "source": [
    "## Finding a co-prime of $N$\n",
    "\n",
    "This is a simple classical preprocess for the algorithm. We randomly pick an integer $a$ in $(1,N)$, and check whether it is a co-prime of $N$ by calling the Euclidian GCD algorithm. If the sampled integer is not a co-prime then we find a factor of $N$ and we are done. (When we run the algorithm for a specific example below, we will fix a co-prime $a$ in advance, such that we have a meaningful demo with a quantum part). "
   ]
  },
  {
   "cell_type": "code",
   "execution_count": 1,
   "id": "4",
   "metadata": {},
   "outputs": [],
   "source": [
    "import numpy as np\n",
    "\n",
    "\n",
    "def random_coprime(N):\n",
    "    \"\"\"\n",
    "    Draw an integer in (1,N), and check if it is a co-prime of N. If True, return it, otherwise, we factor N.\n",
    "    \"\"\"\n",
    "    while True:\n",
    "        a = np.random.randint(2, N)\n",
    "        gcd_a = np.gcd(a, N)\n",
    "        if gcd_a == 1:\n",
    "            return int(a), gcd_a\n",
    "        else:\n",
    "            print(f\"The number {N} is factored by {np.gcd(a, N)} and {N//np.gcd(a, N)}\")\n",
    "            return int(a), gcd_a"
   ]
  },
  {
   "cell_type": "markdown",
   "id": "5",
   "metadata": {},
   "source": [
    "We can run a simple example:"
   ]
  },
  {
   "cell_type": "code",
   "execution_count": 2,
   "id": "6",
   "metadata": {},
   "outputs": [
    {
     "name": "stdout",
     "output_type": "stream",
     "text": [
      "The number 123456789 is factored by 3 and 41152263\n",
      "The numbers 8312109 and 123456789 have the greatest common divisor 3\n"
     ]
    }
   ],
   "source": [
    "N = 123456789\n",
    "a, gcd_a = random_coprime(N)\n",
    "print(f\"The numbers {a} and {N} have the greatest common divisor {gcd_a}\")"
   ]
  },
  {
   "cell_type": "markdown",
   "id": "7",
   "metadata": {},
   "source": [
    "## Quantum Period Finding as a QPE routine"
   ]
  },
  {
   "cell_type": "markdown",
   "id": "8",
   "metadata": {},
   "source": [
    "The core part of Shor's algorithm, is the period finding of the function $f(x) = a^x\\bmod{N}$:\n",
    "$$\n",
    "\\text{Find the minimal integer } r \\text{ such that: } a^r  =1 \\bmod{N} .\n",
    "$$\n",
    "This can be computed via Quantum Phase Estimation (QPE) [<a href=\"#ref-nielsenchuang\">4</a>] (QPE was not discussed in the original formulation of Shor's algorithm but was later proposed by Kitaev [<a href=\"#ref-kiteav\">5</a>]) . Recall that the  QPE routine, when applied for a unitary $U$ and on one of its eigenstates $|\\psi_\\theta\\rangle$, produces an approximation of the corresponding eigenphase $\\theta$:\n",
    "$$\n",
    "|\\psi_{\\theta}\\rangle|0\\rangle_m  \\xrightarrow[\\text{QPE}(U)]{} |\\psi_{\\theta}\\rangle|\\tilde{\\theta}\\rangle_m ,\n",
    "$$\n",
    "where $U|\\psi_\\theta\\rangle = e^{2\\pi i \\theta}|\\psi_\\theta\\rangle$ and $|\\tilde{\\theta}\\rangle_m$ encodes an $m$-bit estimate of $\\theta$ (in practice, the estimate $\\tilde{\\theta}$ is obtained by measurement, and the approximation holds with high probability up to an error of order $1/2^m$).\n",
    "\n",
    "We can find the order $r$ by applying QPE for the unitary \n",
    "$$\n",
    "U_a|x\\rangle = |ax\\bmod{N}\\rangle,\n",
    "$$\n",
    "following the two facts (that are proven at the end of this notebook):\n",
    "1. The unitary $U_a$  has $r$ eigenstates:\n",
    "$$\n",
    "|\\psi_s\\rangle\\equiv \\frac{1}{\\sqrt{r}}\\sum^{r-1}_{k=0}e^{-2\\pi i sk/r}|a^{k}\\bmod{N}\\rangle \\text{   with eigenvalues  }\n",
    "\\lambda_s = e^{2\\pi i s/r}, \\qquad s=0,1,\\dots, r-1.\n",
    "$$\n",
    "2. We can easily prepare an equal superposition of $|\\psi_s\\rangle$, since\n",
    "$$\n",
    "|1\\rangle = \\frac{1}{\\sqrt{r}}\\sum^{r-1}_{k=0}|\\psi_s\\rangle.\n",
    "$$\n",
    "\n",
    "Therefore, by applying a QPE for $U_a$, on the state $|1\\rangle$, we get an equal superposition for the estimation of the eigenphases $\\{s/r\\}^{r-1}_{s=0}$:\n",
    "$$\n",
    "|1\\rangle|0\\rangle_m  \\xrightarrow[\\text{QPE}(U_a)]{} \\frac{1}{\\sqrt{r}}\\sum^{r-1}_{s=0}|\\psi_{s}\\rangle|\\tilde{s/r}\\rangle_m.\n",
    "$$\n",
    "\n",
    "How to extract the period $r$ from the resulting state is shown in the following section. In this section we focus on the implementation of the quantum part. We work with the `qpe_flexible` function, that allows to pass a unitary with a specified powered operation. In particular, in our case we have\n",
    "$$\n",
    "\\left(U_a\\right)^{p}|x\\rangle =|a^p x\\bmod{N}\\rangle\n",
    "$$"
   ]
  },
  {
   "cell_type": "code",
   "execution_count": 3,
   "id": "9",
   "metadata": {},
   "outputs": [],
   "source": [
    "from classiq import *\n",
    "\n",
    "\n",
    "@qfunc\n",
    "def period_finding(n: CInt, a: CInt, x: QNum, phase_var: QNum):\n",
    "    x ^= 1\n",
    "    qpe_flexible(lambda p: inplace_modular_multiply(n, a**p, x), phase_var)"
   ]
  },
  {
   "attachments": {
    "0e10b3c1-c307-4150-a69f-a5a679d08941.png": {
     "image/png": "[encoded data removed]"
    }
   },
   "cell_type": "markdown",
   "id": "10",
   "metadata": {},
   "source": [
    "![Screenshot 2025-09-30 at 12.15.53.png](attachment:0e10b3c1-c307-4150-a69f-a5a679d08941.png)\n",
    "<center>\n",
    "    The quantum period finding algorithm.\n",
    "</center>"
   ]
  },
  {
   "cell_type": "markdown",
   "id": "11",
   "metadata": {},
   "source": [
    "### Postprocess with continued fractions algorithm"
   ]
  },
  {
   "cell_type": "markdown",
   "id": "12",
   "metadata": {},
   "source": [
    "The outcome distribution for the `phase_var` variable out of the QPE is in $[0,1)$, and expected to be peaked around $r$ values: $s/r$ for $s=0,1,\\dots, r-1$. We can extract the value of $r$ by using the continued fractions algorithm: any rational (irrational) number can be written as a finite (infinite) converging sequence of fractions:\n",
    "$$\n",
    "x\n",
    "= a_0\n",
    "+ \\cfrac{1}{a_1\n",
    "  + \\cfrac{1}{a_2\n",
    "    + \\cfrac{1}{a_3\n",
    "      + \\ddots}}} .\n",
    "$$\n",
    "There is an efficient classical algorithm for extracting $a_i$. For example, using `sympy`:"
   ]
  },
  {
   "cell_type": "code",
   "execution_count": 4,
   "id": "13",
   "metadata": {},
   "outputs": [
    {
     "name": "stdout",
     "output_type": "stream",
     "text": [
      "Continued fraction convergents for 17/1024:  [0, 1/60, 4/241, 17/1024]\n"
     ]
    }
   ],
   "source": [
    "from sympy import Rational\n",
    "from sympy.ntheory.continued_fraction import (\n",
    "    continued_fraction,\n",
    "    continued_fraction_convergents,\n",
    ")\n",
    "\n",
    "phase_value = Rational(17 / 1024)\n",
    "list_of_continued_fraction = list(\n",
    "    continued_fraction_convergents(continued_fraction(phase_value))\n",
    ")\n",
    "print(\n",
    "    f\"Continued fraction convergents for {phase_value}:  {list_of_continued_fraction}\"\n",
    ")"
   ]
  },
  {
   "cell_type": "markdown",
   "id": "14",
   "metadata": {},
   "source": [
    "Thus, we can extract $r$ by taking a measurment of the `phase_var` variable, and calculate the series of rational numbers $p_i/q_i$ that correspond to the continued fractions sereis. Then, we pick the fraction with the largest denominator $q_i$ such that $q_i<N$, we should see, with high-probability, fractions that fit $s/r$ for $s=0,1,\\dots, r-1$.\n",
    "\n",
    "Let us define a function that applies those steps to a measurment result:"
   ]
  },
  {
   "cell_type": "code",
   "execution_count": 5,
   "id": "15",
   "metadata": {},
   "outputs": [],
   "source": [
    "def continued_fraction_post_process(phase_result, n):\n",
    "\n",
    "    # Extract continued fraction convergents\n",
    "    convs = list(\n",
    "        continued_fraction_convergents(continued_fraction(Rational(phase_result)))\n",
    "    )\n",
    "    # Eliminate fractions with denominator > n\n",
    "    trimmed = [c for c in convs if c.as_numer_denom()[1] < n]\n",
    "    # Store the last continued fraction_convergent\n",
    "    lastf = trimmed[-1] if trimmed else None\n",
    "    return lastf"
   ]
  },
  {
   "cell_type": "markdown",
   "id": "16",
   "metadata": {},
   "source": [
    "Let us see an example, consider the following results out of the period finding algorithm, for $N=18$:"
   ]
  },
  {
   "cell_type": "code",
   "execution_count": 6,
   "id": "17",
   "metadata": {},
   "outputs": [],
   "source": [
    "phase_results = [0.1953125, 0.39160156, 0.0, 0.59667969, 0.80078125]"
   ]
  },
  {
   "cell_type": "markdown",
   "id": "18",
   "metadata": {},
   "source": [
    "Our postprocess function gives "
   ]
  },
  {
   "cell_type": "code",
   "execution_count": 7,
   "id": "19",
   "metadata": {},
   "outputs": [
    {
     "name": "stdout",
     "output_type": "stream",
     "text": [
      "0.1953125 ---> 1/5\n",
      "0.39160156 ---> 2/5\n",
      "0.0 ---> 0\n",
      "0.59667969 ---> 3/5\n",
      "0.80078125 ---> 4/5\n"
     ]
    }
   ],
   "source": [
    "for phase_res in phase_results:\n",
    "    print(f\"{phase_res} ---> {continued_fraction_post_process(phase_res, 18)}\")"
   ]
  },
  {
   "cell_type": "markdown",
   "id": "20",
   "metadata": {},
   "source": [
    "We can see that in this case one can conclude that $r=5$ is the period we were trying to find."
   ]
  },
  {
   "cell_type": "markdown",
   "id": "21",
   "metadata": {},
   "source": [
    "## Verifying the order and factoring"
   ]
  },
  {
   "cell_type": "markdown",
   "id": "22",
   "metadata": {},
   "source": [
    "Once $r$ is found, we first verify that it is an even number, this is because Shor's algorithm continues by writing\n",
    "$$\n",
    "a^r=1\\bmod{N}\\implies \\left(a^{r/2}-1\\right)\\left(a^{r/2}+1\\right) = 0 \\bmod{N}.\n",
    "$$\n",
    "If $r$ is even, this equation implies four scenarios:\n",
    "1. $\\left(a^{r/2}-1\\right) = 0 \\bmod{N}$, impossible, since it contradicts the fact that $r$ is the order.\n",
    "2. $\\left(a^{r/2}+1\\right) = 0 \\bmod{N}$,  in that case we must go back to step 1 and start with a new co-prime $a$.\n",
    "3. $\\left(a^{r/2}-1\\right)\\left(a^{r/2}+1\\right) = N$,  which gives a factoring for $N$.\n",
    "4. $\\left(a^{r/2}-1\\right)\\left(a^{r/2}+1\\right) = kN$ with $k>1$, which means that $N$ divides the of the terms on the left. Thus, it has a non-trivial common divisor with one of them, namely, $\\mathrm{gcd}(a^{r/2}+1,N)\\neq 1$ and/or $\\mathrm{gcd}(a^{r/2}-1,N)\\neq 1$ are factors of $N$.\n",
    "\n",
    "It can be shown that the situations in which $r$ is odd or $\\left(a^{r/2}+1\\right) = 0 \\bmod{N}$ can happen at probability 1/2 at most.\n",
    "Below we define a function that verifies we are not in the second possibility, and returns the factors on $N$ in case we are at the last two."
   ]
  },
  {
   "cell_type": "code",
   "execution_count": 8,
   "id": "23",
   "metadata": {},
   "outputs": [],
   "source": [
    "def get_factors(a, r, n):\n",
    "    # r is odd\n",
    "    if r % 2 == 1:\n",
    "        print(f\"The order r={r} is odd, return to the first step and find a co-prime a\")\n",
    "        return None, None\n",
    "    # a^(r/2)=-1 mod n is odd\n",
    "    if a ^ (r // 2) + 1 % n == 0:\n",
    "        print(\n",
    "            f\"It turns out that a^(r/2)+1 % N ==0, return to the first step and find a co-prime a\"\n",
    "        )\n",
    "        return None, None\n",
    "    # (a^(r/2)+1) (a^(r/2)-1)=n\n",
    "    if (a ^ (r // 2) + 1) * (a ^ (r // 2) - 1) == n:\n",
    "        return (a ^ (r // 2) + 1), (a ^ (r // 2) - 1)\n",
    "    # (a^(r/2)+1) (a^(r/2)-1)= kn, with k>1\n",
    "    gcd_ = np.gcd((a ^ (r // 2) + 1), n)\n",
    "    if gcd_ > 1:\n",
    "        return int(gcd_), int(n / gcd_)\n",
    "    gcd_ = np.gcd((a ^ (r // 2) - 1), n)\n",
    "    return int(gcd_), int(n / gcd_)"
   ]
  },
  {
   "cell_type": "markdown",
   "id": "24",
   "metadata": {},
   "source": [
    "## Example: Factoring 21"
   ]
  },
  {
   "cell_type": "markdown",
   "id": "25",
   "metadata": {},
   "source": [
    "First, find a co-prime of $N$. We fix this value to $a=11$ in order to get a full end-to-end result that runs the quantum part."
   ]
  },
  {
   "cell_type": "code",
   "execution_count": 9,
   "id": "26",
   "metadata": {},
   "outputs": [
    {
     "name": "stdout",
     "output_type": "stream",
     "text": [
      "The numbers 11 and 21 have the greatest common divisor 1\n"
     ]
    }
   ],
   "source": [
    "np.random.seed(989)\n",
    "\n",
    "modulo_num = 21  # The number we wish to factor\n",
    "a_num, gcd_a_num = random_coprime(modulo_num)\n",
    "print(\n",
    "    f\"The numbers {a_num} and {modulo_num} have the greatest common divisor {gcd_a_num}\"\n",
    ")\n",
    "\n",
    "assert a_num == 11"
   ]
  },
  {
   "cell_type": "markdown",
   "id": "27",
   "metadata": {},
   "source": [
    "Next, we run the quantum period finding algorithm to extract the period $r$. Concerning the size of the quantum variables:\n",
    "-  The quantum variable on which we apply the period finding, $|x\\rangle$, should have the number of bits according to $N$ (we note that our current `inplace_modular_multiply` uses an extra of `x.size`+1 auxiliary qubits).\n",
    "-  For the phase variable that approximates the period $r$, we take twice as many qubits as in  $|x\\rangle$: this choice provides sufficient accuracy for extracting the period using the continued fraction algorithm (see the Technical Notes at the end of this notebook). In general, increasing the phase size yields deeper circuits with higher success probability of observing $s/r$, while decreasing it leads to shallower circuits with lower success probability."
   ]
  },
  {
   "cell_type": "code",
   "execution_count": 10,
   "id": "28",
   "metadata": {},
   "outputs": [],
   "source": [
    "x_len = modulo_num.bit_length()\n",
    "phase_len = 2 * x_len\n",
    "\n",
    "\n",
    "@qfunc\n",
    "def main(phase_var: Output[QNum[phase_len, UNSIGNED, phase_len]]):\n",
    "    x = QNum()\n",
    "    allocate(x_len, x)\n",
    "    allocate(phase_var)\n",
    "    period_finding(modulo_num, a_num, x, phase_var)\n",
    "\n",
    "\n",
    "write_qmod(main, \"shor\")\n",
    "qprog = synthesize(\n",
    "    main,\n",
    "    preferences=Preferences(qasm3=True, optimization_level=1),\n",
    ")"
   ]
  },
  {
   "cell_type": "code",
   "execution_count": 11,
   "id": "29",
   "metadata": {},
   "outputs": [
    {
     "name": "stdout",
     "output_type": "stream",
     "text": [
      "Quantum program link: https://platform.classiq.io/circuit/33ecTEVaUCJamFo5g3AW6uchmFR\n"
     ]
    }
   ],
   "source": [
    "show(qprog)"
   ]
  },
  {
   "attachments": {
    "52fb109d-e5fa-49bd-9275-4f58d587f679.png": {
     "image/png": "[encoded data removed]"
    }
   },
   "cell_type": "markdown",
   "id": "30",
   "metadata": {},
   "source": [
    "![Screenshot 2025-09-30 at 12.16.15.png](attachment:52fb109d-e5fa-49bd-9275-4f58d587f679.png)\n",
    "<center>\n",
    "    Shor's algorithm for factoring $N=21$.\n",
    "</center>"
   ]
  },
  {
   "cell_type": "markdown",
   "id": "31",
   "metadata": {},
   "source": [
    "We execute and postprocess the results with the continued fraction approximation. For the demonstration, let us postprocess all the results with more than 10 counts. "
   ]
  },
  {
   "cell_type": "code",
   "execution_count": 12,
   "id": "32",
   "metadata": {},
   "outputs": [
    {
     "data": {
      "text/html": [
       "<div>\n",
       "<style scoped>\n",
       "    .dataframe tbody tr th:only-of-type {\n",
       "        vertical-align: middle;\n",
       "    }\n",
       "\n",
       "    .dataframe tbody tr th {\n",
       "        vertical-align: top;\n",
       "    }\n",
       "\n",
       "    .dataframe thead th {\n",
       "        text-align: right;\n",
       "    }\n",
       "</style>\n",
       "<table border=\"1\" class=\"dataframe\">\n",
       "  <thead>\n",
       "    <tr style=\"text-align: right;\">\n",
       "      <th></th>\n",
       "      <th>phase_var</th>\n",
       "      <th>count</th>\n",
       "      <th>probability</th>\n",
       "      <th>bitstring</th>\n",
       "    </tr>\n",
       "  </thead>\n",
       "  <tbody>\n",
       "    <tr>\n",
       "      <th>0</th>\n",
       "      <td>0.500000</td>\n",
       "      <td>343</td>\n",
       "      <td>0.167480</td>\n",
       "      <td>1000000000</td>\n",
       "    </tr>\n",
       "    <tr>\n",
       "      <th>1</th>\n",
       "      <td>0.000000</td>\n",
       "      <td>336</td>\n",
       "      <td>0.164062</td>\n",
       "      <td>0000000000</td>\n",
       "    </tr>\n",
       "    <tr>\n",
       "      <th>2</th>\n",
       "      <td>0.666992</td>\n",
       "      <td>254</td>\n",
       "      <td>0.124023</td>\n",
       "      <td>1010101011</td>\n",
       "    </tr>\n",
       "    <tr>\n",
       "      <th>3</th>\n",
       "      <td>0.333008</td>\n",
       "      <td>234</td>\n",
       "      <td>0.114258</td>\n",
       "      <td>0101010101</td>\n",
       "    </tr>\n",
       "    <tr>\n",
       "      <th>4</th>\n",
       "      <td>0.833008</td>\n",
       "      <td>232</td>\n",
       "      <td>0.113281</td>\n",
       "      <td>1101010101</td>\n",
       "    </tr>\n",
       "    <tr>\n",
       "      <th>...</th>\n",
       "      <td>...</td>\n",
       "      <td>...</td>\n",
       "      <td>...</td>\n",
       "      <td>...</td>\n",
       "    </tr>\n",
       "    <tr>\n",
       "      <th>67</th>\n",
       "      <td>0.680664</td>\n",
       "      <td>1</td>\n",
       "      <td>0.000488</td>\n",
       "      <td>1010111001</td>\n",
       "    </tr>\n",
       "    <tr>\n",
       "      <th>68</th>\n",
       "      <td>0.823242</td>\n",
       "      <td>1</td>\n",
       "      <td>0.000488</td>\n",
       "      <td>1101001011</td>\n",
       "    </tr>\n",
       "    <tr>\n",
       "      <th>69</th>\n",
       "      <td>0.829102</td>\n",
       "      <td>1</td>\n",
       "      <td>0.000488</td>\n",
       "      <td>1101010001</td>\n",
       "    </tr>\n",
       "    <tr>\n",
       "      <th>70</th>\n",
       "      <td>0.830078</td>\n",
       "      <td>1</td>\n",
       "      <td>0.000488</td>\n",
       "      <td>1101010010</td>\n",
       "    </tr>\n",
       "    <tr>\n",
       "      <th>71</th>\n",
       "      <td>0.843750</td>\n",
       "      <td>1</td>\n",
       "      <td>0.000488</td>\n",
       "      <td>1101100000</td>\n",
       "    </tr>\n",
       "  </tbody>\n",
       "</table>\n",
       "<p>72 rows × 4 columns</p>\n",
       "</div>"
      ],
      "text/plain": [
       "    phase_var  count  probability   bitstring\n",
       "0    0.500000    343     0.167480  1000000000\n",
       "1    0.000000    336     0.164062  0000000000\n",
       "2    0.666992    254     0.124023  1010101011\n",
       "3    0.333008    234     0.114258  0101010101\n",
       "4    0.833008    232     0.113281  1101010101\n",
       "..        ...    ...          ...         ...\n",
       "67   0.680664      1     0.000488  1010111001\n",
       "68   0.823242      1     0.000488  1101001011\n",
       "69   0.829102      1     0.000488  1101010001\n",
       "70   0.830078      1     0.000488  1101010010\n",
       "71   0.843750      1     0.000488  1101100000\n",
       "\n",
       "[72 rows x 4 columns]"
      ]
     },
     "metadata": {},
     "output_type": "display_data"
    }
   ],
   "source": [
    "from IPython.display import display\n",
    "\n",
    "result = execute(qprog).get_sample_result()\n",
    "df = result.dataframe\n",
    "display(df)"
   ]
  },
  {
   "cell_type": "code",
   "execution_count": 13,
   "id": "33",
   "metadata": {},
   "outputs": [
    {
     "name": "stdout",
     "output_type": "stream",
     "text": [
      "For phase value 0.5: post processed fraction: 1/2\n",
      "For phase value 0.0: post processed fraction: 0\n",
      "For phase value 0.6669921875: post processed fraction: 2/3\n",
      "For phase value 0.3330078125: post processed fraction: 1/3\n",
      "For phase value 0.8330078125: post processed fraction: 5/6\n",
      "For phase value 0.1669921875: post processed fraction: 1/6\n",
      "For phase value 0.666015625: post processed fraction: 2/3\n",
      "For phase value 0.333984375: post processed fraction: 1/3\n",
      "For phase value 0.833984375: post processed fraction: 5/6\n",
      "For phase value 0.166015625: post processed fraction: 1/6\n",
      "For phase value 0.66796875: post processed fraction: 2/3\n",
      "For phase value 0.83203125: post processed fraction: 5/6\n",
      "For phase value 0.16796875: post processed fraction: 1/6\n",
      "For phase value 0.33203125: post processed fraction: 1/3\n",
      "For phase value 0.3349609375: post processed fraction: 1/3\n"
     ]
    }
   ],
   "source": [
    "df_filtered = df[df[\"count\"] > 10]\n",
    "fracs = set()\n",
    "for phase_res in df_filtered.phase_var:\n",
    "    processed_frac = continued_fraction_post_process(phase_res, modulo_num)\n",
    "    fracs.add(processed_frac)\n",
    "    print(f\"For phase value {phase_res}: post processed fraction: {processed_frac}\")"
   ]
  },
  {
   "cell_type": "markdown",
   "id": "34",
   "metadata": {},
   "source": [
    "We can see that the period is $r=6$, as can be read from all the results that are post-processed to $1/6$ or $5/6$.\n",
    "Let us plot the full distribution, together with the continued fraction approximation:"
   ]
  },
  {
   "cell_type": "code",
   "execution_count": 14,
   "id": "35",
   "metadata": {},
   "outputs": [],
   "source": [
    "positions = [float(f) for f in fracs]\n",
    "labels = [\"0\" if f == 0 else f\"{f.numerator}/{f.denominator}\" for f in fracs]"
   ]
  },
  {
   "cell_type": "code",
   "execution_count": 15,
   "id": "36",
   "metadata": {},
   "outputs": [
    {
     "data": {
      "image/png": "[encoded data removed]",
      "text/plain": [
       "<Figure size 1200x400 with 1 Axes>"
      ]
     },
     "metadata": {},
     "output_type": "display_data"
    }
   ],
   "source": [
    "import matplotlib.pyplot as plt\n",
    "\n",
    "fig, ax = plt.subplots(figsize=(12, 4))\n",
    "ax.bar(df[\"phase_var\"], df[\"probability\"], width=4 / 4**x_len)\n",
    "\n",
    "ax.set_xlabel(r\"$s/r$\", fontsize=16)\n",
    "ax.set_ylabel(r\"$p(s/r)$\", fontsize=16)\n",
    "ax.tick_params(axis=\"both\", labelsize=16)\n",
    "# Extra top axis with the resulting continued fraction approximation\n",
    "ax2 = ax.secondary_xaxis(\"top\")\n",
    "ax2.set_xticks(positions)\n",
    "ax2.set_xticklabels(labels, color=\"red\")\n",
    "ax2.set_xlabel(\"Extracted fractions\", fontsize=14, color=\"red\")\n",
    "ax2.tick_params(axis=\"both\", labelsize=14);"
   ]
  },
  {
   "cell_type": "markdown",
   "id": "37",
   "metadata": {},
   "source": [
    "We can clearly see that we have peaks at $\\frac{0}{6}, \\frac{1}{6}, \\frac{2}{6}, \\frac{3}{6} , \\frac{4}{6}, \\frac{5}{6}$, that is, the order is $r=6$."
   ]
  },
  {
   "cell_type": "code",
   "execution_count": 16,
   "id": "38",
   "metadata": {},
   "outputs": [],
   "source": [
    "for p in positions:\n",
    "    assert (p * 6).is_integer()\n",
    "r = 6"
   ]
  },
  {
   "cell_type": "markdown",
   "id": "39",
   "metadata": {},
   "source": [
    "All is left is to run the final step that determines the factor of $N$ out of $a$ and $r$:"
   ]
  },
  {
   "cell_type": "code",
   "execution_count": 17,
   "id": "40",
   "metadata": {},
   "outputs": [
    {
     "name": "stdout",
     "output_type": "stream",
     "text": [
      "The number 21 is factored by 3 and 7\n"
     ]
    }
   ],
   "source": [
    "factor1, factor2 = get_factors(a_num, r, modulo_num)\n",
    "assert factor1 * factor2 == modulo_num\n",
    "print(f\"The number {modulo_num} is factored by {factor1} and {factor2}\")"
   ]
  },
  {
   "cell_type": "markdown",
   "id": "41",
   "metadata": {},
   "source": [
    "## Technical Notes"
   ]
  },
  {
   "cell_type": "markdown",
   "id": "42",
   "metadata": {
    "jp-MarkdownHeadingCollapsed": true
   },
   "source": [
    "### The eigenphases and eigenstates of $f(x) = ax\\bmod{N}$\n",
    "\n",
    "Below we prove the claim that the modular multiplication by $a$, which is a co-prime of $N$, has the following eigenstates:\n",
    "$$\n",
    "|\\psi_s\\rangle =  \\frac{1}{\\sqrt{r}}\\sum^{r-1}_{k=0}e^{-2\\pi i sk/r}|a^{k}\\bmod{N}\\rangle, \\qquad s=0,1,\\dots, r-1,\n",
    "$$\n",
    "and the corresponding eigenvalues:\n",
    "$$\n",
    "\\lambda_s = e^{2\\pi i s/r},\n",
    "$$\n",
    "where $r$ is the order of the function.\n",
    "\n",
    "It is easy to verify that\n",
    "$$\n",
    "a|\\psi_s\\rangle = \\frac{1}{\\sqrt{r}}\\sum^{r-1}_{k=0}e^{-2\\pi i sk/r}|a^{k+1}\\bmod{N}\\rangle = \n",
    "\\frac{1}{\\sqrt{r}}\\sum^{r}_{k=1}e^{2\\pi i s/r}e^{-2\\pi i sk/r}|a^{k}\\bmod{N}\\rangle = e^{2\\pi i s/r}\\frac{1}{\\sqrt{r}}\\sum^{r-1}_{k=0}e^{-2\\pi i sk/r}|a^{k}\\bmod{N}\\rangle = e^{2\\pi i s/r}a|\\psi_s\\rangle,\n",
    "$$\n",
    "where in the second equality we just changed the sum index $k \\rightarrow k-1$, and the third one comes from the fact that the terms under the sum have a period of $r$, and the $r$-th term is equal to the $0$-th one."
   ]
  },
  {
   "cell_type": "markdown",
   "id": "43",
   "metadata": {},
   "source": [
    "### The initial state $|1\\rangle$ for the QPE"
   ]
  },
  {
   "cell_type": "markdown",
   "id": "44",
   "metadata": {},
   "source": [
    "Below we show that the state $|1\\rangle$ is an equal superposition of $|\\psi_s\\rangle$. We use the fact that \n",
    "$$\n",
    "\\sum^{r-1}_{k'=0} e^{-2\\pi i k'k/r} = r\\cdot \\delta_{k0},\n",
    "$$\n",
    "namely, the sum vanishes unless $k=0$. Calculating explicitly, we get\n",
    "$$\n",
    "\\frac{1}{\\sqrt{r}}\\sum^{r-1}_{k'=0}|\\psi_{k'}\\rangle = \\frac{1}{r}\\sum^{r-1}_{k'=0} \\sum^{r-1}_{k=0}e^{-2\\pi i k'k/r}|a^{k}\\bmod{N}\\rangle\n",
    "=\\frac{1}{r}\\sum^{r-1}_{k=0} \\left(\\sum^{r-1}_{k'=0} e^{-2\\pi i k'k/r}\\right)|a^{k}\\bmod{N}\\rangle\n",
    "=\\frac{1}{r}\\sum^{r-1}_{k=0} r\\delta_{k0}|a^{k}\\bmod{N}\\rangle = |1\\rangle.\n",
    "$$"
   ]
  },
  {
   "cell_type": "markdown",
   "id": "45",
   "metadata": {},
   "source": [
    "### The size of the phase variable\n",
    "\n",
    "In Shor’s algorithm, we choose the phase variable to be twice as large as the variable `x` on which we apply modular multiplication. This choice follows from the properties of the QPE routine and the continued fractions algorithm. Applying QPE with a phase variable of size $m$ yields an \n",
    "$m$-bit approximation of the exact phase $s/r$:\n",
    "$$\n",
    "\\left| \\frac{j}{2^m}-\\frac{s}{r}\\right|\\leq \\frac{1}{2^{m+1}}, \\text{   for some } 0\\leq k\\leq 2^{m-1}. \n",
    "$$\n",
    "Now, according to the continued fractions algorithm, if we run the it for $\\theta$ with $\\left| \\frac{s}{r}-\\theta\\right|\\leq \\frac{1}{2r^2}$,\n",
    "then both $j$ and $r$ can be we can recovered [<a href=\"#ref-shorsteps\">3</a>]. Thus, performing QPE with $m=2n$ gives\n",
    "$$\n",
    "\\left| \\frac{j}{2^m}-\\frac{s}{r}\\right|\\leq \\frac{1}{2^{2n+1}}\\leq \\frac{1}{2\\cdot N^{2}} \\leq \\frac{1}{2\\cdot r^{2}},\n",
    "$$\n",
    "which satisfies the requirement of the continued fractions algorithm (the last two inequlities comes from the fact the $r\\leq N\\leq 2^n$)."
   ]
  },
  {
   "cell_type": "markdown",
   "id": "46",
   "metadata": {},
   "source": [
    "<h2 id=\"references\">References</h2>\n",
    "<ol>\n",
    "  <li id=\"ref-integerfactor\">\n",
    "    Integer Factorization (Wikipedia) \n",
    "    &nbsp;-&nbsp;\n",
    "    <a href=\"https://en.wikipedia.org/wiki/Integer_factorization\" target=\"_blank\" rel=\"noopener noreferrer\">Wikipedia &#8599;</a>\n",
    "  </li>\n",
    "  <li id=\"ref-shor94\">\n",
    "    P. W. Shor, \"Algorithms for quantum computation: Discrete logarithms and factoring,\" Proceedings 35th Annual Symposium on Foundations of Computer Science (FOCS), IEEE, 1994. \n",
    "    &nbsp;-&nbsp;\n",
    "    <a href=\"https://ieeexplore.ieee.org/abstract/document/365700\" target=\"_blank\" rel=\"noopener noreferrer\">IEEE &#8599;</a>\n",
    "  </li>\n",
    "  <li id=\"ref-shorsteps\">\n",
    "    Shor's Algorithm Procedure (Wikipedia) \n",
    "    &nbsp;-&nbsp;\n",
    "    <a href=\"https://en.wikipedia.org/wiki/Shor%27s_algorithm#Procedure\" target=\"_blank\" rel=\"noopener noreferrer\">Wikipedia &#8599;</a>\n",
    "  </li>\n",
    "  <li id=\"ref-nielsenchuang\">\n",
    "    M. A. Nielsen & I. L. Chuang, \"Quantum Computation and Quantum Information\", Cambridge Univ. Press, 2001. ISBN 978-9812388582.\n",
    "  </li>\n",
    "<li id=\"ref-kiteav\">\n",
    "   Kitaev, A. Yu. \"Quantum measurements and the Abelian Stabilizer Problem\". arXiv:quant-ph/9511026 (1995).\n",
    "    &nbsp;-&nbsp;\n",
    "      <a href=\"https://arxiv.org/abs/quant-ph/9511026\" target=\"_blank\" rel=\"noopener noreferrer\">arxiv &#8599;</a>\n",
    "</ol>\n"
   ]
  }
 ],
 "metadata": {
  "kernelspec": {
   "display_name": "Python 3 (ipykernel)",
   "language": "python",
   "name": "python3"
  },
  "language_info": {
   "codemirror_mode": {
    "name": "ipython",
    "version": 3
   },
   "file_extension": ".py",
   "mimetype": "text/x-python",
   "name": "python",
   "nbconvert_exporter": "python",
   "pygments_lexer": "ipython3",
   "version": "3.11.9"
  }
 },
 "nbformat": 4,
 "nbformat_minor": 9
}
