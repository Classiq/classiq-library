{
 "cells": [
  {
   "cell_type": "markdown",
   "id": "e3dd64c6-28cc-418f-ae4a-fadd4791e6b2",
   "metadata": {
    "tags": []
   },
   "source": [
    "\n",
    "# Factoring 15 with Shor's Algorithm\n",
    "\n"
   ]
  },
  {
   "cell_type": "markdown",
   "id": "fbfe5758-7fa5-4596-9473-582d3197abe8",
   "metadata": {
    "jp-MarkdownHeadingCollapsed": true
   },
   "source": [
    "## Introduction\n",
    "\n",
    "The integer factorization problem [[1](#IntegerFactor)] is a famous problem in number theory: given a number $N$ which is composite, find its prime factors. The importance of the problem stems from the fact that no efficient (polynomial-time, in the number of bits needed to represent $N$) classical algorithm is known for it to this day, and much of modern day cryptography relies on this fact. In 1994, Peter Shor came up with an efficient _quantum_ algorithm for the problem [[2](#Shor94)] - providing one of the first concrete pieces of evidence for the power of quantum computers.\n",
    "\n",
    "### Shor's Algorithm\n",
    "\n",
    "Shor's algorithm consists of a classical part and a quantum subroutine. The steps of the algorithm for factoring an input number $N$, summarized from [[3](#ShorSteps)], are as follows:\n",
    "\n",
    "1. Pick a random number $1 < a < N$ that is co-prime with $N$. Co-primality can be checked by computing the GCD (greatest common divisor) of $a$ and $N$ - if it is 1 then we have found a co-prime $a$, otherwise we have found a non-trivial factor of $N$ and we are done.\n",
    "2. Find the period $r$ of the following function, using the quantum period finding algorithm (described in [[4](#PeriodFinding)]): $$f(x) = a^x \\mod N$$\n",
    "3. If $r$ is odd or $a^{r/2} = -1 \\mod N$, return to step 1 (this event can be shown to happen with probability at most $1/2$).\n",
    "4. Otherwise, $\\gcd(a^{r/2} \\pm 1, N)$ are both factors of $N$, and computing one of them yields the required result.\n",
    "\n",
    "In this demo, we will factor the number $N=15$ using Shor's algorithm, by applying the quantum subroutine (step 2) with $a=7$. This particular $a$ is chosen since it is co-prime with 15 and satisfies the conditions of step 3, providing us with a high probability of finding a factor of $N$.\n"
   ]
  },
  {
   "cell_type": "markdown",
   "id": "9cc49f8e-2d6a-4a34-ae27-8e6081a10701",
   "metadata": {},
   "source": [
    "## Building the quantum period finding circuit\n",
    "\n",
    "We begin by declaring the number of qubits in the upper (counting) register the quantum subroutine uses. In our case, $N = 15$, and according to the algorithm the upper register must contain $q = \\log(Q)$ qubits for $Q$ such that $N^2 \\le Q < 2N^2$, namely $225 < Q < 450$, and therefore $q = 8$. In addition, the second register should be large enough to encode 15, hence:"
   ]
  },
  {
   "cell_type": "code",
   "execution_count": 1,
   "id": "8fe7f452-9fa7-484c-a824-2d521d90ee8e",
   "metadata": {
    "execution": {
     "iopub.execute_input": "2023-12-06T02:09:08.538461Z",
     "iopub.status.busy": "2023-12-06T02:09:08.538233Z",
     "iopub.status.idle": "2023-12-06T02:09:08.711631Z",
     "shell.execute_reply": "2023-12-06T02:09:08.710905Z"
    },
    "tags": []
   },
   "outputs": [],
   "source": [
    "import numpy as np\n",
    "\n",
    "N = 15\n",
    "\n",
    "num_counting_qubits = int(np.ceil(np.log2(N**2)))\n",
    "num_auxilliary_qubits = int(np.ceil(np.log2(N)))"
   ]
  },
  {
   "cell_type": "markdown",
   "id": "21042631-a0b7-497a-9a91-2bb8e76e4562",
   "metadata": {},
   "source": [
    "We will implement a Phase Estimation [[5](#PhaseEstimation)] circuit. Each element in the circuit is a controlled operation of: $$|x\\rangle \\rightarrow |x\\cdot a^{2^i}\\mod N \\rangle $$ where $a < N$ is a number such that $\\gcd(a, N)=1$. For this demonstration we picked $a=7$. $i$ is the index of the control qubit, located in the upper register.\n",
    "\n",
    "It is quiet involved to implement these unitaries, so for this demo we will make a shortcut, and compute exactly the unitary matrix that implements the computation (which in the general case is not applicable as this pre-processing is exponential). We will do so by calculating the modular-multiplication by $a$ matrix, then using its powers.\n",
    "\n",
    "The function `unitary` is used for decomposing the unitary matrix into quantum gates."
   ]
  },
  {
   "cell_type": "code",
   "execution_count": 2,
   "id": "4e0570a0-efd5-4957-b75a-c7d72e5273d6",
   "metadata": {
    "execution": {
     "iopub.execute_input": "2023-12-06T02:09:08.715568Z",
     "iopub.status.busy": "2023-12-06T02:09:08.715267Z",
     "iopub.status.idle": "2023-12-06T02:09:11.619734Z",
     "shell.execute_reply": "2023-12-06T02:09:11.618953Z"
    },
    "tags": []
   },
   "outputs": [],
   "source": [
    "import sympy\n",
    "\n",
    "from classiq import (\n",
    "    H,\n",
    "    Output,\n",
    "    QArray,\n",
    "    QBit,\n",
    "    QFunc,\n",
    "    QParam,\n",
    "    X,\n",
    "    allocate,\n",
    "    control,\n",
    "    create_model,\n",
    "    hadamard_transform,\n",
    "    invert,\n",
    "    join,\n",
    "    qft,\n",
    "    repeat,\n",
    "    split,\n",
    "    unitary,\n",
    ")\n",
    "\n",
    "\n",
    "def get_modular_multiplication_matrix():\n",
    "    # fmt: off\n",
    "    swap = np.array(\n",
    "        [\n",
    "            [1, 0, 0, 0],\n",
    "            [0, 0, 1, 0],\n",
    "            [0, 1, 0, 0],\n",
    "            [0, 0, 0, 1]\n",
    "        ],\n",
    "        dtype=complex\n",
    "    )\n",
    "    # fmt: on\n",
    "    swap32 = np.kron(np.identity(4), swap)\n",
    "    swap21 = np.kron(np.kron(np.identity(2), swap), np.identity(2))\n",
    "    swap10 = np.kron(swap, np.identity(4))\n",
    "    x = np.array([[0, 1], [1, 0]])\n",
    "    x_all = np.kron(np.kron(x, x), np.kron(x, x))\n",
    "    u = x_all @ swap10 @ swap21 @ swap32\n",
    "    return u\n",
    "\n",
    "\n",
    "MODULAR_MUL_UNITARY = get_modular_multiplication_matrix().real.tolist()\n",
    "\n",
    "\n",
    "@QFunc\n",
    "def modular_exponentiation(\n",
    "    power: QParam[int], target: QArray[QBit, num_auxilliary_qubits]\n",
    ") -> None:\n",
    "    unitary(elements=sympy.Matrix(MODULAR_MUL_UNITARY) ** (2**power), target=target)"
   ]
  },
  {
   "cell_type": "markdown",
   "id": "545bb4fd-ff8f-4ff8-b86d-d89808d91abb",
   "metadata": {},
   "source": [
    "### Building the complete circuit"
   ]
  },
  {
   "cell_type": "markdown",
   "id": "a97036e1-87cf-4506-ae61-dd15588ec247",
   "metadata": {},
   "source": [
    "At the first layer of the quantum circuit, we prepare the equal superposition state in the top (counting) register, and prepare the $|1\\rangle$ state in the bottom (auxiliary) register."
   ]
  },
  {
   "cell_type": "markdown",
   "id": "05072f38-8ffd-482c-9af0-8aa4b404c2f1",
   "metadata": {},
   "source": [
    "We then apply the second layer of the circuit, which consists of the controlled $U^{2^i}$ gates. \n",
    "Lastly, we apply an inverse QFT on the counting register, to get the period."
   ]
  },
  {
   "cell_type": "code",
   "execution_count": 3,
   "id": "b2c2aeac-2049-45fe-a529-f98aed009b37",
   "metadata": {
    "execution": {
     "iopub.execute_input": "2023-12-06T02:09:11.631991Z",
     "iopub.status.busy": "2023-12-06T02:09:11.623853Z",
     "iopub.status.idle": "2023-12-06T02:09:11.638024Z",
     "shell.execute_reply": "2023-12-06T02:09:11.637411Z"
    },
    "tags": []
   },
   "outputs": [],
   "source": [
    "@QFunc\n",
    "def period_finding(\n",
    "    qv_counting: Output[QArray[QBit, num_counting_qubits]],\n",
    "    qv_auxilliary: Output[QArray[QBit, num_auxilliary_qubits]],\n",
    ") -> None:\n",
    "    # start with a hadamard transform in the counting register\n",
    "    allocate(num_counting_qubits, qv_counting)\n",
    "    hadamard_transform(qv_counting)\n",
    "\n",
    "    # Prepare the |1> state on the lower register\n",
    "    allocate(num_auxilliary_qubits, qv_auxilliary)\n",
    "    X(qv_auxilliary[0])\n",
    "\n",
    "    # Apply the contolled modular-exponentiations using each of the counting qubits\n",
    "    repeat(\n",
    "        count=num_auxilliary_qubits,\n",
    "        iteration=lambda index: control(\n",
    "            operand=lambda: modular_exponentiation(index, qv_auxilliary),\n",
    "            ctrl=qv_counting[index],\n",
    "        ),\n",
    "    )  # ! not working with qv[a:]\n",
    "\n",
    "    # Lastly, apply an inverse QFT\n",
    "    invert(lambda: qft(qv_counting))"
   ]
  },
  {
   "cell_type": "markdown",
   "id": "579c9843-907e-4454-a92c-6a0a04d0615c",
   "metadata": {},
   "source": [
    "### Quantum entry point\n",
    "In order to synthesize the circuit, we define a quantum `main` function. As are we only interested in the output of the counting register, we only define it in the signature of the function.\n",
    "\n",
    "Next, we translate it to qmod using the `create_model`."
   ]
  },
  {
   "cell_type": "code",
   "execution_count": 4,
   "id": "4d7da11c-adfc-4ac8-9277-0c97fd65539e",
   "metadata": {
    "execution": {
     "iopub.execute_input": "2023-12-06T02:09:11.642581Z",
     "iopub.status.busy": "2023-12-06T02:09:11.641412Z",
     "iopub.status.idle": "2023-12-06T02:09:12.178476Z",
     "shell.execute_reply": "2023-12-06T02:09:12.177538Z"
    },
    "tags": []
   },
   "outputs": [],
   "source": [
    "@QFunc\n",
    "def main(qv_counting: Output[QArray[QBit, num_counting_qubits]]) -> None:\n",
    "    qv_auxilliary = QArray(\"qv_auxilliary\")\n",
    "    period_finding(qv_counting, qv_auxilliary)\n",
    "\n",
    "\n",
    "qmod = create_model(main)"
   ]
  },
  {
   "cell_type": "code",
   "execution_count": 5,
   "id": "3adf6690-8f4c-495e-9ddc-f4702f1efcdd",
   "metadata": {
    "execution": {
     "iopub.execute_input": "2023-12-06T02:09:12.182297Z",
     "iopub.status.busy": "2023-12-06T02:09:12.182040Z",
     "iopub.status.idle": "2023-12-06T02:09:12.190803Z",
     "shell.execute_reply": "2023-12-06T02:09:12.185507Z"
    }
   },
   "outputs": [],
   "source": [
    "with open(\"shor.qmod\", \"w\") as f:\n",
    "    f.write(qmod)"
   ]
  },
  {
   "cell_type": "markdown",
   "id": "08e1a6a0-137d-4c49-a215-97daa2197f5c",
   "metadata": {},
   "source": [
    "We now send the model to the synthesis engine, taking a few seconds:"
   ]
  },
  {
   "cell_type": "code",
   "execution_count": 6,
   "id": "d1eb4133-896d-4e2d-8253-83eb68bf467d",
   "metadata": {
    "execution": {
     "iopub.execute_input": "2023-12-06T02:09:12.194229Z",
     "iopub.status.busy": "2023-12-06T02:09:12.193992Z",
     "iopub.status.idle": "2023-12-06T02:09:38.739376Z",
     "shell.execute_reply": "2023-12-06T02:09:38.738593Z"
    },
    "tags": []
   },
   "outputs": [],
   "source": [
    "from classiq import synthesize\n",
    "\n",
    "qprog = synthesize(qmod)"
   ]
  },
  {
   "cell_type": "markdown",
   "id": "47ce0b6d-839a-4b4c-82cd-daf4b9b5be14",
   "metadata": {},
   "source": [
    "We can now view the circuit and its depth:"
   ]
  },
  {
   "cell_type": "code",
   "execution_count": 7,
   "id": "08ce2565-5197-4c7a-b7c5-1dad94e4e46a",
   "metadata": {
    "execution": {
     "iopub.execute_input": "2023-12-06T02:09:38.744532Z",
     "iopub.status.busy": "2023-12-06T02:09:38.743320Z",
     "iopub.status.idle": "2023-12-06T02:09:39.367121Z",
     "shell.execute_reply": "2023-12-06T02:09:39.366378Z"
    },
    "tags": []
   },
   "outputs": [
    {
     "name": "stdout",
     "output_type": "stream",
     "text": [
      "Opening: https://platform.classiq.io/circuit/e4631088-3bed-4786-aae5-18f30f3487ce?version=0.34.0.dev0%2B124706fb0e\n"
     ]
    }
   ],
   "source": [
    "from classiq import show\n",
    "\n",
    "show(qprog)"
   ]
  },
  {
   "cell_type": "markdown",
   "id": "3fc7fe66-c1ca-46b0-9272-cfcc3c6e73f3",
   "metadata": {
    "tags": []
   },
   "source": [
    "## Executing the circuit\n",
    "\n",
    "Now, we turn to executing the circuit above, using the simulator:"
   ]
  },
  {
   "cell_type": "code",
   "execution_count": 8,
   "id": "3f2ba37b-f01b-48f2-85a0-ccae575d3de5",
   "metadata": {
    "execution": {
     "iopub.execute_input": "2023-12-06T02:09:39.372090Z",
     "iopub.status.busy": "2023-12-06T02:09:39.370873Z",
     "iopub.status.idle": "2023-12-06T02:09:42.921201Z",
     "shell.execute_reply": "2023-12-06T02:09:42.920473Z"
    },
    "tags": []
   },
   "outputs": [],
   "source": [
    "from classiq import execute\n",
    "\n",
    "results = execute(qprog).result()\n",
    "res = results[0].value"
   ]
  },
  {
   "cell_type": "code",
   "execution_count": 9,
   "id": "a7c5710d-f360-4500-b489-0986b7178938",
   "metadata": {
    "execution": {
     "iopub.execute_input": "2023-12-06T02:09:42.926168Z",
     "iopub.status.busy": "2023-12-06T02:09:42.924943Z",
     "iopub.status.idle": "2023-12-06T02:09:42.930272Z",
     "shell.execute_reply": "2023-12-06T02:09:42.929669Z"
    },
    "tags": []
   },
   "outputs": [],
   "source": [
    "import collections\n",
    "\n",
    "hist_counting_qubits = collections.defaultdict(int)\n",
    "for key, value in res.counts.items():\n",
    "    hist_counting_qubits[key] += value"
   ]
  },
  {
   "cell_type": "markdown",
   "id": "c351af0c-696b-4ba9-b671-f9759c1ca387",
   "metadata": {},
   "source": [
    "Plotting the result:"
   ]
  },
  {
   "cell_type": "code",
   "execution_count": 10,
   "id": "b0f701d4-69ff-4263-aba4-94a234be8f4e",
   "metadata": {
    "execution": {
     "iopub.execute_input": "2023-12-06T02:09:42.934968Z",
     "iopub.status.busy": "2023-12-06T02:09:42.933563Z",
     "iopub.status.idle": "2023-12-06T02:09:43.190974Z",
     "shell.execute_reply": "2023-12-06T02:09:43.190271Z"
    },
    "tags": []
   },
   "outputs": [
    {
     "data": {
      "text/plain": [
       "<BarContainer object of 4 artists>"
      ]
     },
     "execution_count": 10,
     "metadata": {},
     "output_type": "execute_result"
    },
    {
     "data": {
      "image/png": "[encoded data removed]",
      "text/plain": [
       "<Figure size 640x480 with 1 Axes>"
      ]
     },
     "metadata": {},
     "output_type": "display_data"
    }
   ],
   "source": [
    "import matplotlib.pyplot as plt\n",
    "\n",
    "plt.bar(hist_counting_qubits.keys(), hist_counting_qubits.values())"
   ]
  },
  {
   "cell_type": "markdown",
   "id": "993ec133-5185-4aec-a396-b0cb6762e9bb",
   "metadata": {},
   "source": [
    "We obtained 4 results $y$ from the circuit, each with probability roughly $1/4$: $0, 64, 128$ and $192$. Dividing by $Q = 256$ we obtain 4 reduced fractions: $0, 1/4, 1/2$ and $3/4$, with two of them having the correct period $r=4$ in the denominator. With this period, we can compute the factors of $N = 15$: $\\gcd(a^{r/2} \\pm 1, N) = \\gcd(7^2 \\pm 1, 15) = 3, 5$.\n",
    "\n",
    "## References\n",
    "\n",
    "<a id='IntegerFactor'>[1]</a>: [Integer Factorization (Wikipedia)](https://en.wikipedia.org/wiki/Integer_factorization)\n",
    "\n",
    "<a id='Shor94'>[2]</a>: [Shor, Peter W. \"Algorithms for quantum computation: discrete logarithms and factoring.\" Proceedings 35th annual symposium on foundations of computer science. Ieee, 1994.](https://ieeexplore.ieee.org/abstract/document/365700)\n",
    "\n",
    "<a id='ShorSteps'>[3]</a>: [Shor's Algorithm Procedure (Wikipedia)](https://en.wikipedia.org/wiki/Shor%27s_algorithm#Procedure)\n",
    "\n",
    "<a id='PeriodFinding'>[4]</a>: [Quantum Period Finding (Wikipedia)](https://en.wikipedia.org/wiki/Shor%27s_algorithm#Quantum_part:_period-finding_subroutine)\n",
    "\n",
    "<a id='PhaseEstimation'>[5]</a>: [Quantum Phase Estimation (Wikipedia)](https://en.wikipedia.org/wiki/Quantum_phase_estimation_algorithm)\n"
   ]
  }
 ],
 "metadata": {
  "kernelspec": {
   "display_name": "Python 3 (ipykernel)",
   "language": "python",
   "name": "python3"
  },
  "language_info": {
   "codemirror_mode": {
    "name": "ipython",
    "version": 3
   },
   "file_extension": ".py",
   "mimetype": "text/x-python",
   "name": "python",
   "nbconvert_exporter": "python",
   "pygments_lexer": "ipython3",
   "version": "3.11.6"
  }
 },
 "nbformat": 4,
 "nbformat_minor": 5
}
