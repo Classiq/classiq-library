{
 "cells": [
  {
   "cell_type": "markdown",
   "id": "0",
   "metadata": {},
   "source": [
    "# Shor's Factoring Algorithm\n"
   ]
  },
  {
   "cell_type": "markdown",
   "id": "1",
   "metadata": {
    "jp-MarkdownHeadingCollapsed": true
   },
   "source": [
    "<blockquote style=\"background:rgba(59,130,246,.08);border-left:6px solid #3b82f6;padding:1rem 1.25rem;margin:.5rem 0;\">\n",
    "<strong>Integer factorization</strong> [<a href=\"#ref-integerfactor\">1</a>],   is a famous problem in number theory: given a composite number $N$, find its prime factors. The importance of the problem stems from there being no known efficient classical algorithm (in the number of bits needed to represent $N$ in polynomial time), and much of modern-day cryptography relies on this fact. In 1994, Peter Shor came up with an efficient <strong>  quantum </strong> algorithm for the problem [<a href=\"#ref-shor94\">2</a>]; providing, arguably, the most important evidence for an exponential advantage of quantum computing over classical computing.\n",
    " <br> \n",
    "    <ul> \n",
    "        <li><strong>Input:</strong> A composite integer $N$ .\n",
    "        </li> \n",
    "        <li><strong>Promise:</strong> $N$ is not a prime power and has at least one nontrivial factor.\n",
    "        </li> <li><strong>Output:</strong> With high probability, a nontrivial factor of $N$. \n",
    "</li> </ul> <br> <strong>Complexity:</strong> Runs in $\\mathrm{polylog}(N)$ time, i.e. polynomial in $\\log N$, giving an exponential speedup over the best-known classical factoring algorithms. \n",
    "    <hr> <strong>Keywords:</strong> Integer factoring, Order-finding, Period finding, Phase estimation, Hidden subgroup over $\\mathbb{Z}$, RSA/ECC break, Cryptography, Exponential speedup, Modular exponentiation. </blockquote>"
   ]
  },
  {
   "cell_type": "markdown",
   "id": "2",
   "metadata": {},
   "source": [
    "Shor's algorithm consists of classical parts and a quantum subroutine. The notebook is organized as follows: First, as an introduction, we outline the steps of the algorithm for factoring an input number $N$, summarized from [<a href=\"#ref-shorsteps\">3</a>]. Then, we construct all the classical and quantum components of the algorithm, and run a simple example. Brief technical details, explaining how the algorithm works, are given together with the implementation, whereas some complex technical details are given at the end of the notebook.\n",
    "\n",
    "The steps of Shor's algorithm:\n",
    "\n",
    "1. Pick a random number $1 < a < N$ that is co-prime with $N$. Check co-primality by computing the GCD (greatest common divisor) of $a$ and $N$. If it is 1, then we have a co-prime $a$; otherwise, we have a non-trivial factor of $N$, and we are done (the GCD complexity is $O(\\log(N))$).\n",
    "2. Find the period $r$ of the following function, using the **quantum period finding algorithm**: $$f(x) = a^x\\hspace{-8pt} \\mod \\hspace{-4pt} N$$\n",
    "3. If $r$ is odd or $a^{r/2} = -1 \\bmod{N}$, return to step 1 (this event can be shown to happen with probability at most $1/2$).\n",
    "4. Otherwise, $\\gcd(a^{r/2} \\pm 1, N)$ are both factors of $N$, and computing one of them yields the required result.\n",
    "\n",
    "Next, we move to the implementation of each and every step. *The quantum part is designed naturally as a Quantum Phase Estimation (QPE) routine, using Classiq's `flexible_qpe` and Modular Arithmetic*.\n",
    "\n",
    "***\n",
    "***"
   ]
  },
  {
   "cell_type": "markdown",
   "id": "3",
   "metadata": {},
   "source": [
    "## Finding a co-prime of $N$\n",
    "\n",
    "This is a simple classical preprocess for the algorithm. We randomly pick an integer $a$ in $(1,N)$, and check whether it is a co-prime of $N$ by calling the Euclidian GCD algorithm. If the sampled integer is not a co-prime then we find a factor of $N$ and we are done. (When we run the algorithm for a specific example below, we will fix a co-prime $a$ in advance, such that we have a meaningful demo with a quantum part). "
   ]
  },
  {
   "cell_type": "code",
   "execution_count": 1,
   "id": "4",
   "metadata": {},
   "outputs": [],
   "source": [
    "import numpy as np\n",
    "\n",
    "\n",
    "def random_coprime(N):\n",
    "    \"\"\"\n",
    "    Draw an integer in (1,N), and check if it is a co-prime of N. If True, return it, otherwise, we factor N.\n",
    "    \"\"\"\n",
    "    while True:\n",
    "        a = np.random.randint(2, N)\n",
    "        gcd_a = np.gcd(a, N)\n",
    "        if gcd_a == 1:\n",
    "            return int(a), gcd_a\n",
    "        else:\n",
    "            print(f\"The number {N} is factored by {np.gcd(a, N)} and {N//np.gcd(a, N)}\")\n",
    "            return int(a), gcd_a"
   ]
  },
  {
   "cell_type": "markdown",
   "id": "5",
   "metadata": {},
   "source": [
    "We can run a simple example:"
   ]
  },
  {
   "cell_type": "code",
   "execution_count": 2,
   "id": "6",
   "metadata": {},
   "outputs": [
    {
     "name": "stdout",
     "output_type": "stream",
     "text": [
      "The numbers 98349725 and 123456789 have the greatest common divisor 1\n"
     ]
    }
   ],
   "source": [
    "N = 123456789\n",
    "a, gcd_a = random_coprime(N)\n",
    "print(f\"The numbers {a} and {N} have the greatest common divisor {gcd_a}\")"
   ]
  },
  {
   "cell_type": "markdown",
   "id": "7",
   "metadata": {},
   "source": [
    "## Quantum Period Finding as a QPE routine"
   ]
  },
  {
   "cell_type": "markdown",
   "id": "8",
   "metadata": {},
   "source": [
    "The core part of Shor's algorithm, is the period finding of the function $f(x) = a^x\\bmod{N}$:\n",
    "$$\n",
    "\\text{Find the minimal integer } r \\text{ such that: } a^r  =1 \\bmod{N} .\n",
    "$$\n",
    "This can be computed via Quantum Phase Estimation (QPE) [<a href=\"#ref-nielsenchuang\">4</a>] (QPE was not discussed in the original formulation of Shor's algorithm but was later proposed by Kitaev [<a href=\"#ref-kiteav\">5</a>]) . Recall that the  QPE routine, when applied for a unitary $U$ and on one of its eigenstates $|\\psi_\\theta\\rangle$, produces an approximation of the corresponding eigenphase $\\theta$:\n",
    "$$\n",
    "|\\psi_{\\theta}\\rangle|0\\rangle_m  \\xrightarrow[\\text{QPE}(U)]{} |\\psi_{\\theta}\\rangle|\\tilde{\\theta}\\rangle_m ,\n",
    "$$\n",
    "where $U|\\psi_\\theta\\rangle = e^{2\\pi i \\theta}|\\psi_\\theta\\rangle$ and $|\\tilde{\\theta}\\rangle_m$ encodes an $m$-bit estimate of $\\theta$ (in practice, the estimate $\\tilde{\\theta}$ is obtained by measurement, and the approximation holds with high probability up to an error of order $1/2^m$).\n",
    "\n",
    "We can find the order $r$ by applying QPE for the unitary \n",
    "$$\n",
    "U_a|x\\rangle = |ax\\bmod{N}\\rangle,\n",
    "$$\n",
    "following the two facts (that are proven at the end of this notebook):\n",
    "1. The unitary $U_a$  has $r$ eigenstates:\n",
    "$$\n",
    "|\\psi_s\\rangle\\equiv \\frac{1}{\\sqrt{r}}\\sum^{r-1}_{k=0}e^{-2\\pi i sk/r}|a^{k}\\bmod{N}\\rangle \\text{   with eigenvalues  }\n",
    "\\lambda_s = e^{2\\pi i s/r}, \\qquad s=0,1,\\dots, r-1.\n",
    "$$\n",
    "2. We can easily prepare an equal superposition of $|\\psi_s\\rangle$, since\n",
    "$$\n",
    "|1\\rangle = \\frac{1}{\\sqrt{r}}\\sum^{r-1}_{k=0}|\\psi_s\\rangle.\n",
    "$$\n",
    "\n",
    "Therefore, by applying a QPE for $U_a$, on the state $|1\\rangle$, we get an equal superposition for the estimation of the eigenphases $\\{s/r\\}^{r-1}_{s=0}$:\n",
    "$$\n",
    "|1\\rangle|0\\rangle_m  \\xrightarrow[\\text{QPE}(U_a)]{} \\frac{1}{\\sqrt{r}}\\sum^{r-1}_{s=0}|\\psi_{s}\\rangle|\\tilde{s/r}\\rangle_m.\n",
    "$$\n",
    "\n",
    "How to extract the period $r$ from the resulting state is shown in the following section. In this section we focus on the implementation of the quantum part. We work with the `qpe_flexible` function, that allows to pass a unitary with a specified powered operation. In particular, in our case we have\n",
    "$$\n",
    "\\left(U_a\\right)^{p}|x\\rangle =|a^p x\\bmod{N}\\rangle\n",
    "$$"
   ]
  },
  {
   "cell_type": "code",
   "execution_count": 3,
   "id": "9",
   "metadata": {},
   "outputs": [],
   "source": [
    "from classiq import *\n",
    "\n",
    "\n",
    "@qfunc\n",
    "def period_finding(n: CInt, a: CInt, x: QArray, phase_var: QNum):\n",
    "    qpe_flexible(lambda p: inplace_modular_multiply(n, a**p, x), phase_var)"
   ]
  },
  {
   "attachments": {
    "0e10b3c1-c307-4150-a69f-a5a679d08941.png": {
     "image/png": "[encoded data removed]"
    }
   },
   "cell_type": "markdown",
   "id": "10",
   "metadata": {},
   "source": [
    "![Screenshot 2025-09-30 at 12.15.53.png](attachment:0e10b3c1-c307-4150-a69f-a5a679d08941.png)\n",
    "<center>\n",
    "    The quantum period finding algorithm.\n",
    "</center>"
   ]
  },
  {
   "cell_type": "markdown",
   "id": "11",
   "metadata": {},
   "source": [
    "### Postprocess with continued fractions algorithm"
   ]
  },
  {
   "cell_type": "markdown",
   "id": "12",
   "metadata": {},
   "source": [
    "The outcome distribution for the `phase_var` variable out of the QPE is in $[0,1)$, and expected to be peaked around $r$ values: $s/r$ for $s=0,1,\\dots, r-1$. We can extract the value of $r$ by using the continued fractions algorithm: any rational (irrational) number can be written as a finite (infinite) converging sequence of fractions:\n",
    "$$\n",
    "x\n",
    "= a_0\n",
    "+ \\cfrac{1}{a_1\n",
    "  + \\cfrac{1}{a_2\n",
    "    + \\cfrac{1}{a_3\n",
    "      + \\ddots}}} .\n",
    "$$\n",
    "There is an efficient classical algorithm for extracting $a_i$. For example, using `sympy`:"
   ]
  },
  {
   "cell_type": "code",
   "execution_count": 4,
   "id": "13",
   "metadata": {},
   "outputs": [
    {
     "name": "stdout",
     "output_type": "stream",
     "text": [
      "Continued fraction convergents for 17/1024:  [0, 1/60, 4/241, 17/1024]\n"
     ]
    }
   ],
   "source": [
    "from sympy import Rational\n",
    "from sympy.ntheory.continued_fraction import (\n",
    "    continued_fraction,\n",
    "    continued_fraction_convergents,\n",
    ")\n",
    "\n",
    "phase_value = Rational(17 / 1024)\n",
    "list_of_continued_fraction = list(\n",
    "    continued_fraction_convergents(continued_fraction(phase_value))\n",
    ")\n",
    "print(\n",
    "    f\"Continued fraction convergents for {phase_value}:  {list_of_continued_fraction}\"\n",
    ")"
   ]
  },
  {
   "cell_type": "markdown",
   "id": "14",
   "metadata": {},
   "source": [
    "Thus, we can extract $r$ in the following way:\n",
    "* Filter the distribution of the `phase_var` variable around some threshold.\n",
    "* For each value of `phase_var`, calculate the series of rational numbers $p_i/q_i$ that correspond to the continued fractions sereis.\n",
    "* Pick only fractions with $q_i<N$, we should see fractions that fit $s/r$ for $s=0,1,\\dots, r-1$.\n",
    "\n",
    "Let us define a function that applies those steps on the execution results of the period finding algorithm. It gets a dataframe object of the results, and returns a dataframe with the additional data: "
   ]
  },
  {
   "cell_type": "code",
   "execution_count": 5,
   "id": "15",
   "metadata": {},
   "outputs": [],
   "source": [
    "import pandas as pd\n",
    "\n",
    "\n",
    "def continued_fraction_post_process(df, n, threshold):\n",
    "    out = df.loc[df[\"probability\"] > threshold].copy()\n",
    "\n",
    "    def proc(x):\n",
    "        if pd.isna(x):\n",
    "            return [], None\n",
    "        # Extract continued fraction convergents\n",
    "        convs = list(continued_fraction_convergents(continued_fraction(Rational(x))))\n",
    "        # Eliminate fractions with denominator > n\n",
    "        trimmed = [c for c in convs if c.as_numer_denom()[1] < n]\n",
    "        # Store the last continued fraction_convergent\n",
    "        lastf = trimmed[-1] if trimmed else None\n",
    "        return trimmed, lastf\n",
    "\n",
    "    out[[\"trimmed_list\", \"last_frac\"]] = (\n",
    "        out[\"phase_var\"].map(proc).apply(pd.Series, index=[\"trimmed_list\", \"last_frac\"])\n",
    "    )\n",
    "    return out"
   ]
  },
  {
   "cell_type": "markdown",
   "id": "16",
   "metadata": {},
   "source": [
    "Let us see an example, consider the following result out of the period finding algorithm:"
   ]
  },
  {
   "cell_type": "code",
   "execution_count": 6,
   "id": "17",
   "metadata": {},
   "outputs": [
    {
     "data": {
      "text/html": [
       "<div>\n",
       "<style scoped>\n",
       "    .dataframe tbody tr th:only-of-type {\n",
       "        vertical-align: middle;\n",
       "    }\n",
       "\n",
       "    .dataframe tbody tr th {\n",
       "        vertical-align: top;\n",
       "    }\n",
       "\n",
       "    .dataframe thead th {\n",
       "        text-align: right;\n",
       "    }\n",
       "</style>\n",
       "<table border=\"1\" class=\"dataframe\">\n",
       "  <thead>\n",
       "    <tr style=\"text-align: right;\">\n",
       "      <th></th>\n",
       "      <th>phase_var</th>\n",
       "      <th>probability</th>\n",
       "    </tr>\n",
       "  </thead>\n",
       "  <tbody>\n",
       "    <tr>\n",
       "      <th>0</th>\n",
       "      <td>0.195312</td>\n",
       "      <td>0.92</td>\n",
       "    </tr>\n",
       "    <tr>\n",
       "      <th>1</th>\n",
       "      <td>0.391602</td>\n",
       "      <td>0.35</td>\n",
       "    </tr>\n",
       "    <tr>\n",
       "      <th>2</th>\n",
       "      <td>0.000000</td>\n",
       "      <td>0.76</td>\n",
       "    </tr>\n",
       "    <tr>\n",
       "      <th>3</th>\n",
       "      <td>0.125000</td>\n",
       "      <td>0.03</td>\n",
       "    </tr>\n",
       "    <tr>\n",
       "      <th>4</th>\n",
       "      <td>0.596680</td>\n",
       "      <td>0.90</td>\n",
       "    </tr>\n",
       "    <tr>\n",
       "      <th>5</th>\n",
       "      <td>0.800781</td>\n",
       "      <td>0.51</td>\n",
       "    </tr>\n",
       "  </tbody>\n",
       "</table>\n",
       "</div>"
      ],
      "text/plain": [
       "   phase_var  probability\n",
       "0   0.195312         0.92\n",
       "1   0.391602         0.35\n",
       "2   0.000000         0.76\n",
       "3   0.125000         0.03\n",
       "4   0.596680         0.90\n",
       "5   0.800781         0.51"
      ]
     },
     "metadata": {},
     "output_type": "display_data"
    }
   ],
   "source": [
    "from IPython.display import display\n",
    "\n",
    "df_example = pd.DataFrame(\n",
    "    {\n",
    "        \"phase_var\": [0.1953125, 0.39160156, 0.0, 0.125, 0.59667969, 0.80078125],\n",
    "        \"probability\": [0.92, 0.35, 0.76, 0.03, 0.90, 0.51],\n",
    "    }\n",
    ")\n",
    "display(df_example)"
   ]
  },
  {
   "cell_type": "markdown",
   "id": "18",
   "metadata": {},
   "source": [
    "Our postprocess function adds new columns to the result "
   ]
  },
  {
   "cell_type": "code",
   "execution_count": 7,
   "id": "19",
   "metadata": {},
   "outputs": [
    {
     "data": {
      "text/html": [
       "<div>\n",
       "<style scoped>\n",
       "    .dataframe tbody tr th:only-of-type {\n",
       "        vertical-align: middle;\n",
       "    }\n",
       "\n",
       "    .dataframe tbody tr th {\n",
       "        vertical-align: top;\n",
       "    }\n",
       "\n",
       "    .dataframe thead th {\n",
       "        text-align: right;\n",
       "    }\n",
       "</style>\n",
       "<table border=\"1\" class=\"dataframe\">\n",
       "  <thead>\n",
       "    <tr style=\"text-align: right;\">\n",
       "      <th></th>\n",
       "      <th>phase_var</th>\n",
       "      <th>probability</th>\n",
       "      <th>trimmed_list</th>\n",
       "      <th>last_frac</th>\n",
       "    </tr>\n",
       "  </thead>\n",
       "  <tbody>\n",
       "    <tr>\n",
       "      <th>0</th>\n",
       "      <td>0.195312</td>\n",
       "      <td>0.92</td>\n",
       "      <td>[0, 1/5]</td>\n",
       "      <td>1/5</td>\n",
       "    </tr>\n",
       "    <tr>\n",
       "      <th>1</th>\n",
       "      <td>0.391602</td>\n",
       "      <td>0.35</td>\n",
       "      <td>[0, 1/2, 1/3, 2/5]</td>\n",
       "      <td>2/5</td>\n",
       "    </tr>\n",
       "    <tr>\n",
       "      <th>2</th>\n",
       "      <td>0.000000</td>\n",
       "      <td>0.76</td>\n",
       "      <td>[0]</td>\n",
       "      <td>0</td>\n",
       "    </tr>\n",
       "    <tr>\n",
       "      <th>4</th>\n",
       "      <td>0.596680</td>\n",
       "      <td>0.90</td>\n",
       "      <td>[0, 1, 1/2, 3/5]</td>\n",
       "      <td>3/5</td>\n",
       "    </tr>\n",
       "    <tr>\n",
       "      <th>5</th>\n",
       "      <td>0.800781</td>\n",
       "      <td>0.51</td>\n",
       "      <td>[0, 1, 4/5]</td>\n",
       "      <td>4/5</td>\n",
       "    </tr>\n",
       "  </tbody>\n",
       "</table>\n",
       "</div>"
      ],
      "text/plain": [
       "   phase_var  probability        trimmed_list last_frac\n",
       "0   0.195312         0.92            [0, 1/5]       1/5\n",
       "1   0.391602         0.35  [0, 1/2, 1/3, 2/5]       2/5\n",
       "2   0.000000         0.76                 [0]         0\n",
       "4   0.596680         0.90    [0, 1, 1/2, 3/5]       3/5\n",
       "5   0.800781         0.51         [0, 1, 4/5]       4/5"
      ]
     },
     "metadata": {},
     "output_type": "display_data"
    }
   ],
   "source": [
    "df_example_processed = continued_fraction_post_process(df_example, n=18, threshold=0.1)\n",
    "display(df_example_processed)"
   ]
  },
  {
   "cell_type": "markdown",
   "id": "20",
   "metadata": {},
   "source": [
    "We can see that in this case one can conclude that $r$ is the period we were trying to find."
   ]
  },
  {
   "cell_type": "markdown",
   "id": "21",
   "metadata": {},
   "source": [
    "## Verifying the order and factoring"
   ]
  },
  {
   "cell_type": "markdown",
   "id": "22",
   "metadata": {},
   "source": [
    "Once $r$ is found, we first verify that it is an even number, this is because Shor's algorithm continues by writing\n",
    "$$\n",
    "a^r=1\\bmod{N}\\implies \\left(a^{r/2}-1\\right)\\left(a^{r/2}+1\\right) = 0 \\bmod{N}.\n",
    "$$\n",
    "If $r$ is even, this equation implies four scenarios:\n",
    "1. $\\left(a^{r/2}-1\\right) = 0 \\bmod{N}$, impossible, since it contradicts the fact that $r$ is the order.\n",
    "2. $\\left(a^{r/2}+1\\right) = 0 \\bmod{N}$,  in that case we must go back to step 1 and start with a new co-prime $a$.\n",
    "3. $\\left(a^{r/2}-1\\right)\\left(a^{r/2}+1\\right) = N$,  which gives a factoring for $N$.\n",
    "4. $\\left(a^{r/2}-1\\right)\\left(a^{r/2}+1\\right) = kN$ with $k>1$, which means that $N$ divides the of the terms on the left. Thus, it has a non-trivial common divisor with one of them, namely, $\\mathrm{gcd}(a^{r/2}+1,N)\\neq 1$ and/or $\\mathrm{gcd}(a^{r/2}-1,N)\\neq 1$ are factors of $N$.\n",
    "\n",
    "It can be shown that the situations in which $r$ is odd or $\\left(a^{r/2}+1\\right) = 0 \\bmod{N}$ can happen at probability 1/2 at most.\n",
    "Below we define a function that verifies we are not in the second possibility, and returns the factors on $N$ in case we are at the last two."
   ]
  },
  {
   "cell_type": "code",
   "execution_count": 8,
   "id": "23",
   "metadata": {},
   "outputs": [],
   "source": [
    "def get_factors(a, r, n):\n",
    "    # r is odd\n",
    "    if r % 2 == 1:\n",
    "        print(f\"The order r={r} is odd, return to the first step and find a co-prime a\")\n",
    "        return None, None\n",
    "    # a^(r/2)=-1 mod n is odd\n",
    "    if a ^ (r // 2) + 1 % n == 0:\n",
    "        print(\n",
    "            f\"It turns out that a^(r/2)+1 % N ==0, return to the first step and find a co-prime a\"\n",
    "        )\n",
    "        return None, None\n",
    "    # (a^(r/2)+1) (a^(r/2)-1)=n\n",
    "    if (a ^ (r // 2) + 1) * (a ^ (r // 2) - 1) == n:\n",
    "        return (a ^ (r // 2) + 1), (a ^ (r // 2) - 1)\n",
    "    # (a^(r/2)+1) (a^(r/2)-1)= kn, with k>1\n",
    "    gcd_ = np.gcd((a ^ (r // 2) + 1), n)\n",
    "    if gcd_ > 1:\n",
    "        return int(gcd_), int(n / gcd_)\n",
    "    gcd_ = np.gcd((a ^ (r // 2) - 1), n)\n",
    "    return int(gcd_), int(n / gcd_)"
   ]
  },
  {
   "cell_type": "markdown",
   "id": "24",
   "metadata": {},
   "source": [
    "## Example: Factoring 21"
   ]
  },
  {
   "cell_type": "markdown",
   "id": "25",
   "metadata": {},
   "source": [
    "First, find a co-prime of $N$. We fix this value to $a=11$ in order to get a full end-to-end result that runs the quantum part."
   ]
  },
  {
   "cell_type": "code",
   "execution_count": 9,
   "id": "26",
   "metadata": {},
   "outputs": [
    {
     "name": "stdout",
     "output_type": "stream",
     "text": [
      "The numbers 11 and 21 have the greatest common divisor 1\n"
     ]
    }
   ],
   "source": [
    "np.random.seed(989)\n",
    "\n",
    "modulo_num = 21  # The number we wish to factor\n",
    "a_num, gcd_a_num = random_coprime(modulo_num)\n",
    "print(\n",
    "    f\"The numbers {a_num} and {modulo_num} have the greatest common divisor {gcd_a_num}\"\n",
    ")\n",
    "\n",
    "assert a_num == 11"
   ]
  },
  {
   "cell_type": "markdown",
   "id": "27",
   "metadata": {},
   "source": [
    "Next, we run the quantum period finding algorithm to extract the period $r$. Concerning the size of the quantum variables:\n",
    "-  The quantum variable on which we apply the period finding, $|x\\rangle$, should have the number of bits according to $N$ (we note that our current `inplace_modular_multiply` uses an extra of `x.size`+1 auxiliary qubits).\n",
    "- For the phase variable that approximates the period $r$, we take twice the size of $|x\\rangle$: this gives a sufficient accuracy for extracting the period with the continued fraction algorithm. "
   ]
  },
  {
   "cell_type": "code",
   "execution_count": 10,
   "id": "28",
   "metadata": {},
   "outputs": [],
   "source": [
    "x_len = modulo_num.bit_length()\n",
    "phase_len = 2 * x_len\n",
    "\n",
    "\n",
    "@qfunc\n",
    "def main(phase_var: Output[QNum[phase_len, UNSIGNED, phase_len]]):\n",
    "    x = QNum()\n",
    "    allocate(x_len, x)\n",
    "    allocate(phase_var)\n",
    "    x ^= 1\n",
    "    period_finding(modulo_num, a_num, x, phase_var)\n",
    "\n",
    "\n",
    "write_qmod(main, \"shor\")\n",
    "qprog = synthesize(\n",
    "    main,\n",
    "    preferences=Preferences(qasm3=True),\n",
    ")"
   ]
  },
  {
   "cell_type": "code",
   "execution_count": 11,
   "id": "29",
   "metadata": {},
   "outputs": [
    {
     "name": "stdout",
     "output_type": "stream",
     "text": [
      "Quantum program link: https://platform.classiq.io/circuit/33PfUBDRL5owrrrS0oAA7hrUcks\n"
     ]
    }
   ],
   "source": [
    "show(qprog)"
   ]
  },
  {
   "attachments": {
    "52fb109d-e5fa-49bd-9275-4f58d587f679.png": {
     "image/png": "[encoded data removed]"
    }
   },
   "cell_type": "markdown",
   "id": "30",
   "metadata": {},
   "source": [
    "![Screenshot 2025-09-30 at 12.16.15.png](attachment:52fb109d-e5fa-49bd-9275-4f58d587f679.png)\n",
    "<center>\n",
    "    Shor's algorithm for factoring $N=21$.\n",
    "</center>"
   ]
  },
  {
   "cell_type": "markdown",
   "id": "31",
   "metadata": {},
   "source": [
    "We execute and postprocess the results with the continued fraction approximation"
   ]
  },
  {
   "cell_type": "code",
   "execution_count": 12,
   "id": "32",
   "metadata": {},
   "outputs": [],
   "source": [
    "result = execute(qprog).get_sample_result()\n",
    "df = result.dataframe\n",
    "processed_df = continued_fraction_post_process(df=df, n=modulo_num, threshold=0.05)"
   ]
  },
  {
   "cell_type": "code",
   "execution_count": 13,
   "id": "33",
   "metadata": {},
   "outputs": [
    {
     "data": {
      "text/html": [
       "<div>\n",
       "<style scoped>\n",
       "    .dataframe tbody tr th:only-of-type {\n",
       "        vertical-align: middle;\n",
       "    }\n",
       "\n",
       "    .dataframe tbody tr th {\n",
       "        vertical-align: top;\n",
       "    }\n",
       "\n",
       "    .dataframe thead th {\n",
       "        text-align: right;\n",
       "    }\n",
       "</style>\n",
       "<table border=\"1\" class=\"dataframe\">\n",
       "  <thead>\n",
       "    <tr style=\"text-align: right;\">\n",
       "      <th></th>\n",
       "      <th>phase_var</th>\n",
       "      <th>count</th>\n",
       "      <th>probability</th>\n",
       "      <th>bitstring</th>\n",
       "      <th>trimmed_list</th>\n",
       "      <th>last_frac</th>\n",
       "    </tr>\n",
       "  </thead>\n",
       "  <tbody>\n",
       "    <tr>\n",
       "      <th>0</th>\n",
       "      <td>0.500000</td>\n",
       "      <td>345</td>\n",
       "      <td>0.168457</td>\n",
       "      <td>1000000000</td>\n",
       "      <td>[0, 1/2]</td>\n",
       "      <td>1/2</td>\n",
       "    </tr>\n",
       "    <tr>\n",
       "      <th>1</th>\n",
       "      <td>0.000000</td>\n",
       "      <td>344</td>\n",
       "      <td>0.167969</td>\n",
       "      <td>0000000000</td>\n",
       "      <td>[0]</td>\n",
       "      <td>0</td>\n",
       "    </tr>\n",
       "    <tr>\n",
       "      <th>2</th>\n",
       "      <td>0.333008</td>\n",
       "      <td>234</td>\n",
       "      <td>0.114258</td>\n",
       "      <td>0101010101</td>\n",
       "      <td>[0, 1/3]</td>\n",
       "      <td>1/3</td>\n",
       "    </tr>\n",
       "    <tr>\n",
       "      <th>3</th>\n",
       "      <td>0.833008</td>\n",
       "      <td>233</td>\n",
       "      <td>0.113770</td>\n",
       "      <td>1101010101</td>\n",
       "      <td>[0, 1, 4/5, 5/6]</td>\n",
       "      <td>5/6</td>\n",
       "    </tr>\n",
       "    <tr>\n",
       "      <th>4</th>\n",
       "      <td>0.166992</td>\n",
       "      <td>229</td>\n",
       "      <td>0.111816</td>\n",
       "      <td>0010101011</td>\n",
       "      <td>[0, 1/5, 1/6]</td>\n",
       "      <td>1/6</td>\n",
       "    </tr>\n",
       "    <tr>\n",
       "      <th>5</th>\n",
       "      <td>0.666992</td>\n",
       "      <td>213</td>\n",
       "      <td>0.104004</td>\n",
       "      <td>1010101011</td>\n",
       "      <td>[0, 1, 2/3]</td>\n",
       "      <td>2/3</td>\n",
       "    </tr>\n",
       "  </tbody>\n",
       "</table>\n",
       "</div>"
      ],
      "text/plain": [
       "   phase_var  count  probability   bitstring      trimmed_list last_frac\n",
       "0   0.500000    345     0.168457  1000000000          [0, 1/2]       1/2\n",
       "1   0.000000    344     0.167969  0000000000               [0]         0\n",
       "2   0.333008    234     0.114258  0101010101          [0, 1/3]       1/3\n",
       "3   0.833008    233     0.113770  1101010101  [0, 1, 4/5, 5/6]       5/6\n",
       "4   0.166992    229     0.111816  0010101011     [0, 1/5, 1/6]       1/6\n",
       "5   0.666992    213     0.104004  1010101011       [0, 1, 2/3]       2/3"
      ]
     },
     "metadata": {},
     "output_type": "display_data"
    }
   ],
   "source": [
    "display(processed_df)"
   ]
  },
  {
   "cell_type": "markdown",
   "id": "34",
   "metadata": {},
   "source": [
    "We can plot the full distribution, together with the continued fraction approximation"
   ]
  },
  {
   "cell_type": "code",
   "execution_count": 14,
   "id": "35",
   "metadata": {},
   "outputs": [],
   "source": [
    "import matplotlib.pyplot as plt\n",
    "\n",
    "df = df.sort_values(\"phase_var\")\n",
    "processed_df = processed_df.sort_values(\"phase_var\")"
   ]
  },
  {
   "cell_type": "code",
   "execution_count": 15,
   "id": "36",
   "metadata": {},
   "outputs": [
    {
     "data": {
      "image/png": "[encoded data removed]",
      "text/plain": [
       "<Figure size 640x480 with 1 Axes>"
      ]
     },
     "metadata": {},
     "output_type": "display_data"
    }
   ],
   "source": [
    "plt.plot(df.phase_var, df.probability, \"-.\")\n",
    "plt.plot(processed_df.last_frac, processed_df.probability, \"o\")\n",
    "fracs = sorted(set(processed_df[\"last_frac\"].dropna().tolist()), key=float)\n",
    "\n",
    "positions = [float(f) for f in fracs]\n",
    "labels = [\"0\" if f == 0 else f\"{f.numerator}/{f.denominator}\" for f in fracs]\n",
    "\n",
    "plt.xticks(positions, labels);"
   ]
  },
  {
   "cell_type": "markdown",
   "id": "37",
   "metadata": {},
   "source": [
    "We can clearly see that we have peaks at $\\frac{0}{6}, \\frac{1}{6}, \\frac{2}{6}, \\frac{3}{6} , \\frac{4}{6}, \\frac{5}{6}$, that is, the order is $r=6$."
   ]
  },
  {
   "cell_type": "code",
   "execution_count": 16,
   "id": "38",
   "metadata": {},
   "outputs": [],
   "source": [
    "for p in positions:\n",
    "    assert (p * 6).is_integer()\n",
    "r = 6"
   ]
  },
  {
   "cell_type": "markdown",
   "id": "39",
   "metadata": {},
   "source": [
    "All is left is to run the final step that determines the factor of $N$ out of $a$ and $r$:"
   ]
  },
  {
   "cell_type": "code",
   "execution_count": 17,
   "id": "40",
   "metadata": {},
   "outputs": [
    {
     "name": "stdout",
     "output_type": "stream",
     "text": [
      "The number 21 is factored by 3 and 7\n"
     ]
    }
   ],
   "source": [
    "factor1, factor2 = get_factors(a_num, r, modulo_num)\n",
    "assert factor1 * factor2 == modulo_num\n",
    "print(f\"The number {modulo_num} is factored by {factor1} and {factor2}\")"
   ]
  },
  {
   "cell_type": "markdown",
   "id": "41",
   "metadata": {},
   "source": [
    "## Technical Notes"
   ]
  },
  {
   "cell_type": "markdown",
   "id": "42",
   "metadata": {
    "jp-MarkdownHeadingCollapsed": true
   },
   "source": [
    "### The eigenphases and eigenstates of $f(x) = ax\\bmod{N}$\n",
    "\n",
    "Below we prove the claim that the modular multiplication by $a$, which is a co-prime of $N$, has the following eigenstates:\n",
    "$$\n",
    "|\\psi_s\\rangle =  \\frac{1}{\\sqrt{r}}\\sum^{r-1}_{k=0}e^{-2\\pi i sk/r}|a^{k}\\bmod{N}\\rangle, \\qquad s=0,1,\\dots, r-1,\n",
    "$$\n",
    "and the corresponding eigenvalues:\n",
    "$$\n",
    "\\lambda_s = e^{2\\pi i s/r},\n",
    "$$\n",
    "where $r$ is the order of the function.\n",
    "\n",
    "It is easy to verify that\n",
    "$$\n",
    "a|\\psi_s\\rangle = \\frac{1}{\\sqrt{r}}\\sum^{r-1}_{k=0}e^{-2\\pi i sk/r}|a^{k+1}\\bmod{N}\\rangle = \n",
    "\\frac{1}{\\sqrt{r}}\\sum^{r}_{k=1}e^{2\\pi i s/r}e^{-2\\pi i sk/r}|a^{k}\\bmod{N}\\rangle = e^{2\\pi i s/r}\\frac{1}{\\sqrt{r}}\\sum^{r-1}_{k=0}e^{-2\\pi i sk/r}|a^{k}\\bmod{N}\\rangle = e^{2\\pi i s/r}a|\\psi_s\\rangle,\n",
    "$$\n",
    "where in the second equality we just changed the sum index $k \\rightarrow k-1$, and the third one comes from the fact that the terms under the sum have a period of $r$, and the $r$-th term is equal to the $0$-th one."
   ]
  },
  {
   "cell_type": "markdown",
   "id": "43",
   "metadata": {},
   "source": [
    "### The initial state $|1\\rangle$ for the QPE"
   ]
  },
  {
   "cell_type": "markdown",
   "id": "44",
   "metadata": {},
   "source": [
    "Bwlow we show that the state $|1\\rangle$ is an equal superposition of $|\\psi_s\\rangle$. We use the fact that \n",
    "$$\n",
    "\\sum^{r-1}_{k'=0} e^{-2\\pi i k'k/r} = r\\cdot \\delta_{k0},\n",
    "$$\n",
    "namely, the sum vanishes unless $k=0$. Calculating explicitly, we get\n",
    "$$\n",
    "\\frac{1}{\\sqrt{r}}\\sum^{r-1}_{k'=0}|\\psi_{k'}\\rangle = \\frac{1}{r}\\sum^{r-1}_{k'=0} \\sum^{r-1}_{k=0}e^{-2\\pi i k'k/r}|a^{k}\\bmod{N}\\rangle\n",
    "=\\frac{1}{r}\\sum^{r-1}_{k=0} \\left(\\sum^{r-1}_{k'=0} e^{-2\\pi i k'k/r}\\right)|a^{k}\\bmod{N}\\rangle\n",
    "=\\frac{1}{r}\\sum^{r-1}_{k=0} r\\delta_{k0}|a^{k}\\bmod{N}\\rangle = |1\\rangle.\n",
    "$$"
   ]
  },
  {
   "cell_type": "markdown",
   "id": "45",
   "metadata": {},
   "source": [
    "<h2 id=\"references\">References</h2>\n",
    "<ol>\n",
    "  <li id=\"ref-integerfactor\">\n",
    "    Integer Factorization (Wikipedia) \n",
    "    &nbsp;-&nbsp;\n",
    "    <a href=\"https://en.wikipedia.org/wiki/Integer_factorization\" target=\"_blank\" rel=\"noopener noreferrer\">Wikipedia &#8599;</a>\n",
    "  </li>\n",
    "  <li id=\"ref-shor94\">\n",
    "    P. W. Shor, \"Algorithms for quantum computation: Discrete logarithms and factoring,\" Proceedings 35th Annual Symposium on Foundations of Computer Science (FOCS), IEEE, 1994. \n",
    "    &nbsp;-&nbsp;\n",
    "    <a href=\"https://ieeexplore.ieee.org/abstract/document/365700\" target=\"_blank\" rel=\"noopener noreferrer\">IEEE &#8599;</a>\n",
    "  </li>\n",
    "  <li id=\"ref-shorsteps\">\n",
    "    Shor's Algorithm Procedure (Wikipedia) \n",
    "    &nbsp;-&nbsp;\n",
    "    <a href=\"https://en.wikipedia.org/wiki/Shor%27s_algorithm#Procedure\" target=\"_blank\" rel=\"noopener noreferrer\">Wikipedia &#8599;</a>\n",
    "  </li>\n",
    "  <li id=\"ref-nielsenchuang\">\n",
    "    M. A. Nielsen & I. L. Chuang, \"Quantum Computation and Quantum Information\", Cambridge Univ. Press, 2001. ISBN 978-9812388582.\n",
    "  </li>\n",
    "<li id=\"ref-kiteav\">\n",
    "   Kitaev, A. Yu. \"Quantum measurements and the Abelian Stabilizer Problem\". arXiv:quant-ph/9511026 (1995).\n",
    "    &nbsp;-&nbsp;\n",
    "      <a href=\"https://arxiv.org/abs/quant-ph/9511026\" target=\"_blank\" rel=\"noopener noreferrer\">arxiv &#8599;</a>\n",
    "</ol>\n"
   ]
  }
 ],
 "metadata": {
  "kernelspec": {
   "display_name": "Python 3 (ipykernel)",
   "language": "python",
   "name": "python3"
  },
  "language_info": {
   "codemirror_mode": {
    "name": "ipython",
    "version": 3
   },
   "file_extension": ".py",
   "mimetype": "text/x-python",
   "name": "python",
   "nbconvert_exporter": "python",
   "pygments_lexer": "ipython3",
   "version": "3.11.9"
  }
 },
 "nbformat": 4,
 "nbformat_minor": 9
}
