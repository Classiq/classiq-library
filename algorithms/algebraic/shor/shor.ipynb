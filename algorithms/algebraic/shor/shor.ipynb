{
 "cells": [
  {
   "cell_type": "markdown",
   "id": "e3dd64c6-28cc-418f-ae4a-fadd4791e6b2",
   "metadata": {
    "tags": []
   },
   "source": [
    "\n",
    "# Factoring 15 with Shor's Algorithm\n",
    "\n"
   ]
  },
  {
   "cell_type": "markdown",
   "id": "fbfe5758-7fa5-4596-9473-582d3197abe8",
   "metadata": {
    "jp-MarkdownHeadingCollapsed": true
   },
   "source": [
    "The integer factorization problem [[1](#IntegerFactor)] is a famous problem in number theory: given a composite number $N$, find its prime factors. The importance of the problem stems from there being no known efficient (polynomial-time, in the number of bits needed to represent $N$) classical algorithm, and much of modern-day cryptography relies on this fact. In 1994, Peter Shor came up with an efficient _quantum_ algorithm for the problem [[2](#Shor94)], providing one of the first concrete pieces of evidence for the power of quantum computers.\n",
    "\n",
    "## Shor's Algorithm\n",
    "\n",
    "Shor's algorithm consists of a classical part and a quantum subroutine. The steps of the algorithm for factoring an input number $N$, summarized from [[3](#ShorSteps)]:\n",
    "\n",
    "1. Pick a random number $1 < a < N$ that is co-prime with $N$. Co-primality can be checked by computing the GCD (greatest common divisor) of $a$ and $N$. If it is 1 then we have a co-prime $a$, otherwise we have a non-trivial factor of $N$ and we are done.\n",
    "2. Find the period $r$ of the following function, using the quantum period finding algorithm (described in [[4](#PeriodFinding)]): $$f(x) = a^x \\mod N$$\n",
    "3. If $r$ is odd or $a^{r/2} = -1 \\mod N$, return to step 1 (this event can be shown to happen with probability at most $1/2$).\n",
    "4. Otherwise, $\\gcd(a^{r/2} \\pm 1, N)$ are both factors of $N$, and computing one of them yields the required result.\n",
    "\n",
    "This demo factors the number $N=15$ using Shor's algorithm by applying the quantum subroutine (step 2) with $a=7$. We choose this particular $a$ since it is co-prime with 15 and satisfies the conditions of step 3, providing us with a high probability of finding a factor of $N$.\n"
   ]
  },
  {
   "cell_type": "markdown",
   "id": "9cc49f8e-2d6a-4a34-ae27-8e6081a10701",
   "metadata": {},
   "source": [
    "## Building the Quantum Period Finding Circuit\n",
    "\n",
    "We begin by declaring the number of qubits in the upper (counting) register that the quantum subroutine uses. In our case, $N = 15$, and according to the algorithm the upper register must contain $q = \\log(Q)$ qubits for $Q$ such that $N^2 \\le Q < 2N^2$; namely, $225 < Q < 450$, and therefore $q = 8$. In addition, the second register should be large enough to encode 15, hence:"
   ]
  },
  {
   "cell_type": "code",
   "execution_count": 1,
   "id": "8fe7f452-9fa7-484c-a824-2d521d90ee8e",
   "metadata": {
    "execution": {
     "iopub.execute_input": "2025-03-27T13:30:24.471308Z",
     "iopub.status.busy": "2025-03-27T13:30:24.470754Z",
     "iopub.status.idle": "2025-03-27T13:30:24.535848Z",
     "shell.execute_reply": "2025-03-27T13:30:24.535422Z"
    },
    "tags": []
   },
   "outputs": [],
   "source": [
    "import numpy as np\n",
    "\n",
    "N = 15\n",
    "\n",
    "num_counting_qubits = int(np.ceil(np.log2(N**2)))\n",
    "num_auxilliary_qubits = int(np.ceil(np.log2(N)))"
   ]
  },
  {
   "cell_type": "markdown",
   "id": "21042631-a0b7-497a-9a91-2bb8e76e4562",
   "metadata": {},
   "source": [
    "We implement a Phase Estimation [[5](#PhaseEstimation)] circuit. Each element in the circuit is a controlled operation of $$|x\\rangle \\rightarrow |x\\cdot a^{2^i}\\mod N \\rangle $$ where $a < N$ is a number such that $\\gcd(a, N)=1$. For this demonstration we pick $a=7$. $i$ is the index of the control qubit, located in the upper register.\n",
    "\n",
    "It is quite involved to implement these unitaries, so for this demo we take a shortcut and compute the exact unitary matrix that implements the computation (which in general is not applicable as this preprocessing is exponential). We do so by calculating the modular-multiplication by $a$ matrix and then using its powers.\n",
    "\n",
    "The `unitary` function is used for decomposing the unitary matrix into quantum gates."
   ]
  },
  {
   "cell_type": "code",
   "execution_count": 2,
   "id": "4e0570a0-efd5-4957-b75a-c7d72e5273d6",
   "metadata": {
    "execution": {
     "iopub.execute_input": "2025-03-27T13:30:24.537861Z",
     "iopub.status.busy": "2025-03-27T13:30:24.537654Z",
     "iopub.status.idle": "2025-03-27T13:30:26.233152Z",
     "shell.execute_reply": "2025-03-27T13:30:26.232442Z"
    },
    "tags": []
   },
   "outputs": [],
   "source": [
    "from classiq import *\n",
    "\n",
    "\n",
    "def get_modular_multiplication_matrix():\n",
    "    # fmt: off\n",
    "    swap = np.array(\n",
    "        [\n",
    "            [1, 0, 0, 0],\n",
    "            [0, 0, 1, 0],\n",
    "            [0, 1, 0, 0],\n",
    "            [0, 0, 0, 1]\n",
    "        ],\n",
    "        dtype=complex\n",
    "    )\n",
    "    # fmt: on\n",
    "    swap32 = np.kron(np.identity(4), swap)\n",
    "    swap21 = np.kron(np.kron(np.identity(2), swap), np.identity(2))\n",
    "    swap10 = np.kron(swap, np.identity(4))\n",
    "    x = np.array([[0, 1], [1, 0]])\n",
    "    x_all = np.kron(np.kron(x, x), np.kron(x, x))\n",
    "    u = x_all @ swap10 @ swap21 @ swap32\n",
    "    return u\n",
    "\n",
    "\n",
    "MODULAR_MUL_UNITARY = get_modular_multiplication_matrix().real.tolist()\n",
    "\n",
    "\n",
    "@qfunc\n",
    "def modular_exponentiation(\n",
    "    exponent: CInt, target: QArray[QBit, num_auxilliary_qubits]\n",
    ") -> None:\n",
    "    power(2**exponent, lambda: unitary(elements=MODULAR_MUL_UNITARY, target=target))"
   ]
  },
  {
   "cell_type": "markdown",
   "id": "545bb4fd-ff8f-4ff8-b86d-d89808d91abb",
   "metadata": {},
   "source": [
    "### Complete Circuit"
   ]
  },
  {
   "cell_type": "markdown",
   "id": "a97036e1-87cf-4506-ae61-dd15588ec247",
   "metadata": {},
   "source": [
    "At the first layer of the quantum circuit, we prepare the equal superposition state in the top (counting) register, and prepare the $|1\\rangle$ state in the bottom (auxiliary) register."
   ]
  },
  {
   "cell_type": "markdown",
   "id": "05072f38-8ffd-482c-9af0-8aa4b404c2f1",
   "metadata": {},
   "source": [
    "We then apply the second layer of the circuit, consisting of the controlled $U^{2^i}$ gates. \n",
    "Lastly, we apply an inverse QFT on the counting register to get the period."
   ]
  },
  {
   "cell_type": "code",
   "execution_count": 3,
   "id": "b2c2aeac-2049-45fe-a529-f98aed009b37",
   "metadata": {
    "execution": {
     "iopub.execute_input": "2025-03-27T13:30:26.236390Z",
     "iopub.status.busy": "2025-03-27T13:30:26.235735Z",
     "iopub.status.idle": "2025-03-27T13:30:26.241176Z",
     "shell.execute_reply": "2025-03-27T13:30:26.240442Z"
    },
    "tags": []
   },
   "outputs": [],
   "source": [
    "@qfunc\n",
    "def period_finding(\n",
    "    qv_counting: Output[QArray[QBit, num_counting_qubits]],\n",
    "    qv_auxilliary: Output[QArray[QBit, num_auxilliary_qubits]],\n",
    ") -> None:\n",
    "    # start with a Hadamard transform in the counting register\n",
    "    allocate(num_counting_qubits, qv_counting)\n",
    "    hadamard_transform(qv_counting)\n",
    "\n",
    "    # Prepare the |1> state on the lower register\n",
    "    allocate(num_auxilliary_qubits, qv_auxilliary)\n",
    "    X(qv_auxilliary[0])\n",
    "\n",
    "    # Apply the controlled modular-exponentiations using each of the counting qubits\n",
    "    repeat(\n",
    "        count=num_auxilliary_qubits,\n",
    "        iteration=lambda index: control(\n",
    "            ctrl=qv_counting[index],\n",
    "            stmt_block=lambda: modular_exponentiation(index, qv_auxilliary),\n",
    "        ),\n",
    "    )  # ! not working with qv[a:]\n",
    "\n",
    "    # Lastly, apply an inverse QFT\n",
    "    invert(lambda: qft(qv_counting))"
   ]
  },
  {
   "cell_type": "markdown",
   "id": "579c9843-907e-4454-a92c-6a0a04d0615c",
   "metadata": {},
   "source": [
    "### Quantum Entry Point\n",
    "To synthesize the circuit, we define a quantum `main` function. As we are only interested in the output of the counting register, we only define it in the signature of the function.\n",
    "\n",
    "Next, we translate it to Qmod using `create_model`."
   ]
  },
  {
   "cell_type": "code",
   "execution_count": 4,
   "id": "4d7da11c-adfc-4ac8-9277-0c97fd65539e",
   "metadata": {
    "execution": {
     "iopub.execute_input": "2025-03-27T13:30:26.244490Z",
     "iopub.status.busy": "2025-03-27T13:30:26.244249Z",
     "iopub.status.idle": "2025-03-27T13:30:26.307006Z",
     "shell.execute_reply": "2025-03-27T13:30:26.306326Z"
    },
    "tags": []
   },
   "outputs": [],
   "source": [
    "@qfunc\n",
    "def main(qv_counting: Output[QArray[QBit, num_counting_qubits]]) -> None:\n",
    "    qv_auxilliary = QArray(\"qv_auxilliary\")\n",
    "    period_finding(qv_counting, qv_auxilliary)\n",
    "\n",
    "\n",
    "qmod = create_model(main, out_file=\"shor\")"
   ]
  },
  {
   "cell_type": "markdown",
   "id": "08e1a6a0-137d-4c49-a215-97daa2197f5c",
   "metadata": {},
   "source": [
    "We now send the model to the synthesis engine, which may take a few seconds:"
   ]
  },
  {
   "cell_type": "code",
   "execution_count": 5,
   "id": "d1eb4133-896d-4e2d-8253-83eb68bf467d",
   "metadata": {
    "execution": {
     "iopub.execute_input": "2025-03-27T13:30:26.309463Z",
     "iopub.status.busy": "2025-03-27T13:30:26.309261Z",
     "iopub.status.idle": "2025-03-27T13:30:49.053310Z",
     "shell.execute_reply": "2025-03-27T13:30:49.052904Z"
    },
    "tags": []
   },
   "outputs": [],
   "source": [
    "qprog = synthesize(qmod)"
   ]
  },
  {
   "cell_type": "markdown",
   "id": "47ce0b6d-839a-4b4c-82cd-daf4b9b5be14",
   "metadata": {},
   "source": [
    "We can now view the circuit and its depth:"
   ]
  },
  {
   "cell_type": "code",
   "execution_count": 6,
   "id": "08ce2565-5197-4c7a-b7c5-1dad94e4e46a",
   "metadata": {
    "execution": {
     "iopub.execute_input": "2025-03-27T13:30:49.055725Z",
     "iopub.status.busy": "2025-03-27T13:30:49.055468Z",
     "iopub.status.idle": "2025-03-27T13:30:50.584154Z",
     "shell.execute_reply": "2025-03-27T13:30:50.583795Z"
    },
    "tags": []
   },
   "outputs": [
    {
     "name": "stdout",
     "output_type": "stream",
     "text": [
      "Opening: https://platform.classiq.io/circuit/2utydJiDQ6Ta06g5GdYK3gKVrk2?login=True&version=0.73.0\n",
      "https://platform.classiq.io/circuit/2utydJiDQ6Ta06g5GdYK3gKVrk2?login=True&version=0.73.0\n"
     ]
    }
   ],
   "source": [
    "show(qprog)"
   ]
  },
  {
   "cell_type": "markdown",
   "id": "3fc7fe66-c1ca-46b0-9272-cfcc3c6e73f3",
   "metadata": {
    "tags": []
   },
   "source": [
    "## Executing the Circuit\n",
    "\n",
    "Now, we execute the circuit above, using the simulator:"
   ]
  },
  {
   "cell_type": "code",
   "execution_count": 7,
   "id": "3f2ba37b-f01b-48f2-85a0-ccae575d3de5",
   "metadata": {
    "execution": {
     "iopub.execute_input": "2025-03-27T13:30:50.585700Z",
     "iopub.status.busy": "2025-03-27T13:30:50.585550Z",
     "iopub.status.idle": "2025-03-27T13:30:54.580973Z",
     "shell.execute_reply": "2025-03-27T13:30:54.579808Z"
    },
    "tags": []
   },
   "outputs": [],
   "source": [
    "result = execute(qprog).result_value()"
   ]
  },
  {
   "cell_type": "code",
   "execution_count": 8,
   "id": "a7c5710d-f360-4500-b489-0986b7178938",
   "metadata": {
    "execution": {
     "iopub.execute_input": "2025-03-27T13:30:54.585641Z",
     "iopub.status.busy": "2025-03-27T13:30:54.585318Z",
     "iopub.status.idle": "2025-03-27T13:30:54.590587Z",
     "shell.execute_reply": "2025-03-27T13:30:54.589830Z"
    },
    "tags": []
   },
   "outputs": [],
   "source": [
    "import collections\n",
    "\n",
    "hist_counting_qubits = collections.defaultdict(int)\n",
    "for key, value in result.counts.items():\n",
    "    hist_counting_qubits[key] += value"
   ]
  },
  {
   "cell_type": "markdown",
   "id": "c351af0c-696b-4ba9-b671-f9759c1ca387",
   "metadata": {},
   "source": [
    "Plotting the result:"
   ]
  },
  {
   "cell_type": "code",
   "execution_count": 9,
   "id": "b0f701d4-69ff-4263-aba4-94a234be8f4e",
   "metadata": {
    "execution": {
     "iopub.execute_input": "2025-03-27T13:30:54.593842Z",
     "iopub.status.busy": "2025-03-27T13:30:54.593530Z",
     "iopub.status.idle": "2025-03-27T13:30:54.652304Z",
     "shell.execute_reply": "2025-03-27T13:30:54.651997Z"
    },
    "tags": []
   },
   "outputs": [
    {
     "data": {
      "text/plain": [
       "<BarContainer object of 4 artists>"
      ]
     },
     "execution_count": 9,
     "metadata": {},
     "output_type": "execute_result"
    },
    {
     "data": {
      "image/png": "[encoded data removed]",
      "text/plain": [
       "<Figure size 640x480 with 1 Axes>"
      ]
     },
     "metadata": {},
     "output_type": "display_data"
    }
   ],
   "source": [
    "import matplotlib.pyplot as plt\n",
    "\n",
    "plt.bar(hist_counting_qubits.keys(), hist_counting_qubits.values())"
   ]
  },
  {
   "cell_type": "markdown",
   "id": "993ec133-5185-4aec-a396-b0cb6762e9bb",
   "metadata": {},
   "source": [
    "We obtained four $y$ results from the circuit, each with a rough probability of $1/4$: $0, 64, 128$, and $192$. By dividing by $Q = 256$ we obtain four reduced fractions: $0, 1/4, 1/2$, and $3/4$, with two of them having the correct period $r=4$ in the denominator. With this period, we can compute the factors of $N = 15$: $\\gcd(a^{r/2} \\pm 1, N) = \\gcd(7^2 \\pm 1, 15) = 3, 5$.\n",
    "\n",
    "## References\n",
    "\n",
    "<a id='IntegerFactor'>[1]</a>: [Integer Factorization (Wikipedia)](https://en.wikipedia.org/wiki/Integer_factorization)\n",
    "\n",
    "<a id='Shor94'>[2]</a>: [Shor, Peter W. \"Algorithms for quantum computation: Discrete logarithms and factoring.\" Proceedings 35th annual symposium on foundations of computer science. IEEE, 1994.](https://ieeexplore.ieee.org/abstract/document/365700)\n",
    "\n",
    "<a id='ShorSteps'>[3]</a>: [Shor's Algorithm Procedure (Wikipedia)](https://en.wikipedia.org/wiki/Shor%27s_algorithm#Procedure)\n",
    "\n",
    "<a id='PeriodFinding'>[4]</a>: [Quantum Period Finding (Wikipedia)](https://en.wikipedia.org/wiki/Shor%27s_algorithm#Quantum_part:_period-finding_subroutine)\n",
    "\n",
    "<a id='PhaseEstimation'>[5]</a>: [Quantum Phase Estimation (Wikipedia)](https://en.wikipedia.org/wiki/Quantum_phase_estimation_algorithm)\n"
   ]
  }
 ],
 "metadata": {
  "kernelspec": {
   "display_name": "Python 3 (ipykernel)",
   "language": "python",
   "name": "python3"
  },
  "language_info": {
   "codemirror_mode": {
    "name": "ipython",
    "version": 3
   },
   "file_extension": ".py",
   "mimetype": "text/x-python",
   "name": "python",
   "nbconvert_exporter": "python",
   "pygments_lexer": "ipython3",
   "version": "3.11.7"
  }
 },
 "nbformat": 4,
 "nbformat_minor": 5
}
