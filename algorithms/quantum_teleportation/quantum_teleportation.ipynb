{
 "cells": [
  {
   "cell_type": "markdown",
   "id": "0",
   "metadata": {},
   "source": [
    "# Quantum Teleportation Algorithm (Protocol)"
   ]
  },
  {
   "cell_type": "markdown",
   "id": "1",
   "metadata": {},
   "source": [
    "The quantum teleportation protocol is a foundational quantum communication method that transfers an arbitrary qubit state from one location (Alice) to another (Bob) using entanglement and classical communication.\n",
    "\n",
    "The circuit begins by creating a Bell pair shared between Alice and Bob.\n",
    "Alice entangles her unknown qubit with her half of the Bell pair and performs mid-circuit measurements on her qubits.\n",
    "The resulting classical bits are sent to Bob, who applies conditional quantum gates to reconstruct the original state on his qubit, completing the teleportation process.\n",
    "\n",
    "This example highlights the use of mid-circuit measurements in QMod, which are essential for simulating hybrid quantum–classical behavior in quantum algorithms."
   ]
  },
  {
   "cell_type": "markdown",
   "id": "2",
   "metadata": {},
   "source": [
    "## Algorithm Description\n",
    "\n",
    "The protocol starts with an arbitrary quantum state on **`alice_qubit`**, which we aim to teleport to Bob.\n",
    "##### 1. Bell State Creation\n",
    "- Apply a **Hadamard (`H`)** gate to **`bell_pair_qubit`**.  \n",
    "- Apply a **CNOT** gate with **`bell_pair_qubit`** as control and **`bob_qubit`** as target.  \n",
    "These two qubits now form a bell state.\n",
    "##### 2. Entangling Alice’s Qubit with the Bell Pair\n",
    "- Apply a **CNOT** gate from **`alice_qubit`** to **`bell_pair_qubit`**.  \n",
    "- Apply a **Hadamard (`H`)** gate on **`alice_qubit`**.  \n",
    "This step entangles Alice’s qubit with the Bell pair.\n",
    "##### 3. Mid-Circuit Measurement\n",
    "Measure **`alice_qubit`** and **`bell_pair_qubit`**.  \n",
    "The measurement results will be later used for conditional corrections.\n",
    "##### 4. Classically Controlled Corrections\n",
    "Depending on the measurement outcomes:  \n",
    "- If **`bell_pair_qubit`** measures `1`, apply **`X`** on **`bob_qubit`**.  \n",
    "- If **`alice_qubit`** measures `1`, apply **`Z`** on **`bob_qubit`**.  \n",
    "\n",
    "These classically controlled gates complete the teleportation process, reconstructing the original quantum state on **`bob_qubit`**."
   ]
  },
  {
   "cell_type": "markdown",
   "id": "3",
   "metadata": {},
   "source": [
    "![quantum_teleportation_circuit.png](quantum_teleportation_circuit.png)\n",
    "<center>\n",
    "<figcaption align = \"middle\"> Figure 1. Quantum Teleportation algorithm </figcaption>\n",
    "</center>"
   ]
  },
  {
   "cell_type": "markdown",
   "id": "4",
   "metadata": {},
   "source": [
    "## Mid-Circuit Measurement\n",
    "\n",
    "Mid-circuit measurement is a key feature in quantum computation that allows measuring a qubit **while the circuit is still running**, rather than only at the end of execution.  \n",
    "This capability enables **classical feedback** — where measurement results influence subsequent quantum operations within the same program.\n",
    "\n",
    "In QMod, mid-circuit measurement is implemented through the `measure()` function.  \n",
    "Unlike a final measurement, which collapses the qubit state at the end of a circuit, `measure()` can be invoked **within** a quantum function to extract partial information and conditionally control later operations.\n",
    "\n",
    "The `measure()` function returns a **symbolic value**, representing the outcome of the measurement (either `0` or `1`).  \n",
    "This symbolic value is determined only during the actual quantum run of the program, but it can already be used to define **conditional logic** at circuit construction time.\n"
   ]
  },
  {
   "cell_type": "markdown",
   "id": "5",
   "metadata": {},
   "source": [
    "## How to Build the Algorithm with Classiq"
   ]
  },
  {
   "cell_type": "markdown",
   "id": "6",
   "metadata": {},
   "source": [
    "We define a qunatum function `quantum_teleportation` that takes three qubits:\n",
    "one for Alice (`alice_qubit`), one for Bob (`bob_qubit`), and one for their shared Bell pair (`bell_pair_qubit`)."
   ]
  },
  {
   "cell_type": "markdown",
   "id": "7",
   "metadata": {},
   "source": [
    "**Alice state preperation:** This function defines Alice’s input state for teleportation.\n",
    "It can be replaced with any other state-preparation routine as needed. We chose a simple superposition."
   ]
  },
  {
   "cell_type": "code",
   "execution_count": null,
   "id": "8",
   "metadata": {},
   "outputs": [],
   "source": [
    "import numpy as np\n",
    "\n",
    "from classiq import *\n",
    "\n",
    "\n",
    "@qfunc\n",
    "def prepare_test_state(q: QBit) -> None:\n",
    "    H(q)"
   ]
  },
  {
   "cell_type": "markdown",
   "id": "9",
   "metadata": {},
   "source": [
    "### Classiq's implematation"
   ]
  },
  {
   "cell_type": "code",
   "execution_count": null,
   "id": "10",
   "metadata": {},
   "outputs": [],
   "source": [
    "@qfunc\n",
    "def quantum_teleportation(\n",
    "    alice_qubit: QBit, bob_qubit: QBit, bell_pair_qubit: QBit\n",
    ") -> None:\n",
    "\n",
    "    # Step 1: Create Bell pair between bell_pair_qubit and Bob's qubit\n",
    "    H(bell_pair_qubit)\n",
    "    CX(bell_pair_qubit, bob_qubit)\n",
    "\n",
    "    # Step 2: Alice performs Bell measurement on her qubits\n",
    "    CX(alice_qubit, bell_pair_qubit)\n",
    "    H(alice_qubit)\n",
    "\n",
    "    # Step 3: Measure Alice's qubits to get classical bits\n",
    "    alice_bit1 = measure(alice_qubit)\n",
    "    alice_bit2 = measure(bell_pair_qubit)\n",
    "\n",
    "    # Step 4: Apply corrections to Bob's qubit based on Alice's measurements\n",
    "    if_(alice_bit2, lambda: X(bob_qubit))  # Apply X if bell_pair_qubit measurement is 1\n",
    "    if_(alice_bit1, lambda: Z(bob_qubit))  # Apply Z if alice_qubit measurement is 1"
   ]
  },
  {
   "cell_type": "markdown",
   "id": "11",
   "metadata": {},
   "source": [
    "**Main function:** allocates the necessary qubits, prepares Alice’s qubit state,\n",
    "and then calls the quantum teleportation function to perform the protocol."
   ]
  },
  {
   "cell_type": "code",
   "execution_count": 27,
   "id": "12",
   "metadata": {},
   "outputs": [],
   "source": [
    "@qfunc\n",
    "def main(bob_qubit: Output[QBit]) -> None:\n",
    "\n",
    "    alice_qubit = QBit()\n",
    "    bell_pair_qubit = QBit()\n",
    "\n",
    "    # Allocate qubits\n",
    "    allocate(1, alice_qubit)\n",
    "    allocate(1, bob_qubit)\n",
    "    allocate(1, bell_pair_qubit)\n",
    "\n",
    "    # Prepare the state to be teleported on Alice's qubit\n",
    "    prepare_test_state(alice_qubit)\n",
    "\n",
    "    # Perform teleportation\n",
    "    quantum_teleportation(alice_qubit, bob_qubit, bell_pair_qubit)"
   ]
  },
  {
   "cell_type": "markdown",
   "id": "13",
   "metadata": {},
   "source": [
    "**Create model and synthesize:** We create a quantum model using the defined main function, synthesize it into a circuit, and visualize it."
   ]
  },
  {
   "cell_type": "code",
   "execution_count": 30,
   "id": "14",
   "metadata": {},
   "outputs": [
    {
     "name": "stdout",
     "output_type": "stream",
     "text": [
      "Quantum program link: https://platform.classiq.io/circuit/34kKBgE8bffcHFUPYLppWE7E1sp\n"
     ]
    }
   ],
   "source": [
    "qmod = create_model(main)\n",
    "qprog = synthesize(qmod)\n",
    "show(qprog)"
   ]
  },
  {
   "cell_type": "markdown",
   "id": "15",
   "metadata": {},
   "source": [
    "**Execute** the synthesized quantum program to observe Bob’s qubit after teleportation."
   ]
  },
  {
   "cell_type": "code",
   "execution_count": 21,
   "id": "16",
   "metadata": {},
   "outputs": [
    {
     "data": {
      "text/html": [
       "<div>\n",
       "<style scoped>\n",
       "    .dataframe tbody tr th:only-of-type {\n",
       "        vertical-align: middle;\n",
       "    }\n",
       "\n",
       "    .dataframe tbody tr th {\n",
       "        vertical-align: top;\n",
       "    }\n",
       "\n",
       "    .dataframe thead th {\n",
       "        text-align: right;\n",
       "    }\n",
       "</style>\n",
       "<table border=\"1\" class=\"dataframe\">\n",
       "  <thead>\n",
       "    <tr style=\"text-align: right;\">\n",
       "      <th></th>\n",
       "      <th>bob_qubit</th>\n",
       "      <th>count</th>\n",
       "      <th>probability</th>\n",
       "      <th>bitstring</th>\n",
       "    </tr>\n",
       "  </thead>\n",
       "  <tbody>\n",
       "    <tr>\n",
       "      <th>0</th>\n",
       "      <td>1</td>\n",
       "      <td>1092</td>\n",
       "      <td>0.533203</td>\n",
       "      <td>1</td>\n",
       "    </tr>\n",
       "    <tr>\n",
       "      <th>1</th>\n",
       "      <td>0</td>\n",
       "      <td>956</td>\n",
       "      <td>0.466797</td>\n",
       "      <td>0</td>\n",
       "    </tr>\n",
       "  </tbody>\n",
       "</table>\n",
       "</div>"
      ],
      "text/plain": [
       "   bob_qubit  count  probability bitstring\n",
       "0          1   1092     0.533203         1\n",
       "1          0    956     0.466797         0"
      ]
     },
     "execution_count": 21,
     "metadata": {},
     "output_type": "execute_result"
    }
   ],
   "source": [
    "job = execute(qprog)\n",
    "job.get_sample_result().dataframe"
   ]
  },
  {
   "cell_type": "markdown",
   "id": "17",
   "metadata": {},
   "source": [
    "## Technical Notes\n",
    "\n",
    "Start with Alice’s qubit in the state:\n",
    "$$\n",
    "\\lvert a \\rangle = \\alpha \\lvert 0 \\rangle + \\beta \\lvert 1 \\rangle \n",
    "$$\n",
    "\n",
    "Bob’s and the Bell-pair qubits start in the state:\n",
    "$$\\lvert b \\rangle =  \\lvert p \\rangle=\\lvert 0 \\rangle$$\n",
    "\n",
    "After creating a bell state between $\\lvert p \\rangle$ and $\\lvert b \\rangle$\n",
    "$$\n",
    "\\lvert \\psi \\rangle_{pb} = \\tfrac{1}{\\sqrt{2}}(\\lvert 00 \\rangle_{pb} + \\lvert 11 \\rangle_{pb})\n",
    "$$\n",
    "The total state is now:  \n",
    "$$\n",
    "\\lvert \\psi \\rangle_{apb} = (\\alpha \\lvert 0 \\rangle_{a} + \\beta \\lvert 1 \\rangle_{a} )\\otimes(\\tfrac{1}{\\sqrt{2}}(\\lvert 00 \\rangle_{pb} + \\lvert 11 \\rangle_{pb}))=\\tfrac{\\alpha}{\\sqrt{2}}\\lvert 000 \\rangle_{apb}+\\tfrac{\\alpha}{\\sqrt{2}}\\lvert 011 \\rangle_{apb}+\\tfrac{\\beta}{\\sqrt{2}}\\lvert 100 \\rangle_{apb}+\\tfrac{\\beta}{\\sqrt{2}}\\lvert 111 \\rangle_{apb}\n",
    "$$\n",
    "After applying CX(a,p):  \n",
    "$$\n",
    "\\lvert \\psi \\rangle_{apb} = \\tfrac{\\alpha}{\\sqrt{2}}\\lvert 000 \\rangle_{apb}+\\tfrac{\\alpha}{\\sqrt{2}}\\lvert 011 \\rangle_{apb}+\\tfrac{\\beta}{\\sqrt{2}}\\lvert 110 \\rangle_{apb}+\\tfrac{\\beta}{\\sqrt{2}}\\lvert 101 \\rangle_{apb}\n",
    "$$\n",
    "\n",
    "Applying H(a):\n",
    "$$\n",
    "\\lvert \\psi \\rangle_{apb} = \\tfrac{\\alpha}{2}\\lvert 000 \\rangle_{apb}+\\tfrac{\\alpha}{2}\\lvert 100 \\rangle_{apb}+\\tfrac{\\alpha}{2}\\lvert 011 \\rangle_{apb}+\\tfrac{\\alpha}{2}\\lvert 111 \\rangle_{apb}+\\tfrac{\\beta}{2}\\lvert 010 \\rangle_{apb}-\\tfrac{\\beta}{2}\\lvert 110 \\rangle_{apb}+\\tfrac{\\beta}{2}\\lvert 001 \\rangle_{apb}-\\tfrac{\\beta}{2}\\lvert 101 \\rangle_{apb}\n",
    "$$\n",
    "Simplify:\n",
    "$$\n",
    "\\begin{split}\n",
    "\\lvert \\psi \\rangle_{apb} = \\tfrac{1}{2} \\big[ \n",
    "&\\lvert 00 \\rangle_{ap} \\otimes (\\alpha \\lvert 0 \\rangle_{b} + \\beta \\lvert 1 \\rangle_{b}) \\\\\n",
    "&+ \\lvert 01 \\rangle_{ap} \\otimes (\\alpha \\lvert 1 \\rangle_{b} + \\beta \\lvert 0 \\rangle_{b}) \\\\\n",
    "&+ \\lvert 10 \\rangle_{ap} \\otimes (\\alpha \\lvert 0 \\rangle_{b} - \\beta \\lvert 1 \\rangle_{b}) \\\\\n",
    "&+ \\lvert 11 \\rangle_{ap} \\otimes (\\alpha \\lvert 1 \\rangle_{b} - \\beta \\lvert 0 \\rangle_{b}) \n",
    "\\big]\n",
    "\\end{split}\n",
    "$$\n",
    "The classical correction operations based on Alice’s and the Bell-pair measurement results are:\n",
    "$$\n",
    "\\begin{array}{ccl}\n",
    "00 &\\rightarrow& I(b) \\\\\n",
    "01 &\\rightarrow& X(b) \\\\\n",
    "10 &\\rightarrow& Z(b) \\\\\n",
    "11 &\\rightarrow& Z(b)X(b)\n",
    "\\end{array}\n",
    "$$"
   ]
  },
  {
   "cell_type": "markdown",
   "id": "18",
   "metadata": {},
   "source": [
    "## References\n",
    "\n",
    "<a id='QTWiki'>[1]</a>: [Qunatum Teleportation (Wikipedia)](https://en.wikipedia.org/wiki/Quantum_teleportation)\n"
   ]
  }
 ],
 "metadata": {
  "kernelspec": {
   "display_name": "Python 3",
   "language": "python",
   "name": "python3"
  },
  "language_info": {
   "codemirror_mode": {
    "name": "ipython",
    "version": 3
   },
   "file_extension": ".py",
   "mimetype": "text/x-python",
   "name": "python",
   "nbconvert_exporter": "python",
   "pygments_lexer": "ipython3",
   "version": "3.11.9"
  }
 },
 "nbformat": 4,
 "nbformat_minor": 9
}
