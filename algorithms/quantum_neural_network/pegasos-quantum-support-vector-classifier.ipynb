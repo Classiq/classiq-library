{
 "cells": [
  {
   "cell_type": "markdown",
   "id": "46036bcc",
   "metadata": {
    "papermill": {
     "duration": 0.005288,
     "end_time": "2023-04-06T09:33:52.462297",
     "exception": false,
     "start_time": "2023-04-06T09:33:52.457009",
     "status": "completed"
    },
    "tags": []
   },
   "source": [
    "# Pegasos Quantum Support Vector Classifier\n",
    "\n",
    "There's another SVM based algorithm that benefits from the quantum kernel method. Here, we introduce an implementation of a another classification algorithm, which is an alternative version to the `QSVC` available in Qiskit Machine Learning and shown in the [\"Quantum Kernel Machine Learning\"](./03_quantum_kernel.ipynb) tutorial. This classification algorithm implements the Pegasos algorithm from the paper \"Pegasos: Primal Estimated sub-GrAdient SOlver for SVM\" by Shalev-Shwartz et al., see: https://home.ttic.edu/~nati/Publications/PegasosMPB.pdf.\n",
    "\n",
    "This algorithm is an alternative to the dual optimization from the `scikit-learn` package, benefits from the kernel trick, and yields a training complexity that is independent of the size of t|he training set. Thus, the `PegasosQSVC` is expected to train faster than QSVC for sufficiently large training sets.\n",
    "\n",
    "The algorithm can be used as direct replacement of `QSVC` with some hyper-parameterization."
   ]
  },
  {
   "cell_type": "markdown",
   "id": "40c7ed2c",
   "metadata": {
    "papermill": {
     "duration": 0.003716,
     "end_time": "2023-04-06T09:33:52.470245",
     "exception": false,
     "start_time": "2023-04-06T09:33:52.466529",
     "status": "completed"
    },
    "tags": []
   },
   "source": [
    "Let's generate some data:"
   ]
  },
  {
   "cell_type": "code",
   "execution_count": 1,
   "id": "77dd5680",
   "metadata": {
    "_kg_hide-output": true,
    "execution": {
     "iopub.execute_input": "2023-04-06T09:33:52.480271Z",
     "iopub.status.busy": "2023-04-06T09:33:52.479719Z",
     "iopub.status.idle": "2023-04-06T09:34:56.267248Z",
     "shell.execute_reply": "2023-04-06T09:34:56.265682Z"
    },
    "papermill": {
     "duration": 63.796265,
     "end_time": "2023-04-06T09:34:56.270427",
     "exception": false,
     "start_time": "2023-04-06T09:33:52.474162",
     "status": "completed"
    },
    "tags": []
   },
   "outputs": [
    {
     "name": "stdout",
     "output_type": "stream",
     "text": [
      "Collecting qiskit\r\n",
      "  Downloading qiskit-0.42.1.tar.gz (14 kB)\r\n",
      "  Preparing metadata (setup.py) ... \u001b[?25l-\b \bdone\r\n",
      "\u001b[?25hCollecting qiskit-terra==0.23.3\r\n",
      "  Downloading qiskit_terra-0.23.3-cp37-cp37m-manylinux_2_17_x86_64.manylinux2014_x86_64.whl (5.1 MB)\r\n",
      "\u001b[2K     \u001b[90m━━━━━━━━━━━━━━━━━━━━━━━━━━━━━━━━━━━━━━━━\u001b[0m \u001b[32m5.1/5.1 MB\u001b[0m \u001b[31m50.6 MB/s\u001b[0m eta \u001b[36m0:00:00\u001b[0m\r\n",
      "\u001b[?25hCollecting qiskit-aer==0.12.0\r\n",
      "  Downloading qiskit_aer-0.12.0-cp37-cp37m-manylinux_2_17_x86_64.manylinux2014_x86_64.whl (12.8 MB)\r\n",
      "\u001b[2K     \u001b[90m━━━━━━━━━━━━━━━━━━━━━━━━━━━━━━━━━━━━━━━━\u001b[0m \u001b[32m12.8/12.8 MB\u001b[0m \u001b[31m33.9 MB/s\u001b[0m eta \u001b[36m0:00:00\u001b[0m\r\n",
      "\u001b[?25hCollecting qiskit-ibmq-provider==0.20.2\r\n",
      "  Downloading qiskit_ibmq_provider-0.20.2-py3-none-any.whl (241 kB)\r\n",
      "\u001b[2K     \u001b[90m━━━━━━━━━━━━━━━━━━━━━━━━━━━━━━━━━━━━━━\u001b[0m \u001b[32m241.5/241.5 kB\u001b[0m \u001b[31m17.7 MB/s\u001b[0m eta \u001b[36m0:00:00\u001b[0m\r\n",
      "\u001b[?25hRequirement already satisfied: scipy>=1.0 in /opt/conda/lib/python3.7/site-packages (from qiskit-aer==0.12.0->qiskit) (1.7.3)\r\n",
      "Requirement already satisfied: numpy>=1.16.3 in /opt/conda/lib/python3.7/site-packages (from qiskit-aer==0.12.0->qiskit) (1.21.6)\r\n",
      "Requirement already satisfied: urllib3>=1.21.1 in /opt/conda/lib/python3.7/site-packages (from qiskit-ibmq-provider==0.20.2->qiskit) (1.26.14)\r\n",
      "Requirement already satisfied: python-dateutil>=2.8.0 in /opt/conda/lib/python3.7/site-packages (from qiskit-ibmq-provider==0.20.2->qiskit) (2.8.2)\r\n",
      "Collecting requests-ntlm<=1.1.0\r\n",
      "  Downloading requests_ntlm-1.1.0-py2.py3-none-any.whl (5.7 kB)\r\n",
      "Requirement already satisfied: websockets>=10.0 in /opt/conda/lib/python3.7/site-packages (from qiskit-ibmq-provider==0.20.2->qiskit) (10.4)\r\n",
      "Requirement already satisfied: requests>=2.19 in /opt/conda/lib/python3.7/site-packages (from qiskit-ibmq-provider==0.20.2->qiskit) (2.28.2)\r\n",
      "Collecting websocket-client>=1.5.1\r\n",
      "  Downloading websocket_client-1.5.1-py3-none-any.whl (55 kB)\r\n",
      "\u001b[2K     \u001b[90m━━━━━━━━━━━━━━━━━━━━━━━━━━━━━━━━━━━━━━━━\u001b[0m \u001b[32m55.9/55.9 kB\u001b[0m \u001b[31m5.3 MB/s\u001b[0m eta \u001b[36m0:00:00\u001b[0m\r\n",
      "\u001b[?25hRequirement already satisfied: typing-extensions in /opt/conda/lib/python3.7/site-packages (from qiskit-terra==0.23.3->qiskit) (4.4.0)\r\n",
      "Requirement already satisfied: sympy>=1.3 in /opt/conda/lib/python3.7/site-packages (from qiskit-terra==0.23.3->qiskit) (1.10.1)\r\n",
      "Collecting stevedore>=3.0.0\r\n",
      "  Downloading stevedore-3.5.2-py3-none-any.whl (50 kB)\r\n",
      "\u001b[2K     \u001b[90m━━━━━━━━━━━━━━━━━━━━━━━━━━━━━━━━━━━━━━━━\u001b[0m \u001b[32m50.2/50.2 kB\u001b[0m \u001b[31m4.5 MB/s\u001b[0m eta \u001b[36m0:00:00\u001b[0m\r\n",
      "\u001b[?25hCollecting ply>=3.10\r\n",
      "  Downloading ply-3.11-py2.py3-none-any.whl (49 kB)\r\n",
      "\u001b[2K     \u001b[90m━━━━━━━━━━━━━━━━━━━━━━━━━━━━━━━━━━━━━━━━\u001b[0m \u001b[32m49.6/49.6 kB\u001b[0m \u001b[31m4.0 MB/s\u001b[0m eta \u001b[36m0:00:00\u001b[0m\r\n",
      "\u001b[?25hCollecting shared-memory38\r\n",
      "  Downloading shared_memory38-0.1.2-cp37-cp37m-manylinux_2_5_x86_64.manylinux1_x86_64.whl (25 kB)\r\n",
      "Collecting rustworkx>=0.12.0\r\n",
      "  Downloading rustworkx-0.12.1-cp37-cp37m-manylinux_2_17_x86_64.manylinux2014_x86_64.whl (1.9 MB)\r\n",
      "\u001b[2K     \u001b[90m━━━━━━━━━━━━━━━━━━━━━━━━━━━━━━━━━━━━━━━━\u001b[0m \u001b[32m1.9/1.9 MB\u001b[0m \u001b[31m61.1 MB/s\u001b[0m eta \u001b[36m0:00:00\u001b[0m\r\n",
      "\u001b[?25hRequirement already satisfied: dill>=0.3 in /opt/conda/lib/python3.7/site-packages (from qiskit-terra==0.23.3->qiskit) (0.3.6)\r\n",
      "Requirement already satisfied: importlib-metadata<5.0 in /opt/conda/lib/python3.7/site-packages (from qiskit-terra==0.23.3->qiskit) (4.11.4)\r\n",
      "Requirement already satisfied: psutil>=5 in /opt/conda/lib/python3.7/site-packages (from qiskit-terra==0.23.3->qiskit) (5.9.3)\r\n",
      "Collecting symengine>=0.9\r\n",
      "  Downloading symengine-0.10.0-cp37-cp37m-manylinux_2_12_x86_64.manylinux2010_x86_64.whl (37.4 MB)\r\n",
      "\u001b[2K     \u001b[90m━━━━━━━━━━━━━━━━━━━━━━━━━━━━━━━━━━━━━━━━\u001b[0m \u001b[32m37.4/37.4 MB\u001b[0m \u001b[31m25.6 MB/s\u001b[0m eta \u001b[36m0:00:00\u001b[0m\r\n",
      "\u001b[?25hCollecting singledispatchmethod\r\n",
      "  Downloading singledispatchmethod-1.0-py2.py3-none-any.whl (4.7 kB)\r\n",
      "Requirement already satisfied: zipp>=0.5 in /opt/conda/lib/python3.7/site-packages (from importlib-metadata<5.0->qiskit-terra==0.23.3->qiskit) (3.11.0)\r\n",
      "Requirement already satisfied: six>=1.5 in /opt/conda/lib/python3.7/site-packages (from python-dateutil>=2.8.0->qiskit-ibmq-provider==0.20.2->qiskit) (1.16.0)\r\n",
      "Requirement already satisfied: charset-normalizer<4,>=2 in /opt/conda/lib/python3.7/site-packages (from requests>=2.19->qiskit-ibmq-provider==0.20.2->qiskit) (2.1.1)\r\n",
      "Requirement already satisfied: idna<4,>=2.5 in /opt/conda/lib/python3.7/site-packages (from requests>=2.19->qiskit-ibmq-provider==0.20.2->qiskit) (3.4)\r\n",
      "Requirement already satisfied: certifi>=2017.4.17 in /opt/conda/lib/python3.7/site-packages (from requests>=2.19->qiskit-ibmq-provider==0.20.2->qiskit) (2022.12.7)\r\n",
      "Requirement already satisfied: cryptography>=1.3 in /opt/conda/lib/python3.7/site-packages (from requests-ntlm<=1.1.0->qiskit-ibmq-provider==0.20.2->qiskit) (38.0.2)\r\n",
      "Collecting ntlm-auth>=1.0.2\r\n",
      "  Downloading ntlm_auth-1.5.0-py2.py3-none-any.whl (29 kB)\r\n",
      "Collecting pbr!=2.1.0,>=2.0.0\r\n",
      "  Downloading pbr-5.11.1-py2.py3-none-any.whl (112 kB)\r\n",
      "\u001b[2K     \u001b[90m━━━━━━━━━━━━━━━━━━━━━━━━━━━━━━━━━━━━━━━\u001b[0m \u001b[32m112.7/112.7 kB\u001b[0m \u001b[31m9.5 MB/s\u001b[0m eta \u001b[36m0:00:00\u001b[0m\r\n",
      "\u001b[?25hRequirement already satisfied: mpmath>=0.19 in /opt/conda/lib/python3.7/site-packages (from sympy>=1.3->qiskit-terra==0.23.3->qiskit) (1.2.1)\r\n",
      "Requirement already satisfied: cffi>=1.12 in /opt/conda/lib/python3.7/site-packages (from cryptography>=1.3->requests-ntlm<=1.1.0->qiskit-ibmq-provider==0.20.2->qiskit) (1.15.1)\r\n",
      "Requirement already satisfied: pycparser in /opt/conda/lib/python3.7/site-packages (from cffi>=1.12->cryptography>=1.3->requests-ntlm<=1.1.0->qiskit-ibmq-provider==0.20.2->qiskit) (2.21)\r\n",
      "Building wheels for collected packages: qiskit\r\n",
      "  Building wheel for qiskit (setup.py) ... \u001b[?25l-\b \b\\\b \bdone\r\n",
      "\u001b[?25h  Created wheel for qiskit: filename=qiskit-0.42.1-py3-none-any.whl size=12942 sha256=8c7578985fa9948e990adc4180fe897f2f8e3818d00e29f822b7efb8f8ee3d85\r\n",
      "  Stored in directory: /root/.cache/pip/wheels/91/da/30/d31269da763cce6fd356f8385f502452b55a3829d893ff9b5e\r\n",
      "Successfully built qiskit\r\n",
      "Installing collected packages: singledispatchmethod, shared-memory38, ply, websocket-client, symengine, rustworkx, pbr, ntlm-auth, stevedore, requests-ntlm, qiskit-terra, qiskit-ibmq-provider, qiskit-aer, qiskit\r\n",
      "  Attempting uninstall: websocket-client\r\n",
      "    Found existing installation: websocket-client 1.4.2\r\n",
      "    Uninstalling websocket-client-1.4.2:\r\n",
      "      Successfully uninstalled websocket-client-1.4.2\r\n",
      "Successfully installed ntlm-auth-1.5.0 pbr-5.11.1 ply-3.11 qiskit-0.42.1 qiskit-aer-0.12.0 qiskit-ibmq-provider-0.20.2 qiskit-terra-0.23.3 requests-ntlm-1.1.0 rustworkx-0.12.1 shared-memory38-0.1.2 singledispatchmethod-1.0 stevedore-3.5.2 symengine-0.10.0 websocket-client-1.5.1\r\n",
      "\u001b[33mWARNING: Running pip as the 'root' user can result in broken permissions and conflicting behaviour with the system package manager. It is recommended to use a virtual environment instead: https://pip.pypa.io/warnings/venv\u001b[0m\u001b[33m\r\n",
      "\u001b[0mCollecting pylatexenc\r\n",
      "  Downloading pylatexenc-2.10.tar.gz (162 kB)\r\n",
      "\u001b[2K     \u001b[90m━━━━━━━━━━━━━━━━━━━━━━━━━━━━━━━━━━━━━━━\u001b[0m \u001b[32m162.6/162.6 kB\u001b[0m \u001b[31m8.5 MB/s\u001b[0m eta \u001b[36m0:00:00\u001b[0m\r\n",
      "\u001b[?25h  Preparing metadata (setup.py) ... \u001b[?25l-\b \bdone\r\n",
      "\u001b[?25hBuilding wheels for collected packages: pylatexenc\r\n",
      "  Building wheel for pylatexenc (setup.py) ... \u001b[?25l-\b \bdone\r\n",
      "\u001b[?25h  Created wheel for pylatexenc: filename=pylatexenc-2.10-py3-none-any.whl size=136833 sha256=f883a9f08bf57e112fcb262f4793756ff9647b5896065ec3a62138c8b0b0d3c6\r\n",
      "  Stored in directory: /root/.cache/pip/wheels/1d/c6/5a/2b7b4933c171a55d448e0c79d5841c28cf0c2207e8eca28e22\r\n",
      "Successfully built pylatexenc\r\n",
      "Installing collected packages: pylatexenc\r\n",
      "Successfully installed pylatexenc-2.10\r\n",
      "\u001b[33mWARNING: Running pip as the 'root' user can result in broken permissions and conflicting behaviour with the system package manager. It is recommended to use a virtual environment instead: https://pip.pypa.io/warnings/venv\u001b[0m\u001b[33m\r\n",
      "\u001b[0mCollecting qiskit_machine_learning\r\n",
      "  Downloading qiskit_machine_learning-0.6.0-py3-none-any.whl (148 kB)\r\n",
      "\u001b[2K     \u001b[90m━━━━━━━━━━━━━━━━━━━━━━━━━━━━━━━━━━━━━━━\u001b[0m \u001b[32m148.7/148.7 kB\u001b[0m \u001b[31m7.3 MB/s\u001b[0m eta \u001b[36m0:00:00\u001b[0m\r\n",
      "\u001b[?25hRequirement already satisfied: scipy>=1.4 in /opt/conda/lib/python3.7/site-packages (from qiskit_machine_learning) (1.7.3)\r\n",
      "Requirement already satisfied: psutil>=5 in /opt/conda/lib/python3.7/site-packages (from qiskit_machine_learning) (5.9.3)\r\n",
      "Requirement already satisfied: scikit-learn>=0.20.0 in /opt/conda/lib/python3.7/site-packages (from qiskit_machine_learning) (1.0.2)\r\n",
      "Collecting fastdtw\r\n",
      "  Downloading fastdtw-0.3.4.tar.gz (133 kB)\r\n",
      "\u001b[2K     \u001b[90m━━━━━━━━━━━━━━━━━━━━━━━━━━━━━━━━━━━━━━\u001b[0m \u001b[32m133.4/133.4 kB\u001b[0m \u001b[31m11.7 MB/s\u001b[0m eta \u001b[36m0:00:00\u001b[0m\r\n",
      "\u001b[?25h  Preparing metadata (setup.py) ... \u001b[?25l-\b \b\\\b \bdone\r\n",
      "\u001b[?25hRequirement already satisfied: setuptools>=40.1.0 in /opt/conda/lib/python3.7/site-packages (from qiskit_machine_learning) (59.8.0)\r\n",
      "Collecting dill<0.3.6,>=0.3.4\r\n",
      "  Downloading dill-0.3.5.1-py2.py3-none-any.whl (95 kB)\r\n",
      "\u001b[2K     \u001b[90m━━━━━━━━━━━━━━━━━━━━━━━━━━━━━━━━━━━━━━━━\u001b[0m \u001b[32m95.8/95.8 kB\u001b[0m \u001b[31m8.7 MB/s\u001b[0m eta \u001b[36m0:00:00\u001b[0m\r\n",
      "\u001b[?25hRequirement already satisfied: numpy>=1.17 in /opt/conda/lib/python3.7/site-packages (from qiskit_machine_learning) (1.21.6)\r\n",
      "Requirement already satisfied: qiskit-terra>=0.22 in /opt/conda/lib/python3.7/site-packages (from qiskit_machine_learning) (0.23.3)\r\n",
      "Requirement already satisfied: sympy>=1.3 in /opt/conda/lib/python3.7/site-packages (from qiskit-terra>=0.22->qiskit_machine_learning) (1.10.1)\r\n",
      "Requirement already satisfied: symengine>=0.9 in /opt/conda/lib/python3.7/site-packages (from qiskit-terra>=0.22->qiskit_machine_learning) (0.10.0)\r\n",
      "Requirement already satisfied: rustworkx>=0.12.0 in /opt/conda/lib/python3.7/site-packages (from qiskit-terra>=0.22->qiskit_machine_learning) (0.12.1)\r\n",
      "Requirement already satisfied: python-dateutil>=2.8.0 in /opt/conda/lib/python3.7/site-packages (from qiskit-terra>=0.22->qiskit_machine_learning) (2.8.2)\r\n",
      "Requirement already satisfied: singledispatchmethod in /opt/conda/lib/python3.7/site-packages (from qiskit-terra>=0.22->qiskit_machine_learning) (1.0)\r\n",
      "Requirement already satisfied: importlib-metadata<5.0 in /opt/conda/lib/python3.7/site-packages (from qiskit-terra>=0.22->qiskit_machine_learning) (4.11.4)\r\n",
      "Requirement already satisfied: shared-memory38 in /opt/conda/lib/python3.7/site-packages (from qiskit-terra>=0.22->qiskit_machine_learning) (0.1.2)\r\n",
      "Requirement already satisfied: typing-extensions in /opt/conda/lib/python3.7/site-packages (from qiskit-terra>=0.22->qiskit_machine_learning) (4.4.0)\r\n",
      "Requirement already satisfied: ply>=3.10 in /opt/conda/lib/python3.7/site-packages (from qiskit-terra>=0.22->qiskit_machine_learning) (3.11)\r\n",
      "Requirement already satisfied: stevedore>=3.0.0 in /opt/conda/lib/python3.7/site-packages (from qiskit-terra>=0.22->qiskit_machine_learning) (3.5.2)\r\n",
      "Requirement already satisfied: joblib>=0.11 in /opt/conda/lib/python3.7/site-packages (from scikit-learn>=0.20.0->qiskit_machine_learning) (1.2.0)\r\n",
      "Requirement already satisfied: threadpoolctl>=2.0.0 in /opt/conda/lib/python3.7/site-packages (from scikit-learn>=0.20.0->qiskit_machine_learning) (3.1.0)\r\n",
      "Requirement already satisfied: zipp>=0.5 in /opt/conda/lib/python3.7/site-packages (from importlib-metadata<5.0->qiskit-terra>=0.22->qiskit_machine_learning) (3.11.0)\r\n",
      "Requirement already satisfied: six>=1.5 in /opt/conda/lib/python3.7/site-packages (from python-dateutil>=2.8.0->qiskit-terra>=0.22->qiskit_machine_learning) (1.16.0)\r\n",
      "Requirement already satisfied: pbr!=2.1.0,>=2.0.0 in /opt/conda/lib/python3.7/site-packages (from stevedore>=3.0.0->qiskit-terra>=0.22->qiskit_machine_learning) (5.11.1)\r\n",
      "Requirement already satisfied: mpmath>=0.19 in /opt/conda/lib/python3.7/site-packages (from sympy>=1.3->qiskit-terra>=0.22->qiskit_machine_learning) (1.2.1)\r\n",
      "Building wheels for collected packages: fastdtw\r\n",
      "  Building wheel for fastdtw (setup.py) ... \u001b[?25l-\b \b\\\b \b|\b \b/\b \bdone\r\n",
      "\u001b[?25h  Created wheel for fastdtw: filename=fastdtw-0.3.4-cp37-cp37m-linux_x86_64.whl size=525980 sha256=98de4827b1f28154b3e62a3f7d0923980655efbff312995670393d6798ffbf05\r\n",
      "  Stored in directory: /root/.cache/pip/wheels/3f/2f/a1/92c50d74a397d97dbf09bfe2092ff16ed8aea6e8fe553aeb13\r\n",
      "Successfully built fastdtw\r\n",
      "Installing collected packages: fastdtw, dill, qiskit_machine_learning\r\n",
      "  Attempting uninstall: dill\r\n",
      "    Found existing installation: dill 0.3.6\r\n",
      "    Uninstalling dill-0.3.6:\r\n",
      "      Successfully uninstalled dill-0.3.6\r\n",
      "\u001b[31mERROR: pip's dependency resolver does not currently take into account all the packages that are installed. This behaviour is the source of the following dependency conflicts.\r\n",
      "pathos 0.3.0 requires dill>=0.3.6, but you have dill 0.3.5.1 which is incompatible.\r\n",
      "multiprocess 0.70.14 requires dill>=0.3.6, but you have dill 0.3.5.1 which is incompatible.\r\n",
      "apache-beam 2.44.0 requires dill<0.3.2,>=0.3.1.1, but you have dill 0.3.5.1 which is incompatible.\u001b[0m\u001b[31m\r\n",
      "\u001b[0mSuccessfully installed dill-0.3.5.1 fastdtw-0.3.4 qiskit_machine_learning-0.6.0\r\n",
      "\u001b[33mWARNING: Running pip as the 'root' user can result in broken permissions and conflicting behaviour with the system package manager. It is recommended to use a virtual environment instead: https://pip.pypa.io/warnings/venv\u001b[0m\u001b[33m\r\n",
      "\u001b[0m"
     ]
    }
   ],
   "source": [
    "# Download all libraries before run notebook\n",
    "!pip install qiskit\n",
    "!pip install pylatexenc\n",
    "!pip install qiskit_machine_learning"
   ]
  },
  {
   "cell_type": "code",
   "execution_count": 2,
   "id": "eb3e075a",
   "metadata": {
    "execution": {
     "iopub.execute_input": "2023-04-06T09:34:56.293833Z",
     "iopub.status.busy": "2023-04-06T09:34:56.293357Z",
     "iopub.status.idle": "2023-04-06T09:34:57.462026Z",
     "shell.execute_reply": "2023-04-06T09:34:57.460843Z"
    },
    "papermill": {
     "duration": 1.183767,
     "end_time": "2023-04-06T09:34:57.464916",
     "exception": false,
     "start_time": "2023-04-06T09:34:56.281149",
     "status": "completed"
    },
    "tags": []
   },
   "outputs": [],
   "source": [
    "from sklearn.datasets import make_blobs\n",
    "\n",
    "# example dataset\n",
    "features, labels = make_blobs(n_samples=20, n_features=2, centers=2, random_state=3, shuffle=True)"
   ]
  },
  {
   "cell_type": "markdown",
   "id": "2f402e90",
   "metadata": {
    "papermill": {
     "duration": 0.010086,
     "end_time": "2023-04-06T09:34:57.485444",
     "exception": false,
     "start_time": "2023-04-06T09:34:57.475358",
     "status": "completed"
    },
    "tags": []
   },
   "source": [
    "We pre-process the data to ensure compatibility with the rotation encoding and split it into the training and test datasets."
   ]
  },
  {
   "cell_type": "code",
   "execution_count": 3,
   "id": "7b57a228",
   "metadata": {
    "execution": {
     "iopub.execute_input": "2023-04-06T09:34:57.508988Z",
     "iopub.status.busy": "2023-04-06T09:34:57.508503Z",
     "iopub.status.idle": "2023-04-06T09:34:57.573444Z",
     "shell.execute_reply": "2023-04-06T09:34:57.572470Z"
    },
    "papermill": {
     "duration": 0.079824,
     "end_time": "2023-04-06T09:34:57.576141",
     "exception": false,
     "start_time": "2023-04-06T09:34:57.496317",
     "status": "completed"
    },
    "tags": []
   },
   "outputs": [],
   "source": [
    "import numpy as np\n",
    "\n",
    "from sklearn.model_selection import train_test_split\n",
    "from sklearn.preprocessing import MinMaxScaler\n",
    "\n",
    "features = MinMaxScaler(feature_range=(0, np.pi)).fit_transform(features)\n",
    "\n",
    "train_features, test_features, train_labels, test_labels = train_test_split(\n",
    "    features, labels, train_size=15, shuffle=False\n",
    ")"
   ]
  },
  {
   "cell_type": "markdown",
   "id": "7d44e37d",
   "metadata": {
    "papermill": {
     "duration": 0.010442,
     "end_time": "2023-04-06T09:34:57.597346",
     "exception": false,
     "start_time": "2023-04-06T09:34:57.586904",
     "status": "completed"
    },
    "tags": []
   },
   "source": [
    "We have two features in the dataset, so we set a number of qubits to the number of features in the dataset.\n",
    "\n",
    "Then we set $\\tau$ to the number of steps performed during the training procedure. Please note that, there is no early stopping criterion in the algorithm. The algorithm iterates over all $\\tau$ steps.\n",
    "\n",
    "And the last one is the hyperparameter $C$. This is a positive regularization parameter. The strength of the regularization is inversely proportional to $C$. Smaller $C$ induce smaller weights which generally helps preventing overfitting. However, due to the nature of this algorithm, some of the computation steps become trivial for larger $C$. Thus, larger $C$ improve the performance of the algorithm drastically. If the data is linearly separable in feature space, $C$ should be chosen to be large. If the separation is not perfect, $C$ should be chosen smaller to prevent overfitting."
   ]
  },
  {
   "cell_type": "code",
   "execution_count": 4,
   "id": "0d27e407",
   "metadata": {
    "execution": {
     "iopub.execute_input": "2023-04-06T09:34:57.622969Z",
     "iopub.status.busy": "2023-04-06T09:34:57.621812Z",
     "iopub.status.idle": "2023-04-06T09:34:57.627798Z",
     "shell.execute_reply": "2023-04-06T09:34:57.626278Z"
    },
    "papermill": {
     "duration": 0.021247,
     "end_time": "2023-04-06T09:34:57.630552",
     "exception": false,
     "start_time": "2023-04-06T09:34:57.609305",
     "status": "completed"
    },
    "tags": []
   },
   "outputs": [],
   "source": [
    "# number of qubits is equal to the number of features\n",
    "num_qubits = 2\n",
    "\n",
    "# number of steps performed during the training procedure\n",
    "tau = 100\n",
    "\n",
    "# regularization parameter\n",
    "C = 1000"
   ]
  },
  {
   "cell_type": "markdown",
   "id": "91dad85e",
   "metadata": {
    "papermill": {
     "duration": 0.010115,
     "end_time": "2023-04-06T09:34:57.651277",
     "exception": false,
     "start_time": "2023-04-06T09:34:57.641162",
     "status": "completed"
    },
    "tags": []
   },
   "source": [
    "The algorithm will run using:\n",
    "\n",
    "- The default fidelity instantiated in `FidelityQuantumKernel`\n",
    "- A quantum kernel created from `ZFeatureMap`"
   ]
  },
  {
   "cell_type": "code",
   "execution_count": 5,
   "id": "93b4e7b3",
   "metadata": {
    "execution": {
     "iopub.execute_input": "2023-04-06T09:34:57.673955Z",
     "iopub.status.busy": "2023-04-06T09:34:57.673486Z",
     "iopub.status.idle": "2023-04-06T09:34:58.103610Z",
     "shell.execute_reply": "2023-04-06T09:34:58.102369Z"
    },
    "papermill": {
     "duration": 0.444995,
     "end_time": "2023-04-06T09:34:58.106588",
     "exception": false,
     "start_time": "2023-04-06T09:34:57.661593",
     "status": "completed"
    },
    "tags": []
   },
   "outputs": [],
   "source": [
    "from qiskit import BasicAer\n",
    "from qiskit.circuit.library import ZFeatureMap\n",
    "from qiskit.utils import algorithm_globals\n",
    "\n",
    "from qiskit_machine_learning.kernels import FidelityQuantumKernel\n",
    "\n",
    "algorithm_globals.random_seed = 12345\n",
    "\n",
    "feature_map = ZFeatureMap(feature_dimension=num_qubits, reps=1)\n",
    "\n",
    "qkernel = FidelityQuantumKernel(feature_map=feature_map)"
   ]
  },
  {
   "cell_type": "markdown",
   "id": "6869a860",
   "metadata": {
    "papermill": {
     "duration": 0.010527,
     "end_time": "2023-04-06T09:34:58.127762",
     "exception": false,
     "start_time": "2023-04-06T09:34:58.117235",
     "status": "completed"
    },
    "tags": []
   },
   "source": [
    "The implementation `PegasosQSVC` is compatible with the `scikit-learn` interfaces and has a pretty standard way of training a model. In the constructor we pass parameters of the algorithm, in this case there are a regularization hyper-parameter $C$ and a number of steps.\n",
    "\n",
    "Then we pass training features and labels to the `fit` method, which trains a models and returns a fitted classifier.\n",
    "\n",
    "Afterwards, we score our model using test features and labels."
   ]
  },
  {
   "cell_type": "code",
   "execution_count": 6,
   "id": "b4f8ba6a",
   "metadata": {
    "execution": {
     "iopub.execute_input": "2023-04-06T09:34:58.151828Z",
     "iopub.status.busy": "2023-04-06T09:34:58.150609Z",
     "iopub.status.idle": "2023-04-06T09:34:59.307149Z",
     "shell.execute_reply": "2023-04-06T09:34:59.305948Z"
    },
    "papermill": {
     "duration": 1.171166,
     "end_time": "2023-04-06T09:34:59.309592",
     "exception": false,
     "start_time": "2023-04-06T09:34:58.138426",
     "status": "completed"
    },
    "tags": []
   },
   "outputs": [
    {
     "name": "stdout",
     "output_type": "stream",
     "text": [
      "PegasosQSVC classification test score: 1.0\n"
     ]
    }
   ],
   "source": [
    "from qiskit_machine_learning.algorithms import PegasosQSVC\n",
    "\n",
    "pegasos_qsvc = PegasosQSVC(quantum_kernel=qkernel, C=C, num_steps=tau)\n",
    "\n",
    "# training\n",
    "pegasos_qsvc.fit(train_features, train_labels)\n",
    "\n",
    "# testing\n",
    "pegasos_score = pegasos_qsvc.score(test_features, test_labels)\n",
    "print(f\"PegasosQSVC classification test score: {pegasos_score}\")"
   ]
  },
  {
   "cell_type": "markdown",
   "id": "677e7603",
   "metadata": {
    "papermill": {
     "duration": 0.01034,
     "end_time": "2023-04-06T09:34:59.330881",
     "exception": false,
     "start_time": "2023-04-06T09:34:59.320541",
     "status": "completed"
    },
    "tags": []
   },
   "source": [
    "For visualization purposes we create a mesh grid of a predefined step that spans our minimum and maximum values we applied in MinMaxScaler. We also add some margin to the grid for better representation of the training and test samples."
   ]
  },
  {
   "cell_type": "code",
   "execution_count": 7,
   "id": "817e3428",
   "metadata": {
    "execution": {
     "iopub.execute_input": "2023-04-06T09:34:59.353780Z",
     "iopub.status.busy": "2023-04-06T09:34:59.353319Z",
     "iopub.status.idle": "2023-04-06T09:34:59.360066Z",
     "shell.execute_reply": "2023-04-06T09:34:59.358600Z"
    },
    "papermill": {
     "duration": 0.02119,
     "end_time": "2023-04-06T09:34:59.362596",
     "exception": false,
     "start_time": "2023-04-06T09:34:59.341406",
     "status": "completed"
    },
    "tags": []
   },
   "outputs": [],
   "source": [
    "grid_step = 0.2\n",
    "margin = 0.2\n",
    "grid_x, grid_y = np.meshgrid(\n",
    "    np.arange(-margin, np.pi + margin, grid_step), np.arange(-margin, np.pi + margin, grid_step)\n",
    ")"
   ]
  },
  {
   "cell_type": "markdown",
   "id": "f2f8794f",
   "metadata": {
    "papermill": {
     "duration": 0.010968,
     "end_time": "2023-04-06T09:34:59.384473",
     "exception": false,
     "start_time": "2023-04-06T09:34:59.373505",
     "status": "completed"
    },
    "tags": []
   },
   "source": [
    "We convert the grid to the shape compatible with the model, the shape should be `(n_samples, n_features)`.\n",
    "Then for each grid point we predict a label. In our case predicted labels will be used for coloring the grid."
   ]
  },
  {
   "cell_type": "code",
   "execution_count": 8,
   "id": "98d10e18",
   "metadata": {
    "execution": {
     "iopub.execute_input": "2023-04-06T09:34:59.407695Z",
     "iopub.status.busy": "2023-04-06T09:34:59.407243Z",
     "iopub.status.idle": "2023-04-06T09:35:02.210338Z",
     "shell.execute_reply": "2023-04-06T09:35:02.209241Z"
    },
    "papermill": {
     "duration": 2.818069,
     "end_time": "2023-04-06T09:35:02.213290",
     "exception": false,
     "start_time": "2023-04-06T09:34:59.395221",
     "status": "completed"
    },
    "tags": []
   },
   "outputs": [],
   "source": [
    "meshgrid_features = np.column_stack((grid_x.ravel(), grid_y.ravel()))\n",
    "meshgrid_colors = pegasos_qsvc.predict(meshgrid_features)"
   ]
  },
  {
   "cell_type": "markdown",
   "id": "57a0e5a5",
   "metadata": {
    "papermill": {
     "duration": 0.01048,
     "end_time": "2023-04-06T09:35:02.234806",
     "exception": false,
     "start_time": "2023-04-06T09:35:02.224326",
     "status": "completed"
    },
    "tags": []
   },
   "source": [
    "Finally, we plot our grid according to the labels/colors we obtained from the model. We also plot training and test samples."
   ]
  },
  {
   "cell_type": "code",
   "execution_count": 9,
   "id": "2d77f1a2",
   "metadata": {
    "execution": {
     "iopub.execute_input": "2023-04-06T09:35:02.258886Z",
     "iopub.status.busy": "2023-04-06T09:35:02.257563Z",
     "iopub.status.idle": "2023-04-06T09:35:02.555877Z",
     "shell.execute_reply": "2023-04-06T09:35:02.553886Z"
    },
    "papermill": {
     "duration": 0.312912,
     "end_time": "2023-04-06T09:35:02.558448",
     "exception": false,
     "start_time": "2023-04-06T09:35:02.245536",
     "status": "completed"
    },
    "tags": [
     "nbsphinx-thumbnail"
    ]
   },
   "outputs": [
    {
     "data": {
      "image/png": "[encoded data removed]",
      "text/plain": [
       "<Figure size 500x500 with 1 Axes>"
      ]
     },
     "metadata": {},
     "output_type": "display_data"
    }
   ],
   "source": [
    "import matplotlib.pyplot as plt\n",
    "\n",
    "plt.figure(figsize=(5, 5))\n",
    "meshgrid_colors = meshgrid_colors.reshape(grid_x.shape)\n",
    "plt.pcolormesh(grid_x, grid_y, meshgrid_colors, cmap=\"RdBu\", shading=\"auto\")\n",
    "\n",
    "plt.scatter(\n",
    "    train_features[:, 0][train_labels == 0],\n",
    "    train_features[:, 1][train_labels == 0],\n",
    "    marker=\"s\",\n",
    "    facecolors=\"w\",\n",
    "    edgecolors=\"r\",\n",
    "    label=\"A train\",\n",
    ")\n",
    "plt.scatter(\n",
    "    train_features[:, 0][train_labels == 1],\n",
    "    train_features[:, 1][train_labels == 1],\n",
    "    marker=\"o\",\n",
    "    facecolors=\"w\",\n",
    "    edgecolors=\"b\",\n",
    "    label=\"B train\",\n",
    ")\n",
    "\n",
    "plt.scatter(\n",
    "    test_features[:, 0][test_labels == 0],\n",
    "    test_features[:, 1][test_labels == 0],\n",
    "    marker=\"s\",\n",
    "    facecolors=\"r\",\n",
    "    edgecolors=\"r\",\n",
    "    label=\"A test\",\n",
    ")\n",
    "plt.scatter(\n",
    "    test_features[:, 0][test_labels == 1],\n",
    "    test_features[:, 1][test_labels == 1],\n",
    "    marker=\"o\",\n",
    "    facecolors=\"b\",\n",
    "    edgecolors=\"b\",\n",
    "    label=\"B test\",\n",
    ")\n",
    "\n",
    "plt.legend(bbox_to_anchor=(1.05, 1), loc=\"upper left\", borderaxespad=0.0)\n",
    "plt.title(\"Pegasos Classification\")\n",
    "plt.show()"
   ]
  }
 ],
 "metadata": {
  "kernelspec": {
   "display_name": "Python 3",
   "language": "python",
   "name": "python3"
  },
  "language_info": {
   "codemirror_mode": {
    "name": "ipython",
    "version": 3
   },
   "file_extension": ".py",
   "mimetype": "text/x-python",
   "name": "python",
   "nbconvert_exporter": "python",
   "pygments_lexer": "ipython3",
   "version": "3.7.12"
  },
  "papermill": {
   "default_parameters": {},
   "duration": 81.719969,
   "end_time": "2023-04-06T09:35:03.493350",
   "environment_variables": {},
   "exception": null,
   "input_path": "__notebook__.ipynb",
   "output_path": "__notebook__.ipynb",
   "parameters": {},
   "start_time": "2023-04-06T09:33:41.773381",
   "version": "2.4.0"
  }
 },
 "nbformat": 4,
 "nbformat_minor": 5
}
