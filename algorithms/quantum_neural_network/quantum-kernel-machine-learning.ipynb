{
 "cells": [
  {
   "cell_type": "markdown",
   "id": "f0bb6141",
   "metadata": {
    "papermill": {
     "duration": 0.009977,
     "end_time": "2023-04-06T09:34:37.928975",
     "exception": false,
     "start_time": "2023-04-06T09:34:37.918998",
     "status": "completed"
    },
    "tags": []
   },
   "source": [
    "## Quantum Kernel Machine Learning\n",
    "\n",
    "### Overview\n",
    "\n",
    "The general task of machine learning is to find and study patterns in data. For many datasets, the datapoints are better understood in a higher dimensional feature space. This is the fundamental principle behind a series of machine learning algorithms known as *kernel methods*.\n",
    "\n",
    "In this notebook, you will learn how to define quantum kernels using `qiskit-machine-learning` and how these can be plugged into different algorithms to solve classification and clustering problems.\n",
    "\n",
    "The content is structured as follows:\n",
    "\n",
    "1. [Introduction](#intro)\n",
    "2. [Classification](#class)    \n",
    "3. [Clustering](#clustering)\n",
    "4. [Conclusion](#conclusion)\n",
    "\n",
    "All examples used in this tutorial are based on this reference paper: [_Supervised learning with quantum enhanced feature spaces_](https://arxiv.org/pdf/1804.11326.pdf)."
   ]
  },
  {
   "cell_type": "markdown",
   "id": "e104c80b",
   "metadata": {
    "papermill": {
     "duration": 0.007875,
     "end_time": "2023-04-06T09:34:37.945547",
     "exception": false,
     "start_time": "2023-04-06T09:34:37.937672",
     "status": "completed"
    },
    "tags": []
   },
   "source": [
    "<a id='intro'></a> \n",
    "## 1. Introduction\n",
    "\n",
    "### 1.1. Kernel Methods for Machine Learning\n",
    "\n",
    "Kernel methods are a collection of pattern analysis algorithms that use kernel functions to operate in a high-dimensional feature space. The best-known application of kernel methods is in **Support Vector Machines (SVMs)**, supervised learning algorithms commonly used for classification tasks. The main goal of SVMs is to find decision boundaries to separate a given set of data points into classes. When these data spaces are not linearly separable, SVMs can benefit from the use of kernels to find these boundaries.\n",
    "\n",
    "Formally, decision boundaries are hyperplanes in a high dimensional space. The kernel function implicitly maps input data into this higher dimensional space, where it can be easier to solve the initial problem. In other words, kernels may allow data distributions that were originally non-linearly separable to become a linearly separable problem. This is an effect known as the \"kernel trick\".\n",
    "\n",
    "There are use-cases for kernel-based unsupervised algorithms too, for example, in the context of clustering. **Spectral Clustering** is a technique where data points are treated as nodes of a graph, and the clustering task is viewed as a graph partitioning problem where nodes are mapped to a space where they can be easily segregated to form clusters.\n",
    "\n",
    "### 1.2. Kernel Functions\n",
    "\n",
    "Mathematically, kernel functions follow:\n",
    "\n",
    "$k(\\vec{x}_i, \\vec{x}_j) = \\langle f(\\vec{x}_i), f(\\vec{x}_j) \\rangle$\n",
    "\n",
    "where \n",
    "* $k$ is the kernel function\n",
    "* $\\vec{x}_i, \\vec{x}_j$ are $n$ dimensional inputs\n",
    "* $f$ is a map from $n$-dimension to $m$-dimension space and \n",
    "* $\\langle a,b \\rangle$ denotes the inner product\n",
    "\n",
    "When considering finite data, a kernel function can be represented as a matrix: \n",
    "\n",
    "$K_{ij} = k(\\vec{x}_i,\\vec{x}_j)$.\n",
    "\n",
    "### 1.3. Quantum Kernels\n",
    "\n",
    "The main idea behind quantum kernel machine learning is to leverage quantum feature maps to perform the kernel trick. In this case, the quantum kernel is created by mapping a classical feature vector $\\vec{x}$ to a Hilbert space using a quantum feature map $\\phi(\\vec{x})$. Mathematically:\n",
    "\n",
    "$K_{ij} = \\left| \\langle \\phi(\\vec{x}_i)| \\phi(\\vec{x}_j) \\rangle \\right|^{2}$\n",
    "\n",
    "where \n",
    "* $K_{ij}$ is the kernel matrix\n",
    "* $\\vec{x}_i, \\vec{x}_j$ are $n$ dimensional inputs\n",
    "* $\\phi(\\vec{x})$ is the quantum feature map\n",
    "* $\\left| \\langle a|b \\rangle \\right|^{2}$ denotes the overlap of two quantum states $a$ and $b$\n",
    "\n",
    "Quantum kernels can be plugged into common classical kernel learning algorithms such as SVMs or clustering algorithms, as you will see in the examples below. They can also be leveraged in new quantum kernel methods like `QSVC` [class](https://qiskit.org/documentation/machine-learning/stubs/qiskit_machine_learning.algorithms.QSVC.html) provided by `qiskit-machine-learning` which is explored in this tutorial, and other methods as shown in later tutorials on [Pegasos QSVC](https://github.com/Qiskit/qiskit-machine-learning/blob/main/docs/tutorials/07_pegasos_qsvc.ipynb) and [QKA](https://github.com/Qiskit/qiskit-machine-learning/blob/main/docs/tutorials/08_quantum_kernel_trainer.ipynb).\n",
    "***\n",
    "\n",
    "Before introducing any example, we set up the global seed to ensure reproducibility:"
   ]
  },
  {
   "cell_type": "code",
   "execution_count": 1,
   "id": "472e9166",
   "metadata": {
    "_kg_hide-output": true,
    "execution": {
     "iopub.execute_input": "2023-04-06T09:34:37.965651Z",
     "iopub.status.busy": "2023-04-06T09:34:37.964988Z",
     "iopub.status.idle": "2023-04-06T09:35:44.688017Z",
     "shell.execute_reply": "2023-04-06T09:35:44.685880Z"
    },
    "papermill": {
     "duration": 66.737716,
     "end_time": "2023-04-06T09:35:44.691687",
     "exception": false,
     "start_time": "2023-04-06T09:34:37.953971",
     "status": "completed"
    },
    "tags": []
   },
   "outputs": [
    {
     "name": "stdout",
     "output_type": "stream",
     "text": [
      "Collecting qiskit\r\n",
      "  Downloading qiskit-0.42.1.tar.gz (14 kB)\r\n",
      "  Preparing metadata (setup.py) ... \u001b[?25l-\b \bdone\r\n",
      "\u001b[?25hCollecting qiskit-terra==0.23.3\r\n",
      "  Downloading qiskit_terra-0.23.3-cp37-cp37m-manylinux_2_17_x86_64.manylinux2014_x86_64.whl (5.1 MB)\r\n",
      "\u001b[2K     \u001b[90m━━━━━━━━━━━━━━━━━━━━━━━━━━━━━━━━━━━━━━━━\u001b[0m \u001b[32m5.1/5.1 MB\u001b[0m \u001b[31m35.3 MB/s\u001b[0m eta \u001b[36m0:00:00\u001b[0m\r\n",
      "\u001b[?25hCollecting qiskit-aer==0.12.0\r\n",
      "  Downloading qiskit_aer-0.12.0-cp37-cp37m-manylinux_2_17_x86_64.manylinux2014_x86_64.whl (12.8 MB)\r\n",
      "\u001b[2K     \u001b[90m━━━━━━━━━━━━━━━━━━━━━━━━━━━━━━━━━━━━━━━━\u001b[0m \u001b[32m12.8/12.8 MB\u001b[0m \u001b[31m54.0 MB/s\u001b[0m eta \u001b[36m0:00:00\u001b[0m\r\n",
      "\u001b[?25hCollecting qiskit-ibmq-provider==0.20.2\r\n",
      "  Downloading qiskit_ibmq_provider-0.20.2-py3-none-any.whl (241 kB)\r\n",
      "\u001b[2K     \u001b[90m━━━━━━━━━━━━━━━━━━━━━━━━━━━━━━━━━━━━━━\u001b[0m \u001b[32m241.5/241.5 kB\u001b[0m \u001b[31m18.2 MB/s\u001b[0m eta \u001b[36m0:00:00\u001b[0m\r\n",
      "\u001b[?25hRequirement already satisfied: scipy>=1.0 in /opt/conda/lib/python3.7/site-packages (from qiskit-aer==0.12.0->qiskit) (1.7.3)\r\n",
      "Requirement already satisfied: numpy>=1.16.3 in /opt/conda/lib/python3.7/site-packages (from qiskit-aer==0.12.0->qiskit) (1.21.6)\r\n",
      "Requirement already satisfied: websockets>=10.0 in /opt/conda/lib/python3.7/site-packages (from qiskit-ibmq-provider==0.20.2->qiskit) (10.4)\r\n",
      "Requirement already satisfied: urllib3>=1.21.1 in /opt/conda/lib/python3.7/site-packages (from qiskit-ibmq-provider==0.20.2->qiskit) (1.26.14)\r\n",
      "Collecting websocket-client>=1.5.1\r\n",
      "  Downloading websocket_client-1.5.1-py3-none-any.whl (55 kB)\r\n",
      "\u001b[2K     \u001b[90m━━━━━━━━━━━━━━━━━━━━━━━━━━━━━━━━━━━━━━━━\u001b[0m \u001b[32m55.9/55.9 kB\u001b[0m \u001b[31m3.8 MB/s\u001b[0m eta \u001b[36m0:00:00\u001b[0m\r\n",
      "\u001b[?25hRequirement already satisfied: python-dateutil>=2.8.0 in /opt/conda/lib/python3.7/site-packages (from qiskit-ibmq-provider==0.20.2->qiskit) (2.8.2)\r\n",
      "Collecting requests-ntlm<=1.1.0\r\n",
      "  Downloading requests_ntlm-1.1.0-py2.py3-none-any.whl (5.7 kB)\r\n",
      "Requirement already satisfied: requests>=2.19 in /opt/conda/lib/python3.7/site-packages (from qiskit-ibmq-provider==0.20.2->qiskit) (2.28.2)\r\n",
      "Collecting ply>=3.10\r\n",
      "  Downloading ply-3.11-py2.py3-none-any.whl (49 kB)\r\n",
      "\u001b[2K     \u001b[90m━━━━━━━━━━━━━━━━━━━━━━━━━━━━━━━━━━━━━━━━\u001b[0m \u001b[32m49.6/49.6 kB\u001b[0m \u001b[31m3.4 MB/s\u001b[0m eta \u001b[36m0:00:00\u001b[0m\r\n",
      "\u001b[?25hRequirement already satisfied: psutil>=5 in /opt/conda/lib/python3.7/site-packages (from qiskit-terra==0.23.3->qiskit) (5.9.3)\r\n",
      "Requirement already satisfied: dill>=0.3 in /opt/conda/lib/python3.7/site-packages (from qiskit-terra==0.23.3->qiskit) (0.3.6)\r\n",
      "Collecting rustworkx>=0.12.0\r\n",
      "  Downloading rustworkx-0.12.1-cp37-cp37m-manylinux_2_17_x86_64.manylinux2014_x86_64.whl (1.9 MB)\r\n",
      "\u001b[2K     \u001b[90m━━━━━━━━━━━━━━━━━━━━━━━━━━━━━━━━━━━━━━━━\u001b[0m \u001b[32m1.9/1.9 MB\u001b[0m \u001b[31m50.1 MB/s\u001b[0m eta \u001b[36m0:00:00\u001b[0m\r\n",
      "\u001b[?25hCollecting shared-memory38\r\n",
      "  Downloading shared_memory38-0.1.2-cp37-cp37m-manylinux_2_5_x86_64.manylinux1_x86_64.whl (25 kB)\r\n",
      "Collecting symengine>=0.9\r\n",
      "  Downloading symengine-0.10.0-cp37-cp37m-manylinux_2_12_x86_64.manylinux2010_x86_64.whl (37.4 MB)\r\n",
      "\u001b[2K     \u001b[90m━━━━━━━━━━━━━━━━━━━━━━━━━━━━━━━━━━━━━━━━\u001b[0m \u001b[32m37.4/37.4 MB\u001b[0m \u001b[31m20.4 MB/s\u001b[0m eta \u001b[36m0:00:00\u001b[0m\r\n",
      "\u001b[?25hRequirement already satisfied: typing-extensions in /opt/conda/lib/python3.7/site-packages (from qiskit-terra==0.23.3->qiskit) (4.4.0)\r\n",
      "Collecting singledispatchmethod\r\n",
      "  Downloading singledispatchmethod-1.0-py2.py3-none-any.whl (4.7 kB)\r\n",
      "Requirement already satisfied: importlib-metadata<5.0 in /opt/conda/lib/python3.7/site-packages (from qiskit-terra==0.23.3->qiskit) (4.11.4)\r\n",
      "Requirement already satisfied: sympy>=1.3 in /opt/conda/lib/python3.7/site-packages (from qiskit-terra==0.23.3->qiskit) (1.10.1)\r\n",
      "Collecting stevedore>=3.0.0\r\n",
      "  Downloading stevedore-3.5.2-py3-none-any.whl (50 kB)\r\n",
      "\u001b[2K     \u001b[90m━━━━━━━━━━━━━━━━━━━━━━━━━━━━━━━━━━━━━━━━\u001b[0m \u001b[32m50.2/50.2 kB\u001b[0m \u001b[31m3.8 MB/s\u001b[0m eta \u001b[36m0:00:00\u001b[0m\r\n",
      "\u001b[?25hRequirement already satisfied: zipp>=0.5 in /opt/conda/lib/python3.7/site-packages (from importlib-metadata<5.0->qiskit-terra==0.23.3->qiskit) (3.11.0)\r\n",
      "Requirement already satisfied: six>=1.5 in /opt/conda/lib/python3.7/site-packages (from python-dateutil>=2.8.0->qiskit-ibmq-provider==0.20.2->qiskit) (1.16.0)\r\n",
      "Requirement already satisfied: idna<4,>=2.5 in /opt/conda/lib/python3.7/site-packages (from requests>=2.19->qiskit-ibmq-provider==0.20.2->qiskit) (3.4)\r\n",
      "Requirement already satisfied: certifi>=2017.4.17 in /opt/conda/lib/python3.7/site-packages (from requests>=2.19->qiskit-ibmq-provider==0.20.2->qiskit) (2022.12.7)\r\n",
      "Requirement already satisfied: charset-normalizer<4,>=2 in /opt/conda/lib/python3.7/site-packages (from requests>=2.19->qiskit-ibmq-provider==0.20.2->qiskit) (2.1.1)\r\n",
      "Collecting ntlm-auth>=1.0.2\r\n",
      "  Downloading ntlm_auth-1.5.0-py2.py3-none-any.whl (29 kB)\r\n",
      "Requirement already satisfied: cryptography>=1.3 in /opt/conda/lib/python3.7/site-packages (from requests-ntlm<=1.1.0->qiskit-ibmq-provider==0.20.2->qiskit) (38.0.2)\r\n",
      "Collecting pbr!=2.1.0,>=2.0.0\r\n",
      "  Downloading pbr-5.11.1-py2.py3-none-any.whl (112 kB)\r\n",
      "\u001b[2K     \u001b[90m━━━━━━━━━━━━━━━━━━━━━━━━━━━━━━━━━━━━━━━\u001b[0m \u001b[32m112.7/112.7 kB\u001b[0m \u001b[31m8.5 MB/s\u001b[0m eta \u001b[36m0:00:00\u001b[0m\r\n",
      "\u001b[?25hRequirement already satisfied: mpmath>=0.19 in /opt/conda/lib/python3.7/site-packages (from sympy>=1.3->qiskit-terra==0.23.3->qiskit) (1.2.1)\r\n",
      "Requirement already satisfied: cffi>=1.12 in /opt/conda/lib/python3.7/site-packages (from cryptography>=1.3->requests-ntlm<=1.1.0->qiskit-ibmq-provider==0.20.2->qiskit) (1.15.1)\r\n",
      "Requirement already satisfied: pycparser in /opt/conda/lib/python3.7/site-packages (from cffi>=1.12->cryptography>=1.3->requests-ntlm<=1.1.0->qiskit-ibmq-provider==0.20.2->qiskit) (2.21)\r\n",
      "Building wheels for collected packages: qiskit\r\n",
      "  Building wheel for qiskit (setup.py) ... \u001b[?25l-\b \b\\\b \bdone\r\n",
      "\u001b[?25h  Created wheel for qiskit: filename=qiskit-0.42.1-py3-none-any.whl size=12942 sha256=d50d199a5ecc18ef053dc217ad9afe4bb982779cfee2daa0c979a98997b0f0ac\r\n",
      "  Stored in directory: /root/.cache/pip/wheels/91/da/30/d31269da763cce6fd356f8385f502452b55a3829d893ff9b5e\r\n",
      "Successfully built qiskit\r\n",
      "Installing collected packages: singledispatchmethod, shared-memory38, ply, websocket-client, symengine, rustworkx, pbr, ntlm-auth, stevedore, requests-ntlm, qiskit-terra, qiskit-ibmq-provider, qiskit-aer, qiskit\r\n",
      "  Attempting uninstall: websocket-client\r\n",
      "    Found existing installation: websocket-client 1.4.2\r\n",
      "    Uninstalling websocket-client-1.4.2:\r\n",
      "      Successfully uninstalled websocket-client-1.4.2\r\n",
      "Successfully installed ntlm-auth-1.5.0 pbr-5.11.1 ply-3.11 qiskit-0.42.1 qiskit-aer-0.12.0 qiskit-ibmq-provider-0.20.2 qiskit-terra-0.23.3 requests-ntlm-1.1.0 rustworkx-0.12.1 shared-memory38-0.1.2 singledispatchmethod-1.0 stevedore-3.5.2 symengine-0.10.0 websocket-client-1.5.1\r\n",
      "\u001b[33mWARNING: Running pip as the 'root' user can result in broken permissions and conflicting behaviour with the system package manager. It is recommended to use a virtual environment instead: https://pip.pypa.io/warnings/venv\u001b[0m\u001b[33m\r\n",
      "\u001b[0mCollecting pylatexenc\r\n",
      "  Downloading pylatexenc-2.10.tar.gz (162 kB)\r\n",
      "\u001b[2K     \u001b[90m━━━━━━━━━━━━━━━━━━━━━━━━━━━━━━━━━━━━━━━\u001b[0m \u001b[32m162.6/162.6 kB\u001b[0m \u001b[31m4.0 MB/s\u001b[0m eta \u001b[36m0:00:00\u001b[0m\r\n",
      "\u001b[?25h  Preparing metadata (setup.py) ... \u001b[?25l-\b \bdone\r\n",
      "\u001b[?25hBuilding wheels for collected packages: pylatexenc\r\n",
      "  Building wheel for pylatexenc (setup.py) ... \u001b[?25l-\b \bdone\r\n",
      "\u001b[?25h  Created wheel for pylatexenc: filename=pylatexenc-2.10-py3-none-any.whl size=136833 sha256=6a73eac84c5f63d87d5452bb2177a1de7011ab883f925ddd99e6392efd14e8e6\r\n",
      "  Stored in directory: /root/.cache/pip/wheels/1d/c6/5a/2b7b4933c171a55d448e0c79d5841c28cf0c2207e8eca28e22\r\n",
      "Successfully built pylatexenc\r\n",
      "Installing collected packages: pylatexenc\r\n",
      "Successfully installed pylatexenc-2.10\r\n",
      "\u001b[33mWARNING: Running pip as the 'root' user can result in broken permissions and conflicting behaviour with the system package manager. It is recommended to use a virtual environment instead: https://pip.pypa.io/warnings/venv\u001b[0m\u001b[33m\r\n",
      "\u001b[0mCollecting qiskit_machine_learning\r\n",
      "  Downloading qiskit_machine_learning-0.6.0-py3-none-any.whl (148 kB)\r\n",
      "\u001b[2K     \u001b[90m━━━━━━━━━━━━━━━━━━━━━━━━━━━━━━━━━━━━━━━\u001b[0m \u001b[32m148.7/148.7 kB\u001b[0m \u001b[31m2.8 MB/s\u001b[0m eta \u001b[36m0:00:00\u001b[0m\r\n",
      "\u001b[?25hCollecting dill<0.3.6,>=0.3.4\r\n",
      "  Downloading dill-0.3.5.1-py2.py3-none-any.whl (95 kB)\r\n",
      "\u001b[2K     \u001b[90m━━━━━━━━━━━━━━━━━━━━━━━━━━━━━━━━━━━━━━━━\u001b[0m \u001b[32m95.8/95.8 kB\u001b[0m \u001b[31m6.8 MB/s\u001b[0m eta \u001b[36m0:00:00\u001b[0m\r\n",
      "\u001b[?25hRequirement already satisfied: scikit-learn>=0.20.0 in /opt/conda/lib/python3.7/site-packages (from qiskit_machine_learning) (1.0.2)\r\n",
      "Requirement already satisfied: setuptools>=40.1.0 in /opt/conda/lib/python3.7/site-packages (from qiskit_machine_learning) (59.8.0)\r\n",
      "Requirement already satisfied: scipy>=1.4 in /opt/conda/lib/python3.7/site-packages (from qiskit_machine_learning) (1.7.3)\r\n",
      "Requirement already satisfied: psutil>=5 in /opt/conda/lib/python3.7/site-packages (from qiskit_machine_learning) (5.9.3)\r\n",
      "Collecting fastdtw\r\n",
      "  Downloading fastdtw-0.3.4.tar.gz (133 kB)\r\n",
      "\u001b[2K     \u001b[90m━━━━━━━━━━━━━━━━━━━━━━━━━━━━━━━━━━━━━━━\u001b[0m \u001b[32m133.4/133.4 kB\u001b[0m \u001b[31m9.7 MB/s\u001b[0m eta \u001b[36m0:00:00\u001b[0m\r\n",
      "\u001b[?25h  Preparing metadata (setup.py) ... \u001b[?25l-\b \b\\\b \bdone\r\n",
      "\u001b[?25hRequirement already satisfied: numpy>=1.17 in /opt/conda/lib/python3.7/site-packages (from qiskit_machine_learning) (1.21.6)\r\n",
      "Requirement already satisfied: qiskit-terra>=0.22 in /opt/conda/lib/python3.7/site-packages (from qiskit_machine_learning) (0.23.3)\r\n",
      "Requirement already satisfied: symengine>=0.9 in /opt/conda/lib/python3.7/site-packages (from qiskit-terra>=0.22->qiskit_machine_learning) (0.10.0)\r\n",
      "Requirement already satisfied: typing-extensions in /opt/conda/lib/python3.7/site-packages (from qiskit-terra>=0.22->qiskit_machine_learning) (4.4.0)\r\n",
      "Requirement already satisfied: importlib-metadata<5.0 in /opt/conda/lib/python3.7/site-packages (from qiskit-terra>=0.22->qiskit_machine_learning) (4.11.4)\r\n",
      "Requirement already satisfied: singledispatchmethod in /opt/conda/lib/python3.7/site-packages (from qiskit-terra>=0.22->qiskit_machine_learning) (1.0)\r\n",
      "Requirement already satisfied: rustworkx>=0.12.0 in /opt/conda/lib/python3.7/site-packages (from qiskit-terra>=0.22->qiskit_machine_learning) (0.12.1)\r\n",
      "Requirement already satisfied: stevedore>=3.0.0 in /opt/conda/lib/python3.7/site-packages (from qiskit-terra>=0.22->qiskit_machine_learning) (3.5.2)\r\n",
      "Requirement already satisfied: shared-memory38 in /opt/conda/lib/python3.7/site-packages (from qiskit-terra>=0.22->qiskit_machine_learning) (0.1.2)\r\n",
      "Requirement already satisfied: ply>=3.10 in /opt/conda/lib/python3.7/site-packages (from qiskit-terra>=0.22->qiskit_machine_learning) (3.11)\r\n",
      "Requirement already satisfied: sympy>=1.3 in /opt/conda/lib/python3.7/site-packages (from qiskit-terra>=0.22->qiskit_machine_learning) (1.10.1)\r\n",
      "Requirement already satisfied: python-dateutil>=2.8.0 in /opt/conda/lib/python3.7/site-packages (from qiskit-terra>=0.22->qiskit_machine_learning) (2.8.2)\r\n",
      "Requirement already satisfied: threadpoolctl>=2.0.0 in /opt/conda/lib/python3.7/site-packages (from scikit-learn>=0.20.0->qiskit_machine_learning) (3.1.0)\r\n",
      "Requirement already satisfied: joblib>=0.11 in /opt/conda/lib/python3.7/site-packages (from scikit-learn>=0.20.0->qiskit_machine_learning) (1.2.0)\r\n",
      "Requirement already satisfied: zipp>=0.5 in /opt/conda/lib/python3.7/site-packages (from importlib-metadata<5.0->qiskit-terra>=0.22->qiskit_machine_learning) (3.11.0)\r\n",
      "Requirement already satisfied: six>=1.5 in /opt/conda/lib/python3.7/site-packages (from python-dateutil>=2.8.0->qiskit-terra>=0.22->qiskit_machine_learning) (1.16.0)\r\n",
      "Requirement already satisfied: pbr!=2.1.0,>=2.0.0 in /opt/conda/lib/python3.7/site-packages (from stevedore>=3.0.0->qiskit-terra>=0.22->qiskit_machine_learning) (5.11.1)\r\n",
      "Requirement already satisfied: mpmath>=0.19 in /opt/conda/lib/python3.7/site-packages (from sympy>=1.3->qiskit-terra>=0.22->qiskit_machine_learning) (1.2.1)\r\n",
      "Building wheels for collected packages: fastdtw\r\n",
      "  Building wheel for fastdtw (setup.py) ... \u001b[?25l-\b \b\\\b \b|\b \b/\b \bdone\r\n",
      "\u001b[?25h  Created wheel for fastdtw: filename=fastdtw-0.3.4-cp37-cp37m-linux_x86_64.whl size=525973 sha256=eaf232e1bf4ee556e9dfcdd929e10e08a1f2b27c8a30e825fc938eda8ff728de\r\n",
      "  Stored in directory: /root/.cache/pip/wheels/3f/2f/a1/92c50d74a397d97dbf09bfe2092ff16ed8aea6e8fe553aeb13\r\n",
      "Successfully built fastdtw\r\n",
      "Installing collected packages: fastdtw, dill, qiskit_machine_learning\r\n",
      "  Attempting uninstall: dill\r\n",
      "    Found existing installation: dill 0.3.6\r\n",
      "    Uninstalling dill-0.3.6:\r\n",
      "      Successfully uninstalled dill-0.3.6\r\n",
      "\u001b[31mERROR: pip's dependency resolver does not currently take into account all the packages that are installed. This behaviour is the source of the following dependency conflicts.\r\n",
      "pathos 0.3.0 requires dill>=0.3.6, but you have dill 0.3.5.1 which is incompatible.\r\n",
      "multiprocess 0.70.14 requires dill>=0.3.6, but you have dill 0.3.5.1 which is incompatible.\r\n",
      "apache-beam 2.44.0 requires dill<0.3.2,>=0.3.1.1, but you have dill 0.3.5.1 which is incompatible.\u001b[0m\u001b[31m\r\n",
      "\u001b[0mSuccessfully installed dill-0.3.5.1 fastdtw-0.3.4 qiskit_machine_learning-0.6.0\r\n",
      "\u001b[33mWARNING: Running pip as the 'root' user can result in broken permissions and conflicting behaviour with the system package manager. It is recommended to use a virtual environment instead: https://pip.pypa.io/warnings/venv\u001b[0m\u001b[33m\r\n",
      "\u001b[0m"
     ]
    }
   ],
   "source": [
    "!pip install qiskit\n",
    "!pip install pylatexenc\n",
    "!pip install qiskit_machine_learning"
   ]
  },
  {
   "cell_type": "code",
   "execution_count": 2,
   "id": "116a8186",
   "metadata": {
    "execution": {
     "iopub.execute_input": "2023-04-06T09:35:44.724187Z",
     "iopub.status.busy": "2023-04-06T09:35:44.723706Z",
     "iopub.status.idle": "2023-04-06T09:35:45.237143Z",
     "shell.execute_reply": "2023-04-06T09:35:45.235993Z"
    },
    "papermill": {
     "duration": 0.533959,
     "end_time": "2023-04-06T09:35:45.240654",
     "exception": false,
     "start_time": "2023-04-06T09:35:44.706695",
     "status": "completed"
    },
    "tags": []
   },
   "outputs": [],
   "source": [
    "from qiskit.utils import algorithm_globals\n",
    "\n",
    "algorithm_globals.random_seed = 12345"
   ]
  },
  {
   "cell_type": "markdown",
   "id": "418372ec",
   "metadata": {
    "papermill": {
     "duration": 0.01429,
     "end_time": "2023-04-06T09:35:45.271697",
     "exception": false,
     "start_time": "2023-04-06T09:35:45.257407",
     "status": "completed"
    },
    "tags": []
   },
   "source": [
    "<a id='class'></a> \n",
    "## 2. Classification\n",
    "\n",
    "This section illustrates a quantum kernel classification workflow using `qiskit-machine-learning`."
   ]
  },
  {
   "cell_type": "markdown",
   "id": "7453af7c",
   "metadata": {
    "papermill": {
     "duration": 0.015405,
     "end_time": "2023-04-06T09:35:45.302573",
     "exception": false,
     "start_time": "2023-04-06T09:35:45.287168",
     "status": "completed"
    },
    "tags": []
   },
   "source": [
    "### 2.1. Defining the dataset"
   ]
  },
  {
   "cell_type": "markdown",
   "id": "fa31e257",
   "metadata": {
    "papermill": {
     "duration": 0.015605,
     "end_time": "2023-04-06T09:35:45.333058",
     "exception": false,
     "start_time": "2023-04-06T09:35:45.317453",
     "status": "completed"
    },
    "tags": []
   },
   "source": [
    "For this example, we will use the _ad hoc dataset_ as described in the reference [paper](https://arxiv.org/pdf/1804.11326.pdf). \n",
    "\n",
    "We can define the dataset dimension and get our train and test subsets:"
   ]
  },
  {
   "cell_type": "code",
   "execution_count": 3,
   "id": "0c0e24e9",
   "metadata": {
    "execution": {
     "iopub.execute_input": "2023-04-06T09:35:45.366091Z",
     "iopub.status.busy": "2023-04-06T09:35:45.365330Z",
     "iopub.status.idle": "2023-04-06T09:35:47.129942Z",
     "shell.execute_reply": "2023-04-06T09:35:47.128352Z"
    },
    "papermill": {
     "duration": 1.78478,
     "end_time": "2023-04-06T09:35:47.133563",
     "exception": false,
     "start_time": "2023-04-06T09:35:45.348783",
     "status": "completed"
    },
    "tags": []
   },
   "outputs": [],
   "source": [
    "from qiskit_machine_learning.datasets import ad_hoc_data\n",
    "\n",
    "adhoc_dimension = 2\n",
    "train_features, train_labels, test_features, test_labels, adhoc_total = ad_hoc_data(\n",
    "    training_size=20,\n",
    "    test_size=5,\n",
    "    n=adhoc_dimension,\n",
    "    gap=0.3,\n",
    "    plot_data=False,\n",
    "    one_hot=False,\n",
    "    include_sample_total=True,\n",
    ")"
   ]
  },
  {
   "cell_type": "markdown",
   "id": "662c9afc",
   "metadata": {
    "papermill": {
     "duration": 0.015001,
     "end_time": "2023-04-06T09:35:47.164231",
     "exception": false,
     "start_time": "2023-04-06T09:35:47.149230",
     "status": "completed"
    },
    "tags": []
   },
   "source": [
    "This dataset is two-dimensional, the two features are represented by the $x$ and $y$ coordinates, and it has two class labels: A and B. We can plot it and see what the distribution looks like:"
   ]
  },
  {
   "cell_type": "code",
   "execution_count": 4,
   "id": "6bc2f49b",
   "metadata": {
    "execution": {
     "iopub.execute_input": "2023-04-06T09:35:47.196971Z",
     "iopub.status.busy": "2023-04-06T09:35:47.196407Z",
     "iopub.status.idle": "2023-04-06T09:35:47.567328Z",
     "shell.execute_reply": "2023-04-06T09:35:47.565432Z"
    },
    "papermill": {
     "duration": 0.390751,
     "end_time": "2023-04-06T09:35:47.570217",
     "exception": false,
     "start_time": "2023-04-06T09:35:47.179466",
     "status": "completed"
    },
    "tags": [
     "nbsphinx-thumbnail"
    ]
   },
   "outputs": [
    {
     "data": {
      "image/png": "[encoded data removed]",
      "text/plain": [
       "<Figure size 500x500 with 1 Axes>"
      ]
     },
     "metadata": {},
     "output_type": "display_data"
    }
   ],
   "source": [
    "import matplotlib.pyplot as plt\n",
    "import numpy as np\n",
    "\n",
    "plt.figure(figsize=(5, 5))\n",
    "plt.ylim(0, 2 * np.pi)\n",
    "plt.xlim(0, 2 * np.pi)\n",
    "plt.imshow(\n",
    "    np.asmatrix(adhoc_total).T,\n",
    "    interpolation=\"nearest\",\n",
    "    origin=\"lower\",\n",
    "    cmap=\"RdBu\",\n",
    "    extent=[0, 2 * np.pi, 0, 2 * np.pi],\n",
    ")\n",
    "\n",
    "# A train plot\n",
    "plt.scatter(\n",
    "    train_features[\n",
    "        np.where(train_labels[:] == 0), 0\n",
    "    ],  # x coordinate of train_labels where class is 0\n",
    "    train_features[\n",
    "        np.where(train_labels[:] == 0), 1\n",
    "    ],  # y coordinate of train_labels where class is 0\n",
    "    marker=\"s\",\n",
    "    facecolors=\"w\",\n",
    "    edgecolors=\"b\",\n",
    "    label=\"A train\",\n",
    ")\n",
    "\n",
    "# B train plot\n",
    "plt.scatter(\n",
    "    train_features[\n",
    "        np.where(train_labels[:] == 1), 0\n",
    "    ],  # x coordinate of train_labels where class is 1\n",
    "    train_features[\n",
    "        np.where(train_labels[:] == 1), 1\n",
    "    ],  # y coordinate of train_labels where class is 1\n",
    "    marker=\"o\",\n",
    "    facecolors=\"w\",\n",
    "    edgecolors=\"r\",\n",
    "    label=\"B train\",\n",
    ")\n",
    "\n",
    "# A test plot\n",
    "plt.scatter(\n",
    "    test_features[np.where(test_labels[:] == 0), 0],  # x coordinate of test_labels where class is 0\n",
    "    test_features[np.where(test_labels[:] == 0), 1],  # y coordinate of test_labels where class is 0\n",
    "    marker=\"s\",\n",
    "    facecolors=\"b\",\n",
    "    edgecolors=\"w\",\n",
    "    label=\"A test\",\n",
    ")\n",
    "\n",
    "# B test plot\n",
    "plt.scatter(\n",
    "    test_features[np.where(test_labels[:] == 1), 0],  # x coordinate of test_labels where class is 1\n",
    "    test_features[np.where(test_labels[:] == 1), 1],  # y coordinate of test_labels where class is 1\n",
    "    marker=\"o\",\n",
    "    facecolors=\"r\",\n",
    "    edgecolors=\"w\",\n",
    "    label=\"B test\",\n",
    ")\n",
    "\n",
    "plt.legend(bbox_to_anchor=(1.05, 1), loc=\"upper left\", borderaxespad=0.0)\n",
    "plt.title(\"Ad hoc dataset for classification\")\n",
    "\n",
    "plt.show()"
   ]
  },
  {
   "cell_type": "markdown",
   "id": "c945de0d",
   "metadata": {
    "papermill": {
     "duration": 0.014597,
     "end_time": "2023-04-06T09:35:47.599564",
     "exception": false,
     "start_time": "2023-04-06T09:35:47.584967",
     "status": "completed"
    },
    "tags": []
   },
   "source": [
    "### 2.2. Defining the quantum kernel\n",
    "\n",
    "The next step is to create a quantum kernel instance that will help classify this data. \n",
    "\n",
    "We use the `FidelityQuantumKernel` [class](https://github.com/Qiskit/qiskit-machine-learning/blob/main/qiskit_machine_learning/kernels/fidelity_quantum_kernel.py), and pass two input arguments to its constructor: \n",
    "\n",
    "1. `feature_map`: in this case, a two-qubit `ZZFeatureMap` [instance](https://qiskit.org/documentation/stubs/qiskit.circuit.library.ZZFeatureMap.html).\n",
    "\n",
    "2. `fidelity`: in this case, the `ComputeUncompute` [fidelity](https://qiskit.org/documentation/stubs/qiskit.algorithms.state_fidelities.ComputeUncompute.html) subroutine that leverages the `Sampler` [primitive](https://qiskit.org/documentation/stubs/qiskit.primitives.Sampler.html).\n",
    "\n",
    "**NOTE:** If you don't pass a `Sampler` or `Fidelity` instance, then the instances of the reference `Sampler` and `ComputeUncompute` classes (found in `qiskit.primitives`) will be created by default."
   ]
  },
  {
   "cell_type": "code",
   "execution_count": 5,
   "id": "414d05a5",
   "metadata": {
    "execution": {
     "iopub.execute_input": "2023-04-06T09:35:47.632283Z",
     "iopub.status.busy": "2023-04-06T09:35:47.631847Z",
     "iopub.status.idle": "2023-04-06T09:35:47.752742Z",
     "shell.execute_reply": "2023-04-06T09:35:47.751418Z"
    },
    "papermill": {
     "duration": 0.140971,
     "end_time": "2023-04-06T09:35:47.756159",
     "exception": false,
     "start_time": "2023-04-06T09:35:47.615188",
     "status": "completed"
    },
    "tags": []
   },
   "outputs": [],
   "source": [
    "from qiskit.circuit.library import ZZFeatureMap\n",
    "from qiskit.primitives import Sampler\n",
    "from qiskit.algorithms.state_fidelities import ComputeUncompute\n",
    "from qiskit_machine_learning.kernels import FidelityQuantumKernel\n",
    "\n",
    "adhoc_feature_map = ZZFeatureMap(feature_dimension=adhoc_dimension, reps=2, entanglement=\"linear\")\n",
    "\n",
    "sampler = Sampler()\n",
    "\n",
    "fidelity = ComputeUncompute(sampler=sampler)\n",
    "\n",
    "adhoc_kernel = FidelityQuantumKernel(fidelity=fidelity, feature_map=adhoc_feature_map)"
   ]
  },
  {
   "cell_type": "markdown",
   "id": "3f9682ad",
   "metadata": {
    "papermill": {
     "duration": 0.014817,
     "end_time": "2023-04-06T09:35:47.786226",
     "exception": false,
     "start_time": "2023-04-06T09:35:47.771409",
     "status": "completed"
    },
    "tags": []
   },
   "source": [
    "### 2.3. Classification with SVC\n",
    "The quantum kernel can now be plugged into classical kernel methods, such as the `SVC` [algorithm](https://scikit-learn.org/stable/modules/svm.html) from `scikit-learn`. This algorithm allows us to define a [custom kernel](https://scikit-learn.org/stable/modules/svm.html#custom-kernels) in two ways: \n",
    "1. by providing the kernel as a **callable function**\n",
    "2. by precomputing the **kernel matrix**"
   ]
  },
  {
   "cell_type": "markdown",
   "id": "79c13bd5",
   "metadata": {
    "papermill": {
     "duration": 0.015581,
     "end_time": "2023-04-06T09:35:47.817163",
     "exception": false,
     "start_time": "2023-04-06T09:35:47.801582",
     "status": "completed"
    },
    "tags": []
   },
   "source": [
    "#### Kernel as a callable function\n",
    "\n",
    "We define a SVC model and directly pass the `evaluate` function of the quantum kernel as a callable. Once the model is created, we train it by calling the `fit` method on the training dataset and evaluate the model for accuracy with `score`."
   ]
  },
  {
   "cell_type": "code",
   "execution_count": 6,
   "id": "eba2f45e",
   "metadata": {
    "execution": {
     "iopub.execute_input": "2023-04-06T09:35:47.851465Z",
     "iopub.status.busy": "2023-04-06T09:35:47.851058Z",
     "iopub.status.idle": "2023-04-06T09:35:54.373809Z",
     "shell.execute_reply": "2023-04-06T09:35:54.371835Z"
    },
    "papermill": {
     "duration": 6.543888,
     "end_time": "2023-04-06T09:35:54.376913",
     "exception": false,
     "start_time": "2023-04-06T09:35:47.833025",
     "status": "completed"
    },
    "tags": []
   },
   "outputs": [
    {
     "name": "stdout",
     "output_type": "stream",
     "text": [
      "Callable kernel classification test score: 1.0\n"
     ]
    }
   ],
   "source": [
    "from sklearn.svm import SVC\n",
    "\n",
    "adhoc_svc = SVC(kernel=adhoc_kernel.evaluate)\n",
    "\n",
    "adhoc_svc.fit(train_features, train_labels)\n",
    "\n",
    "adhoc_score_callable_function = adhoc_svc.score(test_features, test_labels)\n",
    "\n",
    "print(f\"Callable kernel classification test score: {adhoc_score_callable_function}\")"
   ]
  },
  {
   "cell_type": "markdown",
   "id": "222efbfb",
   "metadata": {
    "papermill": {
     "duration": 0.015324,
     "end_time": "2023-04-06T09:35:54.407853",
     "exception": false,
     "start_time": "2023-04-06T09:35:54.392529",
     "status": "completed"
    },
    "tags": []
   },
   "source": [
    "#### Precomputed kernel matrix\n",
    "\n",
    "Instead of passing a function of the quantum kernel as a callable, we can also precompute training and testing kernel matrices before passing them to the `scikit-learn` `SVC` algorithm. \n",
    "\n",
    "To extract the train and test matrices, we can call `evaluate` on the previously defined kernel and visualize them graphically as follows:"
   ]
  },
  {
   "cell_type": "code",
   "execution_count": 7,
   "id": "d25191d8",
   "metadata": {
    "execution": {
     "iopub.execute_input": "2023-04-06T09:35:54.442564Z",
     "iopub.status.busy": "2023-04-06T09:35:54.440894Z",
     "iopub.status.idle": "2023-04-06T09:36:00.748096Z",
     "shell.execute_reply": "2023-04-06T09:36:00.747068Z"
    },
    "papermill": {
     "duration": 6.327452,
     "end_time": "2023-04-06T09:36:00.751308",
     "exception": false,
     "start_time": "2023-04-06T09:35:54.423856",
     "status": "completed"
    },
    "tags": []
   },
   "outputs": [
    {
     "data": {
      "image/png": "[encoded data removed]",
      "text/plain": [
       "<Figure size 1000x500 with 2 Axes>"
      ]
     },
     "metadata": {},
     "output_type": "display_data"
    }
   ],
   "source": [
    "adhoc_matrix_train = adhoc_kernel.evaluate(x_vec=train_features)\n",
    "adhoc_matrix_test = adhoc_kernel.evaluate(x_vec=test_features, y_vec=train_features)\n",
    "\n",
    "fig, axs = plt.subplots(1, 2, figsize=(10, 5))\n",
    "\n",
    "axs[0].imshow(\n",
    "    np.asmatrix(adhoc_matrix_train), interpolation=\"nearest\", origin=\"upper\", cmap=\"Blues\"\n",
    ")\n",
    "axs[0].set_title(\"Ad hoc training kernel matrix\")\n",
    "\n",
    "axs[1].imshow(np.asmatrix(adhoc_matrix_test), interpolation=\"nearest\", origin=\"upper\", cmap=\"Reds\")\n",
    "axs[1].set_title(\"Ad hoc testing kernel matrix\")\n",
    "\n",
    "plt.show()"
   ]
  },
  {
   "cell_type": "markdown",
   "id": "91bb6e26",
   "metadata": {
    "papermill": {
     "duration": 0.016011,
     "end_time": "2023-04-06T09:36:00.783767",
     "exception": false,
     "start_time": "2023-04-06T09:36:00.767756",
     "status": "completed"
    },
    "tags": []
   },
   "source": [
    "To use these matrices, we set the `kernel` parameter of a new `SVC` instance to `\"precomputed\"`. We train the classifier by calling `fit` with the training matrix and training dataset. Once the model is trained, we evaluate it using the test matrix on the test dataset."
   ]
  },
  {
   "cell_type": "code",
   "execution_count": 8,
   "id": "d819606e",
   "metadata": {
    "execution": {
     "iopub.execute_input": "2023-04-06T09:36:00.819899Z",
     "iopub.status.busy": "2023-04-06T09:36:00.819149Z",
     "iopub.status.idle": "2023-04-06T09:36:00.827643Z",
     "shell.execute_reply": "2023-04-06T09:36:00.826082Z"
    },
    "papermill": {
     "duration": 0.030135,
     "end_time": "2023-04-06T09:36:00.830757",
     "exception": false,
     "start_time": "2023-04-06T09:36:00.800622",
     "status": "completed"
    },
    "tags": []
   },
   "outputs": [
    {
     "name": "stdout",
     "output_type": "stream",
     "text": [
      "Precomputed kernel classification test score: 1.0\n"
     ]
    }
   ],
   "source": [
    "adhoc_svc = SVC(kernel=\"precomputed\")\n",
    "\n",
    "adhoc_svc.fit(adhoc_matrix_train, train_labels)\n",
    "\n",
    "adhoc_score_precomputed_kernel = adhoc_svc.score(adhoc_matrix_test, test_labels)\n",
    "\n",
    "print(f\"Precomputed kernel classification test score: {adhoc_score_precomputed_kernel}\")"
   ]
  },
  {
   "cell_type": "markdown",
   "id": "eae0d76e",
   "metadata": {
    "papermill": {
     "duration": 0.015821,
     "end_time": "2023-04-06T09:36:00.863346",
     "exception": false,
     "start_time": "2023-04-06T09:36:00.847525",
     "status": "completed"
    },
    "tags": []
   },
   "source": [
    "### 2.4. Classification with QSVC\n",
    "\n",
    "`QSVC` is an alternative training algorithm provided by `qiskit-machine-learning` for convenience. It is an extension of `SVC` that takes in a quantum kernel instead of the `kernel.evaluate` method shown before."
   ]
  },
  {
   "cell_type": "code",
   "execution_count": 9,
   "id": "b7474ae3",
   "metadata": {
    "execution": {
     "iopub.execute_input": "2023-04-06T09:36:00.899162Z",
     "iopub.status.busy": "2023-04-06T09:36:00.898697Z",
     "iopub.status.idle": "2023-04-06T09:36:06.856640Z",
     "shell.execute_reply": "2023-04-06T09:36:06.855097Z"
    },
    "papermill": {
     "duration": 5.979889,
     "end_time": "2023-04-06T09:36:06.859770",
     "exception": false,
     "start_time": "2023-04-06T09:36:00.879881",
     "status": "completed"
    },
    "tags": []
   },
   "outputs": [
    {
     "name": "stdout",
     "output_type": "stream",
     "text": [
      "QSVC classification test score: 1.0\n"
     ]
    }
   ],
   "source": [
    "from qiskit_machine_learning.algorithms import QSVC\n",
    "\n",
    "qsvc = QSVC(quantum_kernel=adhoc_kernel)\n",
    "\n",
    "qsvc.fit(train_features, train_labels)\n",
    "\n",
    "qsvc_score = qsvc.score(test_features, test_labels)\n",
    "\n",
    "print(f\"QSVC classification test score: {qsvc_score}\")"
   ]
  },
  {
   "cell_type": "markdown",
   "id": "2e0aeed9",
   "metadata": {
    "papermill": {
     "duration": 0.01526,
     "end_time": "2023-04-06T09:36:06.891209",
     "exception": false,
     "start_time": "2023-04-06T09:36:06.875949",
     "status": "completed"
    },
    "tags": []
   },
   "source": [
    "### 2.5. Evaluation of models used for classification"
   ]
  },
  {
   "cell_type": "code",
   "execution_count": 10,
   "id": "d9766557",
   "metadata": {
    "execution": {
     "iopub.execute_input": "2023-04-06T09:36:06.925294Z",
     "iopub.status.busy": "2023-04-06T09:36:06.924797Z",
     "iopub.status.idle": "2023-04-06T09:36:06.932814Z",
     "shell.execute_reply": "2023-04-06T09:36:06.931134Z"
    },
    "papermill": {
     "duration": 0.029652,
     "end_time": "2023-04-06T09:36:06.936521",
     "exception": false,
     "start_time": "2023-04-06T09:36:06.906869",
     "status": "completed"
    },
    "tags": []
   },
   "outputs": [
    {
     "name": "stdout",
     "output_type": "stream",
     "text": [
      "Classification Model                    | Accuracy Score\n",
      "---------------------------------------------------------\n",
      "SVC using kernel as a callable function |       1.00\n",
      "SVC using precomputed kernel matrix     |       1.00\n",
      "QSVC                                    |       1.00\n"
     ]
    }
   ],
   "source": [
    "print(f\"Classification Model                    | Accuracy Score\")\n",
    "print(f\"---------------------------------------------------------\")\n",
    "print(f\"SVC using kernel as a callable function | {adhoc_score_callable_function:10.2f}\")\n",
    "print(f\"SVC using precomputed kernel matrix     | {adhoc_score_precomputed_kernel:10.2f}\")\n",
    "print(f\"QSVC                                    | {qsvc_score:10.2f}\")"
   ]
  },
  {
   "cell_type": "markdown",
   "id": "9834e3d9",
   "metadata": {
    "papermill": {
     "duration": 0.015254,
     "end_time": "2023-04-06T09:36:06.967504",
     "exception": false,
     "start_time": "2023-04-06T09:36:06.952250",
     "status": "completed"
    },
    "tags": []
   },
   "source": [
    "As the classification dataset is small, we find that the three models achieve 100% accuracy."
   ]
  },
  {
   "cell_type": "markdown",
   "id": "f38ae1bb",
   "metadata": {
    "papermill": {
     "duration": 0.015431,
     "end_time": "2023-04-06T09:36:06.998499",
     "exception": false,
     "start_time": "2023-04-06T09:36:06.983068",
     "status": "completed"
    },
    "tags": []
   },
   "source": [
    "<a id='clustering'></a> \n",
    "## 3. Clustering\n",
    "\n",
    "The second workflow in this tutorial focuses on a clustering task using `qiskit-machine-learning` and the spectral clustering algorithm from `scikit-learn`."
   ]
  },
  {
   "cell_type": "markdown",
   "id": "64c0535a",
   "metadata": {
    "papermill": {
     "duration": 0.015356,
     "end_time": "2023-04-06T09:36:07.029415",
     "exception": false,
     "start_time": "2023-04-06T09:36:07.014059",
     "status": "completed"
    },
    "tags": []
   },
   "source": [
    "### 3.1. Defining the dataset\n",
    "\n",
    "We will once again use the _ad hoc dataset_, but now generated with a higher gap of `0.6` (previous example: `0.3`) between the two classes. \n",
    "\n",
    "Note that clustering falls under the category of unsupervised machine learning, so a test dataset is not required."
   ]
  },
  {
   "cell_type": "code",
   "execution_count": 11,
   "id": "23533f82",
   "metadata": {
    "execution": {
     "iopub.execute_input": "2023-04-06T09:36:07.063889Z",
     "iopub.status.busy": "2023-04-06T09:36:07.063432Z",
     "iopub.status.idle": "2023-04-06T09:36:07.674344Z",
     "shell.execute_reply": "2023-04-06T09:36:07.672833Z"
    },
    "papermill": {
     "duration": 0.63176,
     "end_time": "2023-04-06T09:36:07.677691",
     "exception": false,
     "start_time": "2023-04-06T09:36:07.045931",
     "status": "completed"
    },
    "tags": []
   },
   "outputs": [],
   "source": [
    "adhoc_dimension = 2\n",
    "train_features, train_labels, test_features, test_labels, adhoc_total = ad_hoc_data(\n",
    "    training_size=25,\n",
    "    test_size=0,\n",
    "    n=adhoc_dimension,\n",
    "    gap=0.6,\n",
    "    plot_data=False,\n",
    "    one_hot=False,\n",
    "    include_sample_total=True,\n",
    ")"
   ]
  },
  {
   "cell_type": "markdown",
   "id": "a2489f9d",
   "metadata": {
    "papermill": {
     "duration": 0.016386,
     "end_time": "2023-04-06T09:36:07.710589",
     "exception": false,
     "start_time": "2023-04-06T09:36:07.694203",
     "status": "completed"
    },
    "tags": []
   },
   "source": [
    " We plot the clustering dataset below:"
   ]
  },
  {
   "cell_type": "code",
   "execution_count": 12,
   "id": "455abae7",
   "metadata": {
    "execution": {
     "iopub.execute_input": "2023-04-06T09:36:07.747280Z",
     "iopub.status.busy": "2023-04-06T09:36:07.745981Z",
     "iopub.status.idle": "2023-04-06T09:36:08.031117Z",
     "shell.execute_reply": "2023-04-06T09:36:08.029481Z"
    },
    "papermill": {
     "duration": 0.30591,
     "end_time": "2023-04-06T09:36:08.034120",
     "exception": false,
     "start_time": "2023-04-06T09:36:07.728210",
     "status": "completed"
    },
    "tags": []
   },
   "outputs": [
    {
     "data": {
      "image/png": "[encoded data removed]",
      "text/plain": [
       "<Figure size 500x500 with 1 Axes>"
      ]
     },
     "metadata": {},
     "output_type": "display_data"
    }
   ],
   "source": [
    "plt.figure(figsize=(5, 5))\n",
    "plt.ylim(0, 2 * np.pi)\n",
    "plt.xlim(0, 2 * np.pi)\n",
    "plt.imshow(\n",
    "    np.asmatrix(adhoc_total).T,\n",
    "    interpolation=\"nearest\",\n",
    "    origin=\"lower\",\n",
    "    cmap=\"RdBu\",\n",
    "    extent=[0, 2 * np.pi, 0, 2 * np.pi],\n",
    ")\n",
    "\n",
    "# A label plot\n",
    "plt.scatter(\n",
    "    # x coordinate (index 0) of training data where class is A or label is 0\n",
    "    train_features[np.where(train_labels[:] == 0), 0],\n",
    "    # y coordinate (index 1) of training data where class is A or label is 0\n",
    "    train_features[np.where(train_labels[:] == 0), 1],\n",
    "    marker=\"s\",\n",
    "    facecolors=\"w\",\n",
    "    edgecolors=\"b\",\n",
    "    label=\"A\",\n",
    ")\n",
    "\n",
    "# B label plot\n",
    "plt.scatter(\n",
    "    # x coordinate (index 0) of training data where class is B or label is 1\n",
    "    train_features[np.where(train_labels[:] == 1), 0],\n",
    "    # y coordinate (index 1) of training data where class is B or label is 1\n",
    "    train_features[np.where(train_labels[:] == 1), 1],\n",
    "    marker=\"o\",\n",
    "    facecolors=\"w\",\n",
    "    edgecolors=\"r\",\n",
    "    label=\"B\",\n",
    ")\n",
    "\n",
    "plt.legend(bbox_to_anchor=(1.05, 1), loc=\"upper left\", borderaxespad=0.0)\n",
    "plt.title(\"Ad hoc dataset for clustering\")\n",
    "\n",
    "plt.show()"
   ]
  },
  {
   "cell_type": "markdown",
   "id": "b54535c2",
   "metadata": {
    "papermill": {
     "duration": 0.015902,
     "end_time": "2023-04-06T09:36:08.066878",
     "exception": false,
     "start_time": "2023-04-06T09:36:08.050976",
     "status": "completed"
    },
    "tags": []
   },
   "source": [
    "### 3.2. Defining the Quantum Kernel\n",
    "We use an identical setup as in the classification example. We create another instance of the `FidelityQuantumKernel` class with a `ZZFeatureMap`, but you might notice that in this case we do not provide a `fidelity` instance. This is because the `ComputeUncompute` method provided in the previous case is instantiated by default when the fidelity instance is not provided explicitly. "
   ]
  },
  {
   "cell_type": "code",
   "execution_count": 13,
   "id": "51585677",
   "metadata": {
    "execution": {
     "iopub.execute_input": "2023-04-06T09:36:08.101956Z",
     "iopub.status.busy": "2023-04-06T09:36:08.101401Z",
     "iopub.status.idle": "2023-04-06T09:36:08.118279Z",
     "shell.execute_reply": "2023-04-06T09:36:08.116688Z"
    },
    "papermill": {
     "duration": 0.038674,
     "end_time": "2023-04-06T09:36:08.121780",
     "exception": false,
     "start_time": "2023-04-06T09:36:08.083106",
     "status": "completed"
    },
    "tags": []
   },
   "outputs": [],
   "source": [
    "adhoc_feature_map = ZZFeatureMap(feature_dimension=adhoc_dimension, reps=2, entanglement=\"linear\")\n",
    "\n",
    "adhoc_kernel = FidelityQuantumKernel(feature_map=adhoc_feature_map)"
   ]
  },
  {
   "cell_type": "markdown",
   "id": "e46584e5",
   "metadata": {
    "papermill": {
     "duration": 0.016076,
     "end_time": "2023-04-06T09:36:08.154439",
     "exception": false,
     "start_time": "2023-04-06T09:36:08.138363",
     "status": "completed"
    },
    "tags": []
   },
   "source": [
    "### 3.3. Clustering with the Spectral Clustering Model\n",
    "\n",
    "The `scikit-learn` spectral clustering algorithm allows us to define a custom kernel in two ways (just like `SVC`):\n",
    "1. by providing the kernel as a **callable function**\n",
    "2. by precomputing the **kernel matrix**. \n",
    "\n",
    "With the current `FidelityQuantumKernel` class in `qiskit-machine-learning`, we can only use the latter option, so we precompute the kernel matrix by calling `evaluate` and visualize it as follows:"
   ]
  },
  {
   "cell_type": "code",
   "execution_count": 14,
   "id": "a35bf488",
   "metadata": {
    "execution": {
     "iopub.execute_input": "2023-04-06T09:36:08.191476Z",
     "iopub.status.busy": "2023-04-06T09:36:08.189923Z",
     "iopub.status.idle": "2023-04-06T09:36:14.849931Z",
     "shell.execute_reply": "2023-04-06T09:36:14.848011Z"
    },
    "papermill": {
     "duration": 6.682311,
     "end_time": "2023-04-06T09:36:14.853272",
     "exception": false,
     "start_time": "2023-04-06T09:36:08.170961",
     "status": "completed"
    },
    "tags": []
   },
   "outputs": [
    {
     "data": {
      "image/png": "[encoded data removed]",
      "text/plain": [
       "<Figure size 500x500 with 1 Axes>"
      ]
     },
     "metadata": {},
     "output_type": "display_data"
    }
   ],
   "source": [
    "adhoc_matrix = adhoc_kernel.evaluate(x_vec=train_features)\n",
    "\n",
    "plt.figure(figsize=(5, 5))\n",
    "plt.imshow(np.asmatrix(adhoc_matrix), interpolation=\"nearest\", origin=\"upper\", cmap=\"Greens\")\n",
    "plt.title(\"Ad hoc clustering kernel matrix\")\n",
    "plt.show()"
   ]
  },
  {
   "cell_type": "markdown",
   "id": "5c8b8c29",
   "metadata": {
    "papermill": {
     "duration": 0.017421,
     "end_time": "2023-04-06T09:36:14.888428",
     "exception": false,
     "start_time": "2023-04-06T09:36:14.871007",
     "status": "completed"
    },
    "tags": []
   },
   "source": [
    "Next, we define a spectral clustering model and fit it using the precomputed kernel. Further, we score the labels using normalized mutual information, since we know the class labels a priori (before hand)."
   ]
  },
  {
   "cell_type": "code",
   "execution_count": 15,
   "id": "d1121441",
   "metadata": {
    "execution": {
     "iopub.execute_input": "2023-04-06T09:36:14.926891Z",
     "iopub.status.busy": "2023-04-06T09:36:14.926357Z",
     "iopub.status.idle": "2023-04-06T09:36:15.270328Z",
     "shell.execute_reply": "2023-04-06T09:36:15.269171Z"
    },
    "papermill": {
     "duration": 0.366402,
     "end_time": "2023-04-06T09:36:15.273386",
     "exception": false,
     "start_time": "2023-04-06T09:36:14.906984",
     "status": "completed"
    },
    "tags": []
   },
   "outputs": [
    {
     "name": "stdout",
     "output_type": "stream",
     "text": [
      "Clustering score: 0.7287008798015754\n"
     ]
    }
   ],
   "source": [
    "from sklearn.cluster import SpectralClustering\n",
    "from sklearn.metrics import normalized_mutual_info_score\n",
    "\n",
    "adhoc_spectral = SpectralClustering(2, affinity=\"precomputed\")\n",
    "\n",
    "cluster_labels = adhoc_spectral.fit_predict(adhoc_matrix)\n",
    "\n",
    "cluster_score = normalized_mutual_info_score(cluster_labels, train_labels)\n",
    "\n",
    "print(f\"Clustering score: {cluster_score}\")"
   ]
  },
  {
   "cell_type": "markdown",
   "id": "79e7f4bf",
   "metadata": {
    "papermill": {
     "duration": 0.016301,
     "end_time": "2023-04-06T09:36:15.308157",
     "exception": false,
     "start_time": "2023-04-06T09:36:15.291856",
     "status": "completed"
    },
    "tags": []
   },
   "source": [
    "<a id='conclusion'></a> \n",
    "## 4. Conclusion\n",
    "\n",
    "In this tutorial:\n",
    "\n",
    "* We reviewed the fundamentals of quantum kernel learning\n",
    "* We understood how to define quantum kernels as instances of `FidelityQuantumKernel`\n",
    "* We learned how to use the `scikit-learn` `SVC` algorithm with a custom quantum kernel as a callable function vs precomputed quantum kernel matrix for classification\n",
    "* We learned how to train classifiers with the `QSVC` algorithm from `qiskit-machine-learning`\n",
    "* We learned how to use the `scikit-learn` `SpectralClustering` algorithms with a precomputed quantum kernel matrix for clustering"
   ]
  },
  {
   "cell_type": "markdown",
   "id": "bf0d5f83",
   "metadata": {
    "papermill": {
     "duration": 0.016254,
     "end_time": "2023-04-06T09:36:15.341116",
     "exception": false,
     "start_time": "2023-04-06T09:36:15.324862",
     "status": "completed"
    },
    "tags": []
   },
   "source": [
    "For further reference, `scikit-learn` has other algorithms that can use a precomputed kernel matrix, such as:\n",
    "\n",
    "- [Agglomerative clustering](https://scikit-learn.org/stable/modules/generated/sklearn.cluster.AgglomerativeClustering.html)\n",
    "- [Support vector regression](https://scikit-learn.org/stable/modules/generated/sklearn.svm.SVR.html)\n",
    "- [Ridge regression](https://scikit-learn.org/stable/modules/generated/sklearn.kernel_ridge.KernelRidge.html)\n",
    "- [Gaussian process regression](https://scikit-learn.org/stable/modules/gaussian_process.html)\n",
    "- [Principal component analysis](https://scikit-learn.org/stable/modules/generated/sklearn.decomposition.KernelPCA.html)"
   ]
  }
 ],
 "metadata": {
  "kernelspec": {
   "display_name": "Python 3",
   "language": "python",
   "name": "python3"
  },
  "language_info": {
   "codemirror_mode": {
    "name": "ipython",
    "version": 3
   },
   "file_extension": ".py",
   "mimetype": "text/x-python",
   "name": "python",
   "nbconvert_exporter": "python",
   "pygments_lexer": "ipython3",
   "version": "3.7.12"
  },
  "papermill": {
   "default_parameters": {},
   "duration": 110.840813,
   "end_time": "2023-04-06T09:36:16.385593",
   "environment_variables": {},
   "exception": null,
   "input_path": "__notebook__.ipynb",
   "output_path": "__notebook__.ipynb",
   "parameters": {},
   "start_time": "2023-04-06T09:34:25.544780",
   "version": "2.4.0"
  }
 },
 "nbformat": 4,
 "nbformat_minor": 5
}
