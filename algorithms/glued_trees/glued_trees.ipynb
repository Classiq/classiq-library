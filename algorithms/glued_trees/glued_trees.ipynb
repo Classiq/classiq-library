{
 "cells": [
  {
   "cell_type": "markdown",
   "metadata": {},
   "source": [
    "# Glued Trees Algorithm\n",
    "### Introduction\n",
    "Consider a network of two mirrored binary trees connected to each other, where the outermost nodes of each tree are connected to two random nodes in the other tree. This structure will have $2n$ columns and $2^{n+1}-2$ nodes in total, as shown in the diagram below. Each node in the structure has a secret key in the form of a random bit string of size $2n$, and you are given oracular access to the network such that you can query a node using its key to get the keys of its neighbors. Your goal is, given the key of the entrance node, to find the key of the exit node as efficiently as possible.\n",
    "\n",
    "![png](figures/glued_trees_diagram.png)\n",
    "\n",
    "If you try to play this game yourself, or program an algorithm to do so, you'll quickly run into a major problem: since you don't know what specific nodes on the tree the interior keys correspond to, you will get lost within the structure once you reach the area between the two trees. There is no way to guarantee a solution to this problem—using a classical computer—that doesn't require you to check every node in the worst case.\n",
    "\n",
    "There is a way to solve this problem efficiently however, on the order of the total number of *columns* of the structure instead of the nodes. You just need to use a quantum computer! This paper [[1](#GluedTrees)] published in December 2023 describes a quantum approach to solving this algorithm by considering the structure as a system of coupled harmonic oscillators attached by springs. A quantum computer can use Hamiltonian simulation to simulate this classical system efficiently. If you apply a push to the oscillator representing the entrance node, and treat the interactions between nodes as queries, you can \"reach\" the exit node (trigger a spike in its oscillatory movement) in time $2n$, offering linear efficiency as opposed to exponential efficiency!\n",
    "\n",
    "While this notebook will be following the algorithm described by the 2023 paper above, it should be noted that this problem was first set by this paper from October 2002 [[2](#QuantumWalk)].\n",
    "\n",
    "The following code segment imports all the necessary libraries for this notebook. NetworkX is required for the `generate_pauli_list` function, but the Pauli lists for 10 and 20 qubits (the examples in this notebook) have already been generated and cached in the `glued_trees_cache.json` file. You may uncomment the line at the bottom of the code segment, however, if you would like to try recalculating the Pauli lists or calculating them for other qubit sizes."
   ]
  },
  {
   "cell_type": "code",
   "execution_count": 1,
   "metadata": {
    "execution": {
     "iopub.execute_input": "2025-03-27T13:34:40.256183Z",
     "iopub.status.busy": "2025-03-27T13:34:40.255713Z",
     "iopub.status.idle": "2025-03-27T13:34:42.383178Z",
     "shell.execute_reply": "2025-03-27T13:34:42.380077Z"
    }
   },
   "outputs": [
    {
     "name": "stdout",
     "output_type": "stream",
     "text": [
      "Requirement already satisfied: jsonpickle in /home/dor/.pyenv/versions/3.11.7/lib/python3.11/site-packages (4.0.2)\r\n"
     ]
    },
    {
     "name": "stdout",
     "output_type": "stream",
     "text": [
      "\r\n",
      "\u001b[1m[\u001b[0m\u001b[34;49mnotice\u001b[0m\u001b[1;39;49m]\u001b[0m\u001b[39;49m A new release of pip is available: \u001b[0m\u001b[31;49m24.0\u001b[0m\u001b[39;49m -> \u001b[0m\u001b[32;49m25.0.1\u001b[0m\r\n",
      "\u001b[1m[\u001b[0m\u001b[34;49mnotice\u001b[0m\u001b[1;39;49m]\u001b[0m\u001b[39;49m To update, run: \u001b[0m\u001b[32;49mpip install --upgrade pip\u001b[0m\r\n"
     ]
    },
    {
     "name": "stdout",
     "output_type": "stream",
     "text": [
      "Requirement already satisfied: tqdm in /home/dor/.pyenv/versions/3.11.7/lib/python3.11/site-packages (4.67.1)\r\n"
     ]
    },
    {
     "name": "stdout",
     "output_type": "stream",
     "text": [
      "\r\n",
      "\u001b[1m[\u001b[0m\u001b[34;49mnotice\u001b[0m\u001b[1;39;49m]\u001b[0m\u001b[39;49m A new release of pip is available: \u001b[0m\u001b[31;49m24.0\u001b[0m\u001b[39;49m -> \u001b[0m\u001b[32;49m25.0.1\u001b[0m\r\n",
      "\u001b[1m[\u001b[0m\u001b[34;49mnotice\u001b[0m\u001b[1;39;49m]\u001b[0m\u001b[39;49m To update, run: \u001b[0m\u001b[32;49mpip install --upgrade pip\u001b[0m\r\n"
     ]
    }
   ],
   "source": [
    "# install required modules\n",
    "!pip install jsonpickle\n",
    "!pip install tqdm"
   ]
  },
  {
   "cell_type": "code",
   "execution_count": 2,
   "metadata": {
    "execution": {
     "iopub.execute_input": "2025-03-27T13:34:42.389378Z",
     "iopub.status.busy": "2025-03-27T13:34:42.388892Z",
     "iopub.status.idle": "2025-03-27T13:34:44.098471Z",
     "shell.execute_reply": "2025-03-27T13:34:44.098019Z"
    }
   },
   "outputs": [],
   "source": [
    "import json\n",
    "import pathlib\n",
    "import random\n",
    "\n",
    "import jsonpickle\n",
    "import matplotlib.pyplot as plt\n",
    "import numpy as np\n",
    "import tqdm\n",
    "\n",
    "from classiq import *\n",
    "from classiq.execution import ExecutionPreferences\n",
    "\n",
    "# import networkx as nx"
   ]
  },
  {
   "cell_type": "code",
   "execution_count": 3,
   "metadata": {
    "execution": {
     "iopub.execute_input": "2025-03-27T13:34:44.100461Z",
     "iopub.status.busy": "2025-03-27T13:34:44.100184Z",
     "iopub.status.idle": "2025-03-27T13:34:44.103593Z",
     "shell.execute_reply": "2025-03-27T13:34:44.102893Z"
    }
   },
   "outputs": [],
   "source": [
    "# notebooks path issue\n",
    "\n",
    "\n",
    "def get_path(file_name):\n",
    "    path = (\n",
    "        pathlib.Path(__file__).parent.resolve()\n",
    "        if \"__file__\" in globals()\n",
    "        else pathlib.Path(\".\")\n",
    "    )\n",
    "    return path / file_name"
   ]
  },
  {
   "cell_type": "markdown",
   "metadata": {},
   "source": [
    "### Quantum Algorithm\n",
    "To model the columns of the glued trees structure as a system of coupled harmonic oscillators, we consider a matrix $\\mathbf{A}$ of size $N \\times N$ corresponding to the nodes of the glued trees structure, such that $N=2^{n+1}-2$ and $n$ is the number of columns of one of the two glued trees. This matrix is defined as $\\mathbf{A}:=3(\\mathbf{1}_N)-A$, where $A$ is the adjacency matrix of the glued trees system using any ordering. \n",
    "\n",
    "For demonstration purposes, we will be using a simple linear ordering of this adjacency matrix such that the entrance node is first and the exit node is last. This matrix will be symmetrical and take the following shape:\n",
    "\n",
    "![png](figures/A_matrix.png)\n",
    "\n",
    "As shown in further detail in the paper, we can define a block Hamiltonian $\\mathbf{H}$ such that\n",
    "\n",
    "$$\n",
    "\\mathbf{H} := -\\begin{pmatrix}\n",
    "\\mathbf{0} & \\mathbf{B} \\\\\n",
    "\\mathbf{B}^† & \\mathbf{0}\n",
    "\\end{pmatrix}\n",
    "$$\n",
    "\n",
    "where $\\mathbf{B}$ is any $N \\times M$ matrix such that $\\mathbf{B}\\mathbf{B}^†=\\mathbf{A}$. However, to use this matrix $\\mathbf{H}$ for Hamiltonian simulation, it must have a size corresponding to a power of two, while $\\mathbf{A}$ is size $N \\times N$. We can deal with this by ensuring that $\\mathbf{B}$ is size $N \\times (N+4)$, so the resulting Hamiltonian $\\mathbf{H}$ is a square matrix with side length $2N+4 = 2(2^{n+1}-2)+4 = 2^{n+2}$. This means that a glued trees system with $n$ columns for one tree can be simulated using $n+2$ qubits.\n",
    "\n",
    "In this notebook, we generate the matrix $\\mathbf{A}$ by building the glued trees structure using the NetworkX library such that the nodes are labeled in order from the entrance to exit node and using the `nx.adjacency_matrix` function to generate an adjacency matrix using that ordering. We will decompose $\\mathbf{A}$ using [Cholesky decomposition](https://en.wikipedia.org/wiki/Cholesky_decomposition) to get a square matrix where its product with its conjugate transpose is equal to $\\mathbf{A}$. This matrix is the same size as $\\mathbf{A}$, however, so we must pad it with 4 columns of zeroes to get our matrix $\\mathbf{B}$ of size $N \\times (N+4)$ so $\\mathbf{H}$ has a size corresponding to a power of two. We can then create the block Hamiltonian with the proper size using $\\mathbf{B}$ and $\\mathbf{B}^†$, and generate its full Pauli list using Classiq's built-in `matrix_to_hamiltonian` function.\n",
    "\n",
    "All Pauli list outputs are cropped so they have no more than 200 terms. This is to ensure that the circuit depth is at a reasonable range (low thousands) given the limits of current quantum hardware. As a result of this approach, as the number of qubits increases, the accuracy of the Pauli list in comparison to the matrix it represents diminishes so the circuit depth remains roughly constant.\n",
    "\n",
    "The Pauli list representation of $\\mathbf{H}$ for qubit sizes small enough to calculate (12 qubits and lower) are generated and cropped using the `generate_pauli_list` function, which uses an ad hoc approach that tries to represent the Pauli list as a whole as accurately as possible using only the 200 ostensibly most relevant terms to simulating the system.\n",
    "\n",
    "The cropping algorithm, defined in the `crop_pauli_list` function, first selects 120 terms (60%) by going through each character position from the end to the start and picking the Pauli terms with the largest coefficients that contain each of the four possibilities ($I$, $X$, $Y$, $Z$) at that character position. If all positions are exhausted before reaching 120 terms, the algorithm takes another pass through the character positions until 120 are selected. The other 80 terms (40%) are selected by picking the 80 remaining terms with the largest coefficients. The algorithm balances important high-coefficient terms with diversity in the 200 selected terms.\n",
    "\n",
    "The Pauli lists for qubit sizes too large to fully calculate (greater than 12 qubits) are approximated by padding with the second character of the Pauli strings of the largest cropped Pauli list that can be generated in reasonable time, as this follows a pattern present in the vast majority of strings in the cropped Pauli list."
   ]
  },
  {
   "cell_type": "code",
   "execution_count": 4,
   "metadata": {
    "execution": {
     "iopub.execute_input": "2025-03-27T13:34:44.105885Z",
     "iopub.status.busy": "2025-03-27T13:34:44.105672Z",
     "iopub.status.idle": "2025-03-27T13:34:44.118152Z",
     "shell.execute_reply": "2025-03-27T13:34:44.117476Z"
    }
   },
   "outputs": [],
   "source": [
    "def crop_pauli_list(pauli_list, size):\n",
    "    if len(pauli_list) <= size:\n",
    "        return pauli_list\n",
    "    result = []\n",
    "    idx = 0\n",
    "    while len(result) < round(size * 0.6):\n",
    "        for i in range(len(pauli_list[0].pauli) - 1, -1, -1):\n",
    "            for k in pauli_list:\n",
    "                if (\n",
    "                    k.pauli[i] == [Pauli.I, Pauli.X, Pauli.Y, Pauli.Z][idx % 4]\n",
    "                    and k not in result\n",
    "                ):\n",
    "                    result.append(k)\n",
    "                    break\n",
    "            idx += 1\n",
    "    for i in pauli_list:\n",
    "        if len(result) >= size:\n",
    "            break\n",
    "        if i not in result:\n",
    "            result.append(i)\n",
    "    return result\n",
    "\n",
    "\n",
    "def generate_pauli_list(qubits):\n",
    "    dim = qubits - 2\n",
    "    T1 = nx.balanced_tree(2, dim - 1)\n",
    "    T2 = nx.relabel_nodes(T1, lambda x: 2 ** (dim + 1) - 3 - x)\n",
    "    T = nx.union(T1, T2)\n",
    "    edges = {i: 0 for i in range(2**dim - 1, 2 ** (dim - 1) + 2**dim - 1)}\n",
    "    for i in range(2 ** (dim - 1) - 1, 2**dim - 1):\n",
    "        nums = [\n",
    "            j for j in range(2**dim - 1, 2 ** (dim - 1) + 2**dim - 1) if edges[j] < 1\n",
    "        ]\n",
    "        if len(nums) == 0:\n",
    "            nums = [\n",
    "                j\n",
    "                for j in range(2**dim - 1, 2 ** (dim - 1) + 2**dim - 1)\n",
    "                if edges[j] < 2\n",
    "            ]\n",
    "        vals = random.sample(nums, k=2)\n",
    "        for j in vals:\n",
    "            edges[j] += 1\n",
    "        T.add_edges_from([(i, vals[0]), (i, vals[1])])\n",
    "    A = 3 * np.identity(2 ** (dim + 1) - 2) - np.array(\n",
    "        nx.adjacency_matrix(T, nodelist=sorted(T.nodes())).todense()\n",
    "    )\n",
    "    B = np.hstack((np.linalg.cholesky(A), np.zeros((2 ** (dim + 1) - 2, 4))))\n",
    "    H = -np.block(\n",
    "        [\n",
    "            [np.zeros((B.shape[0], B.shape[0])), B],\n",
    "            [B.conj().T, np.zeros((B.shape[1], B.shape[1]))],\n",
    "        ]\n",
    "    )\n",
    "    result = matrix_to_hamiltonian(H)\n",
    "    return crop_pauli_list(\n",
    "        sorted(result, key=lambda x: abs(x.coefficient), reverse=True), 200\n",
    "    )\n",
    "\n",
    "\n",
    "def pauli_str(qubits, recalculate=False):\n",
    "    with open(get_path(\"glued_trees_cache.json\"), \"r\") as f:\n",
    "        cache = json.load(f)\n",
    "    if not recalculate and str(qubits) in cache:\n",
    "        return jsonpickle.decode(cache[str(qubits)])\n",
    "    if qubits > 12:\n",
    "        return [\n",
    "            PauliTerm(\n",
    "                [i.pauli[0]] + [i.pauli[1]] * (qubits - len(i.pauli)) + i.pauli[1:],\n",
    "                i.coefficient,\n",
    "            )\n",
    "            for i in generate_pauli_list(12)\n",
    "        ]\n",
    "    return generate_pauli_list(qubits)"
   ]
  },
  {
   "cell_type": "markdown",
   "metadata": {},
   "source": [
    "We are now ready to run our main execution function, `run_point`. This function takes in the number of qubits `qubits` and the time `t` to perform Hamiltonian simulation $e^{-it\\mathbf{H}}$ using the `exponentiation_with_depth_constraint` function in the Classiq software development kit. \n",
    "\n",
    "The `max_depth` parameter is set to 1400, which is around the range of the current limit for comprehensible results in state of the art quantum computers. The `num_shots` parameter is set to 8192 to give enough of room for significant spikes in a state to be apparent given the high number of total possible states.\n",
    "\n",
    "The resulting quantum state can be written as follows:\n",
    "\n",
    "$$\n",
    "\\begin{aligned}\n",
    "|\\psi(t)\\rangle &\\propto \\begin{pmatrix}\n",
    "\\dot{\\vec{x}}(t) \\\\\n",
    "i\\mathbf{B}^{†} \\vec{x}(t) \n",
    "\\end{pmatrix} \\\\\n",
    "\\begin{pmatrix}\n",
    "\\dot{\\vec{x}}(t) \\\\\n",
    "i\\mathbf{B}^{†} \\vec{x}(t) \n",
    "\\end{pmatrix} &= e^{-it\\mathbf{H}} \\begin{pmatrix}\n",
    "\\dot{\\vec{x}}(0) \\\\\n",
    "i\\mathbf{B}^{†} \\vec{x}(0) \n",
    "\\end{pmatrix}\n",
    "\\end{aligned}\n",
    "$$\n",
    "\n",
    "where $\\vec{x}(0)=(0,0,\\dots,0)^T$ and $\\dot{\\vec{x}}(0)=(1,0,\\dots,0)^T$ using a linear ordering of nodes. \n",
    "\n",
    "Since the speed of the entrance node oscillator $|\\dot{x}_1(t)|$ is represented by the quantum state $|0\\rangle$ and should have probability 1 at $t=0$, there is no specific state preparation necessary for this system. It should also be noted that since our matrix $\\mathbf{B}^†$ is padded with 4 rows of zeroes, the highest 4 quantum states do not correspond to the displacement or speed of any oscillator. This means that the quantum state representing the speed of the exit node oscillator $|\\dot{x}_N(t)|$, which is what we are most interested in, will correspond to $|N-1\\rangle=|2^{n+1}-3\\rangle$. We will be tracking this particular quantum state at time $t \\approx 2n$ expecting a spike, which represents the system of oscillators \"reaching\" the exit node from the initial push to the entrance node.\n",
    "\n",
    "We will run the `run_point` function through a helper function `run_range`, which executes it 13 times in total for a given qubit size, spanning from $t=2n-12$ to $t=2n+12$ in 2 second intervals. This range gives time to observe oscillation occurring at the state value corresponding to $|\\dot{x}_N(t)|$ while also being close enough around $t=2n$, the time where we are expecting a spike."
   ]
  },
  {
   "cell_type": "code",
   "execution_count": 5,
   "metadata": {
    "execution": {
     "iopub.execute_input": "2025-03-27T13:34:44.120672Z",
     "iopub.status.busy": "2025-03-27T13:34:44.120445Z",
     "iopub.status.idle": "2025-03-27T13:34:44.126503Z",
     "shell.execute_reply": "2025-03-27T13:34:44.125848Z"
    }
   },
   "outputs": [],
   "source": [
    "def run_point(qubits, t, pauli_list):\n",
    "    @qfunc\n",
    "    def main(state: Output[QArray[QBit]]) -> None:\n",
    "        allocate(len(pauli_list[0].pauli), state)\n",
    "        exponentiation_with_depth_constraint(\n",
    "            pauli_list,\n",
    "            evolution_coefficient=t,\n",
    "            max_depth=1400,\n",
    "            qbv=state,\n",
    "        )\n",
    "\n",
    "    execution_preferences = ExecutionPreferences(num_shots=8192)\n",
    "    model = set_execution_preferences(create_model(main), execution_preferences)\n",
    "    quantum_program = synthesize(model)\n",
    "    job = execute(quantum_program)\n",
    "    filename = (\n",
    "        str(qubits)\n",
    "        + \"-qubits/2n\"\n",
    "        + (\n",
    "            str(t - 2 * qubits + 4)\n",
    "            if t < 2 * qubits - 4\n",
    "            else \"+\" + str(t - 2 * qubits + 4)\n",
    "        )\n",
    "    )\n",
    "    with open(get_path(\"results/\" + filename + \".json\"), \"w\") as f:\n",
    "        json.dump(dict(job.result_value()), f)\n",
    "\n",
    "\n",
    "def run_range(qubits, recalculate=False):\n",
    "    pauli_list = pauli_str(qubits, recalculate)\n",
    "    for i in tqdm.tqdm(range(-12, 13, 2)):\n",
    "        run_point(qubits, 2 * qubits - 4 + i, pauli_list)"
   ]
  },
  {
   "cell_type": "markdown",
   "metadata": {},
   "source": [
    "The following code segment displays the execution of `run_range` for 10 qubits ($n=8, N=510$), a higher qubit size that is still simulatable. In addition, it is low enough that its Pauli list can still be fully generated and cropped.\n",
    "\n",
    "This instance of the function should take a few minutes to run. As defined, it will use the cached Pauli list for 10 qubits in `glued_trees_cache.json`. If you would like to recalculate the Pauli list, ensure that you have uncommented and run the two lines at the top of this notebook and add `recalculate=True` as the second parameter to the function."
   ]
  },
  {
   "cell_type": "code",
   "execution_count": 6,
   "metadata": {
    "execution": {
     "iopub.execute_input": "2025-03-27T13:34:44.128639Z",
     "iopub.status.busy": "2025-03-27T13:34:44.128418Z",
     "iopub.status.idle": "2025-03-27T13:39:11.499999Z",
     "shell.execute_reply": "2025-03-27T13:39:11.498918Z"
    }
   },
   "outputs": [
    {
     "name": "stderr",
     "output_type": "stream",
     "text": [
      "\r",
      "  0%|                                                                                                                                                                                       | 0/13 [00:00<?, ?it/s]"
     ]
    },
    {
     "name": "stderr",
     "output_type": "stream",
     "text": [
      "\r",
      "  8%|█████████████▍                                                                                                                                                                 | 1/13 [00:28<05:42, 28.56s/it]"
     ]
    },
    {
     "name": "stderr",
     "output_type": "stream",
     "text": [
      "\r",
      " 15%|██████████████████████████▉                                                                                                                                                    | 2/13 [00:47<04:09, 22.69s/it]"
     ]
    },
    {
     "name": "stderr",
     "output_type": "stream",
     "text": [
      "\r",
      " 23%|████████████████████████████████████████▍                                                                                                                                      | 3/13 [01:05<03:27, 20.76s/it]"
     ]
    },
    {
     "name": "stderr",
     "output_type": "stream",
     "text": [
      "\r",
      " 31%|█████████████████████████████████████████████████████▊                                                                                                                         | 4/13 [01:30<03:20, 22.31s/it]"
     ]
    },
    {
     "name": "stderr",
     "output_type": "stream",
     "text": [
      "\r",
      " 38%|███████████████████████████████████████████████████████████████████▎                                                                                                           | 5/13 [01:55<03:05, 23.22s/it]"
     ]
    },
    {
     "name": "stderr",
     "output_type": "stream",
     "text": [
      "\r",
      " 46%|████████████████████████████████████████████████████████████████████████████████▊                                                                                              | 6/13 [02:13<02:32, 21.73s/it]"
     ]
    },
    {
     "name": "stderr",
     "output_type": "stream",
     "text": [
      "\r",
      " 54%|██████████████████████████████████████████████████████████████████████████████████████████████▏                                                                                | 7/13 [02:33<02:05, 20.88s/it]"
     ]
    },
    {
     "name": "stderr",
     "output_type": "stream",
     "text": [
      "\r",
      " 62%|███████████████████████████████████████████████████████████████████████████████████████████████████████████▋                                                                   | 8/13 [02:52<01:41, 20.37s/it]"
     ]
    },
    {
     "name": "stderr",
     "output_type": "stream",
     "text": [
      "\r",
      " 69%|█████████████████████████████████████████████████████████████████████████████████████████████████████████████████████████▏                                                     | 9/13 [03:10<01:19, 19.79s/it]"
     ]
    },
    {
     "name": "stderr",
     "output_type": "stream",
     "text": [
      "\r",
      " 77%|█████████████████████████████████████████████████████████████████████████████████████████████████████████████████████████████████████▊                                        | 10/13 [03:29<00:58, 19.39s/it]"
     ]
    },
    {
     "name": "stderr",
     "output_type": "stream",
     "text": [
      "\r",
      " 85%|███████████████████████████████████████████████████████████████████████████████████████████████████████████████████████████████████████████████████▏                          | 11/13 [03:48<00:38, 19.16s/it]"
     ]
    },
    {
     "name": "stderr",
     "output_type": "stream",
     "text": [
      "\r",
      " 92%|████████████████████████████████████████████████████████████████████████████████████████████████████████████████████████████████████████████████████████████████▌             | 12/13 [04:06<00:19, 19.04s/it]"
     ]
    },
    {
     "name": "stderr",
     "output_type": "stream",
     "text": [
      "\r",
      "100%|██████████████████████████████████████████████████████████████████████████████████████████████████████████████████████████████████████████████████████████████████████████████| 13/13 [04:27<00:00, 19.50s/it]"
     ]
    },
    {
     "name": "stderr",
     "output_type": "stream",
     "text": [
      "\r",
      "100%|██████████████████████████████████████████████████████████████████████████████████████████████████████████████████████████████████████████████████████████████████████████████| 13/13 [04:27<00:00, 20.57s/it]"
     ]
    },
    {
     "name": "stderr",
     "output_type": "stream",
     "text": [
      "\n"
     ]
    }
   ],
   "source": [
    "run_range(10)"
   ]
  },
  {
   "cell_type": "markdown",
   "metadata": {},
   "source": [
    "The following code segment, on the other hand, displays the execution of `run_range` for 20 qubits ($n=18, N=524286$), a qubit size that is still simulatable but where its Pauli list cannot be generated and is thus approximated using the Pauli list for 12 qubits.\n",
    "\n",
    "This instance of the function should take a few minutes to run if the cached Pauli list is used. Since this instance of the function requires generating the Pauli list for 12 qubits, which is very large, it will take much longer to run if you choose to recalculate the Pauli list.\n",
    "\n",
    "You can also view the `qmod` file for the execution of `run_point` for 20 qubits at $t=2n$, which has been saved in this directory as `glued_trees_example.qmod`."
   ]
  },
  {
   "cell_type": "code",
   "execution_count": 7,
   "metadata": {
    "execution": {
     "iopub.execute_input": "2025-03-27T13:39:11.502249Z",
     "iopub.status.busy": "2025-03-27T13:39:11.501973Z",
     "iopub.status.idle": "2025-03-27T13:47:13.510865Z",
     "shell.execute_reply": "2025-03-27T13:47:13.510345Z"
    }
   },
   "outputs": [
    {
     "name": "stderr",
     "output_type": "stream",
     "text": [
      "\r",
      "  0%|                                  | 0/13 [00:00<?, ?it/s]"
     ]
    },
    {
     "name": "stderr",
     "output_type": "stream",
     "text": [
      "\r",
      "  8%|██                        | 1/13 [00:35<07:11, 35.98s/it]"
     ]
    },
    {
     "name": "stderr",
     "output_type": "stream",
     "text": [
      "\r",
      " 15%|████                      | 2/13 [01:12<06:37, 36.13s/it]"
     ]
    },
    {
     "name": "stderr",
     "output_type": "stream",
     "text": [
      "\r",
      " 23%|██████                    | 3/13 [01:48<06:01, 36.18s/it]"
     ]
    },
    {
     "name": "stderr",
     "output_type": "stream",
     "text": [
      "\r",
      " 31%|████████                  | 4/13 [02:24<05:25, 36.15s/it]"
     ]
    },
    {
     "name": "stderr",
     "output_type": "stream",
     "text": [
      "\r",
      " 38%|██████████                | 5/13 [03:01<04:52, 36.59s/it]"
     ]
    },
    {
     "name": "stderr",
     "output_type": "stream",
     "text": [
      "\r",
      " 46%|████████████              | 6/13 [03:38<04:16, 36.64s/it]"
     ]
    },
    {
     "name": "stderr",
     "output_type": "stream",
     "text": [
      "\r",
      " 54%|██████████████            | 7/13 [04:14<03:38, 36.43s/it]"
     ]
    },
    {
     "name": "stderr",
     "output_type": "stream",
     "text": [
      "\r",
      " 62%|████████████████          | 8/13 [04:53<03:05, 37.08s/it]"
     ]
    },
    {
     "name": "stderr",
     "output_type": "stream",
     "text": [
      "\r",
      " 69%|██████████████████        | 9/13 [05:32<02:30, 37.70s/it]"
     ]
    },
    {
     "name": "stderr",
     "output_type": "stream",
     "text": [
      "\r",
      " 77%|███████████████████▏     | 10/13 [06:08<01:52, 37.36s/it]"
     ]
    },
    {
     "name": "stderr",
     "output_type": "stream",
     "text": [
      "\r",
      " 85%|█████████████████████▏   | 11/13 [06:46<01:15, 37.60s/it]"
     ]
    },
    {
     "name": "stderr",
     "output_type": "stream",
     "text": [
      "\r",
      " 92%|███████████████████████  | 12/13 [07:25<00:37, 37.94s/it]"
     ]
    },
    {
     "name": "stderr",
     "output_type": "stream",
     "text": [
      "\r",
      "100%|█████████████████████████| 13/13 [08:01<00:00, 37.45s/it]"
     ]
    },
    {
     "name": "stderr",
     "output_type": "stream",
     "text": [
      "\r",
      "100%|█████████████████████████| 13/13 [08:01<00:00, 37.08s/it]"
     ]
    },
    {
     "name": "stderr",
     "output_type": "stream",
     "text": [
      "\n"
     ]
    }
   ],
   "source": [
    "run_range(20)"
   ]
  },
  {
   "cell_type": "markdown",
   "metadata": {},
   "source": [
    "We can now graph the results we have generated using the simulator, which have been saved into directories in the `results` folder based on their qubit size. The `graph_results` function creates a plot of the proportion of shots for the qubit state $|N-1\\rangle$ corresponding to $|\\dot{x}_N(t)|$ for a given qubit size from $t=2n-12$ to $t=2n+12$ and saves it in the `figures` folder."
   ]
  },
  {
   "cell_type": "code",
   "execution_count": 8,
   "metadata": {
    "execution": {
     "iopub.execute_input": "2025-03-27T13:47:13.512198Z",
     "iopub.status.busy": "2025-03-27T13:47:13.512065Z",
     "iopub.status.idle": "2025-03-27T13:47:13.516082Z",
     "shell.execute_reply": "2025-03-27T13:47:13.515661Z"
    }
   },
   "outputs": [],
   "source": [
    "def graph_results(qubits):\n",
    "    states = [(str(i) if i < 0 else \"+\" + str(i)) for i in range(-12, 13, 2)]\n",
    "    times = [2 * qubits - 4 + int(i) for i in states]\n",
    "    data = []\n",
    "    for i in states:\n",
    "        with open(\n",
    "            get_path(\"results/\" + str(qubits) + \"-qubits\" + \"/2n\" + i + \".json\"), \"r\"\n",
    "        ) as f:\n",
    "            j = json.load(f)\n",
    "            key = str(\"0\" + bin(2 ** (qubits - 1) - 3)[2:])\n",
    "            data.append(j[\"counts\"][key] / j[\"num_shots\"] if key in j[\"counts\"] else 0)\n",
    "    plt.plot(times, data)\n",
    "    plt.xlabel(\"Time (s)\")\n",
    "    plt.ylabel(\"Proportion of |\" + str(2 ** (qubits - 1) - 3) + \"> shots\")\n",
    "    plt.title(\n",
    "        r\"Glued Trees System at $t \\approx 2n$ for \"\n",
    "        + str(qubits)\n",
    "        + r\" Qubits ($n=\"\n",
    "        + str(qubits - 2)\n",
    "        + r\"$)\"\n",
    "    )\n",
    "    plt.savefig(\n",
    "        get_path(\"figures/\" + str(qubits) + \"_qubits.png\"), bbox_inches=\"tight\", dpi=300\n",
    "    )\n",
    "    plt.show()"
   ]
  },
  {
   "cell_type": "markdown",
   "metadata": {},
   "source": [
    "The following code segment displays the graph for 10 qubits, a qubit size with a generated and cropped Pauli list. As expected, there is a large spike at $t \\approx 2n$ indicative of the initial push to the entrance node having \"reached\" the exit node."
   ]
  },
  {
   "cell_type": "code",
   "execution_count": 9,
   "metadata": {
    "execution": {
     "iopub.execute_input": "2025-03-27T13:47:13.517308Z",
     "iopub.status.busy": "2025-03-27T13:47:13.517196Z",
     "iopub.status.idle": "2025-03-27T13:47:13.767272Z",
     "shell.execute_reply": "2025-03-27T13:47:13.766758Z"
    }
   },
   "outputs": [
    {
     "data": {
      "image/png": "[encoded data removed]",
      "text/plain": [
       "<Figure size 640x480 with 1 Axes>"
      ]
     },
     "metadata": {},
     "output_type": "display_data"
    }
   ],
   "source": [
    "graph_results(10)"
   ]
  },
  {
   "cell_type": "markdown",
   "metadata": {},
   "source": [
    "The following code segment displays the graph for 20 qubits, a qubit size with an approximated Pauli list. There is a clear spike at $t \\approx 2n$ caused by the propagation from the entrance node."
   ]
  },
  {
   "cell_type": "code",
   "execution_count": 10,
   "metadata": {
    "execution": {
     "iopub.execute_input": "2025-03-27T13:47:13.768904Z",
     "iopub.status.busy": "2025-03-27T13:47:13.768690Z",
     "iopub.status.idle": "2025-03-27T13:47:13.967469Z",
     "shell.execute_reply": "2025-03-27T13:47:13.967160Z"
    }
   },
   "outputs": [
    {
     "data": {
      "image/png": "[encoded data removed]",
      "text/plain": [
       "<Figure size 640x480 with 1 Axes>"
      ]
     },
     "metadata": {},
     "output_type": "display_data"
    }
   ],
   "source": [
    "graph_results(20)"
   ]
  },
  {
   "cell_type": "markdown",
   "metadata": {},
   "source": [
    "Because of our Pauli list cropping, the algorithm can also be run with reasonable accuracy on actual quantum hardware. Simply add one of Classiq's quantum hardware [cloud providers](https://docs.classiq.io/latest/user-guide/execution/cloud-providers/) as an execution preference in the `run_point` function.\n",
    "\n",
    "Perhaps the most interesting thing about the glued trees algorithm is that it is a relatively heavy case of using a quantum computer to gain an exponential advantage, usually requiring several executions at different time points to observe the intended result, but it can still be executed effectively on present-day quantum hardware due to the Pauli list cropping. I encourage you to try out the algorithm on both a simulator and quantum hardware for various qubit sizes! "
   ]
  },
  {
   "cell_type": "markdown",
   "metadata": {},
   "source": [
    "### References\n",
    "<a id=\"GluedTrees\">[1]</a>: [Babbush, Ryan and Berry, Dominic W. and Kothari, Robin and Somma, Rolando D. and Wiebe, Nathan. \"Exponential Quantum Speedup in Simulating Coupled Classical Oscillators.\" Phys. Rev. X 13, 041041 (2023)](https://journals.aps.org/prx/pdf/10.1103/PhysRevX.13.041041)\n",
    "\n",
    "<a id=\"QuantumWalk\">[2]</a>: [Childs, Andrew M. and Cleve, Richard and Deotto, Enrico and Farhi, Edward and Gutmann, Sam and Spielman, Daniel A. \"Exponential algorithmic speedup by a quantum walk.\" Proc. 35th ACM Symposium on Theory of Computing (STOC 2003), pp. 59-68](https://arxiv.org/pdf/quant-ph/0209131)\n"
   ]
  }
 ],
 "metadata": {
  "kernelspec": {
   "display_name": "Python 3 (ipykernel)",
   "language": "python",
   "name": "python3"
  },
  "language_info": {
   "codemirror_mode": {
    "name": "ipython",
    "version": 3
   },
   "file_extension": ".py",
   "mimetype": "text/x-python",
   "name": "python",
   "nbconvert_exporter": "python",
   "pygments_lexer": "ipython3",
   "version": "3.11.7"
  }
 },
 "nbformat": 4,
 "nbformat_minor": 4
}
