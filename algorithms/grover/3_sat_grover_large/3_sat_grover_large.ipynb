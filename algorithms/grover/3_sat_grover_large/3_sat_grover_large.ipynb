{
 "cells": [
  {
   "cell_type": "markdown",
   "id": "1d3b73c1-c30b-4dc4-b2c0-21d47601b09a",
   "metadata": {},
   "source": [
    "# A Large 3-SAT Grover search Example"
   ]
  },
  {
   "cell_type": "code",
   "execution_count": 1,
   "id": "dda1a10d-406f-45f2-9431-13df855375de",
   "metadata": {
    "execution": {
     "iopub.execute_input": "2023-12-06T02:04:04.685498Z",
     "iopub.status.busy": "2023-12-06T02:04:04.684303Z",
     "iopub.status.idle": "2023-12-06T02:04:04.699204Z",
     "shell.execute_reply": "2023-12-06T02:04:04.698559Z"
    },
    "pycharm": {
     "name": "#%%\n"
    },
    "tags": []
   },
   "outputs": [],
   "source": [
    "EXPRESSION = \"\"\"\n",
    "((x2) or (x3) or (x4)) and\n",
    "((~x1) or ( x2) or ( x3)) and\n",
    "((~x1) or ( x2) or (~x3)) and\n",
    "((~x1) or (~x2) or ( x3)) and\n",
    "(( x1) or (~x2) or (~x3)) and\n",
    "(( x1) or (~x2) or ( x3)) and\n",
    "((~x1) or (~x2) or (~x4)) and\n",
    "((~x1) or (~x2) or ( x4)) and\n",
    "((~x2) or (~x3) or (~x4)) and\n",
    "(( x2) or (~x3) or ( x4)) and\n",
    "(( x1) or (~x3) or ( x4)) and\n",
    "(( x1) or (~x2) or (~x4)) and\n",
    "((~x1) or (~x2) or (~x3))\n",
    "\"\"\""
   ]
  },
  {
   "cell_type": "code",
   "execution_count": 2,
   "id": "275764e8-46cf-4a7e-9aae-3c5b00ed4f2e",
   "metadata": {
    "execution": {
     "iopub.execute_input": "2023-12-06T02:04:04.703747Z",
     "iopub.status.busy": "2023-12-06T02:04:04.702592Z",
     "iopub.status.idle": "2023-12-06T02:04:06.027293Z",
     "shell.execute_reply": "2023-12-06T02:04:06.026572Z"
    },
    "pycharm": {
     "name": "#%%\n"
    },
    "tags": []
   },
   "outputs": [
    {
     "name": "stdout",
     "output_type": "stream",
     "text": [
      "+------+------+------+------+---------------------------------+\n",
      "|  x1  |  x2  |  x3  |  x4  |   ((x2) or (x3) or (x4)) and    |\n",
      "|      |      |      |      |  ((~x1) or ( x2) or ( x3)) and  |\n",
      "|      |      |      |      |  ((~x1) or ( x2) or (~x3)) and  |\n",
      "|      |      |      |      |  ((~x1) or (~x2) or ( x3)) and  |\n",
      "|      |      |      |      |  (( x1) or (~x2) or (~x3)) and  |\n",
      "|      |      |      |      |  (( x1) or (~x2) or ( x3)) and  |\n",
      "|      |      |      |      |  ((~x1) or (~x2) or (~x4)) and  |\n",
      "|      |      |      |      |  ((~x1) or (~x2) or ( x4)) and  |\n",
      "|      |      |      |      |  ((~x2) or (~x3) or (~x4)) and  |\n",
      "|      |      |      |      |  (( x2) or (~x3) or ( x4)) and  |\n",
      "|      |      |      |      |  (( x1) or (~x3) or ( x4)) and  |\n",
      "|      |      |      |      |  (( x1) or (~x2) or (~x4)) and  |\n",
      "|      |      |      |      |    ((~x1) or (~x2) or (~x3))    |\n",
      "|------+------+------+------+---------------------------------|\n",
      "|  1   |  1   |  1   |  1   |                0                |\n",
      "|  1   |  1   |  1   |  0   |                0                |\n",
      "|  1   |  1   |  0   |  1   |                0                |\n",
      "|  1   |  1   |  0   |  0   |                0                |\n",
      "|  1   |  0   |  1   |  1   |                0                |\n",
      "|  1   |  0   |  1   |  0   |                0                |\n",
      "|  1   |  0   |  0   |  1   |                0                |\n",
      "|  1   |  0   |  0   |  0   |                0                |\n",
      "|  0   |  1   |  1   |  1   |                0                |\n",
      "|  0   |  1   |  1   |  0   |                0                |\n",
      "|  0   |  1   |  0   |  1   |                0                |\n",
      "|  0   |  1   |  0   |  0   |                0                |\n",
      "|  0   |  0   |  1   |  1   |                1                |\n",
      "|  0   |  0   |  1   |  0   |                0                |\n",
      "|  0   |  0   |  0   |  1   |                1                |\n",
      "|  0   |  0   |  0   |  0   |                0                |\n",
      "+------+------+------+------+---------------------------------+\n"
     ]
    }
   ],
   "source": [
    "try:\n",
    "    import ttg\n",
    "\n",
    "    print(\n",
    "        ttg.Truths(\n",
    "            [\"x1\", \"x2\", \"x3\", \"x4\"],\n",
    "            [EXPRESSION[1:-1]],\n",
    "        )\n",
    "    )\n",
    "except:\n",
    "    print(\"Please import 'truth-table-generator' in order to print the truth table\")"
   ]
  },
  {
   "cell_type": "markdown",
   "id": "eb39373c-7b72-4a8f-a77b-29bdbf6ebf84",
   "metadata": {
    "tags": []
   },
   "source": [
    "## Loading the model"
   ]
  },
  {
   "cell_type": "code",
   "execution_count": 3,
   "id": "fa7b75cc-5648-435c-9078-e25742f700d5",
   "metadata": {
    "execution": {
     "iopub.execute_input": "2023-12-06T02:04:06.039761Z",
     "iopub.status.busy": "2023-12-06T02:04:06.039143Z",
     "iopub.status.idle": "2023-12-06T02:04:08.456449Z",
     "shell.execute_reply": "2023-12-06T02:04:08.455691Z"
    },
    "pycharm": {
     "name": "#%%\n"
    },
    "tags": []
   },
   "outputs": [],
   "source": [
    "from classiq import RegisterUserInput, construct_grover_model\n",
    "\n",
    "register_size = RegisterUserInput(size=1)\n",
    "\n",
    "qmod = construct_grover_model(\n",
    "    num_reps=1,\n",
    "    expression=\"(\" + EXPRESSION + \")\",\n",
    "    definitions=[\n",
    "        (\"x1\", register_size),\n",
    "        (\"x2\", register_size),\n",
    "        (\"x3\", register_size),\n",
    "        (\"x4\", register_size),\n",
    "    ],\n",
    ")"
   ]
  },
  {
   "cell_type": "code",
   "execution_count": 4,
   "id": "37a941d9-e9e3-4b96-84ca-15314398fd76",
   "metadata": {
    "execution": {
     "iopub.execute_input": "2023-12-06T02:04:08.460649Z",
     "iopub.status.busy": "2023-12-06T02:04:08.459989Z",
     "iopub.status.idle": "2023-12-06T02:04:08.463851Z",
     "shell.execute_reply": "2023-12-06T02:04:08.463255Z"
    }
   },
   "outputs": [],
   "source": [
    "with open(\"3_sat_grover_large.qmod\", \"w\") as f:\n",
    "    f.write(qmod)"
   ]
  },
  {
   "cell_type": "markdown",
   "id": "2cae9260-cb5a-46a3-9f03-d958e843e688",
   "metadata": {
    "pycharm": {
     "name": "#%% md\n"
    }
   },
   "source": [
    "## Synthesizing the Circuit\n",
    "\n",
    "We proceed by synthesizing the circuit using Classiq's synthesis engine. The synthesis should take approximately several seconds:"
   ]
  },
  {
   "cell_type": "code",
   "execution_count": 5,
   "id": "fe260047-cf2f-4a6e-a536-aa3965c57dc2",
   "metadata": {
    "execution": {
     "iopub.execute_input": "2023-12-06T02:04:08.472296Z",
     "iopub.status.busy": "2023-12-06T02:04:08.471913Z",
     "iopub.status.idle": "2023-12-06T02:04:17.032571Z",
     "shell.execute_reply": "2023-12-06T02:04:17.031885Z"
    },
    "tags": []
   },
   "outputs": [],
   "source": [
    "from classiq import GeneratedCircuit, synthesize\n",
    "\n",
    "qprog = synthesize(qmod)"
   ]
  },
  {
   "cell_type": "markdown",
   "id": "99145271-ec09-494d-8c3a-75c3fd24a066",
   "metadata": {
    "pycharm": {
     "name": "#%% md\n"
    },
    "tags": []
   },
   "source": [
    "## Showing the Resulting Circuit\n",
    "\n",
    "After Classiq's synthesis engine has finished the job, we can show the resulting circuit in the interactive GUI:"
   ]
  },
  {
   "cell_type": "code",
   "execution_count": 6,
   "id": "ec6fee5b-8d56-4a5e-9db2-f8c7bb3f9fe7",
   "metadata": {
    "execution": {
     "iopub.execute_input": "2023-12-06T02:04:17.037236Z",
     "iopub.status.busy": "2023-12-06T02:04:17.036979Z",
     "iopub.status.idle": "2023-12-06T02:04:17.543811Z",
     "shell.execute_reply": "2023-12-06T02:04:17.542967Z"
    },
    "tags": []
   },
   "outputs": [
    {
     "name": "stdout",
     "output_type": "stream",
     "text": [
      "Opening: https://platform.classiq.io/circuit/8e0abc86-f473-4bf7-b651-e7cabdfcbcc6?version=0.34.0.dev0%2B124706fb0e\n"
     ]
    }
   ],
   "source": [
    "circuit = GeneratedCircuit.from_qprog(qprog)\n",
    "circuit.show()"
   ]
  },
  {
   "cell_type": "code",
   "execution_count": 7,
   "id": "d5565dd0-ea9c-4c4b-9f0d-8b9d048a67a9",
   "metadata": {
    "execution": {
     "iopub.execute_input": "2023-12-06T02:04:17.547415Z",
     "iopub.status.busy": "2023-12-06T02:04:17.547162Z",
     "iopub.status.idle": "2023-12-06T02:04:17.558230Z",
     "shell.execute_reply": "2023-12-06T02:04:17.557486Z"
    },
    "pycharm": {
     "name": "#%%\n"
    },
    "tags": []
   },
   "outputs": [
    {
     "name": "stdout",
     "output_type": "stream",
     "text": [
      "1219\n"
     ]
    }
   ],
   "source": [
    "print(circuit.transpiled_circuit.depth)"
   ]
  },
  {
   "cell_type": "markdown",
   "id": "4a071884-a24a-4371-92fb-6525acdcf37e",
   "metadata": {
    "pycharm": {
     "name": "#%% md\n"
    }
   },
   "source": [
    "## Executing the circuit\n",
    "\n",
    "Lastly, we can execute the resulting circuit with Classiq's execute interface, using the `execute` function. We select the number of iterations we wish to run (in this case - 1), and the execution backend (in this case - the IBM Aer simulator):"
   ]
  },
  {
   "cell_type": "code",
   "execution_count": 8,
   "id": "d946ca01-dafe-4a69-949f-4a5f6ee1d1ef",
   "metadata": {
    "execution": {
     "iopub.execute_input": "2023-12-06T02:04:17.561805Z",
     "iopub.status.busy": "2023-12-06T02:04:17.561549Z",
     "iopub.status.idle": "2023-12-06T02:04:25.962211Z",
     "shell.execute_reply": "2023-12-06T02:04:25.961477Z"
    },
    "pycharm": {
     "name": "#%%\n"
    },
    "tags": []
   },
   "outputs": [],
   "source": [
    "from classiq import execute, set_quantum_program_execution_preferences\n",
    "from classiq.execution import (\n",
    "    ClassiqBackendPreferences,\n",
    "    ExecutionDetails,\n",
    "    ExecutionPreferences,\n",
    ")\n",
    "\n",
    "backend_preferences = ExecutionPreferences(\n",
    "    backend_preferences=ClassiqBackendPreferences(backend_name=\"aer_simulator\")\n",
    ")\n",
    "\n",
    "qprog = set_quantum_program_execution_preferences(qprog, backend_preferences)\n",
    "optimization_result = execute(qprog).result()"
   ]
  },
  {
   "cell_type": "code",
   "execution_count": 9,
   "id": "879f6c19-ffa1-47c1-b629-2976914c0249",
   "metadata": {
    "execution": {
     "iopub.execute_input": "2023-12-06T02:04:25.966221Z",
     "iopub.status.busy": "2023-12-06T02:04:25.965532Z",
     "iopub.status.idle": "2023-12-06T02:04:25.970636Z",
     "shell.execute_reply": "2023-12-06T02:04:25.969894Z"
    },
    "tags": []
   },
   "outputs": [],
   "source": [
    "res = optimization_result[0].value"
   ]
  },
  {
   "cell_type": "markdown",
   "id": "6f82191f-2e5b-4c2e-8141-afc31053a45c",
   "metadata": {
    "pycharm": {
     "name": "#%% md\n"
    }
   },
   "source": [
    "Printing out the result, we see that our execution of Grover's algorithm successfully found the satisfying assignments for the input formula with a high probability:"
   ]
  },
  {
   "cell_type": "code",
   "execution_count": 10,
   "id": "f0e478c0-1874-427b-b1b8-f9709a38dfab",
   "metadata": {
    "execution": {
     "iopub.execute_input": "2023-12-06T02:04:25.973461Z",
     "iopub.status.busy": "2023-12-06T02:04:25.973238Z",
     "iopub.status.idle": "2023-12-06T02:04:25.985115Z",
     "shell.execute_reply": "2023-12-06T02:04:25.984341Z"
    },
    "tags": []
   },
   "outputs": [
    {
     "data": {
      "text/plain": [
       "{('1', '0', '1', '1'): 11,\n",
       " ('0', '0', '0', '0'): 14,\n",
       " ('1', '1', '1', '1'): 15,\n",
       " ('1', '0', '0', '0'): 17,\n",
       " ('0', '0', '1', '1'): 418,\n",
       " ('1', '0', '1', '0'): 13,\n",
       " ('1', '0', '0', '1'): 16,\n",
       " ('1', '1', '0', '1'): 17,\n",
       " ('1', '1', '1', '0'): 15,\n",
       " ('1', '1', '0', '0'): 18,\n",
       " ('0', '0', '0', '1'): 379,\n",
       " ('0', '1', '1', '0'): 13,\n",
       " ('0', '1', '1', '1'): 14,\n",
       " ('0', '0', '1', '0'): 16,\n",
       " ('0', '1', '0', '0'): 10,\n",
       " ('0', '1', '0', '1'): 14}"
      ]
     },
     "execution_count": 10,
     "metadata": {},
     "output_type": "execute_result"
    }
   ],
   "source": [
    "res.counts_of_multiple_outputs((\"x1\", \"x2\", \"x3\", \"x4\"))"
   ]
  }
 ],
 "metadata": {
  "kernelspec": {
   "display_name": "Python 3 (ipykernel)",
   "language": "python",
   "name": "python3"
  },
  "language_info": {
   "codemirror_mode": {
    "name": "ipython",
    "version": 3
   },
   "file_extension": ".py",
   "mimetype": "text/x-python",
   "name": "python",
   "nbconvert_exporter": "python",
   "pygments_lexer": "ipython3",
   "version": "3.11.6"
  }
 },
 "nbformat": 4,
 "nbformat_minor": 5
}
