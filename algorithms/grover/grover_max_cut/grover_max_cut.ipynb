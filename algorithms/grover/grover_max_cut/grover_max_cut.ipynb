{
 "cells": [
  {
   "cell_type": "markdown",
   "id": "6a6a7ea3-e27b-43f3-a53c-9c8a4eb9ec7a",
   "metadata": {},
   "source": [
    "# Graph Cut search problem with Grover Oracle"
   ]
  },
  {
   "cell_type": "markdown",
   "id": "5193de81-389e-4a87-89dc-1acb2f2630e0",
   "metadata": {},
   "source": [
    "## Introduction\n",
    "\n",
    "The \"Maximum Cut Problem\" (MaxCut) [[1](#MaxCutWiki)] is an example of combinatorial optimization problem. It refers to finding a partition of a graph into two sets, such that the number of edges between the two sets is maximal.\n",
    "\n",
    "## Mathematical formulation\n",
    "\n",
    "Given a graph $G=(V,E)$ with $|V|=n$ nodes and $E$ edges, a cut is defined as a partition of the graph into two complementary subsets of nodes. In the MaxCut problem we are looking for a cut where the number of edges between the two subsets is maximal. We can represent a cut of the graph by a binary vector $x$ of size $n$, where we assign 0 and 1 to nodes in the first and second subsets, respectively. The number of connecting edges for a given cut is simply given by summing over $x_i (1-x_j)+x_j (1-x_i)$ for every pair of connected nodes $(i,j)$.\n",
    "\n",
    "# Solving with the Classiq platform\n"
   ]
  },
  {
   "cell_type": "markdown",
   "id": "e09cc2a0-f32d-4630-8ef5-08227e3f25e7",
   "metadata": {
    "tags": []
   },
   "source": [
    "### Necessary Packages\n",
    "\n",
    "In this demo, besides the `classiq` package, we'll use the following packages:"
   ]
  },
  {
   "cell_type": "code",
   "execution_count": 1,
   "id": "60cf0c21-2e9d-41d9-b1b0-733829034302",
   "metadata": {
    "execution": {
     "iopub.execute_input": "2023-12-06T02:03:37.690111Z",
     "iopub.status.busy": "2023-12-06T02:03:37.689875Z",
     "iopub.status.idle": "2023-12-06T02:03:55.090039Z",
     "shell.execute_reply": "2023-12-06T02:03:55.087736Z"
    },
    "tags": []
   },
   "outputs": [],
   "source": [
    "%%capture\n",
    "! pip install networkx\n",
    "! pip install pyomo\n",
    "! pip install sympy\n",
    "! pip install matplotlib"
   ]
  },
  {
   "cell_type": "markdown",
   "id": "311c3a03-cd25-4453-94ff-8743b0ba0e55",
   "metadata": {},
   "source": [
    "In this tutorial we define a **search problem** instead: Given a graph and number of edges, check if there is a cut in the grpah that We will solve the problem using the grover algorithm."
   ]
  },
  {
   "cell_type": "code",
   "execution_count": 2,
   "id": "e5e216e7-2bb6-4a8d-a63b-3585f3594c84",
   "metadata": {
    "execution": {
     "iopub.execute_input": "2023-12-06T02:03:55.094846Z",
     "iopub.status.busy": "2023-12-06T02:03:55.094414Z",
     "iopub.status.idle": "2023-12-06T02:03:56.752841Z",
     "shell.execute_reply": "2023-12-06T02:03:56.752028Z"
    },
    "tags": []
   },
   "outputs": [],
   "source": [
    "import matplotlib.pyplot as plt\n",
    "import networkx as nx\n",
    "import numpy as np\n",
    "import pyomo.core as pyo\n",
    "from IPython.display import Markdown, display\n",
    "from sympy import simplify"
   ]
  },
  {
   "cell_type": "markdown",
   "id": "6e32027b-edd3-47d2-bb68-233bbea58fc9",
   "metadata": {},
   "source": [
    "### Define the cut search problem"
   ]
  },
  {
   "cell_type": "code",
   "execution_count": 3,
   "id": "3d3ac71a-edba-4459-8210-dad999fee2c5",
   "metadata": {
    "execution": {
     "iopub.execute_input": "2023-12-06T02:03:56.758006Z",
     "iopub.status.busy": "2023-12-06T02:03:56.756561Z",
     "iopub.status.idle": "2023-12-06T02:03:56.764181Z",
     "shell.execute_reply": "2023-12-06T02:03:56.763600Z"
    },
    "tags": []
   },
   "outputs": [],
   "source": [
    "def is_cross_cut_edge(x1: int, x2: int) -> int:\n",
    "    return x1 * (1 - x2) + x2 * (1 - x1)\n",
    "\n",
    "\n",
    "def generate_maxcut_formula(graph: nx.Graph, cut_size) -> pyo.ConcreteModel:\n",
    "    model = pyo.ConcreteModel()\n",
    "    model.x = pyo.Var(graph.nodes, domain=pyo.Binary)\n",
    "\n",
    "    model.cut_edges_constraint = pyo.Constraint(\n",
    "        expr=sum(\n",
    "            is_cross_cut_edge(model.x[node1], model.x[node2])\n",
    "            for (node1, node2) in graph.edges\n",
    "        )\n",
    "        >= cut_size\n",
    "    )\n",
    "\n",
    "    expr = str(model.cut_edges_constraint.expr)\n",
    "    for i in graph.nodes:\n",
    "        expr = expr.replace(f\"[{i}]\", f\"{i}\")\n",
    "    expr = str(simplify(expr))\n",
    "    return expr"
   ]
  },
  {
   "cell_type": "markdown",
   "id": "39d882bc-56e8-4680-8803-14b1dd05d115",
   "metadata": {},
   "source": [
    "### Define a speific problem input"
   ]
  },
  {
   "cell_type": "code",
   "execution_count": 4,
   "id": "bf2306e8-25ee-47e8-8d15-a208342d84be",
   "metadata": {
    "execution": {
     "iopub.execute_input": "2023-12-06T02:03:56.768491Z",
     "iopub.status.busy": "2023-12-06T02:03:56.767363Z",
     "iopub.status.idle": "2023-12-06T02:03:57.144909Z",
     "shell.execute_reply": "2023-12-06T02:03:57.144167Z"
    },
    "pycharm": {
     "name": "#%%\n"
    },
    "tags": []
   },
   "outputs": [
    {
     "data": {
      "image/png": "[encoded data removed]",
      "text/plain": [
       "<Figure size 640x480 with 1 Axes>"
      ]
     },
     "metadata": {},
     "output_type": "display_data"
    }
   ],
   "source": [
    "# Create graph\n",
    "G = nx.Graph()\n",
    "G.add_nodes_from([0, 1, 2, 3, 4])\n",
    "G.add_edges_from([(0, 1), (0, 2), (1, 2), (1, 3), (2, 4), (3, 4)])\n",
    "pos = nx.planar_layout(G)\n",
    "nx.draw_networkx(G, pos=pos, with_labels=True, alpha=0.8, node_size=500)"
   ]
  },
  {
   "cell_type": "markdown",
   "id": "074e98b5-83ed-4a5b-9ac1-1ef9859a869c",
   "metadata": {},
   "source": [
    "here we look for a cut of size 4 to the graph:"
   ]
  },
  {
   "cell_type": "code",
   "execution_count": 5,
   "id": "9f00c3c0-1830-40b9-affe-80abf7a41a6f",
   "metadata": {
    "execution": {
     "iopub.execute_input": "2023-12-06T02:03:57.151902Z",
     "iopub.status.busy": "2023-12-06T02:03:57.150736Z",
     "iopub.status.idle": "2023-12-06T02:03:58.203390Z",
     "shell.execute_reply": "2023-12-06T02:03:58.202607Z"
    },
    "tags": []
   },
   "outputs": [
    {
     "name": "stdout",
     "output_type": "stream",
     "text": [
      "2*x0*x1 + 2*x0*x2 - 2*x0 + 2*x1*x2 + 2*x1*x3 - 3*x1 + 2*x2*x4 - 3*x2 + 2*x3*x4 - 2*x3 - 2*x4 <= -4\n"
     ]
    }
   ],
   "source": [
    "formula = generate_maxcut_formula(G, cut_size=4)\n",
    "print(formula)"
   ]
  },
  {
   "cell_type": "markdown",
   "id": "87c640ad-f91c-4b2d-bdf9-28a329c8107a",
   "metadata": {},
   "source": [
    "## Creating quantum circuit from the problem formulation and solving it using the Classiq platform"
   ]
  },
  {
   "cell_type": "code",
   "execution_count": 6,
   "id": "5e1d3413-4a44-4382-830b-f1f22a924a1b",
   "metadata": {
    "execution": {
     "iopub.execute_input": "2023-12-06T02:03:58.207817Z",
     "iopub.status.busy": "2023-12-06T02:03:58.207357Z",
     "iopub.status.idle": "2023-12-06T02:04:00.645434Z",
     "shell.execute_reply": "2023-12-06T02:04:00.644769Z"
    },
    "pycharm": {
     "name": "#%%\n"
    },
    "tags": []
   },
   "outputs": [],
   "source": [
    "from classiq import RegisterUserInput, construct_grover_model\n",
    "\n",
    "register_size = RegisterUserInput(size=1)\n",
    "\n",
    "qmod = construct_grover_model(\n",
    "    num_reps=3,\n",
    "    expression=formula,\n",
    "    definitions=[(f\"x{i}\", RegisterUserInput(size=1)) for i in G.nodes],\n",
    ")"
   ]
  },
  {
   "cell_type": "markdown",
   "id": "bc9f2554-ea2d-4666-a2e5-2578c253e79d",
   "metadata": {
    "pycharm": {
     "name": "#%% md\n"
    }
   },
   "source": [
    "## Synthesizing the Circuit\n",
    "\n",
    "We proceed by synthesizing the circuit using Classiq's synthesis engine. The synthesis should take approximately several seconds:"
   ]
  },
  {
   "cell_type": "code",
   "execution_count": 7,
   "id": "542b41be-c61c-42cf-a6ea-062a9c8abc01",
   "metadata": {
    "execution": {
     "iopub.execute_input": "2023-12-06T02:04:00.649779Z",
     "iopub.status.busy": "2023-12-06T02:04:00.649130Z",
     "iopub.status.idle": "2023-12-06T02:04:00.666686Z",
     "shell.execute_reply": "2023-12-06T02:04:00.666001Z"
    },
    "tags": []
   },
   "outputs": [],
   "source": [
    "from classiq import Constraints, GeneratedCircuit, set_constraints, synthesize\n",
    "\n",
    "qmod = set_constraints(qmod, Constraints(max_width=22))"
   ]
  },
  {
   "cell_type": "code",
   "execution_count": 8,
   "id": "e400ac31-f38f-4855-a00b-c3b599ce299c",
   "metadata": {
    "execution": {
     "iopub.execute_input": "2023-12-06T02:04:00.671774Z",
     "iopub.status.busy": "2023-12-06T02:04:00.669877Z",
     "iopub.status.idle": "2023-12-06T02:04:00.675660Z",
     "shell.execute_reply": "2023-12-06T02:04:00.675084Z"
    }
   },
   "outputs": [],
   "source": [
    "with open(\"grover_max_cut.qmod\", \"w\") as f:\n",
    "    f.write(qmod)"
   ]
  },
  {
   "cell_type": "code",
   "execution_count": 9,
   "id": "6f5ea028-27b3-4653-9430-4120ff432998",
   "metadata": {
    "execution": {
     "iopub.execute_input": "2023-12-06T02:04:00.680220Z",
     "iopub.status.busy": "2023-12-06T02:04:00.678924Z",
     "iopub.status.idle": "2023-12-06T02:04:43.766895Z",
     "shell.execute_reply": "2023-12-06T02:04:43.763602Z"
    },
    "tags": []
   },
   "outputs": [],
   "source": [
    "qprog = synthesize(qmod)"
   ]
  },
  {
   "cell_type": "markdown",
   "id": "ce6b4557-33f6-48b9-9f15-e97a09c03614",
   "metadata": {
    "pycharm": {
     "name": "#%% md\n"
    },
    "tags": []
   },
   "source": [
    "## Showing the Resulting Circuit\n",
    "\n",
    "After Classiq's synthesis engine has finished the job, we can show the resulting circuit in the interactive GUI:"
   ]
  },
  {
   "cell_type": "code",
   "execution_count": 10,
   "id": "6a3c1723-4374-451a-8336-32bcf533b046",
   "metadata": {
    "execution": {
     "iopub.execute_input": "2023-12-06T02:04:43.770775Z",
     "iopub.status.busy": "2023-12-06T02:04:43.770486Z",
     "iopub.status.idle": "2023-12-06T02:04:44.474569Z",
     "shell.execute_reply": "2023-12-06T02:04:44.473281Z"
    },
    "tags": []
   },
   "outputs": [
    {
     "name": "stdout",
     "output_type": "stream",
     "text": [
      "Opening: https://platform.classiq.io/circuit/cc6d7e56-82a4-4b19-b46f-141983430e48?version=0.34.0.dev0%2B124706fb0e\n"
     ]
    }
   ],
   "source": [
    "from classiq import show\n",
    "\n",
    "show(qprog)"
   ]
  },
  {
   "cell_type": "code",
   "execution_count": 11,
   "id": "1476725c-6063-4027-aa86-2831f647eda3",
   "metadata": {
    "execution": {
     "iopub.execute_input": "2023-12-06T02:04:44.477854Z",
     "iopub.status.busy": "2023-12-06T02:04:44.477614Z",
     "iopub.status.idle": "2023-12-06T02:04:45.009799Z",
     "shell.execute_reply": "2023-12-06T02:04:45.008909Z"
    },
    "pycharm": {
     "name": "#%%\n"
    }
   },
   "outputs": [
    {
     "name": "stdout",
     "output_type": "stream",
     "text": [
      "2827\n"
     ]
    }
   ],
   "source": [
    "circuit = GeneratedCircuit.from_qprog(qprog)\n",
    "\n",
    "print(circuit.transpiled_circuit.depth)"
   ]
  },
  {
   "cell_type": "markdown",
   "id": "fddd0a9b-fd4e-4d35-bc0a-aaf381305a9f",
   "metadata": {
    "pycharm": {
     "name": "#%% md\n"
    }
   },
   "source": [
    "### Execute the problem on a simulator and try to find a valid solution\n",
    "Lastly, we can execute the resulting circuit with Classiq's execute interface, using the `execute` function."
   ]
  },
  {
   "cell_type": "code",
   "execution_count": 12,
   "id": "6cb370d3-f302-4256-a086-4881adc16f83",
   "metadata": {
    "execution": {
     "iopub.execute_input": "2023-12-06T02:04:45.016850Z",
     "iopub.status.busy": "2023-12-06T02:04:45.016602Z",
     "iopub.status.idle": "2023-12-06T02:05:12.745512Z",
     "shell.execute_reply": "2023-12-06T02:05:12.744581Z"
    },
    "pycharm": {
     "name": "#%%\n"
    },
    "tags": []
   },
   "outputs": [],
   "source": [
    "from classiq import execute, set_quantum_program_execution_preferences\n",
    "from classiq.execution import (\n",
    "    ClassiqBackendPreferences,\n",
    "    ExecutionDetails,\n",
    "    ExecutionPreferences,\n",
    ")\n",
    "\n",
    "backend_preferences = ExecutionPreferences(\n",
    "    backend_preferences=ClassiqBackendPreferences(backend_name=\"aer_simulator\")\n",
    ")\n",
    "\n",
    "qprog = set_quantum_program_execution_preferences(qprog, backend_preferences)\n",
    "optimization_result = execute(qprog).result()"
   ]
  },
  {
   "cell_type": "code",
   "execution_count": 13,
   "id": "9ccbd6e5-c1ce-4818-bebe-78294e0690fe",
   "metadata": {
    "execution": {
     "iopub.execute_input": "2023-12-06T02:05:12.749472Z",
     "iopub.status.busy": "2023-12-06T02:05:12.749223Z",
     "iopub.status.idle": "2023-12-06T02:05:12.763732Z",
     "shell.execute_reply": "2023-12-06T02:05:12.762666Z"
    },
    "tags": []
   },
   "outputs": [],
   "source": [
    "res = optimization_result[0].value"
   ]
  },
  {
   "cell_type": "markdown",
   "id": "ccd981e5-078a-4259-91e5-798b60f79077",
   "metadata": {
    "pycharm": {
     "name": "#%% md\n"
    }
   },
   "source": [
    "Printing out the result, we see that our execution of Grover's algorithm successfully found the satisfying assignments for the input formula:"
   ]
  },
  {
   "cell_type": "code",
   "execution_count": 14,
   "id": "57289675-1091-4a4f-bafb-b3c42dc6fde7",
   "metadata": {
    "execution": {
     "iopub.execute_input": "2023-12-06T02:05:12.768477Z",
     "iopub.status.busy": "2023-12-06T02:05:12.767295Z",
     "iopub.status.idle": "2023-12-06T02:05:12.793656Z",
     "shell.execute_reply": "2023-12-06T02:05:12.793021Z"
    },
    "tags": []
   },
   "outputs": [
    {
     "data": {
      "text/plain": [
       "[SampledState(state={'x0': 1.0, 'x1': 0.0, 'x2': 0.0, 'x3': 1.0, 'x4': 0.0}, shots=87),\n",
       " SampledState(state={'x0': 0.0, 'x1': 1.0, 'x2': 1.0, 'x3': 0.0, 'x4': 0.0}, shots=85),\n",
       " SampledState(state={'x0': 1.0, 'x1': 1.0, 'x2': 0.0, 'x3': 0.0, 'x4': 1.0}, shots=79),\n",
       " SampledState(state={'x0': 1.0, 'x1': 0.0, 'x2': 0.0, 'x3': 0.0, 'x4': 1.0}, shots=78),\n",
       " SampledState(state={'x0': 1.0, 'x1': 0.0, 'x2': 0.0, 'x3': 1.0, 'x4': 1.0}, shots=73),\n",
       " SampledState(state={'x0': 0.0, 'x1': 1.0, 'x2': 0.0, 'x3': 0.0, 'x4': 1.0}, shots=67),\n",
       " SampledState(state={'x0': 0.0, 'x1': 0.0, 'x2': 1.0, 'x3': 1.0, 'x4': 0.0}, shots=67),\n",
       " SampledState(state={'x0': 1.0, 'x1': 0.0, 'x2': 1.0, 'x3': 1.0, 'x4': 0.0}, shots=65),\n",
       " SampledState(state={'x0': 0.0, 'x1': 1.0, 'x2': 1.0, 'x3': 0.0, 'x4': 1.0}, shots=56),\n",
       " SampledState(state={'x0': 0.0, 'x1': 1.0, 'x2': 1.0, 'x3': 1.0, 'x4': 0.0}, shots=55),\n",
       " SampledState(state={'x0': 0.0, 'x1': 0.0, 'x2': 1.0, 'x3': 1.0, 'x4': 1.0}, shots=20),\n",
       " SampledState(state={'x0': 1.0, 'x1': 1.0, 'x2': 1.0, 'x3': 0.0, 'x4': 0.0}, shots=19),\n",
       " SampledState(state={'x0': 0.0, 'x1': 1.0, 'x2': 1.0, 'x3': 1.0, 'x4': 1.0}, shots=17),\n",
       " SampledState(state={'x0': 0.0, 'x1': 1.0, 'x2': 0.0, 'x3': 1.0, 'x4': 1.0}, shots=17),\n",
       " SampledState(state={'x0': 1.0, 'x1': 1.0, 'x2': 0.0, 'x3': 1.0, 'x4': 1.0}, shots=17),\n",
       " SampledState(state={'x0': 0.0, 'x1': 1.0, 'x2': 0.0, 'x3': 1.0, 'x4': 0.0}, shots=16),\n",
       " SampledState(state={'x0': 1.0, 'x1': 0.0, 'x2': 1.0, 'x3': 0.0, 'x4': 1.0}, shots=14),\n",
       " SampledState(state={'x0': 1.0, 'x1': 0.0, 'x2': 0.0, 'x3': 0.0, 'x4': 0.0}, shots=14),\n",
       " SampledState(state={'x0': 1.0, 'x1': 1.0, 'x2': 0.0, 'x3': 0.0, 'x4': 0.0}, shots=13),\n",
       " SampledState(state={'x0': 1.0, 'x1': 1.0, 'x2': 1.0, 'x3': 1.0, 'x4': 1.0}, shots=13),\n",
       " SampledState(state={'x0': 1.0, 'x1': 1.0, 'x2': 1.0, 'x3': 0.0, 'x4': 1.0}, shots=13),\n",
       " SampledState(state={'x0': 0.0, 'x1': 0.0, 'x2': 0.0, 'x3': 0.0, 'x4': 1.0}, shots=12),\n",
       " SampledState(state={'x0': 1.0, 'x1': 0.0, 'x2': 1.0, 'x3': 0.0, 'x4': 0.0}, shots=12),\n",
       " SampledState(state={'x0': 1.0, 'x1': 1.0, 'x2': 1.0, 'x3': 1.0, 'x4': 0.0}, shots=12),\n",
       " SampledState(state={'x0': 0.0, 'x1': 0.0, 'x2': 1.0, 'x3': 0.0, 'x4': 0.0}, shots=12),\n",
       " SampledState(state={'x0': 0.0, 'x1': 0.0, 'x2': 1.0, 'x3': 0.0, 'x4': 1.0}, shots=12),\n",
       " SampledState(state={'x0': 1.0, 'x1': 1.0, 'x2': 0.0, 'x3': 1.0, 'x4': 0.0}, shots=11),\n",
       " SampledState(state={'x0': 0.0, 'x1': 0.0, 'x2': 0.0, 'x3': 1.0, 'x4': 1.0}, shots=10),\n",
       " SampledState(state={'x0': 0.0, 'x1': 1.0, 'x2': 0.0, 'x3': 0.0, 'x4': 0.0}, shots=10),\n",
       " SampledState(state={'x0': 0.0, 'x1': 0.0, 'x2': 0.0, 'x3': 1.0, 'x4': 0.0}, shots=10),\n",
       " SampledState(state={'x0': 0.0, 'x1': 0.0, 'x2': 0.0, 'x3': 0.0, 'x4': 0.0}, shots=9),\n",
       " SampledState(state={'x0': 1.0, 'x1': 0.0, 'x2': 1.0, 'x3': 1.0, 'x4': 1.0}, shots=5)]"
      ]
     },
     "execution_count": 14,
     "metadata": {},
     "output_type": "execute_result"
    }
   ],
   "source": [
    "res.parsed_counts"
   ]
  },
  {
   "cell_type": "markdown",
   "id": "66b05fd2-25ef-403b-b40b-45a2358acf52",
   "metadata": {},
   "source": [
    "We can see that the satisfying assignments are ~6 times more probable than the unsatisfying assignments. Let's print one of them:"
   ]
  },
  {
   "cell_type": "code",
   "execution_count": 15,
   "id": "7d0d9948-c3fe-4d7b-85bb-2a1b1de7a953",
   "metadata": {
    "execution": {
     "iopub.execute_input": "2023-12-06T02:05:12.802720Z",
     "iopub.status.busy": "2023-12-06T02:05:12.797040Z",
     "iopub.status.idle": "2023-12-06T02:05:12.819173Z",
     "shell.execute_reply": "2023-12-06T02:05:12.818562Z"
    },
    "tags": []
   },
   "outputs": [
    {
     "name": "stdout",
     "output_type": "stream",
     "text": [
      "state={'x0': 1.0, 'x1': 0.0, 'x2': 0.0, 'x3': 1.0, 'x4': 0.0} shots=87\n"
     ]
    }
   ],
   "source": [
    "most_probable_result = res.parsed_counts[0]\n",
    "print(most_probable_result)"
   ]
  },
  {
   "cell_type": "code",
   "execution_count": 16,
   "id": "a3a3995d-b677-476b-8bae-7c56b8cb7c4d",
   "metadata": {
    "execution": {
     "iopub.execute_input": "2023-12-06T02:05:12.823908Z",
     "iopub.status.busy": "2023-12-06T02:05:12.822769Z",
     "iopub.status.idle": "2023-12-06T02:05:13.143283Z",
     "shell.execute_reply": "2023-12-06T02:05:13.142571Z"
    },
    "tags": []
   },
   "outputs": [
    {
     "data": {
      "image/png": "[encoded data removed]",
      "text/plain": [
       "<Figure size 640x480 with 1 Axes>"
      ]
     },
     "metadata": {},
     "output_type": "display_data"
    }
   ],
   "source": [
    "edge_widths = [\n",
    "    is_cross_cut_edge(\n",
    "        int(most_probable_result.state[f\"x{i}\"]),\n",
    "        int(most_probable_result.state[f\"x{j}\"]),\n",
    "    )\n",
    "    + 0.5\n",
    "    for i, j in G.edges\n",
    "]\n",
    "node_colors = [int(most_probable_result.state[f\"x{i}\"]) for i in G.nodes]\n",
    "nx.draw_networkx(\n",
    "    G,\n",
    "    pos=pos,\n",
    "    with_labels=True,\n",
    "    alpha=0.8,\n",
    "    node_size=500,\n",
    "    node_color=node_colors,\n",
    "    width=edge_widths,\n",
    "    cmap=plt.cm.rainbow,\n",
    ")"
   ]
  },
  {
   "cell_type": "markdown",
   "id": "4caea675-4b05-4d45-ac0a-d17d1cff7a64",
   "metadata": {
    "pycharm": {
     "name": "#%% md\n"
    },
    "tags": []
   },
   "source": [
    "\n",
    "## References\n",
    "\n",
    "<a id='MaxCutWiki'>[1]</a>: [Maximum Cut Problem (Wikipedia)](https://en.wikipedia.org/wiki/Maximum_cut)\n"
   ]
  }
 ],
 "metadata": {
  "kernelspec": {
   "display_name": "Python 3 (ipykernel)",
   "language": "python",
   "name": "python3"
  },
  "language_info": {
   "codemirror_mode": {
    "name": "ipython",
    "version": 3
   },
   "file_extension": ".py",
   "mimetype": "text/x-python",
   "name": "python",
   "nbconvert_exporter": "python",
   "pygments_lexer": "ipython3",
   "version": "3.11.6"
  },
  "vscode": {
   "interpreter": {
    "hash": "a07aacdcc8a415e7643a2bc993226848ff70704ebef014f87460de9126b773d0"
   }
  }
 },
 "nbformat": 4,
 "nbformat_minor": 5
}
