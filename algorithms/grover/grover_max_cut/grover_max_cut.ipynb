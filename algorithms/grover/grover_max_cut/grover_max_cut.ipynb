{
 "cells": [
  {
   "cell_type": "markdown",
   "id": "6a6a7ea3-e27b-43f3-a53c-9c8a4eb9ec7a",
   "metadata": {},
   "source": [
    "# Graph Cut Search Problem with Grover Oracle"
   ]
  },
  {
   "cell_type": "markdown",
   "id": "5193de81-389e-4a87-89dc-1acb2f2630e0",
   "metadata": {},
   "source": [
    "The \"Maximum Cut Problem\" (MaxCut) [[1](#MaxCutWiki)] is an example of a combinatorial optimization problem. It refers to finding a partition of a graph into two sets, such that the number of edges between the two sets is the maximum.\n",
    "\n",
    "## Mathematical Formulation\n",
    "\n",
    "Given a graph $G=(V,E)$ with $|V|=n$ nodes and $E$ edges, a cut is defined as a partition of the graph into two complementary subsets of nodes. In the MaxCut problem we look for a cut where the number of edges between the two subsets is the maximum. We can represent a cut of the graph by a binary vector $x$ of size $n$, assigning 0 and 1 to nodes in the first and second subsets, respectively. The number of connecting edges for a given cut is simply given by summing over $x_i (1-x_j)+x_j (1-x_i)$ for every pair of connected nodes $(i,j)$.\n",
    "\n",
    "## Solving with the Classiq Platform\n"
   ]
  },
  {
   "cell_type": "markdown",
   "id": "311c3a03-cd25-4453-94ff-8743b0ba0e55",
   "metadata": {},
   "source": [
    "In this tutorial we define a **search problem** instead: Given a graph and number of edges, we check if there is a cut in the graph larger than a certain size. We solve the problem using the Grover algorithm."
   ]
  },
  {
   "cell_type": "code",
   "execution_count": 1,
   "id": "e5e216e7-2bb6-4a8d-a63b-3585f3594c84",
   "metadata": {
    "tags": []
   },
   "outputs": [],
   "source": [
    "import matplotlib.pyplot as plt\n",
    "import networkx as nx\n",
    "import numpy as np\n",
    "import pyomo.core as pyo\n",
    "import sympy\n",
    "from IPython.display import Markdown, display"
   ]
  },
  {
   "cell_type": "markdown",
   "id": "6e32027b-edd3-47d2-bb68-233bbea58fc9",
   "metadata": {},
   "source": [
    "### Defining the Cut Search Problem"
   ]
  },
  {
   "cell_type": "markdown",
   "id": "a651a787-2c21-476d-8426-5a5f1be75e10",
   "metadata": {},
   "source": [
    "We use SymPy to create an formula for the cut, for use later in the quantum algorithm:"
   ]
  },
  {
   "cell_type": "code",
   "execution_count": 2,
   "id": "3d3ac71a-edba-4459-8210-dad999fee2c5",
   "metadata": {
    "tags": []
   },
   "outputs": [],
   "source": [
    "def is_cross_cut_edge(x1: int, x2: int) -> int:\n",
    "    return x1 * (1 - x2) + x2 * (1 - x1)\n",
    "\n",
    "\n",
    "def generate_cut_formula(graph: nx.Graph):\n",
    "    x = sympy.symbols(f\"x:{len(graph.nodes)}\")\n",
    "    expr = sum(is_cross_cut_edge(x[node1], x[node2]) for (node1, node2) in graph.edges)\n",
    "    expr = sympy.simplify(expr)\n",
    "    print(\"Graph cut expression:\", expr)\n",
    "    formula_func = sympy.lambdify(x, expr)\n",
    "    return formula_func"
   ]
  },
  {
   "cell_type": "markdown",
   "id": "39d882bc-56e8-4680-8803-14b1dd05d115",
   "metadata": {},
   "source": [
    "### Defining a Specific Problem Input"
   ]
  },
  {
   "cell_type": "markdown",
   "id": "759ca95a-67b2-4a35-832a-34af10d9910d",
   "metadata": {},
   "source": [
    "We initiate a specific graph whose maximum cut is 5:"
   ]
  },
  {
   "cell_type": "code",
   "execution_count": 3,
   "id": "bf2306e8-25ee-47e8-8d15-a208342d84be",
   "metadata": {
    "pycharm": {
     "name": "#%%\n"
    },
    "tags": []
   },
   "outputs": [
    {
     "data": {
      "image/png": "[encoded data removed]",
      "text/plain": [
       "<Figure size 640x480 with 1 Axes>"
      ]
     },
     "metadata": {},
     "output_type": "display_data"
    }
   ],
   "source": [
    "# Create graph\n",
    "G = nx.Graph()\n",
    "G.add_nodes_from([0, 1, 2, 3, 4])\n",
    "G.add_edges_from([(0, 1), (0, 2), (1, 2), (1, 3), (2, 4), (3, 4)])\n",
    "pos = nx.planar_layout(G)\n",
    "nx.draw_networkx(G, pos=pos, with_labels=True, alpha=0.8, node_size=500)"
   ]
  },
  {
   "cell_type": "code",
   "execution_count": 4,
   "id": "9f00c3c0-1830-40b9-affe-80abf7a41a6f",
   "metadata": {
    "tags": []
   },
   "outputs": [
    {
     "name": "stdout",
     "output_type": "stream",
     "text": [
      "Graph cut expression: -2*x0*x1 - 2*x0*x2 + 2*x0 - 2*x1*x2 - 2*x1*x3 + 3*x1 - 2*x2*x4 + 3*x2 - 2*x3*x4 + 2*x3 + 2*x4\n"
     ]
    }
   ],
   "source": [
    "cut_formula = generate_cut_formula(G)"
   ]
  },
  {
   "cell_type": "markdown",
   "id": "87c640ad-f91c-4b2d-bdf9-28a329c8107a",
   "metadata": {},
   "source": [
    "## Creating a Quantum Circuit and Solving It Using the Classiq Platform"
   ]
  },
  {
   "cell_type": "markdown",
   "id": "4127c806-1a14-416b-bae8-07b951e662fe",
   "metadata": {},
   "source": [
    "We use the `grover_search` function for the quantum circuit. The oracle function is a `phase_oracle`, which applies a $(-1)$ phase to each state for which the inner function delivered to `phase_oracle` returns 1. The `cut_oracle` is the inner function in this case, calculating whether a given graph partition`s cut is larger than some constant.\n",
    "\n",
    "\n",
    "Here we look for a cut of size 4 to the graph:"
   ]
  },
  {
   "cell_type": "code",
   "execution_count": 5,
   "id": "5e1d3413-4a44-4382-830b-f1f22a924a1b",
   "metadata": {
    "pycharm": {
     "name": "#%%\n"
    },
    "tags": []
   },
   "outputs": [],
   "source": [
    "from classiq import *\n",
    "\n",
    "CUT_SIZE = 4\n",
    "\n",
    "\n",
    "@qfunc\n",
    "def cut_oracle(cut_size: CInt, nodes: QArray[QBit], res: QBit):\n",
    "    res ^= -(cut_formula(*[nodes[i] for i in range(len(G.nodes))])) <= -cut_size\n",
    "\n",
    "\n",
    "@qfunc\n",
    "def main(nodes: Output[QArray[QBit, len(G.nodes)]]):\n",
    "    allocate(nodes.len, nodes)\n",
    "    grover_search(\n",
    "        reps=3,\n",
    "        oracle=lambda vars: phase_oracle(\n",
    "            lambda vars, res: cut_oracle(CUT_SIZE, vars, res), vars\n",
    "        ),\n",
    "        packed_vars=nodes,\n",
    "    )\n",
    "\n",
    "\n",
    "qmod = create_model(main)\n",
    "qmod = set_constraints(qmod, max_width=22)\n",
    "write_qmod(qmod, \"grover_max_cut\")"
   ]
  },
  {
   "cell_type": "markdown",
   "id": "bc9f2554-ea2d-4666-a2e5-2578c253e79d",
   "metadata": {
    "pycharm": {
     "name": "#%% md\n"
    }
   },
   "source": [
    "### Synthesizing the Circuit\n",
    "\n",
    "We synthesize the circuit using the Classiq synthesis engine. The synthesis takes several seconds:"
   ]
  },
  {
   "cell_type": "code",
   "execution_count": 6,
   "id": "6f5ea028-27b3-4653-9430-4120ff432998",
   "metadata": {
    "tags": []
   },
   "outputs": [],
   "source": [
    "qprog = synthesize(qmod)"
   ]
  },
  {
   "cell_type": "markdown",
   "id": "ce6b4557-33f6-48b9-9f15-e97a09c03614",
   "metadata": {
    "pycharm": {
     "name": "#%% md\n"
    },
    "tags": []
   },
   "source": [
    "### Showing the Resulting Circuit\n",
    "\n",
    "After the Classiq synthesis engine finishes the job, we display the resulting circuit in the interactive GUI:"
   ]
  },
  {
   "cell_type": "code",
   "execution_count": 7,
   "id": "6a3c1723-4374-451a-8336-32bcf533b046",
   "metadata": {
    "tags": []
   },
   "outputs": [
    {
     "name": "stdout",
     "output_type": "stream",
     "text": [
      "Opening: https://platform.classiq.io/circuit/2vU3ZP6X3gRYkcfa4BSMs3HSNvY?login=True&version=0.74.0\n"
     ]
    }
   ],
   "source": [
    "show(qprog)"
   ]
  },
  {
   "cell_type": "code",
   "execution_count": 8,
   "id": "1476725c-6063-4027-aa86-2831f647eda3",
   "metadata": {
    "pycharm": {
     "name": "#%%\n"
    }
   },
   "outputs": [
    {
     "name": "stdout",
     "output_type": "stream",
     "text": [
      "2390\n"
     ]
    }
   ],
   "source": [
    "circuit = QuantumProgram.from_qprog(qprog)\n",
    "\n",
    "print(circuit.transpiled_circuit.depth)"
   ]
  },
  {
   "cell_type": "markdown",
   "id": "fddd0a9b-fd4e-4d35-bc0a-aaf381305a9f",
   "metadata": {
    "pycharm": {
     "name": "#%% md\n"
    }
   },
   "source": [
    "### Executing on a Simulator to Find a Valid Solution\n",
    "Lastly, we run the resulting circuit on the Classiq execute interface using the `execute` function."
   ]
  },
  {
   "cell_type": "code",
   "execution_count": 9,
   "id": "6cb370d3-f302-4256-a086-4881adc16f83",
   "metadata": {
    "pycharm": {
     "name": "#%%\n"
    },
    "tags": []
   },
   "outputs": [],
   "source": [
    "optimization_result = execute(qprog).result_value()"
   ]
  },
  {
   "cell_type": "markdown",
   "id": "ccd981e5-078a-4259-91e5-798b60f79077",
   "metadata": {
    "pycharm": {
     "name": "#%% md\n"
    }
   },
   "source": [
    "Upon printing the result, we see that our execution of Grover's algorithm successfully found the satisfying assignments for the input formula:"
   ]
  },
  {
   "cell_type": "code",
   "execution_count": 10,
   "id": "57289675-1091-4a4f-bafb-b3c42dc6fde7",
   "metadata": {
    "tags": []
   },
   "outputs": [
    {
     "data": {
      "text/plain": [
       "[{'nodes': [0, 1, 1, 0, 0]}: 163,\n",
       " {'nodes': [1, 0, 0, 0, 1]}: 160,\n",
       " {'nodes': [1, 0, 0, 1, 1]}: 157,\n",
       " {'nodes': [0, 0, 1, 1, 0]}: 154,\n",
       " {'nodes': [0, 1, 0, 0, 1]}: 152,\n",
       " {'nodes': [1, 1, 0, 0, 1]}: 147,\n",
       " {'nodes': [0, 1, 1, 1, 0]}: 146,\n",
       " {'nodes': [0, 1, 1, 0, 1]}: 136,\n",
       " {'nodes': [1, 0, 0, 1, 0]}: 134,\n",
       " {'nodes': [1, 0, 1, 1, 0]}: 126,\n",
       " {'nodes': [1, 1, 1, 0, 1]}: 36,\n",
       " {'nodes': [1, 0, 0, 0, 0]}: 35,\n",
       " {'nodes': [0, 0, 0, 0, 1]}: 34,\n",
       " {'nodes': [1, 0, 1, 0, 1]}: 32,\n",
       " {'nodes': [0, 1, 0, 1, 1]}: 31,\n",
       " {'nodes': [0, 0, 1, 0, 1]}: 30,\n",
       " {'nodes': [0, 0, 0, 1, 0]}: 29,\n",
       " {'nodes': [1, 1, 1, 1, 0]}: 28,\n",
       " {'nodes': [1, 1, 1, 0, 0]}: 28,\n",
       " {'nodes': [0, 0, 0, 0, 0]}: 27,\n",
       " {'nodes': [1, 1, 0, 0, 0]}: 26,\n",
       " {'nodes': [1, 0, 1, 0, 0]}: 24,\n",
       " {'nodes': [0, 1, 0, 0, 0]}: 24,\n",
       " {'nodes': [0, 0, 1, 0, 0]}: 24,\n",
       " {'nodes': [0, 0, 0, 1, 1]}: 23,\n",
       " {'nodes': [0, 1, 0, 1, 0]}: 23,\n",
       " {'nodes': [0, 1, 1, 1, 1]}: 21,\n",
       " {'nodes': [1, 1, 1, 1, 1]}: 21,\n",
       " {'nodes': [1, 1, 0, 1, 0]}: 21,\n",
       " {'nodes': [1, 1, 0, 1, 1]}: 20,\n",
       " {'nodes': [1, 0, 1, 1, 1]}: 19,\n",
       " {'nodes': [0, 0, 1, 1, 1]}: 17]"
      ]
     },
     "execution_count": 10,
     "metadata": {},
     "output_type": "execute_result"
    }
   ],
   "source": [
    "optimization_result.parsed_counts"
   ]
  },
  {
   "cell_type": "markdown",
   "id": "66b05fd2-25ef-403b-b40b-45a2358acf52",
   "metadata": {},
   "source": [
    "The satisfying assignments are ~6 times more probable than the unsatisfying assignments. We print one:"
   ]
  },
  {
   "cell_type": "code",
   "execution_count": 11,
   "id": "7d0d9948-c3fe-4d7b-85bb-2a1b1de7a953",
   "metadata": {
    "tags": []
   },
   "outputs": [],
   "source": [
    "most_probable_result = optimization_result.parsed_counts[0]"
   ]
  },
  {
   "cell_type": "code",
   "execution_count": 12,
   "id": "a3a3995d-b677-476b-8bae-7c56b8cb7c4d",
   "metadata": {
    "tags": []
   },
   "outputs": [
    {
     "data": {
      "image/png": "[encoded data removed]",
      "text/plain": [
       "<Figure size 640x480 with 1 Axes>"
      ]
     },
     "metadata": {},
     "output_type": "display_data"
    }
   ],
   "source": [
    "result_parsed = most_probable_result.state[\"nodes\"]\n",
    "edge_widths = [\n",
    "    is_cross_cut_edge(\n",
    "        int(result_parsed[i]),\n",
    "        int(result_parsed[j]),\n",
    "    )\n",
    "    + 0.5\n",
    "    for i, j in G.edges\n",
    "]\n",
    "node_colors = [int(c) for c in result_parsed]\n",
    "nx.draw_networkx(\n",
    "    G,\n",
    "    pos=pos,\n",
    "    with_labels=True,\n",
    "    alpha=0.8,\n",
    "    node_size=500,\n",
    "    node_color=node_colors,\n",
    "    width=edge_widths,\n",
    "    cmap=plt.cm.rainbow,\n",
    ")"
   ]
  },
  {
   "cell_type": "markdown",
   "id": "4caea675-4b05-4d45-ac0a-d17d1cff7a64",
   "metadata": {
    "pycharm": {
     "name": "#%% md\n"
    },
    "tags": []
   },
   "source": [
    "\n",
    "## References\n",
    "\n",
    "<a id='MaxCutWiki'>[1]</a>: [Maximum Cut Problem (Wikipedia)](https://en.wikipedia.org/wiki/Maximum_cut)\n"
   ]
  }
 ],
 "metadata": {
  "kernelspec": {
   "display_name": "Python 3 (ipykernel)",
   "language": "python",
   "name": "python3"
  },
  "language_info": {
   "codemirror_mode": {
    "name": "ipython",
    "version": 3
   },
   "file_extension": ".py",
   "mimetype": "text/x-python",
   "name": "python",
   "nbconvert_exporter": "python",
   "pygments_lexer": "ipython3",
   "version": "3.11.9"
  },
  "vscode": {
   "interpreter": {
    "hash": "a07aacdcc8a415e7643a2bc993226848ff70704ebef014f87460de9126b773d0"
   }
  }
 },
 "nbformat": 4,
 "nbformat_minor": 5
}
