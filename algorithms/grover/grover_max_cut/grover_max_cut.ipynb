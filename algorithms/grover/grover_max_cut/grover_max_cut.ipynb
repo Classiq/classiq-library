{
 "cells": [
  {
   "cell_type": "markdown",
   "id": "6a6a7ea3-e27b-43f3-a53c-9c8a4eb9ec7a",
   "metadata": {},
   "source": [
    "# Graph Cut Search Problem with Grover Oracle"
   ]
  },
  {
   "cell_type": "markdown",
   "id": "5193de81-389e-4a87-89dc-1acb2f2630e0",
   "metadata": {},
   "source": [
    "The \"Maximum Cut Problem\" (MaxCut) [[1](#MaxCutWiki)] is an example of a combinatorial optimization problem. It refers to finding a partition of a graph into two sets, such that the number of edges between the two sets is the maximum.\n",
    "\n",
    "## Mathematical Formulation\n",
    "\n",
    "Given a graph $G=(V,E)$ with $|V|=n$ nodes and $E$ edges, a cut is defined as a partition of the graph into two complementary subsets of nodes. In the MaxCut problem we look for a cut where the number of edges between the two subsets is the maximum. We can represent a cut of the graph by a binary vector $x$ of size $n$, assigning 0 and 1 to nodes in the first and second subsets, respectively. The number of connecting edges for a given cut is simply given by summing over $x_i (1-x_j)+x_j (1-x_i)$ for every pair of connected nodes $(i,j)$.\n",
    "\n",
    "## Solving with the Classiq Platform\n"
   ]
  },
  {
   "cell_type": "markdown",
   "id": "311c3a03-cd25-4453-94ff-8743b0ba0e55",
   "metadata": {},
   "source": [
    "In this tutorial we define a **search problem** instead: Given a graph and number of edges, we check if there is a cut in the graph larger than a certain size. We solve the problem using the Grover algorithm."
   ]
  },
  {
   "cell_type": "markdown",
   "id": "39d882bc-56e8-4680-8803-14b1dd05d115",
   "metadata": {},
   "source": [
    "### Defining a Specific Problem Input"
   ]
  },
  {
   "cell_type": "markdown",
   "id": "759ca95a-67b2-4a35-832a-34af10d9910d",
   "metadata": {},
   "source": [
    "We initiate a specific graph whose maximum cut is 5:"
   ]
  },
  {
   "cell_type": "code",
   "execution_count": 1,
   "id": "bf2306e8-25ee-47e8-8d15-a208342d84be",
   "metadata": {
    "pycharm": {
     "name": "#%%\n"
    },
    "tags": []
   },
   "outputs": [
    {
     "data": {
      "image/png": "[encoded data removed]",
      "text/plain": [
       "<Figure size 640x480 with 1 Axes>"
      ]
     },
     "metadata": {},
     "output_type": "display_data"
    }
   ],
   "source": [
    "import networkx as nx\n",
    "\n",
    "# Create graph\n",
    "G = nx.Graph()\n",
    "G.add_nodes_from([0, 1, 2, 3, 4])\n",
    "G.add_edges_from([(0, 1), (0, 2), (1, 2), (1, 3), (2, 4), (3, 4)])\n",
    "pos = nx.planar_layout(G)\n",
    "nx.draw_networkx(G, pos=pos, with_labels=True, alpha=0.8, node_size=500)"
   ]
  },
  {
   "cell_type": "markdown",
   "id": "87c640ad-f91c-4b2d-bdf9-28a329c8107a",
   "metadata": {},
   "source": [
    "## Creating a Quantum Circuit and Solving It Using the Classiq Platform"
   ]
  },
  {
   "cell_type": "markdown",
   "id": "4127c806-1a14-416b-bae8-07b951e662fe",
   "metadata": {},
   "source": [
    "We use the `grover_search` function for the quantum circuit. The oracle function is a `phase_oracle`, which applies a $(-1)$ phase to each state for which the inner function delivered to `phase_oracle` returns 1. The `cut_oracle` is the inner function in this case, calculating whether a given graph partition`s cut is larger than some constant.\n",
    "\n",
    "\n",
    "Here we look for a cut of size 4 to the graph:"
   ]
  },
  {
   "cell_type": "code",
   "execution_count": 2,
   "id": "5e1d3413-4a44-4382-830b-f1f22a924a1b",
   "metadata": {
    "pycharm": {
     "name": "#%%\n"
    },
    "tags": []
   },
   "outputs": [],
   "source": [
    "from classiq import *\n",
    "\n",
    "CUT_SIZE = 4\n",
    "\n",
    "\n",
    "# cut formulas\n",
    "def is_cross_cut_edge(x1: int, x2: int) -> int:\n",
    "    return x1 * (1 - x2) + x2 * (1 - x1)\n",
    "\n",
    "\n",
    "def cut(x):\n",
    "    return sum(is_cross_cut_edge(x[node1], x[node2]) for (node1, node2) in G.edges)\n",
    "\n",
    "\n",
    "# quantum functions\n",
    "@qfunc\n",
    "def cut_oracle(cut_size: CInt, nodes: Const[QArray], res: Permutable[QBit]):\n",
    "    res ^= cut(nodes) >= cut_size\n",
    "\n",
    "\n",
    "@qfunc\n",
    "def main(nodes: Output[QArray[QBit, len(G.nodes)]]):\n",
    "    allocate(nodes)\n",
    "    grover_search(\n",
    "        reps=3,\n",
    "        oracle=lambda vars: phase_oracle(\n",
    "            lambda vars, res: cut_oracle(CUT_SIZE, vars, res), vars\n",
    "        ),\n",
    "        packed_vars=nodes,\n",
    "    )"
   ]
  },
  {
   "cell_type": "markdown",
   "id": "bc9f2554-ea2d-4666-a2e5-2578c253e79d",
   "metadata": {
    "pycharm": {
     "name": "#%% md\n"
    }
   },
   "source": [
    "### Synthesizing the Circuit\n",
    "\n",
    "We synthesize the circuit using the Classiq synthesis engine. The synthesis takes several seconds:"
   ]
  },
  {
   "cell_type": "code",
   "execution_count": null,
   "id": "6f5ea028-27b3-4653-9430-4120ff432998",
   "metadata": {
    "tags": []
   },
   "outputs": [],
   "source": [
    "qmod = create_model(main, constraints=Constraints(max_width=22))\n",
    "write_qmod(qmod, \"grover_max_cut\")\n",
    "\n",
    "qprog = synthesize(qmod)"
   ]
  },
  {
   "cell_type": "markdown",
   "id": "ce6b4557-33f6-48b9-9f15-e97a09c03614",
   "metadata": {
    "pycharm": {
     "name": "#%% md\n"
    },
    "tags": []
   },
   "source": [
    "### Showing the Resulting Circuit\n",
    "\n",
    "After the Classiq synthesis engine finishes the job, we display the resulting circuit in the interactive GUI:"
   ]
  },
  {
   "cell_type": "code",
   "execution_count": 5,
   "id": "6a3c1723-4374-451a-8336-32bcf533b046",
   "metadata": {
    "tags": []
   },
   "outputs": [
    {
     "name": "stdout",
     "output_type": "stream",
     "text": [
      "Quantum program link: https://platform.classiq.io/circuit/2yd4FlAFkOqVH9TVKcHMVWPpDb1\n"
     ]
    }
   ],
   "source": [
    "show(qprog)"
   ]
  },
  {
   "cell_type": "code",
   "execution_count": 6,
   "id": "1476725c-6063-4027-aa86-2831f647eda3",
   "metadata": {
    "pycharm": {
     "name": "#%%\n"
    }
   },
   "outputs": [
    {
     "name": "stdout",
     "output_type": "stream",
     "text": [
      "2666\n"
     ]
    }
   ],
   "source": [
    "print(qprog.transpiled_circuit.depth)"
   ]
  },
  {
   "cell_type": "markdown",
   "id": "fddd0a9b-fd4e-4d35-bc0a-aaf381305a9f",
   "metadata": {
    "pycharm": {
     "name": "#%% md\n"
    }
   },
   "source": [
    "### Executing on a Simulator to Find a Valid Solution\n",
    "Lastly, we run the resulting circuit on the Classiq execute interface using the `execute` function."
   ]
  },
  {
   "cell_type": "code",
   "execution_count": 7,
   "id": "6cb370d3-f302-4256-a086-4881adc16f83",
   "metadata": {
    "pycharm": {
     "name": "#%%\n"
    },
    "tags": []
   },
   "outputs": [],
   "source": [
    "optimization_result = execute(qprog).result_value()"
   ]
  },
  {
   "cell_type": "markdown",
   "id": "ccd981e5-078a-4259-91e5-798b60f79077",
   "metadata": {
    "pycharm": {
     "name": "#%% md\n"
    }
   },
   "source": [
    "Upon printing the result, we see that our execution of Grover's algorithm successfully found the satisfying assignments for the input formula:"
   ]
  },
  {
   "cell_type": "code",
   "execution_count": 8,
   "id": "57289675-1091-4a4f-bafb-b3c42dc6fde7",
   "metadata": {
    "tags": []
   },
   "outputs": [
    {
     "data": {
      "text/plain": [
       "[{'nodes': [1, 0, 1, 1, 0]}: 170,\n",
       " {'nodes': [1, 0, 0, 0, 1]}: 162,\n",
       " {'nodes': [1, 0, 0, 1, 1]}: 161,\n",
       " {'nodes': [0, 0, 1, 1, 0]}: 156,\n",
       " {'nodes': [1, 0, 0, 1, 0]}: 152,\n",
       " {'nodes': [0, 1, 1, 0, 0]}: 151,\n",
       " {'nodes': [0, 1, 1, 1, 0]}: 149,\n",
       " {'nodes': [1, 1, 0, 0, 1]}: 146,\n",
       " {'nodes': [0, 1, 1, 0, 1]}: 136,\n",
       " {'nodes': [0, 1, 0, 0, 1]}: 133,\n",
       " {'nodes': [1, 0, 1, 0, 0]}: 33,\n",
       " {'nodes': [0, 0, 0, 0, 1]}: 31,\n",
       " {'nodes': [0, 0, 0, 0, 0]}: 28,\n",
       " {'nodes': [1, 1, 0, 1, 0]}: 28,\n",
       " {'nodes': [0, 1, 0, 0, 0]}: 27,\n",
       " {'nodes': [1, 1, 1, 0, 1]}: 27,\n",
       " {'nodes': [0, 1, 1, 1, 1]}: 26,\n",
       " {'nodes': [0, 0, 1, 0, 0]}: 25,\n",
       " {'nodes': [0, 1, 0, 1, 0]}: 25,\n",
       " {'nodes': [1, 1, 1, 1, 0]}: 25,\n",
       " {'nodes': [0, 1, 0, 1, 1]}: 24,\n",
       " {'nodes': [1, 0, 1, 1, 1]}: 24,\n",
       " {'nodes': [0, 0, 1, 1, 1]}: 24,\n",
       " {'nodes': [0, 0, 0, 1, 0]}: 23,\n",
       " {'nodes': [1, 1, 0, 1, 1]}: 23,\n",
       " {'nodes': [0, 0, 0, 1, 1]}: 22,\n",
       " {'nodes': [1, 1, 0, 0, 0]}: 21,\n",
       " {'nodes': [1, 1, 1, 0, 0]}: 20,\n",
       " {'nodes': [1, 0, 0, 0, 0]}: 20,\n",
       " {'nodes': [1, 1, 1, 1, 1]}: 19,\n",
       " {'nodes': [0, 0, 1, 0, 1]}: 19,\n",
       " {'nodes': [1, 0, 1, 0, 1]}: 18]"
      ]
     },
     "execution_count": 8,
     "metadata": {},
     "output_type": "execute_result"
    }
   ],
   "source": [
    "optimization_result.parsed_counts"
   ]
  },
  {
   "cell_type": "markdown",
   "id": "66b05fd2-25ef-403b-b40b-45a2358acf52",
   "metadata": {},
   "source": [
    "The satisfying assignments are ~6 times more probable than the unsatisfying assignments. We print one:"
   ]
  },
  {
   "cell_type": "code",
   "execution_count": 9,
   "id": "7d0d9948-c3fe-4d7b-85bb-2a1b1de7a953",
   "metadata": {
    "tags": []
   },
   "outputs": [],
   "source": [
    "most_probable_result = optimization_result.parsed_counts[0]"
   ]
  },
  {
   "cell_type": "code",
   "execution_count": 11,
   "id": "a3a3995d-b677-476b-8bae-7c56b8cb7c4d",
   "metadata": {
    "tags": []
   },
   "outputs": [
    {
     "data": {
      "image/png": "[encoded data removed]",
      "text/plain": [
       "<Figure size 640x480 with 1 Axes>"
      ]
     },
     "metadata": {},
     "output_type": "display_data"
    }
   ],
   "source": [
    "import matplotlib.pyplot as plt\n",
    "\n",
    "result_parsed = most_probable_result.state[\"nodes\"]\n",
    "edge_widths = [\n",
    "    is_cross_cut_edge(\n",
    "        int(result_parsed[i]),\n",
    "        int(result_parsed[j]),\n",
    "    )\n",
    "    + 0.5\n",
    "    for i, j in G.edges\n",
    "]\n",
    "node_colors = [int(c) for c in result_parsed]\n",
    "nx.draw_networkx(\n",
    "    G,\n",
    "    pos=pos,\n",
    "    with_labels=True,\n",
    "    alpha=0.8,\n",
    "    node_size=500,\n",
    "    node_color=node_colors,\n",
    "    width=edge_widths,\n",
    "    cmap=plt.cm.rainbow,\n",
    ")"
   ]
  },
  {
   "cell_type": "markdown",
   "id": "4caea675-4b05-4d45-ac0a-d17d1cff7a64",
   "metadata": {
    "pycharm": {
     "name": "#%% md\n"
    },
    "tags": []
   },
   "source": [
    "\n",
    "## References\n",
    "\n",
    "<a id='MaxCutWiki'>[1]</a>: [Maximum Cut Problem (Wikipedia)](https://en.wikipedia.org/wiki/Maximum_cut)\n"
   ]
  }
 ],
 "metadata": {
  "kernelspec": {
   "display_name": "Python 3 (ipykernel)",
   "language": "python",
   "name": "python3"
  },
  "language_info": {
   "codemirror_mode": {
    "name": "ipython",
    "version": 3
   },
   "file_extension": ".py",
   "mimetype": "text/x-python",
   "name": "python",
   "nbconvert_exporter": "python",
   "pygments_lexer": "ipython3",
   "version": "3.11.4"
  },
  "vscode": {
   "interpreter": {
    "hash": "06273a122c42fd15929f0386098ca14cf9f8c71b9613ea759dc91b2f69170a12"
   }
  }
 },
 "nbformat": 4,
 "nbformat_minor": 5
}
