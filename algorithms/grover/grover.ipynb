{
 "cells": [
  {
   "cell_type": "markdown",
   "id": "a059ad99-e247-4ec5-bc2e-31235b3cb161",
   "metadata": {},
   "source": [
    "# Grover's Search Algorithm"
   ]
  },
  {
   "cell_type": "markdown",
   "id": "08126297-fcea-496b-96b0-77031bdb7715",
   "metadata": {},
   "source": [
    "<blockquote style=\"background:rgba(59,130,246,.08);border-left:6px solid #3b82f6;padding:1rem 1.25rem;margin:.5rem 0;\">\n",
    "<strong>Grover’s search algorithm</strong>, introduced by Lov Grover in 1996   <span id=\"cite-Gro96\"></span>\n",
    "  [<a href=\"#ref-Gro96\">1</a>], is one of the canonical quantum algorithms. It provides a quadratic speedup for searching an unstructured database, and is often considered alongside Shor’s algorithm as a cornerstone of quantum computing.\n",
    "  <br>\n",
    "  <ul>\n",
    "    <li> <strong> Input: </strong> A Boolean function (oracle) $f: \\{0,1\\}^n \\rightarrow \\{0,1\\}$ marking \"solutions\" among $N=2^n$ possible items.\n",
    "    <li> <strong> Promise: </strong> At least one marked element exists in the search space.\n",
    "    <li> <strong> Output: </strong> With high probability, the algorithm outputs a marked element $x$ (i.e., $f(x)=1$).\n",
    "  </ul>\n",
    "    <br>\n",
    "    <strong> Complexity:</strong> The algorithm requires $O(\\sqrt{N})$ oracle queries for obtaining the result, where the query complexity for Classical Search is $O(N)$. \n",
    "    <hr>\n",
    "    <strong> Keywords:</strong> Search and optimization, Unstructured search, Quadratic speedup, Amplitude amplification, Graph problems, SAT problems, Oracle/Query complexity. \n",
    "</blockquote>\n",
    "<hr>\n"
   ]
  },
  {
   "cell_type": "markdown",
   "id": "e4b26f24-902b-4469-af5c-d2f058e23107",
   "metadata": {},
   "source": [
    "Grover's Search algorithm starts with preparing the search space $|s\\rangle$, and then repeats over a combination of two reflection operations:\n",
    "$$\n",
    "U_f|x\\rangle = (-1)^{f(x)}|x\\rangle \\qquad \\text{usually called an \"Oracle\", adds a minus phase to marked states, and}\n",
    "$$\n",
    "$$\n",
    "U_s = 2|s\\rangle\\langle s|-1 \\qquad \\text{usually called a \"Diffuser\", reflects around the full search space.}\n",
    "$$\n",
    "The number of times we need to repeat the combination of these two reflections (sometimes called a \"Grover Operator\") depends on the number of solutions: for $k$ solutions in a search space of size $N$, we shall perform $r\\sim \\pi \\sqrt{N/k}$ iterations. In practice, however, the number of solutions is often unknown. In that case, one can perform a [quantum counting algorithm](https://github.com/Classiq/classiq-library/blob/main/algorithms/amplitude_estimation/quantum_counting/quantum_counting.ipynb) prior to the search, or run the search algorithm repeatedly, with an increasing number of repetitions $r_i\\sim \\frac{\\pi}{4} \\sqrt{2^i}$  for $i=0,1,\\dots$. Both approaches do not affect the complexity of the search algorithm. In this notebook we take the second approach.\n",
    "\n",
    "For a given problem, Grover's algorithm depends on  two functions, one for preparing the search space and another for applying the oracle, as well as on the number of repetitions. Below we address two canonical search problems, a 3-SAT problem and a Max-Cut problem on a graph. The search algorithm has applications in various fields, such as [cybersecurity](https://github.com/Classiq/classiq-library/blob/main/applications/cybersecurity/whitebox_fuzzing/whitebox_fuzzing.ipynb). In this notebook we work with the `grover_operator` function, and define a classical postprocess function for iterating over different $r$ values and obtianing the marked states.\n",
    "\n",
    "*Working with the `phase_oracle` from Classiq library function and the Qmod language for defining problems with high-level description, avoids dealing with implementation details, as typically encountered when using other platforms*."
   ]
  },
  {
   "cell_type": "markdown",
   "id": "01c827e3-63d3-400e-a5ad-59b342a973ca",
   "metadata": {},
   "source": [
    "## Classical postprocess function\n",
    "\n",
    "Below we define a function the runs a quantum program of the Grover's search algorithm, for an increasing number of repetitions, until a marked state is found."
   ]
  },
  {
   "cell_type": "code",
   "execution_count": 1,
   "id": "e681f1fc-8cf8-4312-a2b9-d086ff84fbc9",
   "metadata": {},
   "outputs": [],
   "source": [
    "import numpy as np\n",
    "\n",
    "from classiq import *\n",
    "\n",
    "\n",
    "def repeat_grover_until_success(\n",
    "    grover_search_qprog, classical_formula, num_shots=1000, threshold=0.45, max_iter=4\n",
    "):\n",
    "    \"\"\"\n",
    "    Runs a grover_search_qprog with different powers, given by a CInt parameter `r`.\n",
    "    \"\"\"\n",
    "    i = 0\n",
    "    r_previous = None\n",
    "    with ExecutionSession(\n",
    "        grover_search_qprog, ExecutionPreferences(num_shots=num_shots)\n",
    "    ) as es:\n",
    "        while i < max_iter:\n",
    "            r = int(np.ceil(np.pi / 4 * np.sqrt(2**i)))\n",
    "            if r == r_previous:\n",
    "                # skip duplicate r\n",
    "                i += 1\n",
    "                continue\n",
    "\n",
    "            print(f\"running Grover with {r} repetitions\")\n",
    "            res = es.sample({\"r\": r})\n",
    "\n",
    "            for sample in res.parsed_counts:\n",
    "                if (\n",
    "                    classical_formula(**sample.state)\n",
    "                    and sample.shots / num_shots > threshold\n",
    "                ):\n",
    "                    print(\n",
    "                        f\"Success! a solution was found with probability larger than {threshold}, using {r} repetitions\"\n",
    "                    )\n",
    "                    return res, r\n",
    "\n",
    "            r_previous = r\n",
    "            i += 1\n",
    "    print(\n",
    "        f\"Could not find a solution, try to in increase max_iter or decrease the threshold, returning last run.\"\n",
    "    )\n",
    "    return res, r"
   ]
  },
  {
   "cell_type": "markdown",
   "id": "808f70ee-ee90-4e73-8de0-b816c062fc2b",
   "metadata": {},
   "source": [
    "## 3-SAT problem"
   ]
  },
  {
   "cell_type": "markdown",
   "id": "db29ba85",
   "metadata": {
    "pycharm": {
     "name": "#%% md\n"
    },
    "tags": []
   },
   "source": [
    "The 3-SAT problem <span id=\"cite-3SAT\"></span> [<a href=\"#ref-3SAT\">2</a>] is a famous $\\text{NP-Complete}$ problem, a solution of which allows solving any problem in the complexity class $\\text{NP}$. We treat two different 3-SAT problems, a small one and a larger one.\n",
    "\n",
    "For illustration, we define a function for printing the truth table of SAT problems."
   ]
  },
  {
   "cell_type": "code",
   "execution_count": 2,
   "id": "5770186a-b47f-4aa4-bfd1-ac7dbfc21aa1",
   "metadata": {},
   "outputs": [],
   "source": [
    "import itertools\n",
    "\n",
    "\n",
    "def print_truth_table(num_variables, boolean_func):\n",
    "    variables = [f\"x{i}\" for i in range(num_variables)]\n",
    "    combinations = list(itertools.product([0, 1], repeat=num_variables))\n",
    "\n",
    "    header = \"  \".join([f\"{var:<5}\" for var in variables]) + \" | Result\"\n",
    "    print(header)\n",
    "    print(\"-\" * len(header))\n",
    "\n",
    "    for combination in combinations:\n",
    "        result = boolean_func(list(combination))  # pass as array\n",
    "        values_str = \"  \".join([f\"{val:<5}\" for val in combination])\n",
    "        print(f\"{values_str} | {result:<5}\")"
   ]
  },
  {
   "cell_type": "markdown",
   "id": "faea3397-a1a0-4bbf-be10-437452b42222",
   "metadata": {},
   "source": [
    "We start with a small problem:"
   ]
  },
  {
   "cell_type": "markdown",
   "id": "2b14dbae",
   "metadata": {
    "pycharm": {
     "name": "#%% md\n"
    }
   },
   "source": [
    "### Small 3-SAT formula\n",
    "\n",
    "We specify a 3-SAT formula in the so-called Conjunctive Normal Form (CNF), that requires a solution:\n",
    "$$ (x_1 \\lor x_2 \\lor x_3) \\land (\\neg x_1 \\lor x_2 \\lor x_3) \\land (\\neg x_1 \\lor \\neg x_2 \\lor \\neg x_3) \\land (\\neg x_1 \\lor \\neg x_2 \\lor x_3) \\land (x_1 \\lor x_2 \\lor \\neg x_3) \\land (\\neg x_1 \\lor x_2 \\lor \\neg x_3) $$"
   ]
  },
  {
   "cell_type": "code",
   "execution_count": 3,
   "id": "dda1a10d-406f-45f2-9431-13df855375de",
   "metadata": {
    "pycharm": {
     "name": "#%%\n"
    }
   },
   "outputs": [],
   "source": [
    "NUM_VARIABLES = 3\n",
    "\n",
    "\n",
    "def _not(y):\n",
    "    return y ^ 1\n",
    "\n",
    "\n",
    "def small_3sat_formula(x):\n",
    "    return (\n",
    "        ((x[0]) | (x[1]) | (x[2]))\n",
    "        & ((_not(x[0])) | (x[1]) | (x[2]))\n",
    "        & ((_not(x[0])) | (_not(x[1])) | (_not(x[2])))\n",
    "        & ((_not(x[0])) | (_not(x[1])) | (x[2]))\n",
    "        & ((x[0]) | (x[1]) | (_not(x[2])))\n",
    "        & ((_not(x[0])) | (x[1]) | (_not(x[2])))\n",
    "    )"
   ]
  },
  {
   "cell_type": "markdown",
   "id": "3832b859-65b3-4e94-8e76-cf302eea08ea",
   "metadata": {},
   "source": [
    "We can see that the formula has two possible solutions:"
   ]
  },
  {
   "cell_type": "code",
   "execution_count": 4,
   "id": "aa5b8a6e-38ea-468f-bf99-371875f003dc",
   "metadata": {},
   "outputs": [
    {
     "name": "stdout",
     "output_type": "stream",
     "text": [
      "x0     x1     x2    | Result\n",
      "----------------------------\n",
      "0      0      0     | 0    \n",
      "0      0      1     | 0    \n",
      "0      1      0     | 1    \n",
      "0      1      1     | 1    \n",
      "1      0      0     | 0    \n",
      "1      0      1     | 0    \n",
      "1      1      0     | 0    \n",
      "1      1      1     | 0    \n"
     ]
    }
   ],
   "source": [
    "print_truth_table(NUM_VARIABLES, small_3sat_formula)"
   ]
  },
  {
   "cell_type": "markdown",
   "id": "54616eaa",
   "metadata": {
    "pycharm": {
     "name": "#%% md\n"
    }
   },
   "source": [
    "We define the Grover search model for finding the solution. To specify the model, we use the standard `phase_oracle` that transforms 'digital' oracle; i.e., $|x\\rangle|0\\rangle \\rightarrow |x\\rangle|f(x)\\rangle$ to a phase oracle $|x\\rangle \\rightarrow (-1)^{f(x)}|x\\rangle$. The predicate that we pass to the phase oracle is simply given by the 3-CNF formula defined above."
   ]
  },
  {
   "cell_type": "code",
   "execution_count": 5,
   "id": "4848a14b-956c-4e2b-ad2e-c52e12d0b915",
   "metadata": {
    "pycharm": {
     "name": "#%%\n"
    }
   },
   "outputs": [],
   "source": [
    "@qfunc\n",
    "def sat_oracle(x: Const[QArray], res: Permutable[QBit]):\n",
    "    res ^= small_3sat_formula(x)\n",
    "\n",
    "\n",
    "@qfunc\n",
    "def main(r: CInt, x: Output[QArray[NUM_VARIABLES]]):\n",
    "    allocate(x)\n",
    "    hadamard_transform(x)\n",
    "\n",
    "    power(\n",
    "        r,\n",
    "        lambda: grover_operator(\n",
    "            lambda vars: phase_oracle(sat_oracle, vars), hadamard_transform, x\n",
    "        ),\n",
    "    )\n",
    "\n",
    "\n",
    "qprog_small_3sat = synthesize(main, constraints=Constraints(max_width=20))\n",
    "write_qmod(main, \"3_sat_grover_small\")"
   ]
  },
  {
   "cell_type": "code",
   "execution_count": 6,
   "id": "fd3eb709-e7ef-4d46-8f7a-e42c34ee9381",
   "metadata": {
    "tags": []
   },
   "outputs": [
    {
     "name": "stdout",
     "output_type": "stream",
     "text": [
      "Quantum program link: https://platform.classiq.io/circuit/32MkfBVaGRQT6answFpAuBARKPz\n"
     ]
    }
   ],
   "source": [
    "show(qprog_small_3sat)"
   ]
  },
  {
   "cell_type": "markdown",
   "id": "27034dab-cf8f-4744-b6bd-7b5ff03c19d9",
   "metadata": {},
   "source": [
    "We execute our repeat until success function:"
   ]
  },
  {
   "cell_type": "code",
   "execution_count": 7,
   "id": "37e739f8-d4eb-402c-9bb6-c5bd48629cb7",
   "metadata": {},
   "outputs": [
    {
     "name": "stdout",
     "output_type": "stream",
     "text": [
      "running Grover with 1 repetitions\n",
      "Success! a solution was found with probability larger than 0.45, using 1 repetitions\n"
     ]
    }
   ],
   "source": [
    "res, r = repeat_grover_until_success(qprog_small_3sat, small_3sat_formula)"
   ]
  },
  {
   "cell_type": "markdown",
   "id": "7dc17a2c-2404-4333-a0e3-7fb61fc4bf71",
   "metadata": {},
   "source": [
    "We can see that a single iteration was needed to find solutions with high probability:"
   ]
  },
  {
   "cell_type": "code",
   "execution_count": 8,
   "id": "69129d40-458b-4c24-91e0-2e62f2bf21dc",
   "metadata": {},
   "outputs": [
    {
     "name": "stdout",
     "output_type": "stream",
     "text": [
      "The quantum search result:\n"
     ]
    },
    {
     "data": {
      "text/html": [
       "<div>\n",
       "<style scoped>\n",
       "    .dataframe tbody tr th:only-of-type {\n",
       "        vertical-align: middle;\n",
       "    }\n",
       "\n",
       "    .dataframe tbody tr th {\n",
       "        vertical-align: top;\n",
       "    }\n",
       "\n",
       "    .dataframe thead th {\n",
       "        text-align: right;\n",
       "    }\n",
       "</style>\n",
       "<table border=\"1\" class=\"dataframe\">\n",
       "  <thead>\n",
       "    <tr style=\"text-align: right;\">\n",
       "      <th></th>\n",
       "      <th>x</th>\n",
       "      <th>count</th>\n",
       "      <th>probability</th>\n",
       "      <th>bitstring</th>\n",
       "      <th>f(x)</th>\n",
       "    </tr>\n",
       "  </thead>\n",
       "  <tbody>\n",
       "    <tr>\n",
       "      <th>0</th>\n",
       "      <td>[0, 1, 1]</td>\n",
       "      <td>507</td>\n",
       "      <td>0.507</td>\n",
       "      <td>110</td>\n",
       "      <td>1</td>\n",
       "    </tr>\n",
       "    <tr>\n",
       "      <th>1</th>\n",
       "      <td>[0, 1, 0]</td>\n",
       "      <td>493</td>\n",
       "      <td>0.493</td>\n",
       "      <td>010</td>\n",
       "      <td>1</td>\n",
       "    </tr>\n",
       "  </tbody>\n",
       "</table>\n",
       "</div>"
      ],
      "text/plain": [
       "           x  count  probability bitstring  f(x)\n",
       "0  [0, 1, 1]    507        0.507       110     1\n",
       "1  [0, 1, 0]    493        0.493       010     1"
      ]
     },
     "execution_count": 8,
     "metadata": {},
     "output_type": "execute_result"
    }
   ],
   "source": [
    "n_solutions = 3\n",
    "df = res.dataframe\n",
    "df_new = df.head(n_solutions).copy()\n",
    "first_col = df.columns[0]\n",
    "df_new[\"f(x)\"] = df_new[first_col].apply(small_3sat_formula)\n",
    "print(\"The quantum search result:\")\n",
    "df_new"
   ]
  },
  {
   "cell_type": "markdown",
   "id": "d73514b2-03bb-4b05-9ee7-98a1e314e0da",
   "metadata": {},
   "source": [
    "### Large 3-SAT formula"
   ]
  },
  {
   "cell_type": "markdown",
   "id": "ece3be60-21d5-49a1-9c65-8081e4ecce2d",
   "metadata": {},
   "source": [
    "We continue with a larger example:"
   ]
  },
  {
   "cell_type": "code",
   "execution_count": 9,
   "id": "fc8df585-ac75-44c1-a60d-9cba0225eee7",
   "metadata": {},
   "outputs": [
    {
     "name": "stdout",
     "output_type": "stream",
     "text": [
      "x0     x1     x2     x3    | Result\n",
      "-----------------------------------\n",
      "0      0      0      0     | 0    \n",
      "0      0      0      1     | 1    \n",
      "0      0      1      0     | 0    \n",
      "0      0      1      1     | 1    \n",
      "0      1      0      0     | 0    \n",
      "0      1      0      1     | 0    \n",
      "0      1      1      0     | 0    \n",
      "0      1      1      1     | 0    \n",
      "1      0      0      0     | 0    \n",
      "1      0      0      1     | 0    \n",
      "1      0      1      0     | 0    \n",
      "1      0      1      1     | 0    \n",
      "1      1      0      0     | 0    \n",
      "1      1      0      1     | 0    \n",
      "1      1      1      0     | 0    \n",
      "1      1      1      1     | 0    \n"
     ]
    }
   ],
   "source": [
    "def large_3sat_formula(x):\n",
    "    return (\n",
    "        (x[1] | x[2] | x[3])\n",
    "        & (_not(x[0]) | x[1] | x[2])\n",
    "        & (_not(x[0]) | x[1] | _not(x[2]))\n",
    "        & (_not(x[0]) | _not(x[1]) | x[2])\n",
    "        & (x[0] | _not(x[1]) | _not(x[2]))\n",
    "        & (x[0] | _not(x[1]) | x[2])\n",
    "        & (_not(x[0]) | _not(x[1]) | _not(x[3]))\n",
    "        & (_not(x[0]) | _not(x[1]) | x[3])\n",
    "        & (_not(x[1]) | _not(x[2]) | _not(x[3]))\n",
    "        & (x[1] | _not(x[2]) | x[3])\n",
    "        & (x[0] | _not(x[2]) | x[3])\n",
    "        & (x[0] | _not(x[1]) | _not(x[3]))\n",
    "        & (_not(x[0]) | _not(x[1]) | _not(x[2]))\n",
    "    )\n",
    "\n",
    "\n",
    "NUM_VARIABLES_LARGE = 4\n",
    "print_truth_table(NUM_VARIABLES_LARGE, large_3sat_formula)"
   ]
  },
  {
   "cell_type": "markdown",
   "id": "83f6352d-8a04-4881-8917-0346bcf07e88",
   "metadata": {},
   "source": [
    "The procedure is identical to the small use-case, just changing `small_3sat_formula` to `large_3sat_formula`."
   ]
  },
  {
   "cell_type": "code",
   "execution_count": 10,
   "id": "7c50cd26-8a64-4ee9-97da-69951c791ee6",
   "metadata": {
    "pycharm": {
     "name": "#%%\n"
    }
   },
   "outputs": [
    {
     "name": "stdout",
     "output_type": "stream",
     "text": [
      "Quantum program link: https://platform.classiq.io/circuit/32MkiK1WZGnAiYybjWOEwh6BFao\n",
      "running Grover with 1 repetitions\n",
      "running Grover with 2 repetitions\n",
      "Success! a solution was found with probability larger than 0.45, using 2 repetitions\n"
     ]
    }
   ],
   "source": [
    "@qfunc\n",
    "def sat_oracle(x: Const[QArray], res: Permutable[QBit]):\n",
    "    res ^= large_3sat_formula(x)\n",
    "\n",
    "\n",
    "@qfunc\n",
    "def main(r: CInt, x: Output[QArray[NUM_VARIABLES_LARGE]]):\n",
    "    allocate(x)\n",
    "    hadamard_transform(x)\n",
    "\n",
    "    power(\n",
    "        r,\n",
    "        lambda: grover_operator(\n",
    "            lambda vars: phase_oracle(sat_oracle, vars), hadamard_transform, x\n",
    "        ),\n",
    "    )\n",
    "\n",
    "\n",
    "qprog_large_3sat = synthesize(main, constraints=Constraints(max_width=24))\n",
    "write_qmod(main, \"3_sat_grover_large\")\n",
    "show(qprog_large_3sat)\n",
    "res, r = repeat_grover_until_success(qprog_large_3sat, large_3sat_formula)"
   ]
  },
  {
   "cell_type": "markdown",
   "id": "b5a3e524-870d-430b-ad04-30518f0bf583",
   "metadata": {},
   "source": [
    "We can print the five most probable solutions:"
   ]
  },
  {
   "cell_type": "code",
   "execution_count": 11,
   "id": "9de0ee11-397e-4bc0-a459-d6bd804e0611",
   "metadata": {},
   "outputs": [
    {
     "data": {
      "text/html": [
       "<div>\n",
       "<style scoped>\n",
       "    .dataframe tbody tr th:only-of-type {\n",
       "        vertical-align: middle;\n",
       "    }\n",
       "\n",
       "    .dataframe tbody tr th {\n",
       "        vertical-align: top;\n",
       "    }\n",
       "\n",
       "    .dataframe thead th {\n",
       "        text-align: right;\n",
       "    }\n",
       "</style>\n",
       "<table border=\"1\" class=\"dataframe\">\n",
       "  <thead>\n",
       "    <tr style=\"text-align: right;\">\n",
       "      <th></th>\n",
       "      <th>x</th>\n",
       "      <th>count</th>\n",
       "      <th>probability</th>\n",
       "      <th>bitstring</th>\n",
       "      <th>f(x)</th>\n",
       "    </tr>\n",
       "  </thead>\n",
       "  <tbody>\n",
       "    <tr>\n",
       "      <th>0</th>\n",
       "      <td>[0, 0, 1, 1]</td>\n",
       "      <td>494</td>\n",
       "      <td>0.494</td>\n",
       "      <td>1100</td>\n",
       "      <td>1</td>\n",
       "    </tr>\n",
       "    <tr>\n",
       "      <th>1</th>\n",
       "      <td>[0, 0, 0, 1]</td>\n",
       "      <td>462</td>\n",
       "      <td>0.462</td>\n",
       "      <td>1000</td>\n",
       "      <td>1</td>\n",
       "    </tr>\n",
       "    <tr>\n",
       "      <th>2</th>\n",
       "      <td>[1, 0, 1, 0]</td>\n",
       "      <td>9</td>\n",
       "      <td>0.009</td>\n",
       "      <td>0101</td>\n",
       "      <td>0</td>\n",
       "    </tr>\n",
       "    <tr>\n",
       "      <th>3</th>\n",
       "      <td>[1, 1, 1, 0]</td>\n",
       "      <td>5</td>\n",
       "      <td>0.005</td>\n",
       "      <td>0111</td>\n",
       "      <td>0</td>\n",
       "    </tr>\n",
       "    <tr>\n",
       "      <th>4</th>\n",
       "      <td>[1, 0, 1, 1]</td>\n",
       "      <td>5</td>\n",
       "      <td>0.005</td>\n",
       "      <td>1101</td>\n",
       "      <td>0</td>\n",
       "    </tr>\n",
       "  </tbody>\n",
       "</table>\n",
       "</div>"
      ],
      "text/plain": [
       "              x  count  probability bitstring  f(x)\n",
       "0  [0, 0, 1, 1]    494        0.494      1100     1\n",
       "1  [0, 0, 0, 1]    462        0.462      1000     1\n",
       "2  [1, 0, 1, 0]      9        0.009      0101     0\n",
       "3  [1, 1, 1, 0]      5        0.005      0111     0\n",
       "4  [1, 0, 1, 1]      5        0.005      1101     0"
      ]
     },
     "execution_count": 11,
     "metadata": {},
     "output_type": "execute_result"
    }
   ],
   "source": [
    "n_solutions = 5\n",
    "df = res.dataframe\n",
    "df_new = df.head(n_solutions).copy()\n",
    "first_col = df.columns[0]\n",
    "df_new[\"f(x)\"] = df_new[first_col].apply(large_3sat_formula)\n",
    "df_new"
   ]
  },
  {
   "cell_type": "markdown",
   "id": "f66d924a-9618-4f11-9d7e-7a551bb69a4d",
   "metadata": {},
   "source": [
    "We can see that the amplitude of the two \"marked\" solutions is amplified."
   ]
  },
  {
   "cell_type": "markdown",
   "id": "7a529271-12fe-4228-a5f1-6ea858c36ee0",
   "metadata": {},
   "source": [
    "## Graph Cut Search Problem"
   ]
  },
  {
   "cell_type": "markdown",
   "id": "6e86849a-0f3d-4c9e-8333-269401b2d690",
   "metadata": {},
   "source": [
    "The \"Maximum Cut Problem\" (MaxCut) <span id=\"cite-3SAT\"></span> [<a href=\"#ref-MaxCatWiki\">3</a>] is an example of a combinatorial optimization problem. It refers to finding a partition of a graph into two sets, such that the number of edges between the two sets is the maximum.\n",
    "The MaxCut problem is defined as follows:\n",
    "Given a graph $G=(V,E)$ with $|V|=n$ nodes and $E$ edges, a cut is defined as a partition of the graph into two complementary subsets of nodes. The gaol is to find a cut where the number of edges between the two subsets is the maximum. We can represent a cut, and the number of its connecting edges as follows:\n",
    "* $x\\in \\{0,1\\}^n$ is a binary vector of size $n$ that represents a cut: assigning 0 and 1 to nodes in the first and second subsets, respectively.\n",
    "* $C(x)=\\sum_{(i,j)}x_i (1-x_j)+x_j (1-x_i)$ gives the number of connecting edges for a given cut."
   ]
  },
  {
   "cell_type": "markdown",
   "id": "8c4b7817-fbe3-4534-b92d-1e5dc90e1599",
   "metadata": {},
   "source": [
    "The MaxCut problem cannot be cast directly into a Grover's search algorithm, as we task to find the maximum of a function, rather than some \"marked\" solutions. One approach is to apply Grover's algorithms for formulas of the form $C(x)\\geq T$, for some fixed value of $T$: We initialize a threshold\n",
    "$T$, then run Grover’s algorithm with an oracle that marks cuts with $C(x)\\geq T$ to amplify promising candidates. If a better cut is found, we update \n",
    "$T$ and repeat until no improvement is likely (or a preset budget is reached).\n",
    "\n",
    "In this notebook we show a solution for a single instance of this procedure, i.e., taking one example with some value for $T$."
   ]
  },
  {
   "cell_type": "markdown",
   "id": "9a2a82e5-cfda-4f18-8ea8-1b8e09c88f7b",
   "metadata": {},
   "source": [
    "We initiate a specific graph whose maximum cut is 5:"
   ]
  },
  {
   "cell_type": "code",
   "execution_count": 12,
   "id": "9fb77a6f-8e38-4d44-b64f-c86980126163",
   "metadata": {
    "pycharm": {
     "name": "#%%\n"
    },
    "tags": []
   },
   "outputs": [
    {
     "data": {
      "image/png": "[encoded data removed]",
      "text/plain": [
       "<Figure size 640x480 with 1 Axes>"
      ]
     },
     "metadata": {},
     "output_type": "display_data"
    }
   ],
   "source": [
    "import networkx as nx\n",
    "\n",
    "# Create graph\n",
    "G = nx.Graph()\n",
    "G.add_nodes_from([0, 1, 2, 3, 4])\n",
    "G.add_edges_from([(0, 1), (0, 2), (1, 2), (1, 3), (2, 4), (3, 4)])\n",
    "pos = nx.planar_layout(G)\n",
    "nx.draw_networkx(G, pos=pos, with_labels=True, alpha=0.8, node_size=500)"
   ]
  },
  {
   "cell_type": "markdown",
   "id": "4772ba08-3761-42d8-81d4-d69752b441f6",
   "metadata": {},
   "source": [
    "Constructing a Grover's search algorithm is done in similar to the 3-SAT examples, we only require to define a predicate formula. In this example we set the cut size (the value of $T$) to 4."
   ]
  },
  {
   "cell_type": "code",
   "execution_count": 13,
   "id": "5ece541a-b38d-4cbb-a7f6-44e8b29ea319",
   "metadata": {
    "pycharm": {
     "name": "#%%\n"
    },
    "tags": []
   },
   "outputs": [],
   "source": [
    "CUT_SIZE = 4\n",
    "\n",
    "\n",
    "# cut formulas\n",
    "def is_cross_cut_edge(x1: int, x2: int) -> int:\n",
    "    return x1 * (1 - x2) + x2 * (1 - x1)\n",
    "\n",
    "\n",
    "def cut(x):\n",
    "    return sum(is_cross_cut_edge(x[node1], x[node2]) for (node1, node2) in G.edges)\n",
    "\n",
    "\n",
    "def cut_predicate(cut_size, x):\n",
    "    return cut(x) >= cut_size"
   ]
  },
  {
   "cell_type": "code",
   "execution_count": 14,
   "id": "56e4979a-4970-4f51-a1c0-549264f166ab",
   "metadata": {
    "pycharm": {
     "name": "#%%\n"
    },
    "tags": []
   },
   "outputs": [
    {
     "name": "stdout",
     "output_type": "stream",
     "text": [
      "Quantum program link: https://platform.classiq.io/circuit/32MkkUAvmbTab7ZPIAJkVhl5MxJ\n"
     ]
    }
   ],
   "source": [
    "@qfunc\n",
    "def cut_oracle(cut_size: CInt, nodes: Const[QArray], res: Permutable[QBit]):\n",
    "    res ^= cut_predicate(cut_size, nodes)\n",
    "\n",
    "\n",
    "@qfunc\n",
    "def main(r: CInt, nodes: Output[QArray[len(G.nodes)]]):\n",
    "    allocate(nodes)\n",
    "    hadamard_transform(nodes)\n",
    "\n",
    "    power(\n",
    "        r,\n",
    "        lambda: grover_operator(\n",
    "            lambda vars: phase_oracle(\n",
    "                lambda vars, res: cut_oracle(CUT_SIZE, vars, res), vars\n",
    "            ),\n",
    "            hadamard_transform,\n",
    "            nodes,\n",
    "        ),\n",
    "    )\n",
    "\n",
    "\n",
    "qprog_max_cut = synthesize(main, constraints=Constraints(max_width=22))\n",
    "write_qmod(main, \"grover_max_cut\")\n",
    "show(qprog_max_cut)"
   ]
  },
  {
   "cell_type": "code",
   "execution_count": 15,
   "id": "3eab3204-b2c4-4370-a237-2568ccb8faf6",
   "metadata": {},
   "outputs": [
    {
     "name": "stdout",
     "output_type": "stream",
     "text": [
      "running Grover with 1 repetitions\n",
      "Success! a solution was found with probability larger than 0.1, using 1 repetitions\n"
     ]
    }
   ],
   "source": [
    "# In this example we reduce the threshold, since typically, more than one solution is expected\n",
    "res, r = repeat_grover_until_success(\n",
    "    qprog_max_cut, lambda nodes: cut_predicate(CUT_SIZE, nodes), threshold=0.1\n",
    ")"
   ]
  },
  {
   "cell_type": "markdown",
   "id": "31297eb1-8c18-4232-9cfb-96331b945e50",
   "metadata": {
    "pycharm": {
     "name": "#%% md\n"
    }
   },
   "source": [
    "Upon printing the result, we see that our execution of Grover's algorithm successfully found the satisfying assignments for the input formula:"
   ]
  },
  {
   "cell_type": "code",
   "execution_count": 16,
   "id": "59b56078-382b-4b0d-af90-5a221c2264ad",
   "metadata": {},
   "outputs": [
    {
     "data": {
      "text/html": [
       "<div>\n",
       "<style scoped>\n",
       "    .dataframe tbody tr th:only-of-type {\n",
       "        vertical-align: middle;\n",
       "    }\n",
       "\n",
       "    .dataframe tbody tr th {\n",
       "        vertical-align: top;\n",
       "    }\n",
       "\n",
       "    .dataframe thead th {\n",
       "        text-align: right;\n",
       "    }\n",
       "</style>\n",
       "<table border=\"1\" class=\"dataframe\">\n",
       "  <thead>\n",
       "    <tr style=\"text-align: right;\">\n",
       "      <th></th>\n",
       "      <th>nodes</th>\n",
       "      <th>count</th>\n",
       "      <th>probability</th>\n",
       "      <th>bitstring</th>\n",
       "      <th>f(x)</th>\n",
       "    </tr>\n",
       "  </thead>\n",
       "  <tbody>\n",
       "    <tr>\n",
       "      <th>0</th>\n",
       "      <td>[1, 1, 0, 0, 1]</td>\n",
       "      <td>109</td>\n",
       "      <td>0.109</td>\n",
       "      <td>10011</td>\n",
       "      <td>True</td>\n",
       "    </tr>\n",
       "    <tr>\n",
       "      <th>1</th>\n",
       "      <td>[1, 0, 1, 1, 0]</td>\n",
       "      <td>105</td>\n",
       "      <td>0.105</td>\n",
       "      <td>01101</td>\n",
       "      <td>True</td>\n",
       "    </tr>\n",
       "    <tr>\n",
       "      <th>2</th>\n",
       "      <td>[0, 1, 1, 0, 0]</td>\n",
       "      <td>103</td>\n",
       "      <td>0.103</td>\n",
       "      <td>00110</td>\n",
       "      <td>True</td>\n",
       "    </tr>\n",
       "    <tr>\n",
       "      <th>3</th>\n",
       "      <td>[1, 0, 0, 1, 1]</td>\n",
       "      <td>102</td>\n",
       "      <td>0.102</td>\n",
       "      <td>11001</td>\n",
       "      <td>True</td>\n",
       "    </tr>\n",
       "    <tr>\n",
       "      <th>4</th>\n",
       "      <td>[0, 1, 1, 0, 1]</td>\n",
       "      <td>100</td>\n",
       "      <td>0.100</td>\n",
       "      <td>10110</td>\n",
       "      <td>True</td>\n",
       "    </tr>\n",
       "    <tr>\n",
       "      <th>5</th>\n",
       "      <td>[0, 0, 1, 1, 0]</td>\n",
       "      <td>97</td>\n",
       "      <td>0.097</td>\n",
       "      <td>01100</td>\n",
       "      <td>True</td>\n",
       "    </tr>\n",
       "    <tr>\n",
       "      <th>6</th>\n",
       "      <td>[1, 0, 0, 1, 0]</td>\n",
       "      <td>88</td>\n",
       "      <td>0.088</td>\n",
       "      <td>01001</td>\n",
       "      <td>True</td>\n",
       "    </tr>\n",
       "    <tr>\n",
       "      <th>7</th>\n",
       "      <td>[0, 1, 1, 1, 0]</td>\n",
       "      <td>88</td>\n",
       "      <td>0.088</td>\n",
       "      <td>01110</td>\n",
       "      <td>True</td>\n",
       "    </tr>\n",
       "    <tr>\n",
       "      <th>8</th>\n",
       "      <td>[1, 0, 0, 0, 1]</td>\n",
       "      <td>84</td>\n",
       "      <td>0.084</td>\n",
       "      <td>10001</td>\n",
       "      <td>True</td>\n",
       "    </tr>\n",
       "    <tr>\n",
       "      <th>9</th>\n",
       "      <td>[0, 1, 0, 0, 1]</td>\n",
       "      <td>81</td>\n",
       "      <td>0.081</td>\n",
       "      <td>10010</td>\n",
       "      <td>True</td>\n",
       "    </tr>\n",
       "    <tr>\n",
       "      <th>10</th>\n",
       "      <td>[0, 0, 0, 0, 1]</td>\n",
       "      <td>6</td>\n",
       "      <td>0.006</td>\n",
       "      <td>10000</td>\n",
       "      <td>False</td>\n",
       "    </tr>\n",
       "    <tr>\n",
       "      <th>11</th>\n",
       "      <td>[0, 1, 0, 1, 0]</td>\n",
       "      <td>4</td>\n",
       "      <td>0.004</td>\n",
       "      <td>01010</td>\n",
       "      <td>False</td>\n",
       "    </tr>\n",
       "    <tr>\n",
       "      <th>12</th>\n",
       "      <td>[0, 0, 0, 0, 0]</td>\n",
       "      <td>3</td>\n",
       "      <td>0.003</td>\n",
       "      <td>00000</td>\n",
       "      <td>False</td>\n",
       "    </tr>\n",
       "    <tr>\n",
       "      <th>13</th>\n",
       "      <td>[1, 1, 0, 0, 0]</td>\n",
       "      <td>3</td>\n",
       "      <td>0.003</td>\n",
       "      <td>00011</td>\n",
       "      <td>False</td>\n",
       "    </tr>\n",
       "    <tr>\n",
       "      <th>14</th>\n",
       "      <td>[0, 0, 1, 0, 0]</td>\n",
       "      <td>3</td>\n",
       "      <td>0.003</td>\n",
       "      <td>00100</td>\n",
       "      <td>False</td>\n",
       "    </tr>\n",
       "    <tr>\n",
       "      <th>15</th>\n",
       "      <td>[1, 1, 1, 1, 0]</td>\n",
       "      <td>3</td>\n",
       "      <td>0.003</td>\n",
       "      <td>01111</td>\n",
       "      <td>False</td>\n",
       "    </tr>\n",
       "    <tr>\n",
       "      <th>16</th>\n",
       "      <td>[1, 0, 1, 0, 1]</td>\n",
       "      <td>3</td>\n",
       "      <td>0.003</td>\n",
       "      <td>10101</td>\n",
       "      <td>False</td>\n",
       "    </tr>\n",
       "    <tr>\n",
       "      <th>17</th>\n",
       "      <td>[0, 1, 1, 1, 1]</td>\n",
       "      <td>3</td>\n",
       "      <td>0.003</td>\n",
       "      <td>11110</td>\n",
       "      <td>False</td>\n",
       "    </tr>\n",
       "    <tr>\n",
       "      <th>18</th>\n",
       "      <td>[1, 0, 0, 0, 0]</td>\n",
       "      <td>2</td>\n",
       "      <td>0.002</td>\n",
       "      <td>00001</td>\n",
       "      <td>False</td>\n",
       "    </tr>\n",
       "    <tr>\n",
       "      <th>19</th>\n",
       "      <td>[1, 1, 0, 1, 1]</td>\n",
       "      <td>2</td>\n",
       "      <td>0.002</td>\n",
       "      <td>11011</td>\n",
       "      <td>False</td>\n",
       "    </tr>\n",
       "    <tr>\n",
       "      <th>20</th>\n",
       "      <td>[1, 0, 1, 1, 1]</td>\n",
       "      <td>2</td>\n",
       "      <td>0.002</td>\n",
       "      <td>11101</td>\n",
       "      <td>False</td>\n",
       "    </tr>\n",
       "    <tr>\n",
       "      <th>21</th>\n",
       "      <td>[1, 1, 1, 1, 1]</td>\n",
       "      <td>2</td>\n",
       "      <td>0.002</td>\n",
       "      <td>11111</td>\n",
       "      <td>False</td>\n",
       "    </tr>\n",
       "    <tr>\n",
       "      <th>22</th>\n",
       "      <td>[0, 1, 0, 0, 0]</td>\n",
       "      <td>1</td>\n",
       "      <td>0.001</td>\n",
       "      <td>00010</td>\n",
       "      <td>False</td>\n",
       "    </tr>\n",
       "    <tr>\n",
       "      <th>23</th>\n",
       "      <td>[1, 0, 1, 0, 0]</td>\n",
       "      <td>1</td>\n",
       "      <td>0.001</td>\n",
       "      <td>00101</td>\n",
       "      <td>False</td>\n",
       "    </tr>\n",
       "    <tr>\n",
       "      <th>24</th>\n",
       "      <td>[0, 0, 0, 1, 0]</td>\n",
       "      <td>1</td>\n",
       "      <td>0.001</td>\n",
       "      <td>01000</td>\n",
       "      <td>False</td>\n",
       "    </tr>\n",
       "    <tr>\n",
       "      <th>25</th>\n",
       "      <td>[1, 1, 0, 1, 0]</td>\n",
       "      <td>1</td>\n",
       "      <td>0.001</td>\n",
       "      <td>01011</td>\n",
       "      <td>False</td>\n",
       "    </tr>\n",
       "    <tr>\n",
       "      <th>26</th>\n",
       "      <td>[0, 0, 1, 0, 1]</td>\n",
       "      <td>1</td>\n",
       "      <td>0.001</td>\n",
       "      <td>10100</td>\n",
       "      <td>False</td>\n",
       "    </tr>\n",
       "    <tr>\n",
       "      <th>27</th>\n",
       "      <td>[1, 1, 1, 0, 1]</td>\n",
       "      <td>1</td>\n",
       "      <td>0.001</td>\n",
       "      <td>10111</td>\n",
       "      <td>False</td>\n",
       "    </tr>\n",
       "    <tr>\n",
       "      <th>28</th>\n",
       "      <td>[0, 0, 1, 1, 1]</td>\n",
       "      <td>1</td>\n",
       "      <td>0.001</td>\n",
       "      <td>11100</td>\n",
       "      <td>False</td>\n",
       "    </tr>\n",
       "  </tbody>\n",
       "</table>\n",
       "</div>"
      ],
      "text/plain": [
       "              nodes  count  probability bitstring   f(x)\n",
       "0   [1, 1, 0, 0, 1]    109        0.109     10011   True\n",
       "1   [1, 0, 1, 1, 0]    105        0.105     01101   True\n",
       "2   [0, 1, 1, 0, 0]    103        0.103     00110   True\n",
       "3   [1, 0, 0, 1, 1]    102        0.102     11001   True\n",
       "4   [0, 1, 1, 0, 1]    100        0.100     10110   True\n",
       "5   [0, 0, 1, 1, 0]     97        0.097     01100   True\n",
       "6   [1, 0, 0, 1, 0]     88        0.088     01001   True\n",
       "7   [0, 1, 1, 1, 0]     88        0.088     01110   True\n",
       "8   [1, 0, 0, 0, 1]     84        0.084     10001   True\n",
       "9   [0, 1, 0, 0, 1]     81        0.081     10010   True\n",
       "10  [0, 0, 0, 0, 1]      6        0.006     10000  False\n",
       "11  [0, 1, 0, 1, 0]      4        0.004     01010  False\n",
       "12  [0, 0, 0, 0, 0]      3        0.003     00000  False\n",
       "13  [1, 1, 0, 0, 0]      3        0.003     00011  False\n",
       "14  [0, 0, 1, 0, 0]      3        0.003     00100  False\n",
       "15  [1, 1, 1, 1, 0]      3        0.003     01111  False\n",
       "16  [1, 0, 1, 0, 1]      3        0.003     10101  False\n",
       "17  [0, 1, 1, 1, 1]      3        0.003     11110  False\n",
       "18  [1, 0, 0, 0, 0]      2        0.002     00001  False\n",
       "19  [1, 1, 0, 1, 1]      2        0.002     11011  False\n",
       "20  [1, 0, 1, 1, 1]      2        0.002     11101  False\n",
       "21  [1, 1, 1, 1, 1]      2        0.002     11111  False\n",
       "22  [0, 1, 0, 0, 0]      1        0.001     00010  False\n",
       "23  [1, 0, 1, 0, 0]      1        0.001     00101  False\n",
       "24  [0, 0, 0, 1, 0]      1        0.001     01000  False\n",
       "25  [1, 1, 0, 1, 0]      1        0.001     01011  False\n",
       "26  [0, 0, 1, 0, 1]      1        0.001     10100  False\n",
       "27  [1, 1, 1, 0, 1]      1        0.001     10111  False\n",
       "28  [0, 0, 1, 1, 1]      1        0.001     11100  False"
      ]
     },
     "execution_count": 16,
     "metadata": {},
     "output_type": "execute_result"
    }
   ],
   "source": [
    "n_solutions = 32\n",
    "df = res.dataframe\n",
    "df_new = df.head(n_solutions).copy()\n",
    "first_col = df.columns[0]\n",
    "df_new[\"f(x)\"] = df_new[first_col].apply(lambda x: cut_predicate(CUT_SIZE, x))\n",
    "df_new"
   ]
  },
  {
   "cell_type": "markdown",
   "id": "455d2579-0d16-42f1-9b86-aa174c7bb29b",
   "metadata": {},
   "source": [
    "The satisfying assignments are ~6 times more probable than the unsatisfying assignments. We print one:"
   ]
  },
  {
   "cell_type": "code",
   "execution_count": 17,
   "id": "7b8c31e3-ad6c-45d6-b2b5-7d4ac66b0b17",
   "metadata": {
    "tags": []
   },
   "outputs": [],
   "source": [
    "result_parsed = df_new[\"nodes\"][0]"
   ]
  },
  {
   "cell_type": "code",
   "execution_count": 18,
   "id": "900f4f80-4d96-4aa8-83b4-9efcb839f112",
   "metadata": {
    "tags": []
   },
   "outputs": [
    {
     "data": {
      "image/png": "[encoded data removed]",
      "text/plain": [
       "<Figure size 640x480 with 1 Axes>"
      ]
     },
     "metadata": {},
     "output_type": "display_data"
    }
   ],
   "source": [
    "import matplotlib.pyplot as plt\n",
    "\n",
    "edge_widths = [\n",
    "    is_cross_cut_edge(\n",
    "        int(result_parsed[i]),\n",
    "        int(result_parsed[j]),\n",
    "    )\n",
    "    + 0.5\n",
    "    for i, j in G.edges\n",
    "]\n",
    "node_colors = [int(c) for c in result_parsed]\n",
    "nx.draw_networkx(\n",
    "    G,\n",
    "    pos=pos,\n",
    "    with_labels=True,\n",
    "    alpha=0.8,\n",
    "    node_size=500,\n",
    "    node_color=node_colors,\n",
    "    width=edge_widths,\n",
    "    cmap=plt.cm.rainbow,\n",
    ")"
   ]
  },
  {
   "cell_type": "markdown",
   "id": "49c24c5e",
   "metadata": {
    "pycharm": {
     "name": "#%% md\n"
    }
   },
   "source": [
    "<h3 id=\"references\">References</h3>\n",
    "<ol>\n",
    "  <li id=\"ref-Gro96\">\n",
    "    L. K. Grover, “A fast quantum mechanical algorithm for database search”, Proceedings of the 28th Annual ACM Symposium on Theory of Computing (STOC ’96), pp. 212–219, 1996.\n",
    "    <!-- External links -->\n",
    "    &nbsp;- &nbsp;\n",
    "    <a href=\"https://dl.acm.org/doi/10.1145/237814.237866\" target=\"_blank\" rel=\"noopener noreferrer\">DOI &#8599;</a>\n",
    "    &nbsp;•&nbsp;\n",
    "    <a href=\"https://arxiv.org/abs/quant-ph/9605043\" target=\"_blank\" rel=\"noopener noreferrer\">arXiv &#8599;</a>\n",
    "  </li>\n",
    "  <li id=\"ref-3SAT\">\n",
    "    The 3-SAT problem\n",
    "    <!-- External links -->\n",
    "    &nbsp;- &nbsp;\n",
    "    <a href=\"https://en.wikipedia.org/wiki/Boolean_satisfiability_problem#3-satisfiability\" target=\"_blank\" rel=\"noopener noreferrer\"> Wikipedia &#8599;</a>\n",
    "  </li>\n",
    "    <li id=\"ref-MaxCutWiki\">\n",
    "    The Maximum Cut problem\n",
    "    <!-- External links -->\n",
    "    &nbsp;- &nbsp;\n",
    "    <a href=\"https://en.wikipedia.org/wiki/Maximum_cut\" target=\"_blank\" rel=\"noopener noreferrer\"> Wikipedia &#8599;</a>\n",
    "</ol>"
   ]
  },
  {
   "cell_type": "markdown",
   "id": "6b8c40b4",
   "metadata": {},
   "source": []
  }
 ],
 "metadata": {
  "kernelspec": {
   "display_name": "Python 3 (ipykernel)",
   "language": "python",
   "name": "python3"
  },
  "language_info": {
   "codemirror_mode": {
    "name": "ipython",
    "version": 3
   },
   "file_extension": ".py",
   "mimetype": "text/x-python",
   "name": "python",
   "nbconvert_exporter": "python",
   "pygments_lexer": "ipython3",
   "version": "3.11.9"
  },
  "vscode": {
   "interpreter": {
    "hash": "a07aacdcc8a415e7643a2bc993226848ff70704ebef014f87460de9126b773d0"
   }
  }
 },
 "nbformat": 4,
 "nbformat_minor": 5
}
