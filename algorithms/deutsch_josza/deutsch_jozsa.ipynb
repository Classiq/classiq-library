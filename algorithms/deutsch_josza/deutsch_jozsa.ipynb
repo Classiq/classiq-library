{
 "cells": [
  {
   "cell_type": "markdown",
   "id": "d822b35c-f93f-4899-b7eb-2de8b8e43ad2",
   "metadata": {},
   "source": [
    "# Exponential speedup with the Deutsch-Jozsa algorithm"
   ]
  },
  {
   "cell_type": "markdown",
   "id": "152ddf06-25a7-4724-a3fb-305dbb7bbc07",
   "metadata": {
    "editable": true,
    "slideshow": {
     "slide_type": ""
    },
    "tags": []
   },
   "source": [
    "## Introduction\n",
    "\n",
    "The Deutsch-Jozsa algorithm[[1](#DJWiki)], named after David Deutsch and Richard Jozsa, is one of the fundamental and first quantum algorithms showing exponential speedup over their classical counterpart$^*$. While it has no practical applicative usage, it serves as a toy model for quantum computing, demonstrating how the concepts of super-position and interference enable quantum algorithms to overperform classical ones.\n",
    "\n",
    "$^*$ The exponential speedup is in the oracle complexity setting. In addition, it only refers to determenistic classical machines (see comments below)."
   ]
  },
  {
   "cell_type": "markdown",
   "id": "05013fa0-a63a-4407-a425-3cf065612372",
   "metadata": {
    "editable": true,
    "slideshow": {
     "slide_type": ""
    },
    "tags": []
   },
   "source": [
    "The algorithm treats the following problem:\n",
    "* Consider a black-box boolean function $f(x)$ which acts on the integers in the range $[0, 2^{n}-1]$.\n",
    "* It is guaranteed that the function is either constant or balanced ($\\equiv$ for half of the values it is 1 and for the other half 0).\n",
    "* The goal is to find in a deterministic way whether the function is constant or balanced.\n",
    "\n",
    "Let us start with an example with $n=4$. We load an arithmetic expression on the numbers between 0 to $2^4-1=15$."
   ]
  },
  {
   "cell_type": "code",
   "execution_count": 1,
   "id": "a9691674-29b1-4d21-b88b-672da9092f82",
   "metadata": {
    "execution": {
     "iopub.execute_input": "2023-12-06T02:07:08.501588Z",
     "iopub.status.busy": "2023-12-06T02:07:08.501106Z",
     "iopub.status.idle": "2023-12-06T02:07:08.738723Z",
     "shell.execute_reply": "2023-12-06T02:07:08.738002Z"
    }
   },
   "outputs": [],
   "source": [
    "import urllib\n",
    "\n",
    "expr = (\n",
    "    urllib.request.urlopen(\n",
    "        \"https://classiq-docs-images.s3.amazonaws.com/simple_black_box.txt\"\n",
    "    )\n",
    "    .read()\n",
    "    .decode(\"utf-8\")\n",
    ")\n",
    "black_box_expression = expr.split(\"\\n\")[0]"
   ]
  },
  {
   "cell_type": "markdown",
   "id": "e91cba8d-421a-471d-851b-2135f44996e2",
   "metadata": {},
   "source": [
    "Classicaly, in the worst case, we will have to evaluate the function $2^{n-1}+1=9$ times. Let us do this:"
   ]
  },
  {
   "cell_type": "code",
   "execution_count": 2,
   "id": "264ee389-6ad3-4eda-b0f0-90a439336f1d",
   "metadata": {
    "execution": {
     "iopub.execute_input": "2023-12-06T02:07:08.743955Z",
     "iopub.status.busy": "2023-12-06T02:07:08.742722Z",
     "iopub.status.idle": "2023-12-06T02:07:09.167093Z",
     "shell.execute_reply": "2023-12-06T02:07:09.166410Z"
    }
   },
   "outputs": [
    {
     "name": "stdout",
     "output_type": "stream",
     "text": [
      "False\n",
      "False\n",
      "False\n",
      "False\n",
      "False\n",
      "False\n",
      "False\n",
      "False\n",
      "True\n"
     ]
    }
   ],
   "source": [
    "import sympy as sm\n",
    "from sympy.parsing.sympy_parser import parse_expr\n",
    "\n",
    "x = sm.symbols(\"x\")\n",
    "\n",
    "expr = parse_expr(black_box_expression, evaluate=0)\n",
    "for k in range(2**4 // 2 + 1):\n",
    "    print(expr.subs(x, k))"
   ]
  },
  {
   "cell_type": "markdown",
   "id": "100772b1-f986-4a20-ac05-a7a83f191784",
   "metadata": {},
   "source": [
    "We found out that the function is not constant, hance, it musy be balanced. Let us now move to the quantum algorithm. We go directly to the implementation of the algorithm, where the mathematical explanation will be given at the end of this demo. The Duetsch-Jozsa algorithm is composed of three function blocks: it starts with an Hadamard transform, continues with an arithmetic oracle for the black-box function, and ends with another Hadamard transform.\n",
    "\n",
    "The probability of measuring the $|0\\rangle_n$ state is 1 if the function is constant and 0 if it is balanced. \n",
    "\n",
    "**The black-box function is thus evaluated only once when implementing the oracle: this is exponentially more efficient than the classical approach.**\n",
    "\n",
    "Let us code this with Classiq in a one code block"
   ]
  },
  {
   "cell_type": "code",
   "execution_count": 3,
   "id": "ca07a1fe-845d-4005-bf1f-38b7a46dc3c2",
   "metadata": {
    "execution": {
     "iopub.execute_input": "2023-12-06T02:07:09.172046Z",
     "iopub.status.busy": "2023-12-06T02:07:09.170793Z",
     "iopub.status.idle": "2023-12-06T02:07:15.991232Z",
     "shell.execute_reply": "2023-12-06T02:07:15.990532Z"
    }
   },
   "outputs": [
    {
     "name": "stdout",
     "output_type": "stream",
     "text": [
      "The function is balanced\n"
     ]
    }
   ],
   "source": [
    "from classiq import Model, RegisterUserInput, execute, show, synthesize\n",
    "from classiq.builtin_functions import ArithmeticOracle, HadamardTransform\n",
    "\n",
    "N = 4\n",
    "\n",
    "# model\n",
    "model = Model()\n",
    "hadamard_params = HadamardTransform(num_qubits=N)\n",
    "out = model.HadamardTransform(params=hadamard_params)\n",
    "\n",
    "params = ArithmeticOracle(\n",
    "    expression=black_box_expression,\n",
    "    definitions=dict(\n",
    "        x=RegisterUserInput(size=N),\n",
    "    ),\n",
    "    uncomputation_method=\"optimized\",\n",
    ")\n",
    "arith_out = model.ArithmeticOracle(params, in_wires={\"x\": out[\"OUT\"]})\n",
    "out = model.HadamardTransform(params=hadamard_params, in_wires={\"IN\": arith_out[\"x\"]})\n",
    "\n",
    "model.set_outputs({\"OUT\": out[\"OUT\"]})\n",
    "model.sample()\n",
    "\n",
    "# synthesize\n",
    "qprog = synthesize(model.get_model())\n",
    "\n",
    "# execute\n",
    "results = execute(qprog).result()\n",
    "results_list = [sample.state[\"OUT\"] for sample in results[0].value.parsed_counts]\n",
    "\n",
    "# output the result\n",
    "if len(results_list) == 1:\n",
    "    if 0 not in results_list:\n",
    "        print(\"The function is balanced\")\n",
    "    else:\n",
    "        print(\"The function is constant\")\n",
    "else:\n",
    "    print(\n",
    "        \"cannot decide as more than one output was measured, the distribution is:\",\n",
    "        results[0].value.counts_of_output(\"OUT\"),\n",
    "    )"
   ]
  },
  {
   "cell_type": "code",
   "execution_count": 4,
   "id": "c39f9666-78c8-49ff-a0e8-1b5c57e43a12",
   "metadata": {
    "execution": {
     "iopub.execute_input": "2023-12-06T02:07:15.996151Z",
     "iopub.status.busy": "2023-12-06T02:07:15.994698Z",
     "iopub.status.idle": "2023-12-06T02:07:16.202793Z",
     "shell.execute_reply": "2023-12-06T02:07:16.195986Z"
    }
   },
   "outputs": [
    {
     "name": "stdout",
     "output_type": "stream",
     "text": [
      "Opening: https://platform.classiq.io/circuit/75cf2676-065e-4146-a0ca-1b5a879e8fc7?version=0.34.0.dev0%2B124706fb0e\n"
     ]
    }
   ],
   "source": [
    "with open(\"simple_deutsch_jozsa.qmod\", \"w\") as f:\n",
    "    f.write(model.get_model())\n",
    "show(qprog)"
   ]
  },
  {
   "cell_type": "markdown",
   "id": "5bb0d55b-9105-4a66-a8b7-46ffea7ac640",
   "metadata": {},
   "source": [
    "<center>\n",
    "<img src=\"https://classiq-docs-images.s3.amazonaws.com/deutsch_josza_closed.png\" style=\"width:100%\">\n",
    "<figcaption align = \"middle\"> Figure 1. The Deutsch-Josza algorithm </figcaption>\n",
    "</center>"
   ]
  },
  {
   "cell_type": "markdown",
   "id": "a17bdbbf-1238-4458-a245-33f44221c9de",
   "metadata": {},
   "source": [
    "In the above example, we worked with a very simple black-box function"
   ]
  },
  {
   "cell_type": "code",
   "execution_count": 5,
   "id": "928ae31d-9625-4d1f-91b9-10b600b0a39d",
   "metadata": {
    "execution": {
     "iopub.execute_input": "2023-12-06T02:07:16.206715Z",
     "iopub.status.busy": "2023-12-06T02:07:16.206424Z",
     "iopub.status.idle": "2023-12-06T02:07:16.214093Z",
     "shell.execute_reply": "2023-12-06T02:07:16.212173Z"
    }
   },
   "outputs": [
    {
     "name": "stdout",
     "output_type": "stream",
     "text": [
      "x>7\n"
     ]
    }
   ],
   "source": [
    "print(black_box_expression)"
   ]
  },
  {
   "cell_type": "markdown",
   "id": "cc55d836-3cbd-4f00-8e08-e10ba7ad0cd4",
   "metadata": {},
   "source": [
    "However, generalizing to much more complex scenarios makes no difference for modeling. Let us take a more complicated function, working with $n=3$: we take the maximum between the input Bitwise-Xor with 3 and the input Bitwise-And with 3, we then perform 2 Right-Bit-Shift, and check whether the result is equal to 1. Can you tell whether the function is balanced or constant?\n",
    "\n",
    "*This time we provide a width bound to the Synthesis engine*"
   ]
  },
  {
   "cell_type": "code",
   "execution_count": 6,
   "id": "73ef5db6-700f-416e-84ba-2d047e58f41f",
   "metadata": {
    "execution": {
     "iopub.execute_input": "2023-12-06T02:07:16.217429Z",
     "iopub.status.busy": "2023-12-06T02:07:16.217174Z",
     "iopub.status.idle": "2023-12-06T02:07:16.220639Z",
     "shell.execute_reply": "2023-12-06T02:07:16.219880Z"
    }
   },
   "outputs": [],
   "source": [
    "expression = \"(max(x ^ 3, x & 3)>>2) == 1\""
   ]
  },
  {
   "cell_type": "code",
   "execution_count": 7,
   "id": "d457cd28-6cc6-42be-b44f-de538ebb9fb0",
   "metadata": {
    "editable": true,
    "execution": {
     "iopub.execute_input": "2023-12-06T02:07:16.224135Z",
     "iopub.status.busy": "2023-12-06T02:07:16.223896Z",
     "iopub.status.idle": "2023-12-06T02:07:24.401457Z",
     "shell.execute_reply": "2023-12-06T02:07:24.400770Z"
    },
    "slideshow": {
     "slide_type": ""
    },
    "tags": []
   },
   "outputs": [
    {
     "name": "stdout",
     "output_type": "stream",
     "text": [
      "The function is balanced\n"
     ]
    }
   ],
   "source": [
    "from classiq.model import Constraints\n",
    "\n",
    "N = 3\n",
    "\n",
    "# model\n",
    "model = Model()\n",
    "hadamard_params = HadamardTransform(num_qubits=N)\n",
    "out = model.HadamardTransform(params=hadamard_params)\n",
    "\n",
    "params = ArithmeticOracle(\n",
    "    expression=expression,\n",
    "    definitions=dict(\n",
    "        x=RegisterUserInput(size=N),\n",
    "    ),\n",
    "    uncomputation_method=\"optimized\",\n",
    ")\n",
    "arith_out = model.ArithmeticOracle(params, in_wires={\"x\": out[\"OUT\"]})\n",
    "out = model.HadamardTransform(params=hadamard_params, in_wires={\"IN\": arith_out[\"x\"]})\n",
    "\n",
    "model.set_outputs({\"OUT\": out[\"OUT\"]})\n",
    "model.constraints = Constraints(max_width=15)\n",
    "model.sample()\n",
    "\n",
    "# synthesize\n",
    "qprog = synthesize(model.get_model())\n",
    "\n",
    "# execute\n",
    "results = execute(qprog).result()\n",
    "results_list = [sample.state[\"OUT\"] for sample in results[0].value.parsed_counts]\n",
    "\n",
    "# output the result\n",
    "if len(results_list) == 1:\n",
    "    if 0 not in results_list:\n",
    "        print(\"The function is balanced\")\n",
    "    else:\n",
    "        print(\"The function is constant\")\n",
    "else:\n",
    "    print(\n",
    "        \"cannot decide as more than one output was measured, the distribution is:\",\n",
    "        results[0].value.counts_of_output(\"OUT\"),\n",
    "    )"
   ]
  },
  {
   "cell_type": "markdown",
   "id": "31dbdd1b-93ac-4ae5-b9ed-1b0f3785806f",
   "metadata": {},
   "source": [
    "We can visualize the circuit obtained from the synthesis engine. In Figure 2 we present the complex structure of the oracle, generated automatically by the Synthesis engine."
   ]
  },
  {
   "cell_type": "code",
   "execution_count": 8,
   "id": "4a9a9c0f-dd72-4228-8840-fc4b0090de1f",
   "metadata": {
    "execution": {
     "iopub.execute_input": "2023-12-06T02:07:24.404762Z",
     "iopub.status.busy": "2023-12-06T02:07:24.404307Z",
     "iopub.status.idle": "2023-12-06T02:07:24.630706Z",
     "shell.execute_reply": "2023-12-06T02:07:24.629989Z"
    }
   },
   "outputs": [
    {
     "name": "stdout",
     "output_type": "stream",
     "text": [
      "Opening: https://platform.classiq.io/circuit/f160a559-ac38-404b-b1cf-801196dbd205?version=0.34.0.dev0%2B124706fb0e\n"
     ]
    }
   ],
   "source": [
    "show(qprog)"
   ]
  },
  {
   "cell_type": "markdown",
   "id": "1247e6d5-f105-4a12-9b4d-4df6d92b41f0",
   "metadata": {},
   "source": [
    "<center>\n",
    "<img src=\"https://classiq-docs-images.s3.amazonaws.com/deutsch_jozsa_opened.png\" style=\"width:100%\">\n",
    "<figcaption align = \"middle\"> Figure 2. The Deutsch-Josza algorithm, focusing on oracle implementation </figcaption>\n",
    "</center>"
   ]
  },
  {
   "cell_type": "code",
   "execution_count": 9,
   "id": "8f3ff458-7f41-47d7-924e-8929744e8af3",
   "metadata": {
    "execution": {
     "iopub.execute_input": "2023-12-06T02:07:24.634059Z",
     "iopub.status.busy": "2023-12-06T02:07:24.633430Z",
     "iopub.status.idle": "2023-12-06T02:07:24.643160Z",
     "shell.execute_reply": "2023-12-06T02:07:24.642560Z"
    }
   },
   "outputs": [],
   "source": [
    "with open(\"complex_deutsch_jozsa.qmod\", \"w\") as f:\n",
    "    f.write(model.get_model())"
   ]
  },
  {
   "cell_type": "markdown",
   "id": "1e9fcfe7-7ff6-4e54-a495-798872ddd789",
   "metadata": {},
   "source": [
    "## Mathematical explanation\n",
    "\n",
    "Below we briefly go over the linear algebra behind the Deutsch-Jozsa algorithm. The first Hadamard transformation generates an equal super-position over all the standard basis elements:\n",
    "$$\n",
    "|0\\rangle_n \\xrightarrow[H^{\\otimes n}]{} \\frac{1}{2^{n/2}}\\sum^{2^n-1}_{j=0}|j\\rangle_n.\n",
    "$$\n",
    "Arithmetic oracle gets a boolean function and adds an $e^{\\pi i}=-1$ phase to all states for which the function returns True:\n",
    "$$\n",
    "\\frac{1}{2^{n/2}}\\sum^{2^n-1}_{j=0}|j\\rangle_n \\xrightarrow[\\text{Oracle}(f(j))]{}\\frac{1}{2^{n/2}}\\sum^{2^n-1}_{j=0}(-1)^{f(j)}|j\\rangle_n.\n",
    "$$\n",
    "Finally, we apply the Hadamard transform, which can be written as $H^{\\otimes n}\\equiv \\frac{1}{2^{n/2}}\\sum^{2^n-1}_{k,l=0}(-1)^{k\\cdot l} |k\\rangle \\langle l| $, to find\n",
    "$$\n",
    "\\frac{1}{2^{n/2}}\\sum^{2^n-1}_{j=0}(-1)^{f(j)}|j\\rangle  \\xrightarrow[H^{\\otimes n}]{} \n",
    "\\sum^{2^n-1}_{k=0} \\left(\\frac{1}{2^{n}}\\sum^{2^n-1}_{j=0}(-1)^{f(j)+j\\cdot k}|j\\rangle \\right) |k\\rangle.\n",
    "$$\n",
    "\n",
    "The probability of getting the state $|k\\rangle = |0\\rangle$ is\n",
    "$$\n",
    "P(0)=\\left|\\frac{1}{2^{n}}\\sum^{2^n-1}_{j=0}(-1)^{f(j)}|j\\rangle \\right|^2 =\n",
    "\\left\\{\n",
    "\\begin{array}{l l}\n",
    "1 & \\text{if } f(x) \\text{ is constant} \\\\\n",
    "0 & \\text{if } f(x) \\text{ is balanced}\n",
    "\\end{array}\n",
    "\\right.\n",
    "$$"
   ]
  },
  {
   "cell_type": "markdown",
   "id": "7b1b78c2-f158-4752-8aaf-512cf6c23433",
   "metadata": {},
   "source": [
    "## Comments\n",
    "\n",
    "If we do not require deterministic determination, namely, we can apply classical probabilistic algorithm to get the result up to some error, then we lose the exponential speedup: taking $k$ classical evaluations of the function $f$ determines whether the function is constant or balanced, with a probability $1-1/2^k$."
   ]
  },
  {
   "cell_type": "markdown",
   "id": "083e20a0-8ace-4200-8288-d4ef05f38b0b",
   "metadata": {},
   "source": [
    "## References\n",
    "\n",
    "<a id='DJWiki'>[1]</a>: [Deutsch Jozsa (Wikipedia)](https://en.wikipedia.org/wiki/Deutsch%E2%80%93Jozsa_algorithm)\n"
   ]
  }
 ],
 "metadata": {
  "kernelspec": {
   "display_name": "Python 3 (ipykernel)",
   "language": "python",
   "name": "python3"
  },
  "language_info": {
   "codemirror_mode": {
    "name": "ipython",
    "version": 3
   },
   "file_extension": ".py",
   "mimetype": "text/x-python",
   "name": "python",
   "nbconvert_exporter": "python",
   "pygments_lexer": "ipython3",
   "version": "3.11.6"
  }
 },
 "nbformat": 4,
 "nbformat_minor": 5
}
