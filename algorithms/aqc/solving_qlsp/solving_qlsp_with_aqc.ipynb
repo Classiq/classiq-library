{
 "cells": [
  {
   "cell_type": "markdown",
   "id": "14d946a1-5fd4-4c3a-947a-4c8adbe43b52",
   "metadata": {},
   "source": [
    "## Solving the Quantum Linear Systems Problem (QLSP) using AQC \n"
   ]
  },
  {
   "cell_type": "markdown",
   "id": "60a44213-afd1-429b-ab6d-7bab93de1734",
   "metadata": {},
   "source": [
    "### **Overview**\n",
    "\n",
    "\n",
    "**Adiabatic Quantum Computing (AQC)** leverages the adiabatic theorem to solve computational problems by gradually evolving a quantum system from an initial ground state to the ground state of a problem-specific Hamiltonian (see our AQC tutorial - ADD LINK). This tutorial focuses on applying the AQC approach to solve the **Quantum Linear Systems Problem (QLSP)**, a cornerstone problem in quantum computing with significant applications in fields like machine learning, physics, and optimization.\n",
    "\n",
    "Specifically, we aim to demonstrate how AQC can be utilized to approximate the solution to the QLSP [[1](#QLSP)]. This problem involves finding a quantum state that corresponds to the solution of a linear system of equations. The tutorial provides a structured overview of the QLSP, its mathematical formulation, and the steps needed to transform it into an eigenvalue problem, laying the foundation for solving it within the AQC framework (based on [[1](#QLSP)]).\n",
    "\n",
    "\n",
    "\n",
    "---\n",
    "\n",
    "\n",
    "### **1. Problem Statement**\n",
    "\n",
    "Given a Hermitian positive-definite matrix $A$ and a vector $|b\\rangle$, the goal is to approximate \n",
    "$|x\\rangle$, the solution to the linear system $A|x\\rangle=|b\\rangle$, as a quantum state.\n",
    "\n",
    "\n",
    "We are given:\n",
    "- **Matrix** $A \\in \\mathbb{C}^{N \\times N}$, an invertible Hermitian and positive-definite matrix with condition number $\\kappa$ and $\\|A\\|_2 = 1$.\n",
    "- **Vector** $|b\\rangle \\in \\mathbb{C}^N$, a normalized vector.\n",
    "- **Target Error** $\\epsilon$, specifying the desired accuracy.\n",
    "\n",
    "The goal is to prepare a quantum state $|x_a\\rangle$, which is an $\\epsilon$-approximation of the normalized solution $|x\\rangle = A^{-1}|b\\rangle / \\|A^{-1}|b\\rangle\\|_2$. The approximation satisfies:\n",
    "\n",
    "$$\n",
    "\\| |x_a\\rangle \\langle x_a| - |x\\rangle \\langle x| \\|_2 \\leq \\epsilon.\n",
    "$$\n",
    "\n",
    "---\n",
    "\n",
    "### **2. Transformation into AQC**\n",
    "\n",
    "The QLSP is converted into an equivalent eigenvalue problem to leverage quantum computation. This involves the following steps:\n",
    "\n",
    "#### **2.1 Null Space of $H_0$**\n",
    "Define:\n",
    "\n",
    "$$\n",
    "H_0 = \\sigma_x \\otimes Q_b = \n",
    "\\begin{bmatrix}\n",
    "0 & Q_b \\\\\n",
    "Q_b & 0\n",
    "\\end{bmatrix},\n",
    "$$\n",
    "\n",
    "where $Q_b = I_N - |b\\rangle \\langle b|$ is a projection operator orthogonal to $|b\\rangle$.\n",
    "\n",
    "Key properties:\n",
    "- $H_0$ is Hermitian.\n",
    "- The null space of $H_0$: $\\text{Null}(H_0) = \\text{span}(|b\\rangle, |\\bar{b}\\rangle)$, where \n",
    "\n",
    "$$\n",
    "|b\\rangle = |0, b\\rangle = \\begin{bmatrix} b \\\\ 0 \\end{bmatrix}, \\quad \n",
    "|\\bar{b}\\rangle = |1, b\\rangle = \\begin{bmatrix} 0 \\\\ b \\end{bmatrix}.\n",
    "$$\n",
    "\n",
    "#### **2.2 Constructing $H_1$**\n",
    "Define:\n",
    "\n",
    "$$\n",
    "H_1 = \\sigma_+ \\otimes (AQ_b) + \\sigma_- \\otimes (Q_bA) =\n",
    "\\begin{bmatrix}\n",
    "0 & AQ_b \\\\\n",
    "Q_bA & 0\n",
    "\\end{bmatrix},\n",
    "$$\n",
    "\n",
    "where $\\sigma_\\pm = \\frac{1}{2}(\\sigma_x \\pm i\\sigma_y)$.\n",
    "\n",
    "Key properties:\n",
    "- If $A|x\\rangle \\propto |b\\rangle$, then $Q_bA|x\\rangle = Q_b|b\\rangle = 0$.\n",
    "- Null space of $H_1$: $\\text{Null}(H_1) = \\text{span}(|x\\rangle, |\\bar{b}\\rangle)$.\n",
    "\n",
    "#### **2.3 Spectral Gap**\n",
    "- $Q_b$ is a projection operator, and the spectral gap of $H_0$ is $1$.\n",
    "- For $H_1$, the gap between $0$ and the rest of the eigenvalues is bounded below by $1/\\kappa$.\n",
    "\n",
    "#### **2.4 Adiabatic Interpolation**\n",
    "Construct an interpolation Hamiltonian:\n",
    "\n",
    "$$\n",
    "H(f(s)) = (1 - f(s))H_0 + f(s)H_1, \\quad 0 \\leq s \\leq 1,\n",
    "$$\n",
    "\n",
    "where $f(s)$ is a monotonic function mapping $[0, 1] \\to [0, 1]$.\n",
    "\n",
    "---\n",
    "\n",
    "### **3. AQC Approach**\n",
    "The adiabatic quantum algorithm prepares the zero-energy state $|x\\rangle$ of $H_1$ as follows:\n",
    "1. Initialize in the ground state of $H_0$, i.e., $|b\\rangle$.\n",
    "2. Slowly evolve the system by varying $f(s)$ from $f(0) = 0$ to $f(1) = 1$.\n",
    "3. At the end of the evolution, the system will approximate $|x\\rangle$, the solution of the QLSP.\n",
    "\n",
    "---\n",
    "\n",
    "### **4. Goals**\n",
    "- **Set up a QLSP example:** Derive $H_0$, $H_1$.\n",
    "- **Quantum Circuit Design:** Implement Hamiltonian simulation for $H(f(s))$.\n",
    "- **Evaluate results:** Compare quantum simulation results with the numeric calculation.\n",
    "\n",
    "---\n",
    "\n",
    "\n",
    "Let’s begin with the mathematical setup and proceed to implementation!\n"
   ]
  },
  {
   "cell_type": "markdown",
   "id": "3372f8e1-f1a5-4ca5-a50a-212cb5a3db0b",
   "metadata": {},
   "source": [
    "### **Setting up a QLSP example where A is a 4x4 matrix:**"
   ]
  },
  {
   "cell_type": "code",
   "execution_count": 1,
   "id": "63656b17-3ebf-41d8-b49a-b030097d5ec8",
   "metadata": {},
   "outputs": [],
   "source": [
    "import numpy as np\n",
    "import matplotlib.pyplot as plt\n",
    "\n",
    "from classiq import *\n",
    "from classiq.execution import (\n",
    "    ClassiqBackendPreferences,\n",
    "    ClassiqSimulatorBackendNames,\n",
    "    ExecutionPreferences,\n",
    ")\n",
    "from classiq.qmod.symbolic import pi\n",
    "\n"
   ]
  },
  {
   "cell_type": "code",
   "execution_count": 2,
   "id": "c0b7e30b-8e11-46c8-b8ce-b95c0e2456a7",
   "metadata": {},
   "outputs": [],
   "source": [
    "\n",
    "\n",
    "# Define matrix A and vector b\n",
    "A = np.array([[4, 1, 2, 0], \n",
    "              [1, 3, 0, 1], \n",
    "              [2, 0, 3, 1], \n",
    "              [0, 1, 1, 2]])\n",
    "b = np.array([12, 10, 17, 26])\n"
   ]
  },
  {
   "cell_type": "markdown",
   "id": "3168a534-2ce2-4150-95f9-c8e88b28a3b4",
   "metadata": {},
   "source": [
    "#### Setting up the QLSP:"
   ]
  },
  {
   "cell_type": "code",
   "execution_count": 3,
   "id": "53fd717f-ba12-441b-ba8d-92eb08dde328",
   "metadata": {},
   "outputs": [],
   "source": [
    "\n",
    "def setup_QLSP(A,b):\n",
    "    #Normalize A\n",
    "    norm_A = np.linalg.norm(A, 'fro')\n",
    "    A_normalized = A / norm_A\n",
    "\n",
    "    # Normalize vector b\n",
    "    b_normalized = b / np.linalg.norm(b)\n",
    "    \n",
    "    # Create the outer product of b\n",
    "    outer_product_b = np.outer(b_normalized, b_normalized)\n",
    "    \n",
    "    # Define the identity matrix I with the same size as b\n",
    "    identity_matrix = np.eye(len(b))\n",
    "    \n",
    "    # Compute Qb = I - outer_product_b\n",
    "    Qb = identity_matrix - outer_product_b\n",
    "    \n",
    "    # Define the Pauli-X (σx) and Pauli-Y (σy) matrices\n",
    "    pauli_x = np.array([[0, 1], \n",
    "                        [1, 0]])\n",
    "    \n",
    "    pauli_y = np.array([[0, -1j], \n",
    "                        [1j, 0]])\n",
    "    \n",
    "    # Define Pauli plus and minus operators\n",
    "    pauli_plus = 0.5 * (pauli_x + 1j * pauli_y)\n",
    "    pauli_minus = 0.5 * (pauli_x - 1j * pauli_y)\n",
    "    \n",
    "    # Compute the tensor product of Pauli-X and Qb\n",
    "    H0 = np.kron(pauli_x, Qb)\n",
    "    \n",
    "    # Compute A*Qb and Qb*A\n",
    "    A_Qb = np.dot(A, Qb)\n",
    "    Qb_A = np.dot(Qb, A)\n",
    "    \n",
    "    # Compute the tensor products\n",
    "    tensor_plus = np.kron(pauli_plus, A_Qb)\n",
    "    tensor_minus = np.kron(pauli_minus, Qb_A)\n",
    "    \n",
    "    # Define Hf as the sum of the two tensor products\n",
    "    Hf = tensor_plus + tensor_minus\n",
    "\n",
    "    HO_HAMILTONIAN = matrix_to_hamiltonian(H0)\n",
    "    Hf_HAMILTONIAN = matrix_to_hamiltonian(Hf)\n",
    "\n",
    "    return H0, Hf, HO_HAMILTONIAN , Hf_HAMILTONIAN, A_normalized, b_normalized\n",
    "\n",
    "\n",
    "#Setup \n",
    "\n",
    "H0, Hf, HO_HAMILTONIAN , Hf_HAMILTONIAN, A_normalized, b_normalized = setup_QLSP(A,b)\n",
    "TOTAL_EVOUTION_TIME = 10\n",
    "NUM_STEPS = 100\n",
    "\n",
    "# Define the time-dependent Interpolated Hamiltonian, where T is the total evolution time\n",
    "def hamiltonian_t(H0, Hf, t, T):\n",
    "    return (1 - t/T) * H0 + (t/T) * Hf"
   ]
  },
  {
   "cell_type": "markdown",
   "id": "28076f8f-a00c-4d0e-92b6-cd891fcd55a6",
   "metadata": {},
   "source": [
    "### **Quantum AQC Implementation:**\n",
    "\n",
    "\n",
    "Since $$ |\\psi_T(s) \\rangle = T \\exp \\left( -iT \\int_0^s H(f(s')) ds' \\right) |\\psi_T(0) \\rangle \\ , $$ where $T$ is the time-ordering operator, it is sufficient to implement an efficient time-dependent Hamiltonian simulation of $H(f(s))$.\n",
    "\n",
    "One straightforward approach to achieve this is by using the Trotter splitting method. The lowest order approximation takes the form:\n",
    "\n",
    "$$\n",
    "T \\exp \\left( -iT \\int_0^s H(f(s')) ds' \\right) \\approx \\prod_{m=1}^M \\exp \\left( -iTh H(f(s_m)) \\right)\n",
    "$$\n",
    "\n",
    "which can further be approximated as:\n",
    "\n",
    "$$\n",
    "\\prod_{m=1}^M \\exp \\left( -iTh(1 - f(s_m)) H_0 \\right) \\exp \\left( -iTh f(s_m) H_1 \\right)\n",
    "$$\n",
    "\n",
    "where $$h = s/M,  s_m = mh.$$\n",
    "\n",
    "\n",
    "Using the Classiq platform, we implement the adiabatic path with Suzuki-Trotter decomposition for Hamiltonian exponentiation.\n",
    "\n",
    "\n",
    "*We will use the \"vanilla AQC\" linear scheduling function $f(s(t)) = s(t) = t / T$*\n",
    "\n",
    "\n",
    "\n",
    "\n",
    "**Building a Quantum model:**\n",
    "\n"
   ]
  },
  {
   "cell_type": "code",
   "execution_count": 4,
   "id": "ee1df168-3163-4d53-a348-ec4505286c17",
   "metadata": {},
   "outputs": [],
   "source": [
    "@qfunc(generative=True)\n",
    "def adiabatic_evolution_qfunc(evolution_time: CInt, num_steps: CInt, qba: QArray[QBit]):\n",
    "    # Time step for each increment\n",
    "    delta_t = evolution_time / num_steps\n",
    "    for step in range(num_steps):\n",
    "        t = step * delta_t\n",
    "        suzuki_trotter(\n",
    "        HO_HAMILTONIAN,\n",
    "        evolution_coefficient=(1 - t/evolution_time),\n",
    "        order=1,\n",
    "        repetitions=1,\n",
    "        qbv=qba,\n",
    "        )\n",
    "        suzuki_trotter(\n",
    "        Hf_HAMILTONIAN,\n",
    "        evolution_coefficient=(t/evolution_time),\n",
    "        order=1,\n",
    "        repetitions=10,\n",
    "        qbv=qba,\n",
    "        )\n",
    "      \n"
   ]
  },
  {
   "cell_type": "code",
   "execution_count": 5,
   "id": "e5b9ac3e-5380-42c6-a44c-8370eeed5f8d",
   "metadata": {},
   "outputs": [],
   "source": [
    "@qfunc\n",
    "def main(qba: Output[QArray[QBit]]):\n",
    "    prepare_state(probabilities= (np.abs(np.kron(np.array([1,0]),b_normalized ))**2).tolist(), bound=0.01, out=qba)\n",
    "    adiabatic_evolution_qfunc(TOTAL_EVOUTION_TIME, NUM_STEPS, qba)\n",
    "\n",
    "\n",
    "qmod = create_model(main)\n",
    "\n",
    "\n",
    "\n",
    "\n"
   ]
  },
  {
   "cell_type": "markdown",
   "id": "944b1337-008a-4085-9255-a9de2efc7a43",
   "metadata": {},
   "source": [
    "**Synthesize the model into a Quantum Program, verify it and execute it on a state vector simulator:** "
   ]
  },
  {
   "cell_type": "code",
   "execution_count": 6,
   "id": "1a102a03-cb5b-4cba-b8b8-54010d4add2d",
   "metadata": {},
   "outputs": [
    {
     "name": "stdout",
     "output_type": "stream",
     "text": [
      "Opening: https://platform.classiq.io/circuit/58f89ba0-8223-40de-b922-c860741d03cc?version=0.60.1\n"
     ]
    }
   ],
   "source": [
    "execution_preferences = ExecutionPreferences(\n",
    "    num_shots=1,\n",
    "    backend_preferences=ClassiqBackendPreferences(\n",
    "        backend_name=ClassiqSimulatorBackendNames.SIMULATOR_STATEVECTOR\n",
    "    ),\n",
    ")\n",
    "qmod = set_execution_preferences(qmod, execution_preferences)\n",
    "\n",
    "\n",
    "qprog = synthesize(qmod)\n",
    "write_qmod(qmod, \"solving_qlsp_with_aqc\")\n",
    "show(qprog)\n",
    "\n",
    "result = execute(qprog).result_value()\n",
    "result_state_vector = result.state_vector"
   ]
  },
  {
   "cell_type": "markdown",
   "id": "624e3a1d-42c6-4330-9c9e-83955a0375ea",
   "metadata": {},
   "source": [
    "### **Evaluate results:**"
   ]
  },
  {
   "cell_type": "code",
   "execution_count": 7,
   "id": "13063341-2420-4c86-b08a-f2a1f4de50bc",
   "metadata": {},
   "outputs": [],
   "source": [
    "def plot_state_probabilities(title, x , color='b'):\n",
    "    # Ensure x is a numpy array and normalized\n",
    "    x = np.array(x)\n",
    "    \n",
    "    # Calculate probabilities\n",
    "    probabilities = np.abs(x) ** 2\n",
    "    \n",
    "    # Create labels for the states\n",
    "    labels = [f'|{i}>' for i in range(len(x))]\n",
    "    \n",
    "    # Plot the probabilities\n",
    "    plt.bar(labels, probabilities, color=color, alpha=0.7)\n",
    "    plt.xlabel('States')\n",
    "    plt.ylabel('Probabilities')\n",
    "    plt.title(title)\n",
    "    plt.xticks(rotation=45)\n",
    "    plt.ylim(0, 1)\n",
    "    plt.show()\n",
    "\n",
    "def phase_difference(v1, v2):\n",
    "    # Ensure vectors are complex\n",
    "    v1 = np.array(v1, dtype=np.complex128)\n",
    "    v2 = np.array(v2, dtype=np.complex128)\n",
    "    \n",
    "    # Compute the inner product and find its angle (phase difference)\n",
    "    inner_product = np.vdot(v1, v2)  # Computes conjugate transpose of v1 * v2\n",
    "    phase_diff = np.angle(inner_product)  # Angle of the inner product in radians\n",
    "    \n",
    "    return phase_diff\n",
    "\n",
    "def compare_states(state1, state1_label, state2, state1_labe2, color1 ='gold',color2='b'):\n",
    "    # Plot a histogram of each state probabilities\n",
    "    plot_state_probabilities(state1_label ,state1, color1)\n",
    "    plot_state_probabilities(state1_labe2,state2, color2)\n",
    "    \n",
    "    # Check the overlap between states\n",
    "    overlap = np.abs(np.vdot(state1, state2))**2\n",
    "    print(f\"Similarity of results: {overlap:.4f}\")\n",
    "    # Calculate phase difference\n",
    "    phase_diff = phase_difference(state1, state2)\n",
    "    print(f\"Phase difference: {np.degrees(phase_diff)} degrees\")\n",
    "\n",
    "\n"
   ]
  },
  {
   "cell_type": "code",
   "execution_count": 8,
   "id": "f12f7aec-7f82-4374-8f5b-7bf760e4f61d",
   "metadata": {},
   "outputs": [
    {
     "name": "stdout",
     "output_type": "stream",
     "text": [
      "Solution vector x:\n",
      "[ 0.32300564 -0.23491319 -0.22423532  0.88893288]\n",
      "State vector:\n",
      "[ 0.17569561+0.2504778j  -0.1220673 -0.17402341j -0.12169957-0.17349916j\n",
      "  0.51216533+0.7301608j   0.07062183-0.04953711j  0.00675191-0.00473607j\n",
      " -0.04419679+0.03100148j  0.08357987-0.05862642j]\n"
     ]
    },
    {
     "data": {
      "image/png": "[encoded data removed]",
      "text/plain": [
       "<Figure size 640x480 with 1 Axes>"
      ]
     },
     "metadata": {},
     "output_type": "display_data"
    },
    {
     "data": {
      "image/png": "[encoded data removed]",
      "text/plain": [
       "<Figure size 640x480 with 1 Axes>"
      ]
     },
     "metadata": {},
     "output_type": "display_data"
    },
    {
     "name": "stdout",
     "output_type": "stream",
     "text": [
      "Similarity of results: 0.9783\n",
      "Phase difference: -54.9525736055916 degrees\n"
     ]
    }
   ],
   "source": [
    "# Print the solution vector x\n",
    "# Use np.linalg.solve() to find x\n",
    "x = np.linalg.solve(A_normalized, b_normalized)\n",
    "print(\"Solution vector x:\")\n",
    "normalized_x = x/ np.linalg.norm(x)\n",
    "print(normalized_x)\n",
    "\n",
    "# Convert dictionary values to complex numbers\n",
    "print(\"State vector:\")\n",
    "state_vector = np.array([complex(value) for value in result_state_vector.values()])\n",
    "print(state_vector)\n",
    "\n",
    "compare_states(state_vector,'state_vector', np.kron(np.array([1,0]),normalized_x ),'normalized_x')"
   ]
  },
  {
   "cell_type": "markdown",
   "id": "51ec6fd4-5fa3-442e-a921-cc5b7b28e05c",
   "metadata": {},
   "source": [
    "***By comparing the quantum-computed results with the mathematically expected solution, we observe a good alignment - showcasing the potential of the AQC approach for solving linear problems***"
   ]
  },
  {
   "cell_type": "markdown",
   "id": "cf1ce8d1-e067-47ae-addc-c3b5f263bb45",
   "metadata": {},
   "source": [
    "<a id='QLSP'>[1]</a>: [An, D. and Lin, L. “Quantum Linear System Solver Based on Time-Optimal Adiabatic Quantum Com- puting and Quantum Approximate Optimization Algorithm.” ACM Trans. Quantum Comput. 3 (2022). arXiv:1909.05500.](https://arxiv.org/abs/1909.05500).\n",
    "\n",
    "\n"
   ]
  }
 ],
 "metadata": {
  "kernelspec": {
   "display_name": "prod_py3.11",
   "language": "python",
   "name": "prod_py3.11"
  },
  "language_info": {
   "codemirror_mode": {
    "name": "ipython",
    "version": 3
   },
   "file_extension": ".py",
   "mimetype": "text/x-python",
   "name": "python",
   "nbconvert_exporter": "python",
   "pygments_lexer": "ipython3",
   "version": "3.11.4"
  }
 },
 "nbformat": 4,
 "nbformat_minor": 5
}
