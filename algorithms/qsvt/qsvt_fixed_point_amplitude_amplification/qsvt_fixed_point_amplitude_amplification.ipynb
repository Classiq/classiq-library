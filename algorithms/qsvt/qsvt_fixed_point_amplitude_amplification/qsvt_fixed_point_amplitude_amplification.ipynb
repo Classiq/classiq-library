{
 "cells": [
  {
   "cell_type": "markdown",
   "id": "03995d6e-9a58-4c26-9b9a-a789cb90dd90",
   "metadata": {},
   "source": [
    "# Using QSVT for Fixed-point Amplitude Amplification"
   ]
  },
  {
   "cell_type": "markdown",
   "id": "fdf4c557-fbf3-43ad-a840-4d25a038931e",
   "metadata": {},
   "source": [
    "This demo shows how to use the QSVT framework for search problems; specifically, implementing fixed-point amplitude amplification (FPAA). With FPAA, we do not know in advance the concentration of solutions for the search problem, but we want to sample a solution with high probability. In contrast, for the original Grover search algorithm, too many iterations might 'overshoot' the mark.\n",
    "\n",
    "The demo is based on the paper [Grand unification of quantum algorithms](#grand).\n",
    "\n",
    "Given $|s\\rangle$ the initial state and $|t\\rangle$ the 'good' states, we get an effective block encoding of a one-dimensional matrix $A=|t\\rangle\\langle s|$.\n",
    "\n",
    "Given that  $a = \\langle s|t\\rangle\\gt0$, we want to amplify $a$. The signal operator $U$ here is $I$ (and also $\\dagger{U}$). Now we implement two projector-rotations: one in the '$|s\\rangle$' space and one in the '$|t\\rangle$' space; each one around the given state, giving phase to the specific state."
   ]
  },
  {
   "cell_type": "markdown",
   "id": "170f965a-4bf2-4a4a-8734-03e4d1c6e0b0",
   "metadata": {
    "tags": []
   },
   "source": [
    "## Defining the QSVT Circuit for the Problem"
   ]
  },
  {
   "cell_type": "markdown",
   "id": "e456f39b-39a5-4232-9bbf-fbc6224dfad7",
   "metadata": {},
   "source": [
    "We start with the general QSVT framework definition. It accepts a unitary that block-encodes a matrix together with projector-controlled phase functions, which rotate the state around each of the subspaces where the matrix is encoded.\n",
    "\n",
    "It applies the `qsvt_step` multiple times, iterating over the rotation angles provided that encode the polynomial transformation.\n",
    "\n",
    "Note that the last step is quite tricky and depends on the specific transformation to perform. The code here is suitable for the FP Amplitude Amplification case. In addition, we wrap the auxilliary qubit with $H$ gates."
   ]
  },
  {
   "cell_type": "code",
   "execution_count": 1,
   "id": "352c9910-50ed-4560-b371-a94992ca76b0",
   "metadata": {
    "execution": {
     "iopub.execute_input": "2025-03-27T13:37:33.362764Z",
     "iopub.status.busy": "2025-03-27T13:37:33.362622Z",
     "iopub.status.idle": "2025-03-27T13:37:35.234717Z",
     "shell.execute_reply": "2025-03-27T13:37:35.234367Z"
    }
   },
   "outputs": [],
   "source": [
    "from classiq import *\n",
    "from classiq.qmod.symbolic import floor, logical_and\n",
    "\n",
    "\n",
    "@qfunc\n",
    "def my_qsvt_step(\n",
    "    phase1: CReal,\n",
    "    phase2: CReal,\n",
    "    proj_ctrl_phase_1: QCallable[CReal, QArray[QBit], QBit],\n",
    "    proj_ctrl_phase_2: QCallable[CReal, QArray[QBit], QBit],\n",
    "    u: QCallable[QArray[QBit]],\n",
    "    state: QArray[QBit],\n",
    "    aux: QBit,\n",
    "):\n",
    "    u(state)\n",
    "    proj_ctrl_phase_2(phase1, state, aux)\n",
    "    invert(lambda: u(state))\n",
    "    proj_ctrl_phase_1(phase2, state, aux)\n",
    "\n",
    "\n",
    "@qfunc\n",
    "def my_qsvt(\n",
    "    phase_seq: CArray[CReal],\n",
    "    proj_ctrl_phase_1: QCallable[CReal, QArray[QBit], QBit],\n",
    "    proj_ctrl_phase_2: QCallable[CReal, QArray[QBit], QBit],\n",
    "    u: QCallable[QArray[QBit]],\n",
    "    state: QArray[QBit],\n",
    "    aux: QBit,\n",
    ") -> None:\n",
    "    H(aux)\n",
    "\n",
    "    proj_ctrl_phase_1(phase_seq[0], state, aux)\n",
    "    repeat(\n",
    "        count=floor((phase_seq.len - 1) / 2),\n",
    "        iteration=lambda index: my_qsvt_step(\n",
    "            phase_seq[2 * index + 1],\n",
    "            phase_seq[2 * index + 2],\n",
    "            proj_ctrl_phase_1,\n",
    "            proj_ctrl_phase_2,\n",
    "            u,\n",
    "            state,\n",
    "            aux,\n",
    "        ),\n",
    "    )\n",
    "\n",
    "    if_(\n",
    "        condition=phase_seq.len % 2 == 1,\n",
    "        then=lambda: IDENTITY(state),\n",
    "        else_=lambda: (\n",
    "            u(state),\n",
    "            proj_ctrl_phase_2(\n",
    "                phase_seq[phase_seq.len - 1],\n",
    "                state,\n",
    "                aux,\n",
    "            ),\n",
    "        ),\n",
    "    )\n",
    "\n",
    "    H(aux)"
   ]
  },
  {
   "cell_type": "markdown",
   "id": "ba2ae29c-e041-45a3-abf2-be7da1814650",
   "metadata": {},
   "source": [
    "## Initial State z-rotation: Rotation Around $|s\\rangle$"
   ]
  },
  {
   "cell_type": "code",
   "execution_count": 2,
   "id": "2066e586-3b7e-4a4c-b1eb-42499026a509",
   "metadata": {
    "execution": {
     "iopub.execute_input": "2025-03-27T13:37:35.236533Z",
     "iopub.status.busy": "2025-03-27T13:37:35.236278Z",
     "iopub.status.idle": "2025-03-27T13:37:35.239250Z",
     "shell.execute_reply": "2025-03-27T13:37:35.238950Z"
    }
   },
   "outputs": [],
   "source": [
    "def initial_state_rot(phase: CReal, state: QArray[QBit], aux: QBit):\n",
    "    hadamard_transform(state)\n",
    "    apply_to_all(X, state)\n",
    "    control(ctrl=state, stmt_block=lambda: X(aux))\n",
    "    RZ(phase, aux)\n",
    "    control(ctrl=state, stmt_block=lambda: X(aux))\n",
    "    apply_to_all(X, state)\n",
    "    hadamard_transform(state)"
   ]
  },
  {
   "cell_type": "markdown",
   "id": "f93e8ef7-cc2f-423b-9bbe-8365c7d0b3ba",
   "metadata": {},
   "source": [
    "## Good States z-rotation: Rotation Around $|t\\rangle$"
   ]
  },
  {
   "cell_type": "code",
   "execution_count": 3,
   "id": "8fe5fdfa-b63a-4a5b-a6db-d947da2e6f63",
   "metadata": {
    "execution": {
     "iopub.execute_input": "2025-03-27T13:37:35.240540Z",
     "iopub.status.busy": "2025-03-27T13:37:35.240442Z",
     "iopub.status.idle": "2025-03-27T13:37:35.243446Z",
     "shell.execute_reply": "2025-03-27T13:37:35.243148Z"
    }
   },
   "outputs": [],
   "source": [
    "def target_state_rot(\n",
    "    phase: CReal,\n",
    "    arith_oracle: QCallable[QArray[QBit], QBit],\n",
    "    state: QArray[QBit],\n",
    "    aux: QBit,\n",
    "):\n",
    "    arith_oracle(state, aux)\n",
    "    RZ(phase, aux)\n",
    "    arith_oracle(state, aux)"
   ]
  },
  {
   "cell_type": "markdown",
   "id": "40488ffb-ebd4-49b4-aa24-7ae212150202",
   "metadata": {},
   "source": [
    "## Defining the Arithmetic Oracle"
   ]
  },
  {
   "cell_type": "markdown",
   "id": "850f4d03-5e30-47d7-a6f9-a39414f26baf",
   "metadata": {},
   "source": [
    "We implement the following equation: \n",
    "`(a + b) == 3 and (c - a) == 2`\n",
    "with `a, b, c` in sizes 2, 1, 3:"
   ]
  },
  {
   "cell_type": "code",
   "execution_count": 4,
   "id": "dd55e04b-443d-409c-bd3a-8e57aeedef95",
   "metadata": {
    "execution": {
     "iopub.execute_input": "2025-03-27T13:37:35.244939Z",
     "iopub.status.busy": "2025-03-27T13:37:35.244802Z",
     "iopub.status.idle": "2025-03-27T13:37:35.247455Z",
     "shell.execute_reply": "2025-03-27T13:37:35.247202Z"
    },
    "tags": []
   },
   "outputs": [],
   "source": [
    "class OracleVars(QStruct):\n",
    "    a: QNum[2, False, 0]\n",
    "    b: QNum[1, False, 0]\n",
    "    c: QNum[3, False, 0]\n",
    "\n",
    "\n",
    "REG_SIZE = 6\n",
    "\n",
    "\n",
    "@qfunc\n",
    "def arith_equation(state: OracleVars, res: QBit):\n",
    "    res ^= logical_and((state.a + state.b) == 3, (state.c - state.a) == 2)"
   ]
  },
  {
   "cell_type": "markdown",
   "id": "d727b48b-672d-4734-8b98-348943ce4fb6",
   "metadata": {},
   "source": [
    "## Wrapping Everything for the FPAA Case"
   ]
  },
  {
   "cell_type": "markdown",
   "id": "90e79829-8e88-448e-824b-f1bc72470d81",
   "metadata": {},
   "source": [
    "In the FPAA case, the provided unitary is just the Identity matrix! In addition, we provide both projector-controlled phase functions for the initial and target state rotations:"
   ]
  },
  {
   "cell_type": "code",
   "execution_count": 5,
   "id": "863fda93-7371-4265-a02e-8da9939e659e",
   "metadata": {
    "execution": {
     "iopub.execute_input": "2025-03-27T13:37:35.248958Z",
     "iopub.status.busy": "2025-03-27T13:37:35.248863Z",
     "iopub.status.idle": "2025-03-27T13:37:35.251418Z",
     "shell.execute_reply": "2025-03-27T13:37:35.251159Z"
    }
   },
   "outputs": [],
   "source": [
    "@qfunc\n",
    "def qsvt_fpaa(\n",
    "    phase_seq: CArray[CReal],\n",
    "    arith_oracle: QCallable[QArray[QBit], QBit],\n",
    "    state: QArray[QBit],\n",
    "    aux: Output[QBit],\n",
    ") -> None:\n",
    "    allocate(1, aux)\n",
    "\n",
    "    my_qsvt(\n",
    "        phase_seq,\n",
    "        lambda phase, state, aux: initial_state_rot(phase, state, aux),\n",
    "        lambda phase, state, aux: target_state_rot(phase, arith_oracle, state, aux),\n",
    "        lambda state: IDENTITY(target=state),\n",
    "        state,\n",
    "        aux,\n",
    "    )"
   ]
  },
  {
   "cell_type": "markdown",
   "id": "640e9b8d-90eb-4caa-83d4-6f87be59a15f",
   "metadata": {},
   "source": [
    "## Getting the Phase Sequence for the Sign Function"
   ]
  },
  {
   "cell_type": "markdown",
   "id": "62190792-6bca-434e-b5cf-e0a03cd4aac0",
   "metadata": {
    "tags": []
   },
   "source": [
    "We use the `pyqsp` package to receive the phases of the rotation sequence and get the coefficient of the sign function directly, based on the ERFC approximation:"
   ]
  },
  {
   "cell_type": "code",
   "execution_count": 6,
   "id": "73d83af6-8d2c-4e8a-b392-1ba337f74ca0",
   "metadata": {
    "execution": {
     "iopub.execute_input": "2025-03-27T13:37:35.252919Z",
     "iopub.status.busy": "2025-03-27T13:37:35.252793Z",
     "iopub.status.idle": "2025-03-27T13:37:35.264313Z",
     "shell.execute_reply": "2025-03-27T13:37:35.263985Z"
    },
    "tags": []
   },
   "outputs": [
    {
     "name": "stdout",
     "output_type": "stream",
     "text": [
      "[pyqsp.poly.PolySign] degree=25, delta=10\n",
      "[PolyTaylorSeries] max [0.89999873] is at [1.]: normalizing\n",
      "[PolyTaylorSeries] average error = 0.0962788793562509 in the domain [-1, 1] using degree 25\n"
     ]
    }
   ],
   "source": [
    "# The following code assumes pyqsp version 0.1.6\n",
    "# !pip install pyqsp==0.1.6\n",
    "import pyqsp\n",
    "\n",
    "DEGREE = 25\n",
    "X_BASIS = True\n",
    "\n",
    "pg = pyqsp.poly.PolySign()\n",
    "pcoefs, scale = pg.generate(\n",
    "    degree=DEGREE, delta=10, ensure_bounded=True, return_scale=True\n",
    ")"
   ]
  },
  {
   "cell_type": "code",
   "execution_count": 7,
   "id": "267d3e27-135b-4167-b6b6-8a06a8a99aaa",
   "metadata": {
    "execution": {
     "iopub.execute_input": "2025-03-27T13:37:35.265828Z",
     "iopub.status.busy": "2025-03-27T13:37:35.265589Z",
     "iopub.status.idle": "2025-03-27T13:37:35.359151Z",
     "shell.execute_reply": "2025-03-27T13:37:35.358825Z"
    },
    "tags": []
   },
   "outputs": [
    {
     "data": {
      "image/png": "[encoded data removed]",
      "text/plain": [
       "<Figure size 800x500 with 1 Axes>"
      ]
     },
     "metadata": {},
     "output_type": "display_data"
    }
   ],
   "source": [
    "import numpy as np\n",
    "from pyqsp.angle_sequence import Polynomial, QuantumSignalProcessingPhases\n",
    "\n",
    "poly = Polynomial(pcoefs)\n",
    "measurement = \"x\"\n",
    "ang_seq = QuantumSignalProcessingPhases(\n",
    "    poly, signal_operator=\"Wx\", method=\"laurent\", measurement=measurement\n",
    ")\n",
    "pyqsp.response.PlotQSPResponse(ang_seq, signal_operator=\"Wx\", measurement=measurement)"
   ]
  },
  {
   "cell_type": "markdown",
   "id": "4835e5a8-5e24-44bf-a3ee-087675d6a60a",
   "metadata": {},
   "source": [
    "As $R(a)=-i*e^{i\\frac{\\pi}{4}Z}W(a)e^{i\\frac{\\pi}{4}Z}$ and we have an odd number of rotations, we get an $i$ phase for our polynomial, so we get $Im(P(a))$ instead of the real part. So we get the result in the $|1\\rangle$ state in the ancilla. However, we can fix it by adding an $\\pi/2$ phase to the last or first rotation."
   ]
  },
  {
   "cell_type": "code",
   "execution_count": 8,
   "id": "de17bdc1-b753-40ca-b8f0-abe625eae462",
   "metadata": {
    "execution": {
     "iopub.execute_input": "2025-03-27T13:37:35.360954Z",
     "iopub.status.busy": "2025-03-27T13:37:35.360832Z",
     "iopub.status.idle": "2025-03-27T13:37:35.363630Z",
     "shell.execute_reply": "2025-03-27T13:37:35.363346Z"
    },
    "tags": []
   },
   "outputs": [],
   "source": [
    "#### change the R(x) to W(x), as the phases are in the W(x) conventions\n",
    "phases = np.array(ang_seq)\n",
    "phases[1:-1] = phases[1:-1] - np.pi / 2\n",
    "phases[0] = phases[0] - np.pi / 4\n",
    "phases[-1] = phases[-1] + (2 * (len(phases) - 1) - 1) * np.pi / 4\n",
    "\n",
    "phases = (\n",
    "    -2 * phases\n",
    ")  # verify conventions. minus is due to exp(-i*phi*z) in qsvt in comparison to qsp"
   ]
  },
  {
   "cell_type": "markdown",
   "id": "2bee148a-9f0b-415f-a64a-173e2b23ceda",
   "metadata": {},
   "source": [
    "## Creating the Full QSVT Model"
   ]
  },
  {
   "cell_type": "code",
   "execution_count": 9,
   "id": "42952ee7-7fe8-4474-afe6-9f6de881fbd7",
   "metadata": {
    "execution": {
     "iopub.execute_input": "2025-03-27T13:37:35.365349Z",
     "iopub.status.busy": "2025-03-27T13:37:35.365237Z",
     "iopub.status.idle": "2025-03-27T13:37:35.367912Z",
     "shell.execute_reply": "2025-03-27T13:37:35.367614Z"
    },
    "tags": []
   },
   "outputs": [],
   "source": [
    "@qfunc\n",
    "def main(state: Output[OracleVars], aux: Output[QBit]):\n",
    "    allocate(state.size, state)\n",
    "    hadamard_transform(state)\n",
    "\n",
    "    qsvt_fpaa(\n",
    "        phase_seq=list(phases),\n",
    "        arith_oracle=arith_equation,\n",
    "        state=state,\n",
    "        aux=aux,\n",
    "    )"
   ]
  },
  {
   "cell_type": "markdown",
   "id": "6493595c-d92d-4470-865c-367b1ba0e662",
   "metadata": {},
   "source": [
    "## Synthesizing and Executing on a Simulator"
   ]
  },
  {
   "cell_type": "markdown",
   "id": "e1de3b81-2152-4ecf-9cd4-97be748561f9",
   "metadata": {},
   "source": [
    "We use the Classiq synthesis engine to translate the model to a quantum circuit, and execute on the Classiq simulator:"
   ]
  },
  {
   "cell_type": "code",
   "execution_count": 10,
   "id": "8591b0f2-d81a-4fbd-8f95-e6f0017f7b6e",
   "metadata": {
    "execution": {
     "iopub.execute_input": "2025-03-27T13:37:35.369689Z",
     "iopub.status.busy": "2025-03-27T13:37:35.369586Z",
     "iopub.status.idle": "2025-03-27T13:37:35.435422Z",
     "shell.execute_reply": "2025-03-27T13:37:35.435077Z"
    }
   },
   "outputs": [],
   "source": [
    "from classiq.execution import (\n",
    "    ClassiqBackendPreferences,\n",
    "    ClassiqSimulatorBackendNames,\n",
    "    ExecutionPreferences,\n",
    ")\n",
    "\n",
    "constraints = Constraints(max_width=12)\n",
    "\n",
    "NUM_SHOTS = 1000\n",
    "# we will want to execute this qmod on a state-vector simulator:\n",
    "execution_preferences = ExecutionPreferences(\n",
    "    num_shots=NUM_SHOTS,\n",
    "    backend_preferences=ClassiqBackendPreferences(\n",
    "        backend_name=ClassiqSimulatorBackendNames.SIMULATOR\n",
    "    ),\n",
    ")\n",
    "\n",
    "qmod = create_model(\n",
    "    main,\n",
    "    constraints,\n",
    "    execution_preferences,\n",
    "    out_file=\"qsvt_fixed_point_amplitude_amplification\",\n",
    ")"
   ]
  },
  {
   "cell_type": "code",
   "execution_count": 11,
   "id": "69c827b2-0330-40d3-af08-1d669e8c43a5",
   "metadata": {
    "execution": {
     "iopub.execute_input": "2025-03-27T13:37:35.437315Z",
     "iopub.status.busy": "2025-03-27T13:37:35.437207Z",
     "iopub.status.idle": "2025-03-27T13:39:38.466849Z",
     "shell.execute_reply": "2025-03-27T13:39:38.466393Z"
    },
    "tags": []
   },
   "outputs": [
    {
     "name": "stdout",
     "output_type": "stream",
     "text": [
      "Opening: https://platform.classiq.io/circuit/2utzhe56cXliowxgPaWbWvfPxoY?login=True&version=0.73.0\n",
      "https://platform.classiq.io/circuit/2utzhe56cXliowxgPaWbWvfPxoY?login=True&version=0.73.0\n"
     ]
    }
   ],
   "source": [
    "qprog = synthesize(qmod)\n",
    "show(qprog)"
   ]
  },
  {
   "cell_type": "markdown",
   "id": "762aec30-4746-4632-b3b4-c104cab731a2",
   "metadata": {},
   "source": [
    "Execute the circuit:"
   ]
  },
  {
   "cell_type": "code",
   "execution_count": 12,
   "id": "4f0678db-c669-420a-8e17-b071e4b35173",
   "metadata": {
    "execution": {
     "iopub.execute_input": "2025-03-27T13:39:38.468629Z",
     "iopub.status.busy": "2025-03-27T13:39:38.468226Z",
     "iopub.status.idle": "2025-03-27T13:39:47.086815Z",
     "shell.execute_reply": "2025-03-27T13:39:47.085253Z"
    },
    "tags": []
   },
   "outputs": [],
   "source": [
    "result = execute(qprog).result_value()"
   ]
  },
  {
   "cell_type": "code",
   "execution_count": 13,
   "id": "93e7a0d5-ca40-4ffa-936c-da8a750408c2",
   "metadata": {
    "execution": {
     "iopub.execute_input": "2025-03-27T13:39:47.091413Z",
     "iopub.status.busy": "2025-03-27T13:39:47.091090Z",
     "iopub.status.idle": "2025-03-27T13:39:47.099338Z",
     "shell.execute_reply": "2025-03-27T13:39:47.098354Z"
    },
    "tags": []
   },
   "outputs": [
    {
     "name": "stdout",
     "output_type": "stream",
     "text": [
      "a: 2, b: 1, c: 4, aux: 0, equation_result: True, counts=420\n",
      "a: 3, b: 0, c: 5, aux: 0, equation_result: True, counts=416\n",
      "Measured good shots: 836\n"
     ]
    }
   ],
   "source": [
    "def equation(a, b, c):\n",
    "    return ((a + b) == 3) and ((c - a) == 2)\n",
    "\n",
    "\n",
    "measured_good_shots = 0\n",
    "\n",
    "for r in result.parsed_counts:\n",
    "    a, b, c, aux = (\n",
    "        r.state[\"state\"][\"a\"],\n",
    "        r.state[\"state\"][\"b\"],\n",
    "        r.state[\"state\"][\"c\"],\n",
    "        r.state[\"aux\"],\n",
    "    )\n",
    "    if equation(a, b, c) and (aux == 0):\n",
    "        print(\n",
    "            f\"a: {a}, b: {b}, c: {c}, aux: {aux}, equation_result: {equation(a, b, c)}, counts={r.shots}\"\n",
    "        )\n",
    "        measured_good_shots += r.shots\n",
    "\n",
    "print(\"Measured good shots:\", measured_good_shots)"
   ]
  },
  {
   "cell_type": "markdown",
   "id": "ddb24bd0-ae8d-4b2e-9d4b-fc6aec0cd298",
   "metadata": {},
   "source": [
    "What do we expect?\n",
    "\n",
    "We need to substitute the amplitude of $|s\\rangle\\langle t|$ in $P(x)$:"
   ]
  },
  {
   "cell_type": "code",
   "execution_count": 14,
   "id": "d4387720-27dc-45ac-9938-98c9fceda58f",
   "metadata": {
    "execution": {
     "iopub.execute_input": "2025-03-27T13:39:47.101602Z",
     "iopub.status.busy": "2025-03-27T13:39:47.101381Z",
     "iopub.status.idle": "2025-03-27T13:39:47.104397Z",
     "shell.execute_reply": "2025-03-27T13:39:47.103955Z"
    },
    "tags": []
   },
   "outputs": [
    {
     "name": "stdout",
     "output_type": "stream",
     "text": [
      "Expected good shots: 832.9873728406709\n"
     ]
    }
   ],
   "source": [
    "p_good_shot = poly(np.sqrt(2 / 2**6)) ** 2\n",
    "print(\"Expected good shots:\", NUM_SHOTS * p_good_shot)"
   ]
  },
  {
   "cell_type": "markdown",
   "id": "0af1b8bf-2e53-4c4b-bb31-27b7463bc245",
   "metadata": {},
   "source": [
    "Indeed, we received the expected result according to the polynomial we created with the QSVT sequence:"
   ]
  },
  {
   "cell_type": "code",
   "execution_count": 15,
   "id": "9d366c6f-79fa-4675-9b8e-c852fff436f6",
   "metadata": {
    "execution": {
     "iopub.execute_input": "2025-03-27T13:39:47.105861Z",
     "iopub.status.busy": "2025-03-27T13:39:47.105723Z",
     "iopub.status.idle": "2025-03-27T13:39:47.209964Z",
     "shell.execute_reply": "2025-03-27T13:39:47.209639Z"
    }
   },
   "outputs": [],
   "source": [
    "import scipy\n",
    "\n",
    "assert np.isclose(\n",
    "    measured_good_shots,\n",
    "    NUM_SHOTS * p_good_shot,\n",
    "    atol=5 * scipy.stats.binom.std(NUM_SHOTS, p_good_shot),\n",
    ")"
   ]
  },
  {
   "cell_type": "markdown",
   "id": "982cd6a4-7abc-4f87-a00d-12e5445cc94b",
   "metadata": {},
   "source": [
    "## References\n",
    "\n",
    "<a id='grand'>[1]</a>: [Martyn JM, Rossi ZM, Tan AK, Chuang IL. Grand unification of quantum algorithms. PRX Quantum. 2021 Dec 3;2(4):040203.](https://journals.aps.org/prxquantum/abstract/10.1103/PRXQuantum.2.040203)\n"
   ]
  }
 ],
 "metadata": {
  "kernelspec": {
   "display_name": "Python 3 (ipykernel)",
   "language": "python",
   "name": "python3"
  },
  "language_info": {
   "codemirror_mode": {
    "name": "ipython",
    "version": 3
   },
   "file_extension": ".py",
   "mimetype": "text/x-python",
   "name": "python",
   "nbconvert_exporter": "python",
   "pygments_lexer": "ipython3",
   "version": "3.11.7"
  }
 },
 "nbformat": 4,
 "nbformat_minor": 5
}
