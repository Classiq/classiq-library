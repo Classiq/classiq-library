{
 "cells": [
  {
   "cell_type": "markdown",
   "id": "03995d6e-9a58-4c26-9b9a-a789cb90dd90",
   "metadata": {},
   "source": [
    "# Using QSVT for fixed-point amplitude amplification"
   ]
  },
  {
   "cell_type": "markdown",
   "id": "fdf4c557-fbf3-43ad-a840-4d25a038931e",
   "metadata": {},
   "source": [
    "This demo will show how to use the QSVT framework for search problems. Specifically, we will implement fixed-point amplitude amplification (FPAA). In FPAA, we do not know in advance the concentration of solutions to the search problem, want to sample a solution with high probability. In contrast, for the original grover search algorithm, too much iterations might 'overshoot'.\n",
    "\n",
    "The demo is based on the paper [Grand unification of quantum algorithms](#grand).\n",
    "\n",
    "Given $|s\\rangle$ the initial state and $|t\\rangle$ the 'good' states, we get an effective block encoding of a 1-dimensional matrix $A=|t\\rangle\\langle s|$.\n",
    "\n",
    "Given that  $a = \\langle s|t\\rangle\\gt0$, we want to amplify $a$. The signal operator $U$ here will be $I$ (and also $\\dagger{U}$). Now we implement 2 projector-rotations - one in '$|s\\rangle$' space and one in '$|t\\rangle$' space, each one around the given state, giving phase to the specific state."
   ]
  },
  {
   "cell_type": "markdown",
   "id": "170f965a-4bf2-4a4a-8734-03e4d1c6e0b0",
   "metadata": {
    "tags": []
   },
   "source": [
    "### Defining the QSVT circuit for the problem"
   ]
  },
  {
   "cell_type": "markdown",
   "id": "e456f39b-39a5-4232-9bbf-fbc6224dfad7",
   "metadata": {},
   "source": [
    "We start with the general qsvt framework definition. It accepts a unitary which block-encode a matrix together with projector-controlled-phase functions which rotate the state around each of the subspaces where the matrix is encoded.\n",
    "\n",
    "It applies the `qsvt_step` multiple times, iterating over the rotation angles provided which encode the polynomial transformation.\n",
    "Notice - The last step is quite tricky and depend on the specific transformation we wish to perform. Here the code is suitable for the FP Amplitude Amplification case. Also - we wrap the auxilliary qubit with $H$ gates."
   ]
  },
  {
   "cell_type": "code",
   "execution_count": 1,
   "id": "352c9910-50ed-4560-b371-a94992ca76b0",
   "metadata": {
    "execution": {
     "iopub.execute_input": "2024-05-07T14:31:33.089927Z",
     "iopub.status.busy": "2024-05-07T14:31:33.087719Z",
     "iopub.status.idle": "2024-05-07T14:31:35.868598Z",
     "shell.execute_reply": "2024-05-07T14:31:35.867923Z"
    }
   },
   "outputs": [],
   "source": [
    "from classiq import QArray, QBit, QNum, qfunc\n",
    "from classiq.qmod import (\n",
    "    IDENTITY,\n",
    "    RZ,\n",
    "    CArray,\n",
    "    CInt,\n",
    "    CReal,\n",
    "    H,\n",
    "    QCallable,\n",
    "    X,\n",
    "    allocate,\n",
    "    apply_to_all,\n",
    "    control,\n",
    "    hadamard_transform,\n",
    "    if_,\n",
    "    invert,\n",
    "    repeat,\n",
    ")\n",
    "from classiq.qmod.symbolic import logical_and\n",
    "\n",
    "\n",
    "@qfunc\n",
    "def my_qsvt_step(\n",
    "    phase_seq: CArray[CReal],\n",
    "    index: CInt,\n",
    "    proj_ctrl_phase_1: QCallable[CReal, QArray[QBit], QBit],\n",
    "    proj_ctrl_phase_2: QCallable[CReal, QArray[QBit], QBit],\n",
    "    u: QCallable[QArray[QBit]],\n",
    "    qbv_reg: QArray[QBit],\n",
    "    qbv_aux: QBit,\n",
    "):\n",
    "    proj_ctrl_phase_1(phase_seq[2 * index], qbv_reg, qbv_aux)\n",
    "    u(qbv_reg)\n",
    "    proj_ctrl_phase_2(phase_seq[2 * index + 1], qbv_reg, qbv_aux)\n",
    "\n",
    "    if_(\n",
    "        condition=2 * index + 2 == phase_seq.len,\n",
    "        then=lambda: IDENTITY(qbv_reg),\n",
    "        else_=lambda: invert(lambda: u(qbv_reg)),\n",
    "    )\n",
    "\n",
    "\n",
    "@qfunc\n",
    "def my_qsvt(\n",
    "    phase_seq: CArray[CReal],\n",
    "    proj_ctrl_phase_1: QCallable[CReal, QArray[QBit], QBit],\n",
    "    proj_ctrl_phase_2: QCallable[CReal, QArray[QBit], QBit],\n",
    "    u: QCallable[QArray[QBit]],\n",
    "    qbv_reg: QArray[QBit],\n",
    "    qbv_aux: QBit,\n",
    ") -> None:\n",
    "    H(qbv_aux)\n",
    "\n",
    "    repeat(\n",
    "        count=phase_seq.len / 2,\n",
    "        iteration=lambda index: my_qsvt_step(\n",
    "            phase_seq, index, proj_ctrl_phase_1, proj_ctrl_phase_2, u, qbv_reg, qbv_aux\n",
    "        ),\n",
    "    )\n",
    "\n",
    "    H(qbv_aux)"
   ]
  },
  {
   "cell_type": "markdown",
   "id": "ba2ae29c-e041-45a3-abf2-be7da1814650",
   "metadata": {},
   "source": [
    "## Initial state z-rotation - rotation around $|s\\rangle$"
   ]
  },
  {
   "cell_type": "code",
   "execution_count": 2,
   "id": "2066e586-3b7e-4a4c-b1eb-42499026a509",
   "metadata": {
    "execution": {
     "iopub.execute_input": "2024-05-07T14:31:35.871793Z",
     "iopub.status.busy": "2024-05-07T14:31:35.871221Z",
     "iopub.status.idle": "2024-05-07T14:31:35.875100Z",
     "shell.execute_reply": "2024-05-07T14:31:35.874586Z"
    }
   },
   "outputs": [],
   "source": [
    "def initial_state_rot(phase: CReal, state: QArray[QBit], aux: QBit):\n",
    "    hadamard_transform(state)\n",
    "    apply_to_all(X, state)\n",
    "    control(ctrl=state, operand=lambda: X(aux))\n",
    "    RZ(phase, aux)\n",
    "    control(ctrl=state, operand=lambda: X(aux))\n",
    "    apply_to_all(X, state)\n",
    "    hadamard_transform(state)"
   ]
  },
  {
   "cell_type": "markdown",
   "id": "f93e8ef7-cc2f-423b-9bbe-8365c7d0b3ba",
   "metadata": {},
   "source": [
    "## Good states z-rotation - rotation around $|t\\rangle$"
   ]
  },
  {
   "cell_type": "code",
   "execution_count": 3,
   "id": "8fe5fdfa-b63a-4a5b-a6db-d947da2e6f63",
   "metadata": {
    "execution": {
     "iopub.execute_input": "2024-05-07T14:31:35.877471Z",
     "iopub.status.busy": "2024-05-07T14:31:35.877060Z",
     "iopub.status.idle": "2024-05-07T14:31:35.880346Z",
     "shell.execute_reply": "2024-05-07T14:31:35.879911Z"
    }
   },
   "outputs": [],
   "source": [
    "def target_state_rot(\n",
    "    phase: CReal,\n",
    "    arith_oracle: QCallable[QArray[QBit], QBit],\n",
    "    state: QArray[QBit],\n",
    "    aux: QBit,\n",
    "):\n",
    "    arith_oracle(state, aux)\n",
    "    RZ(phase, aux)\n",
    "    arith_oracle(state, aux)"
   ]
  },
  {
   "cell_type": "markdown",
   "id": "40488ffb-ebd4-49b4-aa24-7ae212150202",
   "metadata": {},
   "source": [
    "## Defining the arithmetic Oracle"
   ]
  },
  {
   "cell_type": "code",
   "execution_count": 4,
   "id": "dd55e04b-443d-409c-bd3a-8e57aeedef95",
   "metadata": {
    "execution": {
     "iopub.execute_input": "2024-05-07T14:31:35.883461Z",
     "iopub.status.busy": "2024-05-07T14:31:35.883164Z",
     "iopub.status.idle": "2024-05-07T14:31:35.892579Z",
     "shell.execute_reply": "2024-05-07T14:31:35.891639Z"
    },
    "tags": []
   },
   "outputs": [],
   "source": [
    "EQUATION = \"(a + b) == 3 and (c - a) == 2\"\n",
    "\n",
    "REG_SIZES = {\"a\": 2, \"b\": 1, \"c\": 3}\n",
    "REG_SIZE = sum(REG_SIZES.values())\n",
    "\n",
    "\n",
    "@qfunc\n",
    "def arith_equation(a: QNum, b: QNum, c: QNum, res: QBit):\n",
    "    res ^= logical_and((a + b) == 3, (c - a) == 2)"
   ]
  },
  {
   "cell_type": "markdown",
   "id": "d727b48b-672d-4734-8b98-348943ce4fb6",
   "metadata": {},
   "source": [
    "## Wrapping everything together for the FPAA case"
   ]
  },
  {
   "cell_type": "markdown",
   "id": "90e79829-8e88-448e-824b-f1bc72470d81",
   "metadata": {},
   "source": [
    "In the FPAA case, the provided unitary is just the Identity matrix! In addition, we provide both projector-controlled phase functions - the initial and target state rotations."
   ]
  },
  {
   "cell_type": "code",
   "execution_count": 5,
   "id": "863fda93-7371-4265-a02e-8da9939e659e",
   "metadata": {
    "execution": {
     "iopub.execute_input": "2024-05-07T14:31:35.897345Z",
     "iopub.status.busy": "2024-05-07T14:31:35.896211Z",
     "iopub.status.idle": "2024-05-07T14:31:35.904983Z",
     "shell.execute_reply": "2024-05-07T14:31:35.904370Z"
    }
   },
   "outputs": [],
   "source": [
    "from classiq.qmod import Output\n",
    "\n",
    "\n",
    "@qfunc\n",
    "def qsvt_fpaa(\n",
    "    phase_seq: CArray[CReal],\n",
    "    arith_oracle: QCallable[QArray[QBit], QBit],\n",
    "    qbv_reg: QArray[QBit],\n",
    "    qbv_aux: Output[QBit],\n",
    ") -> None:\n",
    "    allocate(1, qbv_aux)\n",
    "\n",
    "    my_qsvt(\n",
    "        phase_seq,\n",
    "        lambda phase, state, aux: initial_state_rot(phase, state, aux),\n",
    "        lambda phase, state, aux: target_state_rot(phase, arith_oracle, state, aux),\n",
    "        lambda state: IDENTITY(target=state),\n",
    "        qbv_reg,\n",
    "        qbv_aux,\n",
    "    )"
   ]
  },
  {
   "cell_type": "markdown",
   "id": "640e9b8d-90eb-4caa-83d4-6f87be59a15f",
   "metadata": {},
   "source": [
    "## get the phase sequence for the sign function"
   ]
  },
  {
   "cell_type": "markdown",
   "id": "62190792-6bca-434e-b5cf-e0a03cd4aac0",
   "metadata": {
    "tags": []
   },
   "source": [
    "Now we will use the package `pyqsp` in order to get the phases of the rotation sequence.\n",
    "Get directly the coef of the sign function, based on the erfc approximation."
   ]
  },
  {
   "cell_type": "code",
   "execution_count": 6,
   "id": "73d83af6-8d2c-4e8a-b392-1ba337f74ca0",
   "metadata": {
    "execution": {
     "iopub.execute_input": "2024-05-07T14:31:35.909571Z",
     "iopub.status.busy": "2024-05-07T14:31:35.909192Z",
     "iopub.status.idle": "2024-05-07T14:31:35.930875Z",
     "shell.execute_reply": "2024-05-07T14:31:35.929879Z"
    },
    "tags": []
   },
   "outputs": [
    {
     "name": "stdout",
     "output_type": "stream",
     "text": [
      "[pyqsp.poly.PolySign] degree=25, delta=10\n",
      "[PolyTaylorSeries] max [0.89999873] is at [1.]: normalizing\n",
      "[PolyTaylorSeries] average error = 0.0962788793562509 in the domain [-1, 1] using degree 25\n"
     ]
    }
   ],
   "source": [
    "import pyqsp\n",
    "\n",
    "DEGREE = 25\n",
    "X_BASIS = True\n",
    "\n",
    "pg = pyqsp.poly.PolySign()\n",
    "pcoefs, scale = pg.generate(\n",
    "    degree=DEGREE, delta=10, ensure_bounded=True, return_scale=True\n",
    ")"
   ]
  },
  {
   "cell_type": "code",
   "execution_count": 7,
   "id": "267d3e27-135b-4167-b6b6-8a06a8a99aaa",
   "metadata": {
    "execution": {
     "iopub.execute_input": "2024-05-07T14:31:35.935069Z",
     "iopub.status.busy": "2024-05-07T14:31:35.933978Z",
     "iopub.status.idle": "2024-05-07T14:31:36.300678Z",
     "shell.execute_reply": "2024-05-07T14:31:36.299925Z"
    },
    "tags": []
   },
   "outputs": [
    {
     "data": {
      "image/png": "[encoded data removed]",
      "text/plain": [
       "<Figure size 800x500 with 1 Axes>"
      ]
     },
     "metadata": {},
     "output_type": "display_data"
    }
   ],
   "source": [
    "import numpy as np\n",
    "from pyqsp.angle_sequence import Polynomial, QuantumSignalProcessingPhases\n",
    "\n",
    "poly = Polynomial(pcoefs)\n",
    "measurement = \"x\"\n",
    "ang_seq = QuantumSignalProcessingPhases(\n",
    "    poly, signal_operator=\"Wx\", method=\"laurent\", measurement=measurement\n",
    ")\n",
    "pyqsp.response.PlotQSPResponse(ang_seq, signal_operator=\"Wx\", measurement=measurement)"
   ]
  },
  {
   "cell_type": "markdown",
   "id": "4835e5a8-5e24-44bf-a3ee-087675d6a60a",
   "metadata": {},
   "source": [
    "As $R(a)=-i*e^{i\\frac{\\pi}{4}Z}W(a)e^{i\\frac{\\pi}{4}Z}$ and we have odd number of rotations, we get an $i$ phase to our polynomial, so we get $Im(P(a))$ instead of the real part. So we will get the result in the $|1\\rangle$ state in the ancilla. However, we can fix it by adding $\\pi/2$ phase to the last or first rotation."
   ]
  },
  {
   "cell_type": "code",
   "execution_count": 8,
   "id": "de17bdc1-b753-40ca-b8f0-abe625eae462",
   "metadata": {
    "execution": {
     "iopub.execute_input": "2024-05-07T14:31:36.305612Z",
     "iopub.status.busy": "2024-05-07T14:31:36.304368Z",
     "iopub.status.idle": "2024-05-07T14:31:36.310713Z",
     "shell.execute_reply": "2024-05-07T14:31:36.310015Z"
    },
    "tags": []
   },
   "outputs": [],
   "source": [
    "#### change the R(x) to W(x), as the phases are in the W(x) conventions\n",
    "phases = np.array(ang_seq)\n",
    "phases = phases - np.pi / 2\n",
    "phases[0] = phases[0] + np.pi / 4\n",
    "phases[-1] = phases[-1] + np.pi / 4 + np.pi / 2\n",
    "\n",
    "phases = (\n",
    "    -2 * phases\n",
    ")  # verify conventions. minus is due to exp(-i*phi*z) in qsvt in comparison to qsp"
   ]
  },
  {
   "cell_type": "markdown",
   "id": "2bee148a-9f0b-415f-a64a-173e2b23ceda",
   "metadata": {},
   "source": [
    "## Create the full QSVT Model"
   ]
  },
  {
   "cell_type": "code",
   "execution_count": 9,
   "id": "42952ee7-7fe8-4474-afe6-9f6de881fbd7",
   "metadata": {
    "execution": {
     "iopub.execute_input": "2024-05-07T14:31:36.315276Z",
     "iopub.status.busy": "2024-05-07T14:31:36.314111Z",
     "iopub.status.idle": "2024-05-07T14:31:36.321486Z",
     "shell.execute_reply": "2024-05-07T14:31:36.320762Z"
    },
    "tags": []
   },
   "outputs": [],
   "source": [
    "from classiq import Constraints, create_model, synthesize\n",
    "\n",
    "\n",
    "@qfunc\n",
    "def main(state: Output[QArray[QBit]], aux: Output[QBit]):\n",
    "    allocate(REG_SIZE, state)\n",
    "\n",
    "    hadamard_transform(state)\n",
    "    qsvt_fpaa(\n",
    "        phase_seq=list(phases),\n",
    "        arith_oracle=lambda state_reg, aux_reg: arith_equation(\n",
    "            state_reg[0 : REG_SIZES[\"a\"]],\n",
    "            state_reg[REG_SIZES[\"a\"] : REG_SIZES[\"a\"] + REG_SIZES[\"b\"]],\n",
    "            state_reg[REG_SIZES[\"a\"] + REG_SIZES[\"b\"] : REG_SIZE],\n",
    "            aux_reg,\n",
    "        ),\n",
    "        qbv_reg=state,\n",
    "        qbv_aux=aux,\n",
    "    )"
   ]
  },
  {
   "cell_type": "markdown",
   "id": "6493595c-d92d-4470-865c-367b1ba0e662",
   "metadata": {},
   "source": [
    "## Synthesis and execution on a simulator"
   ]
  },
  {
   "cell_type": "markdown",
   "id": "e1de3b81-2152-4ecf-9cd4-97be748561f9",
   "metadata": {},
   "source": [
    "We will use Classiq's synthesis engine to translate the model to a quantum circuit, and execute on Classiq's simulator"
   ]
  },
  {
   "cell_type": "code",
   "execution_count": 10,
   "id": "8591b0f2-d81a-4fbd-8f95-e6f0017f7b6e",
   "metadata": {
    "execution": {
     "iopub.execute_input": "2024-05-07T14:31:36.326397Z",
     "iopub.status.busy": "2024-05-07T14:31:36.324931Z",
     "iopub.status.idle": "2024-05-07T14:31:36.516252Z",
     "shell.execute_reply": "2024-05-07T14:31:36.515336Z"
    }
   },
   "outputs": [],
   "source": [
    "from classiq import (\n",
    "    create_model,\n",
    "    execute,\n",
    "    set_execution_preferences,\n",
    "    show,\n",
    "    synthesize,\n",
    "    write_qmod,\n",
    ")\n",
    "from classiq.execution import (\n",
    "    ClassiqBackendPreferences,\n",
    "    ClassiqSimulatorBackendNames,\n",
    "    ExecutionPreferences,\n",
    ")\n",
    "\n",
    "# convert the functions to a qmod model\n",
    "constraints = Constraints(max_width=12)\n",
    "qmod = create_model(main, constraints)\n",
    "\n",
    "NUM_SHOTS = 1000\n",
    "# we will want to execute this qmod on a state-vector simulator:\n",
    "execution_preferences = ExecutionPreferences(\n",
    "    num_shots=NUM_SHOTS,\n",
    "    backend_preferences=ClassiqBackendPreferences(\n",
    "        backend_name=ClassiqSimulatorBackendNames.SIMULATOR\n",
    "    ),\n",
    ")\n",
    "qmod = set_execution_preferences(qmod, execution_preferences)\n",
    "\n",
    "write_qmod(qmod, \"qsvt_fixed_point_amplitude_amplification\")"
   ]
  },
  {
   "cell_type": "code",
   "execution_count": 11,
   "id": "69c827b2-0330-40d3-af08-1d669e8c43a5",
   "metadata": {
    "execution": {
     "iopub.execute_input": "2024-05-07T14:31:36.519850Z",
     "iopub.status.busy": "2024-05-07T14:31:36.519627Z",
     "iopub.status.idle": "2024-05-07T14:32:52.629895Z",
     "shell.execute_reply": "2024-05-07T14:32:52.629168Z"
    },
    "tags": []
   },
   "outputs": [
    {
     "name": "stdout",
     "output_type": "stream",
     "text": [
      "Opening: https://platform.classiq.io/circuit/52d4df69-abbb-4410-847e-ea2e8fcb3cf4?version=0.41.0.dev39%2B79c8fd0855\n"
     ]
    }
   ],
   "source": [
    "qprog = synthesize(qmod)\n",
    "show(qprog)"
   ]
  },
  {
   "cell_type": "markdown",
   "id": "762aec30-4746-4632-b3b4-c104cab731a2",
   "metadata": {},
   "source": [
    "Execute the circuit:"
   ]
  },
  {
   "cell_type": "code",
   "execution_count": 12,
   "id": "4f0678db-c669-420a-8e17-b071e4b35173",
   "metadata": {
    "execution": {
     "iopub.execute_input": "2024-05-07T14:32:52.634302Z",
     "iopub.status.busy": "2024-05-07T14:32:52.632934Z",
     "iopub.status.idle": "2024-05-07T14:33:07.266667Z",
     "shell.execute_reply": "2024-05-07T14:33:07.265833Z"
    },
    "tags": []
   },
   "outputs": [],
   "source": [
    "from classiq.execution import ExecutionDetails\n",
    "\n",
    "raw_results = execute(qprog).result()\n",
    "results = raw_results[0].value"
   ]
  },
  {
   "cell_type": "code",
   "execution_count": 13,
   "id": "93e7a0d5-ca40-4ffa-936c-da8a750408c2",
   "metadata": {
    "execution": {
     "iopub.execute_input": "2024-05-07T14:33:07.271437Z",
     "iopub.status.busy": "2024-05-07T14:33:07.270773Z",
     "iopub.status.idle": "2024-05-07T14:33:07.282566Z",
     "shell.execute_reply": "2024-05-07T14:33:07.281885Z"
    },
    "tags": []
   },
   "outputs": [
    {
     "name": "stdout",
     "output_type": "stream",
     "text": [
      "a: 3, b: 0, c: 5, aux: 0, equation_result: True, counts=435\n",
      "a: 2, b: 1, c: 4, aux: 0, equation_result: True, counts=393\n",
      "Measured good shots: 828\n"
     ]
    }
   ],
   "source": [
    "def to_int(x):\n",
    "    return int(x[::-1], 2)\n",
    "\n",
    "\n",
    "def equation(a, b, c):\n",
    "    return eval(EQUATION)\n",
    "\n",
    "\n",
    "measured_good_shots = 0\n",
    "\n",
    "for keys, counts in results.counts_of_multiple_outputs([\"state\", \"aux\"]).items():\n",
    "    a, b, c, aux = (\n",
    "        to_int(keys[0][: REG_SIZES[\"a\"]]),\n",
    "        to_int(keys[0][REG_SIZES[\"a\"] : REG_SIZES[\"a\"] + REG_SIZES[\"b\"]]),\n",
    "        to_int(keys[0][-REG_SIZES[\"c\"] :]),\n",
    "        to_int(keys[1]),\n",
    "    )\n",
    "    if equation(a, b, c) and (aux == 0):\n",
    "        print(\n",
    "            f\"a: {a}, b: {b}, c: {c}, aux: {aux}, equation_result: {equation(a, b, c)}, counts={counts}\"\n",
    "        )\n",
    "        measured_good_shots += counts\n",
    "\n",
    "print(\"Measured good shots:\", measured_good_shots)"
   ]
  },
  {
   "cell_type": "markdown",
   "id": "ddb24bd0-ae8d-4b2e-9d4b-fc6aec0cd298",
   "metadata": {},
   "source": [
    "What do we expect?\n",
    "\n",
    "We need to subtitue the amplitude of $|s\\rangle\\langle t|$ in $P(x)$:"
   ]
  },
  {
   "cell_type": "code",
   "execution_count": 14,
   "id": "d4387720-27dc-45ac-9938-98c9fceda58f",
   "metadata": {
    "execution": {
     "iopub.execute_input": "2024-05-07T14:33:07.287126Z",
     "iopub.status.busy": "2024-05-07T14:33:07.285952Z",
     "iopub.status.idle": "2024-05-07T14:33:07.292662Z",
     "shell.execute_reply": "2024-05-07T14:33:07.292006Z"
    },
    "tags": []
   },
   "outputs": [
    {
     "name": "stdout",
     "output_type": "stream",
     "text": [
      "Expected good shots: 832.9873728406709\n"
     ]
    }
   ],
   "source": [
    "p_good_shot = poly(np.sqrt(2 / 2**6)) ** 2\n",
    "print(\"Expected good shots:\", NUM_SHOTS * p_good_shot)"
   ]
  },
  {
   "cell_type": "markdown",
   "id": "0af1b8bf-2e53-4c4b-bb31-27b7463bc245",
   "metadata": {},
   "source": [
    "Indeed, we got the expected result according to the polynomial we created with the QSVT sequence."
   ]
  },
  {
   "cell_type": "code",
   "execution_count": 15,
   "id": "9d366c6f-79fa-4675-9b8e-c852fff436f6",
   "metadata": {
    "execution": {
     "iopub.execute_input": "2024-05-07T14:33:07.297231Z",
     "iopub.status.busy": "2024-05-07T14:33:07.296014Z",
     "iopub.status.idle": "2024-05-07T14:33:07.490186Z",
     "shell.execute_reply": "2024-05-07T14:33:07.489502Z"
    }
   },
   "outputs": [],
   "source": [
    "import scipy\n",
    "\n",
    "assert np.isclose(\n",
    "    measured_good_shots,\n",
    "    NUM_SHOTS * p_good_shot,\n",
    "    atol=5 * scipy.stats.binom.std(NUM_SHOTS, p_good_shot),\n",
    ")"
   ]
  },
  {
   "cell_type": "markdown",
   "id": "982cd6a4-7abc-4f87-a00d-12e5445cc94b",
   "metadata": {},
   "source": [
    "## References\n",
    "\n",
    "<a id='grand'>[1]</a>: [Martyn JM, Rossi ZM, Tan AK, Chuang IL. Grand unification of quantum algorithms. PRX Quantum. 2021 Dec 3;2(4):040203.](https://journals.aps.org/prxquantum/abstract/10.1103/PRXQuantum.2.040203)\n"
   ]
  }
 ],
 "metadata": {
  "kernelspec": {
   "display_name": "Python 3 (ipykernel)",
   "language": "python",
   "name": "python3"
  },
  "language_info": {
   "codemirror_mode": {
    "name": "ipython",
    "version": 3
   },
   "file_extension": ".py",
   "mimetype": "text/x-python",
   "name": "python",
   "nbconvert_exporter": "python",
   "pygments_lexer": "ipython3",
   "version": "3.11.9"
  }
 },
 "nbformat": 4,
 "nbformat_minor": 5
}
