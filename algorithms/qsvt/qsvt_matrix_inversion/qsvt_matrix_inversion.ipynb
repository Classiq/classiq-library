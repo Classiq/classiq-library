{
 "cells": [
  {
   "cell_type": "markdown",
   "id": "d44fcc7d-37bb-4ecd-997e-a71168e6b8bb",
   "metadata": {},
   "source": [
    "# Using QSVT for Matrix Inversion"
   ]
  },
  {
   "cell_type": "markdown",
   "id": "824bed94-9040-4bf4-87dc-a0f84dc155dd",
   "metadata": {},
   "source": [
    "This notebook uses the Quantum Singular Value Transformation (QSVT) algorithm to solve the problem of matrix inversion.\n",
    "The demo is based on the [Grand unification of quantum algorithms](#grand) paper."
   ]
  },
  {
   "cell_type": "markdown",
   "id": "42f4d5f6-3527-4421-93ab-91343957969e",
   "metadata": {
    "tags": []
   },
   "source": [
    "## Problem Encoding"
   ]
  },
  {
   "cell_type": "markdown",
   "id": "df475c3d-8911-47c0-bae2-4ac812858238",
   "metadata": {},
   "source": [
    "We start by defining a specific problem. We can take a matrix that is not symmetric, in comparison to the HHL algorithm."
   ]
  },
  {
   "cell_type": "markdown",
   "id": "1853e4a5-d9d0-4678-999f-1537e00e88ad",
   "metadata": {
    "tags": []
   },
   "source": [
    "We encode $A$ in a larger unitary matrix. For simplicity, we just sample a random unitary U_a and take its first block as $A$."
   ]
  },
  {
   "cell_type": "code",
   "execution_count": 1,
   "id": "11ebea38-e9f7-4faa-a282-054520125a11",
   "metadata": {
    "ExecuteTime": {
     "end_time": "2024-04-10T09:50:03.904535Z",
     "start_time": "2024-04-10T09:50:03.779624Z"
    },
    "execution": {
     "iopub.execute_input": "2025-03-27T13:37:49.515646Z",
     "iopub.status.busy": "2025-03-27T13:37:49.515508Z",
     "iopub.status.idle": "2025-03-27T13:37:49.613558Z",
     "shell.execute_reply": "2025-03-27T13:37:49.612477Z"
    },
    "tags": []
   },
   "outputs": [
    {
     "name": "stdout",
     "output_type": "stream",
     "text": [
      "[[-0.05338002 -0.36103662 -0.54016489 -0.39026125]\n",
      " [-0.33304121  0.10648228  0.37346704 -0.33977916]\n",
      " [ 0.4167817  -0.75180519  0.17593867  0.20944773]\n",
      " [ 0.26891079 -0.05333795 -0.32668787 -0.33602829]]\n"
     ]
    }
   ],
   "source": [
    "import numpy as np\n",
    "import scipy\n",
    "\n",
    "# the size of the unitary which block encodes A\n",
    "REG_SIZE = 3\n",
    "\n",
    "\n",
    "def get_random_unitary(num_qubits, seed=4):\n",
    "    np.random.seed(seed)\n",
    "    X = np.random.rand(2**num_qubits, 2**num_qubits)\n",
    "    U, s, V = np.linalg.svd(X)\n",
    "    return U @ V.T\n",
    "\n",
    "\n",
    "U_a = get_random_unitary(REG_SIZE)\n",
    "\n",
    "A_dim = int(U_a.shape[0] / 2)\n",
    "A = U_a[:A_dim, :A_dim]\n",
    "print(A)"
   ]
  },
  {
   "cell_type": "markdown",
   "id": "e988a4aa-158a-4873-a021-e2968e300dd6",
   "metadata": {},
   "source": [
    "Make sure the singular values for A are smaller than 1:"
   ]
  },
  {
   "cell_type": "code",
   "execution_count": 2,
   "id": "f847189d-0bb3-4d51-9037-1d1af4fd4be2",
   "metadata": {
    "ExecuteTime": {
     "end_time": "2024-04-10T09:50:03.905078Z",
     "start_time": "2024-04-10T09:50:03.835377Z"
    },
    "execution": {
     "iopub.execute_input": "2025-03-27T13:37:49.615802Z",
     "iopub.status.busy": "2025-03-27T13:37:49.615609Z",
     "iopub.status.idle": "2025-03-27T13:37:49.618938Z",
     "shell.execute_reply": "2025-03-27T13:37:49.618608Z"
    },
    "tags": []
   },
   "outputs": [],
   "source": [
    "assert not (np.linalg.svd(A)[1] > 1).sum()"
   ]
  },
  {
   "cell_type": "code",
   "execution_count": 3,
   "id": "94590dad-6107-4ba7-aadd-21381e91ca0d",
   "metadata": {
    "ExecuteTime": {
     "end_time": "2024-04-10T09:50:03.905238Z",
     "start_time": "2024-04-10T09:50:03.838990Z"
    },
    "execution": {
     "iopub.execute_input": "2025-03-27T13:37:49.620845Z",
     "iopub.status.busy": "2025-03-27T13:37:49.620552Z",
     "iopub.status.idle": "2025-03-27T13:37:49.625822Z",
     "shell.execute_reply": "2025-03-27T13:37:49.625031Z"
    },
    "tags": []
   },
   "outputs": [
    {
     "name": "stdout",
     "output_type": "stream",
     "text": [
      "[0.         0.26726124 0.53452248 0.80178373]\n"
     ]
    }
   ],
   "source": [
    "b = np.arange(A_dim)\n",
    "b = b / np.linalg.norm(b)\n",
    "print(b)"
   ]
  },
  {
   "cell_type": "markdown",
   "id": "a996b498-270f-4f0e-8d68-2aaa388d1dd5",
   "metadata": {},
   "source": [
    "Verify $U_{a}$ is indeed unitary"
   ]
  },
  {
   "cell_type": "code",
   "execution_count": 4,
   "id": "26a5a9f1-de34-4f4b-bb6b-3fda8aacbadc",
   "metadata": {
    "ExecuteTime": {
     "end_time": "2024-04-10T09:50:03.905328Z",
     "start_time": "2024-04-10T09:50:03.842517Z"
    },
    "execution": {
     "iopub.execute_input": "2025-03-27T13:37:49.627921Z",
     "iopub.status.busy": "2025-03-27T13:37:49.627630Z",
     "iopub.status.idle": "2025-03-27T13:37:49.631405Z",
     "shell.execute_reply": "2025-03-27T13:37:49.630984Z"
    },
    "tags": []
   },
   "outputs": [],
   "source": [
    "assert np.allclose(U_a @ U_a.T, np.eye(U_a.shape[0]), rtol=1e-5, atol=1e-6)"
   ]
  },
  {
   "cell_type": "markdown",
   "id": "11a86ae0-e2d9-4149-a372-c704f9e6c0fa",
   "metadata": {},
   "source": [
    "Calculate the condition number $\\kappa=max(\\frac{1}{\\sigma_i})$:"
   ]
  },
  {
   "cell_type": "code",
   "execution_count": 5,
   "id": "51915b86-9616-4531-bc8e-5fb6ea41910c",
   "metadata": {
    "ExecuteTime": {
     "end_time": "2024-04-10T09:50:03.905430Z",
     "start_time": "2024-04-10T09:50:03.846368Z"
    },
    "execution": {
     "iopub.execute_input": "2025-03-27T13:37:49.633473Z",
     "iopub.status.busy": "2025-03-27T13:37:49.633331Z",
     "iopub.status.idle": "2025-03-27T13:37:49.636266Z",
     "shell.execute_reply": "2025-03-27T13:37:49.635770Z"
    },
    "tags": []
   },
   "outputs": [
    {
     "name": "stdout",
     "output_type": "stream",
     "text": [
      "3.459862838470871\n"
     ]
    }
   ],
   "source": [
    "kappa = max(1 / np.linalg.svd(A)[1])\n",
    "print(kappa)"
   ]
  },
  {
   "cell_type": "code",
   "execution_count": 6,
   "id": "46de84db-fc65-4ad0-b9c0-cdba0681ab05",
   "metadata": {
    "ExecuteTime": {
     "end_time": "2024-04-10T09:50:03.905596Z",
     "start_time": "2024-04-10T09:50:03.850200Z"
    },
    "execution": {
     "iopub.execute_input": "2025-03-27T13:37:49.637669Z",
     "iopub.status.busy": "2025-03-27T13:37:49.637433Z",
     "iopub.status.idle": "2025-03-27T13:37:49.643691Z",
     "shell.execute_reply": "2025-03-27T13:37:49.643222Z"
    },
    "tags": []
   },
   "outputs": [
    {
     "data": {
      "text/plain": [
       "array([0.99132079, 0.84978294, 0.52403662, 0.2890288 ])"
      ]
     },
     "execution_count": 6,
     "metadata": {},
     "output_type": "execute_result"
    }
   ],
   "source": [
    "np.linalg.svd(A)[1]"
   ]
  },
  {
   "cell_type": "markdown",
   "id": "9d95795a-c45b-4533-b7e0-2b410b824717",
   "metadata": {},
   "source": [
    "## Now for the Quantum Part!"
   ]
  },
  {
   "cell_type": "markdown",
   "id": "a7a50491-4447-4e42-9330-1416e14ff583",
   "metadata": {
    "tags": []
   },
   "source": [
    "### Defining the QSVT Circuit for the Problem"
   ]
  },
  {
   "cell_type": "markdown",
   "id": "8be8918a-b752-480e-ae63-9fe39151d23a",
   "metadata": {},
   "source": [
    "We start with the general QSVT framework definition. It accepts a unitary that block-encodes a matrix together with projector-controlled-cnot functions, which identify the block in which the matrix is encoded.\n",
    "\n",
    "It applies the `qsvt_step` multiple times, iterating over the rotation angles provided that encode the polynomial transformation.\n",
    "Note that the last step is quite tricky and depends on the specific transformation we wish to perform. Here the code is suitable for the matrix-inversion case. In addition, we wrap the auxilliary qubit with $H$ gates."
   ]
  },
  {
   "cell_type": "code",
   "execution_count": 7,
   "id": "04323c28-79a8-44b5-9531-782e36853511",
   "metadata": {
    "ExecuteTime": {
     "end_time": "2024-04-10T09:50:05.481927Z",
     "start_time": "2024-04-10T09:50:03.862462Z"
    },
    "collapsed": false,
    "execution": {
     "iopub.execute_input": "2025-03-27T13:37:49.645409Z",
     "iopub.status.busy": "2025-03-27T13:37:49.645271Z",
     "iopub.status.idle": "2025-03-27T13:37:51.359891Z",
     "shell.execute_reply": "2025-03-27T13:37:51.358928Z"
    },
    "jupyter": {
     "outputs_hidden": false
    }
   },
   "outputs": [],
   "source": [
    "from classiq import *\n",
    "from classiq.qmod.symbolic import floor\n",
    "\n",
    "\n",
    "@qfunc\n",
    "def my_projector_controlled_phase(\n",
    "    phase: CReal,\n",
    "    proj_cnot: QCallable[QArray[QBit], QBit],\n",
    "    state: QArray[QBit],\n",
    "    aux: QBit,\n",
    ") -> None:\n",
    "    proj_cnot(state, aux)\n",
    "    RZ(phase, aux)\n",
    "    proj_cnot(state, aux)\n",
    "\n",
    "\n",
    "@qfunc\n",
    "def my_qsvt_step(\n",
    "    phase1: CReal,\n",
    "    phase2: CReal,\n",
    "    proj_cnot_1: QCallable[QArray[QBit], QBit],\n",
    "    proj_cnot_2: QCallable[QArray[QBit], QBit],\n",
    "    u: QCallable[QArray[QBit]],\n",
    "    state: QArray[QBit],\n",
    "    aux: QBit,\n",
    "):\n",
    "    u(state)\n",
    "    my_projector_controlled_phase(phase1, proj_cnot_2, state, aux)\n",
    "    invert(lambda: u(state))\n",
    "    my_projector_controlled_phase(phase2, proj_cnot_1, state, aux)\n",
    "\n",
    "\n",
    "@qfunc\n",
    "def my_qsvt(\n",
    "    phase_seq: CArray[CReal],\n",
    "    proj_cnot_1: QCallable[QArray[QBit], QBit],\n",
    "    proj_cnot_2: QCallable[QArray[QBit], QBit],\n",
    "    u: QCallable[QArray[QBit]],\n",
    "    state: QArray[QBit],\n",
    "    aux: QBit,\n",
    ") -> None:\n",
    "    H(aux)\n",
    "\n",
    "    my_projector_controlled_phase(phase_seq[0], proj_cnot_1, state, aux)\n",
    "    repeat(\n",
    "        count=floor((phase_seq.len - 1) / 2),\n",
    "        iteration=lambda index: my_qsvt_step(\n",
    "            phase_seq[2 * index + 1],\n",
    "            phase_seq[2 * index + 2],\n",
    "            proj_cnot_1,\n",
    "            proj_cnot_2,\n",
    "            u,\n",
    "            state,\n",
    "            aux,\n",
    "        ),\n",
    "    )\n",
    "\n",
    "    if_(\n",
    "        condition=phase_seq.len % 2 == 1,\n",
    "        then=lambda: IDENTITY(state),\n",
    "        else_=lambda: (\n",
    "            u(state),\n",
    "            my_projector_controlled_phase(\n",
    "                phase_seq[phase_seq.len - 1],\n",
    "                proj_cnot_2,\n",
    "                state,\n",
    "                aux,\n",
    "            ),\n",
    "        ),\n",
    "    )\n",
    "\n",
    "    H(aux)"
   ]
  },
  {
   "cell_type": "markdown",
   "id": "43b71428-1835-4637-a352-b9658f0ca240",
   "metadata": {
    "collapsed": false,
    "jupyter": {
     "outputs_hidden": false
    }
   },
   "source": [
    "### Matrix Inversion Logic\n",
    "\n",
    "We define the specific use case of the matrix inversion. In this case, both projectors are the same, and we expect the block-encoded matrix to apply on the states where the first qubit value is $|0\\rangle$:"
   ]
  },
  {
   "cell_type": "code",
   "execution_count": 8,
   "id": "9b2ae389-fad7-4ad6-b7c8-58a1168f053a",
   "metadata": {
    "ExecuteTime": {
     "end_time": "2024-04-10T09:50:05.485115Z",
     "start_time": "2024-04-10T09:50:05.482393Z"
    },
    "execution": {
     "iopub.execute_input": "2025-03-27T13:37:51.362149Z",
     "iopub.status.busy": "2025-03-27T13:37:51.361881Z",
     "iopub.status.idle": "2025-03-27T13:37:51.366055Z",
     "shell.execute_reply": "2025-03-27T13:37:51.365488Z"
    }
   },
   "outputs": [],
   "source": [
    "@qfunc\n",
    "def my_qsvt_inversion(\n",
    "    phase_seq: CArray[CReal],\n",
    "    u: QCallable[QArray[QBit]],\n",
    "    state: QArray[QBit],\n",
    "    aux: Output[QBit],\n",
    ") -> None:\n",
    "    allocate(1, aux)\n",
    "\n",
    "    def _projector_cnot(state: QArray[QBit], aux: QBit):\n",
    "        X(state[state.len - 1])\n",
    "        CX(state[state.len - 1], aux)\n",
    "        X(state[state.len - 1])\n",
    "\n",
    "    my_qsvt(\n",
    "        phase_seq,\n",
    "        lambda arg0, arg1: _projector_cnot(arg0, arg1),\n",
    "        lambda arg0, arg1: _projector_cnot(arg0, arg1),\n",
    "        u,\n",
    "        state,\n",
    "        aux,\n",
    "    )"
   ]
  },
  {
   "cell_type": "markdown",
   "id": "9b9160aa-c9b0-46ff-a29f-214a344610b8",
   "metadata": {},
   "source": [
    "### Getting the Phase Sequence for the Inverse Function"
   ]
  },
  {
   "cell_type": "markdown",
   "id": "70e43073-d7c1-438c-9bef-1c4c6fa4f363",
   "metadata": {
    "tags": []
   },
   "source": [
    "Get the coefficient of the sign function directly, based on the ERFC approximation, using the `pyqsp` package:"
   ]
  },
  {
   "cell_type": "code",
   "execution_count": 9,
   "id": "37ecca28-278e-4b83-987e-25d9d18492a0",
   "metadata": {
    "ExecuteTime": {
     "end_time": "2024-04-10T09:50:05.519078Z",
     "start_time": "2024-04-10T09:50:05.485726Z"
    },
    "execution": {
     "iopub.execute_input": "2025-03-27T13:37:51.367778Z",
     "iopub.status.busy": "2025-03-27T13:37:51.367688Z",
     "iopub.status.idle": "2025-03-27T13:37:51.384332Z",
     "shell.execute_reply": "2025-03-27T13:37:51.383714Z"
    },
    "tags": []
   },
   "outputs": [
    {
     "name": "stdout",
     "output_type": "stream",
     "text": [
      "b=50, j0=20\n",
      "[PolyOneOverX] minimum [-4.54115308] is at [-0.15883407]: normalizing\n",
      "[PolyOneOverX] bounding to 0.5\n",
      "[pyqsp.PolyOneOverX] pcoefs=[ 0.00000000e+00  5.50501781e+00  0.00000000e+00 -1.34815163e+02\n",
      "  0.00000000e+00  2.15191868e+03  0.00000000e+00 -2.50709632e+04\n",
      "  0.00000000e+00  2.25502975e+05  0.00000000e+00 -1.61156021e+06\n",
      "  0.00000000e+00  9.27860774e+06  0.00000000e+00 -4.33007019e+07\n",
      "  0.00000000e+00  1.64161062e+08  0.00000000e+00 -5.05820849e+08\n",
      "  0.00000000e+00  1.26571548e+09  0.00000000e+00 -2.56671992e+09\n",
      "  0.00000000e+00  4.20178645e+09  0.00000000e+00 -5.51711201e+09\n",
      "  0.00000000e+00  5.75258027e+09  0.00000000e+00 -4.69115938e+09\n",
      "  0.00000000e+00  2.92363543e+09  0.00000000e+00 -1.34306985e+09\n",
      "  0.00000000e+00  4.28212620e+08  0.00000000e+00 -8.45647522e+07\n",
      "  0.00000000e+00  7.78663704e+06]\n"
     ]
    }
   ],
   "source": [
    "# The following code assumes pyqsp version 0.1.6\n",
    "# !pip install pyqsp==0.1.6\n",
    "import pyqsp\n",
    "\n",
    "pg = pyqsp.poly.PolyOneOverX()\n",
    "pcoefs = pg.generate(epsilon=0.05, kappa=kappa)"
   ]
  },
  {
   "cell_type": "code",
   "execution_count": 10,
   "id": "6ac475fa-cc25-402a-8474-2f931f5ff279",
   "metadata": {
    "ExecuteTime": {
     "end_time": "2024-04-10T09:50:05.643313Z",
     "start_time": "2024-04-10T09:50:05.513954Z"
    },
    "execution": {
     "iopub.execute_input": "2025-03-27T13:37:51.386095Z",
     "iopub.status.busy": "2025-03-27T13:37:51.385840Z",
     "iopub.status.idle": "2025-03-27T13:37:51.509868Z",
     "shell.execute_reply": "2025-03-27T13:37:51.509309Z"
    },
    "tags": []
   },
   "outputs": [
    {
     "data": {
      "image/png": "[encoded data removed]",
      "text/plain": [
       "<Figure size 800x500 with 1 Axes>"
      ]
     },
     "metadata": {},
     "output_type": "display_data"
    }
   ],
   "source": [
    "import numpy as np\n",
    "from pyqsp.angle_sequence import Polynomial, QuantumSignalProcessingPhases\n",
    "\n",
    "poly = Polynomial(pcoefs)\n",
    "\n",
    "# choosing 'z' this basis since P(1)=1 and won't to avoid the QSP basis change. Anyway, we are not measuring directly this qubit.\n",
    "ang_seq = QuantumSignalProcessingPhases(\n",
    "    poly, signal_operator=\"Wx\", method=\"laurent\", measurement=\"x\"\n",
    ")\n",
    "pyqsp.response.PlotQSPResponse(ang_seq, signal_operator=\"Wx\", measurement=\"x\")"
   ]
  },
  {
   "cell_type": "markdown",
   "id": "2e30167a-ff5a-49f5-bf56-0e505c533a95",
   "metadata": {},
   "source": [
    "### Adjusting Phase Conventions"
   ]
  },
  {
   "cell_type": "markdown",
   "id": "01809547-4727-4dce-89aa-41a15df3e33a",
   "metadata": {},
   "source": [
    "The conventions by which the `pyqsp` package calculates the the phases are different from the phases we need for this QSVT circuit. The following block takes care of them."
   ]
  },
  {
   "cell_type": "markdown",
   "id": "8c515575-100b-400e-8d24-9bb8e4ab70e2",
   "metadata": {},
   "source": [
    "As $R(a)=-i*e^{i\\frac{\\pi}{4}Z}W(a)e^{i\\frac{\\pi}{4}Z}$ and we have an odd number of rotations, we get an i phase for our polynomial, so we get $Im(P(a))$ instead of the real part. We receive the result in the $|1\\rangle$ state in the ancilla, which can be fixed by adding a $\\pi/2$ phase to the last or first rotation."
   ]
  },
  {
   "cell_type": "code",
   "execution_count": 11,
   "id": "faf61f54-ad97-4c86-bcff-3605c515f7d7",
   "metadata": {
    "ExecuteTime": {
     "end_time": "2024-04-10T09:50:05.645400Z",
     "start_time": "2024-04-10T09:50:05.643011Z"
    },
    "execution": {
     "iopub.execute_input": "2025-03-27T13:37:51.511299Z",
     "iopub.status.busy": "2025-03-27T13:37:51.511190Z",
     "iopub.status.idle": "2025-03-27T13:37:51.513855Z",
     "shell.execute_reply": "2025-03-27T13:37:51.513580Z"
    },
    "tags": []
   },
   "outputs": [],
   "source": [
    "# change the R(x) to W(x), as the phases are in the W(x) conventions\n",
    "phases = np.array(ang_seq)\n",
    "phases[1:-1] = phases[1:-1] - np.pi / 2\n",
    "phases[0] = phases[0] - np.pi / 4\n",
    "phases[-1] = phases[-1] + (2 * (len(phases) - 1) - 1) * np.pi / 4\n",
    "\n",
    "# verify conventions. minus is due to exp(-i*phi*z) in qsvt in comparison to qsp\n",
    "phases = -2 * phases"
   ]
  },
  {
   "cell_type": "markdown",
   "id": "74588c18-8231-4c0d-8bce-6a70b31edca3",
   "metadata": {},
   "source": [
    "### Using the Inversion Function to Solve a Linear System\n",
    "\n",
    "The following block defines the `main` function. This is the entry point for the quantum algorithm, which brings all the previous parts together.\n",
    "\n",
    "Specifically, we use the `prepare_amplitudes` function to load the $b$ vector into the quantum state. We then apply 'qsvt_inversion`. We use the dagger of the unitary $U$ that block-encodes $A$, because, using the SVD decomposition:\n",
    "$$\n",
    "\\begin{align}\n",
    "A &=W\\Sigma V^\\dagger\\\\\n",
    "A^\\dagger &=V^\\dagger \\Sigma W\\\\\n",
    "A^{-1} &= V^\\dagger \\Sigma^{-1}W\\\\\n",
    "\\end{align}\n",
    "$$"
   ]
  },
  {
   "cell_type": "code",
   "execution_count": 12,
   "id": "939339d7-260d-4403-8361-0fcb168f5b0d",
   "metadata": {
    "ExecuteTime": {
     "end_time": "2024-04-10T09:50:05.649261Z",
     "start_time": "2024-04-10T09:50:05.646131Z"
    },
    "execution": {
     "iopub.execute_input": "2025-03-27T13:37:51.515088Z",
     "iopub.status.busy": "2025-03-27T13:37:51.514948Z",
     "iopub.status.idle": "2025-03-27T13:37:51.517762Z",
     "shell.execute_reply": "2025-03-27T13:37:51.517488Z"
    }
   },
   "outputs": [],
   "source": [
    "@qfunc\n",
    "def main(\n",
    "    state: Output[QNum],\n",
    "    block: Output[QBit],\n",
    "    aux: Output[QBit],\n",
    ") -> None:\n",
    "    full_state = QArray(\"full_state\")\n",
    "\n",
    "    prepare_amplitudes(b.tolist(), 0, state)\n",
    "\n",
    "    allocate(1, block)\n",
    "    bind([state, block], full_state)\n",
    "\n",
    "    my_qsvt_inversion(\n",
    "        phase_seq=list(phases),\n",
    "        u=lambda arg0: unitary(\n",
    "            # Here we can just use the transpose of A as is it real valued\n",
    "            elements=U_a.T.tolist(),\n",
    "            target=arg0,\n",
    "        ),\n",
    "        state=full_state,\n",
    "        aux=aux,\n",
    "    )\n",
    "\n",
    "    bind(full_state, [state, block])"
   ]
  },
  {
   "cell_type": "markdown",
   "id": "f0561842-db43-44d4-8a99-ae088ad082d2",
   "metadata": {},
   "source": [
    "## Synthesizing and Executing the Circuit Using a State Vector Simulator"
   ]
  },
  {
   "cell_type": "markdown",
   "id": "2934c1c7-9aff-4e1a-b497-fbaaeb8d40ad",
   "metadata": {},
   "source": [
    "We want to get $x=A^{-1}b$:"
   ]
  },
  {
   "cell_type": "code",
   "execution_count": 13,
   "id": "f085e5b1-03d0-4852-a715-e4ea9f85e61b",
   "metadata": {
    "ExecuteTime": {
     "end_time": "2024-04-10T09:50:05.707049Z",
     "start_time": "2024-04-10T09:50:05.661407Z"
    },
    "execution": {
     "iopub.execute_input": "2025-03-27T13:37:51.518934Z",
     "iopub.status.busy": "2025-03-27T13:37:51.518808Z",
     "iopub.status.idle": "2025-03-27T13:37:51.594171Z",
     "shell.execute_reply": "2025-03-27T13:37:51.593816Z"
    }
   },
   "outputs": [],
   "source": [
    "from classiq.execution import (\n",
    "    ClassiqBackendPreferences,\n",
    "    ClassiqSimulatorBackendNames,\n",
    "    ExecutionPreferences,\n",
    ")\n",
    "\n",
    "# convert the functions to a qmod model\n",
    "qmod = create_model(main)\n",
    "\n",
    "# we will want to execute this qmod on a state-vector simulator:\n",
    "execution_preferences = ExecutionPreferences(\n",
    "    num_shots=1,\n",
    "    backend_preferences=ClassiqBackendPreferences(\n",
    "        backend_name=ClassiqSimulatorBackendNames.SIMULATOR_STATEVECTOR\n",
    "    ),\n",
    ")\n",
    "qmod = set_execution_preferences(qmod, execution_preferences)\n",
    "\n",
    "write_qmod(qmod, name=\"qsvt_matrix_inversion\", decimal_precision=15)"
   ]
  },
  {
   "cell_type": "markdown",
   "id": "b96713f1-e21d-48fb-b395-dd892ca4d85d",
   "metadata": {},
   "source": [
    "We synthesize the model into a quantum program:"
   ]
  },
  {
   "cell_type": "code",
   "execution_count": 14,
   "id": "467ef1c5-b81d-4fe6-b47f-c3f6ae91cbd3",
   "metadata": {
    "ExecuteTime": {
     "end_time": "2024-04-10T09:50:10.020658Z",
     "start_time": "2024-04-10T09:50:05.713052Z"
    },
    "execution": {
     "iopub.execute_input": "2025-03-27T13:37:51.595889Z",
     "iopub.status.busy": "2025-03-27T13:37:51.595760Z",
     "iopub.status.idle": "2025-03-27T13:38:59.528807Z",
     "shell.execute_reply": "2025-03-27T13:38:59.528226Z"
    }
   },
   "outputs": [
    {
     "name": "stdout",
     "output_type": "stream",
     "text": [
      "Opening: https://platform.classiq.io/circuit/2utzcmuFI9rw2mypQUToHITinbX?login=True&version=0.73.0\n",
      "https://platform.classiq.io/circuit/2utzcmuFI9rw2mypQUToHITinbX?login=True&version=0.73.0\n"
     ]
    }
   ],
   "source": [
    "qprog = synthesize(qmod)\n",
    "show(qprog)"
   ]
  },
  {
   "cell_type": "markdown",
   "id": "f2c6bdcf-12ac-4088-bc5b-291d62339458",
   "metadata": {},
   "source": [
    "We execute it on the simulator:"
   ]
  },
  {
   "cell_type": "code",
   "execution_count": 15,
   "id": "576fe585-21e8-49cb-aa32-e3308fc763f9",
   "metadata": {
    "ExecuteTime": {
     "start_time": "2024-04-10T09:50:10.019707Z"
    },
    "execution": {
     "iopub.execute_input": "2025-03-27T13:38:59.530603Z",
     "iopub.status.busy": "2025-03-27T13:38:59.530134Z",
     "iopub.status.idle": "2025-03-27T13:39:04.223322Z",
     "shell.execute_reply": "2025-03-27T13:39:04.221492Z"
    }
   },
   "outputs": [],
   "source": [
    "result = execute(qprog).result_value()"
   ]
  },
  {
   "cell_type": "markdown",
   "id": "53655a1e-6860-4cf1-9fb5-8d5ee6796cb5",
   "metadata": {},
   "source": [
    "## Postprocessing"
   ]
  },
  {
   "cell_type": "markdown",
   "id": "c33e2a62-a07c-4cd1-bfe0-ab4bff32f604",
   "metadata": {},
   "source": [
    "We are interested in the projection of the state vector on the states where both the auxilliary qubit and the block qubit are $|0\\rangle$:"
   ]
  },
  {
   "cell_type": "code",
   "execution_count": 16,
   "id": "79e12764-6197-4f0d-a1c9-540794c69756",
   "metadata": {
    "execution": {
     "iopub.execute_input": "2025-03-27T13:39:04.227415Z",
     "iopub.status.busy": "2025-03-27T13:39:04.227081Z",
     "iopub.status.idle": "2025-03-27T13:39:04.236960Z",
     "shell.execute_reply": "2025-03-27T13:39:04.236314Z"
    }
   },
   "outputs": [],
   "source": [
    "def parse_results(result):\n",
    "    parsed_state_vector = result.parsed_state_vector\n",
    "\n",
    "    d = {\n",
    "        int(parsed_state[\"state\"]): parsed_state.amplitude\n",
    "        for parsed_state in parsed_state_vector\n",
    "        if parsed_state[\"aux\"] == parsed_state[\"block\"] == 0.0\n",
    "    }\n",
    "\n",
    "    values = np.array([d[i] for i in range(len(d))])\n",
    "    global_phase = np.angle(values)[0]\n",
    "    values = np.real(values / np.exp(1j * global_phase))\n",
    "    normalization = np.linalg.norm(\n",
    "        [\n",
    "            parsed_state.amplitude\n",
    "            for parsed_state in parsed_state_vector\n",
    "            if parsed_state[\"block\"] == 0.0\n",
    "        ]\n",
    "    )\n",
    "    computed_x = values / normalization\n",
    "    return computed_x"
   ]
  },
  {
   "cell_type": "code",
   "execution_count": 17,
   "id": "cb2c3bd3-9d5f-4f5a-a671-345840a0c2c4",
   "metadata": {
    "execution": {
     "iopub.execute_input": "2025-03-27T13:39:04.238475Z",
     "iopub.status.busy": "2025-03-27T13:39:04.238364Z",
     "iopub.status.idle": "2025-03-27T13:39:04.241405Z",
     "shell.execute_reply": "2025-03-27T13:39:04.240841Z"
    }
   },
   "outputs": [],
   "source": [
    "parsed_state_vector = result.parsed_state_vector\n",
    "\n",
    "d = {\n",
    "    parsed_state[\"state\"]: parsed_state.amplitude\n",
    "    for parsed_state in parsed_state_vector\n",
    "    if parsed_state[\"aux\"] == parsed_state[\"block\"] == 0.0\n",
    "}"
   ]
  },
  {
   "cell_type": "code",
   "execution_count": 18,
   "id": "79a8a4bc-30ec-4867-a51f-f5681e8c436a",
   "metadata": {
    "execution": {
     "iopub.execute_input": "2025-03-27T13:39:04.242901Z",
     "iopub.status.busy": "2025-03-27T13:39:04.242775Z",
     "iopub.status.idle": "2025-03-27T13:39:04.245837Z",
     "shell.execute_reply": "2025-03-27T13:39:04.245399Z"
    }
   },
   "outputs": [
    {
     "name": "stdout",
     "output_type": "stream",
     "text": [
      "[ 0.30898639  0.02161554  0.14214866 -0.26100823]\n"
     ]
    }
   ],
   "source": [
    "computed_x = parse_results(result)\n",
    "print(computed_x)"
   ]
  },
  {
   "cell_type": "markdown",
   "id": "395a1556-bde5-442d-bb38-aa6f95934143",
   "metadata": {},
   "source": [
    "Let's compare it with the expected solution:"
   ]
  },
  {
   "cell_type": "code",
   "execution_count": 19,
   "id": "ee3b1983-fe14-4ffe-8402-bff1c4b3ad05",
   "metadata": {
    "execution": {
     "iopub.execute_input": "2025-03-27T13:39:04.247855Z",
     "iopub.status.busy": "2025-03-27T13:39:04.247699Z",
     "iopub.status.idle": "2025-03-27T13:39:04.250593Z",
     "shell.execute_reply": "2025-03-27T13:39:04.250281Z"
    }
   },
   "outputs": [
    {
     "name": "stdout",
     "output_type": "stream",
     "text": [
      "[ 0.29134204  0.02176207  0.13386997 -0.24527315]\n"
     ]
    }
   ],
   "source": [
    "expected_x = 1 / (2 * kappa) * (np.linalg.inv(A) @ b)\n",
    "print(expected_x)\n",
    "\n",
    "assert np.allclose(computed_x, expected_x, rtol=0.1)"
   ]
  },
  {
   "cell_type": "markdown",
   "id": "51b5574e-adb4-4467-b424-e14c0bc20b36",
   "metadata": {
    "jp-MarkdownHeadingCollapsed": true
   },
   "source": [
    "## References\n",
    "\n",
    "<a id='grand'>[1]</a>: [Martyn JM, Rossi ZM, Tan AK, Chuang IL. Grand unification of quantum algorithms. PRX Quantum. 2021 Dec 3;2(4):040203.](https://journals.aps.org/prxquantum/abstract/10.1103/PRXQuantum.2.040203)\n"
   ]
  }
 ],
 "metadata": {
  "kernelspec": {
   "display_name": "Python 3 (ipykernel)",
   "language": "python",
   "name": "python3"
  },
  "language_info": {
   "codemirror_mode": {
    "name": "ipython",
    "version": 3
   },
   "file_extension": ".py",
   "mimetype": "text/x-python",
   "name": "python",
   "nbconvert_exporter": "python",
   "pygments_lexer": "ipython3",
   "version": "3.11.7"
  }
 },
 "nbformat": 4,
 "nbformat_minor": 5
}
