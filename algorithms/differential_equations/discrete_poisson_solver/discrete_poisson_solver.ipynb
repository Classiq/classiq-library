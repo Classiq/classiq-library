{
 "cells": [
  {
   "cell_type": "markdown",
   "id": "0",
   "metadata": {},
   "source": [
    "# Quantum Algorithm for Solving the Poisson Equation\n",
    "\n",
    "The Poisson equation is a partial differential equation that appears in various research fields, such as physics and engineering. It describes the distribution of a potential field, $u$, under some source term $b$:\n",
    "$$\n",
    "\\nabla^2 u = b,\n",
    "$$\n",
    "where the $\\nabla^2$ is the Laplacian (second derivatives) operator. One approach for numerically solving the Poisson equation is to move from the continuous description to a discrete one, using the finite difference method that casts the problem into a set of linear equations. Then, the solution can be obtained by a linear solver."
   ]
  },
  {
   "cell_type": "markdown",
   "id": "1",
   "metadata": {},
   "source": [
    "In this notebook we treat the Poisson equation on a rectangular geometry, $L_x\\times L_y$, with a Dirichlet boundary condition on the $x$ axis and a Neumann boundary condition on the $y$ axis:\n",
    "$$\n",
    "u(0) = u(L_x)=f_0,\\,\\,\\,\\, \\partial_y u|_{y=0} = \\partial_y u|_{y=L_y} = g_0.\n",
    "$$\n",
    "Furthermore, we assume that $f_0=g_0=0$. The discretization of space, including the treatment of the above boundary conditions, is given in Figure 1. The resulting linear equation reads:\n",
    "$$\n",
    "\\mathcal{L}\\cdot \\vec{u} = \\vec{b}, \\,\\,\\,\\,\\,\\,\\, \\mathcal{L} = \\mathcal{L}_{xx} \\otimes I_y + I_x \\otimes \\mathcal{L}_{yy},\n",
    "$$\n",
    "where $\\mathcal{L}_{xx}$ and $\\mathcal{L}_{yy}$ are the Laplacian operators [[1](#CST)]:\n",
    "$$\n",
    "\\mathcal{L}_{xx} = \\frac{1}{\\Delta x^2}\n",
    "\\begin{pmatrix}\n",
    "3 & -1 & 0 & \\cdots & 0 \\\\\n",
    "-1 & 2 & -1 & \\cdots & 0 \\\\\n",
    "0 & -1 & 2 & \\cdots & 0 \\\\\n",
    "\\vdots & \\vdots & \\vdots & \\ddots & -1 \\\\\n",
    "0 & 0 & \\cdots & -1 & 3 \\\\\n",
    "\\end{pmatrix},\\,\\,\\,\n",
    "\\mathcal{L}_{yy} = \\frac{1}{\\Delta y^2}\n",
    "\\begin{pmatrix}\n",
    "1 & -1 & 0 & \\cdots & 0 \\\\\n",
    "-1 & 2 & -1 & \\cdots & 0 \\\\\n",
    "0 & -1 & 2 & \\cdots & 0 \\\\\n",
    "\\vdots & \\vdots & \\vdots & \\ddots & -1 \\\\\n",
    "0 & 0 & \\cdots & -1 & 1 \\\\\n",
    "\\end{pmatrix}\n",
    "$$\n",
    "and $\\Delta x$ and $\\Delta y$ are the discretization of the $x$ and $y$ axes, respectively. The square matrices above, which are of dimensions $N_x$ and $N_y$, respectively, represent the solution at the inner part of our geometry."
   ]
  },
  {
   "cell_type": "markdown",
   "id": "2",
   "metadata": {},
   "source": [
    "<center>\n",
    "<img src=\"https://docs.classiq.io/resources/poisson_grid.png\" style=\"width:100%\">\n",
    "<figcaption align = \"middle\"> Figure 1. A schematic description of discretizing the Poisson equation. The blue line designates the area for solving the problem. The linear equations are written only for the inner filled grid points. The unfilled ghost points are used to impose the boundary conditions. In the example above, a Dirichlet boundary condition is given by setting $u_{0,k}=-u_{-1,k}$ and $u_{3,k}=-u_{4,k}$, whereas a Neumann boundary condition reads $u_{j,0}=u_{j,-1}$ and $u_{j,3}=u_{j,4}$. </figcaption>\n",
    "</center>"
   ]
  },
  {
   "cell_type": "markdown",
   "id": "3",
   "metadata": {},
   "source": [
    "***\n",
    "In this notebook we solve the Poisson problem with the [HHL](https://github.com/Classiq/classiq-library/blob/main/algorithms/hhl/hhl/hhl.ipynb) quantum linear solver. We utilize similar ideas appearing in Ref.[[2](#PoissonQuantum)], where a quantum cosine and a quantum sine transforms [[3](#QCST)] are performed towards achieving scalable implementation.\n",
    "***"
   ]
  },
  {
   "cell_type": "markdown",
   "id": "4",
   "metadata": {},
   "source": [
    "## Building the Algorithm with Classiq"
   ]
  },
  {
   "cell_type": "markdown",
   "id": "5",
   "metadata": {},
   "source": [
    "The HHL algorithm essentially applies a matrix inversion. Here we treat the Laplacian matrix, which can be diagonalized by quantum sine and cosine transforms. Thus, the matrix to invert is diagonal. The four main quantum blocks of the algorithm are thus (see Figure 2):\n",
    "1. Prepare the amplitudes of the source term on a quantum variable.\n",
    "2. Perform QST and QCT at the beginning of the computation. This is done by applying the QST to the x qubits and the QCT to the y qubits.\n",
    "3. Perform matrix inversion for a diagonal matrix.\n",
    "4. Uncompute the QST and QCT at the end of the computation."
   ]
  },
  {
   "cell_type": "markdown",
   "id": "6",
   "metadata": {},
   "source": [
    "<center>\n",
    "<img src=\"https://docs.classiq.io/resources/poisson_circuit.png\" style=\"width:100%\">\n",
    "<figcaption align = \"middle\"> Figure 2. The quantum circuit for solving the Poisson equation. </figcaption>\n",
    "</center>"
   ]
  },
  {
   "cell_type": "markdown",
   "id": "7",
   "metadata": {},
   "source": [
    "Below we define several classical and quantum functions for constructing our quantum linear solver."
   ]
  },
  {
   "cell_type": "code",
   "execution_count": 1,
   "id": "8",
   "metadata": {
    "execution": {
     "iopub.execute_input": "2025-03-27T13:44:44.011005Z",
     "iopub.status.busy": "2025-03-27T13:44:44.010684Z",
     "iopub.status.idle": "2025-03-27T13:44:45.747357Z",
     "shell.execute_reply": "2025-03-27T13:44:45.746538Z"
    }
   },
   "outputs": [],
   "source": [
    "import matplotlib.pyplot as plt\n",
    "import numpy as np\n",
    "import sympy\n",
    "\n",
    "from classiq import *"
   ]
  },
  {
   "cell_type": "markdown",
   "id": "9",
   "metadata": {},
   "source": [
    "### Diagonal Hamiltonian Calculation"
   ]
  },
  {
   "cell_type": "markdown",
   "id": "10",
   "metadata": {},
   "source": [
    "The eigenvalues of the Poisson equation with Dirichlet boundary conditions in the x direction and Neumann boundary conditions in the y direction are given by\n",
    "$$\n",
    "\\lambda_{k,j} \\equiv \\lambda_{x,k} +\\lambda_{y,j}\n",
    "$$\n",
    "where\n",
    "$$\n",
    "\\lambda_{x,k} = \\frac{4}{\\Delta x^2} \\sin^2\\left(\\frac{\\pi}{2N_x} (k+1)\\right),\\,\\,\\,\\,\\,\\,\\,\\,\n",
    "\\lambda_{y,j} = \\frac{4}{\\Delta y^2} \\sin^2\\left(\\frac{\\pi}{2N_y} j\\right),\n",
    "$$\n",
    "and $k = 0, 1, \\ldots, N_y-1$ and $j = 0, 1, \\ldots, N_x-1$.\n",
    "\n",
    "The HHL algorithm requires the application of an Hamiltonian simulation $e^{iH}$. In this notebook this quantum block is implemented using the Suzuki-Trotter built-in function. We start with defining a function that gets $N_x$ and $N_y$ and returns the corresponding Hamiltonian. The decomposition of the diagonal matrix to the Pauli basis is done using the Walsh Hadamard transform."
   ]
  },
  {
   "cell_type": "code",
   "execution_count": 2,
   "id": "11",
   "metadata": {
    "execution": {
     "iopub.execute_input": "2025-03-27T13:44:45.750279Z",
     "iopub.status.busy": "2025-03-27T13:44:45.749839Z",
     "iopub.status.idle": "2025-03-27T13:44:45.756185Z",
     "shell.execute_reply": "2025-03-27T13:44:45.755601Z"
    }
   },
   "outputs": [],
   "source": [
    "def get_poisson_dirichletx_neumanny_ham(nx, ny):\n",
    "    dx2 = ny / nx\n",
    "    dy2 = nx / ny\n",
    "    eigenvalues_x = dx2 * 4 * np.sin(np.pi / 2 * np.arange(1, nx + 1) / nx) ** 2\n",
    "    eigenvalues_y = dy2 * 4 * np.sin(np.pi / 2 * np.arange(0, ny) / ny) ** 2\n",
    "    num_qubits_x = int(np.log2(nx))\n",
    "    num_qubits_y = int(np.log2(ny))\n",
    "\n",
    "    # Decompose the eigenvalues of the Poisson equation into Pauli terms and construct the corresponding Hamiltonian\n",
    "    pauli_coefficients_x = sympy.fwht(eigenvalues_x / nx)\n",
    "    pauli_coefficients_y = sympy.fwht(eigenvalues_y / ny)\n",
    "\n",
    "    def convert_bitstring_to_pauli_representation(\n",
    "        bitstring: int, num_qubits: int\n",
    "    ) -> list[Pauli]:\n",
    "        return [\n",
    "            Pauli.Z if (bitstring >> s) & 1 else Pauli.I for s in range(num_qubits)\n",
    "        ][::-1]\n",
    "\n",
    "    hamiltonian_y = [\n",
    "        PauliTerm(\n",
    "            pauli=convert_bitstring_to_pauli_representation(i, num_qubits_y)\n",
    "            + [Pauli.I] * num_qubits_x,\n",
    "            coefficient=pauli_coefficients_y[i],\n",
    "        )\n",
    "        for i in range(ny)\n",
    "    ]\n",
    "    hamiltonian_x = [\n",
    "        PauliTerm(\n",
    "            pauli=[Pauli.I] * num_qubits_y\n",
    "            + convert_bitstring_to_pauli_representation(i, num_qubits_x),\n",
    "            coefficient=pauli_coefficients_x[i],\n",
    "        )\n",
    "        for i in range(nx)\n",
    "    ]\n",
    "\n",
    "    hamiltonian = hamiltonian_x + hamiltonian_y\n",
    "    return hamiltonian"
   ]
  },
  {
   "cell_type": "markdown",
   "id": "12",
   "metadata": {},
   "source": [
    "### Hamiltonian Evolution for QPE\n",
    "\n",
    "The HHL is based on a [QPE](https://github.com/Classiq/classiq-library/blob/main/tutorials/advanced_tutorials/high_level_modeling_flexible_qpe/high_level_modeling_flexible_qpe.ipynb) applied on $e^{iHt}$. For this, we need to define a function implementing $\\left(e^{iHt}\\right)^p$ for an integer power $p$. Since in our case the Hamiltonian is diagonal, an exact implementation is given by the first order Suzuki-Trotter formula, where in addition $\\left(e^{iHt}\\right)^p = e^{ipHt}$."
   ]
  },
  {
   "cell_type": "code",
   "execution_count": 3,
   "id": "13",
   "metadata": {
    "execution": {
     "iopub.execute_input": "2025-03-27T13:44:45.758122Z",
     "iopub.status.busy": "2025-03-27T13:44:45.757994Z",
     "iopub.status.idle": "2025-03-27T13:44:45.760790Z",
     "shell.execute_reply": "2025-03-27T13:44:45.760329Z"
    }
   },
   "outputs": [],
   "source": [
    "@qfunc\n",
    "def powered_hamiltonian_evolution(\n",
    "    hamiltonian: CArray[PauliTerm],  # the hamiltonian H\n",
    "    scaling: CReal,  # the scaling factor t\n",
    "    p: CInt,  # the power\n",
    "    qba: QArray[QBit],\n",
    "):\n",
    "    suzuki_trotter(\n",
    "        pauli_operator=hamiltonian,\n",
    "        evolution_coefficient=p * (-2 * np.pi * scaling),\n",
    "        order=1,\n",
    "        repetitions=1,\n",
    "        qbv=qba,\n",
    "    )"
   ]
  },
  {
   "cell_type": "markdown",
   "id": "14",
   "metadata": {},
   "source": [
    "### Sine and Cosine Transforms\n",
    "\n",
    "For the system treated in this notebook, diagonalization of the $2D$ Laplacian is given by appying a quantum sine (cosine) transform on the $x$ ($y$) dimension. We define a quantum function for implementing this, using the open library functions:"
   ]
  },
  {
   "cell_type": "code",
   "execution_count": 4,
   "id": "15",
   "metadata": {
    "execution": {
     "iopub.execute_input": "2025-03-27T13:44:45.762559Z",
     "iopub.status.busy": "2025-03-27T13:44:45.762470Z",
     "iopub.status.idle": "2025-03-27T13:44:45.765012Z",
     "shell.execute_reply": "2025-03-27T13:44:45.764484Z"
    }
   },
   "outputs": [],
   "source": [
    "@qfunc\n",
    "def qsct_2d(xy_variable: QArray[QNum, 2]):\n",
    "    qst_type2(xy_variable[0])\n",
    "    qct_type2(xy_variable[1])"
   ]
  },
  {
   "cell_type": "markdown",
   "id": "16",
   "metadata": {},
   "source": [
    "### Matrix Inversion"
   ]
  },
  {
   "cell_type": "markdown",
   "id": "17",
   "metadata": {},
   "source": [
    "Finally, we define a matrix inversion using a QPE routine, similar to the example given in the basic [HHL notebook](https://github.com/Classiq/classiq-library/blob/main/algorithms/hhl/hhl/hhl.ipynb)."
   ]
  },
  {
   "cell_type": "code",
   "execution_count": 5,
   "id": "18",
   "metadata": {
    "execution": {
     "iopub.execute_input": "2025-03-27T13:44:45.766763Z",
     "iopub.status.busy": "2025-03-27T13:44:45.766641Z",
     "iopub.status.idle": "2025-03-27T13:44:45.769082Z",
     "shell.execute_reply": "2025-03-27T13:44:45.768638Z"
    }
   },
   "outputs": [],
   "source": [
    "@qfunc\n",
    "def inverse_amplitude_load(prefactor: CReal, phase: QNum, ind: QBit):\n",
    "    ind *= prefactor / phase"
   ]
  },
  {
   "cell_type": "code",
   "execution_count": 6,
   "id": "19",
   "metadata": {
    "execution": {
     "iopub.execute_input": "2025-03-27T13:44:45.770653Z",
     "iopub.status.busy": "2025-03-27T13:44:45.770559Z",
     "iopub.status.idle": "2025-03-27T13:44:45.773821Z",
     "shell.execute_reply": "2025-03-27T13:44:45.773292Z"
    }
   },
   "outputs": [],
   "source": [
    "@qfunc\n",
    "def matrix_inversion_HHL(\n",
    "    prefactor: CReal,\n",
    "    my_unitary: QCallable[CInt, QArray],\n",
    "    state: QArray[QBit],\n",
    "    phase: QNum,\n",
    "    indicator: Output[QBit],\n",
    "):\n",
    "    allocate(1, indicator)\n",
    "\n",
    "    within_apply(\n",
    "        within=lambda: qpe_flexible(\n",
    "            unitary_with_power=lambda power: my_unitary(power, state),\n",
    "            phase=phase,\n",
    "        ),\n",
    "        apply=lambda: inverse_amplitude_load(prefactor, phase, indicator),\n",
    "    )"
   ]
  },
  {
   "cell_type": "markdown",
   "id": "20",
   "metadata": {},
   "source": [
    "## Example: Non-separable Source Term"
   ]
  },
  {
   "cell_type": "markdown",
   "id": "21",
   "metadata": {},
   "source": [
    "We solve an example with a square grid of $N_x,\\, N_y=2^3$. For the source term we take a non-separable $2^{N_x+N_y}$ vector that represents the function\n",
    "$$\n",
    "b = F\\left[xy(x-L_x)(y-L_y)\\right].\n",
    "$$\n",
    "We choose $F(z)=\\tanh(z)^2$, which satisfies the boundary conditions."
   ]
  },
  {
   "cell_type": "code",
   "execution_count": 7,
   "id": "22",
   "metadata": {
    "execution": {
     "iopub.execute_input": "2025-03-27T13:44:45.776089Z",
     "iopub.status.busy": "2025-03-27T13:44:45.775965Z",
     "iopub.status.idle": "2025-03-27T13:44:45.780094Z",
     "shell.execute_reply": "2025-03-27T13:44:45.779276Z"
    }
   },
   "outputs": [],
   "source": [
    "# Set discretization of X and Y axes.\n",
    "NUM_QUBITS_X = 3\n",
    "NUM_QUBITS_Y = 3\n",
    "nx = 2**NUM_QUBITS_X\n",
    "ny = 2**NUM_QUBITS_Y\n",
    "\n",
    "# Set the source term as function of x and y such that b(x,y) = exp(-1/xy(x-Lx)(y-Ly))\n",
    "xgrid = (np.arange(nx) + 0.5) / nx\n",
    "ygrid = (np.arange(ny) + 0.5) / ny\n",
    "zgrid = np.kron(ygrid, xgrid) * np.kron(\n",
    "    (ygrid - 1), (xgrid - 1)\n",
    ")  # in classiq the variable order is [y,x]\n",
    "b_vector = np.tanh(zgrid) ** 2\n",
    "\n",
    "# Normalize the source term\n",
    "b_vector = b_vector / np.linalg.norm(b_vector)"
   ]
  },
  {
   "cell_type": "markdown",
   "id": "23",
   "metadata": {},
   "source": [
    "We can plot the source term:"
   ]
  },
  {
   "cell_type": "code",
   "execution_count": 8,
   "id": "24",
   "metadata": {
    "execution": {
     "iopub.execute_input": "2025-03-27T13:44:45.782712Z",
     "iopub.status.busy": "2025-03-27T13:44:45.782343Z",
     "iopub.status.idle": "2025-03-27T13:44:45.873339Z",
     "shell.execute_reply": "2025-03-27T13:44:45.872555Z"
    }
   },
   "outputs": [
    {
     "data": {
      "image/png": "[encoded data removed]",
      "text/plain": [
       "<Figure size 640x480 with 2 Axes>"
      ]
     },
     "metadata": {},
     "output_type": "display_data"
    }
   ],
   "source": [
    "b_matrix = b_vector.reshape((nx, ny))\n",
    "xmesh, ymesh = np.meshgrid(xgrid, ygrid)\n",
    "plt.contourf(xmesh, ymesh, b_matrix.transpose())\n",
    "plt.xlabel(\"x\")\n",
    "plt.ylabel(\"y\")\n",
    "ax = plt.gca()\n",
    "ax.axis(\"equal\")\n",
    "plt.colorbar()\n",
    "plt.show()"
   ]
  },
  {
   "cell_type": "markdown",
   "id": "25",
   "metadata": {},
   "source": [
    "Next, we calculate the Hamiltonian for the specific discretization: "
   ]
  },
  {
   "cell_type": "code",
   "execution_count": 9,
   "id": "26",
   "metadata": {
    "execution": {
     "iopub.execute_input": "2025-03-27T13:44:45.875243Z",
     "iopub.status.busy": "2025-03-27T13:44:45.874957Z",
     "iopub.status.idle": "2025-03-27T13:44:45.879115Z",
     "shell.execute_reply": "2025-03-27T13:44:45.878587Z"
    }
   },
   "outputs": [],
   "source": [
    "hamiltonian = get_poisson_dirichletx_neumanny_ham(nx, ny)"
   ]
  },
  {
   "cell_type": "markdown",
   "id": "27",
   "metadata": {},
   "source": [
    "Now, we need to define the resolution (QPE size) for the quantum solver. The required number of QPE phase qubits depends on the condition number $\\kappa$ of the inverted matrix. In the case of the Laplacian matrix, this parameter is of the order of the matrix dimension $O(2^{N_x+N_y})$, which eliminates the exponential advantage. However, in our example we have a smooth source term, and high modes are expected to have minor effects on the solution. The highest mode of $\\mathcal{L}$ is $\\lambda_{\\max}=8$, whereas the smallest one is $\\lambda_{x,0}\\sim 4\\pi^2/(2N_x)^2$. Let us assume that the highest mode participating in the solution is $\\sim 2^6 \\lambda_{x,0}$, and take a QPE size of six qubits."
   ]
  },
  {
   "cell_type": "code",
   "execution_count": 10,
   "id": "28",
   "metadata": {
    "execution": {
     "iopub.execute_input": "2025-03-27T13:44:45.880971Z",
     "iopub.status.busy": "2025-03-27T13:44:45.880591Z",
     "iopub.status.idle": "2025-03-27T13:44:45.883721Z",
     "shell.execute_reply": "2025-03-27T13:44:45.883205Z"
    }
   },
   "outputs": [],
   "source": [
    "# number of qubits for the QPE\n",
    "QPE_SIZE = 6\n",
    "MAX_EIG = 4 * (np.pi / (2 * nx)) ** 2 * 2**6\n",
    "# parameters for the amplitude preparation\n",
    "PREFACTOR = 2**-QPE_SIZE"
   ]
  },
  {
   "cell_type": "markdown",
   "id": "29",
   "metadata": {},
   "source": [
    "We build the model and synthesize it:"
   ]
  },
  {
   "cell_type": "code",
   "execution_count": 11,
   "id": "30",
   "metadata": {
    "execution": {
     "iopub.execute_input": "2025-03-27T13:44:45.885575Z",
     "iopub.status.busy": "2025-03-27T13:44:45.885208Z",
     "iopub.status.idle": "2025-03-27T13:45:20.483433Z",
     "shell.execute_reply": "2025-03-27T13:45:20.482898Z"
    }
   },
   "outputs": [
    {
     "name": "stdout",
     "output_type": "stream",
     "text": [
      "Opening: https://platform.classiq.io/circuit/2uu0ObRvxYKtjXP42unFdcZIAqO?login=True&version=0.73.0\n",
      "https://platform.classiq.io/circuit/2uu0ObRvxYKtjXP42unFdcZIAqO?login=True&version=0.73.0\n"
     ]
    }
   ],
   "source": [
    "@qfunc\n",
    "def main(\n",
    "    x_variable: Output[QNum[NUM_QUBITS_X, False, 0]],\n",
    "    y_variable: Output[QNum[NUM_QUBITS_Y, False, 0]],\n",
    "    phase: Output[QNum],\n",
    "    indicator: Output[QBit],\n",
    "):\n",
    "\n",
    "    xy_variable = QArray(\"xy_variable\", QNum[NUM_QUBITS_X, False, 0], 2)\n",
    "    prepare_amplitudes(b_vector.tolist(), 0.0, xy_variable)\n",
    "\n",
    "    allocate(QPE_SIZE, phase)\n",
    "\n",
    "    within_apply(\n",
    "        within=lambda: qsct_2d(xy_variable),\n",
    "        apply=lambda: matrix_inversion_HHL(\n",
    "            prefactor=PREFACTOR,\n",
    "            my_unitary=lambda p, target: powered_hamiltonian_evolution(\n",
    "                hamiltonian=hamiltonian,\n",
    "                scaling=1 / MAX_EIG,\n",
    "                p=p,\n",
    "                qba=target,\n",
    "            ),\n",
    "            state=xy_variable,\n",
    "            phase=phase,\n",
    "            indicator=indicator,\n",
    "        ),\n",
    "    )\n",
    "\n",
    "    bind(xy_variable, [x_variable, y_variable])\n",
    "\n",
    "\n",
    "qmod = create_model(main, constraints=Constraints(max_width=18))\n",
    "write_qmod(qmod, \"discrete_poisson_solver\", decimal_precision=12)\n",
    "qprog = synthesize(qmod)\n",
    "show(qprog)"
   ]
  },
  {
   "cell_type": "markdown",
   "id": "31",
   "metadata": {},
   "source": [
    "### Executing and Plotting the Result"
   ]
  },
  {
   "cell_type": "markdown",
   "id": "32",
   "metadata": {},
   "source": [
    "We run the quantum program on a statevector simulator to retrieve the full solution."
   ]
  },
  {
   "cell_type": "code",
   "execution_count": 12,
   "id": "33",
   "metadata": {
    "execution": {
     "iopub.execute_input": "2025-03-27T13:45:20.485421Z",
     "iopub.status.busy": "2025-03-27T13:45:20.484999Z",
     "iopub.status.idle": "2025-03-27T13:46:09.530333Z",
     "shell.execute_reply": "2025-03-27T13:46:09.529765Z"
    }
   },
   "outputs": [],
   "source": [
    "from classiq.execution import (\n",
    "    ClassiqBackendPreferences,\n",
    "    ClassiqSimulatorBackendNames,\n",
    "    ExecutionDetails,\n",
    "    ExecutionPreferences,\n",
    "    set_quantum_program_execution_preferences,\n",
    ")\n",
    "\n",
    "execution_preferences = ExecutionPreferences(\n",
    "    backend_preferences=ClassiqBackendPreferences(backend_name=\"simulator_statevector\")\n",
    ")\n",
    "qprog = set_quantum_program_execution_preferences(qprog, execution_preferences)\n",
    "result = execute(qprog).result_value()"
   ]
  },
  {
   "cell_type": "markdown",
   "id": "34",
   "metadata": {},
   "source": [
    "We define a postprocess function that gets the quantum solution out of the execution and returns a solution:"
   ]
  },
  {
   "cell_type": "code",
   "execution_count": 13,
   "id": "35",
   "metadata": {
    "execution": {
     "iopub.execute_input": "2025-03-27T13:46:09.532697Z",
     "iopub.status.busy": "2025-03-27T13:46:09.532448Z",
     "iopub.status.idle": "2025-03-27T13:46:09.537660Z",
     "shell.execute_reply": "2025-03-27T13:46:09.537161Z"
    }
   },
   "outputs": [],
   "source": [
    "import itertools\n",
    "\n",
    "\n",
    "# Retrieve the solution of the Poisson equation from the results of the quantum program.\n",
    "def extract_result_from_statevector_simulation(\n",
    "    result: ExecutionDetails,\n",
    "    normalization: float,\n",
    "    indicator_name: str,\n",
    "    phase_name: str,\n",
    "    x_name: str,\n",
    "    y_name: str,\n",
    ") -> np.ndarray:\n",
    "    state_matrix = np.zeros((nx, ny), dtype=complex)\n",
    "\n",
    "    # Filter only the successful states.\n",
    "    for state in result.parsed_state_vector:\n",
    "        if state.state[indicator_name] == 1.0 and state.state[phase_name] == 0.0:\n",
    "            state_matrix[\n",
    "                int(state.state[x_name]), int(state.state[y_name])\n",
    "            ] += state.amplitude\n",
    "\n",
    "    # Normalize the solution of the Poisson equation.\n",
    "    global_phase = np.angle(state_matrix[0, 0])\n",
    "    result_matrix = np.real(state_matrix / np.exp(1j * global_phase)) / normalization\n",
    "\n",
    "    return result_matrix"
   ]
  },
  {
   "cell_type": "code",
   "execution_count": 14,
   "id": "36",
   "metadata": {
    "execution": {
     "iopub.execute_input": "2025-03-27T13:46:09.539553Z",
     "iopub.status.busy": "2025-03-27T13:46:09.539335Z",
     "iopub.status.idle": "2025-03-27T13:46:09.909368Z",
     "shell.execute_reply": "2025-03-27T13:46:09.909000Z"
    }
   },
   "outputs": [],
   "source": [
    "result_matrix = extract_result_from_statevector_simulation(\n",
    "    result, PREFACTOR / MAX_EIG, \"indicator\", \"phase\", \"x_variable\", \"y_variable\"\n",
    ")"
   ]
  },
  {
   "cell_type": "markdown",
   "id": "37",
   "metadata": {},
   "source": [
    "The resulting statevector is given up to a sign. The sign in the center of the solution is expected to be positive. We can correct accordingly:"
   ]
  },
  {
   "cell_type": "code",
   "execution_count": 15,
   "id": "38",
   "metadata": {
    "execution": {
     "iopub.execute_input": "2025-03-27T13:46:09.911363Z",
     "iopub.status.busy": "2025-03-27T13:46:09.911249Z",
     "iopub.status.idle": "2025-03-27T13:46:09.913439Z",
     "shell.execute_reply": "2025-03-27T13:46:09.913132Z"
    }
   },
   "outputs": [],
   "source": [
    "if result_matrix[nx // 2, ny // 2] < 0:\n",
    "    result_matrix = -result_matrix"
   ]
  },
  {
   "cell_type": "markdown",
   "id": "39",
   "metadata": {},
   "source": [
    "Finally, we print the result and compare it to the classical solution:"
   ]
  },
  {
   "cell_type": "code",
   "execution_count": 16,
   "id": "40",
   "metadata": {
    "execution": {
     "iopub.execute_input": "2025-03-27T13:46:09.915097Z",
     "iopub.status.busy": "2025-03-27T13:46:09.914958Z",
     "iopub.status.idle": "2025-03-27T13:46:09.920446Z",
     "shell.execute_reply": "2025-03-27T13:46:09.920047Z"
    }
   },
   "outputs": [],
   "source": [
    "## getting the classical solution\n",
    "Hx = (\n",
    "    2 * np.diag(np.ones(nx))\n",
    "    - np.diag(np.ones(nx - 1), 1)\n",
    "    - np.diag(np.ones(nx - 1), -1)\n",
    ")\n",
    "Hx[0, 0] = Hx[nx - 1, nx - 1] = 3\n",
    "\n",
    "Hy = (\n",
    "    2 * np.diag(np.ones(ny))\n",
    "    - np.diag(np.ones(ny - 1), 1)\n",
    "    - np.diag(np.ones(ny - 1), -1)\n",
    ")\n",
    "Hy[0, 0] = Hy[ny - 1, ny - 1] = 1\n",
    "\n",
    "# we need to flip the order of x and y\n",
    "b_classical = (b_matrix.T).reshape(nx * ny)\n",
    "\n",
    "H = np.kron(Hx, np.identity(ny)) + np.kron(np.identity(nx), Hy)\n",
    "classical_result_vector = np.linalg.solve(H, b_classical)\n",
    "classical_result_matrix = classical_result_vector.reshape((nx, ny))"
   ]
  },
  {
   "cell_type": "code",
   "execution_count": 17,
   "id": "41",
   "metadata": {
    "execution": {
     "iopub.execute_input": "2025-03-27T13:46:09.922256Z",
     "iopub.status.busy": "2025-03-27T13:46:09.922096Z",
     "iopub.status.idle": "2025-03-27T13:46:10.117923Z",
     "shell.execute_reply": "2025-03-27T13:46:10.117287Z"
    }
   },
   "outputs": [
    {
     "data": {
      "image/png": "[encoded data removed]",
      "text/plain": [
       "<Figure size 1200x600 with 4 Axes>"
      ]
     },
     "metadata": {},
     "output_type": "display_data"
    }
   ],
   "source": [
    "xmesh, ymesh = np.meshgrid(xgrid, ygrid)\n",
    "\n",
    "fig, axs = plt.subplots(1, 2, figsize=(12, 6))\n",
    "contour0 = axs[0].contourf(xmesh, ymesh, result_matrix.transpose())\n",
    "axs[0].axis(\"equal\")\n",
    "axs[0].axis(\"square\")\n",
    "axs[0].title.set_text(\"Quantum\")\n",
    "fig.colorbar(contour0, ax=axs[0])\n",
    "\n",
    "contour1 = axs[1].contourf(xmesh, ymesh, classical_result_matrix.transpose())\n",
    "axs[1].axis(\"equal\")\n",
    "axs[1].axis(\"square\")\n",
    "axs[1].title.set_text(\"Classical\")\n",
    "fig.colorbar(contour1, ax=axs[1])\n",
    "\n",
    "plt.show()"
   ]
  },
  {
   "cell_type": "markdown",
   "id": "42",
   "metadata": {
    "collapsed": false,
    "jupyter": {
     "outputs_hidden": false
    }
   },
   "source": [
    "## References\n",
    "\n",
    "<a id='CST'>[1]</a>: [Strang, G., 1999 SIAM Review 41 135. The discrete cosine transform.](https://doi.org/10.1137/S0036144598336745)\n",
    "\n",
    "<a id='PoissonQuantum'>[2]</a>: [Yudong Cao et al., 2013 New J. Phys. 15 013021. Quantum algorithm and circuit design solving the Poisson equation.](https://iopscience.iop.org/article/10.1088/1367-2630/15/1/013021/pdf)\n",
    "\n",
    "<a id='QCST'>[3]</a>: [Klappenecker, A., & Rotteler M., Discrete cosine transforms on quantum computers.](https://arxiv.org/abs/quant-ph/0111038)\n"
   ]
  }
 ],
 "metadata": {
  "kernelspec": {
   "display_name": "Python 3 (ipykernel)",
   "language": "python",
   "name": "python3"
  },
  "language_info": {
   "codemirror_mode": {
    "name": "ipython",
    "version": 3
   },
   "file_extension": ".py",
   "mimetype": "text/x-python",
   "name": "python",
   "nbconvert_exporter": "python",
   "pygments_lexer": "ipython3",
   "version": "3.11.7"
  }
 },
 "nbformat": 4,
 "nbformat_minor": 5
}
