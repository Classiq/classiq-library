{
 "cells": [
  {
   "cell_type": "markdown",
   "metadata": {
    "collapsed": false,
    "jupyter": {
     "outputs_hidden": false
    }
   },
   "source": [
    "# Solve Differential Equations of the Lanchester Model with HHL\n",
    "\n",
    "## Welcome to the Jungle of HHL - Rabbits vs. Foxes\n",
    "\n",
    "The Lanchester model is widely used to describe the dynamics of combat between two opposing forces. Originally formulated for military applications, this model can also be adapted to other contexts, such as ecological competition between two species or market competition between two businesses. The model uses linear differential equations to capture the interactions between the populations, making it suitable for scenarios where interaction terms are purely linear. In this notebook, we explore solving this modified Lanchester model using the Harrow-Hassidim-Lloyd (HHL) algorithm, a quantum algorithm designed for efficiently solving linear systems of equations."
   ]
  },
  {
   "cell_type": "markdown",
   "metadata": {
    "collapsed": false,
    "jupyter": {
     "outputs_hidden": false
    }
   },
   "source": [
    "## Lanchester Model\n",
    "[Lanchester Model](https://community.wolfram.com/groups/-/m/t/3055705) is described in this link. This differential equation describes the behavior of two forces, x and y:\n",
    "\n",
    "$$\n",
    "\\frac{d x}{d t} = a*x + b*xy + c*y +d\n",
    "$$\n",
    "$$\n",
    "\\frac{d y}{d t} = e*y + f*xy + g*x +h\n",
    "$$\n",
    "\n",
    "where the coefficients described in the next sections indicate the sensitivities of each side to the other and to itself.\n",
    "\n",
    "## Describing the Classical Model Using the [Finite Difference Method](https://en.wikipedia.org/wiki/Finite_difference_method)\n",
    "\n",
    "Assuming b==0, f==0:\n",
    "\n",
    "$$\n",
    "x_{i+1}  = dt*a*x_i + dt*c*yi + dt*d + x_i = (dt*a+1)*x_i+ dt*c*y_i + dt*d\n",
    "$$\n",
    "$$\n",
    "y_{i+1}  = dt*e*y_i + dt*g*xi + dt*h + y_i = (dt*e+1)*y_i + dt*g*x_i + dt*h\n",
    "$$\n",
    "\n",
    "The first sample is the initial condition:\n",
    "$$\n",
    "x_0 = X_0\n",
    "$$\n",
    "$$\n",
    "y_0 = Y_0\n",
    "$$\n",
    "\n",
    "Then, for any next point, we solve numerically using the previous point:\n",
    "$$\n",
    "- (dt*a+1)*x_i - dt*c*y_i + x_{i+1}  = dt*d\n",
    "$$\n",
    "$$\n",
    "- (dt*e+1)*y_i - dt*g*x_i + y_{i+1} = dt*h\n",
    "$$\n",
    "\n"
   ]
  },
  {
   "cell_type": "markdown",
   "metadata": {
    "collapsed": false,
    "jupyter": {
     "outputs_hidden": false
    }
   },
   "source": [
    "The system of linear equations describing the model looks like this:\n",
    "\n",
    "<!--\n",
    "$$\n",
    "\\begin{bmatrix}\n",
    "    1           & 0         & 0         & \\dots     & 0      & |& 0           & 0         & 0         & \\dots     & 0 \\\\\n",
    "    -(dt*a+1)   & 1         & 0         & \\dots     & 0      & |& -dt*c       & 0         & 0         & \\dots     & 0 \\\\\n",
    "    0           & -(dt*a+1) & 1         & \\dots     & 0      & |& 0           & -dt*c     & 0         & \\dots     & 0 \\\\\n",
    "                &           &           &           &        &\\\\\n",
    "    0           & 0         & \\dots     & -(dt*a+1) & 1      & |& 0           & 0         & \\dots         & -dt*c     & 0 \\\\\n",
    "    \\hline\n",
    "    0           & 0         & 0         & \\dots     & 0 & |&1           & 0         & 0         & \\dots     & 0\\\\\n",
    "    -dt*g       & 0         & 0         & \\dots     & 0 & |&-(dt*e+1)   & 1         & 0         & \\dots     & 0\\\\\n",
    "    0           & -dt*g     & 0         & \\dots     & 0 & |&0           & -(dt*e+1)   & 1       & \\dots     & 0\\\\\n",
    "                &           &           &           &        &\\\\\n",
    "    0           & 0         & \\dots         & -dt*g     & 0 & |&0           & 0         & \\dots     & -(dt*e+1) & 1\\\\\n",
    "\\end{bmatrix}\n",
    "\\times\n",
    "\\begin{bmatrix}\n",
    "    x_{0} \\\\\n",
    "    x_{1} \\\\\n",
    "    x_{2} \\\\\n",
    "    \\vdots \\\\\n",
    "    x_{N-1} \\\\\n",
    "    y_{0} \\\\\n",
    "    y_{1} \\\\\n",
    "    y_{2} \\\\\n",
    "    \\vdots \\\\\n",
    "    y_{N-1} \\\\\n",
    "\\end{bmatrix}\n",
    "=\n",
    "\\begin{bmatrix}\n",
    "    X_{0} \\\\\n",
    "    dt*d \\\\\n",
    "    dt*d \\\\\n",
    "    \\vdots \\\\\n",
    "    dt*d \\\\\n",
    "    Y_{0} \\\\\n",
    "    dt*h \\\\\n",
    "    dt*h \\\\\n",
    "    \\vdots \\\\\n",
    "    dt*h \\\\\n",
    "\\end{bmatrix}\n",
    "$$\n",
    "-->\n",
    "\n",
    "<div style=\"text-align:center;\">\n",
    "    <img src=\"https://docs.classiq.io/resources/hhl_jungle_matrix.png\" alt=\"hhl_jungle_matrix.png\"/>\n",
    "</div>"
   ]
  },
  {
   "cell_type": "markdown",
   "metadata": {
    "collapsed": false,
    "jupyter": {
     "outputs_hidden": false
    }
   },
   "source": [
    "## Building the Matrix with NumPy"
   ]
  },
  {
   "cell_type": "code",
   "execution_count": 1,
   "metadata": {
    "ExecuteTime": {
     "end_time": "2024-09-03T11:58:05.348172Z",
     "start_time": "2024-09-03T11:58:04.829169Z"
    },
    "collapsed": false,
    "execution": {
     "iopub.execute_input": "2025-03-27T13:39:06.261472Z",
     "iopub.status.busy": "2025-03-27T13:39:06.260859Z",
     "iopub.status.idle": "2025-03-27T13:39:06.333491Z",
     "shell.execute_reply": "2025-03-27T13:39:06.332634Z"
    },
    "jupyter": {
     "outputs_hidden": false
    }
   },
   "outputs": [],
   "source": [
    "import numpy as np\n",
    "\n",
    "\n",
    "def diff_eq_model(a, b, c0, d, e, f, g, h, dt, N, x0, y0):\n",
    "    assert b == 0, \"model is currently unsupported\"\n",
    "    assert f == 0, \"model is currently unsupported\"\n",
    "\n",
    "    A = np.identity(2 * N)\n",
    "\n",
    "    for r in range(2 * N):\n",
    "        if 1 <= r <= N - 1:\n",
    "            c = r - 1\n",
    "            A[r][c] = -(dt * a + 1)\n",
    "            c = N + r - 1\n",
    "            A[r][c] = -dt * c0\n",
    "        elif N + 1 <= r:\n",
    "            c = r - 1\n",
    "            A[r][c] = -(dt * e + 1)\n",
    "            c = r - 1 - N\n",
    "            A[r][c] = -dt * g\n",
    "\n",
    "    b1 = np.ones((N, 1)) * dt * d\n",
    "    b1[0] = x0\n",
    "    b2 = np.ones((N, 1)) * dt * h\n",
    "    b2[0] = y0\n",
    "    b = np.concatenate([b1, b2])\n",
    "\n",
    "    return A, b"
   ]
  },
  {
   "cell_type": "markdown",
   "metadata": {
    "collapsed": false,
    "jupyter": {
     "outputs_hidden": false
    }
   },
   "source": [
    "We choose specific values for the matrix, representing a predator-prey system. Here, \\(x\\) represents the prey population (e.g., rabbits), and \\(y\\) represents the predator population (e.g., foxes). The coefficients have the following meanings and specific values:\n",
    "\n",
    "- \\(a\\) and \\(e\\) define the rate of natural losses or birth (due to death, disease, etc.). For example, \\(a = -0.01\\) (1% natural death rate for rabbits), \\(e = -0.02\\) (2% natural death rate for foxes).\n",
    "\n",
    "- \\(b\\) and \\(f\\) define the rate of losses due to environmental factors (affecting both species). For example, \\(b = 0\\), \\(f = 0\\) (assuming no such environmental exposure for simplicity).\n",
    "\n",
    "- \\(c\\) and \\(g\\) are losses or gains due to interactions between species (prey hunted by predators and vice versa). For example, \\(c = -0.1\\) (10% loss of rabbits due to predation), \\(g = 0.2\\) (20% increase in predator population due to hunting prey).\n",
    "\n",
    "- \\(d\\) and \\(h\\) are gains due to migration. For example, \\(d = 0.4\\) (0.4 KRabbits/year migration rate for rabbits), \\(h = 0.01\\) (0.01 KFoxes/year migration rate for foxes)."
   ]
  },
  {
   "cell_type": "code",
   "execution_count": 2,
   "metadata": {
    "ExecuteTime": {
     "end_time": "2024-09-03T11:58:05.372907Z",
     "start_time": "2024-09-03T11:58:04.869363Z"
    },
    "collapsed": false,
    "execution": {
     "iopub.execute_input": "2025-03-27T13:39:06.336645Z",
     "iopub.status.busy": "2025-03-27T13:39:06.336450Z",
     "iopub.status.idle": "2025-03-27T13:39:06.341682Z",
     "shell.execute_reply": "2025-03-27T13:39:06.341152Z"
    },
    "jupyter": {
     "outputs_hidden": false
    }
   },
   "outputs": [],
   "source": [
    "N = 8  # N time steps\n",
    "dt = 6  # Sample every dt years\n",
    "\n",
    "A, b = diff_eq_model(\n",
    "    a=-0.01, b=0, c0=-0.1, d=0.4, e=-0.02, f=0, g=0.02, h=0.01, dt=dt, N=N, x0=30, y0=1\n",
    ")"
   ]
  },
  {
   "cell_type": "code",
   "execution_count": 3,
   "metadata": {
    "ExecuteTime": {
     "end_time": "2024-09-03T11:58:05.389734Z",
     "start_time": "2024-09-03T11:58:04.871980Z"
    },
    "collapsed": false,
    "execution": {
     "iopub.execute_input": "2025-03-27T13:39:06.344160Z",
     "iopub.status.busy": "2025-03-27T13:39:06.343701Z",
     "iopub.status.idle": "2025-03-27T13:39:06.681063Z",
     "shell.execute_reply": "2025-03-27T13:39:06.680348Z"
    },
    "jupyter": {
     "outputs_hidden": false
    }
   },
   "outputs": [
    {
     "data": {
      "image/png": "[encoded data removed]",
      "text/plain": [
       "<Figure size 480x480 with 1 Axes>"
      ]
     },
     "metadata": {},
     "output_type": "display_data"
    },
    {
     "data": {
      "image/png": "[encoded data removed]",
      "text/plain": [
       "<Figure size 1600x200 with 1 Axes>"
      ]
     },
     "metadata": {},
     "output_type": "display_data"
    }
   ],
   "source": [
    "import matplotlib.pyplot as plt\n",
    "\n",
    "plt.matshow(A)\n",
    "plt.title(\"Matrix A\")\n",
    "plt.show()\n",
    "plt.matshow(b.transpose())\n",
    "plt.title(\"Vector b\")\n",
    "plt.show()"
   ]
  },
  {
   "cell_type": "markdown",
   "metadata": {
    "collapsed": false,
    "jupyter": {
     "outputs_hidden": false
    }
   },
   "source": [
    "## Classical Solution"
   ]
  },
  {
   "cell_type": "code",
   "execution_count": 4,
   "metadata": {
    "ExecuteTime": {
     "end_time": "2024-09-03T11:58:05.391791Z",
     "start_time": "2024-09-03T11:58:05.154498Z"
    },
    "collapsed": false,
    "execution": {
     "iopub.execute_input": "2025-03-27T13:39:06.683222Z",
     "iopub.status.busy": "2025-03-27T13:39:06.682946Z",
     "iopub.status.idle": "2025-03-27T13:39:06.686126Z",
     "shell.execute_reply": "2025-03-27T13:39:06.685775Z"
    },
    "jupyter": {
     "outputs_hidden": false
    }
   },
   "outputs": [],
   "source": [
    "x = np.matmul(np.linalg.inv(A), b)"
   ]
  },
  {
   "cell_type": "code",
   "execution_count": 5,
   "metadata": {
    "ExecuteTime": {
     "end_time": "2024-09-03T11:58:05.529009Z",
     "start_time": "2024-09-03T11:58:05.260692Z"
    },
    "collapsed": false,
    "execution": {
     "iopub.execute_input": "2025-03-27T13:39:06.688849Z",
     "iopub.status.busy": "2025-03-27T13:39:06.688565Z",
     "iopub.status.idle": "2025-03-27T13:39:06.774818Z",
     "shell.execute_reply": "2025-03-27T13:39:06.774442Z"
    },
    "jupyter": {
     "outputs_hidden": false
    }
   },
   "outputs": [
    {
     "data": {
      "image/png": "[encoded data removed]",
      "text/plain": [
       "<Figure size 1600x200 with 1 Axes>"
      ]
     },
     "metadata": {},
     "output_type": "display_data"
    }
   ],
   "source": [
    "plt.matshow(x.transpose())\n",
    "plt.title(\"Solution x\")\n",
    "plt.show()"
   ]
  },
  {
   "cell_type": "code",
   "execution_count": 6,
   "metadata": {
    "ExecuteTime": {
     "end_time": "2024-09-03T11:58:05.643666Z",
     "start_time": "2024-09-03T11:58:05.457486Z"
    },
    "collapsed": false,
    "execution": {
     "iopub.execute_input": "2025-03-27T13:39:06.777599Z",
     "iopub.status.busy": "2025-03-27T13:39:06.777427Z",
     "iopub.status.idle": "2025-03-27T13:39:06.836724Z",
     "shell.execute_reply": "2025-03-27T13:39:06.835958Z"
    },
    "jupyter": {
     "outputs_hidden": false
    }
   },
   "outputs": [
    {
     "data": {
      "image/png": "[encoded data removed]",
      "text/plain": [
       "<Figure size 640x480 with 1 Axes>"
      ]
     },
     "metadata": {},
     "output_type": "display_data"
    }
   ],
   "source": [
    "import matplotlib.pyplot as plt\n",
    "\n",
    "t = dt * np.array(range(N))\n",
    "\n",
    "x_sol = x[0:N]\n",
    "y_sol = x[N : 2 * N]\n",
    "plt.plot(t, x_sol, label=\"Rabbits\")\n",
    "plt.plot(t, y_sol, label=\"Foxes\")\n",
    "plt.xlabel(\"t [years]\")\n",
    "plt.ylabel(\"Population [Thosands of individuals]\")\n",
    "plt.legend()\n",
    "plt.show()"
   ]
  },
  {
   "cell_type": "markdown",
   "metadata": {
    "collapsed": false,
    "jupyter": {
     "outputs_hidden": false
    }
   },
   "source": [
    "Note that at some critical point, the rabbit population is so low that the fox population also starts to decrease. This is typical predator-prey model behavior."
   ]
  },
  {
   "cell_type": "markdown",
   "metadata": {
    "collapsed": false,
    "jupyter": {
     "outputs_hidden": false
    }
   },
   "source": [
    "## Redefining the Matrix\n",
    "The matrix of HHL is a canonical one, assuming the following properties:\n",
    "\n",
    "1. The RHS vector $\\vec{b}$ is normalized.\n",
    "2. The matrix $A$ is a Hermitian one.\n",
    "3. The matrix $A$ is of size $2^n\\times 2^n $.\n",
    "4. The eigenvalues of $A$ are in the range $(0,1)$.\n",
    "\n",
    "However, any general problem that does not follow these conditions can be resolved, as below."
   ]
  },
  {
   "cell_type": "markdown",
   "metadata": {
    "collapsed": false,
    "jupyter": {
     "outputs_hidden": false
    }
   },
   "source": [
    "### 1) Normalized b\n",
    "As preprocessing, normalize $\\vec{b}$ and then return the normalization factor as postprocessing."
   ]
  },
  {
   "cell_type": "code",
   "execution_count": 7,
   "metadata": {
    "ExecuteTime": {
     "end_time": "2024-09-03T11:58:05.644009Z",
     "start_time": "2024-09-03T11:58:05.555242Z"
    },
    "collapsed": false,
    "execution": {
     "iopub.execute_input": "2025-03-27T13:39:06.838978Z",
     "iopub.status.busy": "2025-03-27T13:39:06.838733Z",
     "iopub.status.idle": "2025-03-27T13:39:06.841757Z",
     "shell.execute_reply": "2025-03-27T13:39:06.841232Z"
    },
    "jupyter": {
     "outputs_hidden": false
    }
   },
   "outputs": [],
   "source": [
    "norm_factor = np.linalg.norm(b)\n",
    "\n",
    "b_normalized = b / norm_factor"
   ]
  },
  {
   "cell_type": "markdown",
   "metadata": {
    "collapsed": false,
    "jupyter": {
     "outputs_hidden": false
    }
   },
   "source": [
    "### 2) Hermitian Matrix\n",
    "\n",
    "Symmetrize the problem:\n",
    "$$\n",
    "\\begin{pmatrix}\n",
    "0 & A^T \\\\\n",
    "A & 0\n",
    "\\end{pmatrix}\n",
    "\\begin{pmatrix}\n",
    "\\vec{x}  \\\\\n",
    "0\n",
    "\\end{pmatrix}\n",
    "=\n",
    "\\begin{pmatrix}\n",
    "0  \\\\\n",
    "\\vec{b}\n",
    "\\end{pmatrix}.\n",
    "$$\n",
    "This increases the number of qubits by 1."
   ]
  },
  {
   "cell_type": "code",
   "execution_count": 8,
   "metadata": {
    "ExecuteTime": {
     "end_time": "2024-09-03T11:58:05.786707Z",
     "start_time": "2024-09-03T11:58:05.557616Z"
    },
    "collapsed": false,
    "execution": {
     "iopub.execute_input": "2025-03-27T13:39:06.844087Z",
     "iopub.status.busy": "2025-03-27T13:39:06.843584Z",
     "iopub.status.idle": "2025-03-27T13:39:07.082558Z",
     "shell.execute_reply": "2025-03-27T13:39:07.081915Z"
    },
    "jupyter": {
     "outputs_hidden": false
    }
   },
   "outputs": [
    {
     "data": {
      "image/png": "[encoded data removed]",
      "text/plain": [
       "<Figure size 1600x200 with 1 Axes>"
      ]
     },
     "metadata": {},
     "output_type": "display_data"
    },
    {
     "data": {
      "image/png": "[encoded data removed]",
      "text/plain": [
       "<Figure size 480x480 with 1 Axes>"
      ]
     },
     "metadata": {},
     "output_type": "display_data"
    }
   ],
   "source": [
    "def to_hermitian(A):\n",
    "    N = A.shape[0]\n",
    "    A_hermitian = np.concatenate(\n",
    "        [\n",
    "            np.concatenate([np.zeros((N, N)), A.transpose().conj()], axis=1),\n",
    "            np.concatenate([A, np.zeros((N, N))], axis=1),\n",
    "        ]\n",
    "    )\n",
    "    return A_hermitian\n",
    "\n",
    "\n",
    "b_new = np.concatenate([np.zeros((2 * N, 1)), b_normalized])\n",
    "plt.matshow(b_new.transpose())\n",
    "plt.title(\"Normalized and Padded Vector b\")\n",
    "plt.show()\n",
    "\n",
    "A_hermitian = to_hermitian(A)\n",
    "plt.matshow(A_hermitian)\n",
    "plt.title(\"Hermitian Matrix A\")\n",
    "plt.show()"
   ]
  },
  {
   "cell_type": "markdown",
   "metadata": {
    "collapsed": false,
    "jupyter": {
     "outputs_hidden": false
    }
   },
   "source": [
    "$$\n",
    "A_{new} * [x, 0] = b_{new}\n",
    "$$"
   ]
  },
  {
   "cell_type": "markdown",
   "metadata": {
    "collapsed": false,
    "jupyter": {
     "outputs_hidden": false
    }
   },
   "source": [
    "### 3) Make the Matrix $A$ of Size $2^n\\times 2^n $\n",
    "\n",
    "Complete the matrix dimension to the closest $2^n$ with an identity matrix. The vector $\\vec{b}$ is completed with zeros.\n",
    "$$\n",
    "\\begin{pmatrix}\n",
    "A & 0 \\\\\n",
    "0 & I\n",
    "\\end{pmatrix}\n",
    "\\begin{pmatrix}\n",
    "\\vec{b}  \\\\\n",
    "0\n",
    "\\end{pmatrix}\n",
    "=\n",
    "\\begin{pmatrix}\n",
    "\\vec{x}  \\\\\n",
    "0\n",
    "\\end{pmatrix}.\n",
    "$$\n",
    "\n",
    "However, our matrix is already the right size."
   ]
  },
  {
   "cell_type": "markdown",
   "metadata": {
    "collapsed": false,
    "jupyter": {
     "outputs_hidden": false
    }
   },
   "source": [
    "### 4) Rescaled Matrix\n",
    "If the eigenvalues of $A$ are in the range $[w_{\\min},w_{\\max}]$, we can employ transformations to the exponentiated matrix and then undo them to extract the results:\n",
    "$$\n",
    "\\tilde{A}=(A-w_{\\min}I)\\left(1-\\frac{1}{2^{m}}\\right)\\frac{1}{w_{\\max}-w_{\\min}}.\n",
    "$$\n",
    "The eigenvalues of this matrix lie in the interval $[0,1)$, and are related to the eigenvalues of the original matrix via\n",
    "$$\n",
    "\\lambda = (w_{\\max}+w_{\\min})\\tilde{\\lambda}\\left[1/\\left(1-\\frac{1}{2^{m}}\\right)\\right]+w_{\\min},\n",
    "$$\n",
    "with $\\tilde{\\lambda}$ being an eigenvalue of $\\tilde{A}$ resulting from the QPE algorithm. This relation between eigenvalues is then used for the expression inserted into the eigenvalue inversion, via the `AmplitudeLoading` function."
   ]
  },
  {
   "cell_type": "code",
   "execution_count": 9,
   "metadata": {
    "ExecuteTime": {
     "end_time": "2024-09-03T11:58:05.929279Z",
     "start_time": "2024-09-03T11:58:05.774753Z"
    },
    "collapsed": false,
    "execution": {
     "iopub.execute_input": "2025-03-27T13:39:07.084836Z",
     "iopub.status.busy": "2025-03-27T13:39:07.084650Z",
     "iopub.status.idle": "2025-03-27T13:39:07.214902Z",
     "shell.execute_reply": "2025-03-27T13:39:07.214240Z"
    },
    "jupyter": {
     "outputs_hidden": false
    }
   },
   "outputs": [
    {
     "data": {
      "image/png": "[encoded data removed]",
      "text/plain": [
       "<Figure size 480x480 with 1 Axes>"
      ]
     },
     "metadata": {},
     "output_type": "display_data"
    }
   ],
   "source": [
    "def condition_number(A):\n",
    "    w, _ = np.linalg.eig(A)\n",
    "    return max(np.abs(w)) / min(np.abs(w))\n",
    "\n",
    "\n",
    "QPE_RESOLUTION_SIZE = 6\n",
    "\n",
    "assert QPE_RESOLUTION_SIZE > np.log2(\n",
    "    condition_number(A)\n",
    "), \"condition number is too big, and QPE resolution cannot hold all eigenvalues\"\n",
    "\n",
    "w, v = np.linalg.eig(A_hermitian)\n",
    "w_max = np.max(w)\n",
    "w_min = np.min(w)\n",
    "mat_shift = -w_min\n",
    "mat_rescaling = (1 - 1 / 2**QPE_RESOLUTION_SIZE) / (\n",
    "    w_max - w_min\n",
    ")  # assures eigenvalues in [0,1-1/2^QPE_SIZE]\n",
    "min_possible_w = (\n",
    "    w_max - w_min\n",
    ") / 2**QPE_RESOLUTION_SIZE  # this is the minimal eigenvalue which can be resolved by the QPE\n",
    "\n",
    "A_rescaled = (\n",
    "    A_hermitian + mat_shift * np.identity(A_hermitian.shape[0])\n",
    ") * mat_rescaling\n",
    "\n",
    "# verifying that the matrix is symmetric and has eigenvalues in [0,1)\n",
    "if not np.allclose(A_rescaled, A_rescaled.T, rtol=1e-6, atol=1e-6):\n",
    "    raise Exception(\"The matrix is not symmetric\")\n",
    "\n",
    "w_rescaled, _ = np.linalg.eig(A_rescaled)\n",
    "\n",
    "for lam in w_rescaled:\n",
    "    if lam < -1e-6 or lam >= 1:\n",
    "        raise Exception(\"Eigenvalues are not in (0,1)\")\n",
    "\n",
    "plt.matshow(A_rescaled)\n",
    "plt.title(\"Rescaled Matrix A\")\n",
    "plt.show()"
   ]
  },
  {
   "cell_type": "markdown",
   "metadata": {
    "collapsed": false,
    "jupyter": {
     "outputs_hidden": false
    }
   },
   "source": [
    "## Defining HHL Algorithm for the Quantum Solution\n",
    "This section is based on Classiq HHL in the user guide, [here](https://github.com/Classiq/classiq-library/blob/main/tutorials/technology_demonstrations/hhl/hhl_example.ipynb) and [here](https://github.com/Classiq/classiq-library/blob/main/algorithms/hhl/hhl/hhl.ipynb).\n",
    "\n",
    "Note the rescaling in `simple_eig_inv` based on the matrix rescaling."
   ]
  },
  {
   "cell_type": "code",
   "execution_count": 10,
   "metadata": {
    "ExecuteTime": {
     "end_time": "2024-09-03T11:58:05.941473Z",
     "start_time": "2024-09-03T11:58:05.931990Z"
    },
    "collapsed": false,
    "execution": {
     "iopub.execute_input": "2025-03-27T13:39:07.217135Z",
     "iopub.status.busy": "2025-03-27T13:39:07.216891Z",
     "iopub.status.idle": "2025-03-27T13:39:08.685613Z",
     "shell.execute_reply": "2025-03-27T13:39:08.684716Z"
    },
    "jupyter": {
     "outputs_hidden": false
    }
   },
   "outputs": [],
   "source": [
    "from classiq import *\n",
    "\n",
    "\n",
    "@qfunc\n",
    "def simple_eig_inv(\n",
    "    gamma: CReal,\n",
    "    delta: CReal,\n",
    "    c_param: CReal,\n",
    "    phase: QNum,\n",
    "    indicator: Output[QBit],\n",
    "):\n",
    "    allocate(1, indicator)\n",
    "    indicator *= c_param / ((gamma * phase) + delta)"
   ]
  },
  {
   "cell_type": "code",
   "execution_count": 11,
   "metadata": {
    "ExecuteTime": {
     "end_time": "2024-09-03T11:58:06.095162Z",
     "start_time": "2024-09-03T11:58:05.940409Z"
    },
    "collapsed": false,
    "execution": {
     "iopub.execute_input": "2025-03-27T13:39:08.687453Z",
     "iopub.status.busy": "2025-03-27T13:39:08.687205Z",
     "iopub.status.idle": "2025-03-27T13:39:08.689689Z",
     "shell.execute_reply": "2025-03-27T13:39:08.689239Z"
    },
    "jupyter": {
     "outputs_hidden": false
    }
   },
   "outputs": [],
   "source": [
    "b_new = b_new.tolist()"
   ]
  },
  {
   "cell_type": "code",
   "execution_count": 12,
   "metadata": {
    "ExecuteTime": {
     "end_time": "2024-09-03T11:58:06.181692Z",
     "start_time": "2024-09-03T11:58:06.018352Z"
    },
    "collapsed": false,
    "execution": {
     "iopub.execute_input": "2025-03-27T13:39:08.691511Z",
     "iopub.status.busy": "2025-03-27T13:39:08.691024Z",
     "iopub.status.idle": "2025-03-27T13:39:08.694912Z",
     "shell.execute_reply": "2025-03-27T13:39:08.694457Z"
    },
    "jupyter": {
     "outputs_hidden": false
    }
   },
   "outputs": [],
   "source": [
    "sol_classical_hermitian = np.array([s[0] for s in np.linalg.solve(A_hermitian, b_new)])\n",
    "compared_sol = sol_classical_hermitian * min_possible_w\n",
    "amp_compared = (compared_sol / np.linalg.norm(compared_sol)).tolist()"
   ]
  },
  {
   "cell_type": "markdown",
   "metadata": {
    "collapsed": false,
    "jupyter": {
     "outputs_hidden": false
    }
   },
   "source": [
    "Besides HHL, we also perform [swap test as in the user guide](https://github.com/Classiq/classiq-library/blob/main/algorithms/swap_test/swap_test.ipynb), comparing the HHL solution to a state preparation of the known solution."
   ]
  },
  {
   "cell_type": "code",
   "execution_count": 13,
   "metadata": {
    "ExecuteTime": {
     "end_time": "2024-09-03T11:58:06.214016Z",
     "start_time": "2024-09-03T11:58:06.112894Z"
    },
    "collapsed": false,
    "execution": {
     "iopub.execute_input": "2025-03-27T13:39:08.699622Z",
     "iopub.status.busy": "2025-03-27T13:39:08.698842Z",
     "iopub.status.idle": "2025-03-27T13:39:08.720747Z",
     "shell.execute_reply": "2025-03-27T13:39:08.718940Z"
    },
    "jupyter": {
     "outputs_hidden": false
    }
   },
   "outputs": [],
   "source": [
    "import scipy\n",
    "\n",
    "exponentiation_A_rescaled = scipy.linalg.expm(1j * 2 * np.pi * A_rescaled).tolist()\n",
    "\n",
    "\n",
    "@qfunc\n",
    "def main(indicator: Output[QBit], test: Output[QBit]) -> None:\n",
    "    state = QArray(\"state\")\n",
    "    compared_state = QArray(\"compared_state\")\n",
    "    rescaled_eig = QNum(\"rescaled_eig\")\n",
    "    allocate_num(QPE_RESOLUTION_SIZE, False, QPE_RESOLUTION_SIZE, rescaled_eig)\n",
    "    prepare_amplitudes(b_new, 0, state)\n",
    "    within_apply(\n",
    "        lambda: qpe(\n",
    "            unitary=lambda: unitary(exponentiation_A_rescaled, state),\n",
    "            phase=rescaled_eig,\n",
    "        ),\n",
    "        lambda: simple_eig_inv(\n",
    "            gamma=mat_rescaling ** (-1),\n",
    "            delta=-mat_shift,\n",
    "            c_param=min_possible_w,\n",
    "            phase=rescaled_eig,\n",
    "            indicator=indicator,\n",
    "        ),\n",
    "    )\n",
    "    prepare_amplitudes(amp_compared, 0.0, compared_state)\n",
    "    swap_test(state, compared_state, test)"
   ]
  },
  {
   "cell_type": "markdown",
   "metadata": {
    "collapsed": false,
    "jupyter": {
     "outputs_hidden": false
    }
   },
   "source": [
    "We create the circuit with depth limitation compared to the maximal width in a simulator (25).\n",
    "We also set the preferences for synthesis and execution."
   ]
  },
  {
   "cell_type": "code",
   "execution_count": 14,
   "metadata": {
    "ExecuteTime": {
     "end_time": "2024-09-03T11:58:06.444997Z",
     "start_time": "2024-09-03T11:58:06.146026Z"
    },
    "collapsed": false,
    "execution": {
     "iopub.execute_input": "2025-03-27T13:39:08.729085Z",
     "iopub.status.busy": "2025-03-27T13:39:08.728356Z",
     "iopub.status.idle": "2025-03-27T13:39:08.921791Z",
     "shell.execute_reply": "2025-03-27T13:39:08.921115Z"
    },
    "jupyter": {
     "outputs_hidden": false
    }
   },
   "outputs": [],
   "source": [
    "from classiq.execution import *\n",
    "\n",
    "qmod_hhl_swap_test = create_model(main)\n",
    "\n",
    "constraints = Constraints(\n",
    "    max_width=25,\n",
    "    # optimization_parameter=OptimizationParameter.DEPTH,\n",
    ")\n",
    "qmod_hhl_swap_test = set_constraints(qmod_hhl_swap_test, constraints)\n",
    "\n",
    "preferences = Preferences(optimization_timeout_seconds=90, transpilation_option=\"none\")\n",
    "qmod_hhl_swap_test = set_preferences(qmod_hhl_swap_test, preferences)\n",
    "\n",
    "NUM_SHOTS = 2048\n",
    "backend_preferences = ClassiqBackendPreferences(\n",
    "    backend_name=ClassiqSimulatorBackendNames.SIMULATOR\n",
    ")\n",
    "qmod_hhl_swap_test = set_execution_preferences(\n",
    "    qmod_hhl_swap_test,\n",
    "    ExecutionPreferences(num_shots=NUM_SHOTS, backend_preferences=backend_preferences),\n",
    ")"
   ]
  },
  {
   "cell_type": "markdown",
   "metadata": {
    "collapsed": false,
    "jupyter": {
     "outputs_hidden": false
    }
   },
   "source": [
    "### Synthesize and Show"
   ]
  },
  {
   "cell_type": "code",
   "execution_count": 15,
   "metadata": {
    "ExecuteTime": {
     "end_time": "2024-09-03T11:59:52.930369Z",
     "start_time": "2024-09-03T11:58:06.445240Z"
    },
    "collapsed": false,
    "execution": {
     "iopub.execute_input": "2025-03-27T13:39:08.923993Z",
     "iopub.status.busy": "2025-03-27T13:39:08.923711Z",
     "iopub.status.idle": "2025-03-27T13:41:38.219091Z",
     "shell.execute_reply": "2025-03-27T13:41:38.218674Z"
    },
    "jupyter": {
     "outputs_hidden": false
    }
   },
   "outputs": [
    {
     "name": "stdout",
     "output_type": "stream",
     "text": [
      "Opening: https://platform.classiq.io/circuit/2utzwYhuMHbOFPWk6CA9FbQkGIW?login=True&version=0.73.0\n",
      "https://platform.classiq.io/circuit/2utzwYhuMHbOFPWk6CA9FbQkGIW?login=True&version=0.73.0\n"
     ]
    }
   ],
   "source": [
    "qprog_hhl_swap = synthesize(qmod_hhl_swap_test)\n",
    "show(qprog_hhl_swap)"
   ]
  },
  {
   "cell_type": "markdown",
   "metadata": {
    "collapsed": false,
    "jupyter": {
     "outputs_hidden": false
    }
   },
   "source": [
    "### Execution and Results Analysis\n",
    "The analysis is explained in the [swap test user guide](https://github.com/Classiq/classiq-library/blob/main/algorithms/swap_test/swap_test.ipynb).\n",
    "\n",
    "We compare the measured overlap with the exact overlap using the expected probability of measuring the state $|0\\rangle$, defined as\n",
    "$$\n",
    "\\alpha^2 = \\frac{1}{2}\\left(1+|\\langle \\psi_1 |\\psi_2 \\rangle |^2\\right).\n",
    "$$\n",
    "We extract the overlap $|\\langle \\psi_1 |\\psi_2 \\rangle |^2=\\sqrt{2 P\\left(q_{\\text{test}}=|0\\rangle\\right)-1}$.\n",
    "The exact overlap is computed with the dot product of the two state vectors.\n",
    "Note that for the sake of this demonstration we execute this circuit $100,000$ times to improve the precision of the probability estimate. This is usually not required.\n",
    "\n",
    "Since we are in the HHL context, we filter only the `indicator==1` results.\n"
   ]
  },
  {
   "cell_type": "code",
   "execution_count": 16,
   "metadata": {
    "ExecuteTime": {
     "end_time": "2024-09-03T11:59:53.675535Z",
     "start_time": "2024-09-03T11:59:52.977003Z"
    },
    "collapsed": false,
    "execution": {
     "iopub.execute_input": "2025-03-27T13:41:38.221510Z",
     "iopub.status.busy": "2025-03-27T13:41:38.221247Z",
     "iopub.status.idle": "2025-03-27T13:41:43.438167Z",
     "shell.execute_reply": "2025-03-27T13:41:43.436133Z"
    },
    "jupyter": {
     "outputs_hidden": false
    }
   },
   "outputs": [],
   "source": [
    "execution_job_id = execute(qprog_hhl_swap)"
   ]
  },
  {
   "cell_type": "code",
   "execution_count": 17,
   "metadata": {
    "ExecuteTime": {
     "end_time": "2024-09-03T12:00:36.781690Z",
     "start_time": "2024-09-03T11:59:53.679145Z"
    },
    "collapsed": false,
    "execution": {
     "iopub.execute_input": "2025-03-27T13:41:43.443921Z",
     "iopub.status.busy": "2025-03-27T13:41:43.443396Z",
     "iopub.status.idle": "2025-03-27T13:42:27.376380Z",
     "shell.execute_reply": "2025-03-27T13:42:27.375272Z"
    },
    "jupyter": {
     "outputs_hidden": false
    }
   },
   "outputs": [
    {
     "name": "stdout",
     "output_type": "stream",
     "text": [
      "Fidelity between basic HHL and classical solutions: 0.9574271077563381\n"
     ]
    }
   ],
   "source": [
    "results = execution_job_id.result()\n",
    "histogram = results[0].value\n",
    "fidelity_basic = np.sqrt(\n",
    "    histogram.counts_of_multiple_outputs([\"indicator\", \"test\"])[(\"1\", \"0\")]\n",
    "    * 2\n",
    "    / (histogram.counts_of_output(\"indicator\")[\"1\"])\n",
    "    - 1\n",
    ")\n",
    "\n",
    "print(\"Fidelity between basic HHL and classical solutions:\", fidelity_basic)"
   ]
  },
  {
   "cell_type": "markdown",
   "metadata": {
    "collapsed": false,
    "jupyter": {
     "outputs_hidden": false
    }
   },
   "source": [
    "In the IDE we can also check that among the `indicator=1` results, the bar of `test=0` is much higher than `test=1`."
   ]
  },
  {
   "cell_type": "code",
   "execution_count": 18,
   "metadata": {
    "ExecuteTime": {
     "end_time": "2024-09-03T12:00:37.047753Z",
     "start_time": "2024-09-03T12:00:36.787924Z"
    },
    "collapsed": false,
    "execution": {
     "iopub.execute_input": "2025-03-27T13:42:27.378644Z",
     "iopub.status.busy": "2025-03-27T13:42:27.378471Z",
     "iopub.status.idle": "2025-03-27T13:42:27.383303Z",
     "shell.execute_reply": "2025-03-27T13:42:27.382760Z"
    },
    "jupyter": {
     "outputs_hidden": false
    }
   },
   "outputs": [
    {
     "name": "stdout",
     "output_type": "stream",
     "text": [
      "https://platform.classiq.io/jobs/ab3ba5a7-6646-4d44-a9d4-1802a21c8cff\n"
     ]
    }
   ],
   "source": [
    "execution_job_id.open_in_ide()"
   ]
  },
  {
   "cell_type": "markdown",
   "metadata": {
    "collapsed": false,
    "jupyter": {
     "outputs_hidden": false
    }
   },
   "source": [
    "## State Vector Simulation\n",
    "We can also run the state vector of the HHL result and examine it without a swap test. Extracting the full information is exponentially hard, and used here just for educational purposes.\n",
    "Extension of this work can extract some information from the state vector, such as the last element, which is the most important. We can also pad the last solution with an extension, and therefore measure the last point with high probability."
   ]
  },
  {
   "cell_type": "code",
   "execution_count": 19,
   "metadata": {
    "ExecuteTime": {
     "end_time": "2024-09-03T12:02:55.726756Z",
     "start_time": "2024-09-03T12:00:37.045904Z"
    },
    "collapsed": false,
    "execution": {
     "iopub.execute_input": "2025-03-27T13:42:27.385411Z",
     "iopub.status.busy": "2025-03-27T13:42:27.385241Z",
     "iopub.status.idle": "2025-03-27T13:44:55.182363Z",
     "shell.execute_reply": "2025-03-27T13:44:55.181300Z"
    },
    "jupyter": {
     "outputs_hidden": false
    }
   },
   "outputs": [
    {
     "name": "stdout",
     "output_type": "stream",
     "text": [
      "Opening: https://platform.classiq.io/circuit/2uu0LLSa7BchfwRQfpa6rhDGlhU?login=True&version=0.73.0\n",
      "https://platform.classiq.io/circuit/2uu0LLSa7BchfwRQfpa6rhDGlhU?login=True&version=0.73.0\n"
     ]
    }
   ],
   "source": [
    "class TimeIndexAndGroup(QStruct):\n",
    "    rabbits: QBit\n",
    "    time_index: QNum\n",
    "\n",
    "\n",
    "@qfunc\n",
    "def main(\n",
    "    indicator: Output[QBit],\n",
    "    time_index_and_group: Output[TimeIndexAndGroup],\n",
    "    rescaled_eig: Output[QNum],\n",
    ") -> None:\n",
    "    allocate_num(QPE_RESOLUTION_SIZE, False, QPE_RESOLUTION_SIZE, rescaled_eig)\n",
    "    prepare_amplitudes(b_new, 0, time_index_and_group)\n",
    "    within_apply(\n",
    "        lambda: qpe(\n",
    "            unitary=lambda: unitary(exponentiation_A_rescaled, time_index_and_group),\n",
    "            phase=rescaled_eig,\n",
    "        ),\n",
    "        lambda: simple_eig_inv(\n",
    "            gamma=mat_rescaling ** (-1),\n",
    "            delta=-mat_shift,\n",
    "            c_param=min_possible_w,\n",
    "            phase=rescaled_eig,\n",
    "            indicator=indicator,\n",
    "        ),\n",
    "    )\n",
    "\n",
    "\n",
    "constraints = Constraints(max_width=18)\n",
    "preferences = Preferences(optimization_timeout_seconds=90, transpilation_option=\"none\")\n",
    "backend_preferences = ClassiqBackendPreferences(\n",
    "    backend_name=ClassiqSimulatorBackendNames.SIMULATOR_STATEVECTOR\n",
    ")\n",
    "execution_preferences = ExecutionPreferences(\n",
    "    num_shots=1, backend_preferences=backend_preferences\n",
    ")\n",
    "\n",
    "qmod_hhl_basic = create_model(\n",
    "    main,\n",
    "    constraints=constraints,\n",
    "    preferences=preferences,\n",
    "    execution_preferences=execution_preferences,\n",
    ")\n",
    "write_qmod(qmod_hhl_basic, \"hhl_lanchester\", decimal_precision=12)\n",
    "qprog_hhl_basic = synthesize(qmod_hhl_basic)\n",
    "show(qprog_hhl_basic)"
   ]
  },
  {
   "cell_type": "code",
   "execution_count": 20,
   "metadata": {
    "ExecuteTime": {
     "end_time": "2024-09-03T12:03:07.584305Z",
     "start_time": "2024-09-03T12:02:55.990364Z"
    },
    "collapsed": false,
    "execution": {
     "iopub.execute_input": "2025-03-27T13:44:55.188134Z",
     "iopub.status.busy": "2025-03-27T13:44:55.187958Z",
     "iopub.status.idle": "2025-03-27T13:45:22.244481Z",
     "shell.execute_reply": "2025-03-27T13:45:22.243747Z"
    },
    "jupyter": {
     "outputs_hidden": false
    }
   },
   "outputs": [
    {
     "name": "stdout",
     "output_type": "stream",
     "text": [
      "https://platform.classiq.io/jobs/90bd54a7-0241-4afa-84f4-acc946aefd34\n"
     ]
    }
   ],
   "source": [
    "execution_job_id = execute(qprog_hhl_basic)\n",
    "results = execution_job_id.result()\n",
    "statevector = results[0].value.state_vector\n",
    "execution_job_id.open_in_ide()"
   ]
  },
  {
   "cell_type": "markdown",
   "metadata": {
    "collapsed": false,
    "jupyter": {
     "outputs_hidden": false
    }
   },
   "source": [
    "We filter the results, then extract the amplitudes of the state vector and compare them to the classical solution. We filter only the `indicator=1` and `phase=0` results."
   ]
  },
  {
   "cell_type": "code",
   "execution_count": 21,
   "metadata": {
    "ExecuteTime": {
     "end_time": "2024-09-03T12:03:07.689459Z",
     "start_time": "2024-09-03T12:03:07.635953Z"
    },
    "collapsed": false,
    "execution": {
     "iopub.execute_input": "2025-03-27T13:45:22.246976Z",
     "iopub.status.busy": "2025-03-27T13:45:22.246740Z",
     "iopub.status.idle": "2025-03-27T13:45:22.352621Z",
     "shell.execute_reply": "2025-03-27T13:45:22.351971Z"
    },
    "jupyter": {
     "outputs_hidden": false
    }
   },
   "outputs": [],
   "source": [
    "filtered_hhl_statevector = dict()\n",
    "for sample in results[0].value.parsed_state_vector:\n",
    "    if sample.state[\"indicator\"] == 1 and sample.state[\"rescaled_eig\"] == 0:\n",
    "        filtered_hhl_statevector[sample.state[\"time_index_and_group\"]] = (\n",
    "            sample.amplitude\n",
    "        )\n",
    "\n",
    "states = list(filtered_hhl_statevector.keys())\n",
    "states.sort()\n",
    "raw_qsol = np.array([filtered_hhl_statevector[s] for s in states])"
   ]
  },
  {
   "cell_type": "markdown",
   "metadata": {
    "collapsed": false,
    "jupyter": {
     "outputs_hidden": false
    }
   },
   "source": [
    "Let's compare the raw solution to the Hermitian matrix with the classical one."
   ]
  },
  {
   "cell_type": "code",
   "execution_count": 22,
   "metadata": {
    "ExecuteTime": {
     "end_time": "2024-09-03T12:03:07.934884Z",
     "start_time": "2024-09-03T12:03:07.708451Z"
    },
    "collapsed": false,
    "execution": {
     "iopub.execute_input": "2025-03-27T13:45:22.355044Z",
     "iopub.status.busy": "2025-03-27T13:45:22.354929Z",
     "iopub.status.idle": "2025-03-27T13:45:22.414447Z",
     "shell.execute_reply": "2025-03-27T13:45:22.413903Z"
    },
    "jupyter": {
     "outputs_hidden": false
    }
   },
   "outputs": [
    {
     "name": "stderr",
     "output_type": "stream",
     "text": [
      "/home/dor/Sources/Classiq/tmp/venv/lib/python3.11/site-packages/matplotlib/cbook.py:1719: ComplexWarning: Casting complex values to real discards the imaginary part\n",
      "  return math.isfinite(val)\n",
      "/home/dor/Sources/Classiq/tmp/venv/lib/python3.11/site-packages/matplotlib/cbook.py:1355: ComplexWarning: Casting complex values to real discards the imaginary part\n",
      "  return np.asarray(x, float)\n"
     ]
    },
    {
     "data": {
      "image/png": "[encoded data removed]",
      "text/plain": [
       "<Figure size 640x480 with 1 Axes>"
      ]
     },
     "metadata": {},
     "output_type": "display_data"
    }
   ],
   "source": [
    "qsol_hermitian = raw_qsol / (min_possible_w)\n",
    "\n",
    "plt.plot(states, qsol_hermitian)\n",
    "plt.plot(states, sol_classical_hermitian)\n",
    "plt.xlabel(\"states\")\n",
    "plt.ylabel(\"amplitude\")\n",
    "plt.legend([\"hhl result\", \"original result\"])\n",
    "plt.show()"
   ]
  },
  {
   "cell_type": "markdown",
   "metadata": {
    "collapsed": false,
    "jupyter": {
     "outputs_hidden": false
    }
   },
   "source": [
    "Now we can compare the two solutions in the time domain, after putting back the normalization factor."
   ]
  },
  {
   "cell_type": "code",
   "execution_count": 23,
   "metadata": {
    "ExecuteTime": {
     "end_time": "2024-09-03T12:03:08.456763Z",
     "start_time": "2024-09-03T12:03:07.942275Z"
    },
    "collapsed": false,
    "execution": {
     "iopub.execute_input": "2025-03-27T13:45:22.416761Z",
     "iopub.status.busy": "2025-03-27T13:45:22.416630Z",
     "iopub.status.idle": "2025-03-27T13:45:22.486158Z",
     "shell.execute_reply": "2025-03-27T13:45:22.485541Z"
    },
    "jupyter": {
     "outputs_hidden": false
    }
   },
   "outputs": [
    {
     "data": {
      "image/png": "[encoded data removed]",
      "text/plain": [
       "<Figure size 640x480 with 1 Axes>"
      ]
     },
     "metadata": {},
     "output_type": "display_data"
    }
   ],
   "source": [
    "plt.plot(t, norm_factor * qsol_hermitian[0:N], label=\"Rabbits HHL\")\n",
    "plt.plot(t, norm_factor * sol_classical_hermitian[0:N], label=\"Rabbits Classical\")\n",
    "\n",
    "plt.plot(t, norm_factor * qsol_hermitian[N : 2 * N], label=\"Foxes HHL\")\n",
    "plt.plot(t, norm_factor * sol_classical_hermitian[N : 2 * N], label=\"Foxes Classical\")\n",
    "plt.xlabel(\"time [years]\")\n",
    "plt.ylabel(\"Population [Thousands of individuals]\")\n",
    "plt.legend()\n",
    "plt.show()"
   ]
  },
  {
   "cell_type": "markdown",
   "metadata": {
    "collapsed": false,
    "jupyter": {
     "outputs_hidden": false
    }
   },
   "source": [
    "The fidelity of the state vector solution can be calculated as the overlap of the two solutions."
   ]
  },
  {
   "cell_type": "code",
   "execution_count": 24,
   "metadata": {
    "ExecuteTime": {
     "end_time": "2024-09-03T12:03:08.547422Z",
     "start_time": "2024-09-03T12:03:08.459229Z"
    },
    "collapsed": false,
    "execution": {
     "iopub.execute_input": "2025-03-27T13:45:22.488745Z",
     "iopub.status.busy": "2025-03-27T13:45:22.488525Z",
     "iopub.status.idle": "2025-03-27T13:45:22.493255Z",
     "shell.execute_reply": "2025-03-27T13:45:22.492583Z"
    },
    "jupyter": {
     "outputs_hidden": false
    }
   },
   "outputs": [
    {
     "name": "stdout",
     "output_type": "stream",
     "text": [
      "Statevector Solution Fidelity: 0.999646266787624\n"
     ]
    }
   ],
   "source": [
    "fidelity = (\n",
    "    np.abs(\n",
    "        np.dot(\n",
    "            sol_classical_hermitian / np.linalg.norm(sol_classical_hermitian),\n",
    "            qsol_hermitian / np.linalg.norm(qsol_hermitian),\n",
    "        )\n",
    "    )\n",
    "    ** 2\n",
    ")\n",
    "print(\"Statevector Solution Fidelity:\", fidelity)"
   ]
  }
 ],
 "metadata": {
  "kernelspec": {
   "display_name": "Python 3 (ipykernel)",
   "language": "python",
   "name": "python3"
  },
  "language_info": {
   "codemirror_mode": {
    "name": "ipython",
    "version": 3
   },
   "file_extension": ".py",
   "mimetype": "text/x-python",
   "name": "python",
   "nbconvert_exporter": "python",
   "pygments_lexer": "ipython3",
   "version": "3.11.7"
  }
 },
 "nbformat": 4,
 "nbformat_minor": 4
}
