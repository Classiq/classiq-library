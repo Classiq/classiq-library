{
 "cells": [
  {
   "cell_type": "markdown",
   "id": "c151c246-e70b-4365-87f2-f9c18facd9c3",
   "metadata": {},
   "source": [
    "# Simon's Algorithm\n",
    "\n",
    "Simon's algorithm [[1](#SimonsWiki)] is a basic quantum algorithm that demonstrates an exponential speed-up over its classical counterpart in the oracle complexity setting. The algorithm solves the so-called Simon's problem: \n",
    "\n",
    "* **Input:** A function $f: [0,1]^N \\rightarrow [0,1]^N$.\n",
    "\n",
    "* **Promise:**  There is a secret binary string $s$ such that\n",
    "$$\n",
    "f(x) = f(y) \\iff x\\oplus  y \\in \\{0, s\\},\n",
    "\\tag{1}\n",
    "$$\n",
    "where $\\oplus$ is a bitwise xor operation.\n",
    "\n",
    "* **Output:** The secret string $s$, using a minimal number of queries of $f$.\n",
    "\n",
    "*** \n",
    "\n",
    "\n",
    "Note that the condition on $f$ implies that it is 2-to-1 if $s \\neq 0^N$, and 1-to-1 otherwise. Hereafter, we refer to a function $f(x)$ that satisfies the condition in Eq. ([1](#mjx-eqn-1)) as a \"Simon's function\".\n",
    "\n",
    "Problem hardness: The Simon's problem is hard to solve with classical deterministic or probabalistic approaches. This can be understood as follows: determining $s$ requires finding a collision $f(x)=f(y)$, as $s = x\\oplus y$. What is the minimum number of calls for measuring a collision? If we take the deterministic approach, in the worst case we need $2^{N-1}$ calls. A probablistic approach, in the spirit of the one that solves the birthday problem [[2](#BDWiki)], has slightly better scaling of $O(2^{N/2})$ queries.\n",
    "\n",
    "**The quantum approach requires $O(N)$ queries, thus introducing an exponential speedup**.\n",
    "\n",
    "Next, we define the Simon's algorithm, which has a [quantum part](#The-Quantum-Part) and a [classical postprocess part](#The-Classical-Postprocess). Then, we run the algorithm on two different examples of a Simon's function: one that can be defined with [simple arithmetic](#Example:-Arithmetic-Simon's-Function) and another that has a [shallow implementation](#Example:-Shallow-Simon's-Function). A [mathematical explanation](#Technical-Notes) of the algorithm is provided at the end of this notebook."
   ]
  },
  {
   "cell_type": "markdown",
   "id": "df99d31d-588f-4292-9c6e-328dc75bd10a",
   "metadata": {},
   "source": [
    "<center>\n",
    "<img src=\"https://docs.classiq.io/resources/simons_algorithm.png\" style=\"width:80%\">\n",
    "<figcaption align = \"middle\"> Figure 1. The Simon's algorithm comprises two quantum blocks. The main part of the algorithm\n",
    "is the oracle that implements the Simon's function f(x). </figcaption>\n",
    "</center>"
   ]
  },
  {
   "cell_type": "markdown",
   "id": "082e2c2c-3e14-41d7-91b8-eaea042faac7",
   "metadata": {},
   "source": [
    "## Building the Algorithm with Classiq"
   ]
  },
  {
   "cell_type": "markdown",
   "id": "29bafcd3-7bf8-4c29-82ab-0df8104683c0",
   "metadata": {},
   "source": [
    "### Quantum Part\n",
    "\n",
    "The quantum part of the algorithm is rather simple, calling the quantum implementation of $f(x)$, between two calls of the hadamard transform. The call of $f$ is done out-of-place, onto a quantum variable $y$, whereas only the final state of $x$ is relevant to the classical postprocess to follow. "
   ]
  },
  {
   "cell_type": "code",
   "execution_count": 1,
   "id": "e4307bea-48a6-4561-9325-dcc60f3e5e52",
   "metadata": {
    "execution": {
     "iopub.execute_input": "2025-03-27T13:36:51.937083Z",
     "iopub.status.busy": "2025-03-27T13:36:51.935975Z",
     "iopub.status.idle": "2025-03-27T13:36:53.689815Z",
     "shell.execute_reply": "2025-03-27T13:36:53.688871Z"
    }
   },
   "outputs": [],
   "source": [
    "from classiq import *\n",
    "\n",
    "\n",
    "@qfunc\n",
    "def simon_qfunc(f_qfunc: QCallable[QNum, Output[QNum]], x: QNum):\n",
    "    res = QNum(\"res\")\n",
    "    hadamard_transform(x)\n",
    "    f_qfunc(x, res)\n",
    "    hadamard_transform(x)"
   ]
  },
  {
   "cell_type": "markdown",
   "id": "c9bb1577-fb51-43b8-8e81-ea8aed88dd14",
   "metadata": {},
   "source": [
    "### Classical Postprocess\n",
    "\n",
    "The classical part of the algorithm includes the following postprocessing steps:\n",
    "\n",
    "1. Finding $N-1$ samples of $x$ that are linearly independent, $\\{y_k\\}^{n-1}_{1}$. It is guaranteed that this can be achieved with high probability (see the [technical details](#The-classical-part) below).\n",
    "2. Finding the string $s$ such that $s \\cdot y_k=0 \\,\\,\\, \\forall k$, where $\\cdot$ refers to a dot-product mod 2 (polynomial complexity in $N$).\n",
    "\n",
    "For these steps we use the *Galois* package, which extends *NumPy* to finite field operations."
   ]
  },
  {
   "cell_type": "code",
   "execution_count": 2,
   "id": "ec2fe11a-5ecf-44cf-9f2c-b8530bf1ad3a",
   "metadata": {
    "execution": {
     "iopub.execute_input": "2025-03-27T13:36:53.692202Z",
     "iopub.status.busy": "2025-03-27T13:36:53.691941Z",
     "iopub.status.idle": "2025-03-27T13:36:53.694664Z",
     "shell.execute_reply": "2025-03-27T13:36:53.694207Z"
    }
   },
   "outputs": [],
   "source": [
    "# !pip install galois"
   ]
  },
  {
   "cell_type": "code",
   "execution_count": 3,
   "id": "2f3f89eb-dca1-410d-a4d1-441bd89cd11b",
   "metadata": {
    "execution": {
     "iopub.execute_input": "2025-03-27T13:36:53.696389Z",
     "iopub.status.busy": "2025-03-27T13:36:53.696265Z",
     "iopub.status.idle": "2025-03-27T13:36:54.419457Z",
     "shell.execute_reply": "2025-03-27T13:36:54.419096Z"
    }
   },
   "outputs": [
    {
     "name": "stderr",
     "output_type": "stream",
     "text": [
      "/home/dor/Sources/Classiq/tmp/venv/lib/python3.11/site-packages/numba/np/ufunc/parallel.py:371: NumbaWarning: The TBB threading layer requires TBB version 2021 update 6 or later i.e., TBB_INTERFACE_VERSION >= 12060. Found TBB_INTERFACE_VERSION = 12050. The TBB threading layer is disabled.\n",
      "  warnings.warn(problem)\n"
     ]
    }
   ],
   "source": [
    "import galois\n",
    "import numpy as np\n",
    "\n",
    "# here we work over Boolean arithmetics - F(2)\n",
    "GF = galois.GF(2)"
   ]
  },
  {
   "cell_type": "markdown",
   "id": "80a47118-75de-4128-9260-c4ee2aba3e31",
   "metadata": {},
   "source": [
    "We define two classical functions for the first step: "
   ]
  },
  {
   "cell_type": "code",
   "execution_count": 4,
   "id": "53bb09e7-3907-4ec6-b4d5-e4c6f34e9d8d",
   "metadata": {
    "execution": {
     "iopub.execute_input": "2025-03-27T13:36:54.422054Z",
     "iopub.status.busy": "2025-03-27T13:36:54.421864Z",
     "iopub.status.idle": "2025-03-27T13:36:54.426095Z",
     "shell.execute_reply": "2025-03-27T13:36:54.425512Z"
    }
   },
   "outputs": [],
   "source": [
    "# The following function checks whether a set contains linearly independent vectors\n",
    "\n",
    "\n",
    "def is_independent_set(vectors):\n",
    "    matrix = GF(vectors)\n",
    "    rank = np.linalg.matrix_rank(matrix)\n",
    "    if rank == len(vectors):\n",
    "        return True\n",
    "    else:\n",
    "        return False\n",
    "\n",
    "\n",
    "def get_independent_set(samples):\n",
    "    \"\"\"\n",
    "    The following function gets samples of n-sized strings from running the quantum part and returns an n-1 x n matrix,\n",
    "    whose rows form a set if independent\n",
    "    \"\"\"\n",
    "    ind_v = []\n",
    "    for v in samples:\n",
    "        if is_independent_set(ind_v + [v]):\n",
    "            ind_v.append(v)\n",
    "            if len(ind_v) == len(v) - 1:\n",
    "                # reached max set of N-1\n",
    "                break\n",
    "    return ind_v"
   ]
  },
  {
   "cell_type": "markdown",
   "id": "2ffe2431-6dea-41fc-9125-00e5ab329ffd",
   "metadata": {},
   "source": [
    "For the second step we need to solve a linear set of equations. We have $N-1$ equations on a binary vector of size $N$.\n",
    "It has two solutions, one of which is the trivial solution $0^N$, while the other gives us the secret string $s$. The *Galois* package handles this task as follows:"
   ]
  },
  {
   "cell_type": "code",
   "execution_count": 5,
   "id": "e01d7967-0520-45d1-adda-57d7f300e0c0",
   "metadata": {
    "execution": {
     "iopub.execute_input": "2025-03-27T13:36:54.427969Z",
     "iopub.status.busy": "2025-03-27T13:36:54.427868Z",
     "iopub.status.idle": "2025-03-27T13:36:54.430919Z",
     "shell.execute_reply": "2025-03-27T13:36:54.430417Z"
    }
   },
   "outputs": [],
   "source": [
    "def get_secret_integer(matrix):\n",
    "    gf_v = GF(matrix)  # converting to a matrix over Z_2\n",
    "    null_space = gf_v.T.left_null_space()  # finding the right-null space of the matrix\n",
    "    return int(\n",
    "        \"\".join(np.array(null_space)[0][::-1].astype(str)), 2\n",
    "    )  # converting from binary to integer"
   ]
  },
  {
   "cell_type": "markdown",
   "id": "a7355697-73b4-4821-bba1-bc7f0b0abf19",
   "metadata": {},
   "source": [
    "---\n",
    "\n",
    "Next, we provide two different examples of Simon's function and run the Simon's algorithm to find their secret string.\n",
    "\n",
    "---"
   ]
  },
  {
   "cell_type": "markdown",
   "id": "a6ba27a3-29b8-4c87-87fe-a1a87c19ca83",
   "metadata": {},
   "source": [
    "## Example: Arithmetic Simon's Function"
   ]
  },
  {
   "cell_type": "markdown",
   "id": "76a43559-06bd-42be-af16-a85d2d80b422",
   "metadata": {},
   "source": [
    "An example of a valid $f(x)$ function that satisfies the condition in Eq. ([1](#mjx-eqn-1)):\n",
    "$$\n",
    "f(x) = \\min(x, x\\oplus s).\n",
    "$$\n",
    "Clearly, we have that $f(x\\oplus s) = \\min(x\\oplus s, (x\\oplus s)\\oplus s)=\\min(x\\oplus s, x)=f(x)$."
   ]
  },
  {
   "cell_type": "markdown",
   "id": "f457af6a-897d-4aa1-a3aa-86aa49530b1c",
   "metadata": {},
   "source": [
    "### Implementing the Simon's Function"
   ]
  },
  {
   "cell_type": "markdown",
   "id": "eead5314-6008-426e-9a4e-92365c3e53c6",
   "metadata": {},
   "source": [
    "We define the function, as well as a model that applies it on all computational basis states to illustrate that it is a two-to-one function."
   ]
  },
  {
   "cell_type": "code",
   "execution_count": 6,
   "id": "4a353a36-5da0-4a2d-a44a-1c08669ee616",
   "metadata": {
    "execution": {
     "iopub.execute_input": "2025-03-27T13:36:54.433117Z",
     "iopub.status.busy": "2025-03-27T13:36:54.432987Z",
     "iopub.status.idle": "2025-03-27T13:36:54.435623Z",
     "shell.execute_reply": "2025-03-27T13:36:54.435152Z"
    }
   },
   "outputs": [],
   "source": [
    "from classiq.qmod.symbolic import min\n",
    "\n",
    "\n",
    "@qfunc\n",
    "def simon_qfunc_simple(s: CInt, x: QNum, res: Output[QNum]):\n",
    "    res |= min(x, x ^ s)"
   ]
  },
  {
   "cell_type": "markdown",
   "id": "a7a128c2-6c61-4639-9716-9c0a93184023",
   "metadata": {},
   "source": [
    "Let us run it with $N=5$ and $s={'}00110{'} (\\equiv 6)$, starting with a uniform distribution of $|x\\rangle$ over all possible states:"
   ]
  },
  {
   "cell_type": "code",
   "execution_count": 7,
   "id": "8ebfa471-7675-4a97-9655-8475495ac55b",
   "metadata": {
    "execution": {
     "iopub.execute_input": "2025-03-27T13:36:54.437343Z",
     "iopub.status.busy": "2025-03-27T13:36:54.437225Z",
     "iopub.status.idle": "2025-03-27T13:37:07.035677Z",
     "shell.execute_reply": "2025-03-27T13:37:07.033716Z"
    }
   },
   "outputs": [
    {
     "name": "stdout",
     "output_type": "stream",
     "text": [
      "Opening: https://platform.classiq.io/circuit/2utzO2qhQglVCxDY5tZx9F5SmCz?login=True&version=0.73.0\n",
      "https://platform.classiq.io/circuit/2utzO2qhQglVCxDY5tZx9F5SmCz?login=True&version=0.73.0\n"
     ]
    }
   ],
   "source": [
    "NUM_QUBITS = 5\n",
    "S_SECRET = 6\n",
    "\n",
    "\n",
    "@qfunc\n",
    "def main(x: Output[QNum], res: Output[QNum]):\n",
    "    allocate(NUM_QUBITS, x)\n",
    "    hadamard_transform(x)\n",
    "    simon_qfunc_simple(S_SECRET, x, res)\n",
    "\n",
    "\n",
    "qmod_1 = create_model(main)\n",
    "qmod_1 = update_constraints(qmod_1, optimization_parameter=OptimizationParameter.WIDTH)\n",
    "\n",
    "# synthesize\n",
    "qprog_1 = synthesize(qmod_1)\n",
    "# vizualize\n",
    "show(qprog_1)\n",
    "\n",
    "# execute\n",
    "result_1 = execute(qprog_1).result_value()"
   ]
  },
  {
   "cell_type": "markdown",
   "id": "0e8c6ff9-580c-4577-9e83-fe3c60761b08",
   "metadata": {},
   "source": [
    "By plotting the results we can see that this is a two-to-one function:"
   ]
  },
  {
   "cell_type": "code",
   "execution_count": 8,
   "id": "2f0662ee-ed60-4504-ba2c-30ba1bca8e3e",
   "metadata": {
    "execution": {
     "iopub.execute_input": "2025-03-27T13:37:07.040277Z",
     "iopub.status.busy": "2025-03-27T13:37:07.039629Z",
     "iopub.status.idle": "2025-03-27T13:37:07.284958Z",
     "shell.execute_reply": "2025-03-27T13:37:07.284526Z"
    }
   },
   "outputs": [
    {
     "data": {
      "image/png": "[encoded data removed]",
      "text/plain": [
       "<Figure size 640x480 with 1 Axes>"
      ]
     },
     "metadata": {},
     "output_type": "display_data"
    }
   ],
   "source": [
    "import matplotlib.pyplot as plt\n",
    "\n",
    "my_result = {\n",
    "    sample.state[\"x\"]: sample.state[\"res\"] for sample in result_1.parsed_counts\n",
    "}\n",
    "fig, ax = plt.subplots()\n",
    "ax.plot(my_result.keys(), my_result.values(), \"o\")\n",
    "ax.grid(axis=\"y\", which=\"minor\")\n",
    "ax.grid(axis=\"y\", which=\"major\")\n",
    "ax.grid(axis=\"x\", which=\"minor\")\n",
    "ax.grid(axis=\"x\", which=\"major\")\n",
    "plt.xlabel(\"$x$\", fontsize=16)\n",
    "plt.ylabel(\"$f(x)$\", fontsize=16)\n",
    "plt.yticks(fontsize=16)\n",
    "plt.xticks(fontsize=16)\n",
    "ax.minorticks_on()"
   ]
  },
  {
   "cell_type": "markdown",
   "id": "e20bf877-78c2-49e8-8e0d-d8af7b2919d8",
   "metadata": {},
   "source": [
    "### Running the Simon's Algorithm\n",
    "\n",
    "Taking $N$ number of shots guarantees getting a set of $N-1$ independent strings with high probability (assuming a noiseless quantum computer) (see [technical explanation](#The-quantum-part) below). Moreover, increasing the number of shots by a constant factor provides an exponential improvment. Here we take $50*N$ shots."
   ]
  },
  {
   "cell_type": "code",
   "execution_count": 9,
   "id": "ee24ec02-1eef-4ae1-9905-d9722570146e",
   "metadata": {
    "execution": {
     "iopub.execute_input": "2025-03-27T13:37:07.286657Z",
     "iopub.status.busy": "2025-03-27T13:37:07.286549Z",
     "iopub.status.idle": "2025-03-27T13:37:07.318826Z",
     "shell.execute_reply": "2025-03-27T13:37:07.318219Z"
    }
   },
   "outputs": [],
   "source": [
    "from classiq.execution import ExecutionPreferences\n",
    "\n",
    "\n",
    "@qfunc\n",
    "def main(x: Output[QNum]):\n",
    "    allocate(NUM_QUBITS, x)\n",
    "    simon_qfunc(lambda x, res: simon_qfunc_simple(S_SECRET, x, res), x)\n",
    "\n",
    "\n",
    "qmod_2 = create_model(\n",
    "    main,\n",
    "    constraints=Constraints(optimization_parameter=OptimizationParameter.WIDTH),\n",
    "    execution_preferences=ExecutionPreferences(num_shots=50 * NUM_QUBITS),\n",
    "    out_file=\"simon_example\",\n",
    ")"
   ]
  },
  {
   "cell_type": "markdown",
   "id": "fe7d80e1-875a-494e-8fa2-ffead27178fa",
   "metadata": {},
   "source": [
    "We synthesize and execute to obtain the results: "
   ]
  },
  {
   "cell_type": "code",
   "execution_count": 10,
   "id": "1223b440-0939-444f-8042-bcae991a443d",
   "metadata": {
    "execution": {
     "iopub.execute_input": "2025-03-27T13:37:07.320664Z",
     "iopub.status.busy": "2025-03-27T13:37:07.320547Z",
     "iopub.status.idle": "2025-03-27T13:37:17.332662Z",
     "shell.execute_reply": "2025-03-27T13:37:17.332104Z"
    }
   },
   "outputs": [],
   "source": [
    "qprog_2 = synthesize(qmod_2)\n",
    "result_2 = execute(qprog_2).result_value()\n",
    "samples = [[int(k) for k in key] for key in result_2.counts_of_output(\"x\")]"
   ]
  },
  {
   "cell_type": "code",
   "execution_count": 11,
   "id": "8d1bf53a-7906-4ab6-b40b-061ac38a560b",
   "metadata": {
    "execution": {
     "iopub.execute_input": "2025-03-27T13:37:17.335343Z",
     "iopub.status.busy": "2025-03-27T13:37:17.334682Z",
     "iopub.status.idle": "2025-03-27T13:37:17.377943Z",
     "shell.execute_reply": "2025-03-27T13:37:17.377261Z"
    }
   },
   "outputs": [],
   "source": [
    "matrix_of_ind_v = get_independent_set(samples)\n",
    "assert (\n",
    "    len(matrix_of_ind_v) == NUM_QUBITS - 1\n",
    "), \"Failed to find an independent set, try to increase the number of shots\"\n",
    "quantum_secret_integer = get_secret_integer(matrix_of_ind_v)"
   ]
  },
  {
   "cell_type": "code",
   "execution_count": 12,
   "id": "3af79a3a-a37b-416c-9580-02392b45305f",
   "metadata": {
    "execution": {
     "iopub.execute_input": "2025-03-27T13:37:17.379909Z",
     "iopub.status.busy": "2025-03-27T13:37:17.379791Z",
     "iopub.status.idle": "2025-03-27T13:37:17.382807Z",
     "shell.execute_reply": "2025-03-27T13:37:17.382358Z"
    }
   },
   "outputs": [
    {
     "name": "stdout",
     "output_type": "stream",
     "text": [
      "The secret binary string (integer) of f(x): 6\n",
      "The result of the Simon's Algorithm: 6\n"
     ]
    }
   ],
   "source": [
    "print(\"The secret binary string (integer) of f(x):\", S_SECRET)\n",
    "print(\"The result of the Simon's Algorithm:\", quantum_secret_integer)\n",
    "assert (\n",
    "    S_SECRET == quantum_secret_integer\n",
    "), \"The Simon's algorithm failed to find the secret key.\""
   ]
  },
  {
   "cell_type": "markdown",
   "id": "78c84b07-cd4d-466b-8f99-13629b149c03",
   "metadata": {},
   "source": [
    "## Example: Shallow Simon's Function"
   ]
  },
  {
   "cell_type": "markdown",
   "id": "1b3887fc-fa53-46be-a519-e911bb54781a",
   "metadata": {},
   "source": [
    "In the second example we take a Simon's function that was presented in a recent paper [[3](#SimonsPaper2024)]: Take a secret string of the form $s=0^{N-L}1^L = \\underbrace{00\\dots0}_{N-L}\\underbrace{1\\dots111}_{L}$, and define the 2-to-1 function:\n",
    "$$\n",
    "f_{s}(|x\\rangle_N) = \\underbrace{|x_0\\rangle |x_1\\rangle \\dots |x_{N-L-1}\\rangle}_{N-L} |0\\rangle \\underbrace{|x_{N-L+1}\\oplus x_{N-L}\\rangle \\dots |x_{N-1}\\oplus x_{N-L}\\rangle}_{L-1}.\n",
    "$$\n",
    "The function $f$ operates as follows: for the first $N-L$ elements we simply \"copy\" the data, whereas for the last $L$ elements we apply a xor with the $N-L$ element. A simple proof that this is indeed a 2-to-1 function is given in Ref. [[3](#SimonsPaper2024)].\n",
    "\n",
    "*Comment:* Ref. [[3](#SimonsPaper2024)] employed further reduction of the function implementation (reducing the $N$-sized Simon's problem to an $(N-L)$-sized problem), added a classical postprocess of randomly permutating over the result of $f(x)$ to increase the hardness of the problem, and also included some NISQ analysis. These steps were taken to show an algorithmic speedup on real quantum hardware."
   ]
  },
  {
   "cell_type": "markdown",
   "id": "65a1970a-ec4e-40ca-89f1-cb341d70b08a",
   "metadata": {},
   "source": [
    "### Implementing the Simon's Function\n",
    "\n",
    "The first $N-L$ \"classical copies\", $|x_k,0\\rangle\\rightarrow |x_k x_k\\rangle$, can be implemented by $CX$ gates. The xor operations, $|x_k,0\\rangle\\rightarrow |x_k, x_k \\oplus x_{N-L}\\rangle$, can be implemented by two CX operations, one for a \"classical copy\" of $x_k$, followed by a $CX$ operation to apply a xor with $x_{N-L}$."
   ]
  },
  {
   "cell_type": "code",
   "execution_count": 13,
   "id": "718afafc-a0ed-49c3-a793-e8cba7eac6c1",
   "metadata": {
    "execution": {
     "iopub.execute_input": "2025-03-27T13:37:17.384769Z",
     "iopub.status.busy": "2025-03-27T13:37:17.384660Z",
     "iopub.status.idle": "2025-03-27T13:37:17.388324Z",
     "shell.execute_reply": "2025-03-27T13:37:17.387712Z"
    }
   },
   "outputs": [],
   "source": [
    "@qfunc\n",
    "def simon_qfunc_with_bipartite_s(\n",
    "    partition_index: CInt, x: QArray[QBit], res: Output[QArray[QBit]]\n",
    "):\n",
    "    allocate(x.len, res)\n",
    "\n",
    "    repeat(x.len - partition_index, lambda i: CX(x[i], res[i]))\n",
    "    repeat(\n",
    "        partition_index - 1,\n",
    "        lambda i: (\n",
    "            CX(\n",
    "                x[x.len - partition_index + 1 + i],\n",
    "                res[x.len - partition_index + 1 + i],\n",
    "            ),\n",
    "            CX(x[x.len - partition_index], res[x.len - partition_index + 1 + i]),\n",
    "        ),\n",
    "    )"
   ]
  },
  {
   "cell_type": "markdown",
   "id": "82f3f088-cb2c-4539-a29a-37e8d3d894b0",
   "metadata": {},
   "source": [
    "Here we take a specific example and plot $f(x)$ for all possible $x$ values: "
   ]
  },
  {
   "cell_type": "code",
   "execution_count": 14,
   "id": "7024f574-2ea3-4864-aa14-8155466a11a4",
   "metadata": {
    "execution": {
     "iopub.execute_input": "2025-03-27T13:37:17.390242Z",
     "iopub.status.busy": "2025-03-27T13:37:17.390118Z",
     "iopub.status.idle": "2025-03-27T13:37:24.145747Z",
     "shell.execute_reply": "2025-03-27T13:37:24.145130Z"
    }
   },
   "outputs": [
    {
     "name": "stdout",
     "output_type": "stream",
     "text": [
      "Opening: https://platform.classiq.io/circuit/2utzQFxPMu2mL7dgHFYX9ItIgch?login=True&version=0.73.0\n",
      "https://platform.classiq.io/circuit/2utzQFxPMu2mL7dgHFYX9ItIgch?login=True&version=0.73.0\n"
     ]
    },
    {
     "data": {
      "image/png": "[encoded data removed]",
      "text/plain": [
       "<Figure size 640x480 with 1 Axes>"
      ]
     },
     "metadata": {},
     "output_type": "display_data"
    }
   ],
   "source": [
    "NUM_QUBITS = 6\n",
    "PARTITION_INDEX = 4\n",
    "\n",
    "\n",
    "@qfunc\n",
    "def main(x: Output[QNum], res: Output[QNum]):\n",
    "    allocate(NUM_QUBITS, x)\n",
    "    hadamard_transform(x)\n",
    "    simon_qfunc_with_bipartite_s(PARTITION_INDEX, x, res)\n",
    "\n",
    "\n",
    "qmod_3 = create_model(main)\n",
    "qmod_3 = update_constraints(qmod_3, optimization_parameter=OptimizationParameter.WIDTH)\n",
    "\n",
    "# synthesize\n",
    "qprog_3 = synthesize(qmod_3)\n",
    "# vizualize\n",
    "show(qprog_3)\n",
    "\n",
    "# execute\n",
    "result_3 = execute(qprog_3).result_value()\n",
    "\n",
    "# plot the f(x)\n",
    "my_result = {\n",
    "    sample.state[\"x\"]: sample.state[\"res\"] for sample in result_3.parsed_counts\n",
    "}\n",
    "fig, ax = plt.subplots()\n",
    "ax.plot(my_result.keys(), my_result.values(), \"o\")\n",
    "ax.grid(axis=\"y\", which=\"minor\")\n",
    "ax.grid(axis=\"y\", which=\"major\")\n",
    "ax.grid(axis=\"x\", which=\"minor\")\n",
    "ax.grid(axis=\"x\", which=\"major\")\n",
    "plt.xlabel(\"$x$\", fontsize=16)\n",
    "plt.ylabel(\"$f(x)$\", fontsize=16)\n",
    "plt.yticks(fontsize=16)\n",
    "plt.xticks(fontsize=16)\n",
    "ax.minorticks_on()"
   ]
  },
  {
   "cell_type": "markdown",
   "id": "4e0457d6-f0a0-4c11-afba-394ff2733203",
   "metadata": {},
   "source": [
    "### Running the Simon's Algorithm\n",
    "\n",
    "As in the first example, we take $50*N$ shots."
   ]
  },
  {
   "cell_type": "code",
   "execution_count": 15,
   "id": "d1bbd003-27fc-4d1e-9ecc-f7cbdd512831",
   "metadata": {
    "execution": {
     "iopub.execute_input": "2025-03-27T13:37:24.147502Z",
     "iopub.status.busy": "2025-03-27T13:37:24.147409Z",
     "iopub.status.idle": "2025-03-27T13:37:24.184624Z",
     "shell.execute_reply": "2025-03-27T13:37:24.183870Z"
    }
   },
   "outputs": [],
   "source": [
    "@qfunc\n",
    "def main(x: Output[QNum]):\n",
    "    allocate(NUM_QUBITS, x)\n",
    "    simon_qfunc(lambda x, res: simon_qfunc_with_bipartite_s(PARTITION_INDEX, x, res), x)\n",
    "\n",
    "\n",
    "qmod_4 = create_model(main)\n",
    "qmod_4 = update_execution_preferences(qmod_4, num_shots=50 * NUM_QUBITS)\n",
    "write_qmod(qmod_4, \"simon_shallow_example\")"
   ]
  },
  {
   "cell_type": "markdown",
   "id": "4297c903-f4f8-436b-a62f-755b037012b9",
   "metadata": {},
   "source": [
    "We synthesize and execute to obtain the results: "
   ]
  },
  {
   "cell_type": "code",
   "execution_count": 16,
   "id": "2b893be2-6d70-4264-a84b-38ec318f83c8",
   "metadata": {
    "execution": {
     "iopub.execute_input": "2025-03-27T13:37:24.186506Z",
     "iopub.status.busy": "2025-03-27T13:37:24.186354Z",
     "iopub.status.idle": "2025-03-27T13:37:31.121606Z",
     "shell.execute_reply": "2025-03-27T13:37:31.120903Z"
    }
   },
   "outputs": [
    {
     "name": "stdout",
     "output_type": "stream",
     "text": [
      "Opening: https://platform.classiq.io/circuit/2utzRD8jvV9GSRPF4gXLR1b9JHn?login=True&version=0.73.0\n",
      "https://platform.classiq.io/circuit/2utzRD8jvV9GSRPF4gXLR1b9JHn?login=True&version=0.73.0\n"
     ]
    }
   ],
   "source": [
    "qprog_4 = synthesize(qmod_4)\n",
    "show(qprog_4)\n",
    "result_4 = execute(qprog_4).result_value()\n",
    "samples = [[int(k) for k in key] for key in result_4.counts_of_output(\"x\")]"
   ]
  },
  {
   "cell_type": "code",
   "execution_count": 17,
   "id": "a5ef7dbb-a01c-401a-9c16-d9d9d17f9a6c",
   "metadata": {
    "execution": {
     "iopub.execute_input": "2025-03-27T13:37:31.124489Z",
     "iopub.status.busy": "2025-03-27T13:37:31.123930Z",
     "iopub.status.idle": "2025-03-27T13:37:31.133086Z",
     "shell.execute_reply": "2025-03-27T13:37:31.132651Z"
    }
   },
   "outputs": [],
   "source": [
    "matrix_of_ind_v = get_independent_set(samples)\n",
    "assert (\n",
    "    len(matrix_of_ind_v) == NUM_QUBITS - 1\n",
    "), \"Failed to find an independent set, try to increase the number of shots\"\n",
    "quantum_secret_integer = get_secret_integer(matrix_of_ind_v)"
   ]
  },
  {
   "cell_type": "code",
   "execution_count": 18,
   "id": "36311726-fb1d-40d7-b830-ab4af4e2ea84",
   "metadata": {
    "execution": {
     "iopub.execute_input": "2025-03-27T13:37:31.134516Z",
     "iopub.status.busy": "2025-03-27T13:37:31.134381Z",
     "iopub.status.idle": "2025-03-27T13:37:31.136803Z",
     "shell.execute_reply": "2025-03-27T13:37:31.136512Z"
    }
   },
   "outputs": [
    {
     "name": "stdout",
     "output_type": "stream",
     "text": [
      "The secret binary string (integer) of f(x): 60\n",
      "The result of the Simon's Algorithm: 60\n"
     ]
    }
   ],
   "source": [
    "s_secret = int(\"1\" * PARTITION_INDEX + \"0\" * (NUM_QUBITS - PARTITION_INDEX), 2)\n",
    "print(\"The secret binary string (integer) of f(x):\", s_secret)\n",
    "print(\"The result of the Simon's Algorithm:\", quantum_secret_integer)\n",
    "assert (\n",
    "    s_secret == quantum_secret_integer\n",
    "), \"The Simon's algorithm failed to find the secret key.\""
   ]
  },
  {
   "cell_type": "markdown",
   "id": "29ddb559-94c2-48eb-87ca-63a95d8d7a16",
   "metadata": {},
   "source": [
    "## Technical Notes\n",
    "\n",
    "This section provides some technical details about the quantum and classical parts of the Simon's algorithm."
   ]
  },
  {
   "cell_type": "markdown",
   "id": "1a0b7c46-89db-4f0e-8dac-df1529525ec6",
   "metadata": {},
   "source": [
    "### Quantum Part\n",
    "\n",
    "Following the three blocks of the algorithm:\n",
    "$$\n",
    "|0\\rangle_N |0\\rangle_N \\rightarrow \\frac{1}{2^{N/2}}\\sum^{2^N-1}_{x=0}|x\\rangle_N |0\\rangle_N  \\rightarrow \\frac{1}{2^{N/2}}\\sum^{2^N-1}_{x=0}|x\\rangle_N |f(x)\\rangle_N \n",
    " \\rightarrow \\frac{1}{2^{N}} \\sum^{2^N-1}_{y=0} |y\\rangle_N \\left( \\sum^{2^N-1}_{x=0}(-1)^{x\\cdot y} |f(x)\\rangle_N \\right),\n",
    "$$\n",
    "and we measure the first register $|y\\rangle$. First, we treat the case that $f(x)$ is a 2-to-1 function. The claim is that for any measured state $y$, we must have that $y\\cdot s=0$. To see this, calculate the probability of measuring some state $|y\\rangle$:\n",
    "$$\n",
    "P(|y\\rangle) \\propto \\left| \\sum^{2^N-1}_{x=0}(-1)^{x\\cdot y} |f(x)\\rangle_N \\right|^2.\n",
    "$$\n",
    "Now, change the sum to run over the image of $f(x)$ instead of over all $x\\in [0,2^{N}-1]$. Since for any $f(x)$ there are two sources in the domain, $x$ and $x\\oplus s$,  we can write\n",
    "$$\n",
    "P(|y\\rangle) \\propto \\left| \\sum_{f(x) \\in imag(f)} \\left[ (-1)^{x\\cdot y} + (-1)^{(x\\oplus s )\\cdot y} \\right]|f(x)\\rangle_N \\right|^2.\n",
    "$$\n",
    "Finally, if we assume by negation that  $y\\cdot s =1$ then the above expression is evaluted to zero, and we get a contradiction that $y$ was measured.\n",
    "Hence, for any measured $y$ we have $y\\cdot s =0$.\n",
    "\n",
    "If $s=0^N$, we still measure a set of $N-1$ independent $y$ with high probability (each $y$ with $1/2^N$ probability)."
   ]
  },
  {
   "cell_type": "markdown",
   "id": "fed2c380-c13c-4f17-b6e3-4a41d7eeadc0",
   "metadata": {},
   "source": [
    "### Classical Part\n",
    "\n",
    "We have a set of possible $y$ values that can be measured, each with the same probability of $1/M$, where $M$ is the set size. If $s=0^N$, we have $M=2^N$, whereas for $s\\neq 0^N$ the set size is $M=2^{N-1}$. The probability to measure a set of $N-1$ linearly independent binary strings $y$ can be calculated as follows (see also the birthday problem [[2](#BDWiki)]): For the first string we just require that we do not pick $y=0^N$, so $P(y_0)=1-1/M$. Then, for the next string, we require that it is not in $\\left\\{a_0 y_0\\,\\,\\,| a_0=0,1\\right\\}$, thus $P(y_1)=(1-2/M)$. The following string is required not to be picked out of $\\left\\{a_0 y_0+a_1y_1\\,\\,\\,| a_0, a_1=0,1\\right\\}$. We can continue with this procedure up to $y_{N-1}$ to get\n",
    "$$\n",
    "P_{\\rm independent} = \n",
    "\\left\\{\\begin{array}{l l}\n",
    "\\Pi^{2^{N-2}}_{k=0} \\left(1-2^k/2^{N}\\right) & \\text{,  if } f(x) \\text{ is 1-to-1},\\\\\n",
    "\\Pi^{2^{N-2}}_{k=0} \\left(1-2^k/2^{N-1}\\right) & \\text{,   if } f(x) \\text{ is 2-to-1}\n",
    "\\end{array}\n",
    "\\,\\,\\,\\,\\,\n",
    "\\geq \\Pi^{\\infty}_{k=1}\\left(1-\\frac{1}{2^k}\\right) \\approx 0.2887 \\geq 1/4.\n",
    "\\right.\n",
    "$$\n",
    "If we repeat the experiment $K$ times then the probability to measure an independent set improves exponentially."
   ]
  },
  {
   "cell_type": "markdown",
   "id": "e99222a4-d11b-46cd-ae44-5baa602d1567",
   "metadata": {},
   "source": [
    "## References\n",
    "\n",
    "<a id='SimonsWiki'>[1]</a>: [Simon's algorithm (Wikipedia)](https://en.wikipedia.org/wiki/Simon%27s_problem)\n",
    "\n",
    "<a id='BDWiki'>[2]</a>: [Birthday problem (Wikipedia)](https://en.wikipedia.org/wiki/Birthday_problem)\n",
    "\n",
    "<a id='SimonsPaper2024'>[3]</a>: [Singkanipa P. et al. \"Demonstration of Algorithmic Quantum Speedup for an Abelian Hidden Subgroup Problem.\" arXiv preprint arXiv:2401.07934 (2024).](https://arxiv.org/abs/2401.07934)"
   ]
  }
 ],
 "metadata": {
  "kernelspec": {
   "display_name": "Python 3 (ipykernel)",
   "language": "python",
   "name": "python3"
  },
  "language_info": {
   "codemirror_mode": {
    "name": "ipython",
    "version": 3
   },
   "file_extension": ".py",
   "mimetype": "text/x-python",
   "name": "python",
   "nbconvert_exporter": "python",
   "pygments_lexer": "ipython3",
   "version": "3.11.7"
  }
 },
 "nbformat": 4,
 "nbformat_minor": 5
}
