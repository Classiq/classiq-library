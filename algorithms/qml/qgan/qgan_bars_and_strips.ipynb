{
 "cells": [
  {
   "cell_type": "markdown",
   "id": "9cd05212-388f-4702-a1bd-d4db19afc8fa",
   "metadata": {
    "collapsed": false
   },
   "source": [
    "# Quantum Generative Adversarial Networks (QGANs)\n",
    "***\n",
    "Generative AI, especially through Generative Adversarial Networks (GANs), revolutionizes content creation across various domains by producing highly realistic outputs. Quantum GANs further elevate this potential by leveraging quantum computing, promising unprecedented advancements in complex data simulation and analysis. \n",
    "***\n",
    "In this notebook, we'll explore the concept of Quantum Generative Adversarial Networks (QGANs) and implement a simple QGAN model using the Classiq SDK.\n",
    "\n",
    "We study a simple usecase of Bars and Stripes dataset. We begin with a classical implementation of a GAN, and then move to a hybrid quantum-classical GAN model."
   ]
  },
  {
   "cell_type": "markdown",
   "id": "cbc47d04-891a-4ec2-ad39-5b146622fc75",
   "metadata": {
    "collapsed": false
   },
   "source": [
    "## 1 Data Preparation\n",
    "\n",
    "We generate the Bars and Stripes dataset, a simple binary dataset consisting of 2x2 images with either a horizontal or vertical stripe pattern."
   ]
  },
  {
   "cell_type": "code",
   "execution_count": 1,
   "id": "90eed60c6bc07ca5",
   "metadata": {
    "ExecuteTime": {
     "end_time": "2024-02-21T14:01:58.670187Z",
     "start_time": "2024-02-21T14:01:58.613757Z"
    },
    "collapsed": false,
    "execution": {
     "iopub.execute_input": "2024-07-31T11:49:08.386352Z",
     "iopub.status.busy": "2024-07-31T11:49:08.385687Z",
     "iopub.status.idle": "2024-07-31T11:49:08.447727Z",
     "shell.execute_reply": "2024-07-31T11:49:08.446888Z"
    }
   },
   "outputs": [],
   "source": [
    "import time\n",
    "\n",
    "import numpy as np\n",
    "\n",
    "\n",
    "# Function to create Bars and Stripes dataset\n",
    "def create_bars_and_stripes_dataset(num_samples):\n",
    "    samples = []\n",
    "    for _ in range(num_samples):\n",
    "        horizontal = np.random.randint(0, 2) == 0\n",
    "        if horizontal:\n",
    "            stripe = np.random.randint(0, 2, size=(2, 1))\n",
    "            sample = np.tile(stripe, (1, 2))\n",
    "        else:\n",
    "            stripe = np.random.randint(0, 2, size=(1, 2))\n",
    "            sample = np.tile(stripe, (2, 1))\n",
    "        samples.append(sample)\n",
    "    return np.array(samples, dtype=np.uint8)"
   ]
  },
  {
   "cell_type": "code",
   "execution_count": 2,
   "id": "3306f1cb17fc77af",
   "metadata": {
    "ExecuteTime": {
     "end_time": "2024-02-21T14:01:58.685166Z",
     "start_time": "2024-02-21T14:01:58.676420Z"
    },
    "collapsed": false,
    "execution": {
     "iopub.execute_input": "2024-07-31T11:49:08.452510Z",
     "iopub.status.busy": "2024-07-31T11:49:08.451396Z",
     "iopub.status.idle": "2024-07-31T11:49:08.480780Z",
     "shell.execute_reply": "2024-07-31T11:49:08.480280Z"
    }
   },
   "outputs": [],
   "source": [
    "# Generate Bars and Stripes dataset\n",
    "dataset = create_bars_and_stripes_dataset(num_samples=1000)"
   ]
  },
  {
   "cell_type": "markdown",
   "id": "a8da3493f26da0",
   "metadata": {
    "collapsed": false
   },
   "source": [
    "### 1.1 Visualizing the generated data \n",
    "Let's plot a few samples from the dataset to visualize the Bars and Stripes patterns:\n"
   ]
  },
  {
   "cell_type": "code",
   "execution_count": 3,
   "id": "d352b31c-c63e-4c69-99b4-aa6bb5c8e56d",
   "metadata": {
    "ExecuteTime": {
     "end_time": "2024-02-28T12:04:38.504739Z",
     "start_time": "2024-02-28T12:04:38.351180Z"
    },
    "collapsed": false,
    "execution": {
     "iopub.execute_input": "2024-07-31T11:49:08.484671Z",
     "iopub.status.busy": "2024-07-31T11:49:08.483710Z",
     "iopub.status.idle": "2024-07-31T11:49:09.015076Z",
     "shell.execute_reply": "2024-07-31T11:49:09.014275Z"
    }
   },
   "outputs": [],
   "source": [
    "import matplotlib.pyplot as plt\n",
    "from matplotlib.colors import LinearSegmentedColormap\n",
    "\n",
    "\n",
    "# Plot images in a 3 by 3 grid\n",
    "def plot_nine_images(generated_images):\n",
    "    # Define custom colormap\n",
    "    classiq_cmap = LinearSegmentedColormap.from_list(\n",
    "        \"teal_white\", [(0, \"#00FF00\"), (1, \"black\")]\n",
    "    )\n",
    "    fig, axes = plt.subplots(3, 3, figsize=(6, 6))\n",
    "    for i, ax in enumerate(axes.flat):\n",
    "        ax.imshow(generated_images[i].reshape(2, 2), cmap=classiq_cmap, vmin=0, vmax=1)\n",
    "        ax.axis(\"off\")\n",
    "        ax.set_title(f\"Image {i+1}\")\n",
    "        for j in range(2):\n",
    "            for k in range(2):\n",
    "                label = int(generated_images[i].reshape(2, 2)[j, k])\n",
    "                ax.text(\n",
    "                    k,\n",
    "                    j,\n",
    "                    f\"{label}\",\n",
    "                    ha=\"center\",\n",
    "                    va=\"center\",\n",
    "                    color=\"white\" if label == 1 else \"black\",\n",
    "                    fontsize=16,\n",
    "                )\n",
    "    plt.tight_layout()\n",
    "    plt.show()"
   ]
  },
  {
   "cell_type": "code",
   "execution_count": 4,
   "id": "c7dacda8-62ab-48cc-b2c3-ff94f9f006ee",
   "metadata": {
    "ExecuteTime": {
     "end_time": "2024-02-28T12:04:38.504739Z",
     "start_time": "2024-02-28T12:04:38.351180Z"
    },
    "collapsed": false,
    "execution": {
     "iopub.execute_input": "2024-07-31T11:49:09.020600Z",
     "iopub.status.busy": "2024-07-31T11:49:09.019236Z",
     "iopub.status.idle": "2024-07-31T11:49:09.851152Z",
     "shell.execute_reply": "2024-07-31T11:49:09.850281Z"
    }
   },
   "outputs": [
    {
     "data": {
      "image/png": "[encoded data removed]",
      "text/plain": [
       "<Figure size 600x600 with 9 Axes>"
      ]
     },
     "metadata": {},
     "output_type": "display_data"
    }
   ],
   "source": [
    "# Generate images\n",
    "generated_images = create_bars_and_stripes_dataset(9)\n",
    "plot_nine_images(generated_images)"
   ]
  },
  {
   "cell_type": "markdown",
   "id": "d106636b-b885-4404-862f-f34fdb59756a",
   "metadata": {
    "collapsed": false
   },
   "source": [
    "We create a PyTorch DataLoader to feed the dataset to the GAN model during training."
   ]
  },
  {
   "cell_type": "code",
   "execution_count": 5,
   "id": "f5d147ea28bc06f2",
   "metadata": {
    "ExecuteTime": {
     "end_time": "2024-02-21T14:01:58.844465Z",
     "start_time": "2024-02-21T14:01:58.842762Z"
    },
    "collapsed": false,
    "execution": {
     "iopub.execute_input": "2024-07-31T11:49:09.866087Z",
     "iopub.status.busy": "2024-07-31T11:49:09.864917Z",
     "iopub.status.idle": "2024-07-31T11:49:11.577729Z",
     "shell.execute_reply": "2024-07-31T11:49:11.577084Z"
    }
   },
   "outputs": [],
   "source": [
    "import torch\n",
    "from torch.utils.data import DataLoader, TensorDataset\n",
    "\n",
    "# Create DataLoader for training\n",
    "tensor_dataset = TensorDataset(torch.tensor(dataset, dtype=torch.float))\n",
    "dataloader = DataLoader(tensor_dataset, batch_size=64, shuffle=True)"
   ]
  },
  {
   "cell_type": "markdown",
   "id": "c702902d-0242-4cbf-9bfa-e12e49c7ae38",
   "metadata": {
    "collapsed": false
   },
   "source": [
    "## 2 Classical network "
   ]
  },
  {
   "cell_type": "markdown",
   "id": "942b1203-cf34-4a4b-8a45-51dcbd11c847",
   "metadata": {
    "collapsed": false
   },
   "source": [
    "### 2.1 Defining a classical GAN\n",
    "\n",
    "We begin by defining the generator and discriminator models (architecture) for the classical GAN.\n",
    "We work with `tensorboard` to save our logs (un-comment the following line to install the package)."
   ]
  },
  {
   "cell_type": "code",
   "execution_count": 6,
   "id": "1157ac4e-2e99-42a1-8d0f-6fc4cfee7e38",
   "metadata": {
    "execution": {
     "iopub.execute_input": "2024-07-31T11:49:11.581002Z",
     "iopub.status.busy": "2024-07-31T11:49:11.580527Z",
     "iopub.status.idle": "2024-07-31T11:49:11.583445Z",
     "shell.execute_reply": "2024-07-31T11:49:11.582860Z"
    }
   },
   "outputs": [],
   "source": [
    "# ! pip install tensorboard"
   ]
  },
  {
   "cell_type": "code",
   "execution_count": 7,
   "id": "79d4cced-1dee-4dcc-9c46-104f33d62020",
   "metadata": {
    "execution": {
     "iopub.execute_input": "2024-07-31T11:49:11.585676Z",
     "iopub.status.busy": "2024-07-31T11:49:11.585371Z",
     "iopub.status.idle": "2024-07-31T11:49:11.588614Z",
     "shell.execute_reply": "2024-07-31T11:49:11.588015Z"
    }
   },
   "outputs": [],
   "source": [
    "import pathlib\n",
    "\n",
    "path = (\n",
    "    pathlib.Path(__file__).parent.resolve()\n",
    "    if \"__file__\" in locals()\n",
    "    else pathlib.Path(\".\")\n",
    ")"
   ]
  },
  {
   "cell_type": "code",
   "execution_count": 8,
   "id": "e4b989f85ea36274",
   "metadata": {
    "ExecuteTime": {
     "end_time": "2024-02-21T14:01:58.849345Z",
     "start_time": "2024-02-21T14:01:58.847144Z"
    },
    "collapsed": false,
    "execution": {
     "iopub.execute_input": "2024-07-31T11:49:11.590940Z",
     "iopub.status.busy": "2024-07-31T11:49:11.590585Z",
     "iopub.status.idle": "2024-07-31T11:49:11.596381Z",
     "shell.execute_reply": "2024-07-31T11:49:11.595758Z"
    }
   },
   "outputs": [],
   "source": [
    "import torch.nn as nn\n",
    "\n",
    "\n",
    "class Generator(nn.Module):\n",
    "    def __init__(self, input_size=2, output_size=4, hidden_size=32):\n",
    "        super(Generator, self).__init__()\n",
    "        self.model = nn.Sequential(\n",
    "            nn.Linear(input_size, hidden_size // 2),  # Adjusted hidden layer size\n",
    "            nn.ReLU(),\n",
    "            nn.Linear(hidden_size // 2, hidden_size),  # Adjusted hidden layer size\n",
    "            nn.ReLU(),\n",
    "            nn.Linear(hidden_size, output_size),\n",
    "            nn.Sigmoid(),  # Sigmoid activation to output probabilities\n",
    "        )\n",
    "\n",
    "    def forward(self, x):\n",
    "        return torch.round(self.model(x))\n",
    "\n",
    "\n",
    "class Discriminator(nn.Module):\n",
    "    def __init__(self, input_size=4, hidden_size=16):\n",
    "        super(Discriminator, self).__init__()\n",
    "        self.model = nn.Sequential(\n",
    "            nn.Linear(input_size, hidden_size // 2),  # Adjusted hidden layer size\n",
    "            nn.LeakyReLU(0.2),\n",
    "            nn.Linear(hidden_size // 2, hidden_size),  # Adjusted hidden layer size\n",
    "            nn.LeakyReLU(0.25),\n",
    "            nn.Dropout(0.3),\n",
    "            nn.Linear(hidden_size, 1),\n",
    "            nn.Sigmoid(),  # Sigmoid activation to output probabilities\n",
    "        )\n",
    "\n",
    "    def forward(self, x):\n",
    "        x = x.view(-1, 4)  # Flatten input for fully connected layers\n",
    "        return self.model(x)"
   ]
  },
  {
   "cell_type": "markdown",
   "id": "53cf99bc973320d0",
   "metadata": {
    "collapsed": false
   },
   "source": [
    "### 2.2 Training a classical GAN\n",
    "\n",
    "**Training loop** $\\rightarrow$ Define the training loop for the classical GAN:"
   ]
  },
  {
   "cell_type": "code",
   "execution_count": 9,
   "id": "998f0caa7922c78e",
   "metadata": {
    "ExecuteTime": {
     "end_time": "2024-02-21T14:01:58.854405Z",
     "start_time": "2024-02-21T14:01:58.852029Z"
    },
    "collapsed": false,
    "execution": {
     "iopub.execute_input": "2024-07-31T11:49:11.598545Z",
     "iopub.status.busy": "2024-07-31T11:49:11.598376Z",
     "iopub.status.idle": "2024-07-31T11:49:12.410273Z",
     "shell.execute_reply": "2024-07-31T11:49:12.409483Z"
    }
   },
   "outputs": [],
   "source": [
    "import os\n",
    "from datetime import datetime\n",
    "\n",
    "import torch\n",
    "import torch.nn as nn\n",
    "import torchvision.utils as vutils\n",
    "from torch.utils.tensorboard import SummaryWriter\n",
    "\n",
    "\n",
    "def train_gan(\n",
    "    generator,\n",
    "    discriminator,\n",
    "    dataloader,\n",
    "    log_dir_name,\n",
    "    fixed_noise,\n",
    "    random_fake_data_generator,\n",
    "    num_epochs=100,\n",
    "    device=\"cpu\",\n",
    "):\n",
    "\n",
    "    # Initialize TensorBoard writer\n",
    "    run_id = datetime.now().strftime(\"%Y%m%d_%H%M%S\")\n",
    "    log_dir = os.path.join(log_dir_name, run_id)\n",
    "    writer = SummaryWriter(log_dir=log_dir)\n",
    "\n",
    "    # Define loss function and optimizer\n",
    "    criterion = nn.BCELoss()\n",
    "    g_optimizer = torch.optim.Adam(generator.parameters(), lr=0.0002)\n",
    "    d_optimizer = torch.optim.Adam(discriminator.parameters(), lr=0.0002)\n",
    "\n",
    "    generator.to(device)\n",
    "    discriminator.to(device)\n",
    "\n",
    "    for epoch in range(num_epochs):\n",
    "        for i, batch in enumerate(dataloader):\n",
    "            real_data = batch[0].to(device)\n",
    "            batch_size = real_data.size(0)\n",
    "\n",
    "            # Train Discriminator with real data\n",
    "            d_optimizer.zero_grad()\n",
    "            real_output = discriminator(real_data)\n",
    "            d_real_loss = criterion(real_output, torch.ones_like(real_output))\n",
    "            d_real_loss.backward()\n",
    "\n",
    "            # Train Discriminator with fake data\n",
    "            z = random_fake_data_generator(batch_size)\n",
    "            fake_data = generator(z)\n",
    "            fake_output = discriminator(fake_data.detach())\n",
    "            d_fake_loss = criterion(fake_output, torch.zeros_like(fake_output))\n",
    "            d_fake_loss.backward()\n",
    "            d_optimizer.step()\n",
    "\n",
    "            # Train Generator\n",
    "            g_optimizer.zero_grad()\n",
    "            z = random_fake_data_generator(batch_size)\n",
    "            fake_data = generator(z)\n",
    "            fake_output = discriminator(fake_data)\n",
    "            g_loss = criterion(fake_output, torch.ones_like(fake_output))\n",
    "            g_loss.backward()\n",
    "            g_optimizer.step()\n",
    "\n",
    "            # Log losses to TensorBoard\n",
    "            step = epoch * len(dataloader) + i\n",
    "            writer.add_scalar(\"Generator Loss\", g_loss.item(), step)\n",
    "            writer.add_scalar(\"Discriminator Real Loss\", d_real_loss.item(), step)\n",
    "            writer.add_scalar(\"Discriminator Fake Loss\", d_fake_loss.item(), step)\n",
    "\n",
    "            if i % 100 == 0:\n",
    "                print(\n",
    "                    f\"Epoch [{epoch+1}/{num_epochs}], Step [{i+1}/{len(dataloader)}], \"\n",
    "                    f\"Generator Loss: {g_loss.item():.4f}, \"\n",
    "                    f\"Discriminator Real Loss: {d_real_loss.item():.4f}, \"\n",
    "                    f\"Discriminator Fake Loss: {d_fake_loss.item():.4f}\"\n",
    "                )\n",
    "\n",
    "        # Generate and log sample images for visualization\n",
    "        # if (epoch+1) % (num_epochs // 10) == 0:\n",
    "        #     with torch.no_grad():\n",
    "        #         generated_images = generator(fixed_noise).detach().cpu()\n",
    "        #     img_grid = vutils.make_grid(generated_images, nrow=3, normalize=True)\n",
    "        #     writer.add_image('Generated Images', img_grid, epoch+1)\n",
    "\n",
    "    # Close TensorBoard writer\n",
    "    writer.close()"
   ]
  },
  {
   "cell_type": "markdown",
   "id": "d2366f4c-81e0-441a-84ce-0b66d2bf692d",
   "metadata": {},
   "source": [
    "We train our model and save the trained generator in `'generator_model.pth'`."
   ]
  },
  {
   "cell_type": "code",
   "execution_count": 10,
   "id": "d59ca234-e9b1-4229-84b5-a4e1a9723c7d",
   "metadata": {
    "execution": {
     "iopub.execute_input": "2024-07-31T11:49:12.415608Z",
     "iopub.status.busy": "2024-07-31T11:49:12.414280Z",
     "iopub.status.idle": "2024-07-31T11:49:12.421243Z",
     "shell.execute_reply": "2024-07-31T11:49:12.420592Z"
    }
   },
   "outputs": [],
   "source": [
    "# Fixed noise for visualizing generated samples\n",
    "fixed_noise = torch.randn(9, 2)\n",
    "\n",
    "\n",
    "def random_fake_data_for_gan(batch_size, input_size):\n",
    "    return torch.randn(batch_size, input_size)"
   ]
  },
  {
   "cell_type": "code",
   "execution_count": 11,
   "id": "38df9d679364cd4a",
   "metadata": {
    "ExecuteTime": {
     "end_time": "2024-02-21T14:01:59.041937Z",
     "start_time": "2024-02-21T14:01:58.854469Z"
    },
    "collapsed": false,
    "execution": {
     "iopub.execute_input": "2024-07-31T11:49:12.425462Z",
     "iopub.status.busy": "2024-07-31T11:49:12.424272Z",
     "iopub.status.idle": "2024-07-31T11:49:13.102629Z",
     "shell.execute_reply": "2024-07-31T11:49:13.101941Z"
    }
   },
   "outputs": [
    {
     "name": "stdout",
     "output_type": "stream",
     "text": [
      "Epoch [1/10], Step [1/16], Generator Loss: 0.6520, Discriminator Real Loss: 0.6389, Discriminator Fake Loss: 0.7445\n",
      "Epoch [2/10], Step [1/16], Generator Loss: 0.6605, Discriminator Real Loss: 0.6548, Discriminator Fake Loss: 0.7283\n",
      "Epoch [3/10], Step [1/16], Generator Loss: 0.6616, Discriminator Real Loss: 0.6508, Discriminator Fake Loss: 0.7302\n"
     ]
    },
    {
     "name": "stdout",
     "output_type": "stream",
     "text": [
      "Epoch [4/10], Step [1/16], Generator Loss: 0.6629, Discriminator Real Loss: 0.6494, Discriminator Fake Loss: 0.7223\n",
      "Epoch [5/10], Step [1/16], Generator Loss: 0.6694, Discriminator Real Loss: 0.6532, Discriminator Fake Loss: 0.7240\n",
      "Epoch [6/10], Step [1/16], Generator Loss: 0.6764, Discriminator Real Loss: 0.6592, Discriminator Fake Loss: 0.7177\n"
     ]
    },
    {
     "name": "stdout",
     "output_type": "stream",
     "text": [
      "Epoch [7/10], Step [1/16], Generator Loss: 0.6751, Discriminator Real Loss: 0.6605, Discriminator Fake Loss: 0.7105\n",
      "Epoch [8/10], Step [1/16], Generator Loss: 0.6814, Discriminator Real Loss: 0.6589, Discriminator Fake Loss: 0.7021\n",
      "Epoch [9/10], Step [1/16], Generator Loss: 0.6887, Discriminator Real Loss: 0.6628, Discriminator Fake Loss: 0.7018\n",
      "Epoch [10/10], Step [1/16], Generator Loss: 0.6879, Discriminator Real Loss: 0.6707, Discriminator Fake Loss: 0.6971\n"
     ]
    }
   ],
   "source": [
    "generator = Generator(input_size=2, output_size=4, hidden_size=32)\n",
    "discriminator = Discriminator(input_size=4, hidden_size=16)\n",
    "\n",
    "# For simplicitly we load a pretrained model\n",
    "checkpoint = torch.load(path / \"resources/generator_trained_model.pth\")\n",
    "generator.load_state_dict(checkpoint)\n",
    "\n",
    "train_gan(\n",
    "    generator=generator,\n",
    "    discriminator=discriminator,\n",
    "    dataloader=dataloader,\n",
    "    log_dir_name=\"logs\",\n",
    "    fixed_noise=fixed_noise,\n",
    "    random_fake_data_generator=lambda b_size: random_fake_data_for_gan(b_size, 2),\n",
    "    num_epochs=10,\n",
    "    device=\"cpu\",\n",
    ")\n",
    "\n",
    "# Save trained generator model\n",
    "torch.save(generator.state_dict(), path / \"resources/generator_model.pth\")"
   ]
  },
  {
   "cell_type": "markdown",
   "id": "5d30d237c39c3d91",
   "metadata": {
    "collapsed": false
   },
   "source": [
    "### 2.3 Performance evaluation "
   ]
  },
  {
   "cell_type": "code",
   "execution_count": 12,
   "id": "70c784547d6c2882",
   "metadata": {
    "ExecuteTime": {
     "end_time": "2024-02-21T14:01:59.046590Z",
     "start_time": "2024-02-21T14:01:59.043009Z"
    },
    "collapsed": false,
    "execution": {
     "iopub.execute_input": "2024-07-31T11:49:13.107162Z",
     "iopub.status.busy": "2024-07-31T11:49:13.106054Z",
     "iopub.status.idle": "2024-07-31T11:49:13.119555Z",
     "shell.execute_reply": "2024-07-31T11:49:13.118994Z"
    }
   },
   "outputs": [
    {
     "name": "stdout",
     "output_type": "stream",
     "text": [
      "Classically trained generator accuracy: 80.00%%\n"
     ]
    }
   ],
   "source": [
    "# Load state dictionary with mismatched sizes\n",
    "generator = Generator()\n",
    "checkpoint = torch.load(path / \"resources/generator_model.pth\")\n",
    "generator.load_state_dict(checkpoint)\n",
    "num_samples = 100\n",
    "z = random_fake_data_for_gan(num_samples, 2)\n",
    "gen_data = generator(z)\n",
    "\n",
    "\n",
    "def evaluate_generator(samples):\n",
    "    count_err = 0\n",
    "    for img in samples:\n",
    "        img = img.reshape(2, 2)\n",
    "        diag1 = int(img[0, 0]) * int(img[1, 1])\n",
    "        diag2 = int(img[0, 1]) * (int(img[1, 0]))\n",
    "        if (diag1 == 1 or diag2 == 1) and diag1 * diag2 != 1:\n",
    "            count_err += 1\n",
    "    return (samples.shape[0] - count_err) / samples.shape[0]\n",
    "\n",
    "\n",
    "accuracy = evaluate_generator(samples=gen_data)\n",
    "print(f\"Classically trained generator accuracy: {accuracy:.2%}%\")"
   ]
  },
  {
   "cell_type": "markdown",
   "id": "bf13723d-7f8b-4fa5-82f6-8f299afc5acd",
   "metadata": {},
   "source": [
    "Visualizing generator examples"
   ]
  },
  {
   "cell_type": "code",
   "execution_count": 13,
   "id": "6a70f58e36d1dccc",
   "metadata": {
    "ExecuteTime": {
     "end_time": "2024-02-21T14:01:59.210255Z",
     "start_time": "2024-02-21T14:01:59.048795Z"
    },
    "collapsed": false,
    "execution": {
     "iopub.execute_input": "2024-07-31T11:49:13.123616Z",
     "iopub.status.busy": "2024-07-31T11:49:13.122595Z",
     "iopub.status.idle": "2024-07-31T11:49:13.929139Z",
     "shell.execute_reply": "2024-07-31T11:49:13.928376Z"
    }
   },
   "outputs": [
    {
     "data": {
      "image/png": "[encoded data removed]",
      "text/plain": [
       "<Figure size 600x600 with 9 Axes>"
      ]
     },
     "metadata": {},
     "output_type": "display_data"
    }
   ],
   "source": [
    "# Initialize generator for evaluation\n",
    "generator_for_evaluation = Generator(input_size=2, output_size=4)\n",
    "generator_for_evaluation.load_state_dict(\n",
    "    torch.load(path / \"resources/generator_model.pth\")\n",
    ")  # Load trained model\n",
    "generator_for_evaluation.eval()\n",
    "\n",
    "# Generate images\n",
    "with torch.no_grad():\n",
    "    noise = torch.randn(9, 2)\n",
    "    generated_images = generator_for_evaluation(noise).detach().cpu().numpy()\n",
    "\n",
    "# Plot images in a 3 by 3 grid\n",
    "generated_images = create_bars_and_stripes_dataset(9)\n",
    "plot_nine_images(generated_images)"
   ]
  },
  {
   "cell_type": "markdown",
   "id": "66344754c5a37cb7",
   "metadata": {
    "collapsed": false
   },
   "source": [
    "\n",
    "## 3 Quantum hybrid network implementation\n",
    "\n",
    "In this section we will define a quantum generator circuit and integrate it into a hybrid quantum-classical GAN model. We will then train the QGAN model and evaluate its performance."
   ]
  },
  {
   "cell_type": "markdown",
   "id": "b51438a9-ea7f-490d-8fac-cb51d22e377b",
   "metadata": {},
   "source": [
    "### 3.1 Defining the quantum GAN"
   ]
  },
  {
   "cell_type": "markdown",
   "id": "65a77441-20a0-4220-b610-0c0cf6c0dc53",
   "metadata": {},
   "source": [
    "#### 3.1.1 Defining the quantum generator"
   ]
  },
  {
   "cell_type": "markdown",
   "id": "f5803e3a-0fdc-4606-b532-24f3c2132e73",
   "metadata": {},
   "source": [
    "We define the three components of the quantum layer - this is where the quantum network architect's creativity comes into play!\n",
    "\n",
    "The design we choose:\n",
    "1. Data encoding - we use take a `datum_angle_encoding` that encodes $n$ data points on $n$ qubits.\n",
    "2. A variational ansatz - we combine RY and RZZ gates.\n",
    "3. Classical post-process - we take the vector $(p_1, p_2, \\dots, p_n)$, with $p_i$ being the probability to measure 1 on the $i$-th qubit."
   ]
  },
  {
   "cell_type": "code",
   "execution_count": 14,
   "id": "25cef3df-6932-490f-b42e-5e3e324ce974",
   "metadata": {
    "execution": {
     "iopub.execute_input": "2024-07-31T11:49:13.932841Z",
     "iopub.status.busy": "2024-07-31T11:49:13.932563Z",
     "iopub.status.idle": "2024-07-31T11:49:15.866196Z",
     "shell.execute_reply": "2024-07-31T11:49:15.865523Z"
    }
   },
   "outputs": [],
   "source": [
    "from typing import List\n",
    "\n",
    "from classiq import IDENTITY, RX, RY, RZ, RZZ, CArray, CReal, QArray, if_, qfunc, repeat\n",
    "from classiq.applications.qnn.types import SavedResult\n",
    "from classiq.qmod.symbolic import floor, pi\n",
    "\n",
    "\n",
    "@qfunc\n",
    "def datum_angle_encoding(data_in: CArray[CReal], qbv: QArray) -> None:\n",
    "\n",
    "    def even_case(exe_params: CArray[CReal], qbv: QArray) -> None:\n",
    "        repeat(\n",
    "            count=exe_params.len,\n",
    "            iteration=lambda index: RX(pi * data_in[index], qbv[index]),\n",
    "        )\n",
    "        repeat(\n",
    "            count=exe_params.len,\n",
    "            iteration=lambda index: RZ(pi * data_in[index], qbv[index]),\n",
    "        )\n",
    "\n",
    "    def odd_case(data_in: CArray[CReal], qbv: QArray) -> None:\n",
    "\n",
    "        even_case(data_in, qbv)\n",
    "        RX(pi * data_in[data_in.len - 1], target=qbv[data_in.len])\n",
    "\n",
    "    if_(\n",
    "        condition=data_in.len - 2 * (floor(data_in.len / 2)) == 0,\n",
    "        then=lambda: even_case(data_in, qbv),\n",
    "        else_=lambda: odd_case(data_in, qbv),\n",
    "    )\n",
    "\n",
    "\n",
    "@qfunc\n",
    "def my_ansatz(weights: CArray[CReal], qbv: QArray) -> None:\n",
    "\n",
    "    repeat(\n",
    "        count=qbv.len,\n",
    "        iteration=lambda index: RY(weights[index], qbv[index]),\n",
    "    )\n",
    "    repeat(\n",
    "        count=qbv.len - 1,\n",
    "        iteration=lambda index: RZZ(weights[qbv.len + index], qbv[index : index + 2]),\n",
    "    )\n",
    "    if_(\n",
    "        condition=qbv.len > 2,\n",
    "        then=lambda: RZZ(weights[-1], qbv[0:2]),\n",
    "        else_=lambda: IDENTITY(qbv[0]),\n",
    "    )\n",
    "\n",
    "\n",
    "def my_post_process(result: SavedResult, num_qubits, num_shots) -> torch.Tensor:\n",
    "\n",
    "    res = result.value\n",
    "    yvec = [\n",
    "        (res.counts_of_qubits(k)[\"1\"] if \"1\" in res.counts_of_qubits(k) else 0)\n",
    "        / num_shots\n",
    "        for k in range(num_qubits)\n",
    "    ]\n",
    "\n",
    "    return torch.tensor(yvec)"
   ]
  },
  {
   "cell_type": "markdown",
   "id": "3411251e74a31939",
   "metadata": {
    "collapsed": false
   },
   "source": [
    "Finally, we define the quantum model with its hyperparameters as our `main`  quantum function, and synthesize it into a quantum program."
   ]
  },
  {
   "cell_type": "code",
   "execution_count": 15,
   "id": "45009ccc2f91a0fd",
   "metadata": {
    "ExecuteTime": {
     "end_time": "2024-02-21T14:02:05.014020Z",
     "start_time": "2024-02-21T14:01:59.219051Z"
    },
    "collapsed": false,
    "execution": {
     "iopub.execute_input": "2024-07-31T11:49:15.869054Z",
     "iopub.status.busy": "2024-07-31T11:49:15.868558Z",
     "iopub.status.idle": "2024-07-31T11:49:18.271123Z",
     "shell.execute_reply": "2024-07-31T11:49:18.270444Z"
    }
   },
   "outputs": [
    {
     "name": "stdout",
     "output_type": "stream",
     "text": [
      "Opening: https://platform.classiq.io/circuit/f77c6215-1635-428c-ad74-9e2fa46c98b1?version=0.45.0.dev0%2Bcf1b9b7ccc\n"
     ]
    }
   ],
   "source": [
    "import numpy as np\n",
    "\n",
    "from classiq import (\n",
    "    CArray,\n",
    "    CReal,\n",
    "    Output,\n",
    "    QArray,\n",
    "    allocate,\n",
    "    create_model,\n",
    "    qfunc,\n",
    "    show,\n",
    "    synthesize,\n",
    ")\n",
    "from classiq.execution import (\n",
    "    ExecutionPreferences,\n",
    "    execute_qnn,\n",
    "    set_quantum_program_execution_preferences,\n",
    ")\n",
    "\n",
    "NUM_SHOTS = 4096\n",
    "QLAYER_SIZE = 4\n",
    "num_qubits = int(np.ceil(QLAYER_SIZE))\n",
    "num_weights = 2 * num_qubits\n",
    "\n",
    "\n",
    "@qfunc\n",
    "def main(\n",
    "    input: CArray[CReal, QLAYER_SIZE],\n",
    "    weight: CArray[CReal, num_weights],\n",
    "    result: Output[QArray[num_qubits]],\n",
    ") -> None:\n",
    "\n",
    "    allocate(num_qubits, result)\n",
    "    datum_angle_encoding(data_in=input, qbv=result)\n",
    "\n",
    "    my_ansatz(weights=weight, qbv=result)\n",
    "\n",
    "\n",
    "model = create_model(main)\n",
    "quantum_program = synthesize(model)\n",
    "show(quantum_program)\n",
    "\n",
    "quantum_program = set_quantum_program_execution_preferences(\n",
    "    quantum_program, preferences=ExecutionPreferences(num_shots=NUM_SHOTS)\n",
    ")"
   ]
  },
  {
   "cell_type": "markdown",
   "id": "403a05ded0c7cb89",
   "metadata": {
    "collapsed": false
   },
   "source": [
    "**The resulting circuit is**:"
   ]
  },
  {
   "cell_type": "markdown",
   "id": "0e2a97ce-ac25-42d1-aa45-9b9eb6270635",
   "metadata": {
    "ExecuteTime": {
     "end_time": "2024-02-21T14:02:05.016564Z",
     "start_time": "2024-02-21T14:02:05.011367Z"
    },
    "collapsed": false
   },
   "source": [
    "<center>\n",
    "<img src=\"https://docs.classiq.io/resources/qgan_circuit.png\" style=\"width:100%\">\n",
    "<figcaption align = \"middle\"> Hierarchical view of the quantum circuit for the QGAN generator. The circuit consists of an angle encoding layer, an ansatz layer, and a post-processing layer </figcaption>\n",
    "</center>"
   ]
  },
  {
   "cell_type": "markdown",
   "id": "61309fe7-1b64-4c61-b500-d5c24c51ca61",
   "metadata": {
    "ExecuteTime": {
     "end_time": "2024-02-21T14:02:05.027039Z",
     "start_time": "2024-02-21T14:02:05.015883Z"
    },
    "collapsed": false
   },
   "source": [
    "<center>\n",
    "<img src=\"https://docs.classiq.io/resources/qgan_angle_encoder.png\" style=\"width:100%\">\n",
    "<figcaption align = \"middle\"> Angle encoding layer consists of two consecutive noncommuting rotations encoding a single datum. </figcaption>\n",
    "</center>"
   ]
  },
  {
   "cell_type": "markdown",
   "id": "f0517eb8-4752-4ef7-ab45-0575a9051d94",
   "metadata": {
    "ExecuteTime": {
     "end_time": "2024-02-21T14:02:05.034783Z",
     "start_time": "2024-02-21T14:02:05.021506Z"
    },
    "collapsed": false
   },
   "source": [
    "<center>\n",
    "<img src=\"https://docs.classiq.io/resources/qgan_anzats.png\" style=\"width:100%\">\n",
    "<figcaption align = \"middle\"> Ansatz layer including parametrized rotation followed by a pair-wise entangler via RZZ gate sequence. </figcaption>\n",
    "</center>"
   ]
  },
  {
   "cell_type": "markdown",
   "id": "0a899793-b2e7-4457-a00a-aece8c73dbaf",
   "metadata": {},
   "source": [
    "#### 3.1.2 Defining the hybrid network"
   ]
  },
  {
   "cell_type": "markdown",
   "id": "7a9dd3d2c7fcce2",
   "metadata": {
    "collapsed": false
   },
   "source": [
    "We define the network building blocks: the generator and discriminator in a hybrid network configuration with a quantum layer,"
   ]
  },
  {
   "cell_type": "code",
   "execution_count": 16,
   "id": "fbe3f74e-6b3c-4d4d-a2a5-854a432dc06f",
   "metadata": {
    "ExecuteTime": {
     "end_time": "2024-02-21T14:02:07.266266Z",
     "start_time": "2024-02-21T14:02:05.058392Z"
    },
    "collapsed": false,
    "execution": {
     "iopub.execute_input": "2024-07-31T11:49:18.274077Z",
     "iopub.status.busy": "2024-07-31T11:49:18.273460Z",
     "iopub.status.idle": "2024-07-31T11:49:18.281275Z",
     "shell.execute_reply": "2024-07-31T11:49:18.280634Z"
    }
   },
   "outputs": [],
   "source": [
    "import torch.nn as nn\n",
    "\n",
    "from classiq.applications.qnn import QLayer\n",
    "\n",
    "\n",
    "def create_net(*args, **kwargs) -> nn.Module:\n",
    "    class QGenerator(nn.Module):\n",
    "        def __init__(self, *args, **kwargs):\n",
    "            super().__init__()\n",
    "            self.flatten = nn.Flatten()\n",
    "            self.linear_1 = nn.Linear(4, 16)\n",
    "            self.linear_2 = nn.Linear(16, 32)\n",
    "            self.linear_3 = nn.Linear(32, 16)\n",
    "            self.linear_4 = nn.Linear(16, 4)\n",
    "            self.linear_5 = nn.Linear(2, 4)\n",
    "            self.activation_1 = nn.ReLU()\n",
    "            self.activation_2 = nn.Sigmoid()\n",
    "\n",
    "            self.qlayer = QLayer(\n",
    "                quantum_program,\n",
    "                execute_qnn,\n",
    "                post_process=lambda res: my_post_process(\n",
    "                    res, num_qubits=num_qubits, num_shots=NUM_SHOTS\n",
    "                ),\n",
    "                *args,\n",
    "                **kwargs,\n",
    "            )\n",
    "\n",
    "        def forward(self, x):\n",
    "            x = self.flatten(x)\n",
    "            x = self.linear_1(x)\n",
    "            x = self.activation_2(x)\n",
    "            x = self.linear_2(x)\n",
    "            x = self.activation_1(x)\n",
    "            x = self.linear_3(x)\n",
    "            x = self.activation_1(x)\n",
    "            x = self.linear_4(x)\n",
    "            x = self.activation_2(x)\n",
    "            x = self.qlayer(x)\n",
    "            x = torch.round(self.activation_2(x))\n",
    "            return x\n",
    "\n",
    "    return QGenerator(*args, **kwargs)\n",
    "\n",
    "\n",
    "class Discriminator(nn.Module):\n",
    "    def __init__(self, input_size=4, hidden_size=16):\n",
    "        super(Discriminator, self).__init__()\n",
    "        self.model = nn.Sequential(\n",
    "            nn.Linear(input_size, hidden_size // 2),  # Adjusted hidden layer size\n",
    "            nn.LeakyReLU(0.2),\n",
    "            nn.Linear(hidden_size // 2, hidden_size),  # Adjusted hidden layer size\n",
    "            nn.LeakyReLU(0.25),\n",
    "            nn.Dropout(0.3),\n",
    "            nn.Linear(hidden_size, 1),\n",
    "            nn.Sigmoid(),  # Sigmoid activation to output probabilities\n",
    "        )\n",
    "\n",
    "    def forward(self, x):\n",
    "        x = x.view(-1, 4)  # Flatten input for fully connected layers\n",
    "        return self.model(x)"
   ]
  },
  {
   "cell_type": "code",
   "execution_count": 17,
   "id": "991b4fc4-e482-4496-872f-0944ca373859",
   "metadata": {
    "ExecuteTime": {
     "end_time": "2024-02-21T14:02:07.266266Z",
     "start_time": "2024-02-21T14:02:05.058392Z"
    },
    "collapsed": false,
    "execution": {
     "iopub.execute_input": "2024-07-31T11:49:18.283517Z",
     "iopub.status.busy": "2024-07-31T11:49:18.283217Z",
     "iopub.status.idle": "2024-07-31T11:49:18.289345Z",
     "shell.execute_reply": "2024-07-31T11:49:18.288796Z"
    }
   },
   "outputs": [],
   "source": [
    "q_gen = create_net()"
   ]
  },
  {
   "cell_type": "markdown",
   "id": "a8df1e990a6213e6",
   "metadata": {
    "collapsed": false
   },
   "source": [
    "### 3.3 Training the QGAN"
   ]
  },
  {
   "cell_type": "markdown",
   "id": "475fe251-568b-4bd2-ae88-1ccacc22c485",
   "metadata": {},
   "source": [
    "We can use the training loops defined above for the classical GAN"
   ]
  },
  {
   "cell_type": "code",
   "execution_count": 18,
   "id": "da89ad96-a416-4cad-b5cf-cdcd5a80387a",
   "metadata": {
    "execution": {
     "iopub.execute_input": "2024-07-31T11:49:18.291497Z",
     "iopub.status.busy": "2024-07-31T11:49:18.291328Z",
     "iopub.status.idle": "2024-07-31T11:49:18.294529Z",
     "shell.execute_reply": "2024-07-31T11:49:18.293910Z"
    }
   },
   "outputs": [],
   "source": [
    "# Fixed noise for visualizing generated samples\n",
    "fixed_noise = torch.randn(4)\n",
    "\n",
    "\n",
    "def random_fake_data_for_qgan(batch_size, input_size):\n",
    "    return torch.bernoulli(torch.rand(batch_size, input_size))"
   ]
  },
  {
   "cell_type": "markdown",
   "id": "88cb4abd27602131",
   "metadata": {
    "collapsed": false
   },
   "source": [
    "The following cell generates an archive of the training process in the `q_logs` directory. We will also use Tensorboard to monitor the training in real time. It is possible to use an online version which is more convenient, but for the purpose of this notebook we will use the local version. Example of vizualization output that can be obtained from `tensorboard` is shown in the next figure."
   ]
  },
  {
   "cell_type": "code",
   "execution_count": 19,
   "id": "4d4a0ca4c532ce2c",
   "metadata": {
    "ExecuteTime": {
     "end_time": "2024-02-21T14:02:07.307279Z",
     "start_time": "2024-02-21T14:02:07.278688Z"
    },
    "collapsed": false,
    "execution": {
     "iopub.execute_input": "2024-07-31T11:49:18.296562Z",
     "iopub.status.busy": "2024-07-31T11:49:18.296396Z",
     "iopub.status.idle": "2024-07-31T11:49:18.299003Z",
     "shell.execute_reply": "2024-07-31T11:49:18.298448Z"
    }
   },
   "outputs": [],
   "source": [
    "# ## generate tensorboard log directory\n",
    "# #\n",
    "# # log_dir = 'MY_LOG_DIR'\n",
    "# # if not os.path.exists(log_dir):\n",
    "# #     os.makedirs(log_dir)\n",
    "\n",
    "# # Launch tensorboard and generate the containing folder internally\n",
    "# %load_ext tensorboard\n",
    "# # %reload_ext tensorboard\n",
    "# %tensorboard --logdir='MY_LOG_DIR/q_logs'"
   ]
  },
  {
   "cell_type": "markdown",
   "id": "b476da34-72cb-4b99-9c06-bf3368c4fd73",
   "metadata": {
    "ExecuteTime": {
     "end_time": "2024-02-21T14:02:07.308905Z",
     "start_time": "2024-02-21T14:02:07.288999Z"
    },
    "collapsed": false
   },
   "source": [
    "<center>\n",
    "<img src=\"https://docs.classiq.io/resources/qgan_training.png\" style=\"width:100%\">\n",
    "<figcaption align = \"middle\"> Example of two training sessions. The first (green) line depicts a process in which the loss function estimator is raising, a clear indication that the learning session does not seem to converge to the desired result. The second (orange) shows the convergence of both. The two components compete to improve their performance. </figcaption>\n",
    "</center>"
   ]
  },
  {
   "cell_type": "markdown",
   "id": "378b85a5-a0ec-4c14-9fbd-6bc47b8f7b3b",
   "metadata": {},
   "source": [
    "***\n",
    "Since training can take long time to run, we take a pre-trained model, whose parameters are stored in `q_generator_trained_model.pth`. In addition, we take a smaller sample size of 250. (The pre-trained model was trained on 1000 samples). To train a randomly initialized QGAN change `num_samples` from 250 to 1000 for the data creation, and `num_epochs` from 1 to 10 in the training call `train_gan`.\n",
    "***"
   ]
  },
  {
   "cell_type": "code",
   "execution_count": 20,
   "id": "ada721bf-a347-49e6-983b-8911fa4ad0be",
   "metadata": {
    "ExecuteTime": {
     "end_time": "2024-02-21T14:02:07.309344Z",
     "start_time": "2024-02-21T14:02:07.292707Z"
    },
    "collapsed": false,
    "execution": {
     "iopub.execute_input": "2024-07-31T11:49:18.301384Z",
     "iopub.status.busy": "2024-07-31T11:49:18.300980Z",
     "iopub.status.idle": "2024-07-31T11:49:18.315438Z",
     "shell.execute_reply": "2024-07-31T11:49:18.314872Z"
    }
   },
   "outputs": [],
   "source": [
    "# Create training dataset for qgan\n",
    "qgan_training_dataset = create_bars_and_stripes_dataset(\n",
    "    num_samples=250\n",
    "    # num_samples=1000\n",
    ")\n",
    "\n",
    "# Convert to PyTorch tensor\n",
    "qgan_tensor_dataset = torch.tensor(qgan_training_dataset, dtype=torch.float32)\n",
    "\n",
    "# Create a TensorDataset object\n",
    "qgan_tensor_dataset = TensorDataset(qgan_tensor_dataset)\n",
    "\n",
    "# Create a DataLoader object\n",
    "qgan_dataloader = DataLoader(qgan_tensor_dataset, batch_size=64, shuffle=True)\n",
    "\n",
    "q_generator = q_gen\n",
    "discriminator = Discriminator(input_size=4, hidden_size=16)"
   ]
  },
  {
   "cell_type": "code",
   "execution_count": 21,
   "id": "0b473d12-1dc3-466f-991f-2f64e9f1988f",
   "metadata": {
    "ExecuteTime": {
     "end_time": "2024-02-21T14:02:07.309344Z",
     "start_time": "2024-02-21T14:02:07.292707Z"
    },
    "collapsed": false,
    "execution": {
     "iopub.execute_input": "2024-07-31T11:49:18.317436Z",
     "iopub.status.busy": "2024-07-31T11:49:18.317271Z",
     "iopub.status.idle": "2024-07-31T11:54:03.053744Z",
     "shell.execute_reply": "2024-07-31T11:54:03.053095Z"
    }
   },
   "outputs": [
    {
     "name": "stdout",
     "output_type": "stream",
     "text": [
      "Epoch [1/1], Step [1/4], Generator Loss: 0.7379, Discriminator Real Loss: 0.7307, Discriminator Fake Loss: 0.6539\n"
     ]
    }
   ],
   "source": [
    "checkpoint = torch.load(path / \"resources/q_generator_trained_model.pth\")\n",
    "q_generator.load_state_dict(checkpoint)\n",
    "\n",
    "train_gan(\n",
    "    generator=q_generator,\n",
    "    discriminator=discriminator,\n",
    "    dataloader=qgan_dataloader,\n",
    "    log_dir_name=\"q_logs\",\n",
    "    fixed_noise=fixed_noise,\n",
    "    random_fake_data_generator=lambda b_size: random_fake_data_for_qgan(b_size, 4),\n",
    "    num_epochs=1,\n",
    "    # num_epochs=10,\n",
    "    device=\"cpu\",\n",
    ")\n",
    "\n",
    "# Save trained generator model\n",
    "torch.save(q_generator.state_dict(), path / \"resources/q_generator_model_bs64.pth\")"
   ]
  },
  {
   "cell_type": "markdown",
   "id": "423636ec0b58e28",
   "metadata": {
    "collapsed": false
   },
   "source": [
    "### 3.3 Performance evaluation "
   ]
  },
  {
   "cell_type": "markdown",
   "id": "48d6033c-c920-44f4-b063-07d3183f5257",
   "metadata": {},
   "source": [
    "Finally, we can evaluate the performance of the QGAN, in similar to the classical counterpart."
   ]
  },
  {
   "cell_type": "code",
   "execution_count": 22,
   "id": "f5046df45d384b6",
   "metadata": {
    "ExecuteTime": {
     "end_time": "2024-02-21T14:02:09.860719Z",
     "start_time": "2024-02-21T14:02:07.297626Z"
    },
    "collapsed": false,
    "execution": {
     "iopub.execute_input": "2024-07-31T11:54:03.058176Z",
     "iopub.status.busy": "2024-07-31T11:54:03.057131Z",
     "iopub.status.idle": "2024-07-31T11:54:04.511989Z",
     "shell.execute_reply": "2024-07-31T11:54:04.511265Z"
    }
   },
   "outputs": [
    {
     "name": "stdout",
     "output_type": "stream",
     "text": [
      "Quantum-classical hybrid trained generator accuracy: 100.00%%\n"
     ]
    }
   ],
   "source": [
    "generator = q_gen\n",
    "checkpoint = torch.load(path / \"resources/q_generator_model_bs64.pth\")\n",
    "generator.load_state_dict(checkpoint)\n",
    "num_samples = 10\n",
    "z = torch.bernoulli(torch.rand(num_samples, 4))\n",
    "gen_data = generator(z)\n",
    "\n",
    "accuracy = evaluate_generator(samples=gen_data)\n",
    "print(f\"Quantum-classical hybrid trained generator accuracy: {accuracy:.2%}%\")"
   ]
  },
  {
   "cell_type": "code",
   "execution_count": 23,
   "id": "77cfc50360a0cecc",
   "metadata": {
    "ExecuteTime": {
     "end_time": "2024-02-21T14:02:12.505574Z",
     "start_time": "2024-02-21T14:02:09.861535Z"
    },
    "collapsed": false,
    "execution": {
     "iopub.execute_input": "2024-07-31T11:54:04.516527Z",
     "iopub.status.busy": "2024-07-31T11:54:04.515359Z",
     "iopub.status.idle": "2024-07-31T11:54:05.884834Z",
     "shell.execute_reply": "2024-07-31T11:54:05.884177Z"
    }
   },
   "outputs": [
    {
     "name": "stdout",
     "output_type": "stream",
     "text": [
      "tensor([[1., 1., 1., 1.],\n",
      "        [1., 1., 1., 1.],\n",
      "        [1., 1., 1., 1.],\n",
      "        [1., 1., 1., 1.],\n",
      "        [1., 1., 1., 1.],\n",
      "        [1., 1., 1., 1.],\n",
      "        [1., 1., 1., 1.],\n",
      "        [1., 1., 1., 1.],\n",
      "        [1., 1., 1., 1.],\n",
      "        [1., 1., 1., 1.]], grad_fn=<RoundBackward0>)\n"
     ]
    }
   ],
   "source": [
    "z = random_fake_data_for_qgan(10, 4)\n",
    "gen_data = generator(z)\n",
    "print(gen_data)"
   ]
  },
  {
   "cell_type": "markdown",
   "id": "c18f8867230ac7d6",
   "metadata": {
    "collapsed": false
   },
   "source": [
    "***\n",
    "Why do you think the accuracy is so high?\n",
    "\n",
    "Answer$\\rightarrow$ the system had chosen a metastable pathway where no violation of the rules occur! Try: longer training, different set of hyperparameters, different architecture, etc."
   ]
  }
 ],
 "metadata": {
  "kernelspec": {
   "display_name": "Python 3 (ipykernel)",
   "language": "python",
   "name": "python3"
  },
  "language_info": {
   "codemirror_mode": {
    "name": "ipython",
    "version": 3
   },
   "file_extension": ".py",
   "mimetype": "text/x-python",
   "name": "python",
   "nbconvert_exporter": "python",
   "pygments_lexer": "ipython3",
   "version": "3.11.9"
  }
 },
 "nbformat": 4,
 "nbformat_minor": 5
}
