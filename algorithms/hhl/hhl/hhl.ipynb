{
 "cells": [
  {
   "cell_type": "markdown",
   "id": "3652aca5-46be-454d-9b5e-5b795379c534",
   "metadata": {},
   "source": [
    "# Modeling an HHL Algorithm to Solve a Set of Linear Equations"
   ]
  },
  {
   "cell_type": "markdown",
   "id": "422c4e26-b10c-4d77-b7ea-5d06d684a752",
   "metadata": {},
   "source": [
    "Solving linear equations appears in many research, engineering, and design fields. For example, many physical and financial models, from fluid dynamics to portfolio optimization, are described by partial differential equations, which are typically treated by numerical schemes, most of which are eventually transformed to a set of linear equations.\n",
    "\n",
    "The HHL algorithm [[1](#HHL)] is a quantum algorithm for solving a set of linear equations. It is one of the fundamental quantum algorithms that is expected to give a speedup over its classical counterpart.\n",
    "\n",
    "\n",
    "A set of linear equations of size $N$ is represented by an $N\\times N$ matrix and a vector $b$ of size $N$,\n",
    "$$\n",
    "A\\vec{x} = \\vec{b},\n",
    "$$\n",
    "where the solution to the problem is designated by the solution variable $\\vec{x}$.\n",
    "\n",
    "For simplicity, the demo below treats a usecase where $\\vec{b}$ is a normalized vector $|\\vec{b}|=1$, and $A$ is an Hermitian matrix of size $2^n\\times 2^n$, whose eigenvalues are in the interval $(0,1)$. Generalizations to other usecases are discussed at the end of this demo."
   ]
  },
  {
   "cell_type": "markdown",
   "id": "c2fcf999-36cf-4536-9661-bd69c254a198",
   "metadata": {
    "tags": []
   },
   "source": [
    "## 1. Defining a Specific Problem"
   ]
  },
  {
   "cell_type": "markdown",
   "id": "fb8942f5-23a0-4370-b83b-d6c41f6af033",
   "metadata": {},
   "source": [
    "Start by defining the specific problem."
   ]
  },
  {
   "cell_type": "code",
   "execution_count": 1,
   "id": "be9d807b-7536-4968-8a18-397f69763964",
   "metadata": {
    "execution": {
     "iopub.execute_input": "2024-03-12T12:38:18.013268Z",
     "iopub.status.busy": "2024-03-12T12:38:18.012695Z",
     "iopub.status.idle": "2024-03-12T12:38:18.169027Z",
     "shell.execute_reply": "2024-03-12T12:38:18.168097Z"
    }
   },
   "outputs": [
    {
     "name": "stdout",
     "output_type": "stream",
     "text": [
      "A = [[ 0.28 -0.01  0.02 -0.1 ]\n",
      " [-0.01  0.5  -0.22 -0.07]\n",
      " [ 0.02 -0.22  0.43 -0.05]\n",
      " [-0.1  -0.07 -0.05  0.42]] \n",
      "\n",
      "b = [0.18257419 0.36514837 0.73029674 0.54772256]\n"
     ]
    }
   ],
   "source": [
    "import numpy as np\n",
    "\n",
    "A = np.array(\n",
    "    [\n",
    "        [0.28, -0.01, 0.02, -0.1],\n",
    "        [-0.01, 0.5, -0.22, -0.07],\n",
    "        [0.02, -0.22, 0.43, -0.05],\n",
    "        [-0.1, -0.07, -0.05, 0.42],\n",
    "    ]\n",
    ")\n",
    "\n",
    "b = np.array([1, 2, 4, 3])\n",
    "b = b / np.linalg.norm(b)\n",
    "\n",
    "print(\"A =\", A, \"\\n\")\n",
    "print(\"b =\", b)\n",
    "\n",
    "# verifying that the matrix is symmetric and has eigenvalues in [0,1)\n",
    "if not np.allclose(A, A.T, rtol=1e-6, atol=1e-6):\n",
    "    raise Exception(\"The matrix is not symmetric\")\n",
    "w, v = np.linalg.eig(A)\n",
    "for lam in w:\n",
    "    if lam < 0 or lam > 1:\n",
    "        raise Exception(\"Eigenvalues are not in (0,1)\")"
   ]
  },
  {
   "cell_type": "markdown",
   "id": "1bd14c32-152e-486c-afdf-cdb5e4658c75",
   "metadata": {},
   "source": [
    "## 2. Defining Quantum and Classical Functions\n",
    "\n",
    "The quantum program below has to encode the unitary matrix $U=e^{iA}$. For this, you have to decompose the matrix $A$ into a sum of Pauli strings. This is a completely classical pre-processing that can be done with a naive decomposition. More efficient decompositions can be devised. Another classical function which allows to move from a list of Pauli strings and coefficients to `PauliTerm` type is also useful.\n",
    "\n",
    "In addition, it will be essential to work with a flexible-QPE function, which allows a flexible and efficient implementation of this function block."
   ]
  },
  {
   "cell_type": "markdown",
   "id": "041542a8-0ffc-426c-820f-91f1e93a0d49",
   "metadata": {},
   "source": [
    "### 2.1 Pauli Decomposition\n",
    "\n",
    "Define the `lcu_naive` auxiliary function for the classical pre-processing: decomposing a matrix into the sum of Pauli strings."
   ]
  },
  {
   "cell_type": "code",
   "execution_count": 2,
   "id": "9f725a02-85db-42a9-8d3c-807ff4455ca7",
   "metadata": {
    "execution": {
     "iopub.execute_input": "2024-03-12T12:38:18.175902Z",
     "iopub.status.busy": "2024-03-12T12:38:18.174544Z",
     "iopub.status.idle": "2024-03-12T12:38:18.196177Z",
     "shell.execute_reply": "2024-03-12T12:38:18.195266Z"
    }
   },
   "outputs": [],
   "source": [
    "from itertools import product\n",
    "\n",
    "from numpy import kron\n",
    "\n",
    "Paulidict = {\n",
    "    \"I\": np.array([[1, 0], [0, 1]], dtype=np.complex128),\n",
    "    \"Z\": np.array([[1, 0], [0, -1]], dtype=np.complex128),\n",
    "    \"X\": np.array([[0, 1], [1, 0]], dtype=np.complex128),\n",
    "    \"Y\": np.array([[0, -1j], [1j, 0]], dtype=np.complex128),\n",
    "}\n",
    "\n",
    "\n",
    "# generate all combinations of Pauli strings of size n\n",
    "def generate_all_pauli_strings(seq, n):\n",
    "    for s in product(seq, repeat=n):\n",
    "        yield \"\".join(s)\n",
    "\n",
    "\n",
    "# convert a Paulistring of size n to 2**n X 2**n matrix\n",
    "def pauli_string_2mat(seq):\n",
    "    myPmat = Paulidict[seq[0]]\n",
    "    for p in seq[1:]:\n",
    "        myPmat = kron(myPmat, Paulidict[p])\n",
    "    return myPmat\n",
    "\n",
    "\n",
    "# Hilbert-Schmidt-Product of two matrices M1, M2\n",
    "def hilbert_schmidt(M1, M2):\n",
    "    return (np.dot(M1.conjugate().transpose(), M2)).trace()\n",
    "\n",
    "\n",
    "# Naive decomposition, running over all HS products for all Pauli strings\n",
    "def lcu_naive(H):\n",
    "    assert H.shape[0] == H.shape[1], \"matrix is not square\"\n",
    "    assert H.shape[0] != 0, \"matrix is of size 0\"\n",
    "    assert H.shape[0] & (H.shape[0] - 1) == 0, \"matrix size is not 2**n\"\n",
    "\n",
    "    n = int(np.log2(H.shape[0]))\n",
    "    myPualiList = list(generate_all_pauli_strings(\"IZXY\", n))\n",
    "\n",
    "    mylist = []\n",
    "\n",
    "    for pstr in myPualiList:\n",
    "        co = (1 / 2**n) * hilbert_schmidt(pauli_string_2mat(pstr), H)\n",
    "        if co != 0:\n",
    "            mylist = mylist + [(pstr, co)]\n",
    "\n",
    "    return mylist"
   ]
  },
  {
   "cell_type": "markdown",
   "id": "07a1748b-8505-4b99-9d59-e74ad2ad25fe",
   "metadata": {},
   "source": [
    "### 2.2 Parser to the `PauliTerm` struct\n",
    "\n",
    "Define the `pauli_operator_to_hamiltonian` auxiliary function that takes a list of Pauli strings and coefficients, and returns the corresponding struct to be entered into the Hamiltonian dynamics."
   ]
  },
  {
   "cell_type": "code",
   "execution_count": 3,
   "id": "fc51edcb-f318-4b44-b43a-d5d545ca0a09",
   "metadata": {
    "execution": {
     "iopub.execute_input": "2024-03-12T12:38:18.202090Z",
     "iopub.status.busy": "2024-03-12T12:38:18.200486Z",
     "iopub.status.idle": "2024-03-12T12:38:21.417193Z",
     "shell.execute_reply": "2024-03-12T12:38:21.415203Z"
    }
   },
   "outputs": [],
   "source": [
    "from typing import cast\n",
    "\n",
    "from classiq import Pauli, PauliTerm\n",
    "\n",
    "my_list = {\"I\": Pauli.I, \"X\": Pauli.X, \"Y\": Pauli.Y, \"Z\": Pauli.Z}\n",
    "\n",
    "\n",
    "def pauli_str_to_enums(pauli):\n",
    "    return [my_list[s] for s in pauli]\n",
    "\n",
    "\n",
    "def pauli_operator_to_hamiltonian(pauli_list):\n",
    "    return [\n",
    "        PauliTerm(\n",
    "            pauli=pauli_str_to_enums(pauli), coefficient=cast(complex, coeff).real\n",
    "        )\n",
    "        for pauli, coeff in pauli_list\n",
    "    ]"
   ]
  },
  {
   "cell_type": "markdown",
   "id": "09ca56d2-3618-4640-97c4-4d23efef7d86",
   "metadata": {},
   "source": [
    "### 2.3 A Matrix Inversion Function with Flexible QPE\n",
    "\n",
    "Define a quantum matrix inversion function `my_matrix_inversion_flexible`, which gets a unitary operand to implement $e^{iA}$, a `precision` integer for the eigenvalues, and a quantum variable `state` for the $|\\vec{b}\\rangle$ vector. The function returns the normalized solution:\n",
    "$$\n",
    "C |A^{-1}\\vec{b}||A^{-1}\\vec{b}\\rangle|1\\rangle + \\tilde{C} |{\\rm garbage}\\rangle|0\\rangle,\n",
    "$$\n",
    "where $\\tilde{C}$ and $|{\\rm garbage}\\rangle$ are irrelevant quantities, as the solution is entangled with the `indicator` output qubit at state $|1\\rangle$.\n",
    "The normalization coefficient $C$, which guarantees that the amplitudes are normalized, can be taken as the lower possible eigenvalue that can be resolved with the QPE:\n",
    "$$\n",
    "C=1/2^{\\rm precision}.\n",
    "$$\n",
    "\n",
    "Comments:\n",
    "* Use the built-in `qpe_flexible` function, see [Flexible QPE tutorial](https://docs.classiq.io/latest/tutorials/tutorials/high-level-modeling-flexible-qpe/high-level-modeling-flexible-qpe/ ).\n",
    "* The built-in construct to define an amplitude loading is designated by `*=`."
   ]
  },
  {
   "cell_type": "code",
   "execution_count": 4,
   "id": "613bc2e0-d11a-4a75-89c5-5cb9ea30a62a",
   "metadata": {
    "execution": {
     "iopub.execute_input": "2024-03-12T12:38:21.425904Z",
     "iopub.status.busy": "2024-03-12T12:38:21.423835Z",
     "iopub.status.idle": "2024-03-12T12:38:21.435603Z",
     "shell.execute_reply": "2024-03-12T12:38:21.434812Z"
    }
   },
   "outputs": [],
   "source": [
    "from classiq import (\n",
    "    CInt,\n",
    "    Output,\n",
    "    QArray,\n",
    "    QBit,\n",
    "    QCallable,\n",
    "    QNum,\n",
    "    allocate,\n",
    "    allocate_num,\n",
    "    qfunc,\n",
    "    qpe_flexible,\n",
    "    within_apply,\n",
    ")\n",
    "\n",
    "\n",
    "@qfunc\n",
    "def simple_eig_inv(phase: QNum, indicator: Output[QBit]):\n",
    "    allocate(1, indicator)\n",
    "    indicator *= (1 / 2**phase.size) / phase\n",
    "\n",
    "\n",
    "@qfunc\n",
    "def my_matrix_inversion_flexible(\n",
    "    unitary_with_power: QCallable[CInt, QArray[QBit]],\n",
    "    precision: CInt,\n",
    "    state: QArray[QBit],\n",
    "    indicator: Output[QBit],\n",
    ") -> None:\n",
    "    phase = QNum(\"phase\")\n",
    "    allocate_num(precision, False, precision, phase)\n",
    "    within_apply(\n",
    "        lambda: qpe_flexible(\n",
    "            unitary_with_power=lambda k: unitary_with_power(k, state), phase=phase\n",
    "        ),\n",
    "        lambda: simple_eig_inv(phase=phase, indicator=indicator),\n",
    "    )"
   ]
  },
  {
   "cell_type": "markdown",
   "id": "3428f607-76cd-497c-a702-1fcf9be2fd4a",
   "metadata": {},
   "source": [
    "## 3. Modelling an HHL Algorithm"
   ]
  },
  {
   "cell_type": "markdown",
   "id": "f7a2b7f9-1624-475f-9115-52a1bffc1083",
   "metadata": {},
   "source": [
    "This tutorial gives instructions on building an HHL algorithm and presents the theory of the algorithm. The algorithm consists of 4 steps:\n",
    "1) State preparation of the RHS vector $\\vec{b}$.\n",
    "2) QPE for the unitary matrix $e^{2\\pi iA}$, which encodes eigenvalues on a quantum register of size $m$.\n",
    "3) An inversion algorithm that loads amplitudes according to the inverse of the eigenvalue registers.\n",
    "4) An inverse QPE with the parameters in (2)."
   ]
  },
  {
   "cell_type": "markdown",
   "id": "76002419-2daf-4991-b8a4-ecf9f70a0fb5",
   "metadata": {
    "tags": []
   },
   "source": [
    "### 3.1 State Preparation for the Vector $\\vec{b}$\n",
    "\n",
    "The first stage of the HHL algorithm is to load the normalized RHS vector $\\vec{b}$ into a quantum register:\n",
    "$$\n",
    "|0\\rangle_n \\xrightarrow[{\\rm SP}]{} \\sum^{2^n-1}_{i=0}b_i|i\\rangle_n\n",
    "$$\n",
    "where $|i\\rangle$ are states in the computational basis.\n",
    "\n",
    "**The relevant built-in function is the `prepare_amplitudes` one, which gets $2^n$ values of $\\vec{b}$, as well as an upper bound for its functional error through the `bound` parameter.**"
   ]
  },
  {
   "cell_type": "markdown",
   "id": "2ebd773d-b5e5-40c8-97e5-95a22188b472",
   "metadata": {
    "lines_to_next_cell": 0,
    "tags": []
   },
   "source": [
    "### 3.2 Quantum Phase Estimation (QPE) for the Hamiltonian Evolution $U=e^{2\\pi i A }$\n",
    "\n",
    "The QPE function block, which is at the heart of the HHL algorithm, operates as follows: Unitary matrices have eigenvalues of norm 1, and thus are of the form $e^{2\\pi i \\lambda}$, with $0\\leq\\lambda<1$. For a quantum state $|\\psi\\rangle_n$, prepared in an eigenvalue of some unitary matrix $U$ of size $2^n\\times 2^n$, the QPE algorithm encodes the corresponding  eigenvalue into a quantum register:\n",
    "$$\n",
    "|0\\rangle_m|\\psi\\rangle_n \\xrightarrow[{\\rm QPE}(U)]{} |\\lambda\\rangle_m|\\psi\\rangle_n,\n",
    "$$\n",
    "where $m$ is the precision of the binary representation of $\\lambda$, $\\lambda=\\frac{1}{2^m}\\sum^{2^m-1}_{k=0}\\lambda^{(k)}2^k$ with $\\lambda^{(k)}$ being the state of the $k$-th qubit.\n",
    "\n",
    "In the HHL algorithm a QPE for the unitary $U=e^{2\\pi i A }$ is applied. The mathematics: First, note that the eigenvectors of $U$ are the ones of the matrix $A$, and that the corresponding eigenvalues $\\lambda$ defined for $U=e^{2\\pi i A }$ are the eigenvalues of $A$. Second, represent the prepared state in the basis given by the eigenvalues of $A$. This is merely a mathematical transformation; with no algorithmic considerations here. If the eigenbasis of $A$ is given by the set $\\{|\\psi_j\\rangle_n \\}^{2^n-1}_{j=0}$, then\n",
    "$$\n",
    "\\sum^{2^n-1}_{i=0}b_i|i\\rangle_n = \\sum^{2^n-1}_{j=0}\\beta_j|\\psi_j\\rangle_n.\n",
    "$$\n",
    "Applying the QPE stage gives\n",
    "$$\n",
    "|0\\rangle_m \\sum^{2^n-1}_{j=0}\\beta_j|\\psi_j\\rangle_n \\xrightarrow[{\\rm QPE}]{}  \\sum^{2^n-1}_{j=0}\\beta_j |\\lambda_j\\rangle_m |\\psi_j\\rangle_n.\n",
    "$$"
   ]
  },
  {
   "cell_type": "markdown",
   "id": "1ffcbdfd-6c23-47ad-8955-ec8fd0861e32",
   "metadata": {
    "lines_to_next_cell": 0,
    "tags": []
   },
   "source": [
    "For the QPE you are going to use Classiq's `suzuki-trotter` function of order 1 for Hamiltonian evolution $e^{-i H t}$. This function is an approximated one, where its `repetitions` parameter controls its error. For a QPE algorithm with size $m$ a series of controlled-unitaries $U^{2^s}$ $0 \\leq s \\leq m-1$ are applied, for each of which we would like to pass a different `repetitions` parameter depth (to keep a roughly same error, the repetitions for approximating $U=e^{2\\pi i 2^s A }$ is expected to be $\\sim 2^s$ larger then the repetitions of $U=e^{2\\pi i A }$). In Classiq this can be done by working with a flexiable-QPE, and passing a \"rule\" for how to exponentiate each step within the QPE."
   ]
  },
  {
   "cell_type": "markdown",
   "id": "eabb4c09-3748-4452-8e01-f33201403d24",
   "metadata": {},
   "source": [
    "#### 3.2.1 Defining a Powered Hamiltonian Evolution\n",
    "\n",
    "Define the inner quantum  call to be used within the flexible QPE: a Suzuki Trotter of order 1, whose repetitions parameter grows by some constant factor proportional to the evolution coefficient. "
   ]
  },
  {
   "cell_type": "code",
   "execution_count": 5,
   "id": "0ffb2c3e-2a54-4b35-9554-03f2c719f017",
   "metadata": {
    "execution": {
     "iopub.execute_input": "2024-03-12T12:38:21.443303Z",
     "iopub.status.busy": "2024-03-12T12:38:21.441930Z",
     "iopub.status.idle": "2024-03-12T12:38:21.450050Z",
     "shell.execute_reply": "2024-03-12T12:38:21.449310Z"
    }
   },
   "outputs": [],
   "source": [
    "from classiq import CArray, CReal, suzuki_trotter\n",
    "from classiq.qmod.symbolic import ceiling, log\n",
    "\n",
    "\n",
    "@qfunc\n",
    "def suzuki_trotter1_with_power_logic(\n",
    "    hamiltonian: CArray[PauliTerm],\n",
    "    pw: CInt,\n",
    "    r0: CInt,\n",
    "    reps_scaling_factor: CReal,\n",
    "    evolution_coefficient: CReal,\n",
    "    target: QArray[QBit],\n",
    ") -> None:\n",
    "    suzuki_trotter(\n",
    "        hamiltonian,\n",
    "        evolution_coefficient=evolution_coefficient * pw,\n",
    "        order=1,\n",
    "        repetitions=r0 * ceiling(reps_scaling_factor ** (log(pw, 2))),\n",
    "        qbv=target,\n",
    "    )"
   ]
  },
  {
   "cell_type": "markdown",
   "id": "f96299ef-f5a2-43db-8afa-ce5d1a42cbe8",
   "metadata": {
    "tags": []
   },
   "source": [
    "### 3.3 Eigenvalue Inversion\n",
    "\n",
    "The next step in the HHL algorithm is to pass the inverse of the eigenvalue registers into their amplitudes, using the Amplitude Loading (AL) construct.\n",
    "Given a function $f:[0,1)\\rightarrow [-1,1]$, it implements $|0\\rangle|\\lambda\\rangle_m \\xrightarrow[{\\rm AL}(f)]{} f(\\lambda)|1\\rangle|\\lambda\\rangle_m+\\sqrt{1-f^2(\\lambda)}|0\\rangle|\\lambda\\rangle_m$. For the HHL algorithm, apply an AL with $f=C/x$ where $C$ is a lower bound for the minimal eigenvalue of $A$.\n",
    "Applying this AL gives\n",
    "$$\n",
    "\\sum^{2^n-1}_{j=0}\\beta_j |\\lambda_j\\rangle_m |\\psi_j\\rangle_n \\xrightarrow[{\\rm AL}(C/x)]{}\n",
    "|0\\rangle\\left(\\sum^{2^n-1}_{j=0}\\sqrt{1-\\frac{C^2}{\\lambda^2_j}}\\beta_j |\\lambda_j\\rangle_m |\\psi_j\\rangle_n\\right)+\n",
    "|1\\rangle\\left(\\sum^{2^n-1}_{j=0}\\frac{C}{\\lambda_j}\\beta_j |\\lambda_j\\rangle_m |\\psi_j\\rangle_n\\right),\n",
    "$$\n",
    "\n",
    "\n",
    "where $C$ is a normalization coefficient."
   ]
  },
  {
   "cell_type": "markdown",
   "id": "a236d715-b9da-46f8-aaee-b085506d0ddc",
   "metadata": {
    "tags": []
   },
   "source": [
    "### 3.4 Inverse QPE\n",
    "\n",
    "As the final step in the HHL model, clean the QPE register by applying an inverse-QPE. (Note that it is not guaranteed that this register is completely cleaned; namely, that all the qubits in the QPE register return to zero after the inverse-QPE. Generically they are all zero with very high probability).\n",
    "\n",
    "In this model we will simply call the QPE function with the same parameters in stage 2. This is how the quantum state looks now\n",
    "$$\n",
    " |0\\rangle\\left(\\sum^{2^n-1}_{j=0}\\sqrt{1-\\frac{C^2}{\\lambda^2_j}}\\beta_j |\\lambda_j\\rangle_m |\\psi_j\\rangle_n\\right)+\n",
    "|1\\rangle\\left(\\sum^{2^n-1}_{j=0}\\frac{C}{\\lambda_j}\\beta_j |\\lambda_j\\rangle_m |\\psi_j\\rangle_n\\right)\n",
    "\\xrightarrow[{\\rm inv-QPE}(U)]{}\n",
    " |0\\rangle_m|0\\rangle\\left(\\sum^{2^n-1}_{j=0}\\sqrt{1-\\frac{C^2}{\\lambda^2_j}}\\beta_j  |\\psi_j\\rangle_n\\right)+\n",
    "|0\\rangle_m|1\\rangle\\left(\\sum^{2^n-1}_{j=0}\\frac{C}{\\lambda_j}\\beta_j  |\\psi_j\\rangle_n\\right)\n",
    "$$\n",
    "\n",
    "The state entangled with $|1\\rangle$ stores the solution to our problem (up to some normalization problem)\n",
    "$$\n",
    "\\sum^{2^n-1}_{j=0} \\frac{C}{\\lambda_j}\\beta_j  \\vec{\\psi_j} = C\\vec{x}.\n",
    "$$\n"
   ]
  },
  {
   "cell_type": "markdown",
   "id": "1cb6cf24-55aa-4e9e-9e69-bad14f95f8cf",
   "metadata": {},
   "source": [
    "---\n",
    "\n",
    "\n",
    "**In this notebook, steps 3.2-3.4 are encapsulated into a single user defined quantum function, `my_matrix_inversion_flexible`, defined in Sec. (2.4)**\n",
    "\n",
    "\n",
    "---"
   ]
  },
  {
   "cell_type": "markdown",
   "id": "57fd9798-8faf-4f58-8d5d-5453482b9d8c",
   "metadata": {},
   "source": [
    "### 3.5 The HHL Model"
   ]
  },
  {
   "cell_type": "markdown",
   "id": "ae73619e-ca62-4a45-9bb9-1ebeec4d0a2c",
   "metadata": {},
   "source": [
    "First, use the auxiliary function to decompose the matrix $A$ for the specific usecase. The variable `paulis` holds the list of Pauli strings that represents our matrix. The number of qubits to represent the matrix is stored in the variable `n`."
   ]
  },
  {
   "cell_type": "code",
   "execution_count": 6,
   "id": "b8c404c7-cabb-4fbc-bdb7-497f03d04c84",
   "metadata": {
    "execution": {
     "iopub.execute_input": "2024-03-12T12:38:21.457446Z",
     "iopub.status.busy": "2024-03-12T12:38:21.456124Z",
     "iopub.status.idle": "2024-03-12T12:38:21.466517Z",
     "shell.execute_reply": "2024-03-12T12:38:21.465823Z"
    }
   },
   "outputs": [
    {
     "name": "stdout",
     "output_type": "stream",
     "text": [
      "Pauli strings list: \n",
      "\n",
      "II :  (0.408+0j)\n",
      "IZ :  (-0.052+0j)\n",
      "IX :  (-0.03+0j)\n",
      "ZI :  (-0.017+0j)\n",
      "ZZ :  (-0.057+0j)\n",
      "ZX :  (0.02+0j)\n",
      "XI :  (-0.025+0j)\n",
      "XZ :  (0.045+0j)\n",
      "XX :  (-0.16+0j)\n",
      "YY :  (-0.06+0j)\n",
      "\n",
      " Number of qubits for matrix representation = 2\n"
     ]
    }
   ],
   "source": [
    "paulis = lcu_naive(A)\n",
    "n = len(paulis[0][0])\n",
    "print(\"Pauli strings list: \\n\")\n",
    "for p in paulis:\n",
    "    print(p[0], \": \", np.round(p[1], 3))\n",
    "\n",
    "print(\"\\n Number of qubits for matrix representation =\", n)"
   ]
  },
  {
   "cell_type": "markdown",
   "id": "15a099c2-ee1d-4ee3-8561-0b117e6ebe44",
   "metadata": {},
   "source": [
    "Build the quantum model calling the four quantum functions described above:"
   ]
  },
  {
   "cell_type": "code",
   "execution_count": 7,
   "id": "8a55813c-e4e8-4490-92a0-90816ad220d2",
   "metadata": {
    "execution": {
     "iopub.execute_input": "2024-03-12T12:38:21.472021Z",
     "iopub.status.busy": "2024-03-12T12:38:21.470751Z",
     "iopub.status.idle": "2024-03-12T12:38:21.479062Z",
     "shell.execute_reply": "2024-03-12T12:38:21.478380Z"
    }
   },
   "outputs": [],
   "source": [
    "from classiq import Output, create_model, prepare_amplitudes, synthesize\n",
    "from classiq.qmod.symbolic import floor\n",
    "\n",
    "# parameters for the amplitude preparation\n",
    "amplitudes = b.tolist()\n",
    "SP_ERROR = 0.0\n",
    "# parameters for the QPE\n",
    "QPE_SIZE = 4\n",
    "R0 = 4\n",
    "REPS_SCALING_FACTOR = 1.8\n",
    "\n",
    "\n",
    "@qfunc\n",
    "def main(\n",
    "    res: Output[QArray[QBit, floor(log(len(amplitudes), 2))]],\n",
    "    indicator: Output[QBit],\n",
    ") -> None:\n",
    "    prepare_amplitudes(amplitudes, SP_ERROR, res)\n",
    "    my_matrix_inversion_flexible(\n",
    "        unitary_with_power=lambda pw, target: suzuki_trotter1_with_power_logic(\n",
    "            hamiltonian=pauli_operator_to_hamiltonian(paulis),\n",
    "            pw=pw,\n",
    "            evolution_coefficient=-2 * np.pi,\n",
    "            r0=R0,\n",
    "            reps_scaling_factor=REPS_SCALING_FACTOR,\n",
    "            target=target,\n",
    "        ),\n",
    "        precision=QPE_SIZE,\n",
    "        state=res,\n",
    "        indicator=indicator,\n",
    "    )"
   ]
  },
  {
   "cell_type": "markdown",
   "id": "a9012395-5cbf-43b2-8c1a-46f09deff431",
   "metadata": {},
   "source": [
    "This tutorial compares the classical and quantum solutions, so execute the resulting circuit on a statevector simulator. To define this part of the model, set `Sample` and `ExecutionPreferences` of a statevector simulator."
   ]
  },
  {
   "cell_type": "code",
   "execution_count": 8,
   "id": "7cb726cf-05b7-4cde-b906-f2a65002ec55",
   "metadata": {
    "execution": {
     "iopub.execute_input": "2024-03-12T12:38:21.484027Z",
     "iopub.status.busy": "2024-03-12T12:38:21.482754Z",
     "iopub.status.idle": "2024-03-12T12:38:21.532921Z",
     "shell.execute_reply": "2024-03-12T12:38:21.532118Z"
    }
   },
   "outputs": [],
   "source": [
    "from classiq.execution import (\n",
    "    ClassiqBackendPreferences,\n",
    "    ClassiqSimulatorBackendNames,\n",
    "    ExecutionPreferences,\n",
    ")\n",
    "from classiq.synthesis import set_execution_preferences\n",
    "\n",
    "backend_preferences = ClassiqBackendPreferences(\n",
    "    backend_name=ClassiqSimulatorBackendNames.SIMULATOR_STATEVECTOR\n",
    ")\n",
    "qmod_hhl = create_model(main)\n",
    "\n",
    "qmod_hhl = set_execution_preferences(\n",
    "    qmod_hhl,\n",
    "    execution_preferences=ExecutionPreferences(\n",
    "        num_shots=1, backend_preferences=backend_preferences\n",
    "    ),\n",
    ")"
   ]
  },
  {
   "cell_type": "code",
   "execution_count": 9,
   "id": "cc3ba894-8a73-4891-ad55-6f22fa3fdfb5",
   "metadata": {
    "execution": {
     "iopub.execute_input": "2024-03-12T12:38:21.538885Z",
     "iopub.status.busy": "2024-03-12T12:38:21.537663Z",
     "iopub.status.idle": "2024-03-12T12:38:21.560518Z",
     "shell.execute_reply": "2024-03-12T12:38:21.559569Z"
    }
   },
   "outputs": [],
   "source": [
    "from classiq import write_qmod\n",
    "\n",
    "write_qmod(qmod_hhl, \"hhl\", decimal_precision=10)"
   ]
  },
  {
   "cell_type": "markdown",
   "id": "4e0caed5-950c-43f8-90cf-d841731b4ea5",
   "metadata": {},
   "source": [
    "#### 3.5.1 Synthesizing the Model"
   ]
  },
  {
   "cell_type": "code",
   "execution_count": 10,
   "id": "f0ffc6b8-cdb8-468b-932f-89942c639b5d",
   "metadata": {
    "execution": {
     "iopub.execute_input": "2024-03-12T12:38:21.566530Z",
     "iopub.status.busy": "2024-03-12T12:38:21.565346Z",
     "iopub.status.idle": "2024-03-12T12:38:39.548094Z",
     "shell.execute_reply": "2024-03-12T12:38:39.547158Z"
    }
   },
   "outputs": [],
   "source": [
    "from classiq import synthesize\n",
    "\n",
    "qprog_hhl = synthesize(qmod_hhl)"
   ]
  },
  {
   "cell_type": "code",
   "execution_count": 11,
   "id": "92eceedd-b8df-42ef-85cc-cddde8deedc2",
   "metadata": {
    "execution": {
     "iopub.execute_input": "2024-03-12T12:38:39.552745Z",
     "iopub.status.busy": "2024-03-12T12:38:39.552322Z",
     "iopub.status.idle": "2024-03-12T12:38:39.723711Z",
     "shell.execute_reply": "2024-03-12T12:38:39.723039Z"
    }
   },
   "outputs": [
    {
     "name": "stdout",
     "output_type": "stream",
     "text": [
      "Opening: https://platform.classiq.io/circuit/be949406-e960-4552-a210-a86a646ca28b?version=0.38.0.dev42%2Bfd36e2c41c\n"
     ]
    }
   ],
   "source": [
    "from classiq import show\n",
    "\n",
    "show(qprog_hhl)"
   ]
  },
  {
   "cell_type": "code",
   "execution_count": 12,
   "id": "8a95d759-793d-4351-a57e-8fec86145413",
   "metadata": {
    "execution": {
     "iopub.execute_input": "2024-03-12T12:38:39.729105Z",
     "iopub.status.busy": "2024-03-12T12:38:39.727285Z",
     "iopub.status.idle": "2024-03-12T12:38:39.767588Z",
     "shell.execute_reply": "2024-03-12T12:38:39.766784Z"
    }
   },
   "outputs": [
    {
     "name": "stdout",
     "output_type": "stream",
     "text": [
      "depth =  5074\n"
     ]
    }
   ],
   "source": [
    "from classiq import QuantumProgram\n",
    "\n",
    "circuit_hhl = QuantumProgram.from_qprog(qprog_hhl)\n",
    "print(\"depth = \", circuit_hhl.transpiled_circuit.depth)"
   ]
  },
  {
   "attachments": {
    "Screen%20Shot%202023-01-25%20at%2014.27.58.png": {
     "image/png": "[encoded data removed]"
    }
   },
   "cell_type": "markdown",
   "id": "a34e1ae9-168c-4d1c-a3f1-2d1f56bc78c6",
   "metadata": {},
   "source": [
    "![Screen%20Shot%202023-01-25%20at%2014.27.58.png](attachment:Screen%20Shot%202023-01-25%20at%2014.27.58.png)"
   ]
  },
  {
   "cell_type": "markdown",
   "id": "73bbb2d9-ea89-4b00-b4b9-40689c11a565",
   "metadata": {},
   "source": [
    "### 3.6 Executing and Verifying the Result Via the Statevector Simulator\n",
    "\n",
    "Execute the quantum program. Recall that you chose a statevector simulator because you want the exact solution."
   ]
  },
  {
   "cell_type": "code",
   "execution_count": 13,
   "id": "14bc85cb-1000-4e2d-b96f-a0c324c60b27",
   "metadata": {
    "execution": {
     "iopub.execute_input": "2024-03-12T12:38:39.773558Z",
     "iopub.status.busy": "2024-03-12T12:38:39.772093Z",
     "iopub.status.idle": "2024-03-12T12:38:44.602701Z",
     "shell.execute_reply": "2024-03-12T12:38:44.601923Z"
    }
   },
   "outputs": [],
   "source": [
    "from classiq import execute\n",
    "\n",
    "results = execute(qprog_hhl).result()"
   ]
  },
  {
   "cell_type": "code",
   "execution_count": 14,
   "id": "18b30c40-7d6f-4b72-86a0-b9c3fd1ed5f6",
   "metadata": {
    "execution": {
     "iopub.execute_input": "2024-03-12T12:38:44.607959Z",
     "iopub.status.busy": "2024-03-12T12:38:44.606602Z",
     "iopub.status.idle": "2024-03-12T12:38:44.612032Z",
     "shell.execute_reply": "2024-03-12T12:38:44.611295Z"
    }
   },
   "outputs": [],
   "source": [
    "from classiq.execution import ExecutionDetails\n",
    "\n",
    "res_hhl = results[0].value"
   ]
  },
  {
   "cell_type": "markdown",
   "id": "f43da2d4-8859-4abe-a2a4-d9ccb135ca4e",
   "metadata": {},
   "source": [
    "Read the specific results given in the `res` register defined in the model, caring only for entries where the target register is 1."
   ]
  },
  {
   "cell_type": "code",
   "execution_count": 15,
   "id": "4a3ae809-d511-4f33-850e-ea50d6e4fab4",
   "metadata": {
    "execution": {
     "iopub.execute_input": "2024-03-12T12:38:44.617314Z",
     "iopub.status.busy": "2024-03-12T12:38:44.615895Z",
     "iopub.status.idle": "2024-03-12T12:38:44.621463Z",
     "shell.execute_reply": "2024-03-12T12:38:44.620733Z"
    },
    "is_executing": true
   },
   "outputs": [],
   "source": [
    "total_q = circuit_hhl.data.width  # total number of qubits of the whole circuit"
   ]
  },
  {
   "cell_type": "markdown",
   "id": "6ec5d598-de3d-44b1-866c-39490350f79f",
   "metadata": {},
   "source": [
    "Read the qubit allocation of the relevant registers."
   ]
  },
  {
   "cell_type": "code",
   "execution_count": 16,
   "id": "648879af-eda8-4259-9f7e-006d126872c6",
   "metadata": {
    "execution": {
     "iopub.execute_input": "2024-03-12T12:38:44.628420Z",
     "iopub.status.busy": "2024-03-12T12:38:44.626986Z",
     "iopub.status.idle": "2024-03-12T12:38:44.633194Z",
     "shell.execute_reply": "2024-03-12T12:38:44.632533Z"
    }
   },
   "outputs": [],
   "source": [
    "target_pos = res_hhl.physical_qubits_map[\"indicator\"][0]  # position of control qubit\n",
    "\n",
    "sol_pos = list(res_hhl.physical_qubits_map[\"res\"])  # position of solution\n",
    "\n",
    "phase_pos = [\n",
    "    total_q - k - 1 for k in range(total_q) if k not in sol_pos + [target_pos]\n",
    "]  # Finds the position of the “phase” register and flips for endianness, as you will use the indices to read directly from the string"
   ]
  },
  {
   "cell_type": "markdown",
   "id": "f520a242-c0d8-49b9-94d1-750da0555fb2",
   "metadata": {},
   "source": [
    "Define a run over all the relevant strings holding the solution. The solution vector will be inserted into the variable `qsol`. Factor out $C=1/2^m$."
   ]
  },
  {
   "cell_type": "code",
   "execution_count": 17,
   "id": "b8b5ed43-3618-44a0-b0a5-f632c0caef15",
   "metadata": {
    "execution": {
     "iopub.execute_input": "2024-03-12T12:38:44.638669Z",
     "iopub.status.busy": "2024-03-12T12:38:44.637287Z",
     "iopub.status.idle": "2024-03-12T12:38:44.700669Z",
     "shell.execute_reply": "2024-03-12T12:38:44.699469Z"
    }
   },
   "outputs": [],
   "source": [
    "qsol = [\n",
    "    np.round(parsed_state.amplitude / (1 / 2**QPE_SIZE), 5)\n",
    "    for solution in range(2**n)\n",
    "    for parsed_state in res_hhl.parsed_state_vector\n",
    "    if parsed_state[\"indicator\"] == 1.0\n",
    "    and parsed_state[\"res\"] == solution\n",
    "    and [parsed_state.bitstring[k] for k in phase_pos]\n",
    "    == [\"0\"]\n",
    "    * QPE_SIZE  # this takes the entries where the “phase” register is at state zero\n",
    "]"
   ]
  },
  {
   "cell_type": "markdown",
   "id": "007beff5-5fd8-48cf-a4bc-625afa655456",
   "metadata": {},
   "source": [
    "#### 3.6.1 Comparing classical and quantum solutions.\n",
    "\n",
    "Note that the HHL algorithm returns a statevector result up to some global phase (coming from transpilation or from the quantum functions themselves). Therefore, to compare with the classical solution, correct for this global phase."
   ]
  },
  {
   "cell_type": "code",
   "execution_count": 18,
   "id": "042ef3f0-5c07-4354-99e5-7809bd1ce51f",
   "metadata": {
    "execution": {
     "iopub.execute_input": "2024-03-12T12:38:44.708697Z",
     "iopub.status.busy": "2024-03-12T12:38:44.707255Z",
     "iopub.status.idle": "2024-03-12T12:38:44.721568Z",
     "shell.execute_reply": "2024-03-12T12:38:44.720856Z"
    }
   },
   "outputs": [
    {
     "name": "stdout",
     "output_type": "stream",
     "text": [
      "classical:   [1.3814374  2.50585064 3.19890483 2.43147877]\n",
      "HHL:         [1.4399586  2.57143349 3.26031736 2.45618776]\n",
      "relative distance:   2.2 %\n"
     ]
    }
   ],
   "source": [
    "sol_classical = np.linalg.solve(A, b)\n",
    "global_phase = np.angle(qsol)\n",
    "qsol_corrected = np.real(qsol / np.exp(1j * global_phase))\n",
    "print(\"classical:  \", sol_classical)\n",
    "print(\"HHL:        \", qsol_corrected)\n",
    "print(\n",
    "    \"relative distance:  \",\n",
    "    round(\n",
    "        np.linalg.norm(sol_classical - qsol_corrected)\n",
    "        / np.linalg.norm(sol_classical)\n",
    "        * 100,\n",
    "        1,\n",
    "    ),\n",
    "    \"%\",\n",
    ")"
   ]
  },
  {
   "cell_type": "code",
   "execution_count": 19,
   "id": "34b41fea-01e9-43b5-b943-c36f9da6ac73",
   "metadata": {
    "execution": {
     "iopub.execute_input": "2024-03-12T12:38:44.726635Z",
     "iopub.status.busy": "2024-03-12T12:38:44.725382Z",
     "iopub.status.idle": "2024-03-12T12:38:45.108211Z",
     "shell.execute_reply": "2024-03-12T12:38:45.107335Z"
    }
   },
   "outputs": [
    {
     "data": {
      "image/png": "[encoded data removed]",
      "text/plain": [
       "<Figure size 640x480 with 1 Axes>"
      ]
     },
     "metadata": {},
     "output_type": "display_data"
    }
   ],
   "source": [
    "import matplotlib.pyplot as plt\n",
    "\n",
    "plt.plot(sol_classical, \"bo\", label=\"classical\")\n",
    "plt.plot(qsol_corrected, \"ro\", label=\"HHL\")\n",
    "plt.legend()\n",
    "plt.xlabel(\"$i$\")\n",
    "plt.ylabel(\"$x_i$\")\n",
    "plt.show()"
   ]
  },
  {
   "cell_type": "markdown",
   "id": "e4a6fd29-f3d7-40c1-8d3c-67feedff2deb",
   "metadata": {},
   "source": [
    "**The lines below verifies that there is no functional error, which might come from changing endianness in Model or Execution.**"
   ]
  },
  {
   "cell_type": "code",
   "execution_count": 20,
   "id": "9ea18ab1-3b8d-4277-a98f-2cd3b210a13b",
   "metadata": {
    "execution": {
     "iopub.execute_input": "2024-03-12T12:38:45.112745Z",
     "iopub.status.busy": "2024-03-12T12:38:45.111946Z",
     "iopub.status.idle": "2024-03-12T12:38:45.117956Z",
     "shell.execute_reply": "2024-03-12T12:38:45.117081Z"
    }
   },
   "outputs": [],
   "source": [
    "if np.linalg.norm(sol_classical - qsol_corrected) / np.linalg.norm(sol_classical) > 0.1:\n",
    "    raise Exception(\n",
    "        \"The HHL solution is too far from the classical one, please verify your algorithm\"\n",
    "    )"
   ]
  },
  {
   "cell_type": "markdown",
   "id": "c5d5ea31-3ab2-4eb5-8522-9462e6ccfa40",
   "metadata": {
    "tags": []
   },
   "source": [
    "## 4. Generalizations\n",
    "\n",
    "The usecase treated above is a canonical one, assuming the following properties:\n",
    "1) The RHS vector $\\vec{b}$ is normalized.\n",
    "2) The matrix $A$ is an Hermitian one.\n",
    "3) The matrix $A$ is of size $2^n\\times 2^n $.\n",
    "4) The eigenvalues of $A$ are in the range $(0,1)$.\n",
    "\n",
    "However, any general problem that does not follow these conditions can be resolved as follows:\n",
    "\n",
    "1) As preprocessing, normalize $\\vec{b}$ and then return the normalization factor as a post-processing\n",
    "2) Symmetrize the problem as follows:\n",
    "$$\n",
    "\\begin{pmatrix}\n",
    "0 & A^T \\\\\n",
    "A & 0\n",
    "\\end{pmatrix}\n",
    "\\begin{pmatrix}\n",
    "\\vec{b}  \\\\\n",
    "0\n",
    "\\end{pmatrix}\n",
    "=\n",
    "\\begin{pmatrix}\n",
    "0  \\\\\n",
    "\\vec{x}\n",
    "\\end{pmatrix}.\n",
    "$$\n",
    "This increases the number of qubits by 1.\n",
    "3) Complete the matrix dimension to the closest $2^n$ with an identity matrix. The vector $\\vec{b}$ will be completed with zeros.\n",
    "$$\n",
    "\\begin{pmatrix}\n",
    "A & 0 \\\\\n",
    "0 & I\n",
    "\\end{pmatrix}\n",
    "\\begin{pmatrix}\n",
    "\\vec{b}  \\\\\n",
    "0\n",
    "\\end{pmatrix}\n",
    "=\n",
    "\\begin{pmatrix}\n",
    "\\vec{x}  \\\\\n",
    "0\n",
    "\\end{pmatrix}.\n",
    "$$\n",
    "4) If the eigenvalues of $A$ are in the range $[-w_{\\min},w_{\\max}]$ you can employ transformations to the exponentiated matrix that enters into the Hamiltonian simulation, and then undo them for extracting the results:\n",
    "$$\n",
    "\\tilde{A}=(A+w_{\\min}I)\\left(1-\\frac{1}{2^{m}}\\right)\\frac{1}{w_{\\min}+w_{\\max}}.\n",
    "$$\n",
    "The eigenvalues of this matrix lie in the interval $[0,1)$, and are related to the eigenvalues of the original matrix via\n",
    "$$\n",
    "\\lambda = (w_{\\min}+w_{\\max})\\tilde{\\lambda}\\left[1/\\left(1-\\frac{1}{2^{n_{m}}}\\right)\\right]-w_{\\min},\n",
    "$$\n",
    "with $\\tilde{\\lambda}$ being an eigenvalue of $\\tilde{A}$ resulting from the QPE algorithm. This relation between eigenvalues is then used for the expression inserted into the eigenvalue inversion, via the `AmplitudeLoading` function."
   ]
  },
  {
   "cell_type": "markdown",
   "id": "dfa04f60-9f81-49d9-860e-179169bd5cdf",
   "metadata": {},
   "source": [
    "## References\n",
    "\n",
    "<a name='HHL'>[1]</a>: [Harrow, A. W., Hassidim, A., & Lloyd, S., Quantum Algorithm for Linear Systems of Equations. Physical Review Letters 103, 150502 (2009)](https://journals.aps.org/prl/abstract/10.1103/PhysRevLett.103.150502).\n"
   ]
  }
 ],
 "metadata": {
  "kernelspec": {
   "display_name": "Python 3 (ipykernel)",
   "language": "python",
   "name": "python3"
  },
  "language_info": {
   "codemirror_mode": {
    "name": "ipython",
    "version": 3
   },
   "file_extension": ".py",
   "mimetype": "text/x-python",
   "name": "python",
   "nbconvert_exporter": "python",
   "pygments_lexer": "ipython3",
   "version": "3.11.8"
  }
 },
 "nbformat": 4,
 "nbformat_minor": 5
}
