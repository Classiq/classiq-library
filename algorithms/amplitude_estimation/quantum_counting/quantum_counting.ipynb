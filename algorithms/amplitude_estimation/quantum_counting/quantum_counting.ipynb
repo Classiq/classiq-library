{
 "cells": [
  {
   "cell_type": "markdown",
   "id": "456a591a-6383-45cf-ac3e-cca3014edf6b",
   "metadata": {},
   "source": [
    "# Quantum Counting Using the Iterative Quantum Amplitude Estimation Algorithm\n",
    "\n",
    "The quantum counting algorithm [[1](#QCWiki)] efficiently estimates the number of valid solutions to a search problem, based on the amplitude estimation algorithm. It demonstrates a quadratic improvement with regard to a classical algorithm with black box oracle access to the function $f$.\n",
    "\n",
    "More precisely, given a Boolean function $f :\\{0, 1\\}^n\\rightarrow\\{0,1\\}$, the counting problem estimates the number of inputs $x$ to $f$ such that $f(x)=1$.\n",
    "\n",
    "This tutorial demonstrates how to estimate the counting problem using a specific variant of the amplitude estimation algorithm: the Iterative Quantum Amplitude Estimation (IQAE) [[2](#IQAE)].\n",
    "\n",
    "The IQAE does not rely on the Quantum Phase Estimation algorithm [[3](#AE)], but purely on applications of the grover operator:\n",
    "$$\n",
    "Q\\equiv -  A S_0 A^{\\dagger} S_{\\psi_1},\n",
    "$$\n",
    "thereby reducing the required number of qubits and gates of the circuit, at the expense of additional multiplicative factor polylogarithmic in the error $\\epsilon$.\n"
   ]
  },
  {
   "cell_type": "markdown",
   "id": "38184f42-a77b-4370-8e42-0224e711c5e0",
   "metadata": {},
   "source": [
    "## Setting Up the Problem\n",
    "\n",
    "We choose this equation:\n",
    "$$\n",
    "(a + b) <= 2\n",
    "$$\n",
    "where $a$, $b$ are 2-bit unsigned integers. This equation has six solutions. The goal is to estimate the number of valid solutions out of the 16 possible inputs, with precision $0.5$.\n",
    "\n",
    "\n"
   ]
  },
  {
   "cell_type": "markdown",
   "id": "d69d5803-107a-4083-aa25-9c3d5dc092f3",
   "metadata": {},
   "source": [
    "## Amplitude Estimation Using Phase Estimation"
   ]
  },
  {
   "cell_type": "markdown",
   "id": "58a44d55-97ee-4463-8d38-d3c64151f76a",
   "metadata": {},
   "source": [
    "We first show how to use quantum phase estimation algorithm for quantum counting [[3](#AE)], then solve it using the IQAE method."
   ]
  },
  {
   "cell_type": "markdown",
   "id": "91f9f567-6513-4249-b0ab-438f0e368976",
   "metadata": {},
   "source": [
    "Given a state $|\\psi\\rangle$ such that $|\\psi\\rangle=\\sqrt{a}|\\psi_1\\rangle+\\sqrt{1-a}|\\psi_0\\rangle$ we can measure $a$ up to arbitrary precision, given the following building blocks:\n",
    "1) State preparation: \n",
    "A unitary $A$ such that: $A|0\\rangle = |\\psi\\rangle = \\sqrt{a}|\\psi_1\\rangle+\\sqrt{1-a}|\\psi_0\\rangle$.\n",
    "\n",
    "\n",
    "2) Oracle:\n",
    "A unitary $S_{\\psi_1}$ such that $S_{\\psi_1}=I-2|\\psi_1\\rangle\\langle\\psi_1|$, which adds a $(-1)$ phase to $|\\psi_1|\\psi\\rangle\\rangle$ and does nothing to any orthognal states to $|\\psi_1\\rangle$.\n",
    "This is effectively a reflection around the \"good\" state $|\\psi_1\\rangle$.\n",
    "\n",
    "Given these two functions, we can construct the Grover operator:\n",
    "$$\n",
    "Q\\equiv -  A S_0 A^{\\dagger} S_{\\psi_1} ,\n",
    "$$\n",
    "which is exactly the same operator as for the Grover's search algorithm. \n",
    "\n",
    "\n",
    "In the subspace spanned by $|\\psi_1\\rangle$ and $|\\psi_0\\rangle$, $Q$ has two eigenvalues: \n",
    "$$\n",
    "\\lambda_{\\pm}=\\exp\\left(\\pm i2\\pi \\theta \\right), \\qquad \\sin^2 \\left(\\pi \\theta\\right)\\equiv a.\n",
    "$$\n",
    "\n",
    "Therefore, if we apply a QPE on $A|0\\rangle$ we have these two eigenvalues encoded in the QPE register; however, both give the value of $a$, so there is no ambiguity."
   ]
  },
  {
   "cell_type": "markdown",
   "id": "16100fce-c9ad-4eba-a4a2-deb14a610b43",
   "metadata": {},
   "source": [
    "### Arithmetic Oracle\n",
    "\n",
    "We define the $S_{\\psi_1}$ oracle:\n",
    "\n",
    "$$\n",
    "S_{\\psi_1}|a\\rangle|b\\rangle= (-1)^{f(a,b)}|a\\rangle|b\\rangle.\n",
    "$$"
   ]
  },
  {
   "cell_type": "code",
   "execution_count": 1,
   "id": "98a57228-2722-4be7-a40f-b15d990962d7",
   "metadata": {
    "execution": {
     "iopub.execute_input": "2025-03-27T13:29:55.352347Z",
     "iopub.status.busy": "2025-03-27T13:29:55.351932Z",
     "iopub.status.idle": "2025-03-27T13:29:57.121797Z",
     "shell.execute_reply": "2025-03-27T13:29:57.121261Z"
    }
   },
   "outputs": [],
   "source": [
    "from classiq import *\n",
    "\n",
    "A_SIZE = 2\n",
    "B_SIZE = 2\n",
    "DOMAIN_SIZE = A_SIZE + B_SIZE\n",
    "\n",
    "\n",
    "class OracleVars(QStruct):\n",
    "    a: QNum[A_SIZE, False, 0]\n",
    "    b: QNum[B_SIZE, False, 0]\n",
    "\n",
    "\n",
    "@qfunc\n",
    "def arith_equation(a: QNum, b: QNum, res: QBit):\n",
    "    res ^= a + b <= 2\n",
    "\n",
    "\n",
    "# use phase kickback for turning the arith_equation to an oracle\n",
    "@qfunc\n",
    "def arith_oracle(state: OracleVars):\n",
    "    aux = QBit(\"aux\")\n",
    "    within_apply(\n",
    "        lambda: (allocate(1, aux), X(aux), H(aux)),\n",
    "        lambda: arith_equation(state.a, state.b, aux),\n",
    "    )"
   ]
  },
  {
   "cell_type": "markdown",
   "id": "d259adad-9b69-4602-932b-97d98b546503",
   "metadata": {},
   "source": [
    "### Diffuser\n",
    "\n",
    "The diffuser consists of the reflection around the $|0\\rangle$ state and a state-preparation function.\n",
    "\n",
    "The state preparation function $A$ reflects knowledge about the solution space and can be used to eliminate invalid assignments. Here we assume no knowledge of the solution space; hence, we use the uniform superposition state preparation."
   ]
  },
  {
   "cell_type": "code",
   "execution_count": 2,
   "id": "33343f03-82cc-4808-9759-dd747fcd5209",
   "metadata": {
    "execution": {
     "iopub.execute_input": "2025-03-27T13:29:57.123879Z",
     "iopub.status.busy": "2025-03-27T13:29:57.123585Z",
     "iopub.status.idle": "2025-03-27T13:29:57.127267Z",
     "shell.execute_reply": "2025-03-27T13:29:57.126953Z"
    },
    "tags": []
   },
   "outputs": [],
   "source": [
    "import numpy as np\n",
    "\n",
    "\n",
    "@qfunc\n",
    "def reflection_about_zero(x: QArray[QBit]):\n",
    "    lsb = QBit(\"lsb\")\n",
    "    msbs = QArray(\"msbs\", QBit, x.len - 1)\n",
    "\n",
    "    apply_to_all(X, x)\n",
    "    bind(x, [msbs, lsb])\n",
    "    control(msbs, lambda: Z(lsb))\n",
    "    bind([msbs, lsb], x)\n",
    "    apply_to_all(X, x)\n",
    "\n",
    "\n",
    "@qfunc\n",
    "def my_diffuser(sp_operand: QCallable[QArray[QBit]], x: QArray[QBit]):\n",
    "    within_apply(\n",
    "        lambda: invert(lambda: sp_operand(x)),\n",
    "        lambda: reflection_about_zero(x),\n",
    "    )\n",
    "\n",
    "\n",
    "sp_oracle = lambda x: hadamard_transform(x)"
   ]
  },
  {
   "cell_type": "markdown",
   "id": "26ccb4d1-030e-48dc-a883-908d0cd9359c",
   "metadata": {},
   "source": [
    "### Defining a Complete Grover Operator"
   ]
  },
  {
   "cell_type": "code",
   "execution_count": 3,
   "id": "576af4f4-5243-4ec7-b754-55249b71ee59",
   "metadata": {
    "execution": {
     "iopub.execute_input": "2025-03-27T13:29:57.128758Z",
     "iopub.status.busy": "2025-03-27T13:29:57.128660Z",
     "iopub.status.idle": "2025-03-27T13:29:57.130991Z",
     "shell.execute_reply": "2025-03-27T13:29:57.130726Z"
    }
   },
   "outputs": [],
   "source": [
    "@qfunc\n",
    "def my_grover_operator(\n",
    "    oracle_operand: QCallable[QArray[QBit]],\n",
    "    sp_operand: QCallable[QArray[QBit]],\n",
    "    x: QArray[QBit],\n",
    "):\n",
    "    oracle_operand(x)\n",
    "    my_diffuser(sp_operand, x)\n",
    "    U(0, 0, 0, np.pi, x[0])"
   ]
  },
  {
   "cell_type": "markdown",
   "id": "75227dd9-12f9-4933-909d-795c9bdeff2d",
   "metadata": {},
   "source": [
    "### Wrapping All to the Phase Estimation"
   ]
  },
  {
   "cell_type": "markdown",
   "id": "372e2c83-9cc3-45fc-bdb4-ccd1db54a2c3",
   "metadata": {},
   "source": [
    "We will achieve the desired precision only in the IQAE phase. Here, we compute the worst-case precision for five phase qubits:"
   ]
  },
  {
   "cell_type": "code",
   "execution_count": 4,
   "id": "71ee226b-f8f1-4a31-ad51-ffa6cb29acfc",
   "metadata": {
    "execution": {
     "iopub.execute_input": "2025-03-27T13:29:57.132370Z",
     "iopub.status.busy": "2025-03-27T13:29:57.132241Z",
     "iopub.status.idle": "2025-03-27T13:29:57.136428Z",
     "shell.execute_reply": "2025-03-27T13:29:57.136171Z"
    }
   },
   "outputs": [
    {
     "data": {
      "text/plain": [
       "1.5681439279637468"
      ]
     },
     "execution_count": 4,
     "metadata": {},
     "output_type": "execute_result"
    }
   ],
   "source": [
    "NUM_PHASE_QUBITS = 5\n",
    "\n",
    "x = np.linspace(0, 1, 100)\n",
    "(2**DOMAIN_SIZE) * max(\n",
    "    np.abs(\n",
    "        np.sin(np.pi * x) ** 2 - np.sin(np.pi * (x - 1 / (2**NUM_PHASE_QUBITS))) ** 2\n",
    "    )\n",
    ")"
   ]
  },
  {
   "cell_type": "code",
   "execution_count": 5,
   "id": "31162825-bdb0-4b71-98be-fde318dfbf4a",
   "metadata": {
    "execution": {
     "iopub.execute_input": "2025-03-27T13:29:57.137875Z",
     "iopub.status.busy": "2025-03-27T13:29:57.137641Z",
     "iopub.status.idle": "2025-03-27T13:29:57.140077Z",
     "shell.execute_reply": "2025-03-27T13:29:57.139794Z"
    }
   },
   "outputs": [],
   "source": [
    "@qfunc\n",
    "def main(\n",
    "    phase_reg: Output[QNum],\n",
    ") -> None:\n",
    "    state_reg = OracleVars(\"state_reg\")\n",
    "    allocate(state_reg.size, state_reg)\n",
    "    allocate_num(NUM_PHASE_QUBITS, False, NUM_PHASE_QUBITS, phase_reg)\n",
    "    sp_oracle(state_reg)\n",
    "    qpe(\n",
    "        unitary=lambda: my_grover_operator(\n",
    "            arith_oracle,\n",
    "            sp_oracle,\n",
    "            state_reg,\n",
    "        ),\n",
    "        phase=phase_reg,\n",
    "    )"
   ]
  },
  {
   "cell_type": "markdown",
   "id": "23e1bba3-1958-4de1-aa5b-ea36842541c0",
   "metadata": {},
   "source": [
    "### Synthesizing the Model to a Quantum Program"
   ]
  },
  {
   "cell_type": "code",
   "execution_count": 6,
   "id": "2904fd77-dfb3-4a00-9400-e74316950f91",
   "metadata": {
    "execution": {
     "iopub.execute_input": "2025-03-27T13:29:57.141451Z",
     "iopub.status.busy": "2025-03-27T13:29:57.141329Z",
     "iopub.status.idle": "2025-03-27T13:32:23.952963Z",
     "shell.execute_reply": "2025-03-27T13:32:23.952420Z"
    }
   },
   "outputs": [
    {
     "name": "stdout",
     "output_type": "stream",
     "text": [
      "Opening: https://platform.classiq.io/circuit/2utyp03vDcy0D1yPnG06TkF1tkM?login=True&version=0.73.0\n",
      "https://platform.classiq.io/circuit/2utyp03vDcy0D1yPnG06TkF1tkM?login=True&version=0.73.0\n"
     ]
    }
   ],
   "source": [
    "constraints = Constraints(max_width=14)\n",
    "qmod_qpe = create_model(main, constraints=constraints, out_file=\"quantum_counting_qpe\")\n",
    "qprog_qpe = synthesize(qmod_qpe)\n",
    "show(qprog_qpe)"
   ]
  },
  {
   "cell_type": "markdown",
   "id": "5fe6073e-4ebe-438c-b8bb-12d658c4eece",
   "metadata": {},
   "source": [
    "### Executing the Quantum Program"
   ]
  },
  {
   "cell_type": "code",
   "execution_count": 7,
   "id": "7d2bed5b-b94b-4ed8-855a-675b92de5324",
   "metadata": {
    "execution": {
     "iopub.execute_input": "2025-03-27T13:32:23.954617Z",
     "iopub.status.busy": "2025-03-27T13:32:23.954212Z",
     "iopub.status.idle": "2025-03-27T13:32:30.974375Z",
     "shell.execute_reply": "2025-03-27T13:32:30.972650Z"
    }
   },
   "outputs": [],
   "source": [
    "result = execute(qprog_qpe).result_value()"
   ]
  },
  {
   "cell_type": "markdown",
   "id": "9cc9df6d-2968-4d3d-9ed8-5303336a1365",
   "metadata": {},
   "source": [
    "Upon plotting the resulting histogram, we see two phase values with high probability (however, both correspond to the same amplitude). Note that `phase_reg` is already coded as fixed QNum in the range [0,1]."
   ]
  },
  {
   "cell_type": "code",
   "execution_count": 8,
   "id": "cbfd0b33-7448-4fd3-843b-c74b09d47c8d",
   "metadata": {
    "execution": {
     "iopub.execute_input": "2025-03-27T13:32:30.977587Z",
     "iopub.status.busy": "2025-03-27T13:32:30.977283Z",
     "iopub.status.idle": "2025-03-27T13:32:31.066082Z",
     "shell.execute_reply": "2025-03-27T13:32:31.065595Z"
    },
    "tags": []
   },
   "outputs": [
    {
     "name": "stdout",
     "output_type": "stream",
     "text": [
      "phase with max probability:  0.78125\n"
     ]
    },
    {
     "data": {
      "image/png": "[encoded data removed]",
      "text/plain": [
       "<Figure size 640x480 with 1 Axes>"
      ]
     },
     "metadata": {},
     "output_type": "display_data"
    }
   ],
   "source": [
    "import matplotlib.pyplot as plt\n",
    "\n",
    "phases_counts = dict(\n",
    "    (sampled_state.state[\"phase_reg\"], sampled_state.shots)\n",
    "    for sampled_state in result.parsed_counts\n",
    ")\n",
    "plt.bar(phases_counts.keys(), phases_counts.values(), width=0.1)\n",
    "plt.xticks(rotation=90)\n",
    "print(\"phase with max probability: \", max(phases_counts, key=phases_counts.get))"
   ]
  },
  {
   "cell_type": "markdown",
   "id": "08319831-bf54-4892-a623-b7ce1c9b8488",
   "metadata": {},
   "source": [
    "From the phase, we can extract the number of solutions:"
   ]
  },
  {
   "cell_type": "code",
   "execution_count": 9,
   "id": "d6a77c5d-c684-40e7-97ef-ec73ce659535",
   "metadata": {
    "execution": {
     "iopub.execute_input": "2025-03-27T13:32:31.067586Z",
     "iopub.status.busy": "2025-03-27T13:32:31.067463Z",
     "iopub.status.idle": "2025-03-27T13:32:31.070855Z",
     "shell.execute_reply": "2025-03-27T13:32:31.070386Z"
    },
    "tags": []
   },
   "outputs": [
    {
     "name": "stdout",
     "output_type": "stream",
     "text": [
      "Number of solutions:  6.439277423870974\n"
     ]
    }
   ],
   "source": [
    "solutions_ratio_qpe = np.sin(np.pi * max(phases_counts, key=phases_counts.get)) ** 2\n",
    "print(\n",
    "    \"Number of solutions: \",\n",
    "    (2**DOMAIN_SIZE) * solutions_ratio_qpe,\n",
    ")"
   ]
  },
  {
   "cell_type": "markdown",
   "id": "e8efaff8-3114-429b-ab20-fdff96246ea7",
   "metadata": {},
   "source": [
    "## Amplitude Estimation Using Iterative Quantum Amplitude Estimation"
   ]
  },
  {
   "cell_type": "markdown",
   "id": "f6518bf7-acec-4fde-8612-35c2fe73c02f",
   "metadata": {},
   "source": [
    "Now we are ready for the iterative method. \n",
    "\n",
    "Instead of QPE, the algorithm applies the unitary\n",
    "$$\n",
    "(Q)^mA\n",
    "$$\n",
    "where $m$, the number of repetitions, changes between iterations of the algorithm.\n",
    "\n",
    "There is one subtlety that changes the way we work with the Grover operator. The classical algorithm expects an additional indicator qubit that marks the \"good\" states, i.e.:\n",
    "$$\n",
    "|a\\rangle|b\\rangle|f(a,b)\\rangle\n",
    "$$"
   ]
  },
  {
   "cell_type": "markdown",
   "id": "16c1a7bf-77d4-4e13-9b9b-249a78b750f1",
   "metadata": {},
   "source": [
    "So now, most of our logic goes into the state preparation oracle ($A$). It combines the loading of the solution space with setting the indicator qubit."
   ]
  },
  {
   "cell_type": "code",
   "execution_count": 10,
   "id": "1145cff0-8dc2-44ab-9f13-28d0d62292a7",
   "metadata": {
    "execution": {
     "iopub.execute_input": "2025-03-27T13:32:31.072775Z",
     "iopub.status.busy": "2025-03-27T13:32:31.072606Z",
     "iopub.status.idle": "2025-03-27T13:32:31.075406Z",
     "shell.execute_reply": "2025-03-27T13:32:31.075069Z"
    }
   },
   "outputs": [],
   "source": [
    "class IQAEVars(QStruct):\n",
    "    state: OracleVars\n",
    "    ind: QBit\n",
    "\n",
    "\n",
    "@qfunc\n",
    "def iqae_state_preparation(vars: IQAEVars):\n",
    "    hadamard_transform(vars.state)\n",
    "    arith_equation(vars.state.a, vars.state.b, vars.ind)"
   ]
  },
  {
   "cell_type": "markdown",
   "id": "d4afdfd8-507c-43e1-9440-ae94df4dbf22",
   "metadata": {},
   "source": [
    "Now, as we use the indicator qubit, the oracle is simple: it is just a $Z$ gate on the indicator qubit!"
   ]
  },
  {
   "cell_type": "code",
   "execution_count": 11,
   "id": "224c78d7-6710-4791-aabf-859a5964dcbc",
   "metadata": {
    "execution": {
     "iopub.execute_input": "2025-03-27T13:32:31.076724Z",
     "iopub.status.busy": "2025-03-27T13:32:31.076563Z",
     "iopub.status.idle": "2025-03-27T13:32:31.078615Z",
     "shell.execute_reply": "2025-03-27T13:32:31.078314Z"
    }
   },
   "outputs": [],
   "source": [
    "@qfunc\n",
    "def iqae_oracle(vars: IQAEVars):\n",
    "    Z(vars.ind)"
   ]
  },
  {
   "cell_type": "markdown",
   "id": "f60aaf52-f776-4290-9393-500d9fc0fe6b",
   "metadata": {
    "tags": []
   },
   "source": [
    "### Wrapping All to the Iterative Quantum Amplitude Estimation Algorithm"
   ]
  },
  {
   "cell_type": "markdown",
   "id": "25068d2f-b875-4678-9f18-3f112c2c7c69",
   "metadata": {},
   "source": [
    "The circuit starts with the state $A|0\\rangle$, then applies iterations of the Grover operator. \n",
    "\n",
    "Note that the algorithm applies a varied number of Grover iterations on each execution. The number of iterations is chosen dynamically based on previous execution results, using statistical inference methods."
   ]
  },
  {
   "cell_type": "code",
   "execution_count": 12,
   "id": "324aa3ba-a757-47d9-b365-3699fef9b8e2",
   "metadata": {
    "execution": {
     "iopub.execute_input": "2025-03-27T13:32:31.080433Z",
     "iopub.status.busy": "2025-03-27T13:32:31.080289Z",
     "iopub.status.idle": "2025-03-27T13:32:31.082637Z",
     "shell.execute_reply": "2025-03-27T13:32:31.082341Z"
    }
   },
   "outputs": [],
   "source": [
    "@qfunc\n",
    "def my_iqae_algorithm(\n",
    "    k: CInt,\n",
    "    oracle_operand: QCallable[QArray[QBit]],\n",
    "    sp_operand: QCallable[QArray[QBit]],\n",
    "    x: IQAEVars,\n",
    "):\n",
    "    sp_operand(x)\n",
    "    power(k, lambda: my_grover_operator(oracle_operand, sp_operand, x))"
   ]
  },
  {
   "cell_type": "markdown",
   "id": "a318dfd7-e84e-408f-8ceb-509ee78196b0",
   "metadata": {},
   "source": [
    "We use the built-in `iqae` classical execution code. It assumes only one output to the circuit, which is the indicator qubit.\n",
    "We set $\\epsilon = 1/{2^4} \\cdot 0.5 = 1/32$. `alpha` is the tail probability of estimating the result with accuracy $\\epsilon$."
   ]
  },
  {
   "cell_type": "code",
   "execution_count": 13,
   "id": "85f99785-3da4-4dbf-9535-e32698d81431",
   "metadata": {
    "execution": {
     "iopub.execute_input": "2025-03-27T13:32:31.084363Z",
     "iopub.status.busy": "2025-03-27T13:32:31.084227Z",
     "iopub.status.idle": "2025-03-27T13:32:31.090184Z",
     "shell.execute_reply": "2025-03-27T13:32:31.089523Z"
    }
   },
   "outputs": [],
   "source": [
    "DOMAIN_SIZE_QCONST = QConstant(\"DOMAIN_SIZE_QCONST\", int, DOMAIN_SIZE)\n",
    "\n",
    "\n",
    "@cfunc\n",
    "def cmain():\n",
    "    iqae_res = iqae(epsilon=1 / ((2**DOMAIN_SIZE_QCONST) * 2), alpha=0.01)\n",
    "    save({\"iqae_res\": iqae_res})\n",
    "\n",
    "\n",
    "@qfunc\n",
    "def main(\n",
    "    k: CInt,\n",
    "    ind_reg: Output[QBit],\n",
    ") -> None:\n",
    "    full_reg = IQAEVars(\"full_reg\")\n",
    "    allocate(full_reg.size, full_reg)\n",
    "    my_iqae_algorithm(\n",
    "        k,\n",
    "        iqae_oracle,\n",
    "        iqae_state_preparation,\n",
    "        full_reg,\n",
    "    )\n",
    "    state_reg = OracleVars(\"state_reg\")\n",
    "    bind(full_reg, [state_reg, ind_reg])"
   ]
  },
  {
   "cell_type": "markdown",
   "id": "2fe2254c-5fe2-48e3-b2cd-825d71dbcbf6",
   "metadata": {},
   "source": [
    "### Synthesizing the Model to a Quantum Program"
   ]
  },
  {
   "cell_type": "code",
   "execution_count": 14,
   "id": "b127fa25-1285-49f4-9fe3-43a57f984d2d",
   "metadata": {
    "execution": {
     "iopub.execute_input": "2025-03-27T13:32:31.092098Z",
     "iopub.status.busy": "2025-03-27T13:32:31.091882Z",
     "iopub.status.idle": "2025-03-27T13:32:40.360931Z",
     "shell.execute_reply": "2025-03-27T13:32:40.358693Z"
    }
   },
   "outputs": [
    {
     "name": "stdout",
     "output_type": "stream",
     "text": [
      "Opening: https://platform.classiq.io/circuit/2utyr5Use3IJXbmzv3G3WmQCqaD?login=True&version=0.73.0\n"
     ]
    },
    {
     "name": "stdout",
     "output_type": "stream",
     "text": [
      "https://platform.classiq.io/circuit/2utyr5Use3IJXbmzv3G3WmQCqaD?login=True&version=0.73.0\n"
     ]
    }
   ],
   "source": [
    "constraints = Constraints(optimization_parameter=\"width\")\n",
    "qmod_iqae = create_model(\n",
    "    main,\n",
    "    constraints=constraints,\n",
    "    classical_execution_function=cmain,\n",
    "    out_file=\"quantum_counting_iqae\",\n",
    ")\n",
    "qprog_iqae = synthesize(qmod_iqae)\n",
    "show(qprog_iqae)"
   ]
  },
  {
   "cell_type": "markdown",
   "id": "a468ad77-ace5-4ee5-a8fe-5cb5bfe4342f",
   "metadata": {},
   "source": [
    "### Executing the Quantum Program"
   ]
  },
  {
   "cell_type": "code",
   "execution_count": 15,
   "id": "c1110098-1af8-4c2a-9ca7-14b8d36e75f3",
   "metadata": {
    "execution": {
     "iopub.execute_input": "2025-03-27T13:32:40.366610Z",
     "iopub.status.busy": "2025-03-27T13:32:40.366407Z",
     "iopub.status.idle": "2025-03-27T13:32:44.623351Z",
     "shell.execute_reply": "2025-03-27T13:32:44.621894Z"
    }
   },
   "outputs": [
    {
     "name": "stdout",
     "output_type": "stream",
     "text": [
      "IQAE result: 0.375416306429367, confidence interval: [0.3721691794300863, 0.3786634334286477]\n"
     ]
    }
   ],
   "source": [
    "iqae_result = execute(qprog_iqae).result_value()\n",
    "print(\n",
    "    f\"IQAE result: {iqae_result.estimation}, confidence interval: {iqae_result.confidence_interval}\"\n",
    ")"
   ]
  },
  {
   "cell_type": "code",
   "execution_count": 16,
   "id": "1aa562ff-5fb9-45d7-ba20-ef15f59c72d8",
   "metadata": {
    "execution": {
     "iopub.execute_input": "2025-03-27T13:32:44.626942Z",
     "iopub.status.busy": "2025-03-27T13:32:44.626509Z",
     "iopub.status.idle": "2025-03-27T13:32:44.631616Z",
     "shell.execute_reply": "2025-03-27T13:32:44.630872Z"
    }
   },
   "outputs": [
    {
     "name": "stdout",
     "output_type": "stream",
     "text": [
      "Number of solutions: 6.006660902869872, accuracy: 0.10390806397698249\n"
     ]
    }
   ],
   "source": [
    "print(\n",
    "    f\"Number of solutions: {(2**DOMAIN_SIZE) * iqae_result.estimation}, accuracy: \"\n",
    "    f\"{(2**DOMAIN_SIZE)*(iqae_result.confidence_interval[1]-iqae_result.confidence_interval[0])}\"\n",
    ")"
   ]
  },
  {
   "cell_type": "code",
   "execution_count": 17,
   "id": "5b92fe20-80e6-45be-9602-9d1b42a6838b",
   "metadata": {
    "execution": {
     "iopub.execute_input": "2025-03-27T13:32:44.633308Z",
     "iopub.status.busy": "2025-03-27T13:32:44.633164Z",
     "iopub.status.idle": "2025-03-27T13:32:44.635677Z",
     "shell.execute_reply": "2025-03-27T13:32:44.635355Z"
    }
   },
   "outputs": [],
   "source": [
    "assert np.isclose(\n",
    "    iqae_result.estimation, solutions_ratio_qpe, 1 / ((2**DOMAIN_SIZE) * 0.5)\n",
    ")\n",
    "assert np.isclose(\n",
    "    iqae_result.estimation, 6 / (2**DOMAIN_SIZE), 1 / ((2**DOMAIN_SIZE) * 0.5)\n",
    ")"
   ]
  },
  {
   "cell_type": "markdown",
   "id": "20521d41-464a-4370-a3d9-2d8e26f14677",
   "metadata": {},
   "source": [
    "We can also see the statistics of the IQAE execution:"
   ]
  },
  {
   "cell_type": "code",
   "execution_count": 18,
   "id": "ed5757d5-0768-44cd-9301-02b5c464b144",
   "metadata": {
    "execution": {
     "iopub.execute_input": "2025-03-27T13:32:44.636915Z",
     "iopub.status.busy": "2025-03-27T13:32:44.636764Z",
     "iopub.status.idle": "2025-03-27T13:32:44.638912Z",
     "shell.execute_reply": "2025-03-27T13:32:44.638626Z"
    }
   },
   "outputs": [
    {
     "name": "stdout",
     "output_type": "stream",
     "text": [
      "iteration_id: 0, num grover iterations: 0, counts: {'0': 1250, '1': 798}\n",
      "iteration_id: 1, num grover iterations: 7, counts: {'0': 1629, '1': 419}\n"
     ]
    }
   ],
   "source": [
    "for i, iteration in enumerate(iqae_result.iterations_data):\n",
    "    print(\n",
    "        f\"iteration_id: {i}, num grover iterations: {iteration.grover_iterations}, counts: {iteration.sample_results.counts}\"\n",
    "    )"
   ]
  },
  {
   "cell_type": "markdown",
   "id": "66648b44-71d9-47d8-9756-3faea9474745",
   "metadata": {},
   "source": [
    "## References\n",
    "\n",
    "<a name='QCWiki'>[1]</a>: [Quantum Counting Algorithm, Wikipedia](https://en.wikipedia.org/wiki/Quantum_counting_algorithm).\n",
    "\n",
    "<a name='IQAE'>[2]</a>: [Grinko, D., Gacon, J., Zoufal, C. et al. Iterative quantum amplitude estimation. npj Quantum Inf 7, 52 (2021)](https://doi.org/10.1038/s41534-021-00379-1).\n",
    "\n",
    "<a name='AE'>[3]</a>: [Brassard, G., Hoyer, P., Mosca, M., & Tapp, A. (2002). Quantum Amplitude Amplification and Estimation. Contemporary Mathematics, 305, 53-74.](https://arxiv.org/abs/quant-ph/0005055)\n"
   ]
  }
 ],
 "metadata": {
  "kernelspec": {
   "display_name": "Python 3 (ipykernel)",
   "language": "python",
   "name": "python3"
  },
  "language_info": {
   "codemirror_mode": {
    "name": "ipython",
    "version": 3
   },
   "file_extension": ".py",
   "mimetype": "text/x-python",
   "name": "python",
   "nbconvert_exporter": "python",
   "pygments_lexer": "ipython3",
   "version": "3.11.7"
  }
 },
 "nbformat": 4,
 "nbformat_minor": 5
}
