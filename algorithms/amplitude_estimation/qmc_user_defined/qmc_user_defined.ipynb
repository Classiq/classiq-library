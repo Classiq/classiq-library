{
 "cells": [
  {
   "cell_type": "markdown",
   "id": "1cfff5f2",
   "metadata": {},
   "source": [
    "# Introducing composite functions with Quantum Monte Carlo Integration\n",
    "\n",
    "In this tutorial we introduce how to write custom quantum functions with Classiq, and subsequently use them for more complex functions/algorithms. This will be illustrated on a specific use-case of Quantum Monte Carlo Integration (QMCI). The example below demonstrates how we can exploit various concepts of modeling quantum algorithms with Classiq--- **inverse-logic**, **qreg slicing**, **qreg concatenation**, and **skip-control** --- when building our own  functions."
   ]
  },
  {
   "cell_type": "markdown",
   "id": "b89fba27",
   "metadata": {},
   "source": [
    "## QMCI\n",
    "\n",
    "We start with a brief introduction to the quantum algorithm treated in this tutorial.\n",
    "\n",
    "Monte Carlo integration refers to estimating expectation values of a function $f(x)$, where $x$ is a random variable drawn from some known distribution $p$:\n",
    "\n",
    "\\begin{equation}\n",
    "\\tag{1}\n",
    "E_{p}(x) = \\int f(x)p(x) dx.\n",
    "\\end{equation}\n",
    "Such evaluations appear in the context of option-pricing or credit risk-analysis.\n",
    "\n",
    "The basic idea of QMCI assumes that we have a quantum function $A$, which, for a given $f$ and $p$, loads the following state of $n+1$ qubits:\n",
    "\\begin{align}\n",
    "\\tag{2}\n",
    "A|0\\rangle_n|0\\rangle = \\sum^{2^n-1}_{i=0} \\sqrt{f_i} \\sqrt{p_i}|i\\rangle_n|1\\rangle + \\sum^{2^n-1}_{i=0} \\sqrt{1-f_i} \\sqrt{p_i}|i\\rangle_n|0\\rangle = \\sqrt{a}|\\psi_1\\rangle+\\sqrt{1-a^2}|\\psi_0\\rangle,\n",
    "\\end{align}\n",
    "where it is understood that the first $2^n$ states represent a discretized space of $x$, and that $0\\leq f(x)\\leq 1$.\n",
    "Then, by applying Amplitude Estimation (AE) algorithm for the \"good-state\" $|\\psi_1 \\rangle$, we can estimate its amplitude\n",
    "$$\n",
    "a = \\sum^{2^n-1}_{i=0} f_i p_i.\n",
    "$$\n",
    "\n",
    "The QMCI algorithm can be separated into two parts:\n",
    "1) Constructing a Grover operator for the specific problem--- this will be done here almost from scratch, using user-defined functions in Classiq.\n",
    "2) Applying AE algorithm based on the Grover operator [[1](#AE)]--- this will be done by calling Classiq's Quantum Phase Estimation (QPE) function.\n",
    "\n",
    "### Specific use-case for the tutorial\n",
    "\n",
    "For simplicity we will consider a simple use-case. We take a probability distribution on the integers\n",
    "$$\n",
    "\\tag{3}\n",
    "p_i = \\frac{i}{\\mathcal{N}} \\text{ for } i\\in \\{0,\\dots 2^3-1\\},\n",
    "$$\n",
    "where $\\mathcal{N}$ is a normalization constant, and we would like to evaluate the expectation value of the function\n",
    "$$\n",
    "\\tag{4}\n",
    "f(x) = \\sin^2(0.25x+0.2).\n",
    "$$\n",
    "Therefore, the value we want to evaluate is:\n",
    "$$\n",
    "a= \\frac{1}{\\mathcal{N}} \\sum^7_{k=0} \\sin^2(0.25k+0.2) k \\approx 0.834.\n",
    "$$"
   ]
  },
  {
   "cell_type": "markdown",
   "id": "4d588b3d",
   "metadata": {},
   "source": [
    "## 1. Building the corresponding Grover Operator with Composite Functions\n",
    "\n",
    "### Composite Functions\n",
    "\n",
    "Composite functions are user-defined functions built with other quantum functions. Composite functions are defined very similar to a Model, containing a logic flow, inputs, and outputs. The typical workflow is:\n",
    "1. Defining a `CompositeFunctionGenerator` object.\n",
    "2. Setting inputs.\n",
    "3. Defining logic flow.\n",
    "4. Defining outputs.\n",
    "5. Adding the function to the function library, so it can be used within a model, or another Composite function."
   ]
  },
  {
   "cell_type": "markdown",
   "id": "456490f4",
   "metadata": {},
   "source": [
    "We can start with importing the relevant objects, and defining a function library `qmci_library`"
   ]
  },
  {
   "cell_type": "code",
   "execution_count": 1,
   "id": "9f6fb018",
   "metadata": {
    "execution": {
     "iopub.execute_input": "2023-12-06T02:08:25.819593Z",
     "iopub.status.busy": "2023-12-06T02:08:25.819123Z",
     "iopub.status.idle": "2023-12-06T02:08:28.852802Z",
     "shell.execute_reply": "2023-12-06T02:08:28.852108Z"
    },
    "tags": []
   },
   "outputs": [],
   "source": [
    "from classiq import FunctionGenerator, FunctionLibrary\n",
    "\n",
    "qmci_library = FunctionLibrary()"
   ]
  },
  {
   "cell_type": "markdown",
   "id": "262bd1b8",
   "metadata": {},
   "source": [
    "### Grover operator for QMCI\n",
    "\n",
    "The Grover operator suitable for QMCI is defined as follows:\n",
    "$$\n",
    "Q\\equiv - S_{\\psi_1} A^{\\dagger} S_0 A,\n",
    "$$\n",
    "with $S_0$ and $S_{\\psi_1}$ being reflection operators around the zero state $|0\\rangle_n|0\\rangle$ and the good-state $|\\psi_1\\rangle$, respectively, and the function $A$ is defined in Eq. ([2](#mjx-eqn-2)).\n",
    "\n",
    "In subsections (1.1)-(1.3) below we build each of the quantum sub-functions, and then in subsection (1.4) we wire them to define a complete Grover operator. On the way we introduce several concepts of functional modeling, such as inverse, or skip-control, which allow Classiq's Synthesis Engine to reach better optimized circuits. Some specific concepts are indicated at the header of each subsection."
   ]
  },
  {
   "cell_type": "markdown",
   "id": "a2744f7e",
   "metadata": {},
   "source": [
    "#### 1.1) The state loading $A$ function\n",
    "\n",
    "We start with constructing the $A$ operator in Eq. ([2](#mjx-eqn-2)). We define a composite function and give it the name `state_loading`"
   ]
  },
  {
   "cell_type": "code",
   "execution_count": 2,
   "id": "46854d24",
   "metadata": {
    "execution": {
     "iopub.execute_input": "2023-12-06T02:08:28.858918Z",
     "iopub.status.busy": "2023-12-06T02:08:28.857299Z",
     "iopub.status.idle": "2023-12-06T02:08:28.862575Z",
     "shell.execute_reply": "2023-12-06T02:08:28.862000Z"
    },
    "tags": []
   },
   "outputs": [],
   "source": [
    "function_generator = FunctionGenerator(function_name=\"state_loading\")"
   ]
  },
  {
   "cell_type": "markdown",
   "id": "cf02b137",
   "metadata": {},
   "source": [
    "The function's inputs and outputs is comprised of two registers: a quantum register `io` of size $n=3$ for the discretization of space, and an `ind` register of size 1 to indicate the good state. First, we define the input:"
   ]
  },
  {
   "cell_type": "code",
   "execution_count": 3,
   "id": "71a440c4",
   "metadata": {
    "execution": {
     "iopub.execute_input": "2023-12-06T02:08:28.867012Z",
     "iopub.status.busy": "2023-12-06T02:08:28.865858Z",
     "iopub.status.idle": "2023-12-06T02:08:28.872009Z",
     "shell.execute_reply": "2023-12-06T02:08:28.871440Z"
    },
    "tags": []
   },
   "outputs": [],
   "source": [
    "from classiq import QUInt\n",
    "\n",
    "sp_num_qubits = 3\n",
    "input_dict = function_generator.create_inputs(\n",
    "    {\"io\": QUInt[sp_num_qubits], \"ind\": QUInt[1]}\n",
    ")"
   ]
  },
  {
   "cell_type": "markdown",
   "id": "9880cf18",
   "metadata": {},
   "source": [
    "Next, we model the logic flow of our function. As can be seen from Eq. ([2](#mjx-eqn-2)), the state loading can be constructed with Classiq's StatePreparation [[SP](#SP)] on $n=3$ qubits with probabilities $p_i$ followed by Classiq's LinearPauliRotation [[LPR](#LPR)]. Let us import these built-in functions, and define their parameters according to our specific problem described by Eqs. ([3](#mjx-eqn-3)-[4](#mjx-eqn-4))"
   ]
  },
  {
   "cell_type": "code",
   "execution_count": 4,
   "id": "0eab455d",
   "metadata": {
    "execution": {
     "iopub.execute_input": "2023-12-06T02:08:28.876362Z",
     "iopub.status.busy": "2023-12-06T02:08:28.875226Z",
     "iopub.status.idle": "2023-12-06T02:08:28.881703Z",
     "shell.execute_reply": "2023-12-06T02:08:28.881147Z"
    },
    "tags": []
   },
   "outputs": [],
   "source": [
    "import numpy as np\n",
    "\n",
    "from classiq.builtin_functions import LinearPauliRotations, StatePreparation\n",
    "\n",
    "probabilities = np.linspace(0, 1, 2**sp_num_qubits) / sum(\n",
    "    np.linspace(0, 1, 2**sp_num_qubits)\n",
    ")\n",
    "sp_params = StatePreparation(\n",
    "    probabilities=probabilities, error_metric={\"KL\": {\"upper_bound\": 0.00}}\n",
    ")\n",
    "\n",
    "linear_pauli_rotations_params = LinearPauliRotations(\n",
    "    num_state_qubits=sp_num_qubits, bases=\"Y\", offsets=0.4, slopes=0.5\n",
    ")"
   ]
  },
  {
   "cell_type": "markdown",
   "id": "0f1c22ab",
   "metadata": {},
   "source": [
    "Now, we can wire the inner function calls and set the outputs. For the StatePreparation block we toggle the `strict_zero_ios` flag; a full explanation of this parameter is given at the end of this subsection."
   ]
  },
  {
   "cell_type": "code",
   "execution_count": 5,
   "id": "c370fa2b",
   "metadata": {
    "execution": {
     "iopub.execute_input": "2023-12-06T02:08:28.885999Z",
     "iopub.status.busy": "2023-12-06T02:08:28.884849Z",
     "iopub.status.idle": "2023-12-06T02:08:28.893661Z",
     "shell.execute_reply": "2023-12-06T02:08:28.893107Z"
    },
    "tags": []
   },
   "outputs": [],
   "source": [
    "sp_output = function_generator.StatePreparation(\n",
    "    params=sp_params, strict_zero_ios=False, in_wires=input_dict[\"io\"]\n",
    ")\n",
    "\n",
    "lpr_out = function_generator.LinearPauliRotations(\n",
    "    params=linear_pauli_rotations_params,\n",
    "    in_wires={\"state\": sp_output[\"OUT\"], \"target\": input_dict[\"ind\"]},\n",
    ")\n",
    "\n",
    "function_generator.set_outputs({\"io\": lpr_out[\"state\"], \"ind\": lpr_out[\"target\"]})"
   ]
  },
  {
   "cell_type": "markdown",
   "id": "32ca1ec6",
   "metadata": {},
   "source": [
    "Finally, we add the `state_loading` function to our library"
   ]
  },
  {
   "cell_type": "code",
   "execution_count": 6,
   "id": "0557eba6",
   "metadata": {
    "execution": {
     "iopub.execute_input": "2023-12-06T02:08:28.898120Z",
     "iopub.status.busy": "2023-12-06T02:08:28.896942Z",
     "iopub.status.idle": "2023-12-06T02:08:28.902128Z",
     "shell.execute_reply": "2023-12-06T02:08:28.901576Z"
    },
    "tags": []
   },
   "outputs": [],
   "source": [
    "qmci_library.add_function(function_generator.to_function_definition())"
   ]
  },
  {
   "cell_type": "markdown",
   "id": "2311364b",
   "metadata": {},
   "source": [
    "##### The `strict_zero_ios` flag:\n",
    "Some of our built-in functions assume a zero input, and thus by default cannot be called with `in_wires`. One example is the StatePreparation function, which prepares a state of with given probabilities, *under the assumption that we start at a zero state*. To allow in-wiring for such function we toggle the `strict_zero_ios` flag. This also means that the function has an out-wiring when we call its inverse."
   ]
  },
  {
   "cell_type": "markdown",
   "id": "2c22846e",
   "metadata": {},
   "source": [
    "We can examine the function we built by defining a Model which calls it."
   ]
  },
  {
   "cell_type": "code",
   "execution_count": 7,
   "id": "cbfde910",
   "metadata": {
    "execution": {
     "iopub.execute_input": "2023-12-06T02:08:28.906464Z",
     "iopub.status.busy": "2023-12-06T02:08:28.905311Z",
     "iopub.status.idle": "2023-12-06T02:08:31.938537Z",
     "shell.execute_reply": "2023-12-06T02:08:31.937812Z"
    },
    "tags": []
   },
   "outputs": [
    {
     "name": "stdout",
     "output_type": "stream",
     "text": [
      "Opening: https://platform.classiq.io/circuit/f68240ac-5c27-4365-953c-262ff27f88b7?version=0.34.0.dev0%2B124706fb0e\n"
     ]
    }
   ],
   "source": [
    "from classiq import Model, show, synthesize\n",
    "\n",
    "model = Model()\n",
    "model.include_library(qmci_library)\n",
    "model.state_loading()\n",
    "\n",
    "qprog = synthesize(model.get_model())\n",
    "show(qprog)"
   ]
  },
  {
   "cell_type": "markdown",
   "id": "5ef6b475",
   "metadata": {},
   "source": [
    "#### 1.2) $S_{\\psi_1}$ function\n",
    "\n",
    "The next quantum function we build is the one which reflects around the good state: any $n+1$ state in which the `ind` register is at state $|1\\rangle$. This function can be simply constructed with a ZGate on the `ind` register. Note that we shall still define $n+1$ (`io` and `ind`) inputs and outputs registers for the function. Let us define the function, giving it a name `good_state_oracle`, in one code block:"
   ]
  },
  {
   "cell_type": "code",
   "execution_count": 8,
   "id": "c965cf0b",
   "metadata": {
    "execution": {
     "iopub.execute_input": "2023-12-06T02:08:31.941768Z",
     "iopub.status.busy": "2023-12-06T02:08:31.941318Z",
     "iopub.status.idle": "2023-12-06T02:08:31.952341Z",
     "shell.execute_reply": "2023-12-06T02:08:31.951742Z"
    },
    "tags": []
   },
   "outputs": [],
   "source": [
    "from classiq.builtin_functions import ZGate\n",
    "\n",
    "function_generator = FunctionGenerator(function_name=\"good_state_oracle\")\n",
    "\n",
    "input_dict = function_generator.create_inputs(\n",
    "    {\"io\": QUInt[sp_num_qubits], \"ind\": QUInt[1]}\n",
    ")\n",
    "\n",
    "z_out = function_generator.ZGate(\n",
    "    params=ZGate(),\n",
    "    in_wires={\"TARGET\": input_dict[\"ind\"]},\n",
    ")\n",
    "\n",
    "function_generator.set_outputs({\"ind\": z_out[\"TARGET\"], \"io\": input_dict[\"io\"]})"
   ]
  },
  {
   "cell_type": "markdown",
   "id": "843c7c24",
   "metadata": {},
   "source": [
    "We end with adding the function into our library"
   ]
  },
  {
   "cell_type": "code",
   "execution_count": 9,
   "id": "fa92e452",
   "metadata": {
    "execution": {
     "iopub.execute_input": "2023-12-06T02:08:31.955481Z",
     "iopub.status.busy": "2023-12-06T02:08:31.954839Z",
     "iopub.status.idle": "2023-12-06T02:08:31.964020Z",
     "shell.execute_reply": "2023-12-06T02:08:31.963469Z"
    },
    "tags": []
   },
   "outputs": [],
   "source": [
    "qmci_library.add_function(function_generator.to_function_definition())"
   ]
  },
  {
   "cell_type": "markdown",
   "id": "05b46899",
   "metadata": {},
   "source": [
    "#### 1.3) $S_{0}$ function (and introducing qreg slicing/concatenation and `should_control` flag)\n",
    "\n",
    "The $S_{0}$ function resembles the $S_{\\psi_1}$ operation, inverting an $n+1$-sized Hilbert space around the zero state $|0\\rangle_{n+1}$. Note that this function is a generic one, independent of the specific problem and partitioning to `io` and `ind` registers. We thus define a generic `zero_oracle` function, having $n+1$-sized input and output registers, which we designate with the name `mcz_io`."
   ]
  },
  {
   "cell_type": "code",
   "execution_count": 10,
   "id": "4fa963eb",
   "metadata": {
    "execution": {
     "iopub.execute_input": "2023-12-06T02:08:31.968264Z",
     "iopub.status.busy": "2023-12-06T02:08:31.966999Z",
     "iopub.status.idle": "2023-12-06T02:08:31.975184Z",
     "shell.execute_reply": "2023-12-06T02:08:31.974567Z"
    },
    "tags": []
   },
   "outputs": [],
   "source": [
    "function_generator = FunctionGenerator(function_name=\"zero_oracle\")\n",
    "\n",
    "reg_size = sp_num_qubits + 1\n",
    "input_dict = function_generator.create_inputs({\"mcz_io\": QUInt[reg_size]})"
   ]
  },
  {
   "cell_type": "markdown",
   "id": "d49b54bb",
   "metadata": {},
   "source": [
    "Consider a general state of $n+1$ qubits, $|\\psi\\rangle=|q_0q_1,\\dots q_n\\rangle$. We choose an arbitrary qubit, say the first one. We would like to apply a (-Z)Gate on it, controlled by all the rest of the $n$ qubits being at state zero (e.g., open control).  One can verify that:\n",
    "\\begin{eqnarray}\n",
    "|00\\dots0\\rangle \\xrightarrow[{\\rm ctrl(-Z)(target=q_0, ctrl=q_1\\dots q_n)}]{} -|00\\dots0\\rangle, \\\\\n",
    "|10\\dots0\\rangle \\xrightarrow[{\\rm ctrl(-Z)(target=q_0, ctrl=q_1\\dots q_n)}]{} |10\\dots0\\rangle, \\\\\n",
    "|11\\dots0\\rangle \\xrightarrow[{\\rm ctrl(-Z)(target=q_0, ctrl=q_1\\dots q_n)}]{} |11\\dots0\\rangle,\\\\\n",
    "|11\\dots1\\rangle \\xrightarrow[{\\rm ctrl(-Z)(target=q_0, ctrl=q_1\\dots q_n)}]{} |11\\dots1\\rangle,\n",
    "\\end{eqnarray}\n",
    "which is exactly the functionality we want.\n",
    "\n",
    "The way we construct the above logic is by calling the relevant MCZ gate, sandwiching the selected target qubit with an XGate (this is equivalent to an MC(-Z) gate). For applying an XGate on $q_0$ we employ register slicing:"
   ]
  },
  {
   "cell_type": "code",
   "execution_count": 11,
   "id": "379062e6",
   "metadata": {
    "execution": {
     "iopub.execute_input": "2023-12-06T02:08:31.979797Z",
     "iopub.status.busy": "2023-12-06T02:08:31.978623Z",
     "iopub.status.idle": "2023-12-06T02:08:31.986788Z",
     "shell.execute_reply": "2023-12-06T02:08:31.986096Z"
    },
    "tags": []
   },
   "outputs": [],
   "source": [
    "from classiq.builtin_functions import XGate\n",
    "\n",
    "x_out = function_generator.XGate(\n",
    "    params=XGate(),\n",
    "    in_wires={\"TARGET\": input_dict[\"mcz_io\"][0]},\n",
    "    should_control=False,\n",
    ")"
   ]
  },
  {
   "cell_type": "markdown",
   "id": "0b72030a",
   "metadata": {},
   "source": [
    "The `should_control` flag will be explained at the end of this subsection."
   ]
  },
  {
   "cell_type": "markdown",
   "id": "9a921d5d",
   "metadata": {},
   "source": [
    "Next, we define the properties of the controlled operation, controlling over the state of $n$ qubits at state zero."
   ]
  },
  {
   "cell_type": "code",
   "execution_count": 12,
   "id": "64f83fcd",
   "metadata": {
    "execution": {
     "iopub.execute_input": "2023-12-06T02:08:31.991357Z",
     "iopub.status.busy": "2023-12-06T02:08:31.990213Z",
     "iopub.status.idle": "2023-12-06T02:08:31.999171Z",
     "shell.execute_reply": "2023-12-06T02:08:31.998565Z"
    },
    "tags": []
   },
   "outputs": [],
   "source": [
    "from classiq import ControlState\n",
    "\n",
    "control_states = ControlState(ctrl_state=\"0\" * (reg_size - 1), name=\"ctrl_reg\")"
   ]
  },
  {
   "cell_type": "markdown",
   "id": "c00576b4",
   "metadata": {},
   "source": [
    "where we also provide a name for the controlled register, `ctrl_reg`. Now we call the Controlled-ZGate"
   ]
  },
  {
   "cell_type": "code",
   "execution_count": 13,
   "id": "2ec92a05",
   "metadata": {
    "execution": {
     "iopub.execute_input": "2023-12-06T02:08:32.003509Z",
     "iopub.status.busy": "2023-12-06T02:08:32.002346Z",
     "iopub.status.idle": "2023-12-06T02:08:32.011163Z",
     "shell.execute_reply": "2023-12-06T02:08:32.010562Z"
    },
    "tags": []
   },
   "outputs": [],
   "source": [
    "mcz_out = function_generator.ZGate(\n",
    "    params=ZGate(),\n",
    "    control_states=control_states,\n",
    "    in_wires={\"TARGET\": x_out[\"TARGET\"], \"ctrl_reg\": input_dict[\"mcz_io\"][1:reg_size]},\n",
    ")"
   ]
  },
  {
   "cell_type": "markdown",
   "id": "beae4095",
   "metadata": {},
   "source": [
    "Finally, we apply the XGate on the target qubit, define the output, and add the function to the library. For the output we need to concatenate the out-wires of the MCZ gate and the XGate."
   ]
  },
  {
   "cell_type": "code",
   "execution_count": 14,
   "id": "b84cd82d",
   "metadata": {
    "execution": {
     "iopub.execute_input": "2023-12-06T02:08:32.015517Z",
     "iopub.status.busy": "2023-12-06T02:08:32.014361Z",
     "iopub.status.idle": "2023-12-06T02:08:32.032142Z",
     "shell.execute_reply": "2023-12-06T02:08:32.031383Z"
    },
    "tags": []
   },
   "outputs": [],
   "source": [
    "from classiq import QReg\n",
    "\n",
    "x_out = function_generator.XGate(\n",
    "    params=XGate(), in_wires={\"TARGET\": mcz_out[\"TARGET\"]}, should_control=False\n",
    ")\n",
    "\n",
    "function_generator.set_outputs(\n",
    "    {\"mcz_io\": QReg.concat(x_out[\"TARGET\"], mcz_out[\"ctrl_reg\"])}\n",
    ")\n",
    "\n",
    "qmci_library.add_function(function_generator.to_function_definition())"
   ]
  },
  {
   "cell_type": "markdown",
   "id": "a3a7e998",
   "metadata": {},
   "source": [
    "#### `should_control` parameter\n",
    "\n",
    "If we have a quantum function of the form $UVU^{\\dagger}$, then when controlling over it we can avoid controlling over the first and last operations: $ctrl(UVU^{\\dagger})$ is equivalent to $Uctrl(V)U^{\\dagger}$. By passing `should_control=False`, the engine knows to skip controlling over this function. Note that in Section (2), when we apply AE on our Grover operator, we indeed call a control operation on $S_0$. Therefore, the `should_control` flag is essential for recieving an optimal quantum circuit for our use-case."
   ]
  },
  {
   "cell_type": "markdown",
   "id": "6eb92b44",
   "metadata": {},
   "source": [
    "#### 1.4) $Q$ function (and introducing `inverse`  logic)\n",
    "\n",
    "We can now define a complete Grover operator $Q\\equiv -S_{\\psi_1} A^{\\dagger} S_0 A$. We will do this in a single code block. We emphasize several points:\n",
    "1. The operation of $A^{\\dagger}$ is done by calling $A$ and raising the flag `is_inverse=True`.\n",
    "2. We pass `should_control=False` for $A$ and $A^{\\dagger}$.\n",
    "3. When wiring from $ A^{\\dagger}$ to  $S_0$ we use concatenation of the $n$-sized (`io`) and single-sized (`ind`) registers into the $(n+1)$-sized `mcz_io` register.\n",
    "4. When wiring from $S_0$ to $A$ we use the corresponding opposite call of register slicing, from `mcz_io` to `io` and `ind`.\n",
    "5. We add a global phase of -1 to the full operator, by using the built-in `UGate`."
   ]
  },
  {
   "cell_type": "code",
   "execution_count": 15,
   "id": "e0d94502",
   "metadata": {
    "execution": {
     "iopub.execute_input": "2023-12-06T02:08:32.035119Z",
     "iopub.status.busy": "2023-12-06T02:08:32.034894Z",
     "iopub.status.idle": "2023-12-06T02:08:32.055105Z",
     "shell.execute_reply": "2023-12-06T02:08:32.054326Z"
    },
    "tags": []
   },
   "outputs": [],
   "source": [
    "from classiq.builtin_functions import UGate\n",
    "\n",
    "## composite for Grover Diffuser\n",
    "\n",
    "function_generator = FunctionGenerator(function_name=\"grover\")\n",
    "function_generator.include_library(qmci_library)\n",
    "\n",
    "\n",
    "in_wires = function_generator.create_inputs(\n",
    "    {\"io\": QUInt[sp_num_qubits], \"ind\": QUInt[1]}\n",
    ")\n",
    "\n",
    "oracle_out = function_generator.good_state_oracle(in_wires=in_wires)\n",
    "\n",
    "sps_inverse_out = function_generator.state_loading(\n",
    "    in_wires={\"io\": oracle_out[\"io\"], \"ind\": oracle_out[\"ind\"]},\n",
    "    is_inverse=True,\n",
    "    should_control=False,\n",
    ")\n",
    "\n",
    "zero_oracle_out = function_generator.zero_oracle(\n",
    "    in_wires={\"mcz_io\": QReg.concat(sps_inverse_out[\"io\"], sps_inverse_out[\"ind\"])}\n",
    ")\n",
    "\n",
    "\n",
    "sps_out = function_generator.state_loading(\n",
    "    in_wires={\n",
    "        \"io\": zero_oracle_out[\"mcz_io\"][0:sp_num_qubits],\n",
    "        \"ind\": zero_oracle_out[\"mcz_io\"][sp_num_qubits],\n",
    "    },\n",
    "    should_control=False,\n",
    ")\n",
    "\n",
    "\n",
    "global_phase_out = function_generator.UGate(\n",
    "    UGate(theta=0, phi=0, lam=0, gam=np.pi), in_wires={\"TARGET\": sps_out[\"ind\"]}\n",
    ")\n",
    "\n",
    "\n",
    "function_generator.set_outputs({\"io\": sps_out[\"io\"], \"ind\": global_phase_out[\"TARGET\"]})\n",
    "\n",
    "\n",
    "qmci_library.add_function(function_generator.to_function_definition())"
   ]
  },
  {
   "cell_type": "markdown",
   "id": "057729c5",
   "metadata": {},
   "source": [
    "##### Let us look at the `grover` function we created"
   ]
  },
  {
   "cell_type": "code",
   "execution_count": 16,
   "id": "a8cc707b",
   "metadata": {
    "execution": {
     "iopub.execute_input": "2023-12-06T02:08:32.058189Z",
     "iopub.status.busy": "2023-12-06T02:08:32.057937Z",
     "iopub.status.idle": "2023-12-06T02:08:34.676960Z",
     "shell.execute_reply": "2023-12-06T02:08:34.676051Z"
    },
    "tags": []
   },
   "outputs": [
    {
     "name": "stdout",
     "output_type": "stream",
     "text": [
      "Opening: https://platform.classiq.io/circuit/a153d910-b5ae-4492-a167-72c9923d8835?version=0.34.0.dev0%2B124706fb0e\n"
     ]
    }
   ],
   "source": [
    "from classiq import Model, show, synthesize\n",
    "\n",
    "model = Model()\n",
    "model.include_library(qmci_library)\n",
    "model.grover()\n",
    "\n",
    "qprog = synthesize(model.get_model())\n",
    "show(qprog)"
   ]
  },
  {
   "cell_type": "markdown",
   "id": "901a28c2",
   "metadata": {},
   "source": [
    "## 2. Applying Amplitude Estimation (AE) with Quantum Phase Estimation (QPE)\n",
    "\n",
    "Below we apply a basic AE algorithm which is based on QPE. The idea behind this Algorithm is the following:\n",
    "\n",
    "The state $A|0\\rangle_n|0\\rangle$ is spanned by two eigenvectors of our Grover operator $Q$, with the two corresponding eigenvalues\n",
    "\\begin{equation}\n",
    "\\tag{5}\n",
    "\\lambda_{\\pm}=\\exp\\left(\\pm i2\\pi \\theta \\right), \\qquad \\sin^2 \\left(\\pi \\theta\\right)\\equiv a.\n",
    "\\end{equation}\n",
    "Therefore, if we apply a QPE on $A|0\\rangle_n|0\\rangle$ we will have these two eigenvalues encoded in the QPE register, however, both give the value of $a$, so there is no ambiguity here."
   ]
  },
  {
   "cell_type": "markdown",
   "id": "8b871051",
   "metadata": {},
   "source": [
    "To find $a$ we are going to build a simple quantum model: we apply $A$ on a quantum register of size $n+1$ initialized to zero, and then apply Classiq's QPE [[QPE](#QPE)] with our user-defined Grover operator."
   ]
  },
  {
   "cell_type": "markdown",
   "id": "034bed35",
   "metadata": {},
   "source": [
    "Below, we build our model, define its output, and synthesize it. In particular, we define the output `phase_result` which holds the phase register of the QPE. We choose a QPE with phase register of size 3, governing the accuracy of our Phase-, and thus Amplitude-, Estimation. The way to pass our user defined function to the QPE is through the `unitary` and `unitary_params` parameters as follows:"
   ]
  },
  {
   "cell_type": "code",
   "execution_count": 17,
   "id": "320e93b8",
   "metadata": {
    "execution": {
     "iopub.execute_input": "2023-12-06T02:08:34.687097Z",
     "iopub.status.busy": "2023-12-06T02:08:34.686676Z",
     "iopub.status.idle": "2023-12-06T02:08:34.699023Z",
     "shell.execute_reply": "2023-12-06T02:08:34.698233Z"
    },
    "tags": []
   },
   "outputs": [],
   "source": [
    "from classiq import Model\n",
    "from classiq.builtin_functions import PhaseEstimation\n",
    "from classiq.model import Constraints\n",
    "\n",
    "n_qpe = 3\n",
    "model = Model(constraints=Constraints(max_width=9))\n",
    "model.include_library(qmci_library)\n",
    "sp_output = model.state_loading()\n",
    "\n",
    "qpe_out = model.PhaseEstimation(\n",
    "    params=PhaseEstimation(\n",
    "        size=n_qpe, unitary_params=qmci_library.get_function(\"grover\"), unitary=\"grover\"\n",
    "    ),\n",
    "    in_wires={\"io\": sp_output[\"io\"], \"ind\": sp_output[\"ind\"]},\n",
    ")\n",
    "\n",
    "model.set_outputs({\"phase_result\": qpe_out[\"PHASE_ESTIMATION\"]})"
   ]
  },
  {
   "cell_type": "code",
   "execution_count": 18,
   "id": "92c03504-9548-4f96-991f-6a9c991b6d10",
   "metadata": {
    "execution": {
     "iopub.execute_input": "2023-12-06T02:08:34.702158Z",
     "iopub.status.busy": "2023-12-06T02:08:34.701761Z",
     "iopub.status.idle": "2023-12-06T02:08:34.720157Z",
     "shell.execute_reply": "2023-12-06T02:08:34.719428Z"
    },
    "tags": []
   },
   "outputs": [],
   "source": [
    "from classiq import show, synthesize\n",
    "\n",
    "model.sample()\n",
    "qmod = model.get_model()"
   ]
  },
  {
   "cell_type": "code",
   "execution_count": 19,
   "id": "c49a283e-375a-442f-88bf-2ede31f5e829",
   "metadata": {
    "execution": {
     "iopub.execute_input": "2023-12-06T02:08:34.722999Z",
     "iopub.status.busy": "2023-12-06T02:08:34.722769Z",
     "iopub.status.idle": "2023-12-06T02:08:34.727178Z",
     "shell.execute_reply": "2023-12-06T02:08:34.726336Z"
    }
   },
   "outputs": [],
   "source": [
    "with open(\"qmc_user_defined.qmod\", \"w\") as f:\n",
    "    f.write(qmod)"
   ]
  },
  {
   "cell_type": "code",
   "execution_count": 20,
   "id": "415e2eaf-271b-436e-881e-68f9845c3214",
   "metadata": {
    "execution": {
     "iopub.execute_input": "2023-12-06T02:08:34.730101Z",
     "iopub.status.busy": "2023-12-06T02:08:34.729880Z",
     "iopub.status.idle": "2023-12-06T02:08:54.331255Z",
     "shell.execute_reply": "2023-12-06T02:08:54.330563Z"
    },
    "tags": []
   },
   "outputs": [
    {
     "name": "stdout",
     "output_type": "stream",
     "text": [
      "Opening: https://platform.classiq.io/circuit/4144303e-6eda-4c69-ae65-3136f70d11bc?version=0.34.0.dev0%2B124706fb0e\n"
     ]
    }
   ],
   "source": [
    "qprog = synthesize(qmod)\n",
    "show(qprog)"
   ]
  },
  {
   "cell_type": "markdown",
   "id": "60a781f5",
   "metadata": {},
   "source": [
    "### Finally, we execute the circuit and measure the approximated amplitude\n",
    "\n",
    "We start with a simple execution on a simulator"
   ]
  },
  {
   "cell_type": "code",
   "execution_count": 21,
   "id": "dc5a4169",
   "metadata": {
    "execution": {
     "iopub.execute_input": "2023-12-06T02:08:54.335106Z",
     "iopub.status.busy": "2023-12-06T02:08:54.334552Z",
     "iopub.status.idle": "2023-12-06T02:08:59.249985Z",
     "shell.execute_reply": "2023-12-06T02:08:59.249248Z"
    },
    "tags": []
   },
   "outputs": [],
   "source": [
    "import matplotlib.pyplot as plt\n",
    "\n",
    "from classiq import execute\n",
    "\n",
    "results = execute(qprog).result()"
   ]
  },
  {
   "cell_type": "code",
   "execution_count": 22,
   "id": "1c64850b-cd5b-44fa-8ff0-24aa77cbe59e",
   "metadata": {
    "execution": {
     "iopub.execute_input": "2023-12-06T02:08:59.253800Z",
     "iopub.status.busy": "2023-12-06T02:08:59.253323Z",
     "iopub.status.idle": "2023-12-06T02:08:59.256756Z",
     "shell.execute_reply": "2023-12-06T02:08:59.256168Z"
    },
    "tags": []
   },
   "outputs": [],
   "source": [
    "from classiq.execution import ExecutionDetails\n",
    "\n",
    "res = results[0].value"
   ]
  },
  {
   "cell_type": "markdown",
   "id": "2bf3970d",
   "metadata": {},
   "source": [
    "The counts for the phases stored in the `phase_result` are given in `res.parsed_counts`"
   ]
  },
  {
   "cell_type": "code",
   "execution_count": 23,
   "id": "1b5d3f1c",
   "metadata": {
    "execution": {
     "iopub.execute_input": "2023-12-06T02:08:59.259849Z",
     "iopub.status.busy": "2023-12-06T02:08:59.259396Z",
     "iopub.status.idle": "2023-12-06T02:08:59.262887Z",
     "shell.execute_reply": "2023-12-06T02:08:59.262242Z"
    },
    "tags": []
   },
   "outputs": [],
   "source": [
    "phases_counts = res.parsed_counts"
   ]
  },
  {
   "cell_type": "markdown",
   "id": "000fb53d",
   "metadata": {},
   "source": [
    "We identify $|\\lambda_0,\\lambda_1\\dots \\lambda_{m-1}\\rangle_m=\\frac{1}{2^m}\\sum^{m-1}_{i=0}\\lambda_i 2^i$, whose mapping can be done as follows:"
   ]
  },
  {
   "cell_type": "code",
   "execution_count": 24,
   "id": "4ccfe870",
   "metadata": {
    "execution": {
     "iopub.execute_input": "2023-12-06T02:08:59.265903Z",
     "iopub.status.busy": "2023-12-06T02:08:59.265466Z",
     "iopub.status.idle": "2023-12-06T02:08:59.271210Z",
     "shell.execute_reply": "2023-12-06T02:08:59.270604Z"
    },
    "tags": []
   },
   "outputs": [],
   "source": [
    "## mapping between register string to phases\n",
    "phases_counts = dict(\n",
    "    (sampled_state.state[\"phase_result\"] / 2**n_qpe, sampled_state.shots)\n",
    "    for sampled_state in res.parsed_counts\n",
    ")"
   ]
  },
  {
   "cell_type": "markdown",
   "id": "18bdd02d",
   "metadata": {},
   "source": [
    "Plotting the resulting histogram we see two phase values with high probability (however, both corresponds to the same amplitude $a$)"
   ]
  },
  {
   "cell_type": "code",
   "execution_count": 25,
   "id": "9b9396ed",
   "metadata": {
    "execution": {
     "iopub.execute_input": "2023-12-06T02:08:59.274300Z",
     "iopub.status.busy": "2023-12-06T02:08:59.273866Z",
     "iopub.status.idle": "2023-12-06T02:08:59.548456Z",
     "shell.execute_reply": "2023-12-06T02:08:59.547784Z"
    },
    "tags": []
   },
   "outputs": [
    {
     "name": "stdout",
     "output_type": "stream",
     "text": [
      "phase with max probability:  0.625\n"
     ]
    },
    {
     "data": {
      "image/png": "[encoded data removed]",
      "text/plain": [
       "<Figure size 640x480 with 1 Axes>"
      ]
     },
     "metadata": {},
     "output_type": "display_data"
    }
   ],
   "source": [
    "plt.bar(phases_counts.keys(), phases_counts.values(), width=0.1)\n",
    "plt.xticks(rotation=90)\n",
    "print(\"phase with max probability: \", max(phases_counts, key=phases_counts.get))"
   ]
  },
  {
   "cell_type": "markdown",
   "id": "95cbfa7a",
   "metadata": {},
   "source": [
    "Recall the relation in Eq. ([5](#mjx-eqn-5)), we can read the amplitude $a$ from the phase with max probability, and compare to the expected amplitude:"
   ]
  },
  {
   "cell_type": "code",
   "execution_count": 26,
   "id": "ed844c50",
   "metadata": {
    "execution": {
     "iopub.execute_input": "2023-12-06T02:08:59.551906Z",
     "iopub.status.busy": "2023-12-06T02:08:59.551510Z",
     "iopub.status.idle": "2023-12-06T02:08:59.556181Z",
     "shell.execute_reply": "2023-12-06T02:08:59.555589Z"
    },
    "tags": []
   },
   "outputs": [
    {
     "name": "stdout",
     "output_type": "stream",
     "text": [
      "measured amplitude:  0.8535533905932737\n",
      "exact amplitude:  0.8338393824876795\n"
     ]
    }
   ],
   "source": [
    "print(\n",
    "    \"measured amplitude: \",\n",
    "    np.sin(np.pi * max(phases_counts, key=phases_counts.get)) ** 2,\n",
    ")\n",
    "print(\n",
    "    \"exact amplitude: \",\n",
    "    sum(np.sin(0.5 * n / 2 + 0.4 / 2) ** 2 * probabilities[n] for n in range(2**3)),\n",
    ")"
   ]
  },
  {
   "cell_type": "markdown",
   "id": "746bb108",
   "metadata": {},
   "source": [
    "## References\n",
    "\n",
    "<a name='AE'>[1]</a>: [Brassard, G., Hoyer, P., Mosca, M., & Tapp, A. (2002). Quantum Amplitude Amplification and Estimation. Contemporary Mathematics, 305, 53-74.](https://arxiv.org/abs/quant-ph/0005055)\n",
    "\n",
    "<a name='SP'>[SP]</a>: [Classiq's StatePreparation built-in function](https://docs.classiq.io/latest/user-guide/builtin-functions/state-preparation/state-preparation/)\n",
    "\n",
    "<a name='LPR'>[LPR]</a>: [Classiq's LinearPauliRotations built-in function](https://docs.classiq.io/latest/user-guide/builtin-functions/linear-pauli-rotations/)\n",
    "\n",
    "<a name='QPE'>[QPE]</a>: [Classiq's QuantumPhaseEstimation built-in function](https://docs.classiq.io/latest/user-guide/builtin-functions/qpe/)\n"
   ]
  }
 ],
 "metadata": {
  "kernelspec": {
   "display_name": "Python 3 (ipykernel)",
   "language": "python",
   "name": "python3"
  },
  "language_info": {
   "codemirror_mode": {
    "name": "ipython",
    "version": 3
   },
   "file_extension": ".py",
   "mimetype": "text/x-python",
   "name": "python",
   "nbconvert_exporter": "python",
   "pygments_lexer": "ipython3",
   "version": "3.11.6"
  }
 },
 "nbformat": 4,
 "nbformat_minor": 5
}
